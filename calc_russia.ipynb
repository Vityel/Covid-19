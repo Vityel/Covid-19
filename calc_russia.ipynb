{
 "cells": [
  {
   "cell_type": "code",
   "execution_count": 1,
   "metadata": {},
   "outputs": [],
   "source": [
    "import pandas as pd\n",
    "import datetime\n",
    "import plotly.graph_objects as go\n",
    "import plotly.express as px\n",
    "import plotly.figure_factory as ff\n"
   ]
  },
  {
   "cell_type": "code",
   "execution_count": 2,
   "metadata": {},
   "outputs": [
    {
     "output_type": "execute_result",
     "data": {
      "text/plain": "             Date             Region  Confirmed  Recovered  Deaths  \\\n15273  2020-09-07   Ульяновская обл.      12745      10655     111   \n15274  2020-09-07   Хабаровский край      10519       8400      93   \n15275  2020-09-07            Хакасия       3583       3196      47   \n15276  2020-09-07        ХМАО – Югра      20121      19145     175   \n15277  2020-09-07   Челябинская обл.      14122       9817     108   \n15278  2020-09-07              Чечня       2307       1668      40   \n15279  2020-09-07            Чувашия       7983       6604      73   \n15280  2020-09-07       Чукотский АО        174        167       2   \n15281  2020-09-07  Ямало-Ненецкий АО      13739      13065      93   \n15282  2020-09-07   Ярославская обл.       7504       6915      38   \n\n       Day_deaths  Day_confirmed  Day_recovered  \n15273           0             97              0  \n15274           0             47             52  \n15275           0             27              0  \n15276           1             76            124  \n15277           0             59              1  \n15278           1              4              0  \n15279           0             30             22  \n15280           0              0              0  \n15281           0             44              5  \n15282           0             39              6  ",
      "text/html": "<div>\n<style scoped>\n    .dataframe tbody tr th:only-of-type {\n        vertical-align: middle;\n    }\n\n    .dataframe tbody tr th {\n        vertical-align: top;\n    }\n\n    .dataframe thead th {\n        text-align: right;\n    }\n</style>\n<table border=\"1\" class=\"dataframe\">\n  <thead>\n    <tr style=\"text-align: right;\">\n      <th></th>\n      <th>Date</th>\n      <th>Region</th>\n      <th>Confirmed</th>\n      <th>Recovered</th>\n      <th>Deaths</th>\n      <th>Day_deaths</th>\n      <th>Day_confirmed</th>\n      <th>Day_recovered</th>\n    </tr>\n  </thead>\n  <tbody>\n    <tr>\n      <th>15273</th>\n      <td>2020-09-07</td>\n      <td>Ульяновская обл.</td>\n      <td>12745</td>\n      <td>10655</td>\n      <td>111</td>\n      <td>0</td>\n      <td>97</td>\n      <td>0</td>\n    </tr>\n    <tr>\n      <th>15274</th>\n      <td>2020-09-07</td>\n      <td>Хабаровский край</td>\n      <td>10519</td>\n      <td>8400</td>\n      <td>93</td>\n      <td>0</td>\n      <td>47</td>\n      <td>52</td>\n    </tr>\n    <tr>\n      <th>15275</th>\n      <td>2020-09-07</td>\n      <td>Хакасия</td>\n      <td>3583</td>\n      <td>3196</td>\n      <td>47</td>\n      <td>0</td>\n      <td>27</td>\n      <td>0</td>\n    </tr>\n    <tr>\n      <th>15276</th>\n      <td>2020-09-07</td>\n      <td>ХМАО – Югра</td>\n      <td>20121</td>\n      <td>19145</td>\n      <td>175</td>\n      <td>1</td>\n      <td>76</td>\n      <td>124</td>\n    </tr>\n    <tr>\n      <th>15277</th>\n      <td>2020-09-07</td>\n      <td>Челябинская обл.</td>\n      <td>14122</td>\n      <td>9817</td>\n      <td>108</td>\n      <td>0</td>\n      <td>59</td>\n      <td>1</td>\n    </tr>\n    <tr>\n      <th>15278</th>\n      <td>2020-09-07</td>\n      <td>Чечня</td>\n      <td>2307</td>\n      <td>1668</td>\n      <td>40</td>\n      <td>1</td>\n      <td>4</td>\n      <td>0</td>\n    </tr>\n    <tr>\n      <th>15279</th>\n      <td>2020-09-07</td>\n      <td>Чувашия</td>\n      <td>7983</td>\n      <td>6604</td>\n      <td>73</td>\n      <td>0</td>\n      <td>30</td>\n      <td>22</td>\n    </tr>\n    <tr>\n      <th>15280</th>\n      <td>2020-09-07</td>\n      <td>Чукотский АО</td>\n      <td>174</td>\n      <td>167</td>\n      <td>2</td>\n      <td>0</td>\n      <td>0</td>\n      <td>0</td>\n    </tr>\n    <tr>\n      <th>15281</th>\n      <td>2020-09-07</td>\n      <td>Ямало-Ненецкий АО</td>\n      <td>13739</td>\n      <td>13065</td>\n      <td>93</td>\n      <td>0</td>\n      <td>44</td>\n      <td>5</td>\n    </tr>\n    <tr>\n      <th>15282</th>\n      <td>2020-09-07</td>\n      <td>Ярославская обл.</td>\n      <td>7504</td>\n      <td>6915</td>\n      <td>38</td>\n      <td>0</td>\n      <td>39</td>\n      <td>6</td>\n    </tr>\n  </tbody>\n</table>\n</div>"
     },
     "metadata": {},
     "execution_count": 2
    }
   ],
   "source": [
    "yandex_russia = pd.read_csv('yandex_russia.csv')\n",
    "\n",
    "yandex_russia.rename(columns = {'Дата':'Date','Регион':'Region','Заражений':'Confirmed','Выздоровлений':'Recovered',\n",
    "                               'Смертей':'Deaths','Смертей за день':'Day_deaths',\n",
    "                               'Заражений за день':'Day_confirmed','Выздоровлений за день':'Day_recovered'},inplace = True)\n",
    "\n",
    "\n",
    "for i in range(yandex_russia.shape[0]):\n",
    "    a= yandex_russia.Date[i].split('.')\n",
    "    yandex_russia.Date[i]=datetime.date(int(a[2]),int(a[1]),int(a[0]))\n",
    "    \n",
    "   \n",
    "yandex_russia.tail(10)"
   ]
  },
  {
   "cell_type": "code",
   "execution_count": 3,
   "metadata": {},
   "outputs": [
    {
     "output_type": "execute_result",
     "data": {
      "text/plain": "           Date  Region  Confirmed  Recovered  Deaths  Day_deaths  \\\n170  2020-08-29  Россия     985346     804383   17025         111   \n171  2020-08-30  Россия     990326     806982   17093          68   \n172  2020-08-31  Россия     995319     809387   17176          83   \n173  2020-09-01  Россия    1000048     815705   17299         123   \n174  2020-09-02  Россия    1005000     821169   17414         115   \n175  2020-09-03  Россия    1009995     826935   17528         114   \n176  2020-09-04  Россия    1015105     832747   17649         121   \n177  2020-09-05  Россия    1020310     838126   17759         110   \n178  2020-09-06  Россия    1025505     840949   17820          61   \n179  2020-09-07  Россия    1030690     843277   17871          51   \n\n     Day_confirmed  Day_recovered  \n170           4941           5917  \n171           4980           2599  \n172           4993           2405  \n173           4729           6318  \n174           4952           5464  \n175           4995           5766  \n176           5110           5812  \n177           5205           5379  \n178           5195           2823  \n179           5185           2328  ",
      "text/html": "<div>\n<style scoped>\n    .dataframe tbody tr th:only-of-type {\n        vertical-align: middle;\n    }\n\n    .dataframe tbody tr th {\n        vertical-align: top;\n    }\n\n    .dataframe thead th {\n        text-align: right;\n    }\n</style>\n<table border=\"1\" class=\"dataframe\">\n  <thead>\n    <tr style=\"text-align: right;\">\n      <th></th>\n      <th>Date</th>\n      <th>Region</th>\n      <th>Confirmed</th>\n      <th>Recovered</th>\n      <th>Deaths</th>\n      <th>Day_deaths</th>\n      <th>Day_confirmed</th>\n      <th>Day_recovered</th>\n    </tr>\n  </thead>\n  <tbody>\n    <tr>\n      <th>170</th>\n      <td>2020-08-29</td>\n      <td>Россия</td>\n      <td>985346</td>\n      <td>804383</td>\n      <td>17025</td>\n      <td>111</td>\n      <td>4941</td>\n      <td>5917</td>\n    </tr>\n    <tr>\n      <th>171</th>\n      <td>2020-08-30</td>\n      <td>Россия</td>\n      <td>990326</td>\n      <td>806982</td>\n      <td>17093</td>\n      <td>68</td>\n      <td>4980</td>\n      <td>2599</td>\n    </tr>\n    <tr>\n      <th>172</th>\n      <td>2020-08-31</td>\n      <td>Россия</td>\n      <td>995319</td>\n      <td>809387</td>\n      <td>17176</td>\n      <td>83</td>\n      <td>4993</td>\n      <td>2405</td>\n    </tr>\n    <tr>\n      <th>173</th>\n      <td>2020-09-01</td>\n      <td>Россия</td>\n      <td>1000048</td>\n      <td>815705</td>\n      <td>17299</td>\n      <td>123</td>\n      <td>4729</td>\n      <td>6318</td>\n    </tr>\n    <tr>\n      <th>174</th>\n      <td>2020-09-02</td>\n      <td>Россия</td>\n      <td>1005000</td>\n      <td>821169</td>\n      <td>17414</td>\n      <td>115</td>\n      <td>4952</td>\n      <td>5464</td>\n    </tr>\n    <tr>\n      <th>175</th>\n      <td>2020-09-03</td>\n      <td>Россия</td>\n      <td>1009995</td>\n      <td>826935</td>\n      <td>17528</td>\n      <td>114</td>\n      <td>4995</td>\n      <td>5766</td>\n    </tr>\n    <tr>\n      <th>176</th>\n      <td>2020-09-04</td>\n      <td>Россия</td>\n      <td>1015105</td>\n      <td>832747</td>\n      <td>17649</td>\n      <td>121</td>\n      <td>5110</td>\n      <td>5812</td>\n    </tr>\n    <tr>\n      <th>177</th>\n      <td>2020-09-05</td>\n      <td>Россия</td>\n      <td>1020310</td>\n      <td>838126</td>\n      <td>17759</td>\n      <td>110</td>\n      <td>5205</td>\n      <td>5379</td>\n    </tr>\n    <tr>\n      <th>178</th>\n      <td>2020-09-06</td>\n      <td>Россия</td>\n      <td>1025505</td>\n      <td>840949</td>\n      <td>17820</td>\n      <td>61</td>\n      <td>5195</td>\n      <td>2823</td>\n    </tr>\n    <tr>\n      <th>179</th>\n      <td>2020-09-07</td>\n      <td>Россия</td>\n      <td>1030690</td>\n      <td>843277</td>\n      <td>17871</td>\n      <td>51</td>\n      <td>5185</td>\n      <td>2328</td>\n    </tr>\n  </tbody>\n</table>\n</div>"
     },
     "metadata": {},
     "execution_count": 3
    }
   ],
   "source": [
    "df3_temp = yandex_russia.groupby('Date').sum()\n",
    "df3_temp['Region']='Россия'\n",
    "\n",
    "y5= pd.concat([yandex_russia,df3_temp.reset_index()],axis = 0)\n",
    "y5.reset_index()\n",
    "yandex_russia = y5\n",
    "yandex_russia.tail(10)"
   ]
  },
  {
   "cell_type": "code",
   "execution_count": 4,
   "metadata": {
    "tags": []
   },
   "outputs": [
    {
     "output_type": "stream",
     "name": "stdout",
     "text": "2020-09-07\nВыбран день:  2020-09-07\n"
    }
   ],
   "source": [
    "# dt = datetime.datetime.today()\n",
    "# today = datetime.date(dt.year,dt.month,dt.day)\n",
    "# ystday = datetime.date(today.year,today.month,today.day-1)\n",
    "# yst2day = datetime.date(today.year,today.month,today.day-2)\n",
    "# yst3day = datetime.date(today.year,today.month,today.day-3)\n",
    "\n",
    "# print(today)\n",
    "# print(ystday)\n",
    "# print(yst2day)\n",
    "# print(yst3day)\n",
    "myday = list(yandex_russia.tail(1).Date)[0]\n",
    "\n",
    "print(yandex_russia.iloc[-1,0])\n",
    "print('Выбран день: ',myday)"
   ]
  },
  {
   "cell_type": "code",
   "execution_count": 5,
   "metadata": {
    "tags": []
   },
   "outputs": [
    {
     "output_type": "stream",
     "name": "stdout",
     "text": "dict_items([(0, 'Адыгея'), (1, 'Алтай'), (2, 'Алтайский край'), (3, 'Амурская обл.'), (4, 'Архангельская обл.'), (5, 'Астраханская обл.'), (6, 'Башкортостан'), (7, 'Белгородская обл.'), (8, 'Брянская обл.'), (9, 'Бурятия'), (10, 'Владимирская обл.'), (11, 'Волгоградская обл.'), (12, 'Вологодская обл.'), (13, 'Воронежская обл.'), (14, 'Дагестан'), (15, 'Еврейская АО'), (16, 'Забайкальский край'), (17, 'Ивановская обл.'), (18, 'Ингушетия'), (19, 'Иркутская обл.'), (20, 'Кабардино-Балкария'), (21, 'Калининградская обл.'), (22, 'Калмыкия'), (23, 'Калужская обл.'), (24, 'Камчатский край'), (25, 'Карачаево-Черкессия'), (26, 'Карелия'), (27, 'Кемеровская обл.'), (28, 'Кировская обл.'), (29, 'Коми'), (30, 'Костромская обл.'), (31, 'Краснодарский край'), (32, 'Красноярский край'), (33, 'Крым'), (34, 'Курганская обл.'), (35, 'Курская обл.'), (36, 'Ленинградская обл.'), (37, 'Липецкая обл.'), (38, 'Магаданская обл.'), (39, 'Марий Эл'), (40, 'Мордовия'), (41, 'Москва'), (42, 'Московская обл.'), (43, 'Мурманская обл.'), (44, 'Ненецкий АО'), (45, 'Нижегородская обл.'), (46, 'Новгородская обл.'), (47, 'Новосибирская обл.'), (48, 'Омская обл.'), (49, 'Оренбургская обл.'), (50, 'Орловская обл.'), (51, 'Пензенская обл.'), (52, 'Пермский край'), (53, 'Приморский край'), (54, 'Псковская обл.'), (55, 'Россия'), (56, 'Ростовская обл.'), (57, 'Рязанская обл.'), (58, 'Самарская обл.'), (59, 'Санкт-Петербург'), (60, 'Саратовская обл.'), (61, 'Саха (Якутия)'), (62, 'Сахалинская обл.'), (63, 'Свердловская обл.'), (64, 'Севастополь'), (65, 'Северная Осетия'), (66, 'Смоленская обл.'), (67, 'Ставропольский край'), (68, 'Тамбовская обл.'), (69, 'Татарстан'), (70, 'Тверская обл.'), (71, 'Томская обл.'), (72, 'Тульская обл.'), (73, 'Тыва'), (74, 'Тюменская обл.'), (75, 'Удмуртия'), (76, 'Ульяновская обл.'), (77, 'ХМАО – Югра'), (78, 'Хабаровский край'), (79, 'Хакасия'), (80, 'Челябинская обл.'), (81, 'Чечня'), (82, 'Чувашия'), (83, 'Чукотский АО'), (84, 'Ямало-Ненецкий АО'), (85, 'Ярославская обл.')])\n"
    },
    {
     "output_type": "execute_result",
     "data": {
      "text/plain": "             Date  Confirmed  Recovered  Deaths  Day_deaths  Day_confirmed  \\\n15458  2020-09-03       7345       6731      38           1             37   \n15459  2020-09-04       7385       6815      38           0             40   \n15460  2020-09-05       7423       6894      38           0             38   \n15461  2020-09-06       7465       6909      38           0             42   \n15462  2020-09-07       7504       6915      38           0             39   \n\n       Day_recovered     Rt    Rt2  Rate_conf  Rate_ill            Region  \\\n15458             97  1.040  1.022          0         0  Ярославская обл.   \n15459             84  1.040  1.022          0         0  Ярославская обл.   \n15460             79  1.013  1.022          0         0  Ярославская обл.   \n15461             15  0.994  1.022          0         0  Ярославская обл.   \n15462              6  1.013  1.022          0         0  Ярославская обл.   \n\n       Remaining_ill  MA7_dayconfirmed  MA14_dayconfirmed  MA7_remaining_ill  \\\n15458            576         38.285714          38.214286         702.857143   \n15459            532         38.285714          38.428571         671.428571   \n15460            491         39.000000          38.428571         638.571429   \n15461            518         39.571429          38.571429         605.142857   \n15462            551         39.428571          38.571429         571.714286   \n\n       MA14_remaining_ill  Change_dayconf  Change_remill  \n15458          728.857143              -2            -61  \n15459          715.357143               3            -44  \n15460          699.000000              -2            -41  \n15461          681.857143               4             27  \n15462          666.000000              -3             33  ",
      "text/html": "<div>\n<style scoped>\n    .dataframe tbody tr th:only-of-type {\n        vertical-align: middle;\n    }\n\n    .dataframe tbody tr th {\n        vertical-align: top;\n    }\n\n    .dataframe thead th {\n        text-align: right;\n    }\n</style>\n<table border=\"1\" class=\"dataframe\">\n  <thead>\n    <tr style=\"text-align: right;\">\n      <th></th>\n      <th>Date</th>\n      <th>Confirmed</th>\n      <th>Recovered</th>\n      <th>Deaths</th>\n      <th>Day_deaths</th>\n      <th>Day_confirmed</th>\n      <th>Day_recovered</th>\n      <th>Rt</th>\n      <th>Rt2</th>\n      <th>Rate_conf</th>\n      <th>Rate_ill</th>\n      <th>Region</th>\n      <th>Remaining_ill</th>\n      <th>MA7_dayconfirmed</th>\n      <th>MA14_dayconfirmed</th>\n      <th>MA7_remaining_ill</th>\n      <th>MA14_remaining_ill</th>\n      <th>Change_dayconf</th>\n      <th>Change_remill</th>\n    </tr>\n  </thead>\n  <tbody>\n    <tr>\n      <th>15458</th>\n      <td>2020-09-03</td>\n      <td>7345</td>\n      <td>6731</td>\n      <td>38</td>\n      <td>1</td>\n      <td>37</td>\n      <td>97</td>\n      <td>1.040</td>\n      <td>1.022</td>\n      <td>0</td>\n      <td>0</td>\n      <td>Ярославская обл.</td>\n      <td>576</td>\n      <td>38.285714</td>\n      <td>38.214286</td>\n      <td>702.857143</td>\n      <td>728.857143</td>\n      <td>-2</td>\n      <td>-61</td>\n    </tr>\n    <tr>\n      <th>15459</th>\n      <td>2020-09-04</td>\n      <td>7385</td>\n      <td>6815</td>\n      <td>38</td>\n      <td>0</td>\n      <td>40</td>\n      <td>84</td>\n      <td>1.040</td>\n      <td>1.022</td>\n      <td>0</td>\n      <td>0</td>\n      <td>Ярославская обл.</td>\n      <td>532</td>\n      <td>38.285714</td>\n      <td>38.428571</td>\n      <td>671.428571</td>\n      <td>715.357143</td>\n      <td>3</td>\n      <td>-44</td>\n    </tr>\n    <tr>\n      <th>15460</th>\n      <td>2020-09-05</td>\n      <td>7423</td>\n      <td>6894</td>\n      <td>38</td>\n      <td>0</td>\n      <td>38</td>\n      <td>79</td>\n      <td>1.013</td>\n      <td>1.022</td>\n      <td>0</td>\n      <td>0</td>\n      <td>Ярославская обл.</td>\n      <td>491</td>\n      <td>39.000000</td>\n      <td>38.428571</td>\n      <td>638.571429</td>\n      <td>699.000000</td>\n      <td>-2</td>\n      <td>-41</td>\n    </tr>\n    <tr>\n      <th>15461</th>\n      <td>2020-09-06</td>\n      <td>7465</td>\n      <td>6909</td>\n      <td>38</td>\n      <td>0</td>\n      <td>42</td>\n      <td>15</td>\n      <td>0.994</td>\n      <td>1.022</td>\n      <td>0</td>\n      <td>0</td>\n      <td>Ярославская обл.</td>\n      <td>518</td>\n      <td>39.571429</td>\n      <td>38.571429</td>\n      <td>605.142857</td>\n      <td>681.857143</td>\n      <td>4</td>\n      <td>27</td>\n    </tr>\n    <tr>\n      <th>15462</th>\n      <td>2020-09-07</td>\n      <td>7504</td>\n      <td>6915</td>\n      <td>38</td>\n      <td>0</td>\n      <td>39</td>\n      <td>6</td>\n      <td>1.013</td>\n      <td>1.022</td>\n      <td>0</td>\n      <td>0</td>\n      <td>Ярославская обл.</td>\n      <td>551</td>\n      <td>39.428571</td>\n      <td>38.571429</td>\n      <td>571.714286</td>\n      <td>666.000000</td>\n      <td>-3</td>\n      <td>33</td>\n    </tr>\n  </tbody>\n</table>\n</div>"
     },
     "metadata": {},
     "execution_count": 5
    }
   ],
   "source": [
    "X = pd.DataFrame()\n",
    "regions_dict = {}\n",
    "yandex_russia['Rt'] = 1\n",
    "yandex_russia['Rt2'] = 1\n",
    "yandex_russia['Rate_conf'] = 0\n",
    "yandex_russia['Rate_ill'] = 0\n",
    "\n",
    "temp_df = yandex_russia.groupby(['Region','Date']).sum()\n",
    "\n",
    "# Ниже enumerate  для составления словаря из имен регионов {i:j} , для расчетов можно было использовать только j\n",
    "\n",
    "for i,j in enumerate(temp_df.index.get_level_values(0).unique()):\n",
    "    temp_df2 =  temp_df.loc[j]\n",
    "    temp1 = temp_df2['Day_confirmed'].rolling(4).sum()/(temp_df2[\"Day_confirmed\"].rolling(8).sum()-\n",
    "\n",
    "                                                              temp_df2[\"Day_confirmed\"].rolling(4).sum())\n",
    "    temp2 = temp_df2['Confirmed'].rolling(4).sum()/(temp_df2['Confirmed'].rolling(8).sum()-\n",
    "\n",
    "                                                              temp_df2['Confirmed'].rolling(4).sum())\n",
    "    temp_df2['Rt'] = round(temp1,3)\n",
    "    temp_df2['Rt2'] = round(temp2,3)\n",
    "    temp_df2['Region'] = j\n",
    "    temp_df2['Remaining_ill']=temp_df2['Confirmed']-temp_df2['Recovered']-temp_df2['Deaths']\n",
    "    temp_df2['MA7_dayconfirmed']=temp_df2['Day_confirmed'].rolling(window=7).mean()\n",
    "    temp_df2['MA14_dayconfirmed']=temp_df2['Day_confirmed'].rolling(window=14).mean()\n",
    "    temp_df2['MA7_remaining_ill']=temp_df2['Remaining_ill'].rolling(window=7).mean()\n",
    "    temp_df2['MA14_remaining_ill']=temp_df2['Remaining_ill'].rolling(window=14).mean()\n",
    "    \n",
    "    temp_df2['Change_dayconf'] = 0\n",
    "    for k in range(1,temp_df2.shape[0]):\n",
    "        temp_df2['Change_dayconf'].iloc[k]=temp_df2['Day_confirmed'].iloc[k]-temp_df2['Day_confirmed'].iloc[k-1]\n",
    "    temp_df2['Change_remill'] = 0\n",
    "    for k in range(1,temp_df2.shape[0]):\n",
    "        temp_df2['Change_remill'].iloc[k]=temp_df2['Remaining_ill'].iloc[k]-temp_df2['Remaining_ill'].iloc[k-1]\n",
    "    \n",
    "    \n",
    "\n",
    "   #Генератор DF  на каждый регион(сидит в цикле):\n",
    "   # globals()['x' + str(i)] = temp_df2.reset_index()\n",
    "    \n",
    "    X = pd.concat([X,temp_df2.reset_index()],axis = 0)\n",
    "    regions_dict[i]=j\n",
    "    \n",
    "print(regions_dict.items())\n",
    "    \n",
    "X = X.reset_index(drop=True)\n",
    "X.tail()\n"
   ]
  },
  {
   "cell_type": "code",
   "execution_count": 6,
   "metadata": {
    "tags": []
   },
   "outputs": [
    {
     "output_type": "stream",
     "name": "stdout",
     "text": "Confirmed  Remaining_ill\nDate                                \n2020-09-06    1025505         166736\n2020-09-07    1030690         169542\n15463\n(15463, 19)\n2020-03-12\n"
    }
   ],
   "source": [
    "mask = X.Region == 'Россия'\n",
    "temp_df = X[mask][['Date','Confirmed','Remaining_ill']]\n",
    "temp_df.index = temp_df.Date\n",
    "temp_df.drop(columns =['Date'], inplace = True)\n",
    "print(temp_df.tail(2))\n",
    "# print(temp_df.index.get_level_values(0))\n",
    "# temp_df.loc[datetime.date(2020,6,15),'Россия'].Confirmed\n",
    "# for i in temp_df.index.get_level_values(0).unique()[-2:]:\n",
    "#     print(temp_df.loc[i,'Россия'].Confirmed)\n",
    "rus_date = list(temp_df.index)\n",
    "rus_conf = list(temp_df.Confirmed)\n",
    "rus_ill = list(temp_df.Remaining_ill)\n",
    "rus_dict_conf = dict(zip(rus_date,rus_conf))\n",
    "rus_dict_ill = dict(zip(rus_date,rus_ill))\n",
    "\n",
    "print(len(X))\n",
    "print(X.shape)\n",
    "print(X.loc[0,'Date'])\n",
    "for i in range(len(X)):\n",
    "    X.loc[i,'Rate_conf']=100*X.loc[i,'Confirmed']/rus_dict_conf.get(X.loc[i,'Date'])\n",
    "    X.loc[i,'Rate_ill']=100*X.loc[i,'Remaining_ill']/rus_dict_ill.get(X.loc[i,'Date'])\n"
   ]
  },
  {
   "cell_type": "code",
   "execution_count": 7,
   "metadata": {},
   "outputs": [
    {
     "output_type": "execute_result",
     "data": {
      "text/plain": "             Date  Confirmed  Region  Rate_conf  Rate_ill\n10048  2020-08-19     937321  Россия      100.0     100.0\n10049  2020-08-20     942106  Россия      100.0     100.0\n10050  2020-08-21     946976  Россия      100.0     100.0\n10051  2020-08-22     951897  Россия      100.0     100.0\n10052  2020-08-23     956749  Россия      100.0     100.0\n10053  2020-08-24     961493  Россия      100.0     100.0\n10054  2020-08-25     966189  Россия      100.0     100.0\n10055  2020-08-26     970865  Россия      100.0     100.0\n10056  2020-08-27     975576  Россия      100.0     100.0\n10057  2020-08-28     980405  Россия      100.0     100.0\n10058  2020-08-29     985346  Россия      100.0     100.0\n10059  2020-08-30     990326  Россия      100.0     100.0\n10060  2020-08-31     995319  Россия      100.0     100.0\n10061  2020-09-01    1000048  Россия      100.0     100.0\n10062  2020-09-02    1005000  Россия      100.0     100.0\n10063  2020-09-03    1009995  Россия      100.0     100.0\n10064  2020-09-04    1015105  Россия      100.0     100.0\n10065  2020-09-05    1020310  Россия      100.0     100.0\n10066  2020-09-06    1025505  Россия      100.0     100.0\n10067  2020-09-07    1030690  Россия      100.0     100.0",
      "text/html": "<div>\n<style scoped>\n    .dataframe tbody tr th:only-of-type {\n        vertical-align: middle;\n    }\n\n    .dataframe tbody tr th {\n        vertical-align: top;\n    }\n\n    .dataframe thead th {\n        text-align: right;\n    }\n</style>\n<table border=\"1\" class=\"dataframe\">\n  <thead>\n    <tr style=\"text-align: right;\">\n      <th></th>\n      <th>Date</th>\n      <th>Confirmed</th>\n      <th>Region</th>\n      <th>Rate_conf</th>\n      <th>Rate_ill</th>\n    </tr>\n  </thead>\n  <tbody>\n    <tr>\n      <th>10048</th>\n      <td>2020-08-19</td>\n      <td>937321</td>\n      <td>Россия</td>\n      <td>100.0</td>\n      <td>100.0</td>\n    </tr>\n    <tr>\n      <th>10049</th>\n      <td>2020-08-20</td>\n      <td>942106</td>\n      <td>Россия</td>\n      <td>100.0</td>\n      <td>100.0</td>\n    </tr>\n    <tr>\n      <th>10050</th>\n      <td>2020-08-21</td>\n      <td>946976</td>\n      <td>Россия</td>\n      <td>100.0</td>\n      <td>100.0</td>\n    </tr>\n    <tr>\n      <th>10051</th>\n      <td>2020-08-22</td>\n      <td>951897</td>\n      <td>Россия</td>\n      <td>100.0</td>\n      <td>100.0</td>\n    </tr>\n    <tr>\n      <th>10052</th>\n      <td>2020-08-23</td>\n      <td>956749</td>\n      <td>Россия</td>\n      <td>100.0</td>\n      <td>100.0</td>\n    </tr>\n    <tr>\n      <th>10053</th>\n      <td>2020-08-24</td>\n      <td>961493</td>\n      <td>Россия</td>\n      <td>100.0</td>\n      <td>100.0</td>\n    </tr>\n    <tr>\n      <th>10054</th>\n      <td>2020-08-25</td>\n      <td>966189</td>\n      <td>Россия</td>\n      <td>100.0</td>\n      <td>100.0</td>\n    </tr>\n    <tr>\n      <th>10055</th>\n      <td>2020-08-26</td>\n      <td>970865</td>\n      <td>Россия</td>\n      <td>100.0</td>\n      <td>100.0</td>\n    </tr>\n    <tr>\n      <th>10056</th>\n      <td>2020-08-27</td>\n      <td>975576</td>\n      <td>Россия</td>\n      <td>100.0</td>\n      <td>100.0</td>\n    </tr>\n    <tr>\n      <th>10057</th>\n      <td>2020-08-28</td>\n      <td>980405</td>\n      <td>Россия</td>\n      <td>100.0</td>\n      <td>100.0</td>\n    </tr>\n    <tr>\n      <th>10058</th>\n      <td>2020-08-29</td>\n      <td>985346</td>\n      <td>Россия</td>\n      <td>100.0</td>\n      <td>100.0</td>\n    </tr>\n    <tr>\n      <th>10059</th>\n      <td>2020-08-30</td>\n      <td>990326</td>\n      <td>Россия</td>\n      <td>100.0</td>\n      <td>100.0</td>\n    </tr>\n    <tr>\n      <th>10060</th>\n      <td>2020-08-31</td>\n      <td>995319</td>\n      <td>Россия</td>\n      <td>100.0</td>\n      <td>100.0</td>\n    </tr>\n    <tr>\n      <th>10061</th>\n      <td>2020-09-01</td>\n      <td>1000048</td>\n      <td>Россия</td>\n      <td>100.0</td>\n      <td>100.0</td>\n    </tr>\n    <tr>\n      <th>10062</th>\n      <td>2020-09-02</td>\n      <td>1005000</td>\n      <td>Россия</td>\n      <td>100.0</td>\n      <td>100.0</td>\n    </tr>\n    <tr>\n      <th>10063</th>\n      <td>2020-09-03</td>\n      <td>1009995</td>\n      <td>Россия</td>\n      <td>100.0</td>\n      <td>100.0</td>\n    </tr>\n    <tr>\n      <th>10064</th>\n      <td>2020-09-04</td>\n      <td>1015105</td>\n      <td>Россия</td>\n      <td>100.0</td>\n      <td>100.0</td>\n    </tr>\n    <tr>\n      <th>10065</th>\n      <td>2020-09-05</td>\n      <td>1020310</td>\n      <td>Россия</td>\n      <td>100.0</td>\n      <td>100.0</td>\n    </tr>\n    <tr>\n      <th>10066</th>\n      <td>2020-09-06</td>\n      <td>1025505</td>\n      <td>Россия</td>\n      <td>100.0</td>\n      <td>100.0</td>\n    </tr>\n    <tr>\n      <th>10067</th>\n      <td>2020-09-07</td>\n      <td>1030690</td>\n      <td>Россия</td>\n      <td>100.0</td>\n      <td>100.0</td>\n    </tr>\n  </tbody>\n</table>\n</div>"
     },
     "metadata": {},
     "execution_count": 7
    }
   ],
   "source": [
    "mask = (X.Date>=datetime.date(2020,6,13))&(X.Region.isin(['Москва','Россия']))\n",
    "\n",
    "temp=X[mask]\n",
    "temp[['Date','Confirmed','Region','Rate_conf','Rate_ill']].tail(20)"
   ]
  },
  {
   "cell_type": "code",
   "execution_count": 8,
   "metadata": {},
   "outputs": [],
   "source": [
    "# russia_regions = pd.read_csv('regions-info.csv')\n",
    "\n",
    "# russia_regions[(russia_regions.Region =='Московская область')|(russia_regions.Region =='Москва')|\n",
    "#               (russia_regions.Region =='Санкт-Петербург')].tail()"
   ]
  },
  {
   "cell_type": "code",
   "execution_count": 9,
   "metadata": {},
   "outputs": [],
   "source": [
    "X.to_csv('X.csv',index=False)\n"
   ]
  },
  {
   "cell_type": "code",
   "execution_count": null,
   "metadata": {},
   "outputs": [],
   "source": []
  }
 ],
 "metadata": {
  "kernelspec": {
   "display_name": "Python 3.8.3 64-bit ('covid': venv)",
   "language": "python",
   "name": "python_defaultSpec_1599489880808"
  },
  "language_info": {
   "codemirror_mode": {
    "name": "ipython",
    "version": 3
   },
   "file_extension": ".py",
   "mimetype": "text/x-python",
   "name": "python",
   "nbconvert_exporter": "python",
   "pygments_lexer": "ipython3",
   "version": "3.8.3-final"
  }
 },
 "nbformat": 4,
 "nbformat_minor": 4
}