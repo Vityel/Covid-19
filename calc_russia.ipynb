{
 "cells": [
  {
   "cell_type": "code",
   "execution_count": 1,
   "metadata": {},
   "outputs": [],
   "source": [
    "import pandas as pd\n",
    "import datetime\n",
    "import plotly.graph_objects as go\n",
    "import plotly.express as px\n",
    "import plotly.figure_factory as ff\n"
   ]
  },
  {
   "cell_type": "code",
   "execution_count": 2,
   "metadata": {},
   "outputs": [
    {
     "output_type": "execute_result",
     "data": {
      "text/plain": "             Date             Region  Confirmed  Recovered  Deaths  \\\n14763  2020-09-01   Ульяновская обл.      12164       9832     101   \n14764  2020-09-01   Хабаровский край      10150       8002      91   \n14765  2020-09-01            Хакасия       3434       3145      43   \n14766  2020-09-01        ХМАО – Югра      19676      18491     167   \n14767  2020-09-01   Челябинская обл.      13753       9462     104   \n14768  2020-09-01              Чечня       2274       1607      38   \n14769  2020-09-01            Чувашия       7803       6449      70   \n14770  2020-09-01       Чукотский АО        172        164       2   \n14771  2020-09-01  Ямало-Ненецкий АО      13457      13003      90   \n14772  2020-09-01   Ярославская обл.       7269       6535      37   \n\n       Day_deaths  Day_confirmed  Day_recovered  \n14763           0             92            323  \n14764           1             49             57  \n14765           1             19             27  \n14766           1             67            103  \n14767           0             71             73  \n14768           0              4             11  \n14769           0             29             23  \n14770           0              1              0  \n14771           0             46             11  \n14772           1             41            128  ",
      "text/html": "<div>\n<style scoped>\n    .dataframe tbody tr th:only-of-type {\n        vertical-align: middle;\n    }\n\n    .dataframe tbody tr th {\n        vertical-align: top;\n    }\n\n    .dataframe thead th {\n        text-align: right;\n    }\n</style>\n<table border=\"1\" class=\"dataframe\">\n  <thead>\n    <tr style=\"text-align: right;\">\n      <th></th>\n      <th>Date</th>\n      <th>Region</th>\n      <th>Confirmed</th>\n      <th>Recovered</th>\n      <th>Deaths</th>\n      <th>Day_deaths</th>\n      <th>Day_confirmed</th>\n      <th>Day_recovered</th>\n    </tr>\n  </thead>\n  <tbody>\n    <tr>\n      <th>14763</th>\n      <td>2020-09-01</td>\n      <td>Ульяновская обл.</td>\n      <td>12164</td>\n      <td>9832</td>\n      <td>101</td>\n      <td>0</td>\n      <td>92</td>\n      <td>323</td>\n    </tr>\n    <tr>\n      <th>14764</th>\n      <td>2020-09-01</td>\n      <td>Хабаровский край</td>\n      <td>10150</td>\n      <td>8002</td>\n      <td>91</td>\n      <td>1</td>\n      <td>49</td>\n      <td>57</td>\n    </tr>\n    <tr>\n      <th>14765</th>\n      <td>2020-09-01</td>\n      <td>Хакасия</td>\n      <td>3434</td>\n      <td>3145</td>\n      <td>43</td>\n      <td>1</td>\n      <td>19</td>\n      <td>27</td>\n    </tr>\n    <tr>\n      <th>14766</th>\n      <td>2020-09-01</td>\n      <td>ХМАО – Югра</td>\n      <td>19676</td>\n      <td>18491</td>\n      <td>167</td>\n      <td>1</td>\n      <td>67</td>\n      <td>103</td>\n    </tr>\n    <tr>\n      <th>14767</th>\n      <td>2020-09-01</td>\n      <td>Челябинская обл.</td>\n      <td>13753</td>\n      <td>9462</td>\n      <td>104</td>\n      <td>0</td>\n      <td>71</td>\n      <td>73</td>\n    </tr>\n    <tr>\n      <th>14768</th>\n      <td>2020-09-01</td>\n      <td>Чечня</td>\n      <td>2274</td>\n      <td>1607</td>\n      <td>38</td>\n      <td>0</td>\n      <td>4</td>\n      <td>11</td>\n    </tr>\n    <tr>\n      <th>14769</th>\n      <td>2020-09-01</td>\n      <td>Чувашия</td>\n      <td>7803</td>\n      <td>6449</td>\n      <td>70</td>\n      <td>0</td>\n      <td>29</td>\n      <td>23</td>\n    </tr>\n    <tr>\n      <th>14770</th>\n      <td>2020-09-01</td>\n      <td>Чукотский АО</td>\n      <td>172</td>\n      <td>164</td>\n      <td>2</td>\n      <td>0</td>\n      <td>1</td>\n      <td>0</td>\n    </tr>\n    <tr>\n      <th>14771</th>\n      <td>2020-09-01</td>\n      <td>Ямало-Ненецкий АО</td>\n      <td>13457</td>\n      <td>13003</td>\n      <td>90</td>\n      <td>0</td>\n      <td>46</td>\n      <td>11</td>\n    </tr>\n    <tr>\n      <th>14772</th>\n      <td>2020-09-01</td>\n      <td>Ярославская обл.</td>\n      <td>7269</td>\n      <td>6535</td>\n      <td>37</td>\n      <td>1</td>\n      <td>41</td>\n      <td>128</td>\n    </tr>\n  </tbody>\n</table>\n</div>"
     },
     "metadata": {},
     "execution_count": 2
    }
   ],
   "source": [
    "yandex_russia = pd.read_csv('yandex_russia.csv')\n",
    "\n",
    "yandex_russia.rename(columns = {'Дата':'Date','Регион':'Region','Заражений':'Confirmed','Выздоровлений':'Recovered',\n",
    "                               'Смертей':'Deaths','Смертей за день':'Day_deaths',\n",
    "                               'Заражений за день':'Day_confirmed','Выздоровлений за день':'Day_recovered'},inplace = True)\n",
    "\n",
    "\n",
    "for i in range(yandex_russia.shape[0]):\n",
    "    a= yandex_russia.Date[i].split('.')\n",
    "    yandex_russia.Date[i]=datetime.date(int(a[2]),int(a[1]),int(a[0]))\n",
    "    \n",
    "   \n",
    "yandex_russia.tail(10)"
   ]
  },
  {
   "cell_type": "code",
   "execution_count": 3,
   "metadata": {},
   "outputs": [
    {
     "output_type": "execute_result",
     "data": {
      "text/plain": "           Date  Region  Confirmed  Recovered  Deaths  Day_deaths  \\\n164  2020-08-23  Россия     956749     770639   16383          73   \n165  2020-08-24  Россия     961493     773095   16448          65   \n166  2020-08-25  Россия     966189     779747   16568         120   \n167  2020-08-26  Россия     970865     786150   16683         115   \n168  2020-08-27  Россия     975576     792561   16804         121   \n169  2020-08-28  Россия     980405     798466   16914         110   \n170  2020-08-29  Россия     985346     804383   17025         111   \n171  2020-08-30  Россия     990326     806982   17093          68   \n172  2020-08-31  Россия     995319     809387   17176          83   \n173  2020-09-01  Россия    1000048     815705   17299         123   \n\n     Day_confirmed  Day_recovered  \n164           4852           3162  \n165           4744           2456  \n166           4696           6652  \n167           4676           6403  \n168           4711           6411  \n169           4829           5905  \n170           4941           5917  \n171           4980           2599  \n172           4993           2405  \n173           4729           6318  ",
      "text/html": "<div>\n<style scoped>\n    .dataframe tbody tr th:only-of-type {\n        vertical-align: middle;\n    }\n\n    .dataframe tbody tr th {\n        vertical-align: top;\n    }\n\n    .dataframe thead th {\n        text-align: right;\n    }\n</style>\n<table border=\"1\" class=\"dataframe\">\n  <thead>\n    <tr style=\"text-align: right;\">\n      <th></th>\n      <th>Date</th>\n      <th>Region</th>\n      <th>Confirmed</th>\n      <th>Recovered</th>\n      <th>Deaths</th>\n      <th>Day_deaths</th>\n      <th>Day_confirmed</th>\n      <th>Day_recovered</th>\n    </tr>\n  </thead>\n  <tbody>\n    <tr>\n      <th>164</th>\n      <td>2020-08-23</td>\n      <td>Россия</td>\n      <td>956749</td>\n      <td>770639</td>\n      <td>16383</td>\n      <td>73</td>\n      <td>4852</td>\n      <td>3162</td>\n    </tr>\n    <tr>\n      <th>165</th>\n      <td>2020-08-24</td>\n      <td>Россия</td>\n      <td>961493</td>\n      <td>773095</td>\n      <td>16448</td>\n      <td>65</td>\n      <td>4744</td>\n      <td>2456</td>\n    </tr>\n    <tr>\n      <th>166</th>\n      <td>2020-08-25</td>\n      <td>Россия</td>\n      <td>966189</td>\n      <td>779747</td>\n      <td>16568</td>\n      <td>120</td>\n      <td>4696</td>\n      <td>6652</td>\n    </tr>\n    <tr>\n      <th>167</th>\n      <td>2020-08-26</td>\n      <td>Россия</td>\n      <td>970865</td>\n      <td>786150</td>\n      <td>16683</td>\n      <td>115</td>\n      <td>4676</td>\n      <td>6403</td>\n    </tr>\n    <tr>\n      <th>168</th>\n      <td>2020-08-27</td>\n      <td>Россия</td>\n      <td>975576</td>\n      <td>792561</td>\n      <td>16804</td>\n      <td>121</td>\n      <td>4711</td>\n      <td>6411</td>\n    </tr>\n    <tr>\n      <th>169</th>\n      <td>2020-08-28</td>\n      <td>Россия</td>\n      <td>980405</td>\n      <td>798466</td>\n      <td>16914</td>\n      <td>110</td>\n      <td>4829</td>\n      <td>5905</td>\n    </tr>\n    <tr>\n      <th>170</th>\n      <td>2020-08-29</td>\n      <td>Россия</td>\n      <td>985346</td>\n      <td>804383</td>\n      <td>17025</td>\n      <td>111</td>\n      <td>4941</td>\n      <td>5917</td>\n    </tr>\n    <tr>\n      <th>171</th>\n      <td>2020-08-30</td>\n      <td>Россия</td>\n      <td>990326</td>\n      <td>806982</td>\n      <td>17093</td>\n      <td>68</td>\n      <td>4980</td>\n      <td>2599</td>\n    </tr>\n    <tr>\n      <th>172</th>\n      <td>2020-08-31</td>\n      <td>Россия</td>\n      <td>995319</td>\n      <td>809387</td>\n      <td>17176</td>\n      <td>83</td>\n      <td>4993</td>\n      <td>2405</td>\n    </tr>\n    <tr>\n      <th>173</th>\n      <td>2020-09-01</td>\n      <td>Россия</td>\n      <td>1000048</td>\n      <td>815705</td>\n      <td>17299</td>\n      <td>123</td>\n      <td>4729</td>\n      <td>6318</td>\n    </tr>\n  </tbody>\n</table>\n</div>"
     },
     "metadata": {},
     "execution_count": 3
    }
   ],
   "source": [
    "df3_temp = yandex_russia.groupby('Date').sum()\n",
    "df3_temp['Region']='Россия'\n",
    "\n",
    "y5= pd.concat([yandex_russia,df3_temp.reset_index()],axis = 0)\n",
    "y5.reset_index()\n",
    "yandex_russia = y5\n",
    "yandex_russia.tail(10)"
   ]
  },
  {
   "cell_type": "code",
   "execution_count": 4,
   "metadata": {
    "tags": []
   },
   "outputs": [
    {
     "output_type": "stream",
     "name": "stdout",
     "text": "2020-09-01\nВыбран день:  2020-09-01\n"
    }
   ],
   "source": [
    "# dt = datetime.datetime.today()\n",
    "# today = datetime.date(dt.year,dt.month,dt.day)\n",
    "# ystday = datetime.date(today.year,today.month,today.day-1)\n",
    "# yst2day = datetime.date(today.year,today.month,today.day-2)\n",
    "# yst3day = datetime.date(today.year,today.month,today.day-3)\n",
    "\n",
    "# print(today)\n",
    "# print(ystday)\n",
    "# print(yst2day)\n",
    "# print(yst3day)\n",
    "myday = list(yandex_russia.tail(1).Date)[0]\n",
    "\n",
    "print(yandex_russia.iloc[-1,0])\n",
    "print('Выбран день: ',myday)"
   ]
  },
  {
   "cell_type": "code",
   "execution_count": 5,
   "metadata": {
    "tags": []
   },
   "outputs": [
    {
     "output_type": "stream",
     "name": "stdout",
     "text": "dict_items([(0, 'Адыгея'), (1, 'Алтай'), (2, 'Алтайский край'), (3, 'Амурская обл.'), (4, 'Архангельская обл.'), (5, 'Астраханская обл.'), (6, 'Башкортостан'), (7, 'Белгородская обл.'), (8, 'Брянская обл.'), (9, 'Бурятия'), (10, 'Владимирская обл.'), (11, 'Волгоградская обл.'), (12, 'Вологодская обл.'), (13, 'Воронежская обл.'), (14, 'Дагестан'), (15, 'Еврейская АО'), (16, 'Забайкальский край'), (17, 'Ивановская обл.'), (18, 'Ингушетия'), (19, 'Иркутская обл.'), (20, 'Кабардино-Балкария'), (21, 'Калининградская обл.'), (22, 'Калмыкия'), (23, 'Калужская обл.'), (24, 'Камчатский край'), (25, 'Карачаево-Черкессия'), (26, 'Карелия'), (27, 'Кемеровская обл.'), (28, 'Кировская обл.'), (29, 'Коми'), (30, 'Костромская обл.'), (31, 'Краснодарский край'), (32, 'Красноярский край'), (33, 'Крым'), (34, 'Курганская обл.'), (35, 'Курская обл.'), (36, 'Ленинградская обл.'), (37, 'Липецкая обл.'), (38, 'Магаданская обл.'), (39, 'Марий Эл'), (40, 'Мордовия'), (41, 'Москва'), (42, 'Московская обл.'), (43, 'Мурманская обл.'), (44, 'Ненецкий АО'), (45, 'Нижегородская обл.'), (46, 'Новгородская обл.'), (47, 'Новосибирская обл.'), (48, 'Омская обл.'), (49, 'Оренбургская обл.'), (50, 'Орловская обл.'), (51, 'Пензенская обл.'), (52, 'Пермский край'), (53, 'Приморский край'), (54, 'Псковская обл.'), (55, 'Россия'), (56, 'Ростовская обл.'), (57, 'Рязанская обл.'), (58, 'Самарская обл.'), (59, 'Санкт-Петербург'), (60, 'Саратовская обл.'), (61, 'Саха (Якутия)'), (62, 'Сахалинская обл.'), (63, 'Свердловская обл.'), (64, 'Севастополь'), (65, 'Северная Осетия'), (66, 'Смоленская обл.'), (67, 'Ставропольский край'), (68, 'Тамбовская обл.'), (69, 'Татарстан'), (70, 'Тверская обл.'), (71, 'Томская обл.'), (72, 'Тульская обл.'), (73, 'Тыва'), (74, 'Тюменская обл.'), (75, 'Удмуртия'), (76, 'Ульяновская обл.'), (77, 'ХМАО – Югра'), (78, 'Хабаровский край'), (79, 'Хакасия'), (80, 'Челябинская обл.'), (81, 'Чечня'), (82, 'Чувашия'), (83, 'Чукотский АО'), (84, 'Ямало-Ненецкий АО'), (85, 'Ярославская обл.')])\n"
    },
    {
     "output_type": "execute_result",
     "data": {
      "text/plain": "             Date  Confirmed  Recovered  Deaths  Day_deaths  Day_confirmed  \\\n14942  2020-08-28       7117       6330      35           2             40   \n14943  2020-08-29       7150       6394      35           0             33   \n14944  2020-08-30       7188       6401      35           0             38   \n14945  2020-08-31       7228       6407      36           1             40   \n14946  2020-09-01       7269       6535      37           1             41   \n\n       Day_recovered     Rt    Rt2  Rate_conf  Rate_ill            Region  \\\n14942             53  0.994  1.022          0         0  Ярославская обл.   \n14943             64  0.993  1.022          0         0  Ярославская обл.   \n14944              7  0.993  1.022          0         0  Ярославская обл.   \n14945              6  0.993  1.022          0         0  Ярославская обл.   \n14946            128  0.993  1.021          0         0  Ярославская обл.   \n\n       Remaining_ill  MA7_dayconfirmed  MA14_dayconfirmed  MA7_remaining_ill  \\\n14942            752         38.571429          38.500000         759.285714   \n14943            721         37.857143          38.142857         759.428571   \n14944            752         37.571429          38.071429         758.571429   \n14945            785         37.714286          38.071429         760.285714   \n14946            697         38.571429          38.357143         749.857143   \n\n       MA14_remaining_ill  Change_dayconf  Change_remill  \n14942          728.428571               0            -15  \n14943          734.071429              -7            -31  \n14944          739.357143               5             31  \n14945          744.357143               2             33  \n14946          744.071429               1            -88  ",
      "text/html": "<div>\n<style scoped>\n    .dataframe tbody tr th:only-of-type {\n        vertical-align: middle;\n    }\n\n    .dataframe tbody tr th {\n        vertical-align: top;\n    }\n\n    .dataframe thead th {\n        text-align: right;\n    }\n</style>\n<table border=\"1\" class=\"dataframe\">\n  <thead>\n    <tr style=\"text-align: right;\">\n      <th></th>\n      <th>Date</th>\n      <th>Confirmed</th>\n      <th>Recovered</th>\n      <th>Deaths</th>\n      <th>Day_deaths</th>\n      <th>Day_confirmed</th>\n      <th>Day_recovered</th>\n      <th>Rt</th>\n      <th>Rt2</th>\n      <th>Rate_conf</th>\n      <th>Rate_ill</th>\n      <th>Region</th>\n      <th>Remaining_ill</th>\n      <th>MA7_dayconfirmed</th>\n      <th>MA14_dayconfirmed</th>\n      <th>MA7_remaining_ill</th>\n      <th>MA14_remaining_ill</th>\n      <th>Change_dayconf</th>\n      <th>Change_remill</th>\n    </tr>\n  </thead>\n  <tbody>\n    <tr>\n      <th>14942</th>\n      <td>2020-08-28</td>\n      <td>7117</td>\n      <td>6330</td>\n      <td>35</td>\n      <td>2</td>\n      <td>40</td>\n      <td>53</td>\n      <td>0.994</td>\n      <td>1.022</td>\n      <td>0</td>\n      <td>0</td>\n      <td>Ярославская обл.</td>\n      <td>752</td>\n      <td>38.571429</td>\n      <td>38.500000</td>\n      <td>759.285714</td>\n      <td>728.428571</td>\n      <td>0</td>\n      <td>-15</td>\n    </tr>\n    <tr>\n      <th>14943</th>\n      <td>2020-08-29</td>\n      <td>7150</td>\n      <td>6394</td>\n      <td>35</td>\n      <td>0</td>\n      <td>33</td>\n      <td>64</td>\n      <td>0.993</td>\n      <td>1.022</td>\n      <td>0</td>\n      <td>0</td>\n      <td>Ярославская обл.</td>\n      <td>721</td>\n      <td>37.857143</td>\n      <td>38.142857</td>\n      <td>759.428571</td>\n      <td>734.071429</td>\n      <td>-7</td>\n      <td>-31</td>\n    </tr>\n    <tr>\n      <th>14944</th>\n      <td>2020-08-30</td>\n      <td>7188</td>\n      <td>6401</td>\n      <td>35</td>\n      <td>0</td>\n      <td>38</td>\n      <td>7</td>\n      <td>0.993</td>\n      <td>1.022</td>\n      <td>0</td>\n      <td>0</td>\n      <td>Ярославская обл.</td>\n      <td>752</td>\n      <td>37.571429</td>\n      <td>38.071429</td>\n      <td>758.571429</td>\n      <td>739.357143</td>\n      <td>5</td>\n      <td>31</td>\n    </tr>\n    <tr>\n      <th>14945</th>\n      <td>2020-08-31</td>\n      <td>7228</td>\n      <td>6407</td>\n      <td>36</td>\n      <td>1</td>\n      <td>40</td>\n      <td>6</td>\n      <td>0.993</td>\n      <td>1.022</td>\n      <td>0</td>\n      <td>0</td>\n      <td>Ярославская обл.</td>\n      <td>785</td>\n      <td>37.714286</td>\n      <td>38.071429</td>\n      <td>760.285714</td>\n      <td>744.357143</td>\n      <td>2</td>\n      <td>33</td>\n    </tr>\n    <tr>\n      <th>14946</th>\n      <td>2020-09-01</td>\n      <td>7269</td>\n      <td>6535</td>\n      <td>37</td>\n      <td>1</td>\n      <td>41</td>\n      <td>128</td>\n      <td>0.993</td>\n      <td>1.021</td>\n      <td>0</td>\n      <td>0</td>\n      <td>Ярославская обл.</td>\n      <td>697</td>\n      <td>38.571429</td>\n      <td>38.357143</td>\n      <td>749.857143</td>\n      <td>744.071429</td>\n      <td>1</td>\n      <td>-88</td>\n    </tr>\n  </tbody>\n</table>\n</div>"
     },
     "metadata": {},
     "execution_count": 5
    }
   ],
   "source": [
    "X = pd.DataFrame()\n",
    "regions_dict = {}\n",
    "yandex_russia['Rt'] = 1\n",
    "yandex_russia['Rt2'] = 1\n",
    "yandex_russia['Rate_conf'] = 0\n",
    "yandex_russia['Rate_ill'] = 0\n",
    "\n",
    "temp_df = yandex_russia.groupby(['Region','Date']).sum()\n",
    "\n",
    "# Ниже enumerate  для составления словаря из имен регионов {i:j} , для расчетов можно было использовать только j\n",
    "\n",
    "for i,j in enumerate(temp_df.index.get_level_values(0).unique()):\n",
    "    temp_df2 =  temp_df.loc[j]\n",
    "    temp1 = temp_df2['Day_confirmed'].rolling(4).sum()/(temp_df2[\"Day_confirmed\"].rolling(8).sum()-\n",
    "\n",
    "                                                              temp_df2[\"Day_confirmed\"].rolling(4).sum())\n",
    "    temp2 = temp_df2['Confirmed'].rolling(4).sum()/(temp_df2['Confirmed'].rolling(8).sum()-\n",
    "\n",
    "                                                              temp_df2['Confirmed'].rolling(4).sum())\n",
    "    temp_df2['Rt'] = round(temp1,3)\n",
    "    temp_df2['Rt2'] = round(temp2,3)\n",
    "    temp_df2['Region'] = j\n",
    "    temp_df2['Remaining_ill']=temp_df2['Confirmed']-temp_df2['Recovered']-temp_df2['Deaths']\n",
    "    temp_df2['MA7_dayconfirmed']=temp_df2['Day_confirmed'].rolling(window=7).mean()\n",
    "    temp_df2['MA14_dayconfirmed']=temp_df2['Day_confirmed'].rolling(window=14).mean()\n",
    "    temp_df2['MA7_remaining_ill']=temp_df2['Remaining_ill'].rolling(window=7).mean()\n",
    "    temp_df2['MA14_remaining_ill']=temp_df2['Remaining_ill'].rolling(window=14).mean()\n",
    "    \n",
    "    temp_df2['Change_dayconf'] = 0\n",
    "    for k in range(1,temp_df2.shape[0]):\n",
    "        temp_df2['Change_dayconf'].iloc[k]=temp_df2['Day_confirmed'].iloc[k]-temp_df2['Day_confirmed'].iloc[k-1]\n",
    "    temp_df2['Change_remill'] = 0\n",
    "    for k in range(1,temp_df2.shape[0]):\n",
    "        temp_df2['Change_remill'].iloc[k]=temp_df2['Remaining_ill'].iloc[k]-temp_df2['Remaining_ill'].iloc[k-1]\n",
    "    \n",
    "    \n",
    "\n",
    "   #Генератор DF  на каждый регион(сидит в цикле):\n",
    "   # globals()['x' + str(i)] = temp_df2.reset_index()\n",
    "    \n",
    "    X = pd.concat([X,temp_df2.reset_index()],axis = 0)\n",
    "    regions_dict[i]=j\n",
    "    \n",
    "print(regions_dict.items())\n",
    "    \n",
    "X = X.reset_index(drop=True)\n",
    "X.tail()\n"
   ]
  },
  {
   "cell_type": "code",
   "execution_count": 6,
   "metadata": {
    "tags": []
   },
   "outputs": [
    {
     "output_type": "stream",
     "name": "stdout",
     "text": "Confirmed  Remaining_ill\nDate                                \n2020-08-31     995319         168756\n2020-09-01    1000048         167044\n14947\n(14947, 19)\n2020-03-12\n"
    }
   ],
   "source": [
    "mask = X.Region == 'Россия'\n",
    "temp_df = X[mask][['Date','Confirmed','Remaining_ill']]\n",
    "temp_df.index = temp_df.Date\n",
    "temp_df.drop(columns =['Date'], inplace = True)\n",
    "print(temp_df.tail(2))\n",
    "# print(temp_df.index.get_level_values(0))\n",
    "# temp_df.loc[datetime.date(2020,6,15),'Россия'].Confirmed\n",
    "# for i in temp_df.index.get_level_values(0).unique()[-2:]:\n",
    "#     print(temp_df.loc[i,'Россия'].Confirmed)\n",
    "rus_date = list(temp_df.index)\n",
    "rus_conf = list(temp_df.Confirmed)\n",
    "rus_ill = list(temp_df.Remaining_ill)\n",
    "rus_dict_conf = dict(zip(rus_date,rus_conf))\n",
    "rus_dict_ill = dict(zip(rus_date,rus_ill))\n",
    "\n",
    "print(len(X))\n",
    "print(X.shape)\n",
    "print(X.loc[0,'Date'])\n",
    "for i in range(len(X)):\n",
    "    X.loc[i,'Rate_conf']=100*X.loc[i,'Confirmed']/rus_dict_conf.get(X.loc[i,'Date'])\n",
    "    X.loc[i,'Rate_ill']=100*X.loc[i,'Remaining_ill']/rus_dict_ill.get(X.loc[i,'Date'])\n"
   ]
  },
  {
   "cell_type": "code",
   "execution_count": 7,
   "metadata": {},
   "outputs": [
    {
     "output_type": "execute_result",
     "data": {
      "text/plain": "            Date  Confirmed  Region  Rate_conf  Rate_ill\n9712  2020-08-13     907758  Россия      100.0     100.0\n9713  2020-08-14     912823  Россия      100.0     100.0\n9714  2020-08-15     917884  Россия      100.0     100.0\n9715  2020-08-16     922853  Россия      100.0     100.0\n9716  2020-08-17     927745  Россия      100.0     100.0\n9717  2020-08-18     932493  Россия      100.0     100.0\n9718  2020-08-19     937321  Россия      100.0     100.0\n9719  2020-08-20     942106  Россия      100.0     100.0\n9720  2020-08-21     946976  Россия      100.0     100.0\n9721  2020-08-22     951897  Россия      100.0     100.0\n9722  2020-08-23     956749  Россия      100.0     100.0\n9723  2020-08-24     961493  Россия      100.0     100.0\n9724  2020-08-25     966189  Россия      100.0     100.0\n9725  2020-08-26     970865  Россия      100.0     100.0\n9726  2020-08-27     975576  Россия      100.0     100.0\n9727  2020-08-28     980405  Россия      100.0     100.0\n9728  2020-08-29     985346  Россия      100.0     100.0\n9729  2020-08-30     990326  Россия      100.0     100.0\n9730  2020-08-31     995319  Россия      100.0     100.0\n9731  2020-09-01    1000048  Россия      100.0     100.0",
      "text/html": "<div>\n<style scoped>\n    .dataframe tbody tr th:only-of-type {\n        vertical-align: middle;\n    }\n\n    .dataframe tbody tr th {\n        vertical-align: top;\n    }\n\n    .dataframe thead th {\n        text-align: right;\n    }\n</style>\n<table border=\"1\" class=\"dataframe\">\n  <thead>\n    <tr style=\"text-align: right;\">\n      <th></th>\n      <th>Date</th>\n      <th>Confirmed</th>\n      <th>Region</th>\n      <th>Rate_conf</th>\n      <th>Rate_ill</th>\n    </tr>\n  </thead>\n  <tbody>\n    <tr>\n      <th>9712</th>\n      <td>2020-08-13</td>\n      <td>907758</td>\n      <td>Россия</td>\n      <td>100.0</td>\n      <td>100.0</td>\n    </tr>\n    <tr>\n      <th>9713</th>\n      <td>2020-08-14</td>\n      <td>912823</td>\n      <td>Россия</td>\n      <td>100.0</td>\n      <td>100.0</td>\n    </tr>\n    <tr>\n      <th>9714</th>\n      <td>2020-08-15</td>\n      <td>917884</td>\n      <td>Россия</td>\n      <td>100.0</td>\n      <td>100.0</td>\n    </tr>\n    <tr>\n      <th>9715</th>\n      <td>2020-08-16</td>\n      <td>922853</td>\n      <td>Россия</td>\n      <td>100.0</td>\n      <td>100.0</td>\n    </tr>\n    <tr>\n      <th>9716</th>\n      <td>2020-08-17</td>\n      <td>927745</td>\n      <td>Россия</td>\n      <td>100.0</td>\n      <td>100.0</td>\n    </tr>\n    <tr>\n      <th>9717</th>\n      <td>2020-08-18</td>\n      <td>932493</td>\n      <td>Россия</td>\n      <td>100.0</td>\n      <td>100.0</td>\n    </tr>\n    <tr>\n      <th>9718</th>\n      <td>2020-08-19</td>\n      <td>937321</td>\n      <td>Россия</td>\n      <td>100.0</td>\n      <td>100.0</td>\n    </tr>\n    <tr>\n      <th>9719</th>\n      <td>2020-08-20</td>\n      <td>942106</td>\n      <td>Россия</td>\n      <td>100.0</td>\n      <td>100.0</td>\n    </tr>\n    <tr>\n      <th>9720</th>\n      <td>2020-08-21</td>\n      <td>946976</td>\n      <td>Россия</td>\n      <td>100.0</td>\n      <td>100.0</td>\n    </tr>\n    <tr>\n      <th>9721</th>\n      <td>2020-08-22</td>\n      <td>951897</td>\n      <td>Россия</td>\n      <td>100.0</td>\n      <td>100.0</td>\n    </tr>\n    <tr>\n      <th>9722</th>\n      <td>2020-08-23</td>\n      <td>956749</td>\n      <td>Россия</td>\n      <td>100.0</td>\n      <td>100.0</td>\n    </tr>\n    <tr>\n      <th>9723</th>\n      <td>2020-08-24</td>\n      <td>961493</td>\n      <td>Россия</td>\n      <td>100.0</td>\n      <td>100.0</td>\n    </tr>\n    <tr>\n      <th>9724</th>\n      <td>2020-08-25</td>\n      <td>966189</td>\n      <td>Россия</td>\n      <td>100.0</td>\n      <td>100.0</td>\n    </tr>\n    <tr>\n      <th>9725</th>\n      <td>2020-08-26</td>\n      <td>970865</td>\n      <td>Россия</td>\n      <td>100.0</td>\n      <td>100.0</td>\n    </tr>\n    <tr>\n      <th>9726</th>\n      <td>2020-08-27</td>\n      <td>975576</td>\n      <td>Россия</td>\n      <td>100.0</td>\n      <td>100.0</td>\n    </tr>\n    <tr>\n      <th>9727</th>\n      <td>2020-08-28</td>\n      <td>980405</td>\n      <td>Россия</td>\n      <td>100.0</td>\n      <td>100.0</td>\n    </tr>\n    <tr>\n      <th>9728</th>\n      <td>2020-08-29</td>\n      <td>985346</td>\n      <td>Россия</td>\n      <td>100.0</td>\n      <td>100.0</td>\n    </tr>\n    <tr>\n      <th>9729</th>\n      <td>2020-08-30</td>\n      <td>990326</td>\n      <td>Россия</td>\n      <td>100.0</td>\n      <td>100.0</td>\n    </tr>\n    <tr>\n      <th>9730</th>\n      <td>2020-08-31</td>\n      <td>995319</td>\n      <td>Россия</td>\n      <td>100.0</td>\n      <td>100.0</td>\n    </tr>\n    <tr>\n      <th>9731</th>\n      <td>2020-09-01</td>\n      <td>1000048</td>\n      <td>Россия</td>\n      <td>100.0</td>\n      <td>100.0</td>\n    </tr>\n  </tbody>\n</table>\n</div>"
     },
     "metadata": {},
     "execution_count": 7
    }
   ],
   "source": [
    "mask = (X.Date>=datetime.date(2020,6,13))&(X.Region.isin(['Москва','Россия']))\n",
    "\n",
    "temp=X[mask]\n",
    "temp[['Date','Confirmed','Region','Rate_conf','Rate_ill']].tail(20)"
   ]
  },
  {
   "cell_type": "code",
   "execution_count": 8,
   "metadata": {},
   "outputs": [],
   "source": [
    "# russia_regions = pd.read_csv('regions-info.csv')\n",
    "\n",
    "# russia_regions[(russia_regions.Region =='Московская область')|(russia_regions.Region =='Москва')|\n",
    "#               (russia_regions.Region =='Санкт-Петербург')].tail()"
   ]
  },
  {
   "cell_type": "code",
   "execution_count": 9,
   "metadata": {},
   "outputs": [],
   "source": [
    "X.to_csv('X.csv',index=False)\n"
   ]
  },
  {
   "cell_type": "code",
   "execution_count": null,
   "metadata": {},
   "outputs": [],
   "source": []
  }
 ],
 "metadata": {
  "kernelspec": {
   "display_name": "Python 3.8.3 64-bit ('covid': venv)",
   "language": "python",
   "name": "python38364bitcovidvenvebdaa96572d64ce3ae923c0c7db69618"
  },
  "language_info": {
   "codemirror_mode": {
    "name": "ipython",
    "version": 3
   },
   "file_extension": ".py",
   "mimetype": "text/x-python",
   "name": "python",
   "nbconvert_exporter": "python",
   "pygments_lexer": "ipython3",
   "version": "3.8.3-final"
  }
 },
 "nbformat": 4,
 "nbformat_minor": 4
}