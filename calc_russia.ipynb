{
 "cells": [
  {
   "cell_type": "code",
   "execution_count": 1,
   "metadata": {},
   "outputs": [],
   "source": [
    "import pandas as pd\n",
    "import datetime\n",
    "import plotly.graph_objects as go\n",
    "import plotly.express as px\n",
    "import plotly.figure_factory as ff\n"
   ]
  },
  {
   "cell_type": "code",
   "execution_count": 2,
   "metadata": {},
   "outputs": [
    {
     "output_type": "execute_result",
     "data": {
      "text/plain": [
       "             Date               Region  Confirmed  Recovered  Deaths  \\\n",
       "30913  2020-05-20      Московская обл.      30091       3897     285   \n",
       "30914  2020-09-09                 Крым       2891       1947      35   \n",
       "30915  2020-04-24      Камчатский край         84          5       0   \n",
       "30916  2021-02-18  Карачаево-Черкессия      18617      16914      60   \n",
       "30917  2020-12-07         Еврейская АО       3162       2143      51   \n",
       "30918  2020-10-13        Брянская обл.      10446       8264      41   \n",
       "30919  2021-01-11      Смоленская обл.      18783      14287     356   \n",
       "30920  2020-03-31   Архангельская обл.          7          0       0   \n",
       "30921  2021-02-09       Алтайский край      40611      36341    1296   \n",
       "30922  2020-08-31         Томская обл.       5706       4696      69   \n",
       "\n",
       "       Day_deaths  Day_confirmed  Day_recovered  \n",
       "30913          14            903            283  \n",
       "30914           1             46             75  \n",
       "30915           0              6              0  \n",
       "30916           0             49             38  \n",
       "30917           0             29             15  \n",
       "30918           0             86             24  \n",
       "30919           0            155             12  \n",
       "30920           0              0              0  \n",
       "30921          13            174            170  \n",
       "30922           2            110             15  "
      ],
      "text/html": "<div>\n<style scoped>\n    .dataframe tbody tr th:only-of-type {\n        vertical-align: middle;\n    }\n\n    .dataframe tbody tr th {\n        vertical-align: top;\n    }\n\n    .dataframe thead th {\n        text-align: right;\n    }\n</style>\n<table border=\"1\" class=\"dataframe\">\n  <thead>\n    <tr style=\"text-align: right;\">\n      <th></th>\n      <th>Date</th>\n      <th>Region</th>\n      <th>Confirmed</th>\n      <th>Recovered</th>\n      <th>Deaths</th>\n      <th>Day_deaths</th>\n      <th>Day_confirmed</th>\n      <th>Day_recovered</th>\n    </tr>\n  </thead>\n  <tbody>\n    <tr>\n      <th>30913</th>\n      <td>2020-05-20</td>\n      <td>Московская обл.</td>\n      <td>30091</td>\n      <td>3897</td>\n      <td>285</td>\n      <td>14</td>\n      <td>903</td>\n      <td>283</td>\n    </tr>\n    <tr>\n      <th>30914</th>\n      <td>2020-09-09</td>\n      <td>Крым</td>\n      <td>2891</td>\n      <td>1947</td>\n      <td>35</td>\n      <td>1</td>\n      <td>46</td>\n      <td>75</td>\n    </tr>\n    <tr>\n      <th>30915</th>\n      <td>2020-04-24</td>\n      <td>Камчатский край</td>\n      <td>84</td>\n      <td>5</td>\n      <td>0</td>\n      <td>0</td>\n      <td>6</td>\n      <td>0</td>\n    </tr>\n    <tr>\n      <th>30916</th>\n      <td>2021-02-18</td>\n      <td>Карачаево-Черкессия</td>\n      <td>18617</td>\n      <td>16914</td>\n      <td>60</td>\n      <td>0</td>\n      <td>49</td>\n      <td>38</td>\n    </tr>\n    <tr>\n      <th>30917</th>\n      <td>2020-12-07</td>\n      <td>Еврейская АО</td>\n      <td>3162</td>\n      <td>2143</td>\n      <td>51</td>\n      <td>0</td>\n      <td>29</td>\n      <td>15</td>\n    </tr>\n    <tr>\n      <th>30918</th>\n      <td>2020-10-13</td>\n      <td>Брянская обл.</td>\n      <td>10446</td>\n      <td>8264</td>\n      <td>41</td>\n      <td>0</td>\n      <td>86</td>\n      <td>24</td>\n    </tr>\n    <tr>\n      <th>30919</th>\n      <td>2021-01-11</td>\n      <td>Смоленская обл.</td>\n      <td>18783</td>\n      <td>14287</td>\n      <td>356</td>\n      <td>0</td>\n      <td>155</td>\n      <td>12</td>\n    </tr>\n    <tr>\n      <th>30920</th>\n      <td>2020-03-31</td>\n      <td>Архангельская обл.</td>\n      <td>7</td>\n      <td>0</td>\n      <td>0</td>\n      <td>0</td>\n      <td>0</td>\n      <td>0</td>\n    </tr>\n    <tr>\n      <th>30921</th>\n      <td>2021-02-09</td>\n      <td>Алтайский край</td>\n      <td>40611</td>\n      <td>36341</td>\n      <td>1296</td>\n      <td>13</td>\n      <td>174</td>\n      <td>170</td>\n    </tr>\n    <tr>\n      <th>30922</th>\n      <td>2020-08-31</td>\n      <td>Томская обл.</td>\n      <td>5706</td>\n      <td>4696</td>\n      <td>69</td>\n      <td>2</td>\n      <td>110</td>\n      <td>15</td>\n    </tr>\n  </tbody>\n</table>\n</div>"
     },
     "metadata": {},
     "execution_count": 2
    }
   ],
   "source": [
    "yandex_russia = pd.read_csv('yandex_russia.csv')\n",
    "\n",
    "yandex_russia.rename(columns = {'Дата':'Date','Регион':'Region','Заражений':'Confirmed','Выздоровлений':'Recovered',\n",
    "                               'Смертей':'Deaths','Смертей за день':'Day_deaths',\n",
    "                               'Заражений за день':'Day_confirmed','Выздоровлений за день':'Day_recovered'},inplace = True)\n",
    "\n",
    "\n",
    "for i in range(yandex_russia.shape[0]):\n",
    "    a= yandex_russia.Date[i].split('.')\n",
    "    yandex_russia.Date[i]=datetime.date(int(a[2]),int(a[1]),int(a[0]))\n",
    "    \n",
    "   \n",
    "yandex_russia.tail(10)"
   ]
  },
  {
   "cell_type": "code",
   "execution_count": 3,
   "metadata": {},
   "outputs": [
    {
     "output_type": "execute_result",
     "data": {
      "text/plain": [
       "           Date  Region  Confirmed  Recovered  Deaths  Day_deaths  \\\n",
       "354  2021-03-01  Россия    4257650    3823074   86455         333   \n",
       "355  2021-03-02  Россия    4268215    3838040   86896         441   \n",
       "356  2021-03-03  Россия    4278750    3853734   87348         452   \n",
       "357  2021-03-04  Россия    4290135    3869857   87823         475   \n",
       "358  2021-03-05  Россия    4301159    3885321   88285         462   \n",
       "359  2021-03-06  Россия    4312181    3900348   88726         441   \n",
       "360  2021-03-07  Россия    4322776    3911924   89094         368   \n",
       "361  2021-03-08  Россия    4333029    3922246   89473         379   \n",
       "362  2021-03-09  Россия    4342474    3932177   89809         336   \n",
       "363  2021-03-10  Россия    4351553    3945527   90275         466   \n",
       "\n",
       "     Day_confirmed  Day_recovered  \n",
       "354          11571          11277  \n",
       "355          10565          14966  \n",
       "356          10535          15694  \n",
       "357          11385          16123  \n",
       "358          11024          15464  \n",
       "359          11022          15027  \n",
       "360          10595          11576  \n",
       "361          10253          10322  \n",
       "362           9445           9931  \n",
       "363           9079          13350  "
      ],
      "text/html": "<div>\n<style scoped>\n    .dataframe tbody tr th:only-of-type {\n        vertical-align: middle;\n    }\n\n    .dataframe tbody tr th {\n        vertical-align: top;\n    }\n\n    .dataframe thead th {\n        text-align: right;\n    }\n</style>\n<table border=\"1\" class=\"dataframe\">\n  <thead>\n    <tr style=\"text-align: right;\">\n      <th></th>\n      <th>Date</th>\n      <th>Region</th>\n      <th>Confirmed</th>\n      <th>Recovered</th>\n      <th>Deaths</th>\n      <th>Day_deaths</th>\n      <th>Day_confirmed</th>\n      <th>Day_recovered</th>\n    </tr>\n  </thead>\n  <tbody>\n    <tr>\n      <th>354</th>\n      <td>2021-03-01</td>\n      <td>Россия</td>\n      <td>4257650</td>\n      <td>3823074</td>\n      <td>86455</td>\n      <td>333</td>\n      <td>11571</td>\n      <td>11277</td>\n    </tr>\n    <tr>\n      <th>355</th>\n      <td>2021-03-02</td>\n      <td>Россия</td>\n      <td>4268215</td>\n      <td>3838040</td>\n      <td>86896</td>\n      <td>441</td>\n      <td>10565</td>\n      <td>14966</td>\n    </tr>\n    <tr>\n      <th>356</th>\n      <td>2021-03-03</td>\n      <td>Россия</td>\n      <td>4278750</td>\n      <td>3853734</td>\n      <td>87348</td>\n      <td>452</td>\n      <td>10535</td>\n      <td>15694</td>\n    </tr>\n    <tr>\n      <th>357</th>\n      <td>2021-03-04</td>\n      <td>Россия</td>\n      <td>4290135</td>\n      <td>3869857</td>\n      <td>87823</td>\n      <td>475</td>\n      <td>11385</td>\n      <td>16123</td>\n    </tr>\n    <tr>\n      <th>358</th>\n      <td>2021-03-05</td>\n      <td>Россия</td>\n      <td>4301159</td>\n      <td>3885321</td>\n      <td>88285</td>\n      <td>462</td>\n      <td>11024</td>\n      <td>15464</td>\n    </tr>\n    <tr>\n      <th>359</th>\n      <td>2021-03-06</td>\n      <td>Россия</td>\n      <td>4312181</td>\n      <td>3900348</td>\n      <td>88726</td>\n      <td>441</td>\n      <td>11022</td>\n      <td>15027</td>\n    </tr>\n    <tr>\n      <th>360</th>\n      <td>2021-03-07</td>\n      <td>Россия</td>\n      <td>4322776</td>\n      <td>3911924</td>\n      <td>89094</td>\n      <td>368</td>\n      <td>10595</td>\n      <td>11576</td>\n    </tr>\n    <tr>\n      <th>361</th>\n      <td>2021-03-08</td>\n      <td>Россия</td>\n      <td>4333029</td>\n      <td>3922246</td>\n      <td>89473</td>\n      <td>379</td>\n      <td>10253</td>\n      <td>10322</td>\n    </tr>\n    <tr>\n      <th>362</th>\n      <td>2021-03-09</td>\n      <td>Россия</td>\n      <td>4342474</td>\n      <td>3932177</td>\n      <td>89809</td>\n      <td>336</td>\n      <td>9445</td>\n      <td>9931</td>\n    </tr>\n    <tr>\n      <th>363</th>\n      <td>2021-03-10</td>\n      <td>Россия</td>\n      <td>4351553</td>\n      <td>3945527</td>\n      <td>90275</td>\n      <td>466</td>\n      <td>9079</td>\n      <td>13350</td>\n    </tr>\n  </tbody>\n</table>\n</div>"
     },
     "metadata": {},
     "execution_count": 3
    }
   ],
   "source": [
    "df3_temp = yandex_russia.groupby('Date').sum()\n",
    "df3_temp['Region']='Россия'\n",
    "\n",
    "y5= pd.concat([yandex_russia,df3_temp.reset_index()],axis = 0)\n",
    "y5.reset_index()\n",
    "yandex_russia = y5\n",
    "yandex_russia.tail(10)"
   ]
  },
  {
   "cell_type": "code",
   "execution_count": 4,
   "metadata": {
    "tags": []
   },
   "outputs": [
    {
     "output_type": "stream",
     "name": "stdout",
     "text": [
      "2021-03-10\nВыбран день:  2021-03-10\n"
     ]
    }
   ],
   "source": [
    "# dt = datetime.datetime.today()\n",
    "# today = datetime.date(dt.year,dt.month,dt.day)\n",
    "# ystday = datetime.date(today.year,today.month,today.day-1)\n",
    "# yst2day = datetime.date(today.year,today.month,today.day-2)\n",
    "# yst3day = datetime.date(today.year,today.month,today.day-3)\n",
    "\n",
    "# print(today)\n",
    "# print(ystday)\n",
    "# print(yst2day)\n",
    "# print(yst3day)\n",
    "myday = list(yandex_russia.tail(1).Date)[0]\n",
    "\n",
    "print(yandex_russia.iloc[-1,0])\n",
    "print('Выбран день: ',myday)"
   ]
  },
  {
   "cell_type": "code",
   "execution_count": 5,
   "metadata": {
    "tags": []
   },
   "outputs": [
    {
     "output_type": "stream",
     "name": "stdout",
     "text": [
      "dict_items([(0, 'Адыгея'), (1, 'Алтай'), (2, 'Алтайский край'), (3, 'Амурская обл.'), (4, 'Архангельская обл.'), (5, 'Астраханская обл.'), (6, 'Башкортостан'), (7, 'Белгородская обл.'), (8, 'Брянская обл.'), (9, 'Бурятия'), (10, 'Владимирская обл.'), (11, 'Волгоградская обл.'), (12, 'Вологодская обл.'), (13, 'Воронежская обл.'), (14, 'Дагестан'), (15, 'Еврейская АО'), (16, 'Забайкальский край'), (17, 'Ивановская обл.'), (18, 'Ингушетия'), (19, 'Иркутская обл.'), (20, 'Кабардино-Балкария'), (21, 'Калининградская обл.'), (22, 'Калмыкия'), (23, 'Калужская обл.'), (24, 'Камчатский край'), (25, 'Карачаево-Черкессия'), (26, 'Карелия'), (27, 'Кемеровская обл.'), (28, 'Кировская обл.'), (29, 'Коми'), (30, 'Костромская обл.'), (31, 'Краснодарский край'), (32, 'Красноярский край'), (33, 'Крым'), (34, 'Курганская обл.'), (35, 'Курская обл.'), (36, 'Ленинградская обл.'), (37, 'Липецкая обл.'), (38, 'Магаданская обл.'), (39, 'Марий Эл'), (40, 'Мордовия'), (41, 'Москва'), (42, 'Московская обл.'), (43, 'Мурманская обл.'), (44, 'Ненецкий АО'), (45, 'Нижегородская обл.'), (46, 'Новгородская обл.'), (47, 'Новосибирская обл.'), (48, 'Омская обл.'), (49, 'Оренбургская обл.'), (50, 'Орловская обл.'), (51, 'Пензенская обл.'), (52, 'Пермский край'), (53, 'Приморский край'), (54, 'Псковская обл.'), (55, 'Россия'), (56, 'Ростовская обл.'), (57, 'Рязанская обл.'), (58, 'Самарская обл.'), (59, 'Санкт-Петербург'), (60, 'Саратовская обл.'), (61, 'Саха (Якутия)'), (62, 'Сахалинская обл.'), (63, 'Свердловская обл.'), (64, 'Севастополь'), (65, 'Северная Осетия'), (66, 'Смоленская обл.'), (67, 'Ставропольский край'), (68, 'Тамбовская обл.'), (69, 'Татарстан'), (70, 'Тверская обл.'), (71, 'Томская обл.'), (72, 'Тульская обл.'), (73, 'Тыва'), (74, 'Тюменская обл.'), (75, 'Удмуртия'), (76, 'Ульяновская обл.'), (77, 'ХМАО – Югра'), (78, 'Хабаровский край'), (79, 'Хакасия'), (80, 'Челябинская обл.'), (81, 'Чечня'), (82, 'Чувашия'), (83, 'Чукотский АО'), (84, 'Ямало-Ненецкий АО'), (85, 'Ярославская обл.')])\n"
     ]
    },
    {
     "output_type": "execute_result",
     "data": {
      "text/plain": [
       "             Date  Confirmed  Recovered  Deaths  Day_deaths  Day_confirmed  \\\n",
       "31282  2021-03-06      33567      32115     427           5            120   \n",
       "31283  2021-03-07      33688      32263     431           4            121   \n",
       "31284  2021-03-08      33805      32400     433           2            117   \n",
       "31285  2021-03-09      33917      32534     436           3            112   \n",
       "31286  2021-03-10      34031      32664     439           3            114   \n",
       "\n",
       "       Day_recovered     Rt    Rt2  Rate_conf  Rate_ill            Region  \\\n",
       "31282            150  0.896  1.016          0         0  Ярославская обл.   \n",
       "31283            148  0.928  1.015          0         0  Ярославская обл.   \n",
       "31284            137  0.932  1.015          0         0  Ярославская обл.   \n",
       "31285            134  0.934  1.015          0         0  Ярославская обл.   \n",
       "31286            130  0.941  1.014          0         0  Ярославская обл.   \n",
       "\n",
       "       Remaining_ill  MA7_dayconfirmed  MA14_dayconfirmed  MA7_remaining_ill  \\\n",
       "31282           1025        128.428571         140.714286        1130.571429   \n",
       "31283            994        125.714286         137.928571        1096.428571   \n",
       "31284            972        123.000000         135.071429        1063.285714   \n",
       "31285            947        120.428571         131.785714        1031.714286   \n",
       "31286            928        119.142857         128.857143        1002.857143   \n",
       "\n",
       "       MA14_remaining_ill  Change_dayconf  Change_remill  \n",
       "31282         1218.142857              -3            -35  \n",
       "31283         1193.071429               1            -31  \n",
       "31284         1167.214286              -4            -22  \n",
       "31285         1140.357143              -5            -25  \n",
       "31286         1112.785714               2            -19  "
      ],
      "text/html": "<div>\n<style scoped>\n    .dataframe tbody tr th:only-of-type {\n        vertical-align: middle;\n    }\n\n    .dataframe tbody tr th {\n        vertical-align: top;\n    }\n\n    .dataframe thead th {\n        text-align: right;\n    }\n</style>\n<table border=\"1\" class=\"dataframe\">\n  <thead>\n    <tr style=\"text-align: right;\">\n      <th></th>\n      <th>Date</th>\n      <th>Confirmed</th>\n      <th>Recovered</th>\n      <th>Deaths</th>\n      <th>Day_deaths</th>\n      <th>Day_confirmed</th>\n      <th>Day_recovered</th>\n      <th>Rt</th>\n      <th>Rt2</th>\n      <th>Rate_conf</th>\n      <th>Rate_ill</th>\n      <th>Region</th>\n      <th>Remaining_ill</th>\n      <th>MA7_dayconfirmed</th>\n      <th>MA14_dayconfirmed</th>\n      <th>MA7_remaining_ill</th>\n      <th>MA14_remaining_ill</th>\n      <th>Change_dayconf</th>\n      <th>Change_remill</th>\n    </tr>\n  </thead>\n  <tbody>\n    <tr>\n      <th>31282</th>\n      <td>2021-03-06</td>\n      <td>33567</td>\n      <td>32115</td>\n      <td>427</td>\n      <td>5</td>\n      <td>120</td>\n      <td>150</td>\n      <td>0.896</td>\n      <td>1.016</td>\n      <td>0</td>\n      <td>0</td>\n      <td>Ярославская обл.</td>\n      <td>1025</td>\n      <td>128.428571</td>\n      <td>140.714286</td>\n      <td>1130.571429</td>\n      <td>1218.142857</td>\n      <td>-3</td>\n      <td>-35</td>\n    </tr>\n    <tr>\n      <th>31283</th>\n      <td>2021-03-07</td>\n      <td>33688</td>\n      <td>32263</td>\n      <td>431</td>\n      <td>4</td>\n      <td>121</td>\n      <td>148</td>\n      <td>0.928</td>\n      <td>1.015</td>\n      <td>0</td>\n      <td>0</td>\n      <td>Ярославская обл.</td>\n      <td>994</td>\n      <td>125.714286</td>\n      <td>137.928571</td>\n      <td>1096.428571</td>\n      <td>1193.071429</td>\n      <td>1</td>\n      <td>-31</td>\n    </tr>\n    <tr>\n      <th>31284</th>\n      <td>2021-03-08</td>\n      <td>33805</td>\n      <td>32400</td>\n      <td>433</td>\n      <td>2</td>\n      <td>117</td>\n      <td>137</td>\n      <td>0.932</td>\n      <td>1.015</td>\n      <td>0</td>\n      <td>0</td>\n      <td>Ярославская обл.</td>\n      <td>972</td>\n      <td>123.000000</td>\n      <td>135.071429</td>\n      <td>1063.285714</td>\n      <td>1167.214286</td>\n      <td>-4</td>\n      <td>-22</td>\n    </tr>\n    <tr>\n      <th>31285</th>\n      <td>2021-03-09</td>\n      <td>33917</td>\n      <td>32534</td>\n      <td>436</td>\n      <td>3</td>\n      <td>112</td>\n      <td>134</td>\n      <td>0.934</td>\n      <td>1.015</td>\n      <td>0</td>\n      <td>0</td>\n      <td>Ярославская обл.</td>\n      <td>947</td>\n      <td>120.428571</td>\n      <td>131.785714</td>\n      <td>1031.714286</td>\n      <td>1140.357143</td>\n      <td>-5</td>\n      <td>-25</td>\n    </tr>\n    <tr>\n      <th>31286</th>\n      <td>2021-03-10</td>\n      <td>34031</td>\n      <td>32664</td>\n      <td>439</td>\n      <td>3</td>\n      <td>114</td>\n      <td>130</td>\n      <td>0.941</td>\n      <td>1.014</td>\n      <td>0</td>\n      <td>0</td>\n      <td>Ярославская обл.</td>\n      <td>928</td>\n      <td>119.142857</td>\n      <td>128.857143</td>\n      <td>1002.857143</td>\n      <td>1112.785714</td>\n      <td>2</td>\n      <td>-19</td>\n    </tr>\n  </tbody>\n</table>\n</div>"
     },
     "metadata": {},
     "execution_count": 5
    }
   ],
   "source": [
    "X = pd.DataFrame()\n",
    "regions_dict = {}\n",
    "yandex_russia['Rt'] = 1\n",
    "yandex_russia['Rt2'] = 1\n",
    "yandex_russia['Rate_conf'] = 0\n",
    "yandex_russia['Rate_ill'] = 0\n",
    "\n",
    "temp_df = yandex_russia.groupby(['Region','Date']).sum()\n",
    "\n",
    "# Ниже enumerate  для составления словаря из имен регионов {i:j} , для расчетов можно было использовать только j\n",
    "\n",
    "for i,j in enumerate(temp_df.index.get_level_values(0).unique()):\n",
    "    temp_df2 =  temp_df.loc[j]\n",
    "    temp1 = temp_df2['Day_confirmed'].rolling(4).sum()/(temp_df2[\"Day_confirmed\"].rolling(8).sum()-\n",
    "\n",
    "                                                              temp_df2[\"Day_confirmed\"].rolling(4).sum())\n",
    "    temp2 = temp_df2['Confirmed'].rolling(4).sum()/(temp_df2['Confirmed'].rolling(8).sum()-\n",
    "\n",
    "                                                              temp_df2['Confirmed'].rolling(4).sum())\n",
    "    temp_df2['Rt'] = round(temp1,3)\n",
    "    temp_df2['Rt2'] = round(temp2,3)\n",
    "    temp_df2['Region'] = j\n",
    "    temp_df2['Remaining_ill']=temp_df2['Confirmed']-temp_df2['Recovered']-temp_df2['Deaths']\n",
    "    temp_df2['MA7_dayconfirmed']=temp_df2['Day_confirmed'].rolling(window=7).mean()\n",
    "    temp_df2['MA14_dayconfirmed']=temp_df2['Day_confirmed'].rolling(window=14).mean()\n",
    "    temp_df2['MA7_remaining_ill']=temp_df2['Remaining_ill'].rolling(window=7).mean()\n",
    "    temp_df2['MA14_remaining_ill']=temp_df2['Remaining_ill'].rolling(window=14).mean()\n",
    "    \n",
    "    temp_df2['Change_dayconf'] = 0\n",
    "    for k in range(1,temp_df2.shape[0]):\n",
    "        temp_df2['Change_dayconf'].iloc[k]=temp_df2['Day_confirmed'].iloc[k]-temp_df2['Day_confirmed'].iloc[k-1]\n",
    "    temp_df2['Change_remill'] = 0\n",
    "    for k in range(1,temp_df2.shape[0]):\n",
    "        temp_df2['Change_remill'].iloc[k]=temp_df2['Remaining_ill'].iloc[k]-temp_df2['Remaining_ill'].iloc[k-1]\n",
    "    \n",
    "    \n",
    "\n",
    "   #Генератор DF  на каждый регион(сидит в цикле):\n",
    "   # globals()['x' + str(i)] = temp_df2.reset_index()\n",
    "    \n",
    "    X = pd.concat([X,temp_df2.reset_index()],axis = 0)\n",
    "    regions_dict[i]=j\n",
    "    \n",
    "print(regions_dict.items())\n",
    "    \n",
    "X = X.reset_index(drop=True)\n",
    "X.tail()\n"
   ]
  },
  {
   "cell_type": "code",
   "execution_count": 6,
   "metadata": {
    "tags": []
   },
   "outputs": [
    {
     "output_type": "stream",
     "name": "stdout",
     "text": [
      "            Confirmed  Remaining_ill\nDate                                \n2021-03-09    4342474         320488\n2021-03-10    4351553         315751\n31287\n(31287, 19)\n2020-03-12\n"
     ]
    }
   ],
   "source": [
    "mask = X.Region == 'Россия'\n",
    "temp_df = X[mask][['Date','Confirmed','Remaining_ill']]\n",
    "temp_df.index = temp_df.Date\n",
    "temp_df.drop(columns =['Date'], inplace = True)\n",
    "print(temp_df.tail(2))\n",
    "# print(temp_df.index.get_level_values(0))\n",
    "# temp_df.loc[datetime.date(2020,6,15),'Россия'].Confirmed\n",
    "# for i in temp_df.index.get_level_values(0).unique()[-2:]:\n",
    "#     print(temp_df.loc[i,'Россия'].Confirmed)\n",
    "rus_date = list(temp_df.index)\n",
    "rus_conf = list(temp_df.Confirmed)\n",
    "rus_ill = list(temp_df.Remaining_ill)\n",
    "rus_dict_conf = dict(zip(rus_date,rus_conf))\n",
    "rus_dict_ill = dict(zip(rus_date,rus_ill))\n",
    "\n",
    "print(len(X))\n",
    "print(X.shape)\n",
    "print(X.loc[0,'Date'])\n",
    "for i in range(len(X)):\n",
    "    X.loc[i,'Rate_conf']=100*X.loc[i,'Confirmed']/rus_dict_conf.get(X.loc[i,'Date'])\n",
    "    X.loc[i,'Rate_ill']=100*X.loc[i,'Remaining_ill']/rus_dict_ill.get(X.loc[i,'Date'])\n"
   ]
  },
  {
   "cell_type": "code",
   "execution_count": 7,
   "metadata": {},
   "outputs": [
    {
     "output_type": "execute_result",
     "data": {
      "text/plain": [
       "             Date  Confirmed  Region  Rate_conf  Rate_ill\n",
       "20352  2021-02-19    4139031  Россия      100.0     100.0\n",
       "20353  2021-02-20    4151984  Россия      100.0     100.0\n",
       "20354  2021-02-21    4164726  Россия      100.0     100.0\n",
       "20355  2021-02-22    4177330  Россия      100.0     100.0\n",
       "20356  2021-02-23    4189153  Россия      100.0     100.0\n",
       "20357  2021-02-24    4200902  Россия      100.0     100.0\n",
       "20358  2021-02-25    4212100  Россия      100.0     100.0\n",
       "20359  2021-02-26    4223186  Россия      100.0     100.0\n",
       "20360  2021-02-27    4234720  Россия      100.0     100.0\n",
       "20361  2021-02-28    4246079  Россия      100.0     100.0\n",
       "20362  2021-03-01    4257650  Россия      100.0     100.0\n",
       "20363  2021-03-02    4268215  Россия      100.0     100.0\n",
       "20364  2021-03-03    4278750  Россия      100.0     100.0\n",
       "20365  2021-03-04    4290135  Россия      100.0     100.0\n",
       "20366  2021-03-05    4301159  Россия      100.0     100.0\n",
       "20367  2021-03-06    4312181  Россия      100.0     100.0\n",
       "20368  2021-03-07    4322776  Россия      100.0     100.0\n",
       "20369  2021-03-08    4333029  Россия      100.0     100.0\n",
       "20370  2021-03-09    4342474  Россия      100.0     100.0\n",
       "20371  2021-03-10    4351553  Россия      100.0     100.0"
      ],
      "text/html": "<div>\n<style scoped>\n    .dataframe tbody tr th:only-of-type {\n        vertical-align: middle;\n    }\n\n    .dataframe tbody tr th {\n        vertical-align: top;\n    }\n\n    .dataframe thead th {\n        text-align: right;\n    }\n</style>\n<table border=\"1\" class=\"dataframe\">\n  <thead>\n    <tr style=\"text-align: right;\">\n      <th></th>\n      <th>Date</th>\n      <th>Confirmed</th>\n      <th>Region</th>\n      <th>Rate_conf</th>\n      <th>Rate_ill</th>\n    </tr>\n  </thead>\n  <tbody>\n    <tr>\n      <th>20352</th>\n      <td>2021-02-19</td>\n      <td>4139031</td>\n      <td>Россия</td>\n      <td>100.0</td>\n      <td>100.0</td>\n    </tr>\n    <tr>\n      <th>20353</th>\n      <td>2021-02-20</td>\n      <td>4151984</td>\n      <td>Россия</td>\n      <td>100.0</td>\n      <td>100.0</td>\n    </tr>\n    <tr>\n      <th>20354</th>\n      <td>2021-02-21</td>\n      <td>4164726</td>\n      <td>Россия</td>\n      <td>100.0</td>\n      <td>100.0</td>\n    </tr>\n    <tr>\n      <th>20355</th>\n      <td>2021-02-22</td>\n      <td>4177330</td>\n      <td>Россия</td>\n      <td>100.0</td>\n      <td>100.0</td>\n    </tr>\n    <tr>\n      <th>20356</th>\n      <td>2021-02-23</td>\n      <td>4189153</td>\n      <td>Россия</td>\n      <td>100.0</td>\n      <td>100.0</td>\n    </tr>\n    <tr>\n      <th>20357</th>\n      <td>2021-02-24</td>\n      <td>4200902</td>\n      <td>Россия</td>\n      <td>100.0</td>\n      <td>100.0</td>\n    </tr>\n    <tr>\n      <th>20358</th>\n      <td>2021-02-25</td>\n      <td>4212100</td>\n      <td>Россия</td>\n      <td>100.0</td>\n      <td>100.0</td>\n    </tr>\n    <tr>\n      <th>20359</th>\n      <td>2021-02-26</td>\n      <td>4223186</td>\n      <td>Россия</td>\n      <td>100.0</td>\n      <td>100.0</td>\n    </tr>\n    <tr>\n      <th>20360</th>\n      <td>2021-02-27</td>\n      <td>4234720</td>\n      <td>Россия</td>\n      <td>100.0</td>\n      <td>100.0</td>\n    </tr>\n    <tr>\n      <th>20361</th>\n      <td>2021-02-28</td>\n      <td>4246079</td>\n      <td>Россия</td>\n      <td>100.0</td>\n      <td>100.0</td>\n    </tr>\n    <tr>\n      <th>20362</th>\n      <td>2021-03-01</td>\n      <td>4257650</td>\n      <td>Россия</td>\n      <td>100.0</td>\n      <td>100.0</td>\n    </tr>\n    <tr>\n      <th>20363</th>\n      <td>2021-03-02</td>\n      <td>4268215</td>\n      <td>Россия</td>\n      <td>100.0</td>\n      <td>100.0</td>\n    </tr>\n    <tr>\n      <th>20364</th>\n      <td>2021-03-03</td>\n      <td>4278750</td>\n      <td>Россия</td>\n      <td>100.0</td>\n      <td>100.0</td>\n    </tr>\n    <tr>\n      <th>20365</th>\n      <td>2021-03-04</td>\n      <td>4290135</td>\n      <td>Россия</td>\n      <td>100.0</td>\n      <td>100.0</td>\n    </tr>\n    <tr>\n      <th>20366</th>\n      <td>2021-03-05</td>\n      <td>4301159</td>\n      <td>Россия</td>\n      <td>100.0</td>\n      <td>100.0</td>\n    </tr>\n    <tr>\n      <th>20367</th>\n      <td>2021-03-06</td>\n      <td>4312181</td>\n      <td>Россия</td>\n      <td>100.0</td>\n      <td>100.0</td>\n    </tr>\n    <tr>\n      <th>20368</th>\n      <td>2021-03-07</td>\n      <td>4322776</td>\n      <td>Россия</td>\n      <td>100.0</td>\n      <td>100.0</td>\n    </tr>\n    <tr>\n      <th>20369</th>\n      <td>2021-03-08</td>\n      <td>4333029</td>\n      <td>Россия</td>\n      <td>100.0</td>\n      <td>100.0</td>\n    </tr>\n    <tr>\n      <th>20370</th>\n      <td>2021-03-09</td>\n      <td>4342474</td>\n      <td>Россия</td>\n      <td>100.0</td>\n      <td>100.0</td>\n    </tr>\n    <tr>\n      <th>20371</th>\n      <td>2021-03-10</td>\n      <td>4351553</td>\n      <td>Россия</td>\n      <td>100.0</td>\n      <td>100.0</td>\n    </tr>\n  </tbody>\n</table>\n</div>"
     },
     "metadata": {},
     "execution_count": 7
    }
   ],
   "source": [
    "mask = (X.Date>=datetime.date(2020,6,13))&(X.Region.isin(['Москва','Россия']))\n",
    "\n",
    "temp=X[mask]\n",
    "temp[['Date','Confirmed','Region','Rate_conf','Rate_ill']].tail(20)"
   ]
  },
  {
   "cell_type": "code",
   "execution_count": 8,
   "metadata": {},
   "outputs": [],
   "source": [
    "# russia_regions = pd.read_csv('regions-info.csv')\n",
    "\n",
    "# russia_regions[(russia_regions.Region =='Московская область')|(russia_regions.Region =='Москва')|\n",
    "#               (russia_regions.Region =='Санкт-Петербург')].tail()"
   ]
  },
  {
   "cell_type": "code",
   "execution_count": 9,
   "metadata": {},
   "outputs": [],
   "source": [
    "X.to_csv('X.csv',index=False)\n"
   ]
  },
  {
   "cell_type": "code",
   "execution_count": null,
   "metadata": {},
   "outputs": [],
   "source": []
  }
 ],
 "metadata": {
  "kernelspec": {
   "display_name": "Python 3.8.3 64-bit ('univer': venv)",
   "language": "python",
   "name": "python38364bitunivervenvccc17a1ebf2945b3903df3ba400fd1bf"
  },
  "language_info": {
   "codemirror_mode": {
    "name": "ipython",
    "version": 3
   },
   "file_extension": ".py",
   "mimetype": "text/x-python",
   "name": "python",
   "nbconvert_exporter": "python",
   "pygments_lexer": "ipython3",
   "version": "3.8.3-final"
  }
 },
 "nbformat": 4,
 "nbformat_minor": 4
}