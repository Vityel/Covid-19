{
 "cells": [
  {
   "cell_type": "code",
   "execution_count": 1,
   "metadata": {},
   "outputs": [],
   "source": [
    "import pandas as pd\n",
    "import datetime\n",
    "import plotly.graph_objects as go\n",
    "import plotly.express as px\n",
    "import plotly.figure_factory as ff\n"
   ]
  },
  {
   "cell_type": "code",
   "execution_count": 2,
   "metadata": {},
   "outputs": [
    {
     "output_type": "execute_result",
     "data": {
      "text/plain": "             Date             Region  Confirmed  Recovered  Deaths  \\\n14378  2020-08-27   Ульяновская обл.      11718       8970      91   \n14379  2020-08-27   Хабаровский край       9860       7694      86   \n14380  2020-08-27            Хакасия       3345       3079      41   \n14381  2020-08-27        ХМАО – Югра      19350      17995     162   \n14382  2020-08-27   Челябинская обл.      13420       9203     104   \n14383  2020-08-27              Чечня       2249       1565      38   \n14384  2020-08-27            Чувашия       7651       6313      68   \n14385  2020-08-27       Чукотский АО        170        161       2   \n14386  2020-08-27  Ямало-Ненецкий АО      13222      12804      90   \n14387  2020-08-27   Ярославская обл.       7077       6277      33   \n\n       Day_deaths  Day_confirmed  Day_recovered  \n14378           0             80            104  \n14379           1             65             85  \n14380           2             19             16  \n14381           1             65            107  \n14382           1             69             93  \n14383           0              4              6  \n14384           0             32             30  \n14385           0              1              0  \n14386           0             42             66  \n14387           0             40             48  ",
      "text/html": "<div>\n<style scoped>\n    .dataframe tbody tr th:only-of-type {\n        vertical-align: middle;\n    }\n\n    .dataframe tbody tr th {\n        vertical-align: top;\n    }\n\n    .dataframe thead th {\n        text-align: right;\n    }\n</style>\n<table border=\"1\" class=\"dataframe\">\n  <thead>\n    <tr style=\"text-align: right;\">\n      <th></th>\n      <th>Date</th>\n      <th>Region</th>\n      <th>Confirmed</th>\n      <th>Recovered</th>\n      <th>Deaths</th>\n      <th>Day_deaths</th>\n      <th>Day_confirmed</th>\n      <th>Day_recovered</th>\n    </tr>\n  </thead>\n  <tbody>\n    <tr>\n      <th>14378</th>\n      <td>2020-08-27</td>\n      <td>Ульяновская обл.</td>\n      <td>11718</td>\n      <td>8970</td>\n      <td>91</td>\n      <td>0</td>\n      <td>80</td>\n      <td>104</td>\n    </tr>\n    <tr>\n      <th>14379</th>\n      <td>2020-08-27</td>\n      <td>Хабаровский край</td>\n      <td>9860</td>\n      <td>7694</td>\n      <td>86</td>\n      <td>1</td>\n      <td>65</td>\n      <td>85</td>\n    </tr>\n    <tr>\n      <th>14380</th>\n      <td>2020-08-27</td>\n      <td>Хакасия</td>\n      <td>3345</td>\n      <td>3079</td>\n      <td>41</td>\n      <td>2</td>\n      <td>19</td>\n      <td>16</td>\n    </tr>\n    <tr>\n      <th>14381</th>\n      <td>2020-08-27</td>\n      <td>ХМАО – Югра</td>\n      <td>19350</td>\n      <td>17995</td>\n      <td>162</td>\n      <td>1</td>\n      <td>65</td>\n      <td>107</td>\n    </tr>\n    <tr>\n      <th>14382</th>\n      <td>2020-08-27</td>\n      <td>Челябинская обл.</td>\n      <td>13420</td>\n      <td>9203</td>\n      <td>104</td>\n      <td>1</td>\n      <td>69</td>\n      <td>93</td>\n    </tr>\n    <tr>\n      <th>14383</th>\n      <td>2020-08-27</td>\n      <td>Чечня</td>\n      <td>2249</td>\n      <td>1565</td>\n      <td>38</td>\n      <td>0</td>\n      <td>4</td>\n      <td>6</td>\n    </tr>\n    <tr>\n      <th>14384</th>\n      <td>2020-08-27</td>\n      <td>Чувашия</td>\n      <td>7651</td>\n      <td>6313</td>\n      <td>68</td>\n      <td>0</td>\n      <td>32</td>\n      <td>30</td>\n    </tr>\n    <tr>\n      <th>14385</th>\n      <td>2020-08-27</td>\n      <td>Чукотский АО</td>\n      <td>170</td>\n      <td>161</td>\n      <td>2</td>\n      <td>0</td>\n      <td>1</td>\n      <td>0</td>\n    </tr>\n    <tr>\n      <th>14386</th>\n      <td>2020-08-27</td>\n      <td>Ямало-Ненецкий АО</td>\n      <td>13222</td>\n      <td>12804</td>\n      <td>90</td>\n      <td>0</td>\n      <td>42</td>\n      <td>66</td>\n    </tr>\n    <tr>\n      <th>14387</th>\n      <td>2020-08-27</td>\n      <td>Ярославская обл.</td>\n      <td>7077</td>\n      <td>6277</td>\n      <td>33</td>\n      <td>0</td>\n      <td>40</td>\n      <td>48</td>\n    </tr>\n  </tbody>\n</table>\n</div>"
     },
     "metadata": {},
     "execution_count": 2
    }
   ],
   "source": [
    "yandex_russia = pd.read_csv('yandex_russia.csv')\n",
    "\n",
    "yandex_russia.rename(columns = {'Дата':'Date','Регион':'Region','Заражений':'Confirmed','Выздоровлений':'Recovered',\n",
    "                               'Смертей':'Deaths','Смертей за день':'Day_deaths',\n",
    "                               'Заражений за день':'Day_confirmed','Выздоровлений за день':'Day_recovered'},inplace = True)\n",
    "\n",
    "\n",
    "for i in range(yandex_russia.shape[0]):\n",
    "    a= yandex_russia.Date[i].split('.')\n",
    "    yandex_russia.Date[i]=datetime.date(int(a[2]),int(a[1]),int(a[0]))\n",
    "    \n",
    "   \n",
    "yandex_russia.tail(10)"
   ]
  },
  {
   "cell_type": "code",
   "execution_count": 3,
   "metadata": {},
   "outputs": [
    {
     "output_type": "execute_result",
     "data": {
      "text/plain": "           Date  Region  Confirmed  Recovered  Deaths  Day_deaths  \\\n169  2020-08-18  Россия     932493     742628   15872         132   \n170  2020-08-19  Россия     937321     749423   15989         117   \n171  2020-08-20  Россия     942106     755513   16099         110   \n172  2020-08-21  Россия     946976     761330   16189          90   \n173  2020-08-22  Россия     951897     767477   16310         121   \n174  2020-08-23  Россия     956749     770639   16383          73   \n175  2020-08-24  Россия     961493     773095   16448          65   \n176  2020-08-25  Россия     966189     779747   16568         120   \n177  2020-08-26  Россия     970865     786150   16683         115   \n178  2020-08-27  Россия     975576     792561   16804         121   \n\n     Day_confirmed  Day_recovered  \n169           4748           6527  \n170           4828           6795  \n171           4785           6090  \n172           4870           5817  \n173           4921           6147  \n174           4852           3162  \n175           4744           2456  \n176           4696           6652  \n177           4676           6403  \n178           4711           6411  ",
      "text/html": "<div>\n<style scoped>\n    .dataframe tbody tr th:only-of-type {\n        vertical-align: middle;\n    }\n\n    .dataframe tbody tr th {\n        vertical-align: top;\n    }\n\n    .dataframe thead th {\n        text-align: right;\n    }\n</style>\n<table border=\"1\" class=\"dataframe\">\n  <thead>\n    <tr style=\"text-align: right;\">\n      <th></th>\n      <th>Date</th>\n      <th>Region</th>\n      <th>Confirmed</th>\n      <th>Recovered</th>\n      <th>Deaths</th>\n      <th>Day_deaths</th>\n      <th>Day_confirmed</th>\n      <th>Day_recovered</th>\n    </tr>\n  </thead>\n  <tbody>\n    <tr>\n      <th>169</th>\n      <td>2020-08-18</td>\n      <td>Россия</td>\n      <td>932493</td>\n      <td>742628</td>\n      <td>15872</td>\n      <td>132</td>\n      <td>4748</td>\n      <td>6527</td>\n    </tr>\n    <tr>\n      <th>170</th>\n      <td>2020-08-19</td>\n      <td>Россия</td>\n      <td>937321</td>\n      <td>749423</td>\n      <td>15989</td>\n      <td>117</td>\n      <td>4828</td>\n      <td>6795</td>\n    </tr>\n    <tr>\n      <th>171</th>\n      <td>2020-08-20</td>\n      <td>Россия</td>\n      <td>942106</td>\n      <td>755513</td>\n      <td>16099</td>\n      <td>110</td>\n      <td>4785</td>\n      <td>6090</td>\n    </tr>\n    <tr>\n      <th>172</th>\n      <td>2020-08-21</td>\n      <td>Россия</td>\n      <td>946976</td>\n      <td>761330</td>\n      <td>16189</td>\n      <td>90</td>\n      <td>4870</td>\n      <td>5817</td>\n    </tr>\n    <tr>\n      <th>173</th>\n      <td>2020-08-22</td>\n      <td>Россия</td>\n      <td>951897</td>\n      <td>767477</td>\n      <td>16310</td>\n      <td>121</td>\n      <td>4921</td>\n      <td>6147</td>\n    </tr>\n    <tr>\n      <th>174</th>\n      <td>2020-08-23</td>\n      <td>Россия</td>\n      <td>956749</td>\n      <td>770639</td>\n      <td>16383</td>\n      <td>73</td>\n      <td>4852</td>\n      <td>3162</td>\n    </tr>\n    <tr>\n      <th>175</th>\n      <td>2020-08-24</td>\n      <td>Россия</td>\n      <td>961493</td>\n      <td>773095</td>\n      <td>16448</td>\n      <td>65</td>\n      <td>4744</td>\n      <td>2456</td>\n    </tr>\n    <tr>\n      <th>176</th>\n      <td>2020-08-25</td>\n      <td>Россия</td>\n      <td>966189</td>\n      <td>779747</td>\n      <td>16568</td>\n      <td>120</td>\n      <td>4696</td>\n      <td>6652</td>\n    </tr>\n    <tr>\n      <th>177</th>\n      <td>2020-08-26</td>\n      <td>Россия</td>\n      <td>970865</td>\n      <td>786150</td>\n      <td>16683</td>\n      <td>115</td>\n      <td>4676</td>\n      <td>6403</td>\n    </tr>\n    <tr>\n      <th>178</th>\n      <td>2020-08-27</td>\n      <td>Россия</td>\n      <td>975576</td>\n      <td>792561</td>\n      <td>16804</td>\n      <td>121</td>\n      <td>4711</td>\n      <td>6411</td>\n    </tr>\n  </tbody>\n</table>\n</div>"
     },
     "metadata": {},
     "execution_count": 3
    }
   ],
   "source": [
    "df3_temp = yandex_russia.groupby('Date').sum()\n",
    "df3_temp['Region']='Россия'\n",
    "\n",
    "y5= pd.concat([yandex_russia,df3_temp.reset_index()],axis = 0)\n",
    "y5.reset_index()\n",
    "yandex_russia = y5\n",
    "yandex_russia.tail(10)"
   ]
  },
  {
   "cell_type": "code",
   "execution_count": 4,
   "metadata": {
    "tags": []
   },
   "outputs": [
    {
     "output_type": "stream",
     "name": "stdout",
     "text": "2020-08-27\nВыбран день:  2020-08-27\n"
    }
   ],
   "source": [
    "# dt = datetime.datetime.today()\n",
    "# today = datetime.date(dt.year,dt.month,dt.day)\n",
    "# ystday = datetime.date(today.year,today.month,today.day-1)\n",
    "# yst2day = datetime.date(today.year,today.month,today.day-2)\n",
    "# yst3day = datetime.date(today.year,today.month,today.day-3)\n",
    "\n",
    "# print(today)\n",
    "# print(ystday)\n",
    "# print(yst2day)\n",
    "# print(yst3day)\n",
    "myday = list(yandex_russia.tail(1).Date)[0]\n",
    "\n",
    "print(yandex_russia.iloc[-1,0])\n",
    "print('Выбран день: ',myday)"
   ]
  },
  {
   "cell_type": "code",
   "execution_count": 5,
   "metadata": {
    "tags": []
   },
   "outputs": [
    {
     "output_type": "stream",
     "name": "stdout",
     "text": "dict_items([(0, 'Адыгея'), (1, 'Алтай'), (2, 'Алтайский край'), (3, 'Амурская обл.'), (4, 'Архангельская обл.'), (5, 'Астраханская обл.'), (6, 'Башкортостан'), (7, 'Белгородская обл.'), (8, 'Брянская обл.'), (9, 'Бурятия'), (10, 'Владимирская обл.'), (11, 'Волгоградская обл.'), (12, 'Вологодская обл.'), (13, 'Воронежская обл.'), (14, 'Дагестан'), (15, 'Еврейская АО'), (16, 'Забайкальский край'), (17, 'Ивановская обл.'), (18, 'Ингушетия'), (19, 'Иркутская обл.'), (20, 'Кабардино-Балкария'), (21, 'Калининградская обл.'), (22, 'Калмыкия'), (23, 'Калужская обл.'), (24, 'Камчатский край'), (25, 'Карачаево-Черкессия'), (26, 'Карелия'), (27, 'Кемеровская обл.'), (28, 'Кировская обл.'), (29, 'Коми'), (30, 'Костромская обл.'), (31, 'Краснодарский край'), (32, 'Красноярский край'), (33, 'Крым'), (34, 'Курганская обл.'), (35, 'Курская обл.'), (36, 'Ленинградская обл.'), (37, 'Липецкая обл.'), (38, 'Магаданская обл.'), (39, 'Марий Эл'), (40, 'Мордовия'), (41, 'Москва'), (42, 'Московская обл.'), (43, 'Мурманская обл.'), (44, 'Ненецкий АО'), (45, 'Нижегородская обл.'), (46, 'Новгородская обл.'), (47, 'Новосибирская обл.'), (48, 'Омская обл.'), (49, 'Оренбургская обл.'), (50, 'Орловская обл.'), (51, 'Пензенская обл.'), (52, 'Пермский край'), (53, 'Приморский край'), (54, 'Псковская обл.'), (55, 'Россия'), (56, 'Ростовская обл.'), (57, 'Рязанская обл.'), (58, 'Самарская обл.'), (59, 'Санкт-Петербург'), (60, 'Саратовская обл.'), (61, 'Саха (Якутия)'), (62, 'Сахалинская обл.'), (63, 'Свердловская обл.'), (64, 'Севастополь'), (65, 'Северная Осетия'), (66, 'Смоленская обл.'), (67, 'Ставропольский край'), (68, 'Тамбовская обл.'), (69, 'Татарстан'), (70, 'Тверская обл.'), (71, 'Томская обл.'), (72, 'Тульская обл.'), (73, 'Тыва'), (74, 'Тюменская обл.'), (75, 'Удмуртия'), (76, 'Ульяновская обл.'), (77, 'ХМАО – Югра'), (78, 'Хабаровский край'), (79, 'Хакасия'), (80, 'Челябинская обл.'), (81, 'Чечня'), (82, 'Чувашия'), (83, 'Чукотский АО'), (84, 'Ямало-Ненецкий АО'), (85, 'Ярославская обл.')])\n"
    },
    {
     "output_type": "execute_result",
     "data": {
      "text/plain": "             Date  Confirmed  Recovered  Deaths  Day_deaths  Day_confirmed  \\\n14562  2020-08-23       6925       6135      32           0             40   \n14563  2020-08-24       6964       6159      32           0             39   \n14564  2020-08-25       6999       6197      32           0             35   \n14565  2020-08-26       7037       6229      33           1             38   \n14566  2020-08-27       7077       6277      33           0             40   \n\n       Day_recovered     Rt    Rt2  Rate_conf  Rate_ill            Region  \\\n14562              2  0.981  1.023          0         0  Ярославская обл.   \n14563             24  0.994  1.023          0         0  Ярославская обл.   \n14564             38  1.000  1.023          0         0  Ярославская обл.   \n14565             32  0.993  1.022          0         0  Ярославская обл.   \n14566             48  0.993  1.022          0         0  Ярославская обл.   \n\n       Remaining_ill  MA7_dayconfirmed  MA14_dayconfirmed  MA7_remaining_ill  \\\n14562            758         38.571429          38.500000         720.142857   \n14563            773         38.428571          38.642857         728.428571   \n14564            770         38.142857          38.357143         738.285714   \n14565            775         37.857143          38.357143         748.000000   \n14566            767         38.142857          38.214286         754.857143   \n\n       MA14_remaining_ill  Change_dayconf  Change_remill  \n14562          683.928571               2             38  \n14563          693.357143              -1             15  \n14564          702.071429              -4             -3  \n14565          711.785714               3              5  \n14566          720.642857               2             -8  ",
      "text/html": "<div>\n<style scoped>\n    .dataframe tbody tr th:only-of-type {\n        vertical-align: middle;\n    }\n\n    .dataframe tbody tr th {\n        vertical-align: top;\n    }\n\n    .dataframe thead th {\n        text-align: right;\n    }\n</style>\n<table border=\"1\" class=\"dataframe\">\n  <thead>\n    <tr style=\"text-align: right;\">\n      <th></th>\n      <th>Date</th>\n      <th>Confirmed</th>\n      <th>Recovered</th>\n      <th>Deaths</th>\n      <th>Day_deaths</th>\n      <th>Day_confirmed</th>\n      <th>Day_recovered</th>\n      <th>Rt</th>\n      <th>Rt2</th>\n      <th>Rate_conf</th>\n      <th>Rate_ill</th>\n      <th>Region</th>\n      <th>Remaining_ill</th>\n      <th>MA7_dayconfirmed</th>\n      <th>MA14_dayconfirmed</th>\n      <th>MA7_remaining_ill</th>\n      <th>MA14_remaining_ill</th>\n      <th>Change_dayconf</th>\n      <th>Change_remill</th>\n    </tr>\n  </thead>\n  <tbody>\n    <tr>\n      <th>14562</th>\n      <td>2020-08-23</td>\n      <td>6925</td>\n      <td>6135</td>\n      <td>32</td>\n      <td>0</td>\n      <td>40</td>\n      <td>2</td>\n      <td>0.981</td>\n      <td>1.023</td>\n      <td>0</td>\n      <td>0</td>\n      <td>Ярославская обл.</td>\n      <td>758</td>\n      <td>38.571429</td>\n      <td>38.500000</td>\n      <td>720.142857</td>\n      <td>683.928571</td>\n      <td>2</td>\n      <td>38</td>\n    </tr>\n    <tr>\n      <th>14563</th>\n      <td>2020-08-24</td>\n      <td>6964</td>\n      <td>6159</td>\n      <td>32</td>\n      <td>0</td>\n      <td>39</td>\n      <td>24</td>\n      <td>0.994</td>\n      <td>1.023</td>\n      <td>0</td>\n      <td>0</td>\n      <td>Ярославская обл.</td>\n      <td>773</td>\n      <td>38.428571</td>\n      <td>38.642857</td>\n      <td>728.428571</td>\n      <td>693.357143</td>\n      <td>-1</td>\n      <td>15</td>\n    </tr>\n    <tr>\n      <th>14564</th>\n      <td>2020-08-25</td>\n      <td>6999</td>\n      <td>6197</td>\n      <td>32</td>\n      <td>0</td>\n      <td>35</td>\n      <td>38</td>\n      <td>1.000</td>\n      <td>1.023</td>\n      <td>0</td>\n      <td>0</td>\n      <td>Ярославская обл.</td>\n      <td>770</td>\n      <td>38.142857</td>\n      <td>38.357143</td>\n      <td>738.285714</td>\n      <td>702.071429</td>\n      <td>-4</td>\n      <td>-3</td>\n    </tr>\n    <tr>\n      <th>14565</th>\n      <td>2020-08-26</td>\n      <td>7037</td>\n      <td>6229</td>\n      <td>33</td>\n      <td>1</td>\n      <td>38</td>\n      <td>32</td>\n      <td>0.993</td>\n      <td>1.022</td>\n      <td>0</td>\n      <td>0</td>\n      <td>Ярославская обл.</td>\n      <td>775</td>\n      <td>37.857143</td>\n      <td>38.357143</td>\n      <td>748.000000</td>\n      <td>711.785714</td>\n      <td>3</td>\n      <td>5</td>\n    </tr>\n    <tr>\n      <th>14566</th>\n      <td>2020-08-27</td>\n      <td>7077</td>\n      <td>6277</td>\n      <td>33</td>\n      <td>0</td>\n      <td>40</td>\n      <td>48</td>\n      <td>0.993</td>\n      <td>1.022</td>\n      <td>0</td>\n      <td>0</td>\n      <td>Ярославская обл.</td>\n      <td>767</td>\n      <td>38.142857</td>\n      <td>38.214286</td>\n      <td>754.857143</td>\n      <td>720.642857</td>\n      <td>2</td>\n      <td>-8</td>\n    </tr>\n  </tbody>\n</table>\n</div>"
     },
     "metadata": {},
     "execution_count": 5
    }
   ],
   "source": [
    "X = pd.DataFrame()\n",
    "regions_dict = {}\n",
    "yandex_russia['Rt'] = 1\n",
    "yandex_russia['Rt2'] = 1\n",
    "yandex_russia['Rate_conf'] = 0\n",
    "yandex_russia['Rate_ill'] = 0\n",
    "\n",
    "temp_df = yandex_russia.groupby(['Region','Date']).sum()\n",
    "\n",
    "# Ниже enumerate  для составления словаря из имен регионов {i:j} , для расчетов можно было использовать только j\n",
    "\n",
    "for i,j in enumerate(temp_df.index.get_level_values(0).unique()):\n",
    "    temp_df2 =  temp_df.loc[j]\n",
    "    temp1 = temp_df2['Day_confirmed'].rolling(4).sum()/(temp_df2[\"Day_confirmed\"].rolling(8).sum()-\n",
    "\n",
    "                                                              temp_df2[\"Day_confirmed\"].rolling(4).sum())\n",
    "    temp2 = temp_df2['Confirmed'].rolling(4).sum()/(temp_df2['Confirmed'].rolling(8).sum()-\n",
    "\n",
    "                                                              temp_df2['Confirmed'].rolling(4).sum())\n",
    "    temp_df2['Rt'] = round(temp1,3)\n",
    "    temp_df2['Rt2'] = round(temp2,3)\n",
    "    temp_df2['Region'] = j\n",
    "    temp_df2['Remaining_ill']=temp_df2['Confirmed']-temp_df2['Recovered']-temp_df2['Deaths']\n",
    "    temp_df2['MA7_dayconfirmed']=temp_df2['Day_confirmed'].rolling(window=7).mean()\n",
    "    temp_df2['MA14_dayconfirmed']=temp_df2['Day_confirmed'].rolling(window=14).mean()\n",
    "    temp_df2['MA7_remaining_ill']=temp_df2['Remaining_ill'].rolling(window=7).mean()\n",
    "    temp_df2['MA14_remaining_ill']=temp_df2['Remaining_ill'].rolling(window=14).mean()\n",
    "    \n",
    "    temp_df2['Change_dayconf'] = 0\n",
    "    for k in range(1,temp_df2.shape[0]):\n",
    "        temp_df2['Change_dayconf'].iloc[k]=temp_df2['Day_confirmed'].iloc[k]-temp_df2['Day_confirmed'].iloc[k-1]\n",
    "    temp_df2['Change_remill'] = 0\n",
    "    for k in range(1,temp_df2.shape[0]):\n",
    "        temp_df2['Change_remill'].iloc[k]=temp_df2['Remaining_ill'].iloc[k]-temp_df2['Remaining_ill'].iloc[k-1]\n",
    "    \n",
    "    \n",
    "\n",
    "   #Генератор DF  на каждый регион(сидит в цикле):\n",
    "   # globals()['x' + str(i)] = temp_df2.reset_index()\n",
    "    \n",
    "    X = pd.concat([X,temp_df2.reset_index()],axis = 0)\n",
    "    regions_dict[i]=j\n",
    "    \n",
    "print(regions_dict.items())\n",
    "    \n",
    "X = X.reset_index(drop=True)\n",
    "X.tail()\n"
   ]
  },
  {
   "cell_type": "code",
   "execution_count": 6,
   "metadata": {
    "tags": []
   },
   "outputs": [
    {
     "output_type": "stream",
     "name": "stdout",
     "text": "Confirmed  Remaining_ill\nDate                                \n2020-08-26     970865         168032\n2020-08-27     975576         166211\n14567\n(14567, 19)\n2020-03-12\n"
    }
   ],
   "source": [
    "mask = X.Region == 'Россия'\n",
    "temp_df = X[mask][['Date','Confirmed','Remaining_ill']]\n",
    "temp_df.index = temp_df.Date\n",
    "temp_df.drop(columns =['Date'], inplace = True)\n",
    "print(temp_df.tail(2))\n",
    "# print(temp_df.index.get_level_values(0))\n",
    "# temp_df.loc[datetime.date(2020,6,15),'Россия'].Confirmed\n",
    "# for i in temp_df.index.get_level_values(0).unique()[-2:]:\n",
    "#     print(temp_df.loc[i,'Россия'].Confirmed)\n",
    "rus_date = list(temp_df.index)\n",
    "rus_conf = list(temp_df.Confirmed)\n",
    "rus_ill = list(temp_df.Remaining_ill)\n",
    "rus_dict_conf = dict(zip(rus_date,rus_conf))\n",
    "rus_dict_ill = dict(zip(rus_date,rus_ill))\n",
    "\n",
    "print(len(X))\n",
    "print(X.shape)\n",
    "print(X.loc[0,'Date'])\n",
    "for i in range(len(X)):\n",
    "    X.loc[i,'Rate_conf']=100*X.loc[i,'Confirmed']/rus_dict_conf.get(X.loc[i,'Date'])\n",
    "    X.loc[i,'Rate_ill']=100*X.loc[i,'Remaining_ill']/rus_dict_ill.get(X.loc[i,'Date'])\n"
   ]
  },
  {
   "cell_type": "code",
   "execution_count": 7,
   "metadata": {},
   "outputs": [
    {
     "output_type": "execute_result",
     "data": {
      "text/plain": "            Date  Confirmed  Region  Rate_conf  Rate_ill\n9477  2020-08-08     882347  Россия      100.0     100.0\n9478  2020-08-09     887536  Россия      100.0     100.0\n9479  2020-08-10     892654  Россия      100.0     100.0\n9480  2020-08-11     897599  Россия      100.0     100.0\n9481  2020-08-12     902701  Россия      100.0     100.0\n9482  2020-08-13     907758  Россия      100.0     100.0\n9483  2020-08-14     912823  Россия      100.0     100.0\n9484  2020-08-15     917884  Россия      100.0     100.0\n9485  2020-08-16     922853  Россия      100.0     100.0\n9486  2020-08-17     927745  Россия      100.0     100.0\n9487  2020-08-18     932493  Россия      100.0     100.0\n9488  2020-08-19     937321  Россия      100.0     100.0\n9489  2020-08-20     942106  Россия      100.0     100.0\n9490  2020-08-21     946976  Россия      100.0     100.0\n9491  2020-08-22     951897  Россия      100.0     100.0\n9492  2020-08-23     956749  Россия      100.0     100.0\n9493  2020-08-24     961493  Россия      100.0     100.0\n9494  2020-08-25     966189  Россия      100.0     100.0\n9495  2020-08-26     970865  Россия      100.0     100.0\n9496  2020-08-27     975576  Россия      100.0     100.0",
      "text/html": "<div>\n<style scoped>\n    .dataframe tbody tr th:only-of-type {\n        vertical-align: middle;\n    }\n\n    .dataframe tbody tr th {\n        vertical-align: top;\n    }\n\n    .dataframe thead th {\n        text-align: right;\n    }\n</style>\n<table border=\"1\" class=\"dataframe\">\n  <thead>\n    <tr style=\"text-align: right;\">\n      <th></th>\n      <th>Date</th>\n      <th>Confirmed</th>\n      <th>Region</th>\n      <th>Rate_conf</th>\n      <th>Rate_ill</th>\n    </tr>\n  </thead>\n  <tbody>\n    <tr>\n      <th>9477</th>\n      <td>2020-08-08</td>\n      <td>882347</td>\n      <td>Россия</td>\n      <td>100.0</td>\n      <td>100.0</td>\n    </tr>\n    <tr>\n      <th>9478</th>\n      <td>2020-08-09</td>\n      <td>887536</td>\n      <td>Россия</td>\n      <td>100.0</td>\n      <td>100.0</td>\n    </tr>\n    <tr>\n      <th>9479</th>\n      <td>2020-08-10</td>\n      <td>892654</td>\n      <td>Россия</td>\n      <td>100.0</td>\n      <td>100.0</td>\n    </tr>\n    <tr>\n      <th>9480</th>\n      <td>2020-08-11</td>\n      <td>897599</td>\n      <td>Россия</td>\n      <td>100.0</td>\n      <td>100.0</td>\n    </tr>\n    <tr>\n      <th>9481</th>\n      <td>2020-08-12</td>\n      <td>902701</td>\n      <td>Россия</td>\n      <td>100.0</td>\n      <td>100.0</td>\n    </tr>\n    <tr>\n      <th>9482</th>\n      <td>2020-08-13</td>\n      <td>907758</td>\n      <td>Россия</td>\n      <td>100.0</td>\n      <td>100.0</td>\n    </tr>\n    <tr>\n      <th>9483</th>\n      <td>2020-08-14</td>\n      <td>912823</td>\n      <td>Россия</td>\n      <td>100.0</td>\n      <td>100.0</td>\n    </tr>\n    <tr>\n      <th>9484</th>\n      <td>2020-08-15</td>\n      <td>917884</td>\n      <td>Россия</td>\n      <td>100.0</td>\n      <td>100.0</td>\n    </tr>\n    <tr>\n      <th>9485</th>\n      <td>2020-08-16</td>\n      <td>922853</td>\n      <td>Россия</td>\n      <td>100.0</td>\n      <td>100.0</td>\n    </tr>\n    <tr>\n      <th>9486</th>\n      <td>2020-08-17</td>\n      <td>927745</td>\n      <td>Россия</td>\n      <td>100.0</td>\n      <td>100.0</td>\n    </tr>\n    <tr>\n      <th>9487</th>\n      <td>2020-08-18</td>\n      <td>932493</td>\n      <td>Россия</td>\n      <td>100.0</td>\n      <td>100.0</td>\n    </tr>\n    <tr>\n      <th>9488</th>\n      <td>2020-08-19</td>\n      <td>937321</td>\n      <td>Россия</td>\n      <td>100.0</td>\n      <td>100.0</td>\n    </tr>\n    <tr>\n      <th>9489</th>\n      <td>2020-08-20</td>\n      <td>942106</td>\n      <td>Россия</td>\n      <td>100.0</td>\n      <td>100.0</td>\n    </tr>\n    <tr>\n      <th>9490</th>\n      <td>2020-08-21</td>\n      <td>946976</td>\n      <td>Россия</td>\n      <td>100.0</td>\n      <td>100.0</td>\n    </tr>\n    <tr>\n      <th>9491</th>\n      <td>2020-08-22</td>\n      <td>951897</td>\n      <td>Россия</td>\n      <td>100.0</td>\n      <td>100.0</td>\n    </tr>\n    <tr>\n      <th>9492</th>\n      <td>2020-08-23</td>\n      <td>956749</td>\n      <td>Россия</td>\n      <td>100.0</td>\n      <td>100.0</td>\n    </tr>\n    <tr>\n      <th>9493</th>\n      <td>2020-08-24</td>\n      <td>961493</td>\n      <td>Россия</td>\n      <td>100.0</td>\n      <td>100.0</td>\n    </tr>\n    <tr>\n      <th>9494</th>\n      <td>2020-08-25</td>\n      <td>966189</td>\n      <td>Россия</td>\n      <td>100.0</td>\n      <td>100.0</td>\n    </tr>\n    <tr>\n      <th>9495</th>\n      <td>2020-08-26</td>\n      <td>970865</td>\n      <td>Россия</td>\n      <td>100.0</td>\n      <td>100.0</td>\n    </tr>\n    <tr>\n      <th>9496</th>\n      <td>2020-08-27</td>\n      <td>975576</td>\n      <td>Россия</td>\n      <td>100.0</td>\n      <td>100.0</td>\n    </tr>\n  </tbody>\n</table>\n</div>"
     },
     "metadata": {},
     "execution_count": 7
    }
   ],
   "source": [
    "mask = (X.Date>=datetime.date(2020,6,13))&(X.Region.isin(['Москва','Россия']))\n",
    "\n",
    "temp=X[mask]\n",
    "temp[['Date','Confirmed','Region','Rate_conf','Rate_ill']].tail(20)"
   ]
  },
  {
   "cell_type": "code",
   "execution_count": 8,
   "metadata": {},
   "outputs": [],
   "source": [
    "# russia_regions = pd.read_csv('regions-info.csv')\n",
    "\n",
    "# russia_regions[(russia_regions.Region =='Московская область')|(russia_regions.Region =='Москва')|\n",
    "#               (russia_regions.Region =='Санкт-Петербург')].tail()"
   ]
  },
  {
   "cell_type": "code",
   "execution_count": 9,
   "metadata": {},
   "outputs": [],
   "source": [
    "X.to_csv('X.csv',index=False)\n"
   ]
  },
  {
   "cell_type": "code",
   "execution_count": null,
   "metadata": {},
   "outputs": [],
   "source": []
  }
 ],
 "metadata": {
  "kernelspec": {
   "display_name": "Python 3.8.3 64-bit ('covid': venv)",
   "language": "python",
   "name": "python_defaultSpec_1598536932858"
  },
  "language_info": {
   "codemirror_mode": {
    "name": "ipython",
    "version": 3
   },
   "file_extension": ".py",
   "mimetype": "text/x-python",
   "name": "python",
   "nbconvert_exporter": "python",
   "pygments_lexer": "ipython3",
   "version": "3.8.3-final"
  }
 },
 "nbformat": 4,
 "nbformat_minor": 4
}