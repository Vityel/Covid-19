{
 "cells": [
  {
   "cell_type": "code",
   "execution_count": 1,
   "metadata": {},
   "outputs": [],
   "source": [
    "import pandas as pd\n",
    "import datetime\n",
    "import plotly.graph_objects as go\n",
    "import plotly.express as px\n",
    "import plotly.figure_factory as ff\n"
   ]
  },
  {
   "cell_type": "code",
   "execution_count": 2,
   "metadata": {},
   "outputs": [
    {
     "output_type": "execute_result",
     "data": {
      "text/plain": "             Date             Region  Confirmed  Recovered  Deaths  \\\n14933  2020-09-03   Ульяновская обл.      12353      10249     111   \n14934  2020-09-03   Хабаровский край      10309       8167      93   \n14935  2020-09-03            Хакасия       3478       3168      45   \n14936  2020-09-03        ХМАО – Югра      19816      18713     170   \n14937  2020-09-03   Челябинская обл.      13877       9616     108   \n14938  2020-09-03              Чечня       2286       1628      38   \n14939  2020-09-03            Чувашия       7865       6504      71   \n14940  2020-09-03       Чукотский АО        172        164       2   \n14941  2020-09-03  Ямало-Ненецкий АО      13547      13032      91   \n14942  2020-09-03   Ярославская обл.       7345       6731      38   \n\n       Day_deaths  Day_confirmed  Day_recovered  \n14933           1             94            297  \n14934           1             73             75  \n14935           0             23             15  \n14936           1             72            112  \n14937           3             51             63  \n14938           0              6              0  \n14939           0             29             27  \n14940           0              0              0  \n14941           1             44             13  \n14942           1             37             97  ",
      "text/html": "<div>\n<style scoped>\n    .dataframe tbody tr th:only-of-type {\n        vertical-align: middle;\n    }\n\n    .dataframe tbody tr th {\n        vertical-align: top;\n    }\n\n    .dataframe thead th {\n        text-align: right;\n    }\n</style>\n<table border=\"1\" class=\"dataframe\">\n  <thead>\n    <tr style=\"text-align: right;\">\n      <th></th>\n      <th>Date</th>\n      <th>Region</th>\n      <th>Confirmed</th>\n      <th>Recovered</th>\n      <th>Deaths</th>\n      <th>Day_deaths</th>\n      <th>Day_confirmed</th>\n      <th>Day_recovered</th>\n    </tr>\n  </thead>\n  <tbody>\n    <tr>\n      <th>14933</th>\n      <td>2020-09-03</td>\n      <td>Ульяновская обл.</td>\n      <td>12353</td>\n      <td>10249</td>\n      <td>111</td>\n      <td>1</td>\n      <td>94</td>\n      <td>297</td>\n    </tr>\n    <tr>\n      <th>14934</th>\n      <td>2020-09-03</td>\n      <td>Хабаровский край</td>\n      <td>10309</td>\n      <td>8167</td>\n      <td>93</td>\n      <td>1</td>\n      <td>73</td>\n      <td>75</td>\n    </tr>\n    <tr>\n      <th>14935</th>\n      <td>2020-09-03</td>\n      <td>Хакасия</td>\n      <td>3478</td>\n      <td>3168</td>\n      <td>45</td>\n      <td>0</td>\n      <td>23</td>\n      <td>15</td>\n    </tr>\n    <tr>\n      <th>14936</th>\n      <td>2020-09-03</td>\n      <td>ХМАО – Югра</td>\n      <td>19816</td>\n      <td>18713</td>\n      <td>170</td>\n      <td>1</td>\n      <td>72</td>\n      <td>112</td>\n    </tr>\n    <tr>\n      <th>14937</th>\n      <td>2020-09-03</td>\n      <td>Челябинская обл.</td>\n      <td>13877</td>\n      <td>9616</td>\n      <td>108</td>\n      <td>3</td>\n      <td>51</td>\n      <td>63</td>\n    </tr>\n    <tr>\n      <th>14938</th>\n      <td>2020-09-03</td>\n      <td>Чечня</td>\n      <td>2286</td>\n      <td>1628</td>\n      <td>38</td>\n      <td>0</td>\n      <td>6</td>\n      <td>0</td>\n    </tr>\n    <tr>\n      <th>14939</th>\n      <td>2020-09-03</td>\n      <td>Чувашия</td>\n      <td>7865</td>\n      <td>6504</td>\n      <td>71</td>\n      <td>0</td>\n      <td>29</td>\n      <td>27</td>\n    </tr>\n    <tr>\n      <th>14940</th>\n      <td>2020-09-03</td>\n      <td>Чукотский АО</td>\n      <td>172</td>\n      <td>164</td>\n      <td>2</td>\n      <td>0</td>\n      <td>0</td>\n      <td>0</td>\n    </tr>\n    <tr>\n      <th>14941</th>\n      <td>2020-09-03</td>\n      <td>Ямало-Ненецкий АО</td>\n      <td>13547</td>\n      <td>13032</td>\n      <td>91</td>\n      <td>1</td>\n      <td>44</td>\n      <td>13</td>\n    </tr>\n    <tr>\n      <th>14942</th>\n      <td>2020-09-03</td>\n      <td>Ярославская обл.</td>\n      <td>7345</td>\n      <td>6731</td>\n      <td>38</td>\n      <td>1</td>\n      <td>37</td>\n      <td>97</td>\n    </tr>\n  </tbody>\n</table>\n</div>"
     },
     "metadata": {},
     "execution_count": 2
    }
   ],
   "source": [
    "yandex_russia = pd.read_csv('yandex_russia.csv')\n",
    "\n",
    "yandex_russia.rename(columns = {'Дата':'Date','Регион':'Region','Заражений':'Confirmed','Выздоровлений':'Recovered',\n",
    "                               'Смертей':'Deaths','Смертей за день':'Day_deaths',\n",
    "                               'Заражений за день':'Day_confirmed','Выздоровлений за день':'Day_recovered'},inplace = True)\n",
    "\n",
    "\n",
    "for i in range(yandex_russia.shape[0]):\n",
    "    a= yandex_russia.Date[i].split('.')\n",
    "    yandex_russia.Date[i]=datetime.date(int(a[2]),int(a[1]),int(a[0]))\n",
    "    \n",
    "   \n",
    "yandex_russia.tail(10)"
   ]
  },
  {
   "cell_type": "code",
   "execution_count": 3,
   "metadata": {},
   "outputs": [
    {
     "output_type": "execute_result",
     "data": {
      "text/plain": "           Date  Region  Confirmed  Recovered  Deaths  Day_deaths  \\\n166  2020-08-25  Россия     966189     779747   16568         120   \n167  2020-08-26  Россия     970865     786150   16683         115   \n168  2020-08-27  Россия     975576     792561   16804         121   \n169  2020-08-28  Россия     980405     798466   16914         110   \n170  2020-08-29  Россия     985346     804383   17025         111   \n171  2020-08-30  Россия     990326     806982   17093          68   \n172  2020-08-31  Россия     995319     809387   17176          83   \n173  2020-09-01  Россия    1000048     815705   17299         123   \n174  2020-09-02  Россия    1005000     821169   17414         115   \n175  2020-09-03  Россия    1009995     826935   17528         114   \n\n     Day_confirmed  Day_recovered  \n166           4696           6652  \n167           4676           6403  \n168           4711           6411  \n169           4829           5905  \n170           4941           5917  \n171           4980           2599  \n172           4993           2405  \n173           4729           6318  \n174           4952           5464  \n175           4995           5766  ",
      "text/html": "<div>\n<style scoped>\n    .dataframe tbody tr th:only-of-type {\n        vertical-align: middle;\n    }\n\n    .dataframe tbody tr th {\n        vertical-align: top;\n    }\n\n    .dataframe thead th {\n        text-align: right;\n    }\n</style>\n<table border=\"1\" class=\"dataframe\">\n  <thead>\n    <tr style=\"text-align: right;\">\n      <th></th>\n      <th>Date</th>\n      <th>Region</th>\n      <th>Confirmed</th>\n      <th>Recovered</th>\n      <th>Deaths</th>\n      <th>Day_deaths</th>\n      <th>Day_confirmed</th>\n      <th>Day_recovered</th>\n    </tr>\n  </thead>\n  <tbody>\n    <tr>\n      <th>166</th>\n      <td>2020-08-25</td>\n      <td>Россия</td>\n      <td>966189</td>\n      <td>779747</td>\n      <td>16568</td>\n      <td>120</td>\n      <td>4696</td>\n      <td>6652</td>\n    </tr>\n    <tr>\n      <th>167</th>\n      <td>2020-08-26</td>\n      <td>Россия</td>\n      <td>970865</td>\n      <td>786150</td>\n      <td>16683</td>\n      <td>115</td>\n      <td>4676</td>\n      <td>6403</td>\n    </tr>\n    <tr>\n      <th>168</th>\n      <td>2020-08-27</td>\n      <td>Россия</td>\n      <td>975576</td>\n      <td>792561</td>\n      <td>16804</td>\n      <td>121</td>\n      <td>4711</td>\n      <td>6411</td>\n    </tr>\n    <tr>\n      <th>169</th>\n      <td>2020-08-28</td>\n      <td>Россия</td>\n      <td>980405</td>\n      <td>798466</td>\n      <td>16914</td>\n      <td>110</td>\n      <td>4829</td>\n      <td>5905</td>\n    </tr>\n    <tr>\n      <th>170</th>\n      <td>2020-08-29</td>\n      <td>Россия</td>\n      <td>985346</td>\n      <td>804383</td>\n      <td>17025</td>\n      <td>111</td>\n      <td>4941</td>\n      <td>5917</td>\n    </tr>\n    <tr>\n      <th>171</th>\n      <td>2020-08-30</td>\n      <td>Россия</td>\n      <td>990326</td>\n      <td>806982</td>\n      <td>17093</td>\n      <td>68</td>\n      <td>4980</td>\n      <td>2599</td>\n    </tr>\n    <tr>\n      <th>172</th>\n      <td>2020-08-31</td>\n      <td>Россия</td>\n      <td>995319</td>\n      <td>809387</td>\n      <td>17176</td>\n      <td>83</td>\n      <td>4993</td>\n      <td>2405</td>\n    </tr>\n    <tr>\n      <th>173</th>\n      <td>2020-09-01</td>\n      <td>Россия</td>\n      <td>1000048</td>\n      <td>815705</td>\n      <td>17299</td>\n      <td>123</td>\n      <td>4729</td>\n      <td>6318</td>\n    </tr>\n    <tr>\n      <th>174</th>\n      <td>2020-09-02</td>\n      <td>Россия</td>\n      <td>1005000</td>\n      <td>821169</td>\n      <td>17414</td>\n      <td>115</td>\n      <td>4952</td>\n      <td>5464</td>\n    </tr>\n    <tr>\n      <th>175</th>\n      <td>2020-09-03</td>\n      <td>Россия</td>\n      <td>1009995</td>\n      <td>826935</td>\n      <td>17528</td>\n      <td>114</td>\n      <td>4995</td>\n      <td>5766</td>\n    </tr>\n  </tbody>\n</table>\n</div>"
     },
     "metadata": {},
     "execution_count": 3
    }
   ],
   "source": [
    "df3_temp = yandex_russia.groupby('Date').sum()\n",
    "df3_temp['Region']='Россия'\n",
    "\n",
    "y5= pd.concat([yandex_russia,df3_temp.reset_index()],axis = 0)\n",
    "y5.reset_index()\n",
    "yandex_russia = y5\n",
    "yandex_russia.tail(10)"
   ]
  },
  {
   "cell_type": "code",
   "execution_count": 4,
   "metadata": {
    "tags": []
   },
   "outputs": [
    {
     "output_type": "stream",
     "name": "stdout",
     "text": "2020-09-03\nВыбран день:  2020-09-03\n"
    }
   ],
   "source": [
    "# dt = datetime.datetime.today()\n",
    "# today = datetime.date(dt.year,dt.month,dt.day)\n",
    "# ystday = datetime.date(today.year,today.month,today.day-1)\n",
    "# yst2day = datetime.date(today.year,today.month,today.day-2)\n",
    "# yst3day = datetime.date(today.year,today.month,today.day-3)\n",
    "\n",
    "# print(today)\n",
    "# print(ystday)\n",
    "# print(yst2day)\n",
    "# print(yst3day)\n",
    "myday = list(yandex_russia.tail(1).Date)[0]\n",
    "\n",
    "print(yandex_russia.iloc[-1,0])\n",
    "print('Выбран день: ',myday)"
   ]
  },
  {
   "cell_type": "code",
   "execution_count": 5,
   "metadata": {
    "tags": []
   },
   "outputs": [
    {
     "output_type": "stream",
     "name": "stdout",
     "text": "dict_items([(0, 'Адыгея'), (1, 'Алтай'), (2, 'Алтайский край'), (3, 'Амурская обл.'), (4, 'Архангельская обл.'), (5, 'Астраханская обл.'), (6, 'Башкортостан'), (7, 'Белгородская обл.'), (8, 'Брянская обл.'), (9, 'Бурятия'), (10, 'Владимирская обл.'), (11, 'Волгоградская обл.'), (12, 'Вологодская обл.'), (13, 'Воронежская обл.'), (14, 'Дагестан'), (15, 'Еврейская АО'), (16, 'Забайкальский край'), (17, 'Ивановская обл.'), (18, 'Ингушетия'), (19, 'Иркутская обл.'), (20, 'Кабардино-Балкария'), (21, 'Калининградская обл.'), (22, 'Калмыкия'), (23, 'Калужская обл.'), (24, 'Камчатский край'), (25, 'Карачаево-Черкессия'), (26, 'Карелия'), (27, 'Кемеровская обл.'), (28, 'Кировская обл.'), (29, 'Коми'), (30, 'Костромская обл.'), (31, 'Краснодарский край'), (32, 'Красноярский край'), (33, 'Крым'), (34, 'Курганская обл.'), (35, 'Курская обл.'), (36, 'Ленинградская обл.'), (37, 'Липецкая обл.'), (38, 'Магаданская обл.'), (39, 'Марий Эл'), (40, 'Мордовия'), (41, 'Москва'), (42, 'Московская обл.'), (43, 'Мурманская обл.'), (44, 'Ненецкий АО'), (45, 'Нижегородская обл.'), (46, 'Новгородская обл.'), (47, 'Новосибирская обл.'), (48, 'Омская обл.'), (49, 'Оренбургская обл.'), (50, 'Орловская обл.'), (51, 'Пензенская обл.'), (52, 'Пермский край'), (53, 'Приморский край'), (54, 'Псковская обл.'), (55, 'Россия'), (56, 'Ростовская обл.'), (57, 'Рязанская обл.'), (58, 'Самарская обл.'), (59, 'Санкт-Петербург'), (60, 'Саратовская обл.'), (61, 'Саха (Якутия)'), (62, 'Сахалинская обл.'), (63, 'Свердловская обл.'), (64, 'Севастополь'), (65, 'Северная Осетия'), (66, 'Смоленская обл.'), (67, 'Ставропольский край'), (68, 'Тамбовская обл.'), (69, 'Татарстан'), (70, 'Тверская обл.'), (71, 'Томская обл.'), (72, 'Тульская обл.'), (73, 'Тыва'), (74, 'Тюменская обл.'), (75, 'Удмуртия'), (76, 'Ульяновская обл.'), (77, 'ХМАО – Югра'), (78, 'Хабаровский край'), (79, 'Хакасия'), (80, 'Челябинская обл.'), (81, 'Чечня'), (82, 'Чувашия'), (83, 'Чукотский АО'), (84, 'Ямало-Ненецкий АО'), (85, 'Ярославская обл.')])\n"
    },
    {
     "output_type": "execute_result",
     "data": {
      "text/plain": "             Date  Confirmed  Recovered  Deaths  Day_deaths  Day_confirmed  \\\n15114  2020-08-30       7188       6401      35           0             38   \n15115  2020-08-31       7228       6407      36           1             40   \n15116  2020-09-01       7269       6535      37           1             41   \n15117  2020-09-02       7308       6634      37           0             39   \n15118  2020-09-03       7345       6731      38           1             37   \n\n       Day_recovered     Rt    Rt2  Rate_conf  Rate_ill            Region  \\\n15114              7  0.993  1.022          0         0  Ярославская обл.   \n15115              6  0.993  1.022          0         0  Ярославская обл.   \n15116            128  0.993  1.021          0         0  Ярославская обл.   \n15117             99  1.046  1.022          0         0  Ярославская обл.   \n15118             97  1.040  1.022          0         0  Ярославская обл.   \n\n       Remaining_ill  MA7_dayconfirmed  MA14_dayconfirmed  MA7_remaining_ill  \\\n15114            752         37.571429          38.071429         758.571429   \n15115            785         37.714286          38.071429         760.285714   \n15116            697         38.571429          38.357143         749.857143   \n15117            637         38.714286          38.285714         730.142857   \n15118            576         38.285714          38.214286         702.857143   \n\n       MA14_remaining_ill  Change_dayconf  Change_remill  \n15114          739.357143               5             31  \n15115          744.357143               2             33  \n15116          744.071429               1            -88  \n15117          739.071429              -2            -60  \n15118          728.857143              -2            -61  ",
      "text/html": "<div>\n<style scoped>\n    .dataframe tbody tr th:only-of-type {\n        vertical-align: middle;\n    }\n\n    .dataframe tbody tr th {\n        vertical-align: top;\n    }\n\n    .dataframe thead th {\n        text-align: right;\n    }\n</style>\n<table border=\"1\" class=\"dataframe\">\n  <thead>\n    <tr style=\"text-align: right;\">\n      <th></th>\n      <th>Date</th>\n      <th>Confirmed</th>\n      <th>Recovered</th>\n      <th>Deaths</th>\n      <th>Day_deaths</th>\n      <th>Day_confirmed</th>\n      <th>Day_recovered</th>\n      <th>Rt</th>\n      <th>Rt2</th>\n      <th>Rate_conf</th>\n      <th>Rate_ill</th>\n      <th>Region</th>\n      <th>Remaining_ill</th>\n      <th>MA7_dayconfirmed</th>\n      <th>MA14_dayconfirmed</th>\n      <th>MA7_remaining_ill</th>\n      <th>MA14_remaining_ill</th>\n      <th>Change_dayconf</th>\n      <th>Change_remill</th>\n    </tr>\n  </thead>\n  <tbody>\n    <tr>\n      <th>15114</th>\n      <td>2020-08-30</td>\n      <td>7188</td>\n      <td>6401</td>\n      <td>35</td>\n      <td>0</td>\n      <td>38</td>\n      <td>7</td>\n      <td>0.993</td>\n      <td>1.022</td>\n      <td>0</td>\n      <td>0</td>\n      <td>Ярославская обл.</td>\n      <td>752</td>\n      <td>37.571429</td>\n      <td>38.071429</td>\n      <td>758.571429</td>\n      <td>739.357143</td>\n      <td>5</td>\n      <td>31</td>\n    </tr>\n    <tr>\n      <th>15115</th>\n      <td>2020-08-31</td>\n      <td>7228</td>\n      <td>6407</td>\n      <td>36</td>\n      <td>1</td>\n      <td>40</td>\n      <td>6</td>\n      <td>0.993</td>\n      <td>1.022</td>\n      <td>0</td>\n      <td>0</td>\n      <td>Ярославская обл.</td>\n      <td>785</td>\n      <td>37.714286</td>\n      <td>38.071429</td>\n      <td>760.285714</td>\n      <td>744.357143</td>\n      <td>2</td>\n      <td>33</td>\n    </tr>\n    <tr>\n      <th>15116</th>\n      <td>2020-09-01</td>\n      <td>7269</td>\n      <td>6535</td>\n      <td>37</td>\n      <td>1</td>\n      <td>41</td>\n      <td>128</td>\n      <td>0.993</td>\n      <td>1.021</td>\n      <td>0</td>\n      <td>0</td>\n      <td>Ярославская обл.</td>\n      <td>697</td>\n      <td>38.571429</td>\n      <td>38.357143</td>\n      <td>749.857143</td>\n      <td>744.071429</td>\n      <td>1</td>\n      <td>-88</td>\n    </tr>\n    <tr>\n      <th>15117</th>\n      <td>2020-09-02</td>\n      <td>7308</td>\n      <td>6634</td>\n      <td>37</td>\n      <td>0</td>\n      <td>39</td>\n      <td>99</td>\n      <td>1.046</td>\n      <td>1.022</td>\n      <td>0</td>\n      <td>0</td>\n      <td>Ярославская обл.</td>\n      <td>637</td>\n      <td>38.714286</td>\n      <td>38.285714</td>\n      <td>730.142857</td>\n      <td>739.071429</td>\n      <td>-2</td>\n      <td>-60</td>\n    </tr>\n    <tr>\n      <th>15118</th>\n      <td>2020-09-03</td>\n      <td>7345</td>\n      <td>6731</td>\n      <td>38</td>\n      <td>1</td>\n      <td>37</td>\n      <td>97</td>\n      <td>1.040</td>\n      <td>1.022</td>\n      <td>0</td>\n      <td>0</td>\n      <td>Ярославская обл.</td>\n      <td>576</td>\n      <td>38.285714</td>\n      <td>38.214286</td>\n      <td>702.857143</td>\n      <td>728.857143</td>\n      <td>-2</td>\n      <td>-61</td>\n    </tr>\n  </tbody>\n</table>\n</div>"
     },
     "metadata": {},
     "execution_count": 5
    }
   ],
   "source": [
    "X = pd.DataFrame()\n",
    "regions_dict = {}\n",
    "yandex_russia['Rt'] = 1\n",
    "yandex_russia['Rt2'] = 1\n",
    "yandex_russia['Rate_conf'] = 0\n",
    "yandex_russia['Rate_ill'] = 0\n",
    "\n",
    "temp_df = yandex_russia.groupby(['Region','Date']).sum()\n",
    "\n",
    "# Ниже enumerate  для составления словаря из имен регионов {i:j} , для расчетов можно было использовать только j\n",
    "\n",
    "for i,j in enumerate(temp_df.index.get_level_values(0).unique()):\n",
    "    temp_df2 =  temp_df.loc[j]\n",
    "    temp1 = temp_df2['Day_confirmed'].rolling(4).sum()/(temp_df2[\"Day_confirmed\"].rolling(8).sum()-\n",
    "\n",
    "                                                              temp_df2[\"Day_confirmed\"].rolling(4).sum())\n",
    "    temp2 = temp_df2['Confirmed'].rolling(4).sum()/(temp_df2['Confirmed'].rolling(8).sum()-\n",
    "\n",
    "                                                              temp_df2['Confirmed'].rolling(4).sum())\n",
    "    temp_df2['Rt'] = round(temp1,3)\n",
    "    temp_df2['Rt2'] = round(temp2,3)\n",
    "    temp_df2['Region'] = j\n",
    "    temp_df2['Remaining_ill']=temp_df2['Confirmed']-temp_df2['Recovered']-temp_df2['Deaths']\n",
    "    temp_df2['MA7_dayconfirmed']=temp_df2['Day_confirmed'].rolling(window=7).mean()\n",
    "    temp_df2['MA14_dayconfirmed']=temp_df2['Day_confirmed'].rolling(window=14).mean()\n",
    "    temp_df2['MA7_remaining_ill']=temp_df2['Remaining_ill'].rolling(window=7).mean()\n",
    "    temp_df2['MA14_remaining_ill']=temp_df2['Remaining_ill'].rolling(window=14).mean()\n",
    "    \n",
    "    temp_df2['Change_dayconf'] = 0\n",
    "    for k in range(1,temp_df2.shape[0]):\n",
    "        temp_df2['Change_dayconf'].iloc[k]=temp_df2['Day_confirmed'].iloc[k]-temp_df2['Day_confirmed'].iloc[k-1]\n",
    "    temp_df2['Change_remill'] = 0\n",
    "    for k in range(1,temp_df2.shape[0]):\n",
    "        temp_df2['Change_remill'].iloc[k]=temp_df2['Remaining_ill'].iloc[k]-temp_df2['Remaining_ill'].iloc[k-1]\n",
    "    \n",
    "    \n",
    "\n",
    "   #Генератор DF  на каждый регион(сидит в цикле):\n",
    "   # globals()['x' + str(i)] = temp_df2.reset_index()\n",
    "    \n",
    "    X = pd.concat([X,temp_df2.reset_index()],axis = 0)\n",
    "    regions_dict[i]=j\n",
    "    \n",
    "print(regions_dict.items())\n",
    "    \n",
    "X = X.reset_index(drop=True)\n",
    "X.tail()\n"
   ]
  },
  {
   "cell_type": "code",
   "execution_count": 6,
   "metadata": {
    "tags": []
   },
   "outputs": [
    {
     "output_type": "stream",
     "name": "stdout",
     "text": "Confirmed  Remaining_ill\nDate                                \n2020-09-02    1005000         166417\n2020-09-03    1009995         165532\n15119\n(15119, 19)\n2020-03-12\n"
    }
   ],
   "source": [
    "mask = X.Region == 'Россия'\n",
    "temp_df = X[mask][['Date','Confirmed','Remaining_ill']]\n",
    "temp_df.index = temp_df.Date\n",
    "temp_df.drop(columns =['Date'], inplace = True)\n",
    "print(temp_df.tail(2))\n",
    "# print(temp_df.index.get_level_values(0))\n",
    "# temp_df.loc[datetime.date(2020,6,15),'Россия'].Confirmed\n",
    "# for i in temp_df.index.get_level_values(0).unique()[-2:]:\n",
    "#     print(temp_df.loc[i,'Россия'].Confirmed)\n",
    "rus_date = list(temp_df.index)\n",
    "rus_conf = list(temp_df.Confirmed)\n",
    "rus_ill = list(temp_df.Remaining_ill)\n",
    "rus_dict_conf = dict(zip(rus_date,rus_conf))\n",
    "rus_dict_ill = dict(zip(rus_date,rus_ill))\n",
    "\n",
    "print(len(X))\n",
    "print(X.shape)\n",
    "print(X.loc[0,'Date'])\n",
    "for i in range(len(X)):\n",
    "    X.loc[i,'Rate_conf']=100*X.loc[i,'Confirmed']/rus_dict_conf.get(X.loc[i,'Date'])\n",
    "    X.loc[i,'Rate_ill']=100*X.loc[i,'Remaining_ill']/rus_dict_ill.get(X.loc[i,'Date'])\n"
   ]
  },
  {
   "cell_type": "code",
   "execution_count": 7,
   "metadata": {},
   "outputs": [
    {
     "output_type": "execute_result",
     "data": {
      "text/plain": "            Date  Confirmed  Region  Rate_conf  Rate_ill\n9824  2020-08-15     917884  Россия      100.0     100.0\n9825  2020-08-16     922853  Россия      100.0     100.0\n9826  2020-08-17     927745  Россия      100.0     100.0\n9827  2020-08-18     932493  Россия      100.0     100.0\n9828  2020-08-19     937321  Россия      100.0     100.0\n9829  2020-08-20     942106  Россия      100.0     100.0\n9830  2020-08-21     946976  Россия      100.0     100.0\n9831  2020-08-22     951897  Россия      100.0     100.0\n9832  2020-08-23     956749  Россия      100.0     100.0\n9833  2020-08-24     961493  Россия      100.0     100.0\n9834  2020-08-25     966189  Россия      100.0     100.0\n9835  2020-08-26     970865  Россия      100.0     100.0\n9836  2020-08-27     975576  Россия      100.0     100.0\n9837  2020-08-28     980405  Россия      100.0     100.0\n9838  2020-08-29     985346  Россия      100.0     100.0\n9839  2020-08-30     990326  Россия      100.0     100.0\n9840  2020-08-31     995319  Россия      100.0     100.0\n9841  2020-09-01    1000048  Россия      100.0     100.0\n9842  2020-09-02    1005000  Россия      100.0     100.0\n9843  2020-09-03    1009995  Россия      100.0     100.0",
      "text/html": "<div>\n<style scoped>\n    .dataframe tbody tr th:only-of-type {\n        vertical-align: middle;\n    }\n\n    .dataframe tbody tr th {\n        vertical-align: top;\n    }\n\n    .dataframe thead th {\n        text-align: right;\n    }\n</style>\n<table border=\"1\" class=\"dataframe\">\n  <thead>\n    <tr style=\"text-align: right;\">\n      <th></th>\n      <th>Date</th>\n      <th>Confirmed</th>\n      <th>Region</th>\n      <th>Rate_conf</th>\n      <th>Rate_ill</th>\n    </tr>\n  </thead>\n  <tbody>\n    <tr>\n      <th>9824</th>\n      <td>2020-08-15</td>\n      <td>917884</td>\n      <td>Россия</td>\n      <td>100.0</td>\n      <td>100.0</td>\n    </tr>\n    <tr>\n      <th>9825</th>\n      <td>2020-08-16</td>\n      <td>922853</td>\n      <td>Россия</td>\n      <td>100.0</td>\n      <td>100.0</td>\n    </tr>\n    <tr>\n      <th>9826</th>\n      <td>2020-08-17</td>\n      <td>927745</td>\n      <td>Россия</td>\n      <td>100.0</td>\n      <td>100.0</td>\n    </tr>\n    <tr>\n      <th>9827</th>\n      <td>2020-08-18</td>\n      <td>932493</td>\n      <td>Россия</td>\n      <td>100.0</td>\n      <td>100.0</td>\n    </tr>\n    <tr>\n      <th>9828</th>\n      <td>2020-08-19</td>\n      <td>937321</td>\n      <td>Россия</td>\n      <td>100.0</td>\n      <td>100.0</td>\n    </tr>\n    <tr>\n      <th>9829</th>\n      <td>2020-08-20</td>\n      <td>942106</td>\n      <td>Россия</td>\n      <td>100.0</td>\n      <td>100.0</td>\n    </tr>\n    <tr>\n      <th>9830</th>\n      <td>2020-08-21</td>\n      <td>946976</td>\n      <td>Россия</td>\n      <td>100.0</td>\n      <td>100.0</td>\n    </tr>\n    <tr>\n      <th>9831</th>\n      <td>2020-08-22</td>\n      <td>951897</td>\n      <td>Россия</td>\n      <td>100.0</td>\n      <td>100.0</td>\n    </tr>\n    <tr>\n      <th>9832</th>\n      <td>2020-08-23</td>\n      <td>956749</td>\n      <td>Россия</td>\n      <td>100.0</td>\n      <td>100.0</td>\n    </tr>\n    <tr>\n      <th>9833</th>\n      <td>2020-08-24</td>\n      <td>961493</td>\n      <td>Россия</td>\n      <td>100.0</td>\n      <td>100.0</td>\n    </tr>\n    <tr>\n      <th>9834</th>\n      <td>2020-08-25</td>\n      <td>966189</td>\n      <td>Россия</td>\n      <td>100.0</td>\n      <td>100.0</td>\n    </tr>\n    <tr>\n      <th>9835</th>\n      <td>2020-08-26</td>\n      <td>970865</td>\n      <td>Россия</td>\n      <td>100.0</td>\n      <td>100.0</td>\n    </tr>\n    <tr>\n      <th>9836</th>\n      <td>2020-08-27</td>\n      <td>975576</td>\n      <td>Россия</td>\n      <td>100.0</td>\n      <td>100.0</td>\n    </tr>\n    <tr>\n      <th>9837</th>\n      <td>2020-08-28</td>\n      <td>980405</td>\n      <td>Россия</td>\n      <td>100.0</td>\n      <td>100.0</td>\n    </tr>\n    <tr>\n      <th>9838</th>\n      <td>2020-08-29</td>\n      <td>985346</td>\n      <td>Россия</td>\n      <td>100.0</td>\n      <td>100.0</td>\n    </tr>\n    <tr>\n      <th>9839</th>\n      <td>2020-08-30</td>\n      <td>990326</td>\n      <td>Россия</td>\n      <td>100.0</td>\n      <td>100.0</td>\n    </tr>\n    <tr>\n      <th>9840</th>\n      <td>2020-08-31</td>\n      <td>995319</td>\n      <td>Россия</td>\n      <td>100.0</td>\n      <td>100.0</td>\n    </tr>\n    <tr>\n      <th>9841</th>\n      <td>2020-09-01</td>\n      <td>1000048</td>\n      <td>Россия</td>\n      <td>100.0</td>\n      <td>100.0</td>\n    </tr>\n    <tr>\n      <th>9842</th>\n      <td>2020-09-02</td>\n      <td>1005000</td>\n      <td>Россия</td>\n      <td>100.0</td>\n      <td>100.0</td>\n    </tr>\n    <tr>\n      <th>9843</th>\n      <td>2020-09-03</td>\n      <td>1009995</td>\n      <td>Россия</td>\n      <td>100.0</td>\n      <td>100.0</td>\n    </tr>\n  </tbody>\n</table>\n</div>"
     },
     "metadata": {},
     "execution_count": 7
    }
   ],
   "source": [
    "mask = (X.Date>=datetime.date(2020,6,13))&(X.Region.isin(['Москва','Россия']))\n",
    "\n",
    "temp=X[mask]\n",
    "temp[['Date','Confirmed','Region','Rate_conf','Rate_ill']].tail(20)"
   ]
  },
  {
   "cell_type": "code",
   "execution_count": 8,
   "metadata": {},
   "outputs": [],
   "source": [
    "# russia_regions = pd.read_csv('regions-info.csv')\n",
    "\n",
    "# russia_regions[(russia_regions.Region =='Московская область')|(russia_regions.Region =='Москва')|\n",
    "#               (russia_regions.Region =='Санкт-Петербург')].tail()"
   ]
  },
  {
   "cell_type": "code",
   "execution_count": 9,
   "metadata": {},
   "outputs": [],
   "source": [
    "X.to_csv('X.csv',index=False)\n"
   ]
  },
  {
   "cell_type": "code",
   "execution_count": null,
   "metadata": {},
   "outputs": [],
   "source": []
  }
 ],
 "metadata": {
  "kernelspec": {
   "display_name": "Python 3.8.3 64-bit ('covid': venv)",
   "language": "python",
   "name": "python_defaultSpec_1599136207890"
  },
  "language_info": {
   "codemirror_mode": {
    "name": "ipython",
    "version": 3
   },
   "file_extension": ".py",
   "mimetype": "text/x-python",
   "name": "python",
   "nbconvert_exporter": "python",
   "pygments_lexer": "ipython3",
   "version": "3.8.3-final"
  }
 },
 "nbformat": 4,
 "nbformat_minor": 4
}