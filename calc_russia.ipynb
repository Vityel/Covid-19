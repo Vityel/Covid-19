{
 "cells": [
  {
   "cell_type": "code",
   "execution_count": 1,
   "metadata": {},
   "outputs": [],
   "source": [
    "import pandas as pd\n",
    "import datetime\n",
    "import plotly.graph_objects as go\n",
    "import plotly.express as px\n",
    "import plotly.figure_factory as ff\n"
   ]
  },
  {
   "cell_type": "code",
   "execution_count": 2,
   "metadata": {},
   "outputs": [
    {
     "output_type": "execute_result",
     "data": {
      "text/plain": "             Date             Region  Confirmed  Recovered  Deaths  \\\n15528  2020-09-10   Ульяновская обл.      13057      11139     125   \n15529  2020-09-10   Хабаровский край      10705       8591      95   \n15530  2020-09-10            Хакасия       3674       3235      47   \n15531  2020-09-10        ХМАО – Югра      20350      19476     176   \n15532  2020-09-10   Челябинская обл.      14318      10157     109   \n15533  2020-09-10              Чечня       2327       1739      40   \n15534  2020-09-10            Чувашия       8070       6703      76   \n15535  2020-09-10       Чукотский АО        175        168       2   \n15536  2020-09-10  Ямало-Ненецкий АО      13894      13114      95   \n15537  2020-09-10   Ярославская обл.       7629       7134      42   \n\n       Day_deaths  Day_confirmed  Day_recovered  \n15528           5            108            156  \n15529           1             67            129  \n15530           0             33             11  \n15531           0             80            108  \n15532           0             69            115  \n15533           0              5             36  \n15534           1             27             35  \n15535           0              1              1  \n15536           1             54             17  \n15537           0             45             78  ",
      "text/html": "<div>\n<style scoped>\n    .dataframe tbody tr th:only-of-type {\n        vertical-align: middle;\n    }\n\n    .dataframe tbody tr th {\n        vertical-align: top;\n    }\n\n    .dataframe thead th {\n        text-align: right;\n    }\n</style>\n<table border=\"1\" class=\"dataframe\">\n  <thead>\n    <tr style=\"text-align: right;\">\n      <th></th>\n      <th>Date</th>\n      <th>Region</th>\n      <th>Confirmed</th>\n      <th>Recovered</th>\n      <th>Deaths</th>\n      <th>Day_deaths</th>\n      <th>Day_confirmed</th>\n      <th>Day_recovered</th>\n    </tr>\n  </thead>\n  <tbody>\n    <tr>\n      <th>15528</th>\n      <td>2020-09-10</td>\n      <td>Ульяновская обл.</td>\n      <td>13057</td>\n      <td>11139</td>\n      <td>125</td>\n      <td>5</td>\n      <td>108</td>\n      <td>156</td>\n    </tr>\n    <tr>\n      <th>15529</th>\n      <td>2020-09-10</td>\n      <td>Хабаровский край</td>\n      <td>10705</td>\n      <td>8591</td>\n      <td>95</td>\n      <td>1</td>\n      <td>67</td>\n      <td>129</td>\n    </tr>\n    <tr>\n      <th>15530</th>\n      <td>2020-09-10</td>\n      <td>Хакасия</td>\n      <td>3674</td>\n      <td>3235</td>\n      <td>47</td>\n      <td>0</td>\n      <td>33</td>\n      <td>11</td>\n    </tr>\n    <tr>\n      <th>15531</th>\n      <td>2020-09-10</td>\n      <td>ХМАО – Югра</td>\n      <td>20350</td>\n      <td>19476</td>\n      <td>176</td>\n      <td>0</td>\n      <td>80</td>\n      <td>108</td>\n    </tr>\n    <tr>\n      <th>15532</th>\n      <td>2020-09-10</td>\n      <td>Челябинская обл.</td>\n      <td>14318</td>\n      <td>10157</td>\n      <td>109</td>\n      <td>0</td>\n      <td>69</td>\n      <td>115</td>\n    </tr>\n    <tr>\n      <th>15533</th>\n      <td>2020-09-10</td>\n      <td>Чечня</td>\n      <td>2327</td>\n      <td>1739</td>\n      <td>40</td>\n      <td>0</td>\n      <td>5</td>\n      <td>36</td>\n    </tr>\n    <tr>\n      <th>15534</th>\n      <td>2020-09-10</td>\n      <td>Чувашия</td>\n      <td>8070</td>\n      <td>6703</td>\n      <td>76</td>\n      <td>1</td>\n      <td>27</td>\n      <td>35</td>\n    </tr>\n    <tr>\n      <th>15535</th>\n      <td>2020-09-10</td>\n      <td>Чукотский АО</td>\n      <td>175</td>\n      <td>168</td>\n      <td>2</td>\n      <td>0</td>\n      <td>1</td>\n      <td>1</td>\n    </tr>\n    <tr>\n      <th>15536</th>\n      <td>2020-09-10</td>\n      <td>Ямало-Ненецкий АО</td>\n      <td>13894</td>\n      <td>13114</td>\n      <td>95</td>\n      <td>1</td>\n      <td>54</td>\n      <td>17</td>\n    </tr>\n    <tr>\n      <th>15537</th>\n      <td>2020-09-10</td>\n      <td>Ярославская обл.</td>\n      <td>7629</td>\n      <td>7134</td>\n      <td>42</td>\n      <td>0</td>\n      <td>45</td>\n      <td>78</td>\n    </tr>\n  </tbody>\n</table>\n</div>"
     },
     "metadata": {},
     "execution_count": 2
    }
   ],
   "source": [
    "yandex_russia = pd.read_csv('yandex_russia.csv')\n",
    "\n",
    "yandex_russia.rename(columns = {'Дата':'Date','Регион':'Region','Заражений':'Confirmed','Выздоровлений':'Recovered',\n",
    "                               'Смертей':'Deaths','Смертей за день':'Day_deaths',\n",
    "                               'Заражений за день':'Day_confirmed','Выздоровлений за день':'Day_recovered'},inplace = True)\n",
    "\n",
    "\n",
    "for i in range(yandex_russia.shape[0]):\n",
    "    a= yandex_russia.Date[i].split('.')\n",
    "    yandex_russia.Date[i]=datetime.date(int(a[2]),int(a[1]),int(a[0]))\n",
    "    \n",
    "   \n",
    "yandex_russia.tail(10)"
   ]
  },
  {
   "cell_type": "code",
   "execution_count": 3,
   "metadata": {},
   "outputs": [
    {
     "output_type": "execute_result",
     "data": {
      "text/plain": "           Date  Region  Confirmed  Recovered  Deaths  Day_deaths  \\\n173  2020-09-01  Россия    1000048     815705   17299         123   \n174  2020-09-02  Россия    1005000     821169   17414         115   \n175  2020-09-03  Россия    1009995     826935   17528         114   \n176  2020-09-04  Россия    1015105     832747   17649         121   \n177  2020-09-05  Россия    1020310     838126   17759         110   \n178  2020-09-06  Россия    1025505     840949   17820          61   \n179  2020-09-07  Россия    1030690     843277   17871          51   \n180  2020-09-08  Россия    1035789     850049   17993         122   \n181  2020-09-09  Россия    1041007     856458   18135         142   \n182  2020-09-10  Россия    1046370     862373   18263         128   \n\n     Day_confirmed  Day_recovered  \n173           4729           6318  \n174           4952           5464  \n175           4995           5766  \n176           5110           5812  \n177           5205           5379  \n178           5195           2823  \n179           5185           2328  \n180           5099           6772  \n181           5218           6409  \n182           5363           5915  ",
      "text/html": "<div>\n<style scoped>\n    .dataframe tbody tr th:only-of-type {\n        vertical-align: middle;\n    }\n\n    .dataframe tbody tr th {\n        vertical-align: top;\n    }\n\n    .dataframe thead th {\n        text-align: right;\n    }\n</style>\n<table border=\"1\" class=\"dataframe\">\n  <thead>\n    <tr style=\"text-align: right;\">\n      <th></th>\n      <th>Date</th>\n      <th>Region</th>\n      <th>Confirmed</th>\n      <th>Recovered</th>\n      <th>Deaths</th>\n      <th>Day_deaths</th>\n      <th>Day_confirmed</th>\n      <th>Day_recovered</th>\n    </tr>\n  </thead>\n  <tbody>\n    <tr>\n      <th>173</th>\n      <td>2020-09-01</td>\n      <td>Россия</td>\n      <td>1000048</td>\n      <td>815705</td>\n      <td>17299</td>\n      <td>123</td>\n      <td>4729</td>\n      <td>6318</td>\n    </tr>\n    <tr>\n      <th>174</th>\n      <td>2020-09-02</td>\n      <td>Россия</td>\n      <td>1005000</td>\n      <td>821169</td>\n      <td>17414</td>\n      <td>115</td>\n      <td>4952</td>\n      <td>5464</td>\n    </tr>\n    <tr>\n      <th>175</th>\n      <td>2020-09-03</td>\n      <td>Россия</td>\n      <td>1009995</td>\n      <td>826935</td>\n      <td>17528</td>\n      <td>114</td>\n      <td>4995</td>\n      <td>5766</td>\n    </tr>\n    <tr>\n      <th>176</th>\n      <td>2020-09-04</td>\n      <td>Россия</td>\n      <td>1015105</td>\n      <td>832747</td>\n      <td>17649</td>\n      <td>121</td>\n      <td>5110</td>\n      <td>5812</td>\n    </tr>\n    <tr>\n      <th>177</th>\n      <td>2020-09-05</td>\n      <td>Россия</td>\n      <td>1020310</td>\n      <td>838126</td>\n      <td>17759</td>\n      <td>110</td>\n      <td>5205</td>\n      <td>5379</td>\n    </tr>\n    <tr>\n      <th>178</th>\n      <td>2020-09-06</td>\n      <td>Россия</td>\n      <td>1025505</td>\n      <td>840949</td>\n      <td>17820</td>\n      <td>61</td>\n      <td>5195</td>\n      <td>2823</td>\n    </tr>\n    <tr>\n      <th>179</th>\n      <td>2020-09-07</td>\n      <td>Россия</td>\n      <td>1030690</td>\n      <td>843277</td>\n      <td>17871</td>\n      <td>51</td>\n      <td>5185</td>\n      <td>2328</td>\n    </tr>\n    <tr>\n      <th>180</th>\n      <td>2020-09-08</td>\n      <td>Россия</td>\n      <td>1035789</td>\n      <td>850049</td>\n      <td>17993</td>\n      <td>122</td>\n      <td>5099</td>\n      <td>6772</td>\n    </tr>\n    <tr>\n      <th>181</th>\n      <td>2020-09-09</td>\n      <td>Россия</td>\n      <td>1041007</td>\n      <td>856458</td>\n      <td>18135</td>\n      <td>142</td>\n      <td>5218</td>\n      <td>6409</td>\n    </tr>\n    <tr>\n      <th>182</th>\n      <td>2020-09-10</td>\n      <td>Россия</td>\n      <td>1046370</td>\n      <td>862373</td>\n      <td>18263</td>\n      <td>128</td>\n      <td>5363</td>\n      <td>5915</td>\n    </tr>\n  </tbody>\n</table>\n</div>"
     },
     "metadata": {},
     "execution_count": 3
    }
   ],
   "source": [
    "df3_temp = yandex_russia.groupby('Date').sum()\n",
    "df3_temp['Region']='Россия'\n",
    "\n",
    "y5= pd.concat([yandex_russia,df3_temp.reset_index()],axis = 0)\n",
    "y5.reset_index()\n",
    "yandex_russia = y5\n",
    "yandex_russia.tail(10)"
   ]
  },
  {
   "cell_type": "code",
   "execution_count": 4,
   "metadata": {
    "tags": []
   },
   "outputs": [
    {
     "output_type": "stream",
     "name": "stdout",
     "text": "2020-09-10\nВыбран день:  2020-09-10\n"
    }
   ],
   "source": [
    "# dt = datetime.datetime.today()\n",
    "# today = datetime.date(dt.year,dt.month,dt.day)\n",
    "# ystday = datetime.date(today.year,today.month,today.day-1)\n",
    "# yst2day = datetime.date(today.year,today.month,today.day-2)\n",
    "# yst3day = datetime.date(today.year,today.month,today.day-3)\n",
    "\n",
    "# print(today)\n",
    "# print(ystday)\n",
    "# print(yst2day)\n",
    "# print(yst3day)\n",
    "myday = list(yandex_russia.tail(1).Date)[0]\n",
    "\n",
    "print(yandex_russia.iloc[-1,0])\n",
    "print('Выбран день: ',myday)"
   ]
  },
  {
   "cell_type": "code",
   "execution_count": 5,
   "metadata": {
    "tags": []
   },
   "outputs": [
    {
     "output_type": "stream",
     "name": "stdout",
     "text": "dict_items([(0, 'Адыгея'), (1, 'Алтай'), (2, 'Алтайский край'), (3, 'Амурская обл.'), (4, 'Архангельская обл.'), (5, 'Астраханская обл.'), (6, 'Башкортостан'), (7, 'Белгородская обл.'), (8, 'Брянская обл.'), (9, 'Бурятия'), (10, 'Владимирская обл.'), (11, 'Волгоградская обл.'), (12, 'Вологодская обл.'), (13, 'Воронежская обл.'), (14, 'Дагестан'), (15, 'Еврейская АО'), (16, 'Забайкальский край'), (17, 'Ивановская обл.'), (18, 'Ингушетия'), (19, 'Иркутская обл.'), (20, 'Кабардино-Балкария'), (21, 'Калининградская обл.'), (22, 'Калмыкия'), (23, 'Калужская обл.'), (24, 'Камчатский край'), (25, 'Карачаево-Черкессия'), (26, 'Карелия'), (27, 'Кемеровская обл.'), (28, 'Кировская обл.'), (29, 'Коми'), (30, 'Костромская обл.'), (31, 'Краснодарский край'), (32, 'Красноярский край'), (33, 'Крым'), (34, 'Курганская обл.'), (35, 'Курская обл.'), (36, 'Ленинградская обл.'), (37, 'Липецкая обл.'), (38, 'Магаданская обл.'), (39, 'Марий Эл'), (40, 'Мордовия'), (41, 'Москва'), (42, 'Московская обл.'), (43, 'Мурманская обл.'), (44, 'Ненецкий АО'), (45, 'Нижегородская обл.'), (46, 'Новгородская обл.'), (47, 'Новосибирская обл.'), (48, 'Омская обл.'), (49, 'Оренбургская обл.'), (50, 'Орловская обл.'), (51, 'Пензенская обл.'), (52, 'Пермский край'), (53, 'Приморский край'), (54, 'Псковская обл.'), (55, 'Россия'), (56, 'Ростовская обл.'), (57, 'Рязанская обл.'), (58, 'Самарская обл.'), (59, 'Санкт-Петербург'), (60, 'Саратовская обл.'), (61, 'Саха (Якутия)'), (62, 'Сахалинская обл.'), (63, 'Свердловская обл.'), (64, 'Севастополь'), (65, 'Северная Осетия'), (66, 'Смоленская обл.'), (67, 'Ставропольский край'), (68, 'Тамбовская обл.'), (69, 'Татарстан'), (70, 'Тверская обл.'), (71, 'Томская обл.'), (72, 'Тульская обл.'), (73, 'Тыва'), (74, 'Тюменская обл.'), (75, 'Удмуртия'), (76, 'Ульяновская обл.'), (77, 'ХМАО – Югра'), (78, 'Хабаровский край'), (79, 'Хакасия'), (80, 'Челябинская обл.'), (81, 'Чечня'), (82, 'Чувашия'), (83, 'Чукотский АО'), (84, 'Ямало-Ненецкий АО'), (85, 'Ярославская обл.')])\n"
    },
    {
     "output_type": "execute_result",
     "data": {
      "text/plain": "             Date  Confirmed  Recovered  Deaths  Day_deaths  Day_confirmed  \\\n15716  2020-09-06       7465       6909      38           0             42   \n15717  2020-09-07       7504       6915      38           0             39   \n15718  2020-09-08       7542       7007      42           4             38   \n15719  2020-09-09       7584       7056      42           0             42   \n15720  2020-09-10       7629       7134      42           0             45   \n\n       Day_recovered     Rt    Rt2  Rate_conf  Rate_ill            Region  \\\n15716             15  0.994  1.022          0         0  Ярославская обл.   \n15717              6  1.013  1.022          0         0  Ярославская обл.   \n15718             92  1.000  1.021          0         0  Ярославская обл.   \n15719             49  1.045  1.022          0         0  Ярославская обл.   \n15720             78  1.045  1.022          0         0  Ярославская обл.   \n\n       Remaining_ill  MA7_dayconfirmed  MA14_dayconfirmed  MA7_remaining_ill  \\\n15716            518         39.571429          38.571429         605.142857   \n15717            551         39.428571          38.571429         571.714286   \n15718            493         39.000000          38.785714         542.571429   \n15719            486         39.428571          39.071429         521.000000   \n15720            453         40.571429          39.428571         503.428571   \n\n       MA14_remaining_ill  Change_dayconf  Change_remill  \n15716          681.857143               4             27  \n15717          666.000000              -3             33  \n15718          646.214286              -1            -58  \n15719          625.571429               4             -7  \n15720          603.142857               3            -33  ",
      "text/html": "<div>\n<style scoped>\n    .dataframe tbody tr th:only-of-type {\n        vertical-align: middle;\n    }\n\n    .dataframe tbody tr th {\n        vertical-align: top;\n    }\n\n    .dataframe thead th {\n        text-align: right;\n    }\n</style>\n<table border=\"1\" class=\"dataframe\">\n  <thead>\n    <tr style=\"text-align: right;\">\n      <th></th>\n      <th>Date</th>\n      <th>Confirmed</th>\n      <th>Recovered</th>\n      <th>Deaths</th>\n      <th>Day_deaths</th>\n      <th>Day_confirmed</th>\n      <th>Day_recovered</th>\n      <th>Rt</th>\n      <th>Rt2</th>\n      <th>Rate_conf</th>\n      <th>Rate_ill</th>\n      <th>Region</th>\n      <th>Remaining_ill</th>\n      <th>MA7_dayconfirmed</th>\n      <th>MA14_dayconfirmed</th>\n      <th>MA7_remaining_ill</th>\n      <th>MA14_remaining_ill</th>\n      <th>Change_dayconf</th>\n      <th>Change_remill</th>\n    </tr>\n  </thead>\n  <tbody>\n    <tr>\n      <th>15716</th>\n      <td>2020-09-06</td>\n      <td>7465</td>\n      <td>6909</td>\n      <td>38</td>\n      <td>0</td>\n      <td>42</td>\n      <td>15</td>\n      <td>0.994</td>\n      <td>1.022</td>\n      <td>0</td>\n      <td>0</td>\n      <td>Ярославская обл.</td>\n      <td>518</td>\n      <td>39.571429</td>\n      <td>38.571429</td>\n      <td>605.142857</td>\n      <td>681.857143</td>\n      <td>4</td>\n      <td>27</td>\n    </tr>\n    <tr>\n      <th>15717</th>\n      <td>2020-09-07</td>\n      <td>7504</td>\n      <td>6915</td>\n      <td>38</td>\n      <td>0</td>\n      <td>39</td>\n      <td>6</td>\n      <td>1.013</td>\n      <td>1.022</td>\n      <td>0</td>\n      <td>0</td>\n      <td>Ярославская обл.</td>\n      <td>551</td>\n      <td>39.428571</td>\n      <td>38.571429</td>\n      <td>571.714286</td>\n      <td>666.000000</td>\n      <td>-3</td>\n      <td>33</td>\n    </tr>\n    <tr>\n      <th>15718</th>\n      <td>2020-09-08</td>\n      <td>7542</td>\n      <td>7007</td>\n      <td>42</td>\n      <td>4</td>\n      <td>38</td>\n      <td>92</td>\n      <td>1.000</td>\n      <td>1.021</td>\n      <td>0</td>\n      <td>0</td>\n      <td>Ярославская обл.</td>\n      <td>493</td>\n      <td>39.000000</td>\n      <td>38.785714</td>\n      <td>542.571429</td>\n      <td>646.214286</td>\n      <td>-1</td>\n      <td>-58</td>\n    </tr>\n    <tr>\n      <th>15719</th>\n      <td>2020-09-09</td>\n      <td>7584</td>\n      <td>7056</td>\n      <td>42</td>\n      <td>0</td>\n      <td>42</td>\n      <td>49</td>\n      <td>1.045</td>\n      <td>1.022</td>\n      <td>0</td>\n      <td>0</td>\n      <td>Ярославская обл.</td>\n      <td>486</td>\n      <td>39.428571</td>\n      <td>39.071429</td>\n      <td>521.000000</td>\n      <td>625.571429</td>\n      <td>4</td>\n      <td>-7</td>\n    </tr>\n    <tr>\n      <th>15720</th>\n      <td>2020-09-10</td>\n      <td>7629</td>\n      <td>7134</td>\n      <td>42</td>\n      <td>0</td>\n      <td>45</td>\n      <td>78</td>\n      <td>1.045</td>\n      <td>1.022</td>\n      <td>0</td>\n      <td>0</td>\n      <td>Ярославская обл.</td>\n      <td>453</td>\n      <td>40.571429</td>\n      <td>39.428571</td>\n      <td>503.428571</td>\n      <td>603.142857</td>\n      <td>3</td>\n      <td>-33</td>\n    </tr>\n  </tbody>\n</table>\n</div>"
     },
     "metadata": {},
     "execution_count": 5
    }
   ],
   "source": [
    "X = pd.DataFrame()\n",
    "regions_dict = {}\n",
    "yandex_russia['Rt'] = 1\n",
    "yandex_russia['Rt2'] = 1\n",
    "yandex_russia['Rate_conf'] = 0\n",
    "yandex_russia['Rate_ill'] = 0\n",
    "\n",
    "temp_df = yandex_russia.groupby(['Region','Date']).sum()\n",
    "\n",
    "# Ниже enumerate  для составления словаря из имен регионов {i:j} , для расчетов можно было использовать только j\n",
    "\n",
    "for i,j in enumerate(temp_df.index.get_level_values(0).unique()):\n",
    "    temp_df2 =  temp_df.loc[j]\n",
    "    temp1 = temp_df2['Day_confirmed'].rolling(4).sum()/(temp_df2[\"Day_confirmed\"].rolling(8).sum()-\n",
    "\n",
    "                                                              temp_df2[\"Day_confirmed\"].rolling(4).sum())\n",
    "    temp2 = temp_df2['Confirmed'].rolling(4).sum()/(temp_df2['Confirmed'].rolling(8).sum()-\n",
    "\n",
    "                                                              temp_df2['Confirmed'].rolling(4).sum())\n",
    "    temp_df2['Rt'] = round(temp1,3)\n",
    "    temp_df2['Rt2'] = round(temp2,3)\n",
    "    temp_df2['Region'] = j\n",
    "    temp_df2['Remaining_ill']=temp_df2['Confirmed']-temp_df2['Recovered']-temp_df2['Deaths']\n",
    "    temp_df2['MA7_dayconfirmed']=temp_df2['Day_confirmed'].rolling(window=7).mean()\n",
    "    temp_df2['MA14_dayconfirmed']=temp_df2['Day_confirmed'].rolling(window=14).mean()\n",
    "    temp_df2['MA7_remaining_ill']=temp_df2['Remaining_ill'].rolling(window=7).mean()\n",
    "    temp_df2['MA14_remaining_ill']=temp_df2['Remaining_ill'].rolling(window=14).mean()\n",
    "    \n",
    "    temp_df2['Change_dayconf'] = 0\n",
    "    for k in range(1,temp_df2.shape[0]):\n",
    "        temp_df2['Change_dayconf'].iloc[k]=temp_df2['Day_confirmed'].iloc[k]-temp_df2['Day_confirmed'].iloc[k-1]\n",
    "    temp_df2['Change_remill'] = 0\n",
    "    for k in range(1,temp_df2.shape[0]):\n",
    "        temp_df2['Change_remill'].iloc[k]=temp_df2['Remaining_ill'].iloc[k]-temp_df2['Remaining_ill'].iloc[k-1]\n",
    "    \n",
    "    \n",
    "\n",
    "   #Генератор DF  на каждый регион(сидит в цикле):\n",
    "   # globals()['x' + str(i)] = temp_df2.reset_index()\n",
    "    \n",
    "    X = pd.concat([X,temp_df2.reset_index()],axis = 0)\n",
    "    regions_dict[i]=j\n",
    "    \n",
    "print(regions_dict.items())\n",
    "    \n",
    "X = X.reset_index(drop=True)\n",
    "X.tail()\n"
   ]
  },
  {
   "cell_type": "code",
   "execution_count": 6,
   "metadata": {
    "tags": []
   },
   "outputs": [
    {
     "output_type": "stream",
     "name": "stdout",
     "text": "Confirmed  Remaining_ill\nDate                                \n2020-09-09    1041007         166414\n2020-09-10    1046370         165734\n15721\n(15721, 19)\n2020-03-12\n"
    }
   ],
   "source": [
    "mask = X.Region == 'Россия'\n",
    "temp_df = X[mask][['Date','Confirmed','Remaining_ill']]\n",
    "temp_df.index = temp_df.Date\n",
    "temp_df.drop(columns =['Date'], inplace = True)\n",
    "print(temp_df.tail(2))\n",
    "# print(temp_df.index.get_level_values(0))\n",
    "# temp_df.loc[datetime.date(2020,6,15),'Россия'].Confirmed\n",
    "# for i in temp_df.index.get_level_values(0).unique()[-2:]:\n",
    "#     print(temp_df.loc[i,'Россия'].Confirmed)\n",
    "rus_date = list(temp_df.index)\n",
    "rus_conf = list(temp_df.Confirmed)\n",
    "rus_ill = list(temp_df.Remaining_ill)\n",
    "rus_dict_conf = dict(zip(rus_date,rus_conf))\n",
    "rus_dict_ill = dict(zip(rus_date,rus_ill))\n",
    "\n",
    "print(len(X))\n",
    "print(X.shape)\n",
    "print(X.loc[0,'Date'])\n",
    "for i in range(len(X)):\n",
    "    X.loc[i,'Rate_conf']=100*X.loc[i,'Confirmed']/rus_dict_conf.get(X.loc[i,'Date'])\n",
    "    X.loc[i,'Rate_ill']=100*X.loc[i,'Remaining_ill']/rus_dict_ill.get(X.loc[i,'Date'])\n"
   ]
  },
  {
   "cell_type": "code",
   "execution_count": 7,
   "metadata": {},
   "outputs": [
    {
     "output_type": "execute_result",
     "data": {
      "text/plain": "             Date  Confirmed  Region  Rate_conf  Rate_ill\n10216  2020-08-22     951897  Россия      100.0     100.0\n10217  2020-08-23     956749  Россия      100.0     100.0\n10218  2020-08-24     961493  Россия      100.0     100.0\n10219  2020-08-25     966189  Россия      100.0     100.0\n10220  2020-08-26     970865  Россия      100.0     100.0\n10221  2020-08-27     975576  Россия      100.0     100.0\n10222  2020-08-28     980405  Россия      100.0     100.0\n10223  2020-08-29     985346  Россия      100.0     100.0\n10224  2020-08-30     990326  Россия      100.0     100.0\n10225  2020-08-31     995319  Россия      100.0     100.0\n10226  2020-09-01    1000048  Россия      100.0     100.0\n10227  2020-09-02    1005000  Россия      100.0     100.0\n10228  2020-09-03    1009995  Россия      100.0     100.0\n10229  2020-09-04    1015105  Россия      100.0     100.0\n10230  2020-09-05    1020310  Россия      100.0     100.0\n10231  2020-09-06    1025505  Россия      100.0     100.0\n10232  2020-09-07    1030690  Россия      100.0     100.0\n10233  2020-09-08    1035789  Россия      100.0     100.0\n10234  2020-09-09    1041007  Россия      100.0     100.0\n10235  2020-09-10    1046370  Россия      100.0     100.0",
      "text/html": "<div>\n<style scoped>\n    .dataframe tbody tr th:only-of-type {\n        vertical-align: middle;\n    }\n\n    .dataframe tbody tr th {\n        vertical-align: top;\n    }\n\n    .dataframe thead th {\n        text-align: right;\n    }\n</style>\n<table border=\"1\" class=\"dataframe\">\n  <thead>\n    <tr style=\"text-align: right;\">\n      <th></th>\n      <th>Date</th>\n      <th>Confirmed</th>\n      <th>Region</th>\n      <th>Rate_conf</th>\n      <th>Rate_ill</th>\n    </tr>\n  </thead>\n  <tbody>\n    <tr>\n      <th>10216</th>\n      <td>2020-08-22</td>\n      <td>951897</td>\n      <td>Россия</td>\n      <td>100.0</td>\n      <td>100.0</td>\n    </tr>\n    <tr>\n      <th>10217</th>\n      <td>2020-08-23</td>\n      <td>956749</td>\n      <td>Россия</td>\n      <td>100.0</td>\n      <td>100.0</td>\n    </tr>\n    <tr>\n      <th>10218</th>\n      <td>2020-08-24</td>\n      <td>961493</td>\n      <td>Россия</td>\n      <td>100.0</td>\n      <td>100.0</td>\n    </tr>\n    <tr>\n      <th>10219</th>\n      <td>2020-08-25</td>\n      <td>966189</td>\n      <td>Россия</td>\n      <td>100.0</td>\n      <td>100.0</td>\n    </tr>\n    <tr>\n      <th>10220</th>\n      <td>2020-08-26</td>\n      <td>970865</td>\n      <td>Россия</td>\n      <td>100.0</td>\n      <td>100.0</td>\n    </tr>\n    <tr>\n      <th>10221</th>\n      <td>2020-08-27</td>\n      <td>975576</td>\n      <td>Россия</td>\n      <td>100.0</td>\n      <td>100.0</td>\n    </tr>\n    <tr>\n      <th>10222</th>\n      <td>2020-08-28</td>\n      <td>980405</td>\n      <td>Россия</td>\n      <td>100.0</td>\n      <td>100.0</td>\n    </tr>\n    <tr>\n      <th>10223</th>\n      <td>2020-08-29</td>\n      <td>985346</td>\n      <td>Россия</td>\n      <td>100.0</td>\n      <td>100.0</td>\n    </tr>\n    <tr>\n      <th>10224</th>\n      <td>2020-08-30</td>\n      <td>990326</td>\n      <td>Россия</td>\n      <td>100.0</td>\n      <td>100.0</td>\n    </tr>\n    <tr>\n      <th>10225</th>\n      <td>2020-08-31</td>\n      <td>995319</td>\n      <td>Россия</td>\n      <td>100.0</td>\n      <td>100.0</td>\n    </tr>\n    <tr>\n      <th>10226</th>\n      <td>2020-09-01</td>\n      <td>1000048</td>\n      <td>Россия</td>\n      <td>100.0</td>\n      <td>100.0</td>\n    </tr>\n    <tr>\n      <th>10227</th>\n      <td>2020-09-02</td>\n      <td>1005000</td>\n      <td>Россия</td>\n      <td>100.0</td>\n      <td>100.0</td>\n    </tr>\n    <tr>\n      <th>10228</th>\n      <td>2020-09-03</td>\n      <td>1009995</td>\n      <td>Россия</td>\n      <td>100.0</td>\n      <td>100.0</td>\n    </tr>\n    <tr>\n      <th>10229</th>\n      <td>2020-09-04</td>\n      <td>1015105</td>\n      <td>Россия</td>\n      <td>100.0</td>\n      <td>100.0</td>\n    </tr>\n    <tr>\n      <th>10230</th>\n      <td>2020-09-05</td>\n      <td>1020310</td>\n      <td>Россия</td>\n      <td>100.0</td>\n      <td>100.0</td>\n    </tr>\n    <tr>\n      <th>10231</th>\n      <td>2020-09-06</td>\n      <td>1025505</td>\n      <td>Россия</td>\n      <td>100.0</td>\n      <td>100.0</td>\n    </tr>\n    <tr>\n      <th>10232</th>\n      <td>2020-09-07</td>\n      <td>1030690</td>\n      <td>Россия</td>\n      <td>100.0</td>\n      <td>100.0</td>\n    </tr>\n    <tr>\n      <th>10233</th>\n      <td>2020-09-08</td>\n      <td>1035789</td>\n      <td>Россия</td>\n      <td>100.0</td>\n      <td>100.0</td>\n    </tr>\n    <tr>\n      <th>10234</th>\n      <td>2020-09-09</td>\n      <td>1041007</td>\n      <td>Россия</td>\n      <td>100.0</td>\n      <td>100.0</td>\n    </tr>\n    <tr>\n      <th>10235</th>\n      <td>2020-09-10</td>\n      <td>1046370</td>\n      <td>Россия</td>\n      <td>100.0</td>\n      <td>100.0</td>\n    </tr>\n  </tbody>\n</table>\n</div>"
     },
     "metadata": {},
     "execution_count": 7
    }
   ],
   "source": [
    "mask = (X.Date>=datetime.date(2020,6,13))&(X.Region.isin(['Москва','Россия']))\n",
    "\n",
    "temp=X[mask]\n",
    "temp[['Date','Confirmed','Region','Rate_conf','Rate_ill']].tail(20)"
   ]
  },
  {
   "cell_type": "code",
   "execution_count": 8,
   "metadata": {},
   "outputs": [],
   "source": [
    "# russia_regions = pd.read_csv('regions-info.csv')\n",
    "\n",
    "# russia_regions[(russia_regions.Region =='Московская область')|(russia_regions.Region =='Москва')|\n",
    "#               (russia_regions.Region =='Санкт-Петербург')].tail()"
   ]
  },
  {
   "cell_type": "code",
   "execution_count": 9,
   "metadata": {},
   "outputs": [],
   "source": [
    "X.to_csv('X.csv',index=False)\n"
   ]
  },
  {
   "cell_type": "code",
   "execution_count": null,
   "metadata": {},
   "outputs": [],
   "source": []
  }
 ],
 "metadata": {
  "kernelspec": {
   "display_name": "Python 3.8.3 64-bit ('covid': venv)",
   "language": "python",
   "name": "python_defaultSpec_1599728803774"
  },
  "language_info": {
   "codemirror_mode": {
    "name": "ipython",
    "version": 3
   },
   "file_extension": ".py",
   "mimetype": "text/x-python",
   "name": "python",
   "nbconvert_exporter": "python",
   "pygments_lexer": "ipython3",
   "version": "3.8.3-final"
  }
 },
 "nbformat": 4,
 "nbformat_minor": 4
}