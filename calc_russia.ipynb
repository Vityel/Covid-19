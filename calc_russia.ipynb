{
 "cells": [
  {
   "cell_type": "code",
   "execution_count": 1,
   "metadata": {},
   "outputs": [],
   "source": [
    "import pandas as pd\n",
    "import datetime\n",
    "import plotly.graph_objects as go\n",
    "import plotly.express as px\n",
    "import plotly.figure_factory as ff\n"
   ]
  },
  {
   "cell_type": "code",
   "execution_count": 2,
   "metadata": {},
   "outputs": [
    {
     "output_type": "execute_result",
     "data": {
      "text/plain": [
       "             Date              Region  Confirmed  Recovered  Deaths  \\\n",
       "41538  2020-05-28       Амурская обл.        433        139       5   \n",
       "41539  2021-06-20            Калмыкия      21202      20507     398   \n",
       "41540  2020-04-22     Северная Осетия        211          8       2   \n",
       "41541  2020-07-31        Чукотский АО        152        148       1   \n",
       "41542  2021-03-12      Калужская обл.      30962      28716     272   \n",
       "41543  2020-04-24     Камчатский край         84          5       0   \n",
       "41544  2020-10-13       Брянская обл.      10446       8264      41   \n",
       "41545  2021-05-06       Амурская обл.      22377      21565     285   \n",
       "41546  2021-02-09      Алтайский край      40611      36341    1296   \n",
       "41547  2021-04-20  Забайкальский край      41970      40480     615   \n",
       "\n",
       "       Day_deaths  Day_confirmed  Day_recovered  \n",
       "41538           0             19              6  \n",
       "41539           2             27             21  \n",
       "41540           0             34              0  \n",
       "41541           0              0              0  \n",
       "41542           1             93             90  \n",
       "41543           0              6              0  \n",
       "41544           0             86             24  \n",
       "41545           0             13             17  \n",
       "41546          13            174            170  \n",
       "41547           2             36             32  "
      ],
      "text/html": "<div>\n<style scoped>\n    .dataframe tbody tr th:only-of-type {\n        vertical-align: middle;\n    }\n\n    .dataframe tbody tr th {\n        vertical-align: top;\n    }\n\n    .dataframe thead th {\n        text-align: right;\n    }\n</style>\n<table border=\"1\" class=\"dataframe\">\n  <thead>\n    <tr style=\"text-align: right;\">\n      <th></th>\n      <th>Date</th>\n      <th>Region</th>\n      <th>Confirmed</th>\n      <th>Recovered</th>\n      <th>Deaths</th>\n      <th>Day_deaths</th>\n      <th>Day_confirmed</th>\n      <th>Day_recovered</th>\n    </tr>\n  </thead>\n  <tbody>\n    <tr>\n      <th>41538</th>\n      <td>2020-05-28</td>\n      <td>Амурская обл.</td>\n      <td>433</td>\n      <td>139</td>\n      <td>5</td>\n      <td>0</td>\n      <td>19</td>\n      <td>6</td>\n    </tr>\n    <tr>\n      <th>41539</th>\n      <td>2021-06-20</td>\n      <td>Калмыкия</td>\n      <td>21202</td>\n      <td>20507</td>\n      <td>398</td>\n      <td>2</td>\n      <td>27</td>\n      <td>21</td>\n    </tr>\n    <tr>\n      <th>41540</th>\n      <td>2020-04-22</td>\n      <td>Северная Осетия</td>\n      <td>211</td>\n      <td>8</td>\n      <td>2</td>\n      <td>0</td>\n      <td>34</td>\n      <td>0</td>\n    </tr>\n    <tr>\n      <th>41541</th>\n      <td>2020-07-31</td>\n      <td>Чукотский АО</td>\n      <td>152</td>\n      <td>148</td>\n      <td>1</td>\n      <td>0</td>\n      <td>0</td>\n      <td>0</td>\n    </tr>\n    <tr>\n      <th>41542</th>\n      <td>2021-03-12</td>\n      <td>Калужская обл.</td>\n      <td>30962</td>\n      <td>28716</td>\n      <td>272</td>\n      <td>1</td>\n      <td>93</td>\n      <td>90</td>\n    </tr>\n    <tr>\n      <th>41543</th>\n      <td>2020-04-24</td>\n      <td>Камчатский край</td>\n      <td>84</td>\n      <td>5</td>\n      <td>0</td>\n      <td>0</td>\n      <td>6</td>\n      <td>0</td>\n    </tr>\n    <tr>\n      <th>41544</th>\n      <td>2020-10-13</td>\n      <td>Брянская обл.</td>\n      <td>10446</td>\n      <td>8264</td>\n      <td>41</td>\n      <td>0</td>\n      <td>86</td>\n      <td>24</td>\n    </tr>\n    <tr>\n      <th>41545</th>\n      <td>2021-05-06</td>\n      <td>Амурская обл.</td>\n      <td>22377</td>\n      <td>21565</td>\n      <td>285</td>\n      <td>0</td>\n      <td>13</td>\n      <td>17</td>\n    </tr>\n    <tr>\n      <th>41546</th>\n      <td>2021-02-09</td>\n      <td>Алтайский край</td>\n      <td>40611</td>\n      <td>36341</td>\n      <td>1296</td>\n      <td>13</td>\n      <td>174</td>\n      <td>170</td>\n    </tr>\n    <tr>\n      <th>41547</th>\n      <td>2021-04-20</td>\n      <td>Забайкальский край</td>\n      <td>41970</td>\n      <td>40480</td>\n      <td>615</td>\n      <td>2</td>\n      <td>36</td>\n      <td>32</td>\n    </tr>\n  </tbody>\n</table>\n</div>"
     },
     "metadata": {},
     "execution_count": 2
    }
   ],
   "source": [
    "yandex_russia = pd.read_csv('yandex_russia.csv')\n",
    "\n",
    "yandex_russia.rename(columns = {'Дата':'Date','Регион':'Region','Заражений':'Confirmed','Выздоровлений':'Recovered',\n",
    "                               'Смертей':'Deaths','Смертей за день':'Day_deaths',\n",
    "                               'Заражений за день':'Day_confirmed','Выздоровлений за день':'Day_recovered'},inplace = True)\n",
    "\n",
    "\n",
    "for i in range(yandex_russia.shape[0]):\n",
    "    a= yandex_russia.Date[i].split('.')\n",
    "    yandex_russia.Date[i]=datetime.date(int(a[2]),int(a[1]),int(a[0]))\n",
    "    \n",
    "   \n",
    "yandex_russia.tail(10)"
   ]
  },
  {
   "cell_type": "code",
   "execution_count": 3,
   "metadata": {},
   "outputs": [
    {
     "output_type": "execute_result",
     "data": {
      "text/plain": [
       "           Date  Region  Confirmed  Recovered  Deaths  Day_deaths  \\\n",
       "479  2021-07-04  Россия    5610941    5068901  137925         663   \n",
       "480  2021-07-05  Россия    5635294    5083441  138579         654   \n",
       "481  2021-07-06  Россия    5658672    5101852  139316         737   \n",
       "482  2021-07-07  Россия    5682634    5121919  140041         725   \n",
       "483  2021-07-08  Россия    5707452    5143255  140775         734   \n",
       "484  2021-07-09  Россия    5733218    5165087  141501         726   \n",
       "485  2021-07-10  Россия    5758300    5182837  142253         752   \n",
       "486  2021-07-11  Россия    5783333    5200219  143002         749   \n",
       "487  2021-07-12  Россия    5808473    5216648  143712         710   \n",
       "488  2021-07-13  Россия    5833175    5236214  144492         780   \n",
       "\n",
       "     Day_confirmed  Day_recovered  \n",
       "479          25142          15484  \n",
       "480          24353          14540  \n",
       "481          23378          18411  \n",
       "482          23962          20067  \n",
       "483          24818          21336  \n",
       "484          25766          21832  \n",
       "485          25082          17750  \n",
       "486          25033          17382  \n",
       "487          25140          16429  \n",
       "488          24702          19566  "
      ],
      "text/html": "<div>\n<style scoped>\n    .dataframe tbody tr th:only-of-type {\n        vertical-align: middle;\n    }\n\n    .dataframe tbody tr th {\n        vertical-align: top;\n    }\n\n    .dataframe thead th {\n        text-align: right;\n    }\n</style>\n<table border=\"1\" class=\"dataframe\">\n  <thead>\n    <tr style=\"text-align: right;\">\n      <th></th>\n      <th>Date</th>\n      <th>Region</th>\n      <th>Confirmed</th>\n      <th>Recovered</th>\n      <th>Deaths</th>\n      <th>Day_deaths</th>\n      <th>Day_confirmed</th>\n      <th>Day_recovered</th>\n    </tr>\n  </thead>\n  <tbody>\n    <tr>\n      <th>479</th>\n      <td>2021-07-04</td>\n      <td>Россия</td>\n      <td>5610941</td>\n      <td>5068901</td>\n      <td>137925</td>\n      <td>663</td>\n      <td>25142</td>\n      <td>15484</td>\n    </tr>\n    <tr>\n      <th>480</th>\n      <td>2021-07-05</td>\n      <td>Россия</td>\n      <td>5635294</td>\n      <td>5083441</td>\n      <td>138579</td>\n      <td>654</td>\n      <td>24353</td>\n      <td>14540</td>\n    </tr>\n    <tr>\n      <th>481</th>\n      <td>2021-07-06</td>\n      <td>Россия</td>\n      <td>5658672</td>\n      <td>5101852</td>\n      <td>139316</td>\n      <td>737</td>\n      <td>23378</td>\n      <td>18411</td>\n    </tr>\n    <tr>\n      <th>482</th>\n      <td>2021-07-07</td>\n      <td>Россия</td>\n      <td>5682634</td>\n      <td>5121919</td>\n      <td>140041</td>\n      <td>725</td>\n      <td>23962</td>\n      <td>20067</td>\n    </tr>\n    <tr>\n      <th>483</th>\n      <td>2021-07-08</td>\n      <td>Россия</td>\n      <td>5707452</td>\n      <td>5143255</td>\n      <td>140775</td>\n      <td>734</td>\n      <td>24818</td>\n      <td>21336</td>\n    </tr>\n    <tr>\n      <th>484</th>\n      <td>2021-07-09</td>\n      <td>Россия</td>\n      <td>5733218</td>\n      <td>5165087</td>\n      <td>141501</td>\n      <td>726</td>\n      <td>25766</td>\n      <td>21832</td>\n    </tr>\n    <tr>\n      <th>485</th>\n      <td>2021-07-10</td>\n      <td>Россия</td>\n      <td>5758300</td>\n      <td>5182837</td>\n      <td>142253</td>\n      <td>752</td>\n      <td>25082</td>\n      <td>17750</td>\n    </tr>\n    <tr>\n      <th>486</th>\n      <td>2021-07-11</td>\n      <td>Россия</td>\n      <td>5783333</td>\n      <td>5200219</td>\n      <td>143002</td>\n      <td>749</td>\n      <td>25033</td>\n      <td>17382</td>\n    </tr>\n    <tr>\n      <th>487</th>\n      <td>2021-07-12</td>\n      <td>Россия</td>\n      <td>5808473</td>\n      <td>5216648</td>\n      <td>143712</td>\n      <td>710</td>\n      <td>25140</td>\n      <td>16429</td>\n    </tr>\n    <tr>\n      <th>488</th>\n      <td>2021-07-13</td>\n      <td>Россия</td>\n      <td>5833175</td>\n      <td>5236214</td>\n      <td>144492</td>\n      <td>780</td>\n      <td>24702</td>\n      <td>19566</td>\n    </tr>\n  </tbody>\n</table>\n</div>"
     },
     "metadata": {},
     "execution_count": 3
    }
   ],
   "source": [
    "df3_temp = yandex_russia.groupby('Date').sum()\n",
    "df3_temp['Region']='Россия'\n",
    "\n",
    "y5= pd.concat([yandex_russia,df3_temp.reset_index()],axis = 0)\n",
    "y5.reset_index()\n",
    "yandex_russia = y5\n",
    "yandex_russia.tail(10)"
   ]
  },
  {
   "cell_type": "code",
   "execution_count": 4,
   "metadata": {
    "tags": []
   },
   "outputs": [
    {
     "output_type": "stream",
     "name": "stdout",
     "text": [
      "2021-07-13\nВыбран день:  2021-07-13\n"
     ]
    }
   ],
   "source": [
    "# dt = datetime.datetime.today()\n",
    "# today = datetime.date(dt.year,dt.month,dt.day)\n",
    "# ystday = datetime.date(today.year,today.month,today.day-1)\n",
    "# yst2day = datetime.date(today.year,today.month,today.day-2)\n",
    "# yst3day = datetime.date(today.year,today.month,today.day-3)\n",
    "\n",
    "# print(today)\n",
    "# print(ystday)\n",
    "# print(yst2day)\n",
    "# print(yst3day)\n",
    "myday = list(yandex_russia.tail(1).Date)[0]\n",
    "\n",
    "print(yandex_russia.iloc[-1,0])\n",
    "print('Выбран день: ',myday)"
   ]
  },
  {
   "cell_type": "code",
   "execution_count": 5,
   "metadata": {
    "tags": []
   },
   "outputs": [
    {
     "output_type": "stream",
     "name": "stdout",
     "text": [
      "dict_items([(0, 'Адыгея'), (1, 'Алтай'), (2, 'Алтайский край'), (3, 'Амурская обл.'), (4, 'Архангельская обл.'), (5, 'Астраханская обл.'), (6, 'Башкортостан'), (7, 'Белгородская обл.'), (8, 'Брянская обл.'), (9, 'Бурятия'), (10, 'Владимирская обл.'), (11, 'Волгоградская обл.'), (12, 'Вологодская обл.'), (13, 'Воронежская обл.'), (14, 'Дагестан'), (15, 'Еврейская АО'), (16, 'Забайкальский край'), (17, 'Ивановская обл.'), (18, 'Ингушетия'), (19, 'Иркутская обл.'), (20, 'Кабардино-Балкария'), (21, 'Калининградская обл.'), (22, 'Калмыкия'), (23, 'Калужская обл.'), (24, 'Камчатский край'), (25, 'Карачаево-Черкессия'), (26, 'Карелия'), (27, 'Кемеровская обл.'), (28, 'Кировская обл.'), (29, 'Коми'), (30, 'Костромская обл.'), (31, 'Краснодарский край'), (32, 'Красноярский край'), (33, 'Крым'), (34, 'Курганская обл.'), (35, 'Курская обл.'), (36, 'Ленинградская обл.'), (37, 'Липецкая обл.'), (38, 'Магаданская обл.'), (39, 'Марий Эл'), (40, 'Мордовия'), (41, 'Москва'), (42, 'Московская обл.'), (43, 'Мурманская обл.'), (44, 'Ненецкий АО'), (45, 'Нижегородская обл.'), (46, 'Новгородская обл.'), (47, 'Новосибирская обл.'), (48, 'Омская обл.'), (49, 'Оренбургская обл.'), (50, 'Орловская обл.'), (51, 'Пензенская обл.'), (52, 'Пермский край'), (53, 'Приморский край'), (54, 'Псковская обл.'), (55, 'Россия'), (56, 'Ростовская обл.'), (57, 'Рязанская обл.'), (58, 'Самарская обл.'), (59, 'Санкт-Петербург'), (60, 'Саратовская обл.'), (61, 'Саха (Якутия)'), (62, 'Сахалинская обл.'), (63, 'Свердловская обл.'), (64, 'Севастополь'), (65, 'Северная Осетия'), (66, 'Смоленская обл.'), (67, 'Ставропольский край'), (68, 'Тамбовская обл.'), (69, 'Татарстан'), (70, 'Тверская обл.'), (71, 'Томская обл.'), (72, 'Тульская обл.'), (73, 'Тыва'), (74, 'Тюменская обл.'), (75, 'Удмуртия'), (76, 'Ульяновская обл.'), (77, 'ХМАО – Югра'), (78, 'Хабаровский край'), (79, 'Хакасия'), (80, 'Челябинская обл.'), (81, 'Чечня'), (82, 'Чувашия'), (83, 'Чукотский АО'), (84, 'Ямало-Ненецкий АО'), (85, 'Ярославская обл.')])\n"
     ]
    },
    {
     "output_type": "execute_result",
     "data": {
      "text/plain": [
       "             Date  Confirmed  Recovered  Deaths  Day_deaths  Day_confirmed  \\\n",
       "42032  2021-07-09      45318      41563     747           5            202   \n",
       "42033  2021-07-10      45525      41643     752           5            207   \n",
       "42034  2021-07-11      45729      41730     757           5            204   \n",
       "42035  2021-07-12      45929      41813     763           6            200   \n",
       "42036  2021-07-13      46124      41900     768           5            195   \n",
       "\n",
       "       Day_recovered     Rt    Rt2  Rate_conf  Rate_ill            Region  \\\n",
       "42032             77  1.193  1.015          0         0  Ярославская обл.   \n",
       "42033             80  1.244  1.016          0         0  Ярославская обл.   \n",
       "42034             87  1.247  1.017          0         0  Ярославская обл.   \n",
       "42035             83  1.196  1.017          0         0  Ярославская обл.   \n",
       "42036             87  1.104  1.018          0         0  Ярославская обл.   \n",
       "\n",
       "       Remaining_ill  MA7_dayconfirmed  MA14_dayconfirmed  MA7_remaining_ill  \\\n",
       "42032           3008        170.428571         149.071429        2687.285714   \n",
       "42033           3130        177.571429         155.285714        2791.714286   \n",
       "42034           3242        184.714286         161.500000        2899.142857   \n",
       "42035           3353        191.571429         167.500000        3009.428571   \n",
       "42036           3456        196.428571         172.785714        3121.571429   \n",
       "\n",
       "       MA14_remaining_ill  Change_dayconf  Change_remill  \n",
       "42032         2395.357143              12            120  \n",
       "42033         2481.714286               5            122  \n",
       "42034         2572.285714              -3            112  \n",
       "42035         2666.571429              -4            111  \n",
       "42036         2764.000000              -5            103  "
      ],
      "text/html": "<div>\n<style scoped>\n    .dataframe tbody tr th:only-of-type {\n        vertical-align: middle;\n    }\n\n    .dataframe tbody tr th {\n        vertical-align: top;\n    }\n\n    .dataframe thead th {\n        text-align: right;\n    }\n</style>\n<table border=\"1\" class=\"dataframe\">\n  <thead>\n    <tr style=\"text-align: right;\">\n      <th></th>\n      <th>Date</th>\n      <th>Confirmed</th>\n      <th>Recovered</th>\n      <th>Deaths</th>\n      <th>Day_deaths</th>\n      <th>Day_confirmed</th>\n      <th>Day_recovered</th>\n      <th>Rt</th>\n      <th>Rt2</th>\n      <th>Rate_conf</th>\n      <th>Rate_ill</th>\n      <th>Region</th>\n      <th>Remaining_ill</th>\n      <th>MA7_dayconfirmed</th>\n      <th>MA14_dayconfirmed</th>\n      <th>MA7_remaining_ill</th>\n      <th>MA14_remaining_ill</th>\n      <th>Change_dayconf</th>\n      <th>Change_remill</th>\n    </tr>\n  </thead>\n  <tbody>\n    <tr>\n      <th>42032</th>\n      <td>2021-07-09</td>\n      <td>45318</td>\n      <td>41563</td>\n      <td>747</td>\n      <td>5</td>\n      <td>202</td>\n      <td>77</td>\n      <td>1.193</td>\n      <td>1.015</td>\n      <td>0</td>\n      <td>0</td>\n      <td>Ярославская обл.</td>\n      <td>3008</td>\n      <td>170.428571</td>\n      <td>149.071429</td>\n      <td>2687.285714</td>\n      <td>2395.357143</td>\n      <td>12</td>\n      <td>120</td>\n    </tr>\n    <tr>\n      <th>42033</th>\n      <td>2021-07-10</td>\n      <td>45525</td>\n      <td>41643</td>\n      <td>752</td>\n      <td>5</td>\n      <td>207</td>\n      <td>80</td>\n      <td>1.244</td>\n      <td>1.016</td>\n      <td>0</td>\n      <td>0</td>\n      <td>Ярославская обл.</td>\n      <td>3130</td>\n      <td>177.571429</td>\n      <td>155.285714</td>\n      <td>2791.714286</td>\n      <td>2481.714286</td>\n      <td>5</td>\n      <td>122</td>\n    </tr>\n    <tr>\n      <th>42034</th>\n      <td>2021-07-11</td>\n      <td>45729</td>\n      <td>41730</td>\n      <td>757</td>\n      <td>5</td>\n      <td>204</td>\n      <td>87</td>\n      <td>1.247</td>\n      <td>1.017</td>\n      <td>0</td>\n      <td>0</td>\n      <td>Ярославская обл.</td>\n      <td>3242</td>\n      <td>184.714286</td>\n      <td>161.500000</td>\n      <td>2899.142857</td>\n      <td>2572.285714</td>\n      <td>-3</td>\n      <td>112</td>\n    </tr>\n    <tr>\n      <th>42035</th>\n      <td>2021-07-12</td>\n      <td>45929</td>\n      <td>41813</td>\n      <td>763</td>\n      <td>6</td>\n      <td>200</td>\n      <td>83</td>\n      <td>1.196</td>\n      <td>1.017</td>\n      <td>0</td>\n      <td>0</td>\n      <td>Ярославская обл.</td>\n      <td>3353</td>\n      <td>191.571429</td>\n      <td>167.500000</td>\n      <td>3009.428571</td>\n      <td>2666.571429</td>\n      <td>-4</td>\n      <td>111</td>\n    </tr>\n    <tr>\n      <th>42036</th>\n      <td>2021-07-13</td>\n      <td>46124</td>\n      <td>41900</td>\n      <td>768</td>\n      <td>5</td>\n      <td>195</td>\n      <td>87</td>\n      <td>1.104</td>\n      <td>1.018</td>\n      <td>0</td>\n      <td>0</td>\n      <td>Ярославская обл.</td>\n      <td>3456</td>\n      <td>196.428571</td>\n      <td>172.785714</td>\n      <td>3121.571429</td>\n      <td>2764.000000</td>\n      <td>-5</td>\n      <td>103</td>\n    </tr>\n  </tbody>\n</table>\n</div>"
     },
     "metadata": {},
     "execution_count": 5
    }
   ],
   "source": [
    "X = pd.DataFrame()\n",
    "regions_dict = {}\n",
    "yandex_russia['Rt'] = 1\n",
    "yandex_russia['Rt2'] = 1\n",
    "yandex_russia['Rate_conf'] = 0\n",
    "yandex_russia['Rate_ill'] = 0\n",
    "\n",
    "temp_df = yandex_russia.groupby(['Region','Date']).sum()\n",
    "\n",
    "# Ниже enumerate  для составления словаря из имен регионов {i:j} , для расчетов можно было использовать только j\n",
    "\n",
    "for i,j in enumerate(temp_df.index.get_level_values(0).unique()):\n",
    "    temp_df2 =  temp_df.loc[j]\n",
    "    temp1 = temp_df2['Day_confirmed'].rolling(4).sum()/(temp_df2[\"Day_confirmed\"].rolling(8).sum()-\n",
    "\n",
    "                                                              temp_df2[\"Day_confirmed\"].rolling(4).sum())\n",
    "    temp2 = temp_df2['Confirmed'].rolling(4).sum()/(temp_df2['Confirmed'].rolling(8).sum()-\n",
    "\n",
    "                                                              temp_df2['Confirmed'].rolling(4).sum())\n",
    "    temp_df2['Rt'] = round(temp1,3)\n",
    "    temp_df2['Rt2'] = round(temp2,3)\n",
    "    temp_df2['Region'] = j\n",
    "    temp_df2['Remaining_ill']=temp_df2['Confirmed']-temp_df2['Recovered']-temp_df2['Deaths']\n",
    "    temp_df2['MA7_dayconfirmed']=temp_df2['Day_confirmed'].rolling(window=7).mean()\n",
    "    temp_df2['MA14_dayconfirmed']=temp_df2['Day_confirmed'].rolling(window=14).mean()\n",
    "    temp_df2['MA7_remaining_ill']=temp_df2['Remaining_ill'].rolling(window=7).mean()\n",
    "    temp_df2['MA14_remaining_ill']=temp_df2['Remaining_ill'].rolling(window=14).mean()\n",
    "    \n",
    "    temp_df2['Change_dayconf'] = 0\n",
    "    for k in range(1,temp_df2.shape[0]):\n",
    "        temp_df2['Change_dayconf'].iloc[k]=temp_df2['Day_confirmed'].iloc[k]-temp_df2['Day_confirmed'].iloc[k-1]\n",
    "    temp_df2['Change_remill'] = 0\n",
    "    for k in range(1,temp_df2.shape[0]):\n",
    "        temp_df2['Change_remill'].iloc[k]=temp_df2['Remaining_ill'].iloc[k]-temp_df2['Remaining_ill'].iloc[k-1]\n",
    "    \n",
    "    \n",
    "\n",
    "   #Генератор DF  на каждый регион(сидит в цикле):\n",
    "   # globals()['x' + str(i)] = temp_df2.reset_index()\n",
    "    \n",
    "    X = pd.concat([X,temp_df2.reset_index()],axis = 0)\n",
    "    regions_dict[i]=j\n",
    "    \n",
    "print(regions_dict.items())\n",
    "    \n",
    "X = X.reset_index(drop=True)\n",
    "X.tail()\n"
   ]
  },
  {
   "cell_type": "code",
   "execution_count": 6,
   "metadata": {
    "tags": []
   },
   "outputs": [
    {
     "output_type": "stream",
     "name": "stdout",
     "text": [
      "            Confirmed  Remaining_ill\nDate                                \n2021-07-12    5808473         448113\n2021-07-13    5833175         452469\n42037\n(42037, 19)\n2020-03-12\n"
     ]
    }
   ],
   "source": [
    "mask = X.Region == 'Россия'\n",
    "temp_df = X[mask][['Date','Confirmed','Remaining_ill']]\n",
    "temp_df.index = temp_df.Date\n",
    "temp_df.drop(columns =['Date'], inplace = True)\n",
    "print(temp_df.tail(2))\n",
    "# print(temp_df.index.get_level_values(0))\n",
    "# temp_df.loc[datetime.date(2020,6,15),'Россия'].Confirmed\n",
    "# for i in temp_df.index.get_level_values(0).unique()[-2:]:\n",
    "#     print(temp_df.loc[i,'Россия'].Confirmed)\n",
    "rus_date = list(temp_df.index)\n",
    "rus_conf = list(temp_df.Confirmed)\n",
    "rus_ill = list(temp_df.Remaining_ill)\n",
    "rus_dict_conf = dict(zip(rus_date,rus_conf))\n",
    "rus_dict_ill = dict(zip(rus_date,rus_ill))\n",
    "\n",
    "print(len(X))\n",
    "print(X.shape)\n",
    "print(X.loc[0,'Date'])\n",
    "for i in range(len(X)):\n",
    "    X.loc[i,'Rate_conf']=100*X.loc[i,'Confirmed']/rus_dict_conf.get(X.loc[i,'Date'])\n",
    "    X.loc[i,'Rate_ill']=100*X.loc[i,'Remaining_ill']/rus_dict_ill.get(X.loc[i,'Date'])\n"
   ]
  },
  {
   "cell_type": "code",
   "execution_count": 7,
   "metadata": {},
   "outputs": [
    {
     "output_type": "execute_result",
     "data": {
      "text/plain": [
       "             Date  Confirmed  Region  Rate_conf  Rate_ill\n",
       "27352  2021-06-24    5388695  Россия      100.0     100.0\n",
       "27353  2021-06-25    5409088  Россия      100.0     100.0\n",
       "27354  2021-06-26    5430753  Россия      100.0     100.0\n",
       "27355  2021-06-27    5451291  Россия      100.0     100.0\n",
       "27356  2021-06-28    5472941  Россия      100.0     100.0\n",
       "27357  2021-06-29    5493557  Россия      100.0     100.0\n",
       "27358  2021-06-30    5514599  Россия      100.0     100.0\n",
       "27359  2021-07-01    5538142  Россия      100.0     100.0\n",
       "27360  2021-07-02    5561360  Россия      100.0     100.0\n",
       "27361  2021-07-03    5585799  Россия      100.0     100.0\n",
       "27362  2021-07-04    5610941  Россия      100.0     100.0\n",
       "27363  2021-07-05    5635294  Россия      100.0     100.0\n",
       "27364  2021-07-06    5658672  Россия      100.0     100.0\n",
       "27365  2021-07-07    5682634  Россия      100.0     100.0\n",
       "27366  2021-07-08    5707452  Россия      100.0     100.0\n",
       "27367  2021-07-09    5733218  Россия      100.0     100.0\n",
       "27368  2021-07-10    5758300  Россия      100.0     100.0\n",
       "27369  2021-07-11    5783333  Россия      100.0     100.0\n",
       "27370  2021-07-12    5808473  Россия      100.0     100.0\n",
       "27371  2021-07-13    5833175  Россия      100.0     100.0"
      ],
      "text/html": "<div>\n<style scoped>\n    .dataframe tbody tr th:only-of-type {\n        vertical-align: middle;\n    }\n\n    .dataframe tbody tr th {\n        vertical-align: top;\n    }\n\n    .dataframe thead th {\n        text-align: right;\n    }\n</style>\n<table border=\"1\" class=\"dataframe\">\n  <thead>\n    <tr style=\"text-align: right;\">\n      <th></th>\n      <th>Date</th>\n      <th>Confirmed</th>\n      <th>Region</th>\n      <th>Rate_conf</th>\n      <th>Rate_ill</th>\n    </tr>\n  </thead>\n  <tbody>\n    <tr>\n      <th>27352</th>\n      <td>2021-06-24</td>\n      <td>5388695</td>\n      <td>Россия</td>\n      <td>100.0</td>\n      <td>100.0</td>\n    </tr>\n    <tr>\n      <th>27353</th>\n      <td>2021-06-25</td>\n      <td>5409088</td>\n      <td>Россия</td>\n      <td>100.0</td>\n      <td>100.0</td>\n    </tr>\n    <tr>\n      <th>27354</th>\n      <td>2021-06-26</td>\n      <td>5430753</td>\n      <td>Россия</td>\n      <td>100.0</td>\n      <td>100.0</td>\n    </tr>\n    <tr>\n      <th>27355</th>\n      <td>2021-06-27</td>\n      <td>5451291</td>\n      <td>Россия</td>\n      <td>100.0</td>\n      <td>100.0</td>\n    </tr>\n    <tr>\n      <th>27356</th>\n      <td>2021-06-28</td>\n      <td>5472941</td>\n      <td>Россия</td>\n      <td>100.0</td>\n      <td>100.0</td>\n    </tr>\n    <tr>\n      <th>27357</th>\n      <td>2021-06-29</td>\n      <td>5493557</td>\n      <td>Россия</td>\n      <td>100.0</td>\n      <td>100.0</td>\n    </tr>\n    <tr>\n      <th>27358</th>\n      <td>2021-06-30</td>\n      <td>5514599</td>\n      <td>Россия</td>\n      <td>100.0</td>\n      <td>100.0</td>\n    </tr>\n    <tr>\n      <th>27359</th>\n      <td>2021-07-01</td>\n      <td>5538142</td>\n      <td>Россия</td>\n      <td>100.0</td>\n      <td>100.0</td>\n    </tr>\n    <tr>\n      <th>27360</th>\n      <td>2021-07-02</td>\n      <td>5561360</td>\n      <td>Россия</td>\n      <td>100.0</td>\n      <td>100.0</td>\n    </tr>\n    <tr>\n      <th>27361</th>\n      <td>2021-07-03</td>\n      <td>5585799</td>\n      <td>Россия</td>\n      <td>100.0</td>\n      <td>100.0</td>\n    </tr>\n    <tr>\n      <th>27362</th>\n      <td>2021-07-04</td>\n      <td>5610941</td>\n      <td>Россия</td>\n      <td>100.0</td>\n      <td>100.0</td>\n    </tr>\n    <tr>\n      <th>27363</th>\n      <td>2021-07-05</td>\n      <td>5635294</td>\n      <td>Россия</td>\n      <td>100.0</td>\n      <td>100.0</td>\n    </tr>\n    <tr>\n      <th>27364</th>\n      <td>2021-07-06</td>\n      <td>5658672</td>\n      <td>Россия</td>\n      <td>100.0</td>\n      <td>100.0</td>\n    </tr>\n    <tr>\n      <th>27365</th>\n      <td>2021-07-07</td>\n      <td>5682634</td>\n      <td>Россия</td>\n      <td>100.0</td>\n      <td>100.0</td>\n    </tr>\n    <tr>\n      <th>27366</th>\n      <td>2021-07-08</td>\n      <td>5707452</td>\n      <td>Россия</td>\n      <td>100.0</td>\n      <td>100.0</td>\n    </tr>\n    <tr>\n      <th>27367</th>\n      <td>2021-07-09</td>\n      <td>5733218</td>\n      <td>Россия</td>\n      <td>100.0</td>\n      <td>100.0</td>\n    </tr>\n    <tr>\n      <th>27368</th>\n      <td>2021-07-10</td>\n      <td>5758300</td>\n      <td>Россия</td>\n      <td>100.0</td>\n      <td>100.0</td>\n    </tr>\n    <tr>\n      <th>27369</th>\n      <td>2021-07-11</td>\n      <td>5783333</td>\n      <td>Россия</td>\n      <td>100.0</td>\n      <td>100.0</td>\n    </tr>\n    <tr>\n      <th>27370</th>\n      <td>2021-07-12</td>\n      <td>5808473</td>\n      <td>Россия</td>\n      <td>100.0</td>\n      <td>100.0</td>\n    </tr>\n    <tr>\n      <th>27371</th>\n      <td>2021-07-13</td>\n      <td>5833175</td>\n      <td>Россия</td>\n      <td>100.0</td>\n      <td>100.0</td>\n    </tr>\n  </tbody>\n</table>\n</div>"
     },
     "metadata": {},
     "execution_count": 7
    }
   ],
   "source": [
    "mask = (X.Date>=datetime.date(2020,6,13))&(X.Region.isin(['Москва','Россия']))\n",
    "\n",
    "temp=X[mask]\n",
    "temp[['Date','Confirmed','Region','Rate_conf','Rate_ill']].tail(20)"
   ]
  },
  {
   "cell_type": "code",
   "execution_count": 8,
   "metadata": {},
   "outputs": [],
   "source": [
    "# russia_regions = pd.read_csv('regions-info.csv')\n",
    "\n",
    "# russia_regions[(russia_regions.Region =='Московская область')|(russia_regions.Region =='Москва')|\n",
    "#               (russia_regions.Region =='Санкт-Петербург')].tail()"
   ]
  },
  {
   "cell_type": "code",
   "execution_count": 9,
   "metadata": {},
   "outputs": [],
   "source": [
    "X.to_csv('X.csv',index=False)\n"
   ]
  },
  {
   "cell_type": "code",
   "execution_count": null,
   "metadata": {},
   "outputs": [],
   "source": []
  }
 ],
 "metadata": {
  "kernelspec": {
   "name": "python3",
   "display_name": "Python 3.8.10 64-bit ('covid': venv)"
  },
  "language_info": {
   "codemirror_mode": {
    "name": "ipython",
    "version": 3
   },
   "file_extension": ".py",
   "mimetype": "text/x-python",
   "name": "python",
   "nbconvert_exporter": "python",
   "pygments_lexer": "ipython3",
   "version": "3.8.10"
  },
  "interpreter": {
   "hash": "a6f4931467b3983d87ef805b1dfdeb49ff43f6a89ad40f137788944a0076c194"
  }
 },
 "nbformat": 4,
 "nbformat_minor": 4
}