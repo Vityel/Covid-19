{
 "cells": [
  {
   "cell_type": "code",
   "execution_count": 10,
   "metadata": {},
   "outputs": [],
   "source": [
    "import pandas as pd\n",
    "import datetime\n",
    "import plotly.graph_objects as go\n",
    "import plotly.express as px\n",
    "import plotly.figure_factory as ff\n"
   ]
  },
  {
   "cell_type": "code",
   "execution_count": 11,
   "metadata": {},
   "outputs": [
    {
     "output_type": "execute_result",
     "data": {
      "text/plain": [
       "             Date             Region  Confirmed  Recovered  Deaths  \\\n",
       "21988  2020-11-25   Ульяновская обл.      26352      21640     315   \n",
       "21989  2020-11-25   Хабаровский край      22905      15284     156   \n",
       "21990  2020-11-25            Хакасия      11157       7399     109   \n",
       "21991  2020-11-25        ХМАО – Югра      33265      28153     381   \n",
       "21992  2020-11-25   Челябинская обл.      23947      21972     244   \n",
       "21993  2020-11-25              Чечня       3854       2429      61   \n",
       "21994  2020-11-25            Чувашия      11940      10817     250   \n",
       "21995  2020-11-25       Чукотский АО        361        294       3   \n",
       "21996  2020-11-25  Ямало-Ненецкий АО      25359      17109     243   \n",
       "21997  2020-11-25   Ярославская обл.      15507      14616      81   \n",
       "\n",
       "       Day_deaths  Day_confirmed  Day_recovered  \n",
       "21988           0            244            315  \n",
       "21989           2            318            250  \n",
       "21990           6            182            169  \n",
       "21991           7            202            185  \n",
       "21992           8            228             65  \n",
       "21993           2             91             27  \n",
       "21994          10            119            284  \n",
       "21995           0              6              8  \n",
       "21996           3            197            107  \n",
       "21997           3            188            165  "
      ],
      "text/html": "<div>\n<style scoped>\n    .dataframe tbody tr th:only-of-type {\n        vertical-align: middle;\n    }\n\n    .dataframe tbody tr th {\n        vertical-align: top;\n    }\n\n    .dataframe thead th {\n        text-align: right;\n    }\n</style>\n<table border=\"1\" class=\"dataframe\">\n  <thead>\n    <tr style=\"text-align: right;\">\n      <th></th>\n      <th>Date</th>\n      <th>Region</th>\n      <th>Confirmed</th>\n      <th>Recovered</th>\n      <th>Deaths</th>\n      <th>Day_deaths</th>\n      <th>Day_confirmed</th>\n      <th>Day_recovered</th>\n    </tr>\n  </thead>\n  <tbody>\n    <tr>\n      <th>21988</th>\n      <td>2020-11-25</td>\n      <td>Ульяновская обл.</td>\n      <td>26352</td>\n      <td>21640</td>\n      <td>315</td>\n      <td>0</td>\n      <td>244</td>\n      <td>315</td>\n    </tr>\n    <tr>\n      <th>21989</th>\n      <td>2020-11-25</td>\n      <td>Хабаровский край</td>\n      <td>22905</td>\n      <td>15284</td>\n      <td>156</td>\n      <td>2</td>\n      <td>318</td>\n      <td>250</td>\n    </tr>\n    <tr>\n      <th>21990</th>\n      <td>2020-11-25</td>\n      <td>Хакасия</td>\n      <td>11157</td>\n      <td>7399</td>\n      <td>109</td>\n      <td>6</td>\n      <td>182</td>\n      <td>169</td>\n    </tr>\n    <tr>\n      <th>21991</th>\n      <td>2020-11-25</td>\n      <td>ХМАО – Югра</td>\n      <td>33265</td>\n      <td>28153</td>\n      <td>381</td>\n      <td>7</td>\n      <td>202</td>\n      <td>185</td>\n    </tr>\n    <tr>\n      <th>21992</th>\n      <td>2020-11-25</td>\n      <td>Челябинская обл.</td>\n      <td>23947</td>\n      <td>21972</td>\n      <td>244</td>\n      <td>8</td>\n      <td>228</td>\n      <td>65</td>\n    </tr>\n    <tr>\n      <th>21993</th>\n      <td>2020-11-25</td>\n      <td>Чечня</td>\n      <td>3854</td>\n      <td>2429</td>\n      <td>61</td>\n      <td>2</td>\n      <td>91</td>\n      <td>27</td>\n    </tr>\n    <tr>\n      <th>21994</th>\n      <td>2020-11-25</td>\n      <td>Чувашия</td>\n      <td>11940</td>\n      <td>10817</td>\n      <td>250</td>\n      <td>10</td>\n      <td>119</td>\n      <td>284</td>\n    </tr>\n    <tr>\n      <th>21995</th>\n      <td>2020-11-25</td>\n      <td>Чукотский АО</td>\n      <td>361</td>\n      <td>294</td>\n      <td>3</td>\n      <td>0</td>\n      <td>6</td>\n      <td>8</td>\n    </tr>\n    <tr>\n      <th>21996</th>\n      <td>2020-11-25</td>\n      <td>Ямало-Ненецкий АО</td>\n      <td>25359</td>\n      <td>17109</td>\n      <td>243</td>\n      <td>3</td>\n      <td>197</td>\n      <td>107</td>\n    </tr>\n    <tr>\n      <th>21997</th>\n      <td>2020-11-25</td>\n      <td>Ярославская обл.</td>\n      <td>15507</td>\n      <td>14616</td>\n      <td>81</td>\n      <td>3</td>\n      <td>188</td>\n      <td>165</td>\n    </tr>\n  </tbody>\n</table>\n</div>"
     },
     "metadata": {},
     "execution_count": 11
    }
   ],
   "source": [
    "yandex_russia = pd.read_csv('yandex_russia.csv')\n",
    "\n",
    "yandex_russia.rename(columns = {'Дата':'Date','Регион':'Region','Заражений':'Confirmed','Выздоровлений':'Recovered',\n",
    "                               'Смертей':'Deaths','Смертей за день':'Day_deaths',\n",
    "                               'Заражений за день':'Day_confirmed','Выздоровлений за день':'Day_recovered'},inplace = True)\n",
    "\n",
    "\n",
    "for i in range(yandex_russia.shape[0]):\n",
    "    a= yandex_russia.Date[i].split('.')\n",
    "    yandex_russia.Date[i]=datetime.date(int(a[2]),int(a[1]),int(a[0]))\n",
    "    \n",
    "   \n",
    "yandex_russia.tail(10)"
   ]
  },
  {
   "cell_type": "code",
   "execution_count": 12,
   "metadata": {},
   "outputs": [
    {
     "output_type": "execute_result",
     "data": {
      "text/plain": [
       "           Date  Region  Confirmed  Recovered  Deaths  Day_deaths  \\\n",
       "249  2020-11-16  Россия    1948603    1453849   33489         303   \n",
       "250  2020-11-17  Россия    1971013    1475904   33931         442   \n",
       "251  2020-11-18  Россия    1991998    1501083   34387         456   \n",
       "252  2020-11-19  Россия    2015608    1526656   34850         463   \n",
       "253  2020-11-20  Россия    2039926    1551414   35311         461   \n",
       "254  2020-11-21  Россия    2064748    1577435   35778         467   \n",
       "255  2020-11-22  Россия    2089329    1595443   36179         401   \n",
       "256  2020-11-23  Россия    2114502    1611445   36540         361   \n",
       "257  2020-11-24  Россия    2138828    1634671   37031         491   \n",
       "258  2020-11-25  Россия    2162503    1660419   37538         507   \n",
       "\n",
       "     Day_confirmed  Day_recovered  \n",
       "249          22778          13864  \n",
       "250          22410          22055  \n",
       "251          20985          25179  \n",
       "252          23610          25573  \n",
       "253          24318          24758  \n",
       "254          24822          26021  \n",
       "255          24581          18008  \n",
       "256          25173          16002  \n",
       "257          24326          23226  \n",
       "258          23675          25748  "
      ],
      "text/html": "<div>\n<style scoped>\n    .dataframe tbody tr th:only-of-type {\n        vertical-align: middle;\n    }\n\n    .dataframe tbody tr th {\n        vertical-align: top;\n    }\n\n    .dataframe thead th {\n        text-align: right;\n    }\n</style>\n<table border=\"1\" class=\"dataframe\">\n  <thead>\n    <tr style=\"text-align: right;\">\n      <th></th>\n      <th>Date</th>\n      <th>Region</th>\n      <th>Confirmed</th>\n      <th>Recovered</th>\n      <th>Deaths</th>\n      <th>Day_deaths</th>\n      <th>Day_confirmed</th>\n      <th>Day_recovered</th>\n    </tr>\n  </thead>\n  <tbody>\n    <tr>\n      <th>249</th>\n      <td>2020-11-16</td>\n      <td>Россия</td>\n      <td>1948603</td>\n      <td>1453849</td>\n      <td>33489</td>\n      <td>303</td>\n      <td>22778</td>\n      <td>13864</td>\n    </tr>\n    <tr>\n      <th>250</th>\n      <td>2020-11-17</td>\n      <td>Россия</td>\n      <td>1971013</td>\n      <td>1475904</td>\n      <td>33931</td>\n      <td>442</td>\n      <td>22410</td>\n      <td>22055</td>\n    </tr>\n    <tr>\n      <th>251</th>\n      <td>2020-11-18</td>\n      <td>Россия</td>\n      <td>1991998</td>\n      <td>1501083</td>\n      <td>34387</td>\n      <td>456</td>\n      <td>20985</td>\n      <td>25179</td>\n    </tr>\n    <tr>\n      <th>252</th>\n      <td>2020-11-19</td>\n      <td>Россия</td>\n      <td>2015608</td>\n      <td>1526656</td>\n      <td>34850</td>\n      <td>463</td>\n      <td>23610</td>\n      <td>25573</td>\n    </tr>\n    <tr>\n      <th>253</th>\n      <td>2020-11-20</td>\n      <td>Россия</td>\n      <td>2039926</td>\n      <td>1551414</td>\n      <td>35311</td>\n      <td>461</td>\n      <td>24318</td>\n      <td>24758</td>\n    </tr>\n    <tr>\n      <th>254</th>\n      <td>2020-11-21</td>\n      <td>Россия</td>\n      <td>2064748</td>\n      <td>1577435</td>\n      <td>35778</td>\n      <td>467</td>\n      <td>24822</td>\n      <td>26021</td>\n    </tr>\n    <tr>\n      <th>255</th>\n      <td>2020-11-22</td>\n      <td>Россия</td>\n      <td>2089329</td>\n      <td>1595443</td>\n      <td>36179</td>\n      <td>401</td>\n      <td>24581</td>\n      <td>18008</td>\n    </tr>\n    <tr>\n      <th>256</th>\n      <td>2020-11-23</td>\n      <td>Россия</td>\n      <td>2114502</td>\n      <td>1611445</td>\n      <td>36540</td>\n      <td>361</td>\n      <td>25173</td>\n      <td>16002</td>\n    </tr>\n    <tr>\n      <th>257</th>\n      <td>2020-11-24</td>\n      <td>Россия</td>\n      <td>2138828</td>\n      <td>1634671</td>\n      <td>37031</td>\n      <td>491</td>\n      <td>24326</td>\n      <td>23226</td>\n    </tr>\n    <tr>\n      <th>258</th>\n      <td>2020-11-25</td>\n      <td>Россия</td>\n      <td>2162503</td>\n      <td>1660419</td>\n      <td>37538</td>\n      <td>507</td>\n      <td>23675</td>\n      <td>25748</td>\n    </tr>\n  </tbody>\n</table>\n</div>"
     },
     "metadata": {},
     "execution_count": 12
    }
   ],
   "source": [
    "df3_temp = yandex_russia.groupby('Date').sum()\n",
    "df3_temp['Region']='Россия'\n",
    "\n",
    "y5= pd.concat([yandex_russia,df3_temp.reset_index()],axis = 0)\n",
    "y5.reset_index()\n",
    "yandex_russia = y5\n",
    "yandex_russia.tail(10)"
   ]
  },
  {
   "cell_type": "code",
   "execution_count": 13,
   "metadata": {
    "tags": []
   },
   "outputs": [
    {
     "output_type": "stream",
     "name": "stdout",
     "text": [
      "2020-11-25\nВыбран день:  2020-11-25\n"
     ]
    }
   ],
   "source": [
    "# dt = datetime.datetime.today()\n",
    "# today = datetime.date(dt.year,dt.month,dt.day)\n",
    "# ystday = datetime.date(today.year,today.month,today.day-1)\n",
    "# yst2day = datetime.date(today.year,today.month,today.day-2)\n",
    "# yst3day = datetime.date(today.year,today.month,today.day-3)\n",
    "\n",
    "# print(today)\n",
    "# print(ystday)\n",
    "# print(yst2day)\n",
    "# print(yst3day)\n",
    "myday = list(yandex_russia.tail(1).Date)[0]\n",
    "\n",
    "print(yandex_russia.iloc[-1,0])\n",
    "print('Выбран день: ',myday)"
   ]
  },
  {
   "cell_type": "code",
   "execution_count": 14,
   "metadata": {
    "tags": []
   },
   "outputs": [
    {
     "output_type": "stream",
     "name": "stdout",
     "text": [
      "dict_items([(0, 'Адыгея'), (1, 'Алтай'), (2, 'Алтайский край'), (3, 'Амурская обл.'), (4, 'Архангельская обл.'), (5, 'Астраханская обл.'), (6, 'Башкортостан'), (7, 'Белгородская обл.'), (8, 'Брянская обл.'), (9, 'Бурятия'), (10, 'Владимирская обл.'), (11, 'Волгоградская обл.'), (12, 'Вологодская обл.'), (13, 'Воронежская обл.'), (14, 'Дагестан'), (15, 'Еврейская АО'), (16, 'Забайкальский край'), (17, 'Ивановская обл.'), (18, 'Ингушетия'), (19, 'Иркутская обл.'), (20, 'Кабардино-Балкария'), (21, 'Калининградская обл.'), (22, 'Калмыкия'), (23, 'Калужская обл.'), (24, 'Камчатский край'), (25, 'Карачаево-Черкессия'), (26, 'Карелия'), (27, 'Кемеровская обл.'), (28, 'Кировская обл.'), (29, 'Коми'), (30, 'Костромская обл.'), (31, 'Краснодарский край'), (32, 'Красноярский край'), (33, 'Крым'), (34, 'Курганская обл.'), (35, 'Курская обл.'), (36, 'Ленинградская обл.'), (37, 'Липецкая обл.'), (38, 'Магаданская обл.'), (39, 'Марий Эл'), (40, 'Мордовия'), (41, 'Москва'), (42, 'Московская обл.'), (43, 'Мурманская обл.'), (44, 'Ненецкий АО'), (45, 'Нижегородская обл.'), (46, 'Новгородская обл.'), (47, 'Новосибирская обл.'), (48, 'Омская обл.'), (49, 'Оренбургская обл.'), (50, 'Орловская обл.'), (51, 'Пензенская обл.'), (52, 'Пермский край'), (53, 'Приморский край'), (54, 'Псковская обл.'), (55, 'Россия'), (56, 'Ростовская обл.'), (57, 'Рязанская обл.'), (58, 'Самарская обл.'), (59, 'Санкт-Петербург'), (60, 'Саратовская обл.'), (61, 'Саха (Якутия)'), (62, 'Сахалинская обл.'), (63, 'Свердловская обл.'), (64, 'Севастополь'), (65, 'Северная Осетия'), (66, 'Смоленская обл.'), (67, 'Ставропольский край'), (68, 'Тамбовская обл.'), (69, 'Татарстан'), (70, 'Тверская обл.'), (71, 'Томская обл.'), (72, 'Тульская обл.'), (73, 'Тыва'), (74, 'Тюменская обл.'), (75, 'Удмуртия'), (76, 'Ульяновская обл.'), (77, 'ХМАО – Югра'), (78, 'Хабаровский край'), (79, 'Хакасия'), (80, 'Челябинская обл.'), (81, 'Чечня'), (82, 'Чувашия'), (83, 'Чукотский АО'), (84, 'Ямало-Ненецкий АО'), (85, 'Ярославская обл.')])\n"
     ]
    },
    {
     "output_type": "execute_result",
     "data": {
      "text/plain": [
       "             Date  Confirmed  Recovered  Deaths  Day_deaths  Day_confirmed  \\\n",
       "22252  2020-11-21      14774      14241      73           0            184   \n",
       "22253  2020-11-22      14954      14264      76           3            180   \n",
       "22254  2020-11-23      15137      14289      78           2            183   \n",
       "22255  2020-11-24      15319      14451      78           0            182   \n",
       "22256  2020-11-25      15507      14616      81           3            188   \n",
       "\n",
       "       Day_recovered     Rt    Rt2  Rate_conf  Rate_ill            Region  \\\n",
       "22252            321  1.030  1.051          0         0  Ярославская обл.   \n",
       "22253             23  1.035  1.051          0         0  Ярославская обл.   \n",
       "22254             25  1.043  1.051          0         0  Ярославская обл.   \n",
       "22255            162  1.037  1.050          0         0  Ярославская обл.   \n",
       "22256            165  1.025  1.050          0         0  Ярославская обл.   \n",
       "\n",
       "       Remaining_ill  MA7_dayconfirmed  MA14_dayconfirmed  MA7_remaining_ill  \\\n",
       "22252            460        176.285714         170.428571         926.285714   \n",
       "22253            614        177.285714         172.071429         846.285714   \n",
       "22254            770        178.571429         174.000000         781.714286   \n",
       "22255            790        180.000000         175.857143         718.857143   \n",
       "22256            810        181.714286         177.714286         696.000000   \n",
       "\n",
       "       MA14_remaining_ill  Change_dayconf  Change_remill  \n",
       "22252         1043.714286               4           -137  \n",
       "22253         1005.142857              -4            154  \n",
       "22254          969.571429               3            156  \n",
       "22255          936.285714              -1             20  \n",
       "22256          908.142857               6             20  "
      ],
      "text/html": "<div>\n<style scoped>\n    .dataframe tbody tr th:only-of-type {\n        vertical-align: middle;\n    }\n\n    .dataframe tbody tr th {\n        vertical-align: top;\n    }\n\n    .dataframe thead th {\n        text-align: right;\n    }\n</style>\n<table border=\"1\" class=\"dataframe\">\n  <thead>\n    <tr style=\"text-align: right;\">\n      <th></th>\n      <th>Date</th>\n      <th>Confirmed</th>\n      <th>Recovered</th>\n      <th>Deaths</th>\n      <th>Day_deaths</th>\n      <th>Day_confirmed</th>\n      <th>Day_recovered</th>\n      <th>Rt</th>\n      <th>Rt2</th>\n      <th>Rate_conf</th>\n      <th>Rate_ill</th>\n      <th>Region</th>\n      <th>Remaining_ill</th>\n      <th>MA7_dayconfirmed</th>\n      <th>MA14_dayconfirmed</th>\n      <th>MA7_remaining_ill</th>\n      <th>MA14_remaining_ill</th>\n      <th>Change_dayconf</th>\n      <th>Change_remill</th>\n    </tr>\n  </thead>\n  <tbody>\n    <tr>\n      <th>22252</th>\n      <td>2020-11-21</td>\n      <td>14774</td>\n      <td>14241</td>\n      <td>73</td>\n      <td>0</td>\n      <td>184</td>\n      <td>321</td>\n      <td>1.030</td>\n      <td>1.051</td>\n      <td>0</td>\n      <td>0</td>\n      <td>Ярославская обл.</td>\n      <td>460</td>\n      <td>176.285714</td>\n      <td>170.428571</td>\n      <td>926.285714</td>\n      <td>1043.714286</td>\n      <td>4</td>\n      <td>-137</td>\n    </tr>\n    <tr>\n      <th>22253</th>\n      <td>2020-11-22</td>\n      <td>14954</td>\n      <td>14264</td>\n      <td>76</td>\n      <td>3</td>\n      <td>180</td>\n      <td>23</td>\n      <td>1.035</td>\n      <td>1.051</td>\n      <td>0</td>\n      <td>0</td>\n      <td>Ярославская обл.</td>\n      <td>614</td>\n      <td>177.285714</td>\n      <td>172.071429</td>\n      <td>846.285714</td>\n      <td>1005.142857</td>\n      <td>-4</td>\n      <td>154</td>\n    </tr>\n    <tr>\n      <th>22254</th>\n      <td>2020-11-23</td>\n      <td>15137</td>\n      <td>14289</td>\n      <td>78</td>\n      <td>2</td>\n      <td>183</td>\n      <td>25</td>\n      <td>1.043</td>\n      <td>1.051</td>\n      <td>0</td>\n      <td>0</td>\n      <td>Ярославская обл.</td>\n      <td>770</td>\n      <td>178.571429</td>\n      <td>174.000000</td>\n      <td>781.714286</td>\n      <td>969.571429</td>\n      <td>3</td>\n      <td>156</td>\n    </tr>\n    <tr>\n      <th>22255</th>\n      <td>2020-11-24</td>\n      <td>15319</td>\n      <td>14451</td>\n      <td>78</td>\n      <td>0</td>\n      <td>182</td>\n      <td>162</td>\n      <td>1.037</td>\n      <td>1.050</td>\n      <td>0</td>\n      <td>0</td>\n      <td>Ярославская обл.</td>\n      <td>790</td>\n      <td>180.000000</td>\n      <td>175.857143</td>\n      <td>718.857143</td>\n      <td>936.285714</td>\n      <td>-1</td>\n      <td>20</td>\n    </tr>\n    <tr>\n      <th>22256</th>\n      <td>2020-11-25</td>\n      <td>15507</td>\n      <td>14616</td>\n      <td>81</td>\n      <td>3</td>\n      <td>188</td>\n      <td>165</td>\n      <td>1.025</td>\n      <td>1.050</td>\n      <td>0</td>\n      <td>0</td>\n      <td>Ярославская обл.</td>\n      <td>810</td>\n      <td>181.714286</td>\n      <td>177.714286</td>\n      <td>696.000000</td>\n      <td>908.142857</td>\n      <td>6</td>\n      <td>20</td>\n    </tr>\n  </tbody>\n</table>\n</div>"
     },
     "metadata": {},
     "execution_count": 14
    }
   ],
   "source": [
    "X = pd.DataFrame()\n",
    "regions_dict = {}\n",
    "yandex_russia['Rt'] = 1\n",
    "yandex_russia['Rt2'] = 1\n",
    "yandex_russia['Rate_conf'] = 0\n",
    "yandex_russia['Rate_ill'] = 0\n",
    "\n",
    "temp_df = yandex_russia.groupby(['Region','Date']).sum()\n",
    "\n",
    "# Ниже enumerate  для составления словаря из имен регионов {i:j} , для расчетов можно было использовать только j\n",
    "\n",
    "for i,j in enumerate(temp_df.index.get_level_values(0).unique()):\n",
    "    temp_df2 =  temp_df.loc[j]\n",
    "    temp1 = temp_df2['Day_confirmed'].rolling(4).sum()/(temp_df2[\"Day_confirmed\"].rolling(8).sum()-\n",
    "\n",
    "                                                              temp_df2[\"Day_confirmed\"].rolling(4).sum())\n",
    "    temp2 = temp_df2['Confirmed'].rolling(4).sum()/(temp_df2['Confirmed'].rolling(8).sum()-\n",
    "\n",
    "                                                              temp_df2['Confirmed'].rolling(4).sum())\n",
    "    temp_df2['Rt'] = round(temp1,3)\n",
    "    temp_df2['Rt2'] = round(temp2,3)\n",
    "    temp_df2['Region'] = j\n",
    "    temp_df2['Remaining_ill']=temp_df2['Confirmed']-temp_df2['Recovered']-temp_df2['Deaths']\n",
    "    temp_df2['MA7_dayconfirmed']=temp_df2['Day_confirmed'].rolling(window=7).mean()\n",
    "    temp_df2['MA14_dayconfirmed']=temp_df2['Day_confirmed'].rolling(window=14).mean()\n",
    "    temp_df2['MA7_remaining_ill']=temp_df2['Remaining_ill'].rolling(window=7).mean()\n",
    "    temp_df2['MA14_remaining_ill']=temp_df2['Remaining_ill'].rolling(window=14).mean()\n",
    "    \n",
    "    temp_df2['Change_dayconf'] = 0\n",
    "    for k in range(1,temp_df2.shape[0]):\n",
    "        temp_df2['Change_dayconf'].iloc[k]=temp_df2['Day_confirmed'].iloc[k]-temp_df2['Day_confirmed'].iloc[k-1]\n",
    "    temp_df2['Change_remill'] = 0\n",
    "    for k in range(1,temp_df2.shape[0]):\n",
    "        temp_df2['Change_remill'].iloc[k]=temp_df2['Remaining_ill'].iloc[k]-temp_df2['Remaining_ill'].iloc[k-1]\n",
    "    \n",
    "    \n",
    "\n",
    "   #Генератор DF  на каждый регион(сидит в цикле):\n",
    "   # globals()['x' + str(i)] = temp_df2.reset_index()\n",
    "    \n",
    "    X = pd.concat([X,temp_df2.reset_index()],axis = 0)\n",
    "    regions_dict[i]=j\n",
    "    \n",
    "print(regions_dict.items())\n",
    "    \n",
    "X = X.reset_index(drop=True)\n",
    "X.tail()\n"
   ]
  },
  {
   "cell_type": "code",
   "execution_count": 15,
   "metadata": {
    "tags": []
   },
   "outputs": [
    {
     "output_type": "stream",
     "name": "stdout",
     "text": [
      "            Confirmed  Remaining_ill\nDate                                \n2020-11-24    2138828         467126\n2020-11-25    2162503         464546\n22257\n(22257, 19)\n2020-03-12\n"
     ]
    }
   ],
   "source": [
    "mask = X.Region == 'Россия'\n",
    "temp_df = X[mask][['Date','Confirmed','Remaining_ill']]\n",
    "temp_df.index = temp_df.Date\n",
    "temp_df.drop(columns =['Date'], inplace = True)\n",
    "print(temp_df.tail(2))\n",
    "# print(temp_df.index.get_level_values(0))\n",
    "# temp_df.loc[datetime.date(2020,6,15),'Россия'].Confirmed\n",
    "# for i in temp_df.index.get_level_values(0).unique()[-2:]:\n",
    "#     print(temp_df.loc[i,'Россия'].Confirmed)\n",
    "rus_date = list(temp_df.index)\n",
    "rus_conf = list(temp_df.Confirmed)\n",
    "rus_ill = list(temp_df.Remaining_ill)\n",
    "rus_dict_conf = dict(zip(rus_date,rus_conf))\n",
    "rus_dict_ill = dict(zip(rus_date,rus_ill))\n",
    "\n",
    "print(len(X))\n",
    "print(X.shape)\n",
    "print(X.loc[0,'Date'])\n",
    "for i in range(len(X)):\n",
    "    X.loc[i,'Rate_conf']=100*X.loc[i,'Confirmed']/rus_dict_conf.get(X.loc[i,'Date'])\n",
    "    X.loc[i,'Rate_ill']=100*X.loc[i,'Remaining_ill']/rus_dict_ill.get(X.loc[i,'Date'])\n"
   ]
  },
  {
   "cell_type": "code",
   "execution_count": 16,
   "metadata": {},
   "outputs": [
    {
     "output_type": "execute_result",
     "data": {
      "text/plain": [
       "             Date  Confirmed  Region  Rate_conf  Rate_ill\n",
       "14472  2020-11-06    1733440  Россия      100.0     100.0\n",
       "14473  2020-11-07    1753836  Россия      100.0     100.0\n",
       "14474  2020-11-08    1774334  Россия      100.0     100.0\n",
       "14475  2020-11-09    1796132  Россия      100.0     100.0\n",
       "14476  2020-11-10    1817109  Россия      100.0     100.0\n",
       "14477  2020-11-11    1836960  Россия      100.0     100.0\n",
       "14478  2020-11-12    1858568  Россия      100.0     100.0\n",
       "14479  2020-11-13    1880551  Россия      100.0     100.0\n",
       "14480  2020-11-14    1903253  Россия      100.0     100.0\n",
       "14481  2020-11-15    1925825  Россия      100.0     100.0\n",
       "14482  2020-11-16    1948603  Россия      100.0     100.0\n",
       "14483  2020-11-17    1971013  Россия      100.0     100.0\n",
       "14484  2020-11-18    1991998  Россия      100.0     100.0\n",
       "14485  2020-11-19    2015608  Россия      100.0     100.0\n",
       "14486  2020-11-20    2039926  Россия      100.0     100.0\n",
       "14487  2020-11-21    2064748  Россия      100.0     100.0\n",
       "14488  2020-11-22    2089329  Россия      100.0     100.0\n",
       "14489  2020-11-23    2114502  Россия      100.0     100.0\n",
       "14490  2020-11-24    2138828  Россия      100.0     100.0\n",
       "14491  2020-11-25    2162503  Россия      100.0     100.0"
      ],
      "text/html": "<div>\n<style scoped>\n    .dataframe tbody tr th:only-of-type {\n        vertical-align: middle;\n    }\n\n    .dataframe tbody tr th {\n        vertical-align: top;\n    }\n\n    .dataframe thead th {\n        text-align: right;\n    }\n</style>\n<table border=\"1\" class=\"dataframe\">\n  <thead>\n    <tr style=\"text-align: right;\">\n      <th></th>\n      <th>Date</th>\n      <th>Confirmed</th>\n      <th>Region</th>\n      <th>Rate_conf</th>\n      <th>Rate_ill</th>\n    </tr>\n  </thead>\n  <tbody>\n    <tr>\n      <th>14472</th>\n      <td>2020-11-06</td>\n      <td>1733440</td>\n      <td>Россия</td>\n      <td>100.0</td>\n      <td>100.0</td>\n    </tr>\n    <tr>\n      <th>14473</th>\n      <td>2020-11-07</td>\n      <td>1753836</td>\n      <td>Россия</td>\n      <td>100.0</td>\n      <td>100.0</td>\n    </tr>\n    <tr>\n      <th>14474</th>\n      <td>2020-11-08</td>\n      <td>1774334</td>\n      <td>Россия</td>\n      <td>100.0</td>\n      <td>100.0</td>\n    </tr>\n    <tr>\n      <th>14475</th>\n      <td>2020-11-09</td>\n      <td>1796132</td>\n      <td>Россия</td>\n      <td>100.0</td>\n      <td>100.0</td>\n    </tr>\n    <tr>\n      <th>14476</th>\n      <td>2020-11-10</td>\n      <td>1817109</td>\n      <td>Россия</td>\n      <td>100.0</td>\n      <td>100.0</td>\n    </tr>\n    <tr>\n      <th>14477</th>\n      <td>2020-11-11</td>\n      <td>1836960</td>\n      <td>Россия</td>\n      <td>100.0</td>\n      <td>100.0</td>\n    </tr>\n    <tr>\n      <th>14478</th>\n      <td>2020-11-12</td>\n      <td>1858568</td>\n      <td>Россия</td>\n      <td>100.0</td>\n      <td>100.0</td>\n    </tr>\n    <tr>\n      <th>14479</th>\n      <td>2020-11-13</td>\n      <td>1880551</td>\n      <td>Россия</td>\n      <td>100.0</td>\n      <td>100.0</td>\n    </tr>\n    <tr>\n      <th>14480</th>\n      <td>2020-11-14</td>\n      <td>1903253</td>\n      <td>Россия</td>\n      <td>100.0</td>\n      <td>100.0</td>\n    </tr>\n    <tr>\n      <th>14481</th>\n      <td>2020-11-15</td>\n      <td>1925825</td>\n      <td>Россия</td>\n      <td>100.0</td>\n      <td>100.0</td>\n    </tr>\n    <tr>\n      <th>14482</th>\n      <td>2020-11-16</td>\n      <td>1948603</td>\n      <td>Россия</td>\n      <td>100.0</td>\n      <td>100.0</td>\n    </tr>\n    <tr>\n      <th>14483</th>\n      <td>2020-11-17</td>\n      <td>1971013</td>\n      <td>Россия</td>\n      <td>100.0</td>\n      <td>100.0</td>\n    </tr>\n    <tr>\n      <th>14484</th>\n      <td>2020-11-18</td>\n      <td>1991998</td>\n      <td>Россия</td>\n      <td>100.0</td>\n      <td>100.0</td>\n    </tr>\n    <tr>\n      <th>14485</th>\n      <td>2020-11-19</td>\n      <td>2015608</td>\n      <td>Россия</td>\n      <td>100.0</td>\n      <td>100.0</td>\n    </tr>\n    <tr>\n      <th>14486</th>\n      <td>2020-11-20</td>\n      <td>2039926</td>\n      <td>Россия</td>\n      <td>100.0</td>\n      <td>100.0</td>\n    </tr>\n    <tr>\n      <th>14487</th>\n      <td>2020-11-21</td>\n      <td>2064748</td>\n      <td>Россия</td>\n      <td>100.0</td>\n      <td>100.0</td>\n    </tr>\n    <tr>\n      <th>14488</th>\n      <td>2020-11-22</td>\n      <td>2089329</td>\n      <td>Россия</td>\n      <td>100.0</td>\n      <td>100.0</td>\n    </tr>\n    <tr>\n      <th>14489</th>\n      <td>2020-11-23</td>\n      <td>2114502</td>\n      <td>Россия</td>\n      <td>100.0</td>\n      <td>100.0</td>\n    </tr>\n    <tr>\n      <th>14490</th>\n      <td>2020-11-24</td>\n      <td>2138828</td>\n      <td>Россия</td>\n      <td>100.0</td>\n      <td>100.0</td>\n    </tr>\n    <tr>\n      <th>14491</th>\n      <td>2020-11-25</td>\n      <td>2162503</td>\n      <td>Россия</td>\n      <td>100.0</td>\n      <td>100.0</td>\n    </tr>\n  </tbody>\n</table>\n</div>"
     },
     "metadata": {},
     "execution_count": 16
    }
   ],
   "source": [
    "mask = (X.Date>=datetime.date(2020,6,13))&(X.Region.isin(['Москва','Россия']))\n",
    "\n",
    "temp=X[mask]\n",
    "temp[['Date','Confirmed','Region','Rate_conf','Rate_ill']].tail(20)"
   ]
  },
  {
   "cell_type": "code",
   "execution_count": 17,
   "metadata": {},
   "outputs": [],
   "source": [
    "# russia_regions = pd.read_csv('regions-info.csv')\n",
    "\n",
    "# russia_regions[(russia_regions.Region =='Московская область')|(russia_regions.Region =='Москва')|\n",
    "#               (russia_regions.Region =='Санкт-Петербург')].tail()"
   ]
  },
  {
   "cell_type": "code",
   "execution_count": 18,
   "metadata": {},
   "outputs": [],
   "source": [
    "X.to_csv('X.csv',index=False)\n"
   ]
  },
  {
   "cell_type": "code",
   "execution_count": null,
   "metadata": {},
   "outputs": [],
   "source": []
  }
 ],
 "metadata": {
  "kernelspec": {
   "display_name": "Python 3.8.3 64-bit ('univer': venv)",
   "language": "python",
   "name": "python38364bitunivervenvccc17a1ebf2945b3903df3ba400fd1bf"
  },
  "language_info": {
   "codemirror_mode": {
    "name": "ipython",
    "version": 3
   },
   "file_extension": ".py",
   "mimetype": "text/x-python",
   "name": "python",
   "nbconvert_exporter": "python",
   "pygments_lexer": "ipython3",
   "version": "3.8.3-final"
  }
 },
 "nbformat": 4,
 "nbformat_minor": 4
}