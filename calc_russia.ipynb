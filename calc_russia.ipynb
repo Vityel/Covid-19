{
 "cells": [
  {
   "cell_type": "code",
   "execution_count": 1,
   "metadata": {},
   "outputs": [],
   "source": [
    "import pandas as pd\n",
    "import datetime\n",
    "import plotly.graph_objects as go\n",
    "import plotly.express as px\n",
    "import plotly.figure_factory as ff\n"
   ]
  },
  {
   "cell_type": "code",
   "execution_count": 2,
   "metadata": {},
   "outputs": [
    {
     "output_type": "execute_result",
     "data": {
      "text/plain": "             Date             Region  Confirmed  Recovered  Deaths  \\\n15443  2020-09-09   Ульяновская обл.      12949      10983     120   \n15444  2020-09-09   Хабаровский край      10638       8462      94   \n15445  2020-09-09            Хакасия       3641       3224      47   \n15446  2020-09-09        ХМАО – Югра      20270      19368     176   \n15447  2020-09-09   Челябинская обл.      14249      10042     109   \n15448  2020-09-09              Чечня       2322       1703      40   \n15449  2020-09-09            Чувашия       8043       6668      75   \n15450  2020-09-09       Чукотский АО        174        167       2   \n15451  2020-09-09  Ямало-Ненецкий АО      13840      13097      94   \n15452  2020-09-09   Ярославская обл.       7584       7056      42   \n\n       Day_deaths  Day_confirmed  Day_recovered  \n15443           9            105            140  \n15444           0             62              0  \n15445           0             30              9  \n15446           1             77            107  \n15447           1             62            194  \n15448           0              8             18  \n15449           1             29             33  \n15450           0              0              0  \n15451           0             48             15  \n15452           0             42             49  ",
      "text/html": "<div>\n<style scoped>\n    .dataframe tbody tr th:only-of-type {\n        vertical-align: middle;\n    }\n\n    .dataframe tbody tr th {\n        vertical-align: top;\n    }\n\n    .dataframe thead th {\n        text-align: right;\n    }\n</style>\n<table border=\"1\" class=\"dataframe\">\n  <thead>\n    <tr style=\"text-align: right;\">\n      <th></th>\n      <th>Date</th>\n      <th>Region</th>\n      <th>Confirmed</th>\n      <th>Recovered</th>\n      <th>Deaths</th>\n      <th>Day_deaths</th>\n      <th>Day_confirmed</th>\n      <th>Day_recovered</th>\n    </tr>\n  </thead>\n  <tbody>\n    <tr>\n      <th>15443</th>\n      <td>2020-09-09</td>\n      <td>Ульяновская обл.</td>\n      <td>12949</td>\n      <td>10983</td>\n      <td>120</td>\n      <td>9</td>\n      <td>105</td>\n      <td>140</td>\n    </tr>\n    <tr>\n      <th>15444</th>\n      <td>2020-09-09</td>\n      <td>Хабаровский край</td>\n      <td>10638</td>\n      <td>8462</td>\n      <td>94</td>\n      <td>0</td>\n      <td>62</td>\n      <td>0</td>\n    </tr>\n    <tr>\n      <th>15445</th>\n      <td>2020-09-09</td>\n      <td>Хакасия</td>\n      <td>3641</td>\n      <td>3224</td>\n      <td>47</td>\n      <td>0</td>\n      <td>30</td>\n      <td>9</td>\n    </tr>\n    <tr>\n      <th>15446</th>\n      <td>2020-09-09</td>\n      <td>ХМАО – Югра</td>\n      <td>20270</td>\n      <td>19368</td>\n      <td>176</td>\n      <td>1</td>\n      <td>77</td>\n      <td>107</td>\n    </tr>\n    <tr>\n      <th>15447</th>\n      <td>2020-09-09</td>\n      <td>Челябинская обл.</td>\n      <td>14249</td>\n      <td>10042</td>\n      <td>109</td>\n      <td>1</td>\n      <td>62</td>\n      <td>194</td>\n    </tr>\n    <tr>\n      <th>15448</th>\n      <td>2020-09-09</td>\n      <td>Чечня</td>\n      <td>2322</td>\n      <td>1703</td>\n      <td>40</td>\n      <td>0</td>\n      <td>8</td>\n      <td>18</td>\n    </tr>\n    <tr>\n      <th>15449</th>\n      <td>2020-09-09</td>\n      <td>Чувашия</td>\n      <td>8043</td>\n      <td>6668</td>\n      <td>75</td>\n      <td>1</td>\n      <td>29</td>\n      <td>33</td>\n    </tr>\n    <tr>\n      <th>15450</th>\n      <td>2020-09-09</td>\n      <td>Чукотский АО</td>\n      <td>174</td>\n      <td>167</td>\n      <td>2</td>\n      <td>0</td>\n      <td>0</td>\n      <td>0</td>\n    </tr>\n    <tr>\n      <th>15451</th>\n      <td>2020-09-09</td>\n      <td>Ямало-Ненецкий АО</td>\n      <td>13840</td>\n      <td>13097</td>\n      <td>94</td>\n      <td>0</td>\n      <td>48</td>\n      <td>15</td>\n    </tr>\n    <tr>\n      <th>15452</th>\n      <td>2020-09-09</td>\n      <td>Ярославская обл.</td>\n      <td>7584</td>\n      <td>7056</td>\n      <td>42</td>\n      <td>0</td>\n      <td>42</td>\n      <td>49</td>\n    </tr>\n  </tbody>\n</table>\n</div>"
     },
     "metadata": {},
     "execution_count": 2
    }
   ],
   "source": [
    "yandex_russia = pd.read_csv('yandex_russia.csv')\n",
    "\n",
    "yandex_russia.rename(columns = {'Дата':'Date','Регион':'Region','Заражений':'Confirmed','Выздоровлений':'Recovered',\n",
    "                               'Смертей':'Deaths','Смертей за день':'Day_deaths',\n",
    "                               'Заражений за день':'Day_confirmed','Выздоровлений за день':'Day_recovered'},inplace = True)\n",
    "\n",
    "\n",
    "for i in range(yandex_russia.shape[0]):\n",
    "    a= yandex_russia.Date[i].split('.')\n",
    "    yandex_russia.Date[i]=datetime.date(int(a[2]),int(a[1]),int(a[0]))\n",
    "    \n",
    "   \n",
    "yandex_russia.tail(10)"
   ]
  },
  {
   "cell_type": "code",
   "execution_count": 3,
   "metadata": {},
   "outputs": [
    {
     "output_type": "execute_result",
     "data": {
      "text/plain": "           Date  Region  Confirmed  Recovered  Deaths  Day_deaths  \\\n172  2020-08-31  Россия     995319     809387   17176          83   \n173  2020-09-01  Россия    1000048     815705   17299         123   \n174  2020-09-02  Россия    1005000     821169   17414         115   \n175  2020-09-03  Россия    1009995     826935   17528         114   \n176  2020-09-04  Россия    1015105     832747   17649         121   \n177  2020-09-05  Россия    1020310     838126   17759         110   \n178  2020-09-06  Россия    1025505     840949   17820          61   \n179  2020-09-07  Россия    1030690     843277   17871          51   \n180  2020-09-08  Россия    1035789     850049   17993         122   \n181  2020-09-09  Россия    1041007     856458   18135         142   \n\n     Day_confirmed  Day_recovered  \n172           4993           2405  \n173           4729           6318  \n174           4952           5464  \n175           4995           5766  \n176           5110           5812  \n177           5205           5379  \n178           5195           2823  \n179           5185           2328  \n180           5099           6772  \n181           5218           6409  ",
      "text/html": "<div>\n<style scoped>\n    .dataframe tbody tr th:only-of-type {\n        vertical-align: middle;\n    }\n\n    .dataframe tbody tr th {\n        vertical-align: top;\n    }\n\n    .dataframe thead th {\n        text-align: right;\n    }\n</style>\n<table border=\"1\" class=\"dataframe\">\n  <thead>\n    <tr style=\"text-align: right;\">\n      <th></th>\n      <th>Date</th>\n      <th>Region</th>\n      <th>Confirmed</th>\n      <th>Recovered</th>\n      <th>Deaths</th>\n      <th>Day_deaths</th>\n      <th>Day_confirmed</th>\n      <th>Day_recovered</th>\n    </tr>\n  </thead>\n  <tbody>\n    <tr>\n      <th>172</th>\n      <td>2020-08-31</td>\n      <td>Россия</td>\n      <td>995319</td>\n      <td>809387</td>\n      <td>17176</td>\n      <td>83</td>\n      <td>4993</td>\n      <td>2405</td>\n    </tr>\n    <tr>\n      <th>173</th>\n      <td>2020-09-01</td>\n      <td>Россия</td>\n      <td>1000048</td>\n      <td>815705</td>\n      <td>17299</td>\n      <td>123</td>\n      <td>4729</td>\n      <td>6318</td>\n    </tr>\n    <tr>\n      <th>174</th>\n      <td>2020-09-02</td>\n      <td>Россия</td>\n      <td>1005000</td>\n      <td>821169</td>\n      <td>17414</td>\n      <td>115</td>\n      <td>4952</td>\n      <td>5464</td>\n    </tr>\n    <tr>\n      <th>175</th>\n      <td>2020-09-03</td>\n      <td>Россия</td>\n      <td>1009995</td>\n      <td>826935</td>\n      <td>17528</td>\n      <td>114</td>\n      <td>4995</td>\n      <td>5766</td>\n    </tr>\n    <tr>\n      <th>176</th>\n      <td>2020-09-04</td>\n      <td>Россия</td>\n      <td>1015105</td>\n      <td>832747</td>\n      <td>17649</td>\n      <td>121</td>\n      <td>5110</td>\n      <td>5812</td>\n    </tr>\n    <tr>\n      <th>177</th>\n      <td>2020-09-05</td>\n      <td>Россия</td>\n      <td>1020310</td>\n      <td>838126</td>\n      <td>17759</td>\n      <td>110</td>\n      <td>5205</td>\n      <td>5379</td>\n    </tr>\n    <tr>\n      <th>178</th>\n      <td>2020-09-06</td>\n      <td>Россия</td>\n      <td>1025505</td>\n      <td>840949</td>\n      <td>17820</td>\n      <td>61</td>\n      <td>5195</td>\n      <td>2823</td>\n    </tr>\n    <tr>\n      <th>179</th>\n      <td>2020-09-07</td>\n      <td>Россия</td>\n      <td>1030690</td>\n      <td>843277</td>\n      <td>17871</td>\n      <td>51</td>\n      <td>5185</td>\n      <td>2328</td>\n    </tr>\n    <tr>\n      <th>180</th>\n      <td>2020-09-08</td>\n      <td>Россия</td>\n      <td>1035789</td>\n      <td>850049</td>\n      <td>17993</td>\n      <td>122</td>\n      <td>5099</td>\n      <td>6772</td>\n    </tr>\n    <tr>\n      <th>181</th>\n      <td>2020-09-09</td>\n      <td>Россия</td>\n      <td>1041007</td>\n      <td>856458</td>\n      <td>18135</td>\n      <td>142</td>\n      <td>5218</td>\n      <td>6409</td>\n    </tr>\n  </tbody>\n</table>\n</div>"
     },
     "metadata": {},
     "execution_count": 3
    }
   ],
   "source": [
    "df3_temp = yandex_russia.groupby('Date').sum()\n",
    "df3_temp['Region']='Россия'\n",
    "\n",
    "y5= pd.concat([yandex_russia,df3_temp.reset_index()],axis = 0)\n",
    "y5.reset_index()\n",
    "yandex_russia = y5\n",
    "yandex_russia.tail(10)"
   ]
  },
  {
   "cell_type": "code",
   "execution_count": 4,
   "metadata": {
    "tags": []
   },
   "outputs": [
    {
     "output_type": "stream",
     "name": "stdout",
     "text": "2020-09-09\nВыбран день:  2020-09-09\n"
    }
   ],
   "source": [
    "# dt = datetime.datetime.today()\n",
    "# today = datetime.date(dt.year,dt.month,dt.day)\n",
    "# ystday = datetime.date(today.year,today.month,today.day-1)\n",
    "# yst2day = datetime.date(today.year,today.month,today.day-2)\n",
    "# yst3day = datetime.date(today.year,today.month,today.day-3)\n",
    "\n",
    "# print(today)\n",
    "# print(ystday)\n",
    "# print(yst2day)\n",
    "# print(yst3day)\n",
    "myday = list(yandex_russia.tail(1).Date)[0]\n",
    "\n",
    "print(yandex_russia.iloc[-1,0])\n",
    "print('Выбран день: ',myday)"
   ]
  },
  {
   "cell_type": "code",
   "execution_count": 5,
   "metadata": {
    "tags": []
   },
   "outputs": [
    {
     "output_type": "stream",
     "name": "stdout",
     "text": "dict_items([(0, 'Адыгея'), (1, 'Алтай'), (2, 'Алтайский край'), (3, 'Амурская обл.'), (4, 'Архангельская обл.'), (5, 'Астраханская обл.'), (6, 'Башкортостан'), (7, 'Белгородская обл.'), (8, 'Брянская обл.'), (9, 'Бурятия'), (10, 'Владимирская обл.'), (11, 'Волгоградская обл.'), (12, 'Вологодская обл.'), (13, 'Воронежская обл.'), (14, 'Дагестан'), (15, 'Еврейская АО'), (16, 'Забайкальский край'), (17, 'Ивановская обл.'), (18, 'Ингушетия'), (19, 'Иркутская обл.'), (20, 'Кабардино-Балкария'), (21, 'Калининградская обл.'), (22, 'Калмыкия'), (23, 'Калужская обл.'), (24, 'Камчатский край'), (25, 'Карачаево-Черкессия'), (26, 'Карелия'), (27, 'Кемеровская обл.'), (28, 'Кировская обл.'), (29, 'Коми'), (30, 'Костромская обл.'), (31, 'Краснодарский край'), (32, 'Красноярский край'), (33, 'Крым'), (34, 'Курганская обл.'), (35, 'Курская обл.'), (36, 'Ленинградская обл.'), (37, 'Липецкая обл.'), (38, 'Магаданская обл.'), (39, 'Марий Эл'), (40, 'Мордовия'), (41, 'Москва'), (42, 'Московская обл.'), (43, 'Мурманская обл.'), (44, 'Ненецкий АО'), (45, 'Нижегородская обл.'), (46, 'Новгородская обл.'), (47, 'Новосибирская обл.'), (48, 'Омская обл.'), (49, 'Оренбургская обл.'), (50, 'Орловская обл.'), (51, 'Пензенская обл.'), (52, 'Пермский край'), (53, 'Приморский край'), (54, 'Псковская обл.'), (55, 'Россия'), (56, 'Ростовская обл.'), (57, 'Рязанская обл.'), (58, 'Самарская обл.'), (59, 'Санкт-Петербург'), (60, 'Саратовская обл.'), (61, 'Саха (Якутия)'), (62, 'Сахалинская обл.'), (63, 'Свердловская обл.'), (64, 'Севастополь'), (65, 'Северная Осетия'), (66, 'Смоленская обл.'), (67, 'Ставропольский край'), (68, 'Тамбовская обл.'), (69, 'Татарстан'), (70, 'Тверская обл.'), (71, 'Томская обл.'), (72, 'Тульская обл.'), (73, 'Тыва'), (74, 'Тюменская обл.'), (75, 'Удмуртия'), (76, 'Ульяновская обл.'), (77, 'ХМАО – Югра'), (78, 'Хабаровский край'), (79, 'Хакасия'), (80, 'Челябинская обл.'), (81, 'Чечня'), (82, 'Чувашия'), (83, 'Чукотский АО'), (84, 'Ямало-Ненецкий АО'), (85, 'Ярославская обл.')])\n"
    },
    {
     "output_type": "execute_result",
     "data": {
      "text/plain": "             Date  Confirmed  Recovered  Deaths  Day_deaths  Day_confirmed  \\\n15630  2020-09-05       7423       6894      38           0             38   \n15631  2020-09-06       7465       6909      38           0             42   \n15632  2020-09-07       7504       6915      38           0             39   \n15633  2020-09-08       7542       7007      42           4             38   \n15634  2020-09-09       7584       7056      42           0             42   \n\n       Day_recovered     Rt    Rt2  Rate_conf  Rate_ill            Region  \\\n15630             79  1.013  1.022          0         0  Ярославская обл.   \n15631             15  0.994  1.022          0         0  Ярославская обл.   \n15632              6  1.013  1.022          0         0  Ярославская обл.   \n15633             92  1.000  1.021          0         0  Ярославская обл.   \n15634             49  1.045  1.022          0         0  Ярославская обл.   \n\n       Remaining_ill  MA7_dayconfirmed  MA14_dayconfirmed  MA7_remaining_ill  \\\n15630            491         39.000000          38.428571         638.571429   \n15631            518         39.571429          38.571429         605.142857   \n15632            551         39.428571          38.571429         571.714286   \n15633            493         39.000000          38.785714         542.571429   \n15634            486         39.428571          39.071429         521.000000   \n\n       MA14_remaining_ill  Change_dayconf  Change_remill  \n15630          699.000000              -2            -41  \n15631          681.857143               4             27  \n15632          666.000000              -3             33  \n15633          646.214286              -1            -58  \n15634          625.571429               4             -7  ",
      "text/html": "<div>\n<style scoped>\n    .dataframe tbody tr th:only-of-type {\n        vertical-align: middle;\n    }\n\n    .dataframe tbody tr th {\n        vertical-align: top;\n    }\n\n    .dataframe thead th {\n        text-align: right;\n    }\n</style>\n<table border=\"1\" class=\"dataframe\">\n  <thead>\n    <tr style=\"text-align: right;\">\n      <th></th>\n      <th>Date</th>\n      <th>Confirmed</th>\n      <th>Recovered</th>\n      <th>Deaths</th>\n      <th>Day_deaths</th>\n      <th>Day_confirmed</th>\n      <th>Day_recovered</th>\n      <th>Rt</th>\n      <th>Rt2</th>\n      <th>Rate_conf</th>\n      <th>Rate_ill</th>\n      <th>Region</th>\n      <th>Remaining_ill</th>\n      <th>MA7_dayconfirmed</th>\n      <th>MA14_dayconfirmed</th>\n      <th>MA7_remaining_ill</th>\n      <th>MA14_remaining_ill</th>\n      <th>Change_dayconf</th>\n      <th>Change_remill</th>\n    </tr>\n  </thead>\n  <tbody>\n    <tr>\n      <th>15630</th>\n      <td>2020-09-05</td>\n      <td>7423</td>\n      <td>6894</td>\n      <td>38</td>\n      <td>0</td>\n      <td>38</td>\n      <td>79</td>\n      <td>1.013</td>\n      <td>1.022</td>\n      <td>0</td>\n      <td>0</td>\n      <td>Ярославская обл.</td>\n      <td>491</td>\n      <td>39.000000</td>\n      <td>38.428571</td>\n      <td>638.571429</td>\n      <td>699.000000</td>\n      <td>-2</td>\n      <td>-41</td>\n    </tr>\n    <tr>\n      <th>15631</th>\n      <td>2020-09-06</td>\n      <td>7465</td>\n      <td>6909</td>\n      <td>38</td>\n      <td>0</td>\n      <td>42</td>\n      <td>15</td>\n      <td>0.994</td>\n      <td>1.022</td>\n      <td>0</td>\n      <td>0</td>\n      <td>Ярославская обл.</td>\n      <td>518</td>\n      <td>39.571429</td>\n      <td>38.571429</td>\n      <td>605.142857</td>\n      <td>681.857143</td>\n      <td>4</td>\n      <td>27</td>\n    </tr>\n    <tr>\n      <th>15632</th>\n      <td>2020-09-07</td>\n      <td>7504</td>\n      <td>6915</td>\n      <td>38</td>\n      <td>0</td>\n      <td>39</td>\n      <td>6</td>\n      <td>1.013</td>\n      <td>1.022</td>\n      <td>0</td>\n      <td>0</td>\n      <td>Ярославская обл.</td>\n      <td>551</td>\n      <td>39.428571</td>\n      <td>38.571429</td>\n      <td>571.714286</td>\n      <td>666.000000</td>\n      <td>-3</td>\n      <td>33</td>\n    </tr>\n    <tr>\n      <th>15633</th>\n      <td>2020-09-08</td>\n      <td>7542</td>\n      <td>7007</td>\n      <td>42</td>\n      <td>4</td>\n      <td>38</td>\n      <td>92</td>\n      <td>1.000</td>\n      <td>1.021</td>\n      <td>0</td>\n      <td>0</td>\n      <td>Ярославская обл.</td>\n      <td>493</td>\n      <td>39.000000</td>\n      <td>38.785714</td>\n      <td>542.571429</td>\n      <td>646.214286</td>\n      <td>-1</td>\n      <td>-58</td>\n    </tr>\n    <tr>\n      <th>15634</th>\n      <td>2020-09-09</td>\n      <td>7584</td>\n      <td>7056</td>\n      <td>42</td>\n      <td>0</td>\n      <td>42</td>\n      <td>49</td>\n      <td>1.045</td>\n      <td>1.022</td>\n      <td>0</td>\n      <td>0</td>\n      <td>Ярославская обл.</td>\n      <td>486</td>\n      <td>39.428571</td>\n      <td>39.071429</td>\n      <td>521.000000</td>\n      <td>625.571429</td>\n      <td>4</td>\n      <td>-7</td>\n    </tr>\n  </tbody>\n</table>\n</div>"
     },
     "metadata": {},
     "execution_count": 5
    }
   ],
   "source": [
    "X = pd.DataFrame()\n",
    "regions_dict = {}\n",
    "yandex_russia['Rt'] = 1\n",
    "yandex_russia['Rt2'] = 1\n",
    "yandex_russia['Rate_conf'] = 0\n",
    "yandex_russia['Rate_ill'] = 0\n",
    "\n",
    "temp_df = yandex_russia.groupby(['Region','Date']).sum()\n",
    "\n",
    "# Ниже enumerate  для составления словаря из имен регионов {i:j} , для расчетов можно было использовать только j\n",
    "\n",
    "for i,j in enumerate(temp_df.index.get_level_values(0).unique()):\n",
    "    temp_df2 =  temp_df.loc[j]\n",
    "    temp1 = temp_df2['Day_confirmed'].rolling(4).sum()/(temp_df2[\"Day_confirmed\"].rolling(8).sum()-\n",
    "\n",
    "                                                              temp_df2[\"Day_confirmed\"].rolling(4).sum())\n",
    "    temp2 = temp_df2['Confirmed'].rolling(4).sum()/(temp_df2['Confirmed'].rolling(8).sum()-\n",
    "\n",
    "                                                              temp_df2['Confirmed'].rolling(4).sum())\n",
    "    temp_df2['Rt'] = round(temp1,3)\n",
    "    temp_df2['Rt2'] = round(temp2,3)\n",
    "    temp_df2['Region'] = j\n",
    "    temp_df2['Remaining_ill']=temp_df2['Confirmed']-temp_df2['Recovered']-temp_df2['Deaths']\n",
    "    temp_df2['MA7_dayconfirmed']=temp_df2['Day_confirmed'].rolling(window=7).mean()\n",
    "    temp_df2['MA14_dayconfirmed']=temp_df2['Day_confirmed'].rolling(window=14).mean()\n",
    "    temp_df2['MA7_remaining_ill']=temp_df2['Remaining_ill'].rolling(window=7).mean()\n",
    "    temp_df2['MA14_remaining_ill']=temp_df2['Remaining_ill'].rolling(window=14).mean()\n",
    "    \n",
    "    temp_df2['Change_dayconf'] = 0\n",
    "    for k in range(1,temp_df2.shape[0]):\n",
    "        temp_df2['Change_dayconf'].iloc[k]=temp_df2['Day_confirmed'].iloc[k]-temp_df2['Day_confirmed'].iloc[k-1]\n",
    "    temp_df2['Change_remill'] = 0\n",
    "    for k in range(1,temp_df2.shape[0]):\n",
    "        temp_df2['Change_remill'].iloc[k]=temp_df2['Remaining_ill'].iloc[k]-temp_df2['Remaining_ill'].iloc[k-1]\n",
    "    \n",
    "    \n",
    "\n",
    "   #Генератор DF  на каждый регион(сидит в цикле):\n",
    "   # globals()['x' + str(i)] = temp_df2.reset_index()\n",
    "    \n",
    "    X = pd.concat([X,temp_df2.reset_index()],axis = 0)\n",
    "    regions_dict[i]=j\n",
    "    \n",
    "print(regions_dict.items())\n",
    "    \n",
    "X = X.reset_index(drop=True)\n",
    "X.tail()\n"
   ]
  },
  {
   "cell_type": "code",
   "execution_count": 6,
   "metadata": {
    "tags": []
   },
   "outputs": [
    {
     "output_type": "stream",
     "name": "stdout",
     "text": "Confirmed  Remaining_ill\nDate                                \n2020-09-08    1035789         167747\n2020-09-09    1041007         166414\n15635\n(15635, 19)\n2020-03-12\n"
    }
   ],
   "source": [
    "mask = X.Region == 'Россия'\n",
    "temp_df = X[mask][['Date','Confirmed','Remaining_ill']]\n",
    "temp_df.index = temp_df.Date\n",
    "temp_df.drop(columns =['Date'], inplace = True)\n",
    "print(temp_df.tail(2))\n",
    "# print(temp_df.index.get_level_values(0))\n",
    "# temp_df.loc[datetime.date(2020,6,15),'Россия'].Confirmed\n",
    "# for i in temp_df.index.get_level_values(0).unique()[-2:]:\n",
    "#     print(temp_df.loc[i,'Россия'].Confirmed)\n",
    "rus_date = list(temp_df.index)\n",
    "rus_conf = list(temp_df.Confirmed)\n",
    "rus_ill = list(temp_df.Remaining_ill)\n",
    "rus_dict_conf = dict(zip(rus_date,rus_conf))\n",
    "rus_dict_ill = dict(zip(rus_date,rus_ill))\n",
    "\n",
    "print(len(X))\n",
    "print(X.shape)\n",
    "print(X.loc[0,'Date'])\n",
    "for i in range(len(X)):\n",
    "    X.loc[i,'Rate_conf']=100*X.loc[i,'Confirmed']/rus_dict_conf.get(X.loc[i,'Date'])\n",
    "    X.loc[i,'Rate_ill']=100*X.loc[i,'Remaining_ill']/rus_dict_ill.get(X.loc[i,'Date'])\n"
   ]
  },
  {
   "cell_type": "code",
   "execution_count": 7,
   "metadata": {},
   "outputs": [
    {
     "output_type": "execute_result",
     "data": {
      "text/plain": "             Date  Confirmed  Region  Rate_conf  Rate_ill\n10160  2020-08-21     946976  Россия      100.0     100.0\n10161  2020-08-22     951897  Россия      100.0     100.0\n10162  2020-08-23     956749  Россия      100.0     100.0\n10163  2020-08-24     961493  Россия      100.0     100.0\n10164  2020-08-25     966189  Россия      100.0     100.0\n10165  2020-08-26     970865  Россия      100.0     100.0\n10166  2020-08-27     975576  Россия      100.0     100.0\n10167  2020-08-28     980405  Россия      100.0     100.0\n10168  2020-08-29     985346  Россия      100.0     100.0\n10169  2020-08-30     990326  Россия      100.0     100.0\n10170  2020-08-31     995319  Россия      100.0     100.0\n10171  2020-09-01    1000048  Россия      100.0     100.0\n10172  2020-09-02    1005000  Россия      100.0     100.0\n10173  2020-09-03    1009995  Россия      100.0     100.0\n10174  2020-09-04    1015105  Россия      100.0     100.0\n10175  2020-09-05    1020310  Россия      100.0     100.0\n10176  2020-09-06    1025505  Россия      100.0     100.0\n10177  2020-09-07    1030690  Россия      100.0     100.0\n10178  2020-09-08    1035789  Россия      100.0     100.0\n10179  2020-09-09    1041007  Россия      100.0     100.0",
      "text/html": "<div>\n<style scoped>\n    .dataframe tbody tr th:only-of-type {\n        vertical-align: middle;\n    }\n\n    .dataframe tbody tr th {\n        vertical-align: top;\n    }\n\n    .dataframe thead th {\n        text-align: right;\n    }\n</style>\n<table border=\"1\" class=\"dataframe\">\n  <thead>\n    <tr style=\"text-align: right;\">\n      <th></th>\n      <th>Date</th>\n      <th>Confirmed</th>\n      <th>Region</th>\n      <th>Rate_conf</th>\n      <th>Rate_ill</th>\n    </tr>\n  </thead>\n  <tbody>\n    <tr>\n      <th>10160</th>\n      <td>2020-08-21</td>\n      <td>946976</td>\n      <td>Россия</td>\n      <td>100.0</td>\n      <td>100.0</td>\n    </tr>\n    <tr>\n      <th>10161</th>\n      <td>2020-08-22</td>\n      <td>951897</td>\n      <td>Россия</td>\n      <td>100.0</td>\n      <td>100.0</td>\n    </tr>\n    <tr>\n      <th>10162</th>\n      <td>2020-08-23</td>\n      <td>956749</td>\n      <td>Россия</td>\n      <td>100.0</td>\n      <td>100.0</td>\n    </tr>\n    <tr>\n      <th>10163</th>\n      <td>2020-08-24</td>\n      <td>961493</td>\n      <td>Россия</td>\n      <td>100.0</td>\n      <td>100.0</td>\n    </tr>\n    <tr>\n      <th>10164</th>\n      <td>2020-08-25</td>\n      <td>966189</td>\n      <td>Россия</td>\n      <td>100.0</td>\n      <td>100.0</td>\n    </tr>\n    <tr>\n      <th>10165</th>\n      <td>2020-08-26</td>\n      <td>970865</td>\n      <td>Россия</td>\n      <td>100.0</td>\n      <td>100.0</td>\n    </tr>\n    <tr>\n      <th>10166</th>\n      <td>2020-08-27</td>\n      <td>975576</td>\n      <td>Россия</td>\n      <td>100.0</td>\n      <td>100.0</td>\n    </tr>\n    <tr>\n      <th>10167</th>\n      <td>2020-08-28</td>\n      <td>980405</td>\n      <td>Россия</td>\n      <td>100.0</td>\n      <td>100.0</td>\n    </tr>\n    <tr>\n      <th>10168</th>\n      <td>2020-08-29</td>\n      <td>985346</td>\n      <td>Россия</td>\n      <td>100.0</td>\n      <td>100.0</td>\n    </tr>\n    <tr>\n      <th>10169</th>\n      <td>2020-08-30</td>\n      <td>990326</td>\n      <td>Россия</td>\n      <td>100.0</td>\n      <td>100.0</td>\n    </tr>\n    <tr>\n      <th>10170</th>\n      <td>2020-08-31</td>\n      <td>995319</td>\n      <td>Россия</td>\n      <td>100.0</td>\n      <td>100.0</td>\n    </tr>\n    <tr>\n      <th>10171</th>\n      <td>2020-09-01</td>\n      <td>1000048</td>\n      <td>Россия</td>\n      <td>100.0</td>\n      <td>100.0</td>\n    </tr>\n    <tr>\n      <th>10172</th>\n      <td>2020-09-02</td>\n      <td>1005000</td>\n      <td>Россия</td>\n      <td>100.0</td>\n      <td>100.0</td>\n    </tr>\n    <tr>\n      <th>10173</th>\n      <td>2020-09-03</td>\n      <td>1009995</td>\n      <td>Россия</td>\n      <td>100.0</td>\n      <td>100.0</td>\n    </tr>\n    <tr>\n      <th>10174</th>\n      <td>2020-09-04</td>\n      <td>1015105</td>\n      <td>Россия</td>\n      <td>100.0</td>\n      <td>100.0</td>\n    </tr>\n    <tr>\n      <th>10175</th>\n      <td>2020-09-05</td>\n      <td>1020310</td>\n      <td>Россия</td>\n      <td>100.0</td>\n      <td>100.0</td>\n    </tr>\n    <tr>\n      <th>10176</th>\n      <td>2020-09-06</td>\n      <td>1025505</td>\n      <td>Россия</td>\n      <td>100.0</td>\n      <td>100.0</td>\n    </tr>\n    <tr>\n      <th>10177</th>\n      <td>2020-09-07</td>\n      <td>1030690</td>\n      <td>Россия</td>\n      <td>100.0</td>\n      <td>100.0</td>\n    </tr>\n    <tr>\n      <th>10178</th>\n      <td>2020-09-08</td>\n      <td>1035789</td>\n      <td>Россия</td>\n      <td>100.0</td>\n      <td>100.0</td>\n    </tr>\n    <tr>\n      <th>10179</th>\n      <td>2020-09-09</td>\n      <td>1041007</td>\n      <td>Россия</td>\n      <td>100.0</td>\n      <td>100.0</td>\n    </tr>\n  </tbody>\n</table>\n</div>"
     },
     "metadata": {},
     "execution_count": 7
    }
   ],
   "source": [
    "mask = (X.Date>=datetime.date(2020,6,13))&(X.Region.isin(['Москва','Россия']))\n",
    "\n",
    "temp=X[mask]\n",
    "temp[['Date','Confirmed','Region','Rate_conf','Rate_ill']].tail(20)"
   ]
  },
  {
   "cell_type": "code",
   "execution_count": 8,
   "metadata": {},
   "outputs": [],
   "source": [
    "# russia_regions = pd.read_csv('regions-info.csv')\n",
    "\n",
    "# russia_regions[(russia_regions.Region =='Московская область')|(russia_regions.Region =='Москва')|\n",
    "#               (russia_regions.Region =='Санкт-Петербург')].tail()"
   ]
  },
  {
   "cell_type": "code",
   "execution_count": 9,
   "metadata": {},
   "outputs": [],
   "source": [
    "X.to_csv('X.csv',index=False)\n"
   ]
  },
  {
   "cell_type": "code",
   "execution_count": null,
   "metadata": {},
   "outputs": [],
   "source": []
  }
 ],
 "metadata": {
  "kernelspec": {
   "display_name": "Python 3.8.3 64-bit ('covid': venv)",
   "language": "python",
   "name": "python_defaultSpec_1599677262414"
  },
  "language_info": {
   "codemirror_mode": {
    "name": "ipython",
    "version": 3
   },
   "file_extension": ".py",
   "mimetype": "text/x-python",
   "name": "python",
   "nbconvert_exporter": "python",
   "pygments_lexer": "ipython3",
   "version": "3.8.3-final"
  }
 },
 "nbformat": 4,
 "nbformat_minor": 4
}