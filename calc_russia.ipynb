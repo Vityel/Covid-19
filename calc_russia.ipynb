{
 "cells": [
  {
   "cell_type": "code",
   "execution_count": 1,
   "metadata": {},
   "outputs": [],
   "source": [
    "import pandas as pd\n",
    "import datetime\n",
    "import plotly.graph_objects as go\n",
    "import plotly.express as px\n",
    "import plotly.figure_factory as ff\n"
   ]
  },
  {
   "cell_type": "code",
   "execution_count": 2,
   "metadata": {},
   "outputs": [
    {
     "output_type": "execute_result",
     "data": {
      "text/plain": "             Date             Region  Confirmed  Recovered  Deaths  \\\n14848  2020-09-02   Ульяновская обл.      12259       9952     110   \n14849  2020-09-02   Хабаровский край      10236       8092      92   \n14850  2020-09-02            Хакасия       3455       3153      45   \n14851  2020-09-02        ХМАО – Югра      19744      18601     169   \n14852  2020-09-02   Челябинская обл.      13826       9553     105   \n14853  2020-09-02              Чечня       2280       1628      38   \n14854  2020-09-02            Чувашия       7836       6477      71   \n14855  2020-09-02       Чукотский АО        172        164       2   \n14856  2020-09-02  Ямало-Ненецкий АО      13503      13019      90   \n14857  2020-09-02   Ярославская обл.       7308       6634      37   \n\n       Day_deaths  Day_confirmed  Day_recovered  \n14848           9             95            120  \n14849           1             86             90  \n14850           2             21              8  \n14851           2             68            110  \n14852           1             73             91  \n14853           0              6             21  \n14854           1             33             28  \n14855           0              0              0  \n14856           0             46             16  \n14857           0             39             99  ",
      "text/html": "<div>\n<style scoped>\n    .dataframe tbody tr th:only-of-type {\n        vertical-align: middle;\n    }\n\n    .dataframe tbody tr th {\n        vertical-align: top;\n    }\n\n    .dataframe thead th {\n        text-align: right;\n    }\n</style>\n<table border=\"1\" class=\"dataframe\">\n  <thead>\n    <tr style=\"text-align: right;\">\n      <th></th>\n      <th>Date</th>\n      <th>Region</th>\n      <th>Confirmed</th>\n      <th>Recovered</th>\n      <th>Deaths</th>\n      <th>Day_deaths</th>\n      <th>Day_confirmed</th>\n      <th>Day_recovered</th>\n    </tr>\n  </thead>\n  <tbody>\n    <tr>\n      <th>14848</th>\n      <td>2020-09-02</td>\n      <td>Ульяновская обл.</td>\n      <td>12259</td>\n      <td>9952</td>\n      <td>110</td>\n      <td>9</td>\n      <td>95</td>\n      <td>120</td>\n    </tr>\n    <tr>\n      <th>14849</th>\n      <td>2020-09-02</td>\n      <td>Хабаровский край</td>\n      <td>10236</td>\n      <td>8092</td>\n      <td>92</td>\n      <td>1</td>\n      <td>86</td>\n      <td>90</td>\n    </tr>\n    <tr>\n      <th>14850</th>\n      <td>2020-09-02</td>\n      <td>Хакасия</td>\n      <td>3455</td>\n      <td>3153</td>\n      <td>45</td>\n      <td>2</td>\n      <td>21</td>\n      <td>8</td>\n    </tr>\n    <tr>\n      <th>14851</th>\n      <td>2020-09-02</td>\n      <td>ХМАО – Югра</td>\n      <td>19744</td>\n      <td>18601</td>\n      <td>169</td>\n      <td>2</td>\n      <td>68</td>\n      <td>110</td>\n    </tr>\n    <tr>\n      <th>14852</th>\n      <td>2020-09-02</td>\n      <td>Челябинская обл.</td>\n      <td>13826</td>\n      <td>9553</td>\n      <td>105</td>\n      <td>1</td>\n      <td>73</td>\n      <td>91</td>\n    </tr>\n    <tr>\n      <th>14853</th>\n      <td>2020-09-02</td>\n      <td>Чечня</td>\n      <td>2280</td>\n      <td>1628</td>\n      <td>38</td>\n      <td>0</td>\n      <td>6</td>\n      <td>21</td>\n    </tr>\n    <tr>\n      <th>14854</th>\n      <td>2020-09-02</td>\n      <td>Чувашия</td>\n      <td>7836</td>\n      <td>6477</td>\n      <td>71</td>\n      <td>1</td>\n      <td>33</td>\n      <td>28</td>\n    </tr>\n    <tr>\n      <th>14855</th>\n      <td>2020-09-02</td>\n      <td>Чукотский АО</td>\n      <td>172</td>\n      <td>164</td>\n      <td>2</td>\n      <td>0</td>\n      <td>0</td>\n      <td>0</td>\n    </tr>\n    <tr>\n      <th>14856</th>\n      <td>2020-09-02</td>\n      <td>Ямало-Ненецкий АО</td>\n      <td>13503</td>\n      <td>13019</td>\n      <td>90</td>\n      <td>0</td>\n      <td>46</td>\n      <td>16</td>\n    </tr>\n    <tr>\n      <th>14857</th>\n      <td>2020-09-02</td>\n      <td>Ярославская обл.</td>\n      <td>7308</td>\n      <td>6634</td>\n      <td>37</td>\n      <td>0</td>\n      <td>39</td>\n      <td>99</td>\n    </tr>\n  </tbody>\n</table>\n</div>"
     },
     "metadata": {},
     "execution_count": 2
    }
   ],
   "source": [
    "yandex_russia = pd.read_csv('yandex_russia.csv')\n",
    "\n",
    "yandex_russia.rename(columns = {'Дата':'Date','Регион':'Region','Заражений':'Confirmed','Выздоровлений':'Recovered',\n",
    "                               'Смертей':'Deaths','Смертей за день':'Day_deaths',\n",
    "                               'Заражений за день':'Day_confirmed','Выздоровлений за день':'Day_recovered'},inplace = True)\n",
    "\n",
    "\n",
    "for i in range(yandex_russia.shape[0]):\n",
    "    a= yandex_russia.Date[i].split('.')\n",
    "    yandex_russia.Date[i]=datetime.date(int(a[2]),int(a[1]),int(a[0]))\n",
    "    \n",
    "   \n",
    "yandex_russia.tail(10)"
   ]
  },
  {
   "cell_type": "code",
   "execution_count": 3,
   "metadata": {},
   "outputs": [
    {
     "output_type": "execute_result",
     "data": {
      "text/plain": "           Date  Region  Confirmed  Recovered  Deaths  Day_deaths  \\\n165  2020-08-24  Россия     961493     773095   16448          65   \n166  2020-08-25  Россия     966189     779747   16568         120   \n167  2020-08-26  Россия     970865     786150   16683         115   \n168  2020-08-27  Россия     975576     792561   16804         121   \n169  2020-08-28  Россия     980405     798466   16914         110   \n170  2020-08-29  Россия     985346     804383   17025         111   \n171  2020-08-30  Россия     990326     806982   17093          68   \n172  2020-08-31  Россия     995319     809387   17176          83   \n173  2020-09-01  Россия    1000048     815705   17299         123   \n174  2020-09-02  Россия    1005000     821169   17414         115   \n\n     Day_confirmed  Day_recovered  \n165           4744           2456  \n166           4696           6652  \n167           4676           6403  \n168           4711           6411  \n169           4829           5905  \n170           4941           5917  \n171           4980           2599  \n172           4993           2405  \n173           4729           6318  \n174           4952           5464  ",
      "text/html": "<div>\n<style scoped>\n    .dataframe tbody tr th:only-of-type {\n        vertical-align: middle;\n    }\n\n    .dataframe tbody tr th {\n        vertical-align: top;\n    }\n\n    .dataframe thead th {\n        text-align: right;\n    }\n</style>\n<table border=\"1\" class=\"dataframe\">\n  <thead>\n    <tr style=\"text-align: right;\">\n      <th></th>\n      <th>Date</th>\n      <th>Region</th>\n      <th>Confirmed</th>\n      <th>Recovered</th>\n      <th>Deaths</th>\n      <th>Day_deaths</th>\n      <th>Day_confirmed</th>\n      <th>Day_recovered</th>\n    </tr>\n  </thead>\n  <tbody>\n    <tr>\n      <th>165</th>\n      <td>2020-08-24</td>\n      <td>Россия</td>\n      <td>961493</td>\n      <td>773095</td>\n      <td>16448</td>\n      <td>65</td>\n      <td>4744</td>\n      <td>2456</td>\n    </tr>\n    <tr>\n      <th>166</th>\n      <td>2020-08-25</td>\n      <td>Россия</td>\n      <td>966189</td>\n      <td>779747</td>\n      <td>16568</td>\n      <td>120</td>\n      <td>4696</td>\n      <td>6652</td>\n    </tr>\n    <tr>\n      <th>167</th>\n      <td>2020-08-26</td>\n      <td>Россия</td>\n      <td>970865</td>\n      <td>786150</td>\n      <td>16683</td>\n      <td>115</td>\n      <td>4676</td>\n      <td>6403</td>\n    </tr>\n    <tr>\n      <th>168</th>\n      <td>2020-08-27</td>\n      <td>Россия</td>\n      <td>975576</td>\n      <td>792561</td>\n      <td>16804</td>\n      <td>121</td>\n      <td>4711</td>\n      <td>6411</td>\n    </tr>\n    <tr>\n      <th>169</th>\n      <td>2020-08-28</td>\n      <td>Россия</td>\n      <td>980405</td>\n      <td>798466</td>\n      <td>16914</td>\n      <td>110</td>\n      <td>4829</td>\n      <td>5905</td>\n    </tr>\n    <tr>\n      <th>170</th>\n      <td>2020-08-29</td>\n      <td>Россия</td>\n      <td>985346</td>\n      <td>804383</td>\n      <td>17025</td>\n      <td>111</td>\n      <td>4941</td>\n      <td>5917</td>\n    </tr>\n    <tr>\n      <th>171</th>\n      <td>2020-08-30</td>\n      <td>Россия</td>\n      <td>990326</td>\n      <td>806982</td>\n      <td>17093</td>\n      <td>68</td>\n      <td>4980</td>\n      <td>2599</td>\n    </tr>\n    <tr>\n      <th>172</th>\n      <td>2020-08-31</td>\n      <td>Россия</td>\n      <td>995319</td>\n      <td>809387</td>\n      <td>17176</td>\n      <td>83</td>\n      <td>4993</td>\n      <td>2405</td>\n    </tr>\n    <tr>\n      <th>173</th>\n      <td>2020-09-01</td>\n      <td>Россия</td>\n      <td>1000048</td>\n      <td>815705</td>\n      <td>17299</td>\n      <td>123</td>\n      <td>4729</td>\n      <td>6318</td>\n    </tr>\n    <tr>\n      <th>174</th>\n      <td>2020-09-02</td>\n      <td>Россия</td>\n      <td>1005000</td>\n      <td>821169</td>\n      <td>17414</td>\n      <td>115</td>\n      <td>4952</td>\n      <td>5464</td>\n    </tr>\n  </tbody>\n</table>\n</div>"
     },
     "metadata": {},
     "execution_count": 3
    }
   ],
   "source": [
    "df3_temp = yandex_russia.groupby('Date').sum()\n",
    "df3_temp['Region']='Россия'\n",
    "\n",
    "y5= pd.concat([yandex_russia,df3_temp.reset_index()],axis = 0)\n",
    "y5.reset_index()\n",
    "yandex_russia = y5\n",
    "yandex_russia.tail(10)"
   ]
  },
  {
   "cell_type": "code",
   "execution_count": 4,
   "metadata": {
    "tags": []
   },
   "outputs": [
    {
     "output_type": "stream",
     "name": "stdout",
     "text": "2020-09-02\nВыбран день:  2020-09-02\n"
    }
   ],
   "source": [
    "# dt = datetime.datetime.today()\n",
    "# today = datetime.date(dt.year,dt.month,dt.day)\n",
    "# ystday = datetime.date(today.year,today.month,today.day-1)\n",
    "# yst2day = datetime.date(today.year,today.month,today.day-2)\n",
    "# yst3day = datetime.date(today.year,today.month,today.day-3)\n",
    "\n",
    "# print(today)\n",
    "# print(ystday)\n",
    "# print(yst2day)\n",
    "# print(yst3day)\n",
    "myday = list(yandex_russia.tail(1).Date)[0]\n",
    "\n",
    "print(yandex_russia.iloc[-1,0])\n",
    "print('Выбран день: ',myday)"
   ]
  },
  {
   "cell_type": "code",
   "execution_count": 5,
   "metadata": {
    "tags": []
   },
   "outputs": [
    {
     "output_type": "stream",
     "name": "stdout",
     "text": "dict_items([(0, 'Адыгея'), (1, 'Алтай'), (2, 'Алтайский край'), (3, 'Амурская обл.'), (4, 'Архангельская обл.'), (5, 'Астраханская обл.'), (6, 'Башкортостан'), (7, 'Белгородская обл.'), (8, 'Брянская обл.'), (9, 'Бурятия'), (10, 'Владимирская обл.'), (11, 'Волгоградская обл.'), (12, 'Вологодская обл.'), (13, 'Воронежская обл.'), (14, 'Дагестан'), (15, 'Еврейская АО'), (16, 'Забайкальский край'), (17, 'Ивановская обл.'), (18, 'Ингушетия'), (19, 'Иркутская обл.'), (20, 'Кабардино-Балкария'), (21, 'Калининградская обл.'), (22, 'Калмыкия'), (23, 'Калужская обл.'), (24, 'Камчатский край'), (25, 'Карачаево-Черкессия'), (26, 'Карелия'), (27, 'Кемеровская обл.'), (28, 'Кировская обл.'), (29, 'Коми'), (30, 'Костромская обл.'), (31, 'Краснодарский край'), (32, 'Красноярский край'), (33, 'Крым'), (34, 'Курганская обл.'), (35, 'Курская обл.'), (36, 'Ленинградская обл.'), (37, 'Липецкая обл.'), (38, 'Магаданская обл.'), (39, 'Марий Эл'), (40, 'Мордовия'), (41, 'Москва'), (42, 'Московская обл.'), (43, 'Мурманская обл.'), (44, 'Ненецкий АО'), (45, 'Нижегородская обл.'), (46, 'Новгородская обл.'), (47, 'Новосибирская обл.'), (48, 'Омская обл.'), (49, 'Оренбургская обл.'), (50, 'Орловская обл.'), (51, 'Пензенская обл.'), (52, 'Пермский край'), (53, 'Приморский край'), (54, 'Псковская обл.'), (55, 'Россия'), (56, 'Ростовская обл.'), (57, 'Рязанская обл.'), (58, 'Самарская обл.'), (59, 'Санкт-Петербург'), (60, 'Саратовская обл.'), (61, 'Саха (Якутия)'), (62, 'Сахалинская обл.'), (63, 'Свердловская обл.'), (64, 'Севастополь'), (65, 'Северная Осетия'), (66, 'Смоленская обл.'), (67, 'Ставропольский край'), (68, 'Тамбовская обл.'), (69, 'Татарстан'), (70, 'Тверская обл.'), (71, 'Томская обл.'), (72, 'Тульская обл.'), (73, 'Тыва'), (74, 'Тюменская обл.'), (75, 'Удмуртия'), (76, 'Ульяновская обл.'), (77, 'ХМАО – Югра'), (78, 'Хабаровский край'), (79, 'Хакасия'), (80, 'Челябинская обл.'), (81, 'Чечня'), (82, 'Чувашия'), (83, 'Чукотский АО'), (84, 'Ямало-Ненецкий АО'), (85, 'Ярославская обл.')])\n"
    },
    {
     "output_type": "execute_result",
     "data": {
      "text/plain": "             Date  Confirmed  Recovered  Deaths  Day_deaths  Day_confirmed  \\\n15028  2020-08-29       7150       6394      35           0             33   \n15029  2020-08-30       7188       6401      35           0             38   \n15030  2020-08-31       7228       6407      36           1             40   \n15031  2020-09-01       7269       6535      37           1             41   \n15032  2020-09-02       7308       6634      37           0             39   \n\n       Day_recovered     Rt    Rt2  Rate_conf  Rate_ill            Region  \\\n15028             64  0.993  1.022          0         0  Ярославская обл.   \n15029              7  0.993  1.022          0         0  Ярославская обл.   \n15030              6  0.993  1.022          0         0  Ярославская обл.   \n15031            128  0.993  1.021          0         0  Ярославская обл.   \n15032             99  1.046  1.022          0         0  Ярославская обл.   \n\n       Remaining_ill  MA7_dayconfirmed  MA14_dayconfirmed  MA7_remaining_ill  \\\n15028            721         37.857143          38.142857         759.428571   \n15029            752         37.571429          38.071429         758.571429   \n15030            785         37.714286          38.071429         760.285714   \n15031            697         38.571429          38.357143         749.857143   \n15032            637         38.714286          38.285714         730.142857   \n\n       MA14_remaining_ill  Change_dayconf  Change_remill  \n15028          734.071429              -7            -31  \n15029          739.357143               5             31  \n15030          744.357143               2             33  \n15031          744.071429               1            -88  \n15032          739.071429              -2            -60  ",
      "text/html": "<div>\n<style scoped>\n    .dataframe tbody tr th:only-of-type {\n        vertical-align: middle;\n    }\n\n    .dataframe tbody tr th {\n        vertical-align: top;\n    }\n\n    .dataframe thead th {\n        text-align: right;\n    }\n</style>\n<table border=\"1\" class=\"dataframe\">\n  <thead>\n    <tr style=\"text-align: right;\">\n      <th></th>\n      <th>Date</th>\n      <th>Confirmed</th>\n      <th>Recovered</th>\n      <th>Deaths</th>\n      <th>Day_deaths</th>\n      <th>Day_confirmed</th>\n      <th>Day_recovered</th>\n      <th>Rt</th>\n      <th>Rt2</th>\n      <th>Rate_conf</th>\n      <th>Rate_ill</th>\n      <th>Region</th>\n      <th>Remaining_ill</th>\n      <th>MA7_dayconfirmed</th>\n      <th>MA14_dayconfirmed</th>\n      <th>MA7_remaining_ill</th>\n      <th>MA14_remaining_ill</th>\n      <th>Change_dayconf</th>\n      <th>Change_remill</th>\n    </tr>\n  </thead>\n  <tbody>\n    <tr>\n      <th>15028</th>\n      <td>2020-08-29</td>\n      <td>7150</td>\n      <td>6394</td>\n      <td>35</td>\n      <td>0</td>\n      <td>33</td>\n      <td>64</td>\n      <td>0.993</td>\n      <td>1.022</td>\n      <td>0</td>\n      <td>0</td>\n      <td>Ярославская обл.</td>\n      <td>721</td>\n      <td>37.857143</td>\n      <td>38.142857</td>\n      <td>759.428571</td>\n      <td>734.071429</td>\n      <td>-7</td>\n      <td>-31</td>\n    </tr>\n    <tr>\n      <th>15029</th>\n      <td>2020-08-30</td>\n      <td>7188</td>\n      <td>6401</td>\n      <td>35</td>\n      <td>0</td>\n      <td>38</td>\n      <td>7</td>\n      <td>0.993</td>\n      <td>1.022</td>\n      <td>0</td>\n      <td>0</td>\n      <td>Ярославская обл.</td>\n      <td>752</td>\n      <td>37.571429</td>\n      <td>38.071429</td>\n      <td>758.571429</td>\n      <td>739.357143</td>\n      <td>5</td>\n      <td>31</td>\n    </tr>\n    <tr>\n      <th>15030</th>\n      <td>2020-08-31</td>\n      <td>7228</td>\n      <td>6407</td>\n      <td>36</td>\n      <td>1</td>\n      <td>40</td>\n      <td>6</td>\n      <td>0.993</td>\n      <td>1.022</td>\n      <td>0</td>\n      <td>0</td>\n      <td>Ярославская обл.</td>\n      <td>785</td>\n      <td>37.714286</td>\n      <td>38.071429</td>\n      <td>760.285714</td>\n      <td>744.357143</td>\n      <td>2</td>\n      <td>33</td>\n    </tr>\n    <tr>\n      <th>15031</th>\n      <td>2020-09-01</td>\n      <td>7269</td>\n      <td>6535</td>\n      <td>37</td>\n      <td>1</td>\n      <td>41</td>\n      <td>128</td>\n      <td>0.993</td>\n      <td>1.021</td>\n      <td>0</td>\n      <td>0</td>\n      <td>Ярославская обл.</td>\n      <td>697</td>\n      <td>38.571429</td>\n      <td>38.357143</td>\n      <td>749.857143</td>\n      <td>744.071429</td>\n      <td>1</td>\n      <td>-88</td>\n    </tr>\n    <tr>\n      <th>15032</th>\n      <td>2020-09-02</td>\n      <td>7308</td>\n      <td>6634</td>\n      <td>37</td>\n      <td>0</td>\n      <td>39</td>\n      <td>99</td>\n      <td>1.046</td>\n      <td>1.022</td>\n      <td>0</td>\n      <td>0</td>\n      <td>Ярославская обл.</td>\n      <td>637</td>\n      <td>38.714286</td>\n      <td>38.285714</td>\n      <td>730.142857</td>\n      <td>739.071429</td>\n      <td>-2</td>\n      <td>-60</td>\n    </tr>\n  </tbody>\n</table>\n</div>"
     },
     "metadata": {},
     "execution_count": 5
    }
   ],
   "source": [
    "X = pd.DataFrame()\n",
    "regions_dict = {}\n",
    "yandex_russia['Rt'] = 1\n",
    "yandex_russia['Rt2'] = 1\n",
    "yandex_russia['Rate_conf'] = 0\n",
    "yandex_russia['Rate_ill'] = 0\n",
    "\n",
    "temp_df = yandex_russia.groupby(['Region','Date']).sum()\n",
    "\n",
    "# Ниже enumerate  для составления словаря из имен регионов {i:j} , для расчетов можно было использовать только j\n",
    "\n",
    "for i,j in enumerate(temp_df.index.get_level_values(0).unique()):\n",
    "    temp_df2 =  temp_df.loc[j]\n",
    "    temp1 = temp_df2['Day_confirmed'].rolling(4).sum()/(temp_df2[\"Day_confirmed\"].rolling(8).sum()-\n",
    "\n",
    "                                                              temp_df2[\"Day_confirmed\"].rolling(4).sum())\n",
    "    temp2 = temp_df2['Confirmed'].rolling(4).sum()/(temp_df2['Confirmed'].rolling(8).sum()-\n",
    "\n",
    "                                                              temp_df2['Confirmed'].rolling(4).sum())\n",
    "    temp_df2['Rt'] = round(temp1,3)\n",
    "    temp_df2['Rt2'] = round(temp2,3)\n",
    "    temp_df2['Region'] = j\n",
    "    temp_df2['Remaining_ill']=temp_df2['Confirmed']-temp_df2['Recovered']-temp_df2['Deaths']\n",
    "    temp_df2['MA7_dayconfirmed']=temp_df2['Day_confirmed'].rolling(window=7).mean()\n",
    "    temp_df2['MA14_dayconfirmed']=temp_df2['Day_confirmed'].rolling(window=14).mean()\n",
    "    temp_df2['MA7_remaining_ill']=temp_df2['Remaining_ill'].rolling(window=7).mean()\n",
    "    temp_df2['MA14_remaining_ill']=temp_df2['Remaining_ill'].rolling(window=14).mean()\n",
    "    \n",
    "    temp_df2['Change_dayconf'] = 0\n",
    "    for k in range(1,temp_df2.shape[0]):\n",
    "        temp_df2['Change_dayconf'].iloc[k]=temp_df2['Day_confirmed'].iloc[k]-temp_df2['Day_confirmed'].iloc[k-1]\n",
    "    temp_df2['Change_remill'] = 0\n",
    "    for k in range(1,temp_df2.shape[0]):\n",
    "        temp_df2['Change_remill'].iloc[k]=temp_df2['Remaining_ill'].iloc[k]-temp_df2['Remaining_ill'].iloc[k-1]\n",
    "    \n",
    "    \n",
    "\n",
    "   #Генератор DF  на каждый регион(сидит в цикле):\n",
    "   # globals()['x' + str(i)] = temp_df2.reset_index()\n",
    "    \n",
    "    X = pd.concat([X,temp_df2.reset_index()],axis = 0)\n",
    "    regions_dict[i]=j\n",
    "    \n",
    "print(regions_dict.items())\n",
    "    \n",
    "X = X.reset_index(drop=True)\n",
    "X.tail()\n"
   ]
  },
  {
   "cell_type": "code",
   "execution_count": 6,
   "metadata": {
    "tags": []
   },
   "outputs": [
    {
     "output_type": "stream",
     "name": "stdout",
     "text": "Confirmed  Remaining_ill\nDate                                \n2020-09-01    1000048         167044\n2020-09-02    1005000         166417\n15033\n(15033, 19)\n2020-03-12\n"
    }
   ],
   "source": [
    "mask = X.Region == 'Россия'\n",
    "temp_df = X[mask][['Date','Confirmed','Remaining_ill']]\n",
    "temp_df.index = temp_df.Date\n",
    "temp_df.drop(columns =['Date'], inplace = True)\n",
    "print(temp_df.tail(2))\n",
    "# print(temp_df.index.get_level_values(0))\n",
    "# temp_df.loc[datetime.date(2020,6,15),'Россия'].Confirmed\n",
    "# for i in temp_df.index.get_level_values(0).unique()[-2:]:\n",
    "#     print(temp_df.loc[i,'Россия'].Confirmed)\n",
    "rus_date = list(temp_df.index)\n",
    "rus_conf = list(temp_df.Confirmed)\n",
    "rus_ill = list(temp_df.Remaining_ill)\n",
    "rus_dict_conf = dict(zip(rus_date,rus_conf))\n",
    "rus_dict_ill = dict(zip(rus_date,rus_ill))\n",
    "\n",
    "print(len(X))\n",
    "print(X.shape)\n",
    "print(X.loc[0,'Date'])\n",
    "for i in range(len(X)):\n",
    "    X.loc[i,'Rate_conf']=100*X.loc[i,'Confirmed']/rus_dict_conf.get(X.loc[i,'Date'])\n",
    "    X.loc[i,'Rate_ill']=100*X.loc[i,'Remaining_ill']/rus_dict_ill.get(X.loc[i,'Date'])\n"
   ]
  },
  {
   "cell_type": "code",
   "execution_count": 7,
   "metadata": {},
   "outputs": [
    {
     "output_type": "execute_result",
     "data": {
      "text/plain": "            Date  Confirmed  Region  Rate_conf  Rate_ill\n9768  2020-08-14     912823  Россия      100.0     100.0\n9769  2020-08-15     917884  Россия      100.0     100.0\n9770  2020-08-16     922853  Россия      100.0     100.0\n9771  2020-08-17     927745  Россия      100.0     100.0\n9772  2020-08-18     932493  Россия      100.0     100.0\n9773  2020-08-19     937321  Россия      100.0     100.0\n9774  2020-08-20     942106  Россия      100.0     100.0\n9775  2020-08-21     946976  Россия      100.0     100.0\n9776  2020-08-22     951897  Россия      100.0     100.0\n9777  2020-08-23     956749  Россия      100.0     100.0\n9778  2020-08-24     961493  Россия      100.0     100.0\n9779  2020-08-25     966189  Россия      100.0     100.0\n9780  2020-08-26     970865  Россия      100.0     100.0\n9781  2020-08-27     975576  Россия      100.0     100.0\n9782  2020-08-28     980405  Россия      100.0     100.0\n9783  2020-08-29     985346  Россия      100.0     100.0\n9784  2020-08-30     990326  Россия      100.0     100.0\n9785  2020-08-31     995319  Россия      100.0     100.0\n9786  2020-09-01    1000048  Россия      100.0     100.0\n9787  2020-09-02    1005000  Россия      100.0     100.0",
      "text/html": "<div>\n<style scoped>\n    .dataframe tbody tr th:only-of-type {\n        vertical-align: middle;\n    }\n\n    .dataframe tbody tr th {\n        vertical-align: top;\n    }\n\n    .dataframe thead th {\n        text-align: right;\n    }\n</style>\n<table border=\"1\" class=\"dataframe\">\n  <thead>\n    <tr style=\"text-align: right;\">\n      <th></th>\n      <th>Date</th>\n      <th>Confirmed</th>\n      <th>Region</th>\n      <th>Rate_conf</th>\n      <th>Rate_ill</th>\n    </tr>\n  </thead>\n  <tbody>\n    <tr>\n      <th>9768</th>\n      <td>2020-08-14</td>\n      <td>912823</td>\n      <td>Россия</td>\n      <td>100.0</td>\n      <td>100.0</td>\n    </tr>\n    <tr>\n      <th>9769</th>\n      <td>2020-08-15</td>\n      <td>917884</td>\n      <td>Россия</td>\n      <td>100.0</td>\n      <td>100.0</td>\n    </tr>\n    <tr>\n      <th>9770</th>\n      <td>2020-08-16</td>\n      <td>922853</td>\n      <td>Россия</td>\n      <td>100.0</td>\n      <td>100.0</td>\n    </tr>\n    <tr>\n      <th>9771</th>\n      <td>2020-08-17</td>\n      <td>927745</td>\n      <td>Россия</td>\n      <td>100.0</td>\n      <td>100.0</td>\n    </tr>\n    <tr>\n      <th>9772</th>\n      <td>2020-08-18</td>\n      <td>932493</td>\n      <td>Россия</td>\n      <td>100.0</td>\n      <td>100.0</td>\n    </tr>\n    <tr>\n      <th>9773</th>\n      <td>2020-08-19</td>\n      <td>937321</td>\n      <td>Россия</td>\n      <td>100.0</td>\n      <td>100.0</td>\n    </tr>\n    <tr>\n      <th>9774</th>\n      <td>2020-08-20</td>\n      <td>942106</td>\n      <td>Россия</td>\n      <td>100.0</td>\n      <td>100.0</td>\n    </tr>\n    <tr>\n      <th>9775</th>\n      <td>2020-08-21</td>\n      <td>946976</td>\n      <td>Россия</td>\n      <td>100.0</td>\n      <td>100.0</td>\n    </tr>\n    <tr>\n      <th>9776</th>\n      <td>2020-08-22</td>\n      <td>951897</td>\n      <td>Россия</td>\n      <td>100.0</td>\n      <td>100.0</td>\n    </tr>\n    <tr>\n      <th>9777</th>\n      <td>2020-08-23</td>\n      <td>956749</td>\n      <td>Россия</td>\n      <td>100.0</td>\n      <td>100.0</td>\n    </tr>\n    <tr>\n      <th>9778</th>\n      <td>2020-08-24</td>\n      <td>961493</td>\n      <td>Россия</td>\n      <td>100.0</td>\n      <td>100.0</td>\n    </tr>\n    <tr>\n      <th>9779</th>\n      <td>2020-08-25</td>\n      <td>966189</td>\n      <td>Россия</td>\n      <td>100.0</td>\n      <td>100.0</td>\n    </tr>\n    <tr>\n      <th>9780</th>\n      <td>2020-08-26</td>\n      <td>970865</td>\n      <td>Россия</td>\n      <td>100.0</td>\n      <td>100.0</td>\n    </tr>\n    <tr>\n      <th>9781</th>\n      <td>2020-08-27</td>\n      <td>975576</td>\n      <td>Россия</td>\n      <td>100.0</td>\n      <td>100.0</td>\n    </tr>\n    <tr>\n      <th>9782</th>\n      <td>2020-08-28</td>\n      <td>980405</td>\n      <td>Россия</td>\n      <td>100.0</td>\n      <td>100.0</td>\n    </tr>\n    <tr>\n      <th>9783</th>\n      <td>2020-08-29</td>\n      <td>985346</td>\n      <td>Россия</td>\n      <td>100.0</td>\n      <td>100.0</td>\n    </tr>\n    <tr>\n      <th>9784</th>\n      <td>2020-08-30</td>\n      <td>990326</td>\n      <td>Россия</td>\n      <td>100.0</td>\n      <td>100.0</td>\n    </tr>\n    <tr>\n      <th>9785</th>\n      <td>2020-08-31</td>\n      <td>995319</td>\n      <td>Россия</td>\n      <td>100.0</td>\n      <td>100.0</td>\n    </tr>\n    <tr>\n      <th>9786</th>\n      <td>2020-09-01</td>\n      <td>1000048</td>\n      <td>Россия</td>\n      <td>100.0</td>\n      <td>100.0</td>\n    </tr>\n    <tr>\n      <th>9787</th>\n      <td>2020-09-02</td>\n      <td>1005000</td>\n      <td>Россия</td>\n      <td>100.0</td>\n      <td>100.0</td>\n    </tr>\n  </tbody>\n</table>\n</div>"
     },
     "metadata": {},
     "execution_count": 7
    }
   ],
   "source": [
    "mask = (X.Date>=datetime.date(2020,6,13))&(X.Region.isin(['Москва','Россия']))\n",
    "\n",
    "temp=X[mask]\n",
    "temp[['Date','Confirmed','Region','Rate_conf','Rate_ill']].tail(20)"
   ]
  },
  {
   "cell_type": "code",
   "execution_count": 8,
   "metadata": {},
   "outputs": [],
   "source": [
    "# russia_regions = pd.read_csv('regions-info.csv')\n",
    "\n",
    "# russia_regions[(russia_regions.Region =='Московская область')|(russia_regions.Region =='Москва')|\n",
    "#               (russia_regions.Region =='Санкт-Петербург')].tail()"
   ]
  },
  {
   "cell_type": "code",
   "execution_count": 9,
   "metadata": {},
   "outputs": [],
   "source": [
    "X.to_csv('X.csv',index=False)\n"
   ]
  },
  {
   "cell_type": "code",
   "execution_count": null,
   "metadata": {},
   "outputs": [],
   "source": []
  }
 ],
 "metadata": {
  "kernelspec": {
   "display_name": "Python 3.8.3 64-bit ('covid': venv)",
   "language": "python",
   "name": "python_defaultSpec_1599033125298"
  },
  "language_info": {
   "codemirror_mode": {
    "name": "ipython",
    "version": 3
   },
   "file_extension": ".py",
   "mimetype": "text/x-python",
   "name": "python",
   "nbconvert_exporter": "python",
   "pygments_lexer": "ipython3",
   "version": "3.8.3-final"
  }
 },
 "nbformat": 4,
 "nbformat_minor": 4
}