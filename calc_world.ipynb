{
 "cells": [
  {
   "cell_type": "code",
   "execution_count": 1,
   "metadata": {},
   "outputs": [],
   "source": [
    "import pandas as pd\n",
    "import datetime\n",
    "import plotly.graph_objects as go\n",
    "import plotly.express as px\n",
    "import plotly.figure_factory as ff\n",
    "\n",
    "\n"
   ]
  },
  {
   "cell_type": "code",
   "execution_count": 2,
   "metadata": {},
   "outputs": [
    {
     "output_type": "execute_result",
     "data": {
      "text/plain": "      Country        Date  Confirmed  Recovered  Deaths  Day_confirmed  \\\n40933  Япония  2020-08-08      47342      31248    1042           1578   \n40934  Япония  2020-08-09      48782      32867    1047           1440   \n40935  Япония  2020-08-10      49617      33450    1052            835   \n40936  Япония  2020-08-11      50302      34136    1058            685   \n40937  Япония  2020-08-12      51288      34969    1066            986   \n40938  Япония  2020-08-13      52471      36191    1073           1183   \n40939  Япония  2020-08-14      53818      35498    1080           1347   \n40940  Япония  2020-08-15      55051      39439    1093           1233   \n40941  Япония  2020-08-16      56074      40560    1103           1023   \n40942  Япония  2020-08-17      56717      41591    1112            643   \n40943  Япония  2020-08-18      57636      42965    1135            919   \n40944  Япония  2020-08-19      58728      43786    1148           1092   \n40945  Япония  2020-08-20      59900      45110    1157           1172   \n40946  Япония  2020-08-21      60949      46264    1175           1049   \n40947  Япония  2020-08-22      61916      47418    1179            967   \n40948  Япония  2020-08-23      62658      48319    1188            742   \n40949  Япония  2020-08-24      63158      49089    1201            500   \n40950  Япония  2020-08-25      63888      50092    1219            730   \n40951  Япония  2020-08-26      64779      51407    1230            891   \n40952  Япония  2020-08-27      65653      52542    1241            874   \n\n       Day_recovered  Day_deaths  \n40933           1007           0  \n40934           1619           5  \n40935            583           5  \n40936            686           6  \n40937            833           8  \n40938           1222           7  \n40939           -693           7  \n40940           3941          13  \n40941           1121          10  \n40942           1031           9  \n40943           1374          23  \n40944            821          13  \n40945           1324           9  \n40946           1154          18  \n40947           1154           4  \n40948            901           9  \n40949            770          13  \n40950           1003          18  \n40951           1315          11  \n40952           1135          11  ",
      "text/html": "<div>\n<style scoped>\n    .dataframe tbody tr th:only-of-type {\n        vertical-align: middle;\n    }\n\n    .dataframe tbody tr th {\n        vertical-align: top;\n    }\n\n    .dataframe thead th {\n        text-align: right;\n    }\n</style>\n<table border=\"1\" class=\"dataframe\">\n  <thead>\n    <tr style=\"text-align: right;\">\n      <th></th>\n      <th>Country</th>\n      <th>Date</th>\n      <th>Confirmed</th>\n      <th>Recovered</th>\n      <th>Deaths</th>\n      <th>Day_confirmed</th>\n      <th>Day_recovered</th>\n      <th>Day_deaths</th>\n    </tr>\n  </thead>\n  <tbody>\n    <tr>\n      <th>40933</th>\n      <td>Япония</td>\n      <td>2020-08-08</td>\n      <td>47342</td>\n      <td>31248</td>\n      <td>1042</td>\n      <td>1578</td>\n      <td>1007</td>\n      <td>0</td>\n    </tr>\n    <tr>\n      <th>40934</th>\n      <td>Япония</td>\n      <td>2020-08-09</td>\n      <td>48782</td>\n      <td>32867</td>\n      <td>1047</td>\n      <td>1440</td>\n      <td>1619</td>\n      <td>5</td>\n    </tr>\n    <tr>\n      <th>40935</th>\n      <td>Япония</td>\n      <td>2020-08-10</td>\n      <td>49617</td>\n      <td>33450</td>\n      <td>1052</td>\n      <td>835</td>\n      <td>583</td>\n      <td>5</td>\n    </tr>\n    <tr>\n      <th>40936</th>\n      <td>Япония</td>\n      <td>2020-08-11</td>\n      <td>50302</td>\n      <td>34136</td>\n      <td>1058</td>\n      <td>685</td>\n      <td>686</td>\n      <td>6</td>\n    </tr>\n    <tr>\n      <th>40937</th>\n      <td>Япония</td>\n      <td>2020-08-12</td>\n      <td>51288</td>\n      <td>34969</td>\n      <td>1066</td>\n      <td>986</td>\n      <td>833</td>\n      <td>8</td>\n    </tr>\n    <tr>\n      <th>40938</th>\n      <td>Япония</td>\n      <td>2020-08-13</td>\n      <td>52471</td>\n      <td>36191</td>\n      <td>1073</td>\n      <td>1183</td>\n      <td>1222</td>\n      <td>7</td>\n    </tr>\n    <tr>\n      <th>40939</th>\n      <td>Япония</td>\n      <td>2020-08-14</td>\n      <td>53818</td>\n      <td>35498</td>\n      <td>1080</td>\n      <td>1347</td>\n      <td>-693</td>\n      <td>7</td>\n    </tr>\n    <tr>\n      <th>40940</th>\n      <td>Япония</td>\n      <td>2020-08-15</td>\n      <td>55051</td>\n      <td>39439</td>\n      <td>1093</td>\n      <td>1233</td>\n      <td>3941</td>\n      <td>13</td>\n    </tr>\n    <tr>\n      <th>40941</th>\n      <td>Япония</td>\n      <td>2020-08-16</td>\n      <td>56074</td>\n      <td>40560</td>\n      <td>1103</td>\n      <td>1023</td>\n      <td>1121</td>\n      <td>10</td>\n    </tr>\n    <tr>\n      <th>40942</th>\n      <td>Япония</td>\n      <td>2020-08-17</td>\n      <td>56717</td>\n      <td>41591</td>\n      <td>1112</td>\n      <td>643</td>\n      <td>1031</td>\n      <td>9</td>\n    </tr>\n    <tr>\n      <th>40943</th>\n      <td>Япония</td>\n      <td>2020-08-18</td>\n      <td>57636</td>\n      <td>42965</td>\n      <td>1135</td>\n      <td>919</td>\n      <td>1374</td>\n      <td>23</td>\n    </tr>\n    <tr>\n      <th>40944</th>\n      <td>Япония</td>\n      <td>2020-08-19</td>\n      <td>58728</td>\n      <td>43786</td>\n      <td>1148</td>\n      <td>1092</td>\n      <td>821</td>\n      <td>13</td>\n    </tr>\n    <tr>\n      <th>40945</th>\n      <td>Япония</td>\n      <td>2020-08-20</td>\n      <td>59900</td>\n      <td>45110</td>\n      <td>1157</td>\n      <td>1172</td>\n      <td>1324</td>\n      <td>9</td>\n    </tr>\n    <tr>\n      <th>40946</th>\n      <td>Япония</td>\n      <td>2020-08-21</td>\n      <td>60949</td>\n      <td>46264</td>\n      <td>1175</td>\n      <td>1049</td>\n      <td>1154</td>\n      <td>18</td>\n    </tr>\n    <tr>\n      <th>40947</th>\n      <td>Япония</td>\n      <td>2020-08-22</td>\n      <td>61916</td>\n      <td>47418</td>\n      <td>1179</td>\n      <td>967</td>\n      <td>1154</td>\n      <td>4</td>\n    </tr>\n    <tr>\n      <th>40948</th>\n      <td>Япония</td>\n      <td>2020-08-23</td>\n      <td>62658</td>\n      <td>48319</td>\n      <td>1188</td>\n      <td>742</td>\n      <td>901</td>\n      <td>9</td>\n    </tr>\n    <tr>\n      <th>40949</th>\n      <td>Япония</td>\n      <td>2020-08-24</td>\n      <td>63158</td>\n      <td>49089</td>\n      <td>1201</td>\n      <td>500</td>\n      <td>770</td>\n      <td>13</td>\n    </tr>\n    <tr>\n      <th>40950</th>\n      <td>Япония</td>\n      <td>2020-08-25</td>\n      <td>63888</td>\n      <td>50092</td>\n      <td>1219</td>\n      <td>730</td>\n      <td>1003</td>\n      <td>18</td>\n    </tr>\n    <tr>\n      <th>40951</th>\n      <td>Япония</td>\n      <td>2020-08-26</td>\n      <td>64779</td>\n      <td>51407</td>\n      <td>1230</td>\n      <td>891</td>\n      <td>1315</td>\n      <td>11</td>\n    </tr>\n    <tr>\n      <th>40952</th>\n      <td>Япония</td>\n      <td>2020-08-27</td>\n      <td>65653</td>\n      <td>52542</td>\n      <td>1241</td>\n      <td>874</td>\n      <td>1135</td>\n      <td>11</td>\n    </tr>\n  </tbody>\n</table>\n</div>"
     },
     "metadata": {},
     "execution_count": 2
    }
   ],
   "source": [
    "yandex_world = pd.read_csv('yandex_world.csv')\n",
    "yandex_world.rename(columns = {'Дата':'Date','Страна':'Country','Заражений':'Confirmed','Выздоровлений':'Recovered',\n",
    "                               'Смертей':'Deaths','Смертей за день':'Day_deaths',\n",
    "                               'Заражений за день':'Day_confirmed','Выздоровлений за день':'Day_recovered'},inplace = True)\n",
    "for i in range(yandex_world.shape[0]):\n",
    "    a= yandex_world.Date[i].split('.')\n",
    "    yandex_world.Date[i]=datetime.date(int(a[2]),int(a[1]),int(a[0]))\n",
    "\n",
    "yandex_world.tail(20)"
   ]
  },
  {
   "cell_type": "code",
   "execution_count": 3,
   "metadata": {},
   "outputs": [
    {
     "output_type": "execute_result",
     "data": {
      "text/plain": "      Country        Date  Confirmed  Recovered  Deaths  Day_confirmed  \\\n209  Весь мир  2020-08-18   22137926   14116451  780908         256068   \n210  Весь мир  2020-08-19   22411300   14333914  787672         273374   \n211  Весь мир  2020-08-20   22678483   14541573  793698         267183   \n212  Весь мир  2020-08-21   22949164   14712252  799249         270681   \n213  Весь мир  2020-08-22   23203490   14911319  804413         254326   \n214  Весь мир  2020-08-23   23420384   15137203  808674         216894   \n215  Весь мир  2020-08-24   23647189   15337252  813015         226805   \n216  Весь мир  2020-08-25   23889150   15570191  819414         241961   \n217  Весь мир  2020-08-26   24176836   15794441  825696         287686   \n218  Весь мир  2020-08-27   24452629   15997281  831586         275793   \n\n     Day_recovered  Day_deaths  \n209         228150        6874  \n210         217463        6764  \n211         207659        6026  \n212         170679        5551  \n213         199067        5164  \n214         225884        4261  \n215         200049        4341  \n216         232939        6399  \n217         224250        6282  \n218         202840        5890  ",
      "text/html": "<div>\n<style scoped>\n    .dataframe tbody tr th:only-of-type {\n        vertical-align: middle;\n    }\n\n    .dataframe tbody tr th {\n        vertical-align: top;\n    }\n\n    .dataframe thead th {\n        text-align: right;\n    }\n</style>\n<table border=\"1\" class=\"dataframe\">\n  <thead>\n    <tr style=\"text-align: right;\">\n      <th></th>\n      <th>Country</th>\n      <th>Date</th>\n      <th>Confirmed</th>\n      <th>Recovered</th>\n      <th>Deaths</th>\n      <th>Day_confirmed</th>\n      <th>Day_recovered</th>\n      <th>Day_deaths</th>\n    </tr>\n  </thead>\n  <tbody>\n    <tr>\n      <th>209</th>\n      <td>Весь мир</td>\n      <td>2020-08-18</td>\n      <td>22137926</td>\n      <td>14116451</td>\n      <td>780908</td>\n      <td>256068</td>\n      <td>228150</td>\n      <td>6874</td>\n    </tr>\n    <tr>\n      <th>210</th>\n      <td>Весь мир</td>\n      <td>2020-08-19</td>\n      <td>22411300</td>\n      <td>14333914</td>\n      <td>787672</td>\n      <td>273374</td>\n      <td>217463</td>\n      <td>6764</td>\n    </tr>\n    <tr>\n      <th>211</th>\n      <td>Весь мир</td>\n      <td>2020-08-20</td>\n      <td>22678483</td>\n      <td>14541573</td>\n      <td>793698</td>\n      <td>267183</td>\n      <td>207659</td>\n      <td>6026</td>\n    </tr>\n    <tr>\n      <th>212</th>\n      <td>Весь мир</td>\n      <td>2020-08-21</td>\n      <td>22949164</td>\n      <td>14712252</td>\n      <td>799249</td>\n      <td>270681</td>\n      <td>170679</td>\n      <td>5551</td>\n    </tr>\n    <tr>\n      <th>213</th>\n      <td>Весь мир</td>\n      <td>2020-08-22</td>\n      <td>23203490</td>\n      <td>14911319</td>\n      <td>804413</td>\n      <td>254326</td>\n      <td>199067</td>\n      <td>5164</td>\n    </tr>\n    <tr>\n      <th>214</th>\n      <td>Весь мир</td>\n      <td>2020-08-23</td>\n      <td>23420384</td>\n      <td>15137203</td>\n      <td>808674</td>\n      <td>216894</td>\n      <td>225884</td>\n      <td>4261</td>\n    </tr>\n    <tr>\n      <th>215</th>\n      <td>Весь мир</td>\n      <td>2020-08-24</td>\n      <td>23647189</td>\n      <td>15337252</td>\n      <td>813015</td>\n      <td>226805</td>\n      <td>200049</td>\n      <td>4341</td>\n    </tr>\n    <tr>\n      <th>216</th>\n      <td>Весь мир</td>\n      <td>2020-08-25</td>\n      <td>23889150</td>\n      <td>15570191</td>\n      <td>819414</td>\n      <td>241961</td>\n      <td>232939</td>\n      <td>6399</td>\n    </tr>\n    <tr>\n      <th>217</th>\n      <td>Весь мир</td>\n      <td>2020-08-26</td>\n      <td>24176836</td>\n      <td>15794441</td>\n      <td>825696</td>\n      <td>287686</td>\n      <td>224250</td>\n      <td>6282</td>\n    </tr>\n    <tr>\n      <th>218</th>\n      <td>Весь мир</td>\n      <td>2020-08-27</td>\n      <td>24452629</td>\n      <td>15997281</td>\n      <td>831586</td>\n      <td>275793</td>\n      <td>202840</td>\n      <td>5890</td>\n    </tr>\n  </tbody>\n</table>\n</div>"
     },
     "metadata": {},
     "execution_count": 3
    }
   ],
   "source": [
    "df3_temp = yandex_world.groupby('Date').sum()\n",
    "df3_temp['Country']='Весь мир'\n",
    "\n",
    "y5= pd.concat([yandex_world,df3_temp.reset_index()],axis = 0)\n",
    "y5.reset_index()\n",
    "yandex_world = y5\n",
    "yandex_world.tail(10)"
   ]
  },
  {
   "cell_type": "code",
   "execution_count": 4,
   "metadata": {
    "tags": []
   },
   "outputs": [
    {
     "output_type": "stream",
     "name": "stdout",
     "text": "Весь мир\nВыбран день:  2020-08-27\n"
    }
   ],
   "source": [
    "# dt = datetime.datetime.today()\n",
    "# today = datetime.date(dt.year,dt.month,dt.day)\n",
    "# ystday = datetime.date(today.year,today.month,today.day-1)\n",
    "# yst2day = datetime.date(today.year,today.month,today.day-2)\n",
    "# yst3day = datetime.date(today.year,today.month,today.day-3)\n",
    "\n",
    "# print(today)\n",
    "# print(ystday)\n",
    "# print(yst2day)\n",
    "# print(yst3day)\n",
    "myday = list(yandex_world.tail(1).Date)[0]\n",
    "\n",
    "print(yandex_world.iloc[-1,0])\n",
    "print('Выбран день: ',myday)"
   ]
  },
  {
   "cell_type": "code",
   "execution_count": 5,
   "metadata": {
    "tags": []
   },
   "outputs": [
    {
     "output_type": "stream",
     "name": "stdout",
     "text": "dict_items([(0, 'Австралия'), (1, 'Австрия'), (2, 'Азербайджан'), (3, 'Албания'), (4, 'Алжир'), (5, 'Ангола'), (6, 'Андорра'), (7, 'Антигуа и Барбуда'), (8, 'Аргентина'), (9, 'Армения'), (10, 'Афганистан'), (11, 'Багамские острова'), (12, 'Бангладеш'), (13, 'Барбадос'), (14, 'Бахрейн'), (15, 'Беларусь'), (16, 'Белиз'), (17, 'Бельгия'), (18, 'Бенин'), (19, 'Болгария'), (20, 'Боливия'), (21, 'Босния и Герцеговина'), (22, 'Ботсвана'), (23, 'Бразилия'), (24, 'Бруней'), (25, 'Буркина-Фасо'), (26, 'Бурунди'), (27, 'Бутан'), (28, 'Великобритания'), (29, 'Венгрия'), (30, 'Венесуэла'), (31, 'Весь мир'), (32, 'Восточный Тимор'), (33, 'Вьетнам'), (34, 'Габон'), (35, 'Гаити'), (36, 'Гайана'), (37, 'Гамбия'), (38, 'Гана'), (39, 'Гватемала'), (40, 'Гвинея'), (41, 'Гвинея-Бисау'), (42, 'Германия'), (43, 'Гондурас'), (44, 'Гренада'), (45, 'Греция'), (46, 'Грузия'), (47, 'ДР Конго'), (48, 'Дания'), (49, 'Джибути'), (50, 'Доминика'), (51, 'Доминиканская Республика'), (52, 'Египет'), (53, 'Замбия'), (54, 'Западная Сахара'), (55, 'Западный берег реки Иордан'), (56, 'Зимбабве'), (57, 'Израиль'), (58, 'Индия'), (59, 'Индонезия'), (60, 'Иордания'), (61, 'Ирак'), (62, 'Иран'), (63, 'Ирландия'), (64, 'Исландия'), (65, 'Испания'), (66, 'Италия'), (67, 'Йемен'), (68, 'Кабо-Верде'), (69, 'Казахстан'), (70, 'Камбоджа'), (71, 'Камерун'), (72, 'Канада'), (73, 'Катар'), (74, 'Кения'), (75, 'Кипр'), (76, 'Киргизия'), (77, 'Китай'), (78, 'Колумбия'), (79, 'Коморские острова'), (80, 'Косово и Метохия'), (81, 'Коста-Рика'), (82, 'Кот-д’Ивуар'), (83, 'Куба'), (84, 'Кувейт'), (85, 'Лаос'), (86, 'Латвия'), (87, 'Лесото'), (88, 'Либерия'), (89, 'Ливан'), (90, 'Ливия'), (91, 'Литва'), (92, 'Лихтенштейн'), (93, 'Люксембург'), (94, 'Маврикий'), (95, 'Мавритания'), (96, 'Мадагаскар'), (97, 'Малави'), (98, 'Малайзия'), (99, 'Мали'), (100, 'Мальдивы'), (101, 'Мальта'), (102, 'Марокко'), (103, 'Мексика'), (104, 'Мозамбик'), (105, 'Молдавия'), (106, 'Монако'), (107, 'Монголия'), (108, 'Мьянма'), (109, 'Намибия'), (110, 'Непал'), (111, 'Нигер'), (112, 'Нигерия'), (113, 'Нидерланды'), (114, 'Никарагуа'), (115, 'Новая Зеландия'), (116, 'Норвегия'), (117, 'ОАЭ'), (118, 'Оман'), (119, 'Пакистан'), (120, 'Панама'), (121, 'Папский Престол'), (122, 'Папуа — Новая Гвинея'), (123, 'Парагвай'), (124, 'Перу'), (125, 'Польша'), (126, 'Португалия'), (127, 'Республика Конго'), (128, 'Россия'), (129, 'Руанда'), (130, 'Румыния'), (131, 'США'), (132, 'Сальвадор'), (133, 'Сан-Марино'), (134, 'Сан-Томе и Принсипи'), (135, 'Саудовская Аравия'), (136, 'Северная Македония'), (137, 'Сейшельские острова'), (138, 'Сенегал'), (139, 'Сент-Винсент и Гренадины'), (140, 'Сент-Китс и Невис'), (141, 'Сент-Люсия'), (142, 'Сербия'), (143, 'Сингапур'), (144, 'Сирия'), (145, 'Словакия'), (146, 'Словения'), (147, 'Сомали'), (148, 'Судан'), (149, 'Судно \"Diamond Princess\"'), (150, 'Судно \"MS Zaandam\"'), (151, 'Суринам'), (152, 'Сьерра-Леоне'), (153, 'Таджикистан'), (154, 'Таиланд'), (155, 'Танзания'), (156, 'Того'), (157, 'Тринидад и Тобаго'), (158, 'Тунис'), (159, 'Турция'), (160, 'Уганда'), (161, 'Узбекистан'), (162, 'Украина'), (163, 'Уругвай'), (164, 'Фиджи'), (165, 'Филиппины'), (166, 'Финляндия'), (167, 'Франция'), (168, 'Хорватия'), (169, 'ЦАР'), (170, 'Чад'), (171, 'Черногория'), (172, 'Чехия'), (173, 'Чили'), (174, 'Швейцария'), (175, 'Швеция'), (176, 'Шри-Ланка'), (177, 'Эквадор'), (178, 'Экваториальная Гвинея'), (179, 'Эритрея'), (180, 'Эсватини'), (181, 'Эстония'), (182, 'Эфиопия'), (183, 'ЮАР'), (184, 'Южная Корея'), (185, 'Южный Судан'), (186, 'Ямайка'), (187, 'Япония')])\n"
    },
    {
     "output_type": "execute_result",
     "data": {
      "text/plain": "             Date  Confirmed  Recovered  Deaths  Day_confirmed  Day_recovered  \\\n41167  2020-08-23      62658      48319    1188            742            901   \n41168  2020-08-24      63158      49089    1201            500            770   \n41169  2020-08-25      63888      50092    1219            730           1003   \n41170  2020-08-26      64779      51407    1230            891           1315   \n41171  2020-08-27      65653      52542    1241            874           1135   \n\n       Day_deaths     Rt    Rt2  Rate_conf  Rate_ill Country  Remaining_ill  \\\n41167           9  1.069  1.071          0         0  Япония          13151   \n41168          13  0.852  1.067          0         0  Япония          12868   \n41169          18  0.694  1.061          0         0  Япония          12577   \n41170          11  0.669  1.054          0         0  Япония          12142   \n41171          11  0.762  1.049          0         0  Япония          11870   \n\n       MA7_dayconfirmed  MA14_dayconfirmed  MA7_remaining_ill  \\\n41167        940.571429         991.142857       13565.285714   \n41168        920.142857         967.214286       13401.571429   \n41169        893.142857         970.428571       13264.571429   \n41170        864.428571         963.642857       13028.571429   \n41171        821.857143         941.571429       12776.714286   \n\n       MA14_remaining_ill  Change_dayconf  Change_remill  \n41167        14415.000000            -225           -168  \n41168        14254.500000            -242           -283  \n41169        14073.714286             230           -291  \n41170        13851.500000             161           -435  \n41171        13613.142857             -17           -272  ",
      "text/html": "<div>\n<style scoped>\n    .dataframe tbody tr th:only-of-type {\n        vertical-align: middle;\n    }\n\n    .dataframe tbody tr th {\n        vertical-align: top;\n    }\n\n    .dataframe thead th {\n        text-align: right;\n    }\n</style>\n<table border=\"1\" class=\"dataframe\">\n  <thead>\n    <tr style=\"text-align: right;\">\n      <th></th>\n      <th>Date</th>\n      <th>Confirmed</th>\n      <th>Recovered</th>\n      <th>Deaths</th>\n      <th>Day_confirmed</th>\n      <th>Day_recovered</th>\n      <th>Day_deaths</th>\n      <th>Rt</th>\n      <th>Rt2</th>\n      <th>Rate_conf</th>\n      <th>Rate_ill</th>\n      <th>Country</th>\n      <th>Remaining_ill</th>\n      <th>MA7_dayconfirmed</th>\n      <th>MA14_dayconfirmed</th>\n      <th>MA7_remaining_ill</th>\n      <th>MA14_remaining_ill</th>\n      <th>Change_dayconf</th>\n      <th>Change_remill</th>\n    </tr>\n  </thead>\n  <tbody>\n    <tr>\n      <th>41167</th>\n      <td>2020-08-23</td>\n      <td>62658</td>\n      <td>48319</td>\n      <td>1188</td>\n      <td>742</td>\n      <td>901</td>\n      <td>9</td>\n      <td>1.069</td>\n      <td>1.071</td>\n      <td>0</td>\n      <td>0</td>\n      <td>Япония</td>\n      <td>13151</td>\n      <td>940.571429</td>\n      <td>991.142857</td>\n      <td>13565.285714</td>\n      <td>14415.000000</td>\n      <td>-225</td>\n      <td>-168</td>\n    </tr>\n    <tr>\n      <th>41168</th>\n      <td>2020-08-24</td>\n      <td>63158</td>\n      <td>49089</td>\n      <td>1201</td>\n      <td>500</td>\n      <td>770</td>\n      <td>13</td>\n      <td>0.852</td>\n      <td>1.067</td>\n      <td>0</td>\n      <td>0</td>\n      <td>Япония</td>\n      <td>12868</td>\n      <td>920.142857</td>\n      <td>967.214286</td>\n      <td>13401.571429</td>\n      <td>14254.500000</td>\n      <td>-242</td>\n      <td>-283</td>\n    </tr>\n    <tr>\n      <th>41169</th>\n      <td>2020-08-25</td>\n      <td>63888</td>\n      <td>50092</td>\n      <td>1219</td>\n      <td>730</td>\n      <td>1003</td>\n      <td>18</td>\n      <td>0.694</td>\n      <td>1.061</td>\n      <td>0</td>\n      <td>0</td>\n      <td>Япония</td>\n      <td>12577</td>\n      <td>893.142857</td>\n      <td>970.428571</td>\n      <td>13264.571429</td>\n      <td>14073.714286</td>\n      <td>230</td>\n      <td>-291</td>\n    </tr>\n    <tr>\n      <th>41170</th>\n      <td>2020-08-26</td>\n      <td>64779</td>\n      <td>51407</td>\n      <td>1230</td>\n      <td>891</td>\n      <td>1315</td>\n      <td>11</td>\n      <td>0.669</td>\n      <td>1.054</td>\n      <td>0</td>\n      <td>0</td>\n      <td>Япония</td>\n      <td>12142</td>\n      <td>864.428571</td>\n      <td>963.642857</td>\n      <td>13028.571429</td>\n      <td>13851.500000</td>\n      <td>161</td>\n      <td>-435</td>\n    </tr>\n    <tr>\n      <th>41171</th>\n      <td>2020-08-27</td>\n      <td>65653</td>\n      <td>52542</td>\n      <td>1241</td>\n      <td>874</td>\n      <td>1135</td>\n      <td>11</td>\n      <td>0.762</td>\n      <td>1.049</td>\n      <td>0</td>\n      <td>0</td>\n      <td>Япония</td>\n      <td>11870</td>\n      <td>821.857143</td>\n      <td>941.571429</td>\n      <td>12776.714286</td>\n      <td>13613.142857</td>\n      <td>-17</td>\n      <td>-272</td>\n    </tr>\n  </tbody>\n</table>\n</div>"
     },
     "metadata": {},
     "execution_count": 5
    }
   ],
   "source": [
    "X = pd.DataFrame()\n",
    "country_dict = {}\n",
    "yandex_world['Rt'] = 1\n",
    "yandex_world['Rt2'] = 1\n",
    "yandex_world['Rate_conf'] = 0\n",
    "yandex_world['Rate_ill'] = 0\n",
    "\n",
    "temp_df = yandex_world.groupby(['Country','Date']).sum()\n",
    "\n",
    "# Ниже enumerate  для составления словаря из имен регионов {i:j} , для расчетов можно было использовать только j\n",
    "\n",
    "for i,j in enumerate(temp_df.index.get_level_values(0).unique()):\n",
    "    temp_df2 =  temp_df.loc[j]\n",
    "    temp1 = temp_df2['Day_confirmed'].rolling(4).sum()/(temp_df2[\"Day_confirmed\"].rolling(8).sum()-\n",
    "\n",
    "                                                              temp_df2[\"Day_confirmed\"].rolling(4).sum())\n",
    "    temp2 = temp_df2['Confirmed'].rolling(4).sum()/(temp_df2['Confirmed'].rolling(8).sum()-\n",
    "\n",
    "                                                              temp_df2['Confirmed'].rolling(4).sum())\n",
    "    temp_df2['Rt'] = round(temp1,3)\n",
    "    temp_df2['Rt2'] = round(temp2,3)\n",
    "    temp_df2['Country'] = j\n",
    "    temp_df2['Remaining_ill']=temp_df2['Confirmed']-temp_df2['Recovered']-temp_df2['Deaths']\n",
    "    temp_df2['MA7_dayconfirmed']=temp_df2['Day_confirmed'].rolling(window=7).mean()\n",
    "    temp_df2['MA14_dayconfirmed']=temp_df2['Day_confirmed'].rolling(window=14).mean()\n",
    "    temp_df2['MA7_remaining_ill']=temp_df2['Remaining_ill'].rolling(window=7).mean()\n",
    "    temp_df2['MA14_remaining_ill']=temp_df2['Remaining_ill'].rolling(window=14).mean()\n",
    "    \n",
    "    temp_df2['Change_dayconf'] = 0\n",
    "    for k in range(1,temp_df2.shape[0]):\n",
    "        temp_df2['Change_dayconf'].iloc[k]=temp_df2['Day_confirmed'].iloc[k]-temp_df2['Day_confirmed'].iloc[k-1]\n",
    "    temp_df2['Change_remill'] = 0\n",
    "    for k in range(1,temp_df2.shape[0]):\n",
    "        temp_df2['Change_remill'].iloc[k]=temp_df2['Remaining_ill'].iloc[k]-temp_df2['Remaining_ill'].iloc[k-1]\n",
    "    \n",
    "    \n",
    "\n",
    "   #Генератор DF  на каждый регион(сидит в цикле):\n",
    "   # globals()['x' + str(i)] = temp_df2.reset_index()\n",
    "    \n",
    "    X = pd.concat([X,temp_df2.reset_index()],axis = 0)\n",
    "    country_dict[i]=j\n",
    "    \n",
    "print(country_dict.items())\n",
    "    \n",
    "X = X.reset_index(drop=True)\n",
    "X.tail()\n"
   ]
  },
  {
   "cell_type": "code",
   "execution_count": 6,
   "metadata": {
    "tags": []
   },
   "outputs": [
    {
     "output_type": "stream",
     "name": "stdout",
     "text": "Confirmed  Remaining_ill\nDate                                \n2020-08-26   24176836        7556699\n2020-08-27   24452629        7623762\n41172\n(41172, 19)\n2020-01-22\n"
    }
   ],
   "source": [
    "# Добавляем колонки расчитанные сколько доля их в процентах от суммарного показателя в мире\n",
    "mask = X.Country == 'Весь мир'\n",
    "temp_df = X[mask][['Date','Confirmed','Remaining_ill']]\n",
    "temp_df.index = temp_df.Date\n",
    "temp_df.drop(columns =['Date'], inplace = True)\n",
    "print(temp_df.tail(2))\n",
    "# print(temp_df.index.get_level_values(0))\n",
    "# temp_df.loc[datetime.date(2020,6,15),'Россия'].Confirmed\n",
    "# for i in temp_df.index.get_level_values(0).unique()[-2:]:\n",
    "#     print(temp_df.loc[i,'Россия'].Confirmed)\n",
    "world_date = list(temp_df.index)\n",
    "world_conf = list(temp_df.Confirmed)\n",
    "world_ill = list(temp_df.Remaining_ill)\n",
    "world_dict_conf = dict(zip(world_date,world_conf))\n",
    "world_dict_ill = dict(zip(world_date,world_ill))\n",
    "\n",
    "print(len(X))\n",
    "print(X.shape)\n",
    "print(X.loc[0,'Date'])\n",
    "for i in range(len(X)):\n",
    "    X.loc[i,'Rate_conf']=100*X.loc[i,'Confirmed']/world_dict_conf.get(X.loc[i,'Date'])\n",
    "    X.loc[i,'Rate_ill']=100*X.loc[i,'Remaining_ill']/world_dict_ill.get(X.loc[i,'Date'])\n"
   ]
  },
  {
   "cell_type": "code",
   "execution_count": 7,
   "metadata": {},
   "outputs": [
    {
     "output_type": "execute_result",
     "data": {
      "text/plain": "             Date  Confirmed Country  Rate_conf  Rate_ill\n28231  2020-08-08     880563  Россия   4.484088  2.535220\n28232  2020-08-09     885718  Россия   4.459431  2.546444\n28233  2020-08-10     890799  Россия   4.434125  2.550231\n28234  2020-08-11     895691  Россия   4.402687  2.546410\n28235  2020-08-12     900745  Россия   4.368066  2.505044\n28236  2020-08-13     905762  Россия   4.332313  2.449154\n28237  2020-08-14     910778  Россия   4.293779  2.423043\n28238  2020-08-15     915808  Россия   4.267572  2.377548\n28239  2020-08-16     920719  Россия   4.248390  2.402935\n28240  2020-08-17     925558  Россия   4.229796  2.427834\n28241  2020-08-18     930276  Россия   4.202182  2.394771\n28242  2020-08-19     935066  Россия   4.172297  2.350065\n28243  2020-08-20     939833  Россия   4.144162  2.313797\n28244  2020-08-21     944671  Россия   4.116363  2.270659\n28245  2020-08-22     949531  Россия   4.092190  2.237105\n28246  2020-08-23     954328  Россия   4.074775  2.262102\n28247  2020-08-24     959016  Россия   4.055518  2.284311\n28248  2020-08-25     963655  Россия   4.033861  2.255750\n28249  2020-08-26     968297  Россия   4.005061  2.215015\n28250  2020-08-27     972972  Россия   3.979008  2.171959",
      "text/html": "<div>\n<style scoped>\n    .dataframe tbody tr th:only-of-type {\n        vertical-align: middle;\n    }\n\n    .dataframe tbody tr th {\n        vertical-align: top;\n    }\n\n    .dataframe thead th {\n        text-align: right;\n    }\n</style>\n<table border=\"1\" class=\"dataframe\">\n  <thead>\n    <tr style=\"text-align: right;\">\n      <th></th>\n      <th>Date</th>\n      <th>Confirmed</th>\n      <th>Country</th>\n      <th>Rate_conf</th>\n      <th>Rate_ill</th>\n    </tr>\n  </thead>\n  <tbody>\n    <tr>\n      <th>28231</th>\n      <td>2020-08-08</td>\n      <td>880563</td>\n      <td>Россия</td>\n      <td>4.484088</td>\n      <td>2.535220</td>\n    </tr>\n    <tr>\n      <th>28232</th>\n      <td>2020-08-09</td>\n      <td>885718</td>\n      <td>Россия</td>\n      <td>4.459431</td>\n      <td>2.546444</td>\n    </tr>\n    <tr>\n      <th>28233</th>\n      <td>2020-08-10</td>\n      <td>890799</td>\n      <td>Россия</td>\n      <td>4.434125</td>\n      <td>2.550231</td>\n    </tr>\n    <tr>\n      <th>28234</th>\n      <td>2020-08-11</td>\n      <td>895691</td>\n      <td>Россия</td>\n      <td>4.402687</td>\n      <td>2.546410</td>\n    </tr>\n    <tr>\n      <th>28235</th>\n      <td>2020-08-12</td>\n      <td>900745</td>\n      <td>Россия</td>\n      <td>4.368066</td>\n      <td>2.505044</td>\n    </tr>\n    <tr>\n      <th>28236</th>\n      <td>2020-08-13</td>\n      <td>905762</td>\n      <td>Россия</td>\n      <td>4.332313</td>\n      <td>2.449154</td>\n    </tr>\n    <tr>\n      <th>28237</th>\n      <td>2020-08-14</td>\n      <td>910778</td>\n      <td>Россия</td>\n      <td>4.293779</td>\n      <td>2.423043</td>\n    </tr>\n    <tr>\n      <th>28238</th>\n      <td>2020-08-15</td>\n      <td>915808</td>\n      <td>Россия</td>\n      <td>4.267572</td>\n      <td>2.377548</td>\n    </tr>\n    <tr>\n      <th>28239</th>\n      <td>2020-08-16</td>\n      <td>920719</td>\n      <td>Россия</td>\n      <td>4.248390</td>\n      <td>2.402935</td>\n    </tr>\n    <tr>\n      <th>28240</th>\n      <td>2020-08-17</td>\n      <td>925558</td>\n      <td>Россия</td>\n      <td>4.229796</td>\n      <td>2.427834</td>\n    </tr>\n    <tr>\n      <th>28241</th>\n      <td>2020-08-18</td>\n      <td>930276</td>\n      <td>Россия</td>\n      <td>4.202182</td>\n      <td>2.394771</td>\n    </tr>\n    <tr>\n      <th>28242</th>\n      <td>2020-08-19</td>\n      <td>935066</td>\n      <td>Россия</td>\n      <td>4.172297</td>\n      <td>2.350065</td>\n    </tr>\n    <tr>\n      <th>28243</th>\n      <td>2020-08-20</td>\n      <td>939833</td>\n      <td>Россия</td>\n      <td>4.144162</td>\n      <td>2.313797</td>\n    </tr>\n    <tr>\n      <th>28244</th>\n      <td>2020-08-21</td>\n      <td>944671</td>\n      <td>Россия</td>\n      <td>4.116363</td>\n      <td>2.270659</td>\n    </tr>\n    <tr>\n      <th>28245</th>\n      <td>2020-08-22</td>\n      <td>949531</td>\n      <td>Россия</td>\n      <td>4.092190</td>\n      <td>2.237105</td>\n    </tr>\n    <tr>\n      <th>28246</th>\n      <td>2020-08-23</td>\n      <td>954328</td>\n      <td>Россия</td>\n      <td>4.074775</td>\n      <td>2.262102</td>\n    </tr>\n    <tr>\n      <th>28247</th>\n      <td>2020-08-24</td>\n      <td>959016</td>\n      <td>Россия</td>\n      <td>4.055518</td>\n      <td>2.284311</td>\n    </tr>\n    <tr>\n      <th>28248</th>\n      <td>2020-08-25</td>\n      <td>963655</td>\n      <td>Россия</td>\n      <td>4.033861</td>\n      <td>2.255750</td>\n    </tr>\n    <tr>\n      <th>28249</th>\n      <td>2020-08-26</td>\n      <td>968297</td>\n      <td>Россия</td>\n      <td>4.005061</td>\n      <td>2.215015</td>\n    </tr>\n    <tr>\n      <th>28250</th>\n      <td>2020-08-27</td>\n      <td>972972</td>\n      <td>Россия</td>\n      <td>3.979008</td>\n      <td>2.171959</td>\n    </tr>\n  </tbody>\n</table>\n</div>"
     },
     "metadata": {},
     "execution_count": 7
    }
   ],
   "source": [
    "# Проверка расчетов процентных показателей\n",
    "mask = (X.Date>=datetime.date(2020,6,13))&(X.Country.isin(['Весь мир','Россия']))\n",
    "\n",
    "temp=X[mask]\n",
    "temp[['Date','Confirmed','Country','Rate_conf','Rate_ill']].tail(20)"
   ]
  },
  {
   "cell_type": "code",
   "execution_count": 8,
   "metadata": {},
   "outputs": [],
   "source": [
    "X.to_csv('W.csv',index=False)"
   ]
  },
  {
   "cell_type": "code",
   "execution_count": null,
   "metadata": {},
   "outputs": [],
   "source": []
  }
 ],
 "metadata": {
  "kernelspec": {
   "display_name": "Python 3.8.3 64-bit ('covid': venv)",
   "language": "python",
   "name": "python_defaultSpec_1598631075594"
  },
  "language_info": {
   "codemirror_mode": {
    "name": "ipython",
    "version": 3
   },
   "file_extension": ".py",
   "mimetype": "text/x-python",
   "name": "python",
   "nbconvert_exporter": "python",
   "pygments_lexer": "ipython3",
   "version": "3.8.3-final"
  }
 },
 "nbformat": 4,
 "nbformat_minor": 4
}