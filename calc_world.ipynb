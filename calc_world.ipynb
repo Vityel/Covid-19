{
 "cells": [
  {
   "cell_type": "code",
   "execution_count": 1,
   "metadata": {},
   "outputs": [],
   "source": [
    "import pandas as pd\n",
    "import datetime\n",
    "import plotly.graph_objects as go\n",
    "import plotly.express as px\n",
    "import plotly.figure_factory as ff\n",
    "\n",
    "\n"
   ]
  },
  {
   "cell_type": "code",
   "execution_count": 2,
   "metadata": {},
   "outputs": [
    {
     "output_type": "execute_result",
     "data": {
      "text/plain": "      Country        Date  Confirmed  Recovered  Deaths  Day_confirmed  \\\n41681  Япония  2020-08-12      51288      34969    1066            986   \n41682  Япония  2020-08-13      52471      36191    1073           1183   \n41683  Япония  2020-08-14      53818      35498    1080           1347   \n41684  Япония  2020-08-15      55051      39439    1093           1233   \n41685  Япония  2020-08-16      56074      40560    1103           1023   \n41686  Япония  2020-08-17      56717      41591    1112            643   \n41687  Япония  2020-08-18      57636      42965    1135            919   \n41688  Япония  2020-08-19      58728      43786    1148           1092   \n41689  Япония  2020-08-20      59900      45110    1157           1172   \n41690  Япония  2020-08-21      60949      46264    1175           1049   \n41691  Япония  2020-08-22      61916      47418    1179            967   \n41692  Япония  2020-08-23      62658      48319    1188            742   \n41693  Япония  2020-08-24      63158      49089    1201            500   \n41694  Япония  2020-08-25      63888      50092    1219            730   \n41695  Япония  2020-08-26      64779      51407    1230            891   \n41696  Япония  2020-08-27      65653      52542    1241            874   \n41697  Япония  2020-08-28      66499      53691    1251            846   \n41698  Япония  2020-08-29      67353      54883    1271            854   \n41699  Япония  2020-08-30      67958      55700    1285            605   \n41700  Япония  2020-08-31      68396      56338    1298            438   \n\n       Day_recovered  Day_deaths  \n41681            833           8  \n41682           1222           7  \n41683           -693           7  \n41684           3941          13  \n41685           1121          10  \n41686           1031           9  \n41687           1374          23  \n41688            821          13  \n41689           1324           9  \n41690           1154          18  \n41691           1154           4  \n41692            901           9  \n41693            770          13  \n41694           1003          18  \n41695           1315          11  \n41696           1135          11  \n41697           1149          10  \n41698           1192          20  \n41699            817          14  \n41700            638          13  ",
      "text/html": "<div>\n<style scoped>\n    .dataframe tbody tr th:only-of-type {\n        vertical-align: middle;\n    }\n\n    .dataframe tbody tr th {\n        vertical-align: top;\n    }\n\n    .dataframe thead th {\n        text-align: right;\n    }\n</style>\n<table border=\"1\" class=\"dataframe\">\n  <thead>\n    <tr style=\"text-align: right;\">\n      <th></th>\n      <th>Country</th>\n      <th>Date</th>\n      <th>Confirmed</th>\n      <th>Recovered</th>\n      <th>Deaths</th>\n      <th>Day_confirmed</th>\n      <th>Day_recovered</th>\n      <th>Day_deaths</th>\n    </tr>\n  </thead>\n  <tbody>\n    <tr>\n      <th>41681</th>\n      <td>Япония</td>\n      <td>2020-08-12</td>\n      <td>51288</td>\n      <td>34969</td>\n      <td>1066</td>\n      <td>986</td>\n      <td>833</td>\n      <td>8</td>\n    </tr>\n    <tr>\n      <th>41682</th>\n      <td>Япония</td>\n      <td>2020-08-13</td>\n      <td>52471</td>\n      <td>36191</td>\n      <td>1073</td>\n      <td>1183</td>\n      <td>1222</td>\n      <td>7</td>\n    </tr>\n    <tr>\n      <th>41683</th>\n      <td>Япония</td>\n      <td>2020-08-14</td>\n      <td>53818</td>\n      <td>35498</td>\n      <td>1080</td>\n      <td>1347</td>\n      <td>-693</td>\n      <td>7</td>\n    </tr>\n    <tr>\n      <th>41684</th>\n      <td>Япония</td>\n      <td>2020-08-15</td>\n      <td>55051</td>\n      <td>39439</td>\n      <td>1093</td>\n      <td>1233</td>\n      <td>3941</td>\n      <td>13</td>\n    </tr>\n    <tr>\n      <th>41685</th>\n      <td>Япония</td>\n      <td>2020-08-16</td>\n      <td>56074</td>\n      <td>40560</td>\n      <td>1103</td>\n      <td>1023</td>\n      <td>1121</td>\n      <td>10</td>\n    </tr>\n    <tr>\n      <th>41686</th>\n      <td>Япония</td>\n      <td>2020-08-17</td>\n      <td>56717</td>\n      <td>41591</td>\n      <td>1112</td>\n      <td>643</td>\n      <td>1031</td>\n      <td>9</td>\n    </tr>\n    <tr>\n      <th>41687</th>\n      <td>Япония</td>\n      <td>2020-08-18</td>\n      <td>57636</td>\n      <td>42965</td>\n      <td>1135</td>\n      <td>919</td>\n      <td>1374</td>\n      <td>23</td>\n    </tr>\n    <tr>\n      <th>41688</th>\n      <td>Япония</td>\n      <td>2020-08-19</td>\n      <td>58728</td>\n      <td>43786</td>\n      <td>1148</td>\n      <td>1092</td>\n      <td>821</td>\n      <td>13</td>\n    </tr>\n    <tr>\n      <th>41689</th>\n      <td>Япония</td>\n      <td>2020-08-20</td>\n      <td>59900</td>\n      <td>45110</td>\n      <td>1157</td>\n      <td>1172</td>\n      <td>1324</td>\n      <td>9</td>\n    </tr>\n    <tr>\n      <th>41690</th>\n      <td>Япония</td>\n      <td>2020-08-21</td>\n      <td>60949</td>\n      <td>46264</td>\n      <td>1175</td>\n      <td>1049</td>\n      <td>1154</td>\n      <td>18</td>\n    </tr>\n    <tr>\n      <th>41691</th>\n      <td>Япония</td>\n      <td>2020-08-22</td>\n      <td>61916</td>\n      <td>47418</td>\n      <td>1179</td>\n      <td>967</td>\n      <td>1154</td>\n      <td>4</td>\n    </tr>\n    <tr>\n      <th>41692</th>\n      <td>Япония</td>\n      <td>2020-08-23</td>\n      <td>62658</td>\n      <td>48319</td>\n      <td>1188</td>\n      <td>742</td>\n      <td>901</td>\n      <td>9</td>\n    </tr>\n    <tr>\n      <th>41693</th>\n      <td>Япония</td>\n      <td>2020-08-24</td>\n      <td>63158</td>\n      <td>49089</td>\n      <td>1201</td>\n      <td>500</td>\n      <td>770</td>\n      <td>13</td>\n    </tr>\n    <tr>\n      <th>41694</th>\n      <td>Япония</td>\n      <td>2020-08-25</td>\n      <td>63888</td>\n      <td>50092</td>\n      <td>1219</td>\n      <td>730</td>\n      <td>1003</td>\n      <td>18</td>\n    </tr>\n    <tr>\n      <th>41695</th>\n      <td>Япония</td>\n      <td>2020-08-26</td>\n      <td>64779</td>\n      <td>51407</td>\n      <td>1230</td>\n      <td>891</td>\n      <td>1315</td>\n      <td>11</td>\n    </tr>\n    <tr>\n      <th>41696</th>\n      <td>Япония</td>\n      <td>2020-08-27</td>\n      <td>65653</td>\n      <td>52542</td>\n      <td>1241</td>\n      <td>874</td>\n      <td>1135</td>\n      <td>11</td>\n    </tr>\n    <tr>\n      <th>41697</th>\n      <td>Япония</td>\n      <td>2020-08-28</td>\n      <td>66499</td>\n      <td>53691</td>\n      <td>1251</td>\n      <td>846</td>\n      <td>1149</td>\n      <td>10</td>\n    </tr>\n    <tr>\n      <th>41698</th>\n      <td>Япония</td>\n      <td>2020-08-29</td>\n      <td>67353</td>\n      <td>54883</td>\n      <td>1271</td>\n      <td>854</td>\n      <td>1192</td>\n      <td>20</td>\n    </tr>\n    <tr>\n      <th>41699</th>\n      <td>Япония</td>\n      <td>2020-08-30</td>\n      <td>67958</td>\n      <td>55700</td>\n      <td>1285</td>\n      <td>605</td>\n      <td>817</td>\n      <td>14</td>\n    </tr>\n    <tr>\n      <th>41700</th>\n      <td>Япония</td>\n      <td>2020-08-31</td>\n      <td>68396</td>\n      <td>56338</td>\n      <td>1298</td>\n      <td>438</td>\n      <td>638</td>\n      <td>13</td>\n    </tr>\n  </tbody>\n</table>\n</div>"
     },
     "metadata": {},
     "execution_count": 2
    }
   ],
   "source": [
    "yandex_world = pd.read_csv('yandex_world.csv')\n",
    "yandex_world.rename(columns = {'Дата':'Date','Страна':'Country','Заражений':'Confirmed','Выздоровлений':'Recovered',\n",
    "                               'Смертей':'Deaths','Смертей за день':'Day_deaths',\n",
    "                               'Заражений за день':'Day_confirmed','Выздоровлений за день':'Day_recovered'},inplace = True)\n",
    "for i in range(yandex_world.shape[0]):\n",
    "    a= yandex_world.Date[i].split('.')\n",
    "    yandex_world.Date[i]=datetime.date(int(a[2]),int(a[1]),int(a[0]))\n",
    "\n",
    "yandex_world.tail(20)"
   ]
  },
  {
   "cell_type": "code",
   "execution_count": 3,
   "metadata": {},
   "outputs": [
    {
     "output_type": "execute_result",
     "data": {
      "text/plain": "      Country        Date  Confirmed  Recovered  Deaths  Day_confirmed  \\\n213  Весь мир  2020-08-22   23200815   14911319  804368         254498   \n214  Весь мир  2020-08-23   23417701   15137203  808625         216886   \n215  Весь мир  2020-08-24   23644052   15337252  812962         226351   \n216  Весь мир  2020-08-25   23886097   15570191  819358         242045   \n217  Весь мир  2020-08-26   24173903   15794441  825639         287806   \n218  Весь мир  2020-08-27   24452959   15997281  831526         279056   \n219  Весь мир  2020-08-28   24734726   16198165  837059         281767   \n220  Весь мир  2020-08-29   24996737   16409757  842432         262011   \n221  Весь мир  2020-08-30   25222977   16618168  846332         226240   \n222  Весь мир  2020-08-31   25484767   16819592  850535         261790   \n\n     Day_recovered  Day_deaths  \n213         199067        5164  \n214         225884        4257  \n215         200049        4337  \n216         232939        6396  \n217         224250        6281  \n218         202840        5887  \n219         200884        5533  \n220         211592        5373  \n221         208411        3900  \n222         201424        4203  ",
      "text/html": "<div>\n<style scoped>\n    .dataframe tbody tr th:only-of-type {\n        vertical-align: middle;\n    }\n\n    .dataframe tbody tr th {\n        vertical-align: top;\n    }\n\n    .dataframe thead th {\n        text-align: right;\n    }\n</style>\n<table border=\"1\" class=\"dataframe\">\n  <thead>\n    <tr style=\"text-align: right;\">\n      <th></th>\n      <th>Country</th>\n      <th>Date</th>\n      <th>Confirmed</th>\n      <th>Recovered</th>\n      <th>Deaths</th>\n      <th>Day_confirmed</th>\n      <th>Day_recovered</th>\n      <th>Day_deaths</th>\n    </tr>\n  </thead>\n  <tbody>\n    <tr>\n      <th>213</th>\n      <td>Весь мир</td>\n      <td>2020-08-22</td>\n      <td>23200815</td>\n      <td>14911319</td>\n      <td>804368</td>\n      <td>254498</td>\n      <td>199067</td>\n      <td>5164</td>\n    </tr>\n    <tr>\n      <th>214</th>\n      <td>Весь мир</td>\n      <td>2020-08-23</td>\n      <td>23417701</td>\n      <td>15137203</td>\n      <td>808625</td>\n      <td>216886</td>\n      <td>225884</td>\n      <td>4257</td>\n    </tr>\n    <tr>\n      <th>215</th>\n      <td>Весь мир</td>\n      <td>2020-08-24</td>\n      <td>23644052</td>\n      <td>15337252</td>\n      <td>812962</td>\n      <td>226351</td>\n      <td>200049</td>\n      <td>4337</td>\n    </tr>\n    <tr>\n      <th>216</th>\n      <td>Весь мир</td>\n      <td>2020-08-25</td>\n      <td>23886097</td>\n      <td>15570191</td>\n      <td>819358</td>\n      <td>242045</td>\n      <td>232939</td>\n      <td>6396</td>\n    </tr>\n    <tr>\n      <th>217</th>\n      <td>Весь мир</td>\n      <td>2020-08-26</td>\n      <td>24173903</td>\n      <td>15794441</td>\n      <td>825639</td>\n      <td>287806</td>\n      <td>224250</td>\n      <td>6281</td>\n    </tr>\n    <tr>\n      <th>218</th>\n      <td>Весь мир</td>\n      <td>2020-08-27</td>\n      <td>24452959</td>\n      <td>15997281</td>\n      <td>831526</td>\n      <td>279056</td>\n      <td>202840</td>\n      <td>5887</td>\n    </tr>\n    <tr>\n      <th>219</th>\n      <td>Весь мир</td>\n      <td>2020-08-28</td>\n      <td>24734726</td>\n      <td>16198165</td>\n      <td>837059</td>\n      <td>281767</td>\n      <td>200884</td>\n      <td>5533</td>\n    </tr>\n    <tr>\n      <th>220</th>\n      <td>Весь мир</td>\n      <td>2020-08-29</td>\n      <td>24996737</td>\n      <td>16409757</td>\n      <td>842432</td>\n      <td>262011</td>\n      <td>211592</td>\n      <td>5373</td>\n    </tr>\n    <tr>\n      <th>221</th>\n      <td>Весь мир</td>\n      <td>2020-08-30</td>\n      <td>25222977</td>\n      <td>16618168</td>\n      <td>846332</td>\n      <td>226240</td>\n      <td>208411</td>\n      <td>3900</td>\n    </tr>\n    <tr>\n      <th>222</th>\n      <td>Весь мир</td>\n      <td>2020-08-31</td>\n      <td>25484767</td>\n      <td>16819592</td>\n      <td>850535</td>\n      <td>261790</td>\n      <td>201424</td>\n      <td>4203</td>\n    </tr>\n  </tbody>\n</table>\n</div>"
     },
     "metadata": {},
     "execution_count": 3
    }
   ],
   "source": [
    "df3_temp = yandex_world.groupby('Date').sum()\n",
    "df3_temp['Country']='Весь мир'\n",
    "\n",
    "y5= pd.concat([yandex_world,df3_temp.reset_index()],axis = 0)\n",
    "y5.reset_index()\n",
    "yandex_world = y5\n",
    "yandex_world.tail(10)"
   ]
  },
  {
   "cell_type": "code",
   "execution_count": 4,
   "metadata": {
    "tags": []
   },
   "outputs": [
    {
     "output_type": "stream",
     "name": "stdout",
     "text": "Весь мир\nВыбран день:  2020-08-31\n"
    }
   ],
   "source": [
    "# dt = datetime.datetime.today()\n",
    "# today = datetime.date(dt.year,dt.month,dt.day)\n",
    "# ystday = datetime.date(today.year,today.month,today.day-1)\n",
    "# yst2day = datetime.date(today.year,today.month,today.day-2)\n",
    "# yst3day = datetime.date(today.year,today.month,today.day-3)\n",
    "\n",
    "# print(today)\n",
    "# print(ystday)\n",
    "# print(yst2day)\n",
    "# print(yst3day)\n",
    "myday = list(yandex_world.tail(1).Date)[0]\n",
    "\n",
    "print(yandex_world.iloc[-1,0])\n",
    "print('Выбран день: ',myday)"
   ]
  },
  {
   "cell_type": "code",
   "execution_count": 5,
   "metadata": {
    "tags": []
   },
   "outputs": [
    {
     "output_type": "stream",
     "name": "stdout",
     "text": "dict_items([(0, 'Австралия'), (1, 'Австрия'), (2, 'Азербайджан'), (3, 'Албания'), (4, 'Алжир'), (5, 'Ангола'), (6, 'Андорра'), (7, 'Антигуа и Барбуда'), (8, 'Аргентина'), (9, 'Армения'), (10, 'Афганистан'), (11, 'Багамские острова'), (12, 'Бангладеш'), (13, 'Барбадос'), (14, 'Бахрейн'), (15, 'Беларусь'), (16, 'Белиз'), (17, 'Бельгия'), (18, 'Бенин'), (19, 'Болгария'), (20, 'Боливия'), (21, 'Босния и Герцеговина'), (22, 'Ботсвана'), (23, 'Бразилия'), (24, 'Бруней'), (25, 'Буркина-Фасо'), (26, 'Бурунди'), (27, 'Бутан'), (28, 'Великобритания'), (29, 'Венгрия'), (30, 'Венесуэла'), (31, 'Весь мир'), (32, 'Восточный Тимор'), (33, 'Вьетнам'), (34, 'Габон'), (35, 'Гаити'), (36, 'Гайана'), (37, 'Гамбия'), (38, 'Гана'), (39, 'Гватемала'), (40, 'Гвинея'), (41, 'Гвинея-Бисау'), (42, 'Германия'), (43, 'Гондурас'), (44, 'Гренада'), (45, 'Греция'), (46, 'Грузия'), (47, 'ДР Конго'), (48, 'Дания'), (49, 'Джибути'), (50, 'Доминика'), (51, 'Доминиканская Республика'), (52, 'Египет'), (53, 'Замбия'), (54, 'Западная Сахара'), (55, 'Западный берег реки Иордан'), (56, 'Зимбабве'), (57, 'Израиль'), (58, 'Индия'), (59, 'Индонезия'), (60, 'Иордания'), (61, 'Ирак'), (62, 'Иран'), (63, 'Ирландия'), (64, 'Исландия'), (65, 'Испания'), (66, 'Италия'), (67, 'Йемен'), (68, 'Кабо-Верде'), (69, 'Казахстан'), (70, 'Камбоджа'), (71, 'Камерун'), (72, 'Канада'), (73, 'Катар'), (74, 'Кения'), (75, 'Кипр'), (76, 'Киргизия'), (77, 'Китай'), (78, 'Колумбия'), (79, 'Коморские острова'), (80, 'Косово и Метохия'), (81, 'Коста-Рика'), (82, 'Кот-д’Ивуар'), (83, 'Куба'), (84, 'Кувейт'), (85, 'Лаос'), (86, 'Латвия'), (87, 'Лесото'), (88, 'Либерия'), (89, 'Ливан'), (90, 'Ливия'), (91, 'Литва'), (92, 'Лихтенштейн'), (93, 'Люксембург'), (94, 'Маврикий'), (95, 'Мавритания'), (96, 'Мадагаскар'), (97, 'Малави'), (98, 'Малайзия'), (99, 'Мали'), (100, 'Мальдивы'), (101, 'Мальта'), (102, 'Марокко'), (103, 'Мексика'), (104, 'Мозамбик'), (105, 'Молдавия'), (106, 'Монако'), (107, 'Монголия'), (108, 'Мьянма'), (109, 'Намибия'), (110, 'Непал'), (111, 'Нигер'), (112, 'Нигерия'), (113, 'Нидерланды'), (114, 'Никарагуа'), (115, 'Новая Зеландия'), (116, 'Норвегия'), (117, 'ОАЭ'), (118, 'Оман'), (119, 'Пакистан'), (120, 'Панама'), (121, 'Папский Престол'), (122, 'Папуа — Новая Гвинея'), (123, 'Парагвай'), (124, 'Перу'), (125, 'Польша'), (126, 'Португалия'), (127, 'Республика Конго'), (128, 'Россия'), (129, 'Руанда'), (130, 'Румыния'), (131, 'США'), (132, 'Сальвадор'), (133, 'Сан-Марино'), (134, 'Сан-Томе и Принсипи'), (135, 'Саудовская Аравия'), (136, 'Северная Македония'), (137, 'Сейшельские острова'), (138, 'Сенегал'), (139, 'Сент-Винсент и Гренадины'), (140, 'Сент-Китс и Невис'), (141, 'Сент-Люсия'), (142, 'Сербия'), (143, 'Сингапур'), (144, 'Сирия'), (145, 'Словакия'), (146, 'Словения'), (147, 'Сомали'), (148, 'Судан'), (149, 'Судно \"Diamond Princess\"'), (150, 'Судно \"MS Zaandam\"'), (151, 'Суринам'), (152, 'Сьерра-Леоне'), (153, 'Таджикистан'), (154, 'Таиланд'), (155, 'Танзания'), (156, 'Того'), (157, 'Тринидад и Тобаго'), (158, 'Тунис'), (159, 'Турция'), (160, 'Уганда'), (161, 'Узбекистан'), (162, 'Украина'), (163, 'Уругвай'), (164, 'Фиджи'), (165, 'Филиппины'), (166, 'Финляндия'), (167, 'Франция'), (168, 'Хорватия'), (169, 'ЦАР'), (170, 'Чад'), (171, 'Черногория'), (172, 'Чехия'), (173, 'Чили'), (174, 'Швейцария'), (175, 'Швеция'), (176, 'Шри-Ланка'), (177, 'Эквадор'), (178, 'Экваториальная Гвинея'), (179, 'Эритрея'), (180, 'Эсватини'), (181, 'Эстония'), (182, 'Эфиопия'), (183, 'ЮАР'), (184, 'Южная Корея'), (185, 'Южный Судан'), (186, 'Ямайка'), (187, 'Япония')])\n"
    },
    {
     "output_type": "execute_result",
     "data": {
      "text/plain": "             Date  Confirmed  Recovered  Deaths  Day_confirmed  Day_recovered  \\\n41919  2020-08-27      65653      52542    1241            874           1135   \n41920  2020-08-28      66499      53691    1251            846           1149   \n41921  2020-08-29      67353      54883    1271            854           1192   \n41922  2020-08-30      67958      55700    1285            605            817   \n41923  2020-08-31      68396      56338    1298            438            638   \n\n       Day_deaths     Rt    Rt2  Rate_conf  Rate_ill Country  Remaining_ill  \\\n41919          11  0.762  1.049          0         0  Япония          11870   \n41920          10  1.025  1.049          0         0  Япония          11557   \n41921          20  1.179  1.050          0         0  Япония          11199   \n41922          14  1.110  1.051          0         0  Япония          10973   \n41923          13  0.916  1.049          0         0  Япония          10760   \n\n       MA7_dayconfirmed  MA14_dayconfirmed  MA7_remaining_ill  \\\n41919        821.857143         941.571429       12776.714286   \n41920        792.857143         905.785714       12497.714286   \n41921        776.714286         878.714286       12194.857143   \n41922        757.142857         848.857143       11883.714286   \n41923        748.285714         834.214286       11582.571429   \n\n       MA14_remaining_ill  Change_dayconf  Change_remill  \n41919        13613.142857             -17           -272  \n41920        13207.214286             -28           -313  \n41921        12970.071429               8           -358  \n41922        12724.500000            -249           -226  \n41923        12492.071429            -167           -213  ",
      "text/html": "<div>\n<style scoped>\n    .dataframe tbody tr th:only-of-type {\n        vertical-align: middle;\n    }\n\n    .dataframe tbody tr th {\n        vertical-align: top;\n    }\n\n    .dataframe thead th {\n        text-align: right;\n    }\n</style>\n<table border=\"1\" class=\"dataframe\">\n  <thead>\n    <tr style=\"text-align: right;\">\n      <th></th>\n      <th>Date</th>\n      <th>Confirmed</th>\n      <th>Recovered</th>\n      <th>Deaths</th>\n      <th>Day_confirmed</th>\n      <th>Day_recovered</th>\n      <th>Day_deaths</th>\n      <th>Rt</th>\n      <th>Rt2</th>\n      <th>Rate_conf</th>\n      <th>Rate_ill</th>\n      <th>Country</th>\n      <th>Remaining_ill</th>\n      <th>MA7_dayconfirmed</th>\n      <th>MA14_dayconfirmed</th>\n      <th>MA7_remaining_ill</th>\n      <th>MA14_remaining_ill</th>\n      <th>Change_dayconf</th>\n      <th>Change_remill</th>\n    </tr>\n  </thead>\n  <tbody>\n    <tr>\n      <th>41919</th>\n      <td>2020-08-27</td>\n      <td>65653</td>\n      <td>52542</td>\n      <td>1241</td>\n      <td>874</td>\n      <td>1135</td>\n      <td>11</td>\n      <td>0.762</td>\n      <td>1.049</td>\n      <td>0</td>\n      <td>0</td>\n      <td>Япония</td>\n      <td>11870</td>\n      <td>821.857143</td>\n      <td>941.571429</td>\n      <td>12776.714286</td>\n      <td>13613.142857</td>\n      <td>-17</td>\n      <td>-272</td>\n    </tr>\n    <tr>\n      <th>41920</th>\n      <td>2020-08-28</td>\n      <td>66499</td>\n      <td>53691</td>\n      <td>1251</td>\n      <td>846</td>\n      <td>1149</td>\n      <td>10</td>\n      <td>1.025</td>\n      <td>1.049</td>\n      <td>0</td>\n      <td>0</td>\n      <td>Япония</td>\n      <td>11557</td>\n      <td>792.857143</td>\n      <td>905.785714</td>\n      <td>12497.714286</td>\n      <td>13207.214286</td>\n      <td>-28</td>\n      <td>-313</td>\n    </tr>\n    <tr>\n      <th>41921</th>\n      <td>2020-08-29</td>\n      <td>67353</td>\n      <td>54883</td>\n      <td>1271</td>\n      <td>854</td>\n      <td>1192</td>\n      <td>20</td>\n      <td>1.179</td>\n      <td>1.050</td>\n      <td>0</td>\n      <td>0</td>\n      <td>Япония</td>\n      <td>11199</td>\n      <td>776.714286</td>\n      <td>878.714286</td>\n      <td>12194.857143</td>\n      <td>12970.071429</td>\n      <td>8</td>\n      <td>-358</td>\n    </tr>\n    <tr>\n      <th>41922</th>\n      <td>2020-08-30</td>\n      <td>67958</td>\n      <td>55700</td>\n      <td>1285</td>\n      <td>605</td>\n      <td>817</td>\n      <td>14</td>\n      <td>1.110</td>\n      <td>1.051</td>\n      <td>0</td>\n      <td>0</td>\n      <td>Япония</td>\n      <td>10973</td>\n      <td>757.142857</td>\n      <td>848.857143</td>\n      <td>11883.714286</td>\n      <td>12724.500000</td>\n      <td>-249</td>\n      <td>-226</td>\n    </tr>\n    <tr>\n      <th>41923</th>\n      <td>2020-08-31</td>\n      <td>68396</td>\n      <td>56338</td>\n      <td>1298</td>\n      <td>438</td>\n      <td>638</td>\n      <td>13</td>\n      <td>0.916</td>\n      <td>1.049</td>\n      <td>0</td>\n      <td>0</td>\n      <td>Япония</td>\n      <td>10760</td>\n      <td>748.285714</td>\n      <td>834.214286</td>\n      <td>11582.571429</td>\n      <td>12492.071429</td>\n      <td>-167</td>\n      <td>-213</td>\n    </tr>\n  </tbody>\n</table>\n</div>"
     },
     "metadata": {},
     "execution_count": 5
    }
   ],
   "source": [
    "X = pd.DataFrame()\n",
    "country_dict = {}\n",
    "yandex_world['Rt'] = 1\n",
    "yandex_world['Rt2'] = 1\n",
    "yandex_world['Rate_conf'] = 0\n",
    "yandex_world['Rate_ill'] = 0\n",
    "\n",
    "temp_df = yandex_world.groupby(['Country','Date']).sum()\n",
    "\n",
    "# Ниже enumerate  для составления словаря из имен регионов {i:j} , для расчетов можно было использовать только j\n",
    "\n",
    "for i,j in enumerate(temp_df.index.get_level_values(0).unique()):\n",
    "    temp_df2 =  temp_df.loc[j]\n",
    "    temp1 = temp_df2['Day_confirmed'].rolling(4).sum()/(temp_df2[\"Day_confirmed\"].rolling(8).sum()-\n",
    "\n",
    "                                                              temp_df2[\"Day_confirmed\"].rolling(4).sum())\n",
    "    temp2 = temp_df2['Confirmed'].rolling(4).sum()/(temp_df2['Confirmed'].rolling(8).sum()-\n",
    "\n",
    "                                                              temp_df2['Confirmed'].rolling(4).sum())\n",
    "    temp_df2['Rt'] = round(temp1,3)\n",
    "    temp_df2['Rt2'] = round(temp2,3)\n",
    "    temp_df2['Country'] = j\n",
    "    temp_df2['Remaining_ill']=temp_df2['Confirmed']-temp_df2['Recovered']-temp_df2['Deaths']\n",
    "    temp_df2['MA7_dayconfirmed']=temp_df2['Day_confirmed'].rolling(window=7).mean()\n",
    "    temp_df2['MA14_dayconfirmed']=temp_df2['Day_confirmed'].rolling(window=14).mean()\n",
    "    temp_df2['MA7_remaining_ill']=temp_df2['Remaining_ill'].rolling(window=7).mean()\n",
    "    temp_df2['MA14_remaining_ill']=temp_df2['Remaining_ill'].rolling(window=14).mean()\n",
    "    \n",
    "    temp_df2['Change_dayconf'] = 0\n",
    "    for k in range(1,temp_df2.shape[0]):\n",
    "        temp_df2['Change_dayconf'].iloc[k]=temp_df2['Day_confirmed'].iloc[k]-temp_df2['Day_confirmed'].iloc[k-1]\n",
    "    temp_df2['Change_remill'] = 0\n",
    "    for k in range(1,temp_df2.shape[0]):\n",
    "        temp_df2['Change_remill'].iloc[k]=temp_df2['Remaining_ill'].iloc[k]-temp_df2['Remaining_ill'].iloc[k-1]\n",
    "    \n",
    "    \n",
    "\n",
    "   #Генератор DF  на каждый регион(сидит в цикле):\n",
    "   # globals()['x' + str(i)] = temp_df2.reset_index()\n",
    "    \n",
    "    X = pd.concat([X,temp_df2.reset_index()],axis = 0)\n",
    "    country_dict[i]=j\n",
    "    \n",
    "print(country_dict.items())\n",
    "    \n",
    "X = X.reset_index(drop=True)\n",
    "X.tail()\n"
   ]
  },
  {
   "cell_type": "code",
   "execution_count": 6,
   "metadata": {
    "tags": []
   },
   "outputs": [
    {
     "output_type": "stream",
     "name": "stdout",
     "text": "Confirmed  Remaining_ill\nDate                                \n2020-08-30   25222977        7758477\n2020-08-31   25484767        7814640\n41924\n(41924, 19)\n2020-01-22\n"
    }
   ],
   "source": [
    "# Добавляем колонки расчитанные сколько доля их в процентах от суммарного показателя в мире\n",
    "mask = X.Country == 'Весь мир'\n",
    "temp_df = X[mask][['Date','Confirmed','Remaining_ill']]\n",
    "temp_df.index = temp_df.Date\n",
    "temp_df.drop(columns =['Date'], inplace = True)\n",
    "print(temp_df.tail(2))\n",
    "# print(temp_df.index.get_level_values(0))\n",
    "# temp_df.loc[datetime.date(2020,6,15),'Россия'].Confirmed\n",
    "# for i in temp_df.index.get_level_values(0).unique()[-2:]:\n",
    "#     print(temp_df.loc[i,'Россия'].Confirmed)\n",
    "world_date = list(temp_df.index)\n",
    "world_conf = list(temp_df.Confirmed)\n",
    "world_ill = list(temp_df.Remaining_ill)\n",
    "world_dict_conf = dict(zip(world_date,world_conf))\n",
    "world_dict_ill = dict(zip(world_date,world_ill))\n",
    "\n",
    "print(len(X))\n",
    "print(X.shape)\n",
    "print(X.loc[0,'Date'])\n",
    "for i in range(len(X)):\n",
    "    X.loc[i,'Rate_conf']=100*X.loc[i,'Confirmed']/world_dict_conf.get(X.loc[i,'Date'])\n",
    "    X.loc[i,'Rate_ill']=100*X.loc[i,'Remaining_ill']/world_dict_ill.get(X.loc[i,'Date'])\n"
   ]
  },
  {
   "cell_type": "code",
   "execution_count": 7,
   "metadata": {},
   "outputs": [
    {
     "output_type": "execute_result",
     "data": {
      "text/plain": "             Date  Confirmed Country  Rate_conf  Rate_ill\n28747  2020-08-12     900745  Россия   4.368602  2.505933\n28748  2020-08-13     905762  Россия   4.332859  2.450044\n28749  2020-08-14     910778  Россия   4.294329  2.423948\n28750  2020-08-15     915808  Россия   4.268082  2.378379\n28751  2020-08-16     920719  Россия   4.248895  2.403781\n28752  2020-08-17     925558  Россия   4.230396  2.428867\n28753  2020-08-18     930276  Россия   4.202747  2.395742\n28754  2020-08-19     935066  Россия   4.172821  2.350957\n28755  2020-08-20     939833  Россия   4.144686  2.314688\n28756  2020-08-21     944671  Россия   4.116874  2.271515\n28757  2020-08-22     949531  Россия   4.092662  2.237891\n28758  2020-08-23     954328  Россия   4.075242  2.262900\n28759  2020-08-24     959016  Россия   4.056056  2.285251\n28760  2020-08-25     963655  Россия   4.034376  2.256652\n28761  2020-08-26     968297  Россия   4.005547  2.215858\n28762  2020-08-27     972972  Россия   3.978954  2.171848\n28763  2020-08-28     977730  Россия   3.952864  2.134761\n28764  2020-08-29     982573  Россия   3.930805  2.107689\n28765  2020-08-30     987470  Россия   3.914962  2.132944\n28766  2020-08-31     992402  Россия   3.894099  2.148979",
      "text/html": "<div>\n<style scoped>\n    .dataframe tbody tr th:only-of-type {\n        vertical-align: middle;\n    }\n\n    .dataframe tbody tr th {\n        vertical-align: top;\n    }\n\n    .dataframe thead th {\n        text-align: right;\n    }\n</style>\n<table border=\"1\" class=\"dataframe\">\n  <thead>\n    <tr style=\"text-align: right;\">\n      <th></th>\n      <th>Date</th>\n      <th>Confirmed</th>\n      <th>Country</th>\n      <th>Rate_conf</th>\n      <th>Rate_ill</th>\n    </tr>\n  </thead>\n  <tbody>\n    <tr>\n      <th>28747</th>\n      <td>2020-08-12</td>\n      <td>900745</td>\n      <td>Россия</td>\n      <td>4.368602</td>\n      <td>2.505933</td>\n    </tr>\n    <tr>\n      <th>28748</th>\n      <td>2020-08-13</td>\n      <td>905762</td>\n      <td>Россия</td>\n      <td>4.332859</td>\n      <td>2.450044</td>\n    </tr>\n    <tr>\n      <th>28749</th>\n      <td>2020-08-14</td>\n      <td>910778</td>\n      <td>Россия</td>\n      <td>4.294329</td>\n      <td>2.423948</td>\n    </tr>\n    <tr>\n      <th>28750</th>\n      <td>2020-08-15</td>\n      <td>915808</td>\n      <td>Россия</td>\n      <td>4.268082</td>\n      <td>2.378379</td>\n    </tr>\n    <tr>\n      <th>28751</th>\n      <td>2020-08-16</td>\n      <td>920719</td>\n      <td>Россия</td>\n      <td>4.248895</td>\n      <td>2.403781</td>\n    </tr>\n    <tr>\n      <th>28752</th>\n      <td>2020-08-17</td>\n      <td>925558</td>\n      <td>Россия</td>\n      <td>4.230396</td>\n      <td>2.428867</td>\n    </tr>\n    <tr>\n      <th>28753</th>\n      <td>2020-08-18</td>\n      <td>930276</td>\n      <td>Россия</td>\n      <td>4.202747</td>\n      <td>2.395742</td>\n    </tr>\n    <tr>\n      <th>28754</th>\n      <td>2020-08-19</td>\n      <td>935066</td>\n      <td>Россия</td>\n      <td>4.172821</td>\n      <td>2.350957</td>\n    </tr>\n    <tr>\n      <th>28755</th>\n      <td>2020-08-20</td>\n      <td>939833</td>\n      <td>Россия</td>\n      <td>4.144686</td>\n      <td>2.314688</td>\n    </tr>\n    <tr>\n      <th>28756</th>\n      <td>2020-08-21</td>\n      <td>944671</td>\n      <td>Россия</td>\n      <td>4.116874</td>\n      <td>2.271515</td>\n    </tr>\n    <tr>\n      <th>28757</th>\n      <td>2020-08-22</td>\n      <td>949531</td>\n      <td>Россия</td>\n      <td>4.092662</td>\n      <td>2.237891</td>\n    </tr>\n    <tr>\n      <th>28758</th>\n      <td>2020-08-23</td>\n      <td>954328</td>\n      <td>Россия</td>\n      <td>4.075242</td>\n      <td>2.262900</td>\n    </tr>\n    <tr>\n      <th>28759</th>\n      <td>2020-08-24</td>\n      <td>959016</td>\n      <td>Россия</td>\n      <td>4.056056</td>\n      <td>2.285251</td>\n    </tr>\n    <tr>\n      <th>28760</th>\n      <td>2020-08-25</td>\n      <td>963655</td>\n      <td>Россия</td>\n      <td>4.034376</td>\n      <td>2.256652</td>\n    </tr>\n    <tr>\n      <th>28761</th>\n      <td>2020-08-26</td>\n      <td>968297</td>\n      <td>Россия</td>\n      <td>4.005547</td>\n      <td>2.215858</td>\n    </tr>\n    <tr>\n      <th>28762</th>\n      <td>2020-08-27</td>\n      <td>972972</td>\n      <td>Россия</td>\n      <td>3.978954</td>\n      <td>2.171848</td>\n    </tr>\n    <tr>\n      <th>28763</th>\n      <td>2020-08-28</td>\n      <td>977730</td>\n      <td>Россия</td>\n      <td>3.952864</td>\n      <td>2.134761</td>\n    </tr>\n    <tr>\n      <th>28764</th>\n      <td>2020-08-29</td>\n      <td>982573</td>\n      <td>Россия</td>\n      <td>3.930805</td>\n      <td>2.107689</td>\n    </tr>\n    <tr>\n      <th>28765</th>\n      <td>2020-08-30</td>\n      <td>987470</td>\n      <td>Россия</td>\n      <td>3.914962</td>\n      <td>2.132944</td>\n    </tr>\n    <tr>\n      <th>28766</th>\n      <td>2020-08-31</td>\n      <td>992402</td>\n      <td>Россия</td>\n      <td>3.894099</td>\n      <td>2.148979</td>\n    </tr>\n  </tbody>\n</table>\n</div>"
     },
     "metadata": {},
     "execution_count": 7
    }
   ],
   "source": [
    "# Проверка расчетов процентных показателей\n",
    "mask = (X.Date>=datetime.date(2020,6,13))&(X.Country.isin(['Весь мир','Россия']))\n",
    "\n",
    "temp=X[mask]\n",
    "temp[['Date','Confirmed','Country','Rate_conf','Rate_ill']].tail(20)"
   ]
  },
  {
   "cell_type": "code",
   "execution_count": 8,
   "metadata": {},
   "outputs": [],
   "source": [
    "X.to_csv('W.csv',index=False)"
   ]
  },
  {
   "cell_type": "code",
   "execution_count": null,
   "metadata": {},
   "outputs": [],
   "source": []
  }
 ],
 "metadata": {
  "kernelspec": {
   "display_name": "Python 3.8.3 64-bit ('covid': venv)",
   "language": "python",
   "name": "python38364bitcovidvenvebdaa96572d64ce3ae923c0c7db69618"
  },
  "language_info": {
   "codemirror_mode": {
    "name": "ipython",
    "version": 3
   },
   "file_extension": ".py",
   "mimetype": "text/x-python",
   "name": "python",
   "nbconvert_exporter": "python",
   "pygments_lexer": "ipython3",
   "version": "3.8.3-final"
  }
 },
 "nbformat": 4,
 "nbformat_minor": 4
}