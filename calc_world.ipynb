{
 "cells": [
  {
   "cell_type": "code",
   "execution_count": 1,
   "metadata": {},
   "outputs": [],
   "source": [
    "import pandas as pd\n",
    "import datetime\n",
    "import plotly.graph_objects as go\n",
    "import plotly.express as px\n",
    "import plotly.figure_factory as ff\n",
    "\n",
    "\n"
   ]
  },
  {
   "cell_type": "code",
   "execution_count": 2,
   "metadata": {},
   "outputs": [
    {
     "output_type": "execute_result",
     "data": {
      "text/plain": "      Country        Date  Confirmed  Recovered  Deaths  Day_confirmed  \\\n43364  Япония  2020-08-21      60949      46264    1175           1049   \n43365  Япония  2020-08-22      61916      47418    1179            967   \n43366  Япония  2020-08-23      62658      48319    1188            742   \n43367  Япония  2020-08-24      63158      49089    1201            500   \n43368  Япония  2020-08-25      63888      50092    1219            730   \n43369  Япония  2020-08-26      64779      51407    1230            891   \n43370  Япония  2020-08-27      65653      52542    1241            874   \n43371  Япония  2020-08-28      66499      53691    1251            846   \n43372  Япония  2020-08-29      67353      54883    1271            854   \n43373  Япония  2020-08-30      67958      55700    1285            605   \n43374  Япония  2020-08-31      68396      56338    1298            438   \n43375  Япония  2020-09-01      69023      57503    1313            627   \n43376  Япония  2020-09-02      69619      58108    1327            596   \n43377  Япония  2020-09-03      70278      58200    1334            659   \n43378  Япония  2020-09-04      70866      60093    1352            588   \n43379  Япония  2020-09-05      71467      61099    1361            601   \n43380  Япония  2020-09-06      71918      61730    1366            451   \n43381  Япония  2020-09-07      72213      62190    1377            295   \n43382  Япония  2020-09-08      72724      62936    1398            511   \n43383  Япония  2020-09-09      73264      63734    1412            540   \n\n       Day_recovered  Day_deaths  \n43364           1154          18  \n43365           1154           4  \n43366            901           9  \n43367            770          13  \n43368           1003          18  \n43369           1315          11  \n43370           1135          11  \n43371           1149          10  \n43372           1192          20  \n43373            817          14  \n43374            638          13  \n43375           1165          15  \n43376            605          14  \n43377             92           7  \n43378           1893          18  \n43379           1006           9  \n43380            631           5  \n43381            460          11  \n43382            746          21  \n43383            798          14  ",
      "text/html": "<div>\n<style scoped>\n    .dataframe tbody tr th:only-of-type {\n        vertical-align: middle;\n    }\n\n    .dataframe tbody tr th {\n        vertical-align: top;\n    }\n\n    .dataframe thead th {\n        text-align: right;\n    }\n</style>\n<table border=\"1\" class=\"dataframe\">\n  <thead>\n    <tr style=\"text-align: right;\">\n      <th></th>\n      <th>Country</th>\n      <th>Date</th>\n      <th>Confirmed</th>\n      <th>Recovered</th>\n      <th>Deaths</th>\n      <th>Day_confirmed</th>\n      <th>Day_recovered</th>\n      <th>Day_deaths</th>\n    </tr>\n  </thead>\n  <tbody>\n    <tr>\n      <th>43364</th>\n      <td>Япония</td>\n      <td>2020-08-21</td>\n      <td>60949</td>\n      <td>46264</td>\n      <td>1175</td>\n      <td>1049</td>\n      <td>1154</td>\n      <td>18</td>\n    </tr>\n    <tr>\n      <th>43365</th>\n      <td>Япония</td>\n      <td>2020-08-22</td>\n      <td>61916</td>\n      <td>47418</td>\n      <td>1179</td>\n      <td>967</td>\n      <td>1154</td>\n      <td>4</td>\n    </tr>\n    <tr>\n      <th>43366</th>\n      <td>Япония</td>\n      <td>2020-08-23</td>\n      <td>62658</td>\n      <td>48319</td>\n      <td>1188</td>\n      <td>742</td>\n      <td>901</td>\n      <td>9</td>\n    </tr>\n    <tr>\n      <th>43367</th>\n      <td>Япония</td>\n      <td>2020-08-24</td>\n      <td>63158</td>\n      <td>49089</td>\n      <td>1201</td>\n      <td>500</td>\n      <td>770</td>\n      <td>13</td>\n    </tr>\n    <tr>\n      <th>43368</th>\n      <td>Япония</td>\n      <td>2020-08-25</td>\n      <td>63888</td>\n      <td>50092</td>\n      <td>1219</td>\n      <td>730</td>\n      <td>1003</td>\n      <td>18</td>\n    </tr>\n    <tr>\n      <th>43369</th>\n      <td>Япония</td>\n      <td>2020-08-26</td>\n      <td>64779</td>\n      <td>51407</td>\n      <td>1230</td>\n      <td>891</td>\n      <td>1315</td>\n      <td>11</td>\n    </tr>\n    <tr>\n      <th>43370</th>\n      <td>Япония</td>\n      <td>2020-08-27</td>\n      <td>65653</td>\n      <td>52542</td>\n      <td>1241</td>\n      <td>874</td>\n      <td>1135</td>\n      <td>11</td>\n    </tr>\n    <tr>\n      <th>43371</th>\n      <td>Япония</td>\n      <td>2020-08-28</td>\n      <td>66499</td>\n      <td>53691</td>\n      <td>1251</td>\n      <td>846</td>\n      <td>1149</td>\n      <td>10</td>\n    </tr>\n    <tr>\n      <th>43372</th>\n      <td>Япония</td>\n      <td>2020-08-29</td>\n      <td>67353</td>\n      <td>54883</td>\n      <td>1271</td>\n      <td>854</td>\n      <td>1192</td>\n      <td>20</td>\n    </tr>\n    <tr>\n      <th>43373</th>\n      <td>Япония</td>\n      <td>2020-08-30</td>\n      <td>67958</td>\n      <td>55700</td>\n      <td>1285</td>\n      <td>605</td>\n      <td>817</td>\n      <td>14</td>\n    </tr>\n    <tr>\n      <th>43374</th>\n      <td>Япония</td>\n      <td>2020-08-31</td>\n      <td>68396</td>\n      <td>56338</td>\n      <td>1298</td>\n      <td>438</td>\n      <td>638</td>\n      <td>13</td>\n    </tr>\n    <tr>\n      <th>43375</th>\n      <td>Япония</td>\n      <td>2020-09-01</td>\n      <td>69023</td>\n      <td>57503</td>\n      <td>1313</td>\n      <td>627</td>\n      <td>1165</td>\n      <td>15</td>\n    </tr>\n    <tr>\n      <th>43376</th>\n      <td>Япония</td>\n      <td>2020-09-02</td>\n      <td>69619</td>\n      <td>58108</td>\n      <td>1327</td>\n      <td>596</td>\n      <td>605</td>\n      <td>14</td>\n    </tr>\n    <tr>\n      <th>43377</th>\n      <td>Япония</td>\n      <td>2020-09-03</td>\n      <td>70278</td>\n      <td>58200</td>\n      <td>1334</td>\n      <td>659</td>\n      <td>92</td>\n      <td>7</td>\n    </tr>\n    <tr>\n      <th>43378</th>\n      <td>Япония</td>\n      <td>2020-09-04</td>\n      <td>70866</td>\n      <td>60093</td>\n      <td>1352</td>\n      <td>588</td>\n      <td>1893</td>\n      <td>18</td>\n    </tr>\n    <tr>\n      <th>43379</th>\n      <td>Япония</td>\n      <td>2020-09-05</td>\n      <td>71467</td>\n      <td>61099</td>\n      <td>1361</td>\n      <td>601</td>\n      <td>1006</td>\n      <td>9</td>\n    </tr>\n    <tr>\n      <th>43380</th>\n      <td>Япония</td>\n      <td>2020-09-06</td>\n      <td>71918</td>\n      <td>61730</td>\n      <td>1366</td>\n      <td>451</td>\n      <td>631</td>\n      <td>5</td>\n    </tr>\n    <tr>\n      <th>43381</th>\n      <td>Япония</td>\n      <td>2020-09-07</td>\n      <td>72213</td>\n      <td>62190</td>\n      <td>1377</td>\n      <td>295</td>\n      <td>460</td>\n      <td>11</td>\n    </tr>\n    <tr>\n      <th>43382</th>\n      <td>Япония</td>\n      <td>2020-09-08</td>\n      <td>72724</td>\n      <td>62936</td>\n      <td>1398</td>\n      <td>511</td>\n      <td>746</td>\n      <td>21</td>\n    </tr>\n    <tr>\n      <th>43383</th>\n      <td>Япония</td>\n      <td>2020-09-09</td>\n      <td>73264</td>\n      <td>63734</td>\n      <td>1412</td>\n      <td>540</td>\n      <td>798</td>\n      <td>14</td>\n    </tr>\n  </tbody>\n</table>\n</div>"
     },
     "metadata": {},
     "execution_count": 2
    }
   ],
   "source": [
    "yandex_world = pd.read_csv('yandex_world.csv')\n",
    "yandex_world.rename(columns = {'Дата':'Date','Страна':'Country','Заражений':'Confirmed','Выздоровлений':'Recovered',\n",
    "                               'Смертей':'Deaths','Смертей за день':'Day_deaths',\n",
    "                               'Заражений за день':'Day_confirmed','Выздоровлений за день':'Day_recovered'},inplace = True)\n",
    "for i in range(yandex_world.shape[0]):\n",
    "    a= yandex_world.Date[i].split('.')\n",
    "    yandex_world.Date[i]=datetime.date(int(a[2]),int(a[1]),int(a[0]))\n",
    "\n",
    "yandex_world.tail(20)"
   ]
  },
  {
   "cell_type": "code",
   "execution_count": 3,
   "metadata": {},
   "outputs": [
    {
     "output_type": "execute_result",
     "data": {
      "text/plain": "      Country        Date  Confirmed  Recovered  Deaths  Day_confirmed  \\\n222  Весь мир  2020-08-31   25484767   16818436  850535         262058   \n223  Весь мир  2020-09-01   25749642   17073236  857015         264875   \n224  Весь мир  2020-09-02   26031410   17291874  863028         281768   \n225  Весь мир  2020-09-03   26304856   17512585  868733         273446   \n226  Весь мир  2020-09-04   26617971   17726336  874639         313115   \n227  Весь мир  2020-09-05   26881547   17927195  879577         263576   \n228  Весь мир  2020-09-06   27103845   18137310  883339         222298   \n229  Весь мир  2020-09-07   27337760   18336112  892646         233915   \n230  Весь мир  2020-09-08   27570742   18524391  897383         232982   \n231  Весь мир  2020-09-09   27863733   18776723  903686         292991   \n\n     Day_recovered  Day_deaths  \n222         201441        4182  \n223         254800        6480  \n224         218638        6013  \n225         220711        5705  \n226         213751        5906  \n227         200859        4938  \n228         210115        3762  \n229         198802        9307  \n230         188279        4737  \n231         252332        6303  ",
      "text/html": "<div>\n<style scoped>\n    .dataframe tbody tr th:only-of-type {\n        vertical-align: middle;\n    }\n\n    .dataframe tbody tr th {\n        vertical-align: top;\n    }\n\n    .dataframe thead th {\n        text-align: right;\n    }\n</style>\n<table border=\"1\" class=\"dataframe\">\n  <thead>\n    <tr style=\"text-align: right;\">\n      <th></th>\n      <th>Country</th>\n      <th>Date</th>\n      <th>Confirmed</th>\n      <th>Recovered</th>\n      <th>Deaths</th>\n      <th>Day_confirmed</th>\n      <th>Day_recovered</th>\n      <th>Day_deaths</th>\n    </tr>\n  </thead>\n  <tbody>\n    <tr>\n      <th>222</th>\n      <td>Весь мир</td>\n      <td>2020-08-31</td>\n      <td>25484767</td>\n      <td>16818436</td>\n      <td>850535</td>\n      <td>262058</td>\n      <td>201441</td>\n      <td>4182</td>\n    </tr>\n    <tr>\n      <th>223</th>\n      <td>Весь мир</td>\n      <td>2020-09-01</td>\n      <td>25749642</td>\n      <td>17073236</td>\n      <td>857015</td>\n      <td>264875</td>\n      <td>254800</td>\n      <td>6480</td>\n    </tr>\n    <tr>\n      <th>224</th>\n      <td>Весь мир</td>\n      <td>2020-09-02</td>\n      <td>26031410</td>\n      <td>17291874</td>\n      <td>863028</td>\n      <td>281768</td>\n      <td>218638</td>\n      <td>6013</td>\n    </tr>\n    <tr>\n      <th>225</th>\n      <td>Весь мир</td>\n      <td>2020-09-03</td>\n      <td>26304856</td>\n      <td>17512585</td>\n      <td>868733</td>\n      <td>273446</td>\n      <td>220711</td>\n      <td>5705</td>\n    </tr>\n    <tr>\n      <th>226</th>\n      <td>Весь мир</td>\n      <td>2020-09-04</td>\n      <td>26617971</td>\n      <td>17726336</td>\n      <td>874639</td>\n      <td>313115</td>\n      <td>213751</td>\n      <td>5906</td>\n    </tr>\n    <tr>\n      <th>227</th>\n      <td>Весь мир</td>\n      <td>2020-09-05</td>\n      <td>26881547</td>\n      <td>17927195</td>\n      <td>879577</td>\n      <td>263576</td>\n      <td>200859</td>\n      <td>4938</td>\n    </tr>\n    <tr>\n      <th>228</th>\n      <td>Весь мир</td>\n      <td>2020-09-06</td>\n      <td>27103845</td>\n      <td>18137310</td>\n      <td>883339</td>\n      <td>222298</td>\n      <td>210115</td>\n      <td>3762</td>\n    </tr>\n    <tr>\n      <th>229</th>\n      <td>Весь мир</td>\n      <td>2020-09-07</td>\n      <td>27337760</td>\n      <td>18336112</td>\n      <td>892646</td>\n      <td>233915</td>\n      <td>198802</td>\n      <td>9307</td>\n    </tr>\n    <tr>\n      <th>230</th>\n      <td>Весь мир</td>\n      <td>2020-09-08</td>\n      <td>27570742</td>\n      <td>18524391</td>\n      <td>897383</td>\n      <td>232982</td>\n      <td>188279</td>\n      <td>4737</td>\n    </tr>\n    <tr>\n      <th>231</th>\n      <td>Весь мир</td>\n      <td>2020-09-09</td>\n      <td>27863733</td>\n      <td>18776723</td>\n      <td>903686</td>\n      <td>292991</td>\n      <td>252332</td>\n      <td>6303</td>\n    </tr>\n  </tbody>\n</table>\n</div>"
     },
     "metadata": {},
     "execution_count": 3
    }
   ],
   "source": [
    "df3_temp = yandex_world.groupby('Date').sum()\n",
    "df3_temp['Country']='Весь мир'\n",
    "\n",
    "y5= pd.concat([yandex_world,df3_temp.reset_index()],axis = 0)\n",
    "y5.reset_index()\n",
    "yandex_world = y5\n",
    "yandex_world.tail(10)"
   ]
  },
  {
   "cell_type": "code",
   "execution_count": 4,
   "metadata": {
    "tags": []
   },
   "outputs": [
    {
     "output_type": "stream",
     "name": "stdout",
     "text": "Весь мир\nВыбран день:  2020-09-09\n"
    }
   ],
   "source": [
    "# dt = datetime.datetime.today()\n",
    "# today = datetime.date(dt.year,dt.month,dt.day)\n",
    "# ystday = datetime.date(today.year,today.month,today.day-1)\n",
    "# yst2day = datetime.date(today.year,today.month,today.day-2)\n",
    "# yst3day = datetime.date(today.year,today.month,today.day-3)\n",
    "\n",
    "# print(today)\n",
    "# print(ystday)\n",
    "# print(yst2day)\n",
    "# print(yst3day)\n",
    "myday = list(yandex_world.tail(1).Date)[0]\n",
    "\n",
    "print(yandex_world.iloc[-1,0])\n",
    "print('Выбран день: ',myday)"
   ]
  },
  {
   "cell_type": "code",
   "execution_count": 5,
   "metadata": {
    "tags": []
   },
   "outputs": [
    {
     "output_type": "stream",
     "name": "stdout",
     "text": "dict_items([(0, 'Австралия'), (1, 'Австрия'), (2, 'Азербайджан'), (3, 'Албания'), (4, 'Алжир'), (5, 'Ангола'), (6, 'Андорра'), (7, 'Антигуа и Барбуда'), (8, 'Аргентина'), (9, 'Армения'), (10, 'Афганистан'), (11, 'Багамские острова'), (12, 'Бангладеш'), (13, 'Барбадос'), (14, 'Бахрейн'), (15, 'Беларусь'), (16, 'Белиз'), (17, 'Бельгия'), (18, 'Бенин'), (19, 'Болгария'), (20, 'Боливия'), (21, 'Босния и Герцеговина'), (22, 'Ботсвана'), (23, 'Бразилия'), (24, 'Бруней'), (25, 'Буркина-Фасо'), (26, 'Бурунди'), (27, 'Бутан'), (28, 'Великобритания'), (29, 'Венгрия'), (30, 'Венесуэла'), (31, 'Весь мир'), (32, 'Восточный Тимор'), (33, 'Вьетнам'), (34, 'Габон'), (35, 'Гаити'), (36, 'Гайана'), (37, 'Гамбия'), (38, 'Гана'), (39, 'Гватемала'), (40, 'Гвинея'), (41, 'Гвинея-Бисау'), (42, 'Германия'), (43, 'Гондурас'), (44, 'Гренада'), (45, 'Греция'), (46, 'Грузия'), (47, 'ДР Конго'), (48, 'Дания'), (49, 'Джибути'), (50, 'Доминика'), (51, 'Доминиканская Республика'), (52, 'Египет'), (53, 'Замбия'), (54, 'Западная Сахара'), (55, 'Западный берег реки Иордан'), (56, 'Зимбабве'), (57, 'Израиль'), (58, 'Индия'), (59, 'Индонезия'), (60, 'Иордания'), (61, 'Ирак'), (62, 'Иран'), (63, 'Ирландия'), (64, 'Исландия'), (65, 'Испания'), (66, 'Италия'), (67, 'Йемен'), (68, 'Кабо-Верде'), (69, 'Казахстан'), (70, 'Камбоджа'), (71, 'Камерун'), (72, 'Канада'), (73, 'Катар'), (74, 'Кения'), (75, 'Кипр'), (76, 'Киргизия'), (77, 'Китай'), (78, 'Колумбия'), (79, 'Коморские острова'), (80, 'Косово и Метохия'), (81, 'Коста-Рика'), (82, 'Кот-д’Ивуар'), (83, 'Куба'), (84, 'Кувейт'), (85, 'Лаос'), (86, 'Латвия'), (87, 'Лесото'), (88, 'Либерия'), (89, 'Ливан'), (90, 'Ливия'), (91, 'Литва'), (92, 'Лихтенштейн'), (93, 'Люксембург'), (94, 'Маврикий'), (95, 'Мавритания'), (96, 'Мадагаскар'), (97, 'Малави'), (98, 'Малайзия'), (99, 'Мали'), (100, 'Мальдивы'), (101, 'Мальта'), (102, 'Марокко'), (103, 'Мексика'), (104, 'Мозамбик'), (105, 'Молдавия'), (106, 'Монако'), (107, 'Монголия'), (108, 'Мьянма'), (109, 'Намибия'), (110, 'Непал'), (111, 'Нигер'), (112, 'Нигерия'), (113, 'Нидерланды'), (114, 'Никарагуа'), (115, 'Новая Зеландия'), (116, 'Норвегия'), (117, 'ОАЭ'), (118, 'Оман'), (119, 'Пакистан'), (120, 'Панама'), (121, 'Папский Престол'), (122, 'Папуа — Новая Гвинея'), (123, 'Парагвай'), (124, 'Перу'), (125, 'Польша'), (126, 'Португалия'), (127, 'Республика Конго'), (128, 'Россия'), (129, 'Руанда'), (130, 'Румыния'), (131, 'США'), (132, 'Сальвадор'), (133, 'Сан-Марино'), (134, 'Сан-Томе и Принсипи'), (135, 'Саудовская Аравия'), (136, 'Северная Македония'), (137, 'Сейшельские острова'), (138, 'Сенегал'), (139, 'Сент-Винсент и Гренадины'), (140, 'Сент-Китс и Невис'), (141, 'Сент-Люсия'), (142, 'Сербия'), (143, 'Сингапур'), (144, 'Сирия'), (145, 'Словакия'), (146, 'Словения'), (147, 'Сомали'), (148, 'Судан'), (149, 'Судно \"Diamond Princess\"'), (150, 'Судно \"MS Zaandam\"'), (151, 'Суринам'), (152, 'Сьерра-Леоне'), (153, 'Таджикистан'), (154, 'Таиланд'), (155, 'Танзания'), (156, 'Того'), (157, 'Тринидад и Тобаго'), (158, 'Тунис'), (159, 'Турция'), (160, 'Уганда'), (161, 'Узбекистан'), (162, 'Украина'), (163, 'Уругвай'), (164, 'Фиджи'), (165, 'Филиппины'), (166, 'Финляндия'), (167, 'Франция'), (168, 'Хорватия'), (169, 'ЦАР'), (170, 'Чад'), (171, 'Черногория'), (172, 'Чехия'), (173, 'Чили'), (174, 'Швейцария'), (175, 'Швеция'), (176, 'Шри-Ланка'), (177, 'Эквадор'), (178, 'Экваториальная Гвинея'), (179, 'Эритрея'), (180, 'Эсватини'), (181, 'Эстония'), (182, 'Эфиопия'), (183, 'ЮАР'), (184, 'Южная Корея'), (185, 'Южный Судан'), (186, 'Ямайка'), (187, 'Япония')])\n"
    },
    {
     "output_type": "execute_result",
     "data": {
      "text/plain": "             Date  Confirmed  Recovered  Deaths  Day_confirmed  Day_recovered  \\\n43611  2020-09-05      71467      61099    1361            601           1006   \n43612  2020-09-06      71918      61730    1366            451            631   \n43613  2020-09-07      72213      62190    1377            295            460   \n43614  2020-09-08      72724      62936    1398            511            746   \n43615  2020-09-09      73264      63734    1412            540            798   \n\n       Day_deaths     Rt    Rt2  Rate_conf  Rate_ill Country  Remaining_ill  \\\n43611           9  0.968  1.035          0         0  Япония           9007   \n43612           5  1.015  1.035          0         0  Япония           8822   \n43613          11  0.834  1.033          0         0  Япония           8646   \n43614          21  0.752  1.031          0         0  Япония           8390   \n43615          14  0.735  1.028          0         0  Япония           8118   \n\n       MA7_dayconfirmed  MA14_dayconfirmed  MA7_remaining_ill  \\\n43611        587.714286         682.214286       10185.142857   \n43612        565.714286         661.428571        9877.857143   \n43613        545.285714         646.785714        9575.857143   \n43614        528.714286         631.142857        9316.285714   \n43615        520.714286         606.071429        9021.142857   \n\n       MA14_remaining_ill  Change_dayconf  Change_remill  \n43611        11190.000000              13           -414  \n43612        10880.785714            -150           -185  \n43613        10579.214286            -156           -176  \n43614        10280.142857             216           -256  \n43615         9992.714286              29           -272  ",
      "text/html": "<div>\n<style scoped>\n    .dataframe tbody tr th:only-of-type {\n        vertical-align: middle;\n    }\n\n    .dataframe tbody tr th {\n        vertical-align: top;\n    }\n\n    .dataframe thead th {\n        text-align: right;\n    }\n</style>\n<table border=\"1\" class=\"dataframe\">\n  <thead>\n    <tr style=\"text-align: right;\">\n      <th></th>\n      <th>Date</th>\n      <th>Confirmed</th>\n      <th>Recovered</th>\n      <th>Deaths</th>\n      <th>Day_confirmed</th>\n      <th>Day_recovered</th>\n      <th>Day_deaths</th>\n      <th>Rt</th>\n      <th>Rt2</th>\n      <th>Rate_conf</th>\n      <th>Rate_ill</th>\n      <th>Country</th>\n      <th>Remaining_ill</th>\n      <th>MA7_dayconfirmed</th>\n      <th>MA14_dayconfirmed</th>\n      <th>MA7_remaining_ill</th>\n      <th>MA14_remaining_ill</th>\n      <th>Change_dayconf</th>\n      <th>Change_remill</th>\n    </tr>\n  </thead>\n  <tbody>\n    <tr>\n      <th>43611</th>\n      <td>2020-09-05</td>\n      <td>71467</td>\n      <td>61099</td>\n      <td>1361</td>\n      <td>601</td>\n      <td>1006</td>\n      <td>9</td>\n      <td>0.968</td>\n      <td>1.035</td>\n      <td>0</td>\n      <td>0</td>\n      <td>Япония</td>\n      <td>9007</td>\n      <td>587.714286</td>\n      <td>682.214286</td>\n      <td>10185.142857</td>\n      <td>11190.000000</td>\n      <td>13</td>\n      <td>-414</td>\n    </tr>\n    <tr>\n      <th>43612</th>\n      <td>2020-09-06</td>\n      <td>71918</td>\n      <td>61730</td>\n      <td>1366</td>\n      <td>451</td>\n      <td>631</td>\n      <td>5</td>\n      <td>1.015</td>\n      <td>1.035</td>\n      <td>0</td>\n      <td>0</td>\n      <td>Япония</td>\n      <td>8822</td>\n      <td>565.714286</td>\n      <td>661.428571</td>\n      <td>9877.857143</td>\n      <td>10880.785714</td>\n      <td>-150</td>\n      <td>-185</td>\n    </tr>\n    <tr>\n      <th>43613</th>\n      <td>2020-09-07</td>\n      <td>72213</td>\n      <td>62190</td>\n      <td>1377</td>\n      <td>295</td>\n      <td>460</td>\n      <td>11</td>\n      <td>0.834</td>\n      <td>1.033</td>\n      <td>0</td>\n      <td>0</td>\n      <td>Япония</td>\n      <td>8646</td>\n      <td>545.285714</td>\n      <td>646.785714</td>\n      <td>9575.857143</td>\n      <td>10579.214286</td>\n      <td>-156</td>\n      <td>-176</td>\n    </tr>\n    <tr>\n      <th>43614</th>\n      <td>2020-09-08</td>\n      <td>72724</td>\n      <td>62936</td>\n      <td>1398</td>\n      <td>511</td>\n      <td>746</td>\n      <td>21</td>\n      <td>0.752</td>\n      <td>1.031</td>\n      <td>0</td>\n      <td>0</td>\n      <td>Япония</td>\n      <td>8390</td>\n      <td>528.714286</td>\n      <td>631.142857</td>\n      <td>9316.285714</td>\n      <td>10280.142857</td>\n      <td>216</td>\n      <td>-256</td>\n    </tr>\n    <tr>\n      <th>43615</th>\n      <td>2020-09-09</td>\n      <td>73264</td>\n      <td>63734</td>\n      <td>1412</td>\n      <td>540</td>\n      <td>798</td>\n      <td>14</td>\n      <td>0.735</td>\n      <td>1.028</td>\n      <td>0</td>\n      <td>0</td>\n      <td>Япония</td>\n      <td>8118</td>\n      <td>520.714286</td>\n      <td>606.071429</td>\n      <td>9021.142857</td>\n      <td>9992.714286</td>\n      <td>29</td>\n      <td>-272</td>\n    </tr>\n  </tbody>\n</table>\n</div>"
     },
     "metadata": {},
     "execution_count": 5
    }
   ],
   "source": [
    "X = pd.DataFrame()\n",
    "country_dict = {}\n",
    "yandex_world['Rt'] = 1\n",
    "yandex_world['Rt2'] = 1\n",
    "yandex_world['Rate_conf'] = 0\n",
    "yandex_world['Rate_ill'] = 0\n",
    "\n",
    "temp_df = yandex_world.groupby(['Country','Date']).sum()\n",
    "\n",
    "# Ниже enumerate  для составления словаря из имен регионов {i:j} , для расчетов можно было использовать только j\n",
    "\n",
    "for i,j in enumerate(temp_df.index.get_level_values(0).unique()):\n",
    "    temp_df2 =  temp_df.loc[j]\n",
    "    temp1 = temp_df2['Day_confirmed'].rolling(4).sum()/(temp_df2[\"Day_confirmed\"].rolling(8).sum()-\n",
    "\n",
    "                                                              temp_df2[\"Day_confirmed\"].rolling(4).sum())\n",
    "    temp2 = temp_df2['Confirmed'].rolling(4).sum()/(temp_df2['Confirmed'].rolling(8).sum()-\n",
    "\n",
    "                                                              temp_df2['Confirmed'].rolling(4).sum())\n",
    "    temp_df2['Rt'] = round(temp1,3)\n",
    "    temp_df2['Rt2'] = round(temp2,3)\n",
    "    temp_df2['Country'] = j\n",
    "    temp_df2['Remaining_ill']=temp_df2['Confirmed']-temp_df2['Recovered']-temp_df2['Deaths']\n",
    "    temp_df2['MA7_dayconfirmed']=temp_df2['Day_confirmed'].rolling(window=7).mean()\n",
    "    temp_df2['MA14_dayconfirmed']=temp_df2['Day_confirmed'].rolling(window=14).mean()\n",
    "    temp_df2['MA7_remaining_ill']=temp_df2['Remaining_ill'].rolling(window=7).mean()\n",
    "    temp_df2['MA14_remaining_ill']=temp_df2['Remaining_ill'].rolling(window=14).mean()\n",
    "    \n",
    "    temp_df2['Change_dayconf'] = 0\n",
    "    for k in range(1,temp_df2.shape[0]):\n",
    "        temp_df2['Change_dayconf'].iloc[k]=temp_df2['Day_confirmed'].iloc[k]-temp_df2['Day_confirmed'].iloc[k-1]\n",
    "    temp_df2['Change_remill'] = 0\n",
    "    for k in range(1,temp_df2.shape[0]):\n",
    "        temp_df2['Change_remill'].iloc[k]=temp_df2['Remaining_ill'].iloc[k]-temp_df2['Remaining_ill'].iloc[k-1]\n",
    "    \n",
    "    \n",
    "\n",
    "   #Генератор DF  на каждый регион(сидит в цикле):\n",
    "   # globals()['x' + str(i)] = temp_df2.reset_index()\n",
    "    \n",
    "    X = pd.concat([X,temp_df2.reset_index()],axis = 0)\n",
    "    country_dict[i]=j\n",
    "    \n",
    "print(country_dict.items())\n",
    "    \n",
    "X = X.reset_index(drop=True)\n",
    "X.tail()\n"
   ]
  },
  {
   "cell_type": "code",
   "execution_count": 6,
   "metadata": {
    "tags": []
   },
   "outputs": [
    {
     "output_type": "stream",
     "name": "stdout",
     "text": "Confirmed  Remaining_ill\nDate                                \n2020-09-08   27570742        8148968\n2020-09-09   27863733        8183324\n43616\n(43616, 19)\n2020-01-22\n"
    }
   ],
   "source": [
    "# Добавляем колонки расчитанные сколько доля их в процентах от суммарного показателя в мире\n",
    "mask = X.Country == 'Весь мир'\n",
    "temp_df = X[mask][['Date','Confirmed','Remaining_ill']]\n",
    "temp_df.index = temp_df.Date\n",
    "temp_df.drop(columns =['Date'], inplace = True)\n",
    "print(temp_df.tail(2))\n",
    "# print(temp_df.index.get_level_values(0))\n",
    "# temp_df.loc[datetime.date(2020,6,15),'Россия'].Confirmed\n",
    "# for i in temp_df.index.get_level_values(0).unique()[-2:]:\n",
    "#     print(temp_df.loc[i,'Россия'].Confirmed)\n",
    "world_date = list(temp_df.index)\n",
    "world_conf = list(temp_df.Confirmed)\n",
    "world_ill = list(temp_df.Remaining_ill)\n",
    "world_dict_conf = dict(zip(world_date,world_conf))\n",
    "world_dict_ill = dict(zip(world_date,world_ill))\n",
    "\n",
    "print(len(X))\n",
    "print(X.shape)\n",
    "print(X.loc[0,'Date'])\n",
    "for i in range(len(X)):\n",
    "    X.loc[i,'Rate_conf']=100*X.loc[i,'Confirmed']/world_dict_conf.get(X.loc[i,'Date'])\n",
    "    X.loc[i,'Rate_ill']=100*X.loc[i,'Remaining_ill']/world_dict_ill.get(X.loc[i,'Date'])\n"
   ]
  },
  {
   "cell_type": "code",
   "execution_count": 7,
   "metadata": {},
   "outputs": [
    {
     "output_type": "execute_result",
     "data": {
      "text/plain": "             Date  Confirmed Country  Rate_conf  Rate_ill\n29908  2020-08-21     944671  Россия   4.116922  2.271603\n29909  2020-08-22     949531  Россия   4.090767  2.238049\n29910  2020-08-23     954328  Россия   4.075276  2.263089\n29911  2020-08-24     959016  Россия   4.056090  2.285446\n29912  2020-08-25     963655  Россия   4.034412  2.256850\n29913  2020-08-26     968297  Россия   4.005573  2.216065\n29914  2020-08-27     972972  Россия   3.978956  2.171644\n29915  2020-08-28     977730  Россия   3.952908  2.134503\n29916  2020-08-29     982573  Россия   3.930849  2.107445\n29917  2020-08-30     987470  Россия   3.915004  2.132701\n29918  2020-08-31     992402  Россия   3.894099  2.148662\n29919  2020-09-01     997072  Россия   3.872178  2.125728\n29920  2020-09-02    1001965  Россия   3.849062  2.101909\n29921  2020-09-03    1006923  Россия   3.827898  2.078125\n29922  2020-09-04    1011987  Россия   3.801894  2.043870\n29923  2020-09-05    1017131  Россия   3.783752  2.025320\n29924  2020-09-06    1022228  Россия   3.771524  2.050921\n29925  2020-09-07    1027334  Россия   3.757930  2.078172\n29926  2020-09-08    1032354  Россия   3.744382  2.045277\n29927  2020-09-09    1037526  Россия   3.723571  2.020903",
      "text/html": "<div>\n<style scoped>\n    .dataframe tbody tr th:only-of-type {\n        vertical-align: middle;\n    }\n\n    .dataframe tbody tr th {\n        vertical-align: top;\n    }\n\n    .dataframe thead th {\n        text-align: right;\n    }\n</style>\n<table border=\"1\" class=\"dataframe\">\n  <thead>\n    <tr style=\"text-align: right;\">\n      <th></th>\n      <th>Date</th>\n      <th>Confirmed</th>\n      <th>Country</th>\n      <th>Rate_conf</th>\n      <th>Rate_ill</th>\n    </tr>\n  </thead>\n  <tbody>\n    <tr>\n      <th>29908</th>\n      <td>2020-08-21</td>\n      <td>944671</td>\n      <td>Россия</td>\n      <td>4.116922</td>\n      <td>2.271603</td>\n    </tr>\n    <tr>\n      <th>29909</th>\n      <td>2020-08-22</td>\n      <td>949531</td>\n      <td>Россия</td>\n      <td>4.090767</td>\n      <td>2.238049</td>\n    </tr>\n    <tr>\n      <th>29910</th>\n      <td>2020-08-23</td>\n      <td>954328</td>\n      <td>Россия</td>\n      <td>4.075276</td>\n      <td>2.263089</td>\n    </tr>\n    <tr>\n      <th>29911</th>\n      <td>2020-08-24</td>\n      <td>959016</td>\n      <td>Россия</td>\n      <td>4.056090</td>\n      <td>2.285446</td>\n    </tr>\n    <tr>\n      <th>29912</th>\n      <td>2020-08-25</td>\n      <td>963655</td>\n      <td>Россия</td>\n      <td>4.034412</td>\n      <td>2.256850</td>\n    </tr>\n    <tr>\n      <th>29913</th>\n      <td>2020-08-26</td>\n      <td>968297</td>\n      <td>Россия</td>\n      <td>4.005573</td>\n      <td>2.216065</td>\n    </tr>\n    <tr>\n      <th>29914</th>\n      <td>2020-08-27</td>\n      <td>972972</td>\n      <td>Россия</td>\n      <td>3.978956</td>\n      <td>2.171644</td>\n    </tr>\n    <tr>\n      <th>29915</th>\n      <td>2020-08-28</td>\n      <td>977730</td>\n      <td>Россия</td>\n      <td>3.952908</td>\n      <td>2.134503</td>\n    </tr>\n    <tr>\n      <th>29916</th>\n      <td>2020-08-29</td>\n      <td>982573</td>\n      <td>Россия</td>\n      <td>3.930849</td>\n      <td>2.107445</td>\n    </tr>\n    <tr>\n      <th>29917</th>\n      <td>2020-08-30</td>\n      <td>987470</td>\n      <td>Россия</td>\n      <td>3.915004</td>\n      <td>2.132701</td>\n    </tr>\n    <tr>\n      <th>29918</th>\n      <td>2020-08-31</td>\n      <td>992402</td>\n      <td>Россия</td>\n      <td>3.894099</td>\n      <td>2.148662</td>\n    </tr>\n    <tr>\n      <th>29919</th>\n      <td>2020-09-01</td>\n      <td>997072</td>\n      <td>Россия</td>\n      <td>3.872178</td>\n      <td>2.125728</td>\n    </tr>\n    <tr>\n      <th>29920</th>\n      <td>2020-09-02</td>\n      <td>1001965</td>\n      <td>Россия</td>\n      <td>3.849062</td>\n      <td>2.101909</td>\n    </tr>\n    <tr>\n      <th>29921</th>\n      <td>2020-09-03</td>\n      <td>1006923</td>\n      <td>Россия</td>\n      <td>3.827898</td>\n      <td>2.078125</td>\n    </tr>\n    <tr>\n      <th>29922</th>\n      <td>2020-09-04</td>\n      <td>1011987</td>\n      <td>Россия</td>\n      <td>3.801894</td>\n      <td>2.043870</td>\n    </tr>\n    <tr>\n      <th>29923</th>\n      <td>2020-09-05</td>\n      <td>1017131</td>\n      <td>Россия</td>\n      <td>3.783752</td>\n      <td>2.025320</td>\n    </tr>\n    <tr>\n      <th>29924</th>\n      <td>2020-09-06</td>\n      <td>1022228</td>\n      <td>Россия</td>\n      <td>3.771524</td>\n      <td>2.050921</td>\n    </tr>\n    <tr>\n      <th>29925</th>\n      <td>2020-09-07</td>\n      <td>1027334</td>\n      <td>Россия</td>\n      <td>3.757930</td>\n      <td>2.078172</td>\n    </tr>\n    <tr>\n      <th>29926</th>\n      <td>2020-09-08</td>\n      <td>1032354</td>\n      <td>Россия</td>\n      <td>3.744382</td>\n      <td>2.045277</td>\n    </tr>\n    <tr>\n      <th>29927</th>\n      <td>2020-09-09</td>\n      <td>1037526</td>\n      <td>Россия</td>\n      <td>3.723571</td>\n      <td>2.020903</td>\n    </tr>\n  </tbody>\n</table>\n</div>"
     },
     "metadata": {},
     "execution_count": 7
    }
   ],
   "source": [
    "# Проверка расчетов процентных показателей\n",
    "mask = (X.Date>=datetime.date(2020,6,13))&(X.Country.isin(['Весь мир','Россия']))\n",
    "\n",
    "temp=X[mask]\n",
    "temp[['Date','Confirmed','Country','Rate_conf','Rate_ill']].tail(20)"
   ]
  },
  {
   "cell_type": "code",
   "execution_count": 8,
   "metadata": {},
   "outputs": [],
   "source": [
    "X.to_csv('W.csv',index=False)"
   ]
  },
  {
   "cell_type": "code",
   "execution_count": null,
   "metadata": {},
   "outputs": [],
   "source": []
  }
 ],
 "metadata": {
  "kernelspec": {
   "display_name": "Python 3.8.3 64-bit ('covid': venv)",
   "language": "python",
   "name": "python_defaultSpec_1599728822590"
  },
  "language_info": {
   "codemirror_mode": {
    "name": "ipython",
    "version": 3
   },
   "file_extension": ".py",
   "mimetype": "text/x-python",
   "name": "python",
   "nbconvert_exporter": "python",
   "pygments_lexer": "ipython3",
   "version": "3.8.3-final"
  }
 },
 "nbformat": 4,
 "nbformat_minor": 4
}