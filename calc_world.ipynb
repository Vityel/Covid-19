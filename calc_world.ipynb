{
 "cells": [
  {
   "cell_type": "code",
   "execution_count": 1,
   "metadata": {},
   "outputs": [],
   "source": [
    "import pandas as pd\n",
    "import datetime\n",
    "import plotly.graph_objects as go\n",
    "import plotly.express as px\n",
    "import plotly.figure_factory as ff\n",
    "\n",
    "\n"
   ]
  },
  {
   "cell_type": "code",
   "execution_count": 2,
   "metadata": {},
   "outputs": [
    {
     "output_type": "execute_result",
     "data": {
      "text/plain": "      Country        Date  Confirmed  Recovered  Deaths  Day_confirmed  \\\n42429  Япония  2020-08-16      56074      40560    1103           1023   \n42430  Япония  2020-08-17      56717      41591    1112            643   \n42431  Япония  2020-08-18      57636      42965    1135            919   \n42432  Япония  2020-08-19      58728      43786    1148           1092   \n42433  Япония  2020-08-20      59900      45110    1157           1172   \n42434  Япония  2020-08-21      60949      46264    1175           1049   \n42435  Япония  2020-08-22      61916      47418    1179            967   \n42436  Япония  2020-08-23      62658      48319    1188            742   \n42437  Япония  2020-08-24      63158      49089    1201            500   \n42438  Япония  2020-08-25      63888      50092    1219            730   \n42439  Япония  2020-08-26      64779      51407    1230            891   \n42440  Япония  2020-08-27      65653      52542    1241            874   \n42441  Япония  2020-08-28      66499      53691    1251            846   \n42442  Япония  2020-08-29      67353      54883    1271            854   \n42443  Япония  2020-08-30      67958      55700    1285            605   \n42444  Япония  2020-08-31      68396      56338    1298            438   \n42445  Япония  2020-09-01      69023      57503    1313            627   \n42446  Япония  2020-09-02      69619      58108    1327            596   \n42447  Япония  2020-09-03      70278      58200    1334            659   \n42448  Япония  2020-09-04      70866      60093    1352            588   \n\n       Day_recovered  Day_deaths  \n42429           1121          10  \n42430           1031           9  \n42431           1374          23  \n42432            821          13  \n42433           1324           9  \n42434           1154          18  \n42435           1154           4  \n42436            901           9  \n42437            770          13  \n42438           1003          18  \n42439           1315          11  \n42440           1135          11  \n42441           1149          10  \n42442           1192          20  \n42443            817          14  \n42444            638          13  \n42445           1165          15  \n42446            605          14  \n42447             92           7  \n42448           1893          18  ",
      "text/html": "<div>\n<style scoped>\n    .dataframe tbody tr th:only-of-type {\n        vertical-align: middle;\n    }\n\n    .dataframe tbody tr th {\n        vertical-align: top;\n    }\n\n    .dataframe thead th {\n        text-align: right;\n    }\n</style>\n<table border=\"1\" class=\"dataframe\">\n  <thead>\n    <tr style=\"text-align: right;\">\n      <th></th>\n      <th>Country</th>\n      <th>Date</th>\n      <th>Confirmed</th>\n      <th>Recovered</th>\n      <th>Deaths</th>\n      <th>Day_confirmed</th>\n      <th>Day_recovered</th>\n      <th>Day_deaths</th>\n    </tr>\n  </thead>\n  <tbody>\n    <tr>\n      <th>42429</th>\n      <td>Япония</td>\n      <td>2020-08-16</td>\n      <td>56074</td>\n      <td>40560</td>\n      <td>1103</td>\n      <td>1023</td>\n      <td>1121</td>\n      <td>10</td>\n    </tr>\n    <tr>\n      <th>42430</th>\n      <td>Япония</td>\n      <td>2020-08-17</td>\n      <td>56717</td>\n      <td>41591</td>\n      <td>1112</td>\n      <td>643</td>\n      <td>1031</td>\n      <td>9</td>\n    </tr>\n    <tr>\n      <th>42431</th>\n      <td>Япония</td>\n      <td>2020-08-18</td>\n      <td>57636</td>\n      <td>42965</td>\n      <td>1135</td>\n      <td>919</td>\n      <td>1374</td>\n      <td>23</td>\n    </tr>\n    <tr>\n      <th>42432</th>\n      <td>Япония</td>\n      <td>2020-08-19</td>\n      <td>58728</td>\n      <td>43786</td>\n      <td>1148</td>\n      <td>1092</td>\n      <td>821</td>\n      <td>13</td>\n    </tr>\n    <tr>\n      <th>42433</th>\n      <td>Япония</td>\n      <td>2020-08-20</td>\n      <td>59900</td>\n      <td>45110</td>\n      <td>1157</td>\n      <td>1172</td>\n      <td>1324</td>\n      <td>9</td>\n    </tr>\n    <tr>\n      <th>42434</th>\n      <td>Япония</td>\n      <td>2020-08-21</td>\n      <td>60949</td>\n      <td>46264</td>\n      <td>1175</td>\n      <td>1049</td>\n      <td>1154</td>\n      <td>18</td>\n    </tr>\n    <tr>\n      <th>42435</th>\n      <td>Япония</td>\n      <td>2020-08-22</td>\n      <td>61916</td>\n      <td>47418</td>\n      <td>1179</td>\n      <td>967</td>\n      <td>1154</td>\n      <td>4</td>\n    </tr>\n    <tr>\n      <th>42436</th>\n      <td>Япония</td>\n      <td>2020-08-23</td>\n      <td>62658</td>\n      <td>48319</td>\n      <td>1188</td>\n      <td>742</td>\n      <td>901</td>\n      <td>9</td>\n    </tr>\n    <tr>\n      <th>42437</th>\n      <td>Япония</td>\n      <td>2020-08-24</td>\n      <td>63158</td>\n      <td>49089</td>\n      <td>1201</td>\n      <td>500</td>\n      <td>770</td>\n      <td>13</td>\n    </tr>\n    <tr>\n      <th>42438</th>\n      <td>Япония</td>\n      <td>2020-08-25</td>\n      <td>63888</td>\n      <td>50092</td>\n      <td>1219</td>\n      <td>730</td>\n      <td>1003</td>\n      <td>18</td>\n    </tr>\n    <tr>\n      <th>42439</th>\n      <td>Япония</td>\n      <td>2020-08-26</td>\n      <td>64779</td>\n      <td>51407</td>\n      <td>1230</td>\n      <td>891</td>\n      <td>1315</td>\n      <td>11</td>\n    </tr>\n    <tr>\n      <th>42440</th>\n      <td>Япония</td>\n      <td>2020-08-27</td>\n      <td>65653</td>\n      <td>52542</td>\n      <td>1241</td>\n      <td>874</td>\n      <td>1135</td>\n      <td>11</td>\n    </tr>\n    <tr>\n      <th>42441</th>\n      <td>Япония</td>\n      <td>2020-08-28</td>\n      <td>66499</td>\n      <td>53691</td>\n      <td>1251</td>\n      <td>846</td>\n      <td>1149</td>\n      <td>10</td>\n    </tr>\n    <tr>\n      <th>42442</th>\n      <td>Япония</td>\n      <td>2020-08-29</td>\n      <td>67353</td>\n      <td>54883</td>\n      <td>1271</td>\n      <td>854</td>\n      <td>1192</td>\n      <td>20</td>\n    </tr>\n    <tr>\n      <th>42443</th>\n      <td>Япония</td>\n      <td>2020-08-30</td>\n      <td>67958</td>\n      <td>55700</td>\n      <td>1285</td>\n      <td>605</td>\n      <td>817</td>\n      <td>14</td>\n    </tr>\n    <tr>\n      <th>42444</th>\n      <td>Япония</td>\n      <td>2020-08-31</td>\n      <td>68396</td>\n      <td>56338</td>\n      <td>1298</td>\n      <td>438</td>\n      <td>638</td>\n      <td>13</td>\n    </tr>\n    <tr>\n      <th>42445</th>\n      <td>Япония</td>\n      <td>2020-09-01</td>\n      <td>69023</td>\n      <td>57503</td>\n      <td>1313</td>\n      <td>627</td>\n      <td>1165</td>\n      <td>15</td>\n    </tr>\n    <tr>\n      <th>42446</th>\n      <td>Япония</td>\n      <td>2020-09-02</td>\n      <td>69619</td>\n      <td>58108</td>\n      <td>1327</td>\n      <td>596</td>\n      <td>605</td>\n      <td>14</td>\n    </tr>\n    <tr>\n      <th>42447</th>\n      <td>Япония</td>\n      <td>2020-09-03</td>\n      <td>70278</td>\n      <td>58200</td>\n      <td>1334</td>\n      <td>659</td>\n      <td>92</td>\n      <td>7</td>\n    </tr>\n    <tr>\n      <th>42448</th>\n      <td>Япония</td>\n      <td>2020-09-04</td>\n      <td>70866</td>\n      <td>60093</td>\n      <td>1352</td>\n      <td>588</td>\n      <td>1893</td>\n      <td>18</td>\n    </tr>\n  </tbody>\n</table>\n</div>"
     },
     "metadata": {},
     "execution_count": 2
    }
   ],
   "source": [
    "yandex_world = pd.read_csv('yandex_world.csv')\n",
    "yandex_world.rename(columns = {'Дата':'Date','Страна':'Country','Заражений':'Confirmed','Выздоровлений':'Recovered',\n",
    "                               'Смертей':'Deaths','Смертей за день':'Day_deaths',\n",
    "                               'Заражений за день':'Day_confirmed','Выздоровлений за день':'Day_recovered'},inplace = True)\n",
    "for i in range(yandex_world.shape[0]):\n",
    "    a= yandex_world.Date[i].split('.')\n",
    "    yandex_world.Date[i]=datetime.date(int(a[2]),int(a[1]),int(a[0]))\n",
    "\n",
    "yandex_world.tail(20)"
   ]
  },
  {
   "cell_type": "code",
   "execution_count": 3,
   "metadata": {},
   "outputs": [
    {
     "output_type": "execute_result",
     "data": {
      "text/plain": "      Country        Date  Confirmed  Recovered  Deaths  Day_confirmed  \\\n217  Весь мир  2020-08-26   24173588   15794441  825661         287751   \n218  Весь мир  2020-08-27   24452689   15995995  831547         279101   \n219  Весь мир  2020-08-28   24734448   16196934  837080         281759   \n220  Весь мир  2020-08-29   24996456   16408559  842452         262008   \n221  Весь мир  2020-08-30   25222709   16616995  846353         226253   \n222  Весь мир  2020-08-31   25484767   16818436  850535         262058   \n223  Весь мир  2020-09-01   25749642   17073236  857015         264875   \n224  Весь мир  2020-09-02   26031410   17291874  863028         281768   \n225  Весь мир  2020-09-03   26304856   17512585  868733         273446   \n226  Весь мир  2020-09-04   26609482   17717266  874369         304626   \n\n     Day_recovered  Day_deaths  \n217         224250        6282  \n218         201554        5886  \n219         200939        5533  \n220         211625        5372  \n221         208436        3901  \n222         201441        4182  \n223         254800        6480  \n224         218638        6013  \n225         220711        5705  \n226         204681        5636  ",
      "text/html": "<div>\n<style scoped>\n    .dataframe tbody tr th:only-of-type {\n        vertical-align: middle;\n    }\n\n    .dataframe tbody tr th {\n        vertical-align: top;\n    }\n\n    .dataframe thead th {\n        text-align: right;\n    }\n</style>\n<table border=\"1\" class=\"dataframe\">\n  <thead>\n    <tr style=\"text-align: right;\">\n      <th></th>\n      <th>Country</th>\n      <th>Date</th>\n      <th>Confirmed</th>\n      <th>Recovered</th>\n      <th>Deaths</th>\n      <th>Day_confirmed</th>\n      <th>Day_recovered</th>\n      <th>Day_deaths</th>\n    </tr>\n  </thead>\n  <tbody>\n    <tr>\n      <th>217</th>\n      <td>Весь мир</td>\n      <td>2020-08-26</td>\n      <td>24173588</td>\n      <td>15794441</td>\n      <td>825661</td>\n      <td>287751</td>\n      <td>224250</td>\n      <td>6282</td>\n    </tr>\n    <tr>\n      <th>218</th>\n      <td>Весь мир</td>\n      <td>2020-08-27</td>\n      <td>24452689</td>\n      <td>15995995</td>\n      <td>831547</td>\n      <td>279101</td>\n      <td>201554</td>\n      <td>5886</td>\n    </tr>\n    <tr>\n      <th>219</th>\n      <td>Весь мир</td>\n      <td>2020-08-28</td>\n      <td>24734448</td>\n      <td>16196934</td>\n      <td>837080</td>\n      <td>281759</td>\n      <td>200939</td>\n      <td>5533</td>\n    </tr>\n    <tr>\n      <th>220</th>\n      <td>Весь мир</td>\n      <td>2020-08-29</td>\n      <td>24996456</td>\n      <td>16408559</td>\n      <td>842452</td>\n      <td>262008</td>\n      <td>211625</td>\n      <td>5372</td>\n    </tr>\n    <tr>\n      <th>221</th>\n      <td>Весь мир</td>\n      <td>2020-08-30</td>\n      <td>25222709</td>\n      <td>16616995</td>\n      <td>846353</td>\n      <td>226253</td>\n      <td>208436</td>\n      <td>3901</td>\n    </tr>\n    <tr>\n      <th>222</th>\n      <td>Весь мир</td>\n      <td>2020-08-31</td>\n      <td>25484767</td>\n      <td>16818436</td>\n      <td>850535</td>\n      <td>262058</td>\n      <td>201441</td>\n      <td>4182</td>\n    </tr>\n    <tr>\n      <th>223</th>\n      <td>Весь мир</td>\n      <td>2020-09-01</td>\n      <td>25749642</td>\n      <td>17073236</td>\n      <td>857015</td>\n      <td>264875</td>\n      <td>254800</td>\n      <td>6480</td>\n    </tr>\n    <tr>\n      <th>224</th>\n      <td>Весь мир</td>\n      <td>2020-09-02</td>\n      <td>26031410</td>\n      <td>17291874</td>\n      <td>863028</td>\n      <td>281768</td>\n      <td>218638</td>\n      <td>6013</td>\n    </tr>\n    <tr>\n      <th>225</th>\n      <td>Весь мир</td>\n      <td>2020-09-03</td>\n      <td>26304856</td>\n      <td>17512585</td>\n      <td>868733</td>\n      <td>273446</td>\n      <td>220711</td>\n      <td>5705</td>\n    </tr>\n    <tr>\n      <th>226</th>\n      <td>Весь мир</td>\n      <td>2020-09-04</td>\n      <td>26609482</td>\n      <td>17717266</td>\n      <td>874369</td>\n      <td>304626</td>\n      <td>204681</td>\n      <td>5636</td>\n    </tr>\n  </tbody>\n</table>\n</div>"
     },
     "metadata": {},
     "execution_count": 3
    }
   ],
   "source": [
    "df3_temp = yandex_world.groupby('Date').sum()\n",
    "df3_temp['Country']='Весь мир'\n",
    "\n",
    "y5= pd.concat([yandex_world,df3_temp.reset_index()],axis = 0)\n",
    "y5.reset_index()\n",
    "yandex_world = y5\n",
    "yandex_world.tail(10)"
   ]
  },
  {
   "cell_type": "code",
   "execution_count": 4,
   "metadata": {
    "tags": []
   },
   "outputs": [
    {
     "output_type": "stream",
     "name": "stdout",
     "text": "Весь мир\nВыбран день:  2020-09-04\n"
    }
   ],
   "source": [
    "# dt = datetime.datetime.today()\n",
    "# today = datetime.date(dt.year,dt.month,dt.day)\n",
    "# ystday = datetime.date(today.year,today.month,today.day-1)\n",
    "# yst2day = datetime.date(today.year,today.month,today.day-2)\n",
    "# yst3day = datetime.date(today.year,today.month,today.day-3)\n",
    "\n",
    "# print(today)\n",
    "# print(ystday)\n",
    "# print(yst2day)\n",
    "# print(yst3day)\n",
    "myday = list(yandex_world.tail(1).Date)[0]\n",
    "\n",
    "print(yandex_world.iloc[-1,0])\n",
    "print('Выбран день: ',myday)"
   ]
  },
  {
   "cell_type": "code",
   "execution_count": 5,
   "metadata": {
    "tags": []
   },
   "outputs": [
    {
     "output_type": "stream",
     "name": "stdout",
     "text": "dict_items([(0, 'Австралия'), (1, 'Австрия'), (2, 'Азербайджан'), (3, 'Албания'), (4, 'Алжир'), (5, 'Ангола'), (6, 'Андорра'), (7, 'Антигуа и Барбуда'), (8, 'Аргентина'), (9, 'Армения'), (10, 'Афганистан'), (11, 'Багамские острова'), (12, 'Бангладеш'), (13, 'Барбадос'), (14, 'Бахрейн'), (15, 'Беларусь'), (16, 'Белиз'), (17, 'Бельгия'), (18, 'Бенин'), (19, 'Болгария'), (20, 'Боливия'), (21, 'Босния и Герцеговина'), (22, 'Ботсвана'), (23, 'Бразилия'), (24, 'Бруней'), (25, 'Буркина-Фасо'), (26, 'Бурунди'), (27, 'Бутан'), (28, 'Великобритания'), (29, 'Венгрия'), (30, 'Венесуэла'), (31, 'Весь мир'), (32, 'Восточный Тимор'), (33, 'Вьетнам'), (34, 'Габон'), (35, 'Гаити'), (36, 'Гайана'), (37, 'Гамбия'), (38, 'Гана'), (39, 'Гватемала'), (40, 'Гвинея'), (41, 'Гвинея-Бисау'), (42, 'Германия'), (43, 'Гондурас'), (44, 'Гренада'), (45, 'Греция'), (46, 'Грузия'), (47, 'ДР Конго'), (48, 'Дания'), (49, 'Джибути'), (50, 'Доминика'), (51, 'Доминиканская Республика'), (52, 'Египет'), (53, 'Замбия'), (54, 'Западная Сахара'), (55, 'Западный берег реки Иордан'), (56, 'Зимбабве'), (57, 'Израиль'), (58, 'Индия'), (59, 'Индонезия'), (60, 'Иордания'), (61, 'Ирак'), (62, 'Иран'), (63, 'Ирландия'), (64, 'Исландия'), (65, 'Испания'), (66, 'Италия'), (67, 'Йемен'), (68, 'Кабо-Верде'), (69, 'Казахстан'), (70, 'Камбоджа'), (71, 'Камерун'), (72, 'Канада'), (73, 'Катар'), (74, 'Кения'), (75, 'Кипр'), (76, 'Киргизия'), (77, 'Китай'), (78, 'Колумбия'), (79, 'Коморские острова'), (80, 'Косово и Метохия'), (81, 'Коста-Рика'), (82, 'Кот-д’Ивуар'), (83, 'Куба'), (84, 'Кувейт'), (85, 'Лаос'), (86, 'Латвия'), (87, 'Лесото'), (88, 'Либерия'), (89, 'Ливан'), (90, 'Ливия'), (91, 'Литва'), (92, 'Лихтенштейн'), (93, 'Люксембург'), (94, 'Маврикий'), (95, 'Мавритания'), (96, 'Мадагаскар'), (97, 'Малави'), (98, 'Малайзия'), (99, 'Мали'), (100, 'Мальдивы'), (101, 'Мальта'), (102, 'Марокко'), (103, 'Мексика'), (104, 'Мозамбик'), (105, 'Молдавия'), (106, 'Монако'), (107, 'Монголия'), (108, 'Мьянма'), (109, 'Намибия'), (110, 'Непал'), (111, 'Нигер'), (112, 'Нигерия'), (113, 'Нидерланды'), (114, 'Никарагуа'), (115, 'Новая Зеландия'), (116, 'Норвегия'), (117, 'ОАЭ'), (118, 'Оман'), (119, 'Пакистан'), (120, 'Панама'), (121, 'Папский Престол'), (122, 'Папуа — Новая Гвинея'), (123, 'Парагвай'), (124, 'Перу'), (125, 'Польша'), (126, 'Португалия'), (127, 'Республика Конго'), (128, 'Россия'), (129, 'Руанда'), (130, 'Румыния'), (131, 'США'), (132, 'Сальвадор'), (133, 'Сан-Марино'), (134, 'Сан-Томе и Принсипи'), (135, 'Саудовская Аравия'), (136, 'Северная Македония'), (137, 'Сейшельские острова'), (138, 'Сенегал'), (139, 'Сент-Винсент и Гренадины'), (140, 'Сент-Китс и Невис'), (141, 'Сент-Люсия'), (142, 'Сербия'), (143, 'Сингапур'), (144, 'Сирия'), (145, 'Словакия'), (146, 'Словения'), (147, 'Сомали'), (148, 'Судан'), (149, 'Судно \"Diamond Princess\"'), (150, 'Судно \"MS Zaandam\"'), (151, 'Суринам'), (152, 'Сьерра-Леоне'), (153, 'Таджикистан'), (154, 'Таиланд'), (155, 'Танзания'), (156, 'Того'), (157, 'Тринидад и Тобаго'), (158, 'Тунис'), (159, 'Турция'), (160, 'Уганда'), (161, 'Узбекистан'), (162, 'Украина'), (163, 'Уругвай'), (164, 'Фиджи'), (165, 'Филиппины'), (166, 'Финляндия'), (167, 'Франция'), (168, 'Хорватия'), (169, 'ЦАР'), (170, 'Чад'), (171, 'Черногория'), (172, 'Чехия'), (173, 'Чили'), (174, 'Швейцария'), (175, 'Швеция'), (176, 'Шри-Ланка'), (177, 'Эквадор'), (178, 'Экваториальная Гвинея'), (179, 'Эритрея'), (180, 'Эсватини'), (181, 'Эстония'), (182, 'Эфиопия'), (183, 'ЮАР'), (184, 'Южная Корея'), (185, 'Южный Судан'), (186, 'Ямайка'), (187, 'Япония')])\n"
    },
    {
     "output_type": "execute_result",
     "data": {
      "text/plain": "             Date  Confirmed  Recovered  Deaths  Day_confirmed  Day_recovered  \\\n42671  2020-08-31      68396      56338    1298            438            638   \n42672  2020-09-01      69023      57503    1313            627           1165   \n42673  2020-09-02      69619      58108    1327            596            605   \n42674  2020-09-03      70278      58200    1334            659             92   \n42675  2020-09-04      70866      60093    1352            588           1893   \n\n       Day_deaths     Rt    Rt2  Rate_conf  Rate_ill Country  Remaining_ill  \\\n42671          13  0.916  1.049          0         0  Япония          10760   \n42672          15  0.755  1.046          0         0  Япония          10207   \n42673          14  0.654  1.041          0         0  Япония          10184   \n42674           7  0.730  1.037          0         0  Япония          10744   \n42675          18  0.900  1.035          0         0  Япония           9421   \n\n       MA7_dayconfirmed  MA14_dayconfirmed  MA7_remaining_ill  \\\n42671        748.285714         834.214286       11582.571429   \n42672        733.571429         813.357143       11244.000000   \n42673        691.428571         777.928571       10964.285714   \n42674        660.714286         741.285714       10803.428571   \n42675        623.857143         708.357143       10498.285714   \n\n       MA14_remaining_ill  Change_dayconf  Change_remill  \n42671        12492.071429            -167           -213  \n42672        12254.285714             189           -553  \n42673        11996.428571             -31            -23  \n42674        11790.071429              63            560  \n42675        11498.000000             -71          -1323  ",
      "text/html": "<div>\n<style scoped>\n    .dataframe tbody tr th:only-of-type {\n        vertical-align: middle;\n    }\n\n    .dataframe tbody tr th {\n        vertical-align: top;\n    }\n\n    .dataframe thead th {\n        text-align: right;\n    }\n</style>\n<table border=\"1\" class=\"dataframe\">\n  <thead>\n    <tr style=\"text-align: right;\">\n      <th></th>\n      <th>Date</th>\n      <th>Confirmed</th>\n      <th>Recovered</th>\n      <th>Deaths</th>\n      <th>Day_confirmed</th>\n      <th>Day_recovered</th>\n      <th>Day_deaths</th>\n      <th>Rt</th>\n      <th>Rt2</th>\n      <th>Rate_conf</th>\n      <th>Rate_ill</th>\n      <th>Country</th>\n      <th>Remaining_ill</th>\n      <th>MA7_dayconfirmed</th>\n      <th>MA14_dayconfirmed</th>\n      <th>MA7_remaining_ill</th>\n      <th>MA14_remaining_ill</th>\n      <th>Change_dayconf</th>\n      <th>Change_remill</th>\n    </tr>\n  </thead>\n  <tbody>\n    <tr>\n      <th>42671</th>\n      <td>2020-08-31</td>\n      <td>68396</td>\n      <td>56338</td>\n      <td>1298</td>\n      <td>438</td>\n      <td>638</td>\n      <td>13</td>\n      <td>0.916</td>\n      <td>1.049</td>\n      <td>0</td>\n      <td>0</td>\n      <td>Япония</td>\n      <td>10760</td>\n      <td>748.285714</td>\n      <td>834.214286</td>\n      <td>11582.571429</td>\n      <td>12492.071429</td>\n      <td>-167</td>\n      <td>-213</td>\n    </tr>\n    <tr>\n      <th>42672</th>\n      <td>2020-09-01</td>\n      <td>69023</td>\n      <td>57503</td>\n      <td>1313</td>\n      <td>627</td>\n      <td>1165</td>\n      <td>15</td>\n      <td>0.755</td>\n      <td>1.046</td>\n      <td>0</td>\n      <td>0</td>\n      <td>Япония</td>\n      <td>10207</td>\n      <td>733.571429</td>\n      <td>813.357143</td>\n      <td>11244.000000</td>\n      <td>12254.285714</td>\n      <td>189</td>\n      <td>-553</td>\n    </tr>\n    <tr>\n      <th>42673</th>\n      <td>2020-09-02</td>\n      <td>69619</td>\n      <td>58108</td>\n      <td>1327</td>\n      <td>596</td>\n      <td>605</td>\n      <td>14</td>\n      <td>0.654</td>\n      <td>1.041</td>\n      <td>0</td>\n      <td>0</td>\n      <td>Япония</td>\n      <td>10184</td>\n      <td>691.428571</td>\n      <td>777.928571</td>\n      <td>10964.285714</td>\n      <td>11996.428571</td>\n      <td>-31</td>\n      <td>-23</td>\n    </tr>\n    <tr>\n      <th>42674</th>\n      <td>2020-09-03</td>\n      <td>70278</td>\n      <td>58200</td>\n      <td>1334</td>\n      <td>659</td>\n      <td>92</td>\n      <td>7</td>\n      <td>0.730</td>\n      <td>1.037</td>\n      <td>0</td>\n      <td>0</td>\n      <td>Япония</td>\n      <td>10744</td>\n      <td>660.714286</td>\n      <td>741.285714</td>\n      <td>10803.428571</td>\n      <td>11790.071429</td>\n      <td>63</td>\n      <td>560</td>\n    </tr>\n    <tr>\n      <th>42675</th>\n      <td>2020-09-04</td>\n      <td>70866</td>\n      <td>60093</td>\n      <td>1352</td>\n      <td>588</td>\n      <td>1893</td>\n      <td>18</td>\n      <td>0.900</td>\n      <td>1.035</td>\n      <td>0</td>\n      <td>0</td>\n      <td>Япония</td>\n      <td>9421</td>\n      <td>623.857143</td>\n      <td>708.357143</td>\n      <td>10498.285714</td>\n      <td>11498.000000</td>\n      <td>-71</td>\n      <td>-1323</td>\n    </tr>\n  </tbody>\n</table>\n</div>"
     },
     "metadata": {},
     "execution_count": 5
    }
   ],
   "source": [
    "X = pd.DataFrame()\n",
    "country_dict = {}\n",
    "yandex_world['Rt'] = 1\n",
    "yandex_world['Rt2'] = 1\n",
    "yandex_world['Rate_conf'] = 0\n",
    "yandex_world['Rate_ill'] = 0\n",
    "\n",
    "temp_df = yandex_world.groupby(['Country','Date']).sum()\n",
    "\n",
    "# Ниже enumerate  для составления словаря из имен регионов {i:j} , для расчетов можно было использовать только j\n",
    "\n",
    "for i,j in enumerate(temp_df.index.get_level_values(0).unique()):\n",
    "    temp_df2 =  temp_df.loc[j]\n",
    "    temp1 = temp_df2['Day_confirmed'].rolling(4).sum()/(temp_df2[\"Day_confirmed\"].rolling(8).sum()-\n",
    "\n",
    "                                                              temp_df2[\"Day_confirmed\"].rolling(4).sum())\n",
    "    temp2 = temp_df2['Confirmed'].rolling(4).sum()/(temp_df2['Confirmed'].rolling(8).sum()-\n",
    "\n",
    "                                                              temp_df2['Confirmed'].rolling(4).sum())\n",
    "    temp_df2['Rt'] = round(temp1,3)\n",
    "    temp_df2['Rt2'] = round(temp2,3)\n",
    "    temp_df2['Country'] = j\n",
    "    temp_df2['Remaining_ill']=temp_df2['Confirmed']-temp_df2['Recovered']-temp_df2['Deaths']\n",
    "    temp_df2['MA7_dayconfirmed']=temp_df2['Day_confirmed'].rolling(window=7).mean()\n",
    "    temp_df2['MA14_dayconfirmed']=temp_df2['Day_confirmed'].rolling(window=14).mean()\n",
    "    temp_df2['MA7_remaining_ill']=temp_df2['Remaining_ill'].rolling(window=7).mean()\n",
    "    temp_df2['MA14_remaining_ill']=temp_df2['Remaining_ill'].rolling(window=14).mean()\n",
    "    \n",
    "    temp_df2['Change_dayconf'] = 0\n",
    "    for k in range(1,temp_df2.shape[0]):\n",
    "        temp_df2['Change_dayconf'].iloc[k]=temp_df2['Day_confirmed'].iloc[k]-temp_df2['Day_confirmed'].iloc[k-1]\n",
    "    temp_df2['Change_remill'] = 0\n",
    "    for k in range(1,temp_df2.shape[0]):\n",
    "        temp_df2['Change_remill'].iloc[k]=temp_df2['Remaining_ill'].iloc[k]-temp_df2['Remaining_ill'].iloc[k-1]\n",
    "    \n",
    "    \n",
    "\n",
    "   #Генератор DF  на каждый регион(сидит в цикле):\n",
    "   # globals()['x' + str(i)] = temp_df2.reset_index()\n",
    "    \n",
    "    X = pd.concat([X,temp_df2.reset_index()],axis = 0)\n",
    "    country_dict[i]=j\n",
    "    \n",
    "print(country_dict.items())\n",
    "    \n",
    "X = X.reset_index(drop=True)\n",
    "X.tail()\n"
   ]
  },
  {
   "cell_type": "code",
   "execution_count": 6,
   "metadata": {
    "tags": []
   },
   "outputs": [
    {
     "output_type": "stream",
     "name": "stdout",
     "text": "Confirmed  Remaining_ill\nDate                                \n2020-09-03   26304856        7923538\n2020-09-04   26609482        8017847\n42676\n(42676, 19)\n2020-01-22\n"
    }
   ],
   "source": [
    "# Добавляем колонки расчитанные сколько доля их в процентах от суммарного показателя в мире\n",
    "mask = X.Country == 'Весь мир'\n",
    "temp_df = X[mask][['Date','Confirmed','Remaining_ill']]\n",
    "temp_df.index = temp_df.Date\n",
    "temp_df.drop(columns =['Date'], inplace = True)\n",
    "print(temp_df.tail(2))\n",
    "# print(temp_df.index.get_level_values(0))\n",
    "# temp_df.loc[datetime.date(2020,6,15),'Россия'].Confirmed\n",
    "# for i in temp_df.index.get_level_values(0).unique()[-2:]:\n",
    "#     print(temp_df.loc[i,'Россия'].Confirmed)\n",
    "world_date = list(temp_df.index)\n",
    "world_conf = list(temp_df.Confirmed)\n",
    "world_ill = list(temp_df.Remaining_ill)\n",
    "world_dict_conf = dict(zip(world_date,world_conf))\n",
    "world_dict_ill = dict(zip(world_date,world_ill))\n",
    "\n",
    "print(len(X))\n",
    "print(X.shape)\n",
    "print(X.loc[0,'Date'])\n",
    "for i in range(len(X)):\n",
    "    X.loc[i,'Rate_conf']=100*X.loc[i,'Confirmed']/world_dict_conf.get(X.loc[i,'Date'])\n",
    "    X.loc[i,'Rate_ill']=100*X.loc[i,'Remaining_ill']/world_dict_ill.get(X.loc[i,'Date'])\n"
   ]
  },
  {
   "cell_type": "code",
   "execution_count": 7,
   "metadata": {},
   "outputs": [
    {
     "output_type": "execute_result",
     "data": {
      "text/plain": "             Date  Confirmed Country  Rate_conf  Rate_ill\n29263  2020-08-16     920719  Россия   4.248941  2.403870\n29264  2020-08-17     925558  Россия   4.230451  2.428974\n29265  2020-08-18     930276  Россия   4.202799  2.395846\n29266  2020-08-19     935066  Россия   4.172872  2.351057\n29267  2020-08-20     939833  Россия   4.144738  2.314787\n29268  2020-08-21     944671  Россия   4.116922  2.271603\n29269  2020-08-22     949531  Россия   4.092711  2.237980\n29270  2020-08-23     954328  Россия   4.075279  2.262972\n29271  2020-08-24     959016  Россия   4.056096  2.285328\n29272  2020-08-25     963655  Россия   4.034420  2.256737\n29273  2020-08-26     968297  Россия   4.005599  2.215957\n29274  2020-08-27     972972  Россия   3.978998  2.171565\n29275  2020-08-28     977730  Россия   3.952908  2.134503\n29276  2020-08-29     982573  Россия   3.930849  2.107445\n29277  2020-08-30     987470  Россия   3.915004  2.132701\n29278  2020-08-31     992402  Россия   3.894099  2.148662\n29279  2020-09-01     997072  Россия   3.872178  2.125728\n29280  2020-09-02    1001965  Россия   3.849062  2.101909\n29281  2020-09-03    1006923  Россия   3.827898  2.078125\n29282  2020-09-04    1011987  Россия   3.803107  2.043653",
      "text/html": "<div>\n<style scoped>\n    .dataframe tbody tr th:only-of-type {\n        vertical-align: middle;\n    }\n\n    .dataframe tbody tr th {\n        vertical-align: top;\n    }\n\n    .dataframe thead th {\n        text-align: right;\n    }\n</style>\n<table border=\"1\" class=\"dataframe\">\n  <thead>\n    <tr style=\"text-align: right;\">\n      <th></th>\n      <th>Date</th>\n      <th>Confirmed</th>\n      <th>Country</th>\n      <th>Rate_conf</th>\n      <th>Rate_ill</th>\n    </tr>\n  </thead>\n  <tbody>\n    <tr>\n      <th>29263</th>\n      <td>2020-08-16</td>\n      <td>920719</td>\n      <td>Россия</td>\n      <td>4.248941</td>\n      <td>2.403870</td>\n    </tr>\n    <tr>\n      <th>29264</th>\n      <td>2020-08-17</td>\n      <td>925558</td>\n      <td>Россия</td>\n      <td>4.230451</td>\n      <td>2.428974</td>\n    </tr>\n    <tr>\n      <th>29265</th>\n      <td>2020-08-18</td>\n      <td>930276</td>\n      <td>Россия</td>\n      <td>4.202799</td>\n      <td>2.395846</td>\n    </tr>\n    <tr>\n      <th>29266</th>\n      <td>2020-08-19</td>\n      <td>935066</td>\n      <td>Россия</td>\n      <td>4.172872</td>\n      <td>2.351057</td>\n    </tr>\n    <tr>\n      <th>29267</th>\n      <td>2020-08-20</td>\n      <td>939833</td>\n      <td>Россия</td>\n      <td>4.144738</td>\n      <td>2.314787</td>\n    </tr>\n    <tr>\n      <th>29268</th>\n      <td>2020-08-21</td>\n      <td>944671</td>\n      <td>Россия</td>\n      <td>4.116922</td>\n      <td>2.271603</td>\n    </tr>\n    <tr>\n      <th>29269</th>\n      <td>2020-08-22</td>\n      <td>949531</td>\n      <td>Россия</td>\n      <td>4.092711</td>\n      <td>2.237980</td>\n    </tr>\n    <tr>\n      <th>29270</th>\n      <td>2020-08-23</td>\n      <td>954328</td>\n      <td>Россия</td>\n      <td>4.075279</td>\n      <td>2.262972</td>\n    </tr>\n    <tr>\n      <th>29271</th>\n      <td>2020-08-24</td>\n      <td>959016</td>\n      <td>Россия</td>\n      <td>4.056096</td>\n      <td>2.285328</td>\n    </tr>\n    <tr>\n      <th>29272</th>\n      <td>2020-08-25</td>\n      <td>963655</td>\n      <td>Россия</td>\n      <td>4.034420</td>\n      <td>2.256737</td>\n    </tr>\n    <tr>\n      <th>29273</th>\n      <td>2020-08-26</td>\n      <td>968297</td>\n      <td>Россия</td>\n      <td>4.005599</td>\n      <td>2.215957</td>\n    </tr>\n    <tr>\n      <th>29274</th>\n      <td>2020-08-27</td>\n      <td>972972</td>\n      <td>Россия</td>\n      <td>3.978998</td>\n      <td>2.171565</td>\n    </tr>\n    <tr>\n      <th>29275</th>\n      <td>2020-08-28</td>\n      <td>977730</td>\n      <td>Россия</td>\n      <td>3.952908</td>\n      <td>2.134503</td>\n    </tr>\n    <tr>\n      <th>29276</th>\n      <td>2020-08-29</td>\n      <td>982573</td>\n      <td>Россия</td>\n      <td>3.930849</td>\n      <td>2.107445</td>\n    </tr>\n    <tr>\n      <th>29277</th>\n      <td>2020-08-30</td>\n      <td>987470</td>\n      <td>Россия</td>\n      <td>3.915004</td>\n      <td>2.132701</td>\n    </tr>\n    <tr>\n      <th>29278</th>\n      <td>2020-08-31</td>\n      <td>992402</td>\n      <td>Россия</td>\n      <td>3.894099</td>\n      <td>2.148662</td>\n    </tr>\n    <tr>\n      <th>29279</th>\n      <td>2020-09-01</td>\n      <td>997072</td>\n      <td>Россия</td>\n      <td>3.872178</td>\n      <td>2.125728</td>\n    </tr>\n    <tr>\n      <th>29280</th>\n      <td>2020-09-02</td>\n      <td>1001965</td>\n      <td>Россия</td>\n      <td>3.849062</td>\n      <td>2.101909</td>\n    </tr>\n    <tr>\n      <th>29281</th>\n      <td>2020-09-03</td>\n      <td>1006923</td>\n      <td>Россия</td>\n      <td>3.827898</td>\n      <td>2.078125</td>\n    </tr>\n    <tr>\n      <th>29282</th>\n      <td>2020-09-04</td>\n      <td>1011987</td>\n      <td>Россия</td>\n      <td>3.803107</td>\n      <td>2.043653</td>\n    </tr>\n  </tbody>\n</table>\n</div>"
     },
     "metadata": {},
     "execution_count": 7
    }
   ],
   "source": [
    "# Проверка расчетов процентных показателей\n",
    "mask = (X.Date>=datetime.date(2020,6,13))&(X.Country.isin(['Весь мир','Россия']))\n",
    "\n",
    "temp=X[mask]\n",
    "temp[['Date','Confirmed','Country','Rate_conf','Rate_ill']].tail(20)"
   ]
  },
  {
   "cell_type": "code",
   "execution_count": 8,
   "metadata": {},
   "outputs": [],
   "source": [
    "X.to_csv('W.csv',index=False)"
   ]
  },
  {
   "cell_type": "code",
   "execution_count": null,
   "metadata": {},
   "outputs": [],
   "source": []
  }
 ],
 "metadata": {
  "kernelspec": {
   "display_name": "Python 3.8.3 64-bit ('covid': venv)",
   "language": "python",
   "name": "python_defaultSpec_1599301809056"
  },
  "language_info": {
   "codemirror_mode": {
    "name": "ipython",
    "version": 3
   },
   "file_extension": ".py",
   "mimetype": "text/x-python",
   "name": "python",
   "nbconvert_exporter": "python",
   "pygments_lexer": "ipython3",
   "version": "3.8.3-final"
  }
 },
 "nbformat": 4,
 "nbformat_minor": 4
}