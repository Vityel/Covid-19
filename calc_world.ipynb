{
 "cells": [
  {
   "cell_type": "code",
   "execution_count": 1,
   "metadata": {},
   "outputs": [],
   "source": [
    "import pandas as pd\n",
    "import datetime\n",
    "import plotly.graph_objects as go\n",
    "import plotly.express as px\n",
    "import plotly.figure_factory as ff\n",
    "\n",
    "\n"
   ]
  },
  {
   "cell_type": "code",
   "execution_count": 2,
   "metadata": {},
   "outputs": [
    {
     "output_type": "execute_result",
     "data": {
      "text/plain": [
       "                   Country        Date  Confirmed  Recovered  Deaths  \\\n",
       "78863             Эсватини  2021-01-26      14830       9542     517   \n",
       "78864      Папский Престол  2020-04-05          7          0       0   \n",
       "78865             Исландия  2020-05-28       1805       1792      10   \n",
       "78866               Гвинея  2020-03-30         22          0       0   \n",
       "78867                Алжир  2020-10-01      51690      36282    1741   \n",
       "78868              Уругвай  2020-03-31        338         41       1   \n",
       "78869             Камбоджа  2020-08-01        240        196       0   \n",
       "78870                  США  2020-05-04    1191677     187180   72432   \n",
       "78871             Норвегия  2020-03-30       4445         12      32   \n",
       "78872         Гвинея-Бисау  2020-09-06       2245       1127      38   \n",
       "78873   Соломоновы острова  2020-02-17          0          0       0   \n",
       "78874               Греция  2020-02-23          0          0       0   \n",
       "78875            Гватемала  2021-03-02     175411     162481    6412   \n",
       "78876               Польша  2020-08-03      47469      34881    1732   \n",
       "78877               Ангола  2020-01-31          0          0       0   \n",
       "78878  Сейшельские острова  2020-01-25          0          0       0   \n",
       "78879               Япония  2020-08-27      65653      52542    1241   \n",
       "78880              Либерия  2020-11-06       1442       1310      82   \n",
       "78881              Вануату  2020-10-27          0          0       0   \n",
       "78882             Словакия  2020-08-13       2739       1939      31   \n",
       "\n",
       "       Day_confirmed  Day_recovered  Day_deaths  \n",
       "78863            208            148          24  \n",
       "78864              0              0           0  \n",
       "78865              0              0           0  \n",
       "78866              6              0           0  \n",
       "78867            160            108           5  \n",
       "78868             18             41           0  \n",
       "78869              1             32           0  \n",
       "78870          24085           7028        1378  \n",
       "78871            161              5           7  \n",
       "78872              0              0           0  \n",
       "78873              0              0           0  \n",
       "78874              0              0           0  \n",
       "78875            758            665          10  \n",
       "78876            575            172           1  \n",
       "78877              0              0           0  \n",
       "78878              0              0           0  \n",
       "78879            874           1135          11  \n",
       "78880              2              5           0  \n",
       "78881              0              0           0  \n",
       "78882             49             55           0  "
      ],
      "text/html": "<div>\n<style scoped>\n    .dataframe tbody tr th:only-of-type {\n        vertical-align: middle;\n    }\n\n    .dataframe tbody tr th {\n        vertical-align: top;\n    }\n\n    .dataframe thead th {\n        text-align: right;\n    }\n</style>\n<table border=\"1\" class=\"dataframe\">\n  <thead>\n    <tr style=\"text-align: right;\">\n      <th></th>\n      <th>Country</th>\n      <th>Date</th>\n      <th>Confirmed</th>\n      <th>Recovered</th>\n      <th>Deaths</th>\n      <th>Day_confirmed</th>\n      <th>Day_recovered</th>\n      <th>Day_deaths</th>\n    </tr>\n  </thead>\n  <tbody>\n    <tr>\n      <th>78863</th>\n      <td>Эсватини</td>\n      <td>2021-01-26</td>\n      <td>14830</td>\n      <td>9542</td>\n      <td>517</td>\n      <td>208</td>\n      <td>148</td>\n      <td>24</td>\n    </tr>\n    <tr>\n      <th>78864</th>\n      <td>Папский Престол</td>\n      <td>2020-04-05</td>\n      <td>7</td>\n      <td>0</td>\n      <td>0</td>\n      <td>0</td>\n      <td>0</td>\n      <td>0</td>\n    </tr>\n    <tr>\n      <th>78865</th>\n      <td>Исландия</td>\n      <td>2020-05-28</td>\n      <td>1805</td>\n      <td>1792</td>\n      <td>10</td>\n      <td>0</td>\n      <td>0</td>\n      <td>0</td>\n    </tr>\n    <tr>\n      <th>78866</th>\n      <td>Гвинея</td>\n      <td>2020-03-30</td>\n      <td>22</td>\n      <td>0</td>\n      <td>0</td>\n      <td>6</td>\n      <td>0</td>\n      <td>0</td>\n    </tr>\n    <tr>\n      <th>78867</th>\n      <td>Алжир</td>\n      <td>2020-10-01</td>\n      <td>51690</td>\n      <td>36282</td>\n      <td>1741</td>\n      <td>160</td>\n      <td>108</td>\n      <td>5</td>\n    </tr>\n    <tr>\n      <th>78868</th>\n      <td>Уругвай</td>\n      <td>2020-03-31</td>\n      <td>338</td>\n      <td>41</td>\n      <td>1</td>\n      <td>18</td>\n      <td>41</td>\n      <td>0</td>\n    </tr>\n    <tr>\n      <th>78869</th>\n      <td>Камбоджа</td>\n      <td>2020-08-01</td>\n      <td>240</td>\n      <td>196</td>\n      <td>0</td>\n      <td>1</td>\n      <td>32</td>\n      <td>0</td>\n    </tr>\n    <tr>\n      <th>78870</th>\n      <td>США</td>\n      <td>2020-05-04</td>\n      <td>1191677</td>\n      <td>187180</td>\n      <td>72432</td>\n      <td>24085</td>\n      <td>7028</td>\n      <td>1378</td>\n    </tr>\n    <tr>\n      <th>78871</th>\n      <td>Норвегия</td>\n      <td>2020-03-30</td>\n      <td>4445</td>\n      <td>12</td>\n      <td>32</td>\n      <td>161</td>\n      <td>5</td>\n      <td>7</td>\n    </tr>\n    <tr>\n      <th>78872</th>\n      <td>Гвинея-Бисау</td>\n      <td>2020-09-06</td>\n      <td>2245</td>\n      <td>1127</td>\n      <td>38</td>\n      <td>0</td>\n      <td>0</td>\n      <td>0</td>\n    </tr>\n    <tr>\n      <th>78873</th>\n      <td>Соломоновы острова</td>\n      <td>2020-02-17</td>\n      <td>0</td>\n      <td>0</td>\n      <td>0</td>\n      <td>0</td>\n      <td>0</td>\n      <td>0</td>\n    </tr>\n    <tr>\n      <th>78874</th>\n      <td>Греция</td>\n      <td>2020-02-23</td>\n      <td>0</td>\n      <td>0</td>\n      <td>0</td>\n      <td>0</td>\n      <td>0</td>\n      <td>0</td>\n    </tr>\n    <tr>\n      <th>78875</th>\n      <td>Гватемала</td>\n      <td>2021-03-02</td>\n      <td>175411</td>\n      <td>162481</td>\n      <td>6412</td>\n      <td>758</td>\n      <td>665</td>\n      <td>10</td>\n    </tr>\n    <tr>\n      <th>78876</th>\n      <td>Польша</td>\n      <td>2020-08-03</td>\n      <td>47469</td>\n      <td>34881</td>\n      <td>1732</td>\n      <td>575</td>\n      <td>172</td>\n      <td>1</td>\n    </tr>\n    <tr>\n      <th>78877</th>\n      <td>Ангола</td>\n      <td>2020-01-31</td>\n      <td>0</td>\n      <td>0</td>\n      <td>0</td>\n      <td>0</td>\n      <td>0</td>\n      <td>0</td>\n    </tr>\n    <tr>\n      <th>78878</th>\n      <td>Сейшельские острова</td>\n      <td>2020-01-25</td>\n      <td>0</td>\n      <td>0</td>\n      <td>0</td>\n      <td>0</td>\n      <td>0</td>\n      <td>0</td>\n    </tr>\n    <tr>\n      <th>78879</th>\n      <td>Япония</td>\n      <td>2020-08-27</td>\n      <td>65653</td>\n      <td>52542</td>\n      <td>1241</td>\n      <td>874</td>\n      <td>1135</td>\n      <td>11</td>\n    </tr>\n    <tr>\n      <th>78880</th>\n      <td>Либерия</td>\n      <td>2020-11-06</td>\n      <td>1442</td>\n      <td>1310</td>\n      <td>82</td>\n      <td>2</td>\n      <td>5</td>\n      <td>0</td>\n    </tr>\n    <tr>\n      <th>78881</th>\n      <td>Вануату</td>\n      <td>2020-10-27</td>\n      <td>0</td>\n      <td>0</td>\n      <td>0</td>\n      <td>0</td>\n      <td>0</td>\n      <td>0</td>\n    </tr>\n    <tr>\n      <th>78882</th>\n      <td>Словакия</td>\n      <td>2020-08-13</td>\n      <td>2739</td>\n      <td>1939</td>\n      <td>31</td>\n      <td>49</td>\n      <td>55</td>\n      <td>0</td>\n    </tr>\n  </tbody>\n</table>\n</div>"
     },
     "metadata": {},
     "execution_count": 2
    }
   ],
   "source": [
    "yandex_world = pd.read_csv('yandex_world.csv')\n",
    "yandex_world.rename(columns = {'Дата':'Date','Страна':'Country','Заражений':'Confirmed','Выздоровлений':'Recovered',\n",
    "                               'Смертей':'Deaths','Смертей за день':'Day_deaths',\n",
    "                               'Заражений за день':'Day_confirmed','Выздоровлений за день':'Day_recovered'},inplace = True)\n",
    "for i in range(yandex_world.shape[0]):\n",
    "    a= yandex_world.Date[i].split('.')\n",
    "    yandex_world.Date[i]=datetime.date(int(a[2]),int(a[1]),int(a[0]))\n",
    "\n",
    "yandex_world.tail(20)"
   ]
  },
  {
   "cell_type": "code",
   "execution_count": 3,
   "metadata": {},
   "outputs": [
    {
     "output_type": "execute_result",
     "data": {
      "text/plain": [
       "      Country        Date  Confirmed  Recovered   Deaths  Day_confirmed  \\\n",
       "403  Весь мир  2021-02-28  114109186   64418459  2531755         303177   \n",
       "404  Весь мир  2021-03-01  114415400   64633384  2538961         306214   \n",
       "405  Весь мир  2021-03-02  114725863   64903489  2549372         310463   \n",
       "406  Весь мир  2021-03-03  115166644   65132897  2560422         440781   \n",
       "407  Весь мир  2021-03-04  115619554   65383177  2570176         452910   \n",
       "408  Весь мир  2021-03-05  116066168   65609537  2580166         446614   \n",
       "409  Весь мир  2021-03-06  116476413   65846038  2587977         410245   \n",
       "410  Весь мир  2021-03-07  116844471   66084360  2593224         368058   \n",
       "411  Весь мир  2021-03-08  117142769   66358917  2600063         298298   \n",
       "412  Весь мир  2021-03-09  117557807   66621151  2610184         415038   \n",
       "\n",
       "     Day_recovered  Day_deaths  \n",
       "403         175176        5379  \n",
       "404         214925        7206  \n",
       "405         270105       10411  \n",
       "406         229408       11050  \n",
       "407         250280        9754  \n",
       "408         226360        9990  \n",
       "409         236501        7811  \n",
       "410         238322        5247  \n",
       "411         274557        6839  \n",
       "412         262234       10121  "
      ],
      "text/html": "<div>\n<style scoped>\n    .dataframe tbody tr th:only-of-type {\n        vertical-align: middle;\n    }\n\n    .dataframe tbody tr th {\n        vertical-align: top;\n    }\n\n    .dataframe thead th {\n        text-align: right;\n    }\n</style>\n<table border=\"1\" class=\"dataframe\">\n  <thead>\n    <tr style=\"text-align: right;\">\n      <th></th>\n      <th>Country</th>\n      <th>Date</th>\n      <th>Confirmed</th>\n      <th>Recovered</th>\n      <th>Deaths</th>\n      <th>Day_confirmed</th>\n      <th>Day_recovered</th>\n      <th>Day_deaths</th>\n    </tr>\n  </thead>\n  <tbody>\n    <tr>\n      <th>403</th>\n      <td>Весь мир</td>\n      <td>2021-02-28</td>\n      <td>114109186</td>\n      <td>64418459</td>\n      <td>2531755</td>\n      <td>303177</td>\n      <td>175176</td>\n      <td>5379</td>\n    </tr>\n    <tr>\n      <th>404</th>\n      <td>Весь мир</td>\n      <td>2021-03-01</td>\n      <td>114415400</td>\n      <td>64633384</td>\n      <td>2538961</td>\n      <td>306214</td>\n      <td>214925</td>\n      <td>7206</td>\n    </tr>\n    <tr>\n      <th>405</th>\n      <td>Весь мир</td>\n      <td>2021-03-02</td>\n      <td>114725863</td>\n      <td>64903489</td>\n      <td>2549372</td>\n      <td>310463</td>\n      <td>270105</td>\n      <td>10411</td>\n    </tr>\n    <tr>\n      <th>406</th>\n      <td>Весь мир</td>\n      <td>2021-03-03</td>\n      <td>115166644</td>\n      <td>65132897</td>\n      <td>2560422</td>\n      <td>440781</td>\n      <td>229408</td>\n      <td>11050</td>\n    </tr>\n    <tr>\n      <th>407</th>\n      <td>Весь мир</td>\n      <td>2021-03-04</td>\n      <td>115619554</td>\n      <td>65383177</td>\n      <td>2570176</td>\n      <td>452910</td>\n      <td>250280</td>\n      <td>9754</td>\n    </tr>\n    <tr>\n      <th>408</th>\n      <td>Весь мир</td>\n      <td>2021-03-05</td>\n      <td>116066168</td>\n      <td>65609537</td>\n      <td>2580166</td>\n      <td>446614</td>\n      <td>226360</td>\n      <td>9990</td>\n    </tr>\n    <tr>\n      <th>409</th>\n      <td>Весь мир</td>\n      <td>2021-03-06</td>\n      <td>116476413</td>\n      <td>65846038</td>\n      <td>2587977</td>\n      <td>410245</td>\n      <td>236501</td>\n      <td>7811</td>\n    </tr>\n    <tr>\n      <th>410</th>\n      <td>Весь мир</td>\n      <td>2021-03-07</td>\n      <td>116844471</td>\n      <td>66084360</td>\n      <td>2593224</td>\n      <td>368058</td>\n      <td>238322</td>\n      <td>5247</td>\n    </tr>\n    <tr>\n      <th>411</th>\n      <td>Весь мир</td>\n      <td>2021-03-08</td>\n      <td>117142769</td>\n      <td>66358917</td>\n      <td>2600063</td>\n      <td>298298</td>\n      <td>274557</td>\n      <td>6839</td>\n    </tr>\n    <tr>\n      <th>412</th>\n      <td>Весь мир</td>\n      <td>2021-03-09</td>\n      <td>117557807</td>\n      <td>66621151</td>\n      <td>2610184</td>\n      <td>415038</td>\n      <td>262234</td>\n      <td>10121</td>\n    </tr>\n  </tbody>\n</table>\n</div>"
     },
     "metadata": {},
     "execution_count": 3
    }
   ],
   "source": [
    "df3_temp = yandex_world.groupby('Date').sum()\n",
    "df3_temp['Country']='Весь мир'\n",
    "\n",
    "y5= pd.concat([yandex_world,df3_temp.reset_index()],axis = 0)\n",
    "y5.reset_index()\n",
    "yandex_world = y5\n",
    "yandex_world.tail(10)"
   ]
  },
  {
   "cell_type": "code",
   "execution_count": 4,
   "metadata": {
    "tags": []
   },
   "outputs": [
    {
     "output_type": "stream",
     "name": "stdout",
     "text": [
      "Весь мир\nВыбран день:  2021-03-09\n"
     ]
    }
   ],
   "source": [
    "# dt = datetime.datetime.today()\n",
    "# today = datetime.date(dt.year,dt.month,dt.day)\n",
    "# ystday = datetime.date(today.year,today.month,today.day-1)\n",
    "# yst2day = datetime.date(today.year,today.month,today.day-2)\n",
    "# yst3day = datetime.date(today.year,today.month,today.day-3)\n",
    "\n",
    "# print(today)\n",
    "# print(ystday)\n",
    "# print(yst2day)\n",
    "# print(yst3day)\n",
    "myday = list(yandex_world.tail(1).Date)[0]\n",
    "\n",
    "print(yandex_world.iloc[-1,0])\n",
    "print('Выбран день: ',myday)"
   ]
  },
  {
   "cell_type": "code",
   "execution_count": 5,
   "metadata": {
    "tags": []
   },
   "outputs": [
    {
     "output_type": "stream",
     "name": "stdout",
     "text": [
      "dict_items([(0, 'Marshall Islands'), (1, 'Micronesia'), (2, 'Австралия'), (3, 'Австрия'), (4, 'Азербайджан'), (5, 'Албания'), (6, 'Алжир'), (7, 'Ангола'), (8, 'Андорра'), (9, 'Антигуа и Барбуда'), (10, 'Аргентина'), (11, 'Армения'), (12, 'Афганистан'), (13, 'Багамские острова'), (14, 'Бангладеш'), (15, 'Барбадос'), (16, 'Бахрейн'), (17, 'Беларусь'), (18, 'Белиз'), (19, 'Бельгия'), (20, 'Бенин'), (21, 'Болгария'), (22, 'Боливия'), (23, 'Босния и Герцеговина'), (24, 'Ботсвана'), (25, 'Бразилия'), (26, 'Бруней'), (27, 'Буркина-Фасо'), (28, 'Бурунди'), (29, 'Бутан'), (30, 'Вануату'), (31, 'Великобритания'), (32, 'Венгрия'), (33, 'Венесуэла'), (34, 'Весь мир'), (35, 'Восточный Тимор'), (36, 'Вьетнам'), (37, 'Габон'), (38, 'Гаити'), (39, 'Гайана'), (40, 'Гамбия'), (41, 'Гана'), (42, 'Гватемала'), (43, 'Гвинея'), (44, 'Гвинея-Бисау'), (45, 'Германия'), (46, 'Гондурас'), (47, 'Гренада'), (48, 'Греция'), (49, 'Грузия'), (50, 'ДР Конго'), (51, 'Дания'), (52, 'Джибути'), (53, 'Доминика'), (54, 'Доминиканская Республика'), (55, 'Египет'), (56, 'Замбия'), (57, 'Западный берег реки Иордан'), (58, 'Зимбабве'), (59, 'Израиль'), (60, 'Индия'), (61, 'Индонезия'), (62, 'Иордания'), (63, 'Ирак'), (64, 'Иран'), (65, 'Ирландия'), (66, 'Исландия'), (67, 'Испания'), (68, 'Италия'), (69, 'Йемен'), (70, 'Кабо-Верде'), (71, 'Казахстан'), (72, 'Камбоджа'), (73, 'Камерун'), (74, 'Канада'), (75, 'Катар'), (76, 'Кения'), (77, 'Кипр'), (78, 'Киргизия'), (79, 'Китай'), (80, 'Колумбия'), (81, 'Коморские острова'), (82, 'Косово и Метохия'), (83, 'Коста-Рика'), (84, 'Кот-д’Ивуар'), (85, 'Куба'), (86, 'Кувейт'), (87, 'Лаос'), (88, 'Латвия'), (89, 'Лесото'), (90, 'Либерия'), (91, 'Ливан'), (92, 'Ливия'), (93, 'Литва'), (94, 'Лихтенштейн'), (95, 'Люксембург'), (96, 'Маврикий'), (97, 'Мавритания'), (98, 'Мадагаскар'), (99, 'Малави'), (100, 'Малайзия'), (101, 'Мали'), (102, 'Мальдивы'), (103, 'Мальта'), (104, 'Марокко'), (105, 'Мексика'), (106, 'Мозамбик'), (107, 'Молдавия'), (108, 'Монако'), (109, 'Монголия'), (110, 'Мьянма'), (111, 'Намибия'), (112, 'Непал'), (113, 'Нигер'), (114, 'Нигерия'), (115, 'Нидерланды'), (116, 'Никарагуа'), (117, 'Новая Зеландия'), (118, 'Норвегия'), (119, 'ОАЭ'), (120, 'Оман'), (121, 'Пакистан'), (122, 'Панама'), (123, 'Папский Престол'), (124, 'Папуа — Новая Гвинея'), (125, 'Парагвай'), (126, 'Перу'), (127, 'Польша'), (128, 'Португалия'), (129, 'Республика Конго'), (130, 'Россия'), (131, 'Руанда'), (132, 'Румыния'), (133, 'США'), (134, 'Сальвадор'), (135, 'Самоа'), (136, 'Сан-Марино'), (137, 'Сан-Томе и Принсипи'), (138, 'Саудовская Аравия'), (139, 'Северная Македония'), (140, 'Сейшельские острова'), (141, 'Сенегал'), (142, 'Сент-Винсент и Гренадины'), (143, 'Сент-Китс и Невис'), (144, 'Сент-Люсия'), (145, 'Сербия'), (146, 'Сингапур'), (147, 'Сирия'), (148, 'Словакия'), (149, 'Словения'), (150, 'Соломоновы острова'), (151, 'Сомали'), (152, 'Судан'), (153, 'Судно \"Diamond Princess\"'), (154, 'Судно \"MS Zaandam\"'), (155, 'Суринам'), (156, 'Сьерра-Леоне'), (157, 'Таджикистан'), (158, 'Таиланд'), (159, 'Танзания'), (160, 'Того'), (161, 'Тринидад и Тобаго'), (162, 'Тунис'), (163, 'Турция'), (164, 'Уганда'), (165, 'Узбекистан'), (166, 'Украина'), (167, 'Уругвай'), (168, 'Фиджи'), (169, 'Филиппины'), (170, 'Финляндия'), (171, 'Франция'), (172, 'Хорватия'), (173, 'ЦАР'), (174, 'Чад'), (175, 'Черногория'), (176, 'Чехия'), (177, 'Чили'), (178, 'Швейцария'), (179, 'Швеция'), (180, 'Шри-Ланка'), (181, 'Эквадор'), (182, 'Экваториальная Гвинея'), (183, 'Эритрея'), (184, 'Эсватини'), (185, 'Эстония'), (186, 'Эфиопия'), (187, 'ЮАР'), (188, 'Южная Корея'), (189, 'Южный Судан'), (190, 'Ямайка'), (191, 'Япония')])\n"
     ]
    },
    {
     "output_type": "execute_result",
     "data": {
      "text/plain": [
       "             Date  Confirmed  Recovered  Deaths  Day_confirmed  Day_recovered  \\\n",
       "79291  2021-03-05     437222     415868    8190           1129           2690   \n",
       "79292  2021-03-06     437634     417136    8196            412           1268   \n",
       "79293  2021-03-07     439356     418105    8255           1722            969   \n",
       "79294  2021-03-08     439977     418105    8301            621              0   \n",
       "79295  2021-03-09     441152     420104    8359           1175           1999   \n",
       "\n",
       "       Day_deaths     Rt    Rt2  Rate_conf  Rate_ill Country  Remaining_ill  \\\n",
       "79291          55  1.122  1.009          0         0  Япония          13164   \n",
       "79292           6  1.028  1.009          0         0  Япония          12302   \n",
       "79293          59  1.146  1.010          0         0  Япония          12996   \n",
       "79294          46  0.970  1.010          0         0  Япония          13571   \n",
       "79295          58  0.884  1.009          0         0  Япония          12689   \n",
       "\n",
       "       MA7_dayconfirmed  MA14_dayconfirmed  MA7_remaining_ill  \\\n",
       "79291       1049.857143        1036.000000       14310.857143   \n",
       "79292        934.428571         977.285714       13872.571429   \n",
       "79293       1038.000000        1026.285714       13580.857143   \n",
       "79294       1028.428571        1018.000000       13463.857143   \n",
       "79295       1064.571429        1023.142857       13314.285714   \n",
       "\n",
       "       MA14_remaining_ill  Change_dayconf  Change_remill  \n",
       "79291        15886.285714             -20          -1616  \n",
       "79292        15380.928571            -717           -862  \n",
       "79293        14970.785714            1310            694  \n",
       "79294        14648.000000           -1101            575  \n",
       "79295        14298.642857             554           -882  "
      ],
      "text/html": "<div>\n<style scoped>\n    .dataframe tbody tr th:only-of-type {\n        vertical-align: middle;\n    }\n\n    .dataframe tbody tr th {\n        vertical-align: top;\n    }\n\n    .dataframe thead th {\n        text-align: right;\n    }\n</style>\n<table border=\"1\" class=\"dataframe\">\n  <thead>\n    <tr style=\"text-align: right;\">\n      <th></th>\n      <th>Date</th>\n      <th>Confirmed</th>\n      <th>Recovered</th>\n      <th>Deaths</th>\n      <th>Day_confirmed</th>\n      <th>Day_recovered</th>\n      <th>Day_deaths</th>\n      <th>Rt</th>\n      <th>Rt2</th>\n      <th>Rate_conf</th>\n      <th>Rate_ill</th>\n      <th>Country</th>\n      <th>Remaining_ill</th>\n      <th>MA7_dayconfirmed</th>\n      <th>MA14_dayconfirmed</th>\n      <th>MA7_remaining_ill</th>\n      <th>MA14_remaining_ill</th>\n      <th>Change_dayconf</th>\n      <th>Change_remill</th>\n    </tr>\n  </thead>\n  <tbody>\n    <tr>\n      <th>79291</th>\n      <td>2021-03-05</td>\n      <td>437222</td>\n      <td>415868</td>\n      <td>8190</td>\n      <td>1129</td>\n      <td>2690</td>\n      <td>55</td>\n      <td>1.122</td>\n      <td>1.009</td>\n      <td>0</td>\n      <td>0</td>\n      <td>Япония</td>\n      <td>13164</td>\n      <td>1049.857143</td>\n      <td>1036.000000</td>\n      <td>14310.857143</td>\n      <td>15886.285714</td>\n      <td>-20</td>\n      <td>-1616</td>\n    </tr>\n    <tr>\n      <th>79292</th>\n      <td>2021-03-06</td>\n      <td>437634</td>\n      <td>417136</td>\n      <td>8196</td>\n      <td>412</td>\n      <td>1268</td>\n      <td>6</td>\n      <td>1.028</td>\n      <td>1.009</td>\n      <td>0</td>\n      <td>0</td>\n      <td>Япония</td>\n      <td>12302</td>\n      <td>934.428571</td>\n      <td>977.285714</td>\n      <td>13872.571429</td>\n      <td>15380.928571</td>\n      <td>-717</td>\n      <td>-862</td>\n    </tr>\n    <tr>\n      <th>79293</th>\n      <td>2021-03-07</td>\n      <td>439356</td>\n      <td>418105</td>\n      <td>8255</td>\n      <td>1722</td>\n      <td>969</td>\n      <td>59</td>\n      <td>1.146</td>\n      <td>1.010</td>\n      <td>0</td>\n      <td>0</td>\n      <td>Япония</td>\n      <td>12996</td>\n      <td>1038.000000</td>\n      <td>1026.285714</td>\n      <td>13580.857143</td>\n      <td>14970.785714</td>\n      <td>1310</td>\n      <td>694</td>\n    </tr>\n    <tr>\n      <th>79294</th>\n      <td>2021-03-08</td>\n      <td>439977</td>\n      <td>418105</td>\n      <td>8301</td>\n      <td>621</td>\n      <td>0</td>\n      <td>46</td>\n      <td>0.970</td>\n      <td>1.010</td>\n      <td>0</td>\n      <td>0</td>\n      <td>Япония</td>\n      <td>13571</td>\n      <td>1028.428571</td>\n      <td>1018.000000</td>\n      <td>13463.857143</td>\n      <td>14648.000000</td>\n      <td>-1101</td>\n      <td>575</td>\n    </tr>\n    <tr>\n      <th>79295</th>\n      <td>2021-03-09</td>\n      <td>441152</td>\n      <td>420104</td>\n      <td>8359</td>\n      <td>1175</td>\n      <td>1999</td>\n      <td>58</td>\n      <td>0.884</td>\n      <td>1.009</td>\n      <td>0</td>\n      <td>0</td>\n      <td>Япония</td>\n      <td>12689</td>\n      <td>1064.571429</td>\n      <td>1023.142857</td>\n      <td>13314.285714</td>\n      <td>14298.642857</td>\n      <td>554</td>\n      <td>-882</td>\n    </tr>\n  </tbody>\n</table>\n</div>"
     },
     "metadata": {},
     "execution_count": 5
    }
   ],
   "source": [
    "X = pd.DataFrame()\n",
    "country_dict = {}\n",
    "yandex_world['Rt'] = 1\n",
    "yandex_world['Rt2'] = 1\n",
    "yandex_world['Rate_conf'] = 0\n",
    "yandex_world['Rate_ill'] = 0\n",
    "\n",
    "temp_df = yandex_world.groupby(['Country','Date']).sum()\n",
    "\n",
    "# Ниже enumerate  для составления словаря из имен регионов {i:j} , для расчетов можно было использовать только j\n",
    "\n",
    "for i,j in enumerate(temp_df.index.get_level_values(0).unique()):\n",
    "    temp_df2 =  temp_df.loc[j]\n",
    "    temp1 = temp_df2['Day_confirmed'].rolling(4).sum()/(temp_df2[\"Day_confirmed\"].rolling(8).sum()-\n",
    "\n",
    "                                                              temp_df2[\"Day_confirmed\"].rolling(4).sum())\n",
    "    temp2 = temp_df2['Confirmed'].rolling(4).sum()/(temp_df2['Confirmed'].rolling(8).sum()-\n",
    "\n",
    "                                                              temp_df2['Confirmed'].rolling(4).sum())\n",
    "    temp_df2['Rt'] = round(temp1,3)\n",
    "    temp_df2['Rt2'] = round(temp2,3)\n",
    "    temp_df2['Country'] = j\n",
    "    temp_df2['Remaining_ill']=temp_df2['Confirmed']-temp_df2['Recovered']-temp_df2['Deaths']\n",
    "    temp_df2['MA7_dayconfirmed']=temp_df2['Day_confirmed'].rolling(window=7).mean()\n",
    "    temp_df2['MA14_dayconfirmed']=temp_df2['Day_confirmed'].rolling(window=14).mean()\n",
    "    temp_df2['MA7_remaining_ill']=temp_df2['Remaining_ill'].rolling(window=7).mean()\n",
    "    temp_df2['MA14_remaining_ill']=temp_df2['Remaining_ill'].rolling(window=14).mean()\n",
    "    \n",
    "    temp_df2['Change_dayconf'] = 0\n",
    "    for k in range(1,temp_df2.shape[0]):\n",
    "        temp_df2['Change_dayconf'].iloc[k]=temp_df2['Day_confirmed'].iloc[k]-temp_df2['Day_confirmed'].iloc[k-1]\n",
    "    temp_df2['Change_remill'] = 0\n",
    "    for k in range(1,temp_df2.shape[0]):\n",
    "        temp_df2['Change_remill'].iloc[k]=temp_df2['Remaining_ill'].iloc[k]-temp_df2['Remaining_ill'].iloc[k-1]\n",
    "    \n",
    "    \n",
    "\n",
    "   #Генератор DF  на каждый регион(сидит в цикле):\n",
    "   # globals()['x' + str(i)] = temp_df2.reset_index()\n",
    "    \n",
    "    X = pd.concat([X,temp_df2.reset_index()],axis = 0)\n",
    "    country_dict[i]=j\n",
    "    \n",
    "print(country_dict.items())\n",
    "    \n",
    "X = X.reset_index(drop=True)\n",
    "X.tail()\n"
   ]
  },
  {
   "cell_type": "code",
   "execution_count": 6,
   "metadata": {
    "tags": []
   },
   "outputs": [
    {
     "output_type": "stream",
     "name": "stdout",
     "text": [
      "            Confirmed  Remaining_ill\nDate                                \n2021-03-08  117142769       48183789\n2021-03-09  117557807       48326472\n79296\n(79296, 19)\n2020-01-22\n"
     ]
    }
   ],
   "source": [
    "# Добавляем колонки расчитанные ,доля их в процентах от суммарного показателя в мире\n",
    "mask = X.Country == 'Весь мир'\n",
    "temp_df = X[mask][['Date','Confirmed','Remaining_ill']]\n",
    "temp_df.index = temp_df.Date\n",
    "temp_df.drop(columns =['Date'], inplace = True)\n",
    "print(temp_df.tail(2))\n",
    "# print(temp_df.index.get_level_values(0))\n",
    "# temp_df.loc[datetime.date(2020,6,15),'Россия'].Confirmed\n",
    "# for i in temp_df.index.get_level_values(0).unique()[-2:]:\n",
    "#     print(temp_df.loc[i,'Россия'].Confirmed)\n",
    "world_date = list(temp_df.index)\n",
    "world_conf = list(temp_df.Confirmed)\n",
    "world_ill = list(temp_df.Remaining_ill)\n",
    "world_dict_conf = dict(zip(world_date,world_conf))\n",
    "world_dict_ill = dict(zip(world_date,world_ill))\n",
    "\n",
    "print(len(X))\n",
    "print(X.shape)\n",
    "print(X.loc[0,'Date'])\n",
    "for i in range(len(X)):\n",
    "    X.loc[i,'Rate_conf']=100*X.loc[i,'Confirmed']/world_dict_conf.get(X.loc[i,'Date'])\n",
    "    X.loc[i,'Rate_ill']=100*X.loc[i,'Remaining_ill']/world_dict_ill.get(X.loc[i,'Date'])\n"
   ]
  },
  {
   "cell_type": "code",
   "execution_count": 7,
   "metadata": {},
   "outputs": [
    {
     "output_type": "execute_result",
     "data": {
      "text/plain": [
       "             Date  Confirmed Country  Rate_conf  Rate_ill\n",
       "54083  2021-02-18    4079407  Россия   3.698138  0.826738\n",
       "54084  2021-02-19    4092649  Россия   3.696326  0.811371\n",
       "54085  2021-02-20    4105424  Россия   3.695509  0.798881\n",
       "54086  2021-02-21    4117992  Россия   3.696371  0.789472\n",
       "54087  2021-02-22    4130447  Россия   3.697977  0.786168\n",
       "54088  2021-02-23    4142126  Россия   3.695594  0.781122\n",
       "54089  2021-02-24    4153735  Россия   3.691313  0.775400\n",
       "54090  2021-02-25    4164802  Россия   3.686502  0.761151\n",
       "54091  2021-02-26    4175757  Россия   3.681764  0.747869\n",
       "54092  2021-02-27    4187166  Россия   3.679213  0.735661\n",
       "54093  2021-02-28    4198400  Россия   3.679283  0.730879\n",
       "54094  2021-03-01    4209850  Россия   3.679444  0.729483\n",
       "54095  2021-03-02    4220291  Россия   3.678587  0.719021\n",
       "54096  2021-03-03    4230707  Россия   3.673552  0.704562\n",
       "54097  2021-03-04    4241970  Россия   3.668904  0.691096\n",
       "54098  2021-03-05    4252876  Россия   3.664182  0.677893\n",
       "54099  2021-03-06    4263785  Россия   3.660642  0.666353\n",
       "54100  2021-03-07    4274263  Россия   3.658079  0.661758\n",
       "54101  2021-03-08    4284408  Россия   3.657424  0.660459\n",
       "54102  2021-03-09    4293750  Россия   3.652458  0.656708"
      ],
      "text/html": "<div>\n<style scoped>\n    .dataframe tbody tr th:only-of-type {\n        vertical-align: middle;\n    }\n\n    .dataframe tbody tr th {\n        vertical-align: top;\n    }\n\n    .dataframe thead th {\n        text-align: right;\n    }\n</style>\n<table border=\"1\" class=\"dataframe\">\n  <thead>\n    <tr style=\"text-align: right;\">\n      <th></th>\n      <th>Date</th>\n      <th>Confirmed</th>\n      <th>Country</th>\n      <th>Rate_conf</th>\n      <th>Rate_ill</th>\n    </tr>\n  </thead>\n  <tbody>\n    <tr>\n      <th>54083</th>\n      <td>2021-02-18</td>\n      <td>4079407</td>\n      <td>Россия</td>\n      <td>3.698138</td>\n      <td>0.826738</td>\n    </tr>\n    <tr>\n      <th>54084</th>\n      <td>2021-02-19</td>\n      <td>4092649</td>\n      <td>Россия</td>\n      <td>3.696326</td>\n      <td>0.811371</td>\n    </tr>\n    <tr>\n      <th>54085</th>\n      <td>2021-02-20</td>\n      <td>4105424</td>\n      <td>Россия</td>\n      <td>3.695509</td>\n      <td>0.798881</td>\n    </tr>\n    <tr>\n      <th>54086</th>\n      <td>2021-02-21</td>\n      <td>4117992</td>\n      <td>Россия</td>\n      <td>3.696371</td>\n      <td>0.789472</td>\n    </tr>\n    <tr>\n      <th>54087</th>\n      <td>2021-02-22</td>\n      <td>4130447</td>\n      <td>Россия</td>\n      <td>3.697977</td>\n      <td>0.786168</td>\n    </tr>\n    <tr>\n      <th>54088</th>\n      <td>2021-02-23</td>\n      <td>4142126</td>\n      <td>Россия</td>\n      <td>3.695594</td>\n      <td>0.781122</td>\n    </tr>\n    <tr>\n      <th>54089</th>\n      <td>2021-02-24</td>\n      <td>4153735</td>\n      <td>Россия</td>\n      <td>3.691313</td>\n      <td>0.775400</td>\n    </tr>\n    <tr>\n      <th>54090</th>\n      <td>2021-02-25</td>\n      <td>4164802</td>\n      <td>Россия</td>\n      <td>3.686502</td>\n      <td>0.761151</td>\n    </tr>\n    <tr>\n      <th>54091</th>\n      <td>2021-02-26</td>\n      <td>4175757</td>\n      <td>Россия</td>\n      <td>3.681764</td>\n      <td>0.747869</td>\n    </tr>\n    <tr>\n      <th>54092</th>\n      <td>2021-02-27</td>\n      <td>4187166</td>\n      <td>Россия</td>\n      <td>3.679213</td>\n      <td>0.735661</td>\n    </tr>\n    <tr>\n      <th>54093</th>\n      <td>2021-02-28</td>\n      <td>4198400</td>\n      <td>Россия</td>\n      <td>3.679283</td>\n      <td>0.730879</td>\n    </tr>\n    <tr>\n      <th>54094</th>\n      <td>2021-03-01</td>\n      <td>4209850</td>\n      <td>Россия</td>\n      <td>3.679444</td>\n      <td>0.729483</td>\n    </tr>\n    <tr>\n      <th>54095</th>\n      <td>2021-03-02</td>\n      <td>4220291</td>\n      <td>Россия</td>\n      <td>3.678587</td>\n      <td>0.719021</td>\n    </tr>\n    <tr>\n      <th>54096</th>\n      <td>2021-03-03</td>\n      <td>4230707</td>\n      <td>Россия</td>\n      <td>3.673552</td>\n      <td>0.704562</td>\n    </tr>\n    <tr>\n      <th>54097</th>\n      <td>2021-03-04</td>\n      <td>4241970</td>\n      <td>Россия</td>\n      <td>3.668904</td>\n      <td>0.691096</td>\n    </tr>\n    <tr>\n      <th>54098</th>\n      <td>2021-03-05</td>\n      <td>4252876</td>\n      <td>Россия</td>\n      <td>3.664182</td>\n      <td>0.677893</td>\n    </tr>\n    <tr>\n      <th>54099</th>\n      <td>2021-03-06</td>\n      <td>4263785</td>\n      <td>Россия</td>\n      <td>3.660642</td>\n      <td>0.666353</td>\n    </tr>\n    <tr>\n      <th>54100</th>\n      <td>2021-03-07</td>\n      <td>4274263</td>\n      <td>Россия</td>\n      <td>3.658079</td>\n      <td>0.661758</td>\n    </tr>\n    <tr>\n      <th>54101</th>\n      <td>2021-03-08</td>\n      <td>4284408</td>\n      <td>Россия</td>\n      <td>3.657424</td>\n      <td>0.660459</td>\n    </tr>\n    <tr>\n      <th>54102</th>\n      <td>2021-03-09</td>\n      <td>4293750</td>\n      <td>Россия</td>\n      <td>3.652458</td>\n      <td>0.656708</td>\n    </tr>\n  </tbody>\n</table>\n</div>"
     },
     "metadata": {},
     "execution_count": 7
    }
   ],
   "source": [
    "# Проверка расчетов процентных показателей\n",
    "mask = (X.Date>=datetime.date(2020,6,13))&(X.Country.isin(['Весь мир','Россия']))\n",
    "\n",
    "temp=X[mask]\n",
    "temp[['Date','Confirmed','Country','Rate_conf','Rate_ill']].tail(20)"
   ]
  },
  {
   "cell_type": "code",
   "execution_count": 8,
   "metadata": {},
   "outputs": [],
   "source": [
    "X.to_csv('W.csv',index=False)"
   ]
  },
  {
   "cell_type": "code",
   "execution_count": null,
   "metadata": {},
   "outputs": [],
   "source": []
  }
 ],
 "metadata": {
  "kernelspec": {
   "display_name": "Python 3.8.3 64-bit ('univer': venv)",
   "language": "python",
   "name": "python38364bitunivervenvccc17a1ebf2945b3903df3ba400fd1bf"
  },
  "language_info": {
   "codemirror_mode": {
    "name": "ipython",
    "version": 3
   },
   "file_extension": ".py",
   "mimetype": "text/x-python",
   "name": "python",
   "nbconvert_exporter": "python",
   "pygments_lexer": "ipython3",
   "version": "3.8.3-final"
  }
 },
 "nbformat": 4,
 "nbformat_minor": 4
}