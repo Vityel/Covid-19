{
 "cells": [
  {
   "cell_type": "code",
   "execution_count": 1,
   "metadata": {},
   "outputs": [],
   "source": [
    "import pandas as pd\n",
    "import datetime\n",
    "import plotly.graph_objects as go\n",
    "import plotly.express as px\n",
    "import plotly.figure_factory as ff\n",
    "\n",
    "\n"
   ]
  },
  {
   "cell_type": "code",
   "execution_count": 2,
   "metadata": {},
   "outputs": [
    {
     "output_type": "execute_result",
     "data": {
      "text/plain": [
       "                     Country        Date  Confirmed  Recovered  Deaths  \\\n",
       "78938               Мозамбик  2021-06-15      71651      69937     842   \n",
       "78939                Украина  2020-12-31    1086997     736611   19281   \n",
       "78940                   Кипр  2020-06-23        990        824      19   \n",
       "78941               Эсватини  2021-01-26      14830       9542     517   \n",
       "78942                 Турция  2021-02-19    2624019    2511548   27903   \n",
       "78943              Аргентина  2021-03-24    2269877    2049035   54946   \n",
       "78944                  Алжир  2020-10-01      51690      36282    1741   \n",
       "78945                  Бенин  2021-03-13       6501       5552      81   \n",
       "78946               Камбоджа  2020-08-01        240        196       0   \n",
       "78947           Гвинея-Бисау  2020-09-06       2245       1127      38   \n",
       "78948              Гватемала  2021-03-02     175411     162481    6412   \n",
       "78949                 Польша  2020-08-03      47469      34881    1732   \n",
       "78950  Экваториальная Гвинея  2021-04-14       7259       6885     106   \n",
       "78951                  Тунис  2021-06-05     353782     310705   12948   \n",
       "78952                 Япония  2020-08-27      65653      52542    1241   \n",
       "78953                 Латвия  2021-04-24     114955     103953    2101   \n",
       "78954                Либерия  2020-11-06       1442       1310      82   \n",
       "78955                Вануату  2020-10-27          0          0       0   \n",
       "78956               Молдавия  2021-03-13     203710     177339    4294   \n",
       "78957               Словакия  2020-08-13       2739       1939      31   \n",
       "\n",
       "       Day_confirmed  Day_recovered  Day_deaths  \n",
       "78938             83             48           1  \n",
       "78939          10117          12468         223  \n",
       "78940              2              0           0  \n",
       "78941            208            148          24  \n",
       "78942           7419           7498          82  \n",
       "78943           8300           5078         123  \n",
       "78944            160            108           5  \n",
       "78945              0              0           0  \n",
       "78946              1             32           0  \n",
       "78947              0              0           0  \n",
       "78948            758            665          10  \n",
       "78949            575            172           1  \n",
       "78950             40             86           0  \n",
       "78951           1479           1579          46  \n",
       "78952            874           1135          11  \n",
       "78953            711              0           7  \n",
       "78954              2              5           0  \n",
       "78955              0              0           0  \n",
       "78956           1801           1189          36  \n",
       "78957             49             55           0  "
      ],
      "text/html": "<div>\n<style scoped>\n    .dataframe tbody tr th:only-of-type {\n        vertical-align: middle;\n    }\n\n    .dataframe tbody tr th {\n        vertical-align: top;\n    }\n\n    .dataframe thead th {\n        text-align: right;\n    }\n</style>\n<table border=\"1\" class=\"dataframe\">\n  <thead>\n    <tr style=\"text-align: right;\">\n      <th></th>\n      <th>Country</th>\n      <th>Date</th>\n      <th>Confirmed</th>\n      <th>Recovered</th>\n      <th>Deaths</th>\n      <th>Day_confirmed</th>\n      <th>Day_recovered</th>\n      <th>Day_deaths</th>\n    </tr>\n  </thead>\n  <tbody>\n    <tr>\n      <th>78938</th>\n      <td>Мозамбик</td>\n      <td>2021-06-15</td>\n      <td>71651</td>\n      <td>69937</td>\n      <td>842</td>\n      <td>83</td>\n      <td>48</td>\n      <td>1</td>\n    </tr>\n    <tr>\n      <th>78939</th>\n      <td>Украина</td>\n      <td>2020-12-31</td>\n      <td>1086997</td>\n      <td>736611</td>\n      <td>19281</td>\n      <td>10117</td>\n      <td>12468</td>\n      <td>223</td>\n    </tr>\n    <tr>\n      <th>78940</th>\n      <td>Кипр</td>\n      <td>2020-06-23</td>\n      <td>990</td>\n      <td>824</td>\n      <td>19</td>\n      <td>2</td>\n      <td>0</td>\n      <td>0</td>\n    </tr>\n    <tr>\n      <th>78941</th>\n      <td>Эсватини</td>\n      <td>2021-01-26</td>\n      <td>14830</td>\n      <td>9542</td>\n      <td>517</td>\n      <td>208</td>\n      <td>148</td>\n      <td>24</td>\n    </tr>\n    <tr>\n      <th>78942</th>\n      <td>Турция</td>\n      <td>2021-02-19</td>\n      <td>2624019</td>\n      <td>2511548</td>\n      <td>27903</td>\n      <td>7419</td>\n      <td>7498</td>\n      <td>82</td>\n    </tr>\n    <tr>\n      <th>78943</th>\n      <td>Аргентина</td>\n      <td>2021-03-24</td>\n      <td>2269877</td>\n      <td>2049035</td>\n      <td>54946</td>\n      <td>8300</td>\n      <td>5078</td>\n      <td>123</td>\n    </tr>\n    <tr>\n      <th>78944</th>\n      <td>Алжир</td>\n      <td>2020-10-01</td>\n      <td>51690</td>\n      <td>36282</td>\n      <td>1741</td>\n      <td>160</td>\n      <td>108</td>\n      <td>5</td>\n    </tr>\n    <tr>\n      <th>78945</th>\n      <td>Бенин</td>\n      <td>2021-03-13</td>\n      <td>6501</td>\n      <td>5552</td>\n      <td>81</td>\n      <td>0</td>\n      <td>0</td>\n      <td>0</td>\n    </tr>\n    <tr>\n      <th>78946</th>\n      <td>Камбоджа</td>\n      <td>2020-08-01</td>\n      <td>240</td>\n      <td>196</td>\n      <td>0</td>\n      <td>1</td>\n      <td>32</td>\n      <td>0</td>\n    </tr>\n    <tr>\n      <th>78947</th>\n      <td>Гвинея-Бисау</td>\n      <td>2020-09-06</td>\n      <td>2245</td>\n      <td>1127</td>\n      <td>38</td>\n      <td>0</td>\n      <td>0</td>\n      <td>0</td>\n    </tr>\n    <tr>\n      <th>78948</th>\n      <td>Гватемала</td>\n      <td>2021-03-02</td>\n      <td>175411</td>\n      <td>162481</td>\n      <td>6412</td>\n      <td>758</td>\n      <td>665</td>\n      <td>10</td>\n    </tr>\n    <tr>\n      <th>78949</th>\n      <td>Польша</td>\n      <td>2020-08-03</td>\n      <td>47469</td>\n      <td>34881</td>\n      <td>1732</td>\n      <td>575</td>\n      <td>172</td>\n      <td>1</td>\n    </tr>\n    <tr>\n      <th>78950</th>\n      <td>Экваториальная Гвинея</td>\n      <td>2021-04-14</td>\n      <td>7259</td>\n      <td>6885</td>\n      <td>106</td>\n      <td>40</td>\n      <td>86</td>\n      <td>0</td>\n    </tr>\n    <tr>\n      <th>78951</th>\n      <td>Тунис</td>\n      <td>2021-06-05</td>\n      <td>353782</td>\n      <td>310705</td>\n      <td>12948</td>\n      <td>1479</td>\n      <td>1579</td>\n      <td>46</td>\n    </tr>\n    <tr>\n      <th>78952</th>\n      <td>Япония</td>\n      <td>2020-08-27</td>\n      <td>65653</td>\n      <td>52542</td>\n      <td>1241</td>\n      <td>874</td>\n      <td>1135</td>\n      <td>11</td>\n    </tr>\n    <tr>\n      <th>78953</th>\n      <td>Латвия</td>\n      <td>2021-04-24</td>\n      <td>114955</td>\n      <td>103953</td>\n      <td>2101</td>\n      <td>711</td>\n      <td>0</td>\n      <td>7</td>\n    </tr>\n    <tr>\n      <th>78954</th>\n      <td>Либерия</td>\n      <td>2020-11-06</td>\n      <td>1442</td>\n      <td>1310</td>\n      <td>82</td>\n      <td>2</td>\n      <td>5</td>\n      <td>0</td>\n    </tr>\n    <tr>\n      <th>78955</th>\n      <td>Вануату</td>\n      <td>2020-10-27</td>\n      <td>0</td>\n      <td>0</td>\n      <td>0</td>\n      <td>0</td>\n      <td>0</td>\n      <td>0</td>\n    </tr>\n    <tr>\n      <th>78956</th>\n      <td>Молдавия</td>\n      <td>2021-03-13</td>\n      <td>203710</td>\n      <td>177339</td>\n      <td>4294</td>\n      <td>1801</td>\n      <td>1189</td>\n      <td>36</td>\n    </tr>\n    <tr>\n      <th>78957</th>\n      <td>Словакия</td>\n      <td>2020-08-13</td>\n      <td>2739</td>\n      <td>1939</td>\n      <td>31</td>\n      <td>49</td>\n      <td>55</td>\n      <td>0</td>\n    </tr>\n  </tbody>\n</table>\n</div>"
     },
     "metadata": {},
     "execution_count": 2
    }
   ],
   "source": [
    "yandex_world = pd.read_csv('yandex_world.csv')\n",
    "yandex_world.rename(columns = {'Дата':'Date','Страна':'Country','Заражений':'Confirmed','Выздоровлений':'Recovered',\n",
    "                               'Смертей':'Deaths','Смертей за день':'Day_deaths',\n",
    "                               'Заражений за день':'Day_confirmed','Выздоровлений за день':'Day_recovered'},inplace = True)\n",
    "for i in range(yandex_world.shape[0]):\n",
    "    a= yandex_world.Date[i].split('.')\n",
    "    yandex_world.Date[i]=datetime.date(int(a[2]),int(a[1]),int(a[0]))\n",
    "\n",
    "yandex_world.tail(20)"
   ]
  },
  {
   "cell_type": "code",
   "execution_count": 3,
   "metadata": {},
   "outputs": [
    {
     "output_type": "execute_result",
     "data": {
      "text/plain": [
       "      Country        Date  Confirmed  Recovered   Deaths  Day_confirmed  \\\n",
       "397  Весь мир  2021-07-03  183459631  120569294  3970780         375056   \n",
       "398  Весь мир  2021-07-04  183786486  120868182  3977169         326855   \n",
       "399  Весь мир  2021-07-05  184158258  121235175  3984631         371772   \n",
       "400  Весь мир  2021-07-06  184612003  121563018  3993196         453745   \n",
       "401  Весь мир  2021-07-07  185075852  121831181  4001760         463849   \n",
       "402  Весь мир  2021-07-08  185557387  122123832  4010605         481535   \n",
       "403  Весь мир  2021-07-09  186065732  122462950  4019052         508345   \n",
       "404  Весь мир  2021-07-10  186471199  122878183  4025094         405467   \n",
       "405  Весь мир  2021-07-11  186816068  123142309  4031775         344869   \n",
       "406  Весь мир  2021-07-12  187238474  123428255  4038886         422406   \n",
       "\n",
       "     Day_recovered  Day_deaths  \n",
       "397         269775        6842  \n",
       "398         298888        6389  \n",
       "399         366993        7462  \n",
       "400         327843        8565  \n",
       "401         268163        8564  \n",
       "402         292651        8845  \n",
       "403         339118        8447  \n",
       "404         415233        6042  \n",
       "405         264126        6681  \n",
       "406         285946        7111  "
      ],
      "text/html": "<div>\n<style scoped>\n    .dataframe tbody tr th:only-of-type {\n        vertical-align: middle;\n    }\n\n    .dataframe tbody tr th {\n        vertical-align: top;\n    }\n\n    .dataframe thead th {\n        text-align: right;\n    }\n</style>\n<table border=\"1\" class=\"dataframe\">\n  <thead>\n    <tr style=\"text-align: right;\">\n      <th></th>\n      <th>Country</th>\n      <th>Date</th>\n      <th>Confirmed</th>\n      <th>Recovered</th>\n      <th>Deaths</th>\n      <th>Day_confirmed</th>\n      <th>Day_recovered</th>\n      <th>Day_deaths</th>\n    </tr>\n  </thead>\n  <tbody>\n    <tr>\n      <th>397</th>\n      <td>Весь мир</td>\n      <td>2021-07-03</td>\n      <td>183459631</td>\n      <td>120569294</td>\n      <td>3970780</td>\n      <td>375056</td>\n      <td>269775</td>\n      <td>6842</td>\n    </tr>\n    <tr>\n      <th>398</th>\n      <td>Весь мир</td>\n      <td>2021-07-04</td>\n      <td>183786486</td>\n      <td>120868182</td>\n      <td>3977169</td>\n      <td>326855</td>\n      <td>298888</td>\n      <td>6389</td>\n    </tr>\n    <tr>\n      <th>399</th>\n      <td>Весь мир</td>\n      <td>2021-07-05</td>\n      <td>184158258</td>\n      <td>121235175</td>\n      <td>3984631</td>\n      <td>371772</td>\n      <td>366993</td>\n      <td>7462</td>\n    </tr>\n    <tr>\n      <th>400</th>\n      <td>Весь мир</td>\n      <td>2021-07-06</td>\n      <td>184612003</td>\n      <td>121563018</td>\n      <td>3993196</td>\n      <td>453745</td>\n      <td>327843</td>\n      <td>8565</td>\n    </tr>\n    <tr>\n      <th>401</th>\n      <td>Весь мир</td>\n      <td>2021-07-07</td>\n      <td>185075852</td>\n      <td>121831181</td>\n      <td>4001760</td>\n      <td>463849</td>\n      <td>268163</td>\n      <td>8564</td>\n    </tr>\n    <tr>\n      <th>402</th>\n      <td>Весь мир</td>\n      <td>2021-07-08</td>\n      <td>185557387</td>\n      <td>122123832</td>\n      <td>4010605</td>\n      <td>481535</td>\n      <td>292651</td>\n      <td>8845</td>\n    </tr>\n    <tr>\n      <th>403</th>\n      <td>Весь мир</td>\n      <td>2021-07-09</td>\n      <td>186065732</td>\n      <td>122462950</td>\n      <td>4019052</td>\n      <td>508345</td>\n      <td>339118</td>\n      <td>8447</td>\n    </tr>\n    <tr>\n      <th>404</th>\n      <td>Весь мир</td>\n      <td>2021-07-10</td>\n      <td>186471199</td>\n      <td>122878183</td>\n      <td>4025094</td>\n      <td>405467</td>\n      <td>415233</td>\n      <td>6042</td>\n    </tr>\n    <tr>\n      <th>405</th>\n      <td>Весь мир</td>\n      <td>2021-07-11</td>\n      <td>186816068</td>\n      <td>123142309</td>\n      <td>4031775</td>\n      <td>344869</td>\n      <td>264126</td>\n      <td>6681</td>\n    </tr>\n    <tr>\n      <th>406</th>\n      <td>Весь мир</td>\n      <td>2021-07-12</td>\n      <td>187238474</td>\n      <td>123428255</td>\n      <td>4038886</td>\n      <td>422406</td>\n      <td>285946</td>\n      <td>7111</td>\n    </tr>\n  </tbody>\n</table>\n</div>"
     },
     "metadata": {},
     "execution_count": 3
    }
   ],
   "source": [
    "df3_temp = yandex_world.groupby('Date').sum()\n",
    "df3_temp['Country']='Весь мир'\n",
    "\n",
    "y5= pd.concat([yandex_world,df3_temp.reset_index()],axis = 0)\n",
    "y5.reset_index()\n",
    "yandex_world = y5\n",
    "yandex_world.tail(10)"
   ]
  },
  {
   "cell_type": "code",
   "execution_count": 4,
   "metadata": {
    "tags": []
   },
   "outputs": [
    {
     "output_type": "stream",
     "name": "stdout",
     "text": [
      "Весь мир\nВыбран день:  2021-07-12\n"
     ]
    }
   ],
   "source": [
    "# dt = datetime.datetime.today()\n",
    "# today = datetime.date(dt.year,dt.month,dt.day)\n",
    "# ystday = datetime.date(today.year,today.month,today.day-1)\n",
    "# yst2day = datetime.date(today.year,today.month,today.day-2)\n",
    "# yst3day = datetime.date(today.year,today.month,today.day-3)\n",
    "\n",
    "# print(today)\n",
    "# print(ystday)\n",
    "# print(yst2day)\n",
    "# print(yst3day)\n",
    "myday = list(yandex_world.tail(1).Date)[0]\n",
    "\n",
    "print(yandex_world.iloc[-1,0])\n",
    "print('Выбран день: ',myday)"
   ]
  },
  {
   "cell_type": "code",
   "execution_count": 5,
   "metadata": {
    "tags": []
   },
   "outputs": [
    {
     "output_type": "stream",
     "name": "stdout",
     "text": [
      "dict_items([(0, 'Marshall Islands'), (1, 'Micronesia'), (2, 'Summer Olympics 2020'), (3, 'Австралия'), (4, 'Австрия'), (5, 'Азербайджан'), (6, 'Албания'), (7, 'Алжир'), (8, 'Ангола'), (9, 'Андорра'), (10, 'Антигуа и Барбуда'), (11, 'Аргентина'), (12, 'Армения'), (13, 'Афганистан'), (14, 'Багамские острова'), (15, 'Бангладеш'), (16, 'Барбадос'), (17, 'Бахрейн'), (18, 'Беларусь'), (19, 'Белиз'), (20, 'Бельгия'), (21, 'Бенин'), (22, 'Болгария'), (23, 'Боливия'), (24, 'Босния и Герцеговина'), (25, 'Ботсвана'), (26, 'Бразилия'), (27, 'Бруней'), (28, 'Буркина-Фасо'), (29, 'Бурунди'), (30, 'Бутан'), (31, 'Вануату'), (32, 'Великобритания'), (33, 'Венгрия'), (34, 'Венесуэла'), (35, 'Весь мир'), (36, 'Восточный Тимор'), (37, 'Вьетнам'), (38, 'Габон'), (39, 'Гаити'), (40, 'Гайана'), (41, 'Гамбия'), (42, 'Гана'), (43, 'Гватемала'), (44, 'Гвинея'), (45, 'Гвинея-Бисау'), (46, 'Германия'), (47, 'Гондурас'), (48, 'Гренада'), (49, 'Греция'), (50, 'Грузия'), (51, 'ДР Конго'), (52, 'Дания'), (53, 'Джибути'), (54, 'Доминика'), (55, 'Доминиканская Республика'), (56, 'Египет'), (57, 'Замбия'), (58, 'Западный берег реки Иордан'), (59, 'Зимбабве'), (60, 'Израиль'), (61, 'Индия'), (62, 'Индонезия'), (63, 'Иордания'), (64, 'Ирак'), (65, 'Иран'), (66, 'Ирландия'), (67, 'Исландия'), (68, 'Испания'), (69, 'Италия'), (70, 'Йемен'), (71, 'Кабо-Верде'), (72, 'Казахстан'), (73, 'Камбоджа'), (74, 'Камерун'), (75, 'Канада'), (76, 'Катар'), (77, 'Кения'), (78, 'Кипр'), (79, 'Киргизия'), (80, 'Кирибати'), (81, 'Китай'), (82, 'Колумбия'), (83, 'Коморские острова'), (84, 'Косово и Метохия'), (85, 'Коста-Рика'), (86, 'Кот-д’Ивуар'), (87, 'Куба'), (88, 'Кувейт'), (89, 'Лаос'), (90, 'Латвия'), (91, 'Лесото'), (92, 'Либерия'), (93, 'Ливан'), (94, 'Ливия'), (95, 'Литва'), (96, 'Лихтенштейн'), (97, 'Люксембург'), (98, 'Маврикий'), (99, 'Мавритания'), (100, 'Мадагаскар'), (101, 'Малави'), (102, 'Малайзия'), (103, 'Мали'), (104, 'Мальдивы'), (105, 'Мальта'), (106, 'Марокко'), (107, 'Мексика'), (108, 'Мозамбик'), (109, 'Молдавия'), (110, 'Монако'), (111, 'Монголия'), (112, 'Мьянма'), (113, 'Намибия'), (114, 'Непал'), (115, 'Нигер'), (116, 'Нигерия'), (117, 'Нидерланды'), (118, 'Никарагуа'), (119, 'Новая Зеландия'), (120, 'Норвегия'), (121, 'ОАЭ'), (122, 'Оман'), (123, 'Пакистан'), (124, 'Палау'), (125, 'Панама'), (126, 'Папский Престол'), (127, 'Папуа — Новая Гвинея'), (128, 'Парагвай'), (129, 'Перу'), (130, 'Польша'), (131, 'Португалия'), (132, 'Республика Конго'), (133, 'Россия'), (134, 'Руанда'), (135, 'Румыния'), (136, 'США'), (137, 'Сальвадор'), (138, 'Самоа'), (139, 'Сан-Марино'), (140, 'Сан-Томе и Принсипи'), (141, 'Саудовская Аравия'), (142, 'Северная Македония'), (143, 'Сейшельские острова'), (144, 'Сенегал'), (145, 'Сент-Винсент и Гренадины'), (146, 'Сент-Китс и Невис'), (147, 'Сент-Люсия'), (148, 'Сербия'), (149, 'Сингапур'), (150, 'Сирия'), (151, 'Словакия'), (152, 'Словения'), (153, 'Соломоновы острова'), (154, 'Сомали'), (155, 'Судан'), (156, 'Судно \"Diamond Princess\"'), (157, 'Судно \"MS Zaandam\"'), (158, 'Суринам'), (159, 'Сьерра-Леоне'), (160, 'Таджикистан'), (161, 'Таиланд'), (162, 'Танзания'), (163, 'Того'), (164, 'Тринидад и Тобаго'), (165, 'Тунис'), (166, 'Турция'), (167, 'Уганда'), (168, 'Узбекистан'), (169, 'Украина'), (170, 'Уругвай'), (171, 'Фиджи'), (172, 'Филиппины'), (173, 'Финляндия'), (174, 'Франция'), (175, 'Хорватия'), (176, 'ЦАР'), (177, 'Чад'), (178, 'Черногория'), (179, 'Чехия'), (180, 'Чили'), (181, 'Швейцария'), (182, 'Швеция'), (183, 'Шри-Ланка'), (184, 'Эквадор'), (185, 'Экваториальная Гвинея'), (186, 'Эритрея'), (187, 'Эсватини'), (188, 'Эстония'), (189, 'Эфиопия'), (190, 'ЮАР'), (191, 'Южная Корея'), (192, 'Южный Судан'), (193, 'Ямайка'), (194, 'Япония')])\n"
     ]
    },
    {
     "output_type": "execute_result",
     "data": {
      "text/plain": [
       "             Date  Confirmed  Recovered  Deaths  Day_confirmed  Day_recovered  \\\n",
       "79360  2021-07-08     814319     779855   14865           2230           1519   \n",
       "79361  2021-07-09     816593     781457   14885           2274           1602   \n",
       "79362  2021-07-10     819051     783273   14896           2458           1816   \n",
       "79363  2021-07-11     821083     783291   14902           2032             18   \n",
       "79364  2021-07-12     822594     786425   14905           1511           3134   \n",
       "\n",
       "       Day_deaths     Rt    Rt2  Rate_conf  Rate_ill Country  Remaining_ill  \\\n",
       "79360          17  1.038  1.008          0         0  Япония          19599   \n",
       "79361          20  1.354  1.009          0         0  Япония          20251   \n",
       "79362          11  1.499  1.010          0         0  Япония          20882   \n",
       "79363           6  1.407  1.010          0         0  Япония          22890   \n",
       "79364           3  1.159  1.011          0         0  Япония          21264   \n",
       "\n",
       "       MA7_dayconfirmed  MA14_dayconfirmed  MA7_remaining_ill  \\\n",
       "79360       1754.428571        1633.357143       19019.285714   \n",
       "79361       1825.857143        1672.428571       19172.142857   \n",
       "79362       1907.857143        1731.857143       19401.000000   \n",
       "79363       1986.142857        1786.142857       19947.714286   \n",
       "79364       2053.428571        1822.142857       20339.428571   \n",
       "\n",
       "       MA14_remaining_ill  Change_dayconf  Change_remill  \n",
       "79360        19286.071429              50            694  \n",
       "79361        19262.571429              44            652  \n",
       "79362        19317.928571             184            631  \n",
       "79363        19545.785714            -426           2008  \n",
       "79364        19692.000000            -521          -1626  "
      ],
      "text/html": "<div>\n<style scoped>\n    .dataframe tbody tr th:only-of-type {\n        vertical-align: middle;\n    }\n\n    .dataframe tbody tr th {\n        vertical-align: top;\n    }\n\n    .dataframe thead th {\n        text-align: right;\n    }\n</style>\n<table border=\"1\" class=\"dataframe\">\n  <thead>\n    <tr style=\"text-align: right;\">\n      <th></th>\n      <th>Date</th>\n      <th>Confirmed</th>\n      <th>Recovered</th>\n      <th>Deaths</th>\n      <th>Day_confirmed</th>\n      <th>Day_recovered</th>\n      <th>Day_deaths</th>\n      <th>Rt</th>\n      <th>Rt2</th>\n      <th>Rate_conf</th>\n      <th>Rate_ill</th>\n      <th>Country</th>\n      <th>Remaining_ill</th>\n      <th>MA7_dayconfirmed</th>\n      <th>MA14_dayconfirmed</th>\n      <th>MA7_remaining_ill</th>\n      <th>MA14_remaining_ill</th>\n      <th>Change_dayconf</th>\n      <th>Change_remill</th>\n    </tr>\n  </thead>\n  <tbody>\n    <tr>\n      <th>79360</th>\n      <td>2021-07-08</td>\n      <td>814319</td>\n      <td>779855</td>\n      <td>14865</td>\n      <td>2230</td>\n      <td>1519</td>\n      <td>17</td>\n      <td>1.038</td>\n      <td>1.008</td>\n      <td>0</td>\n      <td>0</td>\n      <td>Япония</td>\n      <td>19599</td>\n      <td>1754.428571</td>\n      <td>1633.357143</td>\n      <td>19019.285714</td>\n      <td>19286.071429</td>\n      <td>50</td>\n      <td>694</td>\n    </tr>\n    <tr>\n      <th>79361</th>\n      <td>2021-07-09</td>\n      <td>816593</td>\n      <td>781457</td>\n      <td>14885</td>\n      <td>2274</td>\n      <td>1602</td>\n      <td>20</td>\n      <td>1.354</td>\n      <td>1.009</td>\n      <td>0</td>\n      <td>0</td>\n      <td>Япония</td>\n      <td>20251</td>\n      <td>1825.857143</td>\n      <td>1672.428571</td>\n      <td>19172.142857</td>\n      <td>19262.571429</td>\n      <td>44</td>\n      <td>652</td>\n    </tr>\n    <tr>\n      <th>79362</th>\n      <td>2021-07-10</td>\n      <td>819051</td>\n      <td>783273</td>\n      <td>14896</td>\n      <td>2458</td>\n      <td>1816</td>\n      <td>11</td>\n      <td>1.499</td>\n      <td>1.010</td>\n      <td>0</td>\n      <td>0</td>\n      <td>Япония</td>\n      <td>20882</td>\n      <td>1907.857143</td>\n      <td>1731.857143</td>\n      <td>19401.000000</td>\n      <td>19317.928571</td>\n      <td>184</td>\n      <td>631</td>\n    </tr>\n    <tr>\n      <th>79363</th>\n      <td>2021-07-11</td>\n      <td>821083</td>\n      <td>783291</td>\n      <td>14902</td>\n      <td>2032</td>\n      <td>18</td>\n      <td>6</td>\n      <td>1.407</td>\n      <td>1.010</td>\n      <td>0</td>\n      <td>0</td>\n      <td>Япония</td>\n      <td>22890</td>\n      <td>1986.142857</td>\n      <td>1786.142857</td>\n      <td>19947.714286</td>\n      <td>19545.785714</td>\n      <td>-426</td>\n      <td>2008</td>\n    </tr>\n    <tr>\n      <th>79364</th>\n      <td>2021-07-12</td>\n      <td>822594</td>\n      <td>786425</td>\n      <td>14905</td>\n      <td>1511</td>\n      <td>3134</td>\n      <td>3</td>\n      <td>1.159</td>\n      <td>1.011</td>\n      <td>0</td>\n      <td>0</td>\n      <td>Япония</td>\n      <td>21264</td>\n      <td>2053.428571</td>\n      <td>1822.142857</td>\n      <td>20339.428571</td>\n      <td>19692.000000</td>\n      <td>-521</td>\n      <td>-1626</td>\n    </tr>\n  </tbody>\n</table>\n</div>"
     },
     "metadata": {},
     "execution_count": 5
    }
   ],
   "source": [
    "X = pd.DataFrame()\n",
    "country_dict = {}\n",
    "yandex_world['Rt'] = 1\n",
    "yandex_world['Rt2'] = 1\n",
    "yandex_world['Rate_conf'] = 0\n",
    "yandex_world['Rate_ill'] = 0\n",
    "\n",
    "temp_df = yandex_world.groupby(['Country','Date']).sum()\n",
    "\n",
    "# Ниже enumerate  для составления словаря из имен регионов {i:j} , для расчетов можно было использовать только j\n",
    "\n",
    "for i,j in enumerate(temp_df.index.get_level_values(0).unique()):\n",
    "    temp_df2 =  temp_df.loc[j]\n",
    "    temp1 = temp_df2['Day_confirmed'].rolling(4).sum()/(temp_df2[\"Day_confirmed\"].rolling(8).sum()-\n",
    "\n",
    "                                                              temp_df2[\"Day_confirmed\"].rolling(4).sum())\n",
    "    temp2 = temp_df2['Confirmed'].rolling(4).sum()/(temp_df2['Confirmed'].rolling(8).sum()-\n",
    "\n",
    "                                                              temp_df2['Confirmed'].rolling(4).sum())\n",
    "    temp_df2['Rt'] = round(temp1,3)\n",
    "    temp_df2['Rt2'] = round(temp2,3)\n",
    "    temp_df2['Country'] = j\n",
    "    temp_df2['Remaining_ill']=temp_df2['Confirmed']-temp_df2['Recovered']-temp_df2['Deaths']\n",
    "    temp_df2['MA7_dayconfirmed']=temp_df2['Day_confirmed'].rolling(window=7).mean()\n",
    "    temp_df2['MA14_dayconfirmed']=temp_df2['Day_confirmed'].rolling(window=14).mean()\n",
    "    temp_df2['MA7_remaining_ill']=temp_df2['Remaining_ill'].rolling(window=7).mean()\n",
    "    temp_df2['MA14_remaining_ill']=temp_df2['Remaining_ill'].rolling(window=14).mean()\n",
    "    \n",
    "    temp_df2['Change_dayconf'] = 0\n",
    "    for k in range(1,temp_df2.shape[0]):\n",
    "        temp_df2['Change_dayconf'].iloc[k]=temp_df2['Day_confirmed'].iloc[k]-temp_df2['Day_confirmed'].iloc[k-1]\n",
    "    temp_df2['Change_remill'] = 0\n",
    "    for k in range(1,temp_df2.shape[0]):\n",
    "        temp_df2['Change_remill'].iloc[k]=temp_df2['Remaining_ill'].iloc[k]-temp_df2['Remaining_ill'].iloc[k-1]\n",
    "    \n",
    "    \n",
    "\n",
    "   #Генератор DF  на каждый регион(сидит в цикле):\n",
    "   # globals()['x' + str(i)] = temp_df2.reset_index()\n",
    "    \n",
    "    X = pd.concat([X,temp_df2.reset_index()],axis = 0)\n",
    "    country_dict[i]=j\n",
    "    \n",
    "print(country_dict.items())\n",
    "    \n",
    "X = X.reset_index(drop=True)\n",
    "X.tail()\n"
   ]
  },
  {
   "cell_type": "code",
   "execution_count": 6,
   "metadata": {
    "tags": []
   },
   "outputs": [
    {
     "output_type": "stream",
     "name": "stdout",
     "text": [
      "            Confirmed  Remaining_ill\nDate                                \n2021-07-11  186816068       59641984\n2021-07-12  187238474       59771333\n79365\n(79365, 19)\n2020-06-01\n"
     ]
    }
   ],
   "source": [
    "# Добавляем колонки расчитанные ,доля их в процентах от суммарного показателя в мире\n",
    "mask = X.Country == 'Весь мир'\n",
    "temp_df = X[mask][['Date','Confirmed','Remaining_ill']]\n",
    "temp_df.index = temp_df.Date\n",
    "temp_df.drop(columns =['Date'], inplace = True)\n",
    "print(temp_df.tail(2))\n",
    "# print(temp_df.index.get_level_values(0))\n",
    "# temp_df.loc[datetime.date(2020,6,15),'Россия'].Confirmed\n",
    "# for i in temp_df.index.get_level_values(0).unique()[-2:]:\n",
    "#     print(temp_df.loc[i,'Россия'].Confirmed)\n",
    "world_date = list(temp_df.index)\n",
    "world_conf = list(temp_df.Confirmed)\n",
    "world_ill = list(temp_df.Remaining_ill)\n",
    "world_dict_conf = dict(zip(world_date,world_conf))\n",
    "world_dict_ill = dict(zip(world_date,world_ill))\n",
    "\n",
    "print(len(X))\n",
    "print(X.shape)\n",
    "print(X.loc[0,'Date'])\n",
    "for i in range(len(X)):\n",
    "    X.loc[i,'Rate_conf']=100*X.loc[i,'Confirmed']/world_dict_conf.get(X.loc[i,'Date'])\n",
    "    X.loc[i,'Rate_ill']=100*X.loc[i,'Remaining_ill']/world_dict_ill.get(X.loc[i,'Date'])\n"
   ]
  },
  {
   "cell_type": "code",
   "execution_count": 7,
   "metadata": {},
   "outputs": [
    {
     "output_type": "execute_result",
     "data": {
      "text/plain": [
       "             Date  Confirmed Country  Rate_conf  Rate_ill\n",
       "54518  2021-06-23    5306069  Россия   2.954455  0.570544\n",
       "54519  2021-06-24    5325940  Россия   2.958866  0.579895\n",
       "54520  2021-06-25    5346005  Россия   2.963070  0.588712\n",
       "54521  2021-06-26    5367317  Россия   2.968912  0.599328\n",
       "54522  2021-06-27    5387486  Россия   2.974969  0.610781\n",
       "54523  2021-06-28    5408744  Россия   2.981243  0.624589\n",
       "54524  2021-06-29    5428961  Россия   2.986064  0.632490\n",
       "54525  2021-06-30    5449594  Россия   2.990957  0.637976\n",
       "54526  2021-07-01    5472722  Россия   2.996430  0.647817\n",
       "54527  2021-07-02    5495513  Россия   3.001625  0.653354\n",
       "54528  2021-07-03    5519516  Россия   3.008572  0.661896\n",
       "54529  2021-07-04    5544209  Россия   3.016658  0.676402\n",
       "54530  2021-07-05    5568104  Россия   3.023543  0.691326\n",
       "54531  2021-07-06    5591030  Россия   3.028530  0.696814\n",
       "54532  2021-07-07    5614540  Россия   3.033643  0.699657\n",
       "54533  2021-07-08    5638901  Россия   3.038899  0.702101\n",
       "54534  2021-07-09    5664200  Россия   3.044193  0.705453\n",
       "54535  2021-07-10    5688807  Россия   3.050770  0.716505\n",
       "54536  2021-07-11    5713351  Россия   3.058276  0.726775\n",
       "54537  2021-07-12    5738000  Россия   3.064541  0.737964"
      ],
      "text/html": "<div>\n<style scoped>\n    .dataframe tbody tr th:only-of-type {\n        vertical-align: middle;\n    }\n\n    .dataframe tbody tr th {\n        vertical-align: top;\n    }\n\n    .dataframe thead th {\n        text-align: right;\n    }\n</style>\n<table border=\"1\" class=\"dataframe\">\n  <thead>\n    <tr style=\"text-align: right;\">\n      <th></th>\n      <th>Date</th>\n      <th>Confirmed</th>\n      <th>Country</th>\n      <th>Rate_conf</th>\n      <th>Rate_ill</th>\n    </tr>\n  </thead>\n  <tbody>\n    <tr>\n      <th>54518</th>\n      <td>2021-06-23</td>\n      <td>5306069</td>\n      <td>Россия</td>\n      <td>2.954455</td>\n      <td>0.570544</td>\n    </tr>\n    <tr>\n      <th>54519</th>\n      <td>2021-06-24</td>\n      <td>5325940</td>\n      <td>Россия</td>\n      <td>2.958866</td>\n      <td>0.579895</td>\n    </tr>\n    <tr>\n      <th>54520</th>\n      <td>2021-06-25</td>\n      <td>5346005</td>\n      <td>Россия</td>\n      <td>2.963070</td>\n      <td>0.588712</td>\n    </tr>\n    <tr>\n      <th>54521</th>\n      <td>2021-06-26</td>\n      <td>5367317</td>\n      <td>Россия</td>\n      <td>2.968912</td>\n      <td>0.599328</td>\n    </tr>\n    <tr>\n      <th>54522</th>\n      <td>2021-06-27</td>\n      <td>5387486</td>\n      <td>Россия</td>\n      <td>2.974969</td>\n      <td>0.610781</td>\n    </tr>\n    <tr>\n      <th>54523</th>\n      <td>2021-06-28</td>\n      <td>5408744</td>\n      <td>Россия</td>\n      <td>2.981243</td>\n      <td>0.624589</td>\n    </tr>\n    <tr>\n      <th>54524</th>\n      <td>2021-06-29</td>\n      <td>5428961</td>\n      <td>Россия</td>\n      <td>2.986064</td>\n      <td>0.632490</td>\n    </tr>\n    <tr>\n      <th>54525</th>\n      <td>2021-06-30</td>\n      <td>5449594</td>\n      <td>Россия</td>\n      <td>2.990957</td>\n      <td>0.637976</td>\n    </tr>\n    <tr>\n      <th>54526</th>\n      <td>2021-07-01</td>\n      <td>5472722</td>\n      <td>Россия</td>\n      <td>2.996430</td>\n      <td>0.647817</td>\n    </tr>\n    <tr>\n      <th>54527</th>\n      <td>2021-07-02</td>\n      <td>5495513</td>\n      <td>Россия</td>\n      <td>3.001625</td>\n      <td>0.653354</td>\n    </tr>\n    <tr>\n      <th>54528</th>\n      <td>2021-07-03</td>\n      <td>5519516</td>\n      <td>Россия</td>\n      <td>3.008572</td>\n      <td>0.661896</td>\n    </tr>\n    <tr>\n      <th>54529</th>\n      <td>2021-07-04</td>\n      <td>5544209</td>\n      <td>Россия</td>\n      <td>3.016658</td>\n      <td>0.676402</td>\n    </tr>\n    <tr>\n      <th>54530</th>\n      <td>2021-07-05</td>\n      <td>5568104</td>\n      <td>Россия</td>\n      <td>3.023543</td>\n      <td>0.691326</td>\n    </tr>\n    <tr>\n      <th>54531</th>\n      <td>2021-07-06</td>\n      <td>5591030</td>\n      <td>Россия</td>\n      <td>3.028530</td>\n      <td>0.696814</td>\n    </tr>\n    <tr>\n      <th>54532</th>\n      <td>2021-07-07</td>\n      <td>5614540</td>\n      <td>Россия</td>\n      <td>3.033643</td>\n      <td>0.699657</td>\n    </tr>\n    <tr>\n      <th>54533</th>\n      <td>2021-07-08</td>\n      <td>5638901</td>\n      <td>Россия</td>\n      <td>3.038899</td>\n      <td>0.702101</td>\n    </tr>\n    <tr>\n      <th>54534</th>\n      <td>2021-07-09</td>\n      <td>5664200</td>\n      <td>Россия</td>\n      <td>3.044193</td>\n      <td>0.705453</td>\n    </tr>\n    <tr>\n      <th>54535</th>\n      <td>2021-07-10</td>\n      <td>5688807</td>\n      <td>Россия</td>\n      <td>3.050770</td>\n      <td>0.716505</td>\n    </tr>\n    <tr>\n      <th>54536</th>\n      <td>2021-07-11</td>\n      <td>5713351</td>\n      <td>Россия</td>\n      <td>3.058276</td>\n      <td>0.726775</td>\n    </tr>\n    <tr>\n      <th>54537</th>\n      <td>2021-07-12</td>\n      <td>5738000</td>\n      <td>Россия</td>\n      <td>3.064541</td>\n      <td>0.737964</td>\n    </tr>\n  </tbody>\n</table>\n</div>"
     },
     "metadata": {},
     "execution_count": 7
    }
   ],
   "source": [
    "# Проверка расчетов процентных показателей\n",
    "mask = (X.Date>=datetime.date(2020,6,13))&(X.Country.isin(['Весь мир','Россия']))\n",
    "\n",
    "temp=X[mask]\n",
    "temp[['Date','Confirmed','Country','Rate_conf','Rate_ill']].tail(20)"
   ]
  },
  {
   "cell_type": "code",
   "execution_count": 8,
   "metadata": {},
   "outputs": [],
   "source": [
    "X.to_csv('W.csv',index=False)"
   ]
  },
  {
   "cell_type": "code",
   "execution_count": null,
   "metadata": {},
   "outputs": [],
   "source": []
  }
 ],
 "metadata": {
  "kernelspec": {
   "name": "python3",
   "display_name": "Python 3.8.10 64-bit ('covid': venv)"
  },
  "language_info": {
   "codemirror_mode": {
    "name": "ipython",
    "version": 3
   },
   "file_extension": ".py",
   "mimetype": "text/x-python",
   "name": "python",
   "nbconvert_exporter": "python",
   "pygments_lexer": "ipython3",
   "version": "3.8.10"
  },
  "interpreter": {
   "hash": "a6f4931467b3983d87ef805b1dfdeb49ff43f6a89ad40f137788944a0076c194"
  }
 },
 "nbformat": 4,
 "nbformat_minor": 4
}