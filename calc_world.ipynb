{
 "cells": [
  {
   "cell_type": "code",
   "execution_count": 1,
   "metadata": {},
   "outputs": [],
   "source": [
    "import pandas as pd\n",
    "import datetime\n",
    "import plotly.graph_objects as go\n",
    "import plotly.express as px\n",
    "import plotly.figure_factory as ff\n",
    "\n",
    "\n"
   ]
  },
  {
   "cell_type": "code",
   "execution_count": 2,
   "metadata": {},
   "outputs": [
    {
     "output_type": "execute_result",
     "data": {
      "text/plain": [
       "      Country        Date  Confirmed  Recovered  Deaths  Day_confirmed  \\\n",
       "58500  Япония  2020-11-05     104964      94376    1806           1036   \n",
       "58501  Япония  2020-11-06     106136      95010    1810           1172   \n",
       "58502  Япония  2020-11-07     107439      95703    1815           1303   \n",
       "58503  Япония  2020-11-08     108394      96430    1821            955   \n",
       "58504  Япония  2020-11-09     109191      96684    1834            797   \n",
       "58505  Япония  2020-11-10     110487      98487    1840           1296   \n",
       "58506  Япония  2020-11-11     112011      98305    1847           1524   \n",
       "58507  Япония  2020-11-12     113655      99282    1854           1644   \n",
       "58508  Япония  2020-11-13     115360     100197    1864           1705   \n",
       "58509  Япония  2020-11-14     117113     101162    1865           1753   \n",
       "58510  Япония  2020-11-15     118611      91954    1874           1498   \n",
       "58511  Япония  2020-11-16     119557     102810    1883            946   \n",
       "58512  Япония  2020-11-17     121247     103778    1895           1690   \n",
       "58513  Япония  2020-11-18     123477     104837    1908           2230   \n",
       "58514  Япония  2020-11-19     125859     106074    1920           2382   \n",
       "58515  Япония  2020-11-20     128285     107521    1930           2426   \n",
       "58516  Япония  2020-11-21     130871     108981    1932           2586   \n",
       "58517  Япония  2020-11-22     133034     110273    1943           2163   \n",
       "58518  Япония  2020-11-23     134554     111343    1949           1520   \n",
       "58519  Япония  2020-11-24     135786     112385    1963           1232   \n",
       "\n",
       "       Day_recovered  Day_deaths  \n",
       "58500            812           7  \n",
       "58501            634           4  \n",
       "58502            693           5  \n",
       "58503            727           6  \n",
       "58504            254          13  \n",
       "58505           1803           6  \n",
       "58506           -182           7  \n",
       "58507            977           7  \n",
       "58508            915          10  \n",
       "58509            965           1  \n",
       "58510          -9208           9  \n",
       "58511          10856           9  \n",
       "58512            968          12  \n",
       "58513           1059          13  \n",
       "58514           1237          12  \n",
       "58515           1447          10  \n",
       "58516           1460           2  \n",
       "58517           1292          11  \n",
       "58518           1070           6  \n",
       "58519           1042          14  "
      ],
      "text/html": "<div>\n<style scoped>\n    .dataframe tbody tr th:only-of-type {\n        vertical-align: middle;\n    }\n\n    .dataframe tbody tr th {\n        vertical-align: top;\n    }\n\n    .dataframe thead th {\n        text-align: right;\n    }\n</style>\n<table border=\"1\" class=\"dataframe\">\n  <thead>\n    <tr style=\"text-align: right;\">\n      <th></th>\n      <th>Country</th>\n      <th>Date</th>\n      <th>Confirmed</th>\n      <th>Recovered</th>\n      <th>Deaths</th>\n      <th>Day_confirmed</th>\n      <th>Day_recovered</th>\n      <th>Day_deaths</th>\n    </tr>\n  </thead>\n  <tbody>\n    <tr>\n      <th>58500</th>\n      <td>Япония</td>\n      <td>2020-11-05</td>\n      <td>104964</td>\n      <td>94376</td>\n      <td>1806</td>\n      <td>1036</td>\n      <td>812</td>\n      <td>7</td>\n    </tr>\n    <tr>\n      <th>58501</th>\n      <td>Япония</td>\n      <td>2020-11-06</td>\n      <td>106136</td>\n      <td>95010</td>\n      <td>1810</td>\n      <td>1172</td>\n      <td>634</td>\n      <td>4</td>\n    </tr>\n    <tr>\n      <th>58502</th>\n      <td>Япония</td>\n      <td>2020-11-07</td>\n      <td>107439</td>\n      <td>95703</td>\n      <td>1815</td>\n      <td>1303</td>\n      <td>693</td>\n      <td>5</td>\n    </tr>\n    <tr>\n      <th>58503</th>\n      <td>Япония</td>\n      <td>2020-11-08</td>\n      <td>108394</td>\n      <td>96430</td>\n      <td>1821</td>\n      <td>955</td>\n      <td>727</td>\n      <td>6</td>\n    </tr>\n    <tr>\n      <th>58504</th>\n      <td>Япония</td>\n      <td>2020-11-09</td>\n      <td>109191</td>\n      <td>96684</td>\n      <td>1834</td>\n      <td>797</td>\n      <td>254</td>\n      <td>13</td>\n    </tr>\n    <tr>\n      <th>58505</th>\n      <td>Япония</td>\n      <td>2020-11-10</td>\n      <td>110487</td>\n      <td>98487</td>\n      <td>1840</td>\n      <td>1296</td>\n      <td>1803</td>\n      <td>6</td>\n    </tr>\n    <tr>\n      <th>58506</th>\n      <td>Япония</td>\n      <td>2020-11-11</td>\n      <td>112011</td>\n      <td>98305</td>\n      <td>1847</td>\n      <td>1524</td>\n      <td>-182</td>\n      <td>7</td>\n    </tr>\n    <tr>\n      <th>58507</th>\n      <td>Япония</td>\n      <td>2020-11-12</td>\n      <td>113655</td>\n      <td>99282</td>\n      <td>1854</td>\n      <td>1644</td>\n      <td>977</td>\n      <td>7</td>\n    </tr>\n    <tr>\n      <th>58508</th>\n      <td>Япония</td>\n      <td>2020-11-13</td>\n      <td>115360</td>\n      <td>100197</td>\n      <td>1864</td>\n      <td>1705</td>\n      <td>915</td>\n      <td>10</td>\n    </tr>\n    <tr>\n      <th>58509</th>\n      <td>Япония</td>\n      <td>2020-11-14</td>\n      <td>117113</td>\n      <td>101162</td>\n      <td>1865</td>\n      <td>1753</td>\n      <td>965</td>\n      <td>1</td>\n    </tr>\n    <tr>\n      <th>58510</th>\n      <td>Япония</td>\n      <td>2020-11-15</td>\n      <td>118611</td>\n      <td>91954</td>\n      <td>1874</td>\n      <td>1498</td>\n      <td>-9208</td>\n      <td>9</td>\n    </tr>\n    <tr>\n      <th>58511</th>\n      <td>Япония</td>\n      <td>2020-11-16</td>\n      <td>119557</td>\n      <td>102810</td>\n      <td>1883</td>\n      <td>946</td>\n      <td>10856</td>\n      <td>9</td>\n    </tr>\n    <tr>\n      <th>58512</th>\n      <td>Япония</td>\n      <td>2020-11-17</td>\n      <td>121247</td>\n      <td>103778</td>\n      <td>1895</td>\n      <td>1690</td>\n      <td>968</td>\n      <td>12</td>\n    </tr>\n    <tr>\n      <th>58513</th>\n      <td>Япония</td>\n      <td>2020-11-18</td>\n      <td>123477</td>\n      <td>104837</td>\n      <td>1908</td>\n      <td>2230</td>\n      <td>1059</td>\n      <td>13</td>\n    </tr>\n    <tr>\n      <th>58514</th>\n      <td>Япония</td>\n      <td>2020-11-19</td>\n      <td>125859</td>\n      <td>106074</td>\n      <td>1920</td>\n      <td>2382</td>\n      <td>1237</td>\n      <td>12</td>\n    </tr>\n    <tr>\n      <th>58515</th>\n      <td>Япония</td>\n      <td>2020-11-20</td>\n      <td>128285</td>\n      <td>107521</td>\n      <td>1930</td>\n      <td>2426</td>\n      <td>1447</td>\n      <td>10</td>\n    </tr>\n    <tr>\n      <th>58516</th>\n      <td>Япония</td>\n      <td>2020-11-21</td>\n      <td>130871</td>\n      <td>108981</td>\n      <td>1932</td>\n      <td>2586</td>\n      <td>1460</td>\n      <td>2</td>\n    </tr>\n    <tr>\n      <th>58517</th>\n      <td>Япония</td>\n      <td>2020-11-22</td>\n      <td>133034</td>\n      <td>110273</td>\n      <td>1943</td>\n      <td>2163</td>\n      <td>1292</td>\n      <td>11</td>\n    </tr>\n    <tr>\n      <th>58518</th>\n      <td>Япония</td>\n      <td>2020-11-23</td>\n      <td>134554</td>\n      <td>111343</td>\n      <td>1949</td>\n      <td>1520</td>\n      <td>1070</td>\n      <td>6</td>\n    </tr>\n    <tr>\n      <th>58519</th>\n      <td>Япония</td>\n      <td>2020-11-24</td>\n      <td>135786</td>\n      <td>112385</td>\n      <td>1963</td>\n      <td>1232</td>\n      <td>1042</td>\n      <td>14</td>\n    </tr>\n  </tbody>\n</table>\n</div>"
     },
     "metadata": {},
     "execution_count": 2
    }
   ],
   "source": [
    "yandex_world = pd.read_csv('yandex_world.csv')\n",
    "yandex_world.rename(columns = {'Дата':'Date','Страна':'Country','Заражений':'Confirmed','Выздоровлений':'Recovered',\n",
    "                               'Смертей':'Deaths','Смертей за день':'Day_deaths',\n",
    "                               'Заражений за день':'Day_confirmed','Выздоровлений за день':'Day_recovered'},inplace = True)\n",
    "for i in range(yandex_world.shape[0]):\n",
    "    a= yandex_world.Date[i].split('.')\n",
    "    yandex_world.Date[i]=datetime.date(int(a[2]),int(a[1]),int(a[0]))\n",
    "\n",
    "yandex_world.tail(20)"
   ]
  },
  {
   "cell_type": "code",
   "execution_count": 3,
   "metadata": {},
   "outputs": [
    {
     "output_type": "execute_result",
     "data": {
      "text/plain": [
       "      Country        Date  Confirmed  Recovered   Deaths  Day_confirmed  \\\n",
       "298  Весь мир  2020-11-15   54502332   34960714  1319227         473006   \n",
       "299  Весь мир  2020-11-16   55030781   35350741  1327066         528449   \n",
       "300  Весь мир  2020-11-17   55638883   35784056  1338150         608102   \n",
       "301  Весь мир  2020-11-18   56262553   36146977  1349473         623670   \n",
       "302  Весь мир  2020-11-19   56913120   36519821  1360446         650567   \n",
       "303  Весь мир  2020-11-20   57579266   36875075  1372286         666146   \n",
       "304  Весь мир  2020-11-21   58165570   37214376  1381071         586304   \n",
       "305  Весь мир  2020-11-22   58649369   37486362  1388152         483799   \n",
       "306  Весь мир  2020-11-23   59171078   37896435  1396467         521709   \n",
       "307  Весь мир  2020-11-24   59759494   38267861  1409252         588416   \n",
       "\n",
       "     Day_recovered  Day_deaths  \n",
       "298         229400        6259  \n",
       "299         390027        7839  \n",
       "300         433315       11084  \n",
       "301         362921       11323  \n",
       "302         372844       10973  \n",
       "303         355254       11840  \n",
       "304         339301        8785  \n",
       "305         271986        7081  \n",
       "306         410073        8315  \n",
       "307         371426       12785  "
      ],
      "text/html": "<div>\n<style scoped>\n    .dataframe tbody tr th:only-of-type {\n        vertical-align: middle;\n    }\n\n    .dataframe tbody tr th {\n        vertical-align: top;\n    }\n\n    .dataframe thead th {\n        text-align: right;\n    }\n</style>\n<table border=\"1\" class=\"dataframe\">\n  <thead>\n    <tr style=\"text-align: right;\">\n      <th></th>\n      <th>Country</th>\n      <th>Date</th>\n      <th>Confirmed</th>\n      <th>Recovered</th>\n      <th>Deaths</th>\n      <th>Day_confirmed</th>\n      <th>Day_recovered</th>\n      <th>Day_deaths</th>\n    </tr>\n  </thead>\n  <tbody>\n    <tr>\n      <th>298</th>\n      <td>Весь мир</td>\n      <td>2020-11-15</td>\n      <td>54502332</td>\n      <td>34960714</td>\n      <td>1319227</td>\n      <td>473006</td>\n      <td>229400</td>\n      <td>6259</td>\n    </tr>\n    <tr>\n      <th>299</th>\n      <td>Весь мир</td>\n      <td>2020-11-16</td>\n      <td>55030781</td>\n      <td>35350741</td>\n      <td>1327066</td>\n      <td>528449</td>\n      <td>390027</td>\n      <td>7839</td>\n    </tr>\n    <tr>\n      <th>300</th>\n      <td>Весь мир</td>\n      <td>2020-11-17</td>\n      <td>55638883</td>\n      <td>35784056</td>\n      <td>1338150</td>\n      <td>608102</td>\n      <td>433315</td>\n      <td>11084</td>\n    </tr>\n    <tr>\n      <th>301</th>\n      <td>Весь мир</td>\n      <td>2020-11-18</td>\n      <td>56262553</td>\n      <td>36146977</td>\n      <td>1349473</td>\n      <td>623670</td>\n      <td>362921</td>\n      <td>11323</td>\n    </tr>\n    <tr>\n      <th>302</th>\n      <td>Весь мир</td>\n      <td>2020-11-19</td>\n      <td>56913120</td>\n      <td>36519821</td>\n      <td>1360446</td>\n      <td>650567</td>\n      <td>372844</td>\n      <td>10973</td>\n    </tr>\n    <tr>\n      <th>303</th>\n      <td>Весь мир</td>\n      <td>2020-11-20</td>\n      <td>57579266</td>\n      <td>36875075</td>\n      <td>1372286</td>\n      <td>666146</td>\n      <td>355254</td>\n      <td>11840</td>\n    </tr>\n    <tr>\n      <th>304</th>\n      <td>Весь мир</td>\n      <td>2020-11-21</td>\n      <td>58165570</td>\n      <td>37214376</td>\n      <td>1381071</td>\n      <td>586304</td>\n      <td>339301</td>\n      <td>8785</td>\n    </tr>\n    <tr>\n      <th>305</th>\n      <td>Весь мир</td>\n      <td>2020-11-22</td>\n      <td>58649369</td>\n      <td>37486362</td>\n      <td>1388152</td>\n      <td>483799</td>\n      <td>271986</td>\n      <td>7081</td>\n    </tr>\n    <tr>\n      <th>306</th>\n      <td>Весь мир</td>\n      <td>2020-11-23</td>\n      <td>59171078</td>\n      <td>37896435</td>\n      <td>1396467</td>\n      <td>521709</td>\n      <td>410073</td>\n      <td>8315</td>\n    </tr>\n    <tr>\n      <th>307</th>\n      <td>Весь мир</td>\n      <td>2020-11-24</td>\n      <td>59759494</td>\n      <td>38267861</td>\n      <td>1409252</td>\n      <td>588416</td>\n      <td>371426</td>\n      <td>12785</td>\n    </tr>\n  </tbody>\n</table>\n</div>"
     },
     "metadata": {},
     "execution_count": 3
    }
   ],
   "source": [
    "df3_temp = yandex_world.groupby('Date').sum()\n",
    "df3_temp['Country']='Весь мир'\n",
    "\n",
    "y5= pd.concat([yandex_world,df3_temp.reset_index()],axis = 0)\n",
    "y5.reset_index()\n",
    "yandex_world = y5\n",
    "yandex_world.tail(10)"
   ]
  },
  {
   "cell_type": "code",
   "execution_count": 4,
   "metadata": {
    "tags": []
   },
   "outputs": [
    {
     "output_type": "stream",
     "name": "stdout",
     "text": [
      "Весь мир\nВыбран день:  2020-11-24\n"
     ]
    }
   ],
   "source": [
    "# dt = datetime.datetime.today()\n",
    "# today = datetime.date(dt.year,dt.month,dt.day)\n",
    "# ystday = datetime.date(today.year,today.month,today.day-1)\n",
    "# yst2day = datetime.date(today.year,today.month,today.day-2)\n",
    "# yst3day = datetime.date(today.year,today.month,today.day-3)\n",
    "\n",
    "# print(today)\n",
    "# print(ystday)\n",
    "# print(yst2day)\n",
    "# print(yst3day)\n",
    "myday = list(yandex_world.tail(1).Date)[0]\n",
    "\n",
    "print(yandex_world.iloc[-1,0])\n",
    "print('Выбран день: ',myday)"
   ]
  },
  {
   "cell_type": "code",
   "execution_count": 5,
   "metadata": {
    "tags": []
   },
   "outputs": [
    {
     "output_type": "stream",
     "name": "stdout",
     "text": [
      "dict_items([(0, 'Marshall Islands'), (1, 'Австралия'), (2, 'Австрия'), (3, 'Азербайджан'), (4, 'Албания'), (5, 'Алжир'), (6, 'Ангола'), (7, 'Андорра'), (8, 'Антигуа и Барбуда'), (9, 'Аргентина'), (10, 'Армения'), (11, 'Афганистан'), (12, 'Багамские острова'), (13, 'Бангладеш'), (14, 'Барбадос'), (15, 'Бахрейн'), (16, 'Беларусь'), (17, 'Белиз'), (18, 'Бельгия'), (19, 'Бенин'), (20, 'Болгария'), (21, 'Боливия'), (22, 'Босния и Герцеговина'), (23, 'Ботсвана'), (24, 'Бразилия'), (25, 'Бруней'), (26, 'Буркина-Фасо'), (27, 'Бурунди'), (28, 'Бутан'), (29, 'Вануату'), (30, 'Великобритания'), (31, 'Венгрия'), (32, 'Венесуэла'), (33, 'Весь мир'), (34, 'Восточный Тимор'), (35, 'Вьетнам'), (36, 'Габон'), (37, 'Гаити'), (38, 'Гайана'), (39, 'Гамбия'), (40, 'Гана'), (41, 'Гватемала'), (42, 'Гвинея'), (43, 'Гвинея-Бисау'), (44, 'Германия'), (45, 'Гондурас'), (46, 'Гренада'), (47, 'Греция'), (48, 'Грузия'), (49, 'ДР Конго'), (50, 'Дания'), (51, 'Джибути'), (52, 'Доминика'), (53, 'Доминиканская Республика'), (54, 'Египет'), (55, 'Замбия'), (56, 'Западная Сахара'), (57, 'Западный берег реки Иордан'), (58, 'Зимбабве'), (59, 'Израиль'), (60, 'Индия'), (61, 'Индонезия'), (62, 'Иордания'), (63, 'Ирак'), (64, 'Иран'), (65, 'Ирландия'), (66, 'Исландия'), (67, 'Испания'), (68, 'Италия'), (69, 'Йемен'), (70, 'Кабо-Верде'), (71, 'Казахстан'), (72, 'Камбоджа'), (73, 'Камерун'), (74, 'Канада'), (75, 'Катар'), (76, 'Кения'), (77, 'Кипр'), (78, 'Киргизия'), (79, 'Китай'), (80, 'Колумбия'), (81, 'Коморские острова'), (82, 'Косово и Метохия'), (83, 'Коста-Рика'), (84, 'Кот-д’Ивуар'), (85, 'Куба'), (86, 'Кувейт'), (87, 'Лаос'), (88, 'Латвия'), (89, 'Лесото'), (90, 'Либерия'), (91, 'Ливан'), (92, 'Ливия'), (93, 'Литва'), (94, 'Лихтенштейн'), (95, 'Люксембург'), (96, 'Маврикий'), (97, 'Мавритания'), (98, 'Мадагаскар'), (99, 'Малави'), (100, 'Малайзия'), (101, 'Мали'), (102, 'Мальдивы'), (103, 'Мальта'), (104, 'Марокко'), (105, 'Мексика'), (106, 'Мозамбик'), (107, 'Молдавия'), (108, 'Монако'), (109, 'Монголия'), (110, 'Мьянма'), (111, 'Намибия'), (112, 'Непал'), (113, 'Нигер'), (114, 'Нигерия'), (115, 'Нидерланды'), (116, 'Никарагуа'), (117, 'Новая Зеландия'), (118, 'Норвегия'), (119, 'ОАЭ'), (120, 'Оман'), (121, 'Пакистан'), (122, 'Панама'), (123, 'Папский Престол'), (124, 'Папуа — Новая Гвинея'), (125, 'Парагвай'), (126, 'Перу'), (127, 'Польша'), (128, 'Португалия'), (129, 'Республика Конго'), (130, 'Россия'), (131, 'Руанда'), (132, 'Румыния'), (133, 'США'), (134, 'Сальвадор'), (135, 'Сан-Марино'), (136, 'Сан-Томе и Принсипи'), (137, 'Саудовская Аравия'), (138, 'Северная Македония'), (139, 'Сейшельские острова'), (140, 'Сенегал'), (141, 'Сент-Винсент и Гренадины'), (142, 'Сент-Китс и Невис'), (143, 'Сент-Люсия'), (144, 'Сербия'), (145, 'Сингапур'), (146, 'Сирия'), (147, 'Словакия'), (148, 'Словения'), (149, 'Соломоновы острова'), (150, 'Сомали'), (151, 'Судан'), (152, 'Судно \"Diamond Princess\"'), (153, 'Судно \"MS Zaandam\"'), (154, 'Суринам'), (155, 'Сьерра-Леоне'), (156, 'Таджикистан'), (157, 'Таиланд'), (158, 'Танзания'), (159, 'Того'), (160, 'Тринидад и Тобаго'), (161, 'Тунис'), (162, 'Турция'), (163, 'Уганда'), (164, 'Узбекистан'), (165, 'Украина'), (166, 'Уругвай'), (167, 'Фиджи'), (168, 'Филиппины'), (169, 'Финляндия'), (170, 'Франция'), (171, 'Хорватия'), (172, 'ЦАР'), (173, 'Чад'), (174, 'Черногория'), (175, 'Чехия'), (176, 'Чили'), (177, 'Швейцария'), (178, 'Швеция'), (179, 'Шри-Ланка'), (180, 'Эквадор'), (181, 'Экваториальная Гвинея'), (182, 'Эритрея'), (183, 'Эсватини'), (184, 'Эстония'), (185, 'Эфиопия'), (186, 'ЮАР'), (187, 'Южная Корея'), (188, 'Южный Судан'), (189, 'Ямайка'), (190, 'Япония')])\n"
     ]
    },
    {
     "output_type": "execute_result",
     "data": {
      "text/plain": [
       "             Date  Confirmed  Recovered  Deaths  Day_confirmed  Day_recovered  \\\n",
       "58823  2020-11-20     128285     107521    1930           2426           1447   \n",
       "58824  2020-11-21     130871     108981    1932           2586           1460   \n",
       "58825  2020-11-22     133034     110273    1943           2163           1292   \n",
       "58826  2020-11-23     134554     111343    1949           1520           1070   \n",
       "58827  2020-11-24     135786     112385    1963           1232           1042   \n",
       "\n",
       "       Day_deaths     Rt    Rt2  Rate_conf  Rate_ill Country  Remaining_ill  \\\n",
       "58823          10  1.479  1.060          0         0  Япония          18834   \n",
       "58824           2  1.635  1.067          0         0  Япония          19958   \n",
       "58825          11  1.502  1.073          0         0  Япония          20818   \n",
       "58826           6  1.200  1.075          0         0  Япония          21262   \n",
       "58827          14  0.859  1.071          0         0  Япония          21438   \n",
       "\n",
       "       MA7_dayconfirmed  MA14_dayconfirmed  MA7_remaining_ill  \\\n",
       "58823       1846.428571        1582.071429       17534.000000   \n",
       "58824       1965.428571        1673.714286       18372.857143   \n",
       "58825       2060.428571        1760.000000       17806.428571   \n",
       "58826       2142.428571        1811.642857       18720.428571   \n",
       "58827       2077.000000        1807.071429       19558.142857   \n",
       "\n",
       "       MA14_remaining_ill  Change_dayconf  Change_remill  \n",
       "58823        14379.428571              44            969  \n",
       "58824        15096.357143             160           1124  \n",
       "58825        15858.857143            -423            860  \n",
       "58826        16615.214286            -643            444  \n",
       "58827        17420.785714            -288            176  "
      ],
      "text/html": "<div>\n<style scoped>\n    .dataframe tbody tr th:only-of-type {\n        vertical-align: middle;\n    }\n\n    .dataframe tbody tr th {\n        vertical-align: top;\n    }\n\n    .dataframe thead th {\n        text-align: right;\n    }\n</style>\n<table border=\"1\" class=\"dataframe\">\n  <thead>\n    <tr style=\"text-align: right;\">\n      <th></th>\n      <th>Date</th>\n      <th>Confirmed</th>\n      <th>Recovered</th>\n      <th>Deaths</th>\n      <th>Day_confirmed</th>\n      <th>Day_recovered</th>\n      <th>Day_deaths</th>\n      <th>Rt</th>\n      <th>Rt2</th>\n      <th>Rate_conf</th>\n      <th>Rate_ill</th>\n      <th>Country</th>\n      <th>Remaining_ill</th>\n      <th>MA7_dayconfirmed</th>\n      <th>MA14_dayconfirmed</th>\n      <th>MA7_remaining_ill</th>\n      <th>MA14_remaining_ill</th>\n      <th>Change_dayconf</th>\n      <th>Change_remill</th>\n    </tr>\n  </thead>\n  <tbody>\n    <tr>\n      <th>58823</th>\n      <td>2020-11-20</td>\n      <td>128285</td>\n      <td>107521</td>\n      <td>1930</td>\n      <td>2426</td>\n      <td>1447</td>\n      <td>10</td>\n      <td>1.479</td>\n      <td>1.060</td>\n      <td>0</td>\n      <td>0</td>\n      <td>Япония</td>\n      <td>18834</td>\n      <td>1846.428571</td>\n      <td>1582.071429</td>\n      <td>17534.000000</td>\n      <td>14379.428571</td>\n      <td>44</td>\n      <td>969</td>\n    </tr>\n    <tr>\n      <th>58824</th>\n      <td>2020-11-21</td>\n      <td>130871</td>\n      <td>108981</td>\n      <td>1932</td>\n      <td>2586</td>\n      <td>1460</td>\n      <td>2</td>\n      <td>1.635</td>\n      <td>1.067</td>\n      <td>0</td>\n      <td>0</td>\n      <td>Япония</td>\n      <td>19958</td>\n      <td>1965.428571</td>\n      <td>1673.714286</td>\n      <td>18372.857143</td>\n      <td>15096.357143</td>\n      <td>160</td>\n      <td>1124</td>\n    </tr>\n    <tr>\n      <th>58825</th>\n      <td>2020-11-22</td>\n      <td>133034</td>\n      <td>110273</td>\n      <td>1943</td>\n      <td>2163</td>\n      <td>1292</td>\n      <td>11</td>\n      <td>1.502</td>\n      <td>1.073</td>\n      <td>0</td>\n      <td>0</td>\n      <td>Япония</td>\n      <td>20818</td>\n      <td>2060.428571</td>\n      <td>1760.000000</td>\n      <td>17806.428571</td>\n      <td>15858.857143</td>\n      <td>-423</td>\n      <td>860</td>\n    </tr>\n    <tr>\n      <th>58826</th>\n      <td>2020-11-23</td>\n      <td>134554</td>\n      <td>111343</td>\n      <td>1949</td>\n      <td>1520</td>\n      <td>1070</td>\n      <td>6</td>\n      <td>1.200</td>\n      <td>1.075</td>\n      <td>0</td>\n      <td>0</td>\n      <td>Япония</td>\n      <td>21262</td>\n      <td>2142.428571</td>\n      <td>1811.642857</td>\n      <td>18720.428571</td>\n      <td>16615.214286</td>\n      <td>-643</td>\n      <td>444</td>\n    </tr>\n    <tr>\n      <th>58827</th>\n      <td>2020-11-24</td>\n      <td>135786</td>\n      <td>112385</td>\n      <td>1963</td>\n      <td>1232</td>\n      <td>1042</td>\n      <td>14</td>\n      <td>0.859</td>\n      <td>1.071</td>\n      <td>0</td>\n      <td>0</td>\n      <td>Япония</td>\n      <td>21438</td>\n      <td>2077.000000</td>\n      <td>1807.071429</td>\n      <td>19558.142857</td>\n      <td>17420.785714</td>\n      <td>-288</td>\n      <td>176</td>\n    </tr>\n  </tbody>\n</table>\n</div>"
     },
     "metadata": {},
     "execution_count": 5
    }
   ],
   "source": [
    "X = pd.DataFrame()\n",
    "country_dict = {}\n",
    "yandex_world['Rt'] = 1\n",
    "yandex_world['Rt2'] = 1\n",
    "yandex_world['Rate_conf'] = 0\n",
    "yandex_world['Rate_ill'] = 0\n",
    "\n",
    "temp_df = yandex_world.groupby(['Country','Date']).sum()\n",
    "\n",
    "# Ниже enumerate  для составления словаря из имен регионов {i:j} , для расчетов можно было использовать только j\n",
    "\n",
    "for i,j in enumerate(temp_df.index.get_level_values(0).unique()):\n",
    "    temp_df2 =  temp_df.loc[j]\n",
    "    temp1 = temp_df2['Day_confirmed'].rolling(4).sum()/(temp_df2[\"Day_confirmed\"].rolling(8).sum()-\n",
    "\n",
    "                                                              temp_df2[\"Day_confirmed\"].rolling(4).sum())\n",
    "    temp2 = temp_df2['Confirmed'].rolling(4).sum()/(temp_df2['Confirmed'].rolling(8).sum()-\n",
    "\n",
    "                                                              temp_df2['Confirmed'].rolling(4).sum())\n",
    "    temp_df2['Rt'] = round(temp1,3)\n",
    "    temp_df2['Rt2'] = round(temp2,3)\n",
    "    temp_df2['Country'] = j\n",
    "    temp_df2['Remaining_ill']=temp_df2['Confirmed']-temp_df2['Recovered']-temp_df2['Deaths']\n",
    "    temp_df2['MA7_dayconfirmed']=temp_df2['Day_confirmed'].rolling(window=7).mean()\n",
    "    temp_df2['MA14_dayconfirmed']=temp_df2['Day_confirmed'].rolling(window=14).mean()\n",
    "    temp_df2['MA7_remaining_ill']=temp_df2['Remaining_ill'].rolling(window=7).mean()\n",
    "    temp_df2['MA14_remaining_ill']=temp_df2['Remaining_ill'].rolling(window=14).mean()\n",
    "    \n",
    "    temp_df2['Change_dayconf'] = 0\n",
    "    for k in range(1,temp_df2.shape[0]):\n",
    "        temp_df2['Change_dayconf'].iloc[k]=temp_df2['Day_confirmed'].iloc[k]-temp_df2['Day_confirmed'].iloc[k-1]\n",
    "    temp_df2['Change_remill'] = 0\n",
    "    for k in range(1,temp_df2.shape[0]):\n",
    "        temp_df2['Change_remill'].iloc[k]=temp_df2['Remaining_ill'].iloc[k]-temp_df2['Remaining_ill'].iloc[k-1]\n",
    "    \n",
    "    \n",
    "\n",
    "   #Генератор DF  на каждый регион(сидит в цикле):\n",
    "   # globals()['x' + str(i)] = temp_df2.reset_index()\n",
    "    \n",
    "    X = pd.concat([X,temp_df2.reset_index()],axis = 0)\n",
    "    country_dict[i]=j\n",
    "    \n",
    "print(country_dict.items())\n",
    "    \n",
    "X = X.reset_index(drop=True)\n",
    "X.tail()\n"
   ]
  },
  {
   "cell_type": "code",
   "execution_count": 6,
   "metadata": {
    "tags": []
   },
   "outputs": [
    {
     "output_type": "stream",
     "name": "stdout",
     "text": [
      "            Confirmed  Remaining_ill\nDate                                \n2020-11-23   59171078       19878176\n2020-11-24   59759494       20082381\n58828\n(58828, 19)\n2020-01-22\n"
     ]
    }
   ],
   "source": [
    "# Добавляем колонки расчитанные ,доля их в процентах от суммарного показателя в мире\n",
    "mask = X.Country == 'Весь мир'\n",
    "temp_df = X[mask][['Date','Confirmed','Remaining_ill']]\n",
    "temp_df.index = temp_df.Date\n",
    "temp_df.drop(columns =['Date'], inplace = True)\n",
    "print(temp_df.tail(2))\n",
    "# print(temp_df.index.get_level_values(0))\n",
    "# temp_df.loc[datetime.date(2020,6,15),'Россия'].Confirmed\n",
    "# for i in temp_df.index.get_level_values(0).unique()[-2:]:\n",
    "#     print(temp_df.loc[i,'Россия'].Confirmed)\n",
    "world_date = list(temp_df.index)\n",
    "world_conf = list(temp_df.Confirmed)\n",
    "world_ill = list(temp_df.Remaining_ill)\n",
    "world_dict_conf = dict(zip(world_date,world_conf))\n",
    "world_dict_ill = dict(zip(world_date,world_ill))\n",
    "\n",
    "print(len(X))\n",
    "print(X.shape)\n",
    "print(X.loc[0,'Date'])\n",
    "for i in range(len(X)):\n",
    "    X.loc[i,'Rate_conf']=100*X.loc[i,'Confirmed']/world_dict_conf.get(X.loc[i,'Date'])\n",
    "    X.loc[i,'Rate_ill']=100*X.loc[i,'Remaining_ill']/world_dict_ill.get(X.loc[i,'Date'])\n"
   ]
  },
  {
   "cell_type": "code",
   "execution_count": 7,
   "metadata": {},
   "outputs": [
    {
     "output_type": "execute_result",
     "data": {
      "text/plain": [
       "             Date  Confirmed Country  Rate_conf  Rate_ill\n",
       "40328  2020-11-05    1699695  Россия   3.488805  2.609639\n",
       "40329  2020-11-06    1720063  Россия   3.484696  2.572992\n",
       "40330  2020-11-07    1740172  Россия   3.489305  2.560218\n",
       "40331  2020-11-08    1760420  Россия   3.490366  2.565242\n",
       "40332  2020-11-09    1781997  Россия   3.498341  2.593174\n",
       "40333  2020-11-10    1802762  Россия   3.500897  2.578896\n",
       "40334  2020-11-11    1822345  Россия   3.495149  2.545867\n",
       "40335  2020-11-12    1843678  Россия   3.492703  2.499531\n",
       "40336  2020-11-13    1865395  Россия   3.490938  2.468520\n",
       "40337  2020-11-14    1887836  Россия   3.494095  2.446961\n",
       "40338  2020-11-15    1910149  Россия   3.504711  2.456862\n",
       "40339  2020-11-16    1932711  Россия   3.512054  2.485341\n",
       "40340  2020-11-17    1954912  Россия   3.513572  2.463952\n",
       "40341  2020-11-18    1975629  Россия   3.511446  2.406829\n",
       "40342  2020-11-19    1998966  Россия   3.512311  2.361685\n",
       "40343  2020-11-20    2023025  Россия   3.513461  2.320997\n",
       "40344  2020-11-21    2047563  Россия   3.520232  2.285239\n",
       "40345  2020-11-22    2071858  Россия   3.532618  2.292062\n",
       "40346  2020-11-23    2096749  Россия   3.543537  2.323322\n",
       "40347  2020-11-24    2120836  Россия   3.548952  2.303990"
      ],
      "text/html": "<div>\n<style scoped>\n    .dataframe tbody tr th:only-of-type {\n        vertical-align: middle;\n    }\n\n    .dataframe tbody tr th {\n        vertical-align: top;\n    }\n\n    .dataframe thead th {\n        text-align: right;\n    }\n</style>\n<table border=\"1\" class=\"dataframe\">\n  <thead>\n    <tr style=\"text-align: right;\">\n      <th></th>\n      <th>Date</th>\n      <th>Confirmed</th>\n      <th>Country</th>\n      <th>Rate_conf</th>\n      <th>Rate_ill</th>\n    </tr>\n  </thead>\n  <tbody>\n    <tr>\n      <th>40328</th>\n      <td>2020-11-05</td>\n      <td>1699695</td>\n      <td>Россия</td>\n      <td>3.488805</td>\n      <td>2.609639</td>\n    </tr>\n    <tr>\n      <th>40329</th>\n      <td>2020-11-06</td>\n      <td>1720063</td>\n      <td>Россия</td>\n      <td>3.484696</td>\n      <td>2.572992</td>\n    </tr>\n    <tr>\n      <th>40330</th>\n      <td>2020-11-07</td>\n      <td>1740172</td>\n      <td>Россия</td>\n      <td>3.489305</td>\n      <td>2.560218</td>\n    </tr>\n    <tr>\n      <th>40331</th>\n      <td>2020-11-08</td>\n      <td>1760420</td>\n      <td>Россия</td>\n      <td>3.490366</td>\n      <td>2.565242</td>\n    </tr>\n    <tr>\n      <th>40332</th>\n      <td>2020-11-09</td>\n      <td>1781997</td>\n      <td>Россия</td>\n      <td>3.498341</td>\n      <td>2.593174</td>\n    </tr>\n    <tr>\n      <th>40333</th>\n      <td>2020-11-10</td>\n      <td>1802762</td>\n      <td>Россия</td>\n      <td>3.500897</td>\n      <td>2.578896</td>\n    </tr>\n    <tr>\n      <th>40334</th>\n      <td>2020-11-11</td>\n      <td>1822345</td>\n      <td>Россия</td>\n      <td>3.495149</td>\n      <td>2.545867</td>\n    </tr>\n    <tr>\n      <th>40335</th>\n      <td>2020-11-12</td>\n      <td>1843678</td>\n      <td>Россия</td>\n      <td>3.492703</td>\n      <td>2.499531</td>\n    </tr>\n    <tr>\n      <th>40336</th>\n      <td>2020-11-13</td>\n      <td>1865395</td>\n      <td>Россия</td>\n      <td>3.490938</td>\n      <td>2.468520</td>\n    </tr>\n    <tr>\n      <th>40337</th>\n      <td>2020-11-14</td>\n      <td>1887836</td>\n      <td>Россия</td>\n      <td>3.494095</td>\n      <td>2.446961</td>\n    </tr>\n    <tr>\n      <th>40338</th>\n      <td>2020-11-15</td>\n      <td>1910149</td>\n      <td>Россия</td>\n      <td>3.504711</td>\n      <td>2.456862</td>\n    </tr>\n    <tr>\n      <th>40339</th>\n      <td>2020-11-16</td>\n      <td>1932711</td>\n      <td>Россия</td>\n      <td>3.512054</td>\n      <td>2.485341</td>\n    </tr>\n    <tr>\n      <th>40340</th>\n      <td>2020-11-17</td>\n      <td>1954912</td>\n      <td>Россия</td>\n      <td>3.513572</td>\n      <td>2.463952</td>\n    </tr>\n    <tr>\n      <th>40341</th>\n      <td>2020-11-18</td>\n      <td>1975629</td>\n      <td>Россия</td>\n      <td>3.511446</td>\n      <td>2.406829</td>\n    </tr>\n    <tr>\n      <th>40342</th>\n      <td>2020-11-19</td>\n      <td>1998966</td>\n      <td>Россия</td>\n      <td>3.512311</td>\n      <td>2.361685</td>\n    </tr>\n    <tr>\n      <th>40343</th>\n      <td>2020-11-20</td>\n      <td>2023025</td>\n      <td>Россия</td>\n      <td>3.513461</td>\n      <td>2.320997</td>\n    </tr>\n    <tr>\n      <th>40344</th>\n      <td>2020-11-21</td>\n      <td>2047563</td>\n      <td>Россия</td>\n      <td>3.520232</td>\n      <td>2.285239</td>\n    </tr>\n    <tr>\n      <th>40345</th>\n      <td>2020-11-22</td>\n      <td>2071858</td>\n      <td>Россия</td>\n      <td>3.532618</td>\n      <td>2.292062</td>\n    </tr>\n    <tr>\n      <th>40346</th>\n      <td>2020-11-23</td>\n      <td>2096749</td>\n      <td>Россия</td>\n      <td>3.543537</td>\n      <td>2.323322</td>\n    </tr>\n    <tr>\n      <th>40347</th>\n      <td>2020-11-24</td>\n      <td>2120836</td>\n      <td>Россия</td>\n      <td>3.548952</td>\n      <td>2.303990</td>\n    </tr>\n  </tbody>\n</table>\n</div>"
     },
     "metadata": {},
     "execution_count": 7
    }
   ],
   "source": [
    "# Проверка расчетов процентных показателей\n",
    "mask = (X.Date>=datetime.date(2020,6,13))&(X.Country.isin(['Весь мир','Россия']))\n",
    "\n",
    "temp=X[mask]\n",
    "temp[['Date','Confirmed','Country','Rate_conf','Rate_ill']].tail(20)"
   ]
  },
  {
   "cell_type": "code",
   "execution_count": 8,
   "metadata": {},
   "outputs": [],
   "source": [
    "X.to_csv('W.csv',index=False)"
   ]
  },
  {
   "cell_type": "code",
   "execution_count": null,
   "metadata": {},
   "outputs": [],
   "source": []
  }
 ],
 "metadata": {
  "kernelspec": {
   "display_name": "Python 3.8.3 64-bit ('univer': venv)",
   "language": "python",
   "name": "python38364bitunivervenvccc17a1ebf2945b3903df3ba400fd1bf"
  },
  "language_info": {
   "codemirror_mode": {
    "name": "ipython",
    "version": 3
   },
   "file_extension": ".py",
   "mimetype": "text/x-python",
   "name": "python",
   "nbconvert_exporter": "python",
   "pygments_lexer": "ipython3",
   "version": "3.8.3-final"
  }
 },
 "nbformat": 4,
 "nbformat_minor": 4
}