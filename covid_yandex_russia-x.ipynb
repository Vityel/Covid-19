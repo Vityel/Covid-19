{
 "cells": [
  {
   "cell_type": "code",
   "execution_count": 163,
   "metadata": {},
   "outputs": [],
   "source": [
    "import pandas as pd\n",
    "import datetime\n",
    "import plotly.graph_objects as go\n",
    "import plotly.express as px\n",
    "import plotly.figure_factory as ff\n"
   ]
  },
  {
   "cell_type": "code",
   "execution_count": 164,
   "metadata": {
    "tags": []
   },
   "outputs": [
    {
     "output_type": "stream",
     "name": "stdout",
     "text": "{1: 'Адыгея', 2: 'Алтай', 3: 'Алтайский край', 4: 'Амурская обл.', 5: 'Архангельская обл.', 6: 'Астраханская обл.', 7: 'Башкортостан', 8: 'Белгородская обл.', 9: 'Брянская обл.', 10: 'Бурятия', 11: 'Владимирская обл.', 12: 'Волгоградская обл.', 13: 'Вологодская обл.', 14: 'Воронежская обл.', 15: 'Дагестан', 16: 'Еврейская АО', 17: 'Забайкальский край', 18: 'Ивановская обл.', 19: 'Ингушетия', 20: 'Иркутская обл.', 21: 'Кабардино-Балкария', 22: 'Калининградская обл.', 23: 'Калмыкия', 24: 'Калужская обл.', 25: 'Камчатский край', 26: 'Карачаево-Черкессия', 27: 'Карелия', 28: 'Кемеровская обл.', 29: 'Кировская обл.', 30: 'Коми', 31: 'Костромская обл.', 32: 'Краснодарский край', 33: 'Красноярский край', 34: 'Крым', 35: 'Курганская обл.', 36: 'Курская обл.', 37: 'Ленинградская обл.', 38: 'Липецкая обл.', 39: 'Магаданская обл.', 40: 'Марий Эл', 41: 'Мордовия', 42: 'Москва', 43: 'Московская обл.', 44: 'Мурманская обл.', 45: 'Ненецкий АО', 46: 'Нижегородская обл.', 47: 'Новгородская обл.', 48: 'Новосибирская обл.', 49: 'Омская обл.', 50: 'Оренбургская обл.', 51: 'Орловская обл.', 52: 'Пензенская обл.', 53: 'Пермский край', 54: 'Приморский край', 55: 'Псковская обл.', 56: 'Россия', 57: 'Ростовская обл.', 58: 'Рязанская обл.', 59: 'Самарская обл.', 60: 'Санкт-Петербург', 61: 'Саратовская обл.', 62: 'Саха (Якутия)', 63: 'Сахалинская обл.', 64: 'Свердловская обл.', 65: 'Севастополь', 66: 'Северная Осетия', 67: 'Смоленская обл.', 68: 'Ставропольский край', 69: 'Тамбовская обл.', 70: 'Татарстан', 71: 'Тверская обл.', 72: 'Томская обл.', 73: 'Тульская обл.', 74: 'Тыва', 75: 'Тюменская обл.', 76: 'Удмуртия', 77: 'Ульяновская обл.', 78: 'ХМАО – Югра', 79: 'Хабаровский край', 80: 'Хакасия', 81: 'Челябинская обл.', 82: 'Чечня', 83: 'Чувашия', 84: 'Чукотский АО', 85: 'Ямало-Ненецкий АО', 86: 'Ярославская обл.'}\n"
    }
   ],
   "source": [
    "X=pd.read_csv('X.csv')\n",
    "\n",
    "a1=list(X.Region.unique())\n",
    "regions_dict=dict(zip(range(1,len(a1)+1),a1))\n",
    "def my_date(dt):\n",
    "    a= dt.split('-')\n",
    "    return datetime.date(int(a[0]),int(a[1]),int(a[2]))\n",
    "X.Date=X.Date.apply(my_date)\n",
    "myday = list(X.tail(1).Date)[0]\n",
    "print(regions_dict)"
   ]
  },
  {
   "cell_type": "code",
   "execution_count": 165,
   "metadata": {
    "tags": []
   },
   "outputs": [
    {
     "output_type": "stream",
     "name": "stdout",
     "text": "<class 'pandas.core.frame.DataFrame'>\nRangeIndex: 13793 entries, 0 to 13792\nData columns (total 19 columns):\n #   Column              Non-Null Count  Dtype  \n---  ------              --------------  -----  \n 0   Date                13793 non-null  object \n 1   Confirmed           13793 non-null  int64  \n 2   Recovered           13793 non-null  int64  \n 3   Deaths              13793 non-null  int64  \n 4   Day_deaths          13793 non-null  int64  \n 5   Day_confirmed       13793 non-null  int64  \n 6   Day_recovered       13793 non-null  int64  \n 7   Rt                  12636 non-null  float64\n 8   Rt2                 12746 non-null  float64\n 9   Rate_conf           13793 non-null  float64\n 10  Rate_ill            13793 non-null  float64\n 11  Region              13793 non-null  object \n 12  Remaining_ill       13793 non-null  int64  \n 13  MA7_dayconfirmed    13277 non-null  float64\n 14  MA14_dayconfirmed   12675 non-null  float64\n 15  MA7_remaining_ill   13277 non-null  float64\n 16  MA14_remaining_ill  12675 non-null  float64\n 17  Change_dayconf      13793 non-null  int64  \n 18  Change_remill       13793 non-null  int64  \ndtypes: float64(8), int64(9), object(2)\nmemory usage: 2.0+ MB\n"
    }
   ],
   "source": [
    "X.info()"
   ]
  },
  {
   "cell_type": "code",
   "execution_count": 166,
   "metadata": {},
   "outputs": [
    {
     "output_type": "display_data",
     "data": {
      "application/vnd.plotly.v1+json": {
       "config": {
        "plotlyServerURL": "https://plotly.com"
       },
       "data": [
        {
         "colorscale": [
          [
           0,
           "#00083e"
          ],
          [
           0.5,
           "#ededee"
          ],
          [
           1,
           "#ffffff"
          ]
         ],
         "hoverinfo": "none",
         "opacity": 0.75,
         "showscale": false,
         "type": "heatmap",
         "xgap": 0,
         "z": [
          [
           0,
           0,
           0,
           0
          ],
          [
           0.5,
           0.5,
           0.5,
           0.5
          ],
          [
           1,
           1,
           1,
           1
          ],
          [
           0.5,
           0.5,
           0.5,
           0.5
          ],
          [
           1,
           1,
           1,
           1
          ],
          [
           0.5,
           0.5,
           0.5,
           0.5
          ],
          [
           1,
           1,
           1,
           1
          ],
          [
           0.5,
           0.5,
           0.5,
           0.5
          ],
          [
           1,
           1,
           1,
           1
          ],
          [
           0.5,
           0.5,
           0.5,
           0.5
          ],
          [
           1,
           1,
           1,
           1
          ],
          [
           0.5,
           0.5,
           0.5,
           0.5
          ],
          [
           1,
           1,
           1,
           1
          ],
          [
           0.5,
           0.5,
           0.5,
           0.5
          ],
          [
           1,
           1,
           1,
           1
          ],
          [
           0.5,
           0.5,
           0.5,
           0.5
          ]
         ]
        }
       ],
       "layout": {
        "annotations": [
         {
          "align": "left",
          "font": {
           "color": "#ffffff",
           "size": 10
          },
          "showarrow": false,
          "text": "<b>По количеству текущих <br>больных</b>",
          "x": -0.45,
          "xanchor": "left",
          "xref": "x",
          "y": 0,
          "yref": "y"
         },
         {
          "align": "left",
          "font": {
           "color": "#ffffff",
           "size": 10
          },
          "showarrow": false,
          "text": "<b>По количеству новых</b>",
          "x": 0.55,
          "xanchor": "left",
          "xref": "x",
          "y": 0,
          "yref": "y"
         },
         {
          "align": "left",
          "font": {
           "color": "#ffffff",
           "size": 10
          },
          "showarrow": false,
          "text": "<b>По умершим за день</b>",
          "x": 1.55,
          "xanchor": "left",
          "xref": "x",
          "y": 0,
          "yref": "y"
         },
         {
          "align": "left",
          "font": {
           "color": "#ffffff",
           "size": 10
          },
          "showarrow": false,
          "text": "<b>По выздоровевшим<br>за день</b>",
          "x": 2.55,
          "xanchor": "left",
          "xref": "x",
          "y": 0,
          "yref": "y"
         },
         {
          "align": "left",
          "font": {
           "color": "#000000"
          },
          "showarrow": false,
          "text": "Москва",
          "x": -0.45,
          "xanchor": "left",
          "xref": "x",
          "y": 1,
          "yref": "y"
         },
         {
          "align": "left",
          "font": {
           "color": "#000000"
          },
          "showarrow": false,
          "text": "Москва",
          "x": 0.55,
          "xanchor": "left",
          "xref": "x",
          "y": 1,
          "yref": "y"
         },
         {
          "align": "left",
          "font": {
           "color": "#000000"
          },
          "showarrow": false,
          "text": "Санкт-Петербург",
          "x": 1.55,
          "xanchor": "left",
          "xref": "x",
          "y": 1,
          "yref": "y"
         },
         {
          "align": "left",
          "font": {
           "color": "#000000"
          },
          "showarrow": false,
          "text": "Москва",
          "x": 2.55,
          "xanchor": "left",
          "xref": "x",
          "y": 1,
          "yref": "y"
         },
         {
          "align": "left",
          "font": {
           "color": "#000000"
          },
          "showarrow": false,
          "text": "Московская обл.",
          "x": -0.45,
          "xanchor": "left",
          "xref": "x",
          "y": 2,
          "yref": "y"
         },
         {
          "align": "left",
          "font": {
           "color": "#000000"
          },
          "showarrow": false,
          "text": "Санкт-Петербург",
          "x": 0.55,
          "xanchor": "left",
          "xref": "x",
          "y": 2,
          "yref": "y"
         },
         {
          "align": "left",
          "font": {
           "color": "#000000"
          },
          "showarrow": false,
          "text": "Москва",
          "x": 1.55,
          "xanchor": "left",
          "xref": "x",
          "y": 2,
          "yref": "y"
         },
         {
          "align": "left",
          "font": {
           "color": "#000000"
          },
          "showarrow": false,
          "text": "Чувашия",
          "x": 2.55,
          "xanchor": "left",
          "xref": "x",
          "y": 2,
          "yref": "y"
         },
         {
          "align": "left",
          "font": {
           "color": "#000000"
          },
          "showarrow": false,
          "text": "Санкт-Петербург",
          "x": -0.45,
          "xanchor": "left",
          "xref": "x",
          "y": 3,
          "yref": "y"
         },
         {
          "align": "left",
          "font": {
           "color": "#000000"
          },
          "showarrow": false,
          "text": "Свердловская обл.",
          "x": 0.55,
          "xanchor": "left",
          "xref": "x",
          "y": 3,
          "yref": "y"
         },
         {
          "align": "left",
          "font": {
           "color": "#000000"
          },
          "showarrow": false,
          "text": "Иркутская обл.",
          "x": 1.55,
          "xanchor": "left",
          "xref": "x",
          "y": 3,
          "yref": "y"
         },
         {
          "align": "left",
          "font": {
           "color": "#000000"
          },
          "showarrow": false,
          "text": "Иркутская обл.",
          "x": 2.55,
          "xanchor": "left",
          "xref": "x",
          "y": 3,
          "yref": "y"
         },
         {
          "align": "left",
          "font": {
           "color": "#000000"
          },
          "showarrow": false,
          "text": "Челябинская обл.",
          "x": -0.45,
          "xanchor": "left",
          "xref": "x",
          "y": 4,
          "yref": "y"
         },
         {
          "align": "left",
          "font": {
           "color": "#000000"
          },
          "showarrow": false,
          "text": "Московская обл.",
          "x": 0.55,
          "xanchor": "left",
          "xref": "x",
          "y": 4,
          "yref": "y"
         },
         {
          "align": "left",
          "font": {
           "color": "#000000"
          },
          "showarrow": false,
          "text": "Алтайский край",
          "x": 1.55,
          "xanchor": "left",
          "xref": "x",
          "y": 4,
          "yref": "y"
         },
         {
          "align": "left",
          "font": {
           "color": "#000000"
          },
          "showarrow": false,
          "text": "Мурманская обл.",
          "x": 2.55,
          "xanchor": "left",
          "xref": "x",
          "y": 4,
          "yref": "y"
         },
         {
          "align": "left",
          "font": {
           "color": "#000000"
          },
          "showarrow": false,
          "text": "Свердловская обл.",
          "x": -0.45,
          "xanchor": "left",
          "xref": "x",
          "y": 5,
          "yref": "y"
         },
         {
          "align": "left",
          "font": {
           "color": "#000000"
          },
          "showarrow": false,
          "text": "Ставропольский край",
          "x": 0.55,
          "xanchor": "left",
          "xref": "x",
          "y": 5,
          "yref": "y"
         },
         {
          "align": "left",
          "font": {
           "color": "#000000"
          },
          "showarrow": false,
          "text": "Омская обл.",
          "x": 1.55,
          "xanchor": "left",
          "xref": "x",
          "y": 5,
          "yref": "y"
         },
         {
          "align": "left",
          "font": {
           "color": "#000000"
          },
          "showarrow": false,
          "text": "Воронежская обл.",
          "x": 2.55,
          "xanchor": "left",
          "xref": "x",
          "y": 5,
          "yref": "y"
         },
         {
          "align": "left",
          "font": {
           "color": "#000000"
          },
          "showarrow": false,
          "text": "Саратовская обл.",
          "x": -0.45,
          "xanchor": "left",
          "xref": "x",
          "y": 6,
          "yref": "y"
         },
         {
          "align": "left",
          "font": {
           "color": "#000000"
          },
          "showarrow": false,
          "text": "Ростовская обл.",
          "x": 0.55,
          "xanchor": "left",
          "xref": "x",
          "y": 6,
          "yref": "y"
         },
         {
          "align": "left",
          "font": {
           "color": "#000000"
          },
          "showarrow": false,
          "text": "Московская обл.",
          "x": 1.55,
          "xanchor": "left",
          "xref": "x",
          "y": 6,
          "yref": "y"
         },
         {
          "align": "left",
          "font": {
           "color": "#000000"
          },
          "showarrow": false,
          "text": "Алтайский край",
          "x": 2.55,
          "xanchor": "left",
          "xref": "x",
          "y": 6,
          "yref": "y"
         },
         {
          "align": "left",
          "font": {
           "color": "#000000"
          },
          "showarrow": false,
          "text": "Иркутская обл.",
          "x": -0.45,
          "xanchor": "left",
          "xref": "x",
          "y": 7,
          "yref": "y"
         },
         {
          "align": "left",
          "font": {
           "color": "#000000"
          },
          "showarrow": false,
          "text": "Красноярский край",
          "x": 0.55,
          "xanchor": "left",
          "xref": "x",
          "y": 7,
          "yref": "y"
         },
         {
          "align": "left",
          "font": {
           "color": "#000000"
          },
          "showarrow": false,
          "text": "Красноярский край",
          "x": 1.55,
          "xanchor": "left",
          "xref": "x",
          "y": 7,
          "yref": "y"
         },
         {
          "align": "left",
          "font": {
           "color": "#000000"
          },
          "showarrow": false,
          "text": "Саратовская обл.",
          "x": 2.55,
          "xanchor": "left",
          "xref": "x",
          "y": 7,
          "yref": "y"
         },
         {
          "align": "left",
          "font": {
           "color": "#000000"
          },
          "showarrow": false,
          "text": "Волгоградская обл.",
          "x": -0.45,
          "xanchor": "left",
          "xref": "x",
          "y": 8,
          "yref": "y"
         },
         {
          "align": "left",
          "font": {
           "color": "#000000"
          },
          "showarrow": false,
          "text": "Нижегородская обл.",
          "x": 0.55,
          "xanchor": "left",
          "xref": "x",
          "y": 8,
          "yref": "y"
         },
         {
          "align": "left",
          "font": {
           "color": "#000000"
          },
          "showarrow": false,
          "text": "Ростовская обл.",
          "x": 1.55,
          "xanchor": "left",
          "xref": "x",
          "y": 8,
          "yref": "y"
         },
         {
          "align": "left",
          "font": {
           "color": "#000000"
          },
          "showarrow": false,
          "text": "ХМАО – Югра",
          "x": 2.55,
          "xanchor": "left",
          "xref": "x",
          "y": 8,
          "yref": "y"
         },
         {
          "align": "left",
          "font": {
           "color": "#000000"
          },
          "showarrow": false,
          "text": "Ставропольский край",
          "x": -0.45,
          "xanchor": "left",
          "xref": "x",
          "y": 9,
          "yref": "y"
         },
         {
          "align": "left",
          "font": {
           "color": "#000000"
          },
          "showarrow": false,
          "text": "Иркутская обл.",
          "x": 0.55,
          "xanchor": "left",
          "xref": "x",
          "y": 9,
          "yref": "y"
         },
         {
          "align": "left",
          "font": {
           "color": "#000000"
          },
          "showarrow": false,
          "text": "Владимирская обл.",
          "x": 1.55,
          "xanchor": "left",
          "xref": "x",
          "y": 9,
          "yref": "y"
         },
         {
          "align": "left",
          "font": {
           "color": "#000000"
          },
          "showarrow": false,
          "text": "Сахалинская обл.",
          "x": 2.55,
          "xanchor": "left",
          "xref": "x",
          "y": 9,
          "yref": "y"
         },
         {
          "align": "left",
          "font": {
           "color": "#000000"
          },
          "showarrow": false,
          "text": "Ульяновская обл.",
          "x": -0.45,
          "xanchor": "left",
          "xref": "x",
          "y": 10,
          "yref": "y"
         },
         {
          "align": "left",
          "font": {
           "color": "#000000"
          },
          "showarrow": false,
          "text": "Оренбургская обл.",
          "x": 0.55,
          "xanchor": "left",
          "xref": "x",
          "y": 10,
          "yref": "y"
         },
         {
          "align": "left",
          "font": {
           "color": "#000000"
          },
          "showarrow": false,
          "text": "Мурманская обл.",
          "x": 1.55,
          "xanchor": "left",
          "xref": "x",
          "y": 10,
          "yref": "y"
         },
         {
          "align": "left",
          "font": {
           "color": "#000000"
          },
          "showarrow": false,
          "text": "Оренбургская обл.",
          "x": 2.55,
          "xanchor": "left",
          "xref": "x",
          "y": 10,
          "yref": "y"
         },
         {
          "align": "left",
          "font": {
           "color": "#000000"
          },
          "showarrow": false,
          "text": "Мурманская обл.",
          "x": -0.45,
          "xanchor": "left",
          "xref": "x",
          "y": 11,
          "yref": "y"
         },
         {
          "align": "left",
          "font": {
           "color": "#000000"
          },
          "showarrow": false,
          "text": "Саратовская обл.",
          "x": 0.55,
          "xanchor": "left",
          "xref": "x",
          "y": 11,
          "yref": "y"
         },
         {
          "align": "left",
          "font": {
           "color": "#000000"
          },
          "showarrow": false,
          "text": "Новосибирская обл.",
          "x": 1.55,
          "xanchor": "left",
          "xref": "x",
          "y": 11,
          "yref": "y"
         },
         {
          "align": "left",
          "font": {
           "color": "#000000"
          },
          "showarrow": false,
          "text": "Волгоградская обл.",
          "x": 2.55,
          "xanchor": "left",
          "xref": "x",
          "y": 11,
          "yref": "y"
         },
         {
          "align": "left",
          "font": {
           "color": "#000000"
          },
          "showarrow": false,
          "text": "Нижегородская обл.",
          "x": -0.45,
          "xanchor": "left",
          "xref": "x",
          "y": 12,
          "yref": "y"
         },
         {
          "align": "left",
          "font": {
           "color": "#000000"
          },
          "showarrow": false,
          "text": "Кемеровская обл.",
          "x": 0.55,
          "xanchor": "left",
          "xref": "x",
          "y": 12,
          "yref": "y"
         },
         {
          "align": "left",
          "font": {
           "color": "#000000"
          },
          "showarrow": false,
          "text": "Ставропольский край",
          "x": 1.55,
          "xanchor": "left",
          "xref": "x",
          "y": 12,
          "yref": "y"
         },
         {
          "align": "left",
          "font": {
           "color": "#000000"
          },
          "showarrow": false,
          "text": "Ямало-Ненецкий АО",
          "x": 2.55,
          "xanchor": "left",
          "xref": "x",
          "y": 12,
          "yref": "y"
         },
         {
          "align": "left",
          "font": {
           "color": "#000000"
          },
          "showarrow": false,
          "text": "Ростовская обл.",
          "x": -0.45,
          "xanchor": "left",
          "xref": "x",
          "y": 13,
          "yref": "y"
         },
         {
          "align": "left",
          "font": {
           "color": "#000000"
          },
          "showarrow": false,
          "text": "Ульяновская обл.",
          "x": 0.55,
          "xanchor": "left",
          "xref": "x",
          "y": 13,
          "yref": "y"
         },
         {
          "align": "left",
          "font": {
           "color": "#000000"
          },
          "showarrow": false,
          "text": "Нижегородская обл.",
          "x": 1.55,
          "xanchor": "left",
          "xref": "x",
          "y": 13,
          "yref": "y"
         },
         {
          "align": "left",
          "font": {
           "color": "#000000"
          },
          "showarrow": false,
          "text": "Ростовская обл.",
          "x": 2.55,
          "xanchor": "left",
          "xref": "x",
          "y": 13,
          "yref": "y"
         },
         {
          "align": "left",
          "font": {
           "color": "#000000"
          },
          "showarrow": false,
          "text": "Красноярский край",
          "x": -0.45,
          "xanchor": "left",
          "xref": "x",
          "y": 14,
          "yref": "y"
         },
         {
          "align": "left",
          "font": {
           "color": "#000000"
          },
          "showarrow": false,
          "text": "Воронежская обл.",
          "x": 0.55,
          "xanchor": "left",
          "xref": "x",
          "y": 14,
          "yref": "y"
         },
         {
          "align": "left",
          "font": {
           "color": "#000000"
          },
          "showarrow": false,
          "text": "Тульская обл.",
          "x": 1.55,
          "xanchor": "left",
          "xref": "x",
          "y": 14,
          "yref": "y"
         },
         {
          "align": "left",
          "font": {
           "color": "#000000"
          },
          "showarrow": false,
          "text": "Челябинская обл.",
          "x": 2.55,
          "xanchor": "left",
          "xref": "x",
          "y": 14,
          "yref": "y"
         },
         {
          "align": "left",
          "font": {
           "color": "#000000"
          },
          "showarrow": false,
          "text": "Омская обл.",
          "x": -0.45,
          "xanchor": "left",
          "xref": "x",
          "y": 15,
          "yref": "y"
         },
         {
          "align": "left",
          "font": {
           "color": "#000000"
          },
          "showarrow": false,
          "text": "Омская обл.",
          "x": 0.55,
          "xanchor": "left",
          "xref": "x",
          "y": 15,
          "yref": "y"
         },
         {
          "align": "left",
          "font": {
           "color": "#000000"
          },
          "showarrow": false,
          "text": "Калужская обл.",
          "x": 1.55,
          "xanchor": "left",
          "xref": "x",
          "y": 15,
          "yref": "y"
         },
         {
          "align": "left",
          "font": {
           "color": "#000000"
          },
          "showarrow": false,
          "text": "Башкортостан",
          "x": 2.55,
          "xanchor": "left",
          "xref": "x",
          "y": 15,
          "yref": "y"
         }
        ],
        "height": 600,
        "margin": {
         "b": 100,
         "l": 0,
         "r": 0,
         "t": 50
        },
        "template": {
         "data": {
          "pie": [
           {
            "automargin": true,
            "type": "pie"
           }
          ]
         },
         "layout": {
          "xaxis": {
           "showgrid": true,
           "title": {
            "standoff": 15
           }
          },
          "yaxis": {
           "showgrid": true,
           "title": {
            "standoff": 15
           }
          }
         }
        },
        "title": {
         "text": "Таблица рейтингов заболеваемости COVID-19 по регионам",
         "x": 0.5,
         "xanchor": "center",
         "y": 0.95,
         "yanchor": "top"
        },
        "width": 990,
        "xaxis": {
         "dtick": 1,
         "gridwidth": 2,
         "showticklabels": false,
         "tick0": -0.5,
         "ticks": "",
         "title": {
          "text": ""
         },
         "zeroline": false
        },
        "yaxis": {
         "autorange": "reversed",
         "dtick": 1,
         "gridwidth": 2,
         "showticklabels": false,
         "tick0": 0.5,
         "ticks": "",
         "title": {
          "text": ""
         },
         "zeroline": false
        }
       }
      }
     },
     "metadata": {}
    }
   ],
   "source": [
    "covid_rates = pd.DataFrame()\n",
    "mask = (X.Date==myday)&(X.Region!='Россия')\n",
    "today_cases = X[mask]\n",
    "#covid_rates.reset_index(drop=True)\n",
    "\n",
    "covid_rates['По количеству текущих <br>больных'] = today_cases.sort_values(by=['Remaining_ill'],ascending = False).Region.reset_index(drop=True)\n",
    "covid_rates['По количеству новых'] = today_cases.sort_values(by=['Day_confirmed'],ascending = False).Region.reset_index(drop=True)\n",
    "covid_rates['По умершим за день'] = today_cases.sort_values(by=['Day_deaths'],ascending = False).Region.reset_index(drop=True)\n",
    "covid_rates['По выздоровевшим<br>за день'] = today_cases.sort_values(by=['Day_recovered'],ascending = False).Region.reset_index(drop=True)\n",
    "param = {'xgap':0}\n",
    "fig =  ff.create_table(covid_rates.head(15),height_constant=200,**param)\n",
    "fig.update_layout(\n",
    "    \n",
    "                  title_text ='Таблица рейтингов заболеваемости COVID-19 по регионам',\n",
    "                  margin = {'t':50, 'b':100},\n",
    "                  title_x = 0.5,\n",
    "                  title_y= 0.95,\n",
    "                  title_xanchor = \"center\",\n",
    "                  title_yanchor = \"top\", \n",
    "                  \n",
    "                  width = 990, height = 600,template = 'gridon',\n",
    "    \n",
    "    \n",
    "                  xaxis_title='',yaxis_title = ''\n",
    "                  )\n",
    "for i in range(0,4):\n",
    "    fig.layout.annotations[i].font.size = 10\n",
    "fig.show()\n",
    "\n",
    "\n"
   ]
  },
  {
   "cell_type": "code",
   "execution_count": 167,
   "metadata": {},
   "outputs": [
    {
     "output_type": "execute_result",
     "data": {
      "text/plain": "['Москва',\n 'Московская обл.',\n 'Санкт-Петербург',\n 'Челябинская обл.',\n 'Свердловская обл.',\n 'Саратовская обл.',\n 'Иркутская обл.',\n 'Волгоградская обл.',\n 'Ставропольский край',\n 'Ульяновская обл.',\n 'Россия']"
     },
     "metadata": {},
     "execution_count": 167
    }
   ],
   "source": [
    "region_number = 10\n",
    "regions_towatch = list(covid_rates['По количеству текущих <br>больных'].head(region_number))\n",
    "regions_towatch.append(\"Россия\")\n",
    "regions_towatch"
   ]
  },
  {
   "cell_type": "code",
   "execution_count": 168,
   "metadata": {},
   "outputs": [
    {
     "output_type": "display_data",
     "data": {
      "application/vnd.plotly.v1+json": {
       "config": {
        "plotlyServerURL": "https://plotly.com"
       },
       "data": [
        {
         "hovertemplate": "Регион:=Волгоградская обл.<br>Date=%{x}<br>Day_confirmed=%{y}<extra></extra>",
         "legendgroup": "Волгоградская обл.",
         "line": {
          "color": "#FF6692",
          "dash": "solid",
          "shape": "spline"
         },
         "mode": "lines",
         "name": "Волгоградская обл.",
         "orientation": "v",
         "showlegend": true,
         "type": "scatter",
         "x": [
          "2020-05-02",
          "2020-05-03",
          "2020-05-04",
          "2020-05-05",
          "2020-05-06",
          "2020-05-07",
          "2020-05-08",
          "2020-05-09",
          "2020-05-10",
          "2020-05-11",
          "2020-05-12",
          "2020-05-13",
          "2020-05-14",
          "2020-05-15",
          "2020-05-16",
          "2020-05-17",
          "2020-05-18",
          "2020-05-19",
          "2020-05-20",
          "2020-05-21",
          "2020-05-22",
          "2020-05-23",
          "2020-05-24",
          "2020-05-25",
          "2020-05-26",
          "2020-05-27",
          "2020-05-28",
          "2020-05-29",
          "2020-05-30",
          "2020-05-31",
          "2020-06-01",
          "2020-06-02",
          "2020-06-03",
          "2020-06-04",
          "2020-06-05",
          "2020-06-06",
          "2020-06-07",
          "2020-06-08",
          "2020-06-09",
          "2020-06-10",
          "2020-06-11",
          "2020-06-12",
          "2020-06-13",
          "2020-06-14",
          "2020-06-15",
          "2020-06-16",
          "2020-06-17",
          "2020-06-18",
          "2020-06-19",
          "2020-06-20",
          "2020-06-21",
          "2020-06-22",
          "2020-06-23",
          "2020-06-24",
          "2020-06-25",
          "2020-06-26",
          "2020-06-27",
          "2020-06-28",
          "2020-06-29",
          "2020-06-30",
          "2020-07-01",
          "2020-07-02",
          "2020-07-03",
          "2020-07-04",
          "2020-07-05",
          "2020-07-06",
          "2020-07-07",
          "2020-07-08",
          "2020-07-09",
          "2020-07-10",
          "2020-07-11",
          "2020-07-12",
          "2020-07-13",
          "2020-07-14",
          "2020-07-15",
          "2020-07-16",
          "2020-07-17",
          "2020-07-18",
          "2020-07-19",
          "2020-07-20",
          "2020-07-21",
          "2020-07-22",
          "2020-07-23",
          "2020-07-24",
          "2020-07-25",
          "2020-07-26",
          "2020-07-27",
          "2020-07-28",
          "2020-07-29",
          "2020-07-30",
          "2020-07-31",
          "2020-08-01",
          "2020-08-02",
          "2020-08-03",
          "2020-08-04",
          "2020-08-05",
          "2020-08-06",
          "2020-08-07",
          "2020-08-08",
          "2020-08-09",
          "2020-08-10",
          "2020-08-11",
          "2020-08-12",
          "2020-08-13",
          "2020-08-14",
          "2020-08-15",
          "2020-08-16",
          "2020-08-17",
          "2020-08-18"
         ],
         "xaxis": "x",
         "y": [
          46,
          42,
          42,
          62,
          69,
          64,
          80,
          102,
          119,
          49,
          74,
          124,
          96,
          90,
          86,
          65,
          65,
          86,
          84,
          82,
          89,
          107,
          98,
          89,
          88,
          86,
          111,
          133,
          154,
          158,
          189,
          119,
          98,
          109,
          128,
          125,
          119,
          117,
          92,
          116,
          108,
          114,
          109,
          108,
          106,
          104,
          104,
          109,
          107,
          105,
          98,
          108,
          104,
          102,
          101,
          110,
          102,
          98,
          97,
          95,
          92,
          89,
          89,
          91,
          95,
          94,
          92,
          89,
          88,
          94,
          92,
          96,
          88,
          85,
          93,
          91,
          94,
          89,
          88,
          93,
          95,
          96,
          91,
          86,
          85,
          87,
          89,
          92,
          88,
          94,
          90,
          95,
          91,
          97,
          92,
          96,
          98,
          93,
          88,
          106,
          97,
          95,
          91,
          102,
          97,
          96,
          92,
          95,
          89
         ],
         "yaxis": "y"
        },
        {
         "hovertemplate": "Регион:=Иркутская обл.<br>Date=%{x}<br>Day_confirmed=%{y}<extra></extra>",
         "legendgroup": "Иркутская обл.",
         "line": {
          "color": "#B6E880",
          "dash": "solid",
          "shape": "spline"
         },
         "mode": "lines",
         "name": "Иркутская обл.",
         "orientation": "v",
         "showlegend": true,
         "type": "scatter",
         "x": [
          "2020-05-02",
          "2020-05-03",
          "2020-05-04",
          "2020-05-05",
          "2020-05-06",
          "2020-05-07",
          "2020-05-08",
          "2020-05-09",
          "2020-05-10",
          "2020-05-11",
          "2020-05-12",
          "2020-05-13",
          "2020-05-14",
          "2020-05-15",
          "2020-05-16",
          "2020-05-17",
          "2020-05-18",
          "2020-05-19",
          "2020-05-20",
          "2020-05-21",
          "2020-05-22",
          "2020-05-23",
          "2020-05-24",
          "2020-05-25",
          "2020-05-26",
          "2020-05-27",
          "2020-05-28",
          "2020-05-29",
          "2020-05-30",
          "2020-05-31",
          "2020-06-01",
          "2020-06-02",
          "2020-06-03",
          "2020-06-04",
          "2020-06-05",
          "2020-06-06",
          "2020-06-07",
          "2020-06-08",
          "2020-06-09",
          "2020-06-10",
          "2020-06-11",
          "2020-06-12",
          "2020-06-13",
          "2020-06-14",
          "2020-06-15",
          "2020-06-16",
          "2020-06-17",
          "2020-06-18",
          "2020-06-19",
          "2020-06-20",
          "2020-06-21",
          "2020-06-22",
          "2020-06-23",
          "2020-06-24",
          "2020-06-25",
          "2020-06-26",
          "2020-06-27",
          "2020-06-28",
          "2020-06-29",
          "2020-06-30",
          "2020-07-01",
          "2020-07-02",
          "2020-07-03",
          "2020-07-04",
          "2020-07-05",
          "2020-07-06",
          "2020-07-07",
          "2020-07-08",
          "2020-07-09",
          "2020-07-10",
          "2020-07-11",
          "2020-07-12",
          "2020-07-13",
          "2020-07-14",
          "2020-07-15",
          "2020-07-16",
          "2020-07-17",
          "2020-07-18",
          "2020-07-19",
          "2020-07-20",
          "2020-07-21",
          "2020-07-22",
          "2020-07-23",
          "2020-07-24",
          "2020-07-25",
          "2020-07-26",
          "2020-07-27",
          "2020-07-28",
          "2020-07-29",
          "2020-07-30",
          "2020-07-31",
          "2020-08-01",
          "2020-08-02",
          "2020-08-03",
          "2020-08-04",
          "2020-08-05",
          "2020-08-06",
          "2020-08-07",
          "2020-08-08",
          "2020-08-09",
          "2020-08-10",
          "2020-08-11",
          "2020-08-12",
          "2020-08-13",
          "2020-08-14",
          "2020-08-15",
          "2020-08-16",
          "2020-08-17",
          "2020-08-18"
         ],
         "xaxis": "x",
         "y": [
          7,
          20,
          27,
          23,
          31,
          6,
          18,
          16,
          18,
          24,
          20,
          20,
          26,
          95,
          25,
          27,
          75,
          97,
          48,
          34,
          83,
          95,
          120,
          116,
          112,
          70,
          62,
          60,
          162,
          90,
          229,
          210,
          120,
          138,
          95,
          71,
          179,
          85,
          206,
          182,
          240,
          151,
          163,
          209,
          127,
          319,
          179,
          133,
          164,
          193,
          191,
          194,
          198,
          193,
          209,
          210,
          237,
          232,
          236,
          242,
          248,
          243,
          249,
          235,
          241,
          239,
          245,
          240,
          243,
          211,
          206,
          209,
          203,
          198,
          190,
          196,
          193,
          188,
          185,
          178,
          181,
          170,
          176,
          171,
          164,
          161,
          165,
          162,
          159,
          148,
          140,
          146,
          143,
          140,
          137,
          135,
          128,
          130,
          119,
          123,
          120,
          124,
          119,
          115,
          110,
          113,
          118,
          114,
          108
         ],
         "yaxis": "y"
        },
        {
         "hovertemplate": "Регион:=Москва<br>Date=%{x}<br>Day_confirmed=%{y}<extra></extra>",
         "legendgroup": "Москва",
         "line": {
          "color": "red",
          "dash": "solid",
          "shape": "spline"
         },
         "mode": "lines",
         "name": "Москва",
         "orientation": "v",
         "showlegend": true,
         "type": "scatter",
         "x": [
          "2020-05-02",
          "2020-05-03",
          "2020-05-04",
          "2020-05-05",
          "2020-05-06",
          "2020-05-07",
          "2020-05-08",
          "2020-05-09",
          "2020-05-10",
          "2020-05-11",
          "2020-05-12",
          "2020-05-13",
          "2020-05-14",
          "2020-05-15",
          "2020-05-16",
          "2020-05-17",
          "2020-05-18",
          "2020-05-19",
          "2020-05-20",
          "2020-05-21",
          "2020-05-22",
          "2020-05-23",
          "2020-05-24",
          "2020-05-25",
          "2020-05-26",
          "2020-05-27",
          "2020-05-28",
          "2020-05-29",
          "2020-05-30",
          "2020-05-31",
          "2020-06-01",
          "2020-06-02",
          "2020-06-03",
          "2020-06-04",
          "2020-06-05",
          "2020-06-06",
          "2020-06-07",
          "2020-06-08",
          "2020-06-09",
          "2020-06-10",
          "2020-06-11",
          "2020-06-12",
          "2020-06-13",
          "2020-06-14",
          "2020-06-15",
          "2020-06-16",
          "2020-06-17",
          "2020-06-18",
          "2020-06-19",
          "2020-06-20",
          "2020-06-21",
          "2020-06-22",
          "2020-06-23",
          "2020-06-24",
          "2020-06-25",
          "2020-06-26",
          "2020-06-27",
          "2020-06-28",
          "2020-06-29",
          "2020-06-30",
          "2020-07-01",
          "2020-07-02",
          "2020-07-03",
          "2020-07-04",
          "2020-07-05",
          "2020-07-06",
          "2020-07-07",
          "2020-07-08",
          "2020-07-09",
          "2020-07-10",
          "2020-07-11",
          "2020-07-12",
          "2020-07-13",
          "2020-07-14",
          "2020-07-15",
          "2020-07-16",
          "2020-07-17",
          "2020-07-18",
          "2020-07-19",
          "2020-07-20",
          "2020-07-21",
          "2020-07-22",
          "2020-07-23",
          "2020-07-24",
          "2020-07-25",
          "2020-07-26",
          "2020-07-27",
          "2020-07-28",
          "2020-07-29",
          "2020-07-30",
          "2020-07-31",
          "2020-08-01",
          "2020-08-02",
          "2020-08-03",
          "2020-08-04",
          "2020-08-05",
          "2020-08-06",
          "2020-08-07",
          "2020-08-08",
          "2020-08-09",
          "2020-08-10",
          "2020-08-11",
          "2020-08-12",
          "2020-08-13",
          "2020-08-14",
          "2020-08-15",
          "2020-08-16",
          "2020-08-17",
          "2020-08-18"
         ],
         "xaxis": "x",
         "y": [
          5358,
          5948,
          5795,
          5714,
          5858,
          6703,
          5846,
          5667,
          5551,
          6169,
          5392,
          4703,
          4712,
          4748,
          3505,
          3855,
          3238,
          3545,
          2699,
          2913,
          2988,
          3190,
          2516,
          2560,
          2830,
          2140,
          2054,
          2332,
          2367,
          2595,
          2297,
          2286,
          1842,
          1998,
          1855,
          1992,
          1956,
          2001,
          1572,
          1195,
          1436,
          1714,
          1493,
          1477,
          1359,
          1416,
          1065,
          1040,
          1136,
          1057,
          968,
          1068,
          1081,
          811,
          885,
          813,
          750,
          717,
          782,
          745,
          611,
          662,
          659,
          680,
          650,
          685,
          629,
          621,
          568,
          637,
          678,
          679,
          672,
          613,
          628,
          531,
          575,
          578,
          591,
          578,
          602,
          638,
          608,
          645,
          648,
          683,
          694,
          674,
          671,
          678,
          695,
          690,
          664,
          693,
          691,
          687,
          684,
          686,
          691,
          689,
          694,
          694,
          689,
          692,
          688,
          695,
          688,
          690,
          693
         ],
         "yaxis": "y"
        },
        {
         "hovertemplate": "Регион:=Московская обл.<br>Date=%{x}<br>Day_confirmed=%{y}<extra></extra>",
         "legendgroup": "Московская обл.",
         "line": {
          "color": "magenta",
          "dash": "solid",
          "shape": "spline"
         },
         "mode": "lines",
         "name": "Московская обл.",
         "orientation": "v",
         "showlegend": true,
         "type": "scatter",
         "x": [
          "2020-05-02",
          "2020-05-03",
          "2020-05-04",
          "2020-05-05",
          "2020-05-06",
          "2020-05-07",
          "2020-05-08",
          "2020-05-09",
          "2020-05-10",
          "2020-05-11",
          "2020-05-12",
          "2020-05-13",
          "2020-05-14",
          "2020-05-15",
          "2020-05-16",
          "2020-05-17",
          "2020-05-18",
          "2020-05-19",
          "2020-05-20",
          "2020-05-21",
          "2020-05-22",
          "2020-05-23",
          "2020-05-24",
          "2020-05-25",
          "2020-05-26",
          "2020-05-27",
          "2020-05-28",
          "2020-05-29",
          "2020-05-30",
          "2020-05-31",
          "2020-06-01",
          "2020-06-02",
          "2020-06-03",
          "2020-06-04",
          "2020-06-05",
          "2020-06-06",
          "2020-06-07",
          "2020-06-08",
          "2020-06-09",
          "2020-06-10",
          "2020-06-11",
          "2020-06-12",
          "2020-06-13",
          "2020-06-14",
          "2020-06-15",
          "2020-06-16",
          "2020-06-17",
          "2020-06-18",
          "2020-06-19",
          "2020-06-20",
          "2020-06-21",
          "2020-06-22",
          "2020-06-23",
          "2020-06-24",
          "2020-06-25",
          "2020-06-26",
          "2020-06-27",
          "2020-06-28",
          "2020-06-29",
          "2020-06-30",
          "2020-07-01",
          "2020-07-02",
          "2020-07-03",
          "2020-07-04",
          "2020-07-05",
          "2020-07-06",
          "2020-07-07",
          "2020-07-08",
          "2020-07-09",
          "2020-07-10",
          "2020-07-11",
          "2020-07-12",
          "2020-07-13",
          "2020-07-14",
          "2020-07-15",
          "2020-07-16",
          "2020-07-17",
          "2020-07-18",
          "2020-07-19",
          "2020-07-20",
          "2020-07-21",
          "2020-07-22",
          "2020-07-23",
          "2020-07-24",
          "2020-07-25",
          "2020-07-26",
          "2020-07-27",
          "2020-07-28",
          "2020-07-29",
          "2020-07-30",
          "2020-07-31",
          "2020-08-01",
          "2020-08-02",
          "2020-08-03",
          "2020-08-04",
          "2020-08-05",
          "2020-08-06",
          "2020-08-07",
          "2020-08-08",
          "2020-08-09",
          "2020-08-10",
          "2020-08-11",
          "2020-08-12",
          "2020-08-13",
          "2020-08-14",
          "2020-08-15",
          "2020-08-16",
          "2020-08-17",
          "2020-08-18"
         ],
         "xaxis": "x",
         "y": [
          807,
          822,
          803,
          822,
          829,
          842,
          918,
          1075,
          1133,
          1079,
          1063,
          962,
          918,
          945,
          937,
          907,
          921,
          898,
          903,
          892,
          824,
          846,
          862,
          831,
          817,
          793,
          774,
          773,
          735,
          757,
          728,
          732,
          736,
          767,
          762,
          758,
          754,
          751,
          739,
          735,
          724,
          730,
          725,
          717,
          689,
          694,
          680,
          667,
          646,
          591,
          549,
          506,
          504,
          507,
          467,
          390,
          366,
          325,
          335,
          301,
          306,
          317,
          298,
          275,
          287,
          292,
          177,
          194,
          192,
          199,
          188,
          197,
          196,
          198,
          173,
          174,
          166,
          173,
          171,
          153,
          149,
          128,
          145,
          143,
          148,
          144,
          139,
          126,
          137,
          144,
          150,
          149,
          157,
          160,
          161,
          162,
          159,
          158,
          161,
          149,
          153,
          154,
          152,
          148,
          156,
          153,
          154,
          153,
          145
         ],
         "yaxis": "y"
        },
        {
         "hovertemplate": "Регион:=Россия<br>Date=%{x}<br>Day_confirmed=%{y}<extra></extra>",
         "legendgroup": "Россия",
         "line": {
          "color": "aquamarine",
          "dash": "solid",
          "shape": "spline"
         },
         "mode": "lines",
         "name": "Россия",
         "orientation": "v",
         "showlegend": true,
         "type": "scatter",
         "x": [
          "2020-05-02",
          "2020-05-03",
          "2020-05-04",
          "2020-05-05",
          "2020-05-06",
          "2020-05-07",
          "2020-05-08",
          "2020-05-09",
          "2020-05-10",
          "2020-05-11",
          "2020-05-12",
          "2020-05-13",
          "2020-05-14",
          "2020-05-15",
          "2020-05-16",
          "2020-05-17",
          "2020-05-18",
          "2020-05-19",
          "2020-05-20",
          "2020-05-21",
          "2020-05-22",
          "2020-05-23",
          "2020-05-24",
          "2020-05-25",
          "2020-05-26",
          "2020-05-27",
          "2020-05-28",
          "2020-05-29",
          "2020-05-30",
          "2020-05-31",
          "2020-06-01",
          "2020-06-02",
          "2020-06-03",
          "2020-06-04",
          "2020-06-05",
          "2020-06-06",
          "2020-06-07",
          "2020-06-08",
          "2020-06-09",
          "2020-06-10",
          "2020-06-11",
          "2020-06-12",
          "2020-06-13",
          "2020-06-14",
          "2020-06-15",
          "2020-06-16",
          "2020-06-17",
          "2020-06-18",
          "2020-06-19",
          "2020-06-20",
          "2020-06-21",
          "2020-06-22",
          "2020-06-23",
          "2020-06-24",
          "2020-06-25",
          "2020-06-26",
          "2020-06-27",
          "2020-06-28",
          "2020-06-29",
          "2020-06-30",
          "2020-07-01",
          "2020-07-02",
          "2020-07-03",
          "2020-07-04",
          "2020-07-05",
          "2020-07-06",
          "2020-07-07",
          "2020-07-08",
          "2020-07-09",
          "2020-07-10",
          "2020-07-11",
          "2020-07-12",
          "2020-07-13",
          "2020-07-14",
          "2020-07-15",
          "2020-07-16",
          "2020-07-17",
          "2020-07-18",
          "2020-07-19",
          "2020-07-20",
          "2020-07-21",
          "2020-07-22",
          "2020-07-23",
          "2020-07-24",
          "2020-07-25",
          "2020-07-26",
          "2020-07-27",
          "2020-07-28",
          "2020-07-29",
          "2020-07-30",
          "2020-07-31",
          "2020-08-01",
          "2020-08-02",
          "2020-08-03",
          "2020-08-04",
          "2020-08-05",
          "2020-08-06",
          "2020-08-07",
          "2020-08-08",
          "2020-08-09",
          "2020-08-10",
          "2020-08-11",
          "2020-08-12",
          "2020-08-13",
          "2020-08-14",
          "2020-08-15",
          "2020-08-16",
          "2020-08-17",
          "2020-08-18"
         ],
         "xaxis": "x",
         "y": [
          9623,
          10633,
          10581,
          10102,
          10559,
          11231,
          10699,
          10817,
          11012,
          11656,
          10899,
          10028,
          9974,
          10598,
          9200,
          9709,
          8926,
          9263,
          8764,
          8849,
          8894,
          9434,
          8599,
          8946,
          8915,
          8338,
          8371,
          8572,
          8952,
          9268,
          9035,
          8863,
          8536,
          8831,
          8726,
          8855,
          8984,
          8985,
          8595,
          8404,
          8779,
          8987,
          8706,
          8835,
          8246,
          8248,
          7843,
          7790,
          7972,
          7889,
          7728,
          7600,
          7425,
          7176,
          7113,
          6800,
          6852,
          6791,
          6719,
          6693,
          6556,
          6760,
          6718,
          6632,
          6736,
          6611,
          6368,
          6562,
          6509,
          6635,
          6611,
          6615,
          6537,
          6248,
          6422,
          6428,
          6406,
          6234,
          6109,
          5940,
          5842,
          5862,
          5848,
          5811,
          5871,
          5765,
          5635,
          5395,
          5475,
          5509,
          5482,
          5462,
          5427,
          5394,
          5159,
          5204,
          5267,
          5241,
          5212,
          5189,
          5118,
          4945,
          5102,
          5057,
          5065,
          5061,
          4969,
          4892,
          4748
         ],
         "yaxis": "y"
        },
        {
         "hovertemplate": "Регион:=Санкт-Петербург<br>Date=%{x}<br>Day_confirmed=%{y}<extra></extra>",
         "legendgroup": "Санкт-Петербург",
         "line": {
          "color": "goldenrod",
          "dash": "solid",
          "shape": "spline"
         },
         "mode": "lines",
         "name": "Санкт-Петербург",
         "orientation": "v",
         "showlegend": true,
         "type": "scatter",
         "x": [
          "2020-05-02",
          "2020-05-03",
          "2020-05-04",
          "2020-05-05",
          "2020-05-06",
          "2020-05-07",
          "2020-05-08",
          "2020-05-09",
          "2020-05-10",
          "2020-05-11",
          "2020-05-12",
          "2020-05-13",
          "2020-05-14",
          "2020-05-15",
          "2020-05-16",
          "2020-05-17",
          "2020-05-18",
          "2020-05-19",
          "2020-05-20",
          "2020-05-21",
          "2020-05-22",
          "2020-05-23",
          "2020-05-24",
          "2020-05-25",
          "2020-05-26",
          "2020-05-27",
          "2020-05-28",
          "2020-05-29",
          "2020-05-30",
          "2020-05-31",
          "2020-06-01",
          "2020-06-02",
          "2020-06-03",
          "2020-06-04",
          "2020-06-05",
          "2020-06-06",
          "2020-06-07",
          "2020-06-08",
          "2020-06-09",
          "2020-06-10",
          "2020-06-11",
          "2020-06-12",
          "2020-06-13",
          "2020-06-14",
          "2020-06-15",
          "2020-06-16",
          "2020-06-17",
          "2020-06-18",
          "2020-06-19",
          "2020-06-20",
          "2020-06-21",
          "2020-06-22",
          "2020-06-23",
          "2020-06-24",
          "2020-06-25",
          "2020-06-26",
          "2020-06-27",
          "2020-06-28",
          "2020-06-29",
          "2020-06-30",
          "2020-07-01",
          "2020-07-02",
          "2020-07-03",
          "2020-07-04",
          "2020-07-05",
          "2020-07-06",
          "2020-07-07",
          "2020-07-08",
          "2020-07-09",
          "2020-07-10",
          "2020-07-11",
          "2020-07-12",
          "2020-07-13",
          "2020-07-14",
          "2020-07-15",
          "2020-07-16",
          "2020-07-17",
          "2020-07-18",
          "2020-07-19",
          "2020-07-20",
          "2020-07-21",
          "2020-07-22",
          "2020-07-23",
          "2020-07-24",
          "2020-07-25",
          "2020-07-26",
          "2020-07-27",
          "2020-07-28",
          "2020-07-29",
          "2020-07-30",
          "2020-07-31",
          "2020-08-01",
          "2020-08-02",
          "2020-08-03",
          "2020-08-04",
          "2020-08-05",
          "2020-08-06",
          "2020-08-07",
          "2020-08-08",
          "2020-08-09",
          "2020-08-10",
          "2020-08-11",
          "2020-08-12",
          "2020-08-13",
          "2020-08-14",
          "2020-08-15",
          "2020-08-16",
          "2020-08-17",
          "2020-08-18"
         ],
         "xaxis": "x",
         "y": [
          323,
          295,
          317,
          226,
          312,
          306,
          375,
          425,
          414,
          307,
          339,
          435,
          460,
          541,
          525,
          451,
          425,
          453,
          455,
          408,
          389,
          363,
          384,
          374,
          363,
          387,
          383,
          369,
          365,
          369,
          364,
          376,
          380,
          375,
          378,
          347,
          340,
          326,
          318,
          313,
          303,
          274,
          262,
          256,
          252,
          234,
          228,
          231,
          228,
          232,
          229,
          217,
          220,
          218,
          221,
          223,
          224,
          217,
          219,
          253,
          262,
          258,
          263,
          271,
          275,
          280,
          278,
          295,
          292,
          300,
          296,
          293,
          291,
          281,
          264,
          256,
          244,
          238,
          202,
          195,
          189,
          186,
          184,
          181,
          179,
          175,
          172,
          168,
          165,
          162,
          159,
          161,
          163,
          160,
          158,
          156,
          159,
          157,
          155,
          160,
          157,
          157,
          161,
          160,
          159,
          162,
          163,
          159,
          157
         ],
         "yaxis": "y"
        },
        {
         "hovertemplate": "Регион:=Саратовская обл.<br>Date=%{x}<br>Day_confirmed=%{y}<extra></extra>",
         "legendgroup": "Саратовская обл.",
         "line": {
          "color": "#FF97FF",
          "dash": "solid",
          "shape": "spline"
         },
         "mode": "lines",
         "name": "Саратовская обл.",
         "orientation": "v",
         "showlegend": true,
         "type": "scatter",
         "x": [
          "2020-05-02",
          "2020-05-03",
          "2020-05-04",
          "2020-05-05",
          "2020-05-06",
          "2020-05-07",
          "2020-05-08",
          "2020-05-09",
          "2020-05-10",
          "2020-05-11",
          "2020-05-12",
          "2020-05-13",
          "2020-05-14",
          "2020-05-15",
          "2020-05-16",
          "2020-05-17",
          "2020-05-18",
          "2020-05-19",
          "2020-05-20",
          "2020-05-21",
          "2020-05-22",
          "2020-05-23",
          "2020-05-24",
          "2020-05-25",
          "2020-05-26",
          "2020-05-27",
          "2020-05-28",
          "2020-05-29",
          "2020-05-30",
          "2020-05-31",
          "2020-06-01",
          "2020-06-02",
          "2020-06-03",
          "2020-06-04",
          "2020-06-05",
          "2020-06-06",
          "2020-06-07",
          "2020-06-08",
          "2020-06-09",
          "2020-06-10",
          "2020-06-11",
          "2020-06-12",
          "2020-06-13",
          "2020-06-14",
          "2020-06-15",
          "2020-06-16",
          "2020-06-17",
          "2020-06-18",
          "2020-06-19",
          "2020-06-20",
          "2020-06-21",
          "2020-06-22",
          "2020-06-23",
          "2020-06-24",
          "2020-06-25",
          "2020-06-26",
          "2020-06-27",
          "2020-06-28",
          "2020-06-29",
          "2020-06-30",
          "2020-07-01",
          "2020-07-02",
          "2020-07-03",
          "2020-07-04",
          "2020-07-05",
          "2020-07-06",
          "2020-07-07",
          "2020-07-08",
          "2020-07-09",
          "2020-07-10",
          "2020-07-11",
          "2020-07-12",
          "2020-07-13",
          "2020-07-14",
          "2020-07-15",
          "2020-07-16",
          "2020-07-17",
          "2020-07-18",
          "2020-07-19",
          "2020-07-20",
          "2020-07-21",
          "2020-07-22",
          "2020-07-23",
          "2020-07-24",
          "2020-07-25",
          "2020-07-26",
          "2020-07-27",
          "2020-07-28",
          "2020-07-29",
          "2020-07-30",
          "2020-07-31",
          "2020-08-01",
          "2020-08-02",
          "2020-08-03",
          "2020-08-04",
          "2020-08-05",
          "2020-08-06",
          "2020-08-07",
          "2020-08-08",
          "2020-08-09",
          "2020-08-10",
          "2020-08-11",
          "2020-08-12",
          "2020-08-13",
          "2020-08-14",
          "2020-08-15",
          "2020-08-16",
          "2020-08-17",
          "2020-08-18"
         ],
         "xaxis": "x",
         "y": [
          48,
          50,
          74,
          78,
          98,
          41,
          74,
          57,
          69,
          92,
          64,
          85,
          96,
          113,
          107,
          121,
          117,
          109,
          92,
          67,
          84,
          98,
          97,
          98,
          65,
          68,
          97,
          94,
          96,
          142,
          96,
          95,
          94,
          94,
          96,
          98,
          112,
          137,
          115,
          117,
          114,
          116,
          118,
          126,
          128,
          123,
          125,
          119,
          116,
          118,
          115,
          112,
          109,
          111,
          110,
          111,
          112,
          110,
          109,
          110,
          102,
          99,
          101,
          98,
          97,
          99,
          95,
          96,
          94,
          92,
          91,
          92,
          89,
          93,
          92,
          95,
          94,
          96,
          97,
          93,
          94,
          93,
          95,
          94,
          98,
          97,
          95,
          96,
          98,
          99,
          98,
          96,
          95,
          94,
          93,
          94,
          90,
          94,
          95,
          96,
          95,
          94,
          96,
          95,
          94,
          97,
          98,
          96,
          98
         ],
         "yaxis": "y"
        },
        {
         "hovertemplate": "Регион:=Свердловская обл.<br>Date=%{x}<br>Day_confirmed=%{y}<extra></extra>",
         "legendgroup": "Свердловская обл.",
         "line": {
          "color": "green",
          "dash": "solid",
          "shape": "spline"
         },
         "mode": "lines",
         "name": "Свердловская обл.",
         "orientation": "v",
         "showlegend": true,
         "type": "scatter",
         "x": [
          "2020-05-02",
          "2020-05-03",
          "2020-05-04",
          "2020-05-05",
          "2020-05-06",
          "2020-05-07",
          "2020-05-08",
          "2020-05-09",
          "2020-05-10",
          "2020-05-11",
          "2020-05-12",
          "2020-05-13",
          "2020-05-14",
          "2020-05-15",
          "2020-05-16",
          "2020-05-17",
          "2020-05-18",
          "2020-05-19",
          "2020-05-20",
          "2020-05-21",
          "2020-05-22",
          "2020-05-23",
          "2020-05-24",
          "2020-05-25",
          "2020-05-26",
          "2020-05-27",
          "2020-05-28",
          "2020-05-29",
          "2020-05-30",
          "2020-05-31",
          "2020-06-01",
          "2020-06-02",
          "2020-06-03",
          "2020-06-04",
          "2020-06-05",
          "2020-06-06",
          "2020-06-07",
          "2020-06-08",
          "2020-06-09",
          "2020-06-10",
          "2020-06-11",
          "2020-06-12",
          "2020-06-13",
          "2020-06-14",
          "2020-06-15",
          "2020-06-16",
          "2020-06-17",
          "2020-06-18",
          "2020-06-19",
          "2020-06-20",
          "2020-06-21",
          "2020-06-22",
          "2020-06-23",
          "2020-06-24",
          "2020-06-25",
          "2020-06-26",
          "2020-06-27",
          "2020-06-28",
          "2020-06-29",
          "2020-06-30",
          "2020-07-01",
          "2020-07-02",
          "2020-07-03",
          "2020-07-04",
          "2020-07-05",
          "2020-07-06",
          "2020-07-07",
          "2020-07-08",
          "2020-07-09",
          "2020-07-10",
          "2020-07-11",
          "2020-07-12",
          "2020-07-13",
          "2020-07-14",
          "2020-07-15",
          "2020-07-16",
          "2020-07-17",
          "2020-07-18",
          "2020-07-19",
          "2020-07-20",
          "2020-07-21",
          "2020-07-22",
          "2020-07-23",
          "2020-07-24",
          "2020-07-25",
          "2020-07-26",
          "2020-07-27",
          "2020-07-28",
          "2020-07-29",
          "2020-07-30",
          "2020-07-31",
          "2020-08-01",
          "2020-08-02",
          "2020-08-03",
          "2020-08-04",
          "2020-08-05",
          "2020-08-06",
          "2020-08-07",
          "2020-08-08",
          "2020-08-09",
          "2020-08-10",
          "2020-08-11",
          "2020-08-12",
          "2020-08-13",
          "2020-08-14",
          "2020-08-15",
          "2020-08-16",
          "2020-08-17",
          "2020-08-18"
         ],
         "xaxis": "x",
         "y": [
          81,
          75,
          53,
          133,
          76,
          76,
          155,
          121,
          139,
          108,
          211,
          135,
          64,
          104,
          105,
          160,
          130,
          138,
          135,
          174,
          135,
          171,
          90,
          279,
          207,
          235,
          268,
          230,
          261,
          265,
          283,
          292,
          357,
          298,
          251,
          249,
          240,
          249,
          242,
          284,
          312,
          320,
          245,
          254,
          233,
          231,
          227,
          231,
          254,
          224,
          207,
          197,
          182,
          181,
          192,
          193,
          216,
          209,
          214,
          276,
          256,
          224,
          227,
          268,
          266,
          270,
          226,
          263,
          276,
          275,
          280,
          286,
          218,
          245,
          263,
          349,
          301,
          259,
          245,
          234,
          227,
          234,
          249,
          248,
          251,
          241,
          252,
          209,
          223,
          215,
          210,
          202,
          199,
          196,
          182,
          181,
          183,
          180,
          178,
          184,
          179,
          168,
          167,
          162,
          154,
          158,
          150,
          141,
          149
         ],
         "yaxis": "y"
        },
        {
         "hovertemplate": "Регион:=Ставропольский край<br>Date=%{x}<br>Day_confirmed=%{y}<extra></extra>",
         "legendgroup": "Ставропольский край",
         "line": {
          "color": "#FECB52",
          "dash": "solid",
          "shape": "spline"
         },
         "mode": "lines",
         "name": "Ставропольский край",
         "orientation": "v",
         "showlegend": true,
         "type": "scatter",
         "x": [
          "2020-05-02",
          "2020-05-03",
          "2020-05-04",
          "2020-05-05",
          "2020-05-06",
          "2020-05-07",
          "2020-05-08",
          "2020-05-09",
          "2020-05-10",
          "2020-05-11",
          "2020-05-12",
          "2020-05-13",
          "2020-05-14",
          "2020-05-15",
          "2020-05-16",
          "2020-05-17",
          "2020-05-18",
          "2020-05-19",
          "2020-05-20",
          "2020-05-21",
          "2020-05-22",
          "2020-05-23",
          "2020-05-24",
          "2020-05-25",
          "2020-05-26",
          "2020-05-27",
          "2020-05-28",
          "2020-05-29",
          "2020-05-30",
          "2020-05-31",
          "2020-06-01",
          "2020-06-02",
          "2020-06-03",
          "2020-06-04",
          "2020-06-05",
          "2020-06-06",
          "2020-06-07",
          "2020-06-08",
          "2020-06-09",
          "2020-06-10",
          "2020-06-11",
          "2020-06-12",
          "2020-06-13",
          "2020-06-14",
          "2020-06-15",
          "2020-06-16",
          "2020-06-17",
          "2020-06-18",
          "2020-06-19",
          "2020-06-20",
          "2020-06-21",
          "2020-06-22",
          "2020-06-23",
          "2020-06-24",
          "2020-06-25",
          "2020-06-26",
          "2020-06-27",
          "2020-06-28",
          "2020-06-29",
          "2020-06-30",
          "2020-07-01",
          "2020-07-02",
          "2020-07-03",
          "2020-07-04",
          "2020-07-05",
          "2020-07-06",
          "2020-07-07",
          "2020-07-08",
          "2020-07-09",
          "2020-07-10",
          "2020-07-11",
          "2020-07-12",
          "2020-07-13",
          "2020-07-14",
          "2020-07-15",
          "2020-07-16",
          "2020-07-17",
          "2020-07-18",
          "2020-07-19",
          "2020-07-20",
          "2020-07-21",
          "2020-07-22",
          "2020-07-23",
          "2020-07-24",
          "2020-07-25",
          "2020-07-26",
          "2020-07-27",
          "2020-07-28",
          "2020-07-29",
          "2020-07-30",
          "2020-07-31",
          "2020-08-01",
          "2020-08-02",
          "2020-08-03",
          "2020-08-04",
          "2020-08-05",
          "2020-08-06",
          "2020-08-07",
          "2020-08-08",
          "2020-08-09",
          "2020-08-10",
          "2020-08-11",
          "2020-08-12",
          "2020-08-13",
          "2020-08-14",
          "2020-08-15",
          "2020-08-16",
          "2020-08-17",
          "2020-08-18"
         ],
         "xaxis": "x",
         "y": [
          25,
          55,
          57,
          36,
          40,
          23,
          56,
          69,
          38,
          34,
          41,
          51,
          72,
          60,
          59,
          98,
          65,
          70,
          59,
          69,
          53,
          74,
          77,
          79,
          75,
          72,
          80,
          82,
          84,
          81,
          83,
          85,
          80,
          86,
          84,
          87,
          89,
          88,
          86,
          85,
          87,
          84,
          85,
          83,
          82,
          86,
          83,
          90,
          137,
          93,
          101,
          102,
          90,
          75,
          79,
          76,
          104,
          98,
          90,
          78,
          84,
          93,
          73,
          96,
          82,
          80,
          79,
          85,
          79,
          83,
          79,
          110,
          75,
          64,
          91,
          102,
          129,
          141,
          123,
          101,
          109,
          96,
          125,
          131,
          118,
          109,
          92,
          110,
          119,
          110,
          114,
          118,
          108,
          111,
          98,
          121,
          116,
          104,
          137,
          127,
          125,
          111,
          95,
          105,
          130,
          127,
          129,
          132,
          128
         ],
         "yaxis": "y"
        },
        {
         "hovertemplate": "Регион:=Ульяновская обл.<br>Date=%{x}<br>Day_confirmed=%{y}<extra></extra>",
         "legendgroup": "Ульяновская обл.",
         "line": {
          "color": "#636efa",
          "dash": "solid",
          "shape": "spline"
         },
         "mode": "lines",
         "name": "Ульяновская обл.",
         "orientation": "v",
         "showlegend": true,
         "type": "scatter",
         "x": [
          "2020-05-02",
          "2020-05-03",
          "2020-05-04",
          "2020-05-05",
          "2020-05-06",
          "2020-05-07",
          "2020-05-08",
          "2020-05-09",
          "2020-05-10",
          "2020-05-11",
          "2020-05-12",
          "2020-05-13",
          "2020-05-14",
          "2020-05-15",
          "2020-05-16",
          "2020-05-17",
          "2020-05-18",
          "2020-05-19",
          "2020-05-20",
          "2020-05-21",
          "2020-05-22",
          "2020-05-23",
          "2020-05-24",
          "2020-05-25",
          "2020-05-26",
          "2020-05-27",
          "2020-05-28",
          "2020-05-29",
          "2020-05-30",
          "2020-05-31",
          "2020-06-01",
          "2020-06-02",
          "2020-06-03",
          "2020-06-04",
          "2020-06-05",
          "2020-06-06",
          "2020-06-07",
          "2020-06-08",
          "2020-06-09",
          "2020-06-10",
          "2020-06-11",
          "2020-06-12",
          "2020-06-13",
          "2020-06-14",
          "2020-06-15",
          "2020-06-16",
          "2020-06-17",
          "2020-06-18",
          "2020-06-19",
          "2020-06-20",
          "2020-06-21",
          "2020-06-22",
          "2020-06-23",
          "2020-06-24",
          "2020-06-25",
          "2020-06-26",
          "2020-06-27",
          "2020-06-28",
          "2020-06-29",
          "2020-06-30",
          "2020-07-01",
          "2020-07-02",
          "2020-07-03",
          "2020-07-04",
          "2020-07-05",
          "2020-07-06",
          "2020-07-07",
          "2020-07-08",
          "2020-07-09",
          "2020-07-10",
          "2020-07-11",
          "2020-07-12",
          "2020-07-13",
          "2020-07-14",
          "2020-07-15",
          "2020-07-16",
          "2020-07-17",
          "2020-07-18",
          "2020-07-19",
          "2020-07-20",
          "2020-07-21",
          "2020-07-22",
          "2020-07-23",
          "2020-07-24",
          "2020-07-25",
          "2020-07-26",
          "2020-07-27",
          "2020-07-28",
          "2020-07-29",
          "2020-07-30",
          "2020-07-31",
          "2020-08-01",
          "2020-08-02",
          "2020-08-03",
          "2020-08-04",
          "2020-08-05",
          "2020-08-06",
          "2020-08-07",
          "2020-08-08",
          "2020-08-09",
          "2020-08-10",
          "2020-08-11",
          "2020-08-12",
          "2020-08-13",
          "2020-08-14",
          "2020-08-15",
          "2020-08-16",
          "2020-08-17",
          "2020-08-18"
         ],
         "xaxis": "x",
         "y": [
          32,
          38,
          29,
          16,
          29,
          32,
          76,
          84,
          42,
          41,
          38,
          46,
          80,
          69,
          78,
          101,
          106,
          96,
          64,
          70,
          70,
          98,
          97,
          98,
          92,
          70,
          75,
          75,
          98,
          97,
          101,
          105,
          98,
          100,
          95,
          109,
          94,
          97,
          94,
          91,
          88,
          95,
          150,
          119,
          146,
          147,
          149,
          123,
          122,
          111,
          110,
          110,
          106,
          107,
          109,
          110,
          109,
          106,
          107,
          106,
          108,
          105,
          103,
          107,
          105,
          107,
          105,
          108,
          105,
          103,
          108,
          107,
          111,
          110,
          110,
          111,
          103,
          110,
          112,
          109,
          110,
          100,
          110,
          110,
          104,
          108,
          102,
          110,
          104,
          110,
          100,
          110,
          102,
          110,
          109,
          100,
          109,
          100,
          100,
          110,
          95,
          115,
          91,
          94,
          86,
          120,
          91,
          102,
          95
         ],
         "yaxis": "y"
        },
        {
         "hovertemplate": "Регион:=Челябинская обл.<br>Date=%{x}<br>Day_confirmed=%{y}<extra></extra>",
         "legendgroup": "Челябинская обл.",
         "line": {
          "color": "#EF553B",
          "dash": "solid",
          "shape": "spline"
         },
         "mode": "lines",
         "name": "Челябинская обл.",
         "orientation": "v",
         "showlegend": true,
         "type": "scatter",
         "x": [
          "2020-05-02",
          "2020-05-03",
          "2020-05-04",
          "2020-05-05",
          "2020-05-06",
          "2020-05-07",
          "2020-05-08",
          "2020-05-09",
          "2020-05-10",
          "2020-05-11",
          "2020-05-12",
          "2020-05-13",
          "2020-05-14",
          "2020-05-15",
          "2020-05-16",
          "2020-05-17",
          "2020-05-18",
          "2020-05-19",
          "2020-05-20",
          "2020-05-21",
          "2020-05-22",
          "2020-05-23",
          "2020-05-24",
          "2020-05-25",
          "2020-05-26",
          "2020-05-27",
          "2020-05-28",
          "2020-05-29",
          "2020-05-30",
          "2020-05-31",
          "2020-06-01",
          "2020-06-02",
          "2020-06-03",
          "2020-06-04",
          "2020-06-05",
          "2020-06-06",
          "2020-06-07",
          "2020-06-08",
          "2020-06-09",
          "2020-06-10",
          "2020-06-11",
          "2020-06-12",
          "2020-06-13",
          "2020-06-14",
          "2020-06-15",
          "2020-06-16",
          "2020-06-17",
          "2020-06-18",
          "2020-06-19",
          "2020-06-20",
          "2020-06-21",
          "2020-06-22",
          "2020-06-23",
          "2020-06-24",
          "2020-06-25",
          "2020-06-26",
          "2020-06-27",
          "2020-06-28",
          "2020-06-29",
          "2020-06-30",
          "2020-07-01",
          "2020-07-02",
          "2020-07-03",
          "2020-07-04",
          "2020-07-05",
          "2020-07-06",
          "2020-07-07",
          "2020-07-08",
          "2020-07-09",
          "2020-07-10",
          "2020-07-11",
          "2020-07-12",
          "2020-07-13",
          "2020-07-14",
          "2020-07-15",
          "2020-07-16",
          "2020-07-17",
          "2020-07-18",
          "2020-07-19",
          "2020-07-20",
          "2020-07-21",
          "2020-07-22",
          "2020-07-23",
          "2020-07-24",
          "2020-07-25",
          "2020-07-26",
          "2020-07-27",
          "2020-07-28",
          "2020-07-29",
          "2020-07-30",
          "2020-07-31",
          "2020-08-01",
          "2020-08-02",
          "2020-08-03",
          "2020-08-04",
          "2020-08-05",
          "2020-08-06",
          "2020-08-07",
          "2020-08-08",
          "2020-08-09",
          "2020-08-10",
          "2020-08-11",
          "2020-08-12",
          "2020-08-13",
          "2020-08-14",
          "2020-08-15",
          "2020-08-16",
          "2020-08-17",
          "2020-08-18"
         ],
         "xaxis": "x",
         "y": [
          30,
          63,
          51,
          86,
          44,
          27,
          42,
          70,
          90,
          77,
          94,
          51,
          44,
          100,
          69,
          98,
          85,
          96,
          74,
          84,
          80,
          80,
          62,
          45,
          36,
          70,
          82,
          141,
          150,
          136,
          134,
          113,
          108,
          113,
          108,
          128,
          115,
          123,
          143,
          135,
          115,
          91,
          120,
          141,
          169,
          171,
          136,
          167,
          166,
          176,
          182,
          176,
          258,
          185,
          174,
          160,
          158,
          152,
          146,
          144,
          137,
          134,
          129,
          128,
          131,
          128,
          138,
          135,
          129,
          129,
          129,
          119,
          132,
          132,
          132,
          125,
          131,
          132,
          130,
          134,
          130,
          132,
          130,
          121,
          124,
          131,
          128,
          124,
          125,
          119,
          117,
          110,
          109,
          107,
          105,
          103,
          92,
          89,
          87,
          94,
          83,
          85,
          88,
          84,
          80,
          76,
          79,
          69,
          67
         ],
         "yaxis": "y"
        }
       ],
       "layout": {
        "annotations": [
         {
          "showarrow": false,
          "text": "Данные: Яндекс",
          "x": 0.5,
          "xref": "paper",
          "y": -0.15,
          "yref": "paper"
         }
        ],
        "height": 600,
        "legend": {
         "title": {
          "text": "Регион:"
         },
         "tracegroupgap": 0
        },
        "template": {
         "data": {
          "pie": [
           {
            "automargin": true,
            "type": "pie"
           }
          ]
         },
         "layout": {
          "xaxis": {
           "showgrid": true,
           "title": {
            "standoff": 15
           }
          },
          "yaxis": {
           "showgrid": true,
           "title": {
            "standoff": 15
           }
          }
         }
        },
        "title": {
         "text": "График количества новых больных по 5 регионам с наибольшим количеством заболеваний",
         "x": 0.5,
         "xanchor": "center",
         "y": 0.9,
         "yanchor": "bottom"
        },
        "width": 990,
        "xaxis": {
         "anchor": "y",
         "domain": [
          0,
          1
         ],
         "title": {
          "text": ""
         }
        },
        "yaxis": {
         "anchor": "x",
         "domain": [
          0,
          1
         ],
         "title": {
          "text": ""
         }
        }
       }
      }
     },
     "metadata": {}
    }
   ],
   "source": [
    "mask = (X.Date>datetime.date(2020,5,1))&(X.Region.isin(regions_towatch))\n",
    "#mask = (X.Region.isin(regions_towatch))\n",
    "\n",
    "fig = px.line(X[mask], y=\"Day_confirmed\", x=\"Date\",\n",
    "                             color=\"Region\", line_group=\"Region\",\n",
    "              line_shape=\"spline\", render_mode=\"notebook\",labels={'Region':'Регион:'},\n",
    "              color_discrete_map={\n",
    "                \"Москва\": \"red\",\n",
    "                \"Московская обл.\": \"magenta\",\n",
    "                \"Санкт-Петербург\": \"goldenrod\",\n",
    "                \"Нижегородская обл.\": \"darkblue\",\n",
    "                \"Свердловская обл.\": \"green\",\n",
    "                 'Россия': 'aquamarine'},\n",
    "             title=\"График количества новых больных по 5 регионам с наибольшим количеством заболеваний\")\n",
    "\n",
    "fig.update_layout(\n",
    "    annotations=[\n",
    "            dict(\n",
    "            x=0.5,\n",
    "            y=-0.15,\n",
    "            showarrow=False,\n",
    "            text=\"Данные: Яндекс\",\n",
    "            xref=\"paper\",\n",
    "            yref=\"paper\")],\n",
    "           \n",
    "                  title_x = 0.5,\n",
    "                  title_y= 0.9,\n",
    "                  title_xanchor = \"center\",\n",
    "                  title_yanchor = \"bottom\", \n",
    "                  \n",
    "                  width = 990, height = 600,template = 'gridon',\n",
    "    \n",
    "    \n",
    "                  xaxis_title='',yaxis_title = ''\n",
    ")\n",
    "\n",
    "fig.show()\n",
    "\n",
    "\n",
    "\n",
    "\n"
   ]
  },
  {
   "cell_type": "code",
   "execution_count": 169,
   "metadata": {},
   "outputs": [
    {
     "output_type": "display_data",
     "data": {
      "application/vnd.plotly.v1+json": {
       "config": {
        "plotlyServerURL": "https://plotly.com"
       },
       "data": [
        {
         "marker": {
          "color": "red"
         },
         "name": "Москва",
         "showlegend": true,
         "text": [
          null,
          null,
          null,
          null,
          null,
          null,
          null,
          2.25,
          4,
          1.5,
          2,
          1.611,
          2.125,
          3.5,
          2.438,
          2.828,
          2.059,
          2.603,
          2.038,
          3.329,
          3.381,
          2.689,
          3.314,
          2.212,
          1.915,
          2.063,
          2.017,
          2.419,
          2.496,
          1.916,
          1.894,
          1.375,
          1.331,
          1.424,
          1.393,
          1.662,
          1.626,
          1.738,
          1.717,
          1.552,
          1.614,
          1.387,
          1.369,
          1.497,
          1.612,
          1.704,
          1.718,
          1.448,
          1.007,
          1.034,
          0.889,
          0.935,
          1.187,
          1.093,
          1.105,
          1.072,
          1.047,
          1.234,
          1.613,
          1.835,
          1.909,
          1.638,
          1.34,
          1.167,
          1.055,
          1.019,
          0.965,
          0.944,
          0.906,
          0.883,
          0.842,
          0.776,
          0.771,
          0.732,
          0.723,
          0.755,
          0.737,
          0.791,
          0.834,
          0.87,
          0.908,
          0.914,
          0.852,
          0.826,
          0.831,
          0.801,
          0.931,
          1.001,
          1.02,
          1.014,
          0.901,
          0.832,
          0.805,
          0.865,
          0.927,
          0.942,
          0.875,
          0.795,
          0.758,
          0.776,
          0.91,
          0.974,
          0.971,
          0.911,
          0.797,
          0.771,
          0.748,
          0.79,
          0.867,
          0.896,
          0.914,
          0.915,
          0.849,
          0.781,
          0.806,
          0.796,
          0.834,
          0.876,
          0.885,
          0.874,
          0.872,
          0.929,
          0.955,
          0.988,
          0.99,
          0.944,
          0.918,
          0.947,
          0.991,
          1.065,
          1.076,
          1.035,
          0.954,
          0.88,
          0.875,
          0.878,
          0.95,
          1.001,
          1.042,
          1.066,
          1.074,
          1.081,
          1.073,
          1.101,
          1.083,
          1.072,
          1.051,
          1.018,
          1.013,
          1.002,
          1.009,
          1.007,
          1,
          1.01,
          1.002,
          1.004,
          1.005,
          1.002,
          1.007,
          1.007,
          1.007,
          1.001,
          0.999,
          0.999,
          0.997,
          1.001
         ],
         "textposition": "inside",
         "type": "bar",
         "x": [
          "2020-03-06",
          "2020-03-07",
          "2020-03-08",
          "2020-03-09",
          "2020-03-10",
          "2020-03-11",
          "2020-03-12",
          "2020-03-13",
          "2020-03-14",
          "2020-03-15",
          "2020-03-16",
          "2020-03-17",
          "2020-03-18",
          "2020-03-19",
          "2020-03-20",
          "2020-03-21",
          "2020-03-22",
          "2020-03-23",
          "2020-03-24",
          "2020-03-25",
          "2020-03-26",
          "2020-03-27",
          "2020-03-28",
          "2020-03-29",
          "2020-03-30",
          "2020-03-31",
          "2020-04-01",
          "2020-04-02",
          "2020-04-03",
          "2020-04-04",
          "2020-04-05",
          "2020-04-06",
          "2020-04-07",
          "2020-04-08",
          "2020-04-09",
          "2020-04-10",
          "2020-04-11",
          "2020-04-12",
          "2020-04-13",
          "2020-04-14",
          "2020-04-15",
          "2020-04-16",
          "2020-04-17",
          "2020-04-18",
          "2020-04-19",
          "2020-04-20",
          "2020-04-21",
          "2020-04-22",
          "2020-04-23",
          "2020-04-24",
          "2020-04-25",
          "2020-04-26",
          "2020-04-27",
          "2020-04-28",
          "2020-04-29",
          "2020-04-30",
          "2020-05-01",
          "2020-05-02",
          "2020-05-03",
          "2020-05-04",
          "2020-05-05",
          "2020-05-06",
          "2020-05-07",
          "2020-05-08",
          "2020-05-09",
          "2020-05-10",
          "2020-05-11",
          "2020-05-12",
          "2020-05-13",
          "2020-05-14",
          "2020-05-15",
          "2020-05-16",
          "2020-05-17",
          "2020-05-18",
          "2020-05-19",
          "2020-05-20",
          "2020-05-21",
          "2020-05-22",
          "2020-05-23",
          "2020-05-24",
          "2020-05-25",
          "2020-05-26",
          "2020-05-27",
          "2020-05-28",
          "2020-05-29",
          "2020-05-30",
          "2020-05-31",
          "2020-06-01",
          "2020-06-02",
          "2020-06-03",
          "2020-06-04",
          "2020-06-05",
          "2020-06-06",
          "2020-06-07",
          "2020-06-08",
          "2020-06-09",
          "2020-06-10",
          "2020-06-11",
          "2020-06-12",
          "2020-06-13",
          "2020-06-14",
          "2020-06-15",
          "2020-06-16",
          "2020-06-17",
          "2020-06-18",
          "2020-06-19",
          "2020-06-20",
          "2020-06-21",
          "2020-06-22",
          "2020-06-23",
          "2020-06-24",
          "2020-06-25",
          "2020-06-26",
          "2020-06-27",
          "2020-06-28",
          "2020-06-29",
          "2020-06-30",
          "2020-07-01",
          "2020-07-02",
          "2020-07-03",
          "2020-07-04",
          "2020-07-05",
          "2020-07-06",
          "2020-07-07",
          "2020-07-08",
          "2020-07-09",
          "2020-07-10",
          "2020-07-11",
          "2020-07-12",
          "2020-07-13",
          "2020-07-14",
          "2020-07-15",
          "2020-07-16",
          "2020-07-17",
          "2020-07-18",
          "2020-07-19",
          "2020-07-20",
          "2020-07-21",
          "2020-07-22",
          "2020-07-23",
          "2020-07-24",
          "2020-07-25",
          "2020-07-26",
          "2020-07-27",
          "2020-07-28",
          "2020-07-29",
          "2020-07-30",
          "2020-07-31",
          "2020-08-01",
          "2020-08-02",
          "2020-08-03",
          "2020-08-04",
          "2020-08-05",
          "2020-08-06",
          "2020-08-07",
          "2020-08-08",
          "2020-08-09",
          "2020-08-10",
          "2020-08-11",
          "2020-08-12",
          "2020-08-13",
          "2020-08-14",
          "2020-08-15",
          "2020-08-16",
          "2020-08-17",
          "2020-08-18"
         ],
         "y": [
          null,
          null,
          null,
          null,
          null,
          null,
          null,
          2.25,
          4,
          1.5,
          2,
          1.611,
          2.125,
          3.5,
          2.438,
          2.8280000000000003,
          2.059,
          2.603,
          2.0380000000000003,
          3.3289999999999997,
          3.3810000000000002,
          2.6889999999999996,
          3.3139999999999996,
          2.2119999999999997,
          1.915,
          2.063,
          2.017,
          2.419,
          2.496,
          1.916,
          1.8940000000000001,
          1.375,
          1.331,
          1.4240000000000002,
          1.393,
          1.662,
          1.626,
          1.7380000000000002,
          1.7169999999999999,
          1.5519999999999998,
          1.614,
          1.3869999999999998,
          1.369,
          1.4969999999999999,
          1.6119999999999999,
          1.704,
          1.7180000000000002,
          1.4480000000000002,
          1.0070000000000001,
          1.034,
          0.889,
          0.935,
          1.187,
          1.093,
          1.105,
          1.072,
          1.047,
          1.234,
          1.6130000000000002,
          1.835,
          1.909,
          1.6380000000000001,
          1.34,
          1.167,
          1.055,
          1.0190000000000001,
          0.965,
          0.9440000000000001,
          0.9059999999999999,
          0.883,
          0.8420000000000001,
          0.7759999999999999,
          0.7709999999999999,
          0.732,
          0.723,
          0.755,
          0.737,
          0.7909999999999999,
          0.8340000000000001,
          0.87,
          0.9079999999999999,
          0.914,
          0.852,
          0.826,
          0.831,
          0.8009999999999999,
          0.9309999999999999,
          1.001,
          1.02,
          1.014,
          0.9009999999999999,
          0.8320000000000001,
          0.805,
          0.865,
          0.927,
          0.9420000000000001,
          0.875,
          0.795,
          0.758,
          0.7759999999999999,
          0.91,
          0.9740000000000001,
          0.971,
          0.9109999999999999,
          0.797,
          0.7709999999999999,
          0.748,
          0.79,
          0.867,
          0.8959999999999999,
          0.914,
          0.915,
          0.8490000000000001,
          0.7809999999999999,
          0.8059999999999999,
          0.7959999999999999,
          0.8340000000000001,
          0.8759999999999999,
          0.885,
          0.8740000000000001,
          0.872,
          0.929,
          0.955,
          0.988,
          0.99,
          0.9440000000000001,
          0.9179999999999999,
          0.9470000000000001,
          0.991,
          1.065,
          1.0759999999999998,
          1.035,
          0.9540000000000001,
          0.88,
          0.875,
          0.878,
          0.95,
          1.001,
          1.042,
          1.0659999999999998,
          1.074,
          1.081,
          1.073,
          1.101,
          1.083,
          1.072,
          1.051,
          1.018,
          1.013,
          1.002,
          1.0090000000000001,
          1.0070000000000001,
          1,
          1.01,
          1.002,
          1.004,
          1.005,
          1.002,
          1.0070000000000001,
          1.0070000000000001,
          1.0070000000000001,
          1.001,
          0.9990000000000001,
          0.9990000000000001,
          0.997,
          1.001
         ]
        },
        {
         "marker": {
          "color": "magenta"
         },
         "name": "Московская обл.",
         "showlegend": true,
         "text": [
          null,
          null,
          null,
          null,
          null,
          null,
          null,
          1,
          null,
          null,
          2,
          3,
          4,
          1.667,
          2,
          2.333,
          1.5,
          1.6,
          2.5,
          3.286,
          3.833,
          2.25,
          1.7,
          0.261,
          0.261,
          0.778,
          2.941,
          11.833,
          13,
          5,
          0.98,
          0.915,
          1.179,
          2.014,
          3.49,
          3.231,
          2.641,
          2.05,
          2.591,
          2.586,
          2.584,
          2.806,
          2.499,
          2.551,
          2.396,
          2.089,
          1.509,
          1.183,
          1.379,
          1.291,
          1.456,
          1.608,
          1.26,
          1.211,
          1.042,
          0.941,
          0.929,
          0.884,
          0.956,
          1.065,
          1.152,
          1.316,
          1.329,
          1.223,
          1.163,
          1.063,
          1.024,
          1.056,
          1.126,
          1.211,
          1.276,
          1.275,
          1.156,
          1.014,
          0.925,
          0.865,
          0.875,
          0.922,
          0.942,
          0.965,
          0.975,
          0.948,
          0.946,
          0.944,
          0.931,
          0.954,
          0.953,
          0.939,
          0.939,
          0.916,
          0.92,
          0.931,
          0.935,
          0.96,
          0.975,
          1.001,
          1.024,
          1.03,
          1.021,
          1.002,
          0.985,
          0.97,
          0.968,
          0.971,
          0.972,
          0.97,
          0.965,
          0.954,
          0.943,
          0.939,
          0.915,
          0.882,
          0.84,
          0.8,
          0.8,
          0.809,
          0.815,
          0.805,
          0.749,
          0.714,
          0.71,
          0.732,
          0.813,
          0.863,
          0.901,
          0.929,
          0.915,
          0.844,
          0.794,
          0.726,
          0.661,
          0.75,
          0.817,
          0.912,
          1.022,
          0.988,
          0.955,
          0.912,
          0.881,
          0.895,
          0.895,
          0.909,
          0.876,
          0.841,
          0.852,
          0.873,
          0.965,
          0.998,
          0.986,
          0.968,
          0.941,
          0.97,
          1.041,
          1.099,
          1.128,
          1.126,
          1.103,
          1.07,
          1.039,
          1.021,
          0.98,
          0.967,
          0.964,
          0.95,
          0.968,
          0.982,
          0.987,
          1.005,
          1.015,
          0.992
         ],
         "textposition": "inside",
         "type": "bar",
         "x": [
          "2020-03-02",
          "2020-03-03",
          "2020-03-04",
          "2020-03-05",
          "2020-03-06",
          "2020-03-07",
          "2020-03-08",
          "2020-03-09",
          "2020-03-10",
          "2020-03-11",
          "2020-03-12",
          "2020-03-13",
          "2020-03-14",
          "2020-03-15",
          "2020-03-16",
          "2020-03-17",
          "2020-03-18",
          "2020-03-19",
          "2020-03-20",
          "2020-03-21",
          "2020-03-22",
          "2020-03-23",
          "2020-03-24",
          "2020-03-25",
          "2020-03-26",
          "2020-03-27",
          "2020-03-28",
          "2020-03-29",
          "2020-03-30",
          "2020-03-31",
          "2020-04-01",
          "2020-04-02",
          "2020-04-03",
          "2020-04-04",
          "2020-04-05",
          "2020-04-06",
          "2020-04-07",
          "2020-04-08",
          "2020-04-09",
          "2020-04-10",
          "2020-04-11",
          "2020-04-12",
          "2020-04-13",
          "2020-04-14",
          "2020-04-15",
          "2020-04-16",
          "2020-04-17",
          "2020-04-18",
          "2020-04-19",
          "2020-04-20",
          "2020-04-21",
          "2020-04-22",
          "2020-04-23",
          "2020-04-24",
          "2020-04-25",
          "2020-04-26",
          "2020-04-27",
          "2020-04-28",
          "2020-04-29",
          "2020-04-30",
          "2020-05-01",
          "2020-05-02",
          "2020-05-03",
          "2020-05-04",
          "2020-05-05",
          "2020-05-06",
          "2020-05-07",
          "2020-05-08",
          "2020-05-09",
          "2020-05-10",
          "2020-05-11",
          "2020-05-12",
          "2020-05-13",
          "2020-05-14",
          "2020-05-15",
          "2020-05-16",
          "2020-05-17",
          "2020-05-18",
          "2020-05-19",
          "2020-05-20",
          "2020-05-21",
          "2020-05-22",
          "2020-05-23",
          "2020-05-24",
          "2020-05-25",
          "2020-05-26",
          "2020-05-27",
          "2020-05-28",
          "2020-05-29",
          "2020-05-30",
          "2020-05-31",
          "2020-06-01",
          "2020-06-02",
          "2020-06-03",
          "2020-06-04",
          "2020-06-05",
          "2020-06-06",
          "2020-06-07",
          "2020-06-08",
          "2020-06-09",
          "2020-06-10",
          "2020-06-11",
          "2020-06-12",
          "2020-06-13",
          "2020-06-14",
          "2020-06-15",
          "2020-06-16",
          "2020-06-17",
          "2020-06-18",
          "2020-06-19",
          "2020-06-20",
          "2020-06-21",
          "2020-06-22",
          "2020-06-23",
          "2020-06-24",
          "2020-06-25",
          "2020-06-26",
          "2020-06-27",
          "2020-06-28",
          "2020-06-29",
          "2020-06-30",
          "2020-07-01",
          "2020-07-02",
          "2020-07-03",
          "2020-07-04",
          "2020-07-05",
          "2020-07-06",
          "2020-07-07",
          "2020-07-08",
          "2020-07-09",
          "2020-07-10",
          "2020-07-11",
          "2020-07-12",
          "2020-07-13",
          "2020-07-14",
          "2020-07-15",
          "2020-07-16",
          "2020-07-17",
          "2020-07-18",
          "2020-07-19",
          "2020-07-20",
          "2020-07-21",
          "2020-07-22",
          "2020-07-23",
          "2020-07-24",
          "2020-07-25",
          "2020-07-26",
          "2020-07-27",
          "2020-07-28",
          "2020-07-29",
          "2020-07-30",
          "2020-07-31",
          "2020-08-01",
          "2020-08-02",
          "2020-08-03",
          "2020-08-04",
          "2020-08-05",
          "2020-08-06",
          "2020-08-07",
          "2020-08-08",
          "2020-08-09",
          "2020-08-10",
          "2020-08-11",
          "2020-08-12",
          "2020-08-13",
          "2020-08-14",
          "2020-08-15",
          "2020-08-16",
          "2020-08-17",
          "2020-08-18"
         ],
         "y": [
          null,
          null,
          null,
          null,
          null,
          null,
          null,
          1,
          null,
          null,
          2,
          3,
          4,
          1.6669999999999998,
          2,
          2.333,
          1.5,
          1.6,
          2.5,
          3.286,
          3.833,
          2.25,
          1.7,
          0.261,
          0.261,
          0.778,
          2.9410000000000003,
          11.833,
          13,
          5,
          0.98,
          0.915,
          1.179,
          2.0140000000000002,
          3.49,
          3.2310000000000003,
          2.641,
          2.05,
          2.591,
          2.5860000000000003,
          2.5839999999999996,
          2.806,
          2.499,
          2.551,
          2.396,
          2.089,
          1.5090000000000001,
          1.183,
          1.379,
          1.291,
          1.456,
          1.608,
          1.26,
          1.2109999999999999,
          1.042,
          0.941,
          0.929,
          0.884,
          0.956,
          1.065,
          1.1520000000000001,
          1.3159999999999998,
          1.329,
          1.2229999999999999,
          1.163,
          1.063,
          1.024,
          1.056,
          1.126,
          1.2109999999999999,
          1.276,
          1.275,
          1.156,
          1.014,
          0.925,
          0.865,
          0.875,
          0.922,
          0.9420000000000001,
          0.965,
          0.975,
          0.948,
          0.946,
          0.9440000000000001,
          0.9309999999999999,
          0.9540000000000001,
          0.953,
          0.9390000000000001,
          0.9390000000000001,
          0.9159999999999999,
          0.92,
          0.9309999999999999,
          0.935,
          0.96,
          0.975,
          1.001,
          1.024,
          1.03,
          1.021,
          1.002,
          0.985,
          0.97,
          0.968,
          0.971,
          0.972,
          0.97,
          0.965,
          0.9540000000000001,
          0.943,
          0.9390000000000001,
          0.915,
          0.882,
          0.84,
          0.8,
          0.8,
          0.809,
          0.815,
          0.805,
          0.7490000000000001,
          0.7140000000000001,
          0.71,
          0.732,
          0.813,
          0.863,
          0.9009999999999999,
          0.929,
          0.915,
          0.8440000000000001,
          0.794,
          0.726,
          0.6609999999999999,
          0.75,
          0.8170000000000001,
          0.912,
          1.022,
          0.988,
          0.955,
          0.912,
          0.8809999999999999,
          0.895,
          0.895,
          0.909,
          0.8759999999999999,
          0.841,
          0.852,
          0.873,
          0.965,
          0.998,
          0.986,
          0.968,
          0.941,
          0.97,
          1.041,
          1.099,
          1.128,
          1.126,
          1.103,
          1.07,
          1.0390000000000001,
          1.021,
          0.98,
          0.9670000000000001,
          0.9640000000000001,
          0.95,
          0.968,
          0.982,
          0.987,
          1.005,
          1.015,
          0.992
         ]
        },
        {
         "marker": {
          "color": "goldenrod"
         },
         "name": "Санкт-Петербург",
         "showlegend": true,
         "text": [
          null,
          null,
          null,
          null,
          null,
          null,
          null,
          4,
          null,
          null,
          1.667,
          1,
          1.25,
          0.857,
          1.4,
          1.75,
          1.2,
          1.167,
          0.714,
          1.429,
          1.667,
          2.286,
          4.2,
          2.4,
          7.2,
          5.5,
          5,
          4.417,
          1.014,
          0.75,
          0.752,
          1.311,
          2.164,
          2.758,
          2.304,
          1.388,
          1.443,
          1.676,
          2.148,
          2.285,
          2.307,
          2.718,
          2.166,
          1.884,
          1.451,
          0.562,
          0.733,
          0.84,
          1.134,
          2.045,
          1.304,
          1.117,
          0.838,
          0.839,
          1.216,
          1.504,
          1.79,
          1.629,
          1.304,
          0.99,
          0.886,
          0.891,
          0.949,
          1.221,
          1.322,
          1.31,
          1.218,
          1.054,
          1.014,
          1.167,
          1.321,
          1.322,
          1.26,
          1.045,
          0.91,
          0.881,
          0.878,
          0.871,
          0.865,
          0.867,
          0.87,
          0.934,
          0.976,
          0.995,
          1.013,
          0.985,
          0.973,
          0.981,
          0.99,
          1.006,
          1.029,
          1.004,
          0.967,
          0.93,
          0.882,
          0.876,
          0.875,
          0.868,
          0.866,
          0.844,
          0.829,
          0.831,
          0.842,
          0.863,
          0.882,
          0.915,
          0.948,
          0.959,
          0.975,
          0.962,
          0.952,
          0.974,
          0.987,
          1.001,
          1.008,
          1.035,
          1.073,
          1.121,
          1.173,
          1.154,
          1.122,
          1.098,
          1.066,
          1.07,
          1.073,
          1.07,
          1.072,
          1.047,
          1.031,
          0.997,
          0.954,
          0.925,
          0.886,
          0.863,
          0.833,
          0.805,
          0.789,
          0.77,
          0.802,
          0.842,
          0.886,
          0.931,
          0.938,
          0.938,
          0.932,
          0.928,
          0.925,
          0.932,
          0.949,
          0.964,
          0.982,
          0.985,
          0.981,
          0.98,
          0.977,
          0.991,
          0.994,
          0.998,
          1.013,
          1.006,
          1.013,
          1.021,
          1.014,
          1.013,
          1.006
         ],
         "textposition": "inside",
         "type": "bar",
         "x": [
          "2020-03-07",
          "2020-03-08",
          "2020-03-09",
          "2020-03-10",
          "2020-03-11",
          "2020-03-12",
          "2020-03-13",
          "2020-03-14",
          "2020-03-15",
          "2020-03-16",
          "2020-03-17",
          "2020-03-18",
          "2020-03-19",
          "2020-03-20",
          "2020-03-21",
          "2020-03-22",
          "2020-03-23",
          "2020-03-24",
          "2020-03-25",
          "2020-03-26",
          "2020-03-27",
          "2020-03-28",
          "2020-03-29",
          "2020-03-30",
          "2020-03-31",
          "2020-04-01",
          "2020-04-02",
          "2020-04-03",
          "2020-04-04",
          "2020-04-05",
          "2020-04-06",
          "2020-04-07",
          "2020-04-08",
          "2020-04-09",
          "2020-04-10",
          "2020-04-11",
          "2020-04-12",
          "2020-04-13",
          "2020-04-14",
          "2020-04-15",
          "2020-04-16",
          "2020-04-17",
          "2020-04-18",
          "2020-04-19",
          "2020-04-20",
          "2020-04-21",
          "2020-04-22",
          "2020-04-23",
          "2020-04-24",
          "2020-04-25",
          "2020-04-26",
          "2020-04-27",
          "2020-04-28",
          "2020-04-29",
          "2020-04-30",
          "2020-05-01",
          "2020-05-02",
          "2020-05-03",
          "2020-05-04",
          "2020-05-05",
          "2020-05-06",
          "2020-05-07",
          "2020-05-08",
          "2020-05-09",
          "2020-05-10",
          "2020-05-11",
          "2020-05-12",
          "2020-05-13",
          "2020-05-14",
          "2020-05-15",
          "2020-05-16",
          "2020-05-17",
          "2020-05-18",
          "2020-05-19",
          "2020-05-20",
          "2020-05-21",
          "2020-05-22",
          "2020-05-23",
          "2020-05-24",
          "2020-05-25",
          "2020-05-26",
          "2020-05-27",
          "2020-05-28",
          "2020-05-29",
          "2020-05-30",
          "2020-05-31",
          "2020-06-01",
          "2020-06-02",
          "2020-06-03",
          "2020-06-04",
          "2020-06-05",
          "2020-06-06",
          "2020-06-07",
          "2020-06-08",
          "2020-06-09",
          "2020-06-10",
          "2020-06-11",
          "2020-06-12",
          "2020-06-13",
          "2020-06-14",
          "2020-06-15",
          "2020-06-16",
          "2020-06-17",
          "2020-06-18",
          "2020-06-19",
          "2020-06-20",
          "2020-06-21",
          "2020-06-22",
          "2020-06-23",
          "2020-06-24",
          "2020-06-25",
          "2020-06-26",
          "2020-06-27",
          "2020-06-28",
          "2020-06-29",
          "2020-06-30",
          "2020-07-01",
          "2020-07-02",
          "2020-07-03",
          "2020-07-04",
          "2020-07-05",
          "2020-07-06",
          "2020-07-07",
          "2020-07-08",
          "2020-07-09",
          "2020-07-10",
          "2020-07-11",
          "2020-07-12",
          "2020-07-13",
          "2020-07-14",
          "2020-07-15",
          "2020-07-16",
          "2020-07-17",
          "2020-07-18",
          "2020-07-19",
          "2020-07-20",
          "2020-07-21",
          "2020-07-22",
          "2020-07-23",
          "2020-07-24",
          "2020-07-25",
          "2020-07-26",
          "2020-07-27",
          "2020-07-28",
          "2020-07-29",
          "2020-07-30",
          "2020-07-31",
          "2020-08-01",
          "2020-08-02",
          "2020-08-03",
          "2020-08-04",
          "2020-08-05",
          "2020-08-06",
          "2020-08-07",
          "2020-08-08",
          "2020-08-09",
          "2020-08-10",
          "2020-08-11",
          "2020-08-12",
          "2020-08-13",
          "2020-08-14",
          "2020-08-15",
          "2020-08-16",
          "2020-08-17",
          "2020-08-18"
         ],
         "y": [
          null,
          null,
          null,
          null,
          null,
          null,
          null,
          4,
          null,
          null,
          1.6669999999999998,
          1,
          1.25,
          0.857,
          1.4,
          1.75,
          1.2,
          1.167,
          0.7140000000000001,
          1.429,
          1.6669999999999998,
          2.286,
          4.2,
          2.4,
          7.2,
          5.5,
          5,
          4.417,
          1.014,
          0.75,
          0.752,
          1.311,
          2.164,
          2.758,
          2.3040000000000003,
          1.3880000000000001,
          1.443,
          1.676,
          2.148,
          2.285,
          2.307,
          2.718,
          2.166,
          1.8840000000000001,
          1.4509999999999998,
          0.562,
          0.733,
          0.84,
          1.1340000000000001,
          2.045,
          1.304,
          1.117,
          0.838,
          0.8390000000000001,
          1.216,
          1.504,
          1.79,
          1.629,
          1.304,
          0.99,
          0.8859999999999999,
          0.8909999999999999,
          0.9490000000000001,
          1.2209999999999999,
          1.3219999999999998,
          1.31,
          1.218,
          1.054,
          1.014,
          1.167,
          1.321,
          1.3219999999999998,
          1.26,
          1.045,
          0.91,
          0.8809999999999999,
          0.878,
          0.871,
          0.865,
          0.867,
          0.87,
          0.934,
          0.976,
          0.995,
          1.013,
          0.985,
          0.973,
          0.981,
          0.99,
          1.006,
          1.0290000000000001,
          1.004,
          0.9670000000000001,
          0.93,
          0.882,
          0.8759999999999999,
          0.875,
          0.868,
          0.866,
          0.8440000000000001,
          0.8290000000000001,
          0.831,
          0.8420000000000001,
          0.863,
          0.882,
          0.915,
          0.948,
          0.9590000000000001,
          0.975,
          0.9620000000000001,
          0.9520000000000001,
          0.9740000000000001,
          0.987,
          1.001,
          1.008,
          1.035,
          1.073,
          1.121,
          1.173,
          1.1540000000000001,
          1.122,
          1.0979999999999999,
          1.0659999999999998,
          1.07,
          1.073,
          1.07,
          1.072,
          1.047,
          1.031,
          0.997,
          0.9540000000000001,
          0.925,
          0.8859999999999999,
          0.863,
          0.833,
          0.805,
          0.789,
          0.77,
          0.802,
          0.8420000000000001,
          0.8859999999999999,
          0.9309999999999999,
          0.938,
          0.938,
          0.932,
          0.9279999999999999,
          0.925,
          0.932,
          0.9490000000000001,
          0.9640000000000001,
          0.982,
          0.985,
          0.981,
          0.98,
          0.977,
          0.991,
          0.9940000000000001,
          0.998,
          1.013,
          1.006,
          1.013,
          1.021,
          1.014,
          1.013,
          1.006
         ]
        },
        {
         "name": "Челябинская обл.",
         "showlegend": true,
         "text": [
          null,
          null,
          null,
          null,
          null,
          null,
          null,
          null,
          null,
          null,
          null,
          null,
          null,
          1,
          4,
          4,
          8,
          10,
          2.25,
          2.25,
          1.5,
          0.9,
          1,
          1.333,
          0.5,
          1.111,
          1,
          0.5,
          1.167,
          0.3,
          0.889,
          1.333,
          1.286,
          4.667,
          1.375,
          1.625,
          1.556,
          0.929,
          1.545,
          1.923,
          2.5,
          3.154,
          2.529,
          3.6,
          4.229,
          4.878,
          5.791,
          2.667,
          1.264,
          0.96,
          0.715,
          0.667,
          1.091,
          0.979,
          1.292,
          1.525,
          1.02,
          1.059,
          0.796,
          0.939,
          1.341,
          1.663,
          1.705,
          1.162,
          1.036,
          0.798,
          0.997,
          1.323,
          1.204,
          1.337,
          1.09,
          0.949,
          0.914,
          0.867,
          0.788,
          0.668,
          0.67,
          0.761,
          1.232,
          1.987,
          2.39,
          2.408,
          1.62,
          1.108,
          0.919,
          0.788,
          0.857,
          0.945,
          1.013,
          1.152,
          1.129,
          1.112,
          1.021,
          0.906,
          0.905,
          1.01,
          1.242,
          1.338,
          1.377,
          1.228,
          1.073,
          1.12,
          1.089,
          1.238,
          1.242,
          1.148,
          1.11,
          0.855,
          0.804,
          0.777,
          0.772,
          0.855,
          0.871,
          0.883,
          0.88,
          0.902,
          0.92,
          0.965,
          1.008,
          1.015,
          1.029,
          0.994,
          0.951,
          0.96,
          0.964,
          0.987,
          1.03,
          1.022,
          1.016,
          1.006,
          1.012,
          1.012,
          1.012,
          1.015,
          0.973,
          0.964,
          0.962,
          0.958,
          0.988,
          1.002,
          0.98,
          0.962,
          0.929,
          0.896,
          0.893,
          0.889,
          0.9,
          0.895,
          0.878,
          0.861,
          0.854,
          0.867,
          0.897,
          0.943,
          0.939,
          0.955,
          0.94,
          0.911,
          0.894,
          0.864
         ],
         "textposition": "inside",
         "type": "bar",
         "x": [
          "2020-03-12",
          "2020-03-13",
          "2020-03-14",
          "2020-03-15",
          "2020-03-16",
          "2020-03-17",
          "2020-03-18",
          "2020-03-19",
          "2020-03-20",
          "2020-03-21",
          "2020-03-22",
          "2020-03-23",
          "2020-03-24",
          "2020-03-25",
          "2020-03-26",
          "2020-03-27",
          "2020-03-28",
          "2020-03-29",
          "2020-03-30",
          "2020-03-31",
          "2020-04-01",
          "2020-04-02",
          "2020-04-03",
          "2020-04-04",
          "2020-04-05",
          "2020-04-06",
          "2020-04-07",
          "2020-04-08",
          "2020-04-09",
          "2020-04-10",
          "2020-04-11",
          "2020-04-12",
          "2020-04-13",
          "2020-04-14",
          "2020-04-15",
          "2020-04-16",
          "2020-04-17",
          "2020-04-18",
          "2020-04-19",
          "2020-04-20",
          "2020-04-21",
          "2020-04-22",
          "2020-04-23",
          "2020-04-24",
          "2020-04-25",
          "2020-04-26",
          "2020-04-27",
          "2020-04-28",
          "2020-04-29",
          "2020-04-30",
          "2020-05-01",
          "2020-05-02",
          "2020-05-03",
          "2020-05-04",
          "2020-05-05",
          "2020-05-06",
          "2020-05-07",
          "2020-05-08",
          "2020-05-09",
          "2020-05-10",
          "2020-05-11",
          "2020-05-12",
          "2020-05-13",
          "2020-05-14",
          "2020-05-15",
          "2020-05-16",
          "2020-05-17",
          "2020-05-18",
          "2020-05-19",
          "2020-05-20",
          "2020-05-21",
          "2020-05-22",
          "2020-05-23",
          "2020-05-24",
          "2020-05-25",
          "2020-05-26",
          "2020-05-27",
          "2020-05-28",
          "2020-05-29",
          "2020-05-30",
          "2020-05-31",
          "2020-06-01",
          "2020-06-02",
          "2020-06-03",
          "2020-06-04",
          "2020-06-05",
          "2020-06-06",
          "2020-06-07",
          "2020-06-08",
          "2020-06-09",
          "2020-06-10",
          "2020-06-11",
          "2020-06-12",
          "2020-06-13",
          "2020-06-14",
          "2020-06-15",
          "2020-06-16",
          "2020-06-17",
          "2020-06-18",
          "2020-06-19",
          "2020-06-20",
          "2020-06-21",
          "2020-06-22",
          "2020-06-23",
          "2020-06-24",
          "2020-06-25",
          "2020-06-26",
          "2020-06-27",
          "2020-06-28",
          "2020-06-29",
          "2020-06-30",
          "2020-07-01",
          "2020-07-02",
          "2020-07-03",
          "2020-07-04",
          "2020-07-05",
          "2020-07-06",
          "2020-07-07",
          "2020-07-08",
          "2020-07-09",
          "2020-07-10",
          "2020-07-11",
          "2020-07-12",
          "2020-07-13",
          "2020-07-14",
          "2020-07-15",
          "2020-07-16",
          "2020-07-17",
          "2020-07-18",
          "2020-07-19",
          "2020-07-20",
          "2020-07-21",
          "2020-07-22",
          "2020-07-23",
          "2020-07-24",
          "2020-07-25",
          "2020-07-26",
          "2020-07-27",
          "2020-07-28",
          "2020-07-29",
          "2020-07-30",
          "2020-07-31",
          "2020-08-01",
          "2020-08-02",
          "2020-08-03",
          "2020-08-04",
          "2020-08-05",
          "2020-08-06",
          "2020-08-07",
          "2020-08-08",
          "2020-08-09",
          "2020-08-10",
          "2020-08-11",
          "2020-08-12",
          "2020-08-13",
          "2020-08-14",
          "2020-08-15",
          "2020-08-16",
          "2020-08-17",
          "2020-08-18"
         ],
         "y": [
          null,
          null,
          null,
          null,
          null,
          null,
          null,
          null,
          null,
          null,
          null,
          null,
          null,
          1,
          4,
          4,
          8,
          10,
          2.25,
          2.25,
          1.5,
          0.9,
          1,
          1.3330000000000002,
          0.5,
          1.111,
          1,
          0.5,
          1.167,
          0.3,
          0.889,
          1.3330000000000002,
          1.286,
          4.667,
          1.375,
          1.625,
          1.556,
          0.929,
          1.545,
          1.923,
          2.5,
          3.154,
          2.529,
          3.6,
          4.229,
          4.878,
          5.791,
          2.667,
          1.264,
          0.96,
          0.715,
          0.667,
          1.091,
          0.9790000000000001,
          1.2919999999999998,
          1.525,
          1.02,
          1.0590000000000002,
          0.7959999999999999,
          0.9390000000000001,
          1.341,
          1.663,
          1.705,
          1.162,
          1.036,
          0.7979999999999999,
          0.997,
          1.3230000000000002,
          1.204,
          1.337,
          1.09,
          0.9490000000000001,
          0.914,
          0.867,
          0.7879999999999999,
          0.6679999999999999,
          0.67,
          0.7609999999999999,
          1.232,
          1.9869999999999999,
          2.39,
          2.408,
          1.62,
          1.1079999999999999,
          0.919,
          0.7879999999999999,
          0.857,
          0.945,
          1.013,
          1.1520000000000001,
          1.129,
          1.112,
          1.021,
          0.9059999999999999,
          0.905,
          1.01,
          1.242,
          1.338,
          1.3769999999999998,
          1.228,
          1.073,
          1.12,
          1.089,
          1.238,
          1.242,
          1.148,
          1.11,
          0.855,
          0.804,
          0.777,
          0.772,
          0.855,
          0.871,
          0.883,
          0.88,
          0.902,
          0.92,
          0.965,
          1.008,
          1.015,
          1.0290000000000001,
          0.9940000000000001,
          0.951,
          0.96,
          0.9640000000000001,
          0.987,
          1.03,
          1.022,
          1.016,
          1.006,
          1.012,
          1.012,
          1.012,
          1.015,
          0.973,
          0.9640000000000001,
          0.9620000000000001,
          0.958,
          0.988,
          1.002,
          0.98,
          0.9620000000000001,
          0.929,
          0.8959999999999999,
          0.893,
          0.889,
          0.9,
          0.895,
          0.878,
          0.861,
          0.8540000000000001,
          0.867,
          0.897,
          0.943,
          0.9390000000000001,
          0.955,
          0.94,
          0.9109999999999999,
          0.894,
          0.8640000000000001
         ]
        },
        {
         "marker": {
          "color": "green"
         },
         "name": "Свердловская обл.",
         "showlegend": true,
         "text": [
          null,
          null,
          null,
          null,
          null,
          null,
          null,
          null,
          null,
          8,
          8,
          0.5,
          1.167,
          0.5,
          1.375,
          3.667,
          1.571,
          2.75,
          0.364,
          1.182,
          0.818,
          1.273,
          3.75,
          0.538,
          0.778,
          0.429,
          0.8,
          2.286,
          2.714,
          2.833,
          1.917,
          1.375,
          1.368,
          1.882,
          1.348,
          1.5,
          1.154,
          1.031,
          1.161,
          1.152,
          3.933,
          3.545,
          3.611,
          4.079,
          0.881,
          1.299,
          1.408,
          1.516,
          2.808,
          2.026,
          2.628,
          2.03,
          1.582,
          1.432,
          0.711,
          0.706,
          0.732,
          0.998,
          1.251,
          1.457,
          1.547,
          1.316,
          1.386,
          1.055,
          0.983,
          0.705,
          0.73,
          0.963,
          1.037,
          1.38,
          1.333,
          1.166,
          1.154,
          1.012,
          1.17,
          1.284,
          1.319,
          1.735,
          1.393,
          1.331,
          1.263,
          1.051,
          1.171,
          1.204,
          1.201,
          1.153,
          1.049,
          0.867,
          0.804,
          0.818,
          0.879,
          1.047,
          1.171,
          1.185,
          1.114,
          0.968,
          0.832,
          0.814,
          0.815,
          0.896,
          0.972,
          0.969,
          0.957,
          0.859,
          0.819,
          0.821,
          0.848,
          0.965,
          1.056,
          1.106,
          1.223,
          1.221,
          1.198,
          1.181,
          1.066,
          1.031,
          1.063,
          1.048,
          1.051,
          1.051,
          1.009,
          1.062,
          1.09,
          1.023,
          0.989,
          0.925,
          0.962,
          1.093,
          1.139,
          1.14,
          0.967,
          0.833,
          0.802,
          0.818,
          0.922,
          1.018,
          1.052,
          1.051,
          0.995,
          0.942,
          0.909,
          0.864,
          0.892,
          0.893,
          0.898,
          0.909,
          0.892,
          0.898,
          0.9,
          0.927,
          0.956,
          0.972,
          0.977,
          0.967,
          0.932,
          0.903,
          0.904,
          0.894,
          0.892,
          0.919
         ],
         "textposition": "inside",
         "type": "bar",
         "x": [
          "2020-03-12",
          "2020-03-13",
          "2020-03-14",
          "2020-03-15",
          "2020-03-16",
          "2020-03-17",
          "2020-03-18",
          "2020-03-19",
          "2020-03-20",
          "2020-03-21",
          "2020-03-22",
          "2020-03-23",
          "2020-03-24",
          "2020-03-25",
          "2020-03-26",
          "2020-03-27",
          "2020-03-28",
          "2020-03-29",
          "2020-03-30",
          "2020-03-31",
          "2020-04-01",
          "2020-04-02",
          "2020-04-03",
          "2020-04-04",
          "2020-04-05",
          "2020-04-06",
          "2020-04-07",
          "2020-04-08",
          "2020-04-09",
          "2020-04-10",
          "2020-04-11",
          "2020-04-12",
          "2020-04-13",
          "2020-04-14",
          "2020-04-15",
          "2020-04-16",
          "2020-04-17",
          "2020-04-18",
          "2020-04-19",
          "2020-04-20",
          "2020-04-21",
          "2020-04-22",
          "2020-04-23",
          "2020-04-24",
          "2020-04-25",
          "2020-04-26",
          "2020-04-27",
          "2020-04-28",
          "2020-04-29",
          "2020-04-30",
          "2020-05-01",
          "2020-05-02",
          "2020-05-03",
          "2020-05-04",
          "2020-05-05",
          "2020-05-06",
          "2020-05-07",
          "2020-05-08",
          "2020-05-09",
          "2020-05-10",
          "2020-05-11",
          "2020-05-12",
          "2020-05-13",
          "2020-05-14",
          "2020-05-15",
          "2020-05-16",
          "2020-05-17",
          "2020-05-18",
          "2020-05-19",
          "2020-05-20",
          "2020-05-21",
          "2020-05-22",
          "2020-05-23",
          "2020-05-24",
          "2020-05-25",
          "2020-05-26",
          "2020-05-27",
          "2020-05-28",
          "2020-05-29",
          "2020-05-30",
          "2020-05-31",
          "2020-06-01",
          "2020-06-02",
          "2020-06-03",
          "2020-06-04",
          "2020-06-05",
          "2020-06-06",
          "2020-06-07",
          "2020-06-08",
          "2020-06-09",
          "2020-06-10",
          "2020-06-11",
          "2020-06-12",
          "2020-06-13",
          "2020-06-14",
          "2020-06-15",
          "2020-06-16",
          "2020-06-17",
          "2020-06-18",
          "2020-06-19",
          "2020-06-20",
          "2020-06-21",
          "2020-06-22",
          "2020-06-23",
          "2020-06-24",
          "2020-06-25",
          "2020-06-26",
          "2020-06-27",
          "2020-06-28",
          "2020-06-29",
          "2020-06-30",
          "2020-07-01",
          "2020-07-02",
          "2020-07-03",
          "2020-07-04",
          "2020-07-05",
          "2020-07-06",
          "2020-07-07",
          "2020-07-08",
          "2020-07-09",
          "2020-07-10",
          "2020-07-11",
          "2020-07-12",
          "2020-07-13",
          "2020-07-14",
          "2020-07-15",
          "2020-07-16",
          "2020-07-17",
          "2020-07-18",
          "2020-07-19",
          "2020-07-20",
          "2020-07-21",
          "2020-07-22",
          "2020-07-23",
          "2020-07-24",
          "2020-07-25",
          "2020-07-26",
          "2020-07-27",
          "2020-07-28",
          "2020-07-29",
          "2020-07-30",
          "2020-07-31",
          "2020-08-01",
          "2020-08-02",
          "2020-08-03",
          "2020-08-04",
          "2020-08-05",
          "2020-08-06",
          "2020-08-07",
          "2020-08-08",
          "2020-08-09",
          "2020-08-10",
          "2020-08-11",
          "2020-08-12",
          "2020-08-13",
          "2020-08-14",
          "2020-08-15",
          "2020-08-16",
          "2020-08-17",
          "2020-08-18"
         ],
         "y": [
          null,
          null,
          null,
          null,
          null,
          null,
          null,
          null,
          null,
          8,
          8,
          0.5,
          1.167,
          0.5,
          1.375,
          3.667,
          1.571,
          2.75,
          0.364,
          1.182,
          0.818,
          1.273,
          3.75,
          0.5379999999999999,
          0.778,
          0.429,
          0.8,
          2.286,
          2.714,
          2.833,
          1.9169999999999998,
          1.375,
          1.368,
          1.882,
          1.348,
          1.5,
          1.1540000000000001,
          1.031,
          1.161,
          1.1520000000000001,
          3.9330000000000003,
          3.545,
          3.611,
          4.079,
          0.8809999999999999,
          1.2990000000000002,
          1.4080000000000001,
          1.516,
          2.8080000000000003,
          2.026,
          2.628,
          2.03,
          1.5819999999999999,
          1.432,
          0.711,
          0.706,
          0.732,
          0.998,
          1.251,
          1.4569999999999999,
          1.547,
          1.3159999999999998,
          1.386,
          1.055,
          0.983,
          0.705,
          0.73,
          0.963,
          1.037,
          1.38,
          1.3330000000000002,
          1.166,
          1.1540000000000001,
          1.012,
          1.17,
          1.284,
          1.319,
          1.735,
          1.393,
          1.331,
          1.263,
          1.051,
          1.171,
          1.204,
          1.2009999999999998,
          1.153,
          1.0490000000000002,
          0.867,
          0.804,
          0.818,
          0.879,
          1.047,
          1.171,
          1.185,
          1.114,
          0.968,
          0.8320000000000001,
          0.8140000000000001,
          0.815,
          0.8959999999999999,
          0.972,
          0.9690000000000001,
          0.9570000000000001,
          0.8590000000000001,
          0.8190000000000001,
          0.821,
          0.848,
          0.965,
          1.056,
          1.1059999999999999,
          1.2229999999999999,
          1.2209999999999999,
          1.198,
          1.181,
          1.0659999999999998,
          1.031,
          1.063,
          1.048,
          1.051,
          1.051,
          1.0090000000000001,
          1.062,
          1.09,
          1.023,
          0.9890000000000001,
          0.925,
          0.9620000000000001,
          1.093,
          1.139,
          1.14,
          0.9670000000000001,
          0.833,
          0.802,
          0.818,
          0.922,
          1.018,
          1.052,
          1.051,
          0.995,
          0.9420000000000001,
          0.909,
          0.8640000000000001,
          0.892,
          0.893,
          0.898,
          0.909,
          0.892,
          0.898,
          0.9,
          0.927,
          0.956,
          0.972,
          0.977,
          0.9670000000000001,
          0.932,
          0.903,
          0.904,
          0.894,
          0.892,
          0.919
         ]
        },
        {
         "name": "Саратовская обл.",
         "showlegend": true,
         "text": [
          null,
          null,
          null,
          null,
          null,
          null,
          null,
          null,
          null,
          null,
          null,
          0,
          0,
          0,
          0,
          null,
          null,
          null,
          null,
          null,
          13,
          13,
          5,
          5,
          0.308,
          0.308,
          0.4,
          0.467,
          2.75,
          3.75,
          1.667,
          2.286,
          1.273,
          1,
          2.1,
          1.75,
          3.071,
          3.267,
          2.762,
          2.571,
          1.884,
          1.878,
          1.983,
          1.431,
          1.198,
          1.25,
          0.852,
          1.107,
          1.309,
          1.157,
          1.633,
          1.544,
          1.52,
          1.662,
          1.562,
          1.705,
          1.508,
          1.317,
          1.08,
          0.803,
          1.003,
          0.969,
          1.148,
          1.398,
          1.226,
          1.422,
          1.41,
          1.359,
          1.268,
          1.095,
          0.881,
          0.769,
          0.751,
          0.788,
          0.979,
          1.017,
          0.962,
          0.948,
          0.859,
          0.992,
          1.308,
          1.305,
          1.324,
          1.203,
          0.883,
          0.886,
          0.89,
          0.937,
          1.169,
          1.219,
          1.259,
          1.208,
          1.043,
          1.006,
          0.985,
          1.01,
          1.071,
          1.08,
          1.044,
          0.99,
          0.966,
          0.932,
          0.931,
          0.94,
          0.935,
          0.944,
          0.957,
          0.978,
          0.991,
          1,
          1,
          0.971,
          0.948,
          0.932,
          0.907,
          0.916,
          0.94,
          0.944,
          0.968,
          0.972,
          0.954,
          0.959,
          0.953,
          0.948,
          0.968,
          0.981,
          1,
          1.027,
          1.033,
          1.044,
          1.03,
          1.016,
          1,
          0.982,
          0.989,
          1,
          1.019,
          1.024,
          1.027,
          1.016,
          1.01,
          1.018,
          1.013,
          1.005,
          0.987,
          0.967,
          0.962,
          0.956,
          0.969,
          0.987,
          0.997,
          1.024,
          1.024,
          1.021,
          1.013,
          0.997,
          1.005,
          1.008,
          1.013,
          1.026
         ],
         "textposition": "inside",
         "type": "bar",
         "x": [
          "2020-03-12",
          "2020-03-13",
          "2020-03-14",
          "2020-03-15",
          "2020-03-16",
          "2020-03-17",
          "2020-03-18",
          "2020-03-19",
          "2020-03-20",
          "2020-03-21",
          "2020-03-22",
          "2020-03-23",
          "2020-03-24",
          "2020-03-25",
          "2020-03-26",
          "2020-03-27",
          "2020-03-28",
          "2020-03-29",
          "2020-03-30",
          "2020-03-31",
          "2020-04-01",
          "2020-04-02",
          "2020-04-03",
          "2020-04-04",
          "2020-04-05",
          "2020-04-06",
          "2020-04-07",
          "2020-04-08",
          "2020-04-09",
          "2020-04-10",
          "2020-04-11",
          "2020-04-12",
          "2020-04-13",
          "2020-04-14",
          "2020-04-15",
          "2020-04-16",
          "2020-04-17",
          "2020-04-18",
          "2020-04-19",
          "2020-04-20",
          "2020-04-21",
          "2020-04-22",
          "2020-04-23",
          "2020-04-24",
          "2020-04-25",
          "2020-04-26",
          "2020-04-27",
          "2020-04-28",
          "2020-04-29",
          "2020-04-30",
          "2020-05-01",
          "2020-05-02",
          "2020-05-03",
          "2020-05-04",
          "2020-05-05",
          "2020-05-06",
          "2020-05-07",
          "2020-05-08",
          "2020-05-09",
          "2020-05-10",
          "2020-05-11",
          "2020-05-12",
          "2020-05-13",
          "2020-05-14",
          "2020-05-15",
          "2020-05-16",
          "2020-05-17",
          "2020-05-18",
          "2020-05-19",
          "2020-05-20",
          "2020-05-21",
          "2020-05-22",
          "2020-05-23",
          "2020-05-24",
          "2020-05-25",
          "2020-05-26",
          "2020-05-27",
          "2020-05-28",
          "2020-05-29",
          "2020-05-30",
          "2020-05-31",
          "2020-06-01",
          "2020-06-02",
          "2020-06-03",
          "2020-06-04",
          "2020-06-05",
          "2020-06-06",
          "2020-06-07",
          "2020-06-08",
          "2020-06-09",
          "2020-06-10",
          "2020-06-11",
          "2020-06-12",
          "2020-06-13",
          "2020-06-14",
          "2020-06-15",
          "2020-06-16",
          "2020-06-17",
          "2020-06-18",
          "2020-06-19",
          "2020-06-20",
          "2020-06-21",
          "2020-06-22",
          "2020-06-23",
          "2020-06-24",
          "2020-06-25",
          "2020-06-26",
          "2020-06-27",
          "2020-06-28",
          "2020-06-29",
          "2020-06-30",
          "2020-07-01",
          "2020-07-02",
          "2020-07-03",
          "2020-07-04",
          "2020-07-05",
          "2020-07-06",
          "2020-07-07",
          "2020-07-08",
          "2020-07-09",
          "2020-07-10",
          "2020-07-11",
          "2020-07-12",
          "2020-07-13",
          "2020-07-14",
          "2020-07-15",
          "2020-07-16",
          "2020-07-17",
          "2020-07-18",
          "2020-07-19",
          "2020-07-20",
          "2020-07-21",
          "2020-07-22",
          "2020-07-23",
          "2020-07-24",
          "2020-07-25",
          "2020-07-26",
          "2020-07-27",
          "2020-07-28",
          "2020-07-29",
          "2020-07-30",
          "2020-07-31",
          "2020-08-01",
          "2020-08-02",
          "2020-08-03",
          "2020-08-04",
          "2020-08-05",
          "2020-08-06",
          "2020-08-07",
          "2020-08-08",
          "2020-08-09",
          "2020-08-10",
          "2020-08-11",
          "2020-08-12",
          "2020-08-13",
          "2020-08-14",
          "2020-08-15",
          "2020-08-16",
          "2020-08-17",
          "2020-08-18"
         ],
         "y": [
          null,
          null,
          null,
          null,
          null,
          null,
          null,
          null,
          null,
          null,
          null,
          0,
          0,
          0,
          0,
          null,
          null,
          null,
          null,
          null,
          13,
          13,
          5,
          5,
          0.308,
          0.308,
          0.4,
          0.467,
          2.75,
          3.75,
          1.6669999999999998,
          2.286,
          1.273,
          1,
          2.1,
          1.75,
          3.071,
          3.267,
          2.762,
          2.571,
          1.8840000000000001,
          1.8780000000000001,
          1.983,
          1.431,
          1.198,
          1.25,
          0.852,
          1.107,
          1.3090000000000002,
          1.157,
          1.633,
          1.544,
          1.52,
          1.662,
          1.5619999999999998,
          1.705,
          1.508,
          1.317,
          1.08,
          0.8029999999999999,
          1.003,
          0.9690000000000001,
          1.148,
          1.3980000000000001,
          1.226,
          1.422,
          1.41,
          1.359,
          1.268,
          1.095,
          0.8809999999999999,
          0.769,
          0.7509999999999999,
          0.7879999999999999,
          0.9790000000000001,
          1.0170000000000001,
          0.9620000000000001,
          0.948,
          0.8590000000000001,
          0.992,
          1.308,
          1.305,
          1.324,
          1.203,
          0.883,
          0.8859999999999999,
          0.89,
          0.937,
          1.169,
          1.219,
          1.2590000000000001,
          1.208,
          1.043,
          1.006,
          0.985,
          1.01,
          1.071,
          1.08,
          1.044,
          0.99,
          0.966,
          0.932,
          0.9309999999999999,
          0.94,
          0.935,
          0.9440000000000001,
          0.9570000000000001,
          0.978,
          0.991,
          1,
          1,
          0.971,
          0.948,
          0.932,
          0.907,
          0.9159999999999999,
          0.94,
          0.9440000000000001,
          0.968,
          0.972,
          0.9540000000000001,
          0.9590000000000001,
          0.953,
          0.948,
          0.968,
          0.981,
          1,
          1.0270000000000001,
          1.033,
          1.044,
          1.03,
          1.016,
          1,
          0.982,
          0.9890000000000001,
          1,
          1.0190000000000001,
          1.024,
          1.0270000000000001,
          1.016,
          1.01,
          1.018,
          1.013,
          1.005,
          0.987,
          0.9670000000000001,
          0.9620000000000001,
          0.956,
          0.9690000000000001,
          0.987,
          0.997,
          1.024,
          1.024,
          1.021,
          1.013,
          0.997,
          1.005,
          1.008,
          1.013,
          1.026
         ]
        },
        {
         "name": "Иркутская обл.",
         "showlegend": true,
         "text": [
          null,
          null,
          null,
          null,
          null,
          null,
          null,
          null,
          null,
          null,
          null,
          null,
          null,
          null,
          null,
          null,
          null,
          null,
          null,
          null,
          null,
          6,
          3,
          1.667,
          1.667,
          0.667,
          1,
          1.2,
          1.8,
          2.5,
          1.5,
          2.333,
          2,
          1.8,
          1.778,
          1.214,
          0.667,
          0.833,
          1,
          1.176,
          1.75,
          1.4,
          1.25,
          0.75,
          0.81,
          0.571,
          0.6,
          1,
          0.941,
          1.5,
          3,
          2.333,
          3.062,
          4,
          2.139,
          2.886,
          1.776,
          1.083,
          0.922,
          0.574,
          0.874,
          1,
          1.155,
          1.552,
          2.118,
          2.128,
          2.11,
          2.467,
          1.391,
          1.488,
          1.468,
          1.18,
          1.161,
          1.344,
          1.63,
          1.691,
          1.608,
          1.084,
          0.734,
          0.799,
          0.895,
          1.503,
          2.273,
          1.833,
          1.864,
          1.041,
          0.614,
          0.744,
          0.617,
          0.961,
          1.538,
          1.476,
          1.812,
          1.36,
          1.17,
          0.912,
          1.05,
          1.133,
          0.993,
          1.223,
          0.818,
          0.817,
          0.979,
          0.976,
          1.16,
          1.166,
          1.092,
          1.094,
          1.144,
          1.152,
          1.169,
          1.128,
          1.091,
          1.073,
          1.03,
          1.01,
          0.995,
          0.978,
          0.99,
          0.999,
          0.974,
          0.938,
          0.901,
          0.857,
          0.869,
          0.889,
          0.906,
          0.937,
          0.94,
          0.952,
          0.945,
          0.942,
          0.931,
          0.925,
          0.938,
          0.93,
          0.941,
          0.938,
          0.934,
          0.95,
          0.943,
          0.921,
          0.91,
          0.892,
          0.897,
          0.929,
          0.936,
          0.936,
          0.931,
          0.905,
          0.901,
          0.911,
          0.917,
          0.949,
          0.956,
          0.951,
          0.94,
          0.938,
          0.952,
          0.968
         ],
         "textposition": "inside",
         "type": "bar",
         "x": [
          "2020-03-12",
          "2020-03-13",
          "2020-03-14",
          "2020-03-15",
          "2020-03-16",
          "2020-03-17",
          "2020-03-18",
          "2020-03-19",
          "2020-03-20",
          "2020-03-21",
          "2020-03-22",
          "2020-03-23",
          "2020-03-24",
          "2020-03-25",
          "2020-03-26",
          "2020-03-27",
          "2020-03-28",
          "2020-03-29",
          "2020-03-30",
          "2020-03-31",
          "2020-04-01",
          "2020-04-02",
          "2020-04-03",
          "2020-04-04",
          "2020-04-05",
          "2020-04-06",
          "2020-04-07",
          "2020-04-08",
          "2020-04-09",
          "2020-04-10",
          "2020-04-11",
          "2020-04-12",
          "2020-04-13",
          "2020-04-14",
          "2020-04-15",
          "2020-04-16",
          "2020-04-17",
          "2020-04-18",
          "2020-04-19",
          "2020-04-20",
          "2020-04-21",
          "2020-04-22",
          "2020-04-23",
          "2020-04-24",
          "2020-04-25",
          "2020-04-26",
          "2020-04-27",
          "2020-04-28",
          "2020-04-29",
          "2020-04-30",
          "2020-05-01",
          "2020-05-02",
          "2020-05-03",
          "2020-05-04",
          "2020-05-05",
          "2020-05-06",
          "2020-05-07",
          "2020-05-08",
          "2020-05-09",
          "2020-05-10",
          "2020-05-11",
          "2020-05-12",
          "2020-05-13",
          "2020-05-14",
          "2020-05-15",
          "2020-05-16",
          "2020-05-17",
          "2020-05-18",
          "2020-05-19",
          "2020-05-20",
          "2020-05-21",
          "2020-05-22",
          "2020-05-23",
          "2020-05-24",
          "2020-05-25",
          "2020-05-26",
          "2020-05-27",
          "2020-05-28",
          "2020-05-29",
          "2020-05-30",
          "2020-05-31",
          "2020-06-01",
          "2020-06-02",
          "2020-06-03",
          "2020-06-04",
          "2020-06-05",
          "2020-06-06",
          "2020-06-07",
          "2020-06-08",
          "2020-06-09",
          "2020-06-10",
          "2020-06-11",
          "2020-06-12",
          "2020-06-13",
          "2020-06-14",
          "2020-06-15",
          "2020-06-16",
          "2020-06-17",
          "2020-06-18",
          "2020-06-19",
          "2020-06-20",
          "2020-06-21",
          "2020-06-22",
          "2020-06-23",
          "2020-06-24",
          "2020-06-25",
          "2020-06-26",
          "2020-06-27",
          "2020-06-28",
          "2020-06-29",
          "2020-06-30",
          "2020-07-01",
          "2020-07-02",
          "2020-07-03",
          "2020-07-04",
          "2020-07-05",
          "2020-07-06",
          "2020-07-07",
          "2020-07-08",
          "2020-07-09",
          "2020-07-10",
          "2020-07-11",
          "2020-07-12",
          "2020-07-13",
          "2020-07-14",
          "2020-07-15",
          "2020-07-16",
          "2020-07-17",
          "2020-07-18",
          "2020-07-19",
          "2020-07-20",
          "2020-07-21",
          "2020-07-22",
          "2020-07-23",
          "2020-07-24",
          "2020-07-25",
          "2020-07-26",
          "2020-07-27",
          "2020-07-28",
          "2020-07-29",
          "2020-07-30",
          "2020-07-31",
          "2020-08-01",
          "2020-08-02",
          "2020-08-03",
          "2020-08-04",
          "2020-08-05",
          "2020-08-06",
          "2020-08-07",
          "2020-08-08",
          "2020-08-09",
          "2020-08-10",
          "2020-08-11",
          "2020-08-12",
          "2020-08-13",
          "2020-08-14",
          "2020-08-15",
          "2020-08-16",
          "2020-08-17",
          "2020-08-18"
         ],
         "y": [
          null,
          null,
          null,
          null,
          null,
          null,
          null,
          null,
          null,
          null,
          null,
          null,
          null,
          null,
          null,
          null,
          null,
          null,
          null,
          null,
          null,
          6,
          3,
          1.6669999999999998,
          1.6669999999999998,
          0.667,
          1,
          1.2,
          1.8,
          2.5,
          1.5,
          2.333,
          2,
          1.8,
          1.778,
          1.214,
          0.667,
          0.833,
          1,
          1.176,
          1.75,
          1.4,
          1.25,
          0.75,
          0.81,
          0.5710000000000001,
          0.6,
          1,
          0.941,
          1.5,
          3,
          2.333,
          3.062,
          4,
          2.1390000000000002,
          2.886,
          1.776,
          1.083,
          0.922,
          0.574,
          0.8740000000000001,
          1,
          1.155,
          1.5519999999999998,
          2.1180000000000003,
          2.128,
          2.11,
          2.467,
          1.391,
          1.4880000000000002,
          1.4680000000000002,
          1.18,
          1.161,
          1.344,
          1.63,
          1.6909999999999998,
          1.608,
          1.084,
          0.7340000000000001,
          0.799,
          0.895,
          1.5030000000000001,
          2.273,
          1.8330000000000002,
          1.864,
          1.041,
          0.614,
          0.7440000000000001,
          0.617,
          0.961,
          1.538,
          1.476,
          1.8119999999999998,
          1.36,
          1.17,
          0.912,
          1.05,
          1.133,
          0.993,
          1.2229999999999999,
          0.818,
          0.8170000000000001,
          0.9790000000000001,
          0.976,
          1.16,
          1.166,
          1.092,
          1.094,
          1.1440000000000001,
          1.1520000000000001,
          1.169,
          1.128,
          1.091,
          1.073,
          1.03,
          1.01,
          0.995,
          0.978,
          0.99,
          0.9990000000000001,
          0.9740000000000001,
          0.938,
          0.9009999999999999,
          0.857,
          0.8690000000000001,
          0.889,
          0.9059999999999999,
          0.937,
          0.94,
          0.9520000000000001,
          0.945,
          0.9420000000000001,
          0.9309999999999999,
          0.925,
          0.938,
          0.93,
          0.941,
          0.938,
          0.934,
          0.95,
          0.943,
          0.9209999999999999,
          0.91,
          0.892,
          0.897,
          0.929,
          0.9359999999999999,
          0.9359999999999999,
          0.9309999999999999,
          0.905,
          0.9009999999999999,
          0.9109999999999999,
          0.917,
          0.9490000000000001,
          0.956,
          0.951,
          0.94,
          0.938,
          0.9520000000000001,
          0.968
         ]
        },
        {
         "name": "Волгоградская обл.",
         "showlegend": true,
         "text": [
          null,
          null,
          null,
          null,
          null,
          null,
          null,
          null,
          null,
          null,
          null,
          null,
          null,
          null,
          null,
          null,
          3,
          3,
          3,
          0,
          1.333,
          1.333,
          1.333,
          null,
          0,
          1.75,
          4.5,
          4.5,
          null,
          1.857,
          0.389,
          0.667,
          1,
          1.385,
          2,
          1.667,
          1,
          1.833,
          3.286,
          2.65,
          4,
          2,
          1.565,
          1.415,
          1.083,
          1.47,
          1.486,
          1.48,
          1.295,
          1.052,
          1.065,
          1.216,
          1.594,
          1.686,
          1.684,
          1.593,
          1.472,
          1.599,
          1.641,
          1.698,
          1.477,
          1.251,
          1.162,
          0.94,
          1.097,
          1.151,
          0.921,
          0.892,
          0.786,
          0.758,
          0.941,
          1.114,
          1.199,
          1.253,
          1.208,
          1.12,
          0.997,
          0.995,
          1.091,
          1.267,
          1.54,
          1.695,
          1.483,
          1.165,
          0.926,
          0.716,
          0.742,
          0.853,
          0.95,
          0.998,
          0.965,
          0.9,
          0.879,
          0.987,
          0.989,
          1.009,
          0.993,
          0.944,
          0.964,
          0.97,
          0.995,
          0.993,
          0.988,
          0.979,
          0.969,
          0.99,
          0.998,
          1,
          0.998,
          0.981,
          0.94,
          0.92,
          0.908,
          0.897,
          0.921,
          0.953,
          0.989,
          1.019,
          1.025,
          0.997,
          0.984,
          0.976,
          1,
          1.019,
          0.994,
          0.997,
          0.965,
          0.981,
          1.017,
          1,
          1.02,
          1.006,
          1.014,
          1.036,
          1.011,
          0.981,
          0.938,
          0.925,
          0.959,
          0.994,
          1.04,
          1.049,
          1.04,
          1.039,
          1.028,
          1.03,
          1.025,
          1.035,
          1.016,
          1,
          1.024,
          1.003,
          1.018,
          1.037,
          1,
          1.003,
          1,
          0.995,
          0.987,
          0.966
         ],
         "textposition": "inside",
         "type": "bar",
         "x": [
          "2020-03-12",
          "2020-03-13",
          "2020-03-14",
          "2020-03-15",
          "2020-03-16",
          "2020-03-17",
          "2020-03-18",
          "2020-03-19",
          "2020-03-20",
          "2020-03-21",
          "2020-03-22",
          "2020-03-23",
          "2020-03-24",
          "2020-03-25",
          "2020-03-26",
          "2020-03-27",
          "2020-03-28",
          "2020-03-29",
          "2020-03-30",
          "2020-03-31",
          "2020-04-01",
          "2020-04-02",
          "2020-04-03",
          "2020-04-04",
          "2020-04-05",
          "2020-04-06",
          "2020-04-07",
          "2020-04-08",
          "2020-04-09",
          "2020-04-10",
          "2020-04-11",
          "2020-04-12",
          "2020-04-13",
          "2020-04-14",
          "2020-04-15",
          "2020-04-16",
          "2020-04-17",
          "2020-04-18",
          "2020-04-19",
          "2020-04-20",
          "2020-04-21",
          "2020-04-22",
          "2020-04-23",
          "2020-04-24",
          "2020-04-25",
          "2020-04-26",
          "2020-04-27",
          "2020-04-28",
          "2020-04-29",
          "2020-04-30",
          "2020-05-01",
          "2020-05-02",
          "2020-05-03",
          "2020-05-04",
          "2020-05-05",
          "2020-05-06",
          "2020-05-07",
          "2020-05-08",
          "2020-05-09",
          "2020-05-10",
          "2020-05-11",
          "2020-05-12",
          "2020-05-13",
          "2020-05-14",
          "2020-05-15",
          "2020-05-16",
          "2020-05-17",
          "2020-05-18",
          "2020-05-19",
          "2020-05-20",
          "2020-05-21",
          "2020-05-22",
          "2020-05-23",
          "2020-05-24",
          "2020-05-25",
          "2020-05-26",
          "2020-05-27",
          "2020-05-28",
          "2020-05-29",
          "2020-05-30",
          "2020-05-31",
          "2020-06-01",
          "2020-06-02",
          "2020-06-03",
          "2020-06-04",
          "2020-06-05",
          "2020-06-06",
          "2020-06-07",
          "2020-06-08",
          "2020-06-09",
          "2020-06-10",
          "2020-06-11",
          "2020-06-12",
          "2020-06-13",
          "2020-06-14",
          "2020-06-15",
          "2020-06-16",
          "2020-06-17",
          "2020-06-18",
          "2020-06-19",
          "2020-06-20",
          "2020-06-21",
          "2020-06-22",
          "2020-06-23",
          "2020-06-24",
          "2020-06-25",
          "2020-06-26",
          "2020-06-27",
          "2020-06-28",
          "2020-06-29",
          "2020-06-30",
          "2020-07-01",
          "2020-07-02",
          "2020-07-03",
          "2020-07-04",
          "2020-07-05",
          "2020-07-06",
          "2020-07-07",
          "2020-07-08",
          "2020-07-09",
          "2020-07-10",
          "2020-07-11",
          "2020-07-12",
          "2020-07-13",
          "2020-07-14",
          "2020-07-15",
          "2020-07-16",
          "2020-07-17",
          "2020-07-18",
          "2020-07-19",
          "2020-07-20",
          "2020-07-21",
          "2020-07-22",
          "2020-07-23",
          "2020-07-24",
          "2020-07-25",
          "2020-07-26",
          "2020-07-27",
          "2020-07-28",
          "2020-07-29",
          "2020-07-30",
          "2020-07-31",
          "2020-08-01",
          "2020-08-02",
          "2020-08-03",
          "2020-08-04",
          "2020-08-05",
          "2020-08-06",
          "2020-08-07",
          "2020-08-08",
          "2020-08-09",
          "2020-08-10",
          "2020-08-11",
          "2020-08-12",
          "2020-08-13",
          "2020-08-14",
          "2020-08-15",
          "2020-08-16",
          "2020-08-17",
          "2020-08-18"
         ],
         "y": [
          null,
          null,
          null,
          null,
          null,
          null,
          null,
          null,
          null,
          null,
          null,
          null,
          null,
          null,
          null,
          null,
          3,
          3,
          3,
          0,
          1.3330000000000002,
          1.3330000000000002,
          1.3330000000000002,
          null,
          0,
          1.75,
          4.5,
          4.5,
          null,
          1.857,
          0.389,
          0.667,
          1,
          1.385,
          2,
          1.6669999999999998,
          1,
          1.8330000000000002,
          3.286,
          2.65,
          4,
          2,
          1.565,
          1.415,
          1.083,
          1.47,
          1.486,
          1.48,
          1.295,
          1.052,
          1.065,
          1.216,
          1.594,
          1.686,
          1.6840000000000002,
          1.5930000000000002,
          1.472,
          1.599,
          1.641,
          1.6980000000000002,
          1.4769999999999999,
          1.251,
          1.162,
          0.94,
          1.097,
          1.151,
          0.9209999999999999,
          0.892,
          0.7859999999999999,
          0.758,
          0.941,
          1.114,
          1.199,
          1.253,
          1.208,
          1.12,
          0.997,
          0.995,
          1.091,
          1.2670000000000001,
          1.54,
          1.695,
          1.483,
          1.165,
          0.9259999999999999,
          0.716,
          0.742,
          0.853,
          0.95,
          0.998,
          0.965,
          0.9,
          0.879,
          0.987,
          0.9890000000000001,
          1.0090000000000001,
          0.993,
          0.9440000000000001,
          0.9640000000000001,
          0.97,
          0.995,
          0.993,
          0.988,
          0.9790000000000001,
          0.9690000000000001,
          0.99,
          0.998,
          1,
          0.998,
          0.981,
          0.94,
          0.92,
          0.9079999999999999,
          0.897,
          0.9209999999999999,
          0.953,
          0.9890000000000001,
          1.0190000000000001,
          1.025,
          0.997,
          0.9840000000000001,
          0.976,
          1,
          1.0190000000000001,
          0.9940000000000001,
          0.997,
          0.965,
          0.981,
          1.0170000000000001,
          1,
          1.02,
          1.006,
          1.014,
          1.036,
          1.011,
          0.981,
          0.938,
          0.925,
          0.9590000000000001,
          0.9940000000000001,
          1.04,
          1.0490000000000002,
          1.04,
          1.0390000000000001,
          1.028,
          1.03,
          1.025,
          1.035,
          1.016,
          1,
          1.024,
          1.003,
          1.018,
          1.037,
          1,
          1.003,
          1,
          0.995,
          0.987,
          0.966
         ]
        },
        {
         "name": "Ставропольский край",
         "showlegend": true,
         "text": [
          null,
          null,
          null,
          null,
          null,
          null,
          null,
          null,
          null,
          null,
          null,
          null,
          null,
          1,
          4,
          4,
          4,
          3,
          0.25,
          0.25,
          0.25,
          2,
          5,
          5,
          5,
          1.5,
          5.6,
          5.6,
          6.2,
          3.556,
          0.964,
          1.25,
          1.419,
          1.344,
          1.815,
          1.971,
          1.568,
          2.651,
          2.388,
          1.464,
          1.609,
          0.596,
          0.855,
          1.129,
          1.072,
          2.118,
          1.22,
          1.167,
          1.126,
          0.979,
          1.615,
          1.391,
          1.582,
          1.603,
          0.878,
          1.016,
          0.736,
          0.686,
          1.087,
          0.989,
          1.263,
          1.174,
          0.872,
          1.065,
          1.137,
          1.33,
          1.762,
          1.424,
          1.304,
          1.207,
          0.91,
          0.89,
          0.873,
          0.935,
          1.076,
          1.215,
          1.188,
          1.121,
          1.092,
          1.043,
          1.079,
          1.078,
          1.078,
          1.035,
          1.021,
          1.015,
          1.012,
          1.052,
          1.042,
          1.045,
          1.033,
          1,
          0.983,
          0.974,
          0.974,
          0.965,
          0.982,
          0.979,
          1.006,
          1.186,
          1.199,
          1.26,
          1.27,
          0.975,
          0.913,
          0.822,
          0.739,
          0.865,
          0.97,
          1.064,
          1.156,
          1.048,
          0.966,
          0.891,
          0.935,
          0.983,
          0.959,
          1.027,
          0.942,
          0.939,
          0.985,
          0.967,
          1.077,
          1.074,
          1.006,
          1.043,
          0.946,
          1.112,
          1.412,
          1.456,
          1.488,
          1.228,
          0.927,
          0.871,
          0.933,
          0.992,
          1.126,
          1.044,
          0.931,
          0.915,
          0.892,
          1.007,
          1.075,
          1.047,
          1.046,
          0.96,
          0.95,
          0.991,
          0.973,
          1.099,
          1.105,
          1.105,
          1.139,
          0.958,
          0.901,
          0.895,
          0.914,
          1.072,
          1.188,
          1.17
         ],
         "textposition": "inside",
         "type": "bar",
         "x": [
          "2020-03-12",
          "2020-03-13",
          "2020-03-14",
          "2020-03-15",
          "2020-03-16",
          "2020-03-17",
          "2020-03-18",
          "2020-03-19",
          "2020-03-20",
          "2020-03-21",
          "2020-03-22",
          "2020-03-23",
          "2020-03-24",
          "2020-03-25",
          "2020-03-26",
          "2020-03-27",
          "2020-03-28",
          "2020-03-29",
          "2020-03-30",
          "2020-03-31",
          "2020-04-01",
          "2020-04-02",
          "2020-04-03",
          "2020-04-04",
          "2020-04-05",
          "2020-04-06",
          "2020-04-07",
          "2020-04-08",
          "2020-04-09",
          "2020-04-10",
          "2020-04-11",
          "2020-04-12",
          "2020-04-13",
          "2020-04-14",
          "2020-04-15",
          "2020-04-16",
          "2020-04-17",
          "2020-04-18",
          "2020-04-19",
          "2020-04-20",
          "2020-04-21",
          "2020-04-22",
          "2020-04-23",
          "2020-04-24",
          "2020-04-25",
          "2020-04-26",
          "2020-04-27",
          "2020-04-28",
          "2020-04-29",
          "2020-04-30",
          "2020-05-01",
          "2020-05-02",
          "2020-05-03",
          "2020-05-04",
          "2020-05-05",
          "2020-05-06",
          "2020-05-07",
          "2020-05-08",
          "2020-05-09",
          "2020-05-10",
          "2020-05-11",
          "2020-05-12",
          "2020-05-13",
          "2020-05-14",
          "2020-05-15",
          "2020-05-16",
          "2020-05-17",
          "2020-05-18",
          "2020-05-19",
          "2020-05-20",
          "2020-05-21",
          "2020-05-22",
          "2020-05-23",
          "2020-05-24",
          "2020-05-25",
          "2020-05-26",
          "2020-05-27",
          "2020-05-28",
          "2020-05-29",
          "2020-05-30",
          "2020-05-31",
          "2020-06-01",
          "2020-06-02",
          "2020-06-03",
          "2020-06-04",
          "2020-06-05",
          "2020-06-06",
          "2020-06-07",
          "2020-06-08",
          "2020-06-09",
          "2020-06-10",
          "2020-06-11",
          "2020-06-12",
          "2020-06-13",
          "2020-06-14",
          "2020-06-15",
          "2020-06-16",
          "2020-06-17",
          "2020-06-18",
          "2020-06-19",
          "2020-06-20",
          "2020-06-21",
          "2020-06-22",
          "2020-06-23",
          "2020-06-24",
          "2020-06-25",
          "2020-06-26",
          "2020-06-27",
          "2020-06-28",
          "2020-06-29",
          "2020-06-30",
          "2020-07-01",
          "2020-07-02",
          "2020-07-03",
          "2020-07-04",
          "2020-07-05",
          "2020-07-06",
          "2020-07-07",
          "2020-07-08",
          "2020-07-09",
          "2020-07-10",
          "2020-07-11",
          "2020-07-12",
          "2020-07-13",
          "2020-07-14",
          "2020-07-15",
          "2020-07-16",
          "2020-07-17",
          "2020-07-18",
          "2020-07-19",
          "2020-07-20",
          "2020-07-21",
          "2020-07-22",
          "2020-07-23",
          "2020-07-24",
          "2020-07-25",
          "2020-07-26",
          "2020-07-27",
          "2020-07-28",
          "2020-07-29",
          "2020-07-30",
          "2020-07-31",
          "2020-08-01",
          "2020-08-02",
          "2020-08-03",
          "2020-08-04",
          "2020-08-05",
          "2020-08-06",
          "2020-08-07",
          "2020-08-08",
          "2020-08-09",
          "2020-08-10",
          "2020-08-11",
          "2020-08-12",
          "2020-08-13",
          "2020-08-14",
          "2020-08-15",
          "2020-08-16",
          "2020-08-17",
          "2020-08-18"
         ],
         "y": [
          null,
          null,
          null,
          null,
          null,
          null,
          null,
          null,
          null,
          null,
          null,
          null,
          null,
          1,
          4,
          4,
          4,
          3,
          0.25,
          0.25,
          0.25,
          2,
          5,
          5,
          5,
          1.5,
          5.6,
          5.6,
          6.2,
          3.556,
          0.9640000000000001,
          1.25,
          1.419,
          1.344,
          1.815,
          1.9709999999999999,
          1.568,
          2.6510000000000002,
          2.388,
          1.464,
          1.609,
          0.596,
          0.855,
          1.129,
          1.072,
          2.1180000000000003,
          1.22,
          1.167,
          1.126,
          0.9790000000000001,
          1.615,
          1.391,
          1.5819999999999999,
          1.6030000000000002,
          0.878,
          1.016,
          0.736,
          0.6859999999999999,
          1.087,
          0.9890000000000001,
          1.263,
          1.1740000000000002,
          0.872,
          1.065,
          1.137,
          1.33,
          1.7619999999999998,
          1.4240000000000002,
          1.304,
          1.207,
          0.91,
          0.89,
          0.873,
          0.935,
          1.0759999999999998,
          1.215,
          1.188,
          1.121,
          1.092,
          1.043,
          1.079,
          1.078,
          1.078,
          1.035,
          1.021,
          1.015,
          1.012,
          1.052,
          1.042,
          1.045,
          1.033,
          1,
          0.983,
          0.9740000000000001,
          0.9740000000000001,
          0.965,
          0.982,
          0.9790000000000001,
          1.006,
          1.186,
          1.199,
          1.26,
          1.27,
          0.975,
          0.9129999999999999,
          0.8220000000000001,
          0.7390000000000001,
          0.865,
          0.97,
          1.064,
          1.156,
          1.048,
          0.966,
          0.8909999999999999,
          0.935,
          0.983,
          0.9590000000000001,
          1.0270000000000001,
          0.9420000000000001,
          0.9390000000000001,
          0.985,
          0.9670000000000001,
          1.077,
          1.074,
          1.006,
          1.043,
          0.946,
          1.112,
          1.412,
          1.456,
          1.4880000000000002,
          1.228,
          0.927,
          0.871,
          0.9329999999999999,
          0.992,
          1.126,
          1.044,
          0.9309999999999999,
          0.915,
          0.892,
          1.0070000000000001,
          1.075,
          1.047,
          1.046,
          0.96,
          0.95,
          0.991,
          0.973,
          1.099,
          1.105,
          1.105,
          1.139,
          0.958,
          0.9009999999999999,
          0.895,
          0.914,
          1.072,
          1.188,
          1.17
         ]
        },
        {
         "name": "Ульяновская обл.",
         "showlegend": true,
         "text": [
          null,
          null,
          null,
          null,
          null,
          null,
          null,
          null,
          null,
          null,
          null,
          null,
          0,
          0,
          0,
          0,
          null,
          null,
          null,
          null,
          null,
          null,
          null,
          null,
          null,
          null,
          null,
          null,
          null,
          38,
          19.333,
          22,
          16,
          1.211,
          0.724,
          0.803,
          0.65,
          1.543,
          1.524,
          1.208,
          0.942,
          0.549,
          0.938,
          1.031,
          1.898,
          2.846,
          1.717,
          1.621,
          1.065,
          0.892,
          0.951,
          0.944,
          1.212,
          1.232,
          1.173,
          1.109,
          0.883,
          1.254,
          1.922,
          2.089,
          2.292,
          1.34,
          0.756,
          0.876,
          0.959,
          1.332,
          1.964,
          1.727,
          1.635,
          1.344,
          1.024,
          0.847,
          0.793,
          0.913,
          1.08,
          1.283,
          1.182,
          1,
          0.86,
          0.826,
          0.966,
          1.107,
          1.285,
          1.261,
          1.171,
          1.073,
          1.002,
          0.993,
          0.978,
          0.99,
          0.935,
          0.93,
          0.932,
          1.076,
          1.202,
          1.378,
          1.527,
          1.323,
          1.25,
          1.061,
          0.899,
          0.831,
          0.802,
          0.808,
          0.857,
          0.927,
          0.954,
          0.995,
          1.002,
          1,
          0.991,
          0.982,
          0.982,
          0.977,
          0.988,
          0.984,
          0.991,
          1.005,
          1.005,
          1.012,
          0.998,
          1,
          0.995,
          1.009,
          1.036,
          1.033,
          1.045,
          1.012,
          0.995,
          0.995,
          0.982,
          1.016,
          0.993,
          0.984,
          0.991,
          0.961,
          1.002,
          0.988,
          0.986,
          1,
          0.986,
          1,
          1,
          0.995,
          0.991,
          1.017,
          0.993,
          1.014,
          0.991,
          0.949,
          0.995,
          0.946,
          1.005,
          1.005,
          0.943,
          0.953,
          0.931,
          0.951,
          1.01,
          1.057
         ],
         "textposition": "inside",
         "type": "bar",
         "x": [
          "2020-03-12",
          "2020-03-13",
          "2020-03-14",
          "2020-03-15",
          "2020-03-16",
          "2020-03-17",
          "2020-03-18",
          "2020-03-19",
          "2020-03-20",
          "2020-03-21",
          "2020-03-22",
          "2020-03-23",
          "2020-03-24",
          "2020-03-25",
          "2020-03-26",
          "2020-03-27",
          "2020-03-28",
          "2020-03-29",
          "2020-03-30",
          "2020-03-31",
          "2020-04-01",
          "2020-04-02",
          "2020-04-03",
          "2020-04-04",
          "2020-04-05",
          "2020-04-06",
          "2020-04-07",
          "2020-04-08",
          "2020-04-09",
          "2020-04-10",
          "2020-04-11",
          "2020-04-12",
          "2020-04-13",
          "2020-04-14",
          "2020-04-15",
          "2020-04-16",
          "2020-04-17",
          "2020-04-18",
          "2020-04-19",
          "2020-04-20",
          "2020-04-21",
          "2020-04-22",
          "2020-04-23",
          "2020-04-24",
          "2020-04-25",
          "2020-04-26",
          "2020-04-27",
          "2020-04-28",
          "2020-04-29",
          "2020-04-30",
          "2020-05-01",
          "2020-05-02",
          "2020-05-03",
          "2020-05-04",
          "2020-05-05",
          "2020-05-06",
          "2020-05-07",
          "2020-05-08",
          "2020-05-09",
          "2020-05-10",
          "2020-05-11",
          "2020-05-12",
          "2020-05-13",
          "2020-05-14",
          "2020-05-15",
          "2020-05-16",
          "2020-05-17",
          "2020-05-18",
          "2020-05-19",
          "2020-05-20",
          "2020-05-21",
          "2020-05-22",
          "2020-05-23",
          "2020-05-24",
          "2020-05-25",
          "2020-05-26",
          "2020-05-27",
          "2020-05-28",
          "2020-05-29",
          "2020-05-30",
          "2020-05-31",
          "2020-06-01",
          "2020-06-02",
          "2020-06-03",
          "2020-06-04",
          "2020-06-05",
          "2020-06-06",
          "2020-06-07",
          "2020-06-08",
          "2020-06-09",
          "2020-06-10",
          "2020-06-11",
          "2020-06-12",
          "2020-06-13",
          "2020-06-14",
          "2020-06-15",
          "2020-06-16",
          "2020-06-17",
          "2020-06-18",
          "2020-06-19",
          "2020-06-20",
          "2020-06-21",
          "2020-06-22",
          "2020-06-23",
          "2020-06-24",
          "2020-06-25",
          "2020-06-26",
          "2020-06-27",
          "2020-06-28",
          "2020-06-29",
          "2020-06-30",
          "2020-07-01",
          "2020-07-02",
          "2020-07-03",
          "2020-07-04",
          "2020-07-05",
          "2020-07-06",
          "2020-07-07",
          "2020-07-08",
          "2020-07-09",
          "2020-07-10",
          "2020-07-11",
          "2020-07-12",
          "2020-07-13",
          "2020-07-14",
          "2020-07-15",
          "2020-07-16",
          "2020-07-17",
          "2020-07-18",
          "2020-07-19",
          "2020-07-20",
          "2020-07-21",
          "2020-07-22",
          "2020-07-23",
          "2020-07-24",
          "2020-07-25",
          "2020-07-26",
          "2020-07-27",
          "2020-07-28",
          "2020-07-29",
          "2020-07-30",
          "2020-07-31",
          "2020-08-01",
          "2020-08-02",
          "2020-08-03",
          "2020-08-04",
          "2020-08-05",
          "2020-08-06",
          "2020-08-07",
          "2020-08-08",
          "2020-08-09",
          "2020-08-10",
          "2020-08-11",
          "2020-08-12",
          "2020-08-13",
          "2020-08-14",
          "2020-08-15",
          "2020-08-16",
          "2020-08-17",
          "2020-08-18"
         ],
         "y": [
          null,
          null,
          null,
          null,
          null,
          null,
          null,
          null,
          null,
          null,
          null,
          null,
          0,
          0,
          0,
          0,
          null,
          null,
          null,
          null,
          null,
          null,
          null,
          null,
          null,
          null,
          null,
          null,
          null,
          38,
          19.333,
          22,
          16,
          1.2109999999999999,
          0.7240000000000001,
          0.8029999999999999,
          0.65,
          1.5430000000000001,
          1.524,
          1.208,
          0.9420000000000001,
          0.5489999999999999,
          0.938,
          1.031,
          1.8980000000000001,
          2.846,
          1.7169999999999999,
          1.621,
          1.065,
          0.892,
          0.951,
          0.9440000000000001,
          1.212,
          1.232,
          1.173,
          1.109,
          0.883,
          1.254,
          1.922,
          2.089,
          2.292,
          1.34,
          0.7559999999999999,
          0.8759999999999999,
          0.9590000000000001,
          1.3319999999999999,
          1.964,
          1.7269999999999999,
          1.635,
          1.344,
          1.024,
          0.847,
          0.7929999999999999,
          0.9129999999999999,
          1.08,
          1.2830000000000001,
          1.182,
          1,
          0.86,
          0.826,
          0.966,
          1.107,
          1.285,
          1.261,
          1.171,
          1.073,
          1.002,
          0.993,
          0.978,
          0.99,
          0.935,
          0.93,
          0.932,
          1.0759999999999998,
          1.202,
          1.3780000000000001,
          1.527,
          1.3230000000000002,
          1.25,
          1.061,
          0.899,
          0.831,
          0.802,
          0.8079999999999999,
          0.857,
          0.927,
          0.9540000000000001,
          0.995,
          1.002,
          1,
          0.991,
          0.982,
          0.982,
          0.977,
          0.988,
          0.9840000000000001,
          0.991,
          1.005,
          1.005,
          1.012,
          0.998,
          1,
          0.995,
          1.0090000000000001,
          1.036,
          1.033,
          1.045,
          1.012,
          0.995,
          0.995,
          0.982,
          1.016,
          0.993,
          0.9840000000000001,
          0.991,
          0.961,
          1.002,
          0.988,
          0.986,
          1,
          0.986,
          1,
          1,
          0.995,
          0.991,
          1.0170000000000001,
          0.993,
          1.014,
          0.991,
          0.9490000000000001,
          0.995,
          0.946,
          1.005,
          1.005,
          0.943,
          0.953,
          0.9309999999999999,
          0.951,
          1.01,
          1.057
         ]
        },
        {
         "marker": {
          "color": "aquamarine"
         },
         "name": "Россия",
         "showlegend": true,
         "text": [
          null,
          null,
          null,
          null,
          null,
          null,
          null,
          16,
          2.167,
          1.7,
          1.538,
          1.75,
          3,
          2.059,
          2.85,
          2.464,
          2.256,
          3.886,
          2.842,
          2.783,
          2.5,
          1.757,
          1.494,
          1.833,
          2.15,
          2.502,
          3.178,
          2.489,
          2.106,
          2.176,
          1.967,
          2.299,
          2.322,
          1.84,
          1.726,
          1.388,
          1.447,
          1.646,
          1.815,
          1.994,
          1.818,
          1.798,
          1.729,
          1.648,
          1.792,
          1.718,
          1.669,
          1.708,
          1.684,
          1.575,
          1.517,
          1.351,
          1.085,
          1.121,
          1.052,
          1.082,
          1.224,
          1.16,
          1.137,
          1.113,
          1.119,
          1.223,
          1.422,
          1.517,
          1.5,
          1.373,
          1.204,
          1.099,
          1.058,
          1.045,
          1.04,
          1.042,
          1.007,
          0.973,
          0.939,
          0.897,
          0.906,
          0.903,
          0.894,
          0.921,
          0.907,
          0.931,
          0.969,
          0.976,
          1.002,
          1.003,
          0.968,
          0.966,
          0.953,
          0.954,
          1.01,
          1.036,
          1.056,
          1.043,
          1.003,
          0.976,
          0.968,
          0.991,
          1.008,
          1.013,
          1.001,
          0.982,
          0.978,
          0.985,
          1.01,
          1,
          0.979,
          0.951,
          0.91,
          0.916,
          0.925,
          0.946,
          0.971,
          0.962,
          0.95,
          0.934,
          0.914,
          0.912,
          0.921,
          0.927,
          0.949,
          0.958,
          0.97,
          0.984,
          0.986,
          1.003,
          0.999,
          0.986,
          0.985,
          0.97,
          0.977,
          0.999,
          1.004,
          1.013,
          0.998,
          0.981,
          0.972,
          0.966,
          0.98,
          0.975,
          0.963,
          0.946,
          0.932,
          0.933,
          0.946,
          0.97,
          0.981,
          0.983,
          0.97,
          0.952,
          0.945,
          0.947,
          0.967,
          0.982,
          0.989,
          0.981,
          0.966,
          0.961,
          0.959,
          0.976,
          0.987,
          0.987,
          0.98,
          0.973,
          0.967,
          0.972,
          0.991,
          0.99,
          0.988,
          0.975
         ],
         "textposition": "inside",
         "type": "bar",
         "x": [
          "2020-03-02",
          "2020-03-03",
          "2020-03-04",
          "2020-03-05",
          "2020-03-06",
          "2020-03-07",
          "2020-03-08",
          "2020-03-09",
          "2020-03-10",
          "2020-03-11",
          "2020-03-12",
          "2020-03-13",
          "2020-03-14",
          "2020-03-15",
          "2020-03-16",
          "2020-03-17",
          "2020-03-18",
          "2020-03-19",
          "2020-03-20",
          "2020-03-21",
          "2020-03-22",
          "2020-03-23",
          "2020-03-24",
          "2020-03-25",
          "2020-03-26",
          "2020-03-27",
          "2020-03-28",
          "2020-03-29",
          "2020-03-30",
          "2020-03-31",
          "2020-04-01",
          "2020-04-02",
          "2020-04-03",
          "2020-04-04",
          "2020-04-05",
          "2020-04-06",
          "2020-04-07",
          "2020-04-08",
          "2020-04-09",
          "2020-04-10",
          "2020-04-11",
          "2020-04-12",
          "2020-04-13",
          "2020-04-14",
          "2020-04-15",
          "2020-04-16",
          "2020-04-17",
          "2020-04-18",
          "2020-04-19",
          "2020-04-20",
          "2020-04-21",
          "2020-04-22",
          "2020-04-23",
          "2020-04-24",
          "2020-04-25",
          "2020-04-26",
          "2020-04-27",
          "2020-04-28",
          "2020-04-29",
          "2020-04-30",
          "2020-05-01",
          "2020-05-02",
          "2020-05-03",
          "2020-05-04",
          "2020-05-05",
          "2020-05-06",
          "2020-05-07",
          "2020-05-08",
          "2020-05-09",
          "2020-05-10",
          "2020-05-11",
          "2020-05-12",
          "2020-05-13",
          "2020-05-14",
          "2020-05-15",
          "2020-05-16",
          "2020-05-17",
          "2020-05-18",
          "2020-05-19",
          "2020-05-20",
          "2020-05-21",
          "2020-05-22",
          "2020-05-23",
          "2020-05-24",
          "2020-05-25",
          "2020-05-26",
          "2020-05-27",
          "2020-05-28",
          "2020-05-29",
          "2020-05-30",
          "2020-05-31",
          "2020-06-01",
          "2020-06-02",
          "2020-06-03",
          "2020-06-04",
          "2020-06-05",
          "2020-06-06",
          "2020-06-07",
          "2020-06-08",
          "2020-06-09",
          "2020-06-10",
          "2020-06-11",
          "2020-06-12",
          "2020-06-13",
          "2020-06-14",
          "2020-06-15",
          "2020-06-16",
          "2020-06-17",
          "2020-06-18",
          "2020-06-19",
          "2020-06-20",
          "2020-06-21",
          "2020-06-22",
          "2020-06-23",
          "2020-06-24",
          "2020-06-25",
          "2020-06-26",
          "2020-06-27",
          "2020-06-28",
          "2020-06-29",
          "2020-06-30",
          "2020-07-01",
          "2020-07-02",
          "2020-07-03",
          "2020-07-04",
          "2020-07-05",
          "2020-07-06",
          "2020-07-07",
          "2020-07-08",
          "2020-07-09",
          "2020-07-10",
          "2020-07-11",
          "2020-07-12",
          "2020-07-13",
          "2020-07-14",
          "2020-07-15",
          "2020-07-16",
          "2020-07-17",
          "2020-07-18",
          "2020-07-19",
          "2020-07-20",
          "2020-07-21",
          "2020-07-22",
          "2020-07-23",
          "2020-07-24",
          "2020-07-25",
          "2020-07-26",
          "2020-07-27",
          "2020-07-28",
          "2020-07-29",
          "2020-07-30",
          "2020-07-31",
          "2020-08-01",
          "2020-08-02",
          "2020-08-03",
          "2020-08-04",
          "2020-08-05",
          "2020-08-06",
          "2020-08-07",
          "2020-08-08",
          "2020-08-09",
          "2020-08-10",
          "2020-08-11",
          "2020-08-12",
          "2020-08-13",
          "2020-08-14",
          "2020-08-15",
          "2020-08-16",
          "2020-08-17",
          "2020-08-18"
         ],
         "y": [
          null,
          null,
          null,
          null,
          null,
          null,
          null,
          16,
          2.167,
          1.7,
          1.538,
          1.75,
          3,
          2.059,
          2.85,
          2.464,
          2.256,
          3.886,
          2.842,
          2.783,
          2.5,
          1.757,
          1.494,
          1.8330000000000002,
          2.15,
          2.502,
          3.178,
          2.489,
          2.106,
          2.176,
          1.9669999999999999,
          2.299,
          2.322,
          1.84,
          1.726,
          1.3880000000000001,
          1.4469999999999998,
          1.646,
          1.815,
          1.994,
          1.818,
          1.798,
          1.729,
          1.6480000000000001,
          1.7919999999999998,
          1.7180000000000002,
          1.669,
          1.7080000000000002,
          1.6840000000000002,
          1.575,
          1.517,
          1.351,
          1.085,
          1.121,
          1.052,
          1.082,
          1.224,
          1.16,
          1.137,
          1.113,
          1.119,
          1.2229999999999999,
          1.422,
          1.517,
          1.5,
          1.3730000000000002,
          1.204,
          1.099,
          1.058,
          1.045,
          1.04,
          1.042,
          1.0070000000000001,
          0.973,
          0.9390000000000001,
          0.897,
          0.9059999999999999,
          0.903,
          0.894,
          0.9209999999999999,
          0.907,
          0.9309999999999999,
          0.9690000000000001,
          0.976,
          1.002,
          1.003,
          0.968,
          0.966,
          0.953,
          0.9540000000000001,
          1.01,
          1.036,
          1.056,
          1.043,
          1.003,
          0.976,
          0.968,
          0.991,
          1.008,
          1.013,
          1.001,
          0.982,
          0.978,
          0.985,
          1.01,
          1,
          0.9790000000000001,
          0.951,
          0.91,
          0.9159999999999999,
          0.925,
          0.946,
          0.971,
          0.9620000000000001,
          0.95,
          0.934,
          0.914,
          0.912,
          0.9209999999999999,
          0.927,
          0.9490000000000001,
          0.958,
          0.97,
          0.9840000000000001,
          0.986,
          1.003,
          0.9990000000000001,
          0.986,
          0.985,
          0.97,
          0.977,
          0.9990000000000001,
          1.004,
          1.013,
          0.998,
          0.981,
          0.972,
          0.966,
          0.98,
          0.975,
          0.963,
          0.946,
          0.932,
          0.9329999999999999,
          0.946,
          0.97,
          0.981,
          0.983,
          0.97,
          0.9520000000000001,
          0.945,
          0.9470000000000001,
          0.9670000000000001,
          0.982,
          0.9890000000000001,
          0.981,
          0.966,
          0.961,
          0.9590000000000001,
          0.976,
          0.987,
          0.987,
          0.98,
          0.973,
          0.9670000000000001,
          0.972,
          0.991,
          0.99,
          0.988,
          0.975
         ]
        }
       ],
       "layout": {
        "annotations": [
         {
          "arrowhead": 2,
          "ax": 0,
          "ay": -60,
          "showarrow": true,
          "text": "Введение<br>пропускной<br>системы в Москве",
          "x": "2020-04-13",
          "xref": "x",
          "y": 1.717,
          "yref": "y"
         },
         {
          "arrowhead": 2,
          "ax": 0,
          "ay": -60,
          "showarrow": true,
          "text": "Отмена<br>пропускной<br>системы в Москве",
          "x": "2020-06-09",
          "xref": "x",
          "y": 0.942,
          "yref": "y"
         },
         {
          "showarrow": false,
          "text": "Данные : Яндекс <br> формула расчета из методических рекомендациях Роспотребнадзора.",
          "x": 0.5,
          "xref": "paper",
          "y": -0.15,
          "yref": "paper"
         }
        ],
        "height": 600,
        "template": {
         "data": {
          "pie": [
           {
            "automargin": true,
            "type": "pie"
           }
          ]
         },
         "layout": {
          "xaxis": {
           "showgrid": true,
           "title": {
            "standoff": 15
           }
          },
          "yaxis": {
           "showgrid": true,
           "title": {
            "standoff": 15
           }
          }
         }
        },
        "title": {
         "text": "Коэффициент распространения (Rt) по 5 регионам ,<br> с максимальным количеством новых заболеваний ",
         "x": 0.5,
         "xanchor": "center",
         "y": 0.9,
         "yanchor": "bottom"
        },
        "width": 990,
        "yaxis": {
         "title": {
          "text": " "
         }
        }
       }
      }
     },
     "metadata": {}
    }
   ],
   "source": [
    "#mask = (X.Date>datetime.date(2020,5,1))&(X.Region.isin(regions_towatch))\n",
    "\n",
    "colors_dict = {\"Москва\": \"red\",\n",
    "                \"Московская обл.\": \"magenta\",\n",
    "                \"Санкт-Петербург\": \"goldenrod\",\n",
    "                \"Нижегородская обл.\": \"darkblue\",\n",
    "                \"Свердловская обл.\": \"green\",\n",
    "                 'Россия':'aquamarine'}\n",
    "fig = go.Figure()\n",
    "for i in regions_towatch:\n",
    "    mask = X['Region'] == i\n",
    "        \n",
    "    fig.add_trace(\n",
    "        \n",
    "        go.Bar(\n",
    "        name = f'{i}',\n",
    "        x=X[mask].Date,\n",
    "        y=X[mask].Rt,\n",
    "        text=round(X[mask].Rt,3),\n",
    "        textposition='inside',\n",
    "        marker_color= colors_dict.get(i),\n",
    "        \n",
    "        showlegend=True))\n",
    "\n",
    "\n",
    "\n",
    "\n",
    "                  \n",
    "fig.update_layout(\n",
    "    annotations=[\n",
    "        dict(\n",
    "            x='2020-04-13',\n",
    "            y=1.717,\n",
    "            xref=\"x\",\n",
    "            yref=\"y\",\n",
    "            text=\"Введение<br>пропускной<br>системы в Москве\",\n",
    "            showarrow=True,\n",
    "            arrowhead=2,\n",
    "            ax=0,\n",
    "            ay=-60),\n",
    "        dict(\n",
    "            x='2020-06-09',\n",
    "            y=0.942,\n",
    "            xref=\"x\",\n",
    "            yref=\"y\",\n",
    "            text=\"Отмена<br>пропускной<br>системы в Москве\",\n",
    "            showarrow=True,\n",
    "            arrowhead=2,\n",
    "            ax=0,\n",
    "            ay=-60),\n",
    "            dict(x=0.5,y=-0.15,\n",
    "            showarrow=False,\n",
    "            text=\"Данные : Яндекс <br> формула расчета из методических рекомендациях Роспотребнадзора.\",\n",
    "            xref=\"paper\",\n",
    "            yref=\"paper\")],\n",
    "                  title = \"Коэффициент распространения (Rt) по 5 регионам ,<br> с максимальным количеством новых заболеваний \",\n",
    "                  title_x = 0.5,\n",
    "                  title_y= 0.9,\n",
    "                  title_xanchor = \"center\",\n",
    "                  title_yanchor = \"bottom\", \n",
    "                 # legend_x = 0.05,legend_y = 0.9,\n",
    "                  width = 990, height = 600,template = 'gridon',\n",
    "    \n",
    "    \n",
    "                 # xaxis_title='Коэффициент рассчитан, исходя из данных оперативного штаба и <br>' + \n",
    "                               #' формулы расчета в методических рекомендациях Роспотребнадзора. ',\n",
    "    yaxis_title = ' '\n",
    ")\n",
    "\n",
    "\n",
    "fig.show()\n"
   ]
  },
  {
   "cell_type": "code",
   "execution_count": 170,
   "metadata": {
    "tags": []
   },
   "outputs": [
    {
     "output_type": "stream",
     "name": "stdout",
     "text": "Все регионы по которым есть статистика:\n****************************************\ndict_items([(1, 'Адыгея'), (2, 'Алтай'), (3, 'Алтайский край'), (4, 'Амурская обл.'), (5, 'Архангельская обл.'), (6, 'Астраханская обл.'), (7, 'Башкортостан'), (8, 'Белгородская обл.'), (9, 'Брянская обл.'), (10, 'Бурятия'), (11, 'Владимирская обл.'), (12, 'Волгоградская обл.'), (13, 'Вологодская обл.'), (14, 'Воронежская обл.'), (15, 'Дагестан'), (16, 'Еврейская АО'), (17, 'Забайкальский край'), (18, 'Ивановская обл.'), (19, 'Ингушетия'), (20, 'Иркутская обл.'), (21, 'Кабардино-Балкария'), (22, 'Калининградская обл.'), (23, 'Калмыкия'), (24, 'Калужская обл.'), (25, 'Камчатский край'), (26, 'Карачаево-Черкессия'), (27, 'Карелия'), (28, 'Кемеровская обл.'), (29, 'Кировская обл.'), (30, 'Коми'), (31, 'Костромская обл.'), (32, 'Краснодарский край'), (33, 'Красноярский край'), (34, 'Крым'), (35, 'Курганская обл.'), (36, 'Курская обл.'), (37, 'Ленинградская обл.'), (38, 'Липецкая обл.'), (39, 'Магаданская обл.'), (40, 'Марий Эл'), (41, 'Мордовия'), (42, 'Москва'), (43, 'Московская обл.'), (44, 'Мурманская обл.'), (45, 'Ненецкий АО'), (46, 'Нижегородская обл.'), (47, 'Новгородская обл.'), (48, 'Новосибирская обл.'), (49, 'Омская обл.'), (50, 'Оренбургская обл.'), (51, 'Орловская обл.'), (52, 'Пензенская обл.'), (53, 'Пермский край'), (54, 'Приморский край'), (55, 'Псковская обл.'), (56, 'Россия'), (57, 'Ростовская обл.'), (58, 'Рязанская обл.'), (59, 'Самарская обл.'), (60, 'Санкт-Петербург'), (61, 'Саратовская обл.'), (62, 'Саха (Якутия)'), (63, 'Сахалинская обл.'), (64, 'Свердловская обл.'), (65, 'Севастополь'), (66, 'Северная Осетия'), (67, 'Смоленская обл.'), (68, 'Ставропольский край'), (69, 'Тамбовская обл.'), (70, 'Татарстан'), (71, 'Тверская обл.'), (72, 'Томская обл.'), (73, 'Тульская обл.'), (74, 'Тыва'), (75, 'Тюменская обл.'), (76, 'Удмуртия'), (77, 'Ульяновская обл.'), (78, 'ХМАО – Югра'), (79, 'Хабаровский край'), (80, 'Хакасия'), (81, 'Челябинская обл.'), (82, 'Чечня'), (83, 'Чувашия'), (84, 'Чукотский АО'), (85, 'Ямало-Ненецкий АО'), (86, 'Ярославская обл.')])\n****************************************\nРассматриваем регионы: \n12 Волгоградская обл.\n20 Иркутская обл.\n42 Москва\n43 Московская обл.\n56 Россия\n60 Санкт-Петербург\n61 Саратовская обл.\n64 Свердловская обл.\n68 Ставропольский край\n77 Ульяновская обл.\n81 Челябинская обл.\nВыбрали регион:  Мордовия\n"
    }
   ],
   "source": [
    "print('Все регионы по которым есть статистика:')\n",
    "print('*'*40)\n",
    "print(regions_dict.items())\n",
    "print('*'*40)\n",
    "print('Рассматриваем регионы: ')\n",
    "for i in regions_dict.keys():\n",
    "    if regions_dict.get(i) in regions_towatch:\n",
    "        print(i,regions_dict.get(i))\n",
    "\n",
    "\n",
    "my_region = regions_dict[41]\n",
    "print('Выбрали регион: ',my_region)\n"
   ]
  },
  {
   "cell_type": "code",
   "execution_count": 171,
   "metadata": {},
   "outputs": [
    {
     "output_type": "display_data",
     "data": {
      "application/vnd.plotly.v1+json": {
       "config": {
        "plotlyServerURL": "https://plotly.com"
       },
       "data": [
        {
         "alignmentgroup": "True",
         "hovertemplate": "Date=%{x}<br>Новые заболевшие=%{marker.color}<extra></extra>",
         "legendgroup": "",
         "marker": {
          "color": [
           0,
           0,
           0,
           0,
           0,
           0,
           0,
           0,
           0,
           0,
           0,
           0,
           0,
           0,
           0,
           2,
           0,
           1,
           0,
           0,
           1,
           0,
           0,
           1,
           0,
           1,
           0,
           7,
           4,
           2,
           0,
           23,
           16,
           13,
           0,
           0,
           65,
           62,
           60,
           35,
           34,
           30,
           28,
           39,
           45,
           49,
           42,
           32,
           67,
           39,
           30,
           37,
           43,
           59,
           56,
           54,
           41,
           37,
           47,
           46,
           42,
           35,
           37,
           34,
           27,
           25,
           28,
           33,
           34,
           34,
           35,
           36,
           32,
           32,
           34,
           38,
           43,
           49,
           44,
           40,
           35,
           36,
           39,
           42,
           39,
           47,
           40,
           47,
           45,
           66,
           64,
           58,
           62,
           58,
           58,
           56,
           55,
           55,
           56,
           56,
           57,
           55,
           54,
           54,
           49,
           49,
           48,
           44,
           40,
           35,
           35,
           37,
           36,
           38,
           37,
           35,
           34,
           35,
           34,
           37,
           38,
           37,
           37,
           36,
           36,
           37,
           38,
           38,
           37,
           35,
           35,
           36,
           35,
           35,
           34,
           34,
           33,
           32,
           32,
           32,
           33,
           33,
           32,
           31,
           32,
           31,
           31,
           32,
           30,
           30,
           29,
           30,
           30,
           29,
           31,
           32,
           32,
           31,
           32,
           32
          ],
          "coloraxis": "coloraxis"
         },
         "name": "",
         "offsetgroup": "",
         "orientation": "v",
         "showlegend": false,
         "text": [
          0,
          0,
          0,
          0,
          0,
          0,
          0,
          0,
          0,
          0,
          0,
          0,
          0,
          0,
          0,
          2,
          0,
          1,
          0,
          0,
          1,
          0,
          0,
          1,
          0,
          1,
          0,
          7,
          4,
          2,
          0,
          23,
          16,
          13,
          0,
          0,
          65,
          62,
          60,
          35,
          34,
          30,
          28,
          39,
          45,
          49,
          42,
          32,
          67,
          39,
          30,
          37,
          43,
          59,
          56,
          54,
          41,
          37,
          47,
          46,
          42,
          35,
          37,
          34,
          27,
          25,
          28,
          33,
          34,
          34,
          35,
          36,
          32,
          32,
          34,
          38,
          43,
          49,
          44,
          40,
          35,
          36,
          39,
          42,
          39,
          47,
          40,
          47,
          45,
          66,
          64,
          58,
          62,
          58,
          58,
          56,
          55,
          55,
          56,
          56,
          57,
          55,
          54,
          54,
          49,
          49,
          48,
          44,
          40,
          35,
          35,
          37,
          36,
          38,
          37,
          35,
          34,
          35,
          34,
          37,
          38,
          37,
          37,
          36,
          36,
          37,
          38,
          38,
          37,
          35,
          35,
          36,
          35,
          35,
          34,
          34,
          33,
          32,
          32,
          32,
          33,
          33,
          32,
          31,
          32,
          31,
          31,
          32,
          30,
          30,
          29,
          30,
          30,
          29,
          31,
          32,
          32,
          31,
          32,
          32
         ],
         "textposition": "auto",
         "type": "bar",
         "x": [
          "2020-03-12",
          "2020-03-13",
          "2020-03-14",
          "2020-03-15",
          "2020-03-16",
          "2020-03-17",
          "2020-03-18",
          "2020-03-19",
          "2020-03-20",
          "2020-03-21",
          "2020-03-22",
          "2020-03-23",
          "2020-03-24",
          "2020-03-25",
          "2020-03-26",
          "2020-03-27",
          "2020-03-28",
          "2020-03-29",
          "2020-03-30",
          "2020-03-31",
          "2020-04-01",
          "2020-04-02",
          "2020-04-03",
          "2020-04-04",
          "2020-04-05",
          "2020-04-06",
          "2020-04-07",
          "2020-04-08",
          "2020-04-09",
          "2020-04-10",
          "2020-04-11",
          "2020-04-12",
          "2020-04-13",
          "2020-04-14",
          "2020-04-15",
          "2020-04-16",
          "2020-04-17",
          "2020-04-18",
          "2020-04-19",
          "2020-04-20",
          "2020-04-21",
          "2020-04-22",
          "2020-04-23",
          "2020-04-24",
          "2020-04-25",
          "2020-04-26",
          "2020-04-27",
          "2020-04-28",
          "2020-04-29",
          "2020-04-30",
          "2020-05-01",
          "2020-05-02",
          "2020-05-03",
          "2020-05-04",
          "2020-05-05",
          "2020-05-06",
          "2020-05-07",
          "2020-05-08",
          "2020-05-09",
          "2020-05-10",
          "2020-05-11",
          "2020-05-12",
          "2020-05-13",
          "2020-05-14",
          "2020-05-15",
          "2020-05-16",
          "2020-05-17",
          "2020-05-18",
          "2020-05-19",
          "2020-05-20",
          "2020-05-21",
          "2020-05-22",
          "2020-05-23",
          "2020-05-24",
          "2020-05-25",
          "2020-05-26",
          "2020-05-27",
          "2020-05-28",
          "2020-05-29",
          "2020-05-30",
          "2020-05-31",
          "2020-06-01",
          "2020-06-02",
          "2020-06-03",
          "2020-06-04",
          "2020-06-05",
          "2020-06-06",
          "2020-06-07",
          "2020-06-08",
          "2020-06-09",
          "2020-06-10",
          "2020-06-11",
          "2020-06-12",
          "2020-06-13",
          "2020-06-14",
          "2020-06-15",
          "2020-06-16",
          "2020-06-17",
          "2020-06-18",
          "2020-06-19",
          "2020-06-20",
          "2020-06-21",
          "2020-06-22",
          "2020-06-23",
          "2020-06-24",
          "2020-06-25",
          "2020-06-26",
          "2020-06-27",
          "2020-06-28",
          "2020-06-29",
          "2020-06-30",
          "2020-07-01",
          "2020-07-02",
          "2020-07-03",
          "2020-07-04",
          "2020-07-05",
          "2020-07-06",
          "2020-07-07",
          "2020-07-08",
          "2020-07-09",
          "2020-07-10",
          "2020-07-11",
          "2020-07-12",
          "2020-07-13",
          "2020-07-14",
          "2020-07-15",
          "2020-07-16",
          "2020-07-17",
          "2020-07-18",
          "2020-07-19",
          "2020-07-20",
          "2020-07-21",
          "2020-07-22",
          "2020-07-23",
          "2020-07-24",
          "2020-07-25",
          "2020-07-26",
          "2020-07-27",
          "2020-07-28",
          "2020-07-29",
          "2020-07-30",
          "2020-07-31",
          "2020-08-01",
          "2020-08-02",
          "2020-08-03",
          "2020-08-04",
          "2020-08-05",
          "2020-08-06",
          "2020-08-07",
          "2020-08-08",
          "2020-08-09",
          "2020-08-10",
          "2020-08-11",
          "2020-08-12",
          "2020-08-13",
          "2020-08-14",
          "2020-08-15",
          "2020-08-16",
          "2020-08-17",
          "2020-08-18"
         ],
         "xaxis": "x",
         "y": [
          0,
          0,
          0,
          0,
          0,
          0,
          0,
          0,
          0,
          0,
          0,
          0,
          0,
          0,
          0,
          2,
          0,
          1,
          0,
          0,
          1,
          0,
          0,
          1,
          0,
          1,
          0,
          7,
          4,
          2,
          0,
          23,
          16,
          13,
          0,
          0,
          65,
          62,
          60,
          35,
          34,
          30,
          28,
          39,
          45,
          49,
          42,
          32,
          67,
          39,
          30,
          37,
          43,
          59,
          56,
          54,
          41,
          37,
          47,
          46,
          42,
          35,
          37,
          34,
          27,
          25,
          28,
          33,
          34,
          34,
          35,
          36,
          32,
          32,
          34,
          38,
          43,
          49,
          44,
          40,
          35,
          36,
          39,
          42,
          39,
          47,
          40,
          47,
          45,
          66,
          64,
          58,
          62,
          58,
          58,
          56,
          55,
          55,
          56,
          56,
          57,
          55,
          54,
          54,
          49,
          49,
          48,
          44,
          40,
          35,
          35,
          37,
          36,
          38,
          37,
          35,
          34,
          35,
          34,
          37,
          38,
          37,
          37,
          36,
          36,
          37,
          38,
          38,
          37,
          35,
          35,
          36,
          35,
          35,
          34,
          34,
          33,
          32,
          32,
          32,
          33,
          33,
          32,
          31,
          32,
          31,
          31,
          32,
          30,
          30,
          29,
          30,
          30,
          29,
          31,
          32,
          32,
          31,
          32,
          32
         ],
         "yaxis": "y"
        },
        {
         "line": {
          "color": "green"
         },
         "mode": "lines",
         "name": "14-дневная скользящая средняя",
         "showlegend": true,
         "type": "scatter",
         "x": [
          "2020-03-12",
          "2020-03-13",
          "2020-03-14",
          "2020-03-15",
          "2020-03-16",
          "2020-03-17",
          "2020-03-18",
          "2020-03-19",
          "2020-03-20",
          "2020-03-21",
          "2020-03-22",
          "2020-03-23",
          "2020-03-24",
          "2020-03-25",
          "2020-03-26",
          "2020-03-27",
          "2020-03-28",
          "2020-03-29",
          "2020-03-30",
          "2020-03-31",
          "2020-04-01",
          "2020-04-02",
          "2020-04-03",
          "2020-04-04",
          "2020-04-05",
          "2020-04-06",
          "2020-04-07",
          "2020-04-08",
          "2020-04-09",
          "2020-04-10",
          "2020-04-11",
          "2020-04-12",
          "2020-04-13",
          "2020-04-14",
          "2020-04-15",
          "2020-04-16",
          "2020-04-17",
          "2020-04-18",
          "2020-04-19",
          "2020-04-20",
          "2020-04-21",
          "2020-04-22",
          "2020-04-23",
          "2020-04-24",
          "2020-04-25",
          "2020-04-26",
          "2020-04-27",
          "2020-04-28",
          "2020-04-29",
          "2020-04-30",
          "2020-05-01",
          "2020-05-02",
          "2020-05-03",
          "2020-05-04",
          "2020-05-05",
          "2020-05-06",
          "2020-05-07",
          "2020-05-08",
          "2020-05-09",
          "2020-05-10",
          "2020-05-11",
          "2020-05-12",
          "2020-05-13",
          "2020-05-14",
          "2020-05-15",
          "2020-05-16",
          "2020-05-17",
          "2020-05-18",
          "2020-05-19",
          "2020-05-20",
          "2020-05-21",
          "2020-05-22",
          "2020-05-23",
          "2020-05-24",
          "2020-05-25",
          "2020-05-26",
          "2020-05-27",
          "2020-05-28",
          "2020-05-29",
          "2020-05-30",
          "2020-05-31",
          "2020-06-01",
          "2020-06-02",
          "2020-06-03",
          "2020-06-04",
          "2020-06-05",
          "2020-06-06",
          "2020-06-07",
          "2020-06-08",
          "2020-06-09",
          "2020-06-10",
          "2020-06-11",
          "2020-06-12",
          "2020-06-13",
          "2020-06-14",
          "2020-06-15",
          "2020-06-16",
          "2020-06-17",
          "2020-06-18",
          "2020-06-19",
          "2020-06-20",
          "2020-06-21",
          "2020-06-22",
          "2020-06-23",
          "2020-06-24",
          "2020-06-25",
          "2020-06-26",
          "2020-06-27",
          "2020-06-28",
          "2020-06-29",
          "2020-06-30",
          "2020-07-01",
          "2020-07-02",
          "2020-07-03",
          "2020-07-04",
          "2020-07-05",
          "2020-07-06",
          "2020-07-07",
          "2020-07-08",
          "2020-07-09",
          "2020-07-10",
          "2020-07-11",
          "2020-07-12",
          "2020-07-13",
          "2020-07-14",
          "2020-07-15",
          "2020-07-16",
          "2020-07-17",
          "2020-07-18",
          "2020-07-19",
          "2020-07-20",
          "2020-07-21",
          "2020-07-22",
          "2020-07-23",
          "2020-07-24",
          "2020-07-25",
          "2020-07-26",
          "2020-07-27",
          "2020-07-28",
          "2020-07-29",
          "2020-07-30",
          "2020-07-31",
          "2020-08-01",
          "2020-08-02",
          "2020-08-03",
          "2020-08-04",
          "2020-08-05",
          "2020-08-06",
          "2020-08-07",
          "2020-08-08",
          "2020-08-09",
          "2020-08-10",
          "2020-08-11",
          "2020-08-12",
          "2020-08-13",
          "2020-08-14",
          "2020-08-15",
          "2020-08-16",
          "2020-08-17",
          "2020-08-18"
         ],
         "y": [
          null,
          null,
          null,
          null,
          null,
          null,
          null,
          null,
          null,
          null,
          null,
          null,
          null,
          0,
          0,
          0.14285714285714285,
          0.14285714285714285,
          0.21428571428571427,
          0.21428571428571427,
          0.21428571428571427,
          0.2857142857142857,
          0.2857142857142857,
          0.2857142857142857,
          0.35714285714285715,
          0.35714285714285715,
          0.42857142857142855,
          0.42857142857142855,
          0.9285714285714286,
          1.2142857142857142,
          1.2142857142857142,
          1.2142857142857142,
          2.7857142857142856,
          3.928571428571429,
          4.857142857142857,
          4.785714285714286,
          4.785714285714286,
          9.428571428571429,
          13.785714285714285,
          18.071428571428573,
          20.5,
          22.92857142857143,
          24.57142857142857,
          26.285714285714285,
          28.92857142857143,
          32.142857142857146,
          34,
          35.857142857142854,
          37.214285714285715,
          42,
          44.78571428571429,
          42.285714285714285,
          40.5,
          39.285714285714285,
          41,
          42.57142857142857,
          44.28571428571429,
          45.214285714285715,
          45.07142857142857,
          45.214285714285715,
          45,
          45,
          45.214285714285715,
          43.07142857142857,
          42.714285714285715,
          42.5,
          41.642857142857146,
          40.57142857142857,
          38.714285714285715,
          37.142857142857146,
          35.714285714285715,
          35.285714285714285,
          35.214285714285715,
          34.142857142857146,
          33.142857142857146,
          32.57142857142857,
          32.785714285714285,
          33.214285714285715,
          34.285714285714285,
          35.5,
          36.57142857142857,
          37.07142857142857,
          37.285714285714285,
          37.642857142857146,
          38.214285714285715,
          38.5,
          39.285714285714285,
          39.857142857142854,
          40.92857142857143,
          41.714285714285715,
          43.714285714285715,
          45.214285714285715,
          45.85714285714285,
          47.14285714285714,
          48.42857142857143,
          50.07142857142857,
          51.5,
          52.64285714285714,
          53.57142857142857,
          54.78571428571429,
          55.42857142857143,
          56.64285714285714,
          57.214285714285715,
          57.85714285714285,
          57,
          55.92857142857143,
          55.28571428571429,
          54.28571428571429,
          53.28571428571429,
          52,
          50.5,
          49.07142857142857,
          47.78571428571429,
          46.35714285714285,
          45.07142857142857,
          43.64285714285715,
          42.214285714285715,
          40.785714285714285,
          39.42857142857143,
          38.357142857142854,
          37.5,
          36.785714285714285,
          36.285714285714285,
          36.07142857142857,
          36.142857142857146,
          36.214285714285715,
          36.214285714285715,
          36.357142857142854,
          36.357142857142854,
          36.357142857142854,
          36.357142857142854,
          36.42857142857143,
          36.5,
          36.57142857142857,
          36.42857142857143,
          36.142857142857146,
          35.92857142857143,
          35.642857142857146,
          35.357142857142854,
          35.07142857142857,
          34.714285714285715,
          34.357142857142854,
          34,
          33.642857142857146,
          33.357142857142854,
          33.142857142857146,
          32.785714285714285,
          32.5,
          32.285714285714285,
          32,
          31.714285714285715,
          31.42857142857143,
          31.285714285714285,
          31.142857142857146,
          30.92857142857143,
          30.785714285714285,
          30.714285714285715,
          30.714285714285715,
          30.714285714285715,
          30.714285714285715,
          30.785714285714285
         ]
        },
        {
         "line": {
          "color": "red"
         },
         "mode": "lines",
         "name": "7-дневная скользящая средняя",
         "showlegend": true,
         "type": "scatter",
         "x": [
          "2020-03-12",
          "2020-03-13",
          "2020-03-14",
          "2020-03-15",
          "2020-03-16",
          "2020-03-17",
          "2020-03-18",
          "2020-03-19",
          "2020-03-20",
          "2020-03-21",
          "2020-03-22",
          "2020-03-23",
          "2020-03-24",
          "2020-03-25",
          "2020-03-26",
          "2020-03-27",
          "2020-03-28",
          "2020-03-29",
          "2020-03-30",
          "2020-03-31",
          "2020-04-01",
          "2020-04-02",
          "2020-04-03",
          "2020-04-04",
          "2020-04-05",
          "2020-04-06",
          "2020-04-07",
          "2020-04-08",
          "2020-04-09",
          "2020-04-10",
          "2020-04-11",
          "2020-04-12",
          "2020-04-13",
          "2020-04-14",
          "2020-04-15",
          "2020-04-16",
          "2020-04-17",
          "2020-04-18",
          "2020-04-19",
          "2020-04-20",
          "2020-04-21",
          "2020-04-22",
          "2020-04-23",
          "2020-04-24",
          "2020-04-25",
          "2020-04-26",
          "2020-04-27",
          "2020-04-28",
          "2020-04-29",
          "2020-04-30",
          "2020-05-01",
          "2020-05-02",
          "2020-05-03",
          "2020-05-04",
          "2020-05-05",
          "2020-05-06",
          "2020-05-07",
          "2020-05-08",
          "2020-05-09",
          "2020-05-10",
          "2020-05-11",
          "2020-05-12",
          "2020-05-13",
          "2020-05-14",
          "2020-05-15",
          "2020-05-16",
          "2020-05-17",
          "2020-05-18",
          "2020-05-19",
          "2020-05-20",
          "2020-05-21",
          "2020-05-22",
          "2020-05-23",
          "2020-05-24",
          "2020-05-25",
          "2020-05-26",
          "2020-05-27",
          "2020-05-28",
          "2020-05-29",
          "2020-05-30",
          "2020-05-31",
          "2020-06-01",
          "2020-06-02",
          "2020-06-03",
          "2020-06-04",
          "2020-06-05",
          "2020-06-06",
          "2020-06-07",
          "2020-06-08",
          "2020-06-09",
          "2020-06-10",
          "2020-06-11",
          "2020-06-12",
          "2020-06-13",
          "2020-06-14",
          "2020-06-15",
          "2020-06-16",
          "2020-06-17",
          "2020-06-18",
          "2020-06-19",
          "2020-06-20",
          "2020-06-21",
          "2020-06-22",
          "2020-06-23",
          "2020-06-24",
          "2020-06-25",
          "2020-06-26",
          "2020-06-27",
          "2020-06-28",
          "2020-06-29",
          "2020-06-30",
          "2020-07-01",
          "2020-07-02",
          "2020-07-03",
          "2020-07-04",
          "2020-07-05",
          "2020-07-06",
          "2020-07-07",
          "2020-07-08",
          "2020-07-09",
          "2020-07-10",
          "2020-07-11",
          "2020-07-12",
          "2020-07-13",
          "2020-07-14",
          "2020-07-15",
          "2020-07-16",
          "2020-07-17",
          "2020-07-18",
          "2020-07-19",
          "2020-07-20",
          "2020-07-21",
          "2020-07-22",
          "2020-07-23",
          "2020-07-24",
          "2020-07-25",
          "2020-07-26",
          "2020-07-27",
          "2020-07-28",
          "2020-07-29",
          "2020-07-30",
          "2020-07-31",
          "2020-08-01",
          "2020-08-02",
          "2020-08-03",
          "2020-08-04",
          "2020-08-05",
          "2020-08-06",
          "2020-08-07",
          "2020-08-08",
          "2020-08-09",
          "2020-08-10",
          "2020-08-11",
          "2020-08-12",
          "2020-08-13",
          "2020-08-14",
          "2020-08-15",
          "2020-08-16",
          "2020-08-17",
          "2020-08-18"
         ],
         "y": [
          null,
          null,
          null,
          null,
          null,
          null,
          0,
          0,
          0,
          0,
          0,
          0,
          0,
          0,
          0,
          0.2857142857142857,
          0.2857142857142857,
          0.42857142857142855,
          0.42857142857142855,
          0.42857142857142855,
          0.5714285714285714,
          0.5714285714285714,
          0.2857142857142857,
          0.42857142857142855,
          0.2857142857142857,
          0.42857142857142855,
          0.42857142857142855,
          1.2857142857142858,
          1.8571428571428568,
          2.142857142857143,
          2,
          5.285714285714286,
          7.428571428571429,
          9.285714285714286,
          8.285714285714286,
          7.7142857142857135,
          16.714285714285715,
          25.57142857142857,
          30.857142857142854,
          33.57142857142857,
          36.57142857142857,
          40.857142857142854,
          44.85714285714285,
          41.142857142857146,
          38.714285714285715,
          37.142857142857146,
          38.142857142857146,
          37.857142857142854,
          43.14285714285715,
          44.714285714285715,
          43.42857142857143,
          42.285714285714285,
          41.42857142857143,
          43.85714285714285,
          47.28571428571429,
          45.42857142857143,
          45.714285714285715,
          46.714285714285715,
          48.14285714285714,
          48.57142857142857,
          46.14285714285714,
          43.14285714285715,
          40.714285714285715,
          39.714285714285715,
          38.285714285714285,
          35.142857142857146,
          32.57142857142857,
          31.285714285714285,
          31.142857142857146,
          30.714285714285715,
          30.857142857142854,
          32.142857142857146,
          33.142857142857146,
          33.714285714285715,
          33.857142857142854,
          34.42857142857143,
          35.714285714285715,
          37.714285714285715,
          38.857142857142854,
          40,
          40.42857142857143,
          40.714285714285715,
          40.857142857142854,
          40.714285714285715,
          39.285714285714285,
          39.714285714285715,
          39.714285714285715,
          41.42857142857143,
          42.714285714285715,
          46.57142857142857,
          49.714285714285715,
          52.42857142857143,
          54.57142857142857,
          57.14285714285714,
          58.714285714285715,
          60.28571428571429,
          58.714285714285715,
          57.42857142857143,
          57.14285714285714,
          56.28571428571429,
          56.14285714285714,
          55.714285714285715,
          55.42857142857143,
          55.28571428571429,
          54.42857142857143,
          53.42857142857143,
          52.28571428571429,
          50.42857142857143,
          48.28571428571429,
          45.57142857142857,
          42.857142857142854,
          41.142857142857146,
          39.285714285714285,
          37.857142857142854,
          36.857142857142854,
          36.142857142857146,
          36,
          36,
          35.57142857142857,
          35.714285714285715,
          35.714285714285715,
          35.714285714285715,
          36,
          36.285714285714285,
          36.42857142857143,
          36.857142857142854,
          37,
          37,
          37,
          36.714285714285715,
          36.57142857142857,
          36.57142857142857,
          36.285714285714285,
          35.857142857142854,
          35.285714285714285,
          34.857142857142854,
          34.57142857142857,
          34.142857142857146,
          33.57142857142857,
          33.142857142857146,
          32.857142857142854,
          32.714285714285715,
          32.42857142857143,
          32.142857142857146,
          32.142857142857146,
          32,
          31.857142857142854,
          31.714285714285715,
          31.285714285714285,
          31,
          30.714285714285715,
          30.42857142857143,
          30.285714285714285,
          30,
          29.857142857142854,
          30.142857142857146,
          30.42857142857143,
          30.714285714285715,
          31,
          31.285714285714285
         ]
        }
       ],
       "layout": {
        "annotations": [
         {
          "showarrow": false,
          "text": "Данные: Яндекс",
          "x": 0.5,
          "xref": "paper",
          "y": -0.15,
          "yref": "paper"
         }
        ],
        "barmode": "relative",
        "coloraxis": {
         "colorbar": {
          "title": {
           "text": "Новые заболевшие"
          }
         },
         "colorscale": [
          [
           0,
           "rgb(0,0,131)"
          ],
          [
           0.2,
           "rgb(0,60,170)"
          ],
          [
           0.4,
           "rgb(5,255,255)"
          ],
          [
           0.6,
           "rgb(255,255,0)"
          ],
          [
           0.8,
           "rgb(250,0,0)"
          ],
          [
           1,
           "rgb(128,0,0)"
          ]
         ]
        },
        "height": 600,
        "legend": {
         "tracegroupgap": 0,
         "x": 0.15,
         "y": 0.95
        },
        "template": {
         "data": {
          "pie": [
           {
            "automargin": true,
            "type": "pie"
           }
          ]
         },
         "layout": {
          "xaxis": {
           "showgrid": true,
           "title": {
            "standoff": 15
           }
          },
          "yaxis": {
           "showgrid": true,
           "title": {
            "standoff": 15
           }
          }
         }
        },
        "title": {
         "text": "Мордовия: график количества новых заболевших COVID-19 по датам",
         "x": 0.5,
         "xanchor": "center",
         "y": 0.9,
         "yanchor": "bottom"
        },
        "width": 990,
        "xaxis": {
         "anchor": "y",
         "domain": [
          0,
          1
         ],
         "title": {
          "text": ""
         }
        },
        "yaxis": {
         "anchor": "x",
         "domain": [
          0,
          1
         ],
         "title": {
          "text": " "
         }
        }
       }
      }
     },
     "metadata": {}
    }
   ],
   "source": [
    "mask = X.Region ==my_region\n",
    "#mask = (X.Date>datetime.date(2020,5,1)&(X.Region.isin(regions_towatch))\n",
    "#mask = (X.Date>datetime.date(2020,5,1)&(X.Region==my_region)\n",
    "\n",
    "fig = px.bar(X[mask], x='Date', \n",
    "             y=\"Day_confirmed\",color ='Day_confirmed',\n",
    "             title=f'{my_region}: '+'график количества новых заболевших COVID-19 по датам',\n",
    "              color_continuous_scale= 'jet',text = 'Day_confirmed',\n",
    "             labels = {'Day_confirmed' : \"Новые заболевшие\",'Remaining_ill':'Текущие больные'})\n",
    "fig.add_trace(\n",
    "    go.Scatter(\n",
    "        name='14-дневная скользящая средняя',\n",
    "        x=X[mask].Date,\n",
    "        y=X[mask]['MA14_dayconfirmed'],\n",
    "        mode=\"lines\",\n",
    "        \n",
    "        line=go.scatter.Line(color=\"green\"),\n",
    "        showlegend=True)\n",
    ")\n",
    "fig.add_trace(\n",
    "    go.Scatter(\n",
    "        name = '7-дневная скользящая средняя',\n",
    "        x=X[mask]['Date'],\n",
    "        y=X[mask]['MA7_dayconfirmed'],\n",
    "        mode=\"lines\",\n",
    "        \n",
    "        line=go.scatter.Line(color=\"red\"),\n",
    "        showlegend=True)\n",
    ")\n",
    "fig.update_layout(\n",
    "    annotations=[\n",
    "#         dict(\n",
    "#             x='2020-04-13',\n",
    "#             y=1355,\n",
    "#             xref=\"x\",\n",
    "#             yref=\"y\",\n",
    "#             text=\"Введение<br>пропускной<br>системы в Москве\",\n",
    "#             showarrow=True,\n",
    "#             arrowhead=2,\n",
    "#             ax=0,\n",
    "#             ay=-60),\n",
    "#         dict(\n",
    "#             x='2020-06-09',\n",
    "#             y=1572,\n",
    "#             xref=\"x\",\n",
    "#             yref=\"y\",\n",
    "#             text=\"Отмена<br>пропускной<br>системы в Москве\",\n",
    "#             showarrow=True,\n",
    "#             arrowhead=2,\n",
    "#             ax=0,\n",
    "#             ay=-90),\n",
    "        dict(\n",
    "            x=0.5,\n",
    "            y=-0.15,\n",
    "            showarrow=False,\n",
    "            text=\"Данные: Яндекс\",\n",
    "            xref=\"paper\",\n",
    "            yref=\"paper\"),\n",
    "        \n",
    "                ],\n",
    "    \n",
    "    \n",
    "                  title_x = 0.5,\n",
    "                  title_y= 0.9,\n",
    "                  title_xanchor = \"center\",\n",
    "                  title_yanchor = \"bottom\", \n",
    "                  legend_x = 0.15,legend_y = 0.95,\n",
    "                  width = 990, height = 600,template = 'gridon',\n",
    "    \n",
    "    \n",
    "                  xaxis_title='',yaxis_title = ' '\n",
    ")\n",
    "\n",
    "\n",
    "fig.show()\n",
    "\n",
    "\n"
   ]
  },
  {
   "cell_type": "code",
   "execution_count": 183,
   "metadata": {},
   "outputs": [
    {
     "output_type": "display_data",
     "data": {
      "application/vnd.plotly.v1+json": {
       "config": {
        "plotlyServerURL": "https://plotly.com"
       },
       "data": [
        {
         "hoverinfo": "y",
         "marker": {
          "color": [
           0,
           0,
           0,
           0,
           0,
           0,
           0,
           0,
           0,
           0,
           0,
           0,
           0,
           0,
           0,
           2,
           -2,
           1,
           -1,
           0,
           1,
           -1,
           0,
           1,
           -1,
           1,
           -1,
           7,
           -3,
           -2,
           -2,
           23,
           -7,
           -3,
           -13,
           0,
           65,
           -3,
           -2,
           -25,
           -1,
           -4,
           -2,
           11,
           6,
           4,
           -7,
           -10,
           35,
           -28,
           -9,
           7,
           6,
           16,
           -3,
           -2,
           -13,
           -4,
           10,
           -1,
           -4,
           -7,
           2,
           -3,
           -7,
           -2,
           3,
           5,
           1,
           0,
           1,
           1,
           -4,
           0,
           2,
           4,
           5,
           6,
           -5,
           -4,
           -5,
           1,
           3,
           3,
           -3,
           8,
           -7,
           7,
           -2,
           21,
           -2,
           -6,
           4,
           -4,
           0,
           -2,
           -1,
           0,
           1,
           0,
           1,
           -2,
           -1,
           0,
           -5,
           0,
           -1,
           -4,
           -4,
           -5,
           0,
           2,
           -1,
           2,
           -1,
           -2,
           -1,
           1,
           -1,
           3,
           1,
           -1,
           0,
           -1,
           0,
           1,
           1,
           0,
           -1,
           -2,
           0,
           1,
           -1,
           0,
           -1,
           0,
           -1,
           -1,
           0,
           0,
           1,
           0,
           -1,
           -1,
           1,
           -1,
           0,
           1,
           -2,
           0,
           -1,
           1,
           0,
           -1,
           2,
           1,
           0,
           -1,
           1,
           0
          ],
          "colorbar": {
           "tickmode": "auto",
           "title": {
            "side": "top",
            "text": "Изменение"
           }
          },
          "colorscale": [
           [
            0,
            "rgb(0, 147, 146)"
           ],
           [
            0.16666666666666666,
            "rgb(57, 177, 133)"
           ],
           [
            0.3333333333333333,
            "rgb(156, 203, 134)"
           ],
           [
            0.5,
            "rgb(233, 226, 156)"
           ],
           [
            0.6666666666666666,
            "rgb(238, 180, 121)"
           ],
           [
            0.8333333333333334,
            "rgb(232, 132, 113)"
           ],
           [
            1,
            "rgb(207, 89, 126)"
           ]
          ]
         },
         "text": [
          0,
          0,
          0,
          0,
          0,
          0,
          0,
          0,
          0,
          0,
          0,
          0,
          0,
          0,
          0,
          2,
          -2,
          1,
          -1,
          0,
          1,
          -1,
          0,
          1,
          -1,
          1,
          -1,
          7,
          -3,
          -2,
          -2,
          23,
          -7,
          -3,
          -13,
          0,
          65,
          -3,
          -2,
          -25,
          -1,
          -4,
          -2,
          11,
          6,
          4,
          -7,
          -10,
          35,
          -28,
          -9,
          7,
          6,
          16,
          -3,
          -2,
          -13,
          -4,
          10,
          -1,
          -4,
          -7,
          2,
          -3,
          -7,
          -2,
          3,
          5,
          1,
          0,
          1,
          1,
          -4,
          0,
          2,
          4,
          5,
          6,
          -5,
          -4,
          -5,
          1,
          3,
          3,
          -3,
          8,
          -7,
          7,
          -2,
          21,
          -2,
          -6,
          4,
          -4,
          0,
          -2,
          -1,
          0,
          1,
          0,
          1,
          -2,
          -1,
          0,
          -5,
          0,
          -1,
          -4,
          -4,
          -5,
          0,
          2,
          -1,
          2,
          -1,
          -2,
          -1,
          1,
          -1,
          3,
          1,
          -1,
          0,
          -1,
          0,
          1,
          1,
          0,
          -1,
          -2,
          0,
          1,
          -1,
          0,
          -1,
          0,
          -1,
          -1,
          0,
          0,
          1,
          0,
          -1,
          -1,
          1,
          -1,
          0,
          1,
          -2,
          0,
          -1,
          1,
          0,
          -1,
          2,
          1,
          0,
          -1,
          1,
          0
         ],
         "textposition": "inside",
         "type": "bar",
         "x": [
          "2020-03-12",
          "2020-03-13",
          "2020-03-14",
          "2020-03-15",
          "2020-03-16",
          "2020-03-17",
          "2020-03-18",
          "2020-03-19",
          "2020-03-20",
          "2020-03-21",
          "2020-03-22",
          "2020-03-23",
          "2020-03-24",
          "2020-03-25",
          "2020-03-26",
          "2020-03-27",
          "2020-03-28",
          "2020-03-29",
          "2020-03-30",
          "2020-03-31",
          "2020-04-01",
          "2020-04-02",
          "2020-04-03",
          "2020-04-04",
          "2020-04-05",
          "2020-04-06",
          "2020-04-07",
          "2020-04-08",
          "2020-04-09",
          "2020-04-10",
          "2020-04-11",
          "2020-04-12",
          "2020-04-13",
          "2020-04-14",
          "2020-04-15",
          "2020-04-16",
          "2020-04-17",
          "2020-04-18",
          "2020-04-19",
          "2020-04-20",
          "2020-04-21",
          "2020-04-22",
          "2020-04-23",
          "2020-04-24",
          "2020-04-25",
          "2020-04-26",
          "2020-04-27",
          "2020-04-28",
          "2020-04-29",
          "2020-04-30",
          "2020-05-01",
          "2020-05-02",
          "2020-05-03",
          "2020-05-04",
          "2020-05-05",
          "2020-05-06",
          "2020-05-07",
          "2020-05-08",
          "2020-05-09",
          "2020-05-10",
          "2020-05-11",
          "2020-05-12",
          "2020-05-13",
          "2020-05-14",
          "2020-05-15",
          "2020-05-16",
          "2020-05-17",
          "2020-05-18",
          "2020-05-19",
          "2020-05-20",
          "2020-05-21",
          "2020-05-22",
          "2020-05-23",
          "2020-05-24",
          "2020-05-25",
          "2020-05-26",
          "2020-05-27",
          "2020-05-28",
          "2020-05-29",
          "2020-05-30",
          "2020-05-31",
          "2020-06-01",
          "2020-06-02",
          "2020-06-03",
          "2020-06-04",
          "2020-06-05",
          "2020-06-06",
          "2020-06-07",
          "2020-06-08",
          "2020-06-09",
          "2020-06-10",
          "2020-06-11",
          "2020-06-12",
          "2020-06-13",
          "2020-06-14",
          "2020-06-15",
          "2020-06-16",
          "2020-06-17",
          "2020-06-18",
          "2020-06-19",
          "2020-06-20",
          "2020-06-21",
          "2020-06-22",
          "2020-06-23",
          "2020-06-24",
          "2020-06-25",
          "2020-06-26",
          "2020-06-27",
          "2020-06-28",
          "2020-06-29",
          "2020-06-30",
          "2020-07-01",
          "2020-07-02",
          "2020-07-03",
          "2020-07-04",
          "2020-07-05",
          "2020-07-06",
          "2020-07-07",
          "2020-07-08",
          "2020-07-09",
          "2020-07-10",
          "2020-07-11",
          "2020-07-12",
          "2020-07-13",
          "2020-07-14",
          "2020-07-15",
          "2020-07-16",
          "2020-07-17",
          "2020-07-18",
          "2020-07-19",
          "2020-07-20",
          "2020-07-21",
          "2020-07-22",
          "2020-07-23",
          "2020-07-24",
          "2020-07-25",
          "2020-07-26",
          "2020-07-27",
          "2020-07-28",
          "2020-07-29",
          "2020-07-30",
          "2020-07-31",
          "2020-08-01",
          "2020-08-02",
          "2020-08-03",
          "2020-08-04",
          "2020-08-05",
          "2020-08-06",
          "2020-08-07",
          "2020-08-08",
          "2020-08-09",
          "2020-08-10",
          "2020-08-11",
          "2020-08-12",
          "2020-08-13",
          "2020-08-14",
          "2020-08-15",
          "2020-08-16",
          "2020-08-17",
          "2020-08-18"
         ],
         "y": [
          0,
          0,
          0,
          0,
          0,
          0,
          0,
          0,
          0,
          0,
          0,
          0,
          0,
          0,
          0,
          2,
          -2,
          1,
          -1,
          0,
          1,
          -1,
          0,
          1,
          -1,
          1,
          -1,
          7,
          -3,
          -2,
          -2,
          23,
          -7,
          -3,
          -13,
          0,
          65,
          -3,
          -2,
          -25,
          -1,
          -4,
          -2,
          11,
          6,
          4,
          -7,
          -10,
          35,
          -28,
          -9,
          7,
          6,
          16,
          -3,
          -2,
          -13,
          -4,
          10,
          -1,
          -4,
          -7,
          2,
          -3,
          -7,
          -2,
          3,
          5,
          1,
          0,
          1,
          1,
          -4,
          0,
          2,
          4,
          5,
          6,
          -5,
          -4,
          -5,
          1,
          3,
          3,
          -3,
          8,
          -7,
          7,
          -2,
          21,
          -2,
          -6,
          4,
          -4,
          0,
          -2,
          -1,
          0,
          1,
          0,
          1,
          -2,
          -1,
          0,
          -5,
          0,
          -1,
          -4,
          -4,
          -5,
          0,
          2,
          -1,
          2,
          -1,
          -2,
          -1,
          1,
          -1,
          3,
          1,
          -1,
          0,
          -1,
          0,
          1,
          1,
          0,
          -1,
          -2,
          0,
          1,
          -1,
          0,
          -1,
          0,
          -1,
          -1,
          0,
          0,
          1,
          0,
          -1,
          -1,
          1,
          -1,
          0,
          1,
          -2,
          0,
          -1,
          1,
          0,
          -1,
          2,
          1,
          0,
          -1,
          1,
          0
         ]
        }
       ],
       "layout": {
        "annotations": [
         {
          "showarrow": false,
          "text": "",
          "x": 0.5,
          "xref": "paper",
          "y": -0.15,
          "yref": "paper"
         }
        ],
        "height": 600,
        "legend": {
         "x": 0.05,
         "y": 0.98
        },
        "template": {
         "data": {
          "pie": [
           {
            "automargin": true,
            "type": "pie"
           }
          ]
         },
         "layout": {
          "xaxis": {
           "showgrid": true,
           "title": {
            "standoff": 15
           }
          },
          "yaxis": {
           "showgrid": true,
           "title": {
            "standoff": 15
           }
          }
         }
        },
        "title": {
         "text": "Мордовия: динамика новых заболевших COVID-19 по дням<br>(изменение относительно предыдущего дня)",
         "x": 0.5,
         "xanchor": "center",
         "y": 0.9,
         "yanchor": "bottom"
        },
        "width": 990,
        "xaxis": {
         "title": {
          "text": "Данные: Яндекс"
         }
        },
        "yaxis": {
         "title": {
          "text": " "
         }
        }
       }
      }
     },
     "metadata": {}
    }
   ],
   "source": [
    "mask = X.Region ==my_region\n",
    "#mask = (X.Date>datetime.date(2020,5,1))&(X.Region==my_region)\n",
    "#Y = X[mask]\n",
    "\n",
    "#Y['base'] = Y['Change_dayconf']*Y['Change_dayconf'].apply(lambda d:0 if d>0 else 1)\n",
    "#Y['Date']= pd.to_datetime(Y.Date)\n",
    "fig = go.Figure()\n",
    "fig.add_trace(\n",
    "              go.Bar(x = X[mask].Date,y=X[mask].Change_dayconf,text = X[mask]['Change_dayconf'],textposition = 'inside',hoverinfo='x+y',\n",
    "                \n",
    "                \n",
    "                 marker_color = X[mask]['Change_dayconf'],marker_colorscale = 'Temps',marker_colorbar ={'tickmode':'auto',\n",
    "                                    'title':{'text':'Изменение','side':'top'}}\n",
    "                    )   \n",
    "                )\n",
    "fig.update_layout(\n",
    "   annotations=[\n",
    "        \n",
    "        dict(x=0.5,y=-0.15,\n",
    "            showarrow=False,\n",
    "            text=\"\",\n",
    "            xref=\"paper\",\n",
    "            yref=\"paper\")],\n",
    "                  title=f'{my_region}: динамика новых заболевших COVID-19 по дням<br>(изменение относительно предыдущего дня)',\n",
    "                  title_x = 0.5,\n",
    "                  title_y= 0.9,\n",
    "                  title_xanchor = \"center\",\n",
    "                  title_yanchor = \"bottom\", \n",
    "                  legend_x = 0.05,legend_y = 0.98,\n",
    "                  width = 990, height = 600,template = 'gridon',\n",
    "    \n",
    "    \n",
    "                  xaxis_title='Данные: Яндекс',\n",
    "    yaxis_title = ' '\n",
    ")\n",
    "\n",
    "fig.show()\n",
    "\n",
    "\n",
    "\n",
    "\n"
   ]
  },
  {
   "cell_type": "code",
   "execution_count": 173,
   "metadata": {},
   "outputs": [
    {
     "output_type": "display_data",
     "data": {
      "application/vnd.plotly.v1+json": {
       "config": {
        "plotlyServerURL": "https://plotly.com"
       },
       "data": [
        {
         "alignmentgroup": "True",
         "hovertemplate": "Date=%{x}<br>Текущие больные=%{marker.color}<extra></extra>",
         "legendgroup": "",
         "marker": {
          "color": [
           0,
           0,
           0,
           0,
           0,
           0,
           0,
           0,
           0,
           0,
           0,
           0,
           0,
           0,
           0,
           2,
           2,
           3,
           3,
           3,
           4,
           4,
           4,
           5,
           3,
           4,
           3,
           10,
           14,
           16,
           15,
           38,
           54,
           67,
           66,
           65,
           130,
           192,
           252,
           287,
           316,
           345,
           371,
           404,
           449,
           480,
           522,
           554,
           607,
           623,
           639,
           668,
           708,
           765,
           797,
           832,
           867,
           887,
           897,
           924,
           945,
           980,
           1001,
           975,
           964,
           982,
           955,
           982,
           1000,
           1005,
           1025,
           1044,
           1037,
           1058,
           1092,
           1119,
           1147,
           1128,
           1070,
           1071,
           1084,
           1092,
           1059,
           1044,
           1021,
           1019,
           1009,
           1044,
           1057,
           1087,
           1117,
           1101,
           1133,
           1167,
           1105,
           1160,
           1005,
           1043,
           1041,
           1039,
           1091,
           1105,
           1155,
           1155,
           1112,
           1139,
           1132,
           1152,
           1179,
           1175,
           1168,
           1154,
           1137,
           1108,
           1118,
           1142,
           1147,
           1124,
           1094,
           1084,
           1067,
           1056,
           1059,
           1081,
           1073,
           1062,
           1059,
           1058,
           1069,
           1081,
           1099,
           1079,
           1073,
           1063,
           1056,
           1049,
           1058,
           1057,
           1049,
           1042,
           1034,
           1027,
           1010,
           1037,
           1045,
           1036,
           1035,
           1035,
           1044,
           1059,
           1059,
           1063,
           1077,
           1082,
           1082,
           1073,
           1087,
           1068,
           1076,
           1093
          ],
          "coloraxis": "coloraxis"
         },
         "name": "",
         "offsetgroup": "",
         "orientation": "v",
         "showlegend": false,
         "text": [
          0,
          0,
          0,
          0,
          0,
          0,
          0,
          0,
          0,
          0,
          0,
          0,
          0,
          0,
          0,
          2,
          2,
          3,
          3,
          3,
          4,
          4,
          4,
          5,
          3,
          4,
          3,
          10,
          14,
          16,
          15,
          38,
          54,
          67,
          66,
          65,
          130,
          192,
          252,
          287,
          316,
          345,
          371,
          404,
          449,
          480,
          522,
          554,
          607,
          623,
          639,
          668,
          708,
          765,
          797,
          832,
          867,
          887,
          897,
          924,
          945,
          980,
          1001,
          975,
          964,
          982,
          955,
          982,
          1000,
          1005,
          1025,
          1044,
          1037,
          1058,
          1092,
          1119,
          1147,
          1128,
          1070,
          1071,
          1084,
          1092,
          1059,
          1044,
          1021,
          1019,
          1009,
          1044,
          1057,
          1087,
          1117,
          1101,
          1133,
          1167,
          1105,
          1160,
          1005,
          1043,
          1041,
          1039,
          1091,
          1105,
          1155,
          1155,
          1112,
          1139,
          1132,
          1152,
          1179,
          1175,
          1168,
          1154,
          1137,
          1108,
          1118,
          1142,
          1147,
          1124,
          1094,
          1084,
          1067,
          1056,
          1059,
          1081,
          1073,
          1062,
          1059,
          1058,
          1069,
          1081,
          1099,
          1079,
          1073,
          1063,
          1056,
          1049,
          1058,
          1057,
          1049,
          1042,
          1034,
          1027,
          1010,
          1037,
          1045,
          1036,
          1035,
          1035,
          1044,
          1059,
          1059,
          1063,
          1077,
          1082,
          1082,
          1073,
          1087,
          1068,
          1076,
          1093
         ],
         "textposition": "auto",
         "type": "bar",
         "x": [
          "2020-03-12",
          "2020-03-13",
          "2020-03-14",
          "2020-03-15",
          "2020-03-16",
          "2020-03-17",
          "2020-03-18",
          "2020-03-19",
          "2020-03-20",
          "2020-03-21",
          "2020-03-22",
          "2020-03-23",
          "2020-03-24",
          "2020-03-25",
          "2020-03-26",
          "2020-03-27",
          "2020-03-28",
          "2020-03-29",
          "2020-03-30",
          "2020-03-31",
          "2020-04-01",
          "2020-04-02",
          "2020-04-03",
          "2020-04-04",
          "2020-04-05",
          "2020-04-06",
          "2020-04-07",
          "2020-04-08",
          "2020-04-09",
          "2020-04-10",
          "2020-04-11",
          "2020-04-12",
          "2020-04-13",
          "2020-04-14",
          "2020-04-15",
          "2020-04-16",
          "2020-04-17",
          "2020-04-18",
          "2020-04-19",
          "2020-04-20",
          "2020-04-21",
          "2020-04-22",
          "2020-04-23",
          "2020-04-24",
          "2020-04-25",
          "2020-04-26",
          "2020-04-27",
          "2020-04-28",
          "2020-04-29",
          "2020-04-30",
          "2020-05-01",
          "2020-05-02",
          "2020-05-03",
          "2020-05-04",
          "2020-05-05",
          "2020-05-06",
          "2020-05-07",
          "2020-05-08",
          "2020-05-09",
          "2020-05-10",
          "2020-05-11",
          "2020-05-12",
          "2020-05-13",
          "2020-05-14",
          "2020-05-15",
          "2020-05-16",
          "2020-05-17",
          "2020-05-18",
          "2020-05-19",
          "2020-05-20",
          "2020-05-21",
          "2020-05-22",
          "2020-05-23",
          "2020-05-24",
          "2020-05-25",
          "2020-05-26",
          "2020-05-27",
          "2020-05-28",
          "2020-05-29",
          "2020-05-30",
          "2020-05-31",
          "2020-06-01",
          "2020-06-02",
          "2020-06-03",
          "2020-06-04",
          "2020-06-05",
          "2020-06-06",
          "2020-06-07",
          "2020-06-08",
          "2020-06-09",
          "2020-06-10",
          "2020-06-11",
          "2020-06-12",
          "2020-06-13",
          "2020-06-14",
          "2020-06-15",
          "2020-06-16",
          "2020-06-17",
          "2020-06-18",
          "2020-06-19",
          "2020-06-20",
          "2020-06-21",
          "2020-06-22",
          "2020-06-23",
          "2020-06-24",
          "2020-06-25",
          "2020-06-26",
          "2020-06-27",
          "2020-06-28",
          "2020-06-29",
          "2020-06-30",
          "2020-07-01",
          "2020-07-02",
          "2020-07-03",
          "2020-07-04",
          "2020-07-05",
          "2020-07-06",
          "2020-07-07",
          "2020-07-08",
          "2020-07-09",
          "2020-07-10",
          "2020-07-11",
          "2020-07-12",
          "2020-07-13",
          "2020-07-14",
          "2020-07-15",
          "2020-07-16",
          "2020-07-17",
          "2020-07-18",
          "2020-07-19",
          "2020-07-20",
          "2020-07-21",
          "2020-07-22",
          "2020-07-23",
          "2020-07-24",
          "2020-07-25",
          "2020-07-26",
          "2020-07-27",
          "2020-07-28",
          "2020-07-29",
          "2020-07-30",
          "2020-07-31",
          "2020-08-01",
          "2020-08-02",
          "2020-08-03",
          "2020-08-04",
          "2020-08-05",
          "2020-08-06",
          "2020-08-07",
          "2020-08-08",
          "2020-08-09",
          "2020-08-10",
          "2020-08-11",
          "2020-08-12",
          "2020-08-13",
          "2020-08-14",
          "2020-08-15",
          "2020-08-16",
          "2020-08-17",
          "2020-08-18"
         ],
         "xaxis": "x",
         "y": [
          0,
          0,
          0,
          0,
          0,
          0,
          0,
          0,
          0,
          0,
          0,
          0,
          0,
          0,
          0,
          2,
          2,
          3,
          3,
          3,
          4,
          4,
          4,
          5,
          3,
          4,
          3,
          10,
          14,
          16,
          15,
          38,
          54,
          67,
          66,
          65,
          130,
          192,
          252,
          287,
          316,
          345,
          371,
          404,
          449,
          480,
          522,
          554,
          607,
          623,
          639,
          668,
          708,
          765,
          797,
          832,
          867,
          887,
          897,
          924,
          945,
          980,
          1001,
          975,
          964,
          982,
          955,
          982,
          1000,
          1005,
          1025,
          1044,
          1037,
          1058,
          1092,
          1119,
          1147,
          1128,
          1070,
          1071,
          1084,
          1092,
          1059,
          1044,
          1021,
          1019,
          1009,
          1044,
          1057,
          1087,
          1117,
          1101,
          1133,
          1167,
          1105,
          1160,
          1005,
          1043,
          1041,
          1039,
          1091,
          1105,
          1155,
          1155,
          1112,
          1139,
          1132,
          1152,
          1179,
          1175,
          1168,
          1154,
          1137,
          1108,
          1118,
          1142,
          1147,
          1124,
          1094,
          1084,
          1067,
          1056,
          1059,
          1081,
          1073,
          1062,
          1059,
          1058,
          1069,
          1081,
          1099,
          1079,
          1073,
          1063,
          1056,
          1049,
          1058,
          1057,
          1049,
          1042,
          1034,
          1027,
          1010,
          1037,
          1045,
          1036,
          1035,
          1035,
          1044,
          1059,
          1059,
          1063,
          1077,
          1082,
          1082,
          1073,
          1087,
          1068,
          1076,
          1093
         ],
         "yaxis": "y"
        },
        {
         "line": {
          "color": "green"
         },
         "mode": "lines",
         "name": "14-дневная скользящая средняя",
         "showlegend": true,
         "type": "scatter",
         "x": [
          "2020-03-12",
          "2020-03-13",
          "2020-03-14",
          "2020-03-15",
          "2020-03-16",
          "2020-03-17",
          "2020-03-18",
          "2020-03-19",
          "2020-03-20",
          "2020-03-21",
          "2020-03-22",
          "2020-03-23",
          "2020-03-24",
          "2020-03-25",
          "2020-03-26",
          "2020-03-27",
          "2020-03-28",
          "2020-03-29",
          "2020-03-30",
          "2020-03-31",
          "2020-04-01",
          "2020-04-02",
          "2020-04-03",
          "2020-04-04",
          "2020-04-05",
          "2020-04-06",
          "2020-04-07",
          "2020-04-08",
          "2020-04-09",
          "2020-04-10",
          "2020-04-11",
          "2020-04-12",
          "2020-04-13",
          "2020-04-14",
          "2020-04-15",
          "2020-04-16",
          "2020-04-17",
          "2020-04-18",
          "2020-04-19",
          "2020-04-20",
          "2020-04-21",
          "2020-04-22",
          "2020-04-23",
          "2020-04-24",
          "2020-04-25",
          "2020-04-26",
          "2020-04-27",
          "2020-04-28",
          "2020-04-29",
          "2020-04-30",
          "2020-05-01",
          "2020-05-02",
          "2020-05-03",
          "2020-05-04",
          "2020-05-05",
          "2020-05-06",
          "2020-05-07",
          "2020-05-08",
          "2020-05-09",
          "2020-05-10",
          "2020-05-11",
          "2020-05-12",
          "2020-05-13",
          "2020-05-14",
          "2020-05-15",
          "2020-05-16",
          "2020-05-17",
          "2020-05-18",
          "2020-05-19",
          "2020-05-20",
          "2020-05-21",
          "2020-05-22",
          "2020-05-23",
          "2020-05-24",
          "2020-05-25",
          "2020-05-26",
          "2020-05-27",
          "2020-05-28",
          "2020-05-29",
          "2020-05-30",
          "2020-05-31",
          "2020-06-01",
          "2020-06-02",
          "2020-06-03",
          "2020-06-04",
          "2020-06-05",
          "2020-06-06",
          "2020-06-07",
          "2020-06-08",
          "2020-06-09",
          "2020-06-10",
          "2020-06-11",
          "2020-06-12",
          "2020-06-13",
          "2020-06-14",
          "2020-06-15",
          "2020-06-16",
          "2020-06-17",
          "2020-06-18",
          "2020-06-19",
          "2020-06-20",
          "2020-06-21",
          "2020-06-22",
          "2020-06-23",
          "2020-06-24",
          "2020-06-25",
          "2020-06-26",
          "2020-06-27",
          "2020-06-28",
          "2020-06-29",
          "2020-06-30",
          "2020-07-01",
          "2020-07-02",
          "2020-07-03",
          "2020-07-04",
          "2020-07-05",
          "2020-07-06",
          "2020-07-07",
          "2020-07-08",
          "2020-07-09",
          "2020-07-10",
          "2020-07-11",
          "2020-07-12",
          "2020-07-13",
          "2020-07-14",
          "2020-07-15",
          "2020-07-16",
          "2020-07-17",
          "2020-07-18",
          "2020-07-19",
          "2020-07-20",
          "2020-07-21",
          "2020-07-22",
          "2020-07-23",
          "2020-07-24",
          "2020-07-25",
          "2020-07-26",
          "2020-07-27",
          "2020-07-28",
          "2020-07-29",
          "2020-07-30",
          "2020-07-31",
          "2020-08-01",
          "2020-08-02",
          "2020-08-03",
          "2020-08-04",
          "2020-08-05",
          "2020-08-06",
          "2020-08-07",
          "2020-08-08",
          "2020-08-09",
          "2020-08-10",
          "2020-08-11",
          "2020-08-12",
          "2020-08-13",
          "2020-08-14",
          "2020-08-15",
          "2020-08-16",
          "2020-08-17",
          "2020-08-18"
         ],
         "y": [
          null,
          null,
          null,
          null,
          null,
          null,
          null,
          null,
          null,
          null,
          null,
          null,
          null,
          0,
          0,
          0.14285714285714285,
          0.2857142857142857,
          0.5,
          0.7142857142857143,
          0.9285714285714286,
          1.2142857142857142,
          1.5,
          1.7857142857142858,
          2.142857142857143,
          2.357142857142857,
          2.642857142857143,
          2.8571428571428568,
          3.571428571428572,
          4.571428571428571,
          5.571428571428571,
          6.5,
          9,
          12.642857142857142,
          17.214285714285715,
          21.642857142857146,
          26,
          35,
          48.35714285714285,
          66.14285714285714,
          86.35714285714286,
          108.71428571428572,
          132.64285714285714,
          158.14285714285714,
          185.85714285714286,
          216.85714285714286,
          248.42857142857144,
          281.85714285714283,
          316.64285714285717,
          355.28571428571433,
          395.1428571428572,
          431.5,
          465.5,
          498.07142857142856,
          532.2142857142857,
          566.5714285714286,
          601.3571428571429,
          636.7857142857142,
          671.2857142857142,
          703.2857142857142,
          735,
          765.2142857142858,
          795.6428571428571,
          823.7857142857142,
          848.9285714285713,
          872.1428571428571,
          894.5714285714287,
          912.2142857142856,
          927.7142857142856,
          942.2142857142856,
          954.5714285714287,
          965.8571428571428,
          977.0714285714287,
          987.0714285714287,
          996.6428571428572,
          1007.1428571428572,
          1017.0714285714287,
          1027.5,
          1038.4285714285713,
          1046,
          1052.357142857143,
          1061.5714285714287,
          1069.4285714285713,
          1073.642857142857,
          1076.4285714285713,
          1076.142857142857,
          1074.357142857143,
          1072.357142857143,
          1071.357142857143,
          1068.857142857143,
          1066.5714285714287,
          1064.4285714285713,
          1062.5,
          1067,
          1073.857142857143,
          1075.357142857143,
          1080.2142857142858,
          1076.357142857143,
          1076.2857142857142,
          1077.7142857142858,
          1079.142857142857,
          1085,
          1089.357142857143,
          1096.357142857143,
          1101.2142857142858,
          1100.857142857143,
          1103.5714285714287,
          1103.5,
          1102.4285714285713,
          1107.7142857142858,
          1108.7857142857142,
          1120.4285714285713,
          1128.357142857143,
          1135.2142857142858,
          1140.142857142857,
          1142.0714285714287,
          1144.7142857142858,
          1144.142857142857,
          1141.9285714285713,
          1140.642857142857,
          1136.7142857142858,
          1132.0714285714287,
          1125.2142857142858,
          1116.642857142857,
          1109.9285714285713,
          1103.142857142857,
          1096.5714285714287,
          1091,
          1087.4285714285713,
          1083.9285714285713,
          1079.5714285714287,
          1076.142857142857,
          1072.9285714285713,
          1071.4285714285713,
          1069.9285714285713,
          1069.142857142857,
          1068.642857142857,
          1068.5714285714287,
          1066.857142857143,
          1065.142857142857,
          1063.7142857142858,
          1061.9285714285713,
          1059.7142857142858,
          1055.5,
          1052.357142857143,
          1048.5,
          1045.4285714285713,
          1042.7142857142858,
          1040.7142857142858,
          1039.857142857143,
          1040.5714285714287,
          1040.642857142857,
          1041.0714285714287,
          1043.0714285714287,
          1045.9285714285713,
          1049.357142857143,
          1052.642857142857,
          1058.142857142857,
          1060.357142857143,
          1062.5714285714287,
          1066.642857142857
         ]
        },
        {
         "line": {
          "color": "red"
         },
         "mode": "lines",
         "name": "7-дневная скользящая средняя",
         "showlegend": true,
         "type": "scatter",
         "x": [
          "2020-03-12",
          "2020-03-13",
          "2020-03-14",
          "2020-03-15",
          "2020-03-16",
          "2020-03-17",
          "2020-03-18",
          "2020-03-19",
          "2020-03-20",
          "2020-03-21",
          "2020-03-22",
          "2020-03-23",
          "2020-03-24",
          "2020-03-25",
          "2020-03-26",
          "2020-03-27",
          "2020-03-28",
          "2020-03-29",
          "2020-03-30",
          "2020-03-31",
          "2020-04-01",
          "2020-04-02",
          "2020-04-03",
          "2020-04-04",
          "2020-04-05",
          "2020-04-06",
          "2020-04-07",
          "2020-04-08",
          "2020-04-09",
          "2020-04-10",
          "2020-04-11",
          "2020-04-12",
          "2020-04-13",
          "2020-04-14",
          "2020-04-15",
          "2020-04-16",
          "2020-04-17",
          "2020-04-18",
          "2020-04-19",
          "2020-04-20",
          "2020-04-21",
          "2020-04-22",
          "2020-04-23",
          "2020-04-24",
          "2020-04-25",
          "2020-04-26",
          "2020-04-27",
          "2020-04-28",
          "2020-04-29",
          "2020-04-30",
          "2020-05-01",
          "2020-05-02",
          "2020-05-03",
          "2020-05-04",
          "2020-05-05",
          "2020-05-06",
          "2020-05-07",
          "2020-05-08",
          "2020-05-09",
          "2020-05-10",
          "2020-05-11",
          "2020-05-12",
          "2020-05-13",
          "2020-05-14",
          "2020-05-15",
          "2020-05-16",
          "2020-05-17",
          "2020-05-18",
          "2020-05-19",
          "2020-05-20",
          "2020-05-21",
          "2020-05-22",
          "2020-05-23",
          "2020-05-24",
          "2020-05-25",
          "2020-05-26",
          "2020-05-27",
          "2020-05-28",
          "2020-05-29",
          "2020-05-30",
          "2020-05-31",
          "2020-06-01",
          "2020-06-02",
          "2020-06-03",
          "2020-06-04",
          "2020-06-05",
          "2020-06-06",
          "2020-06-07",
          "2020-06-08",
          "2020-06-09",
          "2020-06-10",
          "2020-06-11",
          "2020-06-12",
          "2020-06-13",
          "2020-06-14",
          "2020-06-15",
          "2020-06-16",
          "2020-06-17",
          "2020-06-18",
          "2020-06-19",
          "2020-06-20",
          "2020-06-21",
          "2020-06-22",
          "2020-06-23",
          "2020-06-24",
          "2020-06-25",
          "2020-06-26",
          "2020-06-27",
          "2020-06-28",
          "2020-06-29",
          "2020-06-30",
          "2020-07-01",
          "2020-07-02",
          "2020-07-03",
          "2020-07-04",
          "2020-07-05",
          "2020-07-06",
          "2020-07-07",
          "2020-07-08",
          "2020-07-09",
          "2020-07-10",
          "2020-07-11",
          "2020-07-12",
          "2020-07-13",
          "2020-07-14",
          "2020-07-15",
          "2020-07-16",
          "2020-07-17",
          "2020-07-18",
          "2020-07-19",
          "2020-07-20",
          "2020-07-21",
          "2020-07-22",
          "2020-07-23",
          "2020-07-24",
          "2020-07-25",
          "2020-07-26",
          "2020-07-27",
          "2020-07-28",
          "2020-07-29",
          "2020-07-30",
          "2020-07-31",
          "2020-08-01",
          "2020-08-02",
          "2020-08-03",
          "2020-08-04",
          "2020-08-05",
          "2020-08-06",
          "2020-08-07",
          "2020-08-08",
          "2020-08-09",
          "2020-08-10",
          "2020-08-11",
          "2020-08-12",
          "2020-08-13",
          "2020-08-14",
          "2020-08-15",
          "2020-08-16",
          "2020-08-17",
          "2020-08-18"
         ],
         "y": [
          null,
          null,
          null,
          null,
          null,
          null,
          0,
          0,
          0,
          0,
          0,
          0,
          0,
          0,
          0,
          0.2857142857142857,
          0.5714285714285714,
          1,
          1.4285714285714286,
          1.8571428571428568,
          2.4285714285714284,
          3,
          3.2857142857142856,
          3.7142857142857135,
          3.7142857142857135,
          3.8571428571428568,
          3.8571428571428568,
          4.714285714285714,
          6.142857142857142,
          7.857142857142858,
          9.285714285714286,
          14.285714285714285,
          21.428571428571427,
          30.57142857142857,
          38.57142857142857,
          45.85714285714285,
          62.14285714285714,
          87.42857142857143,
          118,
          151.28571428571428,
          186.85714285714286,
          226.7142857142857,
          270.42857142857144,
          309.57142857142856,
          346.28571428571433,
          378.8571428571428,
          412.4285714285714,
          446.4285714285714,
          483.8571428571428,
          519.8571428571429,
          553.4285714285714,
          584.7142857142858,
          617.2857142857142,
          652,
          686.7142857142858,
          718.8571428571429,
          753.7142857142858,
          789.1428571428571,
          821.8571428571429,
          852.7142857142858,
          878.4285714285713,
          904.5714285714287,
          928.7142857142856,
          944.1428571428572,
          955.1428571428572,
          967.2857142857144,
          971.7142857142856,
          977,
          979.8571428571428,
          980.4285714285713,
          987.5714285714287,
          999,
          1006.8571428571428,
          1021.5714285714287,
          1037.2857142857142,
          1054.2857142857142,
          1074.5714285714287,
          1089.2857142857142,
          1093,
          1097.857142857143,
          1101.5714285714287,
          1101.5714285714287,
          1093,
          1078.2857142857142,
          1063,
          1055.7142857142858,
          1046.857142857143,
          1041.142857142857,
          1036.142857142857,
          1040.142857142857,
          1050.5714285714287,
          1062,
          1078.2857142857142,
          1100.857142857143,
          1109.5714285714287,
          1124.2857142857142,
          1112.5714285714287,
          1102,
          1093.4285714285713,
          1080,
          1069.142857142857,
          1069.142857142857,
          1068.4285714285713,
          1089.857142857143,
          1099.7142857142858,
          1113.7142857142858,
          1127,
          1135.7142857142858,
          1146.2857142857142,
          1149.142857142857,
          1151,
          1157,
          1156.7142857142858,
          1153.2857142857142,
          1148.4285714285713,
          1143.142857142857,
          1139.142857142857,
          1132.857142857143,
          1124.2857142857142,
          1116.7142857142858,
          1110.857142857143,
          1102,
          1090.142857142857,
          1080.7142857142858,
          1073.4285714285713,
          1068.857142857143,
          1065.2857142857142,
          1064,
          1065.857142857143,
          1069,
          1071.5714285714287,
          1072.4285714285713,
          1074,
          1074.5714285714287,
          1074.2857142857142,
          1071.4285714285713,
          1068.142857142857,
          1062.142857142857,
          1057.857142857143,
          1053.4285714285713,
          1049.2857142857142,
          1045.142857142857,
          1039.5714285714287,
          1036.5714285714287,
          1034.857142857143,
          1033,
          1032,
          1032.142857142857,
          1034.5714285714287,
          1041.5714285714287,
          1044.7142857142858,
          1047.2857142857142,
          1053.142857142857,
          1059.857142857143,
          1066.5714285714287,
          1070.7142857142858,
          1074.7142857142858,
          1076,
          1077.857142857143,
          1080.142857142857
         ]
        }
       ],
       "layout": {
        "annotations": [
         {
          "showarrow": false,
          "text": "",
          "x": 0.5,
          "xref": "paper",
          "y": -0.15,
          "yref": "paper"
         }
        ],
        "barmode": "relative",
        "coloraxis": {
         "colorbar": {
          "title": {
           "text": "Текущие больные"
          }
         },
         "colorscale": [
          [
           0,
           "rgb(254, 245, 244)"
          ],
          [
           0.09090909090909091,
           "rgb(222, 224, 210)"
          ],
          [
           0.18181818181818182,
           "rgb(189, 206, 181)"
          ],
          [
           0.2727272727272727,
           "rgb(153, 189, 156)"
          ],
          [
           0.36363636363636365,
           "rgb(110, 173, 138)"
          ],
          [
           0.45454545454545453,
           "rgb(65, 157, 129)"
          ],
          [
           0.5454545454545454,
           "rgb(25, 137, 125)"
          ],
          [
           0.6363636363636364,
           "rgb(18, 116, 117)"
          ],
          [
           0.7272727272727273,
           "rgb(25, 94, 106)"
          ],
          [
           0.8181818181818182,
           "rgb(28, 72, 93)"
          ],
          [
           0.9090909090909091,
           "rgb(25, 51, 80)"
          ],
          [
           1,
           "rgb(20, 29, 67)"
          ]
         ]
        },
        "height": 600,
        "legend": {
         "tracegroupgap": 0,
         "x": 0.05,
         "y": 0.98
        },
        "template": {
         "data": {
          "pie": [
           {
            "automargin": true,
            "type": "pie"
           }
          ]
         },
         "layout": {
          "xaxis": {
           "showgrid": true,
           "title": {
            "standoff": 15
           }
          },
          "yaxis": {
           "showgrid": true,
           "title": {
            "standoff": 15
           }
          }
         }
        },
        "title": {
         "text": "Мордовия: график количества текущих больных COVID-19 по датам",
         "x": 0.5,
         "xanchor": "center",
         "y": 0.9,
         "yanchor": "bottom"
        },
        "width": 990,
        "xaxis": {
         "anchor": "y",
         "domain": [
          0,
          1
         ],
         "title": {
          "text": "Текущие больные = количество выявленных - количество выздоровевших - количество умерших<br>Данные: Яндекс"
         }
        },
        "yaxis": {
         "anchor": "x",
         "domain": [
          0,
          1
         ],
         "title": {
          "text": " "
         }
        }
       }
      }
     },
     "metadata": {}
    }
   ],
   "source": [
    "mask = X.Region ==my_region\n",
    "#mask = (X.Date>'2020-05-01')&(X.Region.isin(regions_towatch))\n",
    "\n",
    "fig = px.bar(X[mask], x='Date', y=\"Remaining_ill\",color ='Remaining_ill',\n",
    "             title=f'{my_region}: '+'график количества текущих больных COVID-19 по датам',\n",
    "              color_continuous_scale= 'tempo',text = 'Remaining_ill',\n",
    "            labels = {'Day_confirmed' : \"Новые заболевшие\",'Remaining_ill':'Текущие больные'})\n",
    "fig.add_trace(\n",
    "    go.Scatter(\n",
    "        name='14-дневная скользящая средняя',\n",
    "        x=X[mask].Date,\n",
    "        y=X[mask]['MA14_remaining_ill'],\n",
    "        mode=\"lines\",\n",
    "        \n",
    "        line=go.scatter.Line(color=\"green\"),\n",
    "        showlegend=True)\n",
    ")\n",
    "\n",
    "fig.add_trace(\n",
    "    go.Scatter(\n",
    "        name = '7-дневная скользящая средняя',\n",
    "        x=X[mask].Date,\n",
    "        y=X[mask]['MA7_remaining_ill'],\n",
    "        mode=\"lines\",\n",
    "        \n",
    "        line=go.scatter.Line(color=\"red\"),\n",
    "        showlegend=True)\n",
    ")\n",
    "fig.update_layout(\n",
    "    annotations=[\n",
    "#         dict(\n",
    "#             x='2020-04-13',\n",
    "#             y=10594,\n",
    "#             xref=\"x\",\n",
    "#             yref=\"y\",\n",
    "#             text=\"Введение<br>пропускной<br>системы в Москве\",\n",
    "#             showarrow=True,\n",
    "#             arrowhead=2,\n",
    "#             ax=0,\n",
    "#             ay=-60),\n",
    "#         dict(\n",
    "#             x='2020-06-09',\n",
    "#             y=85824,\n",
    "#             xref=\"x\",\n",
    "#             yref=\"y\",\n",
    "#             text=\"Отмена<br>пропускной<br>системы в Москве\",\n",
    "#             showarrow=True,\n",
    "#             arrowhead=2,\n",
    "#             ax=0,\n",
    "#             ay=-60),\n",
    "        \n",
    "        dict(x=0.5,y=-0.15,\n",
    "            showarrow=False,\n",
    "            text=\"\",\n",
    "            xref=\"paper\",\n",
    "            yref=\"paper\")],\n",
    "                  title_x = 0.5,\n",
    "                  title_y= 0.9,\n",
    "                  title_xanchor = \"center\",\n",
    "                  title_yanchor = \"bottom\", \n",
    "                  legend_x = 0.05,legend_y = 0.98,\n",
    "                  width = 990, height = 600,template = 'gridon',\n",
    "    \n",
    "    \n",
    "                  xaxis_title='Текущие больные = количество выявленных - количество выздоровевших - количество умерших'+\n",
    "                                '<br>Данные: Яндекс',\n",
    "    yaxis_title = ' '\n",
    ")\n",
    "\n",
    "\n",
    "fig.show()\n",
    "\n",
    "\n",
    "\n"
   ]
  },
  {
   "cell_type": "code",
   "execution_count": 184,
   "metadata": {},
   "outputs": [
    {
     "output_type": "display_data",
     "data": {
      "application/vnd.plotly.v1+json": {
       "config": {
        "plotlyServerURL": "https://plotly.com"
       },
       "data": [
        {
         "hoverinfo": "y",
         "marker": {
          "color": [
           0,
           0,
           0,
           0,
           0,
           0,
           0,
           0,
           0,
           0,
           0,
           0,
           0,
           0,
           0,
           2,
           0,
           1,
           0,
           0,
           1,
           0,
           0,
           1,
           -2,
           1,
           -1,
           7,
           4,
           2,
           -1,
           23,
           16,
           13,
           -1,
           -1,
           65,
           62,
           60,
           35,
           29,
           29,
           26,
           33,
           45,
           31,
           42,
           32,
           53,
           16,
           16,
           29,
           40,
           57,
           32,
           35,
           35,
           20,
           10,
           27,
           21,
           35,
           21,
           -26,
           -11,
           18,
           -27,
           27,
           18,
           5,
           20,
           19,
           -7,
           21,
           34,
           27,
           28,
           -19,
           -58,
           1,
           13,
           8,
           -33,
           -15,
           -23,
           -2,
           -10,
           35,
           13,
           30,
           30,
           -16,
           32,
           34,
           -62,
           55,
           -155,
           38,
           -2,
           -2,
           52,
           14,
           50,
           0,
           -43,
           27,
           -7,
           20,
           27,
           -4,
           -7,
           -14,
           -17,
           -29,
           10,
           24,
           5,
           -23,
           -30,
           -10,
           -17,
           -11,
           3,
           22,
           -8,
           -11,
           -3,
           -1,
           11,
           12,
           18,
           -20,
           -6,
           -10,
           -7,
           -7,
           9,
           -1,
           -8,
           -7,
           -8,
           -7,
           -17,
           27,
           8,
           -9,
           -1,
           0,
           9,
           15,
           0,
           4,
           14,
           5,
           0,
           -9,
           14,
           -19,
           8,
           17
          ],
          "colorbar": {
           "tickmode": "auto",
           "title": {
            "side": "top",
            "text": "Изменение"
           }
          },
          "colorscale": [
           [
            0,
            "rgb(0, 147, 146)"
           ],
           [
            0.16666666666666666,
            "rgb(57, 177, 133)"
           ],
           [
            0.3333333333333333,
            "rgb(156, 203, 134)"
           ],
           [
            0.5,
            "rgb(233, 226, 156)"
           ],
           [
            0.6666666666666666,
            "rgb(238, 180, 121)"
           ],
           [
            0.8333333333333334,
            "rgb(232, 132, 113)"
           ],
           [
            1,
            "rgb(207, 89, 126)"
           ]
          ]
         },
         "text": [
          0,
          0,
          0,
          0,
          0,
          0,
          0,
          0,
          0,
          0,
          0,
          0,
          0,
          0,
          0,
          2,
          0,
          1,
          0,
          0,
          1,
          0,
          0,
          1,
          -2,
          1,
          -1,
          7,
          4,
          2,
          -1,
          23,
          16,
          13,
          -1,
          -1,
          65,
          62,
          60,
          35,
          29,
          29,
          26,
          33,
          45,
          31,
          42,
          32,
          53,
          16,
          16,
          29,
          40,
          57,
          32,
          35,
          35,
          20,
          10,
          27,
          21,
          35,
          21,
          -26,
          -11,
          18,
          -27,
          27,
          18,
          5,
          20,
          19,
          -7,
          21,
          34,
          27,
          28,
          -19,
          -58,
          1,
          13,
          8,
          -33,
          -15,
          -23,
          -2,
          -10,
          35,
          13,
          30,
          30,
          -16,
          32,
          34,
          -62,
          55,
          -155,
          38,
          -2,
          -2,
          52,
          14,
          50,
          0,
          -43,
          27,
          -7,
          20,
          27,
          -4,
          -7,
          -14,
          -17,
          -29,
          10,
          24,
          5,
          -23,
          -30,
          -10,
          -17,
          -11,
          3,
          22,
          -8,
          -11,
          -3,
          -1,
          11,
          12,
          18,
          -20,
          -6,
          -10,
          -7,
          -7,
          9,
          -1,
          -8,
          -7,
          -8,
          -7,
          -17,
          27,
          8,
          -9,
          -1,
          0,
          9,
          15,
          0,
          4,
          14,
          5,
          0,
          -9,
          14,
          -19,
          8,
          17
         ],
         "textposition": "inside",
         "type": "bar",
         "x": [
          "2020-03-12T00:00:00",
          "2020-03-13T00:00:00",
          "2020-03-14T00:00:00",
          "2020-03-15T00:00:00",
          "2020-03-16T00:00:00",
          "2020-03-17T00:00:00",
          "2020-03-18T00:00:00",
          "2020-03-19T00:00:00",
          "2020-03-20T00:00:00",
          "2020-03-21T00:00:00",
          "2020-03-22T00:00:00",
          "2020-03-23T00:00:00",
          "2020-03-24T00:00:00",
          "2020-03-25T00:00:00",
          "2020-03-26T00:00:00",
          "2020-03-27T00:00:00",
          "2020-03-28T00:00:00",
          "2020-03-29T00:00:00",
          "2020-03-30T00:00:00",
          "2020-03-31T00:00:00",
          "2020-04-01T00:00:00",
          "2020-04-02T00:00:00",
          "2020-04-03T00:00:00",
          "2020-04-04T00:00:00",
          "2020-04-05T00:00:00",
          "2020-04-06T00:00:00",
          "2020-04-07T00:00:00",
          "2020-04-08T00:00:00",
          "2020-04-09T00:00:00",
          "2020-04-10T00:00:00",
          "2020-04-11T00:00:00",
          "2020-04-12T00:00:00",
          "2020-04-13T00:00:00",
          "2020-04-14T00:00:00",
          "2020-04-15T00:00:00",
          "2020-04-16T00:00:00",
          "2020-04-17T00:00:00",
          "2020-04-18T00:00:00",
          "2020-04-19T00:00:00",
          "2020-04-20T00:00:00",
          "2020-04-21T00:00:00",
          "2020-04-22T00:00:00",
          "2020-04-23T00:00:00",
          "2020-04-24T00:00:00",
          "2020-04-25T00:00:00",
          "2020-04-26T00:00:00",
          "2020-04-27T00:00:00",
          "2020-04-28T00:00:00",
          "2020-04-29T00:00:00",
          "2020-04-30T00:00:00",
          "2020-05-01T00:00:00",
          "2020-05-02T00:00:00",
          "2020-05-03T00:00:00",
          "2020-05-04T00:00:00",
          "2020-05-05T00:00:00",
          "2020-05-06T00:00:00",
          "2020-05-07T00:00:00",
          "2020-05-08T00:00:00",
          "2020-05-09T00:00:00",
          "2020-05-10T00:00:00",
          "2020-05-11T00:00:00",
          "2020-05-12T00:00:00",
          "2020-05-13T00:00:00",
          "2020-05-14T00:00:00",
          "2020-05-15T00:00:00",
          "2020-05-16T00:00:00",
          "2020-05-17T00:00:00",
          "2020-05-18T00:00:00",
          "2020-05-19T00:00:00",
          "2020-05-20T00:00:00",
          "2020-05-21T00:00:00",
          "2020-05-22T00:00:00",
          "2020-05-23T00:00:00",
          "2020-05-24T00:00:00",
          "2020-05-25T00:00:00",
          "2020-05-26T00:00:00",
          "2020-05-27T00:00:00",
          "2020-05-28T00:00:00",
          "2020-05-29T00:00:00",
          "2020-05-30T00:00:00",
          "2020-05-31T00:00:00",
          "2020-06-01T00:00:00",
          "2020-06-02T00:00:00",
          "2020-06-03T00:00:00",
          "2020-06-04T00:00:00",
          "2020-06-05T00:00:00",
          "2020-06-06T00:00:00",
          "2020-06-07T00:00:00",
          "2020-06-08T00:00:00",
          "2020-06-09T00:00:00",
          "2020-06-10T00:00:00",
          "2020-06-11T00:00:00",
          "2020-06-12T00:00:00",
          "2020-06-13T00:00:00",
          "2020-06-14T00:00:00",
          "2020-06-15T00:00:00",
          "2020-06-16T00:00:00",
          "2020-06-17T00:00:00",
          "2020-06-18T00:00:00",
          "2020-06-19T00:00:00",
          "2020-06-20T00:00:00",
          "2020-06-21T00:00:00",
          "2020-06-22T00:00:00",
          "2020-06-23T00:00:00",
          "2020-06-24T00:00:00",
          "2020-06-25T00:00:00",
          "2020-06-26T00:00:00",
          "2020-06-27T00:00:00",
          "2020-06-28T00:00:00",
          "2020-06-29T00:00:00",
          "2020-06-30T00:00:00",
          "2020-07-01T00:00:00",
          "2020-07-02T00:00:00",
          "2020-07-03T00:00:00",
          "2020-07-04T00:00:00",
          "2020-07-05T00:00:00",
          "2020-07-06T00:00:00",
          "2020-07-07T00:00:00",
          "2020-07-08T00:00:00",
          "2020-07-09T00:00:00",
          "2020-07-10T00:00:00",
          "2020-07-11T00:00:00",
          "2020-07-12T00:00:00",
          "2020-07-13T00:00:00",
          "2020-07-14T00:00:00",
          "2020-07-15T00:00:00",
          "2020-07-16T00:00:00",
          "2020-07-17T00:00:00",
          "2020-07-18T00:00:00",
          "2020-07-19T00:00:00",
          "2020-07-20T00:00:00",
          "2020-07-21T00:00:00",
          "2020-07-22T00:00:00",
          "2020-07-23T00:00:00",
          "2020-07-24T00:00:00",
          "2020-07-25T00:00:00",
          "2020-07-26T00:00:00",
          "2020-07-27T00:00:00",
          "2020-07-28T00:00:00",
          "2020-07-29T00:00:00",
          "2020-07-30T00:00:00",
          "2020-07-31T00:00:00",
          "2020-08-01T00:00:00",
          "2020-08-02T00:00:00",
          "2020-08-03T00:00:00",
          "2020-08-04T00:00:00",
          "2020-08-05T00:00:00",
          "2020-08-06T00:00:00",
          "2020-08-07T00:00:00",
          "2020-08-08T00:00:00",
          "2020-08-09T00:00:00",
          "2020-08-10T00:00:00",
          "2020-08-11T00:00:00",
          "2020-08-12T00:00:00",
          "2020-08-13T00:00:00",
          "2020-08-14T00:00:00",
          "2020-08-15T00:00:00",
          "2020-08-16T00:00:00",
          "2020-08-17T00:00:00",
          "2020-08-18T00:00:00"
         ],
         "y": [
          0,
          0,
          0,
          0,
          0,
          0,
          0,
          0,
          0,
          0,
          0,
          0,
          0,
          0,
          0,
          2,
          0,
          1,
          0,
          0,
          1,
          0,
          0,
          1,
          -2,
          1,
          -1,
          7,
          4,
          2,
          -1,
          23,
          16,
          13,
          -1,
          -1,
          65,
          62,
          60,
          35,
          29,
          29,
          26,
          33,
          45,
          31,
          42,
          32,
          53,
          16,
          16,
          29,
          40,
          57,
          32,
          35,
          35,
          20,
          10,
          27,
          21,
          35,
          21,
          -26,
          -11,
          18,
          -27,
          27,
          18,
          5,
          20,
          19,
          -7,
          21,
          34,
          27,
          28,
          -19,
          -58,
          1,
          13,
          8,
          -33,
          -15,
          -23,
          -2,
          -10,
          35,
          13,
          30,
          30,
          -16,
          32,
          34,
          -62,
          55,
          -155,
          38,
          -2,
          -2,
          52,
          14,
          50,
          0,
          -43,
          27,
          -7,
          20,
          27,
          -4,
          -7,
          -14,
          -17,
          -29,
          10,
          24,
          5,
          -23,
          -30,
          -10,
          -17,
          -11,
          3,
          22,
          -8,
          -11,
          -3,
          -1,
          11,
          12,
          18,
          -20,
          -6,
          -10,
          -7,
          -7,
          9,
          -1,
          -8,
          -7,
          -8,
          -7,
          -17,
          27,
          8,
          -9,
          -1,
          0,
          9,
          15,
          0,
          4,
          14,
          5,
          0,
          -9,
          14,
          -19,
          8,
          17
         ]
        }
       ],
       "layout": {
        "annotations": [
         {
          "showarrow": false,
          "text": "",
          "x": 0.5,
          "xref": "paper",
          "y": -0.15,
          "yref": "paper"
         }
        ],
        "height": 600,
        "legend": {
         "x": 0.05,
         "y": 0.98
        },
        "template": {
         "data": {
          "pie": [
           {
            "automargin": true,
            "type": "pie"
           }
          ]
         },
         "layout": {
          "xaxis": {
           "showgrid": true,
           "title": {
            "standoff": 15
           }
          },
          "yaxis": {
           "showgrid": true,
           "title": {
            "standoff": 15
           }
          }
         }
        },
        "title": {
         "text": "Мордовия: динамика текущих больных COVID-19 по дням<br>(изменение относительно предыдущего дня)",
         "x": 0.5,
         "xanchor": "center",
         "y": 0.9,
         "yanchor": "bottom"
        },
        "width": 990,
        "xaxis": {
         "title": {
          "text": "Текущие больные = количество выявленных - количество выздоровевших - количество умерших<br>Данные : Яндекс"
         }
        },
        "yaxis": {
         "title": {
          "text": " "
         }
        }
       }
      }
     },
     "metadata": {}
    }
   ],
   "source": [
    "mask = X.Region ==my_region\n",
    "#mask = (X.Date>'2020-05-01')&(X.Region==my_region)\n",
    "Y = X[mask]\n",
    "\n",
    "#Y['base'] = Y['Change_dayconf']*Y['Change_dayconf'].apply(lambda d:0 if d>0 else 1)\n",
    "Y['Date']= pd.to_datetime(Y.Date)\n",
    "fig = go.Figure()\n",
    "fig.add_trace(\n",
    "              go.Bar(x = Y.Date,y=Y.Change_remill,text = Y['Change_remill'],textposition = 'inside',hoverinfo='x+y',\n",
    "                \n",
    "                #marker_color=Y['Change_remill'].apply(lambda d:'crimson' if d>0 else 'green'),\n",
    "                marker_color = Y['Change_remill'],marker_colorscale = 'Temps',marker_colorbar ={'tickmode':'auto',\n",
    "                                    'title':{'text':'Изменение','side':'top'}})     \n",
    "                )\n",
    "fig.update_layout(\n",
    "    annotations=[\n",
    "#         dict(\n",
    "#             x='2020-04-13',\n",
    "#             y=10594,\n",
    "#             xref=\"x\",\n",
    "#             yref=\"y\",\n",
    "#             text=\"Введение<br>пропускной<br>системы в Москве\",\n",
    "#             showarrow=True,\n",
    "#             arrowhead=2,\n",
    "#             ax=0,\n",
    "#             ay=-60),\n",
    "#         dict(\n",
    "#             x='2020-06-09',\n",
    "#             y=-3877,\n",
    "#             xref=\"x\",\n",
    "#             yref=\"y\",\n",
    "#             text=\"Отмена<br>пропускной<br>системы в Москве\",\n",
    "#             showarrow=True,\n",
    "#             arrowhead=2,\n",
    "#             ax=-20,\n",
    "#             ay=40),\n",
    "#         dict(\n",
    "#             x='2020-05-20',\n",
    "#             y=-2816,\n",
    "#             xref=\"x\",\n",
    "#             yref=\"y\",\n",
    "#             text=\"20 мая\",\n",
    "#             showarrow=True,\n",
    "#             arrowhead=2,\n",
    "#             ax=-20,\n",
    "#             ay=40),\n",
    "        \n",
    "        dict(x=0.5,y=-0.15,\n",
    "            showarrow=False,\n",
    "            text=\"\",\n",
    "            xref=\"paper\",\n",
    "            yref=\"paper\")],\n",
    "                  title=f'{my_region}: динамика текущих больных COVID-19 по дням<br>(изменение относительно предыдущего дня)',\n",
    "                  title_x = 0.5,\n",
    "                  title_y= 0.9,\n",
    "                  title_xanchor = \"center\",\n",
    "                  title_yanchor = \"bottom\", \n",
    "                  legend_x = 0.05,legend_y = 0.98,\n",
    "                  width = 990, height = 600,template = 'gridon',\n",
    "    \n",
    "    \n",
    "                  xaxis_title='Текущие больные = количество выявленных - количество выздоровевших - количество умерших'+\n",
    "                               '<br>Данные : Яндекс',\n",
    "    yaxis_title = ' '\n",
    ")\n",
    "\n",
    "fig.show()\n"
   ]
  },
  {
   "cell_type": "code",
   "execution_count": 175,
   "metadata": {
    "tags": []
   },
   "outputs": [
    {
     "output_type": "stream",
     "name": "stdout",
     "text": "2020-08-04\n"
    }
   ],
   "source": [
    "delta = datetime.timedelta(14)\n",
    "xday=myday-delta\n",
    "print(xday)"
   ]
  },
  {
   "cell_type": "code",
   "execution_count": 176,
   "metadata": {
    "tags": []
   },
   "outputs": [
    {
     "output_type": "stream",
     "name": "stdout",
     "text": "[[1.03  1.025 1.035 1.016 1.    1.024 1.003 1.018 1.037 1.    1.003 1.\n  0.995 0.987 0.966]\n [0.929 0.936 0.936 0.931 0.905 0.901 0.911 0.917 0.949 0.956 0.951 0.94\n  0.938 0.952 0.968]\n [1.007 1.    1.01  1.002 1.004 1.005 1.002 1.007 1.007 1.007 1.001 0.999\n  0.999 0.997 1.001]\n [1.126 1.103 1.07  1.039 1.021 0.98  0.967 0.964 0.95  0.968 0.982 0.987\n  1.005 1.015 0.992]\n [0.981 0.966 0.961 0.959 0.976 0.987 0.987 0.98  0.973 0.967 0.972 0.991\n  0.99  0.988 0.975]\n [0.982 0.985 0.981 0.98  0.977 0.991 0.994 0.998 1.013 1.006 1.013 1.021\n  1.014 1.013 1.006]\n [0.967 0.962 0.956 0.969 0.987 0.997 1.024 1.024 1.021 1.013 0.997 1.005\n  1.008 1.013 1.026]\n [0.909 0.892 0.898 0.9   0.927 0.956 0.972 0.977 0.967 0.932 0.903 0.904\n  0.894 0.892 0.919]\n [0.96  0.95  0.991 0.973 1.099 1.105 1.105 1.139 0.958 0.901 0.895 0.914\n  1.072 1.188 1.17 ]\n [1.017 0.993 1.014 0.991 0.949 0.995 0.946 1.005 1.005 0.943 0.953 0.931\n  0.951 1.01  1.057]\n [0.889 0.9   0.895 0.878 0.861 0.854 0.867 0.897 0.943 0.939 0.955 0.94\n  0.911 0.894 0.864]]\n['Москва', 'Московская обл.', 'Санкт-Петербург', 'Челябинская обл.', 'Свердловская обл.', 'Саратовская обл.', 'Иркутская обл.', 'Волгоградская обл.', 'Ставропольский край', 'Ульяновская обл.', 'Россия']\n"
    }
   ],
   "source": [
    "delta = datetime.timedelta(14)\n",
    "past14=myday-delta\n",
    "mask = (X.Date>=past14)&(X.Region.isin(regions_towatch))\n",
    "\n",
    "def my_round(k):\n",
    "    return round(k,3)\n",
    "\n",
    "# #mask = (X.Date>='2020-06-04')\n",
    "\n",
    "Z = X[mask].groupby(['Region','Date']).Rt.sum().apply(my_round).unstack().reset_index()\n",
    "Z.dropna(inplace=True)\n",
    "\n",
    "d = Z.drop('Region',axis = 1).values\n",
    "\n",
    "# my_map= {'Москва':'2.Москва','Московская обл.':'3.Московская обл.','Нижегородская обл.':'5.Нижегородская обл.',\n",
    "#                     'Россия':'1.Россия', 'Санкт-Петербург':'4.Санкт-Петербург'}\n",
    "# Z.Region = Z.Region.map(my_map)\n",
    "\n",
    "print(d)\n",
    "Z.tail(10)\n",
    "print(regions_towatch)"
   ]
  },
  {
   "cell_type": "code",
   "execution_count": 177,
   "metadata": {
    "tags": []
   },
   "outputs": [
    {
     "output_type": "stream",
     "name": "stdout",
     "text": "[datetime.date(2020, 8, 4), datetime.date(2020, 8, 5), datetime.date(2020, 8, 6), datetime.date(2020, 8, 7), datetime.date(2020, 8, 8), datetime.date(2020, 8, 9), datetime.date(2020, 8, 10), datetime.date(2020, 8, 11), datetime.date(2020, 8, 12), datetime.date(2020, 8, 13), datetime.date(2020, 8, 14), datetime.date(2020, 8, 15), datetime.date(2020, 8, 16), datetime.date(2020, 8, 17), datetime.date(2020, 8, 18)]\n----------------------------------------\n['4.8.2020', '5.8.2020', '6.8.2020', '7.8.2020', '8.8.2020', '9.8.2020', '10.8.2020', '11.8.2020', '12.8.2020', '13.8.2020', '14.8.2020', '15.8.2020', '16.8.2020', '17.8.2020', '18.8.2020']\n"
    }
   ],
   "source": [
    "x1=list(Z.columns[1:])\n",
    "x2=[]\n",
    "for i in x1:\n",
    "    x2.append(str(i.day)+'.'+str(i.month)+\".\"+str(i.year))\n",
    "    \n",
    "y=list(Z.Region)\n",
    "print(list(x1))\n",
    "print('-'*40)\n",
    "print(x2)"
   ]
  },
  {
   "cell_type": "code",
   "execution_count": 181,
   "metadata": {},
   "outputs": [
    {
     "output_type": "display_data",
     "data": {
      "application/vnd.plotly.v1+json": {
       "config": {
        "plotlyServerURL": "https://plotly.com"
       },
       "data": [
        {
         "colorscale": [
          [
           0,
           "rgb(0, 147, 146)"
          ],
          [
           0.16666666666666666,
           "rgb(57, 177, 133)"
          ],
          [
           0.3333333333333333,
           "rgb(156, 203, 134)"
          ],
          [
           0.5,
           "rgb(233, 226, 156)"
          ],
          [
           0.6666666666666666,
           "rgb(238, 180, 121)"
          ],
          [
           0.8333333333333334,
           "rgb(232, 132, 113)"
          ],
          [
           1,
           "rgb(207, 89, 126)"
          ]
         ],
         "hoverinfo": "z",
         "reversescale": false,
         "showscale": false,
         "type": "heatmap",
         "x": [
          "4.8.2020",
          "5.8.2020",
          "6.8.2020",
          "7.8.2020",
          "8.8.2020",
          "9.8.2020",
          "10.8.2020",
          "11.8.2020",
          "12.8.2020",
          "13.8.2020",
          "14.8.2020",
          "15.8.2020",
          "16.8.2020",
          "17.8.2020",
          "18.8.2020"
         ],
         "y": [
          "Волгоградская обл.",
          "Иркутская обл.",
          "Москва",
          "Московская обл.",
          "Россия",
          "Санкт-Петербург",
          "Саратовская обл.",
          "Свердловская обл.",
          "Ставропольский край",
          "Ульяновская обл.",
          "Челябинская обл."
         ],
         "z": [
          [
           1.03,
           1.025,
           1.035,
           1.016,
           1,
           1.024,
           1.003,
           1.018,
           1.037,
           1,
           1.003,
           1,
           0.995,
           0.987,
           0.966
          ],
          [
           0.929,
           0.936,
           0.936,
           0.931,
           0.905,
           0.901,
           0.911,
           0.917,
           0.949,
           0.956,
           0.951,
           0.94,
           0.938,
           0.952,
           0.968
          ],
          [
           1.007,
           1,
           1.01,
           1.002,
           1.004,
           1.005,
           1.002,
           1.007,
           1.007,
           1.007,
           1.001,
           0.999,
           0.999,
           0.997,
           1.001
          ],
          [
           1.126,
           1.103,
           1.07,
           1.039,
           1.021,
           0.98,
           0.967,
           0.964,
           0.95,
           0.968,
           0.982,
           0.987,
           1.005,
           1.015,
           0.992
          ],
          [
           0.981,
           0.966,
           0.961,
           0.959,
           0.976,
           0.987,
           0.987,
           0.98,
           0.973,
           0.967,
           0.972,
           0.991,
           0.99,
           0.988,
           0.975
          ],
          [
           0.982,
           0.985,
           0.981,
           0.98,
           0.977,
           0.991,
           0.994,
           0.998,
           1.013,
           1.006,
           1.013,
           1.021,
           1.014,
           1.013,
           1.006
          ],
          [
           0.967,
           0.962,
           0.956,
           0.969,
           0.987,
           0.997,
           1.024,
           1.024,
           1.021,
           1.013,
           0.997,
           1.005,
           1.008,
           1.013,
           1.026
          ],
          [
           0.909,
           0.892,
           0.898,
           0.9,
           0.927,
           0.956,
           0.972,
           0.977,
           0.967,
           0.932,
           0.903,
           0.904,
           0.894,
           0.892,
           0.919
          ],
          [
           0.96,
           0.95,
           0.991,
           0.973,
           1.099,
           1.105,
           1.105,
           1.139,
           0.958,
           0.901,
           0.895,
           0.914,
           1.072,
           1.188,
           1.17
          ],
          [
           1.017,
           0.993,
           1.014,
           0.991,
           0.949,
           0.995,
           0.946,
           1.005,
           1.005,
           0.943,
           0.953,
           0.931,
           0.951,
           1.01,
           1.057
          ],
          [
           0.889,
           0.9,
           0.895,
           0.878,
           0.861,
           0.854,
           0.867,
           0.897,
           0.943,
           0.939,
           0.955,
           0.94,
           0.911,
           0.894,
           0.864
          ]
         ]
        }
       ],
       "layout": {
        "annotations": [
         {
          "font": {
           "color": "#FFFFFF"
          },
          "showarrow": false,
          "text": "1.03",
          "x": "4.8.2020",
          "xref": "x",
          "y": "Волгоградская обл.",
          "yref": "y"
         },
         {
          "font": {
           "color": "#FFFFFF"
          },
          "showarrow": false,
          "text": "1.025",
          "x": "5.8.2020",
          "xref": "x",
          "y": "Волгоградская обл.",
          "yref": "y"
         },
         {
          "font": {
           "color": "#FFFFFF"
          },
          "showarrow": false,
          "text": "1.035",
          "x": "6.8.2020",
          "xref": "x",
          "y": "Волгоградская обл.",
          "yref": "y"
         },
         {
          "font": {
           "color": "#FFFFFF"
          },
          "showarrow": false,
          "text": "1.016",
          "x": "7.8.2020",
          "xref": "x",
          "y": "Волгоградская обл.",
          "yref": "y"
         },
         {
          "font": {
           "color": "#FFFFFF"
          },
          "showarrow": false,
          "text": "1.0",
          "x": "8.8.2020",
          "xref": "x",
          "y": "Волгоградская обл.",
          "yref": "y"
         },
         {
          "font": {
           "color": "#FFFFFF"
          },
          "showarrow": false,
          "text": "1.024",
          "x": "9.8.2020",
          "xref": "x",
          "y": "Волгоградская обл.",
          "yref": "y"
         },
         {
          "font": {
           "color": "#FFFFFF"
          },
          "showarrow": false,
          "text": "1.003",
          "x": "10.8.2020",
          "xref": "x",
          "y": "Волгоградская обл.",
          "yref": "y"
         },
         {
          "font": {
           "color": "#FFFFFF"
          },
          "showarrow": false,
          "text": "1.018",
          "x": "11.8.2020",
          "xref": "x",
          "y": "Волгоградская обл.",
          "yref": "y"
         },
         {
          "font": {
           "color": "#FFFFFF"
          },
          "showarrow": false,
          "text": "1.037",
          "x": "12.8.2020",
          "xref": "x",
          "y": "Волгоградская обл.",
          "yref": "y"
         },
         {
          "font": {
           "color": "#FFFFFF"
          },
          "showarrow": false,
          "text": "1.0",
          "x": "13.8.2020",
          "xref": "x",
          "y": "Волгоградская обл.",
          "yref": "y"
         },
         {
          "font": {
           "color": "#FFFFFF"
          },
          "showarrow": false,
          "text": "1.003",
          "x": "14.8.2020",
          "xref": "x",
          "y": "Волгоградская обл.",
          "yref": "y"
         },
         {
          "font": {
           "color": "#FFFFFF"
          },
          "showarrow": false,
          "text": "1.0",
          "x": "15.8.2020",
          "xref": "x",
          "y": "Волгоградская обл.",
          "yref": "y"
         },
         {
          "font": {
           "color": "#FFFFFF"
          },
          "showarrow": false,
          "text": "0.995",
          "x": "16.8.2020",
          "xref": "x",
          "y": "Волгоградская обл.",
          "yref": "y"
         },
         {
          "font": {
           "color": "#FFFFFF"
          },
          "showarrow": false,
          "text": "0.987",
          "x": "17.8.2020",
          "xref": "x",
          "y": "Волгоградская обл.",
          "yref": "y"
         },
         {
          "font": {
           "color": "#FFFFFF"
          },
          "showarrow": false,
          "text": "0.966",
          "x": "18.8.2020",
          "xref": "x",
          "y": "Волгоградская обл.",
          "yref": "y"
         },
         {
          "font": {
           "color": "#FFFFFF"
          },
          "showarrow": false,
          "text": "0.929",
          "x": "4.8.2020",
          "xref": "x",
          "y": "Иркутская обл.",
          "yref": "y"
         },
         {
          "font": {
           "color": "#FFFFFF"
          },
          "showarrow": false,
          "text": "0.936",
          "x": "5.8.2020",
          "xref": "x",
          "y": "Иркутская обл.",
          "yref": "y"
         },
         {
          "font": {
           "color": "#FFFFFF"
          },
          "showarrow": false,
          "text": "0.936",
          "x": "6.8.2020",
          "xref": "x",
          "y": "Иркутская обл.",
          "yref": "y"
         },
         {
          "font": {
           "color": "#FFFFFF"
          },
          "showarrow": false,
          "text": "0.931",
          "x": "7.8.2020",
          "xref": "x",
          "y": "Иркутская обл.",
          "yref": "y"
         },
         {
          "font": {
           "color": "#FFFFFF"
          },
          "showarrow": false,
          "text": "0.905",
          "x": "8.8.2020",
          "xref": "x",
          "y": "Иркутская обл.",
          "yref": "y"
         },
         {
          "font": {
           "color": "#FFFFFF"
          },
          "showarrow": false,
          "text": "0.901",
          "x": "9.8.2020",
          "xref": "x",
          "y": "Иркутская обл.",
          "yref": "y"
         },
         {
          "font": {
           "color": "#FFFFFF"
          },
          "showarrow": false,
          "text": "0.911",
          "x": "10.8.2020",
          "xref": "x",
          "y": "Иркутская обл.",
          "yref": "y"
         },
         {
          "font": {
           "color": "#FFFFFF"
          },
          "showarrow": false,
          "text": "0.917",
          "x": "11.8.2020",
          "xref": "x",
          "y": "Иркутская обл.",
          "yref": "y"
         },
         {
          "font": {
           "color": "#FFFFFF"
          },
          "showarrow": false,
          "text": "0.949",
          "x": "12.8.2020",
          "xref": "x",
          "y": "Иркутская обл.",
          "yref": "y"
         },
         {
          "font": {
           "color": "#FFFFFF"
          },
          "showarrow": false,
          "text": "0.956",
          "x": "13.8.2020",
          "xref": "x",
          "y": "Иркутская обл.",
          "yref": "y"
         },
         {
          "font": {
           "color": "#FFFFFF"
          },
          "showarrow": false,
          "text": "0.951",
          "x": "14.8.2020",
          "xref": "x",
          "y": "Иркутская обл.",
          "yref": "y"
         },
         {
          "font": {
           "color": "#FFFFFF"
          },
          "showarrow": false,
          "text": "0.94",
          "x": "15.8.2020",
          "xref": "x",
          "y": "Иркутская обл.",
          "yref": "y"
         },
         {
          "font": {
           "color": "#FFFFFF"
          },
          "showarrow": false,
          "text": "0.938",
          "x": "16.8.2020",
          "xref": "x",
          "y": "Иркутская обл.",
          "yref": "y"
         },
         {
          "font": {
           "color": "#FFFFFF"
          },
          "showarrow": false,
          "text": "0.952",
          "x": "17.8.2020",
          "xref": "x",
          "y": "Иркутская обл.",
          "yref": "y"
         },
         {
          "font": {
           "color": "#FFFFFF"
          },
          "showarrow": false,
          "text": "0.968",
          "x": "18.8.2020",
          "xref": "x",
          "y": "Иркутская обл.",
          "yref": "y"
         },
         {
          "font": {
           "color": "#FFFFFF"
          },
          "showarrow": false,
          "text": "1.007",
          "x": "4.8.2020",
          "xref": "x",
          "y": "Москва",
          "yref": "y"
         },
         {
          "font": {
           "color": "#FFFFFF"
          },
          "showarrow": false,
          "text": "1.0",
          "x": "5.8.2020",
          "xref": "x",
          "y": "Москва",
          "yref": "y"
         },
         {
          "font": {
           "color": "#FFFFFF"
          },
          "showarrow": false,
          "text": "1.01",
          "x": "6.8.2020",
          "xref": "x",
          "y": "Москва",
          "yref": "y"
         },
         {
          "font": {
           "color": "#FFFFFF"
          },
          "showarrow": false,
          "text": "1.002",
          "x": "7.8.2020",
          "xref": "x",
          "y": "Москва",
          "yref": "y"
         },
         {
          "font": {
           "color": "#FFFFFF"
          },
          "showarrow": false,
          "text": "1.004",
          "x": "8.8.2020",
          "xref": "x",
          "y": "Москва",
          "yref": "y"
         },
         {
          "font": {
           "color": "#FFFFFF"
          },
          "showarrow": false,
          "text": "1.005",
          "x": "9.8.2020",
          "xref": "x",
          "y": "Москва",
          "yref": "y"
         },
         {
          "font": {
           "color": "#FFFFFF"
          },
          "showarrow": false,
          "text": "1.002",
          "x": "10.8.2020",
          "xref": "x",
          "y": "Москва",
          "yref": "y"
         },
         {
          "font": {
           "color": "#FFFFFF"
          },
          "showarrow": false,
          "text": "1.007",
          "x": "11.8.2020",
          "xref": "x",
          "y": "Москва",
          "yref": "y"
         },
         {
          "font": {
           "color": "#FFFFFF"
          },
          "showarrow": false,
          "text": "1.007",
          "x": "12.8.2020",
          "xref": "x",
          "y": "Москва",
          "yref": "y"
         },
         {
          "font": {
           "color": "#FFFFFF"
          },
          "showarrow": false,
          "text": "1.007",
          "x": "13.8.2020",
          "xref": "x",
          "y": "Москва",
          "yref": "y"
         },
         {
          "font": {
           "color": "#FFFFFF"
          },
          "showarrow": false,
          "text": "1.001",
          "x": "14.8.2020",
          "xref": "x",
          "y": "Москва",
          "yref": "y"
         },
         {
          "font": {
           "color": "#FFFFFF"
          },
          "showarrow": false,
          "text": "0.999",
          "x": "15.8.2020",
          "xref": "x",
          "y": "Москва",
          "yref": "y"
         },
         {
          "font": {
           "color": "#FFFFFF"
          },
          "showarrow": false,
          "text": "0.999",
          "x": "16.8.2020",
          "xref": "x",
          "y": "Москва",
          "yref": "y"
         },
         {
          "font": {
           "color": "#FFFFFF"
          },
          "showarrow": false,
          "text": "0.997",
          "x": "17.8.2020",
          "xref": "x",
          "y": "Москва",
          "yref": "y"
         },
         {
          "font": {
           "color": "#FFFFFF"
          },
          "showarrow": false,
          "text": "1.001",
          "x": "18.8.2020",
          "xref": "x",
          "y": "Москва",
          "yref": "y"
         },
         {
          "font": {
           "color": "#FFFFFF"
          },
          "showarrow": false,
          "text": "1.126",
          "x": "4.8.2020",
          "xref": "x",
          "y": "Московская обл.",
          "yref": "y"
         },
         {
          "font": {
           "color": "#FFFFFF"
          },
          "showarrow": false,
          "text": "1.103",
          "x": "5.8.2020",
          "xref": "x",
          "y": "Московская обл.",
          "yref": "y"
         },
         {
          "font": {
           "color": "#FFFFFF"
          },
          "showarrow": false,
          "text": "1.07",
          "x": "6.8.2020",
          "xref": "x",
          "y": "Московская обл.",
          "yref": "y"
         },
         {
          "font": {
           "color": "#FFFFFF"
          },
          "showarrow": false,
          "text": "1.039",
          "x": "7.8.2020",
          "xref": "x",
          "y": "Московская обл.",
          "yref": "y"
         },
         {
          "font": {
           "color": "#FFFFFF"
          },
          "showarrow": false,
          "text": "1.021",
          "x": "8.8.2020",
          "xref": "x",
          "y": "Московская обл.",
          "yref": "y"
         },
         {
          "font": {
           "color": "#FFFFFF"
          },
          "showarrow": false,
          "text": "0.98",
          "x": "9.8.2020",
          "xref": "x",
          "y": "Московская обл.",
          "yref": "y"
         },
         {
          "font": {
           "color": "#FFFFFF"
          },
          "showarrow": false,
          "text": "0.967",
          "x": "10.8.2020",
          "xref": "x",
          "y": "Московская обл.",
          "yref": "y"
         },
         {
          "font": {
           "color": "#FFFFFF"
          },
          "showarrow": false,
          "text": "0.964",
          "x": "11.8.2020",
          "xref": "x",
          "y": "Московская обл.",
          "yref": "y"
         },
         {
          "font": {
           "color": "#FFFFFF"
          },
          "showarrow": false,
          "text": "0.95",
          "x": "12.8.2020",
          "xref": "x",
          "y": "Московская обл.",
          "yref": "y"
         },
         {
          "font": {
           "color": "#FFFFFF"
          },
          "showarrow": false,
          "text": "0.968",
          "x": "13.8.2020",
          "xref": "x",
          "y": "Московская обл.",
          "yref": "y"
         },
         {
          "font": {
           "color": "#FFFFFF"
          },
          "showarrow": false,
          "text": "0.982",
          "x": "14.8.2020",
          "xref": "x",
          "y": "Московская обл.",
          "yref": "y"
         },
         {
          "font": {
           "color": "#FFFFFF"
          },
          "showarrow": false,
          "text": "0.987",
          "x": "15.8.2020",
          "xref": "x",
          "y": "Московская обл.",
          "yref": "y"
         },
         {
          "font": {
           "color": "#FFFFFF"
          },
          "showarrow": false,
          "text": "1.005",
          "x": "16.8.2020",
          "xref": "x",
          "y": "Московская обл.",
          "yref": "y"
         },
         {
          "font": {
           "color": "#FFFFFF"
          },
          "showarrow": false,
          "text": "1.015",
          "x": "17.8.2020",
          "xref": "x",
          "y": "Московская обл.",
          "yref": "y"
         },
         {
          "font": {
           "color": "#FFFFFF"
          },
          "showarrow": false,
          "text": "0.992",
          "x": "18.8.2020",
          "xref": "x",
          "y": "Московская обл.",
          "yref": "y"
         },
         {
          "font": {
           "color": "#FFFFFF"
          },
          "showarrow": false,
          "text": "0.981",
          "x": "4.8.2020",
          "xref": "x",
          "y": "Россия",
          "yref": "y"
         },
         {
          "font": {
           "color": "#FFFFFF"
          },
          "showarrow": false,
          "text": "0.966",
          "x": "5.8.2020",
          "xref": "x",
          "y": "Россия",
          "yref": "y"
         },
         {
          "font": {
           "color": "#FFFFFF"
          },
          "showarrow": false,
          "text": "0.961",
          "x": "6.8.2020",
          "xref": "x",
          "y": "Россия",
          "yref": "y"
         },
         {
          "font": {
           "color": "#FFFFFF"
          },
          "showarrow": false,
          "text": "0.959",
          "x": "7.8.2020",
          "xref": "x",
          "y": "Россия",
          "yref": "y"
         },
         {
          "font": {
           "color": "#FFFFFF"
          },
          "showarrow": false,
          "text": "0.976",
          "x": "8.8.2020",
          "xref": "x",
          "y": "Россия",
          "yref": "y"
         },
         {
          "font": {
           "color": "#FFFFFF"
          },
          "showarrow": false,
          "text": "0.987",
          "x": "9.8.2020",
          "xref": "x",
          "y": "Россия",
          "yref": "y"
         },
         {
          "font": {
           "color": "#FFFFFF"
          },
          "showarrow": false,
          "text": "0.987",
          "x": "10.8.2020",
          "xref": "x",
          "y": "Россия",
          "yref": "y"
         },
         {
          "font": {
           "color": "#FFFFFF"
          },
          "showarrow": false,
          "text": "0.98",
          "x": "11.8.2020",
          "xref": "x",
          "y": "Россия",
          "yref": "y"
         },
         {
          "font": {
           "color": "#FFFFFF"
          },
          "showarrow": false,
          "text": "0.973",
          "x": "12.8.2020",
          "xref": "x",
          "y": "Россия",
          "yref": "y"
         },
         {
          "font": {
           "color": "#FFFFFF"
          },
          "showarrow": false,
          "text": "0.967",
          "x": "13.8.2020",
          "xref": "x",
          "y": "Россия",
          "yref": "y"
         },
         {
          "font": {
           "color": "#FFFFFF"
          },
          "showarrow": false,
          "text": "0.972",
          "x": "14.8.2020",
          "xref": "x",
          "y": "Россия",
          "yref": "y"
         },
         {
          "font": {
           "color": "#FFFFFF"
          },
          "showarrow": false,
          "text": "0.991",
          "x": "15.8.2020",
          "xref": "x",
          "y": "Россия",
          "yref": "y"
         },
         {
          "font": {
           "color": "#FFFFFF"
          },
          "showarrow": false,
          "text": "0.99",
          "x": "16.8.2020",
          "xref": "x",
          "y": "Россия",
          "yref": "y"
         },
         {
          "font": {
           "color": "#FFFFFF"
          },
          "showarrow": false,
          "text": "0.988",
          "x": "17.8.2020",
          "xref": "x",
          "y": "Россия",
          "yref": "y"
         },
         {
          "font": {
           "color": "#FFFFFF"
          },
          "showarrow": false,
          "text": "0.975",
          "x": "18.8.2020",
          "xref": "x",
          "y": "Россия",
          "yref": "y"
         },
         {
          "font": {
           "color": "#FFFFFF"
          },
          "showarrow": false,
          "text": "0.982",
          "x": "4.8.2020",
          "xref": "x",
          "y": "Санкт-Петербург",
          "yref": "y"
         },
         {
          "font": {
           "color": "#FFFFFF"
          },
          "showarrow": false,
          "text": "0.985",
          "x": "5.8.2020",
          "xref": "x",
          "y": "Санкт-Петербург",
          "yref": "y"
         },
         {
          "font": {
           "color": "#FFFFFF"
          },
          "showarrow": false,
          "text": "0.981",
          "x": "6.8.2020",
          "xref": "x",
          "y": "Санкт-Петербург",
          "yref": "y"
         },
         {
          "font": {
           "color": "#FFFFFF"
          },
          "showarrow": false,
          "text": "0.98",
          "x": "7.8.2020",
          "xref": "x",
          "y": "Санкт-Петербург",
          "yref": "y"
         },
         {
          "font": {
           "color": "#FFFFFF"
          },
          "showarrow": false,
          "text": "0.977",
          "x": "8.8.2020",
          "xref": "x",
          "y": "Санкт-Петербург",
          "yref": "y"
         },
         {
          "font": {
           "color": "#FFFFFF"
          },
          "showarrow": false,
          "text": "0.991",
          "x": "9.8.2020",
          "xref": "x",
          "y": "Санкт-Петербург",
          "yref": "y"
         },
         {
          "font": {
           "color": "#FFFFFF"
          },
          "showarrow": false,
          "text": "0.994",
          "x": "10.8.2020",
          "xref": "x",
          "y": "Санкт-Петербург",
          "yref": "y"
         },
         {
          "font": {
           "color": "#FFFFFF"
          },
          "showarrow": false,
          "text": "0.998",
          "x": "11.8.2020",
          "xref": "x",
          "y": "Санкт-Петербург",
          "yref": "y"
         },
         {
          "font": {
           "color": "#FFFFFF"
          },
          "showarrow": false,
          "text": "1.013",
          "x": "12.8.2020",
          "xref": "x",
          "y": "Санкт-Петербург",
          "yref": "y"
         },
         {
          "font": {
           "color": "#FFFFFF"
          },
          "showarrow": false,
          "text": "1.006",
          "x": "13.8.2020",
          "xref": "x",
          "y": "Санкт-Петербург",
          "yref": "y"
         },
         {
          "font": {
           "color": "#FFFFFF"
          },
          "showarrow": false,
          "text": "1.013",
          "x": "14.8.2020",
          "xref": "x",
          "y": "Санкт-Петербург",
          "yref": "y"
         },
         {
          "font": {
           "color": "#FFFFFF"
          },
          "showarrow": false,
          "text": "1.021",
          "x": "15.8.2020",
          "xref": "x",
          "y": "Санкт-Петербург",
          "yref": "y"
         },
         {
          "font": {
           "color": "#FFFFFF"
          },
          "showarrow": false,
          "text": "1.014",
          "x": "16.8.2020",
          "xref": "x",
          "y": "Санкт-Петербург",
          "yref": "y"
         },
         {
          "font": {
           "color": "#FFFFFF"
          },
          "showarrow": false,
          "text": "1.013",
          "x": "17.8.2020",
          "xref": "x",
          "y": "Санкт-Петербург",
          "yref": "y"
         },
         {
          "font": {
           "color": "#FFFFFF"
          },
          "showarrow": false,
          "text": "1.006",
          "x": "18.8.2020",
          "xref": "x",
          "y": "Санкт-Петербург",
          "yref": "y"
         },
         {
          "font": {
           "color": "#FFFFFF"
          },
          "showarrow": false,
          "text": "0.967",
          "x": "4.8.2020",
          "xref": "x",
          "y": "Саратовская обл.",
          "yref": "y"
         },
         {
          "font": {
           "color": "#FFFFFF"
          },
          "showarrow": false,
          "text": "0.962",
          "x": "5.8.2020",
          "xref": "x",
          "y": "Саратовская обл.",
          "yref": "y"
         },
         {
          "font": {
           "color": "#FFFFFF"
          },
          "showarrow": false,
          "text": "0.956",
          "x": "6.8.2020",
          "xref": "x",
          "y": "Саратовская обл.",
          "yref": "y"
         },
         {
          "font": {
           "color": "#FFFFFF"
          },
          "showarrow": false,
          "text": "0.969",
          "x": "7.8.2020",
          "xref": "x",
          "y": "Саратовская обл.",
          "yref": "y"
         },
         {
          "font": {
           "color": "#FFFFFF"
          },
          "showarrow": false,
          "text": "0.987",
          "x": "8.8.2020",
          "xref": "x",
          "y": "Саратовская обл.",
          "yref": "y"
         },
         {
          "font": {
           "color": "#FFFFFF"
          },
          "showarrow": false,
          "text": "0.997",
          "x": "9.8.2020",
          "xref": "x",
          "y": "Саратовская обл.",
          "yref": "y"
         },
         {
          "font": {
           "color": "#FFFFFF"
          },
          "showarrow": false,
          "text": "1.024",
          "x": "10.8.2020",
          "xref": "x",
          "y": "Саратовская обл.",
          "yref": "y"
         },
         {
          "font": {
           "color": "#FFFFFF"
          },
          "showarrow": false,
          "text": "1.024",
          "x": "11.8.2020",
          "xref": "x",
          "y": "Саратовская обл.",
          "yref": "y"
         },
         {
          "font": {
           "color": "#FFFFFF"
          },
          "showarrow": false,
          "text": "1.021",
          "x": "12.8.2020",
          "xref": "x",
          "y": "Саратовская обл.",
          "yref": "y"
         },
         {
          "font": {
           "color": "#FFFFFF"
          },
          "showarrow": false,
          "text": "1.013",
          "x": "13.8.2020",
          "xref": "x",
          "y": "Саратовская обл.",
          "yref": "y"
         },
         {
          "font": {
           "color": "#FFFFFF"
          },
          "showarrow": false,
          "text": "0.997",
          "x": "14.8.2020",
          "xref": "x",
          "y": "Саратовская обл.",
          "yref": "y"
         },
         {
          "font": {
           "color": "#FFFFFF"
          },
          "showarrow": false,
          "text": "1.005",
          "x": "15.8.2020",
          "xref": "x",
          "y": "Саратовская обл.",
          "yref": "y"
         },
         {
          "font": {
           "color": "#FFFFFF"
          },
          "showarrow": false,
          "text": "1.008",
          "x": "16.8.2020",
          "xref": "x",
          "y": "Саратовская обл.",
          "yref": "y"
         },
         {
          "font": {
           "color": "#FFFFFF"
          },
          "showarrow": false,
          "text": "1.013",
          "x": "17.8.2020",
          "xref": "x",
          "y": "Саратовская обл.",
          "yref": "y"
         },
         {
          "font": {
           "color": "#FFFFFF"
          },
          "showarrow": false,
          "text": "1.026",
          "x": "18.8.2020",
          "xref": "x",
          "y": "Саратовская обл.",
          "yref": "y"
         },
         {
          "font": {
           "color": "#FFFFFF"
          },
          "showarrow": false,
          "text": "0.909",
          "x": "4.8.2020",
          "xref": "x",
          "y": "Свердловская обл.",
          "yref": "y"
         },
         {
          "font": {
           "color": "#FFFFFF"
          },
          "showarrow": false,
          "text": "0.892",
          "x": "5.8.2020",
          "xref": "x",
          "y": "Свердловская обл.",
          "yref": "y"
         },
         {
          "font": {
           "color": "#FFFFFF"
          },
          "showarrow": false,
          "text": "0.898",
          "x": "6.8.2020",
          "xref": "x",
          "y": "Свердловская обл.",
          "yref": "y"
         },
         {
          "font": {
           "color": "#FFFFFF"
          },
          "showarrow": false,
          "text": "0.9",
          "x": "7.8.2020",
          "xref": "x",
          "y": "Свердловская обл.",
          "yref": "y"
         },
         {
          "font": {
           "color": "#FFFFFF"
          },
          "showarrow": false,
          "text": "0.927",
          "x": "8.8.2020",
          "xref": "x",
          "y": "Свердловская обл.",
          "yref": "y"
         },
         {
          "font": {
           "color": "#FFFFFF"
          },
          "showarrow": false,
          "text": "0.956",
          "x": "9.8.2020",
          "xref": "x",
          "y": "Свердловская обл.",
          "yref": "y"
         },
         {
          "font": {
           "color": "#FFFFFF"
          },
          "showarrow": false,
          "text": "0.972",
          "x": "10.8.2020",
          "xref": "x",
          "y": "Свердловская обл.",
          "yref": "y"
         },
         {
          "font": {
           "color": "#FFFFFF"
          },
          "showarrow": false,
          "text": "0.977",
          "x": "11.8.2020",
          "xref": "x",
          "y": "Свердловская обл.",
          "yref": "y"
         },
         {
          "font": {
           "color": "#FFFFFF"
          },
          "showarrow": false,
          "text": "0.967",
          "x": "12.8.2020",
          "xref": "x",
          "y": "Свердловская обл.",
          "yref": "y"
         },
         {
          "font": {
           "color": "#FFFFFF"
          },
          "showarrow": false,
          "text": "0.932",
          "x": "13.8.2020",
          "xref": "x",
          "y": "Свердловская обл.",
          "yref": "y"
         },
         {
          "font": {
           "color": "#FFFFFF"
          },
          "showarrow": false,
          "text": "0.903",
          "x": "14.8.2020",
          "xref": "x",
          "y": "Свердловская обл.",
          "yref": "y"
         },
         {
          "font": {
           "color": "#FFFFFF"
          },
          "showarrow": false,
          "text": "0.904",
          "x": "15.8.2020",
          "xref": "x",
          "y": "Свердловская обл.",
          "yref": "y"
         },
         {
          "font": {
           "color": "#FFFFFF"
          },
          "showarrow": false,
          "text": "0.894",
          "x": "16.8.2020",
          "xref": "x",
          "y": "Свердловская обл.",
          "yref": "y"
         },
         {
          "font": {
           "color": "#FFFFFF"
          },
          "showarrow": false,
          "text": "0.892",
          "x": "17.8.2020",
          "xref": "x",
          "y": "Свердловская обл.",
          "yref": "y"
         },
         {
          "font": {
           "color": "#FFFFFF"
          },
          "showarrow": false,
          "text": "0.919",
          "x": "18.8.2020",
          "xref": "x",
          "y": "Свердловская обл.",
          "yref": "y"
         },
         {
          "font": {
           "color": "#FFFFFF"
          },
          "showarrow": false,
          "text": "0.96",
          "x": "4.8.2020",
          "xref": "x",
          "y": "Ставропольский край",
          "yref": "y"
         },
         {
          "font": {
           "color": "#FFFFFF"
          },
          "showarrow": false,
          "text": "0.95",
          "x": "5.8.2020",
          "xref": "x",
          "y": "Ставропольский край",
          "yref": "y"
         },
         {
          "font": {
           "color": "#FFFFFF"
          },
          "showarrow": false,
          "text": "0.991",
          "x": "6.8.2020",
          "xref": "x",
          "y": "Ставропольский край",
          "yref": "y"
         },
         {
          "font": {
           "color": "#FFFFFF"
          },
          "showarrow": false,
          "text": "0.973",
          "x": "7.8.2020",
          "xref": "x",
          "y": "Ставропольский край",
          "yref": "y"
         },
         {
          "font": {
           "color": "#FFFFFF"
          },
          "showarrow": false,
          "text": "1.099",
          "x": "8.8.2020",
          "xref": "x",
          "y": "Ставропольский край",
          "yref": "y"
         },
         {
          "font": {
           "color": "#FFFFFF"
          },
          "showarrow": false,
          "text": "1.105",
          "x": "9.8.2020",
          "xref": "x",
          "y": "Ставропольский край",
          "yref": "y"
         },
         {
          "font": {
           "color": "#FFFFFF"
          },
          "showarrow": false,
          "text": "1.105",
          "x": "10.8.2020",
          "xref": "x",
          "y": "Ставропольский край",
          "yref": "y"
         },
         {
          "font": {
           "color": "#FFFFFF"
          },
          "showarrow": false,
          "text": "1.139",
          "x": "11.8.2020",
          "xref": "x",
          "y": "Ставропольский край",
          "yref": "y"
         },
         {
          "font": {
           "color": "#FFFFFF"
          },
          "showarrow": false,
          "text": "0.958",
          "x": "12.8.2020",
          "xref": "x",
          "y": "Ставропольский край",
          "yref": "y"
         },
         {
          "font": {
           "color": "#FFFFFF"
          },
          "showarrow": false,
          "text": "0.901",
          "x": "13.8.2020",
          "xref": "x",
          "y": "Ставропольский край",
          "yref": "y"
         },
         {
          "font": {
           "color": "#FFFFFF"
          },
          "showarrow": false,
          "text": "0.895",
          "x": "14.8.2020",
          "xref": "x",
          "y": "Ставропольский край",
          "yref": "y"
         },
         {
          "font": {
           "color": "#FFFFFF"
          },
          "showarrow": false,
          "text": "0.914",
          "x": "15.8.2020",
          "xref": "x",
          "y": "Ставропольский край",
          "yref": "y"
         },
         {
          "font": {
           "color": "#FFFFFF"
          },
          "showarrow": false,
          "text": "1.072",
          "x": "16.8.2020",
          "xref": "x",
          "y": "Ставропольский край",
          "yref": "y"
         },
         {
          "font": {
           "color": "#FFFFFF"
          },
          "showarrow": false,
          "text": "1.188",
          "x": "17.8.2020",
          "xref": "x",
          "y": "Ставропольский край",
          "yref": "y"
         },
         {
          "font": {
           "color": "#FFFFFF"
          },
          "showarrow": false,
          "text": "1.17",
          "x": "18.8.2020",
          "xref": "x",
          "y": "Ставропольский край",
          "yref": "y"
         },
         {
          "font": {
           "color": "#FFFFFF"
          },
          "showarrow": false,
          "text": "1.017",
          "x": "4.8.2020",
          "xref": "x",
          "y": "Ульяновская обл.",
          "yref": "y"
         },
         {
          "font": {
           "color": "#FFFFFF"
          },
          "showarrow": false,
          "text": "0.993",
          "x": "5.8.2020",
          "xref": "x",
          "y": "Ульяновская обл.",
          "yref": "y"
         },
         {
          "font": {
           "color": "#FFFFFF"
          },
          "showarrow": false,
          "text": "1.014",
          "x": "6.8.2020",
          "xref": "x",
          "y": "Ульяновская обл.",
          "yref": "y"
         },
         {
          "font": {
           "color": "#FFFFFF"
          },
          "showarrow": false,
          "text": "0.991",
          "x": "7.8.2020",
          "xref": "x",
          "y": "Ульяновская обл.",
          "yref": "y"
         },
         {
          "font": {
           "color": "#FFFFFF"
          },
          "showarrow": false,
          "text": "0.949",
          "x": "8.8.2020",
          "xref": "x",
          "y": "Ульяновская обл.",
          "yref": "y"
         },
         {
          "font": {
           "color": "#FFFFFF"
          },
          "showarrow": false,
          "text": "0.995",
          "x": "9.8.2020",
          "xref": "x",
          "y": "Ульяновская обл.",
          "yref": "y"
         },
         {
          "font": {
           "color": "#FFFFFF"
          },
          "showarrow": false,
          "text": "0.946",
          "x": "10.8.2020",
          "xref": "x",
          "y": "Ульяновская обл.",
          "yref": "y"
         },
         {
          "font": {
           "color": "#FFFFFF"
          },
          "showarrow": false,
          "text": "1.005",
          "x": "11.8.2020",
          "xref": "x",
          "y": "Ульяновская обл.",
          "yref": "y"
         },
         {
          "font": {
           "color": "#FFFFFF"
          },
          "showarrow": false,
          "text": "1.005",
          "x": "12.8.2020",
          "xref": "x",
          "y": "Ульяновская обл.",
          "yref": "y"
         },
         {
          "font": {
           "color": "#FFFFFF"
          },
          "showarrow": false,
          "text": "0.943",
          "x": "13.8.2020",
          "xref": "x",
          "y": "Ульяновская обл.",
          "yref": "y"
         },
         {
          "font": {
           "color": "#FFFFFF"
          },
          "showarrow": false,
          "text": "0.953",
          "x": "14.8.2020",
          "xref": "x",
          "y": "Ульяновская обл.",
          "yref": "y"
         },
         {
          "font": {
           "color": "#FFFFFF"
          },
          "showarrow": false,
          "text": "0.931",
          "x": "15.8.2020",
          "xref": "x",
          "y": "Ульяновская обл.",
          "yref": "y"
         },
         {
          "font": {
           "color": "#FFFFFF"
          },
          "showarrow": false,
          "text": "0.951",
          "x": "16.8.2020",
          "xref": "x",
          "y": "Ульяновская обл.",
          "yref": "y"
         },
         {
          "font": {
           "color": "#FFFFFF"
          },
          "showarrow": false,
          "text": "1.01",
          "x": "17.8.2020",
          "xref": "x",
          "y": "Ульяновская обл.",
          "yref": "y"
         },
         {
          "font": {
           "color": "#FFFFFF"
          },
          "showarrow": false,
          "text": "1.057",
          "x": "18.8.2020",
          "xref": "x",
          "y": "Ульяновская обл.",
          "yref": "y"
         },
         {
          "font": {
           "color": "#FFFFFF"
          },
          "showarrow": false,
          "text": "0.889",
          "x": "4.8.2020",
          "xref": "x",
          "y": "Челябинская обл.",
          "yref": "y"
         },
         {
          "font": {
           "color": "#FFFFFF"
          },
          "showarrow": false,
          "text": "0.9",
          "x": "5.8.2020",
          "xref": "x",
          "y": "Челябинская обл.",
          "yref": "y"
         },
         {
          "font": {
           "color": "#FFFFFF"
          },
          "showarrow": false,
          "text": "0.895",
          "x": "6.8.2020",
          "xref": "x",
          "y": "Челябинская обл.",
          "yref": "y"
         },
         {
          "font": {
           "color": "#FFFFFF"
          },
          "showarrow": false,
          "text": "0.878",
          "x": "7.8.2020",
          "xref": "x",
          "y": "Челябинская обл.",
          "yref": "y"
         },
         {
          "font": {
           "color": "#FFFFFF"
          },
          "showarrow": false,
          "text": "0.861",
          "x": "8.8.2020",
          "xref": "x",
          "y": "Челябинская обл.",
          "yref": "y"
         },
         {
          "font": {
           "color": "#FFFFFF"
          },
          "showarrow": false,
          "text": "0.854",
          "x": "9.8.2020",
          "xref": "x",
          "y": "Челябинская обл.",
          "yref": "y"
         },
         {
          "font": {
           "color": "#FFFFFF"
          },
          "showarrow": false,
          "text": "0.867",
          "x": "10.8.2020",
          "xref": "x",
          "y": "Челябинская обл.",
          "yref": "y"
         },
         {
          "font": {
           "color": "#FFFFFF"
          },
          "showarrow": false,
          "text": "0.897",
          "x": "11.8.2020",
          "xref": "x",
          "y": "Челябинская обл.",
          "yref": "y"
         },
         {
          "font": {
           "color": "#FFFFFF"
          },
          "showarrow": false,
          "text": "0.943",
          "x": "12.8.2020",
          "xref": "x",
          "y": "Челябинская обл.",
          "yref": "y"
         },
         {
          "font": {
           "color": "#FFFFFF"
          },
          "showarrow": false,
          "text": "0.939",
          "x": "13.8.2020",
          "xref": "x",
          "y": "Челябинская обл.",
          "yref": "y"
         },
         {
          "font": {
           "color": "#FFFFFF"
          },
          "showarrow": false,
          "text": "0.955",
          "x": "14.8.2020",
          "xref": "x",
          "y": "Челябинская обл.",
          "yref": "y"
         },
         {
          "font": {
           "color": "#FFFFFF"
          },
          "showarrow": false,
          "text": "0.94",
          "x": "15.8.2020",
          "xref": "x",
          "y": "Челябинская обл.",
          "yref": "y"
         },
         {
          "font": {
           "color": "#FFFFFF"
          },
          "showarrow": false,
          "text": "0.911",
          "x": "16.8.2020",
          "xref": "x",
          "y": "Челябинская обл.",
          "yref": "y"
         },
         {
          "font": {
           "color": "#FFFFFF"
          },
          "showarrow": false,
          "text": "0.894",
          "x": "17.8.2020",
          "xref": "x",
          "y": "Челябинская обл.",
          "yref": "y"
         },
         {
          "font": {
           "color": "#FFFFFF"
          },
          "showarrow": false,
          "text": "0.864",
          "x": "18.8.2020",
          "xref": "x",
          "y": "Челябинская обл.",
          "yref": "y"
         }
        ],
        "height": 600,
        "template": {
         "data": {
          "bar": [
           {
            "error_x": {
             "color": "#2a3f5f"
            },
            "error_y": {
             "color": "#2a3f5f"
            },
            "marker": {
             "line": {
              "color": "#E5ECF6",
              "width": 0.5
             }
            },
            "type": "bar"
           }
          ],
          "barpolar": [
           {
            "marker": {
             "line": {
              "color": "#E5ECF6",
              "width": 0.5
             }
            },
            "type": "barpolar"
           }
          ],
          "carpet": [
           {
            "aaxis": {
             "endlinecolor": "#2a3f5f",
             "gridcolor": "white",
             "linecolor": "white",
             "minorgridcolor": "white",
             "startlinecolor": "#2a3f5f"
            },
            "baxis": {
             "endlinecolor": "#2a3f5f",
             "gridcolor": "white",
             "linecolor": "white",
             "minorgridcolor": "white",
             "startlinecolor": "#2a3f5f"
            },
            "type": "carpet"
           }
          ],
          "choropleth": [
           {
            "colorbar": {
             "outlinewidth": 0,
             "ticks": ""
            },
            "type": "choropleth"
           }
          ],
          "contour": [
           {
            "colorbar": {
             "outlinewidth": 0,
             "ticks": ""
            },
            "colorscale": [
             [
              0,
              "#0d0887"
             ],
             [
              0.1111111111111111,
              "#46039f"
             ],
             [
              0.2222222222222222,
              "#7201a8"
             ],
             [
              0.3333333333333333,
              "#9c179e"
             ],
             [
              0.4444444444444444,
              "#bd3786"
             ],
             [
              0.5555555555555556,
              "#d8576b"
             ],
             [
              0.6666666666666666,
              "#ed7953"
             ],
             [
              0.7777777777777778,
              "#fb9f3a"
             ],
             [
              0.8888888888888888,
              "#fdca26"
             ],
             [
              1,
              "#f0f921"
             ]
            ],
            "type": "contour"
           }
          ],
          "contourcarpet": [
           {
            "colorbar": {
             "outlinewidth": 0,
             "ticks": ""
            },
            "type": "contourcarpet"
           }
          ],
          "heatmap": [
           {
            "colorbar": {
             "outlinewidth": 0,
             "ticks": ""
            },
            "colorscale": [
             [
              0,
              "#0d0887"
             ],
             [
              0.1111111111111111,
              "#46039f"
             ],
             [
              0.2222222222222222,
              "#7201a8"
             ],
             [
              0.3333333333333333,
              "#9c179e"
             ],
             [
              0.4444444444444444,
              "#bd3786"
             ],
             [
              0.5555555555555556,
              "#d8576b"
             ],
             [
              0.6666666666666666,
              "#ed7953"
             ],
             [
              0.7777777777777778,
              "#fb9f3a"
             ],
             [
              0.8888888888888888,
              "#fdca26"
             ],
             [
              1,
              "#f0f921"
             ]
            ],
            "type": "heatmap"
           }
          ],
          "heatmapgl": [
           {
            "colorbar": {
             "outlinewidth": 0,
             "ticks": ""
            },
            "colorscale": [
             [
              0,
              "#0d0887"
             ],
             [
              0.1111111111111111,
              "#46039f"
             ],
             [
              0.2222222222222222,
              "#7201a8"
             ],
             [
              0.3333333333333333,
              "#9c179e"
             ],
             [
              0.4444444444444444,
              "#bd3786"
             ],
             [
              0.5555555555555556,
              "#d8576b"
             ],
             [
              0.6666666666666666,
              "#ed7953"
             ],
             [
              0.7777777777777778,
              "#fb9f3a"
             ],
             [
              0.8888888888888888,
              "#fdca26"
             ],
             [
              1,
              "#f0f921"
             ]
            ],
            "type": "heatmapgl"
           }
          ],
          "histogram": [
           {
            "marker": {
             "colorbar": {
              "outlinewidth": 0,
              "ticks": ""
             }
            },
            "type": "histogram"
           }
          ],
          "histogram2d": [
           {
            "colorbar": {
             "outlinewidth": 0,
             "ticks": ""
            },
            "colorscale": [
             [
              0,
              "#0d0887"
             ],
             [
              0.1111111111111111,
              "#46039f"
             ],
             [
              0.2222222222222222,
              "#7201a8"
             ],
             [
              0.3333333333333333,
              "#9c179e"
             ],
             [
              0.4444444444444444,
              "#bd3786"
             ],
             [
              0.5555555555555556,
              "#d8576b"
             ],
             [
              0.6666666666666666,
              "#ed7953"
             ],
             [
              0.7777777777777778,
              "#fb9f3a"
             ],
             [
              0.8888888888888888,
              "#fdca26"
             ],
             [
              1,
              "#f0f921"
             ]
            ],
            "type": "histogram2d"
           }
          ],
          "histogram2dcontour": [
           {
            "colorbar": {
             "outlinewidth": 0,
             "ticks": ""
            },
            "colorscale": [
             [
              0,
              "#0d0887"
             ],
             [
              0.1111111111111111,
              "#46039f"
             ],
             [
              0.2222222222222222,
              "#7201a8"
             ],
             [
              0.3333333333333333,
              "#9c179e"
             ],
             [
              0.4444444444444444,
              "#bd3786"
             ],
             [
              0.5555555555555556,
              "#d8576b"
             ],
             [
              0.6666666666666666,
              "#ed7953"
             ],
             [
              0.7777777777777778,
              "#fb9f3a"
             ],
             [
              0.8888888888888888,
              "#fdca26"
             ],
             [
              1,
              "#f0f921"
             ]
            ],
            "type": "histogram2dcontour"
           }
          ],
          "mesh3d": [
           {
            "colorbar": {
             "outlinewidth": 0,
             "ticks": ""
            },
            "type": "mesh3d"
           }
          ],
          "parcoords": [
           {
            "line": {
             "colorbar": {
              "outlinewidth": 0,
              "ticks": ""
             }
            },
            "type": "parcoords"
           }
          ],
          "pie": [
           {
            "automargin": true,
            "type": "pie"
           }
          ],
          "scatter": [
           {
            "marker": {
             "colorbar": {
              "outlinewidth": 0,
              "ticks": ""
             }
            },
            "type": "scatter"
           }
          ],
          "scatter3d": [
           {
            "line": {
             "colorbar": {
              "outlinewidth": 0,
              "ticks": ""
             }
            },
            "marker": {
             "colorbar": {
              "outlinewidth": 0,
              "ticks": ""
             }
            },
            "type": "scatter3d"
           }
          ],
          "scattercarpet": [
           {
            "marker": {
             "colorbar": {
              "outlinewidth": 0,
              "ticks": ""
             }
            },
            "type": "scattercarpet"
           }
          ],
          "scattergeo": [
           {
            "marker": {
             "colorbar": {
              "outlinewidth": 0,
              "ticks": ""
             }
            },
            "type": "scattergeo"
           }
          ],
          "scattergl": [
           {
            "marker": {
             "colorbar": {
              "outlinewidth": 0,
              "ticks": ""
             }
            },
            "type": "scattergl"
           }
          ],
          "scattermapbox": [
           {
            "marker": {
             "colorbar": {
              "outlinewidth": 0,
              "ticks": ""
             }
            },
            "type": "scattermapbox"
           }
          ],
          "scatterpolar": [
           {
            "marker": {
             "colorbar": {
              "outlinewidth": 0,
              "ticks": ""
             }
            },
            "type": "scatterpolar"
           }
          ],
          "scatterpolargl": [
           {
            "marker": {
             "colorbar": {
              "outlinewidth": 0,
              "ticks": ""
             }
            },
            "type": "scatterpolargl"
           }
          ],
          "scatterternary": [
           {
            "marker": {
             "colorbar": {
              "outlinewidth": 0,
              "ticks": ""
             }
            },
            "type": "scatterternary"
           }
          ],
          "surface": [
           {
            "colorbar": {
             "outlinewidth": 0,
             "ticks": ""
            },
            "colorscale": [
             [
              0,
              "#0d0887"
             ],
             [
              0.1111111111111111,
              "#46039f"
             ],
             [
              0.2222222222222222,
              "#7201a8"
             ],
             [
              0.3333333333333333,
              "#9c179e"
             ],
             [
              0.4444444444444444,
              "#bd3786"
             ],
             [
              0.5555555555555556,
              "#d8576b"
             ],
             [
              0.6666666666666666,
              "#ed7953"
             ],
             [
              0.7777777777777778,
              "#fb9f3a"
             ],
             [
              0.8888888888888888,
              "#fdca26"
             ],
             [
              1,
              "#f0f921"
             ]
            ],
            "type": "surface"
           }
          ],
          "table": [
           {
            "cells": {
             "fill": {
              "color": "#EBF0F8"
             },
             "line": {
              "color": "white"
             }
            },
            "header": {
             "fill": {
              "color": "#C8D4E3"
             },
             "line": {
              "color": "white"
             }
            },
            "type": "table"
           }
          ]
         },
         "layout": {
          "annotationdefaults": {
           "arrowcolor": "#2a3f5f",
           "arrowhead": 0,
           "arrowwidth": 1
          },
          "coloraxis": {
           "colorbar": {
            "outlinewidth": 0,
            "ticks": ""
           }
          },
          "colorscale": {
           "diverging": [
            [
             0,
             "#8e0152"
            ],
            [
             0.1,
             "#c51b7d"
            ],
            [
             0.2,
             "#de77ae"
            ],
            [
             0.3,
             "#f1b6da"
            ],
            [
             0.4,
             "#fde0ef"
            ],
            [
             0.5,
             "#f7f7f7"
            ],
            [
             0.6,
             "#e6f5d0"
            ],
            [
             0.7,
             "#b8e186"
            ],
            [
             0.8,
             "#7fbc41"
            ],
            [
             0.9,
             "#4d9221"
            ],
            [
             1,
             "#276419"
            ]
           ],
           "sequential": [
            [
             0,
             "#0d0887"
            ],
            [
             0.1111111111111111,
             "#46039f"
            ],
            [
             0.2222222222222222,
             "#7201a8"
            ],
            [
             0.3333333333333333,
             "#9c179e"
            ],
            [
             0.4444444444444444,
             "#bd3786"
            ],
            [
             0.5555555555555556,
             "#d8576b"
            ],
            [
             0.6666666666666666,
             "#ed7953"
            ],
            [
             0.7777777777777778,
             "#fb9f3a"
            ],
            [
             0.8888888888888888,
             "#fdca26"
            ],
            [
             1,
             "#f0f921"
            ]
           ],
           "sequentialminus": [
            [
             0,
             "#0d0887"
            ],
            [
             0.1111111111111111,
             "#46039f"
            ],
            [
             0.2222222222222222,
             "#7201a8"
            ],
            [
             0.3333333333333333,
             "#9c179e"
            ],
            [
             0.4444444444444444,
             "#bd3786"
            ],
            [
             0.5555555555555556,
             "#d8576b"
            ],
            [
             0.6666666666666666,
             "#ed7953"
            ],
            [
             0.7777777777777778,
             "#fb9f3a"
            ],
            [
             0.8888888888888888,
             "#fdca26"
            ],
            [
             1,
             "#f0f921"
            ]
           ]
          },
          "colorway": [
           "#636efa",
           "#EF553B",
           "#00cc96",
           "#ab63fa",
           "#FFA15A",
           "#19d3f3",
           "#FF6692",
           "#B6E880",
           "#FF97FF",
           "#FECB52"
          ],
          "font": {
           "color": "#2a3f5f"
          },
          "geo": {
           "bgcolor": "white",
           "lakecolor": "white",
           "landcolor": "#E5ECF6",
           "showlakes": true,
           "showland": true,
           "subunitcolor": "white"
          },
          "hoverlabel": {
           "align": "left"
          },
          "hovermode": "closest",
          "mapbox": {
           "style": "light"
          },
          "paper_bgcolor": "white",
          "plot_bgcolor": "#E5ECF6",
          "polar": {
           "angularaxis": {
            "gridcolor": "white",
            "linecolor": "white",
            "ticks": ""
           },
           "bgcolor": "#E5ECF6",
           "radialaxis": {
            "gridcolor": "white",
            "linecolor": "white",
            "ticks": ""
           }
          },
          "scene": {
           "xaxis": {
            "backgroundcolor": "#E5ECF6",
            "gridcolor": "white",
            "gridwidth": 2,
            "linecolor": "white",
            "showbackground": true,
            "ticks": "",
            "zerolinecolor": "white"
           },
           "yaxis": {
            "backgroundcolor": "#E5ECF6",
            "gridcolor": "white",
            "gridwidth": 2,
            "linecolor": "white",
            "showbackground": true,
            "ticks": "",
            "zerolinecolor": "white"
           },
           "zaxis": {
            "backgroundcolor": "#E5ECF6",
            "gridcolor": "white",
            "gridwidth": 2,
            "linecolor": "white",
            "showbackground": true,
            "ticks": "",
            "zerolinecolor": "white"
           }
          },
          "shapedefaults": {
           "line": {
            "color": "#2a3f5f"
           }
          },
          "ternary": {
           "aaxis": {
            "gridcolor": "white",
            "linecolor": "white",
            "ticks": ""
           },
           "baxis": {
            "gridcolor": "white",
            "linecolor": "white",
            "ticks": ""
           },
           "bgcolor": "#E5ECF6",
           "caxis": {
            "gridcolor": "white",
            "linecolor": "white",
            "ticks": ""
           }
          },
          "title": {
           "x": 0.05
          },
          "xaxis": {
           "automargin": true,
           "gridcolor": "white",
           "linecolor": "white",
           "ticks": "",
           "title": {
            "standoff": 15
           },
           "zerolinecolor": "white",
           "zerolinewidth": 2
          },
          "yaxis": {
           "automargin": true,
           "gridcolor": "white",
           "linecolor": "white",
           "ticks": "",
           "title": {
            "standoff": 15
           },
           "zerolinecolor": "white",
           "zerolinewidth": 2
          }
         }
        },
        "width": 990,
        "xaxis": {
         "dtick": 1,
         "gridcolor": "rgb(0, 0, 0)",
         "side": "top",
         "ticks": "",
         "title": {
          "text": "Динамика коэффициента распространения Rt по регионам"
         }
        },
        "yaxis": {
         "dtick": 1,
         "ticks": "",
         "ticksuffix": "  "
        }
       }
      }
     },
     "metadata": {}
    }
   ],
   "source": [
    "fig = ff.create_annotated_heatmap(d, x=x2, y=y, annotation_text=d,hoverinfo='z',\n",
    "                                  colorscale='Temps')\n",
    "\n",
    "fig.update_layout(\n",
    "                  \n",
    "                  \n",
    "                  width = 990, height = 600,    \n",
    "    \n",
    "                  xaxis_title='Динамика коэффициента распространения Rt по регионам',\n",
    "               #   yaxis_title = 'Регион '\n",
    ")\n",
    "\n",
    "fig.show()\n",
    "\n"
   ]
  },
  {
   "cell_type": "code",
   "execution_count": 130,
   "metadata": {
    "tags": []
   },
   "outputs": [
    {
     "output_type": "stream",
     "name": "stdout",
     "text": "[[1.041 1.041 1.041 1.041 1.04  1.04  1.04  1.04  1.04  1.039 1.039 1.038\n  1.038 1.038 1.037]\n [1.044 1.042 1.041 1.04  1.039 1.037 1.036 1.035 1.034 1.034 1.033 1.032\n  1.031 1.031 1.03 ]\n [1.011 1.011 1.011 1.011 1.011 1.011 1.011 1.011 1.011 1.011 1.011 1.011\n  1.011 1.011 1.011]\n [1.01  1.01  1.01  1.01  1.01  1.01  1.01  1.01  1.01  1.009 1.009 1.009\n  1.009 1.009 1.009]\n [1.026 1.026 1.025 1.025 1.025 1.024 1.024 1.024 1.024 1.023 1.023 1.023\n  1.023 1.022 1.022]\n [1.021 1.02  1.02  1.02  1.02  1.02  1.02  1.019 1.019 1.019 1.019 1.019\n  1.019 1.019 1.019]\n [1.042 1.041 1.04  1.039 1.039 1.038 1.038 1.038 1.038 1.038 1.037 1.037\n  1.037 1.036 1.036]\n [1.04  1.039 1.037 1.036 1.035 1.034 1.034 1.033 1.033 1.032 1.031 1.03\n  1.029 1.028 1.027]\n [1.056 1.054 1.053 1.052 1.053 1.054 1.054 1.055 1.054 1.052 1.05  1.048\n  1.048 1.05  1.051]\n [1.048 1.047 1.047 1.046 1.045 1.044 1.043 1.043 1.042 1.041 1.04  1.039\n  1.038 1.038 1.038]\n [1.041 1.039 1.038 1.036 1.035 1.033 1.032 1.03  1.03  1.029 1.029 1.028\n  1.027 1.026 1.025]]\n"
    },
    {
     "output_type": "execute_result",
     "data": {
      "text/plain": "Date               Region  2020-08-04  2020-08-05  2020-08-06  2020-08-07  \\\n0      Волгоградская обл.       1.041       1.041       1.041       1.041   \n1          Иркутская обл.       1.044       1.042       1.041       1.040   \n2                  Москва       1.011       1.011       1.011       1.011   \n3         Московская обл.       1.010       1.010       1.010       1.010   \n4                  Россия       1.026       1.026       1.025       1.025   \n5         Санкт-Петербург       1.021       1.020       1.020       1.020   \n6        Саратовская обл.       1.042       1.041       1.040       1.039   \n7       Свердловская обл.       1.040       1.039       1.037       1.036   \n8     Ставропольский край       1.056       1.054       1.053       1.052   \n9        Ульяновская обл.       1.048       1.047       1.047       1.046   \n\nDate  2020-08-08  2020-08-09  2020-08-10  2020-08-11  2020-08-12  2020-08-13  \\\n0          1.040       1.040       1.040       1.040       1.040       1.039   \n1          1.039       1.037       1.036       1.035       1.034       1.034   \n2          1.011       1.011       1.011       1.011       1.011       1.011   \n3          1.010       1.010       1.010       1.010       1.010       1.009   \n4          1.025       1.024       1.024       1.024       1.024       1.023   \n5          1.020       1.020       1.020       1.019       1.019       1.019   \n6          1.039       1.038       1.038       1.038       1.038       1.038   \n7          1.035       1.034       1.034       1.033       1.033       1.032   \n8          1.053       1.054       1.054       1.055       1.054       1.052   \n9          1.045       1.044       1.043       1.043       1.042       1.041   \n\nDate  2020-08-14  2020-08-15  2020-08-16  2020-08-17  2020-08-18  \n0          1.039       1.038       1.038       1.038       1.037  \n1          1.033       1.032       1.031       1.031       1.030  \n2          1.011       1.011       1.011       1.011       1.011  \n3          1.009       1.009       1.009       1.009       1.009  \n4          1.023       1.023       1.023       1.022       1.022  \n5          1.019       1.019       1.019       1.019       1.019  \n6          1.037       1.037       1.037       1.036       1.036  \n7          1.031       1.030       1.029       1.028       1.027  \n8          1.050       1.048       1.048       1.050       1.051  \n9          1.040       1.039       1.038       1.038       1.038  ",
      "text/html": "<div>\n<style scoped>\n    .dataframe tbody tr th:only-of-type {\n        vertical-align: middle;\n    }\n\n    .dataframe tbody tr th {\n        vertical-align: top;\n    }\n\n    .dataframe thead th {\n        text-align: right;\n    }\n</style>\n<table border=\"1\" class=\"dataframe\">\n  <thead>\n    <tr style=\"text-align: right;\">\n      <th>Date</th>\n      <th>Region</th>\n      <th>2020-08-04</th>\n      <th>2020-08-05</th>\n      <th>2020-08-06</th>\n      <th>2020-08-07</th>\n      <th>2020-08-08</th>\n      <th>2020-08-09</th>\n      <th>2020-08-10</th>\n      <th>2020-08-11</th>\n      <th>2020-08-12</th>\n      <th>2020-08-13</th>\n      <th>2020-08-14</th>\n      <th>2020-08-15</th>\n      <th>2020-08-16</th>\n      <th>2020-08-17</th>\n      <th>2020-08-18</th>\n    </tr>\n  </thead>\n  <tbody>\n    <tr>\n      <th>0</th>\n      <td>Волгоградская обл.</td>\n      <td>1.041</td>\n      <td>1.041</td>\n      <td>1.041</td>\n      <td>1.041</td>\n      <td>1.040</td>\n      <td>1.040</td>\n      <td>1.040</td>\n      <td>1.040</td>\n      <td>1.040</td>\n      <td>1.039</td>\n      <td>1.039</td>\n      <td>1.038</td>\n      <td>1.038</td>\n      <td>1.038</td>\n      <td>1.037</td>\n    </tr>\n    <tr>\n      <th>1</th>\n      <td>Иркутская обл.</td>\n      <td>1.044</td>\n      <td>1.042</td>\n      <td>1.041</td>\n      <td>1.040</td>\n      <td>1.039</td>\n      <td>1.037</td>\n      <td>1.036</td>\n      <td>1.035</td>\n      <td>1.034</td>\n      <td>1.034</td>\n      <td>1.033</td>\n      <td>1.032</td>\n      <td>1.031</td>\n      <td>1.031</td>\n      <td>1.030</td>\n    </tr>\n    <tr>\n      <th>2</th>\n      <td>Москва</td>\n      <td>1.011</td>\n      <td>1.011</td>\n      <td>1.011</td>\n      <td>1.011</td>\n      <td>1.011</td>\n      <td>1.011</td>\n      <td>1.011</td>\n      <td>1.011</td>\n      <td>1.011</td>\n      <td>1.011</td>\n      <td>1.011</td>\n      <td>1.011</td>\n      <td>1.011</td>\n      <td>1.011</td>\n      <td>1.011</td>\n    </tr>\n    <tr>\n      <th>3</th>\n      <td>Московская обл.</td>\n      <td>1.010</td>\n      <td>1.010</td>\n      <td>1.010</td>\n      <td>1.010</td>\n      <td>1.010</td>\n      <td>1.010</td>\n      <td>1.010</td>\n      <td>1.010</td>\n      <td>1.010</td>\n      <td>1.009</td>\n      <td>1.009</td>\n      <td>1.009</td>\n      <td>1.009</td>\n      <td>1.009</td>\n      <td>1.009</td>\n    </tr>\n    <tr>\n      <th>4</th>\n      <td>Россия</td>\n      <td>1.026</td>\n      <td>1.026</td>\n      <td>1.025</td>\n      <td>1.025</td>\n      <td>1.025</td>\n      <td>1.024</td>\n      <td>1.024</td>\n      <td>1.024</td>\n      <td>1.024</td>\n      <td>1.023</td>\n      <td>1.023</td>\n      <td>1.023</td>\n      <td>1.023</td>\n      <td>1.022</td>\n      <td>1.022</td>\n    </tr>\n    <tr>\n      <th>5</th>\n      <td>Санкт-Петербург</td>\n      <td>1.021</td>\n      <td>1.020</td>\n      <td>1.020</td>\n      <td>1.020</td>\n      <td>1.020</td>\n      <td>1.020</td>\n      <td>1.020</td>\n      <td>1.019</td>\n      <td>1.019</td>\n      <td>1.019</td>\n      <td>1.019</td>\n      <td>1.019</td>\n      <td>1.019</td>\n      <td>1.019</td>\n      <td>1.019</td>\n    </tr>\n    <tr>\n      <th>6</th>\n      <td>Саратовская обл.</td>\n      <td>1.042</td>\n      <td>1.041</td>\n      <td>1.040</td>\n      <td>1.039</td>\n      <td>1.039</td>\n      <td>1.038</td>\n      <td>1.038</td>\n      <td>1.038</td>\n      <td>1.038</td>\n      <td>1.038</td>\n      <td>1.037</td>\n      <td>1.037</td>\n      <td>1.037</td>\n      <td>1.036</td>\n      <td>1.036</td>\n    </tr>\n    <tr>\n      <th>7</th>\n      <td>Свердловская обл.</td>\n      <td>1.040</td>\n      <td>1.039</td>\n      <td>1.037</td>\n      <td>1.036</td>\n      <td>1.035</td>\n      <td>1.034</td>\n      <td>1.034</td>\n      <td>1.033</td>\n      <td>1.033</td>\n      <td>1.032</td>\n      <td>1.031</td>\n      <td>1.030</td>\n      <td>1.029</td>\n      <td>1.028</td>\n      <td>1.027</td>\n    </tr>\n    <tr>\n      <th>8</th>\n      <td>Ставропольский край</td>\n      <td>1.056</td>\n      <td>1.054</td>\n      <td>1.053</td>\n      <td>1.052</td>\n      <td>1.053</td>\n      <td>1.054</td>\n      <td>1.054</td>\n      <td>1.055</td>\n      <td>1.054</td>\n      <td>1.052</td>\n      <td>1.050</td>\n      <td>1.048</td>\n      <td>1.048</td>\n      <td>1.050</td>\n      <td>1.051</td>\n    </tr>\n    <tr>\n      <th>9</th>\n      <td>Ульяновская обл.</td>\n      <td>1.048</td>\n      <td>1.047</td>\n      <td>1.047</td>\n      <td>1.046</td>\n      <td>1.045</td>\n      <td>1.044</td>\n      <td>1.043</td>\n      <td>1.043</td>\n      <td>1.042</td>\n      <td>1.041</td>\n      <td>1.040</td>\n      <td>1.039</td>\n      <td>1.038</td>\n      <td>1.038</td>\n      <td>1.038</td>\n    </tr>\n  </tbody>\n</table>\n</div>"
     },
     "metadata": {},
     "execution_count": 130
    }
   ],
   "source": [
    "mask = (X.Date>=past14)&(X.Region.isin(regions_towatch))\n",
    "\n",
    "\n",
    "# #mask = (X.Date>='2020-06-04')\n",
    "\n",
    "Z = X[mask].groupby(['Region','Date']).Rt2.sum().apply(my_round).unstack().reset_index()\n",
    "Z.dropna(inplace=True)\n",
    "d = Z.drop('Region',axis = 1).values\n",
    "\n",
    "# my_map= {'Москва':'2.Москва','Московская обл.':'3.Московская обл.','Нижегородская обл.':'5.Нижегородская обл.',\n",
    "#                     'Россия':'1.Россия', 'Санкт-Петербург':'4.Санкт-Петербург'}\n",
    "# Z.Region = Z.Region.map(my_map)\n",
    "\n",
    "print(d)\n",
    "Z.head(10)"
   ]
  },
  {
   "cell_type": "code",
   "execution_count": 131,
   "metadata": {
    "tags": []
   },
   "outputs": [
    {
     "output_type": "stream",
     "name": "stdout",
     "text": "[datetime.date(2020, 8, 4), datetime.date(2020, 8, 5), datetime.date(2020, 8, 6), datetime.date(2020, 8, 7), datetime.date(2020, 8, 8), datetime.date(2020, 8, 9), datetime.date(2020, 8, 10), datetime.date(2020, 8, 11), datetime.date(2020, 8, 12), datetime.date(2020, 8, 13), datetime.date(2020, 8, 14), datetime.date(2020, 8, 15), datetime.date(2020, 8, 16), datetime.date(2020, 8, 17), datetime.date(2020, 8, 18)]\n['4.8.2020', '5.8.2020', '6.8.2020', '7.8.2020', '8.8.2020', '9.8.2020', '10.8.2020', '11.8.2020', '12.8.2020', '13.8.2020', '14.8.2020', '15.8.2020', '16.8.2020', '17.8.2020', '18.8.2020']\n"
    }
   ],
   "source": [
    "x1=list(Z.columns[1:])\n",
    "x2=[]\n",
    "for i in x1:\n",
    "    x2.append(str(i.day)+'.'+str(i.month)+\".\"+str(i.year))\n",
    "    \n",
    "y=list(Z.Region)\n",
    "print(list(x1))\n",
    "print(x2)"
   ]
  },
  {
   "cell_type": "code",
   "execution_count": 132,
   "metadata": {},
   "outputs": [
    {
     "output_type": "display_data",
     "data": {
      "application/vnd.plotly.v1+json": {
       "config": {
        "plotlyServerURL": "https://plotly.com"
       },
       "data": [
        {
         "colorscale": [
          [
           0,
           "rgb(0, 147, 146)"
          ],
          [
           0.16666666666666666,
           "rgb(57, 177, 133)"
          ],
          [
           0.3333333333333333,
           "rgb(156, 203, 134)"
          ],
          [
           0.5,
           "rgb(233, 226, 156)"
          ],
          [
           0.6666666666666666,
           "rgb(238, 180, 121)"
          ],
          [
           0.8333333333333334,
           "rgb(232, 132, 113)"
          ],
          [
           1,
           "rgb(207, 89, 126)"
          ]
         ],
         "reversescale": false,
         "showscale": false,
         "type": "heatmap",
         "x": [
          "4.8.2020",
          "5.8.2020",
          "6.8.2020",
          "7.8.2020",
          "8.8.2020",
          "9.8.2020",
          "10.8.2020",
          "11.8.2020",
          "12.8.2020",
          "13.8.2020",
          "14.8.2020",
          "15.8.2020",
          "16.8.2020",
          "17.8.2020",
          "18.8.2020"
         ],
         "y": [
          "Волгоградская обл.",
          "Иркутская обл.",
          "Москва",
          "Московская обл.",
          "Россия",
          "Санкт-Петербург",
          "Саратовская обл.",
          "Свердловская обл.",
          "Ставропольский край",
          "Ульяновская обл.",
          "Челябинская обл."
         ],
         "z": [
          [
           1.041,
           1.041,
           1.041,
           1.041,
           1.04,
           1.04,
           1.04,
           1.04,
           1.04,
           1.039,
           1.039,
           1.038,
           1.038,
           1.038,
           1.037
          ],
          [
           1.044,
           1.042,
           1.041,
           1.04,
           1.039,
           1.037,
           1.036,
           1.035,
           1.034,
           1.034,
           1.033,
           1.032,
           1.031,
           1.031,
           1.03
          ],
          [
           1.011,
           1.011,
           1.011,
           1.011,
           1.011,
           1.011,
           1.011,
           1.011,
           1.011,
           1.011,
           1.011,
           1.011,
           1.011,
           1.011,
           1.011
          ],
          [
           1.01,
           1.01,
           1.01,
           1.01,
           1.01,
           1.01,
           1.01,
           1.01,
           1.01,
           1.009,
           1.009,
           1.009,
           1.009,
           1.009,
           1.009
          ],
          [
           1.026,
           1.026,
           1.025,
           1.025,
           1.025,
           1.024,
           1.024,
           1.024,
           1.024,
           1.023,
           1.023,
           1.023,
           1.023,
           1.022,
           1.022
          ],
          [
           1.021,
           1.02,
           1.02,
           1.02,
           1.02,
           1.02,
           1.02,
           1.019,
           1.019,
           1.019,
           1.019,
           1.019,
           1.019,
           1.019,
           1.019
          ],
          [
           1.042,
           1.041,
           1.04,
           1.039,
           1.039,
           1.038,
           1.038,
           1.038,
           1.038,
           1.038,
           1.037,
           1.037,
           1.037,
           1.036,
           1.036
          ],
          [
           1.04,
           1.039,
           1.037,
           1.036,
           1.035,
           1.034,
           1.034,
           1.033,
           1.033,
           1.032,
           1.031,
           1.03,
           1.029,
           1.028,
           1.027
          ],
          [
           1.056,
           1.054,
           1.053,
           1.052,
           1.053,
           1.054,
           1.054,
           1.055,
           1.054,
           1.052,
           1.05,
           1.048,
           1.048,
           1.05,
           1.051
          ],
          [
           1.048,
           1.047,
           1.047,
           1.046,
           1.045,
           1.044,
           1.043,
           1.043,
           1.042,
           1.041,
           1.04,
           1.039,
           1.038,
           1.038,
           1.038
          ],
          [
           1.041,
           1.039,
           1.038,
           1.036,
           1.035,
           1.033,
           1.032,
           1.03,
           1.03,
           1.029,
           1.029,
           1.028,
           1.027,
           1.026,
           1.025
          ]
         ]
        }
       ],
       "layout": {
        "annotations": [
         {
          "font": {
           "color": "#FFFFFF"
          },
          "showarrow": false,
          "text": "1.041",
          "x": "4.8.2020",
          "xref": "x",
          "y": "Волгоградская обл.",
          "yref": "y"
         },
         {
          "font": {
           "color": "#FFFFFF"
          },
          "showarrow": false,
          "text": "1.041",
          "x": "5.8.2020",
          "xref": "x",
          "y": "Волгоградская обл.",
          "yref": "y"
         },
         {
          "font": {
           "color": "#FFFFFF"
          },
          "showarrow": false,
          "text": "1.041",
          "x": "6.8.2020",
          "xref": "x",
          "y": "Волгоградская обл.",
          "yref": "y"
         },
         {
          "font": {
           "color": "#FFFFFF"
          },
          "showarrow": false,
          "text": "1.041",
          "x": "7.8.2020",
          "xref": "x",
          "y": "Волгоградская обл.",
          "yref": "y"
         },
         {
          "font": {
           "color": "#FFFFFF"
          },
          "showarrow": false,
          "text": "1.04",
          "x": "8.8.2020",
          "xref": "x",
          "y": "Волгоградская обл.",
          "yref": "y"
         },
         {
          "font": {
           "color": "#FFFFFF"
          },
          "showarrow": false,
          "text": "1.04",
          "x": "9.8.2020",
          "xref": "x",
          "y": "Волгоградская обл.",
          "yref": "y"
         },
         {
          "font": {
           "color": "#FFFFFF"
          },
          "showarrow": false,
          "text": "1.04",
          "x": "10.8.2020",
          "xref": "x",
          "y": "Волгоградская обл.",
          "yref": "y"
         },
         {
          "font": {
           "color": "#FFFFFF"
          },
          "showarrow": false,
          "text": "1.04",
          "x": "11.8.2020",
          "xref": "x",
          "y": "Волгоградская обл.",
          "yref": "y"
         },
         {
          "font": {
           "color": "#FFFFFF"
          },
          "showarrow": false,
          "text": "1.04",
          "x": "12.8.2020",
          "xref": "x",
          "y": "Волгоградская обл.",
          "yref": "y"
         },
         {
          "font": {
           "color": "#FFFFFF"
          },
          "showarrow": false,
          "text": "1.039",
          "x": "13.8.2020",
          "xref": "x",
          "y": "Волгоградская обл.",
          "yref": "y"
         },
         {
          "font": {
           "color": "#FFFFFF"
          },
          "showarrow": false,
          "text": "1.039",
          "x": "14.8.2020",
          "xref": "x",
          "y": "Волгоградская обл.",
          "yref": "y"
         },
         {
          "font": {
           "color": "#FFFFFF"
          },
          "showarrow": false,
          "text": "1.038",
          "x": "15.8.2020",
          "xref": "x",
          "y": "Волгоградская обл.",
          "yref": "y"
         },
         {
          "font": {
           "color": "#FFFFFF"
          },
          "showarrow": false,
          "text": "1.038",
          "x": "16.8.2020",
          "xref": "x",
          "y": "Волгоградская обл.",
          "yref": "y"
         },
         {
          "font": {
           "color": "#FFFFFF"
          },
          "showarrow": false,
          "text": "1.038",
          "x": "17.8.2020",
          "xref": "x",
          "y": "Волгоградская обл.",
          "yref": "y"
         },
         {
          "font": {
           "color": "#FFFFFF"
          },
          "showarrow": false,
          "text": "1.037",
          "x": "18.8.2020",
          "xref": "x",
          "y": "Волгоградская обл.",
          "yref": "y"
         },
         {
          "font": {
           "color": "#FFFFFF"
          },
          "showarrow": false,
          "text": "1.044",
          "x": "4.8.2020",
          "xref": "x",
          "y": "Иркутская обл.",
          "yref": "y"
         },
         {
          "font": {
           "color": "#FFFFFF"
          },
          "showarrow": false,
          "text": "1.042",
          "x": "5.8.2020",
          "xref": "x",
          "y": "Иркутская обл.",
          "yref": "y"
         },
         {
          "font": {
           "color": "#FFFFFF"
          },
          "showarrow": false,
          "text": "1.041",
          "x": "6.8.2020",
          "xref": "x",
          "y": "Иркутская обл.",
          "yref": "y"
         },
         {
          "font": {
           "color": "#FFFFFF"
          },
          "showarrow": false,
          "text": "1.04",
          "x": "7.8.2020",
          "xref": "x",
          "y": "Иркутская обл.",
          "yref": "y"
         },
         {
          "font": {
           "color": "#FFFFFF"
          },
          "showarrow": false,
          "text": "1.039",
          "x": "8.8.2020",
          "xref": "x",
          "y": "Иркутская обл.",
          "yref": "y"
         },
         {
          "font": {
           "color": "#FFFFFF"
          },
          "showarrow": false,
          "text": "1.037",
          "x": "9.8.2020",
          "xref": "x",
          "y": "Иркутская обл.",
          "yref": "y"
         },
         {
          "font": {
           "color": "#FFFFFF"
          },
          "showarrow": false,
          "text": "1.036",
          "x": "10.8.2020",
          "xref": "x",
          "y": "Иркутская обл.",
          "yref": "y"
         },
         {
          "font": {
           "color": "#FFFFFF"
          },
          "showarrow": false,
          "text": "1.035",
          "x": "11.8.2020",
          "xref": "x",
          "y": "Иркутская обл.",
          "yref": "y"
         },
         {
          "font": {
           "color": "#FFFFFF"
          },
          "showarrow": false,
          "text": "1.034",
          "x": "12.8.2020",
          "xref": "x",
          "y": "Иркутская обл.",
          "yref": "y"
         },
         {
          "font": {
           "color": "#FFFFFF"
          },
          "showarrow": false,
          "text": "1.034",
          "x": "13.8.2020",
          "xref": "x",
          "y": "Иркутская обл.",
          "yref": "y"
         },
         {
          "font": {
           "color": "#FFFFFF"
          },
          "showarrow": false,
          "text": "1.033",
          "x": "14.8.2020",
          "xref": "x",
          "y": "Иркутская обл.",
          "yref": "y"
         },
         {
          "font": {
           "color": "#FFFFFF"
          },
          "showarrow": false,
          "text": "1.032",
          "x": "15.8.2020",
          "xref": "x",
          "y": "Иркутская обл.",
          "yref": "y"
         },
         {
          "font": {
           "color": "#FFFFFF"
          },
          "showarrow": false,
          "text": "1.031",
          "x": "16.8.2020",
          "xref": "x",
          "y": "Иркутская обл.",
          "yref": "y"
         },
         {
          "font": {
           "color": "#FFFFFF"
          },
          "showarrow": false,
          "text": "1.031",
          "x": "17.8.2020",
          "xref": "x",
          "y": "Иркутская обл.",
          "yref": "y"
         },
         {
          "font": {
           "color": "#FFFFFF"
          },
          "showarrow": false,
          "text": "1.03",
          "x": "18.8.2020",
          "xref": "x",
          "y": "Иркутская обл.",
          "yref": "y"
         },
         {
          "font": {
           "color": "#FFFFFF"
          },
          "showarrow": false,
          "text": "1.011",
          "x": "4.8.2020",
          "xref": "x",
          "y": "Москва",
          "yref": "y"
         },
         {
          "font": {
           "color": "#FFFFFF"
          },
          "showarrow": false,
          "text": "1.011",
          "x": "5.8.2020",
          "xref": "x",
          "y": "Москва",
          "yref": "y"
         },
         {
          "font": {
           "color": "#FFFFFF"
          },
          "showarrow": false,
          "text": "1.011",
          "x": "6.8.2020",
          "xref": "x",
          "y": "Москва",
          "yref": "y"
         },
         {
          "font": {
           "color": "#FFFFFF"
          },
          "showarrow": false,
          "text": "1.011",
          "x": "7.8.2020",
          "xref": "x",
          "y": "Москва",
          "yref": "y"
         },
         {
          "font": {
           "color": "#FFFFFF"
          },
          "showarrow": false,
          "text": "1.011",
          "x": "8.8.2020",
          "xref": "x",
          "y": "Москва",
          "yref": "y"
         },
         {
          "font": {
           "color": "#FFFFFF"
          },
          "showarrow": false,
          "text": "1.011",
          "x": "9.8.2020",
          "xref": "x",
          "y": "Москва",
          "yref": "y"
         },
         {
          "font": {
           "color": "#FFFFFF"
          },
          "showarrow": false,
          "text": "1.011",
          "x": "10.8.2020",
          "xref": "x",
          "y": "Москва",
          "yref": "y"
         },
         {
          "font": {
           "color": "#FFFFFF"
          },
          "showarrow": false,
          "text": "1.011",
          "x": "11.8.2020",
          "xref": "x",
          "y": "Москва",
          "yref": "y"
         },
         {
          "font": {
           "color": "#FFFFFF"
          },
          "showarrow": false,
          "text": "1.011",
          "x": "12.8.2020",
          "xref": "x",
          "y": "Москва",
          "yref": "y"
         },
         {
          "font": {
           "color": "#FFFFFF"
          },
          "showarrow": false,
          "text": "1.011",
          "x": "13.8.2020",
          "xref": "x",
          "y": "Москва",
          "yref": "y"
         },
         {
          "font": {
           "color": "#FFFFFF"
          },
          "showarrow": false,
          "text": "1.011",
          "x": "14.8.2020",
          "xref": "x",
          "y": "Москва",
          "yref": "y"
         },
         {
          "font": {
           "color": "#FFFFFF"
          },
          "showarrow": false,
          "text": "1.011",
          "x": "15.8.2020",
          "xref": "x",
          "y": "Москва",
          "yref": "y"
         },
         {
          "font": {
           "color": "#FFFFFF"
          },
          "showarrow": false,
          "text": "1.011",
          "x": "16.8.2020",
          "xref": "x",
          "y": "Москва",
          "yref": "y"
         },
         {
          "font": {
           "color": "#FFFFFF"
          },
          "showarrow": false,
          "text": "1.011",
          "x": "17.8.2020",
          "xref": "x",
          "y": "Москва",
          "yref": "y"
         },
         {
          "font": {
           "color": "#FFFFFF"
          },
          "showarrow": false,
          "text": "1.011",
          "x": "18.8.2020",
          "xref": "x",
          "y": "Москва",
          "yref": "y"
         },
         {
          "font": {
           "color": "#FFFFFF"
          },
          "showarrow": false,
          "text": "1.01",
          "x": "4.8.2020",
          "xref": "x",
          "y": "Московская обл.",
          "yref": "y"
         },
         {
          "font": {
           "color": "#FFFFFF"
          },
          "showarrow": false,
          "text": "1.01",
          "x": "5.8.2020",
          "xref": "x",
          "y": "Московская обл.",
          "yref": "y"
         },
         {
          "font": {
           "color": "#FFFFFF"
          },
          "showarrow": false,
          "text": "1.01",
          "x": "6.8.2020",
          "xref": "x",
          "y": "Московская обл.",
          "yref": "y"
         },
         {
          "font": {
           "color": "#FFFFFF"
          },
          "showarrow": false,
          "text": "1.01",
          "x": "7.8.2020",
          "xref": "x",
          "y": "Московская обл.",
          "yref": "y"
         },
         {
          "font": {
           "color": "#FFFFFF"
          },
          "showarrow": false,
          "text": "1.01",
          "x": "8.8.2020",
          "xref": "x",
          "y": "Московская обл.",
          "yref": "y"
         },
         {
          "font": {
           "color": "#FFFFFF"
          },
          "showarrow": false,
          "text": "1.01",
          "x": "9.8.2020",
          "xref": "x",
          "y": "Московская обл.",
          "yref": "y"
         },
         {
          "font": {
           "color": "#FFFFFF"
          },
          "showarrow": false,
          "text": "1.01",
          "x": "10.8.2020",
          "xref": "x",
          "y": "Московская обл.",
          "yref": "y"
         },
         {
          "font": {
           "color": "#FFFFFF"
          },
          "showarrow": false,
          "text": "1.01",
          "x": "11.8.2020",
          "xref": "x",
          "y": "Московская обл.",
          "yref": "y"
         },
         {
          "font": {
           "color": "#FFFFFF"
          },
          "showarrow": false,
          "text": "1.01",
          "x": "12.8.2020",
          "xref": "x",
          "y": "Московская обл.",
          "yref": "y"
         },
         {
          "font": {
           "color": "#FFFFFF"
          },
          "showarrow": false,
          "text": "1.009",
          "x": "13.8.2020",
          "xref": "x",
          "y": "Московская обл.",
          "yref": "y"
         },
         {
          "font": {
           "color": "#FFFFFF"
          },
          "showarrow": false,
          "text": "1.009",
          "x": "14.8.2020",
          "xref": "x",
          "y": "Московская обл.",
          "yref": "y"
         },
         {
          "font": {
           "color": "#FFFFFF"
          },
          "showarrow": false,
          "text": "1.009",
          "x": "15.8.2020",
          "xref": "x",
          "y": "Московская обл.",
          "yref": "y"
         },
         {
          "font": {
           "color": "#FFFFFF"
          },
          "showarrow": false,
          "text": "1.009",
          "x": "16.8.2020",
          "xref": "x",
          "y": "Московская обл.",
          "yref": "y"
         },
         {
          "font": {
           "color": "#FFFFFF"
          },
          "showarrow": false,
          "text": "1.009",
          "x": "17.8.2020",
          "xref": "x",
          "y": "Московская обл.",
          "yref": "y"
         },
         {
          "font": {
           "color": "#FFFFFF"
          },
          "showarrow": false,
          "text": "1.009",
          "x": "18.8.2020",
          "xref": "x",
          "y": "Московская обл.",
          "yref": "y"
         },
         {
          "font": {
           "color": "#FFFFFF"
          },
          "showarrow": false,
          "text": "1.026",
          "x": "4.8.2020",
          "xref": "x",
          "y": "Россия",
          "yref": "y"
         },
         {
          "font": {
           "color": "#FFFFFF"
          },
          "showarrow": false,
          "text": "1.026",
          "x": "5.8.2020",
          "xref": "x",
          "y": "Россия",
          "yref": "y"
         },
         {
          "font": {
           "color": "#FFFFFF"
          },
          "showarrow": false,
          "text": "1.025",
          "x": "6.8.2020",
          "xref": "x",
          "y": "Россия",
          "yref": "y"
         },
         {
          "font": {
           "color": "#FFFFFF"
          },
          "showarrow": false,
          "text": "1.025",
          "x": "7.8.2020",
          "xref": "x",
          "y": "Россия",
          "yref": "y"
         },
         {
          "font": {
           "color": "#FFFFFF"
          },
          "showarrow": false,
          "text": "1.025",
          "x": "8.8.2020",
          "xref": "x",
          "y": "Россия",
          "yref": "y"
         },
         {
          "font": {
           "color": "#FFFFFF"
          },
          "showarrow": false,
          "text": "1.024",
          "x": "9.8.2020",
          "xref": "x",
          "y": "Россия",
          "yref": "y"
         },
         {
          "font": {
           "color": "#FFFFFF"
          },
          "showarrow": false,
          "text": "1.024",
          "x": "10.8.2020",
          "xref": "x",
          "y": "Россия",
          "yref": "y"
         },
         {
          "font": {
           "color": "#FFFFFF"
          },
          "showarrow": false,
          "text": "1.024",
          "x": "11.8.2020",
          "xref": "x",
          "y": "Россия",
          "yref": "y"
         },
         {
          "font": {
           "color": "#FFFFFF"
          },
          "showarrow": false,
          "text": "1.024",
          "x": "12.8.2020",
          "xref": "x",
          "y": "Россия",
          "yref": "y"
         },
         {
          "font": {
           "color": "#FFFFFF"
          },
          "showarrow": false,
          "text": "1.023",
          "x": "13.8.2020",
          "xref": "x",
          "y": "Россия",
          "yref": "y"
         },
         {
          "font": {
           "color": "#FFFFFF"
          },
          "showarrow": false,
          "text": "1.023",
          "x": "14.8.2020",
          "xref": "x",
          "y": "Россия",
          "yref": "y"
         },
         {
          "font": {
           "color": "#FFFFFF"
          },
          "showarrow": false,
          "text": "1.023",
          "x": "15.8.2020",
          "xref": "x",
          "y": "Россия",
          "yref": "y"
         },
         {
          "font": {
           "color": "#FFFFFF"
          },
          "showarrow": false,
          "text": "1.023",
          "x": "16.8.2020",
          "xref": "x",
          "y": "Россия",
          "yref": "y"
         },
         {
          "font": {
           "color": "#FFFFFF"
          },
          "showarrow": false,
          "text": "1.022",
          "x": "17.8.2020",
          "xref": "x",
          "y": "Россия",
          "yref": "y"
         },
         {
          "font": {
           "color": "#FFFFFF"
          },
          "showarrow": false,
          "text": "1.022",
          "x": "18.8.2020",
          "xref": "x",
          "y": "Россия",
          "yref": "y"
         },
         {
          "font": {
           "color": "#FFFFFF"
          },
          "showarrow": false,
          "text": "1.021",
          "x": "4.8.2020",
          "xref": "x",
          "y": "Санкт-Петербург",
          "yref": "y"
         },
         {
          "font": {
           "color": "#FFFFFF"
          },
          "showarrow": false,
          "text": "1.02",
          "x": "5.8.2020",
          "xref": "x",
          "y": "Санкт-Петербург",
          "yref": "y"
         },
         {
          "font": {
           "color": "#FFFFFF"
          },
          "showarrow": false,
          "text": "1.02",
          "x": "6.8.2020",
          "xref": "x",
          "y": "Санкт-Петербург",
          "yref": "y"
         },
         {
          "font": {
           "color": "#FFFFFF"
          },
          "showarrow": false,
          "text": "1.02",
          "x": "7.8.2020",
          "xref": "x",
          "y": "Санкт-Петербург",
          "yref": "y"
         },
         {
          "font": {
           "color": "#FFFFFF"
          },
          "showarrow": false,
          "text": "1.02",
          "x": "8.8.2020",
          "xref": "x",
          "y": "Санкт-Петербург",
          "yref": "y"
         },
         {
          "font": {
           "color": "#FFFFFF"
          },
          "showarrow": false,
          "text": "1.02",
          "x": "9.8.2020",
          "xref": "x",
          "y": "Санкт-Петербург",
          "yref": "y"
         },
         {
          "font": {
           "color": "#FFFFFF"
          },
          "showarrow": false,
          "text": "1.02",
          "x": "10.8.2020",
          "xref": "x",
          "y": "Санкт-Петербург",
          "yref": "y"
         },
         {
          "font": {
           "color": "#FFFFFF"
          },
          "showarrow": false,
          "text": "1.019",
          "x": "11.8.2020",
          "xref": "x",
          "y": "Санкт-Петербург",
          "yref": "y"
         },
         {
          "font": {
           "color": "#FFFFFF"
          },
          "showarrow": false,
          "text": "1.019",
          "x": "12.8.2020",
          "xref": "x",
          "y": "Санкт-Петербург",
          "yref": "y"
         },
         {
          "font": {
           "color": "#FFFFFF"
          },
          "showarrow": false,
          "text": "1.019",
          "x": "13.8.2020",
          "xref": "x",
          "y": "Санкт-Петербург",
          "yref": "y"
         },
         {
          "font": {
           "color": "#FFFFFF"
          },
          "showarrow": false,
          "text": "1.019",
          "x": "14.8.2020",
          "xref": "x",
          "y": "Санкт-Петербург",
          "yref": "y"
         },
         {
          "font": {
           "color": "#FFFFFF"
          },
          "showarrow": false,
          "text": "1.019",
          "x": "15.8.2020",
          "xref": "x",
          "y": "Санкт-Петербург",
          "yref": "y"
         },
         {
          "font": {
           "color": "#FFFFFF"
          },
          "showarrow": false,
          "text": "1.019",
          "x": "16.8.2020",
          "xref": "x",
          "y": "Санкт-Петербург",
          "yref": "y"
         },
         {
          "font": {
           "color": "#FFFFFF"
          },
          "showarrow": false,
          "text": "1.019",
          "x": "17.8.2020",
          "xref": "x",
          "y": "Санкт-Петербург",
          "yref": "y"
         },
         {
          "font": {
           "color": "#FFFFFF"
          },
          "showarrow": false,
          "text": "1.019",
          "x": "18.8.2020",
          "xref": "x",
          "y": "Санкт-Петербург",
          "yref": "y"
         },
         {
          "font": {
           "color": "#FFFFFF"
          },
          "showarrow": false,
          "text": "1.042",
          "x": "4.8.2020",
          "xref": "x",
          "y": "Саратовская обл.",
          "yref": "y"
         },
         {
          "font": {
           "color": "#FFFFFF"
          },
          "showarrow": false,
          "text": "1.041",
          "x": "5.8.2020",
          "xref": "x",
          "y": "Саратовская обл.",
          "yref": "y"
         },
         {
          "font": {
           "color": "#FFFFFF"
          },
          "showarrow": false,
          "text": "1.04",
          "x": "6.8.2020",
          "xref": "x",
          "y": "Саратовская обл.",
          "yref": "y"
         },
         {
          "font": {
           "color": "#FFFFFF"
          },
          "showarrow": false,
          "text": "1.039",
          "x": "7.8.2020",
          "xref": "x",
          "y": "Саратовская обл.",
          "yref": "y"
         },
         {
          "font": {
           "color": "#FFFFFF"
          },
          "showarrow": false,
          "text": "1.039",
          "x": "8.8.2020",
          "xref": "x",
          "y": "Саратовская обл.",
          "yref": "y"
         },
         {
          "font": {
           "color": "#FFFFFF"
          },
          "showarrow": false,
          "text": "1.038",
          "x": "9.8.2020",
          "xref": "x",
          "y": "Саратовская обл.",
          "yref": "y"
         },
         {
          "font": {
           "color": "#FFFFFF"
          },
          "showarrow": false,
          "text": "1.038",
          "x": "10.8.2020",
          "xref": "x",
          "y": "Саратовская обл.",
          "yref": "y"
         },
         {
          "font": {
           "color": "#FFFFFF"
          },
          "showarrow": false,
          "text": "1.038",
          "x": "11.8.2020",
          "xref": "x",
          "y": "Саратовская обл.",
          "yref": "y"
         },
         {
          "font": {
           "color": "#FFFFFF"
          },
          "showarrow": false,
          "text": "1.038",
          "x": "12.8.2020",
          "xref": "x",
          "y": "Саратовская обл.",
          "yref": "y"
         },
         {
          "font": {
           "color": "#FFFFFF"
          },
          "showarrow": false,
          "text": "1.038",
          "x": "13.8.2020",
          "xref": "x",
          "y": "Саратовская обл.",
          "yref": "y"
         },
         {
          "font": {
           "color": "#FFFFFF"
          },
          "showarrow": false,
          "text": "1.037",
          "x": "14.8.2020",
          "xref": "x",
          "y": "Саратовская обл.",
          "yref": "y"
         },
         {
          "font": {
           "color": "#FFFFFF"
          },
          "showarrow": false,
          "text": "1.037",
          "x": "15.8.2020",
          "xref": "x",
          "y": "Саратовская обл.",
          "yref": "y"
         },
         {
          "font": {
           "color": "#FFFFFF"
          },
          "showarrow": false,
          "text": "1.037",
          "x": "16.8.2020",
          "xref": "x",
          "y": "Саратовская обл.",
          "yref": "y"
         },
         {
          "font": {
           "color": "#FFFFFF"
          },
          "showarrow": false,
          "text": "1.036",
          "x": "17.8.2020",
          "xref": "x",
          "y": "Саратовская обл.",
          "yref": "y"
         },
         {
          "font": {
           "color": "#FFFFFF"
          },
          "showarrow": false,
          "text": "1.036",
          "x": "18.8.2020",
          "xref": "x",
          "y": "Саратовская обл.",
          "yref": "y"
         },
         {
          "font": {
           "color": "#FFFFFF"
          },
          "showarrow": false,
          "text": "1.04",
          "x": "4.8.2020",
          "xref": "x",
          "y": "Свердловская обл.",
          "yref": "y"
         },
         {
          "font": {
           "color": "#FFFFFF"
          },
          "showarrow": false,
          "text": "1.039",
          "x": "5.8.2020",
          "xref": "x",
          "y": "Свердловская обл.",
          "yref": "y"
         },
         {
          "font": {
           "color": "#FFFFFF"
          },
          "showarrow": false,
          "text": "1.037",
          "x": "6.8.2020",
          "xref": "x",
          "y": "Свердловская обл.",
          "yref": "y"
         },
         {
          "font": {
           "color": "#FFFFFF"
          },
          "showarrow": false,
          "text": "1.036",
          "x": "7.8.2020",
          "xref": "x",
          "y": "Свердловская обл.",
          "yref": "y"
         },
         {
          "font": {
           "color": "#FFFFFF"
          },
          "showarrow": false,
          "text": "1.035",
          "x": "8.8.2020",
          "xref": "x",
          "y": "Свердловская обл.",
          "yref": "y"
         },
         {
          "font": {
           "color": "#FFFFFF"
          },
          "showarrow": false,
          "text": "1.034",
          "x": "9.8.2020",
          "xref": "x",
          "y": "Свердловская обл.",
          "yref": "y"
         },
         {
          "font": {
           "color": "#FFFFFF"
          },
          "showarrow": false,
          "text": "1.034",
          "x": "10.8.2020",
          "xref": "x",
          "y": "Свердловская обл.",
          "yref": "y"
         },
         {
          "font": {
           "color": "#FFFFFF"
          },
          "showarrow": false,
          "text": "1.033",
          "x": "11.8.2020",
          "xref": "x",
          "y": "Свердловская обл.",
          "yref": "y"
         },
         {
          "font": {
           "color": "#FFFFFF"
          },
          "showarrow": false,
          "text": "1.033",
          "x": "12.8.2020",
          "xref": "x",
          "y": "Свердловская обл.",
          "yref": "y"
         },
         {
          "font": {
           "color": "#FFFFFF"
          },
          "showarrow": false,
          "text": "1.032",
          "x": "13.8.2020",
          "xref": "x",
          "y": "Свердловская обл.",
          "yref": "y"
         },
         {
          "font": {
           "color": "#FFFFFF"
          },
          "showarrow": false,
          "text": "1.031",
          "x": "14.8.2020",
          "xref": "x",
          "y": "Свердловская обл.",
          "yref": "y"
         },
         {
          "font": {
           "color": "#FFFFFF"
          },
          "showarrow": false,
          "text": "1.03",
          "x": "15.8.2020",
          "xref": "x",
          "y": "Свердловская обл.",
          "yref": "y"
         },
         {
          "font": {
           "color": "#FFFFFF"
          },
          "showarrow": false,
          "text": "1.029",
          "x": "16.8.2020",
          "xref": "x",
          "y": "Свердловская обл.",
          "yref": "y"
         },
         {
          "font": {
           "color": "#FFFFFF"
          },
          "showarrow": false,
          "text": "1.028",
          "x": "17.8.2020",
          "xref": "x",
          "y": "Свердловская обл.",
          "yref": "y"
         },
         {
          "font": {
           "color": "#FFFFFF"
          },
          "showarrow": false,
          "text": "1.027",
          "x": "18.8.2020",
          "xref": "x",
          "y": "Свердловская обл.",
          "yref": "y"
         },
         {
          "font": {
           "color": "#FFFFFF"
          },
          "showarrow": false,
          "text": "1.056",
          "x": "4.8.2020",
          "xref": "x",
          "y": "Ставропольский край",
          "yref": "y"
         },
         {
          "font": {
           "color": "#FFFFFF"
          },
          "showarrow": false,
          "text": "1.054",
          "x": "5.8.2020",
          "xref": "x",
          "y": "Ставропольский край",
          "yref": "y"
         },
         {
          "font": {
           "color": "#FFFFFF"
          },
          "showarrow": false,
          "text": "1.053",
          "x": "6.8.2020",
          "xref": "x",
          "y": "Ставропольский край",
          "yref": "y"
         },
         {
          "font": {
           "color": "#FFFFFF"
          },
          "showarrow": false,
          "text": "1.052",
          "x": "7.8.2020",
          "xref": "x",
          "y": "Ставропольский край",
          "yref": "y"
         },
         {
          "font": {
           "color": "#FFFFFF"
          },
          "showarrow": false,
          "text": "1.053",
          "x": "8.8.2020",
          "xref": "x",
          "y": "Ставропольский край",
          "yref": "y"
         },
         {
          "font": {
           "color": "#FFFFFF"
          },
          "showarrow": false,
          "text": "1.054",
          "x": "9.8.2020",
          "xref": "x",
          "y": "Ставропольский край",
          "yref": "y"
         },
         {
          "font": {
           "color": "#FFFFFF"
          },
          "showarrow": false,
          "text": "1.054",
          "x": "10.8.2020",
          "xref": "x",
          "y": "Ставропольский край",
          "yref": "y"
         },
         {
          "font": {
           "color": "#FFFFFF"
          },
          "showarrow": false,
          "text": "1.055",
          "x": "11.8.2020",
          "xref": "x",
          "y": "Ставропольский край",
          "yref": "y"
         },
         {
          "font": {
           "color": "#FFFFFF"
          },
          "showarrow": false,
          "text": "1.054",
          "x": "12.8.2020",
          "xref": "x",
          "y": "Ставропольский край",
          "yref": "y"
         },
         {
          "font": {
           "color": "#FFFFFF"
          },
          "showarrow": false,
          "text": "1.052",
          "x": "13.8.2020",
          "xref": "x",
          "y": "Ставропольский край",
          "yref": "y"
         },
         {
          "font": {
           "color": "#FFFFFF"
          },
          "showarrow": false,
          "text": "1.05",
          "x": "14.8.2020",
          "xref": "x",
          "y": "Ставропольский край",
          "yref": "y"
         },
         {
          "font": {
           "color": "#FFFFFF"
          },
          "showarrow": false,
          "text": "1.048",
          "x": "15.8.2020",
          "xref": "x",
          "y": "Ставропольский край",
          "yref": "y"
         },
         {
          "font": {
           "color": "#FFFFFF"
          },
          "showarrow": false,
          "text": "1.048",
          "x": "16.8.2020",
          "xref": "x",
          "y": "Ставропольский край",
          "yref": "y"
         },
         {
          "font": {
           "color": "#FFFFFF"
          },
          "showarrow": false,
          "text": "1.05",
          "x": "17.8.2020",
          "xref": "x",
          "y": "Ставропольский край",
          "yref": "y"
         },
         {
          "font": {
           "color": "#FFFFFF"
          },
          "showarrow": false,
          "text": "1.051",
          "x": "18.8.2020",
          "xref": "x",
          "y": "Ставропольский край",
          "yref": "y"
         },
         {
          "font": {
           "color": "#FFFFFF"
          },
          "showarrow": false,
          "text": "1.048",
          "x": "4.8.2020",
          "xref": "x",
          "y": "Ульяновская обл.",
          "yref": "y"
         },
         {
          "font": {
           "color": "#FFFFFF"
          },
          "showarrow": false,
          "text": "1.047",
          "x": "5.8.2020",
          "xref": "x",
          "y": "Ульяновская обл.",
          "yref": "y"
         },
         {
          "font": {
           "color": "#FFFFFF"
          },
          "showarrow": false,
          "text": "1.047",
          "x": "6.8.2020",
          "xref": "x",
          "y": "Ульяновская обл.",
          "yref": "y"
         },
         {
          "font": {
           "color": "#FFFFFF"
          },
          "showarrow": false,
          "text": "1.046",
          "x": "7.8.2020",
          "xref": "x",
          "y": "Ульяновская обл.",
          "yref": "y"
         },
         {
          "font": {
           "color": "#FFFFFF"
          },
          "showarrow": false,
          "text": "1.045",
          "x": "8.8.2020",
          "xref": "x",
          "y": "Ульяновская обл.",
          "yref": "y"
         },
         {
          "font": {
           "color": "#FFFFFF"
          },
          "showarrow": false,
          "text": "1.044",
          "x": "9.8.2020",
          "xref": "x",
          "y": "Ульяновская обл.",
          "yref": "y"
         },
         {
          "font": {
           "color": "#FFFFFF"
          },
          "showarrow": false,
          "text": "1.043",
          "x": "10.8.2020",
          "xref": "x",
          "y": "Ульяновская обл.",
          "yref": "y"
         },
         {
          "font": {
           "color": "#FFFFFF"
          },
          "showarrow": false,
          "text": "1.043",
          "x": "11.8.2020",
          "xref": "x",
          "y": "Ульяновская обл.",
          "yref": "y"
         },
         {
          "font": {
           "color": "#FFFFFF"
          },
          "showarrow": false,
          "text": "1.042",
          "x": "12.8.2020",
          "xref": "x",
          "y": "Ульяновская обл.",
          "yref": "y"
         },
         {
          "font": {
           "color": "#FFFFFF"
          },
          "showarrow": false,
          "text": "1.041",
          "x": "13.8.2020",
          "xref": "x",
          "y": "Ульяновская обл.",
          "yref": "y"
         },
         {
          "font": {
           "color": "#FFFFFF"
          },
          "showarrow": false,
          "text": "1.04",
          "x": "14.8.2020",
          "xref": "x",
          "y": "Ульяновская обл.",
          "yref": "y"
         },
         {
          "font": {
           "color": "#FFFFFF"
          },
          "showarrow": false,
          "text": "1.039",
          "x": "15.8.2020",
          "xref": "x",
          "y": "Ульяновская обл.",
          "yref": "y"
         },
         {
          "font": {
           "color": "#FFFFFF"
          },
          "showarrow": false,
          "text": "1.038",
          "x": "16.8.2020",
          "xref": "x",
          "y": "Ульяновская обл.",
          "yref": "y"
         },
         {
          "font": {
           "color": "#FFFFFF"
          },
          "showarrow": false,
          "text": "1.038",
          "x": "17.8.2020",
          "xref": "x",
          "y": "Ульяновская обл.",
          "yref": "y"
         },
         {
          "font": {
           "color": "#FFFFFF"
          },
          "showarrow": false,
          "text": "1.038",
          "x": "18.8.2020",
          "xref": "x",
          "y": "Ульяновская обл.",
          "yref": "y"
         },
         {
          "font": {
           "color": "#FFFFFF"
          },
          "showarrow": false,
          "text": "1.041",
          "x": "4.8.2020",
          "xref": "x",
          "y": "Челябинская обл.",
          "yref": "y"
         },
         {
          "font": {
           "color": "#FFFFFF"
          },
          "showarrow": false,
          "text": "1.039",
          "x": "5.8.2020",
          "xref": "x",
          "y": "Челябинская обл.",
          "yref": "y"
         },
         {
          "font": {
           "color": "#FFFFFF"
          },
          "showarrow": false,
          "text": "1.038",
          "x": "6.8.2020",
          "xref": "x",
          "y": "Челябинская обл.",
          "yref": "y"
         },
         {
          "font": {
           "color": "#FFFFFF"
          },
          "showarrow": false,
          "text": "1.036",
          "x": "7.8.2020",
          "xref": "x",
          "y": "Челябинская обл.",
          "yref": "y"
         },
         {
          "font": {
           "color": "#FFFFFF"
          },
          "showarrow": false,
          "text": "1.035",
          "x": "8.8.2020",
          "xref": "x",
          "y": "Челябинская обл.",
          "yref": "y"
         },
         {
          "font": {
           "color": "#FFFFFF"
          },
          "showarrow": false,
          "text": "1.033",
          "x": "9.8.2020",
          "xref": "x",
          "y": "Челябинская обл.",
          "yref": "y"
         },
         {
          "font": {
           "color": "#FFFFFF"
          },
          "showarrow": false,
          "text": "1.032",
          "x": "10.8.2020",
          "xref": "x",
          "y": "Челябинская обл.",
          "yref": "y"
         },
         {
          "font": {
           "color": "#FFFFFF"
          },
          "showarrow": false,
          "text": "1.03",
          "x": "11.8.2020",
          "xref": "x",
          "y": "Челябинская обл.",
          "yref": "y"
         },
         {
          "font": {
           "color": "#FFFFFF"
          },
          "showarrow": false,
          "text": "1.03",
          "x": "12.8.2020",
          "xref": "x",
          "y": "Челябинская обл.",
          "yref": "y"
         },
         {
          "font": {
           "color": "#FFFFFF"
          },
          "showarrow": false,
          "text": "1.029",
          "x": "13.8.2020",
          "xref": "x",
          "y": "Челябинская обл.",
          "yref": "y"
         },
         {
          "font": {
           "color": "#FFFFFF"
          },
          "showarrow": false,
          "text": "1.029",
          "x": "14.8.2020",
          "xref": "x",
          "y": "Челябинская обл.",
          "yref": "y"
         },
         {
          "font": {
           "color": "#FFFFFF"
          },
          "showarrow": false,
          "text": "1.028",
          "x": "15.8.2020",
          "xref": "x",
          "y": "Челябинская обл.",
          "yref": "y"
         },
         {
          "font": {
           "color": "#FFFFFF"
          },
          "showarrow": false,
          "text": "1.027",
          "x": "16.8.2020",
          "xref": "x",
          "y": "Челябинская обл.",
          "yref": "y"
         },
         {
          "font": {
           "color": "#FFFFFF"
          },
          "showarrow": false,
          "text": "1.026",
          "x": "17.8.2020",
          "xref": "x",
          "y": "Челябинская обл.",
          "yref": "y"
         },
         {
          "font": {
           "color": "#FFFFFF"
          },
          "showarrow": false,
          "text": "1.025",
          "x": "18.8.2020",
          "xref": "x",
          "y": "Челябинская обл.",
          "yref": "y"
         }
        ],
        "height": 600,
        "template": {
         "data": {
          "bar": [
           {
            "error_x": {
             "color": "#2a3f5f"
            },
            "error_y": {
             "color": "#2a3f5f"
            },
            "marker": {
             "line": {
              "color": "#E5ECF6",
              "width": 0.5
             }
            },
            "type": "bar"
           }
          ],
          "barpolar": [
           {
            "marker": {
             "line": {
              "color": "#E5ECF6",
              "width": 0.5
             }
            },
            "type": "barpolar"
           }
          ],
          "carpet": [
           {
            "aaxis": {
             "endlinecolor": "#2a3f5f",
             "gridcolor": "white",
             "linecolor": "white",
             "minorgridcolor": "white",
             "startlinecolor": "#2a3f5f"
            },
            "baxis": {
             "endlinecolor": "#2a3f5f",
             "gridcolor": "white",
             "linecolor": "white",
             "minorgridcolor": "white",
             "startlinecolor": "#2a3f5f"
            },
            "type": "carpet"
           }
          ],
          "choropleth": [
           {
            "colorbar": {
             "outlinewidth": 0,
             "ticks": ""
            },
            "type": "choropleth"
           }
          ],
          "contour": [
           {
            "colorbar": {
             "outlinewidth": 0,
             "ticks": ""
            },
            "colorscale": [
             [
              0,
              "#0d0887"
             ],
             [
              0.1111111111111111,
              "#46039f"
             ],
             [
              0.2222222222222222,
              "#7201a8"
             ],
             [
              0.3333333333333333,
              "#9c179e"
             ],
             [
              0.4444444444444444,
              "#bd3786"
             ],
             [
              0.5555555555555556,
              "#d8576b"
             ],
             [
              0.6666666666666666,
              "#ed7953"
             ],
             [
              0.7777777777777778,
              "#fb9f3a"
             ],
             [
              0.8888888888888888,
              "#fdca26"
             ],
             [
              1,
              "#f0f921"
             ]
            ],
            "type": "contour"
           }
          ],
          "contourcarpet": [
           {
            "colorbar": {
             "outlinewidth": 0,
             "ticks": ""
            },
            "type": "contourcarpet"
           }
          ],
          "heatmap": [
           {
            "colorbar": {
             "outlinewidth": 0,
             "ticks": ""
            },
            "colorscale": [
             [
              0,
              "#0d0887"
             ],
             [
              0.1111111111111111,
              "#46039f"
             ],
             [
              0.2222222222222222,
              "#7201a8"
             ],
             [
              0.3333333333333333,
              "#9c179e"
             ],
             [
              0.4444444444444444,
              "#bd3786"
             ],
             [
              0.5555555555555556,
              "#d8576b"
             ],
             [
              0.6666666666666666,
              "#ed7953"
             ],
             [
              0.7777777777777778,
              "#fb9f3a"
             ],
             [
              0.8888888888888888,
              "#fdca26"
             ],
             [
              1,
              "#f0f921"
             ]
            ],
            "type": "heatmap"
           }
          ],
          "heatmapgl": [
           {
            "colorbar": {
             "outlinewidth": 0,
             "ticks": ""
            },
            "colorscale": [
             [
              0,
              "#0d0887"
             ],
             [
              0.1111111111111111,
              "#46039f"
             ],
             [
              0.2222222222222222,
              "#7201a8"
             ],
             [
              0.3333333333333333,
              "#9c179e"
             ],
             [
              0.4444444444444444,
              "#bd3786"
             ],
             [
              0.5555555555555556,
              "#d8576b"
             ],
             [
              0.6666666666666666,
              "#ed7953"
             ],
             [
              0.7777777777777778,
              "#fb9f3a"
             ],
             [
              0.8888888888888888,
              "#fdca26"
             ],
             [
              1,
              "#f0f921"
             ]
            ],
            "type": "heatmapgl"
           }
          ],
          "histogram": [
           {
            "marker": {
             "colorbar": {
              "outlinewidth": 0,
              "ticks": ""
             }
            },
            "type": "histogram"
           }
          ],
          "histogram2d": [
           {
            "colorbar": {
             "outlinewidth": 0,
             "ticks": ""
            },
            "colorscale": [
             [
              0,
              "#0d0887"
             ],
             [
              0.1111111111111111,
              "#46039f"
             ],
             [
              0.2222222222222222,
              "#7201a8"
             ],
             [
              0.3333333333333333,
              "#9c179e"
             ],
             [
              0.4444444444444444,
              "#bd3786"
             ],
             [
              0.5555555555555556,
              "#d8576b"
             ],
             [
              0.6666666666666666,
              "#ed7953"
             ],
             [
              0.7777777777777778,
              "#fb9f3a"
             ],
             [
              0.8888888888888888,
              "#fdca26"
             ],
             [
              1,
              "#f0f921"
             ]
            ],
            "type": "histogram2d"
           }
          ],
          "histogram2dcontour": [
           {
            "colorbar": {
             "outlinewidth": 0,
             "ticks": ""
            },
            "colorscale": [
             [
              0,
              "#0d0887"
             ],
             [
              0.1111111111111111,
              "#46039f"
             ],
             [
              0.2222222222222222,
              "#7201a8"
             ],
             [
              0.3333333333333333,
              "#9c179e"
             ],
             [
              0.4444444444444444,
              "#bd3786"
             ],
             [
              0.5555555555555556,
              "#d8576b"
             ],
             [
              0.6666666666666666,
              "#ed7953"
             ],
             [
              0.7777777777777778,
              "#fb9f3a"
             ],
             [
              0.8888888888888888,
              "#fdca26"
             ],
             [
              1,
              "#f0f921"
             ]
            ],
            "type": "histogram2dcontour"
           }
          ],
          "mesh3d": [
           {
            "colorbar": {
             "outlinewidth": 0,
             "ticks": ""
            },
            "type": "mesh3d"
           }
          ],
          "parcoords": [
           {
            "line": {
             "colorbar": {
              "outlinewidth": 0,
              "ticks": ""
             }
            },
            "type": "parcoords"
           }
          ],
          "pie": [
           {
            "automargin": true,
            "type": "pie"
           }
          ],
          "scatter": [
           {
            "marker": {
             "colorbar": {
              "outlinewidth": 0,
              "ticks": ""
             }
            },
            "type": "scatter"
           }
          ],
          "scatter3d": [
           {
            "line": {
             "colorbar": {
              "outlinewidth": 0,
              "ticks": ""
             }
            },
            "marker": {
             "colorbar": {
              "outlinewidth": 0,
              "ticks": ""
             }
            },
            "type": "scatter3d"
           }
          ],
          "scattercarpet": [
           {
            "marker": {
             "colorbar": {
              "outlinewidth": 0,
              "ticks": ""
             }
            },
            "type": "scattercarpet"
           }
          ],
          "scattergeo": [
           {
            "marker": {
             "colorbar": {
              "outlinewidth": 0,
              "ticks": ""
             }
            },
            "type": "scattergeo"
           }
          ],
          "scattergl": [
           {
            "marker": {
             "colorbar": {
              "outlinewidth": 0,
              "ticks": ""
             }
            },
            "type": "scattergl"
           }
          ],
          "scattermapbox": [
           {
            "marker": {
             "colorbar": {
              "outlinewidth": 0,
              "ticks": ""
             }
            },
            "type": "scattermapbox"
           }
          ],
          "scatterpolar": [
           {
            "marker": {
             "colorbar": {
              "outlinewidth": 0,
              "ticks": ""
             }
            },
            "type": "scatterpolar"
           }
          ],
          "scatterpolargl": [
           {
            "marker": {
             "colorbar": {
              "outlinewidth": 0,
              "ticks": ""
             }
            },
            "type": "scatterpolargl"
           }
          ],
          "scatterternary": [
           {
            "marker": {
             "colorbar": {
              "outlinewidth": 0,
              "ticks": ""
             }
            },
            "type": "scatterternary"
           }
          ],
          "surface": [
           {
            "colorbar": {
             "outlinewidth": 0,
             "ticks": ""
            },
            "colorscale": [
             [
              0,
              "#0d0887"
             ],
             [
              0.1111111111111111,
              "#46039f"
             ],
             [
              0.2222222222222222,
              "#7201a8"
             ],
             [
              0.3333333333333333,
              "#9c179e"
             ],
             [
              0.4444444444444444,
              "#bd3786"
             ],
             [
              0.5555555555555556,
              "#d8576b"
             ],
             [
              0.6666666666666666,
              "#ed7953"
             ],
             [
              0.7777777777777778,
              "#fb9f3a"
             ],
             [
              0.8888888888888888,
              "#fdca26"
             ],
             [
              1,
              "#f0f921"
             ]
            ],
            "type": "surface"
           }
          ],
          "table": [
           {
            "cells": {
             "fill": {
              "color": "#EBF0F8"
             },
             "line": {
              "color": "white"
             }
            },
            "header": {
             "fill": {
              "color": "#C8D4E3"
             },
             "line": {
              "color": "white"
             }
            },
            "type": "table"
           }
          ]
         },
         "layout": {
          "annotationdefaults": {
           "arrowcolor": "#2a3f5f",
           "arrowhead": 0,
           "arrowwidth": 1
          },
          "coloraxis": {
           "colorbar": {
            "outlinewidth": 0,
            "ticks": ""
           }
          },
          "colorscale": {
           "diverging": [
            [
             0,
             "#8e0152"
            ],
            [
             0.1,
             "#c51b7d"
            ],
            [
             0.2,
             "#de77ae"
            ],
            [
             0.3,
             "#f1b6da"
            ],
            [
             0.4,
             "#fde0ef"
            ],
            [
             0.5,
             "#f7f7f7"
            ],
            [
             0.6,
             "#e6f5d0"
            ],
            [
             0.7,
             "#b8e186"
            ],
            [
             0.8,
             "#7fbc41"
            ],
            [
             0.9,
             "#4d9221"
            ],
            [
             1,
             "#276419"
            ]
           ],
           "sequential": [
            [
             0,
             "#0d0887"
            ],
            [
             0.1111111111111111,
             "#46039f"
            ],
            [
             0.2222222222222222,
             "#7201a8"
            ],
            [
             0.3333333333333333,
             "#9c179e"
            ],
            [
             0.4444444444444444,
             "#bd3786"
            ],
            [
             0.5555555555555556,
             "#d8576b"
            ],
            [
             0.6666666666666666,
             "#ed7953"
            ],
            [
             0.7777777777777778,
             "#fb9f3a"
            ],
            [
             0.8888888888888888,
             "#fdca26"
            ],
            [
             1,
             "#f0f921"
            ]
           ],
           "sequentialminus": [
            [
             0,
             "#0d0887"
            ],
            [
             0.1111111111111111,
             "#46039f"
            ],
            [
             0.2222222222222222,
             "#7201a8"
            ],
            [
             0.3333333333333333,
             "#9c179e"
            ],
            [
             0.4444444444444444,
             "#bd3786"
            ],
            [
             0.5555555555555556,
             "#d8576b"
            ],
            [
             0.6666666666666666,
             "#ed7953"
            ],
            [
             0.7777777777777778,
             "#fb9f3a"
            ],
            [
             0.8888888888888888,
             "#fdca26"
            ],
            [
             1,
             "#f0f921"
            ]
           ]
          },
          "colorway": [
           "#636efa",
           "#EF553B",
           "#00cc96",
           "#ab63fa",
           "#FFA15A",
           "#19d3f3",
           "#FF6692",
           "#B6E880",
           "#FF97FF",
           "#FECB52"
          ],
          "font": {
           "color": "#2a3f5f"
          },
          "geo": {
           "bgcolor": "white",
           "lakecolor": "white",
           "landcolor": "#E5ECF6",
           "showlakes": true,
           "showland": true,
           "subunitcolor": "white"
          },
          "hoverlabel": {
           "align": "left"
          },
          "hovermode": "closest",
          "mapbox": {
           "style": "light"
          },
          "paper_bgcolor": "white",
          "plot_bgcolor": "#E5ECF6",
          "polar": {
           "angularaxis": {
            "gridcolor": "white",
            "linecolor": "white",
            "ticks": ""
           },
           "bgcolor": "#E5ECF6",
           "radialaxis": {
            "gridcolor": "white",
            "linecolor": "white",
            "ticks": ""
           }
          },
          "scene": {
           "xaxis": {
            "backgroundcolor": "#E5ECF6",
            "gridcolor": "white",
            "gridwidth": 2,
            "linecolor": "white",
            "showbackground": true,
            "ticks": "",
            "zerolinecolor": "white"
           },
           "yaxis": {
            "backgroundcolor": "#E5ECF6",
            "gridcolor": "white",
            "gridwidth": 2,
            "linecolor": "white",
            "showbackground": true,
            "ticks": "",
            "zerolinecolor": "white"
           },
           "zaxis": {
            "backgroundcolor": "#E5ECF6",
            "gridcolor": "white",
            "gridwidth": 2,
            "linecolor": "white",
            "showbackground": true,
            "ticks": "",
            "zerolinecolor": "white"
           }
          },
          "shapedefaults": {
           "line": {
            "color": "#2a3f5f"
           }
          },
          "ternary": {
           "aaxis": {
            "gridcolor": "white",
            "linecolor": "white",
            "ticks": ""
           },
           "baxis": {
            "gridcolor": "white",
            "linecolor": "white",
            "ticks": ""
           },
           "bgcolor": "#E5ECF6",
           "caxis": {
            "gridcolor": "white",
            "linecolor": "white",
            "ticks": ""
           }
          },
          "title": {
           "x": 0.05
          },
          "xaxis": {
           "automargin": true,
           "gridcolor": "white",
           "linecolor": "white",
           "ticks": "",
           "title": {
            "standoff": 15
           },
           "zerolinecolor": "white",
           "zerolinewidth": 2
          },
          "yaxis": {
           "automargin": true,
           "gridcolor": "white",
           "linecolor": "white",
           "ticks": "",
           "title": {
            "standoff": 15
           },
           "zerolinecolor": "white",
           "zerolinewidth": 2
          }
         }
        },
        "width": 990,
        "xaxis": {
         "dtick": 1,
         "gridcolor": "rgb(0, 0, 0)",
         "side": "top",
         "ticks": "",
         "title": {
          "text": "Динамика коэффициента распространения Rt2 по регионам"
         }
        },
        "yaxis": {
         "dtick": 1,
         "ticks": "",
         "ticksuffix": "  "
        }
       }
      }
     },
     "metadata": {}
    }
   ],
   "source": [
    "fig = ff.create_annotated_heatmap(d, x=x2, y=y, annotation_text=d,\n",
    "                                  colorscale='Temps')\n",
    "\n",
    "fig.update_layout(\n",
    "                  \n",
    "                  \n",
    "                  width = 990, height = 600,    \n",
    "    \n",
    "                  xaxis_title='Динамика коэффициента распространения Rt2 по регионам',\n",
    "               #   yaxis_title = 'Регион '\n",
    ")\n",
    "\n",
    "fig.show()\n"
   ]
  },
  {
   "cell_type": "code",
   "execution_count": 133,
   "metadata": {},
   "outputs": [
    {
     "output_type": "execute_result",
     "data": {
      "text/plain": "Date              Region  2020-08-04  2020-08-05  2020-08-06  2020-08-07  \\\n0     Волгоградская обл.          92          96          98          93   \n1         Иркутская обл.         137         135         128         130   \n2                 Москва         691         687         684         686   \n3        Московская обл.         161         162         159         158   \n4                 Россия        5159        5204        5267        5241   \n\nDate  2020-08-08  2020-08-09  2020-08-10  2020-08-11  2020-08-12  2020-08-13  \\\n0             88         106          97          95          91         102   \n1            119         123         120         124         119         115   \n2            691         689         694         694         689         692   \n3            161         149         153         154         152         148   \n4           5212        5189        5118        4945        5102        5057   \n\nDate  2020-08-14  2020-08-15  2020-08-16  2020-08-17  2020-08-18  \n0             97          96          92          95          89  \n1            110         113         118         114         108  \n2            688         695         688         690         693  \n3            156         153         154         153         145  \n4           5065        5061        4969        4892        4748  ",
      "text/html": "<div>\n<style scoped>\n    .dataframe tbody tr th:only-of-type {\n        vertical-align: middle;\n    }\n\n    .dataframe tbody tr th {\n        vertical-align: top;\n    }\n\n    .dataframe thead th {\n        text-align: right;\n    }\n</style>\n<table border=\"1\" class=\"dataframe\">\n  <thead>\n    <tr style=\"text-align: right;\">\n      <th>Date</th>\n      <th>Region</th>\n      <th>2020-08-04</th>\n      <th>2020-08-05</th>\n      <th>2020-08-06</th>\n      <th>2020-08-07</th>\n      <th>2020-08-08</th>\n      <th>2020-08-09</th>\n      <th>2020-08-10</th>\n      <th>2020-08-11</th>\n      <th>2020-08-12</th>\n      <th>2020-08-13</th>\n      <th>2020-08-14</th>\n      <th>2020-08-15</th>\n      <th>2020-08-16</th>\n      <th>2020-08-17</th>\n      <th>2020-08-18</th>\n    </tr>\n  </thead>\n  <tbody>\n    <tr>\n      <th>0</th>\n      <td>Волгоградская обл.</td>\n      <td>92</td>\n      <td>96</td>\n      <td>98</td>\n      <td>93</td>\n      <td>88</td>\n      <td>106</td>\n      <td>97</td>\n      <td>95</td>\n      <td>91</td>\n      <td>102</td>\n      <td>97</td>\n      <td>96</td>\n      <td>92</td>\n      <td>95</td>\n      <td>89</td>\n    </tr>\n    <tr>\n      <th>1</th>\n      <td>Иркутская обл.</td>\n      <td>137</td>\n      <td>135</td>\n      <td>128</td>\n      <td>130</td>\n      <td>119</td>\n      <td>123</td>\n      <td>120</td>\n      <td>124</td>\n      <td>119</td>\n      <td>115</td>\n      <td>110</td>\n      <td>113</td>\n      <td>118</td>\n      <td>114</td>\n      <td>108</td>\n    </tr>\n    <tr>\n      <th>2</th>\n      <td>Москва</td>\n      <td>691</td>\n      <td>687</td>\n      <td>684</td>\n      <td>686</td>\n      <td>691</td>\n      <td>689</td>\n      <td>694</td>\n      <td>694</td>\n      <td>689</td>\n      <td>692</td>\n      <td>688</td>\n      <td>695</td>\n      <td>688</td>\n      <td>690</td>\n      <td>693</td>\n    </tr>\n    <tr>\n      <th>3</th>\n      <td>Московская обл.</td>\n      <td>161</td>\n      <td>162</td>\n      <td>159</td>\n      <td>158</td>\n      <td>161</td>\n      <td>149</td>\n      <td>153</td>\n      <td>154</td>\n      <td>152</td>\n      <td>148</td>\n      <td>156</td>\n      <td>153</td>\n      <td>154</td>\n      <td>153</td>\n      <td>145</td>\n    </tr>\n    <tr>\n      <th>4</th>\n      <td>Россия</td>\n      <td>5159</td>\n      <td>5204</td>\n      <td>5267</td>\n      <td>5241</td>\n      <td>5212</td>\n      <td>5189</td>\n      <td>5118</td>\n      <td>4945</td>\n      <td>5102</td>\n      <td>5057</td>\n      <td>5065</td>\n      <td>5061</td>\n      <td>4969</td>\n      <td>4892</td>\n      <td>4748</td>\n    </tr>\n  </tbody>\n</table>\n</div>"
     },
     "metadata": {},
     "execution_count": 133
    }
   ],
   "source": [
    "mask = (X.Date>=past14)&(X.Region.isin(regions_towatch))\n",
    "\n",
    "Z = X[mask].groupby(['Region','Date'])['Day_confirmed'].sum().unstack().reset_index()\n",
    "Z.dropna(inplace=True)\n",
    "d = Z.drop('Region',axis = 1).values\n",
    "Z.head()"
   ]
  },
  {
   "cell_type": "code",
   "execution_count": 134,
   "metadata": {
    "tags": []
   },
   "outputs": [
    {
     "output_type": "stream",
     "name": "stdout",
     "text": "['4.8.2020', '5.8.2020', '6.8.2020', '7.8.2020', '8.8.2020', '9.8.2020', '10.8.2020', '11.8.2020', '12.8.2020', '13.8.2020', '14.8.2020', '15.8.2020', '16.8.2020', '17.8.2020', '18.8.2020']\n"
    }
   ],
   "source": [
    "\n",
    "\n",
    "\n",
    "x1=list(Z.columns[1:])\n",
    "y=list(Z.Region)\n",
    "x2=[]\n",
    "for i in x1:\n",
    "    x2.append(str(i.day)+'.'+str(i.month)+\".\"+str(i.year))\n",
    "    \n",
    "print(x2)\n"
   ]
  },
  {
   "cell_type": "code",
   "execution_count": 135,
   "metadata": {},
   "outputs": [
    {
     "output_type": "display_data",
     "data": {
      "application/vnd.plotly.v1+json": {
       "config": {
        "plotlyServerURL": "https://plotly.com"
       },
       "data": [
        {
         "colorscale": [
          [
           0,
           "rgb(0, 147, 146)"
          ],
          [
           0.16666666666666666,
           "rgb(57, 177, 133)"
          ],
          [
           0.3333333333333333,
           "rgb(156, 203, 134)"
          ],
          [
           0.5,
           "rgb(233, 226, 156)"
          ],
          [
           0.6666666666666666,
           "rgb(238, 180, 121)"
          ],
          [
           0.8333333333333334,
           "rgb(232, 132, 113)"
          ],
          [
           1,
           "rgb(207, 89, 126)"
          ]
         ],
         "reversescale": false,
         "showscale": false,
         "type": "heatmap",
         "x": [
          "4.8.2020",
          "5.8.2020",
          "6.8.2020",
          "7.8.2020",
          "8.8.2020",
          "9.8.2020",
          "10.8.2020",
          "11.8.2020",
          "12.8.2020",
          "13.8.2020",
          "14.8.2020",
          "15.8.2020",
          "16.8.2020",
          "17.8.2020",
          "18.8.2020"
         ],
         "y": [
          "Волгоградская обл.",
          "Иркутская обл.",
          "Москва",
          "Московская обл.",
          "Россия",
          "Санкт-Петербург",
          "Саратовская обл.",
          "Свердловская обл.",
          "Ставропольский край",
          "Ульяновская обл.",
          "Челябинская обл."
         ],
         "z": [
          [
           92,
           96,
           98,
           93,
           88,
           106,
           97,
           95,
           91,
           102,
           97,
           96,
           92,
           95,
           89
          ],
          [
           137,
           135,
           128,
           130,
           119,
           123,
           120,
           124,
           119,
           115,
           110,
           113,
           118,
           114,
           108
          ],
          [
           691,
           687,
           684,
           686,
           691,
           689,
           694,
           694,
           689,
           692,
           688,
           695,
           688,
           690,
           693
          ],
          [
           161,
           162,
           159,
           158,
           161,
           149,
           153,
           154,
           152,
           148,
           156,
           153,
           154,
           153,
           145
          ],
          [
           5159,
           5204,
           5267,
           5241,
           5212,
           5189,
           5118,
           4945,
           5102,
           5057,
           5065,
           5061,
           4969,
           4892,
           4748
          ],
          [
           158,
           156,
           159,
           157,
           155,
           160,
           157,
           157,
           161,
           160,
           159,
           162,
           163,
           159,
           157
          ],
          [
           93,
           94,
           90,
           94,
           95,
           96,
           95,
           94,
           96,
           95,
           94,
           97,
           98,
           96,
           98
          ],
          [
           182,
           181,
           183,
           180,
           178,
           184,
           179,
           168,
           167,
           162,
           154,
           158,
           150,
           141,
           149
          ],
          [
           98,
           121,
           116,
           104,
           137,
           127,
           125,
           111,
           95,
           105,
           130,
           127,
           129,
           132,
           128
          ],
          [
           109,
           100,
           109,
           100,
           100,
           110,
           95,
           115,
           91,
           94,
           86,
           120,
           91,
           102,
           95
          ],
          [
           105,
           103,
           92,
           89,
           87,
           94,
           83,
           85,
           88,
           84,
           80,
           76,
           79,
           69,
           67
          ]
         ]
        }
       ],
       "layout": {
        "annotations": [
         {
          "font": {
           "color": "#FFFFFF"
          },
          "showarrow": false,
          "text": "92",
          "x": "4.8.2020",
          "xref": "x",
          "y": "Волгоградская обл.",
          "yref": "y"
         },
         {
          "font": {
           "color": "#FFFFFF"
          },
          "showarrow": false,
          "text": "96",
          "x": "5.8.2020",
          "xref": "x",
          "y": "Волгоградская обл.",
          "yref": "y"
         },
         {
          "font": {
           "color": "#FFFFFF"
          },
          "showarrow": false,
          "text": "98",
          "x": "6.8.2020",
          "xref": "x",
          "y": "Волгоградская обл.",
          "yref": "y"
         },
         {
          "font": {
           "color": "#FFFFFF"
          },
          "showarrow": false,
          "text": "93",
          "x": "7.8.2020",
          "xref": "x",
          "y": "Волгоградская обл.",
          "yref": "y"
         },
         {
          "font": {
           "color": "#FFFFFF"
          },
          "showarrow": false,
          "text": "88",
          "x": "8.8.2020",
          "xref": "x",
          "y": "Волгоградская обл.",
          "yref": "y"
         },
         {
          "font": {
           "color": "#FFFFFF"
          },
          "showarrow": false,
          "text": "106",
          "x": "9.8.2020",
          "xref": "x",
          "y": "Волгоградская обл.",
          "yref": "y"
         },
         {
          "font": {
           "color": "#FFFFFF"
          },
          "showarrow": false,
          "text": "97",
          "x": "10.8.2020",
          "xref": "x",
          "y": "Волгоградская обл.",
          "yref": "y"
         },
         {
          "font": {
           "color": "#FFFFFF"
          },
          "showarrow": false,
          "text": "95",
          "x": "11.8.2020",
          "xref": "x",
          "y": "Волгоградская обл.",
          "yref": "y"
         },
         {
          "font": {
           "color": "#FFFFFF"
          },
          "showarrow": false,
          "text": "91",
          "x": "12.8.2020",
          "xref": "x",
          "y": "Волгоградская обл.",
          "yref": "y"
         },
         {
          "font": {
           "color": "#FFFFFF"
          },
          "showarrow": false,
          "text": "102",
          "x": "13.8.2020",
          "xref": "x",
          "y": "Волгоградская обл.",
          "yref": "y"
         },
         {
          "font": {
           "color": "#FFFFFF"
          },
          "showarrow": false,
          "text": "97",
          "x": "14.8.2020",
          "xref": "x",
          "y": "Волгоградская обл.",
          "yref": "y"
         },
         {
          "font": {
           "color": "#FFFFFF"
          },
          "showarrow": false,
          "text": "96",
          "x": "15.8.2020",
          "xref": "x",
          "y": "Волгоградская обл.",
          "yref": "y"
         },
         {
          "font": {
           "color": "#FFFFFF"
          },
          "showarrow": false,
          "text": "92",
          "x": "16.8.2020",
          "xref": "x",
          "y": "Волгоградская обл.",
          "yref": "y"
         },
         {
          "font": {
           "color": "#FFFFFF"
          },
          "showarrow": false,
          "text": "95",
          "x": "17.8.2020",
          "xref": "x",
          "y": "Волгоградская обл.",
          "yref": "y"
         },
         {
          "font": {
           "color": "#FFFFFF"
          },
          "showarrow": false,
          "text": "89",
          "x": "18.8.2020",
          "xref": "x",
          "y": "Волгоградская обл.",
          "yref": "y"
         },
         {
          "font": {
           "color": "#FFFFFF"
          },
          "showarrow": false,
          "text": "137",
          "x": "4.8.2020",
          "xref": "x",
          "y": "Иркутская обл.",
          "yref": "y"
         },
         {
          "font": {
           "color": "#FFFFFF"
          },
          "showarrow": false,
          "text": "135",
          "x": "5.8.2020",
          "xref": "x",
          "y": "Иркутская обл.",
          "yref": "y"
         },
         {
          "font": {
           "color": "#FFFFFF"
          },
          "showarrow": false,
          "text": "128",
          "x": "6.8.2020",
          "xref": "x",
          "y": "Иркутская обл.",
          "yref": "y"
         },
         {
          "font": {
           "color": "#FFFFFF"
          },
          "showarrow": false,
          "text": "130",
          "x": "7.8.2020",
          "xref": "x",
          "y": "Иркутская обл.",
          "yref": "y"
         },
         {
          "font": {
           "color": "#FFFFFF"
          },
          "showarrow": false,
          "text": "119",
          "x": "8.8.2020",
          "xref": "x",
          "y": "Иркутская обл.",
          "yref": "y"
         },
         {
          "font": {
           "color": "#FFFFFF"
          },
          "showarrow": false,
          "text": "123",
          "x": "9.8.2020",
          "xref": "x",
          "y": "Иркутская обл.",
          "yref": "y"
         },
         {
          "font": {
           "color": "#FFFFFF"
          },
          "showarrow": false,
          "text": "120",
          "x": "10.8.2020",
          "xref": "x",
          "y": "Иркутская обл.",
          "yref": "y"
         },
         {
          "font": {
           "color": "#FFFFFF"
          },
          "showarrow": false,
          "text": "124",
          "x": "11.8.2020",
          "xref": "x",
          "y": "Иркутская обл.",
          "yref": "y"
         },
         {
          "font": {
           "color": "#FFFFFF"
          },
          "showarrow": false,
          "text": "119",
          "x": "12.8.2020",
          "xref": "x",
          "y": "Иркутская обл.",
          "yref": "y"
         },
         {
          "font": {
           "color": "#FFFFFF"
          },
          "showarrow": false,
          "text": "115",
          "x": "13.8.2020",
          "xref": "x",
          "y": "Иркутская обл.",
          "yref": "y"
         },
         {
          "font": {
           "color": "#FFFFFF"
          },
          "showarrow": false,
          "text": "110",
          "x": "14.8.2020",
          "xref": "x",
          "y": "Иркутская обл.",
          "yref": "y"
         },
         {
          "font": {
           "color": "#FFFFFF"
          },
          "showarrow": false,
          "text": "113",
          "x": "15.8.2020",
          "xref": "x",
          "y": "Иркутская обл.",
          "yref": "y"
         },
         {
          "font": {
           "color": "#FFFFFF"
          },
          "showarrow": false,
          "text": "118",
          "x": "16.8.2020",
          "xref": "x",
          "y": "Иркутская обл.",
          "yref": "y"
         },
         {
          "font": {
           "color": "#FFFFFF"
          },
          "showarrow": false,
          "text": "114",
          "x": "17.8.2020",
          "xref": "x",
          "y": "Иркутская обл.",
          "yref": "y"
         },
         {
          "font": {
           "color": "#FFFFFF"
          },
          "showarrow": false,
          "text": "108",
          "x": "18.8.2020",
          "xref": "x",
          "y": "Иркутская обл.",
          "yref": "y"
         },
         {
          "font": {
           "color": "#FFFFFF"
          },
          "showarrow": false,
          "text": "691",
          "x": "4.8.2020",
          "xref": "x",
          "y": "Москва",
          "yref": "y"
         },
         {
          "font": {
           "color": "#FFFFFF"
          },
          "showarrow": false,
          "text": "687",
          "x": "5.8.2020",
          "xref": "x",
          "y": "Москва",
          "yref": "y"
         },
         {
          "font": {
           "color": "#FFFFFF"
          },
          "showarrow": false,
          "text": "684",
          "x": "6.8.2020",
          "xref": "x",
          "y": "Москва",
          "yref": "y"
         },
         {
          "font": {
           "color": "#FFFFFF"
          },
          "showarrow": false,
          "text": "686",
          "x": "7.8.2020",
          "xref": "x",
          "y": "Москва",
          "yref": "y"
         },
         {
          "font": {
           "color": "#FFFFFF"
          },
          "showarrow": false,
          "text": "691",
          "x": "8.8.2020",
          "xref": "x",
          "y": "Москва",
          "yref": "y"
         },
         {
          "font": {
           "color": "#FFFFFF"
          },
          "showarrow": false,
          "text": "689",
          "x": "9.8.2020",
          "xref": "x",
          "y": "Москва",
          "yref": "y"
         },
         {
          "font": {
           "color": "#FFFFFF"
          },
          "showarrow": false,
          "text": "694",
          "x": "10.8.2020",
          "xref": "x",
          "y": "Москва",
          "yref": "y"
         },
         {
          "font": {
           "color": "#FFFFFF"
          },
          "showarrow": false,
          "text": "694",
          "x": "11.8.2020",
          "xref": "x",
          "y": "Москва",
          "yref": "y"
         },
         {
          "font": {
           "color": "#FFFFFF"
          },
          "showarrow": false,
          "text": "689",
          "x": "12.8.2020",
          "xref": "x",
          "y": "Москва",
          "yref": "y"
         },
         {
          "font": {
           "color": "#FFFFFF"
          },
          "showarrow": false,
          "text": "692",
          "x": "13.8.2020",
          "xref": "x",
          "y": "Москва",
          "yref": "y"
         },
         {
          "font": {
           "color": "#FFFFFF"
          },
          "showarrow": false,
          "text": "688",
          "x": "14.8.2020",
          "xref": "x",
          "y": "Москва",
          "yref": "y"
         },
         {
          "font": {
           "color": "#FFFFFF"
          },
          "showarrow": false,
          "text": "695",
          "x": "15.8.2020",
          "xref": "x",
          "y": "Москва",
          "yref": "y"
         },
         {
          "font": {
           "color": "#FFFFFF"
          },
          "showarrow": false,
          "text": "688",
          "x": "16.8.2020",
          "xref": "x",
          "y": "Москва",
          "yref": "y"
         },
         {
          "font": {
           "color": "#FFFFFF"
          },
          "showarrow": false,
          "text": "690",
          "x": "17.8.2020",
          "xref": "x",
          "y": "Москва",
          "yref": "y"
         },
         {
          "font": {
           "color": "#FFFFFF"
          },
          "showarrow": false,
          "text": "693",
          "x": "18.8.2020",
          "xref": "x",
          "y": "Москва",
          "yref": "y"
         },
         {
          "font": {
           "color": "#FFFFFF"
          },
          "showarrow": false,
          "text": "161",
          "x": "4.8.2020",
          "xref": "x",
          "y": "Московская обл.",
          "yref": "y"
         },
         {
          "font": {
           "color": "#FFFFFF"
          },
          "showarrow": false,
          "text": "162",
          "x": "5.8.2020",
          "xref": "x",
          "y": "Московская обл.",
          "yref": "y"
         },
         {
          "font": {
           "color": "#FFFFFF"
          },
          "showarrow": false,
          "text": "159",
          "x": "6.8.2020",
          "xref": "x",
          "y": "Московская обл.",
          "yref": "y"
         },
         {
          "font": {
           "color": "#FFFFFF"
          },
          "showarrow": false,
          "text": "158",
          "x": "7.8.2020",
          "xref": "x",
          "y": "Московская обл.",
          "yref": "y"
         },
         {
          "font": {
           "color": "#FFFFFF"
          },
          "showarrow": false,
          "text": "161",
          "x": "8.8.2020",
          "xref": "x",
          "y": "Московская обл.",
          "yref": "y"
         },
         {
          "font": {
           "color": "#FFFFFF"
          },
          "showarrow": false,
          "text": "149",
          "x": "9.8.2020",
          "xref": "x",
          "y": "Московская обл.",
          "yref": "y"
         },
         {
          "font": {
           "color": "#FFFFFF"
          },
          "showarrow": false,
          "text": "153",
          "x": "10.8.2020",
          "xref": "x",
          "y": "Московская обл.",
          "yref": "y"
         },
         {
          "font": {
           "color": "#FFFFFF"
          },
          "showarrow": false,
          "text": "154",
          "x": "11.8.2020",
          "xref": "x",
          "y": "Московская обл.",
          "yref": "y"
         },
         {
          "font": {
           "color": "#FFFFFF"
          },
          "showarrow": false,
          "text": "152",
          "x": "12.8.2020",
          "xref": "x",
          "y": "Московская обл.",
          "yref": "y"
         },
         {
          "font": {
           "color": "#FFFFFF"
          },
          "showarrow": false,
          "text": "148",
          "x": "13.8.2020",
          "xref": "x",
          "y": "Московская обл.",
          "yref": "y"
         },
         {
          "font": {
           "color": "#FFFFFF"
          },
          "showarrow": false,
          "text": "156",
          "x": "14.8.2020",
          "xref": "x",
          "y": "Московская обл.",
          "yref": "y"
         },
         {
          "font": {
           "color": "#FFFFFF"
          },
          "showarrow": false,
          "text": "153",
          "x": "15.8.2020",
          "xref": "x",
          "y": "Московская обл.",
          "yref": "y"
         },
         {
          "font": {
           "color": "#FFFFFF"
          },
          "showarrow": false,
          "text": "154",
          "x": "16.8.2020",
          "xref": "x",
          "y": "Московская обл.",
          "yref": "y"
         },
         {
          "font": {
           "color": "#FFFFFF"
          },
          "showarrow": false,
          "text": "153",
          "x": "17.8.2020",
          "xref": "x",
          "y": "Московская обл.",
          "yref": "y"
         },
         {
          "font": {
           "color": "#FFFFFF"
          },
          "showarrow": false,
          "text": "145",
          "x": "18.8.2020",
          "xref": "x",
          "y": "Московская обл.",
          "yref": "y"
         },
         {
          "font": {
           "color": "#FFFFFF"
          },
          "showarrow": false,
          "text": "5159",
          "x": "4.8.2020",
          "xref": "x",
          "y": "Россия",
          "yref": "y"
         },
         {
          "font": {
           "color": "#FFFFFF"
          },
          "showarrow": false,
          "text": "5204",
          "x": "5.8.2020",
          "xref": "x",
          "y": "Россия",
          "yref": "y"
         },
         {
          "font": {
           "color": "#FFFFFF"
          },
          "showarrow": false,
          "text": "5267",
          "x": "6.8.2020",
          "xref": "x",
          "y": "Россия",
          "yref": "y"
         },
         {
          "font": {
           "color": "#FFFFFF"
          },
          "showarrow": false,
          "text": "5241",
          "x": "7.8.2020",
          "xref": "x",
          "y": "Россия",
          "yref": "y"
         },
         {
          "font": {
           "color": "#FFFFFF"
          },
          "showarrow": false,
          "text": "5212",
          "x": "8.8.2020",
          "xref": "x",
          "y": "Россия",
          "yref": "y"
         },
         {
          "font": {
           "color": "#FFFFFF"
          },
          "showarrow": false,
          "text": "5189",
          "x": "9.8.2020",
          "xref": "x",
          "y": "Россия",
          "yref": "y"
         },
         {
          "font": {
           "color": "#FFFFFF"
          },
          "showarrow": false,
          "text": "5118",
          "x": "10.8.2020",
          "xref": "x",
          "y": "Россия",
          "yref": "y"
         },
         {
          "font": {
           "color": "#FFFFFF"
          },
          "showarrow": false,
          "text": "4945",
          "x": "11.8.2020",
          "xref": "x",
          "y": "Россия",
          "yref": "y"
         },
         {
          "font": {
           "color": "#FFFFFF"
          },
          "showarrow": false,
          "text": "5102",
          "x": "12.8.2020",
          "xref": "x",
          "y": "Россия",
          "yref": "y"
         },
         {
          "font": {
           "color": "#FFFFFF"
          },
          "showarrow": false,
          "text": "5057",
          "x": "13.8.2020",
          "xref": "x",
          "y": "Россия",
          "yref": "y"
         },
         {
          "font": {
           "color": "#FFFFFF"
          },
          "showarrow": false,
          "text": "5065",
          "x": "14.8.2020",
          "xref": "x",
          "y": "Россия",
          "yref": "y"
         },
         {
          "font": {
           "color": "#FFFFFF"
          },
          "showarrow": false,
          "text": "5061",
          "x": "15.8.2020",
          "xref": "x",
          "y": "Россия",
          "yref": "y"
         },
         {
          "font": {
           "color": "#FFFFFF"
          },
          "showarrow": false,
          "text": "4969",
          "x": "16.8.2020",
          "xref": "x",
          "y": "Россия",
          "yref": "y"
         },
         {
          "font": {
           "color": "#FFFFFF"
          },
          "showarrow": false,
          "text": "4892",
          "x": "17.8.2020",
          "xref": "x",
          "y": "Россия",
          "yref": "y"
         },
         {
          "font": {
           "color": "#FFFFFF"
          },
          "showarrow": false,
          "text": "4748",
          "x": "18.8.2020",
          "xref": "x",
          "y": "Россия",
          "yref": "y"
         },
         {
          "font": {
           "color": "#FFFFFF"
          },
          "showarrow": false,
          "text": "158",
          "x": "4.8.2020",
          "xref": "x",
          "y": "Санкт-Петербург",
          "yref": "y"
         },
         {
          "font": {
           "color": "#FFFFFF"
          },
          "showarrow": false,
          "text": "156",
          "x": "5.8.2020",
          "xref": "x",
          "y": "Санкт-Петербург",
          "yref": "y"
         },
         {
          "font": {
           "color": "#FFFFFF"
          },
          "showarrow": false,
          "text": "159",
          "x": "6.8.2020",
          "xref": "x",
          "y": "Санкт-Петербург",
          "yref": "y"
         },
         {
          "font": {
           "color": "#FFFFFF"
          },
          "showarrow": false,
          "text": "157",
          "x": "7.8.2020",
          "xref": "x",
          "y": "Санкт-Петербург",
          "yref": "y"
         },
         {
          "font": {
           "color": "#FFFFFF"
          },
          "showarrow": false,
          "text": "155",
          "x": "8.8.2020",
          "xref": "x",
          "y": "Санкт-Петербург",
          "yref": "y"
         },
         {
          "font": {
           "color": "#FFFFFF"
          },
          "showarrow": false,
          "text": "160",
          "x": "9.8.2020",
          "xref": "x",
          "y": "Санкт-Петербург",
          "yref": "y"
         },
         {
          "font": {
           "color": "#FFFFFF"
          },
          "showarrow": false,
          "text": "157",
          "x": "10.8.2020",
          "xref": "x",
          "y": "Санкт-Петербург",
          "yref": "y"
         },
         {
          "font": {
           "color": "#FFFFFF"
          },
          "showarrow": false,
          "text": "157",
          "x": "11.8.2020",
          "xref": "x",
          "y": "Санкт-Петербург",
          "yref": "y"
         },
         {
          "font": {
           "color": "#FFFFFF"
          },
          "showarrow": false,
          "text": "161",
          "x": "12.8.2020",
          "xref": "x",
          "y": "Санкт-Петербург",
          "yref": "y"
         },
         {
          "font": {
           "color": "#FFFFFF"
          },
          "showarrow": false,
          "text": "160",
          "x": "13.8.2020",
          "xref": "x",
          "y": "Санкт-Петербург",
          "yref": "y"
         },
         {
          "font": {
           "color": "#FFFFFF"
          },
          "showarrow": false,
          "text": "159",
          "x": "14.8.2020",
          "xref": "x",
          "y": "Санкт-Петербург",
          "yref": "y"
         },
         {
          "font": {
           "color": "#FFFFFF"
          },
          "showarrow": false,
          "text": "162",
          "x": "15.8.2020",
          "xref": "x",
          "y": "Санкт-Петербург",
          "yref": "y"
         },
         {
          "font": {
           "color": "#FFFFFF"
          },
          "showarrow": false,
          "text": "163",
          "x": "16.8.2020",
          "xref": "x",
          "y": "Санкт-Петербург",
          "yref": "y"
         },
         {
          "font": {
           "color": "#FFFFFF"
          },
          "showarrow": false,
          "text": "159",
          "x": "17.8.2020",
          "xref": "x",
          "y": "Санкт-Петербург",
          "yref": "y"
         },
         {
          "font": {
           "color": "#FFFFFF"
          },
          "showarrow": false,
          "text": "157",
          "x": "18.8.2020",
          "xref": "x",
          "y": "Санкт-Петербург",
          "yref": "y"
         },
         {
          "font": {
           "color": "#FFFFFF"
          },
          "showarrow": false,
          "text": "93",
          "x": "4.8.2020",
          "xref": "x",
          "y": "Саратовская обл.",
          "yref": "y"
         },
         {
          "font": {
           "color": "#FFFFFF"
          },
          "showarrow": false,
          "text": "94",
          "x": "5.8.2020",
          "xref": "x",
          "y": "Саратовская обл.",
          "yref": "y"
         },
         {
          "font": {
           "color": "#FFFFFF"
          },
          "showarrow": false,
          "text": "90",
          "x": "6.8.2020",
          "xref": "x",
          "y": "Саратовская обл.",
          "yref": "y"
         },
         {
          "font": {
           "color": "#FFFFFF"
          },
          "showarrow": false,
          "text": "94",
          "x": "7.8.2020",
          "xref": "x",
          "y": "Саратовская обл.",
          "yref": "y"
         },
         {
          "font": {
           "color": "#FFFFFF"
          },
          "showarrow": false,
          "text": "95",
          "x": "8.8.2020",
          "xref": "x",
          "y": "Саратовская обл.",
          "yref": "y"
         },
         {
          "font": {
           "color": "#FFFFFF"
          },
          "showarrow": false,
          "text": "96",
          "x": "9.8.2020",
          "xref": "x",
          "y": "Саратовская обл.",
          "yref": "y"
         },
         {
          "font": {
           "color": "#FFFFFF"
          },
          "showarrow": false,
          "text": "95",
          "x": "10.8.2020",
          "xref": "x",
          "y": "Саратовская обл.",
          "yref": "y"
         },
         {
          "font": {
           "color": "#FFFFFF"
          },
          "showarrow": false,
          "text": "94",
          "x": "11.8.2020",
          "xref": "x",
          "y": "Саратовская обл.",
          "yref": "y"
         },
         {
          "font": {
           "color": "#FFFFFF"
          },
          "showarrow": false,
          "text": "96",
          "x": "12.8.2020",
          "xref": "x",
          "y": "Саратовская обл.",
          "yref": "y"
         },
         {
          "font": {
           "color": "#FFFFFF"
          },
          "showarrow": false,
          "text": "95",
          "x": "13.8.2020",
          "xref": "x",
          "y": "Саратовская обл.",
          "yref": "y"
         },
         {
          "font": {
           "color": "#FFFFFF"
          },
          "showarrow": false,
          "text": "94",
          "x": "14.8.2020",
          "xref": "x",
          "y": "Саратовская обл.",
          "yref": "y"
         },
         {
          "font": {
           "color": "#FFFFFF"
          },
          "showarrow": false,
          "text": "97",
          "x": "15.8.2020",
          "xref": "x",
          "y": "Саратовская обл.",
          "yref": "y"
         },
         {
          "font": {
           "color": "#FFFFFF"
          },
          "showarrow": false,
          "text": "98",
          "x": "16.8.2020",
          "xref": "x",
          "y": "Саратовская обл.",
          "yref": "y"
         },
         {
          "font": {
           "color": "#FFFFFF"
          },
          "showarrow": false,
          "text": "96",
          "x": "17.8.2020",
          "xref": "x",
          "y": "Саратовская обл.",
          "yref": "y"
         },
         {
          "font": {
           "color": "#FFFFFF"
          },
          "showarrow": false,
          "text": "98",
          "x": "18.8.2020",
          "xref": "x",
          "y": "Саратовская обл.",
          "yref": "y"
         },
         {
          "font": {
           "color": "#FFFFFF"
          },
          "showarrow": false,
          "text": "182",
          "x": "4.8.2020",
          "xref": "x",
          "y": "Свердловская обл.",
          "yref": "y"
         },
         {
          "font": {
           "color": "#FFFFFF"
          },
          "showarrow": false,
          "text": "181",
          "x": "5.8.2020",
          "xref": "x",
          "y": "Свердловская обл.",
          "yref": "y"
         },
         {
          "font": {
           "color": "#FFFFFF"
          },
          "showarrow": false,
          "text": "183",
          "x": "6.8.2020",
          "xref": "x",
          "y": "Свердловская обл.",
          "yref": "y"
         },
         {
          "font": {
           "color": "#FFFFFF"
          },
          "showarrow": false,
          "text": "180",
          "x": "7.8.2020",
          "xref": "x",
          "y": "Свердловская обл.",
          "yref": "y"
         },
         {
          "font": {
           "color": "#FFFFFF"
          },
          "showarrow": false,
          "text": "178",
          "x": "8.8.2020",
          "xref": "x",
          "y": "Свердловская обл.",
          "yref": "y"
         },
         {
          "font": {
           "color": "#FFFFFF"
          },
          "showarrow": false,
          "text": "184",
          "x": "9.8.2020",
          "xref": "x",
          "y": "Свердловская обл.",
          "yref": "y"
         },
         {
          "font": {
           "color": "#FFFFFF"
          },
          "showarrow": false,
          "text": "179",
          "x": "10.8.2020",
          "xref": "x",
          "y": "Свердловская обл.",
          "yref": "y"
         },
         {
          "font": {
           "color": "#FFFFFF"
          },
          "showarrow": false,
          "text": "168",
          "x": "11.8.2020",
          "xref": "x",
          "y": "Свердловская обл.",
          "yref": "y"
         },
         {
          "font": {
           "color": "#FFFFFF"
          },
          "showarrow": false,
          "text": "167",
          "x": "12.8.2020",
          "xref": "x",
          "y": "Свердловская обл.",
          "yref": "y"
         },
         {
          "font": {
           "color": "#FFFFFF"
          },
          "showarrow": false,
          "text": "162",
          "x": "13.8.2020",
          "xref": "x",
          "y": "Свердловская обл.",
          "yref": "y"
         },
         {
          "font": {
           "color": "#FFFFFF"
          },
          "showarrow": false,
          "text": "154",
          "x": "14.8.2020",
          "xref": "x",
          "y": "Свердловская обл.",
          "yref": "y"
         },
         {
          "font": {
           "color": "#FFFFFF"
          },
          "showarrow": false,
          "text": "158",
          "x": "15.8.2020",
          "xref": "x",
          "y": "Свердловская обл.",
          "yref": "y"
         },
         {
          "font": {
           "color": "#FFFFFF"
          },
          "showarrow": false,
          "text": "150",
          "x": "16.8.2020",
          "xref": "x",
          "y": "Свердловская обл.",
          "yref": "y"
         },
         {
          "font": {
           "color": "#FFFFFF"
          },
          "showarrow": false,
          "text": "141",
          "x": "17.8.2020",
          "xref": "x",
          "y": "Свердловская обл.",
          "yref": "y"
         },
         {
          "font": {
           "color": "#FFFFFF"
          },
          "showarrow": false,
          "text": "149",
          "x": "18.8.2020",
          "xref": "x",
          "y": "Свердловская обл.",
          "yref": "y"
         },
         {
          "font": {
           "color": "#FFFFFF"
          },
          "showarrow": false,
          "text": "98",
          "x": "4.8.2020",
          "xref": "x",
          "y": "Ставропольский край",
          "yref": "y"
         },
         {
          "font": {
           "color": "#FFFFFF"
          },
          "showarrow": false,
          "text": "121",
          "x": "5.8.2020",
          "xref": "x",
          "y": "Ставропольский край",
          "yref": "y"
         },
         {
          "font": {
           "color": "#FFFFFF"
          },
          "showarrow": false,
          "text": "116",
          "x": "6.8.2020",
          "xref": "x",
          "y": "Ставропольский край",
          "yref": "y"
         },
         {
          "font": {
           "color": "#FFFFFF"
          },
          "showarrow": false,
          "text": "104",
          "x": "7.8.2020",
          "xref": "x",
          "y": "Ставропольский край",
          "yref": "y"
         },
         {
          "font": {
           "color": "#FFFFFF"
          },
          "showarrow": false,
          "text": "137",
          "x": "8.8.2020",
          "xref": "x",
          "y": "Ставропольский край",
          "yref": "y"
         },
         {
          "font": {
           "color": "#FFFFFF"
          },
          "showarrow": false,
          "text": "127",
          "x": "9.8.2020",
          "xref": "x",
          "y": "Ставропольский край",
          "yref": "y"
         },
         {
          "font": {
           "color": "#FFFFFF"
          },
          "showarrow": false,
          "text": "125",
          "x": "10.8.2020",
          "xref": "x",
          "y": "Ставропольский край",
          "yref": "y"
         },
         {
          "font": {
           "color": "#FFFFFF"
          },
          "showarrow": false,
          "text": "111",
          "x": "11.8.2020",
          "xref": "x",
          "y": "Ставропольский край",
          "yref": "y"
         },
         {
          "font": {
           "color": "#FFFFFF"
          },
          "showarrow": false,
          "text": "95",
          "x": "12.8.2020",
          "xref": "x",
          "y": "Ставропольский край",
          "yref": "y"
         },
         {
          "font": {
           "color": "#FFFFFF"
          },
          "showarrow": false,
          "text": "105",
          "x": "13.8.2020",
          "xref": "x",
          "y": "Ставропольский край",
          "yref": "y"
         },
         {
          "font": {
           "color": "#FFFFFF"
          },
          "showarrow": false,
          "text": "130",
          "x": "14.8.2020",
          "xref": "x",
          "y": "Ставропольский край",
          "yref": "y"
         },
         {
          "font": {
           "color": "#FFFFFF"
          },
          "showarrow": false,
          "text": "127",
          "x": "15.8.2020",
          "xref": "x",
          "y": "Ставропольский край",
          "yref": "y"
         },
         {
          "font": {
           "color": "#FFFFFF"
          },
          "showarrow": false,
          "text": "129",
          "x": "16.8.2020",
          "xref": "x",
          "y": "Ставропольский край",
          "yref": "y"
         },
         {
          "font": {
           "color": "#FFFFFF"
          },
          "showarrow": false,
          "text": "132",
          "x": "17.8.2020",
          "xref": "x",
          "y": "Ставропольский край",
          "yref": "y"
         },
         {
          "font": {
           "color": "#FFFFFF"
          },
          "showarrow": false,
          "text": "128",
          "x": "18.8.2020",
          "xref": "x",
          "y": "Ставропольский край",
          "yref": "y"
         },
         {
          "font": {
           "color": "#FFFFFF"
          },
          "showarrow": false,
          "text": "109",
          "x": "4.8.2020",
          "xref": "x",
          "y": "Ульяновская обл.",
          "yref": "y"
         },
         {
          "font": {
           "color": "#FFFFFF"
          },
          "showarrow": false,
          "text": "100",
          "x": "5.8.2020",
          "xref": "x",
          "y": "Ульяновская обл.",
          "yref": "y"
         },
         {
          "font": {
           "color": "#FFFFFF"
          },
          "showarrow": false,
          "text": "109",
          "x": "6.8.2020",
          "xref": "x",
          "y": "Ульяновская обл.",
          "yref": "y"
         },
         {
          "font": {
           "color": "#FFFFFF"
          },
          "showarrow": false,
          "text": "100",
          "x": "7.8.2020",
          "xref": "x",
          "y": "Ульяновская обл.",
          "yref": "y"
         },
         {
          "font": {
           "color": "#FFFFFF"
          },
          "showarrow": false,
          "text": "100",
          "x": "8.8.2020",
          "xref": "x",
          "y": "Ульяновская обл.",
          "yref": "y"
         },
         {
          "font": {
           "color": "#FFFFFF"
          },
          "showarrow": false,
          "text": "110",
          "x": "9.8.2020",
          "xref": "x",
          "y": "Ульяновская обл.",
          "yref": "y"
         },
         {
          "font": {
           "color": "#FFFFFF"
          },
          "showarrow": false,
          "text": "95",
          "x": "10.8.2020",
          "xref": "x",
          "y": "Ульяновская обл.",
          "yref": "y"
         },
         {
          "font": {
           "color": "#FFFFFF"
          },
          "showarrow": false,
          "text": "115",
          "x": "11.8.2020",
          "xref": "x",
          "y": "Ульяновская обл.",
          "yref": "y"
         },
         {
          "font": {
           "color": "#FFFFFF"
          },
          "showarrow": false,
          "text": "91",
          "x": "12.8.2020",
          "xref": "x",
          "y": "Ульяновская обл.",
          "yref": "y"
         },
         {
          "font": {
           "color": "#FFFFFF"
          },
          "showarrow": false,
          "text": "94",
          "x": "13.8.2020",
          "xref": "x",
          "y": "Ульяновская обл.",
          "yref": "y"
         },
         {
          "font": {
           "color": "#FFFFFF"
          },
          "showarrow": false,
          "text": "86",
          "x": "14.8.2020",
          "xref": "x",
          "y": "Ульяновская обл.",
          "yref": "y"
         },
         {
          "font": {
           "color": "#FFFFFF"
          },
          "showarrow": false,
          "text": "120",
          "x": "15.8.2020",
          "xref": "x",
          "y": "Ульяновская обл.",
          "yref": "y"
         },
         {
          "font": {
           "color": "#FFFFFF"
          },
          "showarrow": false,
          "text": "91",
          "x": "16.8.2020",
          "xref": "x",
          "y": "Ульяновская обл.",
          "yref": "y"
         },
         {
          "font": {
           "color": "#FFFFFF"
          },
          "showarrow": false,
          "text": "102",
          "x": "17.8.2020",
          "xref": "x",
          "y": "Ульяновская обл.",
          "yref": "y"
         },
         {
          "font": {
           "color": "#FFFFFF"
          },
          "showarrow": false,
          "text": "95",
          "x": "18.8.2020",
          "xref": "x",
          "y": "Ульяновская обл.",
          "yref": "y"
         },
         {
          "font": {
           "color": "#FFFFFF"
          },
          "showarrow": false,
          "text": "105",
          "x": "4.8.2020",
          "xref": "x",
          "y": "Челябинская обл.",
          "yref": "y"
         },
         {
          "font": {
           "color": "#FFFFFF"
          },
          "showarrow": false,
          "text": "103",
          "x": "5.8.2020",
          "xref": "x",
          "y": "Челябинская обл.",
          "yref": "y"
         },
         {
          "font": {
           "color": "#FFFFFF"
          },
          "showarrow": false,
          "text": "92",
          "x": "6.8.2020",
          "xref": "x",
          "y": "Челябинская обл.",
          "yref": "y"
         },
         {
          "font": {
           "color": "#FFFFFF"
          },
          "showarrow": false,
          "text": "89",
          "x": "7.8.2020",
          "xref": "x",
          "y": "Челябинская обл.",
          "yref": "y"
         },
         {
          "font": {
           "color": "#FFFFFF"
          },
          "showarrow": false,
          "text": "87",
          "x": "8.8.2020",
          "xref": "x",
          "y": "Челябинская обл.",
          "yref": "y"
         },
         {
          "font": {
           "color": "#FFFFFF"
          },
          "showarrow": false,
          "text": "94",
          "x": "9.8.2020",
          "xref": "x",
          "y": "Челябинская обл.",
          "yref": "y"
         },
         {
          "font": {
           "color": "#FFFFFF"
          },
          "showarrow": false,
          "text": "83",
          "x": "10.8.2020",
          "xref": "x",
          "y": "Челябинская обл.",
          "yref": "y"
         },
         {
          "font": {
           "color": "#FFFFFF"
          },
          "showarrow": false,
          "text": "85",
          "x": "11.8.2020",
          "xref": "x",
          "y": "Челябинская обл.",
          "yref": "y"
         },
         {
          "font": {
           "color": "#FFFFFF"
          },
          "showarrow": false,
          "text": "88",
          "x": "12.8.2020",
          "xref": "x",
          "y": "Челябинская обл.",
          "yref": "y"
         },
         {
          "font": {
           "color": "#FFFFFF"
          },
          "showarrow": false,
          "text": "84",
          "x": "13.8.2020",
          "xref": "x",
          "y": "Челябинская обл.",
          "yref": "y"
         },
         {
          "font": {
           "color": "#FFFFFF"
          },
          "showarrow": false,
          "text": "80",
          "x": "14.8.2020",
          "xref": "x",
          "y": "Челябинская обл.",
          "yref": "y"
         },
         {
          "font": {
           "color": "#FFFFFF"
          },
          "showarrow": false,
          "text": "76",
          "x": "15.8.2020",
          "xref": "x",
          "y": "Челябинская обл.",
          "yref": "y"
         },
         {
          "font": {
           "color": "#FFFFFF"
          },
          "showarrow": false,
          "text": "79",
          "x": "16.8.2020",
          "xref": "x",
          "y": "Челябинская обл.",
          "yref": "y"
         },
         {
          "font": {
           "color": "#FFFFFF"
          },
          "showarrow": false,
          "text": "69",
          "x": "17.8.2020",
          "xref": "x",
          "y": "Челябинская обл.",
          "yref": "y"
         },
         {
          "font": {
           "color": "#FFFFFF"
          },
          "showarrow": false,
          "text": "67",
          "x": "18.8.2020",
          "xref": "x",
          "y": "Челябинская обл.",
          "yref": "y"
         }
        ],
        "height": 600,
        "template": {
         "data": {
          "bar": [
           {
            "error_x": {
             "color": "#2a3f5f"
            },
            "error_y": {
             "color": "#2a3f5f"
            },
            "marker": {
             "line": {
              "color": "#E5ECF6",
              "width": 0.5
             }
            },
            "type": "bar"
           }
          ],
          "barpolar": [
           {
            "marker": {
             "line": {
              "color": "#E5ECF6",
              "width": 0.5
             }
            },
            "type": "barpolar"
           }
          ],
          "carpet": [
           {
            "aaxis": {
             "endlinecolor": "#2a3f5f",
             "gridcolor": "white",
             "linecolor": "white",
             "minorgridcolor": "white",
             "startlinecolor": "#2a3f5f"
            },
            "baxis": {
             "endlinecolor": "#2a3f5f",
             "gridcolor": "white",
             "linecolor": "white",
             "minorgridcolor": "white",
             "startlinecolor": "#2a3f5f"
            },
            "type": "carpet"
           }
          ],
          "choropleth": [
           {
            "colorbar": {
             "outlinewidth": 0,
             "ticks": ""
            },
            "type": "choropleth"
           }
          ],
          "contour": [
           {
            "colorbar": {
             "outlinewidth": 0,
             "ticks": ""
            },
            "colorscale": [
             [
              0,
              "#0d0887"
             ],
             [
              0.1111111111111111,
              "#46039f"
             ],
             [
              0.2222222222222222,
              "#7201a8"
             ],
             [
              0.3333333333333333,
              "#9c179e"
             ],
             [
              0.4444444444444444,
              "#bd3786"
             ],
             [
              0.5555555555555556,
              "#d8576b"
             ],
             [
              0.6666666666666666,
              "#ed7953"
             ],
             [
              0.7777777777777778,
              "#fb9f3a"
             ],
             [
              0.8888888888888888,
              "#fdca26"
             ],
             [
              1,
              "#f0f921"
             ]
            ],
            "type": "contour"
           }
          ],
          "contourcarpet": [
           {
            "colorbar": {
             "outlinewidth": 0,
             "ticks": ""
            },
            "type": "contourcarpet"
           }
          ],
          "heatmap": [
           {
            "colorbar": {
             "outlinewidth": 0,
             "ticks": ""
            },
            "colorscale": [
             [
              0,
              "#0d0887"
             ],
             [
              0.1111111111111111,
              "#46039f"
             ],
             [
              0.2222222222222222,
              "#7201a8"
             ],
             [
              0.3333333333333333,
              "#9c179e"
             ],
             [
              0.4444444444444444,
              "#bd3786"
             ],
             [
              0.5555555555555556,
              "#d8576b"
             ],
             [
              0.6666666666666666,
              "#ed7953"
             ],
             [
              0.7777777777777778,
              "#fb9f3a"
             ],
             [
              0.8888888888888888,
              "#fdca26"
             ],
             [
              1,
              "#f0f921"
             ]
            ],
            "type": "heatmap"
           }
          ],
          "heatmapgl": [
           {
            "colorbar": {
             "outlinewidth": 0,
             "ticks": ""
            },
            "colorscale": [
             [
              0,
              "#0d0887"
             ],
             [
              0.1111111111111111,
              "#46039f"
             ],
             [
              0.2222222222222222,
              "#7201a8"
             ],
             [
              0.3333333333333333,
              "#9c179e"
             ],
             [
              0.4444444444444444,
              "#bd3786"
             ],
             [
              0.5555555555555556,
              "#d8576b"
             ],
             [
              0.6666666666666666,
              "#ed7953"
             ],
             [
              0.7777777777777778,
              "#fb9f3a"
             ],
             [
              0.8888888888888888,
              "#fdca26"
             ],
             [
              1,
              "#f0f921"
             ]
            ],
            "type": "heatmapgl"
           }
          ],
          "histogram": [
           {
            "marker": {
             "colorbar": {
              "outlinewidth": 0,
              "ticks": ""
             }
            },
            "type": "histogram"
           }
          ],
          "histogram2d": [
           {
            "colorbar": {
             "outlinewidth": 0,
             "ticks": ""
            },
            "colorscale": [
             [
              0,
              "#0d0887"
             ],
             [
              0.1111111111111111,
              "#46039f"
             ],
             [
              0.2222222222222222,
              "#7201a8"
             ],
             [
              0.3333333333333333,
              "#9c179e"
             ],
             [
              0.4444444444444444,
              "#bd3786"
             ],
             [
              0.5555555555555556,
              "#d8576b"
             ],
             [
              0.6666666666666666,
              "#ed7953"
             ],
             [
              0.7777777777777778,
              "#fb9f3a"
             ],
             [
              0.8888888888888888,
              "#fdca26"
             ],
             [
              1,
              "#f0f921"
             ]
            ],
            "type": "histogram2d"
           }
          ],
          "histogram2dcontour": [
           {
            "colorbar": {
             "outlinewidth": 0,
             "ticks": ""
            },
            "colorscale": [
             [
              0,
              "#0d0887"
             ],
             [
              0.1111111111111111,
              "#46039f"
             ],
             [
              0.2222222222222222,
              "#7201a8"
             ],
             [
              0.3333333333333333,
              "#9c179e"
             ],
             [
              0.4444444444444444,
              "#bd3786"
             ],
             [
              0.5555555555555556,
              "#d8576b"
             ],
             [
              0.6666666666666666,
              "#ed7953"
             ],
             [
              0.7777777777777778,
              "#fb9f3a"
             ],
             [
              0.8888888888888888,
              "#fdca26"
             ],
             [
              1,
              "#f0f921"
             ]
            ],
            "type": "histogram2dcontour"
           }
          ],
          "mesh3d": [
           {
            "colorbar": {
             "outlinewidth": 0,
             "ticks": ""
            },
            "type": "mesh3d"
           }
          ],
          "parcoords": [
           {
            "line": {
             "colorbar": {
              "outlinewidth": 0,
              "ticks": ""
             }
            },
            "type": "parcoords"
           }
          ],
          "pie": [
           {
            "automargin": true,
            "type": "pie"
           }
          ],
          "scatter": [
           {
            "marker": {
             "colorbar": {
              "outlinewidth": 0,
              "ticks": ""
             }
            },
            "type": "scatter"
           }
          ],
          "scatter3d": [
           {
            "line": {
             "colorbar": {
              "outlinewidth": 0,
              "ticks": ""
             }
            },
            "marker": {
             "colorbar": {
              "outlinewidth": 0,
              "ticks": ""
             }
            },
            "type": "scatter3d"
           }
          ],
          "scattercarpet": [
           {
            "marker": {
             "colorbar": {
              "outlinewidth": 0,
              "ticks": ""
             }
            },
            "type": "scattercarpet"
           }
          ],
          "scattergeo": [
           {
            "marker": {
             "colorbar": {
              "outlinewidth": 0,
              "ticks": ""
             }
            },
            "type": "scattergeo"
           }
          ],
          "scattergl": [
           {
            "marker": {
             "colorbar": {
              "outlinewidth": 0,
              "ticks": ""
             }
            },
            "type": "scattergl"
           }
          ],
          "scattermapbox": [
           {
            "marker": {
             "colorbar": {
              "outlinewidth": 0,
              "ticks": ""
             }
            },
            "type": "scattermapbox"
           }
          ],
          "scatterpolar": [
           {
            "marker": {
             "colorbar": {
              "outlinewidth": 0,
              "ticks": ""
             }
            },
            "type": "scatterpolar"
           }
          ],
          "scatterpolargl": [
           {
            "marker": {
             "colorbar": {
              "outlinewidth": 0,
              "ticks": ""
             }
            },
            "type": "scatterpolargl"
           }
          ],
          "scatterternary": [
           {
            "marker": {
             "colorbar": {
              "outlinewidth": 0,
              "ticks": ""
             }
            },
            "type": "scatterternary"
           }
          ],
          "surface": [
           {
            "colorbar": {
             "outlinewidth": 0,
             "ticks": ""
            },
            "colorscale": [
             [
              0,
              "#0d0887"
             ],
             [
              0.1111111111111111,
              "#46039f"
             ],
             [
              0.2222222222222222,
              "#7201a8"
             ],
             [
              0.3333333333333333,
              "#9c179e"
             ],
             [
              0.4444444444444444,
              "#bd3786"
             ],
             [
              0.5555555555555556,
              "#d8576b"
             ],
             [
              0.6666666666666666,
              "#ed7953"
             ],
             [
              0.7777777777777778,
              "#fb9f3a"
             ],
             [
              0.8888888888888888,
              "#fdca26"
             ],
             [
              1,
              "#f0f921"
             ]
            ],
            "type": "surface"
           }
          ],
          "table": [
           {
            "cells": {
             "fill": {
              "color": "#EBF0F8"
             },
             "line": {
              "color": "white"
             }
            },
            "header": {
             "fill": {
              "color": "#C8D4E3"
             },
             "line": {
              "color": "white"
             }
            },
            "type": "table"
           }
          ]
         },
         "layout": {
          "annotationdefaults": {
           "arrowcolor": "#2a3f5f",
           "arrowhead": 0,
           "arrowwidth": 1
          },
          "coloraxis": {
           "colorbar": {
            "outlinewidth": 0,
            "ticks": ""
           }
          },
          "colorscale": {
           "diverging": [
            [
             0,
             "#8e0152"
            ],
            [
             0.1,
             "#c51b7d"
            ],
            [
             0.2,
             "#de77ae"
            ],
            [
             0.3,
             "#f1b6da"
            ],
            [
             0.4,
             "#fde0ef"
            ],
            [
             0.5,
             "#f7f7f7"
            ],
            [
             0.6,
             "#e6f5d0"
            ],
            [
             0.7,
             "#b8e186"
            ],
            [
             0.8,
             "#7fbc41"
            ],
            [
             0.9,
             "#4d9221"
            ],
            [
             1,
             "#276419"
            ]
           ],
           "sequential": [
            [
             0,
             "#0d0887"
            ],
            [
             0.1111111111111111,
             "#46039f"
            ],
            [
             0.2222222222222222,
             "#7201a8"
            ],
            [
             0.3333333333333333,
             "#9c179e"
            ],
            [
             0.4444444444444444,
             "#bd3786"
            ],
            [
             0.5555555555555556,
             "#d8576b"
            ],
            [
             0.6666666666666666,
             "#ed7953"
            ],
            [
             0.7777777777777778,
             "#fb9f3a"
            ],
            [
             0.8888888888888888,
             "#fdca26"
            ],
            [
             1,
             "#f0f921"
            ]
           ],
           "sequentialminus": [
            [
             0,
             "#0d0887"
            ],
            [
             0.1111111111111111,
             "#46039f"
            ],
            [
             0.2222222222222222,
             "#7201a8"
            ],
            [
             0.3333333333333333,
             "#9c179e"
            ],
            [
             0.4444444444444444,
             "#bd3786"
            ],
            [
             0.5555555555555556,
             "#d8576b"
            ],
            [
             0.6666666666666666,
             "#ed7953"
            ],
            [
             0.7777777777777778,
             "#fb9f3a"
            ],
            [
             0.8888888888888888,
             "#fdca26"
            ],
            [
             1,
             "#f0f921"
            ]
           ]
          },
          "colorway": [
           "#636efa",
           "#EF553B",
           "#00cc96",
           "#ab63fa",
           "#FFA15A",
           "#19d3f3",
           "#FF6692",
           "#B6E880",
           "#FF97FF",
           "#FECB52"
          ],
          "font": {
           "color": "#2a3f5f"
          },
          "geo": {
           "bgcolor": "white",
           "lakecolor": "white",
           "landcolor": "#E5ECF6",
           "showlakes": true,
           "showland": true,
           "subunitcolor": "white"
          },
          "hoverlabel": {
           "align": "left"
          },
          "hovermode": "closest",
          "mapbox": {
           "style": "light"
          },
          "paper_bgcolor": "white",
          "plot_bgcolor": "#E5ECF6",
          "polar": {
           "angularaxis": {
            "gridcolor": "white",
            "linecolor": "white",
            "ticks": ""
           },
           "bgcolor": "#E5ECF6",
           "radialaxis": {
            "gridcolor": "white",
            "linecolor": "white",
            "ticks": ""
           }
          },
          "scene": {
           "xaxis": {
            "backgroundcolor": "#E5ECF6",
            "gridcolor": "white",
            "gridwidth": 2,
            "linecolor": "white",
            "showbackground": true,
            "ticks": "",
            "zerolinecolor": "white"
           },
           "yaxis": {
            "backgroundcolor": "#E5ECF6",
            "gridcolor": "white",
            "gridwidth": 2,
            "linecolor": "white",
            "showbackground": true,
            "ticks": "",
            "zerolinecolor": "white"
           },
           "zaxis": {
            "backgroundcolor": "#E5ECF6",
            "gridcolor": "white",
            "gridwidth": 2,
            "linecolor": "white",
            "showbackground": true,
            "ticks": "",
            "zerolinecolor": "white"
           }
          },
          "shapedefaults": {
           "line": {
            "color": "#2a3f5f"
           }
          },
          "ternary": {
           "aaxis": {
            "gridcolor": "white",
            "linecolor": "white",
            "ticks": ""
           },
           "baxis": {
            "gridcolor": "white",
            "linecolor": "white",
            "ticks": ""
           },
           "bgcolor": "#E5ECF6",
           "caxis": {
            "gridcolor": "white",
            "linecolor": "white",
            "ticks": ""
           }
          },
          "title": {
           "x": 0.05
          },
          "xaxis": {
           "automargin": true,
           "gridcolor": "white",
           "linecolor": "white",
           "ticks": "",
           "title": {
            "standoff": 15
           },
           "zerolinecolor": "white",
           "zerolinewidth": 2
          },
          "yaxis": {
           "automargin": true,
           "gridcolor": "white",
           "linecolor": "white",
           "ticks": "",
           "title": {
            "standoff": 15
           },
           "zerolinecolor": "white",
           "zerolinewidth": 2
          }
         }
        },
        "width": 990,
        "xaxis": {
         "dtick": 1,
         "gridcolor": "rgb(0, 0, 0)",
         "side": "top",
         "ticks": "",
         "title": {
          "text": "Динамика новых заболевших по регионам"
         }
        },
        "yaxis": {
         "dtick": 1,
         "ticks": "",
         "ticksuffix": "  "
        }
       }
      }
     },
     "metadata": {}
    }
   ],
   "source": [
    "fig = ff.create_annotated_heatmap(d, x=x2, y=y, annotation_text=d,\n",
    "                                  colorscale='Temps')\n",
    "\n",
    "fig.update_layout(\n",
    "                  \n",
    "                  \n",
    "                  width = 990, height = 600,\n",
    "    \n",
    "    \n",
    "                  xaxis_title='Динамика новых заболевших по регионам',\n",
    "               #   yaxis_title = 'Регион '\n",
    ")\n",
    "\n",
    "fig.show()"
   ]
  },
  {
   "cell_type": "code",
   "execution_count": 136,
   "metadata": {
    "tags": []
   },
   "outputs": [
    {
     "output_type": "stream",
     "name": "stdout",
     "text": "85\n"
    },
    {
     "output_type": "execute_result",
     "data": {
      "text/plain": "             Date  Confirmed  Recovered  Deaths  Day_deaths  Day_confirmed  \\\n6731   2020-08-18     253757     199117    4677          11            693   \n6901   2020-08-18      66233      49785    1151           5            145   \n9637   2020-08-18      34325      24707    2276          19            157   \n7382   2020-08-18      25994      22819     436           3            116   \n10277  2020-08-18      23695      19176     376           2            149   \n12517  2020-08-18      18664      16663     151           1             72   \n3196   2020-08-18      15664      11477     237           9            108   \n5280   2020-08-18      15402      12614     392           5            117   \n9152   2020-08-18      15251      12516     293           5            128   \n2236   2020-08-18      12847      11307      97           0             95   \n12997  2020-08-18      12804       8368     101           2             67   \n13632  2020-08-18      12688      11772      83           1             76   \n7061   2020-08-18      11981       8966     125           4             67   \n9797   2020-08-18      11116       6949      67           1             98   \n12357  2020-08-18      10934       7807      73           0             95   \n\n       Day_recovered     Rt    Rt2  Rate_conf   Rate_ill              Region  \\\n6731            1155  1.001  1.011  27.212751  28.715523              Москва   \n6901             118  0.992  1.009   7.102788   8.791733     Московская обл.   \n9637              83  1.006  1.019   3.680993   4.219710     Санкт-Петербург   \n7382             115  0.966  1.020   2.787581   1.574201  Нижегородская обл.   \n10277             74  0.919  1.027   2.541038   2.381130   Свердловская обл.   \n12517            146  0.772  1.021   2.001516   1.063261         ХМАО – Югра   \n3196             226  0.968  1.030   1.679798   2.270206      Иркутская обл.   \n5280              71  0.967  1.032   1.651701   1.377067   Красноярский край   \n9152             132  1.016  1.035   1.635508   1.403505     Ростовская обл.   \n2236             205  1.019  1.031   1.377705   0.829344    Воронежская обл.   \n12997            127  0.864  1.025   1.373093   2.491480    Челябинская обл.   \n13632            134  0.955  1.029   1.360654   0.478755   Ямало-Ненецкий АО   \n7061             215  0.929  1.023   1.284835   1.660986     Мурманская обл.   \n9797             158  1.026  1.036   1.192073   2.356417    Саратовская обл.   \n12357             97  1.057  1.038   1.172556   1.755243    Ульяновская обл.   \n\n       Remaining_ill  MA7_dayconfirmed  MA14_dayconfirmed  MA7_remaining_ill  \\\n6731           49963        690.714286         690.000000       51139.142857   \n6901           15297        151.571429         154.071429       15273.285714   \n9637            7342        160.142857         158.714286        7121.000000   \n7382            2739        123.714286         117.785714        2733.571429   \n10277           4143        154.428571         166.714286        3927.857143   \n12517           1850         95.714286         117.428571        2166.428571   \n3196            3950        113.857143         119.714286        3968.142857   \n5280            2396        119.142857         123.000000        2208.428571   \n9152            2442        127.142857         127.642857        2367.142857   \n2236            1443         94.571429          95.285714        1581.000000   \n12997           4335         77.571429          84.000000        4374.714286   \n13632            833         86.857143          89.785714         869.428571   \n7061            2890         66.285714          86.571429        3026.142857   \n9797            4100         96.285714          95.142857        4031.571429   \n12357           3054         97.000000         100.571429        2949.857143   \n\n       MA14_remaining_ill  Change_dayconf  Change_remill  \n6731         52468.571429               3           -473  \n6901         15340.785714              -8             22  \n9637          6869.714286              -2             55  \n7382          2895.214286              -4             -2  \n10277         3648.571429               8             73  \n12517         2355.214286              -2            -75  \n3196          4064.785714              -6           -127  \n5280          1980.571429              -1             41  \n9152          2408.357143               1             -9  \n2236          1715.214286              -2           -110  \n12997         4381.214286              -2            -62  \n13632         1144.714286              -8            -59  \n7061          3212.785714               2           -152  \n9797          3944.571429               2            -61  \n12357         2878.142857              -7             -2  ",
      "text/html": "<div>\n<style scoped>\n    .dataframe tbody tr th:only-of-type {\n        vertical-align: middle;\n    }\n\n    .dataframe tbody tr th {\n        vertical-align: top;\n    }\n\n    .dataframe thead th {\n        text-align: right;\n    }\n</style>\n<table border=\"1\" class=\"dataframe\">\n  <thead>\n    <tr style=\"text-align: right;\">\n      <th></th>\n      <th>Date</th>\n      <th>Confirmed</th>\n      <th>Recovered</th>\n      <th>Deaths</th>\n      <th>Day_deaths</th>\n      <th>Day_confirmed</th>\n      <th>Day_recovered</th>\n      <th>Rt</th>\n      <th>Rt2</th>\n      <th>Rate_conf</th>\n      <th>Rate_ill</th>\n      <th>Region</th>\n      <th>Remaining_ill</th>\n      <th>MA7_dayconfirmed</th>\n      <th>MA14_dayconfirmed</th>\n      <th>MA7_remaining_ill</th>\n      <th>MA14_remaining_ill</th>\n      <th>Change_dayconf</th>\n      <th>Change_remill</th>\n    </tr>\n  </thead>\n  <tbody>\n    <tr>\n      <th>6731</th>\n      <td>2020-08-18</td>\n      <td>253757</td>\n      <td>199117</td>\n      <td>4677</td>\n      <td>11</td>\n      <td>693</td>\n      <td>1155</td>\n      <td>1.001</td>\n      <td>1.011</td>\n      <td>27.212751</td>\n      <td>28.715523</td>\n      <td>Москва</td>\n      <td>49963</td>\n      <td>690.714286</td>\n      <td>690.000000</td>\n      <td>51139.142857</td>\n      <td>52468.571429</td>\n      <td>3</td>\n      <td>-473</td>\n    </tr>\n    <tr>\n      <th>6901</th>\n      <td>2020-08-18</td>\n      <td>66233</td>\n      <td>49785</td>\n      <td>1151</td>\n      <td>5</td>\n      <td>145</td>\n      <td>118</td>\n      <td>0.992</td>\n      <td>1.009</td>\n      <td>7.102788</td>\n      <td>8.791733</td>\n      <td>Московская обл.</td>\n      <td>15297</td>\n      <td>151.571429</td>\n      <td>154.071429</td>\n      <td>15273.285714</td>\n      <td>15340.785714</td>\n      <td>-8</td>\n      <td>22</td>\n    </tr>\n    <tr>\n      <th>9637</th>\n      <td>2020-08-18</td>\n      <td>34325</td>\n      <td>24707</td>\n      <td>2276</td>\n      <td>19</td>\n      <td>157</td>\n      <td>83</td>\n      <td>1.006</td>\n      <td>1.019</td>\n      <td>3.680993</td>\n      <td>4.219710</td>\n      <td>Санкт-Петербург</td>\n      <td>7342</td>\n      <td>160.142857</td>\n      <td>158.714286</td>\n      <td>7121.000000</td>\n      <td>6869.714286</td>\n      <td>-2</td>\n      <td>55</td>\n    </tr>\n    <tr>\n      <th>7382</th>\n      <td>2020-08-18</td>\n      <td>25994</td>\n      <td>22819</td>\n      <td>436</td>\n      <td>3</td>\n      <td>116</td>\n      <td>115</td>\n      <td>0.966</td>\n      <td>1.020</td>\n      <td>2.787581</td>\n      <td>1.574201</td>\n      <td>Нижегородская обл.</td>\n      <td>2739</td>\n      <td>123.714286</td>\n      <td>117.785714</td>\n      <td>2733.571429</td>\n      <td>2895.214286</td>\n      <td>-4</td>\n      <td>-2</td>\n    </tr>\n    <tr>\n      <th>10277</th>\n      <td>2020-08-18</td>\n      <td>23695</td>\n      <td>19176</td>\n      <td>376</td>\n      <td>2</td>\n      <td>149</td>\n      <td>74</td>\n      <td>0.919</td>\n      <td>1.027</td>\n      <td>2.541038</td>\n      <td>2.381130</td>\n      <td>Свердловская обл.</td>\n      <td>4143</td>\n      <td>154.428571</td>\n      <td>166.714286</td>\n      <td>3927.857143</td>\n      <td>3648.571429</td>\n      <td>8</td>\n      <td>73</td>\n    </tr>\n    <tr>\n      <th>12517</th>\n      <td>2020-08-18</td>\n      <td>18664</td>\n      <td>16663</td>\n      <td>151</td>\n      <td>1</td>\n      <td>72</td>\n      <td>146</td>\n      <td>0.772</td>\n      <td>1.021</td>\n      <td>2.001516</td>\n      <td>1.063261</td>\n      <td>ХМАО – Югра</td>\n      <td>1850</td>\n      <td>95.714286</td>\n      <td>117.428571</td>\n      <td>2166.428571</td>\n      <td>2355.214286</td>\n      <td>-2</td>\n      <td>-75</td>\n    </tr>\n    <tr>\n      <th>3196</th>\n      <td>2020-08-18</td>\n      <td>15664</td>\n      <td>11477</td>\n      <td>237</td>\n      <td>9</td>\n      <td>108</td>\n      <td>226</td>\n      <td>0.968</td>\n      <td>1.030</td>\n      <td>1.679798</td>\n      <td>2.270206</td>\n      <td>Иркутская обл.</td>\n      <td>3950</td>\n      <td>113.857143</td>\n      <td>119.714286</td>\n      <td>3968.142857</td>\n      <td>4064.785714</td>\n      <td>-6</td>\n      <td>-127</td>\n    </tr>\n    <tr>\n      <th>5280</th>\n      <td>2020-08-18</td>\n      <td>15402</td>\n      <td>12614</td>\n      <td>392</td>\n      <td>5</td>\n      <td>117</td>\n      <td>71</td>\n      <td>0.967</td>\n      <td>1.032</td>\n      <td>1.651701</td>\n      <td>1.377067</td>\n      <td>Красноярский край</td>\n      <td>2396</td>\n      <td>119.142857</td>\n      <td>123.000000</td>\n      <td>2208.428571</td>\n      <td>1980.571429</td>\n      <td>-1</td>\n      <td>41</td>\n    </tr>\n    <tr>\n      <th>9152</th>\n      <td>2020-08-18</td>\n      <td>15251</td>\n      <td>12516</td>\n      <td>293</td>\n      <td>5</td>\n      <td>128</td>\n      <td>132</td>\n      <td>1.016</td>\n      <td>1.035</td>\n      <td>1.635508</td>\n      <td>1.403505</td>\n      <td>Ростовская обл.</td>\n      <td>2442</td>\n      <td>127.142857</td>\n      <td>127.642857</td>\n      <td>2367.142857</td>\n      <td>2408.357143</td>\n      <td>1</td>\n      <td>-9</td>\n    </tr>\n    <tr>\n      <th>2236</th>\n      <td>2020-08-18</td>\n      <td>12847</td>\n      <td>11307</td>\n      <td>97</td>\n      <td>0</td>\n      <td>95</td>\n      <td>205</td>\n      <td>1.019</td>\n      <td>1.031</td>\n      <td>1.377705</td>\n      <td>0.829344</td>\n      <td>Воронежская обл.</td>\n      <td>1443</td>\n      <td>94.571429</td>\n      <td>95.285714</td>\n      <td>1581.000000</td>\n      <td>1715.214286</td>\n      <td>-2</td>\n      <td>-110</td>\n    </tr>\n    <tr>\n      <th>12997</th>\n      <td>2020-08-18</td>\n      <td>12804</td>\n      <td>8368</td>\n      <td>101</td>\n      <td>2</td>\n      <td>67</td>\n      <td>127</td>\n      <td>0.864</td>\n      <td>1.025</td>\n      <td>1.373093</td>\n      <td>2.491480</td>\n      <td>Челябинская обл.</td>\n      <td>4335</td>\n      <td>77.571429</td>\n      <td>84.000000</td>\n      <td>4374.714286</td>\n      <td>4381.214286</td>\n      <td>-2</td>\n      <td>-62</td>\n    </tr>\n    <tr>\n      <th>13632</th>\n      <td>2020-08-18</td>\n      <td>12688</td>\n      <td>11772</td>\n      <td>83</td>\n      <td>1</td>\n      <td>76</td>\n      <td>134</td>\n      <td>0.955</td>\n      <td>1.029</td>\n      <td>1.360654</td>\n      <td>0.478755</td>\n      <td>Ямало-Ненецкий АО</td>\n      <td>833</td>\n      <td>86.857143</td>\n      <td>89.785714</td>\n      <td>869.428571</td>\n      <td>1144.714286</td>\n      <td>-8</td>\n      <td>-59</td>\n    </tr>\n    <tr>\n      <th>7061</th>\n      <td>2020-08-18</td>\n      <td>11981</td>\n      <td>8966</td>\n      <td>125</td>\n      <td>4</td>\n      <td>67</td>\n      <td>215</td>\n      <td>0.929</td>\n      <td>1.023</td>\n      <td>1.284835</td>\n      <td>1.660986</td>\n      <td>Мурманская обл.</td>\n      <td>2890</td>\n      <td>66.285714</td>\n      <td>86.571429</td>\n      <td>3026.142857</td>\n      <td>3212.785714</td>\n      <td>2</td>\n      <td>-152</td>\n    </tr>\n    <tr>\n      <th>9797</th>\n      <td>2020-08-18</td>\n      <td>11116</td>\n      <td>6949</td>\n      <td>67</td>\n      <td>1</td>\n      <td>98</td>\n      <td>158</td>\n      <td>1.026</td>\n      <td>1.036</td>\n      <td>1.192073</td>\n      <td>2.356417</td>\n      <td>Саратовская обл.</td>\n      <td>4100</td>\n      <td>96.285714</td>\n      <td>95.142857</td>\n      <td>4031.571429</td>\n      <td>3944.571429</td>\n      <td>2</td>\n      <td>-61</td>\n    </tr>\n    <tr>\n      <th>12357</th>\n      <td>2020-08-18</td>\n      <td>10934</td>\n      <td>7807</td>\n      <td>73</td>\n      <td>0</td>\n      <td>95</td>\n      <td>97</td>\n      <td>1.057</td>\n      <td>1.038</td>\n      <td>1.172556</td>\n      <td>1.755243</td>\n      <td>Ульяновская обл.</td>\n      <td>3054</td>\n      <td>97.000000</td>\n      <td>100.571429</td>\n      <td>2949.857143</td>\n      <td>2878.142857</td>\n      <td>-7</td>\n      <td>-2</td>\n    </tr>\n  </tbody>\n</table>\n</div>"
     },
     "metadata": {},
     "execution_count": 136
    }
   ],
   "source": [
    "mask = (X.Date==myday)&(X.Region!='Россия')\n",
    "#mask = (X.Date==myday)\n",
    "#Делаем выборку по доле регина в общих случаях выявления заболеваний по России\n",
    "df=X[mask].sort_values(by=['Rate_conf'],ascending = False)\n",
    "#Далее заменяем все имена если регион набрал менее 1% в общих случаях по России\n",
    "df2 = X[mask].reset_index(drop=True)\n",
    "print(len(df2))\n",
    "\n",
    "for i in range(len(df2)):\n",
    "    if df2.loc[i,'Rate_conf']<1:\n",
    "        df2.loc[i,'Region']='Регионы менее 1%'\n",
    "df.head(15)"
   ]
  },
  {
   "cell_type": "code",
   "execution_count": 137,
   "metadata": {},
   "outputs": [
    {
     "output_type": "display_data",
     "data": {
      "application/vnd.plotly.v1+json": {
       "config": {
        "plotlyServerURL": "https://plotly.com"
       },
       "data": [
        {
         "domain": {
          "x": [
           0,
           1
          ],
          "y": [
           0,
           1
          ]
         },
         "hovertemplate": "Region=%{label}<br>Confirmed=%{value}<extra></extra>",
         "labels": [
          "Регионы менее 1%",
          "Регионы менее 1%",
          "Алтайский край",
          "Регионы менее 1%",
          "Архангельская обл.",
          "Регионы менее 1%",
          "Регионы менее 1%",
          "Регионы менее 1%",
          "Регионы менее 1%",
          "Регионы менее 1%",
          "Регионы менее 1%",
          "Волгоградская обл.",
          "Регионы менее 1%",
          "Воронежская обл.",
          "Дагестан",
          "Регионы менее 1%",
          "Регионы менее 1%",
          "Регионы менее 1%",
          "Регионы менее 1%",
          "Иркутская обл.",
          "Регионы менее 1%",
          "Регионы менее 1%",
          "Регионы менее 1%",
          "Регионы менее 1%",
          "Регионы менее 1%",
          "Регионы менее 1%",
          "Регионы менее 1%",
          "Регионы менее 1%",
          "Регионы менее 1%",
          "Регионы менее 1%",
          "Регионы менее 1%",
          "Краснодарский край",
          "Красноярский край",
          "Регионы менее 1%",
          "Регионы менее 1%",
          "Регионы менее 1%",
          "Регионы менее 1%",
          "Регионы менее 1%",
          "Регионы менее 1%",
          "Регионы менее 1%",
          "Регионы менее 1%",
          "Москва",
          "Московская обл.",
          "Мурманская обл.",
          "Регионы менее 1%",
          "Нижегородская обл.",
          "Регионы менее 1%",
          "Новосибирская обл.",
          "Регионы менее 1%",
          "Регионы менее 1%",
          "Регионы менее 1%",
          "Регионы менее 1%",
          "Регионы менее 1%",
          "Регионы менее 1%",
          "Регионы менее 1%",
          "Ростовская обл.",
          "Регионы менее 1%",
          "Регионы менее 1%",
          "Санкт-Петербург",
          "Саратовская обл.",
          "Регионы менее 1%",
          "Регионы менее 1%",
          "Свердловская обл.",
          "Регионы менее 1%",
          "Регионы менее 1%",
          "Регионы менее 1%",
          "Ставропольский край",
          "Регионы менее 1%",
          "Регионы менее 1%",
          "Регионы менее 1%",
          "Регионы менее 1%",
          "Регионы менее 1%",
          "Регионы менее 1%",
          "Регионы менее 1%",
          "Регионы менее 1%",
          "Ульяновская обл.",
          "ХМАО – Югра",
          "Регионы менее 1%",
          "Регионы менее 1%",
          "Челябинская обл.",
          "Регионы менее 1%",
          "Регионы менее 1%",
          "Регионы менее 1%",
          "Ямало-Ненецкий АО",
          "Регионы менее 1%"
         ],
         "legendgroup": "",
         "name": "",
         "showlegend": true,
         "textinfo": "percent+label",
         "type": "pie",
         "values": [
          3144,
          1870,
          10802,
          3098,
          9921,
          5229,
          7367,
          6807,
          7869,
          4663,
          5994,
          10852,
          2952,
          12847,
          10151,
          584,
          4323,
          6941,
          4069,
          15664,
          6256,
          3170,
          3413,
          7679,
          3641,
          4670,
          2724,
          5215,
          5745,
          6148,
          2975,
          10075,
          15402,
          1784,
          2679,
          6711,
          6427,
          4850,
          1688,
          4045,
          5047,
          253757,
          66233,
          11981,
          297,
          25994,
          4070,
          10724,
          8684,
          8787,
          6479,
          7399,
          7111,
          8527,
          4215,
          15251,
          6798,
          7663,
          34325,
          11116,
          6799,
          3695,
          23695,
          433,
          4700,
          5962,
          10345,
          6455,
          6133,
          5090,
          5068,
          8885,
          6520,
          7128,
          2819,
          10934,
          18664,
          9159,
          3177,
          12804,
          2200,
          7342,
          164,
          12688,
          6732
         ]
        }
       ],
       "layout": {
        "height": 1000,
        "legend": {
         "tracegroupgap": 0
        },
        "margin": {
         "b": 0,
         "t": 150
        },
        "piecolorway": [
         "rgb(150,0,90)",
         "rgb(0,0,200)",
         "rgb(0,25,255)",
         "rgb(0,152,255)",
         "rgb(44,255,150)",
         "rgb(151,255,0)",
         "rgb(255,234,0)",
         "rgb(255,111,0)",
         "rgb(255,0,0)"
        ],
        "template": {
         "data": {
          "bar": [
           {
            "error_x": {
             "color": "#2a3f5f"
            },
            "error_y": {
             "color": "#2a3f5f"
            },
            "marker": {
             "line": {
              "color": "#E5ECF6",
              "width": 0.5
             }
            },
            "type": "bar"
           }
          ],
          "barpolar": [
           {
            "marker": {
             "line": {
              "color": "#E5ECF6",
              "width": 0.5
             }
            },
            "type": "barpolar"
           }
          ],
          "carpet": [
           {
            "aaxis": {
             "endlinecolor": "#2a3f5f",
             "gridcolor": "white",
             "linecolor": "white",
             "minorgridcolor": "white",
             "startlinecolor": "#2a3f5f"
            },
            "baxis": {
             "endlinecolor": "#2a3f5f",
             "gridcolor": "white",
             "linecolor": "white",
             "minorgridcolor": "white",
             "startlinecolor": "#2a3f5f"
            },
            "type": "carpet"
           }
          ],
          "choropleth": [
           {
            "colorbar": {
             "outlinewidth": 0,
             "ticks": ""
            },
            "type": "choropleth"
           }
          ],
          "contour": [
           {
            "colorbar": {
             "outlinewidth": 0,
             "ticks": ""
            },
            "colorscale": [
             [
              0,
              "#0d0887"
             ],
             [
              0.1111111111111111,
              "#46039f"
             ],
             [
              0.2222222222222222,
              "#7201a8"
             ],
             [
              0.3333333333333333,
              "#9c179e"
             ],
             [
              0.4444444444444444,
              "#bd3786"
             ],
             [
              0.5555555555555556,
              "#d8576b"
             ],
             [
              0.6666666666666666,
              "#ed7953"
             ],
             [
              0.7777777777777778,
              "#fb9f3a"
             ],
             [
              0.8888888888888888,
              "#fdca26"
             ],
             [
              1,
              "#f0f921"
             ]
            ],
            "type": "contour"
           }
          ],
          "contourcarpet": [
           {
            "colorbar": {
             "outlinewidth": 0,
             "ticks": ""
            },
            "type": "contourcarpet"
           }
          ],
          "heatmap": [
           {
            "colorbar": {
             "outlinewidth": 0,
             "ticks": ""
            },
            "colorscale": [
             [
              0,
              "#0d0887"
             ],
             [
              0.1111111111111111,
              "#46039f"
             ],
             [
              0.2222222222222222,
              "#7201a8"
             ],
             [
              0.3333333333333333,
              "#9c179e"
             ],
             [
              0.4444444444444444,
              "#bd3786"
             ],
             [
              0.5555555555555556,
              "#d8576b"
             ],
             [
              0.6666666666666666,
              "#ed7953"
             ],
             [
              0.7777777777777778,
              "#fb9f3a"
             ],
             [
              0.8888888888888888,
              "#fdca26"
             ],
             [
              1,
              "#f0f921"
             ]
            ],
            "type": "heatmap"
           }
          ],
          "heatmapgl": [
           {
            "colorbar": {
             "outlinewidth": 0,
             "ticks": ""
            },
            "colorscale": [
             [
              0,
              "#0d0887"
             ],
             [
              0.1111111111111111,
              "#46039f"
             ],
             [
              0.2222222222222222,
              "#7201a8"
             ],
             [
              0.3333333333333333,
              "#9c179e"
             ],
             [
              0.4444444444444444,
              "#bd3786"
             ],
             [
              0.5555555555555556,
              "#d8576b"
             ],
             [
              0.6666666666666666,
              "#ed7953"
             ],
             [
              0.7777777777777778,
              "#fb9f3a"
             ],
             [
              0.8888888888888888,
              "#fdca26"
             ],
             [
              1,
              "#f0f921"
             ]
            ],
            "type": "heatmapgl"
           }
          ],
          "histogram": [
           {
            "marker": {
             "colorbar": {
              "outlinewidth": 0,
              "ticks": ""
             }
            },
            "type": "histogram"
           }
          ],
          "histogram2d": [
           {
            "colorbar": {
             "outlinewidth": 0,
             "ticks": ""
            },
            "colorscale": [
             [
              0,
              "#0d0887"
             ],
             [
              0.1111111111111111,
              "#46039f"
             ],
             [
              0.2222222222222222,
              "#7201a8"
             ],
             [
              0.3333333333333333,
              "#9c179e"
             ],
             [
              0.4444444444444444,
              "#bd3786"
             ],
             [
              0.5555555555555556,
              "#d8576b"
             ],
             [
              0.6666666666666666,
              "#ed7953"
             ],
             [
              0.7777777777777778,
              "#fb9f3a"
             ],
             [
              0.8888888888888888,
              "#fdca26"
             ],
             [
              1,
              "#f0f921"
             ]
            ],
            "type": "histogram2d"
           }
          ],
          "histogram2dcontour": [
           {
            "colorbar": {
             "outlinewidth": 0,
             "ticks": ""
            },
            "colorscale": [
             [
              0,
              "#0d0887"
             ],
             [
              0.1111111111111111,
              "#46039f"
             ],
             [
              0.2222222222222222,
              "#7201a8"
             ],
             [
              0.3333333333333333,
              "#9c179e"
             ],
             [
              0.4444444444444444,
              "#bd3786"
             ],
             [
              0.5555555555555556,
              "#d8576b"
             ],
             [
              0.6666666666666666,
              "#ed7953"
             ],
             [
              0.7777777777777778,
              "#fb9f3a"
             ],
             [
              0.8888888888888888,
              "#fdca26"
             ],
             [
              1,
              "#f0f921"
             ]
            ],
            "type": "histogram2dcontour"
           }
          ],
          "mesh3d": [
           {
            "colorbar": {
             "outlinewidth": 0,
             "ticks": ""
            },
            "type": "mesh3d"
           }
          ],
          "parcoords": [
           {
            "line": {
             "colorbar": {
              "outlinewidth": 0,
              "ticks": ""
             }
            },
            "type": "parcoords"
           }
          ],
          "pie": [
           {
            "automargin": true,
            "type": "pie"
           }
          ],
          "scatter": [
           {
            "marker": {
             "colorbar": {
              "outlinewidth": 0,
              "ticks": ""
             }
            },
            "type": "scatter"
           }
          ],
          "scatter3d": [
           {
            "line": {
             "colorbar": {
              "outlinewidth": 0,
              "ticks": ""
             }
            },
            "marker": {
             "colorbar": {
              "outlinewidth": 0,
              "ticks": ""
             }
            },
            "type": "scatter3d"
           }
          ],
          "scattercarpet": [
           {
            "marker": {
             "colorbar": {
              "outlinewidth": 0,
              "ticks": ""
             }
            },
            "type": "scattercarpet"
           }
          ],
          "scattergeo": [
           {
            "marker": {
             "colorbar": {
              "outlinewidth": 0,
              "ticks": ""
             }
            },
            "type": "scattergeo"
           }
          ],
          "scattergl": [
           {
            "marker": {
             "colorbar": {
              "outlinewidth": 0,
              "ticks": ""
             }
            },
            "type": "scattergl"
           }
          ],
          "scattermapbox": [
           {
            "marker": {
             "colorbar": {
              "outlinewidth": 0,
              "ticks": ""
             }
            },
            "type": "scattermapbox"
           }
          ],
          "scatterpolar": [
           {
            "marker": {
             "colorbar": {
              "outlinewidth": 0,
              "ticks": ""
             }
            },
            "type": "scatterpolar"
           }
          ],
          "scatterpolargl": [
           {
            "marker": {
             "colorbar": {
              "outlinewidth": 0,
              "ticks": ""
             }
            },
            "type": "scatterpolargl"
           }
          ],
          "scatterternary": [
           {
            "marker": {
             "colorbar": {
              "outlinewidth": 0,
              "ticks": ""
             }
            },
            "type": "scatterternary"
           }
          ],
          "surface": [
           {
            "colorbar": {
             "outlinewidth": 0,
             "ticks": ""
            },
            "colorscale": [
             [
              0,
              "#0d0887"
             ],
             [
              0.1111111111111111,
              "#46039f"
             ],
             [
              0.2222222222222222,
              "#7201a8"
             ],
             [
              0.3333333333333333,
              "#9c179e"
             ],
             [
              0.4444444444444444,
              "#bd3786"
             ],
             [
              0.5555555555555556,
              "#d8576b"
             ],
             [
              0.6666666666666666,
              "#ed7953"
             ],
             [
              0.7777777777777778,
              "#fb9f3a"
             ],
             [
              0.8888888888888888,
              "#fdca26"
             ],
             [
              1,
              "#f0f921"
             ]
            ],
            "type": "surface"
           }
          ],
          "table": [
           {
            "cells": {
             "fill": {
              "color": "#EBF0F8"
             },
             "line": {
              "color": "white"
             }
            },
            "header": {
             "fill": {
              "color": "#C8D4E3"
             },
             "line": {
              "color": "white"
             }
            },
            "type": "table"
           }
          ]
         },
         "layout": {
          "annotationdefaults": {
           "arrowcolor": "#2a3f5f",
           "arrowhead": 0,
           "arrowwidth": 1
          },
          "coloraxis": {
           "colorbar": {
            "outlinewidth": 0,
            "ticks": ""
           }
          },
          "colorscale": {
           "diverging": [
            [
             0,
             "#8e0152"
            ],
            [
             0.1,
             "#c51b7d"
            ],
            [
             0.2,
             "#de77ae"
            ],
            [
             0.3,
             "#f1b6da"
            ],
            [
             0.4,
             "#fde0ef"
            ],
            [
             0.5,
             "#f7f7f7"
            ],
            [
             0.6,
             "#e6f5d0"
            ],
            [
             0.7,
             "#b8e186"
            ],
            [
             0.8,
             "#7fbc41"
            ],
            [
             0.9,
             "#4d9221"
            ],
            [
             1,
             "#276419"
            ]
           ],
           "sequential": [
            [
             0,
             "#0d0887"
            ],
            [
             0.1111111111111111,
             "#46039f"
            ],
            [
             0.2222222222222222,
             "#7201a8"
            ],
            [
             0.3333333333333333,
             "#9c179e"
            ],
            [
             0.4444444444444444,
             "#bd3786"
            ],
            [
             0.5555555555555556,
             "#d8576b"
            ],
            [
             0.6666666666666666,
             "#ed7953"
            ],
            [
             0.7777777777777778,
             "#fb9f3a"
            ],
            [
             0.8888888888888888,
             "#fdca26"
            ],
            [
             1,
             "#f0f921"
            ]
           ],
           "sequentialminus": [
            [
             0,
             "#0d0887"
            ],
            [
             0.1111111111111111,
             "#46039f"
            ],
            [
             0.2222222222222222,
             "#7201a8"
            ],
            [
             0.3333333333333333,
             "#9c179e"
            ],
            [
             0.4444444444444444,
             "#bd3786"
            ],
            [
             0.5555555555555556,
             "#d8576b"
            ],
            [
             0.6666666666666666,
             "#ed7953"
            ],
            [
             0.7777777777777778,
             "#fb9f3a"
            ],
            [
             0.8888888888888888,
             "#fdca26"
            ],
            [
             1,
             "#f0f921"
            ]
           ]
          },
          "colorway": [
           "#636efa",
           "#EF553B",
           "#00cc96",
           "#ab63fa",
           "#FFA15A",
           "#19d3f3",
           "#FF6692",
           "#B6E880",
           "#FF97FF",
           "#FECB52"
          ],
          "font": {
           "color": "#2a3f5f"
          },
          "geo": {
           "bgcolor": "white",
           "lakecolor": "white",
           "landcolor": "#E5ECF6",
           "showlakes": true,
           "showland": true,
           "subunitcolor": "white"
          },
          "hoverlabel": {
           "align": "left"
          },
          "hovermode": "closest",
          "mapbox": {
           "style": "light"
          },
          "paper_bgcolor": "white",
          "plot_bgcolor": "#E5ECF6",
          "polar": {
           "angularaxis": {
            "gridcolor": "white",
            "linecolor": "white",
            "ticks": ""
           },
           "bgcolor": "#E5ECF6",
           "radialaxis": {
            "gridcolor": "white",
            "linecolor": "white",
            "ticks": ""
           }
          },
          "scene": {
           "xaxis": {
            "backgroundcolor": "#E5ECF6",
            "gridcolor": "white",
            "gridwidth": 2,
            "linecolor": "white",
            "showbackground": true,
            "ticks": "",
            "zerolinecolor": "white"
           },
           "yaxis": {
            "backgroundcolor": "#E5ECF6",
            "gridcolor": "white",
            "gridwidth": 2,
            "linecolor": "white",
            "showbackground": true,
            "ticks": "",
            "zerolinecolor": "white"
           },
           "zaxis": {
            "backgroundcolor": "#E5ECF6",
            "gridcolor": "white",
            "gridwidth": 2,
            "linecolor": "white",
            "showbackground": true,
            "ticks": "",
            "zerolinecolor": "white"
           }
          },
          "shapedefaults": {
           "line": {
            "color": "#2a3f5f"
           }
          },
          "ternary": {
           "aaxis": {
            "gridcolor": "white",
            "linecolor": "white",
            "ticks": ""
           },
           "baxis": {
            "gridcolor": "white",
            "linecolor": "white",
            "ticks": ""
           },
           "bgcolor": "#E5ECF6",
           "caxis": {
            "gridcolor": "white",
            "linecolor": "white",
            "ticks": ""
           }
          },
          "title": {
           "x": 0.05
          },
          "xaxis": {
           "automargin": true,
           "gridcolor": "white",
           "linecolor": "white",
           "ticks": "",
           "title": {
            "standoff": 15
           },
           "zerolinecolor": "white",
           "zerolinewidth": 2
          },
          "yaxis": {
           "automargin": true,
           "gridcolor": "white",
           "linecolor": "white",
           "ticks": "",
           "title": {
            "standoff": 15
           },
           "zerolinecolor": "white",
           "zerolinewidth": 2
          }
         }
        },
        "title": {
         "text": "Всего выявленных случаев заболевания COVID-19 в России: 932493<br>(на дату: 2020-08-18)",
         "x": 0.5,
         "xanchor": "center",
         "y": 0.9,
         "yanchor": "bottom"
        },
        "width": 900
       }
      }
     },
     "metadata": {}
    }
   ],
   "source": [
    "\n",
    "\n",
    "\n",
    "fig = px.pie(df2, values='Confirmed', names='Region',color_discrete_sequence=px.colors.sequential.Rainbow,\n",
    "            title=f'Всего выявленных случаев заболевания COVID-19 в России: {df2.Confirmed.sum()}<br>'+\n",
    "            f'(на дату: {myday})'\n",
    "            ,\n",
    "            width = 900, height=1000)\n",
    "\n",
    "fig.update_traces(textinfo='percent+label')\n",
    "fig.update_layout(\n",
    "        \n",
    "                #  title=f'{my_region}: динамика текущих больных COVID-19 по дням<br>(изменение относительно предыдущего дня)',\n",
    "                  title_x = 0.5,\n",
    "                  margin = {'t':150, 'b':0},\n",
    "                  title_y= 0.9,\n",
    "                  title_xanchor = \"center\",\n",
    "                  title_yanchor = \"bottom\", \n",
    "                 # legend_x = 0.05,legend_y = 0.98,\n",
    "                     \n",
    ")\n",
    "\n",
    "fig.show()\n"
   ]
  },
  {
   "cell_type": "code",
   "execution_count": 138,
   "metadata": {
    "tags": []
   },
   "outputs": [
    {
     "output_type": "stream",
     "name": "stdout",
     "text": "85\n"
    },
    {
     "output_type": "execute_result",
     "data": {
      "text/plain": "             Date  Confirmed  Recovered  Deaths  Day_deaths  Day_confirmed  \\\n6731   2020-08-18     253757     199117    4677          11            693   \n6901   2020-08-18      66233      49785    1151           5            145   \n9637   2020-08-18      34325      24707    2276          19            157   \n12997  2020-08-18      12804       8368     101           2             67   \n10277  2020-08-18      23695      19176     376           2            149   \n9797   2020-08-18      11116       6949      67           1             98   \n3196   2020-08-18      15664      11477     237           9            108   \n1916   2020-08-18      10852       6997      80           1             89   \n10917  2020-08-18      10345       6903     200           3            128   \n12357  2020-08-18      10934       7807      73           0             95   \n7061   2020-08-18      11981       8966     125           4             67   \n7382   2020-08-18      25994      22819     436           3            116   \n9152   2020-08-18      15251      12516     293           5            128   \n5280   2020-08-18      15402      12614     392           5            117   \n7862   2020-08-18       8684       6371     130           8             94   \n12677  2020-08-18       9159       7002      83           2             73   \n8502   2020-08-18       7111       4995     190           2             64   \n12517  2020-08-18      18664      16663     151           1             72   \n9472   2020-08-18       7663       5835     117           0             43   \n10117  2020-08-18       3695       2074       0           0             60   \n\n       Day_recovered     Rt    Rt2  Rate_conf   Rate_ill               Region  \\\n6731            1155  1.001  1.011  27.212751  28.715523               Москва   \n6901             118  0.992  1.009   7.102788   8.791733      Московская обл.   \n9637              83  1.006  1.019   3.680993   4.219710      Санкт-Петербург   \n12997            127  0.864  1.025   1.373093   2.491480     Челябинская обл.   \n10277             74  0.919  1.027   2.541038   2.381130    Свердловская обл.   \n9797             158  1.026  1.036   1.192073   2.356417     Саратовская обл.   \n3196             226  0.968  1.030   1.679798   2.270206       Иркутская обл.   \n1916             135  0.966  1.037   1.163762   2.169628   Волгоградская обл.   \n10917             64  1.170  1.051   1.109392   1.863293  Ставропольский край   \n12357             97  1.057  1.038   1.172556   1.755243     Ульяновская обл.   \n7061             215  0.929  1.023   1.284835   1.660986      Мурманская обл.   \n7382             115  0.966  1.020   2.787581   1.574201   Нижегородская обл.   \n9152             132  1.016  1.035   1.635508   1.403505      Ростовская обл.   \n5280              71  0.967  1.032   1.651701   1.377067    Красноярский край   \n7862             106  0.948  1.051   0.931267   1.254648          Омская обл.   \n12677             92  0.896  1.034   0.982206   1.192002     Хабаровский край   \n8502               7  0.960  1.040   0.762579   1.106941        Пермский край   \n12517            146  0.772  1.021   2.001516   1.063261          ХМАО – Югра   \n9472              59  0.955  1.027   0.821776   0.983373       Самарская обл.   \n10117            140  0.933  1.073   0.396250   0.931647     Сахалинская обл.   \n\n       Remaining_ill  MA7_dayconfirmed  MA14_dayconfirmed  MA7_remaining_ill  \\\n6731           49963        690.714286         690.000000       51139.142857   \n6901           15297        151.571429         154.071429       15273.285714   \n9637            7342        160.142857         158.714286        7121.000000   \n12997           4335         77.571429          84.000000        4374.714286   \n10277           4143        154.428571         166.714286        3927.857143   \n9797            4100         96.285714          95.142857        4031.571429   \n3196            3950        113.857143         119.714286        3968.142857   \n1916            3775         94.571429          95.357143        3704.714286   \n10917           3242        120.857143         120.500000        3011.000000   \n12357           3054         97.000000         100.571429        2949.857143   \n7061            2890         66.285714          86.571429        3026.142857   \n7382            2739        123.714286         117.785714        2733.571429   \n9152            2442        127.142857         127.642857        2367.142857   \n5280            2396        119.142857         123.000000        2208.428571   \n7862            2183        103.285714         105.357143        2169.285714   \n12677           2074         75.000000          85.571429        2165.428571   \n8502            1926         67.714286          68.000000        1835.714286   \n12517           1850         95.714286         117.428571        2166.428571   \n9472            1711         49.000000          46.571429        1684.285714   \n10117           1621         61.142857          63.142857        1629.000000   \n\n       MA14_remaining_ill  Change_dayconf  Change_remill  \n6731         52468.571429               3           -473  \n6901         15340.785714              -8             22  \n9637          6869.714286              -2             55  \n12997         4381.214286              -2            -62  \n10277         3648.571429               8             73  \n9797          3944.571429               2            -61  \n3196          4064.785714              -6           -127  \n1916          3653.428571              -6            -47  \n10917         2867.785714              -4             61  \n12357         2878.142857              -7             -2  \n7061          3212.785714               2           -152  \n7382          2895.214286              -4             -2  \n9152          2408.357143               1             -9  \n5280          1980.571429              -1             41  \n7862          2212.285714              -5            -20  \n12677         2322.785714               1            -21  \n8502          1748.357143              -1             55  \n12517         2355.214286              -2            -75  \n9472          1672.285714              -2            -16  \n10117         1574.357143               3            -80  ",
      "text/html": "<div>\n<style scoped>\n    .dataframe tbody tr th:only-of-type {\n        vertical-align: middle;\n    }\n\n    .dataframe tbody tr th {\n        vertical-align: top;\n    }\n\n    .dataframe thead th {\n        text-align: right;\n    }\n</style>\n<table border=\"1\" class=\"dataframe\">\n  <thead>\n    <tr style=\"text-align: right;\">\n      <th></th>\n      <th>Date</th>\n      <th>Confirmed</th>\n      <th>Recovered</th>\n      <th>Deaths</th>\n      <th>Day_deaths</th>\n      <th>Day_confirmed</th>\n      <th>Day_recovered</th>\n      <th>Rt</th>\n      <th>Rt2</th>\n      <th>Rate_conf</th>\n      <th>Rate_ill</th>\n      <th>Region</th>\n      <th>Remaining_ill</th>\n      <th>MA7_dayconfirmed</th>\n      <th>MA14_dayconfirmed</th>\n      <th>MA7_remaining_ill</th>\n      <th>MA14_remaining_ill</th>\n      <th>Change_dayconf</th>\n      <th>Change_remill</th>\n    </tr>\n  </thead>\n  <tbody>\n    <tr>\n      <th>6731</th>\n      <td>2020-08-18</td>\n      <td>253757</td>\n      <td>199117</td>\n      <td>4677</td>\n      <td>11</td>\n      <td>693</td>\n      <td>1155</td>\n      <td>1.001</td>\n      <td>1.011</td>\n      <td>27.212751</td>\n      <td>28.715523</td>\n      <td>Москва</td>\n      <td>49963</td>\n      <td>690.714286</td>\n      <td>690.000000</td>\n      <td>51139.142857</td>\n      <td>52468.571429</td>\n      <td>3</td>\n      <td>-473</td>\n    </tr>\n    <tr>\n      <th>6901</th>\n      <td>2020-08-18</td>\n      <td>66233</td>\n      <td>49785</td>\n      <td>1151</td>\n      <td>5</td>\n      <td>145</td>\n      <td>118</td>\n      <td>0.992</td>\n      <td>1.009</td>\n      <td>7.102788</td>\n      <td>8.791733</td>\n      <td>Московская обл.</td>\n      <td>15297</td>\n      <td>151.571429</td>\n      <td>154.071429</td>\n      <td>15273.285714</td>\n      <td>15340.785714</td>\n      <td>-8</td>\n      <td>22</td>\n    </tr>\n    <tr>\n      <th>9637</th>\n      <td>2020-08-18</td>\n      <td>34325</td>\n      <td>24707</td>\n      <td>2276</td>\n      <td>19</td>\n      <td>157</td>\n      <td>83</td>\n      <td>1.006</td>\n      <td>1.019</td>\n      <td>3.680993</td>\n      <td>4.219710</td>\n      <td>Санкт-Петербург</td>\n      <td>7342</td>\n      <td>160.142857</td>\n      <td>158.714286</td>\n      <td>7121.000000</td>\n      <td>6869.714286</td>\n      <td>-2</td>\n      <td>55</td>\n    </tr>\n    <tr>\n      <th>12997</th>\n      <td>2020-08-18</td>\n      <td>12804</td>\n      <td>8368</td>\n      <td>101</td>\n      <td>2</td>\n      <td>67</td>\n      <td>127</td>\n      <td>0.864</td>\n      <td>1.025</td>\n      <td>1.373093</td>\n      <td>2.491480</td>\n      <td>Челябинская обл.</td>\n      <td>4335</td>\n      <td>77.571429</td>\n      <td>84.000000</td>\n      <td>4374.714286</td>\n      <td>4381.214286</td>\n      <td>-2</td>\n      <td>-62</td>\n    </tr>\n    <tr>\n      <th>10277</th>\n      <td>2020-08-18</td>\n      <td>23695</td>\n      <td>19176</td>\n      <td>376</td>\n      <td>2</td>\n      <td>149</td>\n      <td>74</td>\n      <td>0.919</td>\n      <td>1.027</td>\n      <td>2.541038</td>\n      <td>2.381130</td>\n      <td>Свердловская обл.</td>\n      <td>4143</td>\n      <td>154.428571</td>\n      <td>166.714286</td>\n      <td>3927.857143</td>\n      <td>3648.571429</td>\n      <td>8</td>\n      <td>73</td>\n    </tr>\n    <tr>\n      <th>9797</th>\n      <td>2020-08-18</td>\n      <td>11116</td>\n      <td>6949</td>\n      <td>67</td>\n      <td>1</td>\n      <td>98</td>\n      <td>158</td>\n      <td>1.026</td>\n      <td>1.036</td>\n      <td>1.192073</td>\n      <td>2.356417</td>\n      <td>Саратовская обл.</td>\n      <td>4100</td>\n      <td>96.285714</td>\n      <td>95.142857</td>\n      <td>4031.571429</td>\n      <td>3944.571429</td>\n      <td>2</td>\n      <td>-61</td>\n    </tr>\n    <tr>\n      <th>3196</th>\n      <td>2020-08-18</td>\n      <td>15664</td>\n      <td>11477</td>\n      <td>237</td>\n      <td>9</td>\n      <td>108</td>\n      <td>226</td>\n      <td>0.968</td>\n      <td>1.030</td>\n      <td>1.679798</td>\n      <td>2.270206</td>\n      <td>Иркутская обл.</td>\n      <td>3950</td>\n      <td>113.857143</td>\n      <td>119.714286</td>\n      <td>3968.142857</td>\n      <td>4064.785714</td>\n      <td>-6</td>\n      <td>-127</td>\n    </tr>\n    <tr>\n      <th>1916</th>\n      <td>2020-08-18</td>\n      <td>10852</td>\n      <td>6997</td>\n      <td>80</td>\n      <td>1</td>\n      <td>89</td>\n      <td>135</td>\n      <td>0.966</td>\n      <td>1.037</td>\n      <td>1.163762</td>\n      <td>2.169628</td>\n      <td>Волгоградская обл.</td>\n      <td>3775</td>\n      <td>94.571429</td>\n      <td>95.357143</td>\n      <td>3704.714286</td>\n      <td>3653.428571</td>\n      <td>-6</td>\n      <td>-47</td>\n    </tr>\n    <tr>\n      <th>10917</th>\n      <td>2020-08-18</td>\n      <td>10345</td>\n      <td>6903</td>\n      <td>200</td>\n      <td>3</td>\n      <td>128</td>\n      <td>64</td>\n      <td>1.170</td>\n      <td>1.051</td>\n      <td>1.109392</td>\n      <td>1.863293</td>\n      <td>Ставропольский край</td>\n      <td>3242</td>\n      <td>120.857143</td>\n      <td>120.500000</td>\n      <td>3011.000000</td>\n      <td>2867.785714</td>\n      <td>-4</td>\n      <td>61</td>\n    </tr>\n    <tr>\n      <th>12357</th>\n      <td>2020-08-18</td>\n      <td>10934</td>\n      <td>7807</td>\n      <td>73</td>\n      <td>0</td>\n      <td>95</td>\n      <td>97</td>\n      <td>1.057</td>\n      <td>1.038</td>\n      <td>1.172556</td>\n      <td>1.755243</td>\n      <td>Ульяновская обл.</td>\n      <td>3054</td>\n      <td>97.000000</td>\n      <td>100.571429</td>\n      <td>2949.857143</td>\n      <td>2878.142857</td>\n      <td>-7</td>\n      <td>-2</td>\n    </tr>\n    <tr>\n      <th>7061</th>\n      <td>2020-08-18</td>\n      <td>11981</td>\n      <td>8966</td>\n      <td>125</td>\n      <td>4</td>\n      <td>67</td>\n      <td>215</td>\n      <td>0.929</td>\n      <td>1.023</td>\n      <td>1.284835</td>\n      <td>1.660986</td>\n      <td>Мурманская обл.</td>\n      <td>2890</td>\n      <td>66.285714</td>\n      <td>86.571429</td>\n      <td>3026.142857</td>\n      <td>3212.785714</td>\n      <td>2</td>\n      <td>-152</td>\n    </tr>\n    <tr>\n      <th>7382</th>\n      <td>2020-08-18</td>\n      <td>25994</td>\n      <td>22819</td>\n      <td>436</td>\n      <td>3</td>\n      <td>116</td>\n      <td>115</td>\n      <td>0.966</td>\n      <td>1.020</td>\n      <td>2.787581</td>\n      <td>1.574201</td>\n      <td>Нижегородская обл.</td>\n      <td>2739</td>\n      <td>123.714286</td>\n      <td>117.785714</td>\n      <td>2733.571429</td>\n      <td>2895.214286</td>\n      <td>-4</td>\n      <td>-2</td>\n    </tr>\n    <tr>\n      <th>9152</th>\n      <td>2020-08-18</td>\n      <td>15251</td>\n      <td>12516</td>\n      <td>293</td>\n      <td>5</td>\n      <td>128</td>\n      <td>132</td>\n      <td>1.016</td>\n      <td>1.035</td>\n      <td>1.635508</td>\n      <td>1.403505</td>\n      <td>Ростовская обл.</td>\n      <td>2442</td>\n      <td>127.142857</td>\n      <td>127.642857</td>\n      <td>2367.142857</td>\n      <td>2408.357143</td>\n      <td>1</td>\n      <td>-9</td>\n    </tr>\n    <tr>\n      <th>5280</th>\n      <td>2020-08-18</td>\n      <td>15402</td>\n      <td>12614</td>\n      <td>392</td>\n      <td>5</td>\n      <td>117</td>\n      <td>71</td>\n      <td>0.967</td>\n      <td>1.032</td>\n      <td>1.651701</td>\n      <td>1.377067</td>\n      <td>Красноярский край</td>\n      <td>2396</td>\n      <td>119.142857</td>\n      <td>123.000000</td>\n      <td>2208.428571</td>\n      <td>1980.571429</td>\n      <td>-1</td>\n      <td>41</td>\n    </tr>\n    <tr>\n      <th>7862</th>\n      <td>2020-08-18</td>\n      <td>8684</td>\n      <td>6371</td>\n      <td>130</td>\n      <td>8</td>\n      <td>94</td>\n      <td>106</td>\n      <td>0.948</td>\n      <td>1.051</td>\n      <td>0.931267</td>\n      <td>1.254648</td>\n      <td>Омская обл.</td>\n      <td>2183</td>\n      <td>103.285714</td>\n      <td>105.357143</td>\n      <td>2169.285714</td>\n      <td>2212.285714</td>\n      <td>-5</td>\n      <td>-20</td>\n    </tr>\n    <tr>\n      <th>12677</th>\n      <td>2020-08-18</td>\n      <td>9159</td>\n      <td>7002</td>\n      <td>83</td>\n      <td>2</td>\n      <td>73</td>\n      <td>92</td>\n      <td>0.896</td>\n      <td>1.034</td>\n      <td>0.982206</td>\n      <td>1.192002</td>\n      <td>Хабаровский край</td>\n      <td>2074</td>\n      <td>75.000000</td>\n      <td>85.571429</td>\n      <td>2165.428571</td>\n      <td>2322.785714</td>\n      <td>1</td>\n      <td>-21</td>\n    </tr>\n    <tr>\n      <th>8502</th>\n      <td>2020-08-18</td>\n      <td>7111</td>\n      <td>4995</td>\n      <td>190</td>\n      <td>2</td>\n      <td>64</td>\n      <td>7</td>\n      <td>0.960</td>\n      <td>1.040</td>\n      <td>0.762579</td>\n      <td>1.106941</td>\n      <td>Пермский край</td>\n      <td>1926</td>\n      <td>67.714286</td>\n      <td>68.000000</td>\n      <td>1835.714286</td>\n      <td>1748.357143</td>\n      <td>-1</td>\n      <td>55</td>\n    </tr>\n    <tr>\n      <th>12517</th>\n      <td>2020-08-18</td>\n      <td>18664</td>\n      <td>16663</td>\n      <td>151</td>\n      <td>1</td>\n      <td>72</td>\n      <td>146</td>\n      <td>0.772</td>\n      <td>1.021</td>\n      <td>2.001516</td>\n      <td>1.063261</td>\n      <td>ХМАО – Югра</td>\n      <td>1850</td>\n      <td>95.714286</td>\n      <td>117.428571</td>\n      <td>2166.428571</td>\n      <td>2355.214286</td>\n      <td>-2</td>\n      <td>-75</td>\n    </tr>\n    <tr>\n      <th>9472</th>\n      <td>2020-08-18</td>\n      <td>7663</td>\n      <td>5835</td>\n      <td>117</td>\n      <td>0</td>\n      <td>43</td>\n      <td>59</td>\n      <td>0.955</td>\n      <td>1.027</td>\n      <td>0.821776</td>\n      <td>0.983373</td>\n      <td>Самарская обл.</td>\n      <td>1711</td>\n      <td>49.000000</td>\n      <td>46.571429</td>\n      <td>1684.285714</td>\n      <td>1672.285714</td>\n      <td>-2</td>\n      <td>-16</td>\n    </tr>\n    <tr>\n      <th>10117</th>\n      <td>2020-08-18</td>\n      <td>3695</td>\n      <td>2074</td>\n      <td>0</td>\n      <td>0</td>\n      <td>60</td>\n      <td>140</td>\n      <td>0.933</td>\n      <td>1.073</td>\n      <td>0.396250</td>\n      <td>0.931647</td>\n      <td>Сахалинская обл.</td>\n      <td>1621</td>\n      <td>61.142857</td>\n      <td>63.142857</td>\n      <td>1629.000000</td>\n      <td>1574.357143</td>\n      <td>3</td>\n      <td>-80</td>\n    </tr>\n  </tbody>\n</table>\n</div>"
     },
     "metadata": {},
     "execution_count": 138
    }
   ],
   "source": [
    "mask = (X.Date==myday)&(X.Region!='Россия')\n",
    "#mask = (X.Date==myday)\n",
    "#Делаем выборку по доле регина в общих случаях выявления заболеваний по России\n",
    "df=X[mask].sort_values(by=['Rate_ill'],ascending = False)\n",
    "#Далее заменяем все имена если регион набрал менее 1% в общих случаях по России\n",
    "df2 = X[mask].reset_index(drop=True)\n",
    "print(len(df2))\n",
    "\n",
    "for i in range(len(df2)):\n",
    "    if df2.loc[i,'Rate_ill']<1:\n",
    "        df2.loc[i,'Region']='Регионы менее 1%'\n",
    "df.head(20)"
   ]
  },
  {
   "cell_type": "code",
   "execution_count": 139,
   "metadata": {},
   "outputs": [
    {
     "output_type": "display_data",
     "data": {
      "application/vnd.plotly.v1+json": {
       "config": {
        "plotlyServerURL": "https://plotly.com"
       },
       "data": [
        {
         "domain": {
          "x": [
           0,
           1
          ],
          "y": [
           0,
           1
          ]
         },
         "hovertemplate": "Region=%{label}<br>Remaining_ill=%{value}<extra></extra>",
         "labels": [
          "Регионы менее 1%",
          "Регионы менее 1%",
          "Регионы менее 1%",
          "Регионы менее 1%",
          "Регионы менее 1%",
          "Регионы менее 1%",
          "Регионы менее 1%",
          "Регионы менее 1%",
          "Регионы менее 1%",
          "Регионы менее 1%",
          "Регионы менее 1%",
          "Волгоградская обл.",
          "Регионы менее 1%",
          "Регионы менее 1%",
          "Регионы менее 1%",
          "Регионы менее 1%",
          "Регионы менее 1%",
          "Регионы менее 1%",
          "Регионы менее 1%",
          "Иркутская обл.",
          "Регионы менее 1%",
          "Регионы менее 1%",
          "Регионы менее 1%",
          "Регионы менее 1%",
          "Регионы менее 1%",
          "Регионы менее 1%",
          "Регионы менее 1%",
          "Регионы менее 1%",
          "Регионы менее 1%",
          "Регионы менее 1%",
          "Регионы менее 1%",
          "Регионы менее 1%",
          "Красноярский край",
          "Регионы менее 1%",
          "Регионы менее 1%",
          "Регионы менее 1%",
          "Регионы менее 1%",
          "Регионы менее 1%",
          "Регионы менее 1%",
          "Регионы менее 1%",
          "Регионы менее 1%",
          "Москва",
          "Московская обл.",
          "Мурманская обл.",
          "Регионы менее 1%",
          "Нижегородская обл.",
          "Регионы менее 1%",
          "Регионы менее 1%",
          "Омская обл.",
          "Регионы менее 1%",
          "Регионы менее 1%",
          "Регионы менее 1%",
          "Пермский край",
          "Регионы менее 1%",
          "Регионы менее 1%",
          "Ростовская обл.",
          "Регионы менее 1%",
          "Регионы менее 1%",
          "Санкт-Петербург",
          "Саратовская обл.",
          "Регионы менее 1%",
          "Регионы менее 1%",
          "Свердловская обл.",
          "Регионы менее 1%",
          "Регионы менее 1%",
          "Регионы менее 1%",
          "Ставропольский край",
          "Регионы менее 1%",
          "Регионы менее 1%",
          "Регионы менее 1%",
          "Регионы менее 1%",
          "Регионы менее 1%",
          "Регионы менее 1%",
          "Регионы менее 1%",
          "Регионы менее 1%",
          "Ульяновская обл.",
          "ХМАО – Югра",
          "Хабаровский край",
          "Регионы менее 1%",
          "Челябинская обл.",
          "Регионы менее 1%",
          "Регионы менее 1%",
          "Регионы менее 1%",
          "Регионы менее 1%",
          "Регионы менее 1%"
         ],
         "legendgroup": "",
         "name": "",
         "showlegend": true,
         "textinfo": "percent+label",
         "type": "pie",
         "values": [
          515,
          261,
          1552,
          373,
          1035,
          781,
          850,
          829,
          1461,
          571,
          513,
          3775,
          485,
          1443,
          594,
          59,
          251,
          1128,
          480,
          3950,
          304,
          621,
          1010,
          1179,
          505,
          794,
          896,
          1583,
          1000,
          1080,
          910,
          1442,
          2396,
          516,
          384,
          1090,
          1601,
          561,
          409,
          459,
          1093,
          49963,
          15297,
          2890,
          193,
          2739,
          1083,
          1020,
          2183,
          1616,
          1439,
          253,
          1926,
          1586,
          1145,
          2442,
          727,
          1711,
          7342,
          4100,
          1052,
          1621,
          4143,
          82,
          341,
          951,
          3242,
          1036,
          1121,
          911,
          1224,
          1022,
          691,
          363,
          469,
          3054,
          1850,
          2074,
          266,
          4335,
          676,
          1532,
          9,
          833,
          701
         ]
        }
       ],
       "layout": {
        "height": 1000,
        "legend": {
         "tracegroupgap": 0
        },
        "margin": {
         "b": 0,
         "t": 150
        },
        "piecolorway": [
         "rgb(150,0,90)",
         "rgb(0,0,200)",
         "rgb(0,25,255)",
         "rgb(0,152,255)",
         "rgb(44,255,150)",
         "rgb(151,255,0)",
         "rgb(255,234,0)",
         "rgb(255,111,0)",
         "rgb(255,0,0)"
        ],
        "template": {
         "data": {
          "bar": [
           {
            "error_x": {
             "color": "#2a3f5f"
            },
            "error_y": {
             "color": "#2a3f5f"
            },
            "marker": {
             "line": {
              "color": "#E5ECF6",
              "width": 0.5
             }
            },
            "type": "bar"
           }
          ],
          "barpolar": [
           {
            "marker": {
             "line": {
              "color": "#E5ECF6",
              "width": 0.5
             }
            },
            "type": "barpolar"
           }
          ],
          "carpet": [
           {
            "aaxis": {
             "endlinecolor": "#2a3f5f",
             "gridcolor": "white",
             "linecolor": "white",
             "minorgridcolor": "white",
             "startlinecolor": "#2a3f5f"
            },
            "baxis": {
             "endlinecolor": "#2a3f5f",
             "gridcolor": "white",
             "linecolor": "white",
             "minorgridcolor": "white",
             "startlinecolor": "#2a3f5f"
            },
            "type": "carpet"
           }
          ],
          "choropleth": [
           {
            "colorbar": {
             "outlinewidth": 0,
             "ticks": ""
            },
            "type": "choropleth"
           }
          ],
          "contour": [
           {
            "colorbar": {
             "outlinewidth": 0,
             "ticks": ""
            },
            "colorscale": [
             [
              0,
              "#0d0887"
             ],
             [
              0.1111111111111111,
              "#46039f"
             ],
             [
              0.2222222222222222,
              "#7201a8"
             ],
             [
              0.3333333333333333,
              "#9c179e"
             ],
             [
              0.4444444444444444,
              "#bd3786"
             ],
             [
              0.5555555555555556,
              "#d8576b"
             ],
             [
              0.6666666666666666,
              "#ed7953"
             ],
             [
              0.7777777777777778,
              "#fb9f3a"
             ],
             [
              0.8888888888888888,
              "#fdca26"
             ],
             [
              1,
              "#f0f921"
             ]
            ],
            "type": "contour"
           }
          ],
          "contourcarpet": [
           {
            "colorbar": {
             "outlinewidth": 0,
             "ticks": ""
            },
            "type": "contourcarpet"
           }
          ],
          "heatmap": [
           {
            "colorbar": {
             "outlinewidth": 0,
             "ticks": ""
            },
            "colorscale": [
             [
              0,
              "#0d0887"
             ],
             [
              0.1111111111111111,
              "#46039f"
             ],
             [
              0.2222222222222222,
              "#7201a8"
             ],
             [
              0.3333333333333333,
              "#9c179e"
             ],
             [
              0.4444444444444444,
              "#bd3786"
             ],
             [
              0.5555555555555556,
              "#d8576b"
             ],
             [
              0.6666666666666666,
              "#ed7953"
             ],
             [
              0.7777777777777778,
              "#fb9f3a"
             ],
             [
              0.8888888888888888,
              "#fdca26"
             ],
             [
              1,
              "#f0f921"
             ]
            ],
            "type": "heatmap"
           }
          ],
          "heatmapgl": [
           {
            "colorbar": {
             "outlinewidth": 0,
             "ticks": ""
            },
            "colorscale": [
             [
              0,
              "#0d0887"
             ],
             [
              0.1111111111111111,
              "#46039f"
             ],
             [
              0.2222222222222222,
              "#7201a8"
             ],
             [
              0.3333333333333333,
              "#9c179e"
             ],
             [
              0.4444444444444444,
              "#bd3786"
             ],
             [
              0.5555555555555556,
              "#d8576b"
             ],
             [
              0.6666666666666666,
              "#ed7953"
             ],
             [
              0.7777777777777778,
              "#fb9f3a"
             ],
             [
              0.8888888888888888,
              "#fdca26"
             ],
             [
              1,
              "#f0f921"
             ]
            ],
            "type": "heatmapgl"
           }
          ],
          "histogram": [
           {
            "marker": {
             "colorbar": {
              "outlinewidth": 0,
              "ticks": ""
             }
            },
            "type": "histogram"
           }
          ],
          "histogram2d": [
           {
            "colorbar": {
             "outlinewidth": 0,
             "ticks": ""
            },
            "colorscale": [
             [
              0,
              "#0d0887"
             ],
             [
              0.1111111111111111,
              "#46039f"
             ],
             [
              0.2222222222222222,
              "#7201a8"
             ],
             [
              0.3333333333333333,
              "#9c179e"
             ],
             [
              0.4444444444444444,
              "#bd3786"
             ],
             [
              0.5555555555555556,
              "#d8576b"
             ],
             [
              0.6666666666666666,
              "#ed7953"
             ],
             [
              0.7777777777777778,
              "#fb9f3a"
             ],
             [
              0.8888888888888888,
              "#fdca26"
             ],
             [
              1,
              "#f0f921"
             ]
            ],
            "type": "histogram2d"
           }
          ],
          "histogram2dcontour": [
           {
            "colorbar": {
             "outlinewidth": 0,
             "ticks": ""
            },
            "colorscale": [
             [
              0,
              "#0d0887"
             ],
             [
              0.1111111111111111,
              "#46039f"
             ],
             [
              0.2222222222222222,
              "#7201a8"
             ],
             [
              0.3333333333333333,
              "#9c179e"
             ],
             [
              0.4444444444444444,
              "#bd3786"
             ],
             [
              0.5555555555555556,
              "#d8576b"
             ],
             [
              0.6666666666666666,
              "#ed7953"
             ],
             [
              0.7777777777777778,
              "#fb9f3a"
             ],
             [
              0.8888888888888888,
              "#fdca26"
             ],
             [
              1,
              "#f0f921"
             ]
            ],
            "type": "histogram2dcontour"
           }
          ],
          "mesh3d": [
           {
            "colorbar": {
             "outlinewidth": 0,
             "ticks": ""
            },
            "type": "mesh3d"
           }
          ],
          "parcoords": [
           {
            "line": {
             "colorbar": {
              "outlinewidth": 0,
              "ticks": ""
             }
            },
            "type": "parcoords"
           }
          ],
          "pie": [
           {
            "automargin": true,
            "type": "pie"
           }
          ],
          "scatter": [
           {
            "marker": {
             "colorbar": {
              "outlinewidth": 0,
              "ticks": ""
             }
            },
            "type": "scatter"
           }
          ],
          "scatter3d": [
           {
            "line": {
             "colorbar": {
              "outlinewidth": 0,
              "ticks": ""
             }
            },
            "marker": {
             "colorbar": {
              "outlinewidth": 0,
              "ticks": ""
             }
            },
            "type": "scatter3d"
           }
          ],
          "scattercarpet": [
           {
            "marker": {
             "colorbar": {
              "outlinewidth": 0,
              "ticks": ""
             }
            },
            "type": "scattercarpet"
           }
          ],
          "scattergeo": [
           {
            "marker": {
             "colorbar": {
              "outlinewidth": 0,
              "ticks": ""
             }
            },
            "type": "scattergeo"
           }
          ],
          "scattergl": [
           {
            "marker": {
             "colorbar": {
              "outlinewidth": 0,
              "ticks": ""
             }
            },
            "type": "scattergl"
           }
          ],
          "scattermapbox": [
           {
            "marker": {
             "colorbar": {
              "outlinewidth": 0,
              "ticks": ""
             }
            },
            "type": "scattermapbox"
           }
          ],
          "scatterpolar": [
           {
            "marker": {
             "colorbar": {
              "outlinewidth": 0,
              "ticks": ""
             }
            },
            "type": "scatterpolar"
           }
          ],
          "scatterpolargl": [
           {
            "marker": {
             "colorbar": {
              "outlinewidth": 0,
              "ticks": ""
             }
            },
            "type": "scatterpolargl"
           }
          ],
          "scatterternary": [
           {
            "marker": {
             "colorbar": {
              "outlinewidth": 0,
              "ticks": ""
             }
            },
            "type": "scatterternary"
           }
          ],
          "surface": [
           {
            "colorbar": {
             "outlinewidth": 0,
             "ticks": ""
            },
            "colorscale": [
             [
              0,
              "#0d0887"
             ],
             [
              0.1111111111111111,
              "#46039f"
             ],
             [
              0.2222222222222222,
              "#7201a8"
             ],
             [
              0.3333333333333333,
              "#9c179e"
             ],
             [
              0.4444444444444444,
              "#bd3786"
             ],
             [
              0.5555555555555556,
              "#d8576b"
             ],
             [
              0.6666666666666666,
              "#ed7953"
             ],
             [
              0.7777777777777778,
              "#fb9f3a"
             ],
             [
              0.8888888888888888,
              "#fdca26"
             ],
             [
              1,
              "#f0f921"
             ]
            ],
            "type": "surface"
           }
          ],
          "table": [
           {
            "cells": {
             "fill": {
              "color": "#EBF0F8"
             },
             "line": {
              "color": "white"
             }
            },
            "header": {
             "fill": {
              "color": "#C8D4E3"
             },
             "line": {
              "color": "white"
             }
            },
            "type": "table"
           }
          ]
         },
         "layout": {
          "annotationdefaults": {
           "arrowcolor": "#2a3f5f",
           "arrowhead": 0,
           "arrowwidth": 1
          },
          "coloraxis": {
           "colorbar": {
            "outlinewidth": 0,
            "ticks": ""
           }
          },
          "colorscale": {
           "diverging": [
            [
             0,
             "#8e0152"
            ],
            [
             0.1,
             "#c51b7d"
            ],
            [
             0.2,
             "#de77ae"
            ],
            [
             0.3,
             "#f1b6da"
            ],
            [
             0.4,
             "#fde0ef"
            ],
            [
             0.5,
             "#f7f7f7"
            ],
            [
             0.6,
             "#e6f5d0"
            ],
            [
             0.7,
             "#b8e186"
            ],
            [
             0.8,
             "#7fbc41"
            ],
            [
             0.9,
             "#4d9221"
            ],
            [
             1,
             "#276419"
            ]
           ],
           "sequential": [
            [
             0,
             "#0d0887"
            ],
            [
             0.1111111111111111,
             "#46039f"
            ],
            [
             0.2222222222222222,
             "#7201a8"
            ],
            [
             0.3333333333333333,
             "#9c179e"
            ],
            [
             0.4444444444444444,
             "#bd3786"
            ],
            [
             0.5555555555555556,
             "#d8576b"
            ],
            [
             0.6666666666666666,
             "#ed7953"
            ],
            [
             0.7777777777777778,
             "#fb9f3a"
            ],
            [
             0.8888888888888888,
             "#fdca26"
            ],
            [
             1,
             "#f0f921"
            ]
           ],
           "sequentialminus": [
            [
             0,
             "#0d0887"
            ],
            [
             0.1111111111111111,
             "#46039f"
            ],
            [
             0.2222222222222222,
             "#7201a8"
            ],
            [
             0.3333333333333333,
             "#9c179e"
            ],
            [
             0.4444444444444444,
             "#bd3786"
            ],
            [
             0.5555555555555556,
             "#d8576b"
            ],
            [
             0.6666666666666666,
             "#ed7953"
            ],
            [
             0.7777777777777778,
             "#fb9f3a"
            ],
            [
             0.8888888888888888,
             "#fdca26"
            ],
            [
             1,
             "#f0f921"
            ]
           ]
          },
          "colorway": [
           "#636efa",
           "#EF553B",
           "#00cc96",
           "#ab63fa",
           "#FFA15A",
           "#19d3f3",
           "#FF6692",
           "#B6E880",
           "#FF97FF",
           "#FECB52"
          ],
          "font": {
           "color": "#2a3f5f"
          },
          "geo": {
           "bgcolor": "white",
           "lakecolor": "white",
           "landcolor": "#E5ECF6",
           "showlakes": true,
           "showland": true,
           "subunitcolor": "white"
          },
          "hoverlabel": {
           "align": "left"
          },
          "hovermode": "closest",
          "mapbox": {
           "style": "light"
          },
          "paper_bgcolor": "white",
          "plot_bgcolor": "#E5ECF6",
          "polar": {
           "angularaxis": {
            "gridcolor": "white",
            "linecolor": "white",
            "ticks": ""
           },
           "bgcolor": "#E5ECF6",
           "radialaxis": {
            "gridcolor": "white",
            "linecolor": "white",
            "ticks": ""
           }
          },
          "scene": {
           "xaxis": {
            "backgroundcolor": "#E5ECF6",
            "gridcolor": "white",
            "gridwidth": 2,
            "linecolor": "white",
            "showbackground": true,
            "ticks": "",
            "zerolinecolor": "white"
           },
           "yaxis": {
            "backgroundcolor": "#E5ECF6",
            "gridcolor": "white",
            "gridwidth": 2,
            "linecolor": "white",
            "showbackground": true,
            "ticks": "",
            "zerolinecolor": "white"
           },
           "zaxis": {
            "backgroundcolor": "#E5ECF6",
            "gridcolor": "white",
            "gridwidth": 2,
            "linecolor": "white",
            "showbackground": true,
            "ticks": "",
            "zerolinecolor": "white"
           }
          },
          "shapedefaults": {
           "line": {
            "color": "#2a3f5f"
           }
          },
          "ternary": {
           "aaxis": {
            "gridcolor": "white",
            "linecolor": "white",
            "ticks": ""
           },
           "baxis": {
            "gridcolor": "white",
            "linecolor": "white",
            "ticks": ""
           },
           "bgcolor": "#E5ECF6",
           "caxis": {
            "gridcolor": "white",
            "linecolor": "white",
            "ticks": ""
           }
          },
          "title": {
           "x": 0.05
          },
          "xaxis": {
           "automargin": true,
           "gridcolor": "white",
           "linecolor": "white",
           "ticks": "",
           "title": {
            "standoff": 15
           },
           "zerolinecolor": "white",
           "zerolinewidth": 2
          },
          "yaxis": {
           "automargin": true,
           "gridcolor": "white",
           "linecolor": "white",
           "ticks": "",
           "title": {
            "standoff": 15
           },
           "zerolinecolor": "white",
           "zerolinewidth": 2
          }
         }
        },
        "title": {
         "text": "Всего текущих больных COVID-19 в России: 173993<br>(на дату: 2020-08-18)",
         "x": 0.5,
         "xanchor": "center",
         "y": 0.9,
         "yanchor": "bottom"
        },
        "width": 900
       }
      }
     },
     "metadata": {}
    }
   ],
   "source": [
    "\n",
    "\n",
    "fig = px.pie(df2, values='Remaining_ill', names='Region',color_discrete_sequence=px.colors.sequential.Rainbow,\n",
    "            title=f'Всего текущих больных COVID-19 в России: {df2.Remaining_ill.sum()}<br>'+\n",
    "            f'(на дату: {myday})'\n",
    "             ,\n",
    "            width = 900, height=1000)\n",
    "\n",
    "fig.update_traces(textinfo='percent+label')\n",
    "fig.update_layout(\n",
    "        \n",
    "                #  title=f'{my_region}: динамика текущих больных COVID-19 по дням<br>(изменение относительно предыдущего дня)',\n",
    "                  margin = {'t':150, 'b':0},\n",
    "                  title_x = 0.5,\n",
    "                  title_y= 0.9,\n",
    "                  title_xanchor = \"center\",\n",
    "                  title_yanchor = \"bottom\", \n",
    "                 # legend_x = 0.05,legend_y = 0.98,\n",
    "                     \n",
    ")\n",
    "\n",
    "fig.show()\n"
   ]
  },
  {
   "cell_type": "code",
   "execution_count": 140,
   "metadata": {},
   "outputs": [
    {
     "output_type": "display_data",
     "data": {
      "application/vnd.plotly.v1+json": {
       "config": {
        "plotlyServerURL": "https://plotly.com"
       },
       "data": [
        {
         "insidetextorientation": "radial",
         "labels": [
          "Регионы менее 1%",
          "Регионы менее 1%",
          "Регионы менее 1%",
          "Регионы менее 1%",
          "Регионы менее 1%",
          "Регионы менее 1%",
          "Регионы менее 1%",
          "Регионы менее 1%",
          "Регионы менее 1%",
          "Регионы менее 1%",
          "Регионы менее 1%",
          "Волгоградская обл.",
          "Регионы менее 1%",
          "Регионы менее 1%",
          "Регионы менее 1%",
          "Регионы менее 1%",
          "Регионы менее 1%",
          "Регионы менее 1%",
          "Регионы менее 1%",
          "Иркутская обл.",
          "Регионы менее 1%",
          "Регионы менее 1%",
          "Регионы менее 1%",
          "Регионы менее 1%",
          "Регионы менее 1%",
          "Регионы менее 1%",
          "Регионы менее 1%",
          "Регионы менее 1%",
          "Регионы менее 1%",
          "Регионы менее 1%",
          "Регионы менее 1%",
          "Регионы менее 1%",
          "Красноярский край",
          "Регионы менее 1%",
          "Регионы менее 1%",
          "Регионы менее 1%",
          "Регионы менее 1%",
          "Регионы менее 1%",
          "Регионы менее 1%",
          "Регионы менее 1%",
          "Регионы менее 1%",
          "Москва",
          "Московская обл.",
          "Мурманская обл.",
          "Регионы менее 1%",
          "Нижегородская обл.",
          "Регионы менее 1%",
          "Регионы менее 1%",
          "Омская обл.",
          "Регионы менее 1%",
          "Регионы менее 1%",
          "Регионы менее 1%",
          "Пермский край",
          "Регионы менее 1%",
          "Регионы менее 1%",
          "Ростовская обл.",
          "Регионы менее 1%",
          "Регионы менее 1%",
          "Санкт-Петербург",
          "Саратовская обл.",
          "Регионы менее 1%",
          "Регионы менее 1%",
          "Свердловская обл.",
          "Регионы менее 1%",
          "Регионы менее 1%",
          "Регионы менее 1%",
          "Ставропольский край",
          "Регионы менее 1%",
          "Регионы менее 1%",
          "Регионы менее 1%",
          "Регионы менее 1%",
          "Регионы менее 1%",
          "Регионы менее 1%",
          "Регионы менее 1%",
          "Регионы менее 1%",
          "Ульяновская обл.",
          "ХМАО – Югра",
          "Хабаровский край",
          "Регионы менее 1%",
          "Челябинская обл.",
          "Регионы менее 1%",
          "Регионы менее 1%",
          "Регионы менее 1%",
          "Регионы менее 1%",
          "Регионы менее 1%"
         ],
         "textinfo": "label+percent",
         "type": "pie",
         "values": [
          515,
          261,
          1552,
          373,
          1035,
          781,
          850,
          829,
          1461,
          571,
          513,
          3775,
          485,
          1443,
          594,
          59,
          251,
          1128,
          480,
          3950,
          304,
          621,
          1010,
          1179,
          505,
          794,
          896,
          1583,
          1000,
          1080,
          910,
          1442,
          2396,
          516,
          384,
          1090,
          1601,
          561,
          409,
          459,
          1093,
          49963,
          15297,
          2890,
          193,
          2739,
          1083,
          1020,
          2183,
          1616,
          1439,
          253,
          1926,
          1586,
          1145,
          2442,
          727,
          1711,
          7342,
          4100,
          1052,
          1621,
          4143,
          82,
          341,
          951,
          3242,
          1036,
          1121,
          911,
          1224,
          1022,
          691,
          363,
          469,
          3054,
          1850,
          2074,
          266,
          4335,
          676,
          1532,
          9,
          833,
          701
         ]
        }
       ],
       "layout": {
        "height": 900,
        "margin": {
         "b": 0,
         "t": 120
        },
        "template": {
         "data": {
          "bar": [
           {
            "error_x": {
             "color": "#2a3f5f"
            },
            "error_y": {
             "color": "#2a3f5f"
            },
            "marker": {
             "line": {
              "color": "#E5ECF6",
              "width": 0.5
             }
            },
            "type": "bar"
           }
          ],
          "barpolar": [
           {
            "marker": {
             "line": {
              "color": "#E5ECF6",
              "width": 0.5
             }
            },
            "type": "barpolar"
           }
          ],
          "carpet": [
           {
            "aaxis": {
             "endlinecolor": "#2a3f5f",
             "gridcolor": "white",
             "linecolor": "white",
             "minorgridcolor": "white",
             "startlinecolor": "#2a3f5f"
            },
            "baxis": {
             "endlinecolor": "#2a3f5f",
             "gridcolor": "white",
             "linecolor": "white",
             "minorgridcolor": "white",
             "startlinecolor": "#2a3f5f"
            },
            "type": "carpet"
           }
          ],
          "choropleth": [
           {
            "colorbar": {
             "outlinewidth": 0,
             "ticks": ""
            },
            "type": "choropleth"
           }
          ],
          "contour": [
           {
            "colorbar": {
             "outlinewidth": 0,
             "ticks": ""
            },
            "colorscale": [
             [
              0,
              "#0d0887"
             ],
             [
              0.1111111111111111,
              "#46039f"
             ],
             [
              0.2222222222222222,
              "#7201a8"
             ],
             [
              0.3333333333333333,
              "#9c179e"
             ],
             [
              0.4444444444444444,
              "#bd3786"
             ],
             [
              0.5555555555555556,
              "#d8576b"
             ],
             [
              0.6666666666666666,
              "#ed7953"
             ],
             [
              0.7777777777777778,
              "#fb9f3a"
             ],
             [
              0.8888888888888888,
              "#fdca26"
             ],
             [
              1,
              "#f0f921"
             ]
            ],
            "type": "contour"
           }
          ],
          "contourcarpet": [
           {
            "colorbar": {
             "outlinewidth": 0,
             "ticks": ""
            },
            "type": "contourcarpet"
           }
          ],
          "heatmap": [
           {
            "colorbar": {
             "outlinewidth": 0,
             "ticks": ""
            },
            "colorscale": [
             [
              0,
              "#0d0887"
             ],
             [
              0.1111111111111111,
              "#46039f"
             ],
             [
              0.2222222222222222,
              "#7201a8"
             ],
             [
              0.3333333333333333,
              "#9c179e"
             ],
             [
              0.4444444444444444,
              "#bd3786"
             ],
             [
              0.5555555555555556,
              "#d8576b"
             ],
             [
              0.6666666666666666,
              "#ed7953"
             ],
             [
              0.7777777777777778,
              "#fb9f3a"
             ],
             [
              0.8888888888888888,
              "#fdca26"
             ],
             [
              1,
              "#f0f921"
             ]
            ],
            "type": "heatmap"
           }
          ],
          "heatmapgl": [
           {
            "colorbar": {
             "outlinewidth": 0,
             "ticks": ""
            },
            "colorscale": [
             [
              0,
              "#0d0887"
             ],
             [
              0.1111111111111111,
              "#46039f"
             ],
             [
              0.2222222222222222,
              "#7201a8"
             ],
             [
              0.3333333333333333,
              "#9c179e"
             ],
             [
              0.4444444444444444,
              "#bd3786"
             ],
             [
              0.5555555555555556,
              "#d8576b"
             ],
             [
              0.6666666666666666,
              "#ed7953"
             ],
             [
              0.7777777777777778,
              "#fb9f3a"
             ],
             [
              0.8888888888888888,
              "#fdca26"
             ],
             [
              1,
              "#f0f921"
             ]
            ],
            "type": "heatmapgl"
           }
          ],
          "histogram": [
           {
            "marker": {
             "colorbar": {
              "outlinewidth": 0,
              "ticks": ""
             }
            },
            "type": "histogram"
           }
          ],
          "histogram2d": [
           {
            "colorbar": {
             "outlinewidth": 0,
             "ticks": ""
            },
            "colorscale": [
             [
              0,
              "#0d0887"
             ],
             [
              0.1111111111111111,
              "#46039f"
             ],
             [
              0.2222222222222222,
              "#7201a8"
             ],
             [
              0.3333333333333333,
              "#9c179e"
             ],
             [
              0.4444444444444444,
              "#bd3786"
             ],
             [
              0.5555555555555556,
              "#d8576b"
             ],
             [
              0.6666666666666666,
              "#ed7953"
             ],
             [
              0.7777777777777778,
              "#fb9f3a"
             ],
             [
              0.8888888888888888,
              "#fdca26"
             ],
             [
              1,
              "#f0f921"
             ]
            ],
            "type": "histogram2d"
           }
          ],
          "histogram2dcontour": [
           {
            "colorbar": {
             "outlinewidth": 0,
             "ticks": ""
            },
            "colorscale": [
             [
              0,
              "#0d0887"
             ],
             [
              0.1111111111111111,
              "#46039f"
             ],
             [
              0.2222222222222222,
              "#7201a8"
             ],
             [
              0.3333333333333333,
              "#9c179e"
             ],
             [
              0.4444444444444444,
              "#bd3786"
             ],
             [
              0.5555555555555556,
              "#d8576b"
             ],
             [
              0.6666666666666666,
              "#ed7953"
             ],
             [
              0.7777777777777778,
              "#fb9f3a"
             ],
             [
              0.8888888888888888,
              "#fdca26"
             ],
             [
              1,
              "#f0f921"
             ]
            ],
            "type": "histogram2dcontour"
           }
          ],
          "mesh3d": [
           {
            "colorbar": {
             "outlinewidth": 0,
             "ticks": ""
            },
            "type": "mesh3d"
           }
          ],
          "parcoords": [
           {
            "line": {
             "colorbar": {
              "outlinewidth": 0,
              "ticks": ""
             }
            },
            "type": "parcoords"
           }
          ],
          "pie": [
           {
            "automargin": true,
            "type": "pie"
           }
          ],
          "scatter": [
           {
            "marker": {
             "colorbar": {
              "outlinewidth": 0,
              "ticks": ""
             }
            },
            "type": "scatter"
           }
          ],
          "scatter3d": [
           {
            "line": {
             "colorbar": {
              "outlinewidth": 0,
              "ticks": ""
             }
            },
            "marker": {
             "colorbar": {
              "outlinewidth": 0,
              "ticks": ""
             }
            },
            "type": "scatter3d"
           }
          ],
          "scattercarpet": [
           {
            "marker": {
             "colorbar": {
              "outlinewidth": 0,
              "ticks": ""
             }
            },
            "type": "scattercarpet"
           }
          ],
          "scattergeo": [
           {
            "marker": {
             "colorbar": {
              "outlinewidth": 0,
              "ticks": ""
             }
            },
            "type": "scattergeo"
           }
          ],
          "scattergl": [
           {
            "marker": {
             "colorbar": {
              "outlinewidth": 0,
              "ticks": ""
             }
            },
            "type": "scattergl"
           }
          ],
          "scattermapbox": [
           {
            "marker": {
             "colorbar": {
              "outlinewidth": 0,
              "ticks": ""
             }
            },
            "type": "scattermapbox"
           }
          ],
          "scatterpolar": [
           {
            "marker": {
             "colorbar": {
              "outlinewidth": 0,
              "ticks": ""
             }
            },
            "type": "scatterpolar"
           }
          ],
          "scatterpolargl": [
           {
            "marker": {
             "colorbar": {
              "outlinewidth": 0,
              "ticks": ""
             }
            },
            "type": "scatterpolargl"
           }
          ],
          "scatterternary": [
           {
            "marker": {
             "colorbar": {
              "outlinewidth": 0,
              "ticks": ""
             }
            },
            "type": "scatterternary"
           }
          ],
          "surface": [
           {
            "colorbar": {
             "outlinewidth": 0,
             "ticks": ""
            },
            "colorscale": [
             [
              0,
              "#0d0887"
             ],
             [
              0.1111111111111111,
              "#46039f"
             ],
             [
              0.2222222222222222,
              "#7201a8"
             ],
             [
              0.3333333333333333,
              "#9c179e"
             ],
             [
              0.4444444444444444,
              "#bd3786"
             ],
             [
              0.5555555555555556,
              "#d8576b"
             ],
             [
              0.6666666666666666,
              "#ed7953"
             ],
             [
              0.7777777777777778,
              "#fb9f3a"
             ],
             [
              0.8888888888888888,
              "#fdca26"
             ],
             [
              1,
              "#f0f921"
             ]
            ],
            "type": "surface"
           }
          ],
          "table": [
           {
            "cells": {
             "fill": {
              "color": "#EBF0F8"
             },
             "line": {
              "color": "white"
             }
            },
            "header": {
             "fill": {
              "color": "#C8D4E3"
             },
             "line": {
              "color": "white"
             }
            },
            "type": "table"
           }
          ]
         },
         "layout": {
          "annotationdefaults": {
           "arrowcolor": "#2a3f5f",
           "arrowhead": 0,
           "arrowwidth": 1
          },
          "coloraxis": {
           "colorbar": {
            "outlinewidth": 0,
            "ticks": ""
           }
          },
          "colorscale": {
           "diverging": [
            [
             0,
             "#8e0152"
            ],
            [
             0.1,
             "#c51b7d"
            ],
            [
             0.2,
             "#de77ae"
            ],
            [
             0.3,
             "#f1b6da"
            ],
            [
             0.4,
             "#fde0ef"
            ],
            [
             0.5,
             "#f7f7f7"
            ],
            [
             0.6,
             "#e6f5d0"
            ],
            [
             0.7,
             "#b8e186"
            ],
            [
             0.8,
             "#7fbc41"
            ],
            [
             0.9,
             "#4d9221"
            ],
            [
             1,
             "#276419"
            ]
           ],
           "sequential": [
            [
             0,
             "#0d0887"
            ],
            [
             0.1111111111111111,
             "#46039f"
            ],
            [
             0.2222222222222222,
             "#7201a8"
            ],
            [
             0.3333333333333333,
             "#9c179e"
            ],
            [
             0.4444444444444444,
             "#bd3786"
            ],
            [
             0.5555555555555556,
             "#d8576b"
            ],
            [
             0.6666666666666666,
             "#ed7953"
            ],
            [
             0.7777777777777778,
             "#fb9f3a"
            ],
            [
             0.8888888888888888,
             "#fdca26"
            ],
            [
             1,
             "#f0f921"
            ]
           ],
           "sequentialminus": [
            [
             0,
             "#0d0887"
            ],
            [
             0.1111111111111111,
             "#46039f"
            ],
            [
             0.2222222222222222,
             "#7201a8"
            ],
            [
             0.3333333333333333,
             "#9c179e"
            ],
            [
             0.4444444444444444,
             "#bd3786"
            ],
            [
             0.5555555555555556,
             "#d8576b"
            ],
            [
             0.6666666666666666,
             "#ed7953"
            ],
            [
             0.7777777777777778,
             "#fb9f3a"
            ],
            [
             0.8888888888888888,
             "#fdca26"
            ],
            [
             1,
             "#f0f921"
            ]
           ]
          },
          "colorway": [
           "#636efa",
           "#EF553B",
           "#00cc96",
           "#ab63fa",
           "#FFA15A",
           "#19d3f3",
           "#FF6692",
           "#B6E880",
           "#FF97FF",
           "#FECB52"
          ],
          "font": {
           "color": "#2a3f5f"
          },
          "geo": {
           "bgcolor": "white",
           "lakecolor": "white",
           "landcolor": "#E5ECF6",
           "showlakes": true,
           "showland": true,
           "subunitcolor": "white"
          },
          "hoverlabel": {
           "align": "left"
          },
          "hovermode": "closest",
          "mapbox": {
           "style": "light"
          },
          "paper_bgcolor": "white",
          "plot_bgcolor": "#E5ECF6",
          "polar": {
           "angularaxis": {
            "gridcolor": "white",
            "linecolor": "white",
            "ticks": ""
           },
           "bgcolor": "#E5ECF6",
           "radialaxis": {
            "gridcolor": "white",
            "linecolor": "white",
            "ticks": ""
           }
          },
          "scene": {
           "xaxis": {
            "backgroundcolor": "#E5ECF6",
            "gridcolor": "white",
            "gridwidth": 2,
            "linecolor": "white",
            "showbackground": true,
            "ticks": "",
            "zerolinecolor": "white"
           },
           "yaxis": {
            "backgroundcolor": "#E5ECF6",
            "gridcolor": "white",
            "gridwidth": 2,
            "linecolor": "white",
            "showbackground": true,
            "ticks": "",
            "zerolinecolor": "white"
           },
           "zaxis": {
            "backgroundcolor": "#E5ECF6",
            "gridcolor": "white",
            "gridwidth": 2,
            "linecolor": "white",
            "showbackground": true,
            "ticks": "",
            "zerolinecolor": "white"
           }
          },
          "shapedefaults": {
           "line": {
            "color": "#2a3f5f"
           }
          },
          "ternary": {
           "aaxis": {
            "gridcolor": "white",
            "linecolor": "white",
            "ticks": ""
           },
           "baxis": {
            "gridcolor": "white",
            "linecolor": "white",
            "ticks": ""
           },
           "bgcolor": "#E5ECF6",
           "caxis": {
            "gridcolor": "white",
            "linecolor": "white",
            "ticks": ""
           }
          },
          "title": {
           "x": 0.05
          },
          "xaxis": {
           "automargin": true,
           "gridcolor": "white",
           "linecolor": "white",
           "ticks": "",
           "title": {
            "standoff": 15
           },
           "zerolinecolor": "white",
           "zerolinewidth": 2
          },
          "yaxis": {
           "automargin": true,
           "gridcolor": "white",
           "linecolor": "white",
           "ticks": "",
           "title": {
            "standoff": 15
           },
           "zerolinecolor": "white",
           "zerolinewidth": 2
          }
         }
        },
        "title": {
         "text": "Всего текущих больных COVID-19 в России: 173993<br>(на дату: 2020-08-18)",
         "x": 0.5,
         "xanchor": "center",
         "y": 0.9,
         "yanchor": "bottom"
        },
        "width": 900
       }
      }
     },
     "metadata": {}
    }
   ],
   "source": [
    "fig_r8 = go.Figure(data=[go.Pie(labels=df2.Region, values=df2.Remaining_ill, textinfo='label+percent',\n",
    "                             insidetextorientation='radial'\n",
    "                            )])\n",
    "fig_r8.update_layout(\n",
    "                title=f'Всего текущих больных COVID-19 в России: {df2.Remaining_ill.sum()}<br>'+\n",
    "                f'(на дату: {myday})',\n",
    "                 margin = {'t':120, 'b':0},\n",
    "                  title_x = 0.5,\n",
    "                  title_y= 0.9,\n",
    "                  width = 900, height=900,\n",
    "                  title_xanchor = \"center\",\n",
    "                  title_yanchor = \"bottom\")\n",
    "fig_r8.show()"
   ]
  },
  {
   "cell_type": "code",
   "execution_count": null,
   "metadata": {},
   "outputs": [],
   "source": []
  },
  {
   "cell_type": "code",
   "execution_count": 141,
   "metadata": {
    "tags": []
   },
   "outputs": [
    {
     "output_type": "stream",
     "name": "stdout",
     "text": "12 Волгоградская обл.\n20 Иркутская обл.\n42 Москва\n43 Московская обл.\n56 Россия\n60 Санкт-Петербург\n61 Саратовская обл.\n64 Свердловская обл.\n68 Ставропольский край\n77 Ульяновская обл.\n81 Челябинская обл.\n"
    }
   ],
   "source": [
    "delta2 = datetime.timedelta(7)\n",
    "past7=myday-delta2\n",
    "mask = (X.Date>=past7)&(X.Region.isin(regions_towatch))&(X.Region!='Россия')\n",
    "                                      \n",
    "box_cases1 = X[mask].groupby(['Region','Date'])['Day_confirmed'].sum()\n",
    "box_cases2 = X[mask].groupby(['Region','Date'])['Day_recovered'].sum()\n",
    "for i in regions_dict.keys():\n",
    "    if regions_dict.get(i) in regions_towatch:\n",
    "        print(i,regions_dict.get(i))"
   ]
  },
  {
   "cell_type": "code",
   "execution_count": 142,
   "metadata": {},
   "outputs": [
    {
     "output_type": "execute_result",
     "data": {
      "text/plain": "Region      Волгоградская обл.  Иркутская обл.  Москва  Московская обл.  \\\nDate                                                                      \n2020-08-11                  95             124     694              154   \n2020-08-12                  91             119     689              152   \n2020-08-13                 102             115     692              148   \n2020-08-14                  97             110     688              156   \n2020-08-15                  96             113     695              153   \n2020-08-16                  92             118     688              154   \n2020-08-17                  95             114     690              153   \n2020-08-18                  89             108     693              145   \n\nRegion      Санкт-Петербург  Саратовская обл.  Свердловская обл.  \\\nDate                                                               \n2020-08-11              157                94                168   \n2020-08-12              161                96                167   \n2020-08-13              160                95                162   \n2020-08-14              159                94                154   \n2020-08-15              162                97                158   \n2020-08-16              163                98                150   \n2020-08-17              159                96                141   \n2020-08-18              157                98                149   \n\nRegion      Ставропольский край  Ульяновская обл.  Челябинская обл.  \nDate                                                                 \n2020-08-11                  111               115                85  \n2020-08-12                   95                91                88  \n2020-08-13                  105                94                84  \n2020-08-14                  130                86                80  \n2020-08-15                  127               120                76  \n2020-08-16                  129                91                79  \n2020-08-17                  132               102                69  \n2020-08-18                  128                95                67  ",
      "text/html": "<div>\n<style scoped>\n    .dataframe tbody tr th:only-of-type {\n        vertical-align: middle;\n    }\n\n    .dataframe tbody tr th {\n        vertical-align: top;\n    }\n\n    .dataframe thead th {\n        text-align: right;\n    }\n</style>\n<table border=\"1\" class=\"dataframe\">\n  <thead>\n    <tr style=\"text-align: right;\">\n      <th>Region</th>\n      <th>Волгоградская обл.</th>\n      <th>Иркутская обл.</th>\n      <th>Москва</th>\n      <th>Московская обл.</th>\n      <th>Санкт-Петербург</th>\n      <th>Саратовская обл.</th>\n      <th>Свердловская обл.</th>\n      <th>Ставропольский край</th>\n      <th>Ульяновская обл.</th>\n      <th>Челябинская обл.</th>\n    </tr>\n    <tr>\n      <th>Date</th>\n      <th></th>\n      <th></th>\n      <th></th>\n      <th></th>\n      <th></th>\n      <th></th>\n      <th></th>\n      <th></th>\n      <th></th>\n      <th></th>\n    </tr>\n  </thead>\n  <tbody>\n    <tr>\n      <th>2020-08-11</th>\n      <td>95</td>\n      <td>124</td>\n      <td>694</td>\n      <td>154</td>\n      <td>157</td>\n      <td>94</td>\n      <td>168</td>\n      <td>111</td>\n      <td>115</td>\n      <td>85</td>\n    </tr>\n    <tr>\n      <th>2020-08-12</th>\n      <td>91</td>\n      <td>119</td>\n      <td>689</td>\n      <td>152</td>\n      <td>161</td>\n      <td>96</td>\n      <td>167</td>\n      <td>95</td>\n      <td>91</td>\n      <td>88</td>\n    </tr>\n    <tr>\n      <th>2020-08-13</th>\n      <td>102</td>\n      <td>115</td>\n      <td>692</td>\n      <td>148</td>\n      <td>160</td>\n      <td>95</td>\n      <td>162</td>\n      <td>105</td>\n      <td>94</td>\n      <td>84</td>\n    </tr>\n    <tr>\n      <th>2020-08-14</th>\n      <td>97</td>\n      <td>110</td>\n      <td>688</td>\n      <td>156</td>\n      <td>159</td>\n      <td>94</td>\n      <td>154</td>\n      <td>130</td>\n      <td>86</td>\n      <td>80</td>\n    </tr>\n    <tr>\n      <th>2020-08-15</th>\n      <td>96</td>\n      <td>113</td>\n      <td>695</td>\n      <td>153</td>\n      <td>162</td>\n      <td>97</td>\n      <td>158</td>\n      <td>127</td>\n      <td>120</td>\n      <td>76</td>\n    </tr>\n    <tr>\n      <th>2020-08-16</th>\n      <td>92</td>\n      <td>118</td>\n      <td>688</td>\n      <td>154</td>\n      <td>163</td>\n      <td>98</td>\n      <td>150</td>\n      <td>129</td>\n      <td>91</td>\n      <td>79</td>\n    </tr>\n    <tr>\n      <th>2020-08-17</th>\n      <td>95</td>\n      <td>114</td>\n      <td>690</td>\n      <td>153</td>\n      <td>159</td>\n      <td>96</td>\n      <td>141</td>\n      <td>132</td>\n      <td>102</td>\n      <td>69</td>\n    </tr>\n    <tr>\n      <th>2020-08-18</th>\n      <td>89</td>\n      <td>108</td>\n      <td>693</td>\n      <td>145</td>\n      <td>157</td>\n      <td>98</td>\n      <td>149</td>\n      <td>128</td>\n      <td>95</td>\n      <td>67</td>\n    </tr>\n  </tbody>\n</table>\n</div>"
     },
     "metadata": {},
     "execution_count": 142
    }
   ],
   "source": [
    "new_df1=box_cases1.unstack().T\n",
    "new_df1.tail(20)"
   ]
  },
  {
   "cell_type": "code",
   "execution_count": 185,
   "metadata": {},
   "outputs": [
    {
     "output_type": "display_data",
     "data": {
      "application/vnd.plotly.v1+json": {
       "config": {
        "plotlyServerURL": "https://plotly.com"
       },
       "data": [
        {
         "boxmean": true,
         "marker": {
          "color": "forestgreen"
         },
         "name": "Волгоградская обл.",
         "type": "box",
         "x": [
          95,
          91,
          102,
          97,
          96,
          92,
          95,
          89
         ]
        },
        {
         "boxmean": true,
         "marker": {
          "color": "darkblue"
         },
         "name": "Иркутская обл.",
         "type": "box",
         "x": [
          124,
          119,
          115,
          110,
          113,
          118,
          114,
          108
         ]
        },
        {
         "boxmean": true,
         "marker": {
          "color": "goldenrod"
         },
         "name": "Москва",
         "type": "box",
         "x": [
          694,
          689,
          692,
          688,
          695,
          688,
          690,
          693
         ]
        },
        {
         "boxmean": true,
         "marker": {
          "color": "magenta"
         },
         "name": "Московская обл.",
         "type": "box",
         "x": [
          154,
          152,
          148,
          156,
          153,
          154,
          153,
          145
         ]
        },
        {
         "boxmean": true,
         "marker": {
          "color": "hotpink"
         },
         "name": "Санкт-Петербург",
         "type": "box",
         "x": [
          157,
          161,
          160,
          159,
          162,
          163,
          159,
          157
         ]
        },
        {
         "boxmean": true,
         "marker": {
          "color": "grey"
         },
         "name": "Саратовская обл.",
         "type": "box",
         "x": [
          94,
          96,
          95,
          94,
          97,
          98,
          96,
          98
         ]
        },
        {
         "boxmean": true,
         "marker": {
          "color": "maroon"
         },
         "name": "Свердловская обл.",
         "type": "box",
         "x": [
          168,
          167,
          162,
          154,
          158,
          150,
          141,
          149
         ]
        },
        {
         "boxmean": true,
         "marker": {
          "color": "coral"
         },
         "name": "Ставропольский край",
         "type": "box",
         "x": [
          111,
          95,
          105,
          130,
          127,
          129,
          132,
          128
         ]
        },
        {
         "boxmean": true,
         "marker": {
          "color": "darkorange"
         },
         "name": "Ульяновская обл.",
         "type": "box",
         "x": [
          115,
          91,
          94,
          86,
          120,
          91,
          102,
          95
         ]
        },
        {
         "boxmean": true,
         "marker": {
          "color": "lightpink"
         },
         "name": "Челябинская обл.",
         "type": "box",
         "x": [
          85,
          88,
          84,
          80,
          76,
          79,
          69,
          67
         ]
        }
       ],
       "layout": {
        "height": 600,
        "template": {
         "data": {
          "bar": [
           {
            "error_x": {
             "color": "#2a3f5f"
            },
            "error_y": {
             "color": "#2a3f5f"
            },
            "marker": {
             "line": {
              "color": "#E5ECF6",
              "width": 0.5
             }
            },
            "type": "bar"
           }
          ],
          "barpolar": [
           {
            "marker": {
             "line": {
              "color": "#E5ECF6",
              "width": 0.5
             }
            },
            "type": "barpolar"
           }
          ],
          "carpet": [
           {
            "aaxis": {
             "endlinecolor": "#2a3f5f",
             "gridcolor": "white",
             "linecolor": "white",
             "minorgridcolor": "white",
             "startlinecolor": "#2a3f5f"
            },
            "baxis": {
             "endlinecolor": "#2a3f5f",
             "gridcolor": "white",
             "linecolor": "white",
             "minorgridcolor": "white",
             "startlinecolor": "#2a3f5f"
            },
            "type": "carpet"
           }
          ],
          "choropleth": [
           {
            "colorbar": {
             "outlinewidth": 0,
             "ticks": ""
            },
            "type": "choropleth"
           }
          ],
          "contour": [
           {
            "colorbar": {
             "outlinewidth": 0,
             "ticks": ""
            },
            "colorscale": [
             [
              0,
              "#0d0887"
             ],
             [
              0.1111111111111111,
              "#46039f"
             ],
             [
              0.2222222222222222,
              "#7201a8"
             ],
             [
              0.3333333333333333,
              "#9c179e"
             ],
             [
              0.4444444444444444,
              "#bd3786"
             ],
             [
              0.5555555555555556,
              "#d8576b"
             ],
             [
              0.6666666666666666,
              "#ed7953"
             ],
             [
              0.7777777777777778,
              "#fb9f3a"
             ],
             [
              0.8888888888888888,
              "#fdca26"
             ],
             [
              1,
              "#f0f921"
             ]
            ],
            "type": "contour"
           }
          ],
          "contourcarpet": [
           {
            "colorbar": {
             "outlinewidth": 0,
             "ticks": ""
            },
            "type": "contourcarpet"
           }
          ],
          "heatmap": [
           {
            "colorbar": {
             "outlinewidth": 0,
             "ticks": ""
            },
            "colorscale": [
             [
              0,
              "#0d0887"
             ],
             [
              0.1111111111111111,
              "#46039f"
             ],
             [
              0.2222222222222222,
              "#7201a8"
             ],
             [
              0.3333333333333333,
              "#9c179e"
             ],
             [
              0.4444444444444444,
              "#bd3786"
             ],
             [
              0.5555555555555556,
              "#d8576b"
             ],
             [
              0.6666666666666666,
              "#ed7953"
             ],
             [
              0.7777777777777778,
              "#fb9f3a"
             ],
             [
              0.8888888888888888,
              "#fdca26"
             ],
             [
              1,
              "#f0f921"
             ]
            ],
            "type": "heatmap"
           }
          ],
          "heatmapgl": [
           {
            "colorbar": {
             "outlinewidth": 0,
             "ticks": ""
            },
            "colorscale": [
             [
              0,
              "#0d0887"
             ],
             [
              0.1111111111111111,
              "#46039f"
             ],
             [
              0.2222222222222222,
              "#7201a8"
             ],
             [
              0.3333333333333333,
              "#9c179e"
             ],
             [
              0.4444444444444444,
              "#bd3786"
             ],
             [
              0.5555555555555556,
              "#d8576b"
             ],
             [
              0.6666666666666666,
              "#ed7953"
             ],
             [
              0.7777777777777778,
              "#fb9f3a"
             ],
             [
              0.8888888888888888,
              "#fdca26"
             ],
             [
              1,
              "#f0f921"
             ]
            ],
            "type": "heatmapgl"
           }
          ],
          "histogram": [
           {
            "marker": {
             "colorbar": {
              "outlinewidth": 0,
              "ticks": ""
             }
            },
            "type": "histogram"
           }
          ],
          "histogram2d": [
           {
            "colorbar": {
             "outlinewidth": 0,
             "ticks": ""
            },
            "colorscale": [
             [
              0,
              "#0d0887"
             ],
             [
              0.1111111111111111,
              "#46039f"
             ],
             [
              0.2222222222222222,
              "#7201a8"
             ],
             [
              0.3333333333333333,
              "#9c179e"
             ],
             [
              0.4444444444444444,
              "#bd3786"
             ],
             [
              0.5555555555555556,
              "#d8576b"
             ],
             [
              0.6666666666666666,
              "#ed7953"
             ],
             [
              0.7777777777777778,
              "#fb9f3a"
             ],
             [
              0.8888888888888888,
              "#fdca26"
             ],
             [
              1,
              "#f0f921"
             ]
            ],
            "type": "histogram2d"
           }
          ],
          "histogram2dcontour": [
           {
            "colorbar": {
             "outlinewidth": 0,
             "ticks": ""
            },
            "colorscale": [
             [
              0,
              "#0d0887"
             ],
             [
              0.1111111111111111,
              "#46039f"
             ],
             [
              0.2222222222222222,
              "#7201a8"
             ],
             [
              0.3333333333333333,
              "#9c179e"
             ],
             [
              0.4444444444444444,
              "#bd3786"
             ],
             [
              0.5555555555555556,
              "#d8576b"
             ],
             [
              0.6666666666666666,
              "#ed7953"
             ],
             [
              0.7777777777777778,
              "#fb9f3a"
             ],
             [
              0.8888888888888888,
              "#fdca26"
             ],
             [
              1,
              "#f0f921"
             ]
            ],
            "type": "histogram2dcontour"
           }
          ],
          "mesh3d": [
           {
            "colorbar": {
             "outlinewidth": 0,
             "ticks": ""
            },
            "type": "mesh3d"
           }
          ],
          "parcoords": [
           {
            "line": {
             "colorbar": {
              "outlinewidth": 0,
              "ticks": ""
             }
            },
            "type": "parcoords"
           }
          ],
          "pie": [
           {
            "automargin": true,
            "type": "pie"
           }
          ],
          "scatter": [
           {
            "marker": {
             "colorbar": {
              "outlinewidth": 0,
              "ticks": ""
             }
            },
            "type": "scatter"
           }
          ],
          "scatter3d": [
           {
            "line": {
             "colorbar": {
              "outlinewidth": 0,
              "ticks": ""
             }
            },
            "marker": {
             "colorbar": {
              "outlinewidth": 0,
              "ticks": ""
             }
            },
            "type": "scatter3d"
           }
          ],
          "scattercarpet": [
           {
            "marker": {
             "colorbar": {
              "outlinewidth": 0,
              "ticks": ""
             }
            },
            "type": "scattercarpet"
           }
          ],
          "scattergeo": [
           {
            "marker": {
             "colorbar": {
              "outlinewidth": 0,
              "ticks": ""
             }
            },
            "type": "scattergeo"
           }
          ],
          "scattergl": [
           {
            "marker": {
             "colorbar": {
              "outlinewidth": 0,
              "ticks": ""
             }
            },
            "type": "scattergl"
           }
          ],
          "scattermapbox": [
           {
            "marker": {
             "colorbar": {
              "outlinewidth": 0,
              "ticks": ""
             }
            },
            "type": "scattermapbox"
           }
          ],
          "scatterpolar": [
           {
            "marker": {
             "colorbar": {
              "outlinewidth": 0,
              "ticks": ""
             }
            },
            "type": "scatterpolar"
           }
          ],
          "scatterpolargl": [
           {
            "marker": {
             "colorbar": {
              "outlinewidth": 0,
              "ticks": ""
             }
            },
            "type": "scatterpolargl"
           }
          ],
          "scatterternary": [
           {
            "marker": {
             "colorbar": {
              "outlinewidth": 0,
              "ticks": ""
             }
            },
            "type": "scatterternary"
           }
          ],
          "surface": [
           {
            "colorbar": {
             "outlinewidth": 0,
             "ticks": ""
            },
            "colorscale": [
             [
              0,
              "#0d0887"
             ],
             [
              0.1111111111111111,
              "#46039f"
             ],
             [
              0.2222222222222222,
              "#7201a8"
             ],
             [
              0.3333333333333333,
              "#9c179e"
             ],
             [
              0.4444444444444444,
              "#bd3786"
             ],
             [
              0.5555555555555556,
              "#d8576b"
             ],
             [
              0.6666666666666666,
              "#ed7953"
             ],
             [
              0.7777777777777778,
              "#fb9f3a"
             ],
             [
              0.8888888888888888,
              "#fdca26"
             ],
             [
              1,
              "#f0f921"
             ]
            ],
            "type": "surface"
           }
          ],
          "table": [
           {
            "cells": {
             "fill": {
              "color": "#EBF0F8"
             },
             "line": {
              "color": "white"
             }
            },
            "header": {
             "fill": {
              "color": "#C8D4E3"
             },
             "line": {
              "color": "white"
             }
            },
            "type": "table"
           }
          ]
         },
         "layout": {
          "annotationdefaults": {
           "arrowcolor": "#2a3f5f",
           "arrowhead": 0,
           "arrowwidth": 1
          },
          "coloraxis": {
           "colorbar": {
            "outlinewidth": 0,
            "ticks": ""
           }
          },
          "colorscale": {
           "diverging": [
            [
             0,
             "#8e0152"
            ],
            [
             0.1,
             "#c51b7d"
            ],
            [
             0.2,
             "#de77ae"
            ],
            [
             0.3,
             "#f1b6da"
            ],
            [
             0.4,
             "#fde0ef"
            ],
            [
             0.5,
             "#f7f7f7"
            ],
            [
             0.6,
             "#e6f5d0"
            ],
            [
             0.7,
             "#b8e186"
            ],
            [
             0.8,
             "#7fbc41"
            ],
            [
             0.9,
             "#4d9221"
            ],
            [
             1,
             "#276419"
            ]
           ],
           "sequential": [
            [
             0,
             "#0d0887"
            ],
            [
             0.1111111111111111,
             "#46039f"
            ],
            [
             0.2222222222222222,
             "#7201a8"
            ],
            [
             0.3333333333333333,
             "#9c179e"
            ],
            [
             0.4444444444444444,
             "#bd3786"
            ],
            [
             0.5555555555555556,
             "#d8576b"
            ],
            [
             0.6666666666666666,
             "#ed7953"
            ],
            [
             0.7777777777777778,
             "#fb9f3a"
            ],
            [
             0.8888888888888888,
             "#fdca26"
            ],
            [
             1,
             "#f0f921"
            ]
           ],
           "sequentialminus": [
            [
             0,
             "#0d0887"
            ],
            [
             0.1111111111111111,
             "#46039f"
            ],
            [
             0.2222222222222222,
             "#7201a8"
            ],
            [
             0.3333333333333333,
             "#9c179e"
            ],
            [
             0.4444444444444444,
             "#bd3786"
            ],
            [
             0.5555555555555556,
             "#d8576b"
            ],
            [
             0.6666666666666666,
             "#ed7953"
            ],
            [
             0.7777777777777778,
             "#fb9f3a"
            ],
            [
             0.8888888888888888,
             "#fdca26"
            ],
            [
             1,
             "#f0f921"
            ]
           ]
          },
          "colorway": [
           "#636efa",
           "#EF553B",
           "#00cc96",
           "#ab63fa",
           "#FFA15A",
           "#19d3f3",
           "#FF6692",
           "#B6E880",
           "#FF97FF",
           "#FECB52"
          ],
          "font": {
           "color": "#2a3f5f"
          },
          "geo": {
           "bgcolor": "white",
           "lakecolor": "white",
           "landcolor": "#E5ECF6",
           "showlakes": true,
           "showland": true,
           "subunitcolor": "white"
          },
          "hoverlabel": {
           "align": "left"
          },
          "hovermode": "closest",
          "mapbox": {
           "style": "light"
          },
          "paper_bgcolor": "white",
          "plot_bgcolor": "#E5ECF6",
          "polar": {
           "angularaxis": {
            "gridcolor": "white",
            "linecolor": "white",
            "ticks": ""
           },
           "bgcolor": "#E5ECF6",
           "radialaxis": {
            "gridcolor": "white",
            "linecolor": "white",
            "ticks": ""
           }
          },
          "scene": {
           "xaxis": {
            "backgroundcolor": "#E5ECF6",
            "gridcolor": "white",
            "gridwidth": 2,
            "linecolor": "white",
            "showbackground": true,
            "ticks": "",
            "zerolinecolor": "white"
           },
           "yaxis": {
            "backgroundcolor": "#E5ECF6",
            "gridcolor": "white",
            "gridwidth": 2,
            "linecolor": "white",
            "showbackground": true,
            "ticks": "",
            "zerolinecolor": "white"
           },
           "zaxis": {
            "backgroundcolor": "#E5ECF6",
            "gridcolor": "white",
            "gridwidth": 2,
            "linecolor": "white",
            "showbackground": true,
            "ticks": "",
            "zerolinecolor": "white"
           }
          },
          "shapedefaults": {
           "line": {
            "color": "#2a3f5f"
           }
          },
          "ternary": {
           "aaxis": {
            "gridcolor": "white",
            "linecolor": "white",
            "ticks": ""
           },
           "baxis": {
            "gridcolor": "white",
            "linecolor": "white",
            "ticks": ""
           },
           "bgcolor": "#E5ECF6",
           "caxis": {
            "gridcolor": "white",
            "linecolor": "white",
            "ticks": ""
           }
          },
          "title": {
           "x": 0.05
          },
          "xaxis": {
           "automargin": true,
           "gridcolor": "white",
           "linecolor": "white",
           "ticks": "",
           "title": {
            "standoff": 15
           },
           "zerolinecolor": "white",
           "zerolinewidth": 2
          },
          "yaxis": {
           "automargin": true,
           "gridcolor": "white",
           "linecolor": "white",
           "ticks": "",
           "title": {
            "standoff": 15
           },
           "zerolinecolor": "white",
           "zerolinewidth": 2
          }
         }
        },
        "title": {
         "text": "Статистика по новым заболевшим за последнюю неделю",
         "x": 0.5,
         "xanchor": "center",
         "y": 0.9,
         "yanchor": "top"
        },
        "width": 990,
        "xaxis": {
         "title": {
          "text": "Новые заболевшие"
         }
        },
        "yaxis": {
         "title": {
          "text": "Регионы"
         }
        }
       }
      }
     },
     "metadata": {}
    }
   ],
   "source": [
    "\n",
    "cols = list(new_df1.columns)\n",
    "color_dict=dict(zip(cols,['forestgreen','darkblue','goldenrod','magenta','hotpink','grey','maroon','coral','darkorange','lightpink']))\n",
    "#cols = cols[:-1]\n",
    "\n",
    "fig = go.Figure()\n",
    "for i in cols:\n",
    "    fig.add_trace(\n",
    "    go.Box(x=new_df1[i],name = i,boxmean = True,marker_color = color_dict.get(i)))\n",
    "\n",
    "fig.update_layout(title_text=\"Статистика по новым заболевшим за последнюю неделю\",\n",
    "                  title_x = 0.5,\n",
    "                  title_y= 0.9,\n",
    "                  title_xanchor = \"center\",\n",
    "                  title_yanchor = \"top\",\n",
    "                  xaxis_title='Новые заболевшие', yaxis_title='Регионы',width = 990, height = 600)\n",
    "fig.show()"
   ]
  },
  {
   "cell_type": "code",
   "execution_count": 186,
   "metadata": {},
   "outputs": [
    {
     "output_type": "execute_result",
     "data": {
      "text/plain": "Region      Волгоградская обл.  Иркутская обл.  Москва  Московская обл.  \\\nDate                                                                      \n2020-08-11                 135             194    1043              160   \n2020-08-12                  87             210    1088              215   \n2020-08-13                  91             182     787              150   \n2020-08-14                  68             146    1350              159   \n2020-08-15                  97             109    1275              156   \n2020-08-16                  16              16    1045              138   \n2020-08-17                  12              37     819              148   \n2020-08-18                 135             226    1155              118   \n\nRegion      Санкт-Петербург  Саратовская обл.  Свердловская обл.  \\\nDate                                                               \n2020-08-11               78                62                 82   \n2020-08-12               93               120                 83   \n2020-08-13               96                93                 78   \n2020-08-14               72                81                 75   \n2020-08-15               76                60                 77   \n2020-08-16               53                19                 76   \n2020-08-17               69                17                 71   \n2020-08-18               83               158                 74   \n\nRegion      Ставропольский край  Ульяновская обл.  Челябинская обл.  \nDate                                                                 \n2020-08-11                   57                95                 8  \n2020-08-12                  162               114               128  \n2020-08-13                   79                73               102  \n2020-08-14                   59               126               105  \n2020-08-15                   69                89                98  \n2020-08-16                   22                23               104  \n2020-08-17                   28                15                 3  \n2020-08-18                   64                97               127  ",
      "text/html": "<div>\n<style scoped>\n    .dataframe tbody tr th:only-of-type {\n        vertical-align: middle;\n    }\n\n    .dataframe tbody tr th {\n        vertical-align: top;\n    }\n\n    .dataframe thead th {\n        text-align: right;\n    }\n</style>\n<table border=\"1\" class=\"dataframe\">\n  <thead>\n    <tr style=\"text-align: right;\">\n      <th>Region</th>\n      <th>Волгоградская обл.</th>\n      <th>Иркутская обл.</th>\n      <th>Москва</th>\n      <th>Московская обл.</th>\n      <th>Санкт-Петербург</th>\n      <th>Саратовская обл.</th>\n      <th>Свердловская обл.</th>\n      <th>Ставропольский край</th>\n      <th>Ульяновская обл.</th>\n      <th>Челябинская обл.</th>\n    </tr>\n    <tr>\n      <th>Date</th>\n      <th></th>\n      <th></th>\n      <th></th>\n      <th></th>\n      <th></th>\n      <th></th>\n      <th></th>\n      <th></th>\n      <th></th>\n      <th></th>\n    </tr>\n  </thead>\n  <tbody>\n    <tr>\n      <th>2020-08-11</th>\n      <td>135</td>\n      <td>194</td>\n      <td>1043</td>\n      <td>160</td>\n      <td>78</td>\n      <td>62</td>\n      <td>82</td>\n      <td>57</td>\n      <td>95</td>\n      <td>8</td>\n    </tr>\n    <tr>\n      <th>2020-08-12</th>\n      <td>87</td>\n      <td>210</td>\n      <td>1088</td>\n      <td>215</td>\n      <td>93</td>\n      <td>120</td>\n      <td>83</td>\n      <td>162</td>\n      <td>114</td>\n      <td>128</td>\n    </tr>\n    <tr>\n      <th>2020-08-13</th>\n      <td>91</td>\n      <td>182</td>\n      <td>787</td>\n      <td>150</td>\n      <td>96</td>\n      <td>93</td>\n      <td>78</td>\n      <td>79</td>\n      <td>73</td>\n      <td>102</td>\n    </tr>\n    <tr>\n      <th>2020-08-14</th>\n      <td>68</td>\n      <td>146</td>\n      <td>1350</td>\n      <td>159</td>\n      <td>72</td>\n      <td>81</td>\n      <td>75</td>\n      <td>59</td>\n      <td>126</td>\n      <td>105</td>\n    </tr>\n    <tr>\n      <th>2020-08-15</th>\n      <td>97</td>\n      <td>109</td>\n      <td>1275</td>\n      <td>156</td>\n      <td>76</td>\n      <td>60</td>\n      <td>77</td>\n      <td>69</td>\n      <td>89</td>\n      <td>98</td>\n    </tr>\n    <tr>\n      <th>2020-08-16</th>\n      <td>16</td>\n      <td>16</td>\n      <td>1045</td>\n      <td>138</td>\n      <td>53</td>\n      <td>19</td>\n      <td>76</td>\n      <td>22</td>\n      <td>23</td>\n      <td>104</td>\n    </tr>\n    <tr>\n      <th>2020-08-17</th>\n      <td>12</td>\n      <td>37</td>\n      <td>819</td>\n      <td>148</td>\n      <td>69</td>\n      <td>17</td>\n      <td>71</td>\n      <td>28</td>\n      <td>15</td>\n      <td>3</td>\n    </tr>\n    <tr>\n      <th>2020-08-18</th>\n      <td>135</td>\n      <td>226</td>\n      <td>1155</td>\n      <td>118</td>\n      <td>83</td>\n      <td>158</td>\n      <td>74</td>\n      <td>64</td>\n      <td>97</td>\n      <td>127</td>\n    </tr>\n  </tbody>\n</table>\n</div>"
     },
     "metadata": {},
     "execution_count": 186
    }
   ],
   "source": [
    "new_df2=box_cases2.unstack().T\n",
    "new_df2.tail(20)"
   ]
  },
  {
   "cell_type": "code",
   "execution_count": 187,
   "metadata": {},
   "outputs": [
    {
     "output_type": "display_data",
     "data": {
      "application/vnd.plotly.v1+json": {
       "config": {
        "plotlyServerURL": "https://plotly.com"
       },
       "data": [
        {
         "boxmean": true,
         "marker": {
          "color": "forestgreen"
         },
         "name": "Волгоградская обл.",
         "type": "box",
         "x": [
          135,
          87,
          91,
          68,
          97,
          16,
          12,
          135
         ]
        },
        {
         "boxmean": true,
         "marker": {
          "color": "darkblue"
         },
         "name": "Иркутская обл.",
         "type": "box",
         "x": [
          194,
          210,
          182,
          146,
          109,
          16,
          37,
          226
         ]
        },
        {
         "boxmean": true,
         "marker": {
          "color": "goldenrod"
         },
         "name": "Москва",
         "type": "box",
         "x": [
          1043,
          1088,
          787,
          1350,
          1275,
          1045,
          819,
          1155
         ]
        },
        {
         "boxmean": true,
         "marker": {
          "color": "magenta"
         },
         "name": "Московская обл.",
         "type": "box",
         "x": [
          160,
          215,
          150,
          159,
          156,
          138,
          148,
          118
         ]
        },
        {
         "boxmean": true,
         "marker": {
          "color": "hotpink"
         },
         "name": "Санкт-Петербург",
         "type": "box",
         "x": [
          78,
          93,
          96,
          72,
          76,
          53,
          69,
          83
         ]
        },
        {
         "boxmean": true,
         "marker": {
          "color": "grey"
         },
         "name": "Саратовская обл.",
         "type": "box",
         "x": [
          62,
          120,
          93,
          81,
          60,
          19,
          17,
          158
         ]
        },
        {
         "boxmean": true,
         "marker": {
          "color": "maroon"
         },
         "name": "Свердловская обл.",
         "type": "box",
         "x": [
          82,
          83,
          78,
          75,
          77,
          76,
          71,
          74
         ]
        },
        {
         "boxmean": true,
         "marker": {
          "color": "coral"
         },
         "name": "Ставропольский край",
         "type": "box",
         "x": [
          57,
          162,
          79,
          59,
          69,
          22,
          28,
          64
         ]
        },
        {
         "boxmean": true,
         "marker": {
          "color": "darkorange"
         },
         "name": "Ульяновская обл.",
         "type": "box",
         "x": [
          95,
          114,
          73,
          126,
          89,
          23,
          15,
          97
         ]
        },
        {
         "boxmean": true,
         "marker": {
          "color": "lightpink"
         },
         "name": "Челябинская обл.",
         "type": "box",
         "x": [
          8,
          128,
          102,
          105,
          98,
          104,
          3,
          127
         ]
        }
       ],
       "layout": {
        "height": 600,
        "template": {
         "data": {
          "bar": [
           {
            "error_x": {
             "color": "#2a3f5f"
            },
            "error_y": {
             "color": "#2a3f5f"
            },
            "marker": {
             "line": {
              "color": "#E5ECF6",
              "width": 0.5
             }
            },
            "type": "bar"
           }
          ],
          "barpolar": [
           {
            "marker": {
             "line": {
              "color": "#E5ECF6",
              "width": 0.5
             }
            },
            "type": "barpolar"
           }
          ],
          "carpet": [
           {
            "aaxis": {
             "endlinecolor": "#2a3f5f",
             "gridcolor": "white",
             "linecolor": "white",
             "minorgridcolor": "white",
             "startlinecolor": "#2a3f5f"
            },
            "baxis": {
             "endlinecolor": "#2a3f5f",
             "gridcolor": "white",
             "linecolor": "white",
             "minorgridcolor": "white",
             "startlinecolor": "#2a3f5f"
            },
            "type": "carpet"
           }
          ],
          "choropleth": [
           {
            "colorbar": {
             "outlinewidth": 0,
             "ticks": ""
            },
            "type": "choropleth"
           }
          ],
          "contour": [
           {
            "colorbar": {
             "outlinewidth": 0,
             "ticks": ""
            },
            "colorscale": [
             [
              0,
              "#0d0887"
             ],
             [
              0.1111111111111111,
              "#46039f"
             ],
             [
              0.2222222222222222,
              "#7201a8"
             ],
             [
              0.3333333333333333,
              "#9c179e"
             ],
             [
              0.4444444444444444,
              "#bd3786"
             ],
             [
              0.5555555555555556,
              "#d8576b"
             ],
             [
              0.6666666666666666,
              "#ed7953"
             ],
             [
              0.7777777777777778,
              "#fb9f3a"
             ],
             [
              0.8888888888888888,
              "#fdca26"
             ],
             [
              1,
              "#f0f921"
             ]
            ],
            "type": "contour"
           }
          ],
          "contourcarpet": [
           {
            "colorbar": {
             "outlinewidth": 0,
             "ticks": ""
            },
            "type": "contourcarpet"
           }
          ],
          "heatmap": [
           {
            "colorbar": {
             "outlinewidth": 0,
             "ticks": ""
            },
            "colorscale": [
             [
              0,
              "#0d0887"
             ],
             [
              0.1111111111111111,
              "#46039f"
             ],
             [
              0.2222222222222222,
              "#7201a8"
             ],
             [
              0.3333333333333333,
              "#9c179e"
             ],
             [
              0.4444444444444444,
              "#bd3786"
             ],
             [
              0.5555555555555556,
              "#d8576b"
             ],
             [
              0.6666666666666666,
              "#ed7953"
             ],
             [
              0.7777777777777778,
              "#fb9f3a"
             ],
             [
              0.8888888888888888,
              "#fdca26"
             ],
             [
              1,
              "#f0f921"
             ]
            ],
            "type": "heatmap"
           }
          ],
          "heatmapgl": [
           {
            "colorbar": {
             "outlinewidth": 0,
             "ticks": ""
            },
            "colorscale": [
             [
              0,
              "#0d0887"
             ],
             [
              0.1111111111111111,
              "#46039f"
             ],
             [
              0.2222222222222222,
              "#7201a8"
             ],
             [
              0.3333333333333333,
              "#9c179e"
             ],
             [
              0.4444444444444444,
              "#bd3786"
             ],
             [
              0.5555555555555556,
              "#d8576b"
             ],
             [
              0.6666666666666666,
              "#ed7953"
             ],
             [
              0.7777777777777778,
              "#fb9f3a"
             ],
             [
              0.8888888888888888,
              "#fdca26"
             ],
             [
              1,
              "#f0f921"
             ]
            ],
            "type": "heatmapgl"
           }
          ],
          "histogram": [
           {
            "marker": {
             "colorbar": {
              "outlinewidth": 0,
              "ticks": ""
             }
            },
            "type": "histogram"
           }
          ],
          "histogram2d": [
           {
            "colorbar": {
             "outlinewidth": 0,
             "ticks": ""
            },
            "colorscale": [
             [
              0,
              "#0d0887"
             ],
             [
              0.1111111111111111,
              "#46039f"
             ],
             [
              0.2222222222222222,
              "#7201a8"
             ],
             [
              0.3333333333333333,
              "#9c179e"
             ],
             [
              0.4444444444444444,
              "#bd3786"
             ],
             [
              0.5555555555555556,
              "#d8576b"
             ],
             [
              0.6666666666666666,
              "#ed7953"
             ],
             [
              0.7777777777777778,
              "#fb9f3a"
             ],
             [
              0.8888888888888888,
              "#fdca26"
             ],
             [
              1,
              "#f0f921"
             ]
            ],
            "type": "histogram2d"
           }
          ],
          "histogram2dcontour": [
           {
            "colorbar": {
             "outlinewidth": 0,
             "ticks": ""
            },
            "colorscale": [
             [
              0,
              "#0d0887"
             ],
             [
              0.1111111111111111,
              "#46039f"
             ],
             [
              0.2222222222222222,
              "#7201a8"
             ],
             [
              0.3333333333333333,
              "#9c179e"
             ],
             [
              0.4444444444444444,
              "#bd3786"
             ],
             [
              0.5555555555555556,
              "#d8576b"
             ],
             [
              0.6666666666666666,
              "#ed7953"
             ],
             [
              0.7777777777777778,
              "#fb9f3a"
             ],
             [
              0.8888888888888888,
              "#fdca26"
             ],
             [
              1,
              "#f0f921"
             ]
            ],
            "type": "histogram2dcontour"
           }
          ],
          "mesh3d": [
           {
            "colorbar": {
             "outlinewidth": 0,
             "ticks": ""
            },
            "type": "mesh3d"
           }
          ],
          "parcoords": [
           {
            "line": {
             "colorbar": {
              "outlinewidth": 0,
              "ticks": ""
             }
            },
            "type": "parcoords"
           }
          ],
          "pie": [
           {
            "automargin": true,
            "type": "pie"
           }
          ],
          "scatter": [
           {
            "marker": {
             "colorbar": {
              "outlinewidth": 0,
              "ticks": ""
             }
            },
            "type": "scatter"
           }
          ],
          "scatter3d": [
           {
            "line": {
             "colorbar": {
              "outlinewidth": 0,
              "ticks": ""
             }
            },
            "marker": {
             "colorbar": {
              "outlinewidth": 0,
              "ticks": ""
             }
            },
            "type": "scatter3d"
           }
          ],
          "scattercarpet": [
           {
            "marker": {
             "colorbar": {
              "outlinewidth": 0,
              "ticks": ""
             }
            },
            "type": "scattercarpet"
           }
          ],
          "scattergeo": [
           {
            "marker": {
             "colorbar": {
              "outlinewidth": 0,
              "ticks": ""
             }
            },
            "type": "scattergeo"
           }
          ],
          "scattergl": [
           {
            "marker": {
             "colorbar": {
              "outlinewidth": 0,
              "ticks": ""
             }
            },
            "type": "scattergl"
           }
          ],
          "scattermapbox": [
           {
            "marker": {
             "colorbar": {
              "outlinewidth": 0,
              "ticks": ""
             }
            },
            "type": "scattermapbox"
           }
          ],
          "scatterpolar": [
           {
            "marker": {
             "colorbar": {
              "outlinewidth": 0,
              "ticks": ""
             }
            },
            "type": "scatterpolar"
           }
          ],
          "scatterpolargl": [
           {
            "marker": {
             "colorbar": {
              "outlinewidth": 0,
              "ticks": ""
             }
            },
            "type": "scatterpolargl"
           }
          ],
          "scatterternary": [
           {
            "marker": {
             "colorbar": {
              "outlinewidth": 0,
              "ticks": ""
             }
            },
            "type": "scatterternary"
           }
          ],
          "surface": [
           {
            "colorbar": {
             "outlinewidth": 0,
             "ticks": ""
            },
            "colorscale": [
             [
              0,
              "#0d0887"
             ],
             [
              0.1111111111111111,
              "#46039f"
             ],
             [
              0.2222222222222222,
              "#7201a8"
             ],
             [
              0.3333333333333333,
              "#9c179e"
             ],
             [
              0.4444444444444444,
              "#bd3786"
             ],
             [
              0.5555555555555556,
              "#d8576b"
             ],
             [
              0.6666666666666666,
              "#ed7953"
             ],
             [
              0.7777777777777778,
              "#fb9f3a"
             ],
             [
              0.8888888888888888,
              "#fdca26"
             ],
             [
              1,
              "#f0f921"
             ]
            ],
            "type": "surface"
           }
          ],
          "table": [
           {
            "cells": {
             "fill": {
              "color": "#EBF0F8"
             },
             "line": {
              "color": "white"
             }
            },
            "header": {
             "fill": {
              "color": "#C8D4E3"
             },
             "line": {
              "color": "white"
             }
            },
            "type": "table"
           }
          ]
         },
         "layout": {
          "annotationdefaults": {
           "arrowcolor": "#2a3f5f",
           "arrowhead": 0,
           "arrowwidth": 1
          },
          "coloraxis": {
           "colorbar": {
            "outlinewidth": 0,
            "ticks": ""
           }
          },
          "colorscale": {
           "diverging": [
            [
             0,
             "#8e0152"
            ],
            [
             0.1,
             "#c51b7d"
            ],
            [
             0.2,
             "#de77ae"
            ],
            [
             0.3,
             "#f1b6da"
            ],
            [
             0.4,
             "#fde0ef"
            ],
            [
             0.5,
             "#f7f7f7"
            ],
            [
             0.6,
             "#e6f5d0"
            ],
            [
             0.7,
             "#b8e186"
            ],
            [
             0.8,
             "#7fbc41"
            ],
            [
             0.9,
             "#4d9221"
            ],
            [
             1,
             "#276419"
            ]
           ],
           "sequential": [
            [
             0,
             "#0d0887"
            ],
            [
             0.1111111111111111,
             "#46039f"
            ],
            [
             0.2222222222222222,
             "#7201a8"
            ],
            [
             0.3333333333333333,
             "#9c179e"
            ],
            [
             0.4444444444444444,
             "#bd3786"
            ],
            [
             0.5555555555555556,
             "#d8576b"
            ],
            [
             0.6666666666666666,
             "#ed7953"
            ],
            [
             0.7777777777777778,
             "#fb9f3a"
            ],
            [
             0.8888888888888888,
             "#fdca26"
            ],
            [
             1,
             "#f0f921"
            ]
           ],
           "sequentialminus": [
            [
             0,
             "#0d0887"
            ],
            [
             0.1111111111111111,
             "#46039f"
            ],
            [
             0.2222222222222222,
             "#7201a8"
            ],
            [
             0.3333333333333333,
             "#9c179e"
            ],
            [
             0.4444444444444444,
             "#bd3786"
            ],
            [
             0.5555555555555556,
             "#d8576b"
            ],
            [
             0.6666666666666666,
             "#ed7953"
            ],
            [
             0.7777777777777778,
             "#fb9f3a"
            ],
            [
             0.8888888888888888,
             "#fdca26"
            ],
            [
             1,
             "#f0f921"
            ]
           ]
          },
          "colorway": [
           "#636efa",
           "#EF553B",
           "#00cc96",
           "#ab63fa",
           "#FFA15A",
           "#19d3f3",
           "#FF6692",
           "#B6E880",
           "#FF97FF",
           "#FECB52"
          ],
          "font": {
           "color": "#2a3f5f"
          },
          "geo": {
           "bgcolor": "white",
           "lakecolor": "white",
           "landcolor": "#E5ECF6",
           "showlakes": true,
           "showland": true,
           "subunitcolor": "white"
          },
          "hoverlabel": {
           "align": "left"
          },
          "hovermode": "closest",
          "mapbox": {
           "style": "light"
          },
          "paper_bgcolor": "white",
          "plot_bgcolor": "#E5ECF6",
          "polar": {
           "angularaxis": {
            "gridcolor": "white",
            "linecolor": "white",
            "ticks": ""
           },
           "bgcolor": "#E5ECF6",
           "radialaxis": {
            "gridcolor": "white",
            "linecolor": "white",
            "ticks": ""
           }
          },
          "scene": {
           "xaxis": {
            "backgroundcolor": "#E5ECF6",
            "gridcolor": "white",
            "gridwidth": 2,
            "linecolor": "white",
            "showbackground": true,
            "ticks": "",
            "zerolinecolor": "white"
           },
           "yaxis": {
            "backgroundcolor": "#E5ECF6",
            "gridcolor": "white",
            "gridwidth": 2,
            "linecolor": "white",
            "showbackground": true,
            "ticks": "",
            "zerolinecolor": "white"
           },
           "zaxis": {
            "backgroundcolor": "#E5ECF6",
            "gridcolor": "white",
            "gridwidth": 2,
            "linecolor": "white",
            "showbackground": true,
            "ticks": "",
            "zerolinecolor": "white"
           }
          },
          "shapedefaults": {
           "line": {
            "color": "#2a3f5f"
           }
          },
          "ternary": {
           "aaxis": {
            "gridcolor": "white",
            "linecolor": "white",
            "ticks": ""
           },
           "baxis": {
            "gridcolor": "white",
            "linecolor": "white",
            "ticks": ""
           },
           "bgcolor": "#E5ECF6",
           "caxis": {
            "gridcolor": "white",
            "linecolor": "white",
            "ticks": ""
           }
          },
          "title": {
           "x": 0.05
          },
          "xaxis": {
           "automargin": true,
           "gridcolor": "white",
           "linecolor": "white",
           "ticks": "",
           "title": {
            "standoff": 15
           },
           "zerolinecolor": "white",
           "zerolinewidth": 2
          },
          "yaxis": {
           "automargin": true,
           "gridcolor": "white",
           "linecolor": "white",
           "ticks": "",
           "title": {
            "standoff": 15
           },
           "zerolinecolor": "white",
           "zerolinewidth": 2
          }
         }
        },
        "title": {
         "text": "Статистика по выздоровевшим за последнюю неделю",
         "x": 0.5,
         "xanchor": "center",
         "y": 0.9,
         "yanchor": "top"
        },
        "width": 990,
        "xaxis": {
         "title": {
          "text": "Выздоровевшие"
         }
        },
        "yaxis": {
         "title": {
          "text": "Регионы"
         }
        }
       }
      }
     },
     "metadata": {}
    }
   ],
   "source": [
    "\n",
    "cols = list(new_df2.columns)\n",
    "#cols = cols[:-1]\n",
    "\n",
    "fig = go.Figure()\n",
    "for i in cols:\n",
    "    fig.add_trace(\n",
    "    go.Box(x=new_df2[i],name = i,boxmean=True,marker_color = color_dict.get(i)))\n",
    "\n",
    "fig.update_layout(title_text=\"Статистика по выздоровевшим за последнюю неделю\",\n",
    "                  title_x = 0.5,\n",
    "                  title_y= 0.9,\n",
    "                  title_xanchor = \"center\",\n",
    "                  title_yanchor = \"top\",\n",
    "                  xaxis_title='Выздоровевшие', yaxis_title='Регионы',width = 990, height = 600)\n",
    "fig.show()"
   ]
  },
  {
   "cell_type": "code",
   "execution_count": 188,
   "metadata": {},
   "outputs": [
    {
     "output_type": "display_data",
     "data": {
      "application/vnd.plotly.v1+json": {
       "config": {
        "plotlyServerURL": "https://plotly.com"
       },
       "data": [
        {
         "boxmean": true,
         "marker": {
          "color": "forestgreen"
         },
         "name": "Волгоградская обл.",
         "type": "box",
         "x": [
          95,
          91,
          102,
          97,
          96,
          92,
          95,
          89
         ],
         "xaxis": "x",
         "yaxis": "y"
        },
        {
         "boxmean": true,
         "marker": {
          "color": "darkblue"
         },
         "name": "Иркутская обл.",
         "type": "box",
         "x": [
          124,
          119,
          115,
          110,
          113,
          118,
          114,
          108
         ],
         "xaxis": "x",
         "yaxis": "y"
        },
        {
         "boxmean": true,
         "marker": {
          "color": "goldenrod"
         },
         "name": "Москва",
         "type": "box",
         "x": [
          694,
          689,
          692,
          688,
          695,
          688,
          690,
          693
         ],
         "xaxis": "x",
         "yaxis": "y"
        },
        {
         "boxmean": true,
         "marker": {
          "color": "magenta"
         },
         "name": "Московская обл.",
         "type": "box",
         "x": [
          154,
          152,
          148,
          156,
          153,
          154,
          153,
          145
         ],
         "xaxis": "x",
         "yaxis": "y"
        },
        {
         "boxmean": true,
         "marker": {
          "color": "hotpink"
         },
         "name": "Санкт-Петербург",
         "type": "box",
         "x": [
          157,
          161,
          160,
          159,
          162,
          163,
          159,
          157
         ],
         "xaxis": "x",
         "yaxis": "y"
        },
        {
         "boxmean": true,
         "marker": {
          "color": "grey"
         },
         "name": "Саратовская обл.",
         "type": "box",
         "x": [
          94,
          96,
          95,
          94,
          97,
          98,
          96,
          98
         ],
         "xaxis": "x",
         "yaxis": "y"
        },
        {
         "boxmean": true,
         "marker": {
          "color": "maroon"
         },
         "name": "Свердловская обл.",
         "type": "box",
         "x": [
          168,
          167,
          162,
          154,
          158,
          150,
          141,
          149
         ],
         "xaxis": "x",
         "yaxis": "y"
        },
        {
         "boxmean": true,
         "marker": {
          "color": "coral"
         },
         "name": "Ставропольский край",
         "type": "box",
         "x": [
          111,
          95,
          105,
          130,
          127,
          129,
          132,
          128
         ],
         "xaxis": "x",
         "yaxis": "y"
        },
        {
         "boxmean": true,
         "marker": {
          "color": "darkorange"
         },
         "name": "Ульяновская обл.",
         "type": "box",
         "x": [
          115,
          91,
          94,
          86,
          120,
          91,
          102,
          95
         ],
         "xaxis": "x",
         "yaxis": "y"
        },
        {
         "boxmean": true,
         "marker": {
          "color": "lightpink"
         },
         "name": "Челябинская обл.",
         "type": "box",
         "x": [
          85,
          88,
          84,
          80,
          76,
          79,
          69,
          67
         ],
         "xaxis": "x",
         "yaxis": "y"
        },
        {
         "boxmean": true,
         "marker": {
          "color": "forestgreen"
         },
         "name": "Волгоградская обл.",
         "type": "box",
         "x": [
          135,
          87,
          91,
          68,
          97,
          16,
          12,
          135
         ],
         "xaxis": "x2",
         "yaxis": "y2"
        },
        {
         "boxmean": true,
         "marker": {
          "color": "darkblue"
         },
         "name": "Иркутская обл.",
         "type": "box",
         "x": [
          194,
          210,
          182,
          146,
          109,
          16,
          37,
          226
         ],
         "xaxis": "x2",
         "yaxis": "y2"
        },
        {
         "boxmean": true,
         "marker": {
          "color": "goldenrod"
         },
         "name": "Москва",
         "type": "box",
         "x": [
          1043,
          1088,
          787,
          1350,
          1275,
          1045,
          819,
          1155
         ],
         "xaxis": "x2",
         "yaxis": "y2"
        },
        {
         "boxmean": true,
         "marker": {
          "color": "magenta"
         },
         "name": "Московская обл.",
         "type": "box",
         "x": [
          160,
          215,
          150,
          159,
          156,
          138,
          148,
          118
         ],
         "xaxis": "x2",
         "yaxis": "y2"
        },
        {
         "boxmean": true,
         "marker": {
          "color": "hotpink"
         },
         "name": "Санкт-Петербург",
         "type": "box",
         "x": [
          78,
          93,
          96,
          72,
          76,
          53,
          69,
          83
         ],
         "xaxis": "x2",
         "yaxis": "y2"
        },
        {
         "boxmean": true,
         "marker": {
          "color": "grey"
         },
         "name": "Саратовская обл.",
         "type": "box",
         "x": [
          62,
          120,
          93,
          81,
          60,
          19,
          17,
          158
         ],
         "xaxis": "x2",
         "yaxis": "y2"
        },
        {
         "boxmean": true,
         "marker": {
          "color": "maroon"
         },
         "name": "Свердловская обл.",
         "type": "box",
         "x": [
          82,
          83,
          78,
          75,
          77,
          76,
          71,
          74
         ],
         "xaxis": "x2",
         "yaxis": "y2"
        },
        {
         "boxmean": true,
         "marker": {
          "color": "coral"
         },
         "name": "Ставропольский край",
         "type": "box",
         "x": [
          57,
          162,
          79,
          59,
          69,
          22,
          28,
          64
         ],
         "xaxis": "x2",
         "yaxis": "y2"
        },
        {
         "boxmean": true,
         "marker": {
          "color": "darkorange"
         },
         "name": "Ульяновская обл.",
         "type": "box",
         "x": [
          95,
          114,
          73,
          126,
          89,
          23,
          15,
          97
         ],
         "xaxis": "x2",
         "yaxis": "y2"
        },
        {
         "boxmean": true,
         "marker": {
          "color": "lightpink"
         },
         "name": "Челябинская обл.",
         "type": "box",
         "x": [
          8,
          128,
          102,
          105,
          98,
          104,
          3,
          127
         ],
         "xaxis": "x2",
         "yaxis": "y2"
        }
       ],
       "layout": {
        "annotations": [
         {
          "font": {
           "size": 16
          },
          "showarrow": false,
          "text": "Box-график распределения по новым заболевшим(в день) за неделю:",
          "x": 0.5,
          "xanchor": "center",
          "xref": "paper",
          "y": 1,
          "yanchor": "bottom",
          "yref": "paper"
         },
         {
          "font": {
           "size": 16
          },
          "showarrow": false,
          "text": "Box-график распределения по выздоровевшим(в день) за неделю:",
          "x": 0.5,
          "xanchor": "center",
          "xref": "paper",
          "y": 0.48,
          "yanchor": "bottom",
          "yref": "paper"
         }
        ],
        "height": 1200,
        "showlegend": false,
        "template": {
         "data": {
          "bar": [
           {
            "error_x": {
             "color": "rgb(51,51,51)"
            },
            "error_y": {
             "color": "rgb(51,51,51)"
            },
            "marker": {
             "line": {
              "color": "rgb(237,237,237)",
              "width": 0.5
             }
            },
            "type": "bar"
           }
          ],
          "barpolar": [
           {
            "marker": {
             "line": {
              "color": "rgb(237,237,237)",
              "width": 0.5
             }
            },
            "type": "barpolar"
           }
          ],
          "carpet": [
           {
            "aaxis": {
             "endlinecolor": "rgb(51,51,51)",
             "gridcolor": "white",
             "linecolor": "white",
             "minorgridcolor": "white",
             "startlinecolor": "rgb(51,51,51)"
            },
            "baxis": {
             "endlinecolor": "rgb(51,51,51)",
             "gridcolor": "white",
             "linecolor": "white",
             "minorgridcolor": "white",
             "startlinecolor": "rgb(51,51,51)"
            },
            "type": "carpet"
           }
          ],
          "choropleth": [
           {
            "colorbar": {
             "outlinewidth": 0,
             "tickcolor": "rgb(237,237,237)",
             "ticklen": 6,
             "ticks": "inside"
            },
            "type": "choropleth"
           }
          ],
          "contour": [
           {
            "colorbar": {
             "outlinewidth": 0,
             "tickcolor": "rgb(237,237,237)",
             "ticklen": 6,
             "ticks": "inside"
            },
            "colorscale": [
             [
              0,
              "rgb(20,44,66)"
             ],
             [
              1,
              "rgb(90,179,244)"
             ]
            ],
            "type": "contour"
           }
          ],
          "contourcarpet": [
           {
            "colorbar": {
             "outlinewidth": 0,
             "tickcolor": "rgb(237,237,237)",
             "ticklen": 6,
             "ticks": "inside"
            },
            "type": "contourcarpet"
           }
          ],
          "heatmap": [
           {
            "colorbar": {
             "outlinewidth": 0,
             "tickcolor": "rgb(237,237,237)",
             "ticklen": 6,
             "ticks": "inside"
            },
            "colorscale": [
             [
              0,
              "rgb(20,44,66)"
             ],
             [
              1,
              "rgb(90,179,244)"
             ]
            ],
            "type": "heatmap"
           }
          ],
          "heatmapgl": [
           {
            "colorbar": {
             "outlinewidth": 0,
             "tickcolor": "rgb(237,237,237)",
             "ticklen": 6,
             "ticks": "inside"
            },
            "colorscale": [
             [
              0,
              "rgb(20,44,66)"
             ],
             [
              1,
              "rgb(90,179,244)"
             ]
            ],
            "type": "heatmapgl"
           }
          ],
          "histogram": [
           {
            "marker": {
             "colorbar": {
              "outlinewidth": 0,
              "tickcolor": "rgb(237,237,237)",
              "ticklen": 6,
              "ticks": "inside"
             }
            },
            "type": "histogram"
           }
          ],
          "histogram2d": [
           {
            "colorbar": {
             "outlinewidth": 0,
             "tickcolor": "rgb(237,237,237)",
             "ticklen": 6,
             "ticks": "inside"
            },
            "colorscale": [
             [
              0,
              "rgb(20,44,66)"
             ],
             [
              1,
              "rgb(90,179,244)"
             ]
            ],
            "type": "histogram2d"
           }
          ],
          "histogram2dcontour": [
           {
            "colorbar": {
             "outlinewidth": 0,
             "tickcolor": "rgb(237,237,237)",
             "ticklen": 6,
             "ticks": "inside"
            },
            "colorscale": [
             [
              0,
              "rgb(20,44,66)"
             ],
             [
              1,
              "rgb(90,179,244)"
             ]
            ],
            "type": "histogram2dcontour"
           }
          ],
          "mesh3d": [
           {
            "colorbar": {
             "outlinewidth": 0,
             "tickcolor": "rgb(237,237,237)",
             "ticklen": 6,
             "ticks": "inside"
            },
            "type": "mesh3d"
           }
          ],
          "parcoords": [
           {
            "line": {
             "colorbar": {
              "outlinewidth": 0,
              "tickcolor": "rgb(237,237,237)",
              "ticklen": 6,
              "ticks": "inside"
             }
            },
            "type": "parcoords"
           }
          ],
          "pie": [
           {
            "automargin": true,
            "type": "pie"
           }
          ],
          "scatter": [
           {
            "marker": {
             "colorbar": {
              "outlinewidth": 0,
              "tickcolor": "rgb(237,237,237)",
              "ticklen": 6,
              "ticks": "inside"
             }
            },
            "type": "scatter"
           }
          ],
          "scatter3d": [
           {
            "line": {
             "colorbar": {
              "outlinewidth": 0,
              "tickcolor": "rgb(237,237,237)",
              "ticklen": 6,
              "ticks": "inside"
             }
            },
            "marker": {
             "colorbar": {
              "outlinewidth": 0,
              "tickcolor": "rgb(237,237,237)",
              "ticklen": 6,
              "ticks": "inside"
             }
            },
            "type": "scatter3d"
           }
          ],
          "scattercarpet": [
           {
            "marker": {
             "colorbar": {
              "outlinewidth": 0,
              "tickcolor": "rgb(237,237,237)",
              "ticklen": 6,
              "ticks": "inside"
             }
            },
            "type": "scattercarpet"
           }
          ],
          "scattergeo": [
           {
            "marker": {
             "colorbar": {
              "outlinewidth": 0,
              "tickcolor": "rgb(237,237,237)",
              "ticklen": 6,
              "ticks": "inside"
             }
            },
            "type": "scattergeo"
           }
          ],
          "scattergl": [
           {
            "marker": {
             "colorbar": {
              "outlinewidth": 0,
              "tickcolor": "rgb(237,237,237)",
              "ticklen": 6,
              "ticks": "inside"
             }
            },
            "type": "scattergl"
           }
          ],
          "scattermapbox": [
           {
            "marker": {
             "colorbar": {
              "outlinewidth": 0,
              "tickcolor": "rgb(237,237,237)",
              "ticklen": 6,
              "ticks": "inside"
             }
            },
            "type": "scattermapbox"
           }
          ],
          "scatterpolar": [
           {
            "marker": {
             "colorbar": {
              "outlinewidth": 0,
              "tickcolor": "rgb(237,237,237)",
              "ticklen": 6,
              "ticks": "inside"
             }
            },
            "type": "scatterpolar"
           }
          ],
          "scatterpolargl": [
           {
            "marker": {
             "colorbar": {
              "outlinewidth": 0,
              "tickcolor": "rgb(237,237,237)",
              "ticklen": 6,
              "ticks": "inside"
             }
            },
            "type": "scatterpolargl"
           }
          ],
          "scatterternary": [
           {
            "marker": {
             "colorbar": {
              "outlinewidth": 0,
              "tickcolor": "rgb(237,237,237)",
              "ticklen": 6,
              "ticks": "inside"
             }
            },
            "type": "scatterternary"
           }
          ],
          "surface": [
           {
            "colorbar": {
             "outlinewidth": 0,
             "tickcolor": "rgb(237,237,237)",
             "ticklen": 6,
             "ticks": "inside"
            },
            "colorscale": [
             [
              0,
              "rgb(20,44,66)"
             ],
             [
              1,
              "rgb(90,179,244)"
             ]
            ],
            "type": "surface"
           }
          ],
          "table": [
           {
            "cells": {
             "fill": {
              "color": "rgb(237,237,237)"
             },
             "line": {
              "color": "white"
             }
            },
            "header": {
             "fill": {
              "color": "rgb(217,217,217)"
             },
             "line": {
              "color": "white"
             }
            },
            "type": "table"
           }
          ]
         },
         "layout": {
          "annotationdefaults": {
           "arrowhead": 0,
           "arrowwidth": 1
          },
          "coloraxis": {
           "colorbar": {
            "outlinewidth": 0,
            "tickcolor": "rgb(237,237,237)",
            "ticklen": 6,
            "ticks": "inside"
           }
          },
          "colorscale": {
           "sequential": [
            [
             0,
             "rgb(20,44,66)"
            ],
            [
             1,
             "rgb(90,179,244)"
            ]
           ],
           "sequentialminus": [
            [
             0,
             "rgb(20,44,66)"
            ],
            [
             1,
             "rgb(90,179,244)"
            ]
           ]
          },
          "colorway": [
           "#F8766D",
           "#A3A500",
           "#00BF7D",
           "#00B0F6",
           "#E76BF3"
          ],
          "font": {
           "color": "rgb(51,51,51)"
          },
          "geo": {
           "bgcolor": "white",
           "lakecolor": "white",
           "landcolor": "rgb(237,237,237)",
           "showlakes": true,
           "showland": true,
           "subunitcolor": "white"
          },
          "hoverlabel": {
           "align": "left"
          },
          "hovermode": "closest",
          "paper_bgcolor": "white",
          "plot_bgcolor": "rgb(237,237,237)",
          "polar": {
           "angularaxis": {
            "gridcolor": "white",
            "linecolor": "white",
            "showgrid": true,
            "tickcolor": "rgb(51,51,51)",
            "ticks": "outside"
           },
           "bgcolor": "rgb(237,237,237)",
           "radialaxis": {
            "gridcolor": "white",
            "linecolor": "white",
            "showgrid": true,
            "tickcolor": "rgb(51,51,51)",
            "ticks": "outside"
           }
          },
          "scene": {
           "xaxis": {
            "backgroundcolor": "rgb(237,237,237)",
            "gridcolor": "white",
            "gridwidth": 2,
            "linecolor": "white",
            "showbackground": true,
            "showgrid": true,
            "tickcolor": "rgb(51,51,51)",
            "ticks": "outside",
            "zerolinecolor": "white"
           },
           "yaxis": {
            "backgroundcolor": "rgb(237,237,237)",
            "gridcolor": "white",
            "gridwidth": 2,
            "linecolor": "white",
            "showbackground": true,
            "showgrid": true,
            "tickcolor": "rgb(51,51,51)",
            "ticks": "outside",
            "zerolinecolor": "white"
           },
           "zaxis": {
            "backgroundcolor": "rgb(237,237,237)",
            "gridcolor": "white",
            "gridwidth": 2,
            "linecolor": "white",
            "showbackground": true,
            "showgrid": true,
            "tickcolor": "rgb(51,51,51)",
            "ticks": "outside",
            "zerolinecolor": "white"
           }
          },
          "shapedefaults": {
           "fillcolor": "black",
           "line": {
            "width": 0
           },
           "opacity": 0.3
          },
          "ternary": {
           "aaxis": {
            "gridcolor": "white",
            "linecolor": "white",
            "showgrid": true,
            "tickcolor": "rgb(51,51,51)",
            "ticks": "outside"
           },
           "baxis": {
            "gridcolor": "white",
            "linecolor": "white",
            "showgrid": true,
            "tickcolor": "rgb(51,51,51)",
            "ticks": "outside"
           },
           "bgcolor": "rgb(237,237,237)",
           "caxis": {
            "gridcolor": "white",
            "linecolor": "white",
            "showgrid": true,
            "tickcolor": "rgb(51,51,51)",
            "ticks": "outside"
           }
          },
          "xaxis": {
           "automargin": true,
           "gridcolor": "white",
           "linecolor": "white",
           "showgrid": true,
           "tickcolor": "rgb(51,51,51)",
           "ticks": "outside",
           "title": {
            "standoff": 15
           },
           "zerolinecolor": "white"
          },
          "yaxis": {
           "automargin": true,
           "gridcolor": "white",
           "linecolor": "white",
           "showgrid": true,
           "tickcolor": "rgb(51,51,51)",
           "ticks": "outside",
           "title": {
            "standoff": 15
           },
           "zerolinecolor": "white"
          }
         }
        },
        "width": 990,
        "xaxis": {
         "anchor": "y",
         "domain": [
          0,
          1
         ],
         "matches": "x2",
         "showticklabels": false
        },
        "xaxis2": {
         "anchor": "y2",
         "domain": [
          0,
          1
         ]
        },
        "yaxis": {
         "anchor": "x",
         "domain": [
          0.52,
          1
         ]
        },
        "yaxis2": {
         "anchor": "x2",
         "domain": [
          0,
          0.48
         ]
        }
       }
      }
     },
     "metadata": {}
    }
   ],
   "source": [
    "from plotly.subplots import make_subplots\n",
    "\n",
    "# fig = tools.make_subplots(rows = 1, cols = 2, specs = [[{}, {}]],\n",
    "#                           horizontal_spacing = 0.05)\n",
    "\n",
    "\n",
    "fig = make_subplots(rows=2, cols=1,specs = [[{}],[{}]],vertical_spacing = 0.04,shared_xaxes=True,\n",
    "                  subplot_titles=(\"Box-график распределения по новым заболевшим(в день) за неделю:\",\n",
    "                                 \"Box-график распределения по выздоровевшим(в день) за неделю:\"))\n",
    "#subplot_titles=(\"Статистика по новым заболевшим за последние 2 недели\",\"Статистика по выздоровевшим за последние 2 недели\")\n",
    "\n",
    "for i in cols:\n",
    "    fig.add_trace(\n",
    "    go.Box(x=new_df1[i],name = i,boxmean = True,marker_color = color_dict.get(i)),row=1,col=1)\n",
    "\n",
    "for i in cols:\n",
    "    fig.add_trace(\n",
    "    go.Box(x=new_df2[i],name = i,boxmean=True,marker_color = color_dict.get(i)),row=2,col=1)\n",
    "\n",
    "\n",
    "fig.update_layout(\n",
    "#     annotations=[\n",
    "#         dict(\n",
    "#             x=0.5,\n",
    "#             y=-0.15,\n",
    "#             showarrow=False,\n",
    "#             text=\"Ветикальная пунктирная линия - среднее, Вертикальная сплошная - медиана распределения\",\n",
    "#             xref=\"paper\",\n",
    "#             yref=\"paper\"),\n",
    "        \n",
    "#                 ],\n",
    "    \n",
    "    \n",
    "                  width = 990, height = 1200,\n",
    "    \n",
    "    \n",
    "                 showlegend=False,template ='ggplot2'\n",
    ")\n",
    "\n",
    "#fig.update_layout(height=1000, width=800,showlegend=False)\n",
    "fig.show()"
   ]
  },
  {
   "cell_type": "code",
   "execution_count": null,
   "metadata": {},
   "outputs": [],
   "source": []
  },
  {
   "cell_type": "code",
   "execution_count": null,
   "metadata": {},
   "outputs": [],
   "source": []
  }
 ],
 "metadata": {
  "kernelspec": {
   "display_name": "Python 3.7.7 64-bit ('vit1': conda)",
   "language": "python",
   "name": "python_defaultSpec_1597781509615"
  },
  "language_info": {
   "codemirror_mode": {
    "name": "ipython",
    "version": 3
   },
   "file_extension": ".py",
   "mimetype": "text/x-python",
   "name": "python",
   "nbconvert_exporter": "python",
   "pygments_lexer": "ipython3",
   "version": "3.7.7-final"
  }
 },
 "nbformat": 4,
 "nbformat_minor": 4
}