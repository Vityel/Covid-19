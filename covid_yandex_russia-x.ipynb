{
 "cells": [
  {
   "cell_type": "code",
   "execution_count": 1,
   "metadata": {},
   "outputs": [],
   "source": [
    "import pandas as pd\n",
    "import datetime\n",
    "import plotly.graph_objects as go\n",
    "import plotly.express as px\n",
    "import plotly.figure_factory as ff\n"
   ]
  },
  {
   "cell_type": "code",
   "execution_count": 5,
   "metadata": {},
   "outputs": [],
   "source": [
    "X=pd.read_csv('X.csv')\n",
    "\n",
    "a1=list(X.Region.unique())\n",
    "regions_dict=dict(zip(range(1,len(a1)+1),a1))\n",
    "def my_date(dt):\n",
    "    a= dt.split('-')\n",
    "    return datetime.date(int(a[0]),int(a[1]),int(a[2]))\n",
    "X.Date=X.Date.apply(my_date)\n",
    "myday = list(X.tail(1).Date)[0]"
   ]
  },
  {
   "cell_type": "code",
   "execution_count": 6,
   "metadata": {
    "tags": []
   },
   "outputs": [
    {
     "output_type": "stream",
     "name": "stdout",
     "text": "<class 'pandas.core.frame.DataFrame'>\nRangeIndex: 13363 entries, 0 to 13362\nData columns (total 19 columns):\n #   Column              Non-Null Count  Dtype  \n---  ------              --------------  -----  \n 0   Date                13363 non-null  object \n 1   Confirmed           13363 non-null  int64  \n 2   Recovered           13363 non-null  int64  \n 3   Deaths              13363 non-null  int64  \n 4   Day_deaths          13363 non-null  int64  \n 5   Day_confirmed       13363 non-null  int64  \n 6   Day_recovered       13363 non-null  int64  \n 7   Rt                  12206 non-null  float64\n 8   Rt2                 12316 non-null  float64\n 9   Rate_conf           13363 non-null  float64\n 10  Rate_ill            13363 non-null  float64\n 11  Region              13363 non-null  object \n 12  Remaining_ill       13363 non-null  int64  \n 13  MA7_dayconfirmed    12847 non-null  float64\n 14  MA14_dayconfirmed   12245 non-null  float64\n 15  MA7_remaining_ill   12847 non-null  float64\n 16  MA14_remaining_ill  12245 non-null  float64\n 17  Change_dayconf      13363 non-null  int64  \n 18  Change_remill       13363 non-null  int64  \ndtypes: float64(8), int64(9), object(2)\nmemory usage: 1.9+ MB\n"
    }
   ],
   "source": [
    "X.info()"
   ]
  },
  {
   "cell_type": "code",
   "execution_count": 7,
   "metadata": {},
   "outputs": [
    {
     "output_type": "display_data",
     "data": {
      "application/vnd.plotly.v1+json": {
       "config": {
        "plotlyServerURL": "https://plot.ly"
       },
       "data": [
        {
         "colorscale": [
          [
           0,
           "#00083e"
          ],
          [
           0.5,
           "#ededee"
          ],
          [
           1,
           "#ffffff"
          ]
         ],
         "hoverinfo": "none",
         "opacity": 0.75,
         "showscale": false,
         "type": "heatmap",
         "z": [
          [
           0,
           0,
           0,
           0
          ],
          [
           0.5,
           0.5,
           0.5,
           0.5
          ],
          [
           1,
           1,
           1,
           1
          ],
          [
           0.5,
           0.5,
           0.5,
           0.5
          ],
          [
           1,
           1,
           1,
           1
          ],
          [
           0.5,
           0.5,
           0.5,
           0.5
          ],
          [
           1,
           1,
           1,
           1
          ],
          [
           0.5,
           0.5,
           0.5,
           0.5
          ],
          [
           1,
           1,
           1,
           1
          ],
          [
           0.5,
           0.5,
           0.5,
           0.5
          ],
          [
           1,
           1,
           1,
           1
          ],
          [
           0.5,
           0.5,
           0.5,
           0.5
          ],
          [
           1,
           1,
           1,
           1
          ],
          [
           0.5,
           0.5,
           0.5,
           0.5
          ],
          [
           1,
           1,
           1,
           1
          ],
          [
           0.5,
           0.5,
           0.5,
           0.5
          ]
         ]
        }
       ],
       "layout": {
        "annotations": [
         {
          "align": "left",
          "font": {
           "color": "#ffffff"
          },
          "showarrow": false,
          "text": "<b>По количеству текущих больных</b>",
          "x": -0.45,
          "xanchor": "left",
          "xref": "x",
          "y": 0,
          "yref": "y"
         },
         {
          "align": "left",
          "font": {
           "color": "#ffffff"
          },
          "showarrow": false,
          "text": "<b>По количеству новых</b>",
          "x": 0.55,
          "xanchor": "left",
          "xref": "x",
          "y": 0,
          "yref": "y"
         },
         {
          "align": "left",
          "font": {
           "color": "#ffffff"
          },
          "showarrow": false,
          "text": "<b>По умершим за день</b>",
          "x": 1.55,
          "xanchor": "left",
          "xref": "x",
          "y": 0,
          "yref": "y"
         },
         {
          "align": "left",
          "font": {
           "color": "#ffffff"
          },
          "showarrow": false,
          "text": "<b>По выздоровевшим за день</b>",
          "x": 2.55,
          "xanchor": "left",
          "xref": "x",
          "y": 0,
          "yref": "y"
         },
         {
          "align": "left",
          "font": {
           "color": "#000000"
          },
          "showarrow": false,
          "text": "Москва",
          "x": -0.45,
          "xanchor": "left",
          "xref": "x",
          "y": 1,
          "yref": "y"
         },
         {
          "align": "left",
          "font": {
           "color": "#000000"
          },
          "showarrow": false,
          "text": "Москва",
          "x": 0.55,
          "xanchor": "left",
          "xref": "x",
          "y": 1,
          "yref": "y"
         },
         {
          "align": "left",
          "font": {
           "color": "#000000"
          },
          "showarrow": false,
          "text": "Санкт-Петербург",
          "x": 1.55,
          "xanchor": "left",
          "xref": "x",
          "y": 1,
          "yref": "y"
         },
         {
          "align": "left",
          "font": {
           "color": "#000000"
          },
          "showarrow": false,
          "text": "Москва",
          "x": 2.55,
          "xanchor": "left",
          "xref": "x",
          "y": 1,
          "yref": "y"
         },
         {
          "align": "left",
          "font": {
           "color": "#000000"
          },
          "showarrow": false,
          "text": "Московская обл.",
          "x": -0.45,
          "xanchor": "left",
          "xref": "x",
          "y": 2,
          "yref": "y"
         },
         {
          "align": "left",
          "font": {
           "color": "#000000"
          },
          "showarrow": false,
          "text": "Свердловская обл.",
          "x": 0.55,
          "xanchor": "left",
          "xref": "x",
          "y": 2,
          "yref": "y"
         },
         {
          "align": "left",
          "font": {
           "color": "#000000"
          },
          "showarrow": false,
          "text": "Москва",
          "x": 1.55,
          "xanchor": "left",
          "xref": "x",
          "y": 2,
          "yref": "y"
         },
         {
          "align": "left",
          "font": {
           "color": "#000000"
          },
          "showarrow": false,
          "text": "Башкортостан",
          "x": 2.55,
          "xanchor": "left",
          "xref": "x",
          "y": 2,
          "yref": "y"
         },
         {
          "align": "left",
          "font": {
           "color": "#000000"
          },
          "showarrow": false,
          "text": "Санкт-Петербург",
          "x": -0.45,
          "xanchor": "left",
          "xref": "x",
          "y": 3,
          "yref": "y"
         },
         {
          "align": "left",
          "font": {
           "color": "#000000"
          },
          "showarrow": false,
          "text": "Санкт-Петербург",
          "x": 0.55,
          "xanchor": "left",
          "xref": "x",
          "y": 3,
          "yref": "y"
         },
         {
          "align": "left",
          "font": {
           "color": "#000000"
          },
          "showarrow": false,
          "text": "Архангельская обл.",
          "x": 1.55,
          "xanchor": "left",
          "xref": "x",
          "y": 3,
          "yref": "y"
         },
         {
          "align": "left",
          "font": {
           "color": "#000000"
          },
          "showarrow": false,
          "text": "Нижегородская обл.",
          "x": 2.55,
          "xanchor": "left",
          "xref": "x",
          "y": 3,
          "yref": "y"
         },
         {
          "align": "left",
          "font": {
           "color": "#000000"
          },
          "showarrow": false,
          "text": "Челябинская обл.",
          "x": -0.45,
          "xanchor": "left",
          "xref": "x",
          "y": 4,
          "yref": "y"
         },
         {
          "align": "left",
          "font": {
           "color": "#000000"
          },
          "showarrow": false,
          "text": "Московская обл.",
          "x": 0.55,
          "xanchor": "left",
          "xref": "x",
          "y": 4,
          "yref": "y"
         },
         {
          "align": "left",
          "font": {
           "color": "#000000"
          },
          "showarrow": false,
          "text": "Иркутская обл.",
          "x": 1.55,
          "xanchor": "left",
          "xref": "x",
          "y": 4,
          "yref": "y"
         },
         {
          "align": "left",
          "font": {
           "color": "#000000"
          },
          "showarrow": false,
          "text": "Омская обл.",
          "x": 2.55,
          "xanchor": "left",
          "xref": "x",
          "y": 4,
          "yref": "y"
         },
         {
          "align": "left",
          "font": {
           "color": "#000000"
          },
          "showarrow": false,
          "text": "Саратовская обл.",
          "x": -0.45,
          "xanchor": "left",
          "xref": "x",
          "y": 5,
          "yref": "y"
         },
         {
          "align": "left",
          "font": {
           "color": "#000000"
          },
          "showarrow": false,
          "text": "Нижегородская обл.",
          "x": 0.55,
          "xanchor": "left",
          "xref": "x",
          "y": 5,
          "yref": "y"
         },
         {
          "align": "left",
          "font": {
           "color": "#000000"
          },
          "showarrow": false,
          "text": "Свердловская обл.",
          "x": 1.55,
          "xanchor": "left",
          "xref": "x",
          "y": 5,
          "yref": "y"
         },
         {
          "align": "left",
          "font": {
           "color": "#000000"
          },
          "showarrow": false,
          "text": "Иркутская обл.",
          "x": 2.55,
          "xanchor": "left",
          "xref": "x",
          "y": 5,
          "yref": "y"
         },
         {
          "align": "left",
          "font": {
           "color": "#000000"
          },
          "showarrow": false,
          "text": "Иркутская обл.",
          "x": -0.45,
          "xanchor": "left",
          "xref": "x",
          "y": 6,
          "yref": "y"
         },
         {
          "align": "left",
          "font": {
           "color": "#000000"
          },
          "showarrow": false,
          "text": "Ростовская обл.",
          "x": 0.55,
          "xanchor": "left",
          "xref": "x",
          "y": 6,
          "yref": "y"
         },
         {
          "align": "left",
          "font": {
           "color": "#000000"
          },
          "showarrow": false,
          "text": "Новосибирская обл.",
          "x": 1.55,
          "xanchor": "left",
          "xref": "x",
          "y": 6,
          "yref": "y"
         },
         {
          "align": "left",
          "font": {
           "color": "#000000"
          },
          "showarrow": false,
          "text": "Чувашия",
          "x": 2.55,
          "xanchor": "left",
          "xref": "x",
          "y": 6,
          "yref": "y"
         },
         {
          "align": "left",
          "font": {
           "color": "#000000"
          },
          "showarrow": false,
          "text": "Свердловская обл.",
          "x": -0.45,
          "xanchor": "left",
          "xref": "x",
          "y": 7,
          "yref": "y"
         },
         {
          "align": "left",
          "font": {
           "color": "#000000"
          },
          "showarrow": false,
          "text": "Красноярский край",
          "x": 0.55,
          "xanchor": "left",
          "xref": "x",
          "y": 7,
          "yref": "y"
         },
         {
          "align": "left",
          "font": {
           "color": "#000000"
          },
          "showarrow": false,
          "text": "Омская обл.",
          "x": 1.55,
          "xanchor": "left",
          "xref": "x",
          "y": 7,
          "yref": "y"
         },
         {
          "align": "left",
          "font": {
           "color": "#000000"
          },
          "showarrow": false,
          "text": "Воронежская обл.",
          "x": 2.55,
          "xanchor": "left",
          "xref": "x",
          "y": 7,
          "yref": "y"
         },
         {
          "align": "left",
          "font": {
           "color": "#000000"
          },
          "showarrow": false,
          "text": "Волгоградская обл.",
          "x": -0.45,
          "xanchor": "left",
          "xref": "x",
          "y": 8,
          "yref": "y"
         },
         {
          "align": "left",
          "font": {
           "color": "#000000"
          },
          "showarrow": false,
          "text": "Иркутская обл.",
          "x": 0.55,
          "xanchor": "left",
          "xref": "x",
          "y": 8,
          "yref": "y"
         },
         {
          "align": "left",
          "font": {
           "color": "#000000"
          },
          "showarrow": false,
          "text": "Московская обл.",
          "x": 1.55,
          "xanchor": "left",
          "xref": "x",
          "y": 8,
          "yref": "y"
         },
         {
          "align": "left",
          "font": {
           "color": "#000000"
          },
          "showarrow": false,
          "text": "Хабаровский край",
          "x": 2.55,
          "xanchor": "left",
          "xref": "x",
          "y": 8,
          "yref": "y"
         },
         {
          "align": "left",
          "font": {
           "color": "#000000"
          },
          "showarrow": false,
          "text": "Мурманская обл.",
          "x": -0.45,
          "xanchor": "left",
          "xref": "x",
          "y": 9,
          "yref": "y"
         },
         {
          "align": "left",
          "font": {
           "color": "#000000"
          },
          "showarrow": false,
          "text": "Омская обл.",
          "x": 0.55,
          "xanchor": "left",
          "xref": "x",
          "y": 9,
          "yref": "y"
         },
         {
          "align": "left",
          "font": {
           "color": "#000000"
          },
          "showarrow": false,
          "text": "Красноярский край",
          "x": 1.55,
          "xanchor": "left",
          "xref": "x",
          "y": 9,
          "yref": "y"
         },
         {
          "align": "left",
          "font": {
           "color": "#000000"
          },
          "showarrow": false,
          "text": "Новосибирская обл.",
          "x": 2.55,
          "xanchor": "left",
          "xref": "x",
          "y": 9,
          "yref": "y"
         },
         {
          "align": "left",
          "font": {
           "color": "#000000"
          },
          "showarrow": false,
          "text": "Ульяновская обл.",
          "x": -0.45,
          "xanchor": "left",
          "xref": "x",
          "y": 10,
          "yref": "y"
         },
         {
          "align": "left",
          "font": {
           "color": "#000000"
          },
          "showarrow": false,
          "text": "ХМАО – Югра",
          "x": 0.55,
          "xanchor": "left",
          "xref": "x",
          "y": 10,
          "yref": "y"
         },
         {
          "align": "left",
          "font": {
           "color": "#000000"
          },
          "showarrow": false,
          "text": "Ленинградская обл.",
          "x": 1.55,
          "xanchor": "left",
          "xref": "x",
          "y": 10,
          "yref": "y"
         },
         {
          "align": "left",
          "font": {
           "color": "#000000"
          },
          "showarrow": false,
          "text": "Московская обл.",
          "x": 2.55,
          "xanchor": "left",
          "xref": "x",
          "y": 10,
          "yref": "y"
         },
         {
          "align": "left",
          "font": {
           "color": "#000000"
          },
          "showarrow": false,
          "text": "Ставропольский край",
          "x": -0.45,
          "xanchor": "left",
          "xref": "x",
          "y": 11,
          "yref": "y"
         },
         {
          "align": "left",
          "font": {
           "color": "#000000"
          },
          "showarrow": false,
          "text": "Ставропольский край",
          "x": 0.55,
          "xanchor": "left",
          "xref": "x",
          "y": 11,
          "yref": "y"
         },
         {
          "align": "left",
          "font": {
           "color": "#000000"
          },
          "showarrow": false,
          "text": "Оренбургская обл.",
          "x": 1.55,
          "xanchor": "left",
          "xref": "x",
          "y": 11,
          "yref": "y"
         },
         {
          "align": "left",
          "font": {
           "color": "#000000"
          },
          "showarrow": false,
          "text": "Мурманская обл.",
          "x": 2.55,
          "xanchor": "left",
          "xref": "x",
          "y": 11,
          "yref": "y"
         },
         {
          "align": "left",
          "font": {
           "color": "#000000"
          },
          "showarrow": false,
          "text": "Нижегородская обл.",
          "x": -0.45,
          "xanchor": "left",
          "xref": "x",
          "y": 12,
          "yref": "y"
         },
         {
          "align": "left",
          "font": {
           "color": "#000000"
          },
          "showarrow": false,
          "text": "Оренбургская обл.",
          "x": 0.55,
          "xanchor": "left",
          "xref": "x",
          "y": 12,
          "yref": "y"
         },
         {
          "align": "left",
          "font": {
           "color": "#000000"
          },
          "showarrow": false,
          "text": "Мурманская обл.",
          "x": 1.55,
          "xanchor": "left",
          "xref": "x",
          "y": 12,
          "yref": "y"
         },
         {
          "align": "left",
          "font": {
           "color": "#000000"
          },
          "showarrow": false,
          "text": "Оренбургская обл.",
          "x": 2.55,
          "xanchor": "left",
          "xref": "x",
          "y": 12,
          "yref": "y"
         },
         {
          "align": "left",
          "font": {
           "color": "#000000"
          },
          "showarrow": false,
          "text": "ХМАО – Югра",
          "x": -0.45,
          "xanchor": "left",
          "xref": "x",
          "y": 13,
          "yref": "y"
         },
         {
          "align": "left",
          "font": {
           "color": "#000000"
          },
          "showarrow": false,
          "text": "Волгоградская обл.",
          "x": 0.55,
          "xanchor": "left",
          "xref": "x",
          "y": 13,
          "yref": "y"
         },
         {
          "align": "left",
          "font": {
           "color": "#000000"
          },
          "showarrow": false,
          "text": "Ставропольский край",
          "x": 1.55,
          "xanchor": "left",
          "xref": "x",
          "y": 13,
          "yref": "y"
         },
         {
          "align": "left",
          "font": {
           "color": "#000000"
          },
          "showarrow": false,
          "text": "Пензенская обл.",
          "x": 2.55,
          "xanchor": "left",
          "xref": "x",
          "y": 13,
          "yref": "y"
         },
         {
          "align": "left",
          "font": {
           "color": "#000000"
          },
          "showarrow": false,
          "text": "Чувашия",
          "x": -0.45,
          "xanchor": "left",
          "xref": "x",
          "y": 14,
          "yref": "y"
         },
         {
          "align": "left",
          "font": {
           "color": "#000000"
          },
          "showarrow": false,
          "text": "Кемеровская обл.",
          "x": 0.55,
          "xanchor": "left",
          "xref": "x",
          "y": 14,
          "yref": "y"
         },
         {
          "align": "left",
          "font": {
           "color": "#000000"
          },
          "showarrow": false,
          "text": "Тульская обл.",
          "x": 1.55,
          "xanchor": "left",
          "xref": "x",
          "y": 14,
          "yref": "y"
         },
         {
          "align": "left",
          "font": {
           "color": "#000000"
          },
          "showarrow": false,
          "text": "Ростовская обл.",
          "x": 2.55,
          "xanchor": "left",
          "xref": "x",
          "y": 14,
          "yref": "y"
         },
         {
          "align": "left",
          "font": {
           "color": "#000000"
          },
          "showarrow": false,
          "text": "Ростовская обл.",
          "x": -0.45,
          "xanchor": "left",
          "xref": "x",
          "y": 15,
          "yref": "y"
         },
         {
          "align": "left",
          "font": {
           "color": "#000000"
          },
          "showarrow": false,
          "text": "Саратовская обл.",
          "x": 0.55,
          "xanchor": "left",
          "xref": "x",
          "y": 15,
          "yref": "y"
         },
         {
          "align": "left",
          "font": {
           "color": "#000000"
          },
          "showarrow": false,
          "text": "Дагестан",
          "x": 1.55,
          "xanchor": "left",
          "xref": "x",
          "y": 15,
          "yref": "y"
         },
         {
          "align": "left",
          "font": {
           "color": "#000000"
          },
          "showarrow": false,
          "text": "Приморский край",
          "x": 2.55,
          "xanchor": "left",
          "xref": "x",
          "y": 15,
          "yref": "y"
         }
        ],
        "height": 600,
        "margin": {
         "b": 100,
         "l": 0,
         "r": 0,
         "t": 100
        },
        "template": {
         "data": {
          "pie": [
           {
            "automargin": true,
            "type": "pie"
           }
          ]
         },
         "layout": {
          "xaxis": {
           "showgrid": true,
           "title": {
            "standoff": 15
           }
          },
          "yaxis": {
           "showgrid": true,
           "title": {
            "standoff": 15
           }
          }
         }
        },
        "title": {
         "text": "Таблица рейтингов заболеваемости COVID-19 по регионам",
         "x": 0.5,
         "xanchor": "center",
         "y": 0.95,
         "yanchor": "top"
        },
        "width": 990,
        "xaxis": {
         "dtick": 1,
         "gridwidth": 2,
         "showticklabels": false,
         "tick0": -0.5,
         "ticks": "",
         "title": {
          "text": ""
         },
         "zeroline": false
        },
        "yaxis": {
         "autorange": "reversed",
         "dtick": 1,
         "gridwidth": 2,
         "showticklabels": false,
         "tick0": 0.5,
         "ticks": "",
         "title": {
          "text": ""
         },
         "zeroline": false
        }
       }
      }
     },
     "metadata": {}
    }
   ],
   "source": [
    "covid_rates = pd.DataFrame()\n",
    "mask = (X.Date==myday)&(X.Region!='Россия')\n",
    "today_cases = X[mask]\n",
    "#covid_rates.reset_index(drop=True)\n",
    "\n",
    "covid_rates['По количеству текущих больных'] = today_cases.sort_values(by=['Remaining_ill'],ascending = False).Region.reset_index(drop=True)\n",
    "covid_rates['По количеству новых'] = today_cases.sort_values(by=['Day_confirmed'],ascending = False).Region.reset_index(drop=True)\n",
    "covid_rates['По умершим за день'] = today_cases.sort_values(by=['Day_deaths'],ascending = False).Region.reset_index(drop=True)\n",
    "covid_rates['По выздоровевшим за день'] = today_cases.sort_values(by=['Day_recovered'],ascending = False).Region.reset_index(drop=True)\n",
    "\n",
    "fig =  ff.create_table(covid_rates.head(15))\n",
    "fig.update_layout(\n",
    "    \n",
    "                  title_text ='Таблица рейтингов заболеваемости COVID-19 по регионам',\n",
    "                  margin = {'t':100, 'b':100},\n",
    "                  title_x = 0.5,\n",
    "                  title_y= 0.95,\n",
    "                  title_xanchor = \"center\",\n",
    "                  title_yanchor = \"top\", \n",
    "                  \n",
    "                  width = 990, height = 600,template = 'gridon',\n",
    "    \n",
    "    \n",
    "                  xaxis_title='',yaxis_title = ''\n",
    ")\n",
    "fig.show()\n",
    "\n",
    "\n"
   ]
  },
  {
   "cell_type": "code",
   "execution_count": 8,
   "metadata": {},
   "outputs": [
    {
     "output_type": "execute_result",
     "data": {
      "text/plain": "['Москва',\n 'Московская обл.',\n 'Санкт-Петербург',\n 'Челябинская обл.',\n 'Саратовская обл.',\n 'Россия']"
     },
     "metadata": {},
     "execution_count": 8
    }
   ],
   "source": [
    "region_number = 5\n",
    "regions_towatch = list(covid_rates['По количеству текущих больных'].head(region_number))\n",
    "regions_towatch.append(\"Россия\")\n",
    "regions_towatch"
   ]
  },
  {
   "cell_type": "code",
   "execution_count": 9,
   "metadata": {},
   "outputs": [
    {
     "output_type": "display_data",
     "data": {
      "application/vnd.plotly.v1+json": {
       "config": {
        "plotlyServerURL": "https://plot.ly"
       },
       "data": [
        {
         "hovertemplate": "Регион:=Москва<br>Date=%{x}<br>Day_confirmed=%{y}<extra></extra>",
         "legendgroup": "Москва",
         "line": {
          "color": "red",
          "dash": "solid",
          "shape": "spline"
         },
         "mode": "lines",
         "name": "Москва",
         "orientation": "v",
         "showlegend": true,
         "type": "scatter",
         "x": [
          "2020-05-02",
          "2020-05-03",
          "2020-05-04",
          "2020-05-05",
          "2020-05-06",
          "2020-05-07",
          "2020-05-08",
          "2020-05-09",
          "2020-05-10",
          "2020-05-11",
          "2020-05-12",
          "2020-05-13",
          "2020-05-14",
          "2020-05-15",
          "2020-05-16",
          "2020-05-17",
          "2020-05-18",
          "2020-05-19",
          "2020-05-20",
          "2020-05-21",
          "2020-05-22",
          "2020-05-23",
          "2020-05-24",
          "2020-05-25",
          "2020-05-26",
          "2020-05-27",
          "2020-05-28",
          "2020-05-29",
          "2020-05-30",
          "2020-05-31",
          "2020-06-01",
          "2020-06-02",
          "2020-06-03",
          "2020-06-04",
          "2020-06-05",
          "2020-06-06",
          "2020-06-07",
          "2020-06-08",
          "2020-06-09",
          "2020-06-10",
          "2020-06-11",
          "2020-06-12",
          "2020-06-13",
          "2020-06-14",
          "2020-06-15",
          "2020-06-16",
          "2020-06-17",
          "2020-06-18",
          "2020-06-19",
          "2020-06-20",
          "2020-06-21",
          "2020-06-22",
          "2020-06-23",
          "2020-06-24",
          "2020-06-25",
          "2020-06-26",
          "2020-06-27",
          "2020-06-28",
          "2020-06-29",
          "2020-06-30",
          "2020-07-01",
          "2020-07-02",
          "2020-07-03",
          "2020-07-04",
          "2020-07-05",
          "2020-07-06",
          "2020-07-07",
          "2020-07-08",
          "2020-07-09",
          "2020-07-10",
          "2020-07-11",
          "2020-07-12",
          "2020-07-13",
          "2020-07-14",
          "2020-07-15",
          "2020-07-16",
          "2020-07-17",
          "2020-07-18",
          "2020-07-19",
          "2020-07-20",
          "2020-07-21",
          "2020-07-22",
          "2020-07-23",
          "2020-07-24",
          "2020-07-25",
          "2020-07-26",
          "2020-07-27",
          "2020-07-28",
          "2020-07-29",
          "2020-07-30",
          "2020-07-31",
          "2020-08-01",
          "2020-08-02",
          "2020-08-03",
          "2020-08-04",
          "2020-08-05",
          "2020-08-06",
          "2020-08-07",
          "2020-08-08",
          "2020-08-09",
          "2020-08-10",
          "2020-08-11",
          "2020-08-12",
          "2020-08-13"
         ],
         "xaxis": "x",
         "y": [
          5358,
          5948,
          5795,
          5714,
          5858,
          6703,
          5846,
          5667,
          5551,
          6169,
          5392,
          4703,
          4712,
          4748,
          3505,
          3855,
          3238,
          3545,
          2699,
          2913,
          2988,
          3190,
          2516,
          2560,
          2830,
          2140,
          2054,
          2332,
          2367,
          2595,
          2297,
          2286,
          1842,
          1998,
          1855,
          1992,
          1956,
          2001,
          1572,
          1195,
          1436,
          1714,
          1493,
          1477,
          1359,
          1416,
          1065,
          1040,
          1136,
          1057,
          968,
          1068,
          1081,
          811,
          885,
          813,
          750,
          717,
          782,
          745,
          611,
          662,
          659,
          680,
          650,
          685,
          629,
          621,
          568,
          637,
          678,
          679,
          672,
          613,
          628,
          531,
          575,
          578,
          591,
          578,
          602,
          638,
          608,
          645,
          648,
          683,
          694,
          674,
          671,
          678,
          695,
          690,
          664,
          693,
          691,
          687,
          684,
          686,
          691,
          689,
          694,
          694,
          689,
          692
         ],
         "yaxis": "y"
        },
        {
         "hovertemplate": "Регион:=Московская обл.<br>Date=%{x}<br>Day_confirmed=%{y}<extra></extra>",
         "legendgroup": "Московская обл.",
         "line": {
          "color": "magenta",
          "dash": "solid",
          "shape": "spline"
         },
         "mode": "lines",
         "name": "Московская обл.",
         "orientation": "v",
         "showlegend": true,
         "type": "scatter",
         "x": [
          "2020-05-02",
          "2020-05-03",
          "2020-05-04",
          "2020-05-05",
          "2020-05-06",
          "2020-05-07",
          "2020-05-08",
          "2020-05-09",
          "2020-05-10",
          "2020-05-11",
          "2020-05-12",
          "2020-05-13",
          "2020-05-14",
          "2020-05-15",
          "2020-05-16",
          "2020-05-17",
          "2020-05-18",
          "2020-05-19",
          "2020-05-20",
          "2020-05-21",
          "2020-05-22",
          "2020-05-23",
          "2020-05-24",
          "2020-05-25",
          "2020-05-26",
          "2020-05-27",
          "2020-05-28",
          "2020-05-29",
          "2020-05-30",
          "2020-05-31",
          "2020-06-01",
          "2020-06-02",
          "2020-06-03",
          "2020-06-04",
          "2020-06-05",
          "2020-06-06",
          "2020-06-07",
          "2020-06-08",
          "2020-06-09",
          "2020-06-10",
          "2020-06-11",
          "2020-06-12",
          "2020-06-13",
          "2020-06-14",
          "2020-06-15",
          "2020-06-16",
          "2020-06-17",
          "2020-06-18",
          "2020-06-19",
          "2020-06-20",
          "2020-06-21",
          "2020-06-22",
          "2020-06-23",
          "2020-06-24",
          "2020-06-25",
          "2020-06-26",
          "2020-06-27",
          "2020-06-28",
          "2020-06-29",
          "2020-06-30",
          "2020-07-01",
          "2020-07-02",
          "2020-07-03",
          "2020-07-04",
          "2020-07-05",
          "2020-07-06",
          "2020-07-07",
          "2020-07-08",
          "2020-07-09",
          "2020-07-10",
          "2020-07-11",
          "2020-07-12",
          "2020-07-13",
          "2020-07-14",
          "2020-07-15",
          "2020-07-16",
          "2020-07-17",
          "2020-07-18",
          "2020-07-19",
          "2020-07-20",
          "2020-07-21",
          "2020-07-22",
          "2020-07-23",
          "2020-07-24",
          "2020-07-25",
          "2020-07-26",
          "2020-07-27",
          "2020-07-28",
          "2020-07-29",
          "2020-07-30",
          "2020-07-31",
          "2020-08-01",
          "2020-08-02",
          "2020-08-03",
          "2020-08-04",
          "2020-08-05",
          "2020-08-06",
          "2020-08-07",
          "2020-08-08",
          "2020-08-09",
          "2020-08-10",
          "2020-08-11",
          "2020-08-12",
          "2020-08-13"
         ],
         "xaxis": "x",
         "y": [
          807,
          822,
          803,
          822,
          829,
          842,
          918,
          1075,
          1133,
          1079,
          1063,
          962,
          918,
          945,
          937,
          907,
          921,
          898,
          903,
          892,
          824,
          846,
          862,
          831,
          817,
          793,
          774,
          773,
          735,
          757,
          728,
          732,
          736,
          767,
          762,
          758,
          754,
          751,
          739,
          735,
          724,
          730,
          725,
          717,
          689,
          694,
          680,
          667,
          646,
          591,
          549,
          506,
          504,
          507,
          467,
          390,
          366,
          325,
          335,
          301,
          306,
          317,
          298,
          275,
          287,
          292,
          177,
          194,
          192,
          199,
          188,
          197,
          196,
          198,
          173,
          174,
          166,
          173,
          171,
          153,
          149,
          128,
          145,
          143,
          148,
          144,
          139,
          126,
          137,
          144,
          150,
          149,
          157,
          160,
          161,
          162,
          159,
          158,
          161,
          149,
          153,
          154,
          152,
          148
         ],
         "yaxis": "y"
        },
        {
         "hovertemplate": "Регион:=Россия<br>Date=%{x}<br>Day_confirmed=%{y}<extra></extra>",
         "legendgroup": "Россия",
         "line": {
          "color": "aquamarine",
          "dash": "solid",
          "shape": "spline"
         },
         "mode": "lines",
         "name": "Россия",
         "orientation": "v",
         "showlegend": true,
         "type": "scatter",
         "x": [
          "2020-05-02",
          "2020-05-03",
          "2020-05-04",
          "2020-05-05",
          "2020-05-06",
          "2020-05-07",
          "2020-05-08",
          "2020-05-09",
          "2020-05-10",
          "2020-05-11",
          "2020-05-12",
          "2020-05-13",
          "2020-05-14",
          "2020-05-15",
          "2020-05-16",
          "2020-05-17",
          "2020-05-18",
          "2020-05-19",
          "2020-05-20",
          "2020-05-21",
          "2020-05-22",
          "2020-05-23",
          "2020-05-24",
          "2020-05-25",
          "2020-05-26",
          "2020-05-27",
          "2020-05-28",
          "2020-05-29",
          "2020-05-30",
          "2020-05-31",
          "2020-06-01",
          "2020-06-02",
          "2020-06-03",
          "2020-06-04",
          "2020-06-05",
          "2020-06-06",
          "2020-06-07",
          "2020-06-08",
          "2020-06-09",
          "2020-06-10",
          "2020-06-11",
          "2020-06-12",
          "2020-06-13",
          "2020-06-14",
          "2020-06-15",
          "2020-06-16",
          "2020-06-17",
          "2020-06-18",
          "2020-06-19",
          "2020-06-20",
          "2020-06-21",
          "2020-06-22",
          "2020-06-23",
          "2020-06-24",
          "2020-06-25",
          "2020-06-26",
          "2020-06-27",
          "2020-06-28",
          "2020-06-29",
          "2020-06-30",
          "2020-07-01",
          "2020-07-02",
          "2020-07-03",
          "2020-07-04",
          "2020-07-05",
          "2020-07-06",
          "2020-07-07",
          "2020-07-08",
          "2020-07-09",
          "2020-07-10",
          "2020-07-11",
          "2020-07-12",
          "2020-07-13",
          "2020-07-14",
          "2020-07-15",
          "2020-07-16",
          "2020-07-17",
          "2020-07-18",
          "2020-07-19",
          "2020-07-20",
          "2020-07-21",
          "2020-07-22",
          "2020-07-23",
          "2020-07-24",
          "2020-07-25",
          "2020-07-26",
          "2020-07-27",
          "2020-07-28",
          "2020-07-29",
          "2020-07-30",
          "2020-07-31",
          "2020-08-01",
          "2020-08-02",
          "2020-08-03",
          "2020-08-04",
          "2020-08-05",
          "2020-08-06",
          "2020-08-07",
          "2020-08-08",
          "2020-08-09",
          "2020-08-10",
          "2020-08-11",
          "2020-08-12",
          "2020-08-13"
         ],
         "xaxis": "x",
         "y": [
          9623,
          10633,
          10581,
          10102,
          10559,
          11231,
          10699,
          10817,
          11012,
          11656,
          10899,
          10028,
          9974,
          10598,
          9200,
          9709,
          8926,
          9263,
          8764,
          8849,
          8894,
          9434,
          8599,
          8946,
          8915,
          8338,
          8371,
          8572,
          8952,
          9268,
          9035,
          8863,
          8536,
          8831,
          8726,
          8855,
          8984,
          8985,
          8595,
          8404,
          8779,
          8987,
          8706,
          8835,
          8246,
          8248,
          7843,
          7790,
          7972,
          7889,
          7728,
          7600,
          7425,
          7176,
          7113,
          6800,
          6852,
          6791,
          6719,
          6693,
          6556,
          6760,
          6718,
          6632,
          6736,
          6611,
          6368,
          6562,
          6509,
          6635,
          6611,
          6615,
          6537,
          6248,
          6422,
          6428,
          6406,
          6234,
          6109,
          5940,
          5842,
          5862,
          5848,
          5811,
          5871,
          5765,
          5635,
          5395,
          5475,
          5509,
          5482,
          5462,
          5427,
          5394,
          5159,
          5204,
          5267,
          5241,
          5212,
          5189,
          5118,
          4945,
          5102,
          5057
         ],
         "yaxis": "y"
        },
        {
         "hovertemplate": "Регион:=Санкт-Петербург<br>Date=%{x}<br>Day_confirmed=%{y}<extra></extra>",
         "legendgroup": "Санкт-Петербург",
         "line": {
          "color": "goldenrod",
          "dash": "solid",
          "shape": "spline"
         },
         "mode": "lines",
         "name": "Санкт-Петербург",
         "orientation": "v",
         "showlegend": true,
         "type": "scatter",
         "x": [
          "2020-05-02",
          "2020-05-03",
          "2020-05-04",
          "2020-05-05",
          "2020-05-06",
          "2020-05-07",
          "2020-05-08",
          "2020-05-09",
          "2020-05-10",
          "2020-05-11",
          "2020-05-12",
          "2020-05-13",
          "2020-05-14",
          "2020-05-15",
          "2020-05-16",
          "2020-05-17",
          "2020-05-18",
          "2020-05-19",
          "2020-05-20",
          "2020-05-21",
          "2020-05-22",
          "2020-05-23",
          "2020-05-24",
          "2020-05-25",
          "2020-05-26",
          "2020-05-27",
          "2020-05-28",
          "2020-05-29",
          "2020-05-30",
          "2020-05-31",
          "2020-06-01",
          "2020-06-02",
          "2020-06-03",
          "2020-06-04",
          "2020-06-05",
          "2020-06-06",
          "2020-06-07",
          "2020-06-08",
          "2020-06-09",
          "2020-06-10",
          "2020-06-11",
          "2020-06-12",
          "2020-06-13",
          "2020-06-14",
          "2020-06-15",
          "2020-06-16",
          "2020-06-17",
          "2020-06-18",
          "2020-06-19",
          "2020-06-20",
          "2020-06-21",
          "2020-06-22",
          "2020-06-23",
          "2020-06-24",
          "2020-06-25",
          "2020-06-26",
          "2020-06-27",
          "2020-06-28",
          "2020-06-29",
          "2020-06-30",
          "2020-07-01",
          "2020-07-02",
          "2020-07-03",
          "2020-07-04",
          "2020-07-05",
          "2020-07-06",
          "2020-07-07",
          "2020-07-08",
          "2020-07-09",
          "2020-07-10",
          "2020-07-11",
          "2020-07-12",
          "2020-07-13",
          "2020-07-14",
          "2020-07-15",
          "2020-07-16",
          "2020-07-17",
          "2020-07-18",
          "2020-07-19",
          "2020-07-20",
          "2020-07-21",
          "2020-07-22",
          "2020-07-23",
          "2020-07-24",
          "2020-07-25",
          "2020-07-26",
          "2020-07-27",
          "2020-07-28",
          "2020-07-29",
          "2020-07-30",
          "2020-07-31",
          "2020-08-01",
          "2020-08-02",
          "2020-08-03",
          "2020-08-04",
          "2020-08-05",
          "2020-08-06",
          "2020-08-07",
          "2020-08-08",
          "2020-08-09",
          "2020-08-10",
          "2020-08-11",
          "2020-08-12",
          "2020-08-13"
         ],
         "xaxis": "x",
         "y": [
          323,
          295,
          317,
          226,
          312,
          306,
          375,
          425,
          414,
          307,
          339,
          435,
          460,
          541,
          525,
          451,
          425,
          453,
          455,
          408,
          389,
          363,
          384,
          374,
          363,
          387,
          383,
          369,
          365,
          369,
          364,
          376,
          380,
          375,
          378,
          347,
          340,
          326,
          318,
          313,
          303,
          274,
          262,
          256,
          252,
          234,
          228,
          231,
          228,
          232,
          229,
          217,
          220,
          218,
          221,
          223,
          224,
          217,
          219,
          253,
          262,
          258,
          263,
          271,
          275,
          280,
          278,
          295,
          292,
          300,
          296,
          293,
          291,
          281,
          264,
          256,
          244,
          238,
          202,
          195,
          189,
          186,
          184,
          181,
          179,
          175,
          172,
          168,
          165,
          162,
          159,
          161,
          163,
          160,
          158,
          156,
          159,
          157,
          155,
          160,
          157,
          157,
          161,
          160
         ],
         "yaxis": "y"
        },
        {
         "hovertemplate": "Регион:=Саратовская обл.<br>Date=%{x}<br>Day_confirmed=%{y}<extra></extra>",
         "legendgroup": "Саратовская обл.",
         "line": {
          "color": "#FF6692",
          "dash": "solid",
          "shape": "spline"
         },
         "mode": "lines",
         "name": "Саратовская обл.",
         "orientation": "v",
         "showlegend": true,
         "type": "scatter",
         "x": [
          "2020-05-02",
          "2020-05-03",
          "2020-05-04",
          "2020-05-05",
          "2020-05-06",
          "2020-05-07",
          "2020-05-08",
          "2020-05-09",
          "2020-05-10",
          "2020-05-11",
          "2020-05-12",
          "2020-05-13",
          "2020-05-14",
          "2020-05-15",
          "2020-05-16",
          "2020-05-17",
          "2020-05-18",
          "2020-05-19",
          "2020-05-20",
          "2020-05-21",
          "2020-05-22",
          "2020-05-23",
          "2020-05-24",
          "2020-05-25",
          "2020-05-26",
          "2020-05-27",
          "2020-05-28",
          "2020-05-29",
          "2020-05-30",
          "2020-05-31",
          "2020-06-01",
          "2020-06-02",
          "2020-06-03",
          "2020-06-04",
          "2020-06-05",
          "2020-06-06",
          "2020-06-07",
          "2020-06-08",
          "2020-06-09",
          "2020-06-10",
          "2020-06-11",
          "2020-06-12",
          "2020-06-13",
          "2020-06-14",
          "2020-06-15",
          "2020-06-16",
          "2020-06-17",
          "2020-06-18",
          "2020-06-19",
          "2020-06-20",
          "2020-06-21",
          "2020-06-22",
          "2020-06-23",
          "2020-06-24",
          "2020-06-25",
          "2020-06-26",
          "2020-06-27",
          "2020-06-28",
          "2020-06-29",
          "2020-06-30",
          "2020-07-01",
          "2020-07-02",
          "2020-07-03",
          "2020-07-04",
          "2020-07-05",
          "2020-07-06",
          "2020-07-07",
          "2020-07-08",
          "2020-07-09",
          "2020-07-10",
          "2020-07-11",
          "2020-07-12",
          "2020-07-13",
          "2020-07-14",
          "2020-07-15",
          "2020-07-16",
          "2020-07-17",
          "2020-07-18",
          "2020-07-19",
          "2020-07-20",
          "2020-07-21",
          "2020-07-22",
          "2020-07-23",
          "2020-07-24",
          "2020-07-25",
          "2020-07-26",
          "2020-07-27",
          "2020-07-28",
          "2020-07-29",
          "2020-07-30",
          "2020-07-31",
          "2020-08-01",
          "2020-08-02",
          "2020-08-03",
          "2020-08-04",
          "2020-08-05",
          "2020-08-06",
          "2020-08-07",
          "2020-08-08",
          "2020-08-09",
          "2020-08-10",
          "2020-08-11",
          "2020-08-12",
          "2020-08-13"
         ],
         "xaxis": "x",
         "y": [
          48,
          50,
          74,
          78,
          98,
          41,
          74,
          57,
          69,
          92,
          64,
          85,
          96,
          113,
          107,
          121,
          117,
          109,
          92,
          67,
          84,
          98,
          97,
          98,
          65,
          68,
          97,
          94,
          96,
          142,
          96,
          95,
          94,
          94,
          96,
          98,
          112,
          137,
          115,
          117,
          114,
          116,
          118,
          126,
          128,
          123,
          125,
          119,
          116,
          118,
          115,
          112,
          109,
          111,
          110,
          111,
          112,
          110,
          109,
          110,
          102,
          99,
          101,
          98,
          97,
          99,
          95,
          96,
          94,
          92,
          91,
          92,
          89,
          93,
          92,
          95,
          94,
          96,
          97,
          93,
          94,
          93,
          95,
          94,
          98,
          97,
          95,
          96,
          98,
          99,
          98,
          96,
          95,
          94,
          93,
          94,
          90,
          94,
          95,
          96,
          95,
          94,
          96,
          95
         ],
         "yaxis": "y"
        },
        {
         "hovertemplate": "Регион:=Челябинская обл.<br>Date=%{x}<br>Day_confirmed=%{y}<extra></extra>",
         "legendgroup": "Челябинская обл.",
         "line": {
          "color": "#B6E880",
          "dash": "solid",
          "shape": "spline"
         },
         "mode": "lines",
         "name": "Челябинская обл.",
         "orientation": "v",
         "showlegend": true,
         "type": "scatter",
         "x": [
          "2020-05-02",
          "2020-05-03",
          "2020-05-04",
          "2020-05-05",
          "2020-05-06",
          "2020-05-07",
          "2020-05-08",
          "2020-05-09",
          "2020-05-10",
          "2020-05-11",
          "2020-05-12",
          "2020-05-13",
          "2020-05-14",
          "2020-05-15",
          "2020-05-16",
          "2020-05-17",
          "2020-05-18",
          "2020-05-19",
          "2020-05-20",
          "2020-05-21",
          "2020-05-22",
          "2020-05-23",
          "2020-05-24",
          "2020-05-25",
          "2020-05-26",
          "2020-05-27",
          "2020-05-28",
          "2020-05-29",
          "2020-05-30",
          "2020-05-31",
          "2020-06-01",
          "2020-06-02",
          "2020-06-03",
          "2020-06-04",
          "2020-06-05",
          "2020-06-06",
          "2020-06-07",
          "2020-06-08",
          "2020-06-09",
          "2020-06-10",
          "2020-06-11",
          "2020-06-12",
          "2020-06-13",
          "2020-06-14",
          "2020-06-15",
          "2020-06-16",
          "2020-06-17",
          "2020-06-18",
          "2020-06-19",
          "2020-06-20",
          "2020-06-21",
          "2020-06-22",
          "2020-06-23",
          "2020-06-24",
          "2020-06-25",
          "2020-06-26",
          "2020-06-27",
          "2020-06-28",
          "2020-06-29",
          "2020-06-30",
          "2020-07-01",
          "2020-07-02",
          "2020-07-03",
          "2020-07-04",
          "2020-07-05",
          "2020-07-06",
          "2020-07-07",
          "2020-07-08",
          "2020-07-09",
          "2020-07-10",
          "2020-07-11",
          "2020-07-12",
          "2020-07-13",
          "2020-07-14",
          "2020-07-15",
          "2020-07-16",
          "2020-07-17",
          "2020-07-18",
          "2020-07-19",
          "2020-07-20",
          "2020-07-21",
          "2020-07-22",
          "2020-07-23",
          "2020-07-24",
          "2020-07-25",
          "2020-07-26",
          "2020-07-27",
          "2020-07-28",
          "2020-07-29",
          "2020-07-30",
          "2020-07-31",
          "2020-08-01",
          "2020-08-02",
          "2020-08-03",
          "2020-08-04",
          "2020-08-05",
          "2020-08-06",
          "2020-08-07",
          "2020-08-08",
          "2020-08-09",
          "2020-08-10",
          "2020-08-11",
          "2020-08-12",
          "2020-08-13"
         ],
         "xaxis": "x",
         "y": [
          30,
          63,
          51,
          86,
          44,
          27,
          42,
          70,
          90,
          77,
          94,
          51,
          44,
          100,
          69,
          98,
          85,
          96,
          74,
          84,
          80,
          80,
          62,
          45,
          36,
          70,
          82,
          141,
          150,
          136,
          134,
          113,
          108,
          113,
          108,
          128,
          115,
          123,
          143,
          135,
          115,
          91,
          120,
          141,
          169,
          171,
          136,
          167,
          166,
          176,
          182,
          176,
          258,
          185,
          174,
          160,
          158,
          152,
          146,
          144,
          137,
          134,
          129,
          128,
          131,
          128,
          138,
          135,
          129,
          129,
          129,
          119,
          132,
          132,
          132,
          125,
          131,
          132,
          130,
          134,
          130,
          132,
          130,
          121,
          124,
          131,
          128,
          124,
          125,
          119,
          117,
          110,
          109,
          107,
          105,
          103,
          92,
          89,
          87,
          94,
          83,
          85,
          88,
          84
         ],
         "yaxis": "y"
        }
       ],
       "layout": {
        "annotations": [
         {
          "showarrow": false,
          "text": "Данные: Яндекс",
          "x": 0.5,
          "xref": "paper",
          "y": -0.15,
          "yref": "paper"
         }
        ],
        "height": 600,
        "legend": {
         "title": {
          "text": "Регион:"
         },
         "tracegroupgap": 0
        },
        "template": {
         "data": {
          "pie": [
           {
            "automargin": true,
            "type": "pie"
           }
          ]
         },
         "layout": {
          "xaxis": {
           "showgrid": true,
           "title": {
            "standoff": 15
           }
          },
          "yaxis": {
           "showgrid": true,
           "title": {
            "standoff": 15
           }
          }
         }
        },
        "title": {
         "text": "График количества новых больных по 5 регионам с наибольшим количеством заболеваний",
         "x": 0.5,
         "xanchor": "center",
         "y": 0.9,
         "yanchor": "bottom"
        },
        "width": 990,
        "xaxis": {
         "anchor": "y",
         "domain": [
          0,
          1
         ],
         "title": {
          "text": ""
         }
        },
        "yaxis": {
         "anchor": "x",
         "domain": [
          0,
          1
         ],
         "title": {
          "text": ""
         }
        }
       }
      }
     },
     "metadata": {}
    }
   ],
   "source": [
    "mask = (X.Date>datetime.date(2020,5,1))&(X.Region.isin(regions_towatch))\n",
    "#mask = (X.Region.isin(regions_towatch))\n",
    "\n",
    "fig = px.line(X[mask], y=\"Day_confirmed\", x=\"Date\",\n",
    "                             color=\"Region\", line_group=\"Region\",\n",
    "              line_shape=\"spline\", render_mode=\"notebook\",labels={'Region':'Регион:'},\n",
    "              color_discrete_map={\n",
    "                \"Москва\": \"red\",\n",
    "                \"Московская обл.\": \"magenta\",\n",
    "                \"Санкт-Петербург\": \"goldenrod\",\n",
    "                \"Нижегородская обл.\": \"darkblue\",\n",
    "                \"Свердловская обл.\": \"green\",\n",
    "                 'Россия': 'aquamarine'},\n",
    "             title=\"График количества новых больных по 5 регионам с наибольшим количеством заболеваний\")\n",
    "\n",
    "fig.update_layout(\n",
    "    annotations=[\n",
    "            dict(\n",
    "            x=0.5,\n",
    "            y=-0.15,\n",
    "            showarrow=False,\n",
    "            text=\"Данные: Яндекс\",\n",
    "            xref=\"paper\",\n",
    "            yref=\"paper\")],\n",
    "           \n",
    "                  title_x = 0.5,\n",
    "                  title_y= 0.9,\n",
    "                  title_xanchor = \"center\",\n",
    "                  title_yanchor = \"bottom\", \n",
    "                  \n",
    "                  width = 990, height = 600,template = 'gridon',\n",
    "    \n",
    "    \n",
    "                  xaxis_title='',yaxis_title = ''\n",
    ")\n",
    "\n",
    "fig.show()\n",
    "\n",
    "\n",
    "\n",
    "\n"
   ]
  },
  {
   "cell_type": "code",
   "execution_count": 10,
   "metadata": {},
   "outputs": [
    {
     "output_type": "display_data",
     "data": {
      "application/vnd.plotly.v1+json": {
       "config": {
        "plotlyServerURL": "https://plot.ly"
       },
       "data": [
        {
         "marker": {
          "color": "red"
         },
         "name": "Москва",
         "showlegend": true,
         "text": [
          null,
          null,
          null,
          null,
          null,
          null,
          null,
          2.25,
          4,
          1.5,
          2,
          1.611,
          2.125,
          3.5,
          2.438,
          2.828,
          2.059,
          2.603,
          2.038,
          3.329,
          3.381,
          2.689,
          3.314,
          2.212,
          1.915,
          2.063,
          2.017,
          2.419,
          2.496,
          1.916,
          1.894,
          1.375,
          1.331,
          1.424,
          1.393,
          1.662,
          1.626,
          1.738,
          1.717,
          1.552,
          1.614,
          1.387,
          1.369,
          1.497,
          1.612,
          1.704,
          1.718,
          1.448,
          1.007,
          1.034,
          0.889,
          0.935,
          1.187,
          1.093,
          1.105,
          1.072,
          1.047,
          1.234,
          1.613,
          1.835,
          1.909,
          1.638,
          1.34,
          1.167,
          1.055,
          1.019,
          0.965,
          0.944,
          0.906,
          0.883,
          0.842,
          0.776,
          0.771,
          0.732,
          0.723,
          0.755,
          0.737,
          0.791,
          0.834,
          0.87,
          0.908,
          0.914,
          0.852,
          0.826,
          0.831,
          0.801,
          0.931,
          1.001,
          1.02,
          1.014,
          0.901,
          0.832,
          0.805,
          0.865,
          0.927,
          0.942,
          0.875,
          0.795,
          0.758,
          0.776,
          0.91,
          0.974,
          0.971,
          0.911,
          0.797,
          0.771,
          0.748,
          0.79,
          0.867,
          0.896,
          0.914,
          0.915,
          0.849,
          0.781,
          0.806,
          0.796,
          0.834,
          0.876,
          0.885,
          0.874,
          0.872,
          0.929,
          0.955,
          0.988,
          0.99,
          0.944,
          0.918,
          0.947,
          0.991,
          1.065,
          1.076,
          1.035,
          0.954,
          0.88,
          0.875,
          0.878,
          0.95,
          1.001,
          1.042,
          1.066,
          1.074,
          1.081,
          1.073,
          1.101,
          1.083,
          1.072,
          1.051,
          1.018,
          1.013,
          1.002,
          1.009,
          1.007,
          1,
          1.01,
          1.002,
          1.004,
          1.005,
          1.002,
          1.007,
          1.007,
          1.007
         ],
         "textposition": "inside",
         "type": "bar",
         "x": [
          "2020-03-06",
          "2020-03-07",
          "2020-03-08",
          "2020-03-09",
          "2020-03-10",
          "2020-03-11",
          "2020-03-12",
          "2020-03-13",
          "2020-03-14",
          "2020-03-15",
          "2020-03-16",
          "2020-03-17",
          "2020-03-18",
          "2020-03-19",
          "2020-03-20",
          "2020-03-21",
          "2020-03-22",
          "2020-03-23",
          "2020-03-24",
          "2020-03-25",
          "2020-03-26",
          "2020-03-27",
          "2020-03-28",
          "2020-03-29",
          "2020-03-30",
          "2020-03-31",
          "2020-04-01",
          "2020-04-02",
          "2020-04-03",
          "2020-04-04",
          "2020-04-05",
          "2020-04-06",
          "2020-04-07",
          "2020-04-08",
          "2020-04-09",
          "2020-04-10",
          "2020-04-11",
          "2020-04-12",
          "2020-04-13",
          "2020-04-14",
          "2020-04-15",
          "2020-04-16",
          "2020-04-17",
          "2020-04-18",
          "2020-04-19",
          "2020-04-20",
          "2020-04-21",
          "2020-04-22",
          "2020-04-23",
          "2020-04-24",
          "2020-04-25",
          "2020-04-26",
          "2020-04-27",
          "2020-04-28",
          "2020-04-29",
          "2020-04-30",
          "2020-05-01",
          "2020-05-02",
          "2020-05-03",
          "2020-05-04",
          "2020-05-05",
          "2020-05-06",
          "2020-05-07",
          "2020-05-08",
          "2020-05-09",
          "2020-05-10",
          "2020-05-11",
          "2020-05-12",
          "2020-05-13",
          "2020-05-14",
          "2020-05-15",
          "2020-05-16",
          "2020-05-17",
          "2020-05-18",
          "2020-05-19",
          "2020-05-20",
          "2020-05-21",
          "2020-05-22",
          "2020-05-23",
          "2020-05-24",
          "2020-05-25",
          "2020-05-26",
          "2020-05-27",
          "2020-05-28",
          "2020-05-29",
          "2020-05-30",
          "2020-05-31",
          "2020-06-01",
          "2020-06-02",
          "2020-06-03",
          "2020-06-04",
          "2020-06-05",
          "2020-06-06",
          "2020-06-07",
          "2020-06-08",
          "2020-06-09",
          "2020-06-10",
          "2020-06-11",
          "2020-06-12",
          "2020-06-13",
          "2020-06-14",
          "2020-06-15",
          "2020-06-16",
          "2020-06-17",
          "2020-06-18",
          "2020-06-19",
          "2020-06-20",
          "2020-06-21",
          "2020-06-22",
          "2020-06-23",
          "2020-06-24",
          "2020-06-25",
          "2020-06-26",
          "2020-06-27",
          "2020-06-28",
          "2020-06-29",
          "2020-06-30",
          "2020-07-01",
          "2020-07-02",
          "2020-07-03",
          "2020-07-04",
          "2020-07-05",
          "2020-07-06",
          "2020-07-07",
          "2020-07-08",
          "2020-07-09",
          "2020-07-10",
          "2020-07-11",
          "2020-07-12",
          "2020-07-13",
          "2020-07-14",
          "2020-07-15",
          "2020-07-16",
          "2020-07-17",
          "2020-07-18",
          "2020-07-19",
          "2020-07-20",
          "2020-07-21",
          "2020-07-22",
          "2020-07-23",
          "2020-07-24",
          "2020-07-25",
          "2020-07-26",
          "2020-07-27",
          "2020-07-28",
          "2020-07-29",
          "2020-07-30",
          "2020-07-31",
          "2020-08-01",
          "2020-08-02",
          "2020-08-03",
          "2020-08-04",
          "2020-08-05",
          "2020-08-06",
          "2020-08-07",
          "2020-08-08",
          "2020-08-09",
          "2020-08-10",
          "2020-08-11",
          "2020-08-12",
          "2020-08-13"
         ],
         "y": [
          null,
          null,
          null,
          null,
          null,
          null,
          null,
          2.25,
          4,
          1.5,
          2,
          1.611,
          2.125,
          3.5,
          2.438,
          2.8280000000000003,
          2.059,
          2.603,
          2.0380000000000003,
          3.3289999999999997,
          3.3810000000000002,
          2.6889999999999996,
          3.3139999999999996,
          2.2119999999999997,
          1.915,
          2.063,
          2.017,
          2.419,
          2.496,
          1.916,
          1.8940000000000001,
          1.375,
          1.331,
          1.4240000000000002,
          1.393,
          1.662,
          1.626,
          1.7380000000000002,
          1.7169999999999999,
          1.5519999999999998,
          1.614,
          1.3869999999999998,
          1.369,
          1.4969999999999999,
          1.6119999999999999,
          1.704,
          1.7180000000000002,
          1.4480000000000002,
          1.0070000000000001,
          1.034,
          0.889,
          0.935,
          1.187,
          1.093,
          1.105,
          1.072,
          1.047,
          1.234,
          1.6130000000000002,
          1.835,
          1.909,
          1.6380000000000001,
          1.34,
          1.167,
          1.055,
          1.0190000000000001,
          0.965,
          0.9440000000000001,
          0.9059999999999999,
          0.883,
          0.8420000000000001,
          0.7759999999999999,
          0.7709999999999999,
          0.732,
          0.723,
          0.755,
          0.737,
          0.7909999999999999,
          0.8340000000000001,
          0.87,
          0.9079999999999999,
          0.914,
          0.852,
          0.826,
          0.831,
          0.8009999999999999,
          0.9309999999999999,
          1.001,
          1.02,
          1.014,
          0.9009999999999999,
          0.8320000000000001,
          0.805,
          0.865,
          0.927,
          0.9420000000000001,
          0.875,
          0.795,
          0.758,
          0.7759999999999999,
          0.91,
          0.9740000000000001,
          0.971,
          0.9109999999999999,
          0.797,
          0.7709999999999999,
          0.748,
          0.79,
          0.867,
          0.8959999999999999,
          0.914,
          0.915,
          0.8490000000000001,
          0.7809999999999999,
          0.8059999999999999,
          0.7959999999999999,
          0.8340000000000001,
          0.8759999999999999,
          0.885,
          0.8740000000000001,
          0.872,
          0.929,
          0.955,
          0.988,
          0.99,
          0.9440000000000001,
          0.9179999999999999,
          0.9470000000000001,
          0.991,
          1.065,
          1.0759999999999998,
          1.035,
          0.9540000000000001,
          0.88,
          0.875,
          0.878,
          0.95,
          1.001,
          1.042,
          1.0659999999999998,
          1.074,
          1.081,
          1.073,
          1.101,
          1.083,
          1.072,
          1.051,
          1.018,
          1.013,
          1.002,
          1.0090000000000001,
          1.0070000000000001,
          1,
          1.01,
          1.002,
          1.004,
          1.005,
          1.002,
          1.0070000000000001,
          1.0070000000000001,
          1.0070000000000001
         ]
        },
        {
         "marker": {
          "color": "magenta"
         },
         "name": "Московская обл.",
         "showlegend": true,
         "text": [
          null,
          null,
          null,
          null,
          null,
          null,
          null,
          1,
          null,
          null,
          2,
          3,
          4,
          1.667,
          2,
          2.333,
          1.5,
          1.6,
          2.5,
          3.286,
          3.833,
          2.25,
          1.7,
          0.261,
          0.261,
          0.778,
          2.941,
          11.833,
          13,
          5,
          0.98,
          0.915,
          1.179,
          2.014,
          3.49,
          3.231,
          2.641,
          2.05,
          2.591,
          2.586,
          2.584,
          2.806,
          2.499,
          2.551,
          2.396,
          2.089,
          1.509,
          1.183,
          1.379,
          1.291,
          1.456,
          1.608,
          1.26,
          1.211,
          1.042,
          0.941,
          0.929,
          0.884,
          0.956,
          1.065,
          1.152,
          1.316,
          1.329,
          1.223,
          1.163,
          1.063,
          1.024,
          1.056,
          1.126,
          1.211,
          1.276,
          1.275,
          1.156,
          1.014,
          0.925,
          0.865,
          0.875,
          0.922,
          0.942,
          0.965,
          0.975,
          0.948,
          0.946,
          0.944,
          0.931,
          0.954,
          0.953,
          0.939,
          0.939,
          0.916,
          0.92,
          0.931,
          0.935,
          0.96,
          0.975,
          1.001,
          1.024,
          1.03,
          1.021,
          1.002,
          0.985,
          0.97,
          0.968,
          0.971,
          0.972,
          0.97,
          0.965,
          0.954,
          0.943,
          0.939,
          0.915,
          0.882,
          0.84,
          0.8,
          0.8,
          0.809,
          0.815,
          0.805,
          0.749,
          0.714,
          0.71,
          0.732,
          0.813,
          0.863,
          0.901,
          0.929,
          0.915,
          0.844,
          0.794,
          0.726,
          0.661,
          0.75,
          0.817,
          0.912,
          1.022,
          0.988,
          0.955,
          0.912,
          0.881,
          0.895,
          0.895,
          0.909,
          0.876,
          0.841,
          0.852,
          0.873,
          0.965,
          0.998,
          0.986,
          0.968,
          0.941,
          0.97,
          1.041,
          1.099,
          1.128,
          1.126,
          1.103,
          1.07,
          1.039,
          1.021,
          0.98,
          0.967,
          0.964,
          0.95,
          0.968
         ],
         "textposition": "inside",
         "type": "bar",
         "x": [
          "2020-03-02",
          "2020-03-03",
          "2020-03-04",
          "2020-03-05",
          "2020-03-06",
          "2020-03-07",
          "2020-03-08",
          "2020-03-09",
          "2020-03-10",
          "2020-03-11",
          "2020-03-12",
          "2020-03-13",
          "2020-03-14",
          "2020-03-15",
          "2020-03-16",
          "2020-03-17",
          "2020-03-18",
          "2020-03-19",
          "2020-03-20",
          "2020-03-21",
          "2020-03-22",
          "2020-03-23",
          "2020-03-24",
          "2020-03-25",
          "2020-03-26",
          "2020-03-27",
          "2020-03-28",
          "2020-03-29",
          "2020-03-30",
          "2020-03-31",
          "2020-04-01",
          "2020-04-02",
          "2020-04-03",
          "2020-04-04",
          "2020-04-05",
          "2020-04-06",
          "2020-04-07",
          "2020-04-08",
          "2020-04-09",
          "2020-04-10",
          "2020-04-11",
          "2020-04-12",
          "2020-04-13",
          "2020-04-14",
          "2020-04-15",
          "2020-04-16",
          "2020-04-17",
          "2020-04-18",
          "2020-04-19",
          "2020-04-20",
          "2020-04-21",
          "2020-04-22",
          "2020-04-23",
          "2020-04-24",
          "2020-04-25",
          "2020-04-26",
          "2020-04-27",
          "2020-04-28",
          "2020-04-29",
          "2020-04-30",
          "2020-05-01",
          "2020-05-02",
          "2020-05-03",
          "2020-05-04",
          "2020-05-05",
          "2020-05-06",
          "2020-05-07",
          "2020-05-08",
          "2020-05-09",
          "2020-05-10",
          "2020-05-11",
          "2020-05-12",
          "2020-05-13",
          "2020-05-14",
          "2020-05-15",
          "2020-05-16",
          "2020-05-17",
          "2020-05-18",
          "2020-05-19",
          "2020-05-20",
          "2020-05-21",
          "2020-05-22",
          "2020-05-23",
          "2020-05-24",
          "2020-05-25",
          "2020-05-26",
          "2020-05-27",
          "2020-05-28",
          "2020-05-29",
          "2020-05-30",
          "2020-05-31",
          "2020-06-01",
          "2020-06-02",
          "2020-06-03",
          "2020-06-04",
          "2020-06-05",
          "2020-06-06",
          "2020-06-07",
          "2020-06-08",
          "2020-06-09",
          "2020-06-10",
          "2020-06-11",
          "2020-06-12",
          "2020-06-13",
          "2020-06-14",
          "2020-06-15",
          "2020-06-16",
          "2020-06-17",
          "2020-06-18",
          "2020-06-19",
          "2020-06-20",
          "2020-06-21",
          "2020-06-22",
          "2020-06-23",
          "2020-06-24",
          "2020-06-25",
          "2020-06-26",
          "2020-06-27",
          "2020-06-28",
          "2020-06-29",
          "2020-06-30",
          "2020-07-01",
          "2020-07-02",
          "2020-07-03",
          "2020-07-04",
          "2020-07-05",
          "2020-07-06",
          "2020-07-07",
          "2020-07-08",
          "2020-07-09",
          "2020-07-10",
          "2020-07-11",
          "2020-07-12",
          "2020-07-13",
          "2020-07-14",
          "2020-07-15",
          "2020-07-16",
          "2020-07-17",
          "2020-07-18",
          "2020-07-19",
          "2020-07-20",
          "2020-07-21",
          "2020-07-22",
          "2020-07-23",
          "2020-07-24",
          "2020-07-25",
          "2020-07-26",
          "2020-07-27",
          "2020-07-28",
          "2020-07-29",
          "2020-07-30",
          "2020-07-31",
          "2020-08-01",
          "2020-08-02",
          "2020-08-03",
          "2020-08-04",
          "2020-08-05",
          "2020-08-06",
          "2020-08-07",
          "2020-08-08",
          "2020-08-09",
          "2020-08-10",
          "2020-08-11",
          "2020-08-12",
          "2020-08-13"
         ],
         "y": [
          null,
          null,
          null,
          null,
          null,
          null,
          null,
          1,
          null,
          null,
          2,
          3,
          4,
          1.6669999999999998,
          2,
          2.333,
          1.5,
          1.6,
          2.5,
          3.286,
          3.833,
          2.25,
          1.7,
          0.261,
          0.261,
          0.778,
          2.9410000000000003,
          11.833,
          13,
          5,
          0.98,
          0.915,
          1.179,
          2.0140000000000002,
          3.49,
          3.2310000000000003,
          2.641,
          2.05,
          2.591,
          2.5860000000000003,
          2.5839999999999996,
          2.806,
          2.499,
          2.551,
          2.396,
          2.089,
          1.5090000000000001,
          1.183,
          1.379,
          1.291,
          1.456,
          1.608,
          1.26,
          1.2109999999999999,
          1.042,
          0.941,
          0.929,
          0.884,
          0.956,
          1.065,
          1.1520000000000001,
          1.3159999999999998,
          1.329,
          1.2229999999999999,
          1.163,
          1.063,
          1.024,
          1.056,
          1.126,
          1.2109999999999999,
          1.276,
          1.275,
          1.156,
          1.014,
          0.925,
          0.865,
          0.875,
          0.922,
          0.9420000000000001,
          0.965,
          0.975,
          0.948,
          0.946,
          0.9440000000000001,
          0.9309999999999999,
          0.9540000000000001,
          0.953,
          0.9390000000000001,
          0.9390000000000001,
          0.9159999999999999,
          0.92,
          0.9309999999999999,
          0.935,
          0.96,
          0.975,
          1.001,
          1.024,
          1.03,
          1.021,
          1.002,
          0.985,
          0.97,
          0.968,
          0.971,
          0.972,
          0.97,
          0.965,
          0.9540000000000001,
          0.943,
          0.9390000000000001,
          0.915,
          0.882,
          0.84,
          0.8,
          0.8,
          0.809,
          0.815,
          0.805,
          0.7490000000000001,
          0.7140000000000001,
          0.71,
          0.732,
          0.813,
          0.863,
          0.9009999999999999,
          0.929,
          0.915,
          0.8440000000000001,
          0.794,
          0.726,
          0.6609999999999999,
          0.75,
          0.8170000000000001,
          0.912,
          1.022,
          0.988,
          0.955,
          0.912,
          0.8809999999999999,
          0.895,
          0.895,
          0.909,
          0.8759999999999999,
          0.841,
          0.852,
          0.873,
          0.965,
          0.998,
          0.986,
          0.968,
          0.941,
          0.97,
          1.041,
          1.099,
          1.128,
          1.126,
          1.103,
          1.07,
          1.0390000000000001,
          1.021,
          0.98,
          0.9670000000000001,
          0.9640000000000001,
          0.95,
          0.968
         ]
        },
        {
         "marker": {
          "color": "goldenrod"
         },
         "name": "Санкт-Петербург",
         "showlegend": true,
         "text": [
          null,
          null,
          null,
          null,
          null,
          null,
          null,
          4,
          null,
          null,
          1.667,
          1,
          1.25,
          0.857,
          1.4,
          1.75,
          1.2,
          1.167,
          0.714,
          1.429,
          1.667,
          2.286,
          4.2,
          2.4,
          7.2,
          5.5,
          5,
          4.417,
          1.014,
          0.75,
          0.752,
          1.311,
          2.164,
          2.758,
          2.304,
          1.388,
          1.443,
          1.676,
          2.148,
          2.285,
          2.307,
          2.718,
          2.166,
          1.884,
          1.451,
          0.562,
          0.733,
          0.84,
          1.134,
          2.045,
          1.304,
          1.117,
          0.838,
          0.839,
          1.216,
          1.504,
          1.79,
          1.629,
          1.304,
          0.99,
          0.886,
          0.891,
          0.949,
          1.221,
          1.322,
          1.31,
          1.218,
          1.054,
          1.014,
          1.167,
          1.321,
          1.322,
          1.26,
          1.045,
          0.91,
          0.881,
          0.878,
          0.871,
          0.865,
          0.867,
          0.87,
          0.934,
          0.976,
          0.995,
          1.013,
          0.985,
          0.973,
          0.981,
          0.99,
          1.006,
          1.029,
          1.004,
          0.967,
          0.93,
          0.882,
          0.876,
          0.875,
          0.868,
          0.866,
          0.844,
          0.829,
          0.831,
          0.842,
          0.863,
          0.882,
          0.915,
          0.948,
          0.959,
          0.975,
          0.962,
          0.952,
          0.974,
          0.987,
          1.001,
          1.008,
          1.035,
          1.073,
          1.121,
          1.173,
          1.154,
          1.122,
          1.098,
          1.066,
          1.07,
          1.073,
          1.07,
          1.072,
          1.047,
          1.031,
          0.997,
          0.954,
          0.925,
          0.886,
          0.863,
          0.833,
          0.805,
          0.789,
          0.77,
          0.802,
          0.842,
          0.886,
          0.931,
          0.938,
          0.938,
          0.932,
          0.928,
          0.925,
          0.932,
          0.949,
          0.964,
          0.982,
          0.985,
          0.981,
          0.98,
          0.977,
          0.991,
          0.994,
          0.998,
          1.013,
          1.006
         ],
         "textposition": "inside",
         "type": "bar",
         "x": [
          "2020-03-07",
          "2020-03-08",
          "2020-03-09",
          "2020-03-10",
          "2020-03-11",
          "2020-03-12",
          "2020-03-13",
          "2020-03-14",
          "2020-03-15",
          "2020-03-16",
          "2020-03-17",
          "2020-03-18",
          "2020-03-19",
          "2020-03-20",
          "2020-03-21",
          "2020-03-22",
          "2020-03-23",
          "2020-03-24",
          "2020-03-25",
          "2020-03-26",
          "2020-03-27",
          "2020-03-28",
          "2020-03-29",
          "2020-03-30",
          "2020-03-31",
          "2020-04-01",
          "2020-04-02",
          "2020-04-03",
          "2020-04-04",
          "2020-04-05",
          "2020-04-06",
          "2020-04-07",
          "2020-04-08",
          "2020-04-09",
          "2020-04-10",
          "2020-04-11",
          "2020-04-12",
          "2020-04-13",
          "2020-04-14",
          "2020-04-15",
          "2020-04-16",
          "2020-04-17",
          "2020-04-18",
          "2020-04-19",
          "2020-04-20",
          "2020-04-21",
          "2020-04-22",
          "2020-04-23",
          "2020-04-24",
          "2020-04-25",
          "2020-04-26",
          "2020-04-27",
          "2020-04-28",
          "2020-04-29",
          "2020-04-30",
          "2020-05-01",
          "2020-05-02",
          "2020-05-03",
          "2020-05-04",
          "2020-05-05",
          "2020-05-06",
          "2020-05-07",
          "2020-05-08",
          "2020-05-09",
          "2020-05-10",
          "2020-05-11",
          "2020-05-12",
          "2020-05-13",
          "2020-05-14",
          "2020-05-15",
          "2020-05-16",
          "2020-05-17",
          "2020-05-18",
          "2020-05-19",
          "2020-05-20",
          "2020-05-21",
          "2020-05-22",
          "2020-05-23",
          "2020-05-24",
          "2020-05-25",
          "2020-05-26",
          "2020-05-27",
          "2020-05-28",
          "2020-05-29",
          "2020-05-30",
          "2020-05-31",
          "2020-06-01",
          "2020-06-02",
          "2020-06-03",
          "2020-06-04",
          "2020-06-05",
          "2020-06-06",
          "2020-06-07",
          "2020-06-08",
          "2020-06-09",
          "2020-06-10",
          "2020-06-11",
          "2020-06-12",
          "2020-06-13",
          "2020-06-14",
          "2020-06-15",
          "2020-06-16",
          "2020-06-17",
          "2020-06-18",
          "2020-06-19",
          "2020-06-20",
          "2020-06-21",
          "2020-06-22",
          "2020-06-23",
          "2020-06-24",
          "2020-06-25",
          "2020-06-26",
          "2020-06-27",
          "2020-06-28",
          "2020-06-29",
          "2020-06-30",
          "2020-07-01",
          "2020-07-02",
          "2020-07-03",
          "2020-07-04",
          "2020-07-05",
          "2020-07-06",
          "2020-07-07",
          "2020-07-08",
          "2020-07-09",
          "2020-07-10",
          "2020-07-11",
          "2020-07-12",
          "2020-07-13",
          "2020-07-14",
          "2020-07-15",
          "2020-07-16",
          "2020-07-17",
          "2020-07-18",
          "2020-07-19",
          "2020-07-20",
          "2020-07-21",
          "2020-07-22",
          "2020-07-23",
          "2020-07-24",
          "2020-07-25",
          "2020-07-26",
          "2020-07-27",
          "2020-07-28",
          "2020-07-29",
          "2020-07-30",
          "2020-07-31",
          "2020-08-01",
          "2020-08-02",
          "2020-08-03",
          "2020-08-04",
          "2020-08-05",
          "2020-08-06",
          "2020-08-07",
          "2020-08-08",
          "2020-08-09",
          "2020-08-10",
          "2020-08-11",
          "2020-08-12",
          "2020-08-13"
         ],
         "y": [
          null,
          null,
          null,
          null,
          null,
          null,
          null,
          4,
          null,
          null,
          1.6669999999999998,
          1,
          1.25,
          0.857,
          1.4,
          1.75,
          1.2,
          1.167,
          0.7140000000000001,
          1.429,
          1.6669999999999998,
          2.286,
          4.2,
          2.4,
          7.2,
          5.5,
          5,
          4.417,
          1.014,
          0.75,
          0.752,
          1.311,
          2.164,
          2.758,
          2.3040000000000003,
          1.3880000000000001,
          1.443,
          1.676,
          2.148,
          2.285,
          2.307,
          2.718,
          2.166,
          1.8840000000000001,
          1.4509999999999998,
          0.562,
          0.733,
          0.84,
          1.1340000000000001,
          2.045,
          1.304,
          1.117,
          0.838,
          0.8390000000000001,
          1.216,
          1.504,
          1.79,
          1.629,
          1.304,
          0.99,
          0.8859999999999999,
          0.8909999999999999,
          0.9490000000000001,
          1.2209999999999999,
          1.3219999999999998,
          1.31,
          1.218,
          1.054,
          1.014,
          1.167,
          1.321,
          1.3219999999999998,
          1.26,
          1.045,
          0.91,
          0.8809999999999999,
          0.878,
          0.871,
          0.865,
          0.867,
          0.87,
          0.934,
          0.976,
          0.995,
          1.013,
          0.985,
          0.973,
          0.981,
          0.99,
          1.006,
          1.0290000000000001,
          1.004,
          0.9670000000000001,
          0.93,
          0.882,
          0.8759999999999999,
          0.875,
          0.868,
          0.866,
          0.8440000000000001,
          0.8290000000000001,
          0.831,
          0.8420000000000001,
          0.863,
          0.882,
          0.915,
          0.948,
          0.9590000000000001,
          0.975,
          0.9620000000000001,
          0.9520000000000001,
          0.9740000000000001,
          0.987,
          1.001,
          1.008,
          1.035,
          1.073,
          1.121,
          1.173,
          1.1540000000000001,
          1.122,
          1.0979999999999999,
          1.0659999999999998,
          1.07,
          1.073,
          1.07,
          1.072,
          1.047,
          1.031,
          0.997,
          0.9540000000000001,
          0.925,
          0.8859999999999999,
          0.863,
          0.833,
          0.805,
          0.789,
          0.77,
          0.802,
          0.8420000000000001,
          0.8859999999999999,
          0.9309999999999999,
          0.938,
          0.938,
          0.932,
          0.9279999999999999,
          0.925,
          0.932,
          0.9490000000000001,
          0.9640000000000001,
          0.982,
          0.985,
          0.981,
          0.98,
          0.977,
          0.991,
          0.9940000000000001,
          0.998,
          1.013,
          1.006
         ]
        },
        {
         "name": "Челябинская обл.",
         "showlegend": true,
         "text": [
          null,
          null,
          null,
          null,
          null,
          null,
          null,
          null,
          null,
          null,
          null,
          null,
          null,
          1,
          4,
          4,
          8,
          10,
          2.25,
          2.25,
          1.5,
          0.9,
          1,
          1.333,
          0.5,
          1.111,
          1,
          0.5,
          1.167,
          0.3,
          0.889,
          1.333,
          1.286,
          4.667,
          1.375,
          1.625,
          1.556,
          0.929,
          1.545,
          1.923,
          2.5,
          3.154,
          2.529,
          3.6,
          4.229,
          4.878,
          5.791,
          2.667,
          1.264,
          0.96,
          0.715,
          0.667,
          1.091,
          0.979,
          1.292,
          1.525,
          1.02,
          1.059,
          0.796,
          0.939,
          1.341,
          1.663,
          1.705,
          1.162,
          1.036,
          0.798,
          0.997,
          1.323,
          1.204,
          1.337,
          1.09,
          0.949,
          0.914,
          0.867,
          0.788,
          0.668,
          0.67,
          0.761,
          1.232,
          1.987,
          2.39,
          2.408,
          1.62,
          1.108,
          0.919,
          0.788,
          0.857,
          0.945,
          1.013,
          1.152,
          1.129,
          1.112,
          1.021,
          0.906,
          0.905,
          1.01,
          1.242,
          1.338,
          1.377,
          1.228,
          1.073,
          1.12,
          1.089,
          1.238,
          1.242,
          1.148,
          1.11,
          0.855,
          0.804,
          0.777,
          0.772,
          0.855,
          0.871,
          0.883,
          0.88,
          0.902,
          0.92,
          0.965,
          1.008,
          1.015,
          1.029,
          0.994,
          0.951,
          0.96,
          0.964,
          0.987,
          1.03,
          1.022,
          1.016,
          1.006,
          1.012,
          1.012,
          1.012,
          1.015,
          0.973,
          0.964,
          0.962,
          0.958,
          0.988,
          1.002,
          0.98,
          0.962,
          0.929,
          0.896,
          0.893,
          0.889,
          0.9,
          0.895,
          0.878,
          0.861,
          0.854,
          0.867,
          0.897,
          0.943,
          0.939
         ],
         "textposition": "inside",
         "type": "bar",
         "x": [
          "2020-03-12",
          "2020-03-13",
          "2020-03-14",
          "2020-03-15",
          "2020-03-16",
          "2020-03-17",
          "2020-03-18",
          "2020-03-19",
          "2020-03-20",
          "2020-03-21",
          "2020-03-22",
          "2020-03-23",
          "2020-03-24",
          "2020-03-25",
          "2020-03-26",
          "2020-03-27",
          "2020-03-28",
          "2020-03-29",
          "2020-03-30",
          "2020-03-31",
          "2020-04-01",
          "2020-04-02",
          "2020-04-03",
          "2020-04-04",
          "2020-04-05",
          "2020-04-06",
          "2020-04-07",
          "2020-04-08",
          "2020-04-09",
          "2020-04-10",
          "2020-04-11",
          "2020-04-12",
          "2020-04-13",
          "2020-04-14",
          "2020-04-15",
          "2020-04-16",
          "2020-04-17",
          "2020-04-18",
          "2020-04-19",
          "2020-04-20",
          "2020-04-21",
          "2020-04-22",
          "2020-04-23",
          "2020-04-24",
          "2020-04-25",
          "2020-04-26",
          "2020-04-27",
          "2020-04-28",
          "2020-04-29",
          "2020-04-30",
          "2020-05-01",
          "2020-05-02",
          "2020-05-03",
          "2020-05-04",
          "2020-05-05",
          "2020-05-06",
          "2020-05-07",
          "2020-05-08",
          "2020-05-09",
          "2020-05-10",
          "2020-05-11",
          "2020-05-12",
          "2020-05-13",
          "2020-05-14",
          "2020-05-15",
          "2020-05-16",
          "2020-05-17",
          "2020-05-18",
          "2020-05-19",
          "2020-05-20",
          "2020-05-21",
          "2020-05-22",
          "2020-05-23",
          "2020-05-24",
          "2020-05-25",
          "2020-05-26",
          "2020-05-27",
          "2020-05-28",
          "2020-05-29",
          "2020-05-30",
          "2020-05-31",
          "2020-06-01",
          "2020-06-02",
          "2020-06-03",
          "2020-06-04",
          "2020-06-05",
          "2020-06-06",
          "2020-06-07",
          "2020-06-08",
          "2020-06-09",
          "2020-06-10",
          "2020-06-11",
          "2020-06-12",
          "2020-06-13",
          "2020-06-14",
          "2020-06-15",
          "2020-06-16",
          "2020-06-17",
          "2020-06-18",
          "2020-06-19",
          "2020-06-20",
          "2020-06-21",
          "2020-06-22",
          "2020-06-23",
          "2020-06-24",
          "2020-06-25",
          "2020-06-26",
          "2020-06-27",
          "2020-06-28",
          "2020-06-29",
          "2020-06-30",
          "2020-07-01",
          "2020-07-02",
          "2020-07-03",
          "2020-07-04",
          "2020-07-05",
          "2020-07-06",
          "2020-07-07",
          "2020-07-08",
          "2020-07-09",
          "2020-07-10",
          "2020-07-11",
          "2020-07-12",
          "2020-07-13",
          "2020-07-14",
          "2020-07-15",
          "2020-07-16",
          "2020-07-17",
          "2020-07-18",
          "2020-07-19",
          "2020-07-20",
          "2020-07-21",
          "2020-07-22",
          "2020-07-23",
          "2020-07-24",
          "2020-07-25",
          "2020-07-26",
          "2020-07-27",
          "2020-07-28",
          "2020-07-29",
          "2020-07-30",
          "2020-07-31",
          "2020-08-01",
          "2020-08-02",
          "2020-08-03",
          "2020-08-04",
          "2020-08-05",
          "2020-08-06",
          "2020-08-07",
          "2020-08-08",
          "2020-08-09",
          "2020-08-10",
          "2020-08-11",
          "2020-08-12",
          "2020-08-13"
         ],
         "y": [
          null,
          null,
          null,
          null,
          null,
          null,
          null,
          null,
          null,
          null,
          null,
          null,
          null,
          1,
          4,
          4,
          8,
          10,
          2.25,
          2.25,
          1.5,
          0.9,
          1,
          1.3330000000000002,
          0.5,
          1.111,
          1,
          0.5,
          1.167,
          0.3,
          0.889,
          1.3330000000000002,
          1.286,
          4.667,
          1.375,
          1.625,
          1.556,
          0.929,
          1.545,
          1.923,
          2.5,
          3.154,
          2.529,
          3.6,
          4.229,
          4.878,
          5.791,
          2.667,
          1.264,
          0.96,
          0.715,
          0.667,
          1.091,
          0.9790000000000001,
          1.2919999999999998,
          1.525,
          1.02,
          1.0590000000000002,
          0.7959999999999999,
          0.9390000000000001,
          1.341,
          1.663,
          1.705,
          1.162,
          1.036,
          0.7979999999999999,
          0.997,
          1.3230000000000002,
          1.204,
          1.337,
          1.09,
          0.9490000000000001,
          0.914,
          0.867,
          0.7879999999999999,
          0.6679999999999999,
          0.67,
          0.7609999999999999,
          1.232,
          1.9869999999999999,
          2.39,
          2.408,
          1.62,
          1.1079999999999999,
          0.919,
          0.7879999999999999,
          0.857,
          0.945,
          1.013,
          1.1520000000000001,
          1.129,
          1.112,
          1.021,
          0.9059999999999999,
          0.905,
          1.01,
          1.242,
          1.338,
          1.3769999999999998,
          1.228,
          1.073,
          1.12,
          1.089,
          1.238,
          1.242,
          1.148,
          1.11,
          0.855,
          0.804,
          0.777,
          0.772,
          0.855,
          0.871,
          0.883,
          0.88,
          0.902,
          0.92,
          0.965,
          1.008,
          1.015,
          1.0290000000000001,
          0.9940000000000001,
          0.951,
          0.96,
          0.9640000000000001,
          0.987,
          1.03,
          1.022,
          1.016,
          1.006,
          1.012,
          1.012,
          1.012,
          1.015,
          0.973,
          0.9640000000000001,
          0.9620000000000001,
          0.958,
          0.988,
          1.002,
          0.98,
          0.9620000000000001,
          0.929,
          0.8959999999999999,
          0.893,
          0.889,
          0.9,
          0.895,
          0.878,
          0.861,
          0.8540000000000001,
          0.867,
          0.897,
          0.943,
          0.9390000000000001
         ]
        },
        {
         "name": "Саратовская обл.",
         "showlegend": true,
         "text": [
          null,
          null,
          null,
          null,
          null,
          null,
          null,
          null,
          null,
          null,
          null,
          0,
          0,
          0,
          0,
          null,
          null,
          null,
          null,
          null,
          13,
          13,
          5,
          5,
          0.308,
          0.308,
          0.4,
          0.467,
          2.75,
          3.75,
          1.667,
          2.286,
          1.273,
          1,
          2.1,
          1.75,
          3.071,
          3.267,
          2.762,
          2.571,
          1.884,
          1.878,
          1.983,
          1.431,
          1.198,
          1.25,
          0.852,
          1.107,
          1.309,
          1.157,
          1.633,
          1.544,
          1.52,
          1.662,
          1.562,
          1.705,
          1.508,
          1.317,
          1.08,
          0.803,
          1.003,
          0.969,
          1.148,
          1.398,
          1.226,
          1.422,
          1.41,
          1.359,
          1.268,
          1.095,
          0.881,
          0.769,
          0.751,
          0.788,
          0.979,
          1.017,
          0.962,
          0.948,
          0.859,
          0.992,
          1.308,
          1.305,
          1.324,
          1.203,
          0.883,
          0.886,
          0.89,
          0.937,
          1.169,
          1.219,
          1.259,
          1.208,
          1.043,
          1.006,
          0.985,
          1.01,
          1.071,
          1.08,
          1.044,
          0.99,
          0.966,
          0.932,
          0.931,
          0.94,
          0.935,
          0.944,
          0.957,
          0.978,
          0.991,
          1,
          1,
          0.971,
          0.948,
          0.932,
          0.907,
          0.916,
          0.94,
          0.944,
          0.968,
          0.972,
          0.954,
          0.959,
          0.953,
          0.948,
          0.968,
          0.981,
          1,
          1.027,
          1.033,
          1.044,
          1.03,
          1.016,
          1,
          0.982,
          0.989,
          1,
          1.019,
          1.024,
          1.027,
          1.016,
          1.01,
          1.018,
          1.013,
          1.005,
          0.987,
          0.967,
          0.962,
          0.956,
          0.969,
          0.987,
          0.997,
          1.024,
          1.024,
          1.021,
          1.013
         ],
         "textposition": "inside",
         "type": "bar",
         "x": [
          "2020-03-12",
          "2020-03-13",
          "2020-03-14",
          "2020-03-15",
          "2020-03-16",
          "2020-03-17",
          "2020-03-18",
          "2020-03-19",
          "2020-03-20",
          "2020-03-21",
          "2020-03-22",
          "2020-03-23",
          "2020-03-24",
          "2020-03-25",
          "2020-03-26",
          "2020-03-27",
          "2020-03-28",
          "2020-03-29",
          "2020-03-30",
          "2020-03-31",
          "2020-04-01",
          "2020-04-02",
          "2020-04-03",
          "2020-04-04",
          "2020-04-05",
          "2020-04-06",
          "2020-04-07",
          "2020-04-08",
          "2020-04-09",
          "2020-04-10",
          "2020-04-11",
          "2020-04-12",
          "2020-04-13",
          "2020-04-14",
          "2020-04-15",
          "2020-04-16",
          "2020-04-17",
          "2020-04-18",
          "2020-04-19",
          "2020-04-20",
          "2020-04-21",
          "2020-04-22",
          "2020-04-23",
          "2020-04-24",
          "2020-04-25",
          "2020-04-26",
          "2020-04-27",
          "2020-04-28",
          "2020-04-29",
          "2020-04-30",
          "2020-05-01",
          "2020-05-02",
          "2020-05-03",
          "2020-05-04",
          "2020-05-05",
          "2020-05-06",
          "2020-05-07",
          "2020-05-08",
          "2020-05-09",
          "2020-05-10",
          "2020-05-11",
          "2020-05-12",
          "2020-05-13",
          "2020-05-14",
          "2020-05-15",
          "2020-05-16",
          "2020-05-17",
          "2020-05-18",
          "2020-05-19",
          "2020-05-20",
          "2020-05-21",
          "2020-05-22",
          "2020-05-23",
          "2020-05-24",
          "2020-05-25",
          "2020-05-26",
          "2020-05-27",
          "2020-05-28",
          "2020-05-29",
          "2020-05-30",
          "2020-05-31",
          "2020-06-01",
          "2020-06-02",
          "2020-06-03",
          "2020-06-04",
          "2020-06-05",
          "2020-06-06",
          "2020-06-07",
          "2020-06-08",
          "2020-06-09",
          "2020-06-10",
          "2020-06-11",
          "2020-06-12",
          "2020-06-13",
          "2020-06-14",
          "2020-06-15",
          "2020-06-16",
          "2020-06-17",
          "2020-06-18",
          "2020-06-19",
          "2020-06-20",
          "2020-06-21",
          "2020-06-22",
          "2020-06-23",
          "2020-06-24",
          "2020-06-25",
          "2020-06-26",
          "2020-06-27",
          "2020-06-28",
          "2020-06-29",
          "2020-06-30",
          "2020-07-01",
          "2020-07-02",
          "2020-07-03",
          "2020-07-04",
          "2020-07-05",
          "2020-07-06",
          "2020-07-07",
          "2020-07-08",
          "2020-07-09",
          "2020-07-10",
          "2020-07-11",
          "2020-07-12",
          "2020-07-13",
          "2020-07-14",
          "2020-07-15",
          "2020-07-16",
          "2020-07-17",
          "2020-07-18",
          "2020-07-19",
          "2020-07-20",
          "2020-07-21",
          "2020-07-22",
          "2020-07-23",
          "2020-07-24",
          "2020-07-25",
          "2020-07-26",
          "2020-07-27",
          "2020-07-28",
          "2020-07-29",
          "2020-07-30",
          "2020-07-31",
          "2020-08-01",
          "2020-08-02",
          "2020-08-03",
          "2020-08-04",
          "2020-08-05",
          "2020-08-06",
          "2020-08-07",
          "2020-08-08",
          "2020-08-09",
          "2020-08-10",
          "2020-08-11",
          "2020-08-12",
          "2020-08-13"
         ],
         "y": [
          null,
          null,
          null,
          null,
          null,
          null,
          null,
          null,
          null,
          null,
          null,
          0,
          0,
          0,
          0,
          null,
          null,
          null,
          null,
          null,
          13,
          13,
          5,
          5,
          0.308,
          0.308,
          0.4,
          0.467,
          2.75,
          3.75,
          1.6669999999999998,
          2.286,
          1.273,
          1,
          2.1,
          1.75,
          3.071,
          3.267,
          2.762,
          2.571,
          1.8840000000000001,
          1.8780000000000001,
          1.983,
          1.431,
          1.198,
          1.25,
          0.852,
          1.107,
          1.3090000000000002,
          1.157,
          1.633,
          1.544,
          1.52,
          1.662,
          1.5619999999999998,
          1.705,
          1.508,
          1.317,
          1.08,
          0.8029999999999999,
          1.003,
          0.9690000000000001,
          1.148,
          1.3980000000000001,
          1.226,
          1.422,
          1.41,
          1.359,
          1.268,
          1.095,
          0.8809999999999999,
          0.769,
          0.7509999999999999,
          0.7879999999999999,
          0.9790000000000001,
          1.0170000000000001,
          0.9620000000000001,
          0.948,
          0.8590000000000001,
          0.992,
          1.308,
          1.305,
          1.324,
          1.203,
          0.883,
          0.8859999999999999,
          0.89,
          0.937,
          1.169,
          1.219,
          1.2590000000000001,
          1.208,
          1.043,
          1.006,
          0.985,
          1.01,
          1.071,
          1.08,
          1.044,
          0.99,
          0.966,
          0.932,
          0.9309999999999999,
          0.94,
          0.935,
          0.9440000000000001,
          0.9570000000000001,
          0.978,
          0.991,
          1,
          1,
          0.971,
          0.948,
          0.932,
          0.907,
          0.9159999999999999,
          0.94,
          0.9440000000000001,
          0.968,
          0.972,
          0.9540000000000001,
          0.9590000000000001,
          0.953,
          0.948,
          0.968,
          0.981,
          1,
          1.0270000000000001,
          1.033,
          1.044,
          1.03,
          1.016,
          1,
          0.982,
          0.9890000000000001,
          1,
          1.0190000000000001,
          1.024,
          1.0270000000000001,
          1.016,
          1.01,
          1.018,
          1.013,
          1.005,
          0.987,
          0.9670000000000001,
          0.9620000000000001,
          0.956,
          0.9690000000000001,
          0.987,
          0.997,
          1.024,
          1.024,
          1.021,
          1.013
         ]
        },
        {
         "marker": {
          "color": "aquamarine"
         },
         "name": "Россия",
         "showlegend": true,
         "text": [
          null,
          null,
          null,
          null,
          null,
          null,
          null,
          16,
          2.167,
          1.7,
          1.538,
          1.75,
          3,
          2.059,
          2.85,
          2.464,
          2.256,
          3.886,
          2.842,
          2.783,
          2.5,
          1.757,
          1.494,
          1.833,
          2.15,
          2.502,
          3.178,
          2.489,
          2.106,
          2.176,
          1.967,
          2.299,
          2.322,
          1.84,
          1.726,
          1.388,
          1.447,
          1.646,
          1.815,
          1.994,
          1.818,
          1.798,
          1.729,
          1.648,
          1.792,
          1.718,
          1.669,
          1.708,
          1.684,
          1.575,
          1.517,
          1.351,
          1.085,
          1.121,
          1.052,
          1.082,
          1.224,
          1.16,
          1.137,
          1.113,
          1.119,
          1.223,
          1.422,
          1.517,
          1.5,
          1.373,
          1.204,
          1.099,
          1.058,
          1.045,
          1.04,
          1.042,
          1.007,
          0.973,
          0.939,
          0.897,
          0.906,
          0.903,
          0.894,
          0.921,
          0.907,
          0.931,
          0.969,
          0.976,
          1.002,
          1.003,
          0.968,
          0.966,
          0.953,
          0.954,
          1.01,
          1.036,
          1.056,
          1.043,
          1.003,
          0.976,
          0.968,
          0.991,
          1.008,
          1.013,
          1.001,
          0.982,
          0.978,
          0.985,
          1.01,
          1,
          0.979,
          0.951,
          0.91,
          0.916,
          0.925,
          0.946,
          0.971,
          0.962,
          0.95,
          0.934,
          0.914,
          0.912,
          0.921,
          0.927,
          0.949,
          0.958,
          0.97,
          0.984,
          0.986,
          1.003,
          0.999,
          0.986,
          0.985,
          0.97,
          0.977,
          0.999,
          1.004,
          1.013,
          0.998,
          0.981,
          0.972,
          0.966,
          0.98,
          0.975,
          0.963,
          0.946,
          0.932,
          0.933,
          0.946,
          0.97,
          0.981,
          0.983,
          0.97,
          0.952,
          0.945,
          0.947,
          0.967,
          0.982,
          0.989,
          0.981,
          0.966,
          0.961,
          0.959,
          0.976,
          0.987,
          0.987,
          0.98,
          0.973,
          0.967
         ],
         "textposition": "inside",
         "type": "bar",
         "x": [
          "2020-03-02",
          "2020-03-03",
          "2020-03-04",
          "2020-03-05",
          "2020-03-06",
          "2020-03-07",
          "2020-03-08",
          "2020-03-09",
          "2020-03-10",
          "2020-03-11",
          "2020-03-12",
          "2020-03-13",
          "2020-03-14",
          "2020-03-15",
          "2020-03-16",
          "2020-03-17",
          "2020-03-18",
          "2020-03-19",
          "2020-03-20",
          "2020-03-21",
          "2020-03-22",
          "2020-03-23",
          "2020-03-24",
          "2020-03-25",
          "2020-03-26",
          "2020-03-27",
          "2020-03-28",
          "2020-03-29",
          "2020-03-30",
          "2020-03-31",
          "2020-04-01",
          "2020-04-02",
          "2020-04-03",
          "2020-04-04",
          "2020-04-05",
          "2020-04-06",
          "2020-04-07",
          "2020-04-08",
          "2020-04-09",
          "2020-04-10",
          "2020-04-11",
          "2020-04-12",
          "2020-04-13",
          "2020-04-14",
          "2020-04-15",
          "2020-04-16",
          "2020-04-17",
          "2020-04-18",
          "2020-04-19",
          "2020-04-20",
          "2020-04-21",
          "2020-04-22",
          "2020-04-23",
          "2020-04-24",
          "2020-04-25",
          "2020-04-26",
          "2020-04-27",
          "2020-04-28",
          "2020-04-29",
          "2020-04-30",
          "2020-05-01",
          "2020-05-02",
          "2020-05-03",
          "2020-05-04",
          "2020-05-05",
          "2020-05-06",
          "2020-05-07",
          "2020-05-08",
          "2020-05-09",
          "2020-05-10",
          "2020-05-11",
          "2020-05-12",
          "2020-05-13",
          "2020-05-14",
          "2020-05-15",
          "2020-05-16",
          "2020-05-17",
          "2020-05-18",
          "2020-05-19",
          "2020-05-20",
          "2020-05-21",
          "2020-05-22",
          "2020-05-23",
          "2020-05-24",
          "2020-05-25",
          "2020-05-26",
          "2020-05-27",
          "2020-05-28",
          "2020-05-29",
          "2020-05-30",
          "2020-05-31",
          "2020-06-01",
          "2020-06-02",
          "2020-06-03",
          "2020-06-04",
          "2020-06-05",
          "2020-06-06",
          "2020-06-07",
          "2020-06-08",
          "2020-06-09",
          "2020-06-10",
          "2020-06-11",
          "2020-06-12",
          "2020-06-13",
          "2020-06-14",
          "2020-06-15",
          "2020-06-16",
          "2020-06-17",
          "2020-06-18",
          "2020-06-19",
          "2020-06-20",
          "2020-06-21",
          "2020-06-22",
          "2020-06-23",
          "2020-06-24",
          "2020-06-25",
          "2020-06-26",
          "2020-06-27",
          "2020-06-28",
          "2020-06-29",
          "2020-06-30",
          "2020-07-01",
          "2020-07-02",
          "2020-07-03",
          "2020-07-04",
          "2020-07-05",
          "2020-07-06",
          "2020-07-07",
          "2020-07-08",
          "2020-07-09",
          "2020-07-10",
          "2020-07-11",
          "2020-07-12",
          "2020-07-13",
          "2020-07-14",
          "2020-07-15",
          "2020-07-16",
          "2020-07-17",
          "2020-07-18",
          "2020-07-19",
          "2020-07-20",
          "2020-07-21",
          "2020-07-22",
          "2020-07-23",
          "2020-07-24",
          "2020-07-25",
          "2020-07-26",
          "2020-07-27",
          "2020-07-28",
          "2020-07-29",
          "2020-07-30",
          "2020-07-31",
          "2020-08-01",
          "2020-08-02",
          "2020-08-03",
          "2020-08-04",
          "2020-08-05",
          "2020-08-06",
          "2020-08-07",
          "2020-08-08",
          "2020-08-09",
          "2020-08-10",
          "2020-08-11",
          "2020-08-12",
          "2020-08-13"
         ],
         "y": [
          null,
          null,
          null,
          null,
          null,
          null,
          null,
          16,
          2.167,
          1.7,
          1.538,
          1.75,
          3,
          2.059,
          2.85,
          2.464,
          2.256,
          3.886,
          2.842,
          2.783,
          2.5,
          1.757,
          1.494,
          1.8330000000000002,
          2.15,
          2.502,
          3.178,
          2.489,
          2.106,
          2.176,
          1.9669999999999999,
          2.299,
          2.322,
          1.84,
          1.726,
          1.3880000000000001,
          1.4469999999999998,
          1.646,
          1.815,
          1.994,
          1.818,
          1.798,
          1.729,
          1.6480000000000001,
          1.7919999999999998,
          1.7180000000000002,
          1.669,
          1.7080000000000002,
          1.6840000000000002,
          1.575,
          1.517,
          1.351,
          1.085,
          1.121,
          1.052,
          1.082,
          1.224,
          1.16,
          1.137,
          1.113,
          1.119,
          1.2229999999999999,
          1.422,
          1.517,
          1.5,
          1.3730000000000002,
          1.204,
          1.099,
          1.058,
          1.045,
          1.04,
          1.042,
          1.0070000000000001,
          0.973,
          0.9390000000000001,
          0.897,
          0.9059999999999999,
          0.903,
          0.894,
          0.9209999999999999,
          0.907,
          0.9309999999999999,
          0.9690000000000001,
          0.976,
          1.002,
          1.003,
          0.968,
          0.966,
          0.953,
          0.9540000000000001,
          1.01,
          1.036,
          1.056,
          1.043,
          1.003,
          0.976,
          0.968,
          0.991,
          1.008,
          1.013,
          1.001,
          0.982,
          0.978,
          0.985,
          1.01,
          1,
          0.9790000000000001,
          0.951,
          0.91,
          0.9159999999999999,
          0.925,
          0.946,
          0.971,
          0.9620000000000001,
          0.95,
          0.934,
          0.914,
          0.912,
          0.9209999999999999,
          0.927,
          0.9490000000000001,
          0.958,
          0.97,
          0.9840000000000001,
          0.986,
          1.003,
          0.9990000000000001,
          0.986,
          0.985,
          0.97,
          0.977,
          0.9990000000000001,
          1.004,
          1.013,
          0.998,
          0.981,
          0.972,
          0.966,
          0.98,
          0.975,
          0.963,
          0.946,
          0.932,
          0.9329999999999999,
          0.946,
          0.97,
          0.981,
          0.983,
          0.97,
          0.9520000000000001,
          0.945,
          0.9470000000000001,
          0.9670000000000001,
          0.982,
          0.9890000000000001,
          0.981,
          0.966,
          0.961,
          0.9590000000000001,
          0.976,
          0.987,
          0.987,
          0.98,
          0.973,
          0.9670000000000001
         ]
        }
       ],
       "layout": {
        "annotations": [
         {
          "arrowhead": 2,
          "ax": 0,
          "ay": -60,
          "showarrow": true,
          "text": "Введение<br>пропускной<br>системы в Москве",
          "x": "2020-04-13",
          "xref": "x",
          "y": 1.717,
          "yref": "y"
         },
         {
          "arrowhead": 2,
          "ax": 0,
          "ay": -60,
          "showarrow": true,
          "text": "Отмена<br>пропускной<br>системы в Москве",
          "x": "2020-06-09",
          "xref": "x",
          "y": 0.942,
          "yref": "y"
         },
         {
          "showarrow": false,
          "text": "Данные : Яндекс <br> формула расчета из методических рекомендациях Роспотребнадзора.",
          "x": 0.5,
          "xref": "paper",
          "y": -0.15,
          "yref": "paper"
         }
        ],
        "height": 600,
        "template": {
         "data": {
          "pie": [
           {
            "automargin": true,
            "type": "pie"
           }
          ]
         },
         "layout": {
          "xaxis": {
           "showgrid": true,
           "title": {
            "standoff": 15
           }
          },
          "yaxis": {
           "showgrid": true,
           "title": {
            "standoff": 15
           }
          }
         }
        },
        "title": {
         "text": "Коэффициент распространения (Rt) по 5 регионам ,<br> с максимальным количеством новых заболеваний ",
         "x": 0.5,
         "xanchor": "center",
         "y": 0.9,
         "yanchor": "bottom"
        },
        "width": 990,
        "yaxis": {
         "title": {
          "text": " "
         }
        }
       }
      }
     },
     "metadata": {}
    }
   ],
   "source": [
    "#mask = (X.Date>datetime.date(2020,5,1))&(X.Region.isin(regions_towatch))\n",
    "\n",
    "colors_dict = {\"Москва\": \"red\",\n",
    "                \"Московская обл.\": \"magenta\",\n",
    "                \"Санкт-Петербург\": \"goldenrod\",\n",
    "                \"Нижегородская обл.\": \"darkblue\",\n",
    "                \"Свердловская обл.\": \"green\",\n",
    "                 'Россия':'aquamarine'}\n",
    "fig = go.Figure()\n",
    "for i in regions_towatch:\n",
    "    mask = X['Region'] == i\n",
    "        \n",
    "    fig.add_trace(\n",
    "        \n",
    "        go.Bar(\n",
    "        name = f'{i}',\n",
    "        x=X[mask].Date,\n",
    "        y=X[mask].Rt,\n",
    "        text=round(X[mask].Rt,3),\n",
    "        textposition='inside',\n",
    "        marker_color= colors_dict.get(i),\n",
    "        \n",
    "        showlegend=True))\n",
    "\n",
    "\n",
    "\n",
    "\n",
    "                  \n",
    "fig.update_layout(\n",
    "    annotations=[\n",
    "        dict(\n",
    "            x='2020-04-13',\n",
    "            y=1.717,\n",
    "            xref=\"x\",\n",
    "            yref=\"y\",\n",
    "            text=\"Введение<br>пропускной<br>системы в Москве\",\n",
    "            showarrow=True,\n",
    "            arrowhead=2,\n",
    "            ax=0,\n",
    "            ay=-60),\n",
    "        dict(\n",
    "            x='2020-06-09',\n",
    "            y=0.942,\n",
    "            xref=\"x\",\n",
    "            yref=\"y\",\n",
    "            text=\"Отмена<br>пропускной<br>системы в Москве\",\n",
    "            showarrow=True,\n",
    "            arrowhead=2,\n",
    "            ax=0,\n",
    "            ay=-60),\n",
    "            dict(x=0.5,y=-0.15,\n",
    "            showarrow=False,\n",
    "            text=\"Данные : Яндекс <br> формула расчета из методических рекомендациях Роспотребнадзора.\",\n",
    "            xref=\"paper\",\n",
    "            yref=\"paper\")],\n",
    "                  title = \"Коэффициент распространения (Rt) по 5 регионам ,<br> с максимальным количеством новых заболеваний \",\n",
    "                  title_x = 0.5,\n",
    "                  title_y= 0.9,\n",
    "                  title_xanchor = \"center\",\n",
    "                  title_yanchor = \"bottom\", \n",
    "                 # legend_x = 0.05,legend_y = 0.9,\n",
    "                  width = 990, height = 600,template = 'gridon',\n",
    "    \n",
    "    \n",
    "                 # xaxis_title='Коэффициент рассчитан, исходя из данных оперативного штаба и <br>' + \n",
    "                               #' формулы расчета в методических рекомендациях Роспотребнадзора. ',\n",
    "    yaxis_title = ' '\n",
    ")\n",
    "\n",
    "\n",
    "fig.show()\n"
   ]
  },
  {
   "cell_type": "code",
   "execution_count": 11,
   "metadata": {
    "tags": []
   },
   "outputs": [
    {
     "output_type": "stream",
     "name": "stdout",
     "text": "Все регионы по которым есть статистика:\n****************************************\ndict_items([(1, 'Адыгея'), (2, 'Алтай'), (3, 'Алтайский край'), (4, 'Амурская обл.'), (5, 'Архангельская обл.'), (6, 'Астраханская обл.'), (7, 'Башкортостан'), (8, 'Белгородская обл.'), (9, 'Брянская обл.'), (10, 'Бурятия'), (11, 'Владимирская обл.'), (12, 'Волгоградская обл.'), (13, 'Вологодская обл.'), (14, 'Воронежская обл.'), (15, 'Дагестан'), (16, 'Еврейская АО'), (17, 'Забайкальский край'), (18, 'Ивановская обл.'), (19, 'Ингушетия'), (20, 'Иркутская обл.'), (21, 'Кабардино-Балкария'), (22, 'Калининградская обл.'), (23, 'Калмыкия'), (24, 'Калужская обл.'), (25, 'Камчатский край'), (26, 'Карачаево-Черкессия'), (27, 'Карелия'), (28, 'Кемеровская обл.'), (29, 'Кировская обл.'), (30, 'Коми'), (31, 'Костромская обл.'), (32, 'Краснодарский край'), (33, 'Красноярский край'), (34, 'Крым'), (35, 'Курганская обл.'), (36, 'Курская обл.'), (37, 'Ленинградская обл.'), (38, 'Липецкая обл.'), (39, 'Магаданская обл.'), (40, 'Марий Эл'), (41, 'Мордовия'), (42, 'Москва'), (43, 'Московская обл.'), (44, 'Мурманская обл.'), (45, 'Ненецкий АО'), (46, 'Нижегородская обл.'), (47, 'Новгородская обл.'), (48, 'Новосибирская обл.'), (49, 'Омская обл.'), (50, 'Оренбургская обл.'), (51, 'Орловская обл.'), (52, 'Пензенская обл.'), (53, 'Пермский край'), (54, 'Приморский край'), (55, 'Псковская обл.'), (56, 'Россия'), (57, 'Ростовская обл.'), (58, 'Рязанская обл.'), (59, 'Самарская обл.'), (60, 'Санкт-Петербург'), (61, 'Саратовская обл.'), (62, 'Саха (Якутия)'), (63, 'Сахалинская обл.'), (64, 'Свердловская обл.'), (65, 'Севастополь'), (66, 'Северная Осетия'), (67, 'Смоленская обл.'), (68, 'Ставропольский край'), (69, 'Тамбовская обл.'), (70, 'Татарстан'), (71, 'Тверская обл.'), (72, 'Томская обл.'), (73, 'Тульская обл.'), (74, 'Тыва'), (75, 'Тюменская обл.'), (76, 'Удмуртия'), (77, 'Ульяновская обл.'), (78, 'ХМАО – Югра'), (79, 'Хабаровский край'), (80, 'Хакасия'), (81, 'Челябинская обл.'), (82, 'Чечня'), (83, 'Чувашия'), (84, 'Чукотский АО'), (85, 'Ямало-Ненецкий АО'), (86, 'Ярославская обл.')])\n****************************************\nРассматриваем регионы: \n42 Москва\n43 Московская обл.\n56 Россия\n60 Санкт-Петербург\n61 Саратовская обл.\n81 Челябинская обл.\nВыбрали регион:  Мордовия\n"
    }
   ],
   "source": [
    "print('Все регионы по которым есть статистика:')\n",
    "print('*'*40)\n",
    "print(regions_dict.items())\n",
    "print('*'*40)\n",
    "print('Рассматриваем регионы: ')\n",
    "for i in regions_dict.keys():\n",
    "    if regions_dict.get(i) in regions_towatch:\n",
    "        print(i,regions_dict.get(i))\n",
    "\n",
    "\n",
    "my_region = regions_dict[41]\n",
    "print('Выбрали регион: ',my_region)\n"
   ]
  },
  {
   "cell_type": "code",
   "execution_count": 12,
   "metadata": {},
   "outputs": [
    {
     "output_type": "display_data",
     "data": {
      "application/vnd.plotly.v1+json": {
       "config": {
        "plotlyServerURL": "https://plot.ly"
       },
       "data": [
        {
         "alignmentgroup": "True",
         "hovertemplate": "Date=%{x}<br>Новые заболевшие=%{marker.color}<extra></extra>",
         "legendgroup": "",
         "marker": {
          "color": [
           0,
           0,
           0,
           0,
           0,
           0,
           0,
           0,
           0,
           0,
           0,
           0,
           0,
           0,
           0,
           2,
           0,
           1,
           0,
           0,
           1,
           0,
           0,
           1,
           0,
           1,
           0,
           7,
           4,
           2,
           0,
           23,
           16,
           13,
           0,
           0,
           65,
           62,
           60,
           35,
           34,
           30,
           28,
           39,
           45,
           49,
           42,
           32,
           67,
           39,
           30,
           37,
           43,
           59,
           56,
           54,
           41,
           37,
           47,
           46,
           42,
           35,
           37,
           34,
           27,
           25,
           28,
           33,
           34,
           34,
           35,
           36,
           32,
           32,
           34,
           38,
           43,
           49,
           44,
           40,
           35,
           36,
           39,
           42,
           39,
           47,
           40,
           47,
           45,
           66,
           64,
           58,
           62,
           58,
           58,
           56,
           55,
           55,
           56,
           56,
           57,
           55,
           54,
           54,
           49,
           49,
           48,
           44,
           40,
           35,
           35,
           37,
           36,
           38,
           37,
           35,
           34,
           35,
           34,
           37,
           38,
           37,
           37,
           36,
           36,
           37,
           38,
           38,
           37,
           35,
           35,
           36,
           35,
           35,
           34,
           34,
           33,
           32,
           32,
           32,
           33,
           33,
           32,
           31,
           32,
           31,
           31,
           32,
           30,
           30,
           29,
           30,
           30,
           29,
           31
          ],
          "coloraxis": "coloraxis"
         },
         "name": "",
         "offsetgroup": "",
         "orientation": "v",
         "showlegend": false,
         "text": [
          0,
          0,
          0,
          0,
          0,
          0,
          0,
          0,
          0,
          0,
          0,
          0,
          0,
          0,
          0,
          2,
          0,
          1,
          0,
          0,
          1,
          0,
          0,
          1,
          0,
          1,
          0,
          7,
          4,
          2,
          0,
          23,
          16,
          13,
          0,
          0,
          65,
          62,
          60,
          35,
          34,
          30,
          28,
          39,
          45,
          49,
          42,
          32,
          67,
          39,
          30,
          37,
          43,
          59,
          56,
          54,
          41,
          37,
          47,
          46,
          42,
          35,
          37,
          34,
          27,
          25,
          28,
          33,
          34,
          34,
          35,
          36,
          32,
          32,
          34,
          38,
          43,
          49,
          44,
          40,
          35,
          36,
          39,
          42,
          39,
          47,
          40,
          47,
          45,
          66,
          64,
          58,
          62,
          58,
          58,
          56,
          55,
          55,
          56,
          56,
          57,
          55,
          54,
          54,
          49,
          49,
          48,
          44,
          40,
          35,
          35,
          37,
          36,
          38,
          37,
          35,
          34,
          35,
          34,
          37,
          38,
          37,
          37,
          36,
          36,
          37,
          38,
          38,
          37,
          35,
          35,
          36,
          35,
          35,
          34,
          34,
          33,
          32,
          32,
          32,
          33,
          33,
          32,
          31,
          32,
          31,
          31,
          32,
          30,
          30,
          29,
          30,
          30,
          29,
          31
         ],
         "textposition": "auto",
         "type": "bar",
         "x": [
          "2020-03-12",
          "2020-03-13",
          "2020-03-14",
          "2020-03-15",
          "2020-03-16",
          "2020-03-17",
          "2020-03-18",
          "2020-03-19",
          "2020-03-20",
          "2020-03-21",
          "2020-03-22",
          "2020-03-23",
          "2020-03-24",
          "2020-03-25",
          "2020-03-26",
          "2020-03-27",
          "2020-03-28",
          "2020-03-29",
          "2020-03-30",
          "2020-03-31",
          "2020-04-01",
          "2020-04-02",
          "2020-04-03",
          "2020-04-04",
          "2020-04-05",
          "2020-04-06",
          "2020-04-07",
          "2020-04-08",
          "2020-04-09",
          "2020-04-10",
          "2020-04-11",
          "2020-04-12",
          "2020-04-13",
          "2020-04-14",
          "2020-04-15",
          "2020-04-16",
          "2020-04-17",
          "2020-04-18",
          "2020-04-19",
          "2020-04-20",
          "2020-04-21",
          "2020-04-22",
          "2020-04-23",
          "2020-04-24",
          "2020-04-25",
          "2020-04-26",
          "2020-04-27",
          "2020-04-28",
          "2020-04-29",
          "2020-04-30",
          "2020-05-01",
          "2020-05-02",
          "2020-05-03",
          "2020-05-04",
          "2020-05-05",
          "2020-05-06",
          "2020-05-07",
          "2020-05-08",
          "2020-05-09",
          "2020-05-10",
          "2020-05-11",
          "2020-05-12",
          "2020-05-13",
          "2020-05-14",
          "2020-05-15",
          "2020-05-16",
          "2020-05-17",
          "2020-05-18",
          "2020-05-19",
          "2020-05-20",
          "2020-05-21",
          "2020-05-22",
          "2020-05-23",
          "2020-05-24",
          "2020-05-25",
          "2020-05-26",
          "2020-05-27",
          "2020-05-28",
          "2020-05-29",
          "2020-05-30",
          "2020-05-31",
          "2020-06-01",
          "2020-06-02",
          "2020-06-03",
          "2020-06-04",
          "2020-06-05",
          "2020-06-06",
          "2020-06-07",
          "2020-06-08",
          "2020-06-09",
          "2020-06-10",
          "2020-06-11",
          "2020-06-12",
          "2020-06-13",
          "2020-06-14",
          "2020-06-15",
          "2020-06-16",
          "2020-06-17",
          "2020-06-18",
          "2020-06-19",
          "2020-06-20",
          "2020-06-21",
          "2020-06-22",
          "2020-06-23",
          "2020-06-24",
          "2020-06-25",
          "2020-06-26",
          "2020-06-27",
          "2020-06-28",
          "2020-06-29",
          "2020-06-30",
          "2020-07-01",
          "2020-07-02",
          "2020-07-03",
          "2020-07-04",
          "2020-07-05",
          "2020-07-06",
          "2020-07-07",
          "2020-07-08",
          "2020-07-09",
          "2020-07-10",
          "2020-07-11",
          "2020-07-12",
          "2020-07-13",
          "2020-07-14",
          "2020-07-15",
          "2020-07-16",
          "2020-07-17",
          "2020-07-18",
          "2020-07-19",
          "2020-07-20",
          "2020-07-21",
          "2020-07-22",
          "2020-07-23",
          "2020-07-24",
          "2020-07-25",
          "2020-07-26",
          "2020-07-27",
          "2020-07-28",
          "2020-07-29",
          "2020-07-30",
          "2020-07-31",
          "2020-08-01",
          "2020-08-02",
          "2020-08-03",
          "2020-08-04",
          "2020-08-05",
          "2020-08-06",
          "2020-08-07",
          "2020-08-08",
          "2020-08-09",
          "2020-08-10",
          "2020-08-11",
          "2020-08-12",
          "2020-08-13"
         ],
         "xaxis": "x",
         "y": [
          0,
          0,
          0,
          0,
          0,
          0,
          0,
          0,
          0,
          0,
          0,
          0,
          0,
          0,
          0,
          2,
          0,
          1,
          0,
          0,
          1,
          0,
          0,
          1,
          0,
          1,
          0,
          7,
          4,
          2,
          0,
          23,
          16,
          13,
          0,
          0,
          65,
          62,
          60,
          35,
          34,
          30,
          28,
          39,
          45,
          49,
          42,
          32,
          67,
          39,
          30,
          37,
          43,
          59,
          56,
          54,
          41,
          37,
          47,
          46,
          42,
          35,
          37,
          34,
          27,
          25,
          28,
          33,
          34,
          34,
          35,
          36,
          32,
          32,
          34,
          38,
          43,
          49,
          44,
          40,
          35,
          36,
          39,
          42,
          39,
          47,
          40,
          47,
          45,
          66,
          64,
          58,
          62,
          58,
          58,
          56,
          55,
          55,
          56,
          56,
          57,
          55,
          54,
          54,
          49,
          49,
          48,
          44,
          40,
          35,
          35,
          37,
          36,
          38,
          37,
          35,
          34,
          35,
          34,
          37,
          38,
          37,
          37,
          36,
          36,
          37,
          38,
          38,
          37,
          35,
          35,
          36,
          35,
          35,
          34,
          34,
          33,
          32,
          32,
          32,
          33,
          33,
          32,
          31,
          32,
          31,
          31,
          32,
          30,
          30,
          29,
          30,
          30,
          29,
          31
         ],
         "yaxis": "y"
        },
        {
         "line": {
          "color": "green"
         },
         "mode": "lines",
         "name": "14-дневная скользящая средняя",
         "showlegend": true,
         "type": "scatter",
         "x": [
          "2020-03-12",
          "2020-03-13",
          "2020-03-14",
          "2020-03-15",
          "2020-03-16",
          "2020-03-17",
          "2020-03-18",
          "2020-03-19",
          "2020-03-20",
          "2020-03-21",
          "2020-03-22",
          "2020-03-23",
          "2020-03-24",
          "2020-03-25",
          "2020-03-26",
          "2020-03-27",
          "2020-03-28",
          "2020-03-29",
          "2020-03-30",
          "2020-03-31",
          "2020-04-01",
          "2020-04-02",
          "2020-04-03",
          "2020-04-04",
          "2020-04-05",
          "2020-04-06",
          "2020-04-07",
          "2020-04-08",
          "2020-04-09",
          "2020-04-10",
          "2020-04-11",
          "2020-04-12",
          "2020-04-13",
          "2020-04-14",
          "2020-04-15",
          "2020-04-16",
          "2020-04-17",
          "2020-04-18",
          "2020-04-19",
          "2020-04-20",
          "2020-04-21",
          "2020-04-22",
          "2020-04-23",
          "2020-04-24",
          "2020-04-25",
          "2020-04-26",
          "2020-04-27",
          "2020-04-28",
          "2020-04-29",
          "2020-04-30",
          "2020-05-01",
          "2020-05-02",
          "2020-05-03",
          "2020-05-04",
          "2020-05-05",
          "2020-05-06",
          "2020-05-07",
          "2020-05-08",
          "2020-05-09",
          "2020-05-10",
          "2020-05-11",
          "2020-05-12",
          "2020-05-13",
          "2020-05-14",
          "2020-05-15",
          "2020-05-16",
          "2020-05-17",
          "2020-05-18",
          "2020-05-19",
          "2020-05-20",
          "2020-05-21",
          "2020-05-22",
          "2020-05-23",
          "2020-05-24",
          "2020-05-25",
          "2020-05-26",
          "2020-05-27",
          "2020-05-28",
          "2020-05-29",
          "2020-05-30",
          "2020-05-31",
          "2020-06-01",
          "2020-06-02",
          "2020-06-03",
          "2020-06-04",
          "2020-06-05",
          "2020-06-06",
          "2020-06-07",
          "2020-06-08",
          "2020-06-09",
          "2020-06-10",
          "2020-06-11",
          "2020-06-12",
          "2020-06-13",
          "2020-06-14",
          "2020-06-15",
          "2020-06-16",
          "2020-06-17",
          "2020-06-18",
          "2020-06-19",
          "2020-06-20",
          "2020-06-21",
          "2020-06-22",
          "2020-06-23",
          "2020-06-24",
          "2020-06-25",
          "2020-06-26",
          "2020-06-27",
          "2020-06-28",
          "2020-06-29",
          "2020-06-30",
          "2020-07-01",
          "2020-07-02",
          "2020-07-03",
          "2020-07-04",
          "2020-07-05",
          "2020-07-06",
          "2020-07-07",
          "2020-07-08",
          "2020-07-09",
          "2020-07-10",
          "2020-07-11",
          "2020-07-12",
          "2020-07-13",
          "2020-07-14",
          "2020-07-15",
          "2020-07-16",
          "2020-07-17",
          "2020-07-18",
          "2020-07-19",
          "2020-07-20",
          "2020-07-21",
          "2020-07-22",
          "2020-07-23",
          "2020-07-24",
          "2020-07-25",
          "2020-07-26",
          "2020-07-27",
          "2020-07-28",
          "2020-07-29",
          "2020-07-30",
          "2020-07-31",
          "2020-08-01",
          "2020-08-02",
          "2020-08-03",
          "2020-08-04",
          "2020-08-05",
          "2020-08-06",
          "2020-08-07",
          "2020-08-08",
          "2020-08-09",
          "2020-08-10",
          "2020-08-11",
          "2020-08-12",
          "2020-08-13"
         ],
         "y": [
          null,
          null,
          null,
          null,
          null,
          null,
          null,
          null,
          null,
          null,
          null,
          null,
          null,
          0,
          0,
          0.14285714285714285,
          0.14285714285714285,
          0.21428571428571427,
          0.21428571428571427,
          0.21428571428571427,
          0.2857142857142857,
          0.2857142857142857,
          0.2857142857142857,
          0.35714285714285715,
          0.35714285714285715,
          0.42857142857142855,
          0.42857142857142855,
          0.9285714285714286,
          1.2142857142857142,
          1.2142857142857142,
          1.2142857142857142,
          2.7857142857142856,
          3.928571428571429,
          4.857142857142857,
          4.785714285714286,
          4.785714285714286,
          9.428571428571429,
          13.785714285714285,
          18.071428571428573,
          20.5,
          22.92857142857143,
          24.57142857142857,
          26.285714285714285,
          28.92857142857143,
          32.142857142857146,
          34,
          35.857142857142854,
          37.214285714285715,
          42,
          44.78571428571429,
          42.285714285714285,
          40.5,
          39.285714285714285,
          41,
          42.57142857142857,
          44.28571428571429,
          45.214285714285715,
          45.07142857142857,
          45.214285714285715,
          45,
          45,
          45.214285714285715,
          43.07142857142857,
          42.714285714285715,
          42.5,
          41.642857142857146,
          40.57142857142857,
          38.714285714285715,
          37.142857142857146,
          35.714285714285715,
          35.285714285714285,
          35.214285714285715,
          34.142857142857146,
          33.142857142857146,
          32.57142857142857,
          32.785714285714285,
          33.214285714285715,
          34.285714285714285,
          35.5,
          36.57142857142857,
          37.07142857142857,
          37.285714285714285,
          37.642857142857146,
          38.214285714285715,
          38.5,
          39.285714285714285,
          39.857142857142854,
          40.92857142857143,
          41.714285714285715,
          43.714285714285715,
          45.214285714285715,
          45.85714285714285,
          47.14285714285714,
          48.42857142857143,
          50.07142857142857,
          51.5,
          52.64285714285714,
          53.57142857142857,
          54.78571428571429,
          55.42857142857143,
          56.64285714285714,
          57.214285714285715,
          57.85714285714285,
          57,
          55.92857142857143,
          55.28571428571429,
          54.28571428571429,
          53.28571428571429,
          52,
          50.5,
          49.07142857142857,
          47.78571428571429,
          46.35714285714285,
          45.07142857142857,
          43.64285714285715,
          42.214285714285715,
          40.785714285714285,
          39.42857142857143,
          38.357142857142854,
          37.5,
          36.785714285714285,
          36.285714285714285,
          36.07142857142857,
          36.142857142857146,
          36.214285714285715,
          36.214285714285715,
          36.357142857142854,
          36.357142857142854,
          36.357142857142854,
          36.357142857142854,
          36.42857142857143,
          36.5,
          36.57142857142857,
          36.42857142857143,
          36.142857142857146,
          35.92857142857143,
          35.642857142857146,
          35.357142857142854,
          35.07142857142857,
          34.714285714285715,
          34.357142857142854,
          34,
          33.642857142857146,
          33.357142857142854,
          33.142857142857146,
          32.785714285714285,
          32.5,
          32.285714285714285,
          32,
          31.714285714285715,
          31.42857142857143,
          31.285714285714285,
          31.142857142857146,
          30.92857142857143,
          30.785714285714285
         ]
        },
        {
         "line": {
          "color": "red"
         },
         "mode": "lines",
         "name": "7-дневная скользящая средняя",
         "showlegend": true,
         "type": "scatter",
         "x": [
          "2020-03-12",
          "2020-03-13",
          "2020-03-14",
          "2020-03-15",
          "2020-03-16",
          "2020-03-17",
          "2020-03-18",
          "2020-03-19",
          "2020-03-20",
          "2020-03-21",
          "2020-03-22",
          "2020-03-23",
          "2020-03-24",
          "2020-03-25",
          "2020-03-26",
          "2020-03-27",
          "2020-03-28",
          "2020-03-29",
          "2020-03-30",
          "2020-03-31",
          "2020-04-01",
          "2020-04-02",
          "2020-04-03",
          "2020-04-04",
          "2020-04-05",
          "2020-04-06",
          "2020-04-07",
          "2020-04-08",
          "2020-04-09",
          "2020-04-10",
          "2020-04-11",
          "2020-04-12",
          "2020-04-13",
          "2020-04-14",
          "2020-04-15",
          "2020-04-16",
          "2020-04-17",
          "2020-04-18",
          "2020-04-19",
          "2020-04-20",
          "2020-04-21",
          "2020-04-22",
          "2020-04-23",
          "2020-04-24",
          "2020-04-25",
          "2020-04-26",
          "2020-04-27",
          "2020-04-28",
          "2020-04-29",
          "2020-04-30",
          "2020-05-01",
          "2020-05-02",
          "2020-05-03",
          "2020-05-04",
          "2020-05-05",
          "2020-05-06",
          "2020-05-07",
          "2020-05-08",
          "2020-05-09",
          "2020-05-10",
          "2020-05-11",
          "2020-05-12",
          "2020-05-13",
          "2020-05-14",
          "2020-05-15",
          "2020-05-16",
          "2020-05-17",
          "2020-05-18",
          "2020-05-19",
          "2020-05-20",
          "2020-05-21",
          "2020-05-22",
          "2020-05-23",
          "2020-05-24",
          "2020-05-25",
          "2020-05-26",
          "2020-05-27",
          "2020-05-28",
          "2020-05-29",
          "2020-05-30",
          "2020-05-31",
          "2020-06-01",
          "2020-06-02",
          "2020-06-03",
          "2020-06-04",
          "2020-06-05",
          "2020-06-06",
          "2020-06-07",
          "2020-06-08",
          "2020-06-09",
          "2020-06-10",
          "2020-06-11",
          "2020-06-12",
          "2020-06-13",
          "2020-06-14",
          "2020-06-15",
          "2020-06-16",
          "2020-06-17",
          "2020-06-18",
          "2020-06-19",
          "2020-06-20",
          "2020-06-21",
          "2020-06-22",
          "2020-06-23",
          "2020-06-24",
          "2020-06-25",
          "2020-06-26",
          "2020-06-27",
          "2020-06-28",
          "2020-06-29",
          "2020-06-30",
          "2020-07-01",
          "2020-07-02",
          "2020-07-03",
          "2020-07-04",
          "2020-07-05",
          "2020-07-06",
          "2020-07-07",
          "2020-07-08",
          "2020-07-09",
          "2020-07-10",
          "2020-07-11",
          "2020-07-12",
          "2020-07-13",
          "2020-07-14",
          "2020-07-15",
          "2020-07-16",
          "2020-07-17",
          "2020-07-18",
          "2020-07-19",
          "2020-07-20",
          "2020-07-21",
          "2020-07-22",
          "2020-07-23",
          "2020-07-24",
          "2020-07-25",
          "2020-07-26",
          "2020-07-27",
          "2020-07-28",
          "2020-07-29",
          "2020-07-30",
          "2020-07-31",
          "2020-08-01",
          "2020-08-02",
          "2020-08-03",
          "2020-08-04",
          "2020-08-05",
          "2020-08-06",
          "2020-08-07",
          "2020-08-08",
          "2020-08-09",
          "2020-08-10",
          "2020-08-11",
          "2020-08-12",
          "2020-08-13"
         ],
         "y": [
          null,
          null,
          null,
          null,
          null,
          null,
          0,
          0,
          0,
          0,
          0,
          0,
          0,
          0,
          0,
          0.2857142857142857,
          0.2857142857142857,
          0.42857142857142855,
          0.42857142857142855,
          0.42857142857142855,
          0.5714285714285714,
          0.5714285714285714,
          0.2857142857142857,
          0.42857142857142855,
          0.2857142857142857,
          0.42857142857142855,
          0.42857142857142855,
          1.2857142857142858,
          1.8571428571428568,
          2.142857142857143,
          2,
          5.285714285714286,
          7.428571428571429,
          9.285714285714286,
          8.285714285714286,
          7.7142857142857135,
          16.714285714285715,
          25.57142857142857,
          30.857142857142854,
          33.57142857142857,
          36.57142857142857,
          40.857142857142854,
          44.85714285714285,
          41.142857142857146,
          38.714285714285715,
          37.142857142857146,
          38.142857142857146,
          37.857142857142854,
          43.14285714285715,
          44.714285714285715,
          43.42857142857143,
          42.285714285714285,
          41.42857142857143,
          43.85714285714285,
          47.28571428571429,
          45.42857142857143,
          45.714285714285715,
          46.714285714285715,
          48.14285714285714,
          48.57142857142857,
          46.14285714285714,
          43.14285714285715,
          40.714285714285715,
          39.714285714285715,
          38.285714285714285,
          35.142857142857146,
          32.57142857142857,
          31.285714285714285,
          31.142857142857146,
          30.714285714285715,
          30.857142857142854,
          32.142857142857146,
          33.142857142857146,
          33.714285714285715,
          33.857142857142854,
          34.42857142857143,
          35.714285714285715,
          37.714285714285715,
          38.857142857142854,
          40,
          40.42857142857143,
          40.714285714285715,
          40.857142857142854,
          40.714285714285715,
          39.285714285714285,
          39.714285714285715,
          39.714285714285715,
          41.42857142857143,
          42.714285714285715,
          46.57142857142857,
          49.714285714285715,
          52.42857142857143,
          54.57142857142857,
          57.14285714285714,
          58.714285714285715,
          60.28571428571429,
          58.714285714285715,
          57.42857142857143,
          57.14285714285714,
          56.28571428571429,
          56.14285714285714,
          55.714285714285715,
          55.42857142857143,
          55.28571428571429,
          54.42857142857143,
          53.42857142857143,
          52.28571428571429,
          50.42857142857143,
          48.28571428571429,
          45.57142857142857,
          42.857142857142854,
          41.142857142857146,
          39.285714285714285,
          37.857142857142854,
          36.857142857142854,
          36.142857142857146,
          36,
          36,
          35.57142857142857,
          35.714285714285715,
          35.714285714285715,
          35.714285714285715,
          36,
          36.285714285714285,
          36.42857142857143,
          36.857142857142854,
          37,
          37,
          37,
          36.714285714285715,
          36.57142857142857,
          36.57142857142857,
          36.285714285714285,
          35.857142857142854,
          35.285714285714285,
          34.857142857142854,
          34.57142857142857,
          34.142857142857146,
          33.57142857142857,
          33.142857142857146,
          32.857142857142854,
          32.714285714285715,
          32.42857142857143,
          32.142857142857146,
          32.142857142857146,
          32,
          31.857142857142854,
          31.714285714285715,
          31.285714285714285,
          31,
          30.714285714285715,
          30.42857142857143,
          30.285714285714285,
          30,
          29.857142857142854
         ]
        }
       ],
       "layout": {
        "annotations": [
         {
          "showarrow": false,
          "text": "Данные: Яндекс",
          "x": 0.5,
          "xref": "paper",
          "y": -0.15,
          "yref": "paper"
         }
        ],
        "barmode": "relative",
        "coloraxis": {
         "colorbar": {
          "title": {
           "text": "Новые заболевшие"
          }
         },
         "colorscale": [
          [
           0,
           "rgb(0,0,131)"
          ],
          [
           0.2,
           "rgb(0,60,170)"
          ],
          [
           0.4,
           "rgb(5,255,255)"
          ],
          [
           0.6,
           "rgb(255,255,0)"
          ],
          [
           0.8,
           "rgb(250,0,0)"
          ],
          [
           1,
           "rgb(128,0,0)"
          ]
         ]
        },
        "height": 600,
        "legend": {
         "tracegroupgap": 0,
         "x": 0.15,
         "y": 0.95
        },
        "template": {
         "data": {
          "pie": [
           {
            "automargin": true,
            "type": "pie"
           }
          ]
         },
         "layout": {
          "xaxis": {
           "showgrid": true,
           "title": {
            "standoff": 15
           }
          },
          "yaxis": {
           "showgrid": true,
           "title": {
            "standoff": 15
           }
          }
         }
        },
        "title": {
         "text": "Мордовия: график количества новых заболевших COVID-19 по датам",
         "x": 0.5,
         "xanchor": "center",
         "y": 0.9,
         "yanchor": "bottom"
        },
        "width": 990,
        "xaxis": {
         "anchor": "y",
         "domain": [
          0,
          1
         ],
         "title": {
          "text": ""
         }
        },
        "yaxis": {
         "anchor": "x",
         "domain": [
          0,
          1
         ],
         "title": {
          "text": " "
         }
        }
       }
      }
     },
     "metadata": {}
    }
   ],
   "source": [
    "mask = X.Region ==my_region\n",
    "#mask = (X.Date>datetime.date(2020,5,1)&(X.Region.isin(regions_towatch))\n",
    "#mask = (X.Date>datetime.date(2020,5,1)&(X.Region==my_region)\n",
    "\n",
    "fig = px.bar(X[mask], x='Date', \n",
    "             y=\"Day_confirmed\",color ='Day_confirmed',\n",
    "             title=f'{my_region}: '+'график количества новых заболевших COVID-19 по датам',\n",
    "              color_continuous_scale= 'jet',text = 'Day_confirmed',\n",
    "             labels = {'Day_confirmed' : \"Новые заболевшие\",'Remaining_ill':'Текущие больные'})\n",
    "fig.add_trace(\n",
    "    go.Scatter(\n",
    "        name='14-дневная скользящая средняя',\n",
    "        x=X[mask].Date,\n",
    "        y=X[mask]['MA14_dayconfirmed'],\n",
    "        mode=\"lines\",\n",
    "        \n",
    "        line=go.scatter.Line(color=\"green\"),\n",
    "        showlegend=True)\n",
    ")\n",
    "fig.add_trace(\n",
    "    go.Scatter(\n",
    "        name = '7-дневная скользящая средняя',\n",
    "        x=X[mask]['Date'],\n",
    "        y=X[mask]['MA7_dayconfirmed'],\n",
    "        mode=\"lines\",\n",
    "        \n",
    "        line=go.scatter.Line(color=\"red\"),\n",
    "        showlegend=True)\n",
    ")\n",
    "fig.update_layout(\n",
    "    annotations=[\n",
    "#         dict(\n",
    "#             x='2020-04-13',\n",
    "#             y=1355,\n",
    "#             xref=\"x\",\n",
    "#             yref=\"y\",\n",
    "#             text=\"Введение<br>пропускной<br>системы в Москве\",\n",
    "#             showarrow=True,\n",
    "#             arrowhead=2,\n",
    "#             ax=0,\n",
    "#             ay=-60),\n",
    "#         dict(\n",
    "#             x='2020-06-09',\n",
    "#             y=1572,\n",
    "#             xref=\"x\",\n",
    "#             yref=\"y\",\n",
    "#             text=\"Отмена<br>пропускной<br>системы в Москве\",\n",
    "#             showarrow=True,\n",
    "#             arrowhead=2,\n",
    "#             ax=0,\n",
    "#             ay=-90),\n",
    "        dict(\n",
    "            x=0.5,\n",
    "            y=-0.15,\n",
    "            showarrow=False,\n",
    "            text=\"Данные: Яндекс\",\n",
    "            xref=\"paper\",\n",
    "            yref=\"paper\"),\n",
    "        \n",
    "                ],\n",
    "    \n",
    "    \n",
    "                  title_x = 0.5,\n",
    "                  title_y= 0.9,\n",
    "                  title_xanchor = \"center\",\n",
    "                  title_yanchor = \"bottom\", \n",
    "                  legend_x = 0.15,legend_y = 0.95,\n",
    "                  width = 990, height = 600,template = 'gridon',\n",
    "    \n",
    "    \n",
    "                  xaxis_title='',yaxis_title = ' '\n",
    ")\n",
    "\n",
    "\n",
    "fig.show()\n",
    "\n",
    "\n"
   ]
  },
  {
   "cell_type": "code",
   "execution_count": 13,
   "metadata": {},
   "outputs": [
    {
     "output_type": "display_data",
     "data": {
      "application/vnd.plotly.v1+json": {
       "config": {
        "plotlyServerURL": "https://plot.ly"
       },
       "data": [
        {
         "marker": {
          "color": [
           0,
           0,
           0,
           0,
           0,
           0,
           0,
           0,
           0,
           0,
           0,
           0,
           0,
           0,
           0,
           2,
           -2,
           1,
           -1,
           0,
           1,
           -1,
           0,
           1,
           -1,
           1,
           -1,
           7,
           -3,
           -2,
           -2,
           23,
           -7,
           -3,
           -13,
           0,
           65,
           -3,
           -2,
           -25,
           -1,
           -4,
           -2,
           11,
           6,
           4,
           -7,
           -10,
           35,
           -28,
           -9,
           7,
           6,
           16,
           -3,
           -2,
           -13,
           -4,
           10,
           -1,
           -4,
           -7,
           2,
           -3,
           -7,
           -2,
           3,
           5,
           1,
           0,
           1,
           1,
           -4,
           0,
           2,
           4,
           5,
           6,
           -5,
           -4,
           -5,
           1,
           3,
           3,
           -3,
           8,
           -7,
           7,
           -2,
           21,
           -2,
           -6,
           4,
           -4,
           0,
           -2,
           -1,
           0,
           1,
           0,
           1,
           -2,
           -1,
           0,
           -5,
           0,
           -1,
           -4,
           -4,
           -5,
           0,
           2,
           -1,
           2,
           -1,
           -2,
           -1,
           1,
           -1,
           3,
           1,
           -1,
           0,
           -1,
           0,
           1,
           1,
           0,
           -1,
           -2,
           0,
           1,
           -1,
           0,
           -1,
           0,
           -1,
           -1,
           0,
           0,
           1,
           0,
           -1,
           -1,
           1,
           -1,
           0,
           1,
           -2,
           0,
           -1,
           1,
           0,
           -1,
           2
          ],
          "colorbar": {
           "tickmode": "auto",
           "title": {
            "side": "top",
            "text": "Изменение"
           }
          },
          "colorscale": [
           [
            0,
            "rgb(0, 147, 146)"
           ],
           [
            0.16666666666666666,
            "rgb(57, 177, 133)"
           ],
           [
            0.3333333333333333,
            "rgb(156, 203, 134)"
           ],
           [
            0.5,
            "rgb(233, 226, 156)"
           ],
           [
            0.6666666666666666,
            "rgb(238, 180, 121)"
           ],
           [
            0.8333333333333334,
            "rgb(232, 132, 113)"
           ],
           [
            1,
            "rgb(207, 89, 126)"
           ]
          ]
         },
         "text": [
          0,
          0,
          0,
          0,
          0,
          0,
          0,
          0,
          0,
          0,
          0,
          0,
          0,
          0,
          0,
          2,
          -2,
          1,
          -1,
          0,
          1,
          -1,
          0,
          1,
          -1,
          1,
          -1,
          7,
          -3,
          -2,
          -2,
          23,
          -7,
          -3,
          -13,
          0,
          65,
          -3,
          -2,
          -25,
          -1,
          -4,
          -2,
          11,
          6,
          4,
          -7,
          -10,
          35,
          -28,
          -9,
          7,
          6,
          16,
          -3,
          -2,
          -13,
          -4,
          10,
          -1,
          -4,
          -7,
          2,
          -3,
          -7,
          -2,
          3,
          5,
          1,
          0,
          1,
          1,
          -4,
          0,
          2,
          4,
          5,
          6,
          -5,
          -4,
          -5,
          1,
          3,
          3,
          -3,
          8,
          -7,
          7,
          -2,
          21,
          -2,
          -6,
          4,
          -4,
          0,
          -2,
          -1,
          0,
          1,
          0,
          1,
          -2,
          -1,
          0,
          -5,
          0,
          -1,
          -4,
          -4,
          -5,
          0,
          2,
          -1,
          2,
          -1,
          -2,
          -1,
          1,
          -1,
          3,
          1,
          -1,
          0,
          -1,
          0,
          1,
          1,
          0,
          -1,
          -2,
          0,
          1,
          -1,
          0,
          -1,
          0,
          -1,
          -1,
          0,
          0,
          1,
          0,
          -1,
          -1,
          1,
          -1,
          0,
          1,
          -2,
          0,
          -1,
          1,
          0,
          -1,
          2
         ],
         "textposition": "inside",
         "type": "bar",
         "x": [
          "2020-03-12",
          "2020-03-13",
          "2020-03-14",
          "2020-03-15",
          "2020-03-16",
          "2020-03-17",
          "2020-03-18",
          "2020-03-19",
          "2020-03-20",
          "2020-03-21",
          "2020-03-22",
          "2020-03-23",
          "2020-03-24",
          "2020-03-25",
          "2020-03-26",
          "2020-03-27",
          "2020-03-28",
          "2020-03-29",
          "2020-03-30",
          "2020-03-31",
          "2020-04-01",
          "2020-04-02",
          "2020-04-03",
          "2020-04-04",
          "2020-04-05",
          "2020-04-06",
          "2020-04-07",
          "2020-04-08",
          "2020-04-09",
          "2020-04-10",
          "2020-04-11",
          "2020-04-12",
          "2020-04-13",
          "2020-04-14",
          "2020-04-15",
          "2020-04-16",
          "2020-04-17",
          "2020-04-18",
          "2020-04-19",
          "2020-04-20",
          "2020-04-21",
          "2020-04-22",
          "2020-04-23",
          "2020-04-24",
          "2020-04-25",
          "2020-04-26",
          "2020-04-27",
          "2020-04-28",
          "2020-04-29",
          "2020-04-30",
          "2020-05-01",
          "2020-05-02",
          "2020-05-03",
          "2020-05-04",
          "2020-05-05",
          "2020-05-06",
          "2020-05-07",
          "2020-05-08",
          "2020-05-09",
          "2020-05-10",
          "2020-05-11",
          "2020-05-12",
          "2020-05-13",
          "2020-05-14",
          "2020-05-15",
          "2020-05-16",
          "2020-05-17",
          "2020-05-18",
          "2020-05-19",
          "2020-05-20",
          "2020-05-21",
          "2020-05-22",
          "2020-05-23",
          "2020-05-24",
          "2020-05-25",
          "2020-05-26",
          "2020-05-27",
          "2020-05-28",
          "2020-05-29",
          "2020-05-30",
          "2020-05-31",
          "2020-06-01",
          "2020-06-02",
          "2020-06-03",
          "2020-06-04",
          "2020-06-05",
          "2020-06-06",
          "2020-06-07",
          "2020-06-08",
          "2020-06-09",
          "2020-06-10",
          "2020-06-11",
          "2020-06-12",
          "2020-06-13",
          "2020-06-14",
          "2020-06-15",
          "2020-06-16",
          "2020-06-17",
          "2020-06-18",
          "2020-06-19",
          "2020-06-20",
          "2020-06-21",
          "2020-06-22",
          "2020-06-23",
          "2020-06-24",
          "2020-06-25",
          "2020-06-26",
          "2020-06-27",
          "2020-06-28",
          "2020-06-29",
          "2020-06-30",
          "2020-07-01",
          "2020-07-02",
          "2020-07-03",
          "2020-07-04",
          "2020-07-05",
          "2020-07-06",
          "2020-07-07",
          "2020-07-08",
          "2020-07-09",
          "2020-07-10",
          "2020-07-11",
          "2020-07-12",
          "2020-07-13",
          "2020-07-14",
          "2020-07-15",
          "2020-07-16",
          "2020-07-17",
          "2020-07-18",
          "2020-07-19",
          "2020-07-20",
          "2020-07-21",
          "2020-07-22",
          "2020-07-23",
          "2020-07-24",
          "2020-07-25",
          "2020-07-26",
          "2020-07-27",
          "2020-07-28",
          "2020-07-29",
          "2020-07-30",
          "2020-07-31",
          "2020-08-01",
          "2020-08-02",
          "2020-08-03",
          "2020-08-04",
          "2020-08-05",
          "2020-08-06",
          "2020-08-07",
          "2020-08-08",
          "2020-08-09",
          "2020-08-10",
          "2020-08-11",
          "2020-08-12",
          "2020-08-13"
         ],
         "y": [
          0,
          0,
          0,
          0,
          0,
          0,
          0,
          0,
          0,
          0,
          0,
          0,
          0,
          0,
          0,
          2,
          -2,
          1,
          -1,
          0,
          1,
          -1,
          0,
          1,
          -1,
          1,
          -1,
          7,
          -3,
          -2,
          -2,
          23,
          -7,
          -3,
          -13,
          0,
          65,
          -3,
          -2,
          -25,
          -1,
          -4,
          -2,
          11,
          6,
          4,
          -7,
          -10,
          35,
          -28,
          -9,
          7,
          6,
          16,
          -3,
          -2,
          -13,
          -4,
          10,
          -1,
          -4,
          -7,
          2,
          -3,
          -7,
          -2,
          3,
          5,
          1,
          0,
          1,
          1,
          -4,
          0,
          2,
          4,
          5,
          6,
          -5,
          -4,
          -5,
          1,
          3,
          3,
          -3,
          8,
          -7,
          7,
          -2,
          21,
          -2,
          -6,
          4,
          -4,
          0,
          -2,
          -1,
          0,
          1,
          0,
          1,
          -2,
          -1,
          0,
          -5,
          0,
          -1,
          -4,
          -4,
          -5,
          0,
          2,
          -1,
          2,
          -1,
          -2,
          -1,
          1,
          -1,
          3,
          1,
          -1,
          0,
          -1,
          0,
          1,
          1,
          0,
          -1,
          -2,
          0,
          1,
          -1,
          0,
          -1,
          0,
          -1,
          -1,
          0,
          0,
          1,
          0,
          -1,
          -1,
          1,
          -1,
          0,
          1,
          -2,
          0,
          -1,
          1,
          0,
          -1,
          2
         ]
        }
       ],
       "layout": {
        "annotations": [
         {
          "showarrow": false,
          "text": "",
          "x": 0.5,
          "xref": "paper",
          "y": -0.15,
          "yref": "paper"
         }
        ],
        "height": 600,
        "legend": {
         "x": 0.05,
         "y": 0.98
        },
        "template": {
         "data": {
          "pie": [
           {
            "automargin": true,
            "type": "pie"
           }
          ]
         },
         "layout": {
          "xaxis": {
           "showgrid": true,
           "title": {
            "standoff": 15
           }
          },
          "yaxis": {
           "showgrid": true,
           "title": {
            "standoff": 15
           }
          }
         }
        },
        "title": {
         "text": "Мордовия: динамика новых заболевших COVID-19 по дням<br>(изменение относительно предыдущего дня)",
         "x": 0.5,
         "xanchor": "center",
         "y": 0.9,
         "yanchor": "bottom"
        },
        "width": 990,
        "xaxis": {
         "title": {
          "text": "Данные: Яндекс"
         }
        },
        "yaxis": {
         "title": {
          "text": " "
         }
        }
       }
      }
     },
     "metadata": {}
    }
   ],
   "source": [
    "mask = X.Region ==my_region\n",
    "#mask = (X.Date>datetime.date(2020,5,1))&(X.Region==my_region)\n",
    "#Y = X[mask]\n",
    "\n",
    "#Y['base'] = Y['Change_dayconf']*Y['Change_dayconf'].apply(lambda d:0 if d>0 else 1)\n",
    "#Y['Date']= pd.to_datetime(Y.Date)\n",
    "fig = go.Figure()\n",
    "fig.add_trace(\n",
    "              go.Bar(x = X[mask].Date,y=X[mask].Change_dayconf,text = X[mask]['Change_dayconf'],textposition = 'inside',\n",
    "                \n",
    "                \n",
    "                 marker_color = X[mask]['Change_dayconf'],marker_colorscale = 'Temps',marker_colorbar ={'tickmode':'auto',\n",
    "                                    'title':{'text':'Изменение','side':'top'}}\n",
    "                    )   \n",
    "                )\n",
    "fig.update_layout(\n",
    "   annotations=[\n",
    "        \n",
    "        dict(x=0.5,y=-0.15,\n",
    "            showarrow=False,\n",
    "            text=\"\",\n",
    "            xref=\"paper\",\n",
    "            yref=\"paper\")],\n",
    "                  title=f'{my_region}: динамика новых заболевших COVID-19 по дням<br>(изменение относительно предыдущего дня)',\n",
    "                  title_x = 0.5,\n",
    "                  title_y= 0.9,\n",
    "                  title_xanchor = \"center\",\n",
    "                  title_yanchor = \"bottom\", \n",
    "                  legend_x = 0.05,legend_y = 0.98,\n",
    "                  width = 990, height = 600,template = 'gridon',\n",
    "    \n",
    "    \n",
    "                  xaxis_title='Данные: Яндекс',\n",
    "    yaxis_title = ' '\n",
    ")\n",
    "\n",
    "fig.show()\n",
    "\n",
    "\n",
    "\n",
    "\n"
   ]
  },
  {
   "cell_type": "code",
   "execution_count": 16,
   "metadata": {},
   "outputs": [
    {
     "output_type": "display_data",
     "data": {
      "application/vnd.plotly.v1+json": {
       "config": {
        "plotlyServerURL": "https://plot.ly"
       },
       "data": [
        {
         "alignmentgroup": "True",
         "hovertemplate": "Date=%{x}<br>Текущие больные=%{marker.color}<extra></extra>",
         "legendgroup": "",
         "marker": {
          "color": [
           5,
           5,
           5,
           8,
           11,
           17,
           21,
           26,
           35,
           34,
           52,
           54,
           85,
           97,
           126,
           129,
           183,
           253,
           281,
           394,
           529,
           682,
           794,
           980,
           1192,
           1532,
           1749,
           2316,
           2735,
           3136,
           3666,
           4249,
           4928,
           5540,
           6347,
           7422,
           8295,
           9399,
           10594,
           11891,
           13465,
           14639,
           16461,
           18927,
           22385,
           24308,
           27143,
           29453,
           31204,
           33837,
           36096,
           38901,
           41392,
           43817,
           45490,
           47993,
           50876,
           55589,
           60848,
           66064,
           71429,
           76649,
           82544,
           87307,
           90400,
           94882,
           96963,
           100480,
           103266,
           106099,
           109544,
           111505,
           113831,
           115569,
           116460,
           113644,
           112743,
           112758,
           112050,
           112080,
           110853,
           105574,
           101802,
           99992,
           98774,
           97464,
           98135,
           98296,
           94481,
           92877,
           91750,
           90905,
           89766,
           89384,
           89701,
           85824,
           83167,
           82314,
           81724,
           81639,
           80933,
           80690,
           79180,
           77926,
           76871,
           75956,
           74864,
           74793,
           74727,
           73204,
           71981,
           71928,
           70719,
           69597,
           69238,
           68990,
           67405,
           66185,
           65753,
           64787,
           63822,
           63887,
           63918,
           62457,
           61855,
           61218,
           60820,
           60467,
           60654,
           60907,
           60471,
           59226,
           58588,
           58468,
           58489,
           58707,
           58891,
           58623,
           58074,
           58215,
           58387,
           58460,
           58828,
           59245,
           59082,
           59115,
           58310,
           57731,
           56995,
           56886,
           56724,
           55947,
           55294,
           54711,
           54032,
           53431,
           53305,
           53088,
           52725,
           52314,
           52208
          ],
          "coloraxis": "coloraxis"
         },
         "name": "",
         "offsetgroup": "",
         "orientation": "v",
         "showlegend": false,
         "text": [
          5,
          5,
          5,
          8,
          11,
          17,
          21,
          26,
          35,
          34,
          52,
          54,
          85,
          97,
          126,
          129,
          183,
          253,
          281,
          394,
          529,
          682,
          794,
          980,
          1192,
          1532,
          1749,
          2316,
          2735,
          3136,
          3666,
          4249,
          4928,
          5540,
          6347,
          7422,
          8295,
          9399,
          10594,
          11891,
          13465,
          14639,
          16461,
          18927,
          22385,
          24308,
          27143,
          29453,
          31204,
          33837,
          36096,
          38901,
          41392,
          43817,
          45490,
          47993,
          50876,
          55589,
          60848,
          66064,
          71429,
          76649,
          82544,
          87307,
          90400,
          94882,
          96963,
          100480,
          103266,
          106099,
          109544,
          111505,
          113831,
          115569,
          116460,
          113644,
          112743,
          112758,
          112050,
          112080,
          110853,
          105574,
          101802,
          99992,
          98774,
          97464,
          98135,
          98296,
          94481,
          92877,
          91750,
          90905,
          89766,
          89384,
          89701,
          85824,
          83167,
          82314,
          81724,
          81639,
          80933,
          80690,
          79180,
          77926,
          76871,
          75956,
          74864,
          74793,
          74727,
          73204,
          71981,
          71928,
          70719,
          69597,
          69238,
          68990,
          67405,
          66185,
          65753,
          64787,
          63822,
          63887,
          63918,
          62457,
          61855,
          61218,
          60820,
          60467,
          60654,
          60907,
          60471,
          59226,
          58588,
          58468,
          58489,
          58707,
          58891,
          58623,
          58074,
          58215,
          58387,
          58460,
          58828,
          59245,
          59082,
          59115,
          58310,
          57731,
          56995,
          56886,
          56724,
          55947,
          55294,
          54711,
          54032,
          53431,
          53305,
          53088,
          52725,
          52314,
          52208
         ],
         "textposition": "auto",
         "type": "bar",
         "x": [
          "2020-03-06",
          "2020-03-07",
          "2020-03-08",
          "2020-03-09",
          "2020-03-10",
          "2020-03-11",
          "2020-03-12",
          "2020-03-13",
          "2020-03-14",
          "2020-03-15",
          "2020-03-16",
          "2020-03-17",
          "2020-03-18",
          "2020-03-19",
          "2020-03-20",
          "2020-03-21",
          "2020-03-22",
          "2020-03-23",
          "2020-03-24",
          "2020-03-25",
          "2020-03-26",
          "2020-03-27",
          "2020-03-28",
          "2020-03-29",
          "2020-03-30",
          "2020-03-31",
          "2020-04-01",
          "2020-04-02",
          "2020-04-03",
          "2020-04-04",
          "2020-04-05",
          "2020-04-06",
          "2020-04-07",
          "2020-04-08",
          "2020-04-09",
          "2020-04-10",
          "2020-04-11",
          "2020-04-12",
          "2020-04-13",
          "2020-04-14",
          "2020-04-15",
          "2020-04-16",
          "2020-04-17",
          "2020-04-18",
          "2020-04-19",
          "2020-04-20",
          "2020-04-21",
          "2020-04-22",
          "2020-04-23",
          "2020-04-24",
          "2020-04-25",
          "2020-04-26",
          "2020-04-27",
          "2020-04-28",
          "2020-04-29",
          "2020-04-30",
          "2020-05-01",
          "2020-05-02",
          "2020-05-03",
          "2020-05-04",
          "2020-05-05",
          "2020-05-06",
          "2020-05-07",
          "2020-05-08",
          "2020-05-09",
          "2020-05-10",
          "2020-05-11",
          "2020-05-12",
          "2020-05-13",
          "2020-05-14",
          "2020-05-15",
          "2020-05-16",
          "2020-05-17",
          "2020-05-18",
          "2020-05-19",
          "2020-05-20",
          "2020-05-21",
          "2020-05-22",
          "2020-05-23",
          "2020-05-24",
          "2020-05-25",
          "2020-05-26",
          "2020-05-27",
          "2020-05-28",
          "2020-05-29",
          "2020-05-30",
          "2020-05-31",
          "2020-06-01",
          "2020-06-02",
          "2020-06-03",
          "2020-06-04",
          "2020-06-05",
          "2020-06-06",
          "2020-06-07",
          "2020-06-08",
          "2020-06-09",
          "2020-06-10",
          "2020-06-11",
          "2020-06-12",
          "2020-06-13",
          "2020-06-14",
          "2020-06-15",
          "2020-06-16",
          "2020-06-17",
          "2020-06-18",
          "2020-06-19",
          "2020-06-20",
          "2020-06-21",
          "2020-06-22",
          "2020-06-23",
          "2020-06-24",
          "2020-06-25",
          "2020-06-26",
          "2020-06-27",
          "2020-06-28",
          "2020-06-29",
          "2020-06-30",
          "2020-07-01",
          "2020-07-02",
          "2020-07-03",
          "2020-07-04",
          "2020-07-05",
          "2020-07-06",
          "2020-07-07",
          "2020-07-08",
          "2020-07-09",
          "2020-07-10",
          "2020-07-11",
          "2020-07-12",
          "2020-07-13",
          "2020-07-14",
          "2020-07-15",
          "2020-07-16",
          "2020-07-17",
          "2020-07-18",
          "2020-07-19",
          "2020-07-20",
          "2020-07-21",
          "2020-07-22",
          "2020-07-23",
          "2020-07-24",
          "2020-07-25",
          "2020-07-26",
          "2020-07-27",
          "2020-07-28",
          "2020-07-29",
          "2020-07-30",
          "2020-07-31",
          "2020-08-01",
          "2020-08-02",
          "2020-08-03",
          "2020-08-04",
          "2020-08-05",
          "2020-08-06",
          "2020-08-07",
          "2020-08-08",
          "2020-08-09",
          "2020-08-10",
          "2020-08-11",
          "2020-08-12",
          "2020-08-13"
         ],
         "xaxis": "x",
         "y": [
          5,
          5,
          5,
          8,
          11,
          17,
          21,
          26,
          35,
          34,
          52,
          54,
          85,
          97,
          126,
          129,
          183,
          253,
          281,
          394,
          529,
          682,
          794,
          980,
          1192,
          1532,
          1749,
          2316,
          2735,
          3136,
          3666,
          4249,
          4928,
          5540,
          6347,
          7422,
          8295,
          9399,
          10594,
          11891,
          13465,
          14639,
          16461,
          18927,
          22385,
          24308,
          27143,
          29453,
          31204,
          33837,
          36096,
          38901,
          41392,
          43817,
          45490,
          47993,
          50876,
          55589,
          60848,
          66064,
          71429,
          76649,
          82544,
          87307,
          90400,
          94882,
          96963,
          100480,
          103266,
          106099,
          109544,
          111505,
          113831,
          115569,
          116460,
          113644,
          112743,
          112758,
          112050,
          112080,
          110853,
          105574,
          101802,
          99992,
          98774,
          97464,
          98135,
          98296,
          94481,
          92877,
          91750,
          90905,
          89766,
          89384,
          89701,
          85824,
          83167,
          82314,
          81724,
          81639,
          80933,
          80690,
          79180,
          77926,
          76871,
          75956,
          74864,
          74793,
          74727,
          73204,
          71981,
          71928,
          70719,
          69597,
          69238,
          68990,
          67405,
          66185,
          65753,
          64787,
          63822,
          63887,
          63918,
          62457,
          61855,
          61218,
          60820,
          60467,
          60654,
          60907,
          60471,
          59226,
          58588,
          58468,
          58489,
          58707,
          58891,
          58623,
          58074,
          58215,
          58387,
          58460,
          58828,
          59245,
          59082,
          59115,
          58310,
          57731,
          56995,
          56886,
          56724,
          55947,
          55294,
          54711,
          54032,
          53431,
          53305,
          53088,
          52725,
          52314,
          52208
         ],
         "yaxis": "y"
        },
        {
         "line": {
          "color": "green"
         },
         "mode": "lines",
         "name": "14-дневная скользящая средняя",
         "showlegend": true,
         "type": "scatter",
         "x": [
          "2020-03-06",
          "2020-03-07",
          "2020-03-08",
          "2020-03-09",
          "2020-03-10",
          "2020-03-11",
          "2020-03-12",
          "2020-03-13",
          "2020-03-14",
          "2020-03-15",
          "2020-03-16",
          "2020-03-17",
          "2020-03-18",
          "2020-03-19",
          "2020-03-20",
          "2020-03-21",
          "2020-03-22",
          "2020-03-23",
          "2020-03-24",
          "2020-03-25",
          "2020-03-26",
          "2020-03-27",
          "2020-03-28",
          "2020-03-29",
          "2020-03-30",
          "2020-03-31",
          "2020-04-01",
          "2020-04-02",
          "2020-04-03",
          "2020-04-04",
          "2020-04-05",
          "2020-04-06",
          "2020-04-07",
          "2020-04-08",
          "2020-04-09",
          "2020-04-10",
          "2020-04-11",
          "2020-04-12",
          "2020-04-13",
          "2020-04-14",
          "2020-04-15",
          "2020-04-16",
          "2020-04-17",
          "2020-04-18",
          "2020-04-19",
          "2020-04-20",
          "2020-04-21",
          "2020-04-22",
          "2020-04-23",
          "2020-04-24",
          "2020-04-25",
          "2020-04-26",
          "2020-04-27",
          "2020-04-28",
          "2020-04-29",
          "2020-04-30",
          "2020-05-01",
          "2020-05-02",
          "2020-05-03",
          "2020-05-04",
          "2020-05-05",
          "2020-05-06",
          "2020-05-07",
          "2020-05-08",
          "2020-05-09",
          "2020-05-10",
          "2020-05-11",
          "2020-05-12",
          "2020-05-13",
          "2020-05-14",
          "2020-05-15",
          "2020-05-16",
          "2020-05-17",
          "2020-05-18",
          "2020-05-19",
          "2020-05-20",
          "2020-05-21",
          "2020-05-22",
          "2020-05-23",
          "2020-05-24",
          "2020-05-25",
          "2020-05-26",
          "2020-05-27",
          "2020-05-28",
          "2020-05-29",
          "2020-05-30",
          "2020-05-31",
          "2020-06-01",
          "2020-06-02",
          "2020-06-03",
          "2020-06-04",
          "2020-06-05",
          "2020-06-06",
          "2020-06-07",
          "2020-06-08",
          "2020-06-09",
          "2020-06-10",
          "2020-06-11",
          "2020-06-12",
          "2020-06-13",
          "2020-06-14",
          "2020-06-15",
          "2020-06-16",
          "2020-06-17",
          "2020-06-18",
          "2020-06-19",
          "2020-06-20",
          "2020-06-21",
          "2020-06-22",
          "2020-06-23",
          "2020-06-24",
          "2020-06-25",
          "2020-06-26",
          "2020-06-27",
          "2020-06-28",
          "2020-06-29",
          "2020-06-30",
          "2020-07-01",
          "2020-07-02",
          "2020-07-03",
          "2020-07-04",
          "2020-07-05",
          "2020-07-06",
          "2020-07-07",
          "2020-07-08",
          "2020-07-09",
          "2020-07-10",
          "2020-07-11",
          "2020-07-12",
          "2020-07-13",
          "2020-07-14",
          "2020-07-15",
          "2020-07-16",
          "2020-07-17",
          "2020-07-18",
          "2020-07-19",
          "2020-07-20",
          "2020-07-21",
          "2020-07-22",
          "2020-07-23",
          "2020-07-24",
          "2020-07-25",
          "2020-07-26",
          "2020-07-27",
          "2020-07-28",
          "2020-07-29",
          "2020-07-30",
          "2020-07-31",
          "2020-08-01",
          "2020-08-02",
          "2020-08-03",
          "2020-08-04",
          "2020-08-05",
          "2020-08-06",
          "2020-08-07",
          "2020-08-08",
          "2020-08-09",
          "2020-08-10",
          "2020-08-11",
          "2020-08-12",
          "2020-08-13"
         ],
         "y": [
          null,
          null,
          null,
          null,
          null,
          null,
          null,
          null,
          null,
          null,
          null,
          null,
          null,
          32.5,
          41.142857142857146,
          50,
          62.714285714285715,
          80.21428571428571,
          99.5,
          126.42857142857143,
          162.71428571428572,
          209.57142857142858,
          263.7857142857143,
          331.35714285714283,
          412.7857142857143,
          518.3571428571429,
          637.2142857142857,
          795.7142857142857,
          982.0714285714286,
          1196.857142857143,
          1445.642857142857,
          1731.0714285714287,
          2063,
          2430.5714285714284,
          2846.1428571428573,
          3327.5714285714284,
          3863.3571428571427,
          4464.714285714285,
          5136.285714285715,
          5876.214285714285,
          6713.071428571428,
          7593.285714285715,
          8573.714285714286,
          9701.642857142857,
          11038.714285714286,
          12471.5,
          14058.285714285714,
          15766.357142857143,
          17541.85714285714,
          19428.64285714286,
          21414.428571428572,
          23521.714285714286,
          25721.571428571428,
          28002,
          30289.5,
          32671.928571428572,
          35130.142857142855,
          37748.857142857145,
          40496.21428571428,
          43478.78571428572,
          46642.07142857143,
          50013.21428571428,
          53680.357142857145,
          57499.642857142855,
          61378.5,
          65377.142857142855,
          69346.5,
          73393.85714285714,
          77520.71428571429,
          81671.14285714286,
          85861.71428571429,
          89855.71428571429,
          93640.21428571429,
          97176.28571428571,
          100392.78571428571,
          103035.28571428571,
          105192.35714285714,
          107010.28571428571,
          108556.71428571429,
          109785.14285714286,
          110777.28571428571,
          111141.14285714286,
          111036.57142857143,
          110600.35714285714,
          109831.07142857143,
          108828.14285714286,
          107707,
          106473.21428571429,
          104903.28571428571,
          103419.92857142857,
          101920.42857142857,
          100359.5,
          98767.78571428571,
          97146.64285714286,
          95635.78571428571,
          94225.07142857143,
          92894,
          91631.28571428571,
          90413.42857142857,
          89283.07142857143,
          88054.35714285714,
          86796.78571428571,
          85703.85714285714,
          84635.92857142857,
          83573.14285714286,
          82505.35714285714,
          81440.92857142857,
          80398.71428571429,
          79329.14285714286,
          78427.71428571429,
          77628.71428571429,
          76886.85714285714,
          76100.78571428571,
          75240.64285714286,
          74405.28571428571,
          73569.57142857143,
          72728.5,
          71889.85714285714,
          71095.71428571429,
          70297.92857142857,
          69509.21428571429,
          68730.21428571429,
          67958.14285714286,
          67190.5,
          66467.21428571429,
          65702.21428571429,
          64995.142857142855,
          64343,
          63729.857142857145,
          63152.5,
          62657.21428571428,
          62160.142857142855,
          61648.357142857145,
          61197,
          60816.07142857143,
          60446.07142857143,
          60087,
          59813.142857142855,
          59543.07142857143,
          59328.57142857143,
          59154.78571428572,
          59011.42857142857,
          58881,
          58762.28571428572,
          58663.07142857143,
          58655.142857142855,
          58635.28571428572,
          58582.642857142855,
          58475.92857142857,
          58345.857142857145,
          58191.07142857143,
          57999.92857142857,
          57801.357142857145,
          57551.07142857143,
          57240,
          56880.78571428572,
          56486.28571428572,
          56046.5,
          55592.42857142857,
          55106.642857142855,
          54670.78571428572
         ]
        },
        {
         "line": {
          "color": "red"
         },
         "mode": "lines",
         "name": "7-дневная скользящая средняя",
         "showlegend": true,
         "type": "scatter",
         "x": [
          "2020-03-06",
          "2020-03-07",
          "2020-03-08",
          "2020-03-09",
          "2020-03-10",
          "2020-03-11",
          "2020-03-12",
          "2020-03-13",
          "2020-03-14",
          "2020-03-15",
          "2020-03-16",
          "2020-03-17",
          "2020-03-18",
          "2020-03-19",
          "2020-03-20",
          "2020-03-21",
          "2020-03-22",
          "2020-03-23",
          "2020-03-24",
          "2020-03-25",
          "2020-03-26",
          "2020-03-27",
          "2020-03-28",
          "2020-03-29",
          "2020-03-30",
          "2020-03-31",
          "2020-04-01",
          "2020-04-02",
          "2020-04-03",
          "2020-04-04",
          "2020-04-05",
          "2020-04-06",
          "2020-04-07",
          "2020-04-08",
          "2020-04-09",
          "2020-04-10",
          "2020-04-11",
          "2020-04-12",
          "2020-04-13",
          "2020-04-14",
          "2020-04-15",
          "2020-04-16",
          "2020-04-17",
          "2020-04-18",
          "2020-04-19",
          "2020-04-20",
          "2020-04-21",
          "2020-04-22",
          "2020-04-23",
          "2020-04-24",
          "2020-04-25",
          "2020-04-26",
          "2020-04-27",
          "2020-04-28",
          "2020-04-29",
          "2020-04-30",
          "2020-05-01",
          "2020-05-02",
          "2020-05-03",
          "2020-05-04",
          "2020-05-05",
          "2020-05-06",
          "2020-05-07",
          "2020-05-08",
          "2020-05-09",
          "2020-05-10",
          "2020-05-11",
          "2020-05-12",
          "2020-05-13",
          "2020-05-14",
          "2020-05-15",
          "2020-05-16",
          "2020-05-17",
          "2020-05-18",
          "2020-05-19",
          "2020-05-20",
          "2020-05-21",
          "2020-05-22",
          "2020-05-23",
          "2020-05-24",
          "2020-05-25",
          "2020-05-26",
          "2020-05-27",
          "2020-05-28",
          "2020-05-29",
          "2020-05-30",
          "2020-05-31",
          "2020-06-01",
          "2020-06-02",
          "2020-06-03",
          "2020-06-04",
          "2020-06-05",
          "2020-06-06",
          "2020-06-07",
          "2020-06-08",
          "2020-06-09",
          "2020-06-10",
          "2020-06-11",
          "2020-06-12",
          "2020-06-13",
          "2020-06-14",
          "2020-06-15",
          "2020-06-16",
          "2020-06-17",
          "2020-06-18",
          "2020-06-19",
          "2020-06-20",
          "2020-06-21",
          "2020-06-22",
          "2020-06-23",
          "2020-06-24",
          "2020-06-25",
          "2020-06-26",
          "2020-06-27",
          "2020-06-28",
          "2020-06-29",
          "2020-06-30",
          "2020-07-01",
          "2020-07-02",
          "2020-07-03",
          "2020-07-04",
          "2020-07-05",
          "2020-07-06",
          "2020-07-07",
          "2020-07-08",
          "2020-07-09",
          "2020-07-10",
          "2020-07-11",
          "2020-07-12",
          "2020-07-13",
          "2020-07-14",
          "2020-07-15",
          "2020-07-16",
          "2020-07-17",
          "2020-07-18",
          "2020-07-19",
          "2020-07-20",
          "2020-07-21",
          "2020-07-22",
          "2020-07-23",
          "2020-07-24",
          "2020-07-25",
          "2020-07-26",
          "2020-07-27",
          "2020-07-28",
          "2020-07-29",
          "2020-07-30",
          "2020-07-31",
          "2020-08-01",
          "2020-08-02",
          "2020-08-03",
          "2020-08-04",
          "2020-08-05",
          "2020-08-06",
          "2020-08-07",
          "2020-08-08",
          "2020-08-09",
          "2020-08-10",
          "2020-08-11",
          "2020-08-12",
          "2020-08-13"
         ],
         "y": [
          null,
          null,
          null,
          null,
          null,
          null,
          10.285714285714286,
          13.285714285714286,
          17.571428571428573,
          21.714285714285715,
          28,
          34.142857142857146,
          43.857142857142854,
          54.714285714285715,
          69,
          82.42857142857143,
          103.71428571428571,
          132.42857142857142,
          164.85714285714286,
          209,
          270.7142857142857,
          350.14285714285717,
          445.14285714285717,
          559,
          693.1428571428571,
          871.8571428571429,
          1065.4285714285713,
          1320.7142857142858,
          1614,
          1948.5714285714287,
          2332.285714285714,
          2769,
          3254.1428571428573,
          3795.714285714286,
          4371.571428571428,
          5041.142857142857,
          5778.142857142857,
          6597.142857142857,
          7503.571428571428,
          8498.285714285714,
          9630.42857142857,
          10815,
          12106.285714285714,
          13625.142857142857,
          15480.285714285714,
          17439.428571428572,
          19618.285714285714,
          21902.285714285714,
          24268.714285714286,
          26751,
          29203.714285714286,
          31563.14285714286,
          34003.71428571428,
          36385.71428571428,
          38676.71428571428,
          41075.142857142855,
          43509.28571428572,
          46294,
          49429.28571428572,
          52953.857142857145,
          56898.42857142857,
          61349.71428571428,
          66285.57142857143,
          71490,
          76463,
          81325,
          85739.14285714286,
          89889.28571428571,
          93691.71428571429,
          97056.71428571429,
          100233.42857142857,
          103248.42857142857,
          105955.42857142857,
          108613.42857142857,
          110896.28571428571,
          112378.85714285714,
          113328,
          113787.14285714286,
          113865,
          113614.85714285714,
          112941.14285714286,
          111386,
          109694.28571428571,
          107872.71428571429,
          105875,
          103791.28571428571,
          101799.14285714286,
          100005.28571428571,
          98420.57142857143,
          97145.57142857143,
          95968.14285714286,
          94844,
          93744.28571428571,
          92494.14285714286,
          91266.28571428571,
          90029.57142857143,
          88642.42857142857,
          87294.42857142857,
          85982.85714285714,
          84821.85714285714,
          83614.57142857143,
          82327.28571428571,
          81378.14285714286,
          80629.42857142857,
          79851.85714285714,
          79027.85714285714,
          78060,
          77182.85714285714,
          76331,
          75477.28571428571,
          74628,
          73921.85714285714,
          73173.71428571429,
          72421.28571428571,
          71627.71428571429,
          70808.14285714286,
          69979.71428571429,
          69151.71428571429,
          68269.57142857143,
          67422.14285714286,
          66597.14285714286,
          65832.71428571429,
          65108.142857142855,
          64401.28571428572,
          63782.71428571428,
          63134.857142857145,
          62568.142857142855,
          62088.857142857145,
          61627,
          61196.857142857145,
          60913.142857142855,
          60537.57142857143,
          60161.857142857145,
          59825.857142857145,
          59543.28571428572,
          59265.142857142855,
          58977.142857142855,
          58713.142857142855,
          58548.57142857143,
          58495.28571428572,
          58483.71428571428,
          58479.57142857143,
          58496.857142857145,
          58547.42857142857,
          58613,
          58761.71428571428,
          58775.28571428572,
          58681.57142857143,
          58472.28571428572,
          58194.857142857145,
          57834.71428571428,
          57386.857142857145,
          56841,
          56326.857142857145,
          55798.42857142857,
          55289.28571428572,
          54777.71428571428,
          54258.28571428572,
          53798,
          53372.28571428572,
          53014.71428571428
         ]
        }
       ],
       "layout": {
        "annotations": [
         {
          "showarrow": false,
          "text": "",
          "x": 0.5,
          "xref": "paper",
          "y": -0.15,
          "yref": "paper"
         }
        ],
        "barmode": "relative",
        "coloraxis": {
         "colorbar": {
          "title": {
           "text": "Текущие больные"
          }
         },
         "colorscale": [
          [
           0,
           "rgb(254, 245, 244)"
          ],
          [
           0.09090909090909091,
           "rgb(222, 224, 210)"
          ],
          [
           0.18181818181818182,
           "rgb(189, 206, 181)"
          ],
          [
           0.2727272727272727,
           "rgb(153, 189, 156)"
          ],
          [
           0.36363636363636365,
           "rgb(110, 173, 138)"
          ],
          [
           0.45454545454545453,
           "rgb(65, 157, 129)"
          ],
          [
           0.5454545454545454,
           "rgb(25, 137, 125)"
          ],
          [
           0.6363636363636364,
           "rgb(18, 116, 117)"
          ],
          [
           0.7272727272727273,
           "rgb(25, 94, 106)"
          ],
          [
           0.8181818181818182,
           "rgb(28, 72, 93)"
          ],
          [
           0.9090909090909091,
           "rgb(25, 51, 80)"
          ],
          [
           1,
           "rgb(20, 29, 67)"
          ]
         ]
        },
        "height": 600,
        "legend": {
         "tracegroupgap": 0,
         "x": 0.05,
         "y": 0.98
        },
        "template": {
         "data": {
          "pie": [
           {
            "automargin": true,
            "type": "pie"
           }
          ]
         },
         "layout": {
          "xaxis": {
           "showgrid": true,
           "title": {
            "standoff": 15
           }
          },
          "yaxis": {
           "showgrid": true,
           "title": {
            "standoff": 15
           }
          }
         }
        },
        "title": {
         "text": "Москва: график количества текущих больных COVID-19 по датам",
         "x": 0.5,
         "xanchor": "center",
         "y": 0.9,
         "yanchor": "bottom"
        },
        "width": 990,
        "xaxis": {
         "anchor": "y",
         "domain": [
          0,
          1
         ],
         "title": {
          "text": "Текущие больные = количество выявленных - количество выздоровевших - количество умерших<br>Данные: Яндекс"
         }
        },
        "yaxis": {
         "anchor": "x",
         "domain": [
          0,
          1
         ],
         "title": {
          "text": " "
         }
        }
       }
      }
     },
     "metadata": {}
    }
   ],
   "source": [
    "mask = X.Region ==my_region\n",
    "#mask = (X.Date>'2020-05-01')&(X.Region.isin(regions_towatch))\n",
    "\n",
    "fig = px.bar(X[mask], x='Date', y=\"Remaining_ill\",color ='Remaining_ill',\n",
    "             title=f'{my_region}: '+'график количества текущих больных COVID-19 по датам',\n",
    "              color_continuous_scale= 'tempo',text = 'Remaining_ill',\n",
    "            labels = {'Day_confirmed' : \"Новые заболевшие\",'Remaining_ill':'Текущие больные'})\n",
    "fig.add_trace(\n",
    "    go.Scatter(\n",
    "        name='14-дневная скользящая средняя',\n",
    "        x=X[mask].Date,\n",
    "        y=X[mask]['MA14_remaining_ill'],\n",
    "        mode=\"lines\",\n",
    "        \n",
    "        line=go.scatter.Line(color=\"green\"),\n",
    "        showlegend=True)\n",
    ")\n",
    "\n",
    "fig.add_trace(\n",
    "    go.Scatter(\n",
    "        name = '7-дневная скользящая средняя',\n",
    "        x=X[mask].Date,\n",
    "        y=X[mask]['MA7_remaining_ill'],\n",
    "        mode=\"lines\",\n",
    "        \n",
    "        line=go.scatter.Line(color=\"red\"),\n",
    "        showlegend=True)\n",
    ")\n",
    "fig.update_layout(\n",
    "    annotations=[\n",
    "#         dict(\n",
    "#             x='2020-04-13',\n",
    "#             y=10594,\n",
    "#             xref=\"x\",\n",
    "#             yref=\"y\",\n",
    "#             text=\"Введение<br>пропускной<br>системы в Москве\",\n",
    "#             showarrow=True,\n",
    "#             arrowhead=2,\n",
    "#             ax=0,\n",
    "#             ay=-60),\n",
    "#         dict(\n",
    "#             x='2020-06-09',\n",
    "#             y=85824,\n",
    "#             xref=\"x\",\n",
    "#             yref=\"y\",\n",
    "#             text=\"Отмена<br>пропускной<br>системы в Москве\",\n",
    "#             showarrow=True,\n",
    "#             arrowhead=2,\n",
    "#             ax=0,\n",
    "#             ay=-60),\n",
    "        \n",
    "        dict(x=0.5,y=-0.15,\n",
    "            showarrow=False,\n",
    "            text=\"\",\n",
    "            xref=\"paper\",\n",
    "            yref=\"paper\")],\n",
    "                  title_x = 0.5,\n",
    "                  title_y= 0.9,\n",
    "                  title_xanchor = \"center\",\n",
    "                  title_yanchor = \"bottom\", \n",
    "                  legend_x = 0.05,legend_y = 0.98,\n",
    "                  width = 990, height = 600,template = 'gridon',\n",
    "    \n",
    "    \n",
    "                  xaxis_title='Текущие больные = количество выявленных - количество выздоровевших - количество умерших'+\n",
    "                                '<br>Данные: Яндекс',\n",
    "    yaxis_title = ' '\n",
    ")\n",
    "\n",
    "\n",
    "fig.show()\n",
    "\n",
    "\n",
    "\n"
   ]
  },
  {
   "cell_type": "code",
   "execution_count": 14,
   "metadata": {},
   "outputs": [
    {
     "output_type": "display_data",
     "data": {
      "application/vnd.plotly.v1+json": {
       "config": {
        "plotlyServerURL": "https://plot.ly"
       },
       "data": [
        {
         "marker": {
          "color": [
           0,
           0,
           0,
           0,
           0,
           0,
           0,
           0,
           0,
           0,
           0,
           0,
           0,
           0,
           0,
           2,
           0,
           1,
           0,
           0,
           1,
           0,
           0,
           1,
           -2,
           1,
           -1,
           7,
           4,
           2,
           -1,
           23,
           16,
           13,
           -1,
           -1,
           65,
           62,
           60,
           35,
           29,
           29,
           26,
           33,
           45,
           31,
           42,
           32,
           53,
           16,
           16,
           29,
           40,
           57,
           32,
           35,
           35,
           20,
           10,
           27,
           21,
           35,
           21,
           -26,
           -11,
           18,
           -27,
           27,
           18,
           5,
           20,
           19,
           -7,
           21,
           34,
           27,
           28,
           -19,
           -58,
           1,
           13,
           8,
           -33,
           -15,
           -23,
           -2,
           -10,
           35,
           13,
           30,
           30,
           -16,
           32,
           34,
           -62,
           55,
           -155,
           38,
           -2,
           -2,
           52,
           14,
           50,
           0,
           -43,
           27,
           -7,
           20,
           27,
           -4,
           -7,
           -14,
           -17,
           -29,
           10,
           24,
           5,
           -23,
           -30,
           -10,
           -17,
           -11,
           3,
           22,
           -8,
           -11,
           -3,
           -1,
           11,
           12,
           18,
           -20,
           -6,
           -10,
           -7,
           -7,
           9,
           -1,
           -8,
           -7,
           -8,
           -7,
           -17,
           27,
           8,
           -9,
           -1,
           0,
           9,
           15,
           0,
           4,
           14,
           5,
           0
          ],
          "colorbar": {
           "tickmode": "auto",
           "title": {
            "side": "top",
            "text": "Изменение"
           }
          },
          "colorscale": [
           [
            0,
            "rgb(0, 147, 146)"
           ],
           [
            0.16666666666666666,
            "rgb(57, 177, 133)"
           ],
           [
            0.3333333333333333,
            "rgb(156, 203, 134)"
           ],
           [
            0.5,
            "rgb(233, 226, 156)"
           ],
           [
            0.6666666666666666,
            "rgb(238, 180, 121)"
           ],
           [
            0.8333333333333334,
            "rgb(232, 132, 113)"
           ],
           [
            1,
            "rgb(207, 89, 126)"
           ]
          ]
         },
         "text": [
          0,
          0,
          0,
          0,
          0,
          0,
          0,
          0,
          0,
          0,
          0,
          0,
          0,
          0,
          0,
          2,
          0,
          1,
          0,
          0,
          1,
          0,
          0,
          1,
          -2,
          1,
          -1,
          7,
          4,
          2,
          -1,
          23,
          16,
          13,
          -1,
          -1,
          65,
          62,
          60,
          35,
          29,
          29,
          26,
          33,
          45,
          31,
          42,
          32,
          53,
          16,
          16,
          29,
          40,
          57,
          32,
          35,
          35,
          20,
          10,
          27,
          21,
          35,
          21,
          -26,
          -11,
          18,
          -27,
          27,
          18,
          5,
          20,
          19,
          -7,
          21,
          34,
          27,
          28,
          -19,
          -58,
          1,
          13,
          8,
          -33,
          -15,
          -23,
          -2,
          -10,
          35,
          13,
          30,
          30,
          -16,
          32,
          34,
          -62,
          55,
          -155,
          38,
          -2,
          -2,
          52,
          14,
          50,
          0,
          -43,
          27,
          -7,
          20,
          27,
          -4,
          -7,
          -14,
          -17,
          -29,
          10,
          24,
          5,
          -23,
          -30,
          -10,
          -17,
          -11,
          3,
          22,
          -8,
          -11,
          -3,
          -1,
          11,
          12,
          18,
          -20,
          -6,
          -10,
          -7,
          -7,
          9,
          -1,
          -8,
          -7,
          -8,
          -7,
          -17,
          27,
          8,
          -9,
          -1,
          0,
          9,
          15,
          0,
          4,
          14,
          5,
          0
         ],
         "textposition": "inside",
         "type": "bar",
         "x": [
          "2020-03-12T00:00:00",
          "2020-03-13T00:00:00",
          "2020-03-14T00:00:00",
          "2020-03-15T00:00:00",
          "2020-03-16T00:00:00",
          "2020-03-17T00:00:00",
          "2020-03-18T00:00:00",
          "2020-03-19T00:00:00",
          "2020-03-20T00:00:00",
          "2020-03-21T00:00:00",
          "2020-03-22T00:00:00",
          "2020-03-23T00:00:00",
          "2020-03-24T00:00:00",
          "2020-03-25T00:00:00",
          "2020-03-26T00:00:00",
          "2020-03-27T00:00:00",
          "2020-03-28T00:00:00",
          "2020-03-29T00:00:00",
          "2020-03-30T00:00:00",
          "2020-03-31T00:00:00",
          "2020-04-01T00:00:00",
          "2020-04-02T00:00:00",
          "2020-04-03T00:00:00",
          "2020-04-04T00:00:00",
          "2020-04-05T00:00:00",
          "2020-04-06T00:00:00",
          "2020-04-07T00:00:00",
          "2020-04-08T00:00:00",
          "2020-04-09T00:00:00",
          "2020-04-10T00:00:00",
          "2020-04-11T00:00:00",
          "2020-04-12T00:00:00",
          "2020-04-13T00:00:00",
          "2020-04-14T00:00:00",
          "2020-04-15T00:00:00",
          "2020-04-16T00:00:00",
          "2020-04-17T00:00:00",
          "2020-04-18T00:00:00",
          "2020-04-19T00:00:00",
          "2020-04-20T00:00:00",
          "2020-04-21T00:00:00",
          "2020-04-22T00:00:00",
          "2020-04-23T00:00:00",
          "2020-04-24T00:00:00",
          "2020-04-25T00:00:00",
          "2020-04-26T00:00:00",
          "2020-04-27T00:00:00",
          "2020-04-28T00:00:00",
          "2020-04-29T00:00:00",
          "2020-04-30T00:00:00",
          "2020-05-01T00:00:00",
          "2020-05-02T00:00:00",
          "2020-05-03T00:00:00",
          "2020-05-04T00:00:00",
          "2020-05-05T00:00:00",
          "2020-05-06T00:00:00",
          "2020-05-07T00:00:00",
          "2020-05-08T00:00:00",
          "2020-05-09T00:00:00",
          "2020-05-10T00:00:00",
          "2020-05-11T00:00:00",
          "2020-05-12T00:00:00",
          "2020-05-13T00:00:00",
          "2020-05-14T00:00:00",
          "2020-05-15T00:00:00",
          "2020-05-16T00:00:00",
          "2020-05-17T00:00:00",
          "2020-05-18T00:00:00",
          "2020-05-19T00:00:00",
          "2020-05-20T00:00:00",
          "2020-05-21T00:00:00",
          "2020-05-22T00:00:00",
          "2020-05-23T00:00:00",
          "2020-05-24T00:00:00",
          "2020-05-25T00:00:00",
          "2020-05-26T00:00:00",
          "2020-05-27T00:00:00",
          "2020-05-28T00:00:00",
          "2020-05-29T00:00:00",
          "2020-05-30T00:00:00",
          "2020-05-31T00:00:00",
          "2020-06-01T00:00:00",
          "2020-06-02T00:00:00",
          "2020-06-03T00:00:00",
          "2020-06-04T00:00:00",
          "2020-06-05T00:00:00",
          "2020-06-06T00:00:00",
          "2020-06-07T00:00:00",
          "2020-06-08T00:00:00",
          "2020-06-09T00:00:00",
          "2020-06-10T00:00:00",
          "2020-06-11T00:00:00",
          "2020-06-12T00:00:00",
          "2020-06-13T00:00:00",
          "2020-06-14T00:00:00",
          "2020-06-15T00:00:00",
          "2020-06-16T00:00:00",
          "2020-06-17T00:00:00",
          "2020-06-18T00:00:00",
          "2020-06-19T00:00:00",
          "2020-06-20T00:00:00",
          "2020-06-21T00:00:00",
          "2020-06-22T00:00:00",
          "2020-06-23T00:00:00",
          "2020-06-24T00:00:00",
          "2020-06-25T00:00:00",
          "2020-06-26T00:00:00",
          "2020-06-27T00:00:00",
          "2020-06-28T00:00:00",
          "2020-06-29T00:00:00",
          "2020-06-30T00:00:00",
          "2020-07-01T00:00:00",
          "2020-07-02T00:00:00",
          "2020-07-03T00:00:00",
          "2020-07-04T00:00:00",
          "2020-07-05T00:00:00",
          "2020-07-06T00:00:00",
          "2020-07-07T00:00:00",
          "2020-07-08T00:00:00",
          "2020-07-09T00:00:00",
          "2020-07-10T00:00:00",
          "2020-07-11T00:00:00",
          "2020-07-12T00:00:00",
          "2020-07-13T00:00:00",
          "2020-07-14T00:00:00",
          "2020-07-15T00:00:00",
          "2020-07-16T00:00:00",
          "2020-07-17T00:00:00",
          "2020-07-18T00:00:00",
          "2020-07-19T00:00:00",
          "2020-07-20T00:00:00",
          "2020-07-21T00:00:00",
          "2020-07-22T00:00:00",
          "2020-07-23T00:00:00",
          "2020-07-24T00:00:00",
          "2020-07-25T00:00:00",
          "2020-07-26T00:00:00",
          "2020-07-27T00:00:00",
          "2020-07-28T00:00:00",
          "2020-07-29T00:00:00",
          "2020-07-30T00:00:00",
          "2020-07-31T00:00:00",
          "2020-08-01T00:00:00",
          "2020-08-02T00:00:00",
          "2020-08-03T00:00:00",
          "2020-08-04T00:00:00",
          "2020-08-05T00:00:00",
          "2020-08-06T00:00:00",
          "2020-08-07T00:00:00",
          "2020-08-08T00:00:00",
          "2020-08-09T00:00:00",
          "2020-08-10T00:00:00",
          "2020-08-11T00:00:00",
          "2020-08-12T00:00:00",
          "2020-08-13T00:00:00"
         ],
         "y": [
          0,
          0,
          0,
          0,
          0,
          0,
          0,
          0,
          0,
          0,
          0,
          0,
          0,
          0,
          0,
          2,
          0,
          1,
          0,
          0,
          1,
          0,
          0,
          1,
          -2,
          1,
          -1,
          7,
          4,
          2,
          -1,
          23,
          16,
          13,
          -1,
          -1,
          65,
          62,
          60,
          35,
          29,
          29,
          26,
          33,
          45,
          31,
          42,
          32,
          53,
          16,
          16,
          29,
          40,
          57,
          32,
          35,
          35,
          20,
          10,
          27,
          21,
          35,
          21,
          -26,
          -11,
          18,
          -27,
          27,
          18,
          5,
          20,
          19,
          -7,
          21,
          34,
          27,
          28,
          -19,
          -58,
          1,
          13,
          8,
          -33,
          -15,
          -23,
          -2,
          -10,
          35,
          13,
          30,
          30,
          -16,
          32,
          34,
          -62,
          55,
          -155,
          38,
          -2,
          -2,
          52,
          14,
          50,
          0,
          -43,
          27,
          -7,
          20,
          27,
          -4,
          -7,
          -14,
          -17,
          -29,
          10,
          24,
          5,
          -23,
          -30,
          -10,
          -17,
          -11,
          3,
          22,
          -8,
          -11,
          -3,
          -1,
          11,
          12,
          18,
          -20,
          -6,
          -10,
          -7,
          -7,
          9,
          -1,
          -8,
          -7,
          -8,
          -7,
          -17,
          27,
          8,
          -9,
          -1,
          0,
          9,
          15,
          0,
          4,
          14,
          5,
          0
         ]
        }
       ],
       "layout": {
        "annotations": [
         {
          "showarrow": false,
          "text": "",
          "x": 0.5,
          "xref": "paper",
          "y": -0.15,
          "yref": "paper"
         }
        ],
        "height": 600,
        "legend": {
         "x": 0.05,
         "y": 0.98
        },
        "template": {
         "data": {
          "pie": [
           {
            "automargin": true,
            "type": "pie"
           }
          ]
         },
         "layout": {
          "xaxis": {
           "showgrid": true,
           "title": {
            "standoff": 15
           }
          },
          "yaxis": {
           "showgrid": true,
           "title": {
            "standoff": 15
           }
          }
         }
        },
        "title": {
         "text": "Мордовия: динамика текущих больных COVID-19 по дням<br>(изменение относительно предыдущего дня)",
         "x": 0.5,
         "xanchor": "center",
         "y": 0.9,
         "yanchor": "bottom"
        },
        "width": 990,
        "xaxis": {
         "title": {
          "text": "Текущие больные = количество выявленных - количество выздоровевших - количество умерших<br>Данные : Яндекс"
         }
        },
        "yaxis": {
         "title": {
          "text": " "
         }
        }
       }
      }
     },
     "metadata": {}
    }
   ],
   "source": [
    "mask = X.Region ==my_region\n",
    "#mask = (X.Date>'2020-05-01')&(X.Region==my_region)\n",
    "Y = X[mask]\n",
    "\n",
    "#Y['base'] = Y['Change_dayconf']*Y['Change_dayconf'].apply(lambda d:0 if d>0 else 1)\n",
    "Y['Date']= pd.to_datetime(Y.Date)\n",
    "fig = go.Figure()\n",
    "fig.add_trace(\n",
    "              go.Bar(x = Y.Date,y=Y.Change_remill,text = Y['Change_remill'],textposition = 'inside',\n",
    "                \n",
    "                #marker_color=Y['Change_remill'].apply(lambda d:'crimson' if d>0 else 'green'),\n",
    "                marker_color = Y['Change_remill'],marker_colorscale = 'Temps',marker_colorbar ={'tickmode':'auto',\n",
    "                                    'title':{'text':'Изменение','side':'top'}})     \n",
    "                )\n",
    "fig.update_layout(\n",
    "    annotations=[\n",
    "#         dict(\n",
    "#             x='2020-04-13',\n",
    "#             y=10594,\n",
    "#             xref=\"x\",\n",
    "#             yref=\"y\",\n",
    "#             text=\"Введение<br>пропускной<br>системы в Москве\",\n",
    "#             showarrow=True,\n",
    "#             arrowhead=2,\n",
    "#             ax=0,\n",
    "#             ay=-60),\n",
    "#         dict(\n",
    "#             x='2020-06-09',\n",
    "#             y=-3877,\n",
    "#             xref=\"x\",\n",
    "#             yref=\"y\",\n",
    "#             text=\"Отмена<br>пропускной<br>системы в Москве\",\n",
    "#             showarrow=True,\n",
    "#             arrowhead=2,\n",
    "#             ax=-20,\n",
    "#             ay=40),\n",
    "#         dict(\n",
    "#             x='2020-05-20',\n",
    "#             y=-2816,\n",
    "#             xref=\"x\",\n",
    "#             yref=\"y\",\n",
    "#             text=\"20 мая\",\n",
    "#             showarrow=True,\n",
    "#             arrowhead=2,\n",
    "#             ax=-20,\n",
    "#             ay=40),\n",
    "        \n",
    "        dict(x=0.5,y=-0.15,\n",
    "            showarrow=False,\n",
    "            text=\"\",\n",
    "            xref=\"paper\",\n",
    "            yref=\"paper\")],\n",
    "                  title=f'{my_region}: динамика текущих больных COVID-19 по дням<br>(изменение относительно предыдущего дня)',\n",
    "                  title_x = 0.5,\n",
    "                  title_y= 0.9,\n",
    "                  title_xanchor = \"center\",\n",
    "                  title_yanchor = \"bottom\", \n",
    "                  legend_x = 0.05,legend_y = 0.98,\n",
    "                  width = 990, height = 600,template = 'gridon',\n",
    "    \n",
    "    \n",
    "                  xaxis_title='Текущие больные = количество выявленных - количество выздоровевших - количество умерших'+\n",
    "                               '<br>Данные : Яндекс',\n",
    "    yaxis_title = ' '\n",
    ")\n",
    "\n",
    "fig.show()\n"
   ]
  },
  {
   "cell_type": "code",
   "execution_count": 15,
   "metadata": {
    "tags": []
   },
   "outputs": [
    {
     "output_type": "stream",
     "name": "stdout",
     "text": "[[1.101 1.083 1.072 1.051 1.018 1.013 1.002 1.009 1.007 1.    1.01  1.002\n  1.004 1.005 1.002 1.007 1.007 1.007]\n [0.998 0.986 0.968 0.941 0.97  1.041 1.099 1.128 1.126 1.103 1.07  1.039\n  1.021 0.98  0.967 0.964 0.95  0.968]\n [0.983 0.97  0.952 0.945 0.947 0.967 0.982 0.989 0.981 0.966 0.961 0.959\n  0.976 0.987 0.987 0.98  0.973 0.967]\n [0.938 0.938 0.932 0.928 0.925 0.932 0.949 0.964 0.982 0.985 0.981 0.98\n  0.977 0.991 0.994 0.998 1.013 1.006]\n [1.024 1.027 1.016 1.01  1.018 1.013 1.005 0.987 0.967 0.962 0.956 0.969\n  0.987 0.997 1.024 1.024 1.021 1.013]\n [0.958 0.988 1.002 0.98  0.962 0.929 0.896 0.893 0.889 0.9   0.895 0.878\n  0.861 0.854 0.867 0.897 0.943 0.939]]\n"
    },
    {
     "output_type": "execute_result",
     "data": {
      "text/plain": "Date            Region  2020-07-27  2020-07-28  2020-07-29  2020-07-30  \\\n0               Москва       1.101       1.083       1.072       1.051   \n1      Московская обл.       0.998       0.986       0.968       0.941   \n2               Россия       0.983       0.970       0.952       0.945   \n3      Санкт-Петербург       0.938       0.938       0.932       0.928   \n4     Саратовская обл.       1.024       1.027       1.016       1.010   \n\nDate  2020-07-31  2020-08-01  2020-08-02  2020-08-03  2020-08-04  2020-08-05  \\\n0          1.018       1.013       1.002       1.009       1.007       1.000   \n1          0.970       1.041       1.099       1.128       1.126       1.103   \n2          0.947       0.967       0.982       0.989       0.981       0.966   \n3          0.925       0.932       0.949       0.964       0.982       0.985   \n4          1.018       1.013       1.005       0.987       0.967       0.962   \n\nDate  2020-08-06  2020-08-07  2020-08-08  2020-08-09  2020-08-10  2020-08-11  \\\n0          1.010       1.002       1.004       1.005       1.002       1.007   \n1          1.070       1.039       1.021       0.980       0.967       0.964   \n2          0.961       0.959       0.976       0.987       0.987       0.980   \n3          0.981       0.980       0.977       0.991       0.994       0.998   \n4          0.956       0.969       0.987       0.997       1.024       1.024   \n\nDate  2020-08-12  2020-08-13  \n0          1.007       1.007  \n1          0.950       0.968  \n2          0.973       0.967  \n3          1.013       1.006  \n4          1.021       1.013  ",
      "text/html": "<div>\n<style scoped>\n    .dataframe tbody tr th:only-of-type {\n        vertical-align: middle;\n    }\n\n    .dataframe tbody tr th {\n        vertical-align: top;\n    }\n\n    .dataframe thead th {\n        text-align: right;\n    }\n</style>\n<table border=\"1\" class=\"dataframe\">\n  <thead>\n    <tr style=\"text-align: right;\">\n      <th>Date</th>\n      <th>Region</th>\n      <th>2020-07-27</th>\n      <th>2020-07-28</th>\n      <th>2020-07-29</th>\n      <th>2020-07-30</th>\n      <th>2020-07-31</th>\n      <th>2020-08-01</th>\n      <th>2020-08-02</th>\n      <th>2020-08-03</th>\n      <th>2020-08-04</th>\n      <th>2020-08-05</th>\n      <th>2020-08-06</th>\n      <th>2020-08-07</th>\n      <th>2020-08-08</th>\n      <th>2020-08-09</th>\n      <th>2020-08-10</th>\n      <th>2020-08-11</th>\n      <th>2020-08-12</th>\n      <th>2020-08-13</th>\n    </tr>\n  </thead>\n  <tbody>\n    <tr>\n      <th>0</th>\n      <td>Москва</td>\n      <td>1.101</td>\n      <td>1.083</td>\n      <td>1.072</td>\n      <td>1.051</td>\n      <td>1.018</td>\n      <td>1.013</td>\n      <td>1.002</td>\n      <td>1.009</td>\n      <td>1.007</td>\n      <td>1.000</td>\n      <td>1.010</td>\n      <td>1.002</td>\n      <td>1.004</td>\n      <td>1.005</td>\n      <td>1.002</td>\n      <td>1.007</td>\n      <td>1.007</td>\n      <td>1.007</td>\n    </tr>\n    <tr>\n      <th>1</th>\n      <td>Московская обл.</td>\n      <td>0.998</td>\n      <td>0.986</td>\n      <td>0.968</td>\n      <td>0.941</td>\n      <td>0.970</td>\n      <td>1.041</td>\n      <td>1.099</td>\n      <td>1.128</td>\n      <td>1.126</td>\n      <td>1.103</td>\n      <td>1.070</td>\n      <td>1.039</td>\n      <td>1.021</td>\n      <td>0.980</td>\n      <td>0.967</td>\n      <td>0.964</td>\n      <td>0.950</td>\n      <td>0.968</td>\n    </tr>\n    <tr>\n      <th>2</th>\n      <td>Россия</td>\n      <td>0.983</td>\n      <td>0.970</td>\n      <td>0.952</td>\n      <td>0.945</td>\n      <td>0.947</td>\n      <td>0.967</td>\n      <td>0.982</td>\n      <td>0.989</td>\n      <td>0.981</td>\n      <td>0.966</td>\n      <td>0.961</td>\n      <td>0.959</td>\n      <td>0.976</td>\n      <td>0.987</td>\n      <td>0.987</td>\n      <td>0.980</td>\n      <td>0.973</td>\n      <td>0.967</td>\n    </tr>\n    <tr>\n      <th>3</th>\n      <td>Санкт-Петербург</td>\n      <td>0.938</td>\n      <td>0.938</td>\n      <td>0.932</td>\n      <td>0.928</td>\n      <td>0.925</td>\n      <td>0.932</td>\n      <td>0.949</td>\n      <td>0.964</td>\n      <td>0.982</td>\n      <td>0.985</td>\n      <td>0.981</td>\n      <td>0.980</td>\n      <td>0.977</td>\n      <td>0.991</td>\n      <td>0.994</td>\n      <td>0.998</td>\n      <td>1.013</td>\n      <td>1.006</td>\n    </tr>\n    <tr>\n      <th>4</th>\n      <td>Саратовская обл.</td>\n      <td>1.024</td>\n      <td>1.027</td>\n      <td>1.016</td>\n      <td>1.010</td>\n      <td>1.018</td>\n      <td>1.013</td>\n      <td>1.005</td>\n      <td>0.987</td>\n      <td>0.967</td>\n      <td>0.962</td>\n      <td>0.956</td>\n      <td>0.969</td>\n      <td>0.987</td>\n      <td>0.997</td>\n      <td>1.024</td>\n      <td>1.024</td>\n      <td>1.021</td>\n      <td>1.013</td>\n    </tr>\n  </tbody>\n</table>\n</div>"
     },
     "metadata": {},
     "execution_count": 15
    }
   ],
   "source": [
    "mask = (X.Date>=datetime.date(2020,7,27))&(X.Region.isin(regions_towatch))\n",
    "\n",
    "\n",
    "# #mask = (X.Date>='2020-06-04')\n",
    "\n",
    "Z = X[mask].groupby(['Region','Date']).Rt.sum().unstack().reset_index()\n",
    "Z.dropna(inplace=True)\n",
    "d = Z.drop('Region',axis = 1).values\n",
    "\n",
    "# my_map= {'Москва':'2.Москва','Московская обл.':'3.Московская обл.','Нижегородская обл.':'5.Нижегородская обл.',\n",
    "#                     'Россия':'1.Россия', 'Санкт-Петербург':'4.Санкт-Петербург'}\n",
    "# Z.Region = Z.Region.map(my_map)\n",
    "\n",
    "print(d)\n",
    "Z.head()"
   ]
  },
  {
   "cell_type": "code",
   "execution_count": 16,
   "metadata": {
    "tags": []
   },
   "outputs": [
    {
     "output_type": "stream",
     "name": "stdout",
     "text": "[datetime.date(2020, 7, 27), datetime.date(2020, 7, 28), datetime.date(2020, 7, 29), datetime.date(2020, 7, 30), datetime.date(2020, 7, 31), datetime.date(2020, 8, 1), datetime.date(2020, 8, 2), datetime.date(2020, 8, 3), datetime.date(2020, 8, 4), datetime.date(2020, 8, 5), datetime.date(2020, 8, 6), datetime.date(2020, 8, 7), datetime.date(2020, 8, 8), datetime.date(2020, 8, 9), datetime.date(2020, 8, 10), datetime.date(2020, 8, 11), datetime.date(2020, 8, 12), datetime.date(2020, 8, 13)]\n['27.7.2020', '28.7.2020', '29.7.2020', '30.7.2020', '31.7.2020', '1.8.2020', '2.8.2020', '3.8.2020', '4.8.2020', '5.8.2020', '6.8.2020', '7.8.2020', '8.8.2020', '9.8.2020', '10.8.2020', '11.8.2020', '12.8.2020', '13.8.2020']\n"
    }
   ],
   "source": [
    "x1=list(Z.columns[1:])\n",
    "x2=[]\n",
    "for i in x1:\n",
    "    x2.append(str(i.day)+'.'+str(i.month)+\".\"+str(i.year))\n",
    "    \n",
    "y=list(Z.Region)\n",
    "print(list(x1))\n",
    "print(x2)"
   ]
  },
  {
   "cell_type": "code",
   "execution_count": 17,
   "metadata": {},
   "outputs": [
    {
     "output_type": "display_data",
     "data": {
      "application/vnd.plotly.v1+json": {
       "config": {
        "plotlyServerURL": "https://plot.ly"
       },
       "data": [
        {
         "colorscale": [
          [
           0,
           "rgb(0, 147, 146)"
          ],
          [
           0.16666666666666666,
           "rgb(57, 177, 133)"
          ],
          [
           0.3333333333333333,
           "rgb(156, 203, 134)"
          ],
          [
           0.5,
           "rgb(233, 226, 156)"
          ],
          [
           0.6666666666666666,
           "rgb(238, 180, 121)"
          ],
          [
           0.8333333333333334,
           "rgb(232, 132, 113)"
          ],
          [
           1,
           "rgb(207, 89, 126)"
          ]
         ],
         "reversescale": false,
         "showscale": false,
         "type": "heatmap",
         "x": [
          "27.7.2020",
          "28.7.2020",
          "29.7.2020",
          "30.7.2020",
          "31.7.2020",
          "1.8.2020",
          "2.8.2020",
          "3.8.2020",
          "4.8.2020",
          "5.8.2020",
          "6.8.2020",
          "7.8.2020",
          "8.8.2020",
          "9.8.2020",
          "10.8.2020",
          "11.8.2020",
          "12.8.2020",
          "13.8.2020"
         ],
         "y": [
          "Москва",
          "Московская обл.",
          "Россия",
          "Санкт-Петербург",
          "Саратовская обл.",
          "Челябинская обл."
         ],
         "z": [
          [
           1.101,
           1.083,
           1.072,
           1.051,
           1.018,
           1.013,
           1.002,
           1.0090000000000001,
           1.0070000000000001,
           1,
           1.01,
           1.002,
           1.004,
           1.005,
           1.002,
           1.0070000000000001,
           1.0070000000000001,
           1.0070000000000001
          ],
          [
           0.998,
           0.986,
           0.968,
           0.941,
           0.97,
           1.041,
           1.099,
           1.128,
           1.126,
           1.103,
           1.07,
           1.0390000000000001,
           1.021,
           0.98,
           0.9670000000000001,
           0.9640000000000001,
           0.95,
           0.968
          ],
          [
           0.983,
           0.97,
           0.9520000000000001,
           0.945,
           0.9470000000000001,
           0.9670000000000001,
           0.982,
           0.9890000000000001,
           0.981,
           0.966,
           0.961,
           0.9590000000000001,
           0.976,
           0.987,
           0.987,
           0.98,
           0.973,
           0.9670000000000001
          ],
          [
           0.938,
           0.938,
           0.932,
           0.9279999999999999,
           0.925,
           0.932,
           0.9490000000000001,
           0.9640000000000001,
           0.982,
           0.985,
           0.981,
           0.98,
           0.977,
           0.991,
           0.9940000000000001,
           0.998,
           1.013,
           1.006
          ],
          [
           1.024,
           1.0270000000000001,
           1.016,
           1.01,
           1.018,
           1.013,
           1.005,
           0.987,
           0.9670000000000001,
           0.9620000000000001,
           0.956,
           0.9690000000000001,
           0.987,
           0.997,
           1.024,
           1.024,
           1.021,
           1.013
          ],
          [
           0.958,
           0.988,
           1.002,
           0.98,
           0.9620000000000001,
           0.929,
           0.8959999999999999,
           0.893,
           0.889,
           0.9,
           0.895,
           0.878,
           0.861,
           0.8540000000000001,
           0.867,
           0.897,
           0.943,
           0.9390000000000001
          ]
         ]
        }
       ],
       "layout": {
        "annotations": [
         {
          "font": {
           "color": "#FFFFFF"
          },
          "showarrow": false,
          "text": "1.101",
          "x": "27.7.2020",
          "xref": "x",
          "y": "Москва",
          "yref": "y"
         },
         {
          "font": {
           "color": "#FFFFFF"
          },
          "showarrow": false,
          "text": "1.083",
          "x": "28.7.2020",
          "xref": "x",
          "y": "Москва",
          "yref": "y"
         },
         {
          "font": {
           "color": "#FFFFFF"
          },
          "showarrow": false,
          "text": "1.072",
          "x": "29.7.2020",
          "xref": "x",
          "y": "Москва",
          "yref": "y"
         },
         {
          "font": {
           "color": "#FFFFFF"
          },
          "showarrow": false,
          "text": "1.051",
          "x": "30.7.2020",
          "xref": "x",
          "y": "Москва",
          "yref": "y"
         },
         {
          "font": {
           "color": "#FFFFFF"
          },
          "showarrow": false,
          "text": "1.018",
          "x": "31.7.2020",
          "xref": "x",
          "y": "Москва",
          "yref": "y"
         },
         {
          "font": {
           "color": "#FFFFFF"
          },
          "showarrow": false,
          "text": "1.013",
          "x": "1.8.2020",
          "xref": "x",
          "y": "Москва",
          "yref": "y"
         },
         {
          "font": {
           "color": "#FFFFFF"
          },
          "showarrow": false,
          "text": "1.002",
          "x": "2.8.2020",
          "xref": "x",
          "y": "Москва",
          "yref": "y"
         },
         {
          "font": {
           "color": "#FFFFFF"
          },
          "showarrow": false,
          "text": "1.0090000000000001",
          "x": "3.8.2020",
          "xref": "x",
          "y": "Москва",
          "yref": "y"
         },
         {
          "font": {
           "color": "#FFFFFF"
          },
          "showarrow": false,
          "text": "1.0070000000000001",
          "x": "4.8.2020",
          "xref": "x",
          "y": "Москва",
          "yref": "y"
         },
         {
          "font": {
           "color": "#FFFFFF"
          },
          "showarrow": false,
          "text": "1.0",
          "x": "5.8.2020",
          "xref": "x",
          "y": "Москва",
          "yref": "y"
         },
         {
          "font": {
           "color": "#FFFFFF"
          },
          "showarrow": false,
          "text": "1.01",
          "x": "6.8.2020",
          "xref": "x",
          "y": "Москва",
          "yref": "y"
         },
         {
          "font": {
           "color": "#FFFFFF"
          },
          "showarrow": false,
          "text": "1.002",
          "x": "7.8.2020",
          "xref": "x",
          "y": "Москва",
          "yref": "y"
         },
         {
          "font": {
           "color": "#FFFFFF"
          },
          "showarrow": false,
          "text": "1.004",
          "x": "8.8.2020",
          "xref": "x",
          "y": "Москва",
          "yref": "y"
         },
         {
          "font": {
           "color": "#FFFFFF"
          },
          "showarrow": false,
          "text": "1.005",
          "x": "9.8.2020",
          "xref": "x",
          "y": "Москва",
          "yref": "y"
         },
         {
          "font": {
           "color": "#FFFFFF"
          },
          "showarrow": false,
          "text": "1.002",
          "x": "10.8.2020",
          "xref": "x",
          "y": "Москва",
          "yref": "y"
         },
         {
          "font": {
           "color": "#FFFFFF"
          },
          "showarrow": false,
          "text": "1.0070000000000001",
          "x": "11.8.2020",
          "xref": "x",
          "y": "Москва",
          "yref": "y"
         },
         {
          "font": {
           "color": "#FFFFFF"
          },
          "showarrow": false,
          "text": "1.0070000000000001",
          "x": "12.8.2020",
          "xref": "x",
          "y": "Москва",
          "yref": "y"
         },
         {
          "font": {
           "color": "#FFFFFF"
          },
          "showarrow": false,
          "text": "1.0070000000000001",
          "x": "13.8.2020",
          "xref": "x",
          "y": "Москва",
          "yref": "y"
         },
         {
          "font": {
           "color": "#FFFFFF"
          },
          "showarrow": false,
          "text": "0.998",
          "x": "27.7.2020",
          "xref": "x",
          "y": "Московская обл.",
          "yref": "y"
         },
         {
          "font": {
           "color": "#FFFFFF"
          },
          "showarrow": false,
          "text": "0.986",
          "x": "28.7.2020",
          "xref": "x",
          "y": "Московская обл.",
          "yref": "y"
         },
         {
          "font": {
           "color": "#FFFFFF"
          },
          "showarrow": false,
          "text": "0.968",
          "x": "29.7.2020",
          "xref": "x",
          "y": "Московская обл.",
          "yref": "y"
         },
         {
          "font": {
           "color": "#FFFFFF"
          },
          "showarrow": false,
          "text": "0.941",
          "x": "30.7.2020",
          "xref": "x",
          "y": "Московская обл.",
          "yref": "y"
         },
         {
          "font": {
           "color": "#FFFFFF"
          },
          "showarrow": false,
          "text": "0.97",
          "x": "31.7.2020",
          "xref": "x",
          "y": "Московская обл.",
          "yref": "y"
         },
         {
          "font": {
           "color": "#FFFFFF"
          },
          "showarrow": false,
          "text": "1.041",
          "x": "1.8.2020",
          "xref": "x",
          "y": "Московская обл.",
          "yref": "y"
         },
         {
          "font": {
           "color": "#FFFFFF"
          },
          "showarrow": false,
          "text": "1.099",
          "x": "2.8.2020",
          "xref": "x",
          "y": "Московская обл.",
          "yref": "y"
         },
         {
          "font": {
           "color": "#FFFFFF"
          },
          "showarrow": false,
          "text": "1.128",
          "x": "3.8.2020",
          "xref": "x",
          "y": "Московская обл.",
          "yref": "y"
         },
         {
          "font": {
           "color": "#FFFFFF"
          },
          "showarrow": false,
          "text": "1.126",
          "x": "4.8.2020",
          "xref": "x",
          "y": "Московская обл.",
          "yref": "y"
         },
         {
          "font": {
           "color": "#FFFFFF"
          },
          "showarrow": false,
          "text": "1.103",
          "x": "5.8.2020",
          "xref": "x",
          "y": "Московская обл.",
          "yref": "y"
         },
         {
          "font": {
           "color": "#FFFFFF"
          },
          "showarrow": false,
          "text": "1.07",
          "x": "6.8.2020",
          "xref": "x",
          "y": "Московская обл.",
          "yref": "y"
         },
         {
          "font": {
           "color": "#FFFFFF"
          },
          "showarrow": false,
          "text": "1.0390000000000001",
          "x": "7.8.2020",
          "xref": "x",
          "y": "Московская обл.",
          "yref": "y"
         },
         {
          "font": {
           "color": "#FFFFFF"
          },
          "showarrow": false,
          "text": "1.021",
          "x": "8.8.2020",
          "xref": "x",
          "y": "Московская обл.",
          "yref": "y"
         },
         {
          "font": {
           "color": "#FFFFFF"
          },
          "showarrow": false,
          "text": "0.98",
          "x": "9.8.2020",
          "xref": "x",
          "y": "Московская обл.",
          "yref": "y"
         },
         {
          "font": {
           "color": "#FFFFFF"
          },
          "showarrow": false,
          "text": "0.9670000000000001",
          "x": "10.8.2020",
          "xref": "x",
          "y": "Московская обл.",
          "yref": "y"
         },
         {
          "font": {
           "color": "#FFFFFF"
          },
          "showarrow": false,
          "text": "0.9640000000000001",
          "x": "11.8.2020",
          "xref": "x",
          "y": "Московская обл.",
          "yref": "y"
         },
         {
          "font": {
           "color": "#FFFFFF"
          },
          "showarrow": false,
          "text": "0.95",
          "x": "12.8.2020",
          "xref": "x",
          "y": "Московская обл.",
          "yref": "y"
         },
         {
          "font": {
           "color": "#FFFFFF"
          },
          "showarrow": false,
          "text": "0.968",
          "x": "13.8.2020",
          "xref": "x",
          "y": "Московская обл.",
          "yref": "y"
         },
         {
          "font": {
           "color": "#FFFFFF"
          },
          "showarrow": false,
          "text": "0.983",
          "x": "27.7.2020",
          "xref": "x",
          "y": "Россия",
          "yref": "y"
         },
         {
          "font": {
           "color": "#FFFFFF"
          },
          "showarrow": false,
          "text": "0.97",
          "x": "28.7.2020",
          "xref": "x",
          "y": "Россия",
          "yref": "y"
         },
         {
          "font": {
           "color": "#FFFFFF"
          },
          "showarrow": false,
          "text": "0.9520000000000001",
          "x": "29.7.2020",
          "xref": "x",
          "y": "Россия",
          "yref": "y"
         },
         {
          "font": {
           "color": "#FFFFFF"
          },
          "showarrow": false,
          "text": "0.945",
          "x": "30.7.2020",
          "xref": "x",
          "y": "Россия",
          "yref": "y"
         },
         {
          "font": {
           "color": "#FFFFFF"
          },
          "showarrow": false,
          "text": "0.9470000000000001",
          "x": "31.7.2020",
          "xref": "x",
          "y": "Россия",
          "yref": "y"
         },
         {
          "font": {
           "color": "#FFFFFF"
          },
          "showarrow": false,
          "text": "0.9670000000000001",
          "x": "1.8.2020",
          "xref": "x",
          "y": "Россия",
          "yref": "y"
         },
         {
          "font": {
           "color": "#FFFFFF"
          },
          "showarrow": false,
          "text": "0.982",
          "x": "2.8.2020",
          "xref": "x",
          "y": "Россия",
          "yref": "y"
         },
         {
          "font": {
           "color": "#FFFFFF"
          },
          "showarrow": false,
          "text": "0.9890000000000001",
          "x": "3.8.2020",
          "xref": "x",
          "y": "Россия",
          "yref": "y"
         },
         {
          "font": {
           "color": "#FFFFFF"
          },
          "showarrow": false,
          "text": "0.981",
          "x": "4.8.2020",
          "xref": "x",
          "y": "Россия",
          "yref": "y"
         },
         {
          "font": {
           "color": "#FFFFFF"
          },
          "showarrow": false,
          "text": "0.966",
          "x": "5.8.2020",
          "xref": "x",
          "y": "Россия",
          "yref": "y"
         },
         {
          "font": {
           "color": "#FFFFFF"
          },
          "showarrow": false,
          "text": "0.961",
          "x": "6.8.2020",
          "xref": "x",
          "y": "Россия",
          "yref": "y"
         },
         {
          "font": {
           "color": "#FFFFFF"
          },
          "showarrow": false,
          "text": "0.9590000000000001",
          "x": "7.8.2020",
          "xref": "x",
          "y": "Россия",
          "yref": "y"
         },
         {
          "font": {
           "color": "#FFFFFF"
          },
          "showarrow": false,
          "text": "0.976",
          "x": "8.8.2020",
          "xref": "x",
          "y": "Россия",
          "yref": "y"
         },
         {
          "font": {
           "color": "#FFFFFF"
          },
          "showarrow": false,
          "text": "0.987",
          "x": "9.8.2020",
          "xref": "x",
          "y": "Россия",
          "yref": "y"
         },
         {
          "font": {
           "color": "#FFFFFF"
          },
          "showarrow": false,
          "text": "0.987",
          "x": "10.8.2020",
          "xref": "x",
          "y": "Россия",
          "yref": "y"
         },
         {
          "font": {
           "color": "#FFFFFF"
          },
          "showarrow": false,
          "text": "0.98",
          "x": "11.8.2020",
          "xref": "x",
          "y": "Россия",
          "yref": "y"
         },
         {
          "font": {
           "color": "#FFFFFF"
          },
          "showarrow": false,
          "text": "0.973",
          "x": "12.8.2020",
          "xref": "x",
          "y": "Россия",
          "yref": "y"
         },
         {
          "font": {
           "color": "#FFFFFF"
          },
          "showarrow": false,
          "text": "0.9670000000000001",
          "x": "13.8.2020",
          "xref": "x",
          "y": "Россия",
          "yref": "y"
         },
         {
          "font": {
           "color": "#FFFFFF"
          },
          "showarrow": false,
          "text": "0.938",
          "x": "27.7.2020",
          "xref": "x",
          "y": "Санкт-Петербург",
          "yref": "y"
         },
         {
          "font": {
           "color": "#FFFFFF"
          },
          "showarrow": false,
          "text": "0.938",
          "x": "28.7.2020",
          "xref": "x",
          "y": "Санкт-Петербург",
          "yref": "y"
         },
         {
          "font": {
           "color": "#FFFFFF"
          },
          "showarrow": false,
          "text": "0.932",
          "x": "29.7.2020",
          "xref": "x",
          "y": "Санкт-Петербург",
          "yref": "y"
         },
         {
          "font": {
           "color": "#FFFFFF"
          },
          "showarrow": false,
          "text": "0.9279999999999999",
          "x": "30.7.2020",
          "xref": "x",
          "y": "Санкт-Петербург",
          "yref": "y"
         },
         {
          "font": {
           "color": "#FFFFFF"
          },
          "showarrow": false,
          "text": "0.925",
          "x": "31.7.2020",
          "xref": "x",
          "y": "Санкт-Петербург",
          "yref": "y"
         },
         {
          "font": {
           "color": "#FFFFFF"
          },
          "showarrow": false,
          "text": "0.932",
          "x": "1.8.2020",
          "xref": "x",
          "y": "Санкт-Петербург",
          "yref": "y"
         },
         {
          "font": {
           "color": "#FFFFFF"
          },
          "showarrow": false,
          "text": "0.9490000000000001",
          "x": "2.8.2020",
          "xref": "x",
          "y": "Санкт-Петербург",
          "yref": "y"
         },
         {
          "font": {
           "color": "#FFFFFF"
          },
          "showarrow": false,
          "text": "0.9640000000000001",
          "x": "3.8.2020",
          "xref": "x",
          "y": "Санкт-Петербург",
          "yref": "y"
         },
         {
          "font": {
           "color": "#FFFFFF"
          },
          "showarrow": false,
          "text": "0.982",
          "x": "4.8.2020",
          "xref": "x",
          "y": "Санкт-Петербург",
          "yref": "y"
         },
         {
          "font": {
           "color": "#FFFFFF"
          },
          "showarrow": false,
          "text": "0.985",
          "x": "5.8.2020",
          "xref": "x",
          "y": "Санкт-Петербург",
          "yref": "y"
         },
         {
          "font": {
           "color": "#FFFFFF"
          },
          "showarrow": false,
          "text": "0.981",
          "x": "6.8.2020",
          "xref": "x",
          "y": "Санкт-Петербург",
          "yref": "y"
         },
         {
          "font": {
           "color": "#FFFFFF"
          },
          "showarrow": false,
          "text": "0.98",
          "x": "7.8.2020",
          "xref": "x",
          "y": "Санкт-Петербург",
          "yref": "y"
         },
         {
          "font": {
           "color": "#FFFFFF"
          },
          "showarrow": false,
          "text": "0.977",
          "x": "8.8.2020",
          "xref": "x",
          "y": "Санкт-Петербург",
          "yref": "y"
         },
         {
          "font": {
           "color": "#FFFFFF"
          },
          "showarrow": false,
          "text": "0.991",
          "x": "9.8.2020",
          "xref": "x",
          "y": "Санкт-Петербург",
          "yref": "y"
         },
         {
          "font": {
           "color": "#FFFFFF"
          },
          "showarrow": false,
          "text": "0.9940000000000001",
          "x": "10.8.2020",
          "xref": "x",
          "y": "Санкт-Петербург",
          "yref": "y"
         },
         {
          "font": {
           "color": "#FFFFFF"
          },
          "showarrow": false,
          "text": "0.998",
          "x": "11.8.2020",
          "xref": "x",
          "y": "Санкт-Петербург",
          "yref": "y"
         },
         {
          "font": {
           "color": "#FFFFFF"
          },
          "showarrow": false,
          "text": "1.013",
          "x": "12.8.2020",
          "xref": "x",
          "y": "Санкт-Петербург",
          "yref": "y"
         },
         {
          "font": {
           "color": "#FFFFFF"
          },
          "showarrow": false,
          "text": "1.006",
          "x": "13.8.2020",
          "xref": "x",
          "y": "Санкт-Петербург",
          "yref": "y"
         },
         {
          "font": {
           "color": "#FFFFFF"
          },
          "showarrow": false,
          "text": "1.024",
          "x": "27.7.2020",
          "xref": "x",
          "y": "Саратовская обл.",
          "yref": "y"
         },
         {
          "font": {
           "color": "#FFFFFF"
          },
          "showarrow": false,
          "text": "1.0270000000000001",
          "x": "28.7.2020",
          "xref": "x",
          "y": "Саратовская обл.",
          "yref": "y"
         },
         {
          "font": {
           "color": "#FFFFFF"
          },
          "showarrow": false,
          "text": "1.016",
          "x": "29.7.2020",
          "xref": "x",
          "y": "Саратовская обл.",
          "yref": "y"
         },
         {
          "font": {
           "color": "#FFFFFF"
          },
          "showarrow": false,
          "text": "1.01",
          "x": "30.7.2020",
          "xref": "x",
          "y": "Саратовская обл.",
          "yref": "y"
         },
         {
          "font": {
           "color": "#FFFFFF"
          },
          "showarrow": false,
          "text": "1.018",
          "x": "31.7.2020",
          "xref": "x",
          "y": "Саратовская обл.",
          "yref": "y"
         },
         {
          "font": {
           "color": "#FFFFFF"
          },
          "showarrow": false,
          "text": "1.013",
          "x": "1.8.2020",
          "xref": "x",
          "y": "Саратовская обл.",
          "yref": "y"
         },
         {
          "font": {
           "color": "#FFFFFF"
          },
          "showarrow": false,
          "text": "1.005",
          "x": "2.8.2020",
          "xref": "x",
          "y": "Саратовская обл.",
          "yref": "y"
         },
         {
          "font": {
           "color": "#FFFFFF"
          },
          "showarrow": false,
          "text": "0.987",
          "x": "3.8.2020",
          "xref": "x",
          "y": "Саратовская обл.",
          "yref": "y"
         },
         {
          "font": {
           "color": "#FFFFFF"
          },
          "showarrow": false,
          "text": "0.9670000000000001",
          "x": "4.8.2020",
          "xref": "x",
          "y": "Саратовская обл.",
          "yref": "y"
         },
         {
          "font": {
           "color": "#FFFFFF"
          },
          "showarrow": false,
          "text": "0.9620000000000001",
          "x": "5.8.2020",
          "xref": "x",
          "y": "Саратовская обл.",
          "yref": "y"
         },
         {
          "font": {
           "color": "#FFFFFF"
          },
          "showarrow": false,
          "text": "0.956",
          "x": "6.8.2020",
          "xref": "x",
          "y": "Саратовская обл.",
          "yref": "y"
         },
         {
          "font": {
           "color": "#FFFFFF"
          },
          "showarrow": false,
          "text": "0.9690000000000001",
          "x": "7.8.2020",
          "xref": "x",
          "y": "Саратовская обл.",
          "yref": "y"
         },
         {
          "font": {
           "color": "#FFFFFF"
          },
          "showarrow": false,
          "text": "0.987",
          "x": "8.8.2020",
          "xref": "x",
          "y": "Саратовская обл.",
          "yref": "y"
         },
         {
          "font": {
           "color": "#FFFFFF"
          },
          "showarrow": false,
          "text": "0.997",
          "x": "9.8.2020",
          "xref": "x",
          "y": "Саратовская обл.",
          "yref": "y"
         },
         {
          "font": {
           "color": "#FFFFFF"
          },
          "showarrow": false,
          "text": "1.024",
          "x": "10.8.2020",
          "xref": "x",
          "y": "Саратовская обл.",
          "yref": "y"
         },
         {
          "font": {
           "color": "#FFFFFF"
          },
          "showarrow": false,
          "text": "1.024",
          "x": "11.8.2020",
          "xref": "x",
          "y": "Саратовская обл.",
          "yref": "y"
         },
         {
          "font": {
           "color": "#FFFFFF"
          },
          "showarrow": false,
          "text": "1.021",
          "x": "12.8.2020",
          "xref": "x",
          "y": "Саратовская обл.",
          "yref": "y"
         },
         {
          "font": {
           "color": "#FFFFFF"
          },
          "showarrow": false,
          "text": "1.013",
          "x": "13.8.2020",
          "xref": "x",
          "y": "Саратовская обл.",
          "yref": "y"
         },
         {
          "font": {
           "color": "#FFFFFF"
          },
          "showarrow": false,
          "text": "0.958",
          "x": "27.7.2020",
          "xref": "x",
          "y": "Челябинская обл.",
          "yref": "y"
         },
         {
          "font": {
           "color": "#FFFFFF"
          },
          "showarrow": false,
          "text": "0.988",
          "x": "28.7.2020",
          "xref": "x",
          "y": "Челябинская обл.",
          "yref": "y"
         },
         {
          "font": {
           "color": "#FFFFFF"
          },
          "showarrow": false,
          "text": "1.002",
          "x": "29.7.2020",
          "xref": "x",
          "y": "Челябинская обл.",
          "yref": "y"
         },
         {
          "font": {
           "color": "#FFFFFF"
          },
          "showarrow": false,
          "text": "0.98",
          "x": "30.7.2020",
          "xref": "x",
          "y": "Челябинская обл.",
          "yref": "y"
         },
         {
          "font": {
           "color": "#FFFFFF"
          },
          "showarrow": false,
          "text": "0.9620000000000001",
          "x": "31.7.2020",
          "xref": "x",
          "y": "Челябинская обл.",
          "yref": "y"
         },
         {
          "font": {
           "color": "#FFFFFF"
          },
          "showarrow": false,
          "text": "0.929",
          "x": "1.8.2020",
          "xref": "x",
          "y": "Челябинская обл.",
          "yref": "y"
         },
         {
          "font": {
           "color": "#FFFFFF"
          },
          "showarrow": false,
          "text": "0.8959999999999999",
          "x": "2.8.2020",
          "xref": "x",
          "y": "Челябинская обл.",
          "yref": "y"
         },
         {
          "font": {
           "color": "#FFFFFF"
          },
          "showarrow": false,
          "text": "0.893",
          "x": "3.8.2020",
          "xref": "x",
          "y": "Челябинская обл.",
          "yref": "y"
         },
         {
          "font": {
           "color": "#FFFFFF"
          },
          "showarrow": false,
          "text": "0.889",
          "x": "4.8.2020",
          "xref": "x",
          "y": "Челябинская обл.",
          "yref": "y"
         },
         {
          "font": {
           "color": "#FFFFFF"
          },
          "showarrow": false,
          "text": "0.9",
          "x": "5.8.2020",
          "xref": "x",
          "y": "Челябинская обл.",
          "yref": "y"
         },
         {
          "font": {
           "color": "#FFFFFF"
          },
          "showarrow": false,
          "text": "0.895",
          "x": "6.8.2020",
          "xref": "x",
          "y": "Челябинская обл.",
          "yref": "y"
         },
         {
          "font": {
           "color": "#FFFFFF"
          },
          "showarrow": false,
          "text": "0.878",
          "x": "7.8.2020",
          "xref": "x",
          "y": "Челябинская обл.",
          "yref": "y"
         },
         {
          "font": {
           "color": "#FFFFFF"
          },
          "showarrow": false,
          "text": "0.861",
          "x": "8.8.2020",
          "xref": "x",
          "y": "Челябинская обл.",
          "yref": "y"
         },
         {
          "font": {
           "color": "#FFFFFF"
          },
          "showarrow": false,
          "text": "0.8540000000000001",
          "x": "9.8.2020",
          "xref": "x",
          "y": "Челябинская обл.",
          "yref": "y"
         },
         {
          "font": {
           "color": "#FFFFFF"
          },
          "showarrow": false,
          "text": "0.867",
          "x": "10.8.2020",
          "xref": "x",
          "y": "Челябинская обл.",
          "yref": "y"
         },
         {
          "font": {
           "color": "#FFFFFF"
          },
          "showarrow": false,
          "text": "0.897",
          "x": "11.8.2020",
          "xref": "x",
          "y": "Челябинская обл.",
          "yref": "y"
         },
         {
          "font": {
           "color": "#FFFFFF"
          },
          "showarrow": false,
          "text": "0.943",
          "x": "12.8.2020",
          "xref": "x",
          "y": "Челябинская обл.",
          "yref": "y"
         },
         {
          "font": {
           "color": "#FFFFFF"
          },
          "showarrow": false,
          "text": "0.9390000000000001",
          "x": "13.8.2020",
          "xref": "x",
          "y": "Челябинская обл.",
          "yref": "y"
         }
        ],
        "height": 600,
        "template": {
         "data": {
          "bar": [
           {
            "error_x": {
             "color": "#2a3f5f"
            },
            "error_y": {
             "color": "#2a3f5f"
            },
            "marker": {
             "line": {
              "color": "#E5ECF6",
              "width": 0.5
             }
            },
            "type": "bar"
           }
          ],
          "barpolar": [
           {
            "marker": {
             "line": {
              "color": "#E5ECF6",
              "width": 0.5
             }
            },
            "type": "barpolar"
           }
          ],
          "carpet": [
           {
            "aaxis": {
             "endlinecolor": "#2a3f5f",
             "gridcolor": "white",
             "linecolor": "white",
             "minorgridcolor": "white",
             "startlinecolor": "#2a3f5f"
            },
            "baxis": {
             "endlinecolor": "#2a3f5f",
             "gridcolor": "white",
             "linecolor": "white",
             "minorgridcolor": "white",
             "startlinecolor": "#2a3f5f"
            },
            "type": "carpet"
           }
          ],
          "choropleth": [
           {
            "colorbar": {
             "outlinewidth": 0,
             "ticks": ""
            },
            "type": "choropleth"
           }
          ],
          "contour": [
           {
            "colorbar": {
             "outlinewidth": 0,
             "ticks": ""
            },
            "colorscale": [
             [
              0,
              "#0d0887"
             ],
             [
              0.1111111111111111,
              "#46039f"
             ],
             [
              0.2222222222222222,
              "#7201a8"
             ],
             [
              0.3333333333333333,
              "#9c179e"
             ],
             [
              0.4444444444444444,
              "#bd3786"
             ],
             [
              0.5555555555555556,
              "#d8576b"
             ],
             [
              0.6666666666666666,
              "#ed7953"
             ],
             [
              0.7777777777777778,
              "#fb9f3a"
             ],
             [
              0.8888888888888888,
              "#fdca26"
             ],
             [
              1,
              "#f0f921"
             ]
            ],
            "type": "contour"
           }
          ],
          "contourcarpet": [
           {
            "colorbar": {
             "outlinewidth": 0,
             "ticks": ""
            },
            "type": "contourcarpet"
           }
          ],
          "heatmap": [
           {
            "colorbar": {
             "outlinewidth": 0,
             "ticks": ""
            },
            "colorscale": [
             [
              0,
              "#0d0887"
             ],
             [
              0.1111111111111111,
              "#46039f"
             ],
             [
              0.2222222222222222,
              "#7201a8"
             ],
             [
              0.3333333333333333,
              "#9c179e"
             ],
             [
              0.4444444444444444,
              "#bd3786"
             ],
             [
              0.5555555555555556,
              "#d8576b"
             ],
             [
              0.6666666666666666,
              "#ed7953"
             ],
             [
              0.7777777777777778,
              "#fb9f3a"
             ],
             [
              0.8888888888888888,
              "#fdca26"
             ],
             [
              1,
              "#f0f921"
             ]
            ],
            "type": "heatmap"
           }
          ],
          "heatmapgl": [
           {
            "colorbar": {
             "outlinewidth": 0,
             "ticks": ""
            },
            "colorscale": [
             [
              0,
              "#0d0887"
             ],
             [
              0.1111111111111111,
              "#46039f"
             ],
             [
              0.2222222222222222,
              "#7201a8"
             ],
             [
              0.3333333333333333,
              "#9c179e"
             ],
             [
              0.4444444444444444,
              "#bd3786"
             ],
             [
              0.5555555555555556,
              "#d8576b"
             ],
             [
              0.6666666666666666,
              "#ed7953"
             ],
             [
              0.7777777777777778,
              "#fb9f3a"
             ],
             [
              0.8888888888888888,
              "#fdca26"
             ],
             [
              1,
              "#f0f921"
             ]
            ],
            "type": "heatmapgl"
           }
          ],
          "histogram": [
           {
            "marker": {
             "colorbar": {
              "outlinewidth": 0,
              "ticks": ""
             }
            },
            "type": "histogram"
           }
          ],
          "histogram2d": [
           {
            "colorbar": {
             "outlinewidth": 0,
             "ticks": ""
            },
            "colorscale": [
             [
              0,
              "#0d0887"
             ],
             [
              0.1111111111111111,
              "#46039f"
             ],
             [
              0.2222222222222222,
              "#7201a8"
             ],
             [
              0.3333333333333333,
              "#9c179e"
             ],
             [
              0.4444444444444444,
              "#bd3786"
             ],
             [
              0.5555555555555556,
              "#d8576b"
             ],
             [
              0.6666666666666666,
              "#ed7953"
             ],
             [
              0.7777777777777778,
              "#fb9f3a"
             ],
             [
              0.8888888888888888,
              "#fdca26"
             ],
             [
              1,
              "#f0f921"
             ]
            ],
            "type": "histogram2d"
           }
          ],
          "histogram2dcontour": [
           {
            "colorbar": {
             "outlinewidth": 0,
             "ticks": ""
            },
            "colorscale": [
             [
              0,
              "#0d0887"
             ],
             [
              0.1111111111111111,
              "#46039f"
             ],
             [
              0.2222222222222222,
              "#7201a8"
             ],
             [
              0.3333333333333333,
              "#9c179e"
             ],
             [
              0.4444444444444444,
              "#bd3786"
             ],
             [
              0.5555555555555556,
              "#d8576b"
             ],
             [
              0.6666666666666666,
              "#ed7953"
             ],
             [
              0.7777777777777778,
              "#fb9f3a"
             ],
             [
              0.8888888888888888,
              "#fdca26"
             ],
             [
              1,
              "#f0f921"
             ]
            ],
            "type": "histogram2dcontour"
           }
          ],
          "mesh3d": [
           {
            "colorbar": {
             "outlinewidth": 0,
             "ticks": ""
            },
            "type": "mesh3d"
           }
          ],
          "parcoords": [
           {
            "line": {
             "colorbar": {
              "outlinewidth": 0,
              "ticks": ""
             }
            },
            "type": "parcoords"
           }
          ],
          "pie": [
           {
            "automargin": true,
            "type": "pie"
           }
          ],
          "scatter": [
           {
            "marker": {
             "colorbar": {
              "outlinewidth": 0,
              "ticks": ""
             }
            },
            "type": "scatter"
           }
          ],
          "scatter3d": [
           {
            "line": {
             "colorbar": {
              "outlinewidth": 0,
              "ticks": ""
             }
            },
            "marker": {
             "colorbar": {
              "outlinewidth": 0,
              "ticks": ""
             }
            },
            "type": "scatter3d"
           }
          ],
          "scattercarpet": [
           {
            "marker": {
             "colorbar": {
              "outlinewidth": 0,
              "ticks": ""
             }
            },
            "type": "scattercarpet"
           }
          ],
          "scattergeo": [
           {
            "marker": {
             "colorbar": {
              "outlinewidth": 0,
              "ticks": ""
             }
            },
            "type": "scattergeo"
           }
          ],
          "scattergl": [
           {
            "marker": {
             "colorbar": {
              "outlinewidth": 0,
              "ticks": ""
             }
            },
            "type": "scattergl"
           }
          ],
          "scattermapbox": [
           {
            "marker": {
             "colorbar": {
              "outlinewidth": 0,
              "ticks": ""
             }
            },
            "type": "scattermapbox"
           }
          ],
          "scatterpolar": [
           {
            "marker": {
             "colorbar": {
              "outlinewidth": 0,
              "ticks": ""
             }
            },
            "type": "scatterpolar"
           }
          ],
          "scatterpolargl": [
           {
            "marker": {
             "colorbar": {
              "outlinewidth": 0,
              "ticks": ""
             }
            },
            "type": "scatterpolargl"
           }
          ],
          "scatterternary": [
           {
            "marker": {
             "colorbar": {
              "outlinewidth": 0,
              "ticks": ""
             }
            },
            "type": "scatterternary"
           }
          ],
          "surface": [
           {
            "colorbar": {
             "outlinewidth": 0,
             "ticks": ""
            },
            "colorscale": [
             [
              0,
              "#0d0887"
             ],
             [
              0.1111111111111111,
              "#46039f"
             ],
             [
              0.2222222222222222,
              "#7201a8"
             ],
             [
              0.3333333333333333,
              "#9c179e"
             ],
             [
              0.4444444444444444,
              "#bd3786"
             ],
             [
              0.5555555555555556,
              "#d8576b"
             ],
             [
              0.6666666666666666,
              "#ed7953"
             ],
             [
              0.7777777777777778,
              "#fb9f3a"
             ],
             [
              0.8888888888888888,
              "#fdca26"
             ],
             [
              1,
              "#f0f921"
             ]
            ],
            "type": "surface"
           }
          ],
          "table": [
           {
            "cells": {
             "fill": {
              "color": "#EBF0F8"
             },
             "line": {
              "color": "white"
             }
            },
            "header": {
             "fill": {
              "color": "#C8D4E3"
             },
             "line": {
              "color": "white"
             }
            },
            "type": "table"
           }
          ]
         },
         "layout": {
          "annotationdefaults": {
           "arrowcolor": "#2a3f5f",
           "arrowhead": 0,
           "arrowwidth": 1
          },
          "coloraxis": {
           "colorbar": {
            "outlinewidth": 0,
            "ticks": ""
           }
          },
          "colorscale": {
           "diverging": [
            [
             0,
             "#8e0152"
            ],
            [
             0.1,
             "#c51b7d"
            ],
            [
             0.2,
             "#de77ae"
            ],
            [
             0.3,
             "#f1b6da"
            ],
            [
             0.4,
             "#fde0ef"
            ],
            [
             0.5,
             "#f7f7f7"
            ],
            [
             0.6,
             "#e6f5d0"
            ],
            [
             0.7,
             "#b8e186"
            ],
            [
             0.8,
             "#7fbc41"
            ],
            [
             0.9,
             "#4d9221"
            ],
            [
             1,
             "#276419"
            ]
           ],
           "sequential": [
            [
             0,
             "#0d0887"
            ],
            [
             0.1111111111111111,
             "#46039f"
            ],
            [
             0.2222222222222222,
             "#7201a8"
            ],
            [
             0.3333333333333333,
             "#9c179e"
            ],
            [
             0.4444444444444444,
             "#bd3786"
            ],
            [
             0.5555555555555556,
             "#d8576b"
            ],
            [
             0.6666666666666666,
             "#ed7953"
            ],
            [
             0.7777777777777778,
             "#fb9f3a"
            ],
            [
             0.8888888888888888,
             "#fdca26"
            ],
            [
             1,
             "#f0f921"
            ]
           ],
           "sequentialminus": [
            [
             0,
             "#0d0887"
            ],
            [
             0.1111111111111111,
             "#46039f"
            ],
            [
             0.2222222222222222,
             "#7201a8"
            ],
            [
             0.3333333333333333,
             "#9c179e"
            ],
            [
             0.4444444444444444,
             "#bd3786"
            ],
            [
             0.5555555555555556,
             "#d8576b"
            ],
            [
             0.6666666666666666,
             "#ed7953"
            ],
            [
             0.7777777777777778,
             "#fb9f3a"
            ],
            [
             0.8888888888888888,
             "#fdca26"
            ],
            [
             1,
             "#f0f921"
            ]
           ]
          },
          "colorway": [
           "#636efa",
           "#EF553B",
           "#00cc96",
           "#ab63fa",
           "#FFA15A",
           "#19d3f3",
           "#FF6692",
           "#B6E880",
           "#FF97FF",
           "#FECB52"
          ],
          "font": {
           "color": "#2a3f5f"
          },
          "geo": {
           "bgcolor": "white",
           "lakecolor": "white",
           "landcolor": "#E5ECF6",
           "showlakes": true,
           "showland": true,
           "subunitcolor": "white"
          },
          "hoverlabel": {
           "align": "left"
          },
          "hovermode": "closest",
          "mapbox": {
           "style": "light"
          },
          "paper_bgcolor": "white",
          "plot_bgcolor": "#E5ECF6",
          "polar": {
           "angularaxis": {
            "gridcolor": "white",
            "linecolor": "white",
            "ticks": ""
           },
           "bgcolor": "#E5ECF6",
           "radialaxis": {
            "gridcolor": "white",
            "linecolor": "white",
            "ticks": ""
           }
          },
          "scene": {
           "xaxis": {
            "backgroundcolor": "#E5ECF6",
            "gridcolor": "white",
            "gridwidth": 2,
            "linecolor": "white",
            "showbackground": true,
            "ticks": "",
            "zerolinecolor": "white"
           },
           "yaxis": {
            "backgroundcolor": "#E5ECF6",
            "gridcolor": "white",
            "gridwidth": 2,
            "linecolor": "white",
            "showbackground": true,
            "ticks": "",
            "zerolinecolor": "white"
           },
           "zaxis": {
            "backgroundcolor": "#E5ECF6",
            "gridcolor": "white",
            "gridwidth": 2,
            "linecolor": "white",
            "showbackground": true,
            "ticks": "",
            "zerolinecolor": "white"
           }
          },
          "shapedefaults": {
           "line": {
            "color": "#2a3f5f"
           }
          },
          "ternary": {
           "aaxis": {
            "gridcolor": "white",
            "linecolor": "white",
            "ticks": ""
           },
           "baxis": {
            "gridcolor": "white",
            "linecolor": "white",
            "ticks": ""
           },
           "bgcolor": "#E5ECF6",
           "caxis": {
            "gridcolor": "white",
            "linecolor": "white",
            "ticks": ""
           }
          },
          "title": {
           "x": 0.05
          },
          "xaxis": {
           "automargin": true,
           "gridcolor": "white",
           "linecolor": "white",
           "ticks": "",
           "title": {
            "standoff": 15
           },
           "zerolinecolor": "white",
           "zerolinewidth": 2
          },
          "yaxis": {
           "automargin": true,
           "gridcolor": "white",
           "linecolor": "white",
           "ticks": "",
           "title": {
            "standoff": 15
           },
           "zerolinecolor": "white",
           "zerolinewidth": 2
          }
         }
        },
        "width": 990,
        "xaxis": {
         "dtick": 1,
         "gridcolor": "rgb(0, 0, 0)",
         "side": "top",
         "ticks": "",
         "title": {
          "text": "Динамика коэффициента распространения Rt по регионам"
         }
        },
        "yaxis": {
         "dtick": 1,
         "ticks": "",
         "ticksuffix": "  "
        }
       }
      }
     },
     "metadata": {}
    }
   ],
   "source": [
    "fig = ff.create_annotated_heatmap(d, x=x2, y=y, annotation_text=d,\n",
    "                                  colorscale='Temps')\n",
    "\n",
    "fig.update_layout(\n",
    "                  \n",
    "                  \n",
    "                  width = 990, height = 600,    \n",
    "    \n",
    "                  xaxis_title='Динамика коэффициента распространения Rt по регионам',\n",
    "               #   yaxis_title = 'Регион '\n",
    ")\n",
    "\n",
    "fig.show()\n"
   ]
  },
  {
   "cell_type": "code",
   "execution_count": 18,
   "metadata": {
    "tags": []
   },
   "outputs": [
    {
     "output_type": "stream",
     "name": "stdout",
     "text": "[[1.011 1.011 1.011 1.011 1.011 1.011 1.011 1.011 1.011 1.011 1.011 1.011\n  1.011 1.011 1.011 1.011 1.011 1.011]\n [1.009 1.009 1.009 1.009 1.009 1.009 1.009 1.009 1.01  1.01  1.01  1.01\n  1.01  1.01  1.01  1.01  1.01  1.009]\n [1.03  1.029 1.029 1.028 1.027 1.027 1.027 1.026 1.026 1.026 1.025 1.025\n  1.025 1.024 1.024 1.024 1.024 1.023]\n [1.024 1.024 1.023 1.023 1.022 1.022 1.021 1.021 1.021 1.02  1.02  1.02\n  1.02  1.02  1.02  1.019 1.019 1.019]\n [1.045 1.045 1.044 1.044 1.044 1.043 1.043 1.042 1.042 1.041 1.04  1.039\n  1.039 1.038 1.038 1.038 1.038 1.038]\n [1.051 1.05  1.049 1.048 1.047 1.046 1.044 1.043 1.041 1.039 1.038 1.036\n  1.035 1.033 1.032 1.03  1.03  1.029]]\n"
    },
    {
     "output_type": "execute_result",
     "data": {
      "text/plain": "Date            Region  2020-07-27  2020-07-28  2020-07-29  2020-07-30  \\\n0               Москва       1.011       1.011       1.011       1.011   \n1      Московская обл.       1.009       1.009       1.009       1.009   \n2               Россия       1.030       1.029       1.029       1.028   \n3      Санкт-Петербург       1.024       1.024       1.023       1.023   \n4     Саратовская обл.       1.045       1.045       1.044       1.044   \n\nDate  2020-07-31  2020-08-01  2020-08-02  2020-08-03  2020-08-04  2020-08-05  \\\n0          1.011       1.011       1.011       1.011       1.011       1.011   \n1          1.009       1.009       1.009       1.009       1.010       1.010   \n2          1.027       1.027       1.027       1.026       1.026       1.026   \n3          1.022       1.022       1.021       1.021       1.021       1.020   \n4          1.044       1.043       1.043       1.042       1.042       1.041   \n\nDate  2020-08-06  2020-08-07  2020-08-08  2020-08-09  2020-08-10  2020-08-11  \\\n0          1.011       1.011       1.011       1.011       1.011       1.011   \n1          1.010       1.010       1.010       1.010       1.010       1.010   \n2          1.025       1.025       1.025       1.024       1.024       1.024   \n3          1.020       1.020       1.020       1.020       1.020       1.019   \n4          1.040       1.039       1.039       1.038       1.038       1.038   \n\nDate  2020-08-12  2020-08-13  \n0          1.011       1.011  \n1          1.010       1.009  \n2          1.024       1.023  \n3          1.019       1.019  \n4          1.038       1.038  ",
      "text/html": "<div>\n<style scoped>\n    .dataframe tbody tr th:only-of-type {\n        vertical-align: middle;\n    }\n\n    .dataframe tbody tr th {\n        vertical-align: top;\n    }\n\n    .dataframe thead th {\n        text-align: right;\n    }\n</style>\n<table border=\"1\" class=\"dataframe\">\n  <thead>\n    <tr style=\"text-align: right;\">\n      <th>Date</th>\n      <th>Region</th>\n      <th>2020-07-27</th>\n      <th>2020-07-28</th>\n      <th>2020-07-29</th>\n      <th>2020-07-30</th>\n      <th>2020-07-31</th>\n      <th>2020-08-01</th>\n      <th>2020-08-02</th>\n      <th>2020-08-03</th>\n      <th>2020-08-04</th>\n      <th>2020-08-05</th>\n      <th>2020-08-06</th>\n      <th>2020-08-07</th>\n      <th>2020-08-08</th>\n      <th>2020-08-09</th>\n      <th>2020-08-10</th>\n      <th>2020-08-11</th>\n      <th>2020-08-12</th>\n      <th>2020-08-13</th>\n    </tr>\n  </thead>\n  <tbody>\n    <tr>\n      <th>0</th>\n      <td>Москва</td>\n      <td>1.011</td>\n      <td>1.011</td>\n      <td>1.011</td>\n      <td>1.011</td>\n      <td>1.011</td>\n      <td>1.011</td>\n      <td>1.011</td>\n      <td>1.011</td>\n      <td>1.011</td>\n      <td>1.011</td>\n      <td>1.011</td>\n      <td>1.011</td>\n      <td>1.011</td>\n      <td>1.011</td>\n      <td>1.011</td>\n      <td>1.011</td>\n      <td>1.011</td>\n      <td>1.011</td>\n    </tr>\n    <tr>\n      <th>1</th>\n      <td>Московская обл.</td>\n      <td>1.009</td>\n      <td>1.009</td>\n      <td>1.009</td>\n      <td>1.009</td>\n      <td>1.009</td>\n      <td>1.009</td>\n      <td>1.009</td>\n      <td>1.009</td>\n      <td>1.010</td>\n      <td>1.010</td>\n      <td>1.010</td>\n      <td>1.010</td>\n      <td>1.010</td>\n      <td>1.010</td>\n      <td>1.010</td>\n      <td>1.010</td>\n      <td>1.010</td>\n      <td>1.009</td>\n    </tr>\n    <tr>\n      <th>2</th>\n      <td>Россия</td>\n      <td>1.030</td>\n      <td>1.029</td>\n      <td>1.029</td>\n      <td>1.028</td>\n      <td>1.027</td>\n      <td>1.027</td>\n      <td>1.027</td>\n      <td>1.026</td>\n      <td>1.026</td>\n      <td>1.026</td>\n      <td>1.025</td>\n      <td>1.025</td>\n      <td>1.025</td>\n      <td>1.024</td>\n      <td>1.024</td>\n      <td>1.024</td>\n      <td>1.024</td>\n      <td>1.023</td>\n    </tr>\n    <tr>\n      <th>3</th>\n      <td>Санкт-Петербург</td>\n      <td>1.024</td>\n      <td>1.024</td>\n      <td>1.023</td>\n      <td>1.023</td>\n      <td>1.022</td>\n      <td>1.022</td>\n      <td>1.021</td>\n      <td>1.021</td>\n      <td>1.021</td>\n      <td>1.020</td>\n      <td>1.020</td>\n      <td>1.020</td>\n      <td>1.020</td>\n      <td>1.020</td>\n      <td>1.020</td>\n      <td>1.019</td>\n      <td>1.019</td>\n      <td>1.019</td>\n    </tr>\n    <tr>\n      <th>4</th>\n      <td>Саратовская обл.</td>\n      <td>1.045</td>\n      <td>1.045</td>\n      <td>1.044</td>\n      <td>1.044</td>\n      <td>1.044</td>\n      <td>1.043</td>\n      <td>1.043</td>\n      <td>1.042</td>\n      <td>1.042</td>\n      <td>1.041</td>\n      <td>1.040</td>\n      <td>1.039</td>\n      <td>1.039</td>\n      <td>1.038</td>\n      <td>1.038</td>\n      <td>1.038</td>\n      <td>1.038</td>\n      <td>1.038</td>\n    </tr>\n  </tbody>\n</table>\n</div>"
     },
     "metadata": {},
     "execution_count": 18
    }
   ],
   "source": [
    "mask = (X.Date>=datetime.date(2020,7,27))&(X.Region.isin(regions_towatch))\n",
    "\n",
    "\n",
    "# #mask = (X.Date>='2020-06-04')\n",
    "\n",
    "Z = X[mask].groupby(['Region','Date']).Rt2.sum().unstack().reset_index()\n",
    "Z.dropna(inplace=True)\n",
    "d = Z.drop('Region',axis = 1).values\n",
    "\n",
    "# my_map= {'Москва':'2.Москва','Московская обл.':'3.Московская обл.','Нижегородская обл.':'5.Нижегородская обл.',\n",
    "#                     'Россия':'1.Россия', 'Санкт-Петербург':'4.Санкт-Петербург'}\n",
    "# Z.Region = Z.Region.map(my_map)\n",
    "\n",
    "print(d)\n",
    "Z.head()"
   ]
  },
  {
   "cell_type": "code",
   "execution_count": 19,
   "metadata": {
    "tags": []
   },
   "outputs": [
    {
     "output_type": "stream",
     "name": "stdout",
     "text": "[datetime.date(2020, 7, 27), datetime.date(2020, 7, 28), datetime.date(2020, 7, 29), datetime.date(2020, 7, 30), datetime.date(2020, 7, 31), datetime.date(2020, 8, 1), datetime.date(2020, 8, 2), datetime.date(2020, 8, 3), datetime.date(2020, 8, 4), datetime.date(2020, 8, 5), datetime.date(2020, 8, 6), datetime.date(2020, 8, 7), datetime.date(2020, 8, 8), datetime.date(2020, 8, 9), datetime.date(2020, 8, 10), datetime.date(2020, 8, 11), datetime.date(2020, 8, 12), datetime.date(2020, 8, 13)]\n['27.7.2020', '28.7.2020', '29.7.2020', '30.7.2020', '31.7.2020', '1.8.2020', '2.8.2020', '3.8.2020', '4.8.2020', '5.8.2020', '6.8.2020', '7.8.2020', '8.8.2020', '9.8.2020', '10.8.2020', '11.8.2020', '12.8.2020', '13.8.2020']\n"
    }
   ],
   "source": [
    "x1=list(Z.columns[1:])\n",
    "x2=[]\n",
    "for i in x1:\n",
    "    x2.append(str(i.day)+'.'+str(i.month)+\".\"+str(i.year))\n",
    "    \n",
    "y=list(Z.Region)\n",
    "print(list(x1))\n",
    "print(x2)"
   ]
  },
  {
   "cell_type": "code",
   "execution_count": 20,
   "metadata": {},
   "outputs": [
    {
     "output_type": "display_data",
     "data": {
      "application/vnd.plotly.v1+json": {
       "config": {
        "plotlyServerURL": "https://plot.ly"
       },
       "data": [
        {
         "colorscale": [
          [
           0,
           "rgb(0, 147, 146)"
          ],
          [
           0.16666666666666666,
           "rgb(57, 177, 133)"
          ],
          [
           0.3333333333333333,
           "rgb(156, 203, 134)"
          ],
          [
           0.5,
           "rgb(233, 226, 156)"
          ],
          [
           0.6666666666666666,
           "rgb(238, 180, 121)"
          ],
          [
           0.8333333333333334,
           "rgb(232, 132, 113)"
          ],
          [
           1,
           "rgb(207, 89, 126)"
          ]
         ],
         "reversescale": false,
         "showscale": false,
         "type": "heatmap",
         "x": [
          "27.7.2020",
          "28.7.2020",
          "29.7.2020",
          "30.7.2020",
          "31.7.2020",
          "1.8.2020",
          "2.8.2020",
          "3.8.2020",
          "4.8.2020",
          "5.8.2020",
          "6.8.2020",
          "7.8.2020",
          "8.8.2020",
          "9.8.2020",
          "10.8.2020",
          "11.8.2020",
          "12.8.2020",
          "13.8.2020"
         ],
         "y": [
          "Москва",
          "Московская обл.",
          "Россия",
          "Санкт-Петербург",
          "Саратовская обл.",
          "Челябинская обл."
         ],
         "z": [
          [
           1.011,
           1.011,
           1.011,
           1.011,
           1.011,
           1.011,
           1.011,
           1.011,
           1.011,
           1.011,
           1.011,
           1.011,
           1.011,
           1.011,
           1.011,
           1.011,
           1.011,
           1.011
          ],
          [
           1.0090000000000001,
           1.0090000000000001,
           1.0090000000000001,
           1.0090000000000001,
           1.0090000000000001,
           1.0090000000000001,
           1.0090000000000001,
           1.0090000000000001,
           1.01,
           1.01,
           1.01,
           1.01,
           1.01,
           1.01,
           1.01,
           1.01,
           1.01,
           1.0090000000000001
          ],
          [
           1.03,
           1.0290000000000001,
           1.0290000000000001,
           1.028,
           1.0270000000000001,
           1.0270000000000001,
           1.0270000000000001,
           1.026,
           1.026,
           1.026,
           1.025,
           1.025,
           1.025,
           1.024,
           1.024,
           1.024,
           1.024,
           1.023
          ],
          [
           1.024,
           1.024,
           1.023,
           1.023,
           1.022,
           1.022,
           1.021,
           1.021,
           1.021,
           1.02,
           1.02,
           1.02,
           1.02,
           1.02,
           1.02,
           1.0190000000000001,
           1.0190000000000001,
           1.0190000000000001
          ],
          [
           1.045,
           1.045,
           1.044,
           1.044,
           1.044,
           1.043,
           1.043,
           1.042,
           1.042,
           1.041,
           1.04,
           1.0390000000000001,
           1.0390000000000001,
           1.038,
           1.038,
           1.038,
           1.038,
           1.038
          ],
          [
           1.051,
           1.05,
           1.0490000000000002,
           1.048,
           1.047,
           1.046,
           1.044,
           1.043,
           1.041,
           1.0390000000000001,
           1.038,
           1.036,
           1.035,
           1.033,
           1.032,
           1.03,
           1.03,
           1.0290000000000001
          ]
         ]
        }
       ],
       "layout": {
        "annotations": [
         {
          "font": {
           "color": "#FFFFFF"
          },
          "showarrow": false,
          "text": "1.011",
          "x": "27.7.2020",
          "xref": "x",
          "y": "Москва",
          "yref": "y"
         },
         {
          "font": {
           "color": "#FFFFFF"
          },
          "showarrow": false,
          "text": "1.011",
          "x": "28.7.2020",
          "xref": "x",
          "y": "Москва",
          "yref": "y"
         },
         {
          "font": {
           "color": "#FFFFFF"
          },
          "showarrow": false,
          "text": "1.011",
          "x": "29.7.2020",
          "xref": "x",
          "y": "Москва",
          "yref": "y"
         },
         {
          "font": {
           "color": "#FFFFFF"
          },
          "showarrow": false,
          "text": "1.011",
          "x": "30.7.2020",
          "xref": "x",
          "y": "Москва",
          "yref": "y"
         },
         {
          "font": {
           "color": "#FFFFFF"
          },
          "showarrow": false,
          "text": "1.011",
          "x": "31.7.2020",
          "xref": "x",
          "y": "Москва",
          "yref": "y"
         },
         {
          "font": {
           "color": "#FFFFFF"
          },
          "showarrow": false,
          "text": "1.011",
          "x": "1.8.2020",
          "xref": "x",
          "y": "Москва",
          "yref": "y"
         },
         {
          "font": {
           "color": "#FFFFFF"
          },
          "showarrow": false,
          "text": "1.011",
          "x": "2.8.2020",
          "xref": "x",
          "y": "Москва",
          "yref": "y"
         },
         {
          "font": {
           "color": "#FFFFFF"
          },
          "showarrow": false,
          "text": "1.011",
          "x": "3.8.2020",
          "xref": "x",
          "y": "Москва",
          "yref": "y"
         },
         {
          "font": {
           "color": "#FFFFFF"
          },
          "showarrow": false,
          "text": "1.011",
          "x": "4.8.2020",
          "xref": "x",
          "y": "Москва",
          "yref": "y"
         },
         {
          "font": {
           "color": "#FFFFFF"
          },
          "showarrow": false,
          "text": "1.011",
          "x": "5.8.2020",
          "xref": "x",
          "y": "Москва",
          "yref": "y"
         },
         {
          "font": {
           "color": "#FFFFFF"
          },
          "showarrow": false,
          "text": "1.011",
          "x": "6.8.2020",
          "xref": "x",
          "y": "Москва",
          "yref": "y"
         },
         {
          "font": {
           "color": "#FFFFFF"
          },
          "showarrow": false,
          "text": "1.011",
          "x": "7.8.2020",
          "xref": "x",
          "y": "Москва",
          "yref": "y"
         },
         {
          "font": {
           "color": "#FFFFFF"
          },
          "showarrow": false,
          "text": "1.011",
          "x": "8.8.2020",
          "xref": "x",
          "y": "Москва",
          "yref": "y"
         },
         {
          "font": {
           "color": "#FFFFFF"
          },
          "showarrow": false,
          "text": "1.011",
          "x": "9.8.2020",
          "xref": "x",
          "y": "Москва",
          "yref": "y"
         },
         {
          "font": {
           "color": "#FFFFFF"
          },
          "showarrow": false,
          "text": "1.011",
          "x": "10.8.2020",
          "xref": "x",
          "y": "Москва",
          "yref": "y"
         },
         {
          "font": {
           "color": "#FFFFFF"
          },
          "showarrow": false,
          "text": "1.011",
          "x": "11.8.2020",
          "xref": "x",
          "y": "Москва",
          "yref": "y"
         },
         {
          "font": {
           "color": "#FFFFFF"
          },
          "showarrow": false,
          "text": "1.011",
          "x": "12.8.2020",
          "xref": "x",
          "y": "Москва",
          "yref": "y"
         },
         {
          "font": {
           "color": "#FFFFFF"
          },
          "showarrow": false,
          "text": "1.011",
          "x": "13.8.2020",
          "xref": "x",
          "y": "Москва",
          "yref": "y"
         },
         {
          "font": {
           "color": "#FFFFFF"
          },
          "showarrow": false,
          "text": "1.0090000000000001",
          "x": "27.7.2020",
          "xref": "x",
          "y": "Московская обл.",
          "yref": "y"
         },
         {
          "font": {
           "color": "#FFFFFF"
          },
          "showarrow": false,
          "text": "1.0090000000000001",
          "x": "28.7.2020",
          "xref": "x",
          "y": "Московская обл.",
          "yref": "y"
         },
         {
          "font": {
           "color": "#FFFFFF"
          },
          "showarrow": false,
          "text": "1.0090000000000001",
          "x": "29.7.2020",
          "xref": "x",
          "y": "Московская обл.",
          "yref": "y"
         },
         {
          "font": {
           "color": "#FFFFFF"
          },
          "showarrow": false,
          "text": "1.0090000000000001",
          "x": "30.7.2020",
          "xref": "x",
          "y": "Московская обл.",
          "yref": "y"
         },
         {
          "font": {
           "color": "#FFFFFF"
          },
          "showarrow": false,
          "text": "1.0090000000000001",
          "x": "31.7.2020",
          "xref": "x",
          "y": "Московская обл.",
          "yref": "y"
         },
         {
          "font": {
           "color": "#FFFFFF"
          },
          "showarrow": false,
          "text": "1.0090000000000001",
          "x": "1.8.2020",
          "xref": "x",
          "y": "Московская обл.",
          "yref": "y"
         },
         {
          "font": {
           "color": "#FFFFFF"
          },
          "showarrow": false,
          "text": "1.0090000000000001",
          "x": "2.8.2020",
          "xref": "x",
          "y": "Московская обл.",
          "yref": "y"
         },
         {
          "font": {
           "color": "#FFFFFF"
          },
          "showarrow": false,
          "text": "1.0090000000000001",
          "x": "3.8.2020",
          "xref": "x",
          "y": "Московская обл.",
          "yref": "y"
         },
         {
          "font": {
           "color": "#FFFFFF"
          },
          "showarrow": false,
          "text": "1.01",
          "x": "4.8.2020",
          "xref": "x",
          "y": "Московская обл.",
          "yref": "y"
         },
         {
          "font": {
           "color": "#FFFFFF"
          },
          "showarrow": false,
          "text": "1.01",
          "x": "5.8.2020",
          "xref": "x",
          "y": "Московская обл.",
          "yref": "y"
         },
         {
          "font": {
           "color": "#FFFFFF"
          },
          "showarrow": false,
          "text": "1.01",
          "x": "6.8.2020",
          "xref": "x",
          "y": "Московская обл.",
          "yref": "y"
         },
         {
          "font": {
           "color": "#FFFFFF"
          },
          "showarrow": false,
          "text": "1.01",
          "x": "7.8.2020",
          "xref": "x",
          "y": "Московская обл.",
          "yref": "y"
         },
         {
          "font": {
           "color": "#FFFFFF"
          },
          "showarrow": false,
          "text": "1.01",
          "x": "8.8.2020",
          "xref": "x",
          "y": "Московская обл.",
          "yref": "y"
         },
         {
          "font": {
           "color": "#FFFFFF"
          },
          "showarrow": false,
          "text": "1.01",
          "x": "9.8.2020",
          "xref": "x",
          "y": "Московская обл.",
          "yref": "y"
         },
         {
          "font": {
           "color": "#FFFFFF"
          },
          "showarrow": false,
          "text": "1.01",
          "x": "10.8.2020",
          "xref": "x",
          "y": "Московская обл.",
          "yref": "y"
         },
         {
          "font": {
           "color": "#FFFFFF"
          },
          "showarrow": false,
          "text": "1.01",
          "x": "11.8.2020",
          "xref": "x",
          "y": "Московская обл.",
          "yref": "y"
         },
         {
          "font": {
           "color": "#FFFFFF"
          },
          "showarrow": false,
          "text": "1.01",
          "x": "12.8.2020",
          "xref": "x",
          "y": "Московская обл.",
          "yref": "y"
         },
         {
          "font": {
           "color": "#FFFFFF"
          },
          "showarrow": false,
          "text": "1.0090000000000001",
          "x": "13.8.2020",
          "xref": "x",
          "y": "Московская обл.",
          "yref": "y"
         },
         {
          "font": {
           "color": "#FFFFFF"
          },
          "showarrow": false,
          "text": "1.03",
          "x": "27.7.2020",
          "xref": "x",
          "y": "Россия",
          "yref": "y"
         },
         {
          "font": {
           "color": "#FFFFFF"
          },
          "showarrow": false,
          "text": "1.0290000000000001",
          "x": "28.7.2020",
          "xref": "x",
          "y": "Россия",
          "yref": "y"
         },
         {
          "font": {
           "color": "#FFFFFF"
          },
          "showarrow": false,
          "text": "1.0290000000000001",
          "x": "29.7.2020",
          "xref": "x",
          "y": "Россия",
          "yref": "y"
         },
         {
          "font": {
           "color": "#FFFFFF"
          },
          "showarrow": false,
          "text": "1.028",
          "x": "30.7.2020",
          "xref": "x",
          "y": "Россия",
          "yref": "y"
         },
         {
          "font": {
           "color": "#FFFFFF"
          },
          "showarrow": false,
          "text": "1.0270000000000001",
          "x": "31.7.2020",
          "xref": "x",
          "y": "Россия",
          "yref": "y"
         },
         {
          "font": {
           "color": "#FFFFFF"
          },
          "showarrow": false,
          "text": "1.0270000000000001",
          "x": "1.8.2020",
          "xref": "x",
          "y": "Россия",
          "yref": "y"
         },
         {
          "font": {
           "color": "#FFFFFF"
          },
          "showarrow": false,
          "text": "1.0270000000000001",
          "x": "2.8.2020",
          "xref": "x",
          "y": "Россия",
          "yref": "y"
         },
         {
          "font": {
           "color": "#FFFFFF"
          },
          "showarrow": false,
          "text": "1.026",
          "x": "3.8.2020",
          "xref": "x",
          "y": "Россия",
          "yref": "y"
         },
         {
          "font": {
           "color": "#FFFFFF"
          },
          "showarrow": false,
          "text": "1.026",
          "x": "4.8.2020",
          "xref": "x",
          "y": "Россия",
          "yref": "y"
         },
         {
          "font": {
           "color": "#FFFFFF"
          },
          "showarrow": false,
          "text": "1.026",
          "x": "5.8.2020",
          "xref": "x",
          "y": "Россия",
          "yref": "y"
         },
         {
          "font": {
           "color": "#FFFFFF"
          },
          "showarrow": false,
          "text": "1.025",
          "x": "6.8.2020",
          "xref": "x",
          "y": "Россия",
          "yref": "y"
         },
         {
          "font": {
           "color": "#FFFFFF"
          },
          "showarrow": false,
          "text": "1.025",
          "x": "7.8.2020",
          "xref": "x",
          "y": "Россия",
          "yref": "y"
         },
         {
          "font": {
           "color": "#FFFFFF"
          },
          "showarrow": false,
          "text": "1.025",
          "x": "8.8.2020",
          "xref": "x",
          "y": "Россия",
          "yref": "y"
         },
         {
          "font": {
           "color": "#FFFFFF"
          },
          "showarrow": false,
          "text": "1.024",
          "x": "9.8.2020",
          "xref": "x",
          "y": "Россия",
          "yref": "y"
         },
         {
          "font": {
           "color": "#FFFFFF"
          },
          "showarrow": false,
          "text": "1.024",
          "x": "10.8.2020",
          "xref": "x",
          "y": "Россия",
          "yref": "y"
         },
         {
          "font": {
           "color": "#FFFFFF"
          },
          "showarrow": false,
          "text": "1.024",
          "x": "11.8.2020",
          "xref": "x",
          "y": "Россия",
          "yref": "y"
         },
         {
          "font": {
           "color": "#FFFFFF"
          },
          "showarrow": false,
          "text": "1.024",
          "x": "12.8.2020",
          "xref": "x",
          "y": "Россия",
          "yref": "y"
         },
         {
          "font": {
           "color": "#FFFFFF"
          },
          "showarrow": false,
          "text": "1.023",
          "x": "13.8.2020",
          "xref": "x",
          "y": "Россия",
          "yref": "y"
         },
         {
          "font": {
           "color": "#FFFFFF"
          },
          "showarrow": false,
          "text": "1.024",
          "x": "27.7.2020",
          "xref": "x",
          "y": "Санкт-Петербург",
          "yref": "y"
         },
         {
          "font": {
           "color": "#FFFFFF"
          },
          "showarrow": false,
          "text": "1.024",
          "x": "28.7.2020",
          "xref": "x",
          "y": "Санкт-Петербург",
          "yref": "y"
         },
         {
          "font": {
           "color": "#FFFFFF"
          },
          "showarrow": false,
          "text": "1.023",
          "x": "29.7.2020",
          "xref": "x",
          "y": "Санкт-Петербург",
          "yref": "y"
         },
         {
          "font": {
           "color": "#FFFFFF"
          },
          "showarrow": false,
          "text": "1.023",
          "x": "30.7.2020",
          "xref": "x",
          "y": "Санкт-Петербург",
          "yref": "y"
         },
         {
          "font": {
           "color": "#FFFFFF"
          },
          "showarrow": false,
          "text": "1.022",
          "x": "31.7.2020",
          "xref": "x",
          "y": "Санкт-Петербург",
          "yref": "y"
         },
         {
          "font": {
           "color": "#FFFFFF"
          },
          "showarrow": false,
          "text": "1.022",
          "x": "1.8.2020",
          "xref": "x",
          "y": "Санкт-Петербург",
          "yref": "y"
         },
         {
          "font": {
           "color": "#FFFFFF"
          },
          "showarrow": false,
          "text": "1.021",
          "x": "2.8.2020",
          "xref": "x",
          "y": "Санкт-Петербург",
          "yref": "y"
         },
         {
          "font": {
           "color": "#FFFFFF"
          },
          "showarrow": false,
          "text": "1.021",
          "x": "3.8.2020",
          "xref": "x",
          "y": "Санкт-Петербург",
          "yref": "y"
         },
         {
          "font": {
           "color": "#FFFFFF"
          },
          "showarrow": false,
          "text": "1.021",
          "x": "4.8.2020",
          "xref": "x",
          "y": "Санкт-Петербург",
          "yref": "y"
         },
         {
          "font": {
           "color": "#FFFFFF"
          },
          "showarrow": false,
          "text": "1.02",
          "x": "5.8.2020",
          "xref": "x",
          "y": "Санкт-Петербург",
          "yref": "y"
         },
         {
          "font": {
           "color": "#FFFFFF"
          },
          "showarrow": false,
          "text": "1.02",
          "x": "6.8.2020",
          "xref": "x",
          "y": "Санкт-Петербург",
          "yref": "y"
         },
         {
          "font": {
           "color": "#FFFFFF"
          },
          "showarrow": false,
          "text": "1.02",
          "x": "7.8.2020",
          "xref": "x",
          "y": "Санкт-Петербург",
          "yref": "y"
         },
         {
          "font": {
           "color": "#FFFFFF"
          },
          "showarrow": false,
          "text": "1.02",
          "x": "8.8.2020",
          "xref": "x",
          "y": "Санкт-Петербург",
          "yref": "y"
         },
         {
          "font": {
           "color": "#FFFFFF"
          },
          "showarrow": false,
          "text": "1.02",
          "x": "9.8.2020",
          "xref": "x",
          "y": "Санкт-Петербург",
          "yref": "y"
         },
         {
          "font": {
           "color": "#FFFFFF"
          },
          "showarrow": false,
          "text": "1.02",
          "x": "10.8.2020",
          "xref": "x",
          "y": "Санкт-Петербург",
          "yref": "y"
         },
         {
          "font": {
           "color": "#FFFFFF"
          },
          "showarrow": false,
          "text": "1.0190000000000001",
          "x": "11.8.2020",
          "xref": "x",
          "y": "Санкт-Петербург",
          "yref": "y"
         },
         {
          "font": {
           "color": "#FFFFFF"
          },
          "showarrow": false,
          "text": "1.0190000000000001",
          "x": "12.8.2020",
          "xref": "x",
          "y": "Санкт-Петербург",
          "yref": "y"
         },
         {
          "font": {
           "color": "#FFFFFF"
          },
          "showarrow": false,
          "text": "1.0190000000000001",
          "x": "13.8.2020",
          "xref": "x",
          "y": "Санкт-Петербург",
          "yref": "y"
         },
         {
          "font": {
           "color": "#FFFFFF"
          },
          "showarrow": false,
          "text": "1.045",
          "x": "27.7.2020",
          "xref": "x",
          "y": "Саратовская обл.",
          "yref": "y"
         },
         {
          "font": {
           "color": "#FFFFFF"
          },
          "showarrow": false,
          "text": "1.045",
          "x": "28.7.2020",
          "xref": "x",
          "y": "Саратовская обл.",
          "yref": "y"
         },
         {
          "font": {
           "color": "#FFFFFF"
          },
          "showarrow": false,
          "text": "1.044",
          "x": "29.7.2020",
          "xref": "x",
          "y": "Саратовская обл.",
          "yref": "y"
         },
         {
          "font": {
           "color": "#FFFFFF"
          },
          "showarrow": false,
          "text": "1.044",
          "x": "30.7.2020",
          "xref": "x",
          "y": "Саратовская обл.",
          "yref": "y"
         },
         {
          "font": {
           "color": "#FFFFFF"
          },
          "showarrow": false,
          "text": "1.044",
          "x": "31.7.2020",
          "xref": "x",
          "y": "Саратовская обл.",
          "yref": "y"
         },
         {
          "font": {
           "color": "#FFFFFF"
          },
          "showarrow": false,
          "text": "1.043",
          "x": "1.8.2020",
          "xref": "x",
          "y": "Саратовская обл.",
          "yref": "y"
         },
         {
          "font": {
           "color": "#FFFFFF"
          },
          "showarrow": false,
          "text": "1.043",
          "x": "2.8.2020",
          "xref": "x",
          "y": "Саратовская обл.",
          "yref": "y"
         },
         {
          "font": {
           "color": "#FFFFFF"
          },
          "showarrow": false,
          "text": "1.042",
          "x": "3.8.2020",
          "xref": "x",
          "y": "Саратовская обл.",
          "yref": "y"
         },
         {
          "font": {
           "color": "#FFFFFF"
          },
          "showarrow": false,
          "text": "1.042",
          "x": "4.8.2020",
          "xref": "x",
          "y": "Саратовская обл.",
          "yref": "y"
         },
         {
          "font": {
           "color": "#FFFFFF"
          },
          "showarrow": false,
          "text": "1.041",
          "x": "5.8.2020",
          "xref": "x",
          "y": "Саратовская обл.",
          "yref": "y"
         },
         {
          "font": {
           "color": "#FFFFFF"
          },
          "showarrow": false,
          "text": "1.04",
          "x": "6.8.2020",
          "xref": "x",
          "y": "Саратовская обл.",
          "yref": "y"
         },
         {
          "font": {
           "color": "#FFFFFF"
          },
          "showarrow": false,
          "text": "1.0390000000000001",
          "x": "7.8.2020",
          "xref": "x",
          "y": "Саратовская обл.",
          "yref": "y"
         },
         {
          "font": {
           "color": "#FFFFFF"
          },
          "showarrow": false,
          "text": "1.0390000000000001",
          "x": "8.8.2020",
          "xref": "x",
          "y": "Саратовская обл.",
          "yref": "y"
         },
         {
          "font": {
           "color": "#FFFFFF"
          },
          "showarrow": false,
          "text": "1.038",
          "x": "9.8.2020",
          "xref": "x",
          "y": "Саратовская обл.",
          "yref": "y"
         },
         {
          "font": {
           "color": "#FFFFFF"
          },
          "showarrow": false,
          "text": "1.038",
          "x": "10.8.2020",
          "xref": "x",
          "y": "Саратовская обл.",
          "yref": "y"
         },
         {
          "font": {
           "color": "#FFFFFF"
          },
          "showarrow": false,
          "text": "1.038",
          "x": "11.8.2020",
          "xref": "x",
          "y": "Саратовская обл.",
          "yref": "y"
         },
         {
          "font": {
           "color": "#FFFFFF"
          },
          "showarrow": false,
          "text": "1.038",
          "x": "12.8.2020",
          "xref": "x",
          "y": "Саратовская обл.",
          "yref": "y"
         },
         {
          "font": {
           "color": "#FFFFFF"
          },
          "showarrow": false,
          "text": "1.038",
          "x": "13.8.2020",
          "xref": "x",
          "y": "Саратовская обл.",
          "yref": "y"
         },
         {
          "font": {
           "color": "#FFFFFF"
          },
          "showarrow": false,
          "text": "1.051",
          "x": "27.7.2020",
          "xref": "x",
          "y": "Челябинская обл.",
          "yref": "y"
         },
         {
          "font": {
           "color": "#FFFFFF"
          },
          "showarrow": false,
          "text": "1.05",
          "x": "28.7.2020",
          "xref": "x",
          "y": "Челябинская обл.",
          "yref": "y"
         },
         {
          "font": {
           "color": "#FFFFFF"
          },
          "showarrow": false,
          "text": "1.0490000000000002",
          "x": "29.7.2020",
          "xref": "x",
          "y": "Челябинская обл.",
          "yref": "y"
         },
         {
          "font": {
           "color": "#FFFFFF"
          },
          "showarrow": false,
          "text": "1.048",
          "x": "30.7.2020",
          "xref": "x",
          "y": "Челябинская обл.",
          "yref": "y"
         },
         {
          "font": {
           "color": "#FFFFFF"
          },
          "showarrow": false,
          "text": "1.047",
          "x": "31.7.2020",
          "xref": "x",
          "y": "Челябинская обл.",
          "yref": "y"
         },
         {
          "font": {
           "color": "#FFFFFF"
          },
          "showarrow": false,
          "text": "1.046",
          "x": "1.8.2020",
          "xref": "x",
          "y": "Челябинская обл.",
          "yref": "y"
         },
         {
          "font": {
           "color": "#FFFFFF"
          },
          "showarrow": false,
          "text": "1.044",
          "x": "2.8.2020",
          "xref": "x",
          "y": "Челябинская обл.",
          "yref": "y"
         },
         {
          "font": {
           "color": "#FFFFFF"
          },
          "showarrow": false,
          "text": "1.043",
          "x": "3.8.2020",
          "xref": "x",
          "y": "Челябинская обл.",
          "yref": "y"
         },
         {
          "font": {
           "color": "#FFFFFF"
          },
          "showarrow": false,
          "text": "1.041",
          "x": "4.8.2020",
          "xref": "x",
          "y": "Челябинская обл.",
          "yref": "y"
         },
         {
          "font": {
           "color": "#FFFFFF"
          },
          "showarrow": false,
          "text": "1.0390000000000001",
          "x": "5.8.2020",
          "xref": "x",
          "y": "Челябинская обл.",
          "yref": "y"
         },
         {
          "font": {
           "color": "#FFFFFF"
          },
          "showarrow": false,
          "text": "1.038",
          "x": "6.8.2020",
          "xref": "x",
          "y": "Челябинская обл.",
          "yref": "y"
         },
         {
          "font": {
           "color": "#FFFFFF"
          },
          "showarrow": false,
          "text": "1.036",
          "x": "7.8.2020",
          "xref": "x",
          "y": "Челябинская обл.",
          "yref": "y"
         },
         {
          "font": {
           "color": "#FFFFFF"
          },
          "showarrow": false,
          "text": "1.035",
          "x": "8.8.2020",
          "xref": "x",
          "y": "Челябинская обл.",
          "yref": "y"
         },
         {
          "font": {
           "color": "#FFFFFF"
          },
          "showarrow": false,
          "text": "1.033",
          "x": "9.8.2020",
          "xref": "x",
          "y": "Челябинская обл.",
          "yref": "y"
         },
         {
          "font": {
           "color": "#FFFFFF"
          },
          "showarrow": false,
          "text": "1.032",
          "x": "10.8.2020",
          "xref": "x",
          "y": "Челябинская обл.",
          "yref": "y"
         },
         {
          "font": {
           "color": "#FFFFFF"
          },
          "showarrow": false,
          "text": "1.03",
          "x": "11.8.2020",
          "xref": "x",
          "y": "Челябинская обл.",
          "yref": "y"
         },
         {
          "font": {
           "color": "#FFFFFF"
          },
          "showarrow": false,
          "text": "1.03",
          "x": "12.8.2020",
          "xref": "x",
          "y": "Челябинская обл.",
          "yref": "y"
         },
         {
          "font": {
           "color": "#FFFFFF"
          },
          "showarrow": false,
          "text": "1.0290000000000001",
          "x": "13.8.2020",
          "xref": "x",
          "y": "Челябинская обл.",
          "yref": "y"
         }
        ],
        "height": 600,
        "template": {
         "data": {
          "bar": [
           {
            "error_x": {
             "color": "#2a3f5f"
            },
            "error_y": {
             "color": "#2a3f5f"
            },
            "marker": {
             "line": {
              "color": "#E5ECF6",
              "width": 0.5
             }
            },
            "type": "bar"
           }
          ],
          "barpolar": [
           {
            "marker": {
             "line": {
              "color": "#E5ECF6",
              "width": 0.5
             }
            },
            "type": "barpolar"
           }
          ],
          "carpet": [
           {
            "aaxis": {
             "endlinecolor": "#2a3f5f",
             "gridcolor": "white",
             "linecolor": "white",
             "minorgridcolor": "white",
             "startlinecolor": "#2a3f5f"
            },
            "baxis": {
             "endlinecolor": "#2a3f5f",
             "gridcolor": "white",
             "linecolor": "white",
             "minorgridcolor": "white",
             "startlinecolor": "#2a3f5f"
            },
            "type": "carpet"
           }
          ],
          "choropleth": [
           {
            "colorbar": {
             "outlinewidth": 0,
             "ticks": ""
            },
            "type": "choropleth"
           }
          ],
          "contour": [
           {
            "colorbar": {
             "outlinewidth": 0,
             "ticks": ""
            },
            "colorscale": [
             [
              0,
              "#0d0887"
             ],
             [
              0.1111111111111111,
              "#46039f"
             ],
             [
              0.2222222222222222,
              "#7201a8"
             ],
             [
              0.3333333333333333,
              "#9c179e"
             ],
             [
              0.4444444444444444,
              "#bd3786"
             ],
             [
              0.5555555555555556,
              "#d8576b"
             ],
             [
              0.6666666666666666,
              "#ed7953"
             ],
             [
              0.7777777777777778,
              "#fb9f3a"
             ],
             [
              0.8888888888888888,
              "#fdca26"
             ],
             [
              1,
              "#f0f921"
             ]
            ],
            "type": "contour"
           }
          ],
          "contourcarpet": [
           {
            "colorbar": {
             "outlinewidth": 0,
             "ticks": ""
            },
            "type": "contourcarpet"
           }
          ],
          "heatmap": [
           {
            "colorbar": {
             "outlinewidth": 0,
             "ticks": ""
            },
            "colorscale": [
             [
              0,
              "#0d0887"
             ],
             [
              0.1111111111111111,
              "#46039f"
             ],
             [
              0.2222222222222222,
              "#7201a8"
             ],
             [
              0.3333333333333333,
              "#9c179e"
             ],
             [
              0.4444444444444444,
              "#bd3786"
             ],
             [
              0.5555555555555556,
              "#d8576b"
             ],
             [
              0.6666666666666666,
              "#ed7953"
             ],
             [
              0.7777777777777778,
              "#fb9f3a"
             ],
             [
              0.8888888888888888,
              "#fdca26"
             ],
             [
              1,
              "#f0f921"
             ]
            ],
            "type": "heatmap"
           }
          ],
          "heatmapgl": [
           {
            "colorbar": {
             "outlinewidth": 0,
             "ticks": ""
            },
            "colorscale": [
             [
              0,
              "#0d0887"
             ],
             [
              0.1111111111111111,
              "#46039f"
             ],
             [
              0.2222222222222222,
              "#7201a8"
             ],
             [
              0.3333333333333333,
              "#9c179e"
             ],
             [
              0.4444444444444444,
              "#bd3786"
             ],
             [
              0.5555555555555556,
              "#d8576b"
             ],
             [
              0.6666666666666666,
              "#ed7953"
             ],
             [
              0.7777777777777778,
              "#fb9f3a"
             ],
             [
              0.8888888888888888,
              "#fdca26"
             ],
             [
              1,
              "#f0f921"
             ]
            ],
            "type": "heatmapgl"
           }
          ],
          "histogram": [
           {
            "marker": {
             "colorbar": {
              "outlinewidth": 0,
              "ticks": ""
             }
            },
            "type": "histogram"
           }
          ],
          "histogram2d": [
           {
            "colorbar": {
             "outlinewidth": 0,
             "ticks": ""
            },
            "colorscale": [
             [
              0,
              "#0d0887"
             ],
             [
              0.1111111111111111,
              "#46039f"
             ],
             [
              0.2222222222222222,
              "#7201a8"
             ],
             [
              0.3333333333333333,
              "#9c179e"
             ],
             [
              0.4444444444444444,
              "#bd3786"
             ],
             [
              0.5555555555555556,
              "#d8576b"
             ],
             [
              0.6666666666666666,
              "#ed7953"
             ],
             [
              0.7777777777777778,
              "#fb9f3a"
             ],
             [
              0.8888888888888888,
              "#fdca26"
             ],
             [
              1,
              "#f0f921"
             ]
            ],
            "type": "histogram2d"
           }
          ],
          "histogram2dcontour": [
           {
            "colorbar": {
             "outlinewidth": 0,
             "ticks": ""
            },
            "colorscale": [
             [
              0,
              "#0d0887"
             ],
             [
              0.1111111111111111,
              "#46039f"
             ],
             [
              0.2222222222222222,
              "#7201a8"
             ],
             [
              0.3333333333333333,
              "#9c179e"
             ],
             [
              0.4444444444444444,
              "#bd3786"
             ],
             [
              0.5555555555555556,
              "#d8576b"
             ],
             [
              0.6666666666666666,
              "#ed7953"
             ],
             [
              0.7777777777777778,
              "#fb9f3a"
             ],
             [
              0.8888888888888888,
              "#fdca26"
             ],
             [
              1,
              "#f0f921"
             ]
            ],
            "type": "histogram2dcontour"
           }
          ],
          "mesh3d": [
           {
            "colorbar": {
             "outlinewidth": 0,
             "ticks": ""
            },
            "type": "mesh3d"
           }
          ],
          "parcoords": [
           {
            "line": {
             "colorbar": {
              "outlinewidth": 0,
              "ticks": ""
             }
            },
            "type": "parcoords"
           }
          ],
          "pie": [
           {
            "automargin": true,
            "type": "pie"
           }
          ],
          "scatter": [
           {
            "marker": {
             "colorbar": {
              "outlinewidth": 0,
              "ticks": ""
             }
            },
            "type": "scatter"
           }
          ],
          "scatter3d": [
           {
            "line": {
             "colorbar": {
              "outlinewidth": 0,
              "ticks": ""
             }
            },
            "marker": {
             "colorbar": {
              "outlinewidth": 0,
              "ticks": ""
             }
            },
            "type": "scatter3d"
           }
          ],
          "scattercarpet": [
           {
            "marker": {
             "colorbar": {
              "outlinewidth": 0,
              "ticks": ""
             }
            },
            "type": "scattercarpet"
           }
          ],
          "scattergeo": [
           {
            "marker": {
             "colorbar": {
              "outlinewidth": 0,
              "ticks": ""
             }
            },
            "type": "scattergeo"
           }
          ],
          "scattergl": [
           {
            "marker": {
             "colorbar": {
              "outlinewidth": 0,
              "ticks": ""
             }
            },
            "type": "scattergl"
           }
          ],
          "scattermapbox": [
           {
            "marker": {
             "colorbar": {
              "outlinewidth": 0,
              "ticks": ""
             }
            },
            "type": "scattermapbox"
           }
          ],
          "scatterpolar": [
           {
            "marker": {
             "colorbar": {
              "outlinewidth": 0,
              "ticks": ""
             }
            },
            "type": "scatterpolar"
           }
          ],
          "scatterpolargl": [
           {
            "marker": {
             "colorbar": {
              "outlinewidth": 0,
              "ticks": ""
             }
            },
            "type": "scatterpolargl"
           }
          ],
          "scatterternary": [
           {
            "marker": {
             "colorbar": {
              "outlinewidth": 0,
              "ticks": ""
             }
            },
            "type": "scatterternary"
           }
          ],
          "surface": [
           {
            "colorbar": {
             "outlinewidth": 0,
             "ticks": ""
            },
            "colorscale": [
             [
              0,
              "#0d0887"
             ],
             [
              0.1111111111111111,
              "#46039f"
             ],
             [
              0.2222222222222222,
              "#7201a8"
             ],
             [
              0.3333333333333333,
              "#9c179e"
             ],
             [
              0.4444444444444444,
              "#bd3786"
             ],
             [
              0.5555555555555556,
              "#d8576b"
             ],
             [
              0.6666666666666666,
              "#ed7953"
             ],
             [
              0.7777777777777778,
              "#fb9f3a"
             ],
             [
              0.8888888888888888,
              "#fdca26"
             ],
             [
              1,
              "#f0f921"
             ]
            ],
            "type": "surface"
           }
          ],
          "table": [
           {
            "cells": {
             "fill": {
              "color": "#EBF0F8"
             },
             "line": {
              "color": "white"
             }
            },
            "header": {
             "fill": {
              "color": "#C8D4E3"
             },
             "line": {
              "color": "white"
             }
            },
            "type": "table"
           }
          ]
         },
         "layout": {
          "annotationdefaults": {
           "arrowcolor": "#2a3f5f",
           "arrowhead": 0,
           "arrowwidth": 1
          },
          "coloraxis": {
           "colorbar": {
            "outlinewidth": 0,
            "ticks": ""
           }
          },
          "colorscale": {
           "diverging": [
            [
             0,
             "#8e0152"
            ],
            [
             0.1,
             "#c51b7d"
            ],
            [
             0.2,
             "#de77ae"
            ],
            [
             0.3,
             "#f1b6da"
            ],
            [
             0.4,
             "#fde0ef"
            ],
            [
             0.5,
             "#f7f7f7"
            ],
            [
             0.6,
             "#e6f5d0"
            ],
            [
             0.7,
             "#b8e186"
            ],
            [
             0.8,
             "#7fbc41"
            ],
            [
             0.9,
             "#4d9221"
            ],
            [
             1,
             "#276419"
            ]
           ],
           "sequential": [
            [
             0,
             "#0d0887"
            ],
            [
             0.1111111111111111,
             "#46039f"
            ],
            [
             0.2222222222222222,
             "#7201a8"
            ],
            [
             0.3333333333333333,
             "#9c179e"
            ],
            [
             0.4444444444444444,
             "#bd3786"
            ],
            [
             0.5555555555555556,
             "#d8576b"
            ],
            [
             0.6666666666666666,
             "#ed7953"
            ],
            [
             0.7777777777777778,
             "#fb9f3a"
            ],
            [
             0.8888888888888888,
             "#fdca26"
            ],
            [
             1,
             "#f0f921"
            ]
           ],
           "sequentialminus": [
            [
             0,
             "#0d0887"
            ],
            [
             0.1111111111111111,
             "#46039f"
            ],
            [
             0.2222222222222222,
             "#7201a8"
            ],
            [
             0.3333333333333333,
             "#9c179e"
            ],
            [
             0.4444444444444444,
             "#bd3786"
            ],
            [
             0.5555555555555556,
             "#d8576b"
            ],
            [
             0.6666666666666666,
             "#ed7953"
            ],
            [
             0.7777777777777778,
             "#fb9f3a"
            ],
            [
             0.8888888888888888,
             "#fdca26"
            ],
            [
             1,
             "#f0f921"
            ]
           ]
          },
          "colorway": [
           "#636efa",
           "#EF553B",
           "#00cc96",
           "#ab63fa",
           "#FFA15A",
           "#19d3f3",
           "#FF6692",
           "#B6E880",
           "#FF97FF",
           "#FECB52"
          ],
          "font": {
           "color": "#2a3f5f"
          },
          "geo": {
           "bgcolor": "white",
           "lakecolor": "white",
           "landcolor": "#E5ECF6",
           "showlakes": true,
           "showland": true,
           "subunitcolor": "white"
          },
          "hoverlabel": {
           "align": "left"
          },
          "hovermode": "closest",
          "mapbox": {
           "style": "light"
          },
          "paper_bgcolor": "white",
          "plot_bgcolor": "#E5ECF6",
          "polar": {
           "angularaxis": {
            "gridcolor": "white",
            "linecolor": "white",
            "ticks": ""
           },
           "bgcolor": "#E5ECF6",
           "radialaxis": {
            "gridcolor": "white",
            "linecolor": "white",
            "ticks": ""
           }
          },
          "scene": {
           "xaxis": {
            "backgroundcolor": "#E5ECF6",
            "gridcolor": "white",
            "gridwidth": 2,
            "linecolor": "white",
            "showbackground": true,
            "ticks": "",
            "zerolinecolor": "white"
           },
           "yaxis": {
            "backgroundcolor": "#E5ECF6",
            "gridcolor": "white",
            "gridwidth": 2,
            "linecolor": "white",
            "showbackground": true,
            "ticks": "",
            "zerolinecolor": "white"
           },
           "zaxis": {
            "backgroundcolor": "#E5ECF6",
            "gridcolor": "white",
            "gridwidth": 2,
            "linecolor": "white",
            "showbackground": true,
            "ticks": "",
            "zerolinecolor": "white"
           }
          },
          "shapedefaults": {
           "line": {
            "color": "#2a3f5f"
           }
          },
          "ternary": {
           "aaxis": {
            "gridcolor": "white",
            "linecolor": "white",
            "ticks": ""
           },
           "baxis": {
            "gridcolor": "white",
            "linecolor": "white",
            "ticks": ""
           },
           "bgcolor": "#E5ECF6",
           "caxis": {
            "gridcolor": "white",
            "linecolor": "white",
            "ticks": ""
           }
          },
          "title": {
           "x": 0.05
          },
          "xaxis": {
           "automargin": true,
           "gridcolor": "white",
           "linecolor": "white",
           "ticks": "",
           "title": {
            "standoff": 15
           },
           "zerolinecolor": "white",
           "zerolinewidth": 2
          },
          "yaxis": {
           "automargin": true,
           "gridcolor": "white",
           "linecolor": "white",
           "ticks": "",
           "title": {
            "standoff": 15
           },
           "zerolinecolor": "white",
           "zerolinewidth": 2
          }
         }
        },
        "width": 990,
        "xaxis": {
         "dtick": 1,
         "gridcolor": "rgb(0, 0, 0)",
         "side": "top",
         "ticks": "",
         "title": {
          "text": "Динамика коэффициента распространения Rt2 по регионам"
         }
        },
        "yaxis": {
         "dtick": 1,
         "ticks": "",
         "ticksuffix": "  "
        }
       }
      }
     },
     "metadata": {}
    }
   ],
   "source": [
    "fig = ff.create_annotated_heatmap(d, x=x2, y=y, annotation_text=d,\n",
    "                                  colorscale='Temps')\n",
    "\n",
    "fig.update_layout(\n",
    "                  \n",
    "                  \n",
    "                  width = 990, height = 600,    \n",
    "    \n",
    "                  xaxis_title='Динамика коэффициента распространения Rt2 по регионам',\n",
    "               #   yaxis_title = 'Регион '\n",
    ")\n",
    "\n",
    "fig.show()\n"
   ]
  },
  {
   "cell_type": "code",
   "execution_count": 21,
   "metadata": {},
   "outputs": [
    {
     "output_type": "execute_result",
     "data": {
      "text/plain": "Date            Region  2020-07-27  2020-07-28  2020-07-29  2020-07-30  \\\n0               Москва         694         674         671         678   \n1      Московская обл.         139         126         137         144   \n2               Россия        5635        5395        5475        5509   \n3      Санкт-Петербург         172         168         165         162   \n4     Саратовская обл.          95          96          98          99   \n\nDate  2020-07-31  2020-08-01  2020-08-02  2020-08-03  2020-08-04  2020-08-05  \\\n0            695         690         664         693         691         687   \n1            150         149         157         160         161         162   \n2           5482        5462        5427        5394        5159        5204   \n3            159         161         163         160         158         156   \n4             98          96          95          94          93          94   \n\nDate  2020-08-06  2020-08-07  2020-08-08  2020-08-09  2020-08-10  2020-08-11  \\\n0            684         686         691         689         694         694   \n1            159         158         161         149         153         154   \n2           5267        5241        5212        5189        5118        4945   \n3            159         157         155         160         157         157   \n4             90          94          95          96          95          94   \n\nDate  2020-08-12  2020-08-13  \n0            689         692  \n1            152         148  \n2           5102        5057  \n3            161         160  \n4             96          95  ",
      "text/html": "<div>\n<style scoped>\n    .dataframe tbody tr th:only-of-type {\n        vertical-align: middle;\n    }\n\n    .dataframe tbody tr th {\n        vertical-align: top;\n    }\n\n    .dataframe thead th {\n        text-align: right;\n    }\n</style>\n<table border=\"1\" class=\"dataframe\">\n  <thead>\n    <tr style=\"text-align: right;\">\n      <th>Date</th>\n      <th>Region</th>\n      <th>2020-07-27</th>\n      <th>2020-07-28</th>\n      <th>2020-07-29</th>\n      <th>2020-07-30</th>\n      <th>2020-07-31</th>\n      <th>2020-08-01</th>\n      <th>2020-08-02</th>\n      <th>2020-08-03</th>\n      <th>2020-08-04</th>\n      <th>2020-08-05</th>\n      <th>2020-08-06</th>\n      <th>2020-08-07</th>\n      <th>2020-08-08</th>\n      <th>2020-08-09</th>\n      <th>2020-08-10</th>\n      <th>2020-08-11</th>\n      <th>2020-08-12</th>\n      <th>2020-08-13</th>\n    </tr>\n  </thead>\n  <tbody>\n    <tr>\n      <th>0</th>\n      <td>Москва</td>\n      <td>694</td>\n      <td>674</td>\n      <td>671</td>\n      <td>678</td>\n      <td>695</td>\n      <td>690</td>\n      <td>664</td>\n      <td>693</td>\n      <td>691</td>\n      <td>687</td>\n      <td>684</td>\n      <td>686</td>\n      <td>691</td>\n      <td>689</td>\n      <td>694</td>\n      <td>694</td>\n      <td>689</td>\n      <td>692</td>\n    </tr>\n    <tr>\n      <th>1</th>\n      <td>Московская обл.</td>\n      <td>139</td>\n      <td>126</td>\n      <td>137</td>\n      <td>144</td>\n      <td>150</td>\n      <td>149</td>\n      <td>157</td>\n      <td>160</td>\n      <td>161</td>\n      <td>162</td>\n      <td>159</td>\n      <td>158</td>\n      <td>161</td>\n      <td>149</td>\n      <td>153</td>\n      <td>154</td>\n      <td>152</td>\n      <td>148</td>\n    </tr>\n    <tr>\n      <th>2</th>\n      <td>Россия</td>\n      <td>5635</td>\n      <td>5395</td>\n      <td>5475</td>\n      <td>5509</td>\n      <td>5482</td>\n      <td>5462</td>\n      <td>5427</td>\n      <td>5394</td>\n      <td>5159</td>\n      <td>5204</td>\n      <td>5267</td>\n      <td>5241</td>\n      <td>5212</td>\n      <td>5189</td>\n      <td>5118</td>\n      <td>4945</td>\n      <td>5102</td>\n      <td>5057</td>\n    </tr>\n    <tr>\n      <th>3</th>\n      <td>Санкт-Петербург</td>\n      <td>172</td>\n      <td>168</td>\n      <td>165</td>\n      <td>162</td>\n      <td>159</td>\n      <td>161</td>\n      <td>163</td>\n      <td>160</td>\n      <td>158</td>\n      <td>156</td>\n      <td>159</td>\n      <td>157</td>\n      <td>155</td>\n      <td>160</td>\n      <td>157</td>\n      <td>157</td>\n      <td>161</td>\n      <td>160</td>\n    </tr>\n    <tr>\n      <th>4</th>\n      <td>Саратовская обл.</td>\n      <td>95</td>\n      <td>96</td>\n      <td>98</td>\n      <td>99</td>\n      <td>98</td>\n      <td>96</td>\n      <td>95</td>\n      <td>94</td>\n      <td>93</td>\n      <td>94</td>\n      <td>90</td>\n      <td>94</td>\n      <td>95</td>\n      <td>96</td>\n      <td>95</td>\n      <td>94</td>\n      <td>96</td>\n      <td>95</td>\n    </tr>\n  </tbody>\n</table>\n</div>"
     },
     "metadata": {},
     "execution_count": 21
    }
   ],
   "source": [
    "mask = (X.Date>=datetime.date(2020,7,27))&(X.Region.isin(regions_towatch))\n",
    "\n",
    "Z = X[mask].groupby(['Region','Date'])['Day_confirmed'].sum().unstack().reset_index()\n",
    "Z.dropna(inplace=True)\n",
    "d = Z.drop('Region',axis = 1).values\n",
    "Z.head()"
   ]
  },
  {
   "cell_type": "code",
   "execution_count": 22,
   "metadata": {
    "tags": []
   },
   "outputs": [
    {
     "output_type": "stream",
     "name": "stdout",
     "text": "['27.7.2020', '28.7.2020', '29.7.2020', '30.7.2020', '31.7.2020', '1.8.2020', '2.8.2020', '3.8.2020', '4.8.2020', '5.8.2020', '6.8.2020', '7.8.2020', '8.8.2020', '9.8.2020', '10.8.2020', '11.8.2020', '12.8.2020', '13.8.2020']\n"
    }
   ],
   "source": [
    "\n",
    "\n",
    "\n",
    "x1=list(Z.columns[1:])\n",
    "y=list(Z.Region)\n",
    "x2=[]\n",
    "for i in x1:\n",
    "    x2.append(str(i.day)+'.'+str(i.month)+\".\"+str(i.year))\n",
    "    \n",
    "print(x2)\n"
   ]
  },
  {
   "cell_type": "code",
   "execution_count": 23,
   "metadata": {},
   "outputs": [
    {
     "output_type": "display_data",
     "data": {
      "application/vnd.plotly.v1+json": {
       "config": {
        "plotlyServerURL": "https://plot.ly"
       },
       "data": [
        {
         "colorscale": [
          [
           0,
           "rgb(0, 147, 146)"
          ],
          [
           0.16666666666666666,
           "rgb(57, 177, 133)"
          ],
          [
           0.3333333333333333,
           "rgb(156, 203, 134)"
          ],
          [
           0.5,
           "rgb(233, 226, 156)"
          ],
          [
           0.6666666666666666,
           "rgb(238, 180, 121)"
          ],
          [
           0.8333333333333334,
           "rgb(232, 132, 113)"
          ],
          [
           1,
           "rgb(207, 89, 126)"
          ]
         ],
         "reversescale": false,
         "showscale": false,
         "type": "heatmap",
         "x": [
          "27.7.2020",
          "28.7.2020",
          "29.7.2020",
          "30.7.2020",
          "31.7.2020",
          "1.8.2020",
          "2.8.2020",
          "3.8.2020",
          "4.8.2020",
          "5.8.2020",
          "6.8.2020",
          "7.8.2020",
          "8.8.2020",
          "9.8.2020",
          "10.8.2020",
          "11.8.2020",
          "12.8.2020",
          "13.8.2020"
         ],
         "y": [
          "Москва",
          "Московская обл.",
          "Россия",
          "Санкт-Петербург",
          "Саратовская обл.",
          "Челябинская обл."
         ],
         "z": [
          [
           694,
           674,
           671,
           678,
           695,
           690,
           664,
           693,
           691,
           687,
           684,
           686,
           691,
           689,
           694,
           694,
           689,
           692
          ],
          [
           139,
           126,
           137,
           144,
           150,
           149,
           157,
           160,
           161,
           162,
           159,
           158,
           161,
           149,
           153,
           154,
           152,
           148
          ],
          [
           5635,
           5395,
           5475,
           5509,
           5482,
           5462,
           5427,
           5394,
           5159,
           5204,
           5267,
           5241,
           5212,
           5189,
           5118,
           4945,
           5102,
           5057
          ],
          [
           172,
           168,
           165,
           162,
           159,
           161,
           163,
           160,
           158,
           156,
           159,
           157,
           155,
           160,
           157,
           157,
           161,
           160
          ],
          [
           95,
           96,
           98,
           99,
           98,
           96,
           95,
           94,
           93,
           94,
           90,
           94,
           95,
           96,
           95,
           94,
           96,
           95
          ],
          [
           128,
           124,
           125,
           119,
           117,
           110,
           109,
           107,
           105,
           103,
           92,
           89,
           87,
           94,
           83,
           85,
           88,
           84
          ]
         ]
        }
       ],
       "layout": {
        "annotations": [
         {
          "font": {
           "color": "#FFFFFF"
          },
          "showarrow": false,
          "text": "694",
          "x": "27.7.2020",
          "xref": "x",
          "y": "Москва",
          "yref": "y"
         },
         {
          "font": {
           "color": "#FFFFFF"
          },
          "showarrow": false,
          "text": "674",
          "x": "28.7.2020",
          "xref": "x",
          "y": "Москва",
          "yref": "y"
         },
         {
          "font": {
           "color": "#FFFFFF"
          },
          "showarrow": false,
          "text": "671",
          "x": "29.7.2020",
          "xref": "x",
          "y": "Москва",
          "yref": "y"
         },
         {
          "font": {
           "color": "#FFFFFF"
          },
          "showarrow": false,
          "text": "678",
          "x": "30.7.2020",
          "xref": "x",
          "y": "Москва",
          "yref": "y"
         },
         {
          "font": {
           "color": "#FFFFFF"
          },
          "showarrow": false,
          "text": "695",
          "x": "31.7.2020",
          "xref": "x",
          "y": "Москва",
          "yref": "y"
         },
         {
          "font": {
           "color": "#FFFFFF"
          },
          "showarrow": false,
          "text": "690",
          "x": "1.8.2020",
          "xref": "x",
          "y": "Москва",
          "yref": "y"
         },
         {
          "font": {
           "color": "#FFFFFF"
          },
          "showarrow": false,
          "text": "664",
          "x": "2.8.2020",
          "xref": "x",
          "y": "Москва",
          "yref": "y"
         },
         {
          "font": {
           "color": "#FFFFFF"
          },
          "showarrow": false,
          "text": "693",
          "x": "3.8.2020",
          "xref": "x",
          "y": "Москва",
          "yref": "y"
         },
         {
          "font": {
           "color": "#FFFFFF"
          },
          "showarrow": false,
          "text": "691",
          "x": "4.8.2020",
          "xref": "x",
          "y": "Москва",
          "yref": "y"
         },
         {
          "font": {
           "color": "#FFFFFF"
          },
          "showarrow": false,
          "text": "687",
          "x": "5.8.2020",
          "xref": "x",
          "y": "Москва",
          "yref": "y"
         },
         {
          "font": {
           "color": "#FFFFFF"
          },
          "showarrow": false,
          "text": "684",
          "x": "6.8.2020",
          "xref": "x",
          "y": "Москва",
          "yref": "y"
         },
         {
          "font": {
           "color": "#FFFFFF"
          },
          "showarrow": false,
          "text": "686",
          "x": "7.8.2020",
          "xref": "x",
          "y": "Москва",
          "yref": "y"
         },
         {
          "font": {
           "color": "#FFFFFF"
          },
          "showarrow": false,
          "text": "691",
          "x": "8.8.2020",
          "xref": "x",
          "y": "Москва",
          "yref": "y"
         },
         {
          "font": {
           "color": "#FFFFFF"
          },
          "showarrow": false,
          "text": "689",
          "x": "9.8.2020",
          "xref": "x",
          "y": "Москва",
          "yref": "y"
         },
         {
          "font": {
           "color": "#FFFFFF"
          },
          "showarrow": false,
          "text": "694",
          "x": "10.8.2020",
          "xref": "x",
          "y": "Москва",
          "yref": "y"
         },
         {
          "font": {
           "color": "#FFFFFF"
          },
          "showarrow": false,
          "text": "694",
          "x": "11.8.2020",
          "xref": "x",
          "y": "Москва",
          "yref": "y"
         },
         {
          "font": {
           "color": "#FFFFFF"
          },
          "showarrow": false,
          "text": "689",
          "x": "12.8.2020",
          "xref": "x",
          "y": "Москва",
          "yref": "y"
         },
         {
          "font": {
           "color": "#FFFFFF"
          },
          "showarrow": false,
          "text": "692",
          "x": "13.8.2020",
          "xref": "x",
          "y": "Москва",
          "yref": "y"
         },
         {
          "font": {
           "color": "#FFFFFF"
          },
          "showarrow": false,
          "text": "139",
          "x": "27.7.2020",
          "xref": "x",
          "y": "Московская обл.",
          "yref": "y"
         },
         {
          "font": {
           "color": "#FFFFFF"
          },
          "showarrow": false,
          "text": "126",
          "x": "28.7.2020",
          "xref": "x",
          "y": "Московская обл.",
          "yref": "y"
         },
         {
          "font": {
           "color": "#FFFFFF"
          },
          "showarrow": false,
          "text": "137",
          "x": "29.7.2020",
          "xref": "x",
          "y": "Московская обл.",
          "yref": "y"
         },
         {
          "font": {
           "color": "#FFFFFF"
          },
          "showarrow": false,
          "text": "144",
          "x": "30.7.2020",
          "xref": "x",
          "y": "Московская обл.",
          "yref": "y"
         },
         {
          "font": {
           "color": "#FFFFFF"
          },
          "showarrow": false,
          "text": "150",
          "x": "31.7.2020",
          "xref": "x",
          "y": "Московская обл.",
          "yref": "y"
         },
         {
          "font": {
           "color": "#FFFFFF"
          },
          "showarrow": false,
          "text": "149",
          "x": "1.8.2020",
          "xref": "x",
          "y": "Московская обл.",
          "yref": "y"
         },
         {
          "font": {
           "color": "#FFFFFF"
          },
          "showarrow": false,
          "text": "157",
          "x": "2.8.2020",
          "xref": "x",
          "y": "Московская обл.",
          "yref": "y"
         },
         {
          "font": {
           "color": "#FFFFFF"
          },
          "showarrow": false,
          "text": "160",
          "x": "3.8.2020",
          "xref": "x",
          "y": "Московская обл.",
          "yref": "y"
         },
         {
          "font": {
           "color": "#FFFFFF"
          },
          "showarrow": false,
          "text": "161",
          "x": "4.8.2020",
          "xref": "x",
          "y": "Московская обл.",
          "yref": "y"
         },
         {
          "font": {
           "color": "#FFFFFF"
          },
          "showarrow": false,
          "text": "162",
          "x": "5.8.2020",
          "xref": "x",
          "y": "Московская обл.",
          "yref": "y"
         },
         {
          "font": {
           "color": "#FFFFFF"
          },
          "showarrow": false,
          "text": "159",
          "x": "6.8.2020",
          "xref": "x",
          "y": "Московская обл.",
          "yref": "y"
         },
         {
          "font": {
           "color": "#FFFFFF"
          },
          "showarrow": false,
          "text": "158",
          "x": "7.8.2020",
          "xref": "x",
          "y": "Московская обл.",
          "yref": "y"
         },
         {
          "font": {
           "color": "#FFFFFF"
          },
          "showarrow": false,
          "text": "161",
          "x": "8.8.2020",
          "xref": "x",
          "y": "Московская обл.",
          "yref": "y"
         },
         {
          "font": {
           "color": "#FFFFFF"
          },
          "showarrow": false,
          "text": "149",
          "x": "9.8.2020",
          "xref": "x",
          "y": "Московская обл.",
          "yref": "y"
         },
         {
          "font": {
           "color": "#FFFFFF"
          },
          "showarrow": false,
          "text": "153",
          "x": "10.8.2020",
          "xref": "x",
          "y": "Московская обл.",
          "yref": "y"
         },
         {
          "font": {
           "color": "#FFFFFF"
          },
          "showarrow": false,
          "text": "154",
          "x": "11.8.2020",
          "xref": "x",
          "y": "Московская обл.",
          "yref": "y"
         },
         {
          "font": {
           "color": "#FFFFFF"
          },
          "showarrow": false,
          "text": "152",
          "x": "12.8.2020",
          "xref": "x",
          "y": "Московская обл.",
          "yref": "y"
         },
         {
          "font": {
           "color": "#FFFFFF"
          },
          "showarrow": false,
          "text": "148",
          "x": "13.8.2020",
          "xref": "x",
          "y": "Московская обл.",
          "yref": "y"
         },
         {
          "font": {
           "color": "#FFFFFF"
          },
          "showarrow": false,
          "text": "5635",
          "x": "27.7.2020",
          "xref": "x",
          "y": "Россия",
          "yref": "y"
         },
         {
          "font": {
           "color": "#FFFFFF"
          },
          "showarrow": false,
          "text": "5395",
          "x": "28.7.2020",
          "xref": "x",
          "y": "Россия",
          "yref": "y"
         },
         {
          "font": {
           "color": "#FFFFFF"
          },
          "showarrow": false,
          "text": "5475",
          "x": "29.7.2020",
          "xref": "x",
          "y": "Россия",
          "yref": "y"
         },
         {
          "font": {
           "color": "#FFFFFF"
          },
          "showarrow": false,
          "text": "5509",
          "x": "30.7.2020",
          "xref": "x",
          "y": "Россия",
          "yref": "y"
         },
         {
          "font": {
           "color": "#FFFFFF"
          },
          "showarrow": false,
          "text": "5482",
          "x": "31.7.2020",
          "xref": "x",
          "y": "Россия",
          "yref": "y"
         },
         {
          "font": {
           "color": "#FFFFFF"
          },
          "showarrow": false,
          "text": "5462",
          "x": "1.8.2020",
          "xref": "x",
          "y": "Россия",
          "yref": "y"
         },
         {
          "font": {
           "color": "#FFFFFF"
          },
          "showarrow": false,
          "text": "5427",
          "x": "2.8.2020",
          "xref": "x",
          "y": "Россия",
          "yref": "y"
         },
         {
          "font": {
           "color": "#FFFFFF"
          },
          "showarrow": false,
          "text": "5394",
          "x": "3.8.2020",
          "xref": "x",
          "y": "Россия",
          "yref": "y"
         },
         {
          "font": {
           "color": "#FFFFFF"
          },
          "showarrow": false,
          "text": "5159",
          "x": "4.8.2020",
          "xref": "x",
          "y": "Россия",
          "yref": "y"
         },
         {
          "font": {
           "color": "#FFFFFF"
          },
          "showarrow": false,
          "text": "5204",
          "x": "5.8.2020",
          "xref": "x",
          "y": "Россия",
          "yref": "y"
         },
         {
          "font": {
           "color": "#FFFFFF"
          },
          "showarrow": false,
          "text": "5267",
          "x": "6.8.2020",
          "xref": "x",
          "y": "Россия",
          "yref": "y"
         },
         {
          "font": {
           "color": "#FFFFFF"
          },
          "showarrow": false,
          "text": "5241",
          "x": "7.8.2020",
          "xref": "x",
          "y": "Россия",
          "yref": "y"
         },
         {
          "font": {
           "color": "#FFFFFF"
          },
          "showarrow": false,
          "text": "5212",
          "x": "8.8.2020",
          "xref": "x",
          "y": "Россия",
          "yref": "y"
         },
         {
          "font": {
           "color": "#FFFFFF"
          },
          "showarrow": false,
          "text": "5189",
          "x": "9.8.2020",
          "xref": "x",
          "y": "Россия",
          "yref": "y"
         },
         {
          "font": {
           "color": "#FFFFFF"
          },
          "showarrow": false,
          "text": "5118",
          "x": "10.8.2020",
          "xref": "x",
          "y": "Россия",
          "yref": "y"
         },
         {
          "font": {
           "color": "#FFFFFF"
          },
          "showarrow": false,
          "text": "4945",
          "x": "11.8.2020",
          "xref": "x",
          "y": "Россия",
          "yref": "y"
         },
         {
          "font": {
           "color": "#FFFFFF"
          },
          "showarrow": false,
          "text": "5102",
          "x": "12.8.2020",
          "xref": "x",
          "y": "Россия",
          "yref": "y"
         },
         {
          "font": {
           "color": "#FFFFFF"
          },
          "showarrow": false,
          "text": "5057",
          "x": "13.8.2020",
          "xref": "x",
          "y": "Россия",
          "yref": "y"
         },
         {
          "font": {
           "color": "#FFFFFF"
          },
          "showarrow": false,
          "text": "172",
          "x": "27.7.2020",
          "xref": "x",
          "y": "Санкт-Петербург",
          "yref": "y"
         },
         {
          "font": {
           "color": "#FFFFFF"
          },
          "showarrow": false,
          "text": "168",
          "x": "28.7.2020",
          "xref": "x",
          "y": "Санкт-Петербург",
          "yref": "y"
         },
         {
          "font": {
           "color": "#FFFFFF"
          },
          "showarrow": false,
          "text": "165",
          "x": "29.7.2020",
          "xref": "x",
          "y": "Санкт-Петербург",
          "yref": "y"
         },
         {
          "font": {
           "color": "#FFFFFF"
          },
          "showarrow": false,
          "text": "162",
          "x": "30.7.2020",
          "xref": "x",
          "y": "Санкт-Петербург",
          "yref": "y"
         },
         {
          "font": {
           "color": "#FFFFFF"
          },
          "showarrow": false,
          "text": "159",
          "x": "31.7.2020",
          "xref": "x",
          "y": "Санкт-Петербург",
          "yref": "y"
         },
         {
          "font": {
           "color": "#FFFFFF"
          },
          "showarrow": false,
          "text": "161",
          "x": "1.8.2020",
          "xref": "x",
          "y": "Санкт-Петербург",
          "yref": "y"
         },
         {
          "font": {
           "color": "#FFFFFF"
          },
          "showarrow": false,
          "text": "163",
          "x": "2.8.2020",
          "xref": "x",
          "y": "Санкт-Петербург",
          "yref": "y"
         },
         {
          "font": {
           "color": "#FFFFFF"
          },
          "showarrow": false,
          "text": "160",
          "x": "3.8.2020",
          "xref": "x",
          "y": "Санкт-Петербург",
          "yref": "y"
         },
         {
          "font": {
           "color": "#FFFFFF"
          },
          "showarrow": false,
          "text": "158",
          "x": "4.8.2020",
          "xref": "x",
          "y": "Санкт-Петербург",
          "yref": "y"
         },
         {
          "font": {
           "color": "#FFFFFF"
          },
          "showarrow": false,
          "text": "156",
          "x": "5.8.2020",
          "xref": "x",
          "y": "Санкт-Петербург",
          "yref": "y"
         },
         {
          "font": {
           "color": "#FFFFFF"
          },
          "showarrow": false,
          "text": "159",
          "x": "6.8.2020",
          "xref": "x",
          "y": "Санкт-Петербург",
          "yref": "y"
         },
         {
          "font": {
           "color": "#FFFFFF"
          },
          "showarrow": false,
          "text": "157",
          "x": "7.8.2020",
          "xref": "x",
          "y": "Санкт-Петербург",
          "yref": "y"
         },
         {
          "font": {
           "color": "#FFFFFF"
          },
          "showarrow": false,
          "text": "155",
          "x": "8.8.2020",
          "xref": "x",
          "y": "Санкт-Петербург",
          "yref": "y"
         },
         {
          "font": {
           "color": "#FFFFFF"
          },
          "showarrow": false,
          "text": "160",
          "x": "9.8.2020",
          "xref": "x",
          "y": "Санкт-Петербург",
          "yref": "y"
         },
         {
          "font": {
           "color": "#FFFFFF"
          },
          "showarrow": false,
          "text": "157",
          "x": "10.8.2020",
          "xref": "x",
          "y": "Санкт-Петербург",
          "yref": "y"
         },
         {
          "font": {
           "color": "#FFFFFF"
          },
          "showarrow": false,
          "text": "157",
          "x": "11.8.2020",
          "xref": "x",
          "y": "Санкт-Петербург",
          "yref": "y"
         },
         {
          "font": {
           "color": "#FFFFFF"
          },
          "showarrow": false,
          "text": "161",
          "x": "12.8.2020",
          "xref": "x",
          "y": "Санкт-Петербург",
          "yref": "y"
         },
         {
          "font": {
           "color": "#FFFFFF"
          },
          "showarrow": false,
          "text": "160",
          "x": "13.8.2020",
          "xref": "x",
          "y": "Санкт-Петербург",
          "yref": "y"
         },
         {
          "font": {
           "color": "#FFFFFF"
          },
          "showarrow": false,
          "text": "95",
          "x": "27.7.2020",
          "xref": "x",
          "y": "Саратовская обл.",
          "yref": "y"
         },
         {
          "font": {
           "color": "#FFFFFF"
          },
          "showarrow": false,
          "text": "96",
          "x": "28.7.2020",
          "xref": "x",
          "y": "Саратовская обл.",
          "yref": "y"
         },
         {
          "font": {
           "color": "#FFFFFF"
          },
          "showarrow": false,
          "text": "98",
          "x": "29.7.2020",
          "xref": "x",
          "y": "Саратовская обл.",
          "yref": "y"
         },
         {
          "font": {
           "color": "#FFFFFF"
          },
          "showarrow": false,
          "text": "99",
          "x": "30.7.2020",
          "xref": "x",
          "y": "Саратовская обл.",
          "yref": "y"
         },
         {
          "font": {
           "color": "#FFFFFF"
          },
          "showarrow": false,
          "text": "98",
          "x": "31.7.2020",
          "xref": "x",
          "y": "Саратовская обл.",
          "yref": "y"
         },
         {
          "font": {
           "color": "#FFFFFF"
          },
          "showarrow": false,
          "text": "96",
          "x": "1.8.2020",
          "xref": "x",
          "y": "Саратовская обл.",
          "yref": "y"
         },
         {
          "font": {
           "color": "#FFFFFF"
          },
          "showarrow": false,
          "text": "95",
          "x": "2.8.2020",
          "xref": "x",
          "y": "Саратовская обл.",
          "yref": "y"
         },
         {
          "font": {
           "color": "#FFFFFF"
          },
          "showarrow": false,
          "text": "94",
          "x": "3.8.2020",
          "xref": "x",
          "y": "Саратовская обл.",
          "yref": "y"
         },
         {
          "font": {
           "color": "#FFFFFF"
          },
          "showarrow": false,
          "text": "93",
          "x": "4.8.2020",
          "xref": "x",
          "y": "Саратовская обл.",
          "yref": "y"
         },
         {
          "font": {
           "color": "#FFFFFF"
          },
          "showarrow": false,
          "text": "94",
          "x": "5.8.2020",
          "xref": "x",
          "y": "Саратовская обл.",
          "yref": "y"
         },
         {
          "font": {
           "color": "#FFFFFF"
          },
          "showarrow": false,
          "text": "90",
          "x": "6.8.2020",
          "xref": "x",
          "y": "Саратовская обл.",
          "yref": "y"
         },
         {
          "font": {
           "color": "#FFFFFF"
          },
          "showarrow": false,
          "text": "94",
          "x": "7.8.2020",
          "xref": "x",
          "y": "Саратовская обл.",
          "yref": "y"
         },
         {
          "font": {
           "color": "#FFFFFF"
          },
          "showarrow": false,
          "text": "95",
          "x": "8.8.2020",
          "xref": "x",
          "y": "Саратовская обл.",
          "yref": "y"
         },
         {
          "font": {
           "color": "#FFFFFF"
          },
          "showarrow": false,
          "text": "96",
          "x": "9.8.2020",
          "xref": "x",
          "y": "Саратовская обл.",
          "yref": "y"
         },
         {
          "font": {
           "color": "#FFFFFF"
          },
          "showarrow": false,
          "text": "95",
          "x": "10.8.2020",
          "xref": "x",
          "y": "Саратовская обл.",
          "yref": "y"
         },
         {
          "font": {
           "color": "#FFFFFF"
          },
          "showarrow": false,
          "text": "94",
          "x": "11.8.2020",
          "xref": "x",
          "y": "Саратовская обл.",
          "yref": "y"
         },
         {
          "font": {
           "color": "#FFFFFF"
          },
          "showarrow": false,
          "text": "96",
          "x": "12.8.2020",
          "xref": "x",
          "y": "Саратовская обл.",
          "yref": "y"
         },
         {
          "font": {
           "color": "#FFFFFF"
          },
          "showarrow": false,
          "text": "95",
          "x": "13.8.2020",
          "xref": "x",
          "y": "Саратовская обл.",
          "yref": "y"
         },
         {
          "font": {
           "color": "#FFFFFF"
          },
          "showarrow": false,
          "text": "128",
          "x": "27.7.2020",
          "xref": "x",
          "y": "Челябинская обл.",
          "yref": "y"
         },
         {
          "font": {
           "color": "#FFFFFF"
          },
          "showarrow": false,
          "text": "124",
          "x": "28.7.2020",
          "xref": "x",
          "y": "Челябинская обл.",
          "yref": "y"
         },
         {
          "font": {
           "color": "#FFFFFF"
          },
          "showarrow": false,
          "text": "125",
          "x": "29.7.2020",
          "xref": "x",
          "y": "Челябинская обл.",
          "yref": "y"
         },
         {
          "font": {
           "color": "#FFFFFF"
          },
          "showarrow": false,
          "text": "119",
          "x": "30.7.2020",
          "xref": "x",
          "y": "Челябинская обл.",
          "yref": "y"
         },
         {
          "font": {
           "color": "#FFFFFF"
          },
          "showarrow": false,
          "text": "117",
          "x": "31.7.2020",
          "xref": "x",
          "y": "Челябинская обл.",
          "yref": "y"
         },
         {
          "font": {
           "color": "#FFFFFF"
          },
          "showarrow": false,
          "text": "110",
          "x": "1.8.2020",
          "xref": "x",
          "y": "Челябинская обл.",
          "yref": "y"
         },
         {
          "font": {
           "color": "#FFFFFF"
          },
          "showarrow": false,
          "text": "109",
          "x": "2.8.2020",
          "xref": "x",
          "y": "Челябинская обл.",
          "yref": "y"
         },
         {
          "font": {
           "color": "#FFFFFF"
          },
          "showarrow": false,
          "text": "107",
          "x": "3.8.2020",
          "xref": "x",
          "y": "Челябинская обл.",
          "yref": "y"
         },
         {
          "font": {
           "color": "#FFFFFF"
          },
          "showarrow": false,
          "text": "105",
          "x": "4.8.2020",
          "xref": "x",
          "y": "Челябинская обл.",
          "yref": "y"
         },
         {
          "font": {
           "color": "#FFFFFF"
          },
          "showarrow": false,
          "text": "103",
          "x": "5.8.2020",
          "xref": "x",
          "y": "Челябинская обл.",
          "yref": "y"
         },
         {
          "font": {
           "color": "#FFFFFF"
          },
          "showarrow": false,
          "text": "92",
          "x": "6.8.2020",
          "xref": "x",
          "y": "Челябинская обл.",
          "yref": "y"
         },
         {
          "font": {
           "color": "#FFFFFF"
          },
          "showarrow": false,
          "text": "89",
          "x": "7.8.2020",
          "xref": "x",
          "y": "Челябинская обл.",
          "yref": "y"
         },
         {
          "font": {
           "color": "#FFFFFF"
          },
          "showarrow": false,
          "text": "87",
          "x": "8.8.2020",
          "xref": "x",
          "y": "Челябинская обл.",
          "yref": "y"
         },
         {
          "font": {
           "color": "#FFFFFF"
          },
          "showarrow": false,
          "text": "94",
          "x": "9.8.2020",
          "xref": "x",
          "y": "Челябинская обл.",
          "yref": "y"
         },
         {
          "font": {
           "color": "#FFFFFF"
          },
          "showarrow": false,
          "text": "83",
          "x": "10.8.2020",
          "xref": "x",
          "y": "Челябинская обл.",
          "yref": "y"
         },
         {
          "font": {
           "color": "#FFFFFF"
          },
          "showarrow": false,
          "text": "85",
          "x": "11.8.2020",
          "xref": "x",
          "y": "Челябинская обл.",
          "yref": "y"
         },
         {
          "font": {
           "color": "#FFFFFF"
          },
          "showarrow": false,
          "text": "88",
          "x": "12.8.2020",
          "xref": "x",
          "y": "Челябинская обл.",
          "yref": "y"
         },
         {
          "font": {
           "color": "#FFFFFF"
          },
          "showarrow": false,
          "text": "84",
          "x": "13.8.2020",
          "xref": "x",
          "y": "Челябинская обл.",
          "yref": "y"
         }
        ],
        "height": 600,
        "template": {
         "data": {
          "bar": [
           {
            "error_x": {
             "color": "#2a3f5f"
            },
            "error_y": {
             "color": "#2a3f5f"
            },
            "marker": {
             "line": {
              "color": "#E5ECF6",
              "width": 0.5
             }
            },
            "type": "bar"
           }
          ],
          "barpolar": [
           {
            "marker": {
             "line": {
              "color": "#E5ECF6",
              "width": 0.5
             }
            },
            "type": "barpolar"
           }
          ],
          "carpet": [
           {
            "aaxis": {
             "endlinecolor": "#2a3f5f",
             "gridcolor": "white",
             "linecolor": "white",
             "minorgridcolor": "white",
             "startlinecolor": "#2a3f5f"
            },
            "baxis": {
             "endlinecolor": "#2a3f5f",
             "gridcolor": "white",
             "linecolor": "white",
             "minorgridcolor": "white",
             "startlinecolor": "#2a3f5f"
            },
            "type": "carpet"
           }
          ],
          "choropleth": [
           {
            "colorbar": {
             "outlinewidth": 0,
             "ticks": ""
            },
            "type": "choropleth"
           }
          ],
          "contour": [
           {
            "colorbar": {
             "outlinewidth": 0,
             "ticks": ""
            },
            "colorscale": [
             [
              0,
              "#0d0887"
             ],
             [
              0.1111111111111111,
              "#46039f"
             ],
             [
              0.2222222222222222,
              "#7201a8"
             ],
             [
              0.3333333333333333,
              "#9c179e"
             ],
             [
              0.4444444444444444,
              "#bd3786"
             ],
             [
              0.5555555555555556,
              "#d8576b"
             ],
             [
              0.6666666666666666,
              "#ed7953"
             ],
             [
              0.7777777777777778,
              "#fb9f3a"
             ],
             [
              0.8888888888888888,
              "#fdca26"
             ],
             [
              1,
              "#f0f921"
             ]
            ],
            "type": "contour"
           }
          ],
          "contourcarpet": [
           {
            "colorbar": {
             "outlinewidth": 0,
             "ticks": ""
            },
            "type": "contourcarpet"
           }
          ],
          "heatmap": [
           {
            "colorbar": {
             "outlinewidth": 0,
             "ticks": ""
            },
            "colorscale": [
             [
              0,
              "#0d0887"
             ],
             [
              0.1111111111111111,
              "#46039f"
             ],
             [
              0.2222222222222222,
              "#7201a8"
             ],
             [
              0.3333333333333333,
              "#9c179e"
             ],
             [
              0.4444444444444444,
              "#bd3786"
             ],
             [
              0.5555555555555556,
              "#d8576b"
             ],
             [
              0.6666666666666666,
              "#ed7953"
             ],
             [
              0.7777777777777778,
              "#fb9f3a"
             ],
             [
              0.8888888888888888,
              "#fdca26"
             ],
             [
              1,
              "#f0f921"
             ]
            ],
            "type": "heatmap"
           }
          ],
          "heatmapgl": [
           {
            "colorbar": {
             "outlinewidth": 0,
             "ticks": ""
            },
            "colorscale": [
             [
              0,
              "#0d0887"
             ],
             [
              0.1111111111111111,
              "#46039f"
             ],
             [
              0.2222222222222222,
              "#7201a8"
             ],
             [
              0.3333333333333333,
              "#9c179e"
             ],
             [
              0.4444444444444444,
              "#bd3786"
             ],
             [
              0.5555555555555556,
              "#d8576b"
             ],
             [
              0.6666666666666666,
              "#ed7953"
             ],
             [
              0.7777777777777778,
              "#fb9f3a"
             ],
             [
              0.8888888888888888,
              "#fdca26"
             ],
             [
              1,
              "#f0f921"
             ]
            ],
            "type": "heatmapgl"
           }
          ],
          "histogram": [
           {
            "marker": {
             "colorbar": {
              "outlinewidth": 0,
              "ticks": ""
             }
            },
            "type": "histogram"
           }
          ],
          "histogram2d": [
           {
            "colorbar": {
             "outlinewidth": 0,
             "ticks": ""
            },
            "colorscale": [
             [
              0,
              "#0d0887"
             ],
             [
              0.1111111111111111,
              "#46039f"
             ],
             [
              0.2222222222222222,
              "#7201a8"
             ],
             [
              0.3333333333333333,
              "#9c179e"
             ],
             [
              0.4444444444444444,
              "#bd3786"
             ],
             [
              0.5555555555555556,
              "#d8576b"
             ],
             [
              0.6666666666666666,
              "#ed7953"
             ],
             [
              0.7777777777777778,
              "#fb9f3a"
             ],
             [
              0.8888888888888888,
              "#fdca26"
             ],
             [
              1,
              "#f0f921"
             ]
            ],
            "type": "histogram2d"
           }
          ],
          "histogram2dcontour": [
           {
            "colorbar": {
             "outlinewidth": 0,
             "ticks": ""
            },
            "colorscale": [
             [
              0,
              "#0d0887"
             ],
             [
              0.1111111111111111,
              "#46039f"
             ],
             [
              0.2222222222222222,
              "#7201a8"
             ],
             [
              0.3333333333333333,
              "#9c179e"
             ],
             [
              0.4444444444444444,
              "#bd3786"
             ],
             [
              0.5555555555555556,
              "#d8576b"
             ],
             [
              0.6666666666666666,
              "#ed7953"
             ],
             [
              0.7777777777777778,
              "#fb9f3a"
             ],
             [
              0.8888888888888888,
              "#fdca26"
             ],
             [
              1,
              "#f0f921"
             ]
            ],
            "type": "histogram2dcontour"
           }
          ],
          "mesh3d": [
           {
            "colorbar": {
             "outlinewidth": 0,
             "ticks": ""
            },
            "type": "mesh3d"
           }
          ],
          "parcoords": [
           {
            "line": {
             "colorbar": {
              "outlinewidth": 0,
              "ticks": ""
             }
            },
            "type": "parcoords"
           }
          ],
          "pie": [
           {
            "automargin": true,
            "type": "pie"
           }
          ],
          "scatter": [
           {
            "marker": {
             "colorbar": {
              "outlinewidth": 0,
              "ticks": ""
             }
            },
            "type": "scatter"
           }
          ],
          "scatter3d": [
           {
            "line": {
             "colorbar": {
              "outlinewidth": 0,
              "ticks": ""
             }
            },
            "marker": {
             "colorbar": {
              "outlinewidth": 0,
              "ticks": ""
             }
            },
            "type": "scatter3d"
           }
          ],
          "scattercarpet": [
           {
            "marker": {
             "colorbar": {
              "outlinewidth": 0,
              "ticks": ""
             }
            },
            "type": "scattercarpet"
           }
          ],
          "scattergeo": [
           {
            "marker": {
             "colorbar": {
              "outlinewidth": 0,
              "ticks": ""
             }
            },
            "type": "scattergeo"
           }
          ],
          "scattergl": [
           {
            "marker": {
             "colorbar": {
              "outlinewidth": 0,
              "ticks": ""
             }
            },
            "type": "scattergl"
           }
          ],
          "scattermapbox": [
           {
            "marker": {
             "colorbar": {
              "outlinewidth": 0,
              "ticks": ""
             }
            },
            "type": "scattermapbox"
           }
          ],
          "scatterpolar": [
           {
            "marker": {
             "colorbar": {
              "outlinewidth": 0,
              "ticks": ""
             }
            },
            "type": "scatterpolar"
           }
          ],
          "scatterpolargl": [
           {
            "marker": {
             "colorbar": {
              "outlinewidth": 0,
              "ticks": ""
             }
            },
            "type": "scatterpolargl"
           }
          ],
          "scatterternary": [
           {
            "marker": {
             "colorbar": {
              "outlinewidth": 0,
              "ticks": ""
             }
            },
            "type": "scatterternary"
           }
          ],
          "surface": [
           {
            "colorbar": {
             "outlinewidth": 0,
             "ticks": ""
            },
            "colorscale": [
             [
              0,
              "#0d0887"
             ],
             [
              0.1111111111111111,
              "#46039f"
             ],
             [
              0.2222222222222222,
              "#7201a8"
             ],
             [
              0.3333333333333333,
              "#9c179e"
             ],
             [
              0.4444444444444444,
              "#bd3786"
             ],
             [
              0.5555555555555556,
              "#d8576b"
             ],
             [
              0.6666666666666666,
              "#ed7953"
             ],
             [
              0.7777777777777778,
              "#fb9f3a"
             ],
             [
              0.8888888888888888,
              "#fdca26"
             ],
             [
              1,
              "#f0f921"
             ]
            ],
            "type": "surface"
           }
          ],
          "table": [
           {
            "cells": {
             "fill": {
              "color": "#EBF0F8"
             },
             "line": {
              "color": "white"
             }
            },
            "header": {
             "fill": {
              "color": "#C8D4E3"
             },
             "line": {
              "color": "white"
             }
            },
            "type": "table"
           }
          ]
         },
         "layout": {
          "annotationdefaults": {
           "arrowcolor": "#2a3f5f",
           "arrowhead": 0,
           "arrowwidth": 1
          },
          "coloraxis": {
           "colorbar": {
            "outlinewidth": 0,
            "ticks": ""
           }
          },
          "colorscale": {
           "diverging": [
            [
             0,
             "#8e0152"
            ],
            [
             0.1,
             "#c51b7d"
            ],
            [
             0.2,
             "#de77ae"
            ],
            [
             0.3,
             "#f1b6da"
            ],
            [
             0.4,
             "#fde0ef"
            ],
            [
             0.5,
             "#f7f7f7"
            ],
            [
             0.6,
             "#e6f5d0"
            ],
            [
             0.7,
             "#b8e186"
            ],
            [
             0.8,
             "#7fbc41"
            ],
            [
             0.9,
             "#4d9221"
            ],
            [
             1,
             "#276419"
            ]
           ],
           "sequential": [
            [
             0,
             "#0d0887"
            ],
            [
             0.1111111111111111,
             "#46039f"
            ],
            [
             0.2222222222222222,
             "#7201a8"
            ],
            [
             0.3333333333333333,
             "#9c179e"
            ],
            [
             0.4444444444444444,
             "#bd3786"
            ],
            [
             0.5555555555555556,
             "#d8576b"
            ],
            [
             0.6666666666666666,
             "#ed7953"
            ],
            [
             0.7777777777777778,
             "#fb9f3a"
            ],
            [
             0.8888888888888888,
             "#fdca26"
            ],
            [
             1,
             "#f0f921"
            ]
           ],
           "sequentialminus": [
            [
             0,
             "#0d0887"
            ],
            [
             0.1111111111111111,
             "#46039f"
            ],
            [
             0.2222222222222222,
             "#7201a8"
            ],
            [
             0.3333333333333333,
             "#9c179e"
            ],
            [
             0.4444444444444444,
             "#bd3786"
            ],
            [
             0.5555555555555556,
             "#d8576b"
            ],
            [
             0.6666666666666666,
             "#ed7953"
            ],
            [
             0.7777777777777778,
             "#fb9f3a"
            ],
            [
             0.8888888888888888,
             "#fdca26"
            ],
            [
             1,
             "#f0f921"
            ]
           ]
          },
          "colorway": [
           "#636efa",
           "#EF553B",
           "#00cc96",
           "#ab63fa",
           "#FFA15A",
           "#19d3f3",
           "#FF6692",
           "#B6E880",
           "#FF97FF",
           "#FECB52"
          ],
          "font": {
           "color": "#2a3f5f"
          },
          "geo": {
           "bgcolor": "white",
           "lakecolor": "white",
           "landcolor": "#E5ECF6",
           "showlakes": true,
           "showland": true,
           "subunitcolor": "white"
          },
          "hoverlabel": {
           "align": "left"
          },
          "hovermode": "closest",
          "mapbox": {
           "style": "light"
          },
          "paper_bgcolor": "white",
          "plot_bgcolor": "#E5ECF6",
          "polar": {
           "angularaxis": {
            "gridcolor": "white",
            "linecolor": "white",
            "ticks": ""
           },
           "bgcolor": "#E5ECF6",
           "radialaxis": {
            "gridcolor": "white",
            "linecolor": "white",
            "ticks": ""
           }
          },
          "scene": {
           "xaxis": {
            "backgroundcolor": "#E5ECF6",
            "gridcolor": "white",
            "gridwidth": 2,
            "linecolor": "white",
            "showbackground": true,
            "ticks": "",
            "zerolinecolor": "white"
           },
           "yaxis": {
            "backgroundcolor": "#E5ECF6",
            "gridcolor": "white",
            "gridwidth": 2,
            "linecolor": "white",
            "showbackground": true,
            "ticks": "",
            "zerolinecolor": "white"
           },
           "zaxis": {
            "backgroundcolor": "#E5ECF6",
            "gridcolor": "white",
            "gridwidth": 2,
            "linecolor": "white",
            "showbackground": true,
            "ticks": "",
            "zerolinecolor": "white"
           }
          },
          "shapedefaults": {
           "line": {
            "color": "#2a3f5f"
           }
          },
          "ternary": {
           "aaxis": {
            "gridcolor": "white",
            "linecolor": "white",
            "ticks": ""
           },
           "baxis": {
            "gridcolor": "white",
            "linecolor": "white",
            "ticks": ""
           },
           "bgcolor": "#E5ECF6",
           "caxis": {
            "gridcolor": "white",
            "linecolor": "white",
            "ticks": ""
           }
          },
          "title": {
           "x": 0.05
          },
          "xaxis": {
           "automargin": true,
           "gridcolor": "white",
           "linecolor": "white",
           "ticks": "",
           "title": {
            "standoff": 15
           },
           "zerolinecolor": "white",
           "zerolinewidth": 2
          },
          "yaxis": {
           "automargin": true,
           "gridcolor": "white",
           "linecolor": "white",
           "ticks": "",
           "title": {
            "standoff": 15
           },
           "zerolinecolor": "white",
           "zerolinewidth": 2
          }
         }
        },
        "width": 990,
        "xaxis": {
         "dtick": 1,
         "gridcolor": "rgb(0, 0, 0)",
         "side": "top",
         "ticks": "",
         "title": {
          "text": "Динамика новых заболевших по регионам"
         }
        },
        "yaxis": {
         "dtick": 1,
         "ticks": "",
         "ticksuffix": "  "
        }
       }
      }
     },
     "metadata": {}
    }
   ],
   "source": [
    "fig = ff.create_annotated_heatmap(d, x=x2, y=y, annotation_text=d,\n",
    "                                  colorscale='Temps')\n",
    "\n",
    "fig.update_layout(\n",
    "                  \n",
    "                  \n",
    "                  width = 990, height = 600,\n",
    "    \n",
    "    \n",
    "                  xaxis_title='Динамика новых заболевших по регионам',\n",
    "               #   yaxis_title = 'Регион '\n",
    ")\n",
    "\n",
    "fig.show()"
   ]
  },
  {
   "cell_type": "code",
   "execution_count": 24,
   "metadata": {
    "tags": []
   },
   "outputs": [
    {
     "output_type": "stream",
     "name": "stdout",
     "text": "85\n"
    },
    {
     "output_type": "execute_result",
     "data": {
      "text/plain": "             Date  Confirmed  Recovered  Deaths  Day_deaths  Day_confirmed  \\\n6521   2020-08-13     250303     193473    4622          11            692   \n6686   2020-08-13      65472      49066    1136           4            148   \n9337   2020-08-13      33525      24354    2203          15            160   \n7152   2020-08-13      25382      22197     421           3            130   \n9957   2020-08-13      22943      18803     358           7            162   \n12127  2020-08-13      18219      15649     145           2            108   \n3096   2020-08-13      15101      10943     221           7            115   \n5115   2020-08-13      14812      12344     380           4            121   \n8867   2020-08-13      14613      12002     274           3            125   \n12592  2020-08-13      12433       7931      98           0             84   \n2166   2020-08-13      12372      10558      96           0             94   \n13207  2020-08-13      12259      11280      82           0             91   \n6841   2020-08-13      11656       8469     107           3             67   \n9492   2020-08-13      10633       6614      64           0             95   \n7462   2020-08-13      10451       8922     303           6             53   \n\n       Day_recovered     Rt    Rt2  Rate_conf   Rate_ill              Region  \\\n6521             787  1.007  1.011  27.573759  29.667345              Москва   \n6686             150  0.968  1.009   7.212495   8.677221     Московская обл.   \n9337              96  1.006  1.019   3.693165   3.959586     Санкт-Петербург   \n7152             242  1.113  1.019   2.796120   1.570651  Нижегородская обл.   \n9957              78  0.932  1.032   2.527436   2.149132   Свердловская обл.   \n12127             65  0.776  1.028   2.007033   1.378013         ХМАО – Югра   \n3096             182  0.956  1.034   1.663549   2.237211      Иркутская обл.   \n5115              63  0.963  1.036   1.631712   1.186512   Красноярский край   \n8867             122  0.984  1.037   1.609790   1.328007     Ростовская обл.   \n12592            102  0.939  1.029   1.369638   2.502586    Челябинская обл.   \n2166             164  0.982  1.032   1.362918   0.976258    Воронежская обл.   \n13207             49  0.984  1.031   1.350470   0.509723   Ямало-Ненецкий АО   \n6841             149  0.673  1.032   1.284043   1.750219     Мурманская обл.   \n9492              93  1.013  1.038   1.171347   2.247440    Саратовская обл.   \n7462             152  0.801  1.029   1.151298   0.696678  Новосибирская обл.   \n\n       Remaining_ill  MA7_dayconfirmed  MA14_dayconfirmed  MA7_remaining_ill  \\\n6521           52208        690.714286         688.500000       53014.714286   \n6686           15270        153.571429         155.214286       15348.714286   \n9337            6968        158.142857         158.785714        6763.000000   \n7152            2764        118.714286         123.928571        2918.428571   \n9957            3782        174.000000         183.642857        3537.857143   \n12127           2425        124.285714         146.928571        2399.142857   \n3096            3937        121.428571         129.928571        4066.571429   \n5115            2088        125.142857         129.428571        1897.428571   \n8867            2337        127.142857         128.928571        2409.285714   \n12592           4404         87.142857          96.642857        4389.857143   \n2166            1718         95.285714          93.357143        1808.428571   \n13207            897         91.142857          96.785714        1139.857143   \n6841            3080         91.285714         111.642857        3280.000000   \n9492            3955         95.000000          94.642857        3906.857143   \n7462            1226         73.142857          86.428571        1395.142857   \n\n       MA14_remaining_ill  Change_dayconf  Change_remill  \n6521         54670.785714               3           -106  \n6686         15462.642857              -4             -6  \n9337          6507.714286              -1             49  \n7152          3258.642857               6           -115  \n9957          3291.714286              -5             77  \n12127         2789.357143              -9             41  \n3096          4320.142857              -4            -74  \n5115          1628.285714              -2             54  \n8867          2422.857143              -2              0  \n12592         4412.428571              -4            -18  \n2166          1873.571429               1            -70  \n13207         1790.857143               3             42  \n6841          3540.071429              -5            -85  \n9492          3828.000000              -1              2  \n7462          1400.428571             -11           -105  ",
      "text/html": "<div>\n<style scoped>\n    .dataframe tbody tr th:only-of-type {\n        vertical-align: middle;\n    }\n\n    .dataframe tbody tr th {\n        vertical-align: top;\n    }\n\n    .dataframe thead th {\n        text-align: right;\n    }\n</style>\n<table border=\"1\" class=\"dataframe\">\n  <thead>\n    <tr style=\"text-align: right;\">\n      <th></th>\n      <th>Date</th>\n      <th>Confirmed</th>\n      <th>Recovered</th>\n      <th>Deaths</th>\n      <th>Day_deaths</th>\n      <th>Day_confirmed</th>\n      <th>Day_recovered</th>\n      <th>Rt</th>\n      <th>Rt2</th>\n      <th>Rate_conf</th>\n      <th>Rate_ill</th>\n      <th>Region</th>\n      <th>Remaining_ill</th>\n      <th>MA7_dayconfirmed</th>\n      <th>MA14_dayconfirmed</th>\n      <th>MA7_remaining_ill</th>\n      <th>MA14_remaining_ill</th>\n      <th>Change_dayconf</th>\n      <th>Change_remill</th>\n    </tr>\n  </thead>\n  <tbody>\n    <tr>\n      <th>6521</th>\n      <td>2020-08-13</td>\n      <td>250303</td>\n      <td>193473</td>\n      <td>4622</td>\n      <td>11</td>\n      <td>692</td>\n      <td>787</td>\n      <td>1.007</td>\n      <td>1.011</td>\n      <td>27.573759</td>\n      <td>29.667345</td>\n      <td>Москва</td>\n      <td>52208</td>\n      <td>690.714286</td>\n      <td>688.500000</td>\n      <td>53014.714286</td>\n      <td>54670.785714</td>\n      <td>3</td>\n      <td>-106</td>\n    </tr>\n    <tr>\n      <th>6686</th>\n      <td>2020-08-13</td>\n      <td>65472</td>\n      <td>49066</td>\n      <td>1136</td>\n      <td>4</td>\n      <td>148</td>\n      <td>150</td>\n      <td>0.968</td>\n      <td>1.009</td>\n      <td>7.212495</td>\n      <td>8.677221</td>\n      <td>Московская обл.</td>\n      <td>15270</td>\n      <td>153.571429</td>\n      <td>155.214286</td>\n      <td>15348.714286</td>\n      <td>15462.642857</td>\n      <td>-4</td>\n      <td>-6</td>\n    </tr>\n    <tr>\n      <th>9337</th>\n      <td>2020-08-13</td>\n      <td>33525</td>\n      <td>24354</td>\n      <td>2203</td>\n      <td>15</td>\n      <td>160</td>\n      <td>96</td>\n      <td>1.006</td>\n      <td>1.019</td>\n      <td>3.693165</td>\n      <td>3.959586</td>\n      <td>Санкт-Петербург</td>\n      <td>6968</td>\n      <td>158.142857</td>\n      <td>158.785714</td>\n      <td>6763.000000</td>\n      <td>6507.714286</td>\n      <td>-1</td>\n      <td>49</td>\n    </tr>\n    <tr>\n      <th>7152</th>\n      <td>2020-08-13</td>\n      <td>25382</td>\n      <td>22197</td>\n      <td>421</td>\n      <td>3</td>\n      <td>130</td>\n      <td>242</td>\n      <td>1.113</td>\n      <td>1.019</td>\n      <td>2.796120</td>\n      <td>1.570651</td>\n      <td>Нижегородская обл.</td>\n      <td>2764</td>\n      <td>118.714286</td>\n      <td>123.928571</td>\n      <td>2918.428571</td>\n      <td>3258.642857</td>\n      <td>6</td>\n      <td>-115</td>\n    </tr>\n    <tr>\n      <th>9957</th>\n      <td>2020-08-13</td>\n      <td>22943</td>\n      <td>18803</td>\n      <td>358</td>\n      <td>7</td>\n      <td>162</td>\n      <td>78</td>\n      <td>0.932</td>\n      <td>1.032</td>\n      <td>2.527436</td>\n      <td>2.149132</td>\n      <td>Свердловская обл.</td>\n      <td>3782</td>\n      <td>174.000000</td>\n      <td>183.642857</td>\n      <td>3537.857143</td>\n      <td>3291.714286</td>\n      <td>-5</td>\n      <td>77</td>\n    </tr>\n    <tr>\n      <th>12127</th>\n      <td>2020-08-13</td>\n      <td>18219</td>\n      <td>15649</td>\n      <td>145</td>\n      <td>2</td>\n      <td>108</td>\n      <td>65</td>\n      <td>0.776</td>\n      <td>1.028</td>\n      <td>2.007033</td>\n      <td>1.378013</td>\n      <td>ХМАО – Югра</td>\n      <td>2425</td>\n      <td>124.285714</td>\n      <td>146.928571</td>\n      <td>2399.142857</td>\n      <td>2789.357143</td>\n      <td>-9</td>\n      <td>41</td>\n    </tr>\n    <tr>\n      <th>3096</th>\n      <td>2020-08-13</td>\n      <td>15101</td>\n      <td>10943</td>\n      <td>221</td>\n      <td>7</td>\n      <td>115</td>\n      <td>182</td>\n      <td>0.956</td>\n      <td>1.034</td>\n      <td>1.663549</td>\n      <td>2.237211</td>\n      <td>Иркутская обл.</td>\n      <td>3937</td>\n      <td>121.428571</td>\n      <td>129.928571</td>\n      <td>4066.571429</td>\n      <td>4320.142857</td>\n      <td>-4</td>\n      <td>-74</td>\n    </tr>\n    <tr>\n      <th>5115</th>\n      <td>2020-08-13</td>\n      <td>14812</td>\n      <td>12344</td>\n      <td>380</td>\n      <td>4</td>\n      <td>121</td>\n      <td>63</td>\n      <td>0.963</td>\n      <td>1.036</td>\n      <td>1.631712</td>\n      <td>1.186512</td>\n      <td>Красноярский край</td>\n      <td>2088</td>\n      <td>125.142857</td>\n      <td>129.428571</td>\n      <td>1897.428571</td>\n      <td>1628.285714</td>\n      <td>-2</td>\n      <td>54</td>\n    </tr>\n    <tr>\n      <th>8867</th>\n      <td>2020-08-13</td>\n      <td>14613</td>\n      <td>12002</td>\n      <td>274</td>\n      <td>3</td>\n      <td>125</td>\n      <td>122</td>\n      <td>0.984</td>\n      <td>1.037</td>\n      <td>1.609790</td>\n      <td>1.328007</td>\n      <td>Ростовская обл.</td>\n      <td>2337</td>\n      <td>127.142857</td>\n      <td>128.928571</td>\n      <td>2409.285714</td>\n      <td>2422.857143</td>\n      <td>-2</td>\n      <td>0</td>\n    </tr>\n    <tr>\n      <th>12592</th>\n      <td>2020-08-13</td>\n      <td>12433</td>\n      <td>7931</td>\n      <td>98</td>\n      <td>0</td>\n      <td>84</td>\n      <td>102</td>\n      <td>0.939</td>\n      <td>1.029</td>\n      <td>1.369638</td>\n      <td>2.502586</td>\n      <td>Челябинская обл.</td>\n      <td>4404</td>\n      <td>87.142857</td>\n      <td>96.642857</td>\n      <td>4389.857143</td>\n      <td>4412.428571</td>\n      <td>-4</td>\n      <td>-18</td>\n    </tr>\n    <tr>\n      <th>2166</th>\n      <td>2020-08-13</td>\n      <td>12372</td>\n      <td>10558</td>\n      <td>96</td>\n      <td>0</td>\n      <td>94</td>\n      <td>164</td>\n      <td>0.982</td>\n      <td>1.032</td>\n      <td>1.362918</td>\n      <td>0.976258</td>\n      <td>Воронежская обл.</td>\n      <td>1718</td>\n      <td>95.285714</td>\n      <td>93.357143</td>\n      <td>1808.428571</td>\n      <td>1873.571429</td>\n      <td>1</td>\n      <td>-70</td>\n    </tr>\n    <tr>\n      <th>13207</th>\n      <td>2020-08-13</td>\n      <td>12259</td>\n      <td>11280</td>\n      <td>82</td>\n      <td>0</td>\n      <td>91</td>\n      <td>49</td>\n      <td>0.984</td>\n      <td>1.031</td>\n      <td>1.350470</td>\n      <td>0.509723</td>\n      <td>Ямало-Ненецкий АО</td>\n      <td>897</td>\n      <td>91.142857</td>\n      <td>96.785714</td>\n      <td>1139.857143</td>\n      <td>1790.857143</td>\n      <td>3</td>\n      <td>42</td>\n    </tr>\n    <tr>\n      <th>6841</th>\n      <td>2020-08-13</td>\n      <td>11656</td>\n      <td>8469</td>\n      <td>107</td>\n      <td>3</td>\n      <td>67</td>\n      <td>149</td>\n      <td>0.673</td>\n      <td>1.032</td>\n      <td>1.284043</td>\n      <td>1.750219</td>\n      <td>Мурманская обл.</td>\n      <td>3080</td>\n      <td>91.285714</td>\n      <td>111.642857</td>\n      <td>3280.000000</td>\n      <td>3540.071429</td>\n      <td>-5</td>\n      <td>-85</td>\n    </tr>\n    <tr>\n      <th>9492</th>\n      <td>2020-08-13</td>\n      <td>10633</td>\n      <td>6614</td>\n      <td>64</td>\n      <td>0</td>\n      <td>95</td>\n      <td>93</td>\n      <td>1.013</td>\n      <td>1.038</td>\n      <td>1.171347</td>\n      <td>2.247440</td>\n      <td>Саратовская обл.</td>\n      <td>3955</td>\n      <td>95.000000</td>\n      <td>94.642857</td>\n      <td>3906.857143</td>\n      <td>3828.000000</td>\n      <td>-1</td>\n      <td>2</td>\n    </tr>\n    <tr>\n      <th>7462</th>\n      <td>2020-08-13</td>\n      <td>10451</td>\n      <td>8922</td>\n      <td>303</td>\n      <td>6</td>\n      <td>53</td>\n      <td>152</td>\n      <td>0.801</td>\n      <td>1.029</td>\n      <td>1.151298</td>\n      <td>0.696678</td>\n      <td>Новосибирская обл.</td>\n      <td>1226</td>\n      <td>73.142857</td>\n      <td>86.428571</td>\n      <td>1395.142857</td>\n      <td>1400.428571</td>\n      <td>-11</td>\n      <td>-105</td>\n    </tr>\n  </tbody>\n</table>\n</div>"
     },
     "metadata": {},
     "execution_count": 24
    }
   ],
   "source": [
    "mask = (X.Date==myday)&(X.Region!='Россия')\n",
    "#mask = (X.Date==myday)\n",
    "#Делаем выборку по доле регина в общих случаях выявления заболеваний по России\n",
    "df=X[mask].sort_values(by=['Rate_conf'],ascending = False)\n",
    "#Далее заменяем все имена если регион набрал менее 1% в общих случаях по России\n",
    "df2 = X[mask].reset_index(drop=True)\n",
    "print(len(df2))\n",
    "\n",
    "for i in range(len(df2)):\n",
    "    if df2.loc[i,'Rate_conf']<1:\n",
    "        df2.loc[i,'Region']='Регионы менее 1%'\n",
    "df.head(15)"
   ]
  },
  {
   "cell_type": "code",
   "execution_count": 25,
   "metadata": {},
   "outputs": [
    {
     "output_type": "display_data",
     "data": {
      "application/vnd.plotly.v1+json": {
       "config": {
        "plotlyServerURL": "https://plot.ly"
       },
       "data": [
        {
         "domain": {
          "x": [
           0,
           1
          ],
          "y": [
           0,
           1
          ]
         },
         "hovertemplate": "Region=%{label}<br>Confirmed=%{value}<extra></extra>",
         "labels": [
          "Регионы менее 1%",
          "Регионы менее 1%",
          "Алтайский край",
          "Регионы менее 1%",
          "Архангельская обл.",
          "Регионы менее 1%",
          "Регионы менее 1%",
          "Регионы менее 1%",
          "Регионы менее 1%",
          "Регионы менее 1%",
          "Регионы менее 1%",
          "Волгоградская обл.",
          "Регионы менее 1%",
          "Воронежская обл.",
          "Дагестан",
          "Регионы менее 1%",
          "Регионы менее 1%",
          "Регионы менее 1%",
          "Регионы менее 1%",
          "Иркутская обл.",
          "Регионы менее 1%",
          "Регионы менее 1%",
          "Регионы менее 1%",
          "Регионы менее 1%",
          "Регионы менее 1%",
          "Регионы менее 1%",
          "Регионы менее 1%",
          "Регионы менее 1%",
          "Регионы менее 1%",
          "Регионы менее 1%",
          "Регионы менее 1%",
          "Краснодарский край",
          "Красноярский край",
          "Регионы менее 1%",
          "Регионы менее 1%",
          "Регионы менее 1%",
          "Регионы менее 1%",
          "Регионы менее 1%",
          "Регионы менее 1%",
          "Регионы менее 1%",
          "Регионы менее 1%",
          "Москва",
          "Московская обл.",
          "Мурманская обл.",
          "Регионы менее 1%",
          "Нижегородская обл.",
          "Регионы менее 1%",
          "Новосибирская обл.",
          "Регионы менее 1%",
          "Регионы менее 1%",
          "Регионы менее 1%",
          "Регионы менее 1%",
          "Регионы менее 1%",
          "Регионы менее 1%",
          "Регионы менее 1%",
          "Ростовская обл.",
          "Регионы менее 1%",
          "Регионы менее 1%",
          "Санкт-Петербург",
          "Саратовская обл.",
          "Регионы менее 1%",
          "Регионы менее 1%",
          "Свердловская обл.",
          "Регионы менее 1%",
          "Регионы менее 1%",
          "Регионы менее 1%",
          "Ставропольский край",
          "Регионы менее 1%",
          "Регионы менее 1%",
          "Регионы менее 1%",
          "Регионы менее 1%",
          "Регионы менее 1%",
          "Регионы менее 1%",
          "Регионы менее 1%",
          "Регионы менее 1%",
          "Ульяновская обл.",
          "ХМАО – Югра",
          "Регионы менее 1%",
          "Регионы менее 1%",
          "Челябинская обл.",
          "Регионы менее 1%",
          "Регионы менее 1%",
          "Регионы менее 1%",
          "Ямало-Ненецкий АО",
          "Регионы менее 1%"
         ],
         "legendgroup": "",
         "name": "",
         "showlegend": true,
         "textinfo": "percent+label",
         "type": "pie",
         "values": [
          3055,
          1750,
          10360,
          3010,
          9547,
          5041,
          7197,
          6562,
          7739,
          4507,
          5876,
          10383,
          2772,
          12372,
          9861,
          570,
          4260,
          6785,
          3954,
          15101,
          6174,
          3065,
          3173,
          7543,
          3569,
          4589,
          2628,
          4736,
          5463,
          5968,
          2745,
          9642,
          14812,
          1595,
          2558,
          6576,
          6291,
          4766,
          1599,
          3962,
          4888,
          250303,
          65472,
          11656,
          289,
          25382,
          3969,
          10451,
          8175,
          8274,
          6250,
          7156,
          6777,
          8073,
          4038,
          14613,
          6655,
          7423,
          33525,
          10633,
          6531,
          3390,
          22943,
          401,
          4650,
          5878,
          9699,
          6336,
          5988,
          4959,
          4840,
          8731,
          6421,
          6855,
          2681,
          10440,
          18219,
          8804,
          3089,
          12433,
          2170,
          7179,
          162,
          12259,
          6542
         ]
        }
       ],
       "layout": {
        "height": 1000,
        "legend": {
         "tracegroupgap": 0
        },
        "margin": {
         "b": 0,
         "t": 150
        },
        "piecolorway": [
         "rgb(150,0,90)",
         "rgb(0,0,200)",
         "rgb(0,25,255)",
         "rgb(0,152,255)",
         "rgb(44,255,150)",
         "rgb(151,255,0)",
         "rgb(255,234,0)",
         "rgb(255,111,0)",
         "rgb(255,0,0)"
        ],
        "template": {
         "data": {
          "bar": [
           {
            "error_x": {
             "color": "#2a3f5f"
            },
            "error_y": {
             "color": "#2a3f5f"
            },
            "marker": {
             "line": {
              "color": "#E5ECF6",
              "width": 0.5
             }
            },
            "type": "bar"
           }
          ],
          "barpolar": [
           {
            "marker": {
             "line": {
              "color": "#E5ECF6",
              "width": 0.5
             }
            },
            "type": "barpolar"
           }
          ],
          "carpet": [
           {
            "aaxis": {
             "endlinecolor": "#2a3f5f",
             "gridcolor": "white",
             "linecolor": "white",
             "minorgridcolor": "white",
             "startlinecolor": "#2a3f5f"
            },
            "baxis": {
             "endlinecolor": "#2a3f5f",
             "gridcolor": "white",
             "linecolor": "white",
             "minorgridcolor": "white",
             "startlinecolor": "#2a3f5f"
            },
            "type": "carpet"
           }
          ],
          "choropleth": [
           {
            "colorbar": {
             "outlinewidth": 0,
             "ticks": ""
            },
            "type": "choropleth"
           }
          ],
          "contour": [
           {
            "colorbar": {
             "outlinewidth": 0,
             "ticks": ""
            },
            "colorscale": [
             [
              0,
              "#0d0887"
             ],
             [
              0.1111111111111111,
              "#46039f"
             ],
             [
              0.2222222222222222,
              "#7201a8"
             ],
             [
              0.3333333333333333,
              "#9c179e"
             ],
             [
              0.4444444444444444,
              "#bd3786"
             ],
             [
              0.5555555555555556,
              "#d8576b"
             ],
             [
              0.6666666666666666,
              "#ed7953"
             ],
             [
              0.7777777777777778,
              "#fb9f3a"
             ],
             [
              0.8888888888888888,
              "#fdca26"
             ],
             [
              1,
              "#f0f921"
             ]
            ],
            "type": "contour"
           }
          ],
          "contourcarpet": [
           {
            "colorbar": {
             "outlinewidth": 0,
             "ticks": ""
            },
            "type": "contourcarpet"
           }
          ],
          "heatmap": [
           {
            "colorbar": {
             "outlinewidth": 0,
             "ticks": ""
            },
            "colorscale": [
             [
              0,
              "#0d0887"
             ],
             [
              0.1111111111111111,
              "#46039f"
             ],
             [
              0.2222222222222222,
              "#7201a8"
             ],
             [
              0.3333333333333333,
              "#9c179e"
             ],
             [
              0.4444444444444444,
              "#bd3786"
             ],
             [
              0.5555555555555556,
              "#d8576b"
             ],
             [
              0.6666666666666666,
              "#ed7953"
             ],
             [
              0.7777777777777778,
              "#fb9f3a"
             ],
             [
              0.8888888888888888,
              "#fdca26"
             ],
             [
              1,
              "#f0f921"
             ]
            ],
            "type": "heatmap"
           }
          ],
          "heatmapgl": [
           {
            "colorbar": {
             "outlinewidth": 0,
             "ticks": ""
            },
            "colorscale": [
             [
              0,
              "#0d0887"
             ],
             [
              0.1111111111111111,
              "#46039f"
             ],
             [
              0.2222222222222222,
              "#7201a8"
             ],
             [
              0.3333333333333333,
              "#9c179e"
             ],
             [
              0.4444444444444444,
              "#bd3786"
             ],
             [
              0.5555555555555556,
              "#d8576b"
             ],
             [
              0.6666666666666666,
              "#ed7953"
             ],
             [
              0.7777777777777778,
              "#fb9f3a"
             ],
             [
              0.8888888888888888,
              "#fdca26"
             ],
             [
              1,
              "#f0f921"
             ]
            ],
            "type": "heatmapgl"
           }
          ],
          "histogram": [
           {
            "marker": {
             "colorbar": {
              "outlinewidth": 0,
              "ticks": ""
             }
            },
            "type": "histogram"
           }
          ],
          "histogram2d": [
           {
            "colorbar": {
             "outlinewidth": 0,
             "ticks": ""
            },
            "colorscale": [
             [
              0,
              "#0d0887"
             ],
             [
              0.1111111111111111,
              "#46039f"
             ],
             [
              0.2222222222222222,
              "#7201a8"
             ],
             [
              0.3333333333333333,
              "#9c179e"
             ],
             [
              0.4444444444444444,
              "#bd3786"
             ],
             [
              0.5555555555555556,
              "#d8576b"
             ],
             [
              0.6666666666666666,
              "#ed7953"
             ],
             [
              0.7777777777777778,
              "#fb9f3a"
             ],
             [
              0.8888888888888888,
              "#fdca26"
             ],
             [
              1,
              "#f0f921"
             ]
            ],
            "type": "histogram2d"
           }
          ],
          "histogram2dcontour": [
           {
            "colorbar": {
             "outlinewidth": 0,
             "ticks": ""
            },
            "colorscale": [
             [
              0,
              "#0d0887"
             ],
             [
              0.1111111111111111,
              "#46039f"
             ],
             [
              0.2222222222222222,
              "#7201a8"
             ],
             [
              0.3333333333333333,
              "#9c179e"
             ],
             [
              0.4444444444444444,
              "#bd3786"
             ],
             [
              0.5555555555555556,
              "#d8576b"
             ],
             [
              0.6666666666666666,
              "#ed7953"
             ],
             [
              0.7777777777777778,
              "#fb9f3a"
             ],
             [
              0.8888888888888888,
              "#fdca26"
             ],
             [
              1,
              "#f0f921"
             ]
            ],
            "type": "histogram2dcontour"
           }
          ],
          "mesh3d": [
           {
            "colorbar": {
             "outlinewidth": 0,
             "ticks": ""
            },
            "type": "mesh3d"
           }
          ],
          "parcoords": [
           {
            "line": {
             "colorbar": {
              "outlinewidth": 0,
              "ticks": ""
             }
            },
            "type": "parcoords"
           }
          ],
          "pie": [
           {
            "automargin": true,
            "type": "pie"
           }
          ],
          "scatter": [
           {
            "marker": {
             "colorbar": {
              "outlinewidth": 0,
              "ticks": ""
             }
            },
            "type": "scatter"
           }
          ],
          "scatter3d": [
           {
            "line": {
             "colorbar": {
              "outlinewidth": 0,
              "ticks": ""
             }
            },
            "marker": {
             "colorbar": {
              "outlinewidth": 0,
              "ticks": ""
             }
            },
            "type": "scatter3d"
           }
          ],
          "scattercarpet": [
           {
            "marker": {
             "colorbar": {
              "outlinewidth": 0,
              "ticks": ""
             }
            },
            "type": "scattercarpet"
           }
          ],
          "scattergeo": [
           {
            "marker": {
             "colorbar": {
              "outlinewidth": 0,
              "ticks": ""
             }
            },
            "type": "scattergeo"
           }
          ],
          "scattergl": [
           {
            "marker": {
             "colorbar": {
              "outlinewidth": 0,
              "ticks": ""
             }
            },
            "type": "scattergl"
           }
          ],
          "scattermapbox": [
           {
            "marker": {
             "colorbar": {
              "outlinewidth": 0,
              "ticks": ""
             }
            },
            "type": "scattermapbox"
           }
          ],
          "scatterpolar": [
           {
            "marker": {
             "colorbar": {
              "outlinewidth": 0,
              "ticks": ""
             }
            },
            "type": "scatterpolar"
           }
          ],
          "scatterpolargl": [
           {
            "marker": {
             "colorbar": {
              "outlinewidth": 0,
              "ticks": ""
             }
            },
            "type": "scatterpolargl"
           }
          ],
          "scatterternary": [
           {
            "marker": {
             "colorbar": {
              "outlinewidth": 0,
              "ticks": ""
             }
            },
            "type": "scatterternary"
           }
          ],
          "surface": [
           {
            "colorbar": {
             "outlinewidth": 0,
             "ticks": ""
            },
            "colorscale": [
             [
              0,
              "#0d0887"
             ],
             [
              0.1111111111111111,
              "#46039f"
             ],
             [
              0.2222222222222222,
              "#7201a8"
             ],
             [
              0.3333333333333333,
              "#9c179e"
             ],
             [
              0.4444444444444444,
              "#bd3786"
             ],
             [
              0.5555555555555556,
              "#d8576b"
             ],
             [
              0.6666666666666666,
              "#ed7953"
             ],
             [
              0.7777777777777778,
              "#fb9f3a"
             ],
             [
              0.8888888888888888,
              "#fdca26"
             ],
             [
              1,
              "#f0f921"
             ]
            ],
            "type": "surface"
           }
          ],
          "table": [
           {
            "cells": {
             "fill": {
              "color": "#EBF0F8"
             },
             "line": {
              "color": "white"
             }
            },
            "header": {
             "fill": {
              "color": "#C8D4E3"
             },
             "line": {
              "color": "white"
             }
            },
            "type": "table"
           }
          ]
         },
         "layout": {
          "annotationdefaults": {
           "arrowcolor": "#2a3f5f",
           "arrowhead": 0,
           "arrowwidth": 1
          },
          "coloraxis": {
           "colorbar": {
            "outlinewidth": 0,
            "ticks": ""
           }
          },
          "colorscale": {
           "diverging": [
            [
             0,
             "#8e0152"
            ],
            [
             0.1,
             "#c51b7d"
            ],
            [
             0.2,
             "#de77ae"
            ],
            [
             0.3,
             "#f1b6da"
            ],
            [
             0.4,
             "#fde0ef"
            ],
            [
             0.5,
             "#f7f7f7"
            ],
            [
             0.6,
             "#e6f5d0"
            ],
            [
             0.7,
             "#b8e186"
            ],
            [
             0.8,
             "#7fbc41"
            ],
            [
             0.9,
             "#4d9221"
            ],
            [
             1,
             "#276419"
            ]
           ],
           "sequential": [
            [
             0,
             "#0d0887"
            ],
            [
             0.1111111111111111,
             "#46039f"
            ],
            [
             0.2222222222222222,
             "#7201a8"
            ],
            [
             0.3333333333333333,
             "#9c179e"
            ],
            [
             0.4444444444444444,
             "#bd3786"
            ],
            [
             0.5555555555555556,
             "#d8576b"
            ],
            [
             0.6666666666666666,
             "#ed7953"
            ],
            [
             0.7777777777777778,
             "#fb9f3a"
            ],
            [
             0.8888888888888888,
             "#fdca26"
            ],
            [
             1,
             "#f0f921"
            ]
           ],
           "sequentialminus": [
            [
             0,
             "#0d0887"
            ],
            [
             0.1111111111111111,
             "#46039f"
            ],
            [
             0.2222222222222222,
             "#7201a8"
            ],
            [
             0.3333333333333333,
             "#9c179e"
            ],
            [
             0.4444444444444444,
             "#bd3786"
            ],
            [
             0.5555555555555556,
             "#d8576b"
            ],
            [
             0.6666666666666666,
             "#ed7953"
            ],
            [
             0.7777777777777778,
             "#fb9f3a"
            ],
            [
             0.8888888888888888,
             "#fdca26"
            ],
            [
             1,
             "#f0f921"
            ]
           ]
          },
          "colorway": [
           "#636efa",
           "#EF553B",
           "#00cc96",
           "#ab63fa",
           "#FFA15A",
           "#19d3f3",
           "#FF6692",
           "#B6E880",
           "#FF97FF",
           "#FECB52"
          ],
          "font": {
           "color": "#2a3f5f"
          },
          "geo": {
           "bgcolor": "white",
           "lakecolor": "white",
           "landcolor": "#E5ECF6",
           "showlakes": true,
           "showland": true,
           "subunitcolor": "white"
          },
          "hoverlabel": {
           "align": "left"
          },
          "hovermode": "closest",
          "mapbox": {
           "style": "light"
          },
          "paper_bgcolor": "white",
          "plot_bgcolor": "#E5ECF6",
          "polar": {
           "angularaxis": {
            "gridcolor": "white",
            "linecolor": "white",
            "ticks": ""
           },
           "bgcolor": "#E5ECF6",
           "radialaxis": {
            "gridcolor": "white",
            "linecolor": "white",
            "ticks": ""
           }
          },
          "scene": {
           "xaxis": {
            "backgroundcolor": "#E5ECF6",
            "gridcolor": "white",
            "gridwidth": 2,
            "linecolor": "white",
            "showbackground": true,
            "ticks": "",
            "zerolinecolor": "white"
           },
           "yaxis": {
            "backgroundcolor": "#E5ECF6",
            "gridcolor": "white",
            "gridwidth": 2,
            "linecolor": "white",
            "showbackground": true,
            "ticks": "",
            "zerolinecolor": "white"
           },
           "zaxis": {
            "backgroundcolor": "#E5ECF6",
            "gridcolor": "white",
            "gridwidth": 2,
            "linecolor": "white",
            "showbackground": true,
            "ticks": "",
            "zerolinecolor": "white"
           }
          },
          "shapedefaults": {
           "line": {
            "color": "#2a3f5f"
           }
          },
          "ternary": {
           "aaxis": {
            "gridcolor": "white",
            "linecolor": "white",
            "ticks": ""
           },
           "baxis": {
            "gridcolor": "white",
            "linecolor": "white",
            "ticks": ""
           },
           "bgcolor": "#E5ECF6",
           "caxis": {
            "gridcolor": "white",
            "linecolor": "white",
            "ticks": ""
           }
          },
          "title": {
           "x": 0.05
          },
          "xaxis": {
           "automargin": true,
           "gridcolor": "white",
           "linecolor": "white",
           "ticks": "",
           "title": {
            "standoff": 15
           },
           "zerolinecolor": "white",
           "zerolinewidth": 2
          },
          "yaxis": {
           "automargin": true,
           "gridcolor": "white",
           "linecolor": "white",
           "ticks": "",
           "title": {
            "standoff": 15
           },
           "zerolinecolor": "white",
           "zerolinewidth": 2
          }
         }
        },
        "title": {
         "text": "Всего выявленных случаев заболевания COVID-19 в России: 907758<br>(на дату: 2020-08-13)",
         "x": 0.5,
         "xanchor": "center",
         "y": 0.9,
         "yanchor": "bottom"
        },
        "width": 900
       }
      }
     },
     "metadata": {}
    }
   ],
   "source": [
    "\n",
    "\n",
    "\n",
    "fig = px.pie(df2, values='Confirmed', names='Region',color_discrete_sequence=px.colors.sequential.Rainbow,\n",
    "            title=f'Всего выявленных случаев заболевания COVID-19 в России: {df2.Confirmed.sum()}<br>'+\n",
    "            f'(на дату: {myday})'\n",
    "            ,\n",
    "            width = 900, height=1000)\n",
    "\n",
    "fig.update_traces(textinfo='percent+label')\n",
    "fig.update_layout(\n",
    "        \n",
    "                #  title=f'{my_region}: динамика текущих больных COVID-19 по дням<br>(изменение относительно предыдущего дня)',\n",
    "                  title_x = 0.5,\n",
    "                  margin = {'t':150, 'b':0},\n",
    "                  title_y= 0.9,\n",
    "                  title_xanchor = \"center\",\n",
    "                  title_yanchor = \"bottom\", \n",
    "                 # legend_x = 0.05,legend_y = 0.98,\n",
    "                     \n",
    ")\n",
    "\n",
    "fig.show()\n"
   ]
  },
  {
   "cell_type": "code",
   "execution_count": 26,
   "metadata": {
    "tags": []
   },
   "outputs": [
    {
     "output_type": "stream",
     "name": "stdout",
     "text": "85\n"
    },
    {
     "output_type": "execute_result",
     "data": {
      "text/plain": "             Date  Confirmed  Recovered  Deaths  Day_deaths  Day_confirmed  \\\n6521   2020-08-13     250303     193473    4622          11            692   \n6686   2020-08-13      65472      49066    1136           4            148   \n9337   2020-08-13      33525      24354    2203          15            160   \n12592  2020-08-13      12433       7931      98           0             84   \n9492   2020-08-13      10633       6614      64           0             95   \n3096   2020-08-13      15101      10943     221           7            115   \n9957   2020-08-13      22943      18803     358           7            162   \n1856   2020-08-13      10383       6669      75           0            102   \n6841   2020-08-13      11656       8469     107           3             67   \n11972  2020-08-13      10440       7457      73           0             94   \n10577  2020-08-13       9699       6661     186           3            105   \n7152   2020-08-13      25382      22197     421           3            130   \n12127  2020-08-13      18219      15649     145           2            108   \n12902  2020-08-13       7179       4745      66           1             35   \n8867   2020-08-13      14613      12002     274           3            125   \n12282  2020-08-13       8804       6509      76           1             81   \n7617   2020-08-13       8175       5913     106           5            108   \n5115   2020-08-13      14812      12344     380           4            121   \n8237   2020-08-13       6777       4810     182           3             72   \n2166   2020-08-13      12372      10558      96           0             94   \n\n       Day_recovered     Rt    Rt2  Rate_conf   Rate_ill               Region  \\\n6521             787  1.007  1.011  27.573759  29.667345               Москва   \n6686             150  0.968  1.009   7.212495   8.677221      Московская обл.   \n9337              96  1.006  1.019   3.693165   3.959586      Санкт-Петербург   \n12592            102  0.939  1.029   1.369638   2.502586     Челябинская обл.   \n9492              93  1.013  1.038   1.171347   2.247440     Саратовская обл.   \n3096             182  0.956  1.034   1.663549   2.237211       Иркутская обл.   \n9957              78  0.932  1.032   2.527436   2.149132    Свердловская обл.   \n1856              91  1.000  1.039   1.143807   2.067872   Волгоградская обл.   \n6841             149  0.673  1.032   1.284043   1.750219      Мурманская обл.   \n11972             73  0.943  1.041   1.150086   1.653616     Ульяновская обл.   \n10577             79  0.901  1.052   1.068457   1.620657  Ставропольский край   \n7152             242  1.113  1.019   2.796120   1.570651   Нижегородская обл.   \n12127             65  0.776  1.028   2.007033   1.378013          ХМАО – Югра   \n12902            172  1.079  1.019   0.790850   1.345623              Чувашия   \n8867             122  0.984  1.037   1.609790   1.328007      Ростовская обл.   \n12282            161  0.815  1.042   0.969862   1.260953     Хабаровский край   \n7617             189  0.993  1.057   0.900570   1.225153          Омская обл.   \n5115              63  0.963  1.036   1.631712   1.186512    Красноярский край   \n8237              42  0.978  1.042   0.746565   1.014331        Пермский край   \n2166             164  0.982  1.032   1.362918   0.976258     Воронежская обл.   \n\n       Remaining_ill  MA7_dayconfirmed  MA14_dayconfirmed  MA7_remaining_ill  \\\n6521           52208        690.714286         688.500000       53014.714286   \n6686           15270        153.571429         155.214286       15348.714286   \n9337            6968        158.142857         158.785714        6763.000000   \n12592           4404         87.142857          96.642857        4389.857143   \n9492            3955         95.000000          94.642857        3906.857143   \n3096            3937        121.428571         129.928571        4066.571429   \n9957            3782        174.000000         183.642857        3537.857143   \n1856            3639         96.000000          95.071429        3605.000000   \n6841            3080         91.285714         111.642857        3280.000000   \n11972           2910        100.714286         103.214286        2842.571429   \n10577           2852        114.857143         113.571429        2781.714286   \n7152            2764        118.714286         123.928571        2918.428571   \n12127           2425        124.285714         146.928571        2399.142857   \n12902           2368         33.142857          34.642857        2600.571429   \n8867            2337        127.142857         128.928571        2409.285714   \n12282           2219         89.428571          98.285714        2410.285714   \n7617            2156        107.285714         109.428571        2234.142857   \n5115            2088        125.142857         129.428571        1897.428571   \n8237            1785         68.714286          70.214286        1707.714286   \n2166            1718         95.285714          93.357143        1808.428571   \n\n       MA14_remaining_ill  Change_dayconf  Change_remill  \n6521         54670.785714               3           -106  \n6686         15462.642857              -4             -6  \n9337          6507.714286              -1             49  \n12592         4412.428571              -4            -18  \n9492          3828.000000              -1              2  \n3096          4320.142857              -4            -74  \n9957          3291.714286              -5             77  \n1856          3607.428571              11             11  \n6841          3540.071429              -5            -85  \n11972         2766.928571               3             21  \n10577         2703.285714              10             23  \n7152          3258.642857               6           -115  \n12127         2789.357143              -9             41  \n12902         2733.214286              -1           -138  \n8867          2422.857143              -2              0  \n12282         2515.285714              -8            -81  \n7617          2314.000000               2            -86  \n5115          1628.285714              -2             54  \n8237          1621.142857               4             27  \n2166          1873.571429               1            -70  ",
      "text/html": "<div>\n<style scoped>\n    .dataframe tbody tr th:only-of-type {\n        vertical-align: middle;\n    }\n\n    .dataframe tbody tr th {\n        vertical-align: top;\n    }\n\n    .dataframe thead th {\n        text-align: right;\n    }\n</style>\n<table border=\"1\" class=\"dataframe\">\n  <thead>\n    <tr style=\"text-align: right;\">\n      <th></th>\n      <th>Date</th>\n      <th>Confirmed</th>\n      <th>Recovered</th>\n      <th>Deaths</th>\n      <th>Day_deaths</th>\n      <th>Day_confirmed</th>\n      <th>Day_recovered</th>\n      <th>Rt</th>\n      <th>Rt2</th>\n      <th>Rate_conf</th>\n      <th>Rate_ill</th>\n      <th>Region</th>\n      <th>Remaining_ill</th>\n      <th>MA7_dayconfirmed</th>\n      <th>MA14_dayconfirmed</th>\n      <th>MA7_remaining_ill</th>\n      <th>MA14_remaining_ill</th>\n      <th>Change_dayconf</th>\n      <th>Change_remill</th>\n    </tr>\n  </thead>\n  <tbody>\n    <tr>\n      <th>6521</th>\n      <td>2020-08-13</td>\n      <td>250303</td>\n      <td>193473</td>\n      <td>4622</td>\n      <td>11</td>\n      <td>692</td>\n      <td>787</td>\n      <td>1.007</td>\n      <td>1.011</td>\n      <td>27.573759</td>\n      <td>29.667345</td>\n      <td>Москва</td>\n      <td>52208</td>\n      <td>690.714286</td>\n      <td>688.500000</td>\n      <td>53014.714286</td>\n      <td>54670.785714</td>\n      <td>3</td>\n      <td>-106</td>\n    </tr>\n    <tr>\n      <th>6686</th>\n      <td>2020-08-13</td>\n      <td>65472</td>\n      <td>49066</td>\n      <td>1136</td>\n      <td>4</td>\n      <td>148</td>\n      <td>150</td>\n      <td>0.968</td>\n      <td>1.009</td>\n      <td>7.212495</td>\n      <td>8.677221</td>\n      <td>Московская обл.</td>\n      <td>15270</td>\n      <td>153.571429</td>\n      <td>155.214286</td>\n      <td>15348.714286</td>\n      <td>15462.642857</td>\n      <td>-4</td>\n      <td>-6</td>\n    </tr>\n    <tr>\n      <th>9337</th>\n      <td>2020-08-13</td>\n      <td>33525</td>\n      <td>24354</td>\n      <td>2203</td>\n      <td>15</td>\n      <td>160</td>\n      <td>96</td>\n      <td>1.006</td>\n      <td>1.019</td>\n      <td>3.693165</td>\n      <td>3.959586</td>\n      <td>Санкт-Петербург</td>\n      <td>6968</td>\n      <td>158.142857</td>\n      <td>158.785714</td>\n      <td>6763.000000</td>\n      <td>6507.714286</td>\n      <td>-1</td>\n      <td>49</td>\n    </tr>\n    <tr>\n      <th>12592</th>\n      <td>2020-08-13</td>\n      <td>12433</td>\n      <td>7931</td>\n      <td>98</td>\n      <td>0</td>\n      <td>84</td>\n      <td>102</td>\n      <td>0.939</td>\n      <td>1.029</td>\n      <td>1.369638</td>\n      <td>2.502586</td>\n      <td>Челябинская обл.</td>\n      <td>4404</td>\n      <td>87.142857</td>\n      <td>96.642857</td>\n      <td>4389.857143</td>\n      <td>4412.428571</td>\n      <td>-4</td>\n      <td>-18</td>\n    </tr>\n    <tr>\n      <th>9492</th>\n      <td>2020-08-13</td>\n      <td>10633</td>\n      <td>6614</td>\n      <td>64</td>\n      <td>0</td>\n      <td>95</td>\n      <td>93</td>\n      <td>1.013</td>\n      <td>1.038</td>\n      <td>1.171347</td>\n      <td>2.247440</td>\n      <td>Саратовская обл.</td>\n      <td>3955</td>\n      <td>95.000000</td>\n      <td>94.642857</td>\n      <td>3906.857143</td>\n      <td>3828.000000</td>\n      <td>-1</td>\n      <td>2</td>\n    </tr>\n    <tr>\n      <th>3096</th>\n      <td>2020-08-13</td>\n      <td>15101</td>\n      <td>10943</td>\n      <td>221</td>\n      <td>7</td>\n      <td>115</td>\n      <td>182</td>\n      <td>0.956</td>\n      <td>1.034</td>\n      <td>1.663549</td>\n      <td>2.237211</td>\n      <td>Иркутская обл.</td>\n      <td>3937</td>\n      <td>121.428571</td>\n      <td>129.928571</td>\n      <td>4066.571429</td>\n      <td>4320.142857</td>\n      <td>-4</td>\n      <td>-74</td>\n    </tr>\n    <tr>\n      <th>9957</th>\n      <td>2020-08-13</td>\n      <td>22943</td>\n      <td>18803</td>\n      <td>358</td>\n      <td>7</td>\n      <td>162</td>\n      <td>78</td>\n      <td>0.932</td>\n      <td>1.032</td>\n      <td>2.527436</td>\n      <td>2.149132</td>\n      <td>Свердловская обл.</td>\n      <td>3782</td>\n      <td>174.000000</td>\n      <td>183.642857</td>\n      <td>3537.857143</td>\n      <td>3291.714286</td>\n      <td>-5</td>\n      <td>77</td>\n    </tr>\n    <tr>\n      <th>1856</th>\n      <td>2020-08-13</td>\n      <td>10383</td>\n      <td>6669</td>\n      <td>75</td>\n      <td>0</td>\n      <td>102</td>\n      <td>91</td>\n      <td>1.000</td>\n      <td>1.039</td>\n      <td>1.143807</td>\n      <td>2.067872</td>\n      <td>Волгоградская обл.</td>\n      <td>3639</td>\n      <td>96.000000</td>\n      <td>95.071429</td>\n      <td>3605.000000</td>\n      <td>3607.428571</td>\n      <td>11</td>\n      <td>11</td>\n    </tr>\n    <tr>\n      <th>6841</th>\n      <td>2020-08-13</td>\n      <td>11656</td>\n      <td>8469</td>\n      <td>107</td>\n      <td>3</td>\n      <td>67</td>\n      <td>149</td>\n      <td>0.673</td>\n      <td>1.032</td>\n      <td>1.284043</td>\n      <td>1.750219</td>\n      <td>Мурманская обл.</td>\n      <td>3080</td>\n      <td>91.285714</td>\n      <td>111.642857</td>\n      <td>3280.000000</td>\n      <td>3540.071429</td>\n      <td>-5</td>\n      <td>-85</td>\n    </tr>\n    <tr>\n      <th>11972</th>\n      <td>2020-08-13</td>\n      <td>10440</td>\n      <td>7457</td>\n      <td>73</td>\n      <td>0</td>\n      <td>94</td>\n      <td>73</td>\n      <td>0.943</td>\n      <td>1.041</td>\n      <td>1.150086</td>\n      <td>1.653616</td>\n      <td>Ульяновская обл.</td>\n      <td>2910</td>\n      <td>100.714286</td>\n      <td>103.214286</td>\n      <td>2842.571429</td>\n      <td>2766.928571</td>\n      <td>3</td>\n      <td>21</td>\n    </tr>\n    <tr>\n      <th>10577</th>\n      <td>2020-08-13</td>\n      <td>9699</td>\n      <td>6661</td>\n      <td>186</td>\n      <td>3</td>\n      <td>105</td>\n      <td>79</td>\n      <td>0.901</td>\n      <td>1.052</td>\n      <td>1.068457</td>\n      <td>1.620657</td>\n      <td>Ставропольский край</td>\n      <td>2852</td>\n      <td>114.857143</td>\n      <td>113.571429</td>\n      <td>2781.714286</td>\n      <td>2703.285714</td>\n      <td>10</td>\n      <td>23</td>\n    </tr>\n    <tr>\n      <th>7152</th>\n      <td>2020-08-13</td>\n      <td>25382</td>\n      <td>22197</td>\n      <td>421</td>\n      <td>3</td>\n      <td>130</td>\n      <td>242</td>\n      <td>1.113</td>\n      <td>1.019</td>\n      <td>2.796120</td>\n      <td>1.570651</td>\n      <td>Нижегородская обл.</td>\n      <td>2764</td>\n      <td>118.714286</td>\n      <td>123.928571</td>\n      <td>2918.428571</td>\n      <td>3258.642857</td>\n      <td>6</td>\n      <td>-115</td>\n    </tr>\n    <tr>\n      <th>12127</th>\n      <td>2020-08-13</td>\n      <td>18219</td>\n      <td>15649</td>\n      <td>145</td>\n      <td>2</td>\n      <td>108</td>\n      <td>65</td>\n      <td>0.776</td>\n      <td>1.028</td>\n      <td>2.007033</td>\n      <td>1.378013</td>\n      <td>ХМАО – Югра</td>\n      <td>2425</td>\n      <td>124.285714</td>\n      <td>146.928571</td>\n      <td>2399.142857</td>\n      <td>2789.357143</td>\n      <td>-9</td>\n      <td>41</td>\n    </tr>\n    <tr>\n      <th>12902</th>\n      <td>2020-08-13</td>\n      <td>7179</td>\n      <td>4745</td>\n      <td>66</td>\n      <td>1</td>\n      <td>35</td>\n      <td>172</td>\n      <td>1.079</td>\n      <td>1.019</td>\n      <td>0.790850</td>\n      <td>1.345623</td>\n      <td>Чувашия</td>\n      <td>2368</td>\n      <td>33.142857</td>\n      <td>34.642857</td>\n      <td>2600.571429</td>\n      <td>2733.214286</td>\n      <td>-1</td>\n      <td>-138</td>\n    </tr>\n    <tr>\n      <th>8867</th>\n      <td>2020-08-13</td>\n      <td>14613</td>\n      <td>12002</td>\n      <td>274</td>\n      <td>3</td>\n      <td>125</td>\n      <td>122</td>\n      <td>0.984</td>\n      <td>1.037</td>\n      <td>1.609790</td>\n      <td>1.328007</td>\n      <td>Ростовская обл.</td>\n      <td>2337</td>\n      <td>127.142857</td>\n      <td>128.928571</td>\n      <td>2409.285714</td>\n      <td>2422.857143</td>\n      <td>-2</td>\n      <td>0</td>\n    </tr>\n    <tr>\n      <th>12282</th>\n      <td>2020-08-13</td>\n      <td>8804</td>\n      <td>6509</td>\n      <td>76</td>\n      <td>1</td>\n      <td>81</td>\n      <td>161</td>\n      <td>0.815</td>\n      <td>1.042</td>\n      <td>0.969862</td>\n      <td>1.260953</td>\n      <td>Хабаровский край</td>\n      <td>2219</td>\n      <td>89.428571</td>\n      <td>98.285714</td>\n      <td>2410.285714</td>\n      <td>2515.285714</td>\n      <td>-8</td>\n      <td>-81</td>\n    </tr>\n    <tr>\n      <th>7617</th>\n      <td>2020-08-13</td>\n      <td>8175</td>\n      <td>5913</td>\n      <td>106</td>\n      <td>5</td>\n      <td>108</td>\n      <td>189</td>\n      <td>0.993</td>\n      <td>1.057</td>\n      <td>0.900570</td>\n      <td>1.225153</td>\n      <td>Омская обл.</td>\n      <td>2156</td>\n      <td>107.285714</td>\n      <td>109.428571</td>\n      <td>2234.142857</td>\n      <td>2314.000000</td>\n      <td>2</td>\n      <td>-86</td>\n    </tr>\n    <tr>\n      <th>5115</th>\n      <td>2020-08-13</td>\n      <td>14812</td>\n      <td>12344</td>\n      <td>380</td>\n      <td>4</td>\n      <td>121</td>\n      <td>63</td>\n      <td>0.963</td>\n      <td>1.036</td>\n      <td>1.631712</td>\n      <td>1.186512</td>\n      <td>Красноярский край</td>\n      <td>2088</td>\n      <td>125.142857</td>\n      <td>129.428571</td>\n      <td>1897.428571</td>\n      <td>1628.285714</td>\n      <td>-2</td>\n      <td>54</td>\n    </tr>\n    <tr>\n      <th>8237</th>\n      <td>2020-08-13</td>\n      <td>6777</td>\n      <td>4810</td>\n      <td>182</td>\n      <td>3</td>\n      <td>72</td>\n      <td>42</td>\n      <td>0.978</td>\n      <td>1.042</td>\n      <td>0.746565</td>\n      <td>1.014331</td>\n      <td>Пермский край</td>\n      <td>1785</td>\n      <td>68.714286</td>\n      <td>70.214286</td>\n      <td>1707.714286</td>\n      <td>1621.142857</td>\n      <td>4</td>\n      <td>27</td>\n    </tr>\n    <tr>\n      <th>2166</th>\n      <td>2020-08-13</td>\n      <td>12372</td>\n      <td>10558</td>\n      <td>96</td>\n      <td>0</td>\n      <td>94</td>\n      <td>164</td>\n      <td>0.982</td>\n      <td>1.032</td>\n      <td>1.362918</td>\n      <td>0.976258</td>\n      <td>Воронежская обл.</td>\n      <td>1718</td>\n      <td>95.285714</td>\n      <td>93.357143</td>\n      <td>1808.428571</td>\n      <td>1873.571429</td>\n      <td>1</td>\n      <td>-70</td>\n    </tr>\n  </tbody>\n</table>\n</div>"
     },
     "metadata": {},
     "execution_count": 26
    }
   ],
   "source": [
    "mask = (X.Date==myday)&(X.Region!='Россия')\n",
    "#mask = (X.Date==myday)\n",
    "#Делаем выборку по доле регина в общих случаях выявления заболеваний по России\n",
    "df=X[mask].sort_values(by=['Rate_ill'],ascending = False)\n",
    "#Далее заменяем все имена если регион набрал менее 1% в общих случаях по России\n",
    "df2 = X[mask].reset_index(drop=True)\n",
    "print(len(df2))\n",
    "\n",
    "for i in range(len(df2)):\n",
    "    if df2.loc[i,'Rate_ill']<1:\n",
    "        df2.loc[i,'Region']='Регионы менее 1%'\n",
    "df.head(20)"
   ]
  },
  {
   "cell_type": "code",
   "execution_count": 27,
   "metadata": {},
   "outputs": [
    {
     "output_type": "display_data",
     "data": {
      "application/vnd.plotly.v1+json": {
       "config": {
        "plotlyServerURL": "https://plot.ly"
       },
       "data": [
        {
         "domain": {
          "x": [
           0,
           1
          ],
          "y": [
           0,
           1
          ]
         },
         "hovertemplate": "Region=%{label}<br>Remaining_ill=%{value}<extra></extra>",
         "labels": [
          "Регионы менее 1%",
          "Регионы менее 1%",
          "Регионы менее 1%",
          "Регионы менее 1%",
          "Регионы менее 1%",
          "Регионы менее 1%",
          "Регионы менее 1%",
          "Регионы менее 1%",
          "Регионы менее 1%",
          "Регионы менее 1%",
          "Регионы менее 1%",
          "Волгоградская обл.",
          "Регионы менее 1%",
          "Регионы менее 1%",
          "Регионы менее 1%",
          "Регионы менее 1%",
          "Регионы менее 1%",
          "Регионы менее 1%",
          "Регионы менее 1%",
          "Иркутская обл.",
          "Регионы менее 1%",
          "Регионы менее 1%",
          "Регионы менее 1%",
          "Регионы менее 1%",
          "Регионы менее 1%",
          "Регионы менее 1%",
          "Регионы менее 1%",
          "Регионы менее 1%",
          "Регионы менее 1%",
          "Регионы менее 1%",
          "Регионы менее 1%",
          "Регионы менее 1%",
          "Красноярский край",
          "Регионы менее 1%",
          "Регионы менее 1%",
          "Регионы менее 1%",
          "Регионы менее 1%",
          "Регионы менее 1%",
          "Регионы менее 1%",
          "Регионы менее 1%",
          "Регионы менее 1%",
          "Москва",
          "Московская обл.",
          "Мурманская обл.",
          "Регионы менее 1%",
          "Нижегородская обл.",
          "Регионы менее 1%",
          "Регионы менее 1%",
          "Омская обл.",
          "Регионы менее 1%",
          "Регионы менее 1%",
          "Регионы менее 1%",
          "Пермский край",
          "Регионы менее 1%",
          "Регионы менее 1%",
          "Ростовская обл.",
          "Регионы менее 1%",
          "Регионы менее 1%",
          "Санкт-Петербург",
          "Саратовская обл.",
          "Регионы менее 1%",
          "Регионы менее 1%",
          "Свердловская обл.",
          "Регионы менее 1%",
          "Регионы менее 1%",
          "Регионы менее 1%",
          "Ставропольский край",
          "Регионы менее 1%",
          "Регионы менее 1%",
          "Регионы менее 1%",
          "Регионы менее 1%",
          "Регионы менее 1%",
          "Регионы менее 1%",
          "Регионы менее 1%",
          "Регионы менее 1%",
          "Ульяновская обл.",
          "ХМАО – Югра",
          "Хабаровский край",
          "Регионы менее 1%",
          "Челябинская обл.",
          "Регионы менее 1%",
          "Чувашия",
          "Регионы менее 1%",
          "Регионы менее 1%",
          "Регионы менее 1%"
         ],
         "legendgroup": "",
         "name": "",
         "showlegend": true,
         "textinfo": "percent+label",
         "type": "pie",
         "values": [
          554,
          245,
          1627,
          435,
          755,
          838,
          1386,
          788,
          1394,
          584,
          452,
          3639,
          404,
          1718,
          528,
          57,
          255,
          1201,
          473,
          3937,
          326,
          582,
          893,
          1205,
          458,
          998,
          905,
          1362,
          792,
          1086,
          782,
          1237,
          2088,
          437,
          369,
          1119,
          1537,
          665,
          392,
          446,
          1082,
          52208,
          15270,
          3080,
          191,
          2764,
          1072,
          1226,
          2156,
          1535,
          1355,
          495,
          1785,
          1563,
          1080,
          2337,
          643,
          1676,
          6968,
          3955,
          869,
          1612,
          3782,
          66,
          346,
          1111,
          2852,
          1017,
          1104,
          833,
          1367,
          1042,
          843,
          492,
          411,
          2910,
          2425,
          2219,
          265,
          4404,
          700,
          2368,
          10,
          897,
          643
         ]
        }
       ],
       "layout": {
        "height": 1000,
        "legend": {
         "tracegroupgap": 0
        },
        "margin": {
         "b": 0,
         "t": 150
        },
        "piecolorway": [
         "rgb(150,0,90)",
         "rgb(0,0,200)",
         "rgb(0,25,255)",
         "rgb(0,152,255)",
         "rgb(44,255,150)",
         "rgb(151,255,0)",
         "rgb(255,234,0)",
         "rgb(255,111,0)",
         "rgb(255,0,0)"
        ],
        "template": {
         "data": {
          "bar": [
           {
            "error_x": {
             "color": "#2a3f5f"
            },
            "error_y": {
             "color": "#2a3f5f"
            },
            "marker": {
             "line": {
              "color": "#E5ECF6",
              "width": 0.5
             }
            },
            "type": "bar"
           }
          ],
          "barpolar": [
           {
            "marker": {
             "line": {
              "color": "#E5ECF6",
              "width": 0.5
             }
            },
            "type": "barpolar"
           }
          ],
          "carpet": [
           {
            "aaxis": {
             "endlinecolor": "#2a3f5f",
             "gridcolor": "white",
             "linecolor": "white",
             "minorgridcolor": "white",
             "startlinecolor": "#2a3f5f"
            },
            "baxis": {
             "endlinecolor": "#2a3f5f",
             "gridcolor": "white",
             "linecolor": "white",
             "minorgridcolor": "white",
             "startlinecolor": "#2a3f5f"
            },
            "type": "carpet"
           }
          ],
          "choropleth": [
           {
            "colorbar": {
             "outlinewidth": 0,
             "ticks": ""
            },
            "type": "choropleth"
           }
          ],
          "contour": [
           {
            "colorbar": {
             "outlinewidth": 0,
             "ticks": ""
            },
            "colorscale": [
             [
              0,
              "#0d0887"
             ],
             [
              0.1111111111111111,
              "#46039f"
             ],
             [
              0.2222222222222222,
              "#7201a8"
             ],
             [
              0.3333333333333333,
              "#9c179e"
             ],
             [
              0.4444444444444444,
              "#bd3786"
             ],
             [
              0.5555555555555556,
              "#d8576b"
             ],
             [
              0.6666666666666666,
              "#ed7953"
             ],
             [
              0.7777777777777778,
              "#fb9f3a"
             ],
             [
              0.8888888888888888,
              "#fdca26"
             ],
             [
              1,
              "#f0f921"
             ]
            ],
            "type": "contour"
           }
          ],
          "contourcarpet": [
           {
            "colorbar": {
             "outlinewidth": 0,
             "ticks": ""
            },
            "type": "contourcarpet"
           }
          ],
          "heatmap": [
           {
            "colorbar": {
             "outlinewidth": 0,
             "ticks": ""
            },
            "colorscale": [
             [
              0,
              "#0d0887"
             ],
             [
              0.1111111111111111,
              "#46039f"
             ],
             [
              0.2222222222222222,
              "#7201a8"
             ],
             [
              0.3333333333333333,
              "#9c179e"
             ],
             [
              0.4444444444444444,
              "#bd3786"
             ],
             [
              0.5555555555555556,
              "#d8576b"
             ],
             [
              0.6666666666666666,
              "#ed7953"
             ],
             [
              0.7777777777777778,
              "#fb9f3a"
             ],
             [
              0.8888888888888888,
              "#fdca26"
             ],
             [
              1,
              "#f0f921"
             ]
            ],
            "type": "heatmap"
           }
          ],
          "heatmapgl": [
           {
            "colorbar": {
             "outlinewidth": 0,
             "ticks": ""
            },
            "colorscale": [
             [
              0,
              "#0d0887"
             ],
             [
              0.1111111111111111,
              "#46039f"
             ],
             [
              0.2222222222222222,
              "#7201a8"
             ],
             [
              0.3333333333333333,
              "#9c179e"
             ],
             [
              0.4444444444444444,
              "#bd3786"
             ],
             [
              0.5555555555555556,
              "#d8576b"
             ],
             [
              0.6666666666666666,
              "#ed7953"
             ],
             [
              0.7777777777777778,
              "#fb9f3a"
             ],
             [
              0.8888888888888888,
              "#fdca26"
             ],
             [
              1,
              "#f0f921"
             ]
            ],
            "type": "heatmapgl"
           }
          ],
          "histogram": [
           {
            "marker": {
             "colorbar": {
              "outlinewidth": 0,
              "ticks": ""
             }
            },
            "type": "histogram"
           }
          ],
          "histogram2d": [
           {
            "colorbar": {
             "outlinewidth": 0,
             "ticks": ""
            },
            "colorscale": [
             [
              0,
              "#0d0887"
             ],
             [
              0.1111111111111111,
              "#46039f"
             ],
             [
              0.2222222222222222,
              "#7201a8"
             ],
             [
              0.3333333333333333,
              "#9c179e"
             ],
             [
              0.4444444444444444,
              "#bd3786"
             ],
             [
              0.5555555555555556,
              "#d8576b"
             ],
             [
              0.6666666666666666,
              "#ed7953"
             ],
             [
              0.7777777777777778,
              "#fb9f3a"
             ],
             [
              0.8888888888888888,
              "#fdca26"
             ],
             [
              1,
              "#f0f921"
             ]
            ],
            "type": "histogram2d"
           }
          ],
          "histogram2dcontour": [
           {
            "colorbar": {
             "outlinewidth": 0,
             "ticks": ""
            },
            "colorscale": [
             [
              0,
              "#0d0887"
             ],
             [
              0.1111111111111111,
              "#46039f"
             ],
             [
              0.2222222222222222,
              "#7201a8"
             ],
             [
              0.3333333333333333,
              "#9c179e"
             ],
             [
              0.4444444444444444,
              "#bd3786"
             ],
             [
              0.5555555555555556,
              "#d8576b"
             ],
             [
              0.6666666666666666,
              "#ed7953"
             ],
             [
              0.7777777777777778,
              "#fb9f3a"
             ],
             [
              0.8888888888888888,
              "#fdca26"
             ],
             [
              1,
              "#f0f921"
             ]
            ],
            "type": "histogram2dcontour"
           }
          ],
          "mesh3d": [
           {
            "colorbar": {
             "outlinewidth": 0,
             "ticks": ""
            },
            "type": "mesh3d"
           }
          ],
          "parcoords": [
           {
            "line": {
             "colorbar": {
              "outlinewidth": 0,
              "ticks": ""
             }
            },
            "type": "parcoords"
           }
          ],
          "pie": [
           {
            "automargin": true,
            "type": "pie"
           }
          ],
          "scatter": [
           {
            "marker": {
             "colorbar": {
              "outlinewidth": 0,
              "ticks": ""
             }
            },
            "type": "scatter"
           }
          ],
          "scatter3d": [
           {
            "line": {
             "colorbar": {
              "outlinewidth": 0,
              "ticks": ""
             }
            },
            "marker": {
             "colorbar": {
              "outlinewidth": 0,
              "ticks": ""
             }
            },
            "type": "scatter3d"
           }
          ],
          "scattercarpet": [
           {
            "marker": {
             "colorbar": {
              "outlinewidth": 0,
              "ticks": ""
             }
            },
            "type": "scattercarpet"
           }
          ],
          "scattergeo": [
           {
            "marker": {
             "colorbar": {
              "outlinewidth": 0,
              "ticks": ""
             }
            },
            "type": "scattergeo"
           }
          ],
          "scattergl": [
           {
            "marker": {
             "colorbar": {
              "outlinewidth": 0,
              "ticks": ""
             }
            },
            "type": "scattergl"
           }
          ],
          "scattermapbox": [
           {
            "marker": {
             "colorbar": {
              "outlinewidth": 0,
              "ticks": ""
             }
            },
            "type": "scattermapbox"
           }
          ],
          "scatterpolar": [
           {
            "marker": {
             "colorbar": {
              "outlinewidth": 0,
              "ticks": ""
             }
            },
            "type": "scatterpolar"
           }
          ],
          "scatterpolargl": [
           {
            "marker": {
             "colorbar": {
              "outlinewidth": 0,
              "ticks": ""
             }
            },
            "type": "scatterpolargl"
           }
          ],
          "scatterternary": [
           {
            "marker": {
             "colorbar": {
              "outlinewidth": 0,
              "ticks": ""
             }
            },
            "type": "scatterternary"
           }
          ],
          "surface": [
           {
            "colorbar": {
             "outlinewidth": 0,
             "ticks": ""
            },
            "colorscale": [
             [
              0,
              "#0d0887"
             ],
             [
              0.1111111111111111,
              "#46039f"
             ],
             [
              0.2222222222222222,
              "#7201a8"
             ],
             [
              0.3333333333333333,
              "#9c179e"
             ],
             [
              0.4444444444444444,
              "#bd3786"
             ],
             [
              0.5555555555555556,
              "#d8576b"
             ],
             [
              0.6666666666666666,
              "#ed7953"
             ],
             [
              0.7777777777777778,
              "#fb9f3a"
             ],
             [
              0.8888888888888888,
              "#fdca26"
             ],
             [
              1,
              "#f0f921"
             ]
            ],
            "type": "surface"
           }
          ],
          "table": [
           {
            "cells": {
             "fill": {
              "color": "#EBF0F8"
             },
             "line": {
              "color": "white"
             }
            },
            "header": {
             "fill": {
              "color": "#C8D4E3"
             },
             "line": {
              "color": "white"
             }
            },
            "type": "table"
           }
          ]
         },
         "layout": {
          "annotationdefaults": {
           "arrowcolor": "#2a3f5f",
           "arrowhead": 0,
           "arrowwidth": 1
          },
          "coloraxis": {
           "colorbar": {
            "outlinewidth": 0,
            "ticks": ""
           }
          },
          "colorscale": {
           "diverging": [
            [
             0,
             "#8e0152"
            ],
            [
             0.1,
             "#c51b7d"
            ],
            [
             0.2,
             "#de77ae"
            ],
            [
             0.3,
             "#f1b6da"
            ],
            [
             0.4,
             "#fde0ef"
            ],
            [
             0.5,
             "#f7f7f7"
            ],
            [
             0.6,
             "#e6f5d0"
            ],
            [
             0.7,
             "#b8e186"
            ],
            [
             0.8,
             "#7fbc41"
            ],
            [
             0.9,
             "#4d9221"
            ],
            [
             1,
             "#276419"
            ]
           ],
           "sequential": [
            [
             0,
             "#0d0887"
            ],
            [
             0.1111111111111111,
             "#46039f"
            ],
            [
             0.2222222222222222,
             "#7201a8"
            ],
            [
             0.3333333333333333,
             "#9c179e"
            ],
            [
             0.4444444444444444,
             "#bd3786"
            ],
            [
             0.5555555555555556,
             "#d8576b"
            ],
            [
             0.6666666666666666,
             "#ed7953"
            ],
            [
             0.7777777777777778,
             "#fb9f3a"
            ],
            [
             0.8888888888888888,
             "#fdca26"
            ],
            [
             1,
             "#f0f921"
            ]
           ],
           "sequentialminus": [
            [
             0,
             "#0d0887"
            ],
            [
             0.1111111111111111,
             "#46039f"
            ],
            [
             0.2222222222222222,
             "#7201a8"
            ],
            [
             0.3333333333333333,
             "#9c179e"
            ],
            [
             0.4444444444444444,
             "#bd3786"
            ],
            [
             0.5555555555555556,
             "#d8576b"
            ],
            [
             0.6666666666666666,
             "#ed7953"
            ],
            [
             0.7777777777777778,
             "#fb9f3a"
            ],
            [
             0.8888888888888888,
             "#fdca26"
            ],
            [
             1,
             "#f0f921"
            ]
           ]
          },
          "colorway": [
           "#636efa",
           "#EF553B",
           "#00cc96",
           "#ab63fa",
           "#FFA15A",
           "#19d3f3",
           "#FF6692",
           "#B6E880",
           "#FF97FF",
           "#FECB52"
          ],
          "font": {
           "color": "#2a3f5f"
          },
          "geo": {
           "bgcolor": "white",
           "lakecolor": "white",
           "landcolor": "#E5ECF6",
           "showlakes": true,
           "showland": true,
           "subunitcolor": "white"
          },
          "hoverlabel": {
           "align": "left"
          },
          "hovermode": "closest",
          "mapbox": {
           "style": "light"
          },
          "paper_bgcolor": "white",
          "plot_bgcolor": "#E5ECF6",
          "polar": {
           "angularaxis": {
            "gridcolor": "white",
            "linecolor": "white",
            "ticks": ""
           },
           "bgcolor": "#E5ECF6",
           "radialaxis": {
            "gridcolor": "white",
            "linecolor": "white",
            "ticks": ""
           }
          },
          "scene": {
           "xaxis": {
            "backgroundcolor": "#E5ECF6",
            "gridcolor": "white",
            "gridwidth": 2,
            "linecolor": "white",
            "showbackground": true,
            "ticks": "",
            "zerolinecolor": "white"
           },
           "yaxis": {
            "backgroundcolor": "#E5ECF6",
            "gridcolor": "white",
            "gridwidth": 2,
            "linecolor": "white",
            "showbackground": true,
            "ticks": "",
            "zerolinecolor": "white"
           },
           "zaxis": {
            "backgroundcolor": "#E5ECF6",
            "gridcolor": "white",
            "gridwidth": 2,
            "linecolor": "white",
            "showbackground": true,
            "ticks": "",
            "zerolinecolor": "white"
           }
          },
          "shapedefaults": {
           "line": {
            "color": "#2a3f5f"
           }
          },
          "ternary": {
           "aaxis": {
            "gridcolor": "white",
            "linecolor": "white",
            "ticks": ""
           },
           "baxis": {
            "gridcolor": "white",
            "linecolor": "white",
            "ticks": ""
           },
           "bgcolor": "#E5ECF6",
           "caxis": {
            "gridcolor": "white",
            "linecolor": "white",
            "ticks": ""
           }
          },
          "title": {
           "x": 0.05
          },
          "xaxis": {
           "automargin": true,
           "gridcolor": "white",
           "linecolor": "white",
           "ticks": "",
           "title": {
            "standoff": 15
           },
           "zerolinecolor": "white",
           "zerolinewidth": 2
          },
          "yaxis": {
           "automargin": true,
           "gridcolor": "white",
           "linecolor": "white",
           "ticks": "",
           "title": {
            "standoff": 15
           },
           "zerolinecolor": "white",
           "zerolinewidth": 2
          }
         }
        },
        "title": {
         "text": "Всего текущих больных COVID-19 в России: 175978<br>(на дату: 2020-08-13)",
         "x": 0.5,
         "xanchor": "center",
         "y": 0.9,
         "yanchor": "bottom"
        },
        "width": 900
       }
      }
     },
     "metadata": {}
    }
   ],
   "source": [
    "\n",
    "\n",
    "fig = px.pie(df2, values='Remaining_ill', names='Region',color_discrete_sequence=px.colors.sequential.Rainbow,\n",
    "            title=f'Всего текущих больных COVID-19 в России: {df2.Remaining_ill.sum()}<br>'+\n",
    "            f'(на дату: {myday})'\n",
    "             ,\n",
    "            width = 900, height=1000)\n",
    "\n",
    "fig.update_traces(textinfo='percent+label')\n",
    "fig.update_layout(\n",
    "        \n",
    "                #  title=f'{my_region}: динамика текущих больных COVID-19 по дням<br>(изменение относительно предыдущего дня)',\n",
    "                  margin = {'t':150, 'b':0},\n",
    "                  title_x = 0.5,\n",
    "                  title_y= 0.9,\n",
    "                  title_xanchor = \"center\",\n",
    "                  title_yanchor = \"bottom\", \n",
    "                 # legend_x = 0.05,legend_y = 0.98,\n",
    "                     \n",
    ")\n",
    "\n",
    "fig.show()\n"
   ]
  },
  {
   "cell_type": "code",
   "execution_count": 28,
   "metadata": {},
   "outputs": [
    {
     "output_type": "display_data",
     "data": {
      "application/vnd.plotly.v1+json": {
       "config": {
        "plotlyServerURL": "https://plot.ly"
       },
       "data": [
        {
         "insidetextorientation": "radial",
         "labels": [
          "Регионы менее 1%",
          "Регионы менее 1%",
          "Регионы менее 1%",
          "Регионы менее 1%",
          "Регионы менее 1%",
          "Регионы менее 1%",
          "Регионы менее 1%",
          "Регионы менее 1%",
          "Регионы менее 1%",
          "Регионы менее 1%",
          "Регионы менее 1%",
          "Волгоградская обл.",
          "Регионы менее 1%",
          "Регионы менее 1%",
          "Регионы менее 1%",
          "Регионы менее 1%",
          "Регионы менее 1%",
          "Регионы менее 1%",
          "Регионы менее 1%",
          "Иркутская обл.",
          "Регионы менее 1%",
          "Регионы менее 1%",
          "Регионы менее 1%",
          "Регионы менее 1%",
          "Регионы менее 1%",
          "Регионы менее 1%",
          "Регионы менее 1%",
          "Регионы менее 1%",
          "Регионы менее 1%",
          "Регионы менее 1%",
          "Регионы менее 1%",
          "Регионы менее 1%",
          "Красноярский край",
          "Регионы менее 1%",
          "Регионы менее 1%",
          "Регионы менее 1%",
          "Регионы менее 1%",
          "Регионы менее 1%",
          "Регионы менее 1%",
          "Регионы менее 1%",
          "Регионы менее 1%",
          "Москва",
          "Московская обл.",
          "Мурманская обл.",
          "Регионы менее 1%",
          "Нижегородская обл.",
          "Регионы менее 1%",
          "Регионы менее 1%",
          "Омская обл.",
          "Регионы менее 1%",
          "Регионы менее 1%",
          "Регионы менее 1%",
          "Пермский край",
          "Регионы менее 1%",
          "Регионы менее 1%",
          "Ростовская обл.",
          "Регионы менее 1%",
          "Регионы менее 1%",
          "Санкт-Петербург",
          "Саратовская обл.",
          "Регионы менее 1%",
          "Регионы менее 1%",
          "Свердловская обл.",
          "Регионы менее 1%",
          "Регионы менее 1%",
          "Регионы менее 1%",
          "Ставропольский край",
          "Регионы менее 1%",
          "Регионы менее 1%",
          "Регионы менее 1%",
          "Регионы менее 1%",
          "Регионы менее 1%",
          "Регионы менее 1%",
          "Регионы менее 1%",
          "Регионы менее 1%",
          "Ульяновская обл.",
          "ХМАО – Югра",
          "Хабаровский край",
          "Регионы менее 1%",
          "Челябинская обл.",
          "Регионы менее 1%",
          "Чувашия",
          "Регионы менее 1%",
          "Регионы менее 1%",
          "Регионы менее 1%"
         ],
         "textinfo": "label+percent",
         "type": "pie",
         "values": [
          554,
          245,
          1627,
          435,
          755,
          838,
          1386,
          788,
          1394,
          584,
          452,
          3639,
          404,
          1718,
          528,
          57,
          255,
          1201,
          473,
          3937,
          326,
          582,
          893,
          1205,
          458,
          998,
          905,
          1362,
          792,
          1086,
          782,
          1237,
          2088,
          437,
          369,
          1119,
          1537,
          665,
          392,
          446,
          1082,
          52208,
          15270,
          3080,
          191,
          2764,
          1072,
          1226,
          2156,
          1535,
          1355,
          495,
          1785,
          1563,
          1080,
          2337,
          643,
          1676,
          6968,
          3955,
          869,
          1612,
          3782,
          66,
          346,
          1111,
          2852,
          1017,
          1104,
          833,
          1367,
          1042,
          843,
          492,
          411,
          2910,
          2425,
          2219,
          265,
          4404,
          700,
          2368,
          10,
          897,
          643
         ]
        }
       ],
       "layout": {
        "height": 900,
        "margin": {
         "b": 0,
         "t": 120
        },
        "template": {
         "data": {
          "bar": [
           {
            "error_x": {
             "color": "#2a3f5f"
            },
            "error_y": {
             "color": "#2a3f5f"
            },
            "marker": {
             "line": {
              "color": "#E5ECF6",
              "width": 0.5
             }
            },
            "type": "bar"
           }
          ],
          "barpolar": [
           {
            "marker": {
             "line": {
              "color": "#E5ECF6",
              "width": 0.5
             }
            },
            "type": "barpolar"
           }
          ],
          "carpet": [
           {
            "aaxis": {
             "endlinecolor": "#2a3f5f",
             "gridcolor": "white",
             "linecolor": "white",
             "minorgridcolor": "white",
             "startlinecolor": "#2a3f5f"
            },
            "baxis": {
             "endlinecolor": "#2a3f5f",
             "gridcolor": "white",
             "linecolor": "white",
             "minorgridcolor": "white",
             "startlinecolor": "#2a3f5f"
            },
            "type": "carpet"
           }
          ],
          "choropleth": [
           {
            "colorbar": {
             "outlinewidth": 0,
             "ticks": ""
            },
            "type": "choropleth"
           }
          ],
          "contour": [
           {
            "colorbar": {
             "outlinewidth": 0,
             "ticks": ""
            },
            "colorscale": [
             [
              0,
              "#0d0887"
             ],
             [
              0.1111111111111111,
              "#46039f"
             ],
             [
              0.2222222222222222,
              "#7201a8"
             ],
             [
              0.3333333333333333,
              "#9c179e"
             ],
             [
              0.4444444444444444,
              "#bd3786"
             ],
             [
              0.5555555555555556,
              "#d8576b"
             ],
             [
              0.6666666666666666,
              "#ed7953"
             ],
             [
              0.7777777777777778,
              "#fb9f3a"
             ],
             [
              0.8888888888888888,
              "#fdca26"
             ],
             [
              1,
              "#f0f921"
             ]
            ],
            "type": "contour"
           }
          ],
          "contourcarpet": [
           {
            "colorbar": {
             "outlinewidth": 0,
             "ticks": ""
            },
            "type": "contourcarpet"
           }
          ],
          "heatmap": [
           {
            "colorbar": {
             "outlinewidth": 0,
             "ticks": ""
            },
            "colorscale": [
             [
              0,
              "#0d0887"
             ],
             [
              0.1111111111111111,
              "#46039f"
             ],
             [
              0.2222222222222222,
              "#7201a8"
             ],
             [
              0.3333333333333333,
              "#9c179e"
             ],
             [
              0.4444444444444444,
              "#bd3786"
             ],
             [
              0.5555555555555556,
              "#d8576b"
             ],
             [
              0.6666666666666666,
              "#ed7953"
             ],
             [
              0.7777777777777778,
              "#fb9f3a"
             ],
             [
              0.8888888888888888,
              "#fdca26"
             ],
             [
              1,
              "#f0f921"
             ]
            ],
            "type": "heatmap"
           }
          ],
          "heatmapgl": [
           {
            "colorbar": {
             "outlinewidth": 0,
             "ticks": ""
            },
            "colorscale": [
             [
              0,
              "#0d0887"
             ],
             [
              0.1111111111111111,
              "#46039f"
             ],
             [
              0.2222222222222222,
              "#7201a8"
             ],
             [
              0.3333333333333333,
              "#9c179e"
             ],
             [
              0.4444444444444444,
              "#bd3786"
             ],
             [
              0.5555555555555556,
              "#d8576b"
             ],
             [
              0.6666666666666666,
              "#ed7953"
             ],
             [
              0.7777777777777778,
              "#fb9f3a"
             ],
             [
              0.8888888888888888,
              "#fdca26"
             ],
             [
              1,
              "#f0f921"
             ]
            ],
            "type": "heatmapgl"
           }
          ],
          "histogram": [
           {
            "marker": {
             "colorbar": {
              "outlinewidth": 0,
              "ticks": ""
             }
            },
            "type": "histogram"
           }
          ],
          "histogram2d": [
           {
            "colorbar": {
             "outlinewidth": 0,
             "ticks": ""
            },
            "colorscale": [
             [
              0,
              "#0d0887"
             ],
             [
              0.1111111111111111,
              "#46039f"
             ],
             [
              0.2222222222222222,
              "#7201a8"
             ],
             [
              0.3333333333333333,
              "#9c179e"
             ],
             [
              0.4444444444444444,
              "#bd3786"
             ],
             [
              0.5555555555555556,
              "#d8576b"
             ],
             [
              0.6666666666666666,
              "#ed7953"
             ],
             [
              0.7777777777777778,
              "#fb9f3a"
             ],
             [
              0.8888888888888888,
              "#fdca26"
             ],
             [
              1,
              "#f0f921"
             ]
            ],
            "type": "histogram2d"
           }
          ],
          "histogram2dcontour": [
           {
            "colorbar": {
             "outlinewidth": 0,
             "ticks": ""
            },
            "colorscale": [
             [
              0,
              "#0d0887"
             ],
             [
              0.1111111111111111,
              "#46039f"
             ],
             [
              0.2222222222222222,
              "#7201a8"
             ],
             [
              0.3333333333333333,
              "#9c179e"
             ],
             [
              0.4444444444444444,
              "#bd3786"
             ],
             [
              0.5555555555555556,
              "#d8576b"
             ],
             [
              0.6666666666666666,
              "#ed7953"
             ],
             [
              0.7777777777777778,
              "#fb9f3a"
             ],
             [
              0.8888888888888888,
              "#fdca26"
             ],
             [
              1,
              "#f0f921"
             ]
            ],
            "type": "histogram2dcontour"
           }
          ],
          "mesh3d": [
           {
            "colorbar": {
             "outlinewidth": 0,
             "ticks": ""
            },
            "type": "mesh3d"
           }
          ],
          "parcoords": [
           {
            "line": {
             "colorbar": {
              "outlinewidth": 0,
              "ticks": ""
             }
            },
            "type": "parcoords"
           }
          ],
          "pie": [
           {
            "automargin": true,
            "type": "pie"
           }
          ],
          "scatter": [
           {
            "marker": {
             "colorbar": {
              "outlinewidth": 0,
              "ticks": ""
             }
            },
            "type": "scatter"
           }
          ],
          "scatter3d": [
           {
            "line": {
             "colorbar": {
              "outlinewidth": 0,
              "ticks": ""
             }
            },
            "marker": {
             "colorbar": {
              "outlinewidth": 0,
              "ticks": ""
             }
            },
            "type": "scatter3d"
           }
          ],
          "scattercarpet": [
           {
            "marker": {
             "colorbar": {
              "outlinewidth": 0,
              "ticks": ""
             }
            },
            "type": "scattercarpet"
           }
          ],
          "scattergeo": [
           {
            "marker": {
             "colorbar": {
              "outlinewidth": 0,
              "ticks": ""
             }
            },
            "type": "scattergeo"
           }
          ],
          "scattergl": [
           {
            "marker": {
             "colorbar": {
              "outlinewidth": 0,
              "ticks": ""
             }
            },
            "type": "scattergl"
           }
          ],
          "scattermapbox": [
           {
            "marker": {
             "colorbar": {
              "outlinewidth": 0,
              "ticks": ""
             }
            },
            "type": "scattermapbox"
           }
          ],
          "scatterpolar": [
           {
            "marker": {
             "colorbar": {
              "outlinewidth": 0,
              "ticks": ""
             }
            },
            "type": "scatterpolar"
           }
          ],
          "scatterpolargl": [
           {
            "marker": {
             "colorbar": {
              "outlinewidth": 0,
              "ticks": ""
             }
            },
            "type": "scatterpolargl"
           }
          ],
          "scatterternary": [
           {
            "marker": {
             "colorbar": {
              "outlinewidth": 0,
              "ticks": ""
             }
            },
            "type": "scatterternary"
           }
          ],
          "surface": [
           {
            "colorbar": {
             "outlinewidth": 0,
             "ticks": ""
            },
            "colorscale": [
             [
              0,
              "#0d0887"
             ],
             [
              0.1111111111111111,
              "#46039f"
             ],
             [
              0.2222222222222222,
              "#7201a8"
             ],
             [
              0.3333333333333333,
              "#9c179e"
             ],
             [
              0.4444444444444444,
              "#bd3786"
             ],
             [
              0.5555555555555556,
              "#d8576b"
             ],
             [
              0.6666666666666666,
              "#ed7953"
             ],
             [
              0.7777777777777778,
              "#fb9f3a"
             ],
             [
              0.8888888888888888,
              "#fdca26"
             ],
             [
              1,
              "#f0f921"
             ]
            ],
            "type": "surface"
           }
          ],
          "table": [
           {
            "cells": {
             "fill": {
              "color": "#EBF0F8"
             },
             "line": {
              "color": "white"
             }
            },
            "header": {
             "fill": {
              "color": "#C8D4E3"
             },
             "line": {
              "color": "white"
             }
            },
            "type": "table"
           }
          ]
         },
         "layout": {
          "annotationdefaults": {
           "arrowcolor": "#2a3f5f",
           "arrowhead": 0,
           "arrowwidth": 1
          },
          "coloraxis": {
           "colorbar": {
            "outlinewidth": 0,
            "ticks": ""
           }
          },
          "colorscale": {
           "diverging": [
            [
             0,
             "#8e0152"
            ],
            [
             0.1,
             "#c51b7d"
            ],
            [
             0.2,
             "#de77ae"
            ],
            [
             0.3,
             "#f1b6da"
            ],
            [
             0.4,
             "#fde0ef"
            ],
            [
             0.5,
             "#f7f7f7"
            ],
            [
             0.6,
             "#e6f5d0"
            ],
            [
             0.7,
             "#b8e186"
            ],
            [
             0.8,
             "#7fbc41"
            ],
            [
             0.9,
             "#4d9221"
            ],
            [
             1,
             "#276419"
            ]
           ],
           "sequential": [
            [
             0,
             "#0d0887"
            ],
            [
             0.1111111111111111,
             "#46039f"
            ],
            [
             0.2222222222222222,
             "#7201a8"
            ],
            [
             0.3333333333333333,
             "#9c179e"
            ],
            [
             0.4444444444444444,
             "#bd3786"
            ],
            [
             0.5555555555555556,
             "#d8576b"
            ],
            [
             0.6666666666666666,
             "#ed7953"
            ],
            [
             0.7777777777777778,
             "#fb9f3a"
            ],
            [
             0.8888888888888888,
             "#fdca26"
            ],
            [
             1,
             "#f0f921"
            ]
           ],
           "sequentialminus": [
            [
             0,
             "#0d0887"
            ],
            [
             0.1111111111111111,
             "#46039f"
            ],
            [
             0.2222222222222222,
             "#7201a8"
            ],
            [
             0.3333333333333333,
             "#9c179e"
            ],
            [
             0.4444444444444444,
             "#bd3786"
            ],
            [
             0.5555555555555556,
             "#d8576b"
            ],
            [
             0.6666666666666666,
             "#ed7953"
            ],
            [
             0.7777777777777778,
             "#fb9f3a"
            ],
            [
             0.8888888888888888,
             "#fdca26"
            ],
            [
             1,
             "#f0f921"
            ]
           ]
          },
          "colorway": [
           "#636efa",
           "#EF553B",
           "#00cc96",
           "#ab63fa",
           "#FFA15A",
           "#19d3f3",
           "#FF6692",
           "#B6E880",
           "#FF97FF",
           "#FECB52"
          ],
          "font": {
           "color": "#2a3f5f"
          },
          "geo": {
           "bgcolor": "white",
           "lakecolor": "white",
           "landcolor": "#E5ECF6",
           "showlakes": true,
           "showland": true,
           "subunitcolor": "white"
          },
          "hoverlabel": {
           "align": "left"
          },
          "hovermode": "closest",
          "mapbox": {
           "style": "light"
          },
          "paper_bgcolor": "white",
          "plot_bgcolor": "#E5ECF6",
          "polar": {
           "angularaxis": {
            "gridcolor": "white",
            "linecolor": "white",
            "ticks": ""
           },
           "bgcolor": "#E5ECF6",
           "radialaxis": {
            "gridcolor": "white",
            "linecolor": "white",
            "ticks": ""
           }
          },
          "scene": {
           "xaxis": {
            "backgroundcolor": "#E5ECF6",
            "gridcolor": "white",
            "gridwidth": 2,
            "linecolor": "white",
            "showbackground": true,
            "ticks": "",
            "zerolinecolor": "white"
           },
           "yaxis": {
            "backgroundcolor": "#E5ECF6",
            "gridcolor": "white",
            "gridwidth": 2,
            "linecolor": "white",
            "showbackground": true,
            "ticks": "",
            "zerolinecolor": "white"
           },
           "zaxis": {
            "backgroundcolor": "#E5ECF6",
            "gridcolor": "white",
            "gridwidth": 2,
            "linecolor": "white",
            "showbackground": true,
            "ticks": "",
            "zerolinecolor": "white"
           }
          },
          "shapedefaults": {
           "line": {
            "color": "#2a3f5f"
           }
          },
          "ternary": {
           "aaxis": {
            "gridcolor": "white",
            "linecolor": "white",
            "ticks": ""
           },
           "baxis": {
            "gridcolor": "white",
            "linecolor": "white",
            "ticks": ""
           },
           "bgcolor": "#E5ECF6",
           "caxis": {
            "gridcolor": "white",
            "linecolor": "white",
            "ticks": ""
           }
          },
          "title": {
           "x": 0.05
          },
          "xaxis": {
           "automargin": true,
           "gridcolor": "white",
           "linecolor": "white",
           "ticks": "",
           "title": {
            "standoff": 15
           },
           "zerolinecolor": "white",
           "zerolinewidth": 2
          },
          "yaxis": {
           "automargin": true,
           "gridcolor": "white",
           "linecolor": "white",
           "ticks": "",
           "title": {
            "standoff": 15
           },
           "zerolinecolor": "white",
           "zerolinewidth": 2
          }
         }
        },
        "title": {
         "text": "Всего текущих больных COVID-19 в России: 175978<br>(на дату: 2020-08-13)",
         "x": 0.5,
         "xanchor": "center",
         "y": 0.9,
         "yanchor": "bottom"
        },
        "width": 900
       }
      }
     },
     "metadata": {}
    }
   ],
   "source": [
    "fig_r8 = go.Figure(data=[go.Pie(labels=df2.Region, values=df2.Remaining_ill, textinfo='label+percent',\n",
    "                             insidetextorientation='radial'\n",
    "                            )])\n",
    "fig_r8.update_layout(\n",
    "                title=f'Всего текущих больных COVID-19 в России: {df2.Remaining_ill.sum()}<br>'+\n",
    "                f'(на дату: {myday})',\n",
    "                 margin = {'t':120, 'b':0},\n",
    "                  title_x = 0.5,\n",
    "                  title_y= 0.9,\n",
    "                  width = 900, height=900,\n",
    "                  title_xanchor = \"center\",\n",
    "                  title_yanchor = \"bottom\")\n",
    "fig_r8.show()"
   ]
  },
  {
   "cell_type": "code",
   "execution_count": null,
   "metadata": {},
   "outputs": [],
   "source": []
  },
  {
   "cell_type": "code",
   "execution_count": 29,
   "metadata": {
    "tags": []
   },
   "outputs": [
    {
     "output_type": "stream",
     "name": "stdout",
     "text": "42 Москва\n43 Московская обл.\n56 Россия\n60 Санкт-Петербург\n61 Саратовская обл.\n81 Челябинская обл.\n"
    }
   ],
   "source": [
    "covid_rates = pd.DataFrame()\n",
    "mask = (X.Date>=datetime.date(2020,8,3))&(X.Date<=datetime.date(2020,8,10))&(X.Region.isin(regions_towatch))&(X.Region!='Россия')\n",
    "                                      \n",
    "box_cases1 = X[mask].groupby(['Region','Date'])['Day_confirmed'].sum()\n",
    "box_cases2 = X[mask].groupby(['Region','Date'])['Day_recovered'].sum()\n",
    "for i in regions_dict.keys():\n",
    "    if regions_dict.get(i) in regions_towatch:\n",
    "        print(i,regions_dict.get(i))"
   ]
  },
  {
   "cell_type": "code",
   "execution_count": 30,
   "metadata": {},
   "outputs": [
    {
     "output_type": "execute_result",
     "data": {
      "text/plain": "Region      Москва  Московская обл.  Санкт-Петербург  Саратовская обл.  \\\nDate                                                                     \n2020-08-03     693              160              160                94   \n2020-08-04     691              161              158                93   \n2020-08-05     687              162              156                94   \n2020-08-06     684              159              159                90   \n2020-08-07     686              158              157                94   \n2020-08-08     691              161              155                95   \n2020-08-09     689              149              160                96   \n2020-08-10     694              153              157                95   \n\nRegion      Челябинская обл.  \nDate                          \n2020-08-03               107  \n2020-08-04               105  \n2020-08-05               103  \n2020-08-06                92  \n2020-08-07                89  \n2020-08-08                87  \n2020-08-09                94  \n2020-08-10                83  ",
      "text/html": "<div>\n<style scoped>\n    .dataframe tbody tr th:only-of-type {\n        vertical-align: middle;\n    }\n\n    .dataframe tbody tr th {\n        vertical-align: top;\n    }\n\n    .dataframe thead th {\n        text-align: right;\n    }\n</style>\n<table border=\"1\" class=\"dataframe\">\n  <thead>\n    <tr style=\"text-align: right;\">\n      <th>Region</th>\n      <th>Москва</th>\n      <th>Московская обл.</th>\n      <th>Санкт-Петербург</th>\n      <th>Саратовская обл.</th>\n      <th>Челябинская обл.</th>\n    </tr>\n    <tr>\n      <th>Date</th>\n      <th></th>\n      <th></th>\n      <th></th>\n      <th></th>\n      <th></th>\n    </tr>\n  </thead>\n  <tbody>\n    <tr>\n      <th>2020-08-03</th>\n      <td>693</td>\n      <td>160</td>\n      <td>160</td>\n      <td>94</td>\n      <td>107</td>\n    </tr>\n    <tr>\n      <th>2020-08-04</th>\n      <td>691</td>\n      <td>161</td>\n      <td>158</td>\n      <td>93</td>\n      <td>105</td>\n    </tr>\n    <tr>\n      <th>2020-08-05</th>\n      <td>687</td>\n      <td>162</td>\n      <td>156</td>\n      <td>94</td>\n      <td>103</td>\n    </tr>\n    <tr>\n      <th>2020-08-06</th>\n      <td>684</td>\n      <td>159</td>\n      <td>159</td>\n      <td>90</td>\n      <td>92</td>\n    </tr>\n    <tr>\n      <th>2020-08-07</th>\n      <td>686</td>\n      <td>158</td>\n      <td>157</td>\n      <td>94</td>\n      <td>89</td>\n    </tr>\n    <tr>\n      <th>2020-08-08</th>\n      <td>691</td>\n      <td>161</td>\n      <td>155</td>\n      <td>95</td>\n      <td>87</td>\n    </tr>\n    <tr>\n      <th>2020-08-09</th>\n      <td>689</td>\n      <td>149</td>\n      <td>160</td>\n      <td>96</td>\n      <td>94</td>\n    </tr>\n    <tr>\n      <th>2020-08-10</th>\n      <td>694</td>\n      <td>153</td>\n      <td>157</td>\n      <td>95</td>\n      <td>83</td>\n    </tr>\n  </tbody>\n</table>\n</div>"
     },
     "metadata": {},
     "execution_count": 30
    }
   ],
   "source": [
    "new_df1=box_cases1.unstack().T\n",
    "new_df1.tail(20)"
   ]
  },
  {
   "cell_type": "code",
   "execution_count": 31,
   "metadata": {},
   "outputs": [
    {
     "output_type": "display_data",
     "data": {
      "application/vnd.plotly.v1+json": {
       "config": {
        "plotlyServerURL": "https://plot.ly"
       },
       "data": [
        {
         "boxmean": true,
         "marker": {
          "color": "red"
         },
         "name": "Москва",
         "type": "box",
         "x": [
          693,
          691,
          687,
          684,
          686,
          691,
          689,
          694
         ]
        },
        {
         "boxmean": true,
         "marker": {
          "color": "magenta"
         },
         "name": "Московская обл.",
         "type": "box",
         "x": [
          160,
          161,
          162,
          159,
          158,
          161,
          149,
          153
         ]
        },
        {
         "boxmean": true,
         "marker": {
          "color": "goldenrod"
         },
         "name": "Санкт-Петербург",
         "type": "box",
         "x": [
          160,
          158,
          156,
          159,
          157,
          155,
          160,
          157
         ]
        },
        {
         "boxmean": true,
         "name": "Саратовская обл.",
         "type": "box",
         "x": [
          94,
          93,
          94,
          90,
          94,
          95,
          96,
          95
         ]
        },
        {
         "boxmean": true,
         "marker": {
          "color": "indianred"
         },
         "name": "Челябинская обл.",
         "type": "box",
         "x": [
          107,
          105,
          103,
          92,
          89,
          87,
          94,
          83
         ]
        }
       ],
       "layout": {
        "height": 600,
        "template": {
         "data": {
          "bar": [
           {
            "error_x": {
             "color": "#2a3f5f"
            },
            "error_y": {
             "color": "#2a3f5f"
            },
            "marker": {
             "line": {
              "color": "#E5ECF6",
              "width": 0.5
             }
            },
            "type": "bar"
           }
          ],
          "barpolar": [
           {
            "marker": {
             "line": {
              "color": "#E5ECF6",
              "width": 0.5
             }
            },
            "type": "barpolar"
           }
          ],
          "carpet": [
           {
            "aaxis": {
             "endlinecolor": "#2a3f5f",
             "gridcolor": "white",
             "linecolor": "white",
             "minorgridcolor": "white",
             "startlinecolor": "#2a3f5f"
            },
            "baxis": {
             "endlinecolor": "#2a3f5f",
             "gridcolor": "white",
             "linecolor": "white",
             "minorgridcolor": "white",
             "startlinecolor": "#2a3f5f"
            },
            "type": "carpet"
           }
          ],
          "choropleth": [
           {
            "colorbar": {
             "outlinewidth": 0,
             "ticks": ""
            },
            "type": "choropleth"
           }
          ],
          "contour": [
           {
            "colorbar": {
             "outlinewidth": 0,
             "ticks": ""
            },
            "colorscale": [
             [
              0,
              "#0d0887"
             ],
             [
              0.1111111111111111,
              "#46039f"
             ],
             [
              0.2222222222222222,
              "#7201a8"
             ],
             [
              0.3333333333333333,
              "#9c179e"
             ],
             [
              0.4444444444444444,
              "#bd3786"
             ],
             [
              0.5555555555555556,
              "#d8576b"
             ],
             [
              0.6666666666666666,
              "#ed7953"
             ],
             [
              0.7777777777777778,
              "#fb9f3a"
             ],
             [
              0.8888888888888888,
              "#fdca26"
             ],
             [
              1,
              "#f0f921"
             ]
            ],
            "type": "contour"
           }
          ],
          "contourcarpet": [
           {
            "colorbar": {
             "outlinewidth": 0,
             "ticks": ""
            },
            "type": "contourcarpet"
           }
          ],
          "heatmap": [
           {
            "colorbar": {
             "outlinewidth": 0,
             "ticks": ""
            },
            "colorscale": [
             [
              0,
              "#0d0887"
             ],
             [
              0.1111111111111111,
              "#46039f"
             ],
             [
              0.2222222222222222,
              "#7201a8"
             ],
             [
              0.3333333333333333,
              "#9c179e"
             ],
             [
              0.4444444444444444,
              "#bd3786"
             ],
             [
              0.5555555555555556,
              "#d8576b"
             ],
             [
              0.6666666666666666,
              "#ed7953"
             ],
             [
              0.7777777777777778,
              "#fb9f3a"
             ],
             [
              0.8888888888888888,
              "#fdca26"
             ],
             [
              1,
              "#f0f921"
             ]
            ],
            "type": "heatmap"
           }
          ],
          "heatmapgl": [
           {
            "colorbar": {
             "outlinewidth": 0,
             "ticks": ""
            },
            "colorscale": [
             [
              0,
              "#0d0887"
             ],
             [
              0.1111111111111111,
              "#46039f"
             ],
             [
              0.2222222222222222,
              "#7201a8"
             ],
             [
              0.3333333333333333,
              "#9c179e"
             ],
             [
              0.4444444444444444,
              "#bd3786"
             ],
             [
              0.5555555555555556,
              "#d8576b"
             ],
             [
              0.6666666666666666,
              "#ed7953"
             ],
             [
              0.7777777777777778,
              "#fb9f3a"
             ],
             [
              0.8888888888888888,
              "#fdca26"
             ],
             [
              1,
              "#f0f921"
             ]
            ],
            "type": "heatmapgl"
           }
          ],
          "histogram": [
           {
            "marker": {
             "colorbar": {
              "outlinewidth": 0,
              "ticks": ""
             }
            },
            "type": "histogram"
           }
          ],
          "histogram2d": [
           {
            "colorbar": {
             "outlinewidth": 0,
             "ticks": ""
            },
            "colorscale": [
             [
              0,
              "#0d0887"
             ],
             [
              0.1111111111111111,
              "#46039f"
             ],
             [
              0.2222222222222222,
              "#7201a8"
             ],
             [
              0.3333333333333333,
              "#9c179e"
             ],
             [
              0.4444444444444444,
              "#bd3786"
             ],
             [
              0.5555555555555556,
              "#d8576b"
             ],
             [
              0.6666666666666666,
              "#ed7953"
             ],
             [
              0.7777777777777778,
              "#fb9f3a"
             ],
             [
              0.8888888888888888,
              "#fdca26"
             ],
             [
              1,
              "#f0f921"
             ]
            ],
            "type": "histogram2d"
           }
          ],
          "histogram2dcontour": [
           {
            "colorbar": {
             "outlinewidth": 0,
             "ticks": ""
            },
            "colorscale": [
             [
              0,
              "#0d0887"
             ],
             [
              0.1111111111111111,
              "#46039f"
             ],
             [
              0.2222222222222222,
              "#7201a8"
             ],
             [
              0.3333333333333333,
              "#9c179e"
             ],
             [
              0.4444444444444444,
              "#bd3786"
             ],
             [
              0.5555555555555556,
              "#d8576b"
             ],
             [
              0.6666666666666666,
              "#ed7953"
             ],
             [
              0.7777777777777778,
              "#fb9f3a"
             ],
             [
              0.8888888888888888,
              "#fdca26"
             ],
             [
              1,
              "#f0f921"
             ]
            ],
            "type": "histogram2dcontour"
           }
          ],
          "mesh3d": [
           {
            "colorbar": {
             "outlinewidth": 0,
             "ticks": ""
            },
            "type": "mesh3d"
           }
          ],
          "parcoords": [
           {
            "line": {
             "colorbar": {
              "outlinewidth": 0,
              "ticks": ""
             }
            },
            "type": "parcoords"
           }
          ],
          "pie": [
           {
            "automargin": true,
            "type": "pie"
           }
          ],
          "scatter": [
           {
            "marker": {
             "colorbar": {
              "outlinewidth": 0,
              "ticks": ""
             }
            },
            "type": "scatter"
           }
          ],
          "scatter3d": [
           {
            "line": {
             "colorbar": {
              "outlinewidth": 0,
              "ticks": ""
             }
            },
            "marker": {
             "colorbar": {
              "outlinewidth": 0,
              "ticks": ""
             }
            },
            "type": "scatter3d"
           }
          ],
          "scattercarpet": [
           {
            "marker": {
             "colorbar": {
              "outlinewidth": 0,
              "ticks": ""
             }
            },
            "type": "scattercarpet"
           }
          ],
          "scattergeo": [
           {
            "marker": {
             "colorbar": {
              "outlinewidth": 0,
              "ticks": ""
             }
            },
            "type": "scattergeo"
           }
          ],
          "scattergl": [
           {
            "marker": {
             "colorbar": {
              "outlinewidth": 0,
              "ticks": ""
             }
            },
            "type": "scattergl"
           }
          ],
          "scattermapbox": [
           {
            "marker": {
             "colorbar": {
              "outlinewidth": 0,
              "ticks": ""
             }
            },
            "type": "scattermapbox"
           }
          ],
          "scatterpolar": [
           {
            "marker": {
             "colorbar": {
              "outlinewidth": 0,
              "ticks": ""
             }
            },
            "type": "scatterpolar"
           }
          ],
          "scatterpolargl": [
           {
            "marker": {
             "colorbar": {
              "outlinewidth": 0,
              "ticks": ""
             }
            },
            "type": "scatterpolargl"
           }
          ],
          "scatterternary": [
           {
            "marker": {
             "colorbar": {
              "outlinewidth": 0,
              "ticks": ""
             }
            },
            "type": "scatterternary"
           }
          ],
          "surface": [
           {
            "colorbar": {
             "outlinewidth": 0,
             "ticks": ""
            },
            "colorscale": [
             [
              0,
              "#0d0887"
             ],
             [
              0.1111111111111111,
              "#46039f"
             ],
             [
              0.2222222222222222,
              "#7201a8"
             ],
             [
              0.3333333333333333,
              "#9c179e"
             ],
             [
              0.4444444444444444,
              "#bd3786"
             ],
             [
              0.5555555555555556,
              "#d8576b"
             ],
             [
              0.6666666666666666,
              "#ed7953"
             ],
             [
              0.7777777777777778,
              "#fb9f3a"
             ],
             [
              0.8888888888888888,
              "#fdca26"
             ],
             [
              1,
              "#f0f921"
             ]
            ],
            "type": "surface"
           }
          ],
          "table": [
           {
            "cells": {
             "fill": {
              "color": "#EBF0F8"
             },
             "line": {
              "color": "white"
             }
            },
            "header": {
             "fill": {
              "color": "#C8D4E3"
             },
             "line": {
              "color": "white"
             }
            },
            "type": "table"
           }
          ]
         },
         "layout": {
          "annotationdefaults": {
           "arrowcolor": "#2a3f5f",
           "arrowhead": 0,
           "arrowwidth": 1
          },
          "coloraxis": {
           "colorbar": {
            "outlinewidth": 0,
            "ticks": ""
           }
          },
          "colorscale": {
           "diverging": [
            [
             0,
             "#8e0152"
            ],
            [
             0.1,
             "#c51b7d"
            ],
            [
             0.2,
             "#de77ae"
            ],
            [
             0.3,
             "#f1b6da"
            ],
            [
             0.4,
             "#fde0ef"
            ],
            [
             0.5,
             "#f7f7f7"
            ],
            [
             0.6,
             "#e6f5d0"
            ],
            [
             0.7,
             "#b8e186"
            ],
            [
             0.8,
             "#7fbc41"
            ],
            [
             0.9,
             "#4d9221"
            ],
            [
             1,
             "#276419"
            ]
           ],
           "sequential": [
            [
             0,
             "#0d0887"
            ],
            [
             0.1111111111111111,
             "#46039f"
            ],
            [
             0.2222222222222222,
             "#7201a8"
            ],
            [
             0.3333333333333333,
             "#9c179e"
            ],
            [
             0.4444444444444444,
             "#bd3786"
            ],
            [
             0.5555555555555556,
             "#d8576b"
            ],
            [
             0.6666666666666666,
             "#ed7953"
            ],
            [
             0.7777777777777778,
             "#fb9f3a"
            ],
            [
             0.8888888888888888,
             "#fdca26"
            ],
            [
             1,
             "#f0f921"
            ]
           ],
           "sequentialminus": [
            [
             0,
             "#0d0887"
            ],
            [
             0.1111111111111111,
             "#46039f"
            ],
            [
             0.2222222222222222,
             "#7201a8"
            ],
            [
             0.3333333333333333,
             "#9c179e"
            ],
            [
             0.4444444444444444,
             "#bd3786"
            ],
            [
             0.5555555555555556,
             "#d8576b"
            ],
            [
             0.6666666666666666,
             "#ed7953"
            ],
            [
             0.7777777777777778,
             "#fb9f3a"
            ],
            [
             0.8888888888888888,
             "#fdca26"
            ],
            [
             1,
             "#f0f921"
            ]
           ]
          },
          "colorway": [
           "#636efa",
           "#EF553B",
           "#00cc96",
           "#ab63fa",
           "#FFA15A",
           "#19d3f3",
           "#FF6692",
           "#B6E880",
           "#FF97FF",
           "#FECB52"
          ],
          "font": {
           "color": "#2a3f5f"
          },
          "geo": {
           "bgcolor": "white",
           "lakecolor": "white",
           "landcolor": "#E5ECF6",
           "showlakes": true,
           "showland": true,
           "subunitcolor": "white"
          },
          "hoverlabel": {
           "align": "left"
          },
          "hovermode": "closest",
          "mapbox": {
           "style": "light"
          },
          "paper_bgcolor": "white",
          "plot_bgcolor": "#E5ECF6",
          "polar": {
           "angularaxis": {
            "gridcolor": "white",
            "linecolor": "white",
            "ticks": ""
           },
           "bgcolor": "#E5ECF6",
           "radialaxis": {
            "gridcolor": "white",
            "linecolor": "white",
            "ticks": ""
           }
          },
          "scene": {
           "xaxis": {
            "backgroundcolor": "#E5ECF6",
            "gridcolor": "white",
            "gridwidth": 2,
            "linecolor": "white",
            "showbackground": true,
            "ticks": "",
            "zerolinecolor": "white"
           },
           "yaxis": {
            "backgroundcolor": "#E5ECF6",
            "gridcolor": "white",
            "gridwidth": 2,
            "linecolor": "white",
            "showbackground": true,
            "ticks": "",
            "zerolinecolor": "white"
           },
           "zaxis": {
            "backgroundcolor": "#E5ECF6",
            "gridcolor": "white",
            "gridwidth": 2,
            "linecolor": "white",
            "showbackground": true,
            "ticks": "",
            "zerolinecolor": "white"
           }
          },
          "shapedefaults": {
           "line": {
            "color": "#2a3f5f"
           }
          },
          "ternary": {
           "aaxis": {
            "gridcolor": "white",
            "linecolor": "white",
            "ticks": ""
           },
           "baxis": {
            "gridcolor": "white",
            "linecolor": "white",
            "ticks": ""
           },
           "bgcolor": "#E5ECF6",
           "caxis": {
            "gridcolor": "white",
            "linecolor": "white",
            "ticks": ""
           }
          },
          "title": {
           "x": 0.05
          },
          "xaxis": {
           "automargin": true,
           "gridcolor": "white",
           "linecolor": "white",
           "ticks": "",
           "title": {
            "standoff": 15
           },
           "zerolinecolor": "white",
           "zerolinewidth": 2
          },
          "yaxis": {
           "automargin": true,
           "gridcolor": "white",
           "linecolor": "white",
           "ticks": "",
           "title": {
            "standoff": 15
           },
           "zerolinecolor": "white",
           "zerolinewidth": 2
          }
         }
        },
        "title": {
         "text": "Статистика по новым заболевшим за последнюю неделю",
         "x": 0.5,
         "xanchor": "center",
         "y": 0.9,
         "yanchor": "top"
        },
        "width": 990,
        "xaxis": {
         "title": {
          "text": "Новые заболевшие"
         }
        },
        "yaxis": {
         "title": {
          "text": "Регионы"
         }
        }
       }
      }
     },
     "metadata": {}
    }
   ],
   "source": [
    "color_dict = {\n",
    "                \"Москва\": \"red\",\n",
    "                \"Московская обл.\": \"magenta\",\n",
    "                \"Санкт-Петербург\": \"goldenrod\",\n",
    "                \"Иркутская обл.\": \"darkblue\",\n",
    "                \"Свердловская обл.\": \"green\",\n",
    "                 'Челябинская обл.': 'indianred'}\n",
    "\n",
    "cols = list(new_df1.columns)\n",
    "#cols = cols[:-1]\n",
    "\n",
    "fig = go.Figure()\n",
    "for i in cols:\n",
    "    fig.add_trace(\n",
    "    go.Box(x=new_df1[i],name = i,boxmean = True,marker_color = color_dict.get(i)))\n",
    "\n",
    "fig.update_layout(title_text=\"Статистика по новым заболевшим за последнюю неделю\",\n",
    "                  title_x = 0.5,\n",
    "                  title_y= 0.9,\n",
    "                  title_xanchor = \"center\",\n",
    "                  title_yanchor = \"top\",\n",
    "                  xaxis_title='Новые заболевшие', yaxis_title='Регионы',width = 990, height = 600)\n",
    "fig.show()"
   ]
  },
  {
   "cell_type": "code",
   "execution_count": 32,
   "metadata": {},
   "outputs": [
    {
     "output_type": "execute_result",
     "data": {
      "text/plain": "Region      Москва  Московская обл.  Санкт-Петербург  Саратовская обл.  \\\nDate                                                                     \n2020-08-03     842              197               75                35   \n2020-08-04    1456              207               85                85   \n2020-08-05    1329              191               37               107   \n2020-08-06    1254              189               84                80   \n2020-08-07    1353              194               93                72   \n2020-08-08    1278              191               83                86   \n2020-08-09     803              176               33                20   \n2020-08-10     898              169               45                41   \n\nRegion      Челябинская обл.  \nDate                          \n2020-08-03                 3  \n2020-08-04               170  \n2020-08-05               142  \n2020-08-06               141  \n2020-08-07               120  \n2020-08-08               119  \n2020-08-09                29  \n2020-08-10                78  ",
      "text/html": "<div>\n<style scoped>\n    .dataframe tbody tr th:only-of-type {\n        vertical-align: middle;\n    }\n\n    .dataframe tbody tr th {\n        vertical-align: top;\n    }\n\n    .dataframe thead th {\n        text-align: right;\n    }\n</style>\n<table border=\"1\" class=\"dataframe\">\n  <thead>\n    <tr style=\"text-align: right;\">\n      <th>Region</th>\n      <th>Москва</th>\n      <th>Московская обл.</th>\n      <th>Санкт-Петербург</th>\n      <th>Саратовская обл.</th>\n      <th>Челябинская обл.</th>\n    </tr>\n    <tr>\n      <th>Date</th>\n      <th></th>\n      <th></th>\n      <th></th>\n      <th></th>\n      <th></th>\n    </tr>\n  </thead>\n  <tbody>\n    <tr>\n      <th>2020-08-03</th>\n      <td>842</td>\n      <td>197</td>\n      <td>75</td>\n      <td>35</td>\n      <td>3</td>\n    </tr>\n    <tr>\n      <th>2020-08-04</th>\n      <td>1456</td>\n      <td>207</td>\n      <td>85</td>\n      <td>85</td>\n      <td>170</td>\n    </tr>\n    <tr>\n      <th>2020-08-05</th>\n      <td>1329</td>\n      <td>191</td>\n      <td>37</td>\n      <td>107</td>\n      <td>142</td>\n    </tr>\n    <tr>\n      <th>2020-08-06</th>\n      <td>1254</td>\n      <td>189</td>\n      <td>84</td>\n      <td>80</td>\n      <td>141</td>\n    </tr>\n    <tr>\n      <th>2020-08-07</th>\n      <td>1353</td>\n      <td>194</td>\n      <td>93</td>\n      <td>72</td>\n      <td>120</td>\n    </tr>\n    <tr>\n      <th>2020-08-08</th>\n      <td>1278</td>\n      <td>191</td>\n      <td>83</td>\n      <td>86</td>\n      <td>119</td>\n    </tr>\n    <tr>\n      <th>2020-08-09</th>\n      <td>803</td>\n      <td>176</td>\n      <td>33</td>\n      <td>20</td>\n      <td>29</td>\n    </tr>\n    <tr>\n      <th>2020-08-10</th>\n      <td>898</td>\n      <td>169</td>\n      <td>45</td>\n      <td>41</td>\n      <td>78</td>\n    </tr>\n  </tbody>\n</table>\n</div>"
     },
     "metadata": {},
     "execution_count": 32
    }
   ],
   "source": [
    "new_df2=box_cases2.unstack().T\n",
    "new_df2.tail(20)"
   ]
  },
  {
   "cell_type": "code",
   "execution_count": 33,
   "metadata": {},
   "outputs": [
    {
     "output_type": "display_data",
     "data": {
      "application/vnd.plotly.v1+json": {
       "config": {
        "plotlyServerURL": "https://plot.ly"
       },
       "data": [
        {
         "boxmean": true,
         "marker": {
          "color": "red"
         },
         "name": "Москва",
         "type": "box",
         "x": [
          842,
          1456,
          1329,
          1254,
          1353,
          1278,
          803,
          898
         ]
        },
        {
         "boxmean": true,
         "marker": {
          "color": "magenta"
         },
         "name": "Московская обл.",
         "type": "box",
         "x": [
          197,
          207,
          191,
          189,
          194,
          191,
          176,
          169
         ]
        },
        {
         "boxmean": true,
         "marker": {
          "color": "goldenrod"
         },
         "name": "Санкт-Петербург",
         "type": "box",
         "x": [
          75,
          85,
          37,
          84,
          93,
          83,
          33,
          45
         ]
        },
        {
         "boxmean": true,
         "name": "Саратовская обл.",
         "type": "box",
         "x": [
          35,
          85,
          107,
          80,
          72,
          86,
          20,
          41
         ]
        },
        {
         "boxmean": true,
         "marker": {
          "color": "indianred"
         },
         "name": "Челябинская обл.",
         "type": "box",
         "x": [
          3,
          170,
          142,
          141,
          120,
          119,
          29,
          78
         ]
        }
       ],
       "layout": {
        "height": 600,
        "template": {
         "data": {
          "bar": [
           {
            "error_x": {
             "color": "#2a3f5f"
            },
            "error_y": {
             "color": "#2a3f5f"
            },
            "marker": {
             "line": {
              "color": "#E5ECF6",
              "width": 0.5
             }
            },
            "type": "bar"
           }
          ],
          "barpolar": [
           {
            "marker": {
             "line": {
              "color": "#E5ECF6",
              "width": 0.5
             }
            },
            "type": "barpolar"
           }
          ],
          "carpet": [
           {
            "aaxis": {
             "endlinecolor": "#2a3f5f",
             "gridcolor": "white",
             "linecolor": "white",
             "minorgridcolor": "white",
             "startlinecolor": "#2a3f5f"
            },
            "baxis": {
             "endlinecolor": "#2a3f5f",
             "gridcolor": "white",
             "linecolor": "white",
             "minorgridcolor": "white",
             "startlinecolor": "#2a3f5f"
            },
            "type": "carpet"
           }
          ],
          "choropleth": [
           {
            "colorbar": {
             "outlinewidth": 0,
             "ticks": ""
            },
            "type": "choropleth"
           }
          ],
          "contour": [
           {
            "colorbar": {
             "outlinewidth": 0,
             "ticks": ""
            },
            "colorscale": [
             [
              0,
              "#0d0887"
             ],
             [
              0.1111111111111111,
              "#46039f"
             ],
             [
              0.2222222222222222,
              "#7201a8"
             ],
             [
              0.3333333333333333,
              "#9c179e"
             ],
             [
              0.4444444444444444,
              "#bd3786"
             ],
             [
              0.5555555555555556,
              "#d8576b"
             ],
             [
              0.6666666666666666,
              "#ed7953"
             ],
             [
              0.7777777777777778,
              "#fb9f3a"
             ],
             [
              0.8888888888888888,
              "#fdca26"
             ],
             [
              1,
              "#f0f921"
             ]
            ],
            "type": "contour"
           }
          ],
          "contourcarpet": [
           {
            "colorbar": {
             "outlinewidth": 0,
             "ticks": ""
            },
            "type": "contourcarpet"
           }
          ],
          "heatmap": [
           {
            "colorbar": {
             "outlinewidth": 0,
             "ticks": ""
            },
            "colorscale": [
             [
              0,
              "#0d0887"
             ],
             [
              0.1111111111111111,
              "#46039f"
             ],
             [
              0.2222222222222222,
              "#7201a8"
             ],
             [
              0.3333333333333333,
              "#9c179e"
             ],
             [
              0.4444444444444444,
              "#bd3786"
             ],
             [
              0.5555555555555556,
              "#d8576b"
             ],
             [
              0.6666666666666666,
              "#ed7953"
             ],
             [
              0.7777777777777778,
              "#fb9f3a"
             ],
             [
              0.8888888888888888,
              "#fdca26"
             ],
             [
              1,
              "#f0f921"
             ]
            ],
            "type": "heatmap"
           }
          ],
          "heatmapgl": [
           {
            "colorbar": {
             "outlinewidth": 0,
             "ticks": ""
            },
            "colorscale": [
             [
              0,
              "#0d0887"
             ],
             [
              0.1111111111111111,
              "#46039f"
             ],
             [
              0.2222222222222222,
              "#7201a8"
             ],
             [
              0.3333333333333333,
              "#9c179e"
             ],
             [
              0.4444444444444444,
              "#bd3786"
             ],
             [
              0.5555555555555556,
              "#d8576b"
             ],
             [
              0.6666666666666666,
              "#ed7953"
             ],
             [
              0.7777777777777778,
              "#fb9f3a"
             ],
             [
              0.8888888888888888,
              "#fdca26"
             ],
             [
              1,
              "#f0f921"
             ]
            ],
            "type": "heatmapgl"
           }
          ],
          "histogram": [
           {
            "marker": {
             "colorbar": {
              "outlinewidth": 0,
              "ticks": ""
             }
            },
            "type": "histogram"
           }
          ],
          "histogram2d": [
           {
            "colorbar": {
             "outlinewidth": 0,
             "ticks": ""
            },
            "colorscale": [
             [
              0,
              "#0d0887"
             ],
             [
              0.1111111111111111,
              "#46039f"
             ],
             [
              0.2222222222222222,
              "#7201a8"
             ],
             [
              0.3333333333333333,
              "#9c179e"
             ],
             [
              0.4444444444444444,
              "#bd3786"
             ],
             [
              0.5555555555555556,
              "#d8576b"
             ],
             [
              0.6666666666666666,
              "#ed7953"
             ],
             [
              0.7777777777777778,
              "#fb9f3a"
             ],
             [
              0.8888888888888888,
              "#fdca26"
             ],
             [
              1,
              "#f0f921"
             ]
            ],
            "type": "histogram2d"
           }
          ],
          "histogram2dcontour": [
           {
            "colorbar": {
             "outlinewidth": 0,
             "ticks": ""
            },
            "colorscale": [
             [
              0,
              "#0d0887"
             ],
             [
              0.1111111111111111,
              "#46039f"
             ],
             [
              0.2222222222222222,
              "#7201a8"
             ],
             [
              0.3333333333333333,
              "#9c179e"
             ],
             [
              0.4444444444444444,
              "#bd3786"
             ],
             [
              0.5555555555555556,
              "#d8576b"
             ],
             [
              0.6666666666666666,
              "#ed7953"
             ],
             [
              0.7777777777777778,
              "#fb9f3a"
             ],
             [
              0.8888888888888888,
              "#fdca26"
             ],
             [
              1,
              "#f0f921"
             ]
            ],
            "type": "histogram2dcontour"
           }
          ],
          "mesh3d": [
           {
            "colorbar": {
             "outlinewidth": 0,
             "ticks": ""
            },
            "type": "mesh3d"
           }
          ],
          "parcoords": [
           {
            "line": {
             "colorbar": {
              "outlinewidth": 0,
              "ticks": ""
             }
            },
            "type": "parcoords"
           }
          ],
          "pie": [
           {
            "automargin": true,
            "type": "pie"
           }
          ],
          "scatter": [
           {
            "marker": {
             "colorbar": {
              "outlinewidth": 0,
              "ticks": ""
             }
            },
            "type": "scatter"
           }
          ],
          "scatter3d": [
           {
            "line": {
             "colorbar": {
              "outlinewidth": 0,
              "ticks": ""
             }
            },
            "marker": {
             "colorbar": {
              "outlinewidth": 0,
              "ticks": ""
             }
            },
            "type": "scatter3d"
           }
          ],
          "scattercarpet": [
           {
            "marker": {
             "colorbar": {
              "outlinewidth": 0,
              "ticks": ""
             }
            },
            "type": "scattercarpet"
           }
          ],
          "scattergeo": [
           {
            "marker": {
             "colorbar": {
              "outlinewidth": 0,
              "ticks": ""
             }
            },
            "type": "scattergeo"
           }
          ],
          "scattergl": [
           {
            "marker": {
             "colorbar": {
              "outlinewidth": 0,
              "ticks": ""
             }
            },
            "type": "scattergl"
           }
          ],
          "scattermapbox": [
           {
            "marker": {
             "colorbar": {
              "outlinewidth": 0,
              "ticks": ""
             }
            },
            "type": "scattermapbox"
           }
          ],
          "scatterpolar": [
           {
            "marker": {
             "colorbar": {
              "outlinewidth": 0,
              "ticks": ""
             }
            },
            "type": "scatterpolar"
           }
          ],
          "scatterpolargl": [
           {
            "marker": {
             "colorbar": {
              "outlinewidth": 0,
              "ticks": ""
             }
            },
            "type": "scatterpolargl"
           }
          ],
          "scatterternary": [
           {
            "marker": {
             "colorbar": {
              "outlinewidth": 0,
              "ticks": ""
             }
            },
            "type": "scatterternary"
           }
          ],
          "surface": [
           {
            "colorbar": {
             "outlinewidth": 0,
             "ticks": ""
            },
            "colorscale": [
             [
              0,
              "#0d0887"
             ],
             [
              0.1111111111111111,
              "#46039f"
             ],
             [
              0.2222222222222222,
              "#7201a8"
             ],
             [
              0.3333333333333333,
              "#9c179e"
             ],
             [
              0.4444444444444444,
              "#bd3786"
             ],
             [
              0.5555555555555556,
              "#d8576b"
             ],
             [
              0.6666666666666666,
              "#ed7953"
             ],
             [
              0.7777777777777778,
              "#fb9f3a"
             ],
             [
              0.8888888888888888,
              "#fdca26"
             ],
             [
              1,
              "#f0f921"
             ]
            ],
            "type": "surface"
           }
          ],
          "table": [
           {
            "cells": {
             "fill": {
              "color": "#EBF0F8"
             },
             "line": {
              "color": "white"
             }
            },
            "header": {
             "fill": {
              "color": "#C8D4E3"
             },
             "line": {
              "color": "white"
             }
            },
            "type": "table"
           }
          ]
         },
         "layout": {
          "annotationdefaults": {
           "arrowcolor": "#2a3f5f",
           "arrowhead": 0,
           "arrowwidth": 1
          },
          "coloraxis": {
           "colorbar": {
            "outlinewidth": 0,
            "ticks": ""
           }
          },
          "colorscale": {
           "diverging": [
            [
             0,
             "#8e0152"
            ],
            [
             0.1,
             "#c51b7d"
            ],
            [
             0.2,
             "#de77ae"
            ],
            [
             0.3,
             "#f1b6da"
            ],
            [
             0.4,
             "#fde0ef"
            ],
            [
             0.5,
             "#f7f7f7"
            ],
            [
             0.6,
             "#e6f5d0"
            ],
            [
             0.7,
             "#b8e186"
            ],
            [
             0.8,
             "#7fbc41"
            ],
            [
             0.9,
             "#4d9221"
            ],
            [
             1,
             "#276419"
            ]
           ],
           "sequential": [
            [
             0,
             "#0d0887"
            ],
            [
             0.1111111111111111,
             "#46039f"
            ],
            [
             0.2222222222222222,
             "#7201a8"
            ],
            [
             0.3333333333333333,
             "#9c179e"
            ],
            [
             0.4444444444444444,
             "#bd3786"
            ],
            [
             0.5555555555555556,
             "#d8576b"
            ],
            [
             0.6666666666666666,
             "#ed7953"
            ],
            [
             0.7777777777777778,
             "#fb9f3a"
            ],
            [
             0.8888888888888888,
             "#fdca26"
            ],
            [
             1,
             "#f0f921"
            ]
           ],
           "sequentialminus": [
            [
             0,
             "#0d0887"
            ],
            [
             0.1111111111111111,
             "#46039f"
            ],
            [
             0.2222222222222222,
             "#7201a8"
            ],
            [
             0.3333333333333333,
             "#9c179e"
            ],
            [
             0.4444444444444444,
             "#bd3786"
            ],
            [
             0.5555555555555556,
             "#d8576b"
            ],
            [
             0.6666666666666666,
             "#ed7953"
            ],
            [
             0.7777777777777778,
             "#fb9f3a"
            ],
            [
             0.8888888888888888,
             "#fdca26"
            ],
            [
             1,
             "#f0f921"
            ]
           ]
          },
          "colorway": [
           "#636efa",
           "#EF553B",
           "#00cc96",
           "#ab63fa",
           "#FFA15A",
           "#19d3f3",
           "#FF6692",
           "#B6E880",
           "#FF97FF",
           "#FECB52"
          ],
          "font": {
           "color": "#2a3f5f"
          },
          "geo": {
           "bgcolor": "white",
           "lakecolor": "white",
           "landcolor": "#E5ECF6",
           "showlakes": true,
           "showland": true,
           "subunitcolor": "white"
          },
          "hoverlabel": {
           "align": "left"
          },
          "hovermode": "closest",
          "mapbox": {
           "style": "light"
          },
          "paper_bgcolor": "white",
          "plot_bgcolor": "#E5ECF6",
          "polar": {
           "angularaxis": {
            "gridcolor": "white",
            "linecolor": "white",
            "ticks": ""
           },
           "bgcolor": "#E5ECF6",
           "radialaxis": {
            "gridcolor": "white",
            "linecolor": "white",
            "ticks": ""
           }
          },
          "scene": {
           "xaxis": {
            "backgroundcolor": "#E5ECF6",
            "gridcolor": "white",
            "gridwidth": 2,
            "linecolor": "white",
            "showbackground": true,
            "ticks": "",
            "zerolinecolor": "white"
           },
           "yaxis": {
            "backgroundcolor": "#E5ECF6",
            "gridcolor": "white",
            "gridwidth": 2,
            "linecolor": "white",
            "showbackground": true,
            "ticks": "",
            "zerolinecolor": "white"
           },
           "zaxis": {
            "backgroundcolor": "#E5ECF6",
            "gridcolor": "white",
            "gridwidth": 2,
            "linecolor": "white",
            "showbackground": true,
            "ticks": "",
            "zerolinecolor": "white"
           }
          },
          "shapedefaults": {
           "line": {
            "color": "#2a3f5f"
           }
          },
          "ternary": {
           "aaxis": {
            "gridcolor": "white",
            "linecolor": "white",
            "ticks": ""
           },
           "baxis": {
            "gridcolor": "white",
            "linecolor": "white",
            "ticks": ""
           },
           "bgcolor": "#E5ECF6",
           "caxis": {
            "gridcolor": "white",
            "linecolor": "white",
            "ticks": ""
           }
          },
          "title": {
           "x": 0.05
          },
          "xaxis": {
           "automargin": true,
           "gridcolor": "white",
           "linecolor": "white",
           "ticks": "",
           "title": {
            "standoff": 15
           },
           "zerolinecolor": "white",
           "zerolinewidth": 2
          },
          "yaxis": {
           "automargin": true,
           "gridcolor": "white",
           "linecolor": "white",
           "ticks": "",
           "title": {
            "standoff": 15
           },
           "zerolinecolor": "white",
           "zerolinewidth": 2
          }
         }
        },
        "title": {
         "text": "Статистика по выздоровевшим за последнюю неделю",
         "x": 0.5,
         "xanchor": "center",
         "y": 0.9,
         "yanchor": "top"
        },
        "width": 990,
        "xaxis": {
         "title": {
          "text": "Выздоровевшие"
         }
        },
        "yaxis": {
         "title": {
          "text": "Регионы"
         }
        }
       }
      }
     },
     "metadata": {}
    }
   ],
   "source": [
    "\n",
    "cols = list(new_df2.columns)\n",
    "#cols = cols[:-1]\n",
    "\n",
    "fig = go.Figure()\n",
    "for i in cols:\n",
    "    fig.add_trace(\n",
    "    go.Box(x=new_df2[i],name = i,boxmean=True,marker_color = color_dict.get(i)))\n",
    "\n",
    "fig.update_layout(title_text=\"Статистика по выздоровевшим за последнюю неделю\",\n",
    "                  title_x = 0.5,\n",
    "                  title_y= 0.9,\n",
    "                  title_xanchor = \"center\",\n",
    "                  title_yanchor = \"top\",\n",
    "                  xaxis_title='Выздоровевшие', yaxis_title='Регионы',width = 990, height = 600)\n",
    "fig.show()"
   ]
  },
  {
   "cell_type": "code",
   "execution_count": 34,
   "metadata": {},
   "outputs": [
    {
     "output_type": "display_data",
     "data": {
      "application/vnd.plotly.v1+json": {
       "config": {
        "plotlyServerURL": "https://plot.ly"
       },
       "data": [
        {
         "boxmean": true,
         "marker": {
          "color": "red"
         },
         "name": "Москва",
         "type": "box",
         "x": [
          693,
          691,
          687,
          684,
          686,
          691,
          689,
          694
         ],
         "xaxis": "x",
         "yaxis": "y"
        },
        {
         "boxmean": true,
         "marker": {
          "color": "magenta"
         },
         "name": "Московская обл.",
         "type": "box",
         "x": [
          160,
          161,
          162,
          159,
          158,
          161,
          149,
          153
         ],
         "xaxis": "x",
         "yaxis": "y"
        },
        {
         "boxmean": true,
         "marker": {
          "color": "goldenrod"
         },
         "name": "Санкт-Петербург",
         "type": "box",
         "x": [
          160,
          158,
          156,
          159,
          157,
          155,
          160,
          157
         ],
         "xaxis": "x",
         "yaxis": "y"
        },
        {
         "boxmean": true,
         "name": "Саратовская обл.",
         "type": "box",
         "x": [
          94,
          93,
          94,
          90,
          94,
          95,
          96,
          95
         ],
         "xaxis": "x",
         "yaxis": "y"
        },
        {
         "boxmean": true,
         "marker": {
          "color": "indianred"
         },
         "name": "Челябинская обл.",
         "type": "box",
         "x": [
          107,
          105,
          103,
          92,
          89,
          87,
          94,
          83
         ],
         "xaxis": "x",
         "yaxis": "y"
        },
        {
         "boxmean": true,
         "marker": {
          "color": "red"
         },
         "name": "Москва",
         "type": "box",
         "x": [
          842,
          1456,
          1329,
          1254,
          1353,
          1278,
          803,
          898
         ],
         "xaxis": "x2",
         "yaxis": "y2"
        },
        {
         "boxmean": true,
         "marker": {
          "color": "magenta"
         },
         "name": "Московская обл.",
         "type": "box",
         "x": [
          197,
          207,
          191,
          189,
          194,
          191,
          176,
          169
         ],
         "xaxis": "x2",
         "yaxis": "y2"
        },
        {
         "boxmean": true,
         "marker": {
          "color": "goldenrod"
         },
         "name": "Санкт-Петербург",
         "type": "box",
         "x": [
          75,
          85,
          37,
          84,
          93,
          83,
          33,
          45
         ],
         "xaxis": "x2",
         "yaxis": "y2"
        },
        {
         "boxmean": true,
         "name": "Саратовская обл.",
         "type": "box",
         "x": [
          35,
          85,
          107,
          80,
          72,
          86,
          20,
          41
         ],
         "xaxis": "x2",
         "yaxis": "y2"
        },
        {
         "boxmean": true,
         "marker": {
          "color": "indianred"
         },
         "name": "Челябинская обл.",
         "type": "box",
         "x": [
          3,
          170,
          142,
          141,
          120,
          119,
          29,
          78
         ],
         "xaxis": "x2",
         "yaxis": "y2"
        }
       ],
       "layout": {
        "annotations": [
         {
          "font": {
           "size": 16
          },
          "showarrow": false,
          "text": "Box-график распределения по новым заболевшим(в день) за неделю:",
          "x": 0.5,
          "xanchor": "center",
          "xref": "paper",
          "y": 1,
          "yanchor": "bottom",
          "yref": "paper"
         },
         {
          "font": {
           "size": 16
          },
          "showarrow": false,
          "text": "Box-график распределения по выздоровевшим(в день) за неделю:",
          "x": 0.5,
          "xanchor": "center",
          "xref": "paper",
          "y": 0.485,
          "yanchor": "bottom",
          "yref": "paper"
         }
        ],
        "height": 1200,
        "showlegend": false,
        "template": {
         "data": {
          "bar": [
           {
            "error_x": {
             "color": "rgb(51,51,51)"
            },
            "error_y": {
             "color": "rgb(51,51,51)"
            },
            "marker": {
             "line": {
              "color": "rgb(237,237,237)",
              "width": 0.5
             }
            },
            "type": "bar"
           }
          ],
          "barpolar": [
           {
            "marker": {
             "line": {
              "color": "rgb(237,237,237)",
              "width": 0.5
             }
            },
            "type": "barpolar"
           }
          ],
          "carpet": [
           {
            "aaxis": {
             "endlinecolor": "rgb(51,51,51)",
             "gridcolor": "white",
             "linecolor": "white",
             "minorgridcolor": "white",
             "startlinecolor": "rgb(51,51,51)"
            },
            "baxis": {
             "endlinecolor": "rgb(51,51,51)",
             "gridcolor": "white",
             "linecolor": "white",
             "minorgridcolor": "white",
             "startlinecolor": "rgb(51,51,51)"
            },
            "type": "carpet"
           }
          ],
          "choropleth": [
           {
            "colorbar": {
             "outlinewidth": 0,
             "tickcolor": "rgb(237,237,237)",
             "ticklen": 6,
             "ticks": "inside"
            },
            "type": "choropleth"
           }
          ],
          "contour": [
           {
            "colorbar": {
             "outlinewidth": 0,
             "tickcolor": "rgb(237,237,237)",
             "ticklen": 6,
             "ticks": "inside"
            },
            "colorscale": [
             [
              0,
              "rgb(20,44,66)"
             ],
             [
              1,
              "rgb(90,179,244)"
             ]
            ],
            "type": "contour"
           }
          ],
          "contourcarpet": [
           {
            "colorbar": {
             "outlinewidth": 0,
             "tickcolor": "rgb(237,237,237)",
             "ticklen": 6,
             "ticks": "inside"
            },
            "type": "contourcarpet"
           }
          ],
          "heatmap": [
           {
            "colorbar": {
             "outlinewidth": 0,
             "tickcolor": "rgb(237,237,237)",
             "ticklen": 6,
             "ticks": "inside"
            },
            "colorscale": [
             [
              0,
              "rgb(20,44,66)"
             ],
             [
              1,
              "rgb(90,179,244)"
             ]
            ],
            "type": "heatmap"
           }
          ],
          "heatmapgl": [
           {
            "colorbar": {
             "outlinewidth": 0,
             "tickcolor": "rgb(237,237,237)",
             "ticklen": 6,
             "ticks": "inside"
            },
            "colorscale": [
             [
              0,
              "rgb(20,44,66)"
             ],
             [
              1,
              "rgb(90,179,244)"
             ]
            ],
            "type": "heatmapgl"
           }
          ],
          "histogram": [
           {
            "marker": {
             "colorbar": {
              "outlinewidth": 0,
              "tickcolor": "rgb(237,237,237)",
              "ticklen": 6,
              "ticks": "inside"
             }
            },
            "type": "histogram"
           }
          ],
          "histogram2d": [
           {
            "colorbar": {
             "outlinewidth": 0,
             "tickcolor": "rgb(237,237,237)",
             "ticklen": 6,
             "ticks": "inside"
            },
            "colorscale": [
             [
              0,
              "rgb(20,44,66)"
             ],
             [
              1,
              "rgb(90,179,244)"
             ]
            ],
            "type": "histogram2d"
           }
          ],
          "histogram2dcontour": [
           {
            "colorbar": {
             "outlinewidth": 0,
             "tickcolor": "rgb(237,237,237)",
             "ticklen": 6,
             "ticks": "inside"
            },
            "colorscale": [
             [
              0,
              "rgb(20,44,66)"
             ],
             [
              1,
              "rgb(90,179,244)"
             ]
            ],
            "type": "histogram2dcontour"
           }
          ],
          "mesh3d": [
           {
            "colorbar": {
             "outlinewidth": 0,
             "tickcolor": "rgb(237,237,237)",
             "ticklen": 6,
             "ticks": "inside"
            },
            "type": "mesh3d"
           }
          ],
          "parcoords": [
           {
            "line": {
             "colorbar": {
              "outlinewidth": 0,
              "tickcolor": "rgb(237,237,237)",
              "ticklen": 6,
              "ticks": "inside"
             }
            },
            "type": "parcoords"
           }
          ],
          "pie": [
           {
            "automargin": true,
            "type": "pie"
           }
          ],
          "scatter": [
           {
            "marker": {
             "colorbar": {
              "outlinewidth": 0,
              "tickcolor": "rgb(237,237,237)",
              "ticklen": 6,
              "ticks": "inside"
             }
            },
            "type": "scatter"
           }
          ],
          "scatter3d": [
           {
            "line": {
             "colorbar": {
              "outlinewidth": 0,
              "tickcolor": "rgb(237,237,237)",
              "ticklen": 6,
              "ticks": "inside"
             }
            },
            "marker": {
             "colorbar": {
              "outlinewidth": 0,
              "tickcolor": "rgb(237,237,237)",
              "ticklen": 6,
              "ticks": "inside"
             }
            },
            "type": "scatter3d"
           }
          ],
          "scattercarpet": [
           {
            "marker": {
             "colorbar": {
              "outlinewidth": 0,
              "tickcolor": "rgb(237,237,237)",
              "ticklen": 6,
              "ticks": "inside"
             }
            },
            "type": "scattercarpet"
           }
          ],
          "scattergeo": [
           {
            "marker": {
             "colorbar": {
              "outlinewidth": 0,
              "tickcolor": "rgb(237,237,237)",
              "ticklen": 6,
              "ticks": "inside"
             }
            },
            "type": "scattergeo"
           }
          ],
          "scattergl": [
           {
            "marker": {
             "colorbar": {
              "outlinewidth": 0,
              "tickcolor": "rgb(237,237,237)",
              "ticklen": 6,
              "ticks": "inside"
             }
            },
            "type": "scattergl"
           }
          ],
          "scattermapbox": [
           {
            "marker": {
             "colorbar": {
              "outlinewidth": 0,
              "tickcolor": "rgb(237,237,237)",
              "ticklen": 6,
              "ticks": "inside"
             }
            },
            "type": "scattermapbox"
           }
          ],
          "scatterpolar": [
           {
            "marker": {
             "colorbar": {
              "outlinewidth": 0,
              "tickcolor": "rgb(237,237,237)",
              "ticklen": 6,
              "ticks": "inside"
             }
            },
            "type": "scatterpolar"
           }
          ],
          "scatterpolargl": [
           {
            "marker": {
             "colorbar": {
              "outlinewidth": 0,
              "tickcolor": "rgb(237,237,237)",
              "ticklen": 6,
              "ticks": "inside"
             }
            },
            "type": "scatterpolargl"
           }
          ],
          "scatterternary": [
           {
            "marker": {
             "colorbar": {
              "outlinewidth": 0,
              "tickcolor": "rgb(237,237,237)",
              "ticklen": 6,
              "ticks": "inside"
             }
            },
            "type": "scatterternary"
           }
          ],
          "surface": [
           {
            "colorbar": {
             "outlinewidth": 0,
             "tickcolor": "rgb(237,237,237)",
             "ticklen": 6,
             "ticks": "inside"
            },
            "colorscale": [
             [
              0,
              "rgb(20,44,66)"
             ],
             [
              1,
              "rgb(90,179,244)"
             ]
            ],
            "type": "surface"
           }
          ],
          "table": [
           {
            "cells": {
             "fill": {
              "color": "rgb(237,237,237)"
             },
             "line": {
              "color": "white"
             }
            },
            "header": {
             "fill": {
              "color": "rgb(217,217,217)"
             },
             "line": {
              "color": "white"
             }
            },
            "type": "table"
           }
          ]
         },
         "layout": {
          "annotationdefaults": {
           "arrowhead": 0,
           "arrowwidth": 1
          },
          "coloraxis": {
           "colorbar": {
            "outlinewidth": 0,
            "tickcolor": "rgb(237,237,237)",
            "ticklen": 6,
            "ticks": "inside"
           }
          },
          "colorscale": {
           "sequential": [
            [
             0,
             "rgb(20,44,66)"
            ],
            [
             1,
             "rgb(90,179,244)"
            ]
           ],
           "sequentialminus": [
            [
             0,
             "rgb(20,44,66)"
            ],
            [
             1,
             "rgb(90,179,244)"
            ]
           ]
          },
          "colorway": [
           "#F8766D",
           "#A3A500",
           "#00BF7D",
           "#00B0F6",
           "#E76BF3"
          ],
          "font": {
           "color": "rgb(51,51,51)"
          },
          "geo": {
           "bgcolor": "white",
           "lakecolor": "white",
           "landcolor": "rgb(237,237,237)",
           "showlakes": true,
           "showland": true,
           "subunitcolor": "white"
          },
          "hoverlabel": {
           "align": "left"
          },
          "hovermode": "closest",
          "paper_bgcolor": "white",
          "plot_bgcolor": "rgb(237,237,237)",
          "polar": {
           "angularaxis": {
            "gridcolor": "white",
            "linecolor": "white",
            "showgrid": true,
            "tickcolor": "rgb(51,51,51)",
            "ticks": "outside"
           },
           "bgcolor": "rgb(237,237,237)",
           "radialaxis": {
            "gridcolor": "white",
            "linecolor": "white",
            "showgrid": true,
            "tickcolor": "rgb(51,51,51)",
            "ticks": "outside"
           }
          },
          "scene": {
           "xaxis": {
            "backgroundcolor": "rgb(237,237,237)",
            "gridcolor": "white",
            "gridwidth": 2,
            "linecolor": "white",
            "showbackground": true,
            "showgrid": true,
            "tickcolor": "rgb(51,51,51)",
            "ticks": "outside",
            "zerolinecolor": "white"
           },
           "yaxis": {
            "backgroundcolor": "rgb(237,237,237)",
            "gridcolor": "white",
            "gridwidth": 2,
            "linecolor": "white",
            "showbackground": true,
            "showgrid": true,
            "tickcolor": "rgb(51,51,51)",
            "ticks": "outside",
            "zerolinecolor": "white"
           },
           "zaxis": {
            "backgroundcolor": "rgb(237,237,237)",
            "gridcolor": "white",
            "gridwidth": 2,
            "linecolor": "white",
            "showbackground": true,
            "showgrid": true,
            "tickcolor": "rgb(51,51,51)",
            "ticks": "outside",
            "zerolinecolor": "white"
           }
          },
          "shapedefaults": {
           "fillcolor": "black",
           "line": {
            "width": 0
           },
           "opacity": 0.3
          },
          "ternary": {
           "aaxis": {
            "gridcolor": "white",
            "linecolor": "white",
            "showgrid": true,
            "tickcolor": "rgb(51,51,51)",
            "ticks": "outside"
           },
           "baxis": {
            "gridcolor": "white",
            "linecolor": "white",
            "showgrid": true,
            "tickcolor": "rgb(51,51,51)",
            "ticks": "outside"
           },
           "bgcolor": "rgb(237,237,237)",
           "caxis": {
            "gridcolor": "white",
            "linecolor": "white",
            "showgrid": true,
            "tickcolor": "rgb(51,51,51)",
            "ticks": "outside"
           }
          },
          "xaxis": {
           "automargin": true,
           "gridcolor": "white",
           "linecolor": "white",
           "showgrid": true,
           "tickcolor": "rgb(51,51,51)",
           "ticks": "outside",
           "title": {
            "standoff": 15
           },
           "zerolinecolor": "white"
          },
          "yaxis": {
           "automargin": true,
           "gridcolor": "white",
           "linecolor": "white",
           "showgrid": true,
           "tickcolor": "rgb(51,51,51)",
           "ticks": "outside",
           "title": {
            "standoff": 15
           },
           "zerolinecolor": "white"
          }
         }
        },
        "width": 990,
        "xaxis": {
         "anchor": "y",
         "domain": [
          0,
          1
         ],
         "matches": "x2",
         "showticklabels": false
        },
        "xaxis2": {
         "anchor": "y2",
         "domain": [
          0,
          1
         ]
        },
        "yaxis": {
         "anchor": "x",
         "domain": [
          0.515,
          1
         ]
        },
        "yaxis2": {
         "anchor": "x2",
         "domain": [
          0,
          0.485
         ]
        }
       }
      }
     },
     "metadata": {}
    }
   ],
   "source": [
    "from plotly.subplots import make_subplots\n",
    "\n",
    "# fig = tools.make_subplots(rows = 1, cols = 2, specs = [[{}, {}]],\n",
    "#                           horizontal_spacing = 0.05)\n",
    "\n",
    "\n",
    "fig = make_subplots(rows=2, cols=1,specs = [[{}],[{}]],vertical_spacing = 0.03,shared_xaxes=True,\n",
    "                  subplot_titles=(\"Box-график распределения по новым заболевшим(в день) за неделю:\",\n",
    "                                 \"Box-график распределения по выздоровевшим(в день) за неделю:\"))\n",
    "#subplot_titles=(\"Статистика по новым заболевшим за последние 2 недели\",\"Статистика по выздоровевшим за последние 2 недели\")\n",
    "\n",
    "for i in cols:\n",
    "    fig.add_trace(\n",
    "    go.Box(x=new_df1[i],name = i,boxmean = True,marker_color = color_dict.get(i)),row=1,col=1)\n",
    "\n",
    "for i in cols:\n",
    "    fig.add_trace(\n",
    "    go.Box(x=new_df2[i],name = i,boxmean=True,marker_color = color_dict.get(i)),row=2,col=1)\n",
    "\n",
    "\n",
    "fig.update_layout(\n",
    "#     annotations=[\n",
    "#         dict(\n",
    "#             x=0.5,\n",
    "#             y=-0.15,\n",
    "#             showarrow=False,\n",
    "#             text=\"Ветикальная пунктирная линия - среднее, Вертикальная сплошная - медиана распределения\",\n",
    "#             xref=\"paper\",\n",
    "#             yref=\"paper\"),\n",
    "        \n",
    "#                 ],\n",
    "    \n",
    "    \n",
    "                  width = 990, height = 1200,\n",
    "    \n",
    "    \n",
    "                 showlegend=False,template ='ggplot2'\n",
    ")\n",
    "\n",
    "#fig.update_layout(height=1000, width=800,showlegend=False)\n",
    "fig.show()"
   ]
  },
  {
   "cell_type": "code",
   "execution_count": null,
   "metadata": {},
   "outputs": [],
   "source": []
  },
  {
   "cell_type": "code",
   "execution_count": null,
   "metadata": {},
   "outputs": [],
   "source": []
  }
 ],
 "metadata": {
  "kernelspec": {
   "display_name": "Python 3.7.7 64-bit ('vit1': conda)",
   "language": "python",
   "name": "python_defaultSpec_1597403120059"
  },
  "language_info": {
   "codemirror_mode": {
    "name": "ipython",
    "version": 3
   },
   "file_extension": ".py",
   "mimetype": "text/x-python",
   "name": "python",
   "nbconvert_exporter": "python",
   "pygments_lexer": "ipython3",
   "version": "3.7.7-final"
  }
 },
 "nbformat": 4,
 "nbformat_minor": 4
}