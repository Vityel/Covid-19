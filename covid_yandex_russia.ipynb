{
 "cells": [
  {
   "cell_type": "code",
   "execution_count": 1,
   "metadata": {},
   "outputs": [],
   "source": [
    "import pandas as pd\n",
    "import datetime\n",
    "import plotly.graph_objects as go\n",
    "import plotly.express as px\n",
    "import plotly.figure_factory as ff\n"
   ]
  },
  {
   "cell_type": "code",
   "execution_count": 2,
   "metadata": {},
   "outputs": [
    {
     "output_type": "execute_result",
     "data": {
      "text/plain": "             Date             Region  Confirmed  Recovered  Deaths  \\\n13953  2020-08-22   Ульяновская обл.      11302       8438      87   \n13954  2020-08-22   Хабаровский край       9443       7367      83   \n13955  2020-08-22            Хакасия       3253       3004      39   \n13956  2020-08-22        ХМАО – Югра      18999      17327     156   \n13957  2020-08-22   Челябинская обл.      13090       8817     103   \n13958  2020-08-22              Чечня       2222       1511      38   \n13959  2020-08-22            Чувашия       7481       6169      68   \n13960  2020-08-22       Чукотский АО        167        160       2   \n13961  2020-08-22  Ямало-Ненецкий АО      12957      12420      87   \n13962  2020-08-22   Ярославская обл.       6885       6133      32   \n\n       Day_deaths  Day_confirmed  Day_recovered  \n13953           7             87            145  \n13954           0             68             69  \n13955           0             19             16  \n13956           1             83            170  \n13957           1             71            135  \n13958           0              7              4  \n13959           0             33             55  \n13960           0              0              0  \n13961           2             63            138  \n13962           0             38             39  ",
      "text/html": "<div>\n<style scoped>\n    .dataframe tbody tr th:only-of-type {\n        vertical-align: middle;\n    }\n\n    .dataframe tbody tr th {\n        vertical-align: top;\n    }\n\n    .dataframe thead th {\n        text-align: right;\n    }\n</style>\n<table border=\"1\" class=\"dataframe\">\n  <thead>\n    <tr style=\"text-align: right;\">\n      <th></th>\n      <th>Date</th>\n      <th>Region</th>\n      <th>Confirmed</th>\n      <th>Recovered</th>\n      <th>Deaths</th>\n      <th>Day_deaths</th>\n      <th>Day_confirmed</th>\n      <th>Day_recovered</th>\n    </tr>\n  </thead>\n  <tbody>\n    <tr>\n      <th>13953</th>\n      <td>2020-08-22</td>\n      <td>Ульяновская обл.</td>\n      <td>11302</td>\n      <td>8438</td>\n      <td>87</td>\n      <td>7</td>\n      <td>87</td>\n      <td>145</td>\n    </tr>\n    <tr>\n      <th>13954</th>\n      <td>2020-08-22</td>\n      <td>Хабаровский край</td>\n      <td>9443</td>\n      <td>7367</td>\n      <td>83</td>\n      <td>0</td>\n      <td>68</td>\n      <td>69</td>\n    </tr>\n    <tr>\n      <th>13955</th>\n      <td>2020-08-22</td>\n      <td>Хакасия</td>\n      <td>3253</td>\n      <td>3004</td>\n      <td>39</td>\n      <td>0</td>\n      <td>19</td>\n      <td>16</td>\n    </tr>\n    <tr>\n      <th>13956</th>\n      <td>2020-08-22</td>\n      <td>ХМАО – Югра</td>\n      <td>18999</td>\n      <td>17327</td>\n      <td>156</td>\n      <td>1</td>\n      <td>83</td>\n      <td>170</td>\n    </tr>\n    <tr>\n      <th>13957</th>\n      <td>2020-08-22</td>\n      <td>Челябинская обл.</td>\n      <td>13090</td>\n      <td>8817</td>\n      <td>103</td>\n      <td>1</td>\n      <td>71</td>\n      <td>135</td>\n    </tr>\n    <tr>\n      <th>13958</th>\n      <td>2020-08-22</td>\n      <td>Чечня</td>\n      <td>2222</td>\n      <td>1511</td>\n      <td>38</td>\n      <td>0</td>\n      <td>7</td>\n      <td>4</td>\n    </tr>\n    <tr>\n      <th>13959</th>\n      <td>2020-08-22</td>\n      <td>Чувашия</td>\n      <td>7481</td>\n      <td>6169</td>\n      <td>68</td>\n      <td>0</td>\n      <td>33</td>\n      <td>55</td>\n    </tr>\n    <tr>\n      <th>13960</th>\n      <td>2020-08-22</td>\n      <td>Чукотский АО</td>\n      <td>167</td>\n      <td>160</td>\n      <td>2</td>\n      <td>0</td>\n      <td>0</td>\n      <td>0</td>\n    </tr>\n    <tr>\n      <th>13961</th>\n      <td>2020-08-22</td>\n      <td>Ямало-Ненецкий АО</td>\n      <td>12957</td>\n      <td>12420</td>\n      <td>87</td>\n      <td>2</td>\n      <td>63</td>\n      <td>138</td>\n    </tr>\n    <tr>\n      <th>13962</th>\n      <td>2020-08-22</td>\n      <td>Ярославская обл.</td>\n      <td>6885</td>\n      <td>6133</td>\n      <td>32</td>\n      <td>0</td>\n      <td>38</td>\n      <td>39</td>\n    </tr>\n  </tbody>\n</table>\n</div>"
     },
     "metadata": {},
     "execution_count": 2
    }
   ],
   "source": [
    "yandex_russia = pd.read_csv('yandex_russia.csv')\n",
    "\n",
    "yandex_russia.rename(columns = {'Дата':'Date','Регион':'Region','Заражений':'Confirmed','Выздоровлений':'Recovered',\n",
    "                               'Смертей':'Deaths','Смертей за день':'Day_deaths',\n",
    "                               'Заражений за день':'Day_confirmed','Выздоровлений за день':'Day_recovered'},inplace = True)\n",
    "\n",
    "\n",
    "for i in range(yandex_russia.shape[0]):\n",
    "    a= yandex_russia.Date[i].split('.')\n",
    "    yandex_russia.Date[i]=datetime.date(int(a[2]),int(a[1]),int(a[0]))\n",
    "    \n",
    "   \n",
    "yandex_russia.tail(10)"
   ]
  },
  {
   "cell_type": "code",
   "execution_count": 3,
   "metadata": {},
   "outputs": [
    {
     "output_type": "execute_result",
     "data": {
      "text/plain": "           Date  Region  Confirmed  Recovered  Deaths  Day_deaths  \\\n164  2020-08-13  Россия     907758     716396   15384         124   \n165  2020-08-14  Россия     912823     722964   15498         114   \n166  2020-08-15  Россия     917884     729411   15617         119   \n167  2020-08-16  Россия     922853     732968   15685          68   \n168  2020-08-17  Россия     927745     736101   15740          55   \n169  2020-08-18  Россия     932493     742628   15872         132   \n170  2020-08-19  Россия     937321     749423   15989         117   \n171  2020-08-20  Россия     942106     755513   16099         110   \n172  2020-08-21  Россия     946976     761330   16189          90   \n173  2020-08-22  Россия     951897     767477   16310         121   \n\n     Day_confirmed  Day_recovered  \n164           5057           6098  \n165           5065           6568  \n166           5061           6447  \n167           4969           3557  \n168           4892           3133  \n169           4748           6527  \n170           4828           6795  \n171           4785           6090  \n172           4870           5817  \n173           4921           6147  ",
      "text/html": "<div>\n<style scoped>\n    .dataframe tbody tr th:only-of-type {\n        vertical-align: middle;\n    }\n\n    .dataframe tbody tr th {\n        vertical-align: top;\n    }\n\n    .dataframe thead th {\n        text-align: right;\n    }\n</style>\n<table border=\"1\" class=\"dataframe\">\n  <thead>\n    <tr style=\"text-align: right;\">\n      <th></th>\n      <th>Date</th>\n      <th>Region</th>\n      <th>Confirmed</th>\n      <th>Recovered</th>\n      <th>Deaths</th>\n      <th>Day_deaths</th>\n      <th>Day_confirmed</th>\n      <th>Day_recovered</th>\n    </tr>\n  </thead>\n  <tbody>\n    <tr>\n      <th>164</th>\n      <td>2020-08-13</td>\n      <td>Россия</td>\n      <td>907758</td>\n      <td>716396</td>\n      <td>15384</td>\n      <td>124</td>\n      <td>5057</td>\n      <td>6098</td>\n    </tr>\n    <tr>\n      <th>165</th>\n      <td>2020-08-14</td>\n      <td>Россия</td>\n      <td>912823</td>\n      <td>722964</td>\n      <td>15498</td>\n      <td>114</td>\n      <td>5065</td>\n      <td>6568</td>\n    </tr>\n    <tr>\n      <th>166</th>\n      <td>2020-08-15</td>\n      <td>Россия</td>\n      <td>917884</td>\n      <td>729411</td>\n      <td>15617</td>\n      <td>119</td>\n      <td>5061</td>\n      <td>6447</td>\n    </tr>\n    <tr>\n      <th>167</th>\n      <td>2020-08-16</td>\n      <td>Россия</td>\n      <td>922853</td>\n      <td>732968</td>\n      <td>15685</td>\n      <td>68</td>\n      <td>4969</td>\n      <td>3557</td>\n    </tr>\n    <tr>\n      <th>168</th>\n      <td>2020-08-17</td>\n      <td>Россия</td>\n      <td>927745</td>\n      <td>736101</td>\n      <td>15740</td>\n      <td>55</td>\n      <td>4892</td>\n      <td>3133</td>\n    </tr>\n    <tr>\n      <th>169</th>\n      <td>2020-08-18</td>\n      <td>Россия</td>\n      <td>932493</td>\n      <td>742628</td>\n      <td>15872</td>\n      <td>132</td>\n      <td>4748</td>\n      <td>6527</td>\n    </tr>\n    <tr>\n      <th>170</th>\n      <td>2020-08-19</td>\n      <td>Россия</td>\n      <td>937321</td>\n      <td>749423</td>\n      <td>15989</td>\n      <td>117</td>\n      <td>4828</td>\n      <td>6795</td>\n    </tr>\n    <tr>\n      <th>171</th>\n      <td>2020-08-20</td>\n      <td>Россия</td>\n      <td>942106</td>\n      <td>755513</td>\n      <td>16099</td>\n      <td>110</td>\n      <td>4785</td>\n      <td>6090</td>\n    </tr>\n    <tr>\n      <th>172</th>\n      <td>2020-08-21</td>\n      <td>Россия</td>\n      <td>946976</td>\n      <td>761330</td>\n      <td>16189</td>\n      <td>90</td>\n      <td>4870</td>\n      <td>5817</td>\n    </tr>\n    <tr>\n      <th>173</th>\n      <td>2020-08-22</td>\n      <td>Россия</td>\n      <td>951897</td>\n      <td>767477</td>\n      <td>16310</td>\n      <td>121</td>\n      <td>4921</td>\n      <td>6147</td>\n    </tr>\n  </tbody>\n</table>\n</div>"
     },
     "metadata": {},
     "execution_count": 3
    }
   ],
   "source": [
    "df3_temp = yandex_russia.groupby('Date').sum()\n",
    "df3_temp['Region']='Россия'\n",
    "\n",
    "y5= pd.concat([yandex_russia,df3_temp.reset_index()],axis = 0)\n",
    "y5.reset_index()\n",
    "yandex_russia = y5\n",
    "yandex_russia.tail(10)"
   ]
  },
  {
   "cell_type": "code",
   "execution_count": 4,
   "metadata": {
    "tags": []
   },
   "outputs": [
    {
     "output_type": "stream",
     "name": "stdout",
     "text": "2020-08-22\nВыбран день:  2020-08-22\n"
    }
   ],
   "source": [
    "# dt = datetime.datetime.today()\n",
    "# today = datetime.date(dt.year,dt.month,dt.day)\n",
    "# ystday = datetime.date(today.year,today.month,today.day-1)\n",
    "# yst2day = datetime.date(today.year,today.month,today.day-2)\n",
    "# yst3day = datetime.date(today.year,today.month,today.day-3)\n",
    "\n",
    "# print(today)\n",
    "# print(ystday)\n",
    "# print(yst2day)\n",
    "# print(yst3day)\n",
    "myday = list(yandex_russia.tail(1).Date)[0]\n",
    "\n",
    "print(yandex_russia.iloc[-1,0])\n",
    "print('Выбран день: ',myday)"
   ]
  },
  {
   "cell_type": "code",
   "execution_count": 5,
   "metadata": {
    "tags": []
   },
   "outputs": [
    {
     "output_type": "stream",
     "name": "stdout",
     "text": "dict_items([(0, 'Адыгея'), (1, 'Алтай'), (2, 'Алтайский край'), (3, 'Амурская обл.'), (4, 'Архангельская обл.'), (5, 'Астраханская обл.'), (6, 'Башкортостан'), (7, 'Белгородская обл.'), (8, 'Брянская обл.'), (9, 'Бурятия'), (10, 'Владимирская обл.'), (11, 'Волгоградская обл.'), (12, 'Вологодская обл.'), (13, 'Воронежская обл.'), (14, 'Дагестан'), (15, 'Еврейская АО'), (16, 'Забайкальский край'), (17, 'Ивановская обл.'), (18, 'Ингушетия'), (19, 'Иркутская обл.'), (20, 'Кабардино-Балкария'), (21, 'Калининградская обл.'), (22, 'Калмыкия'), (23, 'Калужская обл.'), (24, 'Камчатский край'), (25, 'Карачаево-Черкессия'), (26, 'Карелия'), (27, 'Кемеровская обл.'), (28, 'Кировская обл.'), (29, 'Коми'), (30, 'Костромская обл.'), (31, 'Краснодарский край'), (32, 'Красноярский край'), (33, 'Крым'), (34, 'Курганская обл.'), (35, 'Курская обл.'), (36, 'Ленинградская обл.'), (37, 'Липецкая обл.'), (38, 'Магаданская обл.'), (39, 'Марий Эл'), (40, 'Мордовия'), (41, 'Москва'), (42, 'Московская обл.'), (43, 'Мурманская обл.'), (44, 'Ненецкий АО'), (45, 'Нижегородская обл.'), (46, 'Новгородская обл.'), (47, 'Новосибирская обл.'), (48, 'Омская обл.'), (49, 'Оренбургская обл.'), (50, 'Орловская обл.'), (51, 'Пензенская обл.'), (52, 'Пермский край'), (53, 'Приморский край'), (54, 'Псковская обл.'), (55, 'Россия'), (56, 'Ростовская обл.'), (57, 'Рязанская обл.'), (58, 'Самарская обл.'), (59, 'Санкт-Петербург'), (60, 'Саратовская обл.'), (61, 'Саха (Якутия)'), (62, 'Сахалинская обл.'), (63, 'Свердловская обл.'), (64, 'Севастополь'), (65, 'Северная Осетия'), (66, 'Смоленская обл.'), (67, 'Ставропольский край'), (68, 'Тамбовская обл.'), (69, 'Татарстан'), (70, 'Тверская обл.'), (71, 'Томская обл.'), (72, 'Тульская обл.'), (73, 'Тыва'), (74, 'Тюменская обл.'), (75, 'Удмуртия'), (76, 'Ульяновская обл.'), (77, 'ХМАО – Югра'), (78, 'Хабаровский край'), (79, 'Хакасия'), (80, 'Челябинская обл.'), (81, 'Чечня'), (82, 'Чувашия'), (83, 'Чукотский АО'), (84, 'Ямало-Ненецкий АО'), (85, 'Ярославская обл.')])\n"
    },
    {
     "output_type": "execute_result",
     "data": {
      "text/plain": "             Date  Confirmed  Recovered  Deaths  Day_deaths  Day_confirmed  \\\n14132  2020-08-18       6732       5999      32           0             37   \n14133  2020-08-19       6772       6033      32           0             40   \n14134  2020-08-20       6810       6059      32           0             38   \n14135  2020-08-21       6847       6094      32           0             37   \n14136  2020-08-22       6885       6133      32           0             38   \n\n       Day_recovered     Rt    Rt2  Rate_conf  Rate_ill            Region  \\\n14132             51  0.994  1.024          0         0  Ярославская обл.   \n14133             34  1.013  1.024          0         0  Ярославская обл.   \n14134             26  1.000  1.023          0         0  Ярославская обл.   \n14135             35  0.993  1.023          0         0  Ярославская обл.   \n14136             39  0.994  1.023          0         0  Ярославская обл.   \n\n       Remaining_ill  MA7_dayconfirmed  MA14_dayconfirmed  MA7_remaining_ill  \\\n14132            701         38.571429          38.714286         665.857143   \n14133            707         38.857143          38.785714         675.571429   \n14134            719         38.285714          38.714286         686.428571   \n14135            721         38.428571          38.428571         697.571429   \n14136            720         38.428571          38.500000         708.714286   \n\n       MA14_remaining_ill  Change_dayconf  Change_remill  \n14132          648.214286              -3            -14  \n14133          649.500000               3              6  \n14134          654.000000              -2             12  \n14135          662.571429              -1              2  \n14136          673.000000               1             -1  ",
      "text/html": "<div>\n<style scoped>\n    .dataframe tbody tr th:only-of-type {\n        vertical-align: middle;\n    }\n\n    .dataframe tbody tr th {\n        vertical-align: top;\n    }\n\n    .dataframe thead th {\n        text-align: right;\n    }\n</style>\n<table border=\"1\" class=\"dataframe\">\n  <thead>\n    <tr style=\"text-align: right;\">\n      <th></th>\n      <th>Date</th>\n      <th>Confirmed</th>\n      <th>Recovered</th>\n      <th>Deaths</th>\n      <th>Day_deaths</th>\n      <th>Day_confirmed</th>\n      <th>Day_recovered</th>\n      <th>Rt</th>\n      <th>Rt2</th>\n      <th>Rate_conf</th>\n      <th>Rate_ill</th>\n      <th>Region</th>\n      <th>Remaining_ill</th>\n      <th>MA7_dayconfirmed</th>\n      <th>MA14_dayconfirmed</th>\n      <th>MA7_remaining_ill</th>\n      <th>MA14_remaining_ill</th>\n      <th>Change_dayconf</th>\n      <th>Change_remill</th>\n    </tr>\n  </thead>\n  <tbody>\n    <tr>\n      <th>14132</th>\n      <td>2020-08-18</td>\n      <td>6732</td>\n      <td>5999</td>\n      <td>32</td>\n      <td>0</td>\n      <td>37</td>\n      <td>51</td>\n      <td>0.994</td>\n      <td>1.024</td>\n      <td>0</td>\n      <td>0</td>\n      <td>Ярославская обл.</td>\n      <td>701</td>\n      <td>38.571429</td>\n      <td>38.714286</td>\n      <td>665.857143</td>\n      <td>648.214286</td>\n      <td>-3</td>\n      <td>-14</td>\n    </tr>\n    <tr>\n      <th>14133</th>\n      <td>2020-08-19</td>\n      <td>6772</td>\n      <td>6033</td>\n      <td>32</td>\n      <td>0</td>\n      <td>40</td>\n      <td>34</td>\n      <td>1.013</td>\n      <td>1.024</td>\n      <td>0</td>\n      <td>0</td>\n      <td>Ярославская обл.</td>\n      <td>707</td>\n      <td>38.857143</td>\n      <td>38.785714</td>\n      <td>675.571429</td>\n      <td>649.500000</td>\n      <td>3</td>\n      <td>6</td>\n    </tr>\n    <tr>\n      <th>14134</th>\n      <td>2020-08-20</td>\n      <td>6810</td>\n      <td>6059</td>\n      <td>32</td>\n      <td>0</td>\n      <td>38</td>\n      <td>26</td>\n      <td>1.000</td>\n      <td>1.023</td>\n      <td>0</td>\n      <td>0</td>\n      <td>Ярославская обл.</td>\n      <td>719</td>\n      <td>38.285714</td>\n      <td>38.714286</td>\n      <td>686.428571</td>\n      <td>654.000000</td>\n      <td>-2</td>\n      <td>12</td>\n    </tr>\n    <tr>\n      <th>14135</th>\n      <td>2020-08-21</td>\n      <td>6847</td>\n      <td>6094</td>\n      <td>32</td>\n      <td>0</td>\n      <td>37</td>\n      <td>35</td>\n      <td>0.993</td>\n      <td>1.023</td>\n      <td>0</td>\n      <td>0</td>\n      <td>Ярославская обл.</td>\n      <td>721</td>\n      <td>38.428571</td>\n      <td>38.428571</td>\n      <td>697.571429</td>\n      <td>662.571429</td>\n      <td>-1</td>\n      <td>2</td>\n    </tr>\n    <tr>\n      <th>14136</th>\n      <td>2020-08-22</td>\n      <td>6885</td>\n      <td>6133</td>\n      <td>32</td>\n      <td>0</td>\n      <td>38</td>\n      <td>39</td>\n      <td>0.994</td>\n      <td>1.023</td>\n      <td>0</td>\n      <td>0</td>\n      <td>Ярославская обл.</td>\n      <td>720</td>\n      <td>38.428571</td>\n      <td>38.500000</td>\n      <td>708.714286</td>\n      <td>673.000000</td>\n      <td>1</td>\n      <td>-1</td>\n    </tr>\n  </tbody>\n</table>\n</div>"
     },
     "metadata": {},
     "execution_count": 5
    }
   ],
   "source": [
    "X = pd.DataFrame()\n",
    "regions_dict = {}\n",
    "yandex_russia['Rt'] = 1\n",
    "yandex_russia['Rt2'] = 1\n",
    "yandex_russia['Rate_conf'] = 0\n",
    "yandex_russia['Rate_ill'] = 0\n",
    "\n",
    "temp_df = yandex_russia.groupby(['Region','Date']).sum()\n",
    "\n",
    "# Ниже enumerate  для составления словаря из имен регионов {i:j} , для расчетов можно было использовать только j\n",
    "\n",
    "for i,j in enumerate(temp_df.index.get_level_values(0).unique()):\n",
    "    temp_df2 =  temp_df.loc[j]\n",
    "    temp1 = temp_df2['Day_confirmed'].rolling(4).sum()/(temp_df2[\"Day_confirmed\"].rolling(8).sum()-\n",
    "\n",
    "                                                              temp_df2[\"Day_confirmed\"].rolling(4).sum())\n",
    "    temp2 = temp_df2['Confirmed'].rolling(4).sum()/(temp_df2['Confirmed'].rolling(8).sum()-\n",
    "\n",
    "                                                              temp_df2['Confirmed'].rolling(4).sum())\n",
    "    temp_df2['Rt'] = round(temp1,3)\n",
    "    temp_df2['Rt2'] = round(temp2,3)\n",
    "    temp_df2['Region'] = j\n",
    "    temp_df2['Remaining_ill']=temp_df2['Confirmed']-temp_df2['Recovered']-temp_df2['Deaths']\n",
    "    temp_df2['MA7_dayconfirmed']=temp_df2['Day_confirmed'].rolling(window=7).mean()\n",
    "    temp_df2['MA14_dayconfirmed']=temp_df2['Day_confirmed'].rolling(window=14).mean()\n",
    "    temp_df2['MA7_remaining_ill']=temp_df2['Remaining_ill'].rolling(window=7).mean()\n",
    "    temp_df2['MA14_remaining_ill']=temp_df2['Remaining_ill'].rolling(window=14).mean()\n",
    "    \n",
    "    temp_df2['Change_dayconf'] = 0\n",
    "    for k in range(1,temp_df2.shape[0]):\n",
    "        temp_df2['Change_dayconf'].iloc[k]=temp_df2['Day_confirmed'].iloc[k]-temp_df2['Day_confirmed'].iloc[k-1]\n",
    "    temp_df2['Change_remill'] = 0\n",
    "    for k in range(1,temp_df2.shape[0]):\n",
    "        temp_df2['Change_remill'].iloc[k]=temp_df2['Remaining_ill'].iloc[k]-temp_df2['Remaining_ill'].iloc[k-1]\n",
    "    \n",
    "    \n",
    "\n",
    "   #Генератор DF  на каждый регион(сидит в цикле):\n",
    "   # globals()['x' + str(i)] = temp_df2.reset_index()\n",
    "    \n",
    "    X = pd.concat([X,temp_df2.reset_index()],axis = 0)\n",
    "    regions_dict[i]=j\n",
    "    \n",
    "print(regions_dict.items())\n",
    "    \n",
    "X = X.reset_index(drop=True)\n",
    "X.tail()\n"
   ]
  },
  {
   "cell_type": "code",
   "execution_count": 6,
   "metadata": {
    "tags": []
   },
   "outputs": [
    {
     "output_type": "stream",
     "name": "stdout",
     "text": "Confirmed  Remaining_ill\nDate                                \n2020-08-21     946976         169457\n2020-08-22     951897         168110\n14137\n(14137, 19)\n2020-03-12\n"
    }
   ],
   "source": [
    "mask = X.Region == 'Россия'\n",
    "temp_df = X[mask][['Date','Confirmed','Remaining_ill']]\n",
    "temp_df.index = temp_df.Date\n",
    "temp_df.drop(columns =['Date'], inplace = True)\n",
    "print(temp_df.tail(2))\n",
    "# print(temp_df.index.get_level_values(0))\n",
    "# temp_df.loc[datetime.date(2020,6,15),'Россия'].Confirmed\n",
    "# for i in temp_df.index.get_level_values(0).unique()[-2:]:\n",
    "#     print(temp_df.loc[i,'Россия'].Confirmed)\n",
    "rus_date = list(temp_df.index)\n",
    "rus_conf = list(temp_df.Confirmed)\n",
    "rus_ill = list(temp_df.Remaining_ill)\n",
    "rus_dict_conf = dict(zip(rus_date,rus_conf))\n",
    "rus_dict_ill = dict(zip(rus_date,rus_ill))\n",
    "\n",
    "print(len(X))\n",
    "print(X.shape)\n",
    "print(X.loc[0,'Date'])\n",
    "for i in range(len(X)):\n",
    "    X.loc[i,'Rate_conf']=100*X.loc[i,'Confirmed']/rus_dict_conf.get(X.loc[i,'Date'])\n",
    "    X.loc[i,'Rate_ill']=100*X.loc[i,'Remaining_ill']/rus_dict_ill.get(X.loc[i,'Date'])\n"
   ]
  },
  {
   "cell_type": "code",
   "execution_count": 7,
   "metadata": {},
   "outputs": [
    {
     "output_type": "execute_result",
     "data": {
      "text/plain": "            Date  Confirmed  Region  Rate_conf  Rate_ill\n9197  2020-08-03     856264  Россия      100.0     100.0\n9198  2020-08-04     861423  Россия      100.0     100.0\n9199  2020-08-05     866627  Россия      100.0     100.0\n9200  2020-08-06     871894  Россия      100.0     100.0\n9201  2020-08-07     877135  Россия      100.0     100.0\n9202  2020-08-08     882347  Россия      100.0     100.0\n9203  2020-08-09     887536  Россия      100.0     100.0\n9204  2020-08-10     892654  Россия      100.0     100.0\n9205  2020-08-11     897599  Россия      100.0     100.0\n9206  2020-08-12     902701  Россия      100.0     100.0\n9207  2020-08-13     907758  Россия      100.0     100.0\n9208  2020-08-14     912823  Россия      100.0     100.0\n9209  2020-08-15     917884  Россия      100.0     100.0\n9210  2020-08-16     922853  Россия      100.0     100.0\n9211  2020-08-17     927745  Россия      100.0     100.0\n9212  2020-08-18     932493  Россия      100.0     100.0\n9213  2020-08-19     937321  Россия      100.0     100.0\n9214  2020-08-20     942106  Россия      100.0     100.0\n9215  2020-08-21     946976  Россия      100.0     100.0\n9216  2020-08-22     951897  Россия      100.0     100.0",
      "text/html": "<div>\n<style scoped>\n    .dataframe tbody tr th:only-of-type {\n        vertical-align: middle;\n    }\n\n    .dataframe tbody tr th {\n        vertical-align: top;\n    }\n\n    .dataframe thead th {\n        text-align: right;\n    }\n</style>\n<table border=\"1\" class=\"dataframe\">\n  <thead>\n    <tr style=\"text-align: right;\">\n      <th></th>\n      <th>Date</th>\n      <th>Confirmed</th>\n      <th>Region</th>\n      <th>Rate_conf</th>\n      <th>Rate_ill</th>\n    </tr>\n  </thead>\n  <tbody>\n    <tr>\n      <th>9197</th>\n      <td>2020-08-03</td>\n      <td>856264</td>\n      <td>Россия</td>\n      <td>100.0</td>\n      <td>100.0</td>\n    </tr>\n    <tr>\n      <th>9198</th>\n      <td>2020-08-04</td>\n      <td>861423</td>\n      <td>Россия</td>\n      <td>100.0</td>\n      <td>100.0</td>\n    </tr>\n    <tr>\n      <th>9199</th>\n      <td>2020-08-05</td>\n      <td>866627</td>\n      <td>Россия</td>\n      <td>100.0</td>\n      <td>100.0</td>\n    </tr>\n    <tr>\n      <th>9200</th>\n      <td>2020-08-06</td>\n      <td>871894</td>\n      <td>Россия</td>\n      <td>100.0</td>\n      <td>100.0</td>\n    </tr>\n    <tr>\n      <th>9201</th>\n      <td>2020-08-07</td>\n      <td>877135</td>\n      <td>Россия</td>\n      <td>100.0</td>\n      <td>100.0</td>\n    </tr>\n    <tr>\n      <th>9202</th>\n      <td>2020-08-08</td>\n      <td>882347</td>\n      <td>Россия</td>\n      <td>100.0</td>\n      <td>100.0</td>\n    </tr>\n    <tr>\n      <th>9203</th>\n      <td>2020-08-09</td>\n      <td>887536</td>\n      <td>Россия</td>\n      <td>100.0</td>\n      <td>100.0</td>\n    </tr>\n    <tr>\n      <th>9204</th>\n      <td>2020-08-10</td>\n      <td>892654</td>\n      <td>Россия</td>\n      <td>100.0</td>\n      <td>100.0</td>\n    </tr>\n    <tr>\n      <th>9205</th>\n      <td>2020-08-11</td>\n      <td>897599</td>\n      <td>Россия</td>\n      <td>100.0</td>\n      <td>100.0</td>\n    </tr>\n    <tr>\n      <th>9206</th>\n      <td>2020-08-12</td>\n      <td>902701</td>\n      <td>Россия</td>\n      <td>100.0</td>\n      <td>100.0</td>\n    </tr>\n    <tr>\n      <th>9207</th>\n      <td>2020-08-13</td>\n      <td>907758</td>\n      <td>Россия</td>\n      <td>100.0</td>\n      <td>100.0</td>\n    </tr>\n    <tr>\n      <th>9208</th>\n      <td>2020-08-14</td>\n      <td>912823</td>\n      <td>Россия</td>\n      <td>100.0</td>\n      <td>100.0</td>\n    </tr>\n    <tr>\n      <th>9209</th>\n      <td>2020-08-15</td>\n      <td>917884</td>\n      <td>Россия</td>\n      <td>100.0</td>\n      <td>100.0</td>\n    </tr>\n    <tr>\n      <th>9210</th>\n      <td>2020-08-16</td>\n      <td>922853</td>\n      <td>Россия</td>\n      <td>100.0</td>\n      <td>100.0</td>\n    </tr>\n    <tr>\n      <th>9211</th>\n      <td>2020-08-17</td>\n      <td>927745</td>\n      <td>Россия</td>\n      <td>100.0</td>\n      <td>100.0</td>\n    </tr>\n    <tr>\n      <th>9212</th>\n      <td>2020-08-18</td>\n      <td>932493</td>\n      <td>Россия</td>\n      <td>100.0</td>\n      <td>100.0</td>\n    </tr>\n    <tr>\n      <th>9213</th>\n      <td>2020-08-19</td>\n      <td>937321</td>\n      <td>Россия</td>\n      <td>100.0</td>\n      <td>100.0</td>\n    </tr>\n    <tr>\n      <th>9214</th>\n      <td>2020-08-20</td>\n      <td>942106</td>\n      <td>Россия</td>\n      <td>100.0</td>\n      <td>100.0</td>\n    </tr>\n    <tr>\n      <th>9215</th>\n      <td>2020-08-21</td>\n      <td>946976</td>\n      <td>Россия</td>\n      <td>100.0</td>\n      <td>100.0</td>\n    </tr>\n    <tr>\n      <th>9216</th>\n      <td>2020-08-22</td>\n      <td>951897</td>\n      <td>Россия</td>\n      <td>100.0</td>\n      <td>100.0</td>\n    </tr>\n  </tbody>\n</table>\n</div>"
     },
     "metadata": {},
     "execution_count": 7
    }
   ],
   "source": [
    "mask = (X.Date>=datetime.date(2020,6,13))&(X.Region.isin(['Москва','Россия']))\n",
    "\n",
    "temp=X[mask]\n",
    "temp[['Date','Confirmed','Region','Rate_conf','Rate_ill']].tail(20)"
   ]
  },
  {
   "cell_type": "code",
   "execution_count": 8,
   "metadata": {},
   "outputs": [],
   "source": [
    "# russia_regions = pd.read_csv('regions-info.csv')\n",
    "\n",
    "# russia_regions[(russia_regions.Region =='Московская область')|(russia_regions.Region =='Москва')|\n",
    "#               (russia_regions.Region =='Санкт-Петербург')].tail()"
   ]
  },
  {
   "cell_type": "code",
   "execution_count": 9,
   "metadata": {},
   "outputs": [],
   "source": [
    "X.to_csv('X.csv',index=False)\n"
   ]
  },
  {
   "cell_type": "code",
   "execution_count": 10,
   "metadata": {},
   "outputs": [
    {
     "output_type": "display_data",
     "data": {
      "application/vnd.plotly.v1+json": {
       "config": {
        "plotlyServerURL": "https://plot.ly"
       },
       "data": [
        {
         "colorscale": [
          [
           0,
           "#00083e"
          ],
          [
           0.5,
           "#ededee"
          ],
          [
           1,
           "#ffffff"
          ]
         ],
         "hoverinfo": "none",
         "opacity": 0.75,
         "showscale": false,
         "type": "heatmap",
         "z": [
          [
           0,
           0,
           0,
           0
          ],
          [
           0.5,
           0.5,
           0.5,
           0.5
          ],
          [
           1,
           1,
           1,
           1
          ],
          [
           0.5,
           0.5,
           0.5,
           0.5
          ],
          [
           1,
           1,
           1,
           1
          ],
          [
           0.5,
           0.5,
           0.5,
           0.5
          ],
          [
           1,
           1,
           1,
           1
          ],
          [
           0.5,
           0.5,
           0.5,
           0.5
          ],
          [
           1,
           1,
           1,
           1
          ],
          [
           0.5,
           0.5,
           0.5,
           0.5
          ],
          [
           1,
           1,
           1,
           1
          ],
          [
           0.5,
           0.5,
           0.5,
           0.5
          ],
          [
           1,
           1,
           1,
           1
          ],
          [
           0.5,
           0.5,
           0.5,
           0.5
          ],
          [
           1,
           1,
           1,
           1
          ],
          [
           0.5,
           0.5,
           0.5,
           0.5
          ]
         ]
        }
       ],
       "layout": {
        "annotations": [
         {
          "align": "left",
          "font": {
           "color": "#ffffff"
          },
          "showarrow": false,
          "text": "<b>По количеству текущих больных</b>",
          "x": -0.45,
          "xanchor": "left",
          "xref": "x",
          "y": 0,
          "yref": "y"
         },
         {
          "align": "left",
          "font": {
           "color": "#ffffff"
          },
          "showarrow": false,
          "text": "<b>По количеству новых</b>",
          "x": 0.55,
          "xanchor": "left",
          "xref": "x",
          "y": 0,
          "yref": "y"
         },
         {
          "align": "left",
          "font": {
           "color": "#ffffff"
          },
          "showarrow": false,
          "text": "<b>По умершим за день</b>",
          "x": 1.55,
          "xanchor": "left",
          "xref": "x",
          "y": 0,
          "yref": "y"
         },
         {
          "align": "left",
          "font": {
           "color": "#ffffff"
          },
          "showarrow": false,
          "text": "<b>По выздоровевшим за день</b>",
          "x": 2.55,
          "xanchor": "left",
          "xref": "x",
          "y": 0,
          "yref": "y"
         },
         {
          "align": "left",
          "font": {
           "color": "#000000"
          },
          "showarrow": false,
          "text": "Москва",
          "x": -0.45,
          "xanchor": "left",
          "xref": "x",
          "y": 1,
          "yref": "y"
         },
         {
          "align": "left",
          "font": {
           "color": "#000000"
          },
          "showarrow": false,
          "text": "Москва",
          "x": 0.55,
          "xanchor": "left",
          "xref": "x",
          "y": 1,
          "yref": "y"
         },
         {
          "align": "left",
          "font": {
           "color": "#000000"
          },
          "showarrow": false,
          "text": "Санкт-Петербург",
          "x": 1.55,
          "xanchor": "left",
          "xref": "x",
          "y": 1,
          "yref": "y"
         },
         {
          "align": "left",
          "font": {
           "color": "#000000"
          },
          "showarrow": false,
          "text": "Москва",
          "x": 2.55,
          "xanchor": "left",
          "xref": "x",
          "y": 1,
          "yref": "y"
         },
         {
          "align": "left",
          "font": {
           "color": "#000000"
          },
          "showarrow": false,
          "text": "Московская обл.",
          "x": -0.45,
          "xanchor": "left",
          "xref": "x",
          "y": 2,
          "yref": "y"
         },
         {
          "align": "left",
          "font": {
           "color": "#000000"
          },
          "showarrow": false,
          "text": "Санкт-Петербург",
          "x": 0.55,
          "xanchor": "left",
          "xref": "x",
          "y": 2,
          "yref": "y"
         },
         {
          "align": "left",
          "font": {
           "color": "#000000"
          },
          "showarrow": false,
          "text": "Москва",
          "x": 1.55,
          "xanchor": "left",
          "xref": "x",
          "y": 2,
          "yref": "y"
         },
         {
          "align": "left",
          "font": {
           "color": "#000000"
          },
          "showarrow": false,
          "text": "Нижегородская обл.",
          "x": 2.55,
          "xanchor": "left",
          "xref": "x",
          "y": 2,
          "yref": "y"
         },
         {
          "align": "left",
          "font": {
           "color": "#000000"
          },
          "showarrow": false,
          "text": "Санкт-Петербург",
          "x": -0.45,
          "xanchor": "left",
          "xref": "x",
          "y": 3,
          "yref": "y"
         },
         {
          "align": "left",
          "font": {
           "color": "#000000"
          },
          "showarrow": false,
          "text": "Московская обл.",
          "x": 0.55,
          "xanchor": "left",
          "xref": "x",
          "y": 3,
          "yref": "y"
         },
         {
          "align": "left",
          "font": {
           "color": "#000000"
          },
          "showarrow": false,
          "text": "Мурманская обл.",
          "x": 1.55,
          "xanchor": "left",
          "xref": "x",
          "y": 3,
          "yref": "y"
         },
         {
          "align": "left",
          "font": {
           "color": "#000000"
          },
          "showarrow": false,
          "text": "Ставропольский край",
          "x": 2.55,
          "xanchor": "left",
          "xref": "x",
          "y": 3,
          "yref": "y"
         },
         {
          "align": "left",
          "font": {
           "color": "#000000"
          },
          "showarrow": false,
          "text": "Свердловская обл.",
          "x": -0.45,
          "xanchor": "left",
          "xref": "x",
          "y": 4,
          "yref": "y"
         },
         {
          "align": "left",
          "font": {
           "color": "#000000"
          },
          "showarrow": false,
          "text": "Ростовская обл.",
          "x": 0.55,
          "xanchor": "left",
          "xref": "x",
          "y": 4,
          "yref": "y"
         },
         {
          "align": "left",
          "font": {
           "color": "#000000"
          },
          "showarrow": false,
          "text": "Свердловская обл.",
          "x": 1.55,
          "xanchor": "left",
          "xref": "x",
          "y": 4,
          "yref": "y"
         },
         {
          "align": "left",
          "font": {
           "color": "#000000"
          },
          "showarrow": false,
          "text": "ХМАО – Югра",
          "x": 2.55,
          "xanchor": "left",
          "xref": "x",
          "y": 4,
          "yref": "y"
         },
         {
          "align": "left",
          "font": {
           "color": "#000000"
          },
          "showarrow": false,
          "text": "Челябинская обл.",
          "x": -0.45,
          "xanchor": "left",
          "xref": "x",
          "y": 5,
          "yref": "y"
         },
         {
          "align": "left",
          "font": {
           "color": "#000000"
          },
          "showarrow": false,
          "text": "Ставропольский край",
          "x": 0.55,
          "xanchor": "left",
          "xref": "x",
          "y": 5,
          "yref": "y"
         },
         {
          "align": "left",
          "font": {
           "color": "#000000"
          },
          "showarrow": false,
          "text": "Ульяновская обл.",
          "x": 1.55,
          "xanchor": "left",
          "xref": "x",
          "y": 5,
          "yref": "y"
         },
         {
          "align": "left",
          "font": {
           "color": "#000000"
          },
          "showarrow": false,
          "text": "Ростовская обл.",
          "x": 2.55,
          "xanchor": "left",
          "xref": "x",
          "y": 5,
          "yref": "y"
         },
         {
          "align": "left",
          "font": {
           "color": "#000000"
          },
          "showarrow": false,
          "text": "Саратовская обл.",
          "x": -0.45,
          "xanchor": "left",
          "xref": "x",
          "y": 6,
          "yref": "y"
         },
         {
          "align": "left",
          "font": {
           "color": "#000000"
          },
          "showarrow": false,
          "text": "Нижегородская обл.",
          "x": 0.55,
          "xanchor": "left",
          "xref": "x",
          "y": 6,
          "yref": "y"
         },
         {
          "align": "left",
          "font": {
           "color": "#000000"
          },
          "showarrow": false,
          "text": "Красноярский край",
          "x": 1.55,
          "xanchor": "left",
          "xref": "x",
          "y": 6,
          "yref": "y"
         },
         {
          "align": "left",
          "font": {
           "color": "#000000"
          },
          "showarrow": false,
          "text": "Московская обл.",
          "x": 2.55,
          "xanchor": "left",
          "xref": "x",
          "y": 6,
          "yref": "y"
         },
         {
          "align": "left",
          "font": {
           "color": "#000000"
          },
          "showarrow": false,
          "text": "Иркутская обл.",
          "x": -0.45,
          "xanchor": "left",
          "xref": "x",
          "y": 7,
          "yref": "y"
         },
         {
          "align": "left",
          "font": {
           "color": "#000000"
          },
          "showarrow": false,
          "text": "Свердловская обл.",
          "x": 0.55,
          "xanchor": "left",
          "xref": "x",
          "y": 7,
          "yref": "y"
         },
         {
          "align": "left",
          "font": {
           "color": "#000000"
          },
          "showarrow": false,
          "text": "Ростовская обл.",
          "x": 1.55,
          "xanchor": "left",
          "xref": "x",
          "y": 7,
          "yref": "y"
         },
         {
          "align": "left",
          "font": {
           "color": "#000000"
          },
          "showarrow": false,
          "text": "Ульяновская обл.",
          "x": 2.55,
          "xanchor": "left",
          "xref": "x",
          "y": 7,
          "yref": "y"
         },
         {
          "align": "left",
          "font": {
           "color": "#000000"
          },
          "showarrow": false,
          "text": "Волгоградская обл.",
          "x": -0.45,
          "xanchor": "left",
          "xref": "x",
          "y": 8,
          "yref": "y"
         },
         {
          "align": "left",
          "font": {
           "color": "#000000"
          },
          "showarrow": false,
          "text": "Красноярский край",
          "x": 0.55,
          "xanchor": "left",
          "xref": "x",
          "y": 8,
          "yref": "y"
         },
         {
          "align": "left",
          "font": {
           "color": "#000000"
          },
          "showarrow": false,
          "text": "Омская обл.",
          "x": 1.55,
          "xanchor": "left",
          "xref": "x",
          "y": 8,
          "yref": "y"
         },
         {
          "align": "left",
          "font": {
           "color": "#000000"
          },
          "showarrow": false,
          "text": "Самарская обл.",
          "x": 2.55,
          "xanchor": "left",
          "xref": "x",
          "y": 8,
          "yref": "y"
         },
         {
          "align": "left",
          "font": {
           "color": "#000000"
          },
          "showarrow": false,
          "text": "Ставропольский край",
          "x": -0.45,
          "xanchor": "left",
          "xref": "x",
          "y": 9,
          "yref": "y"
         },
         {
          "align": "left",
          "font": {
           "color": "#000000"
          },
          "showarrow": false,
          "text": "Иркутская обл.",
          "x": 0.55,
          "xanchor": "left",
          "xref": "x",
          "y": 9,
          "yref": "y"
         },
         {
          "align": "left",
          "font": {
           "color": "#000000"
          },
          "showarrow": false,
          "text": "Саха (Якутия)",
          "x": 1.55,
          "xanchor": "left",
          "xref": "x",
          "y": 9,
          "yref": "y"
         },
         {
          "align": "left",
          "font": {
           "color": "#000000"
          },
          "showarrow": false,
          "text": "Ямало-Ненецкий АО",
          "x": 2.55,
          "xanchor": "left",
          "xref": "x",
          "y": 9,
          "yref": "y"
         },
         {
          "align": "left",
          "font": {
           "color": "#000000"
          },
          "showarrow": false,
          "text": "Ульяновская обл.",
          "x": -0.45,
          "xanchor": "left",
          "xref": "x",
          "y": 10,
          "yref": "y"
         },
         {
          "align": "left",
          "font": {
           "color": "#000000"
          },
          "showarrow": false,
          "text": "Саратовская обл.",
          "x": 0.55,
          "xanchor": "left",
          "xref": "x",
          "y": 10,
          "yref": "y"
         },
         {
          "align": "left",
          "font": {
           "color": "#000000"
          },
          "showarrow": false,
          "text": "Дагестан",
          "x": 1.55,
          "xanchor": "left",
          "xref": "x",
          "y": 10,
          "yref": "y"
         },
         {
          "align": "left",
          "font": {
           "color": "#000000"
          },
          "showarrow": false,
          "text": "Волгоградская обл.",
          "x": 2.55,
          "xanchor": "left",
          "xref": "x",
          "y": 10,
          "yref": "y"
         },
         {
          "align": "left",
          "font": {
           "color": "#000000"
          },
          "showarrow": false,
          "text": "Мурманская обл.",
          "x": -0.45,
          "xanchor": "left",
          "xref": "x",
          "y": 11,
          "yref": "y"
         },
         {
          "align": "left",
          "font": {
           "color": "#000000"
          },
          "showarrow": false,
          "text": "Воронежская обл.",
          "x": 0.55,
          "xanchor": "left",
          "xref": "x",
          "y": 11,
          "yref": "y"
         },
         {
          "align": "left",
          "font": {
           "color": "#000000"
          },
          "showarrow": false,
          "text": "Ленинградская обл.",
          "x": 1.55,
          "xanchor": "left",
          "xref": "x",
          "y": 11,
          "yref": "y"
         },
         {
          "align": "left",
          "font": {
           "color": "#000000"
          },
          "showarrow": false,
          "text": "Алтайский край",
          "x": 2.55,
          "xanchor": "left",
          "xref": "x",
          "y": 11,
          "yref": "y"
         },
         {
          "align": "left",
          "font": {
           "color": "#000000"
          },
          "showarrow": false,
          "text": "Красноярский край",
          "x": -0.45,
          "xanchor": "left",
          "xref": "x",
          "y": 12,
          "yref": "y"
         },
         {
          "align": "left",
          "font": {
           "color": "#000000"
          },
          "showarrow": false,
          "text": "Оренбургская обл.",
          "x": 0.55,
          "xanchor": "left",
          "xref": "x",
          "y": 12,
          "yref": "y"
         },
         {
          "align": "left",
          "font": {
           "color": "#000000"
          },
          "showarrow": false,
          "text": "Тульская обл.",
          "x": 1.55,
          "xanchor": "left",
          "xref": "x",
          "y": 12,
          "yref": "y"
         },
         {
          "align": "left",
          "font": {
           "color": "#000000"
          },
          "showarrow": false,
          "text": "Челябинская обл.",
          "x": 2.55,
          "xanchor": "left",
          "xref": "x",
          "y": 12,
          "yref": "y"
         },
         {
          "align": "left",
          "font": {
           "color": "#000000"
          },
          "showarrow": false,
          "text": "Нижегородская обл.",
          "x": -0.45,
          "xanchor": "left",
          "xref": "x",
          "y": 13,
          "yref": "y"
         },
         {
          "align": "left",
          "font": {
           "color": "#000000"
          },
          "showarrow": false,
          "text": "Кемеровская обл.",
          "x": 0.55,
          "xanchor": "left",
          "xref": "x",
          "y": 13,
          "yref": "y"
         },
         {
          "align": "left",
          "font": {
           "color": "#000000"
          },
          "showarrow": false,
          "text": "Ставропольский край",
          "x": 1.55,
          "xanchor": "left",
          "xref": "x",
          "y": 13,
          "yref": "y"
         },
         {
          "align": "left",
          "font": {
           "color": "#000000"
          },
          "showarrow": false,
          "text": "Омская обл.",
          "x": 2.55,
          "xanchor": "left",
          "xref": "x",
          "y": 13,
          "yref": "y"
         },
         {
          "align": "left",
          "font": {
           "color": "#000000"
          },
          "showarrow": false,
          "text": "Ростовская обл.",
          "x": -0.45,
          "xanchor": "left",
          "xref": "x",
          "y": 14,
          "yref": "y"
         },
         {
          "align": "left",
          "font": {
           "color": "#000000"
          },
          "showarrow": false,
          "text": "Архангельская обл.",
          "x": 0.55,
          "xanchor": "left",
          "xref": "x",
          "y": 14,
          "yref": "y"
         },
         {
          "align": "left",
          "font": {
           "color": "#000000"
          },
          "showarrow": false,
          "text": "Краснодарский край",
          "x": 1.55,
          "xanchor": "left",
          "xref": "x",
          "y": 14,
          "yref": "y"
         },
         {
          "align": "left",
          "font": {
           "color": "#000000"
          },
          "showarrow": false,
          "text": "Мурманская обл.",
          "x": 2.55,
          "xanchor": "left",
          "xref": "x",
          "y": 14,
          "yref": "y"
         },
         {
          "align": "left",
          "font": {
           "color": "#000000"
          },
          "showarrow": false,
          "text": "Хабаровский край",
          "x": -0.45,
          "xanchor": "left",
          "xref": "x",
          "y": 15,
          "yref": "y"
         },
         {
          "align": "left",
          "font": {
           "color": "#000000"
          },
          "showarrow": false,
          "text": "Краснодарский край",
          "x": 0.55,
          "xanchor": "left",
          "xref": "x",
          "y": 15,
          "yref": "y"
         },
         {
          "align": "left",
          "font": {
           "color": "#000000"
          },
          "showarrow": false,
          "text": "Вологодская обл.",
          "x": 1.55,
          "xanchor": "left",
          "xref": "x",
          "y": 15,
          "yref": "y"
         },
         {
          "align": "left",
          "font": {
           "color": "#000000"
          },
          "showarrow": false,
          "text": "Оренбургская обл.",
          "x": 2.55,
          "xanchor": "left",
          "xref": "x",
          "y": 15,
          "yref": "y"
         }
        ],
        "height": 600,
        "margin": {
         "b": 100,
         "l": 0,
         "r": 0,
         "t": 100
        },
        "template": {
         "data": {
          "pie": [
           {
            "automargin": true,
            "type": "pie"
           }
          ]
         },
         "layout": {
          "xaxis": {
           "showgrid": true,
           "title": {
            "standoff": 15
           }
          },
          "yaxis": {
           "showgrid": true,
           "title": {
            "standoff": 15
           }
          }
         }
        },
        "title": {
         "text": "Таблица рейтингов заболеваемости COVID-19 по регионам",
         "x": 0.5,
         "xanchor": "center",
         "y": 0.95,
         "yanchor": "top"
        },
        "width": 990,
        "xaxis": {
         "dtick": 1,
         "gridwidth": 2,
         "showticklabels": false,
         "tick0": -0.5,
         "ticks": "",
         "title": {
          "text": ""
         },
         "zeroline": false
        },
        "yaxis": {
         "autorange": "reversed",
         "dtick": 1,
         "gridwidth": 2,
         "showticklabels": false,
         "tick0": 0.5,
         "ticks": "",
         "title": {
          "text": ""
         },
         "zeroline": false
        }
       }
      }
     },
     "metadata": {}
    }
   ],
   "source": [
    "covid_rates = pd.DataFrame()\n",
    "mask = (X.Date==myday)&(X.Region!='Россия')\n",
    "today_cases = X[mask]\n",
    "#covid_rates.reset_index(drop=True)\n",
    "\n",
    "covid_rates['По количеству текущих больных'] = today_cases.sort_values(by=['Remaining_ill'],ascending = False).Region.reset_index(drop=True)\n",
    "covid_rates['По количеству новых'] = today_cases.sort_values(by=['Day_confirmed'],ascending = False).Region.reset_index(drop=True)\n",
    "covid_rates['По умершим за день'] = today_cases.sort_values(by=['Day_deaths'],ascending = False).Region.reset_index(drop=True)\n",
    "covid_rates['По выздоровевшим за день'] = today_cases.sort_values(by=['Day_recovered'],ascending = False).Region.reset_index(drop=True)\n",
    "\n",
    "fig =  ff.create_table(covid_rates.head(15))\n",
    "fig.update_layout(\n",
    "    \n",
    "                  title_text ='Таблица рейтингов заболеваемости COVID-19 по регионам',\n",
    "                  margin = {'t':100, 'b':100},\n",
    "                  title_x = 0.5,\n",
    "                  title_y= 0.95,\n",
    "                  title_xanchor = \"center\",\n",
    "                  title_yanchor = \"top\", \n",
    "                  \n",
    "                  width = 990, height = 600,template = 'gridon',\n",
    "    \n",
    "    \n",
    "                  xaxis_title='',yaxis_title = ''\n",
    ")\n",
    "fig.show()\n",
    "\n",
    "\n"
   ]
  },
  {
   "cell_type": "code",
   "execution_count": 11,
   "metadata": {},
   "outputs": [
    {
     "output_type": "execute_result",
     "data": {
      "text/plain": "['Москва',\n 'Московская обл.',\n 'Санкт-Петербург',\n 'Свердловская обл.',\n 'Челябинская обл.',\n 'Россия']"
     },
     "metadata": {},
     "execution_count": 11
    }
   ],
   "source": [
    "region_number = 5\n",
    "regions_towatch = list(covid_rates['По количеству текущих больных'].head(region_number))\n",
    "regions_towatch.append(\"Россия\")\n",
    "regions_towatch"
   ]
  },
  {
   "cell_type": "code",
   "execution_count": 12,
   "metadata": {},
   "outputs": [
    {
     "output_type": "display_data",
     "data": {
      "application/vnd.plotly.v1+json": {
       "config": {
        "plotlyServerURL": "https://plot.ly"
       },
       "data": [
        {
         "hovertemplate": "Регион:=Москва<br>Date=%{x}<br>Day_confirmed=%{y}<extra></extra>",
         "legendgroup": "Москва",
         "line": {
          "color": "red",
          "dash": "solid",
          "shape": "spline"
         },
         "mode": "lines",
         "name": "Москва",
         "orientation": "v",
         "showlegend": true,
         "type": "scatter",
         "x": [
          "2020-05-02",
          "2020-05-03",
          "2020-05-04",
          "2020-05-05",
          "2020-05-06",
          "2020-05-07",
          "2020-05-08",
          "2020-05-09",
          "2020-05-10",
          "2020-05-11",
          "2020-05-12",
          "2020-05-13",
          "2020-05-14",
          "2020-05-15",
          "2020-05-16",
          "2020-05-17",
          "2020-05-18",
          "2020-05-19",
          "2020-05-20",
          "2020-05-21",
          "2020-05-22",
          "2020-05-23",
          "2020-05-24",
          "2020-05-25",
          "2020-05-26",
          "2020-05-27",
          "2020-05-28",
          "2020-05-29",
          "2020-05-30",
          "2020-05-31",
          "2020-06-01",
          "2020-06-02",
          "2020-06-03",
          "2020-06-04",
          "2020-06-05",
          "2020-06-06",
          "2020-06-07",
          "2020-06-08",
          "2020-06-09",
          "2020-06-10",
          "2020-06-11",
          "2020-06-12",
          "2020-06-13",
          "2020-06-14",
          "2020-06-15",
          "2020-06-16",
          "2020-06-17",
          "2020-06-18",
          "2020-06-19",
          "2020-06-20",
          "2020-06-21",
          "2020-06-22",
          "2020-06-23",
          "2020-06-24",
          "2020-06-25",
          "2020-06-26",
          "2020-06-27",
          "2020-06-28",
          "2020-06-29",
          "2020-06-30",
          "2020-07-01",
          "2020-07-02",
          "2020-07-03",
          "2020-07-04",
          "2020-07-05",
          "2020-07-06",
          "2020-07-07",
          "2020-07-08",
          "2020-07-09",
          "2020-07-10",
          "2020-07-11",
          "2020-07-12",
          "2020-07-13",
          "2020-07-14",
          "2020-07-15",
          "2020-07-16",
          "2020-07-17",
          "2020-07-18",
          "2020-07-19",
          "2020-07-20",
          "2020-07-21",
          "2020-07-22",
          "2020-07-23",
          "2020-07-24",
          "2020-07-25",
          "2020-07-26",
          "2020-07-27",
          "2020-07-28",
          "2020-07-29",
          "2020-07-30",
          "2020-07-31",
          "2020-08-01",
          "2020-08-02",
          "2020-08-03",
          "2020-08-04",
          "2020-08-05",
          "2020-08-06",
          "2020-08-07",
          "2020-08-08",
          "2020-08-09",
          "2020-08-10",
          "2020-08-11",
          "2020-08-12",
          "2020-08-13",
          "2020-08-14",
          "2020-08-15",
          "2020-08-16",
          "2020-08-17",
          "2020-08-18",
          "2020-08-19",
          "2020-08-20",
          "2020-08-21",
          "2020-08-22"
         ],
         "xaxis": "x",
         "y": [
          5358,
          5948,
          5795,
          5714,
          5858,
          6703,
          5846,
          5667,
          5551,
          6169,
          5392,
          4703,
          4712,
          4748,
          3505,
          3855,
          3238,
          3545,
          2699,
          2913,
          2988,
          3190,
          2516,
          2560,
          2830,
          2140,
          2054,
          2332,
          2367,
          2595,
          2297,
          2286,
          1842,
          1998,
          1855,
          1992,
          1956,
          2001,
          1572,
          1195,
          1436,
          1714,
          1493,
          1477,
          1359,
          1416,
          1065,
          1040,
          1136,
          1057,
          968,
          1068,
          1081,
          811,
          885,
          813,
          750,
          717,
          782,
          745,
          611,
          662,
          659,
          680,
          650,
          685,
          629,
          621,
          568,
          637,
          678,
          679,
          672,
          613,
          628,
          531,
          575,
          578,
          591,
          578,
          602,
          638,
          608,
          645,
          648,
          683,
          694,
          674,
          671,
          678,
          695,
          690,
          664,
          693,
          691,
          687,
          684,
          686,
          691,
          689,
          694,
          694,
          689,
          692,
          688,
          695,
          688,
          690,
          693,
          691,
          688,
          690,
          687
         ],
         "yaxis": "y"
        },
        {
         "hovertemplate": "Регион:=Московская обл.<br>Date=%{x}<br>Day_confirmed=%{y}<extra></extra>",
         "legendgroup": "Московская обл.",
         "line": {
          "color": "magenta",
          "dash": "solid",
          "shape": "spline"
         },
         "mode": "lines",
         "name": "Московская обл.",
         "orientation": "v",
         "showlegend": true,
         "type": "scatter",
         "x": [
          "2020-05-02",
          "2020-05-03",
          "2020-05-04",
          "2020-05-05",
          "2020-05-06",
          "2020-05-07",
          "2020-05-08",
          "2020-05-09",
          "2020-05-10",
          "2020-05-11",
          "2020-05-12",
          "2020-05-13",
          "2020-05-14",
          "2020-05-15",
          "2020-05-16",
          "2020-05-17",
          "2020-05-18",
          "2020-05-19",
          "2020-05-20",
          "2020-05-21",
          "2020-05-22",
          "2020-05-23",
          "2020-05-24",
          "2020-05-25",
          "2020-05-26",
          "2020-05-27",
          "2020-05-28",
          "2020-05-29",
          "2020-05-30",
          "2020-05-31",
          "2020-06-01",
          "2020-06-02",
          "2020-06-03",
          "2020-06-04",
          "2020-06-05",
          "2020-06-06",
          "2020-06-07",
          "2020-06-08",
          "2020-06-09",
          "2020-06-10",
          "2020-06-11",
          "2020-06-12",
          "2020-06-13",
          "2020-06-14",
          "2020-06-15",
          "2020-06-16",
          "2020-06-17",
          "2020-06-18",
          "2020-06-19",
          "2020-06-20",
          "2020-06-21",
          "2020-06-22",
          "2020-06-23",
          "2020-06-24",
          "2020-06-25",
          "2020-06-26",
          "2020-06-27",
          "2020-06-28",
          "2020-06-29",
          "2020-06-30",
          "2020-07-01",
          "2020-07-02",
          "2020-07-03",
          "2020-07-04",
          "2020-07-05",
          "2020-07-06",
          "2020-07-07",
          "2020-07-08",
          "2020-07-09",
          "2020-07-10",
          "2020-07-11",
          "2020-07-12",
          "2020-07-13",
          "2020-07-14",
          "2020-07-15",
          "2020-07-16",
          "2020-07-17",
          "2020-07-18",
          "2020-07-19",
          "2020-07-20",
          "2020-07-21",
          "2020-07-22",
          "2020-07-23",
          "2020-07-24",
          "2020-07-25",
          "2020-07-26",
          "2020-07-27",
          "2020-07-28",
          "2020-07-29",
          "2020-07-30",
          "2020-07-31",
          "2020-08-01",
          "2020-08-02",
          "2020-08-03",
          "2020-08-04",
          "2020-08-05",
          "2020-08-06",
          "2020-08-07",
          "2020-08-08",
          "2020-08-09",
          "2020-08-10",
          "2020-08-11",
          "2020-08-12",
          "2020-08-13",
          "2020-08-14",
          "2020-08-15",
          "2020-08-16",
          "2020-08-17",
          "2020-08-18",
          "2020-08-19",
          "2020-08-20",
          "2020-08-21",
          "2020-08-22"
         ],
         "xaxis": "x",
         "y": [
          807,
          822,
          803,
          822,
          829,
          842,
          918,
          1075,
          1133,
          1079,
          1063,
          962,
          918,
          945,
          937,
          907,
          921,
          898,
          903,
          892,
          824,
          846,
          862,
          831,
          817,
          793,
          774,
          773,
          735,
          757,
          728,
          732,
          736,
          767,
          762,
          758,
          754,
          751,
          739,
          735,
          724,
          730,
          725,
          717,
          689,
          694,
          680,
          667,
          646,
          591,
          549,
          506,
          504,
          507,
          467,
          390,
          366,
          325,
          335,
          301,
          306,
          317,
          298,
          275,
          287,
          292,
          177,
          194,
          192,
          199,
          188,
          197,
          196,
          198,
          173,
          174,
          166,
          173,
          171,
          153,
          149,
          128,
          145,
          143,
          148,
          144,
          139,
          126,
          137,
          144,
          150,
          149,
          157,
          160,
          161,
          162,
          159,
          158,
          161,
          149,
          153,
          154,
          152,
          148,
          156,
          153,
          154,
          153,
          145,
          151,
          157,
          151,
          161
         ],
         "yaxis": "y"
        },
        {
         "hovertemplate": "Регион:=Россия<br>Date=%{x}<br>Day_confirmed=%{y}<extra></extra>",
         "legendgroup": "Россия",
         "line": {
          "color": "aquamarine",
          "dash": "solid",
          "shape": "spline"
         },
         "mode": "lines",
         "name": "Россия",
         "orientation": "v",
         "showlegend": true,
         "type": "scatter",
         "x": [
          "2020-05-02",
          "2020-05-03",
          "2020-05-04",
          "2020-05-05",
          "2020-05-06",
          "2020-05-07",
          "2020-05-08",
          "2020-05-09",
          "2020-05-10",
          "2020-05-11",
          "2020-05-12",
          "2020-05-13",
          "2020-05-14",
          "2020-05-15",
          "2020-05-16",
          "2020-05-17",
          "2020-05-18",
          "2020-05-19",
          "2020-05-20",
          "2020-05-21",
          "2020-05-22",
          "2020-05-23",
          "2020-05-24",
          "2020-05-25",
          "2020-05-26",
          "2020-05-27",
          "2020-05-28",
          "2020-05-29",
          "2020-05-30",
          "2020-05-31",
          "2020-06-01",
          "2020-06-02",
          "2020-06-03",
          "2020-06-04",
          "2020-06-05",
          "2020-06-06",
          "2020-06-07",
          "2020-06-08",
          "2020-06-09",
          "2020-06-10",
          "2020-06-11",
          "2020-06-12",
          "2020-06-13",
          "2020-06-14",
          "2020-06-15",
          "2020-06-16",
          "2020-06-17",
          "2020-06-18",
          "2020-06-19",
          "2020-06-20",
          "2020-06-21",
          "2020-06-22",
          "2020-06-23",
          "2020-06-24",
          "2020-06-25",
          "2020-06-26",
          "2020-06-27",
          "2020-06-28",
          "2020-06-29",
          "2020-06-30",
          "2020-07-01",
          "2020-07-02",
          "2020-07-03",
          "2020-07-04",
          "2020-07-05",
          "2020-07-06",
          "2020-07-07",
          "2020-07-08",
          "2020-07-09",
          "2020-07-10",
          "2020-07-11",
          "2020-07-12",
          "2020-07-13",
          "2020-07-14",
          "2020-07-15",
          "2020-07-16",
          "2020-07-17",
          "2020-07-18",
          "2020-07-19",
          "2020-07-20",
          "2020-07-21",
          "2020-07-22",
          "2020-07-23",
          "2020-07-24",
          "2020-07-25",
          "2020-07-26",
          "2020-07-27",
          "2020-07-28",
          "2020-07-29",
          "2020-07-30",
          "2020-07-31",
          "2020-08-01",
          "2020-08-02",
          "2020-08-03",
          "2020-08-04",
          "2020-08-05",
          "2020-08-06",
          "2020-08-07",
          "2020-08-08",
          "2020-08-09",
          "2020-08-10",
          "2020-08-11",
          "2020-08-12",
          "2020-08-13",
          "2020-08-14",
          "2020-08-15",
          "2020-08-16",
          "2020-08-17",
          "2020-08-18",
          "2020-08-19",
          "2020-08-20",
          "2020-08-21",
          "2020-08-22"
         ],
         "xaxis": "x",
         "y": [
          9623,
          10633,
          10581,
          10102,
          10559,
          11231,
          10699,
          10817,
          11012,
          11656,
          10899,
          10028,
          9974,
          10598,
          9200,
          9709,
          8926,
          9263,
          8764,
          8849,
          8894,
          9434,
          8599,
          8946,
          8915,
          8338,
          8371,
          8572,
          8952,
          9268,
          9035,
          8863,
          8536,
          8831,
          8726,
          8855,
          8984,
          8985,
          8595,
          8404,
          8779,
          8987,
          8706,
          8835,
          8246,
          8248,
          7843,
          7790,
          7972,
          7889,
          7728,
          7600,
          7425,
          7176,
          7113,
          6800,
          6852,
          6791,
          6719,
          6693,
          6556,
          6760,
          6718,
          6632,
          6736,
          6611,
          6368,
          6562,
          6509,
          6635,
          6611,
          6615,
          6537,
          6248,
          6422,
          6428,
          6406,
          6234,
          6109,
          5940,
          5842,
          5862,
          5848,
          5811,
          5871,
          5765,
          5635,
          5395,
          5475,
          5509,
          5482,
          5462,
          5427,
          5394,
          5159,
          5204,
          5267,
          5241,
          5212,
          5189,
          5118,
          4945,
          5102,
          5057,
          5065,
          5061,
          4969,
          4892,
          4748,
          4828,
          4785,
          4870,
          4921
         ],
         "yaxis": "y"
        },
        {
         "hovertemplate": "Регион:=Санкт-Петербург<br>Date=%{x}<br>Day_confirmed=%{y}<extra></extra>",
         "legendgroup": "Санкт-Петербург",
         "line": {
          "color": "goldenrod",
          "dash": "solid",
          "shape": "spline"
         },
         "mode": "lines",
         "name": "Санкт-Петербург",
         "orientation": "v",
         "showlegend": true,
         "type": "scatter",
         "x": [
          "2020-05-02",
          "2020-05-03",
          "2020-05-04",
          "2020-05-05",
          "2020-05-06",
          "2020-05-07",
          "2020-05-08",
          "2020-05-09",
          "2020-05-10",
          "2020-05-11",
          "2020-05-12",
          "2020-05-13",
          "2020-05-14",
          "2020-05-15",
          "2020-05-16",
          "2020-05-17",
          "2020-05-18",
          "2020-05-19",
          "2020-05-20",
          "2020-05-21",
          "2020-05-22",
          "2020-05-23",
          "2020-05-24",
          "2020-05-25",
          "2020-05-26",
          "2020-05-27",
          "2020-05-28",
          "2020-05-29",
          "2020-05-30",
          "2020-05-31",
          "2020-06-01",
          "2020-06-02",
          "2020-06-03",
          "2020-06-04",
          "2020-06-05",
          "2020-06-06",
          "2020-06-07",
          "2020-06-08",
          "2020-06-09",
          "2020-06-10",
          "2020-06-11",
          "2020-06-12",
          "2020-06-13",
          "2020-06-14",
          "2020-06-15",
          "2020-06-16",
          "2020-06-17",
          "2020-06-18",
          "2020-06-19",
          "2020-06-20",
          "2020-06-21",
          "2020-06-22",
          "2020-06-23",
          "2020-06-24",
          "2020-06-25",
          "2020-06-26",
          "2020-06-27",
          "2020-06-28",
          "2020-06-29",
          "2020-06-30",
          "2020-07-01",
          "2020-07-02",
          "2020-07-03",
          "2020-07-04",
          "2020-07-05",
          "2020-07-06",
          "2020-07-07",
          "2020-07-08",
          "2020-07-09",
          "2020-07-10",
          "2020-07-11",
          "2020-07-12",
          "2020-07-13",
          "2020-07-14",
          "2020-07-15",
          "2020-07-16",
          "2020-07-17",
          "2020-07-18",
          "2020-07-19",
          "2020-07-20",
          "2020-07-21",
          "2020-07-22",
          "2020-07-23",
          "2020-07-24",
          "2020-07-25",
          "2020-07-26",
          "2020-07-27",
          "2020-07-28",
          "2020-07-29",
          "2020-07-30",
          "2020-07-31",
          "2020-08-01",
          "2020-08-02",
          "2020-08-03",
          "2020-08-04",
          "2020-08-05",
          "2020-08-06",
          "2020-08-07",
          "2020-08-08",
          "2020-08-09",
          "2020-08-10",
          "2020-08-11",
          "2020-08-12",
          "2020-08-13",
          "2020-08-14",
          "2020-08-15",
          "2020-08-16",
          "2020-08-17",
          "2020-08-18",
          "2020-08-19",
          "2020-08-20",
          "2020-08-21",
          "2020-08-22"
         ],
         "xaxis": "x",
         "y": [
          323,
          295,
          317,
          226,
          312,
          306,
          375,
          425,
          414,
          307,
          339,
          435,
          460,
          541,
          525,
          451,
          425,
          453,
          455,
          408,
          389,
          363,
          384,
          374,
          363,
          387,
          383,
          369,
          365,
          369,
          364,
          376,
          380,
          375,
          378,
          347,
          340,
          326,
          318,
          313,
          303,
          274,
          262,
          256,
          252,
          234,
          228,
          231,
          228,
          232,
          229,
          217,
          220,
          218,
          221,
          223,
          224,
          217,
          219,
          253,
          262,
          258,
          263,
          271,
          275,
          280,
          278,
          295,
          292,
          300,
          296,
          293,
          291,
          281,
          264,
          256,
          244,
          238,
          202,
          195,
          189,
          186,
          184,
          181,
          179,
          175,
          172,
          168,
          165,
          162,
          159,
          161,
          163,
          160,
          158,
          156,
          159,
          157,
          155,
          160,
          157,
          157,
          161,
          160,
          159,
          162,
          163,
          159,
          157,
          162,
          160,
          181,
          183
         ],
         "yaxis": "y"
        },
        {
         "hovertemplate": "Регион:=Свердловская обл.<br>Date=%{x}<br>Day_confirmed=%{y}<extra></extra>",
         "legendgroup": "Свердловская обл.",
         "line": {
          "color": "green",
          "dash": "solid",
          "shape": "spline"
         },
         "mode": "lines",
         "name": "Свердловская обл.",
         "orientation": "v",
         "showlegend": true,
         "type": "scatter",
         "x": [
          "2020-05-02",
          "2020-05-03",
          "2020-05-04",
          "2020-05-05",
          "2020-05-06",
          "2020-05-07",
          "2020-05-08",
          "2020-05-09",
          "2020-05-10",
          "2020-05-11",
          "2020-05-12",
          "2020-05-13",
          "2020-05-14",
          "2020-05-15",
          "2020-05-16",
          "2020-05-17",
          "2020-05-18",
          "2020-05-19",
          "2020-05-20",
          "2020-05-21",
          "2020-05-22",
          "2020-05-23",
          "2020-05-24",
          "2020-05-25",
          "2020-05-26",
          "2020-05-27",
          "2020-05-28",
          "2020-05-29",
          "2020-05-30",
          "2020-05-31",
          "2020-06-01",
          "2020-06-02",
          "2020-06-03",
          "2020-06-04",
          "2020-06-05",
          "2020-06-06",
          "2020-06-07",
          "2020-06-08",
          "2020-06-09",
          "2020-06-10",
          "2020-06-11",
          "2020-06-12",
          "2020-06-13",
          "2020-06-14",
          "2020-06-15",
          "2020-06-16",
          "2020-06-17",
          "2020-06-18",
          "2020-06-19",
          "2020-06-20",
          "2020-06-21",
          "2020-06-22",
          "2020-06-23",
          "2020-06-24",
          "2020-06-25",
          "2020-06-26",
          "2020-06-27",
          "2020-06-28",
          "2020-06-29",
          "2020-06-30",
          "2020-07-01",
          "2020-07-02",
          "2020-07-03",
          "2020-07-04",
          "2020-07-05",
          "2020-07-06",
          "2020-07-07",
          "2020-07-08",
          "2020-07-09",
          "2020-07-10",
          "2020-07-11",
          "2020-07-12",
          "2020-07-13",
          "2020-07-14",
          "2020-07-15",
          "2020-07-16",
          "2020-07-17",
          "2020-07-18",
          "2020-07-19",
          "2020-07-20",
          "2020-07-21",
          "2020-07-22",
          "2020-07-23",
          "2020-07-24",
          "2020-07-25",
          "2020-07-26",
          "2020-07-27",
          "2020-07-28",
          "2020-07-29",
          "2020-07-30",
          "2020-07-31",
          "2020-08-01",
          "2020-08-02",
          "2020-08-03",
          "2020-08-04",
          "2020-08-05",
          "2020-08-06",
          "2020-08-07",
          "2020-08-08",
          "2020-08-09",
          "2020-08-10",
          "2020-08-11",
          "2020-08-12",
          "2020-08-13",
          "2020-08-14",
          "2020-08-15",
          "2020-08-16",
          "2020-08-17",
          "2020-08-18",
          "2020-08-19",
          "2020-08-20",
          "2020-08-21",
          "2020-08-22"
         ],
         "xaxis": "x",
         "y": [
          81,
          75,
          53,
          133,
          76,
          76,
          155,
          121,
          139,
          108,
          211,
          135,
          64,
          104,
          105,
          160,
          130,
          138,
          135,
          174,
          135,
          171,
          90,
          279,
          207,
          235,
          268,
          230,
          261,
          265,
          283,
          292,
          357,
          298,
          251,
          249,
          240,
          249,
          242,
          284,
          312,
          320,
          245,
          254,
          233,
          231,
          227,
          231,
          254,
          224,
          207,
          197,
          182,
          181,
          192,
          193,
          216,
          209,
          214,
          276,
          256,
          224,
          227,
          268,
          266,
          270,
          226,
          263,
          276,
          275,
          280,
          286,
          218,
          245,
          263,
          349,
          301,
          259,
          245,
          234,
          227,
          234,
          249,
          248,
          251,
          241,
          252,
          209,
          223,
          215,
          210,
          202,
          199,
          196,
          182,
          181,
          183,
          180,
          178,
          184,
          179,
          168,
          167,
          162,
          154,
          158,
          150,
          141,
          149,
          147,
          139,
          124,
          121
         ],
         "yaxis": "y"
        },
        {
         "hovertemplate": "Регион:=Челябинская обл.<br>Date=%{x}<br>Day_confirmed=%{y}<extra></extra>",
         "legendgroup": "Челябинская обл.",
         "line": {
          "color": "#FF6692",
          "dash": "solid",
          "shape": "spline"
         },
         "mode": "lines",
         "name": "Челябинская обл.",
         "orientation": "v",
         "showlegend": true,
         "type": "scatter",
         "x": [
          "2020-05-02",
          "2020-05-03",
          "2020-05-04",
          "2020-05-05",
          "2020-05-06",
          "2020-05-07",
          "2020-05-08",
          "2020-05-09",
          "2020-05-10",
          "2020-05-11",
          "2020-05-12",
          "2020-05-13",
          "2020-05-14",
          "2020-05-15",
          "2020-05-16",
          "2020-05-17",
          "2020-05-18",
          "2020-05-19",
          "2020-05-20",
          "2020-05-21",
          "2020-05-22",
          "2020-05-23",
          "2020-05-24",
          "2020-05-25",
          "2020-05-26",
          "2020-05-27",
          "2020-05-28",
          "2020-05-29",
          "2020-05-30",
          "2020-05-31",
          "2020-06-01",
          "2020-06-02",
          "2020-06-03",
          "2020-06-04",
          "2020-06-05",
          "2020-06-06",
          "2020-06-07",
          "2020-06-08",
          "2020-06-09",
          "2020-06-10",
          "2020-06-11",
          "2020-06-12",
          "2020-06-13",
          "2020-06-14",
          "2020-06-15",
          "2020-06-16",
          "2020-06-17",
          "2020-06-18",
          "2020-06-19",
          "2020-06-20",
          "2020-06-21",
          "2020-06-22",
          "2020-06-23",
          "2020-06-24",
          "2020-06-25",
          "2020-06-26",
          "2020-06-27",
          "2020-06-28",
          "2020-06-29",
          "2020-06-30",
          "2020-07-01",
          "2020-07-02",
          "2020-07-03",
          "2020-07-04",
          "2020-07-05",
          "2020-07-06",
          "2020-07-07",
          "2020-07-08",
          "2020-07-09",
          "2020-07-10",
          "2020-07-11",
          "2020-07-12",
          "2020-07-13",
          "2020-07-14",
          "2020-07-15",
          "2020-07-16",
          "2020-07-17",
          "2020-07-18",
          "2020-07-19",
          "2020-07-20",
          "2020-07-21",
          "2020-07-22",
          "2020-07-23",
          "2020-07-24",
          "2020-07-25",
          "2020-07-26",
          "2020-07-27",
          "2020-07-28",
          "2020-07-29",
          "2020-07-30",
          "2020-07-31",
          "2020-08-01",
          "2020-08-02",
          "2020-08-03",
          "2020-08-04",
          "2020-08-05",
          "2020-08-06",
          "2020-08-07",
          "2020-08-08",
          "2020-08-09",
          "2020-08-10",
          "2020-08-11",
          "2020-08-12",
          "2020-08-13",
          "2020-08-14",
          "2020-08-15",
          "2020-08-16",
          "2020-08-17",
          "2020-08-18",
          "2020-08-19",
          "2020-08-20",
          "2020-08-21",
          "2020-08-22"
         ],
         "xaxis": "x",
         "y": [
          30,
          63,
          51,
          86,
          44,
          27,
          42,
          70,
          90,
          77,
          94,
          51,
          44,
          100,
          69,
          98,
          85,
          96,
          74,
          84,
          80,
          80,
          62,
          45,
          36,
          70,
          82,
          141,
          150,
          136,
          134,
          113,
          108,
          113,
          108,
          128,
          115,
          123,
          143,
          135,
          115,
          91,
          120,
          141,
          169,
          171,
          136,
          167,
          166,
          176,
          182,
          176,
          258,
          185,
          174,
          160,
          158,
          152,
          146,
          144,
          137,
          134,
          129,
          128,
          131,
          128,
          138,
          135,
          129,
          129,
          129,
          119,
          132,
          132,
          132,
          125,
          131,
          132,
          130,
          134,
          130,
          132,
          130,
          121,
          124,
          131,
          128,
          124,
          125,
          119,
          117,
          110,
          109,
          107,
          105,
          103,
          92,
          89,
          87,
          94,
          83,
          85,
          88,
          84,
          80,
          76,
          79,
          69,
          67,
          71,
          71,
          73,
          71
         ],
         "yaxis": "y"
        }
       ],
       "layout": {
        "annotations": [
         {
          "showarrow": false,
          "text": "Данные: Яндекс",
          "x": 0.5,
          "xref": "paper",
          "y": -0.15,
          "yref": "paper"
         }
        ],
        "height": 600,
        "legend": {
         "title": {
          "text": "Регион:"
         },
         "tracegroupgap": 0
        },
        "template": {
         "data": {
          "pie": [
           {
            "automargin": true,
            "type": "pie"
           }
          ]
         },
         "layout": {
          "xaxis": {
           "showgrid": true,
           "title": {
            "standoff": 15
           }
          },
          "yaxis": {
           "showgrid": true,
           "title": {
            "standoff": 15
           }
          }
         }
        },
        "title": {
         "text": "График количества новых больных по 5 регионам с наибольшим количеством заболеваний",
         "x": 0.5,
         "xanchor": "center",
         "y": 0.9,
         "yanchor": "bottom"
        },
        "width": 990,
        "xaxis": {
         "anchor": "y",
         "domain": [
          0,
          1
         ],
         "title": {
          "text": ""
         }
        },
        "yaxis": {
         "anchor": "x",
         "domain": [
          0,
          1
         ],
         "title": {
          "text": ""
         }
        }
       }
      }
     },
     "metadata": {}
    }
   ],
   "source": [
    "mask = (X.Date>datetime.date(2020,5,1))&(X.Region.isin(regions_towatch))\n",
    "#mask = (X.Region.isin(regions_towatch))\n",
    "\n",
    "fig = px.line(X[mask], y=\"Day_confirmed\", x=\"Date\",\n",
    "                             color=\"Region\", line_group=\"Region\",\n",
    "              line_shape=\"spline\", render_mode=\"notebook\",labels={'Region':'Регион:'},\n",
    "              color_discrete_map={\n",
    "                \"Москва\": \"red\",\n",
    "                \"Московская обл.\": \"magenta\",\n",
    "                \"Санкт-Петербург\": \"goldenrod\",\n",
    "                \"Нижегородская обл.\": \"darkblue\",\n",
    "                \"Свердловская обл.\": \"green\",\n",
    "                 'Россия': 'aquamarine'},\n",
    "             title=\"График количества новых больных по 5 регионам с наибольшим количеством заболеваний\")\n",
    "\n",
    "fig.update_layout(\n",
    "    annotations=[\n",
    "            dict(\n",
    "            x=0.5,\n",
    "            y=-0.15,\n",
    "            showarrow=False,\n",
    "            text=\"Данные: Яндекс\",\n",
    "            xref=\"paper\",\n",
    "            yref=\"paper\")],\n",
    "           \n",
    "                  title_x = 0.5,\n",
    "                  title_y= 0.9,\n",
    "                  title_xanchor = \"center\",\n",
    "                  title_yanchor = \"bottom\", \n",
    "                  \n",
    "                  width = 990, height = 600,template = 'gridon',\n",
    "    \n",
    "    \n",
    "                  xaxis_title='',yaxis_title = ''\n",
    ")\n",
    "\n",
    "fig.show()\n",
    "\n",
    "\n",
    "\n",
    "\n"
   ]
  },
  {
   "cell_type": "code",
   "execution_count": 13,
   "metadata": {},
   "outputs": [
    {
     "output_type": "display_data",
     "data": {
      "application/vnd.plotly.v1+json": {
       "config": {
        "plotlyServerURL": "https://plot.ly"
       },
       "data": [
        {
         "marker": {
          "color": "red"
         },
         "name": "Москва",
         "showlegend": true,
         "text": [
          null,
          null,
          null,
          null,
          null,
          null,
          null,
          2.25,
          4,
          1.5,
          2,
          1.611,
          2.125,
          3.5,
          2.438,
          2.828,
          2.059,
          2.603,
          2.038,
          3.329,
          3.381,
          2.689,
          3.314,
          2.212,
          1.915,
          2.063,
          2.017,
          2.419,
          2.496,
          1.916,
          1.894,
          1.375,
          1.331,
          1.424,
          1.393,
          1.662,
          1.626,
          1.738,
          1.717,
          1.552,
          1.614,
          1.387,
          1.369,
          1.497,
          1.612,
          1.704,
          1.718,
          1.448,
          1.007,
          1.034,
          0.889,
          0.935,
          1.187,
          1.093,
          1.105,
          1.072,
          1.047,
          1.234,
          1.613,
          1.835,
          1.909,
          1.638,
          1.34,
          1.167,
          1.055,
          1.019,
          0.965,
          0.944,
          0.906,
          0.883,
          0.842,
          0.776,
          0.771,
          0.732,
          0.723,
          0.755,
          0.737,
          0.791,
          0.834,
          0.87,
          0.908,
          0.914,
          0.852,
          0.826,
          0.831,
          0.801,
          0.931,
          1.001,
          1.02,
          1.014,
          0.901,
          0.832,
          0.805,
          0.865,
          0.927,
          0.942,
          0.875,
          0.795,
          0.758,
          0.776,
          0.91,
          0.974,
          0.971,
          0.911,
          0.797,
          0.771,
          0.748,
          0.79,
          0.867,
          0.896,
          0.914,
          0.915,
          0.849,
          0.781,
          0.806,
          0.796,
          0.834,
          0.876,
          0.885,
          0.874,
          0.872,
          0.929,
          0.955,
          0.988,
          0.99,
          0.944,
          0.918,
          0.947,
          0.991,
          1.065,
          1.076,
          1.035,
          0.954,
          0.88,
          0.875,
          0.878,
          0.95,
          1.001,
          1.042,
          1.066,
          1.074,
          1.081,
          1.073,
          1.101,
          1.083,
          1.072,
          1.051,
          1.018,
          1.013,
          1.002,
          1.009,
          1.007,
          1,
          1.01,
          1.002,
          1.004,
          1.005,
          1.002,
          1.007,
          1.007,
          1.007,
          1.001,
          0.999,
          0.999,
          0.997,
          1.001,
          0.999,
          1,
          1,
          0.996
         ],
         "textposition": "inside",
         "type": "bar",
         "x": [
          "2020-03-06",
          "2020-03-07",
          "2020-03-08",
          "2020-03-09",
          "2020-03-10",
          "2020-03-11",
          "2020-03-12",
          "2020-03-13",
          "2020-03-14",
          "2020-03-15",
          "2020-03-16",
          "2020-03-17",
          "2020-03-18",
          "2020-03-19",
          "2020-03-20",
          "2020-03-21",
          "2020-03-22",
          "2020-03-23",
          "2020-03-24",
          "2020-03-25",
          "2020-03-26",
          "2020-03-27",
          "2020-03-28",
          "2020-03-29",
          "2020-03-30",
          "2020-03-31",
          "2020-04-01",
          "2020-04-02",
          "2020-04-03",
          "2020-04-04",
          "2020-04-05",
          "2020-04-06",
          "2020-04-07",
          "2020-04-08",
          "2020-04-09",
          "2020-04-10",
          "2020-04-11",
          "2020-04-12",
          "2020-04-13",
          "2020-04-14",
          "2020-04-15",
          "2020-04-16",
          "2020-04-17",
          "2020-04-18",
          "2020-04-19",
          "2020-04-20",
          "2020-04-21",
          "2020-04-22",
          "2020-04-23",
          "2020-04-24",
          "2020-04-25",
          "2020-04-26",
          "2020-04-27",
          "2020-04-28",
          "2020-04-29",
          "2020-04-30",
          "2020-05-01",
          "2020-05-02",
          "2020-05-03",
          "2020-05-04",
          "2020-05-05",
          "2020-05-06",
          "2020-05-07",
          "2020-05-08",
          "2020-05-09",
          "2020-05-10",
          "2020-05-11",
          "2020-05-12",
          "2020-05-13",
          "2020-05-14",
          "2020-05-15",
          "2020-05-16",
          "2020-05-17",
          "2020-05-18",
          "2020-05-19",
          "2020-05-20",
          "2020-05-21",
          "2020-05-22",
          "2020-05-23",
          "2020-05-24",
          "2020-05-25",
          "2020-05-26",
          "2020-05-27",
          "2020-05-28",
          "2020-05-29",
          "2020-05-30",
          "2020-05-31",
          "2020-06-01",
          "2020-06-02",
          "2020-06-03",
          "2020-06-04",
          "2020-06-05",
          "2020-06-06",
          "2020-06-07",
          "2020-06-08",
          "2020-06-09",
          "2020-06-10",
          "2020-06-11",
          "2020-06-12",
          "2020-06-13",
          "2020-06-14",
          "2020-06-15",
          "2020-06-16",
          "2020-06-17",
          "2020-06-18",
          "2020-06-19",
          "2020-06-20",
          "2020-06-21",
          "2020-06-22",
          "2020-06-23",
          "2020-06-24",
          "2020-06-25",
          "2020-06-26",
          "2020-06-27",
          "2020-06-28",
          "2020-06-29",
          "2020-06-30",
          "2020-07-01",
          "2020-07-02",
          "2020-07-03",
          "2020-07-04",
          "2020-07-05",
          "2020-07-06",
          "2020-07-07",
          "2020-07-08",
          "2020-07-09",
          "2020-07-10",
          "2020-07-11",
          "2020-07-12",
          "2020-07-13",
          "2020-07-14",
          "2020-07-15",
          "2020-07-16",
          "2020-07-17",
          "2020-07-18",
          "2020-07-19",
          "2020-07-20",
          "2020-07-21",
          "2020-07-22",
          "2020-07-23",
          "2020-07-24",
          "2020-07-25",
          "2020-07-26",
          "2020-07-27",
          "2020-07-28",
          "2020-07-29",
          "2020-07-30",
          "2020-07-31",
          "2020-08-01",
          "2020-08-02",
          "2020-08-03",
          "2020-08-04",
          "2020-08-05",
          "2020-08-06",
          "2020-08-07",
          "2020-08-08",
          "2020-08-09",
          "2020-08-10",
          "2020-08-11",
          "2020-08-12",
          "2020-08-13",
          "2020-08-14",
          "2020-08-15",
          "2020-08-16",
          "2020-08-17",
          "2020-08-18",
          "2020-08-19",
          "2020-08-20",
          "2020-08-21",
          "2020-08-22"
         ],
         "y": [
          null,
          null,
          null,
          null,
          null,
          null,
          null,
          2.25,
          4,
          1.5,
          2,
          1.611,
          2.125,
          3.5,
          2.438,
          2.828,
          2.059,
          2.603,
          2.038,
          3.329,
          3.381,
          2.689,
          3.314,
          2.212,
          1.915,
          2.063,
          2.017,
          2.419,
          2.496,
          1.916,
          1.894,
          1.375,
          1.331,
          1.424,
          1.393,
          1.662,
          1.626,
          1.738,
          1.717,
          1.552,
          1.614,
          1.387,
          1.369,
          1.497,
          1.612,
          1.704,
          1.718,
          1.448,
          1.007,
          1.034,
          0.889,
          0.935,
          1.187,
          1.093,
          1.105,
          1.072,
          1.047,
          1.234,
          1.613,
          1.835,
          1.909,
          1.638,
          1.34,
          1.167,
          1.055,
          1.019,
          0.965,
          0.944,
          0.906,
          0.883,
          0.842,
          0.776,
          0.771,
          0.732,
          0.723,
          0.755,
          0.737,
          0.791,
          0.834,
          0.87,
          0.908,
          0.914,
          0.852,
          0.826,
          0.831,
          0.801,
          0.931,
          1.001,
          1.02,
          1.014,
          0.901,
          0.832,
          0.805,
          0.865,
          0.927,
          0.942,
          0.875,
          0.795,
          0.758,
          0.776,
          0.91,
          0.974,
          0.971,
          0.911,
          0.797,
          0.771,
          0.748,
          0.79,
          0.867,
          0.896,
          0.914,
          0.915,
          0.849,
          0.781,
          0.806,
          0.796,
          0.834,
          0.876,
          0.885,
          0.874,
          0.872,
          0.929,
          0.955,
          0.988,
          0.99,
          0.944,
          0.918,
          0.947,
          0.991,
          1.065,
          1.076,
          1.035,
          0.954,
          0.88,
          0.875,
          0.878,
          0.95,
          1.001,
          1.042,
          1.066,
          1.074,
          1.081,
          1.073,
          1.101,
          1.083,
          1.072,
          1.051,
          1.018,
          1.013,
          1.002,
          1.009,
          1.007,
          1,
          1.01,
          1.002,
          1.004,
          1.005,
          1.002,
          1.007,
          1.007,
          1.007,
          1.001,
          0.999,
          0.999,
          0.997,
          1.001,
          0.999,
          1,
          1,
          0.996
         ]
        },
        {
         "marker": {
          "color": "magenta"
         },
         "name": "Московская обл.",
         "showlegend": true,
         "text": [
          null,
          null,
          null,
          null,
          null,
          null,
          null,
          1,
          null,
          null,
          2,
          3,
          4,
          1.667,
          2,
          2.333,
          1.5,
          1.6,
          2.5,
          3.286,
          3.833,
          2.25,
          1.7,
          0.261,
          0.261,
          0.778,
          2.941,
          11.833,
          13,
          5,
          0.98,
          0.915,
          1.179,
          2.014,
          3.49,
          3.231,
          2.641,
          2.05,
          2.591,
          2.586,
          2.584,
          2.806,
          2.499,
          2.551,
          2.396,
          2.089,
          1.509,
          1.183,
          1.379,
          1.291,
          1.456,
          1.608,
          1.26,
          1.211,
          1.042,
          0.941,
          0.929,
          0.884,
          0.956,
          1.065,
          1.152,
          1.316,
          1.329,
          1.223,
          1.163,
          1.063,
          1.024,
          1.056,
          1.126,
          1.211,
          1.276,
          1.275,
          1.156,
          1.014,
          0.925,
          0.865,
          0.875,
          0.922,
          0.942,
          0.965,
          0.975,
          0.948,
          0.946,
          0.944,
          0.931,
          0.954,
          0.953,
          0.939,
          0.939,
          0.916,
          0.92,
          0.931,
          0.935,
          0.96,
          0.975,
          1.001,
          1.024,
          1.03,
          1.021,
          1.002,
          0.985,
          0.97,
          0.968,
          0.971,
          0.972,
          0.97,
          0.965,
          0.954,
          0.943,
          0.939,
          0.915,
          0.882,
          0.84,
          0.8,
          0.8,
          0.809,
          0.815,
          0.805,
          0.749,
          0.714,
          0.71,
          0.732,
          0.813,
          0.863,
          0.901,
          0.929,
          0.915,
          0.844,
          0.794,
          0.726,
          0.661,
          0.75,
          0.817,
          0.912,
          1.022,
          0.988,
          0.955,
          0.912,
          0.881,
          0.895,
          0.895,
          0.909,
          0.876,
          0.841,
          0.852,
          0.873,
          0.965,
          0.998,
          0.986,
          0.968,
          0.941,
          0.97,
          1.041,
          1.099,
          1.128,
          1.126,
          1.103,
          1.07,
          1.039,
          1.021,
          0.98,
          0.967,
          0.964,
          0.95,
          0.968,
          0.982,
          0.987,
          1.005,
          1.015,
          0.992,
          0.99,
          0.992,
          0.981,
          1.025
         ],
         "textposition": "inside",
         "type": "bar",
         "x": [
          "2020-03-02",
          "2020-03-03",
          "2020-03-04",
          "2020-03-05",
          "2020-03-06",
          "2020-03-07",
          "2020-03-08",
          "2020-03-09",
          "2020-03-10",
          "2020-03-11",
          "2020-03-12",
          "2020-03-13",
          "2020-03-14",
          "2020-03-15",
          "2020-03-16",
          "2020-03-17",
          "2020-03-18",
          "2020-03-19",
          "2020-03-20",
          "2020-03-21",
          "2020-03-22",
          "2020-03-23",
          "2020-03-24",
          "2020-03-25",
          "2020-03-26",
          "2020-03-27",
          "2020-03-28",
          "2020-03-29",
          "2020-03-30",
          "2020-03-31",
          "2020-04-01",
          "2020-04-02",
          "2020-04-03",
          "2020-04-04",
          "2020-04-05",
          "2020-04-06",
          "2020-04-07",
          "2020-04-08",
          "2020-04-09",
          "2020-04-10",
          "2020-04-11",
          "2020-04-12",
          "2020-04-13",
          "2020-04-14",
          "2020-04-15",
          "2020-04-16",
          "2020-04-17",
          "2020-04-18",
          "2020-04-19",
          "2020-04-20",
          "2020-04-21",
          "2020-04-22",
          "2020-04-23",
          "2020-04-24",
          "2020-04-25",
          "2020-04-26",
          "2020-04-27",
          "2020-04-28",
          "2020-04-29",
          "2020-04-30",
          "2020-05-01",
          "2020-05-02",
          "2020-05-03",
          "2020-05-04",
          "2020-05-05",
          "2020-05-06",
          "2020-05-07",
          "2020-05-08",
          "2020-05-09",
          "2020-05-10",
          "2020-05-11",
          "2020-05-12",
          "2020-05-13",
          "2020-05-14",
          "2020-05-15",
          "2020-05-16",
          "2020-05-17",
          "2020-05-18",
          "2020-05-19",
          "2020-05-20",
          "2020-05-21",
          "2020-05-22",
          "2020-05-23",
          "2020-05-24",
          "2020-05-25",
          "2020-05-26",
          "2020-05-27",
          "2020-05-28",
          "2020-05-29",
          "2020-05-30",
          "2020-05-31",
          "2020-06-01",
          "2020-06-02",
          "2020-06-03",
          "2020-06-04",
          "2020-06-05",
          "2020-06-06",
          "2020-06-07",
          "2020-06-08",
          "2020-06-09",
          "2020-06-10",
          "2020-06-11",
          "2020-06-12",
          "2020-06-13",
          "2020-06-14",
          "2020-06-15",
          "2020-06-16",
          "2020-06-17",
          "2020-06-18",
          "2020-06-19",
          "2020-06-20",
          "2020-06-21",
          "2020-06-22",
          "2020-06-23",
          "2020-06-24",
          "2020-06-25",
          "2020-06-26",
          "2020-06-27",
          "2020-06-28",
          "2020-06-29",
          "2020-06-30",
          "2020-07-01",
          "2020-07-02",
          "2020-07-03",
          "2020-07-04",
          "2020-07-05",
          "2020-07-06",
          "2020-07-07",
          "2020-07-08",
          "2020-07-09",
          "2020-07-10",
          "2020-07-11",
          "2020-07-12",
          "2020-07-13",
          "2020-07-14",
          "2020-07-15",
          "2020-07-16",
          "2020-07-17",
          "2020-07-18",
          "2020-07-19",
          "2020-07-20",
          "2020-07-21",
          "2020-07-22",
          "2020-07-23",
          "2020-07-24",
          "2020-07-25",
          "2020-07-26",
          "2020-07-27",
          "2020-07-28",
          "2020-07-29",
          "2020-07-30",
          "2020-07-31",
          "2020-08-01",
          "2020-08-02",
          "2020-08-03",
          "2020-08-04",
          "2020-08-05",
          "2020-08-06",
          "2020-08-07",
          "2020-08-08",
          "2020-08-09",
          "2020-08-10",
          "2020-08-11",
          "2020-08-12",
          "2020-08-13",
          "2020-08-14",
          "2020-08-15",
          "2020-08-16",
          "2020-08-17",
          "2020-08-18",
          "2020-08-19",
          "2020-08-20",
          "2020-08-21",
          "2020-08-22"
         ],
         "y": [
          null,
          null,
          null,
          null,
          null,
          null,
          null,
          1,
          null,
          null,
          2,
          3,
          4,
          1.667,
          2,
          2.333,
          1.5,
          1.6,
          2.5,
          3.286,
          3.833,
          2.25,
          1.7,
          0.261,
          0.261,
          0.778,
          2.941,
          11.833,
          13,
          5,
          0.98,
          0.915,
          1.179,
          2.014,
          3.49,
          3.231,
          2.641,
          2.05,
          2.591,
          2.586,
          2.584,
          2.806,
          2.499,
          2.551,
          2.396,
          2.089,
          1.509,
          1.183,
          1.379,
          1.291,
          1.456,
          1.608,
          1.26,
          1.211,
          1.042,
          0.941,
          0.929,
          0.884,
          0.956,
          1.065,
          1.152,
          1.316,
          1.329,
          1.223,
          1.163,
          1.063,
          1.024,
          1.056,
          1.126,
          1.211,
          1.276,
          1.275,
          1.156,
          1.014,
          0.925,
          0.865,
          0.875,
          0.922,
          0.942,
          0.965,
          0.975,
          0.948,
          0.946,
          0.944,
          0.931,
          0.954,
          0.953,
          0.939,
          0.939,
          0.916,
          0.92,
          0.931,
          0.935,
          0.96,
          0.975,
          1.001,
          1.024,
          1.03,
          1.021,
          1.002,
          0.985,
          0.97,
          0.968,
          0.971,
          0.972,
          0.97,
          0.965,
          0.954,
          0.943,
          0.939,
          0.915,
          0.882,
          0.84,
          0.8,
          0.8,
          0.809,
          0.815,
          0.805,
          0.749,
          0.714,
          0.71,
          0.732,
          0.813,
          0.863,
          0.901,
          0.929,
          0.915,
          0.844,
          0.794,
          0.726,
          0.661,
          0.75,
          0.817,
          0.912,
          1.022,
          0.988,
          0.955,
          0.912,
          0.881,
          0.895,
          0.895,
          0.909,
          0.876,
          0.841,
          0.852,
          0.873,
          0.965,
          0.998,
          0.986,
          0.968,
          0.941,
          0.97,
          1.041,
          1.099,
          1.128,
          1.126,
          1.103,
          1.07,
          1.039,
          1.021,
          0.98,
          0.967,
          0.964,
          0.95,
          0.968,
          0.982,
          0.987,
          1.005,
          1.015,
          0.992,
          0.99,
          0.992,
          0.981,
          1.025
         ]
        },
        {
         "marker": {
          "color": "goldenrod"
         },
         "name": "Санкт-Петербург",
         "showlegend": true,
         "text": [
          null,
          null,
          null,
          null,
          null,
          null,
          null,
          4,
          null,
          null,
          1.667,
          1,
          1.25,
          0.857,
          1.4,
          1.75,
          1.2,
          1.167,
          0.714,
          1.429,
          1.667,
          2.286,
          4.2,
          2.4,
          7.2,
          5.5,
          5,
          4.417,
          1.014,
          0.75,
          0.752,
          1.311,
          2.164,
          2.758,
          2.304,
          1.388,
          1.443,
          1.676,
          2.148,
          2.285,
          2.307,
          2.718,
          2.166,
          1.884,
          1.451,
          0.562,
          0.733,
          0.84,
          1.134,
          2.045,
          1.304,
          1.117,
          0.838,
          0.839,
          1.216,
          1.504,
          1.79,
          1.629,
          1.304,
          0.99,
          0.886,
          0.891,
          0.949,
          1.221,
          1.322,
          1.31,
          1.218,
          1.054,
          1.014,
          1.167,
          1.321,
          1.322,
          1.26,
          1.045,
          0.91,
          0.881,
          0.878,
          0.871,
          0.865,
          0.867,
          0.87,
          0.934,
          0.976,
          0.995,
          1.013,
          0.985,
          0.973,
          0.981,
          0.99,
          1.006,
          1.029,
          1.004,
          0.967,
          0.93,
          0.882,
          0.876,
          0.875,
          0.868,
          0.866,
          0.844,
          0.829,
          0.831,
          0.842,
          0.863,
          0.882,
          0.915,
          0.948,
          0.959,
          0.975,
          0.962,
          0.952,
          0.974,
          0.987,
          1.001,
          1.008,
          1.035,
          1.073,
          1.121,
          1.173,
          1.154,
          1.122,
          1.098,
          1.066,
          1.07,
          1.073,
          1.07,
          1.072,
          1.047,
          1.031,
          0.997,
          0.954,
          0.925,
          0.886,
          0.863,
          0.833,
          0.805,
          0.789,
          0.77,
          0.802,
          0.842,
          0.886,
          0.931,
          0.938,
          0.938,
          0.932,
          0.928,
          0.925,
          0.932,
          0.949,
          0.964,
          0.982,
          0.985,
          0.981,
          0.98,
          0.977,
          0.991,
          0.994,
          0.998,
          1.013,
          1.006,
          1.013,
          1.021,
          1.014,
          1.013,
          1.006,
          0.998,
          0.991,
          1.026,
          1.07
         ],
         "textposition": "inside",
         "type": "bar",
         "x": [
          "2020-03-07",
          "2020-03-08",
          "2020-03-09",
          "2020-03-10",
          "2020-03-11",
          "2020-03-12",
          "2020-03-13",
          "2020-03-14",
          "2020-03-15",
          "2020-03-16",
          "2020-03-17",
          "2020-03-18",
          "2020-03-19",
          "2020-03-20",
          "2020-03-21",
          "2020-03-22",
          "2020-03-23",
          "2020-03-24",
          "2020-03-25",
          "2020-03-26",
          "2020-03-27",
          "2020-03-28",
          "2020-03-29",
          "2020-03-30",
          "2020-03-31",
          "2020-04-01",
          "2020-04-02",
          "2020-04-03",
          "2020-04-04",
          "2020-04-05",
          "2020-04-06",
          "2020-04-07",
          "2020-04-08",
          "2020-04-09",
          "2020-04-10",
          "2020-04-11",
          "2020-04-12",
          "2020-04-13",
          "2020-04-14",
          "2020-04-15",
          "2020-04-16",
          "2020-04-17",
          "2020-04-18",
          "2020-04-19",
          "2020-04-20",
          "2020-04-21",
          "2020-04-22",
          "2020-04-23",
          "2020-04-24",
          "2020-04-25",
          "2020-04-26",
          "2020-04-27",
          "2020-04-28",
          "2020-04-29",
          "2020-04-30",
          "2020-05-01",
          "2020-05-02",
          "2020-05-03",
          "2020-05-04",
          "2020-05-05",
          "2020-05-06",
          "2020-05-07",
          "2020-05-08",
          "2020-05-09",
          "2020-05-10",
          "2020-05-11",
          "2020-05-12",
          "2020-05-13",
          "2020-05-14",
          "2020-05-15",
          "2020-05-16",
          "2020-05-17",
          "2020-05-18",
          "2020-05-19",
          "2020-05-20",
          "2020-05-21",
          "2020-05-22",
          "2020-05-23",
          "2020-05-24",
          "2020-05-25",
          "2020-05-26",
          "2020-05-27",
          "2020-05-28",
          "2020-05-29",
          "2020-05-30",
          "2020-05-31",
          "2020-06-01",
          "2020-06-02",
          "2020-06-03",
          "2020-06-04",
          "2020-06-05",
          "2020-06-06",
          "2020-06-07",
          "2020-06-08",
          "2020-06-09",
          "2020-06-10",
          "2020-06-11",
          "2020-06-12",
          "2020-06-13",
          "2020-06-14",
          "2020-06-15",
          "2020-06-16",
          "2020-06-17",
          "2020-06-18",
          "2020-06-19",
          "2020-06-20",
          "2020-06-21",
          "2020-06-22",
          "2020-06-23",
          "2020-06-24",
          "2020-06-25",
          "2020-06-26",
          "2020-06-27",
          "2020-06-28",
          "2020-06-29",
          "2020-06-30",
          "2020-07-01",
          "2020-07-02",
          "2020-07-03",
          "2020-07-04",
          "2020-07-05",
          "2020-07-06",
          "2020-07-07",
          "2020-07-08",
          "2020-07-09",
          "2020-07-10",
          "2020-07-11",
          "2020-07-12",
          "2020-07-13",
          "2020-07-14",
          "2020-07-15",
          "2020-07-16",
          "2020-07-17",
          "2020-07-18",
          "2020-07-19",
          "2020-07-20",
          "2020-07-21",
          "2020-07-22",
          "2020-07-23",
          "2020-07-24",
          "2020-07-25",
          "2020-07-26",
          "2020-07-27",
          "2020-07-28",
          "2020-07-29",
          "2020-07-30",
          "2020-07-31",
          "2020-08-01",
          "2020-08-02",
          "2020-08-03",
          "2020-08-04",
          "2020-08-05",
          "2020-08-06",
          "2020-08-07",
          "2020-08-08",
          "2020-08-09",
          "2020-08-10",
          "2020-08-11",
          "2020-08-12",
          "2020-08-13",
          "2020-08-14",
          "2020-08-15",
          "2020-08-16",
          "2020-08-17",
          "2020-08-18",
          "2020-08-19",
          "2020-08-20",
          "2020-08-21",
          "2020-08-22"
         ],
         "y": [
          null,
          null,
          null,
          null,
          null,
          null,
          null,
          4,
          null,
          null,
          1.667,
          1,
          1.25,
          0.857,
          1.4,
          1.75,
          1.2,
          1.167,
          0.714,
          1.429,
          1.667,
          2.286,
          4.2,
          2.4,
          7.2,
          5.5,
          5,
          4.417,
          1.014,
          0.75,
          0.752,
          1.311,
          2.164,
          2.758,
          2.304,
          1.388,
          1.443,
          1.676,
          2.148,
          2.285,
          2.307,
          2.718,
          2.166,
          1.884,
          1.451,
          0.562,
          0.733,
          0.84,
          1.134,
          2.045,
          1.304,
          1.117,
          0.838,
          0.839,
          1.216,
          1.504,
          1.79,
          1.629,
          1.304,
          0.99,
          0.886,
          0.891,
          0.949,
          1.221,
          1.322,
          1.31,
          1.218,
          1.054,
          1.014,
          1.167,
          1.321,
          1.322,
          1.26,
          1.045,
          0.91,
          0.881,
          0.878,
          0.871,
          0.865,
          0.867,
          0.87,
          0.934,
          0.976,
          0.995,
          1.013,
          0.985,
          0.973,
          0.981,
          0.99,
          1.006,
          1.029,
          1.004,
          0.967,
          0.93,
          0.882,
          0.876,
          0.875,
          0.868,
          0.866,
          0.844,
          0.829,
          0.831,
          0.842,
          0.863,
          0.882,
          0.915,
          0.948,
          0.959,
          0.975,
          0.962,
          0.952,
          0.974,
          0.987,
          1.001,
          1.008,
          1.035,
          1.073,
          1.121,
          1.173,
          1.154,
          1.122,
          1.098,
          1.066,
          1.07,
          1.073,
          1.07,
          1.072,
          1.047,
          1.031,
          0.997,
          0.954,
          0.925,
          0.886,
          0.863,
          0.833,
          0.805,
          0.789,
          0.77,
          0.802,
          0.842,
          0.886,
          0.931,
          0.938,
          0.938,
          0.932,
          0.928,
          0.925,
          0.932,
          0.949,
          0.964,
          0.982,
          0.985,
          0.981,
          0.98,
          0.977,
          0.991,
          0.994,
          0.998,
          1.013,
          1.006,
          1.013,
          1.021,
          1.014,
          1.013,
          1.006,
          0.998,
          0.991,
          1.026,
          1.07
         ]
        },
        {
         "marker": {
          "color": "green"
         },
         "name": "Свердловская обл.",
         "showlegend": true,
         "text": [
          null,
          null,
          null,
          null,
          null,
          null,
          null,
          null,
          null,
          8,
          8,
          0.5,
          1.167,
          0.5,
          1.375,
          3.667,
          1.571,
          2.75,
          0.364,
          1.182,
          0.818,
          1.273,
          3.75,
          0.538,
          0.778,
          0.429,
          0.8,
          2.286,
          2.714,
          2.833,
          1.917,
          1.375,
          1.368,
          1.882,
          1.348,
          1.5,
          1.154,
          1.031,
          1.161,
          1.152,
          3.933,
          3.545,
          3.611,
          4.079,
          0.881,
          1.299,
          1.408,
          1.516,
          2.808,
          2.026,
          2.628,
          2.03,
          1.582,
          1.432,
          0.711,
          0.706,
          0.732,
          0.998,
          1.251,
          1.457,
          1.547,
          1.316,
          1.386,
          1.055,
          0.983,
          0.705,
          0.73,
          0.963,
          1.037,
          1.38,
          1.333,
          1.166,
          1.154,
          1.012,
          1.17,
          1.284,
          1.319,
          1.735,
          1.393,
          1.331,
          1.263,
          1.051,
          1.171,
          1.204,
          1.201,
          1.153,
          1.049,
          0.867,
          0.804,
          0.818,
          0.879,
          1.047,
          1.171,
          1.185,
          1.114,
          0.968,
          0.832,
          0.814,
          0.815,
          0.896,
          0.972,
          0.969,
          0.957,
          0.859,
          0.819,
          0.821,
          0.848,
          0.965,
          1.056,
          1.106,
          1.223,
          1.221,
          1.198,
          1.181,
          1.066,
          1.031,
          1.063,
          1.048,
          1.051,
          1.051,
          1.009,
          1.062,
          1.09,
          1.023,
          0.989,
          0.925,
          0.962,
          1.093,
          1.139,
          1.14,
          0.967,
          0.833,
          0.802,
          0.818,
          0.922,
          1.018,
          1.052,
          1.051,
          0.995,
          0.942,
          0.909,
          0.864,
          0.892,
          0.893,
          0.898,
          0.909,
          0.892,
          0.898,
          0.9,
          0.927,
          0.956,
          0.972,
          0.977,
          0.967,
          0.932,
          0.903,
          0.904,
          0.894,
          0.892,
          0.919,
          0.916,
          0.923,
          0.927,
          0.888
         ],
         "textposition": "inside",
         "type": "bar",
         "x": [
          "2020-03-12",
          "2020-03-13",
          "2020-03-14",
          "2020-03-15",
          "2020-03-16",
          "2020-03-17",
          "2020-03-18",
          "2020-03-19",
          "2020-03-20",
          "2020-03-21",
          "2020-03-22",
          "2020-03-23",
          "2020-03-24",
          "2020-03-25",
          "2020-03-26",
          "2020-03-27",
          "2020-03-28",
          "2020-03-29",
          "2020-03-30",
          "2020-03-31",
          "2020-04-01",
          "2020-04-02",
          "2020-04-03",
          "2020-04-04",
          "2020-04-05",
          "2020-04-06",
          "2020-04-07",
          "2020-04-08",
          "2020-04-09",
          "2020-04-10",
          "2020-04-11",
          "2020-04-12",
          "2020-04-13",
          "2020-04-14",
          "2020-04-15",
          "2020-04-16",
          "2020-04-17",
          "2020-04-18",
          "2020-04-19",
          "2020-04-20",
          "2020-04-21",
          "2020-04-22",
          "2020-04-23",
          "2020-04-24",
          "2020-04-25",
          "2020-04-26",
          "2020-04-27",
          "2020-04-28",
          "2020-04-29",
          "2020-04-30",
          "2020-05-01",
          "2020-05-02",
          "2020-05-03",
          "2020-05-04",
          "2020-05-05",
          "2020-05-06",
          "2020-05-07",
          "2020-05-08",
          "2020-05-09",
          "2020-05-10",
          "2020-05-11",
          "2020-05-12",
          "2020-05-13",
          "2020-05-14",
          "2020-05-15",
          "2020-05-16",
          "2020-05-17",
          "2020-05-18",
          "2020-05-19",
          "2020-05-20",
          "2020-05-21",
          "2020-05-22",
          "2020-05-23",
          "2020-05-24",
          "2020-05-25",
          "2020-05-26",
          "2020-05-27",
          "2020-05-28",
          "2020-05-29",
          "2020-05-30",
          "2020-05-31",
          "2020-06-01",
          "2020-06-02",
          "2020-06-03",
          "2020-06-04",
          "2020-06-05",
          "2020-06-06",
          "2020-06-07",
          "2020-06-08",
          "2020-06-09",
          "2020-06-10",
          "2020-06-11",
          "2020-06-12",
          "2020-06-13",
          "2020-06-14",
          "2020-06-15",
          "2020-06-16",
          "2020-06-17",
          "2020-06-18",
          "2020-06-19",
          "2020-06-20",
          "2020-06-21",
          "2020-06-22",
          "2020-06-23",
          "2020-06-24",
          "2020-06-25",
          "2020-06-26",
          "2020-06-27",
          "2020-06-28",
          "2020-06-29",
          "2020-06-30",
          "2020-07-01",
          "2020-07-02",
          "2020-07-03",
          "2020-07-04",
          "2020-07-05",
          "2020-07-06",
          "2020-07-07",
          "2020-07-08",
          "2020-07-09",
          "2020-07-10",
          "2020-07-11",
          "2020-07-12",
          "2020-07-13",
          "2020-07-14",
          "2020-07-15",
          "2020-07-16",
          "2020-07-17",
          "2020-07-18",
          "2020-07-19",
          "2020-07-20",
          "2020-07-21",
          "2020-07-22",
          "2020-07-23",
          "2020-07-24",
          "2020-07-25",
          "2020-07-26",
          "2020-07-27",
          "2020-07-28",
          "2020-07-29",
          "2020-07-30",
          "2020-07-31",
          "2020-08-01",
          "2020-08-02",
          "2020-08-03",
          "2020-08-04",
          "2020-08-05",
          "2020-08-06",
          "2020-08-07",
          "2020-08-08",
          "2020-08-09",
          "2020-08-10",
          "2020-08-11",
          "2020-08-12",
          "2020-08-13",
          "2020-08-14",
          "2020-08-15",
          "2020-08-16",
          "2020-08-17",
          "2020-08-18",
          "2020-08-19",
          "2020-08-20",
          "2020-08-21",
          "2020-08-22"
         ],
         "y": [
          null,
          null,
          null,
          null,
          null,
          null,
          null,
          null,
          null,
          8,
          8,
          0.5,
          1.167,
          0.5,
          1.375,
          3.667,
          1.571,
          2.75,
          0.364,
          1.182,
          0.818,
          1.273,
          3.75,
          0.538,
          0.778,
          0.429,
          0.8,
          2.286,
          2.714,
          2.833,
          1.917,
          1.375,
          1.368,
          1.882,
          1.348,
          1.5,
          1.154,
          1.031,
          1.161,
          1.152,
          3.933,
          3.545,
          3.611,
          4.079,
          0.881,
          1.299,
          1.408,
          1.516,
          2.808,
          2.026,
          2.628,
          2.03,
          1.582,
          1.432,
          0.711,
          0.706,
          0.732,
          0.998,
          1.251,
          1.457,
          1.547,
          1.316,
          1.386,
          1.055,
          0.983,
          0.705,
          0.73,
          0.963,
          1.037,
          1.38,
          1.333,
          1.166,
          1.154,
          1.012,
          1.17,
          1.284,
          1.319,
          1.735,
          1.393,
          1.331,
          1.263,
          1.051,
          1.171,
          1.204,
          1.201,
          1.153,
          1.049,
          0.867,
          0.804,
          0.818,
          0.879,
          1.047,
          1.171,
          1.185,
          1.114,
          0.968,
          0.832,
          0.814,
          0.815,
          0.896,
          0.972,
          0.969,
          0.957,
          0.859,
          0.819,
          0.821,
          0.848,
          0.965,
          1.056,
          1.106,
          1.223,
          1.221,
          1.198,
          1.181,
          1.066,
          1.031,
          1.063,
          1.048,
          1.051,
          1.051,
          1.009,
          1.062,
          1.09,
          1.023,
          0.989,
          0.925,
          0.962,
          1.093,
          1.139,
          1.14,
          0.967,
          0.833,
          0.802,
          0.818,
          0.922,
          1.018,
          1.052,
          1.051,
          0.995,
          0.942,
          0.909,
          0.864,
          0.892,
          0.893,
          0.898,
          0.909,
          0.892,
          0.898,
          0.9,
          0.927,
          0.956,
          0.972,
          0.977,
          0.967,
          0.932,
          0.903,
          0.904,
          0.894,
          0.892,
          0.919,
          0.916,
          0.923,
          0.927,
          0.888
         ]
        },
        {
         "name": "Челябинская обл.",
         "showlegend": true,
         "text": [
          null,
          null,
          null,
          null,
          null,
          null,
          null,
          null,
          null,
          null,
          null,
          null,
          null,
          1,
          4,
          4,
          8,
          10,
          2.25,
          2.25,
          1.5,
          0.9,
          1,
          1.333,
          0.5,
          1.111,
          1,
          0.5,
          1.167,
          0.3,
          0.889,
          1.333,
          1.286,
          4.667,
          1.375,
          1.625,
          1.556,
          0.929,
          1.545,
          1.923,
          2.5,
          3.154,
          2.529,
          3.6,
          4.229,
          4.878,
          5.791,
          2.667,
          1.264,
          0.96,
          0.715,
          0.667,
          1.091,
          0.979,
          1.292,
          1.525,
          1.02,
          1.059,
          0.796,
          0.939,
          1.341,
          1.663,
          1.705,
          1.162,
          1.036,
          0.798,
          0.997,
          1.323,
          1.204,
          1.337,
          1.09,
          0.949,
          0.914,
          0.867,
          0.788,
          0.668,
          0.67,
          0.761,
          1.232,
          1.987,
          2.39,
          2.408,
          1.62,
          1.108,
          0.919,
          0.788,
          0.857,
          0.945,
          1.013,
          1.152,
          1.129,
          1.112,
          1.021,
          0.906,
          0.905,
          1.01,
          1.242,
          1.338,
          1.377,
          1.228,
          1.073,
          1.12,
          1.089,
          1.238,
          1.242,
          1.148,
          1.11,
          0.855,
          0.804,
          0.777,
          0.772,
          0.855,
          0.871,
          0.883,
          0.88,
          0.902,
          0.92,
          0.965,
          1.008,
          1.015,
          1.029,
          0.994,
          0.951,
          0.96,
          0.964,
          0.987,
          1.03,
          1.022,
          1.016,
          1.006,
          1.012,
          1.012,
          1.012,
          1.015,
          0.973,
          0.964,
          0.962,
          0.958,
          0.988,
          1.002,
          0.98,
          0.962,
          0.929,
          0.896,
          0.893,
          0.889,
          0.9,
          0.895,
          0.878,
          0.861,
          0.854,
          0.867,
          0.897,
          0.943,
          0.939,
          0.955,
          0.94,
          0.911,
          0.894,
          0.864,
          0.872,
          0.871,
          0.928,
          0.983
         ],
         "textposition": "inside",
         "type": "bar",
         "x": [
          "2020-03-12",
          "2020-03-13",
          "2020-03-14",
          "2020-03-15",
          "2020-03-16",
          "2020-03-17",
          "2020-03-18",
          "2020-03-19",
          "2020-03-20",
          "2020-03-21",
          "2020-03-22",
          "2020-03-23",
          "2020-03-24",
          "2020-03-25",
          "2020-03-26",
          "2020-03-27",
          "2020-03-28",
          "2020-03-29",
          "2020-03-30",
          "2020-03-31",
          "2020-04-01",
          "2020-04-02",
          "2020-04-03",
          "2020-04-04",
          "2020-04-05",
          "2020-04-06",
          "2020-04-07",
          "2020-04-08",
          "2020-04-09",
          "2020-04-10",
          "2020-04-11",
          "2020-04-12",
          "2020-04-13",
          "2020-04-14",
          "2020-04-15",
          "2020-04-16",
          "2020-04-17",
          "2020-04-18",
          "2020-04-19",
          "2020-04-20",
          "2020-04-21",
          "2020-04-22",
          "2020-04-23",
          "2020-04-24",
          "2020-04-25",
          "2020-04-26",
          "2020-04-27",
          "2020-04-28",
          "2020-04-29",
          "2020-04-30",
          "2020-05-01",
          "2020-05-02",
          "2020-05-03",
          "2020-05-04",
          "2020-05-05",
          "2020-05-06",
          "2020-05-07",
          "2020-05-08",
          "2020-05-09",
          "2020-05-10",
          "2020-05-11",
          "2020-05-12",
          "2020-05-13",
          "2020-05-14",
          "2020-05-15",
          "2020-05-16",
          "2020-05-17",
          "2020-05-18",
          "2020-05-19",
          "2020-05-20",
          "2020-05-21",
          "2020-05-22",
          "2020-05-23",
          "2020-05-24",
          "2020-05-25",
          "2020-05-26",
          "2020-05-27",
          "2020-05-28",
          "2020-05-29",
          "2020-05-30",
          "2020-05-31",
          "2020-06-01",
          "2020-06-02",
          "2020-06-03",
          "2020-06-04",
          "2020-06-05",
          "2020-06-06",
          "2020-06-07",
          "2020-06-08",
          "2020-06-09",
          "2020-06-10",
          "2020-06-11",
          "2020-06-12",
          "2020-06-13",
          "2020-06-14",
          "2020-06-15",
          "2020-06-16",
          "2020-06-17",
          "2020-06-18",
          "2020-06-19",
          "2020-06-20",
          "2020-06-21",
          "2020-06-22",
          "2020-06-23",
          "2020-06-24",
          "2020-06-25",
          "2020-06-26",
          "2020-06-27",
          "2020-06-28",
          "2020-06-29",
          "2020-06-30",
          "2020-07-01",
          "2020-07-02",
          "2020-07-03",
          "2020-07-04",
          "2020-07-05",
          "2020-07-06",
          "2020-07-07",
          "2020-07-08",
          "2020-07-09",
          "2020-07-10",
          "2020-07-11",
          "2020-07-12",
          "2020-07-13",
          "2020-07-14",
          "2020-07-15",
          "2020-07-16",
          "2020-07-17",
          "2020-07-18",
          "2020-07-19",
          "2020-07-20",
          "2020-07-21",
          "2020-07-22",
          "2020-07-23",
          "2020-07-24",
          "2020-07-25",
          "2020-07-26",
          "2020-07-27",
          "2020-07-28",
          "2020-07-29",
          "2020-07-30",
          "2020-07-31",
          "2020-08-01",
          "2020-08-02",
          "2020-08-03",
          "2020-08-04",
          "2020-08-05",
          "2020-08-06",
          "2020-08-07",
          "2020-08-08",
          "2020-08-09",
          "2020-08-10",
          "2020-08-11",
          "2020-08-12",
          "2020-08-13",
          "2020-08-14",
          "2020-08-15",
          "2020-08-16",
          "2020-08-17",
          "2020-08-18",
          "2020-08-19",
          "2020-08-20",
          "2020-08-21",
          "2020-08-22"
         ],
         "y": [
          null,
          null,
          null,
          null,
          null,
          null,
          null,
          null,
          null,
          null,
          null,
          null,
          null,
          1,
          4,
          4,
          8,
          10,
          2.25,
          2.25,
          1.5,
          0.9,
          1,
          1.333,
          0.5,
          1.111,
          1,
          0.5,
          1.167,
          0.3,
          0.889,
          1.333,
          1.286,
          4.667,
          1.375,
          1.625,
          1.556,
          0.929,
          1.545,
          1.923,
          2.5,
          3.154,
          2.529,
          3.6,
          4.229,
          4.878,
          5.791,
          2.667,
          1.264,
          0.96,
          0.715,
          0.667,
          1.091,
          0.979,
          1.292,
          1.525,
          1.02,
          1.059,
          0.796,
          0.939,
          1.341,
          1.663,
          1.705,
          1.162,
          1.036,
          0.798,
          0.997,
          1.323,
          1.204,
          1.337,
          1.09,
          0.949,
          0.914,
          0.867,
          0.788,
          0.668,
          0.67,
          0.761,
          1.232,
          1.987,
          2.39,
          2.408,
          1.62,
          1.108,
          0.919,
          0.788,
          0.857,
          0.945,
          1.013,
          1.152,
          1.129,
          1.112,
          1.021,
          0.906,
          0.905,
          1.01,
          1.242,
          1.338,
          1.377,
          1.228,
          1.073,
          1.12,
          1.089,
          1.238,
          1.242,
          1.148,
          1.11,
          0.855,
          0.804,
          0.777,
          0.772,
          0.855,
          0.871,
          0.883,
          0.88,
          0.902,
          0.92,
          0.965,
          1.008,
          1.015,
          1.029,
          0.994,
          0.951,
          0.96,
          0.964,
          0.987,
          1.03,
          1.022,
          1.016,
          1.006,
          1.012,
          1.012,
          1.012,
          1.015,
          0.973,
          0.964,
          0.962,
          0.958,
          0.988,
          1.002,
          0.98,
          0.962,
          0.929,
          0.896,
          0.893,
          0.889,
          0.9,
          0.895,
          0.878,
          0.861,
          0.854,
          0.867,
          0.897,
          0.943,
          0.939,
          0.955,
          0.94,
          0.911,
          0.894,
          0.864,
          0.872,
          0.871,
          0.928,
          0.983
         ]
        },
        {
         "marker": {
          "color": "aquamarine"
         },
         "name": "Россия",
         "showlegend": true,
         "text": [
          null,
          null,
          null,
          null,
          null,
          null,
          null,
          16,
          2.167,
          1.7,
          1.538,
          1.75,
          3,
          2.059,
          2.85,
          2.464,
          2.256,
          3.886,
          2.842,
          2.783,
          2.5,
          1.757,
          1.494,
          1.833,
          2.15,
          2.502,
          3.178,
          2.489,
          2.106,
          2.176,
          1.967,
          2.299,
          2.322,
          1.84,
          1.726,
          1.388,
          1.447,
          1.646,
          1.815,
          1.994,
          1.818,
          1.798,
          1.729,
          1.648,
          1.792,
          1.718,
          1.669,
          1.708,
          1.684,
          1.575,
          1.517,
          1.351,
          1.085,
          1.121,
          1.052,
          1.082,
          1.224,
          1.16,
          1.137,
          1.113,
          1.119,
          1.223,
          1.422,
          1.517,
          1.5,
          1.373,
          1.204,
          1.099,
          1.058,
          1.045,
          1.04,
          1.042,
          1.007,
          0.973,
          0.939,
          0.897,
          0.906,
          0.903,
          0.894,
          0.921,
          0.907,
          0.931,
          0.969,
          0.976,
          1.002,
          1.003,
          0.968,
          0.966,
          0.953,
          0.954,
          1.01,
          1.036,
          1.056,
          1.043,
          1.003,
          0.976,
          0.968,
          0.991,
          1.008,
          1.013,
          1.001,
          0.982,
          0.978,
          0.985,
          1.01,
          1,
          0.979,
          0.951,
          0.91,
          0.916,
          0.925,
          0.946,
          0.971,
          0.962,
          0.95,
          0.934,
          0.914,
          0.912,
          0.921,
          0.927,
          0.949,
          0.958,
          0.97,
          0.984,
          0.986,
          1.003,
          0.999,
          0.986,
          0.985,
          0.97,
          0.977,
          0.999,
          1.004,
          1.013,
          0.998,
          0.981,
          0.972,
          0.966,
          0.98,
          0.975,
          0.963,
          0.946,
          0.932,
          0.933,
          0.946,
          0.97,
          0.981,
          0.983,
          0.97,
          0.952,
          0.945,
          0.947,
          0.967,
          0.982,
          0.989,
          0.981,
          0.966,
          0.961,
          0.959,
          0.976,
          0.987,
          0.987,
          0.98,
          0.973,
          0.967,
          0.972,
          0.991,
          0.99,
          0.988,
          0.975,
          0.958,
          0.955,
          0.962,
          0.986
         ],
         "textposition": "inside",
         "type": "bar",
         "x": [
          "2020-03-02",
          "2020-03-03",
          "2020-03-04",
          "2020-03-05",
          "2020-03-06",
          "2020-03-07",
          "2020-03-08",
          "2020-03-09",
          "2020-03-10",
          "2020-03-11",
          "2020-03-12",
          "2020-03-13",
          "2020-03-14",
          "2020-03-15",
          "2020-03-16",
          "2020-03-17",
          "2020-03-18",
          "2020-03-19",
          "2020-03-20",
          "2020-03-21",
          "2020-03-22",
          "2020-03-23",
          "2020-03-24",
          "2020-03-25",
          "2020-03-26",
          "2020-03-27",
          "2020-03-28",
          "2020-03-29",
          "2020-03-30",
          "2020-03-31",
          "2020-04-01",
          "2020-04-02",
          "2020-04-03",
          "2020-04-04",
          "2020-04-05",
          "2020-04-06",
          "2020-04-07",
          "2020-04-08",
          "2020-04-09",
          "2020-04-10",
          "2020-04-11",
          "2020-04-12",
          "2020-04-13",
          "2020-04-14",
          "2020-04-15",
          "2020-04-16",
          "2020-04-17",
          "2020-04-18",
          "2020-04-19",
          "2020-04-20",
          "2020-04-21",
          "2020-04-22",
          "2020-04-23",
          "2020-04-24",
          "2020-04-25",
          "2020-04-26",
          "2020-04-27",
          "2020-04-28",
          "2020-04-29",
          "2020-04-30",
          "2020-05-01",
          "2020-05-02",
          "2020-05-03",
          "2020-05-04",
          "2020-05-05",
          "2020-05-06",
          "2020-05-07",
          "2020-05-08",
          "2020-05-09",
          "2020-05-10",
          "2020-05-11",
          "2020-05-12",
          "2020-05-13",
          "2020-05-14",
          "2020-05-15",
          "2020-05-16",
          "2020-05-17",
          "2020-05-18",
          "2020-05-19",
          "2020-05-20",
          "2020-05-21",
          "2020-05-22",
          "2020-05-23",
          "2020-05-24",
          "2020-05-25",
          "2020-05-26",
          "2020-05-27",
          "2020-05-28",
          "2020-05-29",
          "2020-05-30",
          "2020-05-31",
          "2020-06-01",
          "2020-06-02",
          "2020-06-03",
          "2020-06-04",
          "2020-06-05",
          "2020-06-06",
          "2020-06-07",
          "2020-06-08",
          "2020-06-09",
          "2020-06-10",
          "2020-06-11",
          "2020-06-12",
          "2020-06-13",
          "2020-06-14",
          "2020-06-15",
          "2020-06-16",
          "2020-06-17",
          "2020-06-18",
          "2020-06-19",
          "2020-06-20",
          "2020-06-21",
          "2020-06-22",
          "2020-06-23",
          "2020-06-24",
          "2020-06-25",
          "2020-06-26",
          "2020-06-27",
          "2020-06-28",
          "2020-06-29",
          "2020-06-30",
          "2020-07-01",
          "2020-07-02",
          "2020-07-03",
          "2020-07-04",
          "2020-07-05",
          "2020-07-06",
          "2020-07-07",
          "2020-07-08",
          "2020-07-09",
          "2020-07-10",
          "2020-07-11",
          "2020-07-12",
          "2020-07-13",
          "2020-07-14",
          "2020-07-15",
          "2020-07-16",
          "2020-07-17",
          "2020-07-18",
          "2020-07-19",
          "2020-07-20",
          "2020-07-21",
          "2020-07-22",
          "2020-07-23",
          "2020-07-24",
          "2020-07-25",
          "2020-07-26",
          "2020-07-27",
          "2020-07-28",
          "2020-07-29",
          "2020-07-30",
          "2020-07-31",
          "2020-08-01",
          "2020-08-02",
          "2020-08-03",
          "2020-08-04",
          "2020-08-05",
          "2020-08-06",
          "2020-08-07",
          "2020-08-08",
          "2020-08-09",
          "2020-08-10",
          "2020-08-11",
          "2020-08-12",
          "2020-08-13",
          "2020-08-14",
          "2020-08-15",
          "2020-08-16",
          "2020-08-17",
          "2020-08-18",
          "2020-08-19",
          "2020-08-20",
          "2020-08-21",
          "2020-08-22"
         ],
         "y": [
          null,
          null,
          null,
          null,
          null,
          null,
          null,
          16,
          2.167,
          1.7,
          1.538,
          1.75,
          3,
          2.059,
          2.85,
          2.464,
          2.256,
          3.886,
          2.842,
          2.783,
          2.5,
          1.757,
          1.494,
          1.833,
          2.15,
          2.502,
          3.178,
          2.489,
          2.106,
          2.176,
          1.967,
          2.299,
          2.322,
          1.84,
          1.726,
          1.388,
          1.447,
          1.646,
          1.815,
          1.994,
          1.818,
          1.798,
          1.729,
          1.648,
          1.792,
          1.718,
          1.669,
          1.708,
          1.684,
          1.575,
          1.517,
          1.351,
          1.085,
          1.121,
          1.052,
          1.082,
          1.224,
          1.16,
          1.137,
          1.113,
          1.119,
          1.223,
          1.422,
          1.517,
          1.5,
          1.373,
          1.204,
          1.099,
          1.058,
          1.045,
          1.04,
          1.042,
          1.007,
          0.973,
          0.939,
          0.897,
          0.906,
          0.903,
          0.894,
          0.921,
          0.907,
          0.931,
          0.969,
          0.976,
          1.002,
          1.003,
          0.968,
          0.966,
          0.953,
          0.954,
          1.01,
          1.036,
          1.056,
          1.043,
          1.003,
          0.976,
          0.968,
          0.991,
          1.008,
          1.013,
          1.001,
          0.982,
          0.978,
          0.985,
          1.01,
          1,
          0.979,
          0.951,
          0.91,
          0.916,
          0.925,
          0.946,
          0.971,
          0.962,
          0.95,
          0.934,
          0.914,
          0.912,
          0.921,
          0.927,
          0.949,
          0.958,
          0.97,
          0.984,
          0.986,
          1.003,
          0.999,
          0.986,
          0.985,
          0.97,
          0.977,
          0.999,
          1.004,
          1.013,
          0.998,
          0.981,
          0.972,
          0.966,
          0.98,
          0.975,
          0.963,
          0.946,
          0.932,
          0.933,
          0.946,
          0.97,
          0.981,
          0.983,
          0.97,
          0.952,
          0.945,
          0.947,
          0.967,
          0.982,
          0.989,
          0.981,
          0.966,
          0.961,
          0.959,
          0.976,
          0.987,
          0.987,
          0.98,
          0.973,
          0.967,
          0.972,
          0.991,
          0.99,
          0.988,
          0.975,
          0.958,
          0.955,
          0.962,
          0.986
         ]
        }
       ],
       "layout": {
        "annotations": [
         {
          "arrowhead": 2,
          "ax": 0,
          "ay": -60,
          "showarrow": true,
          "text": "Введение<br>пропускной<br>системы в Москве",
          "x": "2020-04-13",
          "xref": "x",
          "y": 1.717,
          "yref": "y"
         },
         {
          "arrowhead": 2,
          "ax": 0,
          "ay": -60,
          "showarrow": true,
          "text": "Отмена<br>пропускной<br>системы в Москве",
          "x": "2020-06-09",
          "xref": "x",
          "y": 0.942,
          "yref": "y"
         },
         {
          "showarrow": false,
          "text": "Данные : Яндекс <br> формула расчета из методических рекомендациях Роспотребнадзора.",
          "x": 0.5,
          "xref": "paper",
          "y": -0.15,
          "yref": "paper"
         }
        ],
        "height": 600,
        "template": {
         "data": {
          "pie": [
           {
            "automargin": true,
            "type": "pie"
           }
          ]
         },
         "layout": {
          "xaxis": {
           "showgrid": true,
           "title": {
            "standoff": 15
           }
          },
          "yaxis": {
           "showgrid": true,
           "title": {
            "standoff": 15
           }
          }
         }
        },
        "title": {
         "text": "Коэффициент распространения (Rt) по 5 регионам ,<br> с максимальным количеством новых заболеваний ",
         "x": 0.5,
         "xanchor": "center",
         "y": 0.9,
         "yanchor": "bottom"
        },
        "width": 990,
        "yaxis": {
         "title": {
          "text": " "
         }
        }
       }
      }
     },
     "metadata": {}
    }
   ],
   "source": [
    "#mask = (X.Date>datetime.date(2020,5,1))&(X.Region.isin(regions_towatch))\n",
    "\n",
    "colors_dict = {\"Москва\": \"red\",\n",
    "                \"Московская обл.\": \"magenta\",\n",
    "                \"Санкт-Петербург\": \"goldenrod\",\n",
    "                \"Нижегородская обл.\": \"darkblue\",\n",
    "                \"Свердловская обл.\": \"green\",\n",
    "                 'Россия':'aquamarine'}\n",
    "fig = go.Figure()\n",
    "for i in regions_towatch:\n",
    "    mask = X['Region'] == i\n",
    "        \n",
    "    fig.add_trace(\n",
    "        \n",
    "        go.Bar(\n",
    "        name = f'{i}',\n",
    "        x=X[mask].Date,\n",
    "        y=X[mask].Rt,\n",
    "        text=round(X[mask].Rt,3),\n",
    "        textposition='inside',\n",
    "        marker_color= colors_dict.get(i),\n",
    "        \n",
    "        showlegend=True))\n",
    "\n",
    "\n",
    "\n",
    "\n",
    "                  \n",
    "fig.update_layout(\n",
    "    annotations=[\n",
    "        dict(\n",
    "            x='2020-04-13',\n",
    "            y=1.717,\n",
    "            xref=\"x\",\n",
    "            yref=\"y\",\n",
    "            text=\"Введение<br>пропускной<br>системы в Москве\",\n",
    "            showarrow=True,\n",
    "            arrowhead=2,\n",
    "            ax=0,\n",
    "            ay=-60),\n",
    "        dict(\n",
    "            x='2020-06-09',\n",
    "            y=0.942,\n",
    "            xref=\"x\",\n",
    "            yref=\"y\",\n",
    "            text=\"Отмена<br>пропускной<br>системы в Москве\",\n",
    "            showarrow=True,\n",
    "            arrowhead=2,\n",
    "            ax=0,\n",
    "            ay=-60),\n",
    "            dict(x=0.5,y=-0.15,\n",
    "            showarrow=False,\n",
    "            text=\"Данные : Яндекс <br> формула расчета из методических рекомендациях Роспотребнадзора.\",\n",
    "            xref=\"paper\",\n",
    "            yref=\"paper\")],\n",
    "                  title = \"Коэффициент распространения (Rt) по 5 регионам ,<br> с максимальным количеством новых заболеваний \",\n",
    "                  title_x = 0.5,\n",
    "                  title_y= 0.9,\n",
    "                  title_xanchor = \"center\",\n",
    "                  title_yanchor = \"bottom\", \n",
    "                 # legend_x = 0.05,legend_y = 0.9,\n",
    "                  width = 990, height = 600,template = 'gridon',\n",
    "    \n",
    "    \n",
    "                 # xaxis_title='Коэффициент рассчитан, исходя из данных оперативного штаба и <br>' + \n",
    "                               #' формулы расчета в методических рекомендациях Роспотребнадзора. ',\n",
    "    yaxis_title = ' '\n",
    ")\n",
    "\n",
    "\n",
    "fig.show()\n"
   ]
  },
  {
   "cell_type": "code",
   "execution_count": 14,
   "metadata": {
    "tags": []
   },
   "outputs": [
    {
     "output_type": "stream",
     "name": "stdout",
     "text": "Все регионы по которым есть статистика:\n****************************************\ndict_items([(0, 'Адыгея'), (1, 'Алтай'), (2, 'Алтайский край'), (3, 'Амурская обл.'), (4, 'Архангельская обл.'), (5, 'Астраханская обл.'), (6, 'Башкортостан'), (7, 'Белгородская обл.'), (8, 'Брянская обл.'), (9, 'Бурятия'), (10, 'Владимирская обл.'), (11, 'Волгоградская обл.'), (12, 'Вологодская обл.'), (13, 'Воронежская обл.'), (14, 'Дагестан'), (15, 'Еврейская АО'), (16, 'Забайкальский край'), (17, 'Ивановская обл.'), (18, 'Ингушетия'), (19, 'Иркутская обл.'), (20, 'Кабардино-Балкария'), (21, 'Калининградская обл.'), (22, 'Калмыкия'), (23, 'Калужская обл.'), (24, 'Камчатский край'), (25, 'Карачаево-Черкессия'), (26, 'Карелия'), (27, 'Кемеровская обл.'), (28, 'Кировская обл.'), (29, 'Коми'), (30, 'Костромская обл.'), (31, 'Краснодарский край'), (32, 'Красноярский край'), (33, 'Крым'), (34, 'Курганская обл.'), (35, 'Курская обл.'), (36, 'Ленинградская обл.'), (37, 'Липецкая обл.'), (38, 'Магаданская обл.'), (39, 'Марий Эл'), (40, 'Мордовия'), (41, 'Москва'), (42, 'Московская обл.'), (43, 'Мурманская обл.'), (44, 'Ненецкий АО'), (45, 'Нижегородская обл.'), (46, 'Новгородская обл.'), (47, 'Новосибирская обл.'), (48, 'Омская обл.'), (49, 'Оренбургская обл.'), (50, 'Орловская обл.'), (51, 'Пензенская обл.'), (52, 'Пермский край'), (53, 'Приморский край'), (54, 'Псковская обл.'), (55, 'Россия'), (56, 'Ростовская обл.'), (57, 'Рязанская обл.'), (58, 'Самарская обл.'), (59, 'Санкт-Петербург'), (60, 'Саратовская обл.'), (61, 'Саха (Якутия)'), (62, 'Сахалинская обл.'), (63, 'Свердловская обл.'), (64, 'Севастополь'), (65, 'Северная Осетия'), (66, 'Смоленская обл.'), (67, 'Ставропольский край'), (68, 'Тамбовская обл.'), (69, 'Татарстан'), (70, 'Тверская обл.'), (71, 'Томская обл.'), (72, 'Тульская обл.'), (73, 'Тыва'), (74, 'Тюменская обл.'), (75, 'Удмуртия'), (76, 'Ульяновская обл.'), (77, 'ХМАО – Югра'), (78, 'Хабаровский край'), (79, 'Хакасия'), (80, 'Челябинская обл.'), (81, 'Чечня'), (82, 'Чувашия'), (83, 'Чукотский АО'), (84, 'Ямало-Ненецкий АО'), (85, 'Ярославская обл.')])\n****************************************\nРассматриваем регионы: \n41 Москва\n42 Московская обл.\n55 Россия\n59 Санкт-Петербург\n63 Свердловская обл.\n80 Челябинская обл.\nВыбрали регион:  Москва\n"
    }
   ],
   "source": [
    "print('Все регионы по которым есть статистика:')\n",
    "print('*'*40)\n",
    "print(regions_dict.items())\n",
    "print('*'*40)\n",
    "print('Рассматриваем регионы: ')\n",
    "for i in regions_dict.keys():\n",
    "    if regions_dict.get(i) in regions_towatch:\n",
    "        print(i,regions_dict.get(i))\n",
    "\n",
    "\n",
    "my_region = regions_dict[41]\n",
    "print('Выбрали регион: ',my_region)\n"
   ]
  },
  {
   "cell_type": "code",
   "execution_count": 15,
   "metadata": {},
   "outputs": [
    {
     "output_type": "display_data",
     "data": {
      "application/vnd.plotly.v1+json": {
       "config": {
        "plotlyServerURL": "https://plot.ly"
       },
       "data": [
        {
         "alignmentgroup": "True",
         "hovertemplate": "Date=%{x}<br>Новые заболевшие=%{marker.color}<extra></extra>",
         "legendgroup": "",
         "marker": {
          "color": [
           5,
           0,
           0,
           3,
           3,
           6,
           4,
           5,
           9,
           0,
           18,
           2,
           31,
           12,
           33,
           6,
           54,
           71,
           28,
           120,
           136,
           157,
           114,
           197,
           212,
           387,
           267,
           595,
           448,
           434,
           536,
           591,
           697,
           660,
           857,
           1124,
           1030,
           1306,
           1355,
           1489,
           1774,
           1370,
           1959,
           2649,
           3570,
           2026,
           3083,
           2548,
           1959,
           2957,
           2612,
           2971,
           2871,
           3075,
           2220,
           3093,
           3561,
           5358,
           5948,
           5795,
           5714,
           5858,
           6703,
           5846,
           5667,
           5551,
           6169,
           5392,
           4703,
           4712,
           4748,
           3505,
           3855,
           3238,
           3545,
           2699,
           2913,
           2988,
           3190,
           2516,
           2560,
           2830,
           2140,
           2054,
           2332,
           2367,
           2595,
           2297,
           2286,
           1842,
           1998,
           1855,
           1992,
           1956,
           2001,
           1572,
           1195,
           1436,
           1714,
           1493,
           1477,
           1359,
           1416,
           1065,
           1040,
           1136,
           1057,
           968,
           1068,
           1081,
           811,
           885,
           813,
           750,
           717,
           782,
           745,
           611,
           662,
           659,
           680,
           650,
           685,
           629,
           621,
           568,
           637,
           678,
           679,
           672,
           613,
           628,
           531,
           575,
           578,
           591,
           578,
           602,
           638,
           608,
           645,
           648,
           683,
           694,
           674,
           671,
           678,
           695,
           690,
           664,
           693,
           691,
           687,
           684,
           686,
           691,
           689,
           694,
           694,
           689,
           692,
           688,
           695,
           688,
           690,
           693,
           691,
           688,
           690,
           687
          ],
          "coloraxis": "coloraxis"
         },
         "name": "",
         "offsetgroup": "",
         "orientation": "v",
         "showlegend": false,
         "text": [
          5,
          0,
          0,
          3,
          3,
          6,
          4,
          5,
          9,
          0,
          18,
          2,
          31,
          12,
          33,
          6,
          54,
          71,
          28,
          120,
          136,
          157,
          114,
          197,
          212,
          387,
          267,
          595,
          448,
          434,
          536,
          591,
          697,
          660,
          857,
          1124,
          1030,
          1306,
          1355,
          1489,
          1774,
          1370,
          1959,
          2649,
          3570,
          2026,
          3083,
          2548,
          1959,
          2957,
          2612,
          2971,
          2871,
          3075,
          2220,
          3093,
          3561,
          5358,
          5948,
          5795,
          5714,
          5858,
          6703,
          5846,
          5667,
          5551,
          6169,
          5392,
          4703,
          4712,
          4748,
          3505,
          3855,
          3238,
          3545,
          2699,
          2913,
          2988,
          3190,
          2516,
          2560,
          2830,
          2140,
          2054,
          2332,
          2367,
          2595,
          2297,
          2286,
          1842,
          1998,
          1855,
          1992,
          1956,
          2001,
          1572,
          1195,
          1436,
          1714,
          1493,
          1477,
          1359,
          1416,
          1065,
          1040,
          1136,
          1057,
          968,
          1068,
          1081,
          811,
          885,
          813,
          750,
          717,
          782,
          745,
          611,
          662,
          659,
          680,
          650,
          685,
          629,
          621,
          568,
          637,
          678,
          679,
          672,
          613,
          628,
          531,
          575,
          578,
          591,
          578,
          602,
          638,
          608,
          645,
          648,
          683,
          694,
          674,
          671,
          678,
          695,
          690,
          664,
          693,
          691,
          687,
          684,
          686,
          691,
          689,
          694,
          694,
          689,
          692,
          688,
          695,
          688,
          690,
          693,
          691,
          688,
          690,
          687
         ],
         "textposition": "auto",
         "type": "bar",
         "x": [
          "2020-03-06",
          "2020-03-07",
          "2020-03-08",
          "2020-03-09",
          "2020-03-10",
          "2020-03-11",
          "2020-03-12",
          "2020-03-13",
          "2020-03-14",
          "2020-03-15",
          "2020-03-16",
          "2020-03-17",
          "2020-03-18",
          "2020-03-19",
          "2020-03-20",
          "2020-03-21",
          "2020-03-22",
          "2020-03-23",
          "2020-03-24",
          "2020-03-25",
          "2020-03-26",
          "2020-03-27",
          "2020-03-28",
          "2020-03-29",
          "2020-03-30",
          "2020-03-31",
          "2020-04-01",
          "2020-04-02",
          "2020-04-03",
          "2020-04-04",
          "2020-04-05",
          "2020-04-06",
          "2020-04-07",
          "2020-04-08",
          "2020-04-09",
          "2020-04-10",
          "2020-04-11",
          "2020-04-12",
          "2020-04-13",
          "2020-04-14",
          "2020-04-15",
          "2020-04-16",
          "2020-04-17",
          "2020-04-18",
          "2020-04-19",
          "2020-04-20",
          "2020-04-21",
          "2020-04-22",
          "2020-04-23",
          "2020-04-24",
          "2020-04-25",
          "2020-04-26",
          "2020-04-27",
          "2020-04-28",
          "2020-04-29",
          "2020-04-30",
          "2020-05-01",
          "2020-05-02",
          "2020-05-03",
          "2020-05-04",
          "2020-05-05",
          "2020-05-06",
          "2020-05-07",
          "2020-05-08",
          "2020-05-09",
          "2020-05-10",
          "2020-05-11",
          "2020-05-12",
          "2020-05-13",
          "2020-05-14",
          "2020-05-15",
          "2020-05-16",
          "2020-05-17",
          "2020-05-18",
          "2020-05-19",
          "2020-05-20",
          "2020-05-21",
          "2020-05-22",
          "2020-05-23",
          "2020-05-24",
          "2020-05-25",
          "2020-05-26",
          "2020-05-27",
          "2020-05-28",
          "2020-05-29",
          "2020-05-30",
          "2020-05-31",
          "2020-06-01",
          "2020-06-02",
          "2020-06-03",
          "2020-06-04",
          "2020-06-05",
          "2020-06-06",
          "2020-06-07",
          "2020-06-08",
          "2020-06-09",
          "2020-06-10",
          "2020-06-11",
          "2020-06-12",
          "2020-06-13",
          "2020-06-14",
          "2020-06-15",
          "2020-06-16",
          "2020-06-17",
          "2020-06-18",
          "2020-06-19",
          "2020-06-20",
          "2020-06-21",
          "2020-06-22",
          "2020-06-23",
          "2020-06-24",
          "2020-06-25",
          "2020-06-26",
          "2020-06-27",
          "2020-06-28",
          "2020-06-29",
          "2020-06-30",
          "2020-07-01",
          "2020-07-02",
          "2020-07-03",
          "2020-07-04",
          "2020-07-05",
          "2020-07-06",
          "2020-07-07",
          "2020-07-08",
          "2020-07-09",
          "2020-07-10",
          "2020-07-11",
          "2020-07-12",
          "2020-07-13",
          "2020-07-14",
          "2020-07-15",
          "2020-07-16",
          "2020-07-17",
          "2020-07-18",
          "2020-07-19",
          "2020-07-20",
          "2020-07-21",
          "2020-07-22",
          "2020-07-23",
          "2020-07-24",
          "2020-07-25",
          "2020-07-26",
          "2020-07-27",
          "2020-07-28",
          "2020-07-29",
          "2020-07-30",
          "2020-07-31",
          "2020-08-01",
          "2020-08-02",
          "2020-08-03",
          "2020-08-04",
          "2020-08-05",
          "2020-08-06",
          "2020-08-07",
          "2020-08-08",
          "2020-08-09",
          "2020-08-10",
          "2020-08-11",
          "2020-08-12",
          "2020-08-13",
          "2020-08-14",
          "2020-08-15",
          "2020-08-16",
          "2020-08-17",
          "2020-08-18",
          "2020-08-19",
          "2020-08-20",
          "2020-08-21",
          "2020-08-22"
         ],
         "xaxis": "x",
         "y": [
          5,
          0,
          0,
          3,
          3,
          6,
          4,
          5,
          9,
          0,
          18,
          2,
          31,
          12,
          33,
          6,
          54,
          71,
          28,
          120,
          136,
          157,
          114,
          197,
          212,
          387,
          267,
          595,
          448,
          434,
          536,
          591,
          697,
          660,
          857,
          1124,
          1030,
          1306,
          1355,
          1489,
          1774,
          1370,
          1959,
          2649,
          3570,
          2026,
          3083,
          2548,
          1959,
          2957,
          2612,
          2971,
          2871,
          3075,
          2220,
          3093,
          3561,
          5358,
          5948,
          5795,
          5714,
          5858,
          6703,
          5846,
          5667,
          5551,
          6169,
          5392,
          4703,
          4712,
          4748,
          3505,
          3855,
          3238,
          3545,
          2699,
          2913,
          2988,
          3190,
          2516,
          2560,
          2830,
          2140,
          2054,
          2332,
          2367,
          2595,
          2297,
          2286,
          1842,
          1998,
          1855,
          1992,
          1956,
          2001,
          1572,
          1195,
          1436,
          1714,
          1493,
          1477,
          1359,
          1416,
          1065,
          1040,
          1136,
          1057,
          968,
          1068,
          1081,
          811,
          885,
          813,
          750,
          717,
          782,
          745,
          611,
          662,
          659,
          680,
          650,
          685,
          629,
          621,
          568,
          637,
          678,
          679,
          672,
          613,
          628,
          531,
          575,
          578,
          591,
          578,
          602,
          638,
          608,
          645,
          648,
          683,
          694,
          674,
          671,
          678,
          695,
          690,
          664,
          693,
          691,
          687,
          684,
          686,
          691,
          689,
          694,
          694,
          689,
          692,
          688,
          695,
          688,
          690,
          693,
          691,
          688,
          690,
          687
         ],
         "yaxis": "y"
        },
        {
         "line": {
          "color": "green"
         },
         "mode": "lines",
         "name": "14-дневная скользящая средняя",
         "showlegend": true,
         "type": "scatter",
         "x": [
          "2020-03-06",
          "2020-03-07",
          "2020-03-08",
          "2020-03-09",
          "2020-03-10",
          "2020-03-11",
          "2020-03-12",
          "2020-03-13",
          "2020-03-14",
          "2020-03-15",
          "2020-03-16",
          "2020-03-17",
          "2020-03-18",
          "2020-03-19",
          "2020-03-20",
          "2020-03-21",
          "2020-03-22",
          "2020-03-23",
          "2020-03-24",
          "2020-03-25",
          "2020-03-26",
          "2020-03-27",
          "2020-03-28",
          "2020-03-29",
          "2020-03-30",
          "2020-03-31",
          "2020-04-01",
          "2020-04-02",
          "2020-04-03",
          "2020-04-04",
          "2020-04-05",
          "2020-04-06",
          "2020-04-07",
          "2020-04-08",
          "2020-04-09",
          "2020-04-10",
          "2020-04-11",
          "2020-04-12",
          "2020-04-13",
          "2020-04-14",
          "2020-04-15",
          "2020-04-16",
          "2020-04-17",
          "2020-04-18",
          "2020-04-19",
          "2020-04-20",
          "2020-04-21",
          "2020-04-22",
          "2020-04-23",
          "2020-04-24",
          "2020-04-25",
          "2020-04-26",
          "2020-04-27",
          "2020-04-28",
          "2020-04-29",
          "2020-04-30",
          "2020-05-01",
          "2020-05-02",
          "2020-05-03",
          "2020-05-04",
          "2020-05-05",
          "2020-05-06",
          "2020-05-07",
          "2020-05-08",
          "2020-05-09",
          "2020-05-10",
          "2020-05-11",
          "2020-05-12",
          "2020-05-13",
          "2020-05-14",
          "2020-05-15",
          "2020-05-16",
          "2020-05-17",
          "2020-05-18",
          "2020-05-19",
          "2020-05-20",
          "2020-05-21",
          "2020-05-22",
          "2020-05-23",
          "2020-05-24",
          "2020-05-25",
          "2020-05-26",
          "2020-05-27",
          "2020-05-28",
          "2020-05-29",
          "2020-05-30",
          "2020-05-31",
          "2020-06-01",
          "2020-06-02",
          "2020-06-03",
          "2020-06-04",
          "2020-06-05",
          "2020-06-06",
          "2020-06-07",
          "2020-06-08",
          "2020-06-09",
          "2020-06-10",
          "2020-06-11",
          "2020-06-12",
          "2020-06-13",
          "2020-06-14",
          "2020-06-15",
          "2020-06-16",
          "2020-06-17",
          "2020-06-18",
          "2020-06-19",
          "2020-06-20",
          "2020-06-21",
          "2020-06-22",
          "2020-06-23",
          "2020-06-24",
          "2020-06-25",
          "2020-06-26",
          "2020-06-27",
          "2020-06-28",
          "2020-06-29",
          "2020-06-30",
          "2020-07-01",
          "2020-07-02",
          "2020-07-03",
          "2020-07-04",
          "2020-07-05",
          "2020-07-06",
          "2020-07-07",
          "2020-07-08",
          "2020-07-09",
          "2020-07-10",
          "2020-07-11",
          "2020-07-12",
          "2020-07-13",
          "2020-07-14",
          "2020-07-15",
          "2020-07-16",
          "2020-07-17",
          "2020-07-18",
          "2020-07-19",
          "2020-07-20",
          "2020-07-21",
          "2020-07-22",
          "2020-07-23",
          "2020-07-24",
          "2020-07-25",
          "2020-07-26",
          "2020-07-27",
          "2020-07-28",
          "2020-07-29",
          "2020-07-30",
          "2020-07-31",
          "2020-08-01",
          "2020-08-02",
          "2020-08-03",
          "2020-08-04",
          "2020-08-05",
          "2020-08-06",
          "2020-08-07",
          "2020-08-08",
          "2020-08-09",
          "2020-08-10",
          "2020-08-11",
          "2020-08-12",
          "2020-08-13",
          "2020-08-14",
          "2020-08-15",
          "2020-08-16",
          "2020-08-17",
          "2020-08-18",
          "2020-08-19",
          "2020-08-20",
          "2020-08-21",
          "2020-08-22"
         ],
         "y": [
          null,
          null,
          null,
          null,
          null,
          null,
          null,
          null,
          null,
          null,
          null,
          null,
          null,
          7,
          9,
          9.428571428571429,
          13.285714285714286,
          18.142857142857142,
          19.928571428571427,
          28.071428571428573,
          37.5,
          48.357142857142854,
          55.857142857142854,
          69.92857142857143,
          83.78571428571429,
          111.28571428571429,
          128.14285714285714,
          169.78571428571428,
          199.42857142857142,
          230,
          264.42857142857144,
          301.57142857142856,
          349.35714285714283,
          387.92857142857144,
          439.42857142857144,
          508.5,
          573.9285714285714,
          653.1428571428571,
          734.7857142857143,
          813.5,
          921.1428571428571,
          976.5,
          1084.4285714285713,
          1242.642857142857,
          1459.357142857143,
          1561.857142857143,
          1732.2857142857142,
          1867.142857142857,
          1945.857142857143,
          2076.785714285714,
          2189.785714285714,
          2308.714285714286,
          2417,
          2530.285714285714,
          2562.1428571428573,
          2685.214285714286,
          2799.6428571428573,
          2993.1428571428573,
          3163,
          3432.214285714286,
          3620.1428571428573,
          3856.5714285714284,
          4195.428571428572,
          4401.785714285715,
          4620,
          4804.285714285715,
          5039.857142857143,
          5205.357142857143,
          5382.714285714285,
          5498.357142857143,
          5583.142857142857,
          5450.785714285715,
          5301.285714285715,
          5118.642857142857,
          4963.714285714285,
          4738.071428571428,
          4467.357142857143,
          4263.214285714285,
          4086.285714285714,
          3869.5,
          3611.714285714286,
          3428.714285714286,
          3245.6428571428573,
          3055.785714285714,
          2883.214285714286,
          2801.9285714285716,
          2711.9285714285716,
          2644.714285714286,
          2554.785714285714,
          2493.5714285714284,
          2428.214285714286,
          2347.285714285714,
          2261.714285714286,
          2221.714285714286,
          2181.785714285714,
          2091.9285714285716,
          2024.4285714285713,
          1980.2857142857142,
          1936.142857142857,
          1873.7142857142858,
          1793.857142857143,
          1726.857142857143,
          1664.7142857142858,
          1609.2142857142858,
          1540.7857142857142,
          1489.4285714285713,
          1422.642857142857,
          1352.0714285714287,
          1285.4285714285713,
          1250.357142857143,
          1222.9285714285713,
          1183.5714285714287,
          1119.2142857142858,
          1066.142857142857,
          1011.8571428571429,
          970.6428571428571,
          922.7142857142857,
          890.2857142857143,
          863.2857142857143,
          829.2142857142857,
          802.2857142857143,
          779.5714285714286,
          752.2142857142857,
          719.9285714285714,
          706.3571428571429,
          683.7142857142857,
          671.1428571428571,
          666,
          663.2857142857143,
          655.4285714285714,
          646,
          647.2142857142857,
          637.8571428571429,
          631.8571428571429,
          624.5714285714286,
          620.3571428571429,
          612.7142857142857,
          610.7857142857143,
          612,
          614.8571428571429,
          615.4285714285714,
          613.2857142857143,
          613.5714285714286,
          615.1428571428571,
          619.5,
          622.5714285714286,
          633.0714285714286,
          641.6428571428571,
          649.6428571428571,
          654.8571428571429,
          663.0714285714286,
          669.4285714285714,
          672.9285714285714,
          678.3571428571429,
          681.2857142857143,
          684.3571428571429,
          684.7857142857143,
          684.7857142857143,
          686.2142857142857,
          687.5,
          688.5,
          688,
          688.3571428571429,
          690.0714285714286,
          689.8571428571429,
          690,
          690.2857142857143,
          690.5714285714286,
          690.8571428571429,
          690.5714285714286
         ]
        },
        {
         "line": {
          "color": "red"
         },
         "mode": "lines",
         "name": "7-дневная скользящая средняя",
         "showlegend": true,
         "type": "scatter",
         "x": [
          "2020-03-06",
          "2020-03-07",
          "2020-03-08",
          "2020-03-09",
          "2020-03-10",
          "2020-03-11",
          "2020-03-12",
          "2020-03-13",
          "2020-03-14",
          "2020-03-15",
          "2020-03-16",
          "2020-03-17",
          "2020-03-18",
          "2020-03-19",
          "2020-03-20",
          "2020-03-21",
          "2020-03-22",
          "2020-03-23",
          "2020-03-24",
          "2020-03-25",
          "2020-03-26",
          "2020-03-27",
          "2020-03-28",
          "2020-03-29",
          "2020-03-30",
          "2020-03-31",
          "2020-04-01",
          "2020-04-02",
          "2020-04-03",
          "2020-04-04",
          "2020-04-05",
          "2020-04-06",
          "2020-04-07",
          "2020-04-08",
          "2020-04-09",
          "2020-04-10",
          "2020-04-11",
          "2020-04-12",
          "2020-04-13",
          "2020-04-14",
          "2020-04-15",
          "2020-04-16",
          "2020-04-17",
          "2020-04-18",
          "2020-04-19",
          "2020-04-20",
          "2020-04-21",
          "2020-04-22",
          "2020-04-23",
          "2020-04-24",
          "2020-04-25",
          "2020-04-26",
          "2020-04-27",
          "2020-04-28",
          "2020-04-29",
          "2020-04-30",
          "2020-05-01",
          "2020-05-02",
          "2020-05-03",
          "2020-05-04",
          "2020-05-05",
          "2020-05-06",
          "2020-05-07",
          "2020-05-08",
          "2020-05-09",
          "2020-05-10",
          "2020-05-11",
          "2020-05-12",
          "2020-05-13",
          "2020-05-14",
          "2020-05-15",
          "2020-05-16",
          "2020-05-17",
          "2020-05-18",
          "2020-05-19",
          "2020-05-20",
          "2020-05-21",
          "2020-05-22",
          "2020-05-23",
          "2020-05-24",
          "2020-05-25",
          "2020-05-26",
          "2020-05-27",
          "2020-05-28",
          "2020-05-29",
          "2020-05-30",
          "2020-05-31",
          "2020-06-01",
          "2020-06-02",
          "2020-06-03",
          "2020-06-04",
          "2020-06-05",
          "2020-06-06",
          "2020-06-07",
          "2020-06-08",
          "2020-06-09",
          "2020-06-10",
          "2020-06-11",
          "2020-06-12",
          "2020-06-13",
          "2020-06-14",
          "2020-06-15",
          "2020-06-16",
          "2020-06-17",
          "2020-06-18",
          "2020-06-19",
          "2020-06-20",
          "2020-06-21",
          "2020-06-22",
          "2020-06-23",
          "2020-06-24",
          "2020-06-25",
          "2020-06-26",
          "2020-06-27",
          "2020-06-28",
          "2020-06-29",
          "2020-06-30",
          "2020-07-01",
          "2020-07-02",
          "2020-07-03",
          "2020-07-04",
          "2020-07-05",
          "2020-07-06",
          "2020-07-07",
          "2020-07-08",
          "2020-07-09",
          "2020-07-10",
          "2020-07-11",
          "2020-07-12",
          "2020-07-13",
          "2020-07-14",
          "2020-07-15",
          "2020-07-16",
          "2020-07-17",
          "2020-07-18",
          "2020-07-19",
          "2020-07-20",
          "2020-07-21",
          "2020-07-22",
          "2020-07-23",
          "2020-07-24",
          "2020-07-25",
          "2020-07-26",
          "2020-07-27",
          "2020-07-28",
          "2020-07-29",
          "2020-07-30",
          "2020-07-31",
          "2020-08-01",
          "2020-08-02",
          "2020-08-03",
          "2020-08-04",
          "2020-08-05",
          "2020-08-06",
          "2020-08-07",
          "2020-08-08",
          "2020-08-09",
          "2020-08-10",
          "2020-08-11",
          "2020-08-12",
          "2020-08-13",
          "2020-08-14",
          "2020-08-15",
          "2020-08-16",
          "2020-08-17",
          "2020-08-18",
          "2020-08-19",
          "2020-08-20",
          "2020-08-21",
          "2020-08-22"
         ],
         "y": [
          null,
          null,
          null,
          null,
          null,
          null,
          3,
          3,
          4.285714285714286,
          4.285714285714286,
          6.428571428571429,
          6.285714285714286,
          9.857142857142858,
          11,
          15,
          14.571428571428571,
          22.285714285714285,
          29.857142857142858,
          33.57142857142857,
          46.285714285714285,
          64,
          81.71428571428571,
          97.14285714285714,
          117.57142857142857,
          137.71428571428572,
          189,
          210,
          275.57142857142856,
          317.14285714285717,
          362.85714285714283,
          411.2857142857143,
          465.42857142857144,
          509.7142857142857,
          565.8571428571429,
          603.2857142857143,
          699.8571428571429,
          785,
          895,
          1004.1428571428571,
          1117.2857142857142,
          1276.4285714285713,
          1349.7142857142858,
          1469,
          1700.2857142857142,
          2023.7142857142858,
          2119.5714285714284,
          2347.285714285714,
          2457.8571428571427,
          2542,
          2684.5714285714284,
          2679.285714285714,
          2593.714285714286,
          2714.4285714285716,
          2713.285714285714,
          2666.4285714285716,
          2828.4285714285716,
          2914.714285714286,
          3307,
          3732.285714285714,
          4150,
          4527,
          5046.714285714285,
          5562.428571428572,
          5888.857142857143,
          5933,
          5876.285714285715,
          5929.714285714285,
          5883.714285714285,
          5718.714285714285,
          5434.285714285715,
          5277.428571428572,
          4968.571428571428,
          4726.285714285715,
          4307.571428571428,
          4043.714285714286,
          3757.4285714285716,
          3500.4285714285716,
          3249,
          3204,
          3012.714285714286,
          2915.8571428571427,
          2813.714285714286,
          2733.8571428571427,
          2611.1428571428573,
          2517.4285714285716,
          2399.8571428571427,
          2411.1428571428573,
          2373.5714285714284,
          2295.8571428571427,
          2253.285714285714,
          2245.285714285714,
          2177.1428571428573,
          2123.5714285714284,
          2032.2857142857142,
          1990,
          1888,
          1795.5714285714287,
          1715.2857142857142,
          1695.142857142857,
          1623.857142857143,
          1555.4285714285713,
          1463.7142857142858,
          1441.4285714285713,
          1422.857142857143,
          1366.2857142857142,
          1283.7142857142858,
          1221.4285714285713,
          1148.7142857142858,
          1107.142857142857,
          1059.2857142857142,
          1023,
          1000.8571428571429,
          954.7142857142857,
          910.8571428571429,
          875,
          834.1428571428571,
          786.1428571428571,
          757.5714285714286,
          725.7142857142857,
          703.7142857142857,
          693.7142857142857,
          684.1428571428571,
          670.2857142857143,
          653.7142857142857,
          655.1428571428571,
          641.7142857142857,
          638.5714285714286,
          638.2857142857143,
          642.4285714285714,
          640.5714285714286,
          638.2857142857143,
          639.2857142857143,
          634,
          625.1428571428571,
          610.8571428571429,
          598.2857142857143,
          584.8571428571429,
          583.2857142857143,
          584.7142857142857,
          595.7142857142857,
          605.7142857142857,
          615.7142857142857,
          628.8571428571429,
          645.4285714285714,
          655.7142857142857,
          660.4285714285714,
          670.4285714285714,
          677.5714285714286,
          683.5714285714286,
          680.8571428571429,
          680.7142857142857,
          683.1428571428571,
          685.4285714285714,
          686.2857142857143,
          685,
          685.1428571428571,
          688.7142857142857,
          688.8571428571429,
          689.2857142857143,
          689.5714285714286,
          690.7142857142857,
          691,
          691.5714285714286,
          691.4285714285714,
          690.8571428571429,
          690.7142857142857,
          691,
          690.4285714285714,
          690.7142857142857,
          689.5714285714286
         ]
        }
       ],
       "layout": {
        "annotations": [
         {
          "showarrow": false,
          "text": "Данные: Яндекс",
          "x": 0.5,
          "xref": "paper",
          "y": -0.15,
          "yref": "paper"
         }
        ],
        "barmode": "relative",
        "coloraxis": {
         "colorbar": {
          "title": {
           "text": "Новые заболевшие"
          }
         },
         "colorscale": [
          [
           0,
           "rgb(0,0,131)"
          ],
          [
           0.2,
           "rgb(0,60,170)"
          ],
          [
           0.4,
           "rgb(5,255,255)"
          ],
          [
           0.6,
           "rgb(255,255,0)"
          ],
          [
           0.8,
           "rgb(250,0,0)"
          ],
          [
           1,
           "rgb(128,0,0)"
          ]
         ]
        },
        "height": 600,
        "legend": {
         "tracegroupgap": 0,
         "x": 0.15,
         "y": 0.95
        },
        "template": {
         "data": {
          "pie": [
           {
            "automargin": true,
            "type": "pie"
           }
          ]
         },
         "layout": {
          "xaxis": {
           "showgrid": true,
           "title": {
            "standoff": 15
           }
          },
          "yaxis": {
           "showgrid": true,
           "title": {
            "standoff": 15
           }
          }
         }
        },
        "title": {
         "text": "Москва: график количества новых заболевших COVID-19 по датам",
         "x": 0.5,
         "xanchor": "center",
         "y": 0.9,
         "yanchor": "bottom"
        },
        "width": 990,
        "xaxis": {
         "anchor": "y",
         "domain": [
          0,
          1
         ],
         "title": {
          "text": ""
         }
        },
        "yaxis": {
         "anchor": "x",
         "domain": [
          0,
          1
         ],
         "title": {
          "text": " "
         }
        }
       }
      }
     },
     "metadata": {}
    }
   ],
   "source": [
    "mask = X.Region ==my_region\n",
    "#mask = (X.Date>datetime.date(2020,5,1)&(X.Region.isin(regions_towatch))\n",
    "#mask = (X.Date>datetime.date(2020,5,1)&(X.Region==my_region)\n",
    "\n",
    "fig = px.bar(X[mask], x='Date', \n",
    "             y=\"Day_confirmed\",color ='Day_confirmed',\n",
    "             title=f'{my_region}: '+'график количества новых заболевших COVID-19 по датам',\n",
    "              color_continuous_scale= 'jet',text = 'Day_confirmed',\n",
    "             labels = {'Day_confirmed' : \"Новые заболевшие\",'Remaining_ill':'Текущие больные'})\n",
    "fig.add_trace(\n",
    "    go.Scatter(\n",
    "        name='14-дневная скользящая средняя',\n",
    "        x=X[mask].Date,\n",
    "        y=X[mask]['MA14_dayconfirmed'],\n",
    "        mode=\"lines\",\n",
    "        \n",
    "        line=go.scatter.Line(color=\"green\"),\n",
    "        showlegend=True)\n",
    ")\n",
    "fig.add_trace(\n",
    "    go.Scatter(\n",
    "        name = '7-дневная скользящая средняя',\n",
    "        x=X[mask]['Date'],\n",
    "        y=X[mask]['MA7_dayconfirmed'],\n",
    "        mode=\"lines\",\n",
    "        \n",
    "        line=go.scatter.Line(color=\"red\"),\n",
    "        showlegend=True)\n",
    ")\n",
    "fig.update_layout(\n",
    "    annotations=[\n",
    "#         dict(\n",
    "#             x='2020-04-13',\n",
    "#             y=1355,\n",
    "#             xref=\"x\",\n",
    "#             yref=\"y\",\n",
    "#             text=\"Введение<br>пропускной<br>системы в Москве\",\n",
    "#             showarrow=True,\n",
    "#             arrowhead=2,\n",
    "#             ax=0,\n",
    "#             ay=-60),\n",
    "#         dict(\n",
    "#             x='2020-06-09',\n",
    "#             y=1572,\n",
    "#             xref=\"x\",\n",
    "#             yref=\"y\",\n",
    "#             text=\"Отмена<br>пропускной<br>системы в Москве\",\n",
    "#             showarrow=True,\n",
    "#             arrowhead=2,\n",
    "#             ax=0,\n",
    "#             ay=-90),\n",
    "        dict(\n",
    "            x=0.5,\n",
    "            y=-0.15,\n",
    "            showarrow=False,\n",
    "            text=\"Данные: Яндекс\",\n",
    "            xref=\"paper\",\n",
    "            yref=\"paper\"),\n",
    "        \n",
    "                ],\n",
    "    \n",
    "    \n",
    "                  title_x = 0.5,\n",
    "                  title_y= 0.9,\n",
    "                  title_xanchor = \"center\",\n",
    "                  title_yanchor = \"bottom\", \n",
    "                  legend_x = 0.15,legend_y = 0.95,\n",
    "                  width = 990, height = 600,template = 'gridon',\n",
    "    \n",
    "    \n",
    "                  xaxis_title='',yaxis_title = ' '\n",
    ")\n",
    "\n",
    "\n",
    "fig.show()\n",
    "\n",
    "\n"
   ]
  },
  {
   "cell_type": "code",
   "execution_count": 16,
   "metadata": {},
   "outputs": [
    {
     "output_type": "display_data",
     "data": {
      "application/vnd.plotly.v1+json": {
       "config": {
        "plotlyServerURL": "https://plot.ly"
       },
       "data": [
        {
         "marker": {
          "color": [
           0,
           -5,
           0,
           3,
           0,
           3,
           -2,
           1,
           4,
           -9,
           18,
           -16,
           29,
           -19,
           21,
           -27,
           48,
           17,
           -43,
           92,
           16,
           21,
           -43,
           83,
           15,
           175,
           -120,
           328,
           -147,
           -14,
           102,
           55,
           106,
           -37,
           197,
           267,
           -94,
           276,
           49,
           134,
           285,
           -404,
           589,
           690,
           921,
           -1544,
           1057,
           -535,
           -589,
           998,
           -345,
           359,
           -100,
           204,
           -855,
           873,
           468,
           1797,
           590,
           -153,
           -81,
           144,
           845,
           -857,
           -179,
           -116,
           618,
           -777,
           -689,
           9,
           36,
           -1243,
           350,
           -617,
           307,
           -846,
           214,
           75,
           202,
           -674,
           44,
           270,
           -690,
           -86,
           278,
           35,
           228,
           -298,
           -11,
           -444,
           156,
           -143,
           137,
           -36,
           45,
           -429,
           -377,
           241,
           278,
           -221,
           -16,
           -118,
           57,
           -351,
           -25,
           96,
           -79,
           -89,
           100,
           13,
           -270,
           74,
           -72,
           -63,
           -33,
           65,
           -37,
           -134,
           51,
           -3,
           21,
           -30,
           35,
           -56,
           -8,
           -53,
           69,
           41,
           1,
           -7,
           -59,
           15,
           -97,
           44,
           3,
           13,
           -13,
           24,
           36,
           -30,
           37,
           3,
           35,
           11,
           -20,
           -3,
           7,
           17,
           -5,
           -26,
           29,
           -2,
           -4,
           -3,
           2,
           5,
           -2,
           5,
           0,
           -5,
           3,
           -4,
           7,
           -7,
           2,
           3,
           -2,
           -3,
           2,
           -3
          ],
          "colorbar": {
           "tickmode": "auto",
           "title": {
            "side": "top",
            "text": "Изменение"
           }
          },
          "colorscale": [
           [
            0,
            "rgb(0, 147, 146)"
           ],
           [
            0.16666666666666666,
            "rgb(57, 177, 133)"
           ],
           [
            0.3333333333333333,
            "rgb(156, 203, 134)"
           ],
           [
            0.5,
            "rgb(233, 226, 156)"
           ],
           [
            0.6666666666666666,
            "rgb(238, 180, 121)"
           ],
           [
            0.8333333333333334,
            "rgb(232, 132, 113)"
           ],
           [
            1,
            "rgb(207, 89, 126)"
           ]
          ]
         },
         "text": [
          0,
          -5,
          0,
          3,
          0,
          3,
          -2,
          1,
          4,
          -9,
          18,
          -16,
          29,
          -19,
          21,
          -27,
          48,
          17,
          -43,
          92,
          16,
          21,
          -43,
          83,
          15,
          175,
          -120,
          328,
          -147,
          -14,
          102,
          55,
          106,
          -37,
          197,
          267,
          -94,
          276,
          49,
          134,
          285,
          -404,
          589,
          690,
          921,
          -1544,
          1057,
          -535,
          -589,
          998,
          -345,
          359,
          -100,
          204,
          -855,
          873,
          468,
          1797,
          590,
          -153,
          -81,
          144,
          845,
          -857,
          -179,
          -116,
          618,
          -777,
          -689,
          9,
          36,
          -1243,
          350,
          -617,
          307,
          -846,
          214,
          75,
          202,
          -674,
          44,
          270,
          -690,
          -86,
          278,
          35,
          228,
          -298,
          -11,
          -444,
          156,
          -143,
          137,
          -36,
          45,
          -429,
          -377,
          241,
          278,
          -221,
          -16,
          -118,
          57,
          -351,
          -25,
          96,
          -79,
          -89,
          100,
          13,
          -270,
          74,
          -72,
          -63,
          -33,
          65,
          -37,
          -134,
          51,
          -3,
          21,
          -30,
          35,
          -56,
          -8,
          -53,
          69,
          41,
          1,
          -7,
          -59,
          15,
          -97,
          44,
          3,
          13,
          -13,
          24,
          36,
          -30,
          37,
          3,
          35,
          11,
          -20,
          -3,
          7,
          17,
          -5,
          -26,
          29,
          -2,
          -4,
          -3,
          2,
          5,
          -2,
          5,
          0,
          -5,
          3,
          -4,
          7,
          -7,
          2,
          3,
          -2,
          -3,
          2,
          -3
         ],
         "textposition": "inside",
         "type": "bar",
         "x": [
          "2020-03-06",
          "2020-03-07",
          "2020-03-08",
          "2020-03-09",
          "2020-03-10",
          "2020-03-11",
          "2020-03-12",
          "2020-03-13",
          "2020-03-14",
          "2020-03-15",
          "2020-03-16",
          "2020-03-17",
          "2020-03-18",
          "2020-03-19",
          "2020-03-20",
          "2020-03-21",
          "2020-03-22",
          "2020-03-23",
          "2020-03-24",
          "2020-03-25",
          "2020-03-26",
          "2020-03-27",
          "2020-03-28",
          "2020-03-29",
          "2020-03-30",
          "2020-03-31",
          "2020-04-01",
          "2020-04-02",
          "2020-04-03",
          "2020-04-04",
          "2020-04-05",
          "2020-04-06",
          "2020-04-07",
          "2020-04-08",
          "2020-04-09",
          "2020-04-10",
          "2020-04-11",
          "2020-04-12",
          "2020-04-13",
          "2020-04-14",
          "2020-04-15",
          "2020-04-16",
          "2020-04-17",
          "2020-04-18",
          "2020-04-19",
          "2020-04-20",
          "2020-04-21",
          "2020-04-22",
          "2020-04-23",
          "2020-04-24",
          "2020-04-25",
          "2020-04-26",
          "2020-04-27",
          "2020-04-28",
          "2020-04-29",
          "2020-04-30",
          "2020-05-01",
          "2020-05-02",
          "2020-05-03",
          "2020-05-04",
          "2020-05-05",
          "2020-05-06",
          "2020-05-07",
          "2020-05-08",
          "2020-05-09",
          "2020-05-10",
          "2020-05-11",
          "2020-05-12",
          "2020-05-13",
          "2020-05-14",
          "2020-05-15",
          "2020-05-16",
          "2020-05-17",
          "2020-05-18",
          "2020-05-19",
          "2020-05-20",
          "2020-05-21",
          "2020-05-22",
          "2020-05-23",
          "2020-05-24",
          "2020-05-25",
          "2020-05-26",
          "2020-05-27",
          "2020-05-28",
          "2020-05-29",
          "2020-05-30",
          "2020-05-31",
          "2020-06-01",
          "2020-06-02",
          "2020-06-03",
          "2020-06-04",
          "2020-06-05",
          "2020-06-06",
          "2020-06-07",
          "2020-06-08",
          "2020-06-09",
          "2020-06-10",
          "2020-06-11",
          "2020-06-12",
          "2020-06-13",
          "2020-06-14",
          "2020-06-15",
          "2020-06-16",
          "2020-06-17",
          "2020-06-18",
          "2020-06-19",
          "2020-06-20",
          "2020-06-21",
          "2020-06-22",
          "2020-06-23",
          "2020-06-24",
          "2020-06-25",
          "2020-06-26",
          "2020-06-27",
          "2020-06-28",
          "2020-06-29",
          "2020-06-30",
          "2020-07-01",
          "2020-07-02",
          "2020-07-03",
          "2020-07-04",
          "2020-07-05",
          "2020-07-06",
          "2020-07-07",
          "2020-07-08",
          "2020-07-09",
          "2020-07-10",
          "2020-07-11",
          "2020-07-12",
          "2020-07-13",
          "2020-07-14",
          "2020-07-15",
          "2020-07-16",
          "2020-07-17",
          "2020-07-18",
          "2020-07-19",
          "2020-07-20",
          "2020-07-21",
          "2020-07-22",
          "2020-07-23",
          "2020-07-24",
          "2020-07-25",
          "2020-07-26",
          "2020-07-27",
          "2020-07-28",
          "2020-07-29",
          "2020-07-30",
          "2020-07-31",
          "2020-08-01",
          "2020-08-02",
          "2020-08-03",
          "2020-08-04",
          "2020-08-05",
          "2020-08-06",
          "2020-08-07",
          "2020-08-08",
          "2020-08-09",
          "2020-08-10",
          "2020-08-11",
          "2020-08-12",
          "2020-08-13",
          "2020-08-14",
          "2020-08-15",
          "2020-08-16",
          "2020-08-17",
          "2020-08-18",
          "2020-08-19",
          "2020-08-20",
          "2020-08-21",
          "2020-08-22"
         ],
         "y": [
          0,
          -5,
          0,
          3,
          0,
          3,
          -2,
          1,
          4,
          -9,
          18,
          -16,
          29,
          -19,
          21,
          -27,
          48,
          17,
          -43,
          92,
          16,
          21,
          -43,
          83,
          15,
          175,
          -120,
          328,
          -147,
          -14,
          102,
          55,
          106,
          -37,
          197,
          267,
          -94,
          276,
          49,
          134,
          285,
          -404,
          589,
          690,
          921,
          -1544,
          1057,
          -535,
          -589,
          998,
          -345,
          359,
          -100,
          204,
          -855,
          873,
          468,
          1797,
          590,
          -153,
          -81,
          144,
          845,
          -857,
          -179,
          -116,
          618,
          -777,
          -689,
          9,
          36,
          -1243,
          350,
          -617,
          307,
          -846,
          214,
          75,
          202,
          -674,
          44,
          270,
          -690,
          -86,
          278,
          35,
          228,
          -298,
          -11,
          -444,
          156,
          -143,
          137,
          -36,
          45,
          -429,
          -377,
          241,
          278,
          -221,
          -16,
          -118,
          57,
          -351,
          -25,
          96,
          -79,
          -89,
          100,
          13,
          -270,
          74,
          -72,
          -63,
          -33,
          65,
          -37,
          -134,
          51,
          -3,
          21,
          -30,
          35,
          -56,
          -8,
          -53,
          69,
          41,
          1,
          -7,
          -59,
          15,
          -97,
          44,
          3,
          13,
          -13,
          24,
          36,
          -30,
          37,
          3,
          35,
          11,
          -20,
          -3,
          7,
          17,
          -5,
          -26,
          29,
          -2,
          -4,
          -3,
          2,
          5,
          -2,
          5,
          0,
          -5,
          3,
          -4,
          7,
          -7,
          2,
          3,
          -2,
          -3,
          2,
          -3
         ]
        }
       ],
       "layout": {
        "annotations": [
         {
          "showarrow": false,
          "text": "",
          "x": 0.5,
          "xref": "paper",
          "y": -0.15,
          "yref": "paper"
         }
        ],
        "height": 600,
        "legend": {
         "x": 0.05,
         "y": 0.98
        },
        "template": {
         "data": {
          "pie": [
           {
            "automargin": true,
            "type": "pie"
           }
          ]
         },
         "layout": {
          "xaxis": {
           "showgrid": true,
           "title": {
            "standoff": 15
           }
          },
          "yaxis": {
           "showgrid": true,
           "title": {
            "standoff": 15
           }
          }
         }
        },
        "title": {
         "text": "Москва: динамика новых заболевших COVID-19 по дням<br>(изменение относительно предыдущего дня)",
         "x": 0.5,
         "xanchor": "center",
         "y": 0.9,
         "yanchor": "bottom"
        },
        "width": 990,
        "xaxis": {
         "title": {
          "text": "Данные: Яндекс"
         }
        },
        "yaxis": {
         "title": {
          "text": " "
         }
        }
       }
      }
     },
     "metadata": {}
    }
   ],
   "source": [
    "mask = X.Region ==my_region\n",
    "#mask = (X.Date>datetime.date(2020,5,1))&(X.Region==my_region)\n",
    "#Y = X[mask]\n",
    "\n",
    "#Y['base'] = Y['Change_dayconf']*Y['Change_dayconf'].apply(lambda d:0 if d>0 else 1)\n",
    "#Y['Date']= pd.to_datetime(Y.Date)\n",
    "fig = go.Figure()\n",
    "fig.add_trace(\n",
    "              go.Bar(x = X[mask].Date,y=X[mask].Change_dayconf,text = X[mask]['Change_dayconf'],textposition = 'inside',\n",
    "                \n",
    "                \n",
    "                 marker_color = X[mask]['Change_dayconf'],marker_colorscale = 'Temps',marker_colorbar ={'tickmode':'auto',\n",
    "                                    'title':{'text':'Изменение','side':'top'}}\n",
    "                    )   \n",
    "                )\n",
    "fig.update_layout(\n",
    "   annotations=[\n",
    "        \n",
    "        dict(x=0.5,y=-0.15,\n",
    "            showarrow=False,\n",
    "            text=\"\",\n",
    "            xref=\"paper\",\n",
    "            yref=\"paper\")],\n",
    "                  title=f'{my_region}: динамика новых заболевших COVID-19 по дням<br>(изменение относительно предыдущего дня)',\n",
    "                  title_x = 0.5,\n",
    "                  title_y= 0.9,\n",
    "                  title_xanchor = \"center\",\n",
    "                  title_yanchor = \"bottom\", \n",
    "                  legend_x = 0.05,legend_y = 0.98,\n",
    "                  width = 990, height = 600,template = 'gridon',\n",
    "    \n",
    "    \n",
    "                  xaxis_title='Данные: Яндекс',\n",
    "    yaxis_title = ' '\n",
    ")\n",
    "\n",
    "fig.show()\n",
    "\n",
    "\n",
    "\n",
    "\n"
   ]
  },
  {
   "cell_type": "code",
   "execution_count": 17,
   "metadata": {},
   "outputs": [
    {
     "output_type": "display_data",
     "data": {
      "application/vnd.plotly.v1+json": {
       "config": {
        "plotlyServerURL": "https://plot.ly"
       },
       "data": [
        {
         "alignmentgroup": "True",
         "hovertemplate": "Date=%{x}<br>Текущие больные=%{marker.color}<extra></extra>",
         "legendgroup": "",
         "marker": {
          "color": [
           5,
           5,
           5,
           8,
           11,
           17,
           21,
           26,
           35,
           34,
           52,
           54,
           85,
           97,
           126,
           129,
           183,
           253,
           281,
           394,
           529,
           682,
           794,
           980,
           1192,
           1532,
           1749,
           2316,
           2735,
           3136,
           3666,
           4249,
           4928,
           5540,
           6347,
           7422,
           8295,
           9399,
           10594,
           11891,
           13465,
           14639,
           16461,
           18927,
           22385,
           24308,
           27143,
           29453,
           31204,
           33837,
           36096,
           38901,
           41392,
           43817,
           45490,
           47993,
           50876,
           55589,
           60848,
           66064,
           71429,
           76649,
           82544,
           87307,
           90400,
           94882,
           96963,
           100480,
           103266,
           106099,
           109544,
           111505,
           113831,
           115569,
           116460,
           113644,
           112743,
           112758,
           112050,
           112080,
           110853,
           105574,
           101802,
           99992,
           98774,
           97464,
           98135,
           98296,
           94481,
           92877,
           91750,
           90905,
           89766,
           89384,
           89701,
           85824,
           83167,
           82314,
           81724,
           81639,
           80933,
           80690,
           79180,
           77926,
           76871,
           75956,
           74864,
           74793,
           74727,
           73204,
           71981,
           71928,
           70719,
           69597,
           69238,
           68990,
           67405,
           66185,
           65753,
           64787,
           63822,
           63887,
           63918,
           62457,
           61855,
           61218,
           60820,
           60467,
           60654,
           60907,
           60471,
           59226,
           58588,
           58468,
           58489,
           58707,
           58891,
           58623,
           58074,
           58215,
           58387,
           58460,
           58828,
           59245,
           59082,
           59115,
           58310,
           57731,
           56995,
           56886,
           56724,
           55947,
           55294,
           54711,
           54032,
           53431,
           53305,
           53088,
           52725,
           52314,
           52208,
           51535,
           50943,
           50575,
           50436,
           49963,
           49402,
           48871,
           48389,
           47972
          ],
          "coloraxis": "coloraxis"
         },
         "name": "",
         "offsetgroup": "",
         "orientation": "v",
         "showlegend": false,
         "text": [
          5,
          5,
          5,
          8,
          11,
          17,
          21,
          26,
          35,
          34,
          52,
          54,
          85,
          97,
          126,
          129,
          183,
          253,
          281,
          394,
          529,
          682,
          794,
          980,
          1192,
          1532,
          1749,
          2316,
          2735,
          3136,
          3666,
          4249,
          4928,
          5540,
          6347,
          7422,
          8295,
          9399,
          10594,
          11891,
          13465,
          14639,
          16461,
          18927,
          22385,
          24308,
          27143,
          29453,
          31204,
          33837,
          36096,
          38901,
          41392,
          43817,
          45490,
          47993,
          50876,
          55589,
          60848,
          66064,
          71429,
          76649,
          82544,
          87307,
          90400,
          94882,
          96963,
          100480,
          103266,
          106099,
          109544,
          111505,
          113831,
          115569,
          116460,
          113644,
          112743,
          112758,
          112050,
          112080,
          110853,
          105574,
          101802,
          99992,
          98774,
          97464,
          98135,
          98296,
          94481,
          92877,
          91750,
          90905,
          89766,
          89384,
          89701,
          85824,
          83167,
          82314,
          81724,
          81639,
          80933,
          80690,
          79180,
          77926,
          76871,
          75956,
          74864,
          74793,
          74727,
          73204,
          71981,
          71928,
          70719,
          69597,
          69238,
          68990,
          67405,
          66185,
          65753,
          64787,
          63822,
          63887,
          63918,
          62457,
          61855,
          61218,
          60820,
          60467,
          60654,
          60907,
          60471,
          59226,
          58588,
          58468,
          58489,
          58707,
          58891,
          58623,
          58074,
          58215,
          58387,
          58460,
          58828,
          59245,
          59082,
          59115,
          58310,
          57731,
          56995,
          56886,
          56724,
          55947,
          55294,
          54711,
          54032,
          53431,
          53305,
          53088,
          52725,
          52314,
          52208,
          51535,
          50943,
          50575,
          50436,
          49963,
          49402,
          48871,
          48389,
          47972
         ],
         "textposition": "auto",
         "type": "bar",
         "x": [
          "2020-03-06",
          "2020-03-07",
          "2020-03-08",
          "2020-03-09",
          "2020-03-10",
          "2020-03-11",
          "2020-03-12",
          "2020-03-13",
          "2020-03-14",
          "2020-03-15",
          "2020-03-16",
          "2020-03-17",
          "2020-03-18",
          "2020-03-19",
          "2020-03-20",
          "2020-03-21",
          "2020-03-22",
          "2020-03-23",
          "2020-03-24",
          "2020-03-25",
          "2020-03-26",
          "2020-03-27",
          "2020-03-28",
          "2020-03-29",
          "2020-03-30",
          "2020-03-31",
          "2020-04-01",
          "2020-04-02",
          "2020-04-03",
          "2020-04-04",
          "2020-04-05",
          "2020-04-06",
          "2020-04-07",
          "2020-04-08",
          "2020-04-09",
          "2020-04-10",
          "2020-04-11",
          "2020-04-12",
          "2020-04-13",
          "2020-04-14",
          "2020-04-15",
          "2020-04-16",
          "2020-04-17",
          "2020-04-18",
          "2020-04-19",
          "2020-04-20",
          "2020-04-21",
          "2020-04-22",
          "2020-04-23",
          "2020-04-24",
          "2020-04-25",
          "2020-04-26",
          "2020-04-27",
          "2020-04-28",
          "2020-04-29",
          "2020-04-30",
          "2020-05-01",
          "2020-05-02",
          "2020-05-03",
          "2020-05-04",
          "2020-05-05",
          "2020-05-06",
          "2020-05-07",
          "2020-05-08",
          "2020-05-09",
          "2020-05-10",
          "2020-05-11",
          "2020-05-12",
          "2020-05-13",
          "2020-05-14",
          "2020-05-15",
          "2020-05-16",
          "2020-05-17",
          "2020-05-18",
          "2020-05-19",
          "2020-05-20",
          "2020-05-21",
          "2020-05-22",
          "2020-05-23",
          "2020-05-24",
          "2020-05-25",
          "2020-05-26",
          "2020-05-27",
          "2020-05-28",
          "2020-05-29",
          "2020-05-30",
          "2020-05-31",
          "2020-06-01",
          "2020-06-02",
          "2020-06-03",
          "2020-06-04",
          "2020-06-05",
          "2020-06-06",
          "2020-06-07",
          "2020-06-08",
          "2020-06-09",
          "2020-06-10",
          "2020-06-11",
          "2020-06-12",
          "2020-06-13",
          "2020-06-14",
          "2020-06-15",
          "2020-06-16",
          "2020-06-17",
          "2020-06-18",
          "2020-06-19",
          "2020-06-20",
          "2020-06-21",
          "2020-06-22",
          "2020-06-23",
          "2020-06-24",
          "2020-06-25",
          "2020-06-26",
          "2020-06-27",
          "2020-06-28",
          "2020-06-29",
          "2020-06-30",
          "2020-07-01",
          "2020-07-02",
          "2020-07-03",
          "2020-07-04",
          "2020-07-05",
          "2020-07-06",
          "2020-07-07",
          "2020-07-08",
          "2020-07-09",
          "2020-07-10",
          "2020-07-11",
          "2020-07-12",
          "2020-07-13",
          "2020-07-14",
          "2020-07-15",
          "2020-07-16",
          "2020-07-17",
          "2020-07-18",
          "2020-07-19",
          "2020-07-20",
          "2020-07-21",
          "2020-07-22",
          "2020-07-23",
          "2020-07-24",
          "2020-07-25",
          "2020-07-26",
          "2020-07-27",
          "2020-07-28",
          "2020-07-29",
          "2020-07-30",
          "2020-07-31",
          "2020-08-01",
          "2020-08-02",
          "2020-08-03",
          "2020-08-04",
          "2020-08-05",
          "2020-08-06",
          "2020-08-07",
          "2020-08-08",
          "2020-08-09",
          "2020-08-10",
          "2020-08-11",
          "2020-08-12",
          "2020-08-13",
          "2020-08-14",
          "2020-08-15",
          "2020-08-16",
          "2020-08-17",
          "2020-08-18",
          "2020-08-19",
          "2020-08-20",
          "2020-08-21",
          "2020-08-22"
         ],
         "xaxis": "x",
         "y": [
          5,
          5,
          5,
          8,
          11,
          17,
          21,
          26,
          35,
          34,
          52,
          54,
          85,
          97,
          126,
          129,
          183,
          253,
          281,
          394,
          529,
          682,
          794,
          980,
          1192,
          1532,
          1749,
          2316,
          2735,
          3136,
          3666,
          4249,
          4928,
          5540,
          6347,
          7422,
          8295,
          9399,
          10594,
          11891,
          13465,
          14639,
          16461,
          18927,
          22385,
          24308,
          27143,
          29453,
          31204,
          33837,
          36096,
          38901,
          41392,
          43817,
          45490,
          47993,
          50876,
          55589,
          60848,
          66064,
          71429,
          76649,
          82544,
          87307,
          90400,
          94882,
          96963,
          100480,
          103266,
          106099,
          109544,
          111505,
          113831,
          115569,
          116460,
          113644,
          112743,
          112758,
          112050,
          112080,
          110853,
          105574,
          101802,
          99992,
          98774,
          97464,
          98135,
          98296,
          94481,
          92877,
          91750,
          90905,
          89766,
          89384,
          89701,
          85824,
          83167,
          82314,
          81724,
          81639,
          80933,
          80690,
          79180,
          77926,
          76871,
          75956,
          74864,
          74793,
          74727,
          73204,
          71981,
          71928,
          70719,
          69597,
          69238,
          68990,
          67405,
          66185,
          65753,
          64787,
          63822,
          63887,
          63918,
          62457,
          61855,
          61218,
          60820,
          60467,
          60654,
          60907,
          60471,
          59226,
          58588,
          58468,
          58489,
          58707,
          58891,
          58623,
          58074,
          58215,
          58387,
          58460,
          58828,
          59245,
          59082,
          59115,
          58310,
          57731,
          56995,
          56886,
          56724,
          55947,
          55294,
          54711,
          54032,
          53431,
          53305,
          53088,
          52725,
          52314,
          52208,
          51535,
          50943,
          50575,
          50436,
          49963,
          49402,
          48871,
          48389,
          47972
         ],
         "yaxis": "y"
        },
        {
         "line": {
          "color": "green"
         },
         "mode": "lines",
         "name": "14-дневная скользящая средняя",
         "showlegend": true,
         "type": "scatter",
         "x": [
          "2020-03-06",
          "2020-03-07",
          "2020-03-08",
          "2020-03-09",
          "2020-03-10",
          "2020-03-11",
          "2020-03-12",
          "2020-03-13",
          "2020-03-14",
          "2020-03-15",
          "2020-03-16",
          "2020-03-17",
          "2020-03-18",
          "2020-03-19",
          "2020-03-20",
          "2020-03-21",
          "2020-03-22",
          "2020-03-23",
          "2020-03-24",
          "2020-03-25",
          "2020-03-26",
          "2020-03-27",
          "2020-03-28",
          "2020-03-29",
          "2020-03-30",
          "2020-03-31",
          "2020-04-01",
          "2020-04-02",
          "2020-04-03",
          "2020-04-04",
          "2020-04-05",
          "2020-04-06",
          "2020-04-07",
          "2020-04-08",
          "2020-04-09",
          "2020-04-10",
          "2020-04-11",
          "2020-04-12",
          "2020-04-13",
          "2020-04-14",
          "2020-04-15",
          "2020-04-16",
          "2020-04-17",
          "2020-04-18",
          "2020-04-19",
          "2020-04-20",
          "2020-04-21",
          "2020-04-22",
          "2020-04-23",
          "2020-04-24",
          "2020-04-25",
          "2020-04-26",
          "2020-04-27",
          "2020-04-28",
          "2020-04-29",
          "2020-04-30",
          "2020-05-01",
          "2020-05-02",
          "2020-05-03",
          "2020-05-04",
          "2020-05-05",
          "2020-05-06",
          "2020-05-07",
          "2020-05-08",
          "2020-05-09",
          "2020-05-10",
          "2020-05-11",
          "2020-05-12",
          "2020-05-13",
          "2020-05-14",
          "2020-05-15",
          "2020-05-16",
          "2020-05-17",
          "2020-05-18",
          "2020-05-19",
          "2020-05-20",
          "2020-05-21",
          "2020-05-22",
          "2020-05-23",
          "2020-05-24",
          "2020-05-25",
          "2020-05-26",
          "2020-05-27",
          "2020-05-28",
          "2020-05-29",
          "2020-05-30",
          "2020-05-31",
          "2020-06-01",
          "2020-06-02",
          "2020-06-03",
          "2020-06-04",
          "2020-06-05",
          "2020-06-06",
          "2020-06-07",
          "2020-06-08",
          "2020-06-09",
          "2020-06-10",
          "2020-06-11",
          "2020-06-12",
          "2020-06-13",
          "2020-06-14",
          "2020-06-15",
          "2020-06-16",
          "2020-06-17",
          "2020-06-18",
          "2020-06-19",
          "2020-06-20",
          "2020-06-21",
          "2020-06-22",
          "2020-06-23",
          "2020-06-24",
          "2020-06-25",
          "2020-06-26",
          "2020-06-27",
          "2020-06-28",
          "2020-06-29",
          "2020-06-30",
          "2020-07-01",
          "2020-07-02",
          "2020-07-03",
          "2020-07-04",
          "2020-07-05",
          "2020-07-06",
          "2020-07-07",
          "2020-07-08",
          "2020-07-09",
          "2020-07-10",
          "2020-07-11",
          "2020-07-12",
          "2020-07-13",
          "2020-07-14",
          "2020-07-15",
          "2020-07-16",
          "2020-07-17",
          "2020-07-18",
          "2020-07-19",
          "2020-07-20",
          "2020-07-21",
          "2020-07-22",
          "2020-07-23",
          "2020-07-24",
          "2020-07-25",
          "2020-07-26",
          "2020-07-27",
          "2020-07-28",
          "2020-07-29",
          "2020-07-30",
          "2020-07-31",
          "2020-08-01",
          "2020-08-02",
          "2020-08-03",
          "2020-08-04",
          "2020-08-05",
          "2020-08-06",
          "2020-08-07",
          "2020-08-08",
          "2020-08-09",
          "2020-08-10",
          "2020-08-11",
          "2020-08-12",
          "2020-08-13",
          "2020-08-14",
          "2020-08-15",
          "2020-08-16",
          "2020-08-17",
          "2020-08-18",
          "2020-08-19",
          "2020-08-20",
          "2020-08-21",
          "2020-08-22"
         ],
         "y": [
          null,
          null,
          null,
          null,
          null,
          null,
          null,
          null,
          null,
          null,
          null,
          null,
          null,
          32.5,
          41.142857142857146,
          50,
          62.714285714285715,
          80.21428571428571,
          99.5,
          126.42857142857143,
          162.71428571428572,
          209.57142857142858,
          263.7857142857143,
          331.35714285714283,
          412.7857142857143,
          518.3571428571429,
          637.2142857142857,
          795.7142857142857,
          982.0714285714286,
          1196.857142857143,
          1445.642857142857,
          1731.0714285714287,
          2063,
          2430.5714285714284,
          2846.1428571428573,
          3327.5714285714284,
          3863.3571428571427,
          4464.714285714285,
          5136.285714285715,
          5876.214285714285,
          6713.071428571428,
          7593.285714285715,
          8573.714285714286,
          9701.642857142857,
          11038.714285714286,
          12471.5,
          14058.285714285714,
          15766.357142857143,
          17541.85714285714,
          19428.64285714286,
          21414.428571428572,
          23521.714285714286,
          25721.571428571428,
          28002,
          30289.5,
          32671.928571428572,
          35130.142857142855,
          37748.857142857145,
          40496.21428571428,
          43478.78571428572,
          46642.07142857143,
          50013.21428571428,
          53680.357142857145,
          57499.642857142855,
          61378.5,
          65377.142857142855,
          69346.5,
          73393.85714285714,
          77520.71428571429,
          81671.14285714286,
          85861.71428571429,
          89855.71428571429,
          93640.21428571429,
          97176.28571428571,
          100392.78571428571,
          103035.28571428571,
          105192.35714285714,
          107010.28571428571,
          108556.71428571429,
          109785.14285714286,
          110777.28571428571,
          111141.14285714286,
          111036.57142857143,
          110600.35714285714,
          109831.07142857143,
          108828.14285714286,
          107707,
          106473.21428571429,
          104903.28571428571,
          103419.92857142857,
          101920.42857142857,
          100359.5,
          98767.78571428571,
          97146.64285714286,
          95635.78571428571,
          94225.07142857143,
          92894,
          91631.28571428571,
          90413.42857142857,
          89283.07142857143,
          88054.35714285714,
          86796.78571428571,
          85703.85714285714,
          84635.92857142857,
          83573.14285714286,
          82505.35714285714,
          81440.92857142857,
          80398.71428571429,
          79329.14285714286,
          78427.71428571429,
          77628.71428571429,
          76886.85714285714,
          76100.78571428571,
          75240.64285714286,
          74405.28571428571,
          73569.57142857143,
          72728.5,
          71889.85714285714,
          71095.71428571429,
          70297.92857142857,
          69509.21428571429,
          68730.21428571429,
          67958.14285714286,
          67190.5,
          66467.21428571429,
          65702.21428571429,
          64995.142857142855,
          64343,
          63729.857142857145,
          63152.5,
          62657.21428571428,
          62160.142857142855,
          61648.357142857145,
          61197,
          60816.07142857143,
          60446.07142857143,
          60087,
          59813.142857142855,
          59543.07142857143,
          59328.57142857143,
          59154.78571428572,
          59011.42857142857,
          58881,
          58762.28571428572,
          58663.07142857143,
          58655.142857142855,
          58635.28571428572,
          58582.642857142855,
          58475.92857142857,
          58345.857142857145,
          58191.07142857143,
          57999.92857142857,
          57801.357142857145,
          57551.07142857143,
          57240,
          56880.78571428572,
          56486.28571428572,
          56046.5,
          55592.42857142857,
          55106.642857142855,
          54670.78571428572,
          54228.21428571428,
          53795.92857142857,
          53345.142857142855,
          52896,
          52468.57142857143,
          52047.71428571428,
          51630.57142857143,
          51227.5,
          50837.57142857143
         ]
        },
        {
         "line": {
          "color": "red"
         },
         "mode": "lines",
         "name": "7-дневная скользящая средняя",
         "showlegend": true,
         "type": "scatter",
         "x": [
          "2020-03-06",
          "2020-03-07",
          "2020-03-08",
          "2020-03-09",
          "2020-03-10",
          "2020-03-11",
          "2020-03-12",
          "2020-03-13",
          "2020-03-14",
          "2020-03-15",
          "2020-03-16",
          "2020-03-17",
          "2020-03-18",
          "2020-03-19",
          "2020-03-20",
          "2020-03-21",
          "2020-03-22",
          "2020-03-23",
          "2020-03-24",
          "2020-03-25",
          "2020-03-26",
          "2020-03-27",
          "2020-03-28",
          "2020-03-29",
          "2020-03-30",
          "2020-03-31",
          "2020-04-01",
          "2020-04-02",
          "2020-04-03",
          "2020-04-04",
          "2020-04-05",
          "2020-04-06",
          "2020-04-07",
          "2020-04-08",
          "2020-04-09",
          "2020-04-10",
          "2020-04-11",
          "2020-04-12",
          "2020-04-13",
          "2020-04-14",
          "2020-04-15",
          "2020-04-16",
          "2020-04-17",
          "2020-04-18",
          "2020-04-19",
          "2020-04-20",
          "2020-04-21",
          "2020-04-22",
          "2020-04-23",
          "2020-04-24",
          "2020-04-25",
          "2020-04-26",
          "2020-04-27",
          "2020-04-28",
          "2020-04-29",
          "2020-04-30",
          "2020-05-01",
          "2020-05-02",
          "2020-05-03",
          "2020-05-04",
          "2020-05-05",
          "2020-05-06",
          "2020-05-07",
          "2020-05-08",
          "2020-05-09",
          "2020-05-10",
          "2020-05-11",
          "2020-05-12",
          "2020-05-13",
          "2020-05-14",
          "2020-05-15",
          "2020-05-16",
          "2020-05-17",
          "2020-05-18",
          "2020-05-19",
          "2020-05-20",
          "2020-05-21",
          "2020-05-22",
          "2020-05-23",
          "2020-05-24",
          "2020-05-25",
          "2020-05-26",
          "2020-05-27",
          "2020-05-28",
          "2020-05-29",
          "2020-05-30",
          "2020-05-31",
          "2020-06-01",
          "2020-06-02",
          "2020-06-03",
          "2020-06-04",
          "2020-06-05",
          "2020-06-06",
          "2020-06-07",
          "2020-06-08",
          "2020-06-09",
          "2020-06-10",
          "2020-06-11",
          "2020-06-12",
          "2020-06-13",
          "2020-06-14",
          "2020-06-15",
          "2020-06-16",
          "2020-06-17",
          "2020-06-18",
          "2020-06-19",
          "2020-06-20",
          "2020-06-21",
          "2020-06-22",
          "2020-06-23",
          "2020-06-24",
          "2020-06-25",
          "2020-06-26",
          "2020-06-27",
          "2020-06-28",
          "2020-06-29",
          "2020-06-30",
          "2020-07-01",
          "2020-07-02",
          "2020-07-03",
          "2020-07-04",
          "2020-07-05",
          "2020-07-06",
          "2020-07-07",
          "2020-07-08",
          "2020-07-09",
          "2020-07-10",
          "2020-07-11",
          "2020-07-12",
          "2020-07-13",
          "2020-07-14",
          "2020-07-15",
          "2020-07-16",
          "2020-07-17",
          "2020-07-18",
          "2020-07-19",
          "2020-07-20",
          "2020-07-21",
          "2020-07-22",
          "2020-07-23",
          "2020-07-24",
          "2020-07-25",
          "2020-07-26",
          "2020-07-27",
          "2020-07-28",
          "2020-07-29",
          "2020-07-30",
          "2020-07-31",
          "2020-08-01",
          "2020-08-02",
          "2020-08-03",
          "2020-08-04",
          "2020-08-05",
          "2020-08-06",
          "2020-08-07",
          "2020-08-08",
          "2020-08-09",
          "2020-08-10",
          "2020-08-11",
          "2020-08-12",
          "2020-08-13",
          "2020-08-14",
          "2020-08-15",
          "2020-08-16",
          "2020-08-17",
          "2020-08-18",
          "2020-08-19",
          "2020-08-20",
          "2020-08-21",
          "2020-08-22"
         ],
         "y": [
          null,
          null,
          null,
          null,
          null,
          null,
          10.285714285714286,
          13.285714285714286,
          17.571428571428573,
          21.714285714285715,
          28,
          34.142857142857146,
          43.857142857142854,
          54.714285714285715,
          69,
          82.42857142857143,
          103.71428571428571,
          132.42857142857142,
          164.85714285714286,
          209,
          270.7142857142857,
          350.14285714285717,
          445.14285714285717,
          559,
          693.1428571428571,
          871.8571428571429,
          1065.4285714285713,
          1320.7142857142858,
          1614,
          1948.5714285714287,
          2332.285714285714,
          2769,
          3254.1428571428573,
          3795.714285714286,
          4371.571428571428,
          5041.142857142857,
          5778.142857142857,
          6597.142857142857,
          7503.571428571428,
          8498.285714285714,
          9630.42857142857,
          10815,
          12106.285714285714,
          13625.142857142857,
          15480.285714285714,
          17439.428571428572,
          19618.285714285714,
          21902.285714285714,
          24268.714285714286,
          26751,
          29203.714285714286,
          31563.14285714286,
          34003.71428571428,
          36385.71428571428,
          38676.71428571428,
          41075.142857142855,
          43509.28571428572,
          46294,
          49429.28571428572,
          52953.857142857145,
          56898.42857142857,
          61349.71428571428,
          66285.57142857143,
          71490,
          76463,
          81325,
          85739.14285714286,
          89889.28571428571,
          93691.71428571429,
          97056.71428571429,
          100233.42857142857,
          103248.42857142857,
          105955.42857142857,
          108613.42857142857,
          110896.28571428571,
          112378.85714285714,
          113328,
          113787.14285714286,
          113865,
          113614.85714285714,
          112941.14285714286,
          111386,
          109694.28571428571,
          107872.71428571429,
          105875,
          103791.28571428571,
          101799.14285714286,
          100005.28571428571,
          98420.57142857143,
          97145.57142857143,
          95968.14285714286,
          94844,
          93744.28571428571,
          92494.14285714286,
          91266.28571428571,
          90029.57142857143,
          88642.42857142857,
          87294.42857142857,
          85982.85714285714,
          84821.85714285714,
          83614.57142857143,
          82327.28571428571,
          81378.14285714286,
          80629.42857142857,
          79851.85714285714,
          79027.85714285714,
          78060,
          77182.85714285714,
          76331,
          75477.28571428571,
          74628,
          73921.85714285714,
          73173.71428571429,
          72421.28571428571,
          71627.71428571429,
          70808.14285714286,
          69979.71428571429,
          69151.71428571429,
          68269.57142857143,
          67422.14285714286,
          66597.14285714286,
          65832.71428571429,
          65108.142857142855,
          64401.28571428572,
          63782.71428571428,
          63134.857142857145,
          62568.142857142855,
          62088.857142857145,
          61627,
          61196.857142857145,
          60913.142857142855,
          60537.57142857143,
          60161.857142857145,
          59825.857142857145,
          59543.28571428572,
          59265.142857142855,
          58977.142857142855,
          58713.142857142855,
          58548.57142857143,
          58495.28571428572,
          58483.71428571428,
          58479.57142857143,
          58496.857142857145,
          58547.42857142857,
          58613,
          58761.71428571428,
          58775.28571428572,
          58681.57142857143,
          58472.28571428572,
          58194.857142857145,
          57834.71428571428,
          57386.857142857145,
          56841,
          56326.857142857145,
          55798.42857142857,
          55289.28571428572,
          54777.71428571428,
          54258.28571428572,
          53798,
          53372.28571428572,
          53014.71428571428,
          52658,
          52302.57142857143,
          51912.57142857143,
          51533.71428571428,
          51139.142857142855,
          50723.142857142855,
          50246.42857142857,
          49797,
          49372.57142857143
         ]
        }
       ],
       "layout": {
        "annotations": [
         {
          "showarrow": false,
          "text": "",
          "x": 0.5,
          "xref": "paper",
          "y": -0.15,
          "yref": "paper"
         }
        ],
        "barmode": "relative",
        "coloraxis": {
         "colorbar": {
          "title": {
           "text": "Текущие больные"
          }
         },
         "colorscale": [
          [
           0,
           "rgb(254, 245, 244)"
          ],
          [
           0.09090909090909091,
           "rgb(222, 224, 210)"
          ],
          [
           0.18181818181818182,
           "rgb(189, 206, 181)"
          ],
          [
           0.2727272727272727,
           "rgb(153, 189, 156)"
          ],
          [
           0.36363636363636365,
           "rgb(110, 173, 138)"
          ],
          [
           0.45454545454545453,
           "rgb(65, 157, 129)"
          ],
          [
           0.5454545454545454,
           "rgb(25, 137, 125)"
          ],
          [
           0.6363636363636364,
           "rgb(18, 116, 117)"
          ],
          [
           0.7272727272727273,
           "rgb(25, 94, 106)"
          ],
          [
           0.8181818181818182,
           "rgb(28, 72, 93)"
          ],
          [
           0.9090909090909091,
           "rgb(25, 51, 80)"
          ],
          [
           1,
           "rgb(20, 29, 67)"
          ]
         ]
        },
        "height": 600,
        "legend": {
         "tracegroupgap": 0,
         "x": 0.05,
         "y": 0.98
        },
        "template": {
         "data": {
          "pie": [
           {
            "automargin": true,
            "type": "pie"
           }
          ]
         },
         "layout": {
          "xaxis": {
           "showgrid": true,
           "title": {
            "standoff": 15
           }
          },
          "yaxis": {
           "showgrid": true,
           "title": {
            "standoff": 15
           }
          }
         }
        },
        "title": {
         "text": "Москва: график количества текущих больных COVID-19 по датам",
         "x": 0.5,
         "xanchor": "center",
         "y": 0.9,
         "yanchor": "bottom"
        },
        "width": 990,
        "xaxis": {
         "anchor": "y",
         "domain": [
          0,
          1
         ],
         "title": {
          "text": "Текущие больные = количество выявленных - количество выздоровевших - количество умерших<br>Данные: Яндекс"
         }
        },
        "yaxis": {
         "anchor": "x",
         "domain": [
          0,
          1
         ],
         "title": {
          "text": " "
         }
        }
       }
      }
     },
     "metadata": {}
    }
   ],
   "source": [
    "mask = X.Region ==my_region\n",
    "#mask = (X.Date>'2020-05-01')&(X.Region.isin(regions_towatch))\n",
    "\n",
    "fig = px.bar(X[mask], x='Date', y=\"Remaining_ill\",color ='Remaining_ill',\n",
    "             title=f'{my_region}: '+'график количества текущих больных COVID-19 по датам',\n",
    "              color_continuous_scale= 'tempo',text = 'Remaining_ill',\n",
    "            labels = {'Day_confirmed' : \"Новые заболевшие\",'Remaining_ill':'Текущие больные'})\n",
    "fig.add_trace(\n",
    "    go.Scatter(\n",
    "        name='14-дневная скользящая средняя',\n",
    "        x=X[mask].Date,\n",
    "        y=X[mask]['MA14_remaining_ill'],\n",
    "        mode=\"lines\",\n",
    "        \n",
    "        line=go.scatter.Line(color=\"green\"),\n",
    "        showlegend=True)\n",
    ")\n",
    "\n",
    "fig.add_trace(\n",
    "    go.Scatter(\n",
    "        name = '7-дневная скользящая средняя',\n",
    "        x=X[mask].Date,\n",
    "        y=X[mask]['MA7_remaining_ill'],\n",
    "        mode=\"lines\",\n",
    "        \n",
    "        line=go.scatter.Line(color=\"red\"),\n",
    "        showlegend=True)\n",
    ")\n",
    "fig.update_layout(\n",
    "    annotations=[\n",
    "#         dict(\n",
    "#             x='2020-04-13',\n",
    "#             y=10594,\n",
    "#             xref=\"x\",\n",
    "#             yref=\"y\",\n",
    "#             text=\"Введение<br>пропускной<br>системы в Москве\",\n",
    "#             showarrow=True,\n",
    "#             arrowhead=2,\n",
    "#             ax=0,\n",
    "#             ay=-60),\n",
    "#         dict(\n",
    "#             x='2020-06-09',\n",
    "#             y=85824,\n",
    "#             xref=\"x\",\n",
    "#             yref=\"y\",\n",
    "#             text=\"Отмена<br>пропускной<br>системы в Москве\",\n",
    "#             showarrow=True,\n",
    "#             arrowhead=2,\n",
    "#             ax=0,\n",
    "#             ay=-60),\n",
    "        \n",
    "        dict(x=0.5,y=-0.15,\n",
    "            showarrow=False,\n",
    "            text=\"\",\n",
    "            xref=\"paper\",\n",
    "            yref=\"paper\")],\n",
    "                  title_x = 0.5,\n",
    "                  title_y= 0.9,\n",
    "                  title_xanchor = \"center\",\n",
    "                  title_yanchor = \"bottom\", \n",
    "                  legend_x = 0.05,legend_y = 0.98,\n",
    "                  width = 990, height = 600,template = 'gridon',\n",
    "    \n",
    "    \n",
    "                  xaxis_title='Текущие больные = количество выявленных - количество выздоровевших - количество умерших'+\n",
    "                                '<br>Данные: Яндекс',\n",
    "    yaxis_title = ' '\n",
    ")\n",
    "\n",
    "\n",
    "fig.show()\n",
    "\n",
    "\n",
    "\n"
   ]
  },
  {
   "cell_type": "code",
   "execution_count": 18,
   "metadata": {},
   "outputs": [
    {
     "output_type": "display_data",
     "data": {
      "application/vnd.plotly.v1+json": {
       "config": {
        "plotlyServerURL": "https://plot.ly"
       },
       "data": [
        {
         "marker": {
          "color": [
           0,
           0,
           0,
           3,
           3,
           6,
           4,
           5,
           9,
           -1,
           18,
           2,
           31,
           12,
           29,
           3,
           54,
           70,
           28,
           113,
           135,
           153,
           112,
           186,
           212,
           340,
           217,
           567,
           419,
           401,
           530,
           583,
           679,
           612,
           807,
           1075,
           873,
           1104,
           1195,
           1297,
           1574,
           1174,
           1822,
           2466,
           3458,
           1923,
           2835,
           2310,
           1751,
           2633,
           2259,
           2805,
           2491,
           2425,
           1673,
           2503,
           2883,
           4713,
           5259,
           5216,
           5365,
           5220,
           5895,
           4763,
           3093,
           4482,
           2081,
           3517,
           2786,
           2833,
           3445,
           1961,
           2326,
           1738,
           891,
           -2816,
           -901,
           15,
           -708,
           30,
           -1227,
           -5279,
           -3772,
           -1810,
           -1218,
           -1310,
           671,
           161,
           -3815,
           -1604,
           -1127,
           -845,
           -1139,
           -382,
           317,
           -3877,
           -2657,
           -853,
           -590,
           -85,
           -706,
           -243,
           -1510,
           -1254,
           -1055,
           -915,
           -1092,
           -71,
           -66,
           -1523,
           -1223,
           -53,
           -1209,
           -1122,
           -359,
           -248,
           -1585,
           -1220,
           -432,
           -966,
           -965,
           65,
           31,
           -1461,
           -602,
           -637,
           -398,
           -353,
           187,
           253,
           -436,
           -1245,
           -638,
           -120,
           21,
           218,
           184,
           -268,
           -549,
           141,
           172,
           73,
           368,
           417,
           -163,
           33,
           -805,
           -579,
           -736,
           -109,
           -162,
           -777,
           -653,
           -583,
           -679,
           -601,
           -126,
           -217,
           -363,
           -411,
           -106,
           -673,
           -592,
           -368,
           -139,
           -473,
           -561,
           -531,
           -482,
           -417
          ],
          "colorbar": {
           "tickmode": "auto",
           "title": {
            "side": "top",
            "text": "Изменение"
           }
          },
          "colorscale": [
           [
            0,
            "rgb(0, 147, 146)"
           ],
           [
            0.16666666666666666,
            "rgb(57, 177, 133)"
           ],
           [
            0.3333333333333333,
            "rgb(156, 203, 134)"
           ],
           [
            0.5,
            "rgb(233, 226, 156)"
           ],
           [
            0.6666666666666666,
            "rgb(238, 180, 121)"
           ],
           [
            0.8333333333333334,
            "rgb(232, 132, 113)"
           ],
           [
            1,
            "rgb(207, 89, 126)"
           ]
          ]
         },
         "text": [
          0,
          0,
          0,
          3,
          3,
          6,
          4,
          5,
          9,
          -1,
          18,
          2,
          31,
          12,
          29,
          3,
          54,
          70,
          28,
          113,
          135,
          153,
          112,
          186,
          212,
          340,
          217,
          567,
          419,
          401,
          530,
          583,
          679,
          612,
          807,
          1075,
          873,
          1104,
          1195,
          1297,
          1574,
          1174,
          1822,
          2466,
          3458,
          1923,
          2835,
          2310,
          1751,
          2633,
          2259,
          2805,
          2491,
          2425,
          1673,
          2503,
          2883,
          4713,
          5259,
          5216,
          5365,
          5220,
          5895,
          4763,
          3093,
          4482,
          2081,
          3517,
          2786,
          2833,
          3445,
          1961,
          2326,
          1738,
          891,
          -2816,
          -901,
          15,
          -708,
          30,
          -1227,
          -5279,
          -3772,
          -1810,
          -1218,
          -1310,
          671,
          161,
          -3815,
          -1604,
          -1127,
          -845,
          -1139,
          -382,
          317,
          -3877,
          -2657,
          -853,
          -590,
          -85,
          -706,
          -243,
          -1510,
          -1254,
          -1055,
          -915,
          -1092,
          -71,
          -66,
          -1523,
          -1223,
          -53,
          -1209,
          -1122,
          -359,
          -248,
          -1585,
          -1220,
          -432,
          -966,
          -965,
          65,
          31,
          -1461,
          -602,
          -637,
          -398,
          -353,
          187,
          253,
          -436,
          -1245,
          -638,
          -120,
          21,
          218,
          184,
          -268,
          -549,
          141,
          172,
          73,
          368,
          417,
          -163,
          33,
          -805,
          -579,
          -736,
          -109,
          -162,
          -777,
          -653,
          -583,
          -679,
          -601,
          -126,
          -217,
          -363,
          -411,
          -106,
          -673,
          -592,
          -368,
          -139,
          -473,
          -561,
          -531,
          -482,
          -417
         ],
         "textposition": "inside",
         "type": "bar",
         "x": [
          "2020-03-06T00:00:00",
          "2020-03-07T00:00:00",
          "2020-03-08T00:00:00",
          "2020-03-09T00:00:00",
          "2020-03-10T00:00:00",
          "2020-03-11T00:00:00",
          "2020-03-12T00:00:00",
          "2020-03-13T00:00:00",
          "2020-03-14T00:00:00",
          "2020-03-15T00:00:00",
          "2020-03-16T00:00:00",
          "2020-03-17T00:00:00",
          "2020-03-18T00:00:00",
          "2020-03-19T00:00:00",
          "2020-03-20T00:00:00",
          "2020-03-21T00:00:00",
          "2020-03-22T00:00:00",
          "2020-03-23T00:00:00",
          "2020-03-24T00:00:00",
          "2020-03-25T00:00:00",
          "2020-03-26T00:00:00",
          "2020-03-27T00:00:00",
          "2020-03-28T00:00:00",
          "2020-03-29T00:00:00",
          "2020-03-30T00:00:00",
          "2020-03-31T00:00:00",
          "2020-04-01T00:00:00",
          "2020-04-02T00:00:00",
          "2020-04-03T00:00:00",
          "2020-04-04T00:00:00",
          "2020-04-05T00:00:00",
          "2020-04-06T00:00:00",
          "2020-04-07T00:00:00",
          "2020-04-08T00:00:00",
          "2020-04-09T00:00:00",
          "2020-04-10T00:00:00",
          "2020-04-11T00:00:00",
          "2020-04-12T00:00:00",
          "2020-04-13T00:00:00",
          "2020-04-14T00:00:00",
          "2020-04-15T00:00:00",
          "2020-04-16T00:00:00",
          "2020-04-17T00:00:00",
          "2020-04-18T00:00:00",
          "2020-04-19T00:00:00",
          "2020-04-20T00:00:00",
          "2020-04-21T00:00:00",
          "2020-04-22T00:00:00",
          "2020-04-23T00:00:00",
          "2020-04-24T00:00:00",
          "2020-04-25T00:00:00",
          "2020-04-26T00:00:00",
          "2020-04-27T00:00:00",
          "2020-04-28T00:00:00",
          "2020-04-29T00:00:00",
          "2020-04-30T00:00:00",
          "2020-05-01T00:00:00",
          "2020-05-02T00:00:00",
          "2020-05-03T00:00:00",
          "2020-05-04T00:00:00",
          "2020-05-05T00:00:00",
          "2020-05-06T00:00:00",
          "2020-05-07T00:00:00",
          "2020-05-08T00:00:00",
          "2020-05-09T00:00:00",
          "2020-05-10T00:00:00",
          "2020-05-11T00:00:00",
          "2020-05-12T00:00:00",
          "2020-05-13T00:00:00",
          "2020-05-14T00:00:00",
          "2020-05-15T00:00:00",
          "2020-05-16T00:00:00",
          "2020-05-17T00:00:00",
          "2020-05-18T00:00:00",
          "2020-05-19T00:00:00",
          "2020-05-20T00:00:00",
          "2020-05-21T00:00:00",
          "2020-05-22T00:00:00",
          "2020-05-23T00:00:00",
          "2020-05-24T00:00:00",
          "2020-05-25T00:00:00",
          "2020-05-26T00:00:00",
          "2020-05-27T00:00:00",
          "2020-05-28T00:00:00",
          "2020-05-29T00:00:00",
          "2020-05-30T00:00:00",
          "2020-05-31T00:00:00",
          "2020-06-01T00:00:00",
          "2020-06-02T00:00:00",
          "2020-06-03T00:00:00",
          "2020-06-04T00:00:00",
          "2020-06-05T00:00:00",
          "2020-06-06T00:00:00",
          "2020-06-07T00:00:00",
          "2020-06-08T00:00:00",
          "2020-06-09T00:00:00",
          "2020-06-10T00:00:00",
          "2020-06-11T00:00:00",
          "2020-06-12T00:00:00",
          "2020-06-13T00:00:00",
          "2020-06-14T00:00:00",
          "2020-06-15T00:00:00",
          "2020-06-16T00:00:00",
          "2020-06-17T00:00:00",
          "2020-06-18T00:00:00",
          "2020-06-19T00:00:00",
          "2020-06-20T00:00:00",
          "2020-06-21T00:00:00",
          "2020-06-22T00:00:00",
          "2020-06-23T00:00:00",
          "2020-06-24T00:00:00",
          "2020-06-25T00:00:00",
          "2020-06-26T00:00:00",
          "2020-06-27T00:00:00",
          "2020-06-28T00:00:00",
          "2020-06-29T00:00:00",
          "2020-06-30T00:00:00",
          "2020-07-01T00:00:00",
          "2020-07-02T00:00:00",
          "2020-07-03T00:00:00",
          "2020-07-04T00:00:00",
          "2020-07-05T00:00:00",
          "2020-07-06T00:00:00",
          "2020-07-07T00:00:00",
          "2020-07-08T00:00:00",
          "2020-07-09T00:00:00",
          "2020-07-10T00:00:00",
          "2020-07-11T00:00:00",
          "2020-07-12T00:00:00",
          "2020-07-13T00:00:00",
          "2020-07-14T00:00:00",
          "2020-07-15T00:00:00",
          "2020-07-16T00:00:00",
          "2020-07-17T00:00:00",
          "2020-07-18T00:00:00",
          "2020-07-19T00:00:00",
          "2020-07-20T00:00:00",
          "2020-07-21T00:00:00",
          "2020-07-22T00:00:00",
          "2020-07-23T00:00:00",
          "2020-07-24T00:00:00",
          "2020-07-25T00:00:00",
          "2020-07-26T00:00:00",
          "2020-07-27T00:00:00",
          "2020-07-28T00:00:00",
          "2020-07-29T00:00:00",
          "2020-07-30T00:00:00",
          "2020-07-31T00:00:00",
          "2020-08-01T00:00:00",
          "2020-08-02T00:00:00",
          "2020-08-03T00:00:00",
          "2020-08-04T00:00:00",
          "2020-08-05T00:00:00",
          "2020-08-06T00:00:00",
          "2020-08-07T00:00:00",
          "2020-08-08T00:00:00",
          "2020-08-09T00:00:00",
          "2020-08-10T00:00:00",
          "2020-08-11T00:00:00",
          "2020-08-12T00:00:00",
          "2020-08-13T00:00:00",
          "2020-08-14T00:00:00",
          "2020-08-15T00:00:00",
          "2020-08-16T00:00:00",
          "2020-08-17T00:00:00",
          "2020-08-18T00:00:00",
          "2020-08-19T00:00:00",
          "2020-08-20T00:00:00",
          "2020-08-21T00:00:00",
          "2020-08-22T00:00:00"
         ],
         "y": [
          0,
          0,
          0,
          3,
          3,
          6,
          4,
          5,
          9,
          -1,
          18,
          2,
          31,
          12,
          29,
          3,
          54,
          70,
          28,
          113,
          135,
          153,
          112,
          186,
          212,
          340,
          217,
          567,
          419,
          401,
          530,
          583,
          679,
          612,
          807,
          1075,
          873,
          1104,
          1195,
          1297,
          1574,
          1174,
          1822,
          2466,
          3458,
          1923,
          2835,
          2310,
          1751,
          2633,
          2259,
          2805,
          2491,
          2425,
          1673,
          2503,
          2883,
          4713,
          5259,
          5216,
          5365,
          5220,
          5895,
          4763,
          3093,
          4482,
          2081,
          3517,
          2786,
          2833,
          3445,
          1961,
          2326,
          1738,
          891,
          -2816,
          -901,
          15,
          -708,
          30,
          -1227,
          -5279,
          -3772,
          -1810,
          -1218,
          -1310,
          671,
          161,
          -3815,
          -1604,
          -1127,
          -845,
          -1139,
          -382,
          317,
          -3877,
          -2657,
          -853,
          -590,
          -85,
          -706,
          -243,
          -1510,
          -1254,
          -1055,
          -915,
          -1092,
          -71,
          -66,
          -1523,
          -1223,
          -53,
          -1209,
          -1122,
          -359,
          -248,
          -1585,
          -1220,
          -432,
          -966,
          -965,
          65,
          31,
          -1461,
          -602,
          -637,
          -398,
          -353,
          187,
          253,
          -436,
          -1245,
          -638,
          -120,
          21,
          218,
          184,
          -268,
          -549,
          141,
          172,
          73,
          368,
          417,
          -163,
          33,
          -805,
          -579,
          -736,
          -109,
          -162,
          -777,
          -653,
          -583,
          -679,
          -601,
          -126,
          -217,
          -363,
          -411,
          -106,
          -673,
          -592,
          -368,
          -139,
          -473,
          -561,
          -531,
          -482,
          -417
         ]
        }
       ],
       "layout": {
        "annotations": [
         {
          "showarrow": false,
          "text": "",
          "x": 0.5,
          "xref": "paper",
          "y": -0.15,
          "yref": "paper"
         }
        ],
        "height": 600,
        "legend": {
         "x": 0.05,
         "y": 0.98
        },
        "template": {
         "data": {
          "pie": [
           {
            "automargin": true,
            "type": "pie"
           }
          ]
         },
         "layout": {
          "xaxis": {
           "showgrid": true,
           "title": {
            "standoff": 15
           }
          },
          "yaxis": {
           "showgrid": true,
           "title": {
            "standoff": 15
           }
          }
         }
        },
        "title": {
         "text": "Москва: динамика текущих больных COVID-19 по дням<br>(изменение относительно предыдущего дня)",
         "x": 0.5,
         "xanchor": "center",
         "y": 0.9,
         "yanchor": "bottom"
        },
        "width": 990,
        "xaxis": {
         "title": {
          "text": "Текущие больные = количество выявленных - количество выздоровевших - количество умерших<br>Данные : Яндекс"
         }
        },
        "yaxis": {
         "title": {
          "text": " "
         }
        }
       }
      }
     },
     "metadata": {}
    }
   ],
   "source": [
    "mask = X.Region ==my_region\n",
    "#mask = (X.Date>'2020-05-01')&(X.Region==my_region)\n",
    "Y = X[mask]\n",
    "\n",
    "#Y['base'] = Y['Change_dayconf']*Y['Change_dayconf'].apply(lambda d:0 if d>0 else 1)\n",
    "Y['Date']= pd.to_datetime(Y.Date)\n",
    "fig = go.Figure()\n",
    "fig.add_trace(\n",
    "              go.Bar(x = Y.Date,y=Y.Change_remill,text = Y['Change_remill'],textposition = 'inside',\n",
    "                \n",
    "                #marker_color=Y['Change_remill'].apply(lambda d:'crimson' if d>0 else 'green'),\n",
    "                marker_color = Y['Change_remill'],marker_colorscale = 'Temps',marker_colorbar ={'tickmode':'auto',\n",
    "                                    'title':{'text':'Изменение','side':'top'}})     \n",
    "                )\n",
    "fig.update_layout(\n",
    "    annotations=[\n",
    "#         dict(\n",
    "#             x='2020-04-13',\n",
    "#             y=10594,\n",
    "#             xref=\"x\",\n",
    "#             yref=\"y\",\n",
    "#             text=\"Введение<br>пропускной<br>системы в Москве\",\n",
    "#             showarrow=True,\n",
    "#             arrowhead=2,\n",
    "#             ax=0,\n",
    "#             ay=-60),\n",
    "#         dict(\n",
    "#             x='2020-06-09',\n",
    "#             y=-3877,\n",
    "#             xref=\"x\",\n",
    "#             yref=\"y\",\n",
    "#             text=\"Отмена<br>пропускной<br>системы в Москве\",\n",
    "#             showarrow=True,\n",
    "#             arrowhead=2,\n",
    "#             ax=-20,\n",
    "#             ay=40),\n",
    "#         dict(\n",
    "#             x='2020-05-20',\n",
    "#             y=-2816,\n",
    "#             xref=\"x\",\n",
    "#             yref=\"y\",\n",
    "#             text=\"20 мая\",\n",
    "#             showarrow=True,\n",
    "#             arrowhead=2,\n",
    "#             ax=-20,\n",
    "#             ay=40),\n",
    "        \n",
    "        dict(x=0.5,y=-0.15,\n",
    "            showarrow=False,\n",
    "            text=\"\",\n",
    "            xref=\"paper\",\n",
    "            yref=\"paper\")],\n",
    "                  title=f'{my_region}: динамика текущих больных COVID-19 по дням<br>(изменение относительно предыдущего дня)',\n",
    "                  title_x = 0.5,\n",
    "                  title_y= 0.9,\n",
    "                  title_xanchor = \"center\",\n",
    "                  title_yanchor = \"bottom\", \n",
    "                  legend_x = 0.05,legend_y = 0.98,\n",
    "                  width = 990, height = 600,template = 'gridon',\n",
    "    \n",
    "    \n",
    "                  xaxis_title='Текущие больные = количество выявленных - количество выздоровевших - количество умерших'+\n",
    "                               '<br>Данные : Яндекс',\n",
    "    yaxis_title = ' '\n",
    ")\n",
    "\n",
    "fig.show()\n"
   ]
  },
  {
   "cell_type": "code",
   "execution_count": 19,
   "metadata": {
    "tags": []
   },
   "outputs": [
    {
     "output_type": "stream",
     "name": "stdout",
     "text": "[[1.051 1.018 1.013 1.002 1.009 1.007 1.    1.01  1.002 1.004 1.005 1.002\n  1.007 1.007 1.007 1.001 0.999 0.999 0.997 1.001 0.999 1.    1.    0.996]\n [0.941 0.97  1.041 1.099 1.128 1.126 1.103 1.07  1.039 1.021 0.98  0.967\n  0.964 0.95  0.968 0.982 0.987 1.005 1.015 0.992 0.99  0.992 0.981 1.025]\n [0.945 0.947 0.967 0.982 0.989 0.981 0.966 0.961 0.959 0.976 0.987 0.987\n  0.98  0.973 0.967 0.972 0.991 0.99  0.988 0.975 0.958 0.955 0.962 0.986]\n [0.928 0.925 0.932 0.949 0.964 0.982 0.985 0.981 0.98  0.977 0.991 0.994\n  0.998 1.013 1.006 1.013 1.021 1.014 1.013 1.006 0.998 0.991 1.026 1.07 ]\n [0.909 0.864 0.892 0.893 0.898 0.909 0.892 0.898 0.9   0.927 0.956 0.972\n  0.977 0.967 0.932 0.903 0.904 0.894 0.892 0.919 0.916 0.923 0.927 0.888]\n [0.98  0.962 0.929 0.896 0.893 0.889 0.9   0.895 0.878 0.861 0.854 0.867\n  0.897 0.943 0.939 0.955 0.94  0.911 0.894 0.864 0.872 0.871 0.928 0.983]]\n['Москва', 'Московская обл.', 'Санкт-Петербург', 'Свердловская обл.', 'Челябинская обл.', 'Россия']\n"
    }
   ],
   "source": [
    "mask = (X.Date>=datetime.date(2020,7,30))&(X.Region.isin(regions_towatch))\n",
    "\n",
    "def my_round(k):\n",
    "    return round(k,3)\n",
    "\n",
    "# #mask = (X.Date>='2020-06-04')\n",
    "\n",
    "Z = X[mask].groupby(['Region','Date']).Rt.sum().apply(my_round).unstack().reset_index()\n",
    "Z.dropna(inplace=True)\n",
    "d = Z.drop('Region',axis = 1).values\n",
    "\n",
    "# my_map= {'Москва':'2.Москва','Московская обл.':'3.Московская обл.','Нижегородская обл.':'5.Нижегородская обл.',\n",
    "#                     'Россия':'1.Россия', 'Санкт-Петербург':'4.Санкт-Петербург'}\n",
    "# Z.Region = Z.Region.map(my_map)\n",
    "\n",
    "print(d)\n",
    "Z.head(10)\n",
    "print(regions_towatch)"
   ]
  },
  {
   "cell_type": "code",
   "execution_count": 20,
   "metadata": {
    "tags": []
   },
   "outputs": [
    {
     "output_type": "stream",
     "name": "stdout",
     "text": "[datetime.date(2020, 7, 30), datetime.date(2020, 7, 31), datetime.date(2020, 8, 1), datetime.date(2020, 8, 2), datetime.date(2020, 8, 3), datetime.date(2020, 8, 4), datetime.date(2020, 8, 5), datetime.date(2020, 8, 6), datetime.date(2020, 8, 7), datetime.date(2020, 8, 8), datetime.date(2020, 8, 9), datetime.date(2020, 8, 10), datetime.date(2020, 8, 11), datetime.date(2020, 8, 12), datetime.date(2020, 8, 13), datetime.date(2020, 8, 14), datetime.date(2020, 8, 15), datetime.date(2020, 8, 16), datetime.date(2020, 8, 17), datetime.date(2020, 8, 18), datetime.date(2020, 8, 19), datetime.date(2020, 8, 20), datetime.date(2020, 8, 21), datetime.date(2020, 8, 22)]\n----------------------------------------\n['30.7.2020', '31.7.2020', '1.8.2020', '2.8.2020', '3.8.2020', '4.8.2020', '5.8.2020', '6.8.2020', '7.8.2020', '8.8.2020', '9.8.2020', '10.8.2020', '11.8.2020', '12.8.2020', '13.8.2020', '14.8.2020', '15.8.2020', '16.8.2020', '17.8.2020', '18.8.2020', '19.8.2020', '20.8.2020', '21.8.2020', '22.8.2020']\n"
    }
   ],
   "source": [
    "x1=list(Z.columns[1:])\n",
    "x2=[]\n",
    "for i in x1:\n",
    "    x2.append(str(i.day)+'.'+str(i.month)+\".\"+str(i.year))\n",
    "    \n",
    "y=list(Z.Region)\n",
    "print(list(x1))\n",
    "print('-'*40)\n",
    "print(x2)"
   ]
  },
  {
   "cell_type": "code",
   "execution_count": 21,
   "metadata": {},
   "outputs": [
    {
     "output_type": "display_data",
     "data": {
      "application/vnd.plotly.v1+json": {
       "config": {
        "plotlyServerURL": "https://plot.ly"
       },
       "data": [
        {
         "colorscale": [
          [
           0,
           "rgb(0, 147, 146)"
          ],
          [
           0.16666666666666666,
           "rgb(57, 177, 133)"
          ],
          [
           0.3333333333333333,
           "rgb(156, 203, 134)"
          ],
          [
           0.5,
           "rgb(233, 226, 156)"
          ],
          [
           0.6666666666666666,
           "rgb(238, 180, 121)"
          ],
          [
           0.8333333333333334,
           "rgb(232, 132, 113)"
          ],
          [
           1,
           "rgb(207, 89, 126)"
          ]
         ],
         "reversescale": false,
         "showscale": false,
         "type": "heatmap",
         "x": [
          "30.7.2020",
          "31.7.2020",
          "1.8.2020",
          "2.8.2020",
          "3.8.2020",
          "4.8.2020",
          "5.8.2020",
          "6.8.2020",
          "7.8.2020",
          "8.8.2020",
          "9.8.2020",
          "10.8.2020",
          "11.8.2020",
          "12.8.2020",
          "13.8.2020",
          "14.8.2020",
          "15.8.2020",
          "16.8.2020",
          "17.8.2020",
          "18.8.2020",
          "19.8.2020",
          "20.8.2020",
          "21.8.2020",
          "22.8.2020"
         ],
         "y": [
          "Москва",
          "Московская обл.",
          "Россия",
          "Санкт-Петербург",
          "Свердловская обл.",
          "Челябинская обл."
         ],
         "z": [
          [
           1.051,
           1.018,
           1.013,
           1.002,
           1.009,
           1.007,
           1,
           1.01,
           1.002,
           1.004,
           1.005,
           1.002,
           1.007,
           1.007,
           1.007,
           1.001,
           0.999,
           0.999,
           0.997,
           1.001,
           0.999,
           1,
           1,
           0.996
          ],
          [
           0.941,
           0.97,
           1.041,
           1.099,
           1.128,
           1.126,
           1.103,
           1.07,
           1.039,
           1.021,
           0.98,
           0.967,
           0.964,
           0.95,
           0.968,
           0.982,
           0.987,
           1.005,
           1.015,
           0.992,
           0.99,
           0.992,
           0.981,
           1.025
          ],
          [
           0.945,
           0.947,
           0.967,
           0.982,
           0.989,
           0.981,
           0.966,
           0.961,
           0.959,
           0.976,
           0.987,
           0.987,
           0.98,
           0.973,
           0.967,
           0.972,
           0.991,
           0.99,
           0.988,
           0.975,
           0.958,
           0.955,
           0.962,
           0.986
          ],
          [
           0.928,
           0.925,
           0.932,
           0.949,
           0.964,
           0.982,
           0.985,
           0.981,
           0.98,
           0.977,
           0.991,
           0.994,
           0.998,
           1.013,
           1.006,
           1.013,
           1.021,
           1.014,
           1.013,
           1.006,
           0.998,
           0.991,
           1.026,
           1.07
          ],
          [
           0.909,
           0.864,
           0.892,
           0.893,
           0.898,
           0.909,
           0.892,
           0.898,
           0.9,
           0.927,
           0.956,
           0.972,
           0.977,
           0.967,
           0.932,
           0.903,
           0.904,
           0.894,
           0.892,
           0.919,
           0.916,
           0.923,
           0.927,
           0.888
          ],
          [
           0.98,
           0.962,
           0.929,
           0.896,
           0.893,
           0.889,
           0.9,
           0.895,
           0.878,
           0.861,
           0.854,
           0.867,
           0.897,
           0.943,
           0.939,
           0.955,
           0.94,
           0.911,
           0.894,
           0.864,
           0.872,
           0.871,
           0.928,
           0.983
          ]
         ]
        }
       ],
       "layout": {
        "annotations": [
         {
          "font": {
           "color": "#FFFFFF"
          },
          "showarrow": false,
          "text": "1.051",
          "x": "30.7.2020",
          "xref": "x",
          "y": "Москва",
          "yref": "y"
         },
         {
          "font": {
           "color": "#FFFFFF"
          },
          "showarrow": false,
          "text": "1.018",
          "x": "31.7.2020",
          "xref": "x",
          "y": "Москва",
          "yref": "y"
         },
         {
          "font": {
           "color": "#FFFFFF"
          },
          "showarrow": false,
          "text": "1.013",
          "x": "1.8.2020",
          "xref": "x",
          "y": "Москва",
          "yref": "y"
         },
         {
          "font": {
           "color": "#FFFFFF"
          },
          "showarrow": false,
          "text": "1.002",
          "x": "2.8.2020",
          "xref": "x",
          "y": "Москва",
          "yref": "y"
         },
         {
          "font": {
           "color": "#FFFFFF"
          },
          "showarrow": false,
          "text": "1.009",
          "x": "3.8.2020",
          "xref": "x",
          "y": "Москва",
          "yref": "y"
         },
         {
          "font": {
           "color": "#FFFFFF"
          },
          "showarrow": false,
          "text": "1.007",
          "x": "4.8.2020",
          "xref": "x",
          "y": "Москва",
          "yref": "y"
         },
         {
          "font": {
           "color": "#FFFFFF"
          },
          "showarrow": false,
          "text": "1.0",
          "x": "5.8.2020",
          "xref": "x",
          "y": "Москва",
          "yref": "y"
         },
         {
          "font": {
           "color": "#FFFFFF"
          },
          "showarrow": false,
          "text": "1.01",
          "x": "6.8.2020",
          "xref": "x",
          "y": "Москва",
          "yref": "y"
         },
         {
          "font": {
           "color": "#FFFFFF"
          },
          "showarrow": false,
          "text": "1.002",
          "x": "7.8.2020",
          "xref": "x",
          "y": "Москва",
          "yref": "y"
         },
         {
          "font": {
           "color": "#FFFFFF"
          },
          "showarrow": false,
          "text": "1.004",
          "x": "8.8.2020",
          "xref": "x",
          "y": "Москва",
          "yref": "y"
         },
         {
          "font": {
           "color": "#FFFFFF"
          },
          "showarrow": false,
          "text": "1.005",
          "x": "9.8.2020",
          "xref": "x",
          "y": "Москва",
          "yref": "y"
         },
         {
          "font": {
           "color": "#FFFFFF"
          },
          "showarrow": false,
          "text": "1.002",
          "x": "10.8.2020",
          "xref": "x",
          "y": "Москва",
          "yref": "y"
         },
         {
          "font": {
           "color": "#FFFFFF"
          },
          "showarrow": false,
          "text": "1.007",
          "x": "11.8.2020",
          "xref": "x",
          "y": "Москва",
          "yref": "y"
         },
         {
          "font": {
           "color": "#FFFFFF"
          },
          "showarrow": false,
          "text": "1.007",
          "x": "12.8.2020",
          "xref": "x",
          "y": "Москва",
          "yref": "y"
         },
         {
          "font": {
           "color": "#FFFFFF"
          },
          "showarrow": false,
          "text": "1.007",
          "x": "13.8.2020",
          "xref": "x",
          "y": "Москва",
          "yref": "y"
         },
         {
          "font": {
           "color": "#FFFFFF"
          },
          "showarrow": false,
          "text": "1.001",
          "x": "14.8.2020",
          "xref": "x",
          "y": "Москва",
          "yref": "y"
         },
         {
          "font": {
           "color": "#FFFFFF"
          },
          "showarrow": false,
          "text": "0.999",
          "x": "15.8.2020",
          "xref": "x",
          "y": "Москва",
          "yref": "y"
         },
         {
          "font": {
           "color": "#FFFFFF"
          },
          "showarrow": false,
          "text": "0.999",
          "x": "16.8.2020",
          "xref": "x",
          "y": "Москва",
          "yref": "y"
         },
         {
          "font": {
           "color": "#FFFFFF"
          },
          "showarrow": false,
          "text": "0.997",
          "x": "17.8.2020",
          "xref": "x",
          "y": "Москва",
          "yref": "y"
         },
         {
          "font": {
           "color": "#FFFFFF"
          },
          "showarrow": false,
          "text": "1.001",
          "x": "18.8.2020",
          "xref": "x",
          "y": "Москва",
          "yref": "y"
         },
         {
          "font": {
           "color": "#FFFFFF"
          },
          "showarrow": false,
          "text": "0.999",
          "x": "19.8.2020",
          "xref": "x",
          "y": "Москва",
          "yref": "y"
         },
         {
          "font": {
           "color": "#FFFFFF"
          },
          "showarrow": false,
          "text": "1.0",
          "x": "20.8.2020",
          "xref": "x",
          "y": "Москва",
          "yref": "y"
         },
         {
          "font": {
           "color": "#FFFFFF"
          },
          "showarrow": false,
          "text": "1.0",
          "x": "21.8.2020",
          "xref": "x",
          "y": "Москва",
          "yref": "y"
         },
         {
          "font": {
           "color": "#FFFFFF"
          },
          "showarrow": false,
          "text": "0.996",
          "x": "22.8.2020",
          "xref": "x",
          "y": "Москва",
          "yref": "y"
         },
         {
          "font": {
           "color": "#FFFFFF"
          },
          "showarrow": false,
          "text": "0.941",
          "x": "30.7.2020",
          "xref": "x",
          "y": "Московская обл.",
          "yref": "y"
         },
         {
          "font": {
           "color": "#FFFFFF"
          },
          "showarrow": false,
          "text": "0.97",
          "x": "31.7.2020",
          "xref": "x",
          "y": "Московская обл.",
          "yref": "y"
         },
         {
          "font": {
           "color": "#FFFFFF"
          },
          "showarrow": false,
          "text": "1.041",
          "x": "1.8.2020",
          "xref": "x",
          "y": "Московская обл.",
          "yref": "y"
         },
         {
          "font": {
           "color": "#FFFFFF"
          },
          "showarrow": false,
          "text": "1.099",
          "x": "2.8.2020",
          "xref": "x",
          "y": "Московская обл.",
          "yref": "y"
         },
         {
          "font": {
           "color": "#FFFFFF"
          },
          "showarrow": false,
          "text": "1.128",
          "x": "3.8.2020",
          "xref": "x",
          "y": "Московская обл.",
          "yref": "y"
         },
         {
          "font": {
           "color": "#FFFFFF"
          },
          "showarrow": false,
          "text": "1.126",
          "x": "4.8.2020",
          "xref": "x",
          "y": "Московская обл.",
          "yref": "y"
         },
         {
          "font": {
           "color": "#FFFFFF"
          },
          "showarrow": false,
          "text": "1.103",
          "x": "5.8.2020",
          "xref": "x",
          "y": "Московская обл.",
          "yref": "y"
         },
         {
          "font": {
           "color": "#FFFFFF"
          },
          "showarrow": false,
          "text": "1.07",
          "x": "6.8.2020",
          "xref": "x",
          "y": "Московская обл.",
          "yref": "y"
         },
         {
          "font": {
           "color": "#FFFFFF"
          },
          "showarrow": false,
          "text": "1.039",
          "x": "7.8.2020",
          "xref": "x",
          "y": "Московская обл.",
          "yref": "y"
         },
         {
          "font": {
           "color": "#FFFFFF"
          },
          "showarrow": false,
          "text": "1.021",
          "x": "8.8.2020",
          "xref": "x",
          "y": "Московская обл.",
          "yref": "y"
         },
         {
          "font": {
           "color": "#FFFFFF"
          },
          "showarrow": false,
          "text": "0.98",
          "x": "9.8.2020",
          "xref": "x",
          "y": "Московская обл.",
          "yref": "y"
         },
         {
          "font": {
           "color": "#FFFFFF"
          },
          "showarrow": false,
          "text": "0.967",
          "x": "10.8.2020",
          "xref": "x",
          "y": "Московская обл.",
          "yref": "y"
         },
         {
          "font": {
           "color": "#FFFFFF"
          },
          "showarrow": false,
          "text": "0.964",
          "x": "11.8.2020",
          "xref": "x",
          "y": "Московская обл.",
          "yref": "y"
         },
         {
          "font": {
           "color": "#FFFFFF"
          },
          "showarrow": false,
          "text": "0.95",
          "x": "12.8.2020",
          "xref": "x",
          "y": "Московская обл.",
          "yref": "y"
         },
         {
          "font": {
           "color": "#FFFFFF"
          },
          "showarrow": false,
          "text": "0.968",
          "x": "13.8.2020",
          "xref": "x",
          "y": "Московская обл.",
          "yref": "y"
         },
         {
          "font": {
           "color": "#FFFFFF"
          },
          "showarrow": false,
          "text": "0.982",
          "x": "14.8.2020",
          "xref": "x",
          "y": "Московская обл.",
          "yref": "y"
         },
         {
          "font": {
           "color": "#FFFFFF"
          },
          "showarrow": false,
          "text": "0.987",
          "x": "15.8.2020",
          "xref": "x",
          "y": "Московская обл.",
          "yref": "y"
         },
         {
          "font": {
           "color": "#FFFFFF"
          },
          "showarrow": false,
          "text": "1.005",
          "x": "16.8.2020",
          "xref": "x",
          "y": "Московская обл.",
          "yref": "y"
         },
         {
          "font": {
           "color": "#FFFFFF"
          },
          "showarrow": false,
          "text": "1.015",
          "x": "17.8.2020",
          "xref": "x",
          "y": "Московская обл.",
          "yref": "y"
         },
         {
          "font": {
           "color": "#FFFFFF"
          },
          "showarrow": false,
          "text": "0.992",
          "x": "18.8.2020",
          "xref": "x",
          "y": "Московская обл.",
          "yref": "y"
         },
         {
          "font": {
           "color": "#FFFFFF"
          },
          "showarrow": false,
          "text": "0.99",
          "x": "19.8.2020",
          "xref": "x",
          "y": "Московская обл.",
          "yref": "y"
         },
         {
          "font": {
           "color": "#FFFFFF"
          },
          "showarrow": false,
          "text": "0.992",
          "x": "20.8.2020",
          "xref": "x",
          "y": "Московская обл.",
          "yref": "y"
         },
         {
          "font": {
           "color": "#FFFFFF"
          },
          "showarrow": false,
          "text": "0.981",
          "x": "21.8.2020",
          "xref": "x",
          "y": "Московская обл.",
          "yref": "y"
         },
         {
          "font": {
           "color": "#FFFFFF"
          },
          "showarrow": false,
          "text": "1.025",
          "x": "22.8.2020",
          "xref": "x",
          "y": "Московская обл.",
          "yref": "y"
         },
         {
          "font": {
           "color": "#FFFFFF"
          },
          "showarrow": false,
          "text": "0.945",
          "x": "30.7.2020",
          "xref": "x",
          "y": "Россия",
          "yref": "y"
         },
         {
          "font": {
           "color": "#FFFFFF"
          },
          "showarrow": false,
          "text": "0.947",
          "x": "31.7.2020",
          "xref": "x",
          "y": "Россия",
          "yref": "y"
         },
         {
          "font": {
           "color": "#FFFFFF"
          },
          "showarrow": false,
          "text": "0.967",
          "x": "1.8.2020",
          "xref": "x",
          "y": "Россия",
          "yref": "y"
         },
         {
          "font": {
           "color": "#FFFFFF"
          },
          "showarrow": false,
          "text": "0.982",
          "x": "2.8.2020",
          "xref": "x",
          "y": "Россия",
          "yref": "y"
         },
         {
          "font": {
           "color": "#FFFFFF"
          },
          "showarrow": false,
          "text": "0.989",
          "x": "3.8.2020",
          "xref": "x",
          "y": "Россия",
          "yref": "y"
         },
         {
          "font": {
           "color": "#FFFFFF"
          },
          "showarrow": false,
          "text": "0.981",
          "x": "4.8.2020",
          "xref": "x",
          "y": "Россия",
          "yref": "y"
         },
         {
          "font": {
           "color": "#FFFFFF"
          },
          "showarrow": false,
          "text": "0.966",
          "x": "5.8.2020",
          "xref": "x",
          "y": "Россия",
          "yref": "y"
         },
         {
          "font": {
           "color": "#FFFFFF"
          },
          "showarrow": false,
          "text": "0.961",
          "x": "6.8.2020",
          "xref": "x",
          "y": "Россия",
          "yref": "y"
         },
         {
          "font": {
           "color": "#FFFFFF"
          },
          "showarrow": false,
          "text": "0.959",
          "x": "7.8.2020",
          "xref": "x",
          "y": "Россия",
          "yref": "y"
         },
         {
          "font": {
           "color": "#FFFFFF"
          },
          "showarrow": false,
          "text": "0.976",
          "x": "8.8.2020",
          "xref": "x",
          "y": "Россия",
          "yref": "y"
         },
         {
          "font": {
           "color": "#FFFFFF"
          },
          "showarrow": false,
          "text": "0.987",
          "x": "9.8.2020",
          "xref": "x",
          "y": "Россия",
          "yref": "y"
         },
         {
          "font": {
           "color": "#FFFFFF"
          },
          "showarrow": false,
          "text": "0.987",
          "x": "10.8.2020",
          "xref": "x",
          "y": "Россия",
          "yref": "y"
         },
         {
          "font": {
           "color": "#FFFFFF"
          },
          "showarrow": false,
          "text": "0.98",
          "x": "11.8.2020",
          "xref": "x",
          "y": "Россия",
          "yref": "y"
         },
         {
          "font": {
           "color": "#FFFFFF"
          },
          "showarrow": false,
          "text": "0.973",
          "x": "12.8.2020",
          "xref": "x",
          "y": "Россия",
          "yref": "y"
         },
         {
          "font": {
           "color": "#FFFFFF"
          },
          "showarrow": false,
          "text": "0.967",
          "x": "13.8.2020",
          "xref": "x",
          "y": "Россия",
          "yref": "y"
         },
         {
          "font": {
           "color": "#FFFFFF"
          },
          "showarrow": false,
          "text": "0.972",
          "x": "14.8.2020",
          "xref": "x",
          "y": "Россия",
          "yref": "y"
         },
         {
          "font": {
           "color": "#FFFFFF"
          },
          "showarrow": false,
          "text": "0.991",
          "x": "15.8.2020",
          "xref": "x",
          "y": "Россия",
          "yref": "y"
         },
         {
          "font": {
           "color": "#FFFFFF"
          },
          "showarrow": false,
          "text": "0.99",
          "x": "16.8.2020",
          "xref": "x",
          "y": "Россия",
          "yref": "y"
         },
         {
          "font": {
           "color": "#FFFFFF"
          },
          "showarrow": false,
          "text": "0.988",
          "x": "17.8.2020",
          "xref": "x",
          "y": "Россия",
          "yref": "y"
         },
         {
          "font": {
           "color": "#FFFFFF"
          },
          "showarrow": false,
          "text": "0.975",
          "x": "18.8.2020",
          "xref": "x",
          "y": "Россия",
          "yref": "y"
         },
         {
          "font": {
           "color": "#FFFFFF"
          },
          "showarrow": false,
          "text": "0.958",
          "x": "19.8.2020",
          "xref": "x",
          "y": "Россия",
          "yref": "y"
         },
         {
          "font": {
           "color": "#FFFFFF"
          },
          "showarrow": false,
          "text": "0.955",
          "x": "20.8.2020",
          "xref": "x",
          "y": "Россия",
          "yref": "y"
         },
         {
          "font": {
           "color": "#FFFFFF"
          },
          "showarrow": false,
          "text": "0.962",
          "x": "21.8.2020",
          "xref": "x",
          "y": "Россия",
          "yref": "y"
         },
         {
          "font": {
           "color": "#FFFFFF"
          },
          "showarrow": false,
          "text": "0.986",
          "x": "22.8.2020",
          "xref": "x",
          "y": "Россия",
          "yref": "y"
         },
         {
          "font": {
           "color": "#FFFFFF"
          },
          "showarrow": false,
          "text": "0.928",
          "x": "30.7.2020",
          "xref": "x",
          "y": "Санкт-Петербург",
          "yref": "y"
         },
         {
          "font": {
           "color": "#FFFFFF"
          },
          "showarrow": false,
          "text": "0.925",
          "x": "31.7.2020",
          "xref": "x",
          "y": "Санкт-Петербург",
          "yref": "y"
         },
         {
          "font": {
           "color": "#FFFFFF"
          },
          "showarrow": false,
          "text": "0.932",
          "x": "1.8.2020",
          "xref": "x",
          "y": "Санкт-Петербург",
          "yref": "y"
         },
         {
          "font": {
           "color": "#FFFFFF"
          },
          "showarrow": false,
          "text": "0.949",
          "x": "2.8.2020",
          "xref": "x",
          "y": "Санкт-Петербург",
          "yref": "y"
         },
         {
          "font": {
           "color": "#FFFFFF"
          },
          "showarrow": false,
          "text": "0.964",
          "x": "3.8.2020",
          "xref": "x",
          "y": "Санкт-Петербург",
          "yref": "y"
         },
         {
          "font": {
           "color": "#FFFFFF"
          },
          "showarrow": false,
          "text": "0.982",
          "x": "4.8.2020",
          "xref": "x",
          "y": "Санкт-Петербург",
          "yref": "y"
         },
         {
          "font": {
           "color": "#FFFFFF"
          },
          "showarrow": false,
          "text": "0.985",
          "x": "5.8.2020",
          "xref": "x",
          "y": "Санкт-Петербург",
          "yref": "y"
         },
         {
          "font": {
           "color": "#FFFFFF"
          },
          "showarrow": false,
          "text": "0.981",
          "x": "6.8.2020",
          "xref": "x",
          "y": "Санкт-Петербург",
          "yref": "y"
         },
         {
          "font": {
           "color": "#FFFFFF"
          },
          "showarrow": false,
          "text": "0.98",
          "x": "7.8.2020",
          "xref": "x",
          "y": "Санкт-Петербург",
          "yref": "y"
         },
         {
          "font": {
           "color": "#FFFFFF"
          },
          "showarrow": false,
          "text": "0.977",
          "x": "8.8.2020",
          "xref": "x",
          "y": "Санкт-Петербург",
          "yref": "y"
         },
         {
          "font": {
           "color": "#FFFFFF"
          },
          "showarrow": false,
          "text": "0.991",
          "x": "9.8.2020",
          "xref": "x",
          "y": "Санкт-Петербург",
          "yref": "y"
         },
         {
          "font": {
           "color": "#FFFFFF"
          },
          "showarrow": false,
          "text": "0.994",
          "x": "10.8.2020",
          "xref": "x",
          "y": "Санкт-Петербург",
          "yref": "y"
         },
         {
          "font": {
           "color": "#FFFFFF"
          },
          "showarrow": false,
          "text": "0.998",
          "x": "11.8.2020",
          "xref": "x",
          "y": "Санкт-Петербург",
          "yref": "y"
         },
         {
          "font": {
           "color": "#FFFFFF"
          },
          "showarrow": false,
          "text": "1.013",
          "x": "12.8.2020",
          "xref": "x",
          "y": "Санкт-Петербург",
          "yref": "y"
         },
         {
          "font": {
           "color": "#FFFFFF"
          },
          "showarrow": false,
          "text": "1.006",
          "x": "13.8.2020",
          "xref": "x",
          "y": "Санкт-Петербург",
          "yref": "y"
         },
         {
          "font": {
           "color": "#FFFFFF"
          },
          "showarrow": false,
          "text": "1.013",
          "x": "14.8.2020",
          "xref": "x",
          "y": "Санкт-Петербург",
          "yref": "y"
         },
         {
          "font": {
           "color": "#FFFFFF"
          },
          "showarrow": false,
          "text": "1.021",
          "x": "15.8.2020",
          "xref": "x",
          "y": "Санкт-Петербург",
          "yref": "y"
         },
         {
          "font": {
           "color": "#FFFFFF"
          },
          "showarrow": false,
          "text": "1.014",
          "x": "16.8.2020",
          "xref": "x",
          "y": "Санкт-Петербург",
          "yref": "y"
         },
         {
          "font": {
           "color": "#FFFFFF"
          },
          "showarrow": false,
          "text": "1.013",
          "x": "17.8.2020",
          "xref": "x",
          "y": "Санкт-Петербург",
          "yref": "y"
         },
         {
          "font": {
           "color": "#FFFFFF"
          },
          "showarrow": false,
          "text": "1.006",
          "x": "18.8.2020",
          "xref": "x",
          "y": "Санкт-Петербург",
          "yref": "y"
         },
         {
          "font": {
           "color": "#FFFFFF"
          },
          "showarrow": false,
          "text": "0.998",
          "x": "19.8.2020",
          "xref": "x",
          "y": "Санкт-Петербург",
          "yref": "y"
         },
         {
          "font": {
           "color": "#FFFFFF"
          },
          "showarrow": false,
          "text": "0.991",
          "x": "20.8.2020",
          "xref": "x",
          "y": "Санкт-Петербург",
          "yref": "y"
         },
         {
          "font": {
           "color": "#FFFFFF"
          },
          "showarrow": false,
          "text": "1.026",
          "x": "21.8.2020",
          "xref": "x",
          "y": "Санкт-Петербург",
          "yref": "y"
         },
         {
          "font": {
           "color": "#FFFFFF"
          },
          "showarrow": false,
          "text": "1.07",
          "x": "22.8.2020",
          "xref": "x",
          "y": "Санкт-Петербург",
          "yref": "y"
         },
         {
          "font": {
           "color": "#FFFFFF"
          },
          "showarrow": false,
          "text": "0.909",
          "x": "30.7.2020",
          "xref": "x",
          "y": "Свердловская обл.",
          "yref": "y"
         },
         {
          "font": {
           "color": "#FFFFFF"
          },
          "showarrow": false,
          "text": "0.864",
          "x": "31.7.2020",
          "xref": "x",
          "y": "Свердловская обл.",
          "yref": "y"
         },
         {
          "font": {
           "color": "#FFFFFF"
          },
          "showarrow": false,
          "text": "0.892",
          "x": "1.8.2020",
          "xref": "x",
          "y": "Свердловская обл.",
          "yref": "y"
         },
         {
          "font": {
           "color": "#FFFFFF"
          },
          "showarrow": false,
          "text": "0.893",
          "x": "2.8.2020",
          "xref": "x",
          "y": "Свердловская обл.",
          "yref": "y"
         },
         {
          "font": {
           "color": "#FFFFFF"
          },
          "showarrow": false,
          "text": "0.898",
          "x": "3.8.2020",
          "xref": "x",
          "y": "Свердловская обл.",
          "yref": "y"
         },
         {
          "font": {
           "color": "#FFFFFF"
          },
          "showarrow": false,
          "text": "0.909",
          "x": "4.8.2020",
          "xref": "x",
          "y": "Свердловская обл.",
          "yref": "y"
         },
         {
          "font": {
           "color": "#FFFFFF"
          },
          "showarrow": false,
          "text": "0.892",
          "x": "5.8.2020",
          "xref": "x",
          "y": "Свердловская обл.",
          "yref": "y"
         },
         {
          "font": {
           "color": "#FFFFFF"
          },
          "showarrow": false,
          "text": "0.898",
          "x": "6.8.2020",
          "xref": "x",
          "y": "Свердловская обл.",
          "yref": "y"
         },
         {
          "font": {
           "color": "#FFFFFF"
          },
          "showarrow": false,
          "text": "0.9",
          "x": "7.8.2020",
          "xref": "x",
          "y": "Свердловская обл.",
          "yref": "y"
         },
         {
          "font": {
           "color": "#FFFFFF"
          },
          "showarrow": false,
          "text": "0.927",
          "x": "8.8.2020",
          "xref": "x",
          "y": "Свердловская обл.",
          "yref": "y"
         },
         {
          "font": {
           "color": "#FFFFFF"
          },
          "showarrow": false,
          "text": "0.956",
          "x": "9.8.2020",
          "xref": "x",
          "y": "Свердловская обл.",
          "yref": "y"
         },
         {
          "font": {
           "color": "#FFFFFF"
          },
          "showarrow": false,
          "text": "0.972",
          "x": "10.8.2020",
          "xref": "x",
          "y": "Свердловская обл.",
          "yref": "y"
         },
         {
          "font": {
           "color": "#FFFFFF"
          },
          "showarrow": false,
          "text": "0.977",
          "x": "11.8.2020",
          "xref": "x",
          "y": "Свердловская обл.",
          "yref": "y"
         },
         {
          "font": {
           "color": "#FFFFFF"
          },
          "showarrow": false,
          "text": "0.967",
          "x": "12.8.2020",
          "xref": "x",
          "y": "Свердловская обл.",
          "yref": "y"
         },
         {
          "font": {
           "color": "#FFFFFF"
          },
          "showarrow": false,
          "text": "0.932",
          "x": "13.8.2020",
          "xref": "x",
          "y": "Свердловская обл.",
          "yref": "y"
         },
         {
          "font": {
           "color": "#FFFFFF"
          },
          "showarrow": false,
          "text": "0.903",
          "x": "14.8.2020",
          "xref": "x",
          "y": "Свердловская обл.",
          "yref": "y"
         },
         {
          "font": {
           "color": "#FFFFFF"
          },
          "showarrow": false,
          "text": "0.904",
          "x": "15.8.2020",
          "xref": "x",
          "y": "Свердловская обл.",
          "yref": "y"
         },
         {
          "font": {
           "color": "#FFFFFF"
          },
          "showarrow": false,
          "text": "0.894",
          "x": "16.8.2020",
          "xref": "x",
          "y": "Свердловская обл.",
          "yref": "y"
         },
         {
          "font": {
           "color": "#FFFFFF"
          },
          "showarrow": false,
          "text": "0.892",
          "x": "17.8.2020",
          "xref": "x",
          "y": "Свердловская обл.",
          "yref": "y"
         },
         {
          "font": {
           "color": "#FFFFFF"
          },
          "showarrow": false,
          "text": "0.919",
          "x": "18.8.2020",
          "xref": "x",
          "y": "Свердловская обл.",
          "yref": "y"
         },
         {
          "font": {
           "color": "#FFFFFF"
          },
          "showarrow": false,
          "text": "0.916",
          "x": "19.8.2020",
          "xref": "x",
          "y": "Свердловская обл.",
          "yref": "y"
         },
         {
          "font": {
           "color": "#FFFFFF"
          },
          "showarrow": false,
          "text": "0.923",
          "x": "20.8.2020",
          "xref": "x",
          "y": "Свердловская обл.",
          "yref": "y"
         },
         {
          "font": {
           "color": "#FFFFFF"
          },
          "showarrow": false,
          "text": "0.927",
          "x": "21.8.2020",
          "xref": "x",
          "y": "Свердловская обл.",
          "yref": "y"
         },
         {
          "font": {
           "color": "#FFFFFF"
          },
          "showarrow": false,
          "text": "0.888",
          "x": "22.8.2020",
          "xref": "x",
          "y": "Свердловская обл.",
          "yref": "y"
         },
         {
          "font": {
           "color": "#FFFFFF"
          },
          "showarrow": false,
          "text": "0.98",
          "x": "30.7.2020",
          "xref": "x",
          "y": "Челябинская обл.",
          "yref": "y"
         },
         {
          "font": {
           "color": "#FFFFFF"
          },
          "showarrow": false,
          "text": "0.962",
          "x": "31.7.2020",
          "xref": "x",
          "y": "Челябинская обл.",
          "yref": "y"
         },
         {
          "font": {
           "color": "#FFFFFF"
          },
          "showarrow": false,
          "text": "0.929",
          "x": "1.8.2020",
          "xref": "x",
          "y": "Челябинская обл.",
          "yref": "y"
         },
         {
          "font": {
           "color": "#FFFFFF"
          },
          "showarrow": false,
          "text": "0.896",
          "x": "2.8.2020",
          "xref": "x",
          "y": "Челябинская обл.",
          "yref": "y"
         },
         {
          "font": {
           "color": "#FFFFFF"
          },
          "showarrow": false,
          "text": "0.893",
          "x": "3.8.2020",
          "xref": "x",
          "y": "Челябинская обл.",
          "yref": "y"
         },
         {
          "font": {
           "color": "#FFFFFF"
          },
          "showarrow": false,
          "text": "0.889",
          "x": "4.8.2020",
          "xref": "x",
          "y": "Челябинская обл.",
          "yref": "y"
         },
         {
          "font": {
           "color": "#FFFFFF"
          },
          "showarrow": false,
          "text": "0.9",
          "x": "5.8.2020",
          "xref": "x",
          "y": "Челябинская обл.",
          "yref": "y"
         },
         {
          "font": {
           "color": "#FFFFFF"
          },
          "showarrow": false,
          "text": "0.895",
          "x": "6.8.2020",
          "xref": "x",
          "y": "Челябинская обл.",
          "yref": "y"
         },
         {
          "font": {
           "color": "#FFFFFF"
          },
          "showarrow": false,
          "text": "0.878",
          "x": "7.8.2020",
          "xref": "x",
          "y": "Челябинская обл.",
          "yref": "y"
         },
         {
          "font": {
           "color": "#FFFFFF"
          },
          "showarrow": false,
          "text": "0.861",
          "x": "8.8.2020",
          "xref": "x",
          "y": "Челябинская обл.",
          "yref": "y"
         },
         {
          "font": {
           "color": "#FFFFFF"
          },
          "showarrow": false,
          "text": "0.854",
          "x": "9.8.2020",
          "xref": "x",
          "y": "Челябинская обл.",
          "yref": "y"
         },
         {
          "font": {
           "color": "#FFFFFF"
          },
          "showarrow": false,
          "text": "0.867",
          "x": "10.8.2020",
          "xref": "x",
          "y": "Челябинская обл.",
          "yref": "y"
         },
         {
          "font": {
           "color": "#FFFFFF"
          },
          "showarrow": false,
          "text": "0.897",
          "x": "11.8.2020",
          "xref": "x",
          "y": "Челябинская обл.",
          "yref": "y"
         },
         {
          "font": {
           "color": "#FFFFFF"
          },
          "showarrow": false,
          "text": "0.943",
          "x": "12.8.2020",
          "xref": "x",
          "y": "Челябинская обл.",
          "yref": "y"
         },
         {
          "font": {
           "color": "#FFFFFF"
          },
          "showarrow": false,
          "text": "0.939",
          "x": "13.8.2020",
          "xref": "x",
          "y": "Челябинская обл.",
          "yref": "y"
         },
         {
          "font": {
           "color": "#FFFFFF"
          },
          "showarrow": false,
          "text": "0.955",
          "x": "14.8.2020",
          "xref": "x",
          "y": "Челябинская обл.",
          "yref": "y"
         },
         {
          "font": {
           "color": "#FFFFFF"
          },
          "showarrow": false,
          "text": "0.94",
          "x": "15.8.2020",
          "xref": "x",
          "y": "Челябинская обл.",
          "yref": "y"
         },
         {
          "font": {
           "color": "#FFFFFF"
          },
          "showarrow": false,
          "text": "0.911",
          "x": "16.8.2020",
          "xref": "x",
          "y": "Челябинская обл.",
          "yref": "y"
         },
         {
          "font": {
           "color": "#FFFFFF"
          },
          "showarrow": false,
          "text": "0.894",
          "x": "17.8.2020",
          "xref": "x",
          "y": "Челябинская обл.",
          "yref": "y"
         },
         {
          "font": {
           "color": "#FFFFFF"
          },
          "showarrow": false,
          "text": "0.864",
          "x": "18.8.2020",
          "xref": "x",
          "y": "Челябинская обл.",
          "yref": "y"
         },
         {
          "font": {
           "color": "#FFFFFF"
          },
          "showarrow": false,
          "text": "0.872",
          "x": "19.8.2020",
          "xref": "x",
          "y": "Челябинская обл.",
          "yref": "y"
         },
         {
          "font": {
           "color": "#FFFFFF"
          },
          "showarrow": false,
          "text": "0.871",
          "x": "20.8.2020",
          "xref": "x",
          "y": "Челябинская обл.",
          "yref": "y"
         },
         {
          "font": {
           "color": "#FFFFFF"
          },
          "showarrow": false,
          "text": "0.928",
          "x": "21.8.2020",
          "xref": "x",
          "y": "Челябинская обл.",
          "yref": "y"
         },
         {
          "font": {
           "color": "#FFFFFF"
          },
          "showarrow": false,
          "text": "0.983",
          "x": "22.8.2020",
          "xref": "x",
          "y": "Челябинская обл.",
          "yref": "y"
         }
        ],
        "height": 600,
        "template": {
         "data": {
          "bar": [
           {
            "error_x": {
             "color": "#2a3f5f"
            },
            "error_y": {
             "color": "#2a3f5f"
            },
            "marker": {
             "line": {
              "color": "#E5ECF6",
              "width": 0.5
             }
            },
            "type": "bar"
           }
          ],
          "barpolar": [
           {
            "marker": {
             "line": {
              "color": "#E5ECF6",
              "width": 0.5
             }
            },
            "type": "barpolar"
           }
          ],
          "carpet": [
           {
            "aaxis": {
             "endlinecolor": "#2a3f5f",
             "gridcolor": "white",
             "linecolor": "white",
             "minorgridcolor": "white",
             "startlinecolor": "#2a3f5f"
            },
            "baxis": {
             "endlinecolor": "#2a3f5f",
             "gridcolor": "white",
             "linecolor": "white",
             "minorgridcolor": "white",
             "startlinecolor": "#2a3f5f"
            },
            "type": "carpet"
           }
          ],
          "choropleth": [
           {
            "colorbar": {
             "outlinewidth": 0,
             "ticks": ""
            },
            "type": "choropleth"
           }
          ],
          "contour": [
           {
            "colorbar": {
             "outlinewidth": 0,
             "ticks": ""
            },
            "colorscale": [
             [
              0,
              "#0d0887"
             ],
             [
              0.1111111111111111,
              "#46039f"
             ],
             [
              0.2222222222222222,
              "#7201a8"
             ],
             [
              0.3333333333333333,
              "#9c179e"
             ],
             [
              0.4444444444444444,
              "#bd3786"
             ],
             [
              0.5555555555555556,
              "#d8576b"
             ],
             [
              0.6666666666666666,
              "#ed7953"
             ],
             [
              0.7777777777777778,
              "#fb9f3a"
             ],
             [
              0.8888888888888888,
              "#fdca26"
             ],
             [
              1,
              "#f0f921"
             ]
            ],
            "type": "contour"
           }
          ],
          "contourcarpet": [
           {
            "colorbar": {
             "outlinewidth": 0,
             "ticks": ""
            },
            "type": "contourcarpet"
           }
          ],
          "heatmap": [
           {
            "colorbar": {
             "outlinewidth": 0,
             "ticks": ""
            },
            "colorscale": [
             [
              0,
              "#0d0887"
             ],
             [
              0.1111111111111111,
              "#46039f"
             ],
             [
              0.2222222222222222,
              "#7201a8"
             ],
             [
              0.3333333333333333,
              "#9c179e"
             ],
             [
              0.4444444444444444,
              "#bd3786"
             ],
             [
              0.5555555555555556,
              "#d8576b"
             ],
             [
              0.6666666666666666,
              "#ed7953"
             ],
             [
              0.7777777777777778,
              "#fb9f3a"
             ],
             [
              0.8888888888888888,
              "#fdca26"
             ],
             [
              1,
              "#f0f921"
             ]
            ],
            "type": "heatmap"
           }
          ],
          "heatmapgl": [
           {
            "colorbar": {
             "outlinewidth": 0,
             "ticks": ""
            },
            "colorscale": [
             [
              0,
              "#0d0887"
             ],
             [
              0.1111111111111111,
              "#46039f"
             ],
             [
              0.2222222222222222,
              "#7201a8"
             ],
             [
              0.3333333333333333,
              "#9c179e"
             ],
             [
              0.4444444444444444,
              "#bd3786"
             ],
             [
              0.5555555555555556,
              "#d8576b"
             ],
             [
              0.6666666666666666,
              "#ed7953"
             ],
             [
              0.7777777777777778,
              "#fb9f3a"
             ],
             [
              0.8888888888888888,
              "#fdca26"
             ],
             [
              1,
              "#f0f921"
             ]
            ],
            "type": "heatmapgl"
           }
          ],
          "histogram": [
           {
            "marker": {
             "colorbar": {
              "outlinewidth": 0,
              "ticks": ""
             }
            },
            "type": "histogram"
           }
          ],
          "histogram2d": [
           {
            "colorbar": {
             "outlinewidth": 0,
             "ticks": ""
            },
            "colorscale": [
             [
              0,
              "#0d0887"
             ],
             [
              0.1111111111111111,
              "#46039f"
             ],
             [
              0.2222222222222222,
              "#7201a8"
             ],
             [
              0.3333333333333333,
              "#9c179e"
             ],
             [
              0.4444444444444444,
              "#bd3786"
             ],
             [
              0.5555555555555556,
              "#d8576b"
             ],
             [
              0.6666666666666666,
              "#ed7953"
             ],
             [
              0.7777777777777778,
              "#fb9f3a"
             ],
             [
              0.8888888888888888,
              "#fdca26"
             ],
             [
              1,
              "#f0f921"
             ]
            ],
            "type": "histogram2d"
           }
          ],
          "histogram2dcontour": [
           {
            "colorbar": {
             "outlinewidth": 0,
             "ticks": ""
            },
            "colorscale": [
             [
              0,
              "#0d0887"
             ],
             [
              0.1111111111111111,
              "#46039f"
             ],
             [
              0.2222222222222222,
              "#7201a8"
             ],
             [
              0.3333333333333333,
              "#9c179e"
             ],
             [
              0.4444444444444444,
              "#bd3786"
             ],
             [
              0.5555555555555556,
              "#d8576b"
             ],
             [
              0.6666666666666666,
              "#ed7953"
             ],
             [
              0.7777777777777778,
              "#fb9f3a"
             ],
             [
              0.8888888888888888,
              "#fdca26"
             ],
             [
              1,
              "#f0f921"
             ]
            ],
            "type": "histogram2dcontour"
           }
          ],
          "mesh3d": [
           {
            "colorbar": {
             "outlinewidth": 0,
             "ticks": ""
            },
            "type": "mesh3d"
           }
          ],
          "parcoords": [
           {
            "line": {
             "colorbar": {
              "outlinewidth": 0,
              "ticks": ""
             }
            },
            "type": "parcoords"
           }
          ],
          "pie": [
           {
            "automargin": true,
            "type": "pie"
           }
          ],
          "scatter": [
           {
            "marker": {
             "colorbar": {
              "outlinewidth": 0,
              "ticks": ""
             }
            },
            "type": "scatter"
           }
          ],
          "scatter3d": [
           {
            "line": {
             "colorbar": {
              "outlinewidth": 0,
              "ticks": ""
             }
            },
            "marker": {
             "colorbar": {
              "outlinewidth": 0,
              "ticks": ""
             }
            },
            "type": "scatter3d"
           }
          ],
          "scattercarpet": [
           {
            "marker": {
             "colorbar": {
              "outlinewidth": 0,
              "ticks": ""
             }
            },
            "type": "scattercarpet"
           }
          ],
          "scattergeo": [
           {
            "marker": {
             "colorbar": {
              "outlinewidth": 0,
              "ticks": ""
             }
            },
            "type": "scattergeo"
           }
          ],
          "scattergl": [
           {
            "marker": {
             "colorbar": {
              "outlinewidth": 0,
              "ticks": ""
             }
            },
            "type": "scattergl"
           }
          ],
          "scattermapbox": [
           {
            "marker": {
             "colorbar": {
              "outlinewidth": 0,
              "ticks": ""
             }
            },
            "type": "scattermapbox"
           }
          ],
          "scatterpolar": [
           {
            "marker": {
             "colorbar": {
              "outlinewidth": 0,
              "ticks": ""
             }
            },
            "type": "scatterpolar"
           }
          ],
          "scatterpolargl": [
           {
            "marker": {
             "colorbar": {
              "outlinewidth": 0,
              "ticks": ""
             }
            },
            "type": "scatterpolargl"
           }
          ],
          "scatterternary": [
           {
            "marker": {
             "colorbar": {
              "outlinewidth": 0,
              "ticks": ""
             }
            },
            "type": "scatterternary"
           }
          ],
          "surface": [
           {
            "colorbar": {
             "outlinewidth": 0,
             "ticks": ""
            },
            "colorscale": [
             [
              0,
              "#0d0887"
             ],
             [
              0.1111111111111111,
              "#46039f"
             ],
             [
              0.2222222222222222,
              "#7201a8"
             ],
             [
              0.3333333333333333,
              "#9c179e"
             ],
             [
              0.4444444444444444,
              "#bd3786"
             ],
             [
              0.5555555555555556,
              "#d8576b"
             ],
             [
              0.6666666666666666,
              "#ed7953"
             ],
             [
              0.7777777777777778,
              "#fb9f3a"
             ],
             [
              0.8888888888888888,
              "#fdca26"
             ],
             [
              1,
              "#f0f921"
             ]
            ],
            "type": "surface"
           }
          ],
          "table": [
           {
            "cells": {
             "fill": {
              "color": "#EBF0F8"
             },
             "line": {
              "color": "white"
             }
            },
            "header": {
             "fill": {
              "color": "#C8D4E3"
             },
             "line": {
              "color": "white"
             }
            },
            "type": "table"
           }
          ]
         },
         "layout": {
          "annotationdefaults": {
           "arrowcolor": "#2a3f5f",
           "arrowhead": 0,
           "arrowwidth": 1
          },
          "coloraxis": {
           "colorbar": {
            "outlinewidth": 0,
            "ticks": ""
           }
          },
          "colorscale": {
           "diverging": [
            [
             0,
             "#8e0152"
            ],
            [
             0.1,
             "#c51b7d"
            ],
            [
             0.2,
             "#de77ae"
            ],
            [
             0.3,
             "#f1b6da"
            ],
            [
             0.4,
             "#fde0ef"
            ],
            [
             0.5,
             "#f7f7f7"
            ],
            [
             0.6,
             "#e6f5d0"
            ],
            [
             0.7,
             "#b8e186"
            ],
            [
             0.8,
             "#7fbc41"
            ],
            [
             0.9,
             "#4d9221"
            ],
            [
             1,
             "#276419"
            ]
           ],
           "sequential": [
            [
             0,
             "#0d0887"
            ],
            [
             0.1111111111111111,
             "#46039f"
            ],
            [
             0.2222222222222222,
             "#7201a8"
            ],
            [
             0.3333333333333333,
             "#9c179e"
            ],
            [
             0.4444444444444444,
             "#bd3786"
            ],
            [
             0.5555555555555556,
             "#d8576b"
            ],
            [
             0.6666666666666666,
             "#ed7953"
            ],
            [
             0.7777777777777778,
             "#fb9f3a"
            ],
            [
             0.8888888888888888,
             "#fdca26"
            ],
            [
             1,
             "#f0f921"
            ]
           ],
           "sequentialminus": [
            [
             0,
             "#0d0887"
            ],
            [
             0.1111111111111111,
             "#46039f"
            ],
            [
             0.2222222222222222,
             "#7201a8"
            ],
            [
             0.3333333333333333,
             "#9c179e"
            ],
            [
             0.4444444444444444,
             "#bd3786"
            ],
            [
             0.5555555555555556,
             "#d8576b"
            ],
            [
             0.6666666666666666,
             "#ed7953"
            ],
            [
             0.7777777777777778,
             "#fb9f3a"
            ],
            [
             0.8888888888888888,
             "#fdca26"
            ],
            [
             1,
             "#f0f921"
            ]
           ]
          },
          "colorway": [
           "#636efa",
           "#EF553B",
           "#00cc96",
           "#ab63fa",
           "#FFA15A",
           "#19d3f3",
           "#FF6692",
           "#B6E880",
           "#FF97FF",
           "#FECB52"
          ],
          "font": {
           "color": "#2a3f5f"
          },
          "geo": {
           "bgcolor": "white",
           "lakecolor": "white",
           "landcolor": "#E5ECF6",
           "showlakes": true,
           "showland": true,
           "subunitcolor": "white"
          },
          "hoverlabel": {
           "align": "left"
          },
          "hovermode": "closest",
          "mapbox": {
           "style": "light"
          },
          "paper_bgcolor": "white",
          "plot_bgcolor": "#E5ECF6",
          "polar": {
           "angularaxis": {
            "gridcolor": "white",
            "linecolor": "white",
            "ticks": ""
           },
           "bgcolor": "#E5ECF6",
           "radialaxis": {
            "gridcolor": "white",
            "linecolor": "white",
            "ticks": ""
           }
          },
          "scene": {
           "xaxis": {
            "backgroundcolor": "#E5ECF6",
            "gridcolor": "white",
            "gridwidth": 2,
            "linecolor": "white",
            "showbackground": true,
            "ticks": "",
            "zerolinecolor": "white"
           },
           "yaxis": {
            "backgroundcolor": "#E5ECF6",
            "gridcolor": "white",
            "gridwidth": 2,
            "linecolor": "white",
            "showbackground": true,
            "ticks": "",
            "zerolinecolor": "white"
           },
           "zaxis": {
            "backgroundcolor": "#E5ECF6",
            "gridcolor": "white",
            "gridwidth": 2,
            "linecolor": "white",
            "showbackground": true,
            "ticks": "",
            "zerolinecolor": "white"
           }
          },
          "shapedefaults": {
           "line": {
            "color": "#2a3f5f"
           }
          },
          "ternary": {
           "aaxis": {
            "gridcolor": "white",
            "linecolor": "white",
            "ticks": ""
           },
           "baxis": {
            "gridcolor": "white",
            "linecolor": "white",
            "ticks": ""
           },
           "bgcolor": "#E5ECF6",
           "caxis": {
            "gridcolor": "white",
            "linecolor": "white",
            "ticks": ""
           }
          },
          "title": {
           "x": 0.05
          },
          "xaxis": {
           "automargin": true,
           "gridcolor": "white",
           "linecolor": "white",
           "ticks": "",
           "title": {
            "standoff": 15
           },
           "zerolinecolor": "white",
           "zerolinewidth": 2
          },
          "yaxis": {
           "automargin": true,
           "gridcolor": "white",
           "linecolor": "white",
           "ticks": "",
           "title": {
            "standoff": 15
           },
           "zerolinecolor": "white",
           "zerolinewidth": 2
          }
         }
        },
        "width": 990,
        "xaxis": {
         "dtick": 1,
         "gridcolor": "rgb(0, 0, 0)",
         "side": "top",
         "ticks": "",
         "title": {
          "text": "Динамика коэффициента распространения Rt по регионам"
         }
        },
        "yaxis": {
         "dtick": 1,
         "ticks": "",
         "ticksuffix": "  "
        }
       }
      }
     },
     "metadata": {}
    }
   ],
   "source": [
    "fig = ff.create_annotated_heatmap(d, x=x2, y=y, annotation_text=d,\n",
    "                                  colorscale='Temps')\n",
    "\n",
    "fig.update_layout(\n",
    "                  \n",
    "                  \n",
    "                  width = 990, height = 600,    \n",
    "    \n",
    "                  xaxis_title='Динамика коэффициента распространения Rt по регионам',\n",
    "               #   yaxis_title = 'Регион '\n",
    ")\n",
    "\n",
    "fig.show()\n"
   ]
  },
  {
   "cell_type": "code",
   "execution_count": 22,
   "metadata": {
    "tags": []
   },
   "outputs": [
    {
     "output_type": "stream",
     "name": "stdout",
     "text": "[[1.011 1.011 1.011 1.011 1.011 1.011 1.011 1.011 1.011 1.011 1.011 1.011\n  1.011 1.011 1.011 1.011 1.011 1.011 1.011 1.011 1.011 1.011 1.011 1.011\n  1.011 1.011 1.011]\n [1.009 1.009 1.009 1.009 1.009 1.009 1.009 1.009 1.01  1.01  1.01  1.01\n  1.01  1.01  1.01  1.01  1.01  1.009 1.009 1.009 1.009 1.009 1.009 1.009\n  1.009 1.009 1.009]\n [1.03  1.029 1.029 1.028 1.027 1.027 1.027 1.026 1.026 1.026 1.025 1.025\n  1.025 1.024 1.024 1.024 1.024 1.023 1.023 1.023 1.023 1.022 1.022 1.022\n  1.021 1.021 1.021]\n [1.024 1.024 1.023 1.023 1.022 1.022 1.021 1.021 1.021 1.02  1.02  1.02\n  1.02  1.02  1.02  1.019 1.019 1.019 1.019 1.019 1.019 1.019 1.019 1.019\n  1.019 1.019 1.019]\n [1.053 1.053 1.051 1.049 1.047 1.045 1.043 1.042 1.04  1.039 1.037 1.036\n  1.035 1.034 1.034 1.033 1.033 1.032 1.031 1.03  1.029 1.028 1.027 1.026\n  1.026 1.025 1.024]\n [1.051 1.05  1.049 1.048 1.047 1.046 1.044 1.043 1.041 1.039 1.038 1.036\n  1.035 1.033 1.032 1.03  1.03  1.029 1.029 1.028 1.027 1.026 1.025 1.024\n  1.023 1.023 1.022]]\n"
    },
    {
     "output_type": "execute_result",
     "data": {
      "text/plain": "Date             Region  2020-07-27  2020-07-28  2020-07-29  2020-07-30  \\\n0                Москва       1.011       1.011       1.011       1.011   \n1       Московская обл.       1.009       1.009       1.009       1.009   \n2                Россия       1.030       1.029       1.029       1.028   \n3       Санкт-Петербург       1.024       1.024       1.023       1.023   \n4     Свердловская обл.       1.053       1.053       1.051       1.049   \n\nDate  2020-07-31  2020-08-01  2020-08-02  2020-08-03  2020-08-04  ...  \\\n0          1.011       1.011       1.011       1.011       1.011  ...   \n1          1.009       1.009       1.009       1.009       1.010  ...   \n2          1.027       1.027       1.027       1.026       1.026  ...   \n3          1.022       1.022       1.021       1.021       1.021  ...   \n4          1.047       1.045       1.043       1.042       1.040  ...   \n\nDate  2020-08-13  2020-08-14  2020-08-15  2020-08-16  2020-08-17  2020-08-18  \\\n0          1.011       1.011       1.011       1.011       1.011       1.011   \n1          1.009       1.009       1.009       1.009       1.009       1.009   \n2          1.023       1.023       1.023       1.023       1.022       1.022   \n3          1.019       1.019       1.019       1.019       1.019       1.019   \n4          1.032       1.031       1.030       1.029       1.028       1.027   \n\nDate  2020-08-19  2020-08-20  2020-08-21  2020-08-22  \n0          1.011       1.011       1.011       1.011  \n1          1.009       1.009       1.009       1.009  \n2          1.022       1.021       1.021       1.021  \n3          1.019       1.019       1.019       1.019  \n4          1.026       1.026       1.025       1.024  \n\n[5 rows x 28 columns]",
      "text/html": "<div>\n<style scoped>\n    .dataframe tbody tr th:only-of-type {\n        vertical-align: middle;\n    }\n\n    .dataframe tbody tr th {\n        vertical-align: top;\n    }\n\n    .dataframe thead th {\n        text-align: right;\n    }\n</style>\n<table border=\"1\" class=\"dataframe\">\n  <thead>\n    <tr style=\"text-align: right;\">\n      <th>Date</th>\n      <th>Region</th>\n      <th>2020-07-27</th>\n      <th>2020-07-28</th>\n      <th>2020-07-29</th>\n      <th>2020-07-30</th>\n      <th>2020-07-31</th>\n      <th>2020-08-01</th>\n      <th>2020-08-02</th>\n      <th>2020-08-03</th>\n      <th>2020-08-04</th>\n      <th>...</th>\n      <th>2020-08-13</th>\n      <th>2020-08-14</th>\n      <th>2020-08-15</th>\n      <th>2020-08-16</th>\n      <th>2020-08-17</th>\n      <th>2020-08-18</th>\n      <th>2020-08-19</th>\n      <th>2020-08-20</th>\n      <th>2020-08-21</th>\n      <th>2020-08-22</th>\n    </tr>\n  </thead>\n  <tbody>\n    <tr>\n      <th>0</th>\n      <td>Москва</td>\n      <td>1.011</td>\n      <td>1.011</td>\n      <td>1.011</td>\n      <td>1.011</td>\n      <td>1.011</td>\n      <td>1.011</td>\n      <td>1.011</td>\n      <td>1.011</td>\n      <td>1.011</td>\n      <td>...</td>\n      <td>1.011</td>\n      <td>1.011</td>\n      <td>1.011</td>\n      <td>1.011</td>\n      <td>1.011</td>\n      <td>1.011</td>\n      <td>1.011</td>\n      <td>1.011</td>\n      <td>1.011</td>\n      <td>1.011</td>\n    </tr>\n    <tr>\n      <th>1</th>\n      <td>Московская обл.</td>\n      <td>1.009</td>\n      <td>1.009</td>\n      <td>1.009</td>\n      <td>1.009</td>\n      <td>1.009</td>\n      <td>1.009</td>\n      <td>1.009</td>\n      <td>1.009</td>\n      <td>1.010</td>\n      <td>...</td>\n      <td>1.009</td>\n      <td>1.009</td>\n      <td>1.009</td>\n      <td>1.009</td>\n      <td>1.009</td>\n      <td>1.009</td>\n      <td>1.009</td>\n      <td>1.009</td>\n      <td>1.009</td>\n      <td>1.009</td>\n    </tr>\n    <tr>\n      <th>2</th>\n      <td>Россия</td>\n      <td>1.030</td>\n      <td>1.029</td>\n      <td>1.029</td>\n      <td>1.028</td>\n      <td>1.027</td>\n      <td>1.027</td>\n      <td>1.027</td>\n      <td>1.026</td>\n      <td>1.026</td>\n      <td>...</td>\n      <td>1.023</td>\n      <td>1.023</td>\n      <td>1.023</td>\n      <td>1.023</td>\n      <td>1.022</td>\n      <td>1.022</td>\n      <td>1.022</td>\n      <td>1.021</td>\n      <td>1.021</td>\n      <td>1.021</td>\n    </tr>\n    <tr>\n      <th>3</th>\n      <td>Санкт-Петербург</td>\n      <td>1.024</td>\n      <td>1.024</td>\n      <td>1.023</td>\n      <td>1.023</td>\n      <td>1.022</td>\n      <td>1.022</td>\n      <td>1.021</td>\n      <td>1.021</td>\n      <td>1.021</td>\n      <td>...</td>\n      <td>1.019</td>\n      <td>1.019</td>\n      <td>1.019</td>\n      <td>1.019</td>\n      <td>1.019</td>\n      <td>1.019</td>\n      <td>1.019</td>\n      <td>1.019</td>\n      <td>1.019</td>\n      <td>1.019</td>\n    </tr>\n    <tr>\n      <th>4</th>\n      <td>Свердловская обл.</td>\n      <td>1.053</td>\n      <td>1.053</td>\n      <td>1.051</td>\n      <td>1.049</td>\n      <td>1.047</td>\n      <td>1.045</td>\n      <td>1.043</td>\n      <td>1.042</td>\n      <td>1.040</td>\n      <td>...</td>\n      <td>1.032</td>\n      <td>1.031</td>\n      <td>1.030</td>\n      <td>1.029</td>\n      <td>1.028</td>\n      <td>1.027</td>\n      <td>1.026</td>\n      <td>1.026</td>\n      <td>1.025</td>\n      <td>1.024</td>\n    </tr>\n  </tbody>\n</table>\n<p>5 rows × 28 columns</p>\n</div>"
     },
     "metadata": {},
     "execution_count": 22
    }
   ],
   "source": [
    "mask = (X.Date>=datetime.date(2020,7,27))&(X.Region.isin(regions_towatch))\n",
    "\n",
    "\n",
    "# #mask = (X.Date>='2020-06-04')\n",
    "\n",
    "Z = X[mask].groupby(['Region','Date']).Rt2.sum().unstack().reset_index()\n",
    "Z.dropna(inplace=True)\n",
    "d = Z.drop('Region',axis = 1).values\n",
    "\n",
    "# my_map= {'Москва':'2.Москва','Московская обл.':'3.Московская обл.','Нижегородская обл.':'5.Нижегородская обл.',\n",
    "#                     'Россия':'1.Россия', 'Санкт-Петербург':'4.Санкт-Петербург'}\n",
    "# Z.Region = Z.Region.map(my_map)\n",
    "\n",
    "print(d)\n",
    "Z.head()"
   ]
  },
  {
   "cell_type": "code",
   "execution_count": 23,
   "metadata": {
    "tags": []
   },
   "outputs": [
    {
     "output_type": "stream",
     "name": "stdout",
     "text": "[datetime.date(2020, 7, 27), datetime.date(2020, 7, 28), datetime.date(2020, 7, 29), datetime.date(2020, 7, 30), datetime.date(2020, 7, 31), datetime.date(2020, 8, 1), datetime.date(2020, 8, 2), datetime.date(2020, 8, 3), datetime.date(2020, 8, 4), datetime.date(2020, 8, 5), datetime.date(2020, 8, 6), datetime.date(2020, 8, 7), datetime.date(2020, 8, 8), datetime.date(2020, 8, 9), datetime.date(2020, 8, 10), datetime.date(2020, 8, 11), datetime.date(2020, 8, 12), datetime.date(2020, 8, 13), datetime.date(2020, 8, 14), datetime.date(2020, 8, 15), datetime.date(2020, 8, 16), datetime.date(2020, 8, 17), datetime.date(2020, 8, 18), datetime.date(2020, 8, 19), datetime.date(2020, 8, 20), datetime.date(2020, 8, 21), datetime.date(2020, 8, 22)]\n['27.7.2020', '28.7.2020', '29.7.2020', '30.7.2020', '31.7.2020', '1.8.2020', '2.8.2020', '3.8.2020', '4.8.2020', '5.8.2020', '6.8.2020', '7.8.2020', '8.8.2020', '9.8.2020', '10.8.2020', '11.8.2020', '12.8.2020', '13.8.2020', '14.8.2020', '15.8.2020', '16.8.2020', '17.8.2020', '18.8.2020', '19.8.2020', '20.8.2020', '21.8.2020', '22.8.2020']\n"
    }
   ],
   "source": [
    "x1=list(Z.columns[1:])\n",
    "x2=[]\n",
    "for i in x1:\n",
    "    x2.append(str(i.day)+'.'+str(i.month)+\".\"+str(i.year))\n",
    "    \n",
    "y=list(Z.Region)\n",
    "print(list(x1))\n",
    "print(x2)"
   ]
  },
  {
   "cell_type": "code",
   "execution_count": 24,
   "metadata": {},
   "outputs": [
    {
     "output_type": "display_data",
     "data": {
      "application/vnd.plotly.v1+json": {
       "config": {
        "plotlyServerURL": "https://plot.ly"
       },
       "data": [
        {
         "colorscale": [
          [
           0,
           "rgb(0, 147, 146)"
          ],
          [
           0.16666666666666666,
           "rgb(57, 177, 133)"
          ],
          [
           0.3333333333333333,
           "rgb(156, 203, 134)"
          ],
          [
           0.5,
           "rgb(233, 226, 156)"
          ],
          [
           0.6666666666666666,
           "rgb(238, 180, 121)"
          ],
          [
           0.8333333333333334,
           "rgb(232, 132, 113)"
          ],
          [
           1,
           "rgb(207, 89, 126)"
          ]
         ],
         "reversescale": false,
         "showscale": false,
         "type": "heatmap",
         "x": [
          "27.7.2020",
          "28.7.2020",
          "29.7.2020",
          "30.7.2020",
          "31.7.2020",
          "1.8.2020",
          "2.8.2020",
          "3.8.2020",
          "4.8.2020",
          "5.8.2020",
          "6.8.2020",
          "7.8.2020",
          "8.8.2020",
          "9.8.2020",
          "10.8.2020",
          "11.8.2020",
          "12.8.2020",
          "13.8.2020",
          "14.8.2020",
          "15.8.2020",
          "16.8.2020",
          "17.8.2020",
          "18.8.2020",
          "19.8.2020",
          "20.8.2020",
          "21.8.2020",
          "22.8.2020"
         ],
         "y": [
          "Москва",
          "Московская обл.",
          "Россия",
          "Санкт-Петербург",
          "Свердловская обл.",
          "Челябинская обл."
         ],
         "z": [
          [
           1.011,
           1.011,
           1.011,
           1.011,
           1.011,
           1.011,
           1.011,
           1.011,
           1.011,
           1.011,
           1.011,
           1.011,
           1.011,
           1.011,
           1.011,
           1.011,
           1.011,
           1.011,
           1.011,
           1.011,
           1.011,
           1.011,
           1.011,
           1.011,
           1.011,
           1.011,
           1.011
          ],
          [
           1.009,
           1.009,
           1.009,
           1.009,
           1.009,
           1.009,
           1.009,
           1.009,
           1.01,
           1.01,
           1.01,
           1.01,
           1.01,
           1.01,
           1.01,
           1.01,
           1.01,
           1.009,
           1.009,
           1.009,
           1.009,
           1.009,
           1.009,
           1.009,
           1.009,
           1.009,
           1.009
          ],
          [
           1.03,
           1.029,
           1.029,
           1.028,
           1.027,
           1.027,
           1.027,
           1.026,
           1.026,
           1.026,
           1.025,
           1.025,
           1.025,
           1.024,
           1.024,
           1.024,
           1.024,
           1.023,
           1.023,
           1.023,
           1.023,
           1.022,
           1.022,
           1.022,
           1.021,
           1.021,
           1.021
          ],
          [
           1.024,
           1.024,
           1.023,
           1.023,
           1.022,
           1.022,
           1.021,
           1.021,
           1.021,
           1.02,
           1.02,
           1.02,
           1.02,
           1.02,
           1.02,
           1.019,
           1.019,
           1.019,
           1.019,
           1.019,
           1.019,
           1.019,
           1.019,
           1.019,
           1.019,
           1.019,
           1.019
          ],
          [
           1.053,
           1.053,
           1.051,
           1.049,
           1.047,
           1.045,
           1.043,
           1.042,
           1.04,
           1.039,
           1.037,
           1.036,
           1.035,
           1.034,
           1.034,
           1.033,
           1.033,
           1.032,
           1.031,
           1.03,
           1.029,
           1.028,
           1.027,
           1.026,
           1.026,
           1.025,
           1.024
          ],
          [
           1.051,
           1.05,
           1.049,
           1.048,
           1.047,
           1.046,
           1.044,
           1.043,
           1.041,
           1.039,
           1.038,
           1.036,
           1.035,
           1.033,
           1.032,
           1.03,
           1.03,
           1.029,
           1.029,
           1.028,
           1.027,
           1.026,
           1.025,
           1.024,
           1.023,
           1.023,
           1.022
          ]
         ]
        }
       ],
       "layout": {
        "annotations": [
         {
          "font": {
           "color": "#FFFFFF"
          },
          "showarrow": false,
          "text": "1.011",
          "x": "27.7.2020",
          "xref": "x",
          "y": "Москва",
          "yref": "y"
         },
         {
          "font": {
           "color": "#FFFFFF"
          },
          "showarrow": false,
          "text": "1.011",
          "x": "28.7.2020",
          "xref": "x",
          "y": "Москва",
          "yref": "y"
         },
         {
          "font": {
           "color": "#FFFFFF"
          },
          "showarrow": false,
          "text": "1.011",
          "x": "29.7.2020",
          "xref": "x",
          "y": "Москва",
          "yref": "y"
         },
         {
          "font": {
           "color": "#FFFFFF"
          },
          "showarrow": false,
          "text": "1.011",
          "x": "30.7.2020",
          "xref": "x",
          "y": "Москва",
          "yref": "y"
         },
         {
          "font": {
           "color": "#FFFFFF"
          },
          "showarrow": false,
          "text": "1.011",
          "x": "31.7.2020",
          "xref": "x",
          "y": "Москва",
          "yref": "y"
         },
         {
          "font": {
           "color": "#FFFFFF"
          },
          "showarrow": false,
          "text": "1.011",
          "x": "1.8.2020",
          "xref": "x",
          "y": "Москва",
          "yref": "y"
         },
         {
          "font": {
           "color": "#FFFFFF"
          },
          "showarrow": false,
          "text": "1.011",
          "x": "2.8.2020",
          "xref": "x",
          "y": "Москва",
          "yref": "y"
         },
         {
          "font": {
           "color": "#FFFFFF"
          },
          "showarrow": false,
          "text": "1.011",
          "x": "3.8.2020",
          "xref": "x",
          "y": "Москва",
          "yref": "y"
         },
         {
          "font": {
           "color": "#FFFFFF"
          },
          "showarrow": false,
          "text": "1.011",
          "x": "4.8.2020",
          "xref": "x",
          "y": "Москва",
          "yref": "y"
         },
         {
          "font": {
           "color": "#FFFFFF"
          },
          "showarrow": false,
          "text": "1.011",
          "x": "5.8.2020",
          "xref": "x",
          "y": "Москва",
          "yref": "y"
         },
         {
          "font": {
           "color": "#FFFFFF"
          },
          "showarrow": false,
          "text": "1.011",
          "x": "6.8.2020",
          "xref": "x",
          "y": "Москва",
          "yref": "y"
         },
         {
          "font": {
           "color": "#FFFFFF"
          },
          "showarrow": false,
          "text": "1.011",
          "x": "7.8.2020",
          "xref": "x",
          "y": "Москва",
          "yref": "y"
         },
         {
          "font": {
           "color": "#FFFFFF"
          },
          "showarrow": false,
          "text": "1.011",
          "x": "8.8.2020",
          "xref": "x",
          "y": "Москва",
          "yref": "y"
         },
         {
          "font": {
           "color": "#FFFFFF"
          },
          "showarrow": false,
          "text": "1.011",
          "x": "9.8.2020",
          "xref": "x",
          "y": "Москва",
          "yref": "y"
         },
         {
          "font": {
           "color": "#FFFFFF"
          },
          "showarrow": false,
          "text": "1.011",
          "x": "10.8.2020",
          "xref": "x",
          "y": "Москва",
          "yref": "y"
         },
         {
          "font": {
           "color": "#FFFFFF"
          },
          "showarrow": false,
          "text": "1.011",
          "x": "11.8.2020",
          "xref": "x",
          "y": "Москва",
          "yref": "y"
         },
         {
          "font": {
           "color": "#FFFFFF"
          },
          "showarrow": false,
          "text": "1.011",
          "x": "12.8.2020",
          "xref": "x",
          "y": "Москва",
          "yref": "y"
         },
         {
          "font": {
           "color": "#FFFFFF"
          },
          "showarrow": false,
          "text": "1.011",
          "x": "13.8.2020",
          "xref": "x",
          "y": "Москва",
          "yref": "y"
         },
         {
          "font": {
           "color": "#FFFFFF"
          },
          "showarrow": false,
          "text": "1.011",
          "x": "14.8.2020",
          "xref": "x",
          "y": "Москва",
          "yref": "y"
         },
         {
          "font": {
           "color": "#FFFFFF"
          },
          "showarrow": false,
          "text": "1.011",
          "x": "15.8.2020",
          "xref": "x",
          "y": "Москва",
          "yref": "y"
         },
         {
          "font": {
           "color": "#FFFFFF"
          },
          "showarrow": false,
          "text": "1.011",
          "x": "16.8.2020",
          "xref": "x",
          "y": "Москва",
          "yref": "y"
         },
         {
          "font": {
           "color": "#FFFFFF"
          },
          "showarrow": false,
          "text": "1.011",
          "x": "17.8.2020",
          "xref": "x",
          "y": "Москва",
          "yref": "y"
         },
         {
          "font": {
           "color": "#FFFFFF"
          },
          "showarrow": false,
          "text": "1.011",
          "x": "18.8.2020",
          "xref": "x",
          "y": "Москва",
          "yref": "y"
         },
         {
          "font": {
           "color": "#FFFFFF"
          },
          "showarrow": false,
          "text": "1.011",
          "x": "19.8.2020",
          "xref": "x",
          "y": "Москва",
          "yref": "y"
         },
         {
          "font": {
           "color": "#FFFFFF"
          },
          "showarrow": false,
          "text": "1.011",
          "x": "20.8.2020",
          "xref": "x",
          "y": "Москва",
          "yref": "y"
         },
         {
          "font": {
           "color": "#FFFFFF"
          },
          "showarrow": false,
          "text": "1.011",
          "x": "21.8.2020",
          "xref": "x",
          "y": "Москва",
          "yref": "y"
         },
         {
          "font": {
           "color": "#FFFFFF"
          },
          "showarrow": false,
          "text": "1.011",
          "x": "22.8.2020",
          "xref": "x",
          "y": "Москва",
          "yref": "y"
         },
         {
          "font": {
           "color": "#FFFFFF"
          },
          "showarrow": false,
          "text": "1.009",
          "x": "27.7.2020",
          "xref": "x",
          "y": "Московская обл.",
          "yref": "y"
         },
         {
          "font": {
           "color": "#FFFFFF"
          },
          "showarrow": false,
          "text": "1.009",
          "x": "28.7.2020",
          "xref": "x",
          "y": "Московская обл.",
          "yref": "y"
         },
         {
          "font": {
           "color": "#FFFFFF"
          },
          "showarrow": false,
          "text": "1.009",
          "x": "29.7.2020",
          "xref": "x",
          "y": "Московская обл.",
          "yref": "y"
         },
         {
          "font": {
           "color": "#FFFFFF"
          },
          "showarrow": false,
          "text": "1.009",
          "x": "30.7.2020",
          "xref": "x",
          "y": "Московская обл.",
          "yref": "y"
         },
         {
          "font": {
           "color": "#FFFFFF"
          },
          "showarrow": false,
          "text": "1.009",
          "x": "31.7.2020",
          "xref": "x",
          "y": "Московская обл.",
          "yref": "y"
         },
         {
          "font": {
           "color": "#FFFFFF"
          },
          "showarrow": false,
          "text": "1.009",
          "x": "1.8.2020",
          "xref": "x",
          "y": "Московская обл.",
          "yref": "y"
         },
         {
          "font": {
           "color": "#FFFFFF"
          },
          "showarrow": false,
          "text": "1.009",
          "x": "2.8.2020",
          "xref": "x",
          "y": "Московская обл.",
          "yref": "y"
         },
         {
          "font": {
           "color": "#FFFFFF"
          },
          "showarrow": false,
          "text": "1.009",
          "x": "3.8.2020",
          "xref": "x",
          "y": "Московская обл.",
          "yref": "y"
         },
         {
          "font": {
           "color": "#FFFFFF"
          },
          "showarrow": false,
          "text": "1.01",
          "x": "4.8.2020",
          "xref": "x",
          "y": "Московская обл.",
          "yref": "y"
         },
         {
          "font": {
           "color": "#FFFFFF"
          },
          "showarrow": false,
          "text": "1.01",
          "x": "5.8.2020",
          "xref": "x",
          "y": "Московская обл.",
          "yref": "y"
         },
         {
          "font": {
           "color": "#FFFFFF"
          },
          "showarrow": false,
          "text": "1.01",
          "x": "6.8.2020",
          "xref": "x",
          "y": "Московская обл.",
          "yref": "y"
         },
         {
          "font": {
           "color": "#FFFFFF"
          },
          "showarrow": false,
          "text": "1.01",
          "x": "7.8.2020",
          "xref": "x",
          "y": "Московская обл.",
          "yref": "y"
         },
         {
          "font": {
           "color": "#FFFFFF"
          },
          "showarrow": false,
          "text": "1.01",
          "x": "8.8.2020",
          "xref": "x",
          "y": "Московская обл.",
          "yref": "y"
         },
         {
          "font": {
           "color": "#FFFFFF"
          },
          "showarrow": false,
          "text": "1.01",
          "x": "9.8.2020",
          "xref": "x",
          "y": "Московская обл.",
          "yref": "y"
         },
         {
          "font": {
           "color": "#FFFFFF"
          },
          "showarrow": false,
          "text": "1.01",
          "x": "10.8.2020",
          "xref": "x",
          "y": "Московская обл.",
          "yref": "y"
         },
         {
          "font": {
           "color": "#FFFFFF"
          },
          "showarrow": false,
          "text": "1.01",
          "x": "11.8.2020",
          "xref": "x",
          "y": "Московская обл.",
          "yref": "y"
         },
         {
          "font": {
           "color": "#FFFFFF"
          },
          "showarrow": false,
          "text": "1.01",
          "x": "12.8.2020",
          "xref": "x",
          "y": "Московская обл.",
          "yref": "y"
         },
         {
          "font": {
           "color": "#FFFFFF"
          },
          "showarrow": false,
          "text": "1.009",
          "x": "13.8.2020",
          "xref": "x",
          "y": "Московская обл.",
          "yref": "y"
         },
         {
          "font": {
           "color": "#FFFFFF"
          },
          "showarrow": false,
          "text": "1.009",
          "x": "14.8.2020",
          "xref": "x",
          "y": "Московская обл.",
          "yref": "y"
         },
         {
          "font": {
           "color": "#FFFFFF"
          },
          "showarrow": false,
          "text": "1.009",
          "x": "15.8.2020",
          "xref": "x",
          "y": "Московская обл.",
          "yref": "y"
         },
         {
          "font": {
           "color": "#FFFFFF"
          },
          "showarrow": false,
          "text": "1.009",
          "x": "16.8.2020",
          "xref": "x",
          "y": "Московская обл.",
          "yref": "y"
         },
         {
          "font": {
           "color": "#FFFFFF"
          },
          "showarrow": false,
          "text": "1.009",
          "x": "17.8.2020",
          "xref": "x",
          "y": "Московская обл.",
          "yref": "y"
         },
         {
          "font": {
           "color": "#FFFFFF"
          },
          "showarrow": false,
          "text": "1.009",
          "x": "18.8.2020",
          "xref": "x",
          "y": "Московская обл.",
          "yref": "y"
         },
         {
          "font": {
           "color": "#FFFFFF"
          },
          "showarrow": false,
          "text": "1.009",
          "x": "19.8.2020",
          "xref": "x",
          "y": "Московская обл.",
          "yref": "y"
         },
         {
          "font": {
           "color": "#FFFFFF"
          },
          "showarrow": false,
          "text": "1.009",
          "x": "20.8.2020",
          "xref": "x",
          "y": "Московская обл.",
          "yref": "y"
         },
         {
          "font": {
           "color": "#FFFFFF"
          },
          "showarrow": false,
          "text": "1.009",
          "x": "21.8.2020",
          "xref": "x",
          "y": "Московская обл.",
          "yref": "y"
         },
         {
          "font": {
           "color": "#FFFFFF"
          },
          "showarrow": false,
          "text": "1.009",
          "x": "22.8.2020",
          "xref": "x",
          "y": "Московская обл.",
          "yref": "y"
         },
         {
          "font": {
           "color": "#FFFFFF"
          },
          "showarrow": false,
          "text": "1.03",
          "x": "27.7.2020",
          "xref": "x",
          "y": "Россия",
          "yref": "y"
         },
         {
          "font": {
           "color": "#FFFFFF"
          },
          "showarrow": false,
          "text": "1.029",
          "x": "28.7.2020",
          "xref": "x",
          "y": "Россия",
          "yref": "y"
         },
         {
          "font": {
           "color": "#FFFFFF"
          },
          "showarrow": false,
          "text": "1.029",
          "x": "29.7.2020",
          "xref": "x",
          "y": "Россия",
          "yref": "y"
         },
         {
          "font": {
           "color": "#FFFFFF"
          },
          "showarrow": false,
          "text": "1.028",
          "x": "30.7.2020",
          "xref": "x",
          "y": "Россия",
          "yref": "y"
         },
         {
          "font": {
           "color": "#FFFFFF"
          },
          "showarrow": false,
          "text": "1.027",
          "x": "31.7.2020",
          "xref": "x",
          "y": "Россия",
          "yref": "y"
         },
         {
          "font": {
           "color": "#FFFFFF"
          },
          "showarrow": false,
          "text": "1.027",
          "x": "1.8.2020",
          "xref": "x",
          "y": "Россия",
          "yref": "y"
         },
         {
          "font": {
           "color": "#FFFFFF"
          },
          "showarrow": false,
          "text": "1.027",
          "x": "2.8.2020",
          "xref": "x",
          "y": "Россия",
          "yref": "y"
         },
         {
          "font": {
           "color": "#FFFFFF"
          },
          "showarrow": false,
          "text": "1.026",
          "x": "3.8.2020",
          "xref": "x",
          "y": "Россия",
          "yref": "y"
         },
         {
          "font": {
           "color": "#FFFFFF"
          },
          "showarrow": false,
          "text": "1.026",
          "x": "4.8.2020",
          "xref": "x",
          "y": "Россия",
          "yref": "y"
         },
         {
          "font": {
           "color": "#FFFFFF"
          },
          "showarrow": false,
          "text": "1.026",
          "x": "5.8.2020",
          "xref": "x",
          "y": "Россия",
          "yref": "y"
         },
         {
          "font": {
           "color": "#FFFFFF"
          },
          "showarrow": false,
          "text": "1.025",
          "x": "6.8.2020",
          "xref": "x",
          "y": "Россия",
          "yref": "y"
         },
         {
          "font": {
           "color": "#FFFFFF"
          },
          "showarrow": false,
          "text": "1.025",
          "x": "7.8.2020",
          "xref": "x",
          "y": "Россия",
          "yref": "y"
         },
         {
          "font": {
           "color": "#FFFFFF"
          },
          "showarrow": false,
          "text": "1.025",
          "x": "8.8.2020",
          "xref": "x",
          "y": "Россия",
          "yref": "y"
         },
         {
          "font": {
           "color": "#FFFFFF"
          },
          "showarrow": false,
          "text": "1.024",
          "x": "9.8.2020",
          "xref": "x",
          "y": "Россия",
          "yref": "y"
         },
         {
          "font": {
           "color": "#FFFFFF"
          },
          "showarrow": false,
          "text": "1.024",
          "x": "10.8.2020",
          "xref": "x",
          "y": "Россия",
          "yref": "y"
         },
         {
          "font": {
           "color": "#FFFFFF"
          },
          "showarrow": false,
          "text": "1.024",
          "x": "11.8.2020",
          "xref": "x",
          "y": "Россия",
          "yref": "y"
         },
         {
          "font": {
           "color": "#FFFFFF"
          },
          "showarrow": false,
          "text": "1.024",
          "x": "12.8.2020",
          "xref": "x",
          "y": "Россия",
          "yref": "y"
         },
         {
          "font": {
           "color": "#FFFFFF"
          },
          "showarrow": false,
          "text": "1.023",
          "x": "13.8.2020",
          "xref": "x",
          "y": "Россия",
          "yref": "y"
         },
         {
          "font": {
           "color": "#FFFFFF"
          },
          "showarrow": false,
          "text": "1.023",
          "x": "14.8.2020",
          "xref": "x",
          "y": "Россия",
          "yref": "y"
         },
         {
          "font": {
           "color": "#FFFFFF"
          },
          "showarrow": false,
          "text": "1.023",
          "x": "15.8.2020",
          "xref": "x",
          "y": "Россия",
          "yref": "y"
         },
         {
          "font": {
           "color": "#FFFFFF"
          },
          "showarrow": false,
          "text": "1.023",
          "x": "16.8.2020",
          "xref": "x",
          "y": "Россия",
          "yref": "y"
         },
         {
          "font": {
           "color": "#FFFFFF"
          },
          "showarrow": false,
          "text": "1.022",
          "x": "17.8.2020",
          "xref": "x",
          "y": "Россия",
          "yref": "y"
         },
         {
          "font": {
           "color": "#FFFFFF"
          },
          "showarrow": false,
          "text": "1.022",
          "x": "18.8.2020",
          "xref": "x",
          "y": "Россия",
          "yref": "y"
         },
         {
          "font": {
           "color": "#FFFFFF"
          },
          "showarrow": false,
          "text": "1.022",
          "x": "19.8.2020",
          "xref": "x",
          "y": "Россия",
          "yref": "y"
         },
         {
          "font": {
           "color": "#FFFFFF"
          },
          "showarrow": false,
          "text": "1.021",
          "x": "20.8.2020",
          "xref": "x",
          "y": "Россия",
          "yref": "y"
         },
         {
          "font": {
           "color": "#FFFFFF"
          },
          "showarrow": false,
          "text": "1.021",
          "x": "21.8.2020",
          "xref": "x",
          "y": "Россия",
          "yref": "y"
         },
         {
          "font": {
           "color": "#FFFFFF"
          },
          "showarrow": false,
          "text": "1.021",
          "x": "22.8.2020",
          "xref": "x",
          "y": "Россия",
          "yref": "y"
         },
         {
          "font": {
           "color": "#FFFFFF"
          },
          "showarrow": false,
          "text": "1.024",
          "x": "27.7.2020",
          "xref": "x",
          "y": "Санкт-Петербург",
          "yref": "y"
         },
         {
          "font": {
           "color": "#FFFFFF"
          },
          "showarrow": false,
          "text": "1.024",
          "x": "28.7.2020",
          "xref": "x",
          "y": "Санкт-Петербург",
          "yref": "y"
         },
         {
          "font": {
           "color": "#FFFFFF"
          },
          "showarrow": false,
          "text": "1.023",
          "x": "29.7.2020",
          "xref": "x",
          "y": "Санкт-Петербург",
          "yref": "y"
         },
         {
          "font": {
           "color": "#FFFFFF"
          },
          "showarrow": false,
          "text": "1.023",
          "x": "30.7.2020",
          "xref": "x",
          "y": "Санкт-Петербург",
          "yref": "y"
         },
         {
          "font": {
           "color": "#FFFFFF"
          },
          "showarrow": false,
          "text": "1.022",
          "x": "31.7.2020",
          "xref": "x",
          "y": "Санкт-Петербург",
          "yref": "y"
         },
         {
          "font": {
           "color": "#FFFFFF"
          },
          "showarrow": false,
          "text": "1.022",
          "x": "1.8.2020",
          "xref": "x",
          "y": "Санкт-Петербург",
          "yref": "y"
         },
         {
          "font": {
           "color": "#FFFFFF"
          },
          "showarrow": false,
          "text": "1.021",
          "x": "2.8.2020",
          "xref": "x",
          "y": "Санкт-Петербург",
          "yref": "y"
         },
         {
          "font": {
           "color": "#FFFFFF"
          },
          "showarrow": false,
          "text": "1.021",
          "x": "3.8.2020",
          "xref": "x",
          "y": "Санкт-Петербург",
          "yref": "y"
         },
         {
          "font": {
           "color": "#FFFFFF"
          },
          "showarrow": false,
          "text": "1.021",
          "x": "4.8.2020",
          "xref": "x",
          "y": "Санкт-Петербург",
          "yref": "y"
         },
         {
          "font": {
           "color": "#FFFFFF"
          },
          "showarrow": false,
          "text": "1.02",
          "x": "5.8.2020",
          "xref": "x",
          "y": "Санкт-Петербург",
          "yref": "y"
         },
         {
          "font": {
           "color": "#FFFFFF"
          },
          "showarrow": false,
          "text": "1.02",
          "x": "6.8.2020",
          "xref": "x",
          "y": "Санкт-Петербург",
          "yref": "y"
         },
         {
          "font": {
           "color": "#FFFFFF"
          },
          "showarrow": false,
          "text": "1.02",
          "x": "7.8.2020",
          "xref": "x",
          "y": "Санкт-Петербург",
          "yref": "y"
         },
         {
          "font": {
           "color": "#FFFFFF"
          },
          "showarrow": false,
          "text": "1.02",
          "x": "8.8.2020",
          "xref": "x",
          "y": "Санкт-Петербург",
          "yref": "y"
         },
         {
          "font": {
           "color": "#FFFFFF"
          },
          "showarrow": false,
          "text": "1.02",
          "x": "9.8.2020",
          "xref": "x",
          "y": "Санкт-Петербург",
          "yref": "y"
         },
         {
          "font": {
           "color": "#FFFFFF"
          },
          "showarrow": false,
          "text": "1.02",
          "x": "10.8.2020",
          "xref": "x",
          "y": "Санкт-Петербург",
          "yref": "y"
         },
         {
          "font": {
           "color": "#FFFFFF"
          },
          "showarrow": false,
          "text": "1.019",
          "x": "11.8.2020",
          "xref": "x",
          "y": "Санкт-Петербург",
          "yref": "y"
         },
         {
          "font": {
           "color": "#FFFFFF"
          },
          "showarrow": false,
          "text": "1.019",
          "x": "12.8.2020",
          "xref": "x",
          "y": "Санкт-Петербург",
          "yref": "y"
         },
         {
          "font": {
           "color": "#FFFFFF"
          },
          "showarrow": false,
          "text": "1.019",
          "x": "13.8.2020",
          "xref": "x",
          "y": "Санкт-Петербург",
          "yref": "y"
         },
         {
          "font": {
           "color": "#FFFFFF"
          },
          "showarrow": false,
          "text": "1.019",
          "x": "14.8.2020",
          "xref": "x",
          "y": "Санкт-Петербург",
          "yref": "y"
         },
         {
          "font": {
           "color": "#FFFFFF"
          },
          "showarrow": false,
          "text": "1.019",
          "x": "15.8.2020",
          "xref": "x",
          "y": "Санкт-Петербург",
          "yref": "y"
         },
         {
          "font": {
           "color": "#FFFFFF"
          },
          "showarrow": false,
          "text": "1.019",
          "x": "16.8.2020",
          "xref": "x",
          "y": "Санкт-Петербург",
          "yref": "y"
         },
         {
          "font": {
           "color": "#FFFFFF"
          },
          "showarrow": false,
          "text": "1.019",
          "x": "17.8.2020",
          "xref": "x",
          "y": "Санкт-Петербург",
          "yref": "y"
         },
         {
          "font": {
           "color": "#FFFFFF"
          },
          "showarrow": false,
          "text": "1.019",
          "x": "18.8.2020",
          "xref": "x",
          "y": "Санкт-Петербург",
          "yref": "y"
         },
         {
          "font": {
           "color": "#FFFFFF"
          },
          "showarrow": false,
          "text": "1.019",
          "x": "19.8.2020",
          "xref": "x",
          "y": "Санкт-Петербург",
          "yref": "y"
         },
         {
          "font": {
           "color": "#FFFFFF"
          },
          "showarrow": false,
          "text": "1.019",
          "x": "20.8.2020",
          "xref": "x",
          "y": "Санкт-Петербург",
          "yref": "y"
         },
         {
          "font": {
           "color": "#FFFFFF"
          },
          "showarrow": false,
          "text": "1.019",
          "x": "21.8.2020",
          "xref": "x",
          "y": "Санкт-Петербург",
          "yref": "y"
         },
         {
          "font": {
           "color": "#FFFFFF"
          },
          "showarrow": false,
          "text": "1.019",
          "x": "22.8.2020",
          "xref": "x",
          "y": "Санкт-Петербург",
          "yref": "y"
         },
         {
          "font": {
           "color": "#FFFFFF"
          },
          "showarrow": false,
          "text": "1.053",
          "x": "27.7.2020",
          "xref": "x",
          "y": "Свердловская обл.",
          "yref": "y"
         },
         {
          "font": {
           "color": "#FFFFFF"
          },
          "showarrow": false,
          "text": "1.053",
          "x": "28.7.2020",
          "xref": "x",
          "y": "Свердловская обл.",
          "yref": "y"
         },
         {
          "font": {
           "color": "#FFFFFF"
          },
          "showarrow": false,
          "text": "1.051",
          "x": "29.7.2020",
          "xref": "x",
          "y": "Свердловская обл.",
          "yref": "y"
         },
         {
          "font": {
           "color": "#FFFFFF"
          },
          "showarrow": false,
          "text": "1.049",
          "x": "30.7.2020",
          "xref": "x",
          "y": "Свердловская обл.",
          "yref": "y"
         },
         {
          "font": {
           "color": "#FFFFFF"
          },
          "showarrow": false,
          "text": "1.047",
          "x": "31.7.2020",
          "xref": "x",
          "y": "Свердловская обл.",
          "yref": "y"
         },
         {
          "font": {
           "color": "#FFFFFF"
          },
          "showarrow": false,
          "text": "1.045",
          "x": "1.8.2020",
          "xref": "x",
          "y": "Свердловская обл.",
          "yref": "y"
         },
         {
          "font": {
           "color": "#FFFFFF"
          },
          "showarrow": false,
          "text": "1.043",
          "x": "2.8.2020",
          "xref": "x",
          "y": "Свердловская обл.",
          "yref": "y"
         },
         {
          "font": {
           "color": "#FFFFFF"
          },
          "showarrow": false,
          "text": "1.042",
          "x": "3.8.2020",
          "xref": "x",
          "y": "Свердловская обл.",
          "yref": "y"
         },
         {
          "font": {
           "color": "#FFFFFF"
          },
          "showarrow": false,
          "text": "1.04",
          "x": "4.8.2020",
          "xref": "x",
          "y": "Свердловская обл.",
          "yref": "y"
         },
         {
          "font": {
           "color": "#FFFFFF"
          },
          "showarrow": false,
          "text": "1.039",
          "x": "5.8.2020",
          "xref": "x",
          "y": "Свердловская обл.",
          "yref": "y"
         },
         {
          "font": {
           "color": "#FFFFFF"
          },
          "showarrow": false,
          "text": "1.037",
          "x": "6.8.2020",
          "xref": "x",
          "y": "Свердловская обл.",
          "yref": "y"
         },
         {
          "font": {
           "color": "#FFFFFF"
          },
          "showarrow": false,
          "text": "1.036",
          "x": "7.8.2020",
          "xref": "x",
          "y": "Свердловская обл.",
          "yref": "y"
         },
         {
          "font": {
           "color": "#FFFFFF"
          },
          "showarrow": false,
          "text": "1.035",
          "x": "8.8.2020",
          "xref": "x",
          "y": "Свердловская обл.",
          "yref": "y"
         },
         {
          "font": {
           "color": "#FFFFFF"
          },
          "showarrow": false,
          "text": "1.034",
          "x": "9.8.2020",
          "xref": "x",
          "y": "Свердловская обл.",
          "yref": "y"
         },
         {
          "font": {
           "color": "#FFFFFF"
          },
          "showarrow": false,
          "text": "1.034",
          "x": "10.8.2020",
          "xref": "x",
          "y": "Свердловская обл.",
          "yref": "y"
         },
         {
          "font": {
           "color": "#FFFFFF"
          },
          "showarrow": false,
          "text": "1.033",
          "x": "11.8.2020",
          "xref": "x",
          "y": "Свердловская обл.",
          "yref": "y"
         },
         {
          "font": {
           "color": "#FFFFFF"
          },
          "showarrow": false,
          "text": "1.033",
          "x": "12.8.2020",
          "xref": "x",
          "y": "Свердловская обл.",
          "yref": "y"
         },
         {
          "font": {
           "color": "#FFFFFF"
          },
          "showarrow": false,
          "text": "1.032",
          "x": "13.8.2020",
          "xref": "x",
          "y": "Свердловская обл.",
          "yref": "y"
         },
         {
          "font": {
           "color": "#FFFFFF"
          },
          "showarrow": false,
          "text": "1.031",
          "x": "14.8.2020",
          "xref": "x",
          "y": "Свердловская обл.",
          "yref": "y"
         },
         {
          "font": {
           "color": "#FFFFFF"
          },
          "showarrow": false,
          "text": "1.03",
          "x": "15.8.2020",
          "xref": "x",
          "y": "Свердловская обл.",
          "yref": "y"
         },
         {
          "font": {
           "color": "#FFFFFF"
          },
          "showarrow": false,
          "text": "1.029",
          "x": "16.8.2020",
          "xref": "x",
          "y": "Свердловская обл.",
          "yref": "y"
         },
         {
          "font": {
           "color": "#FFFFFF"
          },
          "showarrow": false,
          "text": "1.028",
          "x": "17.8.2020",
          "xref": "x",
          "y": "Свердловская обл.",
          "yref": "y"
         },
         {
          "font": {
           "color": "#FFFFFF"
          },
          "showarrow": false,
          "text": "1.027",
          "x": "18.8.2020",
          "xref": "x",
          "y": "Свердловская обл.",
          "yref": "y"
         },
         {
          "font": {
           "color": "#FFFFFF"
          },
          "showarrow": false,
          "text": "1.026",
          "x": "19.8.2020",
          "xref": "x",
          "y": "Свердловская обл.",
          "yref": "y"
         },
         {
          "font": {
           "color": "#FFFFFF"
          },
          "showarrow": false,
          "text": "1.026",
          "x": "20.8.2020",
          "xref": "x",
          "y": "Свердловская обл.",
          "yref": "y"
         },
         {
          "font": {
           "color": "#FFFFFF"
          },
          "showarrow": false,
          "text": "1.025",
          "x": "21.8.2020",
          "xref": "x",
          "y": "Свердловская обл.",
          "yref": "y"
         },
         {
          "font": {
           "color": "#FFFFFF"
          },
          "showarrow": false,
          "text": "1.024",
          "x": "22.8.2020",
          "xref": "x",
          "y": "Свердловская обл.",
          "yref": "y"
         },
         {
          "font": {
           "color": "#FFFFFF"
          },
          "showarrow": false,
          "text": "1.051",
          "x": "27.7.2020",
          "xref": "x",
          "y": "Челябинская обл.",
          "yref": "y"
         },
         {
          "font": {
           "color": "#FFFFFF"
          },
          "showarrow": false,
          "text": "1.05",
          "x": "28.7.2020",
          "xref": "x",
          "y": "Челябинская обл.",
          "yref": "y"
         },
         {
          "font": {
           "color": "#FFFFFF"
          },
          "showarrow": false,
          "text": "1.049",
          "x": "29.7.2020",
          "xref": "x",
          "y": "Челябинская обл.",
          "yref": "y"
         },
         {
          "font": {
           "color": "#FFFFFF"
          },
          "showarrow": false,
          "text": "1.048",
          "x": "30.7.2020",
          "xref": "x",
          "y": "Челябинская обл.",
          "yref": "y"
         },
         {
          "font": {
           "color": "#FFFFFF"
          },
          "showarrow": false,
          "text": "1.047",
          "x": "31.7.2020",
          "xref": "x",
          "y": "Челябинская обл.",
          "yref": "y"
         },
         {
          "font": {
           "color": "#FFFFFF"
          },
          "showarrow": false,
          "text": "1.046",
          "x": "1.8.2020",
          "xref": "x",
          "y": "Челябинская обл.",
          "yref": "y"
         },
         {
          "font": {
           "color": "#FFFFFF"
          },
          "showarrow": false,
          "text": "1.044",
          "x": "2.8.2020",
          "xref": "x",
          "y": "Челябинская обл.",
          "yref": "y"
         },
         {
          "font": {
           "color": "#FFFFFF"
          },
          "showarrow": false,
          "text": "1.043",
          "x": "3.8.2020",
          "xref": "x",
          "y": "Челябинская обл.",
          "yref": "y"
         },
         {
          "font": {
           "color": "#FFFFFF"
          },
          "showarrow": false,
          "text": "1.041",
          "x": "4.8.2020",
          "xref": "x",
          "y": "Челябинская обл.",
          "yref": "y"
         },
         {
          "font": {
           "color": "#FFFFFF"
          },
          "showarrow": false,
          "text": "1.039",
          "x": "5.8.2020",
          "xref": "x",
          "y": "Челябинская обл.",
          "yref": "y"
         },
         {
          "font": {
           "color": "#FFFFFF"
          },
          "showarrow": false,
          "text": "1.038",
          "x": "6.8.2020",
          "xref": "x",
          "y": "Челябинская обл.",
          "yref": "y"
         },
         {
          "font": {
           "color": "#FFFFFF"
          },
          "showarrow": false,
          "text": "1.036",
          "x": "7.8.2020",
          "xref": "x",
          "y": "Челябинская обл.",
          "yref": "y"
         },
         {
          "font": {
           "color": "#FFFFFF"
          },
          "showarrow": false,
          "text": "1.035",
          "x": "8.8.2020",
          "xref": "x",
          "y": "Челябинская обл.",
          "yref": "y"
         },
         {
          "font": {
           "color": "#FFFFFF"
          },
          "showarrow": false,
          "text": "1.033",
          "x": "9.8.2020",
          "xref": "x",
          "y": "Челябинская обл.",
          "yref": "y"
         },
         {
          "font": {
           "color": "#FFFFFF"
          },
          "showarrow": false,
          "text": "1.032",
          "x": "10.8.2020",
          "xref": "x",
          "y": "Челябинская обл.",
          "yref": "y"
         },
         {
          "font": {
           "color": "#FFFFFF"
          },
          "showarrow": false,
          "text": "1.03",
          "x": "11.8.2020",
          "xref": "x",
          "y": "Челябинская обл.",
          "yref": "y"
         },
         {
          "font": {
           "color": "#FFFFFF"
          },
          "showarrow": false,
          "text": "1.03",
          "x": "12.8.2020",
          "xref": "x",
          "y": "Челябинская обл.",
          "yref": "y"
         },
         {
          "font": {
           "color": "#FFFFFF"
          },
          "showarrow": false,
          "text": "1.029",
          "x": "13.8.2020",
          "xref": "x",
          "y": "Челябинская обл.",
          "yref": "y"
         },
         {
          "font": {
           "color": "#FFFFFF"
          },
          "showarrow": false,
          "text": "1.029",
          "x": "14.8.2020",
          "xref": "x",
          "y": "Челябинская обл.",
          "yref": "y"
         },
         {
          "font": {
           "color": "#FFFFFF"
          },
          "showarrow": false,
          "text": "1.028",
          "x": "15.8.2020",
          "xref": "x",
          "y": "Челябинская обл.",
          "yref": "y"
         },
         {
          "font": {
           "color": "#FFFFFF"
          },
          "showarrow": false,
          "text": "1.027",
          "x": "16.8.2020",
          "xref": "x",
          "y": "Челябинская обл.",
          "yref": "y"
         },
         {
          "font": {
           "color": "#FFFFFF"
          },
          "showarrow": false,
          "text": "1.026",
          "x": "17.8.2020",
          "xref": "x",
          "y": "Челябинская обл.",
          "yref": "y"
         },
         {
          "font": {
           "color": "#FFFFFF"
          },
          "showarrow": false,
          "text": "1.025",
          "x": "18.8.2020",
          "xref": "x",
          "y": "Челябинская обл.",
          "yref": "y"
         },
         {
          "font": {
           "color": "#FFFFFF"
          },
          "showarrow": false,
          "text": "1.024",
          "x": "19.8.2020",
          "xref": "x",
          "y": "Челябинская обл.",
          "yref": "y"
         },
         {
          "font": {
           "color": "#FFFFFF"
          },
          "showarrow": false,
          "text": "1.023",
          "x": "20.8.2020",
          "xref": "x",
          "y": "Челябинская обл.",
          "yref": "y"
         },
         {
          "font": {
           "color": "#FFFFFF"
          },
          "showarrow": false,
          "text": "1.023",
          "x": "21.8.2020",
          "xref": "x",
          "y": "Челябинская обл.",
          "yref": "y"
         },
         {
          "font": {
           "color": "#FFFFFF"
          },
          "showarrow": false,
          "text": "1.022",
          "x": "22.8.2020",
          "xref": "x",
          "y": "Челябинская обл.",
          "yref": "y"
         }
        ],
        "height": 600,
        "template": {
         "data": {
          "bar": [
           {
            "error_x": {
             "color": "#2a3f5f"
            },
            "error_y": {
             "color": "#2a3f5f"
            },
            "marker": {
             "line": {
              "color": "#E5ECF6",
              "width": 0.5
             }
            },
            "type": "bar"
           }
          ],
          "barpolar": [
           {
            "marker": {
             "line": {
              "color": "#E5ECF6",
              "width": 0.5
             }
            },
            "type": "barpolar"
           }
          ],
          "carpet": [
           {
            "aaxis": {
             "endlinecolor": "#2a3f5f",
             "gridcolor": "white",
             "linecolor": "white",
             "minorgridcolor": "white",
             "startlinecolor": "#2a3f5f"
            },
            "baxis": {
             "endlinecolor": "#2a3f5f",
             "gridcolor": "white",
             "linecolor": "white",
             "minorgridcolor": "white",
             "startlinecolor": "#2a3f5f"
            },
            "type": "carpet"
           }
          ],
          "choropleth": [
           {
            "colorbar": {
             "outlinewidth": 0,
             "ticks": ""
            },
            "type": "choropleth"
           }
          ],
          "contour": [
           {
            "colorbar": {
             "outlinewidth": 0,
             "ticks": ""
            },
            "colorscale": [
             [
              0,
              "#0d0887"
             ],
             [
              0.1111111111111111,
              "#46039f"
             ],
             [
              0.2222222222222222,
              "#7201a8"
             ],
             [
              0.3333333333333333,
              "#9c179e"
             ],
             [
              0.4444444444444444,
              "#bd3786"
             ],
             [
              0.5555555555555556,
              "#d8576b"
             ],
             [
              0.6666666666666666,
              "#ed7953"
             ],
             [
              0.7777777777777778,
              "#fb9f3a"
             ],
             [
              0.8888888888888888,
              "#fdca26"
             ],
             [
              1,
              "#f0f921"
             ]
            ],
            "type": "contour"
           }
          ],
          "contourcarpet": [
           {
            "colorbar": {
             "outlinewidth": 0,
             "ticks": ""
            },
            "type": "contourcarpet"
           }
          ],
          "heatmap": [
           {
            "colorbar": {
             "outlinewidth": 0,
             "ticks": ""
            },
            "colorscale": [
             [
              0,
              "#0d0887"
             ],
             [
              0.1111111111111111,
              "#46039f"
             ],
             [
              0.2222222222222222,
              "#7201a8"
             ],
             [
              0.3333333333333333,
              "#9c179e"
             ],
             [
              0.4444444444444444,
              "#bd3786"
             ],
             [
              0.5555555555555556,
              "#d8576b"
             ],
             [
              0.6666666666666666,
              "#ed7953"
             ],
             [
              0.7777777777777778,
              "#fb9f3a"
             ],
             [
              0.8888888888888888,
              "#fdca26"
             ],
             [
              1,
              "#f0f921"
             ]
            ],
            "type": "heatmap"
           }
          ],
          "heatmapgl": [
           {
            "colorbar": {
             "outlinewidth": 0,
             "ticks": ""
            },
            "colorscale": [
             [
              0,
              "#0d0887"
             ],
             [
              0.1111111111111111,
              "#46039f"
             ],
             [
              0.2222222222222222,
              "#7201a8"
             ],
             [
              0.3333333333333333,
              "#9c179e"
             ],
             [
              0.4444444444444444,
              "#bd3786"
             ],
             [
              0.5555555555555556,
              "#d8576b"
             ],
             [
              0.6666666666666666,
              "#ed7953"
             ],
             [
              0.7777777777777778,
              "#fb9f3a"
             ],
             [
              0.8888888888888888,
              "#fdca26"
             ],
             [
              1,
              "#f0f921"
             ]
            ],
            "type": "heatmapgl"
           }
          ],
          "histogram": [
           {
            "marker": {
             "colorbar": {
              "outlinewidth": 0,
              "ticks": ""
             }
            },
            "type": "histogram"
           }
          ],
          "histogram2d": [
           {
            "colorbar": {
             "outlinewidth": 0,
             "ticks": ""
            },
            "colorscale": [
             [
              0,
              "#0d0887"
             ],
             [
              0.1111111111111111,
              "#46039f"
             ],
             [
              0.2222222222222222,
              "#7201a8"
             ],
             [
              0.3333333333333333,
              "#9c179e"
             ],
             [
              0.4444444444444444,
              "#bd3786"
             ],
             [
              0.5555555555555556,
              "#d8576b"
             ],
             [
              0.6666666666666666,
              "#ed7953"
             ],
             [
              0.7777777777777778,
              "#fb9f3a"
             ],
             [
              0.8888888888888888,
              "#fdca26"
             ],
             [
              1,
              "#f0f921"
             ]
            ],
            "type": "histogram2d"
           }
          ],
          "histogram2dcontour": [
           {
            "colorbar": {
             "outlinewidth": 0,
             "ticks": ""
            },
            "colorscale": [
             [
              0,
              "#0d0887"
             ],
             [
              0.1111111111111111,
              "#46039f"
             ],
             [
              0.2222222222222222,
              "#7201a8"
             ],
             [
              0.3333333333333333,
              "#9c179e"
             ],
             [
              0.4444444444444444,
              "#bd3786"
             ],
             [
              0.5555555555555556,
              "#d8576b"
             ],
             [
              0.6666666666666666,
              "#ed7953"
             ],
             [
              0.7777777777777778,
              "#fb9f3a"
             ],
             [
              0.8888888888888888,
              "#fdca26"
             ],
             [
              1,
              "#f0f921"
             ]
            ],
            "type": "histogram2dcontour"
           }
          ],
          "mesh3d": [
           {
            "colorbar": {
             "outlinewidth": 0,
             "ticks": ""
            },
            "type": "mesh3d"
           }
          ],
          "parcoords": [
           {
            "line": {
             "colorbar": {
              "outlinewidth": 0,
              "ticks": ""
             }
            },
            "type": "parcoords"
           }
          ],
          "pie": [
           {
            "automargin": true,
            "type": "pie"
           }
          ],
          "scatter": [
           {
            "marker": {
             "colorbar": {
              "outlinewidth": 0,
              "ticks": ""
             }
            },
            "type": "scatter"
           }
          ],
          "scatter3d": [
           {
            "line": {
             "colorbar": {
              "outlinewidth": 0,
              "ticks": ""
             }
            },
            "marker": {
             "colorbar": {
              "outlinewidth": 0,
              "ticks": ""
             }
            },
            "type": "scatter3d"
           }
          ],
          "scattercarpet": [
           {
            "marker": {
             "colorbar": {
              "outlinewidth": 0,
              "ticks": ""
             }
            },
            "type": "scattercarpet"
           }
          ],
          "scattergeo": [
           {
            "marker": {
             "colorbar": {
              "outlinewidth": 0,
              "ticks": ""
             }
            },
            "type": "scattergeo"
           }
          ],
          "scattergl": [
           {
            "marker": {
             "colorbar": {
              "outlinewidth": 0,
              "ticks": ""
             }
            },
            "type": "scattergl"
           }
          ],
          "scattermapbox": [
           {
            "marker": {
             "colorbar": {
              "outlinewidth": 0,
              "ticks": ""
             }
            },
            "type": "scattermapbox"
           }
          ],
          "scatterpolar": [
           {
            "marker": {
             "colorbar": {
              "outlinewidth": 0,
              "ticks": ""
             }
            },
            "type": "scatterpolar"
           }
          ],
          "scatterpolargl": [
           {
            "marker": {
             "colorbar": {
              "outlinewidth": 0,
              "ticks": ""
             }
            },
            "type": "scatterpolargl"
           }
          ],
          "scatterternary": [
           {
            "marker": {
             "colorbar": {
              "outlinewidth": 0,
              "ticks": ""
             }
            },
            "type": "scatterternary"
           }
          ],
          "surface": [
           {
            "colorbar": {
             "outlinewidth": 0,
             "ticks": ""
            },
            "colorscale": [
             [
              0,
              "#0d0887"
             ],
             [
              0.1111111111111111,
              "#46039f"
             ],
             [
              0.2222222222222222,
              "#7201a8"
             ],
             [
              0.3333333333333333,
              "#9c179e"
             ],
             [
              0.4444444444444444,
              "#bd3786"
             ],
             [
              0.5555555555555556,
              "#d8576b"
             ],
             [
              0.6666666666666666,
              "#ed7953"
             ],
             [
              0.7777777777777778,
              "#fb9f3a"
             ],
             [
              0.8888888888888888,
              "#fdca26"
             ],
             [
              1,
              "#f0f921"
             ]
            ],
            "type": "surface"
           }
          ],
          "table": [
           {
            "cells": {
             "fill": {
              "color": "#EBF0F8"
             },
             "line": {
              "color": "white"
             }
            },
            "header": {
             "fill": {
              "color": "#C8D4E3"
             },
             "line": {
              "color": "white"
             }
            },
            "type": "table"
           }
          ]
         },
         "layout": {
          "annotationdefaults": {
           "arrowcolor": "#2a3f5f",
           "arrowhead": 0,
           "arrowwidth": 1
          },
          "coloraxis": {
           "colorbar": {
            "outlinewidth": 0,
            "ticks": ""
           }
          },
          "colorscale": {
           "diverging": [
            [
             0,
             "#8e0152"
            ],
            [
             0.1,
             "#c51b7d"
            ],
            [
             0.2,
             "#de77ae"
            ],
            [
             0.3,
             "#f1b6da"
            ],
            [
             0.4,
             "#fde0ef"
            ],
            [
             0.5,
             "#f7f7f7"
            ],
            [
             0.6,
             "#e6f5d0"
            ],
            [
             0.7,
             "#b8e186"
            ],
            [
             0.8,
             "#7fbc41"
            ],
            [
             0.9,
             "#4d9221"
            ],
            [
             1,
             "#276419"
            ]
           ],
           "sequential": [
            [
             0,
             "#0d0887"
            ],
            [
             0.1111111111111111,
             "#46039f"
            ],
            [
             0.2222222222222222,
             "#7201a8"
            ],
            [
             0.3333333333333333,
             "#9c179e"
            ],
            [
             0.4444444444444444,
             "#bd3786"
            ],
            [
             0.5555555555555556,
             "#d8576b"
            ],
            [
             0.6666666666666666,
             "#ed7953"
            ],
            [
             0.7777777777777778,
             "#fb9f3a"
            ],
            [
             0.8888888888888888,
             "#fdca26"
            ],
            [
             1,
             "#f0f921"
            ]
           ],
           "sequentialminus": [
            [
             0,
             "#0d0887"
            ],
            [
             0.1111111111111111,
             "#46039f"
            ],
            [
             0.2222222222222222,
             "#7201a8"
            ],
            [
             0.3333333333333333,
             "#9c179e"
            ],
            [
             0.4444444444444444,
             "#bd3786"
            ],
            [
             0.5555555555555556,
             "#d8576b"
            ],
            [
             0.6666666666666666,
             "#ed7953"
            ],
            [
             0.7777777777777778,
             "#fb9f3a"
            ],
            [
             0.8888888888888888,
             "#fdca26"
            ],
            [
             1,
             "#f0f921"
            ]
           ]
          },
          "colorway": [
           "#636efa",
           "#EF553B",
           "#00cc96",
           "#ab63fa",
           "#FFA15A",
           "#19d3f3",
           "#FF6692",
           "#B6E880",
           "#FF97FF",
           "#FECB52"
          ],
          "font": {
           "color": "#2a3f5f"
          },
          "geo": {
           "bgcolor": "white",
           "lakecolor": "white",
           "landcolor": "#E5ECF6",
           "showlakes": true,
           "showland": true,
           "subunitcolor": "white"
          },
          "hoverlabel": {
           "align": "left"
          },
          "hovermode": "closest",
          "mapbox": {
           "style": "light"
          },
          "paper_bgcolor": "white",
          "plot_bgcolor": "#E5ECF6",
          "polar": {
           "angularaxis": {
            "gridcolor": "white",
            "linecolor": "white",
            "ticks": ""
           },
           "bgcolor": "#E5ECF6",
           "radialaxis": {
            "gridcolor": "white",
            "linecolor": "white",
            "ticks": ""
           }
          },
          "scene": {
           "xaxis": {
            "backgroundcolor": "#E5ECF6",
            "gridcolor": "white",
            "gridwidth": 2,
            "linecolor": "white",
            "showbackground": true,
            "ticks": "",
            "zerolinecolor": "white"
           },
           "yaxis": {
            "backgroundcolor": "#E5ECF6",
            "gridcolor": "white",
            "gridwidth": 2,
            "linecolor": "white",
            "showbackground": true,
            "ticks": "",
            "zerolinecolor": "white"
           },
           "zaxis": {
            "backgroundcolor": "#E5ECF6",
            "gridcolor": "white",
            "gridwidth": 2,
            "linecolor": "white",
            "showbackground": true,
            "ticks": "",
            "zerolinecolor": "white"
           }
          },
          "shapedefaults": {
           "line": {
            "color": "#2a3f5f"
           }
          },
          "ternary": {
           "aaxis": {
            "gridcolor": "white",
            "linecolor": "white",
            "ticks": ""
           },
           "baxis": {
            "gridcolor": "white",
            "linecolor": "white",
            "ticks": ""
           },
           "bgcolor": "#E5ECF6",
           "caxis": {
            "gridcolor": "white",
            "linecolor": "white",
            "ticks": ""
           }
          },
          "title": {
           "x": 0.05
          },
          "xaxis": {
           "automargin": true,
           "gridcolor": "white",
           "linecolor": "white",
           "ticks": "",
           "title": {
            "standoff": 15
           },
           "zerolinecolor": "white",
           "zerolinewidth": 2
          },
          "yaxis": {
           "automargin": true,
           "gridcolor": "white",
           "linecolor": "white",
           "ticks": "",
           "title": {
            "standoff": 15
           },
           "zerolinecolor": "white",
           "zerolinewidth": 2
          }
         }
        },
        "width": 990,
        "xaxis": {
         "dtick": 1,
         "gridcolor": "rgb(0, 0, 0)",
         "side": "top",
         "ticks": "",
         "title": {
          "text": "Динамика коэффициента распространения Rt2 по регионам"
         }
        },
        "yaxis": {
         "dtick": 1,
         "ticks": "",
         "ticksuffix": "  "
        }
       }
      }
     },
     "metadata": {}
    }
   ],
   "source": [
    "fig = ff.create_annotated_heatmap(d, x=x2, y=y, annotation_text=d,\n",
    "                                  colorscale='Temps')\n",
    "\n",
    "fig.update_layout(\n",
    "                  \n",
    "                  \n",
    "                  width = 990, height = 600,    \n",
    "    \n",
    "                  xaxis_title='Динамика коэффициента распространения Rt2 по регионам',\n",
    "               #   yaxis_title = 'Регион '\n",
    ")\n",
    "\n",
    "fig.show()\n"
   ]
  },
  {
   "cell_type": "code",
   "execution_count": 25,
   "metadata": {},
   "outputs": [
    {
     "output_type": "execute_result",
     "data": {
      "text/plain": "Date             Region  2020-07-27  2020-07-28  2020-07-29  2020-07-30  \\\n0                Москва         694         674         671         678   \n1       Московская обл.         139         126         137         144   \n2                Россия        5635        5395        5475        5509   \n3       Санкт-Петербург         172         168         165         162   \n4     Свердловская обл.         252         209         223         215   \n\nDate  2020-07-31  2020-08-01  2020-08-02  2020-08-03  2020-08-04  ...  \\\n0            695         690         664         693         691  ...   \n1            150         149         157         160         161  ...   \n2           5482        5462        5427        5394        5159  ...   \n3            159         161         163         160         158  ...   \n4            210         202         199         196         182  ...   \n\nDate  2020-08-13  2020-08-14  2020-08-15  2020-08-16  2020-08-17  2020-08-18  \\\n0            692         688         695         688         690         693   \n1            148         156         153         154         153         145   \n2           5057        5065        5061        4969        4892        4748   \n3            160         159         162         163         159         157   \n4            162         154         158         150         141         149   \n\nDate  2020-08-19  2020-08-20  2020-08-21  2020-08-22  \n0            691         688         690         687  \n1            151         157         151         161  \n2           4828        4785        4870        4921  \n3            162         160         181         183  \n4            147         139         124         121  \n\n[5 rows x 28 columns]",
      "text/html": "<div>\n<style scoped>\n    .dataframe tbody tr th:only-of-type {\n        vertical-align: middle;\n    }\n\n    .dataframe tbody tr th {\n        vertical-align: top;\n    }\n\n    .dataframe thead th {\n        text-align: right;\n    }\n</style>\n<table border=\"1\" class=\"dataframe\">\n  <thead>\n    <tr style=\"text-align: right;\">\n      <th>Date</th>\n      <th>Region</th>\n      <th>2020-07-27</th>\n      <th>2020-07-28</th>\n      <th>2020-07-29</th>\n      <th>2020-07-30</th>\n      <th>2020-07-31</th>\n      <th>2020-08-01</th>\n      <th>2020-08-02</th>\n      <th>2020-08-03</th>\n      <th>2020-08-04</th>\n      <th>...</th>\n      <th>2020-08-13</th>\n      <th>2020-08-14</th>\n      <th>2020-08-15</th>\n      <th>2020-08-16</th>\n      <th>2020-08-17</th>\n      <th>2020-08-18</th>\n      <th>2020-08-19</th>\n      <th>2020-08-20</th>\n      <th>2020-08-21</th>\n      <th>2020-08-22</th>\n    </tr>\n  </thead>\n  <tbody>\n    <tr>\n      <th>0</th>\n      <td>Москва</td>\n      <td>694</td>\n      <td>674</td>\n      <td>671</td>\n      <td>678</td>\n      <td>695</td>\n      <td>690</td>\n      <td>664</td>\n      <td>693</td>\n      <td>691</td>\n      <td>...</td>\n      <td>692</td>\n      <td>688</td>\n      <td>695</td>\n      <td>688</td>\n      <td>690</td>\n      <td>693</td>\n      <td>691</td>\n      <td>688</td>\n      <td>690</td>\n      <td>687</td>\n    </tr>\n    <tr>\n      <th>1</th>\n      <td>Московская обл.</td>\n      <td>139</td>\n      <td>126</td>\n      <td>137</td>\n      <td>144</td>\n      <td>150</td>\n      <td>149</td>\n      <td>157</td>\n      <td>160</td>\n      <td>161</td>\n      <td>...</td>\n      <td>148</td>\n      <td>156</td>\n      <td>153</td>\n      <td>154</td>\n      <td>153</td>\n      <td>145</td>\n      <td>151</td>\n      <td>157</td>\n      <td>151</td>\n      <td>161</td>\n    </tr>\n    <tr>\n      <th>2</th>\n      <td>Россия</td>\n      <td>5635</td>\n      <td>5395</td>\n      <td>5475</td>\n      <td>5509</td>\n      <td>5482</td>\n      <td>5462</td>\n      <td>5427</td>\n      <td>5394</td>\n      <td>5159</td>\n      <td>...</td>\n      <td>5057</td>\n      <td>5065</td>\n      <td>5061</td>\n      <td>4969</td>\n      <td>4892</td>\n      <td>4748</td>\n      <td>4828</td>\n      <td>4785</td>\n      <td>4870</td>\n      <td>4921</td>\n    </tr>\n    <tr>\n      <th>3</th>\n      <td>Санкт-Петербург</td>\n      <td>172</td>\n      <td>168</td>\n      <td>165</td>\n      <td>162</td>\n      <td>159</td>\n      <td>161</td>\n      <td>163</td>\n      <td>160</td>\n      <td>158</td>\n      <td>...</td>\n      <td>160</td>\n      <td>159</td>\n      <td>162</td>\n      <td>163</td>\n      <td>159</td>\n      <td>157</td>\n      <td>162</td>\n      <td>160</td>\n      <td>181</td>\n      <td>183</td>\n    </tr>\n    <tr>\n      <th>4</th>\n      <td>Свердловская обл.</td>\n      <td>252</td>\n      <td>209</td>\n      <td>223</td>\n      <td>215</td>\n      <td>210</td>\n      <td>202</td>\n      <td>199</td>\n      <td>196</td>\n      <td>182</td>\n      <td>...</td>\n      <td>162</td>\n      <td>154</td>\n      <td>158</td>\n      <td>150</td>\n      <td>141</td>\n      <td>149</td>\n      <td>147</td>\n      <td>139</td>\n      <td>124</td>\n      <td>121</td>\n    </tr>\n  </tbody>\n</table>\n<p>5 rows × 28 columns</p>\n</div>"
     },
     "metadata": {},
     "execution_count": 25
    }
   ],
   "source": [
    "mask = (X.Date>=datetime.date(2020,7,27))&(X.Region.isin(regions_towatch))\n",
    "\n",
    "Z = X[mask].groupby(['Region','Date'])['Day_confirmed'].sum().unstack().reset_index()\n",
    "Z.dropna(inplace=True)\n",
    "d = Z.drop('Region',axis = 1).values\n",
    "Z.head()"
   ]
  },
  {
   "cell_type": "code",
   "execution_count": 26,
   "metadata": {
    "tags": []
   },
   "outputs": [
    {
     "output_type": "stream",
     "name": "stdout",
     "text": "['27.7.2020', '28.7.2020', '29.7.2020', '30.7.2020', '31.7.2020', '1.8.2020', '2.8.2020', '3.8.2020', '4.8.2020', '5.8.2020', '6.8.2020', '7.8.2020', '8.8.2020', '9.8.2020', '10.8.2020', '11.8.2020', '12.8.2020', '13.8.2020', '14.8.2020', '15.8.2020', '16.8.2020', '17.8.2020', '18.8.2020', '19.8.2020', '20.8.2020', '21.8.2020', '22.8.2020']\n"
    }
   ],
   "source": [
    "\n",
    "\n",
    "\n",
    "x1=list(Z.columns[1:])\n",
    "y=list(Z.Region)\n",
    "x2=[]\n",
    "for i in x1:\n",
    "    x2.append(str(i.day)+'.'+str(i.month)+\".\"+str(i.year))\n",
    "    \n",
    "print(x2)\n"
   ]
  },
  {
   "cell_type": "code",
   "execution_count": 27,
   "metadata": {},
   "outputs": [
    {
     "output_type": "display_data",
     "data": {
      "application/vnd.plotly.v1+json": {
       "config": {
        "plotlyServerURL": "https://plot.ly"
       },
       "data": [
        {
         "colorscale": [
          [
           0,
           "rgb(0, 147, 146)"
          ],
          [
           0.16666666666666666,
           "rgb(57, 177, 133)"
          ],
          [
           0.3333333333333333,
           "rgb(156, 203, 134)"
          ],
          [
           0.5,
           "rgb(233, 226, 156)"
          ],
          [
           0.6666666666666666,
           "rgb(238, 180, 121)"
          ],
          [
           0.8333333333333334,
           "rgb(232, 132, 113)"
          ],
          [
           1,
           "rgb(207, 89, 126)"
          ]
         ],
         "reversescale": false,
         "showscale": false,
         "type": "heatmap",
         "x": [
          "27.7.2020",
          "28.7.2020",
          "29.7.2020",
          "30.7.2020",
          "31.7.2020",
          "1.8.2020",
          "2.8.2020",
          "3.8.2020",
          "4.8.2020",
          "5.8.2020",
          "6.8.2020",
          "7.8.2020",
          "8.8.2020",
          "9.8.2020",
          "10.8.2020",
          "11.8.2020",
          "12.8.2020",
          "13.8.2020",
          "14.8.2020",
          "15.8.2020",
          "16.8.2020",
          "17.8.2020",
          "18.8.2020",
          "19.8.2020",
          "20.8.2020",
          "21.8.2020",
          "22.8.2020"
         ],
         "y": [
          "Москва",
          "Московская обл.",
          "Россия",
          "Санкт-Петербург",
          "Свердловская обл.",
          "Челябинская обл."
         ],
         "z": [
          [
           694,
           674,
           671,
           678,
           695,
           690,
           664,
           693,
           691,
           687,
           684,
           686,
           691,
           689,
           694,
           694,
           689,
           692,
           688,
           695,
           688,
           690,
           693,
           691,
           688,
           690,
           687
          ],
          [
           139,
           126,
           137,
           144,
           150,
           149,
           157,
           160,
           161,
           162,
           159,
           158,
           161,
           149,
           153,
           154,
           152,
           148,
           156,
           153,
           154,
           153,
           145,
           151,
           157,
           151,
           161
          ],
          [
           5635,
           5395,
           5475,
           5509,
           5482,
           5462,
           5427,
           5394,
           5159,
           5204,
           5267,
           5241,
           5212,
           5189,
           5118,
           4945,
           5102,
           5057,
           5065,
           5061,
           4969,
           4892,
           4748,
           4828,
           4785,
           4870,
           4921
          ],
          [
           172,
           168,
           165,
           162,
           159,
           161,
           163,
           160,
           158,
           156,
           159,
           157,
           155,
           160,
           157,
           157,
           161,
           160,
           159,
           162,
           163,
           159,
           157,
           162,
           160,
           181,
           183
          ],
          [
           252,
           209,
           223,
           215,
           210,
           202,
           199,
           196,
           182,
           181,
           183,
           180,
           178,
           184,
           179,
           168,
           167,
           162,
           154,
           158,
           150,
           141,
           149,
           147,
           139,
           124,
           121
          ],
          [
           128,
           124,
           125,
           119,
           117,
           110,
           109,
           107,
           105,
           103,
           92,
           89,
           87,
           94,
           83,
           85,
           88,
           84,
           80,
           76,
           79,
           69,
           67,
           71,
           71,
           73,
           71
          ]
         ]
        }
       ],
       "layout": {
        "annotations": [
         {
          "font": {
           "color": "#FFFFFF"
          },
          "showarrow": false,
          "text": "694",
          "x": "27.7.2020",
          "xref": "x",
          "y": "Москва",
          "yref": "y"
         },
         {
          "font": {
           "color": "#FFFFFF"
          },
          "showarrow": false,
          "text": "674",
          "x": "28.7.2020",
          "xref": "x",
          "y": "Москва",
          "yref": "y"
         },
         {
          "font": {
           "color": "#FFFFFF"
          },
          "showarrow": false,
          "text": "671",
          "x": "29.7.2020",
          "xref": "x",
          "y": "Москва",
          "yref": "y"
         },
         {
          "font": {
           "color": "#FFFFFF"
          },
          "showarrow": false,
          "text": "678",
          "x": "30.7.2020",
          "xref": "x",
          "y": "Москва",
          "yref": "y"
         },
         {
          "font": {
           "color": "#FFFFFF"
          },
          "showarrow": false,
          "text": "695",
          "x": "31.7.2020",
          "xref": "x",
          "y": "Москва",
          "yref": "y"
         },
         {
          "font": {
           "color": "#FFFFFF"
          },
          "showarrow": false,
          "text": "690",
          "x": "1.8.2020",
          "xref": "x",
          "y": "Москва",
          "yref": "y"
         },
         {
          "font": {
           "color": "#FFFFFF"
          },
          "showarrow": false,
          "text": "664",
          "x": "2.8.2020",
          "xref": "x",
          "y": "Москва",
          "yref": "y"
         },
         {
          "font": {
           "color": "#FFFFFF"
          },
          "showarrow": false,
          "text": "693",
          "x": "3.8.2020",
          "xref": "x",
          "y": "Москва",
          "yref": "y"
         },
         {
          "font": {
           "color": "#FFFFFF"
          },
          "showarrow": false,
          "text": "691",
          "x": "4.8.2020",
          "xref": "x",
          "y": "Москва",
          "yref": "y"
         },
         {
          "font": {
           "color": "#FFFFFF"
          },
          "showarrow": false,
          "text": "687",
          "x": "5.8.2020",
          "xref": "x",
          "y": "Москва",
          "yref": "y"
         },
         {
          "font": {
           "color": "#FFFFFF"
          },
          "showarrow": false,
          "text": "684",
          "x": "6.8.2020",
          "xref": "x",
          "y": "Москва",
          "yref": "y"
         },
         {
          "font": {
           "color": "#FFFFFF"
          },
          "showarrow": false,
          "text": "686",
          "x": "7.8.2020",
          "xref": "x",
          "y": "Москва",
          "yref": "y"
         },
         {
          "font": {
           "color": "#FFFFFF"
          },
          "showarrow": false,
          "text": "691",
          "x": "8.8.2020",
          "xref": "x",
          "y": "Москва",
          "yref": "y"
         },
         {
          "font": {
           "color": "#FFFFFF"
          },
          "showarrow": false,
          "text": "689",
          "x": "9.8.2020",
          "xref": "x",
          "y": "Москва",
          "yref": "y"
         },
         {
          "font": {
           "color": "#FFFFFF"
          },
          "showarrow": false,
          "text": "694",
          "x": "10.8.2020",
          "xref": "x",
          "y": "Москва",
          "yref": "y"
         },
         {
          "font": {
           "color": "#FFFFFF"
          },
          "showarrow": false,
          "text": "694",
          "x": "11.8.2020",
          "xref": "x",
          "y": "Москва",
          "yref": "y"
         },
         {
          "font": {
           "color": "#FFFFFF"
          },
          "showarrow": false,
          "text": "689",
          "x": "12.8.2020",
          "xref": "x",
          "y": "Москва",
          "yref": "y"
         },
         {
          "font": {
           "color": "#FFFFFF"
          },
          "showarrow": false,
          "text": "692",
          "x": "13.8.2020",
          "xref": "x",
          "y": "Москва",
          "yref": "y"
         },
         {
          "font": {
           "color": "#FFFFFF"
          },
          "showarrow": false,
          "text": "688",
          "x": "14.8.2020",
          "xref": "x",
          "y": "Москва",
          "yref": "y"
         },
         {
          "font": {
           "color": "#FFFFFF"
          },
          "showarrow": false,
          "text": "695",
          "x": "15.8.2020",
          "xref": "x",
          "y": "Москва",
          "yref": "y"
         },
         {
          "font": {
           "color": "#FFFFFF"
          },
          "showarrow": false,
          "text": "688",
          "x": "16.8.2020",
          "xref": "x",
          "y": "Москва",
          "yref": "y"
         },
         {
          "font": {
           "color": "#FFFFFF"
          },
          "showarrow": false,
          "text": "690",
          "x": "17.8.2020",
          "xref": "x",
          "y": "Москва",
          "yref": "y"
         },
         {
          "font": {
           "color": "#FFFFFF"
          },
          "showarrow": false,
          "text": "693",
          "x": "18.8.2020",
          "xref": "x",
          "y": "Москва",
          "yref": "y"
         },
         {
          "font": {
           "color": "#FFFFFF"
          },
          "showarrow": false,
          "text": "691",
          "x": "19.8.2020",
          "xref": "x",
          "y": "Москва",
          "yref": "y"
         },
         {
          "font": {
           "color": "#FFFFFF"
          },
          "showarrow": false,
          "text": "688",
          "x": "20.8.2020",
          "xref": "x",
          "y": "Москва",
          "yref": "y"
         },
         {
          "font": {
           "color": "#FFFFFF"
          },
          "showarrow": false,
          "text": "690",
          "x": "21.8.2020",
          "xref": "x",
          "y": "Москва",
          "yref": "y"
         },
         {
          "font": {
           "color": "#FFFFFF"
          },
          "showarrow": false,
          "text": "687",
          "x": "22.8.2020",
          "xref": "x",
          "y": "Москва",
          "yref": "y"
         },
         {
          "font": {
           "color": "#FFFFFF"
          },
          "showarrow": false,
          "text": "139",
          "x": "27.7.2020",
          "xref": "x",
          "y": "Московская обл.",
          "yref": "y"
         },
         {
          "font": {
           "color": "#FFFFFF"
          },
          "showarrow": false,
          "text": "126",
          "x": "28.7.2020",
          "xref": "x",
          "y": "Московская обл.",
          "yref": "y"
         },
         {
          "font": {
           "color": "#FFFFFF"
          },
          "showarrow": false,
          "text": "137",
          "x": "29.7.2020",
          "xref": "x",
          "y": "Московская обл.",
          "yref": "y"
         },
         {
          "font": {
           "color": "#FFFFFF"
          },
          "showarrow": false,
          "text": "144",
          "x": "30.7.2020",
          "xref": "x",
          "y": "Московская обл.",
          "yref": "y"
         },
         {
          "font": {
           "color": "#FFFFFF"
          },
          "showarrow": false,
          "text": "150",
          "x": "31.7.2020",
          "xref": "x",
          "y": "Московская обл.",
          "yref": "y"
         },
         {
          "font": {
           "color": "#FFFFFF"
          },
          "showarrow": false,
          "text": "149",
          "x": "1.8.2020",
          "xref": "x",
          "y": "Московская обл.",
          "yref": "y"
         },
         {
          "font": {
           "color": "#FFFFFF"
          },
          "showarrow": false,
          "text": "157",
          "x": "2.8.2020",
          "xref": "x",
          "y": "Московская обл.",
          "yref": "y"
         },
         {
          "font": {
           "color": "#FFFFFF"
          },
          "showarrow": false,
          "text": "160",
          "x": "3.8.2020",
          "xref": "x",
          "y": "Московская обл.",
          "yref": "y"
         },
         {
          "font": {
           "color": "#FFFFFF"
          },
          "showarrow": false,
          "text": "161",
          "x": "4.8.2020",
          "xref": "x",
          "y": "Московская обл.",
          "yref": "y"
         },
         {
          "font": {
           "color": "#FFFFFF"
          },
          "showarrow": false,
          "text": "162",
          "x": "5.8.2020",
          "xref": "x",
          "y": "Московская обл.",
          "yref": "y"
         },
         {
          "font": {
           "color": "#FFFFFF"
          },
          "showarrow": false,
          "text": "159",
          "x": "6.8.2020",
          "xref": "x",
          "y": "Московская обл.",
          "yref": "y"
         },
         {
          "font": {
           "color": "#FFFFFF"
          },
          "showarrow": false,
          "text": "158",
          "x": "7.8.2020",
          "xref": "x",
          "y": "Московская обл.",
          "yref": "y"
         },
         {
          "font": {
           "color": "#FFFFFF"
          },
          "showarrow": false,
          "text": "161",
          "x": "8.8.2020",
          "xref": "x",
          "y": "Московская обл.",
          "yref": "y"
         },
         {
          "font": {
           "color": "#FFFFFF"
          },
          "showarrow": false,
          "text": "149",
          "x": "9.8.2020",
          "xref": "x",
          "y": "Московская обл.",
          "yref": "y"
         },
         {
          "font": {
           "color": "#FFFFFF"
          },
          "showarrow": false,
          "text": "153",
          "x": "10.8.2020",
          "xref": "x",
          "y": "Московская обл.",
          "yref": "y"
         },
         {
          "font": {
           "color": "#FFFFFF"
          },
          "showarrow": false,
          "text": "154",
          "x": "11.8.2020",
          "xref": "x",
          "y": "Московская обл.",
          "yref": "y"
         },
         {
          "font": {
           "color": "#FFFFFF"
          },
          "showarrow": false,
          "text": "152",
          "x": "12.8.2020",
          "xref": "x",
          "y": "Московская обл.",
          "yref": "y"
         },
         {
          "font": {
           "color": "#FFFFFF"
          },
          "showarrow": false,
          "text": "148",
          "x": "13.8.2020",
          "xref": "x",
          "y": "Московская обл.",
          "yref": "y"
         },
         {
          "font": {
           "color": "#FFFFFF"
          },
          "showarrow": false,
          "text": "156",
          "x": "14.8.2020",
          "xref": "x",
          "y": "Московская обл.",
          "yref": "y"
         },
         {
          "font": {
           "color": "#FFFFFF"
          },
          "showarrow": false,
          "text": "153",
          "x": "15.8.2020",
          "xref": "x",
          "y": "Московская обл.",
          "yref": "y"
         },
         {
          "font": {
           "color": "#FFFFFF"
          },
          "showarrow": false,
          "text": "154",
          "x": "16.8.2020",
          "xref": "x",
          "y": "Московская обл.",
          "yref": "y"
         },
         {
          "font": {
           "color": "#FFFFFF"
          },
          "showarrow": false,
          "text": "153",
          "x": "17.8.2020",
          "xref": "x",
          "y": "Московская обл.",
          "yref": "y"
         },
         {
          "font": {
           "color": "#FFFFFF"
          },
          "showarrow": false,
          "text": "145",
          "x": "18.8.2020",
          "xref": "x",
          "y": "Московская обл.",
          "yref": "y"
         },
         {
          "font": {
           "color": "#FFFFFF"
          },
          "showarrow": false,
          "text": "151",
          "x": "19.8.2020",
          "xref": "x",
          "y": "Московская обл.",
          "yref": "y"
         },
         {
          "font": {
           "color": "#FFFFFF"
          },
          "showarrow": false,
          "text": "157",
          "x": "20.8.2020",
          "xref": "x",
          "y": "Московская обл.",
          "yref": "y"
         },
         {
          "font": {
           "color": "#FFFFFF"
          },
          "showarrow": false,
          "text": "151",
          "x": "21.8.2020",
          "xref": "x",
          "y": "Московская обл.",
          "yref": "y"
         },
         {
          "font": {
           "color": "#FFFFFF"
          },
          "showarrow": false,
          "text": "161",
          "x": "22.8.2020",
          "xref": "x",
          "y": "Московская обл.",
          "yref": "y"
         },
         {
          "font": {
           "color": "#FFFFFF"
          },
          "showarrow": false,
          "text": "5635",
          "x": "27.7.2020",
          "xref": "x",
          "y": "Россия",
          "yref": "y"
         },
         {
          "font": {
           "color": "#FFFFFF"
          },
          "showarrow": false,
          "text": "5395",
          "x": "28.7.2020",
          "xref": "x",
          "y": "Россия",
          "yref": "y"
         },
         {
          "font": {
           "color": "#FFFFFF"
          },
          "showarrow": false,
          "text": "5475",
          "x": "29.7.2020",
          "xref": "x",
          "y": "Россия",
          "yref": "y"
         },
         {
          "font": {
           "color": "#FFFFFF"
          },
          "showarrow": false,
          "text": "5509",
          "x": "30.7.2020",
          "xref": "x",
          "y": "Россия",
          "yref": "y"
         },
         {
          "font": {
           "color": "#FFFFFF"
          },
          "showarrow": false,
          "text": "5482",
          "x": "31.7.2020",
          "xref": "x",
          "y": "Россия",
          "yref": "y"
         },
         {
          "font": {
           "color": "#FFFFFF"
          },
          "showarrow": false,
          "text": "5462",
          "x": "1.8.2020",
          "xref": "x",
          "y": "Россия",
          "yref": "y"
         },
         {
          "font": {
           "color": "#FFFFFF"
          },
          "showarrow": false,
          "text": "5427",
          "x": "2.8.2020",
          "xref": "x",
          "y": "Россия",
          "yref": "y"
         },
         {
          "font": {
           "color": "#FFFFFF"
          },
          "showarrow": false,
          "text": "5394",
          "x": "3.8.2020",
          "xref": "x",
          "y": "Россия",
          "yref": "y"
         },
         {
          "font": {
           "color": "#FFFFFF"
          },
          "showarrow": false,
          "text": "5159",
          "x": "4.8.2020",
          "xref": "x",
          "y": "Россия",
          "yref": "y"
         },
         {
          "font": {
           "color": "#FFFFFF"
          },
          "showarrow": false,
          "text": "5204",
          "x": "5.8.2020",
          "xref": "x",
          "y": "Россия",
          "yref": "y"
         },
         {
          "font": {
           "color": "#FFFFFF"
          },
          "showarrow": false,
          "text": "5267",
          "x": "6.8.2020",
          "xref": "x",
          "y": "Россия",
          "yref": "y"
         },
         {
          "font": {
           "color": "#FFFFFF"
          },
          "showarrow": false,
          "text": "5241",
          "x": "7.8.2020",
          "xref": "x",
          "y": "Россия",
          "yref": "y"
         },
         {
          "font": {
           "color": "#FFFFFF"
          },
          "showarrow": false,
          "text": "5212",
          "x": "8.8.2020",
          "xref": "x",
          "y": "Россия",
          "yref": "y"
         },
         {
          "font": {
           "color": "#FFFFFF"
          },
          "showarrow": false,
          "text": "5189",
          "x": "9.8.2020",
          "xref": "x",
          "y": "Россия",
          "yref": "y"
         },
         {
          "font": {
           "color": "#FFFFFF"
          },
          "showarrow": false,
          "text": "5118",
          "x": "10.8.2020",
          "xref": "x",
          "y": "Россия",
          "yref": "y"
         },
         {
          "font": {
           "color": "#FFFFFF"
          },
          "showarrow": false,
          "text": "4945",
          "x": "11.8.2020",
          "xref": "x",
          "y": "Россия",
          "yref": "y"
         },
         {
          "font": {
           "color": "#FFFFFF"
          },
          "showarrow": false,
          "text": "5102",
          "x": "12.8.2020",
          "xref": "x",
          "y": "Россия",
          "yref": "y"
         },
         {
          "font": {
           "color": "#FFFFFF"
          },
          "showarrow": false,
          "text": "5057",
          "x": "13.8.2020",
          "xref": "x",
          "y": "Россия",
          "yref": "y"
         },
         {
          "font": {
           "color": "#FFFFFF"
          },
          "showarrow": false,
          "text": "5065",
          "x": "14.8.2020",
          "xref": "x",
          "y": "Россия",
          "yref": "y"
         },
         {
          "font": {
           "color": "#FFFFFF"
          },
          "showarrow": false,
          "text": "5061",
          "x": "15.8.2020",
          "xref": "x",
          "y": "Россия",
          "yref": "y"
         },
         {
          "font": {
           "color": "#FFFFFF"
          },
          "showarrow": false,
          "text": "4969",
          "x": "16.8.2020",
          "xref": "x",
          "y": "Россия",
          "yref": "y"
         },
         {
          "font": {
           "color": "#FFFFFF"
          },
          "showarrow": false,
          "text": "4892",
          "x": "17.8.2020",
          "xref": "x",
          "y": "Россия",
          "yref": "y"
         },
         {
          "font": {
           "color": "#FFFFFF"
          },
          "showarrow": false,
          "text": "4748",
          "x": "18.8.2020",
          "xref": "x",
          "y": "Россия",
          "yref": "y"
         },
         {
          "font": {
           "color": "#FFFFFF"
          },
          "showarrow": false,
          "text": "4828",
          "x": "19.8.2020",
          "xref": "x",
          "y": "Россия",
          "yref": "y"
         },
         {
          "font": {
           "color": "#FFFFFF"
          },
          "showarrow": false,
          "text": "4785",
          "x": "20.8.2020",
          "xref": "x",
          "y": "Россия",
          "yref": "y"
         },
         {
          "font": {
           "color": "#FFFFFF"
          },
          "showarrow": false,
          "text": "4870",
          "x": "21.8.2020",
          "xref": "x",
          "y": "Россия",
          "yref": "y"
         },
         {
          "font": {
           "color": "#FFFFFF"
          },
          "showarrow": false,
          "text": "4921",
          "x": "22.8.2020",
          "xref": "x",
          "y": "Россия",
          "yref": "y"
         },
         {
          "font": {
           "color": "#FFFFFF"
          },
          "showarrow": false,
          "text": "172",
          "x": "27.7.2020",
          "xref": "x",
          "y": "Санкт-Петербург",
          "yref": "y"
         },
         {
          "font": {
           "color": "#FFFFFF"
          },
          "showarrow": false,
          "text": "168",
          "x": "28.7.2020",
          "xref": "x",
          "y": "Санкт-Петербург",
          "yref": "y"
         },
         {
          "font": {
           "color": "#FFFFFF"
          },
          "showarrow": false,
          "text": "165",
          "x": "29.7.2020",
          "xref": "x",
          "y": "Санкт-Петербург",
          "yref": "y"
         },
         {
          "font": {
           "color": "#FFFFFF"
          },
          "showarrow": false,
          "text": "162",
          "x": "30.7.2020",
          "xref": "x",
          "y": "Санкт-Петербург",
          "yref": "y"
         },
         {
          "font": {
           "color": "#FFFFFF"
          },
          "showarrow": false,
          "text": "159",
          "x": "31.7.2020",
          "xref": "x",
          "y": "Санкт-Петербург",
          "yref": "y"
         },
         {
          "font": {
           "color": "#FFFFFF"
          },
          "showarrow": false,
          "text": "161",
          "x": "1.8.2020",
          "xref": "x",
          "y": "Санкт-Петербург",
          "yref": "y"
         },
         {
          "font": {
           "color": "#FFFFFF"
          },
          "showarrow": false,
          "text": "163",
          "x": "2.8.2020",
          "xref": "x",
          "y": "Санкт-Петербург",
          "yref": "y"
         },
         {
          "font": {
           "color": "#FFFFFF"
          },
          "showarrow": false,
          "text": "160",
          "x": "3.8.2020",
          "xref": "x",
          "y": "Санкт-Петербург",
          "yref": "y"
         },
         {
          "font": {
           "color": "#FFFFFF"
          },
          "showarrow": false,
          "text": "158",
          "x": "4.8.2020",
          "xref": "x",
          "y": "Санкт-Петербург",
          "yref": "y"
         },
         {
          "font": {
           "color": "#FFFFFF"
          },
          "showarrow": false,
          "text": "156",
          "x": "5.8.2020",
          "xref": "x",
          "y": "Санкт-Петербург",
          "yref": "y"
         },
         {
          "font": {
           "color": "#FFFFFF"
          },
          "showarrow": false,
          "text": "159",
          "x": "6.8.2020",
          "xref": "x",
          "y": "Санкт-Петербург",
          "yref": "y"
         },
         {
          "font": {
           "color": "#FFFFFF"
          },
          "showarrow": false,
          "text": "157",
          "x": "7.8.2020",
          "xref": "x",
          "y": "Санкт-Петербург",
          "yref": "y"
         },
         {
          "font": {
           "color": "#FFFFFF"
          },
          "showarrow": false,
          "text": "155",
          "x": "8.8.2020",
          "xref": "x",
          "y": "Санкт-Петербург",
          "yref": "y"
         },
         {
          "font": {
           "color": "#FFFFFF"
          },
          "showarrow": false,
          "text": "160",
          "x": "9.8.2020",
          "xref": "x",
          "y": "Санкт-Петербург",
          "yref": "y"
         },
         {
          "font": {
           "color": "#FFFFFF"
          },
          "showarrow": false,
          "text": "157",
          "x": "10.8.2020",
          "xref": "x",
          "y": "Санкт-Петербург",
          "yref": "y"
         },
         {
          "font": {
           "color": "#FFFFFF"
          },
          "showarrow": false,
          "text": "157",
          "x": "11.8.2020",
          "xref": "x",
          "y": "Санкт-Петербург",
          "yref": "y"
         },
         {
          "font": {
           "color": "#FFFFFF"
          },
          "showarrow": false,
          "text": "161",
          "x": "12.8.2020",
          "xref": "x",
          "y": "Санкт-Петербург",
          "yref": "y"
         },
         {
          "font": {
           "color": "#FFFFFF"
          },
          "showarrow": false,
          "text": "160",
          "x": "13.8.2020",
          "xref": "x",
          "y": "Санкт-Петербург",
          "yref": "y"
         },
         {
          "font": {
           "color": "#FFFFFF"
          },
          "showarrow": false,
          "text": "159",
          "x": "14.8.2020",
          "xref": "x",
          "y": "Санкт-Петербург",
          "yref": "y"
         },
         {
          "font": {
           "color": "#FFFFFF"
          },
          "showarrow": false,
          "text": "162",
          "x": "15.8.2020",
          "xref": "x",
          "y": "Санкт-Петербург",
          "yref": "y"
         },
         {
          "font": {
           "color": "#FFFFFF"
          },
          "showarrow": false,
          "text": "163",
          "x": "16.8.2020",
          "xref": "x",
          "y": "Санкт-Петербург",
          "yref": "y"
         },
         {
          "font": {
           "color": "#FFFFFF"
          },
          "showarrow": false,
          "text": "159",
          "x": "17.8.2020",
          "xref": "x",
          "y": "Санкт-Петербург",
          "yref": "y"
         },
         {
          "font": {
           "color": "#FFFFFF"
          },
          "showarrow": false,
          "text": "157",
          "x": "18.8.2020",
          "xref": "x",
          "y": "Санкт-Петербург",
          "yref": "y"
         },
         {
          "font": {
           "color": "#FFFFFF"
          },
          "showarrow": false,
          "text": "162",
          "x": "19.8.2020",
          "xref": "x",
          "y": "Санкт-Петербург",
          "yref": "y"
         },
         {
          "font": {
           "color": "#FFFFFF"
          },
          "showarrow": false,
          "text": "160",
          "x": "20.8.2020",
          "xref": "x",
          "y": "Санкт-Петербург",
          "yref": "y"
         },
         {
          "font": {
           "color": "#FFFFFF"
          },
          "showarrow": false,
          "text": "181",
          "x": "21.8.2020",
          "xref": "x",
          "y": "Санкт-Петербург",
          "yref": "y"
         },
         {
          "font": {
           "color": "#FFFFFF"
          },
          "showarrow": false,
          "text": "183",
          "x": "22.8.2020",
          "xref": "x",
          "y": "Санкт-Петербург",
          "yref": "y"
         },
         {
          "font": {
           "color": "#FFFFFF"
          },
          "showarrow": false,
          "text": "252",
          "x": "27.7.2020",
          "xref": "x",
          "y": "Свердловская обл.",
          "yref": "y"
         },
         {
          "font": {
           "color": "#FFFFFF"
          },
          "showarrow": false,
          "text": "209",
          "x": "28.7.2020",
          "xref": "x",
          "y": "Свердловская обл.",
          "yref": "y"
         },
         {
          "font": {
           "color": "#FFFFFF"
          },
          "showarrow": false,
          "text": "223",
          "x": "29.7.2020",
          "xref": "x",
          "y": "Свердловская обл.",
          "yref": "y"
         },
         {
          "font": {
           "color": "#FFFFFF"
          },
          "showarrow": false,
          "text": "215",
          "x": "30.7.2020",
          "xref": "x",
          "y": "Свердловская обл.",
          "yref": "y"
         },
         {
          "font": {
           "color": "#FFFFFF"
          },
          "showarrow": false,
          "text": "210",
          "x": "31.7.2020",
          "xref": "x",
          "y": "Свердловская обл.",
          "yref": "y"
         },
         {
          "font": {
           "color": "#FFFFFF"
          },
          "showarrow": false,
          "text": "202",
          "x": "1.8.2020",
          "xref": "x",
          "y": "Свердловская обл.",
          "yref": "y"
         },
         {
          "font": {
           "color": "#FFFFFF"
          },
          "showarrow": false,
          "text": "199",
          "x": "2.8.2020",
          "xref": "x",
          "y": "Свердловская обл.",
          "yref": "y"
         },
         {
          "font": {
           "color": "#FFFFFF"
          },
          "showarrow": false,
          "text": "196",
          "x": "3.8.2020",
          "xref": "x",
          "y": "Свердловская обл.",
          "yref": "y"
         },
         {
          "font": {
           "color": "#FFFFFF"
          },
          "showarrow": false,
          "text": "182",
          "x": "4.8.2020",
          "xref": "x",
          "y": "Свердловская обл.",
          "yref": "y"
         },
         {
          "font": {
           "color": "#FFFFFF"
          },
          "showarrow": false,
          "text": "181",
          "x": "5.8.2020",
          "xref": "x",
          "y": "Свердловская обл.",
          "yref": "y"
         },
         {
          "font": {
           "color": "#FFFFFF"
          },
          "showarrow": false,
          "text": "183",
          "x": "6.8.2020",
          "xref": "x",
          "y": "Свердловская обл.",
          "yref": "y"
         },
         {
          "font": {
           "color": "#FFFFFF"
          },
          "showarrow": false,
          "text": "180",
          "x": "7.8.2020",
          "xref": "x",
          "y": "Свердловская обл.",
          "yref": "y"
         },
         {
          "font": {
           "color": "#FFFFFF"
          },
          "showarrow": false,
          "text": "178",
          "x": "8.8.2020",
          "xref": "x",
          "y": "Свердловская обл.",
          "yref": "y"
         },
         {
          "font": {
           "color": "#FFFFFF"
          },
          "showarrow": false,
          "text": "184",
          "x": "9.8.2020",
          "xref": "x",
          "y": "Свердловская обл.",
          "yref": "y"
         },
         {
          "font": {
           "color": "#FFFFFF"
          },
          "showarrow": false,
          "text": "179",
          "x": "10.8.2020",
          "xref": "x",
          "y": "Свердловская обл.",
          "yref": "y"
         },
         {
          "font": {
           "color": "#FFFFFF"
          },
          "showarrow": false,
          "text": "168",
          "x": "11.8.2020",
          "xref": "x",
          "y": "Свердловская обл.",
          "yref": "y"
         },
         {
          "font": {
           "color": "#FFFFFF"
          },
          "showarrow": false,
          "text": "167",
          "x": "12.8.2020",
          "xref": "x",
          "y": "Свердловская обл.",
          "yref": "y"
         },
         {
          "font": {
           "color": "#FFFFFF"
          },
          "showarrow": false,
          "text": "162",
          "x": "13.8.2020",
          "xref": "x",
          "y": "Свердловская обл.",
          "yref": "y"
         },
         {
          "font": {
           "color": "#FFFFFF"
          },
          "showarrow": false,
          "text": "154",
          "x": "14.8.2020",
          "xref": "x",
          "y": "Свердловская обл.",
          "yref": "y"
         },
         {
          "font": {
           "color": "#FFFFFF"
          },
          "showarrow": false,
          "text": "158",
          "x": "15.8.2020",
          "xref": "x",
          "y": "Свердловская обл.",
          "yref": "y"
         },
         {
          "font": {
           "color": "#FFFFFF"
          },
          "showarrow": false,
          "text": "150",
          "x": "16.8.2020",
          "xref": "x",
          "y": "Свердловская обл.",
          "yref": "y"
         },
         {
          "font": {
           "color": "#FFFFFF"
          },
          "showarrow": false,
          "text": "141",
          "x": "17.8.2020",
          "xref": "x",
          "y": "Свердловская обл.",
          "yref": "y"
         },
         {
          "font": {
           "color": "#FFFFFF"
          },
          "showarrow": false,
          "text": "149",
          "x": "18.8.2020",
          "xref": "x",
          "y": "Свердловская обл.",
          "yref": "y"
         },
         {
          "font": {
           "color": "#FFFFFF"
          },
          "showarrow": false,
          "text": "147",
          "x": "19.8.2020",
          "xref": "x",
          "y": "Свердловская обл.",
          "yref": "y"
         },
         {
          "font": {
           "color": "#FFFFFF"
          },
          "showarrow": false,
          "text": "139",
          "x": "20.8.2020",
          "xref": "x",
          "y": "Свердловская обл.",
          "yref": "y"
         },
         {
          "font": {
           "color": "#FFFFFF"
          },
          "showarrow": false,
          "text": "124",
          "x": "21.8.2020",
          "xref": "x",
          "y": "Свердловская обл.",
          "yref": "y"
         },
         {
          "font": {
           "color": "#FFFFFF"
          },
          "showarrow": false,
          "text": "121",
          "x": "22.8.2020",
          "xref": "x",
          "y": "Свердловская обл.",
          "yref": "y"
         },
         {
          "font": {
           "color": "#FFFFFF"
          },
          "showarrow": false,
          "text": "128",
          "x": "27.7.2020",
          "xref": "x",
          "y": "Челябинская обл.",
          "yref": "y"
         },
         {
          "font": {
           "color": "#FFFFFF"
          },
          "showarrow": false,
          "text": "124",
          "x": "28.7.2020",
          "xref": "x",
          "y": "Челябинская обл.",
          "yref": "y"
         },
         {
          "font": {
           "color": "#FFFFFF"
          },
          "showarrow": false,
          "text": "125",
          "x": "29.7.2020",
          "xref": "x",
          "y": "Челябинская обл.",
          "yref": "y"
         },
         {
          "font": {
           "color": "#FFFFFF"
          },
          "showarrow": false,
          "text": "119",
          "x": "30.7.2020",
          "xref": "x",
          "y": "Челябинская обл.",
          "yref": "y"
         },
         {
          "font": {
           "color": "#FFFFFF"
          },
          "showarrow": false,
          "text": "117",
          "x": "31.7.2020",
          "xref": "x",
          "y": "Челябинская обл.",
          "yref": "y"
         },
         {
          "font": {
           "color": "#FFFFFF"
          },
          "showarrow": false,
          "text": "110",
          "x": "1.8.2020",
          "xref": "x",
          "y": "Челябинская обл.",
          "yref": "y"
         },
         {
          "font": {
           "color": "#FFFFFF"
          },
          "showarrow": false,
          "text": "109",
          "x": "2.8.2020",
          "xref": "x",
          "y": "Челябинская обл.",
          "yref": "y"
         },
         {
          "font": {
           "color": "#FFFFFF"
          },
          "showarrow": false,
          "text": "107",
          "x": "3.8.2020",
          "xref": "x",
          "y": "Челябинская обл.",
          "yref": "y"
         },
         {
          "font": {
           "color": "#FFFFFF"
          },
          "showarrow": false,
          "text": "105",
          "x": "4.8.2020",
          "xref": "x",
          "y": "Челябинская обл.",
          "yref": "y"
         },
         {
          "font": {
           "color": "#FFFFFF"
          },
          "showarrow": false,
          "text": "103",
          "x": "5.8.2020",
          "xref": "x",
          "y": "Челябинская обл.",
          "yref": "y"
         },
         {
          "font": {
           "color": "#FFFFFF"
          },
          "showarrow": false,
          "text": "92",
          "x": "6.8.2020",
          "xref": "x",
          "y": "Челябинская обл.",
          "yref": "y"
         },
         {
          "font": {
           "color": "#FFFFFF"
          },
          "showarrow": false,
          "text": "89",
          "x": "7.8.2020",
          "xref": "x",
          "y": "Челябинская обл.",
          "yref": "y"
         },
         {
          "font": {
           "color": "#FFFFFF"
          },
          "showarrow": false,
          "text": "87",
          "x": "8.8.2020",
          "xref": "x",
          "y": "Челябинская обл.",
          "yref": "y"
         },
         {
          "font": {
           "color": "#FFFFFF"
          },
          "showarrow": false,
          "text": "94",
          "x": "9.8.2020",
          "xref": "x",
          "y": "Челябинская обл.",
          "yref": "y"
         },
         {
          "font": {
           "color": "#FFFFFF"
          },
          "showarrow": false,
          "text": "83",
          "x": "10.8.2020",
          "xref": "x",
          "y": "Челябинская обл.",
          "yref": "y"
         },
         {
          "font": {
           "color": "#FFFFFF"
          },
          "showarrow": false,
          "text": "85",
          "x": "11.8.2020",
          "xref": "x",
          "y": "Челябинская обл.",
          "yref": "y"
         },
         {
          "font": {
           "color": "#FFFFFF"
          },
          "showarrow": false,
          "text": "88",
          "x": "12.8.2020",
          "xref": "x",
          "y": "Челябинская обл.",
          "yref": "y"
         },
         {
          "font": {
           "color": "#FFFFFF"
          },
          "showarrow": false,
          "text": "84",
          "x": "13.8.2020",
          "xref": "x",
          "y": "Челябинская обл.",
          "yref": "y"
         },
         {
          "font": {
           "color": "#FFFFFF"
          },
          "showarrow": false,
          "text": "80",
          "x": "14.8.2020",
          "xref": "x",
          "y": "Челябинская обл.",
          "yref": "y"
         },
         {
          "font": {
           "color": "#FFFFFF"
          },
          "showarrow": false,
          "text": "76",
          "x": "15.8.2020",
          "xref": "x",
          "y": "Челябинская обл.",
          "yref": "y"
         },
         {
          "font": {
           "color": "#FFFFFF"
          },
          "showarrow": false,
          "text": "79",
          "x": "16.8.2020",
          "xref": "x",
          "y": "Челябинская обл.",
          "yref": "y"
         },
         {
          "font": {
           "color": "#FFFFFF"
          },
          "showarrow": false,
          "text": "69",
          "x": "17.8.2020",
          "xref": "x",
          "y": "Челябинская обл.",
          "yref": "y"
         },
         {
          "font": {
           "color": "#FFFFFF"
          },
          "showarrow": false,
          "text": "67",
          "x": "18.8.2020",
          "xref": "x",
          "y": "Челябинская обл.",
          "yref": "y"
         },
         {
          "font": {
           "color": "#FFFFFF"
          },
          "showarrow": false,
          "text": "71",
          "x": "19.8.2020",
          "xref": "x",
          "y": "Челябинская обл.",
          "yref": "y"
         },
         {
          "font": {
           "color": "#FFFFFF"
          },
          "showarrow": false,
          "text": "71",
          "x": "20.8.2020",
          "xref": "x",
          "y": "Челябинская обл.",
          "yref": "y"
         },
         {
          "font": {
           "color": "#FFFFFF"
          },
          "showarrow": false,
          "text": "73",
          "x": "21.8.2020",
          "xref": "x",
          "y": "Челябинская обл.",
          "yref": "y"
         },
         {
          "font": {
           "color": "#FFFFFF"
          },
          "showarrow": false,
          "text": "71",
          "x": "22.8.2020",
          "xref": "x",
          "y": "Челябинская обл.",
          "yref": "y"
         }
        ],
        "height": 600,
        "template": {
         "data": {
          "bar": [
           {
            "error_x": {
             "color": "#2a3f5f"
            },
            "error_y": {
             "color": "#2a3f5f"
            },
            "marker": {
             "line": {
              "color": "#E5ECF6",
              "width": 0.5
             }
            },
            "type": "bar"
           }
          ],
          "barpolar": [
           {
            "marker": {
             "line": {
              "color": "#E5ECF6",
              "width": 0.5
             }
            },
            "type": "barpolar"
           }
          ],
          "carpet": [
           {
            "aaxis": {
             "endlinecolor": "#2a3f5f",
             "gridcolor": "white",
             "linecolor": "white",
             "minorgridcolor": "white",
             "startlinecolor": "#2a3f5f"
            },
            "baxis": {
             "endlinecolor": "#2a3f5f",
             "gridcolor": "white",
             "linecolor": "white",
             "minorgridcolor": "white",
             "startlinecolor": "#2a3f5f"
            },
            "type": "carpet"
           }
          ],
          "choropleth": [
           {
            "colorbar": {
             "outlinewidth": 0,
             "ticks": ""
            },
            "type": "choropleth"
           }
          ],
          "contour": [
           {
            "colorbar": {
             "outlinewidth": 0,
             "ticks": ""
            },
            "colorscale": [
             [
              0,
              "#0d0887"
             ],
             [
              0.1111111111111111,
              "#46039f"
             ],
             [
              0.2222222222222222,
              "#7201a8"
             ],
             [
              0.3333333333333333,
              "#9c179e"
             ],
             [
              0.4444444444444444,
              "#bd3786"
             ],
             [
              0.5555555555555556,
              "#d8576b"
             ],
             [
              0.6666666666666666,
              "#ed7953"
             ],
             [
              0.7777777777777778,
              "#fb9f3a"
             ],
             [
              0.8888888888888888,
              "#fdca26"
             ],
             [
              1,
              "#f0f921"
             ]
            ],
            "type": "contour"
           }
          ],
          "contourcarpet": [
           {
            "colorbar": {
             "outlinewidth": 0,
             "ticks": ""
            },
            "type": "contourcarpet"
           }
          ],
          "heatmap": [
           {
            "colorbar": {
             "outlinewidth": 0,
             "ticks": ""
            },
            "colorscale": [
             [
              0,
              "#0d0887"
             ],
             [
              0.1111111111111111,
              "#46039f"
             ],
             [
              0.2222222222222222,
              "#7201a8"
             ],
             [
              0.3333333333333333,
              "#9c179e"
             ],
             [
              0.4444444444444444,
              "#bd3786"
             ],
             [
              0.5555555555555556,
              "#d8576b"
             ],
             [
              0.6666666666666666,
              "#ed7953"
             ],
             [
              0.7777777777777778,
              "#fb9f3a"
             ],
             [
              0.8888888888888888,
              "#fdca26"
             ],
             [
              1,
              "#f0f921"
             ]
            ],
            "type": "heatmap"
           }
          ],
          "heatmapgl": [
           {
            "colorbar": {
             "outlinewidth": 0,
             "ticks": ""
            },
            "colorscale": [
             [
              0,
              "#0d0887"
             ],
             [
              0.1111111111111111,
              "#46039f"
             ],
             [
              0.2222222222222222,
              "#7201a8"
             ],
             [
              0.3333333333333333,
              "#9c179e"
             ],
             [
              0.4444444444444444,
              "#bd3786"
             ],
             [
              0.5555555555555556,
              "#d8576b"
             ],
             [
              0.6666666666666666,
              "#ed7953"
             ],
             [
              0.7777777777777778,
              "#fb9f3a"
             ],
             [
              0.8888888888888888,
              "#fdca26"
             ],
             [
              1,
              "#f0f921"
             ]
            ],
            "type": "heatmapgl"
           }
          ],
          "histogram": [
           {
            "marker": {
             "colorbar": {
              "outlinewidth": 0,
              "ticks": ""
             }
            },
            "type": "histogram"
           }
          ],
          "histogram2d": [
           {
            "colorbar": {
             "outlinewidth": 0,
             "ticks": ""
            },
            "colorscale": [
             [
              0,
              "#0d0887"
             ],
             [
              0.1111111111111111,
              "#46039f"
             ],
             [
              0.2222222222222222,
              "#7201a8"
             ],
             [
              0.3333333333333333,
              "#9c179e"
             ],
             [
              0.4444444444444444,
              "#bd3786"
             ],
             [
              0.5555555555555556,
              "#d8576b"
             ],
             [
              0.6666666666666666,
              "#ed7953"
             ],
             [
              0.7777777777777778,
              "#fb9f3a"
             ],
             [
              0.8888888888888888,
              "#fdca26"
             ],
             [
              1,
              "#f0f921"
             ]
            ],
            "type": "histogram2d"
           }
          ],
          "histogram2dcontour": [
           {
            "colorbar": {
             "outlinewidth": 0,
             "ticks": ""
            },
            "colorscale": [
             [
              0,
              "#0d0887"
             ],
             [
              0.1111111111111111,
              "#46039f"
             ],
             [
              0.2222222222222222,
              "#7201a8"
             ],
             [
              0.3333333333333333,
              "#9c179e"
             ],
             [
              0.4444444444444444,
              "#bd3786"
             ],
             [
              0.5555555555555556,
              "#d8576b"
             ],
             [
              0.6666666666666666,
              "#ed7953"
             ],
             [
              0.7777777777777778,
              "#fb9f3a"
             ],
             [
              0.8888888888888888,
              "#fdca26"
             ],
             [
              1,
              "#f0f921"
             ]
            ],
            "type": "histogram2dcontour"
           }
          ],
          "mesh3d": [
           {
            "colorbar": {
             "outlinewidth": 0,
             "ticks": ""
            },
            "type": "mesh3d"
           }
          ],
          "parcoords": [
           {
            "line": {
             "colorbar": {
              "outlinewidth": 0,
              "ticks": ""
             }
            },
            "type": "parcoords"
           }
          ],
          "pie": [
           {
            "automargin": true,
            "type": "pie"
           }
          ],
          "scatter": [
           {
            "marker": {
             "colorbar": {
              "outlinewidth": 0,
              "ticks": ""
             }
            },
            "type": "scatter"
           }
          ],
          "scatter3d": [
           {
            "line": {
             "colorbar": {
              "outlinewidth": 0,
              "ticks": ""
             }
            },
            "marker": {
             "colorbar": {
              "outlinewidth": 0,
              "ticks": ""
             }
            },
            "type": "scatter3d"
           }
          ],
          "scattercarpet": [
           {
            "marker": {
             "colorbar": {
              "outlinewidth": 0,
              "ticks": ""
             }
            },
            "type": "scattercarpet"
           }
          ],
          "scattergeo": [
           {
            "marker": {
             "colorbar": {
              "outlinewidth": 0,
              "ticks": ""
             }
            },
            "type": "scattergeo"
           }
          ],
          "scattergl": [
           {
            "marker": {
             "colorbar": {
              "outlinewidth": 0,
              "ticks": ""
             }
            },
            "type": "scattergl"
           }
          ],
          "scattermapbox": [
           {
            "marker": {
             "colorbar": {
              "outlinewidth": 0,
              "ticks": ""
             }
            },
            "type": "scattermapbox"
           }
          ],
          "scatterpolar": [
           {
            "marker": {
             "colorbar": {
              "outlinewidth": 0,
              "ticks": ""
             }
            },
            "type": "scatterpolar"
           }
          ],
          "scatterpolargl": [
           {
            "marker": {
             "colorbar": {
              "outlinewidth": 0,
              "ticks": ""
             }
            },
            "type": "scatterpolargl"
           }
          ],
          "scatterternary": [
           {
            "marker": {
             "colorbar": {
              "outlinewidth": 0,
              "ticks": ""
             }
            },
            "type": "scatterternary"
           }
          ],
          "surface": [
           {
            "colorbar": {
             "outlinewidth": 0,
             "ticks": ""
            },
            "colorscale": [
             [
              0,
              "#0d0887"
             ],
             [
              0.1111111111111111,
              "#46039f"
             ],
             [
              0.2222222222222222,
              "#7201a8"
             ],
             [
              0.3333333333333333,
              "#9c179e"
             ],
             [
              0.4444444444444444,
              "#bd3786"
             ],
             [
              0.5555555555555556,
              "#d8576b"
             ],
             [
              0.6666666666666666,
              "#ed7953"
             ],
             [
              0.7777777777777778,
              "#fb9f3a"
             ],
             [
              0.8888888888888888,
              "#fdca26"
             ],
             [
              1,
              "#f0f921"
             ]
            ],
            "type": "surface"
           }
          ],
          "table": [
           {
            "cells": {
             "fill": {
              "color": "#EBF0F8"
             },
             "line": {
              "color": "white"
             }
            },
            "header": {
             "fill": {
              "color": "#C8D4E3"
             },
             "line": {
              "color": "white"
             }
            },
            "type": "table"
           }
          ]
         },
         "layout": {
          "annotationdefaults": {
           "arrowcolor": "#2a3f5f",
           "arrowhead": 0,
           "arrowwidth": 1
          },
          "coloraxis": {
           "colorbar": {
            "outlinewidth": 0,
            "ticks": ""
           }
          },
          "colorscale": {
           "diverging": [
            [
             0,
             "#8e0152"
            ],
            [
             0.1,
             "#c51b7d"
            ],
            [
             0.2,
             "#de77ae"
            ],
            [
             0.3,
             "#f1b6da"
            ],
            [
             0.4,
             "#fde0ef"
            ],
            [
             0.5,
             "#f7f7f7"
            ],
            [
             0.6,
             "#e6f5d0"
            ],
            [
             0.7,
             "#b8e186"
            ],
            [
             0.8,
             "#7fbc41"
            ],
            [
             0.9,
             "#4d9221"
            ],
            [
             1,
             "#276419"
            ]
           ],
           "sequential": [
            [
             0,
             "#0d0887"
            ],
            [
             0.1111111111111111,
             "#46039f"
            ],
            [
             0.2222222222222222,
             "#7201a8"
            ],
            [
             0.3333333333333333,
             "#9c179e"
            ],
            [
             0.4444444444444444,
             "#bd3786"
            ],
            [
             0.5555555555555556,
             "#d8576b"
            ],
            [
             0.6666666666666666,
             "#ed7953"
            ],
            [
             0.7777777777777778,
             "#fb9f3a"
            ],
            [
             0.8888888888888888,
             "#fdca26"
            ],
            [
             1,
             "#f0f921"
            ]
           ],
           "sequentialminus": [
            [
             0,
             "#0d0887"
            ],
            [
             0.1111111111111111,
             "#46039f"
            ],
            [
             0.2222222222222222,
             "#7201a8"
            ],
            [
             0.3333333333333333,
             "#9c179e"
            ],
            [
             0.4444444444444444,
             "#bd3786"
            ],
            [
             0.5555555555555556,
             "#d8576b"
            ],
            [
             0.6666666666666666,
             "#ed7953"
            ],
            [
             0.7777777777777778,
             "#fb9f3a"
            ],
            [
             0.8888888888888888,
             "#fdca26"
            ],
            [
             1,
             "#f0f921"
            ]
           ]
          },
          "colorway": [
           "#636efa",
           "#EF553B",
           "#00cc96",
           "#ab63fa",
           "#FFA15A",
           "#19d3f3",
           "#FF6692",
           "#B6E880",
           "#FF97FF",
           "#FECB52"
          ],
          "font": {
           "color": "#2a3f5f"
          },
          "geo": {
           "bgcolor": "white",
           "lakecolor": "white",
           "landcolor": "#E5ECF6",
           "showlakes": true,
           "showland": true,
           "subunitcolor": "white"
          },
          "hoverlabel": {
           "align": "left"
          },
          "hovermode": "closest",
          "mapbox": {
           "style": "light"
          },
          "paper_bgcolor": "white",
          "plot_bgcolor": "#E5ECF6",
          "polar": {
           "angularaxis": {
            "gridcolor": "white",
            "linecolor": "white",
            "ticks": ""
           },
           "bgcolor": "#E5ECF6",
           "radialaxis": {
            "gridcolor": "white",
            "linecolor": "white",
            "ticks": ""
           }
          },
          "scene": {
           "xaxis": {
            "backgroundcolor": "#E5ECF6",
            "gridcolor": "white",
            "gridwidth": 2,
            "linecolor": "white",
            "showbackground": true,
            "ticks": "",
            "zerolinecolor": "white"
           },
           "yaxis": {
            "backgroundcolor": "#E5ECF6",
            "gridcolor": "white",
            "gridwidth": 2,
            "linecolor": "white",
            "showbackground": true,
            "ticks": "",
            "zerolinecolor": "white"
           },
           "zaxis": {
            "backgroundcolor": "#E5ECF6",
            "gridcolor": "white",
            "gridwidth": 2,
            "linecolor": "white",
            "showbackground": true,
            "ticks": "",
            "zerolinecolor": "white"
           }
          },
          "shapedefaults": {
           "line": {
            "color": "#2a3f5f"
           }
          },
          "ternary": {
           "aaxis": {
            "gridcolor": "white",
            "linecolor": "white",
            "ticks": ""
           },
           "baxis": {
            "gridcolor": "white",
            "linecolor": "white",
            "ticks": ""
           },
           "bgcolor": "#E5ECF6",
           "caxis": {
            "gridcolor": "white",
            "linecolor": "white",
            "ticks": ""
           }
          },
          "title": {
           "x": 0.05
          },
          "xaxis": {
           "automargin": true,
           "gridcolor": "white",
           "linecolor": "white",
           "ticks": "",
           "title": {
            "standoff": 15
           },
           "zerolinecolor": "white",
           "zerolinewidth": 2
          },
          "yaxis": {
           "automargin": true,
           "gridcolor": "white",
           "linecolor": "white",
           "ticks": "",
           "title": {
            "standoff": 15
           },
           "zerolinecolor": "white",
           "zerolinewidth": 2
          }
         }
        },
        "width": 990,
        "xaxis": {
         "dtick": 1,
         "gridcolor": "rgb(0, 0, 0)",
         "side": "top",
         "ticks": "",
         "title": {
          "text": "Динамика новых заболевших по регионам"
         }
        },
        "yaxis": {
         "dtick": 1,
         "ticks": "",
         "ticksuffix": "  "
        }
       }
      }
     },
     "metadata": {}
    }
   ],
   "source": [
    "fig = ff.create_annotated_heatmap(d, x=x2, y=y, annotation_text=d,\n",
    "                                  colorscale='Temps')\n",
    "\n",
    "fig.update_layout(\n",
    "                  \n",
    "                  \n",
    "                  width = 990, height = 600,\n",
    "    \n",
    "    \n",
    "                  xaxis_title='Динамика новых заболевших по регионам',\n",
    "               #   yaxis_title = 'Регион '\n",
    ")\n",
    "\n",
    "fig.show()"
   ]
  },
  {
   "cell_type": "code",
   "execution_count": 28,
   "metadata": {
    "tags": []
   },
   "outputs": [
    {
     "output_type": "stream",
     "name": "stdout",
     "text": "85\n"
    },
    {
     "output_type": "execute_result",
     "data": {
      "text/plain": "             Date  Confirmed  Recovered  Deaths  Day_deaths  Day_confirmed  \\\n6899   2020-08-22     256513     203821    4720          10            687   \n7073   2020-08-22      66853      50348    1161           1            161   \n9877   2020-08-22      35011      25087    2332          18            183   \n7566   2020-08-22      26513      23642     445           2            122   \n10533  2020-08-22      24226      19443     403           7            121   \n12829  2020-08-22      18999      17327     156           1             83   \n3276   2020-08-22      16086      11959     239           0            105   \n5412   2020-08-22      15862      12893     416           6            114   \n9380   2020-08-22      15761      13318     306           5            129   \n2292   2020-08-22      13244      11784     104           0             94   \n13321  2020-08-22      13090       8817     103           1             71   \n13972  2020-08-22      12957      12420      87           2             63   \n7237   2020-08-22      12236       9533     140           7             65   \n10041  2020-08-22      11494       7415      68           0             95   \n12665  2020-08-22      11302       8438      87           7             87   \n\n       Day_recovered     Rt    Rt2  Rate_conf   Rate_ill              Region  \\\n6899            1094  0.996  1.011  26.947558  28.536078              Москва   \n7073             154  1.025  1.009   7.023134   9.127357     Московская обл.   \n9877             110  1.070  1.019   3.678024   4.516091     Санкт-Петербург   \n7566             196  1.072  1.020   2.785280   1.443103  Нижегородская обл.   \n10533             60  0.888  1.024   2.545023   2.605437   Свердловская обл.   \n12829            170  0.988  1.017   1.995909   0.901790         ХМАО – Югра   \n3276             121  0.932  1.028   1.689889   2.312771      Иркутская обл.   \n5412              85  0.979  1.030   1.666357   1.518649   Красноярский край   \n9380             159  0.996  1.034   1.655746   1.271191     Ростовская обл.   \n2292              97  1.039  1.031   1.391327   0.806615    Воронежская обл.   \n13321            135  0.983  1.022   1.375149   2.480519    Челябинская обл.   \n13972            138  0.787  1.023   1.361177   0.267682   Ямало-Ненецкий АО   \n7237             127  0.977  1.022   1.285433   1.524597     Мурманская обл.   \n10041            110  0.972  1.035   1.207484   2.385938    Саратовская обл.   \n12665            145  0.902  1.035   1.187313   1.651895    Ульяновская обл.   \n\n       Remaining_ill  MA7_dayconfirmed  MA14_dayconfirmed  MA7_remaining_ill  \\\n6899           47972        689.571429         690.571429       49372.571429   \n7073           15344        153.142857         152.642857       15308.428571   \n9877            7592        166.428571         162.928571        7403.000000   \n7566            2426        125.428571         124.428571        2589.285714   \n10533           4380        138.714286         153.071429        4201.571429   \n12829           1516         81.571429          98.571429        1775.857143   \n3276            3888        108.857143         113.285714        3954.428571   \n5412            2553        115.857143         119.428571        2434.142857   \n9380            2137        127.714286         127.214286        2293.285714   \n2292            1356         97.714286          96.214286        1430.285714   \n13321           4170         71.571429          77.928571        4284.285714   \n13972            450         74.428571          82.642857         704.571429   \n7237            2563         64.142857          70.285714        2800.142857   \n10041           4011         95.714286          95.500000        4069.428571   \n12665           2777         93.714286          97.642857        2966.142857   \n\n       MA14_remaining_ill  Change_dayconf  Change_remill  \n6899         50837.571429              -3           -417  \n7073         15306.785714              10              6  \n9877          7157.571429               2             55  \n7566          2712.571429              -5            -76  \n10533         3951.928571              -3             54  \n12829         2059.714286              -2            -88  \n3276          3987.642857               4            -16  \n5412          2231.928571              -3             23  \n9380          2340.500000               1            -35  \n2292          1581.857143              -3             -3  \n13321         4341.785714              -2            -65  \n13972          844.214286              -2            -77  \n7237          2988.857143               2            -69  \n10041         4012.857143               4            -15  \n12665         2925.500000              -4            -65  ",
      "text/html": "<div>\n<style scoped>\n    .dataframe tbody tr th:only-of-type {\n        vertical-align: middle;\n    }\n\n    .dataframe tbody tr th {\n        vertical-align: top;\n    }\n\n    .dataframe thead th {\n        text-align: right;\n    }\n</style>\n<table border=\"1\" class=\"dataframe\">\n  <thead>\n    <tr style=\"text-align: right;\">\n      <th></th>\n      <th>Date</th>\n      <th>Confirmed</th>\n      <th>Recovered</th>\n      <th>Deaths</th>\n      <th>Day_deaths</th>\n      <th>Day_confirmed</th>\n      <th>Day_recovered</th>\n      <th>Rt</th>\n      <th>Rt2</th>\n      <th>Rate_conf</th>\n      <th>Rate_ill</th>\n      <th>Region</th>\n      <th>Remaining_ill</th>\n      <th>MA7_dayconfirmed</th>\n      <th>MA14_dayconfirmed</th>\n      <th>MA7_remaining_ill</th>\n      <th>MA14_remaining_ill</th>\n      <th>Change_dayconf</th>\n      <th>Change_remill</th>\n    </tr>\n  </thead>\n  <tbody>\n    <tr>\n      <th>6899</th>\n      <td>2020-08-22</td>\n      <td>256513</td>\n      <td>203821</td>\n      <td>4720</td>\n      <td>10</td>\n      <td>687</td>\n      <td>1094</td>\n      <td>0.996</td>\n      <td>1.011</td>\n      <td>26.947558</td>\n      <td>28.536078</td>\n      <td>Москва</td>\n      <td>47972</td>\n      <td>689.571429</td>\n      <td>690.571429</td>\n      <td>49372.571429</td>\n      <td>50837.571429</td>\n      <td>-3</td>\n      <td>-417</td>\n    </tr>\n    <tr>\n      <th>7073</th>\n      <td>2020-08-22</td>\n      <td>66853</td>\n      <td>50348</td>\n      <td>1161</td>\n      <td>1</td>\n      <td>161</td>\n      <td>154</td>\n      <td>1.025</td>\n      <td>1.009</td>\n      <td>7.023134</td>\n      <td>9.127357</td>\n      <td>Московская обл.</td>\n      <td>15344</td>\n      <td>153.142857</td>\n      <td>152.642857</td>\n      <td>15308.428571</td>\n      <td>15306.785714</td>\n      <td>10</td>\n      <td>6</td>\n    </tr>\n    <tr>\n      <th>9877</th>\n      <td>2020-08-22</td>\n      <td>35011</td>\n      <td>25087</td>\n      <td>2332</td>\n      <td>18</td>\n      <td>183</td>\n      <td>110</td>\n      <td>1.070</td>\n      <td>1.019</td>\n      <td>3.678024</td>\n      <td>4.516091</td>\n      <td>Санкт-Петербург</td>\n      <td>7592</td>\n      <td>166.428571</td>\n      <td>162.928571</td>\n      <td>7403.000000</td>\n      <td>7157.571429</td>\n      <td>2</td>\n      <td>55</td>\n    </tr>\n    <tr>\n      <th>7566</th>\n      <td>2020-08-22</td>\n      <td>26513</td>\n      <td>23642</td>\n      <td>445</td>\n      <td>2</td>\n      <td>122</td>\n      <td>196</td>\n      <td>1.072</td>\n      <td>1.020</td>\n      <td>2.785280</td>\n      <td>1.443103</td>\n      <td>Нижегородская обл.</td>\n      <td>2426</td>\n      <td>125.428571</td>\n      <td>124.428571</td>\n      <td>2589.285714</td>\n      <td>2712.571429</td>\n      <td>-5</td>\n      <td>-76</td>\n    </tr>\n    <tr>\n      <th>10533</th>\n      <td>2020-08-22</td>\n      <td>24226</td>\n      <td>19443</td>\n      <td>403</td>\n      <td>7</td>\n      <td>121</td>\n      <td>60</td>\n      <td>0.888</td>\n      <td>1.024</td>\n      <td>2.545023</td>\n      <td>2.605437</td>\n      <td>Свердловская обл.</td>\n      <td>4380</td>\n      <td>138.714286</td>\n      <td>153.071429</td>\n      <td>4201.571429</td>\n      <td>3951.928571</td>\n      <td>-3</td>\n      <td>54</td>\n    </tr>\n    <tr>\n      <th>12829</th>\n      <td>2020-08-22</td>\n      <td>18999</td>\n      <td>17327</td>\n      <td>156</td>\n      <td>1</td>\n      <td>83</td>\n      <td>170</td>\n      <td>0.988</td>\n      <td>1.017</td>\n      <td>1.995909</td>\n      <td>0.901790</td>\n      <td>ХМАО – Югра</td>\n      <td>1516</td>\n      <td>81.571429</td>\n      <td>98.571429</td>\n      <td>1775.857143</td>\n      <td>2059.714286</td>\n      <td>-2</td>\n      <td>-88</td>\n    </tr>\n    <tr>\n      <th>3276</th>\n      <td>2020-08-22</td>\n      <td>16086</td>\n      <td>11959</td>\n      <td>239</td>\n      <td>0</td>\n      <td>105</td>\n      <td>121</td>\n      <td>0.932</td>\n      <td>1.028</td>\n      <td>1.689889</td>\n      <td>2.312771</td>\n      <td>Иркутская обл.</td>\n      <td>3888</td>\n      <td>108.857143</td>\n      <td>113.285714</td>\n      <td>3954.428571</td>\n      <td>3987.642857</td>\n      <td>4</td>\n      <td>-16</td>\n    </tr>\n    <tr>\n      <th>5412</th>\n      <td>2020-08-22</td>\n      <td>15862</td>\n      <td>12893</td>\n      <td>416</td>\n      <td>6</td>\n      <td>114</td>\n      <td>85</td>\n      <td>0.979</td>\n      <td>1.030</td>\n      <td>1.666357</td>\n      <td>1.518649</td>\n      <td>Красноярский край</td>\n      <td>2553</td>\n      <td>115.857143</td>\n      <td>119.428571</td>\n      <td>2434.142857</td>\n      <td>2231.928571</td>\n      <td>-3</td>\n      <td>23</td>\n    </tr>\n    <tr>\n      <th>9380</th>\n      <td>2020-08-22</td>\n      <td>15761</td>\n      <td>13318</td>\n      <td>306</td>\n      <td>5</td>\n      <td>129</td>\n      <td>159</td>\n      <td>0.996</td>\n      <td>1.034</td>\n      <td>1.655746</td>\n      <td>1.271191</td>\n      <td>Ростовская обл.</td>\n      <td>2137</td>\n      <td>127.714286</td>\n      <td>127.214286</td>\n      <td>2293.285714</td>\n      <td>2340.500000</td>\n      <td>1</td>\n      <td>-35</td>\n    </tr>\n    <tr>\n      <th>2292</th>\n      <td>2020-08-22</td>\n      <td>13244</td>\n      <td>11784</td>\n      <td>104</td>\n      <td>0</td>\n      <td>94</td>\n      <td>97</td>\n      <td>1.039</td>\n      <td>1.031</td>\n      <td>1.391327</td>\n      <td>0.806615</td>\n      <td>Воронежская обл.</td>\n      <td>1356</td>\n      <td>97.714286</td>\n      <td>96.214286</td>\n      <td>1430.285714</td>\n      <td>1581.857143</td>\n      <td>-3</td>\n      <td>-3</td>\n    </tr>\n    <tr>\n      <th>13321</th>\n      <td>2020-08-22</td>\n      <td>13090</td>\n      <td>8817</td>\n      <td>103</td>\n      <td>1</td>\n      <td>71</td>\n      <td>135</td>\n      <td>0.983</td>\n      <td>1.022</td>\n      <td>1.375149</td>\n      <td>2.480519</td>\n      <td>Челябинская обл.</td>\n      <td>4170</td>\n      <td>71.571429</td>\n      <td>77.928571</td>\n      <td>4284.285714</td>\n      <td>4341.785714</td>\n      <td>-2</td>\n      <td>-65</td>\n    </tr>\n    <tr>\n      <th>13972</th>\n      <td>2020-08-22</td>\n      <td>12957</td>\n      <td>12420</td>\n      <td>87</td>\n      <td>2</td>\n      <td>63</td>\n      <td>138</td>\n      <td>0.787</td>\n      <td>1.023</td>\n      <td>1.361177</td>\n      <td>0.267682</td>\n      <td>Ямало-Ненецкий АО</td>\n      <td>450</td>\n      <td>74.428571</td>\n      <td>82.642857</td>\n      <td>704.571429</td>\n      <td>844.214286</td>\n      <td>-2</td>\n      <td>-77</td>\n    </tr>\n    <tr>\n      <th>7237</th>\n      <td>2020-08-22</td>\n      <td>12236</td>\n      <td>9533</td>\n      <td>140</td>\n      <td>7</td>\n      <td>65</td>\n      <td>127</td>\n      <td>0.977</td>\n      <td>1.022</td>\n      <td>1.285433</td>\n      <td>1.524597</td>\n      <td>Мурманская обл.</td>\n      <td>2563</td>\n      <td>64.142857</td>\n      <td>70.285714</td>\n      <td>2800.142857</td>\n      <td>2988.857143</td>\n      <td>2</td>\n      <td>-69</td>\n    </tr>\n    <tr>\n      <th>10041</th>\n      <td>2020-08-22</td>\n      <td>11494</td>\n      <td>7415</td>\n      <td>68</td>\n      <td>0</td>\n      <td>95</td>\n      <td>110</td>\n      <td>0.972</td>\n      <td>1.035</td>\n      <td>1.207484</td>\n      <td>2.385938</td>\n      <td>Саратовская обл.</td>\n      <td>4011</td>\n      <td>95.714286</td>\n      <td>95.500000</td>\n      <td>4069.428571</td>\n      <td>4012.857143</td>\n      <td>4</td>\n      <td>-15</td>\n    </tr>\n    <tr>\n      <th>12665</th>\n      <td>2020-08-22</td>\n      <td>11302</td>\n      <td>8438</td>\n      <td>87</td>\n      <td>7</td>\n      <td>87</td>\n      <td>145</td>\n      <td>0.902</td>\n      <td>1.035</td>\n      <td>1.187313</td>\n      <td>1.651895</td>\n      <td>Ульяновская обл.</td>\n      <td>2777</td>\n      <td>93.714286</td>\n      <td>97.642857</td>\n      <td>2966.142857</td>\n      <td>2925.500000</td>\n      <td>-4</td>\n      <td>-65</td>\n    </tr>\n  </tbody>\n</table>\n</div>"
     },
     "metadata": {},
     "execution_count": 28
    }
   ],
   "source": [
    "mask = (X.Date==myday)&(X.Region!='Россия')\n",
    "#mask = (X.Date==myday)\n",
    "#Делаем выборку по доле регина в общих случаях выявления заболеваний по России\n",
    "df=X[mask].sort_values(by=['Rate_conf'],ascending = False)\n",
    "#Далее заменяем все имена если регион набрал менее 1% в общих случаях по России\n",
    "df2 = X[mask].reset_index(drop=True)\n",
    "print(len(df2))\n",
    "\n",
    "for i in range(len(df2)):\n",
    "    if df2.loc[i,'Rate_conf']<1:\n",
    "        df2.loc[i,'Region']='Регионы менее 1%'\n",
    "df.head(15)"
   ]
  },
  {
   "cell_type": "code",
   "execution_count": 29,
   "metadata": {},
   "outputs": [
    {
     "output_type": "display_data",
     "data": {
      "application/vnd.plotly.v1+json": {
       "config": {
        "plotlyServerURL": "https://plot.ly"
       },
       "data": [
        {
         "domain": {
          "x": [
           0,
           1
          ],
          "y": [
           0,
           1
          ]
         },
         "hovertemplate": "Region=%{label}<br>Confirmed=%{value}<extra></extra>",
         "labels": [
          "Регионы менее 1%",
          "Регионы менее 1%",
          "Алтайский край",
          "Регионы менее 1%",
          "Архангельская обл.",
          "Регионы менее 1%",
          "Регионы менее 1%",
          "Регионы менее 1%",
          "Регионы менее 1%",
          "Регионы менее 1%",
          "Регионы менее 1%",
          "Волгоградская обл.",
          "Регионы менее 1%",
          "Воронежская обл.",
          "Дагестан",
          "Регионы менее 1%",
          "Регионы менее 1%",
          "Регионы менее 1%",
          "Регионы менее 1%",
          "Иркутская обл.",
          "Регионы менее 1%",
          "Регионы менее 1%",
          "Регионы менее 1%",
          "Регионы менее 1%",
          "Регионы менее 1%",
          "Регионы менее 1%",
          "Регионы менее 1%",
          "Регионы менее 1%",
          "Регионы менее 1%",
          "Регионы менее 1%",
          "Регионы менее 1%",
          "Краснодарский край",
          "Красноярский край",
          "Регионы менее 1%",
          "Регионы менее 1%",
          "Регионы менее 1%",
          "Регионы менее 1%",
          "Регионы менее 1%",
          "Регионы менее 1%",
          "Регионы менее 1%",
          "Регионы менее 1%",
          "Москва",
          "Московская обл.",
          "Мурманская обл.",
          "Регионы менее 1%",
          "Нижегородская обл.",
          "Регионы менее 1%",
          "Новосибирская обл.",
          "Регионы менее 1%",
          "Регионы менее 1%",
          "Регионы менее 1%",
          "Регионы менее 1%",
          "Регионы менее 1%",
          "Регионы менее 1%",
          "Регионы менее 1%",
          "Ростовская обл.",
          "Регионы менее 1%",
          "Регионы менее 1%",
          "Санкт-Петербург",
          "Саратовская обл.",
          "Регионы менее 1%",
          "Регионы менее 1%",
          "Свердловская обл.",
          "Регионы менее 1%",
          "Регионы менее 1%",
          "Регионы менее 1%",
          "Ставропольский край",
          "Регионы менее 1%",
          "Регионы менее 1%",
          "Регионы менее 1%",
          "Регионы менее 1%",
          "Регионы менее 1%",
          "Регионы менее 1%",
          "Регионы менее 1%",
          "Регионы менее 1%",
          "Ульяновская обл.",
          "ХМАО – Югра",
          "Регионы менее 1%",
          "Регионы менее 1%",
          "Челябинская обл.",
          "Регионы менее 1%",
          "Регионы менее 1%",
          "Регионы менее 1%",
          "Ямало-Ненецкий АО",
          "Регионы менее 1%"
         ],
         "legendgroup": "",
         "name": "",
         "showlegend": true,
         "textinfo": "percent+label",
         "type": "pie",
         "values": [
          3214,
          1959,
          11115,
          3172,
          10225,
          5369,
          7500,
          6990,
          7963,
          4804,
          6089,
          11190,
          3083,
          13244,
          10395,
          590,
          4388,
          7075,
          4162,
          16086,
          6323,
          3230,
          3669,
          7792,
          3748,
          4763,
          2834,
          5582,
          5986,
          6294,
          3157,
          10422,
          15862,
          1910,
          2777,
          6844,
          6541,
          4918,
          1765,
          4112,
          5174,
          256513,
          66853,
          12236,
          303,
          26513,
          4155,
          10928,
          8950,
          9167,
          6636,
          7590,
          7349,
          8875,
          4350,
          15761,
          6907,
          7844,
          35011,
          11494,
          6985,
          3925,
          24226,
          456,
          4755,
          6033,
          10869,
          6543,
          6250,
          5188,
          5242,
          9000,
          6614,
          7330,
          2931,
          11302,
          18999,
          9443,
          3253,
          13090,
          2222,
          7481,
          167,
          12957,
          6885
         ]
        }
       ],
       "layout": {
        "height": 1000,
        "legend": {
         "tracegroupgap": 0
        },
        "margin": {
         "b": 0,
         "t": 150
        },
        "piecolorway": [
         "rgb(150,0,90)",
         "rgb(0,0,200)",
         "rgb(0,25,255)",
         "rgb(0,152,255)",
         "rgb(44,255,150)",
         "rgb(151,255,0)",
         "rgb(255,234,0)",
         "rgb(255,111,0)",
         "rgb(255,0,0)"
        ],
        "template": {
         "data": {
          "bar": [
           {
            "error_x": {
             "color": "#2a3f5f"
            },
            "error_y": {
             "color": "#2a3f5f"
            },
            "marker": {
             "line": {
              "color": "#E5ECF6",
              "width": 0.5
             }
            },
            "type": "bar"
           }
          ],
          "barpolar": [
           {
            "marker": {
             "line": {
              "color": "#E5ECF6",
              "width": 0.5
             }
            },
            "type": "barpolar"
           }
          ],
          "carpet": [
           {
            "aaxis": {
             "endlinecolor": "#2a3f5f",
             "gridcolor": "white",
             "linecolor": "white",
             "minorgridcolor": "white",
             "startlinecolor": "#2a3f5f"
            },
            "baxis": {
             "endlinecolor": "#2a3f5f",
             "gridcolor": "white",
             "linecolor": "white",
             "minorgridcolor": "white",
             "startlinecolor": "#2a3f5f"
            },
            "type": "carpet"
           }
          ],
          "choropleth": [
           {
            "colorbar": {
             "outlinewidth": 0,
             "ticks": ""
            },
            "type": "choropleth"
           }
          ],
          "contour": [
           {
            "colorbar": {
             "outlinewidth": 0,
             "ticks": ""
            },
            "colorscale": [
             [
              0,
              "#0d0887"
             ],
             [
              0.1111111111111111,
              "#46039f"
             ],
             [
              0.2222222222222222,
              "#7201a8"
             ],
             [
              0.3333333333333333,
              "#9c179e"
             ],
             [
              0.4444444444444444,
              "#bd3786"
             ],
             [
              0.5555555555555556,
              "#d8576b"
             ],
             [
              0.6666666666666666,
              "#ed7953"
             ],
             [
              0.7777777777777778,
              "#fb9f3a"
             ],
             [
              0.8888888888888888,
              "#fdca26"
             ],
             [
              1,
              "#f0f921"
             ]
            ],
            "type": "contour"
           }
          ],
          "contourcarpet": [
           {
            "colorbar": {
             "outlinewidth": 0,
             "ticks": ""
            },
            "type": "contourcarpet"
           }
          ],
          "heatmap": [
           {
            "colorbar": {
             "outlinewidth": 0,
             "ticks": ""
            },
            "colorscale": [
             [
              0,
              "#0d0887"
             ],
             [
              0.1111111111111111,
              "#46039f"
             ],
             [
              0.2222222222222222,
              "#7201a8"
             ],
             [
              0.3333333333333333,
              "#9c179e"
             ],
             [
              0.4444444444444444,
              "#bd3786"
             ],
             [
              0.5555555555555556,
              "#d8576b"
             ],
             [
              0.6666666666666666,
              "#ed7953"
             ],
             [
              0.7777777777777778,
              "#fb9f3a"
             ],
             [
              0.8888888888888888,
              "#fdca26"
             ],
             [
              1,
              "#f0f921"
             ]
            ],
            "type": "heatmap"
           }
          ],
          "heatmapgl": [
           {
            "colorbar": {
             "outlinewidth": 0,
             "ticks": ""
            },
            "colorscale": [
             [
              0,
              "#0d0887"
             ],
             [
              0.1111111111111111,
              "#46039f"
             ],
             [
              0.2222222222222222,
              "#7201a8"
             ],
             [
              0.3333333333333333,
              "#9c179e"
             ],
             [
              0.4444444444444444,
              "#bd3786"
             ],
             [
              0.5555555555555556,
              "#d8576b"
             ],
             [
              0.6666666666666666,
              "#ed7953"
             ],
             [
              0.7777777777777778,
              "#fb9f3a"
             ],
             [
              0.8888888888888888,
              "#fdca26"
             ],
             [
              1,
              "#f0f921"
             ]
            ],
            "type": "heatmapgl"
           }
          ],
          "histogram": [
           {
            "marker": {
             "colorbar": {
              "outlinewidth": 0,
              "ticks": ""
             }
            },
            "type": "histogram"
           }
          ],
          "histogram2d": [
           {
            "colorbar": {
             "outlinewidth": 0,
             "ticks": ""
            },
            "colorscale": [
             [
              0,
              "#0d0887"
             ],
             [
              0.1111111111111111,
              "#46039f"
             ],
             [
              0.2222222222222222,
              "#7201a8"
             ],
             [
              0.3333333333333333,
              "#9c179e"
             ],
             [
              0.4444444444444444,
              "#bd3786"
             ],
             [
              0.5555555555555556,
              "#d8576b"
             ],
             [
              0.6666666666666666,
              "#ed7953"
             ],
             [
              0.7777777777777778,
              "#fb9f3a"
             ],
             [
              0.8888888888888888,
              "#fdca26"
             ],
             [
              1,
              "#f0f921"
             ]
            ],
            "type": "histogram2d"
           }
          ],
          "histogram2dcontour": [
           {
            "colorbar": {
             "outlinewidth": 0,
             "ticks": ""
            },
            "colorscale": [
             [
              0,
              "#0d0887"
             ],
             [
              0.1111111111111111,
              "#46039f"
             ],
             [
              0.2222222222222222,
              "#7201a8"
             ],
             [
              0.3333333333333333,
              "#9c179e"
             ],
             [
              0.4444444444444444,
              "#bd3786"
             ],
             [
              0.5555555555555556,
              "#d8576b"
             ],
             [
              0.6666666666666666,
              "#ed7953"
             ],
             [
              0.7777777777777778,
              "#fb9f3a"
             ],
             [
              0.8888888888888888,
              "#fdca26"
             ],
             [
              1,
              "#f0f921"
             ]
            ],
            "type": "histogram2dcontour"
           }
          ],
          "mesh3d": [
           {
            "colorbar": {
             "outlinewidth": 0,
             "ticks": ""
            },
            "type": "mesh3d"
           }
          ],
          "parcoords": [
           {
            "line": {
             "colorbar": {
              "outlinewidth": 0,
              "ticks": ""
             }
            },
            "type": "parcoords"
           }
          ],
          "pie": [
           {
            "automargin": true,
            "type": "pie"
           }
          ],
          "scatter": [
           {
            "marker": {
             "colorbar": {
              "outlinewidth": 0,
              "ticks": ""
             }
            },
            "type": "scatter"
           }
          ],
          "scatter3d": [
           {
            "line": {
             "colorbar": {
              "outlinewidth": 0,
              "ticks": ""
             }
            },
            "marker": {
             "colorbar": {
              "outlinewidth": 0,
              "ticks": ""
             }
            },
            "type": "scatter3d"
           }
          ],
          "scattercarpet": [
           {
            "marker": {
             "colorbar": {
              "outlinewidth": 0,
              "ticks": ""
             }
            },
            "type": "scattercarpet"
           }
          ],
          "scattergeo": [
           {
            "marker": {
             "colorbar": {
              "outlinewidth": 0,
              "ticks": ""
             }
            },
            "type": "scattergeo"
           }
          ],
          "scattergl": [
           {
            "marker": {
             "colorbar": {
              "outlinewidth": 0,
              "ticks": ""
             }
            },
            "type": "scattergl"
           }
          ],
          "scattermapbox": [
           {
            "marker": {
             "colorbar": {
              "outlinewidth": 0,
              "ticks": ""
             }
            },
            "type": "scattermapbox"
           }
          ],
          "scatterpolar": [
           {
            "marker": {
             "colorbar": {
              "outlinewidth": 0,
              "ticks": ""
             }
            },
            "type": "scatterpolar"
           }
          ],
          "scatterpolargl": [
           {
            "marker": {
             "colorbar": {
              "outlinewidth": 0,
              "ticks": ""
             }
            },
            "type": "scatterpolargl"
           }
          ],
          "scatterternary": [
           {
            "marker": {
             "colorbar": {
              "outlinewidth": 0,
              "ticks": ""
             }
            },
            "type": "scatterternary"
           }
          ],
          "surface": [
           {
            "colorbar": {
             "outlinewidth": 0,
             "ticks": ""
            },
            "colorscale": [
             [
              0,
              "#0d0887"
             ],
             [
              0.1111111111111111,
              "#46039f"
             ],
             [
              0.2222222222222222,
              "#7201a8"
             ],
             [
              0.3333333333333333,
              "#9c179e"
             ],
             [
              0.4444444444444444,
              "#bd3786"
             ],
             [
              0.5555555555555556,
              "#d8576b"
             ],
             [
              0.6666666666666666,
              "#ed7953"
             ],
             [
              0.7777777777777778,
              "#fb9f3a"
             ],
             [
              0.8888888888888888,
              "#fdca26"
             ],
             [
              1,
              "#f0f921"
             ]
            ],
            "type": "surface"
           }
          ],
          "table": [
           {
            "cells": {
             "fill": {
              "color": "#EBF0F8"
             },
             "line": {
              "color": "white"
             }
            },
            "header": {
             "fill": {
              "color": "#C8D4E3"
             },
             "line": {
              "color": "white"
             }
            },
            "type": "table"
           }
          ]
         },
         "layout": {
          "annotationdefaults": {
           "arrowcolor": "#2a3f5f",
           "arrowhead": 0,
           "arrowwidth": 1
          },
          "coloraxis": {
           "colorbar": {
            "outlinewidth": 0,
            "ticks": ""
           }
          },
          "colorscale": {
           "diverging": [
            [
             0,
             "#8e0152"
            ],
            [
             0.1,
             "#c51b7d"
            ],
            [
             0.2,
             "#de77ae"
            ],
            [
             0.3,
             "#f1b6da"
            ],
            [
             0.4,
             "#fde0ef"
            ],
            [
             0.5,
             "#f7f7f7"
            ],
            [
             0.6,
             "#e6f5d0"
            ],
            [
             0.7,
             "#b8e186"
            ],
            [
             0.8,
             "#7fbc41"
            ],
            [
             0.9,
             "#4d9221"
            ],
            [
             1,
             "#276419"
            ]
           ],
           "sequential": [
            [
             0,
             "#0d0887"
            ],
            [
             0.1111111111111111,
             "#46039f"
            ],
            [
             0.2222222222222222,
             "#7201a8"
            ],
            [
             0.3333333333333333,
             "#9c179e"
            ],
            [
             0.4444444444444444,
             "#bd3786"
            ],
            [
             0.5555555555555556,
             "#d8576b"
            ],
            [
             0.6666666666666666,
             "#ed7953"
            ],
            [
             0.7777777777777778,
             "#fb9f3a"
            ],
            [
             0.8888888888888888,
             "#fdca26"
            ],
            [
             1,
             "#f0f921"
            ]
           ],
           "sequentialminus": [
            [
             0,
             "#0d0887"
            ],
            [
             0.1111111111111111,
             "#46039f"
            ],
            [
             0.2222222222222222,
             "#7201a8"
            ],
            [
             0.3333333333333333,
             "#9c179e"
            ],
            [
             0.4444444444444444,
             "#bd3786"
            ],
            [
             0.5555555555555556,
             "#d8576b"
            ],
            [
             0.6666666666666666,
             "#ed7953"
            ],
            [
             0.7777777777777778,
             "#fb9f3a"
            ],
            [
             0.8888888888888888,
             "#fdca26"
            ],
            [
             1,
             "#f0f921"
            ]
           ]
          },
          "colorway": [
           "#636efa",
           "#EF553B",
           "#00cc96",
           "#ab63fa",
           "#FFA15A",
           "#19d3f3",
           "#FF6692",
           "#B6E880",
           "#FF97FF",
           "#FECB52"
          ],
          "font": {
           "color": "#2a3f5f"
          },
          "geo": {
           "bgcolor": "white",
           "lakecolor": "white",
           "landcolor": "#E5ECF6",
           "showlakes": true,
           "showland": true,
           "subunitcolor": "white"
          },
          "hoverlabel": {
           "align": "left"
          },
          "hovermode": "closest",
          "mapbox": {
           "style": "light"
          },
          "paper_bgcolor": "white",
          "plot_bgcolor": "#E5ECF6",
          "polar": {
           "angularaxis": {
            "gridcolor": "white",
            "linecolor": "white",
            "ticks": ""
           },
           "bgcolor": "#E5ECF6",
           "radialaxis": {
            "gridcolor": "white",
            "linecolor": "white",
            "ticks": ""
           }
          },
          "scene": {
           "xaxis": {
            "backgroundcolor": "#E5ECF6",
            "gridcolor": "white",
            "gridwidth": 2,
            "linecolor": "white",
            "showbackground": true,
            "ticks": "",
            "zerolinecolor": "white"
           },
           "yaxis": {
            "backgroundcolor": "#E5ECF6",
            "gridcolor": "white",
            "gridwidth": 2,
            "linecolor": "white",
            "showbackground": true,
            "ticks": "",
            "zerolinecolor": "white"
           },
           "zaxis": {
            "backgroundcolor": "#E5ECF6",
            "gridcolor": "white",
            "gridwidth": 2,
            "linecolor": "white",
            "showbackground": true,
            "ticks": "",
            "zerolinecolor": "white"
           }
          },
          "shapedefaults": {
           "line": {
            "color": "#2a3f5f"
           }
          },
          "ternary": {
           "aaxis": {
            "gridcolor": "white",
            "linecolor": "white",
            "ticks": ""
           },
           "baxis": {
            "gridcolor": "white",
            "linecolor": "white",
            "ticks": ""
           },
           "bgcolor": "#E5ECF6",
           "caxis": {
            "gridcolor": "white",
            "linecolor": "white",
            "ticks": ""
           }
          },
          "title": {
           "x": 0.05
          },
          "xaxis": {
           "automargin": true,
           "gridcolor": "white",
           "linecolor": "white",
           "ticks": "",
           "title": {
            "standoff": 15
           },
           "zerolinecolor": "white",
           "zerolinewidth": 2
          },
          "yaxis": {
           "automargin": true,
           "gridcolor": "white",
           "linecolor": "white",
           "ticks": "",
           "title": {
            "standoff": 15
           },
           "zerolinecolor": "white",
           "zerolinewidth": 2
          }
         }
        },
        "title": {
         "text": "Всего выявленных случаев заболевания COVID-19 в России: 951897<br>(на дату: 2020-08-22)",
         "x": 0.5,
         "xanchor": "center",
         "y": 0.9,
         "yanchor": "bottom"
        },
        "width": 900
       }
      }
     },
     "metadata": {}
    }
   ],
   "source": [
    "\n",
    "\n",
    "\n",
    "fig = px.pie(df2, values='Confirmed', names='Region',color_discrete_sequence=px.colors.sequential.Rainbow,\n",
    "            title=f'Всего выявленных случаев заболевания COVID-19 в России: {df2.Confirmed.sum()}<br>'+\n",
    "            f'(на дату: {myday})'\n",
    "            ,\n",
    "            width = 900, height=1000)\n",
    "\n",
    "fig.update_traces(textinfo='percent+label')\n",
    "fig.update_layout(\n",
    "        \n",
    "                #  title=f'{my_region}: динамика текущих больных COVID-19 по дням<br>(изменение относительно предыдущего дня)',\n",
    "                  title_x = 0.5,\n",
    "                  margin = {'t':150, 'b':0},\n",
    "                  title_y= 0.9,\n",
    "                  title_xanchor = \"center\",\n",
    "                  title_yanchor = \"bottom\", \n",
    "                 # legend_x = 0.05,legend_y = 0.98,\n",
    "                     \n",
    ")\n",
    "\n",
    "fig.show()\n"
   ]
  },
  {
   "cell_type": "code",
   "execution_count": 30,
   "metadata": {
    "tags": []
   },
   "outputs": [
    {
     "output_type": "stream",
     "name": "stdout",
     "text": "85\n"
    },
    {
     "output_type": "execute_result",
     "data": {
      "text/plain": "             Date  Confirmed  Recovered  Deaths  Day_deaths  Day_confirmed  \\\n6899   2020-08-22     256513     203821    4720          10            687   \n7073   2020-08-22      66853      50348    1161           1            161   \n9877   2020-08-22      35011      25087    2332          18            183   \n10533  2020-08-22      24226      19443     403           7            121   \n13321  2020-08-22      13090       8817     103           1             71   \n10041  2020-08-22      11494       7415      68           0             95   \n3276   2020-08-22      16086      11959     239           0            105   \n1964   2020-08-22      11190       7599      84           1             85   \n11189  2020-08-22      10869       7365     212           3            128   \n12665  2020-08-22      11302       8438      87           7             87   \n7237   2020-08-22      12236       9533     140           7             65   \n5412   2020-08-22      15862      12893     416           6            114   \n7566   2020-08-22      26513      23642     445           2            122   \n9380   2020-08-22      15761      13318     306           5            129   \n12993  2020-08-22       9443       7367      83           0             68   \n8714   2020-08-22       7349       5174     197           1             57   \n8058   2020-08-22       8950       6930     150           5             57   \n10369  2020-08-22       3925       2228       0           0             58   \n8878   2020-08-22       8875       7110      99           0             86   \n6068   2020-08-22       6541       4840      74           4             28   \n\n       Day_recovered     Rt    Rt2  Rate_conf   Rate_ill               Region  \\\n6899            1094  0.996  1.011  26.947558  28.536078               Москва   \n7073             154  1.025  1.009   7.023134   9.127357      Московская обл.   \n9877             110  1.070  1.019   3.678024   4.516091      Санкт-Петербург   \n10533             60  0.888  1.024   2.545023   2.605437    Свердловская обл.   \n13321            135  0.983  1.022   1.375149   2.480519     Челябинская обл.   \n10041            110  0.972  1.035   1.207484   2.385938     Саратовская обл.   \n3276             121  0.932  1.028   1.689889   2.312771       Иркутская обл.   \n1964             137  0.909  1.033   1.175547   2.086134   Волгоградская обл.   \n11189            176  1.016  1.052   1.141825   1.958242  Ставропольский край   \n12665            145  0.902  1.035   1.187313   1.651895     Ульяновская обл.   \n7237             127  0.977  1.022   1.285433   1.524597      Мурманская обл.   \n5412              85  0.979  1.030   1.666357   1.518649    Красноярский край   \n7566             196  1.072  1.020   2.785280   1.443103   Нижегородская обл.   \n9380             159  0.996  1.034   1.655746   1.271191      Ростовская обл.   \n12993             69  0.996  1.032   0.992019   1.185533     Хабаровский край   \n8714              45  0.902  1.035   0.772037   1.176611        Пермский край   \n8058             130  0.660  1.038   0.940228   1.112367          Омская обл.   \n10369             48  0.970  1.064   0.412335   1.009458     Сахалинская обл.   \n8878              55  0.959  1.042   0.932349   0.991018      Приморский край   \n6068              26  1.046  1.017   0.687154   0.967819   Ленинградская обл.   \n\n       Remaining_ill  MA7_dayconfirmed  MA14_dayconfirmed  MA7_remaining_ill  \\\n6899           47972        689.571429         690.571429       49372.571429   \n7073           15344        153.142857         152.642857       15308.428571   \n9877            7592        166.428571         162.928571        7403.000000   \n10533           4380        138.714286         153.071429        4201.571429   \n13321           4170         71.571429          77.928571        4284.285714   \n10041           4011         95.714286          95.500000        4069.428571   \n3276            3888        108.857143         113.285714        3954.428571   \n1964            3507         87.714286          92.714286        3672.714286   \n11189           3292        130.428571         123.785714        3250.285714   \n12665           2777         93.714286          97.642857        2966.142857   \n7237            2563         64.142857          70.285714        2800.142857   \n5412            2553        115.857143         119.428571        2434.142857   \n7566            2426        125.428571         124.428571        2589.285714   \n9380            2137        127.714286         127.214286        2293.285714   \n12993           1993         70.428571          76.071429        2049.285714   \n8714            1978         62.000000          65.214286        1928.714286   \n8058            1870         80.285714          93.857143        2064.571429   \n10369           1697         58.000000          60.714286        1667.000000   \n8878            1666         88.285714          90.571429        1616.571429   \n6068            1627         28.000000          28.142857        1610.714286   \n\n       MA14_remaining_ill  Change_dayconf  Change_remill  \n6899         50837.571429              -3           -417  \n7073         15306.785714              10              6  \n9877          7157.571429               2             55  \n10533         3951.928571              -3             54  \n13321         4341.785714              -2            -65  \n10041         4012.857143               4            -15  \n3276          3987.642857               4            -16  \n1964          3657.142857               3            -53  \n11189         3058.714286              -4            -51  \n12665         2925.500000              -4            -65  \n7237          2988.857143               2            -69  \n5412          2231.928571              -3             23  \n7566          2712.571429              -5            -76  \n9380          2340.500000               1            -35  \n12993         2183.714286              -3             -1  \n8714          1844.571429              -1             11  \n8058          2142.928571               3            -78  \n10369         1633.571429               2             10  \n8878          1605.142857               0             31  \n6068          1569.285714              -1             -2  ",
      "text/html": "<div>\n<style scoped>\n    .dataframe tbody tr th:only-of-type {\n        vertical-align: middle;\n    }\n\n    .dataframe tbody tr th {\n        vertical-align: top;\n    }\n\n    .dataframe thead th {\n        text-align: right;\n    }\n</style>\n<table border=\"1\" class=\"dataframe\">\n  <thead>\n    <tr style=\"text-align: right;\">\n      <th></th>\n      <th>Date</th>\n      <th>Confirmed</th>\n      <th>Recovered</th>\n      <th>Deaths</th>\n      <th>Day_deaths</th>\n      <th>Day_confirmed</th>\n      <th>Day_recovered</th>\n      <th>Rt</th>\n      <th>Rt2</th>\n      <th>Rate_conf</th>\n      <th>Rate_ill</th>\n      <th>Region</th>\n      <th>Remaining_ill</th>\n      <th>MA7_dayconfirmed</th>\n      <th>MA14_dayconfirmed</th>\n      <th>MA7_remaining_ill</th>\n      <th>MA14_remaining_ill</th>\n      <th>Change_dayconf</th>\n      <th>Change_remill</th>\n    </tr>\n  </thead>\n  <tbody>\n    <tr>\n      <th>6899</th>\n      <td>2020-08-22</td>\n      <td>256513</td>\n      <td>203821</td>\n      <td>4720</td>\n      <td>10</td>\n      <td>687</td>\n      <td>1094</td>\n      <td>0.996</td>\n      <td>1.011</td>\n      <td>26.947558</td>\n      <td>28.536078</td>\n      <td>Москва</td>\n      <td>47972</td>\n      <td>689.571429</td>\n      <td>690.571429</td>\n      <td>49372.571429</td>\n      <td>50837.571429</td>\n      <td>-3</td>\n      <td>-417</td>\n    </tr>\n    <tr>\n      <th>7073</th>\n      <td>2020-08-22</td>\n      <td>66853</td>\n      <td>50348</td>\n      <td>1161</td>\n      <td>1</td>\n      <td>161</td>\n      <td>154</td>\n      <td>1.025</td>\n      <td>1.009</td>\n      <td>7.023134</td>\n      <td>9.127357</td>\n      <td>Московская обл.</td>\n      <td>15344</td>\n      <td>153.142857</td>\n      <td>152.642857</td>\n      <td>15308.428571</td>\n      <td>15306.785714</td>\n      <td>10</td>\n      <td>6</td>\n    </tr>\n    <tr>\n      <th>9877</th>\n      <td>2020-08-22</td>\n      <td>35011</td>\n      <td>25087</td>\n      <td>2332</td>\n      <td>18</td>\n      <td>183</td>\n      <td>110</td>\n      <td>1.070</td>\n      <td>1.019</td>\n      <td>3.678024</td>\n      <td>4.516091</td>\n      <td>Санкт-Петербург</td>\n      <td>7592</td>\n      <td>166.428571</td>\n      <td>162.928571</td>\n      <td>7403.000000</td>\n      <td>7157.571429</td>\n      <td>2</td>\n      <td>55</td>\n    </tr>\n    <tr>\n      <th>10533</th>\n      <td>2020-08-22</td>\n      <td>24226</td>\n      <td>19443</td>\n      <td>403</td>\n      <td>7</td>\n      <td>121</td>\n      <td>60</td>\n      <td>0.888</td>\n      <td>1.024</td>\n      <td>2.545023</td>\n      <td>2.605437</td>\n      <td>Свердловская обл.</td>\n      <td>4380</td>\n      <td>138.714286</td>\n      <td>153.071429</td>\n      <td>4201.571429</td>\n      <td>3951.928571</td>\n      <td>-3</td>\n      <td>54</td>\n    </tr>\n    <tr>\n      <th>13321</th>\n      <td>2020-08-22</td>\n      <td>13090</td>\n      <td>8817</td>\n      <td>103</td>\n      <td>1</td>\n      <td>71</td>\n      <td>135</td>\n      <td>0.983</td>\n      <td>1.022</td>\n      <td>1.375149</td>\n      <td>2.480519</td>\n      <td>Челябинская обл.</td>\n      <td>4170</td>\n      <td>71.571429</td>\n      <td>77.928571</td>\n      <td>4284.285714</td>\n      <td>4341.785714</td>\n      <td>-2</td>\n      <td>-65</td>\n    </tr>\n    <tr>\n      <th>10041</th>\n      <td>2020-08-22</td>\n      <td>11494</td>\n      <td>7415</td>\n      <td>68</td>\n      <td>0</td>\n      <td>95</td>\n      <td>110</td>\n      <td>0.972</td>\n      <td>1.035</td>\n      <td>1.207484</td>\n      <td>2.385938</td>\n      <td>Саратовская обл.</td>\n      <td>4011</td>\n      <td>95.714286</td>\n      <td>95.500000</td>\n      <td>4069.428571</td>\n      <td>4012.857143</td>\n      <td>4</td>\n      <td>-15</td>\n    </tr>\n    <tr>\n      <th>3276</th>\n      <td>2020-08-22</td>\n      <td>16086</td>\n      <td>11959</td>\n      <td>239</td>\n      <td>0</td>\n      <td>105</td>\n      <td>121</td>\n      <td>0.932</td>\n      <td>1.028</td>\n      <td>1.689889</td>\n      <td>2.312771</td>\n      <td>Иркутская обл.</td>\n      <td>3888</td>\n      <td>108.857143</td>\n      <td>113.285714</td>\n      <td>3954.428571</td>\n      <td>3987.642857</td>\n      <td>4</td>\n      <td>-16</td>\n    </tr>\n    <tr>\n      <th>1964</th>\n      <td>2020-08-22</td>\n      <td>11190</td>\n      <td>7599</td>\n      <td>84</td>\n      <td>1</td>\n      <td>85</td>\n      <td>137</td>\n      <td>0.909</td>\n      <td>1.033</td>\n      <td>1.175547</td>\n      <td>2.086134</td>\n      <td>Волгоградская обл.</td>\n      <td>3507</td>\n      <td>87.714286</td>\n      <td>92.714286</td>\n      <td>3672.714286</td>\n      <td>3657.142857</td>\n      <td>3</td>\n      <td>-53</td>\n    </tr>\n    <tr>\n      <th>11189</th>\n      <td>2020-08-22</td>\n      <td>10869</td>\n      <td>7365</td>\n      <td>212</td>\n      <td>3</td>\n      <td>128</td>\n      <td>176</td>\n      <td>1.016</td>\n      <td>1.052</td>\n      <td>1.141825</td>\n      <td>1.958242</td>\n      <td>Ставропольский край</td>\n      <td>3292</td>\n      <td>130.428571</td>\n      <td>123.785714</td>\n      <td>3250.285714</td>\n      <td>3058.714286</td>\n      <td>-4</td>\n      <td>-51</td>\n    </tr>\n    <tr>\n      <th>12665</th>\n      <td>2020-08-22</td>\n      <td>11302</td>\n      <td>8438</td>\n      <td>87</td>\n      <td>7</td>\n      <td>87</td>\n      <td>145</td>\n      <td>0.902</td>\n      <td>1.035</td>\n      <td>1.187313</td>\n      <td>1.651895</td>\n      <td>Ульяновская обл.</td>\n      <td>2777</td>\n      <td>93.714286</td>\n      <td>97.642857</td>\n      <td>2966.142857</td>\n      <td>2925.500000</td>\n      <td>-4</td>\n      <td>-65</td>\n    </tr>\n    <tr>\n      <th>7237</th>\n      <td>2020-08-22</td>\n      <td>12236</td>\n      <td>9533</td>\n      <td>140</td>\n      <td>7</td>\n      <td>65</td>\n      <td>127</td>\n      <td>0.977</td>\n      <td>1.022</td>\n      <td>1.285433</td>\n      <td>1.524597</td>\n      <td>Мурманская обл.</td>\n      <td>2563</td>\n      <td>64.142857</td>\n      <td>70.285714</td>\n      <td>2800.142857</td>\n      <td>2988.857143</td>\n      <td>2</td>\n      <td>-69</td>\n    </tr>\n    <tr>\n      <th>5412</th>\n      <td>2020-08-22</td>\n      <td>15862</td>\n      <td>12893</td>\n      <td>416</td>\n      <td>6</td>\n      <td>114</td>\n      <td>85</td>\n      <td>0.979</td>\n      <td>1.030</td>\n      <td>1.666357</td>\n      <td>1.518649</td>\n      <td>Красноярский край</td>\n      <td>2553</td>\n      <td>115.857143</td>\n      <td>119.428571</td>\n      <td>2434.142857</td>\n      <td>2231.928571</td>\n      <td>-3</td>\n      <td>23</td>\n    </tr>\n    <tr>\n      <th>7566</th>\n      <td>2020-08-22</td>\n      <td>26513</td>\n      <td>23642</td>\n      <td>445</td>\n      <td>2</td>\n      <td>122</td>\n      <td>196</td>\n      <td>1.072</td>\n      <td>1.020</td>\n      <td>2.785280</td>\n      <td>1.443103</td>\n      <td>Нижегородская обл.</td>\n      <td>2426</td>\n      <td>125.428571</td>\n      <td>124.428571</td>\n      <td>2589.285714</td>\n      <td>2712.571429</td>\n      <td>-5</td>\n      <td>-76</td>\n    </tr>\n    <tr>\n      <th>9380</th>\n      <td>2020-08-22</td>\n      <td>15761</td>\n      <td>13318</td>\n      <td>306</td>\n      <td>5</td>\n      <td>129</td>\n      <td>159</td>\n      <td>0.996</td>\n      <td>1.034</td>\n      <td>1.655746</td>\n      <td>1.271191</td>\n      <td>Ростовская обл.</td>\n      <td>2137</td>\n      <td>127.714286</td>\n      <td>127.214286</td>\n      <td>2293.285714</td>\n      <td>2340.500000</td>\n      <td>1</td>\n      <td>-35</td>\n    </tr>\n    <tr>\n      <th>12993</th>\n      <td>2020-08-22</td>\n      <td>9443</td>\n      <td>7367</td>\n      <td>83</td>\n      <td>0</td>\n      <td>68</td>\n      <td>69</td>\n      <td>0.996</td>\n      <td>1.032</td>\n      <td>0.992019</td>\n      <td>1.185533</td>\n      <td>Хабаровский край</td>\n      <td>1993</td>\n      <td>70.428571</td>\n      <td>76.071429</td>\n      <td>2049.285714</td>\n      <td>2183.714286</td>\n      <td>-3</td>\n      <td>-1</td>\n    </tr>\n    <tr>\n      <th>8714</th>\n      <td>2020-08-22</td>\n      <td>7349</td>\n      <td>5174</td>\n      <td>197</td>\n      <td>1</td>\n      <td>57</td>\n      <td>45</td>\n      <td>0.902</td>\n      <td>1.035</td>\n      <td>0.772037</td>\n      <td>1.176611</td>\n      <td>Пермский край</td>\n      <td>1978</td>\n      <td>62.000000</td>\n      <td>65.214286</td>\n      <td>1928.714286</td>\n      <td>1844.571429</td>\n      <td>-1</td>\n      <td>11</td>\n    </tr>\n    <tr>\n      <th>8058</th>\n      <td>2020-08-22</td>\n      <td>8950</td>\n      <td>6930</td>\n      <td>150</td>\n      <td>5</td>\n      <td>57</td>\n      <td>130</td>\n      <td>0.660</td>\n      <td>1.038</td>\n      <td>0.940228</td>\n      <td>1.112367</td>\n      <td>Омская обл.</td>\n      <td>1870</td>\n      <td>80.285714</td>\n      <td>93.857143</td>\n      <td>2064.571429</td>\n      <td>2142.928571</td>\n      <td>3</td>\n      <td>-78</td>\n    </tr>\n    <tr>\n      <th>10369</th>\n      <td>2020-08-22</td>\n      <td>3925</td>\n      <td>2228</td>\n      <td>0</td>\n      <td>0</td>\n      <td>58</td>\n      <td>48</td>\n      <td>0.970</td>\n      <td>1.064</td>\n      <td>0.412335</td>\n      <td>1.009458</td>\n      <td>Сахалинская обл.</td>\n      <td>1697</td>\n      <td>58.000000</td>\n      <td>60.714286</td>\n      <td>1667.000000</td>\n      <td>1633.571429</td>\n      <td>2</td>\n      <td>10</td>\n    </tr>\n    <tr>\n      <th>8878</th>\n      <td>2020-08-22</td>\n      <td>8875</td>\n      <td>7110</td>\n      <td>99</td>\n      <td>0</td>\n      <td>86</td>\n      <td>55</td>\n      <td>0.959</td>\n      <td>1.042</td>\n      <td>0.932349</td>\n      <td>0.991018</td>\n      <td>Приморский край</td>\n      <td>1666</td>\n      <td>88.285714</td>\n      <td>90.571429</td>\n      <td>1616.571429</td>\n      <td>1605.142857</td>\n      <td>0</td>\n      <td>31</td>\n    </tr>\n    <tr>\n      <th>6068</th>\n      <td>2020-08-22</td>\n      <td>6541</td>\n      <td>4840</td>\n      <td>74</td>\n      <td>4</td>\n      <td>28</td>\n      <td>26</td>\n      <td>1.046</td>\n      <td>1.017</td>\n      <td>0.687154</td>\n      <td>0.967819</td>\n      <td>Ленинградская обл.</td>\n      <td>1627</td>\n      <td>28.000000</td>\n      <td>28.142857</td>\n      <td>1610.714286</td>\n      <td>1569.285714</td>\n      <td>-1</td>\n      <td>-2</td>\n    </tr>\n  </tbody>\n</table>\n</div>"
     },
     "metadata": {},
     "execution_count": 30
    }
   ],
   "source": [
    "mask = (X.Date==myday)&(X.Region!='Россия')\n",
    "#mask = (X.Date==myday)\n",
    "#Делаем выборку по доле регина в общих случаях выявления заболеваний по России\n",
    "df=X[mask].sort_values(by=['Rate_ill'],ascending = False)\n",
    "#Далее заменяем все имена если регион набрал менее 1% в общих случаях по России\n",
    "df2 = X[mask].reset_index(drop=True)\n",
    "print(len(df2))\n",
    "\n",
    "for i in range(len(df2)):\n",
    "    if df2.loc[i,'Rate_ill']<1:\n",
    "        df2.loc[i,'Region']='Регионы менее 1%'\n",
    "df.head(20)"
   ]
  },
  {
   "cell_type": "code",
   "execution_count": 31,
   "metadata": {},
   "outputs": [
    {
     "output_type": "display_data",
     "data": {
      "application/vnd.plotly.v1+json": {
       "config": {
        "plotlyServerURL": "https://plot.ly"
       },
       "data": [
        {
         "domain": {
          "x": [
           0,
           1
          ],
          "y": [
           0,
           1
          ]
         },
         "hovertemplate": "Region=%{label}<br>Remaining_ill=%{value}<extra></extra>",
         "labels": [
          "Регионы менее 1%",
          "Регионы менее 1%",
          "Регионы менее 1%",
          "Регионы менее 1%",
          "Регионы менее 1%",
          "Регионы менее 1%",
          "Регионы менее 1%",
          "Регионы менее 1%",
          "Регионы менее 1%",
          "Регионы менее 1%",
          "Регионы менее 1%",
          "Волгоградская обл.",
          "Регионы менее 1%",
          "Регионы менее 1%",
          "Регионы менее 1%",
          "Регионы менее 1%",
          "Регионы менее 1%",
          "Регионы менее 1%",
          "Регионы менее 1%",
          "Иркутская обл.",
          "Регионы менее 1%",
          "Регионы менее 1%",
          "Регионы менее 1%",
          "Регионы менее 1%",
          "Регионы менее 1%",
          "Регионы менее 1%",
          "Регионы менее 1%",
          "Регионы менее 1%",
          "Регионы менее 1%",
          "Регионы менее 1%",
          "Регионы менее 1%",
          "Регионы менее 1%",
          "Красноярский край",
          "Регионы менее 1%",
          "Регионы менее 1%",
          "Регионы менее 1%",
          "Регионы менее 1%",
          "Регионы менее 1%",
          "Регионы менее 1%",
          "Регионы менее 1%",
          "Регионы менее 1%",
          "Москва",
          "Московская обл.",
          "Мурманская обл.",
          "Регионы менее 1%",
          "Нижегородская обл.",
          "Регионы менее 1%",
          "Регионы менее 1%",
          "Омская обл.",
          "Регионы менее 1%",
          "Регионы менее 1%",
          "Регионы менее 1%",
          "Пермский край",
          "Регионы менее 1%",
          "Регионы менее 1%",
          "Ростовская обл.",
          "Регионы менее 1%",
          "Регионы менее 1%",
          "Санкт-Петербург",
          "Саратовская обл.",
          "Регионы менее 1%",
          "Сахалинская обл.",
          "Свердловская обл.",
          "Регионы менее 1%",
          "Регионы менее 1%",
          "Регионы менее 1%",
          "Ставропольский край",
          "Регионы менее 1%",
          "Регионы менее 1%",
          "Регионы менее 1%",
          "Регионы менее 1%",
          "Регионы менее 1%",
          "Регионы менее 1%",
          "Регионы менее 1%",
          "Регионы менее 1%",
          "Ульяновская обл.",
          "Регионы менее 1%",
          "Хабаровский край",
          "Регионы менее 1%",
          "Челябинская обл.",
          "Регионы менее 1%",
          "Регионы менее 1%",
          "Регионы менее 1%",
          "Регионы менее 1%",
          "Регионы менее 1%"
         ],
         "legendgroup": "",
         "name": "",
         "showlegend": true,
         "textinfo": "percent+label",
         "type": "pie",
         "values": [
          495,
          279,
          1336,
          331,
          1172,
          637,
          831,
          797,
          1451,
          553,
          532,
          3507,
          442,
          1356,
          652,
          47,
          267,
          1085,
          363,
          3888,
          303,
          586,
          1148,
          1176,
          584,
          497,
          866,
          1622,
          1103,
          979,
          931,
          1507,
          2553,
          511,
          359,
          1107,
          1627,
          426,
          360,
          409,
          1074,
          47972,
          15344,
          2563,
          192,
          2426,
          1050,
          949,
          1870,
          1454,
          1375,
          274,
          1978,
          1666,
          1122,
          2137,
          743,
          1565,
          7592,
          4011,
          1145,
          1697,
          4380,
          90,
          366,
          811,
          3292,
          929,
          1090,
          944,
          1078,
          956,
          632,
          461,
          449,
          2777,
          1516,
          1993,
          210,
          4170,
          673,
          1244,
          5,
          450,
          720
         ]
        }
       ],
       "layout": {
        "height": 1000,
        "legend": {
         "tracegroupgap": 0
        },
        "margin": {
         "b": 0,
         "t": 150
        },
        "piecolorway": [
         "rgb(150,0,90)",
         "rgb(0,0,200)",
         "rgb(0,25,255)",
         "rgb(0,152,255)",
         "rgb(44,255,150)",
         "rgb(151,255,0)",
         "rgb(255,234,0)",
         "rgb(255,111,0)",
         "rgb(255,0,0)"
        ],
        "template": {
         "data": {
          "bar": [
           {
            "error_x": {
             "color": "#2a3f5f"
            },
            "error_y": {
             "color": "#2a3f5f"
            },
            "marker": {
             "line": {
              "color": "#E5ECF6",
              "width": 0.5
             }
            },
            "type": "bar"
           }
          ],
          "barpolar": [
           {
            "marker": {
             "line": {
              "color": "#E5ECF6",
              "width": 0.5
             }
            },
            "type": "barpolar"
           }
          ],
          "carpet": [
           {
            "aaxis": {
             "endlinecolor": "#2a3f5f",
             "gridcolor": "white",
             "linecolor": "white",
             "minorgridcolor": "white",
             "startlinecolor": "#2a3f5f"
            },
            "baxis": {
             "endlinecolor": "#2a3f5f",
             "gridcolor": "white",
             "linecolor": "white",
             "minorgridcolor": "white",
             "startlinecolor": "#2a3f5f"
            },
            "type": "carpet"
           }
          ],
          "choropleth": [
           {
            "colorbar": {
             "outlinewidth": 0,
             "ticks": ""
            },
            "type": "choropleth"
           }
          ],
          "contour": [
           {
            "colorbar": {
             "outlinewidth": 0,
             "ticks": ""
            },
            "colorscale": [
             [
              0,
              "#0d0887"
             ],
             [
              0.1111111111111111,
              "#46039f"
             ],
             [
              0.2222222222222222,
              "#7201a8"
             ],
             [
              0.3333333333333333,
              "#9c179e"
             ],
             [
              0.4444444444444444,
              "#bd3786"
             ],
             [
              0.5555555555555556,
              "#d8576b"
             ],
             [
              0.6666666666666666,
              "#ed7953"
             ],
             [
              0.7777777777777778,
              "#fb9f3a"
             ],
             [
              0.8888888888888888,
              "#fdca26"
             ],
             [
              1,
              "#f0f921"
             ]
            ],
            "type": "contour"
           }
          ],
          "contourcarpet": [
           {
            "colorbar": {
             "outlinewidth": 0,
             "ticks": ""
            },
            "type": "contourcarpet"
           }
          ],
          "heatmap": [
           {
            "colorbar": {
             "outlinewidth": 0,
             "ticks": ""
            },
            "colorscale": [
             [
              0,
              "#0d0887"
             ],
             [
              0.1111111111111111,
              "#46039f"
             ],
             [
              0.2222222222222222,
              "#7201a8"
             ],
             [
              0.3333333333333333,
              "#9c179e"
             ],
             [
              0.4444444444444444,
              "#bd3786"
             ],
             [
              0.5555555555555556,
              "#d8576b"
             ],
             [
              0.6666666666666666,
              "#ed7953"
             ],
             [
              0.7777777777777778,
              "#fb9f3a"
             ],
             [
              0.8888888888888888,
              "#fdca26"
             ],
             [
              1,
              "#f0f921"
             ]
            ],
            "type": "heatmap"
           }
          ],
          "heatmapgl": [
           {
            "colorbar": {
             "outlinewidth": 0,
             "ticks": ""
            },
            "colorscale": [
             [
              0,
              "#0d0887"
             ],
             [
              0.1111111111111111,
              "#46039f"
             ],
             [
              0.2222222222222222,
              "#7201a8"
             ],
             [
              0.3333333333333333,
              "#9c179e"
             ],
             [
              0.4444444444444444,
              "#bd3786"
             ],
             [
              0.5555555555555556,
              "#d8576b"
             ],
             [
              0.6666666666666666,
              "#ed7953"
             ],
             [
              0.7777777777777778,
              "#fb9f3a"
             ],
             [
              0.8888888888888888,
              "#fdca26"
             ],
             [
              1,
              "#f0f921"
             ]
            ],
            "type": "heatmapgl"
           }
          ],
          "histogram": [
           {
            "marker": {
             "colorbar": {
              "outlinewidth": 0,
              "ticks": ""
             }
            },
            "type": "histogram"
           }
          ],
          "histogram2d": [
           {
            "colorbar": {
             "outlinewidth": 0,
             "ticks": ""
            },
            "colorscale": [
             [
              0,
              "#0d0887"
             ],
             [
              0.1111111111111111,
              "#46039f"
             ],
             [
              0.2222222222222222,
              "#7201a8"
             ],
             [
              0.3333333333333333,
              "#9c179e"
             ],
             [
              0.4444444444444444,
              "#bd3786"
             ],
             [
              0.5555555555555556,
              "#d8576b"
             ],
             [
              0.6666666666666666,
              "#ed7953"
             ],
             [
              0.7777777777777778,
              "#fb9f3a"
             ],
             [
              0.8888888888888888,
              "#fdca26"
             ],
             [
              1,
              "#f0f921"
             ]
            ],
            "type": "histogram2d"
           }
          ],
          "histogram2dcontour": [
           {
            "colorbar": {
             "outlinewidth": 0,
             "ticks": ""
            },
            "colorscale": [
             [
              0,
              "#0d0887"
             ],
             [
              0.1111111111111111,
              "#46039f"
             ],
             [
              0.2222222222222222,
              "#7201a8"
             ],
             [
              0.3333333333333333,
              "#9c179e"
             ],
             [
              0.4444444444444444,
              "#bd3786"
             ],
             [
              0.5555555555555556,
              "#d8576b"
             ],
             [
              0.6666666666666666,
              "#ed7953"
             ],
             [
              0.7777777777777778,
              "#fb9f3a"
             ],
             [
              0.8888888888888888,
              "#fdca26"
             ],
             [
              1,
              "#f0f921"
             ]
            ],
            "type": "histogram2dcontour"
           }
          ],
          "mesh3d": [
           {
            "colorbar": {
             "outlinewidth": 0,
             "ticks": ""
            },
            "type": "mesh3d"
           }
          ],
          "parcoords": [
           {
            "line": {
             "colorbar": {
              "outlinewidth": 0,
              "ticks": ""
             }
            },
            "type": "parcoords"
           }
          ],
          "pie": [
           {
            "automargin": true,
            "type": "pie"
           }
          ],
          "scatter": [
           {
            "marker": {
             "colorbar": {
              "outlinewidth": 0,
              "ticks": ""
             }
            },
            "type": "scatter"
           }
          ],
          "scatter3d": [
           {
            "line": {
             "colorbar": {
              "outlinewidth": 0,
              "ticks": ""
             }
            },
            "marker": {
             "colorbar": {
              "outlinewidth": 0,
              "ticks": ""
             }
            },
            "type": "scatter3d"
           }
          ],
          "scattercarpet": [
           {
            "marker": {
             "colorbar": {
              "outlinewidth": 0,
              "ticks": ""
             }
            },
            "type": "scattercarpet"
           }
          ],
          "scattergeo": [
           {
            "marker": {
             "colorbar": {
              "outlinewidth": 0,
              "ticks": ""
             }
            },
            "type": "scattergeo"
           }
          ],
          "scattergl": [
           {
            "marker": {
             "colorbar": {
              "outlinewidth": 0,
              "ticks": ""
             }
            },
            "type": "scattergl"
           }
          ],
          "scattermapbox": [
           {
            "marker": {
             "colorbar": {
              "outlinewidth": 0,
              "ticks": ""
             }
            },
            "type": "scattermapbox"
           }
          ],
          "scatterpolar": [
           {
            "marker": {
             "colorbar": {
              "outlinewidth": 0,
              "ticks": ""
             }
            },
            "type": "scatterpolar"
           }
          ],
          "scatterpolargl": [
           {
            "marker": {
             "colorbar": {
              "outlinewidth": 0,
              "ticks": ""
             }
            },
            "type": "scatterpolargl"
           }
          ],
          "scatterternary": [
           {
            "marker": {
             "colorbar": {
              "outlinewidth": 0,
              "ticks": ""
             }
            },
            "type": "scatterternary"
           }
          ],
          "surface": [
           {
            "colorbar": {
             "outlinewidth": 0,
             "ticks": ""
            },
            "colorscale": [
             [
              0,
              "#0d0887"
             ],
             [
              0.1111111111111111,
              "#46039f"
             ],
             [
              0.2222222222222222,
              "#7201a8"
             ],
             [
              0.3333333333333333,
              "#9c179e"
             ],
             [
              0.4444444444444444,
              "#bd3786"
             ],
             [
              0.5555555555555556,
              "#d8576b"
             ],
             [
              0.6666666666666666,
              "#ed7953"
             ],
             [
              0.7777777777777778,
              "#fb9f3a"
             ],
             [
              0.8888888888888888,
              "#fdca26"
             ],
             [
              1,
              "#f0f921"
             ]
            ],
            "type": "surface"
           }
          ],
          "table": [
           {
            "cells": {
             "fill": {
              "color": "#EBF0F8"
             },
             "line": {
              "color": "white"
             }
            },
            "header": {
             "fill": {
              "color": "#C8D4E3"
             },
             "line": {
              "color": "white"
             }
            },
            "type": "table"
           }
          ]
         },
         "layout": {
          "annotationdefaults": {
           "arrowcolor": "#2a3f5f",
           "arrowhead": 0,
           "arrowwidth": 1
          },
          "coloraxis": {
           "colorbar": {
            "outlinewidth": 0,
            "ticks": ""
           }
          },
          "colorscale": {
           "diverging": [
            [
             0,
             "#8e0152"
            ],
            [
             0.1,
             "#c51b7d"
            ],
            [
             0.2,
             "#de77ae"
            ],
            [
             0.3,
             "#f1b6da"
            ],
            [
             0.4,
             "#fde0ef"
            ],
            [
             0.5,
             "#f7f7f7"
            ],
            [
             0.6,
             "#e6f5d0"
            ],
            [
             0.7,
             "#b8e186"
            ],
            [
             0.8,
             "#7fbc41"
            ],
            [
             0.9,
             "#4d9221"
            ],
            [
             1,
             "#276419"
            ]
           ],
           "sequential": [
            [
             0,
             "#0d0887"
            ],
            [
             0.1111111111111111,
             "#46039f"
            ],
            [
             0.2222222222222222,
             "#7201a8"
            ],
            [
             0.3333333333333333,
             "#9c179e"
            ],
            [
             0.4444444444444444,
             "#bd3786"
            ],
            [
             0.5555555555555556,
             "#d8576b"
            ],
            [
             0.6666666666666666,
             "#ed7953"
            ],
            [
             0.7777777777777778,
             "#fb9f3a"
            ],
            [
             0.8888888888888888,
             "#fdca26"
            ],
            [
             1,
             "#f0f921"
            ]
           ],
           "sequentialminus": [
            [
             0,
             "#0d0887"
            ],
            [
             0.1111111111111111,
             "#46039f"
            ],
            [
             0.2222222222222222,
             "#7201a8"
            ],
            [
             0.3333333333333333,
             "#9c179e"
            ],
            [
             0.4444444444444444,
             "#bd3786"
            ],
            [
             0.5555555555555556,
             "#d8576b"
            ],
            [
             0.6666666666666666,
             "#ed7953"
            ],
            [
             0.7777777777777778,
             "#fb9f3a"
            ],
            [
             0.8888888888888888,
             "#fdca26"
            ],
            [
             1,
             "#f0f921"
            ]
           ]
          },
          "colorway": [
           "#636efa",
           "#EF553B",
           "#00cc96",
           "#ab63fa",
           "#FFA15A",
           "#19d3f3",
           "#FF6692",
           "#B6E880",
           "#FF97FF",
           "#FECB52"
          ],
          "font": {
           "color": "#2a3f5f"
          },
          "geo": {
           "bgcolor": "white",
           "lakecolor": "white",
           "landcolor": "#E5ECF6",
           "showlakes": true,
           "showland": true,
           "subunitcolor": "white"
          },
          "hoverlabel": {
           "align": "left"
          },
          "hovermode": "closest",
          "mapbox": {
           "style": "light"
          },
          "paper_bgcolor": "white",
          "plot_bgcolor": "#E5ECF6",
          "polar": {
           "angularaxis": {
            "gridcolor": "white",
            "linecolor": "white",
            "ticks": ""
           },
           "bgcolor": "#E5ECF6",
           "radialaxis": {
            "gridcolor": "white",
            "linecolor": "white",
            "ticks": ""
           }
          },
          "scene": {
           "xaxis": {
            "backgroundcolor": "#E5ECF6",
            "gridcolor": "white",
            "gridwidth": 2,
            "linecolor": "white",
            "showbackground": true,
            "ticks": "",
            "zerolinecolor": "white"
           },
           "yaxis": {
            "backgroundcolor": "#E5ECF6",
            "gridcolor": "white",
            "gridwidth": 2,
            "linecolor": "white",
            "showbackground": true,
            "ticks": "",
            "zerolinecolor": "white"
           },
           "zaxis": {
            "backgroundcolor": "#E5ECF6",
            "gridcolor": "white",
            "gridwidth": 2,
            "linecolor": "white",
            "showbackground": true,
            "ticks": "",
            "zerolinecolor": "white"
           }
          },
          "shapedefaults": {
           "line": {
            "color": "#2a3f5f"
           }
          },
          "ternary": {
           "aaxis": {
            "gridcolor": "white",
            "linecolor": "white",
            "ticks": ""
           },
           "baxis": {
            "gridcolor": "white",
            "linecolor": "white",
            "ticks": ""
           },
           "bgcolor": "#E5ECF6",
           "caxis": {
            "gridcolor": "white",
            "linecolor": "white",
            "ticks": ""
           }
          },
          "title": {
           "x": 0.05
          },
          "xaxis": {
           "automargin": true,
           "gridcolor": "white",
           "linecolor": "white",
           "ticks": "",
           "title": {
            "standoff": 15
           },
           "zerolinecolor": "white",
           "zerolinewidth": 2
          },
          "yaxis": {
           "automargin": true,
           "gridcolor": "white",
           "linecolor": "white",
           "ticks": "",
           "title": {
            "standoff": 15
           },
           "zerolinecolor": "white",
           "zerolinewidth": 2
          }
         }
        },
        "title": {
         "text": "Всего текущих больных COVID-19 в России: 168110<br>(на дату: 2020-08-22)",
         "x": 0.5,
         "xanchor": "center",
         "y": 0.9,
         "yanchor": "bottom"
        },
        "width": 900
       }
      }
     },
     "metadata": {}
    }
   ],
   "source": [
    "\n",
    "\n",
    "fig = px.pie(df2, values='Remaining_ill', names='Region',color_discrete_sequence=px.colors.sequential.Rainbow,\n",
    "            title=f'Всего текущих больных COVID-19 в России: {df2.Remaining_ill.sum()}<br>'+\n",
    "            f'(на дату: {myday})'\n",
    "             ,\n",
    "            width = 900, height=1000)\n",
    "\n",
    "fig.update_traces(textinfo='percent+label')\n",
    "fig.update_layout(\n",
    "        \n",
    "                #  title=f'{my_region}: динамика текущих больных COVID-19 по дням<br>(изменение относительно предыдущего дня)',\n",
    "                  margin = {'t':150, 'b':0},\n",
    "                  title_x = 0.5,\n",
    "                  title_y= 0.9,\n",
    "                  title_xanchor = \"center\",\n",
    "                  title_yanchor = \"bottom\", \n",
    "                 # legend_x = 0.05,legend_y = 0.98,\n",
    "                     \n",
    ")\n",
    "\n",
    "fig.show()\n"
   ]
  },
  {
   "cell_type": "code",
   "execution_count": 32,
   "metadata": {},
   "outputs": [
    {
     "output_type": "display_data",
     "data": {
      "application/vnd.plotly.v1+json": {
       "config": {
        "plotlyServerURL": "https://plot.ly"
       },
       "data": [
        {
         "insidetextorientation": "radial",
         "labels": [
          "Регионы менее 1%",
          "Регионы менее 1%",
          "Регионы менее 1%",
          "Регионы менее 1%",
          "Регионы менее 1%",
          "Регионы менее 1%",
          "Регионы менее 1%",
          "Регионы менее 1%",
          "Регионы менее 1%",
          "Регионы менее 1%",
          "Регионы менее 1%",
          "Волгоградская обл.",
          "Регионы менее 1%",
          "Регионы менее 1%",
          "Регионы менее 1%",
          "Регионы менее 1%",
          "Регионы менее 1%",
          "Регионы менее 1%",
          "Регионы менее 1%",
          "Иркутская обл.",
          "Регионы менее 1%",
          "Регионы менее 1%",
          "Регионы менее 1%",
          "Регионы менее 1%",
          "Регионы менее 1%",
          "Регионы менее 1%",
          "Регионы менее 1%",
          "Регионы менее 1%",
          "Регионы менее 1%",
          "Регионы менее 1%",
          "Регионы менее 1%",
          "Регионы менее 1%",
          "Красноярский край",
          "Регионы менее 1%",
          "Регионы менее 1%",
          "Регионы менее 1%",
          "Регионы менее 1%",
          "Регионы менее 1%",
          "Регионы менее 1%",
          "Регионы менее 1%",
          "Регионы менее 1%",
          "Москва",
          "Московская обл.",
          "Мурманская обл.",
          "Регионы менее 1%",
          "Нижегородская обл.",
          "Регионы менее 1%",
          "Регионы менее 1%",
          "Омская обл.",
          "Регионы менее 1%",
          "Регионы менее 1%",
          "Регионы менее 1%",
          "Пермский край",
          "Регионы менее 1%",
          "Регионы менее 1%",
          "Ростовская обл.",
          "Регионы менее 1%",
          "Регионы менее 1%",
          "Санкт-Петербург",
          "Саратовская обл.",
          "Регионы менее 1%",
          "Сахалинская обл.",
          "Свердловская обл.",
          "Регионы менее 1%",
          "Регионы менее 1%",
          "Регионы менее 1%",
          "Ставропольский край",
          "Регионы менее 1%",
          "Регионы менее 1%",
          "Регионы менее 1%",
          "Регионы менее 1%",
          "Регионы менее 1%",
          "Регионы менее 1%",
          "Регионы менее 1%",
          "Регионы менее 1%",
          "Ульяновская обл.",
          "Регионы менее 1%",
          "Хабаровский край",
          "Регионы менее 1%",
          "Челябинская обл.",
          "Регионы менее 1%",
          "Регионы менее 1%",
          "Регионы менее 1%",
          "Регионы менее 1%",
          "Регионы менее 1%"
         ],
         "textinfo": "label+percent",
         "type": "pie",
         "values": [
          495,
          279,
          1336,
          331,
          1172,
          637,
          831,
          797,
          1451,
          553,
          532,
          3507,
          442,
          1356,
          652,
          47,
          267,
          1085,
          363,
          3888,
          303,
          586,
          1148,
          1176,
          584,
          497,
          866,
          1622,
          1103,
          979,
          931,
          1507,
          2553,
          511,
          359,
          1107,
          1627,
          426,
          360,
          409,
          1074,
          47972,
          15344,
          2563,
          192,
          2426,
          1050,
          949,
          1870,
          1454,
          1375,
          274,
          1978,
          1666,
          1122,
          2137,
          743,
          1565,
          7592,
          4011,
          1145,
          1697,
          4380,
          90,
          366,
          811,
          3292,
          929,
          1090,
          944,
          1078,
          956,
          632,
          461,
          449,
          2777,
          1516,
          1993,
          210,
          4170,
          673,
          1244,
          5,
          450,
          720
         ]
        }
       ],
       "layout": {
        "height": 900,
        "margin": {
         "b": 0,
         "t": 120
        },
        "template": {
         "data": {
          "bar": [
           {
            "error_x": {
             "color": "#2a3f5f"
            },
            "error_y": {
             "color": "#2a3f5f"
            },
            "marker": {
             "line": {
              "color": "#E5ECF6",
              "width": 0.5
             }
            },
            "type": "bar"
           }
          ],
          "barpolar": [
           {
            "marker": {
             "line": {
              "color": "#E5ECF6",
              "width": 0.5
             }
            },
            "type": "barpolar"
           }
          ],
          "carpet": [
           {
            "aaxis": {
             "endlinecolor": "#2a3f5f",
             "gridcolor": "white",
             "linecolor": "white",
             "minorgridcolor": "white",
             "startlinecolor": "#2a3f5f"
            },
            "baxis": {
             "endlinecolor": "#2a3f5f",
             "gridcolor": "white",
             "linecolor": "white",
             "minorgridcolor": "white",
             "startlinecolor": "#2a3f5f"
            },
            "type": "carpet"
           }
          ],
          "choropleth": [
           {
            "colorbar": {
             "outlinewidth": 0,
             "ticks": ""
            },
            "type": "choropleth"
           }
          ],
          "contour": [
           {
            "colorbar": {
             "outlinewidth": 0,
             "ticks": ""
            },
            "colorscale": [
             [
              0,
              "#0d0887"
             ],
             [
              0.1111111111111111,
              "#46039f"
             ],
             [
              0.2222222222222222,
              "#7201a8"
             ],
             [
              0.3333333333333333,
              "#9c179e"
             ],
             [
              0.4444444444444444,
              "#bd3786"
             ],
             [
              0.5555555555555556,
              "#d8576b"
             ],
             [
              0.6666666666666666,
              "#ed7953"
             ],
             [
              0.7777777777777778,
              "#fb9f3a"
             ],
             [
              0.8888888888888888,
              "#fdca26"
             ],
             [
              1,
              "#f0f921"
             ]
            ],
            "type": "contour"
           }
          ],
          "contourcarpet": [
           {
            "colorbar": {
             "outlinewidth": 0,
             "ticks": ""
            },
            "type": "contourcarpet"
           }
          ],
          "heatmap": [
           {
            "colorbar": {
             "outlinewidth": 0,
             "ticks": ""
            },
            "colorscale": [
             [
              0,
              "#0d0887"
             ],
             [
              0.1111111111111111,
              "#46039f"
             ],
             [
              0.2222222222222222,
              "#7201a8"
             ],
             [
              0.3333333333333333,
              "#9c179e"
             ],
             [
              0.4444444444444444,
              "#bd3786"
             ],
             [
              0.5555555555555556,
              "#d8576b"
             ],
             [
              0.6666666666666666,
              "#ed7953"
             ],
             [
              0.7777777777777778,
              "#fb9f3a"
             ],
             [
              0.8888888888888888,
              "#fdca26"
             ],
             [
              1,
              "#f0f921"
             ]
            ],
            "type": "heatmap"
           }
          ],
          "heatmapgl": [
           {
            "colorbar": {
             "outlinewidth": 0,
             "ticks": ""
            },
            "colorscale": [
             [
              0,
              "#0d0887"
             ],
             [
              0.1111111111111111,
              "#46039f"
             ],
             [
              0.2222222222222222,
              "#7201a8"
             ],
             [
              0.3333333333333333,
              "#9c179e"
             ],
             [
              0.4444444444444444,
              "#bd3786"
             ],
             [
              0.5555555555555556,
              "#d8576b"
             ],
             [
              0.6666666666666666,
              "#ed7953"
             ],
             [
              0.7777777777777778,
              "#fb9f3a"
             ],
             [
              0.8888888888888888,
              "#fdca26"
             ],
             [
              1,
              "#f0f921"
             ]
            ],
            "type": "heatmapgl"
           }
          ],
          "histogram": [
           {
            "marker": {
             "colorbar": {
              "outlinewidth": 0,
              "ticks": ""
             }
            },
            "type": "histogram"
           }
          ],
          "histogram2d": [
           {
            "colorbar": {
             "outlinewidth": 0,
             "ticks": ""
            },
            "colorscale": [
             [
              0,
              "#0d0887"
             ],
             [
              0.1111111111111111,
              "#46039f"
             ],
             [
              0.2222222222222222,
              "#7201a8"
             ],
             [
              0.3333333333333333,
              "#9c179e"
             ],
             [
              0.4444444444444444,
              "#bd3786"
             ],
             [
              0.5555555555555556,
              "#d8576b"
             ],
             [
              0.6666666666666666,
              "#ed7953"
             ],
             [
              0.7777777777777778,
              "#fb9f3a"
             ],
             [
              0.8888888888888888,
              "#fdca26"
             ],
             [
              1,
              "#f0f921"
             ]
            ],
            "type": "histogram2d"
           }
          ],
          "histogram2dcontour": [
           {
            "colorbar": {
             "outlinewidth": 0,
             "ticks": ""
            },
            "colorscale": [
             [
              0,
              "#0d0887"
             ],
             [
              0.1111111111111111,
              "#46039f"
             ],
             [
              0.2222222222222222,
              "#7201a8"
             ],
             [
              0.3333333333333333,
              "#9c179e"
             ],
             [
              0.4444444444444444,
              "#bd3786"
             ],
             [
              0.5555555555555556,
              "#d8576b"
             ],
             [
              0.6666666666666666,
              "#ed7953"
             ],
             [
              0.7777777777777778,
              "#fb9f3a"
             ],
             [
              0.8888888888888888,
              "#fdca26"
             ],
             [
              1,
              "#f0f921"
             ]
            ],
            "type": "histogram2dcontour"
           }
          ],
          "mesh3d": [
           {
            "colorbar": {
             "outlinewidth": 0,
             "ticks": ""
            },
            "type": "mesh3d"
           }
          ],
          "parcoords": [
           {
            "line": {
             "colorbar": {
              "outlinewidth": 0,
              "ticks": ""
             }
            },
            "type": "parcoords"
           }
          ],
          "pie": [
           {
            "automargin": true,
            "type": "pie"
           }
          ],
          "scatter": [
           {
            "marker": {
             "colorbar": {
              "outlinewidth": 0,
              "ticks": ""
             }
            },
            "type": "scatter"
           }
          ],
          "scatter3d": [
           {
            "line": {
             "colorbar": {
              "outlinewidth": 0,
              "ticks": ""
             }
            },
            "marker": {
             "colorbar": {
              "outlinewidth": 0,
              "ticks": ""
             }
            },
            "type": "scatter3d"
           }
          ],
          "scattercarpet": [
           {
            "marker": {
             "colorbar": {
              "outlinewidth": 0,
              "ticks": ""
             }
            },
            "type": "scattercarpet"
           }
          ],
          "scattergeo": [
           {
            "marker": {
             "colorbar": {
              "outlinewidth": 0,
              "ticks": ""
             }
            },
            "type": "scattergeo"
           }
          ],
          "scattergl": [
           {
            "marker": {
             "colorbar": {
              "outlinewidth": 0,
              "ticks": ""
             }
            },
            "type": "scattergl"
           }
          ],
          "scattermapbox": [
           {
            "marker": {
             "colorbar": {
              "outlinewidth": 0,
              "ticks": ""
             }
            },
            "type": "scattermapbox"
           }
          ],
          "scatterpolar": [
           {
            "marker": {
             "colorbar": {
              "outlinewidth": 0,
              "ticks": ""
             }
            },
            "type": "scatterpolar"
           }
          ],
          "scatterpolargl": [
           {
            "marker": {
             "colorbar": {
              "outlinewidth": 0,
              "ticks": ""
             }
            },
            "type": "scatterpolargl"
           }
          ],
          "scatterternary": [
           {
            "marker": {
             "colorbar": {
              "outlinewidth": 0,
              "ticks": ""
             }
            },
            "type": "scatterternary"
           }
          ],
          "surface": [
           {
            "colorbar": {
             "outlinewidth": 0,
             "ticks": ""
            },
            "colorscale": [
             [
              0,
              "#0d0887"
             ],
             [
              0.1111111111111111,
              "#46039f"
             ],
             [
              0.2222222222222222,
              "#7201a8"
             ],
             [
              0.3333333333333333,
              "#9c179e"
             ],
             [
              0.4444444444444444,
              "#bd3786"
             ],
             [
              0.5555555555555556,
              "#d8576b"
             ],
             [
              0.6666666666666666,
              "#ed7953"
             ],
             [
              0.7777777777777778,
              "#fb9f3a"
             ],
             [
              0.8888888888888888,
              "#fdca26"
             ],
             [
              1,
              "#f0f921"
             ]
            ],
            "type": "surface"
           }
          ],
          "table": [
           {
            "cells": {
             "fill": {
              "color": "#EBF0F8"
             },
             "line": {
              "color": "white"
             }
            },
            "header": {
             "fill": {
              "color": "#C8D4E3"
             },
             "line": {
              "color": "white"
             }
            },
            "type": "table"
           }
          ]
         },
         "layout": {
          "annotationdefaults": {
           "arrowcolor": "#2a3f5f",
           "arrowhead": 0,
           "arrowwidth": 1
          },
          "coloraxis": {
           "colorbar": {
            "outlinewidth": 0,
            "ticks": ""
           }
          },
          "colorscale": {
           "diverging": [
            [
             0,
             "#8e0152"
            ],
            [
             0.1,
             "#c51b7d"
            ],
            [
             0.2,
             "#de77ae"
            ],
            [
             0.3,
             "#f1b6da"
            ],
            [
             0.4,
             "#fde0ef"
            ],
            [
             0.5,
             "#f7f7f7"
            ],
            [
             0.6,
             "#e6f5d0"
            ],
            [
             0.7,
             "#b8e186"
            ],
            [
             0.8,
             "#7fbc41"
            ],
            [
             0.9,
             "#4d9221"
            ],
            [
             1,
             "#276419"
            ]
           ],
           "sequential": [
            [
             0,
             "#0d0887"
            ],
            [
             0.1111111111111111,
             "#46039f"
            ],
            [
             0.2222222222222222,
             "#7201a8"
            ],
            [
             0.3333333333333333,
             "#9c179e"
            ],
            [
             0.4444444444444444,
             "#bd3786"
            ],
            [
             0.5555555555555556,
             "#d8576b"
            ],
            [
             0.6666666666666666,
             "#ed7953"
            ],
            [
             0.7777777777777778,
             "#fb9f3a"
            ],
            [
             0.8888888888888888,
             "#fdca26"
            ],
            [
             1,
             "#f0f921"
            ]
           ],
           "sequentialminus": [
            [
             0,
             "#0d0887"
            ],
            [
             0.1111111111111111,
             "#46039f"
            ],
            [
             0.2222222222222222,
             "#7201a8"
            ],
            [
             0.3333333333333333,
             "#9c179e"
            ],
            [
             0.4444444444444444,
             "#bd3786"
            ],
            [
             0.5555555555555556,
             "#d8576b"
            ],
            [
             0.6666666666666666,
             "#ed7953"
            ],
            [
             0.7777777777777778,
             "#fb9f3a"
            ],
            [
             0.8888888888888888,
             "#fdca26"
            ],
            [
             1,
             "#f0f921"
            ]
           ]
          },
          "colorway": [
           "#636efa",
           "#EF553B",
           "#00cc96",
           "#ab63fa",
           "#FFA15A",
           "#19d3f3",
           "#FF6692",
           "#B6E880",
           "#FF97FF",
           "#FECB52"
          ],
          "font": {
           "color": "#2a3f5f"
          },
          "geo": {
           "bgcolor": "white",
           "lakecolor": "white",
           "landcolor": "#E5ECF6",
           "showlakes": true,
           "showland": true,
           "subunitcolor": "white"
          },
          "hoverlabel": {
           "align": "left"
          },
          "hovermode": "closest",
          "mapbox": {
           "style": "light"
          },
          "paper_bgcolor": "white",
          "plot_bgcolor": "#E5ECF6",
          "polar": {
           "angularaxis": {
            "gridcolor": "white",
            "linecolor": "white",
            "ticks": ""
           },
           "bgcolor": "#E5ECF6",
           "radialaxis": {
            "gridcolor": "white",
            "linecolor": "white",
            "ticks": ""
           }
          },
          "scene": {
           "xaxis": {
            "backgroundcolor": "#E5ECF6",
            "gridcolor": "white",
            "gridwidth": 2,
            "linecolor": "white",
            "showbackground": true,
            "ticks": "",
            "zerolinecolor": "white"
           },
           "yaxis": {
            "backgroundcolor": "#E5ECF6",
            "gridcolor": "white",
            "gridwidth": 2,
            "linecolor": "white",
            "showbackground": true,
            "ticks": "",
            "zerolinecolor": "white"
           },
           "zaxis": {
            "backgroundcolor": "#E5ECF6",
            "gridcolor": "white",
            "gridwidth": 2,
            "linecolor": "white",
            "showbackground": true,
            "ticks": "",
            "zerolinecolor": "white"
           }
          },
          "shapedefaults": {
           "line": {
            "color": "#2a3f5f"
           }
          },
          "ternary": {
           "aaxis": {
            "gridcolor": "white",
            "linecolor": "white",
            "ticks": ""
           },
           "baxis": {
            "gridcolor": "white",
            "linecolor": "white",
            "ticks": ""
           },
           "bgcolor": "#E5ECF6",
           "caxis": {
            "gridcolor": "white",
            "linecolor": "white",
            "ticks": ""
           }
          },
          "title": {
           "x": 0.05
          },
          "xaxis": {
           "automargin": true,
           "gridcolor": "white",
           "linecolor": "white",
           "ticks": "",
           "title": {
            "standoff": 15
           },
           "zerolinecolor": "white",
           "zerolinewidth": 2
          },
          "yaxis": {
           "automargin": true,
           "gridcolor": "white",
           "linecolor": "white",
           "ticks": "",
           "title": {
            "standoff": 15
           },
           "zerolinecolor": "white",
           "zerolinewidth": 2
          }
         }
        },
        "title": {
         "text": "Всего текущих больных COVID-19 в России: 168110<br>(на дату: 2020-08-22)",
         "x": 0.5,
         "xanchor": "center",
         "y": 0.9,
         "yanchor": "bottom"
        },
        "width": 900
       }
      }
     },
     "metadata": {}
    }
   ],
   "source": [
    "fig_r8 = go.Figure(data=[go.Pie(labels=df2.Region, values=df2.Remaining_ill, textinfo='label+percent',\n",
    "                             insidetextorientation='radial'\n",
    "                            )])\n",
    "fig_r8.update_layout(\n",
    "                title=f'Всего текущих больных COVID-19 в России: {df2.Remaining_ill.sum()}<br>'+\n",
    "                f'(на дату: {myday})',\n",
    "                 margin = {'t':120, 'b':0},\n",
    "                  title_x = 0.5,\n",
    "                  title_y= 0.9,\n",
    "                  width = 900, height=900,\n",
    "                  title_xanchor = \"center\",\n",
    "                  title_yanchor = \"bottom\")\n",
    "fig_r8.show()"
   ]
  },
  {
   "cell_type": "code",
   "execution_count": null,
   "metadata": {},
   "outputs": [],
   "source": []
  },
  {
   "cell_type": "code",
   "execution_count": 33,
   "metadata": {
    "tags": []
   },
   "outputs": [
    {
     "output_type": "stream",
     "name": "stdout",
     "text": "41 Москва\n42 Московская обл.\n55 Россия\n59 Санкт-Петербург\n63 Свердловская обл.\n80 Челябинская обл.\n"
    }
   ],
   "source": [
    "covid_rates = pd.DataFrame()\n",
    "mask = (X.Date>=datetime.date(2020,8,3))&(X.Date<=datetime.date(2020,8,10))&(X.Region.isin(regions_towatch))&(X.Region!='Россия')\n",
    "                                      \n",
    "box_cases1 = X[mask].groupby(['Region','Date'])['Day_confirmed'].sum()\n",
    "box_cases2 = X[mask].groupby(['Region','Date'])['Day_recovered'].sum()\n",
    "for i in regions_dict.keys():\n",
    "    if regions_dict.get(i) in regions_towatch:\n",
    "        print(i,regions_dict.get(i))"
   ]
  },
  {
   "cell_type": "code",
   "execution_count": 34,
   "metadata": {},
   "outputs": [
    {
     "output_type": "execute_result",
     "data": {
      "text/plain": "Region      Москва  Московская обл.  Санкт-Петербург  Свердловская обл.  \\\nDate                                                                      \n2020-08-03     693              160              160                196   \n2020-08-04     691              161              158                182   \n2020-08-05     687              162              156                181   \n2020-08-06     684              159              159                183   \n2020-08-07     686              158              157                180   \n2020-08-08     691              161              155                178   \n2020-08-09     689              149              160                184   \n2020-08-10     694              153              157                179   \n\nRegion      Челябинская обл.  \nDate                          \n2020-08-03               107  \n2020-08-04               105  \n2020-08-05               103  \n2020-08-06                92  \n2020-08-07                89  \n2020-08-08                87  \n2020-08-09                94  \n2020-08-10                83  ",
      "text/html": "<div>\n<style scoped>\n    .dataframe tbody tr th:only-of-type {\n        vertical-align: middle;\n    }\n\n    .dataframe tbody tr th {\n        vertical-align: top;\n    }\n\n    .dataframe thead th {\n        text-align: right;\n    }\n</style>\n<table border=\"1\" class=\"dataframe\">\n  <thead>\n    <tr style=\"text-align: right;\">\n      <th>Region</th>\n      <th>Москва</th>\n      <th>Московская обл.</th>\n      <th>Санкт-Петербург</th>\n      <th>Свердловская обл.</th>\n      <th>Челябинская обл.</th>\n    </tr>\n    <tr>\n      <th>Date</th>\n      <th></th>\n      <th></th>\n      <th></th>\n      <th></th>\n      <th></th>\n    </tr>\n  </thead>\n  <tbody>\n    <tr>\n      <th>2020-08-03</th>\n      <td>693</td>\n      <td>160</td>\n      <td>160</td>\n      <td>196</td>\n      <td>107</td>\n    </tr>\n    <tr>\n      <th>2020-08-04</th>\n      <td>691</td>\n      <td>161</td>\n      <td>158</td>\n      <td>182</td>\n      <td>105</td>\n    </tr>\n    <tr>\n      <th>2020-08-05</th>\n      <td>687</td>\n      <td>162</td>\n      <td>156</td>\n      <td>181</td>\n      <td>103</td>\n    </tr>\n    <tr>\n      <th>2020-08-06</th>\n      <td>684</td>\n      <td>159</td>\n      <td>159</td>\n      <td>183</td>\n      <td>92</td>\n    </tr>\n    <tr>\n      <th>2020-08-07</th>\n      <td>686</td>\n      <td>158</td>\n      <td>157</td>\n      <td>180</td>\n      <td>89</td>\n    </tr>\n    <tr>\n      <th>2020-08-08</th>\n      <td>691</td>\n      <td>161</td>\n      <td>155</td>\n      <td>178</td>\n      <td>87</td>\n    </tr>\n    <tr>\n      <th>2020-08-09</th>\n      <td>689</td>\n      <td>149</td>\n      <td>160</td>\n      <td>184</td>\n      <td>94</td>\n    </tr>\n    <tr>\n      <th>2020-08-10</th>\n      <td>694</td>\n      <td>153</td>\n      <td>157</td>\n      <td>179</td>\n      <td>83</td>\n    </tr>\n  </tbody>\n</table>\n</div>"
     },
     "metadata": {},
     "execution_count": 34
    }
   ],
   "source": [
    "new_df1=box_cases1.unstack().T\n",
    "new_df1.tail(20)"
   ]
  },
  {
   "cell_type": "code",
   "execution_count": 35,
   "metadata": {},
   "outputs": [
    {
     "output_type": "display_data",
     "data": {
      "application/vnd.plotly.v1+json": {
       "config": {
        "plotlyServerURL": "https://plot.ly"
       },
       "data": [
        {
         "boxmean": true,
         "marker": {
          "color": "red"
         },
         "name": "Москва",
         "type": "box",
         "x": [
          693,
          691,
          687,
          684,
          686,
          691,
          689,
          694
         ]
        },
        {
         "boxmean": true,
         "marker": {
          "color": "magenta"
         },
         "name": "Московская обл.",
         "type": "box",
         "x": [
          160,
          161,
          162,
          159,
          158,
          161,
          149,
          153
         ]
        },
        {
         "boxmean": true,
         "marker": {
          "color": "goldenrod"
         },
         "name": "Санкт-Петербург",
         "type": "box",
         "x": [
          160,
          158,
          156,
          159,
          157,
          155,
          160,
          157
         ]
        },
        {
         "boxmean": true,
         "marker": {
          "color": "green"
         },
         "name": "Свердловская обл.",
         "type": "box",
         "x": [
          196,
          182,
          181,
          183,
          180,
          178,
          184,
          179
         ]
        },
        {
         "boxmean": true,
         "marker": {
          "color": "indianred"
         },
         "name": "Челябинская обл.",
         "type": "box",
         "x": [
          107,
          105,
          103,
          92,
          89,
          87,
          94,
          83
         ]
        }
       ],
       "layout": {
        "height": 600,
        "template": {
         "data": {
          "bar": [
           {
            "error_x": {
             "color": "#2a3f5f"
            },
            "error_y": {
             "color": "#2a3f5f"
            },
            "marker": {
             "line": {
              "color": "#E5ECF6",
              "width": 0.5
             }
            },
            "type": "bar"
           }
          ],
          "barpolar": [
           {
            "marker": {
             "line": {
              "color": "#E5ECF6",
              "width": 0.5
             }
            },
            "type": "barpolar"
           }
          ],
          "carpet": [
           {
            "aaxis": {
             "endlinecolor": "#2a3f5f",
             "gridcolor": "white",
             "linecolor": "white",
             "minorgridcolor": "white",
             "startlinecolor": "#2a3f5f"
            },
            "baxis": {
             "endlinecolor": "#2a3f5f",
             "gridcolor": "white",
             "linecolor": "white",
             "minorgridcolor": "white",
             "startlinecolor": "#2a3f5f"
            },
            "type": "carpet"
           }
          ],
          "choropleth": [
           {
            "colorbar": {
             "outlinewidth": 0,
             "ticks": ""
            },
            "type": "choropleth"
           }
          ],
          "contour": [
           {
            "colorbar": {
             "outlinewidth": 0,
             "ticks": ""
            },
            "colorscale": [
             [
              0,
              "#0d0887"
             ],
             [
              0.1111111111111111,
              "#46039f"
             ],
             [
              0.2222222222222222,
              "#7201a8"
             ],
             [
              0.3333333333333333,
              "#9c179e"
             ],
             [
              0.4444444444444444,
              "#bd3786"
             ],
             [
              0.5555555555555556,
              "#d8576b"
             ],
             [
              0.6666666666666666,
              "#ed7953"
             ],
             [
              0.7777777777777778,
              "#fb9f3a"
             ],
             [
              0.8888888888888888,
              "#fdca26"
             ],
             [
              1,
              "#f0f921"
             ]
            ],
            "type": "contour"
           }
          ],
          "contourcarpet": [
           {
            "colorbar": {
             "outlinewidth": 0,
             "ticks": ""
            },
            "type": "contourcarpet"
           }
          ],
          "heatmap": [
           {
            "colorbar": {
             "outlinewidth": 0,
             "ticks": ""
            },
            "colorscale": [
             [
              0,
              "#0d0887"
             ],
             [
              0.1111111111111111,
              "#46039f"
             ],
             [
              0.2222222222222222,
              "#7201a8"
             ],
             [
              0.3333333333333333,
              "#9c179e"
             ],
             [
              0.4444444444444444,
              "#bd3786"
             ],
             [
              0.5555555555555556,
              "#d8576b"
             ],
             [
              0.6666666666666666,
              "#ed7953"
             ],
             [
              0.7777777777777778,
              "#fb9f3a"
             ],
             [
              0.8888888888888888,
              "#fdca26"
             ],
             [
              1,
              "#f0f921"
             ]
            ],
            "type": "heatmap"
           }
          ],
          "heatmapgl": [
           {
            "colorbar": {
             "outlinewidth": 0,
             "ticks": ""
            },
            "colorscale": [
             [
              0,
              "#0d0887"
             ],
             [
              0.1111111111111111,
              "#46039f"
             ],
             [
              0.2222222222222222,
              "#7201a8"
             ],
             [
              0.3333333333333333,
              "#9c179e"
             ],
             [
              0.4444444444444444,
              "#bd3786"
             ],
             [
              0.5555555555555556,
              "#d8576b"
             ],
             [
              0.6666666666666666,
              "#ed7953"
             ],
             [
              0.7777777777777778,
              "#fb9f3a"
             ],
             [
              0.8888888888888888,
              "#fdca26"
             ],
             [
              1,
              "#f0f921"
             ]
            ],
            "type": "heatmapgl"
           }
          ],
          "histogram": [
           {
            "marker": {
             "colorbar": {
              "outlinewidth": 0,
              "ticks": ""
             }
            },
            "type": "histogram"
           }
          ],
          "histogram2d": [
           {
            "colorbar": {
             "outlinewidth": 0,
             "ticks": ""
            },
            "colorscale": [
             [
              0,
              "#0d0887"
             ],
             [
              0.1111111111111111,
              "#46039f"
             ],
             [
              0.2222222222222222,
              "#7201a8"
             ],
             [
              0.3333333333333333,
              "#9c179e"
             ],
             [
              0.4444444444444444,
              "#bd3786"
             ],
             [
              0.5555555555555556,
              "#d8576b"
             ],
             [
              0.6666666666666666,
              "#ed7953"
             ],
             [
              0.7777777777777778,
              "#fb9f3a"
             ],
             [
              0.8888888888888888,
              "#fdca26"
             ],
             [
              1,
              "#f0f921"
             ]
            ],
            "type": "histogram2d"
           }
          ],
          "histogram2dcontour": [
           {
            "colorbar": {
             "outlinewidth": 0,
             "ticks": ""
            },
            "colorscale": [
             [
              0,
              "#0d0887"
             ],
             [
              0.1111111111111111,
              "#46039f"
             ],
             [
              0.2222222222222222,
              "#7201a8"
             ],
             [
              0.3333333333333333,
              "#9c179e"
             ],
             [
              0.4444444444444444,
              "#bd3786"
             ],
             [
              0.5555555555555556,
              "#d8576b"
             ],
             [
              0.6666666666666666,
              "#ed7953"
             ],
             [
              0.7777777777777778,
              "#fb9f3a"
             ],
             [
              0.8888888888888888,
              "#fdca26"
             ],
             [
              1,
              "#f0f921"
             ]
            ],
            "type": "histogram2dcontour"
           }
          ],
          "mesh3d": [
           {
            "colorbar": {
             "outlinewidth": 0,
             "ticks": ""
            },
            "type": "mesh3d"
           }
          ],
          "parcoords": [
           {
            "line": {
             "colorbar": {
              "outlinewidth": 0,
              "ticks": ""
             }
            },
            "type": "parcoords"
           }
          ],
          "pie": [
           {
            "automargin": true,
            "type": "pie"
           }
          ],
          "scatter": [
           {
            "marker": {
             "colorbar": {
              "outlinewidth": 0,
              "ticks": ""
             }
            },
            "type": "scatter"
           }
          ],
          "scatter3d": [
           {
            "line": {
             "colorbar": {
              "outlinewidth": 0,
              "ticks": ""
             }
            },
            "marker": {
             "colorbar": {
              "outlinewidth": 0,
              "ticks": ""
             }
            },
            "type": "scatter3d"
           }
          ],
          "scattercarpet": [
           {
            "marker": {
             "colorbar": {
              "outlinewidth": 0,
              "ticks": ""
             }
            },
            "type": "scattercarpet"
           }
          ],
          "scattergeo": [
           {
            "marker": {
             "colorbar": {
              "outlinewidth": 0,
              "ticks": ""
             }
            },
            "type": "scattergeo"
           }
          ],
          "scattergl": [
           {
            "marker": {
             "colorbar": {
              "outlinewidth": 0,
              "ticks": ""
             }
            },
            "type": "scattergl"
           }
          ],
          "scattermapbox": [
           {
            "marker": {
             "colorbar": {
              "outlinewidth": 0,
              "ticks": ""
             }
            },
            "type": "scattermapbox"
           }
          ],
          "scatterpolar": [
           {
            "marker": {
             "colorbar": {
              "outlinewidth": 0,
              "ticks": ""
             }
            },
            "type": "scatterpolar"
           }
          ],
          "scatterpolargl": [
           {
            "marker": {
             "colorbar": {
              "outlinewidth": 0,
              "ticks": ""
             }
            },
            "type": "scatterpolargl"
           }
          ],
          "scatterternary": [
           {
            "marker": {
             "colorbar": {
              "outlinewidth": 0,
              "ticks": ""
             }
            },
            "type": "scatterternary"
           }
          ],
          "surface": [
           {
            "colorbar": {
             "outlinewidth": 0,
             "ticks": ""
            },
            "colorscale": [
             [
              0,
              "#0d0887"
             ],
             [
              0.1111111111111111,
              "#46039f"
             ],
             [
              0.2222222222222222,
              "#7201a8"
             ],
             [
              0.3333333333333333,
              "#9c179e"
             ],
             [
              0.4444444444444444,
              "#bd3786"
             ],
             [
              0.5555555555555556,
              "#d8576b"
             ],
             [
              0.6666666666666666,
              "#ed7953"
             ],
             [
              0.7777777777777778,
              "#fb9f3a"
             ],
             [
              0.8888888888888888,
              "#fdca26"
             ],
             [
              1,
              "#f0f921"
             ]
            ],
            "type": "surface"
           }
          ],
          "table": [
           {
            "cells": {
             "fill": {
              "color": "#EBF0F8"
             },
             "line": {
              "color": "white"
             }
            },
            "header": {
             "fill": {
              "color": "#C8D4E3"
             },
             "line": {
              "color": "white"
             }
            },
            "type": "table"
           }
          ]
         },
         "layout": {
          "annotationdefaults": {
           "arrowcolor": "#2a3f5f",
           "arrowhead": 0,
           "arrowwidth": 1
          },
          "coloraxis": {
           "colorbar": {
            "outlinewidth": 0,
            "ticks": ""
           }
          },
          "colorscale": {
           "diverging": [
            [
             0,
             "#8e0152"
            ],
            [
             0.1,
             "#c51b7d"
            ],
            [
             0.2,
             "#de77ae"
            ],
            [
             0.3,
             "#f1b6da"
            ],
            [
             0.4,
             "#fde0ef"
            ],
            [
             0.5,
             "#f7f7f7"
            ],
            [
             0.6,
             "#e6f5d0"
            ],
            [
             0.7,
             "#b8e186"
            ],
            [
             0.8,
             "#7fbc41"
            ],
            [
             0.9,
             "#4d9221"
            ],
            [
             1,
             "#276419"
            ]
           ],
           "sequential": [
            [
             0,
             "#0d0887"
            ],
            [
             0.1111111111111111,
             "#46039f"
            ],
            [
             0.2222222222222222,
             "#7201a8"
            ],
            [
             0.3333333333333333,
             "#9c179e"
            ],
            [
             0.4444444444444444,
             "#bd3786"
            ],
            [
             0.5555555555555556,
             "#d8576b"
            ],
            [
             0.6666666666666666,
             "#ed7953"
            ],
            [
             0.7777777777777778,
             "#fb9f3a"
            ],
            [
             0.8888888888888888,
             "#fdca26"
            ],
            [
             1,
             "#f0f921"
            ]
           ],
           "sequentialminus": [
            [
             0,
             "#0d0887"
            ],
            [
             0.1111111111111111,
             "#46039f"
            ],
            [
             0.2222222222222222,
             "#7201a8"
            ],
            [
             0.3333333333333333,
             "#9c179e"
            ],
            [
             0.4444444444444444,
             "#bd3786"
            ],
            [
             0.5555555555555556,
             "#d8576b"
            ],
            [
             0.6666666666666666,
             "#ed7953"
            ],
            [
             0.7777777777777778,
             "#fb9f3a"
            ],
            [
             0.8888888888888888,
             "#fdca26"
            ],
            [
             1,
             "#f0f921"
            ]
           ]
          },
          "colorway": [
           "#636efa",
           "#EF553B",
           "#00cc96",
           "#ab63fa",
           "#FFA15A",
           "#19d3f3",
           "#FF6692",
           "#B6E880",
           "#FF97FF",
           "#FECB52"
          ],
          "font": {
           "color": "#2a3f5f"
          },
          "geo": {
           "bgcolor": "white",
           "lakecolor": "white",
           "landcolor": "#E5ECF6",
           "showlakes": true,
           "showland": true,
           "subunitcolor": "white"
          },
          "hoverlabel": {
           "align": "left"
          },
          "hovermode": "closest",
          "mapbox": {
           "style": "light"
          },
          "paper_bgcolor": "white",
          "plot_bgcolor": "#E5ECF6",
          "polar": {
           "angularaxis": {
            "gridcolor": "white",
            "linecolor": "white",
            "ticks": ""
           },
           "bgcolor": "#E5ECF6",
           "radialaxis": {
            "gridcolor": "white",
            "linecolor": "white",
            "ticks": ""
           }
          },
          "scene": {
           "xaxis": {
            "backgroundcolor": "#E5ECF6",
            "gridcolor": "white",
            "gridwidth": 2,
            "linecolor": "white",
            "showbackground": true,
            "ticks": "",
            "zerolinecolor": "white"
           },
           "yaxis": {
            "backgroundcolor": "#E5ECF6",
            "gridcolor": "white",
            "gridwidth": 2,
            "linecolor": "white",
            "showbackground": true,
            "ticks": "",
            "zerolinecolor": "white"
           },
           "zaxis": {
            "backgroundcolor": "#E5ECF6",
            "gridcolor": "white",
            "gridwidth": 2,
            "linecolor": "white",
            "showbackground": true,
            "ticks": "",
            "zerolinecolor": "white"
           }
          },
          "shapedefaults": {
           "line": {
            "color": "#2a3f5f"
           }
          },
          "ternary": {
           "aaxis": {
            "gridcolor": "white",
            "linecolor": "white",
            "ticks": ""
           },
           "baxis": {
            "gridcolor": "white",
            "linecolor": "white",
            "ticks": ""
           },
           "bgcolor": "#E5ECF6",
           "caxis": {
            "gridcolor": "white",
            "linecolor": "white",
            "ticks": ""
           }
          },
          "title": {
           "x": 0.05
          },
          "xaxis": {
           "automargin": true,
           "gridcolor": "white",
           "linecolor": "white",
           "ticks": "",
           "title": {
            "standoff": 15
           },
           "zerolinecolor": "white",
           "zerolinewidth": 2
          },
          "yaxis": {
           "automargin": true,
           "gridcolor": "white",
           "linecolor": "white",
           "ticks": "",
           "title": {
            "standoff": 15
           },
           "zerolinecolor": "white",
           "zerolinewidth": 2
          }
         }
        },
        "title": {
         "text": "Статистика по новым заболевшим за последнюю неделю",
         "x": 0.5,
         "xanchor": "center",
         "y": 0.9,
         "yanchor": "top"
        },
        "width": 990,
        "xaxis": {
         "title": {
          "text": "Новые заболевшие"
         }
        },
        "yaxis": {
         "title": {
          "text": "Регионы"
         }
        }
       }
      }
     },
     "metadata": {}
    }
   ],
   "source": [
    "color_dict = {\n",
    "                \"Москва\": \"red\",\n",
    "                \"Московская обл.\": \"magenta\",\n",
    "                \"Санкт-Петербург\": \"goldenrod\",\n",
    "                \"Иркутская обл.\": \"darkblue\",\n",
    "                \"Свердловская обл.\": \"green\",\n",
    "                 'Челябинская обл.': 'indianred'}\n",
    "\n",
    "cols = list(new_df1.columns)\n",
    "#cols = cols[:-1]\n",
    "\n",
    "fig = go.Figure()\n",
    "for i in cols:\n",
    "    fig.add_trace(\n",
    "    go.Box(x=new_df1[i],name = i,boxmean = True,marker_color = color_dict.get(i)))\n",
    "\n",
    "fig.update_layout(title_text=\"Статистика по новым заболевшим за последнюю неделю\",\n",
    "                  title_x = 0.5,\n",
    "                  title_y= 0.9,\n",
    "                  title_xanchor = \"center\",\n",
    "                  title_yanchor = \"top\",\n",
    "                  xaxis_title='Новые заболевшие', yaxis_title='Регионы',width = 990, height = 600)\n",
    "fig.show()"
   ]
  },
  {
   "cell_type": "code",
   "execution_count": 36,
   "metadata": {},
   "outputs": [
    {
     "output_type": "execute_result",
     "data": {
      "text/plain": "Region      Москва  Московская обл.  Санкт-Петербург  Свердловская обл.  \\\nDate                                                                      \n2020-08-03     842              197               75                107   \n2020-08-04    1456              207               85                 96   \n2020-08-05    1329              191               37                 92   \n2020-08-06    1254              189               84                 95   \n2020-08-07    1353              194               93                 90   \n2020-08-08    1278              191               83                 84   \n2020-08-09     803              176               33                 82   \n2020-08-10     898              169               45                 80   \n\nRegion      Челябинская обл.  \nDate                          \n2020-08-03                 3  \n2020-08-04               170  \n2020-08-05               142  \n2020-08-06               141  \n2020-08-07               120  \n2020-08-08               119  \n2020-08-09                29  \n2020-08-10                78  ",
      "text/html": "<div>\n<style scoped>\n    .dataframe tbody tr th:only-of-type {\n        vertical-align: middle;\n    }\n\n    .dataframe tbody tr th {\n        vertical-align: top;\n    }\n\n    .dataframe thead th {\n        text-align: right;\n    }\n</style>\n<table border=\"1\" class=\"dataframe\">\n  <thead>\n    <tr style=\"text-align: right;\">\n      <th>Region</th>\n      <th>Москва</th>\n      <th>Московская обл.</th>\n      <th>Санкт-Петербург</th>\n      <th>Свердловская обл.</th>\n      <th>Челябинская обл.</th>\n    </tr>\n    <tr>\n      <th>Date</th>\n      <th></th>\n      <th></th>\n      <th></th>\n      <th></th>\n      <th></th>\n    </tr>\n  </thead>\n  <tbody>\n    <tr>\n      <th>2020-08-03</th>\n      <td>842</td>\n      <td>197</td>\n      <td>75</td>\n      <td>107</td>\n      <td>3</td>\n    </tr>\n    <tr>\n      <th>2020-08-04</th>\n      <td>1456</td>\n      <td>207</td>\n      <td>85</td>\n      <td>96</td>\n      <td>170</td>\n    </tr>\n    <tr>\n      <th>2020-08-05</th>\n      <td>1329</td>\n      <td>191</td>\n      <td>37</td>\n      <td>92</td>\n      <td>142</td>\n    </tr>\n    <tr>\n      <th>2020-08-06</th>\n      <td>1254</td>\n      <td>189</td>\n      <td>84</td>\n      <td>95</td>\n      <td>141</td>\n    </tr>\n    <tr>\n      <th>2020-08-07</th>\n      <td>1353</td>\n      <td>194</td>\n      <td>93</td>\n      <td>90</td>\n      <td>120</td>\n    </tr>\n    <tr>\n      <th>2020-08-08</th>\n      <td>1278</td>\n      <td>191</td>\n      <td>83</td>\n      <td>84</td>\n      <td>119</td>\n    </tr>\n    <tr>\n      <th>2020-08-09</th>\n      <td>803</td>\n      <td>176</td>\n      <td>33</td>\n      <td>82</td>\n      <td>29</td>\n    </tr>\n    <tr>\n      <th>2020-08-10</th>\n      <td>898</td>\n      <td>169</td>\n      <td>45</td>\n      <td>80</td>\n      <td>78</td>\n    </tr>\n  </tbody>\n</table>\n</div>"
     },
     "metadata": {},
     "execution_count": 36
    }
   ],
   "source": [
    "new_df2=box_cases2.unstack().T\n",
    "new_df2.tail(20)"
   ]
  },
  {
   "cell_type": "code",
   "execution_count": 37,
   "metadata": {},
   "outputs": [
    {
     "output_type": "display_data",
     "data": {
      "application/vnd.plotly.v1+json": {
       "config": {
        "plotlyServerURL": "https://plot.ly"
       },
       "data": [
        {
         "boxmean": true,
         "marker": {
          "color": "red"
         },
         "name": "Москва",
         "type": "box",
         "x": [
          842,
          1456,
          1329,
          1254,
          1353,
          1278,
          803,
          898
         ]
        },
        {
         "boxmean": true,
         "marker": {
          "color": "magenta"
         },
         "name": "Московская обл.",
         "type": "box",
         "x": [
          197,
          207,
          191,
          189,
          194,
          191,
          176,
          169
         ]
        },
        {
         "boxmean": true,
         "marker": {
          "color": "goldenrod"
         },
         "name": "Санкт-Петербург",
         "type": "box",
         "x": [
          75,
          85,
          37,
          84,
          93,
          83,
          33,
          45
         ]
        },
        {
         "boxmean": true,
         "marker": {
          "color": "green"
         },
         "name": "Свердловская обл.",
         "type": "box",
         "x": [
          107,
          96,
          92,
          95,
          90,
          84,
          82,
          80
         ]
        },
        {
         "boxmean": true,
         "marker": {
          "color": "indianred"
         },
         "name": "Челябинская обл.",
         "type": "box",
         "x": [
          3,
          170,
          142,
          141,
          120,
          119,
          29,
          78
         ]
        }
       ],
       "layout": {
        "height": 600,
        "template": {
         "data": {
          "bar": [
           {
            "error_x": {
             "color": "#2a3f5f"
            },
            "error_y": {
             "color": "#2a3f5f"
            },
            "marker": {
             "line": {
              "color": "#E5ECF6",
              "width": 0.5
             }
            },
            "type": "bar"
           }
          ],
          "barpolar": [
           {
            "marker": {
             "line": {
              "color": "#E5ECF6",
              "width": 0.5
             }
            },
            "type": "barpolar"
           }
          ],
          "carpet": [
           {
            "aaxis": {
             "endlinecolor": "#2a3f5f",
             "gridcolor": "white",
             "linecolor": "white",
             "minorgridcolor": "white",
             "startlinecolor": "#2a3f5f"
            },
            "baxis": {
             "endlinecolor": "#2a3f5f",
             "gridcolor": "white",
             "linecolor": "white",
             "minorgridcolor": "white",
             "startlinecolor": "#2a3f5f"
            },
            "type": "carpet"
           }
          ],
          "choropleth": [
           {
            "colorbar": {
             "outlinewidth": 0,
             "ticks": ""
            },
            "type": "choropleth"
           }
          ],
          "contour": [
           {
            "colorbar": {
             "outlinewidth": 0,
             "ticks": ""
            },
            "colorscale": [
             [
              0,
              "#0d0887"
             ],
             [
              0.1111111111111111,
              "#46039f"
             ],
             [
              0.2222222222222222,
              "#7201a8"
             ],
             [
              0.3333333333333333,
              "#9c179e"
             ],
             [
              0.4444444444444444,
              "#bd3786"
             ],
             [
              0.5555555555555556,
              "#d8576b"
             ],
             [
              0.6666666666666666,
              "#ed7953"
             ],
             [
              0.7777777777777778,
              "#fb9f3a"
             ],
             [
              0.8888888888888888,
              "#fdca26"
             ],
             [
              1,
              "#f0f921"
             ]
            ],
            "type": "contour"
           }
          ],
          "contourcarpet": [
           {
            "colorbar": {
             "outlinewidth": 0,
             "ticks": ""
            },
            "type": "contourcarpet"
           }
          ],
          "heatmap": [
           {
            "colorbar": {
             "outlinewidth": 0,
             "ticks": ""
            },
            "colorscale": [
             [
              0,
              "#0d0887"
             ],
             [
              0.1111111111111111,
              "#46039f"
             ],
             [
              0.2222222222222222,
              "#7201a8"
             ],
             [
              0.3333333333333333,
              "#9c179e"
             ],
             [
              0.4444444444444444,
              "#bd3786"
             ],
             [
              0.5555555555555556,
              "#d8576b"
             ],
             [
              0.6666666666666666,
              "#ed7953"
             ],
             [
              0.7777777777777778,
              "#fb9f3a"
             ],
             [
              0.8888888888888888,
              "#fdca26"
             ],
             [
              1,
              "#f0f921"
             ]
            ],
            "type": "heatmap"
           }
          ],
          "heatmapgl": [
           {
            "colorbar": {
             "outlinewidth": 0,
             "ticks": ""
            },
            "colorscale": [
             [
              0,
              "#0d0887"
             ],
             [
              0.1111111111111111,
              "#46039f"
             ],
             [
              0.2222222222222222,
              "#7201a8"
             ],
             [
              0.3333333333333333,
              "#9c179e"
             ],
             [
              0.4444444444444444,
              "#bd3786"
             ],
             [
              0.5555555555555556,
              "#d8576b"
             ],
             [
              0.6666666666666666,
              "#ed7953"
             ],
             [
              0.7777777777777778,
              "#fb9f3a"
             ],
             [
              0.8888888888888888,
              "#fdca26"
             ],
             [
              1,
              "#f0f921"
             ]
            ],
            "type": "heatmapgl"
           }
          ],
          "histogram": [
           {
            "marker": {
             "colorbar": {
              "outlinewidth": 0,
              "ticks": ""
             }
            },
            "type": "histogram"
           }
          ],
          "histogram2d": [
           {
            "colorbar": {
             "outlinewidth": 0,
             "ticks": ""
            },
            "colorscale": [
             [
              0,
              "#0d0887"
             ],
             [
              0.1111111111111111,
              "#46039f"
             ],
             [
              0.2222222222222222,
              "#7201a8"
             ],
             [
              0.3333333333333333,
              "#9c179e"
             ],
             [
              0.4444444444444444,
              "#bd3786"
             ],
             [
              0.5555555555555556,
              "#d8576b"
             ],
             [
              0.6666666666666666,
              "#ed7953"
             ],
             [
              0.7777777777777778,
              "#fb9f3a"
             ],
             [
              0.8888888888888888,
              "#fdca26"
             ],
             [
              1,
              "#f0f921"
             ]
            ],
            "type": "histogram2d"
           }
          ],
          "histogram2dcontour": [
           {
            "colorbar": {
             "outlinewidth": 0,
             "ticks": ""
            },
            "colorscale": [
             [
              0,
              "#0d0887"
             ],
             [
              0.1111111111111111,
              "#46039f"
             ],
             [
              0.2222222222222222,
              "#7201a8"
             ],
             [
              0.3333333333333333,
              "#9c179e"
             ],
             [
              0.4444444444444444,
              "#bd3786"
             ],
             [
              0.5555555555555556,
              "#d8576b"
             ],
             [
              0.6666666666666666,
              "#ed7953"
             ],
             [
              0.7777777777777778,
              "#fb9f3a"
             ],
             [
              0.8888888888888888,
              "#fdca26"
             ],
             [
              1,
              "#f0f921"
             ]
            ],
            "type": "histogram2dcontour"
           }
          ],
          "mesh3d": [
           {
            "colorbar": {
             "outlinewidth": 0,
             "ticks": ""
            },
            "type": "mesh3d"
           }
          ],
          "parcoords": [
           {
            "line": {
             "colorbar": {
              "outlinewidth": 0,
              "ticks": ""
             }
            },
            "type": "parcoords"
           }
          ],
          "pie": [
           {
            "automargin": true,
            "type": "pie"
           }
          ],
          "scatter": [
           {
            "marker": {
             "colorbar": {
              "outlinewidth": 0,
              "ticks": ""
             }
            },
            "type": "scatter"
           }
          ],
          "scatter3d": [
           {
            "line": {
             "colorbar": {
              "outlinewidth": 0,
              "ticks": ""
             }
            },
            "marker": {
             "colorbar": {
              "outlinewidth": 0,
              "ticks": ""
             }
            },
            "type": "scatter3d"
           }
          ],
          "scattercarpet": [
           {
            "marker": {
             "colorbar": {
              "outlinewidth": 0,
              "ticks": ""
             }
            },
            "type": "scattercarpet"
           }
          ],
          "scattergeo": [
           {
            "marker": {
             "colorbar": {
              "outlinewidth": 0,
              "ticks": ""
             }
            },
            "type": "scattergeo"
           }
          ],
          "scattergl": [
           {
            "marker": {
             "colorbar": {
              "outlinewidth": 0,
              "ticks": ""
             }
            },
            "type": "scattergl"
           }
          ],
          "scattermapbox": [
           {
            "marker": {
             "colorbar": {
              "outlinewidth": 0,
              "ticks": ""
             }
            },
            "type": "scattermapbox"
           }
          ],
          "scatterpolar": [
           {
            "marker": {
             "colorbar": {
              "outlinewidth": 0,
              "ticks": ""
             }
            },
            "type": "scatterpolar"
           }
          ],
          "scatterpolargl": [
           {
            "marker": {
             "colorbar": {
              "outlinewidth": 0,
              "ticks": ""
             }
            },
            "type": "scatterpolargl"
           }
          ],
          "scatterternary": [
           {
            "marker": {
             "colorbar": {
              "outlinewidth": 0,
              "ticks": ""
             }
            },
            "type": "scatterternary"
           }
          ],
          "surface": [
           {
            "colorbar": {
             "outlinewidth": 0,
             "ticks": ""
            },
            "colorscale": [
             [
              0,
              "#0d0887"
             ],
             [
              0.1111111111111111,
              "#46039f"
             ],
             [
              0.2222222222222222,
              "#7201a8"
             ],
             [
              0.3333333333333333,
              "#9c179e"
             ],
             [
              0.4444444444444444,
              "#bd3786"
             ],
             [
              0.5555555555555556,
              "#d8576b"
             ],
             [
              0.6666666666666666,
              "#ed7953"
             ],
             [
              0.7777777777777778,
              "#fb9f3a"
             ],
             [
              0.8888888888888888,
              "#fdca26"
             ],
             [
              1,
              "#f0f921"
             ]
            ],
            "type": "surface"
           }
          ],
          "table": [
           {
            "cells": {
             "fill": {
              "color": "#EBF0F8"
             },
             "line": {
              "color": "white"
             }
            },
            "header": {
             "fill": {
              "color": "#C8D4E3"
             },
             "line": {
              "color": "white"
             }
            },
            "type": "table"
           }
          ]
         },
         "layout": {
          "annotationdefaults": {
           "arrowcolor": "#2a3f5f",
           "arrowhead": 0,
           "arrowwidth": 1
          },
          "coloraxis": {
           "colorbar": {
            "outlinewidth": 0,
            "ticks": ""
           }
          },
          "colorscale": {
           "diverging": [
            [
             0,
             "#8e0152"
            ],
            [
             0.1,
             "#c51b7d"
            ],
            [
             0.2,
             "#de77ae"
            ],
            [
             0.3,
             "#f1b6da"
            ],
            [
             0.4,
             "#fde0ef"
            ],
            [
             0.5,
             "#f7f7f7"
            ],
            [
             0.6,
             "#e6f5d0"
            ],
            [
             0.7,
             "#b8e186"
            ],
            [
             0.8,
             "#7fbc41"
            ],
            [
             0.9,
             "#4d9221"
            ],
            [
             1,
             "#276419"
            ]
           ],
           "sequential": [
            [
             0,
             "#0d0887"
            ],
            [
             0.1111111111111111,
             "#46039f"
            ],
            [
             0.2222222222222222,
             "#7201a8"
            ],
            [
             0.3333333333333333,
             "#9c179e"
            ],
            [
             0.4444444444444444,
             "#bd3786"
            ],
            [
             0.5555555555555556,
             "#d8576b"
            ],
            [
             0.6666666666666666,
             "#ed7953"
            ],
            [
             0.7777777777777778,
             "#fb9f3a"
            ],
            [
             0.8888888888888888,
             "#fdca26"
            ],
            [
             1,
             "#f0f921"
            ]
           ],
           "sequentialminus": [
            [
             0,
             "#0d0887"
            ],
            [
             0.1111111111111111,
             "#46039f"
            ],
            [
             0.2222222222222222,
             "#7201a8"
            ],
            [
             0.3333333333333333,
             "#9c179e"
            ],
            [
             0.4444444444444444,
             "#bd3786"
            ],
            [
             0.5555555555555556,
             "#d8576b"
            ],
            [
             0.6666666666666666,
             "#ed7953"
            ],
            [
             0.7777777777777778,
             "#fb9f3a"
            ],
            [
             0.8888888888888888,
             "#fdca26"
            ],
            [
             1,
             "#f0f921"
            ]
           ]
          },
          "colorway": [
           "#636efa",
           "#EF553B",
           "#00cc96",
           "#ab63fa",
           "#FFA15A",
           "#19d3f3",
           "#FF6692",
           "#B6E880",
           "#FF97FF",
           "#FECB52"
          ],
          "font": {
           "color": "#2a3f5f"
          },
          "geo": {
           "bgcolor": "white",
           "lakecolor": "white",
           "landcolor": "#E5ECF6",
           "showlakes": true,
           "showland": true,
           "subunitcolor": "white"
          },
          "hoverlabel": {
           "align": "left"
          },
          "hovermode": "closest",
          "mapbox": {
           "style": "light"
          },
          "paper_bgcolor": "white",
          "plot_bgcolor": "#E5ECF6",
          "polar": {
           "angularaxis": {
            "gridcolor": "white",
            "linecolor": "white",
            "ticks": ""
           },
           "bgcolor": "#E5ECF6",
           "radialaxis": {
            "gridcolor": "white",
            "linecolor": "white",
            "ticks": ""
           }
          },
          "scene": {
           "xaxis": {
            "backgroundcolor": "#E5ECF6",
            "gridcolor": "white",
            "gridwidth": 2,
            "linecolor": "white",
            "showbackground": true,
            "ticks": "",
            "zerolinecolor": "white"
           },
           "yaxis": {
            "backgroundcolor": "#E5ECF6",
            "gridcolor": "white",
            "gridwidth": 2,
            "linecolor": "white",
            "showbackground": true,
            "ticks": "",
            "zerolinecolor": "white"
           },
           "zaxis": {
            "backgroundcolor": "#E5ECF6",
            "gridcolor": "white",
            "gridwidth": 2,
            "linecolor": "white",
            "showbackground": true,
            "ticks": "",
            "zerolinecolor": "white"
           }
          },
          "shapedefaults": {
           "line": {
            "color": "#2a3f5f"
           }
          },
          "ternary": {
           "aaxis": {
            "gridcolor": "white",
            "linecolor": "white",
            "ticks": ""
           },
           "baxis": {
            "gridcolor": "white",
            "linecolor": "white",
            "ticks": ""
           },
           "bgcolor": "#E5ECF6",
           "caxis": {
            "gridcolor": "white",
            "linecolor": "white",
            "ticks": ""
           }
          },
          "title": {
           "x": 0.05
          },
          "xaxis": {
           "automargin": true,
           "gridcolor": "white",
           "linecolor": "white",
           "ticks": "",
           "title": {
            "standoff": 15
           },
           "zerolinecolor": "white",
           "zerolinewidth": 2
          },
          "yaxis": {
           "automargin": true,
           "gridcolor": "white",
           "linecolor": "white",
           "ticks": "",
           "title": {
            "standoff": 15
           },
           "zerolinecolor": "white",
           "zerolinewidth": 2
          }
         }
        },
        "title": {
         "text": "Статистика по выздоровевшим за последнюю неделю",
         "x": 0.5,
         "xanchor": "center",
         "y": 0.9,
         "yanchor": "top"
        },
        "width": 990,
        "xaxis": {
         "title": {
          "text": "Выздоровевшие"
         }
        },
        "yaxis": {
         "title": {
          "text": "Регионы"
         }
        }
       }
      }
     },
     "metadata": {}
    }
   ],
   "source": [
    "\n",
    "cols = list(new_df2.columns)\n",
    "#cols = cols[:-1]\n",
    "\n",
    "fig = go.Figure()\n",
    "for i in cols:\n",
    "    fig.add_trace(\n",
    "    go.Box(x=new_df2[i],name = i,boxmean=True,marker_color = color_dict.get(i)))\n",
    "\n",
    "fig.update_layout(title_text=\"Статистика по выздоровевшим за последнюю неделю\",\n",
    "                  title_x = 0.5,\n",
    "                  title_y= 0.9,\n",
    "                  title_xanchor = \"center\",\n",
    "                  title_yanchor = \"top\",\n",
    "                  xaxis_title='Выздоровевшие', yaxis_title='Регионы',width = 990, height = 600)\n",
    "fig.show()"
   ]
  },
  {
   "cell_type": "code",
   "execution_count": 38,
   "metadata": {},
   "outputs": [
    {
     "output_type": "display_data",
     "data": {
      "application/vnd.plotly.v1+json": {
       "config": {
        "plotlyServerURL": "https://plot.ly"
       },
       "data": [
        {
         "boxmean": true,
         "marker": {
          "color": "red"
         },
         "name": "Москва",
         "type": "box",
         "x": [
          693,
          691,
          687,
          684,
          686,
          691,
          689,
          694
         ],
         "xaxis": "x",
         "yaxis": "y"
        },
        {
         "boxmean": true,
         "marker": {
          "color": "magenta"
         },
         "name": "Московская обл.",
         "type": "box",
         "x": [
          160,
          161,
          162,
          159,
          158,
          161,
          149,
          153
         ],
         "xaxis": "x",
         "yaxis": "y"
        },
        {
         "boxmean": true,
         "marker": {
          "color": "goldenrod"
         },
         "name": "Санкт-Петербург",
         "type": "box",
         "x": [
          160,
          158,
          156,
          159,
          157,
          155,
          160,
          157
         ],
         "xaxis": "x",
         "yaxis": "y"
        },
        {
         "boxmean": true,
         "marker": {
          "color": "green"
         },
         "name": "Свердловская обл.",
         "type": "box",
         "x": [
          196,
          182,
          181,
          183,
          180,
          178,
          184,
          179
         ],
         "xaxis": "x",
         "yaxis": "y"
        },
        {
         "boxmean": true,
         "marker": {
          "color": "indianred"
         },
         "name": "Челябинская обл.",
         "type": "box",
         "x": [
          107,
          105,
          103,
          92,
          89,
          87,
          94,
          83
         ],
         "xaxis": "x",
         "yaxis": "y"
        },
        {
         "boxmean": true,
         "marker": {
          "color": "red"
         },
         "name": "Москва",
         "type": "box",
         "x": [
          842,
          1456,
          1329,
          1254,
          1353,
          1278,
          803,
          898
         ],
         "xaxis": "x2",
         "yaxis": "y2"
        },
        {
         "boxmean": true,
         "marker": {
          "color": "magenta"
         },
         "name": "Московская обл.",
         "type": "box",
         "x": [
          197,
          207,
          191,
          189,
          194,
          191,
          176,
          169
         ],
         "xaxis": "x2",
         "yaxis": "y2"
        },
        {
         "boxmean": true,
         "marker": {
          "color": "goldenrod"
         },
         "name": "Санкт-Петербург",
         "type": "box",
         "x": [
          75,
          85,
          37,
          84,
          93,
          83,
          33,
          45
         ],
         "xaxis": "x2",
         "yaxis": "y2"
        },
        {
         "boxmean": true,
         "marker": {
          "color": "green"
         },
         "name": "Свердловская обл.",
         "type": "box",
         "x": [
          107,
          96,
          92,
          95,
          90,
          84,
          82,
          80
         ],
         "xaxis": "x2",
         "yaxis": "y2"
        },
        {
         "boxmean": true,
         "marker": {
          "color": "indianred"
         },
         "name": "Челябинская обл.",
         "type": "box",
         "x": [
          3,
          170,
          142,
          141,
          120,
          119,
          29,
          78
         ],
         "xaxis": "x2",
         "yaxis": "y2"
        }
       ],
       "layout": {
        "annotations": [
         {
          "font": {
           "size": 16
          },
          "showarrow": false,
          "text": "Box-график распределения по новым заболевшим(в день) за неделю:",
          "x": 0.5,
          "xanchor": "center",
          "xref": "paper",
          "y": 1,
          "yanchor": "bottom",
          "yref": "paper"
         },
         {
          "font": {
           "size": 16
          },
          "showarrow": false,
          "text": "Box-график распределения по выздоровевшим(в день) за неделю:",
          "x": 0.5,
          "xanchor": "center",
          "xref": "paper",
          "y": 0.485,
          "yanchor": "bottom",
          "yref": "paper"
         }
        ],
        "height": 1200,
        "showlegend": false,
        "template": {
         "data": {
          "bar": [
           {
            "error_x": {
             "color": "rgb(51,51,51)"
            },
            "error_y": {
             "color": "rgb(51,51,51)"
            },
            "marker": {
             "line": {
              "color": "rgb(237,237,237)",
              "width": 0.5
             }
            },
            "type": "bar"
           }
          ],
          "barpolar": [
           {
            "marker": {
             "line": {
              "color": "rgb(237,237,237)",
              "width": 0.5
             }
            },
            "type": "barpolar"
           }
          ],
          "carpet": [
           {
            "aaxis": {
             "endlinecolor": "rgb(51,51,51)",
             "gridcolor": "white",
             "linecolor": "white",
             "minorgridcolor": "white",
             "startlinecolor": "rgb(51,51,51)"
            },
            "baxis": {
             "endlinecolor": "rgb(51,51,51)",
             "gridcolor": "white",
             "linecolor": "white",
             "minorgridcolor": "white",
             "startlinecolor": "rgb(51,51,51)"
            },
            "type": "carpet"
           }
          ],
          "choropleth": [
           {
            "colorbar": {
             "outlinewidth": 0,
             "tickcolor": "rgb(237,237,237)",
             "ticklen": 6,
             "ticks": "inside"
            },
            "type": "choropleth"
           }
          ],
          "contour": [
           {
            "colorbar": {
             "outlinewidth": 0,
             "tickcolor": "rgb(237,237,237)",
             "ticklen": 6,
             "ticks": "inside"
            },
            "colorscale": [
             [
              0,
              "rgb(20,44,66)"
             ],
             [
              1,
              "rgb(90,179,244)"
             ]
            ],
            "type": "contour"
           }
          ],
          "contourcarpet": [
           {
            "colorbar": {
             "outlinewidth": 0,
             "tickcolor": "rgb(237,237,237)",
             "ticklen": 6,
             "ticks": "inside"
            },
            "type": "contourcarpet"
           }
          ],
          "heatmap": [
           {
            "colorbar": {
             "outlinewidth": 0,
             "tickcolor": "rgb(237,237,237)",
             "ticklen": 6,
             "ticks": "inside"
            },
            "colorscale": [
             [
              0,
              "rgb(20,44,66)"
             ],
             [
              1,
              "rgb(90,179,244)"
             ]
            ],
            "type": "heatmap"
           }
          ],
          "heatmapgl": [
           {
            "colorbar": {
             "outlinewidth": 0,
             "tickcolor": "rgb(237,237,237)",
             "ticklen": 6,
             "ticks": "inside"
            },
            "colorscale": [
             [
              0,
              "rgb(20,44,66)"
             ],
             [
              1,
              "rgb(90,179,244)"
             ]
            ],
            "type": "heatmapgl"
           }
          ],
          "histogram": [
           {
            "marker": {
             "colorbar": {
              "outlinewidth": 0,
              "tickcolor": "rgb(237,237,237)",
              "ticklen": 6,
              "ticks": "inside"
             }
            },
            "type": "histogram"
           }
          ],
          "histogram2d": [
           {
            "colorbar": {
             "outlinewidth": 0,
             "tickcolor": "rgb(237,237,237)",
             "ticklen": 6,
             "ticks": "inside"
            },
            "colorscale": [
             [
              0,
              "rgb(20,44,66)"
             ],
             [
              1,
              "rgb(90,179,244)"
             ]
            ],
            "type": "histogram2d"
           }
          ],
          "histogram2dcontour": [
           {
            "colorbar": {
             "outlinewidth": 0,
             "tickcolor": "rgb(237,237,237)",
             "ticklen": 6,
             "ticks": "inside"
            },
            "colorscale": [
             [
              0,
              "rgb(20,44,66)"
             ],
             [
              1,
              "rgb(90,179,244)"
             ]
            ],
            "type": "histogram2dcontour"
           }
          ],
          "mesh3d": [
           {
            "colorbar": {
             "outlinewidth": 0,
             "tickcolor": "rgb(237,237,237)",
             "ticklen": 6,
             "ticks": "inside"
            },
            "type": "mesh3d"
           }
          ],
          "parcoords": [
           {
            "line": {
             "colorbar": {
              "outlinewidth": 0,
              "tickcolor": "rgb(237,237,237)",
              "ticklen": 6,
              "ticks": "inside"
             }
            },
            "type": "parcoords"
           }
          ],
          "pie": [
           {
            "automargin": true,
            "type": "pie"
           }
          ],
          "scatter": [
           {
            "marker": {
             "colorbar": {
              "outlinewidth": 0,
              "tickcolor": "rgb(237,237,237)",
              "ticklen": 6,
              "ticks": "inside"
             }
            },
            "type": "scatter"
           }
          ],
          "scatter3d": [
           {
            "line": {
             "colorbar": {
              "outlinewidth": 0,
              "tickcolor": "rgb(237,237,237)",
              "ticklen": 6,
              "ticks": "inside"
             }
            },
            "marker": {
             "colorbar": {
              "outlinewidth": 0,
              "tickcolor": "rgb(237,237,237)",
              "ticklen": 6,
              "ticks": "inside"
             }
            },
            "type": "scatter3d"
           }
          ],
          "scattercarpet": [
           {
            "marker": {
             "colorbar": {
              "outlinewidth": 0,
              "tickcolor": "rgb(237,237,237)",
              "ticklen": 6,
              "ticks": "inside"
             }
            },
            "type": "scattercarpet"
           }
          ],
          "scattergeo": [
           {
            "marker": {
             "colorbar": {
              "outlinewidth": 0,
              "tickcolor": "rgb(237,237,237)",
              "ticklen": 6,
              "ticks": "inside"
             }
            },
            "type": "scattergeo"
           }
          ],
          "scattergl": [
           {
            "marker": {
             "colorbar": {
              "outlinewidth": 0,
              "tickcolor": "rgb(237,237,237)",
              "ticklen": 6,
              "ticks": "inside"
             }
            },
            "type": "scattergl"
           }
          ],
          "scattermapbox": [
           {
            "marker": {
             "colorbar": {
              "outlinewidth": 0,
              "tickcolor": "rgb(237,237,237)",
              "ticklen": 6,
              "ticks": "inside"
             }
            },
            "type": "scattermapbox"
           }
          ],
          "scatterpolar": [
           {
            "marker": {
             "colorbar": {
              "outlinewidth": 0,
              "tickcolor": "rgb(237,237,237)",
              "ticklen": 6,
              "ticks": "inside"
             }
            },
            "type": "scatterpolar"
           }
          ],
          "scatterpolargl": [
           {
            "marker": {
             "colorbar": {
              "outlinewidth": 0,
              "tickcolor": "rgb(237,237,237)",
              "ticklen": 6,
              "ticks": "inside"
             }
            },
            "type": "scatterpolargl"
           }
          ],
          "scatterternary": [
           {
            "marker": {
             "colorbar": {
              "outlinewidth": 0,
              "tickcolor": "rgb(237,237,237)",
              "ticklen": 6,
              "ticks": "inside"
             }
            },
            "type": "scatterternary"
           }
          ],
          "surface": [
           {
            "colorbar": {
             "outlinewidth": 0,
             "tickcolor": "rgb(237,237,237)",
             "ticklen": 6,
             "ticks": "inside"
            },
            "colorscale": [
             [
              0,
              "rgb(20,44,66)"
             ],
             [
              1,
              "rgb(90,179,244)"
             ]
            ],
            "type": "surface"
           }
          ],
          "table": [
           {
            "cells": {
             "fill": {
              "color": "rgb(237,237,237)"
             },
             "line": {
              "color": "white"
             }
            },
            "header": {
             "fill": {
              "color": "rgb(217,217,217)"
             },
             "line": {
              "color": "white"
             }
            },
            "type": "table"
           }
          ]
         },
         "layout": {
          "annotationdefaults": {
           "arrowhead": 0,
           "arrowwidth": 1
          },
          "coloraxis": {
           "colorbar": {
            "outlinewidth": 0,
            "tickcolor": "rgb(237,237,237)",
            "ticklen": 6,
            "ticks": "inside"
           }
          },
          "colorscale": {
           "sequential": [
            [
             0,
             "rgb(20,44,66)"
            ],
            [
             1,
             "rgb(90,179,244)"
            ]
           ],
           "sequentialminus": [
            [
             0,
             "rgb(20,44,66)"
            ],
            [
             1,
             "rgb(90,179,244)"
            ]
           ]
          },
          "colorway": [
           "#F8766D",
           "#A3A500",
           "#00BF7D",
           "#00B0F6",
           "#E76BF3"
          ],
          "font": {
           "color": "rgb(51,51,51)"
          },
          "geo": {
           "bgcolor": "white",
           "lakecolor": "white",
           "landcolor": "rgb(237,237,237)",
           "showlakes": true,
           "showland": true,
           "subunitcolor": "white"
          },
          "hoverlabel": {
           "align": "left"
          },
          "hovermode": "closest",
          "paper_bgcolor": "white",
          "plot_bgcolor": "rgb(237,237,237)",
          "polar": {
           "angularaxis": {
            "gridcolor": "white",
            "linecolor": "white",
            "showgrid": true,
            "tickcolor": "rgb(51,51,51)",
            "ticks": "outside"
           },
           "bgcolor": "rgb(237,237,237)",
           "radialaxis": {
            "gridcolor": "white",
            "linecolor": "white",
            "showgrid": true,
            "tickcolor": "rgb(51,51,51)",
            "ticks": "outside"
           }
          },
          "scene": {
           "xaxis": {
            "backgroundcolor": "rgb(237,237,237)",
            "gridcolor": "white",
            "gridwidth": 2,
            "linecolor": "white",
            "showbackground": true,
            "showgrid": true,
            "tickcolor": "rgb(51,51,51)",
            "ticks": "outside",
            "zerolinecolor": "white"
           },
           "yaxis": {
            "backgroundcolor": "rgb(237,237,237)",
            "gridcolor": "white",
            "gridwidth": 2,
            "linecolor": "white",
            "showbackground": true,
            "showgrid": true,
            "tickcolor": "rgb(51,51,51)",
            "ticks": "outside",
            "zerolinecolor": "white"
           },
           "zaxis": {
            "backgroundcolor": "rgb(237,237,237)",
            "gridcolor": "white",
            "gridwidth": 2,
            "linecolor": "white",
            "showbackground": true,
            "showgrid": true,
            "tickcolor": "rgb(51,51,51)",
            "ticks": "outside",
            "zerolinecolor": "white"
           }
          },
          "shapedefaults": {
           "fillcolor": "black",
           "line": {
            "width": 0
           },
           "opacity": 0.3
          },
          "ternary": {
           "aaxis": {
            "gridcolor": "white",
            "linecolor": "white",
            "showgrid": true,
            "tickcolor": "rgb(51,51,51)",
            "ticks": "outside"
           },
           "baxis": {
            "gridcolor": "white",
            "linecolor": "white",
            "showgrid": true,
            "tickcolor": "rgb(51,51,51)",
            "ticks": "outside"
           },
           "bgcolor": "rgb(237,237,237)",
           "caxis": {
            "gridcolor": "white",
            "linecolor": "white",
            "showgrid": true,
            "tickcolor": "rgb(51,51,51)",
            "ticks": "outside"
           }
          },
          "xaxis": {
           "automargin": true,
           "gridcolor": "white",
           "linecolor": "white",
           "showgrid": true,
           "tickcolor": "rgb(51,51,51)",
           "ticks": "outside",
           "title": {
            "standoff": 15
           },
           "zerolinecolor": "white"
          },
          "yaxis": {
           "automargin": true,
           "gridcolor": "white",
           "linecolor": "white",
           "showgrid": true,
           "tickcolor": "rgb(51,51,51)",
           "ticks": "outside",
           "title": {
            "standoff": 15
           },
           "zerolinecolor": "white"
          }
         }
        },
        "width": 990,
        "xaxis": {
         "anchor": "y",
         "domain": [
          0,
          1
         ],
         "matches": "x2",
         "showticklabels": false
        },
        "xaxis2": {
         "anchor": "y2",
         "domain": [
          0,
          1
         ]
        },
        "yaxis": {
         "anchor": "x",
         "domain": [
          0.515,
          1
         ]
        },
        "yaxis2": {
         "anchor": "x2",
         "domain": [
          0,
          0.485
         ]
        }
       }
      }
     },
     "metadata": {}
    }
   ],
   "source": [
    "from plotly.subplots import make_subplots\n",
    "\n",
    "# fig = tools.make_subplots(rows = 1, cols = 2, specs = [[{}, {}]],\n",
    "#                           horizontal_spacing = 0.05)\n",
    "\n",
    "\n",
    "fig = make_subplots(rows=2, cols=1,specs = [[{}],[{}]],vertical_spacing = 0.03,shared_xaxes=True,\n",
    "                  subplot_titles=(\"Box-график распределения по новым заболевшим(в день) за неделю:\",\n",
    "                                 \"Box-график распределения по выздоровевшим(в день) за неделю:\"))\n",
    "#subplot_titles=(\"Статистика по новым заболевшим за последние 2 недели\",\"Статистика по выздоровевшим за последние 2 недели\")\n",
    "\n",
    "for i in cols:\n",
    "    fig.add_trace(\n",
    "    go.Box(x=new_df1[i],name = i,boxmean = True,marker_color = color_dict.get(i)),row=1,col=1)\n",
    "\n",
    "for i in cols:\n",
    "    fig.add_trace(\n",
    "    go.Box(x=new_df2[i],name = i,boxmean=True,marker_color = color_dict.get(i)),row=2,col=1)\n",
    "\n",
    "\n",
    "fig.update_layout(\n",
    "#     annotations=[\n",
    "#         dict(\n",
    "#             x=0.5,\n",
    "#             y=-0.15,\n",
    "#             showarrow=False,\n",
    "#             text=\"Ветикальная пунктирная линия - среднее, Вертикальная сплошная - медиана распределения\",\n",
    "#             xref=\"paper\",\n",
    "#             yref=\"paper\"),\n",
    "        \n",
    "#                 ],\n",
    "    \n",
    "    \n",
    "                  width = 990, height = 1200,\n",
    "    \n",
    "    \n",
    "                 showlegend=False,template ='ggplot2'\n",
    ")\n",
    "\n",
    "#fig.update_layout(height=1000, width=800,showlegend=False)\n",
    "fig.show()"
   ]
  },
  {
   "cell_type": "code",
   "execution_count": null,
   "metadata": {},
   "outputs": [],
   "source": []
  },
  {
   "cell_type": "code",
   "execution_count": null,
   "metadata": {},
   "outputs": [],
   "source": []
  }
 ],
 "metadata": {
  "kernelspec": {
   "display_name": "Python 3.8.3 64-bit ('covid': venv)",
   "language": "python",
   "name": "python_defaultSpec_1598084363889"
  },
  "language_info": {
   "codemirror_mode": {
    "name": "ipython",
    "version": 3
   },
   "file_extension": ".py",
   "mimetype": "text/x-python",
   "name": "python",
   "nbconvert_exporter": "python",
   "pygments_lexer": "ipython3",
   "version": "3.8.3-final"
  }
 },
 "nbformat": 4,
 "nbformat_minor": 4
}