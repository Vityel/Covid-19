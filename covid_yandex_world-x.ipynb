{
 "cells": [
  {
   "cell_type": "code",
   "execution_count": 1,
   "metadata": {},
   "outputs": [],
   "source": [
    "import pandas as pd\n",
    "import datetime\n",
    "import plotly.graph_objects as go\n",
    "import plotly.express as px\n",
    "import plotly.figure_factory as ff\n",
    "import locale\n"
   ]
  },
  {
   "cell_type": "code",
   "execution_count": 2,
   "metadata": {},
   "outputs": [],
   "source": [
    "X=pd.read_csv('W.csv')\n",
    "\n",
    "a1=list(X.Country.unique())\n",
    "country_dict=dict(zip(range(1,len(a1)+1),a1))\n",
    "def my_date(dt):\n",
    "    a= dt.split('-')\n",
    "    return datetime.date(int(a[0]),int(a[1]),int(a[2]))\n",
    "X.Date=X.Date.apply(my_date)\n",
    "myday = list(X.tail(1).Date)[0]"
   ]
  },
  {
   "cell_type": "code",
   "execution_count": 3,
   "metadata": {},
   "outputs": [
    {
     "output_type": "display_data",
     "data": {
      "application/vnd.plotly.v1+json": {
       "config": {
        "plotlyServerURL": "https://plot.ly"
       },
       "data": [
        {
         "colorscale": [
          [
           0,
           "#00083e"
          ],
          [
           0.5,
           "#ededee"
          ],
          [
           1,
           "#ffffff"
          ]
         ],
         "hoverinfo": "none",
         "opacity": 0.75,
         "showscale": false,
         "type": "heatmap",
         "z": [
          [
           0,
           0,
           0,
           0
          ],
          [
           0.5,
           0.5,
           0.5,
           0.5
          ],
          [
           1,
           1,
           1,
           1
          ],
          [
           0.5,
           0.5,
           0.5,
           0.5
          ],
          [
           1,
           1,
           1,
           1
          ],
          [
           0.5,
           0.5,
           0.5,
           0.5
          ],
          [
           1,
           1,
           1,
           1
          ],
          [
           0.5,
           0.5,
           0.5,
           0.5
          ],
          [
           1,
           1,
           1,
           1
          ],
          [
           0.5,
           0.5,
           0.5,
           0.5
          ],
          [
           1,
           1,
           1,
           1
          ],
          [
           0.5,
           0.5,
           0.5,
           0.5
          ],
          [
           1,
           1,
           1,
           1
          ],
          [
           0.5,
           0.5,
           0.5,
           0.5
          ],
          [
           1,
           1,
           1,
           1
          ],
          [
           0.5,
           0.5,
           0.5,
           0.5
          ]
         ]
        }
       ],
       "layout": {
        "annotations": [
         {
          "align": "left",
          "font": {
           "color": "#ffffff"
          },
          "showarrow": false,
          "text": "<b>По количеству текущих больных</b>",
          "x": -0.45,
          "xanchor": "left",
          "xref": "x",
          "y": 0,
          "yref": "y"
         },
         {
          "align": "left",
          "font": {
           "color": "#ffffff"
          },
          "showarrow": false,
          "text": "<b>По количеству новых</b>",
          "x": 0.55,
          "xanchor": "left",
          "xref": "x",
          "y": 0,
          "yref": "y"
         },
         {
          "align": "left",
          "font": {
           "color": "#ffffff"
          },
          "showarrow": false,
          "text": "<b>По умершим за день</b>",
          "x": 1.55,
          "xanchor": "left",
          "xref": "x",
          "y": 0,
          "yref": "y"
         },
         {
          "align": "left",
          "font": {
           "color": "#ffffff"
          },
          "showarrow": false,
          "text": "<b>По выздоровевшим за день</b>",
          "x": 2.55,
          "xanchor": "left",
          "xref": "x",
          "y": 0,
          "yref": "y"
         },
         {
          "align": "left",
          "font": {
           "color": "#000000"
          },
          "showarrow": false,
          "text": "США",
          "x": -0.45,
          "xanchor": "left",
          "xref": "x",
          "y": 1,
          "yref": "y"
         },
         {
          "align": "left",
          "font": {
           "color": "#000000"
          },
          "showarrow": false,
          "text": "Индия",
          "x": 0.55,
          "xanchor": "left",
          "xref": "x",
          "y": 1,
          "yref": "y"
         },
         {
          "align": "left",
          "font": {
           "color": "#000000"
          },
          "showarrow": false,
          "text": "Бразилия",
          "x": 1.55,
          "xanchor": "left",
          "xref": "x",
          "y": 1,
          "yref": "y"
         },
         {
          "align": "left",
          "font": {
           "color": "#000000"
          },
          "showarrow": false,
          "text": "Индия",
          "x": 2.55,
          "xanchor": "left",
          "xref": "x",
          "y": 1,
          "yref": "y"
         },
         {
          "align": "left",
          "font": {
           "color": "#000000"
          },
          "showarrow": false,
          "text": "Индия",
          "x": -0.45,
          "xanchor": "left",
          "xref": "x",
          "y": 2,
          "yref": "y"
         },
         {
          "align": "left",
          "font": {
           "color": "#000000"
          },
          "showarrow": false,
          "text": "Бразилия",
          "x": 0.55,
          "xanchor": "left",
          "xref": "x",
          "y": 2,
          "yref": "y"
         },
         {
          "align": "left",
          "font": {
           "color": "#000000"
          },
          "showarrow": false,
          "text": "США",
          "x": 1.55,
          "xanchor": "left",
          "xref": "x",
          "y": 2,
          "yref": "y"
         },
         {
          "align": "left",
          "font": {
           "color": "#000000"
          },
          "showarrow": false,
          "text": "США",
          "x": 2.55,
          "xanchor": "left",
          "xref": "x",
          "y": 2,
          "yref": "y"
         },
         {
          "align": "left",
          "font": {
           "color": "#000000"
          },
          "showarrow": false,
          "text": "Бразилия",
          "x": -0.45,
          "xanchor": "left",
          "xref": "x",
          "y": 3,
          "yref": "y"
         },
         {
          "align": "left",
          "font": {
           "color": "#000000"
          },
          "showarrow": false,
          "text": "США",
          "x": 0.55,
          "xanchor": "left",
          "xref": "x",
          "y": 3,
          "yref": "y"
         },
         {
          "align": "left",
          "font": {
           "color": "#000000"
          },
          "showarrow": false,
          "text": "Индия",
          "x": 1.55,
          "xanchor": "left",
          "xref": "x",
          "y": 3,
          "yref": "y"
         },
         {
          "align": "left",
          "font": {
           "color": "#000000"
          },
          "showarrow": false,
          "text": "Бразилия",
          "x": 2.55,
          "xanchor": "left",
          "xref": "x",
          "y": 3,
          "yref": "y"
         },
         {
          "align": "left",
          "font": {
           "color": "#000000"
          },
          "showarrow": false,
          "text": "Великобритания",
          "x": -0.45,
          "xanchor": "left",
          "xref": "x",
          "y": 4,
          "yref": "y"
         },
         {
          "align": "left",
          "font": {
           "color": "#000000"
          },
          "showarrow": false,
          "text": "Колумбия",
          "x": 0.55,
          "xanchor": "left",
          "xref": "x",
          "y": 4,
          "yref": "y"
         },
         {
          "align": "left",
          "font": {
           "color": "#000000"
          },
          "showarrow": false,
          "text": "Мексика",
          "x": 1.55,
          "xanchor": "left",
          "xref": "x",
          "y": 4,
          "yref": "y"
         },
         {
          "align": "left",
          "font": {
           "color": "#000000"
          },
          "showarrow": false,
          "text": "Колумбия",
          "x": 2.55,
          "xanchor": "left",
          "xref": "x",
          "y": 4,
          "yref": "y"
         },
         {
          "align": "left",
          "font": {
           "color": "#000000"
          },
          "showarrow": false,
          "text": "Россия",
          "x": -0.45,
          "xanchor": "left",
          "xref": "x",
          "y": 5,
          "yref": "y"
         },
         {
          "align": "left",
          "font": {
           "color": "#000000"
          },
          "showarrow": false,
          "text": "Перу",
          "x": 0.55,
          "xanchor": "left",
          "xref": "x",
          "y": 5,
          "yref": "y"
         },
         {
          "align": "left",
          "font": {
           "color": "#000000"
          },
          "showarrow": false,
          "text": "Колумбия",
          "x": 1.55,
          "xanchor": "left",
          "xref": "x",
          "y": 5,
          "yref": "y"
         },
         {
          "align": "left",
          "font": {
           "color": "#000000"
          },
          "showarrow": false,
          "text": "Россия",
          "x": 2.55,
          "xanchor": "left",
          "xref": "x",
          "y": 5,
          "yref": "y"
         },
         {
          "align": "left",
          "font": {
           "color": "#000000"
          },
          "showarrow": false,
          "text": "Колумбия",
          "x": -0.45,
          "xanchor": "left",
          "xref": "x",
          "y": 6,
          "yref": "y"
         },
         {
          "align": "left",
          "font": {
           "color": "#000000"
          },
          "showarrow": false,
          "text": "Испания",
          "x": 0.55,
          "xanchor": "left",
          "xref": "x",
          "y": 6,
          "yref": "y"
         },
         {
          "align": "left",
          "font": {
           "color": "#000000"
          },
          "showarrow": false,
          "text": "ЮАР",
          "x": 1.55,
          "xanchor": "left",
          "xref": "x",
          "y": 6,
          "yref": "y"
         },
         {
          "align": "left",
          "font": {
           "color": "#000000"
          },
          "showarrow": false,
          "text": "ЮАР",
          "x": 2.55,
          "xanchor": "left",
          "xref": "x",
          "y": 6,
          "yref": "y"
         },
         {
          "align": "left",
          "font": {
           "color": "#000000"
          },
          "showarrow": false,
          "text": "Испания",
          "x": -0.45,
          "xanchor": "left",
          "xref": "x",
          "y": 7,
          "yref": "y"
         },
         {
          "align": "left",
          "font": {
           "color": "#000000"
          },
          "showarrow": false,
          "text": "Аргентина",
          "x": 0.55,
          "xanchor": "left",
          "xref": "x",
          "y": 7,
          "yref": "y"
         },
         {
          "align": "left",
          "font": {
           "color": "#000000"
          },
          "showarrow": false,
          "text": "Перу",
          "x": 1.55,
          "xanchor": "left",
          "xref": "x",
          "y": 7,
          "yref": "y"
         },
         {
          "align": "left",
          "font": {
           "color": "#000000"
          },
          "showarrow": false,
          "text": "Мексика",
          "x": 2.55,
          "xanchor": "left",
          "xref": "x",
          "y": 7,
          "yref": "y"
         },
         {
          "align": "left",
          "font": {
           "color": "#000000"
          },
          "showarrow": false,
          "text": "Перу",
          "x": -0.45,
          "xanchor": "left",
          "xref": "x",
          "y": 8,
          "yref": "y"
         },
         {
          "align": "left",
          "font": {
           "color": "#000000"
          },
          "showarrow": false,
          "text": "Мексика",
          "x": 0.55,
          "xanchor": "left",
          "xref": "x",
          "y": 8,
          "yref": "y"
         },
         {
          "align": "left",
          "font": {
           "color": "#000000"
          },
          "showarrow": false,
          "text": "Иран",
          "x": 1.55,
          "xanchor": "left",
          "xref": "x",
          "y": 8,
          "yref": "y"
         },
         {
          "align": "left",
          "font": {
           "color": "#000000"
          },
          "showarrow": false,
          "text": "Аргентина",
          "x": 2.55,
          "xanchor": "left",
          "xref": "x",
          "y": 8,
          "yref": "y"
         },
         {
          "align": "left",
          "font": {
           "color": "#000000"
          },
          "showarrow": false,
          "text": "Франция",
          "x": -0.45,
          "xanchor": "left",
          "xref": "x",
          "y": 9,
          "yref": "y"
         },
         {
          "align": "left",
          "font": {
           "color": "#000000"
          },
          "showarrow": false,
          "text": "Россия",
          "x": 0.55,
          "xanchor": "left",
          "xref": "x",
          "y": 9,
          "yref": "y"
         },
         {
          "align": "left",
          "font": {
           "color": "#000000"
          },
          "showarrow": false,
          "text": "Аргентина",
          "x": 1.55,
          "xanchor": "left",
          "xref": "x",
          "y": 9,
          "yref": "y"
         },
         {
          "align": "left",
          "font": {
           "color": "#000000"
          },
          "showarrow": false,
          "text": "Саудовская Аравия",
          "x": 2.55,
          "xanchor": "left",
          "xref": "x",
          "y": 9,
          "yref": "y"
         },
         {
          "align": "left",
          "font": {
           "color": "#000000"
          },
          "showarrow": false,
          "text": "ЮАР",
          "x": -0.45,
          "xanchor": "left",
          "xref": "x",
          "y": 10,
          "yref": "y"
         },
         {
          "align": "left",
          "font": {
           "color": "#000000"
          },
          "showarrow": false,
          "text": "ЮАР",
          "x": 0.55,
          "xanchor": "left",
          "xref": "x",
          "y": 10,
          "yref": "y"
         },
         {
          "align": "left",
          "font": {
           "color": "#000000"
          },
          "showarrow": false,
          "text": "Россия",
          "x": 1.55,
          "xanchor": "left",
          "xref": "x",
          "y": 10,
          "yref": "y"
         },
         {
          "align": "left",
          "font": {
           "color": "#000000"
          },
          "showarrow": false,
          "text": "Ирак",
          "x": 2.55,
          "xanchor": "left",
          "xref": "x",
          "y": 10,
          "yref": "y"
         },
         {
          "align": "left",
          "font": {
           "color": "#000000"
          },
          "showarrow": false,
          "text": "Бангладеш",
          "x": -0.45,
          "xanchor": "left",
          "xref": "x",
          "y": 11,
          "yref": "y"
         },
         {
          "align": "left",
          "font": {
           "color": "#000000"
          },
          "showarrow": false,
          "text": "Ирак",
          "x": 0.55,
          "xanchor": "left",
          "xref": "x",
          "y": 11,
          "yref": "y"
         },
         {
          "align": "left",
          "font": {
           "color": "#000000"
          },
          "showarrow": false,
          "text": "Чили",
          "x": 1.55,
          "xanchor": "left",
          "xref": "x",
          "y": 11,
          "yref": "y"
         },
         {
          "align": "left",
          "font": {
           "color": "#000000"
          },
          "showarrow": false,
          "text": "Израиль",
          "x": 2.55,
          "xanchor": "left",
          "xref": "x",
          "y": 11,
          "yref": "y"
         },
         {
          "align": "left",
          "font": {
           "color": "#000000"
          },
          "showarrow": false,
          "text": "Аргентина",
          "x": -0.45,
          "xanchor": "left",
          "xref": "x",
          "y": 12,
          "yref": "y"
         },
         {
          "align": "left",
          "font": {
           "color": "#000000"
          },
          "showarrow": false,
          "text": "Филиппины",
          "x": 0.55,
          "xanchor": "left",
          "xref": "x",
          "y": 12,
          "yref": "y"
         },
         {
          "align": "left",
          "font": {
           "color": "#000000"
          },
          "showarrow": false,
          "text": "Индонезия",
          "x": 1.55,
          "xanchor": "left",
          "xref": "x",
          "y": 12,
          "yref": "y"
         },
         {
          "align": "left",
          "font": {
           "color": "#000000"
          },
          "showarrow": false,
          "text": "Иран",
          "x": 2.55,
          "xanchor": "left",
          "xref": "x",
          "y": 12,
          "yref": "y"
         },
         {
          "align": "left",
          "font": {
           "color": "#000000"
          },
          "showarrow": false,
          "text": "Швеция",
          "x": -0.45,
          "xanchor": "left",
          "xref": "x",
          "y": 13,
          "yref": "y"
         },
         {
          "align": "left",
          "font": {
           "color": "#000000"
          },
          "showarrow": false,
          "text": "Иран",
          "x": 0.55,
          "xanchor": "left",
          "xref": "x",
          "y": 13,
          "yref": "y"
         },
         {
          "align": "left",
          "font": {
           "color": "#000000"
          },
          "showarrow": false,
          "text": "Боливия",
          "x": 1.55,
          "xanchor": "left",
          "xref": "x",
          "y": 13,
          "yref": "y"
         },
         {
          "align": "left",
          "font": {
           "color": "#000000"
          },
          "showarrow": false,
          "text": "Бангладеш",
          "x": 2.55,
          "xanchor": "left",
          "xref": "x",
          "y": 13,
          "yref": "y"
         },
         {
          "align": "left",
          "font": {
           "color": "#000000"
          },
          "showarrow": false,
          "text": "Филиппины",
          "x": -0.45,
          "xanchor": "left",
          "xref": "x",
          "y": 14,
          "yref": "y"
         },
         {
          "align": "left",
          "font": {
           "color": "#000000"
          },
          "showarrow": false,
          "text": "Бангладеш",
          "x": 0.55,
          "xanchor": "left",
          "xref": "x",
          "y": 14,
          "yref": "y"
         },
         {
          "align": "left",
          "font": {
           "color": "#000000"
          },
          "showarrow": false,
          "text": "Румыния",
          "x": 1.55,
          "xanchor": "left",
          "xref": "x",
          "y": 14,
          "yref": "y"
         },
         {
          "align": "left",
          "font": {
           "color": "#000000"
          },
          "showarrow": false,
          "text": "Индонезия",
          "x": 2.55,
          "xanchor": "left",
          "xref": "x",
          "y": 14,
          "yref": "y"
         },
         {
          "align": "left",
          "font": {
           "color": "#000000"
          },
          "showarrow": false,
          "text": "Боливия",
          "x": -0.45,
          "xanchor": "left",
          "xref": "x",
          "y": 15,
          "yref": "y"
         },
         {
          "align": "left",
          "font": {
           "color": "#000000"
          },
          "showarrow": false,
          "text": "Индонезия",
          "x": 0.55,
          "xanchor": "left",
          "xref": "x",
          "y": 15,
          "yref": "y"
         },
         {
          "align": "left",
          "font": {
           "color": "#000000"
          },
          "showarrow": false,
          "text": "Ирак",
          "x": 1.55,
          "xanchor": "left",
          "xref": "x",
          "y": 15,
          "yref": "y"
         },
         {
          "align": "left",
          "font": {
           "color": "#000000"
          },
          "showarrow": false,
          "text": "Чили",
          "x": 2.55,
          "xanchor": "left",
          "xref": "x",
          "y": 15,
          "yref": "y"
         }
        ],
        "height": 600,
        "margin": {
         "b": 100,
         "l": 0,
         "r": 0,
         "t": 100
        },
        "template": {
         "data": {
          "pie": [
           {
            "automargin": true,
            "type": "pie"
           }
          ]
         },
         "layout": {
          "xaxis": {
           "showgrid": true,
           "title": {
            "standoff": 15
           }
          },
          "yaxis": {
           "showgrid": true,
           "title": {
            "standoff": 15
           }
          }
         }
        },
        "title": {
         "text": "Таблица рейтингов заболеваемости COVID-19 по странам",
         "x": 0.5,
         "xanchor": "center",
         "y": 0.95,
         "yanchor": "middle"
        },
        "width": 990,
        "xaxis": {
         "dtick": 1,
         "gridwidth": 2,
         "showticklabels": false,
         "tick0": -0.5,
         "ticks": "",
         "title": {
          "text": ""
         },
         "zeroline": false
        },
        "yaxis": {
         "autorange": "reversed",
         "dtick": 1,
         "gridwidth": 2,
         "showticklabels": false,
         "tick0": 0.5,
         "ticks": "",
         "title": {
          "text": ""
         },
         "zeroline": false
        }
       }
      }
     },
     "metadata": {}
    }
   ],
   "source": [
    "covid_rates = pd.DataFrame()\n",
    "mask = (X.Date==myday)&(X.Country!='Весь мир')\n",
    "today_cases = X[mask]\n",
    "#covid_rates.reset_index(drop=True)\n",
    "covid_rates['По количеству текущих больных'] = today_cases.sort_values(by=['Remaining_ill'],ascending = False).Country.reset_index(drop=True)\n",
    "covid_rates['По количеству новых'] = today_cases.sort_values(by=['Day_confirmed'],ascending = False).Country.reset_index(drop=True)\n",
    "covid_rates['По умершим за день'] = today_cases.sort_values(by=['Day_deaths'],ascending = False).Country.reset_index(drop=True)\n",
    "covid_rates['По выздоровевшим за день'] = today_cases.sort_values(by=['Day_recovered'],ascending = False).Country.reset_index(drop=True)\n",
    "covid_rates.head(10)\n",
    "fig =  ff.create_table(covid_rates.head(15))\n",
    "fig.update_layout(\n",
    "    \n",
    "                  title_text ='Таблица рейтингов заболеваемости COVID-19 по странам',\n",
    "                  margin = {'t':100, 'b':100},\n",
    "                  title_x = 0.5,\n",
    "                  title_y= 0.95,\n",
    "                  title_xanchor = \"center\",\n",
    "                  title_yanchor = \"middle\", \n",
    "                  \n",
    "                  width = 990, height = 600,template = 'gridon',\n",
    "    \n",
    "    \n",
    "                  xaxis_title='',yaxis_title = ''\n",
    ")\n",
    "\n",
    "\n",
    "fig.show()\n"
   ]
  },
  {
   "cell_type": "code",
   "execution_count": 4,
   "metadata": {},
   "outputs": [
    {
     "output_type": "execute_result",
     "data": {
      "text/plain": "['США', 'Индия', 'Бразилия', 'Великобритания', 'Россия']"
     },
     "metadata": {},
     "execution_count": 4
    }
   ],
   "source": [
    "country_number = 5\n",
    "country_towatch = list(covid_rates['По количеству текущих больных'].head(country_number))\n",
    "#country_towatch.append('Турция')\n",
    "#сountry_towatch.append('Танзания')\n",
    "country_towatch"
   ]
  },
  {
   "cell_type": "code",
   "execution_count": 5,
   "metadata": {},
   "outputs": [
    {
     "output_type": "display_data",
     "data": {
      "application/vnd.plotly.v1+json": {
       "config": {
        "plotlyServerURL": "https://plot.ly"
       },
       "data": [
        {
         "hovertemplate": "Страна:=Бразилия<br>Date=%{x}<br>Day_confirmed=%{y}<extra></extra>",
         "legendgroup": "Бразилия",
         "line": {
          "color": "magenta",
          "dash": "solid",
          "shape": "spline"
         },
         "mode": "lines",
         "name": "Бразилия",
         "orientation": "v",
         "showlegend": true,
         "type": "scatter",
         "x": [
          "2020-03-02",
          "2020-03-03",
          "2020-03-04",
          "2020-03-05",
          "2020-03-06",
          "2020-03-07",
          "2020-03-08",
          "2020-03-09",
          "2020-03-10",
          "2020-03-11",
          "2020-03-12",
          "2020-03-13",
          "2020-03-14",
          "2020-03-15",
          "2020-03-16",
          "2020-03-17",
          "2020-03-18",
          "2020-03-19",
          "2020-03-20",
          "2020-03-21",
          "2020-03-22",
          "2020-03-23",
          "2020-03-24",
          "2020-03-25",
          "2020-03-26",
          "2020-03-27",
          "2020-03-28",
          "2020-03-29",
          "2020-03-30",
          "2020-03-31",
          "2020-04-01",
          "2020-04-02",
          "2020-04-03",
          "2020-04-04",
          "2020-04-05",
          "2020-04-06",
          "2020-04-07",
          "2020-04-08",
          "2020-04-09",
          "2020-04-10",
          "2020-04-11",
          "2020-04-12",
          "2020-04-13",
          "2020-04-14",
          "2020-04-15",
          "2020-04-16",
          "2020-04-17",
          "2020-04-18",
          "2020-04-19",
          "2020-04-20",
          "2020-04-21",
          "2020-04-22",
          "2020-04-23",
          "2020-04-24",
          "2020-04-25",
          "2020-04-26",
          "2020-04-27",
          "2020-04-28",
          "2020-04-29",
          "2020-04-30",
          "2020-05-01",
          "2020-05-02",
          "2020-05-03",
          "2020-05-04",
          "2020-05-05",
          "2020-05-06",
          "2020-05-07",
          "2020-05-08",
          "2020-05-09",
          "2020-05-10",
          "2020-05-11",
          "2020-05-12",
          "2020-05-13",
          "2020-05-14",
          "2020-05-15",
          "2020-05-16",
          "2020-05-17",
          "2020-05-18",
          "2020-05-19",
          "2020-05-20",
          "2020-05-21",
          "2020-05-22",
          "2020-05-23",
          "2020-05-24",
          "2020-05-25",
          "2020-05-26",
          "2020-05-27",
          "2020-05-28",
          "2020-05-29",
          "2020-05-30",
          "2020-05-31",
          "2020-06-01",
          "2020-06-02",
          "2020-06-03",
          "2020-06-04",
          "2020-06-05",
          "2020-06-06",
          "2020-06-07",
          "2020-06-08",
          "2020-06-09",
          "2020-06-10",
          "2020-06-11",
          "2020-06-12",
          "2020-06-13",
          "2020-06-14",
          "2020-06-15",
          "2020-06-16",
          "2020-06-17",
          "2020-06-18",
          "2020-06-19",
          "2020-06-20",
          "2020-06-21",
          "2020-06-22",
          "2020-06-23",
          "2020-06-24",
          "2020-06-25",
          "2020-06-26",
          "2020-06-27",
          "2020-06-28",
          "2020-06-29",
          "2020-06-30",
          "2020-07-01",
          "2020-07-02",
          "2020-07-03",
          "2020-07-04",
          "2020-07-05",
          "2020-07-06",
          "2020-07-07",
          "2020-07-08",
          "2020-07-09",
          "2020-07-10",
          "2020-07-11",
          "2020-07-12",
          "2020-07-13",
          "2020-07-14",
          "2020-07-15",
          "2020-07-16",
          "2020-07-17",
          "2020-07-18",
          "2020-07-19",
          "2020-07-20",
          "2020-07-21",
          "2020-07-22",
          "2020-07-23",
          "2020-07-24",
          "2020-07-25",
          "2020-07-26",
          "2020-07-27",
          "2020-07-28",
          "2020-07-29",
          "2020-07-30",
          "2020-07-31",
          "2020-08-01",
          "2020-08-02",
          "2020-08-03",
          "2020-08-04",
          "2020-08-05",
          "2020-08-06",
          "2020-08-07",
          "2020-08-08",
          "2020-08-09",
          "2020-08-10",
          "2020-08-11",
          "2020-08-12",
          "2020-08-13"
         ],
         "xaxis": "x",
         "y": [
          0,
          0,
          2,
          0,
          9,
          0,
          7,
          5,
          6,
          7,
          14,
          99,
          0,
          11,
          38,
          121,
          51,
          249,
          172,
          228,
          525,
          378,
          323,
          307,
          431,
          432,
          487,
          352,
          323,
          1138,
          1119,
          1208,
          1012,
          1304,
          770,
          1031,
          1873,
          2136,
          1922,
          1546,
          1089,
          1465,
          1238,
          1832,
          3058,
          2105,
          3257,
          2976,
          1996,
          2089,
          2336,
          2678,
          4279,
          4007,
          5281,
          3776,
          4346,
          5789,
          6450,
          7502,
          5015,
          4898,
          4726,
          6794,
          6835,
          11156,
          9162,
          11121,
          9167,
          6638,
          6895,
          8620,
          11923,
          13028,
          17126,
          13220,
          7569,
          14288,
          16517,
          19694,
          18508,
          20803,
          16508,
          15813,
          11687,
          16324,
          20599,
          26417,
          26928,
          33274,
          16409,
          11598,
          28936,
          28633,
          30925,
          30830,
          27075,
          18912,
          15654,
          32091,
          32913,
          30412,
          25982,
          21704,
          17110,
          20647,
          34918,
          32188,
          22765,
          54771,
          34666,
          15762,
          23129,
          39436,
          42725,
          39483,
          46860,
          38693,
          30476,
          24052,
          33846,
          46712,
          48105,
          42223,
          37923,
          26051,
          20229,
          45305,
          44571,
          42619,
          45048,
          39023,
          24831,
          20286,
          41857,
          39924,
          45403,
          34177,
          28532,
          23529,
          20257,
          41008,
          67860,
          59961,
          55891,
          51147,
          24578,
          23284,
          40816,
          69074,
          57837,
          52383,
          45392,
          25800,
          16641,
          51603,
          57152,
          53139,
          50230,
          49970,
          23010,
          22048,
          52160,
          55155,
          60091
         ],
         "yaxis": "y"
        },
        {
         "hovertemplate": "Страна:=Великобритания<br>Date=%{x}<br>Day_confirmed=%{y}<extra></extra>",
         "legendgroup": "Великобритания",
         "line": {
          "color": "green",
          "dash": "solid",
          "shape": "spline"
         },
         "mode": "lines",
         "name": "Великобритания",
         "orientation": "v",
         "showlegend": true,
         "type": "scatter",
         "x": [
          "2020-03-02",
          "2020-03-03",
          "2020-03-04",
          "2020-03-05",
          "2020-03-06",
          "2020-03-07",
          "2020-03-08",
          "2020-03-09",
          "2020-03-10",
          "2020-03-11",
          "2020-03-12",
          "2020-03-13",
          "2020-03-14",
          "2020-03-15",
          "2020-03-16",
          "2020-03-17",
          "2020-03-18",
          "2020-03-19",
          "2020-03-20",
          "2020-03-21",
          "2020-03-22",
          "2020-03-23",
          "2020-03-24",
          "2020-03-25",
          "2020-03-26",
          "2020-03-27",
          "2020-03-28",
          "2020-03-29",
          "2020-03-30",
          "2020-03-31",
          "2020-04-01",
          "2020-04-02",
          "2020-04-03",
          "2020-04-04",
          "2020-04-05",
          "2020-04-06",
          "2020-04-07",
          "2020-04-08",
          "2020-04-09",
          "2020-04-10",
          "2020-04-11",
          "2020-04-12",
          "2020-04-13",
          "2020-04-14",
          "2020-04-15",
          "2020-04-16",
          "2020-04-17",
          "2020-04-18",
          "2020-04-19",
          "2020-04-20",
          "2020-04-21",
          "2020-04-22",
          "2020-04-23",
          "2020-04-24",
          "2020-04-25",
          "2020-04-26",
          "2020-04-27",
          "2020-04-28",
          "2020-04-29",
          "2020-04-30",
          "2020-05-01",
          "2020-05-02",
          "2020-05-03",
          "2020-05-04",
          "2020-05-05",
          "2020-05-06",
          "2020-05-07",
          "2020-05-08",
          "2020-05-09",
          "2020-05-10",
          "2020-05-11",
          "2020-05-12",
          "2020-05-13",
          "2020-05-14",
          "2020-05-15",
          "2020-05-16",
          "2020-05-17",
          "2020-05-18",
          "2020-05-19",
          "2020-05-20",
          "2020-05-21",
          "2020-05-22",
          "2020-05-23",
          "2020-05-24",
          "2020-05-25",
          "2020-05-26",
          "2020-05-27",
          "2020-05-28",
          "2020-05-29",
          "2020-05-30",
          "2020-05-31",
          "2020-06-01",
          "2020-06-02",
          "2020-06-03",
          "2020-06-04",
          "2020-06-05",
          "2020-06-06",
          "2020-06-07",
          "2020-06-08",
          "2020-06-09",
          "2020-06-10",
          "2020-06-11",
          "2020-06-12",
          "2020-06-13",
          "2020-06-14",
          "2020-06-15",
          "2020-06-16",
          "2020-06-17",
          "2020-06-18",
          "2020-06-19",
          "2020-06-20",
          "2020-06-21",
          "2020-06-22",
          "2020-06-23",
          "2020-06-24",
          "2020-06-25",
          "2020-06-26",
          "2020-06-27",
          "2020-06-28",
          "2020-06-29",
          "2020-06-30",
          "2020-07-01",
          "2020-07-02",
          "2020-07-03",
          "2020-07-04",
          "2020-07-05",
          "2020-07-06",
          "2020-07-07",
          "2020-07-08",
          "2020-07-09",
          "2020-07-10",
          "2020-07-11",
          "2020-07-12",
          "2020-07-13",
          "2020-07-14",
          "2020-07-15",
          "2020-07-16",
          "2020-07-17",
          "2020-07-18",
          "2020-07-19",
          "2020-07-20",
          "2020-07-21",
          "2020-07-22",
          "2020-07-23",
          "2020-07-24",
          "2020-07-25",
          "2020-07-26",
          "2020-07-27",
          "2020-07-28",
          "2020-07-29",
          "2020-07-30",
          "2020-07-31",
          "2020-08-01",
          "2020-08-02",
          "2020-08-03",
          "2020-08-04",
          "2020-08-05",
          "2020-08-06",
          "2020-08-07",
          "2020-08-08",
          "2020-08-09",
          "2020-08-10",
          "2020-08-11",
          "2020-08-12",
          "2020-08-13"
         ],
         "xaxis": "x",
         "y": [
          40,
          55,
          57,
          49,
          79,
          55,
          54,
          147,
          259,
          412,
          489,
          480,
          364,
          443,
          615,
          770,
          1005,
          1066,
          1258,
          1215,
          1389,
          2349,
          2382,
          2717,
          3127,
          3249,
          2843,
          2892,
          4327,
          4534,
          4974,
          4929,
          4981,
          4073,
          3650,
          5316,
          5486,
          5163,
          4906,
          4367,
          3613,
          3539,
          4205,
          4348,
          5100,
          5343,
          4990,
          4736,
          3860,
          4866,
          4775,
          5505,
          5168,
          4981,
          3764,
          3473,
          4704,
          4727,
          5450,
          4964,
          4730,
          3230,
          2977,
          3383,
          3689,
          3836,
          3771,
          3052,
          2150,
          2322,
          3589,
          3395,
          3300,
          2618,
          2521,
          2072,
          1826,
          2577,
          3058,
          2712,
          2554,
          2041,
          1508,
          1355,
          1613,
          1659,
          1809,
          1736,
          1508,
          1107,
          1070,
          1444,
          1470,
          1349,
          1238,
          1110,
          794,
          718,
          1094,
          1159,
          1186,
          1007,
          1054,
          888,
          807,
          1031,
          1083,
          999,
          1020,
          984,
          666,
          624,
          892,
          882,
          777,
          697,
          639,
          634,
          407,
          620,
          404,
          63,
          6,
          502,
          625,
          519,
          359,
          584,
          637,
          643,
          524,
          826,
          650,
          537,
          1240,
          538,
          647,
          687,
          829,
          726,
          586,
          445,
          563,
          779,
          769,
          770,
          750,
          688,
          553,
          802,
          847,
          883,
          769,
          747,
          942,
          675,
          906,
          964,
          900,
          765,
          1113,
          818,
          1150,
          1039,
          19
         ],
         "yaxis": "y"
        },
        {
         "hovertemplate": "Страна:=Индия<br>Date=%{x}<br>Day_confirmed=%{y}<extra></extra>",
         "legendgroup": "Индия",
         "line": {
          "color": "darkblue",
          "dash": "solid",
          "shape": "spline"
         },
         "mode": "lines",
         "name": "Индия",
         "orientation": "v",
         "showlegend": true,
         "type": "scatter",
         "x": [
          "2020-03-02",
          "2020-03-03",
          "2020-03-04",
          "2020-03-05",
          "2020-03-06",
          "2020-03-07",
          "2020-03-08",
          "2020-03-09",
          "2020-03-10",
          "2020-03-11",
          "2020-03-12",
          "2020-03-13",
          "2020-03-14",
          "2020-03-15",
          "2020-03-16",
          "2020-03-17",
          "2020-03-18",
          "2020-03-19",
          "2020-03-20",
          "2020-03-21",
          "2020-03-22",
          "2020-03-23",
          "2020-03-24",
          "2020-03-25",
          "2020-03-26",
          "2020-03-27",
          "2020-03-28",
          "2020-03-29",
          "2020-03-30",
          "2020-03-31",
          "2020-04-01",
          "2020-04-02",
          "2020-04-03",
          "2020-04-04",
          "2020-04-05",
          "2020-04-06",
          "2020-04-07",
          "2020-04-08",
          "2020-04-09",
          "2020-04-10",
          "2020-04-11",
          "2020-04-12",
          "2020-04-13",
          "2020-04-14",
          "2020-04-15",
          "2020-04-16",
          "2020-04-17",
          "2020-04-18",
          "2020-04-19",
          "2020-04-20",
          "2020-04-21",
          "2020-04-22",
          "2020-04-23",
          "2020-04-24",
          "2020-04-25",
          "2020-04-26",
          "2020-04-27",
          "2020-04-28",
          "2020-04-29",
          "2020-04-30",
          "2020-05-01",
          "2020-05-02",
          "2020-05-03",
          "2020-05-04",
          "2020-05-05",
          "2020-05-06",
          "2020-05-07",
          "2020-05-08",
          "2020-05-09",
          "2020-05-10",
          "2020-05-11",
          "2020-05-12",
          "2020-05-13",
          "2020-05-14",
          "2020-05-15",
          "2020-05-16",
          "2020-05-17",
          "2020-05-18",
          "2020-05-19",
          "2020-05-20",
          "2020-05-21",
          "2020-05-22",
          "2020-05-23",
          "2020-05-24",
          "2020-05-25",
          "2020-05-26",
          "2020-05-27",
          "2020-05-28",
          "2020-05-29",
          "2020-05-30",
          "2020-05-31",
          "2020-06-01",
          "2020-06-02",
          "2020-06-03",
          "2020-06-04",
          "2020-06-05",
          "2020-06-06",
          "2020-06-07",
          "2020-06-08",
          "2020-06-09",
          "2020-06-10",
          "2020-06-11",
          "2020-06-12",
          "2020-06-13",
          "2020-06-14",
          "2020-06-15",
          "2020-06-16",
          "2020-06-17",
          "2020-06-18",
          "2020-06-19",
          "2020-06-20",
          "2020-06-21",
          "2020-06-22",
          "2020-06-23",
          "2020-06-24",
          "2020-06-25",
          "2020-06-26",
          "2020-06-27",
          "2020-06-28",
          "2020-06-29",
          "2020-06-30",
          "2020-07-01",
          "2020-07-02",
          "2020-07-03",
          "2020-07-04",
          "2020-07-05",
          "2020-07-06",
          "2020-07-07",
          "2020-07-08",
          "2020-07-09",
          "2020-07-10",
          "2020-07-11",
          "2020-07-12",
          "2020-07-13",
          "2020-07-14",
          "2020-07-15",
          "2020-07-16",
          "2020-07-17",
          "2020-07-18",
          "2020-07-19",
          "2020-07-20",
          "2020-07-21",
          "2020-07-22",
          "2020-07-23",
          "2020-07-24",
          "2020-07-25",
          "2020-07-26",
          "2020-07-27",
          "2020-07-28",
          "2020-07-29",
          "2020-07-30",
          "2020-07-31",
          "2020-08-01",
          "2020-08-02",
          "2020-08-03",
          "2020-08-04",
          "2020-08-05",
          "2020-08-06",
          "2020-08-07",
          "2020-08-08",
          "2020-08-09",
          "2020-08-10",
          "2020-08-11",
          "2020-08-12",
          "2020-08-13"
         ],
         "xaxis": "x",
         "y": [
          2,
          0,
          23,
          2,
          1,
          3,
          5,
          4,
          13,
          6,
          11,
          9,
          20,
          11,
          6,
          23,
          14,
          38,
          50,
          86,
          66,
          103,
          37,
          121,
          70,
          160,
          100,
          37,
          227,
          146,
          601,
          545,
          24,
          515,
          506,
          1190,
          533,
          605,
          809,
          873,
          848,
          759,
          1248,
          1034,
          835,
          1108,
          922,
          1370,
          1893,
          924,
          1541,
          1290,
          1707,
          1453,
          1753,
          1607,
          1561,
          1873,
          1738,
          1801,
          2394,
          2442,
          2806,
          3932,
          2963,
          3587,
          3364,
          3344,
          3113,
          4353,
          3607,
          3524,
          3763,
          3942,
          3787,
          4864,
          5050,
          4630,
          6147,
          5553,
          6198,
          6568,
          6629,
          7113,
          6414,
          5843,
          7293,
          7300,
          8105,
          8336,
          8782,
          7761,
          8821,
          9633,
          9889,
          9471,
          10438,
          10864,
          8442,
          10218,
          10459,
          10930,
          11458,
          11929,
          11502,
          10667,
          10974,
          12881,
          13586,
          14516,
          15403,
          14831,
          14933,
          15968,
          16922,
          17296,
          18552,
          19906,
          19459,
          18522,
          18641,
          19160,
          20903,
          22771,
          24850,
          24248,
          22251,
          22753,
          24879,
          26506,
          27114,
          28606,
          28732,
          28498,
          29429,
          32676,
          34975,
          35252,
          38697,
          40425,
          37132,
          37740,
          45720,
          49310,
          48916,
          48611,
          49981,
          44457,
          51596,
          50294,
          52783,
          61242,
          54735,
          52972,
          52050,
          52509,
          56282,
          62538,
          61537,
          64399,
          62064,
          53601,
          60963,
          66999,
          64553
         ],
         "yaxis": "y"
        },
        {
         "hovertemplate": "Страна:=Россия<br>Date=%{x}<br>Day_confirmed=%{y}<extra></extra>",
         "legendgroup": "Россия",
         "line": {
          "color": "goldenrod",
          "dash": "solid",
          "shape": "spline"
         },
         "mode": "lines",
         "name": "Россия",
         "orientation": "v",
         "showlegend": true,
         "type": "scatter",
         "x": [
          "2020-03-02",
          "2020-03-03",
          "2020-03-04",
          "2020-03-05",
          "2020-03-06",
          "2020-03-07",
          "2020-03-08",
          "2020-03-09",
          "2020-03-10",
          "2020-03-11",
          "2020-03-12",
          "2020-03-13",
          "2020-03-14",
          "2020-03-15",
          "2020-03-16",
          "2020-03-17",
          "2020-03-18",
          "2020-03-19",
          "2020-03-20",
          "2020-03-21",
          "2020-03-22",
          "2020-03-23",
          "2020-03-24",
          "2020-03-25",
          "2020-03-26",
          "2020-03-27",
          "2020-03-28",
          "2020-03-29",
          "2020-03-30",
          "2020-03-31",
          "2020-04-01",
          "2020-04-02",
          "2020-04-03",
          "2020-04-04",
          "2020-04-05",
          "2020-04-06",
          "2020-04-07",
          "2020-04-08",
          "2020-04-09",
          "2020-04-10",
          "2020-04-11",
          "2020-04-12",
          "2020-04-13",
          "2020-04-14",
          "2020-04-15",
          "2020-04-16",
          "2020-04-17",
          "2020-04-18",
          "2020-04-19",
          "2020-04-20",
          "2020-04-21",
          "2020-04-22",
          "2020-04-23",
          "2020-04-24",
          "2020-04-25",
          "2020-04-26",
          "2020-04-27",
          "2020-04-28",
          "2020-04-29",
          "2020-04-30",
          "2020-05-01",
          "2020-05-02",
          "2020-05-03",
          "2020-05-04",
          "2020-05-05",
          "2020-05-06",
          "2020-05-07",
          "2020-05-08",
          "2020-05-09",
          "2020-05-10",
          "2020-05-11",
          "2020-05-12",
          "2020-05-13",
          "2020-05-14",
          "2020-05-15",
          "2020-05-16",
          "2020-05-17",
          "2020-05-18",
          "2020-05-19",
          "2020-05-20",
          "2020-05-21",
          "2020-05-22",
          "2020-05-23",
          "2020-05-24",
          "2020-05-25",
          "2020-05-26",
          "2020-05-27",
          "2020-05-28",
          "2020-05-29",
          "2020-05-30",
          "2020-05-31",
          "2020-06-01",
          "2020-06-02",
          "2020-06-03",
          "2020-06-04",
          "2020-06-05",
          "2020-06-06",
          "2020-06-07",
          "2020-06-08",
          "2020-06-09",
          "2020-06-10",
          "2020-06-11",
          "2020-06-12",
          "2020-06-13",
          "2020-06-14",
          "2020-06-15",
          "2020-06-16",
          "2020-06-17",
          "2020-06-18",
          "2020-06-19",
          "2020-06-20",
          "2020-06-21",
          "2020-06-22",
          "2020-06-23",
          "2020-06-24",
          "2020-06-25",
          "2020-06-26",
          "2020-06-27",
          "2020-06-28",
          "2020-06-29",
          "2020-06-30",
          "2020-07-01",
          "2020-07-02",
          "2020-07-03",
          "2020-07-04",
          "2020-07-05",
          "2020-07-06",
          "2020-07-07",
          "2020-07-08",
          "2020-07-09",
          "2020-07-10",
          "2020-07-11",
          "2020-07-12",
          "2020-07-13",
          "2020-07-14",
          "2020-07-15",
          "2020-07-16",
          "2020-07-17",
          "2020-07-18",
          "2020-07-19",
          "2020-07-20",
          "2020-07-21",
          "2020-07-22",
          "2020-07-23",
          "2020-07-24",
          "2020-07-25",
          "2020-07-26",
          "2020-07-27",
          "2020-07-28",
          "2020-07-29",
          "2020-07-30",
          "2020-07-31",
          "2020-08-01",
          "2020-08-02",
          "2020-08-03",
          "2020-08-04",
          "2020-08-05",
          "2020-08-06",
          "2020-08-07",
          "2020-08-08",
          "2020-08-09",
          "2020-08-10",
          "2020-08-11",
          "2020-08-12",
          "2020-08-13"
         ],
         "xaxis": "x",
         "y": [
          1,
          0,
          0,
          1,
          9,
          0,
          4,
          0,
          3,
          0,
          8,
          17,
          14,
          4,
          27,
          24,
          33,
          52,
          54,
          53,
          61,
          71,
          57,
          163,
          182,
          196,
          228,
          270,
          302,
          501,
          440,
          771,
          601,
          582,
          658,
          954,
          1154,
          1175,
          1459,
          1786,
          1667,
          2186,
          2558,
          2774,
          3388,
          3448,
          4070,
          4785,
          6060,
          4268,
          5642,
          5236,
          4774,
          5849,
          5966,
          6361,
          6198,
          6411,
          5841,
          7099,
          7933,
          9623,
          10633,
          10581,
          10102,
          10559,
          11231,
          10699,
          10817,
          11012,
          11656,
          10899,
          10028,
          9974,
          10598,
          9200,
          9709,
          8926,
          9263,
          8764,
          8849,
          8894,
          9434,
          8599,
          8946,
          8915,
          8338,
          8371,
          8572,
          8952,
          9268,
          8485,
          8858,
          8529,
          8823,
          8718,
          8846,
          8971,
          8970,
          8587,
          8393,
          8777,
          8961,
          8697,
          8809,
          8217,
          8241,
          7824,
          7772,
          7971,
          7870,
          7717,
          7586,
          7413,
          7165,
          7105,
          6788,
          6843,
          6784,
          6683,
          6683,
          6550,
          6752,
          6710,
          6623,
          6719,
          6569,
          6363,
          6534,
          6491,
          6623,
          6586,
          6587,
          6511,
          6240,
          6410,
          6415,
          6389,
          6214,
          6096,
          5901,
          5828,
          5850,
          5830,
          5779,
          5833,
          5741,
          5607,
          5380,
          5449,
          5484,
          5468,
          5429,
          5387,
          5364,
          5121,
          5186,
          5239,
          5191,
          5185,
          5155,
          5081,
          4892,
          5054,
          5017
         ],
         "yaxis": "y"
        },
        {
         "hovertemplate": "Страна:=США<br>Date=%{x}<br>Day_confirmed=%{y}<extra></extra>",
         "legendgroup": "США",
         "line": {
          "color": "red",
          "dash": "solid",
          "shape": "spline"
         },
         "mode": "lines",
         "name": "США",
         "orientation": "v",
         "showlegend": true,
         "type": "scatter",
         "x": [
          "2020-03-02",
          "2020-03-03",
          "2020-03-04",
          "2020-03-05",
          "2020-03-06",
          "2020-03-07",
          "2020-03-08",
          "2020-03-09",
          "2020-03-10",
          "2020-03-11",
          "2020-03-12",
          "2020-03-13",
          "2020-03-14",
          "2020-03-15",
          "2020-03-16",
          "2020-03-17",
          "2020-03-18",
          "2020-03-19",
          "2020-03-20",
          "2020-03-21",
          "2020-03-22",
          "2020-03-23",
          "2020-03-24",
          "2020-03-25",
          "2020-03-26",
          "2020-03-27",
          "2020-03-28",
          "2020-03-29",
          "2020-03-30",
          "2020-03-31",
          "2020-04-01",
          "2020-04-02",
          "2020-04-03",
          "2020-04-04",
          "2020-04-05",
          "2020-04-06",
          "2020-04-07",
          "2020-04-08",
          "2020-04-09",
          "2020-04-10",
          "2020-04-11",
          "2020-04-12",
          "2020-04-13",
          "2020-04-14",
          "2020-04-15",
          "2020-04-16",
          "2020-04-17",
          "2020-04-18",
          "2020-04-19",
          "2020-04-20",
          "2020-04-21",
          "2020-04-22",
          "2020-04-23",
          "2020-04-24",
          "2020-04-25",
          "2020-04-26",
          "2020-04-27",
          "2020-04-28",
          "2020-04-29",
          "2020-04-30",
          "2020-05-01",
          "2020-05-02",
          "2020-05-03",
          "2020-05-04",
          "2020-05-05",
          "2020-05-06",
          "2020-05-07",
          "2020-05-08",
          "2020-05-09",
          "2020-05-10",
          "2020-05-11",
          "2020-05-12",
          "2020-05-13",
          "2020-05-14",
          "2020-05-15",
          "2020-05-16",
          "2020-05-17",
          "2020-05-18",
          "2020-05-19",
          "2020-05-20",
          "2020-05-21",
          "2020-05-22",
          "2020-05-23",
          "2020-05-24",
          "2020-05-25",
          "2020-05-26",
          "2020-05-27",
          "2020-05-28",
          "2020-05-29",
          "2020-05-30",
          "2020-05-31",
          "2020-06-01",
          "2020-06-02",
          "2020-06-03",
          "2020-06-04",
          "2020-06-05",
          "2020-06-06",
          "2020-06-07",
          "2020-06-08",
          "2020-06-09",
          "2020-06-10",
          "2020-06-11",
          "2020-06-12",
          "2020-06-13",
          "2020-06-14",
          "2020-06-15",
          "2020-06-16",
          "2020-06-17",
          "2020-06-18",
          "2020-06-19",
          "2020-06-20",
          "2020-06-21",
          "2020-06-22",
          "2020-06-23",
          "2020-06-24",
          "2020-06-25",
          "2020-06-26",
          "2020-06-27",
          "2020-06-28",
          "2020-06-29",
          "2020-06-30",
          "2020-07-01",
          "2020-07-02",
          "2020-07-03",
          "2020-07-04",
          "2020-07-05",
          "2020-07-06",
          "2020-07-07",
          "2020-07-08",
          "2020-07-09",
          "2020-07-10",
          "2020-07-11",
          "2020-07-12",
          "2020-07-13",
          "2020-07-14",
          "2020-07-15",
          "2020-07-16",
          "2020-07-17",
          "2020-07-18",
          "2020-07-19",
          "2020-07-20",
          "2020-07-21",
          "2020-07-22",
          "2020-07-23",
          "2020-07-24",
          "2020-07-25",
          "2020-07-26",
          "2020-07-27",
          "2020-07-28",
          "2020-07-29",
          "2020-07-30",
          "2020-07-31",
          "2020-08-01",
          "2020-08-02",
          "2020-08-03",
          "2020-08-04",
          "2020-08-05",
          "2020-08-06",
          "2020-08-07",
          "2020-08-08",
          "2020-08-09",
          "2020-08-10",
          "2020-08-11",
          "2020-08-12",
          "2020-08-13"
         ],
         "xaxis": "x",
         "y": [
          23,
          20,
          31,
          70,
          48,
          115,
          114,
          68,
          192,
          398,
          452,
          596,
          713,
          98,
          1392,
          1781,
          2776,
          5240,
          5322,
          6346,
          7936,
          10089,
          10262,
          11943,
          18036,
          18185,
          19793,
          19136,
          21502,
          26017,
          25481,
          30405,
          31937,
          33152,
          27874,
          29642,
          30777,
          31694,
          34756,
          33501,
          30026,
          28553,
          25291,
          27065,
          29096,
          31298,
          32724,
          28341,
          26038,
          27341,
          25602,
          28104,
          34195,
          36291,
          32921,
          27689,
          22465,
          24535,
          27520,
          29629,
          34162,
          29195,
          25587,
          22475,
          24185,
          25256,
          27882,
          27178,
          25733,
          19764,
          18878,
          22190,
          20958,
          27617,
          25300,
          25101,
          19004,
          21769,
          20449,
          23807,
          25355,
          24141,
          21823,
          20813,
          18991,
          18883,
          18282,
          22815,
          24504,
          24450,
          19910,
          17355,
          20895,
          19958,
          21351,
          25224,
          22732,
          17731,
          17415,
          18127,
          20794,
          22950,
          25330,
          25556,
          19824,
          19660,
          23705,
          25559,
          27809,
          31480,
          32749,
          26439,
          30536,
          35188,
          34935,
          39873,
          45255,
          42705,
          39605,
          40804,
          45746,
          51174,
          54461,
          53312,
          45880,
          49883,
          44953,
          60021,
          58601,
          63247,
          67791,
          60188,
          59017,
          59215,
          67417,
          67328,
          77255,
          71558,
          63698,
          61847,
          61417,
          64534,
          70910,
          68695,
          73715,
          66439,
          54953,
          56414,
          65869,
          70776,
          68033,
          67092,
          58485,
          47580,
          45368,
          57540,
          52810,
          59692,
          58173,
          56174,
          46935,
          49536,
          46808,
          56203,
          51443
         ],
         "yaxis": "y"
        }
       ],
       "layout": {
        "annotations": [
         {
          "showarrow": false,
          "text": "Данные: Яндекс",
          "x": 0.5,
          "xref": "paper",
          "y": -0.15,
          "yref": "paper"
         }
        ],
        "height": 600,
        "legend": {
         "title": {
          "text": "Страна:"
         },
         "tracegroupgap": 0
        },
        "template": {
         "data": {
          "pie": [
           {
            "automargin": true,
            "type": "pie"
           }
          ]
         },
         "layout": {
          "xaxis": {
           "showgrid": true,
           "title": {
            "standoff": 15
           }
          },
          "yaxis": {
           "showgrid": true,
           "title": {
            "standoff": 15
           }
          }
         }
        },
        "title": {
         "text": "График количества новых заболевших COVID-19 по 5 странам<br> с наибольшим количеством текущих больных",
         "x": 0.5,
         "xanchor": "center",
         "y": 0.9,
         "yanchor": "bottom"
        },
        "width": 990,
        "xaxis": {
         "anchor": "y",
         "domain": [
          0,
          1
         ],
         "title": {
          "text": ""
         }
        },
        "yaxis": {
         "anchor": "x",
         "domain": [
          0,
          1
         ],
         "title": {
          "text": ""
         }
        }
       }
      }
     },
     "metadata": {}
    }
   ],
   "source": [
    "mask = (X.Date>datetime.date(2020,3,1))&(X.Country.isin(country_towatch))\n",
    "#mask = (X.Region.isin(regions_towatch))\n",
    "\n",
    "fig = px.line(X[mask], y=\"Day_confirmed\", x=\"Date\",\n",
    "                             color=\"Country\", line_group=\"Country\",\n",
    "              line_shape=\"spline\", render_mode=\"notebook\",labels={'Country':'Страна:'},\n",
    "              color_discrete_map={\n",
    "                \"США\": \"red\",\n",
    "                \"Бразилия\": \"magenta\",\n",
    "                \"Россия\": \"goldenrod\",\n",
    "                \"Индия\": \"darkblue\",\n",
    "                \"Великобритания\": \"green\",\n",
    "                 'Испания': 'aquamarine'},\n",
    "             title=\"График количества новых заболевших COVID-19 по 5 странам<br> с наибольшим количеством текущих больных\")\n",
    "\n",
    "fig.update_layout(\n",
    "    annotations=[\n",
    "            dict(\n",
    "            x=0.5,\n",
    "            y=-0.15,\n",
    "            showarrow=False,\n",
    "            text=\"Данные: Яндекс\",\n",
    "            xref=\"paper\",\n",
    "            yref=\"paper\")],\n",
    "           \n",
    "                  title_x = 0.5,\n",
    "                  title_y= 0.9,\n",
    "                  title_xanchor = \"center\",\n",
    "                  title_yanchor = \"bottom\", \n",
    "                  \n",
    "                  width = 990, height = 600,template = 'gridon',\n",
    "    \n",
    "    \n",
    "                  xaxis_title='',yaxis_title = ''\n",
    ")\n",
    "\n",
    "\n",
    "fig.show()"
   ]
  },
  {
   "cell_type": "code",
   "execution_count": 6,
   "metadata": {},
   "outputs": [
    {
     "output_type": "display_data",
     "data": {
      "application/vnd.plotly.v1+json": {
       "config": {
        "plotlyServerURL": "https://plot.ly"
       },
       "data": [
        {
         "marker": {
          "color": "red"
         },
         "name": "США",
         "showlegend": true,
         "text": [
          null,
          null,
          null,
          null,
          null,
          null,
          null,
          1.5,
          0,
          0.5,
          1,
          1,
          null,
          2,
          1,
          1,
          0,
          0,
          0,
          0,
          null,
          null,
          null,
          null,
          1,
          1,
          0,
          0,
          0,
          0,
          null,
          null,
          null,
          null,
          0,
          0,
          0.5,
          0.5,
          null,
          null,
          37,
          57,
          8.889,
          9.6,
          4.568,
          4.632,
          4.338,
          2.396,
          2.893,
          2.924,
          3.199,
          4.748,
          4.415,
          2.408,
          2.522,
          2.432,
          2.801,
          6.019,
          5.402,
          4.941,
          4.108,
          2.654,
          2.291,
          2.044,
          2.026,
          1.968,
          1.962,
          1.868,
          1.562,
          1.48,
          1.356,
          1.376,
          1.448,
          1.399,
          1.339,
          1.186,
          1.067,
          0.992,
          1.028,
          1.066,
          1.07,
          1.057,
          0.925,
          0.849,
          0.846,
          0.889,
          1.024,
          1.095,
          1.076,
          1.015,
          0.893,
          0.882,
          0.973,
          1.085,
          1.225,
          1.224,
          1.036,
          0.866,
          0.777,
          0.794,
          0.971,
          1.12,
          1.16,
          1.07,
          0.876,
          0.809,
          0.842,
          0.938,
          1.045,
          1.031,
          0.917,
          0.828,
          0.771,
          0.891,
          1.049,
          1.143,
          1.186,
          1.017,
          0.899,
          0.859,
          0.942,
          1.028,
          1.102,
          1.084,
          0.939,
          0.859,
          0.809,
          0.857,
          0.985,
          1.119,
          1.191,
          1.092,
          0.978,
          0.867,
          0.868,
          1.014,
          1.081,
          1.114,
          1.045,
          0.869,
          0.83,
          0.911,
          1.049,
          1.245,
          1.265,
          1.14,
          1.018,
          0.938,
          1.033,
          1.201,
          1.325,
          1.335,
          1.253,
          1.151,
          1.081,
          1.186,
          1.281,
          1.303,
          1.317,
          1.198,
          1.088,
          1.089,
          1.148,
          1.216,
          1.213,
          1.148,
          1.01,
          0.981,
          1.042,
          1.114,
          1.287,
          1.245,
          1.172,
          1.085,
          0.985,
          1.013,
          1.084,
          1.152,
          1.138,
          1.085,
          0.953,
          0.887,
          0.924,
          0.968,
          1.075,
          1.112,
          1.02,
          0.947,
          0.877,
          0.887,
          0.99,
          1.081,
          1.085,
          0.972,
          0.837,
          0.769,
          0.769,
          0.893,
          1.044,
          1.086,
          1.087,
          0.979,
          0.874,
          0.879,
          0.923
         ],
         "textposition": "inside",
         "type": "bar",
         "x": [
          "2020-01-22",
          "2020-01-23",
          "2020-01-24",
          "2020-01-25",
          "2020-01-26",
          "2020-01-27",
          "2020-01-28",
          "2020-01-29",
          "2020-01-30",
          "2020-01-31",
          "2020-02-01",
          "2020-02-02",
          "2020-02-03",
          "2020-02-04",
          "2020-02-05",
          "2020-02-06",
          "2020-02-07",
          "2020-02-08",
          "2020-02-09",
          "2020-02-10",
          "2020-02-11",
          "2020-02-12",
          "2020-02-13",
          "2020-02-14",
          "2020-02-15",
          "2020-02-16",
          "2020-02-17",
          "2020-02-18",
          "2020-02-19",
          "2020-02-20",
          "2020-02-21",
          "2020-02-22",
          "2020-02-23",
          "2020-02-24",
          "2020-02-25",
          "2020-02-26",
          "2020-02-27",
          "2020-02-28",
          "2020-02-29",
          "2020-03-01",
          "2020-03-02",
          "2020-03-03",
          "2020-03-04",
          "2020-03-05",
          "2020-03-06",
          "2020-03-07",
          "2020-03-08",
          "2020-03-09",
          "2020-03-10",
          "2020-03-11",
          "2020-03-12",
          "2020-03-13",
          "2020-03-14",
          "2020-03-15",
          "2020-03-16",
          "2020-03-17",
          "2020-03-18",
          "2020-03-19",
          "2020-03-20",
          "2020-03-21",
          "2020-03-22",
          "2020-03-23",
          "2020-03-24",
          "2020-03-25",
          "2020-03-26",
          "2020-03-27",
          "2020-03-28",
          "2020-03-29",
          "2020-03-30",
          "2020-03-31",
          "2020-04-01",
          "2020-04-02",
          "2020-04-03",
          "2020-04-04",
          "2020-04-05",
          "2020-04-06",
          "2020-04-07",
          "2020-04-08",
          "2020-04-09",
          "2020-04-10",
          "2020-04-11",
          "2020-04-12",
          "2020-04-13",
          "2020-04-14",
          "2020-04-15",
          "2020-04-16",
          "2020-04-17",
          "2020-04-18",
          "2020-04-19",
          "2020-04-20",
          "2020-04-21",
          "2020-04-22",
          "2020-04-23",
          "2020-04-24",
          "2020-04-25",
          "2020-04-26",
          "2020-04-27",
          "2020-04-28",
          "2020-04-29",
          "2020-04-30",
          "2020-05-01",
          "2020-05-02",
          "2020-05-03",
          "2020-05-04",
          "2020-05-05",
          "2020-05-06",
          "2020-05-07",
          "2020-05-08",
          "2020-05-09",
          "2020-05-10",
          "2020-05-11",
          "2020-05-12",
          "2020-05-13",
          "2020-05-14",
          "2020-05-15",
          "2020-05-16",
          "2020-05-17",
          "2020-05-18",
          "2020-05-19",
          "2020-05-20",
          "2020-05-21",
          "2020-05-22",
          "2020-05-23",
          "2020-05-24",
          "2020-05-25",
          "2020-05-26",
          "2020-05-27",
          "2020-05-28",
          "2020-05-29",
          "2020-05-30",
          "2020-05-31",
          "2020-06-01",
          "2020-06-02",
          "2020-06-03",
          "2020-06-04",
          "2020-06-05",
          "2020-06-06",
          "2020-06-07",
          "2020-06-08",
          "2020-06-09",
          "2020-06-10",
          "2020-06-11",
          "2020-06-12",
          "2020-06-13",
          "2020-06-14",
          "2020-06-15",
          "2020-06-16",
          "2020-06-17",
          "2020-06-18",
          "2020-06-19",
          "2020-06-20",
          "2020-06-21",
          "2020-06-22",
          "2020-06-23",
          "2020-06-24",
          "2020-06-25",
          "2020-06-26",
          "2020-06-27",
          "2020-06-28",
          "2020-06-29",
          "2020-06-30",
          "2020-07-01",
          "2020-07-02",
          "2020-07-03",
          "2020-07-04",
          "2020-07-05",
          "2020-07-06",
          "2020-07-07",
          "2020-07-08",
          "2020-07-09",
          "2020-07-10",
          "2020-07-11",
          "2020-07-12",
          "2020-07-13",
          "2020-07-14",
          "2020-07-15",
          "2020-07-16",
          "2020-07-17",
          "2020-07-18",
          "2020-07-19",
          "2020-07-20",
          "2020-07-21",
          "2020-07-22",
          "2020-07-23",
          "2020-07-24",
          "2020-07-25",
          "2020-07-26",
          "2020-07-27",
          "2020-07-28",
          "2020-07-29",
          "2020-07-30",
          "2020-07-31",
          "2020-08-01",
          "2020-08-02",
          "2020-08-03",
          "2020-08-04",
          "2020-08-05",
          "2020-08-06",
          "2020-08-07",
          "2020-08-08",
          "2020-08-09",
          "2020-08-10",
          "2020-08-11",
          "2020-08-12",
          "2020-08-13"
         ],
         "y": [
          null,
          null,
          null,
          null,
          null,
          null,
          null,
          1.5,
          0,
          0.5,
          1,
          1,
          null,
          2,
          1,
          1,
          0,
          0,
          0,
          0,
          null,
          null,
          null,
          null,
          1,
          1,
          0,
          0,
          0,
          0,
          null,
          null,
          null,
          null,
          0,
          0,
          0.5,
          0.5,
          null,
          null,
          37,
          57,
          8.889,
          9.6,
          4.5680000000000005,
          4.632,
          4.338,
          2.396,
          2.8930000000000002,
          2.924,
          3.199,
          4.748,
          4.415,
          2.408,
          2.522,
          2.432,
          2.801,
          6.019,
          5.402,
          4.941,
          4.1080000000000005,
          2.654,
          2.291,
          2.044,
          2.026,
          1.9680000000000002,
          1.962,
          1.868,
          1.5619999999999998,
          1.48,
          1.3559999999999999,
          1.376,
          1.4480000000000002,
          1.399,
          1.339,
          1.186,
          1.067,
          0.992,
          1.028,
          1.0659999999999998,
          1.07,
          1.057,
          0.925,
          0.8490000000000001,
          0.846,
          0.889,
          1.024,
          1.095,
          1.0759999999999998,
          1.015,
          0.893,
          0.882,
          0.973,
          1.085,
          1.225,
          1.224,
          1.036,
          0.866,
          0.777,
          0.794,
          0.971,
          1.12,
          1.16,
          1.07,
          0.8759999999999999,
          0.809,
          0.8420000000000001,
          0.938,
          1.045,
          1.031,
          0.917,
          0.828,
          0.7709999999999999,
          0.8909999999999999,
          1.0490000000000002,
          1.143,
          1.186,
          1.0170000000000001,
          0.899,
          0.8590000000000001,
          0.9420000000000001,
          1.028,
          1.102,
          1.084,
          0.9390000000000001,
          0.8590000000000001,
          0.809,
          0.857,
          0.985,
          1.119,
          1.1909999999999998,
          1.092,
          0.978,
          0.867,
          0.868,
          1.014,
          1.081,
          1.114,
          1.045,
          0.8690000000000001,
          0.83,
          0.9109999999999999,
          1.0490000000000002,
          1.245,
          1.265,
          1.14,
          1.018,
          0.938,
          1.033,
          1.2009999999999998,
          1.325,
          1.335,
          1.253,
          1.151,
          1.081,
          1.186,
          1.281,
          1.3030000000000002,
          1.317,
          1.198,
          1.088,
          1.089,
          1.148,
          1.216,
          1.213,
          1.148,
          1.01,
          0.981,
          1.042,
          1.114,
          1.287,
          1.245,
          1.172,
          1.085,
          0.985,
          1.013,
          1.084,
          1.1520000000000001,
          1.138,
          1.085,
          0.953,
          0.887,
          0.924,
          0.968,
          1.075,
          1.112,
          1.02,
          0.9470000000000001,
          0.877,
          0.887,
          0.99,
          1.081,
          1.085,
          0.972,
          0.8370000000000001,
          0.769,
          0.769,
          0.893,
          1.044,
          1.0859999999999999,
          1.087,
          0.9790000000000001,
          0.8740000000000001,
          0.879,
          0.9229999999999999
         ]
        },
        {
         "marker": {
          "color": "darkblue"
         },
         "name": "Индия",
         "showlegend": true,
         "text": [
          null,
          null,
          null,
          null,
          null,
          null,
          null,
          null,
          null,
          null,
          null,
          null,
          2,
          2,
          2,
          0.5,
          0,
          0,
          0,
          0,
          null,
          null,
          null,
          null,
          null,
          null,
          null,
          null,
          null,
          null,
          null,
          null,
          null,
          null,
          null,
          null,
          null,
          null,
          null,
          null,
          null,
          null,
          null,
          null,
          13,
          14.5,
          0.44,
          0.481,
          0.962,
          0.966,
          3.091,
          3,
          1.84,
          1.821,
          1.353,
          1.538,
          1.174,
          1.588,
          2.717,
          3.133,
          4.444,
          3.765,
          2.336,
          1.739,
          1.379,
          1.272,
          1.545,
          1.122,
          1.583,
          1.314,
          2.242,
          4.139,
          2.511,
          3.304,
          1.573,
          1.471,
          2.085,
          1.682,
          1.973,
          1.262,
          1.142,
          1.161,
          1.188,
          1.379,
          1.236,
          1.285,
          1.046,
          1.089,
          1.366,
          1.209,
          1.469,
          1.334,
          1.032,
          1.173,
          1.083,
          1.154,
          1.167,
          1.134,
          1.093,
          1.069,
          1.225,
          1.233,
          1.393,
          1.66,
          1.556,
          1.587,
          1.466,
          1.145,
          1.104,
          1.067,
          1.041,
          1.101,
          1.137,
          1.047,
          1.042,
          1.121,
          1.157,
          1.236,
          1.378,
          1.307,
          1.277,
          1.335,
          1.206,
          1.24,
          1.186,
          1.063,
          1.069,
          1.013,
          1.068,
          1.194,
          1.22,
          1.228,
          1.181,
          1.128,
          1.11,
          1.146,
          1.17,
          1.162,
          1.086,
          1.057,
          1.014,
          0.985,
          1.098,
          1.12,
          1.146,
          1.138,
          1.047,
          1.028,
          1.05,
          1.141,
          1.251,
          1.268,
          1.241,
          1.177,
          1.111,
          1.116,
          1.152,
          1.189,
          1.2,
          1.174,
          1.113,
          1.043,
          1.027,
          1.066,
          1.146,
          1.224,
          1.219,
          1.155,
          1.074,
          1.039,
          1.076,
          1.138,
          1.179,
          1.172,
          1.138,
          1.114,
          1.132,
          1.172,
          1.228,
          1.252,
          1.206,
          1.164,
          1.137,
          1.138,
          1.199,
          1.25,
          1.222,
          1.13,
          1.071,
          1.02,
          1.012,
          1.125,
          1.125,
          1.129,
          1.11,
          0.983,
          0.976,
          1.007,
          1.054,
          1.153,
          1.172,
          1.082,
          1.035,
          0.995,
          0.982
         ],
         "textposition": "inside",
         "type": "bar",
         "x": [
          "2020-01-22",
          "2020-01-23",
          "2020-01-24",
          "2020-01-25",
          "2020-01-26",
          "2020-01-27",
          "2020-01-28",
          "2020-01-29",
          "2020-01-30",
          "2020-01-31",
          "2020-02-01",
          "2020-02-02",
          "2020-02-03",
          "2020-02-04",
          "2020-02-05",
          "2020-02-06",
          "2020-02-07",
          "2020-02-08",
          "2020-02-09",
          "2020-02-10",
          "2020-02-11",
          "2020-02-12",
          "2020-02-13",
          "2020-02-14",
          "2020-02-15",
          "2020-02-16",
          "2020-02-17",
          "2020-02-18",
          "2020-02-19",
          "2020-02-20",
          "2020-02-21",
          "2020-02-22",
          "2020-02-23",
          "2020-02-24",
          "2020-02-25",
          "2020-02-26",
          "2020-02-27",
          "2020-02-28",
          "2020-02-29",
          "2020-03-01",
          "2020-03-02",
          "2020-03-03",
          "2020-03-04",
          "2020-03-05",
          "2020-03-06",
          "2020-03-07",
          "2020-03-08",
          "2020-03-09",
          "2020-03-10",
          "2020-03-11",
          "2020-03-12",
          "2020-03-13",
          "2020-03-14",
          "2020-03-15",
          "2020-03-16",
          "2020-03-17",
          "2020-03-18",
          "2020-03-19",
          "2020-03-20",
          "2020-03-21",
          "2020-03-22",
          "2020-03-23",
          "2020-03-24",
          "2020-03-25",
          "2020-03-26",
          "2020-03-27",
          "2020-03-28",
          "2020-03-29",
          "2020-03-30",
          "2020-03-31",
          "2020-04-01",
          "2020-04-02",
          "2020-04-03",
          "2020-04-04",
          "2020-04-05",
          "2020-04-06",
          "2020-04-07",
          "2020-04-08",
          "2020-04-09",
          "2020-04-10",
          "2020-04-11",
          "2020-04-12",
          "2020-04-13",
          "2020-04-14",
          "2020-04-15",
          "2020-04-16",
          "2020-04-17",
          "2020-04-18",
          "2020-04-19",
          "2020-04-20",
          "2020-04-21",
          "2020-04-22",
          "2020-04-23",
          "2020-04-24",
          "2020-04-25",
          "2020-04-26",
          "2020-04-27",
          "2020-04-28",
          "2020-04-29",
          "2020-04-30",
          "2020-05-01",
          "2020-05-02",
          "2020-05-03",
          "2020-05-04",
          "2020-05-05",
          "2020-05-06",
          "2020-05-07",
          "2020-05-08",
          "2020-05-09",
          "2020-05-10",
          "2020-05-11",
          "2020-05-12",
          "2020-05-13",
          "2020-05-14",
          "2020-05-15",
          "2020-05-16",
          "2020-05-17",
          "2020-05-18",
          "2020-05-19",
          "2020-05-20",
          "2020-05-21",
          "2020-05-22",
          "2020-05-23",
          "2020-05-24",
          "2020-05-25",
          "2020-05-26",
          "2020-05-27",
          "2020-05-28",
          "2020-05-29",
          "2020-05-30",
          "2020-05-31",
          "2020-06-01",
          "2020-06-02",
          "2020-06-03",
          "2020-06-04",
          "2020-06-05",
          "2020-06-06",
          "2020-06-07",
          "2020-06-08",
          "2020-06-09",
          "2020-06-10",
          "2020-06-11",
          "2020-06-12",
          "2020-06-13",
          "2020-06-14",
          "2020-06-15",
          "2020-06-16",
          "2020-06-17",
          "2020-06-18",
          "2020-06-19",
          "2020-06-20",
          "2020-06-21",
          "2020-06-22",
          "2020-06-23",
          "2020-06-24",
          "2020-06-25",
          "2020-06-26",
          "2020-06-27",
          "2020-06-28",
          "2020-06-29",
          "2020-06-30",
          "2020-07-01",
          "2020-07-02",
          "2020-07-03",
          "2020-07-04",
          "2020-07-05",
          "2020-07-06",
          "2020-07-07",
          "2020-07-08",
          "2020-07-09",
          "2020-07-10",
          "2020-07-11",
          "2020-07-12",
          "2020-07-13",
          "2020-07-14",
          "2020-07-15",
          "2020-07-16",
          "2020-07-17",
          "2020-07-18",
          "2020-07-19",
          "2020-07-20",
          "2020-07-21",
          "2020-07-22",
          "2020-07-23",
          "2020-07-24",
          "2020-07-25",
          "2020-07-26",
          "2020-07-27",
          "2020-07-28",
          "2020-07-29",
          "2020-07-30",
          "2020-07-31",
          "2020-08-01",
          "2020-08-02",
          "2020-08-03",
          "2020-08-04",
          "2020-08-05",
          "2020-08-06",
          "2020-08-07",
          "2020-08-08",
          "2020-08-09",
          "2020-08-10",
          "2020-08-11",
          "2020-08-12",
          "2020-08-13"
         ],
         "y": [
          null,
          null,
          null,
          null,
          null,
          null,
          null,
          null,
          null,
          null,
          null,
          null,
          2,
          2,
          2,
          0.5,
          0,
          0,
          0,
          0,
          null,
          null,
          null,
          null,
          null,
          null,
          null,
          null,
          null,
          null,
          null,
          null,
          null,
          null,
          null,
          null,
          null,
          null,
          null,
          null,
          null,
          null,
          null,
          null,
          13,
          14.5,
          0.44,
          0.48100000000000004,
          0.9620000000000001,
          0.966,
          3.091,
          3,
          1.84,
          1.821,
          1.3530000000000002,
          1.538,
          1.1740000000000002,
          1.588,
          2.717,
          3.133,
          4.444,
          3.765,
          2.336,
          1.739,
          1.379,
          1.272,
          1.545,
          1.122,
          1.5830000000000002,
          1.314,
          2.242,
          4.138999999999999,
          2.511,
          3.304,
          1.5730000000000002,
          1.4709999999999999,
          2.085,
          1.682,
          1.973,
          1.262,
          1.1420000000000001,
          1.161,
          1.188,
          1.379,
          1.236,
          1.285,
          1.046,
          1.089,
          1.3659999999999999,
          1.209,
          1.469,
          1.334,
          1.032,
          1.173,
          1.083,
          1.1540000000000001,
          1.167,
          1.1340000000000001,
          1.093,
          1.069,
          1.225,
          1.2329999999999999,
          1.393,
          1.66,
          1.556,
          1.587,
          1.466,
          1.145,
          1.104,
          1.067,
          1.041,
          1.101,
          1.137,
          1.047,
          1.042,
          1.121,
          1.157,
          1.236,
          1.3780000000000001,
          1.307,
          1.2770000000000001,
          1.335,
          1.206,
          1.24,
          1.186,
          1.063,
          1.069,
          1.013,
          1.068,
          1.194,
          1.22,
          1.228,
          1.181,
          1.128,
          1.11,
          1.146,
          1.17,
          1.162,
          1.0859999999999999,
          1.057,
          1.014,
          0.985,
          1.0979999999999999,
          1.12,
          1.146,
          1.138,
          1.047,
          1.028,
          1.05,
          1.141,
          1.251,
          1.268,
          1.2409999999999999,
          1.177,
          1.111,
          1.1159999999999999,
          1.1520000000000001,
          1.189,
          1.2,
          1.1740000000000002,
          1.113,
          1.043,
          1.0270000000000001,
          1.0659999999999998,
          1.146,
          1.224,
          1.219,
          1.155,
          1.074,
          1.0390000000000001,
          1.0759999999999998,
          1.138,
          1.179,
          1.172,
          1.138,
          1.114,
          1.1320000000000001,
          1.172,
          1.228,
          1.252,
          1.206,
          1.1640000000000001,
          1.137,
          1.138,
          1.199,
          1.25,
          1.222,
          1.13,
          1.071,
          1.02,
          1.012,
          1.125,
          1.125,
          1.129,
          1.11,
          0.983,
          0.976,
          1.0070000000000001,
          1.054,
          1.153,
          1.172,
          1.082,
          1.035,
          0.995,
          0.982
         ]
        },
        {
         "marker": {
          "color": "magenta"
         },
         "name": "Бразилия",
         "showlegend": true,
         "text": [
          null,
          null,
          null,
          null,
          null,
          null,
          null,
          null,
          null,
          null,
          null,
          null,
          null,
          null,
          null,
          null,
          null,
          null,
          null,
          null,
          null,
          null,
          null,
          null,
          null,
          null,
          null,
          null,
          null,
          null,
          null,
          null,
          null,
          null,
          null,
          null,
          null,
          null,
          null,
          1,
          1,
          1,
          1,
          2,
          11,
          11,
          8,
          10.5,
          1.636,
          2.273,
          2,
          6,
          6.667,
          4.96,
          4.625,
          1.349,
          1.842,
          3.702,
          4.007,
          4.118,
          5.312,
          2.839,
          2.452,
          2.19,
          1.226,
          1.146,
          1.14,
          1.11,
          1.108,
          1.541,
          1.769,
          2.226,
          2.809,
          2.019,
          1.465,
          1.087,
          1.112,
          1.251,
          1.621,
          1.816,
          1.345,
          1.036,
          0.767,
          0.752,
          1.134,
          1.367,
          1.921,
          2.026,
          1.361,
          1.253,
          0.917,
          0.798,
          1.101,
          1.289,
          1.729,
          1.906,
          1.53,
          1.443,
          1.253,
          1.389,
          1.422,
          1.243,
          1.087,
          0.89,
          0.939,
          1.237,
          1.533,
          1.786,
          1.746,
          1.223,
          0.996,
          0.818,
          0.839,
          1.121,
          1.499,
          1.766,
          1.495,
          1.29,
          1.018,
          1.05,
          1.355,
          1.447,
          1.464,
          1.234,
          0.939,
          0.799,
          0.853,
          1.047,
          1.393,
          1.777,
          1.599,
          1.176,
          0.999,
          0.798,
          0.972,
          1.353,
          1.302,
          1.259,
          0.924,
          0.786,
          0.848,
          1.031,
          1.313,
          1.184,
          0.956,
          0.769,
          0.777,
          0.945,
          1.161,
          1.693,
          1.53,
          1.22,
          1.161,
          0.781,
          0.838,
          1.131,
          1.313,
          1.485,
          1.285,
          0.968,
          0.754,
          0.805,
          0.982,
          1.22,
          1.377,
          1.142,
          0.828,
          0.758,
          0.778,
          0.99,
          1.404,
          1.322,
          1.113,
          0.846,
          0.71,
          0.741,
          0.973,
          1.249,
          1.175,
          1.037,
          0.722,
          0.702,
          1.031,
          1.436,
          2.11,
          2.072,
          1.255,
          0.819,
          0.622,
          0.672,
          0.997,
          1.421,
          1.607,
          1.15,
          0.734,
          0.633,
          0.673,
          0.984,
          1.513,
          1.51,
          1.166,
          0.814,
          0.694,
          0.724,
          1.074
         ],
         "textposition": "inside",
         "type": "bar",
         "x": [
          "2020-01-22",
          "2020-01-23",
          "2020-01-24",
          "2020-01-25",
          "2020-01-26",
          "2020-01-27",
          "2020-01-28",
          "2020-01-29",
          "2020-01-30",
          "2020-01-31",
          "2020-02-01",
          "2020-02-02",
          "2020-02-03",
          "2020-02-04",
          "2020-02-05",
          "2020-02-06",
          "2020-02-07",
          "2020-02-08",
          "2020-02-09",
          "2020-02-10",
          "2020-02-11",
          "2020-02-12",
          "2020-02-13",
          "2020-02-14",
          "2020-02-15",
          "2020-02-16",
          "2020-02-17",
          "2020-02-18",
          "2020-02-19",
          "2020-02-20",
          "2020-02-21",
          "2020-02-22",
          "2020-02-23",
          "2020-02-24",
          "2020-02-25",
          "2020-02-26",
          "2020-02-27",
          "2020-02-28",
          "2020-02-29",
          "2020-03-01",
          "2020-03-02",
          "2020-03-03",
          "2020-03-04",
          "2020-03-05",
          "2020-03-06",
          "2020-03-07",
          "2020-03-08",
          "2020-03-09",
          "2020-03-10",
          "2020-03-11",
          "2020-03-12",
          "2020-03-13",
          "2020-03-14",
          "2020-03-15",
          "2020-03-16",
          "2020-03-17",
          "2020-03-18",
          "2020-03-19",
          "2020-03-20",
          "2020-03-21",
          "2020-03-22",
          "2020-03-23",
          "2020-03-24",
          "2020-03-25",
          "2020-03-26",
          "2020-03-27",
          "2020-03-28",
          "2020-03-29",
          "2020-03-30",
          "2020-03-31",
          "2020-04-01",
          "2020-04-02",
          "2020-04-03",
          "2020-04-04",
          "2020-04-05",
          "2020-04-06",
          "2020-04-07",
          "2020-04-08",
          "2020-04-09",
          "2020-04-10",
          "2020-04-11",
          "2020-04-12",
          "2020-04-13",
          "2020-04-14",
          "2020-04-15",
          "2020-04-16",
          "2020-04-17",
          "2020-04-18",
          "2020-04-19",
          "2020-04-20",
          "2020-04-21",
          "2020-04-22",
          "2020-04-23",
          "2020-04-24",
          "2020-04-25",
          "2020-04-26",
          "2020-04-27",
          "2020-04-28",
          "2020-04-29",
          "2020-04-30",
          "2020-05-01",
          "2020-05-02",
          "2020-05-03",
          "2020-05-04",
          "2020-05-05",
          "2020-05-06",
          "2020-05-07",
          "2020-05-08",
          "2020-05-09",
          "2020-05-10",
          "2020-05-11",
          "2020-05-12",
          "2020-05-13",
          "2020-05-14",
          "2020-05-15",
          "2020-05-16",
          "2020-05-17",
          "2020-05-18",
          "2020-05-19",
          "2020-05-20",
          "2020-05-21",
          "2020-05-22",
          "2020-05-23",
          "2020-05-24",
          "2020-05-25",
          "2020-05-26",
          "2020-05-27",
          "2020-05-28",
          "2020-05-29",
          "2020-05-30",
          "2020-05-31",
          "2020-06-01",
          "2020-06-02",
          "2020-06-03",
          "2020-06-04",
          "2020-06-05",
          "2020-06-06",
          "2020-06-07",
          "2020-06-08",
          "2020-06-09",
          "2020-06-10",
          "2020-06-11",
          "2020-06-12",
          "2020-06-13",
          "2020-06-14",
          "2020-06-15",
          "2020-06-16",
          "2020-06-17",
          "2020-06-18",
          "2020-06-19",
          "2020-06-20",
          "2020-06-21",
          "2020-06-22",
          "2020-06-23",
          "2020-06-24",
          "2020-06-25",
          "2020-06-26",
          "2020-06-27",
          "2020-06-28",
          "2020-06-29",
          "2020-06-30",
          "2020-07-01",
          "2020-07-02",
          "2020-07-03",
          "2020-07-04",
          "2020-07-05",
          "2020-07-06",
          "2020-07-07",
          "2020-07-08",
          "2020-07-09",
          "2020-07-10",
          "2020-07-11",
          "2020-07-12",
          "2020-07-13",
          "2020-07-14",
          "2020-07-15",
          "2020-07-16",
          "2020-07-17",
          "2020-07-18",
          "2020-07-19",
          "2020-07-20",
          "2020-07-21",
          "2020-07-22",
          "2020-07-23",
          "2020-07-24",
          "2020-07-25",
          "2020-07-26",
          "2020-07-27",
          "2020-07-28",
          "2020-07-29",
          "2020-07-30",
          "2020-07-31",
          "2020-08-01",
          "2020-08-02",
          "2020-08-03",
          "2020-08-04",
          "2020-08-05",
          "2020-08-06",
          "2020-08-07",
          "2020-08-08",
          "2020-08-09",
          "2020-08-10",
          "2020-08-11",
          "2020-08-12",
          "2020-08-13"
         ],
         "y": [
          null,
          null,
          null,
          null,
          null,
          null,
          null,
          null,
          null,
          null,
          null,
          null,
          null,
          null,
          null,
          null,
          null,
          null,
          null,
          null,
          null,
          null,
          null,
          null,
          null,
          null,
          null,
          null,
          null,
          null,
          null,
          null,
          null,
          null,
          null,
          null,
          null,
          null,
          null,
          1,
          1,
          1,
          1,
          2,
          11,
          11,
          8,
          10.5,
          1.636,
          2.273,
          2,
          6,
          6.667000000000001,
          4.96,
          4.625,
          1.349,
          1.8419999999999999,
          3.702,
          4.007,
          4.118,
          5.312,
          2.839,
          2.452,
          2.19,
          1.226,
          1.146,
          1.14,
          1.11,
          1.1079999999999999,
          1.541,
          1.7690000000000001,
          2.226,
          2.8089999999999997,
          2.019,
          1.465,
          1.087,
          1.112,
          1.251,
          1.621,
          1.8159999999999998,
          1.345,
          1.036,
          0.767,
          0.752,
          1.1340000000000001,
          1.367,
          1.921,
          2.026,
          1.361,
          1.253,
          0.917,
          0.7979999999999999,
          1.101,
          1.2890000000000001,
          1.729,
          1.906,
          1.53,
          1.443,
          1.253,
          1.389,
          1.422,
          1.2429999999999999,
          1.087,
          0.89,
          0.9390000000000001,
          1.237,
          1.5330000000000001,
          1.786,
          1.746,
          1.2229999999999999,
          0.996,
          0.818,
          0.8390000000000001,
          1.121,
          1.499,
          1.766,
          1.495,
          1.29,
          1.018,
          1.05,
          1.355,
          1.4469999999999998,
          1.464,
          1.234,
          0.9390000000000001,
          0.799,
          0.853,
          1.047,
          1.393,
          1.777,
          1.599,
          1.176,
          0.9990000000000001,
          0.7979999999999999,
          0.972,
          1.3530000000000002,
          1.3019999999999998,
          1.2590000000000001,
          0.924,
          0.7859999999999999,
          0.848,
          1.031,
          1.3130000000000002,
          1.1840000000000002,
          0.956,
          0.769,
          0.777,
          0.945,
          1.161,
          1.693,
          1.53,
          1.22,
          1.161,
          0.7809999999999999,
          0.838,
          1.131,
          1.3130000000000002,
          1.485,
          1.285,
          0.968,
          0.754,
          0.805,
          0.982,
          1.22,
          1.3769999999999998,
          1.1420000000000001,
          0.828,
          0.758,
          0.778,
          0.99,
          1.4040000000000001,
          1.3219999999999998,
          1.113,
          0.846,
          0.71,
          0.741,
          0.973,
          1.249,
          1.175,
          1.037,
          0.722,
          0.7020000000000001,
          1.031,
          1.436,
          2.11,
          2.072,
          1.255,
          0.8190000000000001,
          0.622,
          0.672,
          0.997,
          1.421,
          1.607,
          1.15,
          0.7340000000000001,
          0.633,
          0.6729999999999999,
          0.9840000000000001,
          1.5130000000000001,
          1.51,
          1.166,
          0.8140000000000001,
          0.6940000000000001,
          0.7240000000000001,
          1.074
         ]
        },
        {
         "marker": {
          "color": "green"
         },
         "name": "Великобритания",
         "showlegend": true,
         "text": [
          null,
          null,
          null,
          null,
          null,
          null,
          null,
          null,
          null,
          null,
          null,
          null,
          null,
          3,
          3.5,
          3.5,
          0.125,
          0.833,
          0.714,
          0.714,
          6,
          0.6,
          0.6,
          0.8,
          0.5,
          0.667,
          0.667,
          0.25,
          0.667,
          2,
          2,
          4,
          4,
          2,
          2.75,
          3.5,
          2,
          3.25,
          2.455,
          4.071,
          5.625,
          5.115,
          6.852,
          3.526,
          2.667,
          1.805,
          1.281,
          1.667,
          2.146,
          3.633,
          5.515,
          4.896,
          3.388,
          2.037,
          1.455,
          1.337,
          1.623,
          1.946,
          2.155,
          2.073,
          1.739,
          1.797,
          1.789,
          1.945,
          2.146,
          1.848,
          1.627,
          1.37,
          1.259,
          1.272,
          1.401,
          1.549,
          1.459,
          1.299,
          1.054,
          0.96,
          0.954,
          1.035,
          1.184,
          1.106,
          0.974,
          0.837,
          0.753,
          0.788,
          0.953,
          1.157,
          1.258,
          1.284,
          1.101,
          0.971,
          0.922,
          0.942,
          1.073,
          1.107,
          1.065,
          0.915,
          0.833,
          0.816,
          0.945,
          1.141,
          1.174,
          1.102,
          0.866,
          0.722,
          0.668,
          0.756,
          0.923,
          1.002,
          0.965,
          0.813,
          0.757,
          0.798,
          0.984,
          1.142,
          1.065,
          0.918,
          0.717,
          0.697,
          0.806,
          0.968,
          1.206,
          1.152,
          0.925,
          0.733,
          0.598,
          0.592,
          0.73,
          0.914,
          1.03,
          1.004,
          0.842,
          0.752,
          0.758,
          0.866,
          1.015,
          1.007,
          0.882,
          0.724,
          0.676,
          0.729,
          0.926,
          1.152,
          1.186,
          1.098,
          0.904,
          0.85,
          0.865,
          0.948,
          1.1,
          1.081,
          0.963,
          0.84,
          0.766,
          0.75,
          0.865,
          0.986,
          0.946,
          0.897,
          0.749,
          0.708,
          0.689,
          0.544,
          0.46,
          0.424,
          0.579,
          1.106,
          1.834,
          2.141,
          1.755,
          1.346,
          1.191,
          1.26,
          1.259,
          1.141,
          1.362,
          1.127,
          1.121,
          1.227,
          0.83,
          0.974,
          0.955,
          0.831,
          0.859,
          0.821,
          0.904,
          1.114,
          1.322,
          1.255,
          1.08,
          0.969,
          0.942,
          1.036,
          1.196,
          1.162,
          1.156,
          1.016,
          0.991,
          1.074,
          1.031,
          1.128,
          1.144,
          1.031,
          1.116,
          1.165,
          0.809
         ],
         "textposition": "inside",
         "type": "bar",
         "x": [
          "2020-01-22",
          "2020-01-23",
          "2020-01-24",
          "2020-01-25",
          "2020-01-26",
          "2020-01-27",
          "2020-01-28",
          "2020-01-29",
          "2020-01-30",
          "2020-01-31",
          "2020-02-01",
          "2020-02-02",
          "2020-02-03",
          "2020-02-04",
          "2020-02-05",
          "2020-02-06",
          "2020-02-07",
          "2020-02-08",
          "2020-02-09",
          "2020-02-10",
          "2020-02-11",
          "2020-02-12",
          "2020-02-13",
          "2020-02-14",
          "2020-02-15",
          "2020-02-16",
          "2020-02-17",
          "2020-02-18",
          "2020-02-19",
          "2020-02-20",
          "2020-02-21",
          "2020-02-22",
          "2020-02-23",
          "2020-02-24",
          "2020-02-25",
          "2020-02-26",
          "2020-02-27",
          "2020-02-28",
          "2020-02-29",
          "2020-03-01",
          "2020-03-02",
          "2020-03-03",
          "2020-03-04",
          "2020-03-05",
          "2020-03-06",
          "2020-03-07",
          "2020-03-08",
          "2020-03-09",
          "2020-03-10",
          "2020-03-11",
          "2020-03-12",
          "2020-03-13",
          "2020-03-14",
          "2020-03-15",
          "2020-03-16",
          "2020-03-17",
          "2020-03-18",
          "2020-03-19",
          "2020-03-20",
          "2020-03-21",
          "2020-03-22",
          "2020-03-23",
          "2020-03-24",
          "2020-03-25",
          "2020-03-26",
          "2020-03-27",
          "2020-03-28",
          "2020-03-29",
          "2020-03-30",
          "2020-03-31",
          "2020-04-01",
          "2020-04-02",
          "2020-04-03",
          "2020-04-04",
          "2020-04-05",
          "2020-04-06",
          "2020-04-07",
          "2020-04-08",
          "2020-04-09",
          "2020-04-10",
          "2020-04-11",
          "2020-04-12",
          "2020-04-13",
          "2020-04-14",
          "2020-04-15",
          "2020-04-16",
          "2020-04-17",
          "2020-04-18",
          "2020-04-19",
          "2020-04-20",
          "2020-04-21",
          "2020-04-22",
          "2020-04-23",
          "2020-04-24",
          "2020-04-25",
          "2020-04-26",
          "2020-04-27",
          "2020-04-28",
          "2020-04-29",
          "2020-04-30",
          "2020-05-01",
          "2020-05-02",
          "2020-05-03",
          "2020-05-04",
          "2020-05-05",
          "2020-05-06",
          "2020-05-07",
          "2020-05-08",
          "2020-05-09",
          "2020-05-10",
          "2020-05-11",
          "2020-05-12",
          "2020-05-13",
          "2020-05-14",
          "2020-05-15",
          "2020-05-16",
          "2020-05-17",
          "2020-05-18",
          "2020-05-19",
          "2020-05-20",
          "2020-05-21",
          "2020-05-22",
          "2020-05-23",
          "2020-05-24",
          "2020-05-25",
          "2020-05-26",
          "2020-05-27",
          "2020-05-28",
          "2020-05-29",
          "2020-05-30",
          "2020-05-31",
          "2020-06-01",
          "2020-06-02",
          "2020-06-03",
          "2020-06-04",
          "2020-06-05",
          "2020-06-06",
          "2020-06-07",
          "2020-06-08",
          "2020-06-09",
          "2020-06-10",
          "2020-06-11",
          "2020-06-12",
          "2020-06-13",
          "2020-06-14",
          "2020-06-15",
          "2020-06-16",
          "2020-06-17",
          "2020-06-18",
          "2020-06-19",
          "2020-06-20",
          "2020-06-21",
          "2020-06-22",
          "2020-06-23",
          "2020-06-24",
          "2020-06-25",
          "2020-06-26",
          "2020-06-27",
          "2020-06-28",
          "2020-06-29",
          "2020-06-30",
          "2020-07-01",
          "2020-07-02",
          "2020-07-03",
          "2020-07-04",
          "2020-07-05",
          "2020-07-06",
          "2020-07-07",
          "2020-07-08",
          "2020-07-09",
          "2020-07-10",
          "2020-07-11",
          "2020-07-12",
          "2020-07-13",
          "2020-07-14",
          "2020-07-15",
          "2020-07-16",
          "2020-07-17",
          "2020-07-18",
          "2020-07-19",
          "2020-07-20",
          "2020-07-21",
          "2020-07-22",
          "2020-07-23",
          "2020-07-24",
          "2020-07-25",
          "2020-07-26",
          "2020-07-27",
          "2020-07-28",
          "2020-07-29",
          "2020-07-30",
          "2020-07-31",
          "2020-08-01",
          "2020-08-02",
          "2020-08-03",
          "2020-08-04",
          "2020-08-05",
          "2020-08-06",
          "2020-08-07",
          "2020-08-08",
          "2020-08-09",
          "2020-08-10",
          "2020-08-11",
          "2020-08-12",
          "2020-08-13"
         ],
         "y": [
          null,
          null,
          null,
          null,
          null,
          null,
          null,
          null,
          null,
          null,
          null,
          null,
          null,
          3,
          3.5,
          3.5,
          0.125,
          0.833,
          0.7140000000000001,
          0.7140000000000001,
          6,
          0.6,
          0.6,
          0.8,
          0.5,
          0.667,
          0.667,
          0.25,
          0.667,
          2,
          2,
          4,
          4,
          2,
          2.75,
          3.5,
          2,
          3.25,
          2.455,
          4.071000000000001,
          5.625,
          5.115,
          6.852,
          3.5260000000000002,
          2.667,
          1.805,
          1.281,
          1.6669999999999998,
          2.146,
          3.633,
          5.515,
          4.896,
          3.388,
          2.037,
          1.455,
          1.337,
          1.6230000000000002,
          1.946,
          2.155,
          2.073,
          1.739,
          1.797,
          1.7890000000000001,
          1.945,
          2.146,
          1.848,
          1.6269999999999998,
          1.37,
          1.2590000000000001,
          1.272,
          1.401,
          1.5490000000000002,
          1.459,
          1.2990000000000002,
          1.054,
          0.96,
          0.9540000000000001,
          1.035,
          1.1840000000000002,
          1.1059999999999999,
          0.9740000000000001,
          0.8370000000000001,
          0.753,
          0.7879999999999999,
          0.953,
          1.157,
          1.258,
          1.284,
          1.101,
          0.971,
          0.922,
          0.9420000000000001,
          1.073,
          1.107,
          1.065,
          0.915,
          0.833,
          0.816,
          0.945,
          1.141,
          1.1740000000000002,
          1.102,
          0.866,
          0.722,
          0.6679999999999999,
          0.7559999999999999,
          0.9229999999999999,
          1.002,
          0.965,
          0.813,
          0.757,
          0.7979999999999999,
          0.9840000000000001,
          1.1420000000000001,
          1.065,
          0.9179999999999999,
          0.7170000000000001,
          0.6970000000000001,
          0.8059999999999999,
          0.968,
          1.206,
          1.1520000000000001,
          0.925,
          0.733,
          0.598,
          0.5920000000000001,
          0.73,
          0.914,
          1.03,
          1.004,
          0.8420000000000001,
          0.752,
          0.758,
          0.866,
          1.015,
          1.0070000000000001,
          0.882,
          0.7240000000000001,
          0.6759999999999999,
          0.7290000000000001,
          0.9259999999999999,
          1.1520000000000001,
          1.186,
          1.0979999999999999,
          0.904,
          0.85,
          0.865,
          0.948,
          1.1,
          1.081,
          0.963,
          0.84,
          0.7659999999999999,
          0.75,
          0.865,
          0.986,
          0.946,
          0.897,
          0.7490000000000001,
          0.708,
          0.6890000000000001,
          0.544,
          0.46,
          0.424,
          0.579,
          1.1059999999999999,
          1.834,
          2.141,
          1.755,
          1.3459999999999999,
          1.1909999999999998,
          1.26,
          1.2590000000000001,
          1.141,
          1.3619999999999999,
          1.127,
          1.121,
          1.227,
          0.83,
          0.9740000000000001,
          0.955,
          0.831,
          0.8590000000000001,
          0.821,
          0.904,
          1.114,
          1.3219999999999998,
          1.255,
          1.08,
          0.9690000000000001,
          0.9420000000000001,
          1.036,
          1.196,
          1.162,
          1.156,
          1.016,
          0.991,
          1.074,
          1.031,
          1.128,
          1.1440000000000001,
          1.031,
          1.1159999999999999,
          1.165,
          0.809
         ]
        },
        {
         "marker": {
          "color": "goldenrod"
         },
         "name": "Россия",
         "showlegend": true,
         "text": [
          null,
          null,
          null,
          null,
          null,
          null,
          null,
          null,
          null,
          null,
          null,
          null,
          null,
          0,
          0,
          0,
          0,
          null,
          null,
          null,
          null,
          null,
          null,
          null,
          null,
          null,
          null,
          null,
          null,
          null,
          null,
          null,
          null,
          null,
          null,
          null,
          null,
          null,
          null,
          null,
          null,
          null,
          null,
          null,
          10,
          10,
          14,
          6.5,
          0.7,
          0.7,
          0.786,
          2.154,
          5.571,
          6.143,
          5.636,
          2.464,
          2.256,
          3.163,
          2.629,
          2.783,
          2.5,
          1.757,
          1.485,
          1.833,
          2.15,
          2.502,
          3.178,
          2.489,
          2.106,
          2.176,
          1.967,
          2.299,
          2.322,
          1.84,
          1.726,
          1.388,
          1.447,
          1.646,
          1.815,
          1.994,
          1.818,
          1.801,
          1.729,
          1.648,
          1.792,
          1.714,
          1.669,
          1.708,
          1.684,
          1.577,
          1.517,
          1.351,
          1.085,
          1.121,
          1.052,
          1.082,
          1.224,
          1.16,
          1.137,
          1.113,
          1.119,
          1.223,
          1.422,
          1.517,
          1.5,
          1.373,
          1.204,
          1.099,
          1.058,
          1.045,
          1.04,
          1.042,
          1.007,
          0.973,
          0.939,
          0.897,
          0.906,
          0.903,
          0.894,
          0.921,
          0.907,
          0.931,
          0.969,
          0.976,
          1.002,
          1.003,
          0.968,
          0.966,
          0.953,
          0.954,
          1.01,
          1.02,
          1.04,
          1.026,
          0.987,
          0.99,
          0.982,
          1.006,
          1.023,
          1.013,
          1,
          0.982,
          0.978,
          0.985,
          1.009,
          0.999,
          0.978,
          0.95,
          0.909,
          0.917,
          0.926,
          0.947,
          0.972,
          0.962,
          0.951,
          0.934,
          0.914,
          0.912,
          0.921,
          0.926,
          0.948,
          0.957,
          0.969,
          0.985,
          0.987,
          1.004,
          0.998,
          0.984,
          0.983,
          0.968,
          0.977,
          0.998,
          1.004,
          1.013,
          0.997,
          0.981,
          0.973,
          0.968,
          0.981,
          0.975,
          0.962,
          0.944,
          0.931,
          0.932,
          0.947,
          0.969,
          0.979,
          0.981,
          0.969,
          0.952,
          0.946,
          0.949,
          0.968,
          0.982,
          0.988,
          0.978,
          0.965,
          0.961,
          0.958,
          0.977,
          0.986,
          0.986,
          0.98,
          0.97,
          0.965
         ],
         "textposition": "inside",
         "type": "bar",
         "x": [
          "2020-01-22",
          "2020-01-23",
          "2020-01-24",
          "2020-01-25",
          "2020-01-26",
          "2020-01-27",
          "2020-01-28",
          "2020-01-29",
          "2020-01-30",
          "2020-01-31",
          "2020-02-01",
          "2020-02-02",
          "2020-02-03",
          "2020-02-04",
          "2020-02-05",
          "2020-02-06",
          "2020-02-07",
          "2020-02-08",
          "2020-02-09",
          "2020-02-10",
          "2020-02-11",
          "2020-02-12",
          "2020-02-13",
          "2020-02-14",
          "2020-02-15",
          "2020-02-16",
          "2020-02-17",
          "2020-02-18",
          "2020-02-19",
          "2020-02-20",
          "2020-02-21",
          "2020-02-22",
          "2020-02-23",
          "2020-02-24",
          "2020-02-25",
          "2020-02-26",
          "2020-02-27",
          "2020-02-28",
          "2020-02-29",
          "2020-03-01",
          "2020-03-02",
          "2020-03-03",
          "2020-03-04",
          "2020-03-05",
          "2020-03-06",
          "2020-03-07",
          "2020-03-08",
          "2020-03-09",
          "2020-03-10",
          "2020-03-11",
          "2020-03-12",
          "2020-03-13",
          "2020-03-14",
          "2020-03-15",
          "2020-03-16",
          "2020-03-17",
          "2020-03-18",
          "2020-03-19",
          "2020-03-20",
          "2020-03-21",
          "2020-03-22",
          "2020-03-23",
          "2020-03-24",
          "2020-03-25",
          "2020-03-26",
          "2020-03-27",
          "2020-03-28",
          "2020-03-29",
          "2020-03-30",
          "2020-03-31",
          "2020-04-01",
          "2020-04-02",
          "2020-04-03",
          "2020-04-04",
          "2020-04-05",
          "2020-04-06",
          "2020-04-07",
          "2020-04-08",
          "2020-04-09",
          "2020-04-10",
          "2020-04-11",
          "2020-04-12",
          "2020-04-13",
          "2020-04-14",
          "2020-04-15",
          "2020-04-16",
          "2020-04-17",
          "2020-04-18",
          "2020-04-19",
          "2020-04-20",
          "2020-04-21",
          "2020-04-22",
          "2020-04-23",
          "2020-04-24",
          "2020-04-25",
          "2020-04-26",
          "2020-04-27",
          "2020-04-28",
          "2020-04-29",
          "2020-04-30",
          "2020-05-01",
          "2020-05-02",
          "2020-05-03",
          "2020-05-04",
          "2020-05-05",
          "2020-05-06",
          "2020-05-07",
          "2020-05-08",
          "2020-05-09",
          "2020-05-10",
          "2020-05-11",
          "2020-05-12",
          "2020-05-13",
          "2020-05-14",
          "2020-05-15",
          "2020-05-16",
          "2020-05-17",
          "2020-05-18",
          "2020-05-19",
          "2020-05-20",
          "2020-05-21",
          "2020-05-22",
          "2020-05-23",
          "2020-05-24",
          "2020-05-25",
          "2020-05-26",
          "2020-05-27",
          "2020-05-28",
          "2020-05-29",
          "2020-05-30",
          "2020-05-31",
          "2020-06-01",
          "2020-06-02",
          "2020-06-03",
          "2020-06-04",
          "2020-06-05",
          "2020-06-06",
          "2020-06-07",
          "2020-06-08",
          "2020-06-09",
          "2020-06-10",
          "2020-06-11",
          "2020-06-12",
          "2020-06-13",
          "2020-06-14",
          "2020-06-15",
          "2020-06-16",
          "2020-06-17",
          "2020-06-18",
          "2020-06-19",
          "2020-06-20",
          "2020-06-21",
          "2020-06-22",
          "2020-06-23",
          "2020-06-24",
          "2020-06-25",
          "2020-06-26",
          "2020-06-27",
          "2020-06-28",
          "2020-06-29",
          "2020-06-30",
          "2020-07-01",
          "2020-07-02",
          "2020-07-03",
          "2020-07-04",
          "2020-07-05",
          "2020-07-06",
          "2020-07-07",
          "2020-07-08",
          "2020-07-09",
          "2020-07-10",
          "2020-07-11",
          "2020-07-12",
          "2020-07-13",
          "2020-07-14",
          "2020-07-15",
          "2020-07-16",
          "2020-07-17",
          "2020-07-18",
          "2020-07-19",
          "2020-07-20",
          "2020-07-21",
          "2020-07-22",
          "2020-07-23",
          "2020-07-24",
          "2020-07-25",
          "2020-07-26",
          "2020-07-27",
          "2020-07-28",
          "2020-07-29",
          "2020-07-30",
          "2020-07-31",
          "2020-08-01",
          "2020-08-02",
          "2020-08-03",
          "2020-08-04",
          "2020-08-05",
          "2020-08-06",
          "2020-08-07",
          "2020-08-08",
          "2020-08-09",
          "2020-08-10",
          "2020-08-11",
          "2020-08-12",
          "2020-08-13"
         ],
         "y": [
          null,
          null,
          null,
          null,
          null,
          null,
          null,
          null,
          null,
          null,
          null,
          null,
          null,
          0,
          0,
          0,
          0,
          null,
          null,
          null,
          null,
          null,
          null,
          null,
          null,
          null,
          null,
          null,
          null,
          null,
          null,
          null,
          null,
          null,
          null,
          null,
          null,
          null,
          null,
          null,
          null,
          null,
          null,
          null,
          10,
          10,
          14,
          6.5,
          0.7,
          0.7,
          0.7859999999999999,
          2.154,
          5.571000000000001,
          6.143,
          5.636,
          2.464,
          2.256,
          3.1630000000000003,
          2.6289999999999996,
          2.783,
          2.5,
          1.757,
          1.485,
          1.8330000000000002,
          2.15,
          2.502,
          3.178,
          2.489,
          2.106,
          2.176,
          1.9669999999999999,
          2.299,
          2.322,
          1.84,
          1.726,
          1.3880000000000001,
          1.4469999999999998,
          1.646,
          1.815,
          1.994,
          1.818,
          1.801,
          1.729,
          1.6480000000000001,
          1.7919999999999998,
          1.714,
          1.669,
          1.7080000000000002,
          1.6840000000000002,
          1.577,
          1.517,
          1.351,
          1.085,
          1.121,
          1.052,
          1.082,
          1.224,
          1.16,
          1.137,
          1.113,
          1.119,
          1.2229999999999999,
          1.422,
          1.517,
          1.5,
          1.3730000000000002,
          1.204,
          1.099,
          1.058,
          1.045,
          1.04,
          1.042,
          1.0070000000000001,
          0.973,
          0.9390000000000001,
          0.897,
          0.9059999999999999,
          0.903,
          0.894,
          0.9209999999999999,
          0.907,
          0.9309999999999999,
          0.9690000000000001,
          0.976,
          1.002,
          1.003,
          0.968,
          0.966,
          0.953,
          0.9540000000000001,
          1.01,
          1.02,
          1.04,
          1.026,
          0.987,
          0.99,
          0.982,
          1.006,
          1.023,
          1.013,
          1,
          0.982,
          0.978,
          0.985,
          1.0090000000000001,
          0.9990000000000001,
          0.978,
          0.95,
          0.909,
          0.917,
          0.9259999999999999,
          0.9470000000000001,
          0.972,
          0.9620000000000001,
          0.951,
          0.934,
          0.914,
          0.912,
          0.9209999999999999,
          0.9259999999999999,
          0.948,
          0.9570000000000001,
          0.9690000000000001,
          0.985,
          0.987,
          1.004,
          0.998,
          0.9840000000000001,
          0.983,
          0.968,
          0.977,
          0.998,
          1.004,
          1.013,
          0.997,
          0.981,
          0.973,
          0.968,
          0.981,
          0.975,
          0.9620000000000001,
          0.9440000000000001,
          0.9309999999999999,
          0.932,
          0.9470000000000001,
          0.9690000000000001,
          0.9790000000000001,
          0.981,
          0.9690000000000001,
          0.9520000000000001,
          0.946,
          0.9490000000000001,
          0.968,
          0.982,
          0.988,
          0.978,
          0.965,
          0.961,
          0.958,
          0.977,
          0.986,
          0.986,
          0.98,
          0.97,
          0.965
         ]
        }
       ],
       "layout": {
        "annotations": [
         {
          "showarrow": false,
          "text": "Данные : Яндекс <br> формула расчета из методических рекомендациях Роспотребнадзора.",
          "x": 0.5,
          "xref": "paper",
          "y": -0.15,
          "yref": "paper"
         }
        ],
        "height": 600,
        "template": {
         "data": {
          "pie": [
           {
            "automargin": true,
            "type": "pie"
           }
          ]
         },
         "layout": {
          "xaxis": {
           "showgrid": true,
           "title": {
            "standoff": 15
           }
          },
          "yaxis": {
           "showgrid": true,
           "title": {
            "standoff": 15
           }
          }
         }
        },
        "title": {
         "text": "Коэффициент распространения (Rt) по 6 странам ,<br> с максимальным количеством новых заболеваний и Украине ",
         "x": 0.5,
         "xanchor": "center",
         "y": 0.9,
         "yanchor": "bottom"
        },
        "width": 990,
        "yaxis": {
         "title": {
          "text": " "
         }
        }
       }
      }
     },
     "metadata": {}
    }
   ],
   "source": [
    "#mask = (X.Date>datetime.date(2020,5,1))&(X.Region.isin(regions_towatch))\n",
    "\n",
    "colors_dict = { \"США\": \"red\",\n",
    "                \"Бразилия\": \"magenta\",\n",
    "                \"Россия\": \"goldenrod\",\n",
    "                \"Индия\": \"darkblue\",\n",
    "                \"Великобритания\": \"green\",\n",
    "                 'Испания': 'aquamarine'}\n",
    "fig = go.Figure()\n",
    "for i in country_towatch:\n",
    "    mask = X['Country'] == i\n",
    "        \n",
    "    fig.add_trace(\n",
    "        \n",
    "        go.Bar(\n",
    "        name = f'{i}',\n",
    "        x=X[mask].Date,\n",
    "        y=X[mask].Rt,\n",
    "        text=round(X[mask].Rt,3),\n",
    "        textposition='inside',\n",
    "        marker_color= colors_dict.get(i),\n",
    "        \n",
    "        showlegend=True))\n",
    "\n",
    "\n",
    "\n",
    "\n",
    "                  \n",
    "fig.update_layout(\n",
    "    annotations=[\n",
    "        \n",
    "            dict(x=0.5,y=-0.15,\n",
    "            showarrow=False,\n",
    "            text=\"Данные : Яндекс <br> формула расчета из методических рекомендациях Роспотребнадзора.\",\n",
    "            xref=\"paper\",\n",
    "            yref=\"paper\")],\n",
    "                  title = \"Коэффициент распространения (Rt) по 6 странам ,<br> с максимальным количеством новых заболеваний и Украине \",\n",
    "                  title_x = 0.5,\n",
    "                  title_y= 0.9,\n",
    "                  title_xanchor = \"center\",\n",
    "                  title_yanchor = \"bottom\", \n",
    "                 # legend_x = 0.05,legend_y = 0.9,\n",
    "                  width = 990, height = 600,template = 'gridon',\n",
    "    \n",
    "    \n",
    "                 # xaxis_title='Коэффициент рассчитан, исходя из данных оперативного штаба и <br>' + \n",
    "                               #' формулы расчета в методических рекомендациях Роспотребнадзора. ',\n",
    "    yaxis_title = ' '\n",
    ")\n",
    "\n",
    "\n",
    "fig.show()\n"
   ]
  },
  {
   "cell_type": "code",
   "execution_count": 7,
   "metadata": {
    "tags": []
   },
   "outputs": [
    {
     "output_type": "stream",
     "name": "stdout",
     "text": "Все страны по которым есть статистика:\n****************************************\ndict_items([(1, 'Австралия'), (2, 'Австрия'), (3, 'Азербайджан'), (4, 'Албания'), (5, 'Алжир'), (6, 'Ангола'), (7, 'Андорра'), (8, 'Антигуа и Барбуда'), (9, 'Аргентина'), (10, 'Армения'), (11, 'Афганистан'), (12, 'Багамские острова'), (13, 'Бангладеш'), (14, 'Барбадос'), (15, 'Бахрейн'), (16, 'Беларусь'), (17, 'Белиз'), (18, 'Бельгия'), (19, 'Бенин'), (20, 'Болгария'), (21, 'Боливия'), (22, 'Босния и Герцеговина'), (23, 'Ботсвана'), (24, 'Бразилия'), (25, 'Бруней'), (26, 'Буркина-Фасо'), (27, 'Бурунди'), (28, 'Бутан'), (29, 'Великобритания'), (30, 'Венгрия'), (31, 'Венесуэла'), (32, 'Весь мир'), (33, 'Восточный Тимор'), (34, 'Вьетнам'), (35, 'Габон'), (36, 'Гаити'), (37, 'Гайана'), (38, 'Гамбия'), (39, 'Гана'), (40, 'Гватемала'), (41, 'Гвинея'), (42, 'Гвинея-Бисау'), (43, 'Германия'), (44, 'Гондурас'), (45, 'Гренада'), (46, 'Греция'), (47, 'Грузия'), (48, 'ДР Конго'), (49, 'Дания'), (50, 'Джибути'), (51, 'Доминика'), (52, 'Доминиканская Республика'), (53, 'Египет'), (54, 'Замбия'), (55, 'Западная Сахара'), (56, 'Западный берег реки Иордан'), (57, 'Зимбабве'), (58, 'Израиль'), (59, 'Индия'), (60, 'Индонезия'), (61, 'Иордания'), (62, 'Ирак'), (63, 'Иран'), (64, 'Ирландия'), (65, 'Исландия'), (66, 'Испания'), (67, 'Италия'), (68, 'Йемен'), (69, 'Кабо-Верде'), (70, 'Казахстан'), (71, 'Камбоджа'), (72, 'Камерун'), (73, 'Канада'), (74, 'Катар'), (75, 'Кения'), (76, 'Кипр'), (77, 'Киргизия'), (78, 'Китай'), (79, 'Колумбия'), (80, 'Коморские острова'), (81, 'Косово и Метохия'), (82, 'Коста-Рика'), (83, 'Кот-д’Ивуар'), (84, 'Куба'), (85, 'Кувейт'), (86, 'Лаос'), (87, 'Латвия'), (88, 'Лесото'), (89, 'Либерия'), (90, 'Ливан'), (91, 'Ливия'), (92, 'Литва'), (93, 'Лихтенштейн'), (94, 'Люксембург'), (95, 'Маврикий'), (96, 'Мавритания'), (97, 'Мадагаскар'), (98, 'Малави'), (99, 'Малайзия'), (100, 'Мали'), (101, 'Мальдивы'), (102, 'Мальта'), (103, 'Марокко'), (104, 'Мексика'), (105, 'Мозамбик'), (106, 'Молдавия'), (107, 'Монако'), (108, 'Монголия'), (109, 'Мьянма'), (110, 'Намибия'), (111, 'Непал'), (112, 'Нигер'), (113, 'Нигерия'), (114, 'Нидерланды'), (115, 'Никарагуа'), (116, 'Новая Зеландия'), (117, 'Норвегия'), (118, 'ОАЭ'), (119, 'Оман'), (120, 'Пакистан'), (121, 'Панама'), (122, 'Папский Престол'), (123, 'Папуа — Новая Гвинея'), (124, 'Парагвай'), (125, 'Перу'), (126, 'Польша'), (127, 'Португалия'), (128, 'Республика Конго'), (129, 'Россия'), (130, 'Руанда'), (131, 'Румыния'), (132, 'США'), (133, 'Сальвадор'), (134, 'Сан-Марино'), (135, 'Сан-Томе и Принсипи'), (136, 'Саудовская Аравия'), (137, 'Северная Македония'), (138, 'Сейшельские острова'), (139, 'Сенегал'), (140, 'Сент-Винсент и Гренадины'), (141, 'Сент-Китс и Невис'), (142, 'Сент-Люсия'), (143, 'Сербия'), (144, 'Сингапур'), (145, 'Сирия'), (146, 'Словакия'), (147, 'Словения'), (148, 'Сомали'), (149, 'Судан'), (150, 'Судно \"Diamond Princess\"'), (151, 'Судно \"MS Zaandam\"'), (152, 'Суринам'), (153, 'Сьерра-Леоне'), (154, 'Таджикистан'), (155, 'Таиланд'), (156, 'Танзания'), (157, 'Того'), (158, 'Тринидад и Тобаго'), (159, 'Тунис'), (160, 'Турция'), (161, 'Уганда'), (162, 'Узбекистан'), (163, 'Украина'), (164, 'Уругвай'), (165, 'Фиджи'), (166, 'Филиппины'), (167, 'Финляндия'), (168, 'Франция'), (169, 'Хорватия'), (170, 'ЦАР'), (171, 'Чад'), (172, 'Черногория'), (173, 'Чехия'), (174, 'Чили'), (175, 'Швейцария'), (176, 'Швеция'), (177, 'Шри-Ланка'), (178, 'Эквадор'), (179, 'Экваториальная Гвинея'), (180, 'Эритрея'), (181, 'Эсватини'), (182, 'Эстония'), (183, 'Эфиопия'), (184, 'ЮАР'), (185, 'Южная Корея'), (186, 'Южный Судан'), (187, 'Ямайка'), (188, 'Япония')])\n****************************************\nРассматриваем страны: \n24 Бразилия\n29 Великобритания\n59 Индия\n129 Россия\n132 США\nВыбрали страну:  Украина\n"
    }
   ],
   "source": [
    "print('Все страны по которым есть статистика:')\n",
    "print('*'*40)\n",
    "print(country_dict.items())\n",
    "print('*'*40)\n",
    "print('Рассматриваем страны: ')\n",
    "for i in country_dict.keys():\n",
    "    if country_dict.get(i) in country_towatch:\n",
    "        print(i,country_dict.get(i))\n",
    "\n",
    "\n",
    "my_country = country_dict[163]\n",
    "print('Выбрали страну: ',my_country)\n"
   ]
  },
  {
   "cell_type": "code",
   "execution_count": 8,
   "metadata": {},
   "outputs": [
    {
     "output_type": "display_data",
     "data": {
      "application/vnd.plotly.v1+json": {
       "config": {
        "plotlyServerURL": "https://plot.ly"
       },
       "data": [
        {
         "alignmentgroup": "True",
         "hovertemplate": "Date=%{x}<br>Новые заболевшие=%{marker.color}<extra></extra>",
         "legendgroup": "",
         "marker": {
          "color": [
           0,
           0,
           0,
           0,
           0,
           0,
           0,
           0,
           0,
           0,
           0,
           0,
           0,
           0,
           0,
           0,
           0,
           0,
           0,
           0,
           0,
           0,
           0,
           0,
           0,
           0,
           0,
           0,
           0,
           0,
           0,
           0,
           0,
           0,
           0,
           0,
           0,
           0,
           0,
           0,
           0,
           1,
           0,
           0,
           0,
           0,
           0,
           0,
           0,
           0,
           0,
           2,
           0,
           0,
           4,
           7,
           0,
           2,
           13,
           18,
           26,
           0,
           24,
           48,
           51,
           114,
           46,
           119,
           73,
           97,
           149,
           103,
           175,
           153,
           83,
           11,
           143,
           206,
           224,
           311,
           308,
           266,
           325,
           270,
           392,
           397,
           501,
           444,
           343,
           261,
           415,
           467,
           578,
           477,
           478,
           492,
           392,
           401,
           456,
           540,
           455,
           550,
           502,
           418,
           366,
           487,
           507,
           504,
           515,
           522,
           416,
           375,
           402,
           422,
           483,
           528,
           433,
           325,
           260,
           354,
           476,
           442,
           432,
           406,
           259,
           339,
           321,
           477,
           429,
           393,
           468,
           890,
           333,
           490,
           596,
           561,
           559,
           498,
           478,
           402,
           536,
           691,
           709,
           762,
           674,
           685,
           673,
           777,
           847,
           922,
           860,
           746,
           695,
           845,
           951,
           1002,
           1121,
           957,
           924,
           682,
           716,
           670,
           897,
           884,
           923,
           840,
           585,
           569,
           835,
           828,
           831,
           825,
           706,
           638,
           646,
           848,
           861,
           826,
           867,
           744,
           690,
           687,
           841,
           874,
           1004,
           1144,
           944,
           835,
           934,
           1048,
           1222,
           1104,
           1205,
           1152,
           1020,
           1099,
           1289,
           1346,
           1503,
           1516,
           1233,
           1045,
           1211,
           1481,
           1632
          ],
          "coloraxis": "coloraxis"
         },
         "name": "",
         "offsetgroup": "",
         "orientation": "v",
         "showlegend": false,
         "text": [
          0,
          0,
          0,
          0,
          0,
          0,
          0,
          0,
          0,
          0,
          0,
          0,
          0,
          0,
          0,
          0,
          0,
          0,
          0,
          0,
          0,
          0,
          0,
          0,
          0,
          0,
          0,
          0,
          0,
          0,
          0,
          0,
          0,
          0,
          0,
          0,
          0,
          0,
          0,
          0,
          0,
          1,
          0,
          0,
          0,
          0,
          0,
          0,
          0,
          0,
          0,
          2,
          0,
          0,
          4,
          7,
          0,
          2,
          13,
          18,
          26,
          0,
          24,
          48,
          51,
          114,
          46,
          119,
          73,
          97,
          149,
          103,
          175,
          153,
          83,
          11,
          143,
          206,
          224,
          311,
          308,
          266,
          325,
          270,
          392,
          397,
          501,
          444,
          343,
          261,
          415,
          467,
          578,
          477,
          478,
          492,
          392,
          401,
          456,
          540,
          455,
          550,
          502,
          418,
          366,
          487,
          507,
          504,
          515,
          522,
          416,
          375,
          402,
          422,
          483,
          528,
          433,
          325,
          260,
          354,
          476,
          442,
          432,
          406,
          259,
          339,
          321,
          477,
          429,
          393,
          468,
          890,
          333,
          490,
          596,
          561,
          559,
          498,
          478,
          402,
          536,
          691,
          709,
          762,
          674,
          685,
          673,
          777,
          847,
          922,
          860,
          746,
          695,
          845,
          951,
          1002,
          1121,
          957,
          924,
          682,
          716,
          670,
          897,
          884,
          923,
          840,
          585,
          569,
          835,
          828,
          831,
          825,
          706,
          638,
          646,
          848,
          861,
          826,
          867,
          744,
          690,
          687,
          841,
          874,
          1004,
          1144,
          944,
          835,
          934,
          1048,
          1222,
          1104,
          1205,
          1152,
          1020,
          1099,
          1289,
          1346,
          1503,
          1516,
          1233,
          1045,
          1211,
          1481,
          1632
         ],
         "textposition": "auto",
         "type": "bar",
         "x": [
          "2020-01-22",
          "2020-01-23",
          "2020-01-24",
          "2020-01-25",
          "2020-01-26",
          "2020-01-27",
          "2020-01-28",
          "2020-01-29",
          "2020-01-30",
          "2020-01-31",
          "2020-02-01",
          "2020-02-02",
          "2020-02-03",
          "2020-02-04",
          "2020-02-05",
          "2020-02-06",
          "2020-02-07",
          "2020-02-08",
          "2020-02-09",
          "2020-02-10",
          "2020-02-11",
          "2020-02-12",
          "2020-02-13",
          "2020-02-14",
          "2020-02-15",
          "2020-02-16",
          "2020-02-17",
          "2020-02-18",
          "2020-02-19",
          "2020-02-20",
          "2020-02-21",
          "2020-02-22",
          "2020-02-23",
          "2020-02-24",
          "2020-02-25",
          "2020-02-26",
          "2020-02-27",
          "2020-02-28",
          "2020-02-29",
          "2020-03-01",
          "2020-03-02",
          "2020-03-03",
          "2020-03-04",
          "2020-03-05",
          "2020-03-06",
          "2020-03-07",
          "2020-03-08",
          "2020-03-09",
          "2020-03-10",
          "2020-03-11",
          "2020-03-12",
          "2020-03-13",
          "2020-03-14",
          "2020-03-15",
          "2020-03-16",
          "2020-03-17",
          "2020-03-18",
          "2020-03-19",
          "2020-03-20",
          "2020-03-21",
          "2020-03-22",
          "2020-03-23",
          "2020-03-24",
          "2020-03-25",
          "2020-03-26",
          "2020-03-27",
          "2020-03-28",
          "2020-03-29",
          "2020-03-30",
          "2020-03-31",
          "2020-04-01",
          "2020-04-02",
          "2020-04-03",
          "2020-04-04",
          "2020-04-05",
          "2020-04-06",
          "2020-04-07",
          "2020-04-08",
          "2020-04-09",
          "2020-04-10",
          "2020-04-11",
          "2020-04-12",
          "2020-04-13",
          "2020-04-14",
          "2020-04-15",
          "2020-04-16",
          "2020-04-17",
          "2020-04-18",
          "2020-04-19",
          "2020-04-20",
          "2020-04-21",
          "2020-04-22",
          "2020-04-23",
          "2020-04-24",
          "2020-04-25",
          "2020-04-26",
          "2020-04-27",
          "2020-04-28",
          "2020-04-29",
          "2020-04-30",
          "2020-05-01",
          "2020-05-02",
          "2020-05-03",
          "2020-05-04",
          "2020-05-05",
          "2020-05-06",
          "2020-05-07",
          "2020-05-08",
          "2020-05-09",
          "2020-05-10",
          "2020-05-11",
          "2020-05-12",
          "2020-05-13",
          "2020-05-14",
          "2020-05-15",
          "2020-05-16",
          "2020-05-17",
          "2020-05-18",
          "2020-05-19",
          "2020-05-20",
          "2020-05-21",
          "2020-05-22",
          "2020-05-23",
          "2020-05-24",
          "2020-05-25",
          "2020-05-26",
          "2020-05-27",
          "2020-05-28",
          "2020-05-29",
          "2020-05-30",
          "2020-05-31",
          "2020-06-01",
          "2020-06-02",
          "2020-06-03",
          "2020-06-04",
          "2020-06-05",
          "2020-06-06",
          "2020-06-07",
          "2020-06-08",
          "2020-06-09",
          "2020-06-10",
          "2020-06-11",
          "2020-06-12",
          "2020-06-13",
          "2020-06-14",
          "2020-06-15",
          "2020-06-16",
          "2020-06-17",
          "2020-06-18",
          "2020-06-19",
          "2020-06-20",
          "2020-06-21",
          "2020-06-22",
          "2020-06-23",
          "2020-06-24",
          "2020-06-25",
          "2020-06-26",
          "2020-06-27",
          "2020-06-28",
          "2020-06-29",
          "2020-06-30",
          "2020-07-01",
          "2020-07-02",
          "2020-07-03",
          "2020-07-04",
          "2020-07-05",
          "2020-07-06",
          "2020-07-07",
          "2020-07-08",
          "2020-07-09",
          "2020-07-10",
          "2020-07-11",
          "2020-07-12",
          "2020-07-13",
          "2020-07-14",
          "2020-07-15",
          "2020-07-16",
          "2020-07-17",
          "2020-07-18",
          "2020-07-19",
          "2020-07-20",
          "2020-07-21",
          "2020-07-22",
          "2020-07-23",
          "2020-07-24",
          "2020-07-25",
          "2020-07-26",
          "2020-07-27",
          "2020-07-28",
          "2020-07-29",
          "2020-07-30",
          "2020-07-31",
          "2020-08-01",
          "2020-08-02",
          "2020-08-03",
          "2020-08-04",
          "2020-08-05",
          "2020-08-06",
          "2020-08-07",
          "2020-08-08",
          "2020-08-09",
          "2020-08-10",
          "2020-08-11",
          "2020-08-12",
          "2020-08-13"
         ],
         "xaxis": "x",
         "y": [
          0,
          0,
          0,
          0,
          0,
          0,
          0,
          0,
          0,
          0,
          0,
          0,
          0,
          0,
          0,
          0,
          0,
          0,
          0,
          0,
          0,
          0,
          0,
          0,
          0,
          0,
          0,
          0,
          0,
          0,
          0,
          0,
          0,
          0,
          0,
          0,
          0,
          0,
          0,
          0,
          0,
          1,
          0,
          0,
          0,
          0,
          0,
          0,
          0,
          0,
          0,
          2,
          0,
          0,
          4,
          7,
          0,
          2,
          13,
          18,
          26,
          0,
          24,
          48,
          51,
          114,
          46,
          119,
          73,
          97,
          149,
          103,
          175,
          153,
          83,
          11,
          143,
          206,
          224,
          311,
          308,
          266,
          325,
          270,
          392,
          397,
          501,
          444,
          343,
          261,
          415,
          467,
          578,
          477,
          478,
          492,
          392,
          401,
          456,
          540,
          455,
          550,
          502,
          418,
          366,
          487,
          507,
          504,
          515,
          522,
          416,
          375,
          402,
          422,
          483,
          528,
          433,
          325,
          260,
          354,
          476,
          442,
          432,
          406,
          259,
          339,
          321,
          477,
          429,
          393,
          468,
          890,
          333,
          490,
          596,
          561,
          559,
          498,
          478,
          402,
          536,
          691,
          709,
          762,
          674,
          685,
          673,
          777,
          847,
          922,
          860,
          746,
          695,
          845,
          951,
          1002,
          1121,
          957,
          924,
          682,
          716,
          670,
          897,
          884,
          923,
          840,
          585,
          569,
          835,
          828,
          831,
          825,
          706,
          638,
          646,
          848,
          861,
          826,
          867,
          744,
          690,
          687,
          841,
          874,
          1004,
          1144,
          944,
          835,
          934,
          1048,
          1222,
          1104,
          1205,
          1152,
          1020,
          1099,
          1289,
          1346,
          1503,
          1516,
          1233,
          1045,
          1211,
          1481,
          1632
         ],
         "yaxis": "y"
        },
        {
         "line": {
          "color": "green"
         },
         "mode": "lines",
         "name": "14-дневная скользящая средняя",
         "showlegend": true,
         "type": "scatter",
         "x": [
          "2020-01-22",
          "2020-01-23",
          "2020-01-24",
          "2020-01-25",
          "2020-01-26",
          "2020-01-27",
          "2020-01-28",
          "2020-01-29",
          "2020-01-30",
          "2020-01-31",
          "2020-02-01",
          "2020-02-02",
          "2020-02-03",
          "2020-02-04",
          "2020-02-05",
          "2020-02-06",
          "2020-02-07",
          "2020-02-08",
          "2020-02-09",
          "2020-02-10",
          "2020-02-11",
          "2020-02-12",
          "2020-02-13",
          "2020-02-14",
          "2020-02-15",
          "2020-02-16",
          "2020-02-17",
          "2020-02-18",
          "2020-02-19",
          "2020-02-20",
          "2020-02-21",
          "2020-02-22",
          "2020-02-23",
          "2020-02-24",
          "2020-02-25",
          "2020-02-26",
          "2020-02-27",
          "2020-02-28",
          "2020-02-29",
          "2020-03-01",
          "2020-03-02",
          "2020-03-03",
          "2020-03-04",
          "2020-03-05",
          "2020-03-06",
          "2020-03-07",
          "2020-03-08",
          "2020-03-09",
          "2020-03-10",
          "2020-03-11",
          "2020-03-12",
          "2020-03-13",
          "2020-03-14",
          "2020-03-15",
          "2020-03-16",
          "2020-03-17",
          "2020-03-18",
          "2020-03-19",
          "2020-03-20",
          "2020-03-21",
          "2020-03-22",
          "2020-03-23",
          "2020-03-24",
          "2020-03-25",
          "2020-03-26",
          "2020-03-27",
          "2020-03-28",
          "2020-03-29",
          "2020-03-30",
          "2020-03-31",
          "2020-04-01",
          "2020-04-02",
          "2020-04-03",
          "2020-04-04",
          "2020-04-05",
          "2020-04-06",
          "2020-04-07",
          "2020-04-08",
          "2020-04-09",
          "2020-04-10",
          "2020-04-11",
          "2020-04-12",
          "2020-04-13",
          "2020-04-14",
          "2020-04-15",
          "2020-04-16",
          "2020-04-17",
          "2020-04-18",
          "2020-04-19",
          "2020-04-20",
          "2020-04-21",
          "2020-04-22",
          "2020-04-23",
          "2020-04-24",
          "2020-04-25",
          "2020-04-26",
          "2020-04-27",
          "2020-04-28",
          "2020-04-29",
          "2020-04-30",
          "2020-05-01",
          "2020-05-02",
          "2020-05-03",
          "2020-05-04",
          "2020-05-05",
          "2020-05-06",
          "2020-05-07",
          "2020-05-08",
          "2020-05-09",
          "2020-05-10",
          "2020-05-11",
          "2020-05-12",
          "2020-05-13",
          "2020-05-14",
          "2020-05-15",
          "2020-05-16",
          "2020-05-17",
          "2020-05-18",
          "2020-05-19",
          "2020-05-20",
          "2020-05-21",
          "2020-05-22",
          "2020-05-23",
          "2020-05-24",
          "2020-05-25",
          "2020-05-26",
          "2020-05-27",
          "2020-05-28",
          "2020-05-29",
          "2020-05-30",
          "2020-05-31",
          "2020-06-01",
          "2020-06-02",
          "2020-06-03",
          "2020-06-04",
          "2020-06-05",
          "2020-06-06",
          "2020-06-07",
          "2020-06-08",
          "2020-06-09",
          "2020-06-10",
          "2020-06-11",
          "2020-06-12",
          "2020-06-13",
          "2020-06-14",
          "2020-06-15",
          "2020-06-16",
          "2020-06-17",
          "2020-06-18",
          "2020-06-19",
          "2020-06-20",
          "2020-06-21",
          "2020-06-22",
          "2020-06-23",
          "2020-06-24",
          "2020-06-25",
          "2020-06-26",
          "2020-06-27",
          "2020-06-28",
          "2020-06-29",
          "2020-06-30",
          "2020-07-01",
          "2020-07-02",
          "2020-07-03",
          "2020-07-04",
          "2020-07-05",
          "2020-07-06",
          "2020-07-07",
          "2020-07-08",
          "2020-07-09",
          "2020-07-10",
          "2020-07-11",
          "2020-07-12",
          "2020-07-13",
          "2020-07-14",
          "2020-07-15",
          "2020-07-16",
          "2020-07-17",
          "2020-07-18",
          "2020-07-19",
          "2020-07-20",
          "2020-07-21",
          "2020-07-22",
          "2020-07-23",
          "2020-07-24",
          "2020-07-25",
          "2020-07-26",
          "2020-07-27",
          "2020-07-28",
          "2020-07-29",
          "2020-07-30",
          "2020-07-31",
          "2020-08-01",
          "2020-08-02",
          "2020-08-03",
          "2020-08-04",
          "2020-08-05",
          "2020-08-06",
          "2020-08-07",
          "2020-08-08",
          "2020-08-09",
          "2020-08-10",
          "2020-08-11",
          "2020-08-12",
          "2020-08-13"
         ],
         "y": [
          null,
          null,
          null,
          null,
          null,
          null,
          null,
          null,
          null,
          null,
          null,
          null,
          null,
          0,
          0,
          0,
          0,
          0,
          0,
          0,
          0,
          0,
          0,
          0,
          0,
          0,
          0,
          0,
          0,
          0,
          0,
          0,
          0,
          0,
          0,
          0,
          0,
          0,
          0,
          0,
          0,
          0.07142857142857142,
          0.07142857142857142,
          0.07142857142857142,
          0.07142857142857142,
          0.07142857142857142,
          0.07142857142857142,
          0.07142857142857142,
          0.07142857142857142,
          0.07142857142857142,
          0.07142857142857142,
          0.21428571428571427,
          0.21428571428571427,
          0.21428571428571427,
          0.5,
          0.9285714285714286,
          0.9285714285714286,
          1.0714285714285714,
          2,
          3.2857142857142856,
          5.142857142857143,
          5.142857142857143,
          6.857142857142858,
          10.285714285714286,
          13.928571428571427,
          21.928571428571423,
          25.214285714285715,
          33.714285714285715,
          38.642857142857146,
          45.07142857142857,
          55.714285714285715,
          62.92857142857143,
          74.5,
          84.14285714285714,
          88.2142857142857,
          89,
          97.5,
          108.78571428571428,
          121.14285714285714,
          135.21428571428572,
          153.92857142857142,
          164.42857142857142,
          182.42857142857144,
          194.78571428571428,
          212.14285714285717,
          233.14285714285717,
          256.42857142857144,
          277.2142857142857,
          295.7857142857143,
          313.64285714285717,
          333.07142857142856,
          351.71428571428567,
          377,
          388.8571428571428,
          401,
          417.1428571428572,
          421.9285714285714,
          431.28571428571433,
          435.8571428571428,
          446.07142857142856,
          442.78571428571433,
          450.3571428571428,
          461.71428571428567,
          472.9285714285714,
          469.4285714285714,
          470.8571428571428,
          465.78571428571433,
          467.71428571428567,
          470.3571428571428,
          472.5,
          474.21428571428567,
          472.3571428571428,
          468.5,
          460.07142857142856,
          462.07142857142856,
          460.5,
          455.57142857142856,
          448.9285714285714,
          441.3571428571428,
          431.8571428571428,
          429.6428571428572,
          425.21428571428567,
          419.28571428571433,
          411,
          399.78571428571433,
          397.21428571428567,
          391.4285714285714,
          395.3571428571428,
          391.5,
          381.8571428571428,
          384.3571428571428,
          424.71428571428567,
          429.9285714285714,
          439.6428571428572,
          448.21428571428567,
          456.71428571428567,
          465.78571428571433,
          472.3571428571428,
          488,
          492.5,
          507.8571428571428,
          523.1428571428571,
          543.1428571428571,
          569.5,
          584.2142857142858,
          569.5714285714286,
          593.8571428571429,
          614.3571428571429,
          632.2857142857142,
          658.0714285714286,
          679.5714285714286,
          697.2857142857142,
          712.7857142857142,
          744.4285714285713,
          774.0714285714287,
          796.2857142857142,
          825.7142857142858,
          839.6428571428571,
          857.5,
          857.2857142857142,
          860.3571428571429,
          852.7142857142858,
          856.2857142857142,
          853.5714285714287,
          858.0714285714287,
          864.7857142857142,
          856.9285714285713,
          837.2142857142858,
          828.9285714285713,
          816.5,
          795.7857142857142,
          786.3571428571429,
          770.7857142857142,
          767.6428571428571,
          762.6428571428571,
          775.3571428571429,
          772.7857142857142,
          768.6428571428571,
          764.6428571428571,
          757.7857142857142,
          765.2857142857142,
          773.7142857142858,
          774.1428571428571,
          777.4285714285713,
          789.7857142857142,
          812.5714285714287,
          829.5714285714287,
          843.6428571428571,
          864.2142857142858,
          878.5,
          904.2857142857144,
          924.1428571428572,
          948.2857142857144,
          977.4285714285713,
          1001,
          1030.4285714285713,
          1062.4285714285713,
          1096.142857142857,
          1131.7857142857142,
          1158.357142857143,
          1179,
          1194,
          1213.7857142857142,
          1244.7142857142858,
          1274
         ]
        },
        {
         "line": {
          "color": "red"
         },
         "mode": "lines",
         "name": "7-дневная скользящая средняя",
         "showlegend": true,
         "type": "scatter",
         "x": [
          "2020-01-22",
          "2020-01-23",
          "2020-01-24",
          "2020-01-25",
          "2020-01-26",
          "2020-01-27",
          "2020-01-28",
          "2020-01-29",
          "2020-01-30",
          "2020-01-31",
          "2020-02-01",
          "2020-02-02",
          "2020-02-03",
          "2020-02-04",
          "2020-02-05",
          "2020-02-06",
          "2020-02-07",
          "2020-02-08",
          "2020-02-09",
          "2020-02-10",
          "2020-02-11",
          "2020-02-12",
          "2020-02-13",
          "2020-02-14",
          "2020-02-15",
          "2020-02-16",
          "2020-02-17",
          "2020-02-18",
          "2020-02-19",
          "2020-02-20",
          "2020-02-21",
          "2020-02-22",
          "2020-02-23",
          "2020-02-24",
          "2020-02-25",
          "2020-02-26",
          "2020-02-27",
          "2020-02-28",
          "2020-02-29",
          "2020-03-01",
          "2020-03-02",
          "2020-03-03",
          "2020-03-04",
          "2020-03-05",
          "2020-03-06",
          "2020-03-07",
          "2020-03-08",
          "2020-03-09",
          "2020-03-10",
          "2020-03-11",
          "2020-03-12",
          "2020-03-13",
          "2020-03-14",
          "2020-03-15",
          "2020-03-16",
          "2020-03-17",
          "2020-03-18",
          "2020-03-19",
          "2020-03-20",
          "2020-03-21",
          "2020-03-22",
          "2020-03-23",
          "2020-03-24",
          "2020-03-25",
          "2020-03-26",
          "2020-03-27",
          "2020-03-28",
          "2020-03-29",
          "2020-03-30",
          "2020-03-31",
          "2020-04-01",
          "2020-04-02",
          "2020-04-03",
          "2020-04-04",
          "2020-04-05",
          "2020-04-06",
          "2020-04-07",
          "2020-04-08",
          "2020-04-09",
          "2020-04-10",
          "2020-04-11",
          "2020-04-12",
          "2020-04-13",
          "2020-04-14",
          "2020-04-15",
          "2020-04-16",
          "2020-04-17",
          "2020-04-18",
          "2020-04-19",
          "2020-04-20",
          "2020-04-21",
          "2020-04-22",
          "2020-04-23",
          "2020-04-24",
          "2020-04-25",
          "2020-04-26",
          "2020-04-27",
          "2020-04-28",
          "2020-04-29",
          "2020-04-30",
          "2020-05-01",
          "2020-05-02",
          "2020-05-03",
          "2020-05-04",
          "2020-05-05",
          "2020-05-06",
          "2020-05-07",
          "2020-05-08",
          "2020-05-09",
          "2020-05-10",
          "2020-05-11",
          "2020-05-12",
          "2020-05-13",
          "2020-05-14",
          "2020-05-15",
          "2020-05-16",
          "2020-05-17",
          "2020-05-18",
          "2020-05-19",
          "2020-05-20",
          "2020-05-21",
          "2020-05-22",
          "2020-05-23",
          "2020-05-24",
          "2020-05-25",
          "2020-05-26",
          "2020-05-27",
          "2020-05-28",
          "2020-05-29",
          "2020-05-30",
          "2020-05-31",
          "2020-06-01",
          "2020-06-02",
          "2020-06-03",
          "2020-06-04",
          "2020-06-05",
          "2020-06-06",
          "2020-06-07",
          "2020-06-08",
          "2020-06-09",
          "2020-06-10",
          "2020-06-11",
          "2020-06-12",
          "2020-06-13",
          "2020-06-14",
          "2020-06-15",
          "2020-06-16",
          "2020-06-17",
          "2020-06-18",
          "2020-06-19",
          "2020-06-20",
          "2020-06-21",
          "2020-06-22",
          "2020-06-23",
          "2020-06-24",
          "2020-06-25",
          "2020-06-26",
          "2020-06-27",
          "2020-06-28",
          "2020-06-29",
          "2020-06-30",
          "2020-07-01",
          "2020-07-02",
          "2020-07-03",
          "2020-07-04",
          "2020-07-05",
          "2020-07-06",
          "2020-07-07",
          "2020-07-08",
          "2020-07-09",
          "2020-07-10",
          "2020-07-11",
          "2020-07-12",
          "2020-07-13",
          "2020-07-14",
          "2020-07-15",
          "2020-07-16",
          "2020-07-17",
          "2020-07-18",
          "2020-07-19",
          "2020-07-20",
          "2020-07-21",
          "2020-07-22",
          "2020-07-23",
          "2020-07-24",
          "2020-07-25",
          "2020-07-26",
          "2020-07-27",
          "2020-07-28",
          "2020-07-29",
          "2020-07-30",
          "2020-07-31",
          "2020-08-01",
          "2020-08-02",
          "2020-08-03",
          "2020-08-04",
          "2020-08-05",
          "2020-08-06",
          "2020-08-07",
          "2020-08-08",
          "2020-08-09",
          "2020-08-10",
          "2020-08-11",
          "2020-08-12",
          "2020-08-13"
         ],
         "y": [
          null,
          null,
          null,
          null,
          null,
          null,
          0,
          0,
          0,
          0,
          0,
          0,
          0,
          0,
          0,
          0,
          0,
          0,
          0,
          0,
          0,
          0,
          0,
          0,
          0,
          0,
          0,
          0,
          0,
          0,
          0,
          0,
          0,
          0,
          0,
          0,
          0,
          0,
          0,
          0,
          0,
          0.14285714285714285,
          0.14285714285714285,
          0.14285714285714285,
          0.14285714285714285,
          0.14285714285714285,
          0.14285714285714285,
          0.14285714285714285,
          0,
          0,
          0,
          0.2857142857142857,
          0.2857142857142857,
          0.2857142857142857,
          0.8571428571428571,
          1.8571428571428568,
          1.8571428571428568,
          2.142857142857143,
          3.7142857142857135,
          6.2857142857142865,
          10,
          9.428571428571429,
          11.857142857142858,
          18.714285714285715,
          25.714285714285715,
          40.142857142857146,
          44.14285714285715,
          57.42857142857143,
          67.85714285714286,
          78.28571428571429,
          92.71428571428572,
          100.14285714285714,
          108.85714285714286,
          124.14285714285714,
          119,
          110.14285714285714,
          116.71428571428572,
          124.85714285714286,
          142.14285714285714,
          161.57142857142858,
          183.7142857142857,
          209.85714285714286,
          254.7142857142857,
          272.85714285714283,
          299.42857142857144,
          324.14285714285717,
          351.28571428571433,
          370.71428571428567,
          381.71428571428567,
          372.57142857142856,
          393.28571428571433,
          404,
          429.8571428571428,
          426.4285714285714,
          431.28571428571433,
          452.57142857142856,
          471.28571428571433,
          469.28571428571433,
          467.71428571428567,
          462.28571428571433,
          459.1428571428572,
          469.4285714285714,
          470.8571428571428,
          474.57142857142856,
          469.57142857142856,
          474,
          469.28571428571433,
          476.28571428571433,
          471.28571428571433,
          474.1428571428572,
          473.8571428571428,
          475.1428571428572,
          463,
          450.8571428571428,
          447.8571428571428,
          449.71428571428567,
          437,
          424,
          407.57142857142856,
          400.71428571428567,
          408.4285714285714,
          402.57142857142856,
          388.8571428571428,
          385,
          375.57142857142856,
          386.8571428571428,
          382.1428571428572,
          382.28571428571433,
          380.4285714285714,
          374.8571428571428,
          383.71428571428567,
          473.8571428571428,
          473,
          497.1428571428572,
          514.1428571428571,
          533,
          556.7142857142857,
          561,
          502.1428571428572,
          512,
          518.5714285714286,
          532.1428571428571,
          553.2857142857143,
          582.2857142857142,
          607.4285714285714,
          637,
          675.7142857142858,
          710.1428571428571,
          732.4285714285713,
          762.8571428571429,
          776.8571428571429,
          787.1428571428571,
          788.5714285714287,
          813.1428571428571,
          838,
          860.1428571428571,
          888.5714285714287,
          902.4285714285713,
          927.8571428571428,
          926,
          907.5714285714287,
          867.4285714285713,
          852.4285714285713,
          818.5714285714287,
          813.7142857142858,
          801.7142857142858,
          787.8571428571429,
          766.8571428571429,
          790.4285714285713,
          780.5714285714287,
          773,
          759,
          739.8571428571429,
          747.4285714285713,
          758.4285714285713,
          760.2857142857142,
          765,
          764.2857142857142,
          770.2857142857142,
          775.7142857142858,
          783.1428571428571,
          789,
          788,
          789.8571428571429,
          815.2857142857142,
          854.8571428571429,
          883.4285714285713,
          904.1428571428572,
          939.4285714285713,
          969,
          1018.7142857142856,
          1033,
          1041.7142857142858,
          1071.4285714285713,
          1097.857142857143,
          1121.4285714285713,
          1155.857142857143,
          1173.5714285714287,
          1230.5714285714287,
          1275,
          1286.5714285714287,
          1290.142857142857,
          1306.142857142857,
          1333.5714285714287,
          1374.428571428571
         ]
        }
       ],
       "layout": {
        "annotations": [
         {
          "showarrow": false,
          "text": "Данные: Яндекс",
          "x": 0.5,
          "xref": "paper",
          "y": -0.15,
          "yref": "paper"
         }
        ],
        "barmode": "relative",
        "coloraxis": {
         "colorbar": {
          "title": {
           "text": "Новые заболевшие"
          }
         },
         "colorscale": [
          [
           0,
           "rgb(247,252,253)"
          ],
          [
           0.125,
           "rgb(224,236,244)"
          ],
          [
           0.25,
           "rgb(191,211,230)"
          ],
          [
           0.375,
           "rgb(158,188,218)"
          ],
          [
           0.5,
           "rgb(140,150,198)"
          ],
          [
           0.625,
           "rgb(140,107,177)"
          ],
          [
           0.75,
           "rgb(136,65,157)"
          ],
          [
           0.875,
           "rgb(129,15,124)"
          ],
          [
           1,
           "rgb(77,0,75)"
          ]
         ]
        },
        "height": 600,
        "legend": {
         "tracegroupgap": 0,
         "x": 0.1,
         "y": 0.95
        },
        "template": {
         "data": {
          "pie": [
           {
            "automargin": true,
            "type": "pie"
           }
          ]
         },
         "layout": {
          "xaxis": {
           "showgrid": true,
           "title": {
            "standoff": 15
           }
          },
          "yaxis": {
           "showgrid": true,
           "title": {
            "standoff": 15
           }
          }
         }
        },
        "title": {
         "text": "Украина: график количества новых заболевших COVID-19 по датам",
         "x": 0.5,
         "xanchor": "center",
         "y": 0.9,
         "yanchor": "bottom"
        },
        "width": 990,
        "xaxis": {
         "anchor": "y",
         "domain": [
          0,
          1
         ],
         "title": {
          "text": ""
         }
        },
        "yaxis": {
         "anchor": "x",
         "domain": [
          0,
          1
         ],
         "title": {
          "text": " "
         }
        }
       }
      }
     },
     "metadata": {}
    }
   ],
   "source": [
    "mask = X.Country ==my_country\n",
    "#mask = (X.Date>datetime.date(2020,5,1)&(X.Region.isin(regions_towatch))\n",
    "#mask = (X.Date>datetime.date(2020,5,1)&(X.Region==my_region)\n",
    "\n",
    "fig = px.bar(X[mask], x='Date', \n",
    "             y=\"Day_confirmed\",color ='Day_confirmed',\n",
    "             title=f'{my_country}: '+'график количества новых заболевших COVID-19 по датам',\n",
    "              color_continuous_scale= px.colors.sequential.BuPu,text = 'Day_confirmed',\n",
    "             labels = {'Day_confirmed' : \"Новые заболевшие\",'Remaining_ill':'Текущие больные'})\n",
    "fig.add_trace(\n",
    "    go.Scatter(\n",
    "        name='14-дневная скользящая средняя',\n",
    "        x=X[mask].Date,\n",
    "        y=X[mask]['MA14_dayconfirmed'],\n",
    "        mode=\"lines\",\n",
    "        \n",
    "        line=go.scatter.Line(color=\"green\"),\n",
    "        showlegend=True)\n",
    ")\n",
    "fig.add_trace(\n",
    "    go.Scatter(\n",
    "        name = '7-дневная скользящая средняя',\n",
    "        x=X[mask]['Date'],\n",
    "        y=X[mask]['MA7_dayconfirmed'],\n",
    "        mode=\"lines\",\n",
    "        \n",
    "        line=go.scatter.Line(color=\"red\"),\n",
    "        showlegend=True)\n",
    ")\n",
    "fig.update_layout(\n",
    "    annotations=[\n",
    "#         dict(\n",
    "#             x='2020-04-13',\n",
    "#             y=1355,\n",
    "#             xref=\"x\",\n",
    "#             yref=\"y\",\n",
    "#             text=\"Введение<br>пропускной<br>системы в Москве\",\n",
    "#             showarrow=True,\n",
    "#             arrowhead=2,\n",
    "#             ax=0,\n",
    "#             ay=-60),\n",
    "#         dict(\n",
    "#             x='2020-06-09',\n",
    "#             y=1572,\n",
    "#             xref=\"x\",\n",
    "#             yref=\"y\",\n",
    "#             text=\"Отмена<br>пропускной<br>системы в Москве\",\n",
    "#             showarrow=True,\n",
    "#             arrowhead=2,\n",
    "#             ax=0,\n",
    "#             ay=-90),\n",
    "        dict(\n",
    "            x=0.5,\n",
    "            y=-0.15,\n",
    "            showarrow=False,\n",
    "            text=\"Данные: Яндекс\",\n",
    "            xref=\"paper\",\n",
    "            yref=\"paper\"),\n",
    "        \n",
    "                ],\n",
    "    \n",
    "    \n",
    "                  title_x = 0.5,\n",
    "                  title_y= 0.9,\n",
    "                  title_xanchor = \"center\",\n",
    "                  title_yanchor = \"bottom\", \n",
    "                  legend_x = 0.10,legend_y = 0.95,\n",
    "                  width = 990, height = 600,template = 'gridon',\n",
    "    \n",
    "    \n",
    "                  xaxis_title='',yaxis_title = ' '\n",
    ")\n",
    "\n",
    "\n",
    "fig.show()\n"
   ]
  },
  {
   "cell_type": "code",
   "execution_count": 9,
   "metadata": {},
   "outputs": [
    {
     "output_type": "display_data",
     "data": {
      "application/vnd.plotly.v1+json": {
       "config": {
        "plotlyServerURL": "https://plot.ly"
       },
       "data": [
        {
         "marker": {
          "color": [
           0,
           0,
           0,
           0,
           0,
           0,
           0,
           0,
           0,
           0,
           0,
           0,
           0,
           0,
           0,
           0,
           0,
           0,
           0,
           0,
           0,
           0,
           0,
           0,
           0,
           0,
           0,
           0,
           0,
           0,
           0,
           0,
           0,
           0,
           0,
           0,
           0,
           0,
           0,
           0,
           0,
           1,
           -1,
           0,
           0,
           0,
           0,
           0,
           0,
           0,
           0,
           2,
           -2,
           0,
           4,
           3,
           -7,
           2,
           11,
           5,
           8,
           -26,
           24,
           24,
           3,
           63,
           -68,
           73,
           -46,
           24,
           52,
           -46,
           72,
           -22,
           -70,
           -72,
           132,
           63,
           18,
           87,
           -3,
           -42,
           59,
           -55,
           122,
           5,
           104,
           -57,
           -101,
           -82,
           154,
           52,
           111,
           -101,
           1,
           14,
           -100,
           9,
           55,
           84,
           -85,
           95,
           -48,
           -84,
           -52,
           121,
           20,
           -3,
           11,
           7,
           -106,
           -41,
           27,
           20,
           61,
           45,
           -95,
           -108,
           -65,
           94,
           122,
           -34,
           -10,
           -26,
           -147,
           80,
           -18,
           156,
           -48,
           -36,
           75,
           422,
           -557,
           157,
           106,
           -35,
           -2,
           -61,
           -20,
           -76,
           134,
           155,
           18,
           53,
           -88,
           11,
           -12,
           104,
           70,
           75,
           -62,
           -114,
           -51,
           150,
           106,
           51,
           119,
           -164,
           -33,
           -242,
           34,
           -46,
           227,
           -13,
           39,
           -83,
           -255,
           -16,
           266,
           -7,
           3,
           -6,
           -119,
           -68,
           8,
           202,
           13,
           -35,
           41,
           -123,
           -54,
           -3,
           154,
           33,
           130,
           140,
           -200,
           -109,
           99,
           114,
           174,
           -118,
           101,
           -53,
           -132,
           79,
           190,
           57,
           157,
           13,
           -283,
           -188,
           166,
           270,
           151
          ],
          "colorbar": {
           "tickmode": "auto",
           "title": {
            "side": "top",
            "text": "Изменение"
           }
          },
          "colorscale": [
           [
            0,
            "rgb(0, 147, 146)"
           ],
           [
            0.16666666666666666,
            "rgb(57, 177, 133)"
           ],
           [
            0.3333333333333333,
            "rgb(156, 203, 134)"
           ],
           [
            0.5,
            "rgb(233, 226, 156)"
           ],
           [
            0.6666666666666666,
            "rgb(238, 180, 121)"
           ],
           [
            0.8333333333333334,
            "rgb(232, 132, 113)"
           ],
           [
            1,
            "rgb(207, 89, 126)"
           ]
          ]
         },
         "text": [
          0,
          0,
          0,
          0,
          0,
          0,
          0,
          0,
          0,
          0,
          0,
          0,
          0,
          0,
          0,
          0,
          0,
          0,
          0,
          0,
          0,
          0,
          0,
          0,
          0,
          0,
          0,
          0,
          0,
          0,
          0,
          0,
          0,
          0,
          0,
          0,
          0,
          0,
          0,
          0,
          0,
          1,
          -1,
          0,
          0,
          0,
          0,
          0,
          0,
          0,
          0,
          2,
          -2,
          0,
          4,
          3,
          -7,
          2,
          11,
          5,
          8,
          -26,
          24,
          24,
          3,
          63,
          -68,
          73,
          -46,
          24,
          52,
          -46,
          72,
          -22,
          -70,
          -72,
          132,
          63,
          18,
          87,
          -3,
          -42,
          59,
          -55,
          122,
          5,
          104,
          -57,
          -101,
          -82,
          154,
          52,
          111,
          -101,
          1,
          14,
          -100,
          9,
          55,
          84,
          -85,
          95,
          -48,
          -84,
          -52,
          121,
          20,
          -3,
          11,
          7,
          -106,
          -41,
          27,
          20,
          61,
          45,
          -95,
          -108,
          -65,
          94,
          122,
          -34,
          -10,
          -26,
          -147,
          80,
          -18,
          156,
          -48,
          -36,
          75,
          422,
          -557,
          157,
          106,
          -35,
          -2,
          -61,
          -20,
          -76,
          134,
          155,
          18,
          53,
          -88,
          11,
          -12,
          104,
          70,
          75,
          -62,
          -114,
          -51,
          150,
          106,
          51,
          119,
          -164,
          -33,
          -242,
          34,
          -46,
          227,
          -13,
          39,
          -83,
          -255,
          -16,
          266,
          -7,
          3,
          -6,
          -119,
          -68,
          8,
          202,
          13,
          -35,
          41,
          -123,
          -54,
          -3,
          154,
          33,
          130,
          140,
          -200,
          -109,
          99,
          114,
          174,
          -118,
          101,
          -53,
          -132,
          79,
          190,
          57,
          157,
          13,
          -283,
          -188,
          166,
          270,
          151
         ],
         "textposition": "inside",
         "type": "bar",
         "x": [
          "2020-01-22T00:00:00",
          "2020-01-23T00:00:00",
          "2020-01-24T00:00:00",
          "2020-01-25T00:00:00",
          "2020-01-26T00:00:00",
          "2020-01-27T00:00:00",
          "2020-01-28T00:00:00",
          "2020-01-29T00:00:00",
          "2020-01-30T00:00:00",
          "2020-01-31T00:00:00",
          "2020-02-01T00:00:00",
          "2020-02-02T00:00:00",
          "2020-02-03T00:00:00",
          "2020-02-04T00:00:00",
          "2020-02-05T00:00:00",
          "2020-02-06T00:00:00",
          "2020-02-07T00:00:00",
          "2020-02-08T00:00:00",
          "2020-02-09T00:00:00",
          "2020-02-10T00:00:00",
          "2020-02-11T00:00:00",
          "2020-02-12T00:00:00",
          "2020-02-13T00:00:00",
          "2020-02-14T00:00:00",
          "2020-02-15T00:00:00",
          "2020-02-16T00:00:00",
          "2020-02-17T00:00:00",
          "2020-02-18T00:00:00",
          "2020-02-19T00:00:00",
          "2020-02-20T00:00:00",
          "2020-02-21T00:00:00",
          "2020-02-22T00:00:00",
          "2020-02-23T00:00:00",
          "2020-02-24T00:00:00",
          "2020-02-25T00:00:00",
          "2020-02-26T00:00:00",
          "2020-02-27T00:00:00",
          "2020-02-28T00:00:00",
          "2020-02-29T00:00:00",
          "2020-03-01T00:00:00",
          "2020-03-02T00:00:00",
          "2020-03-03T00:00:00",
          "2020-03-04T00:00:00",
          "2020-03-05T00:00:00",
          "2020-03-06T00:00:00",
          "2020-03-07T00:00:00",
          "2020-03-08T00:00:00",
          "2020-03-09T00:00:00",
          "2020-03-10T00:00:00",
          "2020-03-11T00:00:00",
          "2020-03-12T00:00:00",
          "2020-03-13T00:00:00",
          "2020-03-14T00:00:00",
          "2020-03-15T00:00:00",
          "2020-03-16T00:00:00",
          "2020-03-17T00:00:00",
          "2020-03-18T00:00:00",
          "2020-03-19T00:00:00",
          "2020-03-20T00:00:00",
          "2020-03-21T00:00:00",
          "2020-03-22T00:00:00",
          "2020-03-23T00:00:00",
          "2020-03-24T00:00:00",
          "2020-03-25T00:00:00",
          "2020-03-26T00:00:00",
          "2020-03-27T00:00:00",
          "2020-03-28T00:00:00",
          "2020-03-29T00:00:00",
          "2020-03-30T00:00:00",
          "2020-03-31T00:00:00",
          "2020-04-01T00:00:00",
          "2020-04-02T00:00:00",
          "2020-04-03T00:00:00",
          "2020-04-04T00:00:00",
          "2020-04-05T00:00:00",
          "2020-04-06T00:00:00",
          "2020-04-07T00:00:00",
          "2020-04-08T00:00:00",
          "2020-04-09T00:00:00",
          "2020-04-10T00:00:00",
          "2020-04-11T00:00:00",
          "2020-04-12T00:00:00",
          "2020-04-13T00:00:00",
          "2020-04-14T00:00:00",
          "2020-04-15T00:00:00",
          "2020-04-16T00:00:00",
          "2020-04-17T00:00:00",
          "2020-04-18T00:00:00",
          "2020-04-19T00:00:00",
          "2020-04-20T00:00:00",
          "2020-04-21T00:00:00",
          "2020-04-22T00:00:00",
          "2020-04-23T00:00:00",
          "2020-04-24T00:00:00",
          "2020-04-25T00:00:00",
          "2020-04-26T00:00:00",
          "2020-04-27T00:00:00",
          "2020-04-28T00:00:00",
          "2020-04-29T00:00:00",
          "2020-04-30T00:00:00",
          "2020-05-01T00:00:00",
          "2020-05-02T00:00:00",
          "2020-05-03T00:00:00",
          "2020-05-04T00:00:00",
          "2020-05-05T00:00:00",
          "2020-05-06T00:00:00",
          "2020-05-07T00:00:00",
          "2020-05-08T00:00:00",
          "2020-05-09T00:00:00",
          "2020-05-10T00:00:00",
          "2020-05-11T00:00:00",
          "2020-05-12T00:00:00",
          "2020-05-13T00:00:00",
          "2020-05-14T00:00:00",
          "2020-05-15T00:00:00",
          "2020-05-16T00:00:00",
          "2020-05-17T00:00:00",
          "2020-05-18T00:00:00",
          "2020-05-19T00:00:00",
          "2020-05-20T00:00:00",
          "2020-05-21T00:00:00",
          "2020-05-22T00:00:00",
          "2020-05-23T00:00:00",
          "2020-05-24T00:00:00",
          "2020-05-25T00:00:00",
          "2020-05-26T00:00:00",
          "2020-05-27T00:00:00",
          "2020-05-28T00:00:00",
          "2020-05-29T00:00:00",
          "2020-05-30T00:00:00",
          "2020-05-31T00:00:00",
          "2020-06-01T00:00:00",
          "2020-06-02T00:00:00",
          "2020-06-03T00:00:00",
          "2020-06-04T00:00:00",
          "2020-06-05T00:00:00",
          "2020-06-06T00:00:00",
          "2020-06-07T00:00:00",
          "2020-06-08T00:00:00",
          "2020-06-09T00:00:00",
          "2020-06-10T00:00:00",
          "2020-06-11T00:00:00",
          "2020-06-12T00:00:00",
          "2020-06-13T00:00:00",
          "2020-06-14T00:00:00",
          "2020-06-15T00:00:00",
          "2020-06-16T00:00:00",
          "2020-06-17T00:00:00",
          "2020-06-18T00:00:00",
          "2020-06-19T00:00:00",
          "2020-06-20T00:00:00",
          "2020-06-21T00:00:00",
          "2020-06-22T00:00:00",
          "2020-06-23T00:00:00",
          "2020-06-24T00:00:00",
          "2020-06-25T00:00:00",
          "2020-06-26T00:00:00",
          "2020-06-27T00:00:00",
          "2020-06-28T00:00:00",
          "2020-06-29T00:00:00",
          "2020-06-30T00:00:00",
          "2020-07-01T00:00:00",
          "2020-07-02T00:00:00",
          "2020-07-03T00:00:00",
          "2020-07-04T00:00:00",
          "2020-07-05T00:00:00",
          "2020-07-06T00:00:00",
          "2020-07-07T00:00:00",
          "2020-07-08T00:00:00",
          "2020-07-09T00:00:00",
          "2020-07-10T00:00:00",
          "2020-07-11T00:00:00",
          "2020-07-12T00:00:00",
          "2020-07-13T00:00:00",
          "2020-07-14T00:00:00",
          "2020-07-15T00:00:00",
          "2020-07-16T00:00:00",
          "2020-07-17T00:00:00",
          "2020-07-18T00:00:00",
          "2020-07-19T00:00:00",
          "2020-07-20T00:00:00",
          "2020-07-21T00:00:00",
          "2020-07-22T00:00:00",
          "2020-07-23T00:00:00",
          "2020-07-24T00:00:00",
          "2020-07-25T00:00:00",
          "2020-07-26T00:00:00",
          "2020-07-27T00:00:00",
          "2020-07-28T00:00:00",
          "2020-07-29T00:00:00",
          "2020-07-30T00:00:00",
          "2020-07-31T00:00:00",
          "2020-08-01T00:00:00",
          "2020-08-02T00:00:00",
          "2020-08-03T00:00:00",
          "2020-08-04T00:00:00",
          "2020-08-05T00:00:00",
          "2020-08-06T00:00:00",
          "2020-08-07T00:00:00",
          "2020-08-08T00:00:00",
          "2020-08-09T00:00:00",
          "2020-08-10T00:00:00",
          "2020-08-11T00:00:00",
          "2020-08-12T00:00:00",
          "2020-08-13T00:00:00"
         ],
         "y": [
          0,
          0,
          0,
          0,
          0,
          0,
          0,
          0,
          0,
          0,
          0,
          0,
          0,
          0,
          0,
          0,
          0,
          0,
          0,
          0,
          0,
          0,
          0,
          0,
          0,
          0,
          0,
          0,
          0,
          0,
          0,
          0,
          0,
          0,
          0,
          0,
          0,
          0,
          0,
          0,
          0,
          1,
          -1,
          0,
          0,
          0,
          0,
          0,
          0,
          0,
          0,
          2,
          -2,
          0,
          4,
          3,
          -7,
          2,
          11,
          5,
          8,
          -26,
          24,
          24,
          3,
          63,
          -68,
          73,
          -46,
          24,
          52,
          -46,
          72,
          -22,
          -70,
          -72,
          132,
          63,
          18,
          87,
          -3,
          -42,
          59,
          -55,
          122,
          5,
          104,
          -57,
          -101,
          -82,
          154,
          52,
          111,
          -101,
          1,
          14,
          -100,
          9,
          55,
          84,
          -85,
          95,
          -48,
          -84,
          -52,
          121,
          20,
          -3,
          11,
          7,
          -106,
          -41,
          27,
          20,
          61,
          45,
          -95,
          -108,
          -65,
          94,
          122,
          -34,
          -10,
          -26,
          -147,
          80,
          -18,
          156,
          -48,
          -36,
          75,
          422,
          -557,
          157,
          106,
          -35,
          -2,
          -61,
          -20,
          -76,
          134,
          155,
          18,
          53,
          -88,
          11,
          -12,
          104,
          70,
          75,
          -62,
          -114,
          -51,
          150,
          106,
          51,
          119,
          -164,
          -33,
          -242,
          34,
          -46,
          227,
          -13,
          39,
          -83,
          -255,
          -16,
          266,
          -7,
          3,
          -6,
          -119,
          -68,
          8,
          202,
          13,
          -35,
          41,
          -123,
          -54,
          -3,
          154,
          33,
          130,
          140,
          -200,
          -109,
          99,
          114,
          174,
          -118,
          101,
          -53,
          -132,
          79,
          190,
          57,
          157,
          13,
          -283,
          -188,
          166,
          270,
          151
         ]
        }
       ],
       "layout": {
        "annotations": [
         {
          "showarrow": false,
          "text": "",
          "x": 0.5,
          "xref": "paper",
          "y": -0.15,
          "yref": "paper"
         }
        ],
        "height": 600,
        "legend": {
         "x": 0.05,
         "y": 0.98
        },
        "template": {
         "data": {
          "pie": [
           {
            "automargin": true,
            "type": "pie"
           }
          ]
         },
         "layout": {
          "xaxis": {
           "showgrid": true,
           "title": {
            "standoff": 15
           }
          },
          "yaxis": {
           "showgrid": true,
           "title": {
            "standoff": 15
           }
          }
         }
        },
        "title": {
         "text": "Украина: динамика новых заболевших COVID-19 по дням<br>(изменение относительно предыдущего дня)",
         "x": 0.5,
         "xanchor": "center",
         "y": 0.9,
         "yanchor": "bottom"
        },
        "width": 990,
        "xaxis": {
         "title": {
          "text": "Данные: Яндекс"
         }
        },
        "yaxis": {
         "title": {
          "text": " "
         }
        }
       }
      }
     },
     "metadata": {}
    }
   ],
   "source": [
    "mask = X.Country ==my_country\n",
    "#mask = (X.Date>datetime.date(2020,5,1))&(X.Region==my_region)\n",
    "Y = X[mask]\n",
    "\n",
    "Y['base'] = Y['Change_dayconf']*Y['Change_dayconf'].apply(lambda d:0 if d>0 else 1)\n",
    "Y['Date']= pd.to_datetime(Y.Date)\n",
    "fig = go.Figure()\n",
    "fig.add_trace(\n",
    "              go.Bar(x = Y.Date,y=Y.Change_dayconf,text = Y['Change_dayconf'],textposition = 'inside',\n",
    "                \n",
    "                #marker_color=Y['Change_dayconf'].apply(lambda d:'crimson' if d>0 else 'green'),\n",
    "                 marker_color = Y['Change_dayconf'],marker_colorscale = 'Temps',marker_colorbar ={'tickmode':'auto',\n",
    "                                    'title':{'text':'Изменение','side':'top'}}\n",
    "                    )   \n",
    "                )\n",
    "fig.update_layout(\n",
    "    annotations=[\n",
    "#         dict(\n",
    "#             x='2020-04-13',\n",
    "#             y=10594,\n",
    "#             xref=\"x\",\n",
    "#             yref=\"y\",\n",
    "#             text=\"Введение<br>пропускной<br>системы в Москве\",\n",
    "#             showarrow=True,\n",
    "#             arrowhead=2,\n",
    "#             ax=0,\n",
    "#             ay=-60),\n",
    "#         dict(\n",
    "#             x='2020-06-09',\n",
    "#             y=-429,\n",
    "#             xref=\"x\",\n",
    "#             yref=\"y\",\n",
    "#             text=\"Отмена<br>пропускной<br>системы в Москве\",\n",
    "#             showarrow=True,\n",
    "#             arrowhead=2,\n",
    "#             ax=0,\n",
    "#             ay=60),\n",
    "        \n",
    "        dict(x=0.5,y=-0.15,\n",
    "            showarrow=False,\n",
    "            text=\"\",\n",
    "            xref=\"paper\",\n",
    "            yref=\"paper\")],\n",
    "                  title=f'{my_country}: динамика новых заболевших COVID-19 по дням<br>(изменение относительно предыдущего дня)',\n",
    "                  title_x = 0.5,\n",
    "                  title_y= 0.9,\n",
    "                  title_xanchor = \"center\",\n",
    "                  title_yanchor = \"bottom\", \n",
    "                  legend_x = 0.05,legend_y = 0.98,\n",
    "                  width = 990, height = 600,template = 'gridon',\n",
    "    \n",
    "    \n",
    "                  xaxis_title='Данные: Яндекс',\n",
    "    yaxis_title = ' '\n",
    ")\n",
    "\n",
    "\n",
    "fig.show()\n"
   ]
  },
  {
   "cell_type": "code",
   "execution_count": 10,
   "metadata": {},
   "outputs": [
    {
     "output_type": "display_data",
     "data": {
      "application/vnd.plotly.v1+json": {
       "config": {
        "plotlyServerURL": "https://plot.ly"
       },
       "data": [
        {
         "alignmentgroup": "True",
         "hovertemplate": "Date=%{x}<br>Текущие больные=%{marker.color}<extra></extra>",
         "legendgroup": "",
         "marker": {
          "color": [
           0,
           0,
           0,
           0,
           0,
           0,
           0,
           0,
           0,
           0,
           0,
           0,
           0,
           0,
           0,
           0,
           0,
           0,
           0,
           0,
           0,
           0,
           0,
           0,
           0,
           0,
           0,
           0,
           0,
           0,
           0,
           0,
           0,
           0,
           0,
           0,
           0,
           0,
           0,
           0,
           0,
           1,
           1,
           1,
           1,
           1,
           1,
           1,
           1,
           1,
           1,
           2,
           2,
           2,
           6,
           12,
           12,
           14,
           26,
           43,
           69,
           69,
           93,
           139,
           190,
           300,
           342,
           459,
           527,
           618,
           761,
           856,
           1023,
           1168,
           1243,
           1253,
           1389,
           1581,
           1790,
           2073,
           2359,
           2605,
           2912,
           3155,
           3513,
           3859,
           4291,
           4698,
           4961,
           5200,
           5597,
           5994,
           6479,
           6664,
           7142,
           7568,
           7925,
           8179,
           8513,
           8907,
           9176,
           9634,
           10077,
           10409,
           10506,
           10760,
           10955,
           11128,
           11425,
           11781,
           11952,
           12225,
           12270,
           12248,
           12381,
           12455,
           12661,
           12805,
           12696,
           12711,
           12900,
           12975,
           13046,
           13261,
           13388,
           13365,
           13252,
           13274,
           13198,
           13197,
           13426,
           13785,
           13701,
           13805,
           13758,
           13957,
           14051,
           14290,
           14615,
           14769,
           14917,
           15200,
           15460,
           15798,
           16356,
           16854,
           17233,
           17548,
           17856,
           18172,
           18637,
           19271,
           19823,
           20318,
           20782,
           21411,
           21951,
           22461,
           23129,
           23698,
           24289,
           24492,
           24866,
           25182,
           25478,
           26072,
           26313,
           26353,
           26222,
           26335,
           26120,
           26039,
           26276,
           26514,
           26481,
           26330,
           26356,
           26318,
           26358,
           26737,
           26853,
           26731,
           26566,
           26564,
           26650,
           27134,
           27751,
           28258,
           28528,
           28882,
           29276,
           29742,
           30360,
           31257,
           31922,
           32243,
           32572,
           32857,
           33770,
           34622,
           35507,
           36139,
           36731,
           37421,
           38435
          ],
          "coloraxis": "coloraxis"
         },
         "name": "",
         "offsetgroup": "",
         "orientation": "v",
         "showlegend": false,
         "text": [
          0,
          0,
          0,
          0,
          0,
          0,
          0,
          0,
          0,
          0,
          0,
          0,
          0,
          0,
          0,
          0,
          0,
          0,
          0,
          0,
          0,
          0,
          0,
          0,
          0,
          0,
          0,
          0,
          0,
          0,
          0,
          0,
          0,
          0,
          0,
          0,
          0,
          0,
          0,
          0,
          0,
          1,
          1,
          1,
          1,
          1,
          1,
          1,
          1,
          1,
          1,
          2,
          2,
          2,
          6,
          12,
          12,
          14,
          26,
          43,
          69,
          69,
          93,
          139,
          190,
          300,
          342,
          459,
          527,
          618,
          761,
          856,
          1023,
          1168,
          1243,
          1253,
          1389,
          1581,
          1790,
          2073,
          2359,
          2605,
          2912,
          3155,
          3513,
          3859,
          4291,
          4698,
          4961,
          5200,
          5597,
          5994,
          6479,
          6664,
          7142,
          7568,
          7925,
          8179,
          8513,
          8907,
          9176,
          9634,
          10077,
          10409,
          10506,
          10760,
          10955,
          11128,
          11425,
          11781,
          11952,
          12225,
          12270,
          12248,
          12381,
          12455,
          12661,
          12805,
          12696,
          12711,
          12900,
          12975,
          13046,
          13261,
          13388,
          13365,
          13252,
          13274,
          13198,
          13197,
          13426,
          13785,
          13701,
          13805,
          13758,
          13957,
          14051,
          14290,
          14615,
          14769,
          14917,
          15200,
          15460,
          15798,
          16356,
          16854,
          17233,
          17548,
          17856,
          18172,
          18637,
          19271,
          19823,
          20318,
          20782,
          21411,
          21951,
          22461,
          23129,
          23698,
          24289,
          24492,
          24866,
          25182,
          25478,
          26072,
          26313,
          26353,
          26222,
          26335,
          26120,
          26039,
          26276,
          26514,
          26481,
          26330,
          26356,
          26318,
          26358,
          26737,
          26853,
          26731,
          26566,
          26564,
          26650,
          27134,
          27751,
          28258,
          28528,
          28882,
          29276,
          29742,
          30360,
          31257,
          31922,
          32243,
          32572,
          32857,
          33770,
          34622,
          35507,
          36139,
          36731,
          37421,
          38435
         ],
         "textposition": "auto",
         "type": "bar",
         "x": [
          "2020-01-22",
          "2020-01-23",
          "2020-01-24",
          "2020-01-25",
          "2020-01-26",
          "2020-01-27",
          "2020-01-28",
          "2020-01-29",
          "2020-01-30",
          "2020-01-31",
          "2020-02-01",
          "2020-02-02",
          "2020-02-03",
          "2020-02-04",
          "2020-02-05",
          "2020-02-06",
          "2020-02-07",
          "2020-02-08",
          "2020-02-09",
          "2020-02-10",
          "2020-02-11",
          "2020-02-12",
          "2020-02-13",
          "2020-02-14",
          "2020-02-15",
          "2020-02-16",
          "2020-02-17",
          "2020-02-18",
          "2020-02-19",
          "2020-02-20",
          "2020-02-21",
          "2020-02-22",
          "2020-02-23",
          "2020-02-24",
          "2020-02-25",
          "2020-02-26",
          "2020-02-27",
          "2020-02-28",
          "2020-02-29",
          "2020-03-01",
          "2020-03-02",
          "2020-03-03",
          "2020-03-04",
          "2020-03-05",
          "2020-03-06",
          "2020-03-07",
          "2020-03-08",
          "2020-03-09",
          "2020-03-10",
          "2020-03-11",
          "2020-03-12",
          "2020-03-13",
          "2020-03-14",
          "2020-03-15",
          "2020-03-16",
          "2020-03-17",
          "2020-03-18",
          "2020-03-19",
          "2020-03-20",
          "2020-03-21",
          "2020-03-22",
          "2020-03-23",
          "2020-03-24",
          "2020-03-25",
          "2020-03-26",
          "2020-03-27",
          "2020-03-28",
          "2020-03-29",
          "2020-03-30",
          "2020-03-31",
          "2020-04-01",
          "2020-04-02",
          "2020-04-03",
          "2020-04-04",
          "2020-04-05",
          "2020-04-06",
          "2020-04-07",
          "2020-04-08",
          "2020-04-09",
          "2020-04-10",
          "2020-04-11",
          "2020-04-12",
          "2020-04-13",
          "2020-04-14",
          "2020-04-15",
          "2020-04-16",
          "2020-04-17",
          "2020-04-18",
          "2020-04-19",
          "2020-04-20",
          "2020-04-21",
          "2020-04-22",
          "2020-04-23",
          "2020-04-24",
          "2020-04-25",
          "2020-04-26",
          "2020-04-27",
          "2020-04-28",
          "2020-04-29",
          "2020-04-30",
          "2020-05-01",
          "2020-05-02",
          "2020-05-03",
          "2020-05-04",
          "2020-05-05",
          "2020-05-06",
          "2020-05-07",
          "2020-05-08",
          "2020-05-09",
          "2020-05-10",
          "2020-05-11",
          "2020-05-12",
          "2020-05-13",
          "2020-05-14",
          "2020-05-15",
          "2020-05-16",
          "2020-05-17",
          "2020-05-18",
          "2020-05-19",
          "2020-05-20",
          "2020-05-21",
          "2020-05-22",
          "2020-05-23",
          "2020-05-24",
          "2020-05-25",
          "2020-05-26",
          "2020-05-27",
          "2020-05-28",
          "2020-05-29",
          "2020-05-30",
          "2020-05-31",
          "2020-06-01",
          "2020-06-02",
          "2020-06-03",
          "2020-06-04",
          "2020-06-05",
          "2020-06-06",
          "2020-06-07",
          "2020-06-08",
          "2020-06-09",
          "2020-06-10",
          "2020-06-11",
          "2020-06-12",
          "2020-06-13",
          "2020-06-14",
          "2020-06-15",
          "2020-06-16",
          "2020-06-17",
          "2020-06-18",
          "2020-06-19",
          "2020-06-20",
          "2020-06-21",
          "2020-06-22",
          "2020-06-23",
          "2020-06-24",
          "2020-06-25",
          "2020-06-26",
          "2020-06-27",
          "2020-06-28",
          "2020-06-29",
          "2020-06-30",
          "2020-07-01",
          "2020-07-02",
          "2020-07-03",
          "2020-07-04",
          "2020-07-05",
          "2020-07-06",
          "2020-07-07",
          "2020-07-08",
          "2020-07-09",
          "2020-07-10",
          "2020-07-11",
          "2020-07-12",
          "2020-07-13",
          "2020-07-14",
          "2020-07-15",
          "2020-07-16",
          "2020-07-17",
          "2020-07-18",
          "2020-07-19",
          "2020-07-20",
          "2020-07-21",
          "2020-07-22",
          "2020-07-23",
          "2020-07-24",
          "2020-07-25",
          "2020-07-26",
          "2020-07-27",
          "2020-07-28",
          "2020-07-29",
          "2020-07-30",
          "2020-07-31",
          "2020-08-01",
          "2020-08-02",
          "2020-08-03",
          "2020-08-04",
          "2020-08-05",
          "2020-08-06",
          "2020-08-07",
          "2020-08-08",
          "2020-08-09",
          "2020-08-10",
          "2020-08-11",
          "2020-08-12",
          "2020-08-13"
         ],
         "xaxis": "x",
         "y": [
          0,
          0,
          0,
          0,
          0,
          0,
          0,
          0,
          0,
          0,
          0,
          0,
          0,
          0,
          0,
          0,
          0,
          0,
          0,
          0,
          0,
          0,
          0,
          0,
          0,
          0,
          0,
          0,
          0,
          0,
          0,
          0,
          0,
          0,
          0,
          0,
          0,
          0,
          0,
          0,
          0,
          1,
          1,
          1,
          1,
          1,
          1,
          1,
          1,
          1,
          1,
          2,
          2,
          2,
          6,
          12,
          12,
          14,
          26,
          43,
          69,
          69,
          93,
          139,
          190,
          300,
          342,
          459,
          527,
          618,
          761,
          856,
          1023,
          1168,
          1243,
          1253,
          1389,
          1581,
          1790,
          2073,
          2359,
          2605,
          2912,
          3155,
          3513,
          3859,
          4291,
          4698,
          4961,
          5200,
          5597,
          5994,
          6479,
          6664,
          7142,
          7568,
          7925,
          8179,
          8513,
          8907,
          9176,
          9634,
          10077,
          10409,
          10506,
          10760,
          10955,
          11128,
          11425,
          11781,
          11952,
          12225,
          12270,
          12248,
          12381,
          12455,
          12661,
          12805,
          12696,
          12711,
          12900,
          12975,
          13046,
          13261,
          13388,
          13365,
          13252,
          13274,
          13198,
          13197,
          13426,
          13785,
          13701,
          13805,
          13758,
          13957,
          14051,
          14290,
          14615,
          14769,
          14917,
          15200,
          15460,
          15798,
          16356,
          16854,
          17233,
          17548,
          17856,
          18172,
          18637,
          19271,
          19823,
          20318,
          20782,
          21411,
          21951,
          22461,
          23129,
          23698,
          24289,
          24492,
          24866,
          25182,
          25478,
          26072,
          26313,
          26353,
          26222,
          26335,
          26120,
          26039,
          26276,
          26514,
          26481,
          26330,
          26356,
          26318,
          26358,
          26737,
          26853,
          26731,
          26566,
          26564,
          26650,
          27134,
          27751,
          28258,
          28528,
          28882,
          29276,
          29742,
          30360,
          31257,
          31922,
          32243,
          32572,
          32857,
          33770,
          34622,
          35507,
          36139,
          36731,
          37421,
          38435
         ],
         "yaxis": "y"
        },
        {
         "line": {
          "color": "green"
         },
         "mode": "lines",
         "name": "14-дневная скользящая средняя",
         "showlegend": true,
         "type": "scatter",
         "x": [
          "2020-01-22",
          "2020-01-23",
          "2020-01-24",
          "2020-01-25",
          "2020-01-26",
          "2020-01-27",
          "2020-01-28",
          "2020-01-29",
          "2020-01-30",
          "2020-01-31",
          "2020-02-01",
          "2020-02-02",
          "2020-02-03",
          "2020-02-04",
          "2020-02-05",
          "2020-02-06",
          "2020-02-07",
          "2020-02-08",
          "2020-02-09",
          "2020-02-10",
          "2020-02-11",
          "2020-02-12",
          "2020-02-13",
          "2020-02-14",
          "2020-02-15",
          "2020-02-16",
          "2020-02-17",
          "2020-02-18",
          "2020-02-19",
          "2020-02-20",
          "2020-02-21",
          "2020-02-22",
          "2020-02-23",
          "2020-02-24",
          "2020-02-25",
          "2020-02-26",
          "2020-02-27",
          "2020-02-28",
          "2020-02-29",
          "2020-03-01",
          "2020-03-02",
          "2020-03-03",
          "2020-03-04",
          "2020-03-05",
          "2020-03-06",
          "2020-03-07",
          "2020-03-08",
          "2020-03-09",
          "2020-03-10",
          "2020-03-11",
          "2020-03-12",
          "2020-03-13",
          "2020-03-14",
          "2020-03-15",
          "2020-03-16",
          "2020-03-17",
          "2020-03-18",
          "2020-03-19",
          "2020-03-20",
          "2020-03-21",
          "2020-03-22",
          "2020-03-23",
          "2020-03-24",
          "2020-03-25",
          "2020-03-26",
          "2020-03-27",
          "2020-03-28",
          "2020-03-29",
          "2020-03-30",
          "2020-03-31",
          "2020-04-01",
          "2020-04-02",
          "2020-04-03",
          "2020-04-04",
          "2020-04-05",
          "2020-04-06",
          "2020-04-07",
          "2020-04-08",
          "2020-04-09",
          "2020-04-10",
          "2020-04-11",
          "2020-04-12",
          "2020-04-13",
          "2020-04-14",
          "2020-04-15",
          "2020-04-16",
          "2020-04-17",
          "2020-04-18",
          "2020-04-19",
          "2020-04-20",
          "2020-04-21",
          "2020-04-22",
          "2020-04-23",
          "2020-04-24",
          "2020-04-25",
          "2020-04-26",
          "2020-04-27",
          "2020-04-28",
          "2020-04-29",
          "2020-04-30",
          "2020-05-01",
          "2020-05-02",
          "2020-05-03",
          "2020-05-04",
          "2020-05-05",
          "2020-05-06",
          "2020-05-07",
          "2020-05-08",
          "2020-05-09",
          "2020-05-10",
          "2020-05-11",
          "2020-05-12",
          "2020-05-13",
          "2020-05-14",
          "2020-05-15",
          "2020-05-16",
          "2020-05-17",
          "2020-05-18",
          "2020-05-19",
          "2020-05-20",
          "2020-05-21",
          "2020-05-22",
          "2020-05-23",
          "2020-05-24",
          "2020-05-25",
          "2020-05-26",
          "2020-05-27",
          "2020-05-28",
          "2020-05-29",
          "2020-05-30",
          "2020-05-31",
          "2020-06-01",
          "2020-06-02",
          "2020-06-03",
          "2020-06-04",
          "2020-06-05",
          "2020-06-06",
          "2020-06-07",
          "2020-06-08",
          "2020-06-09",
          "2020-06-10",
          "2020-06-11",
          "2020-06-12",
          "2020-06-13",
          "2020-06-14",
          "2020-06-15",
          "2020-06-16",
          "2020-06-17",
          "2020-06-18",
          "2020-06-19",
          "2020-06-20",
          "2020-06-21",
          "2020-06-22",
          "2020-06-23",
          "2020-06-24",
          "2020-06-25",
          "2020-06-26",
          "2020-06-27",
          "2020-06-28",
          "2020-06-29",
          "2020-06-30",
          "2020-07-01",
          "2020-07-02",
          "2020-07-03",
          "2020-07-04",
          "2020-07-05",
          "2020-07-06",
          "2020-07-07",
          "2020-07-08",
          "2020-07-09",
          "2020-07-10",
          "2020-07-11",
          "2020-07-12",
          "2020-07-13",
          "2020-07-14",
          "2020-07-15",
          "2020-07-16",
          "2020-07-17",
          "2020-07-18",
          "2020-07-19",
          "2020-07-20",
          "2020-07-21",
          "2020-07-22",
          "2020-07-23",
          "2020-07-24",
          "2020-07-25",
          "2020-07-26",
          "2020-07-27",
          "2020-07-28",
          "2020-07-29",
          "2020-07-30",
          "2020-07-31",
          "2020-08-01",
          "2020-08-02",
          "2020-08-03",
          "2020-08-04",
          "2020-08-05",
          "2020-08-06",
          "2020-08-07",
          "2020-08-08",
          "2020-08-09",
          "2020-08-10",
          "2020-08-11",
          "2020-08-12",
          "2020-08-13"
         ],
         "y": [
          null,
          null,
          null,
          null,
          null,
          null,
          null,
          null,
          null,
          null,
          null,
          null,
          null,
          0,
          0,
          0,
          0,
          0,
          0,
          0,
          0,
          0,
          0,
          0,
          0,
          0,
          0,
          0,
          0,
          0,
          0,
          0,
          0,
          0,
          0,
          0,
          0,
          0,
          0,
          0,
          0,
          0.07142857142857142,
          0.14285714285714285,
          0.21428571428571427,
          0.2857142857142857,
          0.35714285714285715,
          0.42857142857142855,
          0.5,
          0.5714285714285714,
          0.6428571428571429,
          0.7142857142857143,
          0.8571428571428571,
          1,
          1.1428571428571428,
          1.5714285714285714,
          2.357142857142857,
          3.1428571428571432,
          4.071428571428571,
          5.857142857142858,
          8.857142857142858,
          13.714285714285715,
          18.571428571428573,
          25.142857142857146,
          35,
          48.5,
          69.78571428571429,
          94.07142857142857,
          126.71428571428572,
          163.92857142857142,
          207.2142857142857,
          260.7142857142857,
          320.85714285714283,
          392.07142857142856,
          472.4285714285714,
          556.2857142857143,
          640.8571428571429,
          733.4285714285713,
          836.4285714285713,
          950.7142857142856,
          1077.357142857143,
          1221.4285714285713,
          1374.7142857142858,
          1545.071428571429,
          1726.2857142857142,
          1922.857142857143,
          2137.3571428571427,
          2370.785714285714,
          2622.928571428572,
          2888.5,
          3170.4285714285716,
          3471,
          3786.214285714286,
          4121.142857142857,
          4449.071428571428,
          4790.714285714285,
          5145.214285714285,
          5503.285714285716,
          5862.142857142857,
          6219.285714285716,
          6579.857142857143,
          6928.785714285716,
          7281.357142857143,
          7646.785714285716,
          8018.857142857143,
          8369.5,
          8709.92857142857,
          9029.642857142857,
          9348.5,
          9654.42857142857,
          9955.357142857143,
          10243,
          10532,
          10800.357142857143,
          11039,
          11267.928571428569,
          11469.428571428569,
          11654,
          11825.142857142857,
          11981.571428571431,
          12120.928571428569,
          12259.857142857143,
          12391.785714285714,
          12507.571428571431,
          12613.285714285714,
          12715.857142857143,
          12797.285714285714,
          12867.428571428569,
          12940.714285714286,
          12999.071428571431,
          13052.071428571431,
          13106.714285714286,
          13176.714285714286,
          13248.5,
          13326.642857142857,
          13387.928571428569,
          13458.071428571431,
          13529.857142857143,
          13603.357142857143,
          13691,
          13791.285714285714,
          13910.214285714286,
          14047.785714285714,
          14209.357142857143,
          14395.142857142857,
          14604.428571428569,
          14823.642857142857,
          15075.928571428569,
          15343.285714285714,
          15636,
          15937.071428571431,
          16264.642857142857,
          16620.428571428572,
          16992.428571428572,
          17388.785714285714,
          17807.714285714286,
          18251.35714285714,
          18715,
          19190.928571428565,
          19674.714285714286,
          20163.571428571428,
          20667.571428571428,
          21163.571428571428,
          21664.285714285714,
          22165,
          22653.642857142862,
          23139.42857142857,
          23603,
          24034.071428571428,
          24422.642857142862,
          24774.357142857138,
          25072.142857142862,
          25327.714285714286,
          25552.5,
          25753.642857142862,
          25910.214285714286,
          26041.5,
          26147.92857142857,
          26229.071428571428,
          26291.92857142857,
          26339.42857142857,
          26378,
          26405,
          26429.571428571428,
          26445.92857142857,
          26483.785714285717,
          26562,
          26667.357142857138,
          26791.92857142857,
          26938.142857142862,
          27120.42857142857,
          27329,
          27573.571428571428,
          27859.42857142857,
          28182.285714285717,
          28544.357142857138,
          28938.071428571428,
          29367.071428571428,
          29816.571428571428,
          30325.142857142862,
          30860,
          31414,
          31976.92857142857,
          32562.857142857138,
          33172.78571428572,
          33827
         ]
        },
        {
         "line": {
          "color": "red"
         },
         "mode": "lines",
         "name": "7-дневная скользящая средняя",
         "showlegend": true,
         "type": "scatter",
         "x": [
          "2020-01-22",
          "2020-01-23",
          "2020-01-24",
          "2020-01-25",
          "2020-01-26",
          "2020-01-27",
          "2020-01-28",
          "2020-01-29",
          "2020-01-30",
          "2020-01-31",
          "2020-02-01",
          "2020-02-02",
          "2020-02-03",
          "2020-02-04",
          "2020-02-05",
          "2020-02-06",
          "2020-02-07",
          "2020-02-08",
          "2020-02-09",
          "2020-02-10",
          "2020-02-11",
          "2020-02-12",
          "2020-02-13",
          "2020-02-14",
          "2020-02-15",
          "2020-02-16",
          "2020-02-17",
          "2020-02-18",
          "2020-02-19",
          "2020-02-20",
          "2020-02-21",
          "2020-02-22",
          "2020-02-23",
          "2020-02-24",
          "2020-02-25",
          "2020-02-26",
          "2020-02-27",
          "2020-02-28",
          "2020-02-29",
          "2020-03-01",
          "2020-03-02",
          "2020-03-03",
          "2020-03-04",
          "2020-03-05",
          "2020-03-06",
          "2020-03-07",
          "2020-03-08",
          "2020-03-09",
          "2020-03-10",
          "2020-03-11",
          "2020-03-12",
          "2020-03-13",
          "2020-03-14",
          "2020-03-15",
          "2020-03-16",
          "2020-03-17",
          "2020-03-18",
          "2020-03-19",
          "2020-03-20",
          "2020-03-21",
          "2020-03-22",
          "2020-03-23",
          "2020-03-24",
          "2020-03-25",
          "2020-03-26",
          "2020-03-27",
          "2020-03-28",
          "2020-03-29",
          "2020-03-30",
          "2020-03-31",
          "2020-04-01",
          "2020-04-02",
          "2020-04-03",
          "2020-04-04",
          "2020-04-05",
          "2020-04-06",
          "2020-04-07",
          "2020-04-08",
          "2020-04-09",
          "2020-04-10",
          "2020-04-11",
          "2020-04-12",
          "2020-04-13",
          "2020-04-14",
          "2020-04-15",
          "2020-04-16",
          "2020-04-17",
          "2020-04-18",
          "2020-04-19",
          "2020-04-20",
          "2020-04-21",
          "2020-04-22",
          "2020-04-23",
          "2020-04-24",
          "2020-04-25",
          "2020-04-26",
          "2020-04-27",
          "2020-04-28",
          "2020-04-29",
          "2020-04-30",
          "2020-05-01",
          "2020-05-02",
          "2020-05-03",
          "2020-05-04",
          "2020-05-05",
          "2020-05-06",
          "2020-05-07",
          "2020-05-08",
          "2020-05-09",
          "2020-05-10",
          "2020-05-11",
          "2020-05-12",
          "2020-05-13",
          "2020-05-14",
          "2020-05-15",
          "2020-05-16",
          "2020-05-17",
          "2020-05-18",
          "2020-05-19",
          "2020-05-20",
          "2020-05-21",
          "2020-05-22",
          "2020-05-23",
          "2020-05-24",
          "2020-05-25",
          "2020-05-26",
          "2020-05-27",
          "2020-05-28",
          "2020-05-29",
          "2020-05-30",
          "2020-05-31",
          "2020-06-01",
          "2020-06-02",
          "2020-06-03",
          "2020-06-04",
          "2020-06-05",
          "2020-06-06",
          "2020-06-07",
          "2020-06-08",
          "2020-06-09",
          "2020-06-10",
          "2020-06-11",
          "2020-06-12",
          "2020-06-13",
          "2020-06-14",
          "2020-06-15",
          "2020-06-16",
          "2020-06-17",
          "2020-06-18",
          "2020-06-19",
          "2020-06-20",
          "2020-06-21",
          "2020-06-22",
          "2020-06-23",
          "2020-06-24",
          "2020-06-25",
          "2020-06-26",
          "2020-06-27",
          "2020-06-28",
          "2020-06-29",
          "2020-06-30",
          "2020-07-01",
          "2020-07-02",
          "2020-07-03",
          "2020-07-04",
          "2020-07-05",
          "2020-07-06",
          "2020-07-07",
          "2020-07-08",
          "2020-07-09",
          "2020-07-10",
          "2020-07-11",
          "2020-07-12",
          "2020-07-13",
          "2020-07-14",
          "2020-07-15",
          "2020-07-16",
          "2020-07-17",
          "2020-07-18",
          "2020-07-19",
          "2020-07-20",
          "2020-07-21",
          "2020-07-22",
          "2020-07-23",
          "2020-07-24",
          "2020-07-25",
          "2020-07-26",
          "2020-07-27",
          "2020-07-28",
          "2020-07-29",
          "2020-07-30",
          "2020-07-31",
          "2020-08-01",
          "2020-08-02",
          "2020-08-03",
          "2020-08-04",
          "2020-08-05",
          "2020-08-06",
          "2020-08-07",
          "2020-08-08",
          "2020-08-09",
          "2020-08-10",
          "2020-08-11",
          "2020-08-12",
          "2020-08-13"
         ],
         "y": [
          null,
          null,
          null,
          null,
          null,
          null,
          0,
          0,
          0,
          0,
          0,
          0,
          0,
          0,
          0,
          0,
          0,
          0,
          0,
          0,
          0,
          0,
          0,
          0,
          0,
          0,
          0,
          0,
          0,
          0,
          0,
          0,
          0,
          0,
          0,
          0,
          0,
          0,
          0,
          0,
          0,
          0.14285714285714285,
          0.2857142857142857,
          0.42857142857142855,
          0.5714285714285714,
          0.7142857142857143,
          0.8571428571428571,
          1,
          1,
          1,
          1,
          1.1428571428571428,
          1.2857142857142858,
          1.4285714285714286,
          2.142857142857143,
          3.7142857142857135,
          5.285714285714286,
          7.142857142857142,
          10.571428571428571,
          16.428571428571427,
          26,
          35,
          46.57142857142857,
          64.71428571428571,
          89.85714285714286,
          129,
          171.71428571428572,
          227.42857142857144,
          292.85714285714283,
          367.8571428571428,
          456.71428571428567,
          551.8571428571429,
          655.1428571428571,
          773.1428571428571,
          885.1428571428571,
          988.8571428571428,
          1099,
          1216.142857142857,
          1349.5714285714287,
          1499.571428571429,
          1669.7142857142858,
          1864.2857142857144,
          2101.285714285714,
          2353.5714285714284,
          2629.5714285714284,
          2925.142857142857,
          3242,
          3576.142857142857,
          3912.714285714286,
          4239.571428571428,
          4588.428571428572,
          4942.857142857143,
          5317.142857142857,
          5656.142857142857,
          6005.285714285716,
          6377.714285714284,
          6767,
          7135.857142857143,
          7495.714285714284,
          7842.571428571428,
          8201.42857142857,
          8557.42857142857,
          8915.857142857143,
          9270.714285714286,
          9603.142857142857,
          9924.142857142857,
          10216.714285714286,
          10495.57142857143,
          10751.42857142857,
          10994.857142857143,
          11215.285714285714,
          11460.857142857143,
          11676.571428571431,
          11861.285714285714,
          12040.285714285714,
          12187.428571428569,
          12313.142857142857,
          12435,
          12502.285714285714,
          12565.285714285714,
          12658.428571428569,
          12743.285714285714,
          12827.714285714286,
          12913.428571428569,
          12996.714285714286,
          13092.285714285714,
          13169.571428571431,
          13223,
          13254.857142857143,
          13276.428571428569,
          13300,
          13356.714285714286,
          13404.714285714286,
          13483.714285714286,
          13552.857142857143,
          13661.285714285714,
          13783.285714285714,
          13906.714285714286,
          14025.285714285714,
          14177.857142857143,
          14336.714285714286,
          14542.714285714286,
          14757.428571428569,
          15007,
          15302.142857142857,
          15622,
          15974,
          16349.857142857143,
          16729.285714285714,
          17116.714285714286,
          17522.285714285714,
          17938.714285714286,
          18362.85714285714,
          18803.571428571428,
          19265.571428571428,
          19773.428571428565,
          20313.285714285714,
          20859.571428571428,
          21410.714285714286,
          21964.285714285714,
          22531.571428571428,
          23061.571428571428,
          23555.142857142862,
          24016.714285714286,
          24447.714285714286,
          24868.142857142862,
          25241.714285714286,
          25536.571428571428,
          25783.714285714286,
          25993.571428571428,
          26127.571428571428,
          26207.714285714286,
          26236.857142857138,
          26265.571428571428,
          26283.857142857138,
          26299.285714285717,
          26302.285714285717,
          26330.571428571428,
          26376.142857142862,
          26442,
          26490.42857142857,
          26526.142857142862,
          26559.857142857138,
          26589.571428571428,
          26637,
          26747.857142857138,
          26892.714285714286,
          27093.42857142857,
          27350.142857142862,
          27681,
          28068.42857142857,
          28510.142857142862,
          28971,
          29471.857142857138,
          29995.285714285717,
          30526,
          31053.142857142862,
          31564.714285714286,
          32140.142857142862,
          32749,
          33356.142857142855,
          33958.57142857143,
          34599.71428571428,
          35292.42857142857,
          36089.28571428572
         ]
        }
       ],
       "layout": {
        "annotations": [
         {
          "showarrow": false,
          "text": "",
          "x": 0.5,
          "xref": "paper",
          "y": -0.15,
          "yref": "paper"
         }
        ],
        "barmode": "relative",
        "coloraxis": {
         "colorbar": {
          "title": {
           "text": "Текущие больные"
          }
         },
         "colorscale": [
          [
           0,
           "rgb(243, 224, 247)"
          ],
          [
           0.16666666666666666,
           "rgb(228, 199, 241)"
          ],
          [
           0.3333333333333333,
           "rgb(209, 175, 232)"
          ],
          [
           0.5,
           "rgb(185, 152, 221)"
          ],
          [
           0.6666666666666666,
           "rgb(159, 130, 206)"
          ],
          [
           0.8333333333333334,
           "rgb(130, 109, 186)"
          ],
          [
           1,
           "rgb(99, 88, 159)"
          ]
         ]
        },
        "height": 600,
        "legend": {
         "tracegroupgap": 0,
         "x": 0.15,
         "y": 0.98
        },
        "template": {
         "data": {
          "pie": [
           {
            "automargin": true,
            "type": "pie"
           }
          ]
         },
         "layout": {
          "xaxis": {
           "showgrid": true,
           "title": {
            "standoff": 15
           }
          },
          "yaxis": {
           "showgrid": true,
           "title": {
            "standoff": 15
           }
          }
         }
        },
        "title": {
         "text": "Украина: график количества текущих больных COVID-19 по датам",
         "x": 0.5,
         "xanchor": "center",
         "y": 0.9,
         "yanchor": "bottom"
        },
        "width": 990,
        "xaxis": {
         "anchor": "y",
         "domain": [
          0,
          1
         ],
         "title": {
          "text": "Текущие больные = количество выявленных - количество выздоровевших - количество умерших<br>Данные: Яндекс"
         }
        },
        "yaxis": {
         "anchor": "x",
         "domain": [
          0,
          1
         ],
         "title": {
          "text": " "
         }
        }
       }
      }
     },
     "metadata": {}
    }
   ],
   "source": [
    "mask = X.Country ==my_country\n",
    "#mask = (X.Date>'2020-05-01')&(X.Region.isin(regions_towatch))\n",
    "\n",
    "fig = px.bar(X[mask], x='Date', y=\"Remaining_ill\",color ='Remaining_ill',\n",
    "             title=f'{my_country}: '+'график количества текущих больных COVID-19 по датам',\n",
    "              color_continuous_scale= px.colors.sequential.Purp,text = 'Remaining_ill',\n",
    "            labels = {'Day_confirmed' : \"Новые заболевшие\",'Remaining_ill':'Текущие больные'})\n",
    "fig.add_trace(\n",
    "    go.Scatter(\n",
    "        name='14-дневная скользящая средняя',\n",
    "        x=X[mask].Date,\n",
    "        y=X[mask]['MA14_remaining_ill'],\n",
    "        mode=\"lines\",\n",
    "        \n",
    "        line=go.scatter.Line(color=\"green\"),\n",
    "        showlegend=True)\n",
    ")\n",
    "\n",
    "fig.add_trace(\n",
    "    go.Scatter(\n",
    "        name = '7-дневная скользящая средняя',\n",
    "        x=X[mask].Date,\n",
    "        y=X[mask]['MA7_remaining_ill'],\n",
    "        mode=\"lines\",\n",
    "        \n",
    "        line=go.scatter.Line(color=\"red\"),\n",
    "        showlegend=True)\n",
    ")\n",
    "fig.update_layout(\n",
    "    annotations=[\n",
    "#         dict(\n",
    "#             x='2020-04-13',\n",
    "#             y=10594,\n",
    "#             xref=\"x\",\n",
    "#             yref=\"y\",\n",
    "#             text=\"Введение<br>пропускной<br>системы в Москве\",\n",
    "#             showarrow=True,\n",
    "#             arrowhead=2,\n",
    "#             ax=0,\n",
    "#             ay=-60),\n",
    "#         dict(\n",
    "#             x='2020-06-09',\n",
    "#             y=85824,\n",
    "#             xref=\"x\",\n",
    "#             yref=\"y\",\n",
    "#             text=\"Отмена<br>пропускной<br>системы в Москве\",\n",
    "#             showarrow=True,\n",
    "#             arrowhead=2,\n",
    "#             ax=0,\n",
    "#             ay=-60),\n",
    "        \n",
    "        dict(x=0.5,y=-0.15,\n",
    "            showarrow=False,\n",
    "            text=\"\",\n",
    "            xref=\"paper\",\n",
    "            yref=\"paper\")],\n",
    "                  title_x = 0.5,\n",
    "                  title_y= 0.9,\n",
    "                  title_xanchor = \"center\",\n",
    "                  title_yanchor = \"bottom\", \n",
    "                  legend_x = 0.15,legend_y = 0.98,\n",
    "                  width = 990, height = 600,template = 'gridon',\n",
    "    \n",
    "    \n",
    "                  xaxis_title='Текущие больные = количество выявленных - количество выздоровевших - количество умерших'+\n",
    "                                '<br>Данные: Яндекс',\n",
    "    yaxis_title = ' '\n",
    ")\n",
    "\n",
    "\n",
    "fig.show()\n"
   ]
  },
  {
   "cell_type": "code",
   "execution_count": 11,
   "metadata": {},
   "outputs": [
    {
     "output_type": "display_data",
     "data": {
      "application/vnd.plotly.v1+json": {
       "config": {
        "plotlyServerURL": "https://plot.ly"
       },
       "data": [
        {
         "marker": {
          "color": [
           0,
           0,
           0,
           0,
           0,
           0,
           0,
           0,
           0,
           0,
           0,
           0,
           0,
           0,
           0,
           0,
           0,
           0,
           0,
           0,
           0,
           0,
           0,
           0,
           0,
           0,
           0,
           0,
           0,
           0,
           0,
           0,
           0,
           0,
           0,
           0,
           0,
           0,
           0,
           0,
           0,
           1,
           0,
           0,
           0,
           0,
           0,
           0,
           0,
           0,
           0,
           1,
           0,
           0,
           4,
           6,
           0,
           2,
           12,
           17,
           26,
           0,
           24,
           46,
           51,
           110,
           42,
           117,
           68,
           91,
           143,
           95,
           167,
           145,
           75,
           10,
           136,
           192,
           209,
           283,
           286,
           246,
           307,
           243,
           358,
           346,
           432,
           407,
           263,
           239,
           397,
           397,
           485,
           185,
           478,
           426,
           357,
           254,
           334,
           394,
           269,
           458,
           443,
           332,
           97,
           254,
           195,
           173,
           297,
           356,
           171,
           273,
           45,
           -22,
           133,
           74,
           206,
           144,
           -109,
           15,
           189,
           75,
           71,
           215,
           127,
           -23,
           -113,
           22,
           -76,
           -1,
           229,
           359,
           -84,
           104,
           -47,
           199,
           94,
           239,
           325,
           154,
           148,
           283,
           260,
           338,
           558,
           498,
           379,
           315,
           308,
           316,
           465,
           634,
           552,
           495,
           464,
           629,
           540,
           510,
           668,
           569,
           591,
           203,
           374,
           316,
           296,
           594,
           241,
           40,
           -131,
           113,
           -215,
           -81,
           237,
           238,
           -33,
           -151,
           26,
           -38,
           40,
           379,
           116,
           -122,
           -165,
           -2,
           86,
           484,
           617,
           507,
           270,
           354,
           394,
           466,
           618,
           897,
           665,
           321,
           329,
           285,
           913,
           852,
           885,
           632,
           592,
           690,
           1014
          ],
          "colorbar": {
           "tickmode": "auto",
           "title": {
            "side": "top",
            "text": "Изменение"
           }
          },
          "colorscale": [
           [
            0,
            "rgb(0, 147, 146)"
           ],
           [
            0.16666666666666666,
            "rgb(57, 177, 133)"
           ],
           [
            0.3333333333333333,
            "rgb(156, 203, 134)"
           ],
           [
            0.5,
            "rgb(233, 226, 156)"
           ],
           [
            0.6666666666666666,
            "rgb(238, 180, 121)"
           ],
           [
            0.8333333333333334,
            "rgb(232, 132, 113)"
           ],
           [
            1,
            "rgb(207, 89, 126)"
           ]
          ]
         },
         "text": [
          0,
          0,
          0,
          0,
          0,
          0,
          0,
          0,
          0,
          0,
          0,
          0,
          0,
          0,
          0,
          0,
          0,
          0,
          0,
          0,
          0,
          0,
          0,
          0,
          0,
          0,
          0,
          0,
          0,
          0,
          0,
          0,
          0,
          0,
          0,
          0,
          0,
          0,
          0,
          0,
          0,
          1,
          0,
          0,
          0,
          0,
          0,
          0,
          0,
          0,
          0,
          1,
          0,
          0,
          4,
          6,
          0,
          2,
          12,
          17,
          26,
          0,
          24,
          46,
          51,
          110,
          42,
          117,
          68,
          91,
          143,
          95,
          167,
          145,
          75,
          10,
          136,
          192,
          209,
          283,
          286,
          246,
          307,
          243,
          358,
          346,
          432,
          407,
          263,
          239,
          397,
          397,
          485,
          185,
          478,
          426,
          357,
          254,
          334,
          394,
          269,
          458,
          443,
          332,
          97,
          254,
          195,
          173,
          297,
          356,
          171,
          273,
          45,
          -22,
          133,
          74,
          206,
          144,
          -109,
          15,
          189,
          75,
          71,
          215,
          127,
          -23,
          -113,
          22,
          -76,
          -1,
          229,
          359,
          -84,
          104,
          -47,
          199,
          94,
          239,
          325,
          154,
          148,
          283,
          260,
          338,
          558,
          498,
          379,
          315,
          308,
          316,
          465,
          634,
          552,
          495,
          464,
          629,
          540,
          510,
          668,
          569,
          591,
          203,
          374,
          316,
          296,
          594,
          241,
          40,
          -131,
          113,
          -215,
          -81,
          237,
          238,
          -33,
          -151,
          26,
          -38,
          40,
          379,
          116,
          -122,
          -165,
          -2,
          86,
          484,
          617,
          507,
          270,
          354,
          394,
          466,
          618,
          897,
          665,
          321,
          329,
          285,
          913,
          852,
          885,
          632,
          592,
          690,
          1014
         ],
         "textposition": "inside",
         "type": "bar",
         "x": [
          "2020-01-22T00:00:00",
          "2020-01-23T00:00:00",
          "2020-01-24T00:00:00",
          "2020-01-25T00:00:00",
          "2020-01-26T00:00:00",
          "2020-01-27T00:00:00",
          "2020-01-28T00:00:00",
          "2020-01-29T00:00:00",
          "2020-01-30T00:00:00",
          "2020-01-31T00:00:00",
          "2020-02-01T00:00:00",
          "2020-02-02T00:00:00",
          "2020-02-03T00:00:00",
          "2020-02-04T00:00:00",
          "2020-02-05T00:00:00",
          "2020-02-06T00:00:00",
          "2020-02-07T00:00:00",
          "2020-02-08T00:00:00",
          "2020-02-09T00:00:00",
          "2020-02-10T00:00:00",
          "2020-02-11T00:00:00",
          "2020-02-12T00:00:00",
          "2020-02-13T00:00:00",
          "2020-02-14T00:00:00",
          "2020-02-15T00:00:00",
          "2020-02-16T00:00:00",
          "2020-02-17T00:00:00",
          "2020-02-18T00:00:00",
          "2020-02-19T00:00:00",
          "2020-02-20T00:00:00",
          "2020-02-21T00:00:00",
          "2020-02-22T00:00:00",
          "2020-02-23T00:00:00",
          "2020-02-24T00:00:00",
          "2020-02-25T00:00:00",
          "2020-02-26T00:00:00",
          "2020-02-27T00:00:00",
          "2020-02-28T00:00:00",
          "2020-02-29T00:00:00",
          "2020-03-01T00:00:00",
          "2020-03-02T00:00:00",
          "2020-03-03T00:00:00",
          "2020-03-04T00:00:00",
          "2020-03-05T00:00:00",
          "2020-03-06T00:00:00",
          "2020-03-07T00:00:00",
          "2020-03-08T00:00:00",
          "2020-03-09T00:00:00",
          "2020-03-10T00:00:00",
          "2020-03-11T00:00:00",
          "2020-03-12T00:00:00",
          "2020-03-13T00:00:00",
          "2020-03-14T00:00:00",
          "2020-03-15T00:00:00",
          "2020-03-16T00:00:00",
          "2020-03-17T00:00:00",
          "2020-03-18T00:00:00",
          "2020-03-19T00:00:00",
          "2020-03-20T00:00:00",
          "2020-03-21T00:00:00",
          "2020-03-22T00:00:00",
          "2020-03-23T00:00:00",
          "2020-03-24T00:00:00",
          "2020-03-25T00:00:00",
          "2020-03-26T00:00:00",
          "2020-03-27T00:00:00",
          "2020-03-28T00:00:00",
          "2020-03-29T00:00:00",
          "2020-03-30T00:00:00",
          "2020-03-31T00:00:00",
          "2020-04-01T00:00:00",
          "2020-04-02T00:00:00",
          "2020-04-03T00:00:00",
          "2020-04-04T00:00:00",
          "2020-04-05T00:00:00",
          "2020-04-06T00:00:00",
          "2020-04-07T00:00:00",
          "2020-04-08T00:00:00",
          "2020-04-09T00:00:00",
          "2020-04-10T00:00:00",
          "2020-04-11T00:00:00",
          "2020-04-12T00:00:00",
          "2020-04-13T00:00:00",
          "2020-04-14T00:00:00",
          "2020-04-15T00:00:00",
          "2020-04-16T00:00:00",
          "2020-04-17T00:00:00",
          "2020-04-18T00:00:00",
          "2020-04-19T00:00:00",
          "2020-04-20T00:00:00",
          "2020-04-21T00:00:00",
          "2020-04-22T00:00:00",
          "2020-04-23T00:00:00",
          "2020-04-24T00:00:00",
          "2020-04-25T00:00:00",
          "2020-04-26T00:00:00",
          "2020-04-27T00:00:00",
          "2020-04-28T00:00:00",
          "2020-04-29T00:00:00",
          "2020-04-30T00:00:00",
          "2020-05-01T00:00:00",
          "2020-05-02T00:00:00",
          "2020-05-03T00:00:00",
          "2020-05-04T00:00:00",
          "2020-05-05T00:00:00",
          "2020-05-06T00:00:00",
          "2020-05-07T00:00:00",
          "2020-05-08T00:00:00",
          "2020-05-09T00:00:00",
          "2020-05-10T00:00:00",
          "2020-05-11T00:00:00",
          "2020-05-12T00:00:00",
          "2020-05-13T00:00:00",
          "2020-05-14T00:00:00",
          "2020-05-15T00:00:00",
          "2020-05-16T00:00:00",
          "2020-05-17T00:00:00",
          "2020-05-18T00:00:00",
          "2020-05-19T00:00:00",
          "2020-05-20T00:00:00",
          "2020-05-21T00:00:00",
          "2020-05-22T00:00:00",
          "2020-05-23T00:00:00",
          "2020-05-24T00:00:00",
          "2020-05-25T00:00:00",
          "2020-05-26T00:00:00",
          "2020-05-27T00:00:00",
          "2020-05-28T00:00:00",
          "2020-05-29T00:00:00",
          "2020-05-30T00:00:00",
          "2020-05-31T00:00:00",
          "2020-06-01T00:00:00",
          "2020-06-02T00:00:00",
          "2020-06-03T00:00:00",
          "2020-06-04T00:00:00",
          "2020-06-05T00:00:00",
          "2020-06-06T00:00:00",
          "2020-06-07T00:00:00",
          "2020-06-08T00:00:00",
          "2020-06-09T00:00:00",
          "2020-06-10T00:00:00",
          "2020-06-11T00:00:00",
          "2020-06-12T00:00:00",
          "2020-06-13T00:00:00",
          "2020-06-14T00:00:00",
          "2020-06-15T00:00:00",
          "2020-06-16T00:00:00",
          "2020-06-17T00:00:00",
          "2020-06-18T00:00:00",
          "2020-06-19T00:00:00",
          "2020-06-20T00:00:00",
          "2020-06-21T00:00:00",
          "2020-06-22T00:00:00",
          "2020-06-23T00:00:00",
          "2020-06-24T00:00:00",
          "2020-06-25T00:00:00",
          "2020-06-26T00:00:00",
          "2020-06-27T00:00:00",
          "2020-06-28T00:00:00",
          "2020-06-29T00:00:00",
          "2020-06-30T00:00:00",
          "2020-07-01T00:00:00",
          "2020-07-02T00:00:00",
          "2020-07-03T00:00:00",
          "2020-07-04T00:00:00",
          "2020-07-05T00:00:00",
          "2020-07-06T00:00:00",
          "2020-07-07T00:00:00",
          "2020-07-08T00:00:00",
          "2020-07-09T00:00:00",
          "2020-07-10T00:00:00",
          "2020-07-11T00:00:00",
          "2020-07-12T00:00:00",
          "2020-07-13T00:00:00",
          "2020-07-14T00:00:00",
          "2020-07-15T00:00:00",
          "2020-07-16T00:00:00",
          "2020-07-17T00:00:00",
          "2020-07-18T00:00:00",
          "2020-07-19T00:00:00",
          "2020-07-20T00:00:00",
          "2020-07-21T00:00:00",
          "2020-07-22T00:00:00",
          "2020-07-23T00:00:00",
          "2020-07-24T00:00:00",
          "2020-07-25T00:00:00",
          "2020-07-26T00:00:00",
          "2020-07-27T00:00:00",
          "2020-07-28T00:00:00",
          "2020-07-29T00:00:00",
          "2020-07-30T00:00:00",
          "2020-07-31T00:00:00",
          "2020-08-01T00:00:00",
          "2020-08-02T00:00:00",
          "2020-08-03T00:00:00",
          "2020-08-04T00:00:00",
          "2020-08-05T00:00:00",
          "2020-08-06T00:00:00",
          "2020-08-07T00:00:00",
          "2020-08-08T00:00:00",
          "2020-08-09T00:00:00",
          "2020-08-10T00:00:00",
          "2020-08-11T00:00:00",
          "2020-08-12T00:00:00",
          "2020-08-13T00:00:00"
         ],
         "y": [
          0,
          0,
          0,
          0,
          0,
          0,
          0,
          0,
          0,
          0,
          0,
          0,
          0,
          0,
          0,
          0,
          0,
          0,
          0,
          0,
          0,
          0,
          0,
          0,
          0,
          0,
          0,
          0,
          0,
          0,
          0,
          0,
          0,
          0,
          0,
          0,
          0,
          0,
          0,
          0,
          0,
          1,
          0,
          0,
          0,
          0,
          0,
          0,
          0,
          0,
          0,
          1,
          0,
          0,
          4,
          6,
          0,
          2,
          12,
          17,
          26,
          0,
          24,
          46,
          51,
          110,
          42,
          117,
          68,
          91,
          143,
          95,
          167,
          145,
          75,
          10,
          136,
          192,
          209,
          283,
          286,
          246,
          307,
          243,
          358,
          346,
          432,
          407,
          263,
          239,
          397,
          397,
          485,
          185,
          478,
          426,
          357,
          254,
          334,
          394,
          269,
          458,
          443,
          332,
          97,
          254,
          195,
          173,
          297,
          356,
          171,
          273,
          45,
          -22,
          133,
          74,
          206,
          144,
          -109,
          15,
          189,
          75,
          71,
          215,
          127,
          -23,
          -113,
          22,
          -76,
          -1,
          229,
          359,
          -84,
          104,
          -47,
          199,
          94,
          239,
          325,
          154,
          148,
          283,
          260,
          338,
          558,
          498,
          379,
          315,
          308,
          316,
          465,
          634,
          552,
          495,
          464,
          629,
          540,
          510,
          668,
          569,
          591,
          203,
          374,
          316,
          296,
          594,
          241,
          40,
          -131,
          113,
          -215,
          -81,
          237,
          238,
          -33,
          -151,
          26,
          -38,
          40,
          379,
          116,
          -122,
          -165,
          -2,
          86,
          484,
          617,
          507,
          270,
          354,
          394,
          466,
          618,
          897,
          665,
          321,
          329,
          285,
          913,
          852,
          885,
          632,
          592,
          690,
          1014
         ]
        }
       ],
       "layout": {
        "annotations": [
         {
          "showarrow": false,
          "text": "",
          "x": 0.5,
          "xref": "paper",
          "y": -0.15,
          "yref": "paper"
         }
        ],
        "height": 600,
        "legend": {
         "x": 0.05,
         "y": 0.98
        },
        "template": {
         "data": {
          "pie": [
           {
            "automargin": true,
            "type": "pie"
           }
          ]
         },
         "layout": {
          "xaxis": {
           "showgrid": true,
           "title": {
            "standoff": 15
           }
          },
          "yaxis": {
           "showgrid": true,
           "title": {
            "standoff": 15
           }
          }
         }
        },
        "title": {
         "text": "Украина: динамика текущих больных COVID-19 по дням<br>(изменение относительно предыдущего дня)",
         "x": 0.5,
         "xanchor": "center",
         "y": 0.9,
         "yanchor": "bottom"
        },
        "width": 990,
        "xaxis": {
         "title": {
          "text": "Текущие больные = количество выявленных - количество выздоровевших - количество умерших<br>Данные : Яндекс"
         }
        },
        "yaxis": {
         "title": {
          "text": " "
         }
        }
       }
      }
     },
     "metadata": {}
    }
   ],
   "source": [
    "mask = X.Country ==my_country\n",
    "#mask = (X.Date>'2020-05-01')&(X.Region==my_region)\n",
    "Y = X[mask]\n",
    "\n",
    "#Y['base'] = Y['Change_dayconf']*Y['Change_dayconf'].apply(lambda d:0 if d>0 else 1)\n",
    "Y['Date']= pd.to_datetime(Y.Date)\n",
    "fig = go.Figure()\n",
    "fig.add_trace(\n",
    "              go.Bar(x = Y.Date,y=Y.Change_remill,text = Y['Change_remill'],textposition = 'inside',\n",
    "                \n",
    "                #marker_color=Y['Change_remill'].apply(lambda d:'crimson' if d>0 else 'green'),\n",
    "                marker_color = Y['Change_remill'],marker_colorscale = 'Temps',marker_colorbar ={'tickmode':'auto',\n",
    "                                    'title':{'text':'Изменение','side':'top'}})     \n",
    "                )\n",
    "fig.update_layout(\n",
    "    annotations=[\n",
    "#         dict(\n",
    "#             x='2020-04-13',\n",
    "#             y=10594,\n",
    "#             xref=\"x\",\n",
    "#             yref=\"y\",\n",
    "#             text=\"Введение<br>пропускной<br>системы в Москве\",\n",
    "#             showarrow=True,\n",
    "#             arrowhead=2,\n",
    "#             ax=0,\n",
    "#             ay=-60),\n",
    "#         dict(\n",
    "#             x='2020-06-09',\n",
    "#             y=-3877,\n",
    "#             xref=\"x\",\n",
    "#             yref=\"y\",\n",
    "#             text=\"Отмена<br>пропускной<br>системы в Москве\",\n",
    "#             showarrow=True,\n",
    "#             arrowhead=2,\n",
    "#             ax=-20,\n",
    "#             ay=40),\n",
    "#         dict(\n",
    "#             x='2020-05-20',\n",
    "#             y=-2816,\n",
    "#             xref=\"x\",\n",
    "#             yref=\"y\",\n",
    "#             text=\"20 мая\",\n",
    "#             showarrow=True,\n",
    "#             arrowhead=2,\n",
    "#             ax=-20,\n",
    "#             ay=40),\n",
    "        \n",
    "        dict(x=0.5,y=-0.15,\n",
    "            showarrow=False,\n",
    "            text=\"\",\n",
    "            xref=\"paper\",\n",
    "            yref=\"paper\")],\n",
    "                  title=f'{my_country}: динамика текущих больных COVID-19 по дням<br>(изменение относительно предыдущего дня)',\n",
    "                  title_x = 0.5,\n",
    "                  title_y= 0.9,\n",
    "                  title_xanchor = \"center\",\n",
    "                  title_yanchor = \"bottom\", \n",
    "                  legend_x = 0.05,legend_y = 0.98,\n",
    "                  width = 990, height = 600,template = 'gridon',\n",
    "    \n",
    "    \n",
    "                  xaxis_title='Текущие больные = количество выявленных - количество выздоровевших - количество умерших'+\n",
    "                               '<br>Данные : Яндекс',\n",
    "    yaxis_title = ' '\n",
    ")\n",
    "\n",
    "\n",
    "fig.show()\n"
   ]
  },
  {
   "cell_type": "code",
   "execution_count": 12,
   "metadata": {
    "tags": []
   },
   "outputs": [
    {
     "output_type": "stream",
     "name": "stdout",
     "text": "[[1.255 0.819 0.622 0.672 0.997 1.421 1.607 1.15  0.734 0.633 0.673 0.984\n  1.513 1.51  1.166 0.814 0.694 0.724 1.074]\n [1.322 1.255 1.08  0.969 0.942 1.036 1.196 1.162 1.156 1.016 0.991 1.074\n  1.031 1.128 1.144 1.031 1.116 1.165 0.809]\n [1.222 1.13  1.071 1.02  1.012 1.125 1.125 1.129 1.11  0.983 0.976 1.007\n  1.054 1.153 1.172 1.082 1.035 0.995 0.982]\n [0.979 0.981 0.969 0.952 0.946 0.949 0.968 0.982 0.988 0.978 0.965 0.961\n  0.958 0.977 0.986 0.986 0.98  0.97  0.965]\n [1.02  0.947 0.877 0.887 0.99  1.081 1.085 0.972 0.837 0.769 0.769 0.893\n  1.044 1.086 1.087 0.979 0.874 0.879 0.923]]\n"
    },
    {
     "output_type": "execute_result",
     "data": {
      "text/plain": "Date         Country  2020-07-26  2020-07-27  2020-07-28  2020-07-29  \\\n0           Бразилия       1.255       0.819       0.622       0.672   \n1     Великобритания       1.322       1.255       1.080       0.969   \n2              Индия       1.222       1.130       1.071       1.020   \n3             Россия       0.979       0.981       0.969       0.952   \n4                США       1.020       0.947       0.877       0.887   \n\nDate  2020-07-30  2020-07-31  2020-08-01  2020-08-02  2020-08-03  2020-08-04  \\\n0          0.997       1.421       1.607       1.150       0.734       0.633   \n1          0.942       1.036       1.196       1.162       1.156       1.016   \n2          1.012       1.125       1.125       1.129       1.110       0.983   \n3          0.946       0.949       0.968       0.982       0.988       0.978   \n4          0.990       1.081       1.085       0.972       0.837       0.769   \n\nDate  2020-08-05  2020-08-06  2020-08-07  2020-08-08  2020-08-09  2020-08-10  \\\n0          0.673       0.984       1.513       1.510       1.166       0.814   \n1          0.991       1.074       1.031       1.128       1.144       1.031   \n2          0.976       1.007       1.054       1.153       1.172       1.082   \n3          0.965       0.961       0.958       0.977       0.986       0.986   \n4          0.769       0.893       1.044       1.086       1.087       0.979   \n\nDate  2020-08-11  2020-08-12  2020-08-13  \n0          0.694       0.724       1.074  \n1          1.116       1.165       0.809  \n2          1.035       0.995       0.982  \n3          0.980       0.970       0.965  \n4          0.874       0.879       0.923  ",
      "text/html": "<div>\n<style scoped>\n    .dataframe tbody tr th:only-of-type {\n        vertical-align: middle;\n    }\n\n    .dataframe tbody tr th {\n        vertical-align: top;\n    }\n\n    .dataframe thead th {\n        text-align: right;\n    }\n</style>\n<table border=\"1\" class=\"dataframe\">\n  <thead>\n    <tr style=\"text-align: right;\">\n      <th>Date</th>\n      <th>Country</th>\n      <th>2020-07-26</th>\n      <th>2020-07-27</th>\n      <th>2020-07-28</th>\n      <th>2020-07-29</th>\n      <th>2020-07-30</th>\n      <th>2020-07-31</th>\n      <th>2020-08-01</th>\n      <th>2020-08-02</th>\n      <th>2020-08-03</th>\n      <th>2020-08-04</th>\n      <th>2020-08-05</th>\n      <th>2020-08-06</th>\n      <th>2020-08-07</th>\n      <th>2020-08-08</th>\n      <th>2020-08-09</th>\n      <th>2020-08-10</th>\n      <th>2020-08-11</th>\n      <th>2020-08-12</th>\n      <th>2020-08-13</th>\n    </tr>\n  </thead>\n  <tbody>\n    <tr>\n      <th>0</th>\n      <td>Бразилия</td>\n      <td>1.255</td>\n      <td>0.819</td>\n      <td>0.622</td>\n      <td>0.672</td>\n      <td>0.997</td>\n      <td>1.421</td>\n      <td>1.607</td>\n      <td>1.150</td>\n      <td>0.734</td>\n      <td>0.633</td>\n      <td>0.673</td>\n      <td>0.984</td>\n      <td>1.513</td>\n      <td>1.510</td>\n      <td>1.166</td>\n      <td>0.814</td>\n      <td>0.694</td>\n      <td>0.724</td>\n      <td>1.074</td>\n    </tr>\n    <tr>\n      <th>1</th>\n      <td>Великобритания</td>\n      <td>1.322</td>\n      <td>1.255</td>\n      <td>1.080</td>\n      <td>0.969</td>\n      <td>0.942</td>\n      <td>1.036</td>\n      <td>1.196</td>\n      <td>1.162</td>\n      <td>1.156</td>\n      <td>1.016</td>\n      <td>0.991</td>\n      <td>1.074</td>\n      <td>1.031</td>\n      <td>1.128</td>\n      <td>1.144</td>\n      <td>1.031</td>\n      <td>1.116</td>\n      <td>1.165</td>\n      <td>0.809</td>\n    </tr>\n    <tr>\n      <th>2</th>\n      <td>Индия</td>\n      <td>1.222</td>\n      <td>1.130</td>\n      <td>1.071</td>\n      <td>1.020</td>\n      <td>1.012</td>\n      <td>1.125</td>\n      <td>1.125</td>\n      <td>1.129</td>\n      <td>1.110</td>\n      <td>0.983</td>\n      <td>0.976</td>\n      <td>1.007</td>\n      <td>1.054</td>\n      <td>1.153</td>\n      <td>1.172</td>\n      <td>1.082</td>\n      <td>1.035</td>\n      <td>0.995</td>\n      <td>0.982</td>\n    </tr>\n    <tr>\n      <th>3</th>\n      <td>Россия</td>\n      <td>0.979</td>\n      <td>0.981</td>\n      <td>0.969</td>\n      <td>0.952</td>\n      <td>0.946</td>\n      <td>0.949</td>\n      <td>0.968</td>\n      <td>0.982</td>\n      <td>0.988</td>\n      <td>0.978</td>\n      <td>0.965</td>\n      <td>0.961</td>\n      <td>0.958</td>\n      <td>0.977</td>\n      <td>0.986</td>\n      <td>0.986</td>\n      <td>0.980</td>\n      <td>0.970</td>\n      <td>0.965</td>\n    </tr>\n    <tr>\n      <th>4</th>\n      <td>США</td>\n      <td>1.020</td>\n      <td>0.947</td>\n      <td>0.877</td>\n      <td>0.887</td>\n      <td>0.990</td>\n      <td>1.081</td>\n      <td>1.085</td>\n      <td>0.972</td>\n      <td>0.837</td>\n      <td>0.769</td>\n      <td>0.769</td>\n      <td>0.893</td>\n      <td>1.044</td>\n      <td>1.086</td>\n      <td>1.087</td>\n      <td>0.979</td>\n      <td>0.874</td>\n      <td>0.879</td>\n      <td>0.923</td>\n    </tr>\n  </tbody>\n</table>\n</div>"
     },
     "metadata": {},
     "execution_count": 12
    }
   ],
   "source": [
    "mask = (X.Date>=datetime.date(2020,7,30))&(X.Country.isin(country_towatch))\n",
    "\n",
    "def my_round(k):\n",
    "    return round(k,3)\n",
    "\n",
    "# #mask = (X.Date>='2020-06-04')\n",
    "\n",
    "Z = X[mask].groupby(['Country','Date']).Rt.sum().apply(my_round).unstack().reset_index()\n",
    "Z.dropna(inplace=True)\n",
    "d = Z.drop('Country',axis = 1).values\n",
    "\n",
    "# my_map= {'Москва':'2.Москва','Московская обл.':'3.Московская обл.','Нижегородская обл.':'5.Нижегородская обл.',\n",
    "#                     'Россия':'1.Россия', 'Санкт-Петербург':'4.Санкт-Петербург'}\n",
    "# Z.Region = Z.Region.map(my_map)\n",
    "\n",
    "print(d)\n",
    "Z.head()"
   ]
  },
  {
   "cell_type": "code",
   "execution_count": 13,
   "metadata": {
    "tags": []
   },
   "outputs": [
    {
     "output_type": "stream",
     "name": "stdout",
     "text": "[datetime.date(2020, 7, 26), datetime.date(2020, 7, 27), datetime.date(2020, 7, 28), datetime.date(2020, 7, 29), datetime.date(2020, 7, 30), datetime.date(2020, 7, 31), datetime.date(2020, 8, 1), datetime.date(2020, 8, 2), datetime.date(2020, 8, 3), datetime.date(2020, 8, 4), datetime.date(2020, 8, 5), datetime.date(2020, 8, 6), datetime.date(2020, 8, 7), datetime.date(2020, 8, 8), datetime.date(2020, 8, 9), datetime.date(2020, 8, 10), datetime.date(2020, 8, 11), datetime.date(2020, 8, 12), datetime.date(2020, 8, 13)]\n['26.7.2020', '27.7.2020', '28.7.2020', '29.7.2020', '30.7.2020', '31.7.2020', '1.8.2020', '2.8.2020', '3.8.2020', '4.8.2020', '5.8.2020', '6.8.2020', '7.8.2020', '8.8.2020', '9.8.2020', '10.8.2020', '11.8.2020', '12.8.2020', '13.8.2020']\n"
    }
   ],
   "source": [
    "x1=list(Z.columns[1:])\n",
    "x2=[]\n",
    "for i in x1:\n",
    "    x2.append(str(i.day)+'.'+str(i.month)+\".\"+str(i.year))\n",
    "    \n",
    "y=list(Z.Country)\n",
    "print(list(x1))\n",
    "print(x2)"
   ]
  },
  {
   "cell_type": "code",
   "execution_count": 14,
   "metadata": {},
   "outputs": [
    {
     "output_type": "display_data",
     "data": {
      "application/vnd.plotly.v1+json": {
       "config": {
        "plotlyServerURL": "https://plot.ly"
       },
       "data": [
        {
         "colorscale": [
          [
           0,
           "rgb(0, 147, 146)"
          ],
          [
           0.16666666666666666,
           "rgb(57, 177, 133)"
          ],
          [
           0.3333333333333333,
           "rgb(156, 203, 134)"
          ],
          [
           0.5,
           "rgb(233, 226, 156)"
          ],
          [
           0.6666666666666666,
           "rgb(238, 180, 121)"
          ],
          [
           0.8333333333333334,
           "rgb(232, 132, 113)"
          ],
          [
           1,
           "rgb(207, 89, 126)"
          ]
         ],
         "reversescale": false,
         "showscale": false,
         "type": "heatmap",
         "x": [
          "26.7.2020",
          "27.7.2020",
          "28.7.2020",
          "29.7.2020",
          "30.7.2020",
          "31.7.2020",
          "1.8.2020",
          "2.8.2020",
          "3.8.2020",
          "4.8.2020",
          "5.8.2020",
          "6.8.2020",
          "7.8.2020",
          "8.8.2020",
          "9.8.2020",
          "10.8.2020",
          "11.8.2020",
          "12.8.2020",
          "13.8.2020"
         ],
         "y": [
          "Бразилия",
          "Великобритания",
          "Индия",
          "Россия",
          "США"
         ],
         "z": [
          [
           1.255,
           0.819,
           0.622,
           0.672,
           0.997,
           1.421,
           1.607,
           1.15,
           0.734,
           0.633,
           0.673,
           0.984,
           1.513,
           1.51,
           1.166,
           0.814,
           0.694,
           0.724,
           1.074
          ],
          [
           1.322,
           1.255,
           1.08,
           0.969,
           0.942,
           1.036,
           1.196,
           1.162,
           1.156,
           1.016,
           0.991,
           1.074,
           1.031,
           1.128,
           1.144,
           1.031,
           1.116,
           1.165,
           0.809
          ],
          [
           1.222,
           1.13,
           1.071,
           1.02,
           1.012,
           1.125,
           1.125,
           1.129,
           1.11,
           0.983,
           0.976,
           1.007,
           1.054,
           1.153,
           1.172,
           1.082,
           1.035,
           0.995,
           0.982
          ],
          [
           0.979,
           0.981,
           0.969,
           0.952,
           0.946,
           0.949,
           0.968,
           0.982,
           0.988,
           0.978,
           0.965,
           0.961,
           0.958,
           0.977,
           0.986,
           0.986,
           0.98,
           0.97,
           0.965
          ],
          [
           1.02,
           0.947,
           0.877,
           0.887,
           0.99,
           1.081,
           1.085,
           0.972,
           0.837,
           0.769,
           0.769,
           0.893,
           1.044,
           1.086,
           1.087,
           0.979,
           0.874,
           0.879,
           0.923
          ]
         ]
        }
       ],
       "layout": {
        "annotations": [
         {
          "font": {
           "color": "#FFFFFF"
          },
          "showarrow": false,
          "text": "1.255",
          "x": "26.7.2020",
          "xref": "x",
          "y": "Бразилия",
          "yref": "y"
         },
         {
          "font": {
           "color": "#FFFFFF"
          },
          "showarrow": false,
          "text": "0.819",
          "x": "27.7.2020",
          "xref": "x",
          "y": "Бразилия",
          "yref": "y"
         },
         {
          "font": {
           "color": "#FFFFFF"
          },
          "showarrow": false,
          "text": "0.622",
          "x": "28.7.2020",
          "xref": "x",
          "y": "Бразилия",
          "yref": "y"
         },
         {
          "font": {
           "color": "#FFFFFF"
          },
          "showarrow": false,
          "text": "0.672",
          "x": "29.7.2020",
          "xref": "x",
          "y": "Бразилия",
          "yref": "y"
         },
         {
          "font": {
           "color": "#FFFFFF"
          },
          "showarrow": false,
          "text": "0.997",
          "x": "30.7.2020",
          "xref": "x",
          "y": "Бразилия",
          "yref": "y"
         },
         {
          "font": {
           "color": "#FFFFFF"
          },
          "showarrow": false,
          "text": "1.421",
          "x": "31.7.2020",
          "xref": "x",
          "y": "Бразилия",
          "yref": "y"
         },
         {
          "font": {
           "color": "#FFFFFF"
          },
          "showarrow": false,
          "text": "1.607",
          "x": "1.8.2020",
          "xref": "x",
          "y": "Бразилия",
          "yref": "y"
         },
         {
          "font": {
           "color": "#FFFFFF"
          },
          "showarrow": false,
          "text": "1.15",
          "x": "2.8.2020",
          "xref": "x",
          "y": "Бразилия",
          "yref": "y"
         },
         {
          "font": {
           "color": "#FFFFFF"
          },
          "showarrow": false,
          "text": "0.734",
          "x": "3.8.2020",
          "xref": "x",
          "y": "Бразилия",
          "yref": "y"
         },
         {
          "font": {
           "color": "#FFFFFF"
          },
          "showarrow": false,
          "text": "0.633",
          "x": "4.8.2020",
          "xref": "x",
          "y": "Бразилия",
          "yref": "y"
         },
         {
          "font": {
           "color": "#FFFFFF"
          },
          "showarrow": false,
          "text": "0.673",
          "x": "5.8.2020",
          "xref": "x",
          "y": "Бразилия",
          "yref": "y"
         },
         {
          "font": {
           "color": "#FFFFFF"
          },
          "showarrow": false,
          "text": "0.984",
          "x": "6.8.2020",
          "xref": "x",
          "y": "Бразилия",
          "yref": "y"
         },
         {
          "font": {
           "color": "#FFFFFF"
          },
          "showarrow": false,
          "text": "1.513",
          "x": "7.8.2020",
          "xref": "x",
          "y": "Бразилия",
          "yref": "y"
         },
         {
          "font": {
           "color": "#FFFFFF"
          },
          "showarrow": false,
          "text": "1.51",
          "x": "8.8.2020",
          "xref": "x",
          "y": "Бразилия",
          "yref": "y"
         },
         {
          "font": {
           "color": "#FFFFFF"
          },
          "showarrow": false,
          "text": "1.166",
          "x": "9.8.2020",
          "xref": "x",
          "y": "Бразилия",
          "yref": "y"
         },
         {
          "font": {
           "color": "#FFFFFF"
          },
          "showarrow": false,
          "text": "0.814",
          "x": "10.8.2020",
          "xref": "x",
          "y": "Бразилия",
          "yref": "y"
         },
         {
          "font": {
           "color": "#FFFFFF"
          },
          "showarrow": false,
          "text": "0.694",
          "x": "11.8.2020",
          "xref": "x",
          "y": "Бразилия",
          "yref": "y"
         },
         {
          "font": {
           "color": "#FFFFFF"
          },
          "showarrow": false,
          "text": "0.724",
          "x": "12.8.2020",
          "xref": "x",
          "y": "Бразилия",
          "yref": "y"
         },
         {
          "font": {
           "color": "#FFFFFF"
          },
          "showarrow": false,
          "text": "1.074",
          "x": "13.8.2020",
          "xref": "x",
          "y": "Бразилия",
          "yref": "y"
         },
         {
          "font": {
           "color": "#FFFFFF"
          },
          "showarrow": false,
          "text": "1.322",
          "x": "26.7.2020",
          "xref": "x",
          "y": "Великобритания",
          "yref": "y"
         },
         {
          "font": {
           "color": "#FFFFFF"
          },
          "showarrow": false,
          "text": "1.255",
          "x": "27.7.2020",
          "xref": "x",
          "y": "Великобритания",
          "yref": "y"
         },
         {
          "font": {
           "color": "#FFFFFF"
          },
          "showarrow": false,
          "text": "1.08",
          "x": "28.7.2020",
          "xref": "x",
          "y": "Великобритания",
          "yref": "y"
         },
         {
          "font": {
           "color": "#FFFFFF"
          },
          "showarrow": false,
          "text": "0.969",
          "x": "29.7.2020",
          "xref": "x",
          "y": "Великобритания",
          "yref": "y"
         },
         {
          "font": {
           "color": "#FFFFFF"
          },
          "showarrow": false,
          "text": "0.942",
          "x": "30.7.2020",
          "xref": "x",
          "y": "Великобритания",
          "yref": "y"
         },
         {
          "font": {
           "color": "#FFFFFF"
          },
          "showarrow": false,
          "text": "1.036",
          "x": "31.7.2020",
          "xref": "x",
          "y": "Великобритания",
          "yref": "y"
         },
         {
          "font": {
           "color": "#FFFFFF"
          },
          "showarrow": false,
          "text": "1.196",
          "x": "1.8.2020",
          "xref": "x",
          "y": "Великобритания",
          "yref": "y"
         },
         {
          "font": {
           "color": "#FFFFFF"
          },
          "showarrow": false,
          "text": "1.162",
          "x": "2.8.2020",
          "xref": "x",
          "y": "Великобритания",
          "yref": "y"
         },
         {
          "font": {
           "color": "#FFFFFF"
          },
          "showarrow": false,
          "text": "1.156",
          "x": "3.8.2020",
          "xref": "x",
          "y": "Великобритания",
          "yref": "y"
         },
         {
          "font": {
           "color": "#FFFFFF"
          },
          "showarrow": false,
          "text": "1.016",
          "x": "4.8.2020",
          "xref": "x",
          "y": "Великобритания",
          "yref": "y"
         },
         {
          "font": {
           "color": "#FFFFFF"
          },
          "showarrow": false,
          "text": "0.991",
          "x": "5.8.2020",
          "xref": "x",
          "y": "Великобритания",
          "yref": "y"
         },
         {
          "font": {
           "color": "#FFFFFF"
          },
          "showarrow": false,
          "text": "1.074",
          "x": "6.8.2020",
          "xref": "x",
          "y": "Великобритания",
          "yref": "y"
         },
         {
          "font": {
           "color": "#FFFFFF"
          },
          "showarrow": false,
          "text": "1.031",
          "x": "7.8.2020",
          "xref": "x",
          "y": "Великобритания",
          "yref": "y"
         },
         {
          "font": {
           "color": "#FFFFFF"
          },
          "showarrow": false,
          "text": "1.128",
          "x": "8.8.2020",
          "xref": "x",
          "y": "Великобритания",
          "yref": "y"
         },
         {
          "font": {
           "color": "#FFFFFF"
          },
          "showarrow": false,
          "text": "1.144",
          "x": "9.8.2020",
          "xref": "x",
          "y": "Великобритания",
          "yref": "y"
         },
         {
          "font": {
           "color": "#FFFFFF"
          },
          "showarrow": false,
          "text": "1.031",
          "x": "10.8.2020",
          "xref": "x",
          "y": "Великобритания",
          "yref": "y"
         },
         {
          "font": {
           "color": "#FFFFFF"
          },
          "showarrow": false,
          "text": "1.116",
          "x": "11.8.2020",
          "xref": "x",
          "y": "Великобритания",
          "yref": "y"
         },
         {
          "font": {
           "color": "#FFFFFF"
          },
          "showarrow": false,
          "text": "1.165",
          "x": "12.8.2020",
          "xref": "x",
          "y": "Великобритания",
          "yref": "y"
         },
         {
          "font": {
           "color": "#FFFFFF"
          },
          "showarrow": false,
          "text": "0.809",
          "x": "13.8.2020",
          "xref": "x",
          "y": "Великобритания",
          "yref": "y"
         },
         {
          "font": {
           "color": "#FFFFFF"
          },
          "showarrow": false,
          "text": "1.222",
          "x": "26.7.2020",
          "xref": "x",
          "y": "Индия",
          "yref": "y"
         },
         {
          "font": {
           "color": "#FFFFFF"
          },
          "showarrow": false,
          "text": "1.13",
          "x": "27.7.2020",
          "xref": "x",
          "y": "Индия",
          "yref": "y"
         },
         {
          "font": {
           "color": "#FFFFFF"
          },
          "showarrow": false,
          "text": "1.071",
          "x": "28.7.2020",
          "xref": "x",
          "y": "Индия",
          "yref": "y"
         },
         {
          "font": {
           "color": "#FFFFFF"
          },
          "showarrow": false,
          "text": "1.02",
          "x": "29.7.2020",
          "xref": "x",
          "y": "Индия",
          "yref": "y"
         },
         {
          "font": {
           "color": "#FFFFFF"
          },
          "showarrow": false,
          "text": "1.012",
          "x": "30.7.2020",
          "xref": "x",
          "y": "Индия",
          "yref": "y"
         },
         {
          "font": {
           "color": "#FFFFFF"
          },
          "showarrow": false,
          "text": "1.125",
          "x": "31.7.2020",
          "xref": "x",
          "y": "Индия",
          "yref": "y"
         },
         {
          "font": {
           "color": "#FFFFFF"
          },
          "showarrow": false,
          "text": "1.125",
          "x": "1.8.2020",
          "xref": "x",
          "y": "Индия",
          "yref": "y"
         },
         {
          "font": {
           "color": "#FFFFFF"
          },
          "showarrow": false,
          "text": "1.129",
          "x": "2.8.2020",
          "xref": "x",
          "y": "Индия",
          "yref": "y"
         },
         {
          "font": {
           "color": "#FFFFFF"
          },
          "showarrow": false,
          "text": "1.11",
          "x": "3.8.2020",
          "xref": "x",
          "y": "Индия",
          "yref": "y"
         },
         {
          "font": {
           "color": "#FFFFFF"
          },
          "showarrow": false,
          "text": "0.983",
          "x": "4.8.2020",
          "xref": "x",
          "y": "Индия",
          "yref": "y"
         },
         {
          "font": {
           "color": "#FFFFFF"
          },
          "showarrow": false,
          "text": "0.976",
          "x": "5.8.2020",
          "xref": "x",
          "y": "Индия",
          "yref": "y"
         },
         {
          "font": {
           "color": "#FFFFFF"
          },
          "showarrow": false,
          "text": "1.007",
          "x": "6.8.2020",
          "xref": "x",
          "y": "Индия",
          "yref": "y"
         },
         {
          "font": {
           "color": "#FFFFFF"
          },
          "showarrow": false,
          "text": "1.054",
          "x": "7.8.2020",
          "xref": "x",
          "y": "Индия",
          "yref": "y"
         },
         {
          "font": {
           "color": "#FFFFFF"
          },
          "showarrow": false,
          "text": "1.153",
          "x": "8.8.2020",
          "xref": "x",
          "y": "Индия",
          "yref": "y"
         },
         {
          "font": {
           "color": "#FFFFFF"
          },
          "showarrow": false,
          "text": "1.172",
          "x": "9.8.2020",
          "xref": "x",
          "y": "Индия",
          "yref": "y"
         },
         {
          "font": {
           "color": "#FFFFFF"
          },
          "showarrow": false,
          "text": "1.082",
          "x": "10.8.2020",
          "xref": "x",
          "y": "Индия",
          "yref": "y"
         },
         {
          "font": {
           "color": "#FFFFFF"
          },
          "showarrow": false,
          "text": "1.035",
          "x": "11.8.2020",
          "xref": "x",
          "y": "Индия",
          "yref": "y"
         },
         {
          "font": {
           "color": "#FFFFFF"
          },
          "showarrow": false,
          "text": "0.995",
          "x": "12.8.2020",
          "xref": "x",
          "y": "Индия",
          "yref": "y"
         },
         {
          "font": {
           "color": "#FFFFFF"
          },
          "showarrow": false,
          "text": "0.982",
          "x": "13.8.2020",
          "xref": "x",
          "y": "Индия",
          "yref": "y"
         },
         {
          "font": {
           "color": "#FFFFFF"
          },
          "showarrow": false,
          "text": "0.979",
          "x": "26.7.2020",
          "xref": "x",
          "y": "Россия",
          "yref": "y"
         },
         {
          "font": {
           "color": "#FFFFFF"
          },
          "showarrow": false,
          "text": "0.981",
          "x": "27.7.2020",
          "xref": "x",
          "y": "Россия",
          "yref": "y"
         },
         {
          "font": {
           "color": "#FFFFFF"
          },
          "showarrow": false,
          "text": "0.969",
          "x": "28.7.2020",
          "xref": "x",
          "y": "Россия",
          "yref": "y"
         },
         {
          "font": {
           "color": "#FFFFFF"
          },
          "showarrow": false,
          "text": "0.952",
          "x": "29.7.2020",
          "xref": "x",
          "y": "Россия",
          "yref": "y"
         },
         {
          "font": {
           "color": "#FFFFFF"
          },
          "showarrow": false,
          "text": "0.946",
          "x": "30.7.2020",
          "xref": "x",
          "y": "Россия",
          "yref": "y"
         },
         {
          "font": {
           "color": "#FFFFFF"
          },
          "showarrow": false,
          "text": "0.949",
          "x": "31.7.2020",
          "xref": "x",
          "y": "Россия",
          "yref": "y"
         },
         {
          "font": {
           "color": "#FFFFFF"
          },
          "showarrow": false,
          "text": "0.968",
          "x": "1.8.2020",
          "xref": "x",
          "y": "Россия",
          "yref": "y"
         },
         {
          "font": {
           "color": "#FFFFFF"
          },
          "showarrow": false,
          "text": "0.982",
          "x": "2.8.2020",
          "xref": "x",
          "y": "Россия",
          "yref": "y"
         },
         {
          "font": {
           "color": "#FFFFFF"
          },
          "showarrow": false,
          "text": "0.988",
          "x": "3.8.2020",
          "xref": "x",
          "y": "Россия",
          "yref": "y"
         },
         {
          "font": {
           "color": "#FFFFFF"
          },
          "showarrow": false,
          "text": "0.978",
          "x": "4.8.2020",
          "xref": "x",
          "y": "Россия",
          "yref": "y"
         },
         {
          "font": {
           "color": "#FFFFFF"
          },
          "showarrow": false,
          "text": "0.965",
          "x": "5.8.2020",
          "xref": "x",
          "y": "Россия",
          "yref": "y"
         },
         {
          "font": {
           "color": "#FFFFFF"
          },
          "showarrow": false,
          "text": "0.961",
          "x": "6.8.2020",
          "xref": "x",
          "y": "Россия",
          "yref": "y"
         },
         {
          "font": {
           "color": "#FFFFFF"
          },
          "showarrow": false,
          "text": "0.958",
          "x": "7.8.2020",
          "xref": "x",
          "y": "Россия",
          "yref": "y"
         },
         {
          "font": {
           "color": "#FFFFFF"
          },
          "showarrow": false,
          "text": "0.977",
          "x": "8.8.2020",
          "xref": "x",
          "y": "Россия",
          "yref": "y"
         },
         {
          "font": {
           "color": "#FFFFFF"
          },
          "showarrow": false,
          "text": "0.986",
          "x": "9.8.2020",
          "xref": "x",
          "y": "Россия",
          "yref": "y"
         },
         {
          "font": {
           "color": "#FFFFFF"
          },
          "showarrow": false,
          "text": "0.986",
          "x": "10.8.2020",
          "xref": "x",
          "y": "Россия",
          "yref": "y"
         },
         {
          "font": {
           "color": "#FFFFFF"
          },
          "showarrow": false,
          "text": "0.98",
          "x": "11.8.2020",
          "xref": "x",
          "y": "Россия",
          "yref": "y"
         },
         {
          "font": {
           "color": "#FFFFFF"
          },
          "showarrow": false,
          "text": "0.97",
          "x": "12.8.2020",
          "xref": "x",
          "y": "Россия",
          "yref": "y"
         },
         {
          "font": {
           "color": "#FFFFFF"
          },
          "showarrow": false,
          "text": "0.965",
          "x": "13.8.2020",
          "xref": "x",
          "y": "Россия",
          "yref": "y"
         },
         {
          "font": {
           "color": "#FFFFFF"
          },
          "showarrow": false,
          "text": "1.02",
          "x": "26.7.2020",
          "xref": "x",
          "y": "США",
          "yref": "y"
         },
         {
          "font": {
           "color": "#FFFFFF"
          },
          "showarrow": false,
          "text": "0.947",
          "x": "27.7.2020",
          "xref": "x",
          "y": "США",
          "yref": "y"
         },
         {
          "font": {
           "color": "#FFFFFF"
          },
          "showarrow": false,
          "text": "0.877",
          "x": "28.7.2020",
          "xref": "x",
          "y": "США",
          "yref": "y"
         },
         {
          "font": {
           "color": "#FFFFFF"
          },
          "showarrow": false,
          "text": "0.887",
          "x": "29.7.2020",
          "xref": "x",
          "y": "США",
          "yref": "y"
         },
         {
          "font": {
           "color": "#FFFFFF"
          },
          "showarrow": false,
          "text": "0.99",
          "x": "30.7.2020",
          "xref": "x",
          "y": "США",
          "yref": "y"
         },
         {
          "font": {
           "color": "#FFFFFF"
          },
          "showarrow": false,
          "text": "1.081",
          "x": "31.7.2020",
          "xref": "x",
          "y": "США",
          "yref": "y"
         },
         {
          "font": {
           "color": "#FFFFFF"
          },
          "showarrow": false,
          "text": "1.085",
          "x": "1.8.2020",
          "xref": "x",
          "y": "США",
          "yref": "y"
         },
         {
          "font": {
           "color": "#FFFFFF"
          },
          "showarrow": false,
          "text": "0.972",
          "x": "2.8.2020",
          "xref": "x",
          "y": "США",
          "yref": "y"
         },
         {
          "font": {
           "color": "#FFFFFF"
          },
          "showarrow": false,
          "text": "0.837",
          "x": "3.8.2020",
          "xref": "x",
          "y": "США",
          "yref": "y"
         },
         {
          "font": {
           "color": "#FFFFFF"
          },
          "showarrow": false,
          "text": "0.769",
          "x": "4.8.2020",
          "xref": "x",
          "y": "США",
          "yref": "y"
         },
         {
          "font": {
           "color": "#FFFFFF"
          },
          "showarrow": false,
          "text": "0.769",
          "x": "5.8.2020",
          "xref": "x",
          "y": "США",
          "yref": "y"
         },
         {
          "font": {
           "color": "#FFFFFF"
          },
          "showarrow": false,
          "text": "0.893",
          "x": "6.8.2020",
          "xref": "x",
          "y": "США",
          "yref": "y"
         },
         {
          "font": {
           "color": "#FFFFFF"
          },
          "showarrow": false,
          "text": "1.044",
          "x": "7.8.2020",
          "xref": "x",
          "y": "США",
          "yref": "y"
         },
         {
          "font": {
           "color": "#FFFFFF"
          },
          "showarrow": false,
          "text": "1.086",
          "x": "8.8.2020",
          "xref": "x",
          "y": "США",
          "yref": "y"
         },
         {
          "font": {
           "color": "#FFFFFF"
          },
          "showarrow": false,
          "text": "1.087",
          "x": "9.8.2020",
          "xref": "x",
          "y": "США",
          "yref": "y"
         },
         {
          "font": {
           "color": "#FFFFFF"
          },
          "showarrow": false,
          "text": "0.979",
          "x": "10.8.2020",
          "xref": "x",
          "y": "США",
          "yref": "y"
         },
         {
          "font": {
           "color": "#FFFFFF"
          },
          "showarrow": false,
          "text": "0.874",
          "x": "11.8.2020",
          "xref": "x",
          "y": "США",
          "yref": "y"
         },
         {
          "font": {
           "color": "#FFFFFF"
          },
          "showarrow": false,
          "text": "0.879",
          "x": "12.8.2020",
          "xref": "x",
          "y": "США",
          "yref": "y"
         },
         {
          "font": {
           "color": "#FFFFFF"
          },
          "showarrow": false,
          "text": "0.923",
          "x": "13.8.2020",
          "xref": "x",
          "y": "США",
          "yref": "y"
         }
        ],
        "height": 600,
        "template": {
         "data": {
          "bar": [
           {
            "error_x": {
             "color": "#2a3f5f"
            },
            "error_y": {
             "color": "#2a3f5f"
            },
            "marker": {
             "line": {
              "color": "#E5ECF6",
              "width": 0.5
             }
            },
            "type": "bar"
           }
          ],
          "barpolar": [
           {
            "marker": {
             "line": {
              "color": "#E5ECF6",
              "width": 0.5
             }
            },
            "type": "barpolar"
           }
          ],
          "carpet": [
           {
            "aaxis": {
             "endlinecolor": "#2a3f5f",
             "gridcolor": "white",
             "linecolor": "white",
             "minorgridcolor": "white",
             "startlinecolor": "#2a3f5f"
            },
            "baxis": {
             "endlinecolor": "#2a3f5f",
             "gridcolor": "white",
             "linecolor": "white",
             "minorgridcolor": "white",
             "startlinecolor": "#2a3f5f"
            },
            "type": "carpet"
           }
          ],
          "choropleth": [
           {
            "colorbar": {
             "outlinewidth": 0,
             "ticks": ""
            },
            "type": "choropleth"
           }
          ],
          "contour": [
           {
            "colorbar": {
             "outlinewidth": 0,
             "ticks": ""
            },
            "colorscale": [
             [
              0,
              "#0d0887"
             ],
             [
              0.1111111111111111,
              "#46039f"
             ],
             [
              0.2222222222222222,
              "#7201a8"
             ],
             [
              0.3333333333333333,
              "#9c179e"
             ],
             [
              0.4444444444444444,
              "#bd3786"
             ],
             [
              0.5555555555555556,
              "#d8576b"
             ],
             [
              0.6666666666666666,
              "#ed7953"
             ],
             [
              0.7777777777777778,
              "#fb9f3a"
             ],
             [
              0.8888888888888888,
              "#fdca26"
             ],
             [
              1,
              "#f0f921"
             ]
            ],
            "type": "contour"
           }
          ],
          "contourcarpet": [
           {
            "colorbar": {
             "outlinewidth": 0,
             "ticks": ""
            },
            "type": "contourcarpet"
           }
          ],
          "heatmap": [
           {
            "colorbar": {
             "outlinewidth": 0,
             "ticks": ""
            },
            "colorscale": [
             [
              0,
              "#0d0887"
             ],
             [
              0.1111111111111111,
              "#46039f"
             ],
             [
              0.2222222222222222,
              "#7201a8"
             ],
             [
              0.3333333333333333,
              "#9c179e"
             ],
             [
              0.4444444444444444,
              "#bd3786"
             ],
             [
              0.5555555555555556,
              "#d8576b"
             ],
             [
              0.6666666666666666,
              "#ed7953"
             ],
             [
              0.7777777777777778,
              "#fb9f3a"
             ],
             [
              0.8888888888888888,
              "#fdca26"
             ],
             [
              1,
              "#f0f921"
             ]
            ],
            "type": "heatmap"
           }
          ],
          "heatmapgl": [
           {
            "colorbar": {
             "outlinewidth": 0,
             "ticks": ""
            },
            "colorscale": [
             [
              0,
              "#0d0887"
             ],
             [
              0.1111111111111111,
              "#46039f"
             ],
             [
              0.2222222222222222,
              "#7201a8"
             ],
             [
              0.3333333333333333,
              "#9c179e"
             ],
             [
              0.4444444444444444,
              "#bd3786"
             ],
             [
              0.5555555555555556,
              "#d8576b"
             ],
             [
              0.6666666666666666,
              "#ed7953"
             ],
             [
              0.7777777777777778,
              "#fb9f3a"
             ],
             [
              0.8888888888888888,
              "#fdca26"
             ],
             [
              1,
              "#f0f921"
             ]
            ],
            "type": "heatmapgl"
           }
          ],
          "histogram": [
           {
            "marker": {
             "colorbar": {
              "outlinewidth": 0,
              "ticks": ""
             }
            },
            "type": "histogram"
           }
          ],
          "histogram2d": [
           {
            "colorbar": {
             "outlinewidth": 0,
             "ticks": ""
            },
            "colorscale": [
             [
              0,
              "#0d0887"
             ],
             [
              0.1111111111111111,
              "#46039f"
             ],
             [
              0.2222222222222222,
              "#7201a8"
             ],
             [
              0.3333333333333333,
              "#9c179e"
             ],
             [
              0.4444444444444444,
              "#bd3786"
             ],
             [
              0.5555555555555556,
              "#d8576b"
             ],
             [
              0.6666666666666666,
              "#ed7953"
             ],
             [
              0.7777777777777778,
              "#fb9f3a"
             ],
             [
              0.8888888888888888,
              "#fdca26"
             ],
             [
              1,
              "#f0f921"
             ]
            ],
            "type": "histogram2d"
           }
          ],
          "histogram2dcontour": [
           {
            "colorbar": {
             "outlinewidth": 0,
             "ticks": ""
            },
            "colorscale": [
             [
              0,
              "#0d0887"
             ],
             [
              0.1111111111111111,
              "#46039f"
             ],
             [
              0.2222222222222222,
              "#7201a8"
             ],
             [
              0.3333333333333333,
              "#9c179e"
             ],
             [
              0.4444444444444444,
              "#bd3786"
             ],
             [
              0.5555555555555556,
              "#d8576b"
             ],
             [
              0.6666666666666666,
              "#ed7953"
             ],
             [
              0.7777777777777778,
              "#fb9f3a"
             ],
             [
              0.8888888888888888,
              "#fdca26"
             ],
             [
              1,
              "#f0f921"
             ]
            ],
            "type": "histogram2dcontour"
           }
          ],
          "mesh3d": [
           {
            "colorbar": {
             "outlinewidth": 0,
             "ticks": ""
            },
            "type": "mesh3d"
           }
          ],
          "parcoords": [
           {
            "line": {
             "colorbar": {
              "outlinewidth": 0,
              "ticks": ""
             }
            },
            "type": "parcoords"
           }
          ],
          "pie": [
           {
            "automargin": true,
            "type": "pie"
           }
          ],
          "scatter": [
           {
            "marker": {
             "colorbar": {
              "outlinewidth": 0,
              "ticks": ""
             }
            },
            "type": "scatter"
           }
          ],
          "scatter3d": [
           {
            "line": {
             "colorbar": {
              "outlinewidth": 0,
              "ticks": ""
             }
            },
            "marker": {
             "colorbar": {
              "outlinewidth": 0,
              "ticks": ""
             }
            },
            "type": "scatter3d"
           }
          ],
          "scattercarpet": [
           {
            "marker": {
             "colorbar": {
              "outlinewidth": 0,
              "ticks": ""
             }
            },
            "type": "scattercarpet"
           }
          ],
          "scattergeo": [
           {
            "marker": {
             "colorbar": {
              "outlinewidth": 0,
              "ticks": ""
             }
            },
            "type": "scattergeo"
           }
          ],
          "scattergl": [
           {
            "marker": {
             "colorbar": {
              "outlinewidth": 0,
              "ticks": ""
             }
            },
            "type": "scattergl"
           }
          ],
          "scattermapbox": [
           {
            "marker": {
             "colorbar": {
              "outlinewidth": 0,
              "ticks": ""
             }
            },
            "type": "scattermapbox"
           }
          ],
          "scatterpolar": [
           {
            "marker": {
             "colorbar": {
              "outlinewidth": 0,
              "ticks": ""
             }
            },
            "type": "scatterpolar"
           }
          ],
          "scatterpolargl": [
           {
            "marker": {
             "colorbar": {
              "outlinewidth": 0,
              "ticks": ""
             }
            },
            "type": "scatterpolargl"
           }
          ],
          "scatterternary": [
           {
            "marker": {
             "colorbar": {
              "outlinewidth": 0,
              "ticks": ""
             }
            },
            "type": "scatterternary"
           }
          ],
          "surface": [
           {
            "colorbar": {
             "outlinewidth": 0,
             "ticks": ""
            },
            "colorscale": [
             [
              0,
              "#0d0887"
             ],
             [
              0.1111111111111111,
              "#46039f"
             ],
             [
              0.2222222222222222,
              "#7201a8"
             ],
             [
              0.3333333333333333,
              "#9c179e"
             ],
             [
              0.4444444444444444,
              "#bd3786"
             ],
             [
              0.5555555555555556,
              "#d8576b"
             ],
             [
              0.6666666666666666,
              "#ed7953"
             ],
             [
              0.7777777777777778,
              "#fb9f3a"
             ],
             [
              0.8888888888888888,
              "#fdca26"
             ],
             [
              1,
              "#f0f921"
             ]
            ],
            "type": "surface"
           }
          ],
          "table": [
           {
            "cells": {
             "fill": {
              "color": "#EBF0F8"
             },
             "line": {
              "color": "white"
             }
            },
            "header": {
             "fill": {
              "color": "#C8D4E3"
             },
             "line": {
              "color": "white"
             }
            },
            "type": "table"
           }
          ]
         },
         "layout": {
          "annotationdefaults": {
           "arrowcolor": "#2a3f5f",
           "arrowhead": 0,
           "arrowwidth": 1
          },
          "coloraxis": {
           "colorbar": {
            "outlinewidth": 0,
            "ticks": ""
           }
          },
          "colorscale": {
           "diverging": [
            [
             0,
             "#8e0152"
            ],
            [
             0.1,
             "#c51b7d"
            ],
            [
             0.2,
             "#de77ae"
            ],
            [
             0.3,
             "#f1b6da"
            ],
            [
             0.4,
             "#fde0ef"
            ],
            [
             0.5,
             "#f7f7f7"
            ],
            [
             0.6,
             "#e6f5d0"
            ],
            [
             0.7,
             "#b8e186"
            ],
            [
             0.8,
             "#7fbc41"
            ],
            [
             0.9,
             "#4d9221"
            ],
            [
             1,
             "#276419"
            ]
           ],
           "sequential": [
            [
             0,
             "#0d0887"
            ],
            [
             0.1111111111111111,
             "#46039f"
            ],
            [
             0.2222222222222222,
             "#7201a8"
            ],
            [
             0.3333333333333333,
             "#9c179e"
            ],
            [
             0.4444444444444444,
             "#bd3786"
            ],
            [
             0.5555555555555556,
             "#d8576b"
            ],
            [
             0.6666666666666666,
             "#ed7953"
            ],
            [
             0.7777777777777778,
             "#fb9f3a"
            ],
            [
             0.8888888888888888,
             "#fdca26"
            ],
            [
             1,
             "#f0f921"
            ]
           ],
           "sequentialminus": [
            [
             0,
             "#0d0887"
            ],
            [
             0.1111111111111111,
             "#46039f"
            ],
            [
             0.2222222222222222,
             "#7201a8"
            ],
            [
             0.3333333333333333,
             "#9c179e"
            ],
            [
             0.4444444444444444,
             "#bd3786"
            ],
            [
             0.5555555555555556,
             "#d8576b"
            ],
            [
             0.6666666666666666,
             "#ed7953"
            ],
            [
             0.7777777777777778,
             "#fb9f3a"
            ],
            [
             0.8888888888888888,
             "#fdca26"
            ],
            [
             1,
             "#f0f921"
            ]
           ]
          },
          "colorway": [
           "#636efa",
           "#EF553B",
           "#00cc96",
           "#ab63fa",
           "#FFA15A",
           "#19d3f3",
           "#FF6692",
           "#B6E880",
           "#FF97FF",
           "#FECB52"
          ],
          "font": {
           "color": "#2a3f5f"
          },
          "geo": {
           "bgcolor": "white",
           "lakecolor": "white",
           "landcolor": "#E5ECF6",
           "showlakes": true,
           "showland": true,
           "subunitcolor": "white"
          },
          "hoverlabel": {
           "align": "left"
          },
          "hovermode": "closest",
          "mapbox": {
           "style": "light"
          },
          "paper_bgcolor": "white",
          "plot_bgcolor": "#E5ECF6",
          "polar": {
           "angularaxis": {
            "gridcolor": "white",
            "linecolor": "white",
            "ticks": ""
           },
           "bgcolor": "#E5ECF6",
           "radialaxis": {
            "gridcolor": "white",
            "linecolor": "white",
            "ticks": ""
           }
          },
          "scene": {
           "xaxis": {
            "backgroundcolor": "#E5ECF6",
            "gridcolor": "white",
            "gridwidth": 2,
            "linecolor": "white",
            "showbackground": true,
            "ticks": "",
            "zerolinecolor": "white"
           },
           "yaxis": {
            "backgroundcolor": "#E5ECF6",
            "gridcolor": "white",
            "gridwidth": 2,
            "linecolor": "white",
            "showbackground": true,
            "ticks": "",
            "zerolinecolor": "white"
           },
           "zaxis": {
            "backgroundcolor": "#E5ECF6",
            "gridcolor": "white",
            "gridwidth": 2,
            "linecolor": "white",
            "showbackground": true,
            "ticks": "",
            "zerolinecolor": "white"
           }
          },
          "shapedefaults": {
           "line": {
            "color": "#2a3f5f"
           }
          },
          "ternary": {
           "aaxis": {
            "gridcolor": "white",
            "linecolor": "white",
            "ticks": ""
           },
           "baxis": {
            "gridcolor": "white",
            "linecolor": "white",
            "ticks": ""
           },
           "bgcolor": "#E5ECF6",
           "caxis": {
            "gridcolor": "white",
            "linecolor": "white",
            "ticks": ""
           }
          },
          "title": {
           "x": 0.05
          },
          "xaxis": {
           "automargin": true,
           "gridcolor": "white",
           "linecolor": "white",
           "ticks": "",
           "title": {
            "standoff": 15
           },
           "zerolinecolor": "white",
           "zerolinewidth": 2
          },
          "yaxis": {
           "automargin": true,
           "gridcolor": "white",
           "linecolor": "white",
           "ticks": "",
           "title": {
            "standoff": 15
           },
           "zerolinecolor": "white",
           "zerolinewidth": 2
          }
         }
        },
        "width": 990,
        "xaxis": {
         "dtick": 1,
         "gridcolor": "rgb(0, 0, 0)",
         "side": "top",
         "ticks": "",
         "title": {
          "text": "Динамика коэффициента распространения Rt по странам"
         }
        },
        "yaxis": {
         "dtick": 1,
         "ticks": "",
         "ticksuffix": "  "
        }
       }
      }
     },
     "metadata": {}
    }
   ],
   "source": [
    "fig = ff.create_annotated_heatmap(d, x=x2, y=y, annotation_text=d,\n",
    "                                  colorscale='Temps')\n",
    "\n",
    "fig.update_layout(\n",
    "                  \n",
    "                  \n",
    "                  width = 990, height = 600,    \n",
    "    \n",
    "                  xaxis_title='Динамика коэффициента распространения Rt по странам',\n",
    "               #   yaxis_title = 'Регион '\n",
    ")\n",
    "\n",
    "fig.show()\n",
    "\n"
   ]
  },
  {
   "cell_type": "code",
   "execution_count": 15,
   "metadata": {
    "tags": []
   },
   "outputs": [
    {
     "output_type": "stream",
     "name": "stdout",
     "text": "[[1.098 1.092 1.08  1.07  1.068 1.074 1.081 1.083 1.076 1.067 1.058 1.057\n  1.063 1.068 1.07  1.066 1.059 1.053 1.053]\n [1.009 1.01  1.01  1.01  1.01  1.01  1.01  1.01  1.011 1.011 1.011 1.011\n  1.011 1.011 1.012 1.012 1.012 1.012 1.012]\n [1.157 1.157 1.153 1.149 1.144 1.143 1.142 1.142 1.141 1.136 1.13  1.126\n  1.124 1.125 1.126 1.125 1.122 1.119 1.115]\n [1.03  1.03  1.029 1.029 1.028 1.027 1.027 1.027 1.026 1.026 1.026 1.025\n  1.025 1.025 1.024 1.024 1.024 1.023 1.023]\n [1.07  1.068 1.065 1.062 1.061 1.061 1.061 1.06  1.057 1.052 1.048 1.046\n  1.046 1.047 1.047 1.046 1.044 1.042 1.041]]\n"
    },
    {
     "output_type": "execute_result",
     "data": {
      "text/plain": "Date         Country  2020-07-26  2020-07-27  2020-07-28  2020-07-29  \\\n0           Бразилия       1.098       1.092       1.080       1.070   \n1     Великобритания       1.009       1.010       1.010       1.010   \n2              Индия       1.157       1.157       1.153       1.149   \n3             Россия       1.030       1.030       1.029       1.029   \n4                США       1.070       1.068       1.065       1.062   \n\nDate  2020-07-30  2020-07-31  2020-08-01  2020-08-02  2020-08-03  2020-08-04  \\\n0          1.068       1.074       1.081       1.083       1.076       1.067   \n1          1.010       1.010       1.010       1.010       1.011       1.011   \n2          1.144       1.143       1.142       1.142       1.141       1.136   \n3          1.028       1.027       1.027       1.027       1.026       1.026   \n4          1.061       1.061       1.061       1.060       1.057       1.052   \n\nDate  2020-08-05  2020-08-06  2020-08-07  2020-08-08  2020-08-09  2020-08-10  \\\n0          1.058       1.057       1.063       1.068       1.070       1.066   \n1          1.011       1.011       1.011       1.011       1.012       1.012   \n2          1.130       1.126       1.124       1.125       1.126       1.125   \n3          1.026       1.025       1.025       1.025       1.024       1.024   \n4          1.048       1.046       1.046       1.047       1.047       1.046   \n\nDate  2020-08-11  2020-08-12  2020-08-13  \n0          1.059       1.053       1.053  \n1          1.012       1.012       1.012  \n2          1.122       1.119       1.115  \n3          1.024       1.023       1.023  \n4          1.044       1.042       1.041  ",
      "text/html": "<div>\n<style scoped>\n    .dataframe tbody tr th:only-of-type {\n        vertical-align: middle;\n    }\n\n    .dataframe tbody tr th {\n        vertical-align: top;\n    }\n\n    .dataframe thead th {\n        text-align: right;\n    }\n</style>\n<table border=\"1\" class=\"dataframe\">\n  <thead>\n    <tr style=\"text-align: right;\">\n      <th>Date</th>\n      <th>Country</th>\n      <th>2020-07-26</th>\n      <th>2020-07-27</th>\n      <th>2020-07-28</th>\n      <th>2020-07-29</th>\n      <th>2020-07-30</th>\n      <th>2020-07-31</th>\n      <th>2020-08-01</th>\n      <th>2020-08-02</th>\n      <th>2020-08-03</th>\n      <th>2020-08-04</th>\n      <th>2020-08-05</th>\n      <th>2020-08-06</th>\n      <th>2020-08-07</th>\n      <th>2020-08-08</th>\n      <th>2020-08-09</th>\n      <th>2020-08-10</th>\n      <th>2020-08-11</th>\n      <th>2020-08-12</th>\n      <th>2020-08-13</th>\n    </tr>\n  </thead>\n  <tbody>\n    <tr>\n      <th>0</th>\n      <td>Бразилия</td>\n      <td>1.098</td>\n      <td>1.092</td>\n      <td>1.080</td>\n      <td>1.070</td>\n      <td>1.068</td>\n      <td>1.074</td>\n      <td>1.081</td>\n      <td>1.083</td>\n      <td>1.076</td>\n      <td>1.067</td>\n      <td>1.058</td>\n      <td>1.057</td>\n      <td>1.063</td>\n      <td>1.068</td>\n      <td>1.070</td>\n      <td>1.066</td>\n      <td>1.059</td>\n      <td>1.053</td>\n      <td>1.053</td>\n    </tr>\n    <tr>\n      <th>1</th>\n      <td>Великобритания</td>\n      <td>1.009</td>\n      <td>1.010</td>\n      <td>1.010</td>\n      <td>1.010</td>\n      <td>1.010</td>\n      <td>1.010</td>\n      <td>1.010</td>\n      <td>1.010</td>\n      <td>1.011</td>\n      <td>1.011</td>\n      <td>1.011</td>\n      <td>1.011</td>\n      <td>1.011</td>\n      <td>1.011</td>\n      <td>1.012</td>\n      <td>1.012</td>\n      <td>1.012</td>\n      <td>1.012</td>\n      <td>1.012</td>\n    </tr>\n    <tr>\n      <th>2</th>\n      <td>Индия</td>\n      <td>1.157</td>\n      <td>1.157</td>\n      <td>1.153</td>\n      <td>1.149</td>\n      <td>1.144</td>\n      <td>1.143</td>\n      <td>1.142</td>\n      <td>1.142</td>\n      <td>1.141</td>\n      <td>1.136</td>\n      <td>1.130</td>\n      <td>1.126</td>\n      <td>1.124</td>\n      <td>1.125</td>\n      <td>1.126</td>\n      <td>1.125</td>\n      <td>1.122</td>\n      <td>1.119</td>\n      <td>1.115</td>\n    </tr>\n    <tr>\n      <th>3</th>\n      <td>Россия</td>\n      <td>1.030</td>\n      <td>1.030</td>\n      <td>1.029</td>\n      <td>1.029</td>\n      <td>1.028</td>\n      <td>1.027</td>\n      <td>1.027</td>\n      <td>1.027</td>\n      <td>1.026</td>\n      <td>1.026</td>\n      <td>1.026</td>\n      <td>1.025</td>\n      <td>1.025</td>\n      <td>1.025</td>\n      <td>1.024</td>\n      <td>1.024</td>\n      <td>1.024</td>\n      <td>1.023</td>\n      <td>1.023</td>\n    </tr>\n    <tr>\n      <th>4</th>\n      <td>США</td>\n      <td>1.070</td>\n      <td>1.068</td>\n      <td>1.065</td>\n      <td>1.062</td>\n      <td>1.061</td>\n      <td>1.061</td>\n      <td>1.061</td>\n      <td>1.060</td>\n      <td>1.057</td>\n      <td>1.052</td>\n      <td>1.048</td>\n      <td>1.046</td>\n      <td>1.046</td>\n      <td>1.047</td>\n      <td>1.047</td>\n      <td>1.046</td>\n      <td>1.044</td>\n      <td>1.042</td>\n      <td>1.041</td>\n    </tr>\n  </tbody>\n</table>\n</div>"
     },
     "metadata": {},
     "execution_count": 15
    }
   ],
   "source": [
    "mask = (X.Date>=datetime.date(2020,7,26))&(X.Country.isin(country_towatch))\n",
    "\n",
    "\n",
    "# #mask = (X.Date>='2020-06-04')\n",
    "\n",
    "Z = X[mask].groupby(['Country','Date']).Rt2.sum().apply(my_round).unstack().reset_index()\n",
    "Z.dropna(inplace=True)\n",
    "d = Z.drop('Country',axis = 1).values\n",
    "\n",
    "# my_map= {'Москва':'2.Москва','Московская обл.':'3.Московская обл.','Нижегородская обл.':'5.Нижегородская обл.',\n",
    "#                     'Россия':'1.Россия', 'Санкт-Петербург':'4.Санкт-Петербург'}\n",
    "# Z.Region = Z.Region.map(my_map)\n",
    "\n",
    "print(d)\n",
    "Z.head()"
   ]
  },
  {
   "cell_type": "code",
   "execution_count": 16,
   "metadata": {
    "tags": []
   },
   "outputs": [
    {
     "output_type": "stream",
     "name": "stdout",
     "text": "[datetime.date(2020, 7, 26), datetime.date(2020, 7, 27), datetime.date(2020, 7, 28), datetime.date(2020, 7, 29), datetime.date(2020, 7, 30), datetime.date(2020, 7, 31), datetime.date(2020, 8, 1), datetime.date(2020, 8, 2), datetime.date(2020, 8, 3), datetime.date(2020, 8, 4), datetime.date(2020, 8, 5), datetime.date(2020, 8, 6), datetime.date(2020, 8, 7), datetime.date(2020, 8, 8), datetime.date(2020, 8, 9), datetime.date(2020, 8, 10), datetime.date(2020, 8, 11), datetime.date(2020, 8, 12), datetime.date(2020, 8, 13)]\n['26.7.2020', '27.7.2020', '28.7.2020', '29.7.2020', '30.7.2020', '31.7.2020', '1.8.2020', '2.8.2020', '3.8.2020', '4.8.2020', '5.8.2020', '6.8.2020', '7.8.2020', '8.8.2020', '9.8.2020', '10.8.2020', '11.8.2020', '12.8.2020', '13.8.2020']\n"
    }
   ],
   "source": [
    "x1=list(Z.columns[1:])\n",
    "x2=[]\n",
    "for i in x1:\n",
    "    x2.append(str(i.day)+'.'+str(i.month)+\".\"+str(i.year))\n",
    "    \n",
    "y=list(Z.Country)\n",
    "print(list(x1))\n",
    "print(x2)"
   ]
  },
  {
   "cell_type": "code",
   "execution_count": 17,
   "metadata": {},
   "outputs": [
    {
     "output_type": "display_data",
     "data": {
      "application/vnd.plotly.v1+json": {
       "config": {
        "plotlyServerURL": "https://plot.ly"
       },
       "data": [
        {
         "colorscale": [
          [
           0,
           "rgb(0, 147, 146)"
          ],
          [
           0.16666666666666666,
           "rgb(57, 177, 133)"
          ],
          [
           0.3333333333333333,
           "rgb(156, 203, 134)"
          ],
          [
           0.5,
           "rgb(233, 226, 156)"
          ],
          [
           0.6666666666666666,
           "rgb(238, 180, 121)"
          ],
          [
           0.8333333333333334,
           "rgb(232, 132, 113)"
          ],
          [
           1,
           "rgb(207, 89, 126)"
          ]
         ],
         "reversescale": false,
         "showscale": false,
         "type": "heatmap",
         "x": [
          "26.7.2020",
          "27.7.2020",
          "28.7.2020",
          "29.7.2020",
          "30.7.2020",
          "31.7.2020",
          "1.8.2020",
          "2.8.2020",
          "3.8.2020",
          "4.8.2020",
          "5.8.2020",
          "6.8.2020",
          "7.8.2020",
          "8.8.2020",
          "9.8.2020",
          "10.8.2020",
          "11.8.2020",
          "12.8.2020",
          "13.8.2020"
         ],
         "y": [
          "Бразилия",
          "Великобритания",
          "Индия",
          "Россия",
          "США"
         ],
         "z": [
          [
           1.098,
           1.092,
           1.08,
           1.07,
           1.068,
           1.074,
           1.081,
           1.083,
           1.076,
           1.067,
           1.058,
           1.057,
           1.063,
           1.068,
           1.07,
           1.066,
           1.059,
           1.053,
           1.053
          ],
          [
           1.009,
           1.01,
           1.01,
           1.01,
           1.01,
           1.01,
           1.01,
           1.01,
           1.011,
           1.011,
           1.011,
           1.011,
           1.011,
           1.011,
           1.012,
           1.012,
           1.012,
           1.012,
           1.012
          ],
          [
           1.157,
           1.157,
           1.153,
           1.149,
           1.144,
           1.143,
           1.142,
           1.142,
           1.141,
           1.136,
           1.13,
           1.126,
           1.124,
           1.125,
           1.126,
           1.125,
           1.122,
           1.119,
           1.115
          ],
          [
           1.03,
           1.03,
           1.029,
           1.029,
           1.028,
           1.027,
           1.027,
           1.027,
           1.026,
           1.026,
           1.026,
           1.025,
           1.025,
           1.025,
           1.024,
           1.024,
           1.024,
           1.023,
           1.023
          ],
          [
           1.07,
           1.068,
           1.065,
           1.062,
           1.061,
           1.061,
           1.061,
           1.06,
           1.057,
           1.052,
           1.048,
           1.046,
           1.046,
           1.047,
           1.047,
           1.046,
           1.044,
           1.042,
           1.041
          ]
         ]
        }
       ],
       "layout": {
        "annotations": [
         {
          "font": {
           "color": "#FFFFFF"
          },
          "showarrow": false,
          "text": "1.098",
          "x": "26.7.2020",
          "xref": "x",
          "y": "Бразилия",
          "yref": "y"
         },
         {
          "font": {
           "color": "#FFFFFF"
          },
          "showarrow": false,
          "text": "1.092",
          "x": "27.7.2020",
          "xref": "x",
          "y": "Бразилия",
          "yref": "y"
         },
         {
          "font": {
           "color": "#FFFFFF"
          },
          "showarrow": false,
          "text": "1.08",
          "x": "28.7.2020",
          "xref": "x",
          "y": "Бразилия",
          "yref": "y"
         },
         {
          "font": {
           "color": "#FFFFFF"
          },
          "showarrow": false,
          "text": "1.07",
          "x": "29.7.2020",
          "xref": "x",
          "y": "Бразилия",
          "yref": "y"
         },
         {
          "font": {
           "color": "#FFFFFF"
          },
          "showarrow": false,
          "text": "1.068",
          "x": "30.7.2020",
          "xref": "x",
          "y": "Бразилия",
          "yref": "y"
         },
         {
          "font": {
           "color": "#FFFFFF"
          },
          "showarrow": false,
          "text": "1.074",
          "x": "31.7.2020",
          "xref": "x",
          "y": "Бразилия",
          "yref": "y"
         },
         {
          "font": {
           "color": "#FFFFFF"
          },
          "showarrow": false,
          "text": "1.081",
          "x": "1.8.2020",
          "xref": "x",
          "y": "Бразилия",
          "yref": "y"
         },
         {
          "font": {
           "color": "#FFFFFF"
          },
          "showarrow": false,
          "text": "1.083",
          "x": "2.8.2020",
          "xref": "x",
          "y": "Бразилия",
          "yref": "y"
         },
         {
          "font": {
           "color": "#FFFFFF"
          },
          "showarrow": false,
          "text": "1.076",
          "x": "3.8.2020",
          "xref": "x",
          "y": "Бразилия",
          "yref": "y"
         },
         {
          "font": {
           "color": "#FFFFFF"
          },
          "showarrow": false,
          "text": "1.067",
          "x": "4.8.2020",
          "xref": "x",
          "y": "Бразилия",
          "yref": "y"
         },
         {
          "font": {
           "color": "#FFFFFF"
          },
          "showarrow": false,
          "text": "1.058",
          "x": "5.8.2020",
          "xref": "x",
          "y": "Бразилия",
          "yref": "y"
         },
         {
          "font": {
           "color": "#FFFFFF"
          },
          "showarrow": false,
          "text": "1.057",
          "x": "6.8.2020",
          "xref": "x",
          "y": "Бразилия",
          "yref": "y"
         },
         {
          "font": {
           "color": "#FFFFFF"
          },
          "showarrow": false,
          "text": "1.063",
          "x": "7.8.2020",
          "xref": "x",
          "y": "Бразилия",
          "yref": "y"
         },
         {
          "font": {
           "color": "#FFFFFF"
          },
          "showarrow": false,
          "text": "1.068",
          "x": "8.8.2020",
          "xref": "x",
          "y": "Бразилия",
          "yref": "y"
         },
         {
          "font": {
           "color": "#FFFFFF"
          },
          "showarrow": false,
          "text": "1.07",
          "x": "9.8.2020",
          "xref": "x",
          "y": "Бразилия",
          "yref": "y"
         },
         {
          "font": {
           "color": "#FFFFFF"
          },
          "showarrow": false,
          "text": "1.066",
          "x": "10.8.2020",
          "xref": "x",
          "y": "Бразилия",
          "yref": "y"
         },
         {
          "font": {
           "color": "#FFFFFF"
          },
          "showarrow": false,
          "text": "1.059",
          "x": "11.8.2020",
          "xref": "x",
          "y": "Бразилия",
          "yref": "y"
         },
         {
          "font": {
           "color": "#FFFFFF"
          },
          "showarrow": false,
          "text": "1.053",
          "x": "12.8.2020",
          "xref": "x",
          "y": "Бразилия",
          "yref": "y"
         },
         {
          "font": {
           "color": "#FFFFFF"
          },
          "showarrow": false,
          "text": "1.053",
          "x": "13.8.2020",
          "xref": "x",
          "y": "Бразилия",
          "yref": "y"
         },
         {
          "font": {
           "color": "#FFFFFF"
          },
          "showarrow": false,
          "text": "1.009",
          "x": "26.7.2020",
          "xref": "x",
          "y": "Великобритания",
          "yref": "y"
         },
         {
          "font": {
           "color": "#FFFFFF"
          },
          "showarrow": false,
          "text": "1.01",
          "x": "27.7.2020",
          "xref": "x",
          "y": "Великобритания",
          "yref": "y"
         },
         {
          "font": {
           "color": "#FFFFFF"
          },
          "showarrow": false,
          "text": "1.01",
          "x": "28.7.2020",
          "xref": "x",
          "y": "Великобритания",
          "yref": "y"
         },
         {
          "font": {
           "color": "#FFFFFF"
          },
          "showarrow": false,
          "text": "1.01",
          "x": "29.7.2020",
          "xref": "x",
          "y": "Великобритания",
          "yref": "y"
         },
         {
          "font": {
           "color": "#FFFFFF"
          },
          "showarrow": false,
          "text": "1.01",
          "x": "30.7.2020",
          "xref": "x",
          "y": "Великобритания",
          "yref": "y"
         },
         {
          "font": {
           "color": "#FFFFFF"
          },
          "showarrow": false,
          "text": "1.01",
          "x": "31.7.2020",
          "xref": "x",
          "y": "Великобритания",
          "yref": "y"
         },
         {
          "font": {
           "color": "#FFFFFF"
          },
          "showarrow": false,
          "text": "1.01",
          "x": "1.8.2020",
          "xref": "x",
          "y": "Великобритания",
          "yref": "y"
         },
         {
          "font": {
           "color": "#FFFFFF"
          },
          "showarrow": false,
          "text": "1.01",
          "x": "2.8.2020",
          "xref": "x",
          "y": "Великобритания",
          "yref": "y"
         },
         {
          "font": {
           "color": "#FFFFFF"
          },
          "showarrow": false,
          "text": "1.011",
          "x": "3.8.2020",
          "xref": "x",
          "y": "Великобритания",
          "yref": "y"
         },
         {
          "font": {
           "color": "#FFFFFF"
          },
          "showarrow": false,
          "text": "1.011",
          "x": "4.8.2020",
          "xref": "x",
          "y": "Великобритания",
          "yref": "y"
         },
         {
          "font": {
           "color": "#FFFFFF"
          },
          "showarrow": false,
          "text": "1.011",
          "x": "5.8.2020",
          "xref": "x",
          "y": "Великобритания",
          "yref": "y"
         },
         {
          "font": {
           "color": "#FFFFFF"
          },
          "showarrow": false,
          "text": "1.011",
          "x": "6.8.2020",
          "xref": "x",
          "y": "Великобритания",
          "yref": "y"
         },
         {
          "font": {
           "color": "#FFFFFF"
          },
          "showarrow": false,
          "text": "1.011",
          "x": "7.8.2020",
          "xref": "x",
          "y": "Великобритания",
          "yref": "y"
         },
         {
          "font": {
           "color": "#FFFFFF"
          },
          "showarrow": false,
          "text": "1.011",
          "x": "8.8.2020",
          "xref": "x",
          "y": "Великобритания",
          "yref": "y"
         },
         {
          "font": {
           "color": "#FFFFFF"
          },
          "showarrow": false,
          "text": "1.012",
          "x": "9.8.2020",
          "xref": "x",
          "y": "Великобритания",
          "yref": "y"
         },
         {
          "font": {
           "color": "#FFFFFF"
          },
          "showarrow": false,
          "text": "1.012",
          "x": "10.8.2020",
          "xref": "x",
          "y": "Великобритания",
          "yref": "y"
         },
         {
          "font": {
           "color": "#FFFFFF"
          },
          "showarrow": false,
          "text": "1.012",
          "x": "11.8.2020",
          "xref": "x",
          "y": "Великобритания",
          "yref": "y"
         },
         {
          "font": {
           "color": "#FFFFFF"
          },
          "showarrow": false,
          "text": "1.012",
          "x": "12.8.2020",
          "xref": "x",
          "y": "Великобритания",
          "yref": "y"
         },
         {
          "font": {
           "color": "#FFFFFF"
          },
          "showarrow": false,
          "text": "1.012",
          "x": "13.8.2020",
          "xref": "x",
          "y": "Великобритания",
          "yref": "y"
         },
         {
          "font": {
           "color": "#FFFFFF"
          },
          "showarrow": false,
          "text": "1.157",
          "x": "26.7.2020",
          "xref": "x",
          "y": "Индия",
          "yref": "y"
         },
         {
          "font": {
           "color": "#FFFFFF"
          },
          "showarrow": false,
          "text": "1.157",
          "x": "27.7.2020",
          "xref": "x",
          "y": "Индия",
          "yref": "y"
         },
         {
          "font": {
           "color": "#FFFFFF"
          },
          "showarrow": false,
          "text": "1.153",
          "x": "28.7.2020",
          "xref": "x",
          "y": "Индия",
          "yref": "y"
         },
         {
          "font": {
           "color": "#FFFFFF"
          },
          "showarrow": false,
          "text": "1.149",
          "x": "29.7.2020",
          "xref": "x",
          "y": "Индия",
          "yref": "y"
         },
         {
          "font": {
           "color": "#FFFFFF"
          },
          "showarrow": false,
          "text": "1.144",
          "x": "30.7.2020",
          "xref": "x",
          "y": "Индия",
          "yref": "y"
         },
         {
          "font": {
           "color": "#FFFFFF"
          },
          "showarrow": false,
          "text": "1.143",
          "x": "31.7.2020",
          "xref": "x",
          "y": "Индия",
          "yref": "y"
         },
         {
          "font": {
           "color": "#FFFFFF"
          },
          "showarrow": false,
          "text": "1.142",
          "x": "1.8.2020",
          "xref": "x",
          "y": "Индия",
          "yref": "y"
         },
         {
          "font": {
           "color": "#FFFFFF"
          },
          "showarrow": false,
          "text": "1.142",
          "x": "2.8.2020",
          "xref": "x",
          "y": "Индия",
          "yref": "y"
         },
         {
          "font": {
           "color": "#FFFFFF"
          },
          "showarrow": false,
          "text": "1.141",
          "x": "3.8.2020",
          "xref": "x",
          "y": "Индия",
          "yref": "y"
         },
         {
          "font": {
           "color": "#FFFFFF"
          },
          "showarrow": false,
          "text": "1.136",
          "x": "4.8.2020",
          "xref": "x",
          "y": "Индия",
          "yref": "y"
         },
         {
          "font": {
           "color": "#FFFFFF"
          },
          "showarrow": false,
          "text": "1.13",
          "x": "5.8.2020",
          "xref": "x",
          "y": "Индия",
          "yref": "y"
         },
         {
          "font": {
           "color": "#FFFFFF"
          },
          "showarrow": false,
          "text": "1.126",
          "x": "6.8.2020",
          "xref": "x",
          "y": "Индия",
          "yref": "y"
         },
         {
          "font": {
           "color": "#FFFFFF"
          },
          "showarrow": false,
          "text": "1.124",
          "x": "7.8.2020",
          "xref": "x",
          "y": "Индия",
          "yref": "y"
         },
         {
          "font": {
           "color": "#FFFFFF"
          },
          "showarrow": false,
          "text": "1.125",
          "x": "8.8.2020",
          "xref": "x",
          "y": "Индия",
          "yref": "y"
         },
         {
          "font": {
           "color": "#FFFFFF"
          },
          "showarrow": false,
          "text": "1.126",
          "x": "9.8.2020",
          "xref": "x",
          "y": "Индия",
          "yref": "y"
         },
         {
          "font": {
           "color": "#FFFFFF"
          },
          "showarrow": false,
          "text": "1.125",
          "x": "10.8.2020",
          "xref": "x",
          "y": "Индия",
          "yref": "y"
         },
         {
          "font": {
           "color": "#FFFFFF"
          },
          "showarrow": false,
          "text": "1.122",
          "x": "11.8.2020",
          "xref": "x",
          "y": "Индия",
          "yref": "y"
         },
         {
          "font": {
           "color": "#FFFFFF"
          },
          "showarrow": false,
          "text": "1.119",
          "x": "12.8.2020",
          "xref": "x",
          "y": "Индия",
          "yref": "y"
         },
         {
          "font": {
           "color": "#FFFFFF"
          },
          "showarrow": false,
          "text": "1.115",
          "x": "13.8.2020",
          "xref": "x",
          "y": "Индия",
          "yref": "y"
         },
         {
          "font": {
           "color": "#FFFFFF"
          },
          "showarrow": false,
          "text": "1.03",
          "x": "26.7.2020",
          "xref": "x",
          "y": "Россия",
          "yref": "y"
         },
         {
          "font": {
           "color": "#FFFFFF"
          },
          "showarrow": false,
          "text": "1.03",
          "x": "27.7.2020",
          "xref": "x",
          "y": "Россия",
          "yref": "y"
         },
         {
          "font": {
           "color": "#FFFFFF"
          },
          "showarrow": false,
          "text": "1.029",
          "x": "28.7.2020",
          "xref": "x",
          "y": "Россия",
          "yref": "y"
         },
         {
          "font": {
           "color": "#FFFFFF"
          },
          "showarrow": false,
          "text": "1.029",
          "x": "29.7.2020",
          "xref": "x",
          "y": "Россия",
          "yref": "y"
         },
         {
          "font": {
           "color": "#FFFFFF"
          },
          "showarrow": false,
          "text": "1.028",
          "x": "30.7.2020",
          "xref": "x",
          "y": "Россия",
          "yref": "y"
         },
         {
          "font": {
           "color": "#FFFFFF"
          },
          "showarrow": false,
          "text": "1.027",
          "x": "31.7.2020",
          "xref": "x",
          "y": "Россия",
          "yref": "y"
         },
         {
          "font": {
           "color": "#FFFFFF"
          },
          "showarrow": false,
          "text": "1.027",
          "x": "1.8.2020",
          "xref": "x",
          "y": "Россия",
          "yref": "y"
         },
         {
          "font": {
           "color": "#FFFFFF"
          },
          "showarrow": false,
          "text": "1.027",
          "x": "2.8.2020",
          "xref": "x",
          "y": "Россия",
          "yref": "y"
         },
         {
          "font": {
           "color": "#FFFFFF"
          },
          "showarrow": false,
          "text": "1.026",
          "x": "3.8.2020",
          "xref": "x",
          "y": "Россия",
          "yref": "y"
         },
         {
          "font": {
           "color": "#FFFFFF"
          },
          "showarrow": false,
          "text": "1.026",
          "x": "4.8.2020",
          "xref": "x",
          "y": "Россия",
          "yref": "y"
         },
         {
          "font": {
           "color": "#FFFFFF"
          },
          "showarrow": false,
          "text": "1.026",
          "x": "5.8.2020",
          "xref": "x",
          "y": "Россия",
          "yref": "y"
         },
         {
          "font": {
           "color": "#FFFFFF"
          },
          "showarrow": false,
          "text": "1.025",
          "x": "6.8.2020",
          "xref": "x",
          "y": "Россия",
          "yref": "y"
         },
         {
          "font": {
           "color": "#FFFFFF"
          },
          "showarrow": false,
          "text": "1.025",
          "x": "7.8.2020",
          "xref": "x",
          "y": "Россия",
          "yref": "y"
         },
         {
          "font": {
           "color": "#FFFFFF"
          },
          "showarrow": false,
          "text": "1.025",
          "x": "8.8.2020",
          "xref": "x",
          "y": "Россия",
          "yref": "y"
         },
         {
          "font": {
           "color": "#FFFFFF"
          },
          "showarrow": false,
          "text": "1.024",
          "x": "9.8.2020",
          "xref": "x",
          "y": "Россия",
          "yref": "y"
         },
         {
          "font": {
           "color": "#FFFFFF"
          },
          "showarrow": false,
          "text": "1.024",
          "x": "10.8.2020",
          "xref": "x",
          "y": "Россия",
          "yref": "y"
         },
         {
          "font": {
           "color": "#FFFFFF"
          },
          "showarrow": false,
          "text": "1.024",
          "x": "11.8.2020",
          "xref": "x",
          "y": "Россия",
          "yref": "y"
         },
         {
          "font": {
           "color": "#FFFFFF"
          },
          "showarrow": false,
          "text": "1.023",
          "x": "12.8.2020",
          "xref": "x",
          "y": "Россия",
          "yref": "y"
         },
         {
          "font": {
           "color": "#FFFFFF"
          },
          "showarrow": false,
          "text": "1.023",
          "x": "13.8.2020",
          "xref": "x",
          "y": "Россия",
          "yref": "y"
         },
         {
          "font": {
           "color": "#FFFFFF"
          },
          "showarrow": false,
          "text": "1.07",
          "x": "26.7.2020",
          "xref": "x",
          "y": "США",
          "yref": "y"
         },
         {
          "font": {
           "color": "#FFFFFF"
          },
          "showarrow": false,
          "text": "1.068",
          "x": "27.7.2020",
          "xref": "x",
          "y": "США",
          "yref": "y"
         },
         {
          "font": {
           "color": "#FFFFFF"
          },
          "showarrow": false,
          "text": "1.065",
          "x": "28.7.2020",
          "xref": "x",
          "y": "США",
          "yref": "y"
         },
         {
          "font": {
           "color": "#FFFFFF"
          },
          "showarrow": false,
          "text": "1.062",
          "x": "29.7.2020",
          "xref": "x",
          "y": "США",
          "yref": "y"
         },
         {
          "font": {
           "color": "#FFFFFF"
          },
          "showarrow": false,
          "text": "1.061",
          "x": "30.7.2020",
          "xref": "x",
          "y": "США",
          "yref": "y"
         },
         {
          "font": {
           "color": "#FFFFFF"
          },
          "showarrow": false,
          "text": "1.061",
          "x": "31.7.2020",
          "xref": "x",
          "y": "США",
          "yref": "y"
         },
         {
          "font": {
           "color": "#FFFFFF"
          },
          "showarrow": false,
          "text": "1.061",
          "x": "1.8.2020",
          "xref": "x",
          "y": "США",
          "yref": "y"
         },
         {
          "font": {
           "color": "#FFFFFF"
          },
          "showarrow": false,
          "text": "1.06",
          "x": "2.8.2020",
          "xref": "x",
          "y": "США",
          "yref": "y"
         },
         {
          "font": {
           "color": "#FFFFFF"
          },
          "showarrow": false,
          "text": "1.057",
          "x": "3.8.2020",
          "xref": "x",
          "y": "США",
          "yref": "y"
         },
         {
          "font": {
           "color": "#FFFFFF"
          },
          "showarrow": false,
          "text": "1.052",
          "x": "4.8.2020",
          "xref": "x",
          "y": "США",
          "yref": "y"
         },
         {
          "font": {
           "color": "#FFFFFF"
          },
          "showarrow": false,
          "text": "1.048",
          "x": "5.8.2020",
          "xref": "x",
          "y": "США",
          "yref": "y"
         },
         {
          "font": {
           "color": "#FFFFFF"
          },
          "showarrow": false,
          "text": "1.046",
          "x": "6.8.2020",
          "xref": "x",
          "y": "США",
          "yref": "y"
         },
         {
          "font": {
           "color": "#FFFFFF"
          },
          "showarrow": false,
          "text": "1.046",
          "x": "7.8.2020",
          "xref": "x",
          "y": "США",
          "yref": "y"
         },
         {
          "font": {
           "color": "#FFFFFF"
          },
          "showarrow": false,
          "text": "1.047",
          "x": "8.8.2020",
          "xref": "x",
          "y": "США",
          "yref": "y"
         },
         {
          "font": {
           "color": "#FFFFFF"
          },
          "showarrow": false,
          "text": "1.047",
          "x": "9.8.2020",
          "xref": "x",
          "y": "США",
          "yref": "y"
         },
         {
          "font": {
           "color": "#FFFFFF"
          },
          "showarrow": false,
          "text": "1.046",
          "x": "10.8.2020",
          "xref": "x",
          "y": "США",
          "yref": "y"
         },
         {
          "font": {
           "color": "#FFFFFF"
          },
          "showarrow": false,
          "text": "1.044",
          "x": "11.8.2020",
          "xref": "x",
          "y": "США",
          "yref": "y"
         },
         {
          "font": {
           "color": "#FFFFFF"
          },
          "showarrow": false,
          "text": "1.042",
          "x": "12.8.2020",
          "xref": "x",
          "y": "США",
          "yref": "y"
         },
         {
          "font": {
           "color": "#FFFFFF"
          },
          "showarrow": false,
          "text": "1.041",
          "x": "13.8.2020",
          "xref": "x",
          "y": "США",
          "yref": "y"
         }
        ],
        "height": 600,
        "template": {
         "data": {
          "bar": [
           {
            "error_x": {
             "color": "#2a3f5f"
            },
            "error_y": {
             "color": "#2a3f5f"
            },
            "marker": {
             "line": {
              "color": "#E5ECF6",
              "width": 0.5
             }
            },
            "type": "bar"
           }
          ],
          "barpolar": [
           {
            "marker": {
             "line": {
              "color": "#E5ECF6",
              "width": 0.5
             }
            },
            "type": "barpolar"
           }
          ],
          "carpet": [
           {
            "aaxis": {
             "endlinecolor": "#2a3f5f",
             "gridcolor": "white",
             "linecolor": "white",
             "minorgridcolor": "white",
             "startlinecolor": "#2a3f5f"
            },
            "baxis": {
             "endlinecolor": "#2a3f5f",
             "gridcolor": "white",
             "linecolor": "white",
             "minorgridcolor": "white",
             "startlinecolor": "#2a3f5f"
            },
            "type": "carpet"
           }
          ],
          "choropleth": [
           {
            "colorbar": {
             "outlinewidth": 0,
             "ticks": ""
            },
            "type": "choropleth"
           }
          ],
          "contour": [
           {
            "colorbar": {
             "outlinewidth": 0,
             "ticks": ""
            },
            "colorscale": [
             [
              0,
              "#0d0887"
             ],
             [
              0.1111111111111111,
              "#46039f"
             ],
             [
              0.2222222222222222,
              "#7201a8"
             ],
             [
              0.3333333333333333,
              "#9c179e"
             ],
             [
              0.4444444444444444,
              "#bd3786"
             ],
             [
              0.5555555555555556,
              "#d8576b"
             ],
             [
              0.6666666666666666,
              "#ed7953"
             ],
             [
              0.7777777777777778,
              "#fb9f3a"
             ],
             [
              0.8888888888888888,
              "#fdca26"
             ],
             [
              1,
              "#f0f921"
             ]
            ],
            "type": "contour"
           }
          ],
          "contourcarpet": [
           {
            "colorbar": {
             "outlinewidth": 0,
             "ticks": ""
            },
            "type": "contourcarpet"
           }
          ],
          "heatmap": [
           {
            "colorbar": {
             "outlinewidth": 0,
             "ticks": ""
            },
            "colorscale": [
             [
              0,
              "#0d0887"
             ],
             [
              0.1111111111111111,
              "#46039f"
             ],
             [
              0.2222222222222222,
              "#7201a8"
             ],
             [
              0.3333333333333333,
              "#9c179e"
             ],
             [
              0.4444444444444444,
              "#bd3786"
             ],
             [
              0.5555555555555556,
              "#d8576b"
             ],
             [
              0.6666666666666666,
              "#ed7953"
             ],
             [
              0.7777777777777778,
              "#fb9f3a"
             ],
             [
              0.8888888888888888,
              "#fdca26"
             ],
             [
              1,
              "#f0f921"
             ]
            ],
            "type": "heatmap"
           }
          ],
          "heatmapgl": [
           {
            "colorbar": {
             "outlinewidth": 0,
             "ticks": ""
            },
            "colorscale": [
             [
              0,
              "#0d0887"
             ],
             [
              0.1111111111111111,
              "#46039f"
             ],
             [
              0.2222222222222222,
              "#7201a8"
             ],
             [
              0.3333333333333333,
              "#9c179e"
             ],
             [
              0.4444444444444444,
              "#bd3786"
             ],
             [
              0.5555555555555556,
              "#d8576b"
             ],
             [
              0.6666666666666666,
              "#ed7953"
             ],
             [
              0.7777777777777778,
              "#fb9f3a"
             ],
             [
              0.8888888888888888,
              "#fdca26"
             ],
             [
              1,
              "#f0f921"
             ]
            ],
            "type": "heatmapgl"
           }
          ],
          "histogram": [
           {
            "marker": {
             "colorbar": {
              "outlinewidth": 0,
              "ticks": ""
             }
            },
            "type": "histogram"
           }
          ],
          "histogram2d": [
           {
            "colorbar": {
             "outlinewidth": 0,
             "ticks": ""
            },
            "colorscale": [
             [
              0,
              "#0d0887"
             ],
             [
              0.1111111111111111,
              "#46039f"
             ],
             [
              0.2222222222222222,
              "#7201a8"
             ],
             [
              0.3333333333333333,
              "#9c179e"
             ],
             [
              0.4444444444444444,
              "#bd3786"
             ],
             [
              0.5555555555555556,
              "#d8576b"
             ],
             [
              0.6666666666666666,
              "#ed7953"
             ],
             [
              0.7777777777777778,
              "#fb9f3a"
             ],
             [
              0.8888888888888888,
              "#fdca26"
             ],
             [
              1,
              "#f0f921"
             ]
            ],
            "type": "histogram2d"
           }
          ],
          "histogram2dcontour": [
           {
            "colorbar": {
             "outlinewidth": 0,
             "ticks": ""
            },
            "colorscale": [
             [
              0,
              "#0d0887"
             ],
             [
              0.1111111111111111,
              "#46039f"
             ],
             [
              0.2222222222222222,
              "#7201a8"
             ],
             [
              0.3333333333333333,
              "#9c179e"
             ],
             [
              0.4444444444444444,
              "#bd3786"
             ],
             [
              0.5555555555555556,
              "#d8576b"
             ],
             [
              0.6666666666666666,
              "#ed7953"
             ],
             [
              0.7777777777777778,
              "#fb9f3a"
             ],
             [
              0.8888888888888888,
              "#fdca26"
             ],
             [
              1,
              "#f0f921"
             ]
            ],
            "type": "histogram2dcontour"
           }
          ],
          "mesh3d": [
           {
            "colorbar": {
             "outlinewidth": 0,
             "ticks": ""
            },
            "type": "mesh3d"
           }
          ],
          "parcoords": [
           {
            "line": {
             "colorbar": {
              "outlinewidth": 0,
              "ticks": ""
             }
            },
            "type": "parcoords"
           }
          ],
          "pie": [
           {
            "automargin": true,
            "type": "pie"
           }
          ],
          "scatter": [
           {
            "marker": {
             "colorbar": {
              "outlinewidth": 0,
              "ticks": ""
             }
            },
            "type": "scatter"
           }
          ],
          "scatter3d": [
           {
            "line": {
             "colorbar": {
              "outlinewidth": 0,
              "ticks": ""
             }
            },
            "marker": {
             "colorbar": {
              "outlinewidth": 0,
              "ticks": ""
             }
            },
            "type": "scatter3d"
           }
          ],
          "scattercarpet": [
           {
            "marker": {
             "colorbar": {
              "outlinewidth": 0,
              "ticks": ""
             }
            },
            "type": "scattercarpet"
           }
          ],
          "scattergeo": [
           {
            "marker": {
             "colorbar": {
              "outlinewidth": 0,
              "ticks": ""
             }
            },
            "type": "scattergeo"
           }
          ],
          "scattergl": [
           {
            "marker": {
             "colorbar": {
              "outlinewidth": 0,
              "ticks": ""
             }
            },
            "type": "scattergl"
           }
          ],
          "scattermapbox": [
           {
            "marker": {
             "colorbar": {
              "outlinewidth": 0,
              "ticks": ""
             }
            },
            "type": "scattermapbox"
           }
          ],
          "scatterpolar": [
           {
            "marker": {
             "colorbar": {
              "outlinewidth": 0,
              "ticks": ""
             }
            },
            "type": "scatterpolar"
           }
          ],
          "scatterpolargl": [
           {
            "marker": {
             "colorbar": {
              "outlinewidth": 0,
              "ticks": ""
             }
            },
            "type": "scatterpolargl"
           }
          ],
          "scatterternary": [
           {
            "marker": {
             "colorbar": {
              "outlinewidth": 0,
              "ticks": ""
             }
            },
            "type": "scatterternary"
           }
          ],
          "surface": [
           {
            "colorbar": {
             "outlinewidth": 0,
             "ticks": ""
            },
            "colorscale": [
             [
              0,
              "#0d0887"
             ],
             [
              0.1111111111111111,
              "#46039f"
             ],
             [
              0.2222222222222222,
              "#7201a8"
             ],
             [
              0.3333333333333333,
              "#9c179e"
             ],
             [
              0.4444444444444444,
              "#bd3786"
             ],
             [
              0.5555555555555556,
              "#d8576b"
             ],
             [
              0.6666666666666666,
              "#ed7953"
             ],
             [
              0.7777777777777778,
              "#fb9f3a"
             ],
             [
              0.8888888888888888,
              "#fdca26"
             ],
             [
              1,
              "#f0f921"
             ]
            ],
            "type": "surface"
           }
          ],
          "table": [
           {
            "cells": {
             "fill": {
              "color": "#EBF0F8"
             },
             "line": {
              "color": "white"
             }
            },
            "header": {
             "fill": {
              "color": "#C8D4E3"
             },
             "line": {
              "color": "white"
             }
            },
            "type": "table"
           }
          ]
         },
         "layout": {
          "annotationdefaults": {
           "arrowcolor": "#2a3f5f",
           "arrowhead": 0,
           "arrowwidth": 1
          },
          "coloraxis": {
           "colorbar": {
            "outlinewidth": 0,
            "ticks": ""
           }
          },
          "colorscale": {
           "diverging": [
            [
             0,
             "#8e0152"
            ],
            [
             0.1,
             "#c51b7d"
            ],
            [
             0.2,
             "#de77ae"
            ],
            [
             0.3,
             "#f1b6da"
            ],
            [
             0.4,
             "#fde0ef"
            ],
            [
             0.5,
             "#f7f7f7"
            ],
            [
             0.6,
             "#e6f5d0"
            ],
            [
             0.7,
             "#b8e186"
            ],
            [
             0.8,
             "#7fbc41"
            ],
            [
             0.9,
             "#4d9221"
            ],
            [
             1,
             "#276419"
            ]
           ],
           "sequential": [
            [
             0,
             "#0d0887"
            ],
            [
             0.1111111111111111,
             "#46039f"
            ],
            [
             0.2222222222222222,
             "#7201a8"
            ],
            [
             0.3333333333333333,
             "#9c179e"
            ],
            [
             0.4444444444444444,
             "#bd3786"
            ],
            [
             0.5555555555555556,
             "#d8576b"
            ],
            [
             0.6666666666666666,
             "#ed7953"
            ],
            [
             0.7777777777777778,
             "#fb9f3a"
            ],
            [
             0.8888888888888888,
             "#fdca26"
            ],
            [
             1,
             "#f0f921"
            ]
           ],
           "sequentialminus": [
            [
             0,
             "#0d0887"
            ],
            [
             0.1111111111111111,
             "#46039f"
            ],
            [
             0.2222222222222222,
             "#7201a8"
            ],
            [
             0.3333333333333333,
             "#9c179e"
            ],
            [
             0.4444444444444444,
             "#bd3786"
            ],
            [
             0.5555555555555556,
             "#d8576b"
            ],
            [
             0.6666666666666666,
             "#ed7953"
            ],
            [
             0.7777777777777778,
             "#fb9f3a"
            ],
            [
             0.8888888888888888,
             "#fdca26"
            ],
            [
             1,
             "#f0f921"
            ]
           ]
          },
          "colorway": [
           "#636efa",
           "#EF553B",
           "#00cc96",
           "#ab63fa",
           "#FFA15A",
           "#19d3f3",
           "#FF6692",
           "#B6E880",
           "#FF97FF",
           "#FECB52"
          ],
          "font": {
           "color": "#2a3f5f"
          },
          "geo": {
           "bgcolor": "white",
           "lakecolor": "white",
           "landcolor": "#E5ECF6",
           "showlakes": true,
           "showland": true,
           "subunitcolor": "white"
          },
          "hoverlabel": {
           "align": "left"
          },
          "hovermode": "closest",
          "mapbox": {
           "style": "light"
          },
          "paper_bgcolor": "white",
          "plot_bgcolor": "#E5ECF6",
          "polar": {
           "angularaxis": {
            "gridcolor": "white",
            "linecolor": "white",
            "ticks": ""
           },
           "bgcolor": "#E5ECF6",
           "radialaxis": {
            "gridcolor": "white",
            "linecolor": "white",
            "ticks": ""
           }
          },
          "scene": {
           "xaxis": {
            "backgroundcolor": "#E5ECF6",
            "gridcolor": "white",
            "gridwidth": 2,
            "linecolor": "white",
            "showbackground": true,
            "ticks": "",
            "zerolinecolor": "white"
           },
           "yaxis": {
            "backgroundcolor": "#E5ECF6",
            "gridcolor": "white",
            "gridwidth": 2,
            "linecolor": "white",
            "showbackground": true,
            "ticks": "",
            "zerolinecolor": "white"
           },
           "zaxis": {
            "backgroundcolor": "#E5ECF6",
            "gridcolor": "white",
            "gridwidth": 2,
            "linecolor": "white",
            "showbackground": true,
            "ticks": "",
            "zerolinecolor": "white"
           }
          },
          "shapedefaults": {
           "line": {
            "color": "#2a3f5f"
           }
          },
          "ternary": {
           "aaxis": {
            "gridcolor": "white",
            "linecolor": "white",
            "ticks": ""
           },
           "baxis": {
            "gridcolor": "white",
            "linecolor": "white",
            "ticks": ""
           },
           "bgcolor": "#E5ECF6",
           "caxis": {
            "gridcolor": "white",
            "linecolor": "white",
            "ticks": ""
           }
          },
          "title": {
           "x": 0.05
          },
          "xaxis": {
           "automargin": true,
           "gridcolor": "white",
           "linecolor": "white",
           "ticks": "",
           "title": {
            "standoff": 15
           },
           "zerolinecolor": "white",
           "zerolinewidth": 2
          },
          "yaxis": {
           "automargin": true,
           "gridcolor": "white",
           "linecolor": "white",
           "ticks": "",
           "title": {
            "standoff": 15
           },
           "zerolinecolor": "white",
           "zerolinewidth": 2
          }
         }
        },
        "width": 990,
        "xaxis": {
         "dtick": 1,
         "gridcolor": "rgb(0, 0, 0)",
         "side": "top",
         "ticks": "",
         "title": {
          "text": "Динамика коэффициента распространения Rt2 по странам"
         }
        },
        "yaxis": {
         "dtick": 1,
         "ticks": "",
         "ticksuffix": "  "
        }
       }
      }
     },
     "metadata": {}
    }
   ],
   "source": [
    "fig = ff.create_annotated_heatmap(d, x=x2, y=y, annotation_text=d,\n",
    "                                  colorscale='Temps')\n",
    "\n",
    "fig.update_layout(\n",
    "                  \n",
    "                  \n",
    "                  width = 990, height = 600,    \n",
    "    \n",
    "                  xaxis_title='Динамика коэффициента распространения Rt2 по странам',\n",
    "               #   yaxis_title = 'Регион '\n",
    ")\n",
    "\n",
    "fig.show()\n"
   ]
  },
  {
   "cell_type": "code",
   "execution_count": 18,
   "metadata": {},
   "outputs": [
    {
     "output_type": "execute_result",
     "data": {
      "text/plain": "Date         Country  2020-07-26  2020-07-27  2020-07-28  2020-07-29  \\\n0           Бразилия       24578       23284       40816       69074   \n1     Великобритания         750         688         553         802   \n2              Индия       49981       44457       51596       50294   \n3             Россия        5741        5607        5380        5449   \n4                США       54953       56414       65869       70776   \n\nDate  2020-07-30  2020-07-31  2020-08-01  2020-08-02  2020-08-03  2020-08-04  \\\n0          57837       52383       45392       25800       16641       51603   \n1            847         883         769         747         942         675   \n2          52783       61242       54735       52972       52050       52509   \n3           5484        5468        5429        5387        5364        5121   \n4          68033       67092       58485       47580       45368       57540   \n\nDate  2020-08-05  2020-08-06  2020-08-07  2020-08-08  2020-08-09  2020-08-10  \\\n0          57152       53139       50230       49970       23010       22048   \n1            906         964         900         765        1113         818   \n2          56282       62538       61537       64399       62064       53601   \n3           5186        5239        5191        5185        5155        5081   \n4          52810       59692       58173       56174       46935       49536   \n\nDate  2020-08-11  2020-08-12  2020-08-13  \n0          52160       55155       60091  \n1           1150        1039          19  \n2          60963       66999       64553  \n3           4892        5054        5017  \n4          46808       56203       51443  ",
      "text/html": "<div>\n<style scoped>\n    .dataframe tbody tr th:only-of-type {\n        vertical-align: middle;\n    }\n\n    .dataframe tbody tr th {\n        vertical-align: top;\n    }\n\n    .dataframe thead th {\n        text-align: right;\n    }\n</style>\n<table border=\"1\" class=\"dataframe\">\n  <thead>\n    <tr style=\"text-align: right;\">\n      <th>Date</th>\n      <th>Country</th>\n      <th>2020-07-26</th>\n      <th>2020-07-27</th>\n      <th>2020-07-28</th>\n      <th>2020-07-29</th>\n      <th>2020-07-30</th>\n      <th>2020-07-31</th>\n      <th>2020-08-01</th>\n      <th>2020-08-02</th>\n      <th>2020-08-03</th>\n      <th>2020-08-04</th>\n      <th>2020-08-05</th>\n      <th>2020-08-06</th>\n      <th>2020-08-07</th>\n      <th>2020-08-08</th>\n      <th>2020-08-09</th>\n      <th>2020-08-10</th>\n      <th>2020-08-11</th>\n      <th>2020-08-12</th>\n      <th>2020-08-13</th>\n    </tr>\n  </thead>\n  <tbody>\n    <tr>\n      <th>0</th>\n      <td>Бразилия</td>\n      <td>24578</td>\n      <td>23284</td>\n      <td>40816</td>\n      <td>69074</td>\n      <td>57837</td>\n      <td>52383</td>\n      <td>45392</td>\n      <td>25800</td>\n      <td>16641</td>\n      <td>51603</td>\n      <td>57152</td>\n      <td>53139</td>\n      <td>50230</td>\n      <td>49970</td>\n      <td>23010</td>\n      <td>22048</td>\n      <td>52160</td>\n      <td>55155</td>\n      <td>60091</td>\n    </tr>\n    <tr>\n      <th>1</th>\n      <td>Великобритания</td>\n      <td>750</td>\n      <td>688</td>\n      <td>553</td>\n      <td>802</td>\n      <td>847</td>\n      <td>883</td>\n      <td>769</td>\n      <td>747</td>\n      <td>942</td>\n      <td>675</td>\n      <td>906</td>\n      <td>964</td>\n      <td>900</td>\n      <td>765</td>\n      <td>1113</td>\n      <td>818</td>\n      <td>1150</td>\n      <td>1039</td>\n      <td>19</td>\n    </tr>\n    <tr>\n      <th>2</th>\n      <td>Индия</td>\n      <td>49981</td>\n      <td>44457</td>\n      <td>51596</td>\n      <td>50294</td>\n      <td>52783</td>\n      <td>61242</td>\n      <td>54735</td>\n      <td>52972</td>\n      <td>52050</td>\n      <td>52509</td>\n      <td>56282</td>\n      <td>62538</td>\n      <td>61537</td>\n      <td>64399</td>\n      <td>62064</td>\n      <td>53601</td>\n      <td>60963</td>\n      <td>66999</td>\n      <td>64553</td>\n    </tr>\n    <tr>\n      <th>3</th>\n      <td>Россия</td>\n      <td>5741</td>\n      <td>5607</td>\n      <td>5380</td>\n      <td>5449</td>\n      <td>5484</td>\n      <td>5468</td>\n      <td>5429</td>\n      <td>5387</td>\n      <td>5364</td>\n      <td>5121</td>\n      <td>5186</td>\n      <td>5239</td>\n      <td>5191</td>\n      <td>5185</td>\n      <td>5155</td>\n      <td>5081</td>\n      <td>4892</td>\n      <td>5054</td>\n      <td>5017</td>\n    </tr>\n    <tr>\n      <th>4</th>\n      <td>США</td>\n      <td>54953</td>\n      <td>56414</td>\n      <td>65869</td>\n      <td>70776</td>\n      <td>68033</td>\n      <td>67092</td>\n      <td>58485</td>\n      <td>47580</td>\n      <td>45368</td>\n      <td>57540</td>\n      <td>52810</td>\n      <td>59692</td>\n      <td>58173</td>\n      <td>56174</td>\n      <td>46935</td>\n      <td>49536</td>\n      <td>46808</td>\n      <td>56203</td>\n      <td>51443</td>\n    </tr>\n  </tbody>\n</table>\n</div>"
     },
     "metadata": {},
     "execution_count": 18
    }
   ],
   "source": [
    "mask = (X.Date>=datetime.date(2020,7,26))&(X.Country.isin(country_towatch))\n",
    "\n",
    "Z = X[mask].groupby(['Country','Date'])['Day_confirmed'].sum().unstack().reset_index()\n",
    "Z.dropna(inplace=True)\n",
    "d = Z.drop('Country',axis = 1).values\n",
    "Z.head()"
   ]
  },
  {
   "cell_type": "code",
   "execution_count": 19,
   "metadata": {
    "tags": []
   },
   "outputs": [
    {
     "output_type": "stream",
     "name": "stdout",
     "text": "['26.7.2020', '27.7.2020', '28.7.2020', '29.7.2020', '30.7.2020', '31.7.2020', '1.8.2020', '2.8.2020', '3.8.2020', '4.8.2020', '5.8.2020', '6.8.2020', '7.8.2020', '8.8.2020', '9.8.2020', '10.8.2020', '11.8.2020', '12.8.2020', '13.8.2020']\n"
    }
   ],
   "source": [
    "\n",
    "\n",
    "\n",
    "x1=list(Z.columns[1:])\n",
    "y=list(Z.Country)\n",
    "x2=[]\n",
    "for i in x1:\n",
    "    x2.append(str(i.day)+'.'+str(i.month)+\".\"+str(i.year))\n",
    "    \n",
    "print(x2)\n"
   ]
  },
  {
   "cell_type": "code",
   "execution_count": 20,
   "metadata": {},
   "outputs": [
    {
     "output_type": "display_data",
     "data": {
      "application/vnd.plotly.v1+json": {
       "config": {
        "plotlyServerURL": "https://plot.ly"
       },
       "data": [
        {
         "colorscale": [
          [
           0,
           "rgb(0, 147, 146)"
          ],
          [
           0.16666666666666666,
           "rgb(57, 177, 133)"
          ],
          [
           0.3333333333333333,
           "rgb(156, 203, 134)"
          ],
          [
           0.5,
           "rgb(233, 226, 156)"
          ],
          [
           0.6666666666666666,
           "rgb(238, 180, 121)"
          ],
          [
           0.8333333333333334,
           "rgb(232, 132, 113)"
          ],
          [
           1,
           "rgb(207, 89, 126)"
          ]
         ],
         "reversescale": false,
         "showscale": false,
         "type": "heatmap",
         "x": [
          "26.7.2020",
          "27.7.2020",
          "28.7.2020",
          "29.7.2020",
          "30.7.2020",
          "31.7.2020",
          "1.8.2020",
          "2.8.2020",
          "3.8.2020",
          "4.8.2020",
          "5.8.2020",
          "6.8.2020",
          "7.8.2020",
          "8.8.2020",
          "9.8.2020",
          "10.8.2020",
          "11.8.2020",
          "12.8.2020",
          "13.8.2020"
         ],
         "y": [
          "Бразилия",
          "Великобритания",
          "Индия",
          "Россия",
          "США"
         ],
         "z": [
          [
           24578,
           23284,
           40816,
           69074,
           57837,
           52383,
           45392,
           25800,
           16641,
           51603,
           57152,
           53139,
           50230,
           49970,
           23010,
           22048,
           52160,
           55155,
           60091
          ],
          [
           750,
           688,
           553,
           802,
           847,
           883,
           769,
           747,
           942,
           675,
           906,
           964,
           900,
           765,
           1113,
           818,
           1150,
           1039,
           19
          ],
          [
           49981,
           44457,
           51596,
           50294,
           52783,
           61242,
           54735,
           52972,
           52050,
           52509,
           56282,
           62538,
           61537,
           64399,
           62064,
           53601,
           60963,
           66999,
           64553
          ],
          [
           5741,
           5607,
           5380,
           5449,
           5484,
           5468,
           5429,
           5387,
           5364,
           5121,
           5186,
           5239,
           5191,
           5185,
           5155,
           5081,
           4892,
           5054,
           5017
          ],
          [
           54953,
           56414,
           65869,
           70776,
           68033,
           67092,
           58485,
           47580,
           45368,
           57540,
           52810,
           59692,
           58173,
           56174,
           46935,
           49536,
           46808,
           56203,
           51443
          ]
         ]
        }
       ],
       "layout": {
        "annotations": [
         {
          "font": {
           "color": "#FFFFFF"
          },
          "showarrow": false,
          "text": "24578",
          "x": "26.7.2020",
          "xref": "x",
          "y": "Бразилия",
          "yref": "y"
         },
         {
          "font": {
           "color": "#FFFFFF"
          },
          "showarrow": false,
          "text": "23284",
          "x": "27.7.2020",
          "xref": "x",
          "y": "Бразилия",
          "yref": "y"
         },
         {
          "font": {
           "color": "#FFFFFF"
          },
          "showarrow": false,
          "text": "40816",
          "x": "28.7.2020",
          "xref": "x",
          "y": "Бразилия",
          "yref": "y"
         },
         {
          "font": {
           "color": "#FFFFFF"
          },
          "showarrow": false,
          "text": "69074",
          "x": "29.7.2020",
          "xref": "x",
          "y": "Бразилия",
          "yref": "y"
         },
         {
          "font": {
           "color": "#FFFFFF"
          },
          "showarrow": false,
          "text": "57837",
          "x": "30.7.2020",
          "xref": "x",
          "y": "Бразилия",
          "yref": "y"
         },
         {
          "font": {
           "color": "#FFFFFF"
          },
          "showarrow": false,
          "text": "52383",
          "x": "31.7.2020",
          "xref": "x",
          "y": "Бразилия",
          "yref": "y"
         },
         {
          "font": {
           "color": "#FFFFFF"
          },
          "showarrow": false,
          "text": "45392",
          "x": "1.8.2020",
          "xref": "x",
          "y": "Бразилия",
          "yref": "y"
         },
         {
          "font": {
           "color": "#FFFFFF"
          },
          "showarrow": false,
          "text": "25800",
          "x": "2.8.2020",
          "xref": "x",
          "y": "Бразилия",
          "yref": "y"
         },
         {
          "font": {
           "color": "#FFFFFF"
          },
          "showarrow": false,
          "text": "16641",
          "x": "3.8.2020",
          "xref": "x",
          "y": "Бразилия",
          "yref": "y"
         },
         {
          "font": {
           "color": "#FFFFFF"
          },
          "showarrow": false,
          "text": "51603",
          "x": "4.8.2020",
          "xref": "x",
          "y": "Бразилия",
          "yref": "y"
         },
         {
          "font": {
           "color": "#FFFFFF"
          },
          "showarrow": false,
          "text": "57152",
          "x": "5.8.2020",
          "xref": "x",
          "y": "Бразилия",
          "yref": "y"
         },
         {
          "font": {
           "color": "#FFFFFF"
          },
          "showarrow": false,
          "text": "53139",
          "x": "6.8.2020",
          "xref": "x",
          "y": "Бразилия",
          "yref": "y"
         },
         {
          "font": {
           "color": "#FFFFFF"
          },
          "showarrow": false,
          "text": "50230",
          "x": "7.8.2020",
          "xref": "x",
          "y": "Бразилия",
          "yref": "y"
         },
         {
          "font": {
           "color": "#FFFFFF"
          },
          "showarrow": false,
          "text": "49970",
          "x": "8.8.2020",
          "xref": "x",
          "y": "Бразилия",
          "yref": "y"
         },
         {
          "font": {
           "color": "#FFFFFF"
          },
          "showarrow": false,
          "text": "23010",
          "x": "9.8.2020",
          "xref": "x",
          "y": "Бразилия",
          "yref": "y"
         },
         {
          "font": {
           "color": "#FFFFFF"
          },
          "showarrow": false,
          "text": "22048",
          "x": "10.8.2020",
          "xref": "x",
          "y": "Бразилия",
          "yref": "y"
         },
         {
          "font": {
           "color": "#FFFFFF"
          },
          "showarrow": false,
          "text": "52160",
          "x": "11.8.2020",
          "xref": "x",
          "y": "Бразилия",
          "yref": "y"
         },
         {
          "font": {
           "color": "#FFFFFF"
          },
          "showarrow": false,
          "text": "55155",
          "x": "12.8.2020",
          "xref": "x",
          "y": "Бразилия",
          "yref": "y"
         },
         {
          "font": {
           "color": "#FFFFFF"
          },
          "showarrow": false,
          "text": "60091",
          "x": "13.8.2020",
          "xref": "x",
          "y": "Бразилия",
          "yref": "y"
         },
         {
          "font": {
           "color": "#FFFFFF"
          },
          "showarrow": false,
          "text": "750",
          "x": "26.7.2020",
          "xref": "x",
          "y": "Великобритания",
          "yref": "y"
         },
         {
          "font": {
           "color": "#FFFFFF"
          },
          "showarrow": false,
          "text": "688",
          "x": "27.7.2020",
          "xref": "x",
          "y": "Великобритания",
          "yref": "y"
         },
         {
          "font": {
           "color": "#FFFFFF"
          },
          "showarrow": false,
          "text": "553",
          "x": "28.7.2020",
          "xref": "x",
          "y": "Великобритания",
          "yref": "y"
         },
         {
          "font": {
           "color": "#FFFFFF"
          },
          "showarrow": false,
          "text": "802",
          "x": "29.7.2020",
          "xref": "x",
          "y": "Великобритания",
          "yref": "y"
         },
         {
          "font": {
           "color": "#FFFFFF"
          },
          "showarrow": false,
          "text": "847",
          "x": "30.7.2020",
          "xref": "x",
          "y": "Великобритания",
          "yref": "y"
         },
         {
          "font": {
           "color": "#FFFFFF"
          },
          "showarrow": false,
          "text": "883",
          "x": "31.7.2020",
          "xref": "x",
          "y": "Великобритания",
          "yref": "y"
         },
         {
          "font": {
           "color": "#FFFFFF"
          },
          "showarrow": false,
          "text": "769",
          "x": "1.8.2020",
          "xref": "x",
          "y": "Великобритания",
          "yref": "y"
         },
         {
          "font": {
           "color": "#FFFFFF"
          },
          "showarrow": false,
          "text": "747",
          "x": "2.8.2020",
          "xref": "x",
          "y": "Великобритания",
          "yref": "y"
         },
         {
          "font": {
           "color": "#FFFFFF"
          },
          "showarrow": false,
          "text": "942",
          "x": "3.8.2020",
          "xref": "x",
          "y": "Великобритания",
          "yref": "y"
         },
         {
          "font": {
           "color": "#FFFFFF"
          },
          "showarrow": false,
          "text": "675",
          "x": "4.8.2020",
          "xref": "x",
          "y": "Великобритания",
          "yref": "y"
         },
         {
          "font": {
           "color": "#FFFFFF"
          },
          "showarrow": false,
          "text": "906",
          "x": "5.8.2020",
          "xref": "x",
          "y": "Великобритания",
          "yref": "y"
         },
         {
          "font": {
           "color": "#FFFFFF"
          },
          "showarrow": false,
          "text": "964",
          "x": "6.8.2020",
          "xref": "x",
          "y": "Великобритания",
          "yref": "y"
         },
         {
          "font": {
           "color": "#FFFFFF"
          },
          "showarrow": false,
          "text": "900",
          "x": "7.8.2020",
          "xref": "x",
          "y": "Великобритания",
          "yref": "y"
         },
         {
          "font": {
           "color": "#FFFFFF"
          },
          "showarrow": false,
          "text": "765",
          "x": "8.8.2020",
          "xref": "x",
          "y": "Великобритания",
          "yref": "y"
         },
         {
          "font": {
           "color": "#FFFFFF"
          },
          "showarrow": false,
          "text": "1113",
          "x": "9.8.2020",
          "xref": "x",
          "y": "Великобритания",
          "yref": "y"
         },
         {
          "font": {
           "color": "#FFFFFF"
          },
          "showarrow": false,
          "text": "818",
          "x": "10.8.2020",
          "xref": "x",
          "y": "Великобритания",
          "yref": "y"
         },
         {
          "font": {
           "color": "#FFFFFF"
          },
          "showarrow": false,
          "text": "1150",
          "x": "11.8.2020",
          "xref": "x",
          "y": "Великобритания",
          "yref": "y"
         },
         {
          "font": {
           "color": "#FFFFFF"
          },
          "showarrow": false,
          "text": "1039",
          "x": "12.8.2020",
          "xref": "x",
          "y": "Великобритания",
          "yref": "y"
         },
         {
          "font": {
           "color": "#FFFFFF"
          },
          "showarrow": false,
          "text": "19",
          "x": "13.8.2020",
          "xref": "x",
          "y": "Великобритания",
          "yref": "y"
         },
         {
          "font": {
           "color": "#FFFFFF"
          },
          "showarrow": false,
          "text": "49981",
          "x": "26.7.2020",
          "xref": "x",
          "y": "Индия",
          "yref": "y"
         },
         {
          "font": {
           "color": "#FFFFFF"
          },
          "showarrow": false,
          "text": "44457",
          "x": "27.7.2020",
          "xref": "x",
          "y": "Индия",
          "yref": "y"
         },
         {
          "font": {
           "color": "#FFFFFF"
          },
          "showarrow": false,
          "text": "51596",
          "x": "28.7.2020",
          "xref": "x",
          "y": "Индия",
          "yref": "y"
         },
         {
          "font": {
           "color": "#FFFFFF"
          },
          "showarrow": false,
          "text": "50294",
          "x": "29.7.2020",
          "xref": "x",
          "y": "Индия",
          "yref": "y"
         },
         {
          "font": {
           "color": "#FFFFFF"
          },
          "showarrow": false,
          "text": "52783",
          "x": "30.7.2020",
          "xref": "x",
          "y": "Индия",
          "yref": "y"
         },
         {
          "font": {
           "color": "#FFFFFF"
          },
          "showarrow": false,
          "text": "61242",
          "x": "31.7.2020",
          "xref": "x",
          "y": "Индия",
          "yref": "y"
         },
         {
          "font": {
           "color": "#FFFFFF"
          },
          "showarrow": false,
          "text": "54735",
          "x": "1.8.2020",
          "xref": "x",
          "y": "Индия",
          "yref": "y"
         },
         {
          "font": {
           "color": "#FFFFFF"
          },
          "showarrow": false,
          "text": "52972",
          "x": "2.8.2020",
          "xref": "x",
          "y": "Индия",
          "yref": "y"
         },
         {
          "font": {
           "color": "#FFFFFF"
          },
          "showarrow": false,
          "text": "52050",
          "x": "3.8.2020",
          "xref": "x",
          "y": "Индия",
          "yref": "y"
         },
         {
          "font": {
           "color": "#FFFFFF"
          },
          "showarrow": false,
          "text": "52509",
          "x": "4.8.2020",
          "xref": "x",
          "y": "Индия",
          "yref": "y"
         },
         {
          "font": {
           "color": "#FFFFFF"
          },
          "showarrow": false,
          "text": "56282",
          "x": "5.8.2020",
          "xref": "x",
          "y": "Индия",
          "yref": "y"
         },
         {
          "font": {
           "color": "#FFFFFF"
          },
          "showarrow": false,
          "text": "62538",
          "x": "6.8.2020",
          "xref": "x",
          "y": "Индия",
          "yref": "y"
         },
         {
          "font": {
           "color": "#FFFFFF"
          },
          "showarrow": false,
          "text": "61537",
          "x": "7.8.2020",
          "xref": "x",
          "y": "Индия",
          "yref": "y"
         },
         {
          "font": {
           "color": "#FFFFFF"
          },
          "showarrow": false,
          "text": "64399",
          "x": "8.8.2020",
          "xref": "x",
          "y": "Индия",
          "yref": "y"
         },
         {
          "font": {
           "color": "#FFFFFF"
          },
          "showarrow": false,
          "text": "62064",
          "x": "9.8.2020",
          "xref": "x",
          "y": "Индия",
          "yref": "y"
         },
         {
          "font": {
           "color": "#FFFFFF"
          },
          "showarrow": false,
          "text": "53601",
          "x": "10.8.2020",
          "xref": "x",
          "y": "Индия",
          "yref": "y"
         },
         {
          "font": {
           "color": "#FFFFFF"
          },
          "showarrow": false,
          "text": "60963",
          "x": "11.8.2020",
          "xref": "x",
          "y": "Индия",
          "yref": "y"
         },
         {
          "font": {
           "color": "#FFFFFF"
          },
          "showarrow": false,
          "text": "66999",
          "x": "12.8.2020",
          "xref": "x",
          "y": "Индия",
          "yref": "y"
         },
         {
          "font": {
           "color": "#FFFFFF"
          },
          "showarrow": false,
          "text": "64553",
          "x": "13.8.2020",
          "xref": "x",
          "y": "Индия",
          "yref": "y"
         },
         {
          "font": {
           "color": "#FFFFFF"
          },
          "showarrow": false,
          "text": "5741",
          "x": "26.7.2020",
          "xref": "x",
          "y": "Россия",
          "yref": "y"
         },
         {
          "font": {
           "color": "#FFFFFF"
          },
          "showarrow": false,
          "text": "5607",
          "x": "27.7.2020",
          "xref": "x",
          "y": "Россия",
          "yref": "y"
         },
         {
          "font": {
           "color": "#FFFFFF"
          },
          "showarrow": false,
          "text": "5380",
          "x": "28.7.2020",
          "xref": "x",
          "y": "Россия",
          "yref": "y"
         },
         {
          "font": {
           "color": "#FFFFFF"
          },
          "showarrow": false,
          "text": "5449",
          "x": "29.7.2020",
          "xref": "x",
          "y": "Россия",
          "yref": "y"
         },
         {
          "font": {
           "color": "#FFFFFF"
          },
          "showarrow": false,
          "text": "5484",
          "x": "30.7.2020",
          "xref": "x",
          "y": "Россия",
          "yref": "y"
         },
         {
          "font": {
           "color": "#FFFFFF"
          },
          "showarrow": false,
          "text": "5468",
          "x": "31.7.2020",
          "xref": "x",
          "y": "Россия",
          "yref": "y"
         },
         {
          "font": {
           "color": "#FFFFFF"
          },
          "showarrow": false,
          "text": "5429",
          "x": "1.8.2020",
          "xref": "x",
          "y": "Россия",
          "yref": "y"
         },
         {
          "font": {
           "color": "#FFFFFF"
          },
          "showarrow": false,
          "text": "5387",
          "x": "2.8.2020",
          "xref": "x",
          "y": "Россия",
          "yref": "y"
         },
         {
          "font": {
           "color": "#FFFFFF"
          },
          "showarrow": false,
          "text": "5364",
          "x": "3.8.2020",
          "xref": "x",
          "y": "Россия",
          "yref": "y"
         },
         {
          "font": {
           "color": "#FFFFFF"
          },
          "showarrow": false,
          "text": "5121",
          "x": "4.8.2020",
          "xref": "x",
          "y": "Россия",
          "yref": "y"
         },
         {
          "font": {
           "color": "#FFFFFF"
          },
          "showarrow": false,
          "text": "5186",
          "x": "5.8.2020",
          "xref": "x",
          "y": "Россия",
          "yref": "y"
         },
         {
          "font": {
           "color": "#FFFFFF"
          },
          "showarrow": false,
          "text": "5239",
          "x": "6.8.2020",
          "xref": "x",
          "y": "Россия",
          "yref": "y"
         },
         {
          "font": {
           "color": "#FFFFFF"
          },
          "showarrow": false,
          "text": "5191",
          "x": "7.8.2020",
          "xref": "x",
          "y": "Россия",
          "yref": "y"
         },
         {
          "font": {
           "color": "#FFFFFF"
          },
          "showarrow": false,
          "text": "5185",
          "x": "8.8.2020",
          "xref": "x",
          "y": "Россия",
          "yref": "y"
         },
         {
          "font": {
           "color": "#FFFFFF"
          },
          "showarrow": false,
          "text": "5155",
          "x": "9.8.2020",
          "xref": "x",
          "y": "Россия",
          "yref": "y"
         },
         {
          "font": {
           "color": "#FFFFFF"
          },
          "showarrow": false,
          "text": "5081",
          "x": "10.8.2020",
          "xref": "x",
          "y": "Россия",
          "yref": "y"
         },
         {
          "font": {
           "color": "#FFFFFF"
          },
          "showarrow": false,
          "text": "4892",
          "x": "11.8.2020",
          "xref": "x",
          "y": "Россия",
          "yref": "y"
         },
         {
          "font": {
           "color": "#FFFFFF"
          },
          "showarrow": false,
          "text": "5054",
          "x": "12.8.2020",
          "xref": "x",
          "y": "Россия",
          "yref": "y"
         },
         {
          "font": {
           "color": "#FFFFFF"
          },
          "showarrow": false,
          "text": "5017",
          "x": "13.8.2020",
          "xref": "x",
          "y": "Россия",
          "yref": "y"
         },
         {
          "font": {
           "color": "#FFFFFF"
          },
          "showarrow": false,
          "text": "54953",
          "x": "26.7.2020",
          "xref": "x",
          "y": "США",
          "yref": "y"
         },
         {
          "font": {
           "color": "#FFFFFF"
          },
          "showarrow": false,
          "text": "56414",
          "x": "27.7.2020",
          "xref": "x",
          "y": "США",
          "yref": "y"
         },
         {
          "font": {
           "color": "#FFFFFF"
          },
          "showarrow": false,
          "text": "65869",
          "x": "28.7.2020",
          "xref": "x",
          "y": "США",
          "yref": "y"
         },
         {
          "font": {
           "color": "#FFFFFF"
          },
          "showarrow": false,
          "text": "70776",
          "x": "29.7.2020",
          "xref": "x",
          "y": "США",
          "yref": "y"
         },
         {
          "font": {
           "color": "#FFFFFF"
          },
          "showarrow": false,
          "text": "68033",
          "x": "30.7.2020",
          "xref": "x",
          "y": "США",
          "yref": "y"
         },
         {
          "font": {
           "color": "#FFFFFF"
          },
          "showarrow": false,
          "text": "67092",
          "x": "31.7.2020",
          "xref": "x",
          "y": "США",
          "yref": "y"
         },
         {
          "font": {
           "color": "#FFFFFF"
          },
          "showarrow": false,
          "text": "58485",
          "x": "1.8.2020",
          "xref": "x",
          "y": "США",
          "yref": "y"
         },
         {
          "font": {
           "color": "#FFFFFF"
          },
          "showarrow": false,
          "text": "47580",
          "x": "2.8.2020",
          "xref": "x",
          "y": "США",
          "yref": "y"
         },
         {
          "font": {
           "color": "#FFFFFF"
          },
          "showarrow": false,
          "text": "45368",
          "x": "3.8.2020",
          "xref": "x",
          "y": "США",
          "yref": "y"
         },
         {
          "font": {
           "color": "#FFFFFF"
          },
          "showarrow": false,
          "text": "57540",
          "x": "4.8.2020",
          "xref": "x",
          "y": "США",
          "yref": "y"
         },
         {
          "font": {
           "color": "#FFFFFF"
          },
          "showarrow": false,
          "text": "52810",
          "x": "5.8.2020",
          "xref": "x",
          "y": "США",
          "yref": "y"
         },
         {
          "font": {
           "color": "#FFFFFF"
          },
          "showarrow": false,
          "text": "59692",
          "x": "6.8.2020",
          "xref": "x",
          "y": "США",
          "yref": "y"
         },
         {
          "font": {
           "color": "#FFFFFF"
          },
          "showarrow": false,
          "text": "58173",
          "x": "7.8.2020",
          "xref": "x",
          "y": "США",
          "yref": "y"
         },
         {
          "font": {
           "color": "#FFFFFF"
          },
          "showarrow": false,
          "text": "56174",
          "x": "8.8.2020",
          "xref": "x",
          "y": "США",
          "yref": "y"
         },
         {
          "font": {
           "color": "#FFFFFF"
          },
          "showarrow": false,
          "text": "46935",
          "x": "9.8.2020",
          "xref": "x",
          "y": "США",
          "yref": "y"
         },
         {
          "font": {
           "color": "#FFFFFF"
          },
          "showarrow": false,
          "text": "49536",
          "x": "10.8.2020",
          "xref": "x",
          "y": "США",
          "yref": "y"
         },
         {
          "font": {
           "color": "#FFFFFF"
          },
          "showarrow": false,
          "text": "46808",
          "x": "11.8.2020",
          "xref": "x",
          "y": "США",
          "yref": "y"
         },
         {
          "font": {
           "color": "#FFFFFF"
          },
          "showarrow": false,
          "text": "56203",
          "x": "12.8.2020",
          "xref": "x",
          "y": "США",
          "yref": "y"
         },
         {
          "font": {
           "color": "#FFFFFF"
          },
          "showarrow": false,
          "text": "51443",
          "x": "13.8.2020",
          "xref": "x",
          "y": "США",
          "yref": "y"
         }
        ],
        "height": 600,
        "template": {
         "data": {
          "bar": [
           {
            "error_x": {
             "color": "#2a3f5f"
            },
            "error_y": {
             "color": "#2a3f5f"
            },
            "marker": {
             "line": {
              "color": "#E5ECF6",
              "width": 0.5
             }
            },
            "type": "bar"
           }
          ],
          "barpolar": [
           {
            "marker": {
             "line": {
              "color": "#E5ECF6",
              "width": 0.5
             }
            },
            "type": "barpolar"
           }
          ],
          "carpet": [
           {
            "aaxis": {
             "endlinecolor": "#2a3f5f",
             "gridcolor": "white",
             "linecolor": "white",
             "minorgridcolor": "white",
             "startlinecolor": "#2a3f5f"
            },
            "baxis": {
             "endlinecolor": "#2a3f5f",
             "gridcolor": "white",
             "linecolor": "white",
             "minorgridcolor": "white",
             "startlinecolor": "#2a3f5f"
            },
            "type": "carpet"
           }
          ],
          "choropleth": [
           {
            "colorbar": {
             "outlinewidth": 0,
             "ticks": ""
            },
            "type": "choropleth"
           }
          ],
          "contour": [
           {
            "colorbar": {
             "outlinewidth": 0,
             "ticks": ""
            },
            "colorscale": [
             [
              0,
              "#0d0887"
             ],
             [
              0.1111111111111111,
              "#46039f"
             ],
             [
              0.2222222222222222,
              "#7201a8"
             ],
             [
              0.3333333333333333,
              "#9c179e"
             ],
             [
              0.4444444444444444,
              "#bd3786"
             ],
             [
              0.5555555555555556,
              "#d8576b"
             ],
             [
              0.6666666666666666,
              "#ed7953"
             ],
             [
              0.7777777777777778,
              "#fb9f3a"
             ],
             [
              0.8888888888888888,
              "#fdca26"
             ],
             [
              1,
              "#f0f921"
             ]
            ],
            "type": "contour"
           }
          ],
          "contourcarpet": [
           {
            "colorbar": {
             "outlinewidth": 0,
             "ticks": ""
            },
            "type": "contourcarpet"
           }
          ],
          "heatmap": [
           {
            "colorbar": {
             "outlinewidth": 0,
             "ticks": ""
            },
            "colorscale": [
             [
              0,
              "#0d0887"
             ],
             [
              0.1111111111111111,
              "#46039f"
             ],
             [
              0.2222222222222222,
              "#7201a8"
             ],
             [
              0.3333333333333333,
              "#9c179e"
             ],
             [
              0.4444444444444444,
              "#bd3786"
             ],
             [
              0.5555555555555556,
              "#d8576b"
             ],
             [
              0.6666666666666666,
              "#ed7953"
             ],
             [
              0.7777777777777778,
              "#fb9f3a"
             ],
             [
              0.8888888888888888,
              "#fdca26"
             ],
             [
              1,
              "#f0f921"
             ]
            ],
            "type": "heatmap"
           }
          ],
          "heatmapgl": [
           {
            "colorbar": {
             "outlinewidth": 0,
             "ticks": ""
            },
            "colorscale": [
             [
              0,
              "#0d0887"
             ],
             [
              0.1111111111111111,
              "#46039f"
             ],
             [
              0.2222222222222222,
              "#7201a8"
             ],
             [
              0.3333333333333333,
              "#9c179e"
             ],
             [
              0.4444444444444444,
              "#bd3786"
             ],
             [
              0.5555555555555556,
              "#d8576b"
             ],
             [
              0.6666666666666666,
              "#ed7953"
             ],
             [
              0.7777777777777778,
              "#fb9f3a"
             ],
             [
              0.8888888888888888,
              "#fdca26"
             ],
             [
              1,
              "#f0f921"
             ]
            ],
            "type": "heatmapgl"
           }
          ],
          "histogram": [
           {
            "marker": {
             "colorbar": {
              "outlinewidth": 0,
              "ticks": ""
             }
            },
            "type": "histogram"
           }
          ],
          "histogram2d": [
           {
            "colorbar": {
             "outlinewidth": 0,
             "ticks": ""
            },
            "colorscale": [
             [
              0,
              "#0d0887"
             ],
             [
              0.1111111111111111,
              "#46039f"
             ],
             [
              0.2222222222222222,
              "#7201a8"
             ],
             [
              0.3333333333333333,
              "#9c179e"
             ],
             [
              0.4444444444444444,
              "#bd3786"
             ],
             [
              0.5555555555555556,
              "#d8576b"
             ],
             [
              0.6666666666666666,
              "#ed7953"
             ],
             [
              0.7777777777777778,
              "#fb9f3a"
             ],
             [
              0.8888888888888888,
              "#fdca26"
             ],
             [
              1,
              "#f0f921"
             ]
            ],
            "type": "histogram2d"
           }
          ],
          "histogram2dcontour": [
           {
            "colorbar": {
             "outlinewidth": 0,
             "ticks": ""
            },
            "colorscale": [
             [
              0,
              "#0d0887"
             ],
             [
              0.1111111111111111,
              "#46039f"
             ],
             [
              0.2222222222222222,
              "#7201a8"
             ],
             [
              0.3333333333333333,
              "#9c179e"
             ],
             [
              0.4444444444444444,
              "#bd3786"
             ],
             [
              0.5555555555555556,
              "#d8576b"
             ],
             [
              0.6666666666666666,
              "#ed7953"
             ],
             [
              0.7777777777777778,
              "#fb9f3a"
             ],
             [
              0.8888888888888888,
              "#fdca26"
             ],
             [
              1,
              "#f0f921"
             ]
            ],
            "type": "histogram2dcontour"
           }
          ],
          "mesh3d": [
           {
            "colorbar": {
             "outlinewidth": 0,
             "ticks": ""
            },
            "type": "mesh3d"
           }
          ],
          "parcoords": [
           {
            "line": {
             "colorbar": {
              "outlinewidth": 0,
              "ticks": ""
             }
            },
            "type": "parcoords"
           }
          ],
          "pie": [
           {
            "automargin": true,
            "type": "pie"
           }
          ],
          "scatter": [
           {
            "marker": {
             "colorbar": {
              "outlinewidth": 0,
              "ticks": ""
             }
            },
            "type": "scatter"
           }
          ],
          "scatter3d": [
           {
            "line": {
             "colorbar": {
              "outlinewidth": 0,
              "ticks": ""
             }
            },
            "marker": {
             "colorbar": {
              "outlinewidth": 0,
              "ticks": ""
             }
            },
            "type": "scatter3d"
           }
          ],
          "scattercarpet": [
           {
            "marker": {
             "colorbar": {
              "outlinewidth": 0,
              "ticks": ""
             }
            },
            "type": "scattercarpet"
           }
          ],
          "scattergeo": [
           {
            "marker": {
             "colorbar": {
              "outlinewidth": 0,
              "ticks": ""
             }
            },
            "type": "scattergeo"
           }
          ],
          "scattergl": [
           {
            "marker": {
             "colorbar": {
              "outlinewidth": 0,
              "ticks": ""
             }
            },
            "type": "scattergl"
           }
          ],
          "scattermapbox": [
           {
            "marker": {
             "colorbar": {
              "outlinewidth": 0,
              "ticks": ""
             }
            },
            "type": "scattermapbox"
           }
          ],
          "scatterpolar": [
           {
            "marker": {
             "colorbar": {
              "outlinewidth": 0,
              "ticks": ""
             }
            },
            "type": "scatterpolar"
           }
          ],
          "scatterpolargl": [
           {
            "marker": {
             "colorbar": {
              "outlinewidth": 0,
              "ticks": ""
             }
            },
            "type": "scatterpolargl"
           }
          ],
          "scatterternary": [
           {
            "marker": {
             "colorbar": {
              "outlinewidth": 0,
              "ticks": ""
             }
            },
            "type": "scatterternary"
           }
          ],
          "surface": [
           {
            "colorbar": {
             "outlinewidth": 0,
             "ticks": ""
            },
            "colorscale": [
             [
              0,
              "#0d0887"
             ],
             [
              0.1111111111111111,
              "#46039f"
             ],
             [
              0.2222222222222222,
              "#7201a8"
             ],
             [
              0.3333333333333333,
              "#9c179e"
             ],
             [
              0.4444444444444444,
              "#bd3786"
             ],
             [
              0.5555555555555556,
              "#d8576b"
             ],
             [
              0.6666666666666666,
              "#ed7953"
             ],
             [
              0.7777777777777778,
              "#fb9f3a"
             ],
             [
              0.8888888888888888,
              "#fdca26"
             ],
             [
              1,
              "#f0f921"
             ]
            ],
            "type": "surface"
           }
          ],
          "table": [
           {
            "cells": {
             "fill": {
              "color": "#EBF0F8"
             },
             "line": {
              "color": "white"
             }
            },
            "header": {
             "fill": {
              "color": "#C8D4E3"
             },
             "line": {
              "color": "white"
             }
            },
            "type": "table"
           }
          ]
         },
         "layout": {
          "annotationdefaults": {
           "arrowcolor": "#2a3f5f",
           "arrowhead": 0,
           "arrowwidth": 1
          },
          "coloraxis": {
           "colorbar": {
            "outlinewidth": 0,
            "ticks": ""
           }
          },
          "colorscale": {
           "diverging": [
            [
             0,
             "#8e0152"
            ],
            [
             0.1,
             "#c51b7d"
            ],
            [
             0.2,
             "#de77ae"
            ],
            [
             0.3,
             "#f1b6da"
            ],
            [
             0.4,
             "#fde0ef"
            ],
            [
             0.5,
             "#f7f7f7"
            ],
            [
             0.6,
             "#e6f5d0"
            ],
            [
             0.7,
             "#b8e186"
            ],
            [
             0.8,
             "#7fbc41"
            ],
            [
             0.9,
             "#4d9221"
            ],
            [
             1,
             "#276419"
            ]
           ],
           "sequential": [
            [
             0,
             "#0d0887"
            ],
            [
             0.1111111111111111,
             "#46039f"
            ],
            [
             0.2222222222222222,
             "#7201a8"
            ],
            [
             0.3333333333333333,
             "#9c179e"
            ],
            [
             0.4444444444444444,
             "#bd3786"
            ],
            [
             0.5555555555555556,
             "#d8576b"
            ],
            [
             0.6666666666666666,
             "#ed7953"
            ],
            [
             0.7777777777777778,
             "#fb9f3a"
            ],
            [
             0.8888888888888888,
             "#fdca26"
            ],
            [
             1,
             "#f0f921"
            ]
           ],
           "sequentialminus": [
            [
             0,
             "#0d0887"
            ],
            [
             0.1111111111111111,
             "#46039f"
            ],
            [
             0.2222222222222222,
             "#7201a8"
            ],
            [
             0.3333333333333333,
             "#9c179e"
            ],
            [
             0.4444444444444444,
             "#bd3786"
            ],
            [
             0.5555555555555556,
             "#d8576b"
            ],
            [
             0.6666666666666666,
             "#ed7953"
            ],
            [
             0.7777777777777778,
             "#fb9f3a"
            ],
            [
             0.8888888888888888,
             "#fdca26"
            ],
            [
             1,
             "#f0f921"
            ]
           ]
          },
          "colorway": [
           "#636efa",
           "#EF553B",
           "#00cc96",
           "#ab63fa",
           "#FFA15A",
           "#19d3f3",
           "#FF6692",
           "#B6E880",
           "#FF97FF",
           "#FECB52"
          ],
          "font": {
           "color": "#2a3f5f"
          },
          "geo": {
           "bgcolor": "white",
           "lakecolor": "white",
           "landcolor": "#E5ECF6",
           "showlakes": true,
           "showland": true,
           "subunitcolor": "white"
          },
          "hoverlabel": {
           "align": "left"
          },
          "hovermode": "closest",
          "mapbox": {
           "style": "light"
          },
          "paper_bgcolor": "white",
          "plot_bgcolor": "#E5ECF6",
          "polar": {
           "angularaxis": {
            "gridcolor": "white",
            "linecolor": "white",
            "ticks": ""
           },
           "bgcolor": "#E5ECF6",
           "radialaxis": {
            "gridcolor": "white",
            "linecolor": "white",
            "ticks": ""
           }
          },
          "scene": {
           "xaxis": {
            "backgroundcolor": "#E5ECF6",
            "gridcolor": "white",
            "gridwidth": 2,
            "linecolor": "white",
            "showbackground": true,
            "ticks": "",
            "zerolinecolor": "white"
           },
           "yaxis": {
            "backgroundcolor": "#E5ECF6",
            "gridcolor": "white",
            "gridwidth": 2,
            "linecolor": "white",
            "showbackground": true,
            "ticks": "",
            "zerolinecolor": "white"
           },
           "zaxis": {
            "backgroundcolor": "#E5ECF6",
            "gridcolor": "white",
            "gridwidth": 2,
            "linecolor": "white",
            "showbackground": true,
            "ticks": "",
            "zerolinecolor": "white"
           }
          },
          "shapedefaults": {
           "line": {
            "color": "#2a3f5f"
           }
          },
          "ternary": {
           "aaxis": {
            "gridcolor": "white",
            "linecolor": "white",
            "ticks": ""
           },
           "baxis": {
            "gridcolor": "white",
            "linecolor": "white",
            "ticks": ""
           },
           "bgcolor": "#E5ECF6",
           "caxis": {
            "gridcolor": "white",
            "linecolor": "white",
            "ticks": ""
           }
          },
          "title": {
           "x": 0.05
          },
          "xaxis": {
           "automargin": true,
           "gridcolor": "white",
           "linecolor": "white",
           "ticks": "",
           "title": {
            "standoff": 15
           },
           "zerolinecolor": "white",
           "zerolinewidth": 2
          },
          "yaxis": {
           "automargin": true,
           "gridcolor": "white",
           "linecolor": "white",
           "ticks": "",
           "title": {
            "standoff": 15
           },
           "zerolinecolor": "white",
           "zerolinewidth": 2
          }
         }
        },
        "width": 990,
        "xaxis": {
         "dtick": 1,
         "gridcolor": "rgb(0, 0, 0)",
         "side": "top",
         "ticks": "",
         "title": {
          "text": "Динамика новых заболевших по странам"
         }
        },
        "yaxis": {
         "dtick": 1,
         "ticks": "",
         "ticksuffix": "  "
        }
       }
      }
     },
     "metadata": {}
    }
   ],
   "source": [
    "fig = ff.create_annotated_heatmap(d, x=x2, y=y, annotation_text=d,\n",
    "                                  colorscale='Temps')\n",
    "\n",
    "fig.update_layout(\n",
    "                  \n",
    "                  \n",
    "                  width = 990, height = 600,\n",
    "    \n",
    "    \n",
    "                  xaxis_title='Динамика новых заболевших по странам',\n",
    "               #   yaxis_title = 'Регион '\n",
    ")\n",
    "\n",
    "fig.show()"
   ]
  },
  {
   "cell_type": "code",
   "execution_count": 21,
   "metadata": {
    "tags": []
   },
   "outputs": [
    {
     "output_type": "stream",
     "name": "stdout",
     "text": "187\n"
    },
    {
     "output_type": "execute_result",
     "data": {
      "text/plain": "             Date  Confirmed  Recovered  Deaths  Day_confirmed  Day_recovered  \\\n27059  2020-08-13    5248854    1774648  167110          51443          20888   \n4919   2020-08-13    3224876    2521100  105463          60091          14872   \n12094  2020-08-13    2461190    1751555   48040          64553          55573   \n26444  2020-08-13     905762     714934   15353           5017           6034   \n37719  2020-08-13     572865     437617   11270           3946           5588   \n21319  2020-08-13     505751     406583   55293           7371           5401   \n25624  2020-08-13     498555     341938   21713           8875              0   \n16194  2020-08-13     433805     250494   14145          11286          10709   \n35669  2020-08-13     380034     353131   10299           1866           1712   \n13529  2020-08-13     337334     150376   28605           7550              0   \n12914  2020-08-13     336324     292058   19162           2625           1814   \n5944   2020-08-13     315600       1479   46791             19              7   \n27879  2020-08-13     294519     260393    3303           1482           3124   \n24599  2020-08-13     286674     264060    6139            753            867   \n1844   2020-08-13     276072     192434    5362           7498           5151   \n\n       Day_deaths     Rt    Rt2  Rate_conf   Rate_ill            Country  \\\n27059        1076  0.923  1.041  25.107057  46.200584                США   \n4919         1262  1.074  1.053  15.425681   8.358515           Бразилия   \n12094        1007  0.982  1.115  11.772710   9.242573              Индия   \n26444         122  0.965  1.023   4.332568   2.451410             Россия   \n37719         260  0.434  1.034   2.740208   1.731990                ЮАР   \n21319         627  1.054  1.050   2.419179   0.612940            Мексика   \n25624         212  0.675  1.054   2.384758   1.884627               Перу   \n16194         308  1.109  1.118   2.075037   2.363272           Колумбия   \n35669          94  0.837  1.020   1.817832   0.231960               Чили   \n13529          26  2.673  1.051   1.613583   2.212213            Испания   \n12914         174  1.041  1.028   1.608752   0.350706               Иран   \n5944            0  0.809  1.012   1.509622   3.734637     Великобритания   \n27879          34  0.994  1.020   1.408785   0.430602  Саудовская Аравия   \n24599          10  0.855  1.009   1.371259   0.230158           Пакистан   \n1844          149  1.145  1.113   1.320546   1.093526          Аргентина   \n\n       Remaining_ill  MA7_dayconfirmed  MA14_dayconfirmed  MA7_remaining_ill  \\\n27059        3307096      52181.714286       53845.642857       3.240086e+06   \n4919          598313      44666.285714       43912.428571       5.761689e+05   \n12094         661595      62016.571429       59031.714286       6.402677e+05   \n26444         175475       5082.142857        5197.785714       1.779183e+05   \n37719         123978       4954.428571        6478.285714       1.331519e+05   \n21319          43875       6151.571429        6398.000000       4.367314e+04   \n25624         134904       6163.714286        6990.857143       1.319483e+05   \n16194         169166      10870.714286       10556.071429       1.636783e+05   \n35669          16604       1909.000000        1892.714286       1.690557e+04   \n13529         158353       3925.571429        3707.428571       1.439020e+05   \n12914          25104       2315.285714        2485.285714       2.426529e+04   \n5944          267330        829.142857         835.000000       2.652583e+05   \n27879          30823       1470.428571        1450.000000       3.294814e+04   \n24599          16475        687.285714         662.285714       1.754371e+04   \n1844           78276       6839.571429        6478.500000       1.086286e+05   \n\n       MA14_remaining_ill  Change_dayconf  Change_remill  \n27059        3.145616e+06           -4760          29479  \n4919         5.719496e+05            4936          43957  \n12094        6.121065e+05           -2446           7973  \n26444        1.814303e+05             -37          -1139  \n37719        1.416560e+05            1136          -1902  \n21319        4.533429e+04            1513           1343  \n25624        1.230589e+05            8875           8663  \n16194        1.528121e+05            -780            269  \n35669        1.710736e+04             314             60  \n13529        1.311739e+05            4378           7524  \n12914        2.430886e+04             115            637  \n5944         2.623461e+05           -1020             12  \n27879        3.423700e+04             -87          -1676  \n24599        2.064586e+04              23           -124  \n1844         1.107748e+05            -165           2198  ",
      "text/html": "<div>\n<style scoped>\n    .dataframe tbody tr th:only-of-type {\n        vertical-align: middle;\n    }\n\n    .dataframe tbody tr th {\n        vertical-align: top;\n    }\n\n    .dataframe thead th {\n        text-align: right;\n    }\n</style>\n<table border=\"1\" class=\"dataframe\">\n  <thead>\n    <tr style=\"text-align: right;\">\n      <th></th>\n      <th>Date</th>\n      <th>Confirmed</th>\n      <th>Recovered</th>\n      <th>Deaths</th>\n      <th>Day_confirmed</th>\n      <th>Day_recovered</th>\n      <th>Day_deaths</th>\n      <th>Rt</th>\n      <th>Rt2</th>\n      <th>Rate_conf</th>\n      <th>Rate_ill</th>\n      <th>Country</th>\n      <th>Remaining_ill</th>\n      <th>MA7_dayconfirmed</th>\n      <th>MA14_dayconfirmed</th>\n      <th>MA7_remaining_ill</th>\n      <th>MA14_remaining_ill</th>\n      <th>Change_dayconf</th>\n      <th>Change_remill</th>\n    </tr>\n  </thead>\n  <tbody>\n    <tr>\n      <th>27059</th>\n      <td>2020-08-13</td>\n      <td>5248854</td>\n      <td>1774648</td>\n      <td>167110</td>\n      <td>51443</td>\n      <td>20888</td>\n      <td>1076</td>\n      <td>0.923</td>\n      <td>1.041</td>\n      <td>25.107057</td>\n      <td>46.200584</td>\n      <td>США</td>\n      <td>3307096</td>\n      <td>52181.714286</td>\n      <td>53845.642857</td>\n      <td>3.240086e+06</td>\n      <td>3.145616e+06</td>\n      <td>-4760</td>\n      <td>29479</td>\n    </tr>\n    <tr>\n      <th>4919</th>\n      <td>2020-08-13</td>\n      <td>3224876</td>\n      <td>2521100</td>\n      <td>105463</td>\n      <td>60091</td>\n      <td>14872</td>\n      <td>1262</td>\n      <td>1.074</td>\n      <td>1.053</td>\n      <td>15.425681</td>\n      <td>8.358515</td>\n      <td>Бразилия</td>\n      <td>598313</td>\n      <td>44666.285714</td>\n      <td>43912.428571</td>\n      <td>5.761689e+05</td>\n      <td>5.719496e+05</td>\n      <td>4936</td>\n      <td>43957</td>\n    </tr>\n    <tr>\n      <th>12094</th>\n      <td>2020-08-13</td>\n      <td>2461190</td>\n      <td>1751555</td>\n      <td>48040</td>\n      <td>64553</td>\n      <td>55573</td>\n      <td>1007</td>\n      <td>0.982</td>\n      <td>1.115</td>\n      <td>11.772710</td>\n      <td>9.242573</td>\n      <td>Индия</td>\n      <td>661595</td>\n      <td>62016.571429</td>\n      <td>59031.714286</td>\n      <td>6.402677e+05</td>\n      <td>6.121065e+05</td>\n      <td>-2446</td>\n      <td>7973</td>\n    </tr>\n    <tr>\n      <th>26444</th>\n      <td>2020-08-13</td>\n      <td>905762</td>\n      <td>714934</td>\n      <td>15353</td>\n      <td>5017</td>\n      <td>6034</td>\n      <td>122</td>\n      <td>0.965</td>\n      <td>1.023</td>\n      <td>4.332568</td>\n      <td>2.451410</td>\n      <td>Россия</td>\n      <td>175475</td>\n      <td>5082.142857</td>\n      <td>5197.785714</td>\n      <td>1.779183e+05</td>\n      <td>1.814303e+05</td>\n      <td>-37</td>\n      <td>-1139</td>\n    </tr>\n    <tr>\n      <th>37719</th>\n      <td>2020-08-13</td>\n      <td>572865</td>\n      <td>437617</td>\n      <td>11270</td>\n      <td>3946</td>\n      <td>5588</td>\n      <td>260</td>\n      <td>0.434</td>\n      <td>1.034</td>\n      <td>2.740208</td>\n      <td>1.731990</td>\n      <td>ЮАР</td>\n      <td>123978</td>\n      <td>4954.428571</td>\n      <td>6478.285714</td>\n      <td>1.331519e+05</td>\n      <td>1.416560e+05</td>\n      <td>1136</td>\n      <td>-1902</td>\n    </tr>\n    <tr>\n      <th>21319</th>\n      <td>2020-08-13</td>\n      <td>505751</td>\n      <td>406583</td>\n      <td>55293</td>\n      <td>7371</td>\n      <td>5401</td>\n      <td>627</td>\n      <td>1.054</td>\n      <td>1.050</td>\n      <td>2.419179</td>\n      <td>0.612940</td>\n      <td>Мексика</td>\n      <td>43875</td>\n      <td>6151.571429</td>\n      <td>6398.000000</td>\n      <td>4.367314e+04</td>\n      <td>4.533429e+04</td>\n      <td>1513</td>\n      <td>1343</td>\n    </tr>\n    <tr>\n      <th>25624</th>\n      <td>2020-08-13</td>\n      <td>498555</td>\n      <td>341938</td>\n      <td>21713</td>\n      <td>8875</td>\n      <td>0</td>\n      <td>212</td>\n      <td>0.675</td>\n      <td>1.054</td>\n      <td>2.384758</td>\n      <td>1.884627</td>\n      <td>Перу</td>\n      <td>134904</td>\n      <td>6163.714286</td>\n      <td>6990.857143</td>\n      <td>1.319483e+05</td>\n      <td>1.230589e+05</td>\n      <td>8875</td>\n      <td>8663</td>\n    </tr>\n    <tr>\n      <th>16194</th>\n      <td>2020-08-13</td>\n      <td>433805</td>\n      <td>250494</td>\n      <td>14145</td>\n      <td>11286</td>\n      <td>10709</td>\n      <td>308</td>\n      <td>1.109</td>\n      <td>1.118</td>\n      <td>2.075037</td>\n      <td>2.363272</td>\n      <td>Колумбия</td>\n      <td>169166</td>\n      <td>10870.714286</td>\n      <td>10556.071429</td>\n      <td>1.636783e+05</td>\n      <td>1.528121e+05</td>\n      <td>-780</td>\n      <td>269</td>\n    </tr>\n    <tr>\n      <th>35669</th>\n      <td>2020-08-13</td>\n      <td>380034</td>\n      <td>353131</td>\n      <td>10299</td>\n      <td>1866</td>\n      <td>1712</td>\n      <td>94</td>\n      <td>0.837</td>\n      <td>1.020</td>\n      <td>1.817832</td>\n      <td>0.231960</td>\n      <td>Чили</td>\n      <td>16604</td>\n      <td>1909.000000</td>\n      <td>1892.714286</td>\n      <td>1.690557e+04</td>\n      <td>1.710736e+04</td>\n      <td>314</td>\n      <td>60</td>\n    </tr>\n    <tr>\n      <th>13529</th>\n      <td>2020-08-13</td>\n      <td>337334</td>\n      <td>150376</td>\n      <td>28605</td>\n      <td>7550</td>\n      <td>0</td>\n      <td>26</td>\n      <td>2.673</td>\n      <td>1.051</td>\n      <td>1.613583</td>\n      <td>2.212213</td>\n      <td>Испания</td>\n      <td>158353</td>\n      <td>3925.571429</td>\n      <td>3707.428571</td>\n      <td>1.439020e+05</td>\n      <td>1.311739e+05</td>\n      <td>4378</td>\n      <td>7524</td>\n    </tr>\n    <tr>\n      <th>12914</th>\n      <td>2020-08-13</td>\n      <td>336324</td>\n      <td>292058</td>\n      <td>19162</td>\n      <td>2625</td>\n      <td>1814</td>\n      <td>174</td>\n      <td>1.041</td>\n      <td>1.028</td>\n      <td>1.608752</td>\n      <td>0.350706</td>\n      <td>Иран</td>\n      <td>25104</td>\n      <td>2315.285714</td>\n      <td>2485.285714</td>\n      <td>2.426529e+04</td>\n      <td>2.430886e+04</td>\n      <td>115</td>\n      <td>637</td>\n    </tr>\n    <tr>\n      <th>5944</th>\n      <td>2020-08-13</td>\n      <td>315600</td>\n      <td>1479</td>\n      <td>46791</td>\n      <td>19</td>\n      <td>7</td>\n      <td>0</td>\n      <td>0.809</td>\n      <td>1.012</td>\n      <td>1.509622</td>\n      <td>3.734637</td>\n      <td>Великобритания</td>\n      <td>267330</td>\n      <td>829.142857</td>\n      <td>835.000000</td>\n      <td>2.652583e+05</td>\n      <td>2.623461e+05</td>\n      <td>-1020</td>\n      <td>12</td>\n    </tr>\n    <tr>\n      <th>27879</th>\n      <td>2020-08-13</td>\n      <td>294519</td>\n      <td>260393</td>\n      <td>3303</td>\n      <td>1482</td>\n      <td>3124</td>\n      <td>34</td>\n      <td>0.994</td>\n      <td>1.020</td>\n      <td>1.408785</td>\n      <td>0.430602</td>\n      <td>Саудовская Аравия</td>\n      <td>30823</td>\n      <td>1470.428571</td>\n      <td>1450.000000</td>\n      <td>3.294814e+04</td>\n      <td>3.423700e+04</td>\n      <td>-87</td>\n      <td>-1676</td>\n    </tr>\n    <tr>\n      <th>24599</th>\n      <td>2020-08-13</td>\n      <td>286674</td>\n      <td>264060</td>\n      <td>6139</td>\n      <td>753</td>\n      <td>867</td>\n      <td>10</td>\n      <td>0.855</td>\n      <td>1.009</td>\n      <td>1.371259</td>\n      <td>0.230158</td>\n      <td>Пакистан</td>\n      <td>16475</td>\n      <td>687.285714</td>\n      <td>662.285714</td>\n      <td>1.754371e+04</td>\n      <td>2.064586e+04</td>\n      <td>23</td>\n      <td>-124</td>\n    </tr>\n    <tr>\n      <th>1844</th>\n      <td>2020-08-13</td>\n      <td>276072</td>\n      <td>192434</td>\n      <td>5362</td>\n      <td>7498</td>\n      <td>5151</td>\n      <td>149</td>\n      <td>1.145</td>\n      <td>1.113</td>\n      <td>1.320546</td>\n      <td>1.093526</td>\n      <td>Аргентина</td>\n      <td>78276</td>\n      <td>6839.571429</td>\n      <td>6478.500000</td>\n      <td>1.086286e+05</td>\n      <td>1.107748e+05</td>\n      <td>-165</td>\n      <td>2198</td>\n    </tr>\n  </tbody>\n</table>\n</div>"
     },
     "metadata": {},
     "execution_count": 21
    }
   ],
   "source": [
    "mask = (X.Date==myday)&(X.Country != 'Весь мир')\n",
    "#mask = (X.Date==myday)\n",
    "#Делаем выборку по доле регина в общих случаях выявления заболеваний по России\n",
    "df=X[mask].sort_values(by=['Rate_conf'],ascending = False)\n",
    "#Далее заменяем все имена если регион набрал менее 1% в общих случаях по России\n",
    "df2 = X[mask].reset_index(drop=True)\n",
    "print(len(df2))\n",
    "\n",
    "for i in range(len(df2)):\n",
    "    if df2.loc[i,'Rate_conf']<1:\n",
    "        df2.loc[i,'Country']='Страны менее 1%'\n",
    "df.head(15)"
   ]
  },
  {
   "cell_type": "code",
   "execution_count": 22,
   "metadata": {},
   "outputs": [
    {
     "output_type": "display_data",
     "data": {
      "application/vnd.plotly.v1+json": {
       "config": {
        "plotlyServerURL": "https://plot.ly"
       },
       "data": [
        {
         "domain": {
          "x": [
           0,
           1
          ],
          "y": [
           0,
           1
          ]
         },
         "hovertemplate": "Country=%{label}<br>Confirmed=%{value}<extra></extra>",
         "labels": [
          "Страны менее 1%",
          "Страны менее 1%",
          "Страны менее 1%",
          "Страны менее 1%",
          "Страны менее 1%",
          "Страны менее 1%",
          "Страны менее 1%",
          "Страны менее 1%",
          "Аргентина",
          "Страны менее 1%",
          "Страны менее 1%",
          "Страны менее 1%",
          "Бангладеш",
          "Страны менее 1%",
          "Страны менее 1%",
          "Страны менее 1%",
          "Страны менее 1%",
          "Страны менее 1%",
          "Страны менее 1%",
          "Страны менее 1%",
          "Страны менее 1%",
          "Страны менее 1%",
          "Страны менее 1%",
          "Бразилия",
          "Страны менее 1%",
          "Страны менее 1%",
          "Страны менее 1%",
          "Страны менее 1%",
          "Великобритания",
          "Страны менее 1%",
          "Страны менее 1%",
          "Страны менее 1%",
          "Страны менее 1%",
          "Страны менее 1%",
          "Страны менее 1%",
          "Страны менее 1%",
          "Страны менее 1%",
          "Страны менее 1%",
          "Страны менее 1%",
          "Страны менее 1%",
          "Страны менее 1%",
          "Германия",
          "Страны менее 1%",
          "Страны менее 1%",
          "Страны менее 1%",
          "Страны менее 1%",
          "Страны менее 1%",
          "Страны менее 1%",
          "Страны менее 1%",
          "Страны менее 1%",
          "Страны менее 1%",
          "Страны менее 1%",
          "Страны менее 1%",
          "Страны менее 1%",
          "Страны менее 1%",
          "Страны менее 1%",
          "Страны менее 1%",
          "Индия",
          "Страны менее 1%",
          "Страны менее 1%",
          "Страны менее 1%",
          "Иран",
          "Страны менее 1%",
          "Страны менее 1%",
          "Испания",
          "Италия",
          "Страны менее 1%",
          "Страны менее 1%",
          "Страны менее 1%",
          "Страны менее 1%",
          "Страны менее 1%",
          "Страны менее 1%",
          "Страны менее 1%",
          "Страны менее 1%",
          "Страны менее 1%",
          "Страны менее 1%",
          "Страны менее 1%",
          "Колумбия",
          "Страны менее 1%",
          "Страны менее 1%",
          "Страны менее 1%",
          "Страны менее 1%",
          "Страны менее 1%",
          "Страны менее 1%",
          "Страны менее 1%",
          "Страны менее 1%",
          "Страны менее 1%",
          "Страны менее 1%",
          "Страны менее 1%",
          "Страны менее 1%",
          "Страны менее 1%",
          "Страны менее 1%",
          "Страны менее 1%",
          "Страны менее 1%",
          "Страны менее 1%",
          "Страны менее 1%",
          "Страны менее 1%",
          "Страны менее 1%",
          "Страны менее 1%",
          "Страны менее 1%",
          "Страны менее 1%",
          "Страны менее 1%",
          "Мексика",
          "Страны менее 1%",
          "Страны менее 1%",
          "Страны менее 1%",
          "Страны менее 1%",
          "Страны менее 1%",
          "Страны менее 1%",
          "Страны менее 1%",
          "Страны менее 1%",
          "Страны менее 1%",
          "Страны менее 1%",
          "Страны менее 1%",
          "Страны менее 1%",
          "Страны менее 1%",
          "Страны менее 1%",
          "Страны менее 1%",
          "Пакистан",
          "Страны менее 1%",
          "Страны менее 1%",
          "Страны менее 1%",
          "Страны менее 1%",
          "Перу",
          "Страны менее 1%",
          "Страны менее 1%",
          "Страны менее 1%",
          "Россия",
          "Страны менее 1%",
          "Страны менее 1%",
          "США",
          "Страны менее 1%",
          "Страны менее 1%",
          "Страны менее 1%",
          "Саудовская Аравия",
          "Страны менее 1%",
          "Страны менее 1%",
          "Страны менее 1%",
          "Страны менее 1%",
          "Страны менее 1%",
          "Страны менее 1%",
          "Страны менее 1%",
          "Страны менее 1%",
          "Страны менее 1%",
          "Страны менее 1%",
          "Страны менее 1%",
          "Страны менее 1%",
          "Страны менее 1%",
          "Страны менее 1%",
          "Страны менее 1%",
          "Страны менее 1%",
          "Страны менее 1%",
          "Страны менее 1%",
          "Страны менее 1%",
          "Страны менее 1%",
          "Страны менее 1%",
          "Страны менее 1%",
          "Страны менее 1%",
          "Турция",
          "Страны менее 1%",
          "Страны менее 1%",
          "Страны менее 1%",
          "Страны менее 1%",
          "Страны менее 1%",
          "Страны менее 1%",
          "Страны менее 1%",
          "Франция",
          "Страны менее 1%",
          "Страны менее 1%",
          "Страны менее 1%",
          "Страны менее 1%",
          "Страны менее 1%",
          "Чили",
          "Страны менее 1%",
          "Страны менее 1%",
          "Страны менее 1%",
          "Страны менее 1%",
          "Страны менее 1%",
          "Страны менее 1%",
          "Страны менее 1%",
          "Страны менее 1%",
          "Страны менее 1%",
          "ЮАР",
          "Страны менее 1%",
          "Страны менее 1%",
          "Страны менее 1%",
          "Страны менее 1%"
         ],
         "legendgroup": "",
         "name": "",
         "showlegend": true,
         "textinfo": "percent+label",
         "type": "pie",
         "values": [
          22742,
          22594,
          33915,
          6971,
          37187,
          1815,
          981,
          92,
          276072,
          41023,
          37424,
          1089,
          269115,
          144,
          45726,
          69203,
          296,
          76191,
          2014,
          13893,
          96459,
          15184,
          1214,
          3224876,
          142,
          1228,
          410,
          128,
          315600,
          4813,
          30369,
          25,
          911,
          8077,
          7781,
          631,
          1556,
          41725,
          60284,
          8198,
          2088,
          222281,
          49042,
          24,
          6381,
          1283,
          9589,
          15590,
          5358,
          18,
          83134,
          96108,
          8663,
          10,
          15491,
          4990,
          89822,
          2461190,
          132816,
          1320,
          164277,
          336324,
          26929,
          1976,
          337334,
          252235,
          1847,
          3073,
          101848,
          273,
          18308,
          123180,
          114281,
          28754,
          1305,
          41069,
          89625,
          433805,
          399,
          10795,
          26129,
          16889,
          3174,
          74486,
          20,
          1307,
          884,
          1252,
          7711,
          7050,
          2330,
          90,
          7368,
          344,
          6653,
          13522,
          4912,
          9129,
          2597,
          5494,
          1245,
          37935,
          505751,
          2638,
          29087,
          144,
          297,
          369,
          3544,
          24957,
          1161,
          48116,
          62406,
          4115,
          1602,
          9851,
          63489,
          82531,
          286674,
          78446,
          12,
          271,
          8389,
          498555,
          54487,
          53548,
          3745,
          905762,
          2200,
          66631,
          5248854,
          21993,
          699,
          883,
          294519,
          12357,
          127,
          11740,
          57,
          17,
          25,
          28998,
          55497,
          1432,
          2739,
          2332,
          3227,
          12115,
          712,
          9,
          2761,
          1940,
          7950,
          3359,
          509,
          1104,
          404,
          1847,
          245635,
          1353,
          33323,
          88136,
          1409,
          28,
          147526,
          7683,
          244096,
          6050,
          4652,
          949,
          3857,
          19401,
          380034,
          37403,
          83852,
          2882,
          98343,
          4821,
          285,
          3599,
          2174,
          26204,
          572865,
          14873,
          2478,
          1071,
          52471
         ]
        }
       ],
       "layout": {
        "height": 1000,
        "legend": {
         "tracegroupgap": 0
        },
        "margin": {
         "b": 0,
         "t": 150
        },
        "piecolorway": [
         "rgb(150,0,90)",
         "rgb(0,0,200)",
         "rgb(0,25,255)",
         "rgb(0,152,255)",
         "rgb(44,255,150)",
         "rgb(151,255,0)",
         "rgb(255,234,0)",
         "rgb(255,111,0)",
         "rgb(255,0,0)"
        ],
        "template": {
         "data": {
          "bar": [
           {
            "error_x": {
             "color": "#2a3f5f"
            },
            "error_y": {
             "color": "#2a3f5f"
            },
            "marker": {
             "line": {
              "color": "#E5ECF6",
              "width": 0.5
             }
            },
            "type": "bar"
           }
          ],
          "barpolar": [
           {
            "marker": {
             "line": {
              "color": "#E5ECF6",
              "width": 0.5
             }
            },
            "type": "barpolar"
           }
          ],
          "carpet": [
           {
            "aaxis": {
             "endlinecolor": "#2a3f5f",
             "gridcolor": "white",
             "linecolor": "white",
             "minorgridcolor": "white",
             "startlinecolor": "#2a3f5f"
            },
            "baxis": {
             "endlinecolor": "#2a3f5f",
             "gridcolor": "white",
             "linecolor": "white",
             "minorgridcolor": "white",
             "startlinecolor": "#2a3f5f"
            },
            "type": "carpet"
           }
          ],
          "choropleth": [
           {
            "colorbar": {
             "outlinewidth": 0,
             "ticks": ""
            },
            "type": "choropleth"
           }
          ],
          "contour": [
           {
            "colorbar": {
             "outlinewidth": 0,
             "ticks": ""
            },
            "colorscale": [
             [
              0,
              "#0d0887"
             ],
             [
              0.1111111111111111,
              "#46039f"
             ],
             [
              0.2222222222222222,
              "#7201a8"
             ],
             [
              0.3333333333333333,
              "#9c179e"
             ],
             [
              0.4444444444444444,
              "#bd3786"
             ],
             [
              0.5555555555555556,
              "#d8576b"
             ],
             [
              0.6666666666666666,
              "#ed7953"
             ],
             [
              0.7777777777777778,
              "#fb9f3a"
             ],
             [
              0.8888888888888888,
              "#fdca26"
             ],
             [
              1,
              "#f0f921"
             ]
            ],
            "type": "contour"
           }
          ],
          "contourcarpet": [
           {
            "colorbar": {
             "outlinewidth": 0,
             "ticks": ""
            },
            "type": "contourcarpet"
           }
          ],
          "heatmap": [
           {
            "colorbar": {
             "outlinewidth": 0,
             "ticks": ""
            },
            "colorscale": [
             [
              0,
              "#0d0887"
             ],
             [
              0.1111111111111111,
              "#46039f"
             ],
             [
              0.2222222222222222,
              "#7201a8"
             ],
             [
              0.3333333333333333,
              "#9c179e"
             ],
             [
              0.4444444444444444,
              "#bd3786"
             ],
             [
              0.5555555555555556,
              "#d8576b"
             ],
             [
              0.6666666666666666,
              "#ed7953"
             ],
             [
              0.7777777777777778,
              "#fb9f3a"
             ],
             [
              0.8888888888888888,
              "#fdca26"
             ],
             [
              1,
              "#f0f921"
             ]
            ],
            "type": "heatmap"
           }
          ],
          "heatmapgl": [
           {
            "colorbar": {
             "outlinewidth": 0,
             "ticks": ""
            },
            "colorscale": [
             [
              0,
              "#0d0887"
             ],
             [
              0.1111111111111111,
              "#46039f"
             ],
             [
              0.2222222222222222,
              "#7201a8"
             ],
             [
              0.3333333333333333,
              "#9c179e"
             ],
             [
              0.4444444444444444,
              "#bd3786"
             ],
             [
              0.5555555555555556,
              "#d8576b"
             ],
             [
              0.6666666666666666,
              "#ed7953"
             ],
             [
              0.7777777777777778,
              "#fb9f3a"
             ],
             [
              0.8888888888888888,
              "#fdca26"
             ],
             [
              1,
              "#f0f921"
             ]
            ],
            "type": "heatmapgl"
           }
          ],
          "histogram": [
           {
            "marker": {
             "colorbar": {
              "outlinewidth": 0,
              "ticks": ""
             }
            },
            "type": "histogram"
           }
          ],
          "histogram2d": [
           {
            "colorbar": {
             "outlinewidth": 0,
             "ticks": ""
            },
            "colorscale": [
             [
              0,
              "#0d0887"
             ],
             [
              0.1111111111111111,
              "#46039f"
             ],
             [
              0.2222222222222222,
              "#7201a8"
             ],
             [
              0.3333333333333333,
              "#9c179e"
             ],
             [
              0.4444444444444444,
              "#bd3786"
             ],
             [
              0.5555555555555556,
              "#d8576b"
             ],
             [
              0.6666666666666666,
              "#ed7953"
             ],
             [
              0.7777777777777778,
              "#fb9f3a"
             ],
             [
              0.8888888888888888,
              "#fdca26"
             ],
             [
              1,
              "#f0f921"
             ]
            ],
            "type": "histogram2d"
           }
          ],
          "histogram2dcontour": [
           {
            "colorbar": {
             "outlinewidth": 0,
             "ticks": ""
            },
            "colorscale": [
             [
              0,
              "#0d0887"
             ],
             [
              0.1111111111111111,
              "#46039f"
             ],
             [
              0.2222222222222222,
              "#7201a8"
             ],
             [
              0.3333333333333333,
              "#9c179e"
             ],
             [
              0.4444444444444444,
              "#bd3786"
             ],
             [
              0.5555555555555556,
              "#d8576b"
             ],
             [
              0.6666666666666666,
              "#ed7953"
             ],
             [
              0.7777777777777778,
              "#fb9f3a"
             ],
             [
              0.8888888888888888,
              "#fdca26"
             ],
             [
              1,
              "#f0f921"
             ]
            ],
            "type": "histogram2dcontour"
           }
          ],
          "mesh3d": [
           {
            "colorbar": {
             "outlinewidth": 0,
             "ticks": ""
            },
            "type": "mesh3d"
           }
          ],
          "parcoords": [
           {
            "line": {
             "colorbar": {
              "outlinewidth": 0,
              "ticks": ""
             }
            },
            "type": "parcoords"
           }
          ],
          "pie": [
           {
            "automargin": true,
            "type": "pie"
           }
          ],
          "scatter": [
           {
            "marker": {
             "colorbar": {
              "outlinewidth": 0,
              "ticks": ""
             }
            },
            "type": "scatter"
           }
          ],
          "scatter3d": [
           {
            "line": {
             "colorbar": {
              "outlinewidth": 0,
              "ticks": ""
             }
            },
            "marker": {
             "colorbar": {
              "outlinewidth": 0,
              "ticks": ""
             }
            },
            "type": "scatter3d"
           }
          ],
          "scattercarpet": [
           {
            "marker": {
             "colorbar": {
              "outlinewidth": 0,
              "ticks": ""
             }
            },
            "type": "scattercarpet"
           }
          ],
          "scattergeo": [
           {
            "marker": {
             "colorbar": {
              "outlinewidth": 0,
              "ticks": ""
             }
            },
            "type": "scattergeo"
           }
          ],
          "scattergl": [
           {
            "marker": {
             "colorbar": {
              "outlinewidth": 0,
              "ticks": ""
             }
            },
            "type": "scattergl"
           }
          ],
          "scattermapbox": [
           {
            "marker": {
             "colorbar": {
              "outlinewidth": 0,
              "ticks": ""
             }
            },
            "type": "scattermapbox"
           }
          ],
          "scatterpolar": [
           {
            "marker": {
             "colorbar": {
              "outlinewidth": 0,
              "ticks": ""
             }
            },
            "type": "scatterpolar"
           }
          ],
          "scatterpolargl": [
           {
            "marker": {
             "colorbar": {
              "outlinewidth": 0,
              "ticks": ""
             }
            },
            "type": "scatterpolargl"
           }
          ],
          "scatterternary": [
           {
            "marker": {
             "colorbar": {
              "outlinewidth": 0,
              "ticks": ""
             }
            },
            "type": "scatterternary"
           }
          ],
          "surface": [
           {
            "colorbar": {
             "outlinewidth": 0,
             "ticks": ""
            },
            "colorscale": [
             [
              0,
              "#0d0887"
             ],
             [
              0.1111111111111111,
              "#46039f"
             ],
             [
              0.2222222222222222,
              "#7201a8"
             ],
             [
              0.3333333333333333,
              "#9c179e"
             ],
             [
              0.4444444444444444,
              "#bd3786"
             ],
             [
              0.5555555555555556,
              "#d8576b"
             ],
             [
              0.6666666666666666,
              "#ed7953"
             ],
             [
              0.7777777777777778,
              "#fb9f3a"
             ],
             [
              0.8888888888888888,
              "#fdca26"
             ],
             [
              1,
              "#f0f921"
             ]
            ],
            "type": "surface"
           }
          ],
          "table": [
           {
            "cells": {
             "fill": {
              "color": "#EBF0F8"
             },
             "line": {
              "color": "white"
             }
            },
            "header": {
             "fill": {
              "color": "#C8D4E3"
             },
             "line": {
              "color": "white"
             }
            },
            "type": "table"
           }
          ]
         },
         "layout": {
          "annotationdefaults": {
           "arrowcolor": "#2a3f5f",
           "arrowhead": 0,
           "arrowwidth": 1
          },
          "coloraxis": {
           "colorbar": {
            "outlinewidth": 0,
            "ticks": ""
           }
          },
          "colorscale": {
           "diverging": [
            [
             0,
             "#8e0152"
            ],
            [
             0.1,
             "#c51b7d"
            ],
            [
             0.2,
             "#de77ae"
            ],
            [
             0.3,
             "#f1b6da"
            ],
            [
             0.4,
             "#fde0ef"
            ],
            [
             0.5,
             "#f7f7f7"
            ],
            [
             0.6,
             "#e6f5d0"
            ],
            [
             0.7,
             "#b8e186"
            ],
            [
             0.8,
             "#7fbc41"
            ],
            [
             0.9,
             "#4d9221"
            ],
            [
             1,
             "#276419"
            ]
           ],
           "sequential": [
            [
             0,
             "#0d0887"
            ],
            [
             0.1111111111111111,
             "#46039f"
            ],
            [
             0.2222222222222222,
             "#7201a8"
            ],
            [
             0.3333333333333333,
             "#9c179e"
            ],
            [
             0.4444444444444444,
             "#bd3786"
            ],
            [
             0.5555555555555556,
             "#d8576b"
            ],
            [
             0.6666666666666666,
             "#ed7953"
            ],
            [
             0.7777777777777778,
             "#fb9f3a"
            ],
            [
             0.8888888888888888,
             "#fdca26"
            ],
            [
             1,
             "#f0f921"
            ]
           ],
           "sequentialminus": [
            [
             0,
             "#0d0887"
            ],
            [
             0.1111111111111111,
             "#46039f"
            ],
            [
             0.2222222222222222,
             "#7201a8"
            ],
            [
             0.3333333333333333,
             "#9c179e"
            ],
            [
             0.4444444444444444,
             "#bd3786"
            ],
            [
             0.5555555555555556,
             "#d8576b"
            ],
            [
             0.6666666666666666,
             "#ed7953"
            ],
            [
             0.7777777777777778,
             "#fb9f3a"
            ],
            [
             0.8888888888888888,
             "#fdca26"
            ],
            [
             1,
             "#f0f921"
            ]
           ]
          },
          "colorway": [
           "#636efa",
           "#EF553B",
           "#00cc96",
           "#ab63fa",
           "#FFA15A",
           "#19d3f3",
           "#FF6692",
           "#B6E880",
           "#FF97FF",
           "#FECB52"
          ],
          "font": {
           "color": "#2a3f5f"
          },
          "geo": {
           "bgcolor": "white",
           "lakecolor": "white",
           "landcolor": "#E5ECF6",
           "showlakes": true,
           "showland": true,
           "subunitcolor": "white"
          },
          "hoverlabel": {
           "align": "left"
          },
          "hovermode": "closest",
          "mapbox": {
           "style": "light"
          },
          "paper_bgcolor": "white",
          "plot_bgcolor": "#E5ECF6",
          "polar": {
           "angularaxis": {
            "gridcolor": "white",
            "linecolor": "white",
            "ticks": ""
           },
           "bgcolor": "#E5ECF6",
           "radialaxis": {
            "gridcolor": "white",
            "linecolor": "white",
            "ticks": ""
           }
          },
          "scene": {
           "xaxis": {
            "backgroundcolor": "#E5ECF6",
            "gridcolor": "white",
            "gridwidth": 2,
            "linecolor": "white",
            "showbackground": true,
            "ticks": "",
            "zerolinecolor": "white"
           },
           "yaxis": {
            "backgroundcolor": "#E5ECF6",
            "gridcolor": "white",
            "gridwidth": 2,
            "linecolor": "white",
            "showbackground": true,
            "ticks": "",
            "zerolinecolor": "white"
           },
           "zaxis": {
            "backgroundcolor": "#E5ECF6",
            "gridcolor": "white",
            "gridwidth": 2,
            "linecolor": "white",
            "showbackground": true,
            "ticks": "",
            "zerolinecolor": "white"
           }
          },
          "shapedefaults": {
           "line": {
            "color": "#2a3f5f"
           }
          },
          "ternary": {
           "aaxis": {
            "gridcolor": "white",
            "linecolor": "white",
            "ticks": ""
           },
           "baxis": {
            "gridcolor": "white",
            "linecolor": "white",
            "ticks": ""
           },
           "bgcolor": "#E5ECF6",
           "caxis": {
            "gridcolor": "white",
            "linecolor": "white",
            "ticks": ""
           }
          },
          "title": {
           "x": 0.05
          },
          "xaxis": {
           "automargin": true,
           "gridcolor": "white",
           "linecolor": "white",
           "ticks": "",
           "title": {
            "standoff": 15
           },
           "zerolinecolor": "white",
           "zerolinewidth": 2
          },
          "yaxis": {
           "automargin": true,
           "gridcolor": "white",
           "linecolor": "white",
           "ticks": "",
           "title": {
            "standoff": 15
           },
           "zerolinecolor": "white",
           "zerolinewidth": 2
          }
         }
        },
        "title": {
         "text": "Всего выявленных случаев заболевания COVID-19 в мире: 20905891<br>(на дату: 2020-08-13)",
         "x": 0.5,
         "xanchor": "center",
         "y": 0.9,
         "yanchor": "bottom"
        },
        "width": 990
       }
      }
     },
     "metadata": {}
    }
   ],
   "source": [
    "\n",
    "\n",
    "\n",
    "fig = px.pie(df2, values='Confirmed', names='Country',color_discrete_sequence=px.colors.sequential.Rainbow,\n",
    "            title=f'Всего выявленных случаев заболевания COVID-19 в мире: {df2.Confirmed.sum()}<br>'+\n",
    "            f'(на дату: {myday})'\n",
    "            ,\n",
    "            width = 990, height=1000)\n",
    "\n",
    "fig.update_traces(textinfo='percent+label')\n",
    "fig.update_layout(\n",
    "        \n",
    "                #  title=f'{my_region}: динамика текущих больных COVID-19 по дням<br>(изменение относительно предыдущего дня)',\n",
    "                  margin = {'t':150, 'b':0},\n",
    "                  title_x = 0.5,\n",
    "                  title_y= 0.9,\n",
    "                  title_xanchor = \"center\",\n",
    "                  title_yanchor = \"bottom\", \n",
    "                 # legend_x = 0.05,legend_y = 0.98,\n",
    "                     \n",
    ")\n",
    "\n",
    "fig.show()\n",
    "\n"
   ]
  },
  {
   "cell_type": "code",
   "execution_count": 23,
   "metadata": {
    "tags": []
   },
   "outputs": [
    {
     "output_type": "stream",
     "name": "stdout",
     "text": "187\n"
    },
    {
     "output_type": "execute_result",
     "data": {
      "text/plain": "             Date  Confirmed  Recovered  Deaths  Day_confirmed  Day_recovered  \\\n27059  2020-08-13    5248854    1774648  167110          51443          20888   \n12094  2020-08-13    2461190    1751555   48040          64553          55573   \n4919   2020-08-13    3224876    2521100  105463          60091          14872   \n5944   2020-08-13     315600       1479   46791             19              7   \n26444  2020-08-13     905762     714934   15353           5017           6034   \n16194  2020-08-13     433805     250494   14145          11286          10709   \n13529  2020-08-13     337334     150376   28605           7550              0   \n25624  2020-08-13     498555     341938   21713           8875              0   \n34439  2020-08-13     244096      83612   30392              8              3   \n37719  2020-08-13     572865     437617   11270           3946           5588   \n2664   2020-08-13     269115     154871    3557           2617           1782   \n1844   2020-08-13     276072     192434    5362           7498           5151   \n36079  2020-08-13      83852          0    5776            397              0   \n34029  2020-08-13     147526      70387    2426           3777           1390   \n4304   2020-08-13      96459      33720    3884           1388            890   \n23369  2020-08-13      62406        253    6187            688              0   \n3689   2020-08-13      76191      17913    9916            544             30   \n21319  2020-08-13     505751     406583   55293           7371           5401   \n12709  2020-08-13     164277     117208    5641           3841           2667   \n9019   2020-08-13      49042       7032    1542            385             87   \n\n       Day_deaths     Rt    Rt2  Rate_conf   Rate_ill         Country  \\\n27059        1076  0.923  1.041  25.107057  46.200584             США   \n12094        1007  0.982  1.115  11.772710   9.242573           Индия   \n4919         1262  1.074  1.053  15.425681   8.358515        Бразилия   \n5944            0  0.809  1.012   1.509622   3.734637  Великобритания   \n26444         122  0.965  1.023   4.332568   2.451410          Россия   \n16194         308  1.109  1.118   2.075037   2.363272        Колумбия   \n13529          26  2.673  1.051   1.613583   2.212213         Испания   \n25624         212  0.675  1.054   2.384758   1.884627            Перу   \n34439          17  1.330  1.032   1.167594   1.817403         Франция   \n37719         260  0.434  1.034   2.740208   1.731990             ЮАР   \n2664           44  1.054  1.044   1.287269   1.546313       Бангладеш   \n1844          149  1.145  1.113   1.320546   1.093526       Аргентина   \n36079           2  1.953  1.014   0.401093   1.090732          Швеция   \n34029          22  1.264  1.137   0.705667   1.043751       Филиппины   \n4304           57  1.330  1.065   0.461396   0.822212         Боливия   \n23369           5  1.167  1.047   0.298509   0.781853      Нидерланды   \n3689           16  0.681  1.031   0.364448   0.675624         Бельгия   \n21319         627  1.054  1.050   2.419179   0.612940         Мексика   \n12709          53  1.128  1.091   0.785793   0.578755            Ирак   \n9019            9  0.674  1.040   0.234585   0.565343        Гондурас   \n\n       Remaining_ill  MA7_dayconfirmed  MA14_dayconfirmed  MA7_remaining_ill  \\\n27059        3307096      52181.714286       53845.642857       3.240086e+06   \n12094         661595      62016.571429       59031.714286       6.402677e+05   \n4919          598313      44666.285714       43912.428571       5.761689e+05   \n5944          267330        829.142857         835.000000       2.652583e+05   \n26444         175475       5082.142857        5197.785714       1.779183e+05   \n16194         169166      10870.714286       10556.071429       1.636783e+05   \n13529         158353       3925.571429        3707.428571       1.439020e+05   \n25624         134904       6163.714286        6990.857143       1.319483e+05   \n34439         130092       1826.571429        1544.785714       1.254381e+05   \n37719         123978       4954.428571        6478.285714       1.331519e+05   \n2664          110687       2780.571429        2444.714286       1.071193e+05   \n1844           78276       6839.571429        6478.500000       1.086286e+05   \n36079          78076        269.285714         268.000000       7.714271e+04   \n34029          74713       4009.428571        4153.714286       6.475757e+04   \n4304           58855       1433.714286        1516.071429       5.736086e+04   \n23369          55966        705.857143         582.642857       5.369000e+04   \n3689           48362        596.428571         584.642857       4.684457e+04   \n21319          43875       6151.571429        6398.000000       4.367314e+04   \n12709          41428       3382.000000        3072.428571       3.837086e+04   \n9019           40468        469.571429         544.000000       3.963186e+04   \n\n       MA14_remaining_ill  Change_dayconf  Change_remill  \n27059        3.145616e+06           -4760          29479  \n12094        6.121065e+05           -2446           7973  \n4919         5.719496e+05            4936          43957  \n5944         2.623461e+05           -1020             12  \n26444        1.814303e+05             -37          -1139  \n16194        1.528121e+05            -780            269  \n13529        1.311739e+05            4378           7524  \n25624        1.230589e+05            8875           8663  \n34439        1.201169e+05           -4725            -12  \n37719        1.416560e+05            1136          -1902  \n2664         1.040424e+05            -378            791  \n1844         1.107748e+05            -165           2198  \n36079        7.619421e+04              68            395  \n34029        5.191764e+04            -434           2365  \n4304         5.543029e+04            -355            441  \n23369        5.160571e+04            -639            683  \n3689         4.484214e+04             -95            498  \n21319        4.533429e+04            1513           1343  \n12709        3.578079e+04             400           1121  \n9019         3.809800e+04             131            289  ",
      "text/html": "<div>\n<style scoped>\n    .dataframe tbody tr th:only-of-type {\n        vertical-align: middle;\n    }\n\n    .dataframe tbody tr th {\n        vertical-align: top;\n    }\n\n    .dataframe thead th {\n        text-align: right;\n    }\n</style>\n<table border=\"1\" class=\"dataframe\">\n  <thead>\n    <tr style=\"text-align: right;\">\n      <th></th>\n      <th>Date</th>\n      <th>Confirmed</th>\n      <th>Recovered</th>\n      <th>Deaths</th>\n      <th>Day_confirmed</th>\n      <th>Day_recovered</th>\n      <th>Day_deaths</th>\n      <th>Rt</th>\n      <th>Rt2</th>\n      <th>Rate_conf</th>\n      <th>Rate_ill</th>\n      <th>Country</th>\n      <th>Remaining_ill</th>\n      <th>MA7_dayconfirmed</th>\n      <th>MA14_dayconfirmed</th>\n      <th>MA7_remaining_ill</th>\n      <th>MA14_remaining_ill</th>\n      <th>Change_dayconf</th>\n      <th>Change_remill</th>\n    </tr>\n  </thead>\n  <tbody>\n    <tr>\n      <th>27059</th>\n      <td>2020-08-13</td>\n      <td>5248854</td>\n      <td>1774648</td>\n      <td>167110</td>\n      <td>51443</td>\n      <td>20888</td>\n      <td>1076</td>\n      <td>0.923</td>\n      <td>1.041</td>\n      <td>25.107057</td>\n      <td>46.200584</td>\n      <td>США</td>\n      <td>3307096</td>\n      <td>52181.714286</td>\n      <td>53845.642857</td>\n      <td>3.240086e+06</td>\n      <td>3.145616e+06</td>\n      <td>-4760</td>\n      <td>29479</td>\n    </tr>\n    <tr>\n      <th>12094</th>\n      <td>2020-08-13</td>\n      <td>2461190</td>\n      <td>1751555</td>\n      <td>48040</td>\n      <td>64553</td>\n      <td>55573</td>\n      <td>1007</td>\n      <td>0.982</td>\n      <td>1.115</td>\n      <td>11.772710</td>\n      <td>9.242573</td>\n      <td>Индия</td>\n      <td>661595</td>\n      <td>62016.571429</td>\n      <td>59031.714286</td>\n      <td>6.402677e+05</td>\n      <td>6.121065e+05</td>\n      <td>-2446</td>\n      <td>7973</td>\n    </tr>\n    <tr>\n      <th>4919</th>\n      <td>2020-08-13</td>\n      <td>3224876</td>\n      <td>2521100</td>\n      <td>105463</td>\n      <td>60091</td>\n      <td>14872</td>\n      <td>1262</td>\n      <td>1.074</td>\n      <td>1.053</td>\n      <td>15.425681</td>\n      <td>8.358515</td>\n      <td>Бразилия</td>\n      <td>598313</td>\n      <td>44666.285714</td>\n      <td>43912.428571</td>\n      <td>5.761689e+05</td>\n      <td>5.719496e+05</td>\n      <td>4936</td>\n      <td>43957</td>\n    </tr>\n    <tr>\n      <th>5944</th>\n      <td>2020-08-13</td>\n      <td>315600</td>\n      <td>1479</td>\n      <td>46791</td>\n      <td>19</td>\n      <td>7</td>\n      <td>0</td>\n      <td>0.809</td>\n      <td>1.012</td>\n      <td>1.509622</td>\n      <td>3.734637</td>\n      <td>Великобритания</td>\n      <td>267330</td>\n      <td>829.142857</td>\n      <td>835.000000</td>\n      <td>2.652583e+05</td>\n      <td>2.623461e+05</td>\n      <td>-1020</td>\n      <td>12</td>\n    </tr>\n    <tr>\n      <th>26444</th>\n      <td>2020-08-13</td>\n      <td>905762</td>\n      <td>714934</td>\n      <td>15353</td>\n      <td>5017</td>\n      <td>6034</td>\n      <td>122</td>\n      <td>0.965</td>\n      <td>1.023</td>\n      <td>4.332568</td>\n      <td>2.451410</td>\n      <td>Россия</td>\n      <td>175475</td>\n      <td>5082.142857</td>\n      <td>5197.785714</td>\n      <td>1.779183e+05</td>\n      <td>1.814303e+05</td>\n      <td>-37</td>\n      <td>-1139</td>\n    </tr>\n    <tr>\n      <th>16194</th>\n      <td>2020-08-13</td>\n      <td>433805</td>\n      <td>250494</td>\n      <td>14145</td>\n      <td>11286</td>\n      <td>10709</td>\n      <td>308</td>\n      <td>1.109</td>\n      <td>1.118</td>\n      <td>2.075037</td>\n      <td>2.363272</td>\n      <td>Колумбия</td>\n      <td>169166</td>\n      <td>10870.714286</td>\n      <td>10556.071429</td>\n      <td>1.636783e+05</td>\n      <td>1.528121e+05</td>\n      <td>-780</td>\n      <td>269</td>\n    </tr>\n    <tr>\n      <th>13529</th>\n      <td>2020-08-13</td>\n      <td>337334</td>\n      <td>150376</td>\n      <td>28605</td>\n      <td>7550</td>\n      <td>0</td>\n      <td>26</td>\n      <td>2.673</td>\n      <td>1.051</td>\n      <td>1.613583</td>\n      <td>2.212213</td>\n      <td>Испания</td>\n      <td>158353</td>\n      <td>3925.571429</td>\n      <td>3707.428571</td>\n      <td>1.439020e+05</td>\n      <td>1.311739e+05</td>\n      <td>4378</td>\n      <td>7524</td>\n    </tr>\n    <tr>\n      <th>25624</th>\n      <td>2020-08-13</td>\n      <td>498555</td>\n      <td>341938</td>\n      <td>21713</td>\n      <td>8875</td>\n      <td>0</td>\n      <td>212</td>\n      <td>0.675</td>\n      <td>1.054</td>\n      <td>2.384758</td>\n      <td>1.884627</td>\n      <td>Перу</td>\n      <td>134904</td>\n      <td>6163.714286</td>\n      <td>6990.857143</td>\n      <td>1.319483e+05</td>\n      <td>1.230589e+05</td>\n      <td>8875</td>\n      <td>8663</td>\n    </tr>\n    <tr>\n      <th>34439</th>\n      <td>2020-08-13</td>\n      <td>244096</td>\n      <td>83612</td>\n      <td>30392</td>\n      <td>8</td>\n      <td>3</td>\n      <td>17</td>\n      <td>1.330</td>\n      <td>1.032</td>\n      <td>1.167594</td>\n      <td>1.817403</td>\n      <td>Франция</td>\n      <td>130092</td>\n      <td>1826.571429</td>\n      <td>1544.785714</td>\n      <td>1.254381e+05</td>\n      <td>1.201169e+05</td>\n      <td>-4725</td>\n      <td>-12</td>\n    </tr>\n    <tr>\n      <th>37719</th>\n      <td>2020-08-13</td>\n      <td>572865</td>\n      <td>437617</td>\n      <td>11270</td>\n      <td>3946</td>\n      <td>5588</td>\n      <td>260</td>\n      <td>0.434</td>\n      <td>1.034</td>\n      <td>2.740208</td>\n      <td>1.731990</td>\n      <td>ЮАР</td>\n      <td>123978</td>\n      <td>4954.428571</td>\n      <td>6478.285714</td>\n      <td>1.331519e+05</td>\n      <td>1.416560e+05</td>\n      <td>1136</td>\n      <td>-1902</td>\n    </tr>\n    <tr>\n      <th>2664</th>\n      <td>2020-08-13</td>\n      <td>269115</td>\n      <td>154871</td>\n      <td>3557</td>\n      <td>2617</td>\n      <td>1782</td>\n      <td>44</td>\n      <td>1.054</td>\n      <td>1.044</td>\n      <td>1.287269</td>\n      <td>1.546313</td>\n      <td>Бангладеш</td>\n      <td>110687</td>\n      <td>2780.571429</td>\n      <td>2444.714286</td>\n      <td>1.071193e+05</td>\n      <td>1.040424e+05</td>\n      <td>-378</td>\n      <td>791</td>\n    </tr>\n    <tr>\n      <th>1844</th>\n      <td>2020-08-13</td>\n      <td>276072</td>\n      <td>192434</td>\n      <td>5362</td>\n      <td>7498</td>\n      <td>5151</td>\n      <td>149</td>\n      <td>1.145</td>\n      <td>1.113</td>\n      <td>1.320546</td>\n      <td>1.093526</td>\n      <td>Аргентина</td>\n      <td>78276</td>\n      <td>6839.571429</td>\n      <td>6478.500000</td>\n      <td>1.086286e+05</td>\n      <td>1.107748e+05</td>\n      <td>-165</td>\n      <td>2198</td>\n    </tr>\n    <tr>\n      <th>36079</th>\n      <td>2020-08-13</td>\n      <td>83852</td>\n      <td>0</td>\n      <td>5776</td>\n      <td>397</td>\n      <td>0</td>\n      <td>2</td>\n      <td>1.953</td>\n      <td>1.014</td>\n      <td>0.401093</td>\n      <td>1.090732</td>\n      <td>Швеция</td>\n      <td>78076</td>\n      <td>269.285714</td>\n      <td>268.000000</td>\n      <td>7.714271e+04</td>\n      <td>7.619421e+04</td>\n      <td>68</td>\n      <td>395</td>\n    </tr>\n    <tr>\n      <th>34029</th>\n      <td>2020-08-13</td>\n      <td>147526</td>\n      <td>70387</td>\n      <td>2426</td>\n      <td>3777</td>\n      <td>1390</td>\n      <td>22</td>\n      <td>1.264</td>\n      <td>1.137</td>\n      <td>0.705667</td>\n      <td>1.043751</td>\n      <td>Филиппины</td>\n      <td>74713</td>\n      <td>4009.428571</td>\n      <td>4153.714286</td>\n      <td>6.475757e+04</td>\n      <td>5.191764e+04</td>\n      <td>-434</td>\n      <td>2365</td>\n    </tr>\n    <tr>\n      <th>4304</th>\n      <td>2020-08-13</td>\n      <td>96459</td>\n      <td>33720</td>\n      <td>3884</td>\n      <td>1388</td>\n      <td>890</td>\n      <td>57</td>\n      <td>1.330</td>\n      <td>1.065</td>\n      <td>0.461396</td>\n      <td>0.822212</td>\n      <td>Боливия</td>\n      <td>58855</td>\n      <td>1433.714286</td>\n      <td>1516.071429</td>\n      <td>5.736086e+04</td>\n      <td>5.543029e+04</td>\n      <td>-355</td>\n      <td>441</td>\n    </tr>\n    <tr>\n      <th>23369</th>\n      <td>2020-08-13</td>\n      <td>62406</td>\n      <td>253</td>\n      <td>6187</td>\n      <td>688</td>\n      <td>0</td>\n      <td>5</td>\n      <td>1.167</td>\n      <td>1.047</td>\n      <td>0.298509</td>\n      <td>0.781853</td>\n      <td>Нидерланды</td>\n      <td>55966</td>\n      <td>705.857143</td>\n      <td>582.642857</td>\n      <td>5.369000e+04</td>\n      <td>5.160571e+04</td>\n      <td>-639</td>\n      <td>683</td>\n    </tr>\n    <tr>\n      <th>3689</th>\n      <td>2020-08-13</td>\n      <td>76191</td>\n      <td>17913</td>\n      <td>9916</td>\n      <td>544</td>\n      <td>30</td>\n      <td>16</td>\n      <td>0.681</td>\n      <td>1.031</td>\n      <td>0.364448</td>\n      <td>0.675624</td>\n      <td>Бельгия</td>\n      <td>48362</td>\n      <td>596.428571</td>\n      <td>584.642857</td>\n      <td>4.684457e+04</td>\n      <td>4.484214e+04</td>\n      <td>-95</td>\n      <td>498</td>\n    </tr>\n    <tr>\n      <th>21319</th>\n      <td>2020-08-13</td>\n      <td>505751</td>\n      <td>406583</td>\n      <td>55293</td>\n      <td>7371</td>\n      <td>5401</td>\n      <td>627</td>\n      <td>1.054</td>\n      <td>1.050</td>\n      <td>2.419179</td>\n      <td>0.612940</td>\n      <td>Мексика</td>\n      <td>43875</td>\n      <td>6151.571429</td>\n      <td>6398.000000</td>\n      <td>4.367314e+04</td>\n      <td>4.533429e+04</td>\n      <td>1513</td>\n      <td>1343</td>\n    </tr>\n    <tr>\n      <th>12709</th>\n      <td>2020-08-13</td>\n      <td>164277</td>\n      <td>117208</td>\n      <td>5641</td>\n      <td>3841</td>\n      <td>2667</td>\n      <td>53</td>\n      <td>1.128</td>\n      <td>1.091</td>\n      <td>0.785793</td>\n      <td>0.578755</td>\n      <td>Ирак</td>\n      <td>41428</td>\n      <td>3382.000000</td>\n      <td>3072.428571</td>\n      <td>3.837086e+04</td>\n      <td>3.578079e+04</td>\n      <td>400</td>\n      <td>1121</td>\n    </tr>\n    <tr>\n      <th>9019</th>\n      <td>2020-08-13</td>\n      <td>49042</td>\n      <td>7032</td>\n      <td>1542</td>\n      <td>385</td>\n      <td>87</td>\n      <td>9</td>\n      <td>0.674</td>\n      <td>1.040</td>\n      <td>0.234585</td>\n      <td>0.565343</td>\n      <td>Гондурас</td>\n      <td>40468</td>\n      <td>469.571429</td>\n      <td>544.000000</td>\n      <td>3.963186e+04</td>\n      <td>3.809800e+04</td>\n      <td>131</td>\n      <td>289</td>\n    </tr>\n  </tbody>\n</table>\n</div>"
     },
     "metadata": {},
     "execution_count": 23
    }
   ],
   "source": [
    "mask = (X.Date==myday)&(X.Country !='Весь мир')\n",
    "#mask = (X.Date==myday)\n",
    "#Делаем выборку по доле регина в общих случаях выявления заболеваний по России\n",
    "df=X[mask].sort_values(by=['Rate_ill'],ascending = False)\n",
    "#Далее заменяем все имена если регион набрал менее 1% в общих случаях по России\n",
    "df2 = X[mask].reset_index(drop=True)\n",
    "print(len(df2))\n",
    "\n",
    "for i in range(len(df2)):\n",
    "    if df2.loc[i,'Rate_ill']<1:\n",
    "        df2.loc[i,'Country']='Страны менее 1%'\n",
    "df.head(20)"
   ]
  },
  {
   "cell_type": "code",
   "execution_count": 24,
   "metadata": {},
   "outputs": [
    {
     "output_type": "display_data",
     "data": {
      "application/vnd.plotly.v1+json": {
       "config": {
        "plotlyServerURL": "https://plot.ly"
       },
       "data": [
        {
         "domain": {
          "x": [
           0,
           1
          ],
          "y": [
           0,
           1
          ]
         },
         "hovertemplate": "Country=%{label}<br>Remaining_ill=%{value}<extra></extra>",
         "labels": [
          "Страны менее 1%",
          "Страны менее 1%",
          "Страны менее 1%",
          "Страны менее 1%",
          "Страны менее 1%",
          "Страны менее 1%",
          "Страны менее 1%",
          "Страны менее 1%",
          "Аргентина",
          "Страны менее 1%",
          "Страны менее 1%",
          "Страны менее 1%",
          "Бангладеш",
          "Страны менее 1%",
          "Страны менее 1%",
          "Страны менее 1%",
          "Страны менее 1%",
          "Страны менее 1%",
          "Страны менее 1%",
          "Страны менее 1%",
          "Страны менее 1%",
          "Страны менее 1%",
          "Страны менее 1%",
          "Бразилия",
          "Страны менее 1%",
          "Страны менее 1%",
          "Страны менее 1%",
          "Страны менее 1%",
          "Великобритания",
          "Страны менее 1%",
          "Страны менее 1%",
          "Страны менее 1%",
          "Страны менее 1%",
          "Страны менее 1%",
          "Страны менее 1%",
          "Страны менее 1%",
          "Страны менее 1%",
          "Страны менее 1%",
          "Страны менее 1%",
          "Страны менее 1%",
          "Страны менее 1%",
          "Страны менее 1%",
          "Страны менее 1%",
          "Страны менее 1%",
          "Страны менее 1%",
          "Страны менее 1%",
          "Страны менее 1%",
          "Страны менее 1%",
          "Страны менее 1%",
          "Страны менее 1%",
          "Страны менее 1%",
          "Страны менее 1%",
          "Страны менее 1%",
          "Страны менее 1%",
          "Страны менее 1%",
          "Страны менее 1%",
          "Страны менее 1%",
          "Индия",
          "Страны менее 1%",
          "Страны менее 1%",
          "Страны менее 1%",
          "Страны менее 1%",
          "Страны менее 1%",
          "Страны менее 1%",
          "Испания",
          "Страны менее 1%",
          "Страны менее 1%",
          "Страны менее 1%",
          "Страны менее 1%",
          "Страны менее 1%",
          "Страны менее 1%",
          "Страны менее 1%",
          "Страны менее 1%",
          "Страны менее 1%",
          "Страны менее 1%",
          "Страны менее 1%",
          "Страны менее 1%",
          "Колумбия",
          "Страны менее 1%",
          "Страны менее 1%",
          "Страны менее 1%",
          "Страны менее 1%",
          "Страны менее 1%",
          "Страны менее 1%",
          "Страны менее 1%",
          "Страны менее 1%",
          "Страны менее 1%",
          "Страны менее 1%",
          "Страны менее 1%",
          "Страны менее 1%",
          "Страны менее 1%",
          "Страны менее 1%",
          "Страны менее 1%",
          "Страны менее 1%",
          "Страны менее 1%",
          "Страны менее 1%",
          "Страны менее 1%",
          "Страны менее 1%",
          "Страны менее 1%",
          "Страны менее 1%",
          "Страны менее 1%",
          "Страны менее 1%",
          "Страны менее 1%",
          "Страны менее 1%",
          "Страны менее 1%",
          "Страны менее 1%",
          "Страны менее 1%",
          "Страны менее 1%",
          "Страны менее 1%",
          "Страны менее 1%",
          "Страны менее 1%",
          "Страны менее 1%",
          "Страны менее 1%",
          "Страны менее 1%",
          "Страны менее 1%",
          "Страны менее 1%",
          "Страны менее 1%",
          "Страны менее 1%",
          "Страны менее 1%",
          "Страны менее 1%",
          "Страны менее 1%",
          "Страны менее 1%",
          "Страны менее 1%",
          "Перу",
          "Страны менее 1%",
          "Страны менее 1%",
          "Страны менее 1%",
          "Россия",
          "Страны менее 1%",
          "Страны менее 1%",
          "США",
          "Страны менее 1%",
          "Страны менее 1%",
          "Страны менее 1%",
          "Страны менее 1%",
          "Страны менее 1%",
          "Страны менее 1%",
          "Страны менее 1%",
          "Страны менее 1%",
          "Страны менее 1%",
          "Страны менее 1%",
          "Страны менее 1%",
          "Страны менее 1%",
          "Страны менее 1%",
          "Страны менее 1%",
          "Страны менее 1%",
          "Страны менее 1%",
          "Страны менее 1%",
          "Страны менее 1%",
          "Страны менее 1%",
          "Страны менее 1%",
          "Страны менее 1%",
          "Страны менее 1%",
          "Страны менее 1%",
          "Страны менее 1%",
          "Страны менее 1%",
          "Страны менее 1%",
          "Страны менее 1%",
          "Страны менее 1%",
          "Страны менее 1%",
          "Страны менее 1%",
          "Страны менее 1%",
          "Страны менее 1%",
          "Страны менее 1%",
          "Филиппины",
          "Страны менее 1%",
          "Франция",
          "Страны менее 1%",
          "Страны менее 1%",
          "Страны менее 1%",
          "Страны менее 1%",
          "Страны менее 1%",
          "Страны менее 1%",
          "Страны менее 1%",
          "Швеция",
          "Страны менее 1%",
          "Страны менее 1%",
          "Страны менее 1%",
          "Страны менее 1%",
          "Страны менее 1%",
          "Страны менее 1%",
          "Страны менее 1%",
          "ЮАР",
          "Страны менее 1%",
          "Страны менее 1%",
          "Страны менее 1%",
          "Страны менее 1%"
         ],
         "legendgroup": "",
         "name": "",
         "showlegend": true,
         "textinfo": "percent+label",
         "type": "pie",
         "values": [
          9366,
          1523,
          2146,
          3142,
          9842,
          1158,
          70,
          13,
          78276,
          6317,
          9347,
          936,
          110687,
          19,
          3379,
          2426,
          262,
          48362,
          295,
          4932,
          58855,
          5570,
          1091,
          598313,
          1,
          177,
          94,
          28,
          267330,
          645,
          8725,
          1,
          465,
          2106,
          2466,
          407,
          1246,
          2007,
          9683,
          1028,
          1044,
          13410,
          40468,
          1,
          4813,
          198,
          875,
          1599,
          132,
          0,
          33795,
          34111,
          1016,
          1,
          6199,
          2935,
          24425,
          661595,
          39290,
          87,
          41428,
          25104,
          1791,
          114,
          158353,
          14081,
          370,
          808,
          23823,
          48,
          2587,
          4857,
          3134,
          13194,
          415,
          6294,
          1664,
          169166,
          13,
          4019,
          17445,
          3260,
          560,
          7898,
          1,
          197,
          588,
          432,
          5123,
          6099,
          560,
          2,
          832,
          0,
          653,
          1580,
          2209,
          183,
          493,
          2553,
          528,
          10664,
          43875,
          1604,
          7933,
          26,
          28,
          42,
          2669,
          8025,
          17,
          12841,
          55966,
          1074,
          49,
          737,
          5759,
          4702,
          16475,
          24514,
          0,
          190,
          2776,
          134904,
          14682,
          12601,
          2060,
          175475,
          634,
          32224,
          3307096,
          11155,
          0,
          60,
          30823,
          3163,
          1,
          3924,
          2,
          0,
          0,
          28337,
          4734,
          982,
          769,
          243,
          1406,
          5018,
          48,
          7,
          891,
          375,
          1146,
          132,
          305,
          287,
          257,
          492,
          11666,
          201,
          5894,
          38435,
          192,
          7,
          74713,
          300,
          130092,
          811,
          2863,
          13,
          1104,
          5436,
          16604,
          2712,
          78076,
          225,
          13376,
          2556,
          37,
          1543,
          136,
          14297,
          123978,
          705,
          1256,
          303,
          15207
         ]
        }
       ],
       "layout": {
        "height": 1100,
        "legend": {
         "tracegroupgap": 0
        },
        "margin": {
         "b": 0,
         "t": 120
        },
        "piecolorway": [
         "rgb(150,0,90)",
         "rgb(0,0,200)",
         "rgb(0,25,255)",
         "rgb(0,152,255)",
         "rgb(44,255,150)",
         "rgb(151,255,0)",
         "rgb(255,234,0)",
         "rgb(255,111,0)",
         "rgb(255,0,0)"
        ],
        "template": {
         "data": {
          "bar": [
           {
            "error_x": {
             "color": "#2a3f5f"
            },
            "error_y": {
             "color": "#2a3f5f"
            },
            "marker": {
             "line": {
              "color": "#E5ECF6",
              "width": 0.5
             }
            },
            "type": "bar"
           }
          ],
          "barpolar": [
           {
            "marker": {
             "line": {
              "color": "#E5ECF6",
              "width": 0.5
             }
            },
            "type": "barpolar"
           }
          ],
          "carpet": [
           {
            "aaxis": {
             "endlinecolor": "#2a3f5f",
             "gridcolor": "white",
             "linecolor": "white",
             "minorgridcolor": "white",
             "startlinecolor": "#2a3f5f"
            },
            "baxis": {
             "endlinecolor": "#2a3f5f",
             "gridcolor": "white",
             "linecolor": "white",
             "minorgridcolor": "white",
             "startlinecolor": "#2a3f5f"
            },
            "type": "carpet"
           }
          ],
          "choropleth": [
           {
            "colorbar": {
             "outlinewidth": 0,
             "ticks": ""
            },
            "type": "choropleth"
           }
          ],
          "contour": [
           {
            "colorbar": {
             "outlinewidth": 0,
             "ticks": ""
            },
            "colorscale": [
             [
              0,
              "#0d0887"
             ],
             [
              0.1111111111111111,
              "#46039f"
             ],
             [
              0.2222222222222222,
              "#7201a8"
             ],
             [
              0.3333333333333333,
              "#9c179e"
             ],
             [
              0.4444444444444444,
              "#bd3786"
             ],
             [
              0.5555555555555556,
              "#d8576b"
             ],
             [
              0.6666666666666666,
              "#ed7953"
             ],
             [
              0.7777777777777778,
              "#fb9f3a"
             ],
             [
              0.8888888888888888,
              "#fdca26"
             ],
             [
              1,
              "#f0f921"
             ]
            ],
            "type": "contour"
           }
          ],
          "contourcarpet": [
           {
            "colorbar": {
             "outlinewidth": 0,
             "ticks": ""
            },
            "type": "contourcarpet"
           }
          ],
          "heatmap": [
           {
            "colorbar": {
             "outlinewidth": 0,
             "ticks": ""
            },
            "colorscale": [
             [
              0,
              "#0d0887"
             ],
             [
              0.1111111111111111,
              "#46039f"
             ],
             [
              0.2222222222222222,
              "#7201a8"
             ],
             [
              0.3333333333333333,
              "#9c179e"
             ],
             [
              0.4444444444444444,
              "#bd3786"
             ],
             [
              0.5555555555555556,
              "#d8576b"
             ],
             [
              0.6666666666666666,
              "#ed7953"
             ],
             [
              0.7777777777777778,
              "#fb9f3a"
             ],
             [
              0.8888888888888888,
              "#fdca26"
             ],
             [
              1,
              "#f0f921"
             ]
            ],
            "type": "heatmap"
           }
          ],
          "heatmapgl": [
           {
            "colorbar": {
             "outlinewidth": 0,
             "ticks": ""
            },
            "colorscale": [
             [
              0,
              "#0d0887"
             ],
             [
              0.1111111111111111,
              "#46039f"
             ],
             [
              0.2222222222222222,
              "#7201a8"
             ],
             [
              0.3333333333333333,
              "#9c179e"
             ],
             [
              0.4444444444444444,
              "#bd3786"
             ],
             [
              0.5555555555555556,
              "#d8576b"
             ],
             [
              0.6666666666666666,
              "#ed7953"
             ],
             [
              0.7777777777777778,
              "#fb9f3a"
             ],
             [
              0.8888888888888888,
              "#fdca26"
             ],
             [
              1,
              "#f0f921"
             ]
            ],
            "type": "heatmapgl"
           }
          ],
          "histogram": [
           {
            "marker": {
             "colorbar": {
              "outlinewidth": 0,
              "ticks": ""
             }
            },
            "type": "histogram"
           }
          ],
          "histogram2d": [
           {
            "colorbar": {
             "outlinewidth": 0,
             "ticks": ""
            },
            "colorscale": [
             [
              0,
              "#0d0887"
             ],
             [
              0.1111111111111111,
              "#46039f"
             ],
             [
              0.2222222222222222,
              "#7201a8"
             ],
             [
              0.3333333333333333,
              "#9c179e"
             ],
             [
              0.4444444444444444,
              "#bd3786"
             ],
             [
              0.5555555555555556,
              "#d8576b"
             ],
             [
              0.6666666666666666,
              "#ed7953"
             ],
             [
              0.7777777777777778,
              "#fb9f3a"
             ],
             [
              0.8888888888888888,
              "#fdca26"
             ],
             [
              1,
              "#f0f921"
             ]
            ],
            "type": "histogram2d"
           }
          ],
          "histogram2dcontour": [
           {
            "colorbar": {
             "outlinewidth": 0,
             "ticks": ""
            },
            "colorscale": [
             [
              0,
              "#0d0887"
             ],
             [
              0.1111111111111111,
              "#46039f"
             ],
             [
              0.2222222222222222,
              "#7201a8"
             ],
             [
              0.3333333333333333,
              "#9c179e"
             ],
             [
              0.4444444444444444,
              "#bd3786"
             ],
             [
              0.5555555555555556,
              "#d8576b"
             ],
             [
              0.6666666666666666,
              "#ed7953"
             ],
             [
              0.7777777777777778,
              "#fb9f3a"
             ],
             [
              0.8888888888888888,
              "#fdca26"
             ],
             [
              1,
              "#f0f921"
             ]
            ],
            "type": "histogram2dcontour"
           }
          ],
          "mesh3d": [
           {
            "colorbar": {
             "outlinewidth": 0,
             "ticks": ""
            },
            "type": "mesh3d"
           }
          ],
          "parcoords": [
           {
            "line": {
             "colorbar": {
              "outlinewidth": 0,
              "ticks": ""
             }
            },
            "type": "parcoords"
           }
          ],
          "pie": [
           {
            "automargin": true,
            "type": "pie"
           }
          ],
          "scatter": [
           {
            "marker": {
             "colorbar": {
              "outlinewidth": 0,
              "ticks": ""
             }
            },
            "type": "scatter"
           }
          ],
          "scatter3d": [
           {
            "line": {
             "colorbar": {
              "outlinewidth": 0,
              "ticks": ""
             }
            },
            "marker": {
             "colorbar": {
              "outlinewidth": 0,
              "ticks": ""
             }
            },
            "type": "scatter3d"
           }
          ],
          "scattercarpet": [
           {
            "marker": {
             "colorbar": {
              "outlinewidth": 0,
              "ticks": ""
             }
            },
            "type": "scattercarpet"
           }
          ],
          "scattergeo": [
           {
            "marker": {
             "colorbar": {
              "outlinewidth": 0,
              "ticks": ""
             }
            },
            "type": "scattergeo"
           }
          ],
          "scattergl": [
           {
            "marker": {
             "colorbar": {
              "outlinewidth": 0,
              "ticks": ""
             }
            },
            "type": "scattergl"
           }
          ],
          "scattermapbox": [
           {
            "marker": {
             "colorbar": {
              "outlinewidth": 0,
              "ticks": ""
             }
            },
            "type": "scattermapbox"
           }
          ],
          "scatterpolar": [
           {
            "marker": {
             "colorbar": {
              "outlinewidth": 0,
              "ticks": ""
             }
            },
            "type": "scatterpolar"
           }
          ],
          "scatterpolargl": [
           {
            "marker": {
             "colorbar": {
              "outlinewidth": 0,
              "ticks": ""
             }
            },
            "type": "scatterpolargl"
           }
          ],
          "scatterternary": [
           {
            "marker": {
             "colorbar": {
              "outlinewidth": 0,
              "ticks": ""
             }
            },
            "type": "scatterternary"
           }
          ],
          "surface": [
           {
            "colorbar": {
             "outlinewidth": 0,
             "ticks": ""
            },
            "colorscale": [
             [
              0,
              "#0d0887"
             ],
             [
              0.1111111111111111,
              "#46039f"
             ],
             [
              0.2222222222222222,
              "#7201a8"
             ],
             [
              0.3333333333333333,
              "#9c179e"
             ],
             [
              0.4444444444444444,
              "#bd3786"
             ],
             [
              0.5555555555555556,
              "#d8576b"
             ],
             [
              0.6666666666666666,
              "#ed7953"
             ],
             [
              0.7777777777777778,
              "#fb9f3a"
             ],
             [
              0.8888888888888888,
              "#fdca26"
             ],
             [
              1,
              "#f0f921"
             ]
            ],
            "type": "surface"
           }
          ],
          "table": [
           {
            "cells": {
             "fill": {
              "color": "#EBF0F8"
             },
             "line": {
              "color": "white"
             }
            },
            "header": {
             "fill": {
              "color": "#C8D4E3"
             },
             "line": {
              "color": "white"
             }
            },
            "type": "table"
           }
          ]
         },
         "layout": {
          "annotationdefaults": {
           "arrowcolor": "#2a3f5f",
           "arrowhead": 0,
           "arrowwidth": 1
          },
          "coloraxis": {
           "colorbar": {
            "outlinewidth": 0,
            "ticks": ""
           }
          },
          "colorscale": {
           "diverging": [
            [
             0,
             "#8e0152"
            ],
            [
             0.1,
             "#c51b7d"
            ],
            [
             0.2,
             "#de77ae"
            ],
            [
             0.3,
             "#f1b6da"
            ],
            [
             0.4,
             "#fde0ef"
            ],
            [
             0.5,
             "#f7f7f7"
            ],
            [
             0.6,
             "#e6f5d0"
            ],
            [
             0.7,
             "#b8e186"
            ],
            [
             0.8,
             "#7fbc41"
            ],
            [
             0.9,
             "#4d9221"
            ],
            [
             1,
             "#276419"
            ]
           ],
           "sequential": [
            [
             0,
             "#0d0887"
            ],
            [
             0.1111111111111111,
             "#46039f"
            ],
            [
             0.2222222222222222,
             "#7201a8"
            ],
            [
             0.3333333333333333,
             "#9c179e"
            ],
            [
             0.4444444444444444,
             "#bd3786"
            ],
            [
             0.5555555555555556,
             "#d8576b"
            ],
            [
             0.6666666666666666,
             "#ed7953"
            ],
            [
             0.7777777777777778,
             "#fb9f3a"
            ],
            [
             0.8888888888888888,
             "#fdca26"
            ],
            [
             1,
             "#f0f921"
            ]
           ],
           "sequentialminus": [
            [
             0,
             "#0d0887"
            ],
            [
             0.1111111111111111,
             "#46039f"
            ],
            [
             0.2222222222222222,
             "#7201a8"
            ],
            [
             0.3333333333333333,
             "#9c179e"
            ],
            [
             0.4444444444444444,
             "#bd3786"
            ],
            [
             0.5555555555555556,
             "#d8576b"
            ],
            [
             0.6666666666666666,
             "#ed7953"
            ],
            [
             0.7777777777777778,
             "#fb9f3a"
            ],
            [
             0.8888888888888888,
             "#fdca26"
            ],
            [
             1,
             "#f0f921"
            ]
           ]
          },
          "colorway": [
           "#636efa",
           "#EF553B",
           "#00cc96",
           "#ab63fa",
           "#FFA15A",
           "#19d3f3",
           "#FF6692",
           "#B6E880",
           "#FF97FF",
           "#FECB52"
          ],
          "font": {
           "color": "#2a3f5f"
          },
          "geo": {
           "bgcolor": "white",
           "lakecolor": "white",
           "landcolor": "#E5ECF6",
           "showlakes": true,
           "showland": true,
           "subunitcolor": "white"
          },
          "hoverlabel": {
           "align": "left"
          },
          "hovermode": "closest",
          "mapbox": {
           "style": "light"
          },
          "paper_bgcolor": "white",
          "plot_bgcolor": "#E5ECF6",
          "polar": {
           "angularaxis": {
            "gridcolor": "white",
            "linecolor": "white",
            "ticks": ""
           },
           "bgcolor": "#E5ECF6",
           "radialaxis": {
            "gridcolor": "white",
            "linecolor": "white",
            "ticks": ""
           }
          },
          "scene": {
           "xaxis": {
            "backgroundcolor": "#E5ECF6",
            "gridcolor": "white",
            "gridwidth": 2,
            "linecolor": "white",
            "showbackground": true,
            "ticks": "",
            "zerolinecolor": "white"
           },
           "yaxis": {
            "backgroundcolor": "#E5ECF6",
            "gridcolor": "white",
            "gridwidth": 2,
            "linecolor": "white",
            "showbackground": true,
            "ticks": "",
            "zerolinecolor": "white"
           },
           "zaxis": {
            "backgroundcolor": "#E5ECF6",
            "gridcolor": "white",
            "gridwidth": 2,
            "linecolor": "white",
            "showbackground": true,
            "ticks": "",
            "zerolinecolor": "white"
           }
          },
          "shapedefaults": {
           "line": {
            "color": "#2a3f5f"
           }
          },
          "ternary": {
           "aaxis": {
            "gridcolor": "white",
            "linecolor": "white",
            "ticks": ""
           },
           "baxis": {
            "gridcolor": "white",
            "linecolor": "white",
            "ticks": ""
           },
           "bgcolor": "#E5ECF6",
           "caxis": {
            "gridcolor": "white",
            "linecolor": "white",
            "ticks": ""
           }
          },
          "title": {
           "x": 0.05
          },
          "xaxis": {
           "automargin": true,
           "gridcolor": "white",
           "linecolor": "white",
           "ticks": "",
           "title": {
            "standoff": 15
           },
           "zerolinecolor": "white",
           "zerolinewidth": 2
          },
          "yaxis": {
           "automargin": true,
           "gridcolor": "white",
           "linecolor": "white",
           "ticks": "",
           "title": {
            "standoff": 15
           },
           "zerolinecolor": "white",
           "zerolinewidth": 2
          }
         }
        },
        "title": {
         "text": "Всего текущих больных COVID-19 в мире: 7158126<br>(на дату: 2020-08-13)",
         "x": 0.5,
         "xanchor": "center",
         "y": 0.9,
         "yanchor": "bottom"
        },
        "width": 990
       }
      }
     },
     "metadata": {}
    }
   ],
   "source": [
    "\n",
    "\n",
    "fig = px.pie(df2, values='Remaining_ill', names='Country',color_discrete_sequence=px.colors.sequential.Rainbow,\n",
    "            title=f'Всего текущих больных COVID-19 в мире: {df2.Remaining_ill.sum()}<br>'+\n",
    "            f'(на дату: {myday})'\n",
    "             ,\n",
    "            width = 990, height=1100)\n",
    "\n",
    "fig.update_traces(textinfo='percent+label')\n",
    "fig.update_layout(\n",
    "        \n",
    "                #  title=f'{my_region}: динамика текущих больных COVID-19 по дням<br>(изменение относительно предыдущего дня)',\n",
    "                  margin = {'t':120, 'b':0},\n",
    "                  title_x = 0.5,\n",
    "                  title_y= 0.9,\n",
    "                  title_xanchor = \"center\",\n",
    "                  title_yanchor = \"bottom\", \n",
    "                 # legend_x = 0.05,legend_y = 0.98,\n",
    "                     \n",
    ")\n",
    "\n",
    "fig.show()\n"
   ]
  },
  {
   "cell_type": "code",
   "execution_count": 25,
   "metadata": {
    "tags": []
   },
   "outputs": [
    {
     "output_type": "stream",
     "name": "stdout",
     "text": "24 Бразилия\n29 Великобритания\n59 Индия\n129 Россия\n132 США\n"
    }
   ],
   "source": [
    "covid_rates = pd.DataFrame()\n",
    "mask = (X.Date>=datetime.date(2020,8,2))&(X.Date<=datetime.date(2020,8,9))&(X.Country.isin(country_towatch))&(X.Country!='Весь мир')\n",
    "                                      \n",
    "box_cases1 = X[mask].groupby(['Country','Date'])['Day_confirmed'].sum()\n",
    "box_cases2 = X[mask].groupby(['Country','Date'])['Day_recovered'].sum()\n",
    "for i in country_dict.keys():\n",
    "    if country_dict.get(i) in country_towatch:\n",
    "        print(i,country_dict.get(i))"
   ]
  },
  {
   "cell_type": "code",
   "execution_count": 26,
   "metadata": {},
   "outputs": [
    {
     "output_type": "execute_result",
     "data": {
      "text/plain": "Country     Бразилия  Великобритания  Индия  Россия    США\nDate                                                      \n2020-08-02     25800             747  52972    5387  47580\n2020-08-03     16641             942  52050    5364  45368\n2020-08-04     51603             675  52509    5121  57540\n2020-08-05     57152             906  56282    5186  52810\n2020-08-06     53139             964  62538    5239  59692\n2020-08-07     50230             900  61537    5191  58173\n2020-08-08     49970             765  64399    5185  56174\n2020-08-09     23010            1113  62064    5155  46935",
      "text/html": "<div>\n<style scoped>\n    .dataframe tbody tr th:only-of-type {\n        vertical-align: middle;\n    }\n\n    .dataframe tbody tr th {\n        vertical-align: top;\n    }\n\n    .dataframe thead th {\n        text-align: right;\n    }\n</style>\n<table border=\"1\" class=\"dataframe\">\n  <thead>\n    <tr style=\"text-align: right;\">\n      <th>Country</th>\n      <th>Бразилия</th>\n      <th>Великобритания</th>\n      <th>Индия</th>\n      <th>Россия</th>\n      <th>США</th>\n    </tr>\n    <tr>\n      <th>Date</th>\n      <th></th>\n      <th></th>\n      <th></th>\n      <th></th>\n      <th></th>\n    </tr>\n  </thead>\n  <tbody>\n    <tr>\n      <th>2020-08-02</th>\n      <td>25800</td>\n      <td>747</td>\n      <td>52972</td>\n      <td>5387</td>\n      <td>47580</td>\n    </tr>\n    <tr>\n      <th>2020-08-03</th>\n      <td>16641</td>\n      <td>942</td>\n      <td>52050</td>\n      <td>5364</td>\n      <td>45368</td>\n    </tr>\n    <tr>\n      <th>2020-08-04</th>\n      <td>51603</td>\n      <td>675</td>\n      <td>52509</td>\n      <td>5121</td>\n      <td>57540</td>\n    </tr>\n    <tr>\n      <th>2020-08-05</th>\n      <td>57152</td>\n      <td>906</td>\n      <td>56282</td>\n      <td>5186</td>\n      <td>52810</td>\n    </tr>\n    <tr>\n      <th>2020-08-06</th>\n      <td>53139</td>\n      <td>964</td>\n      <td>62538</td>\n      <td>5239</td>\n      <td>59692</td>\n    </tr>\n    <tr>\n      <th>2020-08-07</th>\n      <td>50230</td>\n      <td>900</td>\n      <td>61537</td>\n      <td>5191</td>\n      <td>58173</td>\n    </tr>\n    <tr>\n      <th>2020-08-08</th>\n      <td>49970</td>\n      <td>765</td>\n      <td>64399</td>\n      <td>5185</td>\n      <td>56174</td>\n    </tr>\n    <tr>\n      <th>2020-08-09</th>\n      <td>23010</td>\n      <td>1113</td>\n      <td>62064</td>\n      <td>5155</td>\n      <td>46935</td>\n    </tr>\n  </tbody>\n</table>\n</div>"
     },
     "metadata": {},
     "execution_count": 26
    }
   ],
   "source": [
    "new_df1=box_cases1.unstack().T\n",
    "new_df1.tail(20)"
   ]
  },
  {
   "cell_type": "code",
   "execution_count": 27,
   "metadata": {},
   "outputs": [
    {
     "output_type": "display_data",
     "data": {
      "application/vnd.plotly.v1+json": {
       "config": {
        "plotlyServerURL": "https://plot.ly"
       },
       "data": [
        {
         "boxmean": true,
         "marker": {
          "color": "magenta"
         },
         "name": "Бразилия",
         "type": "box",
         "x": [
          25800,
          16641,
          51603,
          57152,
          53139,
          50230,
          49970,
          23010
         ]
        },
        {
         "boxmean": true,
         "marker": {
          "color": "darkblue"
         },
         "name": "Великобритания",
         "type": "box",
         "x": [
          747,
          942,
          675,
          906,
          964,
          900,
          765,
          1113
         ]
        },
        {
         "boxmean": true,
         "marker": {
          "color": "goldenrod"
         },
         "name": "Индия",
         "type": "box",
         "x": [
          52972,
          52050,
          52509,
          56282,
          62538,
          61537,
          64399,
          62064
         ]
        },
        {
         "boxmean": true,
         "marker": {
          "color": "green"
         },
         "name": "Россия",
         "type": "box",
         "x": [
          5387,
          5364,
          5121,
          5186,
          5239,
          5191,
          5185,
          5155
         ]
        },
        {
         "boxmean": true,
         "marker": {
          "color": "red"
         },
         "name": "США",
         "type": "box",
         "x": [
          47580,
          45368,
          57540,
          52810,
          59692,
          58173,
          56174,
          46935
         ]
        }
       ],
       "layout": {
        "height": 600,
        "template": {
         "data": {
          "bar": [
           {
            "error_x": {
             "color": "#2a3f5f"
            },
            "error_y": {
             "color": "#2a3f5f"
            },
            "marker": {
             "line": {
              "color": "#E5ECF6",
              "width": 0.5
             }
            },
            "type": "bar"
           }
          ],
          "barpolar": [
           {
            "marker": {
             "line": {
              "color": "#E5ECF6",
              "width": 0.5
             }
            },
            "type": "barpolar"
           }
          ],
          "carpet": [
           {
            "aaxis": {
             "endlinecolor": "#2a3f5f",
             "gridcolor": "white",
             "linecolor": "white",
             "minorgridcolor": "white",
             "startlinecolor": "#2a3f5f"
            },
            "baxis": {
             "endlinecolor": "#2a3f5f",
             "gridcolor": "white",
             "linecolor": "white",
             "minorgridcolor": "white",
             "startlinecolor": "#2a3f5f"
            },
            "type": "carpet"
           }
          ],
          "choropleth": [
           {
            "colorbar": {
             "outlinewidth": 0,
             "ticks": ""
            },
            "type": "choropleth"
           }
          ],
          "contour": [
           {
            "colorbar": {
             "outlinewidth": 0,
             "ticks": ""
            },
            "colorscale": [
             [
              0,
              "#0d0887"
             ],
             [
              0.1111111111111111,
              "#46039f"
             ],
             [
              0.2222222222222222,
              "#7201a8"
             ],
             [
              0.3333333333333333,
              "#9c179e"
             ],
             [
              0.4444444444444444,
              "#bd3786"
             ],
             [
              0.5555555555555556,
              "#d8576b"
             ],
             [
              0.6666666666666666,
              "#ed7953"
             ],
             [
              0.7777777777777778,
              "#fb9f3a"
             ],
             [
              0.8888888888888888,
              "#fdca26"
             ],
             [
              1,
              "#f0f921"
             ]
            ],
            "type": "contour"
           }
          ],
          "contourcarpet": [
           {
            "colorbar": {
             "outlinewidth": 0,
             "ticks": ""
            },
            "type": "contourcarpet"
           }
          ],
          "heatmap": [
           {
            "colorbar": {
             "outlinewidth": 0,
             "ticks": ""
            },
            "colorscale": [
             [
              0,
              "#0d0887"
             ],
             [
              0.1111111111111111,
              "#46039f"
             ],
             [
              0.2222222222222222,
              "#7201a8"
             ],
             [
              0.3333333333333333,
              "#9c179e"
             ],
             [
              0.4444444444444444,
              "#bd3786"
             ],
             [
              0.5555555555555556,
              "#d8576b"
             ],
             [
              0.6666666666666666,
              "#ed7953"
             ],
             [
              0.7777777777777778,
              "#fb9f3a"
             ],
             [
              0.8888888888888888,
              "#fdca26"
             ],
             [
              1,
              "#f0f921"
             ]
            ],
            "type": "heatmap"
           }
          ],
          "heatmapgl": [
           {
            "colorbar": {
             "outlinewidth": 0,
             "ticks": ""
            },
            "colorscale": [
             [
              0,
              "#0d0887"
             ],
             [
              0.1111111111111111,
              "#46039f"
             ],
             [
              0.2222222222222222,
              "#7201a8"
             ],
             [
              0.3333333333333333,
              "#9c179e"
             ],
             [
              0.4444444444444444,
              "#bd3786"
             ],
             [
              0.5555555555555556,
              "#d8576b"
             ],
             [
              0.6666666666666666,
              "#ed7953"
             ],
             [
              0.7777777777777778,
              "#fb9f3a"
             ],
             [
              0.8888888888888888,
              "#fdca26"
             ],
             [
              1,
              "#f0f921"
             ]
            ],
            "type": "heatmapgl"
           }
          ],
          "histogram": [
           {
            "marker": {
             "colorbar": {
              "outlinewidth": 0,
              "ticks": ""
             }
            },
            "type": "histogram"
           }
          ],
          "histogram2d": [
           {
            "colorbar": {
             "outlinewidth": 0,
             "ticks": ""
            },
            "colorscale": [
             [
              0,
              "#0d0887"
             ],
             [
              0.1111111111111111,
              "#46039f"
             ],
             [
              0.2222222222222222,
              "#7201a8"
             ],
             [
              0.3333333333333333,
              "#9c179e"
             ],
             [
              0.4444444444444444,
              "#bd3786"
             ],
             [
              0.5555555555555556,
              "#d8576b"
             ],
             [
              0.6666666666666666,
              "#ed7953"
             ],
             [
              0.7777777777777778,
              "#fb9f3a"
             ],
             [
              0.8888888888888888,
              "#fdca26"
             ],
             [
              1,
              "#f0f921"
             ]
            ],
            "type": "histogram2d"
           }
          ],
          "histogram2dcontour": [
           {
            "colorbar": {
             "outlinewidth": 0,
             "ticks": ""
            },
            "colorscale": [
             [
              0,
              "#0d0887"
             ],
             [
              0.1111111111111111,
              "#46039f"
             ],
             [
              0.2222222222222222,
              "#7201a8"
             ],
             [
              0.3333333333333333,
              "#9c179e"
             ],
             [
              0.4444444444444444,
              "#bd3786"
             ],
             [
              0.5555555555555556,
              "#d8576b"
             ],
             [
              0.6666666666666666,
              "#ed7953"
             ],
             [
              0.7777777777777778,
              "#fb9f3a"
             ],
             [
              0.8888888888888888,
              "#fdca26"
             ],
             [
              1,
              "#f0f921"
             ]
            ],
            "type": "histogram2dcontour"
           }
          ],
          "mesh3d": [
           {
            "colorbar": {
             "outlinewidth": 0,
             "ticks": ""
            },
            "type": "mesh3d"
           }
          ],
          "parcoords": [
           {
            "line": {
             "colorbar": {
              "outlinewidth": 0,
              "ticks": ""
             }
            },
            "type": "parcoords"
           }
          ],
          "pie": [
           {
            "automargin": true,
            "type": "pie"
           }
          ],
          "scatter": [
           {
            "marker": {
             "colorbar": {
              "outlinewidth": 0,
              "ticks": ""
             }
            },
            "type": "scatter"
           }
          ],
          "scatter3d": [
           {
            "line": {
             "colorbar": {
              "outlinewidth": 0,
              "ticks": ""
             }
            },
            "marker": {
             "colorbar": {
              "outlinewidth": 0,
              "ticks": ""
             }
            },
            "type": "scatter3d"
           }
          ],
          "scattercarpet": [
           {
            "marker": {
             "colorbar": {
              "outlinewidth": 0,
              "ticks": ""
             }
            },
            "type": "scattercarpet"
           }
          ],
          "scattergeo": [
           {
            "marker": {
             "colorbar": {
              "outlinewidth": 0,
              "ticks": ""
             }
            },
            "type": "scattergeo"
           }
          ],
          "scattergl": [
           {
            "marker": {
             "colorbar": {
              "outlinewidth": 0,
              "ticks": ""
             }
            },
            "type": "scattergl"
           }
          ],
          "scattermapbox": [
           {
            "marker": {
             "colorbar": {
              "outlinewidth": 0,
              "ticks": ""
             }
            },
            "type": "scattermapbox"
           }
          ],
          "scatterpolar": [
           {
            "marker": {
             "colorbar": {
              "outlinewidth": 0,
              "ticks": ""
             }
            },
            "type": "scatterpolar"
           }
          ],
          "scatterpolargl": [
           {
            "marker": {
             "colorbar": {
              "outlinewidth": 0,
              "ticks": ""
             }
            },
            "type": "scatterpolargl"
           }
          ],
          "scatterternary": [
           {
            "marker": {
             "colorbar": {
              "outlinewidth": 0,
              "ticks": ""
             }
            },
            "type": "scatterternary"
           }
          ],
          "surface": [
           {
            "colorbar": {
             "outlinewidth": 0,
             "ticks": ""
            },
            "colorscale": [
             [
              0,
              "#0d0887"
             ],
             [
              0.1111111111111111,
              "#46039f"
             ],
             [
              0.2222222222222222,
              "#7201a8"
             ],
             [
              0.3333333333333333,
              "#9c179e"
             ],
             [
              0.4444444444444444,
              "#bd3786"
             ],
             [
              0.5555555555555556,
              "#d8576b"
             ],
             [
              0.6666666666666666,
              "#ed7953"
             ],
             [
              0.7777777777777778,
              "#fb9f3a"
             ],
             [
              0.8888888888888888,
              "#fdca26"
             ],
             [
              1,
              "#f0f921"
             ]
            ],
            "type": "surface"
           }
          ],
          "table": [
           {
            "cells": {
             "fill": {
              "color": "#EBF0F8"
             },
             "line": {
              "color": "white"
             }
            },
            "header": {
             "fill": {
              "color": "#C8D4E3"
             },
             "line": {
              "color": "white"
             }
            },
            "type": "table"
           }
          ]
         },
         "layout": {
          "annotationdefaults": {
           "arrowcolor": "#2a3f5f",
           "arrowhead": 0,
           "arrowwidth": 1
          },
          "coloraxis": {
           "colorbar": {
            "outlinewidth": 0,
            "ticks": ""
           }
          },
          "colorscale": {
           "diverging": [
            [
             0,
             "#8e0152"
            ],
            [
             0.1,
             "#c51b7d"
            ],
            [
             0.2,
             "#de77ae"
            ],
            [
             0.3,
             "#f1b6da"
            ],
            [
             0.4,
             "#fde0ef"
            ],
            [
             0.5,
             "#f7f7f7"
            ],
            [
             0.6,
             "#e6f5d0"
            ],
            [
             0.7,
             "#b8e186"
            ],
            [
             0.8,
             "#7fbc41"
            ],
            [
             0.9,
             "#4d9221"
            ],
            [
             1,
             "#276419"
            ]
           ],
           "sequential": [
            [
             0,
             "#0d0887"
            ],
            [
             0.1111111111111111,
             "#46039f"
            ],
            [
             0.2222222222222222,
             "#7201a8"
            ],
            [
             0.3333333333333333,
             "#9c179e"
            ],
            [
             0.4444444444444444,
             "#bd3786"
            ],
            [
             0.5555555555555556,
             "#d8576b"
            ],
            [
             0.6666666666666666,
             "#ed7953"
            ],
            [
             0.7777777777777778,
             "#fb9f3a"
            ],
            [
             0.8888888888888888,
             "#fdca26"
            ],
            [
             1,
             "#f0f921"
            ]
           ],
           "sequentialminus": [
            [
             0,
             "#0d0887"
            ],
            [
             0.1111111111111111,
             "#46039f"
            ],
            [
             0.2222222222222222,
             "#7201a8"
            ],
            [
             0.3333333333333333,
             "#9c179e"
            ],
            [
             0.4444444444444444,
             "#bd3786"
            ],
            [
             0.5555555555555556,
             "#d8576b"
            ],
            [
             0.6666666666666666,
             "#ed7953"
            ],
            [
             0.7777777777777778,
             "#fb9f3a"
            ],
            [
             0.8888888888888888,
             "#fdca26"
            ],
            [
             1,
             "#f0f921"
            ]
           ]
          },
          "colorway": [
           "#636efa",
           "#EF553B",
           "#00cc96",
           "#ab63fa",
           "#FFA15A",
           "#19d3f3",
           "#FF6692",
           "#B6E880",
           "#FF97FF",
           "#FECB52"
          ],
          "font": {
           "color": "#2a3f5f"
          },
          "geo": {
           "bgcolor": "white",
           "lakecolor": "white",
           "landcolor": "#E5ECF6",
           "showlakes": true,
           "showland": true,
           "subunitcolor": "white"
          },
          "hoverlabel": {
           "align": "left"
          },
          "hovermode": "closest",
          "mapbox": {
           "style": "light"
          },
          "paper_bgcolor": "white",
          "plot_bgcolor": "#E5ECF6",
          "polar": {
           "angularaxis": {
            "gridcolor": "white",
            "linecolor": "white",
            "ticks": ""
           },
           "bgcolor": "#E5ECF6",
           "radialaxis": {
            "gridcolor": "white",
            "linecolor": "white",
            "ticks": ""
           }
          },
          "scene": {
           "xaxis": {
            "backgroundcolor": "#E5ECF6",
            "gridcolor": "white",
            "gridwidth": 2,
            "linecolor": "white",
            "showbackground": true,
            "ticks": "",
            "zerolinecolor": "white"
           },
           "yaxis": {
            "backgroundcolor": "#E5ECF6",
            "gridcolor": "white",
            "gridwidth": 2,
            "linecolor": "white",
            "showbackground": true,
            "ticks": "",
            "zerolinecolor": "white"
           },
           "zaxis": {
            "backgroundcolor": "#E5ECF6",
            "gridcolor": "white",
            "gridwidth": 2,
            "linecolor": "white",
            "showbackground": true,
            "ticks": "",
            "zerolinecolor": "white"
           }
          },
          "shapedefaults": {
           "line": {
            "color": "#2a3f5f"
           }
          },
          "ternary": {
           "aaxis": {
            "gridcolor": "white",
            "linecolor": "white",
            "ticks": ""
           },
           "baxis": {
            "gridcolor": "white",
            "linecolor": "white",
            "ticks": ""
           },
           "bgcolor": "#E5ECF6",
           "caxis": {
            "gridcolor": "white",
            "linecolor": "white",
            "ticks": ""
           }
          },
          "title": {
           "x": 0.05
          },
          "xaxis": {
           "automargin": true,
           "gridcolor": "white",
           "linecolor": "white",
           "ticks": "",
           "title": {
            "standoff": 15
           },
           "zerolinecolor": "white",
           "zerolinewidth": 2
          },
          "yaxis": {
           "automargin": true,
           "gridcolor": "white",
           "linecolor": "white",
           "ticks": "",
           "title": {
            "standoff": 15
           },
           "zerolinecolor": "white",
           "zerolinewidth": 2
          }
         }
        },
        "title": {
         "text": "Статистика по новым заболевшим за неделю",
         "x": 0.5,
         "xanchor": "center",
         "y": 0.9,
         "yanchor": "top"
        },
        "width": 990,
        "xaxis": {
         "title": {
          "text": "Новые заболевшие"
         }
        },
        "yaxis": {
         "title": {
          "text": "Страны"
         }
        }
       }
      }
     },
     "metadata": {}
    }
   ],
   "source": [
    "color_dict = {\n",
    "                \"США\": \"red\",\n",
    "                \"Бразилия\": \"magenta\",\n",
    "                \"Индия\": \"goldenrod\",\n",
    "                \"Великобритания\": \"darkblue\",\n",
    "                \"Россия\": \"green\",\n",
    "                 }\n",
    "\n",
    "cols = list(new_df1.columns)\n",
    "#cols = cols[:-1]\n",
    "\n",
    "fig = go.Figure()\n",
    "for i in cols:\n",
    "    fig.add_trace(\n",
    "    go.Box(x=new_df1[i],name = i,boxmean = True,marker_color = color_dict.get(i)))\n",
    "\n",
    "fig.update_layout(title_text=\"Статистика по новым заболевшим за неделю\",\n",
    "                  title_x = 0.5,\n",
    "                  title_y= 0.9,\n",
    "                  title_xanchor = \"center\",\n",
    "                  title_yanchor = \"top\",\n",
    "                  xaxis_title='Новые заболевшие', yaxis_title='Страны',width = 990, height = 600)\n",
    "fig.show()"
   ]
  },
  {
   "cell_type": "code",
   "execution_count": 28,
   "metadata": {},
   "outputs": [
    {
     "output_type": "execute_result",
     "data": {
      "text/plain": "Country     Бразилия  Великобритания  Индия  Россия    США\nDate                                                      \n2020-08-02     24894               3  40574    3645   6804\n2020-08-03     36100               1  44306    3411  44757\n2020-08-04     58508               0  51706    7863  15533\n2020-08-05     32877               1  46121    7534  48872\n2020-08-06     40181               1  49769    7300  20773\n2020-08-07     41757               0  48900    7209  25246\n2020-08-08     49238               2  53879    6578  19248\n2020-08-09     35446               2  54859    3203  13746",
      "text/html": "<div>\n<style scoped>\n    .dataframe tbody tr th:only-of-type {\n        vertical-align: middle;\n    }\n\n    .dataframe tbody tr th {\n        vertical-align: top;\n    }\n\n    .dataframe thead th {\n        text-align: right;\n    }\n</style>\n<table border=\"1\" class=\"dataframe\">\n  <thead>\n    <tr style=\"text-align: right;\">\n      <th>Country</th>\n      <th>Бразилия</th>\n      <th>Великобритания</th>\n      <th>Индия</th>\n      <th>Россия</th>\n      <th>США</th>\n    </tr>\n    <tr>\n      <th>Date</th>\n      <th></th>\n      <th></th>\n      <th></th>\n      <th></th>\n      <th></th>\n    </tr>\n  </thead>\n  <tbody>\n    <tr>\n      <th>2020-08-02</th>\n      <td>24894</td>\n      <td>3</td>\n      <td>40574</td>\n      <td>3645</td>\n      <td>6804</td>\n    </tr>\n    <tr>\n      <th>2020-08-03</th>\n      <td>36100</td>\n      <td>1</td>\n      <td>44306</td>\n      <td>3411</td>\n      <td>44757</td>\n    </tr>\n    <tr>\n      <th>2020-08-04</th>\n      <td>58508</td>\n      <td>0</td>\n      <td>51706</td>\n      <td>7863</td>\n      <td>15533</td>\n    </tr>\n    <tr>\n      <th>2020-08-05</th>\n      <td>32877</td>\n      <td>1</td>\n      <td>46121</td>\n      <td>7534</td>\n      <td>48872</td>\n    </tr>\n    <tr>\n      <th>2020-08-06</th>\n      <td>40181</td>\n      <td>1</td>\n      <td>49769</td>\n      <td>7300</td>\n      <td>20773</td>\n    </tr>\n    <tr>\n      <th>2020-08-07</th>\n      <td>41757</td>\n      <td>0</td>\n      <td>48900</td>\n      <td>7209</td>\n      <td>25246</td>\n    </tr>\n    <tr>\n      <th>2020-08-08</th>\n      <td>49238</td>\n      <td>2</td>\n      <td>53879</td>\n      <td>6578</td>\n      <td>19248</td>\n    </tr>\n    <tr>\n      <th>2020-08-09</th>\n      <td>35446</td>\n      <td>2</td>\n      <td>54859</td>\n      <td>3203</td>\n      <td>13746</td>\n    </tr>\n  </tbody>\n</table>\n</div>"
     },
     "metadata": {},
     "execution_count": 28
    }
   ],
   "source": [
    "new_df2=box_cases2.unstack().T\n",
    "new_df2.tail(20)"
   ]
  },
  {
   "cell_type": "code",
   "execution_count": 29,
   "metadata": {},
   "outputs": [
    {
     "output_type": "display_data",
     "data": {
      "application/vnd.plotly.v1+json": {
       "config": {
        "plotlyServerURL": "https://plot.ly"
       },
       "data": [
        {
         "boxmean": true,
         "marker": {
          "color": "magenta"
         },
         "name": "Бразилия",
         "type": "box",
         "x": [
          24894,
          36100,
          58508,
          32877,
          40181,
          41757,
          49238,
          35446
         ]
        },
        {
         "boxmean": true,
         "marker": {
          "color": "darkblue"
         },
         "name": "Великобритания",
         "type": "box",
         "x": [
          3,
          1,
          0,
          1,
          1,
          0,
          2,
          2
         ]
        },
        {
         "boxmean": true,
         "marker": {
          "color": "goldenrod"
         },
         "name": "Индия",
         "type": "box",
         "x": [
          40574,
          44306,
          51706,
          46121,
          49769,
          48900,
          53879,
          54859
         ]
        },
        {
         "boxmean": true,
         "marker": {
          "color": "green"
         },
         "name": "Россия",
         "type": "box",
         "x": [
          3645,
          3411,
          7863,
          7534,
          7300,
          7209,
          6578,
          3203
         ]
        },
        {
         "boxmean": true,
         "marker": {
          "color": "red"
         },
         "name": "США",
         "type": "box",
         "x": [
          6804,
          44757,
          15533,
          48872,
          20773,
          25246,
          19248,
          13746
         ]
        }
       ],
       "layout": {
        "height": 600,
        "template": {
         "data": {
          "bar": [
           {
            "error_x": {
             "color": "#2a3f5f"
            },
            "error_y": {
             "color": "#2a3f5f"
            },
            "marker": {
             "line": {
              "color": "#E5ECF6",
              "width": 0.5
             }
            },
            "type": "bar"
           }
          ],
          "barpolar": [
           {
            "marker": {
             "line": {
              "color": "#E5ECF6",
              "width": 0.5
             }
            },
            "type": "barpolar"
           }
          ],
          "carpet": [
           {
            "aaxis": {
             "endlinecolor": "#2a3f5f",
             "gridcolor": "white",
             "linecolor": "white",
             "minorgridcolor": "white",
             "startlinecolor": "#2a3f5f"
            },
            "baxis": {
             "endlinecolor": "#2a3f5f",
             "gridcolor": "white",
             "linecolor": "white",
             "minorgridcolor": "white",
             "startlinecolor": "#2a3f5f"
            },
            "type": "carpet"
           }
          ],
          "choropleth": [
           {
            "colorbar": {
             "outlinewidth": 0,
             "ticks": ""
            },
            "type": "choropleth"
           }
          ],
          "contour": [
           {
            "colorbar": {
             "outlinewidth": 0,
             "ticks": ""
            },
            "colorscale": [
             [
              0,
              "#0d0887"
             ],
             [
              0.1111111111111111,
              "#46039f"
             ],
             [
              0.2222222222222222,
              "#7201a8"
             ],
             [
              0.3333333333333333,
              "#9c179e"
             ],
             [
              0.4444444444444444,
              "#bd3786"
             ],
             [
              0.5555555555555556,
              "#d8576b"
             ],
             [
              0.6666666666666666,
              "#ed7953"
             ],
             [
              0.7777777777777778,
              "#fb9f3a"
             ],
             [
              0.8888888888888888,
              "#fdca26"
             ],
             [
              1,
              "#f0f921"
             ]
            ],
            "type": "contour"
           }
          ],
          "contourcarpet": [
           {
            "colorbar": {
             "outlinewidth": 0,
             "ticks": ""
            },
            "type": "contourcarpet"
           }
          ],
          "heatmap": [
           {
            "colorbar": {
             "outlinewidth": 0,
             "ticks": ""
            },
            "colorscale": [
             [
              0,
              "#0d0887"
             ],
             [
              0.1111111111111111,
              "#46039f"
             ],
             [
              0.2222222222222222,
              "#7201a8"
             ],
             [
              0.3333333333333333,
              "#9c179e"
             ],
             [
              0.4444444444444444,
              "#bd3786"
             ],
             [
              0.5555555555555556,
              "#d8576b"
             ],
             [
              0.6666666666666666,
              "#ed7953"
             ],
             [
              0.7777777777777778,
              "#fb9f3a"
             ],
             [
              0.8888888888888888,
              "#fdca26"
             ],
             [
              1,
              "#f0f921"
             ]
            ],
            "type": "heatmap"
           }
          ],
          "heatmapgl": [
           {
            "colorbar": {
             "outlinewidth": 0,
             "ticks": ""
            },
            "colorscale": [
             [
              0,
              "#0d0887"
             ],
             [
              0.1111111111111111,
              "#46039f"
             ],
             [
              0.2222222222222222,
              "#7201a8"
             ],
             [
              0.3333333333333333,
              "#9c179e"
             ],
             [
              0.4444444444444444,
              "#bd3786"
             ],
             [
              0.5555555555555556,
              "#d8576b"
             ],
             [
              0.6666666666666666,
              "#ed7953"
             ],
             [
              0.7777777777777778,
              "#fb9f3a"
             ],
             [
              0.8888888888888888,
              "#fdca26"
             ],
             [
              1,
              "#f0f921"
             ]
            ],
            "type": "heatmapgl"
           }
          ],
          "histogram": [
           {
            "marker": {
             "colorbar": {
              "outlinewidth": 0,
              "ticks": ""
             }
            },
            "type": "histogram"
           }
          ],
          "histogram2d": [
           {
            "colorbar": {
             "outlinewidth": 0,
             "ticks": ""
            },
            "colorscale": [
             [
              0,
              "#0d0887"
             ],
             [
              0.1111111111111111,
              "#46039f"
             ],
             [
              0.2222222222222222,
              "#7201a8"
             ],
             [
              0.3333333333333333,
              "#9c179e"
             ],
             [
              0.4444444444444444,
              "#bd3786"
             ],
             [
              0.5555555555555556,
              "#d8576b"
             ],
             [
              0.6666666666666666,
              "#ed7953"
             ],
             [
              0.7777777777777778,
              "#fb9f3a"
             ],
             [
              0.8888888888888888,
              "#fdca26"
             ],
             [
              1,
              "#f0f921"
             ]
            ],
            "type": "histogram2d"
           }
          ],
          "histogram2dcontour": [
           {
            "colorbar": {
             "outlinewidth": 0,
             "ticks": ""
            },
            "colorscale": [
             [
              0,
              "#0d0887"
             ],
             [
              0.1111111111111111,
              "#46039f"
             ],
             [
              0.2222222222222222,
              "#7201a8"
             ],
             [
              0.3333333333333333,
              "#9c179e"
             ],
             [
              0.4444444444444444,
              "#bd3786"
             ],
             [
              0.5555555555555556,
              "#d8576b"
             ],
             [
              0.6666666666666666,
              "#ed7953"
             ],
             [
              0.7777777777777778,
              "#fb9f3a"
             ],
             [
              0.8888888888888888,
              "#fdca26"
             ],
             [
              1,
              "#f0f921"
             ]
            ],
            "type": "histogram2dcontour"
           }
          ],
          "mesh3d": [
           {
            "colorbar": {
             "outlinewidth": 0,
             "ticks": ""
            },
            "type": "mesh3d"
           }
          ],
          "parcoords": [
           {
            "line": {
             "colorbar": {
              "outlinewidth": 0,
              "ticks": ""
             }
            },
            "type": "parcoords"
           }
          ],
          "pie": [
           {
            "automargin": true,
            "type": "pie"
           }
          ],
          "scatter": [
           {
            "marker": {
             "colorbar": {
              "outlinewidth": 0,
              "ticks": ""
             }
            },
            "type": "scatter"
           }
          ],
          "scatter3d": [
           {
            "line": {
             "colorbar": {
              "outlinewidth": 0,
              "ticks": ""
             }
            },
            "marker": {
             "colorbar": {
              "outlinewidth": 0,
              "ticks": ""
             }
            },
            "type": "scatter3d"
           }
          ],
          "scattercarpet": [
           {
            "marker": {
             "colorbar": {
              "outlinewidth": 0,
              "ticks": ""
             }
            },
            "type": "scattercarpet"
           }
          ],
          "scattergeo": [
           {
            "marker": {
             "colorbar": {
              "outlinewidth": 0,
              "ticks": ""
             }
            },
            "type": "scattergeo"
           }
          ],
          "scattergl": [
           {
            "marker": {
             "colorbar": {
              "outlinewidth": 0,
              "ticks": ""
             }
            },
            "type": "scattergl"
           }
          ],
          "scattermapbox": [
           {
            "marker": {
             "colorbar": {
              "outlinewidth": 0,
              "ticks": ""
             }
            },
            "type": "scattermapbox"
           }
          ],
          "scatterpolar": [
           {
            "marker": {
             "colorbar": {
              "outlinewidth": 0,
              "ticks": ""
             }
            },
            "type": "scatterpolar"
           }
          ],
          "scatterpolargl": [
           {
            "marker": {
             "colorbar": {
              "outlinewidth": 0,
              "ticks": ""
             }
            },
            "type": "scatterpolargl"
           }
          ],
          "scatterternary": [
           {
            "marker": {
             "colorbar": {
              "outlinewidth": 0,
              "ticks": ""
             }
            },
            "type": "scatterternary"
           }
          ],
          "surface": [
           {
            "colorbar": {
             "outlinewidth": 0,
             "ticks": ""
            },
            "colorscale": [
             [
              0,
              "#0d0887"
             ],
             [
              0.1111111111111111,
              "#46039f"
             ],
             [
              0.2222222222222222,
              "#7201a8"
             ],
             [
              0.3333333333333333,
              "#9c179e"
             ],
             [
              0.4444444444444444,
              "#bd3786"
             ],
             [
              0.5555555555555556,
              "#d8576b"
             ],
             [
              0.6666666666666666,
              "#ed7953"
             ],
             [
              0.7777777777777778,
              "#fb9f3a"
             ],
             [
              0.8888888888888888,
              "#fdca26"
             ],
             [
              1,
              "#f0f921"
             ]
            ],
            "type": "surface"
           }
          ],
          "table": [
           {
            "cells": {
             "fill": {
              "color": "#EBF0F8"
             },
             "line": {
              "color": "white"
             }
            },
            "header": {
             "fill": {
              "color": "#C8D4E3"
             },
             "line": {
              "color": "white"
             }
            },
            "type": "table"
           }
          ]
         },
         "layout": {
          "annotationdefaults": {
           "arrowcolor": "#2a3f5f",
           "arrowhead": 0,
           "arrowwidth": 1
          },
          "coloraxis": {
           "colorbar": {
            "outlinewidth": 0,
            "ticks": ""
           }
          },
          "colorscale": {
           "diverging": [
            [
             0,
             "#8e0152"
            ],
            [
             0.1,
             "#c51b7d"
            ],
            [
             0.2,
             "#de77ae"
            ],
            [
             0.3,
             "#f1b6da"
            ],
            [
             0.4,
             "#fde0ef"
            ],
            [
             0.5,
             "#f7f7f7"
            ],
            [
             0.6,
             "#e6f5d0"
            ],
            [
             0.7,
             "#b8e186"
            ],
            [
             0.8,
             "#7fbc41"
            ],
            [
             0.9,
             "#4d9221"
            ],
            [
             1,
             "#276419"
            ]
           ],
           "sequential": [
            [
             0,
             "#0d0887"
            ],
            [
             0.1111111111111111,
             "#46039f"
            ],
            [
             0.2222222222222222,
             "#7201a8"
            ],
            [
             0.3333333333333333,
             "#9c179e"
            ],
            [
             0.4444444444444444,
             "#bd3786"
            ],
            [
             0.5555555555555556,
             "#d8576b"
            ],
            [
             0.6666666666666666,
             "#ed7953"
            ],
            [
             0.7777777777777778,
             "#fb9f3a"
            ],
            [
             0.8888888888888888,
             "#fdca26"
            ],
            [
             1,
             "#f0f921"
            ]
           ],
           "sequentialminus": [
            [
             0,
             "#0d0887"
            ],
            [
             0.1111111111111111,
             "#46039f"
            ],
            [
             0.2222222222222222,
             "#7201a8"
            ],
            [
             0.3333333333333333,
             "#9c179e"
            ],
            [
             0.4444444444444444,
             "#bd3786"
            ],
            [
             0.5555555555555556,
             "#d8576b"
            ],
            [
             0.6666666666666666,
             "#ed7953"
            ],
            [
             0.7777777777777778,
             "#fb9f3a"
            ],
            [
             0.8888888888888888,
             "#fdca26"
            ],
            [
             1,
             "#f0f921"
            ]
           ]
          },
          "colorway": [
           "#636efa",
           "#EF553B",
           "#00cc96",
           "#ab63fa",
           "#FFA15A",
           "#19d3f3",
           "#FF6692",
           "#B6E880",
           "#FF97FF",
           "#FECB52"
          ],
          "font": {
           "color": "#2a3f5f"
          },
          "geo": {
           "bgcolor": "white",
           "lakecolor": "white",
           "landcolor": "#E5ECF6",
           "showlakes": true,
           "showland": true,
           "subunitcolor": "white"
          },
          "hoverlabel": {
           "align": "left"
          },
          "hovermode": "closest",
          "mapbox": {
           "style": "light"
          },
          "paper_bgcolor": "white",
          "plot_bgcolor": "#E5ECF6",
          "polar": {
           "angularaxis": {
            "gridcolor": "white",
            "linecolor": "white",
            "ticks": ""
           },
           "bgcolor": "#E5ECF6",
           "radialaxis": {
            "gridcolor": "white",
            "linecolor": "white",
            "ticks": ""
           }
          },
          "scene": {
           "xaxis": {
            "backgroundcolor": "#E5ECF6",
            "gridcolor": "white",
            "gridwidth": 2,
            "linecolor": "white",
            "showbackground": true,
            "ticks": "",
            "zerolinecolor": "white"
           },
           "yaxis": {
            "backgroundcolor": "#E5ECF6",
            "gridcolor": "white",
            "gridwidth": 2,
            "linecolor": "white",
            "showbackground": true,
            "ticks": "",
            "zerolinecolor": "white"
           },
           "zaxis": {
            "backgroundcolor": "#E5ECF6",
            "gridcolor": "white",
            "gridwidth": 2,
            "linecolor": "white",
            "showbackground": true,
            "ticks": "",
            "zerolinecolor": "white"
           }
          },
          "shapedefaults": {
           "line": {
            "color": "#2a3f5f"
           }
          },
          "ternary": {
           "aaxis": {
            "gridcolor": "white",
            "linecolor": "white",
            "ticks": ""
           },
           "baxis": {
            "gridcolor": "white",
            "linecolor": "white",
            "ticks": ""
           },
           "bgcolor": "#E5ECF6",
           "caxis": {
            "gridcolor": "white",
            "linecolor": "white",
            "ticks": ""
           }
          },
          "title": {
           "x": 0.05
          },
          "xaxis": {
           "automargin": true,
           "gridcolor": "white",
           "linecolor": "white",
           "ticks": "",
           "title": {
            "standoff": 15
           },
           "zerolinecolor": "white",
           "zerolinewidth": 2
          },
          "yaxis": {
           "automargin": true,
           "gridcolor": "white",
           "linecolor": "white",
           "ticks": "",
           "title": {
            "standoff": 15
           },
           "zerolinecolor": "white",
           "zerolinewidth": 2
          }
         }
        },
        "title": {
         "text": "Статистика по выздоровевшим за неделю",
         "x": 0.5,
         "xanchor": "center",
         "y": 0.9,
         "yanchor": "top"
        },
        "width": 990,
        "xaxis": {
         "title": {
          "text": "Выздоровевшие"
         }
        },
        "yaxis": {
         "title": {
          "text": "Регионы"
         }
        }
       }
      }
     },
     "metadata": {}
    }
   ],
   "source": [
    "\n",
    "cols = list(new_df2.columns)\n",
    "#cols = cols[:-1]\n",
    "\n",
    "fig = go.Figure()\n",
    "for i in cols:\n",
    "    fig.add_trace(\n",
    "    go.Box(x=new_df2[i],name = i,boxmean=True,marker_color = color_dict.get(i)))\n",
    "\n",
    "fig.update_layout(title_text=\"Статистика по выздоровевшим за неделю\",\n",
    "                  title_x = 0.5,\n",
    "                  title_y= 0.9,\n",
    "                  title_xanchor = \"center\",\n",
    "                  title_yanchor = \"top\",\n",
    "                  xaxis_title='Выздоровевшие', yaxis_title='Регионы',width = 990, height = 600)\n",
    "fig.show()"
   ]
  },
  {
   "cell_type": "code",
   "execution_count": 30,
   "metadata": {},
   "outputs": [
    {
     "output_type": "display_data",
     "data": {
      "application/vnd.plotly.v1+json": {
       "config": {
        "plotlyServerURL": "https://plot.ly"
       },
       "data": [
        {
         "boxmean": true,
         "marker": {
          "color": "magenta"
         },
         "name": "Бразилия",
         "type": "box",
         "x": [
          25800,
          16641,
          51603,
          57152,
          53139,
          50230,
          49970,
          23010
         ],
         "xaxis": "x",
         "yaxis": "y"
        },
        {
         "boxmean": true,
         "marker": {
          "color": "darkblue"
         },
         "name": "Великобритания",
         "type": "box",
         "x": [
          747,
          942,
          675,
          906,
          964,
          900,
          765,
          1113
         ],
         "xaxis": "x",
         "yaxis": "y"
        },
        {
         "boxmean": true,
         "marker": {
          "color": "goldenrod"
         },
         "name": "Индия",
         "type": "box",
         "x": [
          52972,
          52050,
          52509,
          56282,
          62538,
          61537,
          64399,
          62064
         ],
         "xaxis": "x",
         "yaxis": "y"
        },
        {
         "boxmean": true,
         "marker": {
          "color": "green"
         },
         "name": "Россия",
         "type": "box",
         "x": [
          5387,
          5364,
          5121,
          5186,
          5239,
          5191,
          5185,
          5155
         ],
         "xaxis": "x",
         "yaxis": "y"
        },
        {
         "boxmean": true,
         "marker": {
          "color": "red"
         },
         "name": "США",
         "type": "box",
         "x": [
          47580,
          45368,
          57540,
          52810,
          59692,
          58173,
          56174,
          46935
         ],
         "xaxis": "x",
         "yaxis": "y"
        },
        {
         "boxmean": true,
         "marker": {
          "color": "magenta"
         },
         "name": "Бразилия",
         "type": "box",
         "x": [
          24894,
          36100,
          58508,
          32877,
          40181,
          41757,
          49238,
          35446
         ],
         "xaxis": "x2",
         "yaxis": "y2"
        },
        {
         "boxmean": true,
         "marker": {
          "color": "darkblue"
         },
         "name": "Великобритания",
         "type": "box",
         "x": [
          3,
          1,
          0,
          1,
          1,
          0,
          2,
          2
         ],
         "xaxis": "x2",
         "yaxis": "y2"
        },
        {
         "boxmean": true,
         "marker": {
          "color": "goldenrod"
         },
         "name": "Индия",
         "type": "box",
         "x": [
          40574,
          44306,
          51706,
          46121,
          49769,
          48900,
          53879,
          54859
         ],
         "xaxis": "x2",
         "yaxis": "y2"
        },
        {
         "boxmean": true,
         "marker": {
          "color": "green"
         },
         "name": "Россия",
         "type": "box",
         "x": [
          3645,
          3411,
          7863,
          7534,
          7300,
          7209,
          6578,
          3203
         ],
         "xaxis": "x2",
         "yaxis": "y2"
        },
        {
         "boxmean": true,
         "marker": {
          "color": "red"
         },
         "name": "США",
         "type": "box",
         "x": [
          6804,
          44757,
          15533,
          48872,
          20773,
          25246,
          19248,
          13746
         ],
         "xaxis": "x2",
         "yaxis": "y2"
        }
       ],
       "layout": {
        "annotations": [
         {
          "font": {
           "size": 16
          },
          "showarrow": false,
          "text": "Box-график распределения по новым заболевшим(в день) за неделю:",
          "x": 0.5,
          "xanchor": "center",
          "xref": "paper",
          "y": 1,
          "yanchor": "bottom",
          "yref": "paper"
         },
         {
          "font": {
           "size": 16
          },
          "showarrow": false,
          "text": "Box-график распределения по выздоровевшим(в день) за неделю:",
          "x": 0.5,
          "xanchor": "center",
          "xref": "paper",
          "y": 0.485,
          "yanchor": "bottom",
          "yref": "paper"
         }
        ],
        "height": 1200,
        "showlegend": false,
        "template": {
         "data": {
          "bar": [
           {
            "error_x": {
             "color": "rgb(51,51,51)"
            },
            "error_y": {
             "color": "rgb(51,51,51)"
            },
            "marker": {
             "line": {
              "color": "rgb(237,237,237)",
              "width": 0.5
             }
            },
            "type": "bar"
           }
          ],
          "barpolar": [
           {
            "marker": {
             "line": {
              "color": "rgb(237,237,237)",
              "width": 0.5
             }
            },
            "type": "barpolar"
           }
          ],
          "carpet": [
           {
            "aaxis": {
             "endlinecolor": "rgb(51,51,51)",
             "gridcolor": "white",
             "linecolor": "white",
             "minorgridcolor": "white",
             "startlinecolor": "rgb(51,51,51)"
            },
            "baxis": {
             "endlinecolor": "rgb(51,51,51)",
             "gridcolor": "white",
             "linecolor": "white",
             "minorgridcolor": "white",
             "startlinecolor": "rgb(51,51,51)"
            },
            "type": "carpet"
           }
          ],
          "choropleth": [
           {
            "colorbar": {
             "outlinewidth": 0,
             "tickcolor": "rgb(237,237,237)",
             "ticklen": 6,
             "ticks": "inside"
            },
            "type": "choropleth"
           }
          ],
          "contour": [
           {
            "colorbar": {
             "outlinewidth": 0,
             "tickcolor": "rgb(237,237,237)",
             "ticklen": 6,
             "ticks": "inside"
            },
            "colorscale": [
             [
              0,
              "rgb(20,44,66)"
             ],
             [
              1,
              "rgb(90,179,244)"
             ]
            ],
            "type": "contour"
           }
          ],
          "contourcarpet": [
           {
            "colorbar": {
             "outlinewidth": 0,
             "tickcolor": "rgb(237,237,237)",
             "ticklen": 6,
             "ticks": "inside"
            },
            "type": "contourcarpet"
           }
          ],
          "heatmap": [
           {
            "colorbar": {
             "outlinewidth": 0,
             "tickcolor": "rgb(237,237,237)",
             "ticklen": 6,
             "ticks": "inside"
            },
            "colorscale": [
             [
              0,
              "rgb(20,44,66)"
             ],
             [
              1,
              "rgb(90,179,244)"
             ]
            ],
            "type": "heatmap"
           }
          ],
          "heatmapgl": [
           {
            "colorbar": {
             "outlinewidth": 0,
             "tickcolor": "rgb(237,237,237)",
             "ticklen": 6,
             "ticks": "inside"
            },
            "colorscale": [
             [
              0,
              "rgb(20,44,66)"
             ],
             [
              1,
              "rgb(90,179,244)"
             ]
            ],
            "type": "heatmapgl"
           }
          ],
          "histogram": [
           {
            "marker": {
             "colorbar": {
              "outlinewidth": 0,
              "tickcolor": "rgb(237,237,237)",
              "ticklen": 6,
              "ticks": "inside"
             }
            },
            "type": "histogram"
           }
          ],
          "histogram2d": [
           {
            "colorbar": {
             "outlinewidth": 0,
             "tickcolor": "rgb(237,237,237)",
             "ticklen": 6,
             "ticks": "inside"
            },
            "colorscale": [
             [
              0,
              "rgb(20,44,66)"
             ],
             [
              1,
              "rgb(90,179,244)"
             ]
            ],
            "type": "histogram2d"
           }
          ],
          "histogram2dcontour": [
           {
            "colorbar": {
             "outlinewidth": 0,
             "tickcolor": "rgb(237,237,237)",
             "ticklen": 6,
             "ticks": "inside"
            },
            "colorscale": [
             [
              0,
              "rgb(20,44,66)"
             ],
             [
              1,
              "rgb(90,179,244)"
             ]
            ],
            "type": "histogram2dcontour"
           }
          ],
          "mesh3d": [
           {
            "colorbar": {
             "outlinewidth": 0,
             "tickcolor": "rgb(237,237,237)",
             "ticklen": 6,
             "ticks": "inside"
            },
            "type": "mesh3d"
           }
          ],
          "parcoords": [
           {
            "line": {
             "colorbar": {
              "outlinewidth": 0,
              "tickcolor": "rgb(237,237,237)",
              "ticklen": 6,
              "ticks": "inside"
             }
            },
            "type": "parcoords"
           }
          ],
          "pie": [
           {
            "automargin": true,
            "type": "pie"
           }
          ],
          "scatter": [
           {
            "marker": {
             "colorbar": {
              "outlinewidth": 0,
              "tickcolor": "rgb(237,237,237)",
              "ticklen": 6,
              "ticks": "inside"
             }
            },
            "type": "scatter"
           }
          ],
          "scatter3d": [
           {
            "line": {
             "colorbar": {
              "outlinewidth": 0,
              "tickcolor": "rgb(237,237,237)",
              "ticklen": 6,
              "ticks": "inside"
             }
            },
            "marker": {
             "colorbar": {
              "outlinewidth": 0,
              "tickcolor": "rgb(237,237,237)",
              "ticklen": 6,
              "ticks": "inside"
             }
            },
            "type": "scatter3d"
           }
          ],
          "scattercarpet": [
           {
            "marker": {
             "colorbar": {
              "outlinewidth": 0,
              "tickcolor": "rgb(237,237,237)",
              "ticklen": 6,
              "ticks": "inside"
             }
            },
            "type": "scattercarpet"
           }
          ],
          "scattergeo": [
           {
            "marker": {
             "colorbar": {
              "outlinewidth": 0,
              "tickcolor": "rgb(237,237,237)",
              "ticklen": 6,
              "ticks": "inside"
             }
            },
            "type": "scattergeo"
           }
          ],
          "scattergl": [
           {
            "marker": {
             "colorbar": {
              "outlinewidth": 0,
              "tickcolor": "rgb(237,237,237)",
              "ticklen": 6,
              "ticks": "inside"
             }
            },
            "type": "scattergl"
           }
          ],
          "scattermapbox": [
           {
            "marker": {
             "colorbar": {
              "outlinewidth": 0,
              "tickcolor": "rgb(237,237,237)",
              "ticklen": 6,
              "ticks": "inside"
             }
            },
            "type": "scattermapbox"
           }
          ],
          "scatterpolar": [
           {
            "marker": {
             "colorbar": {
              "outlinewidth": 0,
              "tickcolor": "rgb(237,237,237)",
              "ticklen": 6,
              "ticks": "inside"
             }
            },
            "type": "scatterpolar"
           }
          ],
          "scatterpolargl": [
           {
            "marker": {
             "colorbar": {
              "outlinewidth": 0,
              "tickcolor": "rgb(237,237,237)",
              "ticklen": 6,
              "ticks": "inside"
             }
            },
            "type": "scatterpolargl"
           }
          ],
          "scatterternary": [
           {
            "marker": {
             "colorbar": {
              "outlinewidth": 0,
              "tickcolor": "rgb(237,237,237)",
              "ticklen": 6,
              "ticks": "inside"
             }
            },
            "type": "scatterternary"
           }
          ],
          "surface": [
           {
            "colorbar": {
             "outlinewidth": 0,
             "tickcolor": "rgb(237,237,237)",
             "ticklen": 6,
             "ticks": "inside"
            },
            "colorscale": [
             [
              0,
              "rgb(20,44,66)"
             ],
             [
              1,
              "rgb(90,179,244)"
             ]
            ],
            "type": "surface"
           }
          ],
          "table": [
           {
            "cells": {
             "fill": {
              "color": "rgb(237,237,237)"
             },
             "line": {
              "color": "white"
             }
            },
            "header": {
             "fill": {
              "color": "rgb(217,217,217)"
             },
             "line": {
              "color": "white"
             }
            },
            "type": "table"
           }
          ]
         },
         "layout": {
          "annotationdefaults": {
           "arrowhead": 0,
           "arrowwidth": 1
          },
          "coloraxis": {
           "colorbar": {
            "outlinewidth": 0,
            "tickcolor": "rgb(237,237,237)",
            "ticklen": 6,
            "ticks": "inside"
           }
          },
          "colorscale": {
           "sequential": [
            [
             0,
             "rgb(20,44,66)"
            ],
            [
             1,
             "rgb(90,179,244)"
            ]
           ],
           "sequentialminus": [
            [
             0,
             "rgb(20,44,66)"
            ],
            [
             1,
             "rgb(90,179,244)"
            ]
           ]
          },
          "colorway": [
           "#F8766D",
           "#A3A500",
           "#00BF7D",
           "#00B0F6",
           "#E76BF3"
          ],
          "font": {
           "color": "rgb(51,51,51)"
          },
          "geo": {
           "bgcolor": "white",
           "lakecolor": "white",
           "landcolor": "rgb(237,237,237)",
           "showlakes": true,
           "showland": true,
           "subunitcolor": "white"
          },
          "hoverlabel": {
           "align": "left"
          },
          "hovermode": "closest",
          "paper_bgcolor": "white",
          "plot_bgcolor": "rgb(237,237,237)",
          "polar": {
           "angularaxis": {
            "gridcolor": "white",
            "linecolor": "white",
            "showgrid": true,
            "tickcolor": "rgb(51,51,51)",
            "ticks": "outside"
           },
           "bgcolor": "rgb(237,237,237)",
           "radialaxis": {
            "gridcolor": "white",
            "linecolor": "white",
            "showgrid": true,
            "tickcolor": "rgb(51,51,51)",
            "ticks": "outside"
           }
          },
          "scene": {
           "xaxis": {
            "backgroundcolor": "rgb(237,237,237)",
            "gridcolor": "white",
            "gridwidth": 2,
            "linecolor": "white",
            "showbackground": true,
            "showgrid": true,
            "tickcolor": "rgb(51,51,51)",
            "ticks": "outside",
            "zerolinecolor": "white"
           },
           "yaxis": {
            "backgroundcolor": "rgb(237,237,237)",
            "gridcolor": "white",
            "gridwidth": 2,
            "linecolor": "white",
            "showbackground": true,
            "showgrid": true,
            "tickcolor": "rgb(51,51,51)",
            "ticks": "outside",
            "zerolinecolor": "white"
           },
           "zaxis": {
            "backgroundcolor": "rgb(237,237,237)",
            "gridcolor": "white",
            "gridwidth": 2,
            "linecolor": "white",
            "showbackground": true,
            "showgrid": true,
            "tickcolor": "rgb(51,51,51)",
            "ticks": "outside",
            "zerolinecolor": "white"
           }
          },
          "shapedefaults": {
           "fillcolor": "black",
           "line": {
            "width": 0
           },
           "opacity": 0.3
          },
          "ternary": {
           "aaxis": {
            "gridcolor": "white",
            "linecolor": "white",
            "showgrid": true,
            "tickcolor": "rgb(51,51,51)",
            "ticks": "outside"
           },
           "baxis": {
            "gridcolor": "white",
            "linecolor": "white",
            "showgrid": true,
            "tickcolor": "rgb(51,51,51)",
            "ticks": "outside"
           },
           "bgcolor": "rgb(237,237,237)",
           "caxis": {
            "gridcolor": "white",
            "linecolor": "white",
            "showgrid": true,
            "tickcolor": "rgb(51,51,51)",
            "ticks": "outside"
           }
          },
          "xaxis": {
           "automargin": true,
           "gridcolor": "white",
           "linecolor": "white",
           "showgrid": true,
           "tickcolor": "rgb(51,51,51)",
           "ticks": "outside",
           "title": {
            "standoff": 15
           },
           "zerolinecolor": "white"
          },
          "yaxis": {
           "automargin": true,
           "gridcolor": "white",
           "linecolor": "white",
           "showgrid": true,
           "tickcolor": "rgb(51,51,51)",
           "ticks": "outside",
           "title": {
            "standoff": 15
           },
           "zerolinecolor": "white"
          }
         }
        },
        "width": 990,
        "xaxis": {
         "anchor": "y",
         "domain": [
          0,
          1
         ],
         "matches": "x2",
         "showticklabels": false
        },
        "xaxis2": {
         "anchor": "y2",
         "domain": [
          0,
          1
         ]
        },
        "yaxis": {
         "anchor": "x",
         "domain": [
          0.515,
          1
         ]
        },
        "yaxis2": {
         "anchor": "x2",
         "domain": [
          0,
          0.485
         ]
        }
       }
      }
     },
     "metadata": {}
    }
   ],
   "source": [
    "from plotly.subplots import make_subplots\n",
    "\n",
    "# fig = tools.make_subplots(rows = 1, cols = 2, specs = [[{}, {}]],\n",
    "#                           horizontal_spacing = 0.05)\n",
    "\n",
    "\n",
    "fig = make_subplots(rows=2, cols=1,specs = [[{}],[{}]],vertical_spacing = 0.03,shared_xaxes=True,\n",
    "                  subplot_titles=(\"Box-график распределения по новым заболевшим(в день) за неделю:\",\n",
    "                                 \"Box-график распределения по выздоровевшим(в день) за неделю:\"))\n",
    "#subplot_titles=(\"Статистика по новым заболевшим за последние 2 недели\",\"Статистика по выздоровевшим за последние 2 недели\")\n",
    "\n",
    "for i in cols:\n",
    "    fig.add_trace(\n",
    "    go.Box(x=new_df1[i],name = i,boxmean = True,marker_color = color_dict.get(i)),row=1,col=1)\n",
    "\n",
    "for i in cols:\n",
    "    fig.add_trace(\n",
    "    go.Box(x=new_df2[i],name = i,boxmean=True,marker_color = color_dict.get(i)),row=2,col=1)\n",
    "\n",
    "\n",
    "fig.update_layout(\n",
    "#     annotations=[\n",
    "#         dict(\n",
    "#             x=0.5,\n",
    "#             y=-0.15,\n",
    "#             showarrow=False,\n",
    "#             text=\"Ветикальная пунктирная линия - среднее, Вертикальная сплошная - медиана распоеделения\",\n",
    "#             xref=\"paper\",\n",
    "#             yref=\"paper\"),\n",
    "        \n",
    "#                 ],\n",
    "    \n",
    "    \n",
    "                  width = 990, height = 1200,\n",
    "    \n",
    "    \n",
    "                 showlegend=False,template ='ggplot2'\n",
    ")\n",
    "\n",
    "#fig.update_layout(height=1000, width=800,showlegend=False)\n",
    "fig.show()"
   ]
  },
  {
   "cell_type": "code",
   "execution_count": null,
   "metadata": {},
   "outputs": [],
   "source": []
  },
  {
   "cell_type": "code",
   "execution_count": null,
   "metadata": {},
   "outputs": [],
   "source": []
  }
 ],
 "metadata": {
  "kernelspec": {
   "display_name": "Python 3.7.7 64-bit ('vit1': conda)",
   "language": "python",
   "name": "python_defaultSpec_1597413619223"
  },
  "language_info": {
   "codemirror_mode": {
    "name": "ipython",
    "version": 3
   },
   "file_extension": ".py",
   "mimetype": "text/x-python",
   "name": "python",
   "nbconvert_exporter": "python",
   "pygments_lexer": "ipython3",
   "version": "3.7.7-final"
  }
 },
 "nbformat": 4,
 "nbformat_minor": 4
}