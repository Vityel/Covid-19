{
 "cells": [
  {
   "cell_type": "code",
   "execution_count": 1,
   "metadata": {},
   "outputs": [],
   "source": [
    "import pandas as pd\n",
    "import datetime\n",
    "import plotly.graph_objects as go\n",
    "import plotly.express as px\n",
    "import plotly.figure_factory as ff\n",
    "\n",
    "\n"
   ]
  },
  {
   "cell_type": "code",
   "execution_count": 2,
   "metadata": {},
   "outputs": [
    {
     "output_type": "execute_result",
     "data": {
      "text/plain": "      Country        Date  Confirmed  Recovered  Deaths  Day_confirmed  \\\n40372  Япония  2020-08-05      42686      28020    1028           1339   \n40373  Япония  2020-08-06      44167      28858    1034           1481   \n40374  Япония  2020-08-07      45764      30241    1042           1597   \n40375  Япония  2020-08-08      47342      31248    1042           1578   \n40376  Япония  2020-08-09      48782      32867    1047           1440   \n40377  Япония  2020-08-10      49617      33450    1052            835   \n40378  Япония  2020-08-11      50302      34136    1058            685   \n40379  Япония  2020-08-12      51288      34969    1066            986   \n40380  Япония  2020-08-13      52471      36191    1073           1183   \n40381  Япония  2020-08-14      53818      35498    1080           1347   \n40382  Япония  2020-08-15      55051      39439    1093           1233   \n40383  Япония  2020-08-16      56074      40560    1103           1023   \n40384  Япония  2020-08-17      56717      41591    1112            643   \n40385  Япония  2020-08-18      57636      42965    1135            919   \n40386  Япония  2020-08-19      58728      43786    1148           1092   \n40387  Япония  2020-08-20      59900      45110    1157           1172   \n40388  Япония  2020-08-21      60949      46264    1175           1049   \n40389  Япония  2020-08-22      61916      47418    1179            967   \n40390  Япония  2020-08-23      62658      48319    1188            742   \n40391  Япония  2020-08-24      63158      49089    1201            500   \n\n       Day_recovered  Day_deaths  \n40372            833           5  \n40373            838           6  \n40374           1383           8  \n40375           1007           0  \n40376           1619           5  \n40377            583           5  \n40378            686           6  \n40379            833           8  \n40380           1222           7  \n40381           -693           7  \n40382           3941          13  \n40383           1121          10  \n40384           1031           9  \n40385           1374          23  \n40386            821          13  \n40387           1324           9  \n40388           1154          18  \n40389           1154           4  \n40390            901           9  \n40391            770          13  ",
      "text/html": "<div>\n<style scoped>\n    .dataframe tbody tr th:only-of-type {\n        vertical-align: middle;\n    }\n\n    .dataframe tbody tr th {\n        vertical-align: top;\n    }\n\n    .dataframe thead th {\n        text-align: right;\n    }\n</style>\n<table border=\"1\" class=\"dataframe\">\n  <thead>\n    <tr style=\"text-align: right;\">\n      <th></th>\n      <th>Country</th>\n      <th>Date</th>\n      <th>Confirmed</th>\n      <th>Recovered</th>\n      <th>Deaths</th>\n      <th>Day_confirmed</th>\n      <th>Day_recovered</th>\n      <th>Day_deaths</th>\n    </tr>\n  </thead>\n  <tbody>\n    <tr>\n      <th>40372</th>\n      <td>Япония</td>\n      <td>2020-08-05</td>\n      <td>42686</td>\n      <td>28020</td>\n      <td>1028</td>\n      <td>1339</td>\n      <td>833</td>\n      <td>5</td>\n    </tr>\n    <tr>\n      <th>40373</th>\n      <td>Япония</td>\n      <td>2020-08-06</td>\n      <td>44167</td>\n      <td>28858</td>\n      <td>1034</td>\n      <td>1481</td>\n      <td>838</td>\n      <td>6</td>\n    </tr>\n    <tr>\n      <th>40374</th>\n      <td>Япония</td>\n      <td>2020-08-07</td>\n      <td>45764</td>\n      <td>30241</td>\n      <td>1042</td>\n      <td>1597</td>\n      <td>1383</td>\n      <td>8</td>\n    </tr>\n    <tr>\n      <th>40375</th>\n      <td>Япония</td>\n      <td>2020-08-08</td>\n      <td>47342</td>\n      <td>31248</td>\n      <td>1042</td>\n      <td>1578</td>\n      <td>1007</td>\n      <td>0</td>\n    </tr>\n    <tr>\n      <th>40376</th>\n      <td>Япония</td>\n      <td>2020-08-09</td>\n      <td>48782</td>\n      <td>32867</td>\n      <td>1047</td>\n      <td>1440</td>\n      <td>1619</td>\n      <td>5</td>\n    </tr>\n    <tr>\n      <th>40377</th>\n      <td>Япония</td>\n      <td>2020-08-10</td>\n      <td>49617</td>\n      <td>33450</td>\n      <td>1052</td>\n      <td>835</td>\n      <td>583</td>\n      <td>5</td>\n    </tr>\n    <tr>\n      <th>40378</th>\n      <td>Япония</td>\n      <td>2020-08-11</td>\n      <td>50302</td>\n      <td>34136</td>\n      <td>1058</td>\n      <td>685</td>\n      <td>686</td>\n      <td>6</td>\n    </tr>\n    <tr>\n      <th>40379</th>\n      <td>Япония</td>\n      <td>2020-08-12</td>\n      <td>51288</td>\n      <td>34969</td>\n      <td>1066</td>\n      <td>986</td>\n      <td>833</td>\n      <td>8</td>\n    </tr>\n    <tr>\n      <th>40380</th>\n      <td>Япония</td>\n      <td>2020-08-13</td>\n      <td>52471</td>\n      <td>36191</td>\n      <td>1073</td>\n      <td>1183</td>\n      <td>1222</td>\n      <td>7</td>\n    </tr>\n    <tr>\n      <th>40381</th>\n      <td>Япония</td>\n      <td>2020-08-14</td>\n      <td>53818</td>\n      <td>35498</td>\n      <td>1080</td>\n      <td>1347</td>\n      <td>-693</td>\n      <td>7</td>\n    </tr>\n    <tr>\n      <th>40382</th>\n      <td>Япония</td>\n      <td>2020-08-15</td>\n      <td>55051</td>\n      <td>39439</td>\n      <td>1093</td>\n      <td>1233</td>\n      <td>3941</td>\n      <td>13</td>\n    </tr>\n    <tr>\n      <th>40383</th>\n      <td>Япония</td>\n      <td>2020-08-16</td>\n      <td>56074</td>\n      <td>40560</td>\n      <td>1103</td>\n      <td>1023</td>\n      <td>1121</td>\n      <td>10</td>\n    </tr>\n    <tr>\n      <th>40384</th>\n      <td>Япония</td>\n      <td>2020-08-17</td>\n      <td>56717</td>\n      <td>41591</td>\n      <td>1112</td>\n      <td>643</td>\n      <td>1031</td>\n      <td>9</td>\n    </tr>\n    <tr>\n      <th>40385</th>\n      <td>Япония</td>\n      <td>2020-08-18</td>\n      <td>57636</td>\n      <td>42965</td>\n      <td>1135</td>\n      <td>919</td>\n      <td>1374</td>\n      <td>23</td>\n    </tr>\n    <tr>\n      <th>40386</th>\n      <td>Япония</td>\n      <td>2020-08-19</td>\n      <td>58728</td>\n      <td>43786</td>\n      <td>1148</td>\n      <td>1092</td>\n      <td>821</td>\n      <td>13</td>\n    </tr>\n    <tr>\n      <th>40387</th>\n      <td>Япония</td>\n      <td>2020-08-20</td>\n      <td>59900</td>\n      <td>45110</td>\n      <td>1157</td>\n      <td>1172</td>\n      <td>1324</td>\n      <td>9</td>\n    </tr>\n    <tr>\n      <th>40388</th>\n      <td>Япония</td>\n      <td>2020-08-21</td>\n      <td>60949</td>\n      <td>46264</td>\n      <td>1175</td>\n      <td>1049</td>\n      <td>1154</td>\n      <td>18</td>\n    </tr>\n    <tr>\n      <th>40389</th>\n      <td>Япония</td>\n      <td>2020-08-22</td>\n      <td>61916</td>\n      <td>47418</td>\n      <td>1179</td>\n      <td>967</td>\n      <td>1154</td>\n      <td>4</td>\n    </tr>\n    <tr>\n      <th>40390</th>\n      <td>Япония</td>\n      <td>2020-08-23</td>\n      <td>62658</td>\n      <td>48319</td>\n      <td>1188</td>\n      <td>742</td>\n      <td>901</td>\n      <td>9</td>\n    </tr>\n    <tr>\n      <th>40391</th>\n      <td>Япония</td>\n      <td>2020-08-24</td>\n      <td>63158</td>\n      <td>49089</td>\n      <td>1201</td>\n      <td>500</td>\n      <td>770</td>\n      <td>13</td>\n    </tr>\n  </tbody>\n</table>\n</div>"
     },
     "metadata": {},
     "execution_count": 2
    }
   ],
   "source": [
    "yandex_world = pd.read_csv('yandex_world.csv')\n",
    "yandex_world.rename(columns = {'Дата':'Date','Страна':'Country','Заражений':'Confirmed','Выздоровлений':'Recovered',\n",
    "                               'Смертей':'Deaths','Смертей за день':'Day_deaths',\n",
    "                               'Заражений за день':'Day_confirmed','Выздоровлений за день':'Day_recovered'},inplace = True)\n",
    "for i in range(yandex_world.shape[0]):\n",
    "    a= yandex_world.Date[i].split('.')\n",
    "    yandex_world.Date[i]=datetime.date(int(a[2]),int(a[1]),int(a[0]))\n",
    "\n",
    "yandex_world.tail(20)"
   ]
  },
  {
   "cell_type": "code",
   "execution_count": 3,
   "metadata": {},
   "outputs": [
    {
     "output_type": "execute_result",
     "data": {
      "text/plain": "      Country        Date  Confirmed  Recovered  Deaths  Day_confirmed  \\\n206  Весь мир  2020-08-15   21459699   13445842  765718         248126   \n207  Весь мир  2020-08-16   21672186   13676868  769904         212487   \n208  Весь мир  2020-08-17   21881858   13888301  774034         209672   \n209  Весь мир  2020-08-18   22136954   14116451  780908         255096   \n210  Весь мир  2020-08-19   22411300   14333914  787672         274346   \n211  Весь мир  2020-08-20   22678483   14541573  793698         267183   \n212  Весь мир  2020-08-21   22949234   14712252  799252         270751   \n213  Весь мир  2020-08-22   23203532   14911319  804416         254298   \n214  Весь мир  2020-08-23   23420418   15137203  808676         216886   \n215  Весь мир  2020-08-24   23647377   15337252  813022         226959   \n\n     Day_recovered  Day_deaths  \n206         169011        5344  \n207         231026        4186  \n208         211433        4130  \n209         228150        6874  \n210         217463        6764  \n211         207659        6026  \n212         170679        5554  \n213         199067        5164  \n214         225884        4260  \n215         200049        4346  ",
      "text/html": "<div>\n<style scoped>\n    .dataframe tbody tr th:only-of-type {\n        vertical-align: middle;\n    }\n\n    .dataframe tbody tr th {\n        vertical-align: top;\n    }\n\n    .dataframe thead th {\n        text-align: right;\n    }\n</style>\n<table border=\"1\" class=\"dataframe\">\n  <thead>\n    <tr style=\"text-align: right;\">\n      <th></th>\n      <th>Country</th>\n      <th>Date</th>\n      <th>Confirmed</th>\n      <th>Recovered</th>\n      <th>Deaths</th>\n      <th>Day_confirmed</th>\n      <th>Day_recovered</th>\n      <th>Day_deaths</th>\n    </tr>\n  </thead>\n  <tbody>\n    <tr>\n      <th>206</th>\n      <td>Весь мир</td>\n      <td>2020-08-15</td>\n      <td>21459699</td>\n      <td>13445842</td>\n      <td>765718</td>\n      <td>248126</td>\n      <td>169011</td>\n      <td>5344</td>\n    </tr>\n    <tr>\n      <th>207</th>\n      <td>Весь мир</td>\n      <td>2020-08-16</td>\n      <td>21672186</td>\n      <td>13676868</td>\n      <td>769904</td>\n      <td>212487</td>\n      <td>231026</td>\n      <td>4186</td>\n    </tr>\n    <tr>\n      <th>208</th>\n      <td>Весь мир</td>\n      <td>2020-08-17</td>\n      <td>21881858</td>\n      <td>13888301</td>\n      <td>774034</td>\n      <td>209672</td>\n      <td>211433</td>\n      <td>4130</td>\n    </tr>\n    <tr>\n      <th>209</th>\n      <td>Весь мир</td>\n      <td>2020-08-18</td>\n      <td>22136954</td>\n      <td>14116451</td>\n      <td>780908</td>\n      <td>255096</td>\n      <td>228150</td>\n      <td>6874</td>\n    </tr>\n    <tr>\n      <th>210</th>\n      <td>Весь мир</td>\n      <td>2020-08-19</td>\n      <td>22411300</td>\n      <td>14333914</td>\n      <td>787672</td>\n      <td>274346</td>\n      <td>217463</td>\n      <td>6764</td>\n    </tr>\n    <tr>\n      <th>211</th>\n      <td>Весь мир</td>\n      <td>2020-08-20</td>\n      <td>22678483</td>\n      <td>14541573</td>\n      <td>793698</td>\n      <td>267183</td>\n      <td>207659</td>\n      <td>6026</td>\n    </tr>\n    <tr>\n      <th>212</th>\n      <td>Весь мир</td>\n      <td>2020-08-21</td>\n      <td>22949234</td>\n      <td>14712252</td>\n      <td>799252</td>\n      <td>270751</td>\n      <td>170679</td>\n      <td>5554</td>\n    </tr>\n    <tr>\n      <th>213</th>\n      <td>Весь мир</td>\n      <td>2020-08-22</td>\n      <td>23203532</td>\n      <td>14911319</td>\n      <td>804416</td>\n      <td>254298</td>\n      <td>199067</td>\n      <td>5164</td>\n    </tr>\n    <tr>\n      <th>214</th>\n      <td>Весь мир</td>\n      <td>2020-08-23</td>\n      <td>23420418</td>\n      <td>15137203</td>\n      <td>808676</td>\n      <td>216886</td>\n      <td>225884</td>\n      <td>4260</td>\n    </tr>\n    <tr>\n      <th>215</th>\n      <td>Весь мир</td>\n      <td>2020-08-24</td>\n      <td>23647377</td>\n      <td>15337252</td>\n      <td>813022</td>\n      <td>226959</td>\n      <td>200049</td>\n      <td>4346</td>\n    </tr>\n  </tbody>\n</table>\n</div>"
     },
     "metadata": {},
     "execution_count": 3
    }
   ],
   "source": [
    "df3_temp = yandex_world.groupby('Date').sum()\n",
    "df3_temp['Country']='Весь мир'\n",
    "\n",
    "y5= pd.concat([yandex_world,df3_temp.reset_index()],axis = 0)\n",
    "y5.reset_index()\n",
    "yandex_world = y5\n",
    "yandex_world.tail(10)"
   ]
  },
  {
   "cell_type": "code",
   "execution_count": 4,
   "metadata": {
    "tags": []
   },
   "outputs": [
    {
     "output_type": "stream",
     "name": "stdout",
     "text": "Весь мир\nВыбран день:  2020-08-24\n"
    }
   ],
   "source": [
    "# dt = datetime.datetime.today()\n",
    "# today = datetime.date(dt.year,dt.month,dt.day)\n",
    "# ystday = datetime.date(today.year,today.month,today.day-1)\n",
    "# yst2day = datetime.date(today.year,today.month,today.day-2)\n",
    "# yst3day = datetime.date(today.year,today.month,today.day-3)\n",
    "\n",
    "# print(today)\n",
    "# print(ystday)\n",
    "# print(yst2day)\n",
    "# print(yst3day)\n",
    "myday = list(yandex_world.tail(1).Date)[0]\n",
    "\n",
    "print(yandex_world.iloc[-1,0])\n",
    "print('Выбран день: ',myday)"
   ]
  },
  {
   "cell_type": "code",
   "execution_count": 5,
   "metadata": {
    "tags": []
   },
   "outputs": [
    {
     "output_type": "stream",
     "name": "stdout",
     "text": "dict_items([(0, 'Австралия'), (1, 'Австрия'), (2, 'Азербайджан'), (3, 'Албания'), (4, 'Алжир'), (5, 'Ангола'), (6, 'Андорра'), (7, 'Антигуа и Барбуда'), (8, 'Аргентина'), (9, 'Армения'), (10, 'Афганистан'), (11, 'Багамские острова'), (12, 'Бангладеш'), (13, 'Барбадос'), (14, 'Бахрейн'), (15, 'Беларусь'), (16, 'Белиз'), (17, 'Бельгия'), (18, 'Бенин'), (19, 'Болгария'), (20, 'Боливия'), (21, 'Босния и Герцеговина'), (22, 'Ботсвана'), (23, 'Бразилия'), (24, 'Бруней'), (25, 'Буркина-Фасо'), (26, 'Бурунди'), (27, 'Бутан'), (28, 'Великобритания'), (29, 'Венгрия'), (30, 'Венесуэла'), (31, 'Весь мир'), (32, 'Восточный Тимор'), (33, 'Вьетнам'), (34, 'Габон'), (35, 'Гаити'), (36, 'Гайана'), (37, 'Гамбия'), (38, 'Гана'), (39, 'Гватемала'), (40, 'Гвинея'), (41, 'Гвинея-Бисау'), (42, 'Германия'), (43, 'Гондурас'), (44, 'Гренада'), (45, 'Греция'), (46, 'Грузия'), (47, 'ДР Конго'), (48, 'Дания'), (49, 'Джибути'), (50, 'Доминика'), (51, 'Доминиканская Республика'), (52, 'Египет'), (53, 'Замбия'), (54, 'Западная Сахара'), (55, 'Западный берег реки Иордан'), (56, 'Зимбабве'), (57, 'Израиль'), (58, 'Индия'), (59, 'Индонезия'), (60, 'Иордания'), (61, 'Ирак'), (62, 'Иран'), (63, 'Ирландия'), (64, 'Исландия'), (65, 'Испания'), (66, 'Италия'), (67, 'Йемен'), (68, 'Кабо-Верде'), (69, 'Казахстан'), (70, 'Камбоджа'), (71, 'Камерун'), (72, 'Канада'), (73, 'Катар'), (74, 'Кения'), (75, 'Кипр'), (76, 'Киргизия'), (77, 'Китай'), (78, 'Колумбия'), (79, 'Коморские острова'), (80, 'Косово и Метохия'), (81, 'Коста-Рика'), (82, 'Кот-д’Ивуар'), (83, 'Куба'), (84, 'Кувейт'), (85, 'Лаос'), (86, 'Латвия'), (87, 'Лесото'), (88, 'Либерия'), (89, 'Ливан'), (90, 'Ливия'), (91, 'Литва'), (92, 'Лихтенштейн'), (93, 'Люксембург'), (94, 'Маврикий'), (95, 'Мавритания'), (96, 'Мадагаскар'), (97, 'Малави'), (98, 'Малайзия'), (99, 'Мали'), (100, 'Мальдивы'), (101, 'Мальта'), (102, 'Марокко'), (103, 'Мексика'), (104, 'Мозамбик'), (105, 'Молдавия'), (106, 'Монако'), (107, 'Монголия'), (108, 'Мьянма'), (109, 'Намибия'), (110, 'Непал'), (111, 'Нигер'), (112, 'Нигерия'), (113, 'Нидерланды'), (114, 'Никарагуа'), (115, 'Новая Зеландия'), (116, 'Норвегия'), (117, 'ОАЭ'), (118, 'Оман'), (119, 'Пакистан'), (120, 'Панама'), (121, 'Папский Престол'), (122, 'Папуа — Новая Гвинея'), (123, 'Парагвай'), (124, 'Перу'), (125, 'Польша'), (126, 'Португалия'), (127, 'Республика Конго'), (128, 'Россия'), (129, 'Руанда'), (130, 'Румыния'), (131, 'США'), (132, 'Сальвадор'), (133, 'Сан-Марино'), (134, 'Сан-Томе и Принсипи'), (135, 'Саудовская Аравия'), (136, 'Северная Македония'), (137, 'Сейшельские острова'), (138, 'Сенегал'), (139, 'Сент-Винсент и Гренадины'), (140, 'Сент-Китс и Невис'), (141, 'Сент-Люсия'), (142, 'Сербия'), (143, 'Сингапур'), (144, 'Сирия'), (145, 'Словакия'), (146, 'Словения'), (147, 'Сомали'), (148, 'Судан'), (149, 'Судно \"Diamond Princess\"'), (150, 'Судно \"MS Zaandam\"'), (151, 'Суринам'), (152, 'Сьерра-Леоне'), (153, 'Таджикистан'), (154, 'Таиланд'), (155, 'Танзания'), (156, 'Того'), (157, 'Тринидад и Тобаго'), (158, 'Тунис'), (159, 'Турция'), (160, 'Уганда'), (161, 'Узбекистан'), (162, 'Украина'), (163, 'Уругвай'), (164, 'Фиджи'), (165, 'Филиппины'), (166, 'Финляндия'), (167, 'Франция'), (168, 'Хорватия'), (169, 'ЦАР'), (170, 'Чад'), (171, 'Черногория'), (172, 'Чехия'), (173, 'Чили'), (174, 'Швейцария'), (175, 'Швеция'), (176, 'Шри-Ланка'), (177, 'Эквадор'), (178, 'Экваториальная Гвинея'), (179, 'Эритрея'), (180, 'Эсватини'), (181, 'Эстония'), (182, 'Эфиопия'), (183, 'ЮАР'), (184, 'Южная Корея'), (185, 'Южный Судан'), (186, 'Ямайка'), (187, 'Япония')])\n"
    },
    {
     "output_type": "execute_result",
     "data": {
      "text/plain": "             Date  Confirmed  Recovered  Deaths  Day_confirmed  Day_recovered  \\\n40603  2020-08-20      59900      45110    1157           1172           1324   \n40604  2020-08-21      60949      46264    1175           1049           1154   \n40605  2020-08-22      61916      47418    1179            967           1154   \n40606  2020-08-23      62658      48319    1188            742            901   \n40607  2020-08-24      63158      49089    1201            500            770   \n\n       Day_deaths     Rt    Rt2  Rate_conf  Rate_ill Country  Remaining_ill  \\\n40603           9  0.799  1.072          0         0  Япония          13633   \n40604          18  0.997  1.070          0         0  Япония          13510   \n40605           4  1.121  1.071          0         0  Япония          13319   \n40606           9  1.069  1.071          0         0  Япония          13151   \n40607          13  0.852  1.067          0         0  Япония          12868   \n\n       MA7_dayconfirmed  MA14_dayconfirmed  MA7_remaining_ill  \\\n40603       1061.285714        1123.785714       14449.571429   \n40604       1018.714286        1084.642857       13916.714286   \n40605        980.714286        1041.000000       13745.285714   \n40606        940.571429         991.142857       13565.285714   \n40607        920.142857         967.214286       13401.571429   \n\n       MA14_remaining_ill  Change_dayconf  Change_remill  \n40603        14730.785714              80           -161  \n40604        14661.428571            -123           -123  \n40605        14537.642857             -82           -191  \n40606        14415.000000            -225           -168  \n40607        14254.500000            -242           -283  ",
      "text/html": "<div>\n<style scoped>\n    .dataframe tbody tr th:only-of-type {\n        vertical-align: middle;\n    }\n\n    .dataframe tbody tr th {\n        vertical-align: top;\n    }\n\n    .dataframe thead th {\n        text-align: right;\n    }\n</style>\n<table border=\"1\" class=\"dataframe\">\n  <thead>\n    <tr style=\"text-align: right;\">\n      <th></th>\n      <th>Date</th>\n      <th>Confirmed</th>\n      <th>Recovered</th>\n      <th>Deaths</th>\n      <th>Day_confirmed</th>\n      <th>Day_recovered</th>\n      <th>Day_deaths</th>\n      <th>Rt</th>\n      <th>Rt2</th>\n      <th>Rate_conf</th>\n      <th>Rate_ill</th>\n      <th>Country</th>\n      <th>Remaining_ill</th>\n      <th>MA7_dayconfirmed</th>\n      <th>MA14_dayconfirmed</th>\n      <th>MA7_remaining_ill</th>\n      <th>MA14_remaining_ill</th>\n      <th>Change_dayconf</th>\n      <th>Change_remill</th>\n    </tr>\n  </thead>\n  <tbody>\n    <tr>\n      <th>40603</th>\n      <td>2020-08-20</td>\n      <td>59900</td>\n      <td>45110</td>\n      <td>1157</td>\n      <td>1172</td>\n      <td>1324</td>\n      <td>9</td>\n      <td>0.799</td>\n      <td>1.072</td>\n      <td>0</td>\n      <td>0</td>\n      <td>Япония</td>\n      <td>13633</td>\n      <td>1061.285714</td>\n      <td>1123.785714</td>\n      <td>14449.571429</td>\n      <td>14730.785714</td>\n      <td>80</td>\n      <td>-161</td>\n    </tr>\n    <tr>\n      <th>40604</th>\n      <td>2020-08-21</td>\n      <td>60949</td>\n      <td>46264</td>\n      <td>1175</td>\n      <td>1049</td>\n      <td>1154</td>\n      <td>18</td>\n      <td>0.997</td>\n      <td>1.070</td>\n      <td>0</td>\n      <td>0</td>\n      <td>Япония</td>\n      <td>13510</td>\n      <td>1018.714286</td>\n      <td>1084.642857</td>\n      <td>13916.714286</td>\n      <td>14661.428571</td>\n      <td>-123</td>\n      <td>-123</td>\n    </tr>\n    <tr>\n      <th>40605</th>\n      <td>2020-08-22</td>\n      <td>61916</td>\n      <td>47418</td>\n      <td>1179</td>\n      <td>967</td>\n      <td>1154</td>\n      <td>4</td>\n      <td>1.121</td>\n      <td>1.071</td>\n      <td>0</td>\n      <td>0</td>\n      <td>Япония</td>\n      <td>13319</td>\n      <td>980.714286</td>\n      <td>1041.000000</td>\n      <td>13745.285714</td>\n      <td>14537.642857</td>\n      <td>-82</td>\n      <td>-191</td>\n    </tr>\n    <tr>\n      <th>40606</th>\n      <td>2020-08-23</td>\n      <td>62658</td>\n      <td>48319</td>\n      <td>1188</td>\n      <td>742</td>\n      <td>901</td>\n      <td>9</td>\n      <td>1.069</td>\n      <td>1.071</td>\n      <td>0</td>\n      <td>0</td>\n      <td>Япония</td>\n      <td>13151</td>\n      <td>940.571429</td>\n      <td>991.142857</td>\n      <td>13565.285714</td>\n      <td>14415.000000</td>\n      <td>-225</td>\n      <td>-168</td>\n    </tr>\n    <tr>\n      <th>40607</th>\n      <td>2020-08-24</td>\n      <td>63158</td>\n      <td>49089</td>\n      <td>1201</td>\n      <td>500</td>\n      <td>770</td>\n      <td>13</td>\n      <td>0.852</td>\n      <td>1.067</td>\n      <td>0</td>\n      <td>0</td>\n      <td>Япония</td>\n      <td>12868</td>\n      <td>920.142857</td>\n      <td>967.214286</td>\n      <td>13401.571429</td>\n      <td>14254.500000</td>\n      <td>-242</td>\n      <td>-283</td>\n    </tr>\n  </tbody>\n</table>\n</div>"
     },
     "metadata": {},
     "execution_count": 5
    }
   ],
   "source": [
    "X = pd.DataFrame()\n",
    "country_dict = {}\n",
    "yandex_world['Rt'] = 1\n",
    "yandex_world['Rt2'] = 1\n",
    "yandex_world['Rate_conf'] = 0\n",
    "yandex_world['Rate_ill'] = 0\n",
    "\n",
    "temp_df = yandex_world.groupby(['Country','Date']).sum()\n",
    "\n",
    "# Ниже enumerate  для составления словаря из имен регионов {i:j} , для расчетов можно было использовать только j\n",
    "\n",
    "for i,j in enumerate(temp_df.index.get_level_values(0).unique()):\n",
    "    temp_df2 =  temp_df.loc[j]\n",
    "    temp1 = temp_df2['Day_confirmed'].rolling(4).sum()/(temp_df2[\"Day_confirmed\"].rolling(8).sum()-\n",
    "\n",
    "                                                              temp_df2[\"Day_confirmed\"].rolling(4).sum())\n",
    "    temp2 = temp_df2['Confirmed'].rolling(4).sum()/(temp_df2['Confirmed'].rolling(8).sum()-\n",
    "\n",
    "                                                              temp_df2['Confirmed'].rolling(4).sum())\n",
    "    temp_df2['Rt'] = round(temp1,3)\n",
    "    temp_df2['Rt2'] = round(temp2,3)\n",
    "    temp_df2['Country'] = j\n",
    "    temp_df2['Remaining_ill']=temp_df2['Confirmed']-temp_df2['Recovered']-temp_df2['Deaths']\n",
    "    temp_df2['MA7_dayconfirmed']=temp_df2['Day_confirmed'].rolling(window=7).mean()\n",
    "    temp_df2['MA14_dayconfirmed']=temp_df2['Day_confirmed'].rolling(window=14).mean()\n",
    "    temp_df2['MA7_remaining_ill']=temp_df2['Remaining_ill'].rolling(window=7).mean()\n",
    "    temp_df2['MA14_remaining_ill']=temp_df2['Remaining_ill'].rolling(window=14).mean()\n",
    "    \n",
    "    temp_df2['Change_dayconf'] = 0\n",
    "    for k in range(1,temp_df2.shape[0]):\n",
    "        temp_df2['Change_dayconf'].iloc[k]=temp_df2['Day_confirmed'].iloc[k]-temp_df2['Day_confirmed'].iloc[k-1]\n",
    "    temp_df2['Change_remill'] = 0\n",
    "    for k in range(1,temp_df2.shape[0]):\n",
    "        temp_df2['Change_remill'].iloc[k]=temp_df2['Remaining_ill'].iloc[k]-temp_df2['Remaining_ill'].iloc[k-1]\n",
    "    \n",
    "    \n",
    "\n",
    "   #Генератор DF  на каждый регион(сидит в цикле):\n",
    "   # globals()['x' + str(i)] = temp_df2.reset_index()\n",
    "    \n",
    "    X = pd.concat([X,temp_df2.reset_index()],axis = 0)\n",
    "    country_dict[i]=j\n",
    "    \n",
    "print(country_dict.items())\n",
    "    \n",
    "X = X.reset_index(drop=True)\n",
    "X.tail()\n"
   ]
  },
  {
   "cell_type": "code",
   "execution_count": 6,
   "metadata": {
    "tags": []
   },
   "outputs": [
    {
     "output_type": "stream",
     "name": "stdout",
     "text": "Confirmed  Remaining_ill\nDate                                \n2020-08-23   23420418        7474539\n2020-08-24   23647377        7497103\n40608\n(40608, 19)\n2020-01-22\n"
    }
   ],
   "source": [
    "# Добавляем колонки расчитанные сколько доля их в процентах от суммарного показателя в мире\n",
    "mask = X.Country == 'Весь мир'\n",
    "temp_df = X[mask][['Date','Confirmed','Remaining_ill']]\n",
    "temp_df.index = temp_df.Date\n",
    "temp_df.drop(columns =['Date'], inplace = True)\n",
    "print(temp_df.tail(2))\n",
    "# print(temp_df.index.get_level_values(0))\n",
    "# temp_df.loc[datetime.date(2020,6,15),'Россия'].Confirmed\n",
    "# for i in temp_df.index.get_level_values(0).unique()[-2:]:\n",
    "#     print(temp_df.loc[i,'Россия'].Confirmed)\n",
    "world_date = list(temp_df.index)\n",
    "world_conf = list(temp_df.Confirmed)\n",
    "world_ill = list(temp_df.Remaining_ill)\n",
    "world_dict_conf = dict(zip(world_date,world_conf))\n",
    "world_dict_ill = dict(zip(world_date,world_ill))\n",
    "\n",
    "print(len(X))\n",
    "print(X.shape)\n",
    "print(X.loc[0,'Date'])\n",
    "for i in range(len(X)):\n",
    "    X.loc[i,'Rate_conf']=100*X.loc[i,'Confirmed']/world_dict_conf.get(X.loc[i,'Date'])\n",
    "    X.loc[i,'Rate_ill']=100*X.loc[i,'Remaining_ill']/world_dict_ill.get(X.loc[i,'Date'])\n"
   ]
  },
  {
   "cell_type": "code",
   "execution_count": 7,
   "metadata": {},
   "outputs": [
    {
     "output_type": "execute_result",
     "data": {
      "text/plain": "             Date  Confirmed Country  Rate_conf  Rate_ill\n27844  2020-08-05     864948  Россия   4.597864  2.705921\n27845  2020-08-06     870187  Россия   4.556633  2.638702\n27846  2020-08-07     875378  Россия   4.517372  2.576565\n27847  2020-08-08     880563  Россия   4.484088  2.535220\n27848  2020-08-09     885718  Россия   4.459431  2.546444\n27849  2020-08-10     890799  Россия   4.434125  2.550231\n27850  2020-08-11     895691  Россия   4.402687  2.546410\n27851  2020-08-12     900745  Россия   4.368066  2.505044\n27852  2020-08-13     905762  Россия   4.332313  2.449154\n27853  2020-08-14     910778  Россия   4.293779  2.423043\n27854  2020-08-15     915808  Россия   4.267572  2.377548\n27855  2020-08-16     920719  Россия   4.248390  2.402935\n27856  2020-08-17     925558  Россия   4.229796  2.427834\n27857  2020-08-18     930276  Россия   4.202367  2.395093\n27858  2020-08-19     935066  Россия   4.172297  2.350065\n27859  2020-08-20     939833  Россия   4.144162  2.313797\n27860  2020-08-21     944671  Россия   4.116351  2.270639\n27861  2020-08-22     949531  Россия   4.092183  2.237093\n27862  2020-08-23     954328  Россия   4.074769  2.262093\n27863  2020-08-24     959016  Россия   4.055486  2.284256",
      "text/html": "<div>\n<style scoped>\n    .dataframe tbody tr th:only-of-type {\n        vertical-align: middle;\n    }\n\n    .dataframe tbody tr th {\n        vertical-align: top;\n    }\n\n    .dataframe thead th {\n        text-align: right;\n    }\n</style>\n<table border=\"1\" class=\"dataframe\">\n  <thead>\n    <tr style=\"text-align: right;\">\n      <th></th>\n      <th>Date</th>\n      <th>Confirmed</th>\n      <th>Country</th>\n      <th>Rate_conf</th>\n      <th>Rate_ill</th>\n    </tr>\n  </thead>\n  <tbody>\n    <tr>\n      <th>27844</th>\n      <td>2020-08-05</td>\n      <td>864948</td>\n      <td>Россия</td>\n      <td>4.597864</td>\n      <td>2.705921</td>\n    </tr>\n    <tr>\n      <th>27845</th>\n      <td>2020-08-06</td>\n      <td>870187</td>\n      <td>Россия</td>\n      <td>4.556633</td>\n      <td>2.638702</td>\n    </tr>\n    <tr>\n      <th>27846</th>\n      <td>2020-08-07</td>\n      <td>875378</td>\n      <td>Россия</td>\n      <td>4.517372</td>\n      <td>2.576565</td>\n    </tr>\n    <tr>\n      <th>27847</th>\n      <td>2020-08-08</td>\n      <td>880563</td>\n      <td>Россия</td>\n      <td>4.484088</td>\n      <td>2.535220</td>\n    </tr>\n    <tr>\n      <th>27848</th>\n      <td>2020-08-09</td>\n      <td>885718</td>\n      <td>Россия</td>\n      <td>4.459431</td>\n      <td>2.546444</td>\n    </tr>\n    <tr>\n      <th>27849</th>\n      <td>2020-08-10</td>\n      <td>890799</td>\n      <td>Россия</td>\n      <td>4.434125</td>\n      <td>2.550231</td>\n    </tr>\n    <tr>\n      <th>27850</th>\n      <td>2020-08-11</td>\n      <td>895691</td>\n      <td>Россия</td>\n      <td>4.402687</td>\n      <td>2.546410</td>\n    </tr>\n    <tr>\n      <th>27851</th>\n      <td>2020-08-12</td>\n      <td>900745</td>\n      <td>Россия</td>\n      <td>4.368066</td>\n      <td>2.505044</td>\n    </tr>\n    <tr>\n      <th>27852</th>\n      <td>2020-08-13</td>\n      <td>905762</td>\n      <td>Россия</td>\n      <td>4.332313</td>\n      <td>2.449154</td>\n    </tr>\n    <tr>\n      <th>27853</th>\n      <td>2020-08-14</td>\n      <td>910778</td>\n      <td>Россия</td>\n      <td>4.293779</td>\n      <td>2.423043</td>\n    </tr>\n    <tr>\n      <th>27854</th>\n      <td>2020-08-15</td>\n      <td>915808</td>\n      <td>Россия</td>\n      <td>4.267572</td>\n      <td>2.377548</td>\n    </tr>\n    <tr>\n      <th>27855</th>\n      <td>2020-08-16</td>\n      <td>920719</td>\n      <td>Россия</td>\n      <td>4.248390</td>\n      <td>2.402935</td>\n    </tr>\n    <tr>\n      <th>27856</th>\n      <td>2020-08-17</td>\n      <td>925558</td>\n      <td>Россия</td>\n      <td>4.229796</td>\n      <td>2.427834</td>\n    </tr>\n    <tr>\n      <th>27857</th>\n      <td>2020-08-18</td>\n      <td>930276</td>\n      <td>Россия</td>\n      <td>4.202367</td>\n      <td>2.395093</td>\n    </tr>\n    <tr>\n      <th>27858</th>\n      <td>2020-08-19</td>\n      <td>935066</td>\n      <td>Россия</td>\n      <td>4.172297</td>\n      <td>2.350065</td>\n    </tr>\n    <tr>\n      <th>27859</th>\n      <td>2020-08-20</td>\n      <td>939833</td>\n      <td>Россия</td>\n      <td>4.144162</td>\n      <td>2.313797</td>\n    </tr>\n    <tr>\n      <th>27860</th>\n      <td>2020-08-21</td>\n      <td>944671</td>\n      <td>Россия</td>\n      <td>4.116351</td>\n      <td>2.270639</td>\n    </tr>\n    <tr>\n      <th>27861</th>\n      <td>2020-08-22</td>\n      <td>949531</td>\n      <td>Россия</td>\n      <td>4.092183</td>\n      <td>2.237093</td>\n    </tr>\n    <tr>\n      <th>27862</th>\n      <td>2020-08-23</td>\n      <td>954328</td>\n      <td>Россия</td>\n      <td>4.074769</td>\n      <td>2.262093</td>\n    </tr>\n    <tr>\n      <th>27863</th>\n      <td>2020-08-24</td>\n      <td>959016</td>\n      <td>Россия</td>\n      <td>4.055486</td>\n      <td>2.284256</td>\n    </tr>\n  </tbody>\n</table>\n</div>"
     },
     "metadata": {},
     "execution_count": 7
    }
   ],
   "source": [
    "# Проверка расчетов процентных показателей\n",
    "mask = (X.Date>=datetime.date(2020,6,13))&(X.Country.isin(['Весь мир','Россия']))\n",
    "\n",
    "temp=X[mask]\n",
    "temp[['Date','Confirmed','Country','Rate_conf','Rate_ill']].tail(20)"
   ]
  },
  {
   "cell_type": "code",
   "execution_count": 8,
   "metadata": {},
   "outputs": [],
   "source": [
    "X.to_csv('W.csv',index=False)"
   ]
  },
  {
   "cell_type": "code",
   "execution_count": 9,
   "metadata": {},
   "outputs": [
    {
     "output_type": "display_data",
     "data": {
      "application/vnd.plotly.v1+json": {
       "config": {
        "plotlyServerURL": "https://plot.ly"
       },
       "data": [
        {
         "colorscale": [
          [
           0,
           "#00083e"
          ],
          [
           0.5,
           "#ededee"
          ],
          [
           1,
           "#ffffff"
          ]
         ],
         "hoverinfo": "none",
         "opacity": 0.75,
         "showscale": false,
         "type": "heatmap",
         "z": [
          [
           0,
           0,
           0,
           0
          ],
          [
           0.5,
           0.5,
           0.5,
           0.5
          ],
          [
           1,
           1,
           1,
           1
          ],
          [
           0.5,
           0.5,
           0.5,
           0.5
          ],
          [
           1,
           1,
           1,
           1
          ],
          [
           0.5,
           0.5,
           0.5,
           0.5
          ],
          [
           1,
           1,
           1,
           1
          ],
          [
           0.5,
           0.5,
           0.5,
           0.5
          ],
          [
           1,
           1,
           1,
           1
          ],
          [
           0.5,
           0.5,
           0.5,
           0.5
          ],
          [
           1,
           1,
           1,
           1
          ],
          [
           0.5,
           0.5,
           0.5,
           0.5
          ],
          [
           1,
           1,
           1,
           1
          ],
          [
           0.5,
           0.5,
           0.5,
           0.5
          ],
          [
           1,
           1,
           1,
           1
          ],
          [
           0.5,
           0.5,
           0.5,
           0.5
          ]
         ]
        }
       ],
       "layout": {
        "annotations": [
         {
          "align": "left",
          "font": {
           "color": "#ffffff"
          },
          "showarrow": false,
          "text": "<b>По количеству текущих больных</b>",
          "x": -0.45,
          "xanchor": "left",
          "xref": "x",
          "y": 0,
          "yref": "y"
         },
         {
          "align": "left",
          "font": {
           "color": "#ffffff"
          },
          "showarrow": false,
          "text": "<b>По количеству новых</b>",
          "x": 0.55,
          "xanchor": "left",
          "xref": "x",
          "y": 0,
          "yref": "y"
         },
         {
          "align": "left",
          "font": {
           "color": "#ffffff"
          },
          "showarrow": false,
          "text": "<b>По умершим за день</b>",
          "x": 1.55,
          "xanchor": "left",
          "xref": "x",
          "y": 0,
          "yref": "y"
         },
         {
          "align": "left",
          "font": {
           "color": "#ffffff"
          },
          "showarrow": false,
          "text": "<b>По выздоровевшим за день</b>",
          "x": 2.55,
          "xanchor": "left",
          "xref": "x",
          "y": 0,
          "yref": "y"
         },
         {
          "align": "left",
          "font": {
           "color": "#000000"
          },
          "showarrow": false,
          "text": "США",
          "x": -0.45,
          "xanchor": "left",
          "xref": "x",
          "y": 1,
          "yref": "y"
         },
         {
          "align": "left",
          "font": {
           "color": "#000000"
          },
          "showarrow": false,
          "text": "Индия",
          "x": 0.55,
          "xanchor": "left",
          "xref": "x",
          "y": 1,
          "yref": "y"
         },
         {
          "align": "left",
          "font": {
           "color": "#000000"
          },
          "showarrow": false,
          "text": "Индия",
          "x": 1.55,
          "xanchor": "left",
          "xref": "x",
          "y": 1,
          "yref": "y"
         },
         {
          "align": "left",
          "font": {
           "color": "#000000"
          },
          "showarrow": false,
          "text": "Индия",
          "x": 2.55,
          "xanchor": "left",
          "xref": "x",
          "y": 1,
          "yref": "y"
         },
         {
          "align": "left",
          "font": {
           "color": "#000000"
          },
          "showarrow": false,
          "text": "Индия",
          "x": -0.45,
          "xanchor": "left",
          "xref": "x",
          "y": 2,
          "yref": "y"
         },
         {
          "align": "left",
          "font": {
           "color": "#000000"
          },
          "showarrow": false,
          "text": "США",
          "x": 0.55,
          "xanchor": "left",
          "xref": "x",
          "y": 2,
          "yref": "y"
         },
         {
          "align": "left",
          "font": {
           "color": "#000000"
          },
          "showarrow": false,
          "text": "Бразилия",
          "x": 1.55,
          "xanchor": "left",
          "xref": "x",
          "y": 2,
          "yref": "y"
         },
         {
          "align": "left",
          "font": {
           "color": "#000000"
          },
          "showarrow": false,
          "text": "Бразилия",
          "x": 2.55,
          "xanchor": "left",
          "xref": "x",
          "y": 2,
          "yref": "y"
         },
         {
          "align": "left",
          "font": {
           "color": "#000000"
          },
          "showarrow": false,
          "text": "Бразилия",
          "x": -0.45,
          "xanchor": "left",
          "xref": "x",
          "y": 3,
          "yref": "y"
         },
         {
          "align": "left",
          "font": {
           "color": "#000000"
          },
          "showarrow": false,
          "text": "Испания",
          "x": 0.55,
          "xanchor": "left",
          "xref": "x",
          "y": 3,
          "yref": "y"
         },
         {
          "align": "left",
          "font": {
           "color": "#000000"
          },
          "showarrow": false,
          "text": "США",
          "x": 1.55,
          "xanchor": "left",
          "xref": "x",
          "y": 3,
          "yref": "y"
         },
         {
          "align": "left",
          "font": {
           "color": "#000000"
          },
          "showarrow": false,
          "text": "США",
          "x": 2.55,
          "xanchor": "left",
          "xref": "x",
          "y": 3,
          "yref": "y"
         },
         {
          "align": "left",
          "font": {
           "color": "#000000"
          },
          "showarrow": false,
          "text": "Великобритания",
          "x": -0.45,
          "xanchor": "left",
          "xref": "x",
          "y": 4,
          "yref": "y"
         },
         {
          "align": "left",
          "font": {
           "color": "#000000"
          },
          "showarrow": false,
          "text": "Бразилия",
          "x": 0.55,
          "xanchor": "left",
          "xref": "x",
          "y": 4,
          "yref": "y"
         },
         {
          "align": "left",
          "font": {
           "color": "#000000"
          },
          "showarrow": false,
          "text": "Аргентина",
          "x": 1.55,
          "xanchor": "left",
          "xref": "x",
          "y": 4,
          "yref": "y"
         },
         {
          "align": "left",
          "font": {
           "color": "#000000"
          },
          "showarrow": false,
          "text": "Колумбия",
          "x": 2.55,
          "xanchor": "left",
          "xref": "x",
          "y": 4,
          "yref": "y"
         },
         {
          "align": "left",
          "font": {
           "color": "#000000"
          },
          "showarrow": false,
          "text": "Испания",
          "x": -0.45,
          "xanchor": "left",
          "xref": "x",
          "y": 5,
          "yref": "y"
         },
         {
          "align": "left",
          "font": {
           "color": "#000000"
          },
          "showarrow": false,
          "text": "Колумбия",
          "x": 0.55,
          "xanchor": "left",
          "xref": "x",
          "y": 5,
          "yref": "y"
         },
         {
          "align": "left",
          "font": {
           "color": "#000000"
          },
          "showarrow": false,
          "text": "Мексика",
          "x": 1.55,
          "xanchor": "left",
          "xref": "x",
          "y": 5,
          "yref": "y"
         },
         {
          "align": "left",
          "font": {
           "color": "#000000"
          },
          "showarrow": false,
          "text": "ЮАР",
          "x": 2.55,
          "xanchor": "left",
          "xref": "x",
          "y": 5,
          "yref": "y"
         },
         {
          "align": "left",
          "font": {
           "color": "#000000"
          },
          "showarrow": false,
          "text": "Россия",
          "x": -0.45,
          "xanchor": "left",
          "xref": "x",
          "y": 6,
          "yref": "y"
         },
         {
          "align": "left",
          "font": {
           "color": "#000000"
          },
          "showarrow": false,
          "text": "Перу",
          "x": 0.55,
          "xanchor": "left",
          "xref": "x",
          "y": 6,
          "yref": "y"
         },
         {
          "align": "left",
          "font": {
           "color": "#000000"
          },
          "showarrow": false,
          "text": "Колумбия",
          "x": 1.55,
          "xanchor": "left",
          "xref": "x",
          "y": 6,
          "yref": "y"
         },
         {
          "align": "left",
          "font": {
           "color": "#000000"
          },
          "showarrow": false,
          "text": "Мексика",
          "x": 2.55,
          "xanchor": "left",
          "xref": "x",
          "y": 6,
          "yref": "y"
         },
         {
          "align": "left",
          "font": {
           "color": "#000000"
          },
          "showarrow": false,
          "text": "Перу",
          "x": -0.45,
          "xanchor": "left",
          "xref": "x",
          "y": 7,
          "yref": "y"
         },
         {
          "align": "left",
          "font": {
           "color": "#000000"
          },
          "showarrow": false,
          "text": "Аргентина",
          "x": 0.55,
          "xanchor": "left",
          "xref": "x",
          "y": 7,
          "yref": "y"
         },
         {
          "align": "left",
          "font": {
           "color": "#000000"
          },
          "showarrow": false,
          "text": "Перу",
          "x": 1.55,
          "xanchor": "left",
          "xref": "x",
          "y": 7,
          "yref": "y"
         },
         {
          "align": "left",
          "font": {
           "color": "#000000"
          },
          "showarrow": false,
          "text": "Аргентина",
          "x": 2.55,
          "xanchor": "left",
          "xref": "x",
          "y": 7,
          "yref": "y"
         },
         {
          "align": "left",
          "font": {
           "color": "#000000"
          },
          "showarrow": false,
          "text": "Франция",
          "x": -0.45,
          "xanchor": "left",
          "xref": "x",
          "y": 8,
          "yref": "y"
         },
         {
          "align": "left",
          "font": {
           "color": "#000000"
          },
          "showarrow": false,
          "text": "Россия",
          "x": 0.55,
          "xanchor": "left",
          "xref": "x",
          "y": 8,
          "yref": "y"
         },
         {
          "align": "left",
          "font": {
           "color": "#000000"
          },
          "showarrow": false,
          "text": "Иран",
          "x": 1.55,
          "xanchor": "left",
          "xref": "x",
          "y": 8,
          "yref": "y"
         },
         {
          "align": "left",
          "font": {
           "color": "#000000"
          },
          "showarrow": false,
          "text": "Ирак",
          "x": 2.55,
          "xanchor": "left",
          "xref": "x",
          "y": 8,
          "yref": "y"
         },
         {
          "align": "left",
          "font": {
           "color": "#000000"
          },
          "showarrow": false,
          "text": "Колумбия",
          "x": -0.45,
          "xanchor": "left",
          "xref": "x",
          "y": 9,
          "yref": "y"
         },
         {
          "align": "left",
          "font": {
           "color": "#000000"
          },
          "showarrow": false,
          "text": "Филиппины",
          "x": 0.55,
          "xanchor": "left",
          "xref": "x",
          "y": 9,
          "yref": "y"
         },
         {
          "align": "left",
          "font": {
           "color": "#000000"
          },
          "showarrow": false,
          "text": "ЮАР",
          "x": 1.55,
          "xanchor": "left",
          "xref": "x",
          "y": 9,
          "yref": "y"
         },
         {
          "align": "left",
          "font": {
           "color": "#000000"
          },
          "showarrow": false,
          "text": "Бангладеш",
          "x": 2.55,
          "xanchor": "left",
          "xref": "x",
          "y": 9,
          "yref": "y"
         },
         {
          "align": "left",
          "font": {
           "color": "#000000"
          },
          "showarrow": false,
          "text": "Бангладеш",
          "x": -0.45,
          "xanchor": "left",
          "xref": "x",
          "y": 10,
          "yref": "y"
         },
         {
          "align": "left",
          "font": {
           "color": "#000000"
          },
          "showarrow": false,
          "text": "Ирак",
          "x": 0.55,
          "xanchor": "left",
          "xref": "x",
          "y": 10,
          "yref": "y"
         },
         {
          "align": "left",
          "font": {
           "color": "#000000"
          },
          "showarrow": false,
          "text": "Ирак",
          "x": 1.55,
          "xanchor": "left",
          "xref": "x",
          "y": 10,
          "yref": "y"
         },
         {
          "align": "left",
          "font": {
           "color": "#000000"
          },
          "showarrow": false,
          "text": "Индонезия",
          "x": 2.55,
          "xanchor": "left",
          "xref": "x",
          "y": 10,
          "yref": "y"
         },
         {
          "align": "left",
          "font": {
           "color": "#000000"
          },
          "showarrow": false,
          "text": "Аргентина",
          "x": -0.45,
          "xanchor": "left",
          "xref": "x",
          "y": 11,
          "yref": "y"
         },
         {
          "align": "left",
          "font": {
           "color": "#000000"
          },
          "showarrow": false,
          "text": "Мексика",
          "x": 0.55,
          "xanchor": "left",
          "xref": "x",
          "y": 11,
          "yref": "y"
         },
         {
          "align": "left",
          "font": {
           "color": "#000000"
          },
          "showarrow": false,
          "text": "Индонезия",
          "x": 1.55,
          "xanchor": "left",
          "xref": "x",
          "y": 11,
          "yref": "y"
         },
         {
          "align": "left",
          "font": {
           "color": "#000000"
          },
          "showarrow": false,
          "text": "Саудовская Аравия",
          "x": 2.55,
          "xanchor": "left",
          "xref": "x",
          "y": 11,
          "yref": "y"
         },
         {
          "align": "left",
          "font": {
           "color": "#000000"
          },
          "showarrow": false,
          "text": "ЮАР",
          "x": -0.45,
          "xanchor": "left",
          "xref": "x",
          "y": 12,
          "yref": "y"
         },
         {
          "align": "left",
          "font": {
           "color": "#000000"
          },
          "showarrow": false,
          "text": "Бангладеш",
          "x": 0.55,
          "xanchor": "left",
          "xref": "x",
          "y": 12,
          "yref": "y"
         },
         {
          "align": "left",
          "font": {
           "color": "#000000"
          },
          "showarrow": false,
          "text": "Боливия",
          "x": 1.55,
          "xanchor": "left",
          "xref": "x",
          "y": 12,
          "yref": "y"
         },
         {
          "align": "left",
          "font": {
           "color": "#000000"
          },
          "showarrow": false,
          "text": "Россия",
          "x": 2.55,
          "xanchor": "left",
          "xref": "x",
          "y": 12,
          "yref": "y"
         },
         {
          "align": "left",
          "font": {
           "color": "#000000"
          },
          "showarrow": false,
          "text": "Швеция",
          "x": -0.45,
          "xanchor": "left",
          "xref": "x",
          "y": 13,
          "yref": "y"
         },
         {
          "align": "left",
          "font": {
           "color": "#000000"
          },
          "showarrow": false,
          "text": "Иран",
          "x": 0.55,
          "xanchor": "left",
          "xref": "x",
          "y": 13,
          "yref": "y"
         },
         {
          "align": "left",
          "font": {
           "color": "#000000"
          },
          "showarrow": false,
          "text": "Россия",
          "x": 1.55,
          "xanchor": "left",
          "xref": "x",
          "y": 13,
          "yref": "y"
         },
         {
          "align": "left",
          "font": {
           "color": "#000000"
          },
          "showarrow": false,
          "text": "Коста-Рика",
          "x": 2.55,
          "xanchor": "left",
          "xref": "x",
          "y": 13,
          "yref": "y"
         },
         {
          "align": "left",
          "font": {
           "color": "#000000"
          },
          "showarrow": false,
          "text": "Нидерланды",
          "x": -0.45,
          "xanchor": "left",
          "xref": "x",
          "y": 14,
          "yref": "y"
         },
         {
          "align": "left",
          "font": {
           "color": "#000000"
          },
          "showarrow": false,
          "text": "Франция",
          "x": 0.55,
          "xanchor": "left",
          "xref": "x",
          "y": 14,
          "yref": "y"
         },
         {
          "align": "left",
          "font": {
           "color": "#000000"
          },
          "showarrow": false,
          "text": "Чили",
          "x": 1.55,
          "xanchor": "left",
          "xref": "x",
          "y": 14,
          "yref": "y"
         },
         {
          "align": "left",
          "font": {
           "color": "#000000"
          },
          "showarrow": false,
          "text": "Израиль",
          "x": 2.55,
          "xanchor": "left",
          "xref": "x",
          "y": 14,
          "yref": "y"
         },
         {
          "align": "left",
          "font": {
           "color": "#000000"
          },
          "showarrow": false,
          "text": "Филиппины",
          "x": -0.45,
          "xanchor": "left",
          "xref": "x",
          "y": 15,
          "yref": "y"
         },
         {
          "align": "left",
          "font": {
           "color": "#000000"
          },
          "showarrow": false,
          "text": "Чили",
          "x": 0.55,
          "xanchor": "left",
          "xref": "x",
          "y": 15,
          "yref": "y"
         },
         {
          "align": "left",
          "font": {
           "color": "#000000"
          },
          "showarrow": false,
          "text": "Бангладеш",
          "x": 1.55,
          "xanchor": "left",
          "xref": "x",
          "y": 15,
          "yref": "y"
         },
         {
          "align": "left",
          "font": {
           "color": "#000000"
          },
          "showarrow": false,
          "text": "Иран",
          "x": 2.55,
          "xanchor": "left",
          "xref": "x",
          "y": 15,
          "yref": "y"
         }
        ],
        "height": 600,
        "margin": {
         "b": 100,
         "l": 0,
         "r": 0,
         "t": 100
        },
        "template": {
         "data": {
          "pie": [
           {
            "automargin": true,
            "type": "pie"
           }
          ]
         },
         "layout": {
          "xaxis": {
           "showgrid": true,
           "title": {
            "standoff": 15
           }
          },
          "yaxis": {
           "showgrid": true,
           "title": {
            "standoff": 15
           }
          }
         }
        },
        "title": {
         "text": "Таблица рейтингов заболеваемости COVID-19 по странам",
         "x": 0.5,
         "xanchor": "center",
         "y": 0.95,
         "yanchor": "middle"
        },
        "width": 990,
        "xaxis": {
         "dtick": 1,
         "gridwidth": 2,
         "showticklabels": false,
         "tick0": -0.5,
         "ticks": "",
         "title": {
          "text": ""
         },
         "zeroline": false
        },
        "yaxis": {
         "autorange": "reversed",
         "dtick": 1,
         "gridwidth": 2,
         "showticklabels": false,
         "tick0": 0.5,
         "ticks": "",
         "title": {
          "text": ""
         },
         "zeroline": false
        }
       }
      }
     },
     "metadata": {}
    }
   ],
   "source": [
    "covid_rates = pd.DataFrame()\n",
    "mask = (X.Date==myday)&(X.Country!='Весь мир')\n",
    "today_cases = X[mask]\n",
    "#covid_rates.reset_index(drop=True)\n",
    "covid_rates['По количеству текущих больных'] = today_cases.sort_values(by=['Remaining_ill'],ascending = False).Country.reset_index(drop=True)\n",
    "covid_rates['По количеству новых'] = today_cases.sort_values(by=['Day_confirmed'],ascending = False).Country.reset_index(drop=True)\n",
    "covid_rates['По умершим за день'] = today_cases.sort_values(by=['Day_deaths'],ascending = False).Country.reset_index(drop=True)\n",
    "covid_rates['По выздоровевшим за день'] = today_cases.sort_values(by=['Day_recovered'],ascending = False).Country.reset_index(drop=True)\n",
    "covid_rates.head(10)\n",
    "fig =  ff.create_table(covid_rates.head(15))\n",
    "fig.update_layout(\n",
    "    \n",
    "                  title_text ='Таблица рейтингов заболеваемости COVID-19 по странам',\n",
    "                  margin = {'t':100, 'b':100},\n",
    "                  title_x = 0.5,\n",
    "                  title_y= 0.95,\n",
    "                  title_xanchor = \"center\",\n",
    "                  title_yanchor = \"middle\", \n",
    "                  \n",
    "                  width = 990, height = 600,template = 'gridon',\n",
    "    \n",
    "    \n",
    "                  xaxis_title='',yaxis_title = ''\n",
    ")\n",
    "\n",
    "\n",
    "fig.show()\n"
   ]
  },
  {
   "cell_type": "code",
   "execution_count": 10,
   "metadata": {},
   "outputs": [
    {
     "output_type": "execute_result",
     "data": {
      "text/plain": "['США', 'Индия', 'Бразилия', 'Великобритания', 'Испания']"
     },
     "metadata": {},
     "execution_count": 10
    }
   ],
   "source": [
    "country_number = 5\n",
    "country_towatch = list(covid_rates['По количеству текущих больных'].head(country_number))\n",
    "#country_towatch.append('Турция')\n",
    "#сountry_towatch.append('Танзания')\n",
    "country_towatch"
   ]
  },
  {
   "cell_type": "code",
   "execution_count": 11,
   "metadata": {},
   "outputs": [
    {
     "output_type": "display_data",
     "data": {
      "application/vnd.plotly.v1+json": {
       "config": {
        "plotlyServerURL": "https://plot.ly"
       },
       "data": [
        {
         "hovertemplate": "Страна:=Бразилия<br>Date=%{x}<br>Day_confirmed=%{y}<extra></extra>",
         "legendgroup": "Бразилия",
         "line": {
          "color": "magenta",
          "dash": "solid",
          "shape": "spline"
         },
         "mode": "lines",
         "name": "Бразилия",
         "orientation": "v",
         "showlegend": true,
         "type": "scatter",
         "x": [
          "2020-03-02",
          "2020-03-03",
          "2020-03-04",
          "2020-03-05",
          "2020-03-06",
          "2020-03-07",
          "2020-03-08",
          "2020-03-09",
          "2020-03-10",
          "2020-03-11",
          "2020-03-12",
          "2020-03-13",
          "2020-03-14",
          "2020-03-15",
          "2020-03-16",
          "2020-03-17",
          "2020-03-18",
          "2020-03-19",
          "2020-03-20",
          "2020-03-21",
          "2020-03-22",
          "2020-03-23",
          "2020-03-24",
          "2020-03-25",
          "2020-03-26",
          "2020-03-27",
          "2020-03-28",
          "2020-03-29",
          "2020-03-30",
          "2020-03-31",
          "2020-04-01",
          "2020-04-02",
          "2020-04-03",
          "2020-04-04",
          "2020-04-05",
          "2020-04-06",
          "2020-04-07",
          "2020-04-08",
          "2020-04-09",
          "2020-04-10",
          "2020-04-11",
          "2020-04-12",
          "2020-04-13",
          "2020-04-14",
          "2020-04-15",
          "2020-04-16",
          "2020-04-17",
          "2020-04-18",
          "2020-04-19",
          "2020-04-20",
          "2020-04-21",
          "2020-04-22",
          "2020-04-23",
          "2020-04-24",
          "2020-04-25",
          "2020-04-26",
          "2020-04-27",
          "2020-04-28",
          "2020-04-29",
          "2020-04-30",
          "2020-05-01",
          "2020-05-02",
          "2020-05-03",
          "2020-05-04",
          "2020-05-05",
          "2020-05-06",
          "2020-05-07",
          "2020-05-08",
          "2020-05-09",
          "2020-05-10",
          "2020-05-11",
          "2020-05-12",
          "2020-05-13",
          "2020-05-14",
          "2020-05-15",
          "2020-05-16",
          "2020-05-17",
          "2020-05-18",
          "2020-05-19",
          "2020-05-20",
          "2020-05-21",
          "2020-05-22",
          "2020-05-23",
          "2020-05-24",
          "2020-05-25",
          "2020-05-26",
          "2020-05-27",
          "2020-05-28",
          "2020-05-29",
          "2020-05-30",
          "2020-05-31",
          "2020-06-01",
          "2020-06-02",
          "2020-06-03",
          "2020-06-04",
          "2020-06-05",
          "2020-06-06",
          "2020-06-07",
          "2020-06-08",
          "2020-06-09",
          "2020-06-10",
          "2020-06-11",
          "2020-06-12",
          "2020-06-13",
          "2020-06-14",
          "2020-06-15",
          "2020-06-16",
          "2020-06-17",
          "2020-06-18",
          "2020-06-19",
          "2020-06-20",
          "2020-06-21",
          "2020-06-22",
          "2020-06-23",
          "2020-06-24",
          "2020-06-25",
          "2020-06-26",
          "2020-06-27",
          "2020-06-28",
          "2020-06-29",
          "2020-06-30",
          "2020-07-01",
          "2020-07-02",
          "2020-07-03",
          "2020-07-04",
          "2020-07-05",
          "2020-07-06",
          "2020-07-07",
          "2020-07-08",
          "2020-07-09",
          "2020-07-10",
          "2020-07-11",
          "2020-07-12",
          "2020-07-13",
          "2020-07-14",
          "2020-07-15",
          "2020-07-16",
          "2020-07-17",
          "2020-07-18",
          "2020-07-19",
          "2020-07-20",
          "2020-07-21",
          "2020-07-22",
          "2020-07-23",
          "2020-07-24",
          "2020-07-25",
          "2020-07-26",
          "2020-07-27",
          "2020-07-28",
          "2020-07-29",
          "2020-07-30",
          "2020-07-31",
          "2020-08-01",
          "2020-08-02",
          "2020-08-03",
          "2020-08-04",
          "2020-08-05",
          "2020-08-06",
          "2020-08-07",
          "2020-08-08",
          "2020-08-09",
          "2020-08-10",
          "2020-08-11",
          "2020-08-12",
          "2020-08-13",
          "2020-08-14",
          "2020-08-15",
          "2020-08-16",
          "2020-08-17",
          "2020-08-18",
          "2020-08-19",
          "2020-08-20",
          "2020-08-21",
          "2020-08-22",
          "2020-08-23",
          "2020-08-24"
         ],
         "xaxis": "x",
         "y": [
          0,
          0,
          2,
          0,
          9,
          0,
          7,
          5,
          6,
          7,
          14,
          99,
          0,
          11,
          38,
          121,
          51,
          249,
          172,
          228,
          525,
          378,
          323,
          307,
          431,
          432,
          487,
          352,
          323,
          1138,
          1119,
          1208,
          1012,
          1304,
          770,
          1031,
          1873,
          2136,
          1922,
          1546,
          1089,
          1465,
          1238,
          1832,
          3058,
          2105,
          3257,
          2976,
          1996,
          2089,
          2336,
          2678,
          4279,
          4007,
          5281,
          3776,
          4346,
          5789,
          6450,
          7502,
          5015,
          4898,
          4726,
          6794,
          6835,
          11156,
          9162,
          11121,
          9167,
          6638,
          6895,
          8620,
          11923,
          13028,
          17126,
          13220,
          7569,
          14288,
          16517,
          19694,
          18508,
          20803,
          16508,
          15813,
          11687,
          16324,
          20599,
          26417,
          26928,
          33274,
          16409,
          11598,
          28936,
          28633,
          30925,
          30830,
          27075,
          18912,
          15654,
          32091,
          32913,
          30412,
          25982,
          21704,
          17110,
          20647,
          34918,
          32188,
          22765,
          54771,
          34666,
          15762,
          23129,
          39436,
          42725,
          39483,
          46860,
          38693,
          30476,
          24052,
          33846,
          46712,
          48105,
          42223,
          37923,
          26051,
          20229,
          45305,
          44571,
          42619,
          45048,
          39023,
          24831,
          20286,
          41857,
          39924,
          45403,
          34177,
          28532,
          23529,
          20257,
          41008,
          67860,
          59961,
          55891,
          51147,
          24578,
          23284,
          40816,
          69074,
          57837,
          52383,
          45392,
          25800,
          16641,
          51603,
          57152,
          53139,
          50230,
          49970,
          23010,
          22048,
          52160,
          55155,
          60091,
          50644,
          41576,
          23101,
          19373,
          47784,
          49298,
          45323,
          30355,
          50032,
          23421,
          17078
         ],
         "yaxis": "y"
        },
        {
         "hovertemplate": "Страна:=Великобритания<br>Date=%{x}<br>Day_confirmed=%{y}<extra></extra>",
         "legendgroup": "Великобритания",
         "line": {
          "color": "green",
          "dash": "solid",
          "shape": "spline"
         },
         "mode": "lines",
         "name": "Великобритания",
         "orientation": "v",
         "showlegend": true,
         "type": "scatter",
         "x": [
          "2020-03-02",
          "2020-03-03",
          "2020-03-04",
          "2020-03-05",
          "2020-03-06",
          "2020-03-07",
          "2020-03-08",
          "2020-03-09",
          "2020-03-10",
          "2020-03-11",
          "2020-03-12",
          "2020-03-13",
          "2020-03-14",
          "2020-03-15",
          "2020-03-16",
          "2020-03-17",
          "2020-03-18",
          "2020-03-19",
          "2020-03-20",
          "2020-03-21",
          "2020-03-22",
          "2020-03-23",
          "2020-03-24",
          "2020-03-25",
          "2020-03-26",
          "2020-03-27",
          "2020-03-28",
          "2020-03-29",
          "2020-03-30",
          "2020-03-31",
          "2020-04-01",
          "2020-04-02",
          "2020-04-03",
          "2020-04-04",
          "2020-04-05",
          "2020-04-06",
          "2020-04-07",
          "2020-04-08",
          "2020-04-09",
          "2020-04-10",
          "2020-04-11",
          "2020-04-12",
          "2020-04-13",
          "2020-04-14",
          "2020-04-15",
          "2020-04-16",
          "2020-04-17",
          "2020-04-18",
          "2020-04-19",
          "2020-04-20",
          "2020-04-21",
          "2020-04-22",
          "2020-04-23",
          "2020-04-24",
          "2020-04-25",
          "2020-04-26",
          "2020-04-27",
          "2020-04-28",
          "2020-04-29",
          "2020-04-30",
          "2020-05-01",
          "2020-05-02",
          "2020-05-03",
          "2020-05-04",
          "2020-05-05",
          "2020-05-06",
          "2020-05-07",
          "2020-05-08",
          "2020-05-09",
          "2020-05-10",
          "2020-05-11",
          "2020-05-12",
          "2020-05-13",
          "2020-05-14",
          "2020-05-15",
          "2020-05-16",
          "2020-05-17",
          "2020-05-18",
          "2020-05-19",
          "2020-05-20",
          "2020-05-21",
          "2020-05-22",
          "2020-05-23",
          "2020-05-24",
          "2020-05-25",
          "2020-05-26",
          "2020-05-27",
          "2020-05-28",
          "2020-05-29",
          "2020-05-30",
          "2020-05-31",
          "2020-06-01",
          "2020-06-02",
          "2020-06-03",
          "2020-06-04",
          "2020-06-05",
          "2020-06-06",
          "2020-06-07",
          "2020-06-08",
          "2020-06-09",
          "2020-06-10",
          "2020-06-11",
          "2020-06-12",
          "2020-06-13",
          "2020-06-14",
          "2020-06-15",
          "2020-06-16",
          "2020-06-17",
          "2020-06-18",
          "2020-06-19",
          "2020-06-20",
          "2020-06-21",
          "2020-06-22",
          "2020-06-23",
          "2020-06-24",
          "2020-06-25",
          "2020-06-26",
          "2020-06-27",
          "2020-06-28",
          "2020-06-29",
          "2020-06-30",
          "2020-07-01",
          "2020-07-02",
          "2020-07-03",
          "2020-07-04",
          "2020-07-05",
          "2020-07-06",
          "2020-07-07",
          "2020-07-08",
          "2020-07-09",
          "2020-07-10",
          "2020-07-11",
          "2020-07-12",
          "2020-07-13",
          "2020-07-14",
          "2020-07-15",
          "2020-07-16",
          "2020-07-17",
          "2020-07-18",
          "2020-07-19",
          "2020-07-20",
          "2020-07-21",
          "2020-07-22",
          "2020-07-23",
          "2020-07-24",
          "2020-07-25",
          "2020-07-26",
          "2020-07-27",
          "2020-07-28",
          "2020-07-29",
          "2020-07-30",
          "2020-07-31",
          "2020-08-01",
          "2020-08-02",
          "2020-08-03",
          "2020-08-04",
          "2020-08-05",
          "2020-08-06",
          "2020-08-07",
          "2020-08-08",
          "2020-08-09",
          "2020-08-10",
          "2020-08-11",
          "2020-08-12",
          "2020-08-13",
          "2020-08-14",
          "2020-08-15",
          "2020-08-16",
          "2020-08-17",
          "2020-08-18",
          "2020-08-19",
          "2020-08-20",
          "2020-08-21",
          "2020-08-22",
          "2020-08-23",
          "2020-08-24"
         ],
         "xaxis": "x",
         "y": [
          40,
          55,
          57,
          49,
          79,
          55,
          54,
          147,
          259,
          412,
          489,
          480,
          364,
          443,
          615,
          770,
          1005,
          1066,
          1258,
          1215,
          1389,
          2349,
          2382,
          2717,
          3127,
          3249,
          2843,
          2892,
          4327,
          4534,
          4974,
          4929,
          4981,
          4073,
          3650,
          5316,
          5486,
          5163,
          4906,
          4367,
          3613,
          3539,
          4205,
          4348,
          5100,
          5343,
          4990,
          4736,
          3860,
          4866,
          4775,
          5505,
          5168,
          4981,
          3764,
          3473,
          4704,
          4727,
          5450,
          4964,
          4730,
          3230,
          2977,
          3383,
          3689,
          3836,
          3771,
          3052,
          2150,
          2322,
          3589,
          3395,
          3300,
          2618,
          2521,
          2072,
          1826,
          2577,
          3058,
          2712,
          2554,
          2041,
          1508,
          1355,
          1613,
          1659,
          1809,
          1736,
          1508,
          1107,
          1070,
          1444,
          1470,
          1349,
          1238,
          1110,
          794,
          718,
          1094,
          1159,
          1186,
          1007,
          1054,
          888,
          807,
          1031,
          1083,
          999,
          1020,
          984,
          666,
          624,
          892,
          882,
          777,
          697,
          639,
          634,
          407,
          620,
          404,
          63,
          6,
          502,
          625,
          519,
          359,
          584,
          637,
          643,
          524,
          826,
          650,
          537,
          1240,
          538,
          647,
          687,
          829,
          726,
          586,
          445,
          563,
          779,
          769,
          770,
          750,
          688,
          553,
          802,
          847,
          883,
          769,
          747,
          942,
          675,
          906,
          964,
          900,
          765,
          1113,
          818,
          1150,
          1039,
          1148,
          1461,
          1042,
          1111,
          721,
          1113,
          831,
          1195,
          1060,
          1332,
          1048,
          977
         ],
         "yaxis": "y"
        },
        {
         "hovertemplate": "Страна:=Индия<br>Date=%{x}<br>Day_confirmed=%{y}<extra></extra>",
         "legendgroup": "Индия",
         "line": {
          "color": "darkblue",
          "dash": "solid",
          "shape": "spline"
         },
         "mode": "lines",
         "name": "Индия",
         "orientation": "v",
         "showlegend": true,
         "type": "scatter",
         "x": [
          "2020-03-02",
          "2020-03-03",
          "2020-03-04",
          "2020-03-05",
          "2020-03-06",
          "2020-03-07",
          "2020-03-08",
          "2020-03-09",
          "2020-03-10",
          "2020-03-11",
          "2020-03-12",
          "2020-03-13",
          "2020-03-14",
          "2020-03-15",
          "2020-03-16",
          "2020-03-17",
          "2020-03-18",
          "2020-03-19",
          "2020-03-20",
          "2020-03-21",
          "2020-03-22",
          "2020-03-23",
          "2020-03-24",
          "2020-03-25",
          "2020-03-26",
          "2020-03-27",
          "2020-03-28",
          "2020-03-29",
          "2020-03-30",
          "2020-03-31",
          "2020-04-01",
          "2020-04-02",
          "2020-04-03",
          "2020-04-04",
          "2020-04-05",
          "2020-04-06",
          "2020-04-07",
          "2020-04-08",
          "2020-04-09",
          "2020-04-10",
          "2020-04-11",
          "2020-04-12",
          "2020-04-13",
          "2020-04-14",
          "2020-04-15",
          "2020-04-16",
          "2020-04-17",
          "2020-04-18",
          "2020-04-19",
          "2020-04-20",
          "2020-04-21",
          "2020-04-22",
          "2020-04-23",
          "2020-04-24",
          "2020-04-25",
          "2020-04-26",
          "2020-04-27",
          "2020-04-28",
          "2020-04-29",
          "2020-04-30",
          "2020-05-01",
          "2020-05-02",
          "2020-05-03",
          "2020-05-04",
          "2020-05-05",
          "2020-05-06",
          "2020-05-07",
          "2020-05-08",
          "2020-05-09",
          "2020-05-10",
          "2020-05-11",
          "2020-05-12",
          "2020-05-13",
          "2020-05-14",
          "2020-05-15",
          "2020-05-16",
          "2020-05-17",
          "2020-05-18",
          "2020-05-19",
          "2020-05-20",
          "2020-05-21",
          "2020-05-22",
          "2020-05-23",
          "2020-05-24",
          "2020-05-25",
          "2020-05-26",
          "2020-05-27",
          "2020-05-28",
          "2020-05-29",
          "2020-05-30",
          "2020-05-31",
          "2020-06-01",
          "2020-06-02",
          "2020-06-03",
          "2020-06-04",
          "2020-06-05",
          "2020-06-06",
          "2020-06-07",
          "2020-06-08",
          "2020-06-09",
          "2020-06-10",
          "2020-06-11",
          "2020-06-12",
          "2020-06-13",
          "2020-06-14",
          "2020-06-15",
          "2020-06-16",
          "2020-06-17",
          "2020-06-18",
          "2020-06-19",
          "2020-06-20",
          "2020-06-21",
          "2020-06-22",
          "2020-06-23",
          "2020-06-24",
          "2020-06-25",
          "2020-06-26",
          "2020-06-27",
          "2020-06-28",
          "2020-06-29",
          "2020-06-30",
          "2020-07-01",
          "2020-07-02",
          "2020-07-03",
          "2020-07-04",
          "2020-07-05",
          "2020-07-06",
          "2020-07-07",
          "2020-07-08",
          "2020-07-09",
          "2020-07-10",
          "2020-07-11",
          "2020-07-12",
          "2020-07-13",
          "2020-07-14",
          "2020-07-15",
          "2020-07-16",
          "2020-07-17",
          "2020-07-18",
          "2020-07-19",
          "2020-07-20",
          "2020-07-21",
          "2020-07-22",
          "2020-07-23",
          "2020-07-24",
          "2020-07-25",
          "2020-07-26",
          "2020-07-27",
          "2020-07-28",
          "2020-07-29",
          "2020-07-30",
          "2020-07-31",
          "2020-08-01",
          "2020-08-02",
          "2020-08-03",
          "2020-08-04",
          "2020-08-05",
          "2020-08-06",
          "2020-08-07",
          "2020-08-08",
          "2020-08-09",
          "2020-08-10",
          "2020-08-11",
          "2020-08-12",
          "2020-08-13",
          "2020-08-14",
          "2020-08-15",
          "2020-08-16",
          "2020-08-17",
          "2020-08-18",
          "2020-08-19",
          "2020-08-20",
          "2020-08-21",
          "2020-08-22",
          "2020-08-23",
          "2020-08-24"
         ],
         "xaxis": "x",
         "y": [
          2,
          0,
          23,
          2,
          1,
          3,
          5,
          4,
          13,
          6,
          11,
          9,
          20,
          11,
          6,
          23,
          14,
          38,
          50,
          86,
          66,
          103,
          37,
          121,
          70,
          160,
          100,
          37,
          227,
          146,
          601,
          545,
          24,
          515,
          506,
          1190,
          533,
          605,
          809,
          873,
          848,
          759,
          1248,
          1034,
          835,
          1108,
          922,
          1370,
          1893,
          924,
          1541,
          1290,
          1707,
          1453,
          1753,
          1607,
          1561,
          1873,
          1738,
          1801,
          2394,
          2442,
          2806,
          3932,
          2963,
          3587,
          3364,
          3344,
          3113,
          4353,
          3607,
          3524,
          3763,
          3942,
          3787,
          4864,
          5050,
          4630,
          6147,
          5553,
          6198,
          6568,
          6629,
          7113,
          6414,
          5843,
          7293,
          7300,
          8105,
          8336,
          8782,
          7761,
          8821,
          9633,
          9889,
          9471,
          10438,
          10864,
          8442,
          10218,
          10459,
          10930,
          11458,
          11929,
          11502,
          10667,
          10974,
          12881,
          13586,
          14516,
          15403,
          14831,
          14933,
          15968,
          16922,
          17296,
          18552,
          19906,
          19459,
          18522,
          18641,
          19160,
          20903,
          22771,
          24850,
          24248,
          22251,
          22753,
          24879,
          26506,
          27114,
          28606,
          28732,
          28498,
          29429,
          32676,
          34975,
          35252,
          38697,
          40425,
          37132,
          37740,
          45720,
          49310,
          48916,
          48611,
          49981,
          44457,
          51596,
          50294,
          52783,
          61242,
          54735,
          52972,
          52050,
          52509,
          56282,
          62538,
          61537,
          64399,
          62064,
          53601,
          60963,
          66999,
          64553,
          64732,
          64030,
          57711,
          55018,
          64572,
          69672,
          68900,
          69876,
          69239,
          61408,
          60975
         ],
         "yaxis": "y"
        },
        {
         "hovertemplate": "Страна:=Испания<br>Date=%{x}<br>Day_confirmed=%{y}<extra></extra>",
         "legendgroup": "Испания",
         "line": {
          "color": "aquamarine",
          "dash": "solid",
          "shape": "spline"
         },
         "mode": "lines",
         "name": "Испания",
         "orientation": "v",
         "showlegend": true,
         "type": "scatter",
         "x": [
          "2020-03-02",
          "2020-03-03",
          "2020-03-04",
          "2020-03-05",
          "2020-03-06",
          "2020-03-07",
          "2020-03-08",
          "2020-03-09",
          "2020-03-10",
          "2020-03-11",
          "2020-03-12",
          "2020-03-13",
          "2020-03-14",
          "2020-03-15",
          "2020-03-16",
          "2020-03-17",
          "2020-03-18",
          "2020-03-19",
          "2020-03-20",
          "2020-03-21",
          "2020-03-22",
          "2020-03-23",
          "2020-03-24",
          "2020-03-25",
          "2020-03-26",
          "2020-03-27",
          "2020-03-28",
          "2020-03-29",
          "2020-03-30",
          "2020-03-31",
          "2020-04-01",
          "2020-04-02",
          "2020-04-03",
          "2020-04-04",
          "2020-04-05",
          "2020-04-06",
          "2020-04-07",
          "2020-04-08",
          "2020-04-09",
          "2020-04-10",
          "2020-04-11",
          "2020-04-12",
          "2020-04-13",
          "2020-04-14",
          "2020-04-15",
          "2020-04-16",
          "2020-04-17",
          "2020-04-18",
          "2020-04-19",
          "2020-04-20",
          "2020-04-21",
          "2020-04-22",
          "2020-04-23",
          "2020-04-24",
          "2020-04-25",
          "2020-04-26",
          "2020-04-27",
          "2020-04-28",
          "2020-04-29",
          "2020-04-30",
          "2020-05-01",
          "2020-05-02",
          "2020-05-03",
          "2020-05-04",
          "2020-05-05",
          "2020-05-06",
          "2020-05-07",
          "2020-05-08",
          "2020-05-09",
          "2020-05-10",
          "2020-05-11",
          "2020-05-12",
          "2020-05-13",
          "2020-05-14",
          "2020-05-15",
          "2020-05-16",
          "2020-05-17",
          "2020-05-18",
          "2020-05-19",
          "2020-05-20",
          "2020-05-21",
          "2020-05-22",
          "2020-05-23",
          "2020-05-24",
          "2020-05-25",
          "2020-05-26",
          "2020-05-27",
          "2020-05-28",
          "2020-05-29",
          "2020-05-30",
          "2020-05-31",
          "2020-06-01",
          "2020-06-02",
          "2020-06-03",
          "2020-06-04",
          "2020-06-05",
          "2020-06-06",
          "2020-06-07",
          "2020-06-08",
          "2020-06-09",
          "2020-06-10",
          "2020-06-11",
          "2020-06-12",
          "2020-06-13",
          "2020-06-14",
          "2020-06-15",
          "2020-06-16",
          "2020-06-17",
          "2020-06-18",
          "2020-06-19",
          "2020-06-20",
          "2020-06-21",
          "2020-06-22",
          "2020-06-23",
          "2020-06-24",
          "2020-06-25",
          "2020-06-26",
          "2020-06-27",
          "2020-06-28",
          "2020-06-29",
          "2020-06-30",
          "2020-07-01",
          "2020-07-02",
          "2020-07-03",
          "2020-07-04",
          "2020-07-05",
          "2020-07-06",
          "2020-07-07",
          "2020-07-08",
          "2020-07-09",
          "2020-07-10",
          "2020-07-11",
          "2020-07-12",
          "2020-07-13",
          "2020-07-14",
          "2020-07-15",
          "2020-07-16",
          "2020-07-17",
          "2020-07-18",
          "2020-07-19",
          "2020-07-20",
          "2020-07-21",
          "2020-07-22",
          "2020-07-23",
          "2020-07-24",
          "2020-07-25",
          "2020-07-26",
          "2020-07-27",
          "2020-07-28",
          "2020-07-29",
          "2020-07-30",
          "2020-07-31",
          "2020-08-01",
          "2020-08-02",
          "2020-08-03",
          "2020-08-04",
          "2020-08-05",
          "2020-08-06",
          "2020-08-07",
          "2020-08-08",
          "2020-08-09",
          "2020-08-10",
          "2020-08-11",
          "2020-08-12",
          "2020-08-13",
          "2020-08-14",
          "2020-08-15",
          "2020-08-16",
          "2020-08-17",
          "2020-08-18",
          "2020-08-19",
          "2020-08-20",
          "2020-08-21",
          "2020-08-22",
          "2020-08-23",
          "2020-08-24"
         ],
         "xaxis": "x",
         "y": [
          36,
          45,
          57,
          37,
          141,
          100,
          173,
          400,
          622,
          582,
          0,
          2955,
          1159,
          1407,
          2144,
          1806,
          2162,
          4053,
          2447,
          4964,
          3394,
          6368,
          4749,
          9630,
          8271,
          7933,
          7516,
          6875,
          7846,
          7967,
          8195,
          7947,
          7134,
          6969,
          5478,
          5029,
          5267,
          6278,
          5002,
          5051,
          4754,
          3804,
          3268,
          2442,
          5103,
          7304,
          5891,
          887,
          6948,
          1536,
          3968,
          4211,
          4635,
          -10034,
          2915,
          1729,
          1831,
          1308,
          2144,
          518,
          1781,
          1366,
          884,
          545,
          1318,
          996,
          1122,
          1410,
          721,
          772,
          3086,
          594,
          661,
          849,
          643,
          515,
          0,
          908,
          431,
          518,
          482,
          1787,
          466,
          482,
          -372,
          859,
          0,
          1647,
          658,
          664,
          251,
          159,
          294,
          394,
          334,
          318,
          332,
          240,
          167,
          249,
          314,
          427,
          502,
          396,
          323,
          181,
          219,
          355,
          585,
          307,
          363,
          334,
          232,
          248,
          334,
          400,
          419,
          564,
          301,
          200,
          301,
          388,
          444,
          442,
          0,
          0,
          1244,
          341,
          383,
          543,
          852,
          0,
          0,
          2045,
          666,
          875,
          1361,
          1400,
          0,
          0,
          4581,
          1358,
          1357,
          2615,
          2255,
          0,
          0,
          6361,
          1828,
          2031,
          2789,
          3092,
          0,
          0,
          8532,
          5760,
          2953,
          4088,
          4507,
          0,
          0,
          8618,
          3632,
          3172,
          7550,
          5479,
          0,
          0,
          16269,
          5114,
          6671,
          7039,
          8148,
          0,
          0,
          19382
         ],
         "yaxis": "y"
        },
        {
         "hovertemplate": "Страна:=США<br>Date=%{x}<br>Day_confirmed=%{y}<extra></extra>",
         "legendgroup": "США",
         "line": {
          "color": "red",
          "dash": "solid",
          "shape": "spline"
         },
         "mode": "lines",
         "name": "США",
         "orientation": "v",
         "showlegend": true,
         "type": "scatter",
         "x": [
          "2020-03-02",
          "2020-03-03",
          "2020-03-04",
          "2020-03-05",
          "2020-03-06",
          "2020-03-07",
          "2020-03-08",
          "2020-03-09",
          "2020-03-10",
          "2020-03-11",
          "2020-03-12",
          "2020-03-13",
          "2020-03-14",
          "2020-03-15",
          "2020-03-16",
          "2020-03-17",
          "2020-03-18",
          "2020-03-19",
          "2020-03-20",
          "2020-03-21",
          "2020-03-22",
          "2020-03-23",
          "2020-03-24",
          "2020-03-25",
          "2020-03-26",
          "2020-03-27",
          "2020-03-28",
          "2020-03-29",
          "2020-03-30",
          "2020-03-31",
          "2020-04-01",
          "2020-04-02",
          "2020-04-03",
          "2020-04-04",
          "2020-04-05",
          "2020-04-06",
          "2020-04-07",
          "2020-04-08",
          "2020-04-09",
          "2020-04-10",
          "2020-04-11",
          "2020-04-12",
          "2020-04-13",
          "2020-04-14",
          "2020-04-15",
          "2020-04-16",
          "2020-04-17",
          "2020-04-18",
          "2020-04-19",
          "2020-04-20",
          "2020-04-21",
          "2020-04-22",
          "2020-04-23",
          "2020-04-24",
          "2020-04-25",
          "2020-04-26",
          "2020-04-27",
          "2020-04-28",
          "2020-04-29",
          "2020-04-30",
          "2020-05-01",
          "2020-05-02",
          "2020-05-03",
          "2020-05-04",
          "2020-05-05",
          "2020-05-06",
          "2020-05-07",
          "2020-05-08",
          "2020-05-09",
          "2020-05-10",
          "2020-05-11",
          "2020-05-12",
          "2020-05-13",
          "2020-05-14",
          "2020-05-15",
          "2020-05-16",
          "2020-05-17",
          "2020-05-18",
          "2020-05-19",
          "2020-05-20",
          "2020-05-21",
          "2020-05-22",
          "2020-05-23",
          "2020-05-24",
          "2020-05-25",
          "2020-05-26",
          "2020-05-27",
          "2020-05-28",
          "2020-05-29",
          "2020-05-30",
          "2020-05-31",
          "2020-06-01",
          "2020-06-02",
          "2020-06-03",
          "2020-06-04",
          "2020-06-05",
          "2020-06-06",
          "2020-06-07",
          "2020-06-08",
          "2020-06-09",
          "2020-06-10",
          "2020-06-11",
          "2020-06-12",
          "2020-06-13",
          "2020-06-14",
          "2020-06-15",
          "2020-06-16",
          "2020-06-17",
          "2020-06-18",
          "2020-06-19",
          "2020-06-20",
          "2020-06-21",
          "2020-06-22",
          "2020-06-23",
          "2020-06-24",
          "2020-06-25",
          "2020-06-26",
          "2020-06-27",
          "2020-06-28",
          "2020-06-29",
          "2020-06-30",
          "2020-07-01",
          "2020-07-02",
          "2020-07-03",
          "2020-07-04",
          "2020-07-05",
          "2020-07-06",
          "2020-07-07",
          "2020-07-08",
          "2020-07-09",
          "2020-07-10",
          "2020-07-11",
          "2020-07-12",
          "2020-07-13",
          "2020-07-14",
          "2020-07-15",
          "2020-07-16",
          "2020-07-17",
          "2020-07-18",
          "2020-07-19",
          "2020-07-20",
          "2020-07-21",
          "2020-07-22",
          "2020-07-23",
          "2020-07-24",
          "2020-07-25",
          "2020-07-26",
          "2020-07-27",
          "2020-07-28",
          "2020-07-29",
          "2020-07-30",
          "2020-07-31",
          "2020-08-01",
          "2020-08-02",
          "2020-08-03",
          "2020-08-04",
          "2020-08-05",
          "2020-08-06",
          "2020-08-07",
          "2020-08-08",
          "2020-08-09",
          "2020-08-10",
          "2020-08-11",
          "2020-08-12",
          "2020-08-13",
          "2020-08-14",
          "2020-08-15",
          "2020-08-16",
          "2020-08-17",
          "2020-08-18",
          "2020-08-19",
          "2020-08-20",
          "2020-08-21",
          "2020-08-22",
          "2020-08-23",
          "2020-08-24"
         ],
         "xaxis": "x",
         "y": [
          23,
          20,
          31,
          70,
          48,
          115,
          114,
          68,
          192,
          398,
          452,
          596,
          713,
          98,
          1392,
          1781,
          2776,
          5240,
          5322,
          6346,
          7936,
          10089,
          10262,
          11943,
          18036,
          18185,
          19793,
          19136,
          21502,
          26017,
          25481,
          30405,
          31937,
          33152,
          27874,
          29642,
          30777,
          31694,
          34756,
          33501,
          30026,
          28553,
          25291,
          27065,
          29096,
          31298,
          32724,
          28341,
          26038,
          27341,
          25602,
          28104,
          34195,
          36291,
          32921,
          27689,
          22465,
          24535,
          27520,
          29629,
          34162,
          29195,
          25587,
          22475,
          24185,
          25256,
          27882,
          27178,
          25733,
          19764,
          18878,
          22190,
          20958,
          27617,
          25300,
          25101,
          19004,
          21769,
          20449,
          23807,
          25355,
          24141,
          21823,
          20813,
          18991,
          18883,
          18282,
          22815,
          24504,
          24450,
          19910,
          17355,
          20895,
          19958,
          21351,
          25224,
          22732,
          17731,
          17415,
          18127,
          20794,
          22950,
          25330,
          25556,
          19824,
          19660,
          23705,
          25559,
          27809,
          31480,
          32749,
          26439,
          30536,
          35188,
          34935,
          39873,
          45255,
          42705,
          39605,
          40804,
          45746,
          51174,
          54461,
          53312,
          45880,
          49883,
          44953,
          60021,
          58601,
          63247,
          67791,
          60188,
          59017,
          59215,
          67417,
          67328,
          77255,
          71558,
          63698,
          61847,
          61417,
          64534,
          70910,
          68695,
          73715,
          66439,
          54953,
          56414,
          65869,
          70776,
          68033,
          67092,
          58485,
          47580,
          45368,
          57540,
          52810,
          59692,
          58173,
          56174,
          46935,
          49536,
          46808,
          56203,
          51547,
          64294,
          47913,
          42048,
          35112,
          44091,
          47408,
          44023,
          48693,
          44572,
          34567,
          38045
         ],
         "yaxis": "y"
        }
       ],
       "layout": {
        "annotations": [
         {
          "showarrow": false,
          "text": "Данные: Яндекс",
          "x": 0.5,
          "xref": "paper",
          "y": -0.15,
          "yref": "paper"
         }
        ],
        "height": 600,
        "legend": {
         "title": {
          "text": "Страна:"
         },
         "tracegroupgap": 0
        },
        "template": {
         "data": {
          "pie": [
           {
            "automargin": true,
            "type": "pie"
           }
          ]
         },
         "layout": {
          "xaxis": {
           "showgrid": true,
           "title": {
            "standoff": 15
           }
          },
          "yaxis": {
           "showgrid": true,
           "title": {
            "standoff": 15
           }
          }
         }
        },
        "title": {
         "text": "График количества новых заболевших COVID-19 по 5 странам<br> с наибольшим количеством текущих больных",
         "x": 0.5,
         "xanchor": "center",
         "y": 0.9,
         "yanchor": "bottom"
        },
        "width": 990,
        "xaxis": {
         "anchor": "y",
         "domain": [
          0,
          1
         ],
         "title": {
          "text": ""
         }
        },
        "yaxis": {
         "anchor": "x",
         "domain": [
          0,
          1
         ],
         "title": {
          "text": ""
         }
        }
       }
      }
     },
     "metadata": {}
    }
   ],
   "source": [
    "mask = (X.Date>datetime.date(2020,3,1))&(X.Country.isin(country_towatch))\n",
    "#mask = (X.Region.isin(regions_towatch))\n",
    "\n",
    "fig = px.line(X[mask], y=\"Day_confirmed\", x=\"Date\",\n",
    "                             color=\"Country\", line_group=\"Country\",\n",
    "              line_shape=\"spline\", render_mode=\"notebook\",labels={'Country':'Страна:'},\n",
    "              color_discrete_map={\n",
    "                \"США\": \"red\",\n",
    "                \"Бразилия\": \"magenta\",\n",
    "                \"Россия\": \"goldenrod\",\n",
    "                \"Индия\": \"darkblue\",\n",
    "                \"Великобритания\": \"green\",\n",
    "                 'Испания': 'aquamarine'},\n",
    "             title=\"График количества новых заболевших COVID-19 по 5 странам<br> с наибольшим количеством текущих больных\")\n",
    "\n",
    "fig.update_layout(\n",
    "    annotations=[\n",
    "            dict(\n",
    "            x=0.5,\n",
    "            y=-0.15,\n",
    "            showarrow=False,\n",
    "            text=\"Данные: Яндекс\",\n",
    "            xref=\"paper\",\n",
    "            yref=\"paper\")],\n",
    "           \n",
    "                  title_x = 0.5,\n",
    "                  title_y= 0.9,\n",
    "                  title_xanchor = \"center\",\n",
    "                  title_yanchor = \"bottom\", \n",
    "                  \n",
    "                  width = 990, height = 600,template = 'gridon',\n",
    "    \n",
    "    \n",
    "                  xaxis_title='',yaxis_title = ''\n",
    ")\n",
    "\n",
    "\n",
    "fig.show()"
   ]
  },
  {
   "cell_type": "code",
   "execution_count": 12,
   "metadata": {},
   "outputs": [
    {
     "output_type": "display_data",
     "data": {
      "application/vnd.plotly.v1+json": {
       "config": {
        "plotlyServerURL": "https://plot.ly"
       },
       "data": [
        {
         "marker": {
          "color": "red"
         },
         "name": "США",
         "showlegend": true,
         "text": [
          null,
          null,
          null,
          null,
          null,
          null,
          null,
          1.5,
          0,
          0.5,
          1,
          1,
          null,
          2,
          1,
          1,
          0,
          0,
          0,
          0,
          null,
          null,
          null,
          null,
          1,
          1,
          0,
          0,
          0,
          0,
          null,
          null,
          null,
          null,
          0,
          0,
          0.5,
          0.5,
          null,
          null,
          37,
          57,
          8.889,
          9.6,
          4.568,
          4.632,
          4.338,
          2.396,
          2.893,
          2.924,
          3.199,
          4.748,
          4.415,
          2.408,
          2.522,
          2.432,
          2.801,
          6.019,
          5.402,
          4.941,
          4.108,
          2.654,
          2.291,
          2.044,
          2.026,
          1.968,
          1.962,
          1.868,
          1.562,
          1.48,
          1.356,
          1.376,
          1.448,
          1.399,
          1.339,
          1.186,
          1.067,
          0.992,
          1.028,
          1.066,
          1.07,
          1.057,
          0.925,
          0.849,
          0.846,
          0.889,
          1.024,
          1.095,
          1.076,
          1.015,
          0.893,
          0.882,
          0.973,
          1.085,
          1.225,
          1.224,
          1.036,
          0.866,
          0.777,
          0.794,
          0.971,
          1.12,
          1.16,
          1.07,
          0.876,
          0.809,
          0.842,
          0.938,
          1.045,
          1.031,
          0.917,
          0.828,
          0.771,
          0.891,
          1.049,
          1.143,
          1.186,
          1.017,
          0.899,
          0.859,
          0.942,
          1.028,
          1.102,
          1.084,
          0.939,
          0.859,
          0.809,
          0.857,
          0.985,
          1.119,
          1.191,
          1.092,
          0.978,
          0.867,
          0.868,
          1.014,
          1.081,
          1.114,
          1.045,
          0.869,
          0.83,
          0.911,
          1.049,
          1.245,
          1.265,
          1.14,
          1.018,
          0.938,
          1.033,
          1.201,
          1.325,
          1.335,
          1.253,
          1.151,
          1.081,
          1.186,
          1.281,
          1.303,
          1.317,
          1.198,
          1.088,
          1.089,
          1.148,
          1.216,
          1.213,
          1.148,
          1.01,
          0.981,
          1.042,
          1.114,
          1.287,
          1.245,
          1.172,
          1.085,
          0.985,
          1.013,
          1.084,
          1.152,
          1.138,
          1.085,
          0.953,
          0.887,
          0.924,
          0.968,
          1.075,
          1.112,
          1.02,
          0.947,
          0.877,
          0.887,
          0.99,
          1.081,
          1.085,
          0.972,
          0.837,
          0.769,
          0.769,
          0.893,
          1.044,
          1.086,
          1.087,
          0.979,
          0.874,
          0.879,
          0.924,
          1.038,
          1.103,
          1.032,
          0.928,
          0.773,
          0.767,
          0.829,
          0.973,
          1.092,
          1.019,
          0.972
         ],
         "textposition": "inside",
         "type": "bar",
         "x": [
          "2020-01-22",
          "2020-01-23",
          "2020-01-24",
          "2020-01-25",
          "2020-01-26",
          "2020-01-27",
          "2020-01-28",
          "2020-01-29",
          "2020-01-30",
          "2020-01-31",
          "2020-02-01",
          "2020-02-02",
          "2020-02-03",
          "2020-02-04",
          "2020-02-05",
          "2020-02-06",
          "2020-02-07",
          "2020-02-08",
          "2020-02-09",
          "2020-02-10",
          "2020-02-11",
          "2020-02-12",
          "2020-02-13",
          "2020-02-14",
          "2020-02-15",
          "2020-02-16",
          "2020-02-17",
          "2020-02-18",
          "2020-02-19",
          "2020-02-20",
          "2020-02-21",
          "2020-02-22",
          "2020-02-23",
          "2020-02-24",
          "2020-02-25",
          "2020-02-26",
          "2020-02-27",
          "2020-02-28",
          "2020-02-29",
          "2020-03-01",
          "2020-03-02",
          "2020-03-03",
          "2020-03-04",
          "2020-03-05",
          "2020-03-06",
          "2020-03-07",
          "2020-03-08",
          "2020-03-09",
          "2020-03-10",
          "2020-03-11",
          "2020-03-12",
          "2020-03-13",
          "2020-03-14",
          "2020-03-15",
          "2020-03-16",
          "2020-03-17",
          "2020-03-18",
          "2020-03-19",
          "2020-03-20",
          "2020-03-21",
          "2020-03-22",
          "2020-03-23",
          "2020-03-24",
          "2020-03-25",
          "2020-03-26",
          "2020-03-27",
          "2020-03-28",
          "2020-03-29",
          "2020-03-30",
          "2020-03-31",
          "2020-04-01",
          "2020-04-02",
          "2020-04-03",
          "2020-04-04",
          "2020-04-05",
          "2020-04-06",
          "2020-04-07",
          "2020-04-08",
          "2020-04-09",
          "2020-04-10",
          "2020-04-11",
          "2020-04-12",
          "2020-04-13",
          "2020-04-14",
          "2020-04-15",
          "2020-04-16",
          "2020-04-17",
          "2020-04-18",
          "2020-04-19",
          "2020-04-20",
          "2020-04-21",
          "2020-04-22",
          "2020-04-23",
          "2020-04-24",
          "2020-04-25",
          "2020-04-26",
          "2020-04-27",
          "2020-04-28",
          "2020-04-29",
          "2020-04-30",
          "2020-05-01",
          "2020-05-02",
          "2020-05-03",
          "2020-05-04",
          "2020-05-05",
          "2020-05-06",
          "2020-05-07",
          "2020-05-08",
          "2020-05-09",
          "2020-05-10",
          "2020-05-11",
          "2020-05-12",
          "2020-05-13",
          "2020-05-14",
          "2020-05-15",
          "2020-05-16",
          "2020-05-17",
          "2020-05-18",
          "2020-05-19",
          "2020-05-20",
          "2020-05-21",
          "2020-05-22",
          "2020-05-23",
          "2020-05-24",
          "2020-05-25",
          "2020-05-26",
          "2020-05-27",
          "2020-05-28",
          "2020-05-29",
          "2020-05-30",
          "2020-05-31",
          "2020-06-01",
          "2020-06-02",
          "2020-06-03",
          "2020-06-04",
          "2020-06-05",
          "2020-06-06",
          "2020-06-07",
          "2020-06-08",
          "2020-06-09",
          "2020-06-10",
          "2020-06-11",
          "2020-06-12",
          "2020-06-13",
          "2020-06-14",
          "2020-06-15",
          "2020-06-16",
          "2020-06-17",
          "2020-06-18",
          "2020-06-19",
          "2020-06-20",
          "2020-06-21",
          "2020-06-22",
          "2020-06-23",
          "2020-06-24",
          "2020-06-25",
          "2020-06-26",
          "2020-06-27",
          "2020-06-28",
          "2020-06-29",
          "2020-06-30",
          "2020-07-01",
          "2020-07-02",
          "2020-07-03",
          "2020-07-04",
          "2020-07-05",
          "2020-07-06",
          "2020-07-07",
          "2020-07-08",
          "2020-07-09",
          "2020-07-10",
          "2020-07-11",
          "2020-07-12",
          "2020-07-13",
          "2020-07-14",
          "2020-07-15",
          "2020-07-16",
          "2020-07-17",
          "2020-07-18",
          "2020-07-19",
          "2020-07-20",
          "2020-07-21",
          "2020-07-22",
          "2020-07-23",
          "2020-07-24",
          "2020-07-25",
          "2020-07-26",
          "2020-07-27",
          "2020-07-28",
          "2020-07-29",
          "2020-07-30",
          "2020-07-31",
          "2020-08-01",
          "2020-08-02",
          "2020-08-03",
          "2020-08-04",
          "2020-08-05",
          "2020-08-06",
          "2020-08-07",
          "2020-08-08",
          "2020-08-09",
          "2020-08-10",
          "2020-08-11",
          "2020-08-12",
          "2020-08-13",
          "2020-08-14",
          "2020-08-15",
          "2020-08-16",
          "2020-08-17",
          "2020-08-18",
          "2020-08-19",
          "2020-08-20",
          "2020-08-21",
          "2020-08-22",
          "2020-08-23",
          "2020-08-24"
         ],
         "y": [
          null,
          null,
          null,
          null,
          null,
          null,
          null,
          1.5,
          0,
          0.5,
          1,
          1,
          null,
          2,
          1,
          1,
          0,
          0,
          0,
          0,
          null,
          null,
          null,
          null,
          1,
          1,
          0,
          0,
          0,
          0,
          null,
          null,
          null,
          null,
          0,
          0,
          0.5,
          0.5,
          null,
          null,
          37,
          57,
          8.889,
          9.6,
          4.568,
          4.632,
          4.338,
          2.396,
          2.893,
          2.924,
          3.199,
          4.748,
          4.415,
          2.408,
          2.522,
          2.432,
          2.801,
          6.019,
          5.402,
          4.941,
          4.108,
          2.654,
          2.291,
          2.044,
          2.026,
          1.968,
          1.962,
          1.868,
          1.562,
          1.48,
          1.356,
          1.376,
          1.448,
          1.399,
          1.339,
          1.186,
          1.067,
          0.992,
          1.028,
          1.066,
          1.07,
          1.057,
          0.925,
          0.849,
          0.846,
          0.889,
          1.024,
          1.095,
          1.076,
          1.015,
          0.893,
          0.882,
          0.973,
          1.085,
          1.225,
          1.224,
          1.036,
          0.866,
          0.777,
          0.794,
          0.971,
          1.12,
          1.16,
          1.07,
          0.876,
          0.809,
          0.842,
          0.938,
          1.045,
          1.031,
          0.917,
          0.828,
          0.771,
          0.891,
          1.049,
          1.143,
          1.186,
          1.017,
          0.899,
          0.859,
          0.942,
          1.028,
          1.102,
          1.084,
          0.939,
          0.859,
          0.809,
          0.857,
          0.985,
          1.119,
          1.191,
          1.092,
          0.978,
          0.867,
          0.868,
          1.014,
          1.081,
          1.114,
          1.045,
          0.869,
          0.83,
          0.911,
          1.049,
          1.245,
          1.265,
          1.14,
          1.018,
          0.938,
          1.033,
          1.201,
          1.325,
          1.335,
          1.253,
          1.151,
          1.081,
          1.186,
          1.281,
          1.303,
          1.317,
          1.198,
          1.088,
          1.089,
          1.148,
          1.216,
          1.213,
          1.148,
          1.01,
          0.981,
          1.042,
          1.114,
          1.287,
          1.245,
          1.172,
          1.085,
          0.985,
          1.013,
          1.084,
          1.152,
          1.138,
          1.085,
          0.953,
          0.887,
          0.924,
          0.968,
          1.075,
          1.112,
          1.02,
          0.947,
          0.877,
          0.887,
          0.99,
          1.081,
          1.085,
          0.972,
          0.837,
          0.769,
          0.769,
          0.893,
          1.044,
          1.086,
          1.087,
          0.979,
          0.874,
          0.879,
          0.924,
          1.038,
          1.103,
          1.032,
          0.928,
          0.773,
          0.767,
          0.829,
          0.973,
          1.092,
          1.019,
          0.972
         ]
        },
        {
         "marker": {
          "color": "darkblue"
         },
         "name": "Индия",
         "showlegend": true,
         "text": [
          null,
          null,
          null,
          null,
          null,
          null,
          null,
          null,
          null,
          null,
          null,
          null,
          2,
          2,
          2,
          0.5,
          0,
          0,
          0,
          0,
          null,
          null,
          null,
          null,
          null,
          null,
          null,
          null,
          null,
          null,
          null,
          null,
          null,
          null,
          null,
          null,
          null,
          null,
          null,
          null,
          null,
          null,
          null,
          null,
          13,
          14.5,
          0.44,
          0.481,
          0.962,
          0.966,
          3.091,
          3,
          1.84,
          1.821,
          1.353,
          1.538,
          1.174,
          1.588,
          2.717,
          3.133,
          4.444,
          3.765,
          2.336,
          1.739,
          1.379,
          1.272,
          1.545,
          1.122,
          1.583,
          1.314,
          2.242,
          4.139,
          2.511,
          3.304,
          1.573,
          1.471,
          2.085,
          1.682,
          1.973,
          1.262,
          1.142,
          1.161,
          1.188,
          1.379,
          1.236,
          1.285,
          1.046,
          1.089,
          1.366,
          1.209,
          1.469,
          1.334,
          1.032,
          1.173,
          1.083,
          1.154,
          1.167,
          1.134,
          1.093,
          1.069,
          1.225,
          1.233,
          1.393,
          1.66,
          1.556,
          1.587,
          1.466,
          1.145,
          1.104,
          1.067,
          1.041,
          1.101,
          1.137,
          1.047,
          1.042,
          1.121,
          1.157,
          1.236,
          1.378,
          1.307,
          1.277,
          1.335,
          1.206,
          1.24,
          1.186,
          1.063,
          1.069,
          1.013,
          1.068,
          1.194,
          1.22,
          1.228,
          1.181,
          1.128,
          1.11,
          1.146,
          1.17,
          1.162,
          1.086,
          1.057,
          1.014,
          0.985,
          1.098,
          1.12,
          1.146,
          1.138,
          1.047,
          1.028,
          1.05,
          1.141,
          1.251,
          1.268,
          1.241,
          1.177,
          1.111,
          1.116,
          1.152,
          1.189,
          1.2,
          1.174,
          1.113,
          1.043,
          1.027,
          1.066,
          1.146,
          1.224,
          1.219,
          1.155,
          1.074,
          1.039,
          1.076,
          1.138,
          1.179,
          1.172,
          1.138,
          1.114,
          1.132,
          1.172,
          1.228,
          1.252,
          1.206,
          1.164,
          1.137,
          1.138,
          1.199,
          1.25,
          1.222,
          1.13,
          1.071,
          1.02,
          1.012,
          1.125,
          1.125,
          1.129,
          1.11,
          0.983,
          0.976,
          1.007,
          1.054,
          1.153,
          1.172,
          1.082,
          1.035,
          0.995,
          0.982,
          1.065,
          1.08,
          1.03,
          0.981,
          0.938,
          0.949,
          1.028,
          1.131,
          1.151,
          1.091,
          1.013
         ],
         "textposition": "inside",
         "type": "bar",
         "x": [
          "2020-01-22",
          "2020-01-23",
          "2020-01-24",
          "2020-01-25",
          "2020-01-26",
          "2020-01-27",
          "2020-01-28",
          "2020-01-29",
          "2020-01-30",
          "2020-01-31",
          "2020-02-01",
          "2020-02-02",
          "2020-02-03",
          "2020-02-04",
          "2020-02-05",
          "2020-02-06",
          "2020-02-07",
          "2020-02-08",
          "2020-02-09",
          "2020-02-10",
          "2020-02-11",
          "2020-02-12",
          "2020-02-13",
          "2020-02-14",
          "2020-02-15",
          "2020-02-16",
          "2020-02-17",
          "2020-02-18",
          "2020-02-19",
          "2020-02-20",
          "2020-02-21",
          "2020-02-22",
          "2020-02-23",
          "2020-02-24",
          "2020-02-25",
          "2020-02-26",
          "2020-02-27",
          "2020-02-28",
          "2020-02-29",
          "2020-03-01",
          "2020-03-02",
          "2020-03-03",
          "2020-03-04",
          "2020-03-05",
          "2020-03-06",
          "2020-03-07",
          "2020-03-08",
          "2020-03-09",
          "2020-03-10",
          "2020-03-11",
          "2020-03-12",
          "2020-03-13",
          "2020-03-14",
          "2020-03-15",
          "2020-03-16",
          "2020-03-17",
          "2020-03-18",
          "2020-03-19",
          "2020-03-20",
          "2020-03-21",
          "2020-03-22",
          "2020-03-23",
          "2020-03-24",
          "2020-03-25",
          "2020-03-26",
          "2020-03-27",
          "2020-03-28",
          "2020-03-29",
          "2020-03-30",
          "2020-03-31",
          "2020-04-01",
          "2020-04-02",
          "2020-04-03",
          "2020-04-04",
          "2020-04-05",
          "2020-04-06",
          "2020-04-07",
          "2020-04-08",
          "2020-04-09",
          "2020-04-10",
          "2020-04-11",
          "2020-04-12",
          "2020-04-13",
          "2020-04-14",
          "2020-04-15",
          "2020-04-16",
          "2020-04-17",
          "2020-04-18",
          "2020-04-19",
          "2020-04-20",
          "2020-04-21",
          "2020-04-22",
          "2020-04-23",
          "2020-04-24",
          "2020-04-25",
          "2020-04-26",
          "2020-04-27",
          "2020-04-28",
          "2020-04-29",
          "2020-04-30",
          "2020-05-01",
          "2020-05-02",
          "2020-05-03",
          "2020-05-04",
          "2020-05-05",
          "2020-05-06",
          "2020-05-07",
          "2020-05-08",
          "2020-05-09",
          "2020-05-10",
          "2020-05-11",
          "2020-05-12",
          "2020-05-13",
          "2020-05-14",
          "2020-05-15",
          "2020-05-16",
          "2020-05-17",
          "2020-05-18",
          "2020-05-19",
          "2020-05-20",
          "2020-05-21",
          "2020-05-22",
          "2020-05-23",
          "2020-05-24",
          "2020-05-25",
          "2020-05-26",
          "2020-05-27",
          "2020-05-28",
          "2020-05-29",
          "2020-05-30",
          "2020-05-31",
          "2020-06-01",
          "2020-06-02",
          "2020-06-03",
          "2020-06-04",
          "2020-06-05",
          "2020-06-06",
          "2020-06-07",
          "2020-06-08",
          "2020-06-09",
          "2020-06-10",
          "2020-06-11",
          "2020-06-12",
          "2020-06-13",
          "2020-06-14",
          "2020-06-15",
          "2020-06-16",
          "2020-06-17",
          "2020-06-18",
          "2020-06-19",
          "2020-06-20",
          "2020-06-21",
          "2020-06-22",
          "2020-06-23",
          "2020-06-24",
          "2020-06-25",
          "2020-06-26",
          "2020-06-27",
          "2020-06-28",
          "2020-06-29",
          "2020-06-30",
          "2020-07-01",
          "2020-07-02",
          "2020-07-03",
          "2020-07-04",
          "2020-07-05",
          "2020-07-06",
          "2020-07-07",
          "2020-07-08",
          "2020-07-09",
          "2020-07-10",
          "2020-07-11",
          "2020-07-12",
          "2020-07-13",
          "2020-07-14",
          "2020-07-15",
          "2020-07-16",
          "2020-07-17",
          "2020-07-18",
          "2020-07-19",
          "2020-07-20",
          "2020-07-21",
          "2020-07-22",
          "2020-07-23",
          "2020-07-24",
          "2020-07-25",
          "2020-07-26",
          "2020-07-27",
          "2020-07-28",
          "2020-07-29",
          "2020-07-30",
          "2020-07-31",
          "2020-08-01",
          "2020-08-02",
          "2020-08-03",
          "2020-08-04",
          "2020-08-05",
          "2020-08-06",
          "2020-08-07",
          "2020-08-08",
          "2020-08-09",
          "2020-08-10",
          "2020-08-11",
          "2020-08-12",
          "2020-08-13",
          "2020-08-14",
          "2020-08-15",
          "2020-08-16",
          "2020-08-17",
          "2020-08-18",
          "2020-08-19",
          "2020-08-20",
          "2020-08-21",
          "2020-08-22",
          "2020-08-23",
          "2020-08-24"
         ],
         "y": [
          null,
          null,
          null,
          null,
          null,
          null,
          null,
          null,
          null,
          null,
          null,
          null,
          2,
          2,
          2,
          0.5,
          0,
          0,
          0,
          0,
          null,
          null,
          null,
          null,
          null,
          null,
          null,
          null,
          null,
          null,
          null,
          null,
          null,
          null,
          null,
          null,
          null,
          null,
          null,
          null,
          null,
          null,
          null,
          null,
          13,
          14.5,
          0.44,
          0.481,
          0.962,
          0.966,
          3.091,
          3,
          1.84,
          1.821,
          1.353,
          1.538,
          1.174,
          1.588,
          2.717,
          3.133,
          4.444,
          3.765,
          2.336,
          1.739,
          1.379,
          1.272,
          1.545,
          1.122,
          1.583,
          1.314,
          2.242,
          4.139,
          2.511,
          3.304,
          1.573,
          1.471,
          2.085,
          1.682,
          1.973,
          1.262,
          1.142,
          1.161,
          1.188,
          1.379,
          1.236,
          1.285,
          1.046,
          1.089,
          1.366,
          1.209,
          1.469,
          1.334,
          1.032,
          1.173,
          1.083,
          1.154,
          1.167,
          1.134,
          1.093,
          1.069,
          1.225,
          1.233,
          1.393,
          1.66,
          1.556,
          1.587,
          1.466,
          1.145,
          1.104,
          1.067,
          1.041,
          1.101,
          1.137,
          1.047,
          1.042,
          1.121,
          1.157,
          1.236,
          1.378,
          1.307,
          1.277,
          1.335,
          1.206,
          1.24,
          1.186,
          1.063,
          1.069,
          1.013,
          1.068,
          1.194,
          1.22,
          1.228,
          1.181,
          1.128,
          1.11,
          1.146,
          1.17,
          1.162,
          1.086,
          1.057,
          1.014,
          0.985,
          1.098,
          1.12,
          1.146,
          1.138,
          1.047,
          1.028,
          1.05,
          1.141,
          1.251,
          1.268,
          1.241,
          1.177,
          1.111,
          1.116,
          1.152,
          1.189,
          1.2,
          1.174,
          1.113,
          1.043,
          1.027,
          1.066,
          1.146,
          1.224,
          1.219,
          1.155,
          1.074,
          1.039,
          1.076,
          1.138,
          1.179,
          1.172,
          1.138,
          1.114,
          1.132,
          1.172,
          1.228,
          1.252,
          1.206,
          1.164,
          1.137,
          1.138,
          1.199,
          1.25,
          1.222,
          1.13,
          1.071,
          1.02,
          1.012,
          1.125,
          1.125,
          1.129,
          1.11,
          0.983,
          0.976,
          1.007,
          1.054,
          1.153,
          1.172,
          1.082,
          1.035,
          0.995,
          0.982,
          1.065,
          1.08,
          1.03,
          0.981,
          0.938,
          0.949,
          1.028,
          1.131,
          1.151,
          1.091,
          1.013
         ]
        },
        {
         "marker": {
          "color": "magenta"
         },
         "name": "Бразилия",
         "showlegend": true,
         "text": [
          null,
          null,
          null,
          null,
          null,
          null,
          null,
          null,
          null,
          null,
          null,
          null,
          null,
          null,
          null,
          null,
          null,
          null,
          null,
          null,
          null,
          null,
          null,
          null,
          null,
          null,
          null,
          null,
          null,
          null,
          null,
          null,
          null,
          null,
          null,
          null,
          null,
          null,
          null,
          1,
          1,
          1,
          1,
          2,
          11,
          11,
          8,
          10.5,
          1.636,
          2.273,
          2,
          6,
          6.667,
          4.96,
          4.625,
          1.349,
          1.842,
          3.702,
          4.007,
          4.118,
          5.312,
          2.839,
          2.452,
          2.19,
          1.226,
          1.146,
          1.14,
          1.11,
          1.108,
          1.541,
          1.769,
          2.226,
          2.809,
          2.019,
          1.465,
          1.087,
          1.112,
          1.251,
          1.621,
          1.816,
          1.345,
          1.036,
          0.767,
          0.752,
          1.134,
          1.367,
          1.921,
          2.026,
          1.361,
          1.253,
          0.917,
          0.798,
          1.101,
          1.289,
          1.729,
          1.906,
          1.53,
          1.443,
          1.253,
          1.389,
          1.422,
          1.243,
          1.087,
          0.89,
          0.939,
          1.237,
          1.533,
          1.786,
          1.746,
          1.223,
          0.996,
          0.818,
          0.839,
          1.121,
          1.499,
          1.766,
          1.495,
          1.29,
          1.018,
          1.05,
          1.355,
          1.447,
          1.464,
          1.234,
          0.939,
          0.799,
          0.853,
          1.047,
          1.393,
          1.777,
          1.599,
          1.176,
          0.999,
          0.798,
          0.972,
          1.353,
          1.302,
          1.259,
          0.924,
          0.786,
          0.848,
          1.031,
          1.313,
          1.184,
          0.956,
          0.769,
          0.777,
          0.945,
          1.161,
          1.693,
          1.53,
          1.22,
          1.161,
          0.781,
          0.838,
          1.131,
          1.313,
          1.485,
          1.285,
          0.968,
          0.754,
          0.805,
          0.982,
          1.22,
          1.377,
          1.142,
          0.828,
          0.758,
          0.778,
          0.99,
          1.404,
          1.322,
          1.113,
          0.846,
          0.71,
          0.741,
          0.973,
          1.249,
          1.175,
          1.037,
          0.722,
          0.702,
          1.031,
          1.436,
          2.11,
          2.072,
          1.255,
          0.819,
          0.622,
          0.672,
          0.997,
          1.421,
          1.607,
          1.15,
          0.734,
          0.633,
          0.673,
          0.984,
          1.513,
          1.51,
          1.166,
          0.814,
          0.694,
          0.724,
          1.074,
          1.501,
          1.41,
          1.151,
          0.711,
          0.605,
          0.673,
          0.922,
          1.283,
          1.327,
          1.069,
          0.747
         ],
         "textposition": "inside",
         "type": "bar",
         "x": [
          "2020-01-22",
          "2020-01-23",
          "2020-01-24",
          "2020-01-25",
          "2020-01-26",
          "2020-01-27",
          "2020-01-28",
          "2020-01-29",
          "2020-01-30",
          "2020-01-31",
          "2020-02-01",
          "2020-02-02",
          "2020-02-03",
          "2020-02-04",
          "2020-02-05",
          "2020-02-06",
          "2020-02-07",
          "2020-02-08",
          "2020-02-09",
          "2020-02-10",
          "2020-02-11",
          "2020-02-12",
          "2020-02-13",
          "2020-02-14",
          "2020-02-15",
          "2020-02-16",
          "2020-02-17",
          "2020-02-18",
          "2020-02-19",
          "2020-02-20",
          "2020-02-21",
          "2020-02-22",
          "2020-02-23",
          "2020-02-24",
          "2020-02-25",
          "2020-02-26",
          "2020-02-27",
          "2020-02-28",
          "2020-02-29",
          "2020-03-01",
          "2020-03-02",
          "2020-03-03",
          "2020-03-04",
          "2020-03-05",
          "2020-03-06",
          "2020-03-07",
          "2020-03-08",
          "2020-03-09",
          "2020-03-10",
          "2020-03-11",
          "2020-03-12",
          "2020-03-13",
          "2020-03-14",
          "2020-03-15",
          "2020-03-16",
          "2020-03-17",
          "2020-03-18",
          "2020-03-19",
          "2020-03-20",
          "2020-03-21",
          "2020-03-22",
          "2020-03-23",
          "2020-03-24",
          "2020-03-25",
          "2020-03-26",
          "2020-03-27",
          "2020-03-28",
          "2020-03-29",
          "2020-03-30",
          "2020-03-31",
          "2020-04-01",
          "2020-04-02",
          "2020-04-03",
          "2020-04-04",
          "2020-04-05",
          "2020-04-06",
          "2020-04-07",
          "2020-04-08",
          "2020-04-09",
          "2020-04-10",
          "2020-04-11",
          "2020-04-12",
          "2020-04-13",
          "2020-04-14",
          "2020-04-15",
          "2020-04-16",
          "2020-04-17",
          "2020-04-18",
          "2020-04-19",
          "2020-04-20",
          "2020-04-21",
          "2020-04-22",
          "2020-04-23",
          "2020-04-24",
          "2020-04-25",
          "2020-04-26",
          "2020-04-27",
          "2020-04-28",
          "2020-04-29",
          "2020-04-30",
          "2020-05-01",
          "2020-05-02",
          "2020-05-03",
          "2020-05-04",
          "2020-05-05",
          "2020-05-06",
          "2020-05-07",
          "2020-05-08",
          "2020-05-09",
          "2020-05-10",
          "2020-05-11",
          "2020-05-12",
          "2020-05-13",
          "2020-05-14",
          "2020-05-15",
          "2020-05-16",
          "2020-05-17",
          "2020-05-18",
          "2020-05-19",
          "2020-05-20",
          "2020-05-21",
          "2020-05-22",
          "2020-05-23",
          "2020-05-24",
          "2020-05-25",
          "2020-05-26",
          "2020-05-27",
          "2020-05-28",
          "2020-05-29",
          "2020-05-30",
          "2020-05-31",
          "2020-06-01",
          "2020-06-02",
          "2020-06-03",
          "2020-06-04",
          "2020-06-05",
          "2020-06-06",
          "2020-06-07",
          "2020-06-08",
          "2020-06-09",
          "2020-06-10",
          "2020-06-11",
          "2020-06-12",
          "2020-06-13",
          "2020-06-14",
          "2020-06-15",
          "2020-06-16",
          "2020-06-17",
          "2020-06-18",
          "2020-06-19",
          "2020-06-20",
          "2020-06-21",
          "2020-06-22",
          "2020-06-23",
          "2020-06-24",
          "2020-06-25",
          "2020-06-26",
          "2020-06-27",
          "2020-06-28",
          "2020-06-29",
          "2020-06-30",
          "2020-07-01",
          "2020-07-02",
          "2020-07-03",
          "2020-07-04",
          "2020-07-05",
          "2020-07-06",
          "2020-07-07",
          "2020-07-08",
          "2020-07-09",
          "2020-07-10",
          "2020-07-11",
          "2020-07-12",
          "2020-07-13",
          "2020-07-14",
          "2020-07-15",
          "2020-07-16",
          "2020-07-17",
          "2020-07-18",
          "2020-07-19",
          "2020-07-20",
          "2020-07-21",
          "2020-07-22",
          "2020-07-23",
          "2020-07-24",
          "2020-07-25",
          "2020-07-26",
          "2020-07-27",
          "2020-07-28",
          "2020-07-29",
          "2020-07-30",
          "2020-07-31",
          "2020-08-01",
          "2020-08-02",
          "2020-08-03",
          "2020-08-04",
          "2020-08-05",
          "2020-08-06",
          "2020-08-07",
          "2020-08-08",
          "2020-08-09",
          "2020-08-10",
          "2020-08-11",
          "2020-08-12",
          "2020-08-13",
          "2020-08-14",
          "2020-08-15",
          "2020-08-16",
          "2020-08-17",
          "2020-08-18",
          "2020-08-19",
          "2020-08-20",
          "2020-08-21",
          "2020-08-22",
          "2020-08-23",
          "2020-08-24"
         ],
         "y": [
          null,
          null,
          null,
          null,
          null,
          null,
          null,
          null,
          null,
          null,
          null,
          null,
          null,
          null,
          null,
          null,
          null,
          null,
          null,
          null,
          null,
          null,
          null,
          null,
          null,
          null,
          null,
          null,
          null,
          null,
          null,
          null,
          null,
          null,
          null,
          null,
          null,
          null,
          null,
          1,
          1,
          1,
          1,
          2,
          11,
          11,
          8,
          10.5,
          1.636,
          2.273,
          2,
          6,
          6.667,
          4.96,
          4.625,
          1.349,
          1.842,
          3.702,
          4.007,
          4.118,
          5.312,
          2.839,
          2.452,
          2.19,
          1.226,
          1.146,
          1.14,
          1.11,
          1.108,
          1.541,
          1.769,
          2.226,
          2.809,
          2.019,
          1.465,
          1.087,
          1.112,
          1.251,
          1.621,
          1.816,
          1.345,
          1.036,
          0.767,
          0.752,
          1.134,
          1.367,
          1.921,
          2.026,
          1.361,
          1.253,
          0.917,
          0.798,
          1.101,
          1.289,
          1.729,
          1.906,
          1.53,
          1.443,
          1.253,
          1.389,
          1.422,
          1.243,
          1.087,
          0.89,
          0.939,
          1.237,
          1.533,
          1.786,
          1.746,
          1.223,
          0.996,
          0.818,
          0.839,
          1.121,
          1.499,
          1.766,
          1.495,
          1.29,
          1.018,
          1.05,
          1.355,
          1.447,
          1.464,
          1.234,
          0.939,
          0.799,
          0.853,
          1.047,
          1.393,
          1.777,
          1.599,
          1.176,
          0.999,
          0.798,
          0.972,
          1.353,
          1.302,
          1.259,
          0.924,
          0.786,
          0.848,
          1.031,
          1.313,
          1.184,
          0.956,
          0.769,
          0.777,
          0.945,
          1.161,
          1.693,
          1.53,
          1.22,
          1.161,
          0.781,
          0.838,
          1.131,
          1.313,
          1.485,
          1.285,
          0.968,
          0.754,
          0.805,
          0.982,
          1.22,
          1.377,
          1.142,
          0.828,
          0.758,
          0.778,
          0.99,
          1.404,
          1.322,
          1.113,
          0.846,
          0.71,
          0.741,
          0.973,
          1.249,
          1.175,
          1.037,
          0.722,
          0.702,
          1.031,
          1.436,
          2.11,
          2.072,
          1.255,
          0.819,
          0.622,
          0.672,
          0.997,
          1.421,
          1.607,
          1.15,
          0.734,
          0.633,
          0.673,
          0.984,
          1.513,
          1.51,
          1.166,
          0.814,
          0.694,
          0.724,
          1.074,
          1.501,
          1.41,
          1.151,
          0.711,
          0.605,
          0.673,
          0.922,
          1.283,
          1.327,
          1.069,
          0.747
         ]
        },
        {
         "marker": {
          "color": "green"
         },
         "name": "Великобритания",
         "showlegend": true,
         "text": [
          null,
          null,
          null,
          null,
          null,
          null,
          null,
          null,
          null,
          null,
          null,
          null,
          null,
          3,
          3.5,
          3.5,
          0.125,
          0.833,
          0.714,
          0.714,
          6,
          0.6,
          0.6,
          0.8,
          0.5,
          0.667,
          0.667,
          0.25,
          0.667,
          2,
          2,
          4,
          4,
          2,
          2.75,
          3.5,
          2,
          3.25,
          2.455,
          4.071,
          5.625,
          5.115,
          6.852,
          3.526,
          2.667,
          1.805,
          1.281,
          1.667,
          2.146,
          3.633,
          5.515,
          4.896,
          3.388,
          2.037,
          1.455,
          1.337,
          1.623,
          1.946,
          2.155,
          2.073,
          1.739,
          1.797,
          1.789,
          1.945,
          2.146,
          1.848,
          1.627,
          1.37,
          1.259,
          1.272,
          1.401,
          1.549,
          1.459,
          1.299,
          1.054,
          0.96,
          0.954,
          1.035,
          1.184,
          1.106,
          0.974,
          0.837,
          0.753,
          0.788,
          0.953,
          1.157,
          1.258,
          1.284,
          1.101,
          0.971,
          0.922,
          0.942,
          1.073,
          1.107,
          1.065,
          0.915,
          0.833,
          0.816,
          0.945,
          1.141,
          1.174,
          1.102,
          0.866,
          0.722,
          0.668,
          0.756,
          0.923,
          1.002,
          0.965,
          0.813,
          0.757,
          0.798,
          0.984,
          1.142,
          1.065,
          0.918,
          0.717,
          0.697,
          0.806,
          0.968,
          1.206,
          1.152,
          0.925,
          0.733,
          0.598,
          0.592,
          0.73,
          0.914,
          1.03,
          1.004,
          0.842,
          0.752,
          0.758,
          0.866,
          1.015,
          1.007,
          0.882,
          0.724,
          0.676,
          0.729,
          0.926,
          1.152,
          1.186,
          1.098,
          0.904,
          0.85,
          0.865,
          0.948,
          1.1,
          1.081,
          0.963,
          0.84,
          0.766,
          0.75,
          0.865,
          0.986,
          0.946,
          0.897,
          0.749,
          0.708,
          0.689,
          0.544,
          0.46,
          0.424,
          0.579,
          1.106,
          1.834,
          2.141,
          1.755,
          1.346,
          1.191,
          1.26,
          1.259,
          1.141,
          1.362,
          1.127,
          1.121,
          1.227,
          0.83,
          0.974,
          0.955,
          0.831,
          0.859,
          0.821,
          0.904,
          1.114,
          1.322,
          1.255,
          1.08,
          0.969,
          0.942,
          1.036,
          1.196,
          1.162,
          1.156,
          1.016,
          0.991,
          1.074,
          1.031,
          1.128,
          1.144,
          1.031,
          1.116,
          1.165,
          1.11,
          1.334,
          1.219,
          1.156,
          1.043,
          0.831,
          0.805,
          0.811,
          0.969,
          1.108,
          1.227,
          1.144
         ],
         "textposition": "inside",
         "type": "bar",
         "x": [
          "2020-01-22",
          "2020-01-23",
          "2020-01-24",
          "2020-01-25",
          "2020-01-26",
          "2020-01-27",
          "2020-01-28",
          "2020-01-29",
          "2020-01-30",
          "2020-01-31",
          "2020-02-01",
          "2020-02-02",
          "2020-02-03",
          "2020-02-04",
          "2020-02-05",
          "2020-02-06",
          "2020-02-07",
          "2020-02-08",
          "2020-02-09",
          "2020-02-10",
          "2020-02-11",
          "2020-02-12",
          "2020-02-13",
          "2020-02-14",
          "2020-02-15",
          "2020-02-16",
          "2020-02-17",
          "2020-02-18",
          "2020-02-19",
          "2020-02-20",
          "2020-02-21",
          "2020-02-22",
          "2020-02-23",
          "2020-02-24",
          "2020-02-25",
          "2020-02-26",
          "2020-02-27",
          "2020-02-28",
          "2020-02-29",
          "2020-03-01",
          "2020-03-02",
          "2020-03-03",
          "2020-03-04",
          "2020-03-05",
          "2020-03-06",
          "2020-03-07",
          "2020-03-08",
          "2020-03-09",
          "2020-03-10",
          "2020-03-11",
          "2020-03-12",
          "2020-03-13",
          "2020-03-14",
          "2020-03-15",
          "2020-03-16",
          "2020-03-17",
          "2020-03-18",
          "2020-03-19",
          "2020-03-20",
          "2020-03-21",
          "2020-03-22",
          "2020-03-23",
          "2020-03-24",
          "2020-03-25",
          "2020-03-26",
          "2020-03-27",
          "2020-03-28",
          "2020-03-29",
          "2020-03-30",
          "2020-03-31",
          "2020-04-01",
          "2020-04-02",
          "2020-04-03",
          "2020-04-04",
          "2020-04-05",
          "2020-04-06",
          "2020-04-07",
          "2020-04-08",
          "2020-04-09",
          "2020-04-10",
          "2020-04-11",
          "2020-04-12",
          "2020-04-13",
          "2020-04-14",
          "2020-04-15",
          "2020-04-16",
          "2020-04-17",
          "2020-04-18",
          "2020-04-19",
          "2020-04-20",
          "2020-04-21",
          "2020-04-22",
          "2020-04-23",
          "2020-04-24",
          "2020-04-25",
          "2020-04-26",
          "2020-04-27",
          "2020-04-28",
          "2020-04-29",
          "2020-04-30",
          "2020-05-01",
          "2020-05-02",
          "2020-05-03",
          "2020-05-04",
          "2020-05-05",
          "2020-05-06",
          "2020-05-07",
          "2020-05-08",
          "2020-05-09",
          "2020-05-10",
          "2020-05-11",
          "2020-05-12",
          "2020-05-13",
          "2020-05-14",
          "2020-05-15",
          "2020-05-16",
          "2020-05-17",
          "2020-05-18",
          "2020-05-19",
          "2020-05-20",
          "2020-05-21",
          "2020-05-22",
          "2020-05-23",
          "2020-05-24",
          "2020-05-25",
          "2020-05-26",
          "2020-05-27",
          "2020-05-28",
          "2020-05-29",
          "2020-05-30",
          "2020-05-31",
          "2020-06-01",
          "2020-06-02",
          "2020-06-03",
          "2020-06-04",
          "2020-06-05",
          "2020-06-06",
          "2020-06-07",
          "2020-06-08",
          "2020-06-09",
          "2020-06-10",
          "2020-06-11",
          "2020-06-12",
          "2020-06-13",
          "2020-06-14",
          "2020-06-15",
          "2020-06-16",
          "2020-06-17",
          "2020-06-18",
          "2020-06-19",
          "2020-06-20",
          "2020-06-21",
          "2020-06-22",
          "2020-06-23",
          "2020-06-24",
          "2020-06-25",
          "2020-06-26",
          "2020-06-27",
          "2020-06-28",
          "2020-06-29",
          "2020-06-30",
          "2020-07-01",
          "2020-07-02",
          "2020-07-03",
          "2020-07-04",
          "2020-07-05",
          "2020-07-06",
          "2020-07-07",
          "2020-07-08",
          "2020-07-09",
          "2020-07-10",
          "2020-07-11",
          "2020-07-12",
          "2020-07-13",
          "2020-07-14",
          "2020-07-15",
          "2020-07-16",
          "2020-07-17",
          "2020-07-18",
          "2020-07-19",
          "2020-07-20",
          "2020-07-21",
          "2020-07-22",
          "2020-07-23",
          "2020-07-24",
          "2020-07-25",
          "2020-07-26",
          "2020-07-27",
          "2020-07-28",
          "2020-07-29",
          "2020-07-30",
          "2020-07-31",
          "2020-08-01",
          "2020-08-02",
          "2020-08-03",
          "2020-08-04",
          "2020-08-05",
          "2020-08-06",
          "2020-08-07",
          "2020-08-08",
          "2020-08-09",
          "2020-08-10",
          "2020-08-11",
          "2020-08-12",
          "2020-08-13",
          "2020-08-14",
          "2020-08-15",
          "2020-08-16",
          "2020-08-17",
          "2020-08-18",
          "2020-08-19",
          "2020-08-20",
          "2020-08-21",
          "2020-08-22",
          "2020-08-23",
          "2020-08-24"
         ],
         "y": [
          null,
          null,
          null,
          null,
          null,
          null,
          null,
          null,
          null,
          null,
          null,
          null,
          null,
          3,
          3.5,
          3.5,
          0.125,
          0.833,
          0.714,
          0.714,
          6,
          0.6,
          0.6,
          0.8,
          0.5,
          0.667,
          0.667,
          0.25,
          0.667,
          2,
          2,
          4,
          4,
          2,
          2.75,
          3.5,
          2,
          3.25,
          2.455,
          4.071,
          5.625,
          5.115,
          6.852,
          3.526,
          2.667,
          1.805,
          1.281,
          1.667,
          2.146,
          3.633,
          5.515,
          4.896,
          3.388,
          2.037,
          1.455,
          1.337,
          1.623,
          1.946,
          2.155,
          2.073,
          1.739,
          1.797,
          1.789,
          1.945,
          2.146,
          1.848,
          1.627,
          1.37,
          1.259,
          1.272,
          1.401,
          1.549,
          1.459,
          1.299,
          1.054,
          0.96,
          0.954,
          1.035,
          1.184,
          1.106,
          0.974,
          0.837,
          0.753,
          0.788,
          0.953,
          1.157,
          1.258,
          1.284,
          1.101,
          0.971,
          0.922,
          0.942,
          1.073,
          1.107,
          1.065,
          0.915,
          0.833,
          0.816,
          0.945,
          1.141,
          1.174,
          1.102,
          0.866,
          0.722,
          0.668,
          0.756,
          0.923,
          1.002,
          0.965,
          0.813,
          0.757,
          0.798,
          0.984,
          1.142,
          1.065,
          0.918,
          0.717,
          0.697,
          0.806,
          0.968,
          1.206,
          1.152,
          0.925,
          0.733,
          0.598,
          0.592,
          0.73,
          0.914,
          1.03,
          1.004,
          0.842,
          0.752,
          0.758,
          0.866,
          1.015,
          1.007,
          0.882,
          0.724,
          0.676,
          0.729,
          0.926,
          1.152,
          1.186,
          1.098,
          0.904,
          0.85,
          0.865,
          0.948,
          1.1,
          1.081,
          0.963,
          0.84,
          0.766,
          0.75,
          0.865,
          0.986,
          0.946,
          0.897,
          0.749,
          0.708,
          0.689,
          0.544,
          0.46,
          0.424,
          0.579,
          1.106,
          1.834,
          2.141,
          1.755,
          1.346,
          1.191,
          1.26,
          1.259,
          1.141,
          1.362,
          1.127,
          1.121,
          1.227,
          0.83,
          0.974,
          0.955,
          0.831,
          0.859,
          0.821,
          0.904,
          1.114,
          1.322,
          1.255,
          1.08,
          0.969,
          0.942,
          1.036,
          1.196,
          1.162,
          1.156,
          1.016,
          0.991,
          1.074,
          1.031,
          1.128,
          1.144,
          1.031,
          1.116,
          1.165,
          1.11,
          1.334,
          1.219,
          1.156,
          1.043,
          0.831,
          0.805,
          0.811,
          0.969,
          1.108,
          1.227,
          1.144
         ]
        },
        {
         "marker": {
          "color": "aquamarine"
         },
         "name": "Испания",
         "showlegend": true,
         "text": [
          null,
          null,
          null,
          null,
          null,
          null,
          null,
          null,
          null,
          null,
          null,
          null,
          null,
          null,
          0,
          0,
          0,
          0,
          null,
          null,
          null,
          null,
          0,
          0,
          0,
          0,
          null,
          null,
          null,
          null,
          null,
          null,
          null,
          null,
          null,
          null,
          null,
          null,
          9.75,
          6.455,
          8.077,
          4.433,
          4.538,
          2.465,
          2.667,
          2.519,
          2.548,
          4.651,
          4.625,
          5.304,
          3.557,
          5.109,
          3.626,
          3.107,
          4.779,
          1.567,
          1.601,
          1.841,
          1.366,
          2.091,
          1.976,
          1.689,
          1.86,
          1.772,
          1.953,
          1.781,
          1.712,
          1.267,
          1.04,
          0.988,
          0.926,
          1.044,
          1.036,
          1.001,
          0.891,
          0.77,
          0.728,
          0.729,
          0.784,
          0.878,
          0.927,
          0.844,
          0.782,
          0.661,
          0.693,
          0.973,
          1.229,
          1.345,
          1.439,
          0.842,
          0.643,
          0.869,
          0.682,
          0.182,
          0.129,
          -0.045,
          -0.248,
          2.8,
          4.06,
          -7.683,
          -1.616,
          0.746,
          0.649,
          0.789,
          0.715,
          0.644,
          0.875,
          1.059,
          1.033,
          1.075,
          1.504,
          1.067,
          1.203,
          1.289,
          0.459,
          0.516,
          0.393,
          0.398,
          0.675,
          0.696,
          1.165,
          1.558,
          1.755,
          1.732,
          1.01,
          0.446,
          0.298,
          0.663,
          1.339,
          2.069,
          3.323,
          0.812,
          0.432,
          0.37,
          0.367,
          0.774,
          1.007,
          1.115,
          0.895,
          0.737,
          0.704,
          0.945,
          1.412,
          1.659,
          1.699,
          1.212,
          0.75,
          0.658,
          0.813,
          1.046,
          1.439,
          1.474,
          0.922,
          0.803,
          0.713,
          0.764,
          1.133,
          1.459,
          1.467,
          1.222,
          0.975,
          0.693,
          0.792,
          1.061,
          0.933,
          0.745,
          1.265,
          1.006,
          1.545,
          2.834,
          1.257,
          1.122,
          0.709,
          1.154,
          1.279,
          2.017,
          3.546,
          1.485,
          1.341,
          0.77,
          1.209,
          1.381,
          2.007,
          3.59,
          1.268,
          1.048,
          0.667,
          0.869,
          1.08,
          1.641,
          2.671,
          1.13,
          0.966,
          0.575,
          0.894,
          1.467,
          2.18,
          3.627,
          1.489,
          0.808,
          0.498,
          0.615,
          0.708,
          1.335,
          2.673,
          1.511,
          1.323,
          0.845,
          0.947,
          1.078,
          1.732,
          2.693,
          1.24,
          1.022,
          0.541,
          0.784
         ],
         "textposition": "inside",
         "type": "bar",
         "x": [
          "2020-01-22",
          "2020-01-23",
          "2020-01-24",
          "2020-01-25",
          "2020-01-26",
          "2020-01-27",
          "2020-01-28",
          "2020-01-29",
          "2020-01-30",
          "2020-01-31",
          "2020-02-01",
          "2020-02-02",
          "2020-02-03",
          "2020-02-04",
          "2020-02-05",
          "2020-02-06",
          "2020-02-07",
          "2020-02-08",
          "2020-02-09",
          "2020-02-10",
          "2020-02-11",
          "2020-02-12",
          "2020-02-13",
          "2020-02-14",
          "2020-02-15",
          "2020-02-16",
          "2020-02-17",
          "2020-02-18",
          "2020-02-19",
          "2020-02-20",
          "2020-02-21",
          "2020-02-22",
          "2020-02-23",
          "2020-02-24",
          "2020-02-25",
          "2020-02-26",
          "2020-02-27",
          "2020-02-28",
          "2020-02-29",
          "2020-03-01",
          "2020-03-02",
          "2020-03-03",
          "2020-03-04",
          "2020-03-05",
          "2020-03-06",
          "2020-03-07",
          "2020-03-08",
          "2020-03-09",
          "2020-03-10",
          "2020-03-11",
          "2020-03-12",
          "2020-03-13",
          "2020-03-14",
          "2020-03-15",
          "2020-03-16",
          "2020-03-17",
          "2020-03-18",
          "2020-03-19",
          "2020-03-20",
          "2020-03-21",
          "2020-03-22",
          "2020-03-23",
          "2020-03-24",
          "2020-03-25",
          "2020-03-26",
          "2020-03-27",
          "2020-03-28",
          "2020-03-29",
          "2020-03-30",
          "2020-03-31",
          "2020-04-01",
          "2020-04-02",
          "2020-04-03",
          "2020-04-04",
          "2020-04-05",
          "2020-04-06",
          "2020-04-07",
          "2020-04-08",
          "2020-04-09",
          "2020-04-10",
          "2020-04-11",
          "2020-04-12",
          "2020-04-13",
          "2020-04-14",
          "2020-04-15",
          "2020-04-16",
          "2020-04-17",
          "2020-04-18",
          "2020-04-19",
          "2020-04-20",
          "2020-04-21",
          "2020-04-22",
          "2020-04-23",
          "2020-04-24",
          "2020-04-25",
          "2020-04-26",
          "2020-04-27",
          "2020-04-28",
          "2020-04-29",
          "2020-04-30",
          "2020-05-01",
          "2020-05-02",
          "2020-05-03",
          "2020-05-04",
          "2020-05-05",
          "2020-05-06",
          "2020-05-07",
          "2020-05-08",
          "2020-05-09",
          "2020-05-10",
          "2020-05-11",
          "2020-05-12",
          "2020-05-13",
          "2020-05-14",
          "2020-05-15",
          "2020-05-16",
          "2020-05-17",
          "2020-05-18",
          "2020-05-19",
          "2020-05-20",
          "2020-05-21",
          "2020-05-22",
          "2020-05-23",
          "2020-05-24",
          "2020-05-25",
          "2020-05-26",
          "2020-05-27",
          "2020-05-28",
          "2020-05-29",
          "2020-05-30",
          "2020-05-31",
          "2020-06-01",
          "2020-06-02",
          "2020-06-03",
          "2020-06-04",
          "2020-06-05",
          "2020-06-06",
          "2020-06-07",
          "2020-06-08",
          "2020-06-09",
          "2020-06-10",
          "2020-06-11",
          "2020-06-12",
          "2020-06-13",
          "2020-06-14",
          "2020-06-15",
          "2020-06-16",
          "2020-06-17",
          "2020-06-18",
          "2020-06-19",
          "2020-06-20",
          "2020-06-21",
          "2020-06-22",
          "2020-06-23",
          "2020-06-24",
          "2020-06-25",
          "2020-06-26",
          "2020-06-27",
          "2020-06-28",
          "2020-06-29",
          "2020-06-30",
          "2020-07-01",
          "2020-07-02",
          "2020-07-03",
          "2020-07-04",
          "2020-07-05",
          "2020-07-06",
          "2020-07-07",
          "2020-07-08",
          "2020-07-09",
          "2020-07-10",
          "2020-07-11",
          "2020-07-12",
          "2020-07-13",
          "2020-07-14",
          "2020-07-15",
          "2020-07-16",
          "2020-07-17",
          "2020-07-18",
          "2020-07-19",
          "2020-07-20",
          "2020-07-21",
          "2020-07-22",
          "2020-07-23",
          "2020-07-24",
          "2020-07-25",
          "2020-07-26",
          "2020-07-27",
          "2020-07-28",
          "2020-07-29",
          "2020-07-30",
          "2020-07-31",
          "2020-08-01",
          "2020-08-02",
          "2020-08-03",
          "2020-08-04",
          "2020-08-05",
          "2020-08-06",
          "2020-08-07",
          "2020-08-08",
          "2020-08-09",
          "2020-08-10",
          "2020-08-11",
          "2020-08-12",
          "2020-08-13",
          "2020-08-14",
          "2020-08-15",
          "2020-08-16",
          "2020-08-17",
          "2020-08-18",
          "2020-08-19",
          "2020-08-20",
          "2020-08-21",
          "2020-08-22",
          "2020-08-23",
          "2020-08-24"
         ],
         "y": [
          null,
          null,
          null,
          null,
          null,
          null,
          null,
          null,
          null,
          null,
          null,
          null,
          null,
          null,
          0,
          0,
          0,
          0,
          null,
          null,
          null,
          null,
          0,
          0,
          0,
          0,
          null,
          null,
          null,
          null,
          null,
          null,
          null,
          null,
          null,
          null,
          null,
          null,
          9.75,
          6.455,
          8.077,
          4.433,
          4.538,
          2.465,
          2.667,
          2.519,
          2.548,
          4.651,
          4.625,
          5.304,
          3.557,
          5.109,
          3.626,
          3.107,
          4.779,
          1.567,
          1.601,
          1.841,
          1.366,
          2.091,
          1.976,
          1.689,
          1.86,
          1.772,
          1.953,
          1.781,
          1.712,
          1.267,
          1.04,
          0.988,
          0.926,
          1.044,
          1.036,
          1.001,
          0.891,
          0.77,
          0.728,
          0.729,
          0.784,
          0.878,
          0.927,
          0.844,
          0.782,
          0.661,
          0.693,
          0.973,
          1.229,
          1.345,
          1.439,
          0.842,
          0.643,
          0.869,
          0.682,
          0.182,
          0.129,
          -0.045,
          -0.248,
          2.8,
          4.06,
          -7.683,
          -1.616,
          0.746,
          0.649,
          0.789,
          0.715,
          0.644,
          0.875,
          1.059,
          1.033,
          1.075,
          1.504,
          1.067,
          1.203,
          1.289,
          0.459,
          0.516,
          0.393,
          0.398,
          0.675,
          0.696,
          1.165,
          1.558,
          1.755,
          1.732,
          1.01,
          0.446,
          0.298,
          0.663,
          1.339,
          2.069,
          3.323,
          0.812,
          0.432,
          0.37,
          0.367,
          0.774,
          1.007,
          1.115,
          0.895,
          0.737,
          0.704,
          0.945,
          1.412,
          1.659,
          1.699,
          1.212,
          0.75,
          0.658,
          0.813,
          1.046,
          1.439,
          1.474,
          0.922,
          0.803,
          0.713,
          0.764,
          1.133,
          1.459,
          1.467,
          1.222,
          0.975,
          0.693,
          0.792,
          1.061,
          0.933,
          0.745,
          1.265,
          1.006,
          1.545,
          2.834,
          1.257,
          1.122,
          0.709,
          1.154,
          1.279,
          2.017,
          3.546,
          1.485,
          1.341,
          0.77,
          1.209,
          1.381,
          2.007,
          3.59,
          1.268,
          1.048,
          0.667,
          0.869,
          1.08,
          1.641,
          2.671,
          1.13,
          0.966,
          0.575,
          0.894,
          1.467,
          2.18,
          3.627,
          1.489,
          0.808,
          0.498,
          0.615,
          0.708,
          1.335,
          2.673,
          1.511,
          1.323,
          0.845,
          0.947,
          1.078,
          1.732,
          2.693,
          1.24,
          1.022,
          0.541,
          0.784
         ]
        }
       ],
       "layout": {
        "annotations": [
         {
          "showarrow": false,
          "text": "Данные : Яндекс <br> формула расчета из методических рекомендациях Роспотребнадзора.",
          "x": 0.5,
          "xref": "paper",
          "y": -0.15,
          "yref": "paper"
         }
        ],
        "height": 600,
        "template": {
         "data": {
          "pie": [
           {
            "automargin": true,
            "type": "pie"
           }
          ]
         },
         "layout": {
          "xaxis": {
           "showgrid": true,
           "title": {
            "standoff": 15
           }
          },
          "yaxis": {
           "showgrid": true,
           "title": {
            "standoff": 15
           }
          }
         }
        },
        "title": {
         "text": "Коэффициент распространения (Rt) по 6 странам ,<br> с максимальным количеством новых заболеваний и Украине ",
         "x": 0.5,
         "xanchor": "center",
         "y": 0.9,
         "yanchor": "bottom"
        },
        "width": 990,
        "yaxis": {
         "title": {
          "text": " "
         }
        }
       }
      }
     },
     "metadata": {}
    }
   ],
   "source": [
    "#mask = (X.Date>datetime.date(2020,5,1))&(X.Region.isin(regions_towatch))\n",
    "\n",
    "colors_dict = { \"США\": \"red\",\n",
    "                \"Бразилия\": \"magenta\",\n",
    "                \"Россия\": \"goldenrod\",\n",
    "                \"Индия\": \"darkblue\",\n",
    "                \"Великобритания\": \"green\",\n",
    "                 'Испания': 'aquamarine'}\n",
    "fig = go.Figure()\n",
    "for i in country_towatch:\n",
    "    mask = X['Country'] == i\n",
    "        \n",
    "    fig.add_trace(\n",
    "        \n",
    "        go.Bar(\n",
    "        name = f'{i}',\n",
    "        x=X[mask].Date,\n",
    "        y=X[mask].Rt,\n",
    "        text=round(X[mask].Rt,3),\n",
    "        textposition='inside',\n",
    "        marker_color= colors_dict.get(i),\n",
    "        \n",
    "        showlegend=True))\n",
    "\n",
    "\n",
    "\n",
    "\n",
    "                  \n",
    "fig.update_layout(\n",
    "    annotations=[\n",
    "        \n",
    "            dict(x=0.5,y=-0.15,\n",
    "            showarrow=False,\n",
    "            text=\"Данные : Яндекс <br> формула расчета из методических рекомендациях Роспотребнадзора.\",\n",
    "            xref=\"paper\",\n",
    "            yref=\"paper\")],\n",
    "                  title = \"Коэффициент распространения (Rt) по 6 странам ,<br> с максимальным количеством новых заболеваний и Украине \",\n",
    "                  title_x = 0.5,\n",
    "                  title_y= 0.9,\n",
    "                  title_xanchor = \"center\",\n",
    "                  title_yanchor = \"bottom\", \n",
    "                 # legend_x = 0.05,legend_y = 0.9,\n",
    "                  width = 990, height = 600,template = 'gridon',\n",
    "    \n",
    "    \n",
    "                 # xaxis_title='Коэффициент рассчитан, исходя из данных оперативного штаба и <br>' + \n",
    "                               #' формулы расчета в методических рекомендациях Роспотребнадзора. ',\n",
    "    yaxis_title = ' '\n",
    ")\n",
    "\n",
    "\n",
    "fig.show()\n"
   ]
  },
  {
   "cell_type": "code",
   "execution_count": 13,
   "metadata": {
    "tags": []
   },
   "outputs": [
    {
     "output_type": "stream",
     "name": "stdout",
     "text": "Все страны по которым есть статистика:\n****************************************\ndict_items([(0, 'Австралия'), (1, 'Австрия'), (2, 'Азербайджан'), (3, 'Албания'), (4, 'Алжир'), (5, 'Ангола'), (6, 'Андорра'), (7, 'Антигуа и Барбуда'), (8, 'Аргентина'), (9, 'Армения'), (10, 'Афганистан'), (11, 'Багамские острова'), (12, 'Бангладеш'), (13, 'Барбадос'), (14, 'Бахрейн'), (15, 'Беларусь'), (16, 'Белиз'), (17, 'Бельгия'), (18, 'Бенин'), (19, 'Болгария'), (20, 'Боливия'), (21, 'Босния и Герцеговина'), (22, 'Ботсвана'), (23, 'Бразилия'), (24, 'Бруней'), (25, 'Буркина-Фасо'), (26, 'Бурунди'), (27, 'Бутан'), (28, 'Великобритания'), (29, 'Венгрия'), (30, 'Венесуэла'), (31, 'Весь мир'), (32, 'Восточный Тимор'), (33, 'Вьетнам'), (34, 'Габон'), (35, 'Гаити'), (36, 'Гайана'), (37, 'Гамбия'), (38, 'Гана'), (39, 'Гватемала'), (40, 'Гвинея'), (41, 'Гвинея-Бисау'), (42, 'Германия'), (43, 'Гондурас'), (44, 'Гренада'), (45, 'Греция'), (46, 'Грузия'), (47, 'ДР Конго'), (48, 'Дания'), (49, 'Джибути'), (50, 'Доминика'), (51, 'Доминиканская Республика'), (52, 'Египет'), (53, 'Замбия'), (54, 'Западная Сахара'), (55, 'Западный берег реки Иордан'), (56, 'Зимбабве'), (57, 'Израиль'), (58, 'Индия'), (59, 'Индонезия'), (60, 'Иордания'), (61, 'Ирак'), (62, 'Иран'), (63, 'Ирландия'), (64, 'Исландия'), (65, 'Испания'), (66, 'Италия'), (67, 'Йемен'), (68, 'Кабо-Верде'), (69, 'Казахстан'), (70, 'Камбоджа'), (71, 'Камерун'), (72, 'Канада'), (73, 'Катар'), (74, 'Кения'), (75, 'Кипр'), (76, 'Киргизия'), (77, 'Китай'), (78, 'Колумбия'), (79, 'Коморские острова'), (80, 'Косово и Метохия'), (81, 'Коста-Рика'), (82, 'Кот-д’Ивуар'), (83, 'Куба'), (84, 'Кувейт'), (85, 'Лаос'), (86, 'Латвия'), (87, 'Лесото'), (88, 'Либерия'), (89, 'Ливан'), (90, 'Ливия'), (91, 'Литва'), (92, 'Лихтенштейн'), (93, 'Люксембург'), (94, 'Маврикий'), (95, 'Мавритания'), (96, 'Мадагаскар'), (97, 'Малави'), (98, 'Малайзия'), (99, 'Мали'), (100, 'Мальдивы'), (101, 'Мальта'), (102, 'Марокко'), (103, 'Мексика'), (104, 'Мозамбик'), (105, 'Молдавия'), (106, 'Монако'), (107, 'Монголия'), (108, 'Мьянма'), (109, 'Намибия'), (110, 'Непал'), (111, 'Нигер'), (112, 'Нигерия'), (113, 'Нидерланды'), (114, 'Никарагуа'), (115, 'Новая Зеландия'), (116, 'Норвегия'), (117, 'ОАЭ'), (118, 'Оман'), (119, 'Пакистан'), (120, 'Панама'), (121, 'Папский Престол'), (122, 'Папуа — Новая Гвинея'), (123, 'Парагвай'), (124, 'Перу'), (125, 'Польша'), (126, 'Португалия'), (127, 'Республика Конго'), (128, 'Россия'), (129, 'Руанда'), (130, 'Румыния'), (131, 'США'), (132, 'Сальвадор'), (133, 'Сан-Марино'), (134, 'Сан-Томе и Принсипи'), (135, 'Саудовская Аравия'), (136, 'Северная Македония'), (137, 'Сейшельские острова'), (138, 'Сенегал'), (139, 'Сент-Винсент и Гренадины'), (140, 'Сент-Китс и Невис'), (141, 'Сент-Люсия'), (142, 'Сербия'), (143, 'Сингапур'), (144, 'Сирия'), (145, 'Словакия'), (146, 'Словения'), (147, 'Сомали'), (148, 'Судан'), (149, 'Судно \"Diamond Princess\"'), (150, 'Судно \"MS Zaandam\"'), (151, 'Суринам'), (152, 'Сьерра-Леоне'), (153, 'Таджикистан'), (154, 'Таиланд'), (155, 'Танзания'), (156, 'Того'), (157, 'Тринидад и Тобаго'), (158, 'Тунис'), (159, 'Турция'), (160, 'Уганда'), (161, 'Узбекистан'), (162, 'Украина'), (163, 'Уругвай'), (164, 'Фиджи'), (165, 'Филиппины'), (166, 'Финляндия'), (167, 'Франция'), (168, 'Хорватия'), (169, 'ЦАР'), (170, 'Чад'), (171, 'Черногория'), (172, 'Чехия'), (173, 'Чили'), (174, 'Швейцария'), (175, 'Швеция'), (176, 'Шри-Ланка'), (177, 'Эквадор'), (178, 'Экваториальная Гвинея'), (179, 'Эритрея'), (180, 'Эсватини'), (181, 'Эстония'), (182, 'Эфиопия'), (183, 'ЮАР'), (184, 'Южная Корея'), (185, 'Южный Судан'), (186, 'Ямайка'), (187, 'Япония')])\n****************************************\nРассматриваем страны: \n23 Бразилия\n28 Великобритания\n58 Индия\n65 Испания\n131 США\nВыбрали страну:  Украина\n"
    }
   ],
   "source": [
    "print('Все страны по которым есть статистика:')\n",
    "print('*'*40)\n",
    "print(country_dict.items())\n",
    "print('*'*40)\n",
    "print('Рассматриваем страны: ')\n",
    "for i in country_dict.keys():\n",
    "    if country_dict.get(i) in country_towatch:\n",
    "        print(i,country_dict.get(i))\n",
    "\n",
    "# Украина № 162\n",
    "# Весь мир № 31\n",
    "# Турция № 159\n",
    "#  Танзания № 155\n",
    "my_country = country_dict[162]\n",
    "print('Выбрали страну: ',my_country)\n"
   ]
  },
  {
   "cell_type": "code",
   "execution_count": 14,
   "metadata": {},
   "outputs": [
    {
     "output_type": "display_data",
     "data": {
      "application/vnd.plotly.v1+json": {
       "config": {
        "plotlyServerURL": "https://plot.ly"
       },
       "data": [
        {
         "alignmentgroup": "True",
         "hovertemplate": "Date=%{x}<br>Новые заболевшие=%{marker.color}<extra></extra>",
         "legendgroup": "",
         "marker": {
          "color": [
           0,
           0,
           0,
           0,
           0,
           0,
           0,
           0,
           0,
           0,
           0,
           0,
           0,
           0,
           0,
           0,
           0,
           0,
           0,
           0,
           0,
           0,
           0,
           0,
           0,
           0,
           0,
           0,
           0,
           0,
           0,
           0,
           0,
           0,
           0,
           0,
           0,
           0,
           0,
           0,
           0,
           1,
           0,
           0,
           0,
           0,
           0,
           0,
           0,
           0,
           0,
           2,
           0,
           0,
           4,
           7,
           0,
           2,
           13,
           18,
           26,
           0,
           24,
           48,
           51,
           114,
           46,
           119,
           73,
           97,
           149,
           103,
           175,
           153,
           83,
           11,
           143,
           206,
           224,
           311,
           308,
           266,
           325,
           270,
           392,
           397,
           501,
           444,
           343,
           261,
           415,
           467,
           578,
           477,
           478,
           492,
           392,
           401,
           456,
           540,
           455,
           550,
           502,
           418,
           366,
           487,
           507,
           504,
           515,
           522,
           416,
           375,
           402,
           422,
           483,
           528,
           433,
           325,
           260,
           354,
           476,
           442,
           432,
           406,
           259,
           339,
           321,
           477,
           429,
           393,
           468,
           890,
           333,
           490,
           596,
           561,
           559,
           498,
           478,
           402,
           536,
           691,
           709,
           762,
           674,
           685,
           673,
           777,
           847,
           922,
           860,
           746,
           695,
           845,
           951,
           1002,
           1121,
           957,
           924,
           682,
           716,
           670,
           897,
           884,
           923,
           840,
           585,
           569,
           835,
           828,
           831,
           825,
           706,
           638,
           646,
           848,
           861,
           826,
           867,
           744,
           690,
           687,
           841,
           874,
           1004,
           1144,
           944,
           835,
           934,
           1048,
           1222,
           1104,
           1205,
           1152,
           1020,
           1099,
           1289,
           1346,
           1503,
           1516,
           1233,
           1045,
           1211,
           1481,
           1632,
           1781,
           1878,
           1695,
           1517,
           1646,
           2005,
           2152,
           2138,
           2389,
           2042,
           1855
          ],
          "coloraxis": "coloraxis"
         },
         "name": "",
         "offsetgroup": "",
         "orientation": "v",
         "showlegend": false,
         "text": [
          0,
          0,
          0,
          0,
          0,
          0,
          0,
          0,
          0,
          0,
          0,
          0,
          0,
          0,
          0,
          0,
          0,
          0,
          0,
          0,
          0,
          0,
          0,
          0,
          0,
          0,
          0,
          0,
          0,
          0,
          0,
          0,
          0,
          0,
          0,
          0,
          0,
          0,
          0,
          0,
          0,
          1,
          0,
          0,
          0,
          0,
          0,
          0,
          0,
          0,
          0,
          2,
          0,
          0,
          4,
          7,
          0,
          2,
          13,
          18,
          26,
          0,
          24,
          48,
          51,
          114,
          46,
          119,
          73,
          97,
          149,
          103,
          175,
          153,
          83,
          11,
          143,
          206,
          224,
          311,
          308,
          266,
          325,
          270,
          392,
          397,
          501,
          444,
          343,
          261,
          415,
          467,
          578,
          477,
          478,
          492,
          392,
          401,
          456,
          540,
          455,
          550,
          502,
          418,
          366,
          487,
          507,
          504,
          515,
          522,
          416,
          375,
          402,
          422,
          483,
          528,
          433,
          325,
          260,
          354,
          476,
          442,
          432,
          406,
          259,
          339,
          321,
          477,
          429,
          393,
          468,
          890,
          333,
          490,
          596,
          561,
          559,
          498,
          478,
          402,
          536,
          691,
          709,
          762,
          674,
          685,
          673,
          777,
          847,
          922,
          860,
          746,
          695,
          845,
          951,
          1002,
          1121,
          957,
          924,
          682,
          716,
          670,
          897,
          884,
          923,
          840,
          585,
          569,
          835,
          828,
          831,
          825,
          706,
          638,
          646,
          848,
          861,
          826,
          867,
          744,
          690,
          687,
          841,
          874,
          1004,
          1144,
          944,
          835,
          934,
          1048,
          1222,
          1104,
          1205,
          1152,
          1020,
          1099,
          1289,
          1346,
          1503,
          1516,
          1233,
          1045,
          1211,
          1481,
          1632,
          1781,
          1878,
          1695,
          1517,
          1646,
          2005,
          2152,
          2138,
          2389,
          2042,
          1855
         ],
         "textposition": "auto",
         "type": "bar",
         "x": [
          "2020-01-22",
          "2020-01-23",
          "2020-01-24",
          "2020-01-25",
          "2020-01-26",
          "2020-01-27",
          "2020-01-28",
          "2020-01-29",
          "2020-01-30",
          "2020-01-31",
          "2020-02-01",
          "2020-02-02",
          "2020-02-03",
          "2020-02-04",
          "2020-02-05",
          "2020-02-06",
          "2020-02-07",
          "2020-02-08",
          "2020-02-09",
          "2020-02-10",
          "2020-02-11",
          "2020-02-12",
          "2020-02-13",
          "2020-02-14",
          "2020-02-15",
          "2020-02-16",
          "2020-02-17",
          "2020-02-18",
          "2020-02-19",
          "2020-02-20",
          "2020-02-21",
          "2020-02-22",
          "2020-02-23",
          "2020-02-24",
          "2020-02-25",
          "2020-02-26",
          "2020-02-27",
          "2020-02-28",
          "2020-02-29",
          "2020-03-01",
          "2020-03-02",
          "2020-03-03",
          "2020-03-04",
          "2020-03-05",
          "2020-03-06",
          "2020-03-07",
          "2020-03-08",
          "2020-03-09",
          "2020-03-10",
          "2020-03-11",
          "2020-03-12",
          "2020-03-13",
          "2020-03-14",
          "2020-03-15",
          "2020-03-16",
          "2020-03-17",
          "2020-03-18",
          "2020-03-19",
          "2020-03-20",
          "2020-03-21",
          "2020-03-22",
          "2020-03-23",
          "2020-03-24",
          "2020-03-25",
          "2020-03-26",
          "2020-03-27",
          "2020-03-28",
          "2020-03-29",
          "2020-03-30",
          "2020-03-31",
          "2020-04-01",
          "2020-04-02",
          "2020-04-03",
          "2020-04-04",
          "2020-04-05",
          "2020-04-06",
          "2020-04-07",
          "2020-04-08",
          "2020-04-09",
          "2020-04-10",
          "2020-04-11",
          "2020-04-12",
          "2020-04-13",
          "2020-04-14",
          "2020-04-15",
          "2020-04-16",
          "2020-04-17",
          "2020-04-18",
          "2020-04-19",
          "2020-04-20",
          "2020-04-21",
          "2020-04-22",
          "2020-04-23",
          "2020-04-24",
          "2020-04-25",
          "2020-04-26",
          "2020-04-27",
          "2020-04-28",
          "2020-04-29",
          "2020-04-30",
          "2020-05-01",
          "2020-05-02",
          "2020-05-03",
          "2020-05-04",
          "2020-05-05",
          "2020-05-06",
          "2020-05-07",
          "2020-05-08",
          "2020-05-09",
          "2020-05-10",
          "2020-05-11",
          "2020-05-12",
          "2020-05-13",
          "2020-05-14",
          "2020-05-15",
          "2020-05-16",
          "2020-05-17",
          "2020-05-18",
          "2020-05-19",
          "2020-05-20",
          "2020-05-21",
          "2020-05-22",
          "2020-05-23",
          "2020-05-24",
          "2020-05-25",
          "2020-05-26",
          "2020-05-27",
          "2020-05-28",
          "2020-05-29",
          "2020-05-30",
          "2020-05-31",
          "2020-06-01",
          "2020-06-02",
          "2020-06-03",
          "2020-06-04",
          "2020-06-05",
          "2020-06-06",
          "2020-06-07",
          "2020-06-08",
          "2020-06-09",
          "2020-06-10",
          "2020-06-11",
          "2020-06-12",
          "2020-06-13",
          "2020-06-14",
          "2020-06-15",
          "2020-06-16",
          "2020-06-17",
          "2020-06-18",
          "2020-06-19",
          "2020-06-20",
          "2020-06-21",
          "2020-06-22",
          "2020-06-23",
          "2020-06-24",
          "2020-06-25",
          "2020-06-26",
          "2020-06-27",
          "2020-06-28",
          "2020-06-29",
          "2020-06-30",
          "2020-07-01",
          "2020-07-02",
          "2020-07-03",
          "2020-07-04",
          "2020-07-05",
          "2020-07-06",
          "2020-07-07",
          "2020-07-08",
          "2020-07-09",
          "2020-07-10",
          "2020-07-11",
          "2020-07-12",
          "2020-07-13",
          "2020-07-14",
          "2020-07-15",
          "2020-07-16",
          "2020-07-17",
          "2020-07-18",
          "2020-07-19",
          "2020-07-20",
          "2020-07-21",
          "2020-07-22",
          "2020-07-23",
          "2020-07-24",
          "2020-07-25",
          "2020-07-26",
          "2020-07-27",
          "2020-07-28",
          "2020-07-29",
          "2020-07-30",
          "2020-07-31",
          "2020-08-01",
          "2020-08-02",
          "2020-08-03",
          "2020-08-04",
          "2020-08-05",
          "2020-08-06",
          "2020-08-07",
          "2020-08-08",
          "2020-08-09",
          "2020-08-10",
          "2020-08-11",
          "2020-08-12",
          "2020-08-13",
          "2020-08-14",
          "2020-08-15",
          "2020-08-16",
          "2020-08-17",
          "2020-08-18",
          "2020-08-19",
          "2020-08-20",
          "2020-08-21",
          "2020-08-22",
          "2020-08-23",
          "2020-08-24"
         ],
         "xaxis": "x",
         "y": [
          0,
          0,
          0,
          0,
          0,
          0,
          0,
          0,
          0,
          0,
          0,
          0,
          0,
          0,
          0,
          0,
          0,
          0,
          0,
          0,
          0,
          0,
          0,
          0,
          0,
          0,
          0,
          0,
          0,
          0,
          0,
          0,
          0,
          0,
          0,
          0,
          0,
          0,
          0,
          0,
          0,
          1,
          0,
          0,
          0,
          0,
          0,
          0,
          0,
          0,
          0,
          2,
          0,
          0,
          4,
          7,
          0,
          2,
          13,
          18,
          26,
          0,
          24,
          48,
          51,
          114,
          46,
          119,
          73,
          97,
          149,
          103,
          175,
          153,
          83,
          11,
          143,
          206,
          224,
          311,
          308,
          266,
          325,
          270,
          392,
          397,
          501,
          444,
          343,
          261,
          415,
          467,
          578,
          477,
          478,
          492,
          392,
          401,
          456,
          540,
          455,
          550,
          502,
          418,
          366,
          487,
          507,
          504,
          515,
          522,
          416,
          375,
          402,
          422,
          483,
          528,
          433,
          325,
          260,
          354,
          476,
          442,
          432,
          406,
          259,
          339,
          321,
          477,
          429,
          393,
          468,
          890,
          333,
          490,
          596,
          561,
          559,
          498,
          478,
          402,
          536,
          691,
          709,
          762,
          674,
          685,
          673,
          777,
          847,
          922,
          860,
          746,
          695,
          845,
          951,
          1002,
          1121,
          957,
          924,
          682,
          716,
          670,
          897,
          884,
          923,
          840,
          585,
          569,
          835,
          828,
          831,
          825,
          706,
          638,
          646,
          848,
          861,
          826,
          867,
          744,
          690,
          687,
          841,
          874,
          1004,
          1144,
          944,
          835,
          934,
          1048,
          1222,
          1104,
          1205,
          1152,
          1020,
          1099,
          1289,
          1346,
          1503,
          1516,
          1233,
          1045,
          1211,
          1481,
          1632,
          1781,
          1878,
          1695,
          1517,
          1646,
          2005,
          2152,
          2138,
          2389,
          2042,
          1855
         ],
         "yaxis": "y"
        },
        {
         "line": {
          "color": "green"
         },
         "mode": "lines",
         "name": "14-дневная скользящая средняя",
         "showlegend": true,
         "type": "scatter",
         "x": [
          "2020-01-22",
          "2020-01-23",
          "2020-01-24",
          "2020-01-25",
          "2020-01-26",
          "2020-01-27",
          "2020-01-28",
          "2020-01-29",
          "2020-01-30",
          "2020-01-31",
          "2020-02-01",
          "2020-02-02",
          "2020-02-03",
          "2020-02-04",
          "2020-02-05",
          "2020-02-06",
          "2020-02-07",
          "2020-02-08",
          "2020-02-09",
          "2020-02-10",
          "2020-02-11",
          "2020-02-12",
          "2020-02-13",
          "2020-02-14",
          "2020-02-15",
          "2020-02-16",
          "2020-02-17",
          "2020-02-18",
          "2020-02-19",
          "2020-02-20",
          "2020-02-21",
          "2020-02-22",
          "2020-02-23",
          "2020-02-24",
          "2020-02-25",
          "2020-02-26",
          "2020-02-27",
          "2020-02-28",
          "2020-02-29",
          "2020-03-01",
          "2020-03-02",
          "2020-03-03",
          "2020-03-04",
          "2020-03-05",
          "2020-03-06",
          "2020-03-07",
          "2020-03-08",
          "2020-03-09",
          "2020-03-10",
          "2020-03-11",
          "2020-03-12",
          "2020-03-13",
          "2020-03-14",
          "2020-03-15",
          "2020-03-16",
          "2020-03-17",
          "2020-03-18",
          "2020-03-19",
          "2020-03-20",
          "2020-03-21",
          "2020-03-22",
          "2020-03-23",
          "2020-03-24",
          "2020-03-25",
          "2020-03-26",
          "2020-03-27",
          "2020-03-28",
          "2020-03-29",
          "2020-03-30",
          "2020-03-31",
          "2020-04-01",
          "2020-04-02",
          "2020-04-03",
          "2020-04-04",
          "2020-04-05",
          "2020-04-06",
          "2020-04-07",
          "2020-04-08",
          "2020-04-09",
          "2020-04-10",
          "2020-04-11",
          "2020-04-12",
          "2020-04-13",
          "2020-04-14",
          "2020-04-15",
          "2020-04-16",
          "2020-04-17",
          "2020-04-18",
          "2020-04-19",
          "2020-04-20",
          "2020-04-21",
          "2020-04-22",
          "2020-04-23",
          "2020-04-24",
          "2020-04-25",
          "2020-04-26",
          "2020-04-27",
          "2020-04-28",
          "2020-04-29",
          "2020-04-30",
          "2020-05-01",
          "2020-05-02",
          "2020-05-03",
          "2020-05-04",
          "2020-05-05",
          "2020-05-06",
          "2020-05-07",
          "2020-05-08",
          "2020-05-09",
          "2020-05-10",
          "2020-05-11",
          "2020-05-12",
          "2020-05-13",
          "2020-05-14",
          "2020-05-15",
          "2020-05-16",
          "2020-05-17",
          "2020-05-18",
          "2020-05-19",
          "2020-05-20",
          "2020-05-21",
          "2020-05-22",
          "2020-05-23",
          "2020-05-24",
          "2020-05-25",
          "2020-05-26",
          "2020-05-27",
          "2020-05-28",
          "2020-05-29",
          "2020-05-30",
          "2020-05-31",
          "2020-06-01",
          "2020-06-02",
          "2020-06-03",
          "2020-06-04",
          "2020-06-05",
          "2020-06-06",
          "2020-06-07",
          "2020-06-08",
          "2020-06-09",
          "2020-06-10",
          "2020-06-11",
          "2020-06-12",
          "2020-06-13",
          "2020-06-14",
          "2020-06-15",
          "2020-06-16",
          "2020-06-17",
          "2020-06-18",
          "2020-06-19",
          "2020-06-20",
          "2020-06-21",
          "2020-06-22",
          "2020-06-23",
          "2020-06-24",
          "2020-06-25",
          "2020-06-26",
          "2020-06-27",
          "2020-06-28",
          "2020-06-29",
          "2020-06-30",
          "2020-07-01",
          "2020-07-02",
          "2020-07-03",
          "2020-07-04",
          "2020-07-05",
          "2020-07-06",
          "2020-07-07",
          "2020-07-08",
          "2020-07-09",
          "2020-07-10",
          "2020-07-11",
          "2020-07-12",
          "2020-07-13",
          "2020-07-14",
          "2020-07-15",
          "2020-07-16",
          "2020-07-17",
          "2020-07-18",
          "2020-07-19",
          "2020-07-20",
          "2020-07-21",
          "2020-07-22",
          "2020-07-23",
          "2020-07-24",
          "2020-07-25",
          "2020-07-26",
          "2020-07-27",
          "2020-07-28",
          "2020-07-29",
          "2020-07-30",
          "2020-07-31",
          "2020-08-01",
          "2020-08-02",
          "2020-08-03",
          "2020-08-04",
          "2020-08-05",
          "2020-08-06",
          "2020-08-07",
          "2020-08-08",
          "2020-08-09",
          "2020-08-10",
          "2020-08-11",
          "2020-08-12",
          "2020-08-13",
          "2020-08-14",
          "2020-08-15",
          "2020-08-16",
          "2020-08-17",
          "2020-08-18",
          "2020-08-19",
          "2020-08-20",
          "2020-08-21",
          "2020-08-22",
          "2020-08-23",
          "2020-08-24"
         ],
         "y": [
          null,
          null,
          null,
          null,
          null,
          null,
          null,
          null,
          null,
          null,
          null,
          null,
          null,
          0,
          0,
          0,
          0,
          0,
          0,
          0,
          0,
          0,
          0,
          0,
          0,
          0,
          0,
          0,
          0,
          0,
          0,
          0,
          0,
          0,
          0,
          0,
          0,
          0,
          0,
          0,
          0,
          0.07142857142857142,
          0.07142857142857142,
          0.07142857142857142,
          0.07142857142857142,
          0.07142857142857142,
          0.07142857142857142,
          0.07142857142857142,
          0.07142857142857142,
          0.07142857142857142,
          0.07142857142857142,
          0.21428571428571427,
          0.21428571428571427,
          0.21428571428571427,
          0.5,
          0.9285714285714286,
          0.9285714285714286,
          1.0714285714285714,
          2,
          3.2857142857142856,
          5.142857142857143,
          5.142857142857143,
          6.857142857142857,
          10.285714285714286,
          13.928571428571429,
          21.928571428571427,
          25.214285714285715,
          33.714285714285715,
          38.642857142857146,
          45.07142857142857,
          55.714285714285715,
          62.92857142857143,
          74.5,
          84.14285714285714,
          88.21428571428571,
          89,
          97.5,
          108.78571428571429,
          121.14285714285714,
          135.21428571428572,
          153.92857142857142,
          164.42857142857142,
          182.42857142857142,
          194.78571428571428,
          212.14285714285714,
          233.14285714285714,
          256.42857142857144,
          277.2142857142857,
          295.7857142857143,
          313.64285714285717,
          333.07142857142856,
          351.7142857142857,
          377,
          388.85714285714283,
          401,
          417.14285714285717,
          421.92857142857144,
          431.2857142857143,
          435.85714285714283,
          446.07142857142856,
          442.7857142857143,
          450.35714285714283,
          461.7142857142857,
          472.92857142857144,
          469.42857142857144,
          470.85714285714283,
          465.7857142857143,
          467.7142857142857,
          470.35714285714283,
          472.5,
          474.2142857142857,
          472.35714285714283,
          468.5,
          460.07142857142856,
          462.07142857142856,
          460.5,
          455.57142857142856,
          448.92857142857144,
          441.35714285714283,
          431.85714285714283,
          429.64285714285717,
          425.2142857142857,
          419.2857142857143,
          411,
          399.7857142857143,
          397.2142857142857,
          391.42857142857144,
          395.35714285714283,
          391.5,
          381.85714285714283,
          384.35714285714283,
          424.7142857142857,
          429.92857142857144,
          439.64285714285717,
          448.2142857142857,
          456.7142857142857,
          465.7857142857143,
          472.35714285714283,
          488,
          492.5,
          507.85714285714283,
          523.1428571428571,
          543.1428571428571,
          569.5,
          584.2142857142857,
          569.5714285714286,
          593.8571428571429,
          614.3571428571429,
          632.2857142857143,
          658.0714285714286,
          679.5714285714286,
          697.2857142857143,
          712.7857142857143,
          744.4285714285714,
          774.0714285714286,
          796.2857142857143,
          825.7142857142857,
          839.6428571428571,
          857.5,
          857.2857142857143,
          860.3571428571429,
          852.7142857142857,
          856.2857142857143,
          853.5714285714286,
          858.0714285714286,
          864.7857142857143,
          856.9285714285714,
          837.2142857142857,
          828.9285714285714,
          816.5,
          795.7857142857143,
          786.3571428571429,
          770.7857142857143,
          767.6428571428571,
          762.6428571428571,
          775.3571428571429,
          772.7857142857143,
          768.6428571428571,
          764.6428571428571,
          757.7857142857143,
          765.2857142857143,
          773.7142857142857,
          774.1428571428571,
          777.4285714285714,
          789.7857142857143,
          812.5714285714286,
          829.5714285714286,
          843.6428571428571,
          864.2142857142857,
          878.5,
          904.2857142857143,
          924.1428571428571,
          948.2857142857143,
          977.4285714285714,
          1001,
          1030.4285714285713,
          1062.4285714285713,
          1096.142857142857,
          1131.7857142857142,
          1158.357142857143,
          1179,
          1194,
          1213.7857142857142,
          1244.7142857142858,
          1274,
          1322.357142857143,
          1370.4285714285713,
          1409.2142857142858,
          1444.7142857142858,
          1483.7857142857142,
          1534.9285714285713,
          1592.5,
          1637.857142857143,
          1700.2142857142858,
          1758,
          1815.857142857143
         ]
        },
        {
         "line": {
          "color": "red"
         },
         "mode": "lines",
         "name": "7-дневная скользящая средняя",
         "showlegend": true,
         "type": "scatter",
         "x": [
          "2020-01-22",
          "2020-01-23",
          "2020-01-24",
          "2020-01-25",
          "2020-01-26",
          "2020-01-27",
          "2020-01-28",
          "2020-01-29",
          "2020-01-30",
          "2020-01-31",
          "2020-02-01",
          "2020-02-02",
          "2020-02-03",
          "2020-02-04",
          "2020-02-05",
          "2020-02-06",
          "2020-02-07",
          "2020-02-08",
          "2020-02-09",
          "2020-02-10",
          "2020-02-11",
          "2020-02-12",
          "2020-02-13",
          "2020-02-14",
          "2020-02-15",
          "2020-02-16",
          "2020-02-17",
          "2020-02-18",
          "2020-02-19",
          "2020-02-20",
          "2020-02-21",
          "2020-02-22",
          "2020-02-23",
          "2020-02-24",
          "2020-02-25",
          "2020-02-26",
          "2020-02-27",
          "2020-02-28",
          "2020-02-29",
          "2020-03-01",
          "2020-03-02",
          "2020-03-03",
          "2020-03-04",
          "2020-03-05",
          "2020-03-06",
          "2020-03-07",
          "2020-03-08",
          "2020-03-09",
          "2020-03-10",
          "2020-03-11",
          "2020-03-12",
          "2020-03-13",
          "2020-03-14",
          "2020-03-15",
          "2020-03-16",
          "2020-03-17",
          "2020-03-18",
          "2020-03-19",
          "2020-03-20",
          "2020-03-21",
          "2020-03-22",
          "2020-03-23",
          "2020-03-24",
          "2020-03-25",
          "2020-03-26",
          "2020-03-27",
          "2020-03-28",
          "2020-03-29",
          "2020-03-30",
          "2020-03-31",
          "2020-04-01",
          "2020-04-02",
          "2020-04-03",
          "2020-04-04",
          "2020-04-05",
          "2020-04-06",
          "2020-04-07",
          "2020-04-08",
          "2020-04-09",
          "2020-04-10",
          "2020-04-11",
          "2020-04-12",
          "2020-04-13",
          "2020-04-14",
          "2020-04-15",
          "2020-04-16",
          "2020-04-17",
          "2020-04-18",
          "2020-04-19",
          "2020-04-20",
          "2020-04-21",
          "2020-04-22",
          "2020-04-23",
          "2020-04-24",
          "2020-04-25",
          "2020-04-26",
          "2020-04-27",
          "2020-04-28",
          "2020-04-29",
          "2020-04-30",
          "2020-05-01",
          "2020-05-02",
          "2020-05-03",
          "2020-05-04",
          "2020-05-05",
          "2020-05-06",
          "2020-05-07",
          "2020-05-08",
          "2020-05-09",
          "2020-05-10",
          "2020-05-11",
          "2020-05-12",
          "2020-05-13",
          "2020-05-14",
          "2020-05-15",
          "2020-05-16",
          "2020-05-17",
          "2020-05-18",
          "2020-05-19",
          "2020-05-20",
          "2020-05-21",
          "2020-05-22",
          "2020-05-23",
          "2020-05-24",
          "2020-05-25",
          "2020-05-26",
          "2020-05-27",
          "2020-05-28",
          "2020-05-29",
          "2020-05-30",
          "2020-05-31",
          "2020-06-01",
          "2020-06-02",
          "2020-06-03",
          "2020-06-04",
          "2020-06-05",
          "2020-06-06",
          "2020-06-07",
          "2020-06-08",
          "2020-06-09",
          "2020-06-10",
          "2020-06-11",
          "2020-06-12",
          "2020-06-13",
          "2020-06-14",
          "2020-06-15",
          "2020-06-16",
          "2020-06-17",
          "2020-06-18",
          "2020-06-19",
          "2020-06-20",
          "2020-06-21",
          "2020-06-22",
          "2020-06-23",
          "2020-06-24",
          "2020-06-25",
          "2020-06-26",
          "2020-06-27",
          "2020-06-28",
          "2020-06-29",
          "2020-06-30",
          "2020-07-01",
          "2020-07-02",
          "2020-07-03",
          "2020-07-04",
          "2020-07-05",
          "2020-07-06",
          "2020-07-07",
          "2020-07-08",
          "2020-07-09",
          "2020-07-10",
          "2020-07-11",
          "2020-07-12",
          "2020-07-13",
          "2020-07-14",
          "2020-07-15",
          "2020-07-16",
          "2020-07-17",
          "2020-07-18",
          "2020-07-19",
          "2020-07-20",
          "2020-07-21",
          "2020-07-22",
          "2020-07-23",
          "2020-07-24",
          "2020-07-25",
          "2020-07-26",
          "2020-07-27",
          "2020-07-28",
          "2020-07-29",
          "2020-07-30",
          "2020-07-31",
          "2020-08-01",
          "2020-08-02",
          "2020-08-03",
          "2020-08-04",
          "2020-08-05",
          "2020-08-06",
          "2020-08-07",
          "2020-08-08",
          "2020-08-09",
          "2020-08-10",
          "2020-08-11",
          "2020-08-12",
          "2020-08-13",
          "2020-08-14",
          "2020-08-15",
          "2020-08-16",
          "2020-08-17",
          "2020-08-18",
          "2020-08-19",
          "2020-08-20",
          "2020-08-21",
          "2020-08-22",
          "2020-08-23",
          "2020-08-24"
         ],
         "y": [
          null,
          null,
          null,
          null,
          null,
          null,
          0,
          0,
          0,
          0,
          0,
          0,
          0,
          0,
          0,
          0,
          0,
          0,
          0,
          0,
          0,
          0,
          0,
          0,
          0,
          0,
          0,
          0,
          0,
          0,
          0,
          0,
          0,
          0,
          0,
          0,
          0,
          0,
          0,
          0,
          0,
          0.14285714285714285,
          0.14285714285714285,
          0.14285714285714285,
          0.14285714285714285,
          0.14285714285714285,
          0.14285714285714285,
          0.14285714285714285,
          0,
          0,
          0,
          0.2857142857142857,
          0.2857142857142857,
          0.2857142857142857,
          0.8571428571428571,
          1.8571428571428572,
          1.8571428571428572,
          2.142857142857143,
          3.7142857142857144,
          6.285714285714286,
          10,
          9.428571428571429,
          11.857142857142858,
          18.714285714285715,
          25.714285714285715,
          40.142857142857146,
          44.142857142857146,
          57.42857142857143,
          67.85714285714286,
          78.28571428571429,
          92.71428571428571,
          100.14285714285714,
          108.85714285714286,
          124.14285714285714,
          119,
          110.14285714285714,
          116.71428571428571,
          124.85714285714286,
          142.14285714285714,
          161.57142857142858,
          183.71428571428572,
          209.85714285714286,
          254.71428571428572,
          272.85714285714283,
          299.42857142857144,
          324.14285714285717,
          351.2857142857143,
          370.7142857142857,
          381.7142857142857,
          372.57142857142856,
          393.2857142857143,
          404,
          429.85714285714283,
          426.42857142857144,
          431.2857142857143,
          452.57142857142856,
          471.2857142857143,
          469.2857142857143,
          467.7142857142857,
          462.2857142857143,
          459.14285714285717,
          469.42857142857144,
          470.85714285714283,
          474.57142857142856,
          469.57142857142856,
          474,
          469.2857142857143,
          476.2857142857143,
          471.2857142857143,
          474.14285714285717,
          473.85714285714283,
          475.14285714285717,
          463,
          450.85714285714283,
          447.85714285714283,
          449.7142857142857,
          437,
          424,
          407.57142857142856,
          400.7142857142857,
          408.42857142857144,
          402.57142857142856,
          388.85714285714283,
          385,
          375.57142857142856,
          386.85714285714283,
          382.14285714285717,
          382.2857142857143,
          380.42857142857144,
          374.85714285714283,
          383.7142857142857,
          473.85714285714283,
          473,
          497.14285714285717,
          514.1428571428571,
          533,
          556.7142857142857,
          561,
          502.14285714285717,
          512,
          518.5714285714286,
          532.1428571428571,
          553.2857142857143,
          582.2857142857143,
          607.4285714285714,
          637,
          675.7142857142857,
          710.1428571428571,
          732.4285714285714,
          762.8571428571429,
          776.8571428571429,
          787.1428571428571,
          788.5714285714286,
          813.1428571428571,
          838,
          860.1428571428571,
          888.5714285714286,
          902.4285714285714,
          927.8571428571429,
          926,
          907.5714285714286,
          867.4285714285714,
          852.4285714285714,
          818.5714285714286,
          813.7142857142857,
          801.7142857142857,
          787.8571428571429,
          766.8571428571429,
          790.4285714285714,
          780.5714285714286,
          773,
          759,
          739.8571428571429,
          747.4285714285714,
          758.4285714285714,
          760.2857142857143,
          765,
          764.2857142857143,
          770.2857142857143,
          775.7142857142857,
          783.1428571428571,
          789,
          788,
          789.8571428571429,
          815.2857142857143,
          854.8571428571429,
          883.4285714285714,
          904.1428571428571,
          939.4285714285714,
          969,
          1018.7142857142857,
          1033,
          1041.7142857142858,
          1071.4285714285713,
          1097.857142857143,
          1121.4285714285713,
          1155.857142857143,
          1173.5714285714287,
          1230.5714285714287,
          1275,
          1286.5714285714287,
          1290.142857142857,
          1306.142857142857,
          1333.5714285714287,
          1374.4285714285713,
          1414.142857142857,
          1465.857142857143,
          1531.857142857143,
          1599.2857142857142,
          1661.4285714285713,
          1736.2857142857142,
          1810.5714285714287,
          1861.5714285714287,
          1934.5714285714287,
          1984.142857142857,
          2032.4285714285713
         ]
        }
       ],
       "layout": {
        "annotations": [
         {
          "showarrow": false,
          "text": "Данные: Яндекс",
          "x": 0.5,
          "xref": "paper",
          "y": -0.15,
          "yref": "paper"
         }
        ],
        "barmode": "relative",
        "coloraxis": {
         "colorbar": {
          "title": {
           "text": "Новые заболевшие"
          }
         },
         "colorscale": [
          [
           0,
           "rgb(247,252,253)"
          ],
          [
           0.125,
           "rgb(224,236,244)"
          ],
          [
           0.25,
           "rgb(191,211,230)"
          ],
          [
           0.375,
           "rgb(158,188,218)"
          ],
          [
           0.5,
           "rgb(140,150,198)"
          ],
          [
           0.625,
           "rgb(140,107,177)"
          ],
          [
           0.75,
           "rgb(136,65,157)"
          ],
          [
           0.875,
           "rgb(129,15,124)"
          ],
          [
           1,
           "rgb(77,0,75)"
          ]
         ]
        },
        "height": 600,
        "legend": {
         "tracegroupgap": 0,
         "x": 0.1,
         "y": 0.95
        },
        "template": {
         "data": {
          "pie": [
           {
            "automargin": true,
            "type": "pie"
           }
          ]
         },
         "layout": {
          "xaxis": {
           "showgrid": true,
           "title": {
            "standoff": 15
           }
          },
          "yaxis": {
           "showgrid": true,
           "title": {
            "standoff": 15
           }
          }
         }
        },
        "title": {
         "text": "Украина: график количества новых заболевших COVID-19 по датам",
         "x": 0.5,
         "xanchor": "center",
         "y": 0.9,
         "yanchor": "bottom"
        },
        "width": 990,
        "xaxis": {
         "anchor": "y",
         "domain": [
          0,
          1
         ],
         "title": {
          "text": ""
         }
        },
        "yaxis": {
         "anchor": "x",
         "domain": [
          0,
          1
         ],
         "title": {
          "text": " "
         }
        }
       }
      }
     },
     "metadata": {}
    }
   ],
   "source": [
    "mask = X.Country ==my_country\n",
    "#mask = (X.Date>datetime.date(2020,5,1)&(X.Region.isin(regions_towatch))\n",
    "#mask = (X.Date>datetime.date(2020,5,1)&(X.Region==my_region)\n",
    "\n",
    "fig = px.bar(X[mask], x='Date', \n",
    "             y=\"Day_confirmed\",color ='Day_confirmed',\n",
    "             title=f'{my_country}: '+'график количества новых заболевших COVID-19 по датам',\n",
    "              color_continuous_scale= px.colors.sequential.BuPu,text = 'Day_confirmed',\n",
    "             labels = {'Day_confirmed' : \"Новые заболевшие\",'Remaining_ill':'Текущие больные'})\n",
    "fig.add_trace(\n",
    "    go.Scatter(\n",
    "        name='14-дневная скользящая средняя',\n",
    "        x=X[mask].Date,\n",
    "        y=X[mask]['MA14_dayconfirmed'],\n",
    "        mode=\"lines\",\n",
    "        \n",
    "        line=go.scatter.Line(color=\"green\"),\n",
    "        showlegend=True)\n",
    ")\n",
    "fig.add_trace(\n",
    "    go.Scatter(\n",
    "        name = '7-дневная скользящая средняя',\n",
    "        x=X[mask]['Date'],\n",
    "        y=X[mask]['MA7_dayconfirmed'],\n",
    "        mode=\"lines\",\n",
    "        \n",
    "        line=go.scatter.Line(color=\"red\"),\n",
    "        showlegend=True)\n",
    ")\n",
    "fig.update_layout(\n",
    "    annotations=[\n",
    "#         dict(\n",
    "#             x='2020-04-13',\n",
    "#             y=1355,\n",
    "#             xref=\"x\",\n",
    "#             yref=\"y\",\n",
    "#             text=\"Введение<br>пропускной<br>системы в Москве\",\n",
    "#             showarrow=True,\n",
    "#             arrowhead=2,\n",
    "#             ax=0,\n",
    "#             ay=-60),\n",
    "#         dict(\n",
    "#             x='2020-06-09',\n",
    "#             y=1572,\n",
    "#             xref=\"x\",\n",
    "#             yref=\"y\",\n",
    "#             text=\"Отмена<br>пропускной<br>системы в Москве\",\n",
    "#             showarrow=True,\n",
    "#             arrowhead=2,\n",
    "#             ax=0,\n",
    "#             ay=-90),\n",
    "        dict(\n",
    "            x=0.5,\n",
    "            y=-0.15,\n",
    "            showarrow=False,\n",
    "            text=\"Данные: Яндекс\",\n",
    "            xref=\"paper\",\n",
    "            yref=\"paper\"),\n",
    "        \n",
    "                ],\n",
    "    \n",
    "    \n",
    "                  title_x = 0.5,\n",
    "                  title_y= 0.9,\n",
    "                  title_xanchor = \"center\",\n",
    "                  title_yanchor = \"bottom\", \n",
    "                  legend_x = 0.10,legend_y = 0.95,\n",
    "                  width = 990, height = 600,template = 'gridon',\n",
    "    \n",
    "    \n",
    "                  xaxis_title='',yaxis_title = ' '\n",
    ")\n",
    "\n",
    "\n",
    "fig.show()\n"
   ]
  },
  {
   "cell_type": "code",
   "execution_count": 15,
   "metadata": {},
   "outputs": [
    {
     "output_type": "display_data",
     "data": {
      "application/vnd.plotly.v1+json": {
       "config": {
        "plotlyServerURL": "https://plot.ly"
       },
       "data": [
        {
         "marker": {
          "color": [
           0,
           0,
           0,
           0,
           0,
           0,
           0,
           0,
           0,
           0,
           0,
           0,
           0,
           0,
           0,
           0,
           0,
           0,
           0,
           0,
           0,
           0,
           0,
           0,
           0,
           0,
           0,
           0,
           0,
           0,
           0,
           0,
           0,
           0,
           0,
           0,
           0,
           0,
           0,
           0,
           0,
           1,
           -1,
           0,
           0,
           0,
           0,
           0,
           0,
           0,
           0,
           2,
           -2,
           0,
           4,
           3,
           -7,
           2,
           11,
           5,
           8,
           -26,
           24,
           24,
           3,
           63,
           -68,
           73,
           -46,
           24,
           52,
           -46,
           72,
           -22,
           -70,
           -72,
           132,
           63,
           18,
           87,
           -3,
           -42,
           59,
           -55,
           122,
           5,
           104,
           -57,
           -101,
           -82,
           154,
           52,
           111,
           -101,
           1,
           14,
           -100,
           9,
           55,
           84,
           -85,
           95,
           -48,
           -84,
           -52,
           121,
           20,
           -3,
           11,
           7,
           -106,
           -41,
           27,
           20,
           61,
           45,
           -95,
           -108,
           -65,
           94,
           122,
           -34,
           -10,
           -26,
           -147,
           80,
           -18,
           156,
           -48,
           -36,
           75,
           422,
           -557,
           157,
           106,
           -35,
           -2,
           -61,
           -20,
           -76,
           134,
           155,
           18,
           53,
           -88,
           11,
           -12,
           104,
           70,
           75,
           -62,
           -114,
           -51,
           150,
           106,
           51,
           119,
           -164,
           -33,
           -242,
           34,
           -46,
           227,
           -13,
           39,
           -83,
           -255,
           -16,
           266,
           -7,
           3,
           -6,
           -119,
           -68,
           8,
           202,
           13,
           -35,
           41,
           -123,
           -54,
           -3,
           154,
           33,
           130,
           140,
           -200,
           -109,
           99,
           114,
           174,
           -118,
           101,
           -53,
           -132,
           79,
           190,
           57,
           157,
           13,
           -283,
           -188,
           166,
           270,
           151,
           149,
           97,
           -183,
           -178,
           129,
           359,
           147,
           -14,
           251,
           -347,
           -187
          ],
          "colorbar": {
           "tickmode": "auto",
           "title": {
            "side": "top",
            "text": "Изменение"
           }
          },
          "colorscale": [
           [
            0,
            "rgb(0, 147, 146)"
           ],
           [
            0.16666666666666666,
            "rgb(57, 177, 133)"
           ],
           [
            0.3333333333333333,
            "rgb(156, 203, 134)"
           ],
           [
            0.5,
            "rgb(233, 226, 156)"
           ],
           [
            0.6666666666666666,
            "rgb(238, 180, 121)"
           ],
           [
            0.8333333333333334,
            "rgb(232, 132, 113)"
           ],
           [
            1,
            "rgb(207, 89, 126)"
           ]
          ]
         },
         "text": [
          0,
          0,
          0,
          0,
          0,
          0,
          0,
          0,
          0,
          0,
          0,
          0,
          0,
          0,
          0,
          0,
          0,
          0,
          0,
          0,
          0,
          0,
          0,
          0,
          0,
          0,
          0,
          0,
          0,
          0,
          0,
          0,
          0,
          0,
          0,
          0,
          0,
          0,
          0,
          0,
          0,
          1,
          -1,
          0,
          0,
          0,
          0,
          0,
          0,
          0,
          0,
          2,
          -2,
          0,
          4,
          3,
          -7,
          2,
          11,
          5,
          8,
          -26,
          24,
          24,
          3,
          63,
          -68,
          73,
          -46,
          24,
          52,
          -46,
          72,
          -22,
          -70,
          -72,
          132,
          63,
          18,
          87,
          -3,
          -42,
          59,
          -55,
          122,
          5,
          104,
          -57,
          -101,
          -82,
          154,
          52,
          111,
          -101,
          1,
          14,
          -100,
          9,
          55,
          84,
          -85,
          95,
          -48,
          -84,
          -52,
          121,
          20,
          -3,
          11,
          7,
          -106,
          -41,
          27,
          20,
          61,
          45,
          -95,
          -108,
          -65,
          94,
          122,
          -34,
          -10,
          -26,
          -147,
          80,
          -18,
          156,
          -48,
          -36,
          75,
          422,
          -557,
          157,
          106,
          -35,
          -2,
          -61,
          -20,
          -76,
          134,
          155,
          18,
          53,
          -88,
          11,
          -12,
          104,
          70,
          75,
          -62,
          -114,
          -51,
          150,
          106,
          51,
          119,
          -164,
          -33,
          -242,
          34,
          -46,
          227,
          -13,
          39,
          -83,
          -255,
          -16,
          266,
          -7,
          3,
          -6,
          -119,
          -68,
          8,
          202,
          13,
          -35,
          41,
          -123,
          -54,
          -3,
          154,
          33,
          130,
          140,
          -200,
          -109,
          99,
          114,
          174,
          -118,
          101,
          -53,
          -132,
          79,
          190,
          57,
          157,
          13,
          -283,
          -188,
          166,
          270,
          151,
          149,
          97,
          -183,
          -178,
          129,
          359,
          147,
          -14,
          251,
          -347,
          -187
         ],
         "textposition": "inside",
         "type": "bar",
         "x": [
          "2020-01-22T00:00:00",
          "2020-01-23T00:00:00",
          "2020-01-24T00:00:00",
          "2020-01-25T00:00:00",
          "2020-01-26T00:00:00",
          "2020-01-27T00:00:00",
          "2020-01-28T00:00:00",
          "2020-01-29T00:00:00",
          "2020-01-30T00:00:00",
          "2020-01-31T00:00:00",
          "2020-02-01T00:00:00",
          "2020-02-02T00:00:00",
          "2020-02-03T00:00:00",
          "2020-02-04T00:00:00",
          "2020-02-05T00:00:00",
          "2020-02-06T00:00:00",
          "2020-02-07T00:00:00",
          "2020-02-08T00:00:00",
          "2020-02-09T00:00:00",
          "2020-02-10T00:00:00",
          "2020-02-11T00:00:00",
          "2020-02-12T00:00:00",
          "2020-02-13T00:00:00",
          "2020-02-14T00:00:00",
          "2020-02-15T00:00:00",
          "2020-02-16T00:00:00",
          "2020-02-17T00:00:00",
          "2020-02-18T00:00:00",
          "2020-02-19T00:00:00",
          "2020-02-20T00:00:00",
          "2020-02-21T00:00:00",
          "2020-02-22T00:00:00",
          "2020-02-23T00:00:00",
          "2020-02-24T00:00:00",
          "2020-02-25T00:00:00",
          "2020-02-26T00:00:00",
          "2020-02-27T00:00:00",
          "2020-02-28T00:00:00",
          "2020-02-29T00:00:00",
          "2020-03-01T00:00:00",
          "2020-03-02T00:00:00",
          "2020-03-03T00:00:00",
          "2020-03-04T00:00:00",
          "2020-03-05T00:00:00",
          "2020-03-06T00:00:00",
          "2020-03-07T00:00:00",
          "2020-03-08T00:00:00",
          "2020-03-09T00:00:00",
          "2020-03-10T00:00:00",
          "2020-03-11T00:00:00",
          "2020-03-12T00:00:00",
          "2020-03-13T00:00:00",
          "2020-03-14T00:00:00",
          "2020-03-15T00:00:00",
          "2020-03-16T00:00:00",
          "2020-03-17T00:00:00",
          "2020-03-18T00:00:00",
          "2020-03-19T00:00:00",
          "2020-03-20T00:00:00",
          "2020-03-21T00:00:00",
          "2020-03-22T00:00:00",
          "2020-03-23T00:00:00",
          "2020-03-24T00:00:00",
          "2020-03-25T00:00:00",
          "2020-03-26T00:00:00",
          "2020-03-27T00:00:00",
          "2020-03-28T00:00:00",
          "2020-03-29T00:00:00",
          "2020-03-30T00:00:00",
          "2020-03-31T00:00:00",
          "2020-04-01T00:00:00",
          "2020-04-02T00:00:00",
          "2020-04-03T00:00:00",
          "2020-04-04T00:00:00",
          "2020-04-05T00:00:00",
          "2020-04-06T00:00:00",
          "2020-04-07T00:00:00",
          "2020-04-08T00:00:00",
          "2020-04-09T00:00:00",
          "2020-04-10T00:00:00",
          "2020-04-11T00:00:00",
          "2020-04-12T00:00:00",
          "2020-04-13T00:00:00",
          "2020-04-14T00:00:00",
          "2020-04-15T00:00:00",
          "2020-04-16T00:00:00",
          "2020-04-17T00:00:00",
          "2020-04-18T00:00:00",
          "2020-04-19T00:00:00",
          "2020-04-20T00:00:00",
          "2020-04-21T00:00:00",
          "2020-04-22T00:00:00",
          "2020-04-23T00:00:00",
          "2020-04-24T00:00:00",
          "2020-04-25T00:00:00",
          "2020-04-26T00:00:00",
          "2020-04-27T00:00:00",
          "2020-04-28T00:00:00",
          "2020-04-29T00:00:00",
          "2020-04-30T00:00:00",
          "2020-05-01T00:00:00",
          "2020-05-02T00:00:00",
          "2020-05-03T00:00:00",
          "2020-05-04T00:00:00",
          "2020-05-05T00:00:00",
          "2020-05-06T00:00:00",
          "2020-05-07T00:00:00",
          "2020-05-08T00:00:00",
          "2020-05-09T00:00:00",
          "2020-05-10T00:00:00",
          "2020-05-11T00:00:00",
          "2020-05-12T00:00:00",
          "2020-05-13T00:00:00",
          "2020-05-14T00:00:00",
          "2020-05-15T00:00:00",
          "2020-05-16T00:00:00",
          "2020-05-17T00:00:00",
          "2020-05-18T00:00:00",
          "2020-05-19T00:00:00",
          "2020-05-20T00:00:00",
          "2020-05-21T00:00:00",
          "2020-05-22T00:00:00",
          "2020-05-23T00:00:00",
          "2020-05-24T00:00:00",
          "2020-05-25T00:00:00",
          "2020-05-26T00:00:00",
          "2020-05-27T00:00:00",
          "2020-05-28T00:00:00",
          "2020-05-29T00:00:00",
          "2020-05-30T00:00:00",
          "2020-05-31T00:00:00",
          "2020-06-01T00:00:00",
          "2020-06-02T00:00:00",
          "2020-06-03T00:00:00",
          "2020-06-04T00:00:00",
          "2020-06-05T00:00:00",
          "2020-06-06T00:00:00",
          "2020-06-07T00:00:00",
          "2020-06-08T00:00:00",
          "2020-06-09T00:00:00",
          "2020-06-10T00:00:00",
          "2020-06-11T00:00:00",
          "2020-06-12T00:00:00",
          "2020-06-13T00:00:00",
          "2020-06-14T00:00:00",
          "2020-06-15T00:00:00",
          "2020-06-16T00:00:00",
          "2020-06-17T00:00:00",
          "2020-06-18T00:00:00",
          "2020-06-19T00:00:00",
          "2020-06-20T00:00:00",
          "2020-06-21T00:00:00",
          "2020-06-22T00:00:00",
          "2020-06-23T00:00:00",
          "2020-06-24T00:00:00",
          "2020-06-25T00:00:00",
          "2020-06-26T00:00:00",
          "2020-06-27T00:00:00",
          "2020-06-28T00:00:00",
          "2020-06-29T00:00:00",
          "2020-06-30T00:00:00",
          "2020-07-01T00:00:00",
          "2020-07-02T00:00:00",
          "2020-07-03T00:00:00",
          "2020-07-04T00:00:00",
          "2020-07-05T00:00:00",
          "2020-07-06T00:00:00",
          "2020-07-07T00:00:00",
          "2020-07-08T00:00:00",
          "2020-07-09T00:00:00",
          "2020-07-10T00:00:00",
          "2020-07-11T00:00:00",
          "2020-07-12T00:00:00",
          "2020-07-13T00:00:00",
          "2020-07-14T00:00:00",
          "2020-07-15T00:00:00",
          "2020-07-16T00:00:00",
          "2020-07-17T00:00:00",
          "2020-07-18T00:00:00",
          "2020-07-19T00:00:00",
          "2020-07-20T00:00:00",
          "2020-07-21T00:00:00",
          "2020-07-22T00:00:00",
          "2020-07-23T00:00:00",
          "2020-07-24T00:00:00",
          "2020-07-25T00:00:00",
          "2020-07-26T00:00:00",
          "2020-07-27T00:00:00",
          "2020-07-28T00:00:00",
          "2020-07-29T00:00:00",
          "2020-07-30T00:00:00",
          "2020-07-31T00:00:00",
          "2020-08-01T00:00:00",
          "2020-08-02T00:00:00",
          "2020-08-03T00:00:00",
          "2020-08-04T00:00:00",
          "2020-08-05T00:00:00",
          "2020-08-06T00:00:00",
          "2020-08-07T00:00:00",
          "2020-08-08T00:00:00",
          "2020-08-09T00:00:00",
          "2020-08-10T00:00:00",
          "2020-08-11T00:00:00",
          "2020-08-12T00:00:00",
          "2020-08-13T00:00:00",
          "2020-08-14T00:00:00",
          "2020-08-15T00:00:00",
          "2020-08-16T00:00:00",
          "2020-08-17T00:00:00",
          "2020-08-18T00:00:00",
          "2020-08-19T00:00:00",
          "2020-08-20T00:00:00",
          "2020-08-21T00:00:00",
          "2020-08-22T00:00:00",
          "2020-08-23T00:00:00",
          "2020-08-24T00:00:00"
         ],
         "y": [
          0,
          0,
          0,
          0,
          0,
          0,
          0,
          0,
          0,
          0,
          0,
          0,
          0,
          0,
          0,
          0,
          0,
          0,
          0,
          0,
          0,
          0,
          0,
          0,
          0,
          0,
          0,
          0,
          0,
          0,
          0,
          0,
          0,
          0,
          0,
          0,
          0,
          0,
          0,
          0,
          0,
          1,
          -1,
          0,
          0,
          0,
          0,
          0,
          0,
          0,
          0,
          2,
          -2,
          0,
          4,
          3,
          -7,
          2,
          11,
          5,
          8,
          -26,
          24,
          24,
          3,
          63,
          -68,
          73,
          -46,
          24,
          52,
          -46,
          72,
          -22,
          -70,
          -72,
          132,
          63,
          18,
          87,
          -3,
          -42,
          59,
          -55,
          122,
          5,
          104,
          -57,
          -101,
          -82,
          154,
          52,
          111,
          -101,
          1,
          14,
          -100,
          9,
          55,
          84,
          -85,
          95,
          -48,
          -84,
          -52,
          121,
          20,
          -3,
          11,
          7,
          -106,
          -41,
          27,
          20,
          61,
          45,
          -95,
          -108,
          -65,
          94,
          122,
          -34,
          -10,
          -26,
          -147,
          80,
          -18,
          156,
          -48,
          -36,
          75,
          422,
          -557,
          157,
          106,
          -35,
          -2,
          -61,
          -20,
          -76,
          134,
          155,
          18,
          53,
          -88,
          11,
          -12,
          104,
          70,
          75,
          -62,
          -114,
          -51,
          150,
          106,
          51,
          119,
          -164,
          -33,
          -242,
          34,
          -46,
          227,
          -13,
          39,
          -83,
          -255,
          -16,
          266,
          -7,
          3,
          -6,
          -119,
          -68,
          8,
          202,
          13,
          -35,
          41,
          -123,
          -54,
          -3,
          154,
          33,
          130,
          140,
          -200,
          -109,
          99,
          114,
          174,
          -118,
          101,
          -53,
          -132,
          79,
          190,
          57,
          157,
          13,
          -283,
          -188,
          166,
          270,
          151,
          149,
          97,
          -183,
          -178,
          129,
          359,
          147,
          -14,
          251,
          -347,
          -187
         ]
        }
       ],
       "layout": {
        "annotations": [
         {
          "showarrow": false,
          "text": "",
          "x": 0.5,
          "xref": "paper",
          "y": -0.15,
          "yref": "paper"
         }
        ],
        "height": 600,
        "legend": {
         "x": 0.05,
         "y": 0.98
        },
        "template": {
         "data": {
          "pie": [
           {
            "automargin": true,
            "type": "pie"
           }
          ]
         },
         "layout": {
          "xaxis": {
           "showgrid": true,
           "title": {
            "standoff": 15
           }
          },
          "yaxis": {
           "showgrid": true,
           "title": {
            "standoff": 15
           }
          }
         }
        },
        "title": {
         "text": "Украина: динамика новых заболевших COVID-19 по дням<br>(изменение относительно предыдущего дня)",
         "x": 0.5,
         "xanchor": "center",
         "y": 0.9,
         "yanchor": "bottom"
        },
        "width": 990,
        "xaxis": {
         "title": {
          "text": "Данные: Яндекс"
         }
        },
        "yaxis": {
         "title": {
          "text": " "
         }
        }
       }
      }
     },
     "metadata": {}
    }
   ],
   "source": [
    "mask = X.Country ==my_country\n",
    "#mask = (X.Date>datetime.date(2020,5,1))&(X.Region==my_region)\n",
    "Y = X[mask]\n",
    "\n",
    "Y['base'] = Y['Change_dayconf']*Y['Change_dayconf'].apply(lambda d:0 if d>0 else 1)\n",
    "Y['Date']= pd.to_datetime(Y.Date)\n",
    "fig = go.Figure()\n",
    "fig.add_trace(\n",
    "              go.Bar(x = Y.Date,y=Y.Change_dayconf,text = Y['Change_dayconf'],textposition = 'inside',\n",
    "                \n",
    "                #marker_color=Y['Change_dayconf'].apply(lambda d:'crimson' if d>0 else 'green'),\n",
    "                 marker_color = Y['Change_dayconf'],marker_colorscale = 'Temps',marker_colorbar ={'tickmode':'auto',\n",
    "                                    'title':{'text':'Изменение','side':'top'}}\n",
    "                    )   \n",
    "                )\n",
    "fig.update_layout(\n",
    "    annotations=[\n",
    "#         dict(\n",
    "#             x='2020-04-13',\n",
    "#             y=10594,\n",
    "#             xref=\"x\",\n",
    "#             yref=\"y\",\n",
    "#             text=\"Введение<br>пропускной<br>системы в Москве\",\n",
    "#             showarrow=True,\n",
    "#             arrowhead=2,\n",
    "#             ax=0,\n",
    "#             ay=-60),\n",
    "#         dict(\n",
    "#             x='2020-06-09',\n",
    "#             y=-429,\n",
    "#             xref=\"x\",\n",
    "#             yref=\"y\",\n",
    "#             text=\"Отмена<br>пропускной<br>системы в Москве\",\n",
    "#             showarrow=True,\n",
    "#             arrowhead=2,\n",
    "#             ax=0,\n",
    "#             ay=60),\n",
    "        \n",
    "        dict(x=0.5,y=-0.15,\n",
    "            showarrow=False,\n",
    "            text=\"\",\n",
    "            xref=\"paper\",\n",
    "            yref=\"paper\")],\n",
    "                  title=f'{my_country}: динамика новых заболевших COVID-19 по дням<br>(изменение относительно предыдущего дня)',\n",
    "                  title_x = 0.5,\n",
    "                  title_y= 0.9,\n",
    "                  title_xanchor = \"center\",\n",
    "                  title_yanchor = \"bottom\", \n",
    "                  legend_x = 0.05,legend_y = 0.98,\n",
    "                  width = 990, height = 600,template = 'gridon',\n",
    "    \n",
    "    \n",
    "                  xaxis_title='Данные: Яндекс',\n",
    "    yaxis_title = ' '\n",
    ")\n",
    "\n",
    "\n",
    "fig.show()\n"
   ]
  },
  {
   "cell_type": "code",
   "execution_count": 16,
   "metadata": {},
   "outputs": [
    {
     "output_type": "display_data",
     "data": {
      "application/vnd.plotly.v1+json": {
       "config": {
        "plotlyServerURL": "https://plot.ly"
       },
       "data": [
        {
         "alignmentgroup": "True",
         "hovertemplate": "Date=%{x}<br>Текущие больные=%{marker.color}<extra></extra>",
         "legendgroup": "",
         "marker": {
          "color": [
           0,
           0,
           0,
           0,
           0,
           0,
           0,
           0,
           0,
           0,
           0,
           0,
           0,
           0,
           0,
           0,
           0,
           0,
           0,
           0,
           0,
           0,
           0,
           0,
           0,
           0,
           0,
           0,
           0,
           0,
           0,
           0,
           0,
           0,
           0,
           0,
           0,
           0,
           0,
           0,
           0,
           1,
           1,
           1,
           1,
           1,
           1,
           1,
           1,
           1,
           1,
           2,
           2,
           2,
           6,
           12,
           12,
           14,
           26,
           43,
           69,
           69,
           93,
           139,
           190,
           300,
           342,
           459,
           527,
           618,
           761,
           856,
           1023,
           1168,
           1243,
           1253,
           1389,
           1581,
           1790,
           2073,
           2359,
           2605,
           2912,
           3155,
           3513,
           3859,
           4291,
           4698,
           4961,
           5200,
           5597,
           5994,
           6479,
           6664,
           7142,
           7568,
           7925,
           8179,
           8513,
           8907,
           9176,
           9634,
           10077,
           10409,
           10506,
           10760,
           10955,
           11128,
           11425,
           11781,
           11952,
           12225,
           12270,
           12248,
           12381,
           12455,
           12661,
           12805,
           12696,
           12711,
           12900,
           12975,
           13046,
           13261,
           13388,
           13365,
           13252,
           13274,
           13198,
           13197,
           13426,
           13785,
           13701,
           13805,
           13758,
           13957,
           14051,
           14290,
           14615,
           14769,
           14917,
           15200,
           15460,
           15798,
           16356,
           16854,
           17233,
           17548,
           17856,
           18172,
           18637,
           19271,
           19823,
           20318,
           20782,
           21411,
           21951,
           22461,
           23129,
           23698,
           24289,
           24492,
           24866,
           25182,
           25478,
           26072,
           26313,
           26353,
           26222,
           26335,
           26120,
           26039,
           26276,
           26514,
           26481,
           26330,
           26356,
           26318,
           26358,
           26737,
           26853,
           26731,
           26566,
           26564,
           26650,
           27134,
           27751,
           28258,
           28528,
           28882,
           29276,
           29742,
           30360,
           31257,
           31922,
           32243,
           32572,
           32857,
           33770,
           34622,
           35507,
           36139,
           36731,
           37421,
           38435,
           39587,
           40773,
           42044,
           43193,
           43993,
           45118,
           46499,
           47931,
           49593,
           51098,
           52637
          ],
          "coloraxis": "coloraxis"
         },
         "name": "",
         "offsetgroup": "",
         "orientation": "v",
         "showlegend": false,
         "text": [
          0,
          0,
          0,
          0,
          0,
          0,
          0,
          0,
          0,
          0,
          0,
          0,
          0,
          0,
          0,
          0,
          0,
          0,
          0,
          0,
          0,
          0,
          0,
          0,
          0,
          0,
          0,
          0,
          0,
          0,
          0,
          0,
          0,
          0,
          0,
          0,
          0,
          0,
          0,
          0,
          0,
          1,
          1,
          1,
          1,
          1,
          1,
          1,
          1,
          1,
          1,
          2,
          2,
          2,
          6,
          12,
          12,
          14,
          26,
          43,
          69,
          69,
          93,
          139,
          190,
          300,
          342,
          459,
          527,
          618,
          761,
          856,
          1023,
          1168,
          1243,
          1253,
          1389,
          1581,
          1790,
          2073,
          2359,
          2605,
          2912,
          3155,
          3513,
          3859,
          4291,
          4698,
          4961,
          5200,
          5597,
          5994,
          6479,
          6664,
          7142,
          7568,
          7925,
          8179,
          8513,
          8907,
          9176,
          9634,
          10077,
          10409,
          10506,
          10760,
          10955,
          11128,
          11425,
          11781,
          11952,
          12225,
          12270,
          12248,
          12381,
          12455,
          12661,
          12805,
          12696,
          12711,
          12900,
          12975,
          13046,
          13261,
          13388,
          13365,
          13252,
          13274,
          13198,
          13197,
          13426,
          13785,
          13701,
          13805,
          13758,
          13957,
          14051,
          14290,
          14615,
          14769,
          14917,
          15200,
          15460,
          15798,
          16356,
          16854,
          17233,
          17548,
          17856,
          18172,
          18637,
          19271,
          19823,
          20318,
          20782,
          21411,
          21951,
          22461,
          23129,
          23698,
          24289,
          24492,
          24866,
          25182,
          25478,
          26072,
          26313,
          26353,
          26222,
          26335,
          26120,
          26039,
          26276,
          26514,
          26481,
          26330,
          26356,
          26318,
          26358,
          26737,
          26853,
          26731,
          26566,
          26564,
          26650,
          27134,
          27751,
          28258,
          28528,
          28882,
          29276,
          29742,
          30360,
          31257,
          31922,
          32243,
          32572,
          32857,
          33770,
          34622,
          35507,
          36139,
          36731,
          37421,
          38435,
          39587,
          40773,
          42044,
          43193,
          43993,
          45118,
          46499,
          47931,
          49593,
          51098,
          52637
         ],
         "textposition": "auto",
         "type": "bar",
         "x": [
          "2020-01-22",
          "2020-01-23",
          "2020-01-24",
          "2020-01-25",
          "2020-01-26",
          "2020-01-27",
          "2020-01-28",
          "2020-01-29",
          "2020-01-30",
          "2020-01-31",
          "2020-02-01",
          "2020-02-02",
          "2020-02-03",
          "2020-02-04",
          "2020-02-05",
          "2020-02-06",
          "2020-02-07",
          "2020-02-08",
          "2020-02-09",
          "2020-02-10",
          "2020-02-11",
          "2020-02-12",
          "2020-02-13",
          "2020-02-14",
          "2020-02-15",
          "2020-02-16",
          "2020-02-17",
          "2020-02-18",
          "2020-02-19",
          "2020-02-20",
          "2020-02-21",
          "2020-02-22",
          "2020-02-23",
          "2020-02-24",
          "2020-02-25",
          "2020-02-26",
          "2020-02-27",
          "2020-02-28",
          "2020-02-29",
          "2020-03-01",
          "2020-03-02",
          "2020-03-03",
          "2020-03-04",
          "2020-03-05",
          "2020-03-06",
          "2020-03-07",
          "2020-03-08",
          "2020-03-09",
          "2020-03-10",
          "2020-03-11",
          "2020-03-12",
          "2020-03-13",
          "2020-03-14",
          "2020-03-15",
          "2020-03-16",
          "2020-03-17",
          "2020-03-18",
          "2020-03-19",
          "2020-03-20",
          "2020-03-21",
          "2020-03-22",
          "2020-03-23",
          "2020-03-24",
          "2020-03-25",
          "2020-03-26",
          "2020-03-27",
          "2020-03-28",
          "2020-03-29",
          "2020-03-30",
          "2020-03-31",
          "2020-04-01",
          "2020-04-02",
          "2020-04-03",
          "2020-04-04",
          "2020-04-05",
          "2020-04-06",
          "2020-04-07",
          "2020-04-08",
          "2020-04-09",
          "2020-04-10",
          "2020-04-11",
          "2020-04-12",
          "2020-04-13",
          "2020-04-14",
          "2020-04-15",
          "2020-04-16",
          "2020-04-17",
          "2020-04-18",
          "2020-04-19",
          "2020-04-20",
          "2020-04-21",
          "2020-04-22",
          "2020-04-23",
          "2020-04-24",
          "2020-04-25",
          "2020-04-26",
          "2020-04-27",
          "2020-04-28",
          "2020-04-29",
          "2020-04-30",
          "2020-05-01",
          "2020-05-02",
          "2020-05-03",
          "2020-05-04",
          "2020-05-05",
          "2020-05-06",
          "2020-05-07",
          "2020-05-08",
          "2020-05-09",
          "2020-05-10",
          "2020-05-11",
          "2020-05-12",
          "2020-05-13",
          "2020-05-14",
          "2020-05-15",
          "2020-05-16",
          "2020-05-17",
          "2020-05-18",
          "2020-05-19",
          "2020-05-20",
          "2020-05-21",
          "2020-05-22",
          "2020-05-23",
          "2020-05-24",
          "2020-05-25",
          "2020-05-26",
          "2020-05-27",
          "2020-05-28",
          "2020-05-29",
          "2020-05-30",
          "2020-05-31",
          "2020-06-01",
          "2020-06-02",
          "2020-06-03",
          "2020-06-04",
          "2020-06-05",
          "2020-06-06",
          "2020-06-07",
          "2020-06-08",
          "2020-06-09",
          "2020-06-10",
          "2020-06-11",
          "2020-06-12",
          "2020-06-13",
          "2020-06-14",
          "2020-06-15",
          "2020-06-16",
          "2020-06-17",
          "2020-06-18",
          "2020-06-19",
          "2020-06-20",
          "2020-06-21",
          "2020-06-22",
          "2020-06-23",
          "2020-06-24",
          "2020-06-25",
          "2020-06-26",
          "2020-06-27",
          "2020-06-28",
          "2020-06-29",
          "2020-06-30",
          "2020-07-01",
          "2020-07-02",
          "2020-07-03",
          "2020-07-04",
          "2020-07-05",
          "2020-07-06",
          "2020-07-07",
          "2020-07-08",
          "2020-07-09",
          "2020-07-10",
          "2020-07-11",
          "2020-07-12",
          "2020-07-13",
          "2020-07-14",
          "2020-07-15",
          "2020-07-16",
          "2020-07-17",
          "2020-07-18",
          "2020-07-19",
          "2020-07-20",
          "2020-07-21",
          "2020-07-22",
          "2020-07-23",
          "2020-07-24",
          "2020-07-25",
          "2020-07-26",
          "2020-07-27",
          "2020-07-28",
          "2020-07-29",
          "2020-07-30",
          "2020-07-31",
          "2020-08-01",
          "2020-08-02",
          "2020-08-03",
          "2020-08-04",
          "2020-08-05",
          "2020-08-06",
          "2020-08-07",
          "2020-08-08",
          "2020-08-09",
          "2020-08-10",
          "2020-08-11",
          "2020-08-12",
          "2020-08-13",
          "2020-08-14",
          "2020-08-15",
          "2020-08-16",
          "2020-08-17",
          "2020-08-18",
          "2020-08-19",
          "2020-08-20",
          "2020-08-21",
          "2020-08-22",
          "2020-08-23",
          "2020-08-24"
         ],
         "xaxis": "x",
         "y": [
          0,
          0,
          0,
          0,
          0,
          0,
          0,
          0,
          0,
          0,
          0,
          0,
          0,
          0,
          0,
          0,
          0,
          0,
          0,
          0,
          0,
          0,
          0,
          0,
          0,
          0,
          0,
          0,
          0,
          0,
          0,
          0,
          0,
          0,
          0,
          0,
          0,
          0,
          0,
          0,
          0,
          1,
          1,
          1,
          1,
          1,
          1,
          1,
          1,
          1,
          1,
          2,
          2,
          2,
          6,
          12,
          12,
          14,
          26,
          43,
          69,
          69,
          93,
          139,
          190,
          300,
          342,
          459,
          527,
          618,
          761,
          856,
          1023,
          1168,
          1243,
          1253,
          1389,
          1581,
          1790,
          2073,
          2359,
          2605,
          2912,
          3155,
          3513,
          3859,
          4291,
          4698,
          4961,
          5200,
          5597,
          5994,
          6479,
          6664,
          7142,
          7568,
          7925,
          8179,
          8513,
          8907,
          9176,
          9634,
          10077,
          10409,
          10506,
          10760,
          10955,
          11128,
          11425,
          11781,
          11952,
          12225,
          12270,
          12248,
          12381,
          12455,
          12661,
          12805,
          12696,
          12711,
          12900,
          12975,
          13046,
          13261,
          13388,
          13365,
          13252,
          13274,
          13198,
          13197,
          13426,
          13785,
          13701,
          13805,
          13758,
          13957,
          14051,
          14290,
          14615,
          14769,
          14917,
          15200,
          15460,
          15798,
          16356,
          16854,
          17233,
          17548,
          17856,
          18172,
          18637,
          19271,
          19823,
          20318,
          20782,
          21411,
          21951,
          22461,
          23129,
          23698,
          24289,
          24492,
          24866,
          25182,
          25478,
          26072,
          26313,
          26353,
          26222,
          26335,
          26120,
          26039,
          26276,
          26514,
          26481,
          26330,
          26356,
          26318,
          26358,
          26737,
          26853,
          26731,
          26566,
          26564,
          26650,
          27134,
          27751,
          28258,
          28528,
          28882,
          29276,
          29742,
          30360,
          31257,
          31922,
          32243,
          32572,
          32857,
          33770,
          34622,
          35507,
          36139,
          36731,
          37421,
          38435,
          39587,
          40773,
          42044,
          43193,
          43993,
          45118,
          46499,
          47931,
          49593,
          51098,
          52637
         ],
         "yaxis": "y"
        },
        {
         "line": {
          "color": "green"
         },
         "mode": "lines",
         "name": "14-дневная скользящая средняя",
         "showlegend": true,
         "type": "scatter",
         "x": [
          "2020-01-22",
          "2020-01-23",
          "2020-01-24",
          "2020-01-25",
          "2020-01-26",
          "2020-01-27",
          "2020-01-28",
          "2020-01-29",
          "2020-01-30",
          "2020-01-31",
          "2020-02-01",
          "2020-02-02",
          "2020-02-03",
          "2020-02-04",
          "2020-02-05",
          "2020-02-06",
          "2020-02-07",
          "2020-02-08",
          "2020-02-09",
          "2020-02-10",
          "2020-02-11",
          "2020-02-12",
          "2020-02-13",
          "2020-02-14",
          "2020-02-15",
          "2020-02-16",
          "2020-02-17",
          "2020-02-18",
          "2020-02-19",
          "2020-02-20",
          "2020-02-21",
          "2020-02-22",
          "2020-02-23",
          "2020-02-24",
          "2020-02-25",
          "2020-02-26",
          "2020-02-27",
          "2020-02-28",
          "2020-02-29",
          "2020-03-01",
          "2020-03-02",
          "2020-03-03",
          "2020-03-04",
          "2020-03-05",
          "2020-03-06",
          "2020-03-07",
          "2020-03-08",
          "2020-03-09",
          "2020-03-10",
          "2020-03-11",
          "2020-03-12",
          "2020-03-13",
          "2020-03-14",
          "2020-03-15",
          "2020-03-16",
          "2020-03-17",
          "2020-03-18",
          "2020-03-19",
          "2020-03-20",
          "2020-03-21",
          "2020-03-22",
          "2020-03-23",
          "2020-03-24",
          "2020-03-25",
          "2020-03-26",
          "2020-03-27",
          "2020-03-28",
          "2020-03-29",
          "2020-03-30",
          "2020-03-31",
          "2020-04-01",
          "2020-04-02",
          "2020-04-03",
          "2020-04-04",
          "2020-04-05",
          "2020-04-06",
          "2020-04-07",
          "2020-04-08",
          "2020-04-09",
          "2020-04-10",
          "2020-04-11",
          "2020-04-12",
          "2020-04-13",
          "2020-04-14",
          "2020-04-15",
          "2020-04-16",
          "2020-04-17",
          "2020-04-18",
          "2020-04-19",
          "2020-04-20",
          "2020-04-21",
          "2020-04-22",
          "2020-04-23",
          "2020-04-24",
          "2020-04-25",
          "2020-04-26",
          "2020-04-27",
          "2020-04-28",
          "2020-04-29",
          "2020-04-30",
          "2020-05-01",
          "2020-05-02",
          "2020-05-03",
          "2020-05-04",
          "2020-05-05",
          "2020-05-06",
          "2020-05-07",
          "2020-05-08",
          "2020-05-09",
          "2020-05-10",
          "2020-05-11",
          "2020-05-12",
          "2020-05-13",
          "2020-05-14",
          "2020-05-15",
          "2020-05-16",
          "2020-05-17",
          "2020-05-18",
          "2020-05-19",
          "2020-05-20",
          "2020-05-21",
          "2020-05-22",
          "2020-05-23",
          "2020-05-24",
          "2020-05-25",
          "2020-05-26",
          "2020-05-27",
          "2020-05-28",
          "2020-05-29",
          "2020-05-30",
          "2020-05-31",
          "2020-06-01",
          "2020-06-02",
          "2020-06-03",
          "2020-06-04",
          "2020-06-05",
          "2020-06-06",
          "2020-06-07",
          "2020-06-08",
          "2020-06-09",
          "2020-06-10",
          "2020-06-11",
          "2020-06-12",
          "2020-06-13",
          "2020-06-14",
          "2020-06-15",
          "2020-06-16",
          "2020-06-17",
          "2020-06-18",
          "2020-06-19",
          "2020-06-20",
          "2020-06-21",
          "2020-06-22",
          "2020-06-23",
          "2020-06-24",
          "2020-06-25",
          "2020-06-26",
          "2020-06-27",
          "2020-06-28",
          "2020-06-29",
          "2020-06-30",
          "2020-07-01",
          "2020-07-02",
          "2020-07-03",
          "2020-07-04",
          "2020-07-05",
          "2020-07-06",
          "2020-07-07",
          "2020-07-08",
          "2020-07-09",
          "2020-07-10",
          "2020-07-11",
          "2020-07-12",
          "2020-07-13",
          "2020-07-14",
          "2020-07-15",
          "2020-07-16",
          "2020-07-17",
          "2020-07-18",
          "2020-07-19",
          "2020-07-20",
          "2020-07-21",
          "2020-07-22",
          "2020-07-23",
          "2020-07-24",
          "2020-07-25",
          "2020-07-26",
          "2020-07-27",
          "2020-07-28",
          "2020-07-29",
          "2020-07-30",
          "2020-07-31",
          "2020-08-01",
          "2020-08-02",
          "2020-08-03",
          "2020-08-04",
          "2020-08-05",
          "2020-08-06",
          "2020-08-07",
          "2020-08-08",
          "2020-08-09",
          "2020-08-10",
          "2020-08-11",
          "2020-08-12",
          "2020-08-13",
          "2020-08-14",
          "2020-08-15",
          "2020-08-16",
          "2020-08-17",
          "2020-08-18",
          "2020-08-19",
          "2020-08-20",
          "2020-08-21",
          "2020-08-22",
          "2020-08-23",
          "2020-08-24"
         ],
         "y": [
          null,
          null,
          null,
          null,
          null,
          null,
          null,
          null,
          null,
          null,
          null,
          null,
          null,
          0,
          0,
          0,
          0,
          0,
          0,
          0,
          0,
          0,
          0,
          0,
          0,
          0,
          0,
          0,
          0,
          0,
          0,
          0,
          0,
          0,
          0,
          0,
          0,
          0,
          0,
          0,
          0,
          0.07142857142857142,
          0.14285714285714285,
          0.21428571428571427,
          0.2857142857142857,
          0.35714285714285715,
          0.42857142857142855,
          0.5,
          0.5714285714285714,
          0.6428571428571429,
          0.7142857142857143,
          0.8571428571428571,
          1,
          1.1428571428571428,
          1.5714285714285714,
          2.357142857142857,
          3.142857142857143,
          4.071428571428571,
          5.857142857142857,
          8.857142857142858,
          13.714285714285714,
          18.571428571428573,
          25.142857142857142,
          35,
          48.5,
          69.78571428571429,
          94.07142857142857,
          126.71428571428571,
          163.92857142857142,
          207.21428571428572,
          260.7142857142857,
          320.85714285714283,
          392.07142857142856,
          472.42857142857144,
          556.2857142857143,
          640.8571428571429,
          733.4285714285714,
          836.4285714285714,
          950.7142857142857,
          1077.357142857143,
          1221.4285714285713,
          1374.7142857142858,
          1545.0714285714287,
          1726.2857142857142,
          1922.857142857143,
          2137.3571428571427,
          2370.785714285714,
          2622.9285714285716,
          2888.5,
          3170.4285714285716,
          3471,
          3786.214285714286,
          4121.142857142857,
          4449.071428571428,
          4790.714285714285,
          5145.214285714285,
          5503.285714285715,
          5862.142857142857,
          6219.285714285715,
          6579.857142857143,
          6928.785714285715,
          7281.357142857143,
          7646.785714285715,
          8018.857142857143,
          8369.5,
          8709.92857142857,
          9029.642857142857,
          9348.5,
          9654.42857142857,
          9955.357142857143,
          10243,
          10532,
          10800.357142857143,
          11039,
          11267.92857142857,
          11469.42857142857,
          11654,
          11825.142857142857,
          11981.57142857143,
          12120.92857142857,
          12259.857142857143,
          12391.785714285714,
          12507.57142857143,
          12613.285714285714,
          12715.857142857143,
          12797.285714285714,
          12867.42857142857,
          12940.714285714286,
          12999.07142857143,
          13052.07142857143,
          13106.714285714286,
          13176.714285714286,
          13248.5,
          13326.642857142857,
          13387.92857142857,
          13458.07142857143,
          13529.857142857143,
          13603.357142857143,
          13691,
          13791.285714285714,
          13910.214285714286,
          14047.785714285714,
          14209.357142857143,
          14395.142857142857,
          14604.42857142857,
          14823.642857142857,
          15075.92857142857,
          15343.285714285714,
          15636,
          15937.07142857143,
          16264.642857142857,
          16620.428571428572,
          16992.428571428572,
          17388.785714285714,
          17807.714285714286,
          18251.35714285714,
          18715,
          19190.928571428572,
          19674.714285714286,
          20163.571428571428,
          20667.571428571428,
          21163.571428571428,
          21664.285714285714,
          22165,
          22653.64285714286,
          23139.428571428572,
          23603,
          24034.071428571428,
          24422.64285714286,
          24774.35714285714,
          25072.14285714286,
          25327.714285714286,
          25552.5,
          25753.64285714286,
          25910.214285714286,
          26041.5,
          26147.928571428572,
          26229.071428571428,
          26291.928571428572,
          26339.428571428572,
          26378,
          26405,
          26429.571428571428,
          26445.928571428572,
          26483.785714285714,
          26562,
          26667.35714285714,
          26791.928571428572,
          26938.14285714286,
          27120.428571428572,
          27329,
          27573.571428571428,
          27859.428571428572,
          28182.285714285714,
          28544.35714285714,
          28938.071428571428,
          29367.071428571428,
          29816.571428571428,
          30325.14285714286,
          30860,
          31414,
          31976.928571428572,
          32562.85714285714,
          33172.78571428572,
          33827,
          34530.21428571428,
          35274,
          36044.5,
          36849.57142857143,
          37688.857142857145,
          38585,
          39559.42857142857,
          40570.92857142857,
          41640.28571428572,
          42753.92857142857,
          43932.357142857145
         ]
        },
        {
         "line": {
          "color": "red"
         },
         "mode": "lines",
         "name": "7-дневная скользящая средняя",
         "showlegend": true,
         "type": "scatter",
         "x": [
          "2020-01-22",
          "2020-01-23",
          "2020-01-24",
          "2020-01-25",
          "2020-01-26",
          "2020-01-27",
          "2020-01-28",
          "2020-01-29",
          "2020-01-30",
          "2020-01-31",
          "2020-02-01",
          "2020-02-02",
          "2020-02-03",
          "2020-02-04",
          "2020-02-05",
          "2020-02-06",
          "2020-02-07",
          "2020-02-08",
          "2020-02-09",
          "2020-02-10",
          "2020-02-11",
          "2020-02-12",
          "2020-02-13",
          "2020-02-14",
          "2020-02-15",
          "2020-02-16",
          "2020-02-17",
          "2020-02-18",
          "2020-02-19",
          "2020-02-20",
          "2020-02-21",
          "2020-02-22",
          "2020-02-23",
          "2020-02-24",
          "2020-02-25",
          "2020-02-26",
          "2020-02-27",
          "2020-02-28",
          "2020-02-29",
          "2020-03-01",
          "2020-03-02",
          "2020-03-03",
          "2020-03-04",
          "2020-03-05",
          "2020-03-06",
          "2020-03-07",
          "2020-03-08",
          "2020-03-09",
          "2020-03-10",
          "2020-03-11",
          "2020-03-12",
          "2020-03-13",
          "2020-03-14",
          "2020-03-15",
          "2020-03-16",
          "2020-03-17",
          "2020-03-18",
          "2020-03-19",
          "2020-03-20",
          "2020-03-21",
          "2020-03-22",
          "2020-03-23",
          "2020-03-24",
          "2020-03-25",
          "2020-03-26",
          "2020-03-27",
          "2020-03-28",
          "2020-03-29",
          "2020-03-30",
          "2020-03-31",
          "2020-04-01",
          "2020-04-02",
          "2020-04-03",
          "2020-04-04",
          "2020-04-05",
          "2020-04-06",
          "2020-04-07",
          "2020-04-08",
          "2020-04-09",
          "2020-04-10",
          "2020-04-11",
          "2020-04-12",
          "2020-04-13",
          "2020-04-14",
          "2020-04-15",
          "2020-04-16",
          "2020-04-17",
          "2020-04-18",
          "2020-04-19",
          "2020-04-20",
          "2020-04-21",
          "2020-04-22",
          "2020-04-23",
          "2020-04-24",
          "2020-04-25",
          "2020-04-26",
          "2020-04-27",
          "2020-04-28",
          "2020-04-29",
          "2020-04-30",
          "2020-05-01",
          "2020-05-02",
          "2020-05-03",
          "2020-05-04",
          "2020-05-05",
          "2020-05-06",
          "2020-05-07",
          "2020-05-08",
          "2020-05-09",
          "2020-05-10",
          "2020-05-11",
          "2020-05-12",
          "2020-05-13",
          "2020-05-14",
          "2020-05-15",
          "2020-05-16",
          "2020-05-17",
          "2020-05-18",
          "2020-05-19",
          "2020-05-20",
          "2020-05-21",
          "2020-05-22",
          "2020-05-23",
          "2020-05-24",
          "2020-05-25",
          "2020-05-26",
          "2020-05-27",
          "2020-05-28",
          "2020-05-29",
          "2020-05-30",
          "2020-05-31",
          "2020-06-01",
          "2020-06-02",
          "2020-06-03",
          "2020-06-04",
          "2020-06-05",
          "2020-06-06",
          "2020-06-07",
          "2020-06-08",
          "2020-06-09",
          "2020-06-10",
          "2020-06-11",
          "2020-06-12",
          "2020-06-13",
          "2020-06-14",
          "2020-06-15",
          "2020-06-16",
          "2020-06-17",
          "2020-06-18",
          "2020-06-19",
          "2020-06-20",
          "2020-06-21",
          "2020-06-22",
          "2020-06-23",
          "2020-06-24",
          "2020-06-25",
          "2020-06-26",
          "2020-06-27",
          "2020-06-28",
          "2020-06-29",
          "2020-06-30",
          "2020-07-01",
          "2020-07-02",
          "2020-07-03",
          "2020-07-04",
          "2020-07-05",
          "2020-07-06",
          "2020-07-07",
          "2020-07-08",
          "2020-07-09",
          "2020-07-10",
          "2020-07-11",
          "2020-07-12",
          "2020-07-13",
          "2020-07-14",
          "2020-07-15",
          "2020-07-16",
          "2020-07-17",
          "2020-07-18",
          "2020-07-19",
          "2020-07-20",
          "2020-07-21",
          "2020-07-22",
          "2020-07-23",
          "2020-07-24",
          "2020-07-25",
          "2020-07-26",
          "2020-07-27",
          "2020-07-28",
          "2020-07-29",
          "2020-07-30",
          "2020-07-31",
          "2020-08-01",
          "2020-08-02",
          "2020-08-03",
          "2020-08-04",
          "2020-08-05",
          "2020-08-06",
          "2020-08-07",
          "2020-08-08",
          "2020-08-09",
          "2020-08-10",
          "2020-08-11",
          "2020-08-12",
          "2020-08-13",
          "2020-08-14",
          "2020-08-15",
          "2020-08-16",
          "2020-08-17",
          "2020-08-18",
          "2020-08-19",
          "2020-08-20",
          "2020-08-21",
          "2020-08-22",
          "2020-08-23",
          "2020-08-24"
         ],
         "y": [
          null,
          null,
          null,
          null,
          null,
          null,
          0,
          0,
          0,
          0,
          0,
          0,
          0,
          0,
          0,
          0,
          0,
          0,
          0,
          0,
          0,
          0,
          0,
          0,
          0,
          0,
          0,
          0,
          0,
          0,
          0,
          0,
          0,
          0,
          0,
          0,
          0,
          0,
          0,
          0,
          0,
          0.14285714285714285,
          0.2857142857142857,
          0.42857142857142855,
          0.5714285714285714,
          0.7142857142857143,
          0.8571428571428571,
          1,
          1,
          1,
          1,
          1.1428571428571428,
          1.2857142857142858,
          1.4285714285714286,
          2.142857142857143,
          3.7142857142857144,
          5.285714285714286,
          7.142857142857143,
          10.571428571428571,
          16.428571428571427,
          26,
          35,
          46.57142857142857,
          64.71428571428571,
          89.85714285714286,
          129,
          171.71428571428572,
          227.42857142857142,
          292.85714285714283,
          367.85714285714283,
          456.7142857142857,
          551.8571428571429,
          655.1428571428571,
          773.1428571428571,
          885.1428571428571,
          988.8571428571429,
          1099,
          1216.142857142857,
          1349.5714285714287,
          1499.5714285714287,
          1669.7142857142858,
          1864.2857142857142,
          2101.285714285714,
          2353.5714285714284,
          2629.5714285714284,
          2925.1428571428573,
          3242,
          3576.1428571428573,
          3912.714285714286,
          4239.571428571428,
          4588.428571428572,
          4942.857142857143,
          5317.142857142857,
          5656.142857142857,
          6005.285714285715,
          6377.714285714285,
          6767,
          7135.857142857143,
          7495.714285714285,
          7842.571428571428,
          8201.42857142857,
          8557.42857142857,
          8915.857142857143,
          9270.714285714286,
          9603.142857142857,
          9924.142857142857,
          10216.714285714286,
          10495.57142857143,
          10751.42857142857,
          10994.857142857143,
          11215.285714285714,
          11460.857142857143,
          11676.57142857143,
          11861.285714285714,
          12040.285714285714,
          12187.42857142857,
          12313.142857142857,
          12435,
          12502.285714285714,
          12565.285714285714,
          12658.42857142857,
          12743.285714285714,
          12827.714285714286,
          12913.42857142857,
          12996.714285714286,
          13092.285714285714,
          13169.57142857143,
          13223,
          13254.857142857143,
          13276.42857142857,
          13300,
          13356.714285714286,
          13404.714285714286,
          13483.714285714286,
          13552.857142857143,
          13661.285714285714,
          13783.285714285714,
          13906.714285714286,
          14025.285714285714,
          14177.857142857143,
          14336.714285714286,
          14542.714285714286,
          14757.42857142857,
          15007,
          15302.142857142857,
          15622,
          15974,
          16349.857142857143,
          16729.285714285714,
          17116.714285714286,
          17522.285714285714,
          17938.714285714286,
          18362.85714285714,
          18803.571428571428,
          19265.571428571428,
          19773.428571428572,
          20313.285714285714,
          20859.571428571428,
          21410.714285714286,
          21964.285714285714,
          22531.571428571428,
          23061.571428571428,
          23555.14285714286,
          24016.714285714286,
          24447.714285714286,
          24868.14285714286,
          25241.714285714286,
          25536.571428571428,
          25783.714285714286,
          25993.571428571428,
          26127.571428571428,
          26207.714285714286,
          26236.85714285714,
          26265.571428571428,
          26283.85714285714,
          26299.285714285714,
          26302.285714285714,
          26330.571428571428,
          26376.14285714286,
          26442,
          26490.428571428572,
          26526.14285714286,
          26559.85714285714,
          26589.571428571428,
          26637,
          26747.85714285714,
          26892.714285714286,
          27093.428571428572,
          27350.14285714286,
          27681,
          28068.428571428572,
          28510.14285714286,
          28971,
          29471.85714285714,
          29995.285714285714,
          30526,
          31053.14285714286,
          31564.714285714286,
          32140.14285714286,
          32749,
          33356.142857142855,
          33958.57142857143,
          34599.71428571428,
          35292.42857142857,
          36089.28571428572,
          36920.28571428572,
          37799,
          38732.857142857145,
          39740.57142857143,
          40778,
          41877.57142857143,
          43029.57142857143,
          44221.57142857143,
          45481.57142857143,
          46775,
          48124.142857142855
         ]
        }
       ],
       "layout": {
        "annotations": [
         {
          "showarrow": false,
          "text": "",
          "x": 0.5,
          "xref": "paper",
          "y": -0.15,
          "yref": "paper"
         }
        ],
        "barmode": "relative",
        "coloraxis": {
         "colorbar": {
          "title": {
           "text": "Текущие больные"
          }
         },
         "colorscale": [
          [
           0,
           "rgb(243, 224, 247)"
          ],
          [
           0.16666666666666666,
           "rgb(228, 199, 241)"
          ],
          [
           0.3333333333333333,
           "rgb(209, 175, 232)"
          ],
          [
           0.5,
           "rgb(185, 152, 221)"
          ],
          [
           0.6666666666666666,
           "rgb(159, 130, 206)"
          ],
          [
           0.8333333333333334,
           "rgb(130, 109, 186)"
          ],
          [
           1,
           "rgb(99, 88, 159)"
          ]
         ]
        },
        "height": 600,
        "legend": {
         "tracegroupgap": 0,
         "x": 0.15,
         "y": 0.98
        },
        "template": {
         "data": {
          "pie": [
           {
            "automargin": true,
            "type": "pie"
           }
          ]
         },
         "layout": {
          "xaxis": {
           "showgrid": true,
           "title": {
            "standoff": 15
           }
          },
          "yaxis": {
           "showgrid": true,
           "title": {
            "standoff": 15
           }
          }
         }
        },
        "title": {
         "text": "Украина: график количества текущих больных COVID-19 по датам",
         "x": 0.5,
         "xanchor": "center",
         "y": 0.9,
         "yanchor": "bottom"
        },
        "width": 990,
        "xaxis": {
         "anchor": "y",
         "domain": [
          0,
          1
         ],
         "title": {
          "text": "Текущие больные = количество выявленных - количество выздоровевших - количество умерших<br>Данные: Яндекс"
         }
        },
        "yaxis": {
         "anchor": "x",
         "domain": [
          0,
          1
         ],
         "title": {
          "text": " "
         }
        }
       }
      }
     },
     "metadata": {}
    }
   ],
   "source": [
    "mask = X.Country ==my_country\n",
    "#mask = (X.Date>'2020-05-01')&(X.Region.isin(regions_towatch))\n",
    "\n",
    "fig = px.bar(X[mask], x='Date', y=\"Remaining_ill\",color ='Remaining_ill',\n",
    "             title=f'{my_country}: '+'график количества текущих больных COVID-19 по датам',\n",
    "              color_continuous_scale= px.colors.sequential.Purp,text = 'Remaining_ill',\n",
    "            labels = {'Day_confirmed' : \"Новые заболевшие\",'Remaining_ill':'Текущие больные'})\n",
    "fig.add_trace(\n",
    "    go.Scatter(\n",
    "        name='14-дневная скользящая средняя',\n",
    "        x=X[mask].Date,\n",
    "        y=X[mask]['MA14_remaining_ill'],\n",
    "        mode=\"lines\",\n",
    "        \n",
    "        line=go.scatter.Line(color=\"green\"),\n",
    "        showlegend=True)\n",
    ")\n",
    "\n",
    "fig.add_trace(\n",
    "    go.Scatter(\n",
    "        name = '7-дневная скользящая средняя',\n",
    "        x=X[mask].Date,\n",
    "        y=X[mask]['MA7_remaining_ill'],\n",
    "        mode=\"lines\",\n",
    "        \n",
    "        line=go.scatter.Line(color=\"red\"),\n",
    "        showlegend=True)\n",
    ")\n",
    "fig.update_layout(\n",
    "    annotations=[\n",
    "#         dict(\n",
    "#             x='2020-04-13',\n",
    "#             y=10594,\n",
    "#             xref=\"x\",\n",
    "#             yref=\"y\",\n",
    "#             text=\"Введение<br>пропускной<br>системы в Москве\",\n",
    "#             showarrow=True,\n",
    "#             arrowhead=2,\n",
    "#             ax=0,\n",
    "#             ay=-60),\n",
    "#         dict(\n",
    "#             x='2020-06-09',\n",
    "#             y=85824,\n",
    "#             xref=\"x\",\n",
    "#             yref=\"y\",\n",
    "#             text=\"Отмена<br>пропускной<br>системы в Москве\",\n",
    "#             showarrow=True,\n",
    "#             arrowhead=2,\n",
    "#             ax=0,\n",
    "#             ay=-60),\n",
    "        \n",
    "        dict(x=0.5,y=-0.15,\n",
    "            showarrow=False,\n",
    "            text=\"\",\n",
    "            xref=\"paper\",\n",
    "            yref=\"paper\")],\n",
    "                  title_x = 0.5,\n",
    "                  title_y= 0.9,\n",
    "                  title_xanchor = \"center\",\n",
    "                  title_yanchor = \"bottom\", \n",
    "                  legend_x = 0.15,legend_y = 0.98,\n",
    "                  width = 990, height = 600,template = 'gridon',\n",
    "    \n",
    "    \n",
    "                  xaxis_title='Текущие больные = количество выявленных - количество выздоровевших - количество умерших'+\n",
    "                                '<br>Данные: Яндекс',\n",
    "    yaxis_title = ' '\n",
    ")\n",
    "\n",
    "\n",
    "fig.show()\n"
   ]
  },
  {
   "cell_type": "code",
   "execution_count": 17,
   "metadata": {},
   "outputs": [
    {
     "output_type": "display_data",
     "data": {
      "application/vnd.plotly.v1+json": {
       "config": {
        "plotlyServerURL": "https://plot.ly"
       },
       "data": [
        {
         "marker": {
          "color": [
           0,
           0,
           0,
           0,
           0,
           0,
           0,
           0,
           0,
           0,
           0,
           0,
           0,
           0,
           0,
           0,
           0,
           0,
           0,
           0,
           0,
           0,
           0,
           0,
           0,
           0,
           0,
           0,
           0,
           0,
           0,
           0,
           0,
           0,
           0,
           0,
           0,
           0,
           0,
           0,
           0,
           1,
           0,
           0,
           0,
           0,
           0,
           0,
           0,
           0,
           0,
           1,
           0,
           0,
           4,
           6,
           0,
           2,
           12,
           17,
           26,
           0,
           24,
           46,
           51,
           110,
           42,
           117,
           68,
           91,
           143,
           95,
           167,
           145,
           75,
           10,
           136,
           192,
           209,
           283,
           286,
           246,
           307,
           243,
           358,
           346,
           432,
           407,
           263,
           239,
           397,
           397,
           485,
           185,
           478,
           426,
           357,
           254,
           334,
           394,
           269,
           458,
           443,
           332,
           97,
           254,
           195,
           173,
           297,
           356,
           171,
           273,
           45,
           -22,
           133,
           74,
           206,
           144,
           -109,
           15,
           189,
           75,
           71,
           215,
           127,
           -23,
           -113,
           22,
           -76,
           -1,
           229,
           359,
           -84,
           104,
           -47,
           199,
           94,
           239,
           325,
           154,
           148,
           283,
           260,
           338,
           558,
           498,
           379,
           315,
           308,
           316,
           465,
           634,
           552,
           495,
           464,
           629,
           540,
           510,
           668,
           569,
           591,
           203,
           374,
           316,
           296,
           594,
           241,
           40,
           -131,
           113,
           -215,
           -81,
           237,
           238,
           -33,
           -151,
           26,
           -38,
           40,
           379,
           116,
           -122,
           -165,
           -2,
           86,
           484,
           617,
           507,
           270,
           354,
           394,
           466,
           618,
           897,
           665,
           321,
           329,
           285,
           913,
           852,
           885,
           632,
           592,
           690,
           1014,
           1152,
           1186,
           1271,
           1149,
           800,
           1125,
           1381,
           1432,
           1662,
           1505,
           1539
          ],
          "colorbar": {
           "tickmode": "auto",
           "title": {
            "side": "top",
            "text": "Изменение"
           }
          },
          "colorscale": [
           [
            0,
            "rgb(0, 147, 146)"
           ],
           [
            0.16666666666666666,
            "rgb(57, 177, 133)"
           ],
           [
            0.3333333333333333,
            "rgb(156, 203, 134)"
           ],
           [
            0.5,
            "rgb(233, 226, 156)"
           ],
           [
            0.6666666666666666,
            "rgb(238, 180, 121)"
           ],
           [
            0.8333333333333334,
            "rgb(232, 132, 113)"
           ],
           [
            1,
            "rgb(207, 89, 126)"
           ]
          ]
         },
         "text": [
          0,
          0,
          0,
          0,
          0,
          0,
          0,
          0,
          0,
          0,
          0,
          0,
          0,
          0,
          0,
          0,
          0,
          0,
          0,
          0,
          0,
          0,
          0,
          0,
          0,
          0,
          0,
          0,
          0,
          0,
          0,
          0,
          0,
          0,
          0,
          0,
          0,
          0,
          0,
          0,
          0,
          1,
          0,
          0,
          0,
          0,
          0,
          0,
          0,
          0,
          0,
          1,
          0,
          0,
          4,
          6,
          0,
          2,
          12,
          17,
          26,
          0,
          24,
          46,
          51,
          110,
          42,
          117,
          68,
          91,
          143,
          95,
          167,
          145,
          75,
          10,
          136,
          192,
          209,
          283,
          286,
          246,
          307,
          243,
          358,
          346,
          432,
          407,
          263,
          239,
          397,
          397,
          485,
          185,
          478,
          426,
          357,
          254,
          334,
          394,
          269,
          458,
          443,
          332,
          97,
          254,
          195,
          173,
          297,
          356,
          171,
          273,
          45,
          -22,
          133,
          74,
          206,
          144,
          -109,
          15,
          189,
          75,
          71,
          215,
          127,
          -23,
          -113,
          22,
          -76,
          -1,
          229,
          359,
          -84,
          104,
          -47,
          199,
          94,
          239,
          325,
          154,
          148,
          283,
          260,
          338,
          558,
          498,
          379,
          315,
          308,
          316,
          465,
          634,
          552,
          495,
          464,
          629,
          540,
          510,
          668,
          569,
          591,
          203,
          374,
          316,
          296,
          594,
          241,
          40,
          -131,
          113,
          -215,
          -81,
          237,
          238,
          -33,
          -151,
          26,
          -38,
          40,
          379,
          116,
          -122,
          -165,
          -2,
          86,
          484,
          617,
          507,
          270,
          354,
          394,
          466,
          618,
          897,
          665,
          321,
          329,
          285,
          913,
          852,
          885,
          632,
          592,
          690,
          1014,
          1152,
          1186,
          1271,
          1149,
          800,
          1125,
          1381,
          1432,
          1662,
          1505,
          1539
         ],
         "textposition": "inside",
         "type": "bar",
         "x": [
          "2020-01-22T00:00:00",
          "2020-01-23T00:00:00",
          "2020-01-24T00:00:00",
          "2020-01-25T00:00:00",
          "2020-01-26T00:00:00",
          "2020-01-27T00:00:00",
          "2020-01-28T00:00:00",
          "2020-01-29T00:00:00",
          "2020-01-30T00:00:00",
          "2020-01-31T00:00:00",
          "2020-02-01T00:00:00",
          "2020-02-02T00:00:00",
          "2020-02-03T00:00:00",
          "2020-02-04T00:00:00",
          "2020-02-05T00:00:00",
          "2020-02-06T00:00:00",
          "2020-02-07T00:00:00",
          "2020-02-08T00:00:00",
          "2020-02-09T00:00:00",
          "2020-02-10T00:00:00",
          "2020-02-11T00:00:00",
          "2020-02-12T00:00:00",
          "2020-02-13T00:00:00",
          "2020-02-14T00:00:00",
          "2020-02-15T00:00:00",
          "2020-02-16T00:00:00",
          "2020-02-17T00:00:00",
          "2020-02-18T00:00:00",
          "2020-02-19T00:00:00",
          "2020-02-20T00:00:00",
          "2020-02-21T00:00:00",
          "2020-02-22T00:00:00",
          "2020-02-23T00:00:00",
          "2020-02-24T00:00:00",
          "2020-02-25T00:00:00",
          "2020-02-26T00:00:00",
          "2020-02-27T00:00:00",
          "2020-02-28T00:00:00",
          "2020-02-29T00:00:00",
          "2020-03-01T00:00:00",
          "2020-03-02T00:00:00",
          "2020-03-03T00:00:00",
          "2020-03-04T00:00:00",
          "2020-03-05T00:00:00",
          "2020-03-06T00:00:00",
          "2020-03-07T00:00:00",
          "2020-03-08T00:00:00",
          "2020-03-09T00:00:00",
          "2020-03-10T00:00:00",
          "2020-03-11T00:00:00",
          "2020-03-12T00:00:00",
          "2020-03-13T00:00:00",
          "2020-03-14T00:00:00",
          "2020-03-15T00:00:00",
          "2020-03-16T00:00:00",
          "2020-03-17T00:00:00",
          "2020-03-18T00:00:00",
          "2020-03-19T00:00:00",
          "2020-03-20T00:00:00",
          "2020-03-21T00:00:00",
          "2020-03-22T00:00:00",
          "2020-03-23T00:00:00",
          "2020-03-24T00:00:00",
          "2020-03-25T00:00:00",
          "2020-03-26T00:00:00",
          "2020-03-27T00:00:00",
          "2020-03-28T00:00:00",
          "2020-03-29T00:00:00",
          "2020-03-30T00:00:00",
          "2020-03-31T00:00:00",
          "2020-04-01T00:00:00",
          "2020-04-02T00:00:00",
          "2020-04-03T00:00:00",
          "2020-04-04T00:00:00",
          "2020-04-05T00:00:00",
          "2020-04-06T00:00:00",
          "2020-04-07T00:00:00",
          "2020-04-08T00:00:00",
          "2020-04-09T00:00:00",
          "2020-04-10T00:00:00",
          "2020-04-11T00:00:00",
          "2020-04-12T00:00:00",
          "2020-04-13T00:00:00",
          "2020-04-14T00:00:00",
          "2020-04-15T00:00:00",
          "2020-04-16T00:00:00",
          "2020-04-17T00:00:00",
          "2020-04-18T00:00:00",
          "2020-04-19T00:00:00",
          "2020-04-20T00:00:00",
          "2020-04-21T00:00:00",
          "2020-04-22T00:00:00",
          "2020-04-23T00:00:00",
          "2020-04-24T00:00:00",
          "2020-04-25T00:00:00",
          "2020-04-26T00:00:00",
          "2020-04-27T00:00:00",
          "2020-04-28T00:00:00",
          "2020-04-29T00:00:00",
          "2020-04-30T00:00:00",
          "2020-05-01T00:00:00",
          "2020-05-02T00:00:00",
          "2020-05-03T00:00:00",
          "2020-05-04T00:00:00",
          "2020-05-05T00:00:00",
          "2020-05-06T00:00:00",
          "2020-05-07T00:00:00",
          "2020-05-08T00:00:00",
          "2020-05-09T00:00:00",
          "2020-05-10T00:00:00",
          "2020-05-11T00:00:00",
          "2020-05-12T00:00:00",
          "2020-05-13T00:00:00",
          "2020-05-14T00:00:00",
          "2020-05-15T00:00:00",
          "2020-05-16T00:00:00",
          "2020-05-17T00:00:00",
          "2020-05-18T00:00:00",
          "2020-05-19T00:00:00",
          "2020-05-20T00:00:00",
          "2020-05-21T00:00:00",
          "2020-05-22T00:00:00",
          "2020-05-23T00:00:00",
          "2020-05-24T00:00:00",
          "2020-05-25T00:00:00",
          "2020-05-26T00:00:00",
          "2020-05-27T00:00:00",
          "2020-05-28T00:00:00",
          "2020-05-29T00:00:00",
          "2020-05-30T00:00:00",
          "2020-05-31T00:00:00",
          "2020-06-01T00:00:00",
          "2020-06-02T00:00:00",
          "2020-06-03T00:00:00",
          "2020-06-04T00:00:00",
          "2020-06-05T00:00:00",
          "2020-06-06T00:00:00",
          "2020-06-07T00:00:00",
          "2020-06-08T00:00:00",
          "2020-06-09T00:00:00",
          "2020-06-10T00:00:00",
          "2020-06-11T00:00:00",
          "2020-06-12T00:00:00",
          "2020-06-13T00:00:00",
          "2020-06-14T00:00:00",
          "2020-06-15T00:00:00",
          "2020-06-16T00:00:00",
          "2020-06-17T00:00:00",
          "2020-06-18T00:00:00",
          "2020-06-19T00:00:00",
          "2020-06-20T00:00:00",
          "2020-06-21T00:00:00",
          "2020-06-22T00:00:00",
          "2020-06-23T00:00:00",
          "2020-06-24T00:00:00",
          "2020-06-25T00:00:00",
          "2020-06-26T00:00:00",
          "2020-06-27T00:00:00",
          "2020-06-28T00:00:00",
          "2020-06-29T00:00:00",
          "2020-06-30T00:00:00",
          "2020-07-01T00:00:00",
          "2020-07-02T00:00:00",
          "2020-07-03T00:00:00",
          "2020-07-04T00:00:00",
          "2020-07-05T00:00:00",
          "2020-07-06T00:00:00",
          "2020-07-07T00:00:00",
          "2020-07-08T00:00:00",
          "2020-07-09T00:00:00",
          "2020-07-10T00:00:00",
          "2020-07-11T00:00:00",
          "2020-07-12T00:00:00",
          "2020-07-13T00:00:00",
          "2020-07-14T00:00:00",
          "2020-07-15T00:00:00",
          "2020-07-16T00:00:00",
          "2020-07-17T00:00:00",
          "2020-07-18T00:00:00",
          "2020-07-19T00:00:00",
          "2020-07-20T00:00:00",
          "2020-07-21T00:00:00",
          "2020-07-22T00:00:00",
          "2020-07-23T00:00:00",
          "2020-07-24T00:00:00",
          "2020-07-25T00:00:00",
          "2020-07-26T00:00:00",
          "2020-07-27T00:00:00",
          "2020-07-28T00:00:00",
          "2020-07-29T00:00:00",
          "2020-07-30T00:00:00",
          "2020-07-31T00:00:00",
          "2020-08-01T00:00:00",
          "2020-08-02T00:00:00",
          "2020-08-03T00:00:00",
          "2020-08-04T00:00:00",
          "2020-08-05T00:00:00",
          "2020-08-06T00:00:00",
          "2020-08-07T00:00:00",
          "2020-08-08T00:00:00",
          "2020-08-09T00:00:00",
          "2020-08-10T00:00:00",
          "2020-08-11T00:00:00",
          "2020-08-12T00:00:00",
          "2020-08-13T00:00:00",
          "2020-08-14T00:00:00",
          "2020-08-15T00:00:00",
          "2020-08-16T00:00:00",
          "2020-08-17T00:00:00",
          "2020-08-18T00:00:00",
          "2020-08-19T00:00:00",
          "2020-08-20T00:00:00",
          "2020-08-21T00:00:00",
          "2020-08-22T00:00:00",
          "2020-08-23T00:00:00",
          "2020-08-24T00:00:00"
         ],
         "y": [
          0,
          0,
          0,
          0,
          0,
          0,
          0,
          0,
          0,
          0,
          0,
          0,
          0,
          0,
          0,
          0,
          0,
          0,
          0,
          0,
          0,
          0,
          0,
          0,
          0,
          0,
          0,
          0,
          0,
          0,
          0,
          0,
          0,
          0,
          0,
          0,
          0,
          0,
          0,
          0,
          0,
          1,
          0,
          0,
          0,
          0,
          0,
          0,
          0,
          0,
          0,
          1,
          0,
          0,
          4,
          6,
          0,
          2,
          12,
          17,
          26,
          0,
          24,
          46,
          51,
          110,
          42,
          117,
          68,
          91,
          143,
          95,
          167,
          145,
          75,
          10,
          136,
          192,
          209,
          283,
          286,
          246,
          307,
          243,
          358,
          346,
          432,
          407,
          263,
          239,
          397,
          397,
          485,
          185,
          478,
          426,
          357,
          254,
          334,
          394,
          269,
          458,
          443,
          332,
          97,
          254,
          195,
          173,
          297,
          356,
          171,
          273,
          45,
          -22,
          133,
          74,
          206,
          144,
          -109,
          15,
          189,
          75,
          71,
          215,
          127,
          -23,
          -113,
          22,
          -76,
          -1,
          229,
          359,
          -84,
          104,
          -47,
          199,
          94,
          239,
          325,
          154,
          148,
          283,
          260,
          338,
          558,
          498,
          379,
          315,
          308,
          316,
          465,
          634,
          552,
          495,
          464,
          629,
          540,
          510,
          668,
          569,
          591,
          203,
          374,
          316,
          296,
          594,
          241,
          40,
          -131,
          113,
          -215,
          -81,
          237,
          238,
          -33,
          -151,
          26,
          -38,
          40,
          379,
          116,
          -122,
          -165,
          -2,
          86,
          484,
          617,
          507,
          270,
          354,
          394,
          466,
          618,
          897,
          665,
          321,
          329,
          285,
          913,
          852,
          885,
          632,
          592,
          690,
          1014,
          1152,
          1186,
          1271,
          1149,
          800,
          1125,
          1381,
          1432,
          1662,
          1505,
          1539
         ]
        }
       ],
       "layout": {
        "annotations": [
         {
          "showarrow": false,
          "text": "",
          "x": 0.5,
          "xref": "paper",
          "y": -0.15,
          "yref": "paper"
         }
        ],
        "height": 600,
        "legend": {
         "x": 0.05,
         "y": 0.98
        },
        "template": {
         "data": {
          "pie": [
           {
            "automargin": true,
            "type": "pie"
           }
          ]
         },
         "layout": {
          "xaxis": {
           "showgrid": true,
           "title": {
            "standoff": 15
           }
          },
          "yaxis": {
           "showgrid": true,
           "title": {
            "standoff": 15
           }
          }
         }
        },
        "title": {
         "text": "Украина: динамика текущих больных COVID-19 по дням<br>(изменение относительно предыдущего дня)",
         "x": 0.5,
         "xanchor": "center",
         "y": 0.9,
         "yanchor": "bottom"
        },
        "width": 990,
        "xaxis": {
         "title": {
          "text": "Текущие больные = количество выявленных - количество выздоровевших - количество умерших<br>Данные : Яндекс"
         }
        },
        "yaxis": {
         "title": {
          "text": " "
         }
        }
       }
      }
     },
     "metadata": {}
    }
   ],
   "source": [
    "mask = X.Country ==my_country\n",
    "#mask = (X.Date>'2020-05-01')&(X.Region==my_region)\n",
    "Y = X[mask]\n",
    "\n",
    "#Y['base'] = Y['Change_dayconf']*Y['Change_dayconf'].apply(lambda d:0 if d>0 else 1)\n",
    "Y['Date']= pd.to_datetime(Y.Date)\n",
    "fig = go.Figure()\n",
    "fig.add_trace(\n",
    "              go.Bar(x = Y.Date,y=Y.Change_remill,text = Y['Change_remill'],textposition = 'inside',\n",
    "                \n",
    "                #marker_color=Y['Change_remill'].apply(lambda d:'crimson' if d>0 else 'green'),\n",
    "                marker_color = Y['Change_remill'],marker_colorscale = 'Temps',marker_colorbar ={'tickmode':'auto',\n",
    "                                    'title':{'text':'Изменение','side':'top'}})     \n",
    "                )\n",
    "fig.update_layout(\n",
    "    annotations=[\n",
    "#         dict(\n",
    "#             x='2020-04-13',\n",
    "#             y=10594,\n",
    "#             xref=\"x\",\n",
    "#             yref=\"y\",\n",
    "#             text=\"Введение<br>пропускной<br>системы в Москве\",\n",
    "#             showarrow=True,\n",
    "#             arrowhead=2,\n",
    "#             ax=0,\n",
    "#             ay=-60),\n",
    "#         dict(\n",
    "#             x='2020-06-09',\n",
    "#             y=-3877,\n",
    "#             xref=\"x\",\n",
    "#             yref=\"y\",\n",
    "#             text=\"Отмена<br>пропускной<br>системы в Москве\",\n",
    "#             showarrow=True,\n",
    "#             arrowhead=2,\n",
    "#             ax=-20,\n",
    "#             ay=40),\n",
    "#         dict(\n",
    "#             x='2020-05-20',\n",
    "#             y=-2816,\n",
    "#             xref=\"x\",\n",
    "#             yref=\"y\",\n",
    "#             text=\"20 мая\",\n",
    "#             showarrow=True,\n",
    "#             arrowhead=2,\n",
    "#             ax=-20,\n",
    "#             ay=40),\n",
    "        \n",
    "        dict(x=0.5,y=-0.15,\n",
    "            showarrow=False,\n",
    "            text=\"\",\n",
    "            xref=\"paper\",\n",
    "            yref=\"paper\")],\n",
    "                  title=f'{my_country}: динамика текущих больных COVID-19 по дням<br>(изменение относительно предыдущего дня)',\n",
    "                  title_x = 0.5,\n",
    "                  title_y= 0.9,\n",
    "                  title_xanchor = \"center\",\n",
    "                  title_yanchor = \"bottom\", \n",
    "                  legend_x = 0.05,legend_y = 0.98,\n",
    "                  width = 990, height = 600,template = 'gridon',\n",
    "    \n",
    "    \n",
    "                  xaxis_title='Текущие больные = количество выявленных - количество выздоровевших - количество умерших'+\n",
    "                               '<br>Данные : Яндекс',\n",
    "    yaxis_title = ' '\n",
    ")\n",
    "\n",
    "\n",
    "fig.show()\n"
   ]
  },
  {
   "cell_type": "code",
   "execution_count": 18,
   "metadata": {
    "tags": []
   },
   "outputs": [
    {
     "output_type": "stream",
     "name": "stdout",
     "text": "[[0.997 1.421 1.607 1.15  0.734 0.633 0.673 0.984 1.513 1.51  1.166 0.814\n  0.694 0.724 1.074 1.501 1.41  1.151 0.711 0.605 0.673 0.922 1.283 1.327\n  1.069 0.747]\n [0.942 1.036 1.196 1.162 1.156 1.016 0.991 1.074 1.031 1.128 1.144 1.031\n  1.116 1.165 1.11  1.334 1.219 1.156 1.043 0.831 0.805 0.811 0.969 1.108\n  1.227 1.144]\n [1.012 1.125 1.125 1.129 1.11  0.983 0.976 1.007 1.054 1.153 1.172 1.082\n  1.035 0.995 0.982 1.065 1.08  1.03  0.981 0.938 0.949 1.028 1.131 1.151\n  1.091 1.013]\n [2.671 1.13  0.966 0.575 0.894 1.467 2.18  3.627 1.489 0.808 0.498 0.615\n  0.708 1.335 2.673 1.511 1.323 0.845 0.947 1.078 1.732 2.693 1.24  1.022\n  0.541 0.784]\n [0.99  1.081 1.085 0.972 0.837 0.769 0.769 0.893 1.044 1.086 1.087 0.979\n  0.874 0.879 0.924 1.038 1.103 1.032 0.928 0.773 0.767 0.829 0.973 1.092\n  1.019 0.972]]\n"
    },
    {
     "output_type": "execute_result",
     "data": {
      "text/plain": "Date         Country  2020-07-30  2020-07-31  2020-08-01  2020-08-02  \\\n0           Бразилия       0.997       1.421       1.607       1.150   \n1     Великобритания       0.942       1.036       1.196       1.162   \n2              Индия       1.012       1.125       1.125       1.129   \n3            Испания       2.671       1.130       0.966       0.575   \n4                США       0.990       1.081       1.085       0.972   \n\nDate  2020-08-03  2020-08-04  2020-08-05  2020-08-06  2020-08-07  ...  \\\n0          0.734       0.633       0.673       0.984       1.513  ...   \n1          1.156       1.016       0.991       1.074       1.031  ...   \n2          1.110       0.983       0.976       1.007       1.054  ...   \n3          0.894       1.467       2.180       3.627       1.489  ...   \n4          0.837       0.769       0.769       0.893       1.044  ...   \n\nDate  2020-08-15  2020-08-16  2020-08-17  2020-08-18  2020-08-19  2020-08-20  \\\n0          1.410       1.151       0.711       0.605       0.673       0.922   \n1          1.219       1.156       1.043       0.831       0.805       0.811   \n2          1.080       1.030       0.981       0.938       0.949       1.028   \n3          1.323       0.845       0.947       1.078       1.732       2.693   \n4          1.103       1.032       0.928       0.773       0.767       0.829   \n\nDate  2020-08-21  2020-08-22  2020-08-23  2020-08-24  \n0          1.283       1.327       1.069       0.747  \n1          0.969       1.108       1.227       1.144  \n2          1.131       1.151       1.091       1.013  \n3          1.240       1.022       0.541       0.784  \n4          0.973       1.092       1.019       0.972  \n\n[5 rows x 27 columns]",
      "text/html": "<div>\n<style scoped>\n    .dataframe tbody tr th:only-of-type {\n        vertical-align: middle;\n    }\n\n    .dataframe tbody tr th {\n        vertical-align: top;\n    }\n\n    .dataframe thead th {\n        text-align: right;\n    }\n</style>\n<table border=\"1\" class=\"dataframe\">\n  <thead>\n    <tr style=\"text-align: right;\">\n      <th>Date</th>\n      <th>Country</th>\n      <th>2020-07-30</th>\n      <th>2020-07-31</th>\n      <th>2020-08-01</th>\n      <th>2020-08-02</th>\n      <th>2020-08-03</th>\n      <th>2020-08-04</th>\n      <th>2020-08-05</th>\n      <th>2020-08-06</th>\n      <th>2020-08-07</th>\n      <th>...</th>\n      <th>2020-08-15</th>\n      <th>2020-08-16</th>\n      <th>2020-08-17</th>\n      <th>2020-08-18</th>\n      <th>2020-08-19</th>\n      <th>2020-08-20</th>\n      <th>2020-08-21</th>\n      <th>2020-08-22</th>\n      <th>2020-08-23</th>\n      <th>2020-08-24</th>\n    </tr>\n  </thead>\n  <tbody>\n    <tr>\n      <th>0</th>\n      <td>Бразилия</td>\n      <td>0.997</td>\n      <td>1.421</td>\n      <td>1.607</td>\n      <td>1.150</td>\n      <td>0.734</td>\n      <td>0.633</td>\n      <td>0.673</td>\n      <td>0.984</td>\n      <td>1.513</td>\n      <td>...</td>\n      <td>1.410</td>\n      <td>1.151</td>\n      <td>0.711</td>\n      <td>0.605</td>\n      <td>0.673</td>\n      <td>0.922</td>\n      <td>1.283</td>\n      <td>1.327</td>\n      <td>1.069</td>\n      <td>0.747</td>\n    </tr>\n    <tr>\n      <th>1</th>\n      <td>Великобритания</td>\n      <td>0.942</td>\n      <td>1.036</td>\n      <td>1.196</td>\n      <td>1.162</td>\n      <td>1.156</td>\n      <td>1.016</td>\n      <td>0.991</td>\n      <td>1.074</td>\n      <td>1.031</td>\n      <td>...</td>\n      <td>1.219</td>\n      <td>1.156</td>\n      <td>1.043</td>\n      <td>0.831</td>\n      <td>0.805</td>\n      <td>0.811</td>\n      <td>0.969</td>\n      <td>1.108</td>\n      <td>1.227</td>\n      <td>1.144</td>\n    </tr>\n    <tr>\n      <th>2</th>\n      <td>Индия</td>\n      <td>1.012</td>\n      <td>1.125</td>\n      <td>1.125</td>\n      <td>1.129</td>\n      <td>1.110</td>\n      <td>0.983</td>\n      <td>0.976</td>\n      <td>1.007</td>\n      <td>1.054</td>\n      <td>...</td>\n      <td>1.080</td>\n      <td>1.030</td>\n      <td>0.981</td>\n      <td>0.938</td>\n      <td>0.949</td>\n      <td>1.028</td>\n      <td>1.131</td>\n      <td>1.151</td>\n      <td>1.091</td>\n      <td>1.013</td>\n    </tr>\n    <tr>\n      <th>3</th>\n      <td>Испания</td>\n      <td>2.671</td>\n      <td>1.130</td>\n      <td>0.966</td>\n      <td>0.575</td>\n      <td>0.894</td>\n      <td>1.467</td>\n      <td>2.180</td>\n      <td>3.627</td>\n      <td>1.489</td>\n      <td>...</td>\n      <td>1.323</td>\n      <td>0.845</td>\n      <td>0.947</td>\n      <td>1.078</td>\n      <td>1.732</td>\n      <td>2.693</td>\n      <td>1.240</td>\n      <td>1.022</td>\n      <td>0.541</td>\n      <td>0.784</td>\n    </tr>\n    <tr>\n      <th>4</th>\n      <td>США</td>\n      <td>0.990</td>\n      <td>1.081</td>\n      <td>1.085</td>\n      <td>0.972</td>\n      <td>0.837</td>\n      <td>0.769</td>\n      <td>0.769</td>\n      <td>0.893</td>\n      <td>1.044</td>\n      <td>...</td>\n      <td>1.103</td>\n      <td>1.032</td>\n      <td>0.928</td>\n      <td>0.773</td>\n      <td>0.767</td>\n      <td>0.829</td>\n      <td>0.973</td>\n      <td>1.092</td>\n      <td>1.019</td>\n      <td>0.972</td>\n    </tr>\n  </tbody>\n</table>\n<p>5 rows × 27 columns</p>\n</div>"
     },
     "metadata": {},
     "execution_count": 18
    }
   ],
   "source": [
    "mask = (X.Date>=datetime.date(2020,7,30))&(X.Country.isin(country_towatch))\n",
    "\n",
    "def my_round(k):\n",
    "    return round(k,3)\n",
    "\n",
    "# #mask = (X.Date>='2020-06-04')\n",
    "\n",
    "Z = X[mask].groupby(['Country','Date']).Rt.sum().apply(my_round).unstack().reset_index()\n",
    "Z.dropna(inplace=True)\n",
    "d = Z.drop('Country',axis = 1).values\n",
    "\n",
    "# my_map= {'Москва':'2.Москва','Московская обл.':'3.Московская обл.','Нижегородская обл.':'5.Нижегородская обл.',\n",
    "#                     'Россия':'1.Россия', 'Санкт-Петербург':'4.Санкт-Петербург'}\n",
    "# Z.Region = Z.Region.map(my_map)\n",
    "\n",
    "print(d)\n",
    "Z.head()"
   ]
  },
  {
   "cell_type": "code",
   "execution_count": 19,
   "metadata": {
    "tags": []
   },
   "outputs": [
    {
     "output_type": "stream",
     "name": "stdout",
     "text": "[datetime.date(2020, 7, 30), datetime.date(2020, 7, 31), datetime.date(2020, 8, 1), datetime.date(2020, 8, 2), datetime.date(2020, 8, 3), datetime.date(2020, 8, 4), datetime.date(2020, 8, 5), datetime.date(2020, 8, 6), datetime.date(2020, 8, 7), datetime.date(2020, 8, 8), datetime.date(2020, 8, 9), datetime.date(2020, 8, 10), datetime.date(2020, 8, 11), datetime.date(2020, 8, 12), datetime.date(2020, 8, 13), datetime.date(2020, 8, 14), datetime.date(2020, 8, 15), datetime.date(2020, 8, 16), datetime.date(2020, 8, 17), datetime.date(2020, 8, 18), datetime.date(2020, 8, 19), datetime.date(2020, 8, 20), datetime.date(2020, 8, 21), datetime.date(2020, 8, 22), datetime.date(2020, 8, 23), datetime.date(2020, 8, 24)]\n['30.7.2020', '31.7.2020', '1.8.2020', '2.8.2020', '3.8.2020', '4.8.2020', '5.8.2020', '6.8.2020', '7.8.2020', '8.8.2020', '9.8.2020', '10.8.2020', '11.8.2020', '12.8.2020', '13.8.2020', '14.8.2020', '15.8.2020', '16.8.2020', '17.8.2020', '18.8.2020', '19.8.2020', '20.8.2020', '21.8.2020', '22.8.2020', '23.8.2020', '24.8.2020']\n"
    }
   ],
   "source": [
    "x1=list(Z.columns[1:])\n",
    "x2=[]\n",
    "for i in x1:\n",
    "    x2.append(str(i.day)+'.'+str(i.month)+\".\"+str(i.year))\n",
    "    \n",
    "y=list(Z.Country)\n",
    "print(list(x1))\n",
    "print(x2)"
   ]
  },
  {
   "cell_type": "code",
   "execution_count": 20,
   "metadata": {},
   "outputs": [
    {
     "output_type": "display_data",
     "data": {
      "application/vnd.plotly.v1+json": {
       "config": {
        "plotlyServerURL": "https://plot.ly"
       },
       "data": [
        {
         "colorscale": [
          [
           0,
           "rgb(0, 147, 146)"
          ],
          [
           0.16666666666666666,
           "rgb(57, 177, 133)"
          ],
          [
           0.3333333333333333,
           "rgb(156, 203, 134)"
          ],
          [
           0.5,
           "rgb(233, 226, 156)"
          ],
          [
           0.6666666666666666,
           "rgb(238, 180, 121)"
          ],
          [
           0.8333333333333334,
           "rgb(232, 132, 113)"
          ],
          [
           1,
           "rgb(207, 89, 126)"
          ]
         ],
         "reversescale": false,
         "showscale": false,
         "type": "heatmap",
         "x": [
          "30.7.2020",
          "31.7.2020",
          "1.8.2020",
          "2.8.2020",
          "3.8.2020",
          "4.8.2020",
          "5.8.2020",
          "6.8.2020",
          "7.8.2020",
          "8.8.2020",
          "9.8.2020",
          "10.8.2020",
          "11.8.2020",
          "12.8.2020",
          "13.8.2020",
          "14.8.2020",
          "15.8.2020",
          "16.8.2020",
          "17.8.2020",
          "18.8.2020",
          "19.8.2020",
          "20.8.2020",
          "21.8.2020",
          "22.8.2020",
          "23.8.2020",
          "24.8.2020"
         ],
         "y": [
          "Бразилия",
          "Великобритания",
          "Индия",
          "Испания",
          "США"
         ],
         "z": [
          [
           0.997,
           1.421,
           1.607,
           1.15,
           0.734,
           0.633,
           0.673,
           0.984,
           1.513,
           1.51,
           1.166,
           0.814,
           0.694,
           0.724,
           1.074,
           1.501,
           1.41,
           1.151,
           0.711,
           0.605,
           0.673,
           0.922,
           1.283,
           1.327,
           1.069,
           0.747
          ],
          [
           0.942,
           1.036,
           1.196,
           1.162,
           1.156,
           1.016,
           0.991,
           1.074,
           1.031,
           1.128,
           1.144,
           1.031,
           1.116,
           1.165,
           1.11,
           1.334,
           1.219,
           1.156,
           1.043,
           0.831,
           0.805,
           0.811,
           0.969,
           1.108,
           1.227,
           1.144
          ],
          [
           1.012,
           1.125,
           1.125,
           1.129,
           1.11,
           0.983,
           0.976,
           1.007,
           1.054,
           1.153,
           1.172,
           1.082,
           1.035,
           0.995,
           0.982,
           1.065,
           1.08,
           1.03,
           0.981,
           0.938,
           0.949,
           1.028,
           1.131,
           1.151,
           1.091,
           1.013
          ],
          [
           2.671,
           1.13,
           0.966,
           0.575,
           0.894,
           1.467,
           2.18,
           3.627,
           1.489,
           0.808,
           0.498,
           0.615,
           0.708,
           1.335,
           2.673,
           1.511,
           1.323,
           0.845,
           0.947,
           1.078,
           1.732,
           2.693,
           1.24,
           1.022,
           0.541,
           0.784
          ],
          [
           0.99,
           1.081,
           1.085,
           0.972,
           0.837,
           0.769,
           0.769,
           0.893,
           1.044,
           1.086,
           1.087,
           0.979,
           0.874,
           0.879,
           0.924,
           1.038,
           1.103,
           1.032,
           0.928,
           0.773,
           0.767,
           0.829,
           0.973,
           1.092,
           1.019,
           0.972
          ]
         ]
        }
       ],
       "layout": {
        "annotations": [
         {
          "font": {
           "color": "#FFFFFF"
          },
          "showarrow": false,
          "text": "0.997",
          "x": "30.7.2020",
          "xref": "x",
          "y": "Бразилия",
          "yref": "y"
         },
         {
          "font": {
           "color": "#FFFFFF"
          },
          "showarrow": false,
          "text": "1.421",
          "x": "31.7.2020",
          "xref": "x",
          "y": "Бразилия",
          "yref": "y"
         },
         {
          "font": {
           "color": "#FFFFFF"
          },
          "showarrow": false,
          "text": "1.607",
          "x": "1.8.2020",
          "xref": "x",
          "y": "Бразилия",
          "yref": "y"
         },
         {
          "font": {
           "color": "#FFFFFF"
          },
          "showarrow": false,
          "text": "1.15",
          "x": "2.8.2020",
          "xref": "x",
          "y": "Бразилия",
          "yref": "y"
         },
         {
          "font": {
           "color": "#FFFFFF"
          },
          "showarrow": false,
          "text": "0.734",
          "x": "3.8.2020",
          "xref": "x",
          "y": "Бразилия",
          "yref": "y"
         },
         {
          "font": {
           "color": "#FFFFFF"
          },
          "showarrow": false,
          "text": "0.633",
          "x": "4.8.2020",
          "xref": "x",
          "y": "Бразилия",
          "yref": "y"
         },
         {
          "font": {
           "color": "#FFFFFF"
          },
          "showarrow": false,
          "text": "0.673",
          "x": "5.8.2020",
          "xref": "x",
          "y": "Бразилия",
          "yref": "y"
         },
         {
          "font": {
           "color": "#FFFFFF"
          },
          "showarrow": false,
          "text": "0.984",
          "x": "6.8.2020",
          "xref": "x",
          "y": "Бразилия",
          "yref": "y"
         },
         {
          "font": {
           "color": "#FFFFFF"
          },
          "showarrow": false,
          "text": "1.513",
          "x": "7.8.2020",
          "xref": "x",
          "y": "Бразилия",
          "yref": "y"
         },
         {
          "font": {
           "color": "#FFFFFF"
          },
          "showarrow": false,
          "text": "1.51",
          "x": "8.8.2020",
          "xref": "x",
          "y": "Бразилия",
          "yref": "y"
         },
         {
          "font": {
           "color": "#FFFFFF"
          },
          "showarrow": false,
          "text": "1.166",
          "x": "9.8.2020",
          "xref": "x",
          "y": "Бразилия",
          "yref": "y"
         },
         {
          "font": {
           "color": "#FFFFFF"
          },
          "showarrow": false,
          "text": "0.814",
          "x": "10.8.2020",
          "xref": "x",
          "y": "Бразилия",
          "yref": "y"
         },
         {
          "font": {
           "color": "#FFFFFF"
          },
          "showarrow": false,
          "text": "0.694",
          "x": "11.8.2020",
          "xref": "x",
          "y": "Бразилия",
          "yref": "y"
         },
         {
          "font": {
           "color": "#FFFFFF"
          },
          "showarrow": false,
          "text": "0.724",
          "x": "12.8.2020",
          "xref": "x",
          "y": "Бразилия",
          "yref": "y"
         },
         {
          "font": {
           "color": "#FFFFFF"
          },
          "showarrow": false,
          "text": "1.074",
          "x": "13.8.2020",
          "xref": "x",
          "y": "Бразилия",
          "yref": "y"
         },
         {
          "font": {
           "color": "#FFFFFF"
          },
          "showarrow": false,
          "text": "1.501",
          "x": "14.8.2020",
          "xref": "x",
          "y": "Бразилия",
          "yref": "y"
         },
         {
          "font": {
           "color": "#FFFFFF"
          },
          "showarrow": false,
          "text": "1.41",
          "x": "15.8.2020",
          "xref": "x",
          "y": "Бразилия",
          "yref": "y"
         },
         {
          "font": {
           "color": "#FFFFFF"
          },
          "showarrow": false,
          "text": "1.151",
          "x": "16.8.2020",
          "xref": "x",
          "y": "Бразилия",
          "yref": "y"
         },
         {
          "font": {
           "color": "#FFFFFF"
          },
          "showarrow": false,
          "text": "0.711",
          "x": "17.8.2020",
          "xref": "x",
          "y": "Бразилия",
          "yref": "y"
         },
         {
          "font": {
           "color": "#FFFFFF"
          },
          "showarrow": false,
          "text": "0.605",
          "x": "18.8.2020",
          "xref": "x",
          "y": "Бразилия",
          "yref": "y"
         },
         {
          "font": {
           "color": "#FFFFFF"
          },
          "showarrow": false,
          "text": "0.673",
          "x": "19.8.2020",
          "xref": "x",
          "y": "Бразилия",
          "yref": "y"
         },
         {
          "font": {
           "color": "#FFFFFF"
          },
          "showarrow": false,
          "text": "0.922",
          "x": "20.8.2020",
          "xref": "x",
          "y": "Бразилия",
          "yref": "y"
         },
         {
          "font": {
           "color": "#FFFFFF"
          },
          "showarrow": false,
          "text": "1.283",
          "x": "21.8.2020",
          "xref": "x",
          "y": "Бразилия",
          "yref": "y"
         },
         {
          "font": {
           "color": "#FFFFFF"
          },
          "showarrow": false,
          "text": "1.327",
          "x": "22.8.2020",
          "xref": "x",
          "y": "Бразилия",
          "yref": "y"
         },
         {
          "font": {
           "color": "#FFFFFF"
          },
          "showarrow": false,
          "text": "1.069",
          "x": "23.8.2020",
          "xref": "x",
          "y": "Бразилия",
          "yref": "y"
         },
         {
          "font": {
           "color": "#FFFFFF"
          },
          "showarrow": false,
          "text": "0.747",
          "x": "24.8.2020",
          "xref": "x",
          "y": "Бразилия",
          "yref": "y"
         },
         {
          "font": {
           "color": "#FFFFFF"
          },
          "showarrow": false,
          "text": "0.942",
          "x": "30.7.2020",
          "xref": "x",
          "y": "Великобритания",
          "yref": "y"
         },
         {
          "font": {
           "color": "#FFFFFF"
          },
          "showarrow": false,
          "text": "1.036",
          "x": "31.7.2020",
          "xref": "x",
          "y": "Великобритания",
          "yref": "y"
         },
         {
          "font": {
           "color": "#FFFFFF"
          },
          "showarrow": false,
          "text": "1.196",
          "x": "1.8.2020",
          "xref": "x",
          "y": "Великобритания",
          "yref": "y"
         },
         {
          "font": {
           "color": "#FFFFFF"
          },
          "showarrow": false,
          "text": "1.162",
          "x": "2.8.2020",
          "xref": "x",
          "y": "Великобритания",
          "yref": "y"
         },
         {
          "font": {
           "color": "#FFFFFF"
          },
          "showarrow": false,
          "text": "1.156",
          "x": "3.8.2020",
          "xref": "x",
          "y": "Великобритания",
          "yref": "y"
         },
         {
          "font": {
           "color": "#FFFFFF"
          },
          "showarrow": false,
          "text": "1.016",
          "x": "4.8.2020",
          "xref": "x",
          "y": "Великобритания",
          "yref": "y"
         },
         {
          "font": {
           "color": "#FFFFFF"
          },
          "showarrow": false,
          "text": "0.991",
          "x": "5.8.2020",
          "xref": "x",
          "y": "Великобритания",
          "yref": "y"
         },
         {
          "font": {
           "color": "#FFFFFF"
          },
          "showarrow": false,
          "text": "1.074",
          "x": "6.8.2020",
          "xref": "x",
          "y": "Великобритания",
          "yref": "y"
         },
         {
          "font": {
           "color": "#FFFFFF"
          },
          "showarrow": false,
          "text": "1.031",
          "x": "7.8.2020",
          "xref": "x",
          "y": "Великобритания",
          "yref": "y"
         },
         {
          "font": {
           "color": "#FFFFFF"
          },
          "showarrow": false,
          "text": "1.128",
          "x": "8.8.2020",
          "xref": "x",
          "y": "Великобритания",
          "yref": "y"
         },
         {
          "font": {
           "color": "#FFFFFF"
          },
          "showarrow": false,
          "text": "1.144",
          "x": "9.8.2020",
          "xref": "x",
          "y": "Великобритания",
          "yref": "y"
         },
         {
          "font": {
           "color": "#FFFFFF"
          },
          "showarrow": false,
          "text": "1.031",
          "x": "10.8.2020",
          "xref": "x",
          "y": "Великобритания",
          "yref": "y"
         },
         {
          "font": {
           "color": "#FFFFFF"
          },
          "showarrow": false,
          "text": "1.116",
          "x": "11.8.2020",
          "xref": "x",
          "y": "Великобритания",
          "yref": "y"
         },
         {
          "font": {
           "color": "#FFFFFF"
          },
          "showarrow": false,
          "text": "1.165",
          "x": "12.8.2020",
          "xref": "x",
          "y": "Великобритания",
          "yref": "y"
         },
         {
          "font": {
           "color": "#FFFFFF"
          },
          "showarrow": false,
          "text": "1.11",
          "x": "13.8.2020",
          "xref": "x",
          "y": "Великобритания",
          "yref": "y"
         },
         {
          "font": {
           "color": "#FFFFFF"
          },
          "showarrow": false,
          "text": "1.334",
          "x": "14.8.2020",
          "xref": "x",
          "y": "Великобритания",
          "yref": "y"
         },
         {
          "font": {
           "color": "#FFFFFF"
          },
          "showarrow": false,
          "text": "1.219",
          "x": "15.8.2020",
          "xref": "x",
          "y": "Великобритания",
          "yref": "y"
         },
         {
          "font": {
           "color": "#FFFFFF"
          },
          "showarrow": false,
          "text": "1.156",
          "x": "16.8.2020",
          "xref": "x",
          "y": "Великобритания",
          "yref": "y"
         },
         {
          "font": {
           "color": "#FFFFFF"
          },
          "showarrow": false,
          "text": "1.043",
          "x": "17.8.2020",
          "xref": "x",
          "y": "Великобритания",
          "yref": "y"
         },
         {
          "font": {
           "color": "#FFFFFF"
          },
          "showarrow": false,
          "text": "0.831",
          "x": "18.8.2020",
          "xref": "x",
          "y": "Великобритания",
          "yref": "y"
         },
         {
          "font": {
           "color": "#FFFFFF"
          },
          "showarrow": false,
          "text": "0.805",
          "x": "19.8.2020",
          "xref": "x",
          "y": "Великобритания",
          "yref": "y"
         },
         {
          "font": {
           "color": "#FFFFFF"
          },
          "showarrow": false,
          "text": "0.811",
          "x": "20.8.2020",
          "xref": "x",
          "y": "Великобритания",
          "yref": "y"
         },
         {
          "font": {
           "color": "#FFFFFF"
          },
          "showarrow": false,
          "text": "0.969",
          "x": "21.8.2020",
          "xref": "x",
          "y": "Великобритания",
          "yref": "y"
         },
         {
          "font": {
           "color": "#FFFFFF"
          },
          "showarrow": false,
          "text": "1.108",
          "x": "22.8.2020",
          "xref": "x",
          "y": "Великобритания",
          "yref": "y"
         },
         {
          "font": {
           "color": "#FFFFFF"
          },
          "showarrow": false,
          "text": "1.227",
          "x": "23.8.2020",
          "xref": "x",
          "y": "Великобритания",
          "yref": "y"
         },
         {
          "font": {
           "color": "#FFFFFF"
          },
          "showarrow": false,
          "text": "1.144",
          "x": "24.8.2020",
          "xref": "x",
          "y": "Великобритания",
          "yref": "y"
         },
         {
          "font": {
           "color": "#FFFFFF"
          },
          "showarrow": false,
          "text": "1.012",
          "x": "30.7.2020",
          "xref": "x",
          "y": "Индия",
          "yref": "y"
         },
         {
          "font": {
           "color": "#FFFFFF"
          },
          "showarrow": false,
          "text": "1.125",
          "x": "31.7.2020",
          "xref": "x",
          "y": "Индия",
          "yref": "y"
         },
         {
          "font": {
           "color": "#FFFFFF"
          },
          "showarrow": false,
          "text": "1.125",
          "x": "1.8.2020",
          "xref": "x",
          "y": "Индия",
          "yref": "y"
         },
         {
          "font": {
           "color": "#FFFFFF"
          },
          "showarrow": false,
          "text": "1.129",
          "x": "2.8.2020",
          "xref": "x",
          "y": "Индия",
          "yref": "y"
         },
         {
          "font": {
           "color": "#FFFFFF"
          },
          "showarrow": false,
          "text": "1.11",
          "x": "3.8.2020",
          "xref": "x",
          "y": "Индия",
          "yref": "y"
         },
         {
          "font": {
           "color": "#FFFFFF"
          },
          "showarrow": false,
          "text": "0.983",
          "x": "4.8.2020",
          "xref": "x",
          "y": "Индия",
          "yref": "y"
         },
         {
          "font": {
           "color": "#FFFFFF"
          },
          "showarrow": false,
          "text": "0.976",
          "x": "5.8.2020",
          "xref": "x",
          "y": "Индия",
          "yref": "y"
         },
         {
          "font": {
           "color": "#FFFFFF"
          },
          "showarrow": false,
          "text": "1.007",
          "x": "6.8.2020",
          "xref": "x",
          "y": "Индия",
          "yref": "y"
         },
         {
          "font": {
           "color": "#FFFFFF"
          },
          "showarrow": false,
          "text": "1.054",
          "x": "7.8.2020",
          "xref": "x",
          "y": "Индия",
          "yref": "y"
         },
         {
          "font": {
           "color": "#FFFFFF"
          },
          "showarrow": false,
          "text": "1.153",
          "x": "8.8.2020",
          "xref": "x",
          "y": "Индия",
          "yref": "y"
         },
         {
          "font": {
           "color": "#FFFFFF"
          },
          "showarrow": false,
          "text": "1.172",
          "x": "9.8.2020",
          "xref": "x",
          "y": "Индия",
          "yref": "y"
         },
         {
          "font": {
           "color": "#FFFFFF"
          },
          "showarrow": false,
          "text": "1.082",
          "x": "10.8.2020",
          "xref": "x",
          "y": "Индия",
          "yref": "y"
         },
         {
          "font": {
           "color": "#FFFFFF"
          },
          "showarrow": false,
          "text": "1.035",
          "x": "11.8.2020",
          "xref": "x",
          "y": "Индия",
          "yref": "y"
         },
         {
          "font": {
           "color": "#FFFFFF"
          },
          "showarrow": false,
          "text": "0.995",
          "x": "12.8.2020",
          "xref": "x",
          "y": "Индия",
          "yref": "y"
         },
         {
          "font": {
           "color": "#FFFFFF"
          },
          "showarrow": false,
          "text": "0.982",
          "x": "13.8.2020",
          "xref": "x",
          "y": "Индия",
          "yref": "y"
         },
         {
          "font": {
           "color": "#FFFFFF"
          },
          "showarrow": false,
          "text": "1.065",
          "x": "14.8.2020",
          "xref": "x",
          "y": "Индия",
          "yref": "y"
         },
         {
          "font": {
           "color": "#FFFFFF"
          },
          "showarrow": false,
          "text": "1.08",
          "x": "15.8.2020",
          "xref": "x",
          "y": "Индия",
          "yref": "y"
         },
         {
          "font": {
           "color": "#FFFFFF"
          },
          "showarrow": false,
          "text": "1.03",
          "x": "16.8.2020",
          "xref": "x",
          "y": "Индия",
          "yref": "y"
         },
         {
          "font": {
           "color": "#FFFFFF"
          },
          "showarrow": false,
          "text": "0.981",
          "x": "17.8.2020",
          "xref": "x",
          "y": "Индия",
          "yref": "y"
         },
         {
          "font": {
           "color": "#FFFFFF"
          },
          "showarrow": false,
          "text": "0.938",
          "x": "18.8.2020",
          "xref": "x",
          "y": "Индия",
          "yref": "y"
         },
         {
          "font": {
           "color": "#FFFFFF"
          },
          "showarrow": false,
          "text": "0.949",
          "x": "19.8.2020",
          "xref": "x",
          "y": "Индия",
          "yref": "y"
         },
         {
          "font": {
           "color": "#FFFFFF"
          },
          "showarrow": false,
          "text": "1.028",
          "x": "20.8.2020",
          "xref": "x",
          "y": "Индия",
          "yref": "y"
         },
         {
          "font": {
           "color": "#FFFFFF"
          },
          "showarrow": false,
          "text": "1.131",
          "x": "21.8.2020",
          "xref": "x",
          "y": "Индия",
          "yref": "y"
         },
         {
          "font": {
           "color": "#FFFFFF"
          },
          "showarrow": false,
          "text": "1.151",
          "x": "22.8.2020",
          "xref": "x",
          "y": "Индия",
          "yref": "y"
         },
         {
          "font": {
           "color": "#FFFFFF"
          },
          "showarrow": false,
          "text": "1.091",
          "x": "23.8.2020",
          "xref": "x",
          "y": "Индия",
          "yref": "y"
         },
         {
          "font": {
           "color": "#FFFFFF"
          },
          "showarrow": false,
          "text": "1.013",
          "x": "24.8.2020",
          "xref": "x",
          "y": "Индия",
          "yref": "y"
         },
         {
          "font": {
           "color": "#FFFFFF"
          },
          "showarrow": false,
          "text": "2.671",
          "x": "30.7.2020",
          "xref": "x",
          "y": "Испания",
          "yref": "y"
         },
         {
          "font": {
           "color": "#FFFFFF"
          },
          "showarrow": false,
          "text": "1.13",
          "x": "31.7.2020",
          "xref": "x",
          "y": "Испания",
          "yref": "y"
         },
         {
          "font": {
           "color": "#FFFFFF"
          },
          "showarrow": false,
          "text": "0.966",
          "x": "1.8.2020",
          "xref": "x",
          "y": "Испания",
          "yref": "y"
         },
         {
          "font": {
           "color": "#FFFFFF"
          },
          "showarrow": false,
          "text": "0.575",
          "x": "2.8.2020",
          "xref": "x",
          "y": "Испания",
          "yref": "y"
         },
         {
          "font": {
           "color": "#FFFFFF"
          },
          "showarrow": false,
          "text": "0.894",
          "x": "3.8.2020",
          "xref": "x",
          "y": "Испания",
          "yref": "y"
         },
         {
          "font": {
           "color": "#FFFFFF"
          },
          "showarrow": false,
          "text": "1.467",
          "x": "4.8.2020",
          "xref": "x",
          "y": "Испания",
          "yref": "y"
         },
         {
          "font": {
           "color": "#FFFFFF"
          },
          "showarrow": false,
          "text": "2.18",
          "x": "5.8.2020",
          "xref": "x",
          "y": "Испания",
          "yref": "y"
         },
         {
          "font": {
           "color": "#FFFFFF"
          },
          "showarrow": false,
          "text": "3.627",
          "x": "6.8.2020",
          "xref": "x",
          "y": "Испания",
          "yref": "y"
         },
         {
          "font": {
           "color": "#FFFFFF"
          },
          "showarrow": false,
          "text": "1.489",
          "x": "7.8.2020",
          "xref": "x",
          "y": "Испания",
          "yref": "y"
         },
         {
          "font": {
           "color": "#FFFFFF"
          },
          "showarrow": false,
          "text": "0.808",
          "x": "8.8.2020",
          "xref": "x",
          "y": "Испания",
          "yref": "y"
         },
         {
          "font": {
           "color": "#FFFFFF"
          },
          "showarrow": false,
          "text": "0.498",
          "x": "9.8.2020",
          "xref": "x",
          "y": "Испания",
          "yref": "y"
         },
         {
          "font": {
           "color": "#FFFFFF"
          },
          "showarrow": false,
          "text": "0.615",
          "x": "10.8.2020",
          "xref": "x",
          "y": "Испания",
          "yref": "y"
         },
         {
          "font": {
           "color": "#FFFFFF"
          },
          "showarrow": false,
          "text": "0.708",
          "x": "11.8.2020",
          "xref": "x",
          "y": "Испания",
          "yref": "y"
         },
         {
          "font": {
           "color": "#FFFFFF"
          },
          "showarrow": false,
          "text": "1.335",
          "x": "12.8.2020",
          "xref": "x",
          "y": "Испания",
          "yref": "y"
         },
         {
          "font": {
           "color": "#FFFFFF"
          },
          "showarrow": false,
          "text": "2.673",
          "x": "13.8.2020",
          "xref": "x",
          "y": "Испания",
          "yref": "y"
         },
         {
          "font": {
           "color": "#FFFFFF"
          },
          "showarrow": false,
          "text": "1.511",
          "x": "14.8.2020",
          "xref": "x",
          "y": "Испания",
          "yref": "y"
         },
         {
          "font": {
           "color": "#FFFFFF"
          },
          "showarrow": false,
          "text": "1.323",
          "x": "15.8.2020",
          "xref": "x",
          "y": "Испания",
          "yref": "y"
         },
         {
          "font": {
           "color": "#FFFFFF"
          },
          "showarrow": false,
          "text": "0.845",
          "x": "16.8.2020",
          "xref": "x",
          "y": "Испания",
          "yref": "y"
         },
         {
          "font": {
           "color": "#FFFFFF"
          },
          "showarrow": false,
          "text": "0.947",
          "x": "17.8.2020",
          "xref": "x",
          "y": "Испания",
          "yref": "y"
         },
         {
          "font": {
           "color": "#FFFFFF"
          },
          "showarrow": false,
          "text": "1.078",
          "x": "18.8.2020",
          "xref": "x",
          "y": "Испания",
          "yref": "y"
         },
         {
          "font": {
           "color": "#FFFFFF"
          },
          "showarrow": false,
          "text": "1.732",
          "x": "19.8.2020",
          "xref": "x",
          "y": "Испания",
          "yref": "y"
         },
         {
          "font": {
           "color": "#FFFFFF"
          },
          "showarrow": false,
          "text": "2.693",
          "x": "20.8.2020",
          "xref": "x",
          "y": "Испания",
          "yref": "y"
         },
         {
          "font": {
           "color": "#FFFFFF"
          },
          "showarrow": false,
          "text": "1.24",
          "x": "21.8.2020",
          "xref": "x",
          "y": "Испания",
          "yref": "y"
         },
         {
          "font": {
           "color": "#FFFFFF"
          },
          "showarrow": false,
          "text": "1.022",
          "x": "22.8.2020",
          "xref": "x",
          "y": "Испания",
          "yref": "y"
         },
         {
          "font": {
           "color": "#FFFFFF"
          },
          "showarrow": false,
          "text": "0.541",
          "x": "23.8.2020",
          "xref": "x",
          "y": "Испания",
          "yref": "y"
         },
         {
          "font": {
           "color": "#FFFFFF"
          },
          "showarrow": false,
          "text": "0.784",
          "x": "24.8.2020",
          "xref": "x",
          "y": "Испания",
          "yref": "y"
         },
         {
          "font": {
           "color": "#FFFFFF"
          },
          "showarrow": false,
          "text": "0.99",
          "x": "30.7.2020",
          "xref": "x",
          "y": "США",
          "yref": "y"
         },
         {
          "font": {
           "color": "#FFFFFF"
          },
          "showarrow": false,
          "text": "1.081",
          "x": "31.7.2020",
          "xref": "x",
          "y": "США",
          "yref": "y"
         },
         {
          "font": {
           "color": "#FFFFFF"
          },
          "showarrow": false,
          "text": "1.085",
          "x": "1.8.2020",
          "xref": "x",
          "y": "США",
          "yref": "y"
         },
         {
          "font": {
           "color": "#FFFFFF"
          },
          "showarrow": false,
          "text": "0.972",
          "x": "2.8.2020",
          "xref": "x",
          "y": "США",
          "yref": "y"
         },
         {
          "font": {
           "color": "#FFFFFF"
          },
          "showarrow": false,
          "text": "0.837",
          "x": "3.8.2020",
          "xref": "x",
          "y": "США",
          "yref": "y"
         },
         {
          "font": {
           "color": "#FFFFFF"
          },
          "showarrow": false,
          "text": "0.769",
          "x": "4.8.2020",
          "xref": "x",
          "y": "США",
          "yref": "y"
         },
         {
          "font": {
           "color": "#FFFFFF"
          },
          "showarrow": false,
          "text": "0.769",
          "x": "5.8.2020",
          "xref": "x",
          "y": "США",
          "yref": "y"
         },
         {
          "font": {
           "color": "#FFFFFF"
          },
          "showarrow": false,
          "text": "0.893",
          "x": "6.8.2020",
          "xref": "x",
          "y": "США",
          "yref": "y"
         },
         {
          "font": {
           "color": "#FFFFFF"
          },
          "showarrow": false,
          "text": "1.044",
          "x": "7.8.2020",
          "xref": "x",
          "y": "США",
          "yref": "y"
         },
         {
          "font": {
           "color": "#FFFFFF"
          },
          "showarrow": false,
          "text": "1.086",
          "x": "8.8.2020",
          "xref": "x",
          "y": "США",
          "yref": "y"
         },
         {
          "font": {
           "color": "#FFFFFF"
          },
          "showarrow": false,
          "text": "1.087",
          "x": "9.8.2020",
          "xref": "x",
          "y": "США",
          "yref": "y"
         },
         {
          "font": {
           "color": "#FFFFFF"
          },
          "showarrow": false,
          "text": "0.979",
          "x": "10.8.2020",
          "xref": "x",
          "y": "США",
          "yref": "y"
         },
         {
          "font": {
           "color": "#FFFFFF"
          },
          "showarrow": false,
          "text": "0.874",
          "x": "11.8.2020",
          "xref": "x",
          "y": "США",
          "yref": "y"
         },
         {
          "font": {
           "color": "#FFFFFF"
          },
          "showarrow": false,
          "text": "0.879",
          "x": "12.8.2020",
          "xref": "x",
          "y": "США",
          "yref": "y"
         },
         {
          "font": {
           "color": "#FFFFFF"
          },
          "showarrow": false,
          "text": "0.924",
          "x": "13.8.2020",
          "xref": "x",
          "y": "США",
          "yref": "y"
         },
         {
          "font": {
           "color": "#FFFFFF"
          },
          "showarrow": false,
          "text": "1.038",
          "x": "14.8.2020",
          "xref": "x",
          "y": "США",
          "yref": "y"
         },
         {
          "font": {
           "color": "#FFFFFF"
          },
          "showarrow": false,
          "text": "1.103",
          "x": "15.8.2020",
          "xref": "x",
          "y": "США",
          "yref": "y"
         },
         {
          "font": {
           "color": "#FFFFFF"
          },
          "showarrow": false,
          "text": "1.032",
          "x": "16.8.2020",
          "xref": "x",
          "y": "США",
          "yref": "y"
         },
         {
          "font": {
           "color": "#FFFFFF"
          },
          "showarrow": false,
          "text": "0.928",
          "x": "17.8.2020",
          "xref": "x",
          "y": "США",
          "yref": "y"
         },
         {
          "font": {
           "color": "#FFFFFF"
          },
          "showarrow": false,
          "text": "0.773",
          "x": "18.8.2020",
          "xref": "x",
          "y": "США",
          "yref": "y"
         },
         {
          "font": {
           "color": "#FFFFFF"
          },
          "showarrow": false,
          "text": "0.767",
          "x": "19.8.2020",
          "xref": "x",
          "y": "США",
          "yref": "y"
         },
         {
          "font": {
           "color": "#FFFFFF"
          },
          "showarrow": false,
          "text": "0.829",
          "x": "20.8.2020",
          "xref": "x",
          "y": "США",
          "yref": "y"
         },
         {
          "font": {
           "color": "#FFFFFF"
          },
          "showarrow": false,
          "text": "0.973",
          "x": "21.8.2020",
          "xref": "x",
          "y": "США",
          "yref": "y"
         },
         {
          "font": {
           "color": "#FFFFFF"
          },
          "showarrow": false,
          "text": "1.092",
          "x": "22.8.2020",
          "xref": "x",
          "y": "США",
          "yref": "y"
         },
         {
          "font": {
           "color": "#FFFFFF"
          },
          "showarrow": false,
          "text": "1.019",
          "x": "23.8.2020",
          "xref": "x",
          "y": "США",
          "yref": "y"
         },
         {
          "font": {
           "color": "#FFFFFF"
          },
          "showarrow": false,
          "text": "0.972",
          "x": "24.8.2020",
          "xref": "x",
          "y": "США",
          "yref": "y"
         }
        ],
        "height": 600,
        "template": {
         "data": {
          "bar": [
           {
            "error_x": {
             "color": "#2a3f5f"
            },
            "error_y": {
             "color": "#2a3f5f"
            },
            "marker": {
             "line": {
              "color": "#E5ECF6",
              "width": 0.5
             }
            },
            "type": "bar"
           }
          ],
          "barpolar": [
           {
            "marker": {
             "line": {
              "color": "#E5ECF6",
              "width": 0.5
             }
            },
            "type": "barpolar"
           }
          ],
          "carpet": [
           {
            "aaxis": {
             "endlinecolor": "#2a3f5f",
             "gridcolor": "white",
             "linecolor": "white",
             "minorgridcolor": "white",
             "startlinecolor": "#2a3f5f"
            },
            "baxis": {
             "endlinecolor": "#2a3f5f",
             "gridcolor": "white",
             "linecolor": "white",
             "minorgridcolor": "white",
             "startlinecolor": "#2a3f5f"
            },
            "type": "carpet"
           }
          ],
          "choropleth": [
           {
            "colorbar": {
             "outlinewidth": 0,
             "ticks": ""
            },
            "type": "choropleth"
           }
          ],
          "contour": [
           {
            "colorbar": {
             "outlinewidth": 0,
             "ticks": ""
            },
            "colorscale": [
             [
              0,
              "#0d0887"
             ],
             [
              0.1111111111111111,
              "#46039f"
             ],
             [
              0.2222222222222222,
              "#7201a8"
             ],
             [
              0.3333333333333333,
              "#9c179e"
             ],
             [
              0.4444444444444444,
              "#bd3786"
             ],
             [
              0.5555555555555556,
              "#d8576b"
             ],
             [
              0.6666666666666666,
              "#ed7953"
             ],
             [
              0.7777777777777778,
              "#fb9f3a"
             ],
             [
              0.8888888888888888,
              "#fdca26"
             ],
             [
              1,
              "#f0f921"
             ]
            ],
            "type": "contour"
           }
          ],
          "contourcarpet": [
           {
            "colorbar": {
             "outlinewidth": 0,
             "ticks": ""
            },
            "type": "contourcarpet"
           }
          ],
          "heatmap": [
           {
            "colorbar": {
             "outlinewidth": 0,
             "ticks": ""
            },
            "colorscale": [
             [
              0,
              "#0d0887"
             ],
             [
              0.1111111111111111,
              "#46039f"
             ],
             [
              0.2222222222222222,
              "#7201a8"
             ],
             [
              0.3333333333333333,
              "#9c179e"
             ],
             [
              0.4444444444444444,
              "#bd3786"
             ],
             [
              0.5555555555555556,
              "#d8576b"
             ],
             [
              0.6666666666666666,
              "#ed7953"
             ],
             [
              0.7777777777777778,
              "#fb9f3a"
             ],
             [
              0.8888888888888888,
              "#fdca26"
             ],
             [
              1,
              "#f0f921"
             ]
            ],
            "type": "heatmap"
           }
          ],
          "heatmapgl": [
           {
            "colorbar": {
             "outlinewidth": 0,
             "ticks": ""
            },
            "colorscale": [
             [
              0,
              "#0d0887"
             ],
             [
              0.1111111111111111,
              "#46039f"
             ],
             [
              0.2222222222222222,
              "#7201a8"
             ],
             [
              0.3333333333333333,
              "#9c179e"
             ],
             [
              0.4444444444444444,
              "#bd3786"
             ],
             [
              0.5555555555555556,
              "#d8576b"
             ],
             [
              0.6666666666666666,
              "#ed7953"
             ],
             [
              0.7777777777777778,
              "#fb9f3a"
             ],
             [
              0.8888888888888888,
              "#fdca26"
             ],
             [
              1,
              "#f0f921"
             ]
            ],
            "type": "heatmapgl"
           }
          ],
          "histogram": [
           {
            "marker": {
             "colorbar": {
              "outlinewidth": 0,
              "ticks": ""
             }
            },
            "type": "histogram"
           }
          ],
          "histogram2d": [
           {
            "colorbar": {
             "outlinewidth": 0,
             "ticks": ""
            },
            "colorscale": [
             [
              0,
              "#0d0887"
             ],
             [
              0.1111111111111111,
              "#46039f"
             ],
             [
              0.2222222222222222,
              "#7201a8"
             ],
             [
              0.3333333333333333,
              "#9c179e"
             ],
             [
              0.4444444444444444,
              "#bd3786"
             ],
             [
              0.5555555555555556,
              "#d8576b"
             ],
             [
              0.6666666666666666,
              "#ed7953"
             ],
             [
              0.7777777777777778,
              "#fb9f3a"
             ],
             [
              0.8888888888888888,
              "#fdca26"
             ],
             [
              1,
              "#f0f921"
             ]
            ],
            "type": "histogram2d"
           }
          ],
          "histogram2dcontour": [
           {
            "colorbar": {
             "outlinewidth": 0,
             "ticks": ""
            },
            "colorscale": [
             [
              0,
              "#0d0887"
             ],
             [
              0.1111111111111111,
              "#46039f"
             ],
             [
              0.2222222222222222,
              "#7201a8"
             ],
             [
              0.3333333333333333,
              "#9c179e"
             ],
             [
              0.4444444444444444,
              "#bd3786"
             ],
             [
              0.5555555555555556,
              "#d8576b"
             ],
             [
              0.6666666666666666,
              "#ed7953"
             ],
             [
              0.7777777777777778,
              "#fb9f3a"
             ],
             [
              0.8888888888888888,
              "#fdca26"
             ],
             [
              1,
              "#f0f921"
             ]
            ],
            "type": "histogram2dcontour"
           }
          ],
          "mesh3d": [
           {
            "colorbar": {
             "outlinewidth": 0,
             "ticks": ""
            },
            "type": "mesh3d"
           }
          ],
          "parcoords": [
           {
            "line": {
             "colorbar": {
              "outlinewidth": 0,
              "ticks": ""
             }
            },
            "type": "parcoords"
           }
          ],
          "pie": [
           {
            "automargin": true,
            "type": "pie"
           }
          ],
          "scatter": [
           {
            "marker": {
             "colorbar": {
              "outlinewidth": 0,
              "ticks": ""
             }
            },
            "type": "scatter"
           }
          ],
          "scatter3d": [
           {
            "line": {
             "colorbar": {
              "outlinewidth": 0,
              "ticks": ""
             }
            },
            "marker": {
             "colorbar": {
              "outlinewidth": 0,
              "ticks": ""
             }
            },
            "type": "scatter3d"
           }
          ],
          "scattercarpet": [
           {
            "marker": {
             "colorbar": {
              "outlinewidth": 0,
              "ticks": ""
             }
            },
            "type": "scattercarpet"
           }
          ],
          "scattergeo": [
           {
            "marker": {
             "colorbar": {
              "outlinewidth": 0,
              "ticks": ""
             }
            },
            "type": "scattergeo"
           }
          ],
          "scattergl": [
           {
            "marker": {
             "colorbar": {
              "outlinewidth": 0,
              "ticks": ""
             }
            },
            "type": "scattergl"
           }
          ],
          "scattermapbox": [
           {
            "marker": {
             "colorbar": {
              "outlinewidth": 0,
              "ticks": ""
             }
            },
            "type": "scattermapbox"
           }
          ],
          "scatterpolar": [
           {
            "marker": {
             "colorbar": {
              "outlinewidth": 0,
              "ticks": ""
             }
            },
            "type": "scatterpolar"
           }
          ],
          "scatterpolargl": [
           {
            "marker": {
             "colorbar": {
              "outlinewidth": 0,
              "ticks": ""
             }
            },
            "type": "scatterpolargl"
           }
          ],
          "scatterternary": [
           {
            "marker": {
             "colorbar": {
              "outlinewidth": 0,
              "ticks": ""
             }
            },
            "type": "scatterternary"
           }
          ],
          "surface": [
           {
            "colorbar": {
             "outlinewidth": 0,
             "ticks": ""
            },
            "colorscale": [
             [
              0,
              "#0d0887"
             ],
             [
              0.1111111111111111,
              "#46039f"
             ],
             [
              0.2222222222222222,
              "#7201a8"
             ],
             [
              0.3333333333333333,
              "#9c179e"
             ],
             [
              0.4444444444444444,
              "#bd3786"
             ],
             [
              0.5555555555555556,
              "#d8576b"
             ],
             [
              0.6666666666666666,
              "#ed7953"
             ],
             [
              0.7777777777777778,
              "#fb9f3a"
             ],
             [
              0.8888888888888888,
              "#fdca26"
             ],
             [
              1,
              "#f0f921"
             ]
            ],
            "type": "surface"
           }
          ],
          "table": [
           {
            "cells": {
             "fill": {
              "color": "#EBF0F8"
             },
             "line": {
              "color": "white"
             }
            },
            "header": {
             "fill": {
              "color": "#C8D4E3"
             },
             "line": {
              "color": "white"
             }
            },
            "type": "table"
           }
          ]
         },
         "layout": {
          "annotationdefaults": {
           "arrowcolor": "#2a3f5f",
           "arrowhead": 0,
           "arrowwidth": 1
          },
          "coloraxis": {
           "colorbar": {
            "outlinewidth": 0,
            "ticks": ""
           }
          },
          "colorscale": {
           "diverging": [
            [
             0,
             "#8e0152"
            ],
            [
             0.1,
             "#c51b7d"
            ],
            [
             0.2,
             "#de77ae"
            ],
            [
             0.3,
             "#f1b6da"
            ],
            [
             0.4,
             "#fde0ef"
            ],
            [
             0.5,
             "#f7f7f7"
            ],
            [
             0.6,
             "#e6f5d0"
            ],
            [
             0.7,
             "#b8e186"
            ],
            [
             0.8,
             "#7fbc41"
            ],
            [
             0.9,
             "#4d9221"
            ],
            [
             1,
             "#276419"
            ]
           ],
           "sequential": [
            [
             0,
             "#0d0887"
            ],
            [
             0.1111111111111111,
             "#46039f"
            ],
            [
             0.2222222222222222,
             "#7201a8"
            ],
            [
             0.3333333333333333,
             "#9c179e"
            ],
            [
             0.4444444444444444,
             "#bd3786"
            ],
            [
             0.5555555555555556,
             "#d8576b"
            ],
            [
             0.6666666666666666,
             "#ed7953"
            ],
            [
             0.7777777777777778,
             "#fb9f3a"
            ],
            [
             0.8888888888888888,
             "#fdca26"
            ],
            [
             1,
             "#f0f921"
            ]
           ],
           "sequentialminus": [
            [
             0,
             "#0d0887"
            ],
            [
             0.1111111111111111,
             "#46039f"
            ],
            [
             0.2222222222222222,
             "#7201a8"
            ],
            [
             0.3333333333333333,
             "#9c179e"
            ],
            [
             0.4444444444444444,
             "#bd3786"
            ],
            [
             0.5555555555555556,
             "#d8576b"
            ],
            [
             0.6666666666666666,
             "#ed7953"
            ],
            [
             0.7777777777777778,
             "#fb9f3a"
            ],
            [
             0.8888888888888888,
             "#fdca26"
            ],
            [
             1,
             "#f0f921"
            ]
           ]
          },
          "colorway": [
           "#636efa",
           "#EF553B",
           "#00cc96",
           "#ab63fa",
           "#FFA15A",
           "#19d3f3",
           "#FF6692",
           "#B6E880",
           "#FF97FF",
           "#FECB52"
          ],
          "font": {
           "color": "#2a3f5f"
          },
          "geo": {
           "bgcolor": "white",
           "lakecolor": "white",
           "landcolor": "#E5ECF6",
           "showlakes": true,
           "showland": true,
           "subunitcolor": "white"
          },
          "hoverlabel": {
           "align": "left"
          },
          "hovermode": "closest",
          "mapbox": {
           "style": "light"
          },
          "paper_bgcolor": "white",
          "plot_bgcolor": "#E5ECF6",
          "polar": {
           "angularaxis": {
            "gridcolor": "white",
            "linecolor": "white",
            "ticks": ""
           },
           "bgcolor": "#E5ECF6",
           "radialaxis": {
            "gridcolor": "white",
            "linecolor": "white",
            "ticks": ""
           }
          },
          "scene": {
           "xaxis": {
            "backgroundcolor": "#E5ECF6",
            "gridcolor": "white",
            "gridwidth": 2,
            "linecolor": "white",
            "showbackground": true,
            "ticks": "",
            "zerolinecolor": "white"
           },
           "yaxis": {
            "backgroundcolor": "#E5ECF6",
            "gridcolor": "white",
            "gridwidth": 2,
            "linecolor": "white",
            "showbackground": true,
            "ticks": "",
            "zerolinecolor": "white"
           },
           "zaxis": {
            "backgroundcolor": "#E5ECF6",
            "gridcolor": "white",
            "gridwidth": 2,
            "linecolor": "white",
            "showbackground": true,
            "ticks": "",
            "zerolinecolor": "white"
           }
          },
          "shapedefaults": {
           "line": {
            "color": "#2a3f5f"
           }
          },
          "ternary": {
           "aaxis": {
            "gridcolor": "white",
            "linecolor": "white",
            "ticks": ""
           },
           "baxis": {
            "gridcolor": "white",
            "linecolor": "white",
            "ticks": ""
           },
           "bgcolor": "#E5ECF6",
           "caxis": {
            "gridcolor": "white",
            "linecolor": "white",
            "ticks": ""
           }
          },
          "title": {
           "x": 0.05
          },
          "xaxis": {
           "automargin": true,
           "gridcolor": "white",
           "linecolor": "white",
           "ticks": "",
           "title": {
            "standoff": 15
           },
           "zerolinecolor": "white",
           "zerolinewidth": 2
          },
          "yaxis": {
           "automargin": true,
           "gridcolor": "white",
           "linecolor": "white",
           "ticks": "",
           "title": {
            "standoff": 15
           },
           "zerolinecolor": "white",
           "zerolinewidth": 2
          }
         }
        },
        "width": 990,
        "xaxis": {
         "dtick": 1,
         "gridcolor": "rgb(0, 0, 0)",
         "side": "top",
         "ticks": "",
         "title": {
          "text": "Динамика коэффициента распространения Rt по странам"
         }
        },
        "yaxis": {
         "dtick": 1,
         "ticks": "",
         "ticksuffix": "  "
        }
       }
      }
     },
     "metadata": {}
    }
   ],
   "source": [
    "fig = ff.create_annotated_heatmap(d, x=x2, y=y, annotation_text=d,\n",
    "                                  colorscale='Temps')\n",
    "\n",
    "fig.update_layout(\n",
    "                  \n",
    "                  \n",
    "                  width = 990, height = 600,    \n",
    "    \n",
    "                  xaxis_title='Динамика коэффициента распространения Rt по странам',\n",
    "               #   yaxis_title = 'Регион '\n",
    ")\n",
    "\n",
    "fig.show()\n",
    "\n"
   ]
  },
  {
   "cell_type": "code",
   "execution_count": 21,
   "metadata": {
    "tags": []
   },
   "outputs": [
    {
     "output_type": "stream",
     "name": "stdout",
     "text": "[[1.098 1.092 1.08  1.07  1.068 1.074 1.081 1.083 1.076 1.067 1.058 1.057\n  1.063 1.068 1.07  1.066 1.059 1.053 1.053 1.059 1.063 1.064 1.059 1.051\n  1.045 1.043 1.046 1.048 1.049 1.045]\n [1.009 1.01  1.01  1.01  1.01  1.01  1.01  1.01  1.011 1.011 1.011 1.011\n  1.011 1.011 1.012 1.012 1.012 1.012 1.013 1.014 1.014 1.015 1.015 1.014\n  1.013 1.013 1.012 1.013 1.013 1.014]\n [1.157 1.157 1.153 1.149 1.144 1.143 1.142 1.142 1.141 1.136 1.13  1.126\n  1.124 1.125 1.126 1.125 1.122 1.119 1.115 1.113 1.112 1.11  1.107 1.102\n  1.098 1.097 1.097 1.099 1.098 1.096]\n [1.027 1.026 1.026 1.029 1.037 1.038 1.037 1.033 1.031 1.035 1.043 1.056\n  1.06  1.057 1.049 1.042 1.037 1.04  1.051 1.056 1.058 1.056 1.054 1.054\n  1.062 1.078 1.08  1.079 1.069 1.062]\n [1.07  1.068 1.065 1.062 1.061 1.061 1.061 1.06  1.057 1.052 1.048 1.046\n  1.046 1.047 1.047 1.046 1.044 1.042 1.041 1.041 1.042 1.041 1.04  1.038\n  1.035 1.033 1.032 1.033 1.033 1.032]]\n"
    },
    {
     "output_type": "execute_result",
     "data": {
      "text/plain": "Date         Country  2020-07-26  2020-07-27  2020-07-28  2020-07-29  \\\n0           Бразилия       1.098       1.092       1.080       1.070   \n1     Великобритания       1.009       1.010       1.010       1.010   \n2              Индия       1.157       1.157       1.153       1.149   \n3            Испания       1.027       1.026       1.026       1.029   \n4                США       1.070       1.068       1.065       1.062   \n\nDate  2020-07-30  2020-07-31  2020-08-01  2020-08-02  2020-08-03  ...  \\\n0          1.068       1.074       1.081       1.083       1.076  ...   \n1          1.010       1.010       1.010       1.010       1.011  ...   \n2          1.144       1.143       1.142       1.142       1.141  ...   \n3          1.037       1.038       1.037       1.033       1.031  ...   \n4          1.061       1.061       1.061       1.060       1.057  ...   \n\nDate  2020-08-15  2020-08-16  2020-08-17  2020-08-18  2020-08-19  2020-08-20  \\\n0          1.063       1.064       1.059       1.051       1.045       1.043   \n1          1.014       1.015       1.015       1.014       1.013       1.013   \n2          1.112       1.110       1.107       1.102       1.098       1.097   \n3          1.058       1.056       1.054       1.054       1.062       1.078   \n4          1.042       1.041       1.040       1.038       1.035       1.033   \n\nDate  2020-08-21  2020-08-22  2020-08-23  2020-08-24  \n0          1.046       1.048       1.049       1.045  \n1          1.012       1.013       1.013       1.014  \n2          1.097       1.099       1.098       1.096  \n3          1.080       1.079       1.069       1.062  \n4          1.032       1.033       1.033       1.032  \n\n[5 rows x 31 columns]",
      "text/html": "<div>\n<style scoped>\n    .dataframe tbody tr th:only-of-type {\n        vertical-align: middle;\n    }\n\n    .dataframe tbody tr th {\n        vertical-align: top;\n    }\n\n    .dataframe thead th {\n        text-align: right;\n    }\n</style>\n<table border=\"1\" class=\"dataframe\">\n  <thead>\n    <tr style=\"text-align: right;\">\n      <th>Date</th>\n      <th>Country</th>\n      <th>2020-07-26</th>\n      <th>2020-07-27</th>\n      <th>2020-07-28</th>\n      <th>2020-07-29</th>\n      <th>2020-07-30</th>\n      <th>2020-07-31</th>\n      <th>2020-08-01</th>\n      <th>2020-08-02</th>\n      <th>2020-08-03</th>\n      <th>...</th>\n      <th>2020-08-15</th>\n      <th>2020-08-16</th>\n      <th>2020-08-17</th>\n      <th>2020-08-18</th>\n      <th>2020-08-19</th>\n      <th>2020-08-20</th>\n      <th>2020-08-21</th>\n      <th>2020-08-22</th>\n      <th>2020-08-23</th>\n      <th>2020-08-24</th>\n    </tr>\n  </thead>\n  <tbody>\n    <tr>\n      <th>0</th>\n      <td>Бразилия</td>\n      <td>1.098</td>\n      <td>1.092</td>\n      <td>1.080</td>\n      <td>1.070</td>\n      <td>1.068</td>\n      <td>1.074</td>\n      <td>1.081</td>\n      <td>1.083</td>\n      <td>1.076</td>\n      <td>...</td>\n      <td>1.063</td>\n      <td>1.064</td>\n      <td>1.059</td>\n      <td>1.051</td>\n      <td>1.045</td>\n      <td>1.043</td>\n      <td>1.046</td>\n      <td>1.048</td>\n      <td>1.049</td>\n      <td>1.045</td>\n    </tr>\n    <tr>\n      <th>1</th>\n      <td>Великобритания</td>\n      <td>1.009</td>\n      <td>1.010</td>\n      <td>1.010</td>\n      <td>1.010</td>\n      <td>1.010</td>\n      <td>1.010</td>\n      <td>1.010</td>\n      <td>1.010</td>\n      <td>1.011</td>\n      <td>...</td>\n      <td>1.014</td>\n      <td>1.015</td>\n      <td>1.015</td>\n      <td>1.014</td>\n      <td>1.013</td>\n      <td>1.013</td>\n      <td>1.012</td>\n      <td>1.013</td>\n      <td>1.013</td>\n      <td>1.014</td>\n    </tr>\n    <tr>\n      <th>2</th>\n      <td>Индия</td>\n      <td>1.157</td>\n      <td>1.157</td>\n      <td>1.153</td>\n      <td>1.149</td>\n      <td>1.144</td>\n      <td>1.143</td>\n      <td>1.142</td>\n      <td>1.142</td>\n      <td>1.141</td>\n      <td>...</td>\n      <td>1.112</td>\n      <td>1.110</td>\n      <td>1.107</td>\n      <td>1.102</td>\n      <td>1.098</td>\n      <td>1.097</td>\n      <td>1.097</td>\n      <td>1.099</td>\n      <td>1.098</td>\n      <td>1.096</td>\n    </tr>\n    <tr>\n      <th>3</th>\n      <td>Испания</td>\n      <td>1.027</td>\n      <td>1.026</td>\n      <td>1.026</td>\n      <td>1.029</td>\n      <td>1.037</td>\n      <td>1.038</td>\n      <td>1.037</td>\n      <td>1.033</td>\n      <td>1.031</td>\n      <td>...</td>\n      <td>1.058</td>\n      <td>1.056</td>\n      <td>1.054</td>\n      <td>1.054</td>\n      <td>1.062</td>\n      <td>1.078</td>\n      <td>1.080</td>\n      <td>1.079</td>\n      <td>1.069</td>\n      <td>1.062</td>\n    </tr>\n    <tr>\n      <th>4</th>\n      <td>США</td>\n      <td>1.070</td>\n      <td>1.068</td>\n      <td>1.065</td>\n      <td>1.062</td>\n      <td>1.061</td>\n      <td>1.061</td>\n      <td>1.061</td>\n      <td>1.060</td>\n      <td>1.057</td>\n      <td>...</td>\n      <td>1.042</td>\n      <td>1.041</td>\n      <td>1.040</td>\n      <td>1.038</td>\n      <td>1.035</td>\n      <td>1.033</td>\n      <td>1.032</td>\n      <td>1.033</td>\n      <td>1.033</td>\n      <td>1.032</td>\n    </tr>\n  </tbody>\n</table>\n<p>5 rows × 31 columns</p>\n</div>"
     },
     "metadata": {},
     "execution_count": 21
    }
   ],
   "source": [
    "mask = (X.Date>=datetime.date(2020,7,26))&(X.Country.isin(country_towatch))\n",
    "\n",
    "\n",
    "# #mask = (X.Date>='2020-06-04')\n",
    "\n",
    "Z = X[mask].groupby(['Country','Date']).Rt2.sum().apply(my_round).unstack().reset_index()\n",
    "Z.dropna(inplace=True)\n",
    "d = Z.drop('Country',axis = 1).values\n",
    "\n",
    "# my_map= {'Москва':'2.Москва','Московская обл.':'3.Московская обл.','Нижегородская обл.':'5.Нижегородская обл.',\n",
    "#                     'Россия':'1.Россия', 'Санкт-Петербург':'4.Санкт-Петербург'}\n",
    "# Z.Region = Z.Region.map(my_map)\n",
    "\n",
    "print(d)\n",
    "Z.head()"
   ]
  },
  {
   "cell_type": "code",
   "execution_count": 22,
   "metadata": {
    "tags": []
   },
   "outputs": [
    {
     "output_type": "stream",
     "name": "stdout",
     "text": "[datetime.date(2020, 7, 26), datetime.date(2020, 7, 27), datetime.date(2020, 7, 28), datetime.date(2020, 7, 29), datetime.date(2020, 7, 30), datetime.date(2020, 7, 31), datetime.date(2020, 8, 1), datetime.date(2020, 8, 2), datetime.date(2020, 8, 3), datetime.date(2020, 8, 4), datetime.date(2020, 8, 5), datetime.date(2020, 8, 6), datetime.date(2020, 8, 7), datetime.date(2020, 8, 8), datetime.date(2020, 8, 9), datetime.date(2020, 8, 10), datetime.date(2020, 8, 11), datetime.date(2020, 8, 12), datetime.date(2020, 8, 13), datetime.date(2020, 8, 14), datetime.date(2020, 8, 15), datetime.date(2020, 8, 16), datetime.date(2020, 8, 17), datetime.date(2020, 8, 18), datetime.date(2020, 8, 19), datetime.date(2020, 8, 20), datetime.date(2020, 8, 21), datetime.date(2020, 8, 22), datetime.date(2020, 8, 23), datetime.date(2020, 8, 24)]\n['26.7.2020', '27.7.2020', '28.7.2020', '29.7.2020', '30.7.2020', '31.7.2020', '1.8.2020', '2.8.2020', '3.8.2020', '4.8.2020', '5.8.2020', '6.8.2020', '7.8.2020', '8.8.2020', '9.8.2020', '10.8.2020', '11.8.2020', '12.8.2020', '13.8.2020', '14.8.2020', '15.8.2020', '16.8.2020', '17.8.2020', '18.8.2020', '19.8.2020', '20.8.2020', '21.8.2020', '22.8.2020', '23.8.2020', '24.8.2020']\n"
    }
   ],
   "source": [
    "x1=list(Z.columns[1:])\n",
    "x2=[]\n",
    "for i in x1:\n",
    "    x2.append(str(i.day)+'.'+str(i.month)+\".\"+str(i.year))\n",
    "    \n",
    "y=list(Z.Country)\n",
    "print(list(x1))\n",
    "print(x2)"
   ]
  },
  {
   "cell_type": "code",
   "execution_count": 23,
   "metadata": {},
   "outputs": [
    {
     "output_type": "display_data",
     "data": {
      "application/vnd.plotly.v1+json": {
       "config": {
        "plotlyServerURL": "https://plot.ly"
       },
       "data": [
        {
         "colorscale": [
          [
           0,
           "rgb(0, 147, 146)"
          ],
          [
           0.16666666666666666,
           "rgb(57, 177, 133)"
          ],
          [
           0.3333333333333333,
           "rgb(156, 203, 134)"
          ],
          [
           0.5,
           "rgb(233, 226, 156)"
          ],
          [
           0.6666666666666666,
           "rgb(238, 180, 121)"
          ],
          [
           0.8333333333333334,
           "rgb(232, 132, 113)"
          ],
          [
           1,
           "rgb(207, 89, 126)"
          ]
         ],
         "reversescale": false,
         "showscale": false,
         "type": "heatmap",
         "x": [
          "26.7.2020",
          "27.7.2020",
          "28.7.2020",
          "29.7.2020",
          "30.7.2020",
          "31.7.2020",
          "1.8.2020",
          "2.8.2020",
          "3.8.2020",
          "4.8.2020",
          "5.8.2020",
          "6.8.2020",
          "7.8.2020",
          "8.8.2020",
          "9.8.2020",
          "10.8.2020",
          "11.8.2020",
          "12.8.2020",
          "13.8.2020",
          "14.8.2020",
          "15.8.2020",
          "16.8.2020",
          "17.8.2020",
          "18.8.2020",
          "19.8.2020",
          "20.8.2020",
          "21.8.2020",
          "22.8.2020",
          "23.8.2020",
          "24.8.2020"
         ],
         "y": [
          "Бразилия",
          "Великобритания",
          "Индия",
          "Испания",
          "США"
         ],
         "z": [
          [
           1.098,
           1.092,
           1.08,
           1.07,
           1.068,
           1.074,
           1.081,
           1.083,
           1.076,
           1.067,
           1.058,
           1.057,
           1.063,
           1.068,
           1.07,
           1.066,
           1.059,
           1.053,
           1.053,
           1.059,
           1.063,
           1.064,
           1.059,
           1.051,
           1.045,
           1.043,
           1.046,
           1.048,
           1.049,
           1.045
          ],
          [
           1.009,
           1.01,
           1.01,
           1.01,
           1.01,
           1.01,
           1.01,
           1.01,
           1.011,
           1.011,
           1.011,
           1.011,
           1.011,
           1.011,
           1.012,
           1.012,
           1.012,
           1.012,
           1.013,
           1.014,
           1.014,
           1.015,
           1.015,
           1.014,
           1.013,
           1.013,
           1.012,
           1.013,
           1.013,
           1.014
          ],
          [
           1.157,
           1.157,
           1.153,
           1.149,
           1.144,
           1.143,
           1.142,
           1.142,
           1.141,
           1.136,
           1.13,
           1.126,
           1.124,
           1.125,
           1.126,
           1.125,
           1.122,
           1.119,
           1.115,
           1.113,
           1.112,
           1.11,
           1.107,
           1.102,
           1.098,
           1.097,
           1.097,
           1.099,
           1.098,
           1.096
          ],
          [
           1.027,
           1.026,
           1.026,
           1.029,
           1.037,
           1.038,
           1.037,
           1.033,
           1.031,
           1.035,
           1.043,
           1.056,
           1.06,
           1.057,
           1.049,
           1.042,
           1.037,
           1.04,
           1.051,
           1.056,
           1.058,
           1.056,
           1.054,
           1.054,
           1.062,
           1.078,
           1.08,
           1.079,
           1.069,
           1.062
          ],
          [
           1.07,
           1.068,
           1.065,
           1.062,
           1.061,
           1.061,
           1.061,
           1.06,
           1.057,
           1.052,
           1.048,
           1.046,
           1.046,
           1.047,
           1.047,
           1.046,
           1.044,
           1.042,
           1.041,
           1.041,
           1.042,
           1.041,
           1.04,
           1.038,
           1.035,
           1.033,
           1.032,
           1.033,
           1.033,
           1.032
          ]
         ]
        }
       ],
       "layout": {
        "annotations": [
         {
          "font": {
           "color": "#FFFFFF"
          },
          "showarrow": false,
          "text": "1.098",
          "x": "26.7.2020",
          "xref": "x",
          "y": "Бразилия",
          "yref": "y"
         },
         {
          "font": {
           "color": "#FFFFFF"
          },
          "showarrow": false,
          "text": "1.092",
          "x": "27.7.2020",
          "xref": "x",
          "y": "Бразилия",
          "yref": "y"
         },
         {
          "font": {
           "color": "#FFFFFF"
          },
          "showarrow": false,
          "text": "1.08",
          "x": "28.7.2020",
          "xref": "x",
          "y": "Бразилия",
          "yref": "y"
         },
         {
          "font": {
           "color": "#FFFFFF"
          },
          "showarrow": false,
          "text": "1.07",
          "x": "29.7.2020",
          "xref": "x",
          "y": "Бразилия",
          "yref": "y"
         },
         {
          "font": {
           "color": "#FFFFFF"
          },
          "showarrow": false,
          "text": "1.068",
          "x": "30.7.2020",
          "xref": "x",
          "y": "Бразилия",
          "yref": "y"
         },
         {
          "font": {
           "color": "#FFFFFF"
          },
          "showarrow": false,
          "text": "1.074",
          "x": "31.7.2020",
          "xref": "x",
          "y": "Бразилия",
          "yref": "y"
         },
         {
          "font": {
           "color": "#FFFFFF"
          },
          "showarrow": false,
          "text": "1.081",
          "x": "1.8.2020",
          "xref": "x",
          "y": "Бразилия",
          "yref": "y"
         },
         {
          "font": {
           "color": "#FFFFFF"
          },
          "showarrow": false,
          "text": "1.083",
          "x": "2.8.2020",
          "xref": "x",
          "y": "Бразилия",
          "yref": "y"
         },
         {
          "font": {
           "color": "#FFFFFF"
          },
          "showarrow": false,
          "text": "1.076",
          "x": "3.8.2020",
          "xref": "x",
          "y": "Бразилия",
          "yref": "y"
         },
         {
          "font": {
           "color": "#FFFFFF"
          },
          "showarrow": false,
          "text": "1.067",
          "x": "4.8.2020",
          "xref": "x",
          "y": "Бразилия",
          "yref": "y"
         },
         {
          "font": {
           "color": "#FFFFFF"
          },
          "showarrow": false,
          "text": "1.058",
          "x": "5.8.2020",
          "xref": "x",
          "y": "Бразилия",
          "yref": "y"
         },
         {
          "font": {
           "color": "#FFFFFF"
          },
          "showarrow": false,
          "text": "1.057",
          "x": "6.8.2020",
          "xref": "x",
          "y": "Бразилия",
          "yref": "y"
         },
         {
          "font": {
           "color": "#FFFFFF"
          },
          "showarrow": false,
          "text": "1.063",
          "x": "7.8.2020",
          "xref": "x",
          "y": "Бразилия",
          "yref": "y"
         },
         {
          "font": {
           "color": "#FFFFFF"
          },
          "showarrow": false,
          "text": "1.068",
          "x": "8.8.2020",
          "xref": "x",
          "y": "Бразилия",
          "yref": "y"
         },
         {
          "font": {
           "color": "#FFFFFF"
          },
          "showarrow": false,
          "text": "1.07",
          "x": "9.8.2020",
          "xref": "x",
          "y": "Бразилия",
          "yref": "y"
         },
         {
          "font": {
           "color": "#FFFFFF"
          },
          "showarrow": false,
          "text": "1.066",
          "x": "10.8.2020",
          "xref": "x",
          "y": "Бразилия",
          "yref": "y"
         },
         {
          "font": {
           "color": "#FFFFFF"
          },
          "showarrow": false,
          "text": "1.059",
          "x": "11.8.2020",
          "xref": "x",
          "y": "Бразилия",
          "yref": "y"
         },
         {
          "font": {
           "color": "#FFFFFF"
          },
          "showarrow": false,
          "text": "1.053",
          "x": "12.8.2020",
          "xref": "x",
          "y": "Бразилия",
          "yref": "y"
         },
         {
          "font": {
           "color": "#FFFFFF"
          },
          "showarrow": false,
          "text": "1.053",
          "x": "13.8.2020",
          "xref": "x",
          "y": "Бразилия",
          "yref": "y"
         },
         {
          "font": {
           "color": "#FFFFFF"
          },
          "showarrow": false,
          "text": "1.059",
          "x": "14.8.2020",
          "xref": "x",
          "y": "Бразилия",
          "yref": "y"
         },
         {
          "font": {
           "color": "#FFFFFF"
          },
          "showarrow": false,
          "text": "1.063",
          "x": "15.8.2020",
          "xref": "x",
          "y": "Бразилия",
          "yref": "y"
         },
         {
          "font": {
           "color": "#FFFFFF"
          },
          "showarrow": false,
          "text": "1.064",
          "x": "16.8.2020",
          "xref": "x",
          "y": "Бразилия",
          "yref": "y"
         },
         {
          "font": {
           "color": "#FFFFFF"
          },
          "showarrow": false,
          "text": "1.059",
          "x": "17.8.2020",
          "xref": "x",
          "y": "Бразилия",
          "yref": "y"
         },
         {
          "font": {
           "color": "#FFFFFF"
          },
          "showarrow": false,
          "text": "1.051",
          "x": "18.8.2020",
          "xref": "x",
          "y": "Бразилия",
          "yref": "y"
         },
         {
          "font": {
           "color": "#FFFFFF"
          },
          "showarrow": false,
          "text": "1.045",
          "x": "19.8.2020",
          "xref": "x",
          "y": "Бразилия",
          "yref": "y"
         },
         {
          "font": {
           "color": "#FFFFFF"
          },
          "showarrow": false,
          "text": "1.043",
          "x": "20.8.2020",
          "xref": "x",
          "y": "Бразилия",
          "yref": "y"
         },
         {
          "font": {
           "color": "#FFFFFF"
          },
          "showarrow": false,
          "text": "1.046",
          "x": "21.8.2020",
          "xref": "x",
          "y": "Бразилия",
          "yref": "y"
         },
         {
          "font": {
           "color": "#FFFFFF"
          },
          "showarrow": false,
          "text": "1.048",
          "x": "22.8.2020",
          "xref": "x",
          "y": "Бразилия",
          "yref": "y"
         },
         {
          "font": {
           "color": "#FFFFFF"
          },
          "showarrow": false,
          "text": "1.049",
          "x": "23.8.2020",
          "xref": "x",
          "y": "Бразилия",
          "yref": "y"
         },
         {
          "font": {
           "color": "#FFFFFF"
          },
          "showarrow": false,
          "text": "1.045",
          "x": "24.8.2020",
          "xref": "x",
          "y": "Бразилия",
          "yref": "y"
         },
         {
          "font": {
           "color": "#FFFFFF"
          },
          "showarrow": false,
          "text": "1.009",
          "x": "26.7.2020",
          "xref": "x",
          "y": "Великобритания",
          "yref": "y"
         },
         {
          "font": {
           "color": "#FFFFFF"
          },
          "showarrow": false,
          "text": "1.01",
          "x": "27.7.2020",
          "xref": "x",
          "y": "Великобритания",
          "yref": "y"
         },
         {
          "font": {
           "color": "#FFFFFF"
          },
          "showarrow": false,
          "text": "1.01",
          "x": "28.7.2020",
          "xref": "x",
          "y": "Великобритания",
          "yref": "y"
         },
         {
          "font": {
           "color": "#FFFFFF"
          },
          "showarrow": false,
          "text": "1.01",
          "x": "29.7.2020",
          "xref": "x",
          "y": "Великобритания",
          "yref": "y"
         },
         {
          "font": {
           "color": "#FFFFFF"
          },
          "showarrow": false,
          "text": "1.01",
          "x": "30.7.2020",
          "xref": "x",
          "y": "Великобритания",
          "yref": "y"
         },
         {
          "font": {
           "color": "#FFFFFF"
          },
          "showarrow": false,
          "text": "1.01",
          "x": "31.7.2020",
          "xref": "x",
          "y": "Великобритания",
          "yref": "y"
         },
         {
          "font": {
           "color": "#FFFFFF"
          },
          "showarrow": false,
          "text": "1.01",
          "x": "1.8.2020",
          "xref": "x",
          "y": "Великобритания",
          "yref": "y"
         },
         {
          "font": {
           "color": "#FFFFFF"
          },
          "showarrow": false,
          "text": "1.01",
          "x": "2.8.2020",
          "xref": "x",
          "y": "Великобритания",
          "yref": "y"
         },
         {
          "font": {
           "color": "#FFFFFF"
          },
          "showarrow": false,
          "text": "1.011",
          "x": "3.8.2020",
          "xref": "x",
          "y": "Великобритания",
          "yref": "y"
         },
         {
          "font": {
           "color": "#FFFFFF"
          },
          "showarrow": false,
          "text": "1.011",
          "x": "4.8.2020",
          "xref": "x",
          "y": "Великобритания",
          "yref": "y"
         },
         {
          "font": {
           "color": "#FFFFFF"
          },
          "showarrow": false,
          "text": "1.011",
          "x": "5.8.2020",
          "xref": "x",
          "y": "Великобритания",
          "yref": "y"
         },
         {
          "font": {
           "color": "#FFFFFF"
          },
          "showarrow": false,
          "text": "1.011",
          "x": "6.8.2020",
          "xref": "x",
          "y": "Великобритания",
          "yref": "y"
         },
         {
          "font": {
           "color": "#FFFFFF"
          },
          "showarrow": false,
          "text": "1.011",
          "x": "7.8.2020",
          "xref": "x",
          "y": "Великобритания",
          "yref": "y"
         },
         {
          "font": {
           "color": "#FFFFFF"
          },
          "showarrow": false,
          "text": "1.011",
          "x": "8.8.2020",
          "xref": "x",
          "y": "Великобритания",
          "yref": "y"
         },
         {
          "font": {
           "color": "#FFFFFF"
          },
          "showarrow": false,
          "text": "1.012",
          "x": "9.8.2020",
          "xref": "x",
          "y": "Великобритания",
          "yref": "y"
         },
         {
          "font": {
           "color": "#FFFFFF"
          },
          "showarrow": false,
          "text": "1.012",
          "x": "10.8.2020",
          "xref": "x",
          "y": "Великобритания",
          "yref": "y"
         },
         {
          "font": {
           "color": "#FFFFFF"
          },
          "showarrow": false,
          "text": "1.012",
          "x": "11.8.2020",
          "xref": "x",
          "y": "Великобритания",
          "yref": "y"
         },
         {
          "font": {
           "color": "#FFFFFF"
          },
          "showarrow": false,
          "text": "1.012",
          "x": "12.8.2020",
          "xref": "x",
          "y": "Великобритания",
          "yref": "y"
         },
         {
          "font": {
           "color": "#FFFFFF"
          },
          "showarrow": false,
          "text": "1.013",
          "x": "13.8.2020",
          "xref": "x",
          "y": "Великобритания",
          "yref": "y"
         },
         {
          "font": {
           "color": "#FFFFFF"
          },
          "showarrow": false,
          "text": "1.014",
          "x": "14.8.2020",
          "xref": "x",
          "y": "Великобритания",
          "yref": "y"
         },
         {
          "font": {
           "color": "#FFFFFF"
          },
          "showarrow": false,
          "text": "1.014",
          "x": "15.8.2020",
          "xref": "x",
          "y": "Великобритания",
          "yref": "y"
         },
         {
          "font": {
           "color": "#FFFFFF"
          },
          "showarrow": false,
          "text": "1.015",
          "x": "16.8.2020",
          "xref": "x",
          "y": "Великобритания",
          "yref": "y"
         },
         {
          "font": {
           "color": "#FFFFFF"
          },
          "showarrow": false,
          "text": "1.015",
          "x": "17.8.2020",
          "xref": "x",
          "y": "Великобритания",
          "yref": "y"
         },
         {
          "font": {
           "color": "#FFFFFF"
          },
          "showarrow": false,
          "text": "1.014",
          "x": "18.8.2020",
          "xref": "x",
          "y": "Великобритания",
          "yref": "y"
         },
         {
          "font": {
           "color": "#FFFFFF"
          },
          "showarrow": false,
          "text": "1.013",
          "x": "19.8.2020",
          "xref": "x",
          "y": "Великобритания",
          "yref": "y"
         },
         {
          "font": {
           "color": "#FFFFFF"
          },
          "showarrow": false,
          "text": "1.013",
          "x": "20.8.2020",
          "xref": "x",
          "y": "Великобритания",
          "yref": "y"
         },
         {
          "font": {
           "color": "#FFFFFF"
          },
          "showarrow": false,
          "text": "1.012",
          "x": "21.8.2020",
          "xref": "x",
          "y": "Великобритания",
          "yref": "y"
         },
         {
          "font": {
           "color": "#FFFFFF"
          },
          "showarrow": false,
          "text": "1.013",
          "x": "22.8.2020",
          "xref": "x",
          "y": "Великобритания",
          "yref": "y"
         },
         {
          "font": {
           "color": "#FFFFFF"
          },
          "showarrow": false,
          "text": "1.013",
          "x": "23.8.2020",
          "xref": "x",
          "y": "Великобритания",
          "yref": "y"
         },
         {
          "font": {
           "color": "#FFFFFF"
          },
          "showarrow": false,
          "text": "1.014",
          "x": "24.8.2020",
          "xref": "x",
          "y": "Великобритания",
          "yref": "y"
         },
         {
          "font": {
           "color": "#FFFFFF"
          },
          "showarrow": false,
          "text": "1.157",
          "x": "26.7.2020",
          "xref": "x",
          "y": "Индия",
          "yref": "y"
         },
         {
          "font": {
           "color": "#FFFFFF"
          },
          "showarrow": false,
          "text": "1.157",
          "x": "27.7.2020",
          "xref": "x",
          "y": "Индия",
          "yref": "y"
         },
         {
          "font": {
           "color": "#FFFFFF"
          },
          "showarrow": false,
          "text": "1.153",
          "x": "28.7.2020",
          "xref": "x",
          "y": "Индия",
          "yref": "y"
         },
         {
          "font": {
           "color": "#FFFFFF"
          },
          "showarrow": false,
          "text": "1.149",
          "x": "29.7.2020",
          "xref": "x",
          "y": "Индия",
          "yref": "y"
         },
         {
          "font": {
           "color": "#FFFFFF"
          },
          "showarrow": false,
          "text": "1.144",
          "x": "30.7.2020",
          "xref": "x",
          "y": "Индия",
          "yref": "y"
         },
         {
          "font": {
           "color": "#FFFFFF"
          },
          "showarrow": false,
          "text": "1.143",
          "x": "31.7.2020",
          "xref": "x",
          "y": "Индия",
          "yref": "y"
         },
         {
          "font": {
           "color": "#FFFFFF"
          },
          "showarrow": false,
          "text": "1.142",
          "x": "1.8.2020",
          "xref": "x",
          "y": "Индия",
          "yref": "y"
         },
         {
          "font": {
           "color": "#FFFFFF"
          },
          "showarrow": false,
          "text": "1.142",
          "x": "2.8.2020",
          "xref": "x",
          "y": "Индия",
          "yref": "y"
         },
         {
          "font": {
           "color": "#FFFFFF"
          },
          "showarrow": false,
          "text": "1.141",
          "x": "3.8.2020",
          "xref": "x",
          "y": "Индия",
          "yref": "y"
         },
         {
          "font": {
           "color": "#FFFFFF"
          },
          "showarrow": false,
          "text": "1.136",
          "x": "4.8.2020",
          "xref": "x",
          "y": "Индия",
          "yref": "y"
         },
         {
          "font": {
           "color": "#FFFFFF"
          },
          "showarrow": false,
          "text": "1.13",
          "x": "5.8.2020",
          "xref": "x",
          "y": "Индия",
          "yref": "y"
         },
         {
          "font": {
           "color": "#FFFFFF"
          },
          "showarrow": false,
          "text": "1.126",
          "x": "6.8.2020",
          "xref": "x",
          "y": "Индия",
          "yref": "y"
         },
         {
          "font": {
           "color": "#FFFFFF"
          },
          "showarrow": false,
          "text": "1.124",
          "x": "7.8.2020",
          "xref": "x",
          "y": "Индия",
          "yref": "y"
         },
         {
          "font": {
           "color": "#FFFFFF"
          },
          "showarrow": false,
          "text": "1.125",
          "x": "8.8.2020",
          "xref": "x",
          "y": "Индия",
          "yref": "y"
         },
         {
          "font": {
           "color": "#FFFFFF"
          },
          "showarrow": false,
          "text": "1.126",
          "x": "9.8.2020",
          "xref": "x",
          "y": "Индия",
          "yref": "y"
         },
         {
          "font": {
           "color": "#FFFFFF"
          },
          "showarrow": false,
          "text": "1.125",
          "x": "10.8.2020",
          "xref": "x",
          "y": "Индия",
          "yref": "y"
         },
         {
          "font": {
           "color": "#FFFFFF"
          },
          "showarrow": false,
          "text": "1.122",
          "x": "11.8.2020",
          "xref": "x",
          "y": "Индия",
          "yref": "y"
         },
         {
          "font": {
           "color": "#FFFFFF"
          },
          "showarrow": false,
          "text": "1.119",
          "x": "12.8.2020",
          "xref": "x",
          "y": "Индия",
          "yref": "y"
         },
         {
          "font": {
           "color": "#FFFFFF"
          },
          "showarrow": false,
          "text": "1.115",
          "x": "13.8.2020",
          "xref": "x",
          "y": "Индия",
          "yref": "y"
         },
         {
          "font": {
           "color": "#FFFFFF"
          },
          "showarrow": false,
          "text": "1.113",
          "x": "14.8.2020",
          "xref": "x",
          "y": "Индия",
          "yref": "y"
         },
         {
          "font": {
           "color": "#FFFFFF"
          },
          "showarrow": false,
          "text": "1.112",
          "x": "15.8.2020",
          "xref": "x",
          "y": "Индия",
          "yref": "y"
         },
         {
          "font": {
           "color": "#FFFFFF"
          },
          "showarrow": false,
          "text": "1.11",
          "x": "16.8.2020",
          "xref": "x",
          "y": "Индия",
          "yref": "y"
         },
         {
          "font": {
           "color": "#FFFFFF"
          },
          "showarrow": false,
          "text": "1.107",
          "x": "17.8.2020",
          "xref": "x",
          "y": "Индия",
          "yref": "y"
         },
         {
          "font": {
           "color": "#FFFFFF"
          },
          "showarrow": false,
          "text": "1.102",
          "x": "18.8.2020",
          "xref": "x",
          "y": "Индия",
          "yref": "y"
         },
         {
          "font": {
           "color": "#FFFFFF"
          },
          "showarrow": false,
          "text": "1.098",
          "x": "19.8.2020",
          "xref": "x",
          "y": "Индия",
          "yref": "y"
         },
         {
          "font": {
           "color": "#FFFFFF"
          },
          "showarrow": false,
          "text": "1.097",
          "x": "20.8.2020",
          "xref": "x",
          "y": "Индия",
          "yref": "y"
         },
         {
          "font": {
           "color": "#FFFFFF"
          },
          "showarrow": false,
          "text": "1.097",
          "x": "21.8.2020",
          "xref": "x",
          "y": "Индия",
          "yref": "y"
         },
         {
          "font": {
           "color": "#FFFFFF"
          },
          "showarrow": false,
          "text": "1.099",
          "x": "22.8.2020",
          "xref": "x",
          "y": "Индия",
          "yref": "y"
         },
         {
          "font": {
           "color": "#FFFFFF"
          },
          "showarrow": false,
          "text": "1.098",
          "x": "23.8.2020",
          "xref": "x",
          "y": "Индия",
          "yref": "y"
         },
         {
          "font": {
           "color": "#FFFFFF"
          },
          "showarrow": false,
          "text": "1.096",
          "x": "24.8.2020",
          "xref": "x",
          "y": "Индия",
          "yref": "y"
         },
         {
          "font": {
           "color": "#FFFFFF"
          },
          "showarrow": false,
          "text": "1.027",
          "x": "26.7.2020",
          "xref": "x",
          "y": "Испания",
          "yref": "y"
         },
         {
          "font": {
           "color": "#FFFFFF"
          },
          "showarrow": false,
          "text": "1.026",
          "x": "27.7.2020",
          "xref": "x",
          "y": "Испания",
          "yref": "y"
         },
         {
          "font": {
           "color": "#FFFFFF"
          },
          "showarrow": false,
          "text": "1.026",
          "x": "28.7.2020",
          "xref": "x",
          "y": "Испания",
          "yref": "y"
         },
         {
          "font": {
           "color": "#FFFFFF"
          },
          "showarrow": false,
          "text": "1.029",
          "x": "29.7.2020",
          "xref": "x",
          "y": "Испания",
          "yref": "y"
         },
         {
          "font": {
           "color": "#FFFFFF"
          },
          "showarrow": false,
          "text": "1.037",
          "x": "30.7.2020",
          "xref": "x",
          "y": "Испания",
          "yref": "y"
         },
         {
          "font": {
           "color": "#FFFFFF"
          },
          "showarrow": false,
          "text": "1.038",
          "x": "31.7.2020",
          "xref": "x",
          "y": "Испания",
          "yref": "y"
         },
         {
          "font": {
           "color": "#FFFFFF"
          },
          "showarrow": false,
          "text": "1.037",
          "x": "1.8.2020",
          "xref": "x",
          "y": "Испания",
          "yref": "y"
         },
         {
          "font": {
           "color": "#FFFFFF"
          },
          "showarrow": false,
          "text": "1.033",
          "x": "2.8.2020",
          "xref": "x",
          "y": "Испания",
          "yref": "y"
         },
         {
          "font": {
           "color": "#FFFFFF"
          },
          "showarrow": false,
          "text": "1.031",
          "x": "3.8.2020",
          "xref": "x",
          "y": "Испания",
          "yref": "y"
         },
         {
          "font": {
           "color": "#FFFFFF"
          },
          "showarrow": false,
          "text": "1.035",
          "x": "4.8.2020",
          "xref": "x",
          "y": "Испания",
          "yref": "y"
         },
         {
          "font": {
           "color": "#FFFFFF"
          },
          "showarrow": false,
          "text": "1.043",
          "x": "5.8.2020",
          "xref": "x",
          "y": "Испания",
          "yref": "y"
         },
         {
          "font": {
           "color": "#FFFFFF"
          },
          "showarrow": false,
          "text": "1.056",
          "x": "6.8.2020",
          "xref": "x",
          "y": "Испания",
          "yref": "y"
         },
         {
          "font": {
           "color": "#FFFFFF"
          },
          "showarrow": false,
          "text": "1.06",
          "x": "7.8.2020",
          "xref": "x",
          "y": "Испания",
          "yref": "y"
         },
         {
          "font": {
           "color": "#FFFFFF"
          },
          "showarrow": false,
          "text": "1.057",
          "x": "8.8.2020",
          "xref": "x",
          "y": "Испания",
          "yref": "y"
         },
         {
          "font": {
           "color": "#FFFFFF"
          },
          "showarrow": false,
          "text": "1.049",
          "x": "9.8.2020",
          "xref": "x",
          "y": "Испания",
          "yref": "y"
         },
         {
          "font": {
           "color": "#FFFFFF"
          },
          "showarrow": false,
          "text": "1.042",
          "x": "10.8.2020",
          "xref": "x",
          "y": "Испания",
          "yref": "y"
         },
         {
          "font": {
           "color": "#FFFFFF"
          },
          "showarrow": false,
          "text": "1.037",
          "x": "11.8.2020",
          "xref": "x",
          "y": "Испания",
          "yref": "y"
         },
         {
          "font": {
           "color": "#FFFFFF"
          },
          "showarrow": false,
          "text": "1.04",
          "x": "12.8.2020",
          "xref": "x",
          "y": "Испания",
          "yref": "y"
         },
         {
          "font": {
           "color": "#FFFFFF"
          },
          "showarrow": false,
          "text": "1.051",
          "x": "13.8.2020",
          "xref": "x",
          "y": "Испания",
          "yref": "y"
         },
         {
          "font": {
           "color": "#FFFFFF"
          },
          "showarrow": false,
          "text": "1.056",
          "x": "14.8.2020",
          "xref": "x",
          "y": "Испания",
          "yref": "y"
         },
         {
          "font": {
           "color": "#FFFFFF"
          },
          "showarrow": false,
          "text": "1.058",
          "x": "15.8.2020",
          "xref": "x",
          "y": "Испания",
          "yref": "y"
         },
         {
          "font": {
           "color": "#FFFFFF"
          },
          "showarrow": false,
          "text": "1.056",
          "x": "16.8.2020",
          "xref": "x",
          "y": "Испания",
          "yref": "y"
         },
         {
          "font": {
           "color": "#FFFFFF"
          },
          "showarrow": false,
          "text": "1.054",
          "x": "17.8.2020",
          "xref": "x",
          "y": "Испания",
          "yref": "y"
         },
         {
          "font": {
           "color": "#FFFFFF"
          },
          "showarrow": false,
          "text": "1.054",
          "x": "18.8.2020",
          "xref": "x",
          "y": "Испания",
          "yref": "y"
         },
         {
          "font": {
           "color": "#FFFFFF"
          },
          "showarrow": false,
          "text": "1.062",
          "x": "19.8.2020",
          "xref": "x",
          "y": "Испания",
          "yref": "y"
         },
         {
          "font": {
           "color": "#FFFFFF"
          },
          "showarrow": false,
          "text": "1.078",
          "x": "20.8.2020",
          "xref": "x",
          "y": "Испания",
          "yref": "y"
         },
         {
          "font": {
           "color": "#FFFFFF"
          },
          "showarrow": false,
          "text": "1.08",
          "x": "21.8.2020",
          "xref": "x",
          "y": "Испания",
          "yref": "y"
         },
         {
          "font": {
           "color": "#FFFFFF"
          },
          "showarrow": false,
          "text": "1.079",
          "x": "22.8.2020",
          "xref": "x",
          "y": "Испания",
          "yref": "y"
         },
         {
          "font": {
           "color": "#FFFFFF"
          },
          "showarrow": false,
          "text": "1.069",
          "x": "23.8.2020",
          "xref": "x",
          "y": "Испания",
          "yref": "y"
         },
         {
          "font": {
           "color": "#FFFFFF"
          },
          "showarrow": false,
          "text": "1.062",
          "x": "24.8.2020",
          "xref": "x",
          "y": "Испания",
          "yref": "y"
         },
         {
          "font": {
           "color": "#FFFFFF"
          },
          "showarrow": false,
          "text": "1.07",
          "x": "26.7.2020",
          "xref": "x",
          "y": "США",
          "yref": "y"
         },
         {
          "font": {
           "color": "#FFFFFF"
          },
          "showarrow": false,
          "text": "1.068",
          "x": "27.7.2020",
          "xref": "x",
          "y": "США",
          "yref": "y"
         },
         {
          "font": {
           "color": "#FFFFFF"
          },
          "showarrow": false,
          "text": "1.065",
          "x": "28.7.2020",
          "xref": "x",
          "y": "США",
          "yref": "y"
         },
         {
          "font": {
           "color": "#FFFFFF"
          },
          "showarrow": false,
          "text": "1.062",
          "x": "29.7.2020",
          "xref": "x",
          "y": "США",
          "yref": "y"
         },
         {
          "font": {
           "color": "#FFFFFF"
          },
          "showarrow": false,
          "text": "1.061",
          "x": "30.7.2020",
          "xref": "x",
          "y": "США",
          "yref": "y"
         },
         {
          "font": {
           "color": "#FFFFFF"
          },
          "showarrow": false,
          "text": "1.061",
          "x": "31.7.2020",
          "xref": "x",
          "y": "США",
          "yref": "y"
         },
         {
          "font": {
           "color": "#FFFFFF"
          },
          "showarrow": false,
          "text": "1.061",
          "x": "1.8.2020",
          "xref": "x",
          "y": "США",
          "yref": "y"
         },
         {
          "font": {
           "color": "#FFFFFF"
          },
          "showarrow": false,
          "text": "1.06",
          "x": "2.8.2020",
          "xref": "x",
          "y": "США",
          "yref": "y"
         },
         {
          "font": {
           "color": "#FFFFFF"
          },
          "showarrow": false,
          "text": "1.057",
          "x": "3.8.2020",
          "xref": "x",
          "y": "США",
          "yref": "y"
         },
         {
          "font": {
           "color": "#FFFFFF"
          },
          "showarrow": false,
          "text": "1.052",
          "x": "4.8.2020",
          "xref": "x",
          "y": "США",
          "yref": "y"
         },
         {
          "font": {
           "color": "#FFFFFF"
          },
          "showarrow": false,
          "text": "1.048",
          "x": "5.8.2020",
          "xref": "x",
          "y": "США",
          "yref": "y"
         },
         {
          "font": {
           "color": "#FFFFFF"
          },
          "showarrow": false,
          "text": "1.046",
          "x": "6.8.2020",
          "xref": "x",
          "y": "США",
          "yref": "y"
         },
         {
          "font": {
           "color": "#FFFFFF"
          },
          "showarrow": false,
          "text": "1.046",
          "x": "7.8.2020",
          "xref": "x",
          "y": "США",
          "yref": "y"
         },
         {
          "font": {
           "color": "#FFFFFF"
          },
          "showarrow": false,
          "text": "1.047",
          "x": "8.8.2020",
          "xref": "x",
          "y": "США",
          "yref": "y"
         },
         {
          "font": {
           "color": "#FFFFFF"
          },
          "showarrow": false,
          "text": "1.047",
          "x": "9.8.2020",
          "xref": "x",
          "y": "США",
          "yref": "y"
         },
         {
          "font": {
           "color": "#FFFFFF"
          },
          "showarrow": false,
          "text": "1.046",
          "x": "10.8.2020",
          "xref": "x",
          "y": "США",
          "yref": "y"
         },
         {
          "font": {
           "color": "#FFFFFF"
          },
          "showarrow": false,
          "text": "1.044",
          "x": "11.8.2020",
          "xref": "x",
          "y": "США",
          "yref": "y"
         },
         {
          "font": {
           "color": "#FFFFFF"
          },
          "showarrow": false,
          "text": "1.042",
          "x": "12.8.2020",
          "xref": "x",
          "y": "США",
          "yref": "y"
         },
         {
          "font": {
           "color": "#FFFFFF"
          },
          "showarrow": false,
          "text": "1.041",
          "x": "13.8.2020",
          "xref": "x",
          "y": "США",
          "yref": "y"
         },
         {
          "font": {
           "color": "#FFFFFF"
          },
          "showarrow": false,
          "text": "1.041",
          "x": "14.8.2020",
          "xref": "x",
          "y": "США",
          "yref": "y"
         },
         {
          "font": {
           "color": "#FFFFFF"
          },
          "showarrow": false,
          "text": "1.042",
          "x": "15.8.2020",
          "xref": "x",
          "y": "США",
          "yref": "y"
         },
         {
          "font": {
           "color": "#FFFFFF"
          },
          "showarrow": false,
          "text": "1.041",
          "x": "16.8.2020",
          "xref": "x",
          "y": "США",
          "yref": "y"
         },
         {
          "font": {
           "color": "#FFFFFF"
          },
          "showarrow": false,
          "text": "1.04",
          "x": "17.8.2020",
          "xref": "x",
          "y": "США",
          "yref": "y"
         },
         {
          "font": {
           "color": "#FFFFFF"
          },
          "showarrow": false,
          "text": "1.038",
          "x": "18.8.2020",
          "xref": "x",
          "y": "США",
          "yref": "y"
         },
         {
          "font": {
           "color": "#FFFFFF"
          },
          "showarrow": false,
          "text": "1.035",
          "x": "19.8.2020",
          "xref": "x",
          "y": "США",
          "yref": "y"
         },
         {
          "font": {
           "color": "#FFFFFF"
          },
          "showarrow": false,
          "text": "1.033",
          "x": "20.8.2020",
          "xref": "x",
          "y": "США",
          "yref": "y"
         },
         {
          "font": {
           "color": "#FFFFFF"
          },
          "showarrow": false,
          "text": "1.032",
          "x": "21.8.2020",
          "xref": "x",
          "y": "США",
          "yref": "y"
         },
         {
          "font": {
           "color": "#FFFFFF"
          },
          "showarrow": false,
          "text": "1.033",
          "x": "22.8.2020",
          "xref": "x",
          "y": "США",
          "yref": "y"
         },
         {
          "font": {
           "color": "#FFFFFF"
          },
          "showarrow": false,
          "text": "1.033",
          "x": "23.8.2020",
          "xref": "x",
          "y": "США",
          "yref": "y"
         },
         {
          "font": {
           "color": "#FFFFFF"
          },
          "showarrow": false,
          "text": "1.032",
          "x": "24.8.2020",
          "xref": "x",
          "y": "США",
          "yref": "y"
         }
        ],
        "height": 600,
        "template": {
         "data": {
          "bar": [
           {
            "error_x": {
             "color": "#2a3f5f"
            },
            "error_y": {
             "color": "#2a3f5f"
            },
            "marker": {
             "line": {
              "color": "#E5ECF6",
              "width": 0.5
             }
            },
            "type": "bar"
           }
          ],
          "barpolar": [
           {
            "marker": {
             "line": {
              "color": "#E5ECF6",
              "width": 0.5
             }
            },
            "type": "barpolar"
           }
          ],
          "carpet": [
           {
            "aaxis": {
             "endlinecolor": "#2a3f5f",
             "gridcolor": "white",
             "linecolor": "white",
             "minorgridcolor": "white",
             "startlinecolor": "#2a3f5f"
            },
            "baxis": {
             "endlinecolor": "#2a3f5f",
             "gridcolor": "white",
             "linecolor": "white",
             "minorgridcolor": "white",
             "startlinecolor": "#2a3f5f"
            },
            "type": "carpet"
           }
          ],
          "choropleth": [
           {
            "colorbar": {
             "outlinewidth": 0,
             "ticks": ""
            },
            "type": "choropleth"
           }
          ],
          "contour": [
           {
            "colorbar": {
             "outlinewidth": 0,
             "ticks": ""
            },
            "colorscale": [
             [
              0,
              "#0d0887"
             ],
             [
              0.1111111111111111,
              "#46039f"
             ],
             [
              0.2222222222222222,
              "#7201a8"
             ],
             [
              0.3333333333333333,
              "#9c179e"
             ],
             [
              0.4444444444444444,
              "#bd3786"
             ],
             [
              0.5555555555555556,
              "#d8576b"
             ],
             [
              0.6666666666666666,
              "#ed7953"
             ],
             [
              0.7777777777777778,
              "#fb9f3a"
             ],
             [
              0.8888888888888888,
              "#fdca26"
             ],
             [
              1,
              "#f0f921"
             ]
            ],
            "type": "contour"
           }
          ],
          "contourcarpet": [
           {
            "colorbar": {
             "outlinewidth": 0,
             "ticks": ""
            },
            "type": "contourcarpet"
           }
          ],
          "heatmap": [
           {
            "colorbar": {
             "outlinewidth": 0,
             "ticks": ""
            },
            "colorscale": [
             [
              0,
              "#0d0887"
             ],
             [
              0.1111111111111111,
              "#46039f"
             ],
             [
              0.2222222222222222,
              "#7201a8"
             ],
             [
              0.3333333333333333,
              "#9c179e"
             ],
             [
              0.4444444444444444,
              "#bd3786"
             ],
             [
              0.5555555555555556,
              "#d8576b"
             ],
             [
              0.6666666666666666,
              "#ed7953"
             ],
             [
              0.7777777777777778,
              "#fb9f3a"
             ],
             [
              0.8888888888888888,
              "#fdca26"
             ],
             [
              1,
              "#f0f921"
             ]
            ],
            "type": "heatmap"
           }
          ],
          "heatmapgl": [
           {
            "colorbar": {
             "outlinewidth": 0,
             "ticks": ""
            },
            "colorscale": [
             [
              0,
              "#0d0887"
             ],
             [
              0.1111111111111111,
              "#46039f"
             ],
             [
              0.2222222222222222,
              "#7201a8"
             ],
             [
              0.3333333333333333,
              "#9c179e"
             ],
             [
              0.4444444444444444,
              "#bd3786"
             ],
             [
              0.5555555555555556,
              "#d8576b"
             ],
             [
              0.6666666666666666,
              "#ed7953"
             ],
             [
              0.7777777777777778,
              "#fb9f3a"
             ],
             [
              0.8888888888888888,
              "#fdca26"
             ],
             [
              1,
              "#f0f921"
             ]
            ],
            "type": "heatmapgl"
           }
          ],
          "histogram": [
           {
            "marker": {
             "colorbar": {
              "outlinewidth": 0,
              "ticks": ""
             }
            },
            "type": "histogram"
           }
          ],
          "histogram2d": [
           {
            "colorbar": {
             "outlinewidth": 0,
             "ticks": ""
            },
            "colorscale": [
             [
              0,
              "#0d0887"
             ],
             [
              0.1111111111111111,
              "#46039f"
             ],
             [
              0.2222222222222222,
              "#7201a8"
             ],
             [
              0.3333333333333333,
              "#9c179e"
             ],
             [
              0.4444444444444444,
              "#bd3786"
             ],
             [
              0.5555555555555556,
              "#d8576b"
             ],
             [
              0.6666666666666666,
              "#ed7953"
             ],
             [
              0.7777777777777778,
              "#fb9f3a"
             ],
             [
              0.8888888888888888,
              "#fdca26"
             ],
             [
              1,
              "#f0f921"
             ]
            ],
            "type": "histogram2d"
           }
          ],
          "histogram2dcontour": [
           {
            "colorbar": {
             "outlinewidth": 0,
             "ticks": ""
            },
            "colorscale": [
             [
              0,
              "#0d0887"
             ],
             [
              0.1111111111111111,
              "#46039f"
             ],
             [
              0.2222222222222222,
              "#7201a8"
             ],
             [
              0.3333333333333333,
              "#9c179e"
             ],
             [
              0.4444444444444444,
              "#bd3786"
             ],
             [
              0.5555555555555556,
              "#d8576b"
             ],
             [
              0.6666666666666666,
              "#ed7953"
             ],
             [
              0.7777777777777778,
              "#fb9f3a"
             ],
             [
              0.8888888888888888,
              "#fdca26"
             ],
             [
              1,
              "#f0f921"
             ]
            ],
            "type": "histogram2dcontour"
           }
          ],
          "mesh3d": [
           {
            "colorbar": {
             "outlinewidth": 0,
             "ticks": ""
            },
            "type": "mesh3d"
           }
          ],
          "parcoords": [
           {
            "line": {
             "colorbar": {
              "outlinewidth": 0,
              "ticks": ""
             }
            },
            "type": "parcoords"
           }
          ],
          "pie": [
           {
            "automargin": true,
            "type": "pie"
           }
          ],
          "scatter": [
           {
            "marker": {
             "colorbar": {
              "outlinewidth": 0,
              "ticks": ""
             }
            },
            "type": "scatter"
           }
          ],
          "scatter3d": [
           {
            "line": {
             "colorbar": {
              "outlinewidth": 0,
              "ticks": ""
             }
            },
            "marker": {
             "colorbar": {
              "outlinewidth": 0,
              "ticks": ""
             }
            },
            "type": "scatter3d"
           }
          ],
          "scattercarpet": [
           {
            "marker": {
             "colorbar": {
              "outlinewidth": 0,
              "ticks": ""
             }
            },
            "type": "scattercarpet"
           }
          ],
          "scattergeo": [
           {
            "marker": {
             "colorbar": {
              "outlinewidth": 0,
              "ticks": ""
             }
            },
            "type": "scattergeo"
           }
          ],
          "scattergl": [
           {
            "marker": {
             "colorbar": {
              "outlinewidth": 0,
              "ticks": ""
             }
            },
            "type": "scattergl"
           }
          ],
          "scattermapbox": [
           {
            "marker": {
             "colorbar": {
              "outlinewidth": 0,
              "ticks": ""
             }
            },
            "type": "scattermapbox"
           }
          ],
          "scatterpolar": [
           {
            "marker": {
             "colorbar": {
              "outlinewidth": 0,
              "ticks": ""
             }
            },
            "type": "scatterpolar"
           }
          ],
          "scatterpolargl": [
           {
            "marker": {
             "colorbar": {
              "outlinewidth": 0,
              "ticks": ""
             }
            },
            "type": "scatterpolargl"
           }
          ],
          "scatterternary": [
           {
            "marker": {
             "colorbar": {
              "outlinewidth": 0,
              "ticks": ""
             }
            },
            "type": "scatterternary"
           }
          ],
          "surface": [
           {
            "colorbar": {
             "outlinewidth": 0,
             "ticks": ""
            },
            "colorscale": [
             [
              0,
              "#0d0887"
             ],
             [
              0.1111111111111111,
              "#46039f"
             ],
             [
              0.2222222222222222,
              "#7201a8"
             ],
             [
              0.3333333333333333,
              "#9c179e"
             ],
             [
              0.4444444444444444,
              "#bd3786"
             ],
             [
              0.5555555555555556,
              "#d8576b"
             ],
             [
              0.6666666666666666,
              "#ed7953"
             ],
             [
              0.7777777777777778,
              "#fb9f3a"
             ],
             [
              0.8888888888888888,
              "#fdca26"
             ],
             [
              1,
              "#f0f921"
             ]
            ],
            "type": "surface"
           }
          ],
          "table": [
           {
            "cells": {
             "fill": {
              "color": "#EBF0F8"
             },
             "line": {
              "color": "white"
             }
            },
            "header": {
             "fill": {
              "color": "#C8D4E3"
             },
             "line": {
              "color": "white"
             }
            },
            "type": "table"
           }
          ]
         },
         "layout": {
          "annotationdefaults": {
           "arrowcolor": "#2a3f5f",
           "arrowhead": 0,
           "arrowwidth": 1
          },
          "coloraxis": {
           "colorbar": {
            "outlinewidth": 0,
            "ticks": ""
           }
          },
          "colorscale": {
           "diverging": [
            [
             0,
             "#8e0152"
            ],
            [
             0.1,
             "#c51b7d"
            ],
            [
             0.2,
             "#de77ae"
            ],
            [
             0.3,
             "#f1b6da"
            ],
            [
             0.4,
             "#fde0ef"
            ],
            [
             0.5,
             "#f7f7f7"
            ],
            [
             0.6,
             "#e6f5d0"
            ],
            [
             0.7,
             "#b8e186"
            ],
            [
             0.8,
             "#7fbc41"
            ],
            [
             0.9,
             "#4d9221"
            ],
            [
             1,
             "#276419"
            ]
           ],
           "sequential": [
            [
             0,
             "#0d0887"
            ],
            [
             0.1111111111111111,
             "#46039f"
            ],
            [
             0.2222222222222222,
             "#7201a8"
            ],
            [
             0.3333333333333333,
             "#9c179e"
            ],
            [
             0.4444444444444444,
             "#bd3786"
            ],
            [
             0.5555555555555556,
             "#d8576b"
            ],
            [
             0.6666666666666666,
             "#ed7953"
            ],
            [
             0.7777777777777778,
             "#fb9f3a"
            ],
            [
             0.8888888888888888,
             "#fdca26"
            ],
            [
             1,
             "#f0f921"
            ]
           ],
           "sequentialminus": [
            [
             0,
             "#0d0887"
            ],
            [
             0.1111111111111111,
             "#46039f"
            ],
            [
             0.2222222222222222,
             "#7201a8"
            ],
            [
             0.3333333333333333,
             "#9c179e"
            ],
            [
             0.4444444444444444,
             "#bd3786"
            ],
            [
             0.5555555555555556,
             "#d8576b"
            ],
            [
             0.6666666666666666,
             "#ed7953"
            ],
            [
             0.7777777777777778,
             "#fb9f3a"
            ],
            [
             0.8888888888888888,
             "#fdca26"
            ],
            [
             1,
             "#f0f921"
            ]
           ]
          },
          "colorway": [
           "#636efa",
           "#EF553B",
           "#00cc96",
           "#ab63fa",
           "#FFA15A",
           "#19d3f3",
           "#FF6692",
           "#B6E880",
           "#FF97FF",
           "#FECB52"
          ],
          "font": {
           "color": "#2a3f5f"
          },
          "geo": {
           "bgcolor": "white",
           "lakecolor": "white",
           "landcolor": "#E5ECF6",
           "showlakes": true,
           "showland": true,
           "subunitcolor": "white"
          },
          "hoverlabel": {
           "align": "left"
          },
          "hovermode": "closest",
          "mapbox": {
           "style": "light"
          },
          "paper_bgcolor": "white",
          "plot_bgcolor": "#E5ECF6",
          "polar": {
           "angularaxis": {
            "gridcolor": "white",
            "linecolor": "white",
            "ticks": ""
           },
           "bgcolor": "#E5ECF6",
           "radialaxis": {
            "gridcolor": "white",
            "linecolor": "white",
            "ticks": ""
           }
          },
          "scene": {
           "xaxis": {
            "backgroundcolor": "#E5ECF6",
            "gridcolor": "white",
            "gridwidth": 2,
            "linecolor": "white",
            "showbackground": true,
            "ticks": "",
            "zerolinecolor": "white"
           },
           "yaxis": {
            "backgroundcolor": "#E5ECF6",
            "gridcolor": "white",
            "gridwidth": 2,
            "linecolor": "white",
            "showbackground": true,
            "ticks": "",
            "zerolinecolor": "white"
           },
           "zaxis": {
            "backgroundcolor": "#E5ECF6",
            "gridcolor": "white",
            "gridwidth": 2,
            "linecolor": "white",
            "showbackground": true,
            "ticks": "",
            "zerolinecolor": "white"
           }
          },
          "shapedefaults": {
           "line": {
            "color": "#2a3f5f"
           }
          },
          "ternary": {
           "aaxis": {
            "gridcolor": "white",
            "linecolor": "white",
            "ticks": ""
           },
           "baxis": {
            "gridcolor": "white",
            "linecolor": "white",
            "ticks": ""
           },
           "bgcolor": "#E5ECF6",
           "caxis": {
            "gridcolor": "white",
            "linecolor": "white",
            "ticks": ""
           }
          },
          "title": {
           "x": 0.05
          },
          "xaxis": {
           "automargin": true,
           "gridcolor": "white",
           "linecolor": "white",
           "ticks": "",
           "title": {
            "standoff": 15
           },
           "zerolinecolor": "white",
           "zerolinewidth": 2
          },
          "yaxis": {
           "automargin": true,
           "gridcolor": "white",
           "linecolor": "white",
           "ticks": "",
           "title": {
            "standoff": 15
           },
           "zerolinecolor": "white",
           "zerolinewidth": 2
          }
         }
        },
        "width": 990,
        "xaxis": {
         "dtick": 1,
         "gridcolor": "rgb(0, 0, 0)",
         "side": "top",
         "ticks": "",
         "title": {
          "text": "Динамика коэффициента распространения Rt2 по странам"
         }
        },
        "yaxis": {
         "dtick": 1,
         "ticks": "",
         "ticksuffix": "  "
        }
       }
      }
     },
     "metadata": {}
    }
   ],
   "source": [
    "fig = ff.create_annotated_heatmap(d, x=x2, y=y, annotation_text=d,\n",
    "                                  colorscale='Temps')\n",
    "\n",
    "fig.update_layout(\n",
    "                  \n",
    "                  \n",
    "                  width = 990, height = 600,    \n",
    "    \n",
    "                  xaxis_title='Динамика коэффициента распространения Rt2 по странам',\n",
    "               #   yaxis_title = 'Регион '\n",
    ")\n",
    "\n",
    "fig.show()\n"
   ]
  },
  {
   "cell_type": "code",
   "execution_count": 24,
   "metadata": {},
   "outputs": [
    {
     "output_type": "execute_result",
     "data": {
      "text/plain": "Date         Country  2020-07-26  2020-07-27  2020-07-28  2020-07-29  \\\n0           Бразилия       24578       23284       40816       69074   \n1     Великобритания         750         688         553         802   \n2              Индия       49981       44457       51596       50294   \n3            Испания           0        6361        1828        2031   \n4                США       54953       56414       65869       70776   \n\nDate  2020-07-30  2020-07-31  2020-08-01  2020-08-02  2020-08-03  ...  \\\n0          57837       52383       45392       25800       16641  ...   \n1            847         883         769         747         942  ...   \n2          52783       61242       54735       52972       52050  ...   \n3           2789        3092           0           0        8532  ...   \n4          68033       67092       58485       47580       45368  ...   \n\nDate  2020-08-15  2020-08-16  2020-08-17  2020-08-18  2020-08-19  2020-08-20  \\\n0          41576       23101       19373       47784       49298       45323   \n1           1042        1111         721        1113         831        1195   \n2          64030       57711       55018       64572       69672       68900   \n3              0           0       16269        5114        6671        7039   \n4          47913       42048       35112       44091       47408       44023   \n\nDate  2020-08-21  2020-08-22  2020-08-23  2020-08-24  \n0          30355       50032       23421       17078  \n1           1060        1332        1048         977  \n2          69876       69239       61408       60975  \n3           8148           0           0       19382  \n4          48693       44572       34567       38045  \n\n[5 rows x 31 columns]",
      "text/html": "<div>\n<style scoped>\n    .dataframe tbody tr th:only-of-type {\n        vertical-align: middle;\n    }\n\n    .dataframe tbody tr th {\n        vertical-align: top;\n    }\n\n    .dataframe thead th {\n        text-align: right;\n    }\n</style>\n<table border=\"1\" class=\"dataframe\">\n  <thead>\n    <tr style=\"text-align: right;\">\n      <th>Date</th>\n      <th>Country</th>\n      <th>2020-07-26</th>\n      <th>2020-07-27</th>\n      <th>2020-07-28</th>\n      <th>2020-07-29</th>\n      <th>2020-07-30</th>\n      <th>2020-07-31</th>\n      <th>2020-08-01</th>\n      <th>2020-08-02</th>\n      <th>2020-08-03</th>\n      <th>...</th>\n      <th>2020-08-15</th>\n      <th>2020-08-16</th>\n      <th>2020-08-17</th>\n      <th>2020-08-18</th>\n      <th>2020-08-19</th>\n      <th>2020-08-20</th>\n      <th>2020-08-21</th>\n      <th>2020-08-22</th>\n      <th>2020-08-23</th>\n      <th>2020-08-24</th>\n    </tr>\n  </thead>\n  <tbody>\n    <tr>\n      <th>0</th>\n      <td>Бразилия</td>\n      <td>24578</td>\n      <td>23284</td>\n      <td>40816</td>\n      <td>69074</td>\n      <td>57837</td>\n      <td>52383</td>\n      <td>45392</td>\n      <td>25800</td>\n      <td>16641</td>\n      <td>...</td>\n      <td>41576</td>\n      <td>23101</td>\n      <td>19373</td>\n      <td>47784</td>\n      <td>49298</td>\n      <td>45323</td>\n      <td>30355</td>\n      <td>50032</td>\n      <td>23421</td>\n      <td>17078</td>\n    </tr>\n    <tr>\n      <th>1</th>\n      <td>Великобритания</td>\n      <td>750</td>\n      <td>688</td>\n      <td>553</td>\n      <td>802</td>\n      <td>847</td>\n      <td>883</td>\n      <td>769</td>\n      <td>747</td>\n      <td>942</td>\n      <td>...</td>\n      <td>1042</td>\n      <td>1111</td>\n      <td>721</td>\n      <td>1113</td>\n      <td>831</td>\n      <td>1195</td>\n      <td>1060</td>\n      <td>1332</td>\n      <td>1048</td>\n      <td>977</td>\n    </tr>\n    <tr>\n      <th>2</th>\n      <td>Индия</td>\n      <td>49981</td>\n      <td>44457</td>\n      <td>51596</td>\n      <td>50294</td>\n      <td>52783</td>\n      <td>61242</td>\n      <td>54735</td>\n      <td>52972</td>\n      <td>52050</td>\n      <td>...</td>\n      <td>64030</td>\n      <td>57711</td>\n      <td>55018</td>\n      <td>64572</td>\n      <td>69672</td>\n      <td>68900</td>\n      <td>69876</td>\n      <td>69239</td>\n      <td>61408</td>\n      <td>60975</td>\n    </tr>\n    <tr>\n      <th>3</th>\n      <td>Испания</td>\n      <td>0</td>\n      <td>6361</td>\n      <td>1828</td>\n      <td>2031</td>\n      <td>2789</td>\n      <td>3092</td>\n      <td>0</td>\n      <td>0</td>\n      <td>8532</td>\n      <td>...</td>\n      <td>0</td>\n      <td>0</td>\n      <td>16269</td>\n      <td>5114</td>\n      <td>6671</td>\n      <td>7039</td>\n      <td>8148</td>\n      <td>0</td>\n      <td>0</td>\n      <td>19382</td>\n    </tr>\n    <tr>\n      <th>4</th>\n      <td>США</td>\n      <td>54953</td>\n      <td>56414</td>\n      <td>65869</td>\n      <td>70776</td>\n      <td>68033</td>\n      <td>67092</td>\n      <td>58485</td>\n      <td>47580</td>\n      <td>45368</td>\n      <td>...</td>\n      <td>47913</td>\n      <td>42048</td>\n      <td>35112</td>\n      <td>44091</td>\n      <td>47408</td>\n      <td>44023</td>\n      <td>48693</td>\n      <td>44572</td>\n      <td>34567</td>\n      <td>38045</td>\n    </tr>\n  </tbody>\n</table>\n<p>5 rows × 31 columns</p>\n</div>"
     },
     "metadata": {},
     "execution_count": 24
    }
   ],
   "source": [
    "mask = (X.Date>=datetime.date(2020,7,26))&(X.Country.isin(country_towatch))\n",
    "\n",
    "Z = X[mask].groupby(['Country','Date'])['Day_confirmed'].sum().unstack().reset_index()\n",
    "Z.dropna(inplace=True)\n",
    "d = Z.drop('Country',axis = 1).values\n",
    "Z.head()"
   ]
  },
  {
   "cell_type": "code",
   "execution_count": 25,
   "metadata": {
    "tags": []
   },
   "outputs": [
    {
     "output_type": "stream",
     "name": "stdout",
     "text": "['26.7.2020', '27.7.2020', '28.7.2020', '29.7.2020', '30.7.2020', '31.7.2020', '1.8.2020', '2.8.2020', '3.8.2020', '4.8.2020', '5.8.2020', '6.8.2020', '7.8.2020', '8.8.2020', '9.8.2020', '10.8.2020', '11.8.2020', '12.8.2020', '13.8.2020', '14.8.2020', '15.8.2020', '16.8.2020', '17.8.2020', '18.8.2020', '19.8.2020', '20.8.2020', '21.8.2020', '22.8.2020', '23.8.2020', '24.8.2020']\n"
    }
   ],
   "source": [
    "\n",
    "\n",
    "\n",
    "x1=list(Z.columns[1:])\n",
    "y=list(Z.Country)\n",
    "x2=[]\n",
    "for i in x1:\n",
    "    x2.append(str(i.day)+'.'+str(i.month)+\".\"+str(i.year))\n",
    "    \n",
    "print(x2)\n"
   ]
  },
  {
   "cell_type": "code",
   "execution_count": 26,
   "metadata": {},
   "outputs": [
    {
     "output_type": "display_data",
     "data": {
      "application/vnd.plotly.v1+json": {
       "config": {
        "plotlyServerURL": "https://plot.ly"
       },
       "data": [
        {
         "colorscale": [
          [
           0,
           "rgb(0, 147, 146)"
          ],
          [
           0.16666666666666666,
           "rgb(57, 177, 133)"
          ],
          [
           0.3333333333333333,
           "rgb(156, 203, 134)"
          ],
          [
           0.5,
           "rgb(233, 226, 156)"
          ],
          [
           0.6666666666666666,
           "rgb(238, 180, 121)"
          ],
          [
           0.8333333333333334,
           "rgb(232, 132, 113)"
          ],
          [
           1,
           "rgb(207, 89, 126)"
          ]
         ],
         "reversescale": false,
         "showscale": false,
         "type": "heatmap",
         "x": [
          "26.7.2020",
          "27.7.2020",
          "28.7.2020",
          "29.7.2020",
          "30.7.2020",
          "31.7.2020",
          "1.8.2020",
          "2.8.2020",
          "3.8.2020",
          "4.8.2020",
          "5.8.2020",
          "6.8.2020",
          "7.8.2020",
          "8.8.2020",
          "9.8.2020",
          "10.8.2020",
          "11.8.2020",
          "12.8.2020",
          "13.8.2020",
          "14.8.2020",
          "15.8.2020",
          "16.8.2020",
          "17.8.2020",
          "18.8.2020",
          "19.8.2020",
          "20.8.2020",
          "21.8.2020",
          "22.8.2020",
          "23.8.2020",
          "24.8.2020"
         ],
         "y": [
          "Бразилия",
          "Великобритания",
          "Индия",
          "Испания",
          "США"
         ],
         "z": [
          [
           24578,
           23284,
           40816,
           69074,
           57837,
           52383,
           45392,
           25800,
           16641,
           51603,
           57152,
           53139,
           50230,
           49970,
           23010,
           22048,
           52160,
           55155,
           60091,
           50644,
           41576,
           23101,
           19373,
           47784,
           49298,
           45323,
           30355,
           50032,
           23421,
           17078
          ],
          [
           750,
           688,
           553,
           802,
           847,
           883,
           769,
           747,
           942,
           675,
           906,
           964,
           900,
           765,
           1113,
           818,
           1150,
           1039,
           1148,
           1461,
           1042,
           1111,
           721,
           1113,
           831,
           1195,
           1060,
           1332,
           1048,
           977
          ],
          [
           49981,
           44457,
           51596,
           50294,
           52783,
           61242,
           54735,
           52972,
           52050,
           52509,
           56282,
           62538,
           61537,
           64399,
           62064,
           53601,
           60963,
           66999,
           64553,
           64732,
           64030,
           57711,
           55018,
           64572,
           69672,
           68900,
           69876,
           69239,
           61408,
           60975
          ],
          [
           0,
           6361,
           1828,
           2031,
           2789,
           3092,
           0,
           0,
           8532,
           5760,
           2953,
           4088,
           4507,
           0,
           0,
           8618,
           3632,
           3172,
           7550,
           5479,
           0,
           0,
           16269,
           5114,
           6671,
           7039,
           8148,
           0,
           0,
           19382
          ],
          [
           54953,
           56414,
           65869,
           70776,
           68033,
           67092,
           58485,
           47580,
           45368,
           57540,
           52810,
           59692,
           58173,
           56174,
           46935,
           49536,
           46808,
           56203,
           51547,
           64294,
           47913,
           42048,
           35112,
           44091,
           47408,
           44023,
           48693,
           44572,
           34567,
           38045
          ]
         ]
        }
       ],
       "layout": {
        "annotations": [
         {
          "font": {
           "color": "#FFFFFF"
          },
          "showarrow": false,
          "text": "24578",
          "x": "26.7.2020",
          "xref": "x",
          "y": "Бразилия",
          "yref": "y"
         },
         {
          "font": {
           "color": "#FFFFFF"
          },
          "showarrow": false,
          "text": "23284",
          "x": "27.7.2020",
          "xref": "x",
          "y": "Бразилия",
          "yref": "y"
         },
         {
          "font": {
           "color": "#FFFFFF"
          },
          "showarrow": false,
          "text": "40816",
          "x": "28.7.2020",
          "xref": "x",
          "y": "Бразилия",
          "yref": "y"
         },
         {
          "font": {
           "color": "#FFFFFF"
          },
          "showarrow": false,
          "text": "69074",
          "x": "29.7.2020",
          "xref": "x",
          "y": "Бразилия",
          "yref": "y"
         },
         {
          "font": {
           "color": "#FFFFFF"
          },
          "showarrow": false,
          "text": "57837",
          "x": "30.7.2020",
          "xref": "x",
          "y": "Бразилия",
          "yref": "y"
         },
         {
          "font": {
           "color": "#FFFFFF"
          },
          "showarrow": false,
          "text": "52383",
          "x": "31.7.2020",
          "xref": "x",
          "y": "Бразилия",
          "yref": "y"
         },
         {
          "font": {
           "color": "#FFFFFF"
          },
          "showarrow": false,
          "text": "45392",
          "x": "1.8.2020",
          "xref": "x",
          "y": "Бразилия",
          "yref": "y"
         },
         {
          "font": {
           "color": "#FFFFFF"
          },
          "showarrow": false,
          "text": "25800",
          "x": "2.8.2020",
          "xref": "x",
          "y": "Бразилия",
          "yref": "y"
         },
         {
          "font": {
           "color": "#FFFFFF"
          },
          "showarrow": false,
          "text": "16641",
          "x": "3.8.2020",
          "xref": "x",
          "y": "Бразилия",
          "yref": "y"
         },
         {
          "font": {
           "color": "#FFFFFF"
          },
          "showarrow": false,
          "text": "51603",
          "x": "4.8.2020",
          "xref": "x",
          "y": "Бразилия",
          "yref": "y"
         },
         {
          "font": {
           "color": "#FFFFFF"
          },
          "showarrow": false,
          "text": "57152",
          "x": "5.8.2020",
          "xref": "x",
          "y": "Бразилия",
          "yref": "y"
         },
         {
          "font": {
           "color": "#FFFFFF"
          },
          "showarrow": false,
          "text": "53139",
          "x": "6.8.2020",
          "xref": "x",
          "y": "Бразилия",
          "yref": "y"
         },
         {
          "font": {
           "color": "#FFFFFF"
          },
          "showarrow": false,
          "text": "50230",
          "x": "7.8.2020",
          "xref": "x",
          "y": "Бразилия",
          "yref": "y"
         },
         {
          "font": {
           "color": "#FFFFFF"
          },
          "showarrow": false,
          "text": "49970",
          "x": "8.8.2020",
          "xref": "x",
          "y": "Бразилия",
          "yref": "y"
         },
         {
          "font": {
           "color": "#FFFFFF"
          },
          "showarrow": false,
          "text": "23010",
          "x": "9.8.2020",
          "xref": "x",
          "y": "Бразилия",
          "yref": "y"
         },
         {
          "font": {
           "color": "#FFFFFF"
          },
          "showarrow": false,
          "text": "22048",
          "x": "10.8.2020",
          "xref": "x",
          "y": "Бразилия",
          "yref": "y"
         },
         {
          "font": {
           "color": "#FFFFFF"
          },
          "showarrow": false,
          "text": "52160",
          "x": "11.8.2020",
          "xref": "x",
          "y": "Бразилия",
          "yref": "y"
         },
         {
          "font": {
           "color": "#FFFFFF"
          },
          "showarrow": false,
          "text": "55155",
          "x": "12.8.2020",
          "xref": "x",
          "y": "Бразилия",
          "yref": "y"
         },
         {
          "font": {
           "color": "#FFFFFF"
          },
          "showarrow": false,
          "text": "60091",
          "x": "13.8.2020",
          "xref": "x",
          "y": "Бразилия",
          "yref": "y"
         },
         {
          "font": {
           "color": "#FFFFFF"
          },
          "showarrow": false,
          "text": "50644",
          "x": "14.8.2020",
          "xref": "x",
          "y": "Бразилия",
          "yref": "y"
         },
         {
          "font": {
           "color": "#FFFFFF"
          },
          "showarrow": false,
          "text": "41576",
          "x": "15.8.2020",
          "xref": "x",
          "y": "Бразилия",
          "yref": "y"
         },
         {
          "font": {
           "color": "#FFFFFF"
          },
          "showarrow": false,
          "text": "23101",
          "x": "16.8.2020",
          "xref": "x",
          "y": "Бразилия",
          "yref": "y"
         },
         {
          "font": {
           "color": "#FFFFFF"
          },
          "showarrow": false,
          "text": "19373",
          "x": "17.8.2020",
          "xref": "x",
          "y": "Бразилия",
          "yref": "y"
         },
         {
          "font": {
           "color": "#FFFFFF"
          },
          "showarrow": false,
          "text": "47784",
          "x": "18.8.2020",
          "xref": "x",
          "y": "Бразилия",
          "yref": "y"
         },
         {
          "font": {
           "color": "#FFFFFF"
          },
          "showarrow": false,
          "text": "49298",
          "x": "19.8.2020",
          "xref": "x",
          "y": "Бразилия",
          "yref": "y"
         },
         {
          "font": {
           "color": "#FFFFFF"
          },
          "showarrow": false,
          "text": "45323",
          "x": "20.8.2020",
          "xref": "x",
          "y": "Бразилия",
          "yref": "y"
         },
         {
          "font": {
           "color": "#FFFFFF"
          },
          "showarrow": false,
          "text": "30355",
          "x": "21.8.2020",
          "xref": "x",
          "y": "Бразилия",
          "yref": "y"
         },
         {
          "font": {
           "color": "#FFFFFF"
          },
          "showarrow": false,
          "text": "50032",
          "x": "22.8.2020",
          "xref": "x",
          "y": "Бразилия",
          "yref": "y"
         },
         {
          "font": {
           "color": "#FFFFFF"
          },
          "showarrow": false,
          "text": "23421",
          "x": "23.8.2020",
          "xref": "x",
          "y": "Бразилия",
          "yref": "y"
         },
         {
          "font": {
           "color": "#FFFFFF"
          },
          "showarrow": false,
          "text": "17078",
          "x": "24.8.2020",
          "xref": "x",
          "y": "Бразилия",
          "yref": "y"
         },
         {
          "font": {
           "color": "#FFFFFF"
          },
          "showarrow": false,
          "text": "750",
          "x": "26.7.2020",
          "xref": "x",
          "y": "Великобритания",
          "yref": "y"
         },
         {
          "font": {
           "color": "#FFFFFF"
          },
          "showarrow": false,
          "text": "688",
          "x": "27.7.2020",
          "xref": "x",
          "y": "Великобритания",
          "yref": "y"
         },
         {
          "font": {
           "color": "#FFFFFF"
          },
          "showarrow": false,
          "text": "553",
          "x": "28.7.2020",
          "xref": "x",
          "y": "Великобритания",
          "yref": "y"
         },
         {
          "font": {
           "color": "#FFFFFF"
          },
          "showarrow": false,
          "text": "802",
          "x": "29.7.2020",
          "xref": "x",
          "y": "Великобритания",
          "yref": "y"
         },
         {
          "font": {
           "color": "#FFFFFF"
          },
          "showarrow": false,
          "text": "847",
          "x": "30.7.2020",
          "xref": "x",
          "y": "Великобритания",
          "yref": "y"
         },
         {
          "font": {
           "color": "#FFFFFF"
          },
          "showarrow": false,
          "text": "883",
          "x": "31.7.2020",
          "xref": "x",
          "y": "Великобритания",
          "yref": "y"
         },
         {
          "font": {
           "color": "#FFFFFF"
          },
          "showarrow": false,
          "text": "769",
          "x": "1.8.2020",
          "xref": "x",
          "y": "Великобритания",
          "yref": "y"
         },
         {
          "font": {
           "color": "#FFFFFF"
          },
          "showarrow": false,
          "text": "747",
          "x": "2.8.2020",
          "xref": "x",
          "y": "Великобритания",
          "yref": "y"
         },
         {
          "font": {
           "color": "#FFFFFF"
          },
          "showarrow": false,
          "text": "942",
          "x": "3.8.2020",
          "xref": "x",
          "y": "Великобритания",
          "yref": "y"
         },
         {
          "font": {
           "color": "#FFFFFF"
          },
          "showarrow": false,
          "text": "675",
          "x": "4.8.2020",
          "xref": "x",
          "y": "Великобритания",
          "yref": "y"
         },
         {
          "font": {
           "color": "#FFFFFF"
          },
          "showarrow": false,
          "text": "906",
          "x": "5.8.2020",
          "xref": "x",
          "y": "Великобритания",
          "yref": "y"
         },
         {
          "font": {
           "color": "#FFFFFF"
          },
          "showarrow": false,
          "text": "964",
          "x": "6.8.2020",
          "xref": "x",
          "y": "Великобритания",
          "yref": "y"
         },
         {
          "font": {
           "color": "#FFFFFF"
          },
          "showarrow": false,
          "text": "900",
          "x": "7.8.2020",
          "xref": "x",
          "y": "Великобритания",
          "yref": "y"
         },
         {
          "font": {
           "color": "#FFFFFF"
          },
          "showarrow": false,
          "text": "765",
          "x": "8.8.2020",
          "xref": "x",
          "y": "Великобритания",
          "yref": "y"
         },
         {
          "font": {
           "color": "#FFFFFF"
          },
          "showarrow": false,
          "text": "1113",
          "x": "9.8.2020",
          "xref": "x",
          "y": "Великобритания",
          "yref": "y"
         },
         {
          "font": {
           "color": "#FFFFFF"
          },
          "showarrow": false,
          "text": "818",
          "x": "10.8.2020",
          "xref": "x",
          "y": "Великобритания",
          "yref": "y"
         },
         {
          "font": {
           "color": "#FFFFFF"
          },
          "showarrow": false,
          "text": "1150",
          "x": "11.8.2020",
          "xref": "x",
          "y": "Великобритания",
          "yref": "y"
         },
         {
          "font": {
           "color": "#FFFFFF"
          },
          "showarrow": false,
          "text": "1039",
          "x": "12.8.2020",
          "xref": "x",
          "y": "Великобритания",
          "yref": "y"
         },
         {
          "font": {
           "color": "#FFFFFF"
          },
          "showarrow": false,
          "text": "1148",
          "x": "13.8.2020",
          "xref": "x",
          "y": "Великобритания",
          "yref": "y"
         },
         {
          "font": {
           "color": "#FFFFFF"
          },
          "showarrow": false,
          "text": "1461",
          "x": "14.8.2020",
          "xref": "x",
          "y": "Великобритания",
          "yref": "y"
         },
         {
          "font": {
           "color": "#FFFFFF"
          },
          "showarrow": false,
          "text": "1042",
          "x": "15.8.2020",
          "xref": "x",
          "y": "Великобритания",
          "yref": "y"
         },
         {
          "font": {
           "color": "#FFFFFF"
          },
          "showarrow": false,
          "text": "1111",
          "x": "16.8.2020",
          "xref": "x",
          "y": "Великобритания",
          "yref": "y"
         },
         {
          "font": {
           "color": "#FFFFFF"
          },
          "showarrow": false,
          "text": "721",
          "x": "17.8.2020",
          "xref": "x",
          "y": "Великобритания",
          "yref": "y"
         },
         {
          "font": {
           "color": "#FFFFFF"
          },
          "showarrow": false,
          "text": "1113",
          "x": "18.8.2020",
          "xref": "x",
          "y": "Великобритания",
          "yref": "y"
         },
         {
          "font": {
           "color": "#FFFFFF"
          },
          "showarrow": false,
          "text": "831",
          "x": "19.8.2020",
          "xref": "x",
          "y": "Великобритания",
          "yref": "y"
         },
         {
          "font": {
           "color": "#FFFFFF"
          },
          "showarrow": false,
          "text": "1195",
          "x": "20.8.2020",
          "xref": "x",
          "y": "Великобритания",
          "yref": "y"
         },
         {
          "font": {
           "color": "#FFFFFF"
          },
          "showarrow": false,
          "text": "1060",
          "x": "21.8.2020",
          "xref": "x",
          "y": "Великобритания",
          "yref": "y"
         },
         {
          "font": {
           "color": "#FFFFFF"
          },
          "showarrow": false,
          "text": "1332",
          "x": "22.8.2020",
          "xref": "x",
          "y": "Великобритания",
          "yref": "y"
         },
         {
          "font": {
           "color": "#FFFFFF"
          },
          "showarrow": false,
          "text": "1048",
          "x": "23.8.2020",
          "xref": "x",
          "y": "Великобритания",
          "yref": "y"
         },
         {
          "font": {
           "color": "#FFFFFF"
          },
          "showarrow": false,
          "text": "977",
          "x": "24.8.2020",
          "xref": "x",
          "y": "Великобритания",
          "yref": "y"
         },
         {
          "font": {
           "color": "#FFFFFF"
          },
          "showarrow": false,
          "text": "49981",
          "x": "26.7.2020",
          "xref": "x",
          "y": "Индия",
          "yref": "y"
         },
         {
          "font": {
           "color": "#FFFFFF"
          },
          "showarrow": false,
          "text": "44457",
          "x": "27.7.2020",
          "xref": "x",
          "y": "Индия",
          "yref": "y"
         },
         {
          "font": {
           "color": "#FFFFFF"
          },
          "showarrow": false,
          "text": "51596",
          "x": "28.7.2020",
          "xref": "x",
          "y": "Индия",
          "yref": "y"
         },
         {
          "font": {
           "color": "#FFFFFF"
          },
          "showarrow": false,
          "text": "50294",
          "x": "29.7.2020",
          "xref": "x",
          "y": "Индия",
          "yref": "y"
         },
         {
          "font": {
           "color": "#FFFFFF"
          },
          "showarrow": false,
          "text": "52783",
          "x": "30.7.2020",
          "xref": "x",
          "y": "Индия",
          "yref": "y"
         },
         {
          "font": {
           "color": "#FFFFFF"
          },
          "showarrow": false,
          "text": "61242",
          "x": "31.7.2020",
          "xref": "x",
          "y": "Индия",
          "yref": "y"
         },
         {
          "font": {
           "color": "#FFFFFF"
          },
          "showarrow": false,
          "text": "54735",
          "x": "1.8.2020",
          "xref": "x",
          "y": "Индия",
          "yref": "y"
         },
         {
          "font": {
           "color": "#FFFFFF"
          },
          "showarrow": false,
          "text": "52972",
          "x": "2.8.2020",
          "xref": "x",
          "y": "Индия",
          "yref": "y"
         },
         {
          "font": {
           "color": "#FFFFFF"
          },
          "showarrow": false,
          "text": "52050",
          "x": "3.8.2020",
          "xref": "x",
          "y": "Индия",
          "yref": "y"
         },
         {
          "font": {
           "color": "#FFFFFF"
          },
          "showarrow": false,
          "text": "52509",
          "x": "4.8.2020",
          "xref": "x",
          "y": "Индия",
          "yref": "y"
         },
         {
          "font": {
           "color": "#FFFFFF"
          },
          "showarrow": false,
          "text": "56282",
          "x": "5.8.2020",
          "xref": "x",
          "y": "Индия",
          "yref": "y"
         },
         {
          "font": {
           "color": "#FFFFFF"
          },
          "showarrow": false,
          "text": "62538",
          "x": "6.8.2020",
          "xref": "x",
          "y": "Индия",
          "yref": "y"
         },
         {
          "font": {
           "color": "#FFFFFF"
          },
          "showarrow": false,
          "text": "61537",
          "x": "7.8.2020",
          "xref": "x",
          "y": "Индия",
          "yref": "y"
         },
         {
          "font": {
           "color": "#FFFFFF"
          },
          "showarrow": false,
          "text": "64399",
          "x": "8.8.2020",
          "xref": "x",
          "y": "Индия",
          "yref": "y"
         },
         {
          "font": {
           "color": "#FFFFFF"
          },
          "showarrow": false,
          "text": "62064",
          "x": "9.8.2020",
          "xref": "x",
          "y": "Индия",
          "yref": "y"
         },
         {
          "font": {
           "color": "#FFFFFF"
          },
          "showarrow": false,
          "text": "53601",
          "x": "10.8.2020",
          "xref": "x",
          "y": "Индия",
          "yref": "y"
         },
         {
          "font": {
           "color": "#FFFFFF"
          },
          "showarrow": false,
          "text": "60963",
          "x": "11.8.2020",
          "xref": "x",
          "y": "Индия",
          "yref": "y"
         },
         {
          "font": {
           "color": "#FFFFFF"
          },
          "showarrow": false,
          "text": "66999",
          "x": "12.8.2020",
          "xref": "x",
          "y": "Индия",
          "yref": "y"
         },
         {
          "font": {
           "color": "#FFFFFF"
          },
          "showarrow": false,
          "text": "64553",
          "x": "13.8.2020",
          "xref": "x",
          "y": "Индия",
          "yref": "y"
         },
         {
          "font": {
           "color": "#FFFFFF"
          },
          "showarrow": false,
          "text": "64732",
          "x": "14.8.2020",
          "xref": "x",
          "y": "Индия",
          "yref": "y"
         },
         {
          "font": {
           "color": "#FFFFFF"
          },
          "showarrow": false,
          "text": "64030",
          "x": "15.8.2020",
          "xref": "x",
          "y": "Индия",
          "yref": "y"
         },
         {
          "font": {
           "color": "#FFFFFF"
          },
          "showarrow": false,
          "text": "57711",
          "x": "16.8.2020",
          "xref": "x",
          "y": "Индия",
          "yref": "y"
         },
         {
          "font": {
           "color": "#FFFFFF"
          },
          "showarrow": false,
          "text": "55018",
          "x": "17.8.2020",
          "xref": "x",
          "y": "Индия",
          "yref": "y"
         },
         {
          "font": {
           "color": "#FFFFFF"
          },
          "showarrow": false,
          "text": "64572",
          "x": "18.8.2020",
          "xref": "x",
          "y": "Индия",
          "yref": "y"
         },
         {
          "font": {
           "color": "#FFFFFF"
          },
          "showarrow": false,
          "text": "69672",
          "x": "19.8.2020",
          "xref": "x",
          "y": "Индия",
          "yref": "y"
         },
         {
          "font": {
           "color": "#FFFFFF"
          },
          "showarrow": false,
          "text": "68900",
          "x": "20.8.2020",
          "xref": "x",
          "y": "Индия",
          "yref": "y"
         },
         {
          "font": {
           "color": "#FFFFFF"
          },
          "showarrow": false,
          "text": "69876",
          "x": "21.8.2020",
          "xref": "x",
          "y": "Индия",
          "yref": "y"
         },
         {
          "font": {
           "color": "#FFFFFF"
          },
          "showarrow": false,
          "text": "69239",
          "x": "22.8.2020",
          "xref": "x",
          "y": "Индия",
          "yref": "y"
         },
         {
          "font": {
           "color": "#FFFFFF"
          },
          "showarrow": false,
          "text": "61408",
          "x": "23.8.2020",
          "xref": "x",
          "y": "Индия",
          "yref": "y"
         },
         {
          "font": {
           "color": "#FFFFFF"
          },
          "showarrow": false,
          "text": "60975",
          "x": "24.8.2020",
          "xref": "x",
          "y": "Индия",
          "yref": "y"
         },
         {
          "font": {
           "color": "#FFFFFF"
          },
          "showarrow": false,
          "text": "0",
          "x": "26.7.2020",
          "xref": "x",
          "y": "Испания",
          "yref": "y"
         },
         {
          "font": {
           "color": "#FFFFFF"
          },
          "showarrow": false,
          "text": "6361",
          "x": "27.7.2020",
          "xref": "x",
          "y": "Испания",
          "yref": "y"
         },
         {
          "font": {
           "color": "#FFFFFF"
          },
          "showarrow": false,
          "text": "1828",
          "x": "28.7.2020",
          "xref": "x",
          "y": "Испания",
          "yref": "y"
         },
         {
          "font": {
           "color": "#FFFFFF"
          },
          "showarrow": false,
          "text": "2031",
          "x": "29.7.2020",
          "xref": "x",
          "y": "Испания",
          "yref": "y"
         },
         {
          "font": {
           "color": "#FFFFFF"
          },
          "showarrow": false,
          "text": "2789",
          "x": "30.7.2020",
          "xref": "x",
          "y": "Испания",
          "yref": "y"
         },
         {
          "font": {
           "color": "#FFFFFF"
          },
          "showarrow": false,
          "text": "3092",
          "x": "31.7.2020",
          "xref": "x",
          "y": "Испания",
          "yref": "y"
         },
         {
          "font": {
           "color": "#FFFFFF"
          },
          "showarrow": false,
          "text": "0",
          "x": "1.8.2020",
          "xref": "x",
          "y": "Испания",
          "yref": "y"
         },
         {
          "font": {
           "color": "#FFFFFF"
          },
          "showarrow": false,
          "text": "0",
          "x": "2.8.2020",
          "xref": "x",
          "y": "Испания",
          "yref": "y"
         },
         {
          "font": {
           "color": "#FFFFFF"
          },
          "showarrow": false,
          "text": "8532",
          "x": "3.8.2020",
          "xref": "x",
          "y": "Испания",
          "yref": "y"
         },
         {
          "font": {
           "color": "#FFFFFF"
          },
          "showarrow": false,
          "text": "5760",
          "x": "4.8.2020",
          "xref": "x",
          "y": "Испания",
          "yref": "y"
         },
         {
          "font": {
           "color": "#FFFFFF"
          },
          "showarrow": false,
          "text": "2953",
          "x": "5.8.2020",
          "xref": "x",
          "y": "Испания",
          "yref": "y"
         },
         {
          "font": {
           "color": "#FFFFFF"
          },
          "showarrow": false,
          "text": "4088",
          "x": "6.8.2020",
          "xref": "x",
          "y": "Испания",
          "yref": "y"
         },
         {
          "font": {
           "color": "#FFFFFF"
          },
          "showarrow": false,
          "text": "4507",
          "x": "7.8.2020",
          "xref": "x",
          "y": "Испания",
          "yref": "y"
         },
         {
          "font": {
           "color": "#FFFFFF"
          },
          "showarrow": false,
          "text": "0",
          "x": "8.8.2020",
          "xref": "x",
          "y": "Испания",
          "yref": "y"
         },
         {
          "font": {
           "color": "#FFFFFF"
          },
          "showarrow": false,
          "text": "0",
          "x": "9.8.2020",
          "xref": "x",
          "y": "Испания",
          "yref": "y"
         },
         {
          "font": {
           "color": "#FFFFFF"
          },
          "showarrow": false,
          "text": "8618",
          "x": "10.8.2020",
          "xref": "x",
          "y": "Испания",
          "yref": "y"
         },
         {
          "font": {
           "color": "#FFFFFF"
          },
          "showarrow": false,
          "text": "3632",
          "x": "11.8.2020",
          "xref": "x",
          "y": "Испания",
          "yref": "y"
         },
         {
          "font": {
           "color": "#FFFFFF"
          },
          "showarrow": false,
          "text": "3172",
          "x": "12.8.2020",
          "xref": "x",
          "y": "Испания",
          "yref": "y"
         },
         {
          "font": {
           "color": "#FFFFFF"
          },
          "showarrow": false,
          "text": "7550",
          "x": "13.8.2020",
          "xref": "x",
          "y": "Испания",
          "yref": "y"
         },
         {
          "font": {
           "color": "#FFFFFF"
          },
          "showarrow": false,
          "text": "5479",
          "x": "14.8.2020",
          "xref": "x",
          "y": "Испания",
          "yref": "y"
         },
         {
          "font": {
           "color": "#FFFFFF"
          },
          "showarrow": false,
          "text": "0",
          "x": "15.8.2020",
          "xref": "x",
          "y": "Испания",
          "yref": "y"
         },
         {
          "font": {
           "color": "#FFFFFF"
          },
          "showarrow": false,
          "text": "0",
          "x": "16.8.2020",
          "xref": "x",
          "y": "Испания",
          "yref": "y"
         },
         {
          "font": {
           "color": "#FFFFFF"
          },
          "showarrow": false,
          "text": "16269",
          "x": "17.8.2020",
          "xref": "x",
          "y": "Испания",
          "yref": "y"
         },
         {
          "font": {
           "color": "#FFFFFF"
          },
          "showarrow": false,
          "text": "5114",
          "x": "18.8.2020",
          "xref": "x",
          "y": "Испания",
          "yref": "y"
         },
         {
          "font": {
           "color": "#FFFFFF"
          },
          "showarrow": false,
          "text": "6671",
          "x": "19.8.2020",
          "xref": "x",
          "y": "Испания",
          "yref": "y"
         },
         {
          "font": {
           "color": "#FFFFFF"
          },
          "showarrow": false,
          "text": "7039",
          "x": "20.8.2020",
          "xref": "x",
          "y": "Испания",
          "yref": "y"
         },
         {
          "font": {
           "color": "#FFFFFF"
          },
          "showarrow": false,
          "text": "8148",
          "x": "21.8.2020",
          "xref": "x",
          "y": "Испания",
          "yref": "y"
         },
         {
          "font": {
           "color": "#FFFFFF"
          },
          "showarrow": false,
          "text": "0",
          "x": "22.8.2020",
          "xref": "x",
          "y": "Испания",
          "yref": "y"
         },
         {
          "font": {
           "color": "#FFFFFF"
          },
          "showarrow": false,
          "text": "0",
          "x": "23.8.2020",
          "xref": "x",
          "y": "Испания",
          "yref": "y"
         },
         {
          "font": {
           "color": "#FFFFFF"
          },
          "showarrow": false,
          "text": "19382",
          "x": "24.8.2020",
          "xref": "x",
          "y": "Испания",
          "yref": "y"
         },
         {
          "font": {
           "color": "#FFFFFF"
          },
          "showarrow": false,
          "text": "54953",
          "x": "26.7.2020",
          "xref": "x",
          "y": "США",
          "yref": "y"
         },
         {
          "font": {
           "color": "#FFFFFF"
          },
          "showarrow": false,
          "text": "56414",
          "x": "27.7.2020",
          "xref": "x",
          "y": "США",
          "yref": "y"
         },
         {
          "font": {
           "color": "#FFFFFF"
          },
          "showarrow": false,
          "text": "65869",
          "x": "28.7.2020",
          "xref": "x",
          "y": "США",
          "yref": "y"
         },
         {
          "font": {
           "color": "#FFFFFF"
          },
          "showarrow": false,
          "text": "70776",
          "x": "29.7.2020",
          "xref": "x",
          "y": "США",
          "yref": "y"
         },
         {
          "font": {
           "color": "#FFFFFF"
          },
          "showarrow": false,
          "text": "68033",
          "x": "30.7.2020",
          "xref": "x",
          "y": "США",
          "yref": "y"
         },
         {
          "font": {
           "color": "#FFFFFF"
          },
          "showarrow": false,
          "text": "67092",
          "x": "31.7.2020",
          "xref": "x",
          "y": "США",
          "yref": "y"
         },
         {
          "font": {
           "color": "#FFFFFF"
          },
          "showarrow": false,
          "text": "58485",
          "x": "1.8.2020",
          "xref": "x",
          "y": "США",
          "yref": "y"
         },
         {
          "font": {
           "color": "#FFFFFF"
          },
          "showarrow": false,
          "text": "47580",
          "x": "2.8.2020",
          "xref": "x",
          "y": "США",
          "yref": "y"
         },
         {
          "font": {
           "color": "#FFFFFF"
          },
          "showarrow": false,
          "text": "45368",
          "x": "3.8.2020",
          "xref": "x",
          "y": "США",
          "yref": "y"
         },
         {
          "font": {
           "color": "#FFFFFF"
          },
          "showarrow": false,
          "text": "57540",
          "x": "4.8.2020",
          "xref": "x",
          "y": "США",
          "yref": "y"
         },
         {
          "font": {
           "color": "#FFFFFF"
          },
          "showarrow": false,
          "text": "52810",
          "x": "5.8.2020",
          "xref": "x",
          "y": "США",
          "yref": "y"
         },
         {
          "font": {
           "color": "#FFFFFF"
          },
          "showarrow": false,
          "text": "59692",
          "x": "6.8.2020",
          "xref": "x",
          "y": "США",
          "yref": "y"
         },
         {
          "font": {
           "color": "#FFFFFF"
          },
          "showarrow": false,
          "text": "58173",
          "x": "7.8.2020",
          "xref": "x",
          "y": "США",
          "yref": "y"
         },
         {
          "font": {
           "color": "#FFFFFF"
          },
          "showarrow": false,
          "text": "56174",
          "x": "8.8.2020",
          "xref": "x",
          "y": "США",
          "yref": "y"
         },
         {
          "font": {
           "color": "#FFFFFF"
          },
          "showarrow": false,
          "text": "46935",
          "x": "9.8.2020",
          "xref": "x",
          "y": "США",
          "yref": "y"
         },
         {
          "font": {
           "color": "#FFFFFF"
          },
          "showarrow": false,
          "text": "49536",
          "x": "10.8.2020",
          "xref": "x",
          "y": "США",
          "yref": "y"
         },
         {
          "font": {
           "color": "#FFFFFF"
          },
          "showarrow": false,
          "text": "46808",
          "x": "11.8.2020",
          "xref": "x",
          "y": "США",
          "yref": "y"
         },
         {
          "font": {
           "color": "#FFFFFF"
          },
          "showarrow": false,
          "text": "56203",
          "x": "12.8.2020",
          "xref": "x",
          "y": "США",
          "yref": "y"
         },
         {
          "font": {
           "color": "#FFFFFF"
          },
          "showarrow": false,
          "text": "51547",
          "x": "13.8.2020",
          "xref": "x",
          "y": "США",
          "yref": "y"
         },
         {
          "font": {
           "color": "#FFFFFF"
          },
          "showarrow": false,
          "text": "64294",
          "x": "14.8.2020",
          "xref": "x",
          "y": "США",
          "yref": "y"
         },
         {
          "font": {
           "color": "#FFFFFF"
          },
          "showarrow": false,
          "text": "47913",
          "x": "15.8.2020",
          "xref": "x",
          "y": "США",
          "yref": "y"
         },
         {
          "font": {
           "color": "#FFFFFF"
          },
          "showarrow": false,
          "text": "42048",
          "x": "16.8.2020",
          "xref": "x",
          "y": "США",
          "yref": "y"
         },
         {
          "font": {
           "color": "#FFFFFF"
          },
          "showarrow": false,
          "text": "35112",
          "x": "17.8.2020",
          "xref": "x",
          "y": "США",
          "yref": "y"
         },
         {
          "font": {
           "color": "#FFFFFF"
          },
          "showarrow": false,
          "text": "44091",
          "x": "18.8.2020",
          "xref": "x",
          "y": "США",
          "yref": "y"
         },
         {
          "font": {
           "color": "#FFFFFF"
          },
          "showarrow": false,
          "text": "47408",
          "x": "19.8.2020",
          "xref": "x",
          "y": "США",
          "yref": "y"
         },
         {
          "font": {
           "color": "#FFFFFF"
          },
          "showarrow": false,
          "text": "44023",
          "x": "20.8.2020",
          "xref": "x",
          "y": "США",
          "yref": "y"
         },
         {
          "font": {
           "color": "#FFFFFF"
          },
          "showarrow": false,
          "text": "48693",
          "x": "21.8.2020",
          "xref": "x",
          "y": "США",
          "yref": "y"
         },
         {
          "font": {
           "color": "#FFFFFF"
          },
          "showarrow": false,
          "text": "44572",
          "x": "22.8.2020",
          "xref": "x",
          "y": "США",
          "yref": "y"
         },
         {
          "font": {
           "color": "#FFFFFF"
          },
          "showarrow": false,
          "text": "34567",
          "x": "23.8.2020",
          "xref": "x",
          "y": "США",
          "yref": "y"
         },
         {
          "font": {
           "color": "#FFFFFF"
          },
          "showarrow": false,
          "text": "38045",
          "x": "24.8.2020",
          "xref": "x",
          "y": "США",
          "yref": "y"
         }
        ],
        "height": 600,
        "template": {
         "data": {
          "bar": [
           {
            "error_x": {
             "color": "#2a3f5f"
            },
            "error_y": {
             "color": "#2a3f5f"
            },
            "marker": {
             "line": {
              "color": "#E5ECF6",
              "width": 0.5
             }
            },
            "type": "bar"
           }
          ],
          "barpolar": [
           {
            "marker": {
             "line": {
              "color": "#E5ECF6",
              "width": 0.5
             }
            },
            "type": "barpolar"
           }
          ],
          "carpet": [
           {
            "aaxis": {
             "endlinecolor": "#2a3f5f",
             "gridcolor": "white",
             "linecolor": "white",
             "minorgridcolor": "white",
             "startlinecolor": "#2a3f5f"
            },
            "baxis": {
             "endlinecolor": "#2a3f5f",
             "gridcolor": "white",
             "linecolor": "white",
             "minorgridcolor": "white",
             "startlinecolor": "#2a3f5f"
            },
            "type": "carpet"
           }
          ],
          "choropleth": [
           {
            "colorbar": {
             "outlinewidth": 0,
             "ticks": ""
            },
            "type": "choropleth"
           }
          ],
          "contour": [
           {
            "colorbar": {
             "outlinewidth": 0,
             "ticks": ""
            },
            "colorscale": [
             [
              0,
              "#0d0887"
             ],
             [
              0.1111111111111111,
              "#46039f"
             ],
             [
              0.2222222222222222,
              "#7201a8"
             ],
             [
              0.3333333333333333,
              "#9c179e"
             ],
             [
              0.4444444444444444,
              "#bd3786"
             ],
             [
              0.5555555555555556,
              "#d8576b"
             ],
             [
              0.6666666666666666,
              "#ed7953"
             ],
             [
              0.7777777777777778,
              "#fb9f3a"
             ],
             [
              0.8888888888888888,
              "#fdca26"
             ],
             [
              1,
              "#f0f921"
             ]
            ],
            "type": "contour"
           }
          ],
          "contourcarpet": [
           {
            "colorbar": {
             "outlinewidth": 0,
             "ticks": ""
            },
            "type": "contourcarpet"
           }
          ],
          "heatmap": [
           {
            "colorbar": {
             "outlinewidth": 0,
             "ticks": ""
            },
            "colorscale": [
             [
              0,
              "#0d0887"
             ],
             [
              0.1111111111111111,
              "#46039f"
             ],
             [
              0.2222222222222222,
              "#7201a8"
             ],
             [
              0.3333333333333333,
              "#9c179e"
             ],
             [
              0.4444444444444444,
              "#bd3786"
             ],
             [
              0.5555555555555556,
              "#d8576b"
             ],
             [
              0.6666666666666666,
              "#ed7953"
             ],
             [
              0.7777777777777778,
              "#fb9f3a"
             ],
             [
              0.8888888888888888,
              "#fdca26"
             ],
             [
              1,
              "#f0f921"
             ]
            ],
            "type": "heatmap"
           }
          ],
          "heatmapgl": [
           {
            "colorbar": {
             "outlinewidth": 0,
             "ticks": ""
            },
            "colorscale": [
             [
              0,
              "#0d0887"
             ],
             [
              0.1111111111111111,
              "#46039f"
             ],
             [
              0.2222222222222222,
              "#7201a8"
             ],
             [
              0.3333333333333333,
              "#9c179e"
             ],
             [
              0.4444444444444444,
              "#bd3786"
             ],
             [
              0.5555555555555556,
              "#d8576b"
             ],
             [
              0.6666666666666666,
              "#ed7953"
             ],
             [
              0.7777777777777778,
              "#fb9f3a"
             ],
             [
              0.8888888888888888,
              "#fdca26"
             ],
             [
              1,
              "#f0f921"
             ]
            ],
            "type": "heatmapgl"
           }
          ],
          "histogram": [
           {
            "marker": {
             "colorbar": {
              "outlinewidth": 0,
              "ticks": ""
             }
            },
            "type": "histogram"
           }
          ],
          "histogram2d": [
           {
            "colorbar": {
             "outlinewidth": 0,
             "ticks": ""
            },
            "colorscale": [
             [
              0,
              "#0d0887"
             ],
             [
              0.1111111111111111,
              "#46039f"
             ],
             [
              0.2222222222222222,
              "#7201a8"
             ],
             [
              0.3333333333333333,
              "#9c179e"
             ],
             [
              0.4444444444444444,
              "#bd3786"
             ],
             [
              0.5555555555555556,
              "#d8576b"
             ],
             [
              0.6666666666666666,
              "#ed7953"
             ],
             [
              0.7777777777777778,
              "#fb9f3a"
             ],
             [
              0.8888888888888888,
              "#fdca26"
             ],
             [
              1,
              "#f0f921"
             ]
            ],
            "type": "histogram2d"
           }
          ],
          "histogram2dcontour": [
           {
            "colorbar": {
             "outlinewidth": 0,
             "ticks": ""
            },
            "colorscale": [
             [
              0,
              "#0d0887"
             ],
             [
              0.1111111111111111,
              "#46039f"
             ],
             [
              0.2222222222222222,
              "#7201a8"
             ],
             [
              0.3333333333333333,
              "#9c179e"
             ],
             [
              0.4444444444444444,
              "#bd3786"
             ],
             [
              0.5555555555555556,
              "#d8576b"
             ],
             [
              0.6666666666666666,
              "#ed7953"
             ],
             [
              0.7777777777777778,
              "#fb9f3a"
             ],
             [
              0.8888888888888888,
              "#fdca26"
             ],
             [
              1,
              "#f0f921"
             ]
            ],
            "type": "histogram2dcontour"
           }
          ],
          "mesh3d": [
           {
            "colorbar": {
             "outlinewidth": 0,
             "ticks": ""
            },
            "type": "mesh3d"
           }
          ],
          "parcoords": [
           {
            "line": {
             "colorbar": {
              "outlinewidth": 0,
              "ticks": ""
             }
            },
            "type": "parcoords"
           }
          ],
          "pie": [
           {
            "automargin": true,
            "type": "pie"
           }
          ],
          "scatter": [
           {
            "marker": {
             "colorbar": {
              "outlinewidth": 0,
              "ticks": ""
             }
            },
            "type": "scatter"
           }
          ],
          "scatter3d": [
           {
            "line": {
             "colorbar": {
              "outlinewidth": 0,
              "ticks": ""
             }
            },
            "marker": {
             "colorbar": {
              "outlinewidth": 0,
              "ticks": ""
             }
            },
            "type": "scatter3d"
           }
          ],
          "scattercarpet": [
           {
            "marker": {
             "colorbar": {
              "outlinewidth": 0,
              "ticks": ""
             }
            },
            "type": "scattercarpet"
           }
          ],
          "scattergeo": [
           {
            "marker": {
             "colorbar": {
              "outlinewidth": 0,
              "ticks": ""
             }
            },
            "type": "scattergeo"
           }
          ],
          "scattergl": [
           {
            "marker": {
             "colorbar": {
              "outlinewidth": 0,
              "ticks": ""
             }
            },
            "type": "scattergl"
           }
          ],
          "scattermapbox": [
           {
            "marker": {
             "colorbar": {
              "outlinewidth": 0,
              "ticks": ""
             }
            },
            "type": "scattermapbox"
           }
          ],
          "scatterpolar": [
           {
            "marker": {
             "colorbar": {
              "outlinewidth": 0,
              "ticks": ""
             }
            },
            "type": "scatterpolar"
           }
          ],
          "scatterpolargl": [
           {
            "marker": {
             "colorbar": {
              "outlinewidth": 0,
              "ticks": ""
             }
            },
            "type": "scatterpolargl"
           }
          ],
          "scatterternary": [
           {
            "marker": {
             "colorbar": {
              "outlinewidth": 0,
              "ticks": ""
             }
            },
            "type": "scatterternary"
           }
          ],
          "surface": [
           {
            "colorbar": {
             "outlinewidth": 0,
             "ticks": ""
            },
            "colorscale": [
             [
              0,
              "#0d0887"
             ],
             [
              0.1111111111111111,
              "#46039f"
             ],
             [
              0.2222222222222222,
              "#7201a8"
             ],
             [
              0.3333333333333333,
              "#9c179e"
             ],
             [
              0.4444444444444444,
              "#bd3786"
             ],
             [
              0.5555555555555556,
              "#d8576b"
             ],
             [
              0.6666666666666666,
              "#ed7953"
             ],
             [
              0.7777777777777778,
              "#fb9f3a"
             ],
             [
              0.8888888888888888,
              "#fdca26"
             ],
             [
              1,
              "#f0f921"
             ]
            ],
            "type": "surface"
           }
          ],
          "table": [
           {
            "cells": {
             "fill": {
              "color": "#EBF0F8"
             },
             "line": {
              "color": "white"
             }
            },
            "header": {
             "fill": {
              "color": "#C8D4E3"
             },
             "line": {
              "color": "white"
             }
            },
            "type": "table"
           }
          ]
         },
         "layout": {
          "annotationdefaults": {
           "arrowcolor": "#2a3f5f",
           "arrowhead": 0,
           "arrowwidth": 1
          },
          "coloraxis": {
           "colorbar": {
            "outlinewidth": 0,
            "ticks": ""
           }
          },
          "colorscale": {
           "diverging": [
            [
             0,
             "#8e0152"
            ],
            [
             0.1,
             "#c51b7d"
            ],
            [
             0.2,
             "#de77ae"
            ],
            [
             0.3,
             "#f1b6da"
            ],
            [
             0.4,
             "#fde0ef"
            ],
            [
             0.5,
             "#f7f7f7"
            ],
            [
             0.6,
             "#e6f5d0"
            ],
            [
             0.7,
             "#b8e186"
            ],
            [
             0.8,
             "#7fbc41"
            ],
            [
             0.9,
             "#4d9221"
            ],
            [
             1,
             "#276419"
            ]
           ],
           "sequential": [
            [
             0,
             "#0d0887"
            ],
            [
             0.1111111111111111,
             "#46039f"
            ],
            [
             0.2222222222222222,
             "#7201a8"
            ],
            [
             0.3333333333333333,
             "#9c179e"
            ],
            [
             0.4444444444444444,
             "#bd3786"
            ],
            [
             0.5555555555555556,
             "#d8576b"
            ],
            [
             0.6666666666666666,
             "#ed7953"
            ],
            [
             0.7777777777777778,
             "#fb9f3a"
            ],
            [
             0.8888888888888888,
             "#fdca26"
            ],
            [
             1,
             "#f0f921"
            ]
           ],
           "sequentialminus": [
            [
             0,
             "#0d0887"
            ],
            [
             0.1111111111111111,
             "#46039f"
            ],
            [
             0.2222222222222222,
             "#7201a8"
            ],
            [
             0.3333333333333333,
             "#9c179e"
            ],
            [
             0.4444444444444444,
             "#bd3786"
            ],
            [
             0.5555555555555556,
             "#d8576b"
            ],
            [
             0.6666666666666666,
             "#ed7953"
            ],
            [
             0.7777777777777778,
             "#fb9f3a"
            ],
            [
             0.8888888888888888,
             "#fdca26"
            ],
            [
             1,
             "#f0f921"
            ]
           ]
          },
          "colorway": [
           "#636efa",
           "#EF553B",
           "#00cc96",
           "#ab63fa",
           "#FFA15A",
           "#19d3f3",
           "#FF6692",
           "#B6E880",
           "#FF97FF",
           "#FECB52"
          ],
          "font": {
           "color": "#2a3f5f"
          },
          "geo": {
           "bgcolor": "white",
           "lakecolor": "white",
           "landcolor": "#E5ECF6",
           "showlakes": true,
           "showland": true,
           "subunitcolor": "white"
          },
          "hoverlabel": {
           "align": "left"
          },
          "hovermode": "closest",
          "mapbox": {
           "style": "light"
          },
          "paper_bgcolor": "white",
          "plot_bgcolor": "#E5ECF6",
          "polar": {
           "angularaxis": {
            "gridcolor": "white",
            "linecolor": "white",
            "ticks": ""
           },
           "bgcolor": "#E5ECF6",
           "radialaxis": {
            "gridcolor": "white",
            "linecolor": "white",
            "ticks": ""
           }
          },
          "scene": {
           "xaxis": {
            "backgroundcolor": "#E5ECF6",
            "gridcolor": "white",
            "gridwidth": 2,
            "linecolor": "white",
            "showbackground": true,
            "ticks": "",
            "zerolinecolor": "white"
           },
           "yaxis": {
            "backgroundcolor": "#E5ECF6",
            "gridcolor": "white",
            "gridwidth": 2,
            "linecolor": "white",
            "showbackground": true,
            "ticks": "",
            "zerolinecolor": "white"
           },
           "zaxis": {
            "backgroundcolor": "#E5ECF6",
            "gridcolor": "white",
            "gridwidth": 2,
            "linecolor": "white",
            "showbackground": true,
            "ticks": "",
            "zerolinecolor": "white"
           }
          },
          "shapedefaults": {
           "line": {
            "color": "#2a3f5f"
           }
          },
          "ternary": {
           "aaxis": {
            "gridcolor": "white",
            "linecolor": "white",
            "ticks": ""
           },
           "baxis": {
            "gridcolor": "white",
            "linecolor": "white",
            "ticks": ""
           },
           "bgcolor": "#E5ECF6",
           "caxis": {
            "gridcolor": "white",
            "linecolor": "white",
            "ticks": ""
           }
          },
          "title": {
           "x": 0.05
          },
          "xaxis": {
           "automargin": true,
           "gridcolor": "white",
           "linecolor": "white",
           "ticks": "",
           "title": {
            "standoff": 15
           },
           "zerolinecolor": "white",
           "zerolinewidth": 2
          },
          "yaxis": {
           "automargin": true,
           "gridcolor": "white",
           "linecolor": "white",
           "ticks": "",
           "title": {
            "standoff": 15
           },
           "zerolinecolor": "white",
           "zerolinewidth": 2
          }
         }
        },
        "width": 990,
        "xaxis": {
         "dtick": 1,
         "gridcolor": "rgb(0, 0, 0)",
         "side": "top",
         "ticks": "",
         "title": {
          "text": "Динамика новых заболевших по странам"
         }
        },
        "yaxis": {
         "dtick": 1,
         "ticks": "",
         "ticksuffix": "  "
        }
       }
      }
     },
     "metadata": {}
    }
   ],
   "source": [
    "fig = ff.create_annotated_heatmap(d, x=x2, y=y, annotation_text=d,\n",
    "                                  colorscale='Temps')\n",
    "\n",
    "fig.update_layout(\n",
    "                  \n",
    "                  \n",
    "                  width = 990, height = 600,\n",
    "    \n",
    "    \n",
    "                  xaxis_title='Динамика новых заболевших по странам',\n",
    "               #   yaxis_title = 'Регион '\n",
    ")\n",
    "\n",
    "fig.show()"
   ]
  },
  {
   "cell_type": "code",
   "execution_count": 27,
   "metadata": {
    "tags": []
   },
   "outputs": [
    {
     "output_type": "stream",
     "name": "stdout",
     "text": "187\n"
    },
    {
     "output_type": "execute_result",
     "data": {
      "text/plain": "             Date  Confirmed  Recovered  Deaths  Day_confirmed  Day_recovered  \\\n28511  2020-08-24    5739724    2020774  177252          38045          23013   \n5183   2020-08-24    3622861    2976256  115309          17078          28472   \n12743  2020-08-24    3167323    2404585   58390          60975          66550   \n27863  2020-08-24     959016     771357   16406           4688           2451   \n39743  2020-08-24     611450     516494   13159           1677          10024   \n26999  2020-08-24     594326     399357   27663           9090              0   \n22463  2020-08-24     563705     466209   60800           3541           8086   \n17063  2020-08-24     551688     384165   17612          10549          10141   \n14255  2020-08-24     405436     150376   28872          19382              0   \n37583  2020-08-24     399568     372464   10916           1903           1285   \n13607  2020-08-24     361150     311365   20776           2245           1901   \n1943   2020-08-24     350867     256789    7366           8713           5389   \n6263   2020-08-24     328620       1550   41519            977              3   \n29375  2020-08-24     308654     282888    3691           1175           2745   \n2807   2020-08-24     297083     182875    3983           2485           3784   \n\n       Day_deaths     Rt    Rt2  Rate_conf   Rate_ill            Country  \\\n28511         450  0.972  1.032  24.272138  47.240888                США   \n5183          565  0.747  1.045  15.320350   7.086684           Бразилия   \n12743         848  1.013  1.096  13.393972   9.394936              Индия   \n27863          65  1.004  1.021   4.055486   2.284256             Россия   \n39743         100  0.914  1.023   2.585699   1.091048                ЮАР   \n26999         210  1.101  1.063   2.513285   2.231609               Перу   \n22463         320  0.919  1.043   2.383795   0.489469            Мексика   \n17063         296  0.837  1.078   2.332978   1.999586           Колумбия   \n14255          34  0.784  1.062   1.714507   3.017005            Испания   \n37583          64  1.308  1.018   1.689693   0.215923               Чили   \n13607         133  0.918  1.025   1.527231   0.386936               Иран   \n1943          381  1.139  1.097   1.483746   1.156607          Аргентина   \n6263            4  1.144  1.014   1.389668   3.808818     Великобритания   \n29375          42  0.862  1.016   1.305236   0.294447  Саудовская Аравия   \n2807           42  0.800  1.035   1.256304   1.470235          Бангладеш   \n\n       Remaining_ill  MA7_dayconfirmed  MA14_dayconfirmed  MA7_remaining_ill  \\\n28511        3541698      43057.000000       46094.571429       3.478971e+06   \n5183          531296      37613.000000       40385.071429       5.467579e+05   \n12743         704348      66377.428571       64189.142857       6.964416e+05   \n27863         171253       4779.714286        4872.642857       1.701917e+05   \n39743          81797       3080.571429        3418.000000       8.987514e+04   \n26999         167306       8340.000000        7942.357143       1.557397e+05   \n22463          36696       5424.571429        5562.071429       4.066343e+04   \n17063         149911      10718.285714       11004.642857       1.560661e+05   \n14255         226188       6622.000000        5889.714286       2.031813e+05   \n37583          16188       1723.714286        1751.714286       1.547357e+04   \n13607          29009       2242.857143        2307.571429       2.822614e+04   \n1943           86712       7391.571429        6928.500000       8.169543e+04   \n6263          285551       1079.428571        1087.714286       2.823310e+05   \n29375          22075       1248.571429        1336.214286       2.422729e+04   \n2807          110225       2562.714286        2612.571429       1.136176e+05   \n\n       MA14_remaining_ill  Change_dayconf  Change_remill  \n28511        3.408808e+06            3478          14582  \n5183         5.575374e+05           -6343         -11959  \n12743        6.807166e+05            -433          -6423  \n27863        1.726635e+05            -109           2172  \n39743        1.016046e+05           -1051          -8447  \n26999        1.450196e+05             -79           8880  \n22463        4.138086e+04            -407          -4865  \n17063        1.613874e+05           -8452            112  \n14255        1.821876e+05           19382          19348  \n37583        1.606571e+04             -54            554  \n13607        2.679436e+04             132            211  \n1943         7.921693e+04            3361           2943  \n6263         2.786861e+05             -71            970  \n29375        2.724057e+04              66          -1612  \n2807         1.126928e+05             512          -1341  ",
      "text/html": "<div>\n<style scoped>\n    .dataframe tbody tr th:only-of-type {\n        vertical-align: middle;\n    }\n\n    .dataframe tbody tr th {\n        vertical-align: top;\n    }\n\n    .dataframe thead th {\n        text-align: right;\n    }\n</style>\n<table border=\"1\" class=\"dataframe\">\n  <thead>\n    <tr style=\"text-align: right;\">\n      <th></th>\n      <th>Date</th>\n      <th>Confirmed</th>\n      <th>Recovered</th>\n      <th>Deaths</th>\n      <th>Day_confirmed</th>\n      <th>Day_recovered</th>\n      <th>Day_deaths</th>\n      <th>Rt</th>\n      <th>Rt2</th>\n      <th>Rate_conf</th>\n      <th>Rate_ill</th>\n      <th>Country</th>\n      <th>Remaining_ill</th>\n      <th>MA7_dayconfirmed</th>\n      <th>MA14_dayconfirmed</th>\n      <th>MA7_remaining_ill</th>\n      <th>MA14_remaining_ill</th>\n      <th>Change_dayconf</th>\n      <th>Change_remill</th>\n    </tr>\n  </thead>\n  <tbody>\n    <tr>\n      <th>28511</th>\n      <td>2020-08-24</td>\n      <td>5739724</td>\n      <td>2020774</td>\n      <td>177252</td>\n      <td>38045</td>\n      <td>23013</td>\n      <td>450</td>\n      <td>0.972</td>\n      <td>1.032</td>\n      <td>24.272138</td>\n      <td>47.240888</td>\n      <td>США</td>\n      <td>3541698</td>\n      <td>43057.000000</td>\n      <td>46094.571429</td>\n      <td>3.478971e+06</td>\n      <td>3.408808e+06</td>\n      <td>3478</td>\n      <td>14582</td>\n    </tr>\n    <tr>\n      <th>5183</th>\n      <td>2020-08-24</td>\n      <td>3622861</td>\n      <td>2976256</td>\n      <td>115309</td>\n      <td>17078</td>\n      <td>28472</td>\n      <td>565</td>\n      <td>0.747</td>\n      <td>1.045</td>\n      <td>15.320350</td>\n      <td>7.086684</td>\n      <td>Бразилия</td>\n      <td>531296</td>\n      <td>37613.000000</td>\n      <td>40385.071429</td>\n      <td>5.467579e+05</td>\n      <td>5.575374e+05</td>\n      <td>-6343</td>\n      <td>-11959</td>\n    </tr>\n    <tr>\n      <th>12743</th>\n      <td>2020-08-24</td>\n      <td>3167323</td>\n      <td>2404585</td>\n      <td>58390</td>\n      <td>60975</td>\n      <td>66550</td>\n      <td>848</td>\n      <td>1.013</td>\n      <td>1.096</td>\n      <td>13.393972</td>\n      <td>9.394936</td>\n      <td>Индия</td>\n      <td>704348</td>\n      <td>66377.428571</td>\n      <td>64189.142857</td>\n      <td>6.964416e+05</td>\n      <td>6.807166e+05</td>\n      <td>-433</td>\n      <td>-6423</td>\n    </tr>\n    <tr>\n      <th>27863</th>\n      <td>2020-08-24</td>\n      <td>959016</td>\n      <td>771357</td>\n      <td>16406</td>\n      <td>4688</td>\n      <td>2451</td>\n      <td>65</td>\n      <td>1.004</td>\n      <td>1.021</td>\n      <td>4.055486</td>\n      <td>2.284256</td>\n      <td>Россия</td>\n      <td>171253</td>\n      <td>4779.714286</td>\n      <td>4872.642857</td>\n      <td>1.701917e+05</td>\n      <td>1.726635e+05</td>\n      <td>-109</td>\n      <td>2172</td>\n    </tr>\n    <tr>\n      <th>39743</th>\n      <td>2020-08-24</td>\n      <td>611450</td>\n      <td>516494</td>\n      <td>13159</td>\n      <td>1677</td>\n      <td>10024</td>\n      <td>100</td>\n      <td>0.914</td>\n      <td>1.023</td>\n      <td>2.585699</td>\n      <td>1.091048</td>\n      <td>ЮАР</td>\n      <td>81797</td>\n      <td>3080.571429</td>\n      <td>3418.000000</td>\n      <td>8.987514e+04</td>\n      <td>1.016046e+05</td>\n      <td>-1051</td>\n      <td>-8447</td>\n    </tr>\n    <tr>\n      <th>26999</th>\n      <td>2020-08-24</td>\n      <td>594326</td>\n      <td>399357</td>\n      <td>27663</td>\n      <td>9090</td>\n      <td>0</td>\n      <td>210</td>\n      <td>1.101</td>\n      <td>1.063</td>\n      <td>2.513285</td>\n      <td>2.231609</td>\n      <td>Перу</td>\n      <td>167306</td>\n      <td>8340.000000</td>\n      <td>7942.357143</td>\n      <td>1.557397e+05</td>\n      <td>1.450196e+05</td>\n      <td>-79</td>\n      <td>8880</td>\n    </tr>\n    <tr>\n      <th>22463</th>\n      <td>2020-08-24</td>\n      <td>563705</td>\n      <td>466209</td>\n      <td>60800</td>\n      <td>3541</td>\n      <td>8086</td>\n      <td>320</td>\n      <td>0.919</td>\n      <td>1.043</td>\n      <td>2.383795</td>\n      <td>0.489469</td>\n      <td>Мексика</td>\n      <td>36696</td>\n      <td>5424.571429</td>\n      <td>5562.071429</td>\n      <td>4.066343e+04</td>\n      <td>4.138086e+04</td>\n      <td>-407</td>\n      <td>-4865</td>\n    </tr>\n    <tr>\n      <th>17063</th>\n      <td>2020-08-24</td>\n      <td>551688</td>\n      <td>384165</td>\n      <td>17612</td>\n      <td>10549</td>\n      <td>10141</td>\n      <td>296</td>\n      <td>0.837</td>\n      <td>1.078</td>\n      <td>2.332978</td>\n      <td>1.999586</td>\n      <td>Колумбия</td>\n      <td>149911</td>\n      <td>10718.285714</td>\n      <td>11004.642857</td>\n      <td>1.560661e+05</td>\n      <td>1.613874e+05</td>\n      <td>-8452</td>\n      <td>112</td>\n    </tr>\n    <tr>\n      <th>14255</th>\n      <td>2020-08-24</td>\n      <td>405436</td>\n      <td>150376</td>\n      <td>28872</td>\n      <td>19382</td>\n      <td>0</td>\n      <td>34</td>\n      <td>0.784</td>\n      <td>1.062</td>\n      <td>1.714507</td>\n      <td>3.017005</td>\n      <td>Испания</td>\n      <td>226188</td>\n      <td>6622.000000</td>\n      <td>5889.714286</td>\n      <td>2.031813e+05</td>\n      <td>1.821876e+05</td>\n      <td>19382</td>\n      <td>19348</td>\n    </tr>\n    <tr>\n      <th>37583</th>\n      <td>2020-08-24</td>\n      <td>399568</td>\n      <td>372464</td>\n      <td>10916</td>\n      <td>1903</td>\n      <td>1285</td>\n      <td>64</td>\n      <td>1.308</td>\n      <td>1.018</td>\n      <td>1.689693</td>\n      <td>0.215923</td>\n      <td>Чили</td>\n      <td>16188</td>\n      <td>1723.714286</td>\n      <td>1751.714286</td>\n      <td>1.547357e+04</td>\n      <td>1.606571e+04</td>\n      <td>-54</td>\n      <td>554</td>\n    </tr>\n    <tr>\n      <th>13607</th>\n      <td>2020-08-24</td>\n      <td>361150</td>\n      <td>311365</td>\n      <td>20776</td>\n      <td>2245</td>\n      <td>1901</td>\n      <td>133</td>\n      <td>0.918</td>\n      <td>1.025</td>\n      <td>1.527231</td>\n      <td>0.386936</td>\n      <td>Иран</td>\n      <td>29009</td>\n      <td>2242.857143</td>\n      <td>2307.571429</td>\n      <td>2.822614e+04</td>\n      <td>2.679436e+04</td>\n      <td>132</td>\n      <td>211</td>\n    </tr>\n    <tr>\n      <th>1943</th>\n      <td>2020-08-24</td>\n      <td>350867</td>\n      <td>256789</td>\n      <td>7366</td>\n      <td>8713</td>\n      <td>5389</td>\n      <td>381</td>\n      <td>1.139</td>\n      <td>1.097</td>\n      <td>1.483746</td>\n      <td>1.156607</td>\n      <td>Аргентина</td>\n      <td>86712</td>\n      <td>7391.571429</td>\n      <td>6928.500000</td>\n      <td>8.169543e+04</td>\n      <td>7.921693e+04</td>\n      <td>3361</td>\n      <td>2943</td>\n    </tr>\n    <tr>\n      <th>6263</th>\n      <td>2020-08-24</td>\n      <td>328620</td>\n      <td>1550</td>\n      <td>41519</td>\n      <td>977</td>\n      <td>3</td>\n      <td>4</td>\n      <td>1.144</td>\n      <td>1.014</td>\n      <td>1.389668</td>\n      <td>3.808818</td>\n      <td>Великобритания</td>\n      <td>285551</td>\n      <td>1079.428571</td>\n      <td>1087.714286</td>\n      <td>2.823310e+05</td>\n      <td>2.786861e+05</td>\n      <td>-71</td>\n      <td>970</td>\n    </tr>\n    <tr>\n      <th>29375</th>\n      <td>2020-08-24</td>\n      <td>308654</td>\n      <td>282888</td>\n      <td>3691</td>\n      <td>1175</td>\n      <td>2745</td>\n      <td>42</td>\n      <td>0.862</td>\n      <td>1.016</td>\n      <td>1.305236</td>\n      <td>0.294447</td>\n      <td>Саудовская Аравия</td>\n      <td>22075</td>\n      <td>1248.571429</td>\n      <td>1336.214286</td>\n      <td>2.422729e+04</td>\n      <td>2.724057e+04</td>\n      <td>66</td>\n      <td>-1612</td>\n    </tr>\n    <tr>\n      <th>2807</th>\n      <td>2020-08-24</td>\n      <td>297083</td>\n      <td>182875</td>\n      <td>3983</td>\n      <td>2485</td>\n      <td>3784</td>\n      <td>42</td>\n      <td>0.800</td>\n      <td>1.035</td>\n      <td>1.256304</td>\n      <td>1.470235</td>\n      <td>Бангладеш</td>\n      <td>110225</td>\n      <td>2562.714286</td>\n      <td>2612.571429</td>\n      <td>1.136176e+05</td>\n      <td>1.126928e+05</td>\n      <td>512</td>\n      <td>-1341</td>\n    </tr>\n  </tbody>\n</table>\n</div>"
     },
     "metadata": {},
     "execution_count": 27
    }
   ],
   "source": [
    "mask = (X.Date==myday)&(X.Country != 'Весь мир')\n",
    "#mask = (X.Date==myday)\n",
    "#Делаем выборку по доле регина в общих случаях выявления заболеваний по России\n",
    "df=X[mask].sort_values(by=['Rate_conf'],ascending = False)\n",
    "#Далее заменяем все имена если регион набрал менее 1% в общих случаях по России\n",
    "df2 = X[mask].reset_index(drop=True)\n",
    "print(len(df2))\n",
    "\n",
    "for i in range(len(df2)):\n",
    "    if df2.loc[i,'Rate_conf']<1:\n",
    "        df2.loc[i,'Country']='Страны менее 1%'\n",
    "df.head(15)"
   ]
  },
  {
   "cell_type": "code",
   "execution_count": 28,
   "metadata": {},
   "outputs": [
    {
     "output_type": "display_data",
     "data": {
      "application/vnd.plotly.v1+json": {
       "config": {
        "plotlyServerURL": "https://plot.ly"
       },
       "data": [
        {
         "domain": {
          "x": [
           0,
           1
          ],
          "y": [
           0,
           1
          ]
         },
         "hovertemplate": "Country=%{label}<br>Confirmed=%{value}<extra></extra>",
         "labels": [
          "Страны менее 1%",
          "Страны менее 1%",
          "Страны менее 1%",
          "Страны менее 1%",
          "Страны менее 1%",
          "Страны менее 1%",
          "Страны менее 1%",
          "Страны менее 1%",
          "Аргентина",
          "Страны менее 1%",
          "Страны менее 1%",
          "Страны менее 1%",
          "Бангладеш",
          "Страны менее 1%",
          "Страны менее 1%",
          "Страны менее 1%",
          "Страны менее 1%",
          "Страны менее 1%",
          "Страны менее 1%",
          "Страны менее 1%",
          "Страны менее 1%",
          "Страны менее 1%",
          "Страны менее 1%",
          "Бразилия",
          "Страны менее 1%",
          "Страны менее 1%",
          "Страны менее 1%",
          "Страны менее 1%",
          "Великобритания",
          "Страны менее 1%",
          "Страны менее 1%",
          "Страны менее 1%",
          "Страны менее 1%",
          "Страны менее 1%",
          "Страны менее 1%",
          "Страны менее 1%",
          "Страны менее 1%",
          "Страны менее 1%",
          "Страны менее 1%",
          "Страны менее 1%",
          "Страны менее 1%",
          "Страны менее 1%",
          "Страны менее 1%",
          "Страны менее 1%",
          "Страны менее 1%",
          "Страны менее 1%",
          "Страны менее 1%",
          "Страны менее 1%",
          "Страны менее 1%",
          "Страны менее 1%",
          "Страны менее 1%",
          "Страны менее 1%",
          "Страны менее 1%",
          "Страны менее 1%",
          "Страны менее 1%",
          "Страны менее 1%",
          "Страны менее 1%",
          "Индия",
          "Страны менее 1%",
          "Страны менее 1%",
          "Страны менее 1%",
          "Иран",
          "Страны менее 1%",
          "Страны менее 1%",
          "Испания",
          "Италия",
          "Страны менее 1%",
          "Страны менее 1%",
          "Страны менее 1%",
          "Страны менее 1%",
          "Страны менее 1%",
          "Страны менее 1%",
          "Страны менее 1%",
          "Страны менее 1%",
          "Страны менее 1%",
          "Страны менее 1%",
          "Страны менее 1%",
          "Колумбия",
          "Страны менее 1%",
          "Страны менее 1%",
          "Страны менее 1%",
          "Страны менее 1%",
          "Страны менее 1%",
          "Страны менее 1%",
          "Страны менее 1%",
          "Страны менее 1%",
          "Страны менее 1%",
          "Страны менее 1%",
          "Страны менее 1%",
          "Страны менее 1%",
          "Страны менее 1%",
          "Страны менее 1%",
          "Страны менее 1%",
          "Страны менее 1%",
          "Страны менее 1%",
          "Страны менее 1%",
          "Страны менее 1%",
          "Страны менее 1%",
          "Страны менее 1%",
          "Страны менее 1%",
          "Страны менее 1%",
          "Страны менее 1%",
          "Мексика",
          "Страны менее 1%",
          "Страны менее 1%",
          "Страны менее 1%",
          "Страны менее 1%",
          "Страны менее 1%",
          "Страны менее 1%",
          "Страны менее 1%",
          "Страны менее 1%",
          "Страны менее 1%",
          "Страны менее 1%",
          "Страны менее 1%",
          "Страны менее 1%",
          "Страны менее 1%",
          "Страны менее 1%",
          "Страны менее 1%",
          "Пакистан",
          "Страны менее 1%",
          "Страны менее 1%",
          "Страны менее 1%",
          "Страны менее 1%",
          "Перу",
          "Страны менее 1%",
          "Страны менее 1%",
          "Страны менее 1%",
          "Россия",
          "Страны менее 1%",
          "Страны менее 1%",
          "США",
          "Страны менее 1%",
          "Страны менее 1%",
          "Страны менее 1%",
          "Саудовская Аравия",
          "Страны менее 1%",
          "Страны менее 1%",
          "Страны менее 1%",
          "Страны менее 1%",
          "Страны менее 1%",
          "Страны менее 1%",
          "Страны менее 1%",
          "Страны менее 1%",
          "Страны менее 1%",
          "Страны менее 1%",
          "Страны менее 1%",
          "Страны менее 1%",
          "Страны менее 1%",
          "Страны менее 1%",
          "Страны менее 1%",
          "Страны менее 1%",
          "Страны менее 1%",
          "Страны менее 1%",
          "Страны менее 1%",
          "Страны менее 1%",
          "Страны менее 1%",
          "Страны менее 1%",
          "Страны менее 1%",
          "Турция",
          "Страны менее 1%",
          "Страны менее 1%",
          "Страны менее 1%",
          "Страны менее 1%",
          "Страны менее 1%",
          "Страны менее 1%",
          "Страны менее 1%",
          "Франция",
          "Страны менее 1%",
          "Страны менее 1%",
          "Страны менее 1%",
          "Страны менее 1%",
          "Страны менее 1%",
          "Чили",
          "Страны менее 1%",
          "Страны менее 1%",
          "Страны менее 1%",
          "Страны менее 1%",
          "Страны менее 1%",
          "Страны менее 1%",
          "Страны менее 1%",
          "Страны менее 1%",
          "Страны менее 1%",
          "ЮАР",
          "Страны менее 1%",
          "Страны менее 1%",
          "Страны менее 1%",
          "Страны менее 1%"
         ],
         "legendgroup": "",
         "name": "",
         "showlegend": true,
         "textinfo": "percent+label",
         "type": "pie",
         "values": [
          25053,
          25495,
          35426,
          8605,
          41858,
          2222,
          1060,
          94,
          350867,
          42825,
          38054,
          1765,
          297083,
          161,
          49719,
          70645,
          713,
          82092,
          2115,
          15386,
          110148,
          18029,
          1562,
          3622861,
          143,
          1338,
          430,
          156,
          328620,
          5191,
          40338,
          26,
          1022,
          8409,
          8110,
          1029,
          2585,
          43622,
          68533,
          9076,
          2149,
          236122,
          55479,
          24,
          8819,
          1421,
          9842,
          16821,
          5383,
          20,
          91608,
          97478,
          11148,
          10,
          19213,
          6070,
          104472,
          3167323,
          155412,
          1639,
          207985,
          361150,
          28116,
          2073,
          405436,
          260298,
          1916,
          3532,
          104902,
          273,
          18762,
          127594,
          117266,
          32557,
          1451,
          43126,
          90205,
          551688,
          417,
          12448,
          34463,
          17506,
          3717,
          80960,
          22,
          1337,
          1015,
          1290,
          13155,
          11009,
          2673,
          100,
          7794,
          347,
          6928,
          14402,
          5419,
          9274,
          2708,
          6912,
          1667,
          53252,
          563705,
          3440,
          33828,
          154,
          298,
          474,
          6030,
          32678,
          1172,
          52548,
          69224,
          4311,
          1690,
          10395,
          67282,
          84509,
          293261,
          87485,
          12,
          401,
          13602,
          594326,
          62310,
          55720,
          3979,
          959016,
          3306,
          79330,
          5739724,
          24811,
          704,
          892,
          308654,
          13673,
          132,
          13013,
          58,
          17,
          26,
          30714,
          56404,
          2293,
          3424,
          2665,
          3269,
          12903,
          712,
          9,
          3632,
          1997,
          8346,
          3402,
          509,
          1295,
          1099,
          2893,
          259692,
          2362,
          39348,
          109234,
          1533,
          28,
          194252,
          7938,
          282414,
          8311,
          4679,
          987,
          4378,
          22181,
          399568,
          40060,
          86721,
          2959,
          108289,
          4926,
          306,
          4304,
          2275,
          42143,
          611450,
          17945,
          2504,
          1612,
          63158
         ]
        }
       ],
       "layout": {
        "height": 1000,
        "legend": {
         "tracegroupgap": 0
        },
        "margin": {
         "b": 0,
         "t": 150
        },
        "piecolorway": [
         "rgb(150,0,90)",
         "rgb(0,0,200)",
         "rgb(0,25,255)",
         "rgb(0,152,255)",
         "rgb(44,255,150)",
         "rgb(151,255,0)",
         "rgb(255,234,0)",
         "rgb(255,111,0)",
         "rgb(255,0,0)"
        ],
        "template": {
         "data": {
          "bar": [
           {
            "error_x": {
             "color": "#2a3f5f"
            },
            "error_y": {
             "color": "#2a3f5f"
            },
            "marker": {
             "line": {
              "color": "#E5ECF6",
              "width": 0.5
             }
            },
            "type": "bar"
           }
          ],
          "barpolar": [
           {
            "marker": {
             "line": {
              "color": "#E5ECF6",
              "width": 0.5
             }
            },
            "type": "barpolar"
           }
          ],
          "carpet": [
           {
            "aaxis": {
             "endlinecolor": "#2a3f5f",
             "gridcolor": "white",
             "linecolor": "white",
             "minorgridcolor": "white",
             "startlinecolor": "#2a3f5f"
            },
            "baxis": {
             "endlinecolor": "#2a3f5f",
             "gridcolor": "white",
             "linecolor": "white",
             "minorgridcolor": "white",
             "startlinecolor": "#2a3f5f"
            },
            "type": "carpet"
           }
          ],
          "choropleth": [
           {
            "colorbar": {
             "outlinewidth": 0,
             "ticks": ""
            },
            "type": "choropleth"
           }
          ],
          "contour": [
           {
            "colorbar": {
             "outlinewidth": 0,
             "ticks": ""
            },
            "colorscale": [
             [
              0,
              "#0d0887"
             ],
             [
              0.1111111111111111,
              "#46039f"
             ],
             [
              0.2222222222222222,
              "#7201a8"
             ],
             [
              0.3333333333333333,
              "#9c179e"
             ],
             [
              0.4444444444444444,
              "#bd3786"
             ],
             [
              0.5555555555555556,
              "#d8576b"
             ],
             [
              0.6666666666666666,
              "#ed7953"
             ],
             [
              0.7777777777777778,
              "#fb9f3a"
             ],
             [
              0.8888888888888888,
              "#fdca26"
             ],
             [
              1,
              "#f0f921"
             ]
            ],
            "type": "contour"
           }
          ],
          "contourcarpet": [
           {
            "colorbar": {
             "outlinewidth": 0,
             "ticks": ""
            },
            "type": "contourcarpet"
           }
          ],
          "heatmap": [
           {
            "colorbar": {
             "outlinewidth": 0,
             "ticks": ""
            },
            "colorscale": [
             [
              0,
              "#0d0887"
             ],
             [
              0.1111111111111111,
              "#46039f"
             ],
             [
              0.2222222222222222,
              "#7201a8"
             ],
             [
              0.3333333333333333,
              "#9c179e"
             ],
             [
              0.4444444444444444,
              "#bd3786"
             ],
             [
              0.5555555555555556,
              "#d8576b"
             ],
             [
              0.6666666666666666,
              "#ed7953"
             ],
             [
              0.7777777777777778,
              "#fb9f3a"
             ],
             [
              0.8888888888888888,
              "#fdca26"
             ],
             [
              1,
              "#f0f921"
             ]
            ],
            "type": "heatmap"
           }
          ],
          "heatmapgl": [
           {
            "colorbar": {
             "outlinewidth": 0,
             "ticks": ""
            },
            "colorscale": [
             [
              0,
              "#0d0887"
             ],
             [
              0.1111111111111111,
              "#46039f"
             ],
             [
              0.2222222222222222,
              "#7201a8"
             ],
             [
              0.3333333333333333,
              "#9c179e"
             ],
             [
              0.4444444444444444,
              "#bd3786"
             ],
             [
              0.5555555555555556,
              "#d8576b"
             ],
             [
              0.6666666666666666,
              "#ed7953"
             ],
             [
              0.7777777777777778,
              "#fb9f3a"
             ],
             [
              0.8888888888888888,
              "#fdca26"
             ],
             [
              1,
              "#f0f921"
             ]
            ],
            "type": "heatmapgl"
           }
          ],
          "histogram": [
           {
            "marker": {
             "colorbar": {
              "outlinewidth": 0,
              "ticks": ""
             }
            },
            "type": "histogram"
           }
          ],
          "histogram2d": [
           {
            "colorbar": {
             "outlinewidth": 0,
             "ticks": ""
            },
            "colorscale": [
             [
              0,
              "#0d0887"
             ],
             [
              0.1111111111111111,
              "#46039f"
             ],
             [
              0.2222222222222222,
              "#7201a8"
             ],
             [
              0.3333333333333333,
              "#9c179e"
             ],
             [
              0.4444444444444444,
              "#bd3786"
             ],
             [
              0.5555555555555556,
              "#d8576b"
             ],
             [
              0.6666666666666666,
              "#ed7953"
             ],
             [
              0.7777777777777778,
              "#fb9f3a"
             ],
             [
              0.8888888888888888,
              "#fdca26"
             ],
             [
              1,
              "#f0f921"
             ]
            ],
            "type": "histogram2d"
           }
          ],
          "histogram2dcontour": [
           {
            "colorbar": {
             "outlinewidth": 0,
             "ticks": ""
            },
            "colorscale": [
             [
              0,
              "#0d0887"
             ],
             [
              0.1111111111111111,
              "#46039f"
             ],
             [
              0.2222222222222222,
              "#7201a8"
             ],
             [
              0.3333333333333333,
              "#9c179e"
             ],
             [
              0.4444444444444444,
              "#bd3786"
             ],
             [
              0.5555555555555556,
              "#d8576b"
             ],
             [
              0.6666666666666666,
              "#ed7953"
             ],
             [
              0.7777777777777778,
              "#fb9f3a"
             ],
             [
              0.8888888888888888,
              "#fdca26"
             ],
             [
              1,
              "#f0f921"
             ]
            ],
            "type": "histogram2dcontour"
           }
          ],
          "mesh3d": [
           {
            "colorbar": {
             "outlinewidth": 0,
             "ticks": ""
            },
            "type": "mesh3d"
           }
          ],
          "parcoords": [
           {
            "line": {
             "colorbar": {
              "outlinewidth": 0,
              "ticks": ""
             }
            },
            "type": "parcoords"
           }
          ],
          "pie": [
           {
            "automargin": true,
            "type": "pie"
           }
          ],
          "scatter": [
           {
            "marker": {
             "colorbar": {
              "outlinewidth": 0,
              "ticks": ""
             }
            },
            "type": "scatter"
           }
          ],
          "scatter3d": [
           {
            "line": {
             "colorbar": {
              "outlinewidth": 0,
              "ticks": ""
             }
            },
            "marker": {
             "colorbar": {
              "outlinewidth": 0,
              "ticks": ""
             }
            },
            "type": "scatter3d"
           }
          ],
          "scattercarpet": [
           {
            "marker": {
             "colorbar": {
              "outlinewidth": 0,
              "ticks": ""
             }
            },
            "type": "scattercarpet"
           }
          ],
          "scattergeo": [
           {
            "marker": {
             "colorbar": {
              "outlinewidth": 0,
              "ticks": ""
             }
            },
            "type": "scattergeo"
           }
          ],
          "scattergl": [
           {
            "marker": {
             "colorbar": {
              "outlinewidth": 0,
              "ticks": ""
             }
            },
            "type": "scattergl"
           }
          ],
          "scattermapbox": [
           {
            "marker": {
             "colorbar": {
              "outlinewidth": 0,
              "ticks": ""
             }
            },
            "type": "scattermapbox"
           }
          ],
          "scatterpolar": [
           {
            "marker": {
             "colorbar": {
              "outlinewidth": 0,
              "ticks": ""
             }
            },
            "type": "scatterpolar"
           }
          ],
          "scatterpolargl": [
           {
            "marker": {
             "colorbar": {
              "outlinewidth": 0,
              "ticks": ""
             }
            },
            "type": "scatterpolargl"
           }
          ],
          "scatterternary": [
           {
            "marker": {
             "colorbar": {
              "outlinewidth": 0,
              "ticks": ""
             }
            },
            "type": "scatterternary"
           }
          ],
          "surface": [
           {
            "colorbar": {
             "outlinewidth": 0,
             "ticks": ""
            },
            "colorscale": [
             [
              0,
              "#0d0887"
             ],
             [
              0.1111111111111111,
              "#46039f"
             ],
             [
              0.2222222222222222,
              "#7201a8"
             ],
             [
              0.3333333333333333,
              "#9c179e"
             ],
             [
              0.4444444444444444,
              "#bd3786"
             ],
             [
              0.5555555555555556,
              "#d8576b"
             ],
             [
              0.6666666666666666,
              "#ed7953"
             ],
             [
              0.7777777777777778,
              "#fb9f3a"
             ],
             [
              0.8888888888888888,
              "#fdca26"
             ],
             [
              1,
              "#f0f921"
             ]
            ],
            "type": "surface"
           }
          ],
          "table": [
           {
            "cells": {
             "fill": {
              "color": "#EBF0F8"
             },
             "line": {
              "color": "white"
             }
            },
            "header": {
             "fill": {
              "color": "#C8D4E3"
             },
             "line": {
              "color": "white"
             }
            },
            "type": "table"
           }
          ]
         },
         "layout": {
          "annotationdefaults": {
           "arrowcolor": "#2a3f5f",
           "arrowhead": 0,
           "arrowwidth": 1
          },
          "coloraxis": {
           "colorbar": {
            "outlinewidth": 0,
            "ticks": ""
           }
          },
          "colorscale": {
           "diverging": [
            [
             0,
             "#8e0152"
            ],
            [
             0.1,
             "#c51b7d"
            ],
            [
             0.2,
             "#de77ae"
            ],
            [
             0.3,
             "#f1b6da"
            ],
            [
             0.4,
             "#fde0ef"
            ],
            [
             0.5,
             "#f7f7f7"
            ],
            [
             0.6,
             "#e6f5d0"
            ],
            [
             0.7,
             "#b8e186"
            ],
            [
             0.8,
             "#7fbc41"
            ],
            [
             0.9,
             "#4d9221"
            ],
            [
             1,
             "#276419"
            ]
           ],
           "sequential": [
            [
             0,
             "#0d0887"
            ],
            [
             0.1111111111111111,
             "#46039f"
            ],
            [
             0.2222222222222222,
             "#7201a8"
            ],
            [
             0.3333333333333333,
             "#9c179e"
            ],
            [
             0.4444444444444444,
             "#bd3786"
            ],
            [
             0.5555555555555556,
             "#d8576b"
            ],
            [
             0.6666666666666666,
             "#ed7953"
            ],
            [
             0.7777777777777778,
             "#fb9f3a"
            ],
            [
             0.8888888888888888,
             "#fdca26"
            ],
            [
             1,
             "#f0f921"
            ]
           ],
           "sequentialminus": [
            [
             0,
             "#0d0887"
            ],
            [
             0.1111111111111111,
             "#46039f"
            ],
            [
             0.2222222222222222,
             "#7201a8"
            ],
            [
             0.3333333333333333,
             "#9c179e"
            ],
            [
             0.4444444444444444,
             "#bd3786"
            ],
            [
             0.5555555555555556,
             "#d8576b"
            ],
            [
             0.6666666666666666,
             "#ed7953"
            ],
            [
             0.7777777777777778,
             "#fb9f3a"
            ],
            [
             0.8888888888888888,
             "#fdca26"
            ],
            [
             1,
             "#f0f921"
            ]
           ]
          },
          "colorway": [
           "#636efa",
           "#EF553B",
           "#00cc96",
           "#ab63fa",
           "#FFA15A",
           "#19d3f3",
           "#FF6692",
           "#B6E880",
           "#FF97FF",
           "#FECB52"
          ],
          "font": {
           "color": "#2a3f5f"
          },
          "geo": {
           "bgcolor": "white",
           "lakecolor": "white",
           "landcolor": "#E5ECF6",
           "showlakes": true,
           "showland": true,
           "subunitcolor": "white"
          },
          "hoverlabel": {
           "align": "left"
          },
          "hovermode": "closest",
          "mapbox": {
           "style": "light"
          },
          "paper_bgcolor": "white",
          "plot_bgcolor": "#E5ECF6",
          "polar": {
           "angularaxis": {
            "gridcolor": "white",
            "linecolor": "white",
            "ticks": ""
           },
           "bgcolor": "#E5ECF6",
           "radialaxis": {
            "gridcolor": "white",
            "linecolor": "white",
            "ticks": ""
           }
          },
          "scene": {
           "xaxis": {
            "backgroundcolor": "#E5ECF6",
            "gridcolor": "white",
            "gridwidth": 2,
            "linecolor": "white",
            "showbackground": true,
            "ticks": "",
            "zerolinecolor": "white"
           },
           "yaxis": {
            "backgroundcolor": "#E5ECF6",
            "gridcolor": "white",
            "gridwidth": 2,
            "linecolor": "white",
            "showbackground": true,
            "ticks": "",
            "zerolinecolor": "white"
           },
           "zaxis": {
            "backgroundcolor": "#E5ECF6",
            "gridcolor": "white",
            "gridwidth": 2,
            "linecolor": "white",
            "showbackground": true,
            "ticks": "",
            "zerolinecolor": "white"
           }
          },
          "shapedefaults": {
           "line": {
            "color": "#2a3f5f"
           }
          },
          "ternary": {
           "aaxis": {
            "gridcolor": "white",
            "linecolor": "white",
            "ticks": ""
           },
           "baxis": {
            "gridcolor": "white",
            "linecolor": "white",
            "ticks": ""
           },
           "bgcolor": "#E5ECF6",
           "caxis": {
            "gridcolor": "white",
            "linecolor": "white",
            "ticks": ""
           }
          },
          "title": {
           "x": 0.05
          },
          "xaxis": {
           "automargin": true,
           "gridcolor": "white",
           "linecolor": "white",
           "ticks": "",
           "title": {
            "standoff": 15
           },
           "zerolinecolor": "white",
           "zerolinewidth": 2
          },
          "yaxis": {
           "automargin": true,
           "gridcolor": "white",
           "linecolor": "white",
           "ticks": "",
           "title": {
            "standoff": 15
           },
           "zerolinecolor": "white",
           "zerolinewidth": 2
          }
         }
        },
        "title": {
         "text": "Всего выявленных случаев заболевания COVID-19 в мире: 23647377<br>(на дату: 2020-08-24)",
         "x": 0.5,
         "xanchor": "center",
         "y": 0.9,
         "yanchor": "bottom"
        },
        "width": 990
       }
      }
     },
     "metadata": {}
    }
   ],
   "source": [
    "\n",
    "\n",
    "\n",
    "fig = px.pie(df2, values='Confirmed', names='Country',color_discrete_sequence=px.colors.sequential.Rainbow,\n",
    "            title=f'Всего выявленных случаев заболевания COVID-19 в мире: {df2.Confirmed.sum()}<br>'+\n",
    "            f'(на дату: {myday})'\n",
    "            ,\n",
    "            width = 990, height=1000)\n",
    "\n",
    "fig.update_traces(textinfo='percent+label')\n",
    "fig.update_layout(\n",
    "        \n",
    "                #  title=f'{my_region}: динамика текущих больных COVID-19 по дням<br>(изменение относительно предыдущего дня)',\n",
    "                  margin = {'t':150, 'b':0},\n",
    "                  title_x = 0.5,\n",
    "                  title_y= 0.9,\n",
    "                  title_xanchor = \"center\",\n",
    "                  title_yanchor = \"bottom\", \n",
    "                 # legend_x = 0.05,legend_y = 0.98,\n",
    "                     \n",
    ")\n",
    "\n",
    "fig.show()\n",
    "\n"
   ]
  },
  {
   "cell_type": "code",
   "execution_count": 29,
   "metadata": {
    "tags": []
   },
   "outputs": [
    {
     "output_type": "stream",
     "name": "stdout",
     "text": "187\n"
    },
    {
     "output_type": "execute_result",
     "data": {
      "text/plain": "             Date  Confirmed  Recovered  Deaths  Day_confirmed  Day_recovered  \\\n28511  2020-08-24    5739724    2020774  177252          38045          23013   \n12743  2020-08-24    3167323    2404585   58390          60975          66550   \n5183   2020-08-24    3622861    2976256  115309          17078          28472   \n6263   2020-08-24     328620       1550   41519            977              3   \n14255  2020-08-24     405436     150376   28872          19382              0   \n27863  2020-08-24     959016     771357   16406           4688           2451   \n26999  2020-08-24     594326     399357   27663           9090              0   \n36287  2020-08-24     282414      85352   30533           1955            227   \n17063  2020-08-24     551688     384165   17612          10549          10141   \n2807   2020-08-24     297083     182875    3983           2485           3784   \n1943   2020-08-24     350867     256789    7366           8713           5389   \n39743  2020-08-24     611450     516494   13159           1677          10024   \n38015  2020-08-24      86721          0    5813            653              0   \n24623  2020-08-24      69224        649    6227            654              7   \n35855  2020-08-24     194252     132042    3010           4651            675   \n4535   2020-08-24     110148      47050    4578            999           1654   \n3887   2020-08-24      82092      18242    9996            156             17   \n35207  2020-08-24     109234      54262    2335           1855            294   \n13391  2020-08-24     207985     150389    6519           3644           3980   \n9503   2020-08-24      55479       8556    1683            968             24   \n\n       Day_deaths     Rt    Rt2  Rate_conf   Rate_ill         Country  \\\n28511         450  0.972  1.032  24.272138  47.240888             США   \n12743         848  1.013  1.096  13.393972   9.394936           Индия   \n5183          565  0.747  1.045  15.320350   7.086684        Бразилия   \n6263            4  1.144  1.014   1.389668   3.808818  Великобритания   \n14255          34  0.784  1.062   1.714507   3.017005         Испания   \n27863          65  1.004  1.021   4.055486   2.284256          Россия   \n26999         210  1.101  1.063   2.513285   2.231609            Перу   \n36287          15  7.251  1.082   1.194272   2.221245         Франция   \n17063         296  0.837  1.078   2.332978   1.999586        Колумбия   \n2807           42  0.800  1.035   1.256304   1.470235       Бангладеш   \n1943          381  1.139  1.097   1.483746   1.156607       Аргентина   \n39743         100  0.914  1.023   2.585699   1.091048             ЮАР   \n38015           3  0.601  1.010   0.366726   1.079190          Швеция   \n24623           2  1.003  1.037   0.292734   0.831628      Нидерланды   \n35855          12  0.968  1.099   0.821453   0.789638       Филиппины   \n4535           69  0.714  1.048   0.465794   0.780568         Боливия   \n3887            4  1.032  1.029   0.347151   0.718331         Бельгия   \n35207          22  1.151  1.086   0.461929   0.702098         Украина   \n13391          91  0.957  1.086   0.879527   0.681290            Ирак   \n9503           29  1.148  1.046   0.234610   0.603433        Гондурас   \n\n       Remaining_ill  MA7_dayconfirmed  MA14_dayconfirmed  MA7_remaining_ill  \\\n28511        3541698      43057.000000       46094.571429       3.478971e+06   \n12743         704348      66377.428571       64189.142857       6.964416e+05   \n5183          531296      37613.000000       40385.071429       5.467579e+05   \n6263          285551       1079.428571        1087.714286       2.823310e+05   \n14255         226188       6622.000000        5889.714286       2.031813e+05   \n27863         171253       4779.714286        4872.642857       1.701917e+05   \n26999         167306       8340.000000        7942.357143       1.557397e+05   \n36287         166529       3697.285714        3076.071429       1.533453e+05   \n17063         149911      10718.285714       11004.642857       1.560661e+05   \n2807          110225       2562.714286        2612.571429       1.136176e+05   \n1943           86712       7391.571429        6928.500000       8.169543e+04   \n39743          81797       3080.571429        3418.000000       8.987514e+04   \n38015          80908        239.428571         267.785714       8.010357e+04   \n24623          62348        606.285714         654.714286       6.065071e+04   \n35855          59200       4254.000000        4115.285714       6.012743e+04   \n4535           58520       1275.000000        1322.357143       6.007357e+04   \n3887           53854        508.285714         533.714286       5.256943e+04   \n35207          52637       2032.428571        1815.857143       4.812414e+04   \n13391          51077       3978.857143        3884.714286       4.982500e+04   \n9503           45240        640.571429         543.357143       4.361300e+04   \n\n       MA14_remaining_ill  Change_dayconf  Change_remill  \n28511        3.408808e+06            3478          14582  \n12743        6.807166e+05            -433          -6423  \n5183         5.575374e+05           -6343         -11959  \n6263         2.786861e+05             -71            970  \n14255        1.821876e+05           19382          19348  \n27863        1.726635e+05            -109           2172  \n26999        1.450196e+05             -79           8880  \n36287        1.438521e+05           -2942           1713  \n17063        1.613874e+05           -8452            112  \n2807         1.126928e+05             512          -1341  \n1943         7.921693e+04            3361           2943  \n39743        1.016046e+05           -1051          -8447  \n38015        7.918779e+04             653            650  \n24623        5.858514e+04             135            645  \n35855        6.390750e+04            2299           3964  \n4535         5.955821e+04             277           -724  \n3887         5.083371e+04            -312            135  \n35207        4.393236e+04            -187           1539  \n13391        4.623950e+04             353           -427  \n9503         4.225136e+04             440            915  ",
      "text/html": "<div>\n<style scoped>\n    .dataframe tbody tr th:only-of-type {\n        vertical-align: middle;\n    }\n\n    .dataframe tbody tr th {\n        vertical-align: top;\n    }\n\n    .dataframe thead th {\n        text-align: right;\n    }\n</style>\n<table border=\"1\" class=\"dataframe\">\n  <thead>\n    <tr style=\"text-align: right;\">\n      <th></th>\n      <th>Date</th>\n      <th>Confirmed</th>\n      <th>Recovered</th>\n      <th>Deaths</th>\n      <th>Day_confirmed</th>\n      <th>Day_recovered</th>\n      <th>Day_deaths</th>\n      <th>Rt</th>\n      <th>Rt2</th>\n      <th>Rate_conf</th>\n      <th>Rate_ill</th>\n      <th>Country</th>\n      <th>Remaining_ill</th>\n      <th>MA7_dayconfirmed</th>\n      <th>MA14_dayconfirmed</th>\n      <th>MA7_remaining_ill</th>\n      <th>MA14_remaining_ill</th>\n      <th>Change_dayconf</th>\n      <th>Change_remill</th>\n    </tr>\n  </thead>\n  <tbody>\n    <tr>\n      <th>28511</th>\n      <td>2020-08-24</td>\n      <td>5739724</td>\n      <td>2020774</td>\n      <td>177252</td>\n      <td>38045</td>\n      <td>23013</td>\n      <td>450</td>\n      <td>0.972</td>\n      <td>1.032</td>\n      <td>24.272138</td>\n      <td>47.240888</td>\n      <td>США</td>\n      <td>3541698</td>\n      <td>43057.000000</td>\n      <td>46094.571429</td>\n      <td>3.478971e+06</td>\n      <td>3.408808e+06</td>\n      <td>3478</td>\n      <td>14582</td>\n    </tr>\n    <tr>\n      <th>12743</th>\n      <td>2020-08-24</td>\n      <td>3167323</td>\n      <td>2404585</td>\n      <td>58390</td>\n      <td>60975</td>\n      <td>66550</td>\n      <td>848</td>\n      <td>1.013</td>\n      <td>1.096</td>\n      <td>13.393972</td>\n      <td>9.394936</td>\n      <td>Индия</td>\n      <td>704348</td>\n      <td>66377.428571</td>\n      <td>64189.142857</td>\n      <td>6.964416e+05</td>\n      <td>6.807166e+05</td>\n      <td>-433</td>\n      <td>-6423</td>\n    </tr>\n    <tr>\n      <th>5183</th>\n      <td>2020-08-24</td>\n      <td>3622861</td>\n      <td>2976256</td>\n      <td>115309</td>\n      <td>17078</td>\n      <td>28472</td>\n      <td>565</td>\n      <td>0.747</td>\n      <td>1.045</td>\n      <td>15.320350</td>\n      <td>7.086684</td>\n      <td>Бразилия</td>\n      <td>531296</td>\n      <td>37613.000000</td>\n      <td>40385.071429</td>\n      <td>5.467579e+05</td>\n      <td>5.575374e+05</td>\n      <td>-6343</td>\n      <td>-11959</td>\n    </tr>\n    <tr>\n      <th>6263</th>\n      <td>2020-08-24</td>\n      <td>328620</td>\n      <td>1550</td>\n      <td>41519</td>\n      <td>977</td>\n      <td>3</td>\n      <td>4</td>\n      <td>1.144</td>\n      <td>1.014</td>\n      <td>1.389668</td>\n      <td>3.808818</td>\n      <td>Великобритания</td>\n      <td>285551</td>\n      <td>1079.428571</td>\n      <td>1087.714286</td>\n      <td>2.823310e+05</td>\n      <td>2.786861e+05</td>\n      <td>-71</td>\n      <td>970</td>\n    </tr>\n    <tr>\n      <th>14255</th>\n      <td>2020-08-24</td>\n      <td>405436</td>\n      <td>150376</td>\n      <td>28872</td>\n      <td>19382</td>\n      <td>0</td>\n      <td>34</td>\n      <td>0.784</td>\n      <td>1.062</td>\n      <td>1.714507</td>\n      <td>3.017005</td>\n      <td>Испания</td>\n      <td>226188</td>\n      <td>6622.000000</td>\n      <td>5889.714286</td>\n      <td>2.031813e+05</td>\n      <td>1.821876e+05</td>\n      <td>19382</td>\n      <td>19348</td>\n    </tr>\n    <tr>\n      <th>27863</th>\n      <td>2020-08-24</td>\n      <td>959016</td>\n      <td>771357</td>\n      <td>16406</td>\n      <td>4688</td>\n      <td>2451</td>\n      <td>65</td>\n      <td>1.004</td>\n      <td>1.021</td>\n      <td>4.055486</td>\n      <td>2.284256</td>\n      <td>Россия</td>\n      <td>171253</td>\n      <td>4779.714286</td>\n      <td>4872.642857</td>\n      <td>1.701917e+05</td>\n      <td>1.726635e+05</td>\n      <td>-109</td>\n      <td>2172</td>\n    </tr>\n    <tr>\n      <th>26999</th>\n      <td>2020-08-24</td>\n      <td>594326</td>\n      <td>399357</td>\n      <td>27663</td>\n      <td>9090</td>\n      <td>0</td>\n      <td>210</td>\n      <td>1.101</td>\n      <td>1.063</td>\n      <td>2.513285</td>\n      <td>2.231609</td>\n      <td>Перу</td>\n      <td>167306</td>\n      <td>8340.000000</td>\n      <td>7942.357143</td>\n      <td>1.557397e+05</td>\n      <td>1.450196e+05</td>\n      <td>-79</td>\n      <td>8880</td>\n    </tr>\n    <tr>\n      <th>36287</th>\n      <td>2020-08-24</td>\n      <td>282414</td>\n      <td>85352</td>\n      <td>30533</td>\n      <td>1955</td>\n      <td>227</td>\n      <td>15</td>\n      <td>7.251</td>\n      <td>1.082</td>\n      <td>1.194272</td>\n      <td>2.221245</td>\n      <td>Франция</td>\n      <td>166529</td>\n      <td>3697.285714</td>\n      <td>3076.071429</td>\n      <td>1.533453e+05</td>\n      <td>1.438521e+05</td>\n      <td>-2942</td>\n      <td>1713</td>\n    </tr>\n    <tr>\n      <th>17063</th>\n      <td>2020-08-24</td>\n      <td>551688</td>\n      <td>384165</td>\n      <td>17612</td>\n      <td>10549</td>\n      <td>10141</td>\n      <td>296</td>\n      <td>0.837</td>\n      <td>1.078</td>\n      <td>2.332978</td>\n      <td>1.999586</td>\n      <td>Колумбия</td>\n      <td>149911</td>\n      <td>10718.285714</td>\n      <td>11004.642857</td>\n      <td>1.560661e+05</td>\n      <td>1.613874e+05</td>\n      <td>-8452</td>\n      <td>112</td>\n    </tr>\n    <tr>\n      <th>2807</th>\n      <td>2020-08-24</td>\n      <td>297083</td>\n      <td>182875</td>\n      <td>3983</td>\n      <td>2485</td>\n      <td>3784</td>\n      <td>42</td>\n      <td>0.800</td>\n      <td>1.035</td>\n      <td>1.256304</td>\n      <td>1.470235</td>\n      <td>Бангладеш</td>\n      <td>110225</td>\n      <td>2562.714286</td>\n      <td>2612.571429</td>\n      <td>1.136176e+05</td>\n      <td>1.126928e+05</td>\n      <td>512</td>\n      <td>-1341</td>\n    </tr>\n    <tr>\n      <th>1943</th>\n      <td>2020-08-24</td>\n      <td>350867</td>\n      <td>256789</td>\n      <td>7366</td>\n      <td>8713</td>\n      <td>5389</td>\n      <td>381</td>\n      <td>1.139</td>\n      <td>1.097</td>\n      <td>1.483746</td>\n      <td>1.156607</td>\n      <td>Аргентина</td>\n      <td>86712</td>\n      <td>7391.571429</td>\n      <td>6928.500000</td>\n      <td>8.169543e+04</td>\n      <td>7.921693e+04</td>\n      <td>3361</td>\n      <td>2943</td>\n    </tr>\n    <tr>\n      <th>39743</th>\n      <td>2020-08-24</td>\n      <td>611450</td>\n      <td>516494</td>\n      <td>13159</td>\n      <td>1677</td>\n      <td>10024</td>\n      <td>100</td>\n      <td>0.914</td>\n      <td>1.023</td>\n      <td>2.585699</td>\n      <td>1.091048</td>\n      <td>ЮАР</td>\n      <td>81797</td>\n      <td>3080.571429</td>\n      <td>3418.000000</td>\n      <td>8.987514e+04</td>\n      <td>1.016046e+05</td>\n      <td>-1051</td>\n      <td>-8447</td>\n    </tr>\n    <tr>\n      <th>38015</th>\n      <td>2020-08-24</td>\n      <td>86721</td>\n      <td>0</td>\n      <td>5813</td>\n      <td>653</td>\n      <td>0</td>\n      <td>3</td>\n      <td>0.601</td>\n      <td>1.010</td>\n      <td>0.366726</td>\n      <td>1.079190</td>\n      <td>Швеция</td>\n      <td>80908</td>\n      <td>239.428571</td>\n      <td>267.785714</td>\n      <td>8.010357e+04</td>\n      <td>7.918779e+04</td>\n      <td>653</td>\n      <td>650</td>\n    </tr>\n    <tr>\n      <th>24623</th>\n      <td>2020-08-24</td>\n      <td>69224</td>\n      <td>649</td>\n      <td>6227</td>\n      <td>654</td>\n      <td>7</td>\n      <td>2</td>\n      <td>1.003</td>\n      <td>1.037</td>\n      <td>0.292734</td>\n      <td>0.831628</td>\n      <td>Нидерланды</td>\n      <td>62348</td>\n      <td>606.285714</td>\n      <td>654.714286</td>\n      <td>6.065071e+04</td>\n      <td>5.858514e+04</td>\n      <td>135</td>\n      <td>645</td>\n    </tr>\n    <tr>\n      <th>35855</th>\n      <td>2020-08-24</td>\n      <td>194252</td>\n      <td>132042</td>\n      <td>3010</td>\n      <td>4651</td>\n      <td>675</td>\n      <td>12</td>\n      <td>0.968</td>\n      <td>1.099</td>\n      <td>0.821453</td>\n      <td>0.789638</td>\n      <td>Филиппины</td>\n      <td>59200</td>\n      <td>4254.000000</td>\n      <td>4115.285714</td>\n      <td>6.012743e+04</td>\n      <td>6.390750e+04</td>\n      <td>2299</td>\n      <td>3964</td>\n    </tr>\n    <tr>\n      <th>4535</th>\n      <td>2020-08-24</td>\n      <td>110148</td>\n      <td>47050</td>\n      <td>4578</td>\n      <td>999</td>\n      <td>1654</td>\n      <td>69</td>\n      <td>0.714</td>\n      <td>1.048</td>\n      <td>0.465794</td>\n      <td>0.780568</td>\n      <td>Боливия</td>\n      <td>58520</td>\n      <td>1275.000000</td>\n      <td>1322.357143</td>\n      <td>6.007357e+04</td>\n      <td>5.955821e+04</td>\n      <td>277</td>\n      <td>-724</td>\n    </tr>\n    <tr>\n      <th>3887</th>\n      <td>2020-08-24</td>\n      <td>82092</td>\n      <td>18242</td>\n      <td>9996</td>\n      <td>156</td>\n      <td>17</td>\n      <td>4</td>\n      <td>1.032</td>\n      <td>1.029</td>\n      <td>0.347151</td>\n      <td>0.718331</td>\n      <td>Бельгия</td>\n      <td>53854</td>\n      <td>508.285714</td>\n      <td>533.714286</td>\n      <td>5.256943e+04</td>\n      <td>5.083371e+04</td>\n      <td>-312</td>\n      <td>135</td>\n    </tr>\n    <tr>\n      <th>35207</th>\n      <td>2020-08-24</td>\n      <td>109234</td>\n      <td>54262</td>\n      <td>2335</td>\n      <td>1855</td>\n      <td>294</td>\n      <td>22</td>\n      <td>1.151</td>\n      <td>1.086</td>\n      <td>0.461929</td>\n      <td>0.702098</td>\n      <td>Украина</td>\n      <td>52637</td>\n      <td>2032.428571</td>\n      <td>1815.857143</td>\n      <td>4.812414e+04</td>\n      <td>4.393236e+04</td>\n      <td>-187</td>\n      <td>1539</td>\n    </tr>\n    <tr>\n      <th>13391</th>\n      <td>2020-08-24</td>\n      <td>207985</td>\n      <td>150389</td>\n      <td>6519</td>\n      <td>3644</td>\n      <td>3980</td>\n      <td>91</td>\n      <td>0.957</td>\n      <td>1.086</td>\n      <td>0.879527</td>\n      <td>0.681290</td>\n      <td>Ирак</td>\n      <td>51077</td>\n      <td>3978.857143</td>\n      <td>3884.714286</td>\n      <td>4.982500e+04</td>\n      <td>4.623950e+04</td>\n      <td>353</td>\n      <td>-427</td>\n    </tr>\n    <tr>\n      <th>9503</th>\n      <td>2020-08-24</td>\n      <td>55479</td>\n      <td>8556</td>\n      <td>1683</td>\n      <td>968</td>\n      <td>24</td>\n      <td>29</td>\n      <td>1.148</td>\n      <td>1.046</td>\n      <td>0.234610</td>\n      <td>0.603433</td>\n      <td>Гондурас</td>\n      <td>45240</td>\n      <td>640.571429</td>\n      <td>543.357143</td>\n      <td>4.361300e+04</td>\n      <td>4.225136e+04</td>\n      <td>440</td>\n      <td>915</td>\n    </tr>\n  </tbody>\n</table>\n</div>"
     },
     "metadata": {},
     "execution_count": 29
    }
   ],
   "source": [
    "mask = (X.Date==myday)&(X.Country !='Весь мир')\n",
    "#mask = (X.Date==myday)\n",
    "#Делаем выборку по доле регина в общих случаях выявления заболеваний по России\n",
    "df=X[mask].sort_values(by=['Rate_ill'],ascending = False)\n",
    "#Далее заменяем все имена если регион набрал менее 1% в общих случаях по России\n",
    "df2 = X[mask].reset_index(drop=True)\n",
    "print(len(df2))\n",
    "\n",
    "for i in range(len(df2)):\n",
    "    if df2.loc[i,'Rate_ill']<1:\n",
    "        df2.loc[i,'Country']='Страны менее 1%'\n",
    "df.head(20)"
   ]
  },
  {
   "cell_type": "code",
   "execution_count": 30,
   "metadata": {},
   "outputs": [
    {
     "output_type": "display_data",
     "data": {
      "application/vnd.plotly.v1+json": {
       "config": {
        "plotlyServerURL": "https://plot.ly"
       },
       "data": [
        {
         "domain": {
          "x": [
           0,
           1
          ],
          "y": [
           0,
           1
          ]
         },
         "hovertemplate": "Country=%{label}<br>Remaining_ill=%{value}<extra></extra>",
         "labels": [
          "Страны менее 1%",
          "Страны менее 1%",
          "Страны менее 1%",
          "Страны менее 1%",
          "Страны менее 1%",
          "Страны менее 1%",
          "Страны менее 1%",
          "Страны менее 1%",
          "Аргентина",
          "Страны менее 1%",
          "Страны менее 1%",
          "Страны менее 1%",
          "Бангладеш",
          "Страны менее 1%",
          "Страны менее 1%",
          "Страны менее 1%",
          "Страны менее 1%",
          "Страны менее 1%",
          "Страны менее 1%",
          "Страны менее 1%",
          "Страны менее 1%",
          "Страны менее 1%",
          "Страны менее 1%",
          "Бразилия",
          "Страны менее 1%",
          "Страны менее 1%",
          "Страны менее 1%",
          "Страны менее 1%",
          "Великобритания",
          "Страны менее 1%",
          "Страны менее 1%",
          "Страны менее 1%",
          "Страны менее 1%",
          "Страны менее 1%",
          "Страны менее 1%",
          "Страны менее 1%",
          "Страны менее 1%",
          "Страны менее 1%",
          "Страны менее 1%",
          "Страны менее 1%",
          "Страны менее 1%",
          "Страны менее 1%",
          "Страны менее 1%",
          "Страны менее 1%",
          "Страны менее 1%",
          "Страны менее 1%",
          "Страны менее 1%",
          "Страны менее 1%",
          "Страны менее 1%",
          "Страны менее 1%",
          "Страны менее 1%",
          "Страны менее 1%",
          "Страны менее 1%",
          "Страны менее 1%",
          "Страны менее 1%",
          "Страны менее 1%",
          "Страны менее 1%",
          "Индия",
          "Страны менее 1%",
          "Страны менее 1%",
          "Страны менее 1%",
          "Страны менее 1%",
          "Страны менее 1%",
          "Страны менее 1%",
          "Испания",
          "Страны менее 1%",
          "Страны менее 1%",
          "Страны менее 1%",
          "Страны менее 1%",
          "Страны менее 1%",
          "Страны менее 1%",
          "Страны менее 1%",
          "Страны менее 1%",
          "Страны менее 1%",
          "Страны менее 1%",
          "Страны менее 1%",
          "Страны менее 1%",
          "Колумбия",
          "Страны менее 1%",
          "Страны менее 1%",
          "Страны менее 1%",
          "Страны менее 1%",
          "Страны менее 1%",
          "Страны менее 1%",
          "Страны менее 1%",
          "Страны менее 1%",
          "Страны менее 1%",
          "Страны менее 1%",
          "Страны менее 1%",
          "Страны менее 1%",
          "Страны менее 1%",
          "Страны менее 1%",
          "Страны менее 1%",
          "Страны менее 1%",
          "Страны менее 1%",
          "Страны менее 1%",
          "Страны менее 1%",
          "Страны менее 1%",
          "Страны менее 1%",
          "Страны менее 1%",
          "Страны менее 1%",
          "Страны менее 1%",
          "Страны менее 1%",
          "Страны менее 1%",
          "Страны менее 1%",
          "Страны менее 1%",
          "Страны менее 1%",
          "Страны менее 1%",
          "Страны менее 1%",
          "Страны менее 1%",
          "Страны менее 1%",
          "Страны менее 1%",
          "Страны менее 1%",
          "Страны менее 1%",
          "Страны менее 1%",
          "Страны менее 1%",
          "Страны менее 1%",
          "Страны менее 1%",
          "Страны менее 1%",
          "Страны менее 1%",
          "Страны менее 1%",
          "Страны менее 1%",
          "Страны менее 1%",
          "Перу",
          "Страны менее 1%",
          "Страны менее 1%",
          "Страны менее 1%",
          "Россия",
          "Страны менее 1%",
          "Страны менее 1%",
          "США",
          "Страны менее 1%",
          "Страны менее 1%",
          "Страны менее 1%",
          "Страны менее 1%",
          "Страны менее 1%",
          "Страны менее 1%",
          "Страны менее 1%",
          "Страны менее 1%",
          "Страны менее 1%",
          "Страны менее 1%",
          "Страны менее 1%",
          "Страны менее 1%",
          "Страны менее 1%",
          "Страны менее 1%",
          "Страны менее 1%",
          "Страны менее 1%",
          "Страны менее 1%",
          "Страны менее 1%",
          "Страны менее 1%",
          "Страны менее 1%",
          "Страны менее 1%",
          "Страны менее 1%",
          "Страны менее 1%",
          "Страны менее 1%",
          "Страны менее 1%",
          "Страны менее 1%",
          "Страны менее 1%",
          "Страны менее 1%",
          "Страны менее 1%",
          "Страны менее 1%",
          "Страны менее 1%",
          "Страны менее 1%",
          "Страны менее 1%",
          "Страны менее 1%",
          "Страны менее 1%",
          "Франция",
          "Страны менее 1%",
          "Страны менее 1%",
          "Страны менее 1%",
          "Страны менее 1%",
          "Страны менее 1%",
          "Страны менее 1%",
          "Страны менее 1%",
          "Швеция",
          "Страны менее 1%",
          "Страны менее 1%",
          "Страны менее 1%",
          "Страны менее 1%",
          "Страны менее 1%",
          "Страны менее 1%",
          "Страны менее 1%",
          "ЮАР",
          "Страны менее 1%",
          "Страны менее 1%",
          "Страны менее 1%",
          "Страны менее 1%"
         ],
         "legendgroup": "",
         "name": "",
         "showlegend": true,
         "textinfo": "percent+label",
         "type": "pie",
         "values": [
          4927,
          3105,
          1803,
          3938,
          11043,
          1245,
          130,
          2,
          86712,
          5922,
          8305,
          1509,
          110225,
          22,
          3223,
          1074,
          658,
          53854,
          371,
          4326,
          58520,
          5621,
          1360,
          531296,
          1,
          233,
          84,
          39,
          285551,
          883,
          8921,
          1,
          408,
          1397,
          2290,
          488,
          2008,
          1664,
          8187,
          1093,
          1101,
          18193,
          45240,
          0,
          7230,
          266,
          638,
          1537,
          50,
          2,
          28477,
          25381,
          660,
          1,
          7210,
          965,
          21983,
          704348,
          37593,
          290,
          51077,
          29009,
          2975,
          117,
          226188,
          19195,
          271,
          896,
          10082,
          10,
          1814,
          5016,
          2973,
          13108,
          553,
          5454,
          972,
          149911,
          14,
          3476,
          21343,
          1759,
          547,
          7517,
          2,
          211,
          513,
          389,
          9325,
          9714,
          822,
          9,
          564,
          2,
          488,
          788,
          2191,
          184,
          558,
          2588,
          680,
          14854,
          36696,
          1758,
          9313,
          34,
          9,
          127,
          3411,
          13715,
          19,
          12287,
          62348,
          1265,
          129,
          981,
          8324,
          4960,
          10188,
          23394,
          0,
          165,
          5734,
          167306,
          17902,
          13039,
          2159,
          171253,
          1507,
          40504,
          3541698,
          11650,
          5,
          45,
          22075,
          2955,
          6,
          4146,
          2,
          0,
          1,
          30013,
          1790,
          1682,
          1238,
          410,
          733,
          5547,
          48,
          7,
          814,
          371,
          1137,
          115,
          305,
          354,
          919,
          1368,
          15645,
          1092,
          3517,
          52637,
          196,
          4,
          59200,
          503,
          166529,
          2212,
          2863,
          41,
          874,
          5390,
          16188,
          3659,
          80908,
          136,
          7089,
          1048,
          32,
          1283,
          186,
          26189,
          81797,
          3349,
          1167,
          777,
          12868
         ]
        }
       ],
       "layout": {
        "height": 1100,
        "legend": {
         "tracegroupgap": 0
        },
        "margin": {
         "b": 0,
         "t": 120
        },
        "piecolorway": [
         "rgb(150,0,90)",
         "rgb(0,0,200)",
         "rgb(0,25,255)",
         "rgb(0,152,255)",
         "rgb(44,255,150)",
         "rgb(151,255,0)",
         "rgb(255,234,0)",
         "rgb(255,111,0)",
         "rgb(255,0,0)"
        ],
        "template": {
         "data": {
          "bar": [
           {
            "error_x": {
             "color": "#2a3f5f"
            },
            "error_y": {
             "color": "#2a3f5f"
            },
            "marker": {
             "line": {
              "color": "#E5ECF6",
              "width": 0.5
             }
            },
            "type": "bar"
           }
          ],
          "barpolar": [
           {
            "marker": {
             "line": {
              "color": "#E5ECF6",
              "width": 0.5
             }
            },
            "type": "barpolar"
           }
          ],
          "carpet": [
           {
            "aaxis": {
             "endlinecolor": "#2a3f5f",
             "gridcolor": "white",
             "linecolor": "white",
             "minorgridcolor": "white",
             "startlinecolor": "#2a3f5f"
            },
            "baxis": {
             "endlinecolor": "#2a3f5f",
             "gridcolor": "white",
             "linecolor": "white",
             "minorgridcolor": "white",
             "startlinecolor": "#2a3f5f"
            },
            "type": "carpet"
           }
          ],
          "choropleth": [
           {
            "colorbar": {
             "outlinewidth": 0,
             "ticks": ""
            },
            "type": "choropleth"
           }
          ],
          "contour": [
           {
            "colorbar": {
             "outlinewidth": 0,
             "ticks": ""
            },
            "colorscale": [
             [
              0,
              "#0d0887"
             ],
             [
              0.1111111111111111,
              "#46039f"
             ],
             [
              0.2222222222222222,
              "#7201a8"
             ],
             [
              0.3333333333333333,
              "#9c179e"
             ],
             [
              0.4444444444444444,
              "#bd3786"
             ],
             [
              0.5555555555555556,
              "#d8576b"
             ],
             [
              0.6666666666666666,
              "#ed7953"
             ],
             [
              0.7777777777777778,
              "#fb9f3a"
             ],
             [
              0.8888888888888888,
              "#fdca26"
             ],
             [
              1,
              "#f0f921"
             ]
            ],
            "type": "contour"
           }
          ],
          "contourcarpet": [
           {
            "colorbar": {
             "outlinewidth": 0,
             "ticks": ""
            },
            "type": "contourcarpet"
           }
          ],
          "heatmap": [
           {
            "colorbar": {
             "outlinewidth": 0,
             "ticks": ""
            },
            "colorscale": [
             [
              0,
              "#0d0887"
             ],
             [
              0.1111111111111111,
              "#46039f"
             ],
             [
              0.2222222222222222,
              "#7201a8"
             ],
             [
              0.3333333333333333,
              "#9c179e"
             ],
             [
              0.4444444444444444,
              "#bd3786"
             ],
             [
              0.5555555555555556,
              "#d8576b"
             ],
             [
              0.6666666666666666,
              "#ed7953"
             ],
             [
              0.7777777777777778,
              "#fb9f3a"
             ],
             [
              0.8888888888888888,
              "#fdca26"
             ],
             [
              1,
              "#f0f921"
             ]
            ],
            "type": "heatmap"
           }
          ],
          "heatmapgl": [
           {
            "colorbar": {
             "outlinewidth": 0,
             "ticks": ""
            },
            "colorscale": [
             [
              0,
              "#0d0887"
             ],
             [
              0.1111111111111111,
              "#46039f"
             ],
             [
              0.2222222222222222,
              "#7201a8"
             ],
             [
              0.3333333333333333,
              "#9c179e"
             ],
             [
              0.4444444444444444,
              "#bd3786"
             ],
             [
              0.5555555555555556,
              "#d8576b"
             ],
             [
              0.6666666666666666,
              "#ed7953"
             ],
             [
              0.7777777777777778,
              "#fb9f3a"
             ],
             [
              0.8888888888888888,
              "#fdca26"
             ],
             [
              1,
              "#f0f921"
             ]
            ],
            "type": "heatmapgl"
           }
          ],
          "histogram": [
           {
            "marker": {
             "colorbar": {
              "outlinewidth": 0,
              "ticks": ""
             }
            },
            "type": "histogram"
           }
          ],
          "histogram2d": [
           {
            "colorbar": {
             "outlinewidth": 0,
             "ticks": ""
            },
            "colorscale": [
             [
              0,
              "#0d0887"
             ],
             [
              0.1111111111111111,
              "#46039f"
             ],
             [
              0.2222222222222222,
              "#7201a8"
             ],
             [
              0.3333333333333333,
              "#9c179e"
             ],
             [
              0.4444444444444444,
              "#bd3786"
             ],
             [
              0.5555555555555556,
              "#d8576b"
             ],
             [
              0.6666666666666666,
              "#ed7953"
             ],
             [
              0.7777777777777778,
              "#fb9f3a"
             ],
             [
              0.8888888888888888,
              "#fdca26"
             ],
             [
              1,
              "#f0f921"
             ]
            ],
            "type": "histogram2d"
           }
          ],
          "histogram2dcontour": [
           {
            "colorbar": {
             "outlinewidth": 0,
             "ticks": ""
            },
            "colorscale": [
             [
              0,
              "#0d0887"
             ],
             [
              0.1111111111111111,
              "#46039f"
             ],
             [
              0.2222222222222222,
              "#7201a8"
             ],
             [
              0.3333333333333333,
              "#9c179e"
             ],
             [
              0.4444444444444444,
              "#bd3786"
             ],
             [
              0.5555555555555556,
              "#d8576b"
             ],
             [
              0.6666666666666666,
              "#ed7953"
             ],
             [
              0.7777777777777778,
              "#fb9f3a"
             ],
             [
              0.8888888888888888,
              "#fdca26"
             ],
             [
              1,
              "#f0f921"
             ]
            ],
            "type": "histogram2dcontour"
           }
          ],
          "mesh3d": [
           {
            "colorbar": {
             "outlinewidth": 0,
             "ticks": ""
            },
            "type": "mesh3d"
           }
          ],
          "parcoords": [
           {
            "line": {
             "colorbar": {
              "outlinewidth": 0,
              "ticks": ""
             }
            },
            "type": "parcoords"
           }
          ],
          "pie": [
           {
            "automargin": true,
            "type": "pie"
           }
          ],
          "scatter": [
           {
            "marker": {
             "colorbar": {
              "outlinewidth": 0,
              "ticks": ""
             }
            },
            "type": "scatter"
           }
          ],
          "scatter3d": [
           {
            "line": {
             "colorbar": {
              "outlinewidth": 0,
              "ticks": ""
             }
            },
            "marker": {
             "colorbar": {
              "outlinewidth": 0,
              "ticks": ""
             }
            },
            "type": "scatter3d"
           }
          ],
          "scattercarpet": [
           {
            "marker": {
             "colorbar": {
              "outlinewidth": 0,
              "ticks": ""
             }
            },
            "type": "scattercarpet"
           }
          ],
          "scattergeo": [
           {
            "marker": {
             "colorbar": {
              "outlinewidth": 0,
              "ticks": ""
             }
            },
            "type": "scattergeo"
           }
          ],
          "scattergl": [
           {
            "marker": {
             "colorbar": {
              "outlinewidth": 0,
              "ticks": ""
             }
            },
            "type": "scattergl"
           }
          ],
          "scattermapbox": [
           {
            "marker": {
             "colorbar": {
              "outlinewidth": 0,
              "ticks": ""
             }
            },
            "type": "scattermapbox"
           }
          ],
          "scatterpolar": [
           {
            "marker": {
             "colorbar": {
              "outlinewidth": 0,
              "ticks": ""
             }
            },
            "type": "scatterpolar"
           }
          ],
          "scatterpolargl": [
           {
            "marker": {
             "colorbar": {
              "outlinewidth": 0,
              "ticks": ""
             }
            },
            "type": "scatterpolargl"
           }
          ],
          "scatterternary": [
           {
            "marker": {
             "colorbar": {
              "outlinewidth": 0,
              "ticks": ""
             }
            },
            "type": "scatterternary"
           }
          ],
          "surface": [
           {
            "colorbar": {
             "outlinewidth": 0,
             "ticks": ""
            },
            "colorscale": [
             [
              0,
              "#0d0887"
             ],
             [
              0.1111111111111111,
              "#46039f"
             ],
             [
              0.2222222222222222,
              "#7201a8"
             ],
             [
              0.3333333333333333,
              "#9c179e"
             ],
             [
              0.4444444444444444,
              "#bd3786"
             ],
             [
              0.5555555555555556,
              "#d8576b"
             ],
             [
              0.6666666666666666,
              "#ed7953"
             ],
             [
              0.7777777777777778,
              "#fb9f3a"
             ],
             [
              0.8888888888888888,
              "#fdca26"
             ],
             [
              1,
              "#f0f921"
             ]
            ],
            "type": "surface"
           }
          ],
          "table": [
           {
            "cells": {
             "fill": {
              "color": "#EBF0F8"
             },
             "line": {
              "color": "white"
             }
            },
            "header": {
             "fill": {
              "color": "#C8D4E3"
             },
             "line": {
              "color": "white"
             }
            },
            "type": "table"
           }
          ]
         },
         "layout": {
          "annotationdefaults": {
           "arrowcolor": "#2a3f5f",
           "arrowhead": 0,
           "arrowwidth": 1
          },
          "coloraxis": {
           "colorbar": {
            "outlinewidth": 0,
            "ticks": ""
           }
          },
          "colorscale": {
           "diverging": [
            [
             0,
             "#8e0152"
            ],
            [
             0.1,
             "#c51b7d"
            ],
            [
             0.2,
             "#de77ae"
            ],
            [
             0.3,
             "#f1b6da"
            ],
            [
             0.4,
             "#fde0ef"
            ],
            [
             0.5,
             "#f7f7f7"
            ],
            [
             0.6,
             "#e6f5d0"
            ],
            [
             0.7,
             "#b8e186"
            ],
            [
             0.8,
             "#7fbc41"
            ],
            [
             0.9,
             "#4d9221"
            ],
            [
             1,
             "#276419"
            ]
           ],
           "sequential": [
            [
             0,
             "#0d0887"
            ],
            [
             0.1111111111111111,
             "#46039f"
            ],
            [
             0.2222222222222222,
             "#7201a8"
            ],
            [
             0.3333333333333333,
             "#9c179e"
            ],
            [
             0.4444444444444444,
             "#bd3786"
            ],
            [
             0.5555555555555556,
             "#d8576b"
            ],
            [
             0.6666666666666666,
             "#ed7953"
            ],
            [
             0.7777777777777778,
             "#fb9f3a"
            ],
            [
             0.8888888888888888,
             "#fdca26"
            ],
            [
             1,
             "#f0f921"
            ]
           ],
           "sequentialminus": [
            [
             0,
             "#0d0887"
            ],
            [
             0.1111111111111111,
             "#46039f"
            ],
            [
             0.2222222222222222,
             "#7201a8"
            ],
            [
             0.3333333333333333,
             "#9c179e"
            ],
            [
             0.4444444444444444,
             "#bd3786"
            ],
            [
             0.5555555555555556,
             "#d8576b"
            ],
            [
             0.6666666666666666,
             "#ed7953"
            ],
            [
             0.7777777777777778,
             "#fb9f3a"
            ],
            [
             0.8888888888888888,
             "#fdca26"
            ],
            [
             1,
             "#f0f921"
            ]
           ]
          },
          "colorway": [
           "#636efa",
           "#EF553B",
           "#00cc96",
           "#ab63fa",
           "#FFA15A",
           "#19d3f3",
           "#FF6692",
           "#B6E880",
           "#FF97FF",
           "#FECB52"
          ],
          "font": {
           "color": "#2a3f5f"
          },
          "geo": {
           "bgcolor": "white",
           "lakecolor": "white",
           "landcolor": "#E5ECF6",
           "showlakes": true,
           "showland": true,
           "subunitcolor": "white"
          },
          "hoverlabel": {
           "align": "left"
          },
          "hovermode": "closest",
          "mapbox": {
           "style": "light"
          },
          "paper_bgcolor": "white",
          "plot_bgcolor": "#E5ECF6",
          "polar": {
           "angularaxis": {
            "gridcolor": "white",
            "linecolor": "white",
            "ticks": ""
           },
           "bgcolor": "#E5ECF6",
           "radialaxis": {
            "gridcolor": "white",
            "linecolor": "white",
            "ticks": ""
           }
          },
          "scene": {
           "xaxis": {
            "backgroundcolor": "#E5ECF6",
            "gridcolor": "white",
            "gridwidth": 2,
            "linecolor": "white",
            "showbackground": true,
            "ticks": "",
            "zerolinecolor": "white"
           },
           "yaxis": {
            "backgroundcolor": "#E5ECF6",
            "gridcolor": "white",
            "gridwidth": 2,
            "linecolor": "white",
            "showbackground": true,
            "ticks": "",
            "zerolinecolor": "white"
           },
           "zaxis": {
            "backgroundcolor": "#E5ECF6",
            "gridcolor": "white",
            "gridwidth": 2,
            "linecolor": "white",
            "showbackground": true,
            "ticks": "",
            "zerolinecolor": "white"
           }
          },
          "shapedefaults": {
           "line": {
            "color": "#2a3f5f"
           }
          },
          "ternary": {
           "aaxis": {
            "gridcolor": "white",
            "linecolor": "white",
            "ticks": ""
           },
           "baxis": {
            "gridcolor": "white",
            "linecolor": "white",
            "ticks": ""
           },
           "bgcolor": "#E5ECF6",
           "caxis": {
            "gridcolor": "white",
            "linecolor": "white",
            "ticks": ""
           }
          },
          "title": {
           "x": 0.05
          },
          "xaxis": {
           "automargin": true,
           "gridcolor": "white",
           "linecolor": "white",
           "ticks": "",
           "title": {
            "standoff": 15
           },
           "zerolinecolor": "white",
           "zerolinewidth": 2
          },
          "yaxis": {
           "automargin": true,
           "gridcolor": "white",
           "linecolor": "white",
           "ticks": "",
           "title": {
            "standoff": 15
           },
           "zerolinecolor": "white",
           "zerolinewidth": 2
          }
         }
        },
        "title": {
         "text": "Всего текущих больных COVID-19 в мире: 7497103<br>(на дату: 2020-08-24)",
         "x": 0.5,
         "xanchor": "center",
         "y": 0.9,
         "yanchor": "bottom"
        },
        "width": 990
       }
      }
     },
     "metadata": {}
    }
   ],
   "source": [
    "\n",
    "\n",
    "fig = px.pie(df2, values='Remaining_ill', names='Country',color_discrete_sequence=px.colors.sequential.Rainbow,\n",
    "            title=f'Всего текущих больных COVID-19 в мире: {df2.Remaining_ill.sum()}<br>'+\n",
    "            f'(на дату: {myday})'\n",
    "             ,\n",
    "            width = 990, height=1100)\n",
    "\n",
    "fig.update_traces(textinfo='percent+label')\n",
    "fig.update_layout(\n",
    "        \n",
    "                #  title=f'{my_region}: динамика текущих больных COVID-19 по дням<br>(изменение относительно предыдущего дня)',\n",
    "                  margin = {'t':120, 'b':0},\n",
    "                  title_x = 0.5,\n",
    "                  title_y= 0.9,\n",
    "                  title_xanchor = \"center\",\n",
    "                  title_yanchor = \"bottom\", \n",
    "                 # legend_x = 0.05,legend_y = 0.98,\n",
    "                     \n",
    ")\n",
    "\n",
    "fig.show()\n"
   ]
  },
  {
   "cell_type": "code",
   "execution_count": 31,
   "metadata": {
    "tags": []
   },
   "outputs": [
    {
     "output_type": "stream",
     "name": "stdout",
     "text": "23 Бразилия\n28 Великобритания\n58 Индия\n65 Испания\n131 США\n"
    }
   ],
   "source": [
    "covid_rates = pd.DataFrame()\n",
    "mask = (X.Date>=datetime.date(2020,8,2))&(X.Date<=datetime.date(2020,8,9))&(X.Country.isin(country_towatch))&(X.Country!='Весь мир')\n",
    "                                      \n",
    "box_cases1 = X[mask].groupby(['Country','Date'])['Day_confirmed'].sum()\n",
    "box_cases2 = X[mask].groupby(['Country','Date'])['Day_recovered'].sum()\n",
    "for i in country_dict.keys():\n",
    "    if country_dict.get(i) in country_towatch:\n",
    "        print(i,country_dict.get(i))"
   ]
  },
  {
   "cell_type": "code",
   "execution_count": 32,
   "metadata": {},
   "outputs": [
    {
     "output_type": "execute_result",
     "data": {
      "text/plain": "Country     Бразилия  Великобритания  Индия  Испания    США\nDate                                                       \n2020-08-02     25800             747  52972        0  47580\n2020-08-03     16641             942  52050     8532  45368\n2020-08-04     51603             675  52509     5760  57540\n2020-08-05     57152             906  56282     2953  52810\n2020-08-06     53139             964  62538     4088  59692\n2020-08-07     50230             900  61537     4507  58173\n2020-08-08     49970             765  64399        0  56174\n2020-08-09     23010            1113  62064        0  46935",
      "text/html": "<div>\n<style scoped>\n    .dataframe tbody tr th:only-of-type {\n        vertical-align: middle;\n    }\n\n    .dataframe tbody tr th {\n        vertical-align: top;\n    }\n\n    .dataframe thead th {\n        text-align: right;\n    }\n</style>\n<table border=\"1\" class=\"dataframe\">\n  <thead>\n    <tr style=\"text-align: right;\">\n      <th>Country</th>\n      <th>Бразилия</th>\n      <th>Великобритания</th>\n      <th>Индия</th>\n      <th>Испания</th>\n      <th>США</th>\n    </tr>\n    <tr>\n      <th>Date</th>\n      <th></th>\n      <th></th>\n      <th></th>\n      <th></th>\n      <th></th>\n    </tr>\n  </thead>\n  <tbody>\n    <tr>\n      <th>2020-08-02</th>\n      <td>25800</td>\n      <td>747</td>\n      <td>52972</td>\n      <td>0</td>\n      <td>47580</td>\n    </tr>\n    <tr>\n      <th>2020-08-03</th>\n      <td>16641</td>\n      <td>942</td>\n      <td>52050</td>\n      <td>8532</td>\n      <td>45368</td>\n    </tr>\n    <tr>\n      <th>2020-08-04</th>\n      <td>51603</td>\n      <td>675</td>\n      <td>52509</td>\n      <td>5760</td>\n      <td>57540</td>\n    </tr>\n    <tr>\n      <th>2020-08-05</th>\n      <td>57152</td>\n      <td>906</td>\n      <td>56282</td>\n      <td>2953</td>\n      <td>52810</td>\n    </tr>\n    <tr>\n      <th>2020-08-06</th>\n      <td>53139</td>\n      <td>964</td>\n      <td>62538</td>\n      <td>4088</td>\n      <td>59692</td>\n    </tr>\n    <tr>\n      <th>2020-08-07</th>\n      <td>50230</td>\n      <td>900</td>\n      <td>61537</td>\n      <td>4507</td>\n      <td>58173</td>\n    </tr>\n    <tr>\n      <th>2020-08-08</th>\n      <td>49970</td>\n      <td>765</td>\n      <td>64399</td>\n      <td>0</td>\n      <td>56174</td>\n    </tr>\n    <tr>\n      <th>2020-08-09</th>\n      <td>23010</td>\n      <td>1113</td>\n      <td>62064</td>\n      <td>0</td>\n      <td>46935</td>\n    </tr>\n  </tbody>\n</table>\n</div>"
     },
     "metadata": {},
     "execution_count": 32
    }
   ],
   "source": [
    "new_df1=box_cases1.unstack().T\n",
    "new_df1.tail(20)"
   ]
  },
  {
   "cell_type": "code",
   "execution_count": 33,
   "metadata": {},
   "outputs": [
    {
     "output_type": "display_data",
     "data": {
      "application/vnd.plotly.v1+json": {
       "config": {
        "plotlyServerURL": "https://plot.ly"
       },
       "data": [
        {
         "boxmean": true,
         "marker": {
          "color": "magenta"
         },
         "name": "Бразилия",
         "type": "box",
         "x": [
          25800,
          16641,
          51603,
          57152,
          53139,
          50230,
          49970,
          23010
         ]
        },
        {
         "boxmean": true,
         "marker": {
          "color": "darkblue"
         },
         "name": "Великобритания",
         "type": "box",
         "x": [
          747,
          942,
          675,
          906,
          964,
          900,
          765,
          1113
         ]
        },
        {
         "boxmean": true,
         "marker": {
          "color": "goldenrod"
         },
         "name": "Индия",
         "type": "box",
         "x": [
          52972,
          52050,
          52509,
          56282,
          62538,
          61537,
          64399,
          62064
         ]
        },
        {
         "boxmean": true,
         "name": "Испания",
         "type": "box",
         "x": [
          0,
          8532,
          5760,
          2953,
          4088,
          4507,
          0,
          0
         ]
        },
        {
         "boxmean": true,
         "marker": {
          "color": "red"
         },
         "name": "США",
         "type": "box",
         "x": [
          47580,
          45368,
          57540,
          52810,
          59692,
          58173,
          56174,
          46935
         ]
        }
       ],
       "layout": {
        "height": 600,
        "template": {
         "data": {
          "bar": [
           {
            "error_x": {
             "color": "#2a3f5f"
            },
            "error_y": {
             "color": "#2a3f5f"
            },
            "marker": {
             "line": {
              "color": "#E5ECF6",
              "width": 0.5
             }
            },
            "type": "bar"
           }
          ],
          "barpolar": [
           {
            "marker": {
             "line": {
              "color": "#E5ECF6",
              "width": 0.5
             }
            },
            "type": "barpolar"
           }
          ],
          "carpet": [
           {
            "aaxis": {
             "endlinecolor": "#2a3f5f",
             "gridcolor": "white",
             "linecolor": "white",
             "minorgridcolor": "white",
             "startlinecolor": "#2a3f5f"
            },
            "baxis": {
             "endlinecolor": "#2a3f5f",
             "gridcolor": "white",
             "linecolor": "white",
             "minorgridcolor": "white",
             "startlinecolor": "#2a3f5f"
            },
            "type": "carpet"
           }
          ],
          "choropleth": [
           {
            "colorbar": {
             "outlinewidth": 0,
             "ticks": ""
            },
            "type": "choropleth"
           }
          ],
          "contour": [
           {
            "colorbar": {
             "outlinewidth": 0,
             "ticks": ""
            },
            "colorscale": [
             [
              0,
              "#0d0887"
             ],
             [
              0.1111111111111111,
              "#46039f"
             ],
             [
              0.2222222222222222,
              "#7201a8"
             ],
             [
              0.3333333333333333,
              "#9c179e"
             ],
             [
              0.4444444444444444,
              "#bd3786"
             ],
             [
              0.5555555555555556,
              "#d8576b"
             ],
             [
              0.6666666666666666,
              "#ed7953"
             ],
             [
              0.7777777777777778,
              "#fb9f3a"
             ],
             [
              0.8888888888888888,
              "#fdca26"
             ],
             [
              1,
              "#f0f921"
             ]
            ],
            "type": "contour"
           }
          ],
          "contourcarpet": [
           {
            "colorbar": {
             "outlinewidth": 0,
             "ticks": ""
            },
            "type": "contourcarpet"
           }
          ],
          "heatmap": [
           {
            "colorbar": {
             "outlinewidth": 0,
             "ticks": ""
            },
            "colorscale": [
             [
              0,
              "#0d0887"
             ],
             [
              0.1111111111111111,
              "#46039f"
             ],
             [
              0.2222222222222222,
              "#7201a8"
             ],
             [
              0.3333333333333333,
              "#9c179e"
             ],
             [
              0.4444444444444444,
              "#bd3786"
             ],
             [
              0.5555555555555556,
              "#d8576b"
             ],
             [
              0.6666666666666666,
              "#ed7953"
             ],
             [
              0.7777777777777778,
              "#fb9f3a"
             ],
             [
              0.8888888888888888,
              "#fdca26"
             ],
             [
              1,
              "#f0f921"
             ]
            ],
            "type": "heatmap"
           }
          ],
          "heatmapgl": [
           {
            "colorbar": {
             "outlinewidth": 0,
             "ticks": ""
            },
            "colorscale": [
             [
              0,
              "#0d0887"
             ],
             [
              0.1111111111111111,
              "#46039f"
             ],
             [
              0.2222222222222222,
              "#7201a8"
             ],
             [
              0.3333333333333333,
              "#9c179e"
             ],
             [
              0.4444444444444444,
              "#bd3786"
             ],
             [
              0.5555555555555556,
              "#d8576b"
             ],
             [
              0.6666666666666666,
              "#ed7953"
             ],
             [
              0.7777777777777778,
              "#fb9f3a"
             ],
             [
              0.8888888888888888,
              "#fdca26"
             ],
             [
              1,
              "#f0f921"
             ]
            ],
            "type": "heatmapgl"
           }
          ],
          "histogram": [
           {
            "marker": {
             "colorbar": {
              "outlinewidth": 0,
              "ticks": ""
             }
            },
            "type": "histogram"
           }
          ],
          "histogram2d": [
           {
            "colorbar": {
             "outlinewidth": 0,
             "ticks": ""
            },
            "colorscale": [
             [
              0,
              "#0d0887"
             ],
             [
              0.1111111111111111,
              "#46039f"
             ],
             [
              0.2222222222222222,
              "#7201a8"
             ],
             [
              0.3333333333333333,
              "#9c179e"
             ],
             [
              0.4444444444444444,
              "#bd3786"
             ],
             [
              0.5555555555555556,
              "#d8576b"
             ],
             [
              0.6666666666666666,
              "#ed7953"
             ],
             [
              0.7777777777777778,
              "#fb9f3a"
             ],
             [
              0.8888888888888888,
              "#fdca26"
             ],
             [
              1,
              "#f0f921"
             ]
            ],
            "type": "histogram2d"
           }
          ],
          "histogram2dcontour": [
           {
            "colorbar": {
             "outlinewidth": 0,
             "ticks": ""
            },
            "colorscale": [
             [
              0,
              "#0d0887"
             ],
             [
              0.1111111111111111,
              "#46039f"
             ],
             [
              0.2222222222222222,
              "#7201a8"
             ],
             [
              0.3333333333333333,
              "#9c179e"
             ],
             [
              0.4444444444444444,
              "#bd3786"
             ],
             [
              0.5555555555555556,
              "#d8576b"
             ],
             [
              0.6666666666666666,
              "#ed7953"
             ],
             [
              0.7777777777777778,
              "#fb9f3a"
             ],
             [
              0.8888888888888888,
              "#fdca26"
             ],
             [
              1,
              "#f0f921"
             ]
            ],
            "type": "histogram2dcontour"
           }
          ],
          "mesh3d": [
           {
            "colorbar": {
             "outlinewidth": 0,
             "ticks": ""
            },
            "type": "mesh3d"
           }
          ],
          "parcoords": [
           {
            "line": {
             "colorbar": {
              "outlinewidth": 0,
              "ticks": ""
             }
            },
            "type": "parcoords"
           }
          ],
          "pie": [
           {
            "automargin": true,
            "type": "pie"
           }
          ],
          "scatter": [
           {
            "marker": {
             "colorbar": {
              "outlinewidth": 0,
              "ticks": ""
             }
            },
            "type": "scatter"
           }
          ],
          "scatter3d": [
           {
            "line": {
             "colorbar": {
              "outlinewidth": 0,
              "ticks": ""
             }
            },
            "marker": {
             "colorbar": {
              "outlinewidth": 0,
              "ticks": ""
             }
            },
            "type": "scatter3d"
           }
          ],
          "scattercarpet": [
           {
            "marker": {
             "colorbar": {
              "outlinewidth": 0,
              "ticks": ""
             }
            },
            "type": "scattercarpet"
           }
          ],
          "scattergeo": [
           {
            "marker": {
             "colorbar": {
              "outlinewidth": 0,
              "ticks": ""
             }
            },
            "type": "scattergeo"
           }
          ],
          "scattergl": [
           {
            "marker": {
             "colorbar": {
              "outlinewidth": 0,
              "ticks": ""
             }
            },
            "type": "scattergl"
           }
          ],
          "scattermapbox": [
           {
            "marker": {
             "colorbar": {
              "outlinewidth": 0,
              "ticks": ""
             }
            },
            "type": "scattermapbox"
           }
          ],
          "scatterpolar": [
           {
            "marker": {
             "colorbar": {
              "outlinewidth": 0,
              "ticks": ""
             }
            },
            "type": "scatterpolar"
           }
          ],
          "scatterpolargl": [
           {
            "marker": {
             "colorbar": {
              "outlinewidth": 0,
              "ticks": ""
             }
            },
            "type": "scatterpolargl"
           }
          ],
          "scatterternary": [
           {
            "marker": {
             "colorbar": {
              "outlinewidth": 0,
              "ticks": ""
             }
            },
            "type": "scatterternary"
           }
          ],
          "surface": [
           {
            "colorbar": {
             "outlinewidth": 0,
             "ticks": ""
            },
            "colorscale": [
             [
              0,
              "#0d0887"
             ],
             [
              0.1111111111111111,
              "#46039f"
             ],
             [
              0.2222222222222222,
              "#7201a8"
             ],
             [
              0.3333333333333333,
              "#9c179e"
             ],
             [
              0.4444444444444444,
              "#bd3786"
             ],
             [
              0.5555555555555556,
              "#d8576b"
             ],
             [
              0.6666666666666666,
              "#ed7953"
             ],
             [
              0.7777777777777778,
              "#fb9f3a"
             ],
             [
              0.8888888888888888,
              "#fdca26"
             ],
             [
              1,
              "#f0f921"
             ]
            ],
            "type": "surface"
           }
          ],
          "table": [
           {
            "cells": {
             "fill": {
              "color": "#EBF0F8"
             },
             "line": {
              "color": "white"
             }
            },
            "header": {
             "fill": {
              "color": "#C8D4E3"
             },
             "line": {
              "color": "white"
             }
            },
            "type": "table"
           }
          ]
         },
         "layout": {
          "annotationdefaults": {
           "arrowcolor": "#2a3f5f",
           "arrowhead": 0,
           "arrowwidth": 1
          },
          "coloraxis": {
           "colorbar": {
            "outlinewidth": 0,
            "ticks": ""
           }
          },
          "colorscale": {
           "diverging": [
            [
             0,
             "#8e0152"
            ],
            [
             0.1,
             "#c51b7d"
            ],
            [
             0.2,
             "#de77ae"
            ],
            [
             0.3,
             "#f1b6da"
            ],
            [
             0.4,
             "#fde0ef"
            ],
            [
             0.5,
             "#f7f7f7"
            ],
            [
             0.6,
             "#e6f5d0"
            ],
            [
             0.7,
             "#b8e186"
            ],
            [
             0.8,
             "#7fbc41"
            ],
            [
             0.9,
             "#4d9221"
            ],
            [
             1,
             "#276419"
            ]
           ],
           "sequential": [
            [
             0,
             "#0d0887"
            ],
            [
             0.1111111111111111,
             "#46039f"
            ],
            [
             0.2222222222222222,
             "#7201a8"
            ],
            [
             0.3333333333333333,
             "#9c179e"
            ],
            [
             0.4444444444444444,
             "#bd3786"
            ],
            [
             0.5555555555555556,
             "#d8576b"
            ],
            [
             0.6666666666666666,
             "#ed7953"
            ],
            [
             0.7777777777777778,
             "#fb9f3a"
            ],
            [
             0.8888888888888888,
             "#fdca26"
            ],
            [
             1,
             "#f0f921"
            ]
           ],
           "sequentialminus": [
            [
             0,
             "#0d0887"
            ],
            [
             0.1111111111111111,
             "#46039f"
            ],
            [
             0.2222222222222222,
             "#7201a8"
            ],
            [
             0.3333333333333333,
             "#9c179e"
            ],
            [
             0.4444444444444444,
             "#bd3786"
            ],
            [
             0.5555555555555556,
             "#d8576b"
            ],
            [
             0.6666666666666666,
             "#ed7953"
            ],
            [
             0.7777777777777778,
             "#fb9f3a"
            ],
            [
             0.8888888888888888,
             "#fdca26"
            ],
            [
             1,
             "#f0f921"
            ]
           ]
          },
          "colorway": [
           "#636efa",
           "#EF553B",
           "#00cc96",
           "#ab63fa",
           "#FFA15A",
           "#19d3f3",
           "#FF6692",
           "#B6E880",
           "#FF97FF",
           "#FECB52"
          ],
          "font": {
           "color": "#2a3f5f"
          },
          "geo": {
           "bgcolor": "white",
           "lakecolor": "white",
           "landcolor": "#E5ECF6",
           "showlakes": true,
           "showland": true,
           "subunitcolor": "white"
          },
          "hoverlabel": {
           "align": "left"
          },
          "hovermode": "closest",
          "mapbox": {
           "style": "light"
          },
          "paper_bgcolor": "white",
          "plot_bgcolor": "#E5ECF6",
          "polar": {
           "angularaxis": {
            "gridcolor": "white",
            "linecolor": "white",
            "ticks": ""
           },
           "bgcolor": "#E5ECF6",
           "radialaxis": {
            "gridcolor": "white",
            "linecolor": "white",
            "ticks": ""
           }
          },
          "scene": {
           "xaxis": {
            "backgroundcolor": "#E5ECF6",
            "gridcolor": "white",
            "gridwidth": 2,
            "linecolor": "white",
            "showbackground": true,
            "ticks": "",
            "zerolinecolor": "white"
           },
           "yaxis": {
            "backgroundcolor": "#E5ECF6",
            "gridcolor": "white",
            "gridwidth": 2,
            "linecolor": "white",
            "showbackground": true,
            "ticks": "",
            "zerolinecolor": "white"
           },
           "zaxis": {
            "backgroundcolor": "#E5ECF6",
            "gridcolor": "white",
            "gridwidth": 2,
            "linecolor": "white",
            "showbackground": true,
            "ticks": "",
            "zerolinecolor": "white"
           }
          },
          "shapedefaults": {
           "line": {
            "color": "#2a3f5f"
           }
          },
          "ternary": {
           "aaxis": {
            "gridcolor": "white",
            "linecolor": "white",
            "ticks": ""
           },
           "baxis": {
            "gridcolor": "white",
            "linecolor": "white",
            "ticks": ""
           },
           "bgcolor": "#E5ECF6",
           "caxis": {
            "gridcolor": "white",
            "linecolor": "white",
            "ticks": ""
           }
          },
          "title": {
           "x": 0.05
          },
          "xaxis": {
           "automargin": true,
           "gridcolor": "white",
           "linecolor": "white",
           "ticks": "",
           "title": {
            "standoff": 15
           },
           "zerolinecolor": "white",
           "zerolinewidth": 2
          },
          "yaxis": {
           "automargin": true,
           "gridcolor": "white",
           "linecolor": "white",
           "ticks": "",
           "title": {
            "standoff": 15
           },
           "zerolinecolor": "white",
           "zerolinewidth": 2
          }
         }
        },
        "title": {
         "text": "Статистика по новым заболевшим за неделю",
         "x": 0.5,
         "xanchor": "center",
         "y": 0.9,
         "yanchor": "top"
        },
        "width": 990,
        "xaxis": {
         "title": {
          "text": "Новые заболевшие"
         }
        },
        "yaxis": {
         "title": {
          "text": "Страны"
         }
        }
       }
      }
     },
     "metadata": {}
    }
   ],
   "source": [
    "color_dict = {\n",
    "                \"США\": \"red\",\n",
    "                \"Бразилия\": \"magenta\",\n",
    "                \"Индия\": \"goldenrod\",\n",
    "                \"Великобритания\": \"darkblue\",\n",
    "                \"Россия\": \"green\",\n",
    "                 }\n",
    "\n",
    "cols = list(new_df1.columns)\n",
    "#cols = cols[:-1]\n",
    "\n",
    "fig = go.Figure()\n",
    "for i in cols:\n",
    "    fig.add_trace(\n",
    "    go.Box(x=new_df1[i],name = i,boxmean = True,marker_color = color_dict.get(i)))\n",
    "\n",
    "fig.update_layout(title_text=\"Статистика по новым заболевшим за неделю\",\n",
    "                  title_x = 0.5,\n",
    "                  title_y= 0.9,\n",
    "                  title_xanchor = \"center\",\n",
    "                  title_yanchor = \"top\",\n",
    "                  xaxis_title='Новые заболевшие', yaxis_title='Страны',width = 990, height = 600)\n",
    "fig.show()"
   ]
  },
  {
   "cell_type": "code",
   "execution_count": 34,
   "metadata": {},
   "outputs": [
    {
     "output_type": "execute_result",
     "data": {
      "text/plain": "Country     Бразилия  Великобритания  Индия  Испания    США\nDate                                                       \n2020-08-02     24894               3  40574        0   6804\n2020-08-03     36100               1  44306        0  44757\n2020-08-04     58508               0  51706        0  15533\n2020-08-05     32877               1  46121        0  48872\n2020-08-06     40181               1  49769        0  20773\n2020-08-07     41757               0  48900        0  25246\n2020-08-08     49238               2  53879        0  19248\n2020-08-09     35446               2  54859        0  13746",
      "text/html": "<div>\n<style scoped>\n    .dataframe tbody tr th:only-of-type {\n        vertical-align: middle;\n    }\n\n    .dataframe tbody tr th {\n        vertical-align: top;\n    }\n\n    .dataframe thead th {\n        text-align: right;\n    }\n</style>\n<table border=\"1\" class=\"dataframe\">\n  <thead>\n    <tr style=\"text-align: right;\">\n      <th>Country</th>\n      <th>Бразилия</th>\n      <th>Великобритания</th>\n      <th>Индия</th>\n      <th>Испания</th>\n      <th>США</th>\n    </tr>\n    <tr>\n      <th>Date</th>\n      <th></th>\n      <th></th>\n      <th></th>\n      <th></th>\n      <th></th>\n    </tr>\n  </thead>\n  <tbody>\n    <tr>\n      <th>2020-08-02</th>\n      <td>24894</td>\n      <td>3</td>\n      <td>40574</td>\n      <td>0</td>\n      <td>6804</td>\n    </tr>\n    <tr>\n      <th>2020-08-03</th>\n      <td>36100</td>\n      <td>1</td>\n      <td>44306</td>\n      <td>0</td>\n      <td>44757</td>\n    </tr>\n    <tr>\n      <th>2020-08-04</th>\n      <td>58508</td>\n      <td>0</td>\n      <td>51706</td>\n      <td>0</td>\n      <td>15533</td>\n    </tr>\n    <tr>\n      <th>2020-08-05</th>\n      <td>32877</td>\n      <td>1</td>\n      <td>46121</td>\n      <td>0</td>\n      <td>48872</td>\n    </tr>\n    <tr>\n      <th>2020-08-06</th>\n      <td>40181</td>\n      <td>1</td>\n      <td>49769</td>\n      <td>0</td>\n      <td>20773</td>\n    </tr>\n    <tr>\n      <th>2020-08-07</th>\n      <td>41757</td>\n      <td>0</td>\n      <td>48900</td>\n      <td>0</td>\n      <td>25246</td>\n    </tr>\n    <tr>\n      <th>2020-08-08</th>\n      <td>49238</td>\n      <td>2</td>\n      <td>53879</td>\n      <td>0</td>\n      <td>19248</td>\n    </tr>\n    <tr>\n      <th>2020-08-09</th>\n      <td>35446</td>\n      <td>2</td>\n      <td>54859</td>\n      <td>0</td>\n      <td>13746</td>\n    </tr>\n  </tbody>\n</table>\n</div>"
     },
     "metadata": {},
     "execution_count": 34
    }
   ],
   "source": [
    "new_df2=box_cases2.unstack().T\n",
    "new_df2.tail(20)"
   ]
  },
  {
   "cell_type": "code",
   "execution_count": 35,
   "metadata": {},
   "outputs": [
    {
     "output_type": "display_data",
     "data": {
      "application/vnd.plotly.v1+json": {
       "config": {
        "plotlyServerURL": "https://plot.ly"
       },
       "data": [
        {
         "boxmean": true,
         "marker": {
          "color": "magenta"
         },
         "name": "Бразилия",
         "type": "box",
         "x": [
          24894,
          36100,
          58508,
          32877,
          40181,
          41757,
          49238,
          35446
         ]
        },
        {
         "boxmean": true,
         "marker": {
          "color": "darkblue"
         },
         "name": "Великобритания",
         "type": "box",
         "x": [
          3,
          1,
          0,
          1,
          1,
          0,
          2,
          2
         ]
        },
        {
         "boxmean": true,
         "marker": {
          "color": "goldenrod"
         },
         "name": "Индия",
         "type": "box",
         "x": [
          40574,
          44306,
          51706,
          46121,
          49769,
          48900,
          53879,
          54859
         ]
        },
        {
         "boxmean": true,
         "name": "Испания",
         "type": "box",
         "x": [
          0,
          0,
          0,
          0,
          0,
          0,
          0,
          0
         ]
        },
        {
         "boxmean": true,
         "marker": {
          "color": "red"
         },
         "name": "США",
         "type": "box",
         "x": [
          6804,
          44757,
          15533,
          48872,
          20773,
          25246,
          19248,
          13746
         ]
        }
       ],
       "layout": {
        "height": 600,
        "template": {
         "data": {
          "bar": [
           {
            "error_x": {
             "color": "#2a3f5f"
            },
            "error_y": {
             "color": "#2a3f5f"
            },
            "marker": {
             "line": {
              "color": "#E5ECF6",
              "width": 0.5
             }
            },
            "type": "bar"
           }
          ],
          "barpolar": [
           {
            "marker": {
             "line": {
              "color": "#E5ECF6",
              "width": 0.5
             }
            },
            "type": "barpolar"
           }
          ],
          "carpet": [
           {
            "aaxis": {
             "endlinecolor": "#2a3f5f",
             "gridcolor": "white",
             "linecolor": "white",
             "minorgridcolor": "white",
             "startlinecolor": "#2a3f5f"
            },
            "baxis": {
             "endlinecolor": "#2a3f5f",
             "gridcolor": "white",
             "linecolor": "white",
             "minorgridcolor": "white",
             "startlinecolor": "#2a3f5f"
            },
            "type": "carpet"
           }
          ],
          "choropleth": [
           {
            "colorbar": {
             "outlinewidth": 0,
             "ticks": ""
            },
            "type": "choropleth"
           }
          ],
          "contour": [
           {
            "colorbar": {
             "outlinewidth": 0,
             "ticks": ""
            },
            "colorscale": [
             [
              0,
              "#0d0887"
             ],
             [
              0.1111111111111111,
              "#46039f"
             ],
             [
              0.2222222222222222,
              "#7201a8"
             ],
             [
              0.3333333333333333,
              "#9c179e"
             ],
             [
              0.4444444444444444,
              "#bd3786"
             ],
             [
              0.5555555555555556,
              "#d8576b"
             ],
             [
              0.6666666666666666,
              "#ed7953"
             ],
             [
              0.7777777777777778,
              "#fb9f3a"
             ],
             [
              0.8888888888888888,
              "#fdca26"
             ],
             [
              1,
              "#f0f921"
             ]
            ],
            "type": "contour"
           }
          ],
          "contourcarpet": [
           {
            "colorbar": {
             "outlinewidth": 0,
             "ticks": ""
            },
            "type": "contourcarpet"
           }
          ],
          "heatmap": [
           {
            "colorbar": {
             "outlinewidth": 0,
             "ticks": ""
            },
            "colorscale": [
             [
              0,
              "#0d0887"
             ],
             [
              0.1111111111111111,
              "#46039f"
             ],
             [
              0.2222222222222222,
              "#7201a8"
             ],
             [
              0.3333333333333333,
              "#9c179e"
             ],
             [
              0.4444444444444444,
              "#bd3786"
             ],
             [
              0.5555555555555556,
              "#d8576b"
             ],
             [
              0.6666666666666666,
              "#ed7953"
             ],
             [
              0.7777777777777778,
              "#fb9f3a"
             ],
             [
              0.8888888888888888,
              "#fdca26"
             ],
             [
              1,
              "#f0f921"
             ]
            ],
            "type": "heatmap"
           }
          ],
          "heatmapgl": [
           {
            "colorbar": {
             "outlinewidth": 0,
             "ticks": ""
            },
            "colorscale": [
             [
              0,
              "#0d0887"
             ],
             [
              0.1111111111111111,
              "#46039f"
             ],
             [
              0.2222222222222222,
              "#7201a8"
             ],
             [
              0.3333333333333333,
              "#9c179e"
             ],
             [
              0.4444444444444444,
              "#bd3786"
             ],
             [
              0.5555555555555556,
              "#d8576b"
             ],
             [
              0.6666666666666666,
              "#ed7953"
             ],
             [
              0.7777777777777778,
              "#fb9f3a"
             ],
             [
              0.8888888888888888,
              "#fdca26"
             ],
             [
              1,
              "#f0f921"
             ]
            ],
            "type": "heatmapgl"
           }
          ],
          "histogram": [
           {
            "marker": {
             "colorbar": {
              "outlinewidth": 0,
              "ticks": ""
             }
            },
            "type": "histogram"
           }
          ],
          "histogram2d": [
           {
            "colorbar": {
             "outlinewidth": 0,
             "ticks": ""
            },
            "colorscale": [
             [
              0,
              "#0d0887"
             ],
             [
              0.1111111111111111,
              "#46039f"
             ],
             [
              0.2222222222222222,
              "#7201a8"
             ],
             [
              0.3333333333333333,
              "#9c179e"
             ],
             [
              0.4444444444444444,
              "#bd3786"
             ],
             [
              0.5555555555555556,
              "#d8576b"
             ],
             [
              0.6666666666666666,
              "#ed7953"
             ],
             [
              0.7777777777777778,
              "#fb9f3a"
             ],
             [
              0.8888888888888888,
              "#fdca26"
             ],
             [
              1,
              "#f0f921"
             ]
            ],
            "type": "histogram2d"
           }
          ],
          "histogram2dcontour": [
           {
            "colorbar": {
             "outlinewidth": 0,
             "ticks": ""
            },
            "colorscale": [
             [
              0,
              "#0d0887"
             ],
             [
              0.1111111111111111,
              "#46039f"
             ],
             [
              0.2222222222222222,
              "#7201a8"
             ],
             [
              0.3333333333333333,
              "#9c179e"
             ],
             [
              0.4444444444444444,
              "#bd3786"
             ],
             [
              0.5555555555555556,
              "#d8576b"
             ],
             [
              0.6666666666666666,
              "#ed7953"
             ],
             [
              0.7777777777777778,
              "#fb9f3a"
             ],
             [
              0.8888888888888888,
              "#fdca26"
             ],
             [
              1,
              "#f0f921"
             ]
            ],
            "type": "histogram2dcontour"
           }
          ],
          "mesh3d": [
           {
            "colorbar": {
             "outlinewidth": 0,
             "ticks": ""
            },
            "type": "mesh3d"
           }
          ],
          "parcoords": [
           {
            "line": {
             "colorbar": {
              "outlinewidth": 0,
              "ticks": ""
             }
            },
            "type": "parcoords"
           }
          ],
          "pie": [
           {
            "automargin": true,
            "type": "pie"
           }
          ],
          "scatter": [
           {
            "marker": {
             "colorbar": {
              "outlinewidth": 0,
              "ticks": ""
             }
            },
            "type": "scatter"
           }
          ],
          "scatter3d": [
           {
            "line": {
             "colorbar": {
              "outlinewidth": 0,
              "ticks": ""
             }
            },
            "marker": {
             "colorbar": {
              "outlinewidth": 0,
              "ticks": ""
             }
            },
            "type": "scatter3d"
           }
          ],
          "scattercarpet": [
           {
            "marker": {
             "colorbar": {
              "outlinewidth": 0,
              "ticks": ""
             }
            },
            "type": "scattercarpet"
           }
          ],
          "scattergeo": [
           {
            "marker": {
             "colorbar": {
              "outlinewidth": 0,
              "ticks": ""
             }
            },
            "type": "scattergeo"
           }
          ],
          "scattergl": [
           {
            "marker": {
             "colorbar": {
              "outlinewidth": 0,
              "ticks": ""
             }
            },
            "type": "scattergl"
           }
          ],
          "scattermapbox": [
           {
            "marker": {
             "colorbar": {
              "outlinewidth": 0,
              "ticks": ""
             }
            },
            "type": "scattermapbox"
           }
          ],
          "scatterpolar": [
           {
            "marker": {
             "colorbar": {
              "outlinewidth": 0,
              "ticks": ""
             }
            },
            "type": "scatterpolar"
           }
          ],
          "scatterpolargl": [
           {
            "marker": {
             "colorbar": {
              "outlinewidth": 0,
              "ticks": ""
             }
            },
            "type": "scatterpolargl"
           }
          ],
          "scatterternary": [
           {
            "marker": {
             "colorbar": {
              "outlinewidth": 0,
              "ticks": ""
             }
            },
            "type": "scatterternary"
           }
          ],
          "surface": [
           {
            "colorbar": {
             "outlinewidth": 0,
             "ticks": ""
            },
            "colorscale": [
             [
              0,
              "#0d0887"
             ],
             [
              0.1111111111111111,
              "#46039f"
             ],
             [
              0.2222222222222222,
              "#7201a8"
             ],
             [
              0.3333333333333333,
              "#9c179e"
             ],
             [
              0.4444444444444444,
              "#bd3786"
             ],
             [
              0.5555555555555556,
              "#d8576b"
             ],
             [
              0.6666666666666666,
              "#ed7953"
             ],
             [
              0.7777777777777778,
              "#fb9f3a"
             ],
             [
              0.8888888888888888,
              "#fdca26"
             ],
             [
              1,
              "#f0f921"
             ]
            ],
            "type": "surface"
           }
          ],
          "table": [
           {
            "cells": {
             "fill": {
              "color": "#EBF0F8"
             },
             "line": {
              "color": "white"
             }
            },
            "header": {
             "fill": {
              "color": "#C8D4E3"
             },
             "line": {
              "color": "white"
             }
            },
            "type": "table"
           }
          ]
         },
         "layout": {
          "annotationdefaults": {
           "arrowcolor": "#2a3f5f",
           "arrowhead": 0,
           "arrowwidth": 1
          },
          "coloraxis": {
           "colorbar": {
            "outlinewidth": 0,
            "ticks": ""
           }
          },
          "colorscale": {
           "diverging": [
            [
             0,
             "#8e0152"
            ],
            [
             0.1,
             "#c51b7d"
            ],
            [
             0.2,
             "#de77ae"
            ],
            [
             0.3,
             "#f1b6da"
            ],
            [
             0.4,
             "#fde0ef"
            ],
            [
             0.5,
             "#f7f7f7"
            ],
            [
             0.6,
             "#e6f5d0"
            ],
            [
             0.7,
             "#b8e186"
            ],
            [
             0.8,
             "#7fbc41"
            ],
            [
             0.9,
             "#4d9221"
            ],
            [
             1,
             "#276419"
            ]
           ],
           "sequential": [
            [
             0,
             "#0d0887"
            ],
            [
             0.1111111111111111,
             "#46039f"
            ],
            [
             0.2222222222222222,
             "#7201a8"
            ],
            [
             0.3333333333333333,
             "#9c179e"
            ],
            [
             0.4444444444444444,
             "#bd3786"
            ],
            [
             0.5555555555555556,
             "#d8576b"
            ],
            [
             0.6666666666666666,
             "#ed7953"
            ],
            [
             0.7777777777777778,
             "#fb9f3a"
            ],
            [
             0.8888888888888888,
             "#fdca26"
            ],
            [
             1,
             "#f0f921"
            ]
           ],
           "sequentialminus": [
            [
             0,
             "#0d0887"
            ],
            [
             0.1111111111111111,
             "#46039f"
            ],
            [
             0.2222222222222222,
             "#7201a8"
            ],
            [
             0.3333333333333333,
             "#9c179e"
            ],
            [
             0.4444444444444444,
             "#bd3786"
            ],
            [
             0.5555555555555556,
             "#d8576b"
            ],
            [
             0.6666666666666666,
             "#ed7953"
            ],
            [
             0.7777777777777778,
             "#fb9f3a"
            ],
            [
             0.8888888888888888,
             "#fdca26"
            ],
            [
             1,
             "#f0f921"
            ]
           ]
          },
          "colorway": [
           "#636efa",
           "#EF553B",
           "#00cc96",
           "#ab63fa",
           "#FFA15A",
           "#19d3f3",
           "#FF6692",
           "#B6E880",
           "#FF97FF",
           "#FECB52"
          ],
          "font": {
           "color": "#2a3f5f"
          },
          "geo": {
           "bgcolor": "white",
           "lakecolor": "white",
           "landcolor": "#E5ECF6",
           "showlakes": true,
           "showland": true,
           "subunitcolor": "white"
          },
          "hoverlabel": {
           "align": "left"
          },
          "hovermode": "closest",
          "mapbox": {
           "style": "light"
          },
          "paper_bgcolor": "white",
          "plot_bgcolor": "#E5ECF6",
          "polar": {
           "angularaxis": {
            "gridcolor": "white",
            "linecolor": "white",
            "ticks": ""
           },
           "bgcolor": "#E5ECF6",
           "radialaxis": {
            "gridcolor": "white",
            "linecolor": "white",
            "ticks": ""
           }
          },
          "scene": {
           "xaxis": {
            "backgroundcolor": "#E5ECF6",
            "gridcolor": "white",
            "gridwidth": 2,
            "linecolor": "white",
            "showbackground": true,
            "ticks": "",
            "zerolinecolor": "white"
           },
           "yaxis": {
            "backgroundcolor": "#E5ECF6",
            "gridcolor": "white",
            "gridwidth": 2,
            "linecolor": "white",
            "showbackground": true,
            "ticks": "",
            "zerolinecolor": "white"
           },
           "zaxis": {
            "backgroundcolor": "#E5ECF6",
            "gridcolor": "white",
            "gridwidth": 2,
            "linecolor": "white",
            "showbackground": true,
            "ticks": "",
            "zerolinecolor": "white"
           }
          },
          "shapedefaults": {
           "line": {
            "color": "#2a3f5f"
           }
          },
          "ternary": {
           "aaxis": {
            "gridcolor": "white",
            "linecolor": "white",
            "ticks": ""
           },
           "baxis": {
            "gridcolor": "white",
            "linecolor": "white",
            "ticks": ""
           },
           "bgcolor": "#E5ECF6",
           "caxis": {
            "gridcolor": "white",
            "linecolor": "white",
            "ticks": ""
           }
          },
          "title": {
           "x": 0.05
          },
          "xaxis": {
           "automargin": true,
           "gridcolor": "white",
           "linecolor": "white",
           "ticks": "",
           "title": {
            "standoff": 15
           },
           "zerolinecolor": "white",
           "zerolinewidth": 2
          },
          "yaxis": {
           "automargin": true,
           "gridcolor": "white",
           "linecolor": "white",
           "ticks": "",
           "title": {
            "standoff": 15
           },
           "zerolinecolor": "white",
           "zerolinewidth": 2
          }
         }
        },
        "title": {
         "text": "Статистика по выздоровевшим за неделю",
         "x": 0.5,
         "xanchor": "center",
         "y": 0.9,
         "yanchor": "top"
        },
        "width": 990,
        "xaxis": {
         "title": {
          "text": "Выздоровевшие"
         }
        },
        "yaxis": {
         "title": {
          "text": "Регионы"
         }
        }
       }
      }
     },
     "metadata": {}
    }
   ],
   "source": [
    "\n",
    "cols = list(new_df2.columns)\n",
    "#cols = cols[:-1]\n",
    "\n",
    "fig = go.Figure()\n",
    "for i in cols:\n",
    "    fig.add_trace(\n",
    "    go.Box(x=new_df2[i],name = i,boxmean=True,marker_color = color_dict.get(i)))\n",
    "\n",
    "fig.update_layout(title_text=\"Статистика по выздоровевшим за неделю\",\n",
    "                  title_x = 0.5,\n",
    "                  title_y= 0.9,\n",
    "                  title_xanchor = \"center\",\n",
    "                  title_yanchor = \"top\",\n",
    "                  xaxis_title='Выздоровевшие', yaxis_title='Регионы',width = 990, height = 600)\n",
    "fig.show()"
   ]
  },
  {
   "cell_type": "code",
   "execution_count": 36,
   "metadata": {},
   "outputs": [
    {
     "output_type": "display_data",
     "data": {
      "application/vnd.plotly.v1+json": {
       "config": {
        "plotlyServerURL": "https://plot.ly"
       },
       "data": [
        {
         "boxmean": true,
         "marker": {
          "color": "magenta"
         },
         "name": "Бразилия",
         "type": "box",
         "x": [
          25800,
          16641,
          51603,
          57152,
          53139,
          50230,
          49970,
          23010
         ],
         "xaxis": "x",
         "yaxis": "y"
        },
        {
         "boxmean": true,
         "marker": {
          "color": "darkblue"
         },
         "name": "Великобритания",
         "type": "box",
         "x": [
          747,
          942,
          675,
          906,
          964,
          900,
          765,
          1113
         ],
         "xaxis": "x",
         "yaxis": "y"
        },
        {
         "boxmean": true,
         "marker": {
          "color": "goldenrod"
         },
         "name": "Индия",
         "type": "box",
         "x": [
          52972,
          52050,
          52509,
          56282,
          62538,
          61537,
          64399,
          62064
         ],
         "xaxis": "x",
         "yaxis": "y"
        },
        {
         "boxmean": true,
         "name": "Испания",
         "type": "box",
         "x": [
          0,
          8532,
          5760,
          2953,
          4088,
          4507,
          0,
          0
         ],
         "xaxis": "x",
         "yaxis": "y"
        },
        {
         "boxmean": true,
         "marker": {
          "color": "red"
         },
         "name": "США",
         "type": "box",
         "x": [
          47580,
          45368,
          57540,
          52810,
          59692,
          58173,
          56174,
          46935
         ],
         "xaxis": "x",
         "yaxis": "y"
        },
        {
         "boxmean": true,
         "marker": {
          "color": "magenta"
         },
         "name": "Бразилия",
         "type": "box",
         "x": [
          24894,
          36100,
          58508,
          32877,
          40181,
          41757,
          49238,
          35446
         ],
         "xaxis": "x2",
         "yaxis": "y2"
        },
        {
         "boxmean": true,
         "marker": {
          "color": "darkblue"
         },
         "name": "Великобритания",
         "type": "box",
         "x": [
          3,
          1,
          0,
          1,
          1,
          0,
          2,
          2
         ],
         "xaxis": "x2",
         "yaxis": "y2"
        },
        {
         "boxmean": true,
         "marker": {
          "color": "goldenrod"
         },
         "name": "Индия",
         "type": "box",
         "x": [
          40574,
          44306,
          51706,
          46121,
          49769,
          48900,
          53879,
          54859
         ],
         "xaxis": "x2",
         "yaxis": "y2"
        },
        {
         "boxmean": true,
         "name": "Испания",
         "type": "box",
         "x": [
          0,
          0,
          0,
          0,
          0,
          0,
          0,
          0
         ],
         "xaxis": "x2",
         "yaxis": "y2"
        },
        {
         "boxmean": true,
         "marker": {
          "color": "red"
         },
         "name": "США",
         "type": "box",
         "x": [
          6804,
          44757,
          15533,
          48872,
          20773,
          25246,
          19248,
          13746
         ],
         "xaxis": "x2",
         "yaxis": "y2"
        }
       ],
       "layout": {
        "annotations": [
         {
          "font": {
           "size": 16
          },
          "showarrow": false,
          "text": "Box-график распределения по новым заболевшим(в день) за неделю:",
          "x": 0.5,
          "xanchor": "center",
          "xref": "paper",
          "y": 1,
          "yanchor": "bottom",
          "yref": "paper"
         },
         {
          "font": {
           "size": 16
          },
          "showarrow": false,
          "text": "Box-график распределения по выздоровевшим(в день) за неделю:",
          "x": 0.5,
          "xanchor": "center",
          "xref": "paper",
          "y": 0.485,
          "yanchor": "bottom",
          "yref": "paper"
         }
        ],
        "height": 1200,
        "showlegend": false,
        "template": {
         "data": {
          "bar": [
           {
            "error_x": {
             "color": "rgb(51,51,51)"
            },
            "error_y": {
             "color": "rgb(51,51,51)"
            },
            "marker": {
             "line": {
              "color": "rgb(237,237,237)",
              "width": 0.5
             }
            },
            "type": "bar"
           }
          ],
          "barpolar": [
           {
            "marker": {
             "line": {
              "color": "rgb(237,237,237)",
              "width": 0.5
             }
            },
            "type": "barpolar"
           }
          ],
          "carpet": [
           {
            "aaxis": {
             "endlinecolor": "rgb(51,51,51)",
             "gridcolor": "white",
             "linecolor": "white",
             "minorgridcolor": "white",
             "startlinecolor": "rgb(51,51,51)"
            },
            "baxis": {
             "endlinecolor": "rgb(51,51,51)",
             "gridcolor": "white",
             "linecolor": "white",
             "minorgridcolor": "white",
             "startlinecolor": "rgb(51,51,51)"
            },
            "type": "carpet"
           }
          ],
          "choropleth": [
           {
            "colorbar": {
             "outlinewidth": 0,
             "tickcolor": "rgb(237,237,237)",
             "ticklen": 6,
             "ticks": "inside"
            },
            "type": "choropleth"
           }
          ],
          "contour": [
           {
            "colorbar": {
             "outlinewidth": 0,
             "tickcolor": "rgb(237,237,237)",
             "ticklen": 6,
             "ticks": "inside"
            },
            "colorscale": [
             [
              0,
              "rgb(20,44,66)"
             ],
             [
              1,
              "rgb(90,179,244)"
             ]
            ],
            "type": "contour"
           }
          ],
          "contourcarpet": [
           {
            "colorbar": {
             "outlinewidth": 0,
             "tickcolor": "rgb(237,237,237)",
             "ticklen": 6,
             "ticks": "inside"
            },
            "type": "contourcarpet"
           }
          ],
          "heatmap": [
           {
            "colorbar": {
             "outlinewidth": 0,
             "tickcolor": "rgb(237,237,237)",
             "ticklen": 6,
             "ticks": "inside"
            },
            "colorscale": [
             [
              0,
              "rgb(20,44,66)"
             ],
             [
              1,
              "rgb(90,179,244)"
             ]
            ],
            "type": "heatmap"
           }
          ],
          "heatmapgl": [
           {
            "colorbar": {
             "outlinewidth": 0,
             "tickcolor": "rgb(237,237,237)",
             "ticklen": 6,
             "ticks": "inside"
            },
            "colorscale": [
             [
              0,
              "rgb(20,44,66)"
             ],
             [
              1,
              "rgb(90,179,244)"
             ]
            ],
            "type": "heatmapgl"
           }
          ],
          "histogram": [
           {
            "marker": {
             "colorbar": {
              "outlinewidth": 0,
              "tickcolor": "rgb(237,237,237)",
              "ticklen": 6,
              "ticks": "inside"
             }
            },
            "type": "histogram"
           }
          ],
          "histogram2d": [
           {
            "colorbar": {
             "outlinewidth": 0,
             "tickcolor": "rgb(237,237,237)",
             "ticklen": 6,
             "ticks": "inside"
            },
            "colorscale": [
             [
              0,
              "rgb(20,44,66)"
             ],
             [
              1,
              "rgb(90,179,244)"
             ]
            ],
            "type": "histogram2d"
           }
          ],
          "histogram2dcontour": [
           {
            "colorbar": {
             "outlinewidth": 0,
             "tickcolor": "rgb(237,237,237)",
             "ticklen": 6,
             "ticks": "inside"
            },
            "colorscale": [
             [
              0,
              "rgb(20,44,66)"
             ],
             [
              1,
              "rgb(90,179,244)"
             ]
            ],
            "type": "histogram2dcontour"
           }
          ],
          "mesh3d": [
           {
            "colorbar": {
             "outlinewidth": 0,
             "tickcolor": "rgb(237,237,237)",
             "ticklen": 6,
             "ticks": "inside"
            },
            "type": "mesh3d"
           }
          ],
          "parcoords": [
           {
            "line": {
             "colorbar": {
              "outlinewidth": 0,
              "tickcolor": "rgb(237,237,237)",
              "ticklen": 6,
              "ticks": "inside"
             }
            },
            "type": "parcoords"
           }
          ],
          "pie": [
           {
            "automargin": true,
            "type": "pie"
           }
          ],
          "scatter": [
           {
            "marker": {
             "colorbar": {
              "outlinewidth": 0,
              "tickcolor": "rgb(237,237,237)",
              "ticklen": 6,
              "ticks": "inside"
             }
            },
            "type": "scatter"
           }
          ],
          "scatter3d": [
           {
            "line": {
             "colorbar": {
              "outlinewidth": 0,
              "tickcolor": "rgb(237,237,237)",
              "ticklen": 6,
              "ticks": "inside"
             }
            },
            "marker": {
             "colorbar": {
              "outlinewidth": 0,
              "tickcolor": "rgb(237,237,237)",
              "ticklen": 6,
              "ticks": "inside"
             }
            },
            "type": "scatter3d"
           }
          ],
          "scattercarpet": [
           {
            "marker": {
             "colorbar": {
              "outlinewidth": 0,
              "tickcolor": "rgb(237,237,237)",
              "ticklen": 6,
              "ticks": "inside"
             }
            },
            "type": "scattercarpet"
           }
          ],
          "scattergeo": [
           {
            "marker": {
             "colorbar": {
              "outlinewidth": 0,
              "tickcolor": "rgb(237,237,237)",
              "ticklen": 6,
              "ticks": "inside"
             }
            },
            "type": "scattergeo"
           }
          ],
          "scattergl": [
           {
            "marker": {
             "colorbar": {
              "outlinewidth": 0,
              "tickcolor": "rgb(237,237,237)",
              "ticklen": 6,
              "ticks": "inside"
             }
            },
            "type": "scattergl"
           }
          ],
          "scattermapbox": [
           {
            "marker": {
             "colorbar": {
              "outlinewidth": 0,
              "tickcolor": "rgb(237,237,237)",
              "ticklen": 6,
              "ticks": "inside"
             }
            },
            "type": "scattermapbox"
           }
          ],
          "scatterpolar": [
           {
            "marker": {
             "colorbar": {
              "outlinewidth": 0,
              "tickcolor": "rgb(237,237,237)",
              "ticklen": 6,
              "ticks": "inside"
             }
            },
            "type": "scatterpolar"
           }
          ],
          "scatterpolargl": [
           {
            "marker": {
             "colorbar": {
              "outlinewidth": 0,
              "tickcolor": "rgb(237,237,237)",
              "ticklen": 6,
              "ticks": "inside"
             }
            },
            "type": "scatterpolargl"
           }
          ],
          "scatterternary": [
           {
            "marker": {
             "colorbar": {
              "outlinewidth": 0,
              "tickcolor": "rgb(237,237,237)",
              "ticklen": 6,
              "ticks": "inside"
             }
            },
            "type": "scatterternary"
           }
          ],
          "surface": [
           {
            "colorbar": {
             "outlinewidth": 0,
             "tickcolor": "rgb(237,237,237)",
             "ticklen": 6,
             "ticks": "inside"
            },
            "colorscale": [
             [
              0,
              "rgb(20,44,66)"
             ],
             [
              1,
              "rgb(90,179,244)"
             ]
            ],
            "type": "surface"
           }
          ],
          "table": [
           {
            "cells": {
             "fill": {
              "color": "rgb(237,237,237)"
             },
             "line": {
              "color": "white"
             }
            },
            "header": {
             "fill": {
              "color": "rgb(217,217,217)"
             },
             "line": {
              "color": "white"
             }
            },
            "type": "table"
           }
          ]
         },
         "layout": {
          "annotationdefaults": {
           "arrowhead": 0,
           "arrowwidth": 1
          },
          "coloraxis": {
           "colorbar": {
            "outlinewidth": 0,
            "tickcolor": "rgb(237,237,237)",
            "ticklen": 6,
            "ticks": "inside"
           }
          },
          "colorscale": {
           "sequential": [
            [
             0,
             "rgb(20,44,66)"
            ],
            [
             1,
             "rgb(90,179,244)"
            ]
           ],
           "sequentialminus": [
            [
             0,
             "rgb(20,44,66)"
            ],
            [
             1,
             "rgb(90,179,244)"
            ]
           ]
          },
          "colorway": [
           "#F8766D",
           "#A3A500",
           "#00BF7D",
           "#00B0F6",
           "#E76BF3"
          ],
          "font": {
           "color": "rgb(51,51,51)"
          },
          "geo": {
           "bgcolor": "white",
           "lakecolor": "white",
           "landcolor": "rgb(237,237,237)",
           "showlakes": true,
           "showland": true,
           "subunitcolor": "white"
          },
          "hoverlabel": {
           "align": "left"
          },
          "hovermode": "closest",
          "paper_bgcolor": "white",
          "plot_bgcolor": "rgb(237,237,237)",
          "polar": {
           "angularaxis": {
            "gridcolor": "white",
            "linecolor": "white",
            "showgrid": true,
            "tickcolor": "rgb(51,51,51)",
            "ticks": "outside"
           },
           "bgcolor": "rgb(237,237,237)",
           "radialaxis": {
            "gridcolor": "white",
            "linecolor": "white",
            "showgrid": true,
            "tickcolor": "rgb(51,51,51)",
            "ticks": "outside"
           }
          },
          "scene": {
           "xaxis": {
            "backgroundcolor": "rgb(237,237,237)",
            "gridcolor": "white",
            "gridwidth": 2,
            "linecolor": "white",
            "showbackground": true,
            "showgrid": true,
            "tickcolor": "rgb(51,51,51)",
            "ticks": "outside",
            "zerolinecolor": "white"
           },
           "yaxis": {
            "backgroundcolor": "rgb(237,237,237)",
            "gridcolor": "white",
            "gridwidth": 2,
            "linecolor": "white",
            "showbackground": true,
            "showgrid": true,
            "tickcolor": "rgb(51,51,51)",
            "ticks": "outside",
            "zerolinecolor": "white"
           },
           "zaxis": {
            "backgroundcolor": "rgb(237,237,237)",
            "gridcolor": "white",
            "gridwidth": 2,
            "linecolor": "white",
            "showbackground": true,
            "showgrid": true,
            "tickcolor": "rgb(51,51,51)",
            "ticks": "outside",
            "zerolinecolor": "white"
           }
          },
          "shapedefaults": {
           "fillcolor": "black",
           "line": {
            "width": 0
           },
           "opacity": 0.3
          },
          "ternary": {
           "aaxis": {
            "gridcolor": "white",
            "linecolor": "white",
            "showgrid": true,
            "tickcolor": "rgb(51,51,51)",
            "ticks": "outside"
           },
           "baxis": {
            "gridcolor": "white",
            "linecolor": "white",
            "showgrid": true,
            "tickcolor": "rgb(51,51,51)",
            "ticks": "outside"
           },
           "bgcolor": "rgb(237,237,237)",
           "caxis": {
            "gridcolor": "white",
            "linecolor": "white",
            "showgrid": true,
            "tickcolor": "rgb(51,51,51)",
            "ticks": "outside"
           }
          },
          "xaxis": {
           "automargin": true,
           "gridcolor": "white",
           "linecolor": "white",
           "showgrid": true,
           "tickcolor": "rgb(51,51,51)",
           "ticks": "outside",
           "title": {
            "standoff": 15
           },
           "zerolinecolor": "white"
          },
          "yaxis": {
           "automargin": true,
           "gridcolor": "white",
           "linecolor": "white",
           "showgrid": true,
           "tickcolor": "rgb(51,51,51)",
           "ticks": "outside",
           "title": {
            "standoff": 15
           },
           "zerolinecolor": "white"
          }
         }
        },
        "width": 990,
        "xaxis": {
         "anchor": "y",
         "domain": [
          0,
          1
         ],
         "matches": "x2",
         "showticklabels": false
        },
        "xaxis2": {
         "anchor": "y2",
         "domain": [
          0,
          1
         ]
        },
        "yaxis": {
         "anchor": "x",
         "domain": [
          0.515,
          1
         ]
        },
        "yaxis2": {
         "anchor": "x2",
         "domain": [
          0,
          0.485
         ]
        }
       }
      }
     },
     "metadata": {}
    }
   ],
   "source": [
    "from plotly.subplots import make_subplots\n",
    "\n",
    "# fig = tools.make_subplots(rows = 1, cols = 2, specs = [[{}, {}]],\n",
    "#                           horizontal_spacing = 0.05)\n",
    "\n",
    "\n",
    "fig = make_subplots(rows=2, cols=1,specs = [[{}],[{}]],vertical_spacing = 0.03,shared_xaxes=True,\n",
    "                  subplot_titles=(\"Box-график распределения по новым заболевшим(в день) за неделю:\",\n",
    "                                 \"Box-график распределения по выздоровевшим(в день) за неделю:\"))\n",
    "#subplot_titles=(\"Статистика по новым заболевшим за последние 2 недели\",\"Статистика по выздоровевшим за последние 2 недели\")\n",
    "\n",
    "for i in cols:\n",
    "    fig.add_trace(\n",
    "    go.Box(x=new_df1[i],name = i,boxmean = True,marker_color = color_dict.get(i)),row=1,col=1)\n",
    "\n",
    "for i in cols:\n",
    "    fig.add_trace(\n",
    "    go.Box(x=new_df2[i],name = i,boxmean=True,marker_color = color_dict.get(i)),row=2,col=1)\n",
    "\n",
    "\n",
    "fig.update_layout(\n",
    "#     annotations=[\n",
    "#         dict(\n",
    "#             x=0.5,\n",
    "#             y=-0.15,\n",
    "#             showarrow=False,\n",
    "#             text=\"Ветикальная пунктирная линия - среднее, Вертикальная сплошная - медиана распоеделения\",\n",
    "#             xref=\"paper\",\n",
    "#             yref=\"paper\"),\n",
    "        \n",
    "#                 ],\n",
    "    \n",
    "    \n",
    "                  width = 990, height = 1200,\n",
    "    \n",
    "    \n",
    "                 showlegend=False,template ='ggplot2'\n",
    ")\n",
    "\n",
    "#fig.update_layout(height=1000, width=800,showlegend=False)\n",
    "fig.show()"
   ]
  },
  {
   "cell_type": "code",
   "execution_count": null,
   "metadata": {},
   "outputs": [],
   "source": []
  },
  {
   "cell_type": "code",
   "execution_count": null,
   "metadata": {},
   "outputs": [],
   "source": []
  }
 ],
 "metadata": {
  "kernelspec": {
   "display_name": "Python 3.8.3 64-bit ('covid': venv)",
   "language": "python",
   "name": "python38364bitcovidvenvebdaa96572d64ce3ae923c0c7db69618"
  },
  "language_info": {
   "codemirror_mode": {
    "name": "ipython",
    "version": 3
   },
   "file_extension": ".py",
   "mimetype": "text/x-python",
   "name": "python",
   "nbconvert_exporter": "python",
   "pygments_lexer": "ipython3",
   "version": "3.8.3-final"
  }
 },
 "nbformat": 4,
 "nbformat_minor": 4
}