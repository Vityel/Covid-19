{
 "cells": [
  {
   "cell_type": "code",
   "execution_count": 1,
   "metadata": {},
   "outputs": [
    {
     "output_type": "execute_result",
     "data": {
      "text/plain": "'ru_RU.UTF-8'"
     },
     "metadata": {},
     "execution_count": 1
    }
   ],
   "source": [
    "import pandas as pd\n",
    "import datetime\n",
    "import plotly.graph_objects as go\n",
    "import plotly.express as px\n",
    "import plotly.figure_factory as ff\n",
    "import locale\n",
    "#locale.setlocale(locale.LC_ALL, \"ru\")\n",
    "locale.setlocale(locale.LC_ALL, \"ru_RU.UTF-8\")\n",
    "\n",
    "# import chart_studio\n",
    "# import chart_studio.plotly as py\n",
    "\n",
    "# chart_studio.tools.set_credentials_file(username='vityel', api_key='SJLcp4WV9hsofzgws45L')\n"
   ]
  },
  {
   "cell_type": "code",
   "execution_count": 2,
   "metadata": {},
   "outputs": [
    {
     "output_type": "execute_result",
     "data": {
      "text/plain": "      Country        Date  Confirmed  Recovered  Deaths  Day_confirmed  \\\n37567  Япония  2020-07-21      26463      20001     988            757   \n37568  Япония  2020-07-22      27136      20482     990            673   \n37569  Япония  2020-07-23      28114      20878     992            978   \n37570  Япония  2020-07-24      28883      21173     994            769   \n37571  Япония  2020-07-25      29684      21464     996            801   \n37572  Япония  2020-07-26      30548      21606     998            864   \n37573  Япония  2020-07-27      31142      21970     998            594   \n37574  Япония  2020-07-28      32116      22636    1001            974   \n37575  Япония  2020-07-29      33382      23351    1001           1266   \n37576  Япония  2020-07-30      35144      24024    1007           1762   \n37577  Япония  2020-07-31      36234      24774    1008           1090   \n37578  Япония  2020-08-01      37804      25347    1012           1570   \n37579  Япония  2020-08-02      39116      25748    1013           1312   \n37580  Япония  2020-08-03      40099      26476    1018            983   \n37581  Япония  2020-08-04      41347      27187    1023           1248   \n37582  Япония  2020-08-05      42686      28020    1028           1339   \n37583  Япония  2020-08-06      44167      28858    1034           1481   \n37584  Япония  2020-08-07      45764      30241    1042           1597   \n37585  Япония  2020-08-08      47342      31248    1042           1578   \n37586  Япония  2020-08-09      48782      32867    1047           1440   \n\n       Day_recovered  Day_deaths  \n37567            398           0  \n37568            481           2  \n37569            396           2  \n37570            295           2  \n37571            291           2  \n37572            142           2  \n37573            364           0  \n37574            666           3  \n37575            715           0  \n37576            673           6  \n37577            750           1  \n37578            573           4  \n37579            401           1  \n37580            728           5  \n37581            711           5  \n37582            833           5  \n37583            838           6  \n37584           1383           8  \n37585           1007           0  \n37586           1619           5  ",
      "text/html": "<div>\n<style scoped>\n    .dataframe tbody tr th:only-of-type {\n        vertical-align: middle;\n    }\n\n    .dataframe tbody tr th {\n        vertical-align: top;\n    }\n\n    .dataframe thead th {\n        text-align: right;\n    }\n</style>\n<table border=\"1\" class=\"dataframe\">\n  <thead>\n    <tr style=\"text-align: right;\">\n      <th></th>\n      <th>Country</th>\n      <th>Date</th>\n      <th>Confirmed</th>\n      <th>Recovered</th>\n      <th>Deaths</th>\n      <th>Day_confirmed</th>\n      <th>Day_recovered</th>\n      <th>Day_deaths</th>\n    </tr>\n  </thead>\n  <tbody>\n    <tr>\n      <th>37567</th>\n      <td>Япония</td>\n      <td>2020-07-21</td>\n      <td>26463</td>\n      <td>20001</td>\n      <td>988</td>\n      <td>757</td>\n      <td>398</td>\n      <td>0</td>\n    </tr>\n    <tr>\n      <th>37568</th>\n      <td>Япония</td>\n      <td>2020-07-22</td>\n      <td>27136</td>\n      <td>20482</td>\n      <td>990</td>\n      <td>673</td>\n      <td>481</td>\n      <td>2</td>\n    </tr>\n    <tr>\n      <th>37569</th>\n      <td>Япония</td>\n      <td>2020-07-23</td>\n      <td>28114</td>\n      <td>20878</td>\n      <td>992</td>\n      <td>978</td>\n      <td>396</td>\n      <td>2</td>\n    </tr>\n    <tr>\n      <th>37570</th>\n      <td>Япония</td>\n      <td>2020-07-24</td>\n      <td>28883</td>\n      <td>21173</td>\n      <td>994</td>\n      <td>769</td>\n      <td>295</td>\n      <td>2</td>\n    </tr>\n    <tr>\n      <th>37571</th>\n      <td>Япония</td>\n      <td>2020-07-25</td>\n      <td>29684</td>\n      <td>21464</td>\n      <td>996</td>\n      <td>801</td>\n      <td>291</td>\n      <td>2</td>\n    </tr>\n    <tr>\n      <th>37572</th>\n      <td>Япония</td>\n      <td>2020-07-26</td>\n      <td>30548</td>\n      <td>21606</td>\n      <td>998</td>\n      <td>864</td>\n      <td>142</td>\n      <td>2</td>\n    </tr>\n    <tr>\n      <th>37573</th>\n      <td>Япония</td>\n      <td>2020-07-27</td>\n      <td>31142</td>\n      <td>21970</td>\n      <td>998</td>\n      <td>594</td>\n      <td>364</td>\n      <td>0</td>\n    </tr>\n    <tr>\n      <th>37574</th>\n      <td>Япония</td>\n      <td>2020-07-28</td>\n      <td>32116</td>\n      <td>22636</td>\n      <td>1001</td>\n      <td>974</td>\n      <td>666</td>\n      <td>3</td>\n    </tr>\n    <tr>\n      <th>37575</th>\n      <td>Япония</td>\n      <td>2020-07-29</td>\n      <td>33382</td>\n      <td>23351</td>\n      <td>1001</td>\n      <td>1266</td>\n      <td>715</td>\n      <td>0</td>\n    </tr>\n    <tr>\n      <th>37576</th>\n      <td>Япония</td>\n      <td>2020-07-30</td>\n      <td>35144</td>\n      <td>24024</td>\n      <td>1007</td>\n      <td>1762</td>\n      <td>673</td>\n      <td>6</td>\n    </tr>\n    <tr>\n      <th>37577</th>\n      <td>Япония</td>\n      <td>2020-07-31</td>\n      <td>36234</td>\n      <td>24774</td>\n      <td>1008</td>\n      <td>1090</td>\n      <td>750</td>\n      <td>1</td>\n    </tr>\n    <tr>\n      <th>37578</th>\n      <td>Япония</td>\n      <td>2020-08-01</td>\n      <td>37804</td>\n      <td>25347</td>\n      <td>1012</td>\n      <td>1570</td>\n      <td>573</td>\n      <td>4</td>\n    </tr>\n    <tr>\n      <th>37579</th>\n      <td>Япония</td>\n      <td>2020-08-02</td>\n      <td>39116</td>\n      <td>25748</td>\n      <td>1013</td>\n      <td>1312</td>\n      <td>401</td>\n      <td>1</td>\n    </tr>\n    <tr>\n      <th>37580</th>\n      <td>Япония</td>\n      <td>2020-08-03</td>\n      <td>40099</td>\n      <td>26476</td>\n      <td>1018</td>\n      <td>983</td>\n      <td>728</td>\n      <td>5</td>\n    </tr>\n    <tr>\n      <th>37581</th>\n      <td>Япония</td>\n      <td>2020-08-04</td>\n      <td>41347</td>\n      <td>27187</td>\n      <td>1023</td>\n      <td>1248</td>\n      <td>711</td>\n      <td>5</td>\n    </tr>\n    <tr>\n      <th>37582</th>\n      <td>Япония</td>\n      <td>2020-08-05</td>\n      <td>42686</td>\n      <td>28020</td>\n      <td>1028</td>\n      <td>1339</td>\n      <td>833</td>\n      <td>5</td>\n    </tr>\n    <tr>\n      <th>37583</th>\n      <td>Япония</td>\n      <td>2020-08-06</td>\n      <td>44167</td>\n      <td>28858</td>\n      <td>1034</td>\n      <td>1481</td>\n      <td>838</td>\n      <td>6</td>\n    </tr>\n    <tr>\n      <th>37584</th>\n      <td>Япония</td>\n      <td>2020-08-07</td>\n      <td>45764</td>\n      <td>30241</td>\n      <td>1042</td>\n      <td>1597</td>\n      <td>1383</td>\n      <td>8</td>\n    </tr>\n    <tr>\n      <th>37585</th>\n      <td>Япония</td>\n      <td>2020-08-08</td>\n      <td>47342</td>\n      <td>31248</td>\n      <td>1042</td>\n      <td>1578</td>\n      <td>1007</td>\n      <td>0</td>\n    </tr>\n    <tr>\n      <th>37586</th>\n      <td>Япония</td>\n      <td>2020-08-09</td>\n      <td>48782</td>\n      <td>32867</td>\n      <td>1047</td>\n      <td>1440</td>\n      <td>1619</td>\n      <td>5</td>\n    </tr>\n  </tbody>\n</table>\n</div>"
     },
     "metadata": {},
     "execution_count": 2
    }
   ],
   "source": [
    "yandex_world = pd.read_csv('yandex_world.csv')\n",
    "yandex_world.rename(columns = {'Дата':'Date','Страна':'Country','Заражений':'Confirmed','Выздоровлений':'Recovered',\n",
    "                               'Смертей':'Deaths','Смертей за день':'Day_deaths',\n",
    "                               'Заражений за день':'Day_confirmed','Выздоровлений за день':'Day_recovered'},inplace = True)\n",
    "for i in range(yandex_world.shape[0]):\n",
    "    a= yandex_world.Date[i].split('.')\n",
    "    yandex_world.Date[i]=datetime.date(int(a[2]),int(a[1]),int(a[0]))\n",
    "\n",
    "yandex_world.tail(20)"
   ]
  },
  {
   "cell_type": "code",
   "execution_count": 3,
   "metadata": {},
   "outputs": [
    {
     "output_type": "execute_result",
     "data": {
      "text/plain": "      Country        Date  Confirmed  Recovered  Deaths  Day_confirmed  \\\n191  Весь мир  2020-07-31   17599905   10369140  680234         290100   \n192  Весь мир  2020-08-01   17850617   10553585  685773         250712   \n193  Весь мир  2020-08-02   18079723   10690555  690065         229106   \n194  Весь мир  2020-08-03   18282208   10913000  694396         202485   \n195  Весь мир  2020-08-04   18540789   11134735  701347         258581   \n196  Весь мир  2020-08-05   18811953   11356275  708424         271164   \n197  Весь мир  2020-08-06   19097149   11545401  714940         285196   \n198  Весь мир  2020-08-07   19378036   11737927  721324         280887   \n199  Весь мир  2020-08-08   19637506   11939109  726781         259470   \n200  Весь мир  2020-08-09   19861683   12115825  731326         224177   \n\n     Day_recovered  Day_deaths  \n191         198490        6293  \n192         184445        5539  \n193         136970        4292  \n194         222445        4331  \n195         221735        6951  \n196         221540        7077  \n197         189126        6516  \n198         192526        6384  \n199         201182        5457  \n200         176716        4545  ",
      "text/html": "<div>\n<style scoped>\n    .dataframe tbody tr th:only-of-type {\n        vertical-align: middle;\n    }\n\n    .dataframe tbody tr th {\n        vertical-align: top;\n    }\n\n    .dataframe thead th {\n        text-align: right;\n    }\n</style>\n<table border=\"1\" class=\"dataframe\">\n  <thead>\n    <tr style=\"text-align: right;\">\n      <th></th>\n      <th>Country</th>\n      <th>Date</th>\n      <th>Confirmed</th>\n      <th>Recovered</th>\n      <th>Deaths</th>\n      <th>Day_confirmed</th>\n      <th>Day_recovered</th>\n      <th>Day_deaths</th>\n    </tr>\n  </thead>\n  <tbody>\n    <tr>\n      <th>191</th>\n      <td>Весь мир</td>\n      <td>2020-07-31</td>\n      <td>17599905</td>\n      <td>10369140</td>\n      <td>680234</td>\n      <td>290100</td>\n      <td>198490</td>\n      <td>6293</td>\n    </tr>\n    <tr>\n      <th>192</th>\n      <td>Весь мир</td>\n      <td>2020-08-01</td>\n      <td>17850617</td>\n      <td>10553585</td>\n      <td>685773</td>\n      <td>250712</td>\n      <td>184445</td>\n      <td>5539</td>\n    </tr>\n    <tr>\n      <th>193</th>\n      <td>Весь мир</td>\n      <td>2020-08-02</td>\n      <td>18079723</td>\n      <td>10690555</td>\n      <td>690065</td>\n      <td>229106</td>\n      <td>136970</td>\n      <td>4292</td>\n    </tr>\n    <tr>\n      <th>194</th>\n      <td>Весь мир</td>\n      <td>2020-08-03</td>\n      <td>18282208</td>\n      <td>10913000</td>\n      <td>694396</td>\n      <td>202485</td>\n      <td>222445</td>\n      <td>4331</td>\n    </tr>\n    <tr>\n      <th>195</th>\n      <td>Весь мир</td>\n      <td>2020-08-04</td>\n      <td>18540789</td>\n      <td>11134735</td>\n      <td>701347</td>\n      <td>258581</td>\n      <td>221735</td>\n      <td>6951</td>\n    </tr>\n    <tr>\n      <th>196</th>\n      <td>Весь мир</td>\n      <td>2020-08-05</td>\n      <td>18811953</td>\n      <td>11356275</td>\n      <td>708424</td>\n      <td>271164</td>\n      <td>221540</td>\n      <td>7077</td>\n    </tr>\n    <tr>\n      <th>197</th>\n      <td>Весь мир</td>\n      <td>2020-08-06</td>\n      <td>19097149</td>\n      <td>11545401</td>\n      <td>714940</td>\n      <td>285196</td>\n      <td>189126</td>\n      <td>6516</td>\n    </tr>\n    <tr>\n      <th>198</th>\n      <td>Весь мир</td>\n      <td>2020-08-07</td>\n      <td>19378036</td>\n      <td>11737927</td>\n      <td>721324</td>\n      <td>280887</td>\n      <td>192526</td>\n      <td>6384</td>\n    </tr>\n    <tr>\n      <th>199</th>\n      <td>Весь мир</td>\n      <td>2020-08-08</td>\n      <td>19637506</td>\n      <td>11939109</td>\n      <td>726781</td>\n      <td>259470</td>\n      <td>201182</td>\n      <td>5457</td>\n    </tr>\n    <tr>\n      <th>200</th>\n      <td>Весь мир</td>\n      <td>2020-08-09</td>\n      <td>19861683</td>\n      <td>12115825</td>\n      <td>731326</td>\n      <td>224177</td>\n      <td>176716</td>\n      <td>4545</td>\n    </tr>\n  </tbody>\n</table>\n</div>"
     },
     "metadata": {},
     "execution_count": 3
    }
   ],
   "source": [
    "df3_temp = yandex_world.groupby('Date').sum()\n",
    "df3_temp['Country']='Весь мир'\n",
    "\n",
    "y5= pd.concat([yandex_world,df3_temp.reset_index()],axis = 0)\n",
    "y5.reset_index()\n",
    "yandex_world = y5\n",
    "yandex_world.tail(10)"
   ]
  },
  {
   "cell_type": "code",
   "execution_count": 4,
   "metadata": {
    "tags": []
   },
   "outputs": [
    {
     "output_type": "stream",
     "name": "stdout",
     "text": "Весь мир\nВыбран день:  2020-08-09\n"
    }
   ],
   "source": [
    "# dt = datetime.datetime.today()\n",
    "# today = datetime.date(dt.year,dt.month,dt.day)\n",
    "# ystday = datetime.date(today.year,today.month,today.day-1)\n",
    "# yst2day = datetime.date(today.year,today.month,today.day-2)\n",
    "# yst3day = datetime.date(today.year,today.month,today.day-3)\n",
    "\n",
    "# print(today)\n",
    "# print(ystday)\n",
    "# print(yst2day)\n",
    "# print(yst3day)\n",
    "myday = list(yandex_world.tail(1).Date)[0]\n",
    "\n",
    "print(yandex_world.iloc[-1,0])\n",
    "print('Выбран день: ',myday)"
   ]
  },
  {
   "cell_type": "code",
   "execution_count": 5,
   "metadata": {
    "tags": []
   },
   "outputs": [
    {
     "output_type": "stream",
     "name": "stdout",
     "text": "dict_items([(0, 'Австралия'), (1, 'Австрия'), (2, 'Азербайджан'), (3, 'Албания'), (4, 'Алжир'), (5, 'Ангола'), (6, 'Андорра'), (7, 'Антигуа и Барбуда'), (8, 'Аргентина'), (9, 'Армения'), (10, 'Афганистан'), (11, 'Багамские острова'), (12, 'Бангладеш'), (13, 'Барбадос'), (14, 'Бахрейн'), (15, 'Беларусь'), (16, 'Белиз'), (17, 'Бельгия'), (18, 'Бенин'), (19, 'Болгария'), (20, 'Боливия'), (21, 'Босния и Герцеговина'), (22, 'Ботсвана'), (23, 'Бразилия'), (24, 'Бруней'), (25, 'Буркина-Фасо'), (26, 'Бурунди'), (27, 'Бутан'), (28, 'Великобритания'), (29, 'Венгрия'), (30, 'Венесуэла'), (31, 'Весь мир'), (32, 'Восточный Тимор'), (33, 'Вьетнам'), (34, 'Габон'), (35, 'Гаити'), (36, 'Гайана'), (37, 'Гамбия'), (38, 'Гана'), (39, 'Гватемала'), (40, 'Гвинея'), (41, 'Гвинея-Бисау'), (42, 'Германия'), (43, 'Гондурас'), (44, 'Гренада'), (45, 'Греция'), (46, 'Грузия'), (47, 'ДР Конго'), (48, 'Дания'), (49, 'Джибути'), (50, 'Доминика'), (51, 'Доминиканская Республика'), (52, 'Египет'), (53, 'Замбия'), (54, 'Западная Сахара'), (55, 'Западный берег реки Иордан'), (56, 'Зимбабве'), (57, 'Израиль'), (58, 'Индия'), (59, 'Индонезия'), (60, 'Иордания'), (61, 'Ирак'), (62, 'Иран'), (63, 'Ирландия'), (64, 'Исландия'), (65, 'Испания'), (66, 'Италия'), (67, 'Йемен'), (68, 'Кабо-Верде'), (69, 'Казахстан'), (70, 'Камбоджа'), (71, 'Камерун'), (72, 'Канада'), (73, 'Катар'), (74, 'Кения'), (75, 'Кипр'), (76, 'Киргизия'), (77, 'Китай'), (78, 'Колумбия'), (79, 'Коморские острова'), (80, 'Косово и Метохия'), (81, 'Коста-Рика'), (82, 'Кот-д’Ивуар'), (83, 'Куба'), (84, 'Кувейт'), (85, 'Лаос'), (86, 'Латвия'), (87, 'Лесото'), (88, 'Либерия'), (89, 'Ливан'), (90, 'Ливия'), (91, 'Литва'), (92, 'Лихтенштейн'), (93, 'Люксембург'), (94, 'Маврикий'), (95, 'Мавритания'), (96, 'Мадагаскар'), (97, 'Малави'), (98, 'Малайзия'), (99, 'Мали'), (100, 'Мальдивы'), (101, 'Мальта'), (102, 'Марокко'), (103, 'Мексика'), (104, 'Мозамбик'), (105, 'Молдавия'), (106, 'Монако'), (107, 'Монголия'), (108, 'Мьянма'), (109, 'Намибия'), (110, 'Непал'), (111, 'Нигер'), (112, 'Нигерия'), (113, 'Нидерланды'), (114, 'Никарагуа'), (115, 'Новая Зеландия'), (116, 'Норвегия'), (117, 'ОАЭ'), (118, 'Оман'), (119, 'Пакистан'), (120, 'Панама'), (121, 'Папский Престол'), (122, 'Папуа — Новая Гвинея'), (123, 'Парагвай'), (124, 'Перу'), (125, 'Польша'), (126, 'Португалия'), (127, 'Республика Конго'), (128, 'Россия'), (129, 'Руанда'), (130, 'Румыния'), (131, 'США'), (132, 'Сальвадор'), (133, 'Сан-Марино'), (134, 'Сан-Томе и Принсипи'), (135, 'Саудовская Аравия'), (136, 'Северная Македония'), (137, 'Сейшельские острова'), (138, 'Сенегал'), (139, 'Сент-Винсент и Гренадины'), (140, 'Сент-Китс и Невис'), (141, 'Сент-Люсия'), (142, 'Сербия'), (143, 'Сингапур'), (144, 'Сирия'), (145, 'Словакия'), (146, 'Словения'), (147, 'Сомали'), (148, 'Судан'), (149, 'Судно \"Diamond Princess\"'), (150, 'Судно \"MS Zaandam\"'), (151, 'Суринам'), (152, 'Сьерра-Леоне'), (153, 'Таджикистан'), (154, 'Таиланд'), (155, 'Танзания'), (156, 'Того'), (157, 'Тринидад и Тобаго'), (158, 'Тунис'), (159, 'Турция'), (160, 'Уганда'), (161, 'Узбекистан'), (162, 'Украина'), (163, 'Уругвай'), (164, 'Фиджи'), (165, 'Филиппины'), (166, 'Финляндия'), (167, 'Франция'), (168, 'Хорватия'), (169, 'ЦАР'), (170, 'Чад'), (171, 'Черногория'), (172, 'Чехия'), (173, 'Чили'), (174, 'Швейцария'), (175, 'Швеция'), (176, 'Шри-Ланка'), (177, 'Эквадор'), (178, 'Экваториальная Гвинея'), (179, 'Эритрея'), (180, 'Эсватини'), (181, 'Эстония'), (182, 'Эфиопия'), (183, 'ЮАР'), (184, 'Южная Корея'), (185, 'Южный Судан'), (186, 'Ямайка'), (187, 'Япония')])\n"
    },
    {
     "output_type": "execute_result",
     "data": {
      "text/plain": "             Date  Confirmed  Recovered  Deaths  Day_confirmed  Day_recovered  \\\n37783  2020-08-05      42686      28020    1028           1339            833   \n37784  2020-08-06      44167      28858    1034           1481            838   \n37785  2020-08-07      45764      30241    1042           1597           1383   \n37786  2020-08-08      47342      31248    1042           1578           1007   \n37787  2020-08-09      48782      32867    1047           1440           1619   \n\n       Day_deaths     Rt    Rt2  Rate_conf  Rate_ill Country  Remaining_ill  \\\n37783           5  0.858  1.145          0         0  Япония          13638   \n37784           6  0.881  1.135          0         0  Япония          14275   \n37785           8  1.143  1.135          0         0  Япония          14481   \n37786           0  1.173  1.136          0         0  Япония          15052   \n37787           5  1.249  1.140          0         0  Япония          14868   \n\n       MA7_dayconfirmed  MA14_dayconfirmed  MA7_remaining_ill  \\\n37783       1329.142857        1110.714286       11963.571429   \n37784       1289.000000        1146.642857       12558.142857   \n37785       1361.428571        1205.785714       13133.714286   \n37786       1362.571429        1261.285714       13649.000000   \n37787       1380.857143        1302.428571       14008.000000   \n\n       MA14_remaining_ill  Change_dayconf  Change_remill  \n37783         9825.428571              91            501  \n37784        10399.071429             142            637  \n37785        10953.714286             116            206  \n37786        11512.857143             -19            571  \n37787        12007.428571            -138           -184  ",
      "text/html": "<div>\n<style scoped>\n    .dataframe tbody tr th:only-of-type {\n        vertical-align: middle;\n    }\n\n    .dataframe tbody tr th {\n        vertical-align: top;\n    }\n\n    .dataframe thead th {\n        text-align: right;\n    }\n</style>\n<table border=\"1\" class=\"dataframe\">\n  <thead>\n    <tr style=\"text-align: right;\">\n      <th></th>\n      <th>Date</th>\n      <th>Confirmed</th>\n      <th>Recovered</th>\n      <th>Deaths</th>\n      <th>Day_confirmed</th>\n      <th>Day_recovered</th>\n      <th>Day_deaths</th>\n      <th>Rt</th>\n      <th>Rt2</th>\n      <th>Rate_conf</th>\n      <th>Rate_ill</th>\n      <th>Country</th>\n      <th>Remaining_ill</th>\n      <th>MA7_dayconfirmed</th>\n      <th>MA14_dayconfirmed</th>\n      <th>MA7_remaining_ill</th>\n      <th>MA14_remaining_ill</th>\n      <th>Change_dayconf</th>\n      <th>Change_remill</th>\n    </tr>\n  </thead>\n  <tbody>\n    <tr>\n      <th>37783</th>\n      <td>2020-08-05</td>\n      <td>42686</td>\n      <td>28020</td>\n      <td>1028</td>\n      <td>1339</td>\n      <td>833</td>\n      <td>5</td>\n      <td>0.858</td>\n      <td>1.145</td>\n      <td>0</td>\n      <td>0</td>\n      <td>Япония</td>\n      <td>13638</td>\n      <td>1329.142857</td>\n      <td>1110.714286</td>\n      <td>11963.571429</td>\n      <td>9825.428571</td>\n      <td>91</td>\n      <td>501</td>\n    </tr>\n    <tr>\n      <th>37784</th>\n      <td>2020-08-06</td>\n      <td>44167</td>\n      <td>28858</td>\n      <td>1034</td>\n      <td>1481</td>\n      <td>838</td>\n      <td>6</td>\n      <td>0.881</td>\n      <td>1.135</td>\n      <td>0</td>\n      <td>0</td>\n      <td>Япония</td>\n      <td>14275</td>\n      <td>1289.000000</td>\n      <td>1146.642857</td>\n      <td>12558.142857</td>\n      <td>10399.071429</td>\n      <td>142</td>\n      <td>637</td>\n    </tr>\n    <tr>\n      <th>37785</th>\n      <td>2020-08-07</td>\n      <td>45764</td>\n      <td>30241</td>\n      <td>1042</td>\n      <td>1597</td>\n      <td>1383</td>\n      <td>8</td>\n      <td>1.143</td>\n      <td>1.135</td>\n      <td>0</td>\n      <td>0</td>\n      <td>Япония</td>\n      <td>14481</td>\n      <td>1361.428571</td>\n      <td>1205.785714</td>\n      <td>13133.714286</td>\n      <td>10953.714286</td>\n      <td>116</td>\n      <td>206</td>\n    </tr>\n    <tr>\n      <th>37786</th>\n      <td>2020-08-08</td>\n      <td>47342</td>\n      <td>31248</td>\n      <td>1042</td>\n      <td>1578</td>\n      <td>1007</td>\n      <td>0</td>\n      <td>1.173</td>\n      <td>1.136</td>\n      <td>0</td>\n      <td>0</td>\n      <td>Япония</td>\n      <td>15052</td>\n      <td>1362.571429</td>\n      <td>1261.285714</td>\n      <td>13649.000000</td>\n      <td>11512.857143</td>\n      <td>-19</td>\n      <td>571</td>\n    </tr>\n    <tr>\n      <th>37787</th>\n      <td>2020-08-09</td>\n      <td>48782</td>\n      <td>32867</td>\n      <td>1047</td>\n      <td>1440</td>\n      <td>1619</td>\n      <td>5</td>\n      <td>1.249</td>\n      <td>1.140</td>\n      <td>0</td>\n      <td>0</td>\n      <td>Япония</td>\n      <td>14868</td>\n      <td>1380.857143</td>\n      <td>1302.428571</td>\n      <td>14008.000000</td>\n      <td>12007.428571</td>\n      <td>-138</td>\n      <td>-184</td>\n    </tr>\n  </tbody>\n</table>\n</div>"
     },
     "metadata": {},
     "execution_count": 5
    }
   ],
   "source": [
    "X = pd.DataFrame()\n",
    "country_dict = {}\n",
    "yandex_world['Rt'] = 1\n",
    "yandex_world['Rt2'] = 1\n",
    "yandex_world['Rate_conf'] = 0\n",
    "yandex_world['Rate_ill'] = 0\n",
    "\n",
    "temp_df = yandex_world.groupby(['Country','Date']).sum()\n",
    "\n",
    "# Ниже enumerate  для составления словаря из имен регионов {i:j} , для расчетов можно было использовать только j\n",
    "\n",
    "for i,j in enumerate(temp_df.index.get_level_values(0).unique()):\n",
    "    temp_df2 =  temp_df.loc[j]\n",
    "    temp1 = temp_df2['Day_confirmed'].rolling(4).sum()/(temp_df2[\"Day_confirmed\"].rolling(8).sum()-\n",
    "\n",
    "                                                              temp_df2[\"Day_confirmed\"].rolling(4).sum())\n",
    "    temp2 = temp_df2['Confirmed'].rolling(4).sum()/(temp_df2['Confirmed'].rolling(8).sum()-\n",
    "\n",
    "                                                              temp_df2['Confirmed'].rolling(4).sum())\n",
    "    temp_df2['Rt'] = round(temp1,3)\n",
    "    temp_df2['Rt2'] = round(temp2,3)\n",
    "    temp_df2['Country'] = j\n",
    "    temp_df2['Remaining_ill']=temp_df2['Confirmed']-temp_df2['Recovered']-temp_df2['Deaths']\n",
    "    temp_df2['MA7_dayconfirmed']=temp_df2['Day_confirmed'].rolling(window=7).mean()\n",
    "    temp_df2['MA14_dayconfirmed']=temp_df2['Day_confirmed'].rolling(window=14).mean()\n",
    "    temp_df2['MA7_remaining_ill']=temp_df2['Remaining_ill'].rolling(window=7).mean()\n",
    "    temp_df2['MA14_remaining_ill']=temp_df2['Remaining_ill'].rolling(window=14).mean()\n",
    "    \n",
    "    temp_df2['Change_dayconf'] = 0\n",
    "    for k in range(1,temp_df2.shape[0]):\n",
    "        temp_df2['Change_dayconf'].iloc[k]=temp_df2['Day_confirmed'].iloc[k]-temp_df2['Day_confirmed'].iloc[k-1]\n",
    "    temp_df2['Change_remill'] = 0\n",
    "    for k in range(1,temp_df2.shape[0]):\n",
    "        temp_df2['Change_remill'].iloc[k]=temp_df2['Remaining_ill'].iloc[k]-temp_df2['Remaining_ill'].iloc[k-1]\n",
    "    \n",
    "    \n",
    "\n",
    "   #Генератор DF  на каждый регион(сидит в цикле):\n",
    "   # globals()['x' + str(i)] = temp_df2.reset_index()\n",
    "    \n",
    "    X = pd.concat([X,temp_df2.reset_index()],axis = 0)\n",
    "    country_dict[i]=j\n",
    "    \n",
    "print(country_dict.items())\n",
    "    \n",
    "X = X.reset_index(drop=True)\n",
    "X.tail()\n"
   ]
  },
  {
   "cell_type": "code",
   "execution_count": 6,
   "metadata": {
    "tags": []
   },
   "outputs": [
    {
     "output_type": "stream",
     "name": "stdout",
     "text": "Confirmed  Remaining_ill\nDate                                \n2020-08-08   19637506        6971616\n2020-08-09   19861683        7014532\n37788\n(37788, 19)\n2020-01-22\n"
    }
   ],
   "source": [
    "# Добавляем колонки расчитанные сколько доля их в процентах от суммарного показателя в мире\n",
    "mask = X.Country == 'Весь мир'\n",
    "temp_df = X[mask][['Date','Confirmed','Remaining_ill']]\n",
    "temp_df.index = temp_df.Date\n",
    "temp_df.drop(columns =['Date'], inplace = True)\n",
    "print(temp_df.tail(2))\n",
    "# print(temp_df.index.get_level_values(0))\n",
    "# temp_df.loc[datetime.date(2020,6,15),'Россия'].Confirmed\n",
    "# for i in temp_df.index.get_level_values(0).unique()[-2:]:\n",
    "#     print(temp_df.loc[i,'Россия'].Confirmed)\n",
    "world_date = list(temp_df.index)\n",
    "world_conf = list(temp_df.Confirmed)\n",
    "world_ill = list(temp_df.Remaining_ill)\n",
    "world_dict_conf = dict(zip(world_date,world_conf))\n",
    "world_dict_ill = dict(zip(world_date,world_ill))\n",
    "\n",
    "print(len(X))\n",
    "print(X.shape)\n",
    "print(X.loc[0,'Date'])\n",
    "for i in range(len(X)):\n",
    "    X.loc[i,'Rate_conf']=100*X.loc[i,'Confirmed']/world_dict_conf.get(X.loc[i,'Date'])\n",
    "    X.loc[i,'Rate_ill']=100*X.loc[i,'Remaining_ill']/world_dict_ill.get(X.loc[i,'Date'])\n"
   ]
  },
  {
   "cell_type": "code",
   "execution_count": 7,
   "metadata": {},
   "outputs": [
    {
     "output_type": "execute_result",
     "data": {
      "text/plain": "             Date  Confirmed Country  Rate_conf  Rate_ill\n25909  2020-07-21     782040  Россия   5.231740  3.548844\n25910  2020-07-22     787890  Россия   5.173797  3.424477\n25911  2020-07-23     793720  Россия   5.117068  3.324245\n25912  2020-07-24     799499  Россия   5.062559  3.253420\n25913  2020-07-25     805332  Россия   5.018291  3.194038\n25914  2020-07-26     811073  Россия   4.987776  3.199638\n25915  2020-07-27     816680  Россия   4.953278  3.212297\n25916  2020-07-28     822060  Россия   4.910751  3.118423\n25917  2020-07-29     827509  Россия   4.859366  3.035268\n25918  2020-07-30     832993  Россия   4.812261  2.950142\n25919  2020-07-31     838461  Россия   4.764009  2.859387\n25920  2020-08-01     843890  Россия   4.727512  2.791299\n25921  2020-08-02     849277  Россия   4.697401  2.779656\n25922  2020-08-03     854641  Россия   4.674714  2.817847\n25923  2020-08-04     859762  Россия   4.637138  2.762239\n25924  2020-08-05     864948  Россия   4.597864  2.707976\n25925  2020-08-06     870187  Россия   4.556633  2.640691\n25926  2020-08-07     875378  Россия   4.517372  2.578516\n25927  2020-08-08     880563  Россия   4.484088  2.537145\n25928  2020-08-09     885718  Россия   4.459431  2.548367",
      "text/html": "<div>\n<style scoped>\n    .dataframe tbody tr th:only-of-type {\n        vertical-align: middle;\n    }\n\n    .dataframe tbody tr th {\n        vertical-align: top;\n    }\n\n    .dataframe thead th {\n        text-align: right;\n    }\n</style>\n<table border=\"1\" class=\"dataframe\">\n  <thead>\n    <tr style=\"text-align: right;\">\n      <th></th>\n      <th>Date</th>\n      <th>Confirmed</th>\n      <th>Country</th>\n      <th>Rate_conf</th>\n      <th>Rate_ill</th>\n    </tr>\n  </thead>\n  <tbody>\n    <tr>\n      <th>25909</th>\n      <td>2020-07-21</td>\n      <td>782040</td>\n      <td>Россия</td>\n      <td>5.231740</td>\n      <td>3.548844</td>\n    </tr>\n    <tr>\n      <th>25910</th>\n      <td>2020-07-22</td>\n      <td>787890</td>\n      <td>Россия</td>\n      <td>5.173797</td>\n      <td>3.424477</td>\n    </tr>\n    <tr>\n      <th>25911</th>\n      <td>2020-07-23</td>\n      <td>793720</td>\n      <td>Россия</td>\n      <td>5.117068</td>\n      <td>3.324245</td>\n    </tr>\n    <tr>\n      <th>25912</th>\n      <td>2020-07-24</td>\n      <td>799499</td>\n      <td>Россия</td>\n      <td>5.062559</td>\n      <td>3.253420</td>\n    </tr>\n    <tr>\n      <th>25913</th>\n      <td>2020-07-25</td>\n      <td>805332</td>\n      <td>Россия</td>\n      <td>5.018291</td>\n      <td>3.194038</td>\n    </tr>\n    <tr>\n      <th>25914</th>\n      <td>2020-07-26</td>\n      <td>811073</td>\n      <td>Россия</td>\n      <td>4.987776</td>\n      <td>3.199638</td>\n    </tr>\n    <tr>\n      <th>25915</th>\n      <td>2020-07-27</td>\n      <td>816680</td>\n      <td>Россия</td>\n      <td>4.953278</td>\n      <td>3.212297</td>\n    </tr>\n    <tr>\n      <th>25916</th>\n      <td>2020-07-28</td>\n      <td>822060</td>\n      <td>Россия</td>\n      <td>4.910751</td>\n      <td>3.118423</td>\n    </tr>\n    <tr>\n      <th>25917</th>\n      <td>2020-07-29</td>\n      <td>827509</td>\n      <td>Россия</td>\n      <td>4.859366</td>\n      <td>3.035268</td>\n    </tr>\n    <tr>\n      <th>25918</th>\n      <td>2020-07-30</td>\n      <td>832993</td>\n      <td>Россия</td>\n      <td>4.812261</td>\n      <td>2.950142</td>\n    </tr>\n    <tr>\n      <th>25919</th>\n      <td>2020-07-31</td>\n      <td>838461</td>\n      <td>Россия</td>\n      <td>4.764009</td>\n      <td>2.859387</td>\n    </tr>\n    <tr>\n      <th>25920</th>\n      <td>2020-08-01</td>\n      <td>843890</td>\n      <td>Россия</td>\n      <td>4.727512</td>\n      <td>2.791299</td>\n    </tr>\n    <tr>\n      <th>25921</th>\n      <td>2020-08-02</td>\n      <td>849277</td>\n      <td>Россия</td>\n      <td>4.697401</td>\n      <td>2.779656</td>\n    </tr>\n    <tr>\n      <th>25922</th>\n      <td>2020-08-03</td>\n      <td>854641</td>\n      <td>Россия</td>\n      <td>4.674714</td>\n      <td>2.817847</td>\n    </tr>\n    <tr>\n      <th>25923</th>\n      <td>2020-08-04</td>\n      <td>859762</td>\n      <td>Россия</td>\n      <td>4.637138</td>\n      <td>2.762239</td>\n    </tr>\n    <tr>\n      <th>25924</th>\n      <td>2020-08-05</td>\n      <td>864948</td>\n      <td>Россия</td>\n      <td>4.597864</td>\n      <td>2.707976</td>\n    </tr>\n    <tr>\n      <th>25925</th>\n      <td>2020-08-06</td>\n      <td>870187</td>\n      <td>Россия</td>\n      <td>4.556633</td>\n      <td>2.640691</td>\n    </tr>\n    <tr>\n      <th>25926</th>\n      <td>2020-08-07</td>\n      <td>875378</td>\n      <td>Россия</td>\n      <td>4.517372</td>\n      <td>2.578516</td>\n    </tr>\n    <tr>\n      <th>25927</th>\n      <td>2020-08-08</td>\n      <td>880563</td>\n      <td>Россия</td>\n      <td>4.484088</td>\n      <td>2.537145</td>\n    </tr>\n    <tr>\n      <th>25928</th>\n      <td>2020-08-09</td>\n      <td>885718</td>\n      <td>Россия</td>\n      <td>4.459431</td>\n      <td>2.548367</td>\n    </tr>\n  </tbody>\n</table>\n</div>"
     },
     "metadata": {},
     "execution_count": 7
    }
   ],
   "source": [
    "# Проверка расчетов процентных показателей\n",
    "mask = (X.Date>=datetime.date(2020,6,13))&(X.Country.isin(['Весь мир','Россия']))\n",
    "\n",
    "temp=X[mask]\n",
    "temp[['Date','Confirmed','Country','Rate_conf','Rate_ill']].tail(20)"
   ]
  },
  {
   "cell_type": "code",
   "execution_count": 8,
   "metadata": {},
   "outputs": [
    {
     "output_type": "display_data",
     "data": {
      "application/vnd.plotly.v1+json": {
       "config": {
        "plotlyServerURL": "https://plot.ly"
       },
       "data": [
        {
         "colorscale": [
          [
           0,
           "#00083e"
          ],
          [
           0.5,
           "#ededee"
          ],
          [
           1,
           "#ffffff"
          ]
         ],
         "hoverinfo": "none",
         "opacity": 0.75,
         "showscale": false,
         "type": "heatmap",
         "z": [
          [
           0,
           0,
           0,
           0
          ],
          [
           0.5,
           0.5,
           0.5,
           0.5
          ],
          [
           1,
           1,
           1,
           1
          ],
          [
           0.5,
           0.5,
           0.5,
           0.5
          ],
          [
           1,
           1,
           1,
           1
          ],
          [
           0.5,
           0.5,
           0.5,
           0.5
          ],
          [
           1,
           1,
           1,
           1
          ],
          [
           0.5,
           0.5,
           0.5,
           0.5
          ],
          [
           1,
           1,
           1,
           1
          ],
          [
           0.5,
           0.5,
           0.5,
           0.5
          ],
          [
           1,
           1,
           1,
           1
          ],
          [
           0.5,
           0.5,
           0.5,
           0.5
          ],
          [
           1,
           1,
           1,
           1
          ],
          [
           0.5,
           0.5,
           0.5,
           0.5
          ],
          [
           1,
           1,
           1,
           1
          ],
          [
           0.5,
           0.5,
           0.5,
           0.5
          ]
         ]
        }
       ],
       "layout": {
        "annotations": [
         {
          "align": "left",
          "font": {
           "color": "#ffffff"
          },
          "showarrow": false,
          "text": "<b>По количеству текущих больных</b>",
          "x": -0.45,
          "xanchor": "left",
          "xref": "x",
          "y": 0,
          "yref": "y"
         },
         {
          "align": "left",
          "font": {
           "color": "#ffffff"
          },
          "showarrow": false,
          "text": "<b>По количеству новых</b>",
          "x": 0.55,
          "xanchor": "left",
          "xref": "x",
          "y": 0,
          "yref": "y"
         },
         {
          "align": "left",
          "font": {
           "color": "#ffffff"
          },
          "showarrow": false,
          "text": "<b>По умершим за день</b>",
          "x": 1.55,
          "xanchor": "left",
          "xref": "x",
          "y": 0,
          "yref": "y"
         },
         {
          "align": "left",
          "font": {
           "color": "#ffffff"
          },
          "showarrow": false,
          "text": "<b>По выздоровевшим за день</b>",
          "x": 2.55,
          "xanchor": "left",
          "xref": "x",
          "y": 0,
          "yref": "y"
         },
         {
          "align": "left",
          "font": {
           "color": "#000000"
          },
          "showarrow": false,
          "text": "США",
          "x": -0.45,
          "xanchor": "left",
          "xref": "x",
          "y": 1,
          "yref": "y"
         },
         {
          "align": "left",
          "font": {
           "color": "#000000"
          },
          "showarrow": false,
          "text": "Индия",
          "x": 0.55,
          "xanchor": "left",
          "xref": "x",
          "y": 1,
          "yref": "y"
         },
         {
          "align": "left",
          "font": {
           "color": "#000000"
          },
          "showarrow": false,
          "text": "Индия",
          "x": 1.55,
          "xanchor": "left",
          "xref": "x",
          "y": 1,
          "yref": "y"
         },
         {
          "align": "left",
          "font": {
           "color": "#000000"
          },
          "showarrow": false,
          "text": "Индия",
          "x": 2.55,
          "xanchor": "left",
          "xref": "x",
          "y": 1,
          "yref": "y"
         },
         {
          "align": "left",
          "font": {
           "color": "#000000"
          },
          "showarrow": false,
          "text": "Индия",
          "x": -0.45,
          "xanchor": "left",
          "xref": "x",
          "y": 2,
          "yref": "y"
         },
         {
          "align": "left",
          "font": {
           "color": "#000000"
          },
          "showarrow": false,
          "text": "США",
          "x": 0.55,
          "xanchor": "left",
          "xref": "x",
          "y": 2,
          "yref": "y"
         },
         {
          "align": "left",
          "font": {
           "color": "#000000"
          },
          "showarrow": false,
          "text": "Бразилия",
          "x": 1.55,
          "xanchor": "left",
          "xref": "x",
          "y": 2,
          "yref": "y"
         },
         {
          "align": "left",
          "font": {
           "color": "#000000"
          },
          "showarrow": false,
          "text": "Бразилия",
          "x": 2.55,
          "xanchor": "left",
          "xref": "x",
          "y": 2,
          "yref": "y"
         },
         {
          "align": "left",
          "font": {
           "color": "#000000"
          },
          "showarrow": false,
          "text": "Бразилия",
          "x": -0.45,
          "xanchor": "left",
          "xref": "x",
          "y": 3,
          "yref": "y"
         },
         {
          "align": "left",
          "font": {
           "color": "#000000"
          },
          "showarrow": false,
          "text": "Бразилия",
          "x": 0.55,
          "xanchor": "left",
          "xref": "x",
          "y": 3,
          "yref": "y"
         },
         {
          "align": "left",
          "font": {
           "color": "#000000"
          },
          "showarrow": false,
          "text": "США",
          "x": 1.55,
          "xanchor": "left",
          "xref": "x",
          "y": 3,
          "yref": "y"
         },
         {
          "align": "left",
          "font": {
           "color": "#000000"
          },
          "showarrow": false,
          "text": "США",
          "x": 2.55,
          "xanchor": "left",
          "xref": "x",
          "y": 3,
          "yref": "y"
         },
         {
          "align": "left",
          "font": {
           "color": "#000000"
          },
          "showarrow": false,
          "text": "Великобритания",
          "x": -0.45,
          "xanchor": "left",
          "xref": "x",
          "y": 4,
          "yref": "y"
         },
         {
          "align": "left",
          "font": {
           "color": "#000000"
          },
          "showarrow": false,
          "text": "Перу",
          "x": 0.55,
          "xanchor": "left",
          "xref": "x",
          "y": 4,
          "yref": "y"
         },
         {
          "align": "left",
          "font": {
           "color": "#000000"
          },
          "showarrow": false,
          "text": "Перу",
          "x": 1.55,
          "xanchor": "left",
          "xref": "x",
          "y": 4,
          "yref": "y"
         },
         {
          "align": "left",
          "font": {
           "color": "#000000"
          },
          "showarrow": false,
          "text": "Колумбия",
          "x": 2.55,
          "xanchor": "left",
          "xref": "x",
          "y": 4,
          "yref": "y"
         },
         {
          "align": "left",
          "font": {
           "color": "#000000"
          },
          "showarrow": false,
          "text": "Россия",
          "x": -0.45,
          "xanchor": "left",
          "xref": "x",
          "y": 5,
          "yref": "y"
         },
         {
          "align": "left",
          "font": {
           "color": "#000000"
          },
          "showarrow": false,
          "text": "Колумбия",
          "x": 0.55,
          "xanchor": "left",
          "xref": "x",
          "y": 5,
          "yref": "y"
         },
         {
          "align": "left",
          "font": {
           "color": "#000000"
          },
          "showarrow": false,
          "text": "Колумбия",
          "x": 1.55,
          "xanchor": "left",
          "xref": "x",
          "y": 5,
          "yref": "y"
         },
         {
          "align": "left",
          "font": {
           "color": "#000000"
          },
          "showarrow": false,
          "text": "Мексика",
          "x": 2.55,
          "xanchor": "left",
          "xref": "x",
          "y": 5,
          "yref": "y"
         },
         {
          "align": "left",
          "font": {
           "color": "#000000"
          },
          "showarrow": false,
          "text": "Колумбия",
          "x": -0.45,
          "xanchor": "left",
          "xref": "x",
          "y": 6,
          "yref": "y"
         },
         {
          "align": "left",
          "font": {
           "color": "#000000"
          },
          "showarrow": false,
          "text": "ЮАР",
          "x": 0.55,
          "xanchor": "left",
          "xref": "x",
          "y": 6,
          "yref": "y"
         },
         {
          "align": "left",
          "font": {
           "color": "#000000"
          },
          "showarrow": false,
          "text": "Мексика",
          "x": 1.55,
          "xanchor": "left",
          "xref": "x",
          "y": 6,
          "yref": "y"
         },
         {
          "align": "left",
          "font": {
           "color": "#000000"
          },
          "showarrow": false,
          "text": "Эквадор",
          "x": 2.55,
          "xanchor": "left",
          "xref": "x",
          "y": 6,
          "yref": "y"
         },
         {
          "align": "left",
          "font": {
           "color": "#000000"
          },
          "showarrow": false,
          "text": "ЮАР",
          "x": -0.45,
          "xanchor": "left",
          "xref": "x",
          "y": 7,
          "yref": "y"
         },
         {
          "align": "left",
          "font": {
           "color": "#000000"
          },
          "showarrow": false,
          "text": "Россия",
          "x": 0.55,
          "xanchor": "left",
          "xref": "x",
          "y": 7,
          "yref": "y"
         },
         {
          "align": "left",
          "font": {
           "color": "#000000"
          },
          "showarrow": false,
          "text": "ЮАР",
          "x": 1.55,
          "xanchor": "left",
          "xref": "x",
          "y": 7,
          "yref": "y"
         },
         {
          "align": "left",
          "font": {
           "color": "#000000"
          },
          "showarrow": false,
          "text": "ЮАР",
          "x": 2.55,
          "xanchor": "left",
          "xref": "x",
          "y": 7,
          "yref": "y"
         },
         {
          "align": "left",
          "font": {
           "color": "#000000"
          },
          "showarrow": false,
          "text": "Испания",
          "x": -0.45,
          "xanchor": "left",
          "xref": "x",
          "y": 8,
          "yref": "y"
         },
         {
          "align": "left",
          "font": {
           "color": "#000000"
          },
          "showarrow": false,
          "text": "Аргентина",
          "x": 0.55,
          "xanchor": "left",
          "xref": "x",
          "y": 8,
          "yref": "y"
         },
         {
          "align": "left",
          "font": {
           "color": "#000000"
          },
          "showarrow": false,
          "text": "Иран",
          "x": 1.55,
          "xanchor": "left",
          "xref": "x",
          "y": 8,
          "yref": "y"
         },
         {
          "align": "left",
          "font": {
           "color": "#000000"
          },
          "showarrow": false,
          "text": "Перу",
          "x": 2.55,
          "xanchor": "left",
          "xref": "x",
          "y": 8,
          "yref": "y"
         },
         {
          "align": "left",
          "font": {
           "color": "#000000"
          },
          "showarrow": false,
          "text": "Аргентина",
          "x": -0.45,
          "xanchor": "left",
          "xref": "x",
          "y": 9,
          "yref": "y"
         },
         {
          "align": "left",
          "font": {
           "color": "#000000"
          },
          "showarrow": false,
          "text": "Мексика",
          "x": 0.55,
          "xanchor": "left",
          "xref": "x",
          "y": 9,
          "yref": "y"
         },
         {
          "align": "left",
          "font": {
           "color": "#000000"
          },
          "showarrow": false,
          "text": "Аргентина",
          "x": 1.55,
          "xanchor": "left",
          "xref": "x",
          "y": 9,
          "yref": "y"
         },
         {
          "align": "left",
          "font": {
           "color": "#000000"
          },
          "showarrow": false,
          "text": "Россия",
          "x": 2.55,
          "xanchor": "left",
          "xref": "x",
          "y": 9,
          "yref": "y"
         },
         {
          "align": "left",
          "font": {
           "color": "#000000"
          },
          "showarrow": false,
          "text": "Перу",
          "x": -0.45,
          "xanchor": "left",
          "xref": "x",
          "y": 10,
          "yref": "y"
         },
         {
          "align": "left",
          "font": {
           "color": "#000000"
          },
          "showarrow": false,
          "text": "Филиппины",
          "x": 0.55,
          "xanchor": "left",
          "xref": "x",
          "y": 10,
          "yref": "y"
         },
         {
          "align": "left",
          "font": {
           "color": "#000000"
          },
          "showarrow": false,
          "text": "Ирак",
          "x": 1.55,
          "xanchor": "left",
          "xref": "x",
          "y": 10,
          "yref": "y"
         },
         {
          "align": "left",
          "font": {
           "color": "#000000"
          },
          "showarrow": false,
          "text": "Ирак",
          "x": 2.55,
          "xanchor": "left",
          "xref": "x",
          "y": 10,
          "yref": "y"
         },
         {
          "align": "left",
          "font": {
           "color": "#000000"
          },
          "showarrow": false,
          "text": "Франция",
          "x": -0.45,
          "xanchor": "left",
          "xref": "x",
          "y": 11,
          "yref": "y"
         },
         {
          "align": "left",
          "font": {
           "color": "#000000"
          },
          "showarrow": false,
          "text": "Ирак",
          "x": 0.55,
          "xanchor": "left",
          "xref": "x",
          "y": 11,
          "yref": "y"
         },
         {
          "align": "left",
          "font": {
           "color": "#000000"
          },
          "showarrow": false,
          "text": "Россия",
          "x": 1.55,
          "xanchor": "left",
          "xref": "x",
          "y": 11,
          "yref": "y"
         },
         {
          "align": "left",
          "font": {
           "color": "#000000"
          },
          "showarrow": false,
          "text": "Иран",
          "x": 2.55,
          "xanchor": "left",
          "xref": "x",
          "y": 11,
          "yref": "y"
         },
         {
          "align": "left",
          "font": {
           "color": "#000000"
          },
          "showarrow": false,
          "text": "Бангладеш",
          "x": -0.45,
          "xanchor": "left",
          "xref": "x",
          "y": 12,
          "yref": "y"
         },
         {
          "align": "left",
          "font": {
           "color": "#000000"
          },
          "showarrow": false,
          "text": "Бангладеш",
          "x": 0.55,
          "xanchor": "left",
          "xref": "x",
          "y": 12,
          "yref": "y"
         },
         {
          "align": "left",
          "font": {
           "color": "#000000"
          },
          "showarrow": false,
          "text": "Чили",
          "x": 1.55,
          "xanchor": "left",
          "xref": "x",
          "y": 12,
          "yref": "y"
         },
         {
          "align": "left",
          "font": {
           "color": "#000000"
          },
          "showarrow": false,
          "text": "Бангладеш",
          "x": 2.55,
          "xanchor": "left",
          "xref": "x",
          "y": 12,
          "yref": "y"
         },
         {
          "align": "left",
          "font": {
           "color": "#000000"
          },
          "showarrow": false,
          "text": "Швеция",
          "x": -0.45,
          "xanchor": "left",
          "xref": "x",
          "y": 13,
          "yref": "y"
         },
         {
          "align": "left",
          "font": {
           "color": "#000000"
          },
          "showarrow": false,
          "text": "Чили",
          "x": 0.55,
          "xanchor": "left",
          "xref": "x",
          "y": 13,
          "yref": "y"
         },
         {
          "align": "left",
          "font": {
           "color": "#000000"
          },
          "showarrow": false,
          "text": "Индонезия",
          "x": 1.55,
          "xanchor": "left",
          "xref": "x",
          "y": 13,
          "yref": "y"
         },
         {
          "align": "left",
          "font": {
           "color": "#000000"
          },
          "showarrow": false,
          "text": "Чили",
          "x": 2.55,
          "xanchor": "left",
          "xref": "x",
          "y": 13,
          "yref": "y"
         },
         {
          "align": "left",
          "font": {
           "color": "#000000"
          },
          "showarrow": false,
          "text": "Филиппины",
          "x": -0.45,
          "xanchor": "left",
          "xref": "x",
          "y": 14,
          "yref": "y"
         },
         {
          "align": "left",
          "font": {
           "color": "#000000"
          },
          "showarrow": false,
          "text": "Иран",
          "x": 0.55,
          "xanchor": "left",
          "xref": "x",
          "y": 14,
          "yref": "y"
         },
         {
          "align": "left",
          "font": {
           "color": "#000000"
          },
          "showarrow": false,
          "text": "Филиппины",
          "x": 1.55,
          "xanchor": "left",
          "xref": "x",
          "y": 14,
          "yref": "y"
         },
         {
          "align": "left",
          "font": {
           "color": "#000000"
          },
          "showarrow": false,
          "text": "Индонезия",
          "x": 2.55,
          "xanchor": "left",
          "xref": "x",
          "y": 14,
          "yref": "y"
         },
         {
          "align": "left",
          "font": {
           "color": "#000000"
          },
          "showarrow": false,
          "text": "Боливия",
          "x": -0.45,
          "xanchor": "left",
          "xref": "x",
          "y": 15,
          "yref": "y"
         },
         {
          "align": "left",
          "font": {
           "color": "#000000"
          },
          "showarrow": false,
          "text": "Индонезия",
          "x": 0.55,
          "xanchor": "left",
          "xref": "x",
          "y": 15,
          "yref": "y"
         },
         {
          "align": "left",
          "font": {
           "color": "#000000"
          },
          "showarrow": false,
          "text": "Боливия",
          "x": 1.55,
          "xanchor": "left",
          "xref": "x",
          "y": 15,
          "yref": "y"
         },
         {
          "align": "left",
          "font": {
           "color": "#000000"
          },
          "showarrow": false,
          "text": "Япония",
          "x": 2.55,
          "xanchor": "left",
          "xref": "x",
          "y": 15,
          "yref": "y"
         }
        ],
        "height": 600,
        "margin": {
         "b": 100,
         "l": 0,
         "r": 0,
         "t": 100
        },
        "template": {
         "data": {
          "pie": [
           {
            "automargin": true,
            "type": "pie"
           }
          ]
         },
         "layout": {
          "xaxis": {
           "showgrid": true,
           "title": {
            "standoff": 15
           }
          },
          "yaxis": {
           "showgrid": true,
           "title": {
            "standoff": 15
           }
          }
         }
        },
        "title": {
         "text": "Таблица рейтингов заболеваемости COVID-19 по странам",
         "x": 0.5,
         "xanchor": "center",
         "y": 0.95,
         "yanchor": "middle"
        },
        "width": 990,
        "xaxis": {
         "dtick": 1,
         "gridwidth": 2,
         "showticklabels": false,
         "tick0": -0.5,
         "ticks": "",
         "title": {
          "text": ""
         },
         "zeroline": false
        },
        "yaxis": {
         "autorange": "reversed",
         "dtick": 1,
         "gridwidth": 2,
         "showticklabels": false,
         "tick0": 0.5,
         "ticks": "",
         "title": {
          "text": ""
         },
         "zeroline": false
        }
       }
      }
     },
     "metadata": {}
    }
   ],
   "source": [
    "covid_rates = pd.DataFrame()\n",
    "mask = (X.Date==myday)&(X.Country!='Весь мир')\n",
    "today_cases = X[mask]\n",
    "#covid_rates.reset_index(drop=True)\n",
    "covid_rates['По количеству текущих больных'] = today_cases.sort_values(by=['Remaining_ill'],ascending = False).Country.reset_index(drop=True)\n",
    "covid_rates['По количеству новых'] = today_cases.sort_values(by=['Day_confirmed'],ascending = False).Country.reset_index(drop=True)\n",
    "covid_rates['По умершим за день'] = today_cases.sort_values(by=['Day_deaths'],ascending = False).Country.reset_index(drop=True)\n",
    "covid_rates['По выздоровевшим за день'] = today_cases.sort_values(by=['Day_recovered'],ascending = False).Country.reset_index(drop=True)\n",
    "covid_rates.head(10)\n",
    "fig =  ff.create_table(covid_rates.head(15))\n",
    "fig.update_layout(\n",
    "    \n",
    "                  title_text ='Таблица рейтингов заболеваемости COVID-19 по странам',\n",
    "                  margin = {'t':100, 'b':100},\n",
    "                  title_x = 0.5,\n",
    "                  title_y= 0.95,\n",
    "                  title_xanchor = \"center\",\n",
    "                  title_yanchor = \"middle\", \n",
    "                  \n",
    "                  width = 990, height = 600,template = 'gridon',\n",
    "    \n",
    "    \n",
    "                  xaxis_title='',yaxis_title = ''\n",
    ")\n",
    "\n",
    "\n",
    "fig.show()\n"
   ]
  },
  {
   "cell_type": "code",
   "execution_count": 9,
   "metadata": {},
   "outputs": [
    {
     "output_type": "execute_result",
     "data": {
      "text/plain": "['США', 'Индия', 'Бразилия', 'Великобритания', 'Россия']"
     },
     "metadata": {},
     "execution_count": 9
    }
   ],
   "source": [
    "country_number = 5\n",
    "country_towatch = list(covid_rates['По количеству текущих больных'].head(country_number))\n",
    "#country_towatch.append('Турция')\n",
    "#сountry_towatch.append('Танзания')\n",
    "country_towatch"
   ]
  },
  {
   "cell_type": "code",
   "execution_count": 10,
   "metadata": {},
   "outputs": [
    {
     "output_type": "display_data",
     "data": {
      "application/vnd.plotly.v1+json": {
       "config": {
        "plotlyServerURL": "https://plot.ly"
       },
       "data": [
        {
         "hovertemplate": "Страна:=Бразилия<br>Date=%{x}<br>Day_confirmed=%{y}<extra></extra>",
         "legendgroup": "Бразилия",
         "line": {
          "color": "magenta",
          "dash": "solid",
          "shape": "spline"
         },
         "mode": "lines",
         "name": "Бразилия",
         "orientation": "v",
         "showlegend": true,
         "type": "scatter",
         "x": [
          "2020-03-02",
          "2020-03-03",
          "2020-03-04",
          "2020-03-05",
          "2020-03-06",
          "2020-03-07",
          "2020-03-08",
          "2020-03-09",
          "2020-03-10",
          "2020-03-11",
          "2020-03-12",
          "2020-03-13",
          "2020-03-14",
          "2020-03-15",
          "2020-03-16",
          "2020-03-17",
          "2020-03-18",
          "2020-03-19",
          "2020-03-20",
          "2020-03-21",
          "2020-03-22",
          "2020-03-23",
          "2020-03-24",
          "2020-03-25",
          "2020-03-26",
          "2020-03-27",
          "2020-03-28",
          "2020-03-29",
          "2020-03-30",
          "2020-03-31",
          "2020-04-01",
          "2020-04-02",
          "2020-04-03",
          "2020-04-04",
          "2020-04-05",
          "2020-04-06",
          "2020-04-07",
          "2020-04-08",
          "2020-04-09",
          "2020-04-10",
          "2020-04-11",
          "2020-04-12",
          "2020-04-13",
          "2020-04-14",
          "2020-04-15",
          "2020-04-16",
          "2020-04-17",
          "2020-04-18",
          "2020-04-19",
          "2020-04-20",
          "2020-04-21",
          "2020-04-22",
          "2020-04-23",
          "2020-04-24",
          "2020-04-25",
          "2020-04-26",
          "2020-04-27",
          "2020-04-28",
          "2020-04-29",
          "2020-04-30",
          "2020-05-01",
          "2020-05-02",
          "2020-05-03",
          "2020-05-04",
          "2020-05-05",
          "2020-05-06",
          "2020-05-07",
          "2020-05-08",
          "2020-05-09",
          "2020-05-10",
          "2020-05-11",
          "2020-05-12",
          "2020-05-13",
          "2020-05-14",
          "2020-05-15",
          "2020-05-16",
          "2020-05-17",
          "2020-05-18",
          "2020-05-19",
          "2020-05-20",
          "2020-05-21",
          "2020-05-22",
          "2020-05-23",
          "2020-05-24",
          "2020-05-25",
          "2020-05-26",
          "2020-05-27",
          "2020-05-28",
          "2020-05-29",
          "2020-05-30",
          "2020-05-31",
          "2020-06-01",
          "2020-06-02",
          "2020-06-03",
          "2020-06-04",
          "2020-06-05",
          "2020-06-06",
          "2020-06-07",
          "2020-06-08",
          "2020-06-09",
          "2020-06-10",
          "2020-06-11",
          "2020-06-12",
          "2020-06-13",
          "2020-06-14",
          "2020-06-15",
          "2020-06-16",
          "2020-06-17",
          "2020-06-18",
          "2020-06-19",
          "2020-06-20",
          "2020-06-21",
          "2020-06-22",
          "2020-06-23",
          "2020-06-24",
          "2020-06-25",
          "2020-06-26",
          "2020-06-27",
          "2020-06-28",
          "2020-06-29",
          "2020-06-30",
          "2020-07-01",
          "2020-07-02",
          "2020-07-03",
          "2020-07-04",
          "2020-07-05",
          "2020-07-06",
          "2020-07-07",
          "2020-07-08",
          "2020-07-09",
          "2020-07-10",
          "2020-07-11",
          "2020-07-12",
          "2020-07-13",
          "2020-07-14",
          "2020-07-15",
          "2020-07-16",
          "2020-07-17",
          "2020-07-18",
          "2020-07-19",
          "2020-07-20",
          "2020-07-21",
          "2020-07-22",
          "2020-07-23",
          "2020-07-24",
          "2020-07-25",
          "2020-07-26",
          "2020-07-27",
          "2020-07-28",
          "2020-07-29",
          "2020-07-30",
          "2020-07-31",
          "2020-08-01",
          "2020-08-02",
          "2020-08-03",
          "2020-08-04",
          "2020-08-05",
          "2020-08-06",
          "2020-08-07",
          "2020-08-08",
          "2020-08-09"
         ],
         "xaxis": "x",
         "y": [
          0,
          0,
          2,
          0,
          9,
          0,
          7,
          5,
          6,
          7,
          14,
          99,
          0,
          11,
          38,
          121,
          51,
          249,
          172,
          228,
          525,
          378,
          323,
          307,
          431,
          432,
          487,
          352,
          323,
          1138,
          1119,
          1208,
          1012,
          1304,
          770,
          1031,
          1873,
          2136,
          1922,
          1546,
          1089,
          1465,
          1238,
          1832,
          3058,
          2105,
          3257,
          2976,
          1996,
          2089,
          2336,
          2678,
          4279,
          4007,
          5281,
          3776,
          4346,
          5789,
          6450,
          7502,
          5015,
          4898,
          4726,
          6794,
          6835,
          11156,
          9162,
          11121,
          9167,
          6638,
          6895,
          8620,
          11923,
          13028,
          17126,
          13220,
          7569,
          14288,
          16517,
          19694,
          18508,
          20803,
          16508,
          15813,
          11687,
          16324,
          20599,
          26417,
          26928,
          33274,
          16409,
          11598,
          28936,
          28633,
          30925,
          30830,
          27075,
          18912,
          15654,
          32091,
          32913,
          30412,
          25982,
          21704,
          17110,
          20647,
          34918,
          32188,
          22765,
          54771,
          34666,
          15762,
          23129,
          39436,
          42725,
          39483,
          46860,
          38693,
          30476,
          24052,
          33846,
          46712,
          48105,
          42223,
          37923,
          26051,
          20229,
          45305,
          44571,
          42619,
          45048,
          39023,
          24831,
          20286,
          41857,
          39924,
          45403,
          34177,
          28532,
          23529,
          20257,
          41008,
          67860,
          59961,
          55891,
          51147,
          24578,
          23284,
          40816,
          69074,
          57837,
          52383,
          45392,
          25800,
          16641,
          51603,
          57152,
          53139,
          50230,
          49970,
          23010
         ],
         "yaxis": "y"
        },
        {
         "hovertemplate": "Страна:=Великобритания<br>Date=%{x}<br>Day_confirmed=%{y}<extra></extra>",
         "legendgroup": "Великобритания",
         "line": {
          "color": "green",
          "dash": "solid",
          "shape": "spline"
         },
         "mode": "lines",
         "name": "Великобритания",
         "orientation": "v",
         "showlegend": true,
         "type": "scatter",
         "x": [
          "2020-03-02",
          "2020-03-03",
          "2020-03-04",
          "2020-03-05",
          "2020-03-06",
          "2020-03-07",
          "2020-03-08",
          "2020-03-09",
          "2020-03-10",
          "2020-03-11",
          "2020-03-12",
          "2020-03-13",
          "2020-03-14",
          "2020-03-15",
          "2020-03-16",
          "2020-03-17",
          "2020-03-18",
          "2020-03-19",
          "2020-03-20",
          "2020-03-21",
          "2020-03-22",
          "2020-03-23",
          "2020-03-24",
          "2020-03-25",
          "2020-03-26",
          "2020-03-27",
          "2020-03-28",
          "2020-03-29",
          "2020-03-30",
          "2020-03-31",
          "2020-04-01",
          "2020-04-02",
          "2020-04-03",
          "2020-04-04",
          "2020-04-05",
          "2020-04-06",
          "2020-04-07",
          "2020-04-08",
          "2020-04-09",
          "2020-04-10",
          "2020-04-11",
          "2020-04-12",
          "2020-04-13",
          "2020-04-14",
          "2020-04-15",
          "2020-04-16",
          "2020-04-17",
          "2020-04-18",
          "2020-04-19",
          "2020-04-20",
          "2020-04-21",
          "2020-04-22",
          "2020-04-23",
          "2020-04-24",
          "2020-04-25",
          "2020-04-26",
          "2020-04-27",
          "2020-04-28",
          "2020-04-29",
          "2020-04-30",
          "2020-05-01",
          "2020-05-02",
          "2020-05-03",
          "2020-05-04",
          "2020-05-05",
          "2020-05-06",
          "2020-05-07",
          "2020-05-08",
          "2020-05-09",
          "2020-05-10",
          "2020-05-11",
          "2020-05-12",
          "2020-05-13",
          "2020-05-14",
          "2020-05-15",
          "2020-05-16",
          "2020-05-17",
          "2020-05-18",
          "2020-05-19",
          "2020-05-20",
          "2020-05-21",
          "2020-05-22",
          "2020-05-23",
          "2020-05-24",
          "2020-05-25",
          "2020-05-26",
          "2020-05-27",
          "2020-05-28",
          "2020-05-29",
          "2020-05-30",
          "2020-05-31",
          "2020-06-01",
          "2020-06-02",
          "2020-06-03",
          "2020-06-04",
          "2020-06-05",
          "2020-06-06",
          "2020-06-07",
          "2020-06-08",
          "2020-06-09",
          "2020-06-10",
          "2020-06-11",
          "2020-06-12",
          "2020-06-13",
          "2020-06-14",
          "2020-06-15",
          "2020-06-16",
          "2020-06-17",
          "2020-06-18",
          "2020-06-19",
          "2020-06-20",
          "2020-06-21",
          "2020-06-22",
          "2020-06-23",
          "2020-06-24",
          "2020-06-25",
          "2020-06-26",
          "2020-06-27",
          "2020-06-28",
          "2020-06-29",
          "2020-06-30",
          "2020-07-01",
          "2020-07-02",
          "2020-07-03",
          "2020-07-04",
          "2020-07-05",
          "2020-07-06",
          "2020-07-07",
          "2020-07-08",
          "2020-07-09",
          "2020-07-10",
          "2020-07-11",
          "2020-07-12",
          "2020-07-13",
          "2020-07-14",
          "2020-07-15",
          "2020-07-16",
          "2020-07-17",
          "2020-07-18",
          "2020-07-19",
          "2020-07-20",
          "2020-07-21",
          "2020-07-22",
          "2020-07-23",
          "2020-07-24",
          "2020-07-25",
          "2020-07-26",
          "2020-07-27",
          "2020-07-28",
          "2020-07-29",
          "2020-07-30",
          "2020-07-31",
          "2020-08-01",
          "2020-08-02",
          "2020-08-03",
          "2020-08-04",
          "2020-08-05",
          "2020-08-06",
          "2020-08-07",
          "2020-08-08",
          "2020-08-09"
         ],
         "xaxis": "x",
         "y": [
          40,
          55,
          57,
          49,
          79,
          55,
          54,
          147,
          259,
          412,
          489,
          480,
          364,
          443,
          615,
          770,
          1005,
          1066,
          1258,
          1215,
          1389,
          2349,
          2382,
          2717,
          3127,
          3249,
          2843,
          2892,
          4327,
          4534,
          4974,
          4929,
          4981,
          4073,
          3650,
          5316,
          5486,
          5163,
          4906,
          4367,
          3613,
          3539,
          4205,
          4348,
          5100,
          5343,
          4990,
          4736,
          3860,
          4866,
          4775,
          5505,
          5168,
          4981,
          3764,
          3473,
          4704,
          4727,
          5450,
          4964,
          4730,
          3230,
          2977,
          3383,
          3689,
          3836,
          3771,
          3052,
          2150,
          2322,
          3589,
          3395,
          3300,
          2618,
          2521,
          2072,
          1826,
          2577,
          3058,
          2712,
          2554,
          2041,
          1508,
          1355,
          1613,
          1659,
          1809,
          1736,
          1508,
          1107,
          1070,
          1444,
          1470,
          1349,
          1238,
          1110,
          794,
          718,
          1094,
          1159,
          1186,
          1007,
          1054,
          888,
          807,
          1031,
          1083,
          999,
          1020,
          984,
          666,
          624,
          892,
          882,
          777,
          697,
          639,
          634,
          407,
          620,
          404,
          63,
          6,
          502,
          625,
          519,
          359,
          584,
          637,
          643,
          524,
          826,
          650,
          537,
          1240,
          538,
          647,
          687,
          829,
          726,
          586,
          445,
          563,
          779,
          769,
          770,
          750,
          688,
          553,
          802,
          847,
          883,
          769,
          747,
          942,
          675,
          906,
          964,
          900,
          765,
          1113
         ],
         "yaxis": "y"
        },
        {
         "hovertemplate": "Страна:=Индия<br>Date=%{x}<br>Day_confirmed=%{y}<extra></extra>",
         "legendgroup": "Индия",
         "line": {
          "color": "darkblue",
          "dash": "solid",
          "shape": "spline"
         },
         "mode": "lines",
         "name": "Индия",
         "orientation": "v",
         "showlegend": true,
         "type": "scatter",
         "x": [
          "2020-03-02",
          "2020-03-03",
          "2020-03-04",
          "2020-03-05",
          "2020-03-06",
          "2020-03-07",
          "2020-03-08",
          "2020-03-09",
          "2020-03-10",
          "2020-03-11",
          "2020-03-12",
          "2020-03-13",
          "2020-03-14",
          "2020-03-15",
          "2020-03-16",
          "2020-03-17",
          "2020-03-18",
          "2020-03-19",
          "2020-03-20",
          "2020-03-21",
          "2020-03-22",
          "2020-03-23",
          "2020-03-24",
          "2020-03-25",
          "2020-03-26",
          "2020-03-27",
          "2020-03-28",
          "2020-03-29",
          "2020-03-30",
          "2020-03-31",
          "2020-04-01",
          "2020-04-02",
          "2020-04-03",
          "2020-04-04",
          "2020-04-05",
          "2020-04-06",
          "2020-04-07",
          "2020-04-08",
          "2020-04-09",
          "2020-04-10",
          "2020-04-11",
          "2020-04-12",
          "2020-04-13",
          "2020-04-14",
          "2020-04-15",
          "2020-04-16",
          "2020-04-17",
          "2020-04-18",
          "2020-04-19",
          "2020-04-20",
          "2020-04-21",
          "2020-04-22",
          "2020-04-23",
          "2020-04-24",
          "2020-04-25",
          "2020-04-26",
          "2020-04-27",
          "2020-04-28",
          "2020-04-29",
          "2020-04-30",
          "2020-05-01",
          "2020-05-02",
          "2020-05-03",
          "2020-05-04",
          "2020-05-05",
          "2020-05-06",
          "2020-05-07",
          "2020-05-08",
          "2020-05-09",
          "2020-05-10",
          "2020-05-11",
          "2020-05-12",
          "2020-05-13",
          "2020-05-14",
          "2020-05-15",
          "2020-05-16",
          "2020-05-17",
          "2020-05-18",
          "2020-05-19",
          "2020-05-20",
          "2020-05-21",
          "2020-05-22",
          "2020-05-23",
          "2020-05-24",
          "2020-05-25",
          "2020-05-26",
          "2020-05-27",
          "2020-05-28",
          "2020-05-29",
          "2020-05-30",
          "2020-05-31",
          "2020-06-01",
          "2020-06-02",
          "2020-06-03",
          "2020-06-04",
          "2020-06-05",
          "2020-06-06",
          "2020-06-07",
          "2020-06-08",
          "2020-06-09",
          "2020-06-10",
          "2020-06-11",
          "2020-06-12",
          "2020-06-13",
          "2020-06-14",
          "2020-06-15",
          "2020-06-16",
          "2020-06-17",
          "2020-06-18",
          "2020-06-19",
          "2020-06-20",
          "2020-06-21",
          "2020-06-22",
          "2020-06-23",
          "2020-06-24",
          "2020-06-25",
          "2020-06-26",
          "2020-06-27",
          "2020-06-28",
          "2020-06-29",
          "2020-06-30",
          "2020-07-01",
          "2020-07-02",
          "2020-07-03",
          "2020-07-04",
          "2020-07-05",
          "2020-07-06",
          "2020-07-07",
          "2020-07-08",
          "2020-07-09",
          "2020-07-10",
          "2020-07-11",
          "2020-07-12",
          "2020-07-13",
          "2020-07-14",
          "2020-07-15",
          "2020-07-16",
          "2020-07-17",
          "2020-07-18",
          "2020-07-19",
          "2020-07-20",
          "2020-07-21",
          "2020-07-22",
          "2020-07-23",
          "2020-07-24",
          "2020-07-25",
          "2020-07-26",
          "2020-07-27",
          "2020-07-28",
          "2020-07-29",
          "2020-07-30",
          "2020-07-31",
          "2020-08-01",
          "2020-08-02",
          "2020-08-03",
          "2020-08-04",
          "2020-08-05",
          "2020-08-06",
          "2020-08-07",
          "2020-08-08",
          "2020-08-09"
         ],
         "xaxis": "x",
         "y": [
          2,
          0,
          23,
          2,
          1,
          3,
          5,
          4,
          13,
          6,
          11,
          9,
          20,
          11,
          6,
          23,
          14,
          38,
          50,
          86,
          66,
          103,
          37,
          121,
          70,
          160,
          100,
          37,
          227,
          146,
          601,
          545,
          24,
          515,
          506,
          1190,
          533,
          605,
          809,
          873,
          848,
          759,
          1248,
          1034,
          835,
          1108,
          922,
          1370,
          1893,
          924,
          1541,
          1290,
          1707,
          1453,
          1753,
          1607,
          1561,
          1873,
          1738,
          1801,
          2394,
          2442,
          2806,
          3932,
          2963,
          3587,
          3364,
          3344,
          3113,
          4353,
          3607,
          3524,
          3763,
          3942,
          3787,
          4864,
          5050,
          4630,
          6147,
          5553,
          6198,
          6568,
          6629,
          7113,
          6414,
          5843,
          7293,
          7300,
          8105,
          8336,
          8782,
          7761,
          8821,
          9633,
          9889,
          9471,
          10438,
          10864,
          8442,
          10218,
          10459,
          10930,
          11458,
          11929,
          11502,
          10667,
          10974,
          12881,
          13586,
          14516,
          15403,
          14831,
          14933,
          15968,
          16922,
          17296,
          18552,
          19906,
          19459,
          18522,
          18641,
          19160,
          20903,
          22771,
          24850,
          24248,
          22251,
          22753,
          24879,
          26506,
          27114,
          28606,
          28732,
          28498,
          29429,
          32676,
          34975,
          35252,
          38697,
          40425,
          37132,
          37740,
          45720,
          49310,
          48916,
          48611,
          49981,
          44457,
          51596,
          50294,
          52783,
          61242,
          54735,
          52972,
          52050,
          52509,
          56282,
          62538,
          61537,
          64399,
          62064
         ],
         "yaxis": "y"
        },
        {
         "hovertemplate": "Страна:=Россия<br>Date=%{x}<br>Day_confirmed=%{y}<extra></extra>",
         "legendgroup": "Россия",
         "line": {
          "color": "goldenrod",
          "dash": "solid",
          "shape": "spline"
         },
         "mode": "lines",
         "name": "Россия",
         "orientation": "v",
         "showlegend": true,
         "type": "scatter",
         "x": [
          "2020-03-02",
          "2020-03-03",
          "2020-03-04",
          "2020-03-05",
          "2020-03-06",
          "2020-03-07",
          "2020-03-08",
          "2020-03-09",
          "2020-03-10",
          "2020-03-11",
          "2020-03-12",
          "2020-03-13",
          "2020-03-14",
          "2020-03-15",
          "2020-03-16",
          "2020-03-17",
          "2020-03-18",
          "2020-03-19",
          "2020-03-20",
          "2020-03-21",
          "2020-03-22",
          "2020-03-23",
          "2020-03-24",
          "2020-03-25",
          "2020-03-26",
          "2020-03-27",
          "2020-03-28",
          "2020-03-29",
          "2020-03-30",
          "2020-03-31",
          "2020-04-01",
          "2020-04-02",
          "2020-04-03",
          "2020-04-04",
          "2020-04-05",
          "2020-04-06",
          "2020-04-07",
          "2020-04-08",
          "2020-04-09",
          "2020-04-10",
          "2020-04-11",
          "2020-04-12",
          "2020-04-13",
          "2020-04-14",
          "2020-04-15",
          "2020-04-16",
          "2020-04-17",
          "2020-04-18",
          "2020-04-19",
          "2020-04-20",
          "2020-04-21",
          "2020-04-22",
          "2020-04-23",
          "2020-04-24",
          "2020-04-25",
          "2020-04-26",
          "2020-04-27",
          "2020-04-28",
          "2020-04-29",
          "2020-04-30",
          "2020-05-01",
          "2020-05-02",
          "2020-05-03",
          "2020-05-04",
          "2020-05-05",
          "2020-05-06",
          "2020-05-07",
          "2020-05-08",
          "2020-05-09",
          "2020-05-10",
          "2020-05-11",
          "2020-05-12",
          "2020-05-13",
          "2020-05-14",
          "2020-05-15",
          "2020-05-16",
          "2020-05-17",
          "2020-05-18",
          "2020-05-19",
          "2020-05-20",
          "2020-05-21",
          "2020-05-22",
          "2020-05-23",
          "2020-05-24",
          "2020-05-25",
          "2020-05-26",
          "2020-05-27",
          "2020-05-28",
          "2020-05-29",
          "2020-05-30",
          "2020-05-31",
          "2020-06-01",
          "2020-06-02",
          "2020-06-03",
          "2020-06-04",
          "2020-06-05",
          "2020-06-06",
          "2020-06-07",
          "2020-06-08",
          "2020-06-09",
          "2020-06-10",
          "2020-06-11",
          "2020-06-12",
          "2020-06-13",
          "2020-06-14",
          "2020-06-15",
          "2020-06-16",
          "2020-06-17",
          "2020-06-18",
          "2020-06-19",
          "2020-06-20",
          "2020-06-21",
          "2020-06-22",
          "2020-06-23",
          "2020-06-24",
          "2020-06-25",
          "2020-06-26",
          "2020-06-27",
          "2020-06-28",
          "2020-06-29",
          "2020-06-30",
          "2020-07-01",
          "2020-07-02",
          "2020-07-03",
          "2020-07-04",
          "2020-07-05",
          "2020-07-06",
          "2020-07-07",
          "2020-07-08",
          "2020-07-09",
          "2020-07-10",
          "2020-07-11",
          "2020-07-12",
          "2020-07-13",
          "2020-07-14",
          "2020-07-15",
          "2020-07-16",
          "2020-07-17",
          "2020-07-18",
          "2020-07-19",
          "2020-07-20",
          "2020-07-21",
          "2020-07-22",
          "2020-07-23",
          "2020-07-24",
          "2020-07-25",
          "2020-07-26",
          "2020-07-27",
          "2020-07-28",
          "2020-07-29",
          "2020-07-30",
          "2020-07-31",
          "2020-08-01",
          "2020-08-02",
          "2020-08-03",
          "2020-08-04",
          "2020-08-05",
          "2020-08-06",
          "2020-08-07",
          "2020-08-08",
          "2020-08-09"
         ],
         "xaxis": "x",
         "y": [
          1,
          0,
          0,
          1,
          9,
          0,
          4,
          0,
          3,
          0,
          8,
          17,
          14,
          4,
          27,
          24,
          33,
          52,
          54,
          53,
          61,
          71,
          57,
          163,
          182,
          196,
          228,
          270,
          302,
          501,
          440,
          771,
          601,
          582,
          658,
          954,
          1154,
          1175,
          1459,
          1786,
          1667,
          2186,
          2558,
          2774,
          3388,
          3448,
          4070,
          4785,
          6060,
          4268,
          5642,
          5236,
          4774,
          5849,
          5966,
          6361,
          6198,
          6411,
          5841,
          7099,
          7933,
          9623,
          10633,
          10581,
          10102,
          10559,
          11231,
          10699,
          10817,
          11012,
          11656,
          10899,
          10028,
          9974,
          10598,
          9200,
          9709,
          8926,
          9263,
          8764,
          8849,
          8894,
          9434,
          8599,
          8946,
          8915,
          8338,
          8371,
          8572,
          8952,
          9268,
          8485,
          8858,
          8529,
          8823,
          8718,
          8846,
          8971,
          8970,
          8587,
          8393,
          8777,
          8961,
          8697,
          8809,
          8217,
          8241,
          7824,
          7772,
          7971,
          7870,
          7717,
          7586,
          7413,
          7165,
          7105,
          6788,
          6843,
          6784,
          6683,
          6683,
          6550,
          6752,
          6710,
          6623,
          6719,
          6569,
          6363,
          6534,
          6491,
          6623,
          6586,
          6587,
          6511,
          6240,
          6410,
          6415,
          6389,
          6214,
          6096,
          5901,
          5828,
          5850,
          5830,
          5779,
          5833,
          5741,
          5607,
          5380,
          5449,
          5484,
          5468,
          5429,
          5387,
          5364,
          5121,
          5186,
          5239,
          5191,
          5185,
          5155
         ],
         "yaxis": "y"
        },
        {
         "hovertemplate": "Страна:=США<br>Date=%{x}<br>Day_confirmed=%{y}<extra></extra>",
         "legendgroup": "США",
         "line": {
          "color": "red",
          "dash": "solid",
          "shape": "spline"
         },
         "mode": "lines",
         "name": "США",
         "orientation": "v",
         "showlegend": true,
         "type": "scatter",
         "x": [
          "2020-03-02",
          "2020-03-03",
          "2020-03-04",
          "2020-03-05",
          "2020-03-06",
          "2020-03-07",
          "2020-03-08",
          "2020-03-09",
          "2020-03-10",
          "2020-03-11",
          "2020-03-12",
          "2020-03-13",
          "2020-03-14",
          "2020-03-15",
          "2020-03-16",
          "2020-03-17",
          "2020-03-18",
          "2020-03-19",
          "2020-03-20",
          "2020-03-21",
          "2020-03-22",
          "2020-03-23",
          "2020-03-24",
          "2020-03-25",
          "2020-03-26",
          "2020-03-27",
          "2020-03-28",
          "2020-03-29",
          "2020-03-30",
          "2020-03-31",
          "2020-04-01",
          "2020-04-02",
          "2020-04-03",
          "2020-04-04",
          "2020-04-05",
          "2020-04-06",
          "2020-04-07",
          "2020-04-08",
          "2020-04-09",
          "2020-04-10",
          "2020-04-11",
          "2020-04-12",
          "2020-04-13",
          "2020-04-14",
          "2020-04-15",
          "2020-04-16",
          "2020-04-17",
          "2020-04-18",
          "2020-04-19",
          "2020-04-20",
          "2020-04-21",
          "2020-04-22",
          "2020-04-23",
          "2020-04-24",
          "2020-04-25",
          "2020-04-26",
          "2020-04-27",
          "2020-04-28",
          "2020-04-29",
          "2020-04-30",
          "2020-05-01",
          "2020-05-02",
          "2020-05-03",
          "2020-05-04",
          "2020-05-05",
          "2020-05-06",
          "2020-05-07",
          "2020-05-08",
          "2020-05-09",
          "2020-05-10",
          "2020-05-11",
          "2020-05-12",
          "2020-05-13",
          "2020-05-14",
          "2020-05-15",
          "2020-05-16",
          "2020-05-17",
          "2020-05-18",
          "2020-05-19",
          "2020-05-20",
          "2020-05-21",
          "2020-05-22",
          "2020-05-23",
          "2020-05-24",
          "2020-05-25",
          "2020-05-26",
          "2020-05-27",
          "2020-05-28",
          "2020-05-29",
          "2020-05-30",
          "2020-05-31",
          "2020-06-01",
          "2020-06-02",
          "2020-06-03",
          "2020-06-04",
          "2020-06-05",
          "2020-06-06",
          "2020-06-07",
          "2020-06-08",
          "2020-06-09",
          "2020-06-10",
          "2020-06-11",
          "2020-06-12",
          "2020-06-13",
          "2020-06-14",
          "2020-06-15",
          "2020-06-16",
          "2020-06-17",
          "2020-06-18",
          "2020-06-19",
          "2020-06-20",
          "2020-06-21",
          "2020-06-22",
          "2020-06-23",
          "2020-06-24",
          "2020-06-25",
          "2020-06-26",
          "2020-06-27",
          "2020-06-28",
          "2020-06-29",
          "2020-06-30",
          "2020-07-01",
          "2020-07-02",
          "2020-07-03",
          "2020-07-04",
          "2020-07-05",
          "2020-07-06",
          "2020-07-07",
          "2020-07-08",
          "2020-07-09",
          "2020-07-10",
          "2020-07-11",
          "2020-07-12",
          "2020-07-13",
          "2020-07-14",
          "2020-07-15",
          "2020-07-16",
          "2020-07-17",
          "2020-07-18",
          "2020-07-19",
          "2020-07-20",
          "2020-07-21",
          "2020-07-22",
          "2020-07-23",
          "2020-07-24",
          "2020-07-25",
          "2020-07-26",
          "2020-07-27",
          "2020-07-28",
          "2020-07-29",
          "2020-07-30",
          "2020-07-31",
          "2020-08-01",
          "2020-08-02",
          "2020-08-03",
          "2020-08-04",
          "2020-08-05",
          "2020-08-06",
          "2020-08-07",
          "2020-08-08",
          "2020-08-09"
         ],
         "xaxis": "x",
         "y": [
          23,
          20,
          31,
          70,
          48,
          115,
          114,
          68,
          192,
          398,
          452,
          596,
          713,
          98,
          1392,
          1781,
          2776,
          5240,
          5322,
          6346,
          7936,
          10089,
          10262,
          11943,
          18036,
          18185,
          19793,
          19136,
          21502,
          26017,
          25481,
          30405,
          31937,
          33152,
          27874,
          29642,
          30777,
          31694,
          34756,
          33501,
          30026,
          28553,
          25291,
          27065,
          29096,
          31298,
          32724,
          28341,
          26038,
          27341,
          25602,
          28104,
          34195,
          36291,
          32921,
          27689,
          22465,
          24535,
          27520,
          29629,
          34162,
          29195,
          25587,
          22475,
          24185,
          25256,
          27882,
          27178,
          25733,
          19764,
          18878,
          22190,
          20958,
          27617,
          25300,
          25101,
          19004,
          21769,
          20449,
          23807,
          25355,
          24141,
          21823,
          20813,
          18991,
          18883,
          18282,
          22815,
          24504,
          24450,
          19910,
          17355,
          20895,
          19958,
          21351,
          25224,
          22732,
          17731,
          17415,
          18127,
          20794,
          22950,
          25330,
          25556,
          19824,
          19660,
          23705,
          25559,
          27809,
          31480,
          32749,
          26439,
          30536,
          35188,
          34935,
          39873,
          45255,
          42705,
          39605,
          40804,
          45746,
          51174,
          54461,
          53312,
          45880,
          49883,
          44953,
          60021,
          58601,
          63247,
          67791,
          60188,
          59017,
          59215,
          67417,
          67328,
          77255,
          71558,
          63698,
          61847,
          61417,
          64534,
          70910,
          68695,
          73715,
          66439,
          54953,
          56414,
          65869,
          70776,
          68033,
          67092,
          58485,
          47580,
          45368,
          57540,
          52810,
          59692,
          58173,
          56174,
          46935
         ],
         "yaxis": "y"
        }
       ],
       "layout": {
        "annotations": [
         {
          "showarrow": false,
          "text": "Данные: Яндекс",
          "x": 0.5,
          "xref": "paper",
          "y": -0.15,
          "yref": "paper"
         }
        ],
        "height": 600,
        "legend": {
         "title": {
          "text": "Страна:"
         },
         "tracegroupgap": 0
        },
        "template": {
         "data": {
          "pie": [
           {
            "automargin": true,
            "type": "pie"
           }
          ]
         },
         "layout": {
          "xaxis": {
           "showgrid": true,
           "title": {
            "standoff": 15
           }
          },
          "yaxis": {
           "showgrid": true,
           "title": {
            "standoff": 15
           }
          }
         }
        },
        "title": {
         "text": "График количества новых заболевших COVID-19 по 5 странам<br> с наибольшим количеством текущих больных",
         "x": 0.5,
         "xanchor": "center",
         "y": 0.9,
         "yanchor": "bottom"
        },
        "width": 990,
        "xaxis": {
         "anchor": "y",
         "domain": [
          0,
          1
         ],
         "title": {
          "text": ""
         }
        },
        "yaxis": {
         "anchor": "x",
         "domain": [
          0,
          1
         ],
         "title": {
          "text": ""
         }
        }
       }
      }
     },
     "metadata": {}
    }
   ],
   "source": [
    "mask = (X.Date>datetime.date(2020,3,1))&(X.Country.isin(country_towatch))\n",
    "#mask = (X.Region.isin(regions_towatch))\n",
    "\n",
    "fig = px.line(X[mask], y=\"Day_confirmed\", x=\"Date\",\n",
    "                             color=\"Country\", line_group=\"Country\",\n",
    "              line_shape=\"spline\", render_mode=\"notebook\",labels={'Country':'Страна:'},\n",
    "              color_discrete_map={\n",
    "                \"США\": \"red\",\n",
    "                \"Бразилия\": \"magenta\",\n",
    "                \"Россия\": \"goldenrod\",\n",
    "                \"Индия\": \"darkblue\",\n",
    "                \"Великобритания\": \"green\",\n",
    "                 'Испания': 'aquamarine'},\n",
    "             title=\"График количества новых заболевших COVID-19 по 5 странам<br> с наибольшим количеством текущих больных\")\n",
    "\n",
    "fig.update_layout(\n",
    "    annotations=[\n",
    "            dict(\n",
    "            x=0.5,\n",
    "            y=-0.15,\n",
    "            showarrow=False,\n",
    "            text=\"Данные: Яндекс\",\n",
    "            xref=\"paper\",\n",
    "            yref=\"paper\")],\n",
    "           \n",
    "                  title_x = 0.5,\n",
    "                  title_y= 0.9,\n",
    "                  title_xanchor = \"center\",\n",
    "                  title_yanchor = \"bottom\", \n",
    "                  \n",
    "                  width = 990, height = 600,template = 'gridon',\n",
    "    \n",
    "    \n",
    "                  xaxis_title='',yaxis_title = ''\n",
    ")\n",
    "\n",
    "\n",
    "fig.show()"
   ]
  },
  {
   "cell_type": "code",
   "execution_count": 11,
   "metadata": {},
   "outputs": [
    {
     "output_type": "display_data",
     "data": {
      "application/vnd.plotly.v1+json": {
       "config": {
        "plotlyServerURL": "https://plot.ly"
       },
       "data": [
        {
         "marker": {
          "color": "red"
         },
         "name": "США",
         "showlegend": true,
         "text": [
          null,
          null,
          null,
          null,
          null,
          null,
          null,
          1.5,
          0,
          0.5,
          1,
          1,
          null,
          2,
          1,
          1,
          0,
          0,
          0,
          0,
          null,
          null,
          null,
          null,
          1,
          1,
          0,
          0,
          0,
          0,
          null,
          null,
          null,
          null,
          0,
          0,
          0.5,
          0.5,
          null,
          null,
          37,
          57,
          8.889,
          9.6,
          4.568,
          4.632,
          4.338,
          2.396,
          2.893,
          2.924,
          3.199,
          4.748,
          4.415,
          2.408,
          2.522,
          2.432,
          2.801,
          6.019,
          5.402,
          4.941,
          4.108,
          2.654,
          2.291,
          2.044,
          2.026,
          1.968,
          1.962,
          1.868,
          1.562,
          1.48,
          1.356,
          1.376,
          1.448,
          1.399,
          1.339,
          1.186,
          1.067,
          0.992,
          1.028,
          1.066,
          1.07,
          1.057,
          0.925,
          0.849,
          0.846,
          0.889,
          1.024,
          1.095,
          1.076,
          1.015,
          0.893,
          0.882,
          0.973,
          1.085,
          1.225,
          1.224,
          1.036,
          0.866,
          0.777,
          0.794,
          0.971,
          1.12,
          1.16,
          1.07,
          0.876,
          0.809,
          0.842,
          0.938,
          1.045,
          1.031,
          0.917,
          0.828,
          0.771,
          0.891,
          1.049,
          1.143,
          1.186,
          1.017,
          0.899,
          0.859,
          0.942,
          1.028,
          1.102,
          1.084,
          0.939,
          0.859,
          0.809,
          0.857,
          0.985,
          1.119,
          1.191,
          1.092,
          0.978,
          0.867,
          0.868,
          1.014,
          1.081,
          1.114,
          1.045,
          0.869,
          0.83,
          0.911,
          1.049,
          1.245,
          1.265,
          1.14,
          1.018,
          0.938,
          1.033,
          1.201,
          1.325,
          1.335,
          1.253,
          1.151,
          1.081,
          1.186,
          1.281,
          1.303,
          1.317,
          1.198,
          1.088,
          1.089,
          1.148,
          1.216,
          1.213,
          1.148,
          1.01,
          0.981,
          1.042,
          1.114,
          1.287,
          1.245,
          1.172,
          1.085,
          0.985,
          1.013,
          1.084,
          1.152,
          1.138,
          1.085,
          0.953,
          0.887,
          0.924,
          0.968,
          1.075,
          1.112,
          1.02,
          0.947,
          0.877,
          0.887,
          0.99,
          1.081,
          1.085,
          0.972,
          0.837,
          0.769,
          0.769,
          0.893,
          1.044,
          1.086,
          1.087
         ],
         "textposition": "inside",
         "type": "bar",
         "x": [
          "2020-01-22",
          "2020-01-23",
          "2020-01-24",
          "2020-01-25",
          "2020-01-26",
          "2020-01-27",
          "2020-01-28",
          "2020-01-29",
          "2020-01-30",
          "2020-01-31",
          "2020-02-01",
          "2020-02-02",
          "2020-02-03",
          "2020-02-04",
          "2020-02-05",
          "2020-02-06",
          "2020-02-07",
          "2020-02-08",
          "2020-02-09",
          "2020-02-10",
          "2020-02-11",
          "2020-02-12",
          "2020-02-13",
          "2020-02-14",
          "2020-02-15",
          "2020-02-16",
          "2020-02-17",
          "2020-02-18",
          "2020-02-19",
          "2020-02-20",
          "2020-02-21",
          "2020-02-22",
          "2020-02-23",
          "2020-02-24",
          "2020-02-25",
          "2020-02-26",
          "2020-02-27",
          "2020-02-28",
          "2020-02-29",
          "2020-03-01",
          "2020-03-02",
          "2020-03-03",
          "2020-03-04",
          "2020-03-05",
          "2020-03-06",
          "2020-03-07",
          "2020-03-08",
          "2020-03-09",
          "2020-03-10",
          "2020-03-11",
          "2020-03-12",
          "2020-03-13",
          "2020-03-14",
          "2020-03-15",
          "2020-03-16",
          "2020-03-17",
          "2020-03-18",
          "2020-03-19",
          "2020-03-20",
          "2020-03-21",
          "2020-03-22",
          "2020-03-23",
          "2020-03-24",
          "2020-03-25",
          "2020-03-26",
          "2020-03-27",
          "2020-03-28",
          "2020-03-29",
          "2020-03-30",
          "2020-03-31",
          "2020-04-01",
          "2020-04-02",
          "2020-04-03",
          "2020-04-04",
          "2020-04-05",
          "2020-04-06",
          "2020-04-07",
          "2020-04-08",
          "2020-04-09",
          "2020-04-10",
          "2020-04-11",
          "2020-04-12",
          "2020-04-13",
          "2020-04-14",
          "2020-04-15",
          "2020-04-16",
          "2020-04-17",
          "2020-04-18",
          "2020-04-19",
          "2020-04-20",
          "2020-04-21",
          "2020-04-22",
          "2020-04-23",
          "2020-04-24",
          "2020-04-25",
          "2020-04-26",
          "2020-04-27",
          "2020-04-28",
          "2020-04-29",
          "2020-04-30",
          "2020-05-01",
          "2020-05-02",
          "2020-05-03",
          "2020-05-04",
          "2020-05-05",
          "2020-05-06",
          "2020-05-07",
          "2020-05-08",
          "2020-05-09",
          "2020-05-10",
          "2020-05-11",
          "2020-05-12",
          "2020-05-13",
          "2020-05-14",
          "2020-05-15",
          "2020-05-16",
          "2020-05-17",
          "2020-05-18",
          "2020-05-19",
          "2020-05-20",
          "2020-05-21",
          "2020-05-22",
          "2020-05-23",
          "2020-05-24",
          "2020-05-25",
          "2020-05-26",
          "2020-05-27",
          "2020-05-28",
          "2020-05-29",
          "2020-05-30",
          "2020-05-31",
          "2020-06-01",
          "2020-06-02",
          "2020-06-03",
          "2020-06-04",
          "2020-06-05",
          "2020-06-06",
          "2020-06-07",
          "2020-06-08",
          "2020-06-09",
          "2020-06-10",
          "2020-06-11",
          "2020-06-12",
          "2020-06-13",
          "2020-06-14",
          "2020-06-15",
          "2020-06-16",
          "2020-06-17",
          "2020-06-18",
          "2020-06-19",
          "2020-06-20",
          "2020-06-21",
          "2020-06-22",
          "2020-06-23",
          "2020-06-24",
          "2020-06-25",
          "2020-06-26",
          "2020-06-27",
          "2020-06-28",
          "2020-06-29",
          "2020-06-30",
          "2020-07-01",
          "2020-07-02",
          "2020-07-03",
          "2020-07-04",
          "2020-07-05",
          "2020-07-06",
          "2020-07-07",
          "2020-07-08",
          "2020-07-09",
          "2020-07-10",
          "2020-07-11",
          "2020-07-12",
          "2020-07-13",
          "2020-07-14",
          "2020-07-15",
          "2020-07-16",
          "2020-07-17",
          "2020-07-18",
          "2020-07-19",
          "2020-07-20",
          "2020-07-21",
          "2020-07-22",
          "2020-07-23",
          "2020-07-24",
          "2020-07-25",
          "2020-07-26",
          "2020-07-27",
          "2020-07-28",
          "2020-07-29",
          "2020-07-30",
          "2020-07-31",
          "2020-08-01",
          "2020-08-02",
          "2020-08-03",
          "2020-08-04",
          "2020-08-05",
          "2020-08-06",
          "2020-08-07",
          "2020-08-08",
          "2020-08-09"
         ],
         "y": [
          null,
          null,
          null,
          null,
          null,
          null,
          null,
          1.5,
          0,
          0.5,
          1,
          1,
          null,
          2,
          1,
          1,
          0,
          0,
          0,
          0,
          null,
          null,
          null,
          null,
          1,
          1,
          0,
          0,
          0,
          0,
          null,
          null,
          null,
          null,
          0,
          0,
          0.5,
          0.5,
          null,
          null,
          37,
          57,
          8.889,
          9.6,
          4.568,
          4.632,
          4.338,
          2.396,
          2.893,
          2.924,
          3.199,
          4.748,
          4.415,
          2.408,
          2.522,
          2.432,
          2.801,
          6.019,
          5.402,
          4.941,
          4.108,
          2.654,
          2.291,
          2.044,
          2.026,
          1.968,
          1.962,
          1.868,
          1.562,
          1.48,
          1.356,
          1.376,
          1.448,
          1.399,
          1.339,
          1.186,
          1.067,
          0.992,
          1.028,
          1.066,
          1.07,
          1.057,
          0.925,
          0.849,
          0.846,
          0.889,
          1.024,
          1.095,
          1.076,
          1.015,
          0.893,
          0.882,
          0.973,
          1.085,
          1.225,
          1.224,
          1.036,
          0.866,
          0.777,
          0.794,
          0.971,
          1.12,
          1.16,
          1.07,
          0.876,
          0.809,
          0.842,
          0.938,
          1.045,
          1.031,
          0.917,
          0.828,
          0.771,
          0.891,
          1.049,
          1.143,
          1.186,
          1.017,
          0.899,
          0.859,
          0.942,
          1.028,
          1.102,
          1.084,
          0.939,
          0.859,
          0.809,
          0.857,
          0.985,
          1.119,
          1.191,
          1.092,
          0.978,
          0.867,
          0.868,
          1.014,
          1.081,
          1.114,
          1.045,
          0.869,
          0.83,
          0.911,
          1.049,
          1.245,
          1.265,
          1.14,
          1.018,
          0.938,
          1.033,
          1.201,
          1.325,
          1.335,
          1.253,
          1.151,
          1.081,
          1.186,
          1.281,
          1.303,
          1.317,
          1.198,
          1.088,
          1.089,
          1.148,
          1.216,
          1.213,
          1.148,
          1.01,
          0.981,
          1.042,
          1.114,
          1.287,
          1.245,
          1.172,
          1.085,
          0.985,
          1.013,
          1.084,
          1.152,
          1.138,
          1.085,
          0.953,
          0.887,
          0.924,
          0.968,
          1.075,
          1.112,
          1.02,
          0.947,
          0.877,
          0.887,
          0.99,
          1.081,
          1.085,
          0.972,
          0.837,
          0.769,
          0.769,
          0.893,
          1.044,
          1.086,
          1.087
         ]
        },
        {
         "marker": {
          "color": "darkblue"
         },
         "name": "Индия",
         "showlegend": true,
         "text": [
          null,
          null,
          null,
          null,
          null,
          null,
          null,
          null,
          null,
          null,
          null,
          null,
          2,
          2,
          2,
          0.5,
          0,
          0,
          0,
          0,
          null,
          null,
          null,
          null,
          null,
          null,
          null,
          null,
          null,
          null,
          null,
          null,
          null,
          null,
          null,
          null,
          null,
          null,
          null,
          null,
          null,
          null,
          null,
          null,
          13,
          14.5,
          0.44,
          0.481,
          0.962,
          0.966,
          3.091,
          3,
          1.84,
          1.821,
          1.353,
          1.538,
          1.174,
          1.588,
          2.717,
          3.133,
          4.444,
          3.765,
          2.336,
          1.739,
          1.379,
          1.272,
          1.545,
          1.122,
          1.583,
          1.314,
          2.242,
          4.139,
          2.511,
          3.304,
          1.573,
          1.471,
          2.085,
          1.682,
          1.973,
          1.262,
          1.142,
          1.161,
          1.188,
          1.379,
          1.236,
          1.285,
          1.046,
          1.089,
          1.366,
          1.209,
          1.469,
          1.334,
          1.032,
          1.173,
          1.083,
          1.154,
          1.167,
          1.134,
          1.093,
          1.069,
          1.225,
          1.233,
          1.393,
          1.66,
          1.556,
          1.587,
          1.466,
          1.145,
          1.104,
          1.067,
          1.041,
          1.101,
          1.137,
          1.047,
          1.042,
          1.121,
          1.157,
          1.236,
          1.378,
          1.307,
          1.277,
          1.335,
          1.206,
          1.24,
          1.186,
          1.063,
          1.069,
          1.013,
          1.068,
          1.194,
          1.22,
          1.228,
          1.181,
          1.128,
          1.11,
          1.146,
          1.17,
          1.162,
          1.086,
          1.057,
          1.014,
          0.985,
          1.098,
          1.12,
          1.146,
          1.138,
          1.047,
          1.028,
          1.05,
          1.141,
          1.251,
          1.268,
          1.241,
          1.177,
          1.111,
          1.116,
          1.152,
          1.189,
          1.2,
          1.174,
          1.113,
          1.043,
          1.027,
          1.066,
          1.146,
          1.224,
          1.219,
          1.155,
          1.074,
          1.039,
          1.076,
          1.138,
          1.179,
          1.172,
          1.138,
          1.114,
          1.132,
          1.172,
          1.228,
          1.252,
          1.206,
          1.164,
          1.137,
          1.138,
          1.199,
          1.25,
          1.222,
          1.13,
          1.071,
          1.02,
          1.012,
          1.125,
          1.125,
          1.129,
          1.11,
          0.983,
          0.976,
          1.007,
          1.054,
          1.153,
          1.172
         ],
         "textposition": "inside",
         "type": "bar",
         "x": [
          "2020-01-22",
          "2020-01-23",
          "2020-01-24",
          "2020-01-25",
          "2020-01-26",
          "2020-01-27",
          "2020-01-28",
          "2020-01-29",
          "2020-01-30",
          "2020-01-31",
          "2020-02-01",
          "2020-02-02",
          "2020-02-03",
          "2020-02-04",
          "2020-02-05",
          "2020-02-06",
          "2020-02-07",
          "2020-02-08",
          "2020-02-09",
          "2020-02-10",
          "2020-02-11",
          "2020-02-12",
          "2020-02-13",
          "2020-02-14",
          "2020-02-15",
          "2020-02-16",
          "2020-02-17",
          "2020-02-18",
          "2020-02-19",
          "2020-02-20",
          "2020-02-21",
          "2020-02-22",
          "2020-02-23",
          "2020-02-24",
          "2020-02-25",
          "2020-02-26",
          "2020-02-27",
          "2020-02-28",
          "2020-02-29",
          "2020-03-01",
          "2020-03-02",
          "2020-03-03",
          "2020-03-04",
          "2020-03-05",
          "2020-03-06",
          "2020-03-07",
          "2020-03-08",
          "2020-03-09",
          "2020-03-10",
          "2020-03-11",
          "2020-03-12",
          "2020-03-13",
          "2020-03-14",
          "2020-03-15",
          "2020-03-16",
          "2020-03-17",
          "2020-03-18",
          "2020-03-19",
          "2020-03-20",
          "2020-03-21",
          "2020-03-22",
          "2020-03-23",
          "2020-03-24",
          "2020-03-25",
          "2020-03-26",
          "2020-03-27",
          "2020-03-28",
          "2020-03-29",
          "2020-03-30",
          "2020-03-31",
          "2020-04-01",
          "2020-04-02",
          "2020-04-03",
          "2020-04-04",
          "2020-04-05",
          "2020-04-06",
          "2020-04-07",
          "2020-04-08",
          "2020-04-09",
          "2020-04-10",
          "2020-04-11",
          "2020-04-12",
          "2020-04-13",
          "2020-04-14",
          "2020-04-15",
          "2020-04-16",
          "2020-04-17",
          "2020-04-18",
          "2020-04-19",
          "2020-04-20",
          "2020-04-21",
          "2020-04-22",
          "2020-04-23",
          "2020-04-24",
          "2020-04-25",
          "2020-04-26",
          "2020-04-27",
          "2020-04-28",
          "2020-04-29",
          "2020-04-30",
          "2020-05-01",
          "2020-05-02",
          "2020-05-03",
          "2020-05-04",
          "2020-05-05",
          "2020-05-06",
          "2020-05-07",
          "2020-05-08",
          "2020-05-09",
          "2020-05-10",
          "2020-05-11",
          "2020-05-12",
          "2020-05-13",
          "2020-05-14",
          "2020-05-15",
          "2020-05-16",
          "2020-05-17",
          "2020-05-18",
          "2020-05-19",
          "2020-05-20",
          "2020-05-21",
          "2020-05-22",
          "2020-05-23",
          "2020-05-24",
          "2020-05-25",
          "2020-05-26",
          "2020-05-27",
          "2020-05-28",
          "2020-05-29",
          "2020-05-30",
          "2020-05-31",
          "2020-06-01",
          "2020-06-02",
          "2020-06-03",
          "2020-06-04",
          "2020-06-05",
          "2020-06-06",
          "2020-06-07",
          "2020-06-08",
          "2020-06-09",
          "2020-06-10",
          "2020-06-11",
          "2020-06-12",
          "2020-06-13",
          "2020-06-14",
          "2020-06-15",
          "2020-06-16",
          "2020-06-17",
          "2020-06-18",
          "2020-06-19",
          "2020-06-20",
          "2020-06-21",
          "2020-06-22",
          "2020-06-23",
          "2020-06-24",
          "2020-06-25",
          "2020-06-26",
          "2020-06-27",
          "2020-06-28",
          "2020-06-29",
          "2020-06-30",
          "2020-07-01",
          "2020-07-02",
          "2020-07-03",
          "2020-07-04",
          "2020-07-05",
          "2020-07-06",
          "2020-07-07",
          "2020-07-08",
          "2020-07-09",
          "2020-07-10",
          "2020-07-11",
          "2020-07-12",
          "2020-07-13",
          "2020-07-14",
          "2020-07-15",
          "2020-07-16",
          "2020-07-17",
          "2020-07-18",
          "2020-07-19",
          "2020-07-20",
          "2020-07-21",
          "2020-07-22",
          "2020-07-23",
          "2020-07-24",
          "2020-07-25",
          "2020-07-26",
          "2020-07-27",
          "2020-07-28",
          "2020-07-29",
          "2020-07-30",
          "2020-07-31",
          "2020-08-01",
          "2020-08-02",
          "2020-08-03",
          "2020-08-04",
          "2020-08-05",
          "2020-08-06",
          "2020-08-07",
          "2020-08-08",
          "2020-08-09"
         ],
         "y": [
          null,
          null,
          null,
          null,
          null,
          null,
          null,
          null,
          null,
          null,
          null,
          null,
          2,
          2,
          2,
          0.5,
          0,
          0,
          0,
          0,
          null,
          null,
          null,
          null,
          null,
          null,
          null,
          null,
          null,
          null,
          null,
          null,
          null,
          null,
          null,
          null,
          null,
          null,
          null,
          null,
          null,
          null,
          null,
          null,
          13,
          14.5,
          0.44,
          0.481,
          0.962,
          0.966,
          3.091,
          3,
          1.84,
          1.821,
          1.353,
          1.538,
          1.174,
          1.588,
          2.717,
          3.133,
          4.444,
          3.765,
          2.336,
          1.739,
          1.379,
          1.272,
          1.545,
          1.122,
          1.583,
          1.314,
          2.242,
          4.139,
          2.511,
          3.304,
          1.573,
          1.471,
          2.085,
          1.682,
          1.973,
          1.262,
          1.142,
          1.161,
          1.188,
          1.379,
          1.236,
          1.285,
          1.046,
          1.089,
          1.366,
          1.209,
          1.469,
          1.334,
          1.032,
          1.173,
          1.083,
          1.154,
          1.167,
          1.134,
          1.093,
          1.069,
          1.225,
          1.233,
          1.393,
          1.66,
          1.556,
          1.587,
          1.466,
          1.145,
          1.104,
          1.067,
          1.041,
          1.101,
          1.137,
          1.047,
          1.042,
          1.121,
          1.157,
          1.236,
          1.378,
          1.307,
          1.277,
          1.335,
          1.206,
          1.24,
          1.186,
          1.063,
          1.069,
          1.013,
          1.068,
          1.194,
          1.22,
          1.228,
          1.181,
          1.128,
          1.11,
          1.146,
          1.17,
          1.162,
          1.086,
          1.057,
          1.014,
          0.985,
          1.098,
          1.12,
          1.146,
          1.138,
          1.047,
          1.028,
          1.05,
          1.141,
          1.251,
          1.268,
          1.241,
          1.177,
          1.111,
          1.116,
          1.152,
          1.189,
          1.2,
          1.174,
          1.113,
          1.043,
          1.027,
          1.066,
          1.146,
          1.224,
          1.219,
          1.155,
          1.074,
          1.039,
          1.076,
          1.138,
          1.179,
          1.172,
          1.138,
          1.114,
          1.132,
          1.172,
          1.228,
          1.252,
          1.206,
          1.164,
          1.137,
          1.138,
          1.199,
          1.25,
          1.222,
          1.13,
          1.071,
          1.02,
          1.012,
          1.125,
          1.125,
          1.129,
          1.11,
          0.983,
          0.976,
          1.007,
          1.054,
          1.153,
          1.172
         ]
        },
        {
         "marker": {
          "color": "magenta"
         },
         "name": "Бразилия",
         "showlegend": true,
         "text": [
          null,
          null,
          null,
          null,
          null,
          null,
          null,
          null,
          null,
          null,
          null,
          null,
          null,
          null,
          null,
          null,
          null,
          null,
          null,
          null,
          null,
          null,
          null,
          null,
          null,
          null,
          null,
          null,
          null,
          null,
          null,
          null,
          null,
          null,
          null,
          null,
          null,
          null,
          null,
          1,
          1,
          1,
          1,
          2,
          11,
          11,
          8,
          10.5,
          1.636,
          2.273,
          2,
          6,
          6.667,
          4.96,
          4.625,
          1.349,
          1.842,
          3.702,
          4.007,
          4.118,
          5.312,
          2.839,
          2.452,
          2.19,
          1.226,
          1.146,
          1.14,
          1.11,
          1.108,
          1.541,
          1.769,
          2.226,
          2.809,
          2.019,
          1.465,
          1.087,
          1.112,
          1.251,
          1.621,
          1.816,
          1.345,
          1.036,
          0.767,
          0.752,
          1.134,
          1.367,
          1.921,
          2.026,
          1.361,
          1.253,
          0.917,
          0.798,
          1.101,
          1.289,
          1.729,
          1.906,
          1.53,
          1.443,
          1.253,
          1.389,
          1.422,
          1.243,
          1.087,
          0.89,
          0.939,
          1.237,
          1.533,
          1.786,
          1.746,
          1.223,
          0.996,
          0.818,
          0.839,
          1.121,
          1.499,
          1.766,
          1.495,
          1.29,
          1.018,
          1.05,
          1.355,
          1.447,
          1.464,
          1.234,
          0.939,
          0.799,
          0.853,
          1.047,
          1.393,
          1.777,
          1.599,
          1.176,
          0.999,
          0.798,
          0.972,
          1.353,
          1.302,
          1.259,
          0.924,
          0.786,
          0.848,
          1.031,
          1.313,
          1.184,
          0.956,
          0.769,
          0.777,
          0.945,
          1.161,
          1.693,
          1.53,
          1.22,
          1.161,
          0.781,
          0.838,
          1.131,
          1.313,
          1.485,
          1.285,
          0.968,
          0.754,
          0.805,
          0.982,
          1.22,
          1.377,
          1.142,
          0.828,
          0.758,
          0.778,
          0.99,
          1.404,
          1.322,
          1.113,
          0.846,
          0.71,
          0.741,
          0.973,
          1.249,
          1.175,
          1.037,
          0.722,
          0.702,
          1.031,
          1.436,
          2.11,
          2.072,
          1.255,
          0.819,
          0.622,
          0.672,
          0.997,
          1.421,
          1.607,
          1.15,
          0.734,
          0.633,
          0.673,
          0.984,
          1.513,
          1.51,
          1.166
         ],
         "textposition": "inside",
         "type": "bar",
         "x": [
          "2020-01-22",
          "2020-01-23",
          "2020-01-24",
          "2020-01-25",
          "2020-01-26",
          "2020-01-27",
          "2020-01-28",
          "2020-01-29",
          "2020-01-30",
          "2020-01-31",
          "2020-02-01",
          "2020-02-02",
          "2020-02-03",
          "2020-02-04",
          "2020-02-05",
          "2020-02-06",
          "2020-02-07",
          "2020-02-08",
          "2020-02-09",
          "2020-02-10",
          "2020-02-11",
          "2020-02-12",
          "2020-02-13",
          "2020-02-14",
          "2020-02-15",
          "2020-02-16",
          "2020-02-17",
          "2020-02-18",
          "2020-02-19",
          "2020-02-20",
          "2020-02-21",
          "2020-02-22",
          "2020-02-23",
          "2020-02-24",
          "2020-02-25",
          "2020-02-26",
          "2020-02-27",
          "2020-02-28",
          "2020-02-29",
          "2020-03-01",
          "2020-03-02",
          "2020-03-03",
          "2020-03-04",
          "2020-03-05",
          "2020-03-06",
          "2020-03-07",
          "2020-03-08",
          "2020-03-09",
          "2020-03-10",
          "2020-03-11",
          "2020-03-12",
          "2020-03-13",
          "2020-03-14",
          "2020-03-15",
          "2020-03-16",
          "2020-03-17",
          "2020-03-18",
          "2020-03-19",
          "2020-03-20",
          "2020-03-21",
          "2020-03-22",
          "2020-03-23",
          "2020-03-24",
          "2020-03-25",
          "2020-03-26",
          "2020-03-27",
          "2020-03-28",
          "2020-03-29",
          "2020-03-30",
          "2020-03-31",
          "2020-04-01",
          "2020-04-02",
          "2020-04-03",
          "2020-04-04",
          "2020-04-05",
          "2020-04-06",
          "2020-04-07",
          "2020-04-08",
          "2020-04-09",
          "2020-04-10",
          "2020-04-11",
          "2020-04-12",
          "2020-04-13",
          "2020-04-14",
          "2020-04-15",
          "2020-04-16",
          "2020-04-17",
          "2020-04-18",
          "2020-04-19",
          "2020-04-20",
          "2020-04-21",
          "2020-04-22",
          "2020-04-23",
          "2020-04-24",
          "2020-04-25",
          "2020-04-26",
          "2020-04-27",
          "2020-04-28",
          "2020-04-29",
          "2020-04-30",
          "2020-05-01",
          "2020-05-02",
          "2020-05-03",
          "2020-05-04",
          "2020-05-05",
          "2020-05-06",
          "2020-05-07",
          "2020-05-08",
          "2020-05-09",
          "2020-05-10",
          "2020-05-11",
          "2020-05-12",
          "2020-05-13",
          "2020-05-14",
          "2020-05-15",
          "2020-05-16",
          "2020-05-17",
          "2020-05-18",
          "2020-05-19",
          "2020-05-20",
          "2020-05-21",
          "2020-05-22",
          "2020-05-23",
          "2020-05-24",
          "2020-05-25",
          "2020-05-26",
          "2020-05-27",
          "2020-05-28",
          "2020-05-29",
          "2020-05-30",
          "2020-05-31",
          "2020-06-01",
          "2020-06-02",
          "2020-06-03",
          "2020-06-04",
          "2020-06-05",
          "2020-06-06",
          "2020-06-07",
          "2020-06-08",
          "2020-06-09",
          "2020-06-10",
          "2020-06-11",
          "2020-06-12",
          "2020-06-13",
          "2020-06-14",
          "2020-06-15",
          "2020-06-16",
          "2020-06-17",
          "2020-06-18",
          "2020-06-19",
          "2020-06-20",
          "2020-06-21",
          "2020-06-22",
          "2020-06-23",
          "2020-06-24",
          "2020-06-25",
          "2020-06-26",
          "2020-06-27",
          "2020-06-28",
          "2020-06-29",
          "2020-06-30",
          "2020-07-01",
          "2020-07-02",
          "2020-07-03",
          "2020-07-04",
          "2020-07-05",
          "2020-07-06",
          "2020-07-07",
          "2020-07-08",
          "2020-07-09",
          "2020-07-10",
          "2020-07-11",
          "2020-07-12",
          "2020-07-13",
          "2020-07-14",
          "2020-07-15",
          "2020-07-16",
          "2020-07-17",
          "2020-07-18",
          "2020-07-19",
          "2020-07-20",
          "2020-07-21",
          "2020-07-22",
          "2020-07-23",
          "2020-07-24",
          "2020-07-25",
          "2020-07-26",
          "2020-07-27",
          "2020-07-28",
          "2020-07-29",
          "2020-07-30",
          "2020-07-31",
          "2020-08-01",
          "2020-08-02",
          "2020-08-03",
          "2020-08-04",
          "2020-08-05",
          "2020-08-06",
          "2020-08-07",
          "2020-08-08",
          "2020-08-09"
         ],
         "y": [
          null,
          null,
          null,
          null,
          null,
          null,
          null,
          null,
          null,
          null,
          null,
          null,
          null,
          null,
          null,
          null,
          null,
          null,
          null,
          null,
          null,
          null,
          null,
          null,
          null,
          null,
          null,
          null,
          null,
          null,
          null,
          null,
          null,
          null,
          null,
          null,
          null,
          null,
          null,
          1,
          1,
          1,
          1,
          2,
          11,
          11,
          8,
          10.5,
          1.636,
          2.273,
          2,
          6,
          6.667,
          4.96,
          4.625,
          1.349,
          1.842,
          3.702,
          4.007,
          4.118,
          5.312,
          2.839,
          2.452,
          2.19,
          1.226,
          1.146,
          1.14,
          1.11,
          1.108,
          1.541,
          1.769,
          2.226,
          2.809,
          2.019,
          1.465,
          1.087,
          1.112,
          1.251,
          1.621,
          1.816,
          1.345,
          1.036,
          0.767,
          0.752,
          1.134,
          1.367,
          1.921,
          2.026,
          1.361,
          1.253,
          0.917,
          0.798,
          1.101,
          1.289,
          1.729,
          1.906,
          1.53,
          1.443,
          1.253,
          1.389,
          1.422,
          1.243,
          1.087,
          0.89,
          0.939,
          1.237,
          1.533,
          1.786,
          1.746,
          1.223,
          0.996,
          0.818,
          0.839,
          1.121,
          1.499,
          1.766,
          1.495,
          1.29,
          1.018,
          1.05,
          1.355,
          1.447,
          1.464,
          1.234,
          0.939,
          0.799,
          0.853,
          1.047,
          1.393,
          1.777,
          1.599,
          1.176,
          0.999,
          0.798,
          0.972,
          1.353,
          1.302,
          1.259,
          0.924,
          0.786,
          0.848,
          1.031,
          1.313,
          1.184,
          0.956,
          0.769,
          0.777,
          0.945,
          1.161,
          1.693,
          1.53,
          1.22,
          1.161,
          0.781,
          0.838,
          1.131,
          1.313,
          1.485,
          1.285,
          0.968,
          0.754,
          0.805,
          0.982,
          1.22,
          1.377,
          1.142,
          0.828,
          0.758,
          0.778,
          0.99,
          1.404,
          1.322,
          1.113,
          0.846,
          0.71,
          0.741,
          0.973,
          1.249,
          1.175,
          1.037,
          0.722,
          0.702,
          1.031,
          1.436,
          2.11,
          2.072,
          1.255,
          0.819,
          0.622,
          0.672,
          0.997,
          1.421,
          1.607,
          1.15,
          0.734,
          0.633,
          0.673,
          0.984,
          1.513,
          1.51,
          1.166
         ]
        },
        {
         "marker": {
          "color": "green"
         },
         "name": "Великобритания",
         "showlegend": true,
         "text": [
          null,
          null,
          null,
          null,
          null,
          null,
          null,
          null,
          null,
          null,
          null,
          null,
          null,
          3,
          3.5,
          3.5,
          0.125,
          0.833,
          0.714,
          0.714,
          6,
          0.6,
          0.6,
          0.8,
          0.5,
          0.667,
          0.667,
          0.25,
          0.667,
          2,
          2,
          4,
          4,
          2,
          2.75,
          3.5,
          2,
          3.25,
          2.455,
          4.071,
          5.625,
          5.115,
          6.852,
          3.526,
          2.667,
          1.805,
          1.281,
          1.667,
          2.146,
          3.633,
          5.515,
          4.896,
          3.388,
          2.037,
          1.455,
          1.337,
          1.623,
          1.946,
          2.155,
          2.073,
          1.739,
          1.797,
          1.789,
          1.945,
          2.146,
          1.848,
          1.627,
          1.37,
          1.259,
          1.272,
          1.401,
          1.549,
          1.459,
          1.299,
          1.054,
          0.96,
          0.954,
          1.035,
          1.184,
          1.106,
          0.974,
          0.837,
          0.753,
          0.788,
          0.953,
          1.157,
          1.258,
          1.284,
          1.101,
          0.971,
          0.922,
          0.942,
          1.073,
          1.107,
          1.065,
          0.915,
          0.833,
          0.816,
          0.945,
          1.141,
          1.174,
          1.102,
          0.866,
          0.722,
          0.668,
          0.756,
          0.923,
          1.002,
          0.965,
          0.813,
          0.757,
          0.798,
          0.984,
          1.142,
          1.065,
          0.918,
          0.717,
          0.697,
          0.806,
          0.968,
          1.206,
          1.152,
          0.925,
          0.733,
          0.598,
          0.592,
          0.73,
          0.914,
          1.03,
          1.004,
          0.842,
          0.752,
          0.758,
          0.866,
          1.015,
          1.007,
          0.882,
          0.724,
          0.676,
          0.729,
          0.926,
          1.152,
          1.186,
          1.098,
          0.904,
          0.85,
          0.865,
          0.948,
          1.1,
          1.081,
          0.963,
          0.84,
          0.766,
          0.75,
          0.865,
          0.986,
          0.946,
          0.897,
          0.749,
          0.708,
          0.689,
          0.544,
          0.46,
          0.424,
          0.579,
          1.106,
          1.834,
          2.141,
          1.755,
          1.346,
          1.191,
          1.26,
          1.259,
          1.141,
          1.362,
          1.127,
          1.121,
          1.227,
          0.83,
          0.974,
          0.955,
          0.831,
          0.859,
          0.821,
          0.904,
          1.114,
          1.322,
          1.255,
          1.08,
          0.969,
          0.942,
          1.036,
          1.196,
          1.162,
          1.156,
          1.016,
          0.991,
          1.074,
          1.031,
          1.128,
          1.144
         ],
         "textposition": "inside",
         "type": "bar",
         "x": [
          "2020-01-22",
          "2020-01-23",
          "2020-01-24",
          "2020-01-25",
          "2020-01-26",
          "2020-01-27",
          "2020-01-28",
          "2020-01-29",
          "2020-01-30",
          "2020-01-31",
          "2020-02-01",
          "2020-02-02",
          "2020-02-03",
          "2020-02-04",
          "2020-02-05",
          "2020-02-06",
          "2020-02-07",
          "2020-02-08",
          "2020-02-09",
          "2020-02-10",
          "2020-02-11",
          "2020-02-12",
          "2020-02-13",
          "2020-02-14",
          "2020-02-15",
          "2020-02-16",
          "2020-02-17",
          "2020-02-18",
          "2020-02-19",
          "2020-02-20",
          "2020-02-21",
          "2020-02-22",
          "2020-02-23",
          "2020-02-24",
          "2020-02-25",
          "2020-02-26",
          "2020-02-27",
          "2020-02-28",
          "2020-02-29",
          "2020-03-01",
          "2020-03-02",
          "2020-03-03",
          "2020-03-04",
          "2020-03-05",
          "2020-03-06",
          "2020-03-07",
          "2020-03-08",
          "2020-03-09",
          "2020-03-10",
          "2020-03-11",
          "2020-03-12",
          "2020-03-13",
          "2020-03-14",
          "2020-03-15",
          "2020-03-16",
          "2020-03-17",
          "2020-03-18",
          "2020-03-19",
          "2020-03-20",
          "2020-03-21",
          "2020-03-22",
          "2020-03-23",
          "2020-03-24",
          "2020-03-25",
          "2020-03-26",
          "2020-03-27",
          "2020-03-28",
          "2020-03-29",
          "2020-03-30",
          "2020-03-31",
          "2020-04-01",
          "2020-04-02",
          "2020-04-03",
          "2020-04-04",
          "2020-04-05",
          "2020-04-06",
          "2020-04-07",
          "2020-04-08",
          "2020-04-09",
          "2020-04-10",
          "2020-04-11",
          "2020-04-12",
          "2020-04-13",
          "2020-04-14",
          "2020-04-15",
          "2020-04-16",
          "2020-04-17",
          "2020-04-18",
          "2020-04-19",
          "2020-04-20",
          "2020-04-21",
          "2020-04-22",
          "2020-04-23",
          "2020-04-24",
          "2020-04-25",
          "2020-04-26",
          "2020-04-27",
          "2020-04-28",
          "2020-04-29",
          "2020-04-30",
          "2020-05-01",
          "2020-05-02",
          "2020-05-03",
          "2020-05-04",
          "2020-05-05",
          "2020-05-06",
          "2020-05-07",
          "2020-05-08",
          "2020-05-09",
          "2020-05-10",
          "2020-05-11",
          "2020-05-12",
          "2020-05-13",
          "2020-05-14",
          "2020-05-15",
          "2020-05-16",
          "2020-05-17",
          "2020-05-18",
          "2020-05-19",
          "2020-05-20",
          "2020-05-21",
          "2020-05-22",
          "2020-05-23",
          "2020-05-24",
          "2020-05-25",
          "2020-05-26",
          "2020-05-27",
          "2020-05-28",
          "2020-05-29",
          "2020-05-30",
          "2020-05-31",
          "2020-06-01",
          "2020-06-02",
          "2020-06-03",
          "2020-06-04",
          "2020-06-05",
          "2020-06-06",
          "2020-06-07",
          "2020-06-08",
          "2020-06-09",
          "2020-06-10",
          "2020-06-11",
          "2020-06-12",
          "2020-06-13",
          "2020-06-14",
          "2020-06-15",
          "2020-06-16",
          "2020-06-17",
          "2020-06-18",
          "2020-06-19",
          "2020-06-20",
          "2020-06-21",
          "2020-06-22",
          "2020-06-23",
          "2020-06-24",
          "2020-06-25",
          "2020-06-26",
          "2020-06-27",
          "2020-06-28",
          "2020-06-29",
          "2020-06-30",
          "2020-07-01",
          "2020-07-02",
          "2020-07-03",
          "2020-07-04",
          "2020-07-05",
          "2020-07-06",
          "2020-07-07",
          "2020-07-08",
          "2020-07-09",
          "2020-07-10",
          "2020-07-11",
          "2020-07-12",
          "2020-07-13",
          "2020-07-14",
          "2020-07-15",
          "2020-07-16",
          "2020-07-17",
          "2020-07-18",
          "2020-07-19",
          "2020-07-20",
          "2020-07-21",
          "2020-07-22",
          "2020-07-23",
          "2020-07-24",
          "2020-07-25",
          "2020-07-26",
          "2020-07-27",
          "2020-07-28",
          "2020-07-29",
          "2020-07-30",
          "2020-07-31",
          "2020-08-01",
          "2020-08-02",
          "2020-08-03",
          "2020-08-04",
          "2020-08-05",
          "2020-08-06",
          "2020-08-07",
          "2020-08-08",
          "2020-08-09"
         ],
         "y": [
          null,
          null,
          null,
          null,
          null,
          null,
          null,
          null,
          null,
          null,
          null,
          null,
          null,
          3,
          3.5,
          3.5,
          0.125,
          0.833,
          0.714,
          0.714,
          6,
          0.6,
          0.6,
          0.8,
          0.5,
          0.667,
          0.667,
          0.25,
          0.667,
          2,
          2,
          4,
          4,
          2,
          2.75,
          3.5,
          2,
          3.25,
          2.455,
          4.071,
          5.625,
          5.115,
          6.852,
          3.526,
          2.667,
          1.805,
          1.281,
          1.667,
          2.146,
          3.633,
          5.515,
          4.896,
          3.388,
          2.037,
          1.455,
          1.337,
          1.623,
          1.946,
          2.155,
          2.073,
          1.739,
          1.797,
          1.789,
          1.945,
          2.146,
          1.848,
          1.627,
          1.37,
          1.259,
          1.272,
          1.401,
          1.549,
          1.459,
          1.299,
          1.054,
          0.96,
          0.954,
          1.035,
          1.184,
          1.106,
          0.974,
          0.837,
          0.753,
          0.788,
          0.953,
          1.157,
          1.258,
          1.284,
          1.101,
          0.971,
          0.922,
          0.942,
          1.073,
          1.107,
          1.065,
          0.915,
          0.833,
          0.816,
          0.945,
          1.141,
          1.174,
          1.102,
          0.866,
          0.722,
          0.668,
          0.756,
          0.923,
          1.002,
          0.965,
          0.813,
          0.757,
          0.798,
          0.984,
          1.142,
          1.065,
          0.918,
          0.717,
          0.697,
          0.806,
          0.968,
          1.206,
          1.152,
          0.925,
          0.733,
          0.598,
          0.592,
          0.73,
          0.914,
          1.03,
          1.004,
          0.842,
          0.752,
          0.758,
          0.866,
          1.015,
          1.007,
          0.882,
          0.724,
          0.676,
          0.729,
          0.926,
          1.152,
          1.186,
          1.098,
          0.904,
          0.85,
          0.865,
          0.948,
          1.1,
          1.081,
          0.963,
          0.84,
          0.766,
          0.75,
          0.865,
          0.986,
          0.946,
          0.897,
          0.749,
          0.708,
          0.689,
          0.544,
          0.46,
          0.424,
          0.579,
          1.106,
          1.834,
          2.141,
          1.755,
          1.346,
          1.191,
          1.26,
          1.259,
          1.141,
          1.362,
          1.127,
          1.121,
          1.227,
          0.83,
          0.974,
          0.955,
          0.831,
          0.859,
          0.821,
          0.904,
          1.114,
          1.322,
          1.255,
          1.08,
          0.969,
          0.942,
          1.036,
          1.196,
          1.162,
          1.156,
          1.016,
          0.991,
          1.074,
          1.031,
          1.128,
          1.144
         ]
        },
        {
         "marker": {
          "color": "goldenrod"
         },
         "name": "Россия",
         "showlegend": true,
         "text": [
          null,
          null,
          null,
          null,
          null,
          null,
          null,
          null,
          null,
          null,
          null,
          null,
          null,
          0,
          0,
          0,
          0,
          null,
          null,
          null,
          null,
          null,
          null,
          null,
          null,
          null,
          null,
          null,
          null,
          null,
          null,
          null,
          null,
          null,
          null,
          null,
          null,
          null,
          null,
          null,
          null,
          null,
          null,
          null,
          10,
          10,
          14,
          6.5,
          0.7,
          0.7,
          0.786,
          2.154,
          5.571,
          6.143,
          5.636,
          2.464,
          2.256,
          3.163,
          2.629,
          2.783,
          2.5,
          1.757,
          1.485,
          1.833,
          2.15,
          2.502,
          3.178,
          2.489,
          2.106,
          2.176,
          1.967,
          2.299,
          2.322,
          1.84,
          1.726,
          1.388,
          1.447,
          1.646,
          1.815,
          1.994,
          1.818,
          1.801,
          1.729,
          1.648,
          1.792,
          1.714,
          1.669,
          1.708,
          1.684,
          1.577,
          1.517,
          1.351,
          1.085,
          1.121,
          1.052,
          1.082,
          1.224,
          1.16,
          1.137,
          1.113,
          1.119,
          1.223,
          1.422,
          1.517,
          1.5,
          1.373,
          1.204,
          1.099,
          1.058,
          1.045,
          1.04,
          1.042,
          1.007,
          0.973,
          0.939,
          0.897,
          0.906,
          0.903,
          0.894,
          0.921,
          0.907,
          0.931,
          0.969,
          0.976,
          1.002,
          1.003,
          0.968,
          0.966,
          0.953,
          0.954,
          1.01,
          1.02,
          1.04,
          1.026,
          0.987,
          0.99,
          0.982,
          1.006,
          1.023,
          1.013,
          1,
          0.982,
          0.978,
          0.985,
          1.009,
          0.999,
          0.978,
          0.95,
          0.909,
          0.917,
          0.926,
          0.947,
          0.972,
          0.962,
          0.951,
          0.934,
          0.914,
          0.912,
          0.921,
          0.926,
          0.948,
          0.957,
          0.969,
          0.985,
          0.987,
          1.004,
          0.998,
          0.984,
          0.983,
          0.968,
          0.977,
          0.998,
          1.004,
          1.013,
          0.997,
          0.981,
          0.973,
          0.968,
          0.981,
          0.975,
          0.962,
          0.944,
          0.931,
          0.932,
          0.947,
          0.969,
          0.979,
          0.981,
          0.969,
          0.952,
          0.946,
          0.949,
          0.968,
          0.982,
          0.988,
          0.978,
          0.965,
          0.961,
          0.958,
          0.977,
          0.986
         ],
         "textposition": "inside",
         "type": "bar",
         "x": [
          "2020-01-22",
          "2020-01-23",
          "2020-01-24",
          "2020-01-25",
          "2020-01-26",
          "2020-01-27",
          "2020-01-28",
          "2020-01-29",
          "2020-01-30",
          "2020-01-31",
          "2020-02-01",
          "2020-02-02",
          "2020-02-03",
          "2020-02-04",
          "2020-02-05",
          "2020-02-06",
          "2020-02-07",
          "2020-02-08",
          "2020-02-09",
          "2020-02-10",
          "2020-02-11",
          "2020-02-12",
          "2020-02-13",
          "2020-02-14",
          "2020-02-15",
          "2020-02-16",
          "2020-02-17",
          "2020-02-18",
          "2020-02-19",
          "2020-02-20",
          "2020-02-21",
          "2020-02-22",
          "2020-02-23",
          "2020-02-24",
          "2020-02-25",
          "2020-02-26",
          "2020-02-27",
          "2020-02-28",
          "2020-02-29",
          "2020-03-01",
          "2020-03-02",
          "2020-03-03",
          "2020-03-04",
          "2020-03-05",
          "2020-03-06",
          "2020-03-07",
          "2020-03-08",
          "2020-03-09",
          "2020-03-10",
          "2020-03-11",
          "2020-03-12",
          "2020-03-13",
          "2020-03-14",
          "2020-03-15",
          "2020-03-16",
          "2020-03-17",
          "2020-03-18",
          "2020-03-19",
          "2020-03-20",
          "2020-03-21",
          "2020-03-22",
          "2020-03-23",
          "2020-03-24",
          "2020-03-25",
          "2020-03-26",
          "2020-03-27",
          "2020-03-28",
          "2020-03-29",
          "2020-03-30",
          "2020-03-31",
          "2020-04-01",
          "2020-04-02",
          "2020-04-03",
          "2020-04-04",
          "2020-04-05",
          "2020-04-06",
          "2020-04-07",
          "2020-04-08",
          "2020-04-09",
          "2020-04-10",
          "2020-04-11",
          "2020-04-12",
          "2020-04-13",
          "2020-04-14",
          "2020-04-15",
          "2020-04-16",
          "2020-04-17",
          "2020-04-18",
          "2020-04-19",
          "2020-04-20",
          "2020-04-21",
          "2020-04-22",
          "2020-04-23",
          "2020-04-24",
          "2020-04-25",
          "2020-04-26",
          "2020-04-27",
          "2020-04-28",
          "2020-04-29",
          "2020-04-30",
          "2020-05-01",
          "2020-05-02",
          "2020-05-03",
          "2020-05-04",
          "2020-05-05",
          "2020-05-06",
          "2020-05-07",
          "2020-05-08",
          "2020-05-09",
          "2020-05-10",
          "2020-05-11",
          "2020-05-12",
          "2020-05-13",
          "2020-05-14",
          "2020-05-15",
          "2020-05-16",
          "2020-05-17",
          "2020-05-18",
          "2020-05-19",
          "2020-05-20",
          "2020-05-21",
          "2020-05-22",
          "2020-05-23",
          "2020-05-24",
          "2020-05-25",
          "2020-05-26",
          "2020-05-27",
          "2020-05-28",
          "2020-05-29",
          "2020-05-30",
          "2020-05-31",
          "2020-06-01",
          "2020-06-02",
          "2020-06-03",
          "2020-06-04",
          "2020-06-05",
          "2020-06-06",
          "2020-06-07",
          "2020-06-08",
          "2020-06-09",
          "2020-06-10",
          "2020-06-11",
          "2020-06-12",
          "2020-06-13",
          "2020-06-14",
          "2020-06-15",
          "2020-06-16",
          "2020-06-17",
          "2020-06-18",
          "2020-06-19",
          "2020-06-20",
          "2020-06-21",
          "2020-06-22",
          "2020-06-23",
          "2020-06-24",
          "2020-06-25",
          "2020-06-26",
          "2020-06-27",
          "2020-06-28",
          "2020-06-29",
          "2020-06-30",
          "2020-07-01",
          "2020-07-02",
          "2020-07-03",
          "2020-07-04",
          "2020-07-05",
          "2020-07-06",
          "2020-07-07",
          "2020-07-08",
          "2020-07-09",
          "2020-07-10",
          "2020-07-11",
          "2020-07-12",
          "2020-07-13",
          "2020-07-14",
          "2020-07-15",
          "2020-07-16",
          "2020-07-17",
          "2020-07-18",
          "2020-07-19",
          "2020-07-20",
          "2020-07-21",
          "2020-07-22",
          "2020-07-23",
          "2020-07-24",
          "2020-07-25",
          "2020-07-26",
          "2020-07-27",
          "2020-07-28",
          "2020-07-29",
          "2020-07-30",
          "2020-07-31",
          "2020-08-01",
          "2020-08-02",
          "2020-08-03",
          "2020-08-04",
          "2020-08-05",
          "2020-08-06",
          "2020-08-07",
          "2020-08-08",
          "2020-08-09"
         ],
         "y": [
          null,
          null,
          null,
          null,
          null,
          null,
          null,
          null,
          null,
          null,
          null,
          null,
          null,
          0,
          0,
          0,
          0,
          null,
          null,
          null,
          null,
          null,
          null,
          null,
          null,
          null,
          null,
          null,
          null,
          null,
          null,
          null,
          null,
          null,
          null,
          null,
          null,
          null,
          null,
          null,
          null,
          null,
          null,
          null,
          10,
          10,
          14,
          6.5,
          0.7,
          0.7,
          0.786,
          2.154,
          5.571,
          6.143,
          5.636,
          2.464,
          2.256,
          3.163,
          2.629,
          2.783,
          2.5,
          1.757,
          1.485,
          1.833,
          2.15,
          2.502,
          3.178,
          2.489,
          2.106,
          2.176,
          1.967,
          2.299,
          2.322,
          1.84,
          1.726,
          1.388,
          1.447,
          1.646,
          1.815,
          1.994,
          1.818,
          1.801,
          1.729,
          1.648,
          1.792,
          1.714,
          1.669,
          1.708,
          1.684,
          1.577,
          1.517,
          1.351,
          1.085,
          1.121,
          1.052,
          1.082,
          1.224,
          1.16,
          1.137,
          1.113,
          1.119,
          1.223,
          1.422,
          1.517,
          1.5,
          1.373,
          1.204,
          1.099,
          1.058,
          1.045,
          1.04,
          1.042,
          1.007,
          0.973,
          0.939,
          0.897,
          0.906,
          0.903,
          0.894,
          0.921,
          0.907,
          0.931,
          0.969,
          0.976,
          1.002,
          1.003,
          0.968,
          0.966,
          0.953,
          0.954,
          1.01,
          1.02,
          1.04,
          1.026,
          0.987,
          0.99,
          0.982,
          1.006,
          1.023,
          1.013,
          1,
          0.982,
          0.978,
          0.985,
          1.009,
          0.999,
          0.978,
          0.95,
          0.909,
          0.917,
          0.926,
          0.947,
          0.972,
          0.962,
          0.951,
          0.934,
          0.914,
          0.912,
          0.921,
          0.926,
          0.948,
          0.957,
          0.969,
          0.985,
          0.987,
          1.004,
          0.998,
          0.984,
          0.983,
          0.968,
          0.977,
          0.998,
          1.004,
          1.013,
          0.997,
          0.981,
          0.973,
          0.968,
          0.981,
          0.975,
          0.962,
          0.944,
          0.931,
          0.932,
          0.947,
          0.969,
          0.979,
          0.981,
          0.969,
          0.952,
          0.946,
          0.949,
          0.968,
          0.982,
          0.988,
          0.978,
          0.965,
          0.961,
          0.958,
          0.977,
          0.986
         ]
        }
       ],
       "layout": {
        "annotations": [
         {
          "showarrow": false,
          "text": "Данные : Яндекс <br> формула расчета из методических рекомендациях Роспотребнадзора.",
          "x": 0.5,
          "xref": "paper",
          "y": -0.15,
          "yref": "paper"
         }
        ],
        "height": 600,
        "template": {
         "data": {
          "pie": [
           {
            "automargin": true,
            "type": "pie"
           }
          ]
         },
         "layout": {
          "xaxis": {
           "showgrid": true,
           "title": {
            "standoff": 15
           }
          },
          "yaxis": {
           "showgrid": true,
           "title": {
            "standoff": 15
           }
          }
         }
        },
        "title": {
         "text": "Коэффициент распространения (Rt) по 6 странам ,<br> с максимальным количеством новых заболеваний и Украине ",
         "x": 0.5,
         "xanchor": "center",
         "y": 0.9,
         "yanchor": "bottom"
        },
        "width": 990,
        "yaxis": {
         "title": {
          "text": " "
         }
        }
       }
      }
     },
     "metadata": {}
    }
   ],
   "source": [
    "#mask = (X.Date>datetime.date(2020,5,1))&(X.Region.isin(regions_towatch))\n",
    "\n",
    "colors_dict = { \"США\": \"red\",\n",
    "                \"Бразилия\": \"magenta\",\n",
    "                \"Россия\": \"goldenrod\",\n",
    "                \"Индия\": \"darkblue\",\n",
    "                \"Великобритания\": \"green\",\n",
    "                 'Испания': 'aquamarine'}\n",
    "fig = go.Figure()\n",
    "for i in country_towatch:\n",
    "    mask = X['Country'] == i\n",
    "        \n",
    "    fig.add_trace(\n",
    "        \n",
    "        go.Bar(\n",
    "        name = f'{i}',\n",
    "        x=X[mask].Date,\n",
    "        y=X[mask].Rt,\n",
    "        text=round(X[mask].Rt,3),\n",
    "        textposition='inside',\n",
    "        marker_color= colors_dict.get(i),\n",
    "        \n",
    "        showlegend=True))\n",
    "\n",
    "\n",
    "\n",
    "\n",
    "                  \n",
    "fig.update_layout(\n",
    "    annotations=[\n",
    "        \n",
    "            dict(x=0.5,y=-0.15,\n",
    "            showarrow=False,\n",
    "            text=\"Данные : Яндекс <br> формула расчета из методических рекомендациях Роспотребнадзора.\",\n",
    "            xref=\"paper\",\n",
    "            yref=\"paper\")],\n",
    "                  title = \"Коэффициент распространения (Rt) по 6 странам ,<br> с максимальным количеством новых заболеваний и Украине \",\n",
    "                  title_x = 0.5,\n",
    "                  title_y= 0.9,\n",
    "                  title_xanchor = \"center\",\n",
    "                  title_yanchor = \"bottom\", \n",
    "                 # legend_x = 0.05,legend_y = 0.9,\n",
    "                  width = 990, height = 600,template = 'gridon',\n",
    "    \n",
    "    \n",
    "                 # xaxis_title='Коэффициент рассчитан, исходя из данных оперативного штаба и <br>' + \n",
    "                               #' формулы расчета в методических рекомендациях Роспотребнадзора. ',\n",
    "    yaxis_title = ' '\n",
    ")\n",
    "\n",
    "\n",
    "fig.show()\n"
   ]
  },
  {
   "cell_type": "code",
   "execution_count": 12,
   "metadata": {
    "tags": []
   },
   "outputs": [
    {
     "output_type": "stream",
     "name": "stdout",
     "text": "Все страны по которым есть статистика:\n****************************************\ndict_items([(0, 'Австралия'), (1, 'Австрия'), (2, 'Азербайджан'), (3, 'Албания'), (4, 'Алжир'), (5, 'Ангола'), (6, 'Андорра'), (7, 'Антигуа и Барбуда'), (8, 'Аргентина'), (9, 'Армения'), (10, 'Афганистан'), (11, 'Багамские острова'), (12, 'Бангладеш'), (13, 'Барбадос'), (14, 'Бахрейн'), (15, 'Беларусь'), (16, 'Белиз'), (17, 'Бельгия'), (18, 'Бенин'), (19, 'Болгария'), (20, 'Боливия'), (21, 'Босния и Герцеговина'), (22, 'Ботсвана'), (23, 'Бразилия'), (24, 'Бруней'), (25, 'Буркина-Фасо'), (26, 'Бурунди'), (27, 'Бутан'), (28, 'Великобритания'), (29, 'Венгрия'), (30, 'Венесуэла'), (31, 'Весь мир'), (32, 'Восточный Тимор'), (33, 'Вьетнам'), (34, 'Габон'), (35, 'Гаити'), (36, 'Гайана'), (37, 'Гамбия'), (38, 'Гана'), (39, 'Гватемала'), (40, 'Гвинея'), (41, 'Гвинея-Бисау'), (42, 'Германия'), (43, 'Гондурас'), (44, 'Гренада'), (45, 'Греция'), (46, 'Грузия'), (47, 'ДР Конго'), (48, 'Дания'), (49, 'Джибути'), (50, 'Доминика'), (51, 'Доминиканская Республика'), (52, 'Египет'), (53, 'Замбия'), (54, 'Западная Сахара'), (55, 'Западный берег реки Иордан'), (56, 'Зимбабве'), (57, 'Израиль'), (58, 'Индия'), (59, 'Индонезия'), (60, 'Иордания'), (61, 'Ирак'), (62, 'Иран'), (63, 'Ирландия'), (64, 'Исландия'), (65, 'Испания'), (66, 'Италия'), (67, 'Йемен'), (68, 'Кабо-Верде'), (69, 'Казахстан'), (70, 'Камбоджа'), (71, 'Камерун'), (72, 'Канада'), (73, 'Катар'), (74, 'Кения'), (75, 'Кипр'), (76, 'Киргизия'), (77, 'Китай'), (78, 'Колумбия'), (79, 'Коморские острова'), (80, 'Косово и Метохия'), (81, 'Коста-Рика'), (82, 'Кот-д’Ивуар'), (83, 'Куба'), (84, 'Кувейт'), (85, 'Лаос'), (86, 'Латвия'), (87, 'Лесото'), (88, 'Либерия'), (89, 'Ливан'), (90, 'Ливия'), (91, 'Литва'), (92, 'Лихтенштейн'), (93, 'Люксембург'), (94, 'Маврикий'), (95, 'Мавритания'), (96, 'Мадагаскар'), (97, 'Малави'), (98, 'Малайзия'), (99, 'Мали'), (100, 'Мальдивы'), (101, 'Мальта'), (102, 'Марокко'), (103, 'Мексика'), (104, 'Мозамбик'), (105, 'Молдавия'), (106, 'Монако'), (107, 'Монголия'), (108, 'Мьянма'), (109, 'Намибия'), (110, 'Непал'), (111, 'Нигер'), (112, 'Нигерия'), (113, 'Нидерланды'), (114, 'Никарагуа'), (115, 'Новая Зеландия'), (116, 'Норвегия'), (117, 'ОАЭ'), (118, 'Оман'), (119, 'Пакистан'), (120, 'Панама'), (121, 'Папский Престол'), (122, 'Папуа — Новая Гвинея'), (123, 'Парагвай'), (124, 'Перу'), (125, 'Польша'), (126, 'Португалия'), (127, 'Республика Конго'), (128, 'Россия'), (129, 'Руанда'), (130, 'Румыния'), (131, 'США'), (132, 'Сальвадор'), (133, 'Сан-Марино'), (134, 'Сан-Томе и Принсипи'), (135, 'Саудовская Аравия'), (136, 'Северная Македония'), (137, 'Сейшельские острова'), (138, 'Сенегал'), (139, 'Сент-Винсент и Гренадины'), (140, 'Сент-Китс и Невис'), (141, 'Сент-Люсия'), (142, 'Сербия'), (143, 'Сингапур'), (144, 'Сирия'), (145, 'Словакия'), (146, 'Словения'), (147, 'Сомали'), (148, 'Судан'), (149, 'Судно \"Diamond Princess\"'), (150, 'Судно \"MS Zaandam\"'), (151, 'Суринам'), (152, 'Сьерра-Леоне'), (153, 'Таджикистан'), (154, 'Таиланд'), (155, 'Танзания'), (156, 'Того'), (157, 'Тринидад и Тобаго'), (158, 'Тунис'), (159, 'Турция'), (160, 'Уганда'), (161, 'Узбекистан'), (162, 'Украина'), (163, 'Уругвай'), (164, 'Фиджи'), (165, 'Филиппины'), (166, 'Финляндия'), (167, 'Франция'), (168, 'Хорватия'), (169, 'ЦАР'), (170, 'Чад'), (171, 'Черногория'), (172, 'Чехия'), (173, 'Чили'), (174, 'Швейцария'), (175, 'Швеция'), (176, 'Шри-Ланка'), (177, 'Эквадор'), (178, 'Экваториальная Гвинея'), (179, 'Эритрея'), (180, 'Эсватини'), (181, 'Эстония'), (182, 'Эфиопия'), (183, 'ЮАР'), (184, 'Южная Корея'), (185, 'Южный Судан'), (186, 'Ямайка'), (187, 'Япония')])\n****************************************\nРассматриваем страны: \n23 Бразилия\n28 Великобритания\n58 Индия\n128 Россия\n131 США\nВыбрали страну:  Украина\n"
    }
   ],
   "source": [
    "print('Все страны по которым есть статистика:')\n",
    "print('*'*40)\n",
    "print(country_dict.items())\n",
    "print('*'*40)\n",
    "print('Рассматриваем страны: ')\n",
    "for i in country_dict.keys():\n",
    "    if country_dict.get(i) in country_towatch:\n",
    "        print(i,country_dict.get(i))\n",
    "\n",
    "# Украина № 162\n",
    "# Весь мир № 31\n",
    "# Турция № 159\n",
    "#  Танзания № 155\n",
    "my_country = country_dict[162]\n",
    "print('Выбрали страну: ',my_country)\n"
   ]
  },
  {
   "cell_type": "code",
   "execution_count": 13,
   "metadata": {},
   "outputs": [
    {
     "output_type": "display_data",
     "data": {
      "application/vnd.plotly.v1+json": {
       "config": {
        "plotlyServerURL": "https://plot.ly"
       },
       "data": [
        {
         "alignmentgroup": "True",
         "hovertemplate": "Date=%{x}<br>Новые заболевшие=%{marker.color}<extra></extra>",
         "legendgroup": "",
         "marker": {
          "color": [
           0,
           0,
           0,
           0,
           0,
           0,
           0,
           0,
           0,
           0,
           0,
           0,
           0,
           0,
           0,
           0,
           0,
           0,
           0,
           0,
           0,
           0,
           0,
           0,
           0,
           0,
           0,
           0,
           0,
           0,
           0,
           0,
           0,
           0,
           0,
           0,
           0,
           0,
           0,
           0,
           0,
           1,
           0,
           0,
           0,
           0,
           0,
           0,
           0,
           0,
           0,
           2,
           0,
           0,
           4,
           7,
           0,
           2,
           13,
           18,
           26,
           0,
           24,
           48,
           51,
           114,
           46,
           119,
           73,
           97,
           149,
           103,
           175,
           153,
           83,
           11,
           143,
           206,
           224,
           311,
           308,
           266,
           325,
           270,
           392,
           397,
           501,
           444,
           343,
           261,
           415,
           467,
           578,
           477,
           478,
           492,
           392,
           401,
           456,
           540,
           455,
           550,
           502,
           418,
           366,
           487,
           507,
           504,
           515,
           522,
           416,
           375,
           402,
           422,
           483,
           528,
           433,
           325,
           260,
           354,
           476,
           442,
           432,
           406,
           259,
           339,
           321,
           477,
           429,
           393,
           468,
           890,
           333,
           490,
           596,
           561,
           559,
           498,
           478,
           402,
           536,
           691,
           709,
           762,
           674,
           685,
           673,
           777,
           847,
           922,
           860,
           746,
           695,
           845,
           951,
           1002,
           1121,
           957,
           924,
           682,
           716,
           670,
           897,
           884,
           923,
           840,
           585,
           569,
           835,
           828,
           831,
           825,
           706,
           638,
           646,
           848,
           861,
           826,
           867,
           744,
           690,
           687,
           841,
           874,
           1004,
           1144,
           944,
           835,
           934,
           1048,
           1222,
           1104,
           1205,
           1152,
           1020,
           1099,
           1289,
           1346,
           1503,
           1516,
           1233
          ],
          "coloraxis": "coloraxis"
         },
         "name": "",
         "offsetgroup": "",
         "orientation": "v",
         "showlegend": false,
         "text": [
          0,
          0,
          0,
          0,
          0,
          0,
          0,
          0,
          0,
          0,
          0,
          0,
          0,
          0,
          0,
          0,
          0,
          0,
          0,
          0,
          0,
          0,
          0,
          0,
          0,
          0,
          0,
          0,
          0,
          0,
          0,
          0,
          0,
          0,
          0,
          0,
          0,
          0,
          0,
          0,
          0,
          1,
          0,
          0,
          0,
          0,
          0,
          0,
          0,
          0,
          0,
          2,
          0,
          0,
          4,
          7,
          0,
          2,
          13,
          18,
          26,
          0,
          24,
          48,
          51,
          114,
          46,
          119,
          73,
          97,
          149,
          103,
          175,
          153,
          83,
          11,
          143,
          206,
          224,
          311,
          308,
          266,
          325,
          270,
          392,
          397,
          501,
          444,
          343,
          261,
          415,
          467,
          578,
          477,
          478,
          492,
          392,
          401,
          456,
          540,
          455,
          550,
          502,
          418,
          366,
          487,
          507,
          504,
          515,
          522,
          416,
          375,
          402,
          422,
          483,
          528,
          433,
          325,
          260,
          354,
          476,
          442,
          432,
          406,
          259,
          339,
          321,
          477,
          429,
          393,
          468,
          890,
          333,
          490,
          596,
          561,
          559,
          498,
          478,
          402,
          536,
          691,
          709,
          762,
          674,
          685,
          673,
          777,
          847,
          922,
          860,
          746,
          695,
          845,
          951,
          1002,
          1121,
          957,
          924,
          682,
          716,
          670,
          897,
          884,
          923,
          840,
          585,
          569,
          835,
          828,
          831,
          825,
          706,
          638,
          646,
          848,
          861,
          826,
          867,
          744,
          690,
          687,
          841,
          874,
          1004,
          1144,
          944,
          835,
          934,
          1048,
          1222,
          1104,
          1205,
          1152,
          1020,
          1099,
          1289,
          1346,
          1503,
          1516,
          1233
         ],
         "textposition": "auto",
         "type": "bar",
         "x": [
          "2020-01-22",
          "2020-01-23",
          "2020-01-24",
          "2020-01-25",
          "2020-01-26",
          "2020-01-27",
          "2020-01-28",
          "2020-01-29",
          "2020-01-30",
          "2020-01-31",
          "2020-02-01",
          "2020-02-02",
          "2020-02-03",
          "2020-02-04",
          "2020-02-05",
          "2020-02-06",
          "2020-02-07",
          "2020-02-08",
          "2020-02-09",
          "2020-02-10",
          "2020-02-11",
          "2020-02-12",
          "2020-02-13",
          "2020-02-14",
          "2020-02-15",
          "2020-02-16",
          "2020-02-17",
          "2020-02-18",
          "2020-02-19",
          "2020-02-20",
          "2020-02-21",
          "2020-02-22",
          "2020-02-23",
          "2020-02-24",
          "2020-02-25",
          "2020-02-26",
          "2020-02-27",
          "2020-02-28",
          "2020-02-29",
          "2020-03-01",
          "2020-03-02",
          "2020-03-03",
          "2020-03-04",
          "2020-03-05",
          "2020-03-06",
          "2020-03-07",
          "2020-03-08",
          "2020-03-09",
          "2020-03-10",
          "2020-03-11",
          "2020-03-12",
          "2020-03-13",
          "2020-03-14",
          "2020-03-15",
          "2020-03-16",
          "2020-03-17",
          "2020-03-18",
          "2020-03-19",
          "2020-03-20",
          "2020-03-21",
          "2020-03-22",
          "2020-03-23",
          "2020-03-24",
          "2020-03-25",
          "2020-03-26",
          "2020-03-27",
          "2020-03-28",
          "2020-03-29",
          "2020-03-30",
          "2020-03-31",
          "2020-04-01",
          "2020-04-02",
          "2020-04-03",
          "2020-04-04",
          "2020-04-05",
          "2020-04-06",
          "2020-04-07",
          "2020-04-08",
          "2020-04-09",
          "2020-04-10",
          "2020-04-11",
          "2020-04-12",
          "2020-04-13",
          "2020-04-14",
          "2020-04-15",
          "2020-04-16",
          "2020-04-17",
          "2020-04-18",
          "2020-04-19",
          "2020-04-20",
          "2020-04-21",
          "2020-04-22",
          "2020-04-23",
          "2020-04-24",
          "2020-04-25",
          "2020-04-26",
          "2020-04-27",
          "2020-04-28",
          "2020-04-29",
          "2020-04-30",
          "2020-05-01",
          "2020-05-02",
          "2020-05-03",
          "2020-05-04",
          "2020-05-05",
          "2020-05-06",
          "2020-05-07",
          "2020-05-08",
          "2020-05-09",
          "2020-05-10",
          "2020-05-11",
          "2020-05-12",
          "2020-05-13",
          "2020-05-14",
          "2020-05-15",
          "2020-05-16",
          "2020-05-17",
          "2020-05-18",
          "2020-05-19",
          "2020-05-20",
          "2020-05-21",
          "2020-05-22",
          "2020-05-23",
          "2020-05-24",
          "2020-05-25",
          "2020-05-26",
          "2020-05-27",
          "2020-05-28",
          "2020-05-29",
          "2020-05-30",
          "2020-05-31",
          "2020-06-01",
          "2020-06-02",
          "2020-06-03",
          "2020-06-04",
          "2020-06-05",
          "2020-06-06",
          "2020-06-07",
          "2020-06-08",
          "2020-06-09",
          "2020-06-10",
          "2020-06-11",
          "2020-06-12",
          "2020-06-13",
          "2020-06-14",
          "2020-06-15",
          "2020-06-16",
          "2020-06-17",
          "2020-06-18",
          "2020-06-19",
          "2020-06-20",
          "2020-06-21",
          "2020-06-22",
          "2020-06-23",
          "2020-06-24",
          "2020-06-25",
          "2020-06-26",
          "2020-06-27",
          "2020-06-28",
          "2020-06-29",
          "2020-06-30",
          "2020-07-01",
          "2020-07-02",
          "2020-07-03",
          "2020-07-04",
          "2020-07-05",
          "2020-07-06",
          "2020-07-07",
          "2020-07-08",
          "2020-07-09",
          "2020-07-10",
          "2020-07-11",
          "2020-07-12",
          "2020-07-13",
          "2020-07-14",
          "2020-07-15",
          "2020-07-16",
          "2020-07-17",
          "2020-07-18",
          "2020-07-19",
          "2020-07-20",
          "2020-07-21",
          "2020-07-22",
          "2020-07-23",
          "2020-07-24",
          "2020-07-25",
          "2020-07-26",
          "2020-07-27",
          "2020-07-28",
          "2020-07-29",
          "2020-07-30",
          "2020-07-31",
          "2020-08-01",
          "2020-08-02",
          "2020-08-03",
          "2020-08-04",
          "2020-08-05",
          "2020-08-06",
          "2020-08-07",
          "2020-08-08",
          "2020-08-09"
         ],
         "xaxis": "x",
         "y": [
          0,
          0,
          0,
          0,
          0,
          0,
          0,
          0,
          0,
          0,
          0,
          0,
          0,
          0,
          0,
          0,
          0,
          0,
          0,
          0,
          0,
          0,
          0,
          0,
          0,
          0,
          0,
          0,
          0,
          0,
          0,
          0,
          0,
          0,
          0,
          0,
          0,
          0,
          0,
          0,
          0,
          1,
          0,
          0,
          0,
          0,
          0,
          0,
          0,
          0,
          0,
          2,
          0,
          0,
          4,
          7,
          0,
          2,
          13,
          18,
          26,
          0,
          24,
          48,
          51,
          114,
          46,
          119,
          73,
          97,
          149,
          103,
          175,
          153,
          83,
          11,
          143,
          206,
          224,
          311,
          308,
          266,
          325,
          270,
          392,
          397,
          501,
          444,
          343,
          261,
          415,
          467,
          578,
          477,
          478,
          492,
          392,
          401,
          456,
          540,
          455,
          550,
          502,
          418,
          366,
          487,
          507,
          504,
          515,
          522,
          416,
          375,
          402,
          422,
          483,
          528,
          433,
          325,
          260,
          354,
          476,
          442,
          432,
          406,
          259,
          339,
          321,
          477,
          429,
          393,
          468,
          890,
          333,
          490,
          596,
          561,
          559,
          498,
          478,
          402,
          536,
          691,
          709,
          762,
          674,
          685,
          673,
          777,
          847,
          922,
          860,
          746,
          695,
          845,
          951,
          1002,
          1121,
          957,
          924,
          682,
          716,
          670,
          897,
          884,
          923,
          840,
          585,
          569,
          835,
          828,
          831,
          825,
          706,
          638,
          646,
          848,
          861,
          826,
          867,
          744,
          690,
          687,
          841,
          874,
          1004,
          1144,
          944,
          835,
          934,
          1048,
          1222,
          1104,
          1205,
          1152,
          1020,
          1099,
          1289,
          1346,
          1503,
          1516,
          1233
         ],
         "yaxis": "y"
        },
        {
         "line": {
          "color": "green"
         },
         "mode": "lines",
         "name": "14-дневная скользящая средняя",
         "showlegend": true,
         "type": "scatter",
         "x": [
          "2020-01-22",
          "2020-01-23",
          "2020-01-24",
          "2020-01-25",
          "2020-01-26",
          "2020-01-27",
          "2020-01-28",
          "2020-01-29",
          "2020-01-30",
          "2020-01-31",
          "2020-02-01",
          "2020-02-02",
          "2020-02-03",
          "2020-02-04",
          "2020-02-05",
          "2020-02-06",
          "2020-02-07",
          "2020-02-08",
          "2020-02-09",
          "2020-02-10",
          "2020-02-11",
          "2020-02-12",
          "2020-02-13",
          "2020-02-14",
          "2020-02-15",
          "2020-02-16",
          "2020-02-17",
          "2020-02-18",
          "2020-02-19",
          "2020-02-20",
          "2020-02-21",
          "2020-02-22",
          "2020-02-23",
          "2020-02-24",
          "2020-02-25",
          "2020-02-26",
          "2020-02-27",
          "2020-02-28",
          "2020-02-29",
          "2020-03-01",
          "2020-03-02",
          "2020-03-03",
          "2020-03-04",
          "2020-03-05",
          "2020-03-06",
          "2020-03-07",
          "2020-03-08",
          "2020-03-09",
          "2020-03-10",
          "2020-03-11",
          "2020-03-12",
          "2020-03-13",
          "2020-03-14",
          "2020-03-15",
          "2020-03-16",
          "2020-03-17",
          "2020-03-18",
          "2020-03-19",
          "2020-03-20",
          "2020-03-21",
          "2020-03-22",
          "2020-03-23",
          "2020-03-24",
          "2020-03-25",
          "2020-03-26",
          "2020-03-27",
          "2020-03-28",
          "2020-03-29",
          "2020-03-30",
          "2020-03-31",
          "2020-04-01",
          "2020-04-02",
          "2020-04-03",
          "2020-04-04",
          "2020-04-05",
          "2020-04-06",
          "2020-04-07",
          "2020-04-08",
          "2020-04-09",
          "2020-04-10",
          "2020-04-11",
          "2020-04-12",
          "2020-04-13",
          "2020-04-14",
          "2020-04-15",
          "2020-04-16",
          "2020-04-17",
          "2020-04-18",
          "2020-04-19",
          "2020-04-20",
          "2020-04-21",
          "2020-04-22",
          "2020-04-23",
          "2020-04-24",
          "2020-04-25",
          "2020-04-26",
          "2020-04-27",
          "2020-04-28",
          "2020-04-29",
          "2020-04-30",
          "2020-05-01",
          "2020-05-02",
          "2020-05-03",
          "2020-05-04",
          "2020-05-05",
          "2020-05-06",
          "2020-05-07",
          "2020-05-08",
          "2020-05-09",
          "2020-05-10",
          "2020-05-11",
          "2020-05-12",
          "2020-05-13",
          "2020-05-14",
          "2020-05-15",
          "2020-05-16",
          "2020-05-17",
          "2020-05-18",
          "2020-05-19",
          "2020-05-20",
          "2020-05-21",
          "2020-05-22",
          "2020-05-23",
          "2020-05-24",
          "2020-05-25",
          "2020-05-26",
          "2020-05-27",
          "2020-05-28",
          "2020-05-29",
          "2020-05-30",
          "2020-05-31",
          "2020-06-01",
          "2020-06-02",
          "2020-06-03",
          "2020-06-04",
          "2020-06-05",
          "2020-06-06",
          "2020-06-07",
          "2020-06-08",
          "2020-06-09",
          "2020-06-10",
          "2020-06-11",
          "2020-06-12",
          "2020-06-13",
          "2020-06-14",
          "2020-06-15",
          "2020-06-16",
          "2020-06-17",
          "2020-06-18",
          "2020-06-19",
          "2020-06-20",
          "2020-06-21",
          "2020-06-22",
          "2020-06-23",
          "2020-06-24",
          "2020-06-25",
          "2020-06-26",
          "2020-06-27",
          "2020-06-28",
          "2020-06-29",
          "2020-06-30",
          "2020-07-01",
          "2020-07-02",
          "2020-07-03",
          "2020-07-04",
          "2020-07-05",
          "2020-07-06",
          "2020-07-07",
          "2020-07-08",
          "2020-07-09",
          "2020-07-10",
          "2020-07-11",
          "2020-07-12",
          "2020-07-13",
          "2020-07-14",
          "2020-07-15",
          "2020-07-16",
          "2020-07-17",
          "2020-07-18",
          "2020-07-19",
          "2020-07-20",
          "2020-07-21",
          "2020-07-22",
          "2020-07-23",
          "2020-07-24",
          "2020-07-25",
          "2020-07-26",
          "2020-07-27",
          "2020-07-28",
          "2020-07-29",
          "2020-07-30",
          "2020-07-31",
          "2020-08-01",
          "2020-08-02",
          "2020-08-03",
          "2020-08-04",
          "2020-08-05",
          "2020-08-06",
          "2020-08-07",
          "2020-08-08",
          "2020-08-09"
         ],
         "y": [
          null,
          null,
          null,
          null,
          null,
          null,
          null,
          null,
          null,
          null,
          null,
          null,
          null,
          0,
          0,
          0,
          0,
          0,
          0,
          0,
          0,
          0,
          0,
          0,
          0,
          0,
          0,
          0,
          0,
          0,
          0,
          0,
          0,
          0,
          0,
          0,
          0,
          0,
          0,
          0,
          0,
          0.07142857142857142,
          0.07142857142857142,
          0.07142857142857142,
          0.07142857142857142,
          0.07142857142857142,
          0.07142857142857142,
          0.07142857142857142,
          0.07142857142857142,
          0.07142857142857142,
          0.07142857142857142,
          0.21428571428571427,
          0.21428571428571427,
          0.21428571428571427,
          0.5,
          0.9285714285714286,
          0.9285714285714286,
          1.0714285714285714,
          2,
          3.2857142857142856,
          5.142857142857143,
          5.142857142857143,
          6.857142857142857,
          10.285714285714286,
          13.928571428571429,
          21.928571428571427,
          25.214285714285715,
          33.714285714285715,
          38.642857142857146,
          45.07142857142857,
          55.714285714285715,
          62.92857142857143,
          74.5,
          84.14285714285714,
          88.21428571428571,
          89,
          97.5,
          108.78571428571429,
          121.14285714285714,
          135.21428571428572,
          153.92857142857142,
          164.42857142857142,
          182.42857142857142,
          194.78571428571428,
          212.14285714285714,
          233.14285714285714,
          256.42857142857144,
          277.2142857142857,
          295.7857142857143,
          313.64285714285717,
          333.07142857142856,
          351.7142857142857,
          377,
          388.85714285714283,
          401,
          417.14285714285717,
          421.92857142857144,
          431.2857142857143,
          435.85714285714283,
          446.07142857142856,
          442.7857142857143,
          450.35714285714283,
          461.7142857142857,
          472.92857142857144,
          469.42857142857144,
          470.85714285714283,
          465.7857142857143,
          467.7142857142857,
          470.35714285714283,
          472.5,
          474.2142857142857,
          472.35714285714283,
          468.5,
          460.07142857142856,
          462.07142857142856,
          460.5,
          455.57142857142856,
          448.92857142857144,
          441.35714285714283,
          431.85714285714283,
          429.64285714285717,
          425.2142857142857,
          419.2857142857143,
          411,
          399.7857142857143,
          397.2142857142857,
          391.42857142857144,
          395.35714285714283,
          391.5,
          381.85714285714283,
          384.35714285714283,
          424.7142857142857,
          429.92857142857144,
          439.64285714285717,
          448.2142857142857,
          456.7142857142857,
          465.7857142857143,
          472.35714285714283,
          488,
          492.5,
          507.85714285714283,
          523.1428571428571,
          543.1428571428571,
          569.5,
          584.2142857142857,
          569.5714285714286,
          593.8571428571429,
          614.3571428571429,
          632.2857142857143,
          658.0714285714286,
          679.5714285714286,
          697.2857142857143,
          712.7857142857143,
          744.4285714285714,
          774.0714285714286,
          796.2857142857143,
          825.7142857142857,
          839.6428571428571,
          857.5,
          857.2857142857143,
          860.3571428571429,
          852.7142857142857,
          856.2857142857143,
          853.5714285714286,
          858.0714285714286,
          864.7857142857143,
          856.9285714285714,
          837.2142857142857,
          828.9285714285714,
          816.5,
          795.7857142857143,
          786.3571428571429,
          770.7857142857143,
          767.6428571428571,
          762.6428571428571,
          775.3571428571429,
          772.7857142857143,
          768.6428571428571,
          764.6428571428571,
          757.7857142857143,
          765.2857142857143,
          773.7142857142857,
          774.1428571428571,
          777.4285714285714,
          789.7857142857143,
          812.5714285714286,
          829.5714285714286,
          843.6428571428571,
          864.2142857142857,
          878.5,
          904.2857142857143,
          924.1428571428571,
          948.2857142857143,
          977.4285714285714,
          1001,
          1030.4285714285713,
          1062.4285714285713,
          1096.142857142857,
          1131.7857142857142,
          1158.357142857143,
          1179
         ]
        },
        {
         "line": {
          "color": "red"
         },
         "mode": "lines",
         "name": "7-дневная скользящая средняя",
         "showlegend": true,
         "type": "scatter",
         "x": [
          "2020-01-22",
          "2020-01-23",
          "2020-01-24",
          "2020-01-25",
          "2020-01-26",
          "2020-01-27",
          "2020-01-28",
          "2020-01-29",
          "2020-01-30",
          "2020-01-31",
          "2020-02-01",
          "2020-02-02",
          "2020-02-03",
          "2020-02-04",
          "2020-02-05",
          "2020-02-06",
          "2020-02-07",
          "2020-02-08",
          "2020-02-09",
          "2020-02-10",
          "2020-02-11",
          "2020-02-12",
          "2020-02-13",
          "2020-02-14",
          "2020-02-15",
          "2020-02-16",
          "2020-02-17",
          "2020-02-18",
          "2020-02-19",
          "2020-02-20",
          "2020-02-21",
          "2020-02-22",
          "2020-02-23",
          "2020-02-24",
          "2020-02-25",
          "2020-02-26",
          "2020-02-27",
          "2020-02-28",
          "2020-02-29",
          "2020-03-01",
          "2020-03-02",
          "2020-03-03",
          "2020-03-04",
          "2020-03-05",
          "2020-03-06",
          "2020-03-07",
          "2020-03-08",
          "2020-03-09",
          "2020-03-10",
          "2020-03-11",
          "2020-03-12",
          "2020-03-13",
          "2020-03-14",
          "2020-03-15",
          "2020-03-16",
          "2020-03-17",
          "2020-03-18",
          "2020-03-19",
          "2020-03-20",
          "2020-03-21",
          "2020-03-22",
          "2020-03-23",
          "2020-03-24",
          "2020-03-25",
          "2020-03-26",
          "2020-03-27",
          "2020-03-28",
          "2020-03-29",
          "2020-03-30",
          "2020-03-31",
          "2020-04-01",
          "2020-04-02",
          "2020-04-03",
          "2020-04-04",
          "2020-04-05",
          "2020-04-06",
          "2020-04-07",
          "2020-04-08",
          "2020-04-09",
          "2020-04-10",
          "2020-04-11",
          "2020-04-12",
          "2020-04-13",
          "2020-04-14",
          "2020-04-15",
          "2020-04-16",
          "2020-04-17",
          "2020-04-18",
          "2020-04-19",
          "2020-04-20",
          "2020-04-21",
          "2020-04-22",
          "2020-04-23",
          "2020-04-24",
          "2020-04-25",
          "2020-04-26",
          "2020-04-27",
          "2020-04-28",
          "2020-04-29",
          "2020-04-30",
          "2020-05-01",
          "2020-05-02",
          "2020-05-03",
          "2020-05-04",
          "2020-05-05",
          "2020-05-06",
          "2020-05-07",
          "2020-05-08",
          "2020-05-09",
          "2020-05-10",
          "2020-05-11",
          "2020-05-12",
          "2020-05-13",
          "2020-05-14",
          "2020-05-15",
          "2020-05-16",
          "2020-05-17",
          "2020-05-18",
          "2020-05-19",
          "2020-05-20",
          "2020-05-21",
          "2020-05-22",
          "2020-05-23",
          "2020-05-24",
          "2020-05-25",
          "2020-05-26",
          "2020-05-27",
          "2020-05-28",
          "2020-05-29",
          "2020-05-30",
          "2020-05-31",
          "2020-06-01",
          "2020-06-02",
          "2020-06-03",
          "2020-06-04",
          "2020-06-05",
          "2020-06-06",
          "2020-06-07",
          "2020-06-08",
          "2020-06-09",
          "2020-06-10",
          "2020-06-11",
          "2020-06-12",
          "2020-06-13",
          "2020-06-14",
          "2020-06-15",
          "2020-06-16",
          "2020-06-17",
          "2020-06-18",
          "2020-06-19",
          "2020-06-20",
          "2020-06-21",
          "2020-06-22",
          "2020-06-23",
          "2020-06-24",
          "2020-06-25",
          "2020-06-26",
          "2020-06-27",
          "2020-06-28",
          "2020-06-29",
          "2020-06-30",
          "2020-07-01",
          "2020-07-02",
          "2020-07-03",
          "2020-07-04",
          "2020-07-05",
          "2020-07-06",
          "2020-07-07",
          "2020-07-08",
          "2020-07-09",
          "2020-07-10",
          "2020-07-11",
          "2020-07-12",
          "2020-07-13",
          "2020-07-14",
          "2020-07-15",
          "2020-07-16",
          "2020-07-17",
          "2020-07-18",
          "2020-07-19",
          "2020-07-20",
          "2020-07-21",
          "2020-07-22",
          "2020-07-23",
          "2020-07-24",
          "2020-07-25",
          "2020-07-26",
          "2020-07-27",
          "2020-07-28",
          "2020-07-29",
          "2020-07-30",
          "2020-07-31",
          "2020-08-01",
          "2020-08-02",
          "2020-08-03",
          "2020-08-04",
          "2020-08-05",
          "2020-08-06",
          "2020-08-07",
          "2020-08-08",
          "2020-08-09"
         ],
         "y": [
          null,
          null,
          null,
          null,
          null,
          null,
          0,
          0,
          0,
          0,
          0,
          0,
          0,
          0,
          0,
          0,
          0,
          0,
          0,
          0,
          0,
          0,
          0,
          0,
          0,
          0,
          0,
          0,
          0,
          0,
          0,
          0,
          0,
          0,
          0,
          0,
          0,
          0,
          0,
          0,
          0,
          0.14285714285714285,
          0.14285714285714285,
          0.14285714285714285,
          0.14285714285714285,
          0.14285714285714285,
          0.14285714285714285,
          0.14285714285714285,
          0,
          0,
          0,
          0.2857142857142857,
          0.2857142857142857,
          0.2857142857142857,
          0.8571428571428571,
          1.8571428571428572,
          1.8571428571428572,
          2.142857142857143,
          3.7142857142857144,
          6.285714285714286,
          10,
          9.428571428571429,
          11.857142857142858,
          18.714285714285715,
          25.714285714285715,
          40.142857142857146,
          44.142857142857146,
          57.42857142857143,
          67.85714285714286,
          78.28571428571429,
          92.71428571428571,
          100.14285714285714,
          108.85714285714286,
          124.14285714285714,
          119,
          110.14285714285714,
          116.71428571428571,
          124.85714285714286,
          142.14285714285714,
          161.57142857142858,
          183.71428571428572,
          209.85714285714286,
          254.71428571428572,
          272.85714285714283,
          299.42857142857144,
          324.14285714285717,
          351.2857142857143,
          370.7142857142857,
          381.7142857142857,
          372.57142857142856,
          393.2857142857143,
          404,
          429.85714285714283,
          426.42857142857144,
          431.2857142857143,
          452.57142857142856,
          471.2857142857143,
          469.2857142857143,
          467.7142857142857,
          462.2857142857143,
          459.14285714285717,
          469.42857142857144,
          470.85714285714283,
          474.57142857142856,
          469.57142857142856,
          474,
          469.2857142857143,
          476.2857142857143,
          471.2857142857143,
          474.14285714285717,
          473.85714285714283,
          475.14285714285717,
          463,
          450.85714285714283,
          447.85714285714283,
          449.7142857142857,
          437,
          424,
          407.57142857142856,
          400.7142857142857,
          408.42857142857144,
          402.57142857142856,
          388.85714285714283,
          385,
          375.57142857142856,
          386.85714285714283,
          382.14285714285717,
          382.2857142857143,
          380.42857142857144,
          374.85714285714283,
          383.7142857142857,
          473.85714285714283,
          473,
          497.14285714285717,
          514.1428571428571,
          533,
          556.7142857142857,
          561,
          502.14285714285717,
          512,
          518.5714285714286,
          532.1428571428571,
          553.2857142857143,
          582.2857142857143,
          607.4285714285714,
          637,
          675.7142857142857,
          710.1428571428571,
          732.4285714285714,
          762.8571428571429,
          776.8571428571429,
          787.1428571428571,
          788.5714285714286,
          813.1428571428571,
          838,
          860.1428571428571,
          888.5714285714286,
          902.4285714285714,
          927.8571428571429,
          926,
          907.5714285714286,
          867.4285714285714,
          852.4285714285714,
          818.5714285714286,
          813.7142857142857,
          801.7142857142857,
          787.8571428571429,
          766.8571428571429,
          790.4285714285714,
          780.5714285714286,
          773,
          759,
          739.8571428571429,
          747.4285714285714,
          758.4285714285714,
          760.2857142857143,
          765,
          764.2857142857143,
          770.2857142857143,
          775.7142857142857,
          783.1428571428571,
          789,
          788,
          789.8571428571429,
          815.2857142857143,
          854.8571428571429,
          883.4285714285714,
          904.1428571428571,
          939.4285714285714,
          969,
          1018.7142857142857,
          1033,
          1041.7142857142858,
          1071.4285714285713,
          1097.857142857143,
          1121.4285714285713,
          1155.857142857143,
          1173.5714285714287,
          1230.5714285714287,
          1275,
          1286.5714285714287
         ]
        }
       ],
       "layout": {
        "annotations": [
         {
          "showarrow": false,
          "text": "Данные: Яндекс",
          "x": 0.5,
          "xref": "paper",
          "y": -0.15,
          "yref": "paper"
         }
        ],
        "barmode": "relative",
        "coloraxis": {
         "colorbar": {
          "title": {
           "text": "Новые заболевшие"
          }
         },
         "colorscale": [
          [
           0,
           "rgb(247,252,253)"
          ],
          [
           0.125,
           "rgb(224,236,244)"
          ],
          [
           0.25,
           "rgb(191,211,230)"
          ],
          [
           0.375,
           "rgb(158,188,218)"
          ],
          [
           0.5,
           "rgb(140,150,198)"
          ],
          [
           0.625,
           "rgb(140,107,177)"
          ],
          [
           0.75,
           "rgb(136,65,157)"
          ],
          [
           0.875,
           "rgb(129,15,124)"
          ],
          [
           1,
           "rgb(77,0,75)"
          ]
         ]
        },
        "height": 600,
        "legend": {
         "tracegroupgap": 0,
         "x": 0.1,
         "y": 0.95
        },
        "template": {
         "data": {
          "pie": [
           {
            "automargin": true,
            "type": "pie"
           }
          ]
         },
         "layout": {
          "xaxis": {
           "showgrid": true,
           "title": {
            "standoff": 15
           }
          },
          "yaxis": {
           "showgrid": true,
           "title": {
            "standoff": 15
           }
          }
         }
        },
        "title": {
         "text": "Украина: график количества новых заболевших COVID-19 по датам",
         "x": 0.5,
         "xanchor": "center",
         "y": 0.9,
         "yanchor": "bottom"
        },
        "width": 990,
        "xaxis": {
         "anchor": "y",
         "domain": [
          0,
          1
         ],
         "title": {
          "text": ""
         }
        },
        "yaxis": {
         "anchor": "x",
         "domain": [
          0,
          1
         ],
         "title": {
          "text": " "
         }
        }
       }
      }
     },
     "metadata": {}
    }
   ],
   "source": [
    "mask = X.Country ==my_country\n",
    "#mask = (X.Date>datetime.date(2020,5,1)&(X.Region.isin(regions_towatch))\n",
    "#mask = (X.Date>datetime.date(2020,5,1)&(X.Region==my_region)\n",
    "\n",
    "fig = px.bar(X[mask], x='Date', \n",
    "             y=\"Day_confirmed\",color ='Day_confirmed',\n",
    "             title=f'{my_country}: '+'график количества новых заболевших COVID-19 по датам',\n",
    "              color_continuous_scale= px.colors.sequential.BuPu,text = 'Day_confirmed',\n",
    "             labels = {'Day_confirmed' : \"Новые заболевшие\",'Remaining_ill':'Текущие больные'})\n",
    "fig.add_trace(\n",
    "    go.Scatter(\n",
    "        name='14-дневная скользящая средняя',\n",
    "        x=X[mask].Date,\n",
    "        y=X[mask]['MA14_dayconfirmed'],\n",
    "        mode=\"lines\",\n",
    "        \n",
    "        line=go.scatter.Line(color=\"green\"),\n",
    "        showlegend=True)\n",
    ")\n",
    "fig.add_trace(\n",
    "    go.Scatter(\n",
    "        name = '7-дневная скользящая средняя',\n",
    "        x=X[mask]['Date'],\n",
    "        y=X[mask]['MA7_dayconfirmed'],\n",
    "        mode=\"lines\",\n",
    "        \n",
    "        line=go.scatter.Line(color=\"red\"),\n",
    "        showlegend=True)\n",
    ")\n",
    "fig.update_layout(\n",
    "    annotations=[\n",
    "#         dict(\n",
    "#             x='2020-04-13',\n",
    "#             y=1355,\n",
    "#             xref=\"x\",\n",
    "#             yref=\"y\",\n",
    "#             text=\"Введение<br>пропускной<br>системы в Москве\",\n",
    "#             showarrow=True,\n",
    "#             arrowhead=2,\n",
    "#             ax=0,\n",
    "#             ay=-60),\n",
    "#         dict(\n",
    "#             x='2020-06-09',\n",
    "#             y=1572,\n",
    "#             xref=\"x\",\n",
    "#             yref=\"y\",\n",
    "#             text=\"Отмена<br>пропускной<br>системы в Москве\",\n",
    "#             showarrow=True,\n",
    "#             arrowhead=2,\n",
    "#             ax=0,\n",
    "#             ay=-90),\n",
    "        dict(\n",
    "            x=0.5,\n",
    "            y=-0.15,\n",
    "            showarrow=False,\n",
    "            text=\"Данные: Яндекс\",\n",
    "            xref=\"paper\",\n",
    "            yref=\"paper\"),\n",
    "        \n",
    "                ],\n",
    "    \n",
    "    \n",
    "                  title_x = 0.5,\n",
    "                  title_y= 0.9,\n",
    "                  title_xanchor = \"center\",\n",
    "                  title_yanchor = \"bottom\", \n",
    "                  legend_x = 0.10,legend_y = 0.95,\n",
    "                  width = 990, height = 600,template = 'gridon',\n",
    "    \n",
    "    \n",
    "                  xaxis_title='',yaxis_title = ' '\n",
    ")\n",
    "\n",
    "\n",
    "fig.show()\n"
   ]
  },
  {
   "cell_type": "code",
   "execution_count": 14,
   "metadata": {},
   "outputs": [
    {
     "output_type": "display_data",
     "data": {
      "application/vnd.plotly.v1+json": {
       "config": {
        "plotlyServerURL": "https://plot.ly"
       },
       "data": [
        {
         "marker": {
          "color": [
           0,
           0,
           0,
           0,
           0,
           0,
           0,
           0,
           0,
           0,
           0,
           0,
           0,
           0,
           0,
           0,
           0,
           0,
           0,
           0,
           0,
           0,
           0,
           0,
           0,
           0,
           0,
           0,
           0,
           0,
           0,
           0,
           0,
           0,
           0,
           0,
           0,
           0,
           0,
           0,
           0,
           1,
           -1,
           0,
           0,
           0,
           0,
           0,
           0,
           0,
           0,
           2,
           -2,
           0,
           4,
           3,
           -7,
           2,
           11,
           5,
           8,
           -26,
           24,
           24,
           3,
           63,
           -68,
           73,
           -46,
           24,
           52,
           -46,
           72,
           -22,
           -70,
           -72,
           132,
           63,
           18,
           87,
           -3,
           -42,
           59,
           -55,
           122,
           5,
           104,
           -57,
           -101,
           -82,
           154,
           52,
           111,
           -101,
           1,
           14,
           -100,
           9,
           55,
           84,
           -85,
           95,
           -48,
           -84,
           -52,
           121,
           20,
           -3,
           11,
           7,
           -106,
           -41,
           27,
           20,
           61,
           45,
           -95,
           -108,
           -65,
           94,
           122,
           -34,
           -10,
           -26,
           -147,
           80,
           -18,
           156,
           -48,
           -36,
           75,
           422,
           -557,
           157,
           106,
           -35,
           -2,
           -61,
           -20,
           -76,
           134,
           155,
           18,
           53,
           -88,
           11,
           -12,
           104,
           70,
           75,
           -62,
           -114,
           -51,
           150,
           106,
           51,
           119,
           -164,
           -33,
           -242,
           34,
           -46,
           227,
           -13,
           39,
           -83,
           -255,
           -16,
           266,
           -7,
           3,
           -6,
           -119,
           -68,
           8,
           202,
           13,
           -35,
           41,
           -123,
           -54,
           -3,
           154,
           33,
           130,
           140,
           -200,
           -109,
           99,
           114,
           174,
           -118,
           101,
           -53,
           -132,
           79,
           190,
           57,
           157,
           13,
           -283
          ],
          "colorbar": {
           "tickmode": "auto",
           "title": {
            "side": "top",
            "text": "Изменение"
           }
          },
          "colorscale": [
           [
            0,
            "rgb(0, 147, 146)"
           ],
           [
            0.16666666666666666,
            "rgb(57, 177, 133)"
           ],
           [
            0.3333333333333333,
            "rgb(156, 203, 134)"
           ],
           [
            0.5,
            "rgb(233, 226, 156)"
           ],
           [
            0.6666666666666666,
            "rgb(238, 180, 121)"
           ],
           [
            0.8333333333333334,
            "rgb(232, 132, 113)"
           ],
           [
            1,
            "rgb(207, 89, 126)"
           ]
          ]
         },
         "text": [
          0,
          0,
          0,
          0,
          0,
          0,
          0,
          0,
          0,
          0,
          0,
          0,
          0,
          0,
          0,
          0,
          0,
          0,
          0,
          0,
          0,
          0,
          0,
          0,
          0,
          0,
          0,
          0,
          0,
          0,
          0,
          0,
          0,
          0,
          0,
          0,
          0,
          0,
          0,
          0,
          0,
          1,
          -1,
          0,
          0,
          0,
          0,
          0,
          0,
          0,
          0,
          2,
          -2,
          0,
          4,
          3,
          -7,
          2,
          11,
          5,
          8,
          -26,
          24,
          24,
          3,
          63,
          -68,
          73,
          -46,
          24,
          52,
          -46,
          72,
          -22,
          -70,
          -72,
          132,
          63,
          18,
          87,
          -3,
          -42,
          59,
          -55,
          122,
          5,
          104,
          -57,
          -101,
          -82,
          154,
          52,
          111,
          -101,
          1,
          14,
          -100,
          9,
          55,
          84,
          -85,
          95,
          -48,
          -84,
          -52,
          121,
          20,
          -3,
          11,
          7,
          -106,
          -41,
          27,
          20,
          61,
          45,
          -95,
          -108,
          -65,
          94,
          122,
          -34,
          -10,
          -26,
          -147,
          80,
          -18,
          156,
          -48,
          -36,
          75,
          422,
          -557,
          157,
          106,
          -35,
          -2,
          -61,
          -20,
          -76,
          134,
          155,
          18,
          53,
          -88,
          11,
          -12,
          104,
          70,
          75,
          -62,
          -114,
          -51,
          150,
          106,
          51,
          119,
          -164,
          -33,
          -242,
          34,
          -46,
          227,
          -13,
          39,
          -83,
          -255,
          -16,
          266,
          -7,
          3,
          -6,
          -119,
          -68,
          8,
          202,
          13,
          -35,
          41,
          -123,
          -54,
          -3,
          154,
          33,
          130,
          140,
          -200,
          -109,
          99,
          114,
          174,
          -118,
          101,
          -53,
          -132,
          79,
          190,
          57,
          157,
          13,
          -283
         ],
         "textposition": "inside",
         "type": "bar",
         "x": [
          "2020-01-22T00:00:00",
          "2020-01-23T00:00:00",
          "2020-01-24T00:00:00",
          "2020-01-25T00:00:00",
          "2020-01-26T00:00:00",
          "2020-01-27T00:00:00",
          "2020-01-28T00:00:00",
          "2020-01-29T00:00:00",
          "2020-01-30T00:00:00",
          "2020-01-31T00:00:00",
          "2020-02-01T00:00:00",
          "2020-02-02T00:00:00",
          "2020-02-03T00:00:00",
          "2020-02-04T00:00:00",
          "2020-02-05T00:00:00",
          "2020-02-06T00:00:00",
          "2020-02-07T00:00:00",
          "2020-02-08T00:00:00",
          "2020-02-09T00:00:00",
          "2020-02-10T00:00:00",
          "2020-02-11T00:00:00",
          "2020-02-12T00:00:00",
          "2020-02-13T00:00:00",
          "2020-02-14T00:00:00",
          "2020-02-15T00:00:00",
          "2020-02-16T00:00:00",
          "2020-02-17T00:00:00",
          "2020-02-18T00:00:00",
          "2020-02-19T00:00:00",
          "2020-02-20T00:00:00",
          "2020-02-21T00:00:00",
          "2020-02-22T00:00:00",
          "2020-02-23T00:00:00",
          "2020-02-24T00:00:00",
          "2020-02-25T00:00:00",
          "2020-02-26T00:00:00",
          "2020-02-27T00:00:00",
          "2020-02-28T00:00:00",
          "2020-02-29T00:00:00",
          "2020-03-01T00:00:00",
          "2020-03-02T00:00:00",
          "2020-03-03T00:00:00",
          "2020-03-04T00:00:00",
          "2020-03-05T00:00:00",
          "2020-03-06T00:00:00",
          "2020-03-07T00:00:00",
          "2020-03-08T00:00:00",
          "2020-03-09T00:00:00",
          "2020-03-10T00:00:00",
          "2020-03-11T00:00:00",
          "2020-03-12T00:00:00",
          "2020-03-13T00:00:00",
          "2020-03-14T00:00:00",
          "2020-03-15T00:00:00",
          "2020-03-16T00:00:00",
          "2020-03-17T00:00:00",
          "2020-03-18T00:00:00",
          "2020-03-19T00:00:00",
          "2020-03-20T00:00:00",
          "2020-03-21T00:00:00",
          "2020-03-22T00:00:00",
          "2020-03-23T00:00:00",
          "2020-03-24T00:00:00",
          "2020-03-25T00:00:00",
          "2020-03-26T00:00:00",
          "2020-03-27T00:00:00",
          "2020-03-28T00:00:00",
          "2020-03-29T00:00:00",
          "2020-03-30T00:00:00",
          "2020-03-31T00:00:00",
          "2020-04-01T00:00:00",
          "2020-04-02T00:00:00",
          "2020-04-03T00:00:00",
          "2020-04-04T00:00:00",
          "2020-04-05T00:00:00",
          "2020-04-06T00:00:00",
          "2020-04-07T00:00:00",
          "2020-04-08T00:00:00",
          "2020-04-09T00:00:00",
          "2020-04-10T00:00:00",
          "2020-04-11T00:00:00",
          "2020-04-12T00:00:00",
          "2020-04-13T00:00:00",
          "2020-04-14T00:00:00",
          "2020-04-15T00:00:00",
          "2020-04-16T00:00:00",
          "2020-04-17T00:00:00",
          "2020-04-18T00:00:00",
          "2020-04-19T00:00:00",
          "2020-04-20T00:00:00",
          "2020-04-21T00:00:00",
          "2020-04-22T00:00:00",
          "2020-04-23T00:00:00",
          "2020-04-24T00:00:00",
          "2020-04-25T00:00:00",
          "2020-04-26T00:00:00",
          "2020-04-27T00:00:00",
          "2020-04-28T00:00:00",
          "2020-04-29T00:00:00",
          "2020-04-30T00:00:00",
          "2020-05-01T00:00:00",
          "2020-05-02T00:00:00",
          "2020-05-03T00:00:00",
          "2020-05-04T00:00:00",
          "2020-05-05T00:00:00",
          "2020-05-06T00:00:00",
          "2020-05-07T00:00:00",
          "2020-05-08T00:00:00",
          "2020-05-09T00:00:00",
          "2020-05-10T00:00:00",
          "2020-05-11T00:00:00",
          "2020-05-12T00:00:00",
          "2020-05-13T00:00:00",
          "2020-05-14T00:00:00",
          "2020-05-15T00:00:00",
          "2020-05-16T00:00:00",
          "2020-05-17T00:00:00",
          "2020-05-18T00:00:00",
          "2020-05-19T00:00:00",
          "2020-05-20T00:00:00",
          "2020-05-21T00:00:00",
          "2020-05-22T00:00:00",
          "2020-05-23T00:00:00",
          "2020-05-24T00:00:00",
          "2020-05-25T00:00:00",
          "2020-05-26T00:00:00",
          "2020-05-27T00:00:00",
          "2020-05-28T00:00:00",
          "2020-05-29T00:00:00",
          "2020-05-30T00:00:00",
          "2020-05-31T00:00:00",
          "2020-06-01T00:00:00",
          "2020-06-02T00:00:00",
          "2020-06-03T00:00:00",
          "2020-06-04T00:00:00",
          "2020-06-05T00:00:00",
          "2020-06-06T00:00:00",
          "2020-06-07T00:00:00",
          "2020-06-08T00:00:00",
          "2020-06-09T00:00:00",
          "2020-06-10T00:00:00",
          "2020-06-11T00:00:00",
          "2020-06-12T00:00:00",
          "2020-06-13T00:00:00",
          "2020-06-14T00:00:00",
          "2020-06-15T00:00:00",
          "2020-06-16T00:00:00",
          "2020-06-17T00:00:00",
          "2020-06-18T00:00:00",
          "2020-06-19T00:00:00",
          "2020-06-20T00:00:00",
          "2020-06-21T00:00:00",
          "2020-06-22T00:00:00",
          "2020-06-23T00:00:00",
          "2020-06-24T00:00:00",
          "2020-06-25T00:00:00",
          "2020-06-26T00:00:00",
          "2020-06-27T00:00:00",
          "2020-06-28T00:00:00",
          "2020-06-29T00:00:00",
          "2020-06-30T00:00:00",
          "2020-07-01T00:00:00",
          "2020-07-02T00:00:00",
          "2020-07-03T00:00:00",
          "2020-07-04T00:00:00",
          "2020-07-05T00:00:00",
          "2020-07-06T00:00:00",
          "2020-07-07T00:00:00",
          "2020-07-08T00:00:00",
          "2020-07-09T00:00:00",
          "2020-07-10T00:00:00",
          "2020-07-11T00:00:00",
          "2020-07-12T00:00:00",
          "2020-07-13T00:00:00",
          "2020-07-14T00:00:00",
          "2020-07-15T00:00:00",
          "2020-07-16T00:00:00",
          "2020-07-17T00:00:00",
          "2020-07-18T00:00:00",
          "2020-07-19T00:00:00",
          "2020-07-20T00:00:00",
          "2020-07-21T00:00:00",
          "2020-07-22T00:00:00",
          "2020-07-23T00:00:00",
          "2020-07-24T00:00:00",
          "2020-07-25T00:00:00",
          "2020-07-26T00:00:00",
          "2020-07-27T00:00:00",
          "2020-07-28T00:00:00",
          "2020-07-29T00:00:00",
          "2020-07-30T00:00:00",
          "2020-07-31T00:00:00",
          "2020-08-01T00:00:00",
          "2020-08-02T00:00:00",
          "2020-08-03T00:00:00",
          "2020-08-04T00:00:00",
          "2020-08-05T00:00:00",
          "2020-08-06T00:00:00",
          "2020-08-07T00:00:00",
          "2020-08-08T00:00:00",
          "2020-08-09T00:00:00"
         ],
         "y": [
          0,
          0,
          0,
          0,
          0,
          0,
          0,
          0,
          0,
          0,
          0,
          0,
          0,
          0,
          0,
          0,
          0,
          0,
          0,
          0,
          0,
          0,
          0,
          0,
          0,
          0,
          0,
          0,
          0,
          0,
          0,
          0,
          0,
          0,
          0,
          0,
          0,
          0,
          0,
          0,
          0,
          1,
          -1,
          0,
          0,
          0,
          0,
          0,
          0,
          0,
          0,
          2,
          -2,
          0,
          4,
          3,
          -7,
          2,
          11,
          5,
          8,
          -26,
          24,
          24,
          3,
          63,
          -68,
          73,
          -46,
          24,
          52,
          -46,
          72,
          -22,
          -70,
          -72,
          132,
          63,
          18,
          87,
          -3,
          -42,
          59,
          -55,
          122,
          5,
          104,
          -57,
          -101,
          -82,
          154,
          52,
          111,
          -101,
          1,
          14,
          -100,
          9,
          55,
          84,
          -85,
          95,
          -48,
          -84,
          -52,
          121,
          20,
          -3,
          11,
          7,
          -106,
          -41,
          27,
          20,
          61,
          45,
          -95,
          -108,
          -65,
          94,
          122,
          -34,
          -10,
          -26,
          -147,
          80,
          -18,
          156,
          -48,
          -36,
          75,
          422,
          -557,
          157,
          106,
          -35,
          -2,
          -61,
          -20,
          -76,
          134,
          155,
          18,
          53,
          -88,
          11,
          -12,
          104,
          70,
          75,
          -62,
          -114,
          -51,
          150,
          106,
          51,
          119,
          -164,
          -33,
          -242,
          34,
          -46,
          227,
          -13,
          39,
          -83,
          -255,
          -16,
          266,
          -7,
          3,
          -6,
          -119,
          -68,
          8,
          202,
          13,
          -35,
          41,
          -123,
          -54,
          -3,
          154,
          33,
          130,
          140,
          -200,
          -109,
          99,
          114,
          174,
          -118,
          101,
          -53,
          -132,
          79,
          190,
          57,
          157,
          13,
          -283
         ]
        }
       ],
       "layout": {
        "annotations": [
         {
          "showarrow": false,
          "text": "",
          "x": 0.5,
          "xref": "paper",
          "y": -0.15,
          "yref": "paper"
         }
        ],
        "height": 600,
        "legend": {
         "x": 0.05,
         "y": 0.98
        },
        "template": {
         "data": {
          "pie": [
           {
            "automargin": true,
            "type": "pie"
           }
          ]
         },
         "layout": {
          "xaxis": {
           "showgrid": true,
           "title": {
            "standoff": 15
           }
          },
          "yaxis": {
           "showgrid": true,
           "title": {
            "standoff": 15
           }
          }
         }
        },
        "title": {
         "text": "Украина: динамика новых заболевших COVID-19 по дням<br>(изменение относительно предыдущего дня)",
         "x": 0.5,
         "xanchor": "center",
         "y": 0.9,
         "yanchor": "bottom"
        },
        "width": 990,
        "xaxis": {
         "title": {
          "text": "Данные: Яндекс"
         }
        },
        "yaxis": {
         "title": {
          "text": " "
         }
        }
       }
      }
     },
     "metadata": {}
    }
   ],
   "source": [
    "mask = X.Country ==my_country\n",
    "#mask = (X.Date>datetime.date(2020,5,1))&(X.Region==my_region)\n",
    "Y = X[mask]\n",
    "\n",
    "Y['base'] = Y['Change_dayconf']*Y['Change_dayconf'].apply(lambda d:0 if d>0 else 1)\n",
    "Y['Date']= pd.to_datetime(Y.Date)\n",
    "fig = go.Figure()\n",
    "fig.add_trace(\n",
    "              go.Bar(x = Y.Date,y=Y.Change_dayconf,text = Y['Change_dayconf'],textposition = 'inside',\n",
    "                \n",
    "                #marker_color=Y['Change_dayconf'].apply(lambda d:'crimson' if d>0 else 'green'),\n",
    "                 marker_color = Y['Change_dayconf'],marker_colorscale = 'Temps',marker_colorbar ={'tickmode':'auto',\n",
    "                                    'title':{'text':'Изменение','side':'top'}}\n",
    "                    )   \n",
    "                )\n",
    "fig.update_layout(\n",
    "    annotations=[\n",
    "#         dict(\n",
    "#             x='2020-04-13',\n",
    "#             y=10594,\n",
    "#             xref=\"x\",\n",
    "#             yref=\"y\",\n",
    "#             text=\"Введение<br>пропускной<br>системы в Москве\",\n",
    "#             showarrow=True,\n",
    "#             arrowhead=2,\n",
    "#             ax=0,\n",
    "#             ay=-60),\n",
    "#         dict(\n",
    "#             x='2020-06-09',\n",
    "#             y=-429,\n",
    "#             xref=\"x\",\n",
    "#             yref=\"y\",\n",
    "#             text=\"Отмена<br>пропускной<br>системы в Москве\",\n",
    "#             showarrow=True,\n",
    "#             arrowhead=2,\n",
    "#             ax=0,\n",
    "#             ay=60),\n",
    "        \n",
    "        dict(x=0.5,y=-0.15,\n",
    "            showarrow=False,\n",
    "            text=\"\",\n",
    "            xref=\"paper\",\n",
    "            yref=\"paper\")],\n",
    "                  title=f'{my_country}: динамика новых заболевших COVID-19 по дням<br>(изменение относительно предыдущего дня)',\n",
    "                  title_x = 0.5,\n",
    "                  title_y= 0.9,\n",
    "                  title_xanchor = \"center\",\n",
    "                  title_yanchor = \"bottom\", \n",
    "                  legend_x = 0.05,legend_y = 0.98,\n",
    "                  width = 990, height = 600,template = 'gridon',\n",
    "    \n",
    "    \n",
    "                  xaxis_title='Данные: Яндекс',\n",
    "    yaxis_title = ' '\n",
    ")\n",
    "\n",
    "\n",
    "fig.show()\n"
   ]
  },
  {
   "cell_type": "code",
   "execution_count": 15,
   "metadata": {},
   "outputs": [
    {
     "output_type": "display_data",
     "data": {
      "application/vnd.plotly.v1+json": {
       "config": {
        "plotlyServerURL": "https://plot.ly"
       },
       "data": [
        {
         "alignmentgroup": "True",
         "hovertemplate": "Date=%{x}<br>Текущие больные=%{marker.color}<extra></extra>",
         "legendgroup": "",
         "marker": {
          "color": [
           0,
           0,
           0,
           0,
           0,
           0,
           0,
           0,
           0,
           0,
           0,
           0,
           0,
           0,
           0,
           0,
           0,
           0,
           0,
           0,
           0,
           0,
           0,
           0,
           0,
           0,
           0,
           0,
           0,
           0,
           0,
           0,
           0,
           0,
           0,
           0,
           0,
           0,
           0,
           0,
           0,
           1,
           1,
           1,
           1,
           1,
           1,
           1,
           1,
           1,
           1,
           2,
           2,
           2,
           6,
           12,
           12,
           14,
           26,
           43,
           69,
           69,
           93,
           139,
           190,
           300,
           342,
           459,
           527,
           618,
           761,
           856,
           1023,
           1168,
           1243,
           1253,
           1389,
           1581,
           1790,
           2073,
           2359,
           2605,
           2912,
           3155,
           3513,
           3859,
           4291,
           4698,
           4961,
           5200,
           5597,
           5994,
           6479,
           6664,
           7142,
           7568,
           7925,
           8179,
           8513,
           8907,
           9176,
           9634,
           10077,
           10409,
           10506,
           10760,
           10955,
           11128,
           11425,
           11781,
           11952,
           12225,
           12270,
           12248,
           12381,
           12455,
           12661,
           12805,
           12696,
           12711,
           12900,
           12975,
           13046,
           13261,
           13388,
           13365,
           13252,
           13274,
           13198,
           13197,
           13426,
           13785,
           13701,
           13805,
           13758,
           13957,
           14051,
           14290,
           14615,
           14769,
           14917,
           15200,
           15460,
           15798,
           16356,
           16854,
           17233,
           17548,
           17856,
           18172,
           18637,
           19271,
           19823,
           20318,
           20782,
           21411,
           21951,
           22461,
           23129,
           23698,
           24289,
           24492,
           24866,
           25182,
           25478,
           26072,
           26313,
           26353,
           26222,
           26335,
           26120,
           26039,
           26276,
           26514,
           26481,
           26330,
           26356,
           26318,
           26358,
           26737,
           26853,
           26731,
           26566,
           26564,
           26650,
           27134,
           27751,
           28258,
           28528,
           28882,
           29276,
           29742,
           30360,
           31257,
           31922,
           32243,
           32572,
           32857,
           33770,
           34622,
           35507
          ],
          "coloraxis": "coloraxis"
         },
         "name": "",
         "offsetgroup": "",
         "orientation": "v",
         "showlegend": false,
         "text": [
          0,
          0,
          0,
          0,
          0,
          0,
          0,
          0,
          0,
          0,
          0,
          0,
          0,
          0,
          0,
          0,
          0,
          0,
          0,
          0,
          0,
          0,
          0,
          0,
          0,
          0,
          0,
          0,
          0,
          0,
          0,
          0,
          0,
          0,
          0,
          0,
          0,
          0,
          0,
          0,
          0,
          1,
          1,
          1,
          1,
          1,
          1,
          1,
          1,
          1,
          1,
          2,
          2,
          2,
          6,
          12,
          12,
          14,
          26,
          43,
          69,
          69,
          93,
          139,
          190,
          300,
          342,
          459,
          527,
          618,
          761,
          856,
          1023,
          1168,
          1243,
          1253,
          1389,
          1581,
          1790,
          2073,
          2359,
          2605,
          2912,
          3155,
          3513,
          3859,
          4291,
          4698,
          4961,
          5200,
          5597,
          5994,
          6479,
          6664,
          7142,
          7568,
          7925,
          8179,
          8513,
          8907,
          9176,
          9634,
          10077,
          10409,
          10506,
          10760,
          10955,
          11128,
          11425,
          11781,
          11952,
          12225,
          12270,
          12248,
          12381,
          12455,
          12661,
          12805,
          12696,
          12711,
          12900,
          12975,
          13046,
          13261,
          13388,
          13365,
          13252,
          13274,
          13198,
          13197,
          13426,
          13785,
          13701,
          13805,
          13758,
          13957,
          14051,
          14290,
          14615,
          14769,
          14917,
          15200,
          15460,
          15798,
          16356,
          16854,
          17233,
          17548,
          17856,
          18172,
          18637,
          19271,
          19823,
          20318,
          20782,
          21411,
          21951,
          22461,
          23129,
          23698,
          24289,
          24492,
          24866,
          25182,
          25478,
          26072,
          26313,
          26353,
          26222,
          26335,
          26120,
          26039,
          26276,
          26514,
          26481,
          26330,
          26356,
          26318,
          26358,
          26737,
          26853,
          26731,
          26566,
          26564,
          26650,
          27134,
          27751,
          28258,
          28528,
          28882,
          29276,
          29742,
          30360,
          31257,
          31922,
          32243,
          32572,
          32857,
          33770,
          34622,
          35507
         ],
         "textposition": "auto",
         "type": "bar",
         "x": [
          "2020-01-22",
          "2020-01-23",
          "2020-01-24",
          "2020-01-25",
          "2020-01-26",
          "2020-01-27",
          "2020-01-28",
          "2020-01-29",
          "2020-01-30",
          "2020-01-31",
          "2020-02-01",
          "2020-02-02",
          "2020-02-03",
          "2020-02-04",
          "2020-02-05",
          "2020-02-06",
          "2020-02-07",
          "2020-02-08",
          "2020-02-09",
          "2020-02-10",
          "2020-02-11",
          "2020-02-12",
          "2020-02-13",
          "2020-02-14",
          "2020-02-15",
          "2020-02-16",
          "2020-02-17",
          "2020-02-18",
          "2020-02-19",
          "2020-02-20",
          "2020-02-21",
          "2020-02-22",
          "2020-02-23",
          "2020-02-24",
          "2020-02-25",
          "2020-02-26",
          "2020-02-27",
          "2020-02-28",
          "2020-02-29",
          "2020-03-01",
          "2020-03-02",
          "2020-03-03",
          "2020-03-04",
          "2020-03-05",
          "2020-03-06",
          "2020-03-07",
          "2020-03-08",
          "2020-03-09",
          "2020-03-10",
          "2020-03-11",
          "2020-03-12",
          "2020-03-13",
          "2020-03-14",
          "2020-03-15",
          "2020-03-16",
          "2020-03-17",
          "2020-03-18",
          "2020-03-19",
          "2020-03-20",
          "2020-03-21",
          "2020-03-22",
          "2020-03-23",
          "2020-03-24",
          "2020-03-25",
          "2020-03-26",
          "2020-03-27",
          "2020-03-28",
          "2020-03-29",
          "2020-03-30",
          "2020-03-31",
          "2020-04-01",
          "2020-04-02",
          "2020-04-03",
          "2020-04-04",
          "2020-04-05",
          "2020-04-06",
          "2020-04-07",
          "2020-04-08",
          "2020-04-09",
          "2020-04-10",
          "2020-04-11",
          "2020-04-12",
          "2020-04-13",
          "2020-04-14",
          "2020-04-15",
          "2020-04-16",
          "2020-04-17",
          "2020-04-18",
          "2020-04-19",
          "2020-04-20",
          "2020-04-21",
          "2020-04-22",
          "2020-04-23",
          "2020-04-24",
          "2020-04-25",
          "2020-04-26",
          "2020-04-27",
          "2020-04-28",
          "2020-04-29",
          "2020-04-30",
          "2020-05-01",
          "2020-05-02",
          "2020-05-03",
          "2020-05-04",
          "2020-05-05",
          "2020-05-06",
          "2020-05-07",
          "2020-05-08",
          "2020-05-09",
          "2020-05-10",
          "2020-05-11",
          "2020-05-12",
          "2020-05-13",
          "2020-05-14",
          "2020-05-15",
          "2020-05-16",
          "2020-05-17",
          "2020-05-18",
          "2020-05-19",
          "2020-05-20",
          "2020-05-21",
          "2020-05-22",
          "2020-05-23",
          "2020-05-24",
          "2020-05-25",
          "2020-05-26",
          "2020-05-27",
          "2020-05-28",
          "2020-05-29",
          "2020-05-30",
          "2020-05-31",
          "2020-06-01",
          "2020-06-02",
          "2020-06-03",
          "2020-06-04",
          "2020-06-05",
          "2020-06-06",
          "2020-06-07",
          "2020-06-08",
          "2020-06-09",
          "2020-06-10",
          "2020-06-11",
          "2020-06-12",
          "2020-06-13",
          "2020-06-14",
          "2020-06-15",
          "2020-06-16",
          "2020-06-17",
          "2020-06-18",
          "2020-06-19",
          "2020-06-20",
          "2020-06-21",
          "2020-06-22",
          "2020-06-23",
          "2020-06-24",
          "2020-06-25",
          "2020-06-26",
          "2020-06-27",
          "2020-06-28",
          "2020-06-29",
          "2020-06-30",
          "2020-07-01",
          "2020-07-02",
          "2020-07-03",
          "2020-07-04",
          "2020-07-05",
          "2020-07-06",
          "2020-07-07",
          "2020-07-08",
          "2020-07-09",
          "2020-07-10",
          "2020-07-11",
          "2020-07-12",
          "2020-07-13",
          "2020-07-14",
          "2020-07-15",
          "2020-07-16",
          "2020-07-17",
          "2020-07-18",
          "2020-07-19",
          "2020-07-20",
          "2020-07-21",
          "2020-07-22",
          "2020-07-23",
          "2020-07-24",
          "2020-07-25",
          "2020-07-26",
          "2020-07-27",
          "2020-07-28",
          "2020-07-29",
          "2020-07-30",
          "2020-07-31",
          "2020-08-01",
          "2020-08-02",
          "2020-08-03",
          "2020-08-04",
          "2020-08-05",
          "2020-08-06",
          "2020-08-07",
          "2020-08-08",
          "2020-08-09"
         ],
         "xaxis": "x",
         "y": [
          0,
          0,
          0,
          0,
          0,
          0,
          0,
          0,
          0,
          0,
          0,
          0,
          0,
          0,
          0,
          0,
          0,
          0,
          0,
          0,
          0,
          0,
          0,
          0,
          0,
          0,
          0,
          0,
          0,
          0,
          0,
          0,
          0,
          0,
          0,
          0,
          0,
          0,
          0,
          0,
          0,
          1,
          1,
          1,
          1,
          1,
          1,
          1,
          1,
          1,
          1,
          2,
          2,
          2,
          6,
          12,
          12,
          14,
          26,
          43,
          69,
          69,
          93,
          139,
          190,
          300,
          342,
          459,
          527,
          618,
          761,
          856,
          1023,
          1168,
          1243,
          1253,
          1389,
          1581,
          1790,
          2073,
          2359,
          2605,
          2912,
          3155,
          3513,
          3859,
          4291,
          4698,
          4961,
          5200,
          5597,
          5994,
          6479,
          6664,
          7142,
          7568,
          7925,
          8179,
          8513,
          8907,
          9176,
          9634,
          10077,
          10409,
          10506,
          10760,
          10955,
          11128,
          11425,
          11781,
          11952,
          12225,
          12270,
          12248,
          12381,
          12455,
          12661,
          12805,
          12696,
          12711,
          12900,
          12975,
          13046,
          13261,
          13388,
          13365,
          13252,
          13274,
          13198,
          13197,
          13426,
          13785,
          13701,
          13805,
          13758,
          13957,
          14051,
          14290,
          14615,
          14769,
          14917,
          15200,
          15460,
          15798,
          16356,
          16854,
          17233,
          17548,
          17856,
          18172,
          18637,
          19271,
          19823,
          20318,
          20782,
          21411,
          21951,
          22461,
          23129,
          23698,
          24289,
          24492,
          24866,
          25182,
          25478,
          26072,
          26313,
          26353,
          26222,
          26335,
          26120,
          26039,
          26276,
          26514,
          26481,
          26330,
          26356,
          26318,
          26358,
          26737,
          26853,
          26731,
          26566,
          26564,
          26650,
          27134,
          27751,
          28258,
          28528,
          28882,
          29276,
          29742,
          30360,
          31257,
          31922,
          32243,
          32572,
          32857,
          33770,
          34622,
          35507
         ],
         "yaxis": "y"
        },
        {
         "line": {
          "color": "green"
         },
         "mode": "lines",
         "name": "14-дневная скользящая средняя",
         "showlegend": true,
         "type": "scatter",
         "x": [
          "2020-01-22",
          "2020-01-23",
          "2020-01-24",
          "2020-01-25",
          "2020-01-26",
          "2020-01-27",
          "2020-01-28",
          "2020-01-29",
          "2020-01-30",
          "2020-01-31",
          "2020-02-01",
          "2020-02-02",
          "2020-02-03",
          "2020-02-04",
          "2020-02-05",
          "2020-02-06",
          "2020-02-07",
          "2020-02-08",
          "2020-02-09",
          "2020-02-10",
          "2020-02-11",
          "2020-02-12",
          "2020-02-13",
          "2020-02-14",
          "2020-02-15",
          "2020-02-16",
          "2020-02-17",
          "2020-02-18",
          "2020-02-19",
          "2020-02-20",
          "2020-02-21",
          "2020-02-22",
          "2020-02-23",
          "2020-02-24",
          "2020-02-25",
          "2020-02-26",
          "2020-02-27",
          "2020-02-28",
          "2020-02-29",
          "2020-03-01",
          "2020-03-02",
          "2020-03-03",
          "2020-03-04",
          "2020-03-05",
          "2020-03-06",
          "2020-03-07",
          "2020-03-08",
          "2020-03-09",
          "2020-03-10",
          "2020-03-11",
          "2020-03-12",
          "2020-03-13",
          "2020-03-14",
          "2020-03-15",
          "2020-03-16",
          "2020-03-17",
          "2020-03-18",
          "2020-03-19",
          "2020-03-20",
          "2020-03-21",
          "2020-03-22",
          "2020-03-23",
          "2020-03-24",
          "2020-03-25",
          "2020-03-26",
          "2020-03-27",
          "2020-03-28",
          "2020-03-29",
          "2020-03-30",
          "2020-03-31",
          "2020-04-01",
          "2020-04-02",
          "2020-04-03",
          "2020-04-04",
          "2020-04-05",
          "2020-04-06",
          "2020-04-07",
          "2020-04-08",
          "2020-04-09",
          "2020-04-10",
          "2020-04-11",
          "2020-04-12",
          "2020-04-13",
          "2020-04-14",
          "2020-04-15",
          "2020-04-16",
          "2020-04-17",
          "2020-04-18",
          "2020-04-19",
          "2020-04-20",
          "2020-04-21",
          "2020-04-22",
          "2020-04-23",
          "2020-04-24",
          "2020-04-25",
          "2020-04-26",
          "2020-04-27",
          "2020-04-28",
          "2020-04-29",
          "2020-04-30",
          "2020-05-01",
          "2020-05-02",
          "2020-05-03",
          "2020-05-04",
          "2020-05-05",
          "2020-05-06",
          "2020-05-07",
          "2020-05-08",
          "2020-05-09",
          "2020-05-10",
          "2020-05-11",
          "2020-05-12",
          "2020-05-13",
          "2020-05-14",
          "2020-05-15",
          "2020-05-16",
          "2020-05-17",
          "2020-05-18",
          "2020-05-19",
          "2020-05-20",
          "2020-05-21",
          "2020-05-22",
          "2020-05-23",
          "2020-05-24",
          "2020-05-25",
          "2020-05-26",
          "2020-05-27",
          "2020-05-28",
          "2020-05-29",
          "2020-05-30",
          "2020-05-31",
          "2020-06-01",
          "2020-06-02",
          "2020-06-03",
          "2020-06-04",
          "2020-06-05",
          "2020-06-06",
          "2020-06-07",
          "2020-06-08",
          "2020-06-09",
          "2020-06-10",
          "2020-06-11",
          "2020-06-12",
          "2020-06-13",
          "2020-06-14",
          "2020-06-15",
          "2020-06-16",
          "2020-06-17",
          "2020-06-18",
          "2020-06-19",
          "2020-06-20",
          "2020-06-21",
          "2020-06-22",
          "2020-06-23",
          "2020-06-24",
          "2020-06-25",
          "2020-06-26",
          "2020-06-27",
          "2020-06-28",
          "2020-06-29",
          "2020-06-30",
          "2020-07-01",
          "2020-07-02",
          "2020-07-03",
          "2020-07-04",
          "2020-07-05",
          "2020-07-06",
          "2020-07-07",
          "2020-07-08",
          "2020-07-09",
          "2020-07-10",
          "2020-07-11",
          "2020-07-12",
          "2020-07-13",
          "2020-07-14",
          "2020-07-15",
          "2020-07-16",
          "2020-07-17",
          "2020-07-18",
          "2020-07-19",
          "2020-07-20",
          "2020-07-21",
          "2020-07-22",
          "2020-07-23",
          "2020-07-24",
          "2020-07-25",
          "2020-07-26",
          "2020-07-27",
          "2020-07-28",
          "2020-07-29",
          "2020-07-30",
          "2020-07-31",
          "2020-08-01",
          "2020-08-02",
          "2020-08-03",
          "2020-08-04",
          "2020-08-05",
          "2020-08-06",
          "2020-08-07",
          "2020-08-08",
          "2020-08-09"
         ],
         "y": [
          null,
          null,
          null,
          null,
          null,
          null,
          null,
          null,
          null,
          null,
          null,
          null,
          null,
          0,
          0,
          0,
          0,
          0,
          0,
          0,
          0,
          0,
          0,
          0,
          0,
          0,
          0,
          0,
          0,
          0,
          0,
          0,
          0,
          0,
          0,
          0,
          0,
          0,
          0,
          0,
          0,
          0.07142857142857142,
          0.14285714285714285,
          0.21428571428571427,
          0.2857142857142857,
          0.35714285714285715,
          0.42857142857142855,
          0.5,
          0.5714285714285714,
          0.6428571428571429,
          0.7142857142857143,
          0.8571428571428571,
          1,
          1.1428571428571428,
          1.5714285714285714,
          2.357142857142857,
          3.142857142857143,
          4.071428571428571,
          5.857142857142857,
          8.857142857142858,
          13.714285714285714,
          18.571428571428573,
          25.142857142857142,
          35,
          48.5,
          69.78571428571429,
          94.07142857142857,
          126.71428571428571,
          163.92857142857142,
          207.21428571428572,
          260.7142857142857,
          320.85714285714283,
          392.07142857142856,
          472.42857142857144,
          556.2857142857143,
          640.8571428571429,
          733.4285714285714,
          836.4285714285714,
          950.7142857142857,
          1077.357142857143,
          1221.4285714285713,
          1374.7142857142858,
          1545.0714285714287,
          1726.2857142857142,
          1922.857142857143,
          2137.3571428571427,
          2370.785714285714,
          2622.9285714285716,
          2888.5,
          3170.4285714285716,
          3471,
          3786.214285714286,
          4121.142857142857,
          4449.071428571428,
          4790.714285714285,
          5145.214285714285,
          5503.285714285715,
          5862.142857142857,
          6219.285714285715,
          6579.857142857143,
          6928.785714285715,
          7281.357142857143,
          7646.785714285715,
          8018.857142857143,
          8369.5,
          8709.92857142857,
          9029.642857142857,
          9348.5,
          9654.42857142857,
          9955.357142857143,
          10243,
          10532,
          10800.357142857143,
          11039,
          11267.92857142857,
          11469.42857142857,
          11654,
          11825.142857142857,
          11981.57142857143,
          12120.92857142857,
          12259.857142857143,
          12391.785714285714,
          12507.57142857143,
          12613.285714285714,
          12715.857142857143,
          12797.285714285714,
          12867.42857142857,
          12940.714285714286,
          12999.07142857143,
          13052.07142857143,
          13106.714285714286,
          13176.714285714286,
          13248.5,
          13326.642857142857,
          13387.92857142857,
          13458.07142857143,
          13529.857142857143,
          13603.357142857143,
          13691,
          13791.285714285714,
          13910.214285714286,
          14047.785714285714,
          14209.357142857143,
          14395.142857142857,
          14604.42857142857,
          14823.642857142857,
          15075.92857142857,
          15343.285714285714,
          15636,
          15937.07142857143,
          16264.642857142857,
          16620.428571428572,
          16992.428571428572,
          17388.785714285714,
          17807.714285714286,
          18251.35714285714,
          18715,
          19190.928571428572,
          19674.714285714286,
          20163.571428571428,
          20667.571428571428,
          21163.571428571428,
          21664.285714285714,
          22165,
          22653.64285714286,
          23139.428571428572,
          23603,
          24034.071428571428,
          24422.64285714286,
          24774.35714285714,
          25072.14285714286,
          25327.714285714286,
          25552.5,
          25753.64285714286,
          25910.214285714286,
          26041.5,
          26147.928571428572,
          26229.071428571428,
          26291.928571428572,
          26339.428571428572,
          26378,
          26405,
          26429.571428571428,
          26445.928571428572,
          26483.785714285714,
          26562,
          26667.35714285714,
          26791.928571428572,
          26938.14285714286,
          27120.428571428572,
          27329,
          27573.571428571428,
          27859.428571428572,
          28182.285714285714,
          28544.35714285714,
          28938.071428571428,
          29367.071428571428,
          29816.571428571428,
          30325.14285714286,
          30860,
          31414
         ]
        },
        {
         "line": {
          "color": "red"
         },
         "mode": "lines",
         "name": "7-дневная скользящая средняя",
         "showlegend": true,
         "type": "scatter",
         "x": [
          "2020-01-22",
          "2020-01-23",
          "2020-01-24",
          "2020-01-25",
          "2020-01-26",
          "2020-01-27",
          "2020-01-28",
          "2020-01-29",
          "2020-01-30",
          "2020-01-31",
          "2020-02-01",
          "2020-02-02",
          "2020-02-03",
          "2020-02-04",
          "2020-02-05",
          "2020-02-06",
          "2020-02-07",
          "2020-02-08",
          "2020-02-09",
          "2020-02-10",
          "2020-02-11",
          "2020-02-12",
          "2020-02-13",
          "2020-02-14",
          "2020-02-15",
          "2020-02-16",
          "2020-02-17",
          "2020-02-18",
          "2020-02-19",
          "2020-02-20",
          "2020-02-21",
          "2020-02-22",
          "2020-02-23",
          "2020-02-24",
          "2020-02-25",
          "2020-02-26",
          "2020-02-27",
          "2020-02-28",
          "2020-02-29",
          "2020-03-01",
          "2020-03-02",
          "2020-03-03",
          "2020-03-04",
          "2020-03-05",
          "2020-03-06",
          "2020-03-07",
          "2020-03-08",
          "2020-03-09",
          "2020-03-10",
          "2020-03-11",
          "2020-03-12",
          "2020-03-13",
          "2020-03-14",
          "2020-03-15",
          "2020-03-16",
          "2020-03-17",
          "2020-03-18",
          "2020-03-19",
          "2020-03-20",
          "2020-03-21",
          "2020-03-22",
          "2020-03-23",
          "2020-03-24",
          "2020-03-25",
          "2020-03-26",
          "2020-03-27",
          "2020-03-28",
          "2020-03-29",
          "2020-03-30",
          "2020-03-31",
          "2020-04-01",
          "2020-04-02",
          "2020-04-03",
          "2020-04-04",
          "2020-04-05",
          "2020-04-06",
          "2020-04-07",
          "2020-04-08",
          "2020-04-09",
          "2020-04-10",
          "2020-04-11",
          "2020-04-12",
          "2020-04-13",
          "2020-04-14",
          "2020-04-15",
          "2020-04-16",
          "2020-04-17",
          "2020-04-18",
          "2020-04-19",
          "2020-04-20",
          "2020-04-21",
          "2020-04-22",
          "2020-04-23",
          "2020-04-24",
          "2020-04-25",
          "2020-04-26",
          "2020-04-27",
          "2020-04-28",
          "2020-04-29",
          "2020-04-30",
          "2020-05-01",
          "2020-05-02",
          "2020-05-03",
          "2020-05-04",
          "2020-05-05",
          "2020-05-06",
          "2020-05-07",
          "2020-05-08",
          "2020-05-09",
          "2020-05-10",
          "2020-05-11",
          "2020-05-12",
          "2020-05-13",
          "2020-05-14",
          "2020-05-15",
          "2020-05-16",
          "2020-05-17",
          "2020-05-18",
          "2020-05-19",
          "2020-05-20",
          "2020-05-21",
          "2020-05-22",
          "2020-05-23",
          "2020-05-24",
          "2020-05-25",
          "2020-05-26",
          "2020-05-27",
          "2020-05-28",
          "2020-05-29",
          "2020-05-30",
          "2020-05-31",
          "2020-06-01",
          "2020-06-02",
          "2020-06-03",
          "2020-06-04",
          "2020-06-05",
          "2020-06-06",
          "2020-06-07",
          "2020-06-08",
          "2020-06-09",
          "2020-06-10",
          "2020-06-11",
          "2020-06-12",
          "2020-06-13",
          "2020-06-14",
          "2020-06-15",
          "2020-06-16",
          "2020-06-17",
          "2020-06-18",
          "2020-06-19",
          "2020-06-20",
          "2020-06-21",
          "2020-06-22",
          "2020-06-23",
          "2020-06-24",
          "2020-06-25",
          "2020-06-26",
          "2020-06-27",
          "2020-06-28",
          "2020-06-29",
          "2020-06-30",
          "2020-07-01",
          "2020-07-02",
          "2020-07-03",
          "2020-07-04",
          "2020-07-05",
          "2020-07-06",
          "2020-07-07",
          "2020-07-08",
          "2020-07-09",
          "2020-07-10",
          "2020-07-11",
          "2020-07-12",
          "2020-07-13",
          "2020-07-14",
          "2020-07-15",
          "2020-07-16",
          "2020-07-17",
          "2020-07-18",
          "2020-07-19",
          "2020-07-20",
          "2020-07-21",
          "2020-07-22",
          "2020-07-23",
          "2020-07-24",
          "2020-07-25",
          "2020-07-26",
          "2020-07-27",
          "2020-07-28",
          "2020-07-29",
          "2020-07-30",
          "2020-07-31",
          "2020-08-01",
          "2020-08-02",
          "2020-08-03",
          "2020-08-04",
          "2020-08-05",
          "2020-08-06",
          "2020-08-07",
          "2020-08-08",
          "2020-08-09"
         ],
         "y": [
          null,
          null,
          null,
          null,
          null,
          null,
          0,
          0,
          0,
          0,
          0,
          0,
          0,
          0,
          0,
          0,
          0,
          0,
          0,
          0,
          0,
          0,
          0,
          0,
          0,
          0,
          0,
          0,
          0,
          0,
          0,
          0,
          0,
          0,
          0,
          0,
          0,
          0,
          0,
          0,
          0,
          0.14285714285714285,
          0.2857142857142857,
          0.42857142857142855,
          0.5714285714285714,
          0.7142857142857143,
          0.8571428571428571,
          1,
          1,
          1,
          1,
          1.1428571428571428,
          1.2857142857142858,
          1.4285714285714286,
          2.142857142857143,
          3.7142857142857144,
          5.285714285714286,
          7.142857142857143,
          10.571428571428571,
          16.428571428571427,
          26,
          35,
          46.57142857142857,
          64.71428571428571,
          89.85714285714286,
          129,
          171.71428571428572,
          227.42857142857142,
          292.85714285714283,
          367.85714285714283,
          456.7142857142857,
          551.8571428571429,
          655.1428571428571,
          773.1428571428571,
          885.1428571428571,
          988.8571428571429,
          1099,
          1216.142857142857,
          1349.5714285714287,
          1499.5714285714287,
          1669.7142857142858,
          1864.2857142857142,
          2101.285714285714,
          2353.5714285714284,
          2629.5714285714284,
          2925.1428571428573,
          3242,
          3576.1428571428573,
          3912.714285714286,
          4239.571428571428,
          4588.428571428572,
          4942.857142857143,
          5317.142857142857,
          5656.142857142857,
          6005.285714285715,
          6377.714285714285,
          6767,
          7135.857142857143,
          7495.714285714285,
          7842.571428571428,
          8201.42857142857,
          8557.42857142857,
          8915.857142857143,
          9270.714285714286,
          9603.142857142857,
          9924.142857142857,
          10216.714285714286,
          10495.57142857143,
          10751.42857142857,
          10994.857142857143,
          11215.285714285714,
          11460.857142857143,
          11676.57142857143,
          11861.285714285714,
          12040.285714285714,
          12187.42857142857,
          12313.142857142857,
          12435,
          12502.285714285714,
          12565.285714285714,
          12658.42857142857,
          12743.285714285714,
          12827.714285714286,
          12913.42857142857,
          12996.714285714286,
          13092.285714285714,
          13169.57142857143,
          13223,
          13254.857142857143,
          13276.42857142857,
          13300,
          13356.714285714286,
          13404.714285714286,
          13483.714285714286,
          13552.857142857143,
          13661.285714285714,
          13783.285714285714,
          13906.714285714286,
          14025.285714285714,
          14177.857142857143,
          14336.714285714286,
          14542.714285714286,
          14757.42857142857,
          15007,
          15302.142857142857,
          15622,
          15974,
          16349.857142857143,
          16729.285714285714,
          17116.714285714286,
          17522.285714285714,
          17938.714285714286,
          18362.85714285714,
          18803.571428571428,
          19265.571428571428,
          19773.428571428572,
          20313.285714285714,
          20859.571428571428,
          21410.714285714286,
          21964.285714285714,
          22531.571428571428,
          23061.571428571428,
          23555.14285714286,
          24016.714285714286,
          24447.714285714286,
          24868.14285714286,
          25241.714285714286,
          25536.571428571428,
          25783.714285714286,
          25993.571428571428,
          26127.571428571428,
          26207.714285714286,
          26236.85714285714,
          26265.571428571428,
          26283.85714285714,
          26299.285714285714,
          26302.285714285714,
          26330.571428571428,
          26376.14285714286,
          26442,
          26490.428571428572,
          26526.14285714286,
          26559.85714285714,
          26589.571428571428,
          26637,
          26747.85714285714,
          26892.714285714286,
          27093.428571428572,
          27350.14285714286,
          27681,
          28068.428571428572,
          28510.14285714286,
          28971,
          29471.85714285714,
          29995.285714285714,
          30526,
          31053.14285714286,
          31564.714285714286,
          32140.14285714286,
          32749,
          33356.142857142855
         ]
        }
       ],
       "layout": {
        "annotations": [
         {
          "showarrow": false,
          "text": "",
          "x": 0.5,
          "xref": "paper",
          "y": -0.15,
          "yref": "paper"
         }
        ],
        "barmode": "relative",
        "coloraxis": {
         "colorbar": {
          "title": {
           "text": "Текущие больные"
          }
         },
         "colorscale": [
          [
           0,
           "rgb(243, 224, 247)"
          ],
          [
           0.16666666666666666,
           "rgb(228, 199, 241)"
          ],
          [
           0.3333333333333333,
           "rgb(209, 175, 232)"
          ],
          [
           0.5,
           "rgb(185, 152, 221)"
          ],
          [
           0.6666666666666666,
           "rgb(159, 130, 206)"
          ],
          [
           0.8333333333333334,
           "rgb(130, 109, 186)"
          ],
          [
           1,
           "rgb(99, 88, 159)"
          ]
         ]
        },
        "height": 600,
        "legend": {
         "tracegroupgap": 0,
         "x": 0.15,
         "y": 0.98
        },
        "template": {
         "data": {
          "pie": [
           {
            "automargin": true,
            "type": "pie"
           }
          ]
         },
         "layout": {
          "xaxis": {
           "showgrid": true,
           "title": {
            "standoff": 15
           }
          },
          "yaxis": {
           "showgrid": true,
           "title": {
            "standoff": 15
           }
          }
         }
        },
        "title": {
         "text": "Украина: график количества текущих больных COVID-19 по датам",
         "x": 0.5,
         "xanchor": "center",
         "y": 0.9,
         "yanchor": "bottom"
        },
        "width": 990,
        "xaxis": {
         "anchor": "y",
         "domain": [
          0,
          1
         ],
         "title": {
          "text": "Текущие больные = количество выявленных - количество выздоровевших - количество умерших<br>Данные: Яндекс"
         }
        },
        "yaxis": {
         "anchor": "x",
         "domain": [
          0,
          1
         ],
         "title": {
          "text": " "
         }
        }
       }
      }
     },
     "metadata": {}
    }
   ],
   "source": [
    "mask = X.Country ==my_country\n",
    "#mask = (X.Date>'2020-05-01')&(X.Region.isin(regions_towatch))\n",
    "\n",
    "fig = px.bar(X[mask], x='Date', y=\"Remaining_ill\",color ='Remaining_ill',\n",
    "             title=f'{my_country}: '+'график количества текущих больных COVID-19 по датам',\n",
    "              color_continuous_scale= px.colors.sequential.Purp,text = 'Remaining_ill',\n",
    "            labels = {'Day_confirmed' : \"Новые заболевшие\",'Remaining_ill':'Текущие больные'})\n",
    "fig.add_trace(\n",
    "    go.Scatter(\n",
    "        name='14-дневная скользящая средняя',\n",
    "        x=X[mask].Date,\n",
    "        y=X[mask]['MA14_remaining_ill'],\n",
    "        mode=\"lines\",\n",
    "        \n",
    "        line=go.scatter.Line(color=\"green\"),\n",
    "        showlegend=True)\n",
    ")\n",
    "\n",
    "fig.add_trace(\n",
    "    go.Scatter(\n",
    "        name = '7-дневная скользящая средняя',\n",
    "        x=X[mask].Date,\n",
    "        y=X[mask]['MA7_remaining_ill'],\n",
    "        mode=\"lines\",\n",
    "        \n",
    "        line=go.scatter.Line(color=\"red\"),\n",
    "        showlegend=True)\n",
    ")\n",
    "fig.update_layout(\n",
    "    annotations=[\n",
    "#         dict(\n",
    "#             x='2020-04-13',\n",
    "#             y=10594,\n",
    "#             xref=\"x\",\n",
    "#             yref=\"y\",\n",
    "#             text=\"Введение<br>пропускной<br>системы в Москве\",\n",
    "#             showarrow=True,\n",
    "#             arrowhead=2,\n",
    "#             ax=0,\n",
    "#             ay=-60),\n",
    "#         dict(\n",
    "#             x='2020-06-09',\n",
    "#             y=85824,\n",
    "#             xref=\"x\",\n",
    "#             yref=\"y\",\n",
    "#             text=\"Отмена<br>пропускной<br>системы в Москве\",\n",
    "#             showarrow=True,\n",
    "#             arrowhead=2,\n",
    "#             ax=0,\n",
    "#             ay=-60),\n",
    "        \n",
    "        dict(x=0.5,y=-0.15,\n",
    "            showarrow=False,\n",
    "            text=\"\",\n",
    "            xref=\"paper\",\n",
    "            yref=\"paper\")],\n",
    "                  title_x = 0.5,\n",
    "                  title_y= 0.9,\n",
    "                  title_xanchor = \"center\",\n",
    "                  title_yanchor = \"bottom\", \n",
    "                  legend_x = 0.15,legend_y = 0.98,\n",
    "                  width = 990, height = 600,template = 'gridon',\n",
    "    \n",
    "    \n",
    "                  xaxis_title='Текущие больные = количество выявленных - количество выздоровевших - количество умерших'+\n",
    "                                '<br>Данные: Яндекс',\n",
    "    yaxis_title = ' '\n",
    ")\n",
    "\n",
    "\n",
    "fig.show()\n"
   ]
  },
  {
   "cell_type": "code",
   "execution_count": 16,
   "metadata": {},
   "outputs": [
    {
     "output_type": "display_data",
     "data": {
      "application/vnd.plotly.v1+json": {
       "config": {
        "plotlyServerURL": "https://plot.ly"
       },
       "data": [
        {
         "marker": {
          "color": [
           0,
           0,
           0,
           0,
           0,
           0,
           0,
           0,
           0,
           0,
           0,
           0,
           0,
           0,
           0,
           0,
           0,
           0,
           0,
           0,
           0,
           0,
           0,
           0,
           0,
           0,
           0,
           0,
           0,
           0,
           0,
           0,
           0,
           0,
           0,
           0,
           0,
           0,
           0,
           0,
           0,
           1,
           0,
           0,
           0,
           0,
           0,
           0,
           0,
           0,
           0,
           1,
           0,
           0,
           4,
           6,
           0,
           2,
           12,
           17,
           26,
           0,
           24,
           46,
           51,
           110,
           42,
           117,
           68,
           91,
           143,
           95,
           167,
           145,
           75,
           10,
           136,
           192,
           209,
           283,
           286,
           246,
           307,
           243,
           358,
           346,
           432,
           407,
           263,
           239,
           397,
           397,
           485,
           185,
           478,
           426,
           357,
           254,
           334,
           394,
           269,
           458,
           443,
           332,
           97,
           254,
           195,
           173,
           297,
           356,
           171,
           273,
           45,
           -22,
           133,
           74,
           206,
           144,
           -109,
           15,
           189,
           75,
           71,
           215,
           127,
           -23,
           -113,
           22,
           -76,
           -1,
           229,
           359,
           -84,
           104,
           -47,
           199,
           94,
           239,
           325,
           154,
           148,
           283,
           260,
           338,
           558,
           498,
           379,
           315,
           308,
           316,
           465,
           634,
           552,
           495,
           464,
           629,
           540,
           510,
           668,
           569,
           591,
           203,
           374,
           316,
           296,
           594,
           241,
           40,
           -131,
           113,
           -215,
           -81,
           237,
           238,
           -33,
           -151,
           26,
           -38,
           40,
           379,
           116,
           -122,
           -165,
           -2,
           86,
           484,
           617,
           507,
           270,
           354,
           394,
           466,
           618,
           897,
           665,
           321,
           329,
           285,
           913,
           852,
           885
          ],
          "colorbar": {
           "tickmode": "auto",
           "title": {
            "side": "top",
            "text": "Изменение"
           }
          },
          "colorscale": [
           [
            0,
            "rgb(0, 147, 146)"
           ],
           [
            0.16666666666666666,
            "rgb(57, 177, 133)"
           ],
           [
            0.3333333333333333,
            "rgb(156, 203, 134)"
           ],
           [
            0.5,
            "rgb(233, 226, 156)"
           ],
           [
            0.6666666666666666,
            "rgb(238, 180, 121)"
           ],
           [
            0.8333333333333334,
            "rgb(232, 132, 113)"
           ],
           [
            1,
            "rgb(207, 89, 126)"
           ]
          ]
         },
         "text": [
          0,
          0,
          0,
          0,
          0,
          0,
          0,
          0,
          0,
          0,
          0,
          0,
          0,
          0,
          0,
          0,
          0,
          0,
          0,
          0,
          0,
          0,
          0,
          0,
          0,
          0,
          0,
          0,
          0,
          0,
          0,
          0,
          0,
          0,
          0,
          0,
          0,
          0,
          0,
          0,
          0,
          1,
          0,
          0,
          0,
          0,
          0,
          0,
          0,
          0,
          0,
          1,
          0,
          0,
          4,
          6,
          0,
          2,
          12,
          17,
          26,
          0,
          24,
          46,
          51,
          110,
          42,
          117,
          68,
          91,
          143,
          95,
          167,
          145,
          75,
          10,
          136,
          192,
          209,
          283,
          286,
          246,
          307,
          243,
          358,
          346,
          432,
          407,
          263,
          239,
          397,
          397,
          485,
          185,
          478,
          426,
          357,
          254,
          334,
          394,
          269,
          458,
          443,
          332,
          97,
          254,
          195,
          173,
          297,
          356,
          171,
          273,
          45,
          -22,
          133,
          74,
          206,
          144,
          -109,
          15,
          189,
          75,
          71,
          215,
          127,
          -23,
          -113,
          22,
          -76,
          -1,
          229,
          359,
          -84,
          104,
          -47,
          199,
          94,
          239,
          325,
          154,
          148,
          283,
          260,
          338,
          558,
          498,
          379,
          315,
          308,
          316,
          465,
          634,
          552,
          495,
          464,
          629,
          540,
          510,
          668,
          569,
          591,
          203,
          374,
          316,
          296,
          594,
          241,
          40,
          -131,
          113,
          -215,
          -81,
          237,
          238,
          -33,
          -151,
          26,
          -38,
          40,
          379,
          116,
          -122,
          -165,
          -2,
          86,
          484,
          617,
          507,
          270,
          354,
          394,
          466,
          618,
          897,
          665,
          321,
          329,
          285,
          913,
          852,
          885
         ],
         "textposition": "inside",
         "type": "bar",
         "x": [
          "2020-01-22T00:00:00",
          "2020-01-23T00:00:00",
          "2020-01-24T00:00:00",
          "2020-01-25T00:00:00",
          "2020-01-26T00:00:00",
          "2020-01-27T00:00:00",
          "2020-01-28T00:00:00",
          "2020-01-29T00:00:00",
          "2020-01-30T00:00:00",
          "2020-01-31T00:00:00",
          "2020-02-01T00:00:00",
          "2020-02-02T00:00:00",
          "2020-02-03T00:00:00",
          "2020-02-04T00:00:00",
          "2020-02-05T00:00:00",
          "2020-02-06T00:00:00",
          "2020-02-07T00:00:00",
          "2020-02-08T00:00:00",
          "2020-02-09T00:00:00",
          "2020-02-10T00:00:00",
          "2020-02-11T00:00:00",
          "2020-02-12T00:00:00",
          "2020-02-13T00:00:00",
          "2020-02-14T00:00:00",
          "2020-02-15T00:00:00",
          "2020-02-16T00:00:00",
          "2020-02-17T00:00:00",
          "2020-02-18T00:00:00",
          "2020-02-19T00:00:00",
          "2020-02-20T00:00:00",
          "2020-02-21T00:00:00",
          "2020-02-22T00:00:00",
          "2020-02-23T00:00:00",
          "2020-02-24T00:00:00",
          "2020-02-25T00:00:00",
          "2020-02-26T00:00:00",
          "2020-02-27T00:00:00",
          "2020-02-28T00:00:00",
          "2020-02-29T00:00:00",
          "2020-03-01T00:00:00",
          "2020-03-02T00:00:00",
          "2020-03-03T00:00:00",
          "2020-03-04T00:00:00",
          "2020-03-05T00:00:00",
          "2020-03-06T00:00:00",
          "2020-03-07T00:00:00",
          "2020-03-08T00:00:00",
          "2020-03-09T00:00:00",
          "2020-03-10T00:00:00",
          "2020-03-11T00:00:00",
          "2020-03-12T00:00:00",
          "2020-03-13T00:00:00",
          "2020-03-14T00:00:00",
          "2020-03-15T00:00:00",
          "2020-03-16T00:00:00",
          "2020-03-17T00:00:00",
          "2020-03-18T00:00:00",
          "2020-03-19T00:00:00",
          "2020-03-20T00:00:00",
          "2020-03-21T00:00:00",
          "2020-03-22T00:00:00",
          "2020-03-23T00:00:00",
          "2020-03-24T00:00:00",
          "2020-03-25T00:00:00",
          "2020-03-26T00:00:00",
          "2020-03-27T00:00:00",
          "2020-03-28T00:00:00",
          "2020-03-29T00:00:00",
          "2020-03-30T00:00:00",
          "2020-03-31T00:00:00",
          "2020-04-01T00:00:00",
          "2020-04-02T00:00:00",
          "2020-04-03T00:00:00",
          "2020-04-04T00:00:00",
          "2020-04-05T00:00:00",
          "2020-04-06T00:00:00",
          "2020-04-07T00:00:00",
          "2020-04-08T00:00:00",
          "2020-04-09T00:00:00",
          "2020-04-10T00:00:00",
          "2020-04-11T00:00:00",
          "2020-04-12T00:00:00",
          "2020-04-13T00:00:00",
          "2020-04-14T00:00:00",
          "2020-04-15T00:00:00",
          "2020-04-16T00:00:00",
          "2020-04-17T00:00:00",
          "2020-04-18T00:00:00",
          "2020-04-19T00:00:00",
          "2020-04-20T00:00:00",
          "2020-04-21T00:00:00",
          "2020-04-22T00:00:00",
          "2020-04-23T00:00:00",
          "2020-04-24T00:00:00",
          "2020-04-25T00:00:00",
          "2020-04-26T00:00:00",
          "2020-04-27T00:00:00",
          "2020-04-28T00:00:00",
          "2020-04-29T00:00:00",
          "2020-04-30T00:00:00",
          "2020-05-01T00:00:00",
          "2020-05-02T00:00:00",
          "2020-05-03T00:00:00",
          "2020-05-04T00:00:00",
          "2020-05-05T00:00:00",
          "2020-05-06T00:00:00",
          "2020-05-07T00:00:00",
          "2020-05-08T00:00:00",
          "2020-05-09T00:00:00",
          "2020-05-10T00:00:00",
          "2020-05-11T00:00:00",
          "2020-05-12T00:00:00",
          "2020-05-13T00:00:00",
          "2020-05-14T00:00:00",
          "2020-05-15T00:00:00",
          "2020-05-16T00:00:00",
          "2020-05-17T00:00:00",
          "2020-05-18T00:00:00",
          "2020-05-19T00:00:00",
          "2020-05-20T00:00:00",
          "2020-05-21T00:00:00",
          "2020-05-22T00:00:00",
          "2020-05-23T00:00:00",
          "2020-05-24T00:00:00",
          "2020-05-25T00:00:00",
          "2020-05-26T00:00:00",
          "2020-05-27T00:00:00",
          "2020-05-28T00:00:00",
          "2020-05-29T00:00:00",
          "2020-05-30T00:00:00",
          "2020-05-31T00:00:00",
          "2020-06-01T00:00:00",
          "2020-06-02T00:00:00",
          "2020-06-03T00:00:00",
          "2020-06-04T00:00:00",
          "2020-06-05T00:00:00",
          "2020-06-06T00:00:00",
          "2020-06-07T00:00:00",
          "2020-06-08T00:00:00",
          "2020-06-09T00:00:00",
          "2020-06-10T00:00:00",
          "2020-06-11T00:00:00",
          "2020-06-12T00:00:00",
          "2020-06-13T00:00:00",
          "2020-06-14T00:00:00",
          "2020-06-15T00:00:00",
          "2020-06-16T00:00:00",
          "2020-06-17T00:00:00",
          "2020-06-18T00:00:00",
          "2020-06-19T00:00:00",
          "2020-06-20T00:00:00",
          "2020-06-21T00:00:00",
          "2020-06-22T00:00:00",
          "2020-06-23T00:00:00",
          "2020-06-24T00:00:00",
          "2020-06-25T00:00:00",
          "2020-06-26T00:00:00",
          "2020-06-27T00:00:00",
          "2020-06-28T00:00:00",
          "2020-06-29T00:00:00",
          "2020-06-30T00:00:00",
          "2020-07-01T00:00:00",
          "2020-07-02T00:00:00",
          "2020-07-03T00:00:00",
          "2020-07-04T00:00:00",
          "2020-07-05T00:00:00",
          "2020-07-06T00:00:00",
          "2020-07-07T00:00:00",
          "2020-07-08T00:00:00",
          "2020-07-09T00:00:00",
          "2020-07-10T00:00:00",
          "2020-07-11T00:00:00",
          "2020-07-12T00:00:00",
          "2020-07-13T00:00:00",
          "2020-07-14T00:00:00",
          "2020-07-15T00:00:00",
          "2020-07-16T00:00:00",
          "2020-07-17T00:00:00",
          "2020-07-18T00:00:00",
          "2020-07-19T00:00:00",
          "2020-07-20T00:00:00",
          "2020-07-21T00:00:00",
          "2020-07-22T00:00:00",
          "2020-07-23T00:00:00",
          "2020-07-24T00:00:00",
          "2020-07-25T00:00:00",
          "2020-07-26T00:00:00",
          "2020-07-27T00:00:00",
          "2020-07-28T00:00:00",
          "2020-07-29T00:00:00",
          "2020-07-30T00:00:00",
          "2020-07-31T00:00:00",
          "2020-08-01T00:00:00",
          "2020-08-02T00:00:00",
          "2020-08-03T00:00:00",
          "2020-08-04T00:00:00",
          "2020-08-05T00:00:00",
          "2020-08-06T00:00:00",
          "2020-08-07T00:00:00",
          "2020-08-08T00:00:00",
          "2020-08-09T00:00:00"
         ],
         "y": [
          0,
          0,
          0,
          0,
          0,
          0,
          0,
          0,
          0,
          0,
          0,
          0,
          0,
          0,
          0,
          0,
          0,
          0,
          0,
          0,
          0,
          0,
          0,
          0,
          0,
          0,
          0,
          0,
          0,
          0,
          0,
          0,
          0,
          0,
          0,
          0,
          0,
          0,
          0,
          0,
          0,
          1,
          0,
          0,
          0,
          0,
          0,
          0,
          0,
          0,
          0,
          1,
          0,
          0,
          4,
          6,
          0,
          2,
          12,
          17,
          26,
          0,
          24,
          46,
          51,
          110,
          42,
          117,
          68,
          91,
          143,
          95,
          167,
          145,
          75,
          10,
          136,
          192,
          209,
          283,
          286,
          246,
          307,
          243,
          358,
          346,
          432,
          407,
          263,
          239,
          397,
          397,
          485,
          185,
          478,
          426,
          357,
          254,
          334,
          394,
          269,
          458,
          443,
          332,
          97,
          254,
          195,
          173,
          297,
          356,
          171,
          273,
          45,
          -22,
          133,
          74,
          206,
          144,
          -109,
          15,
          189,
          75,
          71,
          215,
          127,
          -23,
          -113,
          22,
          -76,
          -1,
          229,
          359,
          -84,
          104,
          -47,
          199,
          94,
          239,
          325,
          154,
          148,
          283,
          260,
          338,
          558,
          498,
          379,
          315,
          308,
          316,
          465,
          634,
          552,
          495,
          464,
          629,
          540,
          510,
          668,
          569,
          591,
          203,
          374,
          316,
          296,
          594,
          241,
          40,
          -131,
          113,
          -215,
          -81,
          237,
          238,
          -33,
          -151,
          26,
          -38,
          40,
          379,
          116,
          -122,
          -165,
          -2,
          86,
          484,
          617,
          507,
          270,
          354,
          394,
          466,
          618,
          897,
          665,
          321,
          329,
          285,
          913,
          852,
          885
         ]
        }
       ],
       "layout": {
        "annotations": [
         {
          "showarrow": false,
          "text": "",
          "x": 0.5,
          "xref": "paper",
          "y": -0.15,
          "yref": "paper"
         }
        ],
        "height": 600,
        "legend": {
         "x": 0.05,
         "y": 0.98
        },
        "template": {
         "data": {
          "pie": [
           {
            "automargin": true,
            "type": "pie"
           }
          ]
         },
         "layout": {
          "xaxis": {
           "showgrid": true,
           "title": {
            "standoff": 15
           }
          },
          "yaxis": {
           "showgrid": true,
           "title": {
            "standoff": 15
           }
          }
         }
        },
        "title": {
         "text": "Украина: динамика текущих больных COVID-19 по дням<br>(изменение относительно предыдущего дня)",
         "x": 0.5,
         "xanchor": "center",
         "y": 0.9,
         "yanchor": "bottom"
        },
        "width": 990,
        "xaxis": {
         "title": {
          "text": "Текущие больные = количество выявленных - количество выздоровевших - количество умерших<br>Данные : Яндекс"
         }
        },
        "yaxis": {
         "title": {
          "text": " "
         }
        }
       }
      }
     },
     "metadata": {}
    }
   ],
   "source": [
    "mask = X.Country ==my_country\n",
    "#mask = (X.Date>'2020-05-01')&(X.Region==my_region)\n",
    "Y = X[mask]\n",
    "\n",
    "#Y['base'] = Y['Change_dayconf']*Y['Change_dayconf'].apply(lambda d:0 if d>0 else 1)\n",
    "Y['Date']= pd.to_datetime(Y.Date)\n",
    "fig = go.Figure()\n",
    "fig.add_trace(\n",
    "              go.Bar(x = Y.Date,y=Y.Change_remill,text = Y['Change_remill'],textposition = 'inside',\n",
    "                \n",
    "                #marker_color=Y['Change_remill'].apply(lambda d:'crimson' if d>0 else 'green'),\n",
    "                marker_color = Y['Change_remill'],marker_colorscale = 'Temps',marker_colorbar ={'tickmode':'auto',\n",
    "                                    'title':{'text':'Изменение','side':'top'}})     \n",
    "                )\n",
    "fig.update_layout(\n",
    "    annotations=[\n",
    "#         dict(\n",
    "#             x='2020-04-13',\n",
    "#             y=10594,\n",
    "#             xref=\"x\",\n",
    "#             yref=\"y\",\n",
    "#             text=\"Введение<br>пропускной<br>системы в Москве\",\n",
    "#             showarrow=True,\n",
    "#             arrowhead=2,\n",
    "#             ax=0,\n",
    "#             ay=-60),\n",
    "#         dict(\n",
    "#             x='2020-06-09',\n",
    "#             y=-3877,\n",
    "#             xref=\"x\",\n",
    "#             yref=\"y\",\n",
    "#             text=\"Отмена<br>пропускной<br>системы в Москве\",\n",
    "#             showarrow=True,\n",
    "#             arrowhead=2,\n",
    "#             ax=-20,\n",
    "#             ay=40),\n",
    "#         dict(\n",
    "#             x='2020-05-20',\n",
    "#             y=-2816,\n",
    "#             xref=\"x\",\n",
    "#             yref=\"y\",\n",
    "#             text=\"20 мая\",\n",
    "#             showarrow=True,\n",
    "#             arrowhead=2,\n",
    "#             ax=-20,\n",
    "#             ay=40),\n",
    "        \n",
    "        dict(x=0.5,y=-0.15,\n",
    "            showarrow=False,\n",
    "            text=\"\",\n",
    "            xref=\"paper\",\n",
    "            yref=\"paper\")],\n",
    "                  title=f'{my_country}: динамика текущих больных COVID-19 по дням<br>(изменение относительно предыдущего дня)',\n",
    "                  title_x = 0.5,\n",
    "                  title_y= 0.9,\n",
    "                  title_xanchor = \"center\",\n",
    "                  title_yanchor = \"bottom\", \n",
    "                  legend_x = 0.05,legend_y = 0.98,\n",
    "                  width = 990, height = 600,template = 'gridon',\n",
    "    \n",
    "    \n",
    "                  xaxis_title='Текущие больные = количество выявленных - количество выздоровевших - количество умерших'+\n",
    "                               '<br>Данные : Яндекс',\n",
    "    yaxis_title = ' '\n",
    ")\n",
    "\n",
    "\n",
    "fig.show()\n"
   ]
  },
  {
   "cell_type": "code",
   "execution_count": 17,
   "metadata": {
    "tags": []
   },
   "outputs": [
    {
     "output_type": "stream",
     "name": "stdout",
     "text": "[[1.255 0.819 0.622 0.672 0.997 1.421 1.607 1.15  0.734 0.633 0.673 0.984\n  1.513 1.51  1.166]\n [1.322 1.255 1.08  0.969 0.942 1.036 1.196 1.162 1.156 1.016 0.991 1.074\n  1.031 1.128 1.144]\n [1.222 1.13  1.071 1.02  1.012 1.125 1.125 1.129 1.11  0.983 0.976 1.007\n  1.054 1.153 1.172]\n [0.979 0.981 0.969 0.952 0.946 0.949 0.968 0.982 0.988 0.978 0.965 0.961\n  0.958 0.977 0.986]\n [1.02  0.947 0.877 0.887 0.99  1.081 1.085 0.972 0.837 0.769 0.769 0.893\n  1.044 1.086 1.087]]\n"
    },
    {
     "output_type": "execute_result",
     "data": {
      "text/plain": "Date         Country  2020-07-26  2020-07-27  2020-07-28  2020-07-29  \\\n0           Бразилия       1.255       0.819       0.622       0.672   \n1     Великобритания       1.322       1.255       1.080       0.969   \n2              Индия       1.222       1.130       1.071       1.020   \n3             Россия       0.979       0.981       0.969       0.952   \n4                США       1.020       0.947       0.877       0.887   \n\nDate  2020-07-30  2020-07-31  2020-08-01  2020-08-02  2020-08-03  2020-08-04  \\\n0          0.997       1.421       1.607       1.150       0.734       0.633   \n1          0.942       1.036       1.196       1.162       1.156       1.016   \n2          1.012       1.125       1.125       1.129       1.110       0.983   \n3          0.946       0.949       0.968       0.982       0.988       0.978   \n4          0.990       1.081       1.085       0.972       0.837       0.769   \n\nDate  2020-08-05  2020-08-06  2020-08-07  2020-08-08  2020-08-09  \n0          0.673       0.984       1.513       1.510       1.166  \n1          0.991       1.074       1.031       1.128       1.144  \n2          0.976       1.007       1.054       1.153       1.172  \n3          0.965       0.961       0.958       0.977       0.986  \n4          0.769       0.893       1.044       1.086       1.087  ",
      "text/html": "<div>\n<style scoped>\n    .dataframe tbody tr th:only-of-type {\n        vertical-align: middle;\n    }\n\n    .dataframe tbody tr th {\n        vertical-align: top;\n    }\n\n    .dataframe thead th {\n        text-align: right;\n    }\n</style>\n<table border=\"1\" class=\"dataframe\">\n  <thead>\n    <tr style=\"text-align: right;\">\n      <th>Date</th>\n      <th>Country</th>\n      <th>2020-07-26</th>\n      <th>2020-07-27</th>\n      <th>2020-07-28</th>\n      <th>2020-07-29</th>\n      <th>2020-07-30</th>\n      <th>2020-07-31</th>\n      <th>2020-08-01</th>\n      <th>2020-08-02</th>\n      <th>2020-08-03</th>\n      <th>2020-08-04</th>\n      <th>2020-08-05</th>\n      <th>2020-08-06</th>\n      <th>2020-08-07</th>\n      <th>2020-08-08</th>\n      <th>2020-08-09</th>\n    </tr>\n  </thead>\n  <tbody>\n    <tr>\n      <th>0</th>\n      <td>Бразилия</td>\n      <td>1.255</td>\n      <td>0.819</td>\n      <td>0.622</td>\n      <td>0.672</td>\n      <td>0.997</td>\n      <td>1.421</td>\n      <td>1.607</td>\n      <td>1.150</td>\n      <td>0.734</td>\n      <td>0.633</td>\n      <td>0.673</td>\n      <td>0.984</td>\n      <td>1.513</td>\n      <td>1.510</td>\n      <td>1.166</td>\n    </tr>\n    <tr>\n      <th>1</th>\n      <td>Великобритания</td>\n      <td>1.322</td>\n      <td>1.255</td>\n      <td>1.080</td>\n      <td>0.969</td>\n      <td>0.942</td>\n      <td>1.036</td>\n      <td>1.196</td>\n      <td>1.162</td>\n      <td>1.156</td>\n      <td>1.016</td>\n      <td>0.991</td>\n      <td>1.074</td>\n      <td>1.031</td>\n      <td>1.128</td>\n      <td>1.144</td>\n    </tr>\n    <tr>\n      <th>2</th>\n      <td>Индия</td>\n      <td>1.222</td>\n      <td>1.130</td>\n      <td>1.071</td>\n      <td>1.020</td>\n      <td>1.012</td>\n      <td>1.125</td>\n      <td>1.125</td>\n      <td>1.129</td>\n      <td>1.110</td>\n      <td>0.983</td>\n      <td>0.976</td>\n      <td>1.007</td>\n      <td>1.054</td>\n      <td>1.153</td>\n      <td>1.172</td>\n    </tr>\n    <tr>\n      <th>3</th>\n      <td>Россия</td>\n      <td>0.979</td>\n      <td>0.981</td>\n      <td>0.969</td>\n      <td>0.952</td>\n      <td>0.946</td>\n      <td>0.949</td>\n      <td>0.968</td>\n      <td>0.982</td>\n      <td>0.988</td>\n      <td>0.978</td>\n      <td>0.965</td>\n      <td>0.961</td>\n      <td>0.958</td>\n      <td>0.977</td>\n      <td>0.986</td>\n    </tr>\n    <tr>\n      <th>4</th>\n      <td>США</td>\n      <td>1.020</td>\n      <td>0.947</td>\n      <td>0.877</td>\n      <td>0.887</td>\n      <td>0.990</td>\n      <td>1.081</td>\n      <td>1.085</td>\n      <td>0.972</td>\n      <td>0.837</td>\n      <td>0.769</td>\n      <td>0.769</td>\n      <td>0.893</td>\n      <td>1.044</td>\n      <td>1.086</td>\n      <td>1.087</td>\n    </tr>\n  </tbody>\n</table>\n</div>"
     },
     "metadata": {},
     "execution_count": 17
    }
   ],
   "source": [
    "mask = (X.Date>=datetime.date(2020,7,26))&(X.Country.isin(country_towatch))\n",
    "\n",
    "\n",
    "# #mask = (X.Date>='2020-06-04')\n",
    "\n",
    "Z = X[mask].groupby(['Country','Date']).Rt.sum().unstack().reset_index()\n",
    "Z.dropna(inplace=True)\n",
    "d = Z.drop('Country',axis = 1).values\n",
    "\n",
    "# my_map= {'Москва':'2.Москва','Московская обл.':'3.Московская обл.','Нижегородская обл.':'5.Нижегородская обл.',\n",
    "#                     'Россия':'1.Россия', 'Санкт-Петербург':'4.Санкт-Петербург'}\n",
    "# Z.Region = Z.Region.map(my_map)\n",
    "\n",
    "print(d)\n",
    "Z.head()"
   ]
  },
  {
   "cell_type": "code",
   "execution_count": 18,
   "metadata": {
    "tags": []
   },
   "outputs": [
    {
     "output_type": "stream",
     "name": "stdout",
     "text": "[datetime.date(2020, 7, 26), datetime.date(2020, 7, 27), datetime.date(2020, 7, 28), datetime.date(2020, 7, 29), datetime.date(2020, 7, 30), datetime.date(2020, 7, 31), datetime.date(2020, 8, 1), datetime.date(2020, 8, 2), datetime.date(2020, 8, 3), datetime.date(2020, 8, 4), datetime.date(2020, 8, 5), datetime.date(2020, 8, 6), datetime.date(2020, 8, 7), datetime.date(2020, 8, 8), datetime.date(2020, 8, 9)]\n['26.7.2020', '27.7.2020', '28.7.2020', '29.7.2020', '30.7.2020', '31.7.2020', '1.8.2020', '2.8.2020', '3.8.2020', '4.8.2020', '5.8.2020', '6.8.2020', '7.8.2020', '8.8.2020', '9.8.2020']\n"
    }
   ],
   "source": [
    "x1=list(Z.columns[1:])\n",
    "x2=[]\n",
    "for i in x1:\n",
    "    x2.append(str(i.day)+'.'+str(i.month)+\".\"+str(i.year))\n",
    "    \n",
    "y=list(Z.Country)\n",
    "print(list(x1))\n",
    "print(x2)"
   ]
  },
  {
   "cell_type": "code",
   "execution_count": 19,
   "metadata": {},
   "outputs": [
    {
     "output_type": "display_data",
     "data": {
      "application/vnd.plotly.v1+json": {
       "config": {
        "plotlyServerURL": "https://plot.ly"
       },
       "data": [
        {
         "colorscale": [
          [
           0,
           "rgb(0, 147, 146)"
          ],
          [
           0.16666666666666666,
           "rgb(57, 177, 133)"
          ],
          [
           0.3333333333333333,
           "rgb(156, 203, 134)"
          ],
          [
           0.5,
           "rgb(233, 226, 156)"
          ],
          [
           0.6666666666666666,
           "rgb(238, 180, 121)"
          ],
          [
           0.8333333333333334,
           "rgb(232, 132, 113)"
          ],
          [
           1,
           "rgb(207, 89, 126)"
          ]
         ],
         "reversescale": false,
         "showscale": false,
         "type": "heatmap",
         "x": [
          "26.7.2020",
          "27.7.2020",
          "28.7.2020",
          "29.7.2020",
          "30.7.2020",
          "31.7.2020",
          "1.8.2020",
          "2.8.2020",
          "3.8.2020",
          "4.8.2020",
          "5.8.2020",
          "6.8.2020",
          "7.8.2020",
          "8.8.2020",
          "9.8.2020"
         ],
         "y": [
          "Бразилия",
          "Великобритания",
          "Индия",
          "Россия",
          "США"
         ],
         "z": [
          [
           1.255,
           0.819,
           0.622,
           0.672,
           0.997,
           1.421,
           1.607,
           1.15,
           0.734,
           0.633,
           0.673,
           0.984,
           1.513,
           1.51,
           1.166
          ],
          [
           1.322,
           1.255,
           1.08,
           0.969,
           0.942,
           1.036,
           1.196,
           1.162,
           1.156,
           1.016,
           0.991,
           1.074,
           1.031,
           1.128,
           1.144
          ],
          [
           1.222,
           1.13,
           1.071,
           1.02,
           1.012,
           1.125,
           1.125,
           1.129,
           1.11,
           0.983,
           0.976,
           1.007,
           1.054,
           1.153,
           1.172
          ],
          [
           0.979,
           0.981,
           0.969,
           0.952,
           0.946,
           0.949,
           0.968,
           0.982,
           0.988,
           0.978,
           0.965,
           0.961,
           0.958,
           0.977,
           0.986
          ],
          [
           1.02,
           0.947,
           0.877,
           0.887,
           0.99,
           1.081,
           1.085,
           0.972,
           0.837,
           0.769,
           0.769,
           0.893,
           1.044,
           1.086,
           1.087
          ]
         ]
        }
       ],
       "layout": {
        "annotations": [
         {
          "font": {
           "color": "#FFFFFF"
          },
          "showarrow": false,
          "text": "1.255",
          "x": "26.7.2020",
          "xref": "x",
          "y": "Бразилия",
          "yref": "y"
         },
         {
          "font": {
           "color": "#FFFFFF"
          },
          "showarrow": false,
          "text": "0.819",
          "x": "27.7.2020",
          "xref": "x",
          "y": "Бразилия",
          "yref": "y"
         },
         {
          "font": {
           "color": "#FFFFFF"
          },
          "showarrow": false,
          "text": "0.622",
          "x": "28.7.2020",
          "xref": "x",
          "y": "Бразилия",
          "yref": "y"
         },
         {
          "font": {
           "color": "#FFFFFF"
          },
          "showarrow": false,
          "text": "0.672",
          "x": "29.7.2020",
          "xref": "x",
          "y": "Бразилия",
          "yref": "y"
         },
         {
          "font": {
           "color": "#FFFFFF"
          },
          "showarrow": false,
          "text": "0.997",
          "x": "30.7.2020",
          "xref": "x",
          "y": "Бразилия",
          "yref": "y"
         },
         {
          "font": {
           "color": "#FFFFFF"
          },
          "showarrow": false,
          "text": "1.421",
          "x": "31.7.2020",
          "xref": "x",
          "y": "Бразилия",
          "yref": "y"
         },
         {
          "font": {
           "color": "#FFFFFF"
          },
          "showarrow": false,
          "text": "1.607",
          "x": "1.8.2020",
          "xref": "x",
          "y": "Бразилия",
          "yref": "y"
         },
         {
          "font": {
           "color": "#FFFFFF"
          },
          "showarrow": false,
          "text": "1.15",
          "x": "2.8.2020",
          "xref": "x",
          "y": "Бразилия",
          "yref": "y"
         },
         {
          "font": {
           "color": "#FFFFFF"
          },
          "showarrow": false,
          "text": "0.734",
          "x": "3.8.2020",
          "xref": "x",
          "y": "Бразилия",
          "yref": "y"
         },
         {
          "font": {
           "color": "#FFFFFF"
          },
          "showarrow": false,
          "text": "0.633",
          "x": "4.8.2020",
          "xref": "x",
          "y": "Бразилия",
          "yref": "y"
         },
         {
          "font": {
           "color": "#FFFFFF"
          },
          "showarrow": false,
          "text": "0.673",
          "x": "5.8.2020",
          "xref": "x",
          "y": "Бразилия",
          "yref": "y"
         },
         {
          "font": {
           "color": "#FFFFFF"
          },
          "showarrow": false,
          "text": "0.984",
          "x": "6.8.2020",
          "xref": "x",
          "y": "Бразилия",
          "yref": "y"
         },
         {
          "font": {
           "color": "#FFFFFF"
          },
          "showarrow": false,
          "text": "1.513",
          "x": "7.8.2020",
          "xref": "x",
          "y": "Бразилия",
          "yref": "y"
         },
         {
          "font": {
           "color": "#FFFFFF"
          },
          "showarrow": false,
          "text": "1.51",
          "x": "8.8.2020",
          "xref": "x",
          "y": "Бразилия",
          "yref": "y"
         },
         {
          "font": {
           "color": "#FFFFFF"
          },
          "showarrow": false,
          "text": "1.166",
          "x": "9.8.2020",
          "xref": "x",
          "y": "Бразилия",
          "yref": "y"
         },
         {
          "font": {
           "color": "#FFFFFF"
          },
          "showarrow": false,
          "text": "1.322",
          "x": "26.7.2020",
          "xref": "x",
          "y": "Великобритания",
          "yref": "y"
         },
         {
          "font": {
           "color": "#FFFFFF"
          },
          "showarrow": false,
          "text": "1.255",
          "x": "27.7.2020",
          "xref": "x",
          "y": "Великобритания",
          "yref": "y"
         },
         {
          "font": {
           "color": "#FFFFFF"
          },
          "showarrow": false,
          "text": "1.08",
          "x": "28.7.2020",
          "xref": "x",
          "y": "Великобритания",
          "yref": "y"
         },
         {
          "font": {
           "color": "#FFFFFF"
          },
          "showarrow": false,
          "text": "0.969",
          "x": "29.7.2020",
          "xref": "x",
          "y": "Великобритания",
          "yref": "y"
         },
         {
          "font": {
           "color": "#FFFFFF"
          },
          "showarrow": false,
          "text": "0.942",
          "x": "30.7.2020",
          "xref": "x",
          "y": "Великобритания",
          "yref": "y"
         },
         {
          "font": {
           "color": "#FFFFFF"
          },
          "showarrow": false,
          "text": "1.036",
          "x": "31.7.2020",
          "xref": "x",
          "y": "Великобритания",
          "yref": "y"
         },
         {
          "font": {
           "color": "#FFFFFF"
          },
          "showarrow": false,
          "text": "1.196",
          "x": "1.8.2020",
          "xref": "x",
          "y": "Великобритания",
          "yref": "y"
         },
         {
          "font": {
           "color": "#FFFFFF"
          },
          "showarrow": false,
          "text": "1.162",
          "x": "2.8.2020",
          "xref": "x",
          "y": "Великобритания",
          "yref": "y"
         },
         {
          "font": {
           "color": "#FFFFFF"
          },
          "showarrow": false,
          "text": "1.156",
          "x": "3.8.2020",
          "xref": "x",
          "y": "Великобритания",
          "yref": "y"
         },
         {
          "font": {
           "color": "#FFFFFF"
          },
          "showarrow": false,
          "text": "1.016",
          "x": "4.8.2020",
          "xref": "x",
          "y": "Великобритания",
          "yref": "y"
         },
         {
          "font": {
           "color": "#FFFFFF"
          },
          "showarrow": false,
          "text": "0.991",
          "x": "5.8.2020",
          "xref": "x",
          "y": "Великобритания",
          "yref": "y"
         },
         {
          "font": {
           "color": "#FFFFFF"
          },
          "showarrow": false,
          "text": "1.074",
          "x": "6.8.2020",
          "xref": "x",
          "y": "Великобритания",
          "yref": "y"
         },
         {
          "font": {
           "color": "#FFFFFF"
          },
          "showarrow": false,
          "text": "1.031",
          "x": "7.8.2020",
          "xref": "x",
          "y": "Великобритания",
          "yref": "y"
         },
         {
          "font": {
           "color": "#FFFFFF"
          },
          "showarrow": false,
          "text": "1.128",
          "x": "8.8.2020",
          "xref": "x",
          "y": "Великобритания",
          "yref": "y"
         },
         {
          "font": {
           "color": "#FFFFFF"
          },
          "showarrow": false,
          "text": "1.144",
          "x": "9.8.2020",
          "xref": "x",
          "y": "Великобритания",
          "yref": "y"
         },
         {
          "font": {
           "color": "#FFFFFF"
          },
          "showarrow": false,
          "text": "1.222",
          "x": "26.7.2020",
          "xref": "x",
          "y": "Индия",
          "yref": "y"
         },
         {
          "font": {
           "color": "#FFFFFF"
          },
          "showarrow": false,
          "text": "1.13",
          "x": "27.7.2020",
          "xref": "x",
          "y": "Индия",
          "yref": "y"
         },
         {
          "font": {
           "color": "#FFFFFF"
          },
          "showarrow": false,
          "text": "1.071",
          "x": "28.7.2020",
          "xref": "x",
          "y": "Индия",
          "yref": "y"
         },
         {
          "font": {
           "color": "#FFFFFF"
          },
          "showarrow": false,
          "text": "1.02",
          "x": "29.7.2020",
          "xref": "x",
          "y": "Индия",
          "yref": "y"
         },
         {
          "font": {
           "color": "#FFFFFF"
          },
          "showarrow": false,
          "text": "1.012",
          "x": "30.7.2020",
          "xref": "x",
          "y": "Индия",
          "yref": "y"
         },
         {
          "font": {
           "color": "#FFFFFF"
          },
          "showarrow": false,
          "text": "1.125",
          "x": "31.7.2020",
          "xref": "x",
          "y": "Индия",
          "yref": "y"
         },
         {
          "font": {
           "color": "#FFFFFF"
          },
          "showarrow": false,
          "text": "1.125",
          "x": "1.8.2020",
          "xref": "x",
          "y": "Индия",
          "yref": "y"
         },
         {
          "font": {
           "color": "#FFFFFF"
          },
          "showarrow": false,
          "text": "1.129",
          "x": "2.8.2020",
          "xref": "x",
          "y": "Индия",
          "yref": "y"
         },
         {
          "font": {
           "color": "#FFFFFF"
          },
          "showarrow": false,
          "text": "1.11",
          "x": "3.8.2020",
          "xref": "x",
          "y": "Индия",
          "yref": "y"
         },
         {
          "font": {
           "color": "#FFFFFF"
          },
          "showarrow": false,
          "text": "0.983",
          "x": "4.8.2020",
          "xref": "x",
          "y": "Индия",
          "yref": "y"
         },
         {
          "font": {
           "color": "#FFFFFF"
          },
          "showarrow": false,
          "text": "0.976",
          "x": "5.8.2020",
          "xref": "x",
          "y": "Индия",
          "yref": "y"
         },
         {
          "font": {
           "color": "#FFFFFF"
          },
          "showarrow": false,
          "text": "1.007",
          "x": "6.8.2020",
          "xref": "x",
          "y": "Индия",
          "yref": "y"
         },
         {
          "font": {
           "color": "#FFFFFF"
          },
          "showarrow": false,
          "text": "1.054",
          "x": "7.8.2020",
          "xref": "x",
          "y": "Индия",
          "yref": "y"
         },
         {
          "font": {
           "color": "#FFFFFF"
          },
          "showarrow": false,
          "text": "1.153",
          "x": "8.8.2020",
          "xref": "x",
          "y": "Индия",
          "yref": "y"
         },
         {
          "font": {
           "color": "#FFFFFF"
          },
          "showarrow": false,
          "text": "1.172",
          "x": "9.8.2020",
          "xref": "x",
          "y": "Индия",
          "yref": "y"
         },
         {
          "font": {
           "color": "#FFFFFF"
          },
          "showarrow": false,
          "text": "0.979",
          "x": "26.7.2020",
          "xref": "x",
          "y": "Россия",
          "yref": "y"
         },
         {
          "font": {
           "color": "#FFFFFF"
          },
          "showarrow": false,
          "text": "0.981",
          "x": "27.7.2020",
          "xref": "x",
          "y": "Россия",
          "yref": "y"
         },
         {
          "font": {
           "color": "#FFFFFF"
          },
          "showarrow": false,
          "text": "0.969",
          "x": "28.7.2020",
          "xref": "x",
          "y": "Россия",
          "yref": "y"
         },
         {
          "font": {
           "color": "#FFFFFF"
          },
          "showarrow": false,
          "text": "0.952",
          "x": "29.7.2020",
          "xref": "x",
          "y": "Россия",
          "yref": "y"
         },
         {
          "font": {
           "color": "#FFFFFF"
          },
          "showarrow": false,
          "text": "0.946",
          "x": "30.7.2020",
          "xref": "x",
          "y": "Россия",
          "yref": "y"
         },
         {
          "font": {
           "color": "#FFFFFF"
          },
          "showarrow": false,
          "text": "0.949",
          "x": "31.7.2020",
          "xref": "x",
          "y": "Россия",
          "yref": "y"
         },
         {
          "font": {
           "color": "#FFFFFF"
          },
          "showarrow": false,
          "text": "0.968",
          "x": "1.8.2020",
          "xref": "x",
          "y": "Россия",
          "yref": "y"
         },
         {
          "font": {
           "color": "#FFFFFF"
          },
          "showarrow": false,
          "text": "0.982",
          "x": "2.8.2020",
          "xref": "x",
          "y": "Россия",
          "yref": "y"
         },
         {
          "font": {
           "color": "#FFFFFF"
          },
          "showarrow": false,
          "text": "0.988",
          "x": "3.8.2020",
          "xref": "x",
          "y": "Россия",
          "yref": "y"
         },
         {
          "font": {
           "color": "#FFFFFF"
          },
          "showarrow": false,
          "text": "0.978",
          "x": "4.8.2020",
          "xref": "x",
          "y": "Россия",
          "yref": "y"
         },
         {
          "font": {
           "color": "#FFFFFF"
          },
          "showarrow": false,
          "text": "0.965",
          "x": "5.8.2020",
          "xref": "x",
          "y": "Россия",
          "yref": "y"
         },
         {
          "font": {
           "color": "#FFFFFF"
          },
          "showarrow": false,
          "text": "0.961",
          "x": "6.8.2020",
          "xref": "x",
          "y": "Россия",
          "yref": "y"
         },
         {
          "font": {
           "color": "#FFFFFF"
          },
          "showarrow": false,
          "text": "0.958",
          "x": "7.8.2020",
          "xref": "x",
          "y": "Россия",
          "yref": "y"
         },
         {
          "font": {
           "color": "#FFFFFF"
          },
          "showarrow": false,
          "text": "0.977",
          "x": "8.8.2020",
          "xref": "x",
          "y": "Россия",
          "yref": "y"
         },
         {
          "font": {
           "color": "#FFFFFF"
          },
          "showarrow": false,
          "text": "0.986",
          "x": "9.8.2020",
          "xref": "x",
          "y": "Россия",
          "yref": "y"
         },
         {
          "font": {
           "color": "#FFFFFF"
          },
          "showarrow": false,
          "text": "1.02",
          "x": "26.7.2020",
          "xref": "x",
          "y": "США",
          "yref": "y"
         },
         {
          "font": {
           "color": "#FFFFFF"
          },
          "showarrow": false,
          "text": "0.947",
          "x": "27.7.2020",
          "xref": "x",
          "y": "США",
          "yref": "y"
         },
         {
          "font": {
           "color": "#FFFFFF"
          },
          "showarrow": false,
          "text": "0.877",
          "x": "28.7.2020",
          "xref": "x",
          "y": "США",
          "yref": "y"
         },
         {
          "font": {
           "color": "#FFFFFF"
          },
          "showarrow": false,
          "text": "0.887",
          "x": "29.7.2020",
          "xref": "x",
          "y": "США",
          "yref": "y"
         },
         {
          "font": {
           "color": "#FFFFFF"
          },
          "showarrow": false,
          "text": "0.99",
          "x": "30.7.2020",
          "xref": "x",
          "y": "США",
          "yref": "y"
         },
         {
          "font": {
           "color": "#FFFFFF"
          },
          "showarrow": false,
          "text": "1.081",
          "x": "31.7.2020",
          "xref": "x",
          "y": "США",
          "yref": "y"
         },
         {
          "font": {
           "color": "#FFFFFF"
          },
          "showarrow": false,
          "text": "1.085",
          "x": "1.8.2020",
          "xref": "x",
          "y": "США",
          "yref": "y"
         },
         {
          "font": {
           "color": "#FFFFFF"
          },
          "showarrow": false,
          "text": "0.972",
          "x": "2.8.2020",
          "xref": "x",
          "y": "США",
          "yref": "y"
         },
         {
          "font": {
           "color": "#FFFFFF"
          },
          "showarrow": false,
          "text": "0.837",
          "x": "3.8.2020",
          "xref": "x",
          "y": "США",
          "yref": "y"
         },
         {
          "font": {
           "color": "#FFFFFF"
          },
          "showarrow": false,
          "text": "0.769",
          "x": "4.8.2020",
          "xref": "x",
          "y": "США",
          "yref": "y"
         },
         {
          "font": {
           "color": "#FFFFFF"
          },
          "showarrow": false,
          "text": "0.769",
          "x": "5.8.2020",
          "xref": "x",
          "y": "США",
          "yref": "y"
         },
         {
          "font": {
           "color": "#FFFFFF"
          },
          "showarrow": false,
          "text": "0.893",
          "x": "6.8.2020",
          "xref": "x",
          "y": "США",
          "yref": "y"
         },
         {
          "font": {
           "color": "#FFFFFF"
          },
          "showarrow": false,
          "text": "1.044",
          "x": "7.8.2020",
          "xref": "x",
          "y": "США",
          "yref": "y"
         },
         {
          "font": {
           "color": "#FFFFFF"
          },
          "showarrow": false,
          "text": "1.086",
          "x": "8.8.2020",
          "xref": "x",
          "y": "США",
          "yref": "y"
         },
         {
          "font": {
           "color": "#FFFFFF"
          },
          "showarrow": false,
          "text": "1.087",
          "x": "9.8.2020",
          "xref": "x",
          "y": "США",
          "yref": "y"
         }
        ],
        "height": 600,
        "template": {
         "data": {
          "bar": [
           {
            "error_x": {
             "color": "#2a3f5f"
            },
            "error_y": {
             "color": "#2a3f5f"
            },
            "marker": {
             "line": {
              "color": "#E5ECF6",
              "width": 0.5
             }
            },
            "type": "bar"
           }
          ],
          "barpolar": [
           {
            "marker": {
             "line": {
              "color": "#E5ECF6",
              "width": 0.5
             }
            },
            "type": "barpolar"
           }
          ],
          "carpet": [
           {
            "aaxis": {
             "endlinecolor": "#2a3f5f",
             "gridcolor": "white",
             "linecolor": "white",
             "minorgridcolor": "white",
             "startlinecolor": "#2a3f5f"
            },
            "baxis": {
             "endlinecolor": "#2a3f5f",
             "gridcolor": "white",
             "linecolor": "white",
             "minorgridcolor": "white",
             "startlinecolor": "#2a3f5f"
            },
            "type": "carpet"
           }
          ],
          "choropleth": [
           {
            "colorbar": {
             "outlinewidth": 0,
             "ticks": ""
            },
            "type": "choropleth"
           }
          ],
          "contour": [
           {
            "colorbar": {
             "outlinewidth": 0,
             "ticks": ""
            },
            "colorscale": [
             [
              0,
              "#0d0887"
             ],
             [
              0.1111111111111111,
              "#46039f"
             ],
             [
              0.2222222222222222,
              "#7201a8"
             ],
             [
              0.3333333333333333,
              "#9c179e"
             ],
             [
              0.4444444444444444,
              "#bd3786"
             ],
             [
              0.5555555555555556,
              "#d8576b"
             ],
             [
              0.6666666666666666,
              "#ed7953"
             ],
             [
              0.7777777777777778,
              "#fb9f3a"
             ],
             [
              0.8888888888888888,
              "#fdca26"
             ],
             [
              1,
              "#f0f921"
             ]
            ],
            "type": "contour"
           }
          ],
          "contourcarpet": [
           {
            "colorbar": {
             "outlinewidth": 0,
             "ticks": ""
            },
            "type": "contourcarpet"
           }
          ],
          "heatmap": [
           {
            "colorbar": {
             "outlinewidth": 0,
             "ticks": ""
            },
            "colorscale": [
             [
              0,
              "#0d0887"
             ],
             [
              0.1111111111111111,
              "#46039f"
             ],
             [
              0.2222222222222222,
              "#7201a8"
             ],
             [
              0.3333333333333333,
              "#9c179e"
             ],
             [
              0.4444444444444444,
              "#bd3786"
             ],
             [
              0.5555555555555556,
              "#d8576b"
             ],
             [
              0.6666666666666666,
              "#ed7953"
             ],
             [
              0.7777777777777778,
              "#fb9f3a"
             ],
             [
              0.8888888888888888,
              "#fdca26"
             ],
             [
              1,
              "#f0f921"
             ]
            ],
            "type": "heatmap"
           }
          ],
          "heatmapgl": [
           {
            "colorbar": {
             "outlinewidth": 0,
             "ticks": ""
            },
            "colorscale": [
             [
              0,
              "#0d0887"
             ],
             [
              0.1111111111111111,
              "#46039f"
             ],
             [
              0.2222222222222222,
              "#7201a8"
             ],
             [
              0.3333333333333333,
              "#9c179e"
             ],
             [
              0.4444444444444444,
              "#bd3786"
             ],
             [
              0.5555555555555556,
              "#d8576b"
             ],
             [
              0.6666666666666666,
              "#ed7953"
             ],
             [
              0.7777777777777778,
              "#fb9f3a"
             ],
             [
              0.8888888888888888,
              "#fdca26"
             ],
             [
              1,
              "#f0f921"
             ]
            ],
            "type": "heatmapgl"
           }
          ],
          "histogram": [
           {
            "marker": {
             "colorbar": {
              "outlinewidth": 0,
              "ticks": ""
             }
            },
            "type": "histogram"
           }
          ],
          "histogram2d": [
           {
            "colorbar": {
             "outlinewidth": 0,
             "ticks": ""
            },
            "colorscale": [
             [
              0,
              "#0d0887"
             ],
             [
              0.1111111111111111,
              "#46039f"
             ],
             [
              0.2222222222222222,
              "#7201a8"
             ],
             [
              0.3333333333333333,
              "#9c179e"
             ],
             [
              0.4444444444444444,
              "#bd3786"
             ],
             [
              0.5555555555555556,
              "#d8576b"
             ],
             [
              0.6666666666666666,
              "#ed7953"
             ],
             [
              0.7777777777777778,
              "#fb9f3a"
             ],
             [
              0.8888888888888888,
              "#fdca26"
             ],
             [
              1,
              "#f0f921"
             ]
            ],
            "type": "histogram2d"
           }
          ],
          "histogram2dcontour": [
           {
            "colorbar": {
             "outlinewidth": 0,
             "ticks": ""
            },
            "colorscale": [
             [
              0,
              "#0d0887"
             ],
             [
              0.1111111111111111,
              "#46039f"
             ],
             [
              0.2222222222222222,
              "#7201a8"
             ],
             [
              0.3333333333333333,
              "#9c179e"
             ],
             [
              0.4444444444444444,
              "#bd3786"
             ],
             [
              0.5555555555555556,
              "#d8576b"
             ],
             [
              0.6666666666666666,
              "#ed7953"
             ],
             [
              0.7777777777777778,
              "#fb9f3a"
             ],
             [
              0.8888888888888888,
              "#fdca26"
             ],
             [
              1,
              "#f0f921"
             ]
            ],
            "type": "histogram2dcontour"
           }
          ],
          "mesh3d": [
           {
            "colorbar": {
             "outlinewidth": 0,
             "ticks": ""
            },
            "type": "mesh3d"
           }
          ],
          "parcoords": [
           {
            "line": {
             "colorbar": {
              "outlinewidth": 0,
              "ticks": ""
             }
            },
            "type": "parcoords"
           }
          ],
          "pie": [
           {
            "automargin": true,
            "type": "pie"
           }
          ],
          "scatter": [
           {
            "marker": {
             "colorbar": {
              "outlinewidth": 0,
              "ticks": ""
             }
            },
            "type": "scatter"
           }
          ],
          "scatter3d": [
           {
            "line": {
             "colorbar": {
              "outlinewidth": 0,
              "ticks": ""
             }
            },
            "marker": {
             "colorbar": {
              "outlinewidth": 0,
              "ticks": ""
             }
            },
            "type": "scatter3d"
           }
          ],
          "scattercarpet": [
           {
            "marker": {
             "colorbar": {
              "outlinewidth": 0,
              "ticks": ""
             }
            },
            "type": "scattercarpet"
           }
          ],
          "scattergeo": [
           {
            "marker": {
             "colorbar": {
              "outlinewidth": 0,
              "ticks": ""
             }
            },
            "type": "scattergeo"
           }
          ],
          "scattergl": [
           {
            "marker": {
             "colorbar": {
              "outlinewidth": 0,
              "ticks": ""
             }
            },
            "type": "scattergl"
           }
          ],
          "scattermapbox": [
           {
            "marker": {
             "colorbar": {
              "outlinewidth": 0,
              "ticks": ""
             }
            },
            "type": "scattermapbox"
           }
          ],
          "scatterpolar": [
           {
            "marker": {
             "colorbar": {
              "outlinewidth": 0,
              "ticks": ""
             }
            },
            "type": "scatterpolar"
           }
          ],
          "scatterpolargl": [
           {
            "marker": {
             "colorbar": {
              "outlinewidth": 0,
              "ticks": ""
             }
            },
            "type": "scatterpolargl"
           }
          ],
          "scatterternary": [
           {
            "marker": {
             "colorbar": {
              "outlinewidth": 0,
              "ticks": ""
             }
            },
            "type": "scatterternary"
           }
          ],
          "surface": [
           {
            "colorbar": {
             "outlinewidth": 0,
             "ticks": ""
            },
            "colorscale": [
             [
              0,
              "#0d0887"
             ],
             [
              0.1111111111111111,
              "#46039f"
             ],
             [
              0.2222222222222222,
              "#7201a8"
             ],
             [
              0.3333333333333333,
              "#9c179e"
             ],
             [
              0.4444444444444444,
              "#bd3786"
             ],
             [
              0.5555555555555556,
              "#d8576b"
             ],
             [
              0.6666666666666666,
              "#ed7953"
             ],
             [
              0.7777777777777778,
              "#fb9f3a"
             ],
             [
              0.8888888888888888,
              "#fdca26"
             ],
             [
              1,
              "#f0f921"
             ]
            ],
            "type": "surface"
           }
          ],
          "table": [
           {
            "cells": {
             "fill": {
              "color": "#EBF0F8"
             },
             "line": {
              "color": "white"
             }
            },
            "header": {
             "fill": {
              "color": "#C8D4E3"
             },
             "line": {
              "color": "white"
             }
            },
            "type": "table"
           }
          ]
         },
         "layout": {
          "annotationdefaults": {
           "arrowcolor": "#2a3f5f",
           "arrowhead": 0,
           "arrowwidth": 1
          },
          "coloraxis": {
           "colorbar": {
            "outlinewidth": 0,
            "ticks": ""
           }
          },
          "colorscale": {
           "diverging": [
            [
             0,
             "#8e0152"
            ],
            [
             0.1,
             "#c51b7d"
            ],
            [
             0.2,
             "#de77ae"
            ],
            [
             0.3,
             "#f1b6da"
            ],
            [
             0.4,
             "#fde0ef"
            ],
            [
             0.5,
             "#f7f7f7"
            ],
            [
             0.6,
             "#e6f5d0"
            ],
            [
             0.7,
             "#b8e186"
            ],
            [
             0.8,
             "#7fbc41"
            ],
            [
             0.9,
             "#4d9221"
            ],
            [
             1,
             "#276419"
            ]
           ],
           "sequential": [
            [
             0,
             "#0d0887"
            ],
            [
             0.1111111111111111,
             "#46039f"
            ],
            [
             0.2222222222222222,
             "#7201a8"
            ],
            [
             0.3333333333333333,
             "#9c179e"
            ],
            [
             0.4444444444444444,
             "#bd3786"
            ],
            [
             0.5555555555555556,
             "#d8576b"
            ],
            [
             0.6666666666666666,
             "#ed7953"
            ],
            [
             0.7777777777777778,
             "#fb9f3a"
            ],
            [
             0.8888888888888888,
             "#fdca26"
            ],
            [
             1,
             "#f0f921"
            ]
           ],
           "sequentialminus": [
            [
             0,
             "#0d0887"
            ],
            [
             0.1111111111111111,
             "#46039f"
            ],
            [
             0.2222222222222222,
             "#7201a8"
            ],
            [
             0.3333333333333333,
             "#9c179e"
            ],
            [
             0.4444444444444444,
             "#bd3786"
            ],
            [
             0.5555555555555556,
             "#d8576b"
            ],
            [
             0.6666666666666666,
             "#ed7953"
            ],
            [
             0.7777777777777778,
             "#fb9f3a"
            ],
            [
             0.8888888888888888,
             "#fdca26"
            ],
            [
             1,
             "#f0f921"
            ]
           ]
          },
          "colorway": [
           "#636efa",
           "#EF553B",
           "#00cc96",
           "#ab63fa",
           "#FFA15A",
           "#19d3f3",
           "#FF6692",
           "#B6E880",
           "#FF97FF",
           "#FECB52"
          ],
          "font": {
           "color": "#2a3f5f"
          },
          "geo": {
           "bgcolor": "white",
           "lakecolor": "white",
           "landcolor": "#E5ECF6",
           "showlakes": true,
           "showland": true,
           "subunitcolor": "white"
          },
          "hoverlabel": {
           "align": "left"
          },
          "hovermode": "closest",
          "mapbox": {
           "style": "light"
          },
          "paper_bgcolor": "white",
          "plot_bgcolor": "#E5ECF6",
          "polar": {
           "angularaxis": {
            "gridcolor": "white",
            "linecolor": "white",
            "ticks": ""
           },
           "bgcolor": "#E5ECF6",
           "radialaxis": {
            "gridcolor": "white",
            "linecolor": "white",
            "ticks": ""
           }
          },
          "scene": {
           "xaxis": {
            "backgroundcolor": "#E5ECF6",
            "gridcolor": "white",
            "gridwidth": 2,
            "linecolor": "white",
            "showbackground": true,
            "ticks": "",
            "zerolinecolor": "white"
           },
           "yaxis": {
            "backgroundcolor": "#E5ECF6",
            "gridcolor": "white",
            "gridwidth": 2,
            "linecolor": "white",
            "showbackground": true,
            "ticks": "",
            "zerolinecolor": "white"
           },
           "zaxis": {
            "backgroundcolor": "#E5ECF6",
            "gridcolor": "white",
            "gridwidth": 2,
            "linecolor": "white",
            "showbackground": true,
            "ticks": "",
            "zerolinecolor": "white"
           }
          },
          "shapedefaults": {
           "line": {
            "color": "#2a3f5f"
           }
          },
          "ternary": {
           "aaxis": {
            "gridcolor": "white",
            "linecolor": "white",
            "ticks": ""
           },
           "baxis": {
            "gridcolor": "white",
            "linecolor": "white",
            "ticks": ""
           },
           "bgcolor": "#E5ECF6",
           "caxis": {
            "gridcolor": "white",
            "linecolor": "white",
            "ticks": ""
           }
          },
          "title": {
           "x": 0.05
          },
          "xaxis": {
           "automargin": true,
           "gridcolor": "white",
           "linecolor": "white",
           "ticks": "",
           "title": {
            "standoff": 15
           },
           "zerolinecolor": "white",
           "zerolinewidth": 2
          },
          "yaxis": {
           "automargin": true,
           "gridcolor": "white",
           "linecolor": "white",
           "ticks": "",
           "title": {
            "standoff": 15
           },
           "zerolinecolor": "white",
           "zerolinewidth": 2
          }
         }
        },
        "width": 990,
        "xaxis": {
         "dtick": 1,
         "gridcolor": "rgb(0, 0, 0)",
         "side": "top",
         "ticks": "",
         "title": {
          "text": "Динамика коэффициента распространения Rt по странам"
         }
        },
        "yaxis": {
         "dtick": 1,
         "ticks": "",
         "ticksuffix": "  "
        }
       }
      }
     },
     "metadata": {}
    }
   ],
   "source": [
    "fig = ff.create_annotated_heatmap(d, x=x2, y=y, annotation_text=d,\n",
    "                                  colorscale='Temps')\n",
    "\n",
    "fig.update_layout(\n",
    "                  \n",
    "                  \n",
    "                  width = 990, height = 600,    \n",
    "    \n",
    "                  xaxis_title='Динамика коэффициента распространения Rt по странам',\n",
    "               #   yaxis_title = 'Регион '\n",
    ")\n",
    "\n",
    "fig.show()\n",
    "\n"
   ]
  },
  {
   "cell_type": "code",
   "execution_count": 20,
   "metadata": {
    "tags": []
   },
   "outputs": [
    {
     "output_type": "stream",
     "name": "stdout",
     "text": "[[1.098 1.092 1.08  1.07  1.068 1.074 1.081 1.083 1.076 1.067 1.058 1.057\n  1.063 1.068 1.07 ]\n [1.009 1.01  1.01  1.01  1.01  1.01  1.01  1.01  1.011 1.011 1.011 1.011\n  1.011 1.011 1.012]\n [1.157 1.157 1.153 1.149 1.144 1.143 1.142 1.142 1.141 1.136 1.13  1.126\n  1.124 1.125 1.126]\n [1.03  1.03  1.029 1.029 1.028 1.027 1.027 1.027 1.026 1.026 1.026 1.025\n  1.025 1.025 1.024]\n [1.07  1.068 1.065 1.062 1.061 1.061 1.061 1.06  1.057 1.052 1.048 1.046\n  1.046 1.047 1.047]]\n"
    },
    {
     "output_type": "execute_result",
     "data": {
      "text/plain": "Date         Country  2020-07-26  2020-07-27  2020-07-28  2020-07-29  \\\n0           Бразилия       1.098       1.092       1.080       1.070   \n1     Великобритания       1.009       1.010       1.010       1.010   \n2              Индия       1.157       1.157       1.153       1.149   \n3             Россия       1.030       1.030       1.029       1.029   \n4                США       1.070       1.068       1.065       1.062   \n\nDate  2020-07-30  2020-07-31  2020-08-01  2020-08-02  2020-08-03  2020-08-04  \\\n0          1.068       1.074       1.081       1.083       1.076       1.067   \n1          1.010       1.010       1.010       1.010       1.011       1.011   \n2          1.144       1.143       1.142       1.142       1.141       1.136   \n3          1.028       1.027       1.027       1.027       1.026       1.026   \n4          1.061       1.061       1.061       1.060       1.057       1.052   \n\nDate  2020-08-05  2020-08-06  2020-08-07  2020-08-08  2020-08-09  \n0          1.058       1.057       1.063       1.068       1.070  \n1          1.011       1.011       1.011       1.011       1.012  \n2          1.130       1.126       1.124       1.125       1.126  \n3          1.026       1.025       1.025       1.025       1.024  \n4          1.048       1.046       1.046       1.047       1.047  ",
      "text/html": "<div>\n<style scoped>\n    .dataframe tbody tr th:only-of-type {\n        vertical-align: middle;\n    }\n\n    .dataframe tbody tr th {\n        vertical-align: top;\n    }\n\n    .dataframe thead th {\n        text-align: right;\n    }\n</style>\n<table border=\"1\" class=\"dataframe\">\n  <thead>\n    <tr style=\"text-align: right;\">\n      <th>Date</th>\n      <th>Country</th>\n      <th>2020-07-26</th>\n      <th>2020-07-27</th>\n      <th>2020-07-28</th>\n      <th>2020-07-29</th>\n      <th>2020-07-30</th>\n      <th>2020-07-31</th>\n      <th>2020-08-01</th>\n      <th>2020-08-02</th>\n      <th>2020-08-03</th>\n      <th>2020-08-04</th>\n      <th>2020-08-05</th>\n      <th>2020-08-06</th>\n      <th>2020-08-07</th>\n      <th>2020-08-08</th>\n      <th>2020-08-09</th>\n    </tr>\n  </thead>\n  <tbody>\n    <tr>\n      <th>0</th>\n      <td>Бразилия</td>\n      <td>1.098</td>\n      <td>1.092</td>\n      <td>1.080</td>\n      <td>1.070</td>\n      <td>1.068</td>\n      <td>1.074</td>\n      <td>1.081</td>\n      <td>1.083</td>\n      <td>1.076</td>\n      <td>1.067</td>\n      <td>1.058</td>\n      <td>1.057</td>\n      <td>1.063</td>\n      <td>1.068</td>\n      <td>1.070</td>\n    </tr>\n    <tr>\n      <th>1</th>\n      <td>Великобритания</td>\n      <td>1.009</td>\n      <td>1.010</td>\n      <td>1.010</td>\n      <td>1.010</td>\n      <td>1.010</td>\n      <td>1.010</td>\n      <td>1.010</td>\n      <td>1.010</td>\n      <td>1.011</td>\n      <td>1.011</td>\n      <td>1.011</td>\n      <td>1.011</td>\n      <td>1.011</td>\n      <td>1.011</td>\n      <td>1.012</td>\n    </tr>\n    <tr>\n      <th>2</th>\n      <td>Индия</td>\n      <td>1.157</td>\n      <td>1.157</td>\n      <td>1.153</td>\n      <td>1.149</td>\n      <td>1.144</td>\n      <td>1.143</td>\n      <td>1.142</td>\n      <td>1.142</td>\n      <td>1.141</td>\n      <td>1.136</td>\n      <td>1.130</td>\n      <td>1.126</td>\n      <td>1.124</td>\n      <td>1.125</td>\n      <td>1.126</td>\n    </tr>\n    <tr>\n      <th>3</th>\n      <td>Россия</td>\n      <td>1.030</td>\n      <td>1.030</td>\n      <td>1.029</td>\n      <td>1.029</td>\n      <td>1.028</td>\n      <td>1.027</td>\n      <td>1.027</td>\n      <td>1.027</td>\n      <td>1.026</td>\n      <td>1.026</td>\n      <td>1.026</td>\n      <td>1.025</td>\n      <td>1.025</td>\n      <td>1.025</td>\n      <td>1.024</td>\n    </tr>\n    <tr>\n      <th>4</th>\n      <td>США</td>\n      <td>1.070</td>\n      <td>1.068</td>\n      <td>1.065</td>\n      <td>1.062</td>\n      <td>1.061</td>\n      <td>1.061</td>\n      <td>1.061</td>\n      <td>1.060</td>\n      <td>1.057</td>\n      <td>1.052</td>\n      <td>1.048</td>\n      <td>1.046</td>\n      <td>1.046</td>\n      <td>1.047</td>\n      <td>1.047</td>\n    </tr>\n  </tbody>\n</table>\n</div>"
     },
     "metadata": {},
     "execution_count": 20
    }
   ],
   "source": [
    "mask = (X.Date>=datetime.date(2020,7,26))&(X.Country.isin(country_towatch))\n",
    "\n",
    "\n",
    "# #mask = (X.Date>='2020-06-04')\n",
    "\n",
    "Z = X[mask].groupby(['Country','Date']).Rt2.sum().unstack().reset_index()\n",
    "Z.dropna(inplace=True)\n",
    "d = Z.drop('Country',axis = 1).values\n",
    "\n",
    "# my_map= {'Москва':'2.Москва','Московская обл.':'3.Московская обл.','Нижегородская обл.':'5.Нижегородская обл.',\n",
    "#                     'Россия':'1.Россия', 'Санкт-Петербург':'4.Санкт-Петербург'}\n",
    "# Z.Region = Z.Region.map(my_map)\n",
    "\n",
    "print(d)\n",
    "Z.head()"
   ]
  },
  {
   "cell_type": "code",
   "execution_count": 21,
   "metadata": {
    "tags": []
   },
   "outputs": [
    {
     "output_type": "stream",
     "name": "stdout",
     "text": "[datetime.date(2020, 7, 26), datetime.date(2020, 7, 27), datetime.date(2020, 7, 28), datetime.date(2020, 7, 29), datetime.date(2020, 7, 30), datetime.date(2020, 7, 31), datetime.date(2020, 8, 1), datetime.date(2020, 8, 2), datetime.date(2020, 8, 3), datetime.date(2020, 8, 4), datetime.date(2020, 8, 5), datetime.date(2020, 8, 6), datetime.date(2020, 8, 7), datetime.date(2020, 8, 8), datetime.date(2020, 8, 9)]\n['26.7.2020', '27.7.2020', '28.7.2020', '29.7.2020', '30.7.2020', '31.7.2020', '1.8.2020', '2.8.2020', '3.8.2020', '4.8.2020', '5.8.2020', '6.8.2020', '7.8.2020', '8.8.2020', '9.8.2020']\n"
    }
   ],
   "source": [
    "x1=list(Z.columns[1:])\n",
    "x2=[]\n",
    "for i in x1:\n",
    "    x2.append(str(i.day)+'.'+str(i.month)+\".\"+str(i.year))\n",
    "    \n",
    "y=list(Z.Country)\n",
    "print(list(x1))\n",
    "print(x2)"
   ]
  },
  {
   "cell_type": "code",
   "execution_count": 22,
   "metadata": {},
   "outputs": [
    {
     "output_type": "display_data",
     "data": {
      "application/vnd.plotly.v1+json": {
       "config": {
        "plotlyServerURL": "https://plot.ly"
       },
       "data": [
        {
         "colorscale": [
          [
           0,
           "rgb(0, 147, 146)"
          ],
          [
           0.16666666666666666,
           "rgb(57, 177, 133)"
          ],
          [
           0.3333333333333333,
           "rgb(156, 203, 134)"
          ],
          [
           0.5,
           "rgb(233, 226, 156)"
          ],
          [
           0.6666666666666666,
           "rgb(238, 180, 121)"
          ],
          [
           0.8333333333333334,
           "rgb(232, 132, 113)"
          ],
          [
           1,
           "rgb(207, 89, 126)"
          ]
         ],
         "reversescale": false,
         "showscale": false,
         "type": "heatmap",
         "x": [
          "26.7.2020",
          "27.7.2020",
          "28.7.2020",
          "29.7.2020",
          "30.7.2020",
          "31.7.2020",
          "1.8.2020",
          "2.8.2020",
          "3.8.2020",
          "4.8.2020",
          "5.8.2020",
          "6.8.2020",
          "7.8.2020",
          "8.8.2020",
          "9.8.2020"
         ],
         "y": [
          "Бразилия",
          "Великобритания",
          "Индия",
          "Россия",
          "США"
         ],
         "z": [
          [
           1.098,
           1.092,
           1.08,
           1.07,
           1.068,
           1.074,
           1.081,
           1.083,
           1.076,
           1.067,
           1.058,
           1.057,
           1.063,
           1.068,
           1.07
          ],
          [
           1.009,
           1.01,
           1.01,
           1.01,
           1.01,
           1.01,
           1.01,
           1.01,
           1.011,
           1.011,
           1.011,
           1.011,
           1.011,
           1.011,
           1.012
          ],
          [
           1.157,
           1.157,
           1.153,
           1.149,
           1.144,
           1.143,
           1.142,
           1.142,
           1.141,
           1.136,
           1.13,
           1.126,
           1.124,
           1.125,
           1.126
          ],
          [
           1.03,
           1.03,
           1.029,
           1.029,
           1.028,
           1.027,
           1.027,
           1.027,
           1.026,
           1.026,
           1.026,
           1.025,
           1.025,
           1.025,
           1.024
          ],
          [
           1.07,
           1.068,
           1.065,
           1.062,
           1.061,
           1.061,
           1.061,
           1.06,
           1.057,
           1.052,
           1.048,
           1.046,
           1.046,
           1.047,
           1.047
          ]
         ]
        }
       ],
       "layout": {
        "annotations": [
         {
          "font": {
           "color": "#FFFFFF"
          },
          "showarrow": false,
          "text": "1.098",
          "x": "26.7.2020",
          "xref": "x",
          "y": "Бразилия",
          "yref": "y"
         },
         {
          "font": {
           "color": "#FFFFFF"
          },
          "showarrow": false,
          "text": "1.092",
          "x": "27.7.2020",
          "xref": "x",
          "y": "Бразилия",
          "yref": "y"
         },
         {
          "font": {
           "color": "#FFFFFF"
          },
          "showarrow": false,
          "text": "1.08",
          "x": "28.7.2020",
          "xref": "x",
          "y": "Бразилия",
          "yref": "y"
         },
         {
          "font": {
           "color": "#FFFFFF"
          },
          "showarrow": false,
          "text": "1.07",
          "x": "29.7.2020",
          "xref": "x",
          "y": "Бразилия",
          "yref": "y"
         },
         {
          "font": {
           "color": "#FFFFFF"
          },
          "showarrow": false,
          "text": "1.068",
          "x": "30.7.2020",
          "xref": "x",
          "y": "Бразилия",
          "yref": "y"
         },
         {
          "font": {
           "color": "#FFFFFF"
          },
          "showarrow": false,
          "text": "1.074",
          "x": "31.7.2020",
          "xref": "x",
          "y": "Бразилия",
          "yref": "y"
         },
         {
          "font": {
           "color": "#FFFFFF"
          },
          "showarrow": false,
          "text": "1.081",
          "x": "1.8.2020",
          "xref": "x",
          "y": "Бразилия",
          "yref": "y"
         },
         {
          "font": {
           "color": "#FFFFFF"
          },
          "showarrow": false,
          "text": "1.083",
          "x": "2.8.2020",
          "xref": "x",
          "y": "Бразилия",
          "yref": "y"
         },
         {
          "font": {
           "color": "#FFFFFF"
          },
          "showarrow": false,
          "text": "1.076",
          "x": "3.8.2020",
          "xref": "x",
          "y": "Бразилия",
          "yref": "y"
         },
         {
          "font": {
           "color": "#FFFFFF"
          },
          "showarrow": false,
          "text": "1.067",
          "x": "4.8.2020",
          "xref": "x",
          "y": "Бразилия",
          "yref": "y"
         },
         {
          "font": {
           "color": "#FFFFFF"
          },
          "showarrow": false,
          "text": "1.058",
          "x": "5.8.2020",
          "xref": "x",
          "y": "Бразилия",
          "yref": "y"
         },
         {
          "font": {
           "color": "#FFFFFF"
          },
          "showarrow": false,
          "text": "1.057",
          "x": "6.8.2020",
          "xref": "x",
          "y": "Бразилия",
          "yref": "y"
         },
         {
          "font": {
           "color": "#FFFFFF"
          },
          "showarrow": false,
          "text": "1.063",
          "x": "7.8.2020",
          "xref": "x",
          "y": "Бразилия",
          "yref": "y"
         },
         {
          "font": {
           "color": "#FFFFFF"
          },
          "showarrow": false,
          "text": "1.068",
          "x": "8.8.2020",
          "xref": "x",
          "y": "Бразилия",
          "yref": "y"
         },
         {
          "font": {
           "color": "#FFFFFF"
          },
          "showarrow": false,
          "text": "1.07",
          "x": "9.8.2020",
          "xref": "x",
          "y": "Бразилия",
          "yref": "y"
         },
         {
          "font": {
           "color": "#FFFFFF"
          },
          "showarrow": false,
          "text": "1.009",
          "x": "26.7.2020",
          "xref": "x",
          "y": "Великобритания",
          "yref": "y"
         },
         {
          "font": {
           "color": "#FFFFFF"
          },
          "showarrow": false,
          "text": "1.01",
          "x": "27.7.2020",
          "xref": "x",
          "y": "Великобритания",
          "yref": "y"
         },
         {
          "font": {
           "color": "#FFFFFF"
          },
          "showarrow": false,
          "text": "1.01",
          "x": "28.7.2020",
          "xref": "x",
          "y": "Великобритания",
          "yref": "y"
         },
         {
          "font": {
           "color": "#FFFFFF"
          },
          "showarrow": false,
          "text": "1.01",
          "x": "29.7.2020",
          "xref": "x",
          "y": "Великобритания",
          "yref": "y"
         },
         {
          "font": {
           "color": "#FFFFFF"
          },
          "showarrow": false,
          "text": "1.01",
          "x": "30.7.2020",
          "xref": "x",
          "y": "Великобритания",
          "yref": "y"
         },
         {
          "font": {
           "color": "#FFFFFF"
          },
          "showarrow": false,
          "text": "1.01",
          "x": "31.7.2020",
          "xref": "x",
          "y": "Великобритания",
          "yref": "y"
         },
         {
          "font": {
           "color": "#FFFFFF"
          },
          "showarrow": false,
          "text": "1.01",
          "x": "1.8.2020",
          "xref": "x",
          "y": "Великобритания",
          "yref": "y"
         },
         {
          "font": {
           "color": "#FFFFFF"
          },
          "showarrow": false,
          "text": "1.01",
          "x": "2.8.2020",
          "xref": "x",
          "y": "Великобритания",
          "yref": "y"
         },
         {
          "font": {
           "color": "#FFFFFF"
          },
          "showarrow": false,
          "text": "1.011",
          "x": "3.8.2020",
          "xref": "x",
          "y": "Великобритания",
          "yref": "y"
         },
         {
          "font": {
           "color": "#FFFFFF"
          },
          "showarrow": false,
          "text": "1.011",
          "x": "4.8.2020",
          "xref": "x",
          "y": "Великобритания",
          "yref": "y"
         },
         {
          "font": {
           "color": "#FFFFFF"
          },
          "showarrow": false,
          "text": "1.011",
          "x": "5.8.2020",
          "xref": "x",
          "y": "Великобритания",
          "yref": "y"
         },
         {
          "font": {
           "color": "#FFFFFF"
          },
          "showarrow": false,
          "text": "1.011",
          "x": "6.8.2020",
          "xref": "x",
          "y": "Великобритания",
          "yref": "y"
         },
         {
          "font": {
           "color": "#FFFFFF"
          },
          "showarrow": false,
          "text": "1.011",
          "x": "7.8.2020",
          "xref": "x",
          "y": "Великобритания",
          "yref": "y"
         },
         {
          "font": {
           "color": "#FFFFFF"
          },
          "showarrow": false,
          "text": "1.011",
          "x": "8.8.2020",
          "xref": "x",
          "y": "Великобритания",
          "yref": "y"
         },
         {
          "font": {
           "color": "#FFFFFF"
          },
          "showarrow": false,
          "text": "1.012",
          "x": "9.8.2020",
          "xref": "x",
          "y": "Великобритания",
          "yref": "y"
         },
         {
          "font": {
           "color": "#FFFFFF"
          },
          "showarrow": false,
          "text": "1.157",
          "x": "26.7.2020",
          "xref": "x",
          "y": "Индия",
          "yref": "y"
         },
         {
          "font": {
           "color": "#FFFFFF"
          },
          "showarrow": false,
          "text": "1.157",
          "x": "27.7.2020",
          "xref": "x",
          "y": "Индия",
          "yref": "y"
         },
         {
          "font": {
           "color": "#FFFFFF"
          },
          "showarrow": false,
          "text": "1.153",
          "x": "28.7.2020",
          "xref": "x",
          "y": "Индия",
          "yref": "y"
         },
         {
          "font": {
           "color": "#FFFFFF"
          },
          "showarrow": false,
          "text": "1.149",
          "x": "29.7.2020",
          "xref": "x",
          "y": "Индия",
          "yref": "y"
         },
         {
          "font": {
           "color": "#FFFFFF"
          },
          "showarrow": false,
          "text": "1.144",
          "x": "30.7.2020",
          "xref": "x",
          "y": "Индия",
          "yref": "y"
         },
         {
          "font": {
           "color": "#FFFFFF"
          },
          "showarrow": false,
          "text": "1.143",
          "x": "31.7.2020",
          "xref": "x",
          "y": "Индия",
          "yref": "y"
         },
         {
          "font": {
           "color": "#FFFFFF"
          },
          "showarrow": false,
          "text": "1.142",
          "x": "1.8.2020",
          "xref": "x",
          "y": "Индия",
          "yref": "y"
         },
         {
          "font": {
           "color": "#FFFFFF"
          },
          "showarrow": false,
          "text": "1.142",
          "x": "2.8.2020",
          "xref": "x",
          "y": "Индия",
          "yref": "y"
         },
         {
          "font": {
           "color": "#FFFFFF"
          },
          "showarrow": false,
          "text": "1.141",
          "x": "3.8.2020",
          "xref": "x",
          "y": "Индия",
          "yref": "y"
         },
         {
          "font": {
           "color": "#FFFFFF"
          },
          "showarrow": false,
          "text": "1.136",
          "x": "4.8.2020",
          "xref": "x",
          "y": "Индия",
          "yref": "y"
         },
         {
          "font": {
           "color": "#FFFFFF"
          },
          "showarrow": false,
          "text": "1.13",
          "x": "5.8.2020",
          "xref": "x",
          "y": "Индия",
          "yref": "y"
         },
         {
          "font": {
           "color": "#FFFFFF"
          },
          "showarrow": false,
          "text": "1.126",
          "x": "6.8.2020",
          "xref": "x",
          "y": "Индия",
          "yref": "y"
         },
         {
          "font": {
           "color": "#FFFFFF"
          },
          "showarrow": false,
          "text": "1.124",
          "x": "7.8.2020",
          "xref": "x",
          "y": "Индия",
          "yref": "y"
         },
         {
          "font": {
           "color": "#FFFFFF"
          },
          "showarrow": false,
          "text": "1.125",
          "x": "8.8.2020",
          "xref": "x",
          "y": "Индия",
          "yref": "y"
         },
         {
          "font": {
           "color": "#FFFFFF"
          },
          "showarrow": false,
          "text": "1.126",
          "x": "9.8.2020",
          "xref": "x",
          "y": "Индия",
          "yref": "y"
         },
         {
          "font": {
           "color": "#FFFFFF"
          },
          "showarrow": false,
          "text": "1.03",
          "x": "26.7.2020",
          "xref": "x",
          "y": "Россия",
          "yref": "y"
         },
         {
          "font": {
           "color": "#FFFFFF"
          },
          "showarrow": false,
          "text": "1.03",
          "x": "27.7.2020",
          "xref": "x",
          "y": "Россия",
          "yref": "y"
         },
         {
          "font": {
           "color": "#FFFFFF"
          },
          "showarrow": false,
          "text": "1.029",
          "x": "28.7.2020",
          "xref": "x",
          "y": "Россия",
          "yref": "y"
         },
         {
          "font": {
           "color": "#FFFFFF"
          },
          "showarrow": false,
          "text": "1.029",
          "x": "29.7.2020",
          "xref": "x",
          "y": "Россия",
          "yref": "y"
         },
         {
          "font": {
           "color": "#FFFFFF"
          },
          "showarrow": false,
          "text": "1.028",
          "x": "30.7.2020",
          "xref": "x",
          "y": "Россия",
          "yref": "y"
         },
         {
          "font": {
           "color": "#FFFFFF"
          },
          "showarrow": false,
          "text": "1.027",
          "x": "31.7.2020",
          "xref": "x",
          "y": "Россия",
          "yref": "y"
         },
         {
          "font": {
           "color": "#FFFFFF"
          },
          "showarrow": false,
          "text": "1.027",
          "x": "1.8.2020",
          "xref": "x",
          "y": "Россия",
          "yref": "y"
         },
         {
          "font": {
           "color": "#FFFFFF"
          },
          "showarrow": false,
          "text": "1.027",
          "x": "2.8.2020",
          "xref": "x",
          "y": "Россия",
          "yref": "y"
         },
         {
          "font": {
           "color": "#FFFFFF"
          },
          "showarrow": false,
          "text": "1.026",
          "x": "3.8.2020",
          "xref": "x",
          "y": "Россия",
          "yref": "y"
         },
         {
          "font": {
           "color": "#FFFFFF"
          },
          "showarrow": false,
          "text": "1.026",
          "x": "4.8.2020",
          "xref": "x",
          "y": "Россия",
          "yref": "y"
         },
         {
          "font": {
           "color": "#FFFFFF"
          },
          "showarrow": false,
          "text": "1.026",
          "x": "5.8.2020",
          "xref": "x",
          "y": "Россия",
          "yref": "y"
         },
         {
          "font": {
           "color": "#FFFFFF"
          },
          "showarrow": false,
          "text": "1.025",
          "x": "6.8.2020",
          "xref": "x",
          "y": "Россия",
          "yref": "y"
         },
         {
          "font": {
           "color": "#FFFFFF"
          },
          "showarrow": false,
          "text": "1.025",
          "x": "7.8.2020",
          "xref": "x",
          "y": "Россия",
          "yref": "y"
         },
         {
          "font": {
           "color": "#FFFFFF"
          },
          "showarrow": false,
          "text": "1.025",
          "x": "8.8.2020",
          "xref": "x",
          "y": "Россия",
          "yref": "y"
         },
         {
          "font": {
           "color": "#FFFFFF"
          },
          "showarrow": false,
          "text": "1.024",
          "x": "9.8.2020",
          "xref": "x",
          "y": "Россия",
          "yref": "y"
         },
         {
          "font": {
           "color": "#FFFFFF"
          },
          "showarrow": false,
          "text": "1.07",
          "x": "26.7.2020",
          "xref": "x",
          "y": "США",
          "yref": "y"
         },
         {
          "font": {
           "color": "#FFFFFF"
          },
          "showarrow": false,
          "text": "1.068",
          "x": "27.7.2020",
          "xref": "x",
          "y": "США",
          "yref": "y"
         },
         {
          "font": {
           "color": "#FFFFFF"
          },
          "showarrow": false,
          "text": "1.065",
          "x": "28.7.2020",
          "xref": "x",
          "y": "США",
          "yref": "y"
         },
         {
          "font": {
           "color": "#FFFFFF"
          },
          "showarrow": false,
          "text": "1.062",
          "x": "29.7.2020",
          "xref": "x",
          "y": "США",
          "yref": "y"
         },
         {
          "font": {
           "color": "#FFFFFF"
          },
          "showarrow": false,
          "text": "1.061",
          "x": "30.7.2020",
          "xref": "x",
          "y": "США",
          "yref": "y"
         },
         {
          "font": {
           "color": "#FFFFFF"
          },
          "showarrow": false,
          "text": "1.061",
          "x": "31.7.2020",
          "xref": "x",
          "y": "США",
          "yref": "y"
         },
         {
          "font": {
           "color": "#FFFFFF"
          },
          "showarrow": false,
          "text": "1.061",
          "x": "1.8.2020",
          "xref": "x",
          "y": "США",
          "yref": "y"
         },
         {
          "font": {
           "color": "#FFFFFF"
          },
          "showarrow": false,
          "text": "1.06",
          "x": "2.8.2020",
          "xref": "x",
          "y": "США",
          "yref": "y"
         },
         {
          "font": {
           "color": "#FFFFFF"
          },
          "showarrow": false,
          "text": "1.057",
          "x": "3.8.2020",
          "xref": "x",
          "y": "США",
          "yref": "y"
         },
         {
          "font": {
           "color": "#FFFFFF"
          },
          "showarrow": false,
          "text": "1.052",
          "x": "4.8.2020",
          "xref": "x",
          "y": "США",
          "yref": "y"
         },
         {
          "font": {
           "color": "#FFFFFF"
          },
          "showarrow": false,
          "text": "1.048",
          "x": "5.8.2020",
          "xref": "x",
          "y": "США",
          "yref": "y"
         },
         {
          "font": {
           "color": "#FFFFFF"
          },
          "showarrow": false,
          "text": "1.046",
          "x": "6.8.2020",
          "xref": "x",
          "y": "США",
          "yref": "y"
         },
         {
          "font": {
           "color": "#FFFFFF"
          },
          "showarrow": false,
          "text": "1.046",
          "x": "7.8.2020",
          "xref": "x",
          "y": "США",
          "yref": "y"
         },
         {
          "font": {
           "color": "#FFFFFF"
          },
          "showarrow": false,
          "text": "1.047",
          "x": "8.8.2020",
          "xref": "x",
          "y": "США",
          "yref": "y"
         },
         {
          "font": {
           "color": "#FFFFFF"
          },
          "showarrow": false,
          "text": "1.047",
          "x": "9.8.2020",
          "xref": "x",
          "y": "США",
          "yref": "y"
         }
        ],
        "height": 600,
        "template": {
         "data": {
          "bar": [
           {
            "error_x": {
             "color": "#2a3f5f"
            },
            "error_y": {
             "color": "#2a3f5f"
            },
            "marker": {
             "line": {
              "color": "#E5ECF6",
              "width": 0.5
             }
            },
            "type": "bar"
           }
          ],
          "barpolar": [
           {
            "marker": {
             "line": {
              "color": "#E5ECF6",
              "width": 0.5
             }
            },
            "type": "barpolar"
           }
          ],
          "carpet": [
           {
            "aaxis": {
             "endlinecolor": "#2a3f5f",
             "gridcolor": "white",
             "linecolor": "white",
             "minorgridcolor": "white",
             "startlinecolor": "#2a3f5f"
            },
            "baxis": {
             "endlinecolor": "#2a3f5f",
             "gridcolor": "white",
             "linecolor": "white",
             "minorgridcolor": "white",
             "startlinecolor": "#2a3f5f"
            },
            "type": "carpet"
           }
          ],
          "choropleth": [
           {
            "colorbar": {
             "outlinewidth": 0,
             "ticks": ""
            },
            "type": "choropleth"
           }
          ],
          "contour": [
           {
            "colorbar": {
             "outlinewidth": 0,
             "ticks": ""
            },
            "colorscale": [
             [
              0,
              "#0d0887"
             ],
             [
              0.1111111111111111,
              "#46039f"
             ],
             [
              0.2222222222222222,
              "#7201a8"
             ],
             [
              0.3333333333333333,
              "#9c179e"
             ],
             [
              0.4444444444444444,
              "#bd3786"
             ],
             [
              0.5555555555555556,
              "#d8576b"
             ],
             [
              0.6666666666666666,
              "#ed7953"
             ],
             [
              0.7777777777777778,
              "#fb9f3a"
             ],
             [
              0.8888888888888888,
              "#fdca26"
             ],
             [
              1,
              "#f0f921"
             ]
            ],
            "type": "contour"
           }
          ],
          "contourcarpet": [
           {
            "colorbar": {
             "outlinewidth": 0,
             "ticks": ""
            },
            "type": "contourcarpet"
           }
          ],
          "heatmap": [
           {
            "colorbar": {
             "outlinewidth": 0,
             "ticks": ""
            },
            "colorscale": [
             [
              0,
              "#0d0887"
             ],
             [
              0.1111111111111111,
              "#46039f"
             ],
             [
              0.2222222222222222,
              "#7201a8"
             ],
             [
              0.3333333333333333,
              "#9c179e"
             ],
             [
              0.4444444444444444,
              "#bd3786"
             ],
             [
              0.5555555555555556,
              "#d8576b"
             ],
             [
              0.6666666666666666,
              "#ed7953"
             ],
             [
              0.7777777777777778,
              "#fb9f3a"
             ],
             [
              0.8888888888888888,
              "#fdca26"
             ],
             [
              1,
              "#f0f921"
             ]
            ],
            "type": "heatmap"
           }
          ],
          "heatmapgl": [
           {
            "colorbar": {
             "outlinewidth": 0,
             "ticks": ""
            },
            "colorscale": [
             [
              0,
              "#0d0887"
             ],
             [
              0.1111111111111111,
              "#46039f"
             ],
             [
              0.2222222222222222,
              "#7201a8"
             ],
             [
              0.3333333333333333,
              "#9c179e"
             ],
             [
              0.4444444444444444,
              "#bd3786"
             ],
             [
              0.5555555555555556,
              "#d8576b"
             ],
             [
              0.6666666666666666,
              "#ed7953"
             ],
             [
              0.7777777777777778,
              "#fb9f3a"
             ],
             [
              0.8888888888888888,
              "#fdca26"
             ],
             [
              1,
              "#f0f921"
             ]
            ],
            "type": "heatmapgl"
           }
          ],
          "histogram": [
           {
            "marker": {
             "colorbar": {
              "outlinewidth": 0,
              "ticks": ""
             }
            },
            "type": "histogram"
           }
          ],
          "histogram2d": [
           {
            "colorbar": {
             "outlinewidth": 0,
             "ticks": ""
            },
            "colorscale": [
             [
              0,
              "#0d0887"
             ],
             [
              0.1111111111111111,
              "#46039f"
             ],
             [
              0.2222222222222222,
              "#7201a8"
             ],
             [
              0.3333333333333333,
              "#9c179e"
             ],
             [
              0.4444444444444444,
              "#bd3786"
             ],
             [
              0.5555555555555556,
              "#d8576b"
             ],
             [
              0.6666666666666666,
              "#ed7953"
             ],
             [
              0.7777777777777778,
              "#fb9f3a"
             ],
             [
              0.8888888888888888,
              "#fdca26"
             ],
             [
              1,
              "#f0f921"
             ]
            ],
            "type": "histogram2d"
           }
          ],
          "histogram2dcontour": [
           {
            "colorbar": {
             "outlinewidth": 0,
             "ticks": ""
            },
            "colorscale": [
             [
              0,
              "#0d0887"
             ],
             [
              0.1111111111111111,
              "#46039f"
             ],
             [
              0.2222222222222222,
              "#7201a8"
             ],
             [
              0.3333333333333333,
              "#9c179e"
             ],
             [
              0.4444444444444444,
              "#bd3786"
             ],
             [
              0.5555555555555556,
              "#d8576b"
             ],
             [
              0.6666666666666666,
              "#ed7953"
             ],
             [
              0.7777777777777778,
              "#fb9f3a"
             ],
             [
              0.8888888888888888,
              "#fdca26"
             ],
             [
              1,
              "#f0f921"
             ]
            ],
            "type": "histogram2dcontour"
           }
          ],
          "mesh3d": [
           {
            "colorbar": {
             "outlinewidth": 0,
             "ticks": ""
            },
            "type": "mesh3d"
           }
          ],
          "parcoords": [
           {
            "line": {
             "colorbar": {
              "outlinewidth": 0,
              "ticks": ""
             }
            },
            "type": "parcoords"
           }
          ],
          "pie": [
           {
            "automargin": true,
            "type": "pie"
           }
          ],
          "scatter": [
           {
            "marker": {
             "colorbar": {
              "outlinewidth": 0,
              "ticks": ""
             }
            },
            "type": "scatter"
           }
          ],
          "scatter3d": [
           {
            "line": {
             "colorbar": {
              "outlinewidth": 0,
              "ticks": ""
             }
            },
            "marker": {
             "colorbar": {
              "outlinewidth": 0,
              "ticks": ""
             }
            },
            "type": "scatter3d"
           }
          ],
          "scattercarpet": [
           {
            "marker": {
             "colorbar": {
              "outlinewidth": 0,
              "ticks": ""
             }
            },
            "type": "scattercarpet"
           }
          ],
          "scattergeo": [
           {
            "marker": {
             "colorbar": {
              "outlinewidth": 0,
              "ticks": ""
             }
            },
            "type": "scattergeo"
           }
          ],
          "scattergl": [
           {
            "marker": {
             "colorbar": {
              "outlinewidth": 0,
              "ticks": ""
             }
            },
            "type": "scattergl"
           }
          ],
          "scattermapbox": [
           {
            "marker": {
             "colorbar": {
              "outlinewidth": 0,
              "ticks": ""
             }
            },
            "type": "scattermapbox"
           }
          ],
          "scatterpolar": [
           {
            "marker": {
             "colorbar": {
              "outlinewidth": 0,
              "ticks": ""
             }
            },
            "type": "scatterpolar"
           }
          ],
          "scatterpolargl": [
           {
            "marker": {
             "colorbar": {
              "outlinewidth": 0,
              "ticks": ""
             }
            },
            "type": "scatterpolargl"
           }
          ],
          "scatterternary": [
           {
            "marker": {
             "colorbar": {
              "outlinewidth": 0,
              "ticks": ""
             }
            },
            "type": "scatterternary"
           }
          ],
          "surface": [
           {
            "colorbar": {
             "outlinewidth": 0,
             "ticks": ""
            },
            "colorscale": [
             [
              0,
              "#0d0887"
             ],
             [
              0.1111111111111111,
              "#46039f"
             ],
             [
              0.2222222222222222,
              "#7201a8"
             ],
             [
              0.3333333333333333,
              "#9c179e"
             ],
             [
              0.4444444444444444,
              "#bd3786"
             ],
             [
              0.5555555555555556,
              "#d8576b"
             ],
             [
              0.6666666666666666,
              "#ed7953"
             ],
             [
              0.7777777777777778,
              "#fb9f3a"
             ],
             [
              0.8888888888888888,
              "#fdca26"
             ],
             [
              1,
              "#f0f921"
             ]
            ],
            "type": "surface"
           }
          ],
          "table": [
           {
            "cells": {
             "fill": {
              "color": "#EBF0F8"
             },
             "line": {
              "color": "white"
             }
            },
            "header": {
             "fill": {
              "color": "#C8D4E3"
             },
             "line": {
              "color": "white"
             }
            },
            "type": "table"
           }
          ]
         },
         "layout": {
          "annotationdefaults": {
           "arrowcolor": "#2a3f5f",
           "arrowhead": 0,
           "arrowwidth": 1
          },
          "coloraxis": {
           "colorbar": {
            "outlinewidth": 0,
            "ticks": ""
           }
          },
          "colorscale": {
           "diverging": [
            [
             0,
             "#8e0152"
            ],
            [
             0.1,
             "#c51b7d"
            ],
            [
             0.2,
             "#de77ae"
            ],
            [
             0.3,
             "#f1b6da"
            ],
            [
             0.4,
             "#fde0ef"
            ],
            [
             0.5,
             "#f7f7f7"
            ],
            [
             0.6,
             "#e6f5d0"
            ],
            [
             0.7,
             "#b8e186"
            ],
            [
             0.8,
             "#7fbc41"
            ],
            [
             0.9,
             "#4d9221"
            ],
            [
             1,
             "#276419"
            ]
           ],
           "sequential": [
            [
             0,
             "#0d0887"
            ],
            [
             0.1111111111111111,
             "#46039f"
            ],
            [
             0.2222222222222222,
             "#7201a8"
            ],
            [
             0.3333333333333333,
             "#9c179e"
            ],
            [
             0.4444444444444444,
             "#bd3786"
            ],
            [
             0.5555555555555556,
             "#d8576b"
            ],
            [
             0.6666666666666666,
             "#ed7953"
            ],
            [
             0.7777777777777778,
             "#fb9f3a"
            ],
            [
             0.8888888888888888,
             "#fdca26"
            ],
            [
             1,
             "#f0f921"
            ]
           ],
           "sequentialminus": [
            [
             0,
             "#0d0887"
            ],
            [
             0.1111111111111111,
             "#46039f"
            ],
            [
             0.2222222222222222,
             "#7201a8"
            ],
            [
             0.3333333333333333,
             "#9c179e"
            ],
            [
             0.4444444444444444,
             "#bd3786"
            ],
            [
             0.5555555555555556,
             "#d8576b"
            ],
            [
             0.6666666666666666,
             "#ed7953"
            ],
            [
             0.7777777777777778,
             "#fb9f3a"
            ],
            [
             0.8888888888888888,
             "#fdca26"
            ],
            [
             1,
             "#f0f921"
            ]
           ]
          },
          "colorway": [
           "#636efa",
           "#EF553B",
           "#00cc96",
           "#ab63fa",
           "#FFA15A",
           "#19d3f3",
           "#FF6692",
           "#B6E880",
           "#FF97FF",
           "#FECB52"
          ],
          "font": {
           "color": "#2a3f5f"
          },
          "geo": {
           "bgcolor": "white",
           "lakecolor": "white",
           "landcolor": "#E5ECF6",
           "showlakes": true,
           "showland": true,
           "subunitcolor": "white"
          },
          "hoverlabel": {
           "align": "left"
          },
          "hovermode": "closest",
          "mapbox": {
           "style": "light"
          },
          "paper_bgcolor": "white",
          "plot_bgcolor": "#E5ECF6",
          "polar": {
           "angularaxis": {
            "gridcolor": "white",
            "linecolor": "white",
            "ticks": ""
           },
           "bgcolor": "#E5ECF6",
           "radialaxis": {
            "gridcolor": "white",
            "linecolor": "white",
            "ticks": ""
           }
          },
          "scene": {
           "xaxis": {
            "backgroundcolor": "#E5ECF6",
            "gridcolor": "white",
            "gridwidth": 2,
            "linecolor": "white",
            "showbackground": true,
            "ticks": "",
            "zerolinecolor": "white"
           },
           "yaxis": {
            "backgroundcolor": "#E5ECF6",
            "gridcolor": "white",
            "gridwidth": 2,
            "linecolor": "white",
            "showbackground": true,
            "ticks": "",
            "zerolinecolor": "white"
           },
           "zaxis": {
            "backgroundcolor": "#E5ECF6",
            "gridcolor": "white",
            "gridwidth": 2,
            "linecolor": "white",
            "showbackground": true,
            "ticks": "",
            "zerolinecolor": "white"
           }
          },
          "shapedefaults": {
           "line": {
            "color": "#2a3f5f"
           }
          },
          "ternary": {
           "aaxis": {
            "gridcolor": "white",
            "linecolor": "white",
            "ticks": ""
           },
           "baxis": {
            "gridcolor": "white",
            "linecolor": "white",
            "ticks": ""
           },
           "bgcolor": "#E5ECF6",
           "caxis": {
            "gridcolor": "white",
            "linecolor": "white",
            "ticks": ""
           }
          },
          "title": {
           "x": 0.05
          },
          "xaxis": {
           "automargin": true,
           "gridcolor": "white",
           "linecolor": "white",
           "ticks": "",
           "title": {
            "standoff": 15
           },
           "zerolinecolor": "white",
           "zerolinewidth": 2
          },
          "yaxis": {
           "automargin": true,
           "gridcolor": "white",
           "linecolor": "white",
           "ticks": "",
           "title": {
            "standoff": 15
           },
           "zerolinecolor": "white",
           "zerolinewidth": 2
          }
         }
        },
        "width": 990,
        "xaxis": {
         "dtick": 1,
         "gridcolor": "rgb(0, 0, 0)",
         "side": "top",
         "ticks": "",
         "title": {
          "text": "Динамика коэффициента распространения Rt2 по странам"
         }
        },
        "yaxis": {
         "dtick": 1,
         "ticks": "",
         "ticksuffix": "  "
        }
       }
      }
     },
     "metadata": {}
    }
   ],
   "source": [
    "fig = ff.create_annotated_heatmap(d, x=x2, y=y, annotation_text=d,\n",
    "                                  colorscale='Temps')\n",
    "\n",
    "fig.update_layout(\n",
    "                  \n",
    "                  \n",
    "                  width = 990, height = 600,    \n",
    "    \n",
    "                  xaxis_title='Динамика коэффициента распространения Rt2 по странам',\n",
    "               #   yaxis_title = 'Регион '\n",
    ")\n",
    "\n",
    "fig.show()\n"
   ]
  },
  {
   "cell_type": "code",
   "execution_count": 23,
   "metadata": {},
   "outputs": [
    {
     "output_type": "execute_result",
     "data": {
      "text/plain": "Date         Country  2020-07-26  2020-07-27  2020-07-28  2020-07-29  \\\n0           Бразилия       24578       23284       40816       69074   \n1     Великобритания         750         688         553         802   \n2              Индия       49981       44457       51596       50294   \n3             Россия        5741        5607        5380        5449   \n4                США       54953       56414       65869       70776   \n\nDate  2020-07-30  2020-07-31  2020-08-01  2020-08-02  2020-08-03  2020-08-04  \\\n0          57837       52383       45392       25800       16641       51603   \n1            847         883         769         747         942         675   \n2          52783       61242       54735       52972       52050       52509   \n3           5484        5468        5429        5387        5364        5121   \n4          68033       67092       58485       47580       45368       57540   \n\nDate  2020-08-05  2020-08-06  2020-08-07  2020-08-08  2020-08-09  \n0          57152       53139       50230       49970       23010  \n1            906         964         900         765        1113  \n2          56282       62538       61537       64399       62064  \n3           5186        5239        5191        5185        5155  \n4          52810       59692       58173       56174       46935  ",
      "text/html": "<div>\n<style scoped>\n    .dataframe tbody tr th:only-of-type {\n        vertical-align: middle;\n    }\n\n    .dataframe tbody tr th {\n        vertical-align: top;\n    }\n\n    .dataframe thead th {\n        text-align: right;\n    }\n</style>\n<table border=\"1\" class=\"dataframe\">\n  <thead>\n    <tr style=\"text-align: right;\">\n      <th>Date</th>\n      <th>Country</th>\n      <th>2020-07-26</th>\n      <th>2020-07-27</th>\n      <th>2020-07-28</th>\n      <th>2020-07-29</th>\n      <th>2020-07-30</th>\n      <th>2020-07-31</th>\n      <th>2020-08-01</th>\n      <th>2020-08-02</th>\n      <th>2020-08-03</th>\n      <th>2020-08-04</th>\n      <th>2020-08-05</th>\n      <th>2020-08-06</th>\n      <th>2020-08-07</th>\n      <th>2020-08-08</th>\n      <th>2020-08-09</th>\n    </tr>\n  </thead>\n  <tbody>\n    <tr>\n      <th>0</th>\n      <td>Бразилия</td>\n      <td>24578</td>\n      <td>23284</td>\n      <td>40816</td>\n      <td>69074</td>\n      <td>57837</td>\n      <td>52383</td>\n      <td>45392</td>\n      <td>25800</td>\n      <td>16641</td>\n      <td>51603</td>\n      <td>57152</td>\n      <td>53139</td>\n      <td>50230</td>\n      <td>49970</td>\n      <td>23010</td>\n    </tr>\n    <tr>\n      <th>1</th>\n      <td>Великобритания</td>\n      <td>750</td>\n      <td>688</td>\n      <td>553</td>\n      <td>802</td>\n      <td>847</td>\n      <td>883</td>\n      <td>769</td>\n      <td>747</td>\n      <td>942</td>\n      <td>675</td>\n      <td>906</td>\n      <td>964</td>\n      <td>900</td>\n      <td>765</td>\n      <td>1113</td>\n    </tr>\n    <tr>\n      <th>2</th>\n      <td>Индия</td>\n      <td>49981</td>\n      <td>44457</td>\n      <td>51596</td>\n      <td>50294</td>\n      <td>52783</td>\n      <td>61242</td>\n      <td>54735</td>\n      <td>52972</td>\n      <td>52050</td>\n      <td>52509</td>\n      <td>56282</td>\n      <td>62538</td>\n      <td>61537</td>\n      <td>64399</td>\n      <td>62064</td>\n    </tr>\n    <tr>\n      <th>3</th>\n      <td>Россия</td>\n      <td>5741</td>\n      <td>5607</td>\n      <td>5380</td>\n      <td>5449</td>\n      <td>5484</td>\n      <td>5468</td>\n      <td>5429</td>\n      <td>5387</td>\n      <td>5364</td>\n      <td>5121</td>\n      <td>5186</td>\n      <td>5239</td>\n      <td>5191</td>\n      <td>5185</td>\n      <td>5155</td>\n    </tr>\n    <tr>\n      <th>4</th>\n      <td>США</td>\n      <td>54953</td>\n      <td>56414</td>\n      <td>65869</td>\n      <td>70776</td>\n      <td>68033</td>\n      <td>67092</td>\n      <td>58485</td>\n      <td>47580</td>\n      <td>45368</td>\n      <td>57540</td>\n      <td>52810</td>\n      <td>59692</td>\n      <td>58173</td>\n      <td>56174</td>\n      <td>46935</td>\n    </tr>\n  </tbody>\n</table>\n</div>"
     },
     "metadata": {},
     "execution_count": 23
    }
   ],
   "source": [
    "mask = (X.Date>=datetime.date(2020,7,26))&(X.Country.isin(country_towatch))\n",
    "\n",
    "Z = X[mask].groupby(['Country','Date'])['Day_confirmed'].sum().unstack().reset_index()\n",
    "Z.dropna(inplace=True)\n",
    "d = Z.drop('Country',axis = 1).values\n",
    "Z.head()"
   ]
  },
  {
   "cell_type": "code",
   "execution_count": 24,
   "metadata": {
    "tags": []
   },
   "outputs": [
    {
     "output_type": "stream",
     "name": "stdout",
     "text": "['26.7.2020', '27.7.2020', '28.7.2020', '29.7.2020', '30.7.2020', '31.7.2020', '1.8.2020', '2.8.2020', '3.8.2020', '4.8.2020', '5.8.2020', '6.8.2020', '7.8.2020', '8.8.2020', '9.8.2020']\n"
    }
   ],
   "source": [
    "\n",
    "\n",
    "\n",
    "x1=list(Z.columns[1:])\n",
    "y=list(Z.Country)\n",
    "x2=[]\n",
    "for i in x1:\n",
    "    x2.append(str(i.day)+'.'+str(i.month)+\".\"+str(i.year))\n",
    "    \n",
    "print(x2)\n"
   ]
  },
  {
   "cell_type": "code",
   "execution_count": 25,
   "metadata": {},
   "outputs": [
    {
     "output_type": "display_data",
     "data": {
      "application/vnd.plotly.v1+json": {
       "config": {
        "plotlyServerURL": "https://plot.ly"
       },
       "data": [
        {
         "colorscale": [
          [
           0,
           "rgb(0, 147, 146)"
          ],
          [
           0.16666666666666666,
           "rgb(57, 177, 133)"
          ],
          [
           0.3333333333333333,
           "rgb(156, 203, 134)"
          ],
          [
           0.5,
           "rgb(233, 226, 156)"
          ],
          [
           0.6666666666666666,
           "rgb(238, 180, 121)"
          ],
          [
           0.8333333333333334,
           "rgb(232, 132, 113)"
          ],
          [
           1,
           "rgb(207, 89, 126)"
          ]
         ],
         "reversescale": false,
         "showscale": false,
         "type": "heatmap",
         "x": [
          "26.7.2020",
          "27.7.2020",
          "28.7.2020",
          "29.7.2020",
          "30.7.2020",
          "31.7.2020",
          "1.8.2020",
          "2.8.2020",
          "3.8.2020",
          "4.8.2020",
          "5.8.2020",
          "6.8.2020",
          "7.8.2020",
          "8.8.2020",
          "9.8.2020"
         ],
         "y": [
          "Бразилия",
          "Великобритания",
          "Индия",
          "Россия",
          "США"
         ],
         "z": [
          [
           24578,
           23284,
           40816,
           69074,
           57837,
           52383,
           45392,
           25800,
           16641,
           51603,
           57152,
           53139,
           50230,
           49970,
           23010
          ],
          [
           750,
           688,
           553,
           802,
           847,
           883,
           769,
           747,
           942,
           675,
           906,
           964,
           900,
           765,
           1113
          ],
          [
           49981,
           44457,
           51596,
           50294,
           52783,
           61242,
           54735,
           52972,
           52050,
           52509,
           56282,
           62538,
           61537,
           64399,
           62064
          ],
          [
           5741,
           5607,
           5380,
           5449,
           5484,
           5468,
           5429,
           5387,
           5364,
           5121,
           5186,
           5239,
           5191,
           5185,
           5155
          ],
          [
           54953,
           56414,
           65869,
           70776,
           68033,
           67092,
           58485,
           47580,
           45368,
           57540,
           52810,
           59692,
           58173,
           56174,
           46935
          ]
         ]
        }
       ],
       "layout": {
        "annotations": [
         {
          "font": {
           "color": "#FFFFFF"
          },
          "showarrow": false,
          "text": "24578",
          "x": "26.7.2020",
          "xref": "x",
          "y": "Бразилия",
          "yref": "y"
         },
         {
          "font": {
           "color": "#FFFFFF"
          },
          "showarrow": false,
          "text": "23284",
          "x": "27.7.2020",
          "xref": "x",
          "y": "Бразилия",
          "yref": "y"
         },
         {
          "font": {
           "color": "#FFFFFF"
          },
          "showarrow": false,
          "text": "40816",
          "x": "28.7.2020",
          "xref": "x",
          "y": "Бразилия",
          "yref": "y"
         },
         {
          "font": {
           "color": "#FFFFFF"
          },
          "showarrow": false,
          "text": "69074",
          "x": "29.7.2020",
          "xref": "x",
          "y": "Бразилия",
          "yref": "y"
         },
         {
          "font": {
           "color": "#FFFFFF"
          },
          "showarrow": false,
          "text": "57837",
          "x": "30.7.2020",
          "xref": "x",
          "y": "Бразилия",
          "yref": "y"
         },
         {
          "font": {
           "color": "#FFFFFF"
          },
          "showarrow": false,
          "text": "52383",
          "x": "31.7.2020",
          "xref": "x",
          "y": "Бразилия",
          "yref": "y"
         },
         {
          "font": {
           "color": "#FFFFFF"
          },
          "showarrow": false,
          "text": "45392",
          "x": "1.8.2020",
          "xref": "x",
          "y": "Бразилия",
          "yref": "y"
         },
         {
          "font": {
           "color": "#FFFFFF"
          },
          "showarrow": false,
          "text": "25800",
          "x": "2.8.2020",
          "xref": "x",
          "y": "Бразилия",
          "yref": "y"
         },
         {
          "font": {
           "color": "#FFFFFF"
          },
          "showarrow": false,
          "text": "16641",
          "x": "3.8.2020",
          "xref": "x",
          "y": "Бразилия",
          "yref": "y"
         },
         {
          "font": {
           "color": "#FFFFFF"
          },
          "showarrow": false,
          "text": "51603",
          "x": "4.8.2020",
          "xref": "x",
          "y": "Бразилия",
          "yref": "y"
         },
         {
          "font": {
           "color": "#FFFFFF"
          },
          "showarrow": false,
          "text": "57152",
          "x": "5.8.2020",
          "xref": "x",
          "y": "Бразилия",
          "yref": "y"
         },
         {
          "font": {
           "color": "#FFFFFF"
          },
          "showarrow": false,
          "text": "53139",
          "x": "6.8.2020",
          "xref": "x",
          "y": "Бразилия",
          "yref": "y"
         },
         {
          "font": {
           "color": "#FFFFFF"
          },
          "showarrow": false,
          "text": "50230",
          "x": "7.8.2020",
          "xref": "x",
          "y": "Бразилия",
          "yref": "y"
         },
         {
          "font": {
           "color": "#FFFFFF"
          },
          "showarrow": false,
          "text": "49970",
          "x": "8.8.2020",
          "xref": "x",
          "y": "Бразилия",
          "yref": "y"
         },
         {
          "font": {
           "color": "#FFFFFF"
          },
          "showarrow": false,
          "text": "23010",
          "x": "9.8.2020",
          "xref": "x",
          "y": "Бразилия",
          "yref": "y"
         },
         {
          "font": {
           "color": "#FFFFFF"
          },
          "showarrow": false,
          "text": "750",
          "x": "26.7.2020",
          "xref": "x",
          "y": "Великобритания",
          "yref": "y"
         },
         {
          "font": {
           "color": "#FFFFFF"
          },
          "showarrow": false,
          "text": "688",
          "x": "27.7.2020",
          "xref": "x",
          "y": "Великобритания",
          "yref": "y"
         },
         {
          "font": {
           "color": "#FFFFFF"
          },
          "showarrow": false,
          "text": "553",
          "x": "28.7.2020",
          "xref": "x",
          "y": "Великобритания",
          "yref": "y"
         },
         {
          "font": {
           "color": "#FFFFFF"
          },
          "showarrow": false,
          "text": "802",
          "x": "29.7.2020",
          "xref": "x",
          "y": "Великобритания",
          "yref": "y"
         },
         {
          "font": {
           "color": "#FFFFFF"
          },
          "showarrow": false,
          "text": "847",
          "x": "30.7.2020",
          "xref": "x",
          "y": "Великобритания",
          "yref": "y"
         },
         {
          "font": {
           "color": "#FFFFFF"
          },
          "showarrow": false,
          "text": "883",
          "x": "31.7.2020",
          "xref": "x",
          "y": "Великобритания",
          "yref": "y"
         },
         {
          "font": {
           "color": "#FFFFFF"
          },
          "showarrow": false,
          "text": "769",
          "x": "1.8.2020",
          "xref": "x",
          "y": "Великобритания",
          "yref": "y"
         },
         {
          "font": {
           "color": "#FFFFFF"
          },
          "showarrow": false,
          "text": "747",
          "x": "2.8.2020",
          "xref": "x",
          "y": "Великобритания",
          "yref": "y"
         },
         {
          "font": {
           "color": "#FFFFFF"
          },
          "showarrow": false,
          "text": "942",
          "x": "3.8.2020",
          "xref": "x",
          "y": "Великобритания",
          "yref": "y"
         },
         {
          "font": {
           "color": "#FFFFFF"
          },
          "showarrow": false,
          "text": "675",
          "x": "4.8.2020",
          "xref": "x",
          "y": "Великобритания",
          "yref": "y"
         },
         {
          "font": {
           "color": "#FFFFFF"
          },
          "showarrow": false,
          "text": "906",
          "x": "5.8.2020",
          "xref": "x",
          "y": "Великобритания",
          "yref": "y"
         },
         {
          "font": {
           "color": "#FFFFFF"
          },
          "showarrow": false,
          "text": "964",
          "x": "6.8.2020",
          "xref": "x",
          "y": "Великобритания",
          "yref": "y"
         },
         {
          "font": {
           "color": "#FFFFFF"
          },
          "showarrow": false,
          "text": "900",
          "x": "7.8.2020",
          "xref": "x",
          "y": "Великобритания",
          "yref": "y"
         },
         {
          "font": {
           "color": "#FFFFFF"
          },
          "showarrow": false,
          "text": "765",
          "x": "8.8.2020",
          "xref": "x",
          "y": "Великобритания",
          "yref": "y"
         },
         {
          "font": {
           "color": "#FFFFFF"
          },
          "showarrow": false,
          "text": "1113",
          "x": "9.8.2020",
          "xref": "x",
          "y": "Великобритания",
          "yref": "y"
         },
         {
          "font": {
           "color": "#FFFFFF"
          },
          "showarrow": false,
          "text": "49981",
          "x": "26.7.2020",
          "xref": "x",
          "y": "Индия",
          "yref": "y"
         },
         {
          "font": {
           "color": "#FFFFFF"
          },
          "showarrow": false,
          "text": "44457",
          "x": "27.7.2020",
          "xref": "x",
          "y": "Индия",
          "yref": "y"
         },
         {
          "font": {
           "color": "#FFFFFF"
          },
          "showarrow": false,
          "text": "51596",
          "x": "28.7.2020",
          "xref": "x",
          "y": "Индия",
          "yref": "y"
         },
         {
          "font": {
           "color": "#FFFFFF"
          },
          "showarrow": false,
          "text": "50294",
          "x": "29.7.2020",
          "xref": "x",
          "y": "Индия",
          "yref": "y"
         },
         {
          "font": {
           "color": "#FFFFFF"
          },
          "showarrow": false,
          "text": "52783",
          "x": "30.7.2020",
          "xref": "x",
          "y": "Индия",
          "yref": "y"
         },
         {
          "font": {
           "color": "#FFFFFF"
          },
          "showarrow": false,
          "text": "61242",
          "x": "31.7.2020",
          "xref": "x",
          "y": "Индия",
          "yref": "y"
         },
         {
          "font": {
           "color": "#FFFFFF"
          },
          "showarrow": false,
          "text": "54735",
          "x": "1.8.2020",
          "xref": "x",
          "y": "Индия",
          "yref": "y"
         },
         {
          "font": {
           "color": "#FFFFFF"
          },
          "showarrow": false,
          "text": "52972",
          "x": "2.8.2020",
          "xref": "x",
          "y": "Индия",
          "yref": "y"
         },
         {
          "font": {
           "color": "#FFFFFF"
          },
          "showarrow": false,
          "text": "52050",
          "x": "3.8.2020",
          "xref": "x",
          "y": "Индия",
          "yref": "y"
         },
         {
          "font": {
           "color": "#FFFFFF"
          },
          "showarrow": false,
          "text": "52509",
          "x": "4.8.2020",
          "xref": "x",
          "y": "Индия",
          "yref": "y"
         },
         {
          "font": {
           "color": "#FFFFFF"
          },
          "showarrow": false,
          "text": "56282",
          "x": "5.8.2020",
          "xref": "x",
          "y": "Индия",
          "yref": "y"
         },
         {
          "font": {
           "color": "#FFFFFF"
          },
          "showarrow": false,
          "text": "62538",
          "x": "6.8.2020",
          "xref": "x",
          "y": "Индия",
          "yref": "y"
         },
         {
          "font": {
           "color": "#FFFFFF"
          },
          "showarrow": false,
          "text": "61537",
          "x": "7.8.2020",
          "xref": "x",
          "y": "Индия",
          "yref": "y"
         },
         {
          "font": {
           "color": "#FFFFFF"
          },
          "showarrow": false,
          "text": "64399",
          "x": "8.8.2020",
          "xref": "x",
          "y": "Индия",
          "yref": "y"
         },
         {
          "font": {
           "color": "#FFFFFF"
          },
          "showarrow": false,
          "text": "62064",
          "x": "9.8.2020",
          "xref": "x",
          "y": "Индия",
          "yref": "y"
         },
         {
          "font": {
           "color": "#FFFFFF"
          },
          "showarrow": false,
          "text": "5741",
          "x": "26.7.2020",
          "xref": "x",
          "y": "Россия",
          "yref": "y"
         },
         {
          "font": {
           "color": "#FFFFFF"
          },
          "showarrow": false,
          "text": "5607",
          "x": "27.7.2020",
          "xref": "x",
          "y": "Россия",
          "yref": "y"
         },
         {
          "font": {
           "color": "#FFFFFF"
          },
          "showarrow": false,
          "text": "5380",
          "x": "28.7.2020",
          "xref": "x",
          "y": "Россия",
          "yref": "y"
         },
         {
          "font": {
           "color": "#FFFFFF"
          },
          "showarrow": false,
          "text": "5449",
          "x": "29.7.2020",
          "xref": "x",
          "y": "Россия",
          "yref": "y"
         },
         {
          "font": {
           "color": "#FFFFFF"
          },
          "showarrow": false,
          "text": "5484",
          "x": "30.7.2020",
          "xref": "x",
          "y": "Россия",
          "yref": "y"
         },
         {
          "font": {
           "color": "#FFFFFF"
          },
          "showarrow": false,
          "text": "5468",
          "x": "31.7.2020",
          "xref": "x",
          "y": "Россия",
          "yref": "y"
         },
         {
          "font": {
           "color": "#FFFFFF"
          },
          "showarrow": false,
          "text": "5429",
          "x": "1.8.2020",
          "xref": "x",
          "y": "Россия",
          "yref": "y"
         },
         {
          "font": {
           "color": "#FFFFFF"
          },
          "showarrow": false,
          "text": "5387",
          "x": "2.8.2020",
          "xref": "x",
          "y": "Россия",
          "yref": "y"
         },
         {
          "font": {
           "color": "#FFFFFF"
          },
          "showarrow": false,
          "text": "5364",
          "x": "3.8.2020",
          "xref": "x",
          "y": "Россия",
          "yref": "y"
         },
         {
          "font": {
           "color": "#FFFFFF"
          },
          "showarrow": false,
          "text": "5121",
          "x": "4.8.2020",
          "xref": "x",
          "y": "Россия",
          "yref": "y"
         },
         {
          "font": {
           "color": "#FFFFFF"
          },
          "showarrow": false,
          "text": "5186",
          "x": "5.8.2020",
          "xref": "x",
          "y": "Россия",
          "yref": "y"
         },
         {
          "font": {
           "color": "#FFFFFF"
          },
          "showarrow": false,
          "text": "5239",
          "x": "6.8.2020",
          "xref": "x",
          "y": "Россия",
          "yref": "y"
         },
         {
          "font": {
           "color": "#FFFFFF"
          },
          "showarrow": false,
          "text": "5191",
          "x": "7.8.2020",
          "xref": "x",
          "y": "Россия",
          "yref": "y"
         },
         {
          "font": {
           "color": "#FFFFFF"
          },
          "showarrow": false,
          "text": "5185",
          "x": "8.8.2020",
          "xref": "x",
          "y": "Россия",
          "yref": "y"
         },
         {
          "font": {
           "color": "#FFFFFF"
          },
          "showarrow": false,
          "text": "5155",
          "x": "9.8.2020",
          "xref": "x",
          "y": "Россия",
          "yref": "y"
         },
         {
          "font": {
           "color": "#FFFFFF"
          },
          "showarrow": false,
          "text": "54953",
          "x": "26.7.2020",
          "xref": "x",
          "y": "США",
          "yref": "y"
         },
         {
          "font": {
           "color": "#FFFFFF"
          },
          "showarrow": false,
          "text": "56414",
          "x": "27.7.2020",
          "xref": "x",
          "y": "США",
          "yref": "y"
         },
         {
          "font": {
           "color": "#FFFFFF"
          },
          "showarrow": false,
          "text": "65869",
          "x": "28.7.2020",
          "xref": "x",
          "y": "США",
          "yref": "y"
         },
         {
          "font": {
           "color": "#FFFFFF"
          },
          "showarrow": false,
          "text": "70776",
          "x": "29.7.2020",
          "xref": "x",
          "y": "США",
          "yref": "y"
         },
         {
          "font": {
           "color": "#FFFFFF"
          },
          "showarrow": false,
          "text": "68033",
          "x": "30.7.2020",
          "xref": "x",
          "y": "США",
          "yref": "y"
         },
         {
          "font": {
           "color": "#FFFFFF"
          },
          "showarrow": false,
          "text": "67092",
          "x": "31.7.2020",
          "xref": "x",
          "y": "США",
          "yref": "y"
         },
         {
          "font": {
           "color": "#FFFFFF"
          },
          "showarrow": false,
          "text": "58485",
          "x": "1.8.2020",
          "xref": "x",
          "y": "США",
          "yref": "y"
         },
         {
          "font": {
           "color": "#FFFFFF"
          },
          "showarrow": false,
          "text": "47580",
          "x": "2.8.2020",
          "xref": "x",
          "y": "США",
          "yref": "y"
         },
         {
          "font": {
           "color": "#FFFFFF"
          },
          "showarrow": false,
          "text": "45368",
          "x": "3.8.2020",
          "xref": "x",
          "y": "США",
          "yref": "y"
         },
         {
          "font": {
           "color": "#FFFFFF"
          },
          "showarrow": false,
          "text": "57540",
          "x": "4.8.2020",
          "xref": "x",
          "y": "США",
          "yref": "y"
         },
         {
          "font": {
           "color": "#FFFFFF"
          },
          "showarrow": false,
          "text": "52810",
          "x": "5.8.2020",
          "xref": "x",
          "y": "США",
          "yref": "y"
         },
         {
          "font": {
           "color": "#FFFFFF"
          },
          "showarrow": false,
          "text": "59692",
          "x": "6.8.2020",
          "xref": "x",
          "y": "США",
          "yref": "y"
         },
         {
          "font": {
           "color": "#FFFFFF"
          },
          "showarrow": false,
          "text": "58173",
          "x": "7.8.2020",
          "xref": "x",
          "y": "США",
          "yref": "y"
         },
         {
          "font": {
           "color": "#FFFFFF"
          },
          "showarrow": false,
          "text": "56174",
          "x": "8.8.2020",
          "xref": "x",
          "y": "США",
          "yref": "y"
         },
         {
          "font": {
           "color": "#FFFFFF"
          },
          "showarrow": false,
          "text": "46935",
          "x": "9.8.2020",
          "xref": "x",
          "y": "США",
          "yref": "y"
         }
        ],
        "height": 600,
        "template": {
         "data": {
          "bar": [
           {
            "error_x": {
             "color": "#2a3f5f"
            },
            "error_y": {
             "color": "#2a3f5f"
            },
            "marker": {
             "line": {
              "color": "#E5ECF6",
              "width": 0.5
             }
            },
            "type": "bar"
           }
          ],
          "barpolar": [
           {
            "marker": {
             "line": {
              "color": "#E5ECF6",
              "width": 0.5
             }
            },
            "type": "barpolar"
           }
          ],
          "carpet": [
           {
            "aaxis": {
             "endlinecolor": "#2a3f5f",
             "gridcolor": "white",
             "linecolor": "white",
             "minorgridcolor": "white",
             "startlinecolor": "#2a3f5f"
            },
            "baxis": {
             "endlinecolor": "#2a3f5f",
             "gridcolor": "white",
             "linecolor": "white",
             "minorgridcolor": "white",
             "startlinecolor": "#2a3f5f"
            },
            "type": "carpet"
           }
          ],
          "choropleth": [
           {
            "colorbar": {
             "outlinewidth": 0,
             "ticks": ""
            },
            "type": "choropleth"
           }
          ],
          "contour": [
           {
            "colorbar": {
             "outlinewidth": 0,
             "ticks": ""
            },
            "colorscale": [
             [
              0,
              "#0d0887"
             ],
             [
              0.1111111111111111,
              "#46039f"
             ],
             [
              0.2222222222222222,
              "#7201a8"
             ],
             [
              0.3333333333333333,
              "#9c179e"
             ],
             [
              0.4444444444444444,
              "#bd3786"
             ],
             [
              0.5555555555555556,
              "#d8576b"
             ],
             [
              0.6666666666666666,
              "#ed7953"
             ],
             [
              0.7777777777777778,
              "#fb9f3a"
             ],
             [
              0.8888888888888888,
              "#fdca26"
             ],
             [
              1,
              "#f0f921"
             ]
            ],
            "type": "contour"
           }
          ],
          "contourcarpet": [
           {
            "colorbar": {
             "outlinewidth": 0,
             "ticks": ""
            },
            "type": "contourcarpet"
           }
          ],
          "heatmap": [
           {
            "colorbar": {
             "outlinewidth": 0,
             "ticks": ""
            },
            "colorscale": [
             [
              0,
              "#0d0887"
             ],
             [
              0.1111111111111111,
              "#46039f"
             ],
             [
              0.2222222222222222,
              "#7201a8"
             ],
             [
              0.3333333333333333,
              "#9c179e"
             ],
             [
              0.4444444444444444,
              "#bd3786"
             ],
             [
              0.5555555555555556,
              "#d8576b"
             ],
             [
              0.6666666666666666,
              "#ed7953"
             ],
             [
              0.7777777777777778,
              "#fb9f3a"
             ],
             [
              0.8888888888888888,
              "#fdca26"
             ],
             [
              1,
              "#f0f921"
             ]
            ],
            "type": "heatmap"
           }
          ],
          "heatmapgl": [
           {
            "colorbar": {
             "outlinewidth": 0,
             "ticks": ""
            },
            "colorscale": [
             [
              0,
              "#0d0887"
             ],
             [
              0.1111111111111111,
              "#46039f"
             ],
             [
              0.2222222222222222,
              "#7201a8"
             ],
             [
              0.3333333333333333,
              "#9c179e"
             ],
             [
              0.4444444444444444,
              "#bd3786"
             ],
             [
              0.5555555555555556,
              "#d8576b"
             ],
             [
              0.6666666666666666,
              "#ed7953"
             ],
             [
              0.7777777777777778,
              "#fb9f3a"
             ],
             [
              0.8888888888888888,
              "#fdca26"
             ],
             [
              1,
              "#f0f921"
             ]
            ],
            "type": "heatmapgl"
           }
          ],
          "histogram": [
           {
            "marker": {
             "colorbar": {
              "outlinewidth": 0,
              "ticks": ""
             }
            },
            "type": "histogram"
           }
          ],
          "histogram2d": [
           {
            "colorbar": {
             "outlinewidth": 0,
             "ticks": ""
            },
            "colorscale": [
             [
              0,
              "#0d0887"
             ],
             [
              0.1111111111111111,
              "#46039f"
             ],
             [
              0.2222222222222222,
              "#7201a8"
             ],
             [
              0.3333333333333333,
              "#9c179e"
             ],
             [
              0.4444444444444444,
              "#bd3786"
             ],
             [
              0.5555555555555556,
              "#d8576b"
             ],
             [
              0.6666666666666666,
              "#ed7953"
             ],
             [
              0.7777777777777778,
              "#fb9f3a"
             ],
             [
              0.8888888888888888,
              "#fdca26"
             ],
             [
              1,
              "#f0f921"
             ]
            ],
            "type": "histogram2d"
           }
          ],
          "histogram2dcontour": [
           {
            "colorbar": {
             "outlinewidth": 0,
             "ticks": ""
            },
            "colorscale": [
             [
              0,
              "#0d0887"
             ],
             [
              0.1111111111111111,
              "#46039f"
             ],
             [
              0.2222222222222222,
              "#7201a8"
             ],
             [
              0.3333333333333333,
              "#9c179e"
             ],
             [
              0.4444444444444444,
              "#bd3786"
             ],
             [
              0.5555555555555556,
              "#d8576b"
             ],
             [
              0.6666666666666666,
              "#ed7953"
             ],
             [
              0.7777777777777778,
              "#fb9f3a"
             ],
             [
              0.8888888888888888,
              "#fdca26"
             ],
             [
              1,
              "#f0f921"
             ]
            ],
            "type": "histogram2dcontour"
           }
          ],
          "mesh3d": [
           {
            "colorbar": {
             "outlinewidth": 0,
             "ticks": ""
            },
            "type": "mesh3d"
           }
          ],
          "parcoords": [
           {
            "line": {
             "colorbar": {
              "outlinewidth": 0,
              "ticks": ""
             }
            },
            "type": "parcoords"
           }
          ],
          "pie": [
           {
            "automargin": true,
            "type": "pie"
           }
          ],
          "scatter": [
           {
            "marker": {
             "colorbar": {
              "outlinewidth": 0,
              "ticks": ""
             }
            },
            "type": "scatter"
           }
          ],
          "scatter3d": [
           {
            "line": {
             "colorbar": {
              "outlinewidth": 0,
              "ticks": ""
             }
            },
            "marker": {
             "colorbar": {
              "outlinewidth": 0,
              "ticks": ""
             }
            },
            "type": "scatter3d"
           }
          ],
          "scattercarpet": [
           {
            "marker": {
             "colorbar": {
              "outlinewidth": 0,
              "ticks": ""
             }
            },
            "type": "scattercarpet"
           }
          ],
          "scattergeo": [
           {
            "marker": {
             "colorbar": {
              "outlinewidth": 0,
              "ticks": ""
             }
            },
            "type": "scattergeo"
           }
          ],
          "scattergl": [
           {
            "marker": {
             "colorbar": {
              "outlinewidth": 0,
              "ticks": ""
             }
            },
            "type": "scattergl"
           }
          ],
          "scattermapbox": [
           {
            "marker": {
             "colorbar": {
              "outlinewidth": 0,
              "ticks": ""
             }
            },
            "type": "scattermapbox"
           }
          ],
          "scatterpolar": [
           {
            "marker": {
             "colorbar": {
              "outlinewidth": 0,
              "ticks": ""
             }
            },
            "type": "scatterpolar"
           }
          ],
          "scatterpolargl": [
           {
            "marker": {
             "colorbar": {
              "outlinewidth": 0,
              "ticks": ""
             }
            },
            "type": "scatterpolargl"
           }
          ],
          "scatterternary": [
           {
            "marker": {
             "colorbar": {
              "outlinewidth": 0,
              "ticks": ""
             }
            },
            "type": "scatterternary"
           }
          ],
          "surface": [
           {
            "colorbar": {
             "outlinewidth": 0,
             "ticks": ""
            },
            "colorscale": [
             [
              0,
              "#0d0887"
             ],
             [
              0.1111111111111111,
              "#46039f"
             ],
             [
              0.2222222222222222,
              "#7201a8"
             ],
             [
              0.3333333333333333,
              "#9c179e"
             ],
             [
              0.4444444444444444,
              "#bd3786"
             ],
             [
              0.5555555555555556,
              "#d8576b"
             ],
             [
              0.6666666666666666,
              "#ed7953"
             ],
             [
              0.7777777777777778,
              "#fb9f3a"
             ],
             [
              0.8888888888888888,
              "#fdca26"
             ],
             [
              1,
              "#f0f921"
             ]
            ],
            "type": "surface"
           }
          ],
          "table": [
           {
            "cells": {
             "fill": {
              "color": "#EBF0F8"
             },
             "line": {
              "color": "white"
             }
            },
            "header": {
             "fill": {
              "color": "#C8D4E3"
             },
             "line": {
              "color": "white"
             }
            },
            "type": "table"
           }
          ]
         },
         "layout": {
          "annotationdefaults": {
           "arrowcolor": "#2a3f5f",
           "arrowhead": 0,
           "arrowwidth": 1
          },
          "coloraxis": {
           "colorbar": {
            "outlinewidth": 0,
            "ticks": ""
           }
          },
          "colorscale": {
           "diverging": [
            [
             0,
             "#8e0152"
            ],
            [
             0.1,
             "#c51b7d"
            ],
            [
             0.2,
             "#de77ae"
            ],
            [
             0.3,
             "#f1b6da"
            ],
            [
             0.4,
             "#fde0ef"
            ],
            [
             0.5,
             "#f7f7f7"
            ],
            [
             0.6,
             "#e6f5d0"
            ],
            [
             0.7,
             "#b8e186"
            ],
            [
             0.8,
             "#7fbc41"
            ],
            [
             0.9,
             "#4d9221"
            ],
            [
             1,
             "#276419"
            ]
           ],
           "sequential": [
            [
             0,
             "#0d0887"
            ],
            [
             0.1111111111111111,
             "#46039f"
            ],
            [
             0.2222222222222222,
             "#7201a8"
            ],
            [
             0.3333333333333333,
             "#9c179e"
            ],
            [
             0.4444444444444444,
             "#bd3786"
            ],
            [
             0.5555555555555556,
             "#d8576b"
            ],
            [
             0.6666666666666666,
             "#ed7953"
            ],
            [
             0.7777777777777778,
             "#fb9f3a"
            ],
            [
             0.8888888888888888,
             "#fdca26"
            ],
            [
             1,
             "#f0f921"
            ]
           ],
           "sequentialminus": [
            [
             0,
             "#0d0887"
            ],
            [
             0.1111111111111111,
             "#46039f"
            ],
            [
             0.2222222222222222,
             "#7201a8"
            ],
            [
             0.3333333333333333,
             "#9c179e"
            ],
            [
             0.4444444444444444,
             "#bd3786"
            ],
            [
             0.5555555555555556,
             "#d8576b"
            ],
            [
             0.6666666666666666,
             "#ed7953"
            ],
            [
             0.7777777777777778,
             "#fb9f3a"
            ],
            [
             0.8888888888888888,
             "#fdca26"
            ],
            [
             1,
             "#f0f921"
            ]
           ]
          },
          "colorway": [
           "#636efa",
           "#EF553B",
           "#00cc96",
           "#ab63fa",
           "#FFA15A",
           "#19d3f3",
           "#FF6692",
           "#B6E880",
           "#FF97FF",
           "#FECB52"
          ],
          "font": {
           "color": "#2a3f5f"
          },
          "geo": {
           "bgcolor": "white",
           "lakecolor": "white",
           "landcolor": "#E5ECF6",
           "showlakes": true,
           "showland": true,
           "subunitcolor": "white"
          },
          "hoverlabel": {
           "align": "left"
          },
          "hovermode": "closest",
          "mapbox": {
           "style": "light"
          },
          "paper_bgcolor": "white",
          "plot_bgcolor": "#E5ECF6",
          "polar": {
           "angularaxis": {
            "gridcolor": "white",
            "linecolor": "white",
            "ticks": ""
           },
           "bgcolor": "#E5ECF6",
           "radialaxis": {
            "gridcolor": "white",
            "linecolor": "white",
            "ticks": ""
           }
          },
          "scene": {
           "xaxis": {
            "backgroundcolor": "#E5ECF6",
            "gridcolor": "white",
            "gridwidth": 2,
            "linecolor": "white",
            "showbackground": true,
            "ticks": "",
            "zerolinecolor": "white"
           },
           "yaxis": {
            "backgroundcolor": "#E5ECF6",
            "gridcolor": "white",
            "gridwidth": 2,
            "linecolor": "white",
            "showbackground": true,
            "ticks": "",
            "zerolinecolor": "white"
           },
           "zaxis": {
            "backgroundcolor": "#E5ECF6",
            "gridcolor": "white",
            "gridwidth": 2,
            "linecolor": "white",
            "showbackground": true,
            "ticks": "",
            "zerolinecolor": "white"
           }
          },
          "shapedefaults": {
           "line": {
            "color": "#2a3f5f"
           }
          },
          "ternary": {
           "aaxis": {
            "gridcolor": "white",
            "linecolor": "white",
            "ticks": ""
           },
           "baxis": {
            "gridcolor": "white",
            "linecolor": "white",
            "ticks": ""
           },
           "bgcolor": "#E5ECF6",
           "caxis": {
            "gridcolor": "white",
            "linecolor": "white",
            "ticks": ""
           }
          },
          "title": {
           "x": 0.05
          },
          "xaxis": {
           "automargin": true,
           "gridcolor": "white",
           "linecolor": "white",
           "ticks": "",
           "title": {
            "standoff": 15
           },
           "zerolinecolor": "white",
           "zerolinewidth": 2
          },
          "yaxis": {
           "automargin": true,
           "gridcolor": "white",
           "linecolor": "white",
           "ticks": "",
           "title": {
            "standoff": 15
           },
           "zerolinecolor": "white",
           "zerolinewidth": 2
          }
         }
        },
        "width": 990,
        "xaxis": {
         "dtick": 1,
         "gridcolor": "rgb(0, 0, 0)",
         "side": "top",
         "ticks": "",
         "title": {
          "text": "Динамика новых заболевших по странам"
         }
        },
        "yaxis": {
         "dtick": 1,
         "ticks": "",
         "ticksuffix": "  "
        }
       }
      }
     },
     "metadata": {}
    }
   ],
   "source": [
    "fig = ff.create_annotated_heatmap(d, x=x2, y=y, annotation_text=d,\n",
    "                                  colorscale='Temps')\n",
    "\n",
    "fig.update_layout(\n",
    "                  \n",
    "                  \n",
    "                  width = 990, height = 600,\n",
    "    \n",
    "    \n",
    "                  xaxis_title='Динамика новых заболевших по странам',\n",
    "               #   yaxis_title = 'Регион '\n",
    ")\n",
    "\n",
    "fig.show()"
   ]
  },
  {
   "cell_type": "code",
   "execution_count": 26,
   "metadata": {
    "tags": []
   },
   "outputs": [
    {
     "output_type": "stream",
     "name": "stdout",
     "text": "187\n"
    },
    {
     "output_type": "execute_result",
     "data": {
      "text/plain": "             Date  Confirmed  Recovered  Deaths  Day_confirmed  Day_recovered  \\\n26531  2020-08-09    5044864    1656864  162938          46935          13746   \n4823   2020-08-09    3035422    2356983  101049          23010          35446   \n11858  2020-08-09    2215074    1535743   44386          62064          54859   \n25928  2020-08-09     885718     692059   14903           5155           3203   \n36983  2020-08-09     559859     411474   10408           6671           6906   \n20903  2020-08-09     480278     384432   52298           4376           7307   \n25124  2020-08-09     478024     324020   21072          14149           4849   \n15878  2020-08-09     387481     212688   12842          10611           8097   \n34973  2020-08-09     373056     345826   10077           2033           1693   \n12662  2020-08-09     326712     284371   18427           2020           2249   \n13265  2020-08-09     314362     150376   28503              0              0   \n5828   2020-08-09     312574       1451   46659           1113              2   \n27335  2020-08-09     288690     252039    3167           1428           1599   \n24119  2020-08-09     284121     260248    6082            634            644   \n2612   2020-08-09     257600     148370    3399           2487           1766   \n\n       Day_deaths     Rt    Rt2  Rate_conf   Rate_ill            Country  \\\n26531         515  1.087  1.047  25.399982  45.976866                США   \n4823          572  1.166  1.070  15.282804   8.231340           Бразилия   \n11858        1007  1.172  1.126  11.152499   9.051851              Индия   \n25928          76  0.986  1.024   4.459431   2.548367             Россия   \n36983         198  1.128  1.056   2.818789   1.967016                ЮАР   \n20903         292  1.104  1.056   2.418113   0.620825            Мексика   \n25124         423  0.758  1.064   2.406765   1.895094               Перу   \n15878         302  1.057  1.123   1.950897   2.308793           Колумбия   \n34973          66  1.179  1.021   1.878270   0.244535               Чили   \n12662         163  0.860  1.032   1.644936   0.340921               Иран   \n13265           0  0.498  1.049   1.582756   1.931462            Испания   \n5828            8  1.144  1.012   1.573754   3.770230     Великобритания   \n27335          37  1.097  1.020   1.453502   0.477352  Саудовская Аравия   \n24119          14  1.054  1.009   1.430498   0.253631           Пакистан   \n2612           34  1.603  1.042   1.296970   1.508739          Бангладеш   \n\n       Remaining_ill  MA7_dayconfirmed  MA14_dayconfirmed  MA7_remaining_ill  \\\n26531        3225062      53813.142857       57924.357143       3.130662e+06   \n4823          577390      43106.428571       44023.642857       5.740410e+05   \n11858         634945      58768.428571       55675.571429       6.083153e+05   \n25928         178756       5205.857143        5331.785714       1.815110e+05   \n36983         137977       6910.571429        8173.285714       1.429630e+05   \n20903          43548       5890.285714        6411.571429       4.511771e+04   \n25124         132932       7024.857143        7290.214286       1.234456e+05   \n15878         161951       9975.714286        9893.214286       1.522643e+05   \n34973          17153       1903.571429        1947.571429       1.695457e+04   \n12662          23914       2467.857143        2538.571429       2.448486e+04   \n13265         135483       3691.428571        2995.785714       1.294951e+05   \n5828          264464        895.000000         825.285714       2.618491e+05   \n27335          33484       1407.857143        1553.500000       3.419257e+04   \n24119          17791        631.714286         786.285714       2.069086e+04   \n2612          105831       2407.714286        2439.071429       1.029539e+05   \n\n       MA14_remaining_ill  Change_dayconf  Change_remill  \n26531        3.029462e+06           -9239          32674  \n4823         5.619894e+05          -26960         -13008  \n11858        5.747354e+05           -2335           6198  \n25928        1.866134e+05             -30           1876  \n36983        1.524614e+05           -1041           -433  \n20903        4.737500e+04           -2119          -3223  \n25124        1.131097e+05           14149           8877  \n15878        1.401353e+05             945           2212  \n34973        1.744114e+04            -165            274  \n12662        2.401900e+04            -105           -392  \n13265        1.176981e+05               0              0  \n5828         2.591264e+05             348           1103  \n27335        3.690350e+04             -41           -208  \n24119        2.325293e+04            -208            -24  \n2612         1.010986e+05            -124            687  ",
      "text/html": "<div>\n<style scoped>\n    .dataframe tbody tr th:only-of-type {\n        vertical-align: middle;\n    }\n\n    .dataframe tbody tr th {\n        vertical-align: top;\n    }\n\n    .dataframe thead th {\n        text-align: right;\n    }\n</style>\n<table border=\"1\" class=\"dataframe\">\n  <thead>\n    <tr style=\"text-align: right;\">\n      <th></th>\n      <th>Date</th>\n      <th>Confirmed</th>\n      <th>Recovered</th>\n      <th>Deaths</th>\n      <th>Day_confirmed</th>\n      <th>Day_recovered</th>\n      <th>Day_deaths</th>\n      <th>Rt</th>\n      <th>Rt2</th>\n      <th>Rate_conf</th>\n      <th>Rate_ill</th>\n      <th>Country</th>\n      <th>Remaining_ill</th>\n      <th>MA7_dayconfirmed</th>\n      <th>MA14_dayconfirmed</th>\n      <th>MA7_remaining_ill</th>\n      <th>MA14_remaining_ill</th>\n      <th>Change_dayconf</th>\n      <th>Change_remill</th>\n    </tr>\n  </thead>\n  <tbody>\n    <tr>\n      <th>26531</th>\n      <td>2020-08-09</td>\n      <td>5044864</td>\n      <td>1656864</td>\n      <td>162938</td>\n      <td>46935</td>\n      <td>13746</td>\n      <td>515</td>\n      <td>1.087</td>\n      <td>1.047</td>\n      <td>25.399982</td>\n      <td>45.976866</td>\n      <td>США</td>\n      <td>3225062</td>\n      <td>53813.142857</td>\n      <td>57924.357143</td>\n      <td>3.130662e+06</td>\n      <td>3.029462e+06</td>\n      <td>-9239</td>\n      <td>32674</td>\n    </tr>\n    <tr>\n      <th>4823</th>\n      <td>2020-08-09</td>\n      <td>3035422</td>\n      <td>2356983</td>\n      <td>101049</td>\n      <td>23010</td>\n      <td>35446</td>\n      <td>572</td>\n      <td>1.166</td>\n      <td>1.070</td>\n      <td>15.282804</td>\n      <td>8.231340</td>\n      <td>Бразилия</td>\n      <td>577390</td>\n      <td>43106.428571</td>\n      <td>44023.642857</td>\n      <td>5.740410e+05</td>\n      <td>5.619894e+05</td>\n      <td>-26960</td>\n      <td>-13008</td>\n    </tr>\n    <tr>\n      <th>11858</th>\n      <td>2020-08-09</td>\n      <td>2215074</td>\n      <td>1535743</td>\n      <td>44386</td>\n      <td>62064</td>\n      <td>54859</td>\n      <td>1007</td>\n      <td>1.172</td>\n      <td>1.126</td>\n      <td>11.152499</td>\n      <td>9.051851</td>\n      <td>Индия</td>\n      <td>634945</td>\n      <td>58768.428571</td>\n      <td>55675.571429</td>\n      <td>6.083153e+05</td>\n      <td>5.747354e+05</td>\n      <td>-2335</td>\n      <td>6198</td>\n    </tr>\n    <tr>\n      <th>25928</th>\n      <td>2020-08-09</td>\n      <td>885718</td>\n      <td>692059</td>\n      <td>14903</td>\n      <td>5155</td>\n      <td>3203</td>\n      <td>76</td>\n      <td>0.986</td>\n      <td>1.024</td>\n      <td>4.459431</td>\n      <td>2.548367</td>\n      <td>Россия</td>\n      <td>178756</td>\n      <td>5205.857143</td>\n      <td>5331.785714</td>\n      <td>1.815110e+05</td>\n      <td>1.866134e+05</td>\n      <td>-30</td>\n      <td>1876</td>\n    </tr>\n    <tr>\n      <th>36983</th>\n      <td>2020-08-09</td>\n      <td>559859</td>\n      <td>411474</td>\n      <td>10408</td>\n      <td>6671</td>\n      <td>6906</td>\n      <td>198</td>\n      <td>1.128</td>\n      <td>1.056</td>\n      <td>2.818789</td>\n      <td>1.967016</td>\n      <td>ЮАР</td>\n      <td>137977</td>\n      <td>6910.571429</td>\n      <td>8173.285714</td>\n      <td>1.429630e+05</td>\n      <td>1.524614e+05</td>\n      <td>-1041</td>\n      <td>-433</td>\n    </tr>\n    <tr>\n      <th>20903</th>\n      <td>2020-08-09</td>\n      <td>480278</td>\n      <td>384432</td>\n      <td>52298</td>\n      <td>4376</td>\n      <td>7307</td>\n      <td>292</td>\n      <td>1.104</td>\n      <td>1.056</td>\n      <td>2.418113</td>\n      <td>0.620825</td>\n      <td>Мексика</td>\n      <td>43548</td>\n      <td>5890.285714</td>\n      <td>6411.571429</td>\n      <td>4.511771e+04</td>\n      <td>4.737500e+04</td>\n      <td>-2119</td>\n      <td>-3223</td>\n    </tr>\n    <tr>\n      <th>25124</th>\n      <td>2020-08-09</td>\n      <td>478024</td>\n      <td>324020</td>\n      <td>21072</td>\n      <td>14149</td>\n      <td>4849</td>\n      <td>423</td>\n      <td>0.758</td>\n      <td>1.064</td>\n      <td>2.406765</td>\n      <td>1.895094</td>\n      <td>Перу</td>\n      <td>132932</td>\n      <td>7024.857143</td>\n      <td>7290.214286</td>\n      <td>1.234456e+05</td>\n      <td>1.131097e+05</td>\n      <td>14149</td>\n      <td>8877</td>\n    </tr>\n    <tr>\n      <th>15878</th>\n      <td>2020-08-09</td>\n      <td>387481</td>\n      <td>212688</td>\n      <td>12842</td>\n      <td>10611</td>\n      <td>8097</td>\n      <td>302</td>\n      <td>1.057</td>\n      <td>1.123</td>\n      <td>1.950897</td>\n      <td>2.308793</td>\n      <td>Колумбия</td>\n      <td>161951</td>\n      <td>9975.714286</td>\n      <td>9893.214286</td>\n      <td>1.522643e+05</td>\n      <td>1.401353e+05</td>\n      <td>945</td>\n      <td>2212</td>\n    </tr>\n    <tr>\n      <th>34973</th>\n      <td>2020-08-09</td>\n      <td>373056</td>\n      <td>345826</td>\n      <td>10077</td>\n      <td>2033</td>\n      <td>1693</td>\n      <td>66</td>\n      <td>1.179</td>\n      <td>1.021</td>\n      <td>1.878270</td>\n      <td>0.244535</td>\n      <td>Чили</td>\n      <td>17153</td>\n      <td>1903.571429</td>\n      <td>1947.571429</td>\n      <td>1.695457e+04</td>\n      <td>1.744114e+04</td>\n      <td>-165</td>\n      <td>274</td>\n    </tr>\n    <tr>\n      <th>12662</th>\n      <td>2020-08-09</td>\n      <td>326712</td>\n      <td>284371</td>\n      <td>18427</td>\n      <td>2020</td>\n      <td>2249</td>\n      <td>163</td>\n      <td>0.860</td>\n      <td>1.032</td>\n      <td>1.644936</td>\n      <td>0.340921</td>\n      <td>Иран</td>\n      <td>23914</td>\n      <td>2467.857143</td>\n      <td>2538.571429</td>\n      <td>2.448486e+04</td>\n      <td>2.401900e+04</td>\n      <td>-105</td>\n      <td>-392</td>\n    </tr>\n    <tr>\n      <th>13265</th>\n      <td>2020-08-09</td>\n      <td>314362</td>\n      <td>150376</td>\n      <td>28503</td>\n      <td>0</td>\n      <td>0</td>\n      <td>0</td>\n      <td>0.498</td>\n      <td>1.049</td>\n      <td>1.582756</td>\n      <td>1.931462</td>\n      <td>Испания</td>\n      <td>135483</td>\n      <td>3691.428571</td>\n      <td>2995.785714</td>\n      <td>1.294951e+05</td>\n      <td>1.176981e+05</td>\n      <td>0</td>\n      <td>0</td>\n    </tr>\n    <tr>\n      <th>5828</th>\n      <td>2020-08-09</td>\n      <td>312574</td>\n      <td>1451</td>\n      <td>46659</td>\n      <td>1113</td>\n      <td>2</td>\n      <td>8</td>\n      <td>1.144</td>\n      <td>1.012</td>\n      <td>1.573754</td>\n      <td>3.770230</td>\n      <td>Великобритания</td>\n      <td>264464</td>\n      <td>895.000000</td>\n      <td>825.285714</td>\n      <td>2.618491e+05</td>\n      <td>2.591264e+05</td>\n      <td>348</td>\n      <td>1103</td>\n    </tr>\n    <tr>\n      <th>27335</th>\n      <td>2020-08-09</td>\n      <td>288690</td>\n      <td>252039</td>\n      <td>3167</td>\n      <td>1428</td>\n      <td>1599</td>\n      <td>37</td>\n      <td>1.097</td>\n      <td>1.020</td>\n      <td>1.453502</td>\n      <td>0.477352</td>\n      <td>Саудовская Аравия</td>\n      <td>33484</td>\n      <td>1407.857143</td>\n      <td>1553.500000</td>\n      <td>3.419257e+04</td>\n      <td>3.690350e+04</td>\n      <td>-41</td>\n      <td>-208</td>\n    </tr>\n    <tr>\n      <th>24119</th>\n      <td>2020-08-09</td>\n      <td>284121</td>\n      <td>260248</td>\n      <td>6082</td>\n      <td>634</td>\n      <td>644</td>\n      <td>14</td>\n      <td>1.054</td>\n      <td>1.009</td>\n      <td>1.430498</td>\n      <td>0.253631</td>\n      <td>Пакистан</td>\n      <td>17791</td>\n      <td>631.714286</td>\n      <td>786.285714</td>\n      <td>2.069086e+04</td>\n      <td>2.325293e+04</td>\n      <td>-208</td>\n      <td>-24</td>\n    </tr>\n    <tr>\n      <th>2612</th>\n      <td>2020-08-09</td>\n      <td>257600</td>\n      <td>148370</td>\n      <td>3399</td>\n      <td>2487</td>\n      <td>1766</td>\n      <td>34</td>\n      <td>1.603</td>\n      <td>1.042</td>\n      <td>1.296970</td>\n      <td>1.508739</td>\n      <td>Бангладеш</td>\n      <td>105831</td>\n      <td>2407.714286</td>\n      <td>2439.071429</td>\n      <td>1.029539e+05</td>\n      <td>1.010986e+05</td>\n      <td>-124</td>\n      <td>687</td>\n    </tr>\n  </tbody>\n</table>\n</div>"
     },
     "metadata": {},
     "execution_count": 26
    }
   ],
   "source": [
    "mask = (X.Date==myday)&(X.Country != 'Весь мир')\n",
    "#mask = (X.Date==myday)\n",
    "#Делаем выборку по доле регина в общих случаях выявления заболеваний по России\n",
    "df=X[mask].sort_values(by=['Rate_conf'],ascending = False)\n",
    "#Далее заменяем все имена если регион набрал менее 1% в общих случаях по России\n",
    "df2 = X[mask].reset_index(drop=True)\n",
    "print(len(df2))\n",
    "\n",
    "for i in range(len(df2)):\n",
    "    if df2.loc[i,'Rate_conf']<1:\n",
    "        df2.loc[i,'Country']='Страны менее 1%'\n",
    "df.head(15)"
   ]
  },
  {
   "cell_type": "code",
   "execution_count": 27,
   "metadata": {},
   "outputs": [
    {
     "output_type": "display_data",
     "data": {
      "application/vnd.plotly.v1+json": {
       "config": {
        "plotlyServerURL": "https://plot.ly"
       },
       "data": [
        {
         "domain": {
          "x": [
           0,
           1
          ],
          "y": [
           0,
           1
          ]
         },
         "hovertemplate": "Country=%{label}<br>Confirmed=%{value}<extra></extra>",
         "labels": [
          "Страны менее 1%",
          "Страны менее 1%",
          "Страны менее 1%",
          "Страны менее 1%",
          "Страны менее 1%",
          "Страны менее 1%",
          "Страны менее 1%",
          "Страны менее 1%",
          "Аргентина",
          "Страны менее 1%",
          "Страны менее 1%",
          "Страны менее 1%",
          "Бангладеш",
          "Страны менее 1%",
          "Страны менее 1%",
          "Страны менее 1%",
          "Страны менее 1%",
          "Страны менее 1%",
          "Страны менее 1%",
          "Страны менее 1%",
          "Страны менее 1%",
          "Страны менее 1%",
          "Страны менее 1%",
          "Бразилия",
          "Страны менее 1%",
          "Страны менее 1%",
          "Страны менее 1%",
          "Страны менее 1%",
          "Великобритания",
          "Страны менее 1%",
          "Страны менее 1%",
          "Страны менее 1%",
          "Страны менее 1%",
          "Страны менее 1%",
          "Страны менее 1%",
          "Страны менее 1%",
          "Страны менее 1%",
          "Страны менее 1%",
          "Страны менее 1%",
          "Страны менее 1%",
          "Страны менее 1%",
          "Германия",
          "Страны менее 1%",
          "Страны менее 1%",
          "Страны менее 1%",
          "Страны менее 1%",
          "Страны менее 1%",
          "Страны менее 1%",
          "Страны менее 1%",
          "Страны менее 1%",
          "Страны менее 1%",
          "Страны менее 1%",
          "Страны менее 1%",
          "Страны менее 1%",
          "Страны менее 1%",
          "Страны менее 1%",
          "Страны менее 1%",
          "Индия",
          "Страны менее 1%",
          "Страны менее 1%",
          "Страны менее 1%",
          "Иран",
          "Страны менее 1%",
          "Страны менее 1%",
          "Испания",
          "Италия",
          "Страны менее 1%",
          "Страны менее 1%",
          "Страны менее 1%",
          "Страны менее 1%",
          "Страны менее 1%",
          "Страны менее 1%",
          "Страны менее 1%",
          "Страны менее 1%",
          "Страны менее 1%",
          "Страны менее 1%",
          "Страны менее 1%",
          "Колумбия",
          "Страны менее 1%",
          "Страны менее 1%",
          "Страны менее 1%",
          "Страны менее 1%",
          "Страны менее 1%",
          "Страны менее 1%",
          "Страны менее 1%",
          "Страны менее 1%",
          "Страны менее 1%",
          "Страны менее 1%",
          "Страны менее 1%",
          "Страны менее 1%",
          "Страны менее 1%",
          "Страны менее 1%",
          "Страны менее 1%",
          "Страны менее 1%",
          "Страны менее 1%",
          "Страны менее 1%",
          "Страны менее 1%",
          "Страны менее 1%",
          "Страны менее 1%",
          "Страны менее 1%",
          "Страны менее 1%",
          "Страны менее 1%",
          "Мексика",
          "Страны менее 1%",
          "Страны менее 1%",
          "Страны менее 1%",
          "Страны менее 1%",
          "Страны менее 1%",
          "Страны менее 1%",
          "Страны менее 1%",
          "Страны менее 1%",
          "Страны менее 1%",
          "Страны менее 1%",
          "Страны менее 1%",
          "Страны менее 1%",
          "Страны менее 1%",
          "Страны менее 1%",
          "Страны менее 1%",
          "Пакистан",
          "Страны менее 1%",
          "Страны менее 1%",
          "Страны менее 1%",
          "Страны менее 1%",
          "Перу",
          "Страны менее 1%",
          "Страны менее 1%",
          "Страны менее 1%",
          "Россия",
          "Страны менее 1%",
          "Страны менее 1%",
          "США",
          "Страны менее 1%",
          "Страны менее 1%",
          "Страны менее 1%",
          "Саудовская Аравия",
          "Страны менее 1%",
          "Страны менее 1%",
          "Страны менее 1%",
          "Страны менее 1%",
          "Страны менее 1%",
          "Страны менее 1%",
          "Страны менее 1%",
          "Страны менее 1%",
          "Страны менее 1%",
          "Страны менее 1%",
          "Страны менее 1%",
          "Страны менее 1%",
          "Страны менее 1%",
          "Страны менее 1%",
          "Страны менее 1%",
          "Страны менее 1%",
          "Страны менее 1%",
          "Страны менее 1%",
          "Страны менее 1%",
          "Страны менее 1%",
          "Страны менее 1%",
          "Страны менее 1%",
          "Страны менее 1%",
          "Турция",
          "Страны менее 1%",
          "Страны менее 1%",
          "Страны менее 1%",
          "Страны менее 1%",
          "Страны менее 1%",
          "Страны менее 1%",
          "Страны менее 1%",
          "Франция",
          "Страны менее 1%",
          "Страны менее 1%",
          "Страны менее 1%",
          "Страны менее 1%",
          "Страны менее 1%",
          "Чили",
          "Страны менее 1%",
          "Страны менее 1%",
          "Страны менее 1%",
          "Страны менее 1%",
          "Страны менее 1%",
          "Страны менее 1%",
          "Страны менее 1%",
          "Страны менее 1%",
          "Страны менее 1%",
          "ЮАР",
          "Страны менее 1%",
          "Страны менее 1%",
          "Страны менее 1%",
          "Страны менее 1%"
         ],
         "legendgroup": "",
         "name": "",
         "showlegend": true,
         "textinfo": "percent+label",
         "type": "pie",
         "values": [
          21397,
          22033,
          33568,
          6411,
          35160,
          1672,
          955,
          92,
          246499,
          40410,
          37054,
          898,
          257600,
          142,
          44011,
          68850,
          153,
          74152,
          1936,
          13396,
          89999,
          13687,
          804,
          3035422,
          142,
          1175,
          408,
          110,
          312574,
          4696,
          25805,
          25,
          841,
          7923,
          7634,
          568,
          1235,
          41003,
          56605,
          7930,
          2052,
          217288,
          47454,
          24,
          5623,
          1225,
          9454,
          14759,
          5344,
          18,
          79732,
          95492,
          8085,
          10,
          14208,
          4649,
          83002,
          2215074,
          125396,
          1252,
          150115,
          326712,
          26712,
          1958,
          314362,
          250566,
          1804,
          2858,
          99442,
          251,
          18042,
          121367,
          112947,
          26436,
          1242,
          39919,
          89270,
          387481,
          399,
          9869,
          23286,
          16715,
          2953,
          71713,
          20,
          1290,
          742,
          1237,
          6517,
          5451,
          2252,
          89,
          7205,
          344,
          6523,
          13086,
          4658,
          9083,
          2567,
          5041,
          1089,
          33237,
          480278,
          2269,
          27660,
          133,
          293,
          360,
          2949,
          22972,
          1158,
          46577,
          59360,
          3902,
          1569,
          9638,
          62525,
          81580,
          284121,
          74492,
          12,
          214,
          6907,
          478024,
          51791,
          52668,
          3664,
          885718,
          2140,
          61768,
          5044864,
          20423,
          699,
          878,
          288690,
          11839,
          126,
          11175,
          57,
          17,
          25,
          28099,
          55104,
          1188,
          2596,
          2249,
          3227,
          11956,
          712,
          9,
          2391,
          1916,
          7745,
          3351,
          509,
          1060,
          279,
          1697,
          240804,
          1283,
          30609,
          82767,
          1353,
          27,
          129913,
          7584,
          235237,
          5604,
          4641,
          944,
          3618,
          18353,
          373056,
          36603,
          82323,
          2844,
          94459,
          4821,
          285,
          3236,
          2152,
          22818,
          559859,
          14626,
          2470,
          1023,
          48782
         ]
        }
       ],
       "layout": {
        "height": 1000,
        "legend": {
         "tracegroupgap": 0
        },
        "margin": {
         "b": 0,
         "t": 150
        },
        "piecolorway": [
         "rgb(150,0,90)",
         "rgb(0,0,200)",
         "rgb(0,25,255)",
         "rgb(0,152,255)",
         "rgb(44,255,150)",
         "rgb(151,255,0)",
         "rgb(255,234,0)",
         "rgb(255,111,0)",
         "rgb(255,0,0)"
        ],
        "template": {
         "data": {
          "bar": [
           {
            "error_x": {
             "color": "#2a3f5f"
            },
            "error_y": {
             "color": "#2a3f5f"
            },
            "marker": {
             "line": {
              "color": "#E5ECF6",
              "width": 0.5
             }
            },
            "type": "bar"
           }
          ],
          "barpolar": [
           {
            "marker": {
             "line": {
              "color": "#E5ECF6",
              "width": 0.5
             }
            },
            "type": "barpolar"
           }
          ],
          "carpet": [
           {
            "aaxis": {
             "endlinecolor": "#2a3f5f",
             "gridcolor": "white",
             "linecolor": "white",
             "minorgridcolor": "white",
             "startlinecolor": "#2a3f5f"
            },
            "baxis": {
             "endlinecolor": "#2a3f5f",
             "gridcolor": "white",
             "linecolor": "white",
             "minorgridcolor": "white",
             "startlinecolor": "#2a3f5f"
            },
            "type": "carpet"
           }
          ],
          "choropleth": [
           {
            "colorbar": {
             "outlinewidth": 0,
             "ticks": ""
            },
            "type": "choropleth"
           }
          ],
          "contour": [
           {
            "colorbar": {
             "outlinewidth": 0,
             "ticks": ""
            },
            "colorscale": [
             [
              0,
              "#0d0887"
             ],
             [
              0.1111111111111111,
              "#46039f"
             ],
             [
              0.2222222222222222,
              "#7201a8"
             ],
             [
              0.3333333333333333,
              "#9c179e"
             ],
             [
              0.4444444444444444,
              "#bd3786"
             ],
             [
              0.5555555555555556,
              "#d8576b"
             ],
             [
              0.6666666666666666,
              "#ed7953"
             ],
             [
              0.7777777777777778,
              "#fb9f3a"
             ],
             [
              0.8888888888888888,
              "#fdca26"
             ],
             [
              1,
              "#f0f921"
             ]
            ],
            "type": "contour"
           }
          ],
          "contourcarpet": [
           {
            "colorbar": {
             "outlinewidth": 0,
             "ticks": ""
            },
            "type": "contourcarpet"
           }
          ],
          "heatmap": [
           {
            "colorbar": {
             "outlinewidth": 0,
             "ticks": ""
            },
            "colorscale": [
             [
              0,
              "#0d0887"
             ],
             [
              0.1111111111111111,
              "#46039f"
             ],
             [
              0.2222222222222222,
              "#7201a8"
             ],
             [
              0.3333333333333333,
              "#9c179e"
             ],
             [
              0.4444444444444444,
              "#bd3786"
             ],
             [
              0.5555555555555556,
              "#d8576b"
             ],
             [
              0.6666666666666666,
              "#ed7953"
             ],
             [
              0.7777777777777778,
              "#fb9f3a"
             ],
             [
              0.8888888888888888,
              "#fdca26"
             ],
             [
              1,
              "#f0f921"
             ]
            ],
            "type": "heatmap"
           }
          ],
          "heatmapgl": [
           {
            "colorbar": {
             "outlinewidth": 0,
             "ticks": ""
            },
            "colorscale": [
             [
              0,
              "#0d0887"
             ],
             [
              0.1111111111111111,
              "#46039f"
             ],
             [
              0.2222222222222222,
              "#7201a8"
             ],
             [
              0.3333333333333333,
              "#9c179e"
             ],
             [
              0.4444444444444444,
              "#bd3786"
             ],
             [
              0.5555555555555556,
              "#d8576b"
             ],
             [
              0.6666666666666666,
              "#ed7953"
             ],
             [
              0.7777777777777778,
              "#fb9f3a"
             ],
             [
              0.8888888888888888,
              "#fdca26"
             ],
             [
              1,
              "#f0f921"
             ]
            ],
            "type": "heatmapgl"
           }
          ],
          "histogram": [
           {
            "marker": {
             "colorbar": {
              "outlinewidth": 0,
              "ticks": ""
             }
            },
            "type": "histogram"
           }
          ],
          "histogram2d": [
           {
            "colorbar": {
             "outlinewidth": 0,
             "ticks": ""
            },
            "colorscale": [
             [
              0,
              "#0d0887"
             ],
             [
              0.1111111111111111,
              "#46039f"
             ],
             [
              0.2222222222222222,
              "#7201a8"
             ],
             [
              0.3333333333333333,
              "#9c179e"
             ],
             [
              0.4444444444444444,
              "#bd3786"
             ],
             [
              0.5555555555555556,
              "#d8576b"
             ],
             [
              0.6666666666666666,
              "#ed7953"
             ],
             [
              0.7777777777777778,
              "#fb9f3a"
             ],
             [
              0.8888888888888888,
              "#fdca26"
             ],
             [
              1,
              "#f0f921"
             ]
            ],
            "type": "histogram2d"
           }
          ],
          "histogram2dcontour": [
           {
            "colorbar": {
             "outlinewidth": 0,
             "ticks": ""
            },
            "colorscale": [
             [
              0,
              "#0d0887"
             ],
             [
              0.1111111111111111,
              "#46039f"
             ],
             [
              0.2222222222222222,
              "#7201a8"
             ],
             [
              0.3333333333333333,
              "#9c179e"
             ],
             [
              0.4444444444444444,
              "#bd3786"
             ],
             [
              0.5555555555555556,
              "#d8576b"
             ],
             [
              0.6666666666666666,
              "#ed7953"
             ],
             [
              0.7777777777777778,
              "#fb9f3a"
             ],
             [
              0.8888888888888888,
              "#fdca26"
             ],
             [
              1,
              "#f0f921"
             ]
            ],
            "type": "histogram2dcontour"
           }
          ],
          "mesh3d": [
           {
            "colorbar": {
             "outlinewidth": 0,
             "ticks": ""
            },
            "type": "mesh3d"
           }
          ],
          "parcoords": [
           {
            "line": {
             "colorbar": {
              "outlinewidth": 0,
              "ticks": ""
             }
            },
            "type": "parcoords"
           }
          ],
          "pie": [
           {
            "automargin": true,
            "type": "pie"
           }
          ],
          "scatter": [
           {
            "marker": {
             "colorbar": {
              "outlinewidth": 0,
              "ticks": ""
             }
            },
            "type": "scatter"
           }
          ],
          "scatter3d": [
           {
            "line": {
             "colorbar": {
              "outlinewidth": 0,
              "ticks": ""
             }
            },
            "marker": {
             "colorbar": {
              "outlinewidth": 0,
              "ticks": ""
             }
            },
            "type": "scatter3d"
           }
          ],
          "scattercarpet": [
           {
            "marker": {
             "colorbar": {
              "outlinewidth": 0,
              "ticks": ""
             }
            },
            "type": "scattercarpet"
           }
          ],
          "scattergeo": [
           {
            "marker": {
             "colorbar": {
              "outlinewidth": 0,
              "ticks": ""
             }
            },
            "type": "scattergeo"
           }
          ],
          "scattergl": [
           {
            "marker": {
             "colorbar": {
              "outlinewidth": 0,
              "ticks": ""
             }
            },
            "type": "scattergl"
           }
          ],
          "scattermapbox": [
           {
            "marker": {
             "colorbar": {
              "outlinewidth": 0,
              "ticks": ""
             }
            },
            "type": "scattermapbox"
           }
          ],
          "scatterpolar": [
           {
            "marker": {
             "colorbar": {
              "outlinewidth": 0,
              "ticks": ""
             }
            },
            "type": "scatterpolar"
           }
          ],
          "scatterpolargl": [
           {
            "marker": {
             "colorbar": {
              "outlinewidth": 0,
              "ticks": ""
             }
            },
            "type": "scatterpolargl"
           }
          ],
          "scatterternary": [
           {
            "marker": {
             "colorbar": {
              "outlinewidth": 0,
              "ticks": ""
             }
            },
            "type": "scatterternary"
           }
          ],
          "surface": [
           {
            "colorbar": {
             "outlinewidth": 0,
             "ticks": ""
            },
            "colorscale": [
             [
              0,
              "#0d0887"
             ],
             [
              0.1111111111111111,
              "#46039f"
             ],
             [
              0.2222222222222222,
              "#7201a8"
             ],
             [
              0.3333333333333333,
              "#9c179e"
             ],
             [
              0.4444444444444444,
              "#bd3786"
             ],
             [
              0.5555555555555556,
              "#d8576b"
             ],
             [
              0.6666666666666666,
              "#ed7953"
             ],
             [
              0.7777777777777778,
              "#fb9f3a"
             ],
             [
              0.8888888888888888,
              "#fdca26"
             ],
             [
              1,
              "#f0f921"
             ]
            ],
            "type": "surface"
           }
          ],
          "table": [
           {
            "cells": {
             "fill": {
              "color": "#EBF0F8"
             },
             "line": {
              "color": "white"
             }
            },
            "header": {
             "fill": {
              "color": "#C8D4E3"
             },
             "line": {
              "color": "white"
             }
            },
            "type": "table"
           }
          ]
         },
         "layout": {
          "annotationdefaults": {
           "arrowcolor": "#2a3f5f",
           "arrowhead": 0,
           "arrowwidth": 1
          },
          "coloraxis": {
           "colorbar": {
            "outlinewidth": 0,
            "ticks": ""
           }
          },
          "colorscale": {
           "diverging": [
            [
             0,
             "#8e0152"
            ],
            [
             0.1,
             "#c51b7d"
            ],
            [
             0.2,
             "#de77ae"
            ],
            [
             0.3,
             "#f1b6da"
            ],
            [
             0.4,
             "#fde0ef"
            ],
            [
             0.5,
             "#f7f7f7"
            ],
            [
             0.6,
             "#e6f5d0"
            ],
            [
             0.7,
             "#b8e186"
            ],
            [
             0.8,
             "#7fbc41"
            ],
            [
             0.9,
             "#4d9221"
            ],
            [
             1,
             "#276419"
            ]
           ],
           "sequential": [
            [
             0,
             "#0d0887"
            ],
            [
             0.1111111111111111,
             "#46039f"
            ],
            [
             0.2222222222222222,
             "#7201a8"
            ],
            [
             0.3333333333333333,
             "#9c179e"
            ],
            [
             0.4444444444444444,
             "#bd3786"
            ],
            [
             0.5555555555555556,
             "#d8576b"
            ],
            [
             0.6666666666666666,
             "#ed7953"
            ],
            [
             0.7777777777777778,
             "#fb9f3a"
            ],
            [
             0.8888888888888888,
             "#fdca26"
            ],
            [
             1,
             "#f0f921"
            ]
           ],
           "sequentialminus": [
            [
             0,
             "#0d0887"
            ],
            [
             0.1111111111111111,
             "#46039f"
            ],
            [
             0.2222222222222222,
             "#7201a8"
            ],
            [
             0.3333333333333333,
             "#9c179e"
            ],
            [
             0.4444444444444444,
             "#bd3786"
            ],
            [
             0.5555555555555556,
             "#d8576b"
            ],
            [
             0.6666666666666666,
             "#ed7953"
            ],
            [
             0.7777777777777778,
             "#fb9f3a"
            ],
            [
             0.8888888888888888,
             "#fdca26"
            ],
            [
             1,
             "#f0f921"
            ]
           ]
          },
          "colorway": [
           "#636efa",
           "#EF553B",
           "#00cc96",
           "#ab63fa",
           "#FFA15A",
           "#19d3f3",
           "#FF6692",
           "#B6E880",
           "#FF97FF",
           "#FECB52"
          ],
          "font": {
           "color": "#2a3f5f"
          },
          "geo": {
           "bgcolor": "white",
           "lakecolor": "white",
           "landcolor": "#E5ECF6",
           "showlakes": true,
           "showland": true,
           "subunitcolor": "white"
          },
          "hoverlabel": {
           "align": "left"
          },
          "hovermode": "closest",
          "mapbox": {
           "style": "light"
          },
          "paper_bgcolor": "white",
          "plot_bgcolor": "#E5ECF6",
          "polar": {
           "angularaxis": {
            "gridcolor": "white",
            "linecolor": "white",
            "ticks": ""
           },
           "bgcolor": "#E5ECF6",
           "radialaxis": {
            "gridcolor": "white",
            "linecolor": "white",
            "ticks": ""
           }
          },
          "scene": {
           "xaxis": {
            "backgroundcolor": "#E5ECF6",
            "gridcolor": "white",
            "gridwidth": 2,
            "linecolor": "white",
            "showbackground": true,
            "ticks": "",
            "zerolinecolor": "white"
           },
           "yaxis": {
            "backgroundcolor": "#E5ECF6",
            "gridcolor": "white",
            "gridwidth": 2,
            "linecolor": "white",
            "showbackground": true,
            "ticks": "",
            "zerolinecolor": "white"
           },
           "zaxis": {
            "backgroundcolor": "#E5ECF6",
            "gridcolor": "white",
            "gridwidth": 2,
            "linecolor": "white",
            "showbackground": true,
            "ticks": "",
            "zerolinecolor": "white"
           }
          },
          "shapedefaults": {
           "line": {
            "color": "#2a3f5f"
           }
          },
          "ternary": {
           "aaxis": {
            "gridcolor": "white",
            "linecolor": "white",
            "ticks": ""
           },
           "baxis": {
            "gridcolor": "white",
            "linecolor": "white",
            "ticks": ""
           },
           "bgcolor": "#E5ECF6",
           "caxis": {
            "gridcolor": "white",
            "linecolor": "white",
            "ticks": ""
           }
          },
          "title": {
           "x": 0.05
          },
          "xaxis": {
           "automargin": true,
           "gridcolor": "white",
           "linecolor": "white",
           "ticks": "",
           "title": {
            "standoff": 15
           },
           "zerolinecolor": "white",
           "zerolinewidth": 2
          },
          "yaxis": {
           "automargin": true,
           "gridcolor": "white",
           "linecolor": "white",
           "ticks": "",
           "title": {
            "standoff": 15
           },
           "zerolinecolor": "white",
           "zerolinewidth": 2
          }
         }
        },
        "title": {
         "text": "Всего выявленных случаев заболевания COVID-19 в мире: 19861683<br>(на дату: 2020-08-09)",
         "x": 0.5,
         "xanchor": "center",
         "y": 0.9,
         "yanchor": "bottom"
        },
        "width": 990
       }
      }
     },
     "metadata": {}
    }
   ],
   "source": [
    "\n",
    "\n",
    "\n",
    "fig = px.pie(df2, values='Confirmed', names='Country',color_discrete_sequence=px.colors.sequential.Rainbow,\n",
    "            title=f'Всего выявленных случаев заболевания COVID-19 в мире: {df2.Confirmed.sum()}<br>'+\n",
    "            f'(на дату: {myday})'\n",
    "            ,\n",
    "            width = 990, height=1000)\n",
    "\n",
    "fig.update_traces(textinfo='percent+label')\n",
    "fig.update_layout(\n",
    "        \n",
    "                #  title=f'{my_region}: динамика текущих больных COVID-19 по дням<br>(изменение относительно предыдущего дня)',\n",
    "                  margin = {'t':150, 'b':0},\n",
    "                  title_x = 0.5,\n",
    "                  title_y= 0.9,\n",
    "                  title_xanchor = \"center\",\n",
    "                  title_yanchor = \"bottom\", \n",
    "                 # legend_x = 0.05,legend_y = 0.98,\n",
    "                     \n",
    ")\n",
    "\n",
    "fig.show()\n",
    "\n"
   ]
  },
  {
   "cell_type": "code",
   "execution_count": 28,
   "metadata": {
    "tags": []
   },
   "outputs": [
    {
     "output_type": "stream",
     "name": "stdout",
     "text": "187\n"
    },
    {
     "output_type": "execute_result",
     "data": {
      "text/plain": "             Date  Confirmed  Recovered  Deaths  Day_confirmed  Day_recovered  \\\n26531  2020-08-09    5044864    1656864  162938          46935          13746   \n11858  2020-08-09    2215074    1535743   44386          62064          54859   \n4823   2020-08-09    3035422    2356983  101049          23010          35446   \n5828   2020-08-09     312574       1451   46659           1113              2   \n25928  2020-08-09     885718     692059   14903           5155           3203   \n15878  2020-08-09     387481     212688   12842          10611           8097   \n36983  2020-08-09     559859     411474   10408           6671           6906   \n13265  2020-08-09     314362     150376   28503              0              0   \n1808   2020-08-09     246499     108242    4606           4688              0   \n25124  2020-08-09     478024     324020   21072          14149           4849   \n33767  2020-08-09     235237      82971   30327             29              3   \n2612   2020-08-09     257600     148370    3399           2487           1766   \n35375  2020-08-09      82323          0    5763              0              0   \n33365  2020-08-09     129913      67673    2270           3028            556   \n4220   2020-08-09      89999      29808    3640            944            904   \n22913  2020-08-09      59360        237    6178            643              0   \n3617   2020-08-09      74152      17780    9872            751             14   \n20903  2020-08-09     480278     384432   52298           4376           7307   \n8843   2020-08-09      47454       6597    1495            481            169   \n12059  2020-08-09     125396      80952    5723           1893           1646   \n\n       Day_deaths     Rt    Rt2  Rate_conf   Rate_ill         Country  \\\n26531         515  1.087  1.047  25.399982  45.976866             США   \n11858        1007  1.172  1.126  11.152499   9.051851           Индия   \n4823          572  1.166  1.070  15.282804   8.231340        Бразилия   \n5828            8  1.144  1.012   1.573754   3.770230  Великобритания   \n25928          76  0.986  1.024   4.459431   2.548367          Россия   \n15878         302  1.057  1.123   1.950897   2.308793        Колумбия   \n36983         198  1.128  1.056   2.818789   1.967016             ЮАР   \n13265           0  0.498  1.049   1.582756   1.931462         Испания   \n1808           83  1.070  1.130   1.241078   1.905345       Аргентина   \n25124         423  0.758  1.064   2.406765   1.895094            Перу   \n33767           0  1.972  1.032   1.184376   1.738377         Франция   \n2612           34  1.603  1.042   1.296970   1.508739       Бангладеш   \n35375           0  0.700  1.015   0.414481   1.091448          Швеция   \n33365          61  0.785  1.139   0.654089   0.854939       Филиппины   \n4220           53  0.765  1.069   0.453129   0.806198         Боливия   \n22913           0  1.510  1.042   0.298867   0.754790      Нидерланды   \n3617            2  1.705  1.037   0.373342   0.662910         Бельгия   \n20903         292  1.104  1.056   2.418113   0.620825         Мексика   \n8843           19  0.976  1.058   0.238922   0.561149        Гондурас   \n12059          65  1.229  1.071   0.631346   0.552011       Индонезия   \n\n       Remaining_ill  MA7_dayconfirmed  MA14_dayconfirmed  MA7_remaining_ill  \\\n26531        3225062      53813.142857       57924.357143       3.130662e+06   \n11858         634945      58768.428571       55675.571429       6.083153e+05   \n4823          577390      43106.428571       44023.642857       5.740410e+05   \n5828          264464        895.000000         825.285714       2.618491e+05   \n25928         178756       5205.857143        5331.785714       1.815110e+05   \n15878         161951       9975.714286        9893.214286       1.522643e+05   \n36983         137977       6910.571429        8173.285714       1.429630e+05   \n13265         135483       3691.428571        2995.785714       1.294951e+05   \n1808          133651       6368.571429        5998.071429       1.230630e+05   \n25124         132932       7024.857143        7290.214286       1.234456e+05   \n33767         121939       1434.142857        1245.428571       1.185480e+05   \n2612          105831       2407.714286        2439.071429       1.029539e+05   \n35375          76560        271.571429         237.571429       7.605186e+04   \n33365          59970       3818.285714        3533.214286       5.030814e+04   \n4220           56551       1406.571429        1469.285714       5.557229e+04   \n22913          52945        564.571429         434.428571       5.109886e+04   \n3617           46500        614.714286         580.428571       4.451014e+04   \n20903          43548       5890.285714        6411.571429       4.511771e+04   \n8843           39362        608.142857         584.142857       3.802186e+04   \n12059          38721       1991.571429        1901.285714       3.795229e+04   \n\n       MA14_remaining_ill  Change_dayconf  Change_remill  \n26531        3.029462e+06           -9239          32674  \n11858        5.747354e+05           -2335           6198  \n4823         5.619894e+05          -26960         -13008  \n5828         2.591264e+05             348           1103  \n25928        1.866134e+05             -30           1876  \n15878        1.401353e+05             945           2212  \n36983        1.524614e+05           -1041           -433  \n13265        1.176981e+05               0              0  \n1808         1.119412e+05           -1446           4605  \n25124        1.131097e+05           14149           8877  \n33767        1.148339e+05              28             26  \n2612         1.010986e+05            -124            687  \n35375        7.516429e+04               0              0  \n33365        4.517286e+04           -1103           2411  \n4220         5.255629e+04            -220            -13  \n22913        4.952671e+04              43            643  \n3617         4.260721e+04             134            735  \n20903        4.737500e+04           -2119          -3223  \n8843         3.640564e+04            -127            293  \n12059        3.752000e+04            -384            182  ",
      "text/html": "<div>\n<style scoped>\n    .dataframe tbody tr th:only-of-type {\n        vertical-align: middle;\n    }\n\n    .dataframe tbody tr th {\n        vertical-align: top;\n    }\n\n    .dataframe thead th {\n        text-align: right;\n    }\n</style>\n<table border=\"1\" class=\"dataframe\">\n  <thead>\n    <tr style=\"text-align: right;\">\n      <th></th>\n      <th>Date</th>\n      <th>Confirmed</th>\n      <th>Recovered</th>\n      <th>Deaths</th>\n      <th>Day_confirmed</th>\n      <th>Day_recovered</th>\n      <th>Day_deaths</th>\n      <th>Rt</th>\n      <th>Rt2</th>\n      <th>Rate_conf</th>\n      <th>Rate_ill</th>\n      <th>Country</th>\n      <th>Remaining_ill</th>\n      <th>MA7_dayconfirmed</th>\n      <th>MA14_dayconfirmed</th>\n      <th>MA7_remaining_ill</th>\n      <th>MA14_remaining_ill</th>\n      <th>Change_dayconf</th>\n      <th>Change_remill</th>\n    </tr>\n  </thead>\n  <tbody>\n    <tr>\n      <th>26531</th>\n      <td>2020-08-09</td>\n      <td>5044864</td>\n      <td>1656864</td>\n      <td>162938</td>\n      <td>46935</td>\n      <td>13746</td>\n      <td>515</td>\n      <td>1.087</td>\n      <td>1.047</td>\n      <td>25.399982</td>\n      <td>45.976866</td>\n      <td>США</td>\n      <td>3225062</td>\n      <td>53813.142857</td>\n      <td>57924.357143</td>\n      <td>3.130662e+06</td>\n      <td>3.029462e+06</td>\n      <td>-9239</td>\n      <td>32674</td>\n    </tr>\n    <tr>\n      <th>11858</th>\n      <td>2020-08-09</td>\n      <td>2215074</td>\n      <td>1535743</td>\n      <td>44386</td>\n      <td>62064</td>\n      <td>54859</td>\n      <td>1007</td>\n      <td>1.172</td>\n      <td>1.126</td>\n      <td>11.152499</td>\n      <td>9.051851</td>\n      <td>Индия</td>\n      <td>634945</td>\n      <td>58768.428571</td>\n      <td>55675.571429</td>\n      <td>6.083153e+05</td>\n      <td>5.747354e+05</td>\n      <td>-2335</td>\n      <td>6198</td>\n    </tr>\n    <tr>\n      <th>4823</th>\n      <td>2020-08-09</td>\n      <td>3035422</td>\n      <td>2356983</td>\n      <td>101049</td>\n      <td>23010</td>\n      <td>35446</td>\n      <td>572</td>\n      <td>1.166</td>\n      <td>1.070</td>\n      <td>15.282804</td>\n      <td>8.231340</td>\n      <td>Бразилия</td>\n      <td>577390</td>\n      <td>43106.428571</td>\n      <td>44023.642857</td>\n      <td>5.740410e+05</td>\n      <td>5.619894e+05</td>\n      <td>-26960</td>\n      <td>-13008</td>\n    </tr>\n    <tr>\n      <th>5828</th>\n      <td>2020-08-09</td>\n      <td>312574</td>\n      <td>1451</td>\n      <td>46659</td>\n      <td>1113</td>\n      <td>2</td>\n      <td>8</td>\n      <td>1.144</td>\n      <td>1.012</td>\n      <td>1.573754</td>\n      <td>3.770230</td>\n      <td>Великобритания</td>\n      <td>264464</td>\n      <td>895.000000</td>\n      <td>825.285714</td>\n      <td>2.618491e+05</td>\n      <td>2.591264e+05</td>\n      <td>348</td>\n      <td>1103</td>\n    </tr>\n    <tr>\n      <th>25928</th>\n      <td>2020-08-09</td>\n      <td>885718</td>\n      <td>692059</td>\n      <td>14903</td>\n      <td>5155</td>\n      <td>3203</td>\n      <td>76</td>\n      <td>0.986</td>\n      <td>1.024</td>\n      <td>4.459431</td>\n      <td>2.548367</td>\n      <td>Россия</td>\n      <td>178756</td>\n      <td>5205.857143</td>\n      <td>5331.785714</td>\n      <td>1.815110e+05</td>\n      <td>1.866134e+05</td>\n      <td>-30</td>\n      <td>1876</td>\n    </tr>\n    <tr>\n      <th>15878</th>\n      <td>2020-08-09</td>\n      <td>387481</td>\n      <td>212688</td>\n      <td>12842</td>\n      <td>10611</td>\n      <td>8097</td>\n      <td>302</td>\n      <td>1.057</td>\n      <td>1.123</td>\n      <td>1.950897</td>\n      <td>2.308793</td>\n      <td>Колумбия</td>\n      <td>161951</td>\n      <td>9975.714286</td>\n      <td>9893.214286</td>\n      <td>1.522643e+05</td>\n      <td>1.401353e+05</td>\n      <td>945</td>\n      <td>2212</td>\n    </tr>\n    <tr>\n      <th>36983</th>\n      <td>2020-08-09</td>\n      <td>559859</td>\n      <td>411474</td>\n      <td>10408</td>\n      <td>6671</td>\n      <td>6906</td>\n      <td>198</td>\n      <td>1.128</td>\n      <td>1.056</td>\n      <td>2.818789</td>\n      <td>1.967016</td>\n      <td>ЮАР</td>\n      <td>137977</td>\n      <td>6910.571429</td>\n      <td>8173.285714</td>\n      <td>1.429630e+05</td>\n      <td>1.524614e+05</td>\n      <td>-1041</td>\n      <td>-433</td>\n    </tr>\n    <tr>\n      <th>13265</th>\n      <td>2020-08-09</td>\n      <td>314362</td>\n      <td>150376</td>\n      <td>28503</td>\n      <td>0</td>\n      <td>0</td>\n      <td>0</td>\n      <td>0.498</td>\n      <td>1.049</td>\n      <td>1.582756</td>\n      <td>1.931462</td>\n      <td>Испания</td>\n      <td>135483</td>\n      <td>3691.428571</td>\n      <td>2995.785714</td>\n      <td>1.294951e+05</td>\n      <td>1.176981e+05</td>\n      <td>0</td>\n      <td>0</td>\n    </tr>\n    <tr>\n      <th>1808</th>\n      <td>2020-08-09</td>\n      <td>246499</td>\n      <td>108242</td>\n      <td>4606</td>\n      <td>4688</td>\n      <td>0</td>\n      <td>83</td>\n      <td>1.070</td>\n      <td>1.130</td>\n      <td>1.241078</td>\n      <td>1.905345</td>\n      <td>Аргентина</td>\n      <td>133651</td>\n      <td>6368.571429</td>\n      <td>5998.071429</td>\n      <td>1.230630e+05</td>\n      <td>1.119412e+05</td>\n      <td>-1446</td>\n      <td>4605</td>\n    </tr>\n    <tr>\n      <th>25124</th>\n      <td>2020-08-09</td>\n      <td>478024</td>\n      <td>324020</td>\n      <td>21072</td>\n      <td>14149</td>\n      <td>4849</td>\n      <td>423</td>\n      <td>0.758</td>\n      <td>1.064</td>\n      <td>2.406765</td>\n      <td>1.895094</td>\n      <td>Перу</td>\n      <td>132932</td>\n      <td>7024.857143</td>\n      <td>7290.214286</td>\n      <td>1.234456e+05</td>\n      <td>1.131097e+05</td>\n      <td>14149</td>\n      <td>8877</td>\n    </tr>\n    <tr>\n      <th>33767</th>\n      <td>2020-08-09</td>\n      <td>235237</td>\n      <td>82971</td>\n      <td>30327</td>\n      <td>29</td>\n      <td>3</td>\n      <td>0</td>\n      <td>1.972</td>\n      <td>1.032</td>\n      <td>1.184376</td>\n      <td>1.738377</td>\n      <td>Франция</td>\n      <td>121939</td>\n      <td>1434.142857</td>\n      <td>1245.428571</td>\n      <td>1.185480e+05</td>\n      <td>1.148339e+05</td>\n      <td>28</td>\n      <td>26</td>\n    </tr>\n    <tr>\n      <th>2612</th>\n      <td>2020-08-09</td>\n      <td>257600</td>\n      <td>148370</td>\n      <td>3399</td>\n      <td>2487</td>\n      <td>1766</td>\n      <td>34</td>\n      <td>1.603</td>\n      <td>1.042</td>\n      <td>1.296970</td>\n      <td>1.508739</td>\n      <td>Бангладеш</td>\n      <td>105831</td>\n      <td>2407.714286</td>\n      <td>2439.071429</td>\n      <td>1.029539e+05</td>\n      <td>1.010986e+05</td>\n      <td>-124</td>\n      <td>687</td>\n    </tr>\n    <tr>\n      <th>35375</th>\n      <td>2020-08-09</td>\n      <td>82323</td>\n      <td>0</td>\n      <td>5763</td>\n      <td>0</td>\n      <td>0</td>\n      <td>0</td>\n      <td>0.700</td>\n      <td>1.015</td>\n      <td>0.414481</td>\n      <td>1.091448</td>\n      <td>Швеция</td>\n      <td>76560</td>\n      <td>271.571429</td>\n      <td>237.571429</td>\n      <td>7.605186e+04</td>\n      <td>7.516429e+04</td>\n      <td>0</td>\n      <td>0</td>\n    </tr>\n    <tr>\n      <th>33365</th>\n      <td>2020-08-09</td>\n      <td>129913</td>\n      <td>67673</td>\n      <td>2270</td>\n      <td>3028</td>\n      <td>556</td>\n      <td>61</td>\n      <td>0.785</td>\n      <td>1.139</td>\n      <td>0.654089</td>\n      <td>0.854939</td>\n      <td>Филиппины</td>\n      <td>59970</td>\n      <td>3818.285714</td>\n      <td>3533.214286</td>\n      <td>5.030814e+04</td>\n      <td>4.517286e+04</td>\n      <td>-1103</td>\n      <td>2411</td>\n    </tr>\n    <tr>\n      <th>4220</th>\n      <td>2020-08-09</td>\n      <td>89999</td>\n      <td>29808</td>\n      <td>3640</td>\n      <td>944</td>\n      <td>904</td>\n      <td>53</td>\n      <td>0.765</td>\n      <td>1.069</td>\n      <td>0.453129</td>\n      <td>0.806198</td>\n      <td>Боливия</td>\n      <td>56551</td>\n      <td>1406.571429</td>\n      <td>1469.285714</td>\n      <td>5.557229e+04</td>\n      <td>5.255629e+04</td>\n      <td>-220</td>\n      <td>-13</td>\n    </tr>\n    <tr>\n      <th>22913</th>\n      <td>2020-08-09</td>\n      <td>59360</td>\n      <td>237</td>\n      <td>6178</td>\n      <td>643</td>\n      <td>0</td>\n      <td>0</td>\n      <td>1.510</td>\n      <td>1.042</td>\n      <td>0.298867</td>\n      <td>0.754790</td>\n      <td>Нидерланды</td>\n      <td>52945</td>\n      <td>564.571429</td>\n      <td>434.428571</td>\n      <td>5.109886e+04</td>\n      <td>4.952671e+04</td>\n      <td>43</td>\n      <td>643</td>\n    </tr>\n    <tr>\n      <th>3617</th>\n      <td>2020-08-09</td>\n      <td>74152</td>\n      <td>17780</td>\n      <td>9872</td>\n      <td>751</td>\n      <td>14</td>\n      <td>2</td>\n      <td>1.705</td>\n      <td>1.037</td>\n      <td>0.373342</td>\n      <td>0.662910</td>\n      <td>Бельгия</td>\n      <td>46500</td>\n      <td>614.714286</td>\n      <td>580.428571</td>\n      <td>4.451014e+04</td>\n      <td>4.260721e+04</td>\n      <td>134</td>\n      <td>735</td>\n    </tr>\n    <tr>\n      <th>20903</th>\n      <td>2020-08-09</td>\n      <td>480278</td>\n      <td>384432</td>\n      <td>52298</td>\n      <td>4376</td>\n      <td>7307</td>\n      <td>292</td>\n      <td>1.104</td>\n      <td>1.056</td>\n      <td>2.418113</td>\n      <td>0.620825</td>\n      <td>Мексика</td>\n      <td>43548</td>\n      <td>5890.285714</td>\n      <td>6411.571429</td>\n      <td>4.511771e+04</td>\n      <td>4.737500e+04</td>\n      <td>-2119</td>\n      <td>-3223</td>\n    </tr>\n    <tr>\n      <th>8843</th>\n      <td>2020-08-09</td>\n      <td>47454</td>\n      <td>6597</td>\n      <td>1495</td>\n      <td>481</td>\n      <td>169</td>\n      <td>19</td>\n      <td>0.976</td>\n      <td>1.058</td>\n      <td>0.238922</td>\n      <td>0.561149</td>\n      <td>Гондурас</td>\n      <td>39362</td>\n      <td>608.142857</td>\n      <td>584.142857</td>\n      <td>3.802186e+04</td>\n      <td>3.640564e+04</td>\n      <td>-127</td>\n      <td>293</td>\n    </tr>\n    <tr>\n      <th>12059</th>\n      <td>2020-08-09</td>\n      <td>125396</td>\n      <td>80952</td>\n      <td>5723</td>\n      <td>1893</td>\n      <td>1646</td>\n      <td>65</td>\n      <td>1.229</td>\n      <td>1.071</td>\n      <td>0.631346</td>\n      <td>0.552011</td>\n      <td>Индонезия</td>\n      <td>38721</td>\n      <td>1991.571429</td>\n      <td>1901.285714</td>\n      <td>3.795229e+04</td>\n      <td>3.752000e+04</td>\n      <td>-384</td>\n      <td>182</td>\n    </tr>\n  </tbody>\n</table>\n</div>"
     },
     "metadata": {},
     "execution_count": 28
    }
   ],
   "source": [
    "mask = (X.Date==myday)&(X.Country !='Весь мир')\n",
    "#mask = (X.Date==myday)\n",
    "#Делаем выборку по доле регина в общих случаях выявления заболеваний по России\n",
    "df=X[mask].sort_values(by=['Rate_ill'],ascending = False)\n",
    "#Далее заменяем все имена если регион набрал менее 1% в общих случаях по России\n",
    "df2 = X[mask].reset_index(drop=True)\n",
    "print(len(df2))\n",
    "\n",
    "for i in range(len(df2)):\n",
    "    if df2.loc[i,'Rate_ill']<1:\n",
    "        df2.loc[i,'Country']='Страны менее 1%'\n",
    "df.head(20)"
   ]
  },
  {
   "cell_type": "code",
   "execution_count": 29,
   "metadata": {},
   "outputs": [
    {
     "output_type": "display_data",
     "data": {
      "application/vnd.plotly.v1+json": {
       "config": {
        "plotlyServerURL": "https://plot.ly"
       },
       "data": [
        {
         "domain": {
          "x": [
           0,
           1
          ],
          "y": [
           0,
           1
          ]
         },
         "hovertemplate": "Country=%{label}<br>Remaining_ill=%{value}<extra></extra>",
         "labels": [
          "Страны менее 1%",
          "Страны менее 1%",
          "Страны менее 1%",
          "Страны менее 1%",
          "Страны менее 1%",
          "Страны менее 1%",
          "Страны менее 1%",
          "Страны менее 1%",
          "Аргентина",
          "Страны менее 1%",
          "Страны менее 1%",
          "Страны менее 1%",
          "Бангладеш",
          "Страны менее 1%",
          "Страны менее 1%",
          "Страны менее 1%",
          "Страны менее 1%",
          "Страны менее 1%",
          "Страны менее 1%",
          "Страны менее 1%",
          "Страны менее 1%",
          "Страны менее 1%",
          "Страны менее 1%",
          "Бразилия",
          "Страны менее 1%",
          "Страны менее 1%",
          "Страны менее 1%",
          "Страны менее 1%",
          "Великобритания",
          "Страны менее 1%",
          "Страны менее 1%",
          "Страны менее 1%",
          "Страны менее 1%",
          "Страны менее 1%",
          "Страны менее 1%",
          "Страны менее 1%",
          "Страны менее 1%",
          "Страны менее 1%",
          "Страны менее 1%",
          "Страны менее 1%",
          "Страны менее 1%",
          "Страны менее 1%",
          "Страны менее 1%",
          "Страны менее 1%",
          "Страны менее 1%",
          "Страны менее 1%",
          "Страны менее 1%",
          "Страны менее 1%",
          "Страны менее 1%",
          "Страны менее 1%",
          "Страны менее 1%",
          "Страны менее 1%",
          "Страны менее 1%",
          "Страны менее 1%",
          "Страны менее 1%",
          "Страны менее 1%",
          "Страны менее 1%",
          "Индия",
          "Страны менее 1%",
          "Страны менее 1%",
          "Страны менее 1%",
          "Страны менее 1%",
          "Страны менее 1%",
          "Страны менее 1%",
          "Испания",
          "Страны менее 1%",
          "Страны менее 1%",
          "Страны менее 1%",
          "Страны менее 1%",
          "Страны менее 1%",
          "Страны менее 1%",
          "Страны менее 1%",
          "Страны менее 1%",
          "Страны менее 1%",
          "Страны менее 1%",
          "Страны менее 1%",
          "Страны менее 1%",
          "Колумбия",
          "Страны менее 1%",
          "Страны менее 1%",
          "Страны менее 1%",
          "Страны менее 1%",
          "Страны менее 1%",
          "Страны менее 1%",
          "Страны менее 1%",
          "Страны менее 1%",
          "Страны менее 1%",
          "Страны менее 1%",
          "Страны менее 1%",
          "Страны менее 1%",
          "Страны менее 1%",
          "Страны менее 1%",
          "Страны менее 1%",
          "Страны менее 1%",
          "Страны менее 1%",
          "Страны менее 1%",
          "Страны менее 1%",
          "Страны менее 1%",
          "Страны менее 1%",
          "Страны менее 1%",
          "Страны менее 1%",
          "Страны менее 1%",
          "Страны менее 1%",
          "Страны менее 1%",
          "Страны менее 1%",
          "Страны менее 1%",
          "Страны менее 1%",
          "Страны менее 1%",
          "Страны менее 1%",
          "Страны менее 1%",
          "Страны менее 1%",
          "Страны менее 1%",
          "Страны менее 1%",
          "Страны менее 1%",
          "Страны менее 1%",
          "Страны менее 1%",
          "Страны менее 1%",
          "Страны менее 1%",
          "Страны менее 1%",
          "Страны менее 1%",
          "Страны менее 1%",
          "Страны менее 1%",
          "Страны менее 1%",
          "Перу",
          "Страны менее 1%",
          "Страны менее 1%",
          "Страны менее 1%",
          "Россия",
          "Страны менее 1%",
          "Страны менее 1%",
          "США",
          "Страны менее 1%",
          "Страны менее 1%",
          "Страны менее 1%",
          "Страны менее 1%",
          "Страны менее 1%",
          "Страны менее 1%",
          "Страны менее 1%",
          "Страны менее 1%",
          "Страны менее 1%",
          "Страны менее 1%",
          "Страны менее 1%",
          "Страны менее 1%",
          "Страны менее 1%",
          "Страны менее 1%",
          "Страны менее 1%",
          "Страны менее 1%",
          "Страны менее 1%",
          "Страны менее 1%",
          "Страны менее 1%",
          "Страны менее 1%",
          "Страны менее 1%",
          "Страны менее 1%",
          "Страны менее 1%",
          "Страны менее 1%",
          "Страны менее 1%",
          "Страны менее 1%",
          "Страны менее 1%",
          "Страны менее 1%",
          "Страны менее 1%",
          "Страны менее 1%",
          "Страны менее 1%",
          "Страны менее 1%",
          "Страны менее 1%",
          "Страны менее 1%",
          "Страны менее 1%",
          "Франция",
          "Страны менее 1%",
          "Страны менее 1%",
          "Страны менее 1%",
          "Страны менее 1%",
          "Страны менее 1%",
          "Страны менее 1%",
          "Страны менее 1%",
          "Швеция",
          "Страны менее 1%",
          "Страны менее 1%",
          "Страны менее 1%",
          "Страны менее 1%",
          "Страны менее 1%",
          "Страны менее 1%",
          "Страны менее 1%",
          "ЮАР",
          "Страны менее 1%",
          "Страны менее 1%",
          "Страны менее 1%",
          "Страны менее 1%"
         ],
         "legendgroup": "",
         "name": "",
         "showlegend": true,
         "textinfo": "percent+label",
         "type": "pie",
         "values": [
          9208,
          1389,
          2714,
          2870,
          9352,
          1030,
          64,
          13,
          133651,
          7099,
          9782,
          779,
          105831,
          23,
          2882,
          3328,
          119,
          46500,
          298,
          5177,
          56551,
          5920,
          739,
          577390,
          1,
          147,
          92,
          14,
          264464,
          595,
          12226,
          1,
          433,
          2168,
          2469,
          357,
          991,
          2458,
          9796,
          982,
          1079,
          11303,
          39362,
          1,
          4064,
          208,
          906,
          1073,
          179,
          0,
          34679,
          37805,
          1152,
          1,
          6166,
          3108,
          24869,
          634945,
          38721,
          54,
          36948,
          23914,
          1576,
          114,
          135483,
          13263,
          376,
          740,
          25861,
          32,
          2327,
          6919,
          3054,
          13055,
          353,
          6629,
          2011,
          161951,
          23,
          4086,
          15321,
          3684,
          414,
          7716,
          1,
          188,
          544,
          435,
          4312,
          4631,
          501,
          3,
          1237,
          0,
          839,
          2122,
          2137,
          174,
          480,
          2218,
          396,
          9392,
          43548,
          1413,
          7515,
          16,
          30,
          42,
          2226,
          6544,
          32,
          12446,
          52945,
          866,
          21,
          525,
          5600,
          6376,
          17791,
          24105,
          0,
          158,
          1610,
          132932,
          13293,
          12401,
          2017,
          178756,
          787,
          28949,
          3225062,
          10248,
          0,
          63,
          33484,
          3648,
          1,
          3591,
          5,
          1,
          1,
          27458,
          6162,
          790,
          701,
          195,
          1406,
          4909,
          48,
          7,
          727,
          403,
          1199,
          142,
          305,
          308,
          136,
          383,
          11201,
          161,
          8373,
          35507,
          191,
          8,
          59970,
          273,
          121939,
          586,
          2860,
          29,
          1102,
          5178,
          17153,
          2317,
          76560,
          254,
          9985,
          2556,
          40,
          1571,
          128,
          12205,
          137977,
          663,
          1248,
          264,
          14868
         ]
        }
       ],
       "layout": {
        "height": 1100,
        "legend": {
         "tracegroupgap": 0
        },
        "margin": {
         "b": 0,
         "t": 120
        },
        "piecolorway": [
         "rgb(150,0,90)",
         "rgb(0,0,200)",
         "rgb(0,25,255)",
         "rgb(0,152,255)",
         "rgb(44,255,150)",
         "rgb(151,255,0)",
         "rgb(255,234,0)",
         "rgb(255,111,0)",
         "rgb(255,0,0)"
        ],
        "template": {
         "data": {
          "bar": [
           {
            "error_x": {
             "color": "#2a3f5f"
            },
            "error_y": {
             "color": "#2a3f5f"
            },
            "marker": {
             "line": {
              "color": "#E5ECF6",
              "width": 0.5
             }
            },
            "type": "bar"
           }
          ],
          "barpolar": [
           {
            "marker": {
             "line": {
              "color": "#E5ECF6",
              "width": 0.5
             }
            },
            "type": "barpolar"
           }
          ],
          "carpet": [
           {
            "aaxis": {
             "endlinecolor": "#2a3f5f",
             "gridcolor": "white",
             "linecolor": "white",
             "minorgridcolor": "white",
             "startlinecolor": "#2a3f5f"
            },
            "baxis": {
             "endlinecolor": "#2a3f5f",
             "gridcolor": "white",
             "linecolor": "white",
             "minorgridcolor": "white",
             "startlinecolor": "#2a3f5f"
            },
            "type": "carpet"
           }
          ],
          "choropleth": [
           {
            "colorbar": {
             "outlinewidth": 0,
             "ticks": ""
            },
            "type": "choropleth"
           }
          ],
          "contour": [
           {
            "colorbar": {
             "outlinewidth": 0,
             "ticks": ""
            },
            "colorscale": [
             [
              0,
              "#0d0887"
             ],
             [
              0.1111111111111111,
              "#46039f"
             ],
             [
              0.2222222222222222,
              "#7201a8"
             ],
             [
              0.3333333333333333,
              "#9c179e"
             ],
             [
              0.4444444444444444,
              "#bd3786"
             ],
             [
              0.5555555555555556,
              "#d8576b"
             ],
             [
              0.6666666666666666,
              "#ed7953"
             ],
             [
              0.7777777777777778,
              "#fb9f3a"
             ],
             [
              0.8888888888888888,
              "#fdca26"
             ],
             [
              1,
              "#f0f921"
             ]
            ],
            "type": "contour"
           }
          ],
          "contourcarpet": [
           {
            "colorbar": {
             "outlinewidth": 0,
             "ticks": ""
            },
            "type": "contourcarpet"
           }
          ],
          "heatmap": [
           {
            "colorbar": {
             "outlinewidth": 0,
             "ticks": ""
            },
            "colorscale": [
             [
              0,
              "#0d0887"
             ],
             [
              0.1111111111111111,
              "#46039f"
             ],
             [
              0.2222222222222222,
              "#7201a8"
             ],
             [
              0.3333333333333333,
              "#9c179e"
             ],
             [
              0.4444444444444444,
              "#bd3786"
             ],
             [
              0.5555555555555556,
              "#d8576b"
             ],
             [
              0.6666666666666666,
              "#ed7953"
             ],
             [
              0.7777777777777778,
              "#fb9f3a"
             ],
             [
              0.8888888888888888,
              "#fdca26"
             ],
             [
              1,
              "#f0f921"
             ]
            ],
            "type": "heatmap"
           }
          ],
          "heatmapgl": [
           {
            "colorbar": {
             "outlinewidth": 0,
             "ticks": ""
            },
            "colorscale": [
             [
              0,
              "#0d0887"
             ],
             [
              0.1111111111111111,
              "#46039f"
             ],
             [
              0.2222222222222222,
              "#7201a8"
             ],
             [
              0.3333333333333333,
              "#9c179e"
             ],
             [
              0.4444444444444444,
              "#bd3786"
             ],
             [
              0.5555555555555556,
              "#d8576b"
             ],
             [
              0.6666666666666666,
              "#ed7953"
             ],
             [
              0.7777777777777778,
              "#fb9f3a"
             ],
             [
              0.8888888888888888,
              "#fdca26"
             ],
             [
              1,
              "#f0f921"
             ]
            ],
            "type": "heatmapgl"
           }
          ],
          "histogram": [
           {
            "marker": {
             "colorbar": {
              "outlinewidth": 0,
              "ticks": ""
             }
            },
            "type": "histogram"
           }
          ],
          "histogram2d": [
           {
            "colorbar": {
             "outlinewidth": 0,
             "ticks": ""
            },
            "colorscale": [
             [
              0,
              "#0d0887"
             ],
             [
              0.1111111111111111,
              "#46039f"
             ],
             [
              0.2222222222222222,
              "#7201a8"
             ],
             [
              0.3333333333333333,
              "#9c179e"
             ],
             [
              0.4444444444444444,
              "#bd3786"
             ],
             [
              0.5555555555555556,
              "#d8576b"
             ],
             [
              0.6666666666666666,
              "#ed7953"
             ],
             [
              0.7777777777777778,
              "#fb9f3a"
             ],
             [
              0.8888888888888888,
              "#fdca26"
             ],
             [
              1,
              "#f0f921"
             ]
            ],
            "type": "histogram2d"
           }
          ],
          "histogram2dcontour": [
           {
            "colorbar": {
             "outlinewidth": 0,
             "ticks": ""
            },
            "colorscale": [
             [
              0,
              "#0d0887"
             ],
             [
              0.1111111111111111,
              "#46039f"
             ],
             [
              0.2222222222222222,
              "#7201a8"
             ],
             [
              0.3333333333333333,
              "#9c179e"
             ],
             [
              0.4444444444444444,
              "#bd3786"
             ],
             [
              0.5555555555555556,
              "#d8576b"
             ],
             [
              0.6666666666666666,
              "#ed7953"
             ],
             [
              0.7777777777777778,
              "#fb9f3a"
             ],
             [
              0.8888888888888888,
              "#fdca26"
             ],
             [
              1,
              "#f0f921"
             ]
            ],
            "type": "histogram2dcontour"
           }
          ],
          "mesh3d": [
           {
            "colorbar": {
             "outlinewidth": 0,
             "ticks": ""
            },
            "type": "mesh3d"
           }
          ],
          "parcoords": [
           {
            "line": {
             "colorbar": {
              "outlinewidth": 0,
              "ticks": ""
             }
            },
            "type": "parcoords"
           }
          ],
          "pie": [
           {
            "automargin": true,
            "type": "pie"
           }
          ],
          "scatter": [
           {
            "marker": {
             "colorbar": {
              "outlinewidth": 0,
              "ticks": ""
             }
            },
            "type": "scatter"
           }
          ],
          "scatter3d": [
           {
            "line": {
             "colorbar": {
              "outlinewidth": 0,
              "ticks": ""
             }
            },
            "marker": {
             "colorbar": {
              "outlinewidth": 0,
              "ticks": ""
             }
            },
            "type": "scatter3d"
           }
          ],
          "scattercarpet": [
           {
            "marker": {
             "colorbar": {
              "outlinewidth": 0,
              "ticks": ""
             }
            },
            "type": "scattercarpet"
           }
          ],
          "scattergeo": [
           {
            "marker": {
             "colorbar": {
              "outlinewidth": 0,
              "ticks": ""
             }
            },
            "type": "scattergeo"
           }
          ],
          "scattergl": [
           {
            "marker": {
             "colorbar": {
              "outlinewidth": 0,
              "ticks": ""
             }
            },
            "type": "scattergl"
           }
          ],
          "scattermapbox": [
           {
            "marker": {
             "colorbar": {
              "outlinewidth": 0,
              "ticks": ""
             }
            },
            "type": "scattermapbox"
           }
          ],
          "scatterpolar": [
           {
            "marker": {
             "colorbar": {
              "outlinewidth": 0,
              "ticks": ""
             }
            },
            "type": "scatterpolar"
           }
          ],
          "scatterpolargl": [
           {
            "marker": {
             "colorbar": {
              "outlinewidth": 0,
              "ticks": ""
             }
            },
            "type": "scatterpolargl"
           }
          ],
          "scatterternary": [
           {
            "marker": {
             "colorbar": {
              "outlinewidth": 0,
              "ticks": ""
             }
            },
            "type": "scatterternary"
           }
          ],
          "surface": [
           {
            "colorbar": {
             "outlinewidth": 0,
             "ticks": ""
            },
            "colorscale": [
             [
              0,
              "#0d0887"
             ],
             [
              0.1111111111111111,
              "#46039f"
             ],
             [
              0.2222222222222222,
              "#7201a8"
             ],
             [
              0.3333333333333333,
              "#9c179e"
             ],
             [
              0.4444444444444444,
              "#bd3786"
             ],
             [
              0.5555555555555556,
              "#d8576b"
             ],
             [
              0.6666666666666666,
              "#ed7953"
             ],
             [
              0.7777777777777778,
              "#fb9f3a"
             ],
             [
              0.8888888888888888,
              "#fdca26"
             ],
             [
              1,
              "#f0f921"
             ]
            ],
            "type": "surface"
           }
          ],
          "table": [
           {
            "cells": {
             "fill": {
              "color": "#EBF0F8"
             },
             "line": {
              "color": "white"
             }
            },
            "header": {
             "fill": {
              "color": "#C8D4E3"
             },
             "line": {
              "color": "white"
             }
            },
            "type": "table"
           }
          ]
         },
         "layout": {
          "annotationdefaults": {
           "arrowcolor": "#2a3f5f",
           "arrowhead": 0,
           "arrowwidth": 1
          },
          "coloraxis": {
           "colorbar": {
            "outlinewidth": 0,
            "ticks": ""
           }
          },
          "colorscale": {
           "diverging": [
            [
             0,
             "#8e0152"
            ],
            [
             0.1,
             "#c51b7d"
            ],
            [
             0.2,
             "#de77ae"
            ],
            [
             0.3,
             "#f1b6da"
            ],
            [
             0.4,
             "#fde0ef"
            ],
            [
             0.5,
             "#f7f7f7"
            ],
            [
             0.6,
             "#e6f5d0"
            ],
            [
             0.7,
             "#b8e186"
            ],
            [
             0.8,
             "#7fbc41"
            ],
            [
             0.9,
             "#4d9221"
            ],
            [
             1,
             "#276419"
            ]
           ],
           "sequential": [
            [
             0,
             "#0d0887"
            ],
            [
             0.1111111111111111,
             "#46039f"
            ],
            [
             0.2222222222222222,
             "#7201a8"
            ],
            [
             0.3333333333333333,
             "#9c179e"
            ],
            [
             0.4444444444444444,
             "#bd3786"
            ],
            [
             0.5555555555555556,
             "#d8576b"
            ],
            [
             0.6666666666666666,
             "#ed7953"
            ],
            [
             0.7777777777777778,
             "#fb9f3a"
            ],
            [
             0.8888888888888888,
             "#fdca26"
            ],
            [
             1,
             "#f0f921"
            ]
           ],
           "sequentialminus": [
            [
             0,
             "#0d0887"
            ],
            [
             0.1111111111111111,
             "#46039f"
            ],
            [
             0.2222222222222222,
             "#7201a8"
            ],
            [
             0.3333333333333333,
             "#9c179e"
            ],
            [
             0.4444444444444444,
             "#bd3786"
            ],
            [
             0.5555555555555556,
             "#d8576b"
            ],
            [
             0.6666666666666666,
             "#ed7953"
            ],
            [
             0.7777777777777778,
             "#fb9f3a"
            ],
            [
             0.8888888888888888,
             "#fdca26"
            ],
            [
             1,
             "#f0f921"
            ]
           ]
          },
          "colorway": [
           "#636efa",
           "#EF553B",
           "#00cc96",
           "#ab63fa",
           "#FFA15A",
           "#19d3f3",
           "#FF6692",
           "#B6E880",
           "#FF97FF",
           "#FECB52"
          ],
          "font": {
           "color": "#2a3f5f"
          },
          "geo": {
           "bgcolor": "white",
           "lakecolor": "white",
           "landcolor": "#E5ECF6",
           "showlakes": true,
           "showland": true,
           "subunitcolor": "white"
          },
          "hoverlabel": {
           "align": "left"
          },
          "hovermode": "closest",
          "mapbox": {
           "style": "light"
          },
          "paper_bgcolor": "white",
          "plot_bgcolor": "#E5ECF6",
          "polar": {
           "angularaxis": {
            "gridcolor": "white",
            "linecolor": "white",
            "ticks": ""
           },
           "bgcolor": "#E5ECF6",
           "radialaxis": {
            "gridcolor": "white",
            "linecolor": "white",
            "ticks": ""
           }
          },
          "scene": {
           "xaxis": {
            "backgroundcolor": "#E5ECF6",
            "gridcolor": "white",
            "gridwidth": 2,
            "linecolor": "white",
            "showbackground": true,
            "ticks": "",
            "zerolinecolor": "white"
           },
           "yaxis": {
            "backgroundcolor": "#E5ECF6",
            "gridcolor": "white",
            "gridwidth": 2,
            "linecolor": "white",
            "showbackground": true,
            "ticks": "",
            "zerolinecolor": "white"
           },
           "zaxis": {
            "backgroundcolor": "#E5ECF6",
            "gridcolor": "white",
            "gridwidth": 2,
            "linecolor": "white",
            "showbackground": true,
            "ticks": "",
            "zerolinecolor": "white"
           }
          },
          "shapedefaults": {
           "line": {
            "color": "#2a3f5f"
           }
          },
          "ternary": {
           "aaxis": {
            "gridcolor": "white",
            "linecolor": "white",
            "ticks": ""
           },
           "baxis": {
            "gridcolor": "white",
            "linecolor": "white",
            "ticks": ""
           },
           "bgcolor": "#E5ECF6",
           "caxis": {
            "gridcolor": "white",
            "linecolor": "white",
            "ticks": ""
           }
          },
          "title": {
           "x": 0.05
          },
          "xaxis": {
           "automargin": true,
           "gridcolor": "white",
           "linecolor": "white",
           "ticks": "",
           "title": {
            "standoff": 15
           },
           "zerolinecolor": "white",
           "zerolinewidth": 2
          },
          "yaxis": {
           "automargin": true,
           "gridcolor": "white",
           "linecolor": "white",
           "ticks": "",
           "title": {
            "standoff": 15
           },
           "zerolinecolor": "white",
           "zerolinewidth": 2
          }
         }
        },
        "title": {
         "text": "Всего текущих больных COVID-19 в мире: 7014532<br>(на дату: 2020-08-09)",
         "x": 0.5,
         "xanchor": "center",
         "y": 0.9,
         "yanchor": "bottom"
        },
        "width": 990
       }
      }
     },
     "metadata": {}
    }
   ],
   "source": [
    "\n",
    "\n",
    "fig = px.pie(df2, values='Remaining_ill', names='Country',color_discrete_sequence=px.colors.sequential.Rainbow,\n",
    "            title=f'Всего текущих больных COVID-19 в мире: {df2.Remaining_ill.sum()}<br>'+\n",
    "            f'(на дату: {myday})'\n",
    "             ,\n",
    "            width = 990, height=1100)\n",
    "\n",
    "fig.update_traces(textinfo='percent+label')\n",
    "fig.update_layout(\n",
    "        \n",
    "                #  title=f'{my_region}: динамика текущих больных COVID-19 по дням<br>(изменение относительно предыдущего дня)',\n",
    "                  margin = {'t':120, 'b':0},\n",
    "                  title_x = 0.5,\n",
    "                  title_y= 0.9,\n",
    "                  title_xanchor = \"center\",\n",
    "                  title_yanchor = \"bottom\", \n",
    "                 # legend_x = 0.05,legend_y = 0.98,\n",
    "                     \n",
    ")\n",
    "\n",
    "fig.show()\n"
   ]
  },
  {
   "cell_type": "code",
   "execution_count": 30,
   "metadata": {
    "tags": []
   },
   "outputs": [
    {
     "output_type": "stream",
     "name": "stdout",
     "text": "23 Бразилия\n28 Великобритания\n58 Индия\n128 Россия\n131 США\n"
    }
   ],
   "source": [
    "covid_rates = pd.DataFrame()\n",
    "mask = (X.Date>=datetime.date(2020,8,2))&(X.Date<=datetime.date(2020,8,9))&(X.Country.isin(country_towatch))&(X.Country!='Весь мир')\n",
    "                                      \n",
    "box_cases1 = X[mask].groupby(['Country','Date'])['Day_confirmed'].sum()\n",
    "box_cases2 = X[mask].groupby(['Country','Date'])['Day_recovered'].sum()\n",
    "for i in country_dict.keys():\n",
    "    if country_dict.get(i) in country_towatch:\n",
    "        print(i,country_dict.get(i))"
   ]
  },
  {
   "cell_type": "code",
   "execution_count": 31,
   "metadata": {},
   "outputs": [
    {
     "output_type": "execute_result",
     "data": {
      "text/plain": "Country     Бразилия  Великобритания  Индия  Россия    США\nDate                                                      \n2020-08-02     25800             747  52972    5387  47580\n2020-08-03     16641             942  52050    5364  45368\n2020-08-04     51603             675  52509    5121  57540\n2020-08-05     57152             906  56282    5186  52810\n2020-08-06     53139             964  62538    5239  59692\n2020-08-07     50230             900  61537    5191  58173\n2020-08-08     49970             765  64399    5185  56174\n2020-08-09     23010            1113  62064    5155  46935",
      "text/html": "<div>\n<style scoped>\n    .dataframe tbody tr th:only-of-type {\n        vertical-align: middle;\n    }\n\n    .dataframe tbody tr th {\n        vertical-align: top;\n    }\n\n    .dataframe thead th {\n        text-align: right;\n    }\n</style>\n<table border=\"1\" class=\"dataframe\">\n  <thead>\n    <tr style=\"text-align: right;\">\n      <th>Country</th>\n      <th>Бразилия</th>\n      <th>Великобритания</th>\n      <th>Индия</th>\n      <th>Россия</th>\n      <th>США</th>\n    </tr>\n    <tr>\n      <th>Date</th>\n      <th></th>\n      <th></th>\n      <th></th>\n      <th></th>\n      <th></th>\n    </tr>\n  </thead>\n  <tbody>\n    <tr>\n      <th>2020-08-02</th>\n      <td>25800</td>\n      <td>747</td>\n      <td>52972</td>\n      <td>5387</td>\n      <td>47580</td>\n    </tr>\n    <tr>\n      <th>2020-08-03</th>\n      <td>16641</td>\n      <td>942</td>\n      <td>52050</td>\n      <td>5364</td>\n      <td>45368</td>\n    </tr>\n    <tr>\n      <th>2020-08-04</th>\n      <td>51603</td>\n      <td>675</td>\n      <td>52509</td>\n      <td>5121</td>\n      <td>57540</td>\n    </tr>\n    <tr>\n      <th>2020-08-05</th>\n      <td>57152</td>\n      <td>906</td>\n      <td>56282</td>\n      <td>5186</td>\n      <td>52810</td>\n    </tr>\n    <tr>\n      <th>2020-08-06</th>\n      <td>53139</td>\n      <td>964</td>\n      <td>62538</td>\n      <td>5239</td>\n      <td>59692</td>\n    </tr>\n    <tr>\n      <th>2020-08-07</th>\n      <td>50230</td>\n      <td>900</td>\n      <td>61537</td>\n      <td>5191</td>\n      <td>58173</td>\n    </tr>\n    <tr>\n      <th>2020-08-08</th>\n      <td>49970</td>\n      <td>765</td>\n      <td>64399</td>\n      <td>5185</td>\n      <td>56174</td>\n    </tr>\n    <tr>\n      <th>2020-08-09</th>\n      <td>23010</td>\n      <td>1113</td>\n      <td>62064</td>\n      <td>5155</td>\n      <td>46935</td>\n    </tr>\n  </tbody>\n</table>\n</div>"
     },
     "metadata": {},
     "execution_count": 31
    }
   ],
   "source": [
    "new_df1=box_cases1.unstack().T\n",
    "new_df1.tail(20)"
   ]
  },
  {
   "cell_type": "code",
   "execution_count": 32,
   "metadata": {},
   "outputs": [
    {
     "output_type": "display_data",
     "data": {
      "application/vnd.plotly.v1+json": {
       "config": {
        "plotlyServerURL": "https://plot.ly"
       },
       "data": [
        {
         "boxmean": true,
         "marker": {
          "color": "magenta"
         },
         "name": "Бразилия",
         "type": "box",
         "x": [
          25800,
          16641,
          51603,
          57152,
          53139,
          50230,
          49970,
          23010
         ]
        },
        {
         "boxmean": true,
         "marker": {
          "color": "darkblue"
         },
         "name": "Великобритания",
         "type": "box",
         "x": [
          747,
          942,
          675,
          906,
          964,
          900,
          765,
          1113
         ]
        },
        {
         "boxmean": true,
         "marker": {
          "color": "goldenrod"
         },
         "name": "Индия",
         "type": "box",
         "x": [
          52972,
          52050,
          52509,
          56282,
          62538,
          61537,
          64399,
          62064
         ]
        },
        {
         "boxmean": true,
         "marker": {
          "color": "green"
         },
         "name": "Россия",
         "type": "box",
         "x": [
          5387,
          5364,
          5121,
          5186,
          5239,
          5191,
          5185,
          5155
         ]
        },
        {
         "boxmean": true,
         "marker": {
          "color": "red"
         },
         "name": "США",
         "type": "box",
         "x": [
          47580,
          45368,
          57540,
          52810,
          59692,
          58173,
          56174,
          46935
         ]
        }
       ],
       "layout": {
        "height": 600,
        "template": {
         "data": {
          "bar": [
           {
            "error_x": {
             "color": "#2a3f5f"
            },
            "error_y": {
             "color": "#2a3f5f"
            },
            "marker": {
             "line": {
              "color": "#E5ECF6",
              "width": 0.5
             }
            },
            "type": "bar"
           }
          ],
          "barpolar": [
           {
            "marker": {
             "line": {
              "color": "#E5ECF6",
              "width": 0.5
             }
            },
            "type": "barpolar"
           }
          ],
          "carpet": [
           {
            "aaxis": {
             "endlinecolor": "#2a3f5f",
             "gridcolor": "white",
             "linecolor": "white",
             "minorgridcolor": "white",
             "startlinecolor": "#2a3f5f"
            },
            "baxis": {
             "endlinecolor": "#2a3f5f",
             "gridcolor": "white",
             "linecolor": "white",
             "minorgridcolor": "white",
             "startlinecolor": "#2a3f5f"
            },
            "type": "carpet"
           }
          ],
          "choropleth": [
           {
            "colorbar": {
             "outlinewidth": 0,
             "ticks": ""
            },
            "type": "choropleth"
           }
          ],
          "contour": [
           {
            "colorbar": {
             "outlinewidth": 0,
             "ticks": ""
            },
            "colorscale": [
             [
              0,
              "#0d0887"
             ],
             [
              0.1111111111111111,
              "#46039f"
             ],
             [
              0.2222222222222222,
              "#7201a8"
             ],
             [
              0.3333333333333333,
              "#9c179e"
             ],
             [
              0.4444444444444444,
              "#bd3786"
             ],
             [
              0.5555555555555556,
              "#d8576b"
             ],
             [
              0.6666666666666666,
              "#ed7953"
             ],
             [
              0.7777777777777778,
              "#fb9f3a"
             ],
             [
              0.8888888888888888,
              "#fdca26"
             ],
             [
              1,
              "#f0f921"
             ]
            ],
            "type": "contour"
           }
          ],
          "contourcarpet": [
           {
            "colorbar": {
             "outlinewidth": 0,
             "ticks": ""
            },
            "type": "contourcarpet"
           }
          ],
          "heatmap": [
           {
            "colorbar": {
             "outlinewidth": 0,
             "ticks": ""
            },
            "colorscale": [
             [
              0,
              "#0d0887"
             ],
             [
              0.1111111111111111,
              "#46039f"
             ],
             [
              0.2222222222222222,
              "#7201a8"
             ],
             [
              0.3333333333333333,
              "#9c179e"
             ],
             [
              0.4444444444444444,
              "#bd3786"
             ],
             [
              0.5555555555555556,
              "#d8576b"
             ],
             [
              0.6666666666666666,
              "#ed7953"
             ],
             [
              0.7777777777777778,
              "#fb9f3a"
             ],
             [
              0.8888888888888888,
              "#fdca26"
             ],
             [
              1,
              "#f0f921"
             ]
            ],
            "type": "heatmap"
           }
          ],
          "heatmapgl": [
           {
            "colorbar": {
             "outlinewidth": 0,
             "ticks": ""
            },
            "colorscale": [
             [
              0,
              "#0d0887"
             ],
             [
              0.1111111111111111,
              "#46039f"
             ],
             [
              0.2222222222222222,
              "#7201a8"
             ],
             [
              0.3333333333333333,
              "#9c179e"
             ],
             [
              0.4444444444444444,
              "#bd3786"
             ],
             [
              0.5555555555555556,
              "#d8576b"
             ],
             [
              0.6666666666666666,
              "#ed7953"
             ],
             [
              0.7777777777777778,
              "#fb9f3a"
             ],
             [
              0.8888888888888888,
              "#fdca26"
             ],
             [
              1,
              "#f0f921"
             ]
            ],
            "type": "heatmapgl"
           }
          ],
          "histogram": [
           {
            "marker": {
             "colorbar": {
              "outlinewidth": 0,
              "ticks": ""
             }
            },
            "type": "histogram"
           }
          ],
          "histogram2d": [
           {
            "colorbar": {
             "outlinewidth": 0,
             "ticks": ""
            },
            "colorscale": [
             [
              0,
              "#0d0887"
             ],
             [
              0.1111111111111111,
              "#46039f"
             ],
             [
              0.2222222222222222,
              "#7201a8"
             ],
             [
              0.3333333333333333,
              "#9c179e"
             ],
             [
              0.4444444444444444,
              "#bd3786"
             ],
             [
              0.5555555555555556,
              "#d8576b"
             ],
             [
              0.6666666666666666,
              "#ed7953"
             ],
             [
              0.7777777777777778,
              "#fb9f3a"
             ],
             [
              0.8888888888888888,
              "#fdca26"
             ],
             [
              1,
              "#f0f921"
             ]
            ],
            "type": "histogram2d"
           }
          ],
          "histogram2dcontour": [
           {
            "colorbar": {
             "outlinewidth": 0,
             "ticks": ""
            },
            "colorscale": [
             [
              0,
              "#0d0887"
             ],
             [
              0.1111111111111111,
              "#46039f"
             ],
             [
              0.2222222222222222,
              "#7201a8"
             ],
             [
              0.3333333333333333,
              "#9c179e"
             ],
             [
              0.4444444444444444,
              "#bd3786"
             ],
             [
              0.5555555555555556,
              "#d8576b"
             ],
             [
              0.6666666666666666,
              "#ed7953"
             ],
             [
              0.7777777777777778,
              "#fb9f3a"
             ],
             [
              0.8888888888888888,
              "#fdca26"
             ],
             [
              1,
              "#f0f921"
             ]
            ],
            "type": "histogram2dcontour"
           }
          ],
          "mesh3d": [
           {
            "colorbar": {
             "outlinewidth": 0,
             "ticks": ""
            },
            "type": "mesh3d"
           }
          ],
          "parcoords": [
           {
            "line": {
             "colorbar": {
              "outlinewidth": 0,
              "ticks": ""
             }
            },
            "type": "parcoords"
           }
          ],
          "pie": [
           {
            "automargin": true,
            "type": "pie"
           }
          ],
          "scatter": [
           {
            "marker": {
             "colorbar": {
              "outlinewidth": 0,
              "ticks": ""
             }
            },
            "type": "scatter"
           }
          ],
          "scatter3d": [
           {
            "line": {
             "colorbar": {
              "outlinewidth": 0,
              "ticks": ""
             }
            },
            "marker": {
             "colorbar": {
              "outlinewidth": 0,
              "ticks": ""
             }
            },
            "type": "scatter3d"
           }
          ],
          "scattercarpet": [
           {
            "marker": {
             "colorbar": {
              "outlinewidth": 0,
              "ticks": ""
             }
            },
            "type": "scattercarpet"
           }
          ],
          "scattergeo": [
           {
            "marker": {
             "colorbar": {
              "outlinewidth": 0,
              "ticks": ""
             }
            },
            "type": "scattergeo"
           }
          ],
          "scattergl": [
           {
            "marker": {
             "colorbar": {
              "outlinewidth": 0,
              "ticks": ""
             }
            },
            "type": "scattergl"
           }
          ],
          "scattermapbox": [
           {
            "marker": {
             "colorbar": {
              "outlinewidth": 0,
              "ticks": ""
             }
            },
            "type": "scattermapbox"
           }
          ],
          "scatterpolar": [
           {
            "marker": {
             "colorbar": {
              "outlinewidth": 0,
              "ticks": ""
             }
            },
            "type": "scatterpolar"
           }
          ],
          "scatterpolargl": [
           {
            "marker": {
             "colorbar": {
              "outlinewidth": 0,
              "ticks": ""
             }
            },
            "type": "scatterpolargl"
           }
          ],
          "scatterternary": [
           {
            "marker": {
             "colorbar": {
              "outlinewidth": 0,
              "ticks": ""
             }
            },
            "type": "scatterternary"
           }
          ],
          "surface": [
           {
            "colorbar": {
             "outlinewidth": 0,
             "ticks": ""
            },
            "colorscale": [
             [
              0,
              "#0d0887"
             ],
             [
              0.1111111111111111,
              "#46039f"
             ],
             [
              0.2222222222222222,
              "#7201a8"
             ],
             [
              0.3333333333333333,
              "#9c179e"
             ],
             [
              0.4444444444444444,
              "#bd3786"
             ],
             [
              0.5555555555555556,
              "#d8576b"
             ],
             [
              0.6666666666666666,
              "#ed7953"
             ],
             [
              0.7777777777777778,
              "#fb9f3a"
             ],
             [
              0.8888888888888888,
              "#fdca26"
             ],
             [
              1,
              "#f0f921"
             ]
            ],
            "type": "surface"
           }
          ],
          "table": [
           {
            "cells": {
             "fill": {
              "color": "#EBF0F8"
             },
             "line": {
              "color": "white"
             }
            },
            "header": {
             "fill": {
              "color": "#C8D4E3"
             },
             "line": {
              "color": "white"
             }
            },
            "type": "table"
           }
          ]
         },
         "layout": {
          "annotationdefaults": {
           "arrowcolor": "#2a3f5f",
           "arrowhead": 0,
           "arrowwidth": 1
          },
          "coloraxis": {
           "colorbar": {
            "outlinewidth": 0,
            "ticks": ""
           }
          },
          "colorscale": {
           "diverging": [
            [
             0,
             "#8e0152"
            ],
            [
             0.1,
             "#c51b7d"
            ],
            [
             0.2,
             "#de77ae"
            ],
            [
             0.3,
             "#f1b6da"
            ],
            [
             0.4,
             "#fde0ef"
            ],
            [
             0.5,
             "#f7f7f7"
            ],
            [
             0.6,
             "#e6f5d0"
            ],
            [
             0.7,
             "#b8e186"
            ],
            [
             0.8,
             "#7fbc41"
            ],
            [
             0.9,
             "#4d9221"
            ],
            [
             1,
             "#276419"
            ]
           ],
           "sequential": [
            [
             0,
             "#0d0887"
            ],
            [
             0.1111111111111111,
             "#46039f"
            ],
            [
             0.2222222222222222,
             "#7201a8"
            ],
            [
             0.3333333333333333,
             "#9c179e"
            ],
            [
             0.4444444444444444,
             "#bd3786"
            ],
            [
             0.5555555555555556,
             "#d8576b"
            ],
            [
             0.6666666666666666,
             "#ed7953"
            ],
            [
             0.7777777777777778,
             "#fb9f3a"
            ],
            [
             0.8888888888888888,
             "#fdca26"
            ],
            [
             1,
             "#f0f921"
            ]
           ],
           "sequentialminus": [
            [
             0,
             "#0d0887"
            ],
            [
             0.1111111111111111,
             "#46039f"
            ],
            [
             0.2222222222222222,
             "#7201a8"
            ],
            [
             0.3333333333333333,
             "#9c179e"
            ],
            [
             0.4444444444444444,
             "#bd3786"
            ],
            [
             0.5555555555555556,
             "#d8576b"
            ],
            [
             0.6666666666666666,
             "#ed7953"
            ],
            [
             0.7777777777777778,
             "#fb9f3a"
            ],
            [
             0.8888888888888888,
             "#fdca26"
            ],
            [
             1,
             "#f0f921"
            ]
           ]
          },
          "colorway": [
           "#636efa",
           "#EF553B",
           "#00cc96",
           "#ab63fa",
           "#FFA15A",
           "#19d3f3",
           "#FF6692",
           "#B6E880",
           "#FF97FF",
           "#FECB52"
          ],
          "font": {
           "color": "#2a3f5f"
          },
          "geo": {
           "bgcolor": "white",
           "lakecolor": "white",
           "landcolor": "#E5ECF6",
           "showlakes": true,
           "showland": true,
           "subunitcolor": "white"
          },
          "hoverlabel": {
           "align": "left"
          },
          "hovermode": "closest",
          "mapbox": {
           "style": "light"
          },
          "paper_bgcolor": "white",
          "plot_bgcolor": "#E5ECF6",
          "polar": {
           "angularaxis": {
            "gridcolor": "white",
            "linecolor": "white",
            "ticks": ""
           },
           "bgcolor": "#E5ECF6",
           "radialaxis": {
            "gridcolor": "white",
            "linecolor": "white",
            "ticks": ""
           }
          },
          "scene": {
           "xaxis": {
            "backgroundcolor": "#E5ECF6",
            "gridcolor": "white",
            "gridwidth": 2,
            "linecolor": "white",
            "showbackground": true,
            "ticks": "",
            "zerolinecolor": "white"
           },
           "yaxis": {
            "backgroundcolor": "#E5ECF6",
            "gridcolor": "white",
            "gridwidth": 2,
            "linecolor": "white",
            "showbackground": true,
            "ticks": "",
            "zerolinecolor": "white"
           },
           "zaxis": {
            "backgroundcolor": "#E5ECF6",
            "gridcolor": "white",
            "gridwidth": 2,
            "linecolor": "white",
            "showbackground": true,
            "ticks": "",
            "zerolinecolor": "white"
           }
          },
          "shapedefaults": {
           "line": {
            "color": "#2a3f5f"
           }
          },
          "ternary": {
           "aaxis": {
            "gridcolor": "white",
            "linecolor": "white",
            "ticks": ""
           },
           "baxis": {
            "gridcolor": "white",
            "linecolor": "white",
            "ticks": ""
           },
           "bgcolor": "#E5ECF6",
           "caxis": {
            "gridcolor": "white",
            "linecolor": "white",
            "ticks": ""
           }
          },
          "title": {
           "x": 0.05
          },
          "xaxis": {
           "automargin": true,
           "gridcolor": "white",
           "linecolor": "white",
           "ticks": "",
           "title": {
            "standoff": 15
           },
           "zerolinecolor": "white",
           "zerolinewidth": 2
          },
          "yaxis": {
           "automargin": true,
           "gridcolor": "white",
           "linecolor": "white",
           "ticks": "",
           "title": {
            "standoff": 15
           },
           "zerolinecolor": "white",
           "zerolinewidth": 2
          }
         }
        },
        "title": {
         "text": "Статистика по новым заболевшим за неделю",
         "x": 0.5,
         "xanchor": "center",
         "y": 0.9,
         "yanchor": "top"
        },
        "width": 990,
        "xaxis": {
         "title": {
          "text": "Новые заболевшие"
         }
        },
        "yaxis": {
         "title": {
          "text": "Страны"
         }
        }
       }
      }
     },
     "metadata": {}
    }
   ],
   "source": [
    "color_dict = {\n",
    "                \"США\": \"red\",\n",
    "                \"Бразилия\": \"magenta\",\n",
    "                \"Индия\": \"goldenrod\",\n",
    "                \"Великобритания\": \"darkblue\",\n",
    "                \"Россия\": \"green\",\n",
    "                 }\n",
    "\n",
    "cols = list(new_df1.columns)\n",
    "#cols = cols[:-1]\n",
    "\n",
    "fig = go.Figure()\n",
    "for i in cols:\n",
    "    fig.add_trace(\n",
    "    go.Box(x=new_df1[i],name = i,boxmean = True,marker_color = color_dict.get(i)))\n",
    "\n",
    "fig.update_layout(title_text=\"Статистика по новым заболевшим за неделю\",\n",
    "                  title_x = 0.5,\n",
    "                  title_y= 0.9,\n",
    "                  title_xanchor = \"center\",\n",
    "                  title_yanchor = \"top\",\n",
    "                  xaxis_title='Новые заболевшие', yaxis_title='Страны',width = 990, height = 600)\n",
    "fig.show()"
   ]
  },
  {
   "cell_type": "code",
   "execution_count": 33,
   "metadata": {},
   "outputs": [
    {
     "output_type": "execute_result",
     "data": {
      "text/plain": "Country     Бразилия  Великобритания  Индия  Россия    США\nDate                                                      \n2020-08-02     24894               3  40574    3645   6804\n2020-08-03     36100               1  44306    3411  44757\n2020-08-04     58508               0  51706    7863  15533\n2020-08-05     32877               1  46121    7534  48872\n2020-08-06     40181               1  49769    7300  20773\n2020-08-07     41757               0  48900    7209  25246\n2020-08-08     49238               2  53879    6578  19248\n2020-08-09     35446               2  54859    3203  13746",
      "text/html": "<div>\n<style scoped>\n    .dataframe tbody tr th:only-of-type {\n        vertical-align: middle;\n    }\n\n    .dataframe tbody tr th {\n        vertical-align: top;\n    }\n\n    .dataframe thead th {\n        text-align: right;\n    }\n</style>\n<table border=\"1\" class=\"dataframe\">\n  <thead>\n    <tr style=\"text-align: right;\">\n      <th>Country</th>\n      <th>Бразилия</th>\n      <th>Великобритания</th>\n      <th>Индия</th>\n      <th>Россия</th>\n      <th>США</th>\n    </tr>\n    <tr>\n      <th>Date</th>\n      <th></th>\n      <th></th>\n      <th></th>\n      <th></th>\n      <th></th>\n    </tr>\n  </thead>\n  <tbody>\n    <tr>\n      <th>2020-08-02</th>\n      <td>24894</td>\n      <td>3</td>\n      <td>40574</td>\n      <td>3645</td>\n      <td>6804</td>\n    </tr>\n    <tr>\n      <th>2020-08-03</th>\n      <td>36100</td>\n      <td>1</td>\n      <td>44306</td>\n      <td>3411</td>\n      <td>44757</td>\n    </tr>\n    <tr>\n      <th>2020-08-04</th>\n      <td>58508</td>\n      <td>0</td>\n      <td>51706</td>\n      <td>7863</td>\n      <td>15533</td>\n    </tr>\n    <tr>\n      <th>2020-08-05</th>\n      <td>32877</td>\n      <td>1</td>\n      <td>46121</td>\n      <td>7534</td>\n      <td>48872</td>\n    </tr>\n    <tr>\n      <th>2020-08-06</th>\n      <td>40181</td>\n      <td>1</td>\n      <td>49769</td>\n      <td>7300</td>\n      <td>20773</td>\n    </tr>\n    <tr>\n      <th>2020-08-07</th>\n      <td>41757</td>\n      <td>0</td>\n      <td>48900</td>\n      <td>7209</td>\n      <td>25246</td>\n    </tr>\n    <tr>\n      <th>2020-08-08</th>\n      <td>49238</td>\n      <td>2</td>\n      <td>53879</td>\n      <td>6578</td>\n      <td>19248</td>\n    </tr>\n    <tr>\n      <th>2020-08-09</th>\n      <td>35446</td>\n      <td>2</td>\n      <td>54859</td>\n      <td>3203</td>\n      <td>13746</td>\n    </tr>\n  </tbody>\n</table>\n</div>"
     },
     "metadata": {},
     "execution_count": 33
    }
   ],
   "source": [
    "new_df2=box_cases2.unstack().T\n",
    "new_df2.tail(20)"
   ]
  },
  {
   "cell_type": "code",
   "execution_count": 34,
   "metadata": {},
   "outputs": [
    {
     "output_type": "display_data",
     "data": {
      "application/vnd.plotly.v1+json": {
       "config": {
        "plotlyServerURL": "https://plot.ly"
       },
       "data": [
        {
         "boxmean": true,
         "marker": {
          "color": "magenta"
         },
         "name": "Бразилия",
         "type": "box",
         "x": [
          24894,
          36100,
          58508,
          32877,
          40181,
          41757,
          49238,
          35446
         ]
        },
        {
         "boxmean": true,
         "marker": {
          "color": "darkblue"
         },
         "name": "Великобритания",
         "type": "box",
         "x": [
          3,
          1,
          0,
          1,
          1,
          0,
          2,
          2
         ]
        },
        {
         "boxmean": true,
         "marker": {
          "color": "goldenrod"
         },
         "name": "Индия",
         "type": "box",
         "x": [
          40574,
          44306,
          51706,
          46121,
          49769,
          48900,
          53879,
          54859
         ]
        },
        {
         "boxmean": true,
         "marker": {
          "color": "green"
         },
         "name": "Россия",
         "type": "box",
         "x": [
          3645,
          3411,
          7863,
          7534,
          7300,
          7209,
          6578,
          3203
         ]
        },
        {
         "boxmean": true,
         "marker": {
          "color": "red"
         },
         "name": "США",
         "type": "box",
         "x": [
          6804,
          44757,
          15533,
          48872,
          20773,
          25246,
          19248,
          13746
         ]
        }
       ],
       "layout": {
        "height": 600,
        "template": {
         "data": {
          "bar": [
           {
            "error_x": {
             "color": "#2a3f5f"
            },
            "error_y": {
             "color": "#2a3f5f"
            },
            "marker": {
             "line": {
              "color": "#E5ECF6",
              "width": 0.5
             }
            },
            "type": "bar"
           }
          ],
          "barpolar": [
           {
            "marker": {
             "line": {
              "color": "#E5ECF6",
              "width": 0.5
             }
            },
            "type": "barpolar"
           }
          ],
          "carpet": [
           {
            "aaxis": {
             "endlinecolor": "#2a3f5f",
             "gridcolor": "white",
             "linecolor": "white",
             "minorgridcolor": "white",
             "startlinecolor": "#2a3f5f"
            },
            "baxis": {
             "endlinecolor": "#2a3f5f",
             "gridcolor": "white",
             "linecolor": "white",
             "minorgridcolor": "white",
             "startlinecolor": "#2a3f5f"
            },
            "type": "carpet"
           }
          ],
          "choropleth": [
           {
            "colorbar": {
             "outlinewidth": 0,
             "ticks": ""
            },
            "type": "choropleth"
           }
          ],
          "contour": [
           {
            "colorbar": {
             "outlinewidth": 0,
             "ticks": ""
            },
            "colorscale": [
             [
              0,
              "#0d0887"
             ],
             [
              0.1111111111111111,
              "#46039f"
             ],
             [
              0.2222222222222222,
              "#7201a8"
             ],
             [
              0.3333333333333333,
              "#9c179e"
             ],
             [
              0.4444444444444444,
              "#bd3786"
             ],
             [
              0.5555555555555556,
              "#d8576b"
             ],
             [
              0.6666666666666666,
              "#ed7953"
             ],
             [
              0.7777777777777778,
              "#fb9f3a"
             ],
             [
              0.8888888888888888,
              "#fdca26"
             ],
             [
              1,
              "#f0f921"
             ]
            ],
            "type": "contour"
           }
          ],
          "contourcarpet": [
           {
            "colorbar": {
             "outlinewidth": 0,
             "ticks": ""
            },
            "type": "contourcarpet"
           }
          ],
          "heatmap": [
           {
            "colorbar": {
             "outlinewidth": 0,
             "ticks": ""
            },
            "colorscale": [
             [
              0,
              "#0d0887"
             ],
             [
              0.1111111111111111,
              "#46039f"
             ],
             [
              0.2222222222222222,
              "#7201a8"
             ],
             [
              0.3333333333333333,
              "#9c179e"
             ],
             [
              0.4444444444444444,
              "#bd3786"
             ],
             [
              0.5555555555555556,
              "#d8576b"
             ],
             [
              0.6666666666666666,
              "#ed7953"
             ],
             [
              0.7777777777777778,
              "#fb9f3a"
             ],
             [
              0.8888888888888888,
              "#fdca26"
             ],
             [
              1,
              "#f0f921"
             ]
            ],
            "type": "heatmap"
           }
          ],
          "heatmapgl": [
           {
            "colorbar": {
             "outlinewidth": 0,
             "ticks": ""
            },
            "colorscale": [
             [
              0,
              "#0d0887"
             ],
             [
              0.1111111111111111,
              "#46039f"
             ],
             [
              0.2222222222222222,
              "#7201a8"
             ],
             [
              0.3333333333333333,
              "#9c179e"
             ],
             [
              0.4444444444444444,
              "#bd3786"
             ],
             [
              0.5555555555555556,
              "#d8576b"
             ],
             [
              0.6666666666666666,
              "#ed7953"
             ],
             [
              0.7777777777777778,
              "#fb9f3a"
             ],
             [
              0.8888888888888888,
              "#fdca26"
             ],
             [
              1,
              "#f0f921"
             ]
            ],
            "type": "heatmapgl"
           }
          ],
          "histogram": [
           {
            "marker": {
             "colorbar": {
              "outlinewidth": 0,
              "ticks": ""
             }
            },
            "type": "histogram"
           }
          ],
          "histogram2d": [
           {
            "colorbar": {
             "outlinewidth": 0,
             "ticks": ""
            },
            "colorscale": [
             [
              0,
              "#0d0887"
             ],
             [
              0.1111111111111111,
              "#46039f"
             ],
             [
              0.2222222222222222,
              "#7201a8"
             ],
             [
              0.3333333333333333,
              "#9c179e"
             ],
             [
              0.4444444444444444,
              "#bd3786"
             ],
             [
              0.5555555555555556,
              "#d8576b"
             ],
             [
              0.6666666666666666,
              "#ed7953"
             ],
             [
              0.7777777777777778,
              "#fb9f3a"
             ],
             [
              0.8888888888888888,
              "#fdca26"
             ],
             [
              1,
              "#f0f921"
             ]
            ],
            "type": "histogram2d"
           }
          ],
          "histogram2dcontour": [
           {
            "colorbar": {
             "outlinewidth": 0,
             "ticks": ""
            },
            "colorscale": [
             [
              0,
              "#0d0887"
             ],
             [
              0.1111111111111111,
              "#46039f"
             ],
             [
              0.2222222222222222,
              "#7201a8"
             ],
             [
              0.3333333333333333,
              "#9c179e"
             ],
             [
              0.4444444444444444,
              "#bd3786"
             ],
             [
              0.5555555555555556,
              "#d8576b"
             ],
             [
              0.6666666666666666,
              "#ed7953"
             ],
             [
              0.7777777777777778,
              "#fb9f3a"
             ],
             [
              0.8888888888888888,
              "#fdca26"
             ],
             [
              1,
              "#f0f921"
             ]
            ],
            "type": "histogram2dcontour"
           }
          ],
          "mesh3d": [
           {
            "colorbar": {
             "outlinewidth": 0,
             "ticks": ""
            },
            "type": "mesh3d"
           }
          ],
          "parcoords": [
           {
            "line": {
             "colorbar": {
              "outlinewidth": 0,
              "ticks": ""
             }
            },
            "type": "parcoords"
           }
          ],
          "pie": [
           {
            "automargin": true,
            "type": "pie"
           }
          ],
          "scatter": [
           {
            "marker": {
             "colorbar": {
              "outlinewidth": 0,
              "ticks": ""
             }
            },
            "type": "scatter"
           }
          ],
          "scatter3d": [
           {
            "line": {
             "colorbar": {
              "outlinewidth": 0,
              "ticks": ""
             }
            },
            "marker": {
             "colorbar": {
              "outlinewidth": 0,
              "ticks": ""
             }
            },
            "type": "scatter3d"
           }
          ],
          "scattercarpet": [
           {
            "marker": {
             "colorbar": {
              "outlinewidth": 0,
              "ticks": ""
             }
            },
            "type": "scattercarpet"
           }
          ],
          "scattergeo": [
           {
            "marker": {
             "colorbar": {
              "outlinewidth": 0,
              "ticks": ""
             }
            },
            "type": "scattergeo"
           }
          ],
          "scattergl": [
           {
            "marker": {
             "colorbar": {
              "outlinewidth": 0,
              "ticks": ""
             }
            },
            "type": "scattergl"
           }
          ],
          "scattermapbox": [
           {
            "marker": {
             "colorbar": {
              "outlinewidth": 0,
              "ticks": ""
             }
            },
            "type": "scattermapbox"
           }
          ],
          "scatterpolar": [
           {
            "marker": {
             "colorbar": {
              "outlinewidth": 0,
              "ticks": ""
             }
            },
            "type": "scatterpolar"
           }
          ],
          "scatterpolargl": [
           {
            "marker": {
             "colorbar": {
              "outlinewidth": 0,
              "ticks": ""
             }
            },
            "type": "scatterpolargl"
           }
          ],
          "scatterternary": [
           {
            "marker": {
             "colorbar": {
              "outlinewidth": 0,
              "ticks": ""
             }
            },
            "type": "scatterternary"
           }
          ],
          "surface": [
           {
            "colorbar": {
             "outlinewidth": 0,
             "ticks": ""
            },
            "colorscale": [
             [
              0,
              "#0d0887"
             ],
             [
              0.1111111111111111,
              "#46039f"
             ],
             [
              0.2222222222222222,
              "#7201a8"
             ],
             [
              0.3333333333333333,
              "#9c179e"
             ],
             [
              0.4444444444444444,
              "#bd3786"
             ],
             [
              0.5555555555555556,
              "#d8576b"
             ],
             [
              0.6666666666666666,
              "#ed7953"
             ],
             [
              0.7777777777777778,
              "#fb9f3a"
             ],
             [
              0.8888888888888888,
              "#fdca26"
             ],
             [
              1,
              "#f0f921"
             ]
            ],
            "type": "surface"
           }
          ],
          "table": [
           {
            "cells": {
             "fill": {
              "color": "#EBF0F8"
             },
             "line": {
              "color": "white"
             }
            },
            "header": {
             "fill": {
              "color": "#C8D4E3"
             },
             "line": {
              "color": "white"
             }
            },
            "type": "table"
           }
          ]
         },
         "layout": {
          "annotationdefaults": {
           "arrowcolor": "#2a3f5f",
           "arrowhead": 0,
           "arrowwidth": 1
          },
          "coloraxis": {
           "colorbar": {
            "outlinewidth": 0,
            "ticks": ""
           }
          },
          "colorscale": {
           "diverging": [
            [
             0,
             "#8e0152"
            ],
            [
             0.1,
             "#c51b7d"
            ],
            [
             0.2,
             "#de77ae"
            ],
            [
             0.3,
             "#f1b6da"
            ],
            [
             0.4,
             "#fde0ef"
            ],
            [
             0.5,
             "#f7f7f7"
            ],
            [
             0.6,
             "#e6f5d0"
            ],
            [
             0.7,
             "#b8e186"
            ],
            [
             0.8,
             "#7fbc41"
            ],
            [
             0.9,
             "#4d9221"
            ],
            [
             1,
             "#276419"
            ]
           ],
           "sequential": [
            [
             0,
             "#0d0887"
            ],
            [
             0.1111111111111111,
             "#46039f"
            ],
            [
             0.2222222222222222,
             "#7201a8"
            ],
            [
             0.3333333333333333,
             "#9c179e"
            ],
            [
             0.4444444444444444,
             "#bd3786"
            ],
            [
             0.5555555555555556,
             "#d8576b"
            ],
            [
             0.6666666666666666,
             "#ed7953"
            ],
            [
             0.7777777777777778,
             "#fb9f3a"
            ],
            [
             0.8888888888888888,
             "#fdca26"
            ],
            [
             1,
             "#f0f921"
            ]
           ],
           "sequentialminus": [
            [
             0,
             "#0d0887"
            ],
            [
             0.1111111111111111,
             "#46039f"
            ],
            [
             0.2222222222222222,
             "#7201a8"
            ],
            [
             0.3333333333333333,
             "#9c179e"
            ],
            [
             0.4444444444444444,
             "#bd3786"
            ],
            [
             0.5555555555555556,
             "#d8576b"
            ],
            [
             0.6666666666666666,
             "#ed7953"
            ],
            [
             0.7777777777777778,
             "#fb9f3a"
            ],
            [
             0.8888888888888888,
             "#fdca26"
            ],
            [
             1,
             "#f0f921"
            ]
           ]
          },
          "colorway": [
           "#636efa",
           "#EF553B",
           "#00cc96",
           "#ab63fa",
           "#FFA15A",
           "#19d3f3",
           "#FF6692",
           "#B6E880",
           "#FF97FF",
           "#FECB52"
          ],
          "font": {
           "color": "#2a3f5f"
          },
          "geo": {
           "bgcolor": "white",
           "lakecolor": "white",
           "landcolor": "#E5ECF6",
           "showlakes": true,
           "showland": true,
           "subunitcolor": "white"
          },
          "hoverlabel": {
           "align": "left"
          },
          "hovermode": "closest",
          "mapbox": {
           "style": "light"
          },
          "paper_bgcolor": "white",
          "plot_bgcolor": "#E5ECF6",
          "polar": {
           "angularaxis": {
            "gridcolor": "white",
            "linecolor": "white",
            "ticks": ""
           },
           "bgcolor": "#E5ECF6",
           "radialaxis": {
            "gridcolor": "white",
            "linecolor": "white",
            "ticks": ""
           }
          },
          "scene": {
           "xaxis": {
            "backgroundcolor": "#E5ECF6",
            "gridcolor": "white",
            "gridwidth": 2,
            "linecolor": "white",
            "showbackground": true,
            "ticks": "",
            "zerolinecolor": "white"
           },
           "yaxis": {
            "backgroundcolor": "#E5ECF6",
            "gridcolor": "white",
            "gridwidth": 2,
            "linecolor": "white",
            "showbackground": true,
            "ticks": "",
            "zerolinecolor": "white"
           },
           "zaxis": {
            "backgroundcolor": "#E5ECF6",
            "gridcolor": "white",
            "gridwidth": 2,
            "linecolor": "white",
            "showbackground": true,
            "ticks": "",
            "zerolinecolor": "white"
           }
          },
          "shapedefaults": {
           "line": {
            "color": "#2a3f5f"
           }
          },
          "ternary": {
           "aaxis": {
            "gridcolor": "white",
            "linecolor": "white",
            "ticks": ""
           },
           "baxis": {
            "gridcolor": "white",
            "linecolor": "white",
            "ticks": ""
           },
           "bgcolor": "#E5ECF6",
           "caxis": {
            "gridcolor": "white",
            "linecolor": "white",
            "ticks": ""
           }
          },
          "title": {
           "x": 0.05
          },
          "xaxis": {
           "automargin": true,
           "gridcolor": "white",
           "linecolor": "white",
           "ticks": "",
           "title": {
            "standoff": 15
           },
           "zerolinecolor": "white",
           "zerolinewidth": 2
          },
          "yaxis": {
           "automargin": true,
           "gridcolor": "white",
           "linecolor": "white",
           "ticks": "",
           "title": {
            "standoff": 15
           },
           "zerolinecolor": "white",
           "zerolinewidth": 2
          }
         }
        },
        "title": {
         "text": "Статистика по выздоровевшим за неделю",
         "x": 0.5,
         "xanchor": "center",
         "y": 0.9,
         "yanchor": "top"
        },
        "width": 990,
        "xaxis": {
         "title": {
          "text": "Выздоровевшие"
         }
        },
        "yaxis": {
         "title": {
          "text": "Регионы"
         }
        }
       }
      }
     },
     "metadata": {}
    }
   ],
   "source": [
    "\n",
    "cols = list(new_df2.columns)\n",
    "#cols = cols[:-1]\n",
    "\n",
    "fig = go.Figure()\n",
    "for i in cols:\n",
    "    fig.add_trace(\n",
    "    go.Box(x=new_df2[i],name = i,boxmean=True,marker_color = color_dict.get(i)))\n",
    "\n",
    "fig.update_layout(title_text=\"Статистика по выздоровевшим за неделю\",\n",
    "                  title_x = 0.5,\n",
    "                  title_y= 0.9,\n",
    "                  title_xanchor = \"center\",\n",
    "                  title_yanchor = \"top\",\n",
    "                  xaxis_title='Выздоровевшие', yaxis_title='Регионы',width = 990, height = 600)\n",
    "fig.show()"
   ]
  },
  {
   "cell_type": "code",
   "execution_count": 35,
   "metadata": {},
   "outputs": [
    {
     "output_type": "display_data",
     "data": {
      "application/vnd.plotly.v1+json": {
       "config": {
        "plotlyServerURL": "https://plot.ly"
       },
       "data": [
        {
         "boxmean": true,
         "marker": {
          "color": "magenta"
         },
         "name": "Бразилия",
         "type": "box",
         "x": [
          25800,
          16641,
          51603,
          57152,
          53139,
          50230,
          49970,
          23010
         ],
         "xaxis": "x",
         "yaxis": "y"
        },
        {
         "boxmean": true,
         "marker": {
          "color": "darkblue"
         },
         "name": "Великобритания",
         "type": "box",
         "x": [
          747,
          942,
          675,
          906,
          964,
          900,
          765,
          1113
         ],
         "xaxis": "x",
         "yaxis": "y"
        },
        {
         "boxmean": true,
         "marker": {
          "color": "goldenrod"
         },
         "name": "Индия",
         "type": "box",
         "x": [
          52972,
          52050,
          52509,
          56282,
          62538,
          61537,
          64399,
          62064
         ],
         "xaxis": "x",
         "yaxis": "y"
        },
        {
         "boxmean": true,
         "marker": {
          "color": "green"
         },
         "name": "Россия",
         "type": "box",
         "x": [
          5387,
          5364,
          5121,
          5186,
          5239,
          5191,
          5185,
          5155
         ],
         "xaxis": "x",
         "yaxis": "y"
        },
        {
         "boxmean": true,
         "marker": {
          "color": "red"
         },
         "name": "США",
         "type": "box",
         "x": [
          47580,
          45368,
          57540,
          52810,
          59692,
          58173,
          56174,
          46935
         ],
         "xaxis": "x",
         "yaxis": "y"
        },
        {
         "boxmean": true,
         "marker": {
          "color": "magenta"
         },
         "name": "Бразилия",
         "type": "box",
         "x": [
          24894,
          36100,
          58508,
          32877,
          40181,
          41757,
          49238,
          35446
         ],
         "xaxis": "x2",
         "yaxis": "y2"
        },
        {
         "boxmean": true,
         "marker": {
          "color": "darkblue"
         },
         "name": "Великобритания",
         "type": "box",
         "x": [
          3,
          1,
          0,
          1,
          1,
          0,
          2,
          2
         ],
         "xaxis": "x2",
         "yaxis": "y2"
        },
        {
         "boxmean": true,
         "marker": {
          "color": "goldenrod"
         },
         "name": "Индия",
         "type": "box",
         "x": [
          40574,
          44306,
          51706,
          46121,
          49769,
          48900,
          53879,
          54859
         ],
         "xaxis": "x2",
         "yaxis": "y2"
        },
        {
         "boxmean": true,
         "marker": {
          "color": "green"
         },
         "name": "Россия",
         "type": "box",
         "x": [
          3645,
          3411,
          7863,
          7534,
          7300,
          7209,
          6578,
          3203
         ],
         "xaxis": "x2",
         "yaxis": "y2"
        },
        {
         "boxmean": true,
         "marker": {
          "color": "red"
         },
         "name": "США",
         "type": "box",
         "x": [
          6804,
          44757,
          15533,
          48872,
          20773,
          25246,
          19248,
          13746
         ],
         "xaxis": "x2",
         "yaxis": "y2"
        }
       ],
       "layout": {
        "annotations": [
         {
          "font": {
           "size": 16
          },
          "showarrow": false,
          "text": "Box-график распределения по новым заболевшим(в день) за неделю:",
          "x": 0.5,
          "xanchor": "center",
          "xref": "paper",
          "y": 1,
          "yanchor": "bottom",
          "yref": "paper"
         },
         {
          "font": {
           "size": 16
          },
          "showarrow": false,
          "text": "Box-график распределения по выздоровевшим(в день) за неделю:",
          "x": 0.5,
          "xanchor": "center",
          "xref": "paper",
          "y": 0.485,
          "yanchor": "bottom",
          "yref": "paper"
         }
        ],
        "height": 1200,
        "showlegend": false,
        "template": {
         "data": {
          "bar": [
           {
            "error_x": {
             "color": "rgb(51,51,51)"
            },
            "error_y": {
             "color": "rgb(51,51,51)"
            },
            "marker": {
             "line": {
              "color": "rgb(237,237,237)",
              "width": 0.5
             }
            },
            "type": "bar"
           }
          ],
          "barpolar": [
           {
            "marker": {
             "line": {
              "color": "rgb(237,237,237)",
              "width": 0.5
             }
            },
            "type": "barpolar"
           }
          ],
          "carpet": [
           {
            "aaxis": {
             "endlinecolor": "rgb(51,51,51)",
             "gridcolor": "white",
             "linecolor": "white",
             "minorgridcolor": "white",
             "startlinecolor": "rgb(51,51,51)"
            },
            "baxis": {
             "endlinecolor": "rgb(51,51,51)",
             "gridcolor": "white",
             "linecolor": "white",
             "minorgridcolor": "white",
             "startlinecolor": "rgb(51,51,51)"
            },
            "type": "carpet"
           }
          ],
          "choropleth": [
           {
            "colorbar": {
             "outlinewidth": 0,
             "tickcolor": "rgb(237,237,237)",
             "ticklen": 6,
             "ticks": "inside"
            },
            "type": "choropleth"
           }
          ],
          "contour": [
           {
            "colorbar": {
             "outlinewidth": 0,
             "tickcolor": "rgb(237,237,237)",
             "ticklen": 6,
             "ticks": "inside"
            },
            "colorscale": [
             [
              0,
              "rgb(20,44,66)"
             ],
             [
              1,
              "rgb(90,179,244)"
             ]
            ],
            "type": "contour"
           }
          ],
          "contourcarpet": [
           {
            "colorbar": {
             "outlinewidth": 0,
             "tickcolor": "rgb(237,237,237)",
             "ticklen": 6,
             "ticks": "inside"
            },
            "type": "contourcarpet"
           }
          ],
          "heatmap": [
           {
            "colorbar": {
             "outlinewidth": 0,
             "tickcolor": "rgb(237,237,237)",
             "ticklen": 6,
             "ticks": "inside"
            },
            "colorscale": [
             [
              0,
              "rgb(20,44,66)"
             ],
             [
              1,
              "rgb(90,179,244)"
             ]
            ],
            "type": "heatmap"
           }
          ],
          "heatmapgl": [
           {
            "colorbar": {
             "outlinewidth": 0,
             "tickcolor": "rgb(237,237,237)",
             "ticklen": 6,
             "ticks": "inside"
            },
            "colorscale": [
             [
              0,
              "rgb(20,44,66)"
             ],
             [
              1,
              "rgb(90,179,244)"
             ]
            ],
            "type": "heatmapgl"
           }
          ],
          "histogram": [
           {
            "marker": {
             "colorbar": {
              "outlinewidth": 0,
              "tickcolor": "rgb(237,237,237)",
              "ticklen": 6,
              "ticks": "inside"
             }
            },
            "type": "histogram"
           }
          ],
          "histogram2d": [
           {
            "colorbar": {
             "outlinewidth": 0,
             "tickcolor": "rgb(237,237,237)",
             "ticklen": 6,
             "ticks": "inside"
            },
            "colorscale": [
             [
              0,
              "rgb(20,44,66)"
             ],
             [
              1,
              "rgb(90,179,244)"
             ]
            ],
            "type": "histogram2d"
           }
          ],
          "histogram2dcontour": [
           {
            "colorbar": {
             "outlinewidth": 0,
             "tickcolor": "rgb(237,237,237)",
             "ticklen": 6,
             "ticks": "inside"
            },
            "colorscale": [
             [
              0,
              "rgb(20,44,66)"
             ],
             [
              1,
              "rgb(90,179,244)"
             ]
            ],
            "type": "histogram2dcontour"
           }
          ],
          "mesh3d": [
           {
            "colorbar": {
             "outlinewidth": 0,
             "tickcolor": "rgb(237,237,237)",
             "ticklen": 6,
             "ticks": "inside"
            },
            "type": "mesh3d"
           }
          ],
          "parcoords": [
           {
            "line": {
             "colorbar": {
              "outlinewidth": 0,
              "tickcolor": "rgb(237,237,237)",
              "ticklen": 6,
              "ticks": "inside"
             }
            },
            "type": "parcoords"
           }
          ],
          "pie": [
           {
            "automargin": true,
            "type": "pie"
           }
          ],
          "scatter": [
           {
            "marker": {
             "colorbar": {
              "outlinewidth": 0,
              "tickcolor": "rgb(237,237,237)",
              "ticklen": 6,
              "ticks": "inside"
             }
            },
            "type": "scatter"
           }
          ],
          "scatter3d": [
           {
            "line": {
             "colorbar": {
              "outlinewidth": 0,
              "tickcolor": "rgb(237,237,237)",
              "ticklen": 6,
              "ticks": "inside"
             }
            },
            "marker": {
             "colorbar": {
              "outlinewidth": 0,
              "tickcolor": "rgb(237,237,237)",
              "ticklen": 6,
              "ticks": "inside"
             }
            },
            "type": "scatter3d"
           }
          ],
          "scattercarpet": [
           {
            "marker": {
             "colorbar": {
              "outlinewidth": 0,
              "tickcolor": "rgb(237,237,237)",
              "ticklen": 6,
              "ticks": "inside"
             }
            },
            "type": "scattercarpet"
           }
          ],
          "scattergeo": [
           {
            "marker": {
             "colorbar": {
              "outlinewidth": 0,
              "tickcolor": "rgb(237,237,237)",
              "ticklen": 6,
              "ticks": "inside"
             }
            },
            "type": "scattergeo"
           }
          ],
          "scattergl": [
           {
            "marker": {
             "colorbar": {
              "outlinewidth": 0,
              "tickcolor": "rgb(237,237,237)",
              "ticklen": 6,
              "ticks": "inside"
             }
            },
            "type": "scattergl"
           }
          ],
          "scattermapbox": [
           {
            "marker": {
             "colorbar": {
              "outlinewidth": 0,
              "tickcolor": "rgb(237,237,237)",
              "ticklen": 6,
              "ticks": "inside"
             }
            },
            "type": "scattermapbox"
           }
          ],
          "scatterpolar": [
           {
            "marker": {
             "colorbar": {
              "outlinewidth": 0,
              "tickcolor": "rgb(237,237,237)",
              "ticklen": 6,
              "ticks": "inside"
             }
            },
            "type": "scatterpolar"
           }
          ],
          "scatterpolargl": [
           {
            "marker": {
             "colorbar": {
              "outlinewidth": 0,
              "tickcolor": "rgb(237,237,237)",
              "ticklen": 6,
              "ticks": "inside"
             }
            },
            "type": "scatterpolargl"
           }
          ],
          "scatterternary": [
           {
            "marker": {
             "colorbar": {
              "outlinewidth": 0,
              "tickcolor": "rgb(237,237,237)",
              "ticklen": 6,
              "ticks": "inside"
             }
            },
            "type": "scatterternary"
           }
          ],
          "surface": [
           {
            "colorbar": {
             "outlinewidth": 0,
             "tickcolor": "rgb(237,237,237)",
             "ticklen": 6,
             "ticks": "inside"
            },
            "colorscale": [
             [
              0,
              "rgb(20,44,66)"
             ],
             [
              1,
              "rgb(90,179,244)"
             ]
            ],
            "type": "surface"
           }
          ],
          "table": [
           {
            "cells": {
             "fill": {
              "color": "rgb(237,237,237)"
             },
             "line": {
              "color": "white"
             }
            },
            "header": {
             "fill": {
              "color": "rgb(217,217,217)"
             },
             "line": {
              "color": "white"
             }
            },
            "type": "table"
           }
          ]
         },
         "layout": {
          "annotationdefaults": {
           "arrowhead": 0,
           "arrowwidth": 1
          },
          "coloraxis": {
           "colorbar": {
            "outlinewidth": 0,
            "tickcolor": "rgb(237,237,237)",
            "ticklen": 6,
            "ticks": "inside"
           }
          },
          "colorscale": {
           "sequential": [
            [
             0,
             "rgb(20,44,66)"
            ],
            [
             1,
             "rgb(90,179,244)"
            ]
           ],
           "sequentialminus": [
            [
             0,
             "rgb(20,44,66)"
            ],
            [
             1,
             "rgb(90,179,244)"
            ]
           ]
          },
          "colorway": [
           "#F8766D",
           "#A3A500",
           "#00BF7D",
           "#00B0F6",
           "#E76BF3"
          ],
          "font": {
           "color": "rgb(51,51,51)"
          },
          "geo": {
           "bgcolor": "white",
           "lakecolor": "white",
           "landcolor": "rgb(237,237,237)",
           "showlakes": true,
           "showland": true,
           "subunitcolor": "white"
          },
          "hoverlabel": {
           "align": "left"
          },
          "hovermode": "closest",
          "paper_bgcolor": "white",
          "plot_bgcolor": "rgb(237,237,237)",
          "polar": {
           "angularaxis": {
            "gridcolor": "white",
            "linecolor": "white",
            "showgrid": true,
            "tickcolor": "rgb(51,51,51)",
            "ticks": "outside"
           },
           "bgcolor": "rgb(237,237,237)",
           "radialaxis": {
            "gridcolor": "white",
            "linecolor": "white",
            "showgrid": true,
            "tickcolor": "rgb(51,51,51)",
            "ticks": "outside"
           }
          },
          "scene": {
           "xaxis": {
            "backgroundcolor": "rgb(237,237,237)",
            "gridcolor": "white",
            "gridwidth": 2,
            "linecolor": "white",
            "showbackground": true,
            "showgrid": true,
            "tickcolor": "rgb(51,51,51)",
            "ticks": "outside",
            "zerolinecolor": "white"
           },
           "yaxis": {
            "backgroundcolor": "rgb(237,237,237)",
            "gridcolor": "white",
            "gridwidth": 2,
            "linecolor": "white",
            "showbackground": true,
            "showgrid": true,
            "tickcolor": "rgb(51,51,51)",
            "ticks": "outside",
            "zerolinecolor": "white"
           },
           "zaxis": {
            "backgroundcolor": "rgb(237,237,237)",
            "gridcolor": "white",
            "gridwidth": 2,
            "linecolor": "white",
            "showbackground": true,
            "showgrid": true,
            "tickcolor": "rgb(51,51,51)",
            "ticks": "outside",
            "zerolinecolor": "white"
           }
          },
          "shapedefaults": {
           "fillcolor": "black",
           "line": {
            "width": 0
           },
           "opacity": 0.3
          },
          "ternary": {
           "aaxis": {
            "gridcolor": "white",
            "linecolor": "white",
            "showgrid": true,
            "tickcolor": "rgb(51,51,51)",
            "ticks": "outside"
           },
           "baxis": {
            "gridcolor": "white",
            "linecolor": "white",
            "showgrid": true,
            "tickcolor": "rgb(51,51,51)",
            "ticks": "outside"
           },
           "bgcolor": "rgb(237,237,237)",
           "caxis": {
            "gridcolor": "white",
            "linecolor": "white",
            "showgrid": true,
            "tickcolor": "rgb(51,51,51)",
            "ticks": "outside"
           }
          },
          "xaxis": {
           "automargin": true,
           "gridcolor": "white",
           "linecolor": "white",
           "showgrid": true,
           "tickcolor": "rgb(51,51,51)",
           "ticks": "outside",
           "title": {
            "standoff": 15
           },
           "zerolinecolor": "white"
          },
          "yaxis": {
           "automargin": true,
           "gridcolor": "white",
           "linecolor": "white",
           "showgrid": true,
           "tickcolor": "rgb(51,51,51)",
           "ticks": "outside",
           "title": {
            "standoff": 15
           },
           "zerolinecolor": "white"
          }
         }
        },
        "width": 990,
        "xaxis": {
         "anchor": "y",
         "domain": [
          0,
          1
         ],
         "matches": "x2",
         "showticklabels": false
        },
        "xaxis2": {
         "anchor": "y2",
         "domain": [
          0,
          1
         ]
        },
        "yaxis": {
         "anchor": "x",
         "domain": [
          0.515,
          1
         ]
        },
        "yaxis2": {
         "anchor": "x2",
         "domain": [
          0,
          0.485
         ]
        }
       }
      }
     },
     "metadata": {}
    }
   ],
   "source": [
    "from plotly.subplots import make_subplots\n",
    "\n",
    "# fig = tools.make_subplots(rows = 1, cols = 2, specs = [[{}, {}]],\n",
    "#                           horizontal_spacing = 0.05)\n",
    "\n",
    "\n",
    "fig = make_subplots(rows=2, cols=1,specs = [[{}],[{}]],vertical_spacing = 0.03,shared_xaxes=True,\n",
    "                  subplot_titles=(\"Box-график распределения по новым заболевшим(в день) за неделю:\",\n",
    "                                 \"Box-график распределения по выздоровевшим(в день) за неделю:\"))\n",
    "#subplot_titles=(\"Статистика по новым заболевшим за последние 2 недели\",\"Статистика по выздоровевшим за последние 2 недели\")\n",
    "\n",
    "for i in cols:\n",
    "    fig.add_trace(\n",
    "    go.Box(x=new_df1[i],name = i,boxmean = True,marker_color = color_dict.get(i)),row=1,col=1)\n",
    "\n",
    "for i in cols:\n",
    "    fig.add_trace(\n",
    "    go.Box(x=new_df2[i],name = i,boxmean=True,marker_color = color_dict.get(i)),row=2,col=1)\n",
    "\n",
    "\n",
    "fig.update_layout(\n",
    "#     annotations=[\n",
    "#         dict(\n",
    "#             x=0.5,\n",
    "#             y=-0.15,\n",
    "#             showarrow=False,\n",
    "#             text=\"Ветикальная пунктирная линия - среднее, Вертикальная сплошная - медиана распоеделения\",\n",
    "#             xref=\"paper\",\n",
    "#             yref=\"paper\"),\n",
    "        \n",
    "#                 ],\n",
    "    \n",
    "    \n",
    "                  width = 990, height = 1200,\n",
    "    \n",
    "    \n",
    "                 showlegend=False,template ='ggplot2'\n",
    ")\n",
    "\n",
    "#fig.update_layout(height=1000, width=800,showlegend=False)\n",
    "fig.show()"
   ]
  },
  {
   "cell_type": "code",
   "execution_count": null,
   "metadata": {},
   "outputs": [],
   "source": []
  },
  {
   "cell_type": "code",
   "execution_count": null,
   "metadata": {},
   "outputs": [],
   "source": []
  }
 ],
 "metadata": {
  "kernelspec": {
   "display_name": "Python 3.7.7 64-bit ('vit1': conda)",
   "language": "python",
   "name": "python_defaultSpec_1597069870288"
  },
  "language_info": {
   "codemirror_mode": {
    "name": "ipython",
    "version": 3
   },
   "file_extension": ".py",
   "mimetype": "text/x-python",
   "name": "python",
   "nbconvert_exporter": "python",
   "pygments_lexer": "ipython3",
   "version": "3.7.7-final"
  }
 },
 "nbformat": 4,
 "nbformat_minor": 4
}